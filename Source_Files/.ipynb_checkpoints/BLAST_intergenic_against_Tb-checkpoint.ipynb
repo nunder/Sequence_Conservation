{
 "cells": [
  {
   "cell_type": "markdown",
   "id": "eef24ce4-4729-44b6-8d43-fbdf47b9033a",
   "metadata": {
    "tags": []
   },
   "source": [
    "##### Set up packages and directories"
   ]
  },
  {
   "cell_type": "code",
   "execution_count": 1,
   "id": "05aa9444-1c5a-4aa9-857a-4c640c89d19f",
   "metadata": {
    "tags": []
   },
   "outputs": [],
   "source": [
    "full_run = True"
   ]
  },
  {
   "cell_type": "code",
   "execution_count": 4,
   "id": "e471e9d2-ea1c-4bbb-b2a7-9e8d7ff9e003",
   "metadata": {
    "tags": []
   },
   "outputs": [],
   "source": [
    "import pandas as pd\n",
    "pd.options.mode.chained_assignment = None  # default='warn'\n",
    "import pickle\n",
    "import seaborn as sns\n",
    "import matplotlib.pyplot as plt\n",
    "import numpy as np\n",
    "from scipy.fft import fft, fftfreq\n",
    "from Bio import Entrez, SeqIO, AlignIO, pairwise2, Align, Seq, motifs\n",
    "from Bio.Seq import Seq\n",
    "from Bio.SeqFeature import SeqFeature, FeatureLocation\n",
    "from scipy.stats import binom\n",
    "import math\n",
    "from tqdm.auto import tqdm\n",
    "from Comparative_Analysis import Sequence_Analysis_Routines as sar\n",
    "from Comparative_Analysis import Utilities as util\n",
    "from Comparative_Analysis import Alignment as align\n",
    "from Comparative_Analysis import ORF_Functions as orffn\n",
    "import random\n",
    "import copy\n",
    "from joblib import Parallel, delayed\n",
    "import os\n",
    "import subprocess\n",
    "from Bio.Blast import NCBIWWW, NCBIXML\n",
    "from Bio.Align.Applications import MuscleCommandline\n",
    "muscle_exe = 'C:/Users/nicho/Muscle/muscle3.8.31_i86win32.exe'"
   ]
  },
  {
   "cell_type": "code",
   "execution_count": 5,
   "id": "1988a242-f558-4643-b3a9-27272fa7bebc",
   "metadata": {},
   "outputs": [],
   "source": [
    "project_dir = 'F:/Project_Data/Project_10'\n",
    "literature_datasets_dir = 'F:/Datasets/Data_From_Publications'\n",
    "output_dir = project_dir + '/Output'\n",
    "refseq_dir = 'F:/Datasets/NCBI_Refseq_Mycobacteriaceae_All_Levels/ncbi_dataset/data'\n",
    "num_cores = 8\n",
    "core_numbers = list(range(1, num_cores+1))"
   ]
  },
  {
   "cell_type": "code",
   "execution_count": 6,
   "id": "abef54a8-1fd0-4a05-94de-bc9e2f647844",
   "metadata": {},
   "outputs": [],
   "source": [
    "reference_species = 'GCF_000195955.2'"
   ]
  },
  {
   "cell_type": "code",
   "execution_count": 19,
   "id": "d28dd1c4-f549-4def-ad3f-c426ff24c022",
   "metadata": {},
   "outputs": [],
   "source": [
    "min_nts = 30"
   ]
  },
  {
   "cell_type": "code",
   "execution_count": 11,
   "id": "529ce8aa-9d0d-44d7-9106-97be97ad9ee9",
   "metadata": {},
   "outputs": [
    {
     "name": "stderr",
     "output_type": "stream",
     "text": [
      "100%|██████████| 1/1 [00:00<00:00, 14.82it/s]\n"
     ]
    }
   ],
   "source": [
    "for record in SeqIO.parse(refseq_dir + '/'+reference_species+'/genomic.gbff', \"genbank\"):\n",
    "    accession_ver = record.annotations['accessions'][0] + '.' + str(record.annotations['sequence_version'])\n",
    "    full_sequence = str(record.seq)\n",
    "util.produce_fasta_file([[accession_ver, full_sequence]], project_dir + '/full_tb_sequence.fasta')"
   ]
  },
  {
   "cell_type": "code",
   "execution_count": 17,
   "id": "025c8300-be01-44db-8b4c-3d46b34b266a",
   "metadata": {},
   "outputs": [],
   "source": [
    "tb_loci = []\n",
    "for record in SeqIO.parse(refseq_dir + '/'+reference_species+'/genomic.gbff', \"genbank\"):\n",
    "    for feature in record.features:\n",
    "            a = feature.qualifiers\n",
    "            if feature.type == 'CDS':\n",
    "                tb_loci.append((a.get(\"locus_tag\")[0], int(feature.location.start), int(feature.location.end), int(feature.location.strand)))\n",
    "tb_loci.sort(key = lambda x: x[1])"
   ]
  },
  {
   "cell_type": "code",
   "execution_count": 20,
   "id": "89424ac8-7e03-4ffe-b236-04ed86c3a434",
   "metadata": {},
   "outputs": [],
   "source": [
    "intergenic_regions = []\n",
    "max_stop = 0\n",
    "for (locus, start, stop, strand) in tb_loci:\n",
    "    if start > max_stop + min_nts:\n",
    "        intergenic_regions.append([str(max_stop)+'_'+str(start), full_sequence[max_stop: start]])\n",
    "    max_stop = max(max_stop, stop)"
   ]
  },
  {
   "cell_type": "code",
   "execution_count": 22,
   "id": "c47c727c-effd-4798-98a0-a95598e1e39c",
   "metadata": {},
   "outputs": [
    {
     "name": "stderr",
     "output_type": "stream",
     "text": [
      "100%|██████████| 2190/2190 [00:00<00:00, 71435.44it/s]\n"
     ]
    }
   ],
   "source": [
    "util.produce_fasta_file(intergenic_regions, project_dir + '/tb_intergenic_regions.faa')"
   ]
  },
  {
   "cell_type": "code",
   "execution_count": 9,
   "id": "5ffbf2e6-27c3-4e8d-b8d9-e941cc79e88f",
   "metadata": {},
   "outputs": [],
   "source": [
    "min_nts = 30"
   ]
  },
  {
   "cell_type": "markdown",
   "id": "075ef9e8-e455-4ec3-b342-29749e142d86",
   "metadata": {
    "tags": []
   },
   "source": [
    "##### Extract full sequences from each organism and create directory of start and stops for each annotated cds (use Mycobrowser for MTb)"
   ]
  },
  {
   "cell_type": "markdown",
   "id": "2c5fe6a4-dcf0-4b12-9257-c73f35691298",
   "metadata": {},
   "source": [
    "##### Create blast databases"
   ]
  },
  {
   "cell_type": "code",
   "execution_count": 12,
   "id": "7cf8fedc-abfd-41b4-a82e-3ccaf8902e8b",
   "metadata": {},
   "outputs": [],
   "source": [
    "if full_run == True:\n",
    "    w_d = os.getcwd()\n",
    "    os.chdir(\"F:/\")\n",
    "    subprocess.run('cd '+ project_dir + ' &  makeblastdb -in full_tb_sequence.fasta -dbtype nucl -out full_tb_sequence_nt', shell=True, capture_output = True)\n",
    "    os.chdir(w_d)"
   ]
  },
  {
   "cell_type": "code",
   "execution_count": null,
   "id": "2b1565b0-47b3-476f-888c-3cf5156e8dfa",
   "metadata": {},
   "outputs": [],
   "source": [
    "if full_run == True:\n",
    "    w_d = os.getcwd()\n",
    "    os.chdir(\"F:/\")\n",
    "    subprocess.run('cd f:\\\\Datasets\\\\BLAST\\\\full_tb_sequence_nt & blastn -query tb_intergenic_regions.faa -db full_tb_sequence_nt -out intergenic_mtb_mtb_hits.csv -evalue 1e-7 -seg no -outfmt  \"10 qaccver saccver qlen slen pident length mismatch gapopen qstart qend sstart send evalue bitscore\" -num_threads 16', shell=True, capture_output = True)\n",
    "    os.chdir(w_d)"
   ]
  },
  {
   "cell_type": "code",
   "execution_count": null,
   "id": "a818351f-35c4-44e9-a9af-c0811299b931",
   "metadata": {},
   "outputs": [],
   "source": []
  }
 ],
 "metadata": {
  "kernelspec": {
   "display_name": "Python 3 (ipykernel)",
   "language": "python",
   "name": "python3"
  },
  "language_info": {
   "codemirror_mode": {
    "name": "ipython",
    "version": 3
   },
   "file_extension": ".py",
   "mimetype": "text/x-python",
   "name": "python",
   "nbconvert_exporter": "python",
   "pygments_lexer": "ipython3",
   "version": "3.9.7"
  }
 },
 "nbformat": 4,
 "nbformat_minor": 5
}
