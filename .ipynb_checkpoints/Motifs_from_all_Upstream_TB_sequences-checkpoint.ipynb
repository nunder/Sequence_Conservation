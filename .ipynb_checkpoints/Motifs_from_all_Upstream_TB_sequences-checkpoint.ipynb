{
 "cells": [
  {
   "cell_type": "markdown",
   "id": "b1e30ed4-8a0e-4a6f-96eb-dfe116dfb2de",
   "metadata": {},
   "source": [
    "#### Import packages, set directories and parameters"
   ]
  },
  {
   "cell_type": "code",
   "execution_count": 2,
   "id": "cf9c6377-5080-4c22-94db-feabe17cc47c",
   "metadata": {},
   "outputs": [],
   "source": [
    "import pandas as pd\n",
    "import pickle\n",
    "import seaborn as sns\n",
    "import matplotlib.pyplot as plt\n",
    "import numpy as np\n",
    "from Bio import Entrez, SeqIO, AlignIO, pairwise2, Align, Seq, motifs\n",
    "from Bio.Seq import Seq\n",
    "from Bio.SeqFeature import SeqFeature, FeatureLocation\n",
    "import math\n",
    "from tqdm import tqdm\n",
    "from Comparative_Analysis import Utilities as util\n",
    "from joblib import Parallel, delayed\n",
    "from Comparative_Analysis import Blast_Functions as blastfn\n",
    "import time\n",
    "import os\n",
    "import copy\n",
    "from scipy.stats import chi2, binom\n",
    "from Comparative_Analysis import Alignment as alignfn\n",
    "from Bio.Align.Applications import MuscleCommandline\n",
    "import subprocess\n",
    "pd.options.mode.chained_assignment = None  # default='warn'"
   ]
  },
  {
   "cell_type": "code",
   "execution_count": 3,
   "id": "79c1ca3d-a68f-4a9d-a5c4-25df7385b3ad",
   "metadata": {},
   "outputs": [],
   "source": [
    "project_dir = 'F:/Project_Data/MITE_Project'\n",
    "mycobacteria_seq_dir = 'F:/Datasets/NCBI_Refseq_Mycobacteriaceae_Complete_Annot_20230511/data'\n",
    "actinobacteria_seq_dir = 'F:/Datasets/NCBI_Refseq_Actinomycetes_Complete_Annot_20230511/data'\n",
    "tb_species = 'AL123456.3' \n",
    "tb_annotation_dirname = 'GCA_000195955.2'\n",
    "min_region_length = 7 \n",
    "full_build = False\n",
    "num_cores = 16\n",
    "core_numbers = list(range(1, num_cores+1))\n",
    "muscle_exe = 'C:/Users/nicho/Muscle/muscle3.8.31_i86win32.exe'\n",
    "full_run = True"
   ]
  },
  {
   "cell_type": "code",
   "execution_count": 4,
   "id": "f3bcbac1-03df-43f0-813e-0ca8f97a28bc",
   "metadata": {},
   "outputs": [],
   "source": [
    "mycobacteria_dirs = []\n",
    "for dir in util.list_dirs(mycobacteria_seq_dir):\n",
    "    if os.path.exists(mycobacteria_seq_dir + '/' + dir + '/genomic.gbff'):\n",
    "        mycobacteria_dirs.append(dir)"
   ]
  },
  {
   "cell_type": "code",
   "execution_count": 5,
   "id": "161765c6-2dbb-4994-9fe0-5df9f817a1b3",
   "metadata": {},
   "outputs": [],
   "source": [
    "actinobacteria_dirs = []\n",
    "for dir in util.list_dirs(actinobacteria_seq_dir):\n",
    "    if os.path.exists(actinobacteria_seq_dir + '/' + dir + '/genomic.gbff'):\n",
    "        actinobacteria_dirs.append(dir)"
   ]
  },
  {
   "cell_type": "code",
   "execution_count": 6,
   "id": "98d6cb4b-f436-4866-8be5-fa1232f4d8dc",
   "metadata": {},
   "outputs": [],
   "source": [
    "tb_mycobacteria_rbh = pd.read_csv(project_dir + '/tb_mycobacteria_reciprocal_best_hits.csv')"
   ]
  },
  {
   "cell_type": "code",
   "execution_count": 7,
   "id": "63f58a21-4009-4b7e-b289-7766b64797b1",
   "metadata": {},
   "outputs": [],
   "source": [
    "names_dict = {}\n",
    "dirname_dict = {}\n",
    "for dirname in (mycobacteria_dirs):\n",
    "        for genome_record in SeqIO.parse(mycobacteria_seq_dir + '/' + dirname + '/genomic.gbff', \"genbank\"):\n",
    "            accession_ver = genome_record.annotations['accessions'][0] + '.' + str(genome_record.annotations['sequence_version'])\n",
    "            names_dict[accession_ver] = genome_record.annotations['organism']\n",
    "        dirname_dict[dirname] = genome_record.annotations['organism']"
   ]
  },
  {
   "cell_type": "code",
   "execution_count": 8,
   "id": "8e79089d-e833-4b2c-9d19-54875fb3525e",
   "metadata": {},
   "outputs": [],
   "source": [
    "def reverse_complement(seq_string):\n",
    "    temp = []\n",
    "    for char in reversed(seq_string):\n",
    "        if char == 'A':\n",
    "            comp = 'T'\n",
    "        elif char == 'T':\n",
    "            comp = 'A'\n",
    "        elif char == 'C':\n",
    "            comp = 'G'\n",
    "        elif char == 'G':\n",
    "            comp = 'C'\n",
    "        else:\n",
    "            comp = char\n",
    "        temp.append(comp)\n",
    "    return ''.join(temp)"
   ]
  },
  {
   "cell_type": "markdown",
   "id": "8c997be0-04a1-4685-b8ba-67c71a3373c2",
   "metadata": {},
   "source": [
    "#### Lookup function to find orthologs in M.tb based on reciprocal best hit outputs from BLAST against mycobacterial reference sequences"
   ]
  },
  {
   "cell_type": "code",
   "execution_count": 9,
   "id": "270bbd3f-598e-428d-8b30-7d9fc6fc9a34",
   "metadata": {},
   "outputs": [],
   "source": [
    "def ortholog_in_mtb(accession_ver, locus):\n",
    "    gene = accession_ver + '@' + locus\n",
    "    temp = tb_mycobacteria_rbh.query('target_ref == @gene and query_species == @tb_species')\n",
    "    if len(temp) == 1:\n",
    "        for i, r in temp.iterrows():\n",
    "            temp2 = r['query_ref']\n",
    "            return temp2.split('@')[1]\n",
    "    else:\n",
    "        return 'No_orth'"
   ]
  },
  {
   "cell_type": "markdown",
   "id": "e687d1b4-31ac-4d5c-a571-d05535336de9",
   "metadata": {},
   "source": [
    "#### Produce reference FASTA files (a) TB and (b, c) all mycobacteria, actionobacteria for searching against motifs"
   ]
  },
  {
   "cell_type": "code",
   "execution_count": 9,
   "id": "2a34e5ee-8b1b-4a69-85e9-360339a0e3f2",
   "metadata": {},
   "outputs": [
    {
     "name": "stdout",
     "output_type": "stream",
     "text": [
      "4031\n"
     ]
    }
   ],
   "source": [
    "genome_record = next(SeqIO.parse(mycobacteria_seq_dir + '/' + tb_annotation_dirname + '/genomic.gbff', \"genbank\"))\n",
    "tot = 0\n",
    "for feature in genome_record.features:\n",
    "    a = feature.qualifiers\n",
    "    if feature.type not in ['source','gene'] and (int(feature.location.start) < int(feature.location.end)) and (int(feature.location.end) - int(feature.location.start)) < 1000000:\n",
    "        if feature.type == 'CDS':\n",
    "            tot+=1\n",
    "print(tot)"
   ]
  },
  {
   "cell_type": "code",
   "execution_count": 31,
   "id": "c78a8a2a-f363-48b7-a30e-8d4f0dbd81e0",
   "metadata": {},
   "outputs": [],
   "source": [
    "genome_record = next(SeqIO.parse(mycobacteria_seq_dir + '/' + tb_annotation_dirname + '/genomic.gbff', \"genbank\"))\n",
    "mtb_sequence = str(genome_record.seq)\n",
    "accession_ver = genome_record.annotations['accessions'][0] + '.' + str(genome_record.annotations['sequence_version'])\n",
    "util.produce_fasta_file([[accession_ver, mtb_sequence]], project_dir + '/mtb_seq')"
   ]
  },
  {
   "cell_type": "code",
   "execution_count": 12,
   "id": "7d173f9d-f5bd-49d4-8ae1-789fae6e2a51",
   "metadata": {},
   "outputs": [
    {
     "name": "stderr",
     "output_type": "stream",
     "text": [
      "100%|██████████| 135/135 [00:11<00:00, 11.83it/s]\n"
     ]
    }
   ],
   "source": [
    "if full_run == True:\n",
    "    temp = []\n",
    "    for dir in util.list_dirs(mycobacteria_seq_dir): \n",
    "        if os.path.exists(mycobacteria_seq_dir + '/' + dir + '/genomic.gbff'):\n",
    "            for genome_record in (SeqIO.parse(mycobacteria_seq_dir + '/' + dir + '/genomic.gbff', \"genbank\")):\n",
    "                accession_ver = genome_record.annotations['accessions'][0] + '.' + str(genome_record.annotations['sequence_version'])\n",
    "                full_sequence = str(genome_record.seq)\n",
    "                temp.append([accession_ver, full_sequence])\n",
    "    util.produce_fasta_file(temp, project_dir + '/all_seq')"
   ]
  },
  {
   "cell_type": "code",
   "execution_count": 38,
   "id": "d0d10d6d-10c8-49f5-9e7b-838f3fb960f2",
   "metadata": {},
   "outputs": [
    {
     "name": "stderr",
     "output_type": "stream",
     "text": [
      "100%|██████████| 900/900 [01:05<00:00, 13.66it/s]\n"
     ]
    }
   ],
   "source": [
    "if full_run == True:\n",
    "    temp = []\n",
    "    for dir in util.list_dirs(actinobacteria_seq_dir): \n",
    "        if os.path.exists(actinobacteria_seq_dir + '/' + dir + '/genomic.gbff'):\n",
    "            for genome_record in (SeqIO.parse(actinobacteria_seq_dir + '/' + dir + '/genomic.gbff', \"genbank\")):\n",
    "                accession_ver = genome_record.annotations['accessions'][0] + '.' + str(genome_record.annotations['sequence_version'])\n",
    "                full_sequence = str(genome_record.seq)\n",
    "                temp.append([accession_ver, full_sequence])\n",
    "    util.produce_fasta_file(temp, project_dir + '/all_actinobacteria_seq')"
   ]
  },
  {
   "cell_type": "markdown",
   "id": "50fbf555-1082-451c-827f-492e9f228f5b",
   "metadata": {
    "tags": []
   },
   "source": [
    "#### Functions to look up annotated region(s) to which gene co-ordinates correspond to in specified organism"
   ]
  },
  {
   "cell_type": "code",
   "execution_count": 10,
   "id": "be6df13d-3ee1-485b-b5c7-8d788256b55e",
   "metadata": {},
   "outputs": [],
   "source": [
    "def annotated_regions_dataset(num_subsets, subset_num, dir_list, seqdir, cds_only = False): \n",
    "    output = []\n",
    "    sequence_dirs = util.chunk_list(dir_list, num_subsets, subset_num)\n",
    "    for dirname in sequence_dirs:\n",
    "        annotated_regions = []\n",
    "        intergenic_regions = []\n",
    "        for record in (SeqIO.parse(seqdir + '/'+dirname+'/genomic.gbff', \"genbank\")):\n",
    "            accession_ver = record.annotations['accessions'][0] + '.' + str(record.annotations['sequence_version'])\n",
    "            for feature in record.features:\n",
    "                a = feature.qualifiers\n",
    "                if feature.type not in ['source','gene'] and (int(feature.location.start) < int(feature.location.end)) and (int(feature.location.end) - int(feature.location.start)) < 1000000:\n",
    "                    if cds_only == True and not(feature.type == 'CDS'):\n",
    "                        continue\n",
    "                    else:\n",
    "                        if not(a.get(\"product\") == None):\n",
    "                               product = a.get(\"product\")[0]\n",
    "                        else:\n",
    "                               product = ''\n",
    "                        if not(a.get(\"locus_tag\")==None):\n",
    "                            locus_tag = a.get(\"locus_tag\")[0]\n",
    "                        else:\n",
    "                            locus_tag = feature.type\n",
    "                        annotated_regions.append((locus_tag, product, feature.type, int(feature.location.start), int(feature.location.end), str(feature.location.strand)))\n",
    "            annotated_regions.sort(key = lambda x: x[4])\n",
    "            prev_strand = 0\n",
    "            prev_locus = ''\n",
    "            prev_product = ''\n",
    "            max_stop = 0\n",
    "            for n, (locus, product, feature_type, start, stop, strand) in enumerate(annotated_regions):\n",
    "                if start > max_stop:\n",
    "                    intergenic_regions.append([prev_locus+':'+locus, prev_product + ':' + product, 'Inter-feature',max_stop, start, str(prev_strand)+':'+str(strand)])\n",
    "                if stop > max_stop:\n",
    "                    prev_locus = locus\n",
    "                    prev_product = product\n",
    "                    prev_strand = strand\n",
    "                max_stop = max(max_stop, stop)    \n",
    "            for x in intergenic_regions:\n",
    "                annotated_regions.append(x)\n",
    "            annotated_regions.sort(key = lambda x : x[4])\n",
    "            output.append([accession_ver, annotated_regions])\n",
    "    return output"
   ]
  },
  {
   "cell_type": "code",
   "execution_count": 11,
   "id": "41cad641-7b47-4eff-b637-970c4593b41a",
   "metadata": {},
   "outputs": [],
   "source": [
    "parallel_output = Parallel(n_jobs=-1)(delayed(annotated_regions_dataset)(num_cores, core_number, mycobacteria_dirs, mycobacteria_seq_dir) for core_number in core_numbers)\n",
    "annotated_regions_dict = {}\n",
    "for x in parallel_output:\n",
    "    for y in x:\n",
    "        annotated_regions_dict[y[0]] = y[1]\n",
    "parallel_output = Parallel(n_jobs=-1)(delayed(annotated_regions_dataset)(num_cores, core_number, mycobacteria_dirs, mycobacteria_seq_dir, True) for core_number in core_numbers)\n",
    "cds_annotated_regions_dict = {}\n",
    "for x in parallel_output:\n",
    "    for y in x:\n",
    "        cds_annotated_regions_dict[y[0]] = y[1]"
   ]
  },
  {
   "cell_type": "code",
   "execution_count": 13,
   "id": "486e3d2c-4c89-4649-9e43-457a28c4a3e4",
   "metadata": {},
   "outputs": [],
   "source": [
    "def location(accession_ver, start1, end1, annotation_lookup_dictionary):\n",
    "    feature_matches = []\n",
    "    for (locus, product, feature, start, stop, strand) in annotation_lookup_dictionary[accession_ver]:\n",
    "            if start< end1 and stop > start1:\n",
    "                overlap = str(int(100*(min(end1, stop) - max(start1, start))/ (end1-start1)))+'%'\n",
    "                feature_matches.append([locus, product, feature, overlap, strand])\n",
    "    return feature_matches"
   ]
  },
  {
   "cell_type": "markdown",
   "id": "bd747b2c-841f-40e5-982d-45d812215121",
   "metadata": {},
   "source": [
    "#### Create dictionary of upstream sequences in mycobacteria dataset - sequence continue upstream to the next CDS not next feature (e.g. regions annotated as repeat regions would be included"
   ]
  },
  {
   "cell_type": "code",
   "execution_count": 14,
   "id": "88d4c9a3-0301-4492-a123-78ee275dd0ec",
   "metadata": {},
   "outputs": [],
   "source": [
    "def generate_upstream_sequence_dataset(num_subsets, subset_num, dir_list, seqdir, additional_offset = 0):     # Set additional offset = 3 if you want start codon of downstream CDS to be included - useful for alignment \n",
    "    sequence_dirs = util.chunk_list(dir_list, num_subsets, subset_num)\n",
    "    upstream_cds_regions = []\n",
    "    for dirname in (sequence_dirs):\n",
    "        all_features = []\n",
    "        cds_features = []\n",
    "        for genome_record in SeqIO.parse(mycobacteria_seq_dir + '/' + dirname + '/genomic.gbff', \"genbank\"):\n",
    "            accession_ver = genome_record.annotations['accessions'][0] + '.' + str(genome_record.annotations['sequence_version'])\n",
    "            full_sequence = str(genome_record.seq)\n",
    "            len_full_sequence = len(full_sequence)\n",
    "            for feature in genome_record.features:\n",
    "                if feature.type in ['gene', 'source']:\n",
    "                    continue\n",
    "                a = feature.qualifiers\n",
    "                feature_type = feature.type\n",
    "                if a.get(\"locus_tag\") != None:\n",
    "                    locus_tag = a.get(\"locus_tag\")[0]\n",
    "                    accession_locus = accession_ver + '@' + locus_tag\n",
    "                else:\n",
    "                    accession_locus  = ''\n",
    "                (start, stop, strand) = (int(feature.location.start), int(feature.location.end), int(feature.location.strand))\n",
    "                all_features.append([accession_locus, feature_type, start, stop, strand])\n",
    "                if feature_type == 'CDS':\n",
    "                    cds_features.append([accession_locus, feature_type, start, stop, strand])\n",
    "            \n",
    "            features = cds_features  # Replace with line below if you want to go upstream only to next annotated feature and not next CDS\n",
    "            #features = all_features\n",
    "            \n",
    "            # Positive strand upstream \n",
    "            features.sort(key = lambda x: x[2])\n",
    "            max_stop = 0\n",
    "            for (accession_locus, feature_type, start, stop, strand) in features:\n",
    "                if max_stop < start and feature_type == 'CDS' and strand == 1 and start - max_stop < 100000:    #Avoid joins where biopython interprets inconsistently \n",
    "                    upstream_cds_regions.append([accession_locus, max_stop, start, strand, full_sequence[max_stop: start+additional_offset]])\n",
    "                max_stop = max(max_stop, stop)\n",
    "            # Negative strand upstream\n",
    "            features.sort(key = lambda x: x[3], reverse = True)\n",
    "            min_start = len(full_sequence)-1\n",
    "            for (accession_locus, feature_type, start, stop, strand) in features:\n",
    "                if stop < min_start and feature_type == 'CDS' and strand == -1 and min_start - stop < 100000:\n",
    "                    upstream_cds_regions.append([accession_locus, stop, min_start, strand, reverse_complement(full_sequence[stop-additional_offset: min_start])])\n",
    "                min_start = min(min_start, start)\n",
    "    return (upstream_cds_regions)           "
   ]
  },
  {
   "cell_type": "code",
   "execution_count": 15,
   "id": "a8075f18-ddc6-43c2-aaec-d25000f9d589",
   "metadata": {},
   "outputs": [],
   "source": [
    "if full_run == True:\n",
    "#if 1==0:\n",
    "    mycobacteria_upstream_dict = {}\n",
    "    parallel_output = Parallel(n_jobs=-1)(delayed(generate_upstream_sequence_dataset)(num_cores, core_number, mycobacteria_dirs, mycobacteria_seq_dir) for core_number in core_numbers)\n",
    "    for x in parallel_output:\n",
    "        for n in x:\n",
    "            mycobacteria_upstream_dict[n[0]] = [n[1], n[2], n[3], n[4]]\n",
    "    with open(project_dir + '/mycobacteria_upstream_dict.pkl', 'wb') as f:\n",
    "        pickle.dump(mycobacteria_upstream_dict, f) \n",
    "else:\n",
    "    with open(project_dir + '/mycobacteria_upstream_dict.pkl', 'rb') as f:\n",
    "        mycobacteria_upstream_dict = pickle.load(f)    "
   ]
  },
  {
   "cell_type": "markdown",
   "id": "01b4bf2c-e1bb-4623-aed5-c0da8fb1f9c7",
   "metadata": {
    "tags": []
   },
   "source": [
    "#### Functions to run MEME and FIMO"
   ]
  },
  {
   "cell_type": "code",
   "execution_count": 16,
   "id": "66efc6cc-4049-4566-bca3-404079e7a691",
   "metadata": {},
   "outputs": [],
   "source": [
    "def run_meme(search_regions_loc, output_dir, min_width, min_sites):\n",
    "    subprocess.run('wsl export PATH=$HOME/meme/bin:$HOME/meme/libexec/meme:usr/bin:$PATH ; meme '+ util.wslname(search_regions_loc) + ' -oc '+ util.wslname(output_dir) +' -dna -evt 0.001 -p 8 -revcomp -mod anr -brief 4000 -minw ' + str(min_width) +' -maxw 200 -minsites ' + str(min_sites)\n",
    "               , shell=True)"
   ]
  },
  {
   "cell_type": "code",
   "execution_count": 17,
   "id": "9faaf599-3275-429b-ad53-99f29695e146",
   "metadata": {},
   "outputs": [],
   "source": [
    "def run_fimo(motif_file, sequence_to_search_file, output_dir):\n",
    "    subprocess.run('wsl export PATH=$HOME/meme/bin:$HOME/meme/libexec/meme:usr/bin:$PATH ; fimo -oc ' + util.wslname(output_dir) + ' ' + util.wslname(motif_file) + ' ' + util.wslname(sequence_to_search_file)\n",
    "               , shell=True)"
   ]
  },
  {
   "cell_type": "code",
   "execution_count": 18,
   "id": "a21ce3b0-d00a-46fa-a299-95b88e2d0533",
   "metadata": {},
   "outputs": [],
   "source": [
    "def produce_matched_sequence_file(hit_df, output_file, q_value):\n",
    "    matched_sequences = []\n",
    "    for i, r in hit_df.iterrows():\n",
    "        if '#' in r['motif_id']:\n",
    "            continue\n",
    "        if float(r['q-value']) < q_value:\n",
    "            matched_sequences.append([str(r['start'])+'_'+str(r['stop']), r['matched_sequence']])\n",
    "    util.produce_fasta_file(matched_sequences, output_file)"
   ]
  },
  {
   "cell_type": "markdown",
   "id": "fcbb740d-f4e8-4842-b6f6-0084271d62e2",
   "metadata": {},
   "source": [
    "#### Import list of significantly up/downregulated genes based on experimental data supplied and produce fasta file of upstream sequences (from upstream region dictionary created above)"
   ]
  },
  {
   "cell_type": "code",
   "execution_count": 21,
   "id": "2dfe78c9-fd29-4b8c-bc7d-3ce16e4fb4ab",
   "metadata": {},
   "outputs": [],
   "source": [
    "regulation_type_dict = {}\n",
    "p_val_dict = {}\n",
    "downreg_genes = pd.read_excel(project_dir + '/2022-10-02_data_NU_NAs_renamed.xlsx', sheet_name = 'significant genes downregulated')\n",
    "upreg_genes = pd.read_excel(project_dir + '/2022-10-02_data.xlsx', sheet_name = 'significant genes upregulated')\n",
    "all_genes = pd.read_excel(project_dir + '/2022-10-02_data.xlsx', sheet_name = 'all genes')\n",
    "gene_list = []\n",
    "for i, r in downreg_genes.iterrows():\n",
    "    gene_list.append(r['Locus'])\n",
    "    regulation_type_dict[r['Locus']] = 'Downregulated'\n",
    "for i, r in upreg_genes.iterrows():\n",
    "    gene_list.append(r['Locus'])\n",
    "    regulation_type_dict[r['Locus']] = 'Upregulated'\n",
    "for i, r in all_genes.iterrows():\n",
    "    if r['padj'] == 'NA':\n",
    "        p_val_dict[r['Locus']] = 999\n",
    "    else:    \n",
    "        p_val_dict[r['Locus']] = r['padj']"
   ]
  },
  {
   "cell_type": "code",
   "execution_count": 25,
   "id": "92f57e96-7a0f-48eb-8d5b-008b3a27e0a8",
   "metadata": {},
   "outputs": [
    {
     "name": "stderr",
     "output_type": "stream",
     "text": [
      "100%|██████████| 175/175 [00:00<00:00, 175137.96it/s]\n"
     ]
    }
   ],
   "source": [
    "significant_upstream_tb_regions = []\n",
    "temp_dict = {}\n",
    "for gene in gene_list:\n",
    "    locus = tb_species + '@' + str(gene)\n",
    "    if locus in mycobacteria_upstream_dict:\n",
    "        upstream_region = mycobacteria_upstream_dict[locus][3]  \n",
    "        (start, stop) = (mycobacteria_upstream_dict[locus][0],  mycobacteria_upstream_dict[locus][1])\n",
    "        if (start, stop) in temp_dict:\n",
    "            pass  # Eliminate upstream region if already there (e.g if neighbouring divergent pair)\n",
    "        else:\n",
    "            temp_dict[(start, stop)] = 1      \n",
    "            if len(upstream_region) >= min_region_length:\n",
    "                significant_upstream_tb_regions.append([locus, upstream_region])\n",
    "util.produce_fasta_file(significant_upstream_tb_regions, project_dir + '/significant_upstream_tb_regions.faa')"
   ]
  },
  {
   "cell_type": "markdown",
   "id": "e8399606-8ab1-4292-ae09-29791de85a15",
   "metadata": {},
   "source": [
    "##### Run MEME against the upstream regions to find motifs, then search motifs against full TB sequence using FIMO and select hits with q-value < 1e-3 for fitting a final Motif (Second_MEME_Upstream_Output) - Slide 4"
   ]
  },
  {
   "cell_type": "code",
   "execution_count": 35,
   "id": "7bb56b27-9fff-483b-906e-dd001e482986",
   "metadata": {},
   "outputs": [
    {
     "name": "stderr",
     "output_type": "stream",
     "text": [
      "100%|██████████| 110/110 [00:00<?, ?it/s]\n"
     ]
    }
   ],
   "source": [
    "run_meme(project_dir + '/significant_upstream_tb_regions.faa', project_dir + '/MEME_Upstream_Output',3,5)\n",
    "run_fimo(project_dir + '/MEME_Upstream_Output/meme.txt', project_dir + '/mtb_seq' , project_dir + '/FIMO_Upstream_Output')\n",
    "fimo_upstream_hits = pd.read_csv(project_dir + '/FIMO_Upstream_Output/fimo.tsv', sep='\\t')\n",
    "produce_matched_sequence_file(fimo_upstream_hits, project_dir + '/fimo_upstream_hit_sequences.faa', q_value = 1e-3)\n",
    "run_meme(project_dir + '/fimo_upstream_hit_sequences.faa', project_dir + '/Second_MEME_Upstream_Output',3,5)"
   ]
  },
  {
   "cell_type": "markdown",
   "id": "9004f80f-1ec8-4de5-b96e-9f8e4b6724c2",
   "metadata": {},
   "source": [
    "##### Produce FIMO hits against this motif for TB and all mycobacteria and all actinobacteria"
   ]
  },
  {
   "cell_type": "code",
   "execution_count": 36,
   "id": "53c0fe66-0118-427f-b2e4-d74f419e8f1f",
   "metadata": {},
   "outputs": [],
   "source": [
    "run_fimo(project_dir + '/Second_MEME_Upstream_Output/meme.txt', project_dir + '/mtb_seq' , project_dir + '/Second_FIMO_Upstream_Output')"
   ]
  },
  {
   "cell_type": "code",
   "execution_count": 37,
   "id": "4fc9df09-edea-48ac-8508-a91e50e06b9f",
   "metadata": {},
   "outputs": [],
   "source": [
    "run_fimo(project_dir + '/Second_MEME_Upstream_Output/meme.txt', project_dir + '/all_seq' , project_dir + '/All_Species_Second_FIMO_Upstream_Output')"
   ]
  },
  {
   "cell_type": "code",
   "execution_count": 39,
   "id": "96da801d-1396-45c4-9909-4e5b295c95c3",
   "metadata": {},
   "outputs": [],
   "source": [
    "run_fimo(project_dir + '/Second_MEME_Upstream_Output/meme.txt', project_dir + '/all_actinobacteria_seq' , project_dir + '/All_Actinobacteria_Species_Second_FIMO_Upstream_Output')"
   ]
  },
  {
   "cell_type": "markdown",
   "id": "4d2bd314-c7a1-4a66-aa64-fce2906a5c8b",
   "metadata": {},
   "source": [
    "##### Use all significant mycobacterial species hits obtained above to fit motif which best fits for overall mycobacteria.   For each mycobacterial species one at a time, we then use this to search for occurrences of this motif (then refine into a motif which represents the best fit for that species and search again),  Hits in /Single_Species_MEME_FIMO Final motif in /Temp_Second_Meme_Upstream_Output.   The idea of this is that the motif might occur in a slightly modified form in different mycobacteria species.  So we want to output a species-specific version of the motif which best represents occurrences in each particular species  "
   ]
  },
  {
   "cell_type": "code",
   "execution_count": 20,
   "id": "e95e0f5a-6f98-44e1-bb0a-76066c7b3f48",
   "metadata": {},
   "outputs": [
    {
     "name": "stderr",
     "output_type": "stream",
     "text": [
      "100%|██████████| 2757/2757 [00:00<00:00, 306047.43it/s]\n"
     ]
    }
   ],
   "source": [
    "fimo_upstream_hits = pd.read_csv(project_dir + '/All_Species_Second_FIMO_Upstream_Output/fimo.tsv', sep='\\t')\n",
    "produce_matched_sequence_file(fimo_upstream_hits, project_dir + '/all_species_hit_sequences.faa', q_value = 1e-3)\n",
    "run_meme(project_dir + '/all_species_hit_sequences.faa', project_dir + '/All_Species_Output',3,5)"
   ]
  },
  {
   "cell_type": "code",
   "execution_count": null,
   "id": "fed9e744-fb90-4407-ba87-ce7de82df2ef",
   "metadata": {},
   "outputs": [],
   "source": [
    "if full_run == True:\n",
    "    for dirname in tqdm(mycobacteria_dirs):\n",
    "        temp = []\n",
    "        for genome_record in (SeqIO.parse(mycobacteria_seq_dir + '/' + dirname + '/genomic.gbff', \"genbank\")):\n",
    "            ntsequence = str(genome_record.seq)\n",
    "            accession_ver = genome_record.annotations['accessions'][0] + '.' + str(genome_record.annotations['sequence_version'])\n",
    "            temp.append([accession_ver, ntsequence])\n",
    "        util.produce_fasta_file(temp, project_dir + '/temp_seq')\n",
    "        \n",
    "        run_fimo(project_dir + '/All_Species_Output/meme.txt', project_dir + '/temp_seq' , project_dir + '/Single_Species_MEME_FIMO/' + dirname)\n",
    "        fimo_upstream_hits = pd.read_csv(project_dir + '/Single_Species_MEME_FIMO/' + dirname + '/fimo.tsv', sep='\\t')\n",
    "        produce_matched_sequence_file(fimo_upstream_hits, project_dir + '/Single_Species_MEME_FIMO/' + dirname + '/temp_fimo_upstream_hit_sequences.faa', q_value = 1e-3)\n",
    "        run_meme(project_dir + '/Single_Species_MEME_FIMO/' + dirname + '/temp_fimo_upstream_hit_sequences.faa', project_dir + '/Single_Species_MEME_FIMO/' + dirname + '/Temp_Second_MEME_Upstream_Output',3,5)\n",
    "\n",
    "        run_fimo(project_dir + '/Single_Species_MEME_FIMO/' + dirname + '/Temp_Second_MEME_Upstream_Output/meme.txt', project_dir + '/temp_seq' , project_dir + '/Single_Species_MEME_FIMO/' + dirname)\n",
    "        fimo_upstream_hits = pd.read_csv(project_dir + '/Single_Species_MEME_FIMO/' + dirname + '/fimo.tsv', sep='\\t')\n",
    "        produce_matched_sequence_file(fimo_upstream_hits, project_dir + '/Single_Species_MEME_FIMO/' + dirname + '/temp_fimo_upstream_hit_sequences.faa', q_value = 1e-3)\n",
    "        run_meme(project_dir + '/Single_Species_MEME_FIMO/' + dirname + '/temp_fimo_upstream_hit_sequences.faa', project_dir + '/Single_Species_MEME_FIMO/' + dirname + '/Temp_Second_MEME_Upstream_Output',3,5)"
   ]
  },
  {
   "cell_type": "markdown",
   "id": "e4733095-8bf8-40cb-8cc0-9ea222a62087",
   "metadata": {},
   "source": [
    "##### Produce dictionary of motif hits for each species based on ortholog of hits in M.tb.  Count to find the number of different species having a motif hit in the orthologous region.  Output to file and graph (Slide 9)"
   ]
  },
  {
   "cell_type": "code",
   "execution_count": 24,
   "id": "648a416d-6518-43e3-b8ae-a86e95165884",
   "metadata": {},
   "outputs": [
    {
     "name": "stderr",
     "output_type": "stream",
     "text": [
      "100%|██████████| 100/100 [06:08<00:00,  3.68s/it]\n"
     ]
    }
   ],
   "source": [
    "appearance_dict = {}\n",
    "for dirname in tqdm(mycobacteria_dirs):\n",
    "    temp_set = set()\n",
    "    temp_set_2 = set()\n",
    "    temp_list_3 = []\n",
    "    temp_fimo_hits = pd.read_csv(project_dir + '/Single_Species_MEME_FIMO/' + dirname + '/fimo.tsv', sep='\\t')\n",
    "    for i, r in temp_fimo_hits.iterrows():\n",
    "        if '#' in r['motif_id']:\n",
    "            continue\n",
    "        organism = r['sequence_name']\n",
    "        motif_id = r['motif_alt_id']\n",
    "        if float(r['q-value']) < 1e-5:\n",
    "            temp = location(r['sequence_name'],int(r['start']), int(r['stop']), cds_annotated_regions_dict)\n",
    "            ortholog_orientations = []\n",
    "            for x in temp:\n",
    "                if len(x[0].split(':')) == 1:\n",
    "                    ortholog_orientations.append((ortholog_in_mtb(organism, x[0]), 'I'))\n",
    "                else:\n",
    "                    a = x[0].split(':')\n",
    "                    b = x[4].split(':')\n",
    "                    if b[0] == '1':\n",
    "                        ortholog_orientations.append((ortholog_in_mtb(organism, a[0]), 'U'))\n",
    "                    else:\n",
    "                        ortholog_orientations.append((ortholog_in_mtb(organism, a[0]), 'D'))\n",
    "                    if b[1] == '1':\n",
    "                        ortholog_orientations.append((ortholog_in_mtb(organism, a[1]), 'D'))\n",
    "                    else:\n",
    "                        ortholog_orientations.append((ortholog_in_mtb(organism, a[1]), 'U'))\n",
    "            for x in ortholog_orientations:\n",
    "                temp_list_3.append(x)                                          \n",
    "            temp2 = ([x[0].split(':') for x in temp])\n",
    "            for x in temp2:\n",
    "                temp_set = temp_set.union({ortholog_in_mtb(organism, w) for w in set(x)})\n",
    "                temp_set_2 = temp_set_2.union(set(x))\n",
    "    #print(temp_set)\n",
    "    temp_set_3 = set(temp_list_3)\n",
    "    \n",
    "    for ortholog in temp_set_3:\n",
    "        if ortholog in appearance_dict:\n",
    "            appearance_dict[ortholog].append(dirname_dict[dirname])\n",
    "        else:\n",
    "            appearance_dict[ortholog] = [dirname_dict[dirname]]"
   ]
  },
  {
   "cell_type": "code",
   "execution_count": 26,
   "id": "60e201d6-b3b8-45b8-a92f-98cc7481c6bf",
   "metadata": {},
   "outputs": [
    {
     "data": {
      "text/plain": [
       "<AxesSubplot:xlabel='Orthologue_region', ylabel='Species_hits'>"
      ]
     },
     "execution_count": 26,
     "metadata": {},
     "output_type": "execute_result"
    },
    {
     "data": {
      "image/png": "[encoded data removed]",
      "text/plain": [
       "<Figure size 432x288 with 1 Axes>"
      ]
     },
     "metadata": {
      "needs_background": "light"
     },
     "output_type": "display_data"
    }
   ],
   "source": [
    "out_file = []\n",
    "temp = []\n",
    "for k, v in appearance_dict.items():\n",
    "    temp.append((k[0], k[1], len(v), v))\n",
    "temp.sort(key = lambda x: x[2], reverse = True)\n",
    "for (x, y, l, m) in temp:\n",
    "    if 1==1:\n",
    "        out_file.append([str(x)+'_'+str(y), l])\n",
    "    #print(x, y, l, m)\n",
    "out_df = pd.DataFrame(out_file, columns = ['Orthologue_region', 'Species_hits'])\n",
    "out_df.to_csv(project_dir + '/out_df.csv')\n",
    "sns.barplot(data = out_df, x = 'Orthologue_region', y = 'Species_hits')\n"
   ]
  },
  {
   "cell_type": "markdown",
   "id": "773b053b-70ba-4412-a34b-749612756719",
   "metadata": {},
   "source": [
    "##### Output motifs per species for display in R (slide 8) - note motif_1 is selected as this corresponds to the MITE motif"
   ]
  },
  {
   "cell_type": "code",
   "execution_count": 27,
   "id": "14624834-c9cf-4e20-9e54-efb7f6d74ecb",
   "metadata": {},
   "outputs": [
    {
     "name": "stderr",
     "output_type": "stream",
     "text": [
      "100%|██████████| 66/66 [00:00<?, ?it/s]\n"
     ]
    }
   ],
   "source": [
    "temp = []\n",
    "from Bio import motifs\n",
    "for dirname in mycobacteria_dirs:\n",
    "    filename = project_dir + '/Single_Species_MEME_FIMO/'+dirname +'/Temp_Second_MEME_Upstream_Output/meme.xml'\n",
    "    if os.path.exists(filename):\n",
    "        with open(filename) as f:\n",
    "            record = motifs.parse(f, 'MEME')\n",
    "        for motif in record:\n",
    "            if motif.id == 'motif_1':\n",
    "                temp.append([dirname_dict[dirname].replace(' ','_').replace('[','').replace(']',''), str(motif.consensus)])\n",
    "util.produce_fasta_file(temp, project_dir + '/unaligned_motifs.faa')\n",
    "cline = MuscleCommandline(muscle_exe, input= project_dir + '/unaligned_motifs.faa', out = project_dir + '/aligned_motifs.faa')\n",
    "stdout, stderr = cline()"
   ]
  },
  {
   "cell_type": "code",
   "execution_count": 48,
   "id": "21db49a5-32fd-4c13-b7b0-213f736bdbdb",
   "metadata": {},
   "outputs": [],
   "source": [
    "temp = util.read_fasta_to_array(project_dir + '/aligned_motifs.faa')"
   ]
  },
  {
   "cell_type": "code",
   "execution_count": 49,
   "id": "a75f94e3-4040-4a20-ba5c-934aef52c2e3",
   "metadata": {},
   "outputs": [
    {
     "name": "stderr",
     "output_type": "stream",
     "text": [
      "100%|██████████| 100/100 [00:00<?, ?it/s]\n"
     ]
    }
   ],
   "source": [
    "for dirname in mycobacteria_dirs:\n",
    "    species = dirname_dict[dirname].replace(' ','_').replace('[','').replace(']','')\n",
    "    if species in temp[0]:\n",
    "        pass\n",
    "    else:\n",
    "        temp[0].append(species)\n",
    "        temp[1].append('-'*len(temp[1][0]))\n",
    "temp_2 = []\n",
    "for (x, y) in zip(temp[0],temp[1]):\n",
    "    temp_2.append([x,y])\n",
    "util.produce_fasta_file(temp_2, project_dir + '/aligned_motifs_plus_blanks.faa')"
   ]
  },
  {
   "cell_type": "markdown",
   "id": "9a1dadb3-0799-4a79-834b-e430c1715702",
   "metadata": {},
   "source": [
    "#####  Produce dictionary of all motif hits in each mycobacterial species"
   ]
  },
  {
   "cell_type": "code",
   "execution_count": 28,
   "id": "23ed590f-b6b9-4206-b591-b6ca506b3041",
   "metadata": {},
   "outputs": [
    {
     "name": "stderr",
     "output_type": "stream",
     "text": [
      "100%|██████████| 100/100 [07:29<00:00,  4.50s/it]\n"
     ]
    }
   ],
   "source": [
    "hit_dict = {}\n",
    "for dirname in tqdm(mycobacteria_dirs):\n",
    "    temp_fimo_hits = pd.read_csv(project_dir + '/Single_Species_MEME_FIMO/' + dirname + '/fimo.tsv', sep='\\t')\n",
    "\n",
    "    for i, r in temp_fimo_hits.iterrows():\n",
    "        if '#' in r['motif_id']:\n",
    "            continue\n",
    "        organism = r['sequence_name']\n",
    "        motif_id = r['motif_alt_id']\n",
    "        temp = location(r['sequence_name'],int(r['start']), int(r['stop']), annotated_regions_dict)\n",
    "        if len(temp) > 0:\n",
    "            temp.sort(key = lambda x: float(x[3].strip('%')), reverse = True)\n",
    "            main_location = temp[0] #temp[0]\n",
    "        else:\n",
    "            main_location = ''\n",
    "        info = [int(r['start']), int(r['stop']), r['strand'], float(r['q-value']), main_location, r['matched_sequence'], r['motif_alt_id']]\n",
    "        if organism in hit_dict:\n",
    "            hit_dict[organism].append(info)\n",
    "        else:\n",
    "            hit_dict[organism] = [info]\n",
    "\n",
    "for k, v in hit_dict.items():\n",
    "    v.sort(key = lambda x: x[0])"
   ]
  },
  {
   "cell_type": "markdown",
   "id": "e6ad8a68-7826-42ce-b4dd-46426713930d",
   "metadata": {},
   "source": [
    "##### Classify hits for M. tb based on whether they are \"paired\" (near a complement of the motif forming a motif + region of up to 20 nt then the complement of the motif) or unpaired.  Data output (Motif hits in M.tb tab)  Output alignments of the two categories (Slides 6 and 7) "
   ]
  },
  {
   "cell_type": "code",
   "execution_count": 32,
   "id": "755dc968-fce2-451a-96a5-903dcfd95d46",
   "metadata": {},
   "outputs": [
    {
     "name": "stdout",
     "output_type": "stream",
     "text": [
      "69 23\n",
      "69\n",
      "[17, 17, 17, 17, 17, 17, 17, 17, 17, 17, 98, 17, 17, 17, 17, 19, 17, 17, 17, 17, 17, 17, 16, 17, 17, 17, 17, 17, 18, 17, 17, 17, 17, 17, 17, 18, 17, 17, 17, 14, 17, 17, 17, 17, 17, 17, 17, 17, 17, 17, 17, 17, 17, 17, 17, 17, 17, 17, 17, 17, 17, 17, 17, 17, 17, 17, 17, 17, 17]\n",
      "162\n"
     ]
    }
   ],
   "source": [
    "paired_motif_sequences = []\n",
    "unpaired_motif_sequences = []\n",
    "temp_df_list =[]\n",
    "gene_pairs = []\n",
    "sole_genes = []\n",
    "inter_distances = []\n",
    "occurrences = 0\n",
    "pairs = 0\n",
    "no_pairs = 0\n",
    "v = hit_dict[tb_species]\n",
    "last_stop = -999\n",
    "pair_poss = 0\n",
    "for n, (start, stop, strand, q, loc, matched_seq, motif_id) in enumerate(v):\n",
    "    if q > 1e-2 or not(motif_id == 'MEME-1'):\n",
    "        continue\n",
    "    else:\n",
    "        occurrences +=1\n",
    "        if start - last_stop < 100 and pair_poss == 1:\n",
    "            inter_distances.append(start-last_stop)\n",
    "            last_temp = copy.deepcopy(v[last_n])\n",
    "            last_temp.append(\"paired\")\n",
    "            latest_temp = copy.deepcopy(v[n])\n",
    "            latest_temp.append(\"paired\")\n",
    "            temp_df_list.append(last_temp)\n",
    "            temp_df_list.append(latest_temp)\n",
    "            if start - last_stop < 20:\n",
    "                genes = v[n][4][0].split(\":\")\n",
    "                genes2 = v[last_n][4][0].split(\":\")\n",
    "                pref = 'H37Rv_'\n",
    "                for gene in genes:\n",
    "                    if gene in set(gene_list):\n",
    "                        pref = v[n][4][0] + '___H37Rv_'\n",
    "                for gene in genes2:\n",
    "                    if gene in set(gene_list):\n",
    "                        pref = v[last_n][4][0] + '___H37Rv_'\n",
    "                paired_motif_sequences.append([pref+str(v[last_n][0])+'_'+str(v[n][1]), mtb_sequence[v[last_n][0]:v[n][1]]])\n",
    "            pair_poss = 0\n",
    "            pairs+=1\n",
    "            for x in v[n][4][0].split(':'):\n",
    "                gene_pairs.append(x)\n",
    "            for x in v[last_n][4][0].split(':'):\n",
    "                gene_pairs.append(x)\n",
    "\n",
    "        elif pair_poss == 1:\n",
    "            last_temp = copy.deepcopy(v[last_n])\n",
    "            last_temp.append(\"Unpaired\")\n",
    "            temp_df_list.append(last_temp)\n",
    "            #print(\"no_pair\", v[last_n])\n",
    "            no_pairs+=1#\n",
    "            for x in v[last_n][4][0].split(':'):\n",
    "                sole_genes.append(x)\n",
    "            genes2 = v[last_n][4][0].split(\":\")\n",
    "            pref = 'NP_H37Rv_'\n",
    "            for gene in genes2:\n",
    "                if gene in set(gene_list):\n",
    "                    pref = v[last_n][4][0] + '___NP_H37Rv_'\n",
    "            if v[last_n][2] == '+':\n",
    "                unpaired_motif_sequences.append([pref+str(v[last_n][0]-30)+'_'+str(v[last_n][1]+40), mtb_sequence[v[last_n][0]-30:v[last_n][1]+40]])\n",
    "            else:\n",
    "                unpaired_motif_sequences.append([pref+str(v[last_n][0]-30)+'_'+str(v[last_n][1]+40), util.reverse_complement(mtb_sequence[v[last_n][0]-30:v[last_n][1]+40])])\n",
    "        else:\n",
    "            pair_poss=1\n",
    "        last_stop = stop\n",
    "        last_n = n\n",
    "print(pairs, no_pairs)\n",
    "print(len(inter_distances))\n",
    "print(inter_distances)\n",
    "print(occurrences)"
   ]
  },
  {
   "cell_type": "code",
   "execution_count": 33,
   "id": "ba512279-67ee-464e-8019-e7ce077bfad1",
   "metadata": {},
   "outputs": [
    {
     "name": "stderr",
     "output_type": "stream",
     "text": [
      "100%|██████████| 68/68 [00:00<?, ?it/s]\n",
      "100%|██████████| 23/23 [00:00<?, ?it/s]\n"
     ]
    }
   ],
   "source": [
    "util.produce_fasta_file(paired_motif_sequences, project_dir + '/unaligned_pair_motifs.faa')\n",
    "cline = MuscleCommandline(muscle_exe, input= project_dir + '/unaligned_pair_motifs.faa', out = project_dir + '/aligned_pair_motifs.faa')\n",
    "stdout, stderr = cline()\n",
    "util.produce_fasta_file(unpaired_motif_sequences, project_dir + '/unaligned_unpaired_motifs.faa')\n",
    "cline = MuscleCommandline(muscle_exe, input= project_dir + '/unaligned_unpaired_motifs.faa', out = project_dir + '/aligned_unpaired_motifs.faa')\n",
    "stdout, stderr = cline()"
   ]
  },
  {
   "cell_type": "code",
   "execution_count": 35,
   "id": "3558e4c3-210d-4969-86e7-fe0d212ce010",
   "metadata": {},
   "outputs": [],
   "source": [
    "temp= pd.DataFrame(temp_df_list, columns = ['start','stop','strand','q_val','region_info','matched_seq','motif','pair'])"
   ]
  },
  {
   "cell_type": "code",
   "execution_count": 36,
   "id": "e2007531-6b3d-4403-81c6-38235f7f8456",
   "metadata": {},
   "outputs": [],
   "source": [
    "temp['study_association'] = ''\n",
    "for i, r in temp.iterrows():\n",
    "    temp.at[i, 'type'] = r['region_info'][2]\n",
    "    temp.at[i, 'product'] = r['region_info'][1]\n",
    "    temp.at[i,'pct_occupancy'] = r['region_info'][3]\n",
    "    genes = r['region_info'][0].split(\":\")\n",
    "    associated_genes = []\n",
    "    for gene in genes:\n",
    "        if gene in set(gene_list):\n",
    "            associated_genes.append(gene)\n",
    "    temp.at[i, 'study_association'] = associated_genes\n",
    "temp.to_csv(project_dir + '/motif_hits.csv')"
   ]
  },
  {
   "cell_type": "markdown",
   "id": "9f80938b-d5e8-4946-be36-b91d538933a7",
   "metadata": {},
   "source": [
    "##### This bit asssesses significance of whether there was overrepresentation of the motif in regions associated with those identified as up/downregulated in the study, however I think it's probably more of a coincidence, I think we found a wider motif by accident by looking at those intergenic regions, but it is probably not associated  "
   ]
  },
  {
   "cell_type": "code",
   "execution_count": 37,
   "id": "87866be0-a995-4632-ac95-e331daef4c36",
   "metadata": {},
   "outputs": [],
   "source": [
    "genes = []\n",
    "v = hit_dict[tb_species]\n",
    "for (start, stop, strand, q, loc, matched_seq, motif_id) in v:\n",
    "    if q > 1e-2 or not(motif_id == 'MEME-1') :\n",
    "        continue\n",
    "    for x in loc[0].split(':'):\n",
    "        genes.append(x)"
   ]
  },
  {
   "cell_type": "code",
   "execution_count": 44,
   "id": "0a39a7b5-e5a6-47e8-879a-86c647abe861",
   "metadata": {},
   "outputs": [
    {
     "name": "stdout",
     "output_type": "stream",
     "text": [
      "163 20 236\n",
      "0.0005947770818272025\n"
     ]
    }
   ],
   "source": [
    "b = set(genes)\n",
    "inters = b.intersection(set(gene_list))\n",
    "print(len(b), len(inters), len(gene_list))\n",
    "print(1- binom.cdf(len(inters), len(b),(len(gene_list))/4031))"
   ]
  },
  {
   "cell_type": "markdown",
   "id": "de7bd340-a386-4878-87d0-0a6ac14e2aea",
   "metadata": {},
   "source": [
    "##### Number of motif hits in different species and output so can be merged with R to display info against phylo tree (bar chart in Slide 8)"
   ]
  },
  {
   "cell_type": "code",
   "execution_count": 57,
   "id": "0e45d62f-3ee0-4204-955d-a2eb065f0845",
   "metadata": {
    "tags": []
   },
   "outputs": [
    {
     "name": "stderr",
     "output_type": "stream",
     "text": [
      "100%|██████████| 100/100 [07:33<00:00,  4.53s/it]\n"
     ]
    }
   ],
   "source": [
    "names_hit_dict = {}\n",
    "for dirname in tqdm(mycobacteria_dirs):\n",
    "    temp_fimo_hits = pd.read_csv(project_dir + '/Single_Species_MEME_FIMO/' + dirname + '/fimo.tsv', sep='\\t')\n",
    "\n",
    "    for i, r in temp_fimo_hits.iterrows():\n",
    "        if '#' in r['motif_id']:\n",
    "            continue\n",
    "        organism = names_dict[r['sequence_name']]\n",
    "        motif_id = r['motif_alt_id']\n",
    "        temp = location(r['sequence_name'],int(r['start']), int(r['stop']), annotated_regions_dict)\n",
    "        if len(temp) > 0:\n",
    "            temp.sort(key = lambda x: float(x[3].strip('%')), reverse = True)\n",
    "            main_location = temp[0] #temp[0]\n",
    "        else:\n",
    "            main_location = ''\n",
    "        info = [int(r['start']), int(r['stop']), r['strand'], float(r['q-value']), main_location, r['matched_sequence'], r['motif_alt_id']]\n",
    "        if organism in names_hit_dict:\n",
    "            names_hit_dict[organism].append(info)\n",
    "        else:\n",
    "            names_hit_dict[organism] = [info]\n",
    "for k, v in names_hit_dict.items():\n",
    "    v.sort(key = lambda x: x[0])"
   ]
  },
  {
   "cell_type": "code",
   "execution_count": 68,
   "id": "d4529e31-629c-411f-8ad8-030b3d3f6622",
   "metadata": {
    "tags": []
   },
   "outputs": [],
   "source": [
    "hit_info = []\n",
    "for k, v in names_hit_dict.items():\n",
    "    ct = 0\n",
    "    temp = []\n",
    "    for (start, stop, strand, q, loc, matched_seq, motif_alt_id) in v:\n",
    "        if q > 1e-2 or not(motif_alt_id == 'MEME-1') or loc =='':\n",
    "            continue\n",
    "        else:\n",
    "            ct +=1\n",
    "        for x in loc[0].split(':'):\n",
    "            temp.append(x)\n",
    "    #hit_info.append([k.replace(' ','_'),'Num_hits', len(set(temp))])\n",
    "    hit_info.append([k.replace(' ','_'),'Num_hits', ct])\n",
    "pd.DataFrame(hit_info, columns = ['name', 'variable', 'value']).to_csv(project_dir + '/Hit_Counts.csv')"
   ]
  },
  {
   "cell_type": "markdown",
   "id": "7876e157-c075-4044-b5eb-18e182da0f55",
   "metadata": {
    "tags": []
   },
   "source": [
    "##### Build phylogenetic tree (used for graphical displays only) for mycobacterial dataset by aligning in Muscle concatenated orthologues with more than 85% match present in all species, and then processing with MEGA"
   ]
  },
  {
   "cell_type": "code",
   "execution_count": null,
   "id": "1e913452-4203-42f1-9a0c-eb6f50c13353",
   "metadata": {},
   "outputs": [],
   "source": [
    "max_len = len(tb_mycobacteria_rbh['target_species_name'].unique())"
   ]
  },
  {
   "cell_type": "code",
   "execution_count": null,
   "id": "7ae63ded-7e41-4437-9069-1fc771ab8a57",
   "metadata": {},
   "outputs": [],
   "source": [
    "full_ortholog_refs = []\n",
    "temp = tb_mycobacteria_rbh.groupby('query_ref').agg({'target_ref': \"count\", 'percent_identical_matches': \"min\"}).reset_index()\n",
    "temp = temp.query('target_ref == @max_len and percent_identical_matches > 85')\n",
    "for i, r in temp.iterrows():\n",
    "    full_ortholog_refs.append(r['query_ref'])"
   ]
  },
  {
   "cell_type": "code",
   "execution_count": null,
   "id": "6a2f29d1-311f-41f8-aec4-10d742a249e1",
   "metadata": {},
   "outputs": [],
   "source": [
    "def generate_protein_dataset(num_subsets, subset_num, dir_list, seqdir): \n",
    "    sequence_dirs = util.chunk_list(dir_list, num_subsets, subset_num)\n",
    "    all_cds = []\n",
    "    for dirname in (sequence_dirs):\n",
    "        for genome_record in SeqIO.parse(seqdir + '/' + dirname + '/genomic.gbff', \"genbank\"):\n",
    "            accession_ver = genome_record.annotations['accessions'][0] + '.' + str(genome_record.annotations['sequence_version'])\n",
    "            full_sequence = str(genome_record.seq)\n",
    "            for feature in genome_record.features:\n",
    "                a = feature.qualifiers\n",
    "                if feature.type == 'CDS' and a.get(\"translation\") != None and a.get(\"locus_tag\") != None:\n",
    "                    locus_tag = a.get(\"locus_tag\")[0]\n",
    "                    accession_locus = accession_ver + '@' + locus_tag\n",
    "                    translation = a.get(\"translation\")[0]\n",
    "                    all_cds.append([accession_locus, translation])\n",
    "    return (all_cds)           "
   ]
  },
  {
   "cell_type": "code",
   "execution_count": null,
   "id": "4b870157-c0aa-499e-a1e9-2fed6b97592a",
   "metadata": {},
   "outputs": [],
   "source": [
    "full_build = True\n",
    "if full_build == True:\n",
    "    parallel_output = Parallel(n_jobs=-1)(delayed(generate_protein_dataset)(num_cores, core_number, mycobacteria_dirs, mycobacteria_seq_dir) for core_number in core_numbers)\n",
    "    protein_dict = {}\n",
    "    for x in parallel_output:\n",
    "        for temp in x[0]:\n",
    "            protein_dict[temp[0]] = temp[1]"
   ]
  },
  {
   "cell_type": "code",
   "execution_count": null,
   "id": "3ef5d679-1c5b-4600-886a-a393f4e1cb98",
   "metadata": {},
   "outputs": [],
   "source": [
    "concatenated_alignment_dict = {}\n",
    "for ref in tqdm(full_ortholog_refs):\n",
    "    temp_seq = []\n",
    "    temp = tb_mycobacteria_rbh[tb_mycobacteria_rbh['query_ref'] == ref]\n",
    "    for i, r in temp.iterrows():\n",
    "        temp_seq.append([r['target_species_name'].replace(' ','_'),protein_dict[r['target_ref']]])\n",
    "    util.produce_fasta_file(temp_seq, project_dir +'/temp_seq.fasta')    \n",
    "    cline = MuscleCommandline(muscle_exe, input= project_dir +'/temp_seq.fasta', out=project_dir +'/temp_seq_alignment.fasta')\n",
    "    result = cline();    \n",
    "    alignment = util.read_fasta_to_array(project_dir +'/temp_seq_alignment.fasta')    \n",
    "    for (name, sequence) in zip(alignment[0], alignment[1]):\n",
    "        if name in concatenated_alignment_dict:\n",
    "            temp2 = concatenated_alignment_dict[name]\n",
    "            concatenated_alignment_dict[name] = temp2 + sequence\n",
    "        else:\n",
    "            concatenated_alignment_dict[name] = sequence\n",
    "temp  = []\n",
    "for k, v in concatenated_alignment_dict.items():\n",
    "    temp.append([k, v])\n",
    "util.produce_fasta_file(temp, project_dir + '/concatenated_alignment.fasta')"
   ]
  },
  {
   "cell_type": "markdown",
   "id": "29f1cedc-4c63-4c6a-ae79-69fa70649da6",
   "metadata": {},
   "source": [
    "#####  Are there any hits in wider Actinobacteria?  No massively significant ones"
   ]
  },
  {
   "cell_type": "code",
   "execution_count": 14,
   "id": "b43b90b9-c31e-4810-8e94-68ab20b31dd3",
   "metadata": {},
   "outputs": [
    {
     "name": "stderr",
     "output_type": "stream",
     "text": [
      "100%|██████████| 645/645 [05:23<00:00,  1.99it/s]\n"
     ]
    }
   ],
   "source": [
    "actinobacteria_names_dict = {}\n",
    "for dirname in tqdm(actinobacteria_dirs):\n",
    "    for genome_record in (SeqIO.parse(actinobacteria_seq_dir + '/' + dirname + '/genomic.gbff', \"genbank\")):\n",
    "        accession_ver = genome_record.annotations['accessions'][0] + '.' + str(genome_record.annotations['sequence_version'])\n",
    "        actinobacteria_names_dict[accession_ver] = genome_record.annotations['organism']\n"
   ]
  },
  {
   "cell_type": "code",
   "execution_count": 27,
   "id": "56489b05-9d48-4590-9969-ed638cc1abab",
   "metadata": {},
   "outputs": [
    {
     "name": "stdout",
     "output_type": "stream",
     "text": [
      "Corynebacterium singulare MEME-1 0.000512\n",
      "Gordonia iterans MEME-1 0.000793\n",
      "Gordonia amicalis MEME-1 0.000835\n",
      "Salinispora tropica CNB-440 MEME-1 0.000835\n",
      "Streptomyces tirandamycinicus MEME-1 0.000869\n",
      "Corynebacterium epidermidicanis MEME-1 0.000873\n",
      "Rathayibacter rathayi MEME-1 0.00094\n",
      "Rhodococcus opacus PD630 MEME-1 0.000946\n",
      "Streptomyces genisteinicus MEME-1 0.000993\n"
     ]
    }
   ],
   "source": [
    "hit_dict = {}\n",
    "temp_fimo_hits = pd.read_csv(project_dir + '/All_Actinobacteria_Species_Second_FIMO_Upstream_Output/fimo.tsv', sep='\\t')\n",
    "for i, r in temp_fimo_hits.iterrows():\n",
    "    if '#' in r['motif_id']:\n",
    "        continue\n",
    "    organism = actinobacteria_names_dict[r['sequence_name']]\n",
    "    motif_id = r['motif_alt_id']\n",
    "    q_val = float(r['q-value'])\n",
    "    if q_val < 1e-3 and motif_id == 'MEME-1' and not('Myco' in organism):\n",
    "        print(organism, motif_id, q_val)\n",
    "  \n"
   ]
  },
  {
   "cell_type": "code",
   "execution_count": null,
   "id": "7fc08fc8-7948-4b47-8ae8-d055db255e76",
   "metadata": {},
   "outputs": [],
   "source": []
  }
 ],
 "metadata": {
  "kernelspec": {
   "display_name": "Python 3 (ipykernel)",
   "language": "python",
   "name": "python3"
  },
  "language_info": {
   "codemirror_mode": {
    "name": "ipython",
    "version": 3
   },
   "file_extension": ".py",
   "mimetype": "text/x-python",
   "name": "python",
   "nbconvert_exporter": "python",
   "pygments_lexer": "ipython3",
   "version": "3.9.7"
  }
 },
 "nbformat": 4,
 "nbformat_minor": 5
}
