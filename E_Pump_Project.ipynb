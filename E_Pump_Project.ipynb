{
 "cells": [
  {
   "cell_type": "markdown",
   "id": "b1e30ed4-8a0e-4a6f-96eb-dfe116dfb2de",
   "metadata": {},
   "source": [
    "#### Directories etc"
   ]
  },
  {
   "cell_type": "code",
   "execution_count": 1,
   "id": "cf9c6377-5080-4c22-94db-feabe17cc47c",
   "metadata": {},
   "outputs": [],
   "source": [
    "import pandas as pd\n",
    "import pickle\n",
    "import seaborn as sns\n",
    "import matplotlib.pyplot as plt\n",
    "import numpy as np\n",
    "from Bio import Entrez, SeqIO, AlignIO, pairwise2, Align, Seq, motifs\n",
    "from Bio.Seq import Seq\n",
    "from Bio.SeqFeature import SeqFeature, FeatureLocation\n",
    "from scipy.stats import binom\n",
    "import math\n",
    "import random\n",
    "from tqdm import tqdm\n",
    "from Comparative_Analysis import Utilities as util\n",
    "import random\n",
    "from joblib import Parallel, delayed\n",
    "from Comparative_Analysis import Blast_Functions as blastfn\n",
    "import time\n",
    "import os\n",
    "import copy\n",
    "from Comparative_Analysis import ORF_Functions as orffn\n",
    "from Comparative_Analysis import Alignment as alignfn\n",
    "from random import sample\n",
    "from Bio.Align.Applications import MuscleCommandline\n",
    "import subprocess\n",
    "pd.options.mode.chained_assignment = None  # default='warn'"
   ]
  },
  {
   "cell_type": "code",
   "execution_count": 6,
   "id": "1988a242-f558-4643-b3a9-27272fa7bebc",
   "metadata": {},
   "outputs": [],
   "source": [
    "project_dir = 'F:/Project_Data/mabR_Project'\n",
    "regulated_file = '2022-10-02_data.xlsx'\n",
    "seq_dir = 'F:/Datasets/NCBI_Refseq_Mycobacteriaceae_All_Levels/ncbi_dataset/data'\n",
    "sequence_dirs = util.list_dirs(seq_dir)\n",
    "tb_species = 'NC_000962.3' \n",
    "tb_annotation_dirname = 'GCF_000195955.2'\n",
    "num_cores = 16\n",
    "core_numbers = list(range(1, num_cores+1))\n",
    "muscle_exe = 'C:/Users/nicho/Muscle/muscle3.8.31_i86win32.exe'\n",
    "full_build = False"
   ]
  },
  {
   "cell_type": "markdown",
   "id": "198ce0ae-2b01-482b-83cb-93c720537916",
   "metadata": {},
   "source": [
    "#### Create file with all CDS for species and - BLAST databases already created (see E-pump project)"
   ]
  },
  {
   "cell_type": "code",
   "execution_count": 3,
   "id": "6068fd3f-1e3d-4bd4-b1ac-ef4c7a190fd4",
   "metadata": {
    "tags": []
   },
   "outputs": [],
   "source": [
    "def generate_protein_dataset(num_subsets, subset_num, dir_list): \n",
    "    sequence_dirs = util.chunk_list(dir_list, num_subsets, subset_num)\n",
    "    all_cds = []\n",
    "    all_tb_cds = []\n",
    "    names = []\n",
    "    sequences = []\n",
    "    locations = []\n",
    "    for dirname in (sequence_dirs):\n",
    "        for genome_record in SeqIO.parse(seq_dir + '/' + dirname + '/genomic.gbff', \"genbank\"):\n",
    "            accession_ver = genome_record.annotations['accessions'][0] + '.' + str(genome_record.annotations['sequence_version'])\n",
    "            names.append([accession_ver, genome_record.annotations['organism']])\n",
    "            full_sequence = str(genome_record.seq)\n",
    "            sequences.append([accession_ver, full_sequence])\n",
    "            for feature in genome_record.features:\n",
    "                a = feature.qualifiers\n",
    "                if feature.type == 'CDS' and a.get(\"translation\") != None:\n",
    "                    locus_tag = a.get(\"locus_tag\")[0]\n",
    "                    accession_locus = accession_ver + '@' + locus_tag\n",
    "                    translation = a.get(\"translation\")[0]\n",
    "                    (start, stop, strand) = (int(feature.location.start), int(feature.location.end), int(feature.location.strand))\n",
    "                    locations.append([accession_locus, (start, stop, strand)])\n",
    "                    all_cds.append([accession_locus, translation])\n",
    "                    if dirname == tb_annotation_dirname:\n",
    "                        all_tb_cds.append([accession_locus, translation])\n",
    "    return (all_cds, all_tb_cds, names, locations, sequences)           "
   ]
  },
  {
   "cell_type": "code",
   "execution_count": 4,
   "id": "542f0742-7686-4b24-808f-787faa247c21",
   "metadata": {
    "tags": []
   },
   "outputs": [],
   "source": [
    "#if full_build == True:\n",
    "if 1==1:\n",
    "    parallel_output = Parallel(n_jobs=-1)(delayed(generate_protein_dataset)(num_cores, core_number, sequence_dirs) for core_number in core_numbers)\n",
    "    names_dict = {}\n",
    "    locations_dict = {}\n",
    "    sequence_dict = {}\n",
    "    all_cds = []\n",
    "    all_tb_cds = []\n",
    "    for x in parallel_output:\n",
    "        all_cds += x[0]\n",
    "        all_tb_cds += x[1]\n",
    "        for temp in x[2]:\n",
    "            names_dict[temp[0]] = temp[1]\n",
    "        for temp in x[3]:\n",
    "            locations_dict[temp[0]] = temp[1]\n",
    "        for temp in x[4]:\n",
    "            sequence_dict[temp[0]] = temp[1]"
   ]
  },
  {
   "cell_type": "code",
   "execution_count": 5,
   "id": "d1d8a054-5504-49f9-a21e-63fe23b7ae62",
   "metadata": {
    "tags": []
   },
   "outputs": [],
   "source": [
    "with open(project_dir + '/names_dict.pkl', 'wb') as f:\n",
    "        pickle.dump(names_dict, f) "
   ]
  },
  {
   "cell_type": "code",
   "execution_count": 8,
   "id": "58c9ff80-2832-4102-ac73-39222156bde1",
   "metadata": {},
   "outputs": [],
   "source": [
    "downreg_genes = pd.read_excel(project_dir + '/' + regulated_file, sheet_name = 'significnat genes downregulated')\n",
    "upreg_genes = pd.read_excel(project_dir + '/' + regulated_file, sheet_name = 'significant genes upregulated')"
   ]
  },
  {
   "cell_type": "code",
   "execution_count": 9,
   "id": "7829e367-82f3-49e9-8b5e-2722ebd29ac9",
   "metadata": {},
   "outputs": [
    {
     "data": {
      "text/html": [
       "<div>\n",
       "<style scoped>\n",
       "    .dataframe tbody tr th:only-of-type {\n",
       "        vertical-align: middle;\n",
       "    }\n",
       "\n",
       "    .dataframe tbody tr th {\n",
       "        vertical-align: top;\n",
       "    }\n",
       "\n",
       "    .dataframe thead th {\n",
       "        text-align: right;\n",
       "    }\n",
       "</style>\n",
       "<table border=\"1\" class=\"dataframe\">\n",
       "  <thead>\n",
       "    <tr style=\"text-align: right;\">\n",
       "      <th></th>\n",
       "      <th>Locus</th>\n",
       "      <th>Name</th>\n",
       "      <th>log2FoldChange</th>\n",
       "      <th>Fold change</th>\n",
       "      <th>padj</th>\n",
       "      <th>gene_set_m</th>\n",
       "      <th>gene_set_k</th>\n",
       "      <th>Comments</th>\n",
       "      <th>Unnamed: 8</th>\n",
       "    </tr>\n",
       "  </thead>\n",
       "  <tbody>\n",
       "    <tr>\n",
       "      <th>0</th>\n",
       "      <td>NaN</td>\n",
       "      <td>Rv0859</td>\n",
       "      <td>-1.033287</td>\n",
       "      <td>NaN</td>\n",
       "      <td>2.716021e-03</td>\n",
       "      <td>NaN</td>\n",
       "      <td>NaN</td>\n",
       "      <td>NaN</td>\n",
       "      <td>NaN</td>\n",
       "    </tr>\n",
       "    <tr>\n",
       "      <th>1</th>\n",
       "      <td>Rv0024</td>\n",
       "      <td>Rv0024</td>\n",
       "      <td>-0.841414</td>\n",
       "      <td>NaN</td>\n",
       "      <td>6.135362e-03</td>\n",
       "      <td>virulence, detoxification, adaptation</td>\n",
       "      <td>NaN</td>\n",
       "      <td>NaN</td>\n",
       "      <td>NaN</td>\n",
       "    </tr>\n",
       "    <tr>\n",
       "      <th>2</th>\n",
       "      <td>Rv0096</td>\n",
       "      <td>PPE1</td>\n",
       "      <td>-2.367367</td>\n",
       "      <td>NaN</td>\n",
       "      <td>2.768834e-08</td>\n",
       "      <td>PE/PPE</td>\n",
       "      <td>NaN</td>\n",
       "      <td>Isonitrile lipopeptide synthesis and copper ho...</td>\n",
       "      <td>NaN</td>\n",
       "    </tr>\n",
       "    <tr>\n",
       "      <th>3</th>\n",
       "      <td>Rv0097</td>\n",
       "      <td>Rv0097</td>\n",
       "      <td>-1.674485</td>\n",
       "      <td>NaN</td>\n",
       "      <td>1.655765e-03</td>\n",
       "      <td>intermediary metabolism and respiration</td>\n",
       "      <td>NaN</td>\n",
       "      <td>NaN</td>\n",
       "      <td>NaN</td>\n",
       "    </tr>\n",
       "    <tr>\n",
       "      <th>4</th>\n",
       "      <td>Rv0098</td>\n",
       "      <td>fcoT</td>\n",
       "      <td>-1.263189</td>\n",
       "      <td>NaN</td>\n",
       "      <td>9.373149e-03</td>\n",
       "      <td>lipid metabolism</td>\n",
       "      <td>NaN</td>\n",
       "      <td>NaN</td>\n",
       "      <td>NaN</td>\n",
       "    </tr>\n",
       "    <tr>\n",
       "      <th>...</th>\n",
       "      <td>...</td>\n",
       "      <td>...</td>\n",
       "      <td>...</td>\n",
       "      <td>...</td>\n",
       "      <td>...</td>\n",
       "      <td>...</td>\n",
       "      <td>...</td>\n",
       "      <td>...</td>\n",
       "      <td>...</td>\n",
       "    </tr>\n",
       "    <tr>\n",
       "      <th>93</th>\n",
       "      <td>Rv3772</td>\n",
       "      <td>hisC2</td>\n",
       "      <td>-0.493583</td>\n",
       "      <td>NaN</td>\n",
       "      <td>1.298495e-02</td>\n",
       "      <td>intermediary metabolism and respiration</td>\n",
       "      <td>00340 Histidine metabolism [PATH:mtu00340]</td>\n",
       "      <td>NaN</td>\n",
       "      <td>NaN</td>\n",
       "    </tr>\n",
       "    <tr>\n",
       "      <th>94</th>\n",
       "      <td>Rv3774</td>\n",
       "      <td>echA21</td>\n",
       "      <td>-0.913978</td>\n",
       "      <td>NaN</td>\n",
       "      <td>1.729775e-03</td>\n",
       "      <td>lipid metabolism</td>\n",
       "      <td>00640 Propanoate metabolism [PATH:mtu00640]</td>\n",
       "      <td>NaN</td>\n",
       "      <td>NaN</td>\n",
       "    </tr>\n",
       "    <tr>\n",
       "      <th>95</th>\n",
       "      <td>Rv3775</td>\n",
       "      <td>lipE</td>\n",
       "      <td>-1.395504</td>\n",
       "      <td>NaN</td>\n",
       "      <td>9.225201e-05</td>\n",
       "      <td>intermediary metabolism and respiration</td>\n",
       "      <td>NaN</td>\n",
       "      <td>NaN</td>\n",
       "      <td>https://pubmed.ncbi.nlm.nih.gov/31636137/</td>\n",
       "    </tr>\n",
       "    <tr>\n",
       "      <th>96</th>\n",
       "      <td>Rv3792</td>\n",
       "      <td>aftA</td>\n",
       "      <td>-0.895517</td>\n",
       "      <td>NaN</td>\n",
       "      <td>1.388483e-02</td>\n",
       "      <td>cell wall and cell processes</td>\n",
       "      <td>00572 Arabinogalactan biosynthesis - Mycobacte...</td>\n",
       "      <td>NaN</td>\n",
       "      <td>NaN</td>\n",
       "    </tr>\n",
       "    <tr>\n",
       "      <th>97</th>\n",
       "      <td>Rv3795</td>\n",
       "      <td>embB</td>\n",
       "      <td>-0.902795</td>\n",
       "      <td>NaN</td>\n",
       "      <td>3.062946e-03</td>\n",
       "      <td>cell wall and cell processes</td>\n",
       "      <td>00572 Arabinogalactan biosynthesis - Mycobacte...</td>\n",
       "      <td>NaN</td>\n",
       "      <td>NaN</td>\n",
       "    </tr>\n",
       "  </tbody>\n",
       "</table>\n",
       "<p>98 rows × 9 columns</p>\n",
       "</div>"
      ],
      "text/plain": [
       "     Locus    Name  log2FoldChange  Fold change          padj  \\\n",
       "0      NaN  Rv0859       -1.033287          NaN  2.716021e-03   \n",
       "1   Rv0024  Rv0024       -0.841414          NaN  6.135362e-03   \n",
       "2   Rv0096    PPE1       -2.367367          NaN  2.768834e-08   \n",
       "3   Rv0097  Rv0097       -1.674485          NaN  1.655765e-03   \n",
       "4   Rv0098    fcoT       -1.263189          NaN  9.373149e-03   \n",
       "..     ...     ...             ...          ...           ...   \n",
       "93  Rv3772   hisC2       -0.493583          NaN  1.298495e-02   \n",
       "94  Rv3774  echA21       -0.913978          NaN  1.729775e-03   \n",
       "95  Rv3775    lipE       -1.395504          NaN  9.225201e-05   \n",
       "96  Rv3792    aftA       -0.895517          NaN  1.388483e-02   \n",
       "97  Rv3795    embB       -0.902795          NaN  3.062946e-03   \n",
       "\n",
       "                                 gene_set_m  \\\n",
       "0                                       NaN   \n",
       "1     virulence, detoxification, adaptation   \n",
       "2                                    PE/PPE   \n",
       "3   intermediary metabolism and respiration   \n",
       "4                          lipid metabolism   \n",
       "..                                      ...   \n",
       "93  intermediary metabolism and respiration   \n",
       "94                         lipid metabolism   \n",
       "95  intermediary metabolism and respiration   \n",
       "96             cell wall and cell processes   \n",
       "97             cell wall and cell processes   \n",
       "\n",
       "                                           gene_set_k  \\\n",
       "0                                                 NaN   \n",
       "1                                                 NaN   \n",
       "2                                                 NaN   \n",
       "3                                                 NaN   \n",
       "4                                                 NaN   \n",
       "..                                                ...   \n",
       "93         00340 Histidine metabolism [PATH:mtu00340]   \n",
       "94        00640 Propanoate metabolism [PATH:mtu00640]   \n",
       "95                                                NaN   \n",
       "96  00572 Arabinogalactan biosynthesis - Mycobacte...   \n",
       "97  00572 Arabinogalactan biosynthesis - Mycobacte...   \n",
       "\n",
       "                                             Comments  \\\n",
       "0                                                 NaN   \n",
       "1                                                 NaN   \n",
       "2   Isonitrile lipopeptide synthesis and copper ho...   \n",
       "3                                                 NaN   \n",
       "4                                                 NaN   \n",
       "..                                                ...   \n",
       "93                                                NaN   \n",
       "94                                                NaN   \n",
       "95                                                NaN   \n",
       "96                                                NaN   \n",
       "97                                                NaN   \n",
       "\n",
       "                                   Unnamed: 8  \n",
       "0                                         NaN  \n",
       "1                                         NaN  \n",
       "2                                         NaN  \n",
       "3                                         NaN  \n",
       "4                                         NaN  \n",
       "..                                        ...  \n",
       "93                                        NaN  \n",
       "94                                        NaN  \n",
       "95  https://pubmed.ncbi.nlm.nih.gov/31636137/  \n",
       "96                                        NaN  \n",
       "97                                        NaN  \n",
       "\n",
       "[98 rows x 9 columns]"
      ]
     },
     "execution_count": 9,
     "metadata": {},
     "output_type": "execute_result"
    }
   ],
   "source": [
    "downreg_genes"
   ]
  },
  {
   "cell_type": "markdown",
   "id": "c46ca5ad-41e6-4030-9de9-02fc85dd7710",
   "metadata": {
    "tags": []
   },
   "source": [
    "#### Subset based on loci of interest, and filter orthologues based on percent identity, synteny"
   ]
  },
  {
   "cell_type": "code",
   "execution_count": 22,
   "id": "b57cbe76-3da6-41bd-9c9f-9e88e63ae09b",
   "metadata": {
    "tags": []
   },
   "outputs": [],
   "source": [
    "loci = ['Rv0251c', 'Rv0252']    # [TetR,  divergent_gene]\n",
    "target_loci = [tb_species + '@' + x for x in loci]"
   ]
  },
  {
   "cell_type": "code",
   "execution_count": 23,
   "id": "41b78a0a-f4fd-4fa2-a396-52e4c217498d",
   "metadata": {
    "tags": []
   },
   "outputs": [],
   "source": [
    "rbh = pd.read_csv(project_dir + '/reciprocal_best_hits.csv')\n",
    "rbh = rbh[rbh['query_ref'].isin(target_loci)]\n",
    "rbh['target_loc'] = rbh['target_ref'].map(locations_dict)\n",
    "rbh['cds_count'] = rbh.groupby('target_species_name')['query_ref'].transform('size')\n",
    "rbh['min_pct_id'] = rbh.groupby('target_species_name')['percent_identical_matches'].transform('min')"
   ]
  },
  {
   "cell_type": "code",
   "execution_count": 24,
   "id": "b3a5a39a-82e2-4c93-85ed-48158e201a62",
   "metadata": {
    "tags": []
   },
   "outputs": [],
   "source": [
    "rbh = rbh[rbh['cds_count'] == 2]\n",
    "for i, r in rbh.iterrows():\n",
    "    (start, stop, strand) = r['target_loc']\n",
    "    rbh.at[i,'start'] = start\n",
    "    rbh.at[i,'stop'] =  stop\n",
    "    rbh.at[i,'strand'] = strand\n",
    "rbh['min_start'] = rbh.groupby('target_species_name')['start'].transform('min')\n",
    "rbh['max_stop'] = rbh.groupby('target_species_name')['stop'].transform('max')\n",
    "rbh['region_size'] = rbh['max_stop'] - rbh['min_start']\n",
    "rbh = rbh[rbh['region_size'] < 5000]\n",
    "rbh = rbh[rbh['min_pct_id'] >= 70]"
   ]
  },
  {
   "cell_type": "code",
   "execution_count": 25,
   "id": "7c881cd2-c71b-4402-a10e-68ede4c0ebdd",
   "metadata": {},
   "outputs": [
    {
     "data": {
      "text/html": [
       "<div>\n",
       "<style scoped>\n",
       "    .dataframe tbody tr th:only-of-type {\n",
       "        vertical-align: middle;\n",
       "    }\n",
       "\n",
       "    .dataframe tbody tr th {\n",
       "        vertical-align: top;\n",
       "    }\n",
       "\n",
       "    .dataframe thead th {\n",
       "        text-align: right;\n",
       "    }\n",
       "</style>\n",
       "<table border=\"1\" class=\"dataframe\">\n",
       "  <thead>\n",
       "    <tr style=\"text-align: right;\">\n",
       "      <th></th>\n",
       "      <th>Unnamed: 0</th>\n",
       "      <th>query_ref</th>\n",
       "      <th>target_ref</th>\n",
       "      <th>query_length</th>\n",
       "      <th>subject_length</th>\n",
       "      <th>percent_identical_matches</th>\n",
       "      <th>alignment_length</th>\n",
       "      <th>number_mismatches</th>\n",
       "      <th>number_of_gap_openings</th>\n",
       "      <th>query_start_alignment</th>\n",
       "      <th>...</th>\n",
       "      <th>reciprocal_best_hit</th>\n",
       "      <th>target_loc</th>\n",
       "      <th>cds_count</th>\n",
       "      <th>min_pct_id</th>\n",
       "      <th>start</th>\n",
       "      <th>stop</th>\n",
       "      <th>strand</th>\n",
       "      <th>min_start</th>\n",
       "      <th>max_stop</th>\n",
       "      <th>region_size</th>\n",
       "    </tr>\n",
       "  </thead>\n",
       "  <tbody>\n",
       "    <tr>\n",
       "      <th>37680</th>\n",
       "      <td>77611</td>\n",
       "      <td>NC_000962.3@Rv0251c</td>\n",
       "      <td>NZ_FXEG02000001.1@MAAFP003_RS02045</td>\n",
       "      <td>159</td>\n",
       "      <td>146</td>\n",
       "      <td>74.214</td>\n",
       "      <td>159</td>\n",
       "      <td>28</td>\n",
       "      <td>4</td>\n",
       "      <td>1</td>\n",
       "      <td>...</td>\n",
       "      <td>Y</td>\n",
       "      <td>(446901, 447342, -1)</td>\n",
       "      <td>2</td>\n",
       "      <td>74.214</td>\n",
       "      <td>446901.0</td>\n",
       "      <td>447342.0</td>\n",
       "      <td>-1.0</td>\n",
       "      <td>446901.0</td>\n",
       "      <td>450135.0</td>\n",
       "      <td>3234.0</td>\n",
       "    </tr>\n",
       "    <tr>\n",
       "      <th>37681</th>\n",
       "      <td>77630</td>\n",
       "      <td>NC_000962.3@Rv0251c</td>\n",
       "      <td>NZ_MVHD01000043.1@BST11_RS20215</td>\n",
       "      <td>159</td>\n",
       "      <td>146</td>\n",
       "      <td>71.069</td>\n",
       "      <td>159</td>\n",
       "      <td>33</td>\n",
       "      <td>4</td>\n",
       "      <td>1</td>\n",
       "      <td>...</td>\n",
       "      <td>Y</td>\n",
       "      <td>(25779, 26220, 1)</td>\n",
       "      <td>2</td>\n",
       "      <td>71.069</td>\n",
       "      <td>25779.0</td>\n",
       "      <td>26220.0</td>\n",
       "      <td>1.0</td>\n",
       "      <td>22971.0</td>\n",
       "      <td>26220.0</td>\n",
       "      <td>3249.0</td>\n",
       "    </tr>\n",
       "    <tr>\n",
       "      <th>37682</th>\n",
       "      <td>77592</td>\n",
       "      <td>NC_000962.3@Rv0251c</td>\n",
       "      <td>NZ_MVHE01000021.1@BST12_RS14690</td>\n",
       "      <td>159</td>\n",
       "      <td>149</td>\n",
       "      <td>72.956</td>\n",
       "      <td>159</td>\n",
       "      <td>33</td>\n",
       "      <td>3</td>\n",
       "      <td>1</td>\n",
       "      <td>...</td>\n",
       "      <td>Y</td>\n",
       "      <td>(25429, 25879, -1)</td>\n",
       "      <td>2</td>\n",
       "      <td>72.956</td>\n",
       "      <td>25429.0</td>\n",
       "      <td>25879.0</td>\n",
       "      <td>-1.0</td>\n",
       "      <td>25429.0</td>\n",
       "      <td>28651.0</td>\n",
       "      <td>3222.0</td>\n",
       "    </tr>\n",
       "    <tr>\n",
       "      <th>37683</th>\n",
       "      <td>77628</td>\n",
       "      <td>NC_000962.3@Rv0251c</td>\n",
       "      <td>NZ_MVHG01000044.1@BST14_RS16935</td>\n",
       "      <td>159</td>\n",
       "      <td>146</td>\n",
       "      <td>73.585</td>\n",
       "      <td>159</td>\n",
       "      <td>29</td>\n",
       "      <td>4</td>\n",
       "      <td>1</td>\n",
       "      <td>...</td>\n",
       "      <td>Y</td>\n",
       "      <td>(24926, 25367, 1)</td>\n",
       "      <td>2</td>\n",
       "      <td>73.585</td>\n",
       "      <td>24926.0</td>\n",
       "      <td>25367.0</td>\n",
       "      <td>1.0</td>\n",
       "      <td>22116.0</td>\n",
       "      <td>25367.0</td>\n",
       "      <td>3251.0</td>\n",
       "    </tr>\n",
       "    <tr>\n",
       "      <th>37684</th>\n",
       "      <td>77613</td>\n",
       "      <td>NC_000962.3@Rv0251c</td>\n",
       "      <td>NZ_MVHI01000046.1@BST16_RS23585</td>\n",
       "      <td>159</td>\n",
       "      <td>145</td>\n",
       "      <td>74.843</td>\n",
       "      <td>159</td>\n",
       "      <td>26</td>\n",
       "      <td>5</td>\n",
       "      <td>1</td>\n",
       "      <td>...</td>\n",
       "      <td>Y</td>\n",
       "      <td>(24778, 25216, -1)</td>\n",
       "      <td>2</td>\n",
       "      <td>74.843</td>\n",
       "      <td>24778.0</td>\n",
       "      <td>25216.0</td>\n",
       "      <td>-1.0</td>\n",
       "      <td>24778.0</td>\n",
       "      <td>27978.0</td>\n",
       "      <td>3200.0</td>\n",
       "    </tr>\n",
       "    <tr>\n",
       "      <th>...</th>\n",
       "      <td>...</td>\n",
       "      <td>...</td>\n",
       "      <td>...</td>\n",
       "      <td>...</td>\n",
       "      <td>...</td>\n",
       "      <td>...</td>\n",
       "      <td>...</td>\n",
       "      <td>...</td>\n",
       "      <td>...</td>\n",
       "      <td>...</td>\n",
       "      <td>...</td>\n",
       "      <td>...</td>\n",
       "      <td>...</td>\n",
       "      <td>...</td>\n",
       "      <td>...</td>\n",
       "      <td>...</td>\n",
       "      <td>...</td>\n",
       "      <td>...</td>\n",
       "      <td>...</td>\n",
       "      <td>...</td>\n",
       "      <td>...</td>\n",
       "    </tr>\n",
       "    <tr>\n",
       "      <th>37920</th>\n",
       "      <td>77797</td>\n",
       "      <td>NC_000962.3@Rv0252</td>\n",
       "      <td>NZ_LT717700.1@MTAB308_RS14285</td>\n",
       "      <td>853</td>\n",
       "      <td>857</td>\n",
       "      <td>89.461</td>\n",
       "      <td>854</td>\n",
       "      <td>86</td>\n",
       "      <td>3</td>\n",
       "      <td>1</td>\n",
       "      <td>...</td>\n",
       "      <td>Y</td>\n",
       "      <td>(1269670, 1272244, -1)</td>\n",
       "      <td>2</td>\n",
       "      <td>76.101</td>\n",
       "      <td>1269670.0</td>\n",
       "      <td>1272244.0</td>\n",
       "      <td>-1.0</td>\n",
       "      <td>1269670.0</td>\n",
       "      <td>1272910.0</td>\n",
       "      <td>3240.0</td>\n",
       "    </tr>\n",
       "    <tr>\n",
       "      <th>37921</th>\n",
       "      <td>77795</td>\n",
       "      <td>NC_000962.3@Rv0252</td>\n",
       "      <td>NZ_MVIL01000019.1@BST46_RS08170</td>\n",
       "      <td>853</td>\n",
       "      <td>855</td>\n",
       "      <td>88.525</td>\n",
       "      <td>854</td>\n",
       "      <td>95</td>\n",
       "      <td>2</td>\n",
       "      <td>1</td>\n",
       "      <td>...</td>\n",
       "      <td>Y</td>\n",
       "      <td>(39096, 41664, 1)</td>\n",
       "      <td>2</td>\n",
       "      <td>71.069</td>\n",
       "      <td>39096.0</td>\n",
       "      <td>41664.0</td>\n",
       "      <td>1.0</td>\n",
       "      <td>38428.0</td>\n",
       "      <td>41664.0</td>\n",
       "      <td>3236.0</td>\n",
       "    </tr>\n",
       "    <tr>\n",
       "      <th>37922</th>\n",
       "      <td>77803</td>\n",
       "      <td>NC_000962.3@Rv0252</td>\n",
       "      <td>NZ_LQPY01000011.1@AWC29_RS05095</td>\n",
       "      <td>853</td>\n",
       "      <td>854</td>\n",
       "      <td>88.421</td>\n",
       "      <td>855</td>\n",
       "      <td>96</td>\n",
       "      <td>2</td>\n",
       "      <td>1</td>\n",
       "      <td>...</td>\n",
       "      <td>Y</td>\n",
       "      <td>(340133, 342698, 1)</td>\n",
       "      <td>2</td>\n",
       "      <td>75.472</td>\n",
       "      <td>340133.0</td>\n",
       "      <td>342698.0</td>\n",
       "      <td>1.0</td>\n",
       "      <td>339467.0</td>\n",
       "      <td>342698.0</td>\n",
       "      <td>3231.0</td>\n",
       "    </tr>\n",
       "    <tr>\n",
       "      <th>37923</th>\n",
       "      <td>77769</td>\n",
       "      <td>NC_000962.3@Rv0252</td>\n",
       "      <td>NC_000962.3@Rv0252</td>\n",
       "      <td>853</td>\n",
       "      <td>853</td>\n",
       "      <td>100.000</td>\n",
       "      <td>853</td>\n",
       "      <td>0</td>\n",
       "      <td>0</td>\n",
       "      <td>1</td>\n",
       "      <td>...</td>\n",
       "      <td>Y</td>\n",
       "      <td>(302865, 305427, 1)</td>\n",
       "      <td>2</td>\n",
       "      <td>100.000</td>\n",
       "      <td>302865.0</td>\n",
       "      <td>305427.0</td>\n",
       "      <td>1.0</td>\n",
       "      <td>302172.0</td>\n",
       "      <td>305427.0</td>\n",
       "      <td>3255.0</td>\n",
       "    </tr>\n",
       "    <tr>\n",
       "      <th>37924</th>\n",
       "      <td>77835</td>\n",
       "      <td>NC_000962.3@Rv0252</td>\n",
       "      <td>NZ_CP059165.1@H0P51_RS02920</td>\n",
       "      <td>853</td>\n",
       "      <td>836</td>\n",
       "      <td>85.409</td>\n",
       "      <td>843</td>\n",
       "      <td>115</td>\n",
       "      <td>3</td>\n",
       "      <td>10</td>\n",
       "      <td>...</td>\n",
       "      <td>Y</td>\n",
       "      <td>(689959, 692470, 1)</td>\n",
       "      <td>2</td>\n",
       "      <td>72.393</td>\n",
       "      <td>689959.0</td>\n",
       "      <td>692470.0</td>\n",
       "      <td>1.0</td>\n",
       "      <td>689293.0</td>\n",
       "      <td>692470.0</td>\n",
       "      <td>3177.0</td>\n",
       "    </tr>\n",
       "  </tbody>\n",
       "</table>\n",
       "<p>136 rows × 30 columns</p>\n",
       "</div>"
      ],
      "text/plain": [
       "       Unnamed: 0            query_ref                          target_ref  \\\n",
       "37680       77611  NC_000962.3@Rv0251c  NZ_FXEG02000001.1@MAAFP003_RS02045   \n",
       "37681       77630  NC_000962.3@Rv0251c     NZ_MVHD01000043.1@BST11_RS20215   \n",
       "37682       77592  NC_000962.3@Rv0251c     NZ_MVHE01000021.1@BST12_RS14690   \n",
       "37683       77628  NC_000962.3@Rv0251c     NZ_MVHG01000044.1@BST14_RS16935   \n",
       "37684       77613  NC_000962.3@Rv0251c     NZ_MVHI01000046.1@BST16_RS23585   \n",
       "...           ...                  ...                                 ...   \n",
       "37920       77797   NC_000962.3@Rv0252       NZ_LT717700.1@MTAB308_RS14285   \n",
       "37921       77795   NC_000962.3@Rv0252     NZ_MVIL01000019.1@BST46_RS08170   \n",
       "37922       77803   NC_000962.3@Rv0252     NZ_LQPY01000011.1@AWC29_RS05095   \n",
       "37923       77769   NC_000962.3@Rv0252                  NC_000962.3@Rv0252   \n",
       "37924       77835   NC_000962.3@Rv0252         NZ_CP059165.1@H0P51_RS02920   \n",
       "\n",
       "       query_length  subject_length  percent_identical_matches  \\\n",
       "37680           159             146                     74.214   \n",
       "37681           159             146                     71.069   \n",
       "37682           159             149                     72.956   \n",
       "37683           159             146                     73.585   \n",
       "37684           159             145                     74.843   \n",
       "...             ...             ...                        ...   \n",
       "37920           853             857                     89.461   \n",
       "37921           853             855                     88.525   \n",
       "37922           853             854                     88.421   \n",
       "37923           853             853                    100.000   \n",
       "37924           853             836                     85.409   \n",
       "\n",
       "       alignment_length  number_mismatches  number_of_gap_openings  \\\n",
       "37680               159                 28                       4   \n",
       "37681               159                 33                       4   \n",
       "37682               159                 33                       3   \n",
       "37683               159                 29                       4   \n",
       "37684               159                 26                       5   \n",
       "...                 ...                ...                     ...   \n",
       "37920               854                 86                       3   \n",
       "37921               854                 95                       2   \n",
       "37922               855                 96                       2   \n",
       "37923               853                  0                       0   \n",
       "37924               843                115                       3   \n",
       "\n",
       "       query_start_alignment  ...  reciprocal_best_hit  \\\n",
       "37680                      1  ...                    Y   \n",
       "37681                      1  ...                    Y   \n",
       "37682                      1  ...                    Y   \n",
       "37683                      1  ...                    Y   \n",
       "37684                      1  ...                    Y   \n",
       "...                      ...  ...                  ...   \n",
       "37920                      1  ...                    Y   \n",
       "37921                      1  ...                    Y   \n",
       "37922                      1  ...                    Y   \n",
       "37923                      1  ...                    Y   \n",
       "37924                     10  ...                    Y   \n",
       "\n",
       "                   target_loc  cds_count  min_pct_id      start       stop  \\\n",
       "37680    (446901, 447342, -1)          2      74.214   446901.0   447342.0   \n",
       "37681       (25779, 26220, 1)          2      71.069    25779.0    26220.0   \n",
       "37682      (25429, 25879, -1)          2      72.956    25429.0    25879.0   \n",
       "37683       (24926, 25367, 1)          2      73.585    24926.0    25367.0   \n",
       "37684      (24778, 25216, -1)          2      74.843    24778.0    25216.0   \n",
       "...                       ...        ...         ...        ...        ...   \n",
       "37920  (1269670, 1272244, -1)          2      76.101  1269670.0  1272244.0   \n",
       "37921       (39096, 41664, 1)          2      71.069    39096.0    41664.0   \n",
       "37922     (340133, 342698, 1)          2      75.472   340133.0   342698.0   \n",
       "37923     (302865, 305427, 1)          2     100.000   302865.0   305427.0   \n",
       "37924     (689959, 692470, 1)          2      72.393   689959.0   692470.0   \n",
       "\n",
       "      strand  min_start   max_stop  region_size  \n",
       "37680   -1.0   446901.0   450135.0       3234.0  \n",
       "37681    1.0    22971.0    26220.0       3249.0  \n",
       "37682   -1.0    25429.0    28651.0       3222.0  \n",
       "37683    1.0    22116.0    25367.0       3251.0  \n",
       "37684   -1.0    24778.0    27978.0       3200.0  \n",
       "...      ...        ...        ...          ...  \n",
       "37920   -1.0  1269670.0  1272910.0       3240.0  \n",
       "37921    1.0    38428.0    41664.0       3236.0  \n",
       "37922    1.0   339467.0   342698.0       3231.0  \n",
       "37923    1.0   302172.0   305427.0       3255.0  \n",
       "37924    1.0   689293.0   692470.0       3177.0  \n",
       "\n",
       "[136 rows x 30 columns]"
      ]
     },
     "execution_count": 25,
     "metadata": {},
     "output_type": "execute_result"
    }
   ],
   "source": [
    "rbh"
   ]
  },
  {
   "cell_type": "markdown",
   "id": "58cbcb11-a3c1-4414-bc65-fd2211bc50b6",
   "metadata": {
    "tags": []
   },
   "source": [
    "#### Generate FASTA file containing intergenic regions in orthologous species and run Muscle"
   ]
  },
  {
   "cell_type": "code",
   "execution_count": 17,
   "id": "01702e13-7e21-4fad-80de-b0cb1f4167ff",
   "metadata": {
    "tags": []
   },
   "outputs": [
    {
     "name": "stderr",
     "output_type": "stream",
     "text": [
      "100%|██████████| 28/28 [00:00<00:00, 59433.46it/s]\n"
     ]
    }
   ],
   "source": [
    "intergenic_regions = []\n",
    "tetR_regions = []\n",
    "for target_species in list(rbh['target_species_name'].unique()):\n",
    "    temp = rbh[rbh['target_species_name'] == target_species]\n",
    "    for i, r in temp.iterrows():\n",
    "        target_species_accession = r['target_species']\n",
    "        if r['query_ref'].split('@')[1] == loci[1]:\n",
    "            divgene_coords = r['target_loc']\n",
    "        if r['query_ref'].split('@')[1] == loci[0]:\n",
    "            tetR_coords = r['target_loc']\n",
    "    if divgene_coords[2] == 1:\n",
    "        intergenic_region = (tetR_coords[1], divgene_coords[0]+3, 1)\n",
    "    else:\n",
    "        intergenic_region = (divgene_coords[1] - 3, tetR_coords[0], -1)\n",
    "    if intergenic_region[2] == 1:\n",
    "        intergenic_sequence = sequence_dict[target_species_accession][intergenic_region[0]: intergenic_region[1]]\n",
    "    else:\n",
    "        intergenic_sequence = util.reverse_complement(sequence_dict[target_species_accession][intergenic_region[0]: intergenic_region[1]])\n",
    "    intergenic_regions.append([target_species.replace(\" \", \"_\"), intergenic_sequence])\n",
    "    \n",
    "    if tetR_coords[2]==1:    \n",
    "        tetR_sequence = sequence_dict[target_species_accession][tetR_coords[0]: tetR_coords[1]]\n",
    "    else:\n",
    "        tetR_sequence = util.reverse_complement(sequence_dict[target_species_accession][tetR_coords[0]: tetR_coords[1]]) \n",
    "    tetR_regions.append([target_species.replace(\" \", \"_\"), tetR_sequence])\n",
    "    \n",
    "util.produce_fasta_file(intergenic_regions, project_dir +'/intergenic_regions.fasta')\n",
    "cline = MuscleCommandline(muscle_exe, input= project_dir +'/intergenic_regions.fasta', out=project_dir + '/intergenic_region_'+loci[0]+'_'+loci[1] + '_alignment.fasta')\n",
    "result = cline();"
   ]
  },
  {
   "cell_type": "code",
   "execution_count": null,
   "id": "912d963f-3888-4afe-8024-8f8a6c1a6fa7",
   "metadata": {
    "tags": []
   },
   "outputs": [],
   "source": [
    "blastfn.run_rscape(project_dir, 'intergenic_region_alignment3.sto', 'rscape_output')"
   ]
  },
  {
   "cell_type": "markdown",
   "id": "61ab8568-1a2c-43c6-b96b-c670c5153c19",
   "metadata": {},
   "source": [
    "#### Produce full ortholog file for phylogenetic tree"
   ]
  },
  {
   "cell_type": "code",
   "execution_count": 9,
   "id": "c0e9b790-22d0-4c69-adf1-0700f7ba5885",
   "metadata": {},
   "outputs": [
    {
     "name": "stderr",
     "output_type": "stream",
     "text": [
      "100%|██████████| 1116061/1116061 [00:00<00:00, 2371354.64it/s]\n"
     ]
    }
   ],
   "source": [
    "cds_dict = {}\n",
    "for (x, y) in tqdm(all_cds):\n",
    "    cds_dict[x] = y"
   ]
  },
  {
   "cell_type": "code",
   "execution_count": 10,
   "id": "0879b684-4461-4f2e-81c0-6235c46b3187",
   "metadata": {},
   "outputs": [],
   "source": [
    "rbh = pd.read_csv(project_dir + '/reciprocal_best_hits.csv')"
   ]
  },
  {
   "cell_type": "code",
   "execution_count": 11,
   "id": "9b385559-3616-48ff-abdd-3ae7661271c7",
   "metadata": {},
   "outputs": [],
   "source": [
    "query_refs = list(rbh['query_ref'].unique())"
   ]
  },
  {
   "cell_type": "code",
   "execution_count": 12,
   "id": "57eb4f40-d77a-4151-a7c8-1f12e189d0c3",
   "metadata": {},
   "outputs": [
    {
     "name": "stderr",
     "output_type": "stream",
     "text": [
      "100%|██████████| 3896/3896 [01:07<00:00, 57.33it/s]\n"
     ]
    }
   ],
   "source": [
    "full_ortholog_refs = []\n",
    "for ref in tqdm(query_refs):\n",
    "    temp = rbh[rbh['query_ref'] == ref]\n",
    "    if len(temp) == len(set(names_dict.values())):\n",
    "        full_ortholog_refs.append(ref)"
   ]
  },
  {
   "cell_type": "code",
   "execution_count": 13,
   "id": "69bcda78-8b79-47b1-9473-5dcfefa50486",
   "metadata": {},
   "outputs": [
    {
     "data": {
      "text/plain": [
       "325"
      ]
     },
     "execution_count": 13,
     "metadata": {},
     "output_type": "execute_result"
    }
   ],
   "source": [
    "len(full_ortholog_refs)"
   ]
  },
  {
   "cell_type": "code",
   "execution_count": null,
   "id": "07dd261a-76a4-4906-b5a9-93e4ba549f6b",
   "metadata": {},
   "outputs": [],
   "source": [
    "concatenated_alignment_dict = {}\n",
    "for ref in tqdm(full_ortholog_refs):\n",
    "    temp_seq = []\n",
    "    temp = rbh[rbh['query_ref'] == ref]\n",
    "    for i, r in temp.iterrows():\n",
    "        temp_seq.append([r['target_species_name'].replace(' ','_'),cds_dict[r['target_ref']]])\n",
    "    util.produce_fasta_file(temp_seq, project_dir +'/temp_seq.fasta')    \n",
    "    cline = MuscleCommandline(muscle_exe, input= project_dir +'/temp_seq.fasta', out=project_dir +'/temp_seq_alignment.fasta')\n",
    "    result = cline();    \n",
    "    alignment = util.read_fasta_to_array(project_dir +'/temp_seq_alignment.fasta')    \n",
    "    for (name, sequence) in zip(alignment[0], alignment[1]):\n",
    "        if name in concatenated_alignment_dict:\n",
    "            temp2 = concatenated_alignment_dict[name]\n",
    "            concatenated_alignment_dict[name] = temp2 + sequence\n",
    "        else:\n",
    "            concatenated_alignment_dict[name] = sequence\n",
    "temp  = []\n",
    "for k, v in concatenated_alignment_dict.items():\n",
    "    temp.append([k, v])\n",
    "util.produce_fasta_file(temp, project_dir + '/concatenated_alignment.fasta')"
   ]
  },
  {
   "cell_type": "code",
   "execution_count": 45,
   "id": "35c2ece6-86d6-42a9-8bdc-391760837696",
   "metadata": {},
   "outputs": [
    {
     "data": {
      "text/plain": [
       "CompletedProcess(args='cd c:\\\\users\\\\nicho\\\\IQTree & bin\\\\iqtree2 -s concatenated_alignment.fasta --prefix Concatenated_Mycobacteria_Tree -m JTT -B 1000 -T AUTO ', returncode=0)"
      ]
     },
     "execution_count": 45,
     "metadata": {},
     "output_type": "execute_result"
    }
   ],
   "source": [
    "if full_run == True:\n",
    "    subprocess.run('cd c:\\\\users\\\\nicho\\\\IQTree & bin\\\\iqtree2 -s ' +  'concatenated_alignment.fasta' + ' --prefix Concatenated_Mycobacteria_Tree -m JTT -B 1000 -T AUTO ', shell=True)\n",
    "   "
   ]
  },
  {
   "cell_type": "code",
   "execution_count": 58,
   "id": "60ba6713-f5ed-4cde-b51f-c5654c5b471f",
   "metadata": {},
   "outputs": [],
   "source": [
    "i=0\n",
    "dist_names = []\n",
    "distances = []\n",
    "with open(project_dir + '/Concatenated_Mycobacteria_Tree.mldist','r') as ofile: \n",
    "    sequence_names = []\n",
    "    sequence_list = []\n",
    "    first_seq = 0\n",
    "    for l in ofile:\n",
    "        m = l.strip('\\n')\n",
    "        if i > 0:\n",
    "            dist_names.append(m.split(' ')[0])\n",
    "            if 'tuberculosis' in m.split(' ')[0]:\n",
    "                temp= (m.split(' ')[1:])\n",
    "                for x in temp:\n",
    "                    if len(x) > 0:\n",
    "                        distances.append(float(x))\n",
    "        i+=1\n",
    "dist_dict = {}\n",
    "for (name, dist) in zip(dist_names, distances):\n",
    "    dist_dict[name] = dist\n"
   ]
  },
  {
   "cell_type": "code",
   "execution_count": 76,
   "id": "cf833fab-c550-4eab-9b89-88f490f9b01c",
   "metadata": {},
   "outputs": [
    {
     "name": "stderr",
     "output_type": "stream",
     "text": [
      " 15%|█▌        | 50/325 [00:01<00:06, 41.42it/s]\n"
     ]
    }
   ],
   "source": [
    "# initialize list of lists\n",
    "data = []\n",
    "n= 0\n",
    "# Create the pandas DataFrame\n",
    "for ref in tqdm(full_ortholog_refs):\n",
    "    temp_seq = []\n",
    "    temp = rbh[rbh['query_ref'] == ref]\n",
    "    for i, r in temp.iterrows():\n",
    "        if r['target_species_name'].replace(' ','_') in dist_dict:\n",
    "            data.append([n, dist_dict[r['target_species_name'].replace(' ','_')], r['bit_score']])\n",
    "    n+=1\n",
    "    if n>50:\n",
    "        break    \n",
    "df = pd.DataFrame(data, columns = ['gene','dist', 'bit_score'])"
   ]
  },
  {
   "cell_type": "code",
   "execution_count": 77,
   "id": "2cb39891-cd94-4a11-9c33-277686ebb37f",
   "metadata": {},
   "outputs": [
    {
     "data": {
      "text/plain": [
       "<AxesSubplot:xlabel='dist', ylabel='bit_score'>"
      ]
     },
     "execution_count": 77,
     "metadata": {},
     "output_type": "execute_result"
    },
    {
     "data": {
      "image/png": "[encoded data removed]",
      "text/plain": [
       "<Figure size 432x288 with 1 Axes>"
      ]
     },
     "metadata": {
      "needs_background": "light"
     },
     "output_type": "display_data"
    }
   ],
   "source": [
    "sns.scatterplot(data = df, x = 'dist', y = 'bit_score', hue = 'gene')"
   ]
  },
  {
   "cell_type": "code",
   "execution_count": 83,
   "id": "17a118de-8f86-4e4d-a5c0-dbcbdcacafbb",
   "metadata": {},
   "outputs": [
    {
     "name": "stderr",
     "output_type": "stream",
     "text": [
      "100%|██████████| 3896/3896 [01:06<00:00, 58.15it/s]\n"
     ]
    }
   ],
   "source": [
    "ortholog_20_refs = []\n",
    "for ref in tqdm(query_refs):\n",
    "    temp = rbh[rbh['query_ref'] == ref]\n",
    "    if len(temp) > 60 and len(temp) < 100:\n",
    "        ortholog_20_refs.append(ref)"
   ]
  },
  {
   "cell_type": "code",
   "execution_count": 84,
   "id": "a4c82b6f-af9e-4018-b74c-c8e4eca68137",
   "metadata": {},
   "outputs": [
    {
     "data": {
      "text/plain": [
       "251"
      ]
     },
     "execution_count": 84,
     "metadata": {},
     "output_type": "execute_result"
    }
   ],
   "source": [
    "len(ortholog_20_refs)"
   ]
  },
  {
   "cell_type": "code",
   "execution_count": 85,
   "id": "7dc3c9a4-4508-4a53-ba39-504111b065c9",
   "metadata": {},
   "outputs": [
    {
     "name": "stderr",
     "output_type": "stream",
     "text": [
      "  2%|▏         | 5/251 [00:00<00:06, 39.48it/s]\n"
     ]
    },
    {
     "data": {
      "text/plain": [
       "<AxesSubplot:xlabel='dist', ylabel='bit_score'>"
      ]
     },
     "execution_count": 85,
     "metadata": {},
     "output_type": "execute_result"
    },
    {
     "data": {
      "image/png": "[encoded data removed]",
      "text/plain": [
       "<Figure size 432x288 with 1 Axes>"
      ]
     },
     "metadata": {
      "needs_background": "light"
     },
     "output_type": "display_data"
    }
   ],
   "source": [
    "# initialize list of lists\n",
    "data = []\n",
    "n= 0\n",
    "# Create the pandas DataFrame\n",
    "for ref in tqdm(ortholog_20_refs):\n",
    "    temp_seq = []\n",
    "    temp = rbh[rbh['query_ref'] == ref]\n",
    "    for i, r in temp.iterrows():\n",
    "        if r['target_species_name'].replace(' ','_') in dist_dict:\n",
    "            data.append([n, dist_dict[r['target_species_name'].replace(' ','_')], r['bit_score']])\n",
    "    n+=1\n",
    "    if n>5:\n",
    "        break    \n",
    "df = pd.DataFrame(data, columns = ['gene','dist', 'bit_score'])\n",
    "sns.scatterplot(data = df, x = 'dist', y = 'bit_score', hue = 'gene')"
   ]
  },
  {
   "cell_type": "code",
   "execution_count": 135,
   "id": "c2d18a2c-d797-49be-99bc-d568b2c23751",
   "metadata": {},
   "outputs": [],
   "source": [
    "highly_conserved_orthologs = []\n",
    "highly_conserved_refs = ['Rv2817c']\n",
    "for ref in highly_conserved_refs:\n",
    "    temp = rbh[rbh['query_ref'] == 'NC_000962.3@'+ref]\n",
    "    highly_conserved_orthologs.append(ref)"
   ]
  },
  {
   "cell_type": "code",
   "execution_count": 136,
   "id": "aa2a4a3f-df07-48e4-a4d9-c4d0e657aa36",
   "metadata": {},
   "outputs": [
    {
     "name": "stderr",
     "output_type": "stream",
     "text": [
      "100%|██████████| 1/1 [00:00<00:00, 45.38it/s]\n"
     ]
    },
    {
     "data": {
      "text/plain": [
       "<AxesSubplot:xlabel='dist', ylabel='bit_score'>"
      ]
     },
     "execution_count": 136,
     "metadata": {},
     "output_type": "execute_result"
    },
    {
     "data": {
      "image/png": "[encoded data removed]",
      "text/plain": [
       "<Figure size 432x288 with 1 Axes>"
      ]
     },
     "metadata": {
      "needs_background": "light"
     },
     "output_type": "display_data"
    }
   ],
   "source": [
    "data = []\n",
    "n= 0\n",
    "# Create the pandas DataFrame\n",
    "for ref in tqdm(highly_conserved_orthologs):\n",
    "    temp_seq = []\n",
    "    temp = rbh[rbh['query_ref'] == 'NC_000962.3@'+ref]\n",
    "    for i, r in temp.iterrows():\n",
    "        if r['target_species_name'].replace(' ','_') in dist_dict:\n",
    "            data.append([n, dist_dict[r['target_species_name'].replace(' ','_')], r['bit_score']])\n",
    "    n+=1\n",
    "    if n>5:\n",
    "        break    \n",
    "df = pd.DataFrame(data, columns = ['gene','dist', 'bit_score'])\n",
    "sns.scatterplot(data = df, x = 'dist', y = 'bit_score', hue = 'gene')"
   ]
  },
  {
   "cell_type": "code",
   "execution_count": 87,
   "id": "ab20a146-bc27-4761-9b22-a514a9f5660c",
   "metadata": {},
   "outputs": [],
   "source": [
    "rbh_morf = pd.read_csv('F:/Project_Data/Project_10/rbh_non_overlap_morf.csv')"
   ]
  },
  {
   "cell_type": "code",
   "execution_count": 115,
   "id": "b5c83c99-b9d6-4441-a97f-9938971114b8",
   "metadata": {},
   "outputs": [
    {
     "data": {
      "text/plain": [
       "['NC_000962.3@Rv0025',\n",
       " 'NC_000962.3@Rv0069c',\n",
       " 'NC_000962.3@Rv0072',\n",
       " 'NC_000962.3@Rv0079',\n",
       " 'NC_000962.3@Rv0080',\n",
       " 'NC_000962.3@Rv0082',\n",
       " 'NC_000962.3@Rv0083',\n",
       " 'NC_000962.3@Rv0084',\n",
       " 'NC_000962.3@Rv0085',\n",
       " 'NC_000962.3@Rv0086',\n",
       " 'NC_000962.3@Rv0087',\n",
       " 'NC_000962.3@Rv0093c',\n",
       " 'NC_000962.3@Rv0096',\n",
       " 'NC_000962.3@Rv0097',\n",
       " 'NC_000962.3@Rv0098',\n",
       " 'NC_000962.3@Rv0099',\n",
       " 'NC_000962.3@Rv0100',\n",
       " 'NC_000962.3@Rv0107c',\n",
       " 'NC_000962.3@Rv0108c',\n",
       " 'NC_000962.3@Rv0118c',\n",
       " 'NC_000962.3@Rv0119',\n",
       " 'NC_000962.3@Rv0132c',\n",
       " 'NC_000962.3@Rv0157A',\n",
       " 'NC_000962.3@Rv0180c',\n",
       " 'NC_000962.3@Rv0188',\n",
       " 'NC_000962.3@Rv0219',\n",
       " 'NC_000962.3@Rv0256c',\n",
       " 'NC_000962.3@Rv0258c',\n",
       " 'NC_000962.3@Rv0280',\n",
       " 'NC_000962.3@Rv0362',\n",
       " 'NC_000962.3@Rv0366c',\n",
       " 'NC_000962.3@Rv0367c',\n",
       " 'NC_000962.3@Rv0368c',\n",
       " 'NC_000962.3@Rv0370c',\n",
       " 'NC_000962.3@Rv0372c',\n",
       " 'NC_000962.3@Rv0377',\n",
       " 'NC_000962.3@Rv0392c',\n",
       " 'NC_000962.3@Rv0398c',\n",
       " 'NC_000962.3@Rv0399c',\n",
       " 'NC_000962.3@Rv0403c',\n",
       " 'NC_000962.3@Rv0420c',\n",
       " 'NC_000962.3@Rv0442c',\n",
       " 'NC_000962.3@Rv0447c',\n",
       " 'NC_000962.3@Rv0449c',\n",
       " 'NC_000962.3@Rv0463',\n",
       " 'NC_000962.3@Rv0492A',\n",
       " 'NC_000962.3@Rv0493c',\n",
       " 'NC_000962.3@Rv0494',\n",
       " 'NC_000962.3@Rv0503c',\n",
       " 'NC_000962.3@Rv0569',\n",
       " 'NC_000962.3@Rv0584',\n",
       " 'NC_000962.3@Rv0602c',\n",
       " 'NC_000962.3@Rv0634A',\n",
       " 'NC_000962.3@Rv0643c',\n",
       " 'NC_000962.3@Rv0645c',\n",
       " 'NC_000962.3@Rv0663',\n",
       " 'NC_000962.3@Rv0671',\n",
       " 'NC_000962.3@Rv0678',\n",
       " 'NC_000962.3@Rv0690c',\n",
       " 'NC_000962.3@Rv0726c',\n",
       " 'NC_000962.3@Rv0783c',\n",
       " 'NC_000962.3@Rv0789c',\n",
       " 'NC_000962.3@Rv0794c',\n",
       " 'NC_000962.3@Rv0797',\n",
       " 'NC_000962.3@Rv0828c',\n",
       " 'NC_000962.3@Rv0835',\n",
       " 'NC_000962.3@Rv0843',\n",
       " 'NC_000962.3@Rv0848',\n",
       " 'NC_000962.3@Rv0849',\n",
       " 'NC_000962.3@Rv0856',\n",
       " 'NC_000962.3@Rv0879c',\n",
       " 'NC_000962.3@Rv0901',\n",
       " 'NC_000962.3@Rv0917',\n",
       " 'NC_000962.3@Rv0931c',\n",
       " 'NC_000962.3@Rv0932c',\n",
       " 'NC_000962.3@Rv0987',\n",
       " 'NC_000962.3@Rv1006',\n",
       " 'NC_000962.3@Rv1040c',\n",
       " 'NC_000962.3@Rv1051c',\n",
       " 'NC_000962.3@Rv1060',\n",
       " 'NC_000962.3@Rv1117',\n",
       " 'NC_000962.3@Rv1128c',\n",
       " 'NC_000962.3@Rv1158c',\n",
       " 'NC_000962.3@Rv1194c',\n",
       " 'NC_000962.3@Rv1271c',\n",
       " 'NC_000962.3@Rv1290c',\n",
       " 'NC_000962.3@Rv1377c',\n",
       " 'NC_000962.3@Rv1394c',\n",
       " 'NC_000962.3@Rv1399c',\n",
       " 'NC_000962.3@Rv1431',\n",
       " 'NC_000962.3@Rv1442',\n",
       " 'NC_000962.3@Rv1467c',\n",
       " 'NC_000962.3@Rv1469',\n",
       " 'NC_000962.3@Rv1482c',\n",
       " 'NC_000962.3@Rv1490',\n",
       " 'NC_000962.3@Rv1511',\n",
       " 'NC_000962.3@Rv1512',\n",
       " 'NC_000962.3@Rv1517',\n",
       " 'NC_000962.3@Rv1522c',\n",
       " 'NC_000962.3@Rv1530',\n",
       " 'NC_000962.3@Rv1535',\n",
       " 'NC_000962.3@Rv1543',\n",
       " 'NC_000962.3@Rv1550',\n",
       " 'NC_000962.3@Rv1551',\n",
       " 'NC_000962.3@Rv1567c',\n",
       " 'NC_000962.3@Rv1586c',\n",
       " 'NC_000962.3@Rv1607',\n",
       " 'NC_000962.3@Rv1660',\n",
       " 'NC_000962.3@Rv1664',\n",
       " 'NC_000962.3@Rv1672c',\n",
       " 'NC_000962.3@Rv1682',\n",
       " 'NC_000962.3@Rv1690',\n",
       " 'NC_000962.3@Rv1702c',\n",
       " 'NC_000962.3@Rv1704c',\n",
       " 'NC_000962.3@Rv1705c',\n",
       " 'NC_000962.3@Rv1707',\n",
       " 'NC_000962.3@Rv1715',\n",
       " 'NC_000962.3@Rv1722',\n",
       " 'NC_000962.3@Rv1730c',\n",
       " 'NC_000962.3@Rv1737c',\n",
       " 'NC_000962.3@Rv1739c',\n",
       " 'NC_000962.3@Rv1742',\n",
       " 'NC_000962.3@Rv1744c',\n",
       " 'NC_000962.3@Rv1745c',\n",
       " 'NC_000962.3@Rv1767',\n",
       " 'NC_000962.3@Rv1772',\n",
       " 'NC_000962.3@Rv1773c',\n",
       " 'NC_000962.3@Rv1774',\n",
       " 'NC_000962.3@Rv1775',\n",
       " 'NC_000962.3@Rv1779c',\n",
       " 'NC_000962.3@Rv1804c',\n",
       " 'NC_000962.3@Rv1808',\n",
       " 'NC_000962.3@Rv1809',\n",
       " 'NC_000962.3@Rv1833c',\n",
       " 'NC_000962.3@Rv1835c',\n",
       " 'NC_000962.3@Rv1868',\n",
       " 'NC_000962.3@Rv1881c',\n",
       " 'NC_000962.3@Rv1896c',\n",
       " 'NC_000962.3@Rv1899c',\n",
       " 'NC_000962.3@Rv1905c',\n",
       " 'NC_000962.3@Rv1907c',\n",
       " 'NC_000962.3@Rv1912c',\n",
       " 'NC_000962.3@Rv1919c',\n",
       " 'NC_000962.3@Rv1922',\n",
       " 'NC_000962.3@Rv1927',\n",
       " 'NC_000962.3@Rv1934c',\n",
       " 'NC_000962.3@Rv1937',\n",
       " 'NC_000962.3@Rv1980c',\n",
       " 'NC_000962.3@Rv1985c',\n",
       " 'NC_000962.3@Rv1986',\n",
       " 'NC_000962.3@Rv1992c',\n",
       " 'NC_000962.3@Rv2000',\n",
       " 'NC_000962.3@Rv2001',\n",
       " 'NC_000962.3@Rv2028c',\n",
       " 'NC_000962.3@Rv2035',\n",
       " 'NC_000962.3@Rv2044c',\n",
       " 'NC_000962.3@Rv2055c',\n",
       " 'NC_000962.3@Rv2067c',\n",
       " 'NC_000962.3@Rv2088',\n",
       " 'NC_000962.3@Rv2101',\n",
       " 'NC_000962.3@Rv2143',\n",
       " 'NC_000962.3@Rv2265',\n",
       " 'NC_000962.3@Rv2268c',\n",
       " 'NC_000962.3@Rv2270',\n",
       " 'NC_000962.3@Rv2294',\n",
       " 'NC_000962.3@Rv2300c',\n",
       " 'NC_000962.3@Rv2347c',\n",
       " 'NC_000962.3@Rv2386a',\n",
       " 'NC_000962.3@Rv2394',\n",
       " 'NC_000962.3@Rv2437',\n",
       " 'NC_000962.3@Rv2443',\n",
       " 'NC_000962.3@Rv2456c',\n",
       " 'NC_000962.3@Rv2458',\n",
       " 'NC_000962.3@Rv2485c',\n",
       " 'NC_000962.3@Rv2488c',\n",
       " 'NC_000962.3@Rv2532c',\n",
       " 'NC_000962.3@Rv2558',\n",
       " 'NC_000962.3@Rv2571c',\n",
       " 'NC_000962.3@Rv2597',\n",
       " 'NC_000962.3@Rv2598',\n",
       " 'NC_000962.3@Rv2599',\n",
       " 'NC_000962.3@Rv2601',\n",
       " 'NC_000962.3@Rv2617c',\n",
       " 'NC_000962.3@Rv2618',\n",
       " 'NC_000962.3@Rv2623',\n",
       " 'NC_000962.3@Rv2625c',\n",
       " 'NC_000962.3@Rv2628',\n",
       " 'NC_000962.3@Rv2633c',\n",
       " 'NC_000962.3@Rv2684',\n",
       " 'NC_000962.3@Rv2686c',\n",
       " 'NC_000962.3@Rv2687c',\n",
       " 'NC_000962.3@Rv2688c',\n",
       " 'NC_000962.3@Rv2761c',\n",
       " 'NC_000962.3@Rv2768c',\n",
       " 'NC_000962.3@Rv2775',\n",
       " 'NC_000962.3@Rv2784c',\n",
       " 'NC_000962.3@Rv2797c',\n",
       " 'NC_000962.3@Rv2812',\n",
       " 'NC_000962.3@Rv2874',\n",
       " 'NC_000962.3@Rv2875',\n",
       " 'NC_000962.3@Rv2884',\n",
       " 'NC_000962.3@Rv2928',\n",
       " 'NC_000962.3@Rv2930',\n",
       " 'NC_000962.3@Rv2931',\n",
       " 'NC_000962.3@Rv2932',\n",
       " 'NC_000962.3@Rv2934',\n",
       " 'NC_000962.3@Rv2941',\n",
       " 'NC_000962.3@Rv2963',\n",
       " 'NC_000962.3@Rv3019c',\n",
       " 'NC_000962.3@Rv3086',\n",
       " 'NC_000962.3@Rv3089',\n",
       " 'NC_000962.3@Rv3091',\n",
       " 'NC_000962.3@Rv3094c',\n",
       " 'NC_000962.3@Rv3097c',\n",
       " 'NC_000962.3@Rv3125c',\n",
       " 'NC_000962.3@Rv3127',\n",
       " 'NC_000962.3@Rv3160c',\n",
       " 'NC_000962.3@Rv3191c',\n",
       " 'NC_000962.3@Rv3236c',\n",
       " 'NC_000962.3@Rv3237c',\n",
       " 'NC_000962.3@Rv3243c',\n",
       " 'NC_000962.3@Rv3299c',\n",
       " 'NC_000962.3@Rv3333c',\n",
       " 'NC_000962.3@Rv3334',\n",
       " 'NC_000962.3@Rv3339c',\n",
       " 'NC_000962.3@Rv3369',\n",
       " 'NC_000962.3@Rv3392c',\n",
       " 'NC_000962.3@Rv3399',\n",
       " 'NC_000962.3@Rv3435c',\n",
       " 'NC_000962.3@Rv3554',\n",
       " 'NC_000962.3@Rv3594',\n",
       " 'NC_000962.3@Rv3629c',\n",
       " 'NC_000962.3@Rv3729',\n",
       " 'NC_000962.3@Rv3736',\n",
       " 'NC_000962.3@Rv3737',\n",
       " 'NC_000962.3@Rv3744',\n",
       " 'NC_000962.3@Rv3766',\n",
       " 'NC_000962.3@Rv3768',\n",
       " 'NC_000962.3@Rv3787c',\n",
       " 'NC_000962.3@Rv3788',\n",
       " 'NC_000962.3@Rv3797',\n",
       " 'NC_000962.3@Rv3817',\n",
       " 'NC_000962.3@Rv3820c',\n",
       " 'NC_000962.3@Rv3857c',\n",
       " 'NC_000962.3@Rv3881c',\n",
       " 'NC_000962.3@Rv3888c',\n",
       " 'NC_000962.3@Rv3890c',\n",
       " 'NC_000962.3@Rv3891c',\n",
       " 'NC_000962.3@Rv3896c',\n",
       " 'NC_000962.3@Rv3899c',\n",
       " 'NC_000962.3@Rv3905c']"
      ]
     },
     "execution_count": 115,
     "metadata": {},
     "output_type": "execute_result"
    }
   ],
   "source": [
    "ortholog_20_refs"
   ]
  },
  {
   "cell_type": "code",
   "execution_count": 89,
   "id": "9755a041-179b-49d1-8ed1-29b15353700b",
   "metadata": {},
   "outputs": [],
   "source": [
    "morf_query_refs = list(rbh_morf['query_accession_ver'].unique())"
   ]
  },
  {
   "cell_type": "code",
   "execution_count": 110,
   "id": "9ef602cf-6049-4d56-8673-8d3e4a592ec4",
   "metadata": {},
   "outputs": [
    {
     "name": "stderr",
     "output_type": "stream",
     "text": [
      "100%|██████████| 3452/3452 [00:01<00:00, 1897.99it/s]\n"
     ]
    }
   ],
   "source": [
    "morf_refs = []\n",
    "for ref in tqdm(morf_query_refs):\n",
    "    temp = rbh_morf[rbh_morf['query_accession_ver'] == ref]\n",
    "    if len(temp) ==12:\n",
    "        morf_refs.append(ref)"
   ]
  },
  {
   "cell_type": "code",
   "execution_count": 111,
   "id": "6979cf92-ffc5-4e67-bbeb-8e69281b1e06",
   "metadata": {},
   "outputs": [
    {
     "data": {
      "text/plain": [
       "17"
      ]
     },
     "execution_count": 111,
     "metadata": {},
     "output_type": "execute_result"
    }
   ],
   "source": [
    "len(morf_refs)"
   ]
  },
  {
   "cell_type": "code",
   "execution_count": 112,
   "id": "4ebe6049-e314-467e-a142-c482da40181f",
   "metadata": {},
   "outputs": [
    {
     "name": "stderr",
     "output_type": "stream",
     "text": [
      "100%|██████████| 17/17 [00:00<00:00, 848.49it/s]\n"
     ]
    }
   ],
   "source": [
    "data = []\n",
    "n= 0\n",
    "# Create the pandas DataFrame\n",
    "for ref in tqdm(morf_refs):\n",
    "    temp_seq = []\n",
    "    temp = rbh_morf[rbh_morf['query_accession_ver'] == ref]\n",
    "    for i, r in temp.iterrows():\n",
    "        if r['subject_species_name'].replace(' ','_') in dist_dict:\n",
    "            data.append([ref, dist_dict[r['subject_species_name'].replace(' ','_')], r['bit_score']])\n",
    "    n+=1\n",
    "df = pd.DataFrame(data, columns = ['orf_ref','dist', 'bit_score'])"
   ]
  },
  {
   "cell_type": "code",
   "execution_count": 113,
   "id": "360b9536-0f26-487d-870f-a56bac4eef5d",
   "metadata": {},
   "outputs": [
    {
     "data": {
      "text/plain": [
       "<seaborn.axisgrid.FacetGrid at 0x1a9afb45220>"
      ]
     },
     "execution_count": 113,
     "metadata": {},
     "output_type": "execute_result"
    },
    {
     "data": {
      "image/png": "[encoded data removed]",
      "text/plain": [
       "<Figure size 2312x2880 with 17 Axes>"
      ]
     },
     "metadata": {
      "needs_background": "light"
     },
     "output_type": "display_data"
    }
   ],
   "source": [
    "g = sns.FacetGrid(df, col='orf_ref', col_wrap=4, height=8)\n",
    "g.map(sns.scatterplot, 'dist', 'bit_score', alpha=.7)\n",
    "g.add_legend()\n",
    "#sns.scatterplot(data = df, x = 'dist', y = 'bit_score', hue = 'gene')"
   ]
  },
  {
   "cell_type": "code",
   "execution_count": null,
   "id": "fd3fa78c-012d-42ec-8623-c75c1c0d6cc6",
   "metadata": {},
   "outputs": [],
   "source": []
  }
 ],
 "metadata": {
  "kernelspec": {
   "display_name": "Python 3 (ipykernel)",
   "language": "python",
   "name": "python3"
  },
  "language_info": {
   "codemirror_mode": {
    "name": "ipython",
    "version": 3
   },
   "file_extension": ".py",
   "mimetype": "text/x-python",
   "name": "python",
   "nbconvert_exporter": "python",
   "pygments_lexer": "ipython3",
   "version": "3.9.7"
  }
 },
 "nbformat": 4,
 "nbformat_minor": 5
}
