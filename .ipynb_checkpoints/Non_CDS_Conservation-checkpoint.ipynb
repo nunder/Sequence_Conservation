{
 "cells": [
  {
   "cell_type": "markdown",
   "id": "50da8fa4-e4d1-4e99-9df9-f2593cc0c057",
   "metadata": {},
   "source": [
    "##### Import modules and set up file locations"
   ]
  },
  {
   "cell_type": "code",
   "execution_count": 1,
   "id": "a3b889ee-319a-42bf-b247-4febba954254",
   "metadata": {},
   "outputs": [
    {
     "name": "stderr",
     "output_type": "stream",
     "text": [
      "C:\\Users\\nicho\\Anaconda3\\envs\\Projects\\lib\\site-packages\\ete3-3.1.2-py3.7.egg\\ete3\\evol\\parser\\codemlparser.py:221: SyntaxWarning: \"is\" with a literal. Did you mean \"==\"?\n",
      "C:\\Users\\nicho\\Anaconda3\\envs\\Projects\\lib\\site-packages\\ete3-3.1.2-py3.7.egg\\ete3\\evol\\parser\\codemlparser.py:221: SyntaxWarning: \"is\" with a literal. Did you mean \"==\"?\n"
     ]
    }
   ],
   "source": [
    "import Sequence_Analysis_Routines as sar\n",
    "import random\n",
    "from joblib import Parallel, delayed\n",
    "from scipy import optimize as opt\n",
    "from tqdm import tqdm\n",
    "import matplotlib.pyplot as plt\n",
    "import logomaker as lm\n",
    "import math\n",
    "import pandas as pd\n",
    "import subprocess\n",
    "import numpy as np\n",
    "import ete3;\n",
    "import pickle"
   ]
  },
  {
   "cell_type": "code",
   "execution_count": 61,
   "id": "773a1d9c-8b02-447d-8b4c-41e9d5d24f83",
   "metadata": {},
   "outputs": [],
   "source": [
    "project_dir = 'D:/Project_Data/Project_3'\n",
    "sonic_paranoid_run_name = 'Run_Without_Outgroup'\n",
    "outgroup_sonic_paranoid_run_name = 'Run_With_Outgroup'\n",
    "genome_datasets_dir = project_dir + '/Datasets/NCBI_Datasets_Close_Species/'\n",
    "output_dir = project_dir + '/Output/Close_Species'\n",
    "protein_fasta_output_loc = output_dir + '/Protein_Sequences'\n",
    "outgroup_protein_fasta_output_loc = output_dir + '/Protein_Sequences_With_Outgroup'\n",
    "sonic_paranoid_output_loc = output_dir + '/Sonic_Paranoid_Output'\n",
    "ortholog_file_ref = sonic_paranoid_output_loc + '/runs/' + sonic_paranoid_run_name + '/ortholog_groups/flat.ortholog_groups.tsv'\n",
    "outgroup_ortholog_file_ref = sonic_paranoid_output_loc + '/runs/' + outgroup_sonic_paranoid_run_name + '/ortholog_groups/flat.ortholog_groups.tsv'\n",
    "single_copy_ortholog_file_ref = sonic_paranoid_output_loc + '/runs/' + sonic_paranoid_run_name + '/ortholog_groups/single-copy_groups.tsv'\n",
    "outgroup_single_copy_ortholog_file_ref = sonic_paranoid_output_loc + '/runs/' + outgroup_sonic_paranoid_run_name + '/ortholog_groups/single-copy_groups.tsv'\n",
    "non_cds_output_dir = output_dir + '/Multiple_Alignment_Data/Non_CDS'\n",
    "cds_output_dir = output_dir + '/Multiple_Alignment_Data/CDS'\n",
    "outgroup_cds_output_dir = output_dir + '/Multiple_Alignment_Data/CDS_With_Outgroup'\n",
    "outgroup_concatenated_cds_output_dir = output_dir + '/Multiple_Alignment_Data/CDS_With_Outgroup_Concatenated'"
   ]
  },
  {
   "cell_type": "code",
   "execution_count": 3,
   "id": "56139988-efa1-4bb1-9cd3-4cdd90020453",
   "metadata": {},
   "outputs": [],
   "source": [
    "num_cores = 16\n",
    "offset = 50\n",
    "tb_species = 'GCF_000195955.2'\n",
    "outgroup_species = 'NC_008596.1'"
   ]
  },
  {
   "cell_type": "markdown",
   "id": "6ecf3ed4-a99f-4e39-91ab-6ded7bb12838",
   "metadata": {},
   "source": [
    "##### Tree and HMM parameters from fitted phylo-HMM"
   ]
  },
  {
   "cell_type": "code",
   "execution_count": 4,
   "id": "f3841ec5-1b27-4288-b38e-3fe9c8817f6c",
   "metadata": {},
   "outputs": [],
   "source": [
    "#fitted_parameters = [0.98576229, 0.97154437, 8.54931842, 1.26858705]     #Viterbi\n",
    "fitted_parameters = [0.97249065, 0.9457994, 8.99643063,  1.27164373 ]  #Forward\n",
    "num_symbols = 4\n",
    "num_states = len(fitted_parameters) - 2"
   ]
  },
  {
   "cell_type": "markdown",
   "id": "cf829bb3-e529-4170-ad7b-9d885d57f851",
   "metadata": {},
   "source": [
    "##### Determine genomes in ortholog family, generate protein files and run Sonic Paranoid (both with and without outgroup - outgroup needed for tree building)"
   ]
  },
  {
   "cell_type": "code",
   "execution_count": 5,
   "id": "df7a7627-bb45-4679-97ef-ed8f209447fb",
   "metadata": {},
   "outputs": [],
   "source": [
    "genome_ids_with_outgroup = sar.list_dirs(genome_datasets_dir)\n",
    "genome_ids = sar.list_dirs(genome_datasets_dir)\n",
    "genome_ids.remove(outgroup_species)\n",
    "num_ids = len(genome_ids)\n",
    "num_ids_with_outgroup = len(genome_ids_with_outgroup)"
   ]
  },
  {
   "cell_type": "code",
   "execution_count": null,
   "id": "2be93725-4667-49ca-b2bc-430c0c7e9eae",
   "metadata": {},
   "outputs": [],
   "source": [
    "for folder in sar.tqdm(genome_ids):\n",
    "    sar.generate_protein_file(genome_datasets_dir + '/' + folder + '/genomic.gbff', protein_fasta_output_loc + '/' + folder + '.faa')\n",
    "for folder in sar.tqdm(genome_ids_with_outgroup):\n",
    "    sar.generate_protein_file(genome_datasets_dir + '/' + folder + '/genomic.gbff', outgroup_protein_fasta_output_loc + '/' + folder + '.faa')"
   ]
  },
  {
   "cell_type": "code",
   "execution_count": null,
   "id": "f828d159-34d6-4f7e-878c-e31b598573a8",
   "metadata": {},
   "outputs": [],
   "source": [
    "sar.run_sonic_paranoid(protein_fasta_output_loc, sonic_paranoid_output_loc, sonic_paranoid_run_name)\n",
    "sar.run_sonic_paranoid(outgroup_protein_fasta_output_loc, sonic_paranoid_output_loc, outgroup_sonic_paranoid_run_name)"
   ]
  },
  {
   "cell_type": "markdown",
   "id": "39369771-8cd9-4438-89a5-d426702ac448",
   "metadata": {},
   "source": [
    "##### Generate ortholog object and object containing sequence information for each ortholog group / species"
   ]
  },
  {
   "cell_type": "code",
   "execution_count": 6,
   "id": "051a50d7-e6dc-42a7-9675-e58d8ae157b6",
   "metadata": {},
   "outputs": [
    {
     "name": "stderr",
     "output_type": "stream",
     "text": [
      "100%|██████████| 34986/34986 [00:01<00:00, 21716.92it/s]\n",
      "100%|██████████| 34986/34986 [00:01<00:00, 21893.83it/s]\n"
     ]
    }
   ],
   "source": [
    "orthologs = sar.Ortholog_Grouping(ortholog_file_ref)\n",
    "outgroup_orthologs = sar.Ortholog_Grouping(outgroup_ortholog_file_ref)"
   ]
  },
  {
   "cell_type": "code",
   "execution_count": 18,
   "id": "b7e12148-88c6-4d3d-b117-71f8cca02126",
   "metadata": {},
   "outputs": [
    {
     "name": "stderr",
     "output_type": "stream",
     "text": [
      "100%|██████████| 6/6 [00:12<00:00,  2.05s/it]\n",
      "100%|██████████| 7/7 [00:15<00:00,  2.14s/it]\n"
     ]
    }
   ],
   "source": [
    "seq_data = sar.Ortholog_Sequence_Dataset(orthologs, genome_datasets_dir, genome_ids, offset, tb_species) \n",
    "outgroup_seq_data = sar.Ortholog_Sequence_Dataset(outgroup_orthologs, genome_datasets_dir, genome_ids_with_outgroup, offset, tb_species) "
   ]
  },
  {
   "cell_type": "markdown",
   "id": "60e3b630-5c42-499e-8389-5532f4dca58c",
   "metadata": {},
   "source": [
    "##### Perform CDS and non-CDS alignments for each full ortholog group and save to folders"
   ]
  },
  {
   "cell_type": "code",
   "execution_count": null,
   "id": "7cb33f80-a608-425f-bf01-6a0fe7a77226",
   "metadata": {},
   "outputs": [],
   "source": [
    "min_species = num_ids\n",
    "min_species_with_outgroup = num_ids_with_outgroup\n",
    "core_numbers = list(range(1, num_cores+1))\n",
    "groups = random.sample(orthologs.full_ortholog_groups, len(orthologs.full_ortholog_groups))  #Permutation ensures even distribution of processing speeds\n",
    "outgroup_groups = random.sample(outgroup_orthologs.full_ortholog_groups, len(orthologs.full_ortholog_groups))  #Permutation ensures even distribution of processing speeds\n",
    "\n",
    "#par = Parallel(n_jobs=-1)(delayed(sar.align_and_build)(outgroup_groups, num_cores, core_number, outgroup_seq_data.sequence_data, 'cds_length', 'cds_seq', outgroup_cds_output_dir+'/', min_species_with_outgroup) for core_number in tqdm(core_numbers))\n",
    "par = Parallel(n_jobs=-1)(delayed(sar.align_and_build)(groups, num_cores, core_number, seq_data.sequence_data, 'cds_length', 'cds_seq', 'cds_output_dir+'/', min_species) for core_number in tqdm(core_numbers))\n",
    "#par = Parallel(n_jobs=-1)(delayed(sar.align_and_build)(groups, num_cores, core_number, seq_data.sequence_data, 'non_cds_offset_length', 'non_cds_offset_seq', non_cds_output_dir+'/', min_species) for core_number in tqdm(core_numbers))"
   ]
  },
  {
   "cell_type": "markdown",
   "id": "4552a5b9-a396-450f-956b-0494d74e13af",
   "metadata": {},
   "source": [
    "##### Run IQTree on concatenated CDS alignments to generate tree"
   ]
  },
  {
   "cell_type": "code",
   "execution_count": null,
   "id": "42928a48-444f-4b46-a8eb-d668dd4565e4",
   "metadata": {},
   "outputs": [],
   "source": [
    "alignment_names = sar.list_files(outgroup_cds_output_dir)\n",
    "sar.concatenate_fasta(outgroup_cds_output_dir, alignment_names, outgroup_concatenated_cds_output_dir + '/concatenated_cds.fasta')\n",
    "subprocess.run('cd \\\\users\\\\nicho\\\\IQTree & bin\\\\iqtree2 -s ' + outgroup_concatenated_cds_output_dir + '/concatenated_cds.fasta' + ' --prefix '+ output_dir + '/Trees/Concatenated_JC_Tree -m JC -B 1000 -T AUTO -o ' + outgroup_species, shell=True)"
   ]
  },
  {
   "cell_type": "markdown",
   "id": "39dee179-8981-413e-8d31-bce311d6a493",
   "metadata": {},
   "source": [
    "##### Calibrate Phylo HMM"
   ]
  },
  {
   "cell_type": "code",
   "execution_count": 7,
   "id": "eec170c4-4072-4d93-8fa7-1a1b1a78a412",
   "metadata": {},
   "outputs": [],
   "source": [
    "num_symbols = 4\n",
    "num_states = 2\n",
    "minimum_fit_length = 10"
   ]
  },
  {
   "cell_type": "code",
   "execution_count": 8,
   "id": "c33f67af-a5f0-460a-aca8-69f67060e42b",
   "metadata": {},
   "outputs": [],
   "source": [
    "tree = ete3.Tree(output_dir + '/Trees/Concatenated_JC_Tree.treefile')\n",
    "outgroup = tree.search_nodes(name= outgroup_species)[0]\n",
    "outgroup.delete()"
   ]
  },
  {
   "cell_type": "code",
   "execution_count": 9,
   "id": "3a5c2516-7883-42db-8c83-71b90ea49c1c",
   "metadata": {},
   "outputs": [
    {
     "name": "stderr",
     "output_type": "stream",
     "text": [
      "100%|██████████| 1905/1905 [00:17<00:00, 111.07it/s]\n"
     ]
    }
   ],
   "source": [
    "alignment_ids = sar.list_files(non_cds_output_dir+'/')\n",
    "alignment_ids = [int(i.split('.')[0]) for i in alignment_ids]\n",
    "alignment_dict = {}\n",
    "for group_id in tqdm(alignment_ids):\n",
    "        alignment = sar.Alignment(non_cds_output_dir+'/'+str(group_id)+'.fasta', tb_species, 'NT')\n",
    "        alignment.modify_sequence(1, False, True)\n",
    "        alignment_dict[group_id] = alignment"
   ]
  },
  {
   "cell_type": "code",
   "execution_count": 10,
   "id": "0344ea70-efe4-492f-b2f3-85fa7d6f0a96",
   "metadata": {},
   "outputs": [],
   "source": [
    "def parallel_fit_hmm (params):\n",
    "    core_numbers = range(1, num_cores+1)\n",
    "    a = Parallel(n_jobs=-1)(delayed(sar.fit_phylo_hmm)(tree, num_symbols, num_states, params, alignment_ids, alignment_dict, num_cores, core_number, offset, minimum_fit_length) for core_number in core_numbers)\n",
    "    print(params, sum(a))\n",
    "    return sum(a)  "
   ]
  },
  {
   "cell_type": "code",
   "execution_count": null,
   "id": "59e7e1f1-880f-4925-b5d6-6a55b8a2041e",
   "metadata": {},
   "outputs": [],
   "source": [
    "res = opt.minimize(parallel_fit_hmm, (0.97, 0.97, 8,0.2 ), method = 'Nelder-Mead', bounds = ((0.001,0.999),(0.001,0.999),(0.001,10),(0.001,10)))"
   ]
  },
  {
   "cell_type": "code",
   "execution_count": 15,
   "id": "c7ed99fa-6a3f-4180-b38c-bdb8253c1ef5",
   "metadata": {},
   "outputs": [],
   "source": [
    "#fitted_parameters = [0.98576229, 0.97154437, 8.54931842, 1.26858705]     #Viterbi\n",
    "fitted_parameters = [0.97263768, 0.94648794, 8.95498674, 1.19349225]  #Forward\n",
    "fitted_parameters = res.x"
   ]
  },
  {
   "cell_type": "markdown",
   "id": "7bd80c7d-b15d-4a58-b6bb-e26fe8ea1327",
   "metadata": {},
   "source": [
    "##### Remove portions of alignment gapped for TB and prepare data to plot entropies and logos and estimate conserved regions based on HMM calibrated to all non-CDS (see separate calibration notebook)"
   ]
  },
  {
   "cell_type": "code",
   "execution_count": 16,
   "id": "ca47bcff-10f0-4daa-af2b-1fa90b2438be",
   "metadata": {},
   "outputs": [
    {
     "name": "stderr",
     "output_type": "stream",
     "text": [
      "100%|██████████| 586/586 [00:00<00:00, 30836.21it/s]\n"
     ]
    }
   ],
   "source": [
    "utr_upstream_dict = {}\n",
    "utrs = pd.read_csv(project_dir + '/Datasets/Data_From_Publications/strict_3UTRs.csv', header=0)\n",
    "for i, r in tqdm(utrs.iterrows(), total=utrs.shape[0]):\n",
    "    utr_upstream_dict[r['upstream']] = [r['utr'], r['start']-1, r['stop']-1, r['strand'], r['downstream']]"
   ]
  },
  {
   "cell_type": "code",
   "execution_count": 20,
   "id": "1f4bea3e-4ac8-4e32-a1f1-5337d85ff5a8",
   "metadata": {},
   "outputs": [
    {
     "name": "stderr",
     "output_type": "stream",
     "text": [
      "100%|██████████| 1905/1905 [01:52<00:00, 16.92it/s]\n"
     ]
    }
   ],
   "source": [
    "alignment_info_dict = {}\n",
    "file_ids = sar.list_files(non_cds_output_dir+'/')\n",
    "ids = [int(i.split('.')[0]) for i in file_ids]\n",
    "#group_id = 170 #1569 #1505 #1167 #170 #196  #1700  #1177\n",
    "for group_id in tqdm(ids):\n",
    "    alignment = sar.Alignment(non_cds_output_dir+'/'+str(group_id)+'.fasta', tb_species, 'NT')\n",
    "    alignment.modify_sequence(1,False,True)\n",
    "    alignment.calculate_entropies(mvave_len = 10)\n",
    "    alignment_2 = sar.Alignment(non_cds_output_dir+'/'+str(group_id)+'.fasta', tb_species, 'NT')\n",
    "    alignment_2.modify_sequence(1, False, False)\n",
    "    alignment_list =  alignment.modified_sequence_list\n",
    "    alignment_names = alignment.sequence_names\n",
    "\n",
    "    cds_end_pos = offset - 1\n",
    "    non_cds_end_pos = alignment.modified_sequence_length - offset\n",
    "    non_cds_offset_start = seq_data.master_species_info(group_id, 'non_cds_offset_start')\n",
    "    non_cds_offset_stop = seq_data.master_species_info(group_id, 'non_cds_offset_stop')\n",
    "    locus_tag = seq_data.master_species_info(group_id, 'locus_tag')\n",
    "    cds_strand = seq_data.master_species_info(group_id, 'strand')\n",
    "    if cds_strand == 1:\n",
    "        downstream_locus_tag = seq_data.master_species_info(group_id, 'next_locus_tag')\n",
    "        downstream_locus_strand = seq_data.master_species_info(group_id, 'next_strand')\n",
    "    else:\n",
    "        downstream_locus_tag = seq_data.master_species_info(group_id, 'previous_locus_tag')\n",
    "        downstream_locus_strand = seq_data.master_species_info(group_id, 'prev_strand')\n",
    "    utr_start_pos = 0\n",
    "    utr_end_pos = 0\n",
    "    if locus_tag in utr_upstream_dict:\n",
    "        utr_data = utr_upstream_dict[locus_tag]\n",
    "        if cds_strand == 1:\n",
    "            utr_start_pos = utr_data[1] - non_cds_offset_start\n",
    "            utr_end_pos = utr_data[2] - non_cds_offset_start\n",
    "        else:\n",
    "            utr_start_pos = non_cds_offset_stop - utr_data[2]\n",
    "            utr_end_pos = non_cds_offset_stop - utr_data[1]\n",
    "\n",
    "    initial_state_probabilities = [1.0/num_states]*num_states\n",
    "    transition_probabilities = np.array([[fitted_parameters[0], 1-fitted_parameters[0]],[1-fitted_parameters[1],fitted_parameters[1]]])\n",
    "    observation_probabilities = sar.mutation_probs(fitted_parameters[2:len(fitted_parameters)], alignment_list, alignment_names, tree, num_symbols)\n",
    "    hmm = sar.HMM(initial_state_probabilities, transition_probabilities, observation_probabilities)\n",
    "    hmm.viterbi()\n",
    "    hmm.forward()\n",
    "    hmm.backward()      \n",
    "    alignment_info_dict[group_id] = [alignment, alignment_2, cds_end_pos, non_cds_end_pos, non_cds_offset_start, non_cds_offset_stop, locus_tag, cds_strand, downstream_locus_tag, downstream_locus_strand,\n",
    "                                     utr_start_pos, utr_end_pos, hmm]"
   ]
  },
  {
   "cell_type": "code",
   "execution_count": 21,
   "id": "cc64f4cc-1dd8-4ef4-b723-8dc5ade26d01",
   "metadata": {},
   "outputs": [],
   "source": [
    "with open(output_dir + '/conservation_info_dictionary.pkl', 'wb') as f:\n",
    "    pickle.dump(alignment_info_dict, f)"
   ]
  },
  {
   "cell_type": "code",
   "execution_count": 22,
   "id": "e890e0c5-f1e1-4a94-b2e5-5ddccc4aac21",
   "metadata": {},
   "outputs": [],
   "source": [
    "with open(output_dir + '/conservation_info_dictionary.pkl', 'rb') as f:\n",
    "    conservation_info_dict = pickle.load(f)"
   ]
  },
  {
   "cell_type": "markdown",
   "id": "da6d610d-9e76-4cbe-be84-188b7ec12515",
   "metadata": {},
   "source": [
    "##### Plot graphics to show sequence and HMM regions"
   ]
  },
  {
   "cell_type": "code",
   "execution_count": 60,
   "id": "71321558-eadf-45f1-9910-d6826253e134",
   "metadata": {},
   "outputs": [
    {
     "data": {
      "image/png": "[encoded data removed]",
      "text/plain": [
       "<Figure size 1800x72 with 1 Axes>"
      ]
     },
     "metadata": {
      "needs_background": "light"
     },
     "output_type": "display_data"
    }
   ],
   "source": [
    "group_id = 1021\n",
    "data = conservation_info_dict[group_id]\n",
    "alignment = data[0]; alignment_2 = data[1]; cds_end_pos = data[2]; non_cds_end_pos = data[3]; non_cds_offset_start = data[4]; non_cds_offset_stop = data[5]; locus_tag = data[6]\n",
    "cds_strand = data[7]; downstream_locus_tag = data[8]; downstream_locus_strand = data[9]; utr_start_pos = data[10]; utr_end_pos = data[11]; hmm = data[12]\n",
    "\n",
    "counts_df = lm.alignment_to_matrix(sequences = alignment.modified_sequence_list, to_type = 'counts', characters_to_ignore = '-', pseudocount=0)\n",
    "background_probs = [0.25, 0.25, 0.25, 0.25]\n",
    "for i, r in counts_df.iterrows():\n",
    "    temp_relent = []\n",
    "    num_gaps = alignment.num_sequences\n",
    "    for k in range(4):\n",
    "        num_gaps = num_gaps - r.iloc[k]\n",
    "    for k in range(4):\n",
    "        ct = r.iloc[k] + num_gaps*background_probs[k]\n",
    "        if ct == 0:\n",
    "            temp_relent.append(0)\n",
    "        else:\n",
    "            temp_relent.append((ct /alignment.num_sequences) * math.log((ct /alignment.num_sequences)/background_probs[k],2))\n",
    "    for k in range(4):\n",
    "        r.iloc[k] = temp_relent[k]\n",
    "\n",
    "y = -1        \n",
    "seqlogo = lm.Logo(counts_df, figsize = [25,1])\n",
    "seqlogo.ax.plot([0, cds_end_pos], [y,y], color='skyblue', linewidth=10, solid_capstyle='butt')\n",
    "for i in alignment_2.master_species_modified_sequence_insertions:\n",
    "    seqlogo.ax.plot([i[0], i[0]+1], [y-2,y-2], color='red', linewidth=5*i[1], solid_capstyle='butt')\n",
    "seqlogo.ax.plot([non_cds_end_pos, alignment.modified_sequence_length], [y,y], color='skyblue', linewidth=10, solid_capstyle='butt')\n",
    "seqlogo.ax.plot([utr_start_pos, utr_end_pos],[y-0.5, y-0.5], color='mediumslateblue', linewidth=10, solid_capstyle='butt')\n",
    "for i, state in enumerate(hmm.viterbi_path):\n",
    "    if state == 1:\n",
    "        seqlogo.highlight_position_range(pmin=i, pmax=i, color='rosybrown')\n",
    "    if state == 2:\n",
    "        seqlogo.highlight_position_range(pmin=i, pmax=i, color='skyblue')\n",
    "seqlogo.ax.text(0,4.2*y,locus_tag + ' ('+str(cds_strand)+')',fontsize=12)\n",
    "seqlogo.ax.text(alignment.modified_sequence_length - offset/2,4.2*y,downstream_locus_tag+ ' ('+str(downstream_locus_strand)+')',fontsize=12)\n",
    "seqlogo.ax.text(0, 4.5*y,int(non_cds_offset_start), verticalalignment='top', horizontalalignment='left')\n",
    "    \n",
    "seqlogo.style_spines(visible=False)\n",
    "seqlogo.style_spines(spines=['left'], visible=True, bounds=[0, 2])\n",
    "seqlogo.ax.set_xticks([])\n",
    "seqlogo.ax.set_yticks([0,2])\n",
    "seqlogo.ax.set_ylim([-4, 2])\n",
    "seqlogo.ax.axhline(y, color = 'k', linewidth = 1)\n",
    "seqlogo;"
   ]
  },
  {
   "cell_type": "code",
   "execution_count": 53,
   "id": "4a1607ea-4c27-46c5-be6c-d1861f115773",
   "metadata": {},
   "outputs": [
    {
     "data": {
      "image/png": "[encoded data removed]",
      "text/plain": [
       "<Figure size 432x288 with 1 Axes>"
      ]
     },
     "metadata": {
      "needs_background": "light"
     },
     "output_type": "display_data"
    }
   ],
   "source": [
    "#plt.plot(alignment.relative_entropy);\n",
    "plt.plot(alignment.mvave_relative_entropy);\n",
    "plt.axvline(x=cds_end_pos, ymin=0, ymax=2, color='r');\n",
    "plt.axvline(x=non_cds_end_pos, ymin=0, ymax=2, color='r');\n",
    "c = hmm.forward_probabilities[1] + hmm.backward_probabilities[1]\n",
    "d = [math.exp(x - hmm.forward_ll) for x in c]\n",
    "plt.plot(d);"
   ]
  },
  {
   "cell_type": "code",
   "execution_count": null,
   "id": "aa4494bf-6b10-42de-aa56-691319cbe8b7",
   "metadata": {},
   "outputs": [],
   "source": []
  }
 ],
 "metadata": {
  "kernelspec": {
   "display_name": "Python 3 (ipykernel)",
   "language": "python",
   "name": "python3"
  },
  "language_info": {
   "codemirror_mode": {
    "name": "ipython",
    "version": 3
   },
   "file_extension": ".py",
   "mimetype": "text/x-python",
   "name": "python",
   "nbconvert_exporter": "python",
   "pygments_lexer": "ipython3",
   "version": "3.9.7"
  }
 },
 "nbformat": 4,
 "nbformat_minor": 5
}
