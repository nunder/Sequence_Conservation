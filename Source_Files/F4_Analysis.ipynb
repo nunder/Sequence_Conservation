{
 "cells": [
  {
   "cell_type": "markdown",
   "id": "b1e30ed4-8a0e-4a6f-96eb-dfe116dfb2de",
   "metadata": {},
   "source": [
    "#### Directories etc"
   ]
  },
  {
   "cell_type": "code",
   "execution_count": 5,
   "id": "cf9c6377-5080-4c22-94db-feabe17cc47c",
   "metadata": {},
   "outputs": [],
   "source": [
    "import pandas as pd\n",
    "import pickle\n",
    "import seaborn as sns\n",
    "import matplotlib.pyplot as plt\n",
    "import numpy as np\n",
    "from scipy.fft import fft, fftfreq\n",
    "from Bio import Entrez, SeqIO, AlignIO, pairwise2, Align, Seq, motifs\n",
    "from Bio.Seq import Seq\n",
    "from Bio.SeqFeature import SeqFeature, FeatureLocation\n",
    "from scipy.stats import binom\n",
    "import math\n",
    "import random\n",
    "from tqdm import tqdm\n",
    "from Comparative_Analysis import Utilities as util\n",
    "from collections import defaultdict\n",
    "import random\n",
    "from joblib import Parallel, delayed\n",
    "from Comparative_Analysis import Blast_Functions as blastfn\n",
    "import time\n",
    "import os\n",
    "import copy\n",
    "from Comparative_Analysis import ORF_Functions as orffn\n",
    "from random import sample\n",
    "pd.options.mode.chained_assignment = None  # default='warn'\n",
    "import ete3\n",
    "import matplotlib.pyplot as plt\n",
    "from statistics import mode\n",
    "from scipy.stats import chi2\n",
    "import subprocess"
   ]
  },
  {
   "cell_type": "code",
   "execution_count": 7,
   "id": "1988a242-f558-4643-b3a9-27272fa7bebc",
   "metadata": {},
   "outputs": [],
   "source": [
    "project_dir = 'F:/Project_Data/Project_11'\n",
    "seq_dir = 'F:/Datasets/Actinobacteria_Ref_Rep_Lev_Complete'\n",
    "dictionary_dir = 'F:/Datasets/CRYPTIC_DATA/Cryptic_Dictionaries'\n",
    "tb_species = 'NC_000962.3' \n",
    "tb_genome_filename = 'GCF_000195955.2_ASM19595v2_genomic.gbff'\n",
    "mycobrowser_dir = 'F:/Datasets/Data_From_Publications'\n",
    "num_cores = 16\n",
    "core_numbers = list(range(1, num_cores+1))"
   ]
  },
  {
   "cell_type": "code",
   "execution_count": 9,
   "id": "d39fe86c-bc60-4b04-a35a-41372a27e1e1",
   "metadata": {},
   "outputs": [],
   "source": [
    "for record in SeqIO.parse(seq_dir + '/' + tb_genome_filename, \"genbank\"):\n",
    "    full_sequence = str(record.seq)"
   ]
  },
  {
   "cell_type": "code",
   "execution_count": 11,
   "id": "27d84185-75a4-49ee-8bc9-5609cc91a4ad",
   "metadata": {},
   "outputs": [],
   "source": [
    "with open(project_dir + '/Thoth_Full_Run/zero_and_non_zero_mutation_counts.pkl', 'rb') as f:\n",
    "#with open(project_dir + '/Mutation_Counts/zero_and_non_zero_mutation_counts.pkl', 'rb') as f:\n",
    "    full_sample_zero_and_non_zero_mutation_counts = pickle.load(f)  "
   ]
  },
  {
   "cell_type": "code",
   "execution_count": 13,
   "id": "8646772c-1c92-4e40-aab6-51f09c700b57",
   "metadata": {},
   "outputs": [],
   "source": [
    "compass_df = pd.read_csv('F:/Datasets/CRYPTIC_DATA/COMPASS.csv', names = ['species', 'start', 'stop','count'])\n",
    "compass_dict = {}\n",
    "for i, r in compass_df.iterrows():\n",
    "    for k in range(r['start'], r['stop']):     #  Should be start-1 but adjusted to be consistent with mutation position convention\n",
    "        compass_dict[k] = 'Y'"
   ]
  },
  {
   "cell_type": "code",
   "execution_count": 15,
   "id": "fb509bdd-e5bd-420e-9ecf-262e1e719a1c",
   "metadata": {},
   "outputs": [],
   "source": [
    "mycobrowser_df = pd.read_excel(mycobrowser_dir+'/Mycobrowser_Release_4.xlsx')\n",
    "temp_cds = mycobrowser_df[mycobrowser_df['Feature'] == 'CDS'][['Locus','Start','Stop','Strand','Product','Name','Functional_Category','Gene Ontology']]      #Just CDS\n",
    "mycobrowser_cds_boundaries = []\n",
    "for i, r in temp_cds.iterrows():\n",
    "    if r['Strand'] == '+':\n",
    "        strand = 1\n",
    "    else:\n",
    "        strand = -1\n",
    "    mycobrowser_cds_boundaries.append((r['Locus'],r['Product'], r['Start']-1, r['Stop'], strand, r['Name'], r['Functional_Category'], r['Gene Ontology']))\n",
    "mycobrowser_cds_boundaries.sort(key = lambda x: x[2])"
   ]
  },
  {
   "cell_type": "code",
   "execution_count": 16,
   "id": "87fc3ab4-7e83-419b-9916-807a11824c3e",
   "metadata": {},
   "outputs": [],
   "source": [
    "def bin_formula(position_3_counts, tot_bin_counts):\n",
    "    return 1- binom.cdf(position_3_counts-1, tot_bin_counts,1/3)"
   ]
  },
  {
   "cell_type": "code",
   "execution_count": 108,
   "id": "14ffddf4-09ab-4309-b228-58b58bd60ef9",
   "metadata": {},
   "outputs": [],
   "source": [
    "def process_blast_output(infile_loc):\n",
    "    trans = util.Translator()\n",
    "    blast_results = pd.read_csv(infile_loc, header = None)\n",
    "    blast_results.columns = ['query_accession_ver', 'subject_accession_ver', 'query_length', 'subject_length', 'percent_identical_matches','alignment_length', 'number_mismatches', 'number_of_gap_openings', 'query_start_alignment', 'query_end_alignment', 'subject_start_alignment', 'subject_end_alignment', 'e_value', 'bit_score']\n",
    "    for i, r in blast_results.iterrows():\n",
    "        if '@' in r.query_accession_ver:\n",
    "            blast_results.at[i, 'query_species'] = (r.query_accession_ver.split('@')[0])\n",
    "        else:\n",
    "            blast_results.at[i, 'query_species'] = '_'.join(r.query_accession_ver.split('_')[0:2])\n",
    "        if '@' in r.subject_accession_ver:\n",
    "            blast_results.at[i, 'subject_species'] = (r.subject_accession_ver.split('@')[0])\n",
    "        else:\n",
    "            blast_results.at[i, 'subject_species'] = '_'.join(r.subject_accession_ver.split('_')[0:2])\n",
    "    #blast_results = blast_results.query('not (query_species == subject_species)')\n",
    "    blast_results = blast_results.loc[blast_results.groupby(['query_accession_ver','subject_species'])['bit_score'].idxmax()]\n",
    "    return blast_results"
   ]
  },
  {
   "cell_type": "code",
   "execution_count": 114,
   "id": "f6e4601d-3cf3-49a3-8096-ffcd639fb374",
   "metadata": {},
   "outputs": [],
   "source": [
    "def keep_reciprocal_best_hits(query_df, reverse_query_df):\n",
    "    temp_1_dict = {}\n",
    "    temp_2_dict = {}\n",
    "    for i, r in query_df.iterrows():\n",
    "        temp_1_dict[r['query_accession_ver']] = r['subject_accession_ver']\n",
    "    for i, r in reverse_query_df.iterrows():\n",
    "        temp_2_dict[r['query_accession_ver']] = r['subject_accession_ver']\n",
    "    for i, r in query_df.iterrows():\n",
    "        if temp_1_dict[r['query_accession_ver']] in temp_2_dict and temp_2_dict[temp_1_dict[r['query_accession_ver']]] == r['query_accession_ver']:\n",
    "            query_df.at[i, 'reciprocal_best_hit'] = 'Y'\n",
    "        else:\n",
    "            query_df.at[i, 'reciprocal_best_hit'] = 'N'\n",
    "    output = query_df[query_df.reciprocal_best_hit == 'Y'] \n",
    "    output['species_count'] = output.groupby('query_accession_ver')['query_accession_ver'].transform('size')\n",
    "    return output"
   ]
  },
  {
   "cell_type": "code",
   "execution_count": 19,
   "id": "4a8f6b8b-04c5-4a3f-99ee-86a1f2bb96fb",
   "metadata": {},
   "outputs": [],
   "source": [
    "def compass_coverage(start, stop):\n",
    "    compass_overlap = 0\n",
    "    for i in range(start, stop):\n",
    "        if i in compass_dict:\n",
    "            compass_overlap += 1\n",
    "    return (compass_overlap/(stop - start))"
   ]
  },
  {
   "cell_type": "code",
   "execution_count": 21,
   "id": "e500ad6d-eb3f-4fd5-9c22-089d479b1152",
   "metadata": {},
   "outputs": [],
   "source": [
    "def show_bin_counts(mutationcounts):\n",
    "    bin_counts = [0,0,0]\n",
    "    total_compass_overlap = 0\n",
    "    for n in range(int(len(mutationcounts)/3)):\n",
    "        temp_counts = [0,0,0]\n",
    "        compass_overlap = 0\n",
    "        for m in range(3): \n",
    "            if start+3*n+m in compass_dict:\n",
    "                compass_overlap += 1\n",
    "                total_compass_overlap += 1\n",
    "            temp_counts[m % 3] = mutationcounts[3*n+m]\n",
    "        if sum(temp_counts) < 10 and compass_overlap == 0:\n",
    "            for m in range(3):\n",
    "                bin_counts[m] += temp_counts[m]\n",
    "    return (bin_counts, sum(bin_counts)/len(mutation_counts), total_compass_overlap / len(mutation_counts))"
   ]
  },
  {
   "cell_type": "code",
   "execution_count": 23,
   "id": "edb36c95-313b-4252-a7a3-28c5d5c6b510",
   "metadata": {},
   "outputs": [],
   "source": [
    "def score_region(mutationcounts, start):\n",
    "    bin_counts = [0,0,0]\n",
    "    for n in range(int(len(mutationcounts)/3)):\n",
    "        temp_counts = [0,0,0]\n",
    "        compass_overlap = 0\n",
    "        for m in range(3): \n",
    "            if start+3*n+m in compass_dict:\n",
    "                compass_overlap = 1\n",
    "            temp_counts[m % 3] = mutationcounts[3*n+m]\n",
    "        if sum(temp_counts) < 10 and compass_overlap == 0:\n",
    "            for m in range(3):\n",
    "                bin_counts[m] += temp_counts[m]\n",
    "    return bin_formula(bin_counts[2], sum(bin_counts))"
   ]
  },
  {
   "cell_type": "markdown",
   "id": "b75a04cd-8bc9-43f6-89d4-51c9233e9828",
   "metadata": {},
   "source": [
    "#### Mycobrowswer annotated CDS regions"
   ]
  },
  {
   "cell_type": "code",
   "execution_count": 96,
   "id": "bcd1dda4-241f-4f88-87b8-0aa71e5912e8",
   "metadata": {},
   "outputs": [
    {
     "name": "stderr",
     "output_type": "stream",
     "text": [
      "C:\\Users\\nicho\\anaconda3\\Lib\\site-packages\\seaborn\\_oldcore.py:1119: FutureWarning: use_inf_as_na option is deprecated and will be removed in a future version. Convert inf values to NaN before operating instead.\n",
      "  with pd.option_context('mode.use_inf_as_na', True):\n"
     ]
    },
    {
     "data": {
      "text/plain": [
       "[Text(0.5, 0, 'P-value'),\n",
       " Text(0, 0.5, 'Cumulative Proportion'),\n",
       " Text(0.5, 1.0, '')]"
      ]
     },
     "execution_count": 96,
     "metadata": {},
     "output_type": "execute_result"
    },
    {
     "data": {
      "image/png": "[encoded data removed]",
      "text/plain": [
       "<Figure size 640x480 with 1 Axes>"
      ]
     },
     "metadata": {},
     "output_type": "display_data"
    }
   ],
   "source": [
    "scores =[]\n",
    "scores_lengths =[]\n",
    "for (locus, product, start, stop, strand, name, functional_category, gene_ontology) in mycobrowser_cds_boundaries: \n",
    "    if compass_coverage(start, stop) > 0.5:\n",
    "        continue\n",
    "    mutation_counts = full_sample_zero_and_non_zero_mutation_counts[start:stop]\n",
    "    if strand == 1:\n",
    "        mutation_counts_2 = mutation_counts\n",
    "    else:\n",
    "        mutation_counts_2 = list(reversed(mutation_counts))\n",
    "    scores.append(score_region(mutation_counts_2, start))\n",
    "    scores_lengths.append([locus, sum(mutation_counts_2),score_region(mutation_counts_2, start), mutation_counts_2])\n",
    "a = sns.ecdfplot(scores)\n",
    "a.set(xlabel =\"P-value\", ylabel = \"Cumulative Proportion\", title ='')"
   ]
  },
  {
   "cell_type": "code",
   "execution_count": 94,
   "id": "f8afdd53-216f-4159-85f7-f2c4203f4a5a",
   "metadata": {},
   "outputs": [],
   "source": [
    "a.figure.savefig('figure_5b.png',dpi=600, facecolor='w')"
   ]
  },
  {
   "cell_type": "code",
   "execution_count": 98,
   "id": "a5826e3e-a12f-4fbe-bc8a-5cbdc851e8d4",
   "metadata": {},
   "outputs": [
    {
     "name": "stderr",
     "output_type": "stream",
     "text": [
      "C:\\Users\\nicho\\anaconda3\\Lib\\site-packages\\seaborn\\_oldcore.py:1119: FutureWarning: use_inf_as_na option is deprecated and will be removed in a future version. Convert inf values to NaN before operating instead.\n",
      "  with pd.option_context('mode.use_inf_as_na', True):\n",
      "C:\\Users\\nicho\\anaconda3\\Lib\\site-packages\\seaborn\\_oldcore.py:1119: FutureWarning: use_inf_as_na option is deprecated and will be removed in a future version. Convert inf values to NaN before operating instead.\n",
      "  with pd.option_context('mode.use_inf_as_na', True):\n"
     ]
    },
    {
     "data": {
      "image/png": "[encoded data removed]",
      "text/plain": [
       "<Figure size 640x480 with 1 Axes>"
      ]
     },
     "metadata": {},
     "output_type": "display_data"
    }
   ],
   "source": [
    "sns.kdeplot([x[1] for x in scores_lengths if x[2] > 0.01])\n",
    "sns.kdeplot([x[1] for x in scores_lengths if x[2] < 0.01])\n",
    "plt.show()"
   ]
  },
  {
   "cell_type": "code",
   "execution_count": 29,
   "id": "c75417c4-06d6-4dee-91f4-4cbb97813137",
   "metadata": {},
   "outputs": [
    {
     "name": "stderr",
     "output_type": "stream",
     "text": [
      "C:\\Users\\nicho\\anaconda3\\Lib\\site-packages\\seaborn\\_oldcore.py:1119: FutureWarning: use_inf_as_na option is deprecated and will be removed in a future version. Convert inf values to NaN before operating instead.\n",
      "  with pd.option_context('mode.use_inf_as_na', True):\n"
     ]
    },
    {
     "data": {
      "image/png": "[encoded data removed]",
      "text/plain": [
       "<Figure size 640x480 with 1 Axes>"
      ]
     },
     "metadata": {},
     "output_type": "display_data"
    }
   ],
   "source": [
    "a = sns.histplot(scores, log_scale=(False, True), bins=80)"
   ]
  },
  {
   "cell_type": "code",
   "execution_count": null,
   "id": "27ff65fd-2ed6-4a9d-8230-f8840fadd94d",
   "metadata": {},
   "outputs": [],
   "source": [
    "a.figure.savefig('figure_5a.png',dpi=600, facecolor='w')"
   ]
  },
  {
   "cell_type": "markdown",
   "id": "9dffb70c-b509-4d02-8edc-9dbbd0df89f0",
   "metadata": {},
   "source": [
    "#### Percentage of true positives at 0.05 cut off"
   ]
  },
  {
   "cell_type": "code",
   "execution_count": 44,
   "id": "e6eaa77f-b1d2-42c3-a5d8-d49bba42a711",
   "metadata": {},
   "outputs": [
    {
     "data": {
      "text/plain": [
       "0.8287292817679558"
      ]
     },
     "execution_count": 44,
     "metadata": {},
     "output_type": "execute_result"
    }
   ],
   "source": [
    "len([x for x in scores if x < 0.05])/len(scores)"
   ]
  },
  {
   "cell_type": "markdown",
   "id": "6fe37369-7ed9-4100-9197-518a32245d4f",
   "metadata": {},
   "source": [
    "#### Intergenic MORFs"
   ]
  },
  {
   "cell_type": "code",
   "execution_count": 46,
   "id": "82bde8d4-48af-4dc8-b97f-31990379a0be",
   "metadata": {},
   "outputs": [],
   "source": [
    "min_intergenic_length = 50\n",
    "candidate_intergenic_morfs = []\n",
    "max_stop = 0\n",
    "ORFFinder = orffn.ORF_Finder(full_sequence)\n",
    "for n,cds in enumerate(mycobrowser_cds_boundaries):\n",
    "    stop = cds[3]\n",
    "    max_stop = max(stop, max_stop)\n",
    "    if n < len(mycobrowser_cds_boundaries) - 1:\n",
    "        if mycobrowser_cds_boundaries[n+1][2] > max_stop + min_intergenic_length:\n",
    "            a =ORFFinder.max_orf(max_stop-10, mycobrowser_cds_boundaries[n+1][2]+10, output_orfs = 'Nested', min_orf_length = min_intergenic_length)\n",
    "            for x in a:\n",
    "                candidate_intergenic_morfs.append(x)"
   ]
  },
  {
   "cell_type": "code",
   "execution_count": 48,
   "id": "13bda79f-e453-4922-b7a8-d3268a723289",
   "metadata": {},
   "outputs": [
    {
     "name": "stderr",
     "output_type": "stream",
     "text": [
      "C:\\Users\\nicho\\anaconda3\\Lib\\site-packages\\seaborn\\_oldcore.py:1119: FutureWarning: use_inf_as_na option is deprecated and will be removed in a future version. Convert inf values to NaN before operating instead.\n",
      "  with pd.option_context('mode.use_inf_as_na', True):\n"
     ]
    },
    {
     "data": {
      "text/plain": [
       "[Text(0.5, 0, 'P-value'),\n",
       " Text(0, 0.5, 'Cumulative Proportion'),\n",
       " Text(0.5, 1.0, '')]"
      ]
     },
     "execution_count": 48,
     "metadata": {},
     "output_type": "execute_result"
    },
    {
     "data": {
      "image/png": "[encoded data removed]",
      "text/plain": [
       "<Figure size 640x480 with 1 Axes>"
      ]
     },
     "metadata": {},
     "output_type": "display_data"
    }
   ],
   "source": [
    "scores_4 =[]\n",
    "for (start, stop, strand, length) in candidate_intergenic_morfs: \n",
    "    if compass_coverage(start, stop) > 0.5:\n",
    "        continue\n",
    "    mutation_counts = full_sample_zero_and_non_zero_mutation_counts[start:stop]\n",
    "    if strand == 1:\n",
    "        mutation_counts_2 = mutation_counts\n",
    "    else:\n",
    "        mutation_counts_2 = list(reversed(mutation_counts))\n",
    "    scores_4.append([(start, stop, strand, length),score_region(mutation_counts_2, start)])\n",
    "a = sns.ecdfplot([x[1] for x in scores_4])\n",
    "a.set(xlabel =\"P-value\", ylabel = \"Cumulative Proportion\", title ='')\n",
    "#plt.xscale('log')"
   ]
  },
  {
   "cell_type": "markdown",
   "id": "03dc7ac9-480b-4e88-a7f4-9c0c56650c2f",
   "metadata": {},
   "source": [
    "#### All MORFs"
   ]
  },
  {
   "cell_type": "code",
   "execution_count": 50,
   "id": "92edfa97-1480-4f1a-863b-ca6524a1022a",
   "metadata": {},
   "outputs": [],
   "source": [
    "min_intergenic_length = 50\n",
    "candidate_morfs = []\n",
    "ORFFinder = orffn.ORF_Finder(full_sequence)\n",
    "a =ORFFinder.max_orf(0, len(full_sequence)-1, output_orfs = 'Nested', min_orf_length = min_intergenic_length)\n",
    "for x in a:\n",
    "    candidate_morfs.append(x)"
   ]
  },
  {
   "cell_type": "code",
   "execution_count": 52,
   "id": "0f9ea8b6-8454-4d69-a240-794969ba22e4",
   "metadata": {},
   "outputs": [
    {
     "data": {
      "text/plain": [
       "63720"
      ]
     },
     "execution_count": 52,
     "metadata": {},
     "output_type": "execute_result"
    }
   ],
   "source": [
    "len(candidate_morfs)"
   ]
  },
  {
   "cell_type": "markdown",
   "id": "055b4eac-8f8f-43bc-afb0-8849b96091e2",
   "metadata": {},
   "source": [
    "#### Eliminate negative strand instances where they would have same pattern of 3rd codon "
   ]
  },
  {
   "cell_type": "code",
   "execution_count": 54,
   "id": "68d9045f-068a-464d-9d3b-f032d97a1d95",
   "metadata": {},
   "outputs": [
    {
     "name": "stderr",
     "output_type": "stream",
     "text": [
      "63720it [06:09, 172.53it/s] \n"
     ]
    }
   ],
   "source": [
    "candidate_morfs.sort(key = lambda x: x[3], reverse = True)\n",
    "maximal_reading_frame_orfs = [candidate_morfs[0]]\n",
    "for n, morf in tqdm(enumerate(candidate_morfs)):\n",
    "    if n==0:\n",
    "        continue\n",
    "    overlap = 0\n",
    "    for m, morf2 in enumerate(candidate_morfs):\n",
    "        if m == n and overlap == 0:\n",
    "            maximal_reading_frame_orfs.append(morf)\n",
    "            break\n",
    "        else:\n",
    "            if morf2[0] <= morf[0] and morf2[1] >= morf[1]:\n",
    "                if morf2[2] == morf[2]:\n",
    "                    if (morf2[1] - morf[1])%3 == 0:\n",
    "                        overlap = 1\n",
    "                        break\n",
    "                else:\n",
    "                    if (morf2[0] + 2- morf[0])%3 == 0:\n",
    "                        overlap = 1\n",
    "                        break        "
   ]
  },
  {
   "cell_type": "markdown",
   "id": "051cf24c-dc4b-4426-a4f2-2aa1c00b7c39",
   "metadata": {},
   "source": [
    "##### Classify remaining ORFs into annotated, intergenic or overlapping"
   ]
  },
  {
   "cell_type": "code",
   "execution_count": 56,
   "id": "de71ffbe-5d80-4002-bc47-6873bfc4f424",
   "metadata": {},
   "outputs": [],
   "source": [
    "new_annotation_features_dict = {}\n",
    "for (locus, product, start, stop, strand, name, functional_category, gene_ontology) in mycobrowser_cds_boundaries:\n",
    "    if strand == 1:\n",
    "        new_annotation_features_dict[stop] = (locus, product, start, stop, strand)\n",
    "    else:\n",
    "        new_annotation_features_dict[start] = (locus, product, start, stop, strand)"
   ]
  },
  {
   "cell_type": "code",
   "execution_count": 58,
   "id": "c555c586-37bb-45f0-9462-184a2a19a1fc",
   "metadata": {},
   "outputs": [
    {
     "name": "stderr",
     "output_type": "stream",
     "text": [
      "100%|██████████| 42441/42441 [00:18<00:00, 2282.53it/s]\n",
      "C:\\Users\\nicho\\anaconda3\\Lib\\site-packages\\seaborn\\_oldcore.py:1119: FutureWarning: use_inf_as_na option is deprecated and will be removed in a future version. Convert inf values to NaN before operating instead.\n",
      "  with pd.option_context('mode.use_inf_as_na', True):\n"
     ]
    },
    {
     "data": {
      "text/plain": [
       "[Text(0.5, 0, 'P-value'),\n",
       " Text(0, 0.5, 'Cumulative Proportion'),\n",
       " Text(0.5, 1.0, '')]"
      ]
     },
     "execution_count": 58,
     "metadata": {},
     "output_type": "execute_result"
    },
    {
     "data": {
      "image/png": "[encoded data removed]",
      "text/plain": [
       "<Figure size 640x480 with 1 Axes>"
      ]
     },
     "metadata": {},
     "output_type": "display_data"
    }
   ],
   "source": [
    "temp = []\n",
    "for (start, stop, strand, length) in tqdm(maximal_reading_frame_orfs):\n",
    "    if compass_coverage(start, stop)>0.5:\n",
    "        continue\n",
    "    mutation_counts = full_sample_zero_and_non_zero_mutation_counts[start:stop]\n",
    "    if strand == 1:\n",
    "        score = score_region(mutation_counts, start)\n",
    "    else:\n",
    "        score = score_region(list(reversed(mutation_counts)), start)\n",
    "  \n",
    "#    if (strand == 1 and stop in new_annotation_features_dict) or (strand == -1 and start in new_annotation_features_dict):\n",
    "    if (strand == 1 and stop in new_annotation_features_dict and new_annotation_features_dict[stop][4] == 1) or (strand == -1 and start in new_annotation_features_dict and new_annotation_features_dict[start][4] == -1):\n",
    "        temp.append(['Annotated', score, (start, stop, strand, length)])\n",
    "    else:\n",
    "        overlap = 0\n",
    "        for cds in mycobrowser_cds_boundaries:\n",
    "            if (cds[2] <= start and cds[3] >= start) or (cds[2] <= stop and cds[3] >= stop):\n",
    "                overlap = 1\n",
    "                break\n",
    "        if overlap == 1:\n",
    "            if (cds[4] == strand and (cds[2] - start)%3 == 0) or (not(cds[4] == strand) and (cds[2] - start)%3 == 2):\n",
    "                temp.append(['O/L IF', score, (start, stop, strand, length)])\n",
    "            else:\n",
    "                temp.append(['O/L Not IF', score, (start, stop, strand, length)])\n",
    "        else:\n",
    "            temp.append(['No O/L', score, (start, stop, strand, length)])\n",
    "morf_df = pd.DataFrame(temp, columns = ['type','score','location'])\n",
    "a = sns.ecdfplot(data = morf_df, x = 'score', hue = 'type')\n",
    "a.set(xlabel =\"P-value\", ylabel = \"Cumulative Proportion\", title ='')"
   ]
  },
  {
   "cell_type": "code",
   "execution_count": null,
   "id": "8cc6abff-8fd9-42d5-b605-468615820807",
   "metadata": {},
   "outputs": [],
   "source": [
    "a.figure.savefig('figure_6.png',dpi=600, facecolor='w')"
   ]
  },
  {
   "cell_type": "code",
   "execution_count": 60,
   "id": "e26ea30e-23ed-41e5-99d5-1beb587bf22a",
   "metadata": {},
   "outputs": [
    {
     "data": {
      "text/plain": [
       "39726"
      ]
     },
     "execution_count": 60,
     "metadata": {},
     "output_type": "execute_result"
    }
   ],
   "source": [
    "len(morf_df)"
   ]
  },
  {
   "cell_type": "code",
   "execution_count": 62,
   "id": "faff9534-43b1-4a8f-919c-fac323eae5ac",
   "metadata": {},
   "outputs": [
    {
     "data": {
      "text/plain": [
       "2451"
      ]
     },
     "execution_count": 62,
     "metadata": {},
     "output_type": "execute_result"
    }
   ],
   "source": [
    "len(morf_df[morf_df['type'] =='No O/L'])"
   ]
  },
  {
   "cell_type": "markdown",
   "id": "1f3efd6e-9de6-4bd1-b07e-510d117654e8",
   "metadata": {},
   "source": [
    "#### Identify alternative upstream starts to CDS which have significant mutation bias"
   ]
  },
  {
   "cell_type": "code",
   "execution_count": 64,
   "id": "d673eb83-fc18-4d49-85c6-f41f02321440",
   "metadata": {},
   "outputs": [
    {
     "name": "stderr",
     "output_type": "stream",
     "text": [
      "100%|██████████| 42441/42441 [00:08<00:00, 4791.44it/s] \n",
      "C:\\Users\\nicho\\anaconda3\\Lib\\site-packages\\seaborn\\_oldcore.py:1119: FutureWarning: use_inf_as_na option is deprecated and will be removed in a future version. Convert inf values to NaN before operating instead.\n",
      "  with pd.option_context('mode.use_inf_as_na', True):\n"
     ]
    },
    {
     "data": {
      "text/plain": [
       "[Text(0.5, 0, 'P-value'),\n",
       " Text(0, 0.5, 'Cumulative Proportion'),\n",
       " Text(0.5, 1.0, '')]"
      ]
     },
     "execution_count": 64,
     "metadata": {},
     "output_type": "execute_result"
    },
    {
     "data": {
      "image/png": "[encoded data removed]",
      "text/plain": [
       "<Figure size 640x480 with 1 Axes>"
      ]
     },
     "metadata": {},
     "output_type": "display_data"
    }
   ],
   "source": [
    "temp = []\n",
    "for (start, stop, strand, length) in tqdm(maximal_reading_frame_orfs):\n",
    "    if compass_coverage(start, stop)>0.5:\n",
    "        continue\n",
    "    mutation_counts = full_sample_zero_and_non_zero_mutation_counts[start:stop]\n",
    "    if strand == 1:\n",
    "        score = score_region(mutation_counts, start)\n",
    "    else:\n",
    "        score = score_region(list(reversed(mutation_counts)), start)\n",
    "  \n",
    "    if (strand == 1 and stop in new_annotation_features_dict and new_annotation_features_dict[stop][4] == 1) or (strand == -1 and start in new_annotation_features_dict and new_annotation_features_dict[start][4] == -1):\n",
    "        if (strand == 1 and stop in new_annotation_features_dict):\n",
    "            dict_entry = new_annotation_features_dict[stop][2:4]\n",
    "            locus = new_annotation_features_dict[stop][0]\n",
    "        else:\n",
    "            dict_entry = new_annotation_features_dict[start][2:4]\n",
    "            locus = new_annotation_features_dict[start][0]\n",
    "        if strand == 1 and start < dict_entry[0]:\n",
    "            mutation_counts = full_sample_zero_and_non_zero_mutation_counts[dict_entry[0]:stop]\n",
    "            score = score_region(mutation_counts, dict_entry[0])\n",
    "            mutation_counts = full_sample_zero_and_non_zero_mutation_counts[start:dict_entry[0]]\n",
    "            score_2 = score_region(mutation_counts, start)\n",
    "            temp.append(['Annotated', score, score_2, (start, stop, strand, length), dict_entry, locus ])\n",
    "        if strand == -1 and stop > dict_entry[1]:\n",
    "            mutation_counts = full_sample_zero_and_non_zero_mutation_counts[start:dict_entry[1]]\n",
    "            score = score_region(list(reversed(mutation_counts)), dict_entry[1])\n",
    "            mutation_counts = full_sample_zero_and_non_zero_mutation_counts[dict_entry[1]:stop]\n",
    "            score_2 = score_region(list(reversed(mutation_counts)), dict_entry[1])\n",
    "            temp.append(['Annotated', score, score_2, (start, stop, strand, length), dict_entry, locus ])\n",
    "upstream_df = pd.DataFrame(temp, columns = ['type','annotation_score','upstream_score','morf_location','annotation_location','Locus'])\n",
    "a = sns.ecdfplot(data = upstream_df, x = 'upstream_score', hue = 'type')\n",
    "a.set(xlabel =\"P-value\", ylabel = \"Cumulative Proportion\", title ='')"
   ]
  },
  {
   "cell_type": "code",
   "execution_count": 68,
   "id": "32f3efe8-a2f1-41f8-a9d3-46198b029884",
   "metadata": {},
   "outputs": [],
   "source": [
    "dejesus_df = pd.read_csv(project_dir + '/DeJesus.csv')"
   ]
  },
  {
   "cell_type": "code",
   "execution_count": 70,
   "id": "6bf0c02b-c2df-4a64-8fa5-ae131b80453b",
   "metadata": {},
   "outputs": [],
   "source": [
    "temp = upstream_df[upstream_df['upstream_score'] < 0.001]\n",
    "temp.sort_values(by=['Locus'], inplace=True)\n",
    "temp_2 = temp.merge(dejesus_df, how='left', left_on='Locus', right_on='ORF');"
   ]
  },
  {
   "cell_type": "code",
   "execution_count": 72,
   "id": "45ba2afb-359e-4238-9173-cc9c84a406cc",
   "metadata": {},
   "outputs": [],
   "source": [
    "for i, r in temp_2.iterrows():\n",
    "    if r['Score'] < -0.7:\n",
    "        if r['morf_location'][2] == 1:\n",
    "            temp_2.at[i,'DeJesus_Proposal'] = (r['annotation_location'][0] + int(r['Offset'])*3, r['annotation_location'][1])\n",
    "        elif r['morf_location'][2] == -1:\n",
    "            temp_2.at[i,'DeJesus_Proposal'] = (r['annotation_location'][0], r['annotation_location'][1] + int(r['Offset'])*3)\n",
    "    else:\n",
    "        temp_2.at[i,'DeJesus_Proposal'] = \"\"\n"
   ]
  },
  {
   "cell_type": "code",
   "execution_count": 76,
   "id": "abf2c7fd-49ab-468e-b5a5-e64829ac16f6",
   "metadata": {},
   "outputs": [
    {
     "data": {
      "text/html": [
       "<div>\n",
       "<style scoped>\n",
       "    .dataframe tbody tr th:only-of-type {\n",
       "        vertical-align: middle;\n",
       "    }\n",
       "\n",
       "    .dataframe tbody tr th {\n",
       "        vertical-align: top;\n",
       "    }\n",
       "\n",
       "    .dataframe thead th {\n",
       "        text-align: right;\n",
       "    }\n",
       "</style>\n",
       "<table border=\"1\" class=\"dataframe\">\n",
       "  <thead>\n",
       "    <tr style=\"text-align: right;\">\n",
       "      <th></th>\n",
       "      <th>Locus</th>\n",
       "      <th>upstream_score</th>\n",
       "      <th>annotation_location</th>\n",
       "      <th>morf_location</th>\n",
       "      <th>DeJesus_Proposal</th>\n",
       "    </tr>\n",
       "  </thead>\n",
       "  <tbody>\n",
       "    <tr>\n",
       "      <th>0</th>\n",
       "      <td>Rv0010c</td>\n",
       "      <td>8.152109e-04</td>\n",
       "      <td>(13132, 13558)</td>\n",
       "      <td>(13132, 13591, -1, 456)</td>\n",
       "      <td></td>\n",
       "    </tr>\n",
       "    <tr>\n",
       "      <th>1</th>\n",
       "      <td>Rv0230c</td>\n",
       "      <td>1.847569e-07</td>\n",
       "      <td>(274982, 275963)</td>\n",
       "      <td>(274982, 276230, -1, 1245)</td>\n",
       "      <td></td>\n",
       "    </tr>\n",
       "    <tr>\n",
       "      <th>2</th>\n",
       "      <td>Rv0231</td>\n",
       "      <td>4.637381e-04</td>\n",
       "      <td>(276057, 277764)</td>\n",
       "      <td>(275874, 277764, 1, 1887)</td>\n",
       "      <td></td>\n",
       "    </tr>\n",
       "    <tr>\n",
       "      <th>3</th>\n",
       "      <td>Rv0361</td>\n",
       "      <td>3.811302e-04</td>\n",
       "      <td>(438821, 439649)</td>\n",
       "      <td>(438536, 439649, 1, 1110)</td>\n",
       "      <td></td>\n",
       "    </tr>\n",
       "    <tr>\n",
       "      <th>4</th>\n",
       "      <td>Rv0496</td>\n",
       "      <td>1.385425e-11</td>\n",
       "      <td>(586393, 587380)</td>\n",
       "      <td>(586345, 587380, 1, 1032)</td>\n",
       "      <td>(586345, 587380)</td>\n",
       "    </tr>\n",
       "    <tr>\n",
       "      <th>5</th>\n",
       "      <td>Rv0653c</td>\n",
       "      <td>1.383018e-04</td>\n",
       "      <td>(749233, 749929)</td>\n",
       "      <td>(749233, 750106, -1, 870)</td>\n",
       "      <td></td>\n",
       "    </tr>\n",
       "    <tr>\n",
       "      <th>6</th>\n",
       "      <td>Rv0759c</td>\n",
       "      <td>2.401234e-07</td>\n",
       "      <td>(853824, 854157)</td>\n",
       "      <td>(853824, 854226, -1, 399)</td>\n",
       "      <td>(853824, 854088)</td>\n",
       "    </tr>\n",
       "    <tr>\n",
       "      <th>7</th>\n",
       "      <td>Rv0774c</td>\n",
       "      <td>1.819422e-11</td>\n",
       "      <td>(867439, 868351)</td>\n",
       "      <td>(867439, 868558, -1, 1116)</td>\n",
       "      <td></td>\n",
       "    </tr>\n",
       "    <tr>\n",
       "      <th>8</th>\n",
       "      <td>Rv0786c</td>\n",
       "      <td>1.572891e-09</td>\n",
       "      <td>(881074, 881464)</td>\n",
       "      <td>(881074, 882091, -1, 1014)</td>\n",
       "      <td></td>\n",
       "    </tr>\n",
       "    <tr>\n",
       "      <th>9</th>\n",
       "      <td>Rv0863</td>\n",
       "      <td>0.000000e+00</td>\n",
       "      <td>(962598, 962880)</td>\n",
       "      <td>(962205, 962880, 1, 672)</td>\n",
       "      <td>(962679, 962880)</td>\n",
       "    </tr>\n",
       "    <tr>\n",
       "      <th>10</th>\n",
       "      <td>Rv0943c</td>\n",
       "      <td>1.075645e-07</td>\n",
       "      <td>(1052695, 1053736)</td>\n",
       "      <td>(1052695, 1053907, -1, 1209)</td>\n",
       "      <td></td>\n",
       "    </tr>\n",
       "    <tr>\n",
       "      <th>11</th>\n",
       "      <td>Rv0992c</td>\n",
       "      <td>0.000000e+00</td>\n",
       "      <td>(1108577, 1109171)</td>\n",
       "      <td>(1108577, 1109753, -1, 1173)</td>\n",
       "      <td></td>\n",
       "    </tr>\n",
       "    <tr>\n",
       "      <th>12</th>\n",
       "      <td>Rv1002c</td>\n",
       "      <td>2.792766e-12</td>\n",
       "      <td>(1118427, 1119939)</td>\n",
       "      <td>(1118427, 1120248, -1, 1818)</td>\n",
       "      <td></td>\n",
       "    </tr>\n",
       "    <tr>\n",
       "      <th>13</th>\n",
       "      <td>Rv1003</td>\n",
       "      <td>1.555204e-06</td>\n",
       "      <td>(1120021, 1120879)</td>\n",
       "      <td>(1119781, 1120879, 1, 1095)</td>\n",
       "      <td></td>\n",
       "    </tr>\n",
       "    <tr>\n",
       "      <th>14</th>\n",
       "      <td>Rv1011</td>\n",
       "      <td>2.169863e-05</td>\n",
       "      <td>(1130190, 1131111)</td>\n",
       "      <td>(1130154, 1131111, 1, 954)</td>\n",
       "      <td></td>\n",
       "    </tr>\n",
       "    <tr>\n",
       "      <th>15</th>\n",
       "      <td>Rv1025</td>\n",
       "      <td>8.826533e-05</td>\n",
       "      <td>(1146560, 1147028)</td>\n",
       "      <td>(1146536, 1147028, 1, 489)</td>\n",
       "      <td>(1146536, 1147028)</td>\n",
       "    </tr>\n",
       "    <tr>\n",
       "      <th>16</th>\n",
       "      <td>Rv1100</td>\n",
       "      <td>0.000000e+00</td>\n",
       "      <td>(1228682, 1229384)</td>\n",
       "      <td>(1228436, 1229384, 1, 945)</td>\n",
       "      <td></td>\n",
       "    </tr>\n",
       "    <tr>\n",
       "      <th>17</th>\n",
       "      <td>Rv1119c</td>\n",
       "      <td>3.783351e-05</td>\n",
       "      <td>(1242863, 1243013)</td>\n",
       "      <td>(1242863, 1243064, -1, 198)</td>\n",
       "      <td></td>\n",
       "    </tr>\n",
       "    <tr>\n",
       "      <th>18</th>\n",
       "      <td>Rv1142c</td>\n",
       "      <td>2.131695e-11</td>\n",
       "      <td>(1269151, 1269958)</td>\n",
       "      <td>(1269151, 1270210, -1, 1056)</td>\n",
       "      <td></td>\n",
       "    </tr>\n",
       "    <tr>\n",
       "      <th>19</th>\n",
       "      <td>Rv1146</td>\n",
       "      <td>1.621436e-11</td>\n",
       "      <td>(1273354, 1274767)</td>\n",
       "      <td>(1273264, 1274767, 1, 1500)</td>\n",
       "      <td></td>\n",
       "    </tr>\n",
       "    <tr>\n",
       "      <th>20</th>\n",
       "      <td>Rv1151c</td>\n",
       "      <td>6.671446e-07</td>\n",
       "      <td>(1278903, 1279617)</td>\n",
       "      <td>(1278903, 1279818, -1, 912)</td>\n",
       "      <td></td>\n",
       "    </tr>\n",
       "    <tr>\n",
       "      <th>21</th>\n",
       "      <td>Rv1154c</td>\n",
       "      <td>1.206974e-06</td>\n",
       "      <td>(1280842, 1281484)</td>\n",
       "      <td>(1280842, 1281532, -1, 687)</td>\n",
       "      <td>(1280842, 1281538)</td>\n",
       "    </tr>\n",
       "    <tr>\n",
       "      <th>22</th>\n",
       "      <td>Rv1258c</td>\n",
       "      <td>7.657731e-04</td>\n",
       "      <td>(1406080, 1407340)</td>\n",
       "      <td>(1406080, 1407652, -1, 1569)</td>\n",
       "      <td></td>\n",
       "    </tr>\n",
       "    <tr>\n",
       "      <th>23</th>\n",
       "      <td>Rv1259</td>\n",
       "      <td>8.913712e-04</td>\n",
       "      <td>(1407338, 1408238)</td>\n",
       "      <td>(1407149, 1408238, 1, 1086)</td>\n",
       "      <td></td>\n",
       "    </tr>\n",
       "    <tr>\n",
       "      <th>24</th>\n",
       "      <td>Rv1367c</td>\n",
       "      <td>1.220100e-04</td>\n",
       "      <td>(1539511, 1540645)</td>\n",
       "      <td>(1539511, 1540717, -1, 1203)</td>\n",
       "      <td>(1539511, 1540573)</td>\n",
       "    </tr>\n",
       "    <tr>\n",
       "      <th>25</th>\n",
       "      <td>Rv1487</td>\n",
       "      <td>1.797995e-04</td>\n",
       "      <td>(1676940, 1677375)</td>\n",
       "      <td>(1676898, 1677375, 1, 474)</td>\n",
       "      <td></td>\n",
       "    </tr>\n",
       "    <tr>\n",
       "      <th>26</th>\n",
       "      <td>Rv1633</td>\n",
       "      <td>2.658258e-08</td>\n",
       "      <td>(1837074, 1839171)</td>\n",
       "      <td>(1836894, 1839171, 1, 2274)</td>\n",
       "      <td>(1837011, 1839171)</td>\n",
       "    </tr>\n",
       "    <tr>\n",
       "      <th>27</th>\n",
       "      <td>Rv1703c</td>\n",
       "      <td>7.509549e-13</td>\n",
       "      <td>(1929130, 1929721)</td>\n",
       "      <td>(1929130, 1929880, -1, 747)</td>\n",
       "      <td></td>\n",
       "    </tr>\n",
       "    <tr>\n",
       "      <th>28</th>\n",
       "      <td>Rv1873</td>\n",
       "      <td>3.995895e-06</td>\n",
       "      <td>(2123173, 2123611)</td>\n",
       "      <td>(2123017, 2123611, 1, 591)</td>\n",
       "      <td></td>\n",
       "    </tr>\n",
       "    <tr>\n",
       "      <th>29</th>\n",
       "      <td>Rv1901</td>\n",
       "      <td>3.556368e-04</td>\n",
       "      <td>(2147661, 2148954)</td>\n",
       "      <td>(2147649, 2148954, 1, 1302)</td>\n",
       "      <td></td>\n",
       "    </tr>\n",
       "    <tr>\n",
       "      <th>30</th>\n",
       "      <td>Rv1932</td>\n",
       "      <td>2.559449e-06</td>\n",
       "      <td>(2183371, 2183869)</td>\n",
       "      <td>(2182576, 2183869, 1, 1290)</td>\n",
       "      <td></td>\n",
       "    </tr>\n",
       "    <tr>\n",
       "      <th>31</th>\n",
       "      <td>Rv2049c</td>\n",
       "      <td>5.913736e-04</td>\n",
       "      <td>(2307292, 2307517)</td>\n",
       "      <td>(2307292, 2307655, -1, 360)</td>\n",
       "      <td></td>\n",
       "    </tr>\n",
       "    <tr>\n",
       "      <th>32</th>\n",
       "      <td>Rv2262c</td>\n",
       "      <td>0.000000e+00</td>\n",
       "      <td>(2534469, 2535552)</td>\n",
       "      <td>(2534469, 2536116, -1, 1644)</td>\n",
       "      <td></td>\n",
       "    </tr>\n",
       "    <tr>\n",
       "      <th>33</th>\n",
       "      <td>Rv2363</td>\n",
       "      <td>8.127810e-11</td>\n",
       "      <td>(2644319, 2645774)</td>\n",
       "      <td>(2644187, 2645774, 1, 1584)</td>\n",
       "      <td></td>\n",
       "    </tr>\n",
       "    <tr>\n",
       "      <th>34</th>\n",
       "      <td>Rv2405</td>\n",
       "      <td>8.474878e-08</td>\n",
       "      <td>(2703268, 2703838)</td>\n",
       "      <td>(2703235, 2703838, 1, 600)</td>\n",
       "      <td></td>\n",
       "    </tr>\n",
       "    <tr>\n",
       "      <th>35</th>\n",
       "      <td>Rv2607</td>\n",
       "      <td>0.000000e+00</td>\n",
       "      <td>(2934197, 2934872)</td>\n",
       "      <td>(2933804, 2934872, 1, 1065)</td>\n",
       "      <td></td>\n",
       "    </tr>\n",
       "    <tr>\n",
       "      <th>36</th>\n",
       "      <td>Rv2679</td>\n",
       "      <td>3.474432e-11</td>\n",
       "      <td>(2995114, 2995945)</td>\n",
       "      <td>(2994919, 2995945, 1, 1023)</td>\n",
       "      <td></td>\n",
       "    </tr>\n",
       "    <tr>\n",
       "      <th>37</th>\n",
       "      <td>Rv2697c</td>\n",
       "      <td>8.229067e-09</td>\n",
       "      <td>(3013682, 3014147)</td>\n",
       "      <td>(3013682, 3014486, -1, 801)</td>\n",
       "      <td></td>\n",
       "    </tr>\n",
       "    <tr>\n",
       "      <th>38</th>\n",
       "      <td>Rv2740</td>\n",
       "      <td>0.000000e+00</td>\n",
       "      <td>(3053232, 3053682)</td>\n",
       "      <td>(3052323, 3053682, 1, 1356)</td>\n",
       "      <td></td>\n",
       "    </tr>\n",
       "    <tr>\n",
       "      <th>39</th>\n",
       "      <td>Rv2748c</td>\n",
       "      <td>1.216383e-11</td>\n",
       "      <td>(3059854, 3062506)</td>\n",
       "      <td>(3059854, 3062887, -1, 3030)</td>\n",
       "      <td></td>\n",
       "    </tr>\n",
       "    <tr>\n",
       "      <th>40</th>\n",
       "      <td>Rv2749</td>\n",
       "      <td>7.234204e-10</td>\n",
       "      <td>(3062504, 3062819)</td>\n",
       "      <td>(3061532, 3062819, 1, 1284)</td>\n",
       "      <td></td>\n",
       "    </tr>\n",
       "    <tr>\n",
       "      <th>41</th>\n",
       "      <td>Rv3055</td>\n",
       "      <td>3.675794e-05</td>\n",
       "      <td>(3416080, 3416695)</td>\n",
       "      <td>(3415864, 3416695, 1, 828)</td>\n",
       "      <td></td>\n",
       "    </tr>\n",
       "    <tr>\n",
       "      <th>42</th>\n",
       "      <td>Rv3271c</td>\n",
       "      <td>2.123786e-08</td>\n",
       "      <td>(3652678, 3653347)</td>\n",
       "      <td>(3652678, 3653566, -1, 885)</td>\n",
       "      <td></td>\n",
       "    </tr>\n",
       "    <tr>\n",
       "      <th>43</th>\n",
       "      <td>Rv3316</td>\n",
       "      <td>3.820642e-09</td>\n",
       "      <td>(3704101, 3704440)</td>\n",
       "      <td>(3703981, 3704440, 1, 456)</td>\n",
       "      <td></td>\n",
       "    </tr>\n",
       "    <tr>\n",
       "      <th>44</th>\n",
       "      <td>Rv3369</td>\n",
       "      <td>0.000000e+00</td>\n",
       "      <td>(3780977, 3781412)</td>\n",
       "      <td>(3780797, 3781412, 1, 612)</td>\n",
       "      <td></td>\n",
       "    </tr>\n",
       "    <tr>\n",
       "      <th>45</th>\n",
       "      <td>Rv3395A</td>\n",
       "      <td>1.094680e-13</td>\n",
       "      <td>(3811718, 3812345)</td>\n",
       "      <td>(3811268, 3812345, 1, 1074)</td>\n",
       "      <td></td>\n",
       "    </tr>\n",
       "    <tr>\n",
       "      <th>46</th>\n",
       "      <td>Rv3454</td>\n",
       "      <td>4.884981e-15</td>\n",
       "      <td>(3874821, 3876090)</td>\n",
       "      <td>(3874758, 3876090, 1, 1329)</td>\n",
       "      <td></td>\n",
       "    </tr>\n",
       "    <tr>\n",
       "      <th>47</th>\n",
       "      <td>Rv3515c</td>\n",
       "      <td>1.629686e-07</td>\n",
       "      <td>(3950823, 3952470)</td>\n",
       "      <td>(3950823, 3952710, -1, 1884)</td>\n",
       "      <td></td>\n",
       "    </tr>\n",
       "    <tr>\n",
       "      <th>48</th>\n",
       "      <td>Rv3521</td>\n",
       "      <td>1.287128e-08</td>\n",
       "      <td>(3957520, 3958432)</td>\n",
       "      <td>(3957427, 3958432, 1, 1002)</td>\n",
       "      <td>(3957427, 3958432)</td>\n",
       "    </tr>\n",
       "    <tr>\n",
       "      <th>49</th>\n",
       "      <td>Rv3564</td>\n",
       "      <td>2.851088e-04</td>\n",
       "      <td>(4005246, 4006203)</td>\n",
       "      <td>(4005168, 4006203, 1, 1032)</td>\n",
       "      <td></td>\n",
       "    </tr>\n",
       "    <tr>\n",
       "      <th>50</th>\n",
       "      <td>Rv3574</td>\n",
       "      <td>2.102138e-05</td>\n",
       "      <td>(4016483, 4017083)</td>\n",
       "      <td>(4015622, 4017083, 1, 1458)</td>\n",
       "      <td></td>\n",
       "    </tr>\n",
       "    <tr>\n",
       "      <th>51</th>\n",
       "      <td>Rv3659c</td>\n",
       "      <td>9.377151e-04</td>\n",
       "      <td>(4096935, 4097994)</td>\n",
       "      <td>(4096935, 4098099, -1, 1161)</td>\n",
       "      <td>(4096935, 4097889)</td>\n",
       "    </tr>\n",
       "    <tr>\n",
       "      <th>52</th>\n",
       "      <td>Rv3694c</td>\n",
       "      <td>1.395619e-07</td>\n",
       "      <td>(4136121, 4137114)</td>\n",
       "      <td>(4136121, 4137309, -1, 1185)</td>\n",
       "      <td></td>\n",
       "    </tr>\n",
       "    <tr>\n",
       "      <th>53</th>\n",
       "      <td>Rv3695</td>\n",
       "      <td>2.320459e-04</td>\n",
       "      <td>(4137205, 4138138)</td>\n",
       "      <td>(4137049, 4138138, 1, 1086)</td>\n",
       "      <td></td>\n",
       "    </tr>\n",
       "    <tr>\n",
       "      <th>54</th>\n",
       "      <td>Rv3707c</td>\n",
       "      <td>5.427702e-04</td>\n",
       "      <td>(4150029, 4151040)</td>\n",
       "      <td>(4150029, 4151178, -1, 1146)</td>\n",
       "      <td></td>\n",
       "    </tr>\n",
       "    <tr>\n",
       "      <th>55</th>\n",
       "      <td>Rv3730c</td>\n",
       "      <td>3.517285e-09</td>\n",
       "      <td>(4180679, 4181720)</td>\n",
       "      <td>(4180679, 4181864, -1, 1182)</td>\n",
       "      <td></td>\n",
       "    </tr>\n",
       "    <tr>\n",
       "      <th>56</th>\n",
       "      <td>Rv3754</td>\n",
       "      <td>2.117306e-12</td>\n",
       "      <td>(4200420, 4201326)</td>\n",
       "      <td>(4200354, 4201326, 1, 969)</td>\n",
       "      <td>(4200381, 4201326)</td>\n",
       "    </tr>\n",
       "    <tr>\n",
       "      <th>57</th>\n",
       "      <td>Rv3764c</td>\n",
       "      <td>3.532028e-05</td>\n",
       "      <td>(4209581, 4211009)</td>\n",
       "      <td>(4209581, 4211102, -1, 1518)</td>\n",
       "      <td></td>\n",
       "    </tr>\n",
       "    <tr>\n",
       "      <th>58</th>\n",
       "      <td>Rv3818</td>\n",
       "      <td>6.728240e-05</td>\n",
       "      <td>(4282448, 4283999)</td>\n",
       "      <td>(4281440, 4283999, 1, 2556)</td>\n",
       "      <td></td>\n",
       "    </tr>\n",
       "  </tbody>\n",
       "</table>\n",
       "</div>"
      ],
      "text/plain": [
       "      Locus  upstream_score annotation_location                 morf_location  \\\n",
       "0   Rv0010c    8.152109e-04      (13132, 13558)       (13132, 13591, -1, 456)   \n",
       "1   Rv0230c    1.847569e-07    (274982, 275963)    (274982, 276230, -1, 1245)   \n",
       "2    Rv0231    4.637381e-04    (276057, 277764)     (275874, 277764, 1, 1887)   \n",
       "3    Rv0361    3.811302e-04    (438821, 439649)     (438536, 439649, 1, 1110)   \n",
       "4    Rv0496    1.385425e-11    (586393, 587380)     (586345, 587380, 1, 1032)   \n",
       "5   Rv0653c    1.383018e-04    (749233, 749929)     (749233, 750106, -1, 870)   \n",
       "6   Rv0759c    2.401234e-07    (853824, 854157)     (853824, 854226, -1, 399)   \n",
       "7   Rv0774c    1.819422e-11    (867439, 868351)    (867439, 868558, -1, 1116)   \n",
       "8   Rv0786c    1.572891e-09    (881074, 881464)    (881074, 882091, -1, 1014)   \n",
       "9    Rv0863    0.000000e+00    (962598, 962880)      (962205, 962880, 1, 672)   \n",
       "10  Rv0943c    1.075645e-07  (1052695, 1053736)  (1052695, 1053907, -1, 1209)   \n",
       "11  Rv0992c    0.000000e+00  (1108577, 1109171)  (1108577, 1109753, -1, 1173)   \n",
       "12  Rv1002c    2.792766e-12  (1118427, 1119939)  (1118427, 1120248, -1, 1818)   \n",
       "13   Rv1003    1.555204e-06  (1120021, 1120879)   (1119781, 1120879, 1, 1095)   \n",
       "14   Rv1011    2.169863e-05  (1130190, 1131111)    (1130154, 1131111, 1, 954)   \n",
       "15   Rv1025    8.826533e-05  (1146560, 1147028)    (1146536, 1147028, 1, 489)   \n",
       "16   Rv1100    0.000000e+00  (1228682, 1229384)    (1228436, 1229384, 1, 945)   \n",
       "17  Rv1119c    3.783351e-05  (1242863, 1243013)   (1242863, 1243064, -1, 198)   \n",
       "18  Rv1142c    2.131695e-11  (1269151, 1269958)  (1269151, 1270210, -1, 1056)   \n",
       "19   Rv1146    1.621436e-11  (1273354, 1274767)   (1273264, 1274767, 1, 1500)   \n",
       "20  Rv1151c    6.671446e-07  (1278903, 1279617)   (1278903, 1279818, -1, 912)   \n",
       "21  Rv1154c    1.206974e-06  (1280842, 1281484)   (1280842, 1281532, -1, 687)   \n",
       "22  Rv1258c    7.657731e-04  (1406080, 1407340)  (1406080, 1407652, -1, 1569)   \n",
       "23   Rv1259    8.913712e-04  (1407338, 1408238)   (1407149, 1408238, 1, 1086)   \n",
       "24  Rv1367c    1.220100e-04  (1539511, 1540645)  (1539511, 1540717, -1, 1203)   \n",
       "25   Rv1487    1.797995e-04  (1676940, 1677375)    (1676898, 1677375, 1, 474)   \n",
       "26   Rv1633    2.658258e-08  (1837074, 1839171)   (1836894, 1839171, 1, 2274)   \n",
       "27  Rv1703c    7.509549e-13  (1929130, 1929721)   (1929130, 1929880, -1, 747)   \n",
       "28   Rv1873    3.995895e-06  (2123173, 2123611)    (2123017, 2123611, 1, 591)   \n",
       "29   Rv1901    3.556368e-04  (2147661, 2148954)   (2147649, 2148954, 1, 1302)   \n",
       "30   Rv1932    2.559449e-06  (2183371, 2183869)   (2182576, 2183869, 1, 1290)   \n",
       "31  Rv2049c    5.913736e-04  (2307292, 2307517)   (2307292, 2307655, -1, 360)   \n",
       "32  Rv2262c    0.000000e+00  (2534469, 2535552)  (2534469, 2536116, -1, 1644)   \n",
       "33   Rv2363    8.127810e-11  (2644319, 2645774)   (2644187, 2645774, 1, 1584)   \n",
       "34   Rv2405    8.474878e-08  (2703268, 2703838)    (2703235, 2703838, 1, 600)   \n",
       "35   Rv2607    0.000000e+00  (2934197, 2934872)   (2933804, 2934872, 1, 1065)   \n",
       "36   Rv2679    3.474432e-11  (2995114, 2995945)   (2994919, 2995945, 1, 1023)   \n",
       "37  Rv2697c    8.229067e-09  (3013682, 3014147)   (3013682, 3014486, -1, 801)   \n",
       "38   Rv2740    0.000000e+00  (3053232, 3053682)   (3052323, 3053682, 1, 1356)   \n",
       "39  Rv2748c    1.216383e-11  (3059854, 3062506)  (3059854, 3062887, -1, 3030)   \n",
       "40   Rv2749    7.234204e-10  (3062504, 3062819)   (3061532, 3062819, 1, 1284)   \n",
       "41   Rv3055    3.675794e-05  (3416080, 3416695)    (3415864, 3416695, 1, 828)   \n",
       "42  Rv3271c    2.123786e-08  (3652678, 3653347)   (3652678, 3653566, -1, 885)   \n",
       "43   Rv3316    3.820642e-09  (3704101, 3704440)    (3703981, 3704440, 1, 456)   \n",
       "44   Rv3369    0.000000e+00  (3780977, 3781412)    (3780797, 3781412, 1, 612)   \n",
       "45  Rv3395A    1.094680e-13  (3811718, 3812345)   (3811268, 3812345, 1, 1074)   \n",
       "46   Rv3454    4.884981e-15  (3874821, 3876090)   (3874758, 3876090, 1, 1329)   \n",
       "47  Rv3515c    1.629686e-07  (3950823, 3952470)  (3950823, 3952710, -1, 1884)   \n",
       "48   Rv3521    1.287128e-08  (3957520, 3958432)   (3957427, 3958432, 1, 1002)   \n",
       "49   Rv3564    2.851088e-04  (4005246, 4006203)   (4005168, 4006203, 1, 1032)   \n",
       "50   Rv3574    2.102138e-05  (4016483, 4017083)   (4015622, 4017083, 1, 1458)   \n",
       "51  Rv3659c    9.377151e-04  (4096935, 4097994)  (4096935, 4098099, -1, 1161)   \n",
       "52  Rv3694c    1.395619e-07  (4136121, 4137114)  (4136121, 4137309, -1, 1185)   \n",
       "53   Rv3695    2.320459e-04  (4137205, 4138138)   (4137049, 4138138, 1, 1086)   \n",
       "54  Rv3707c    5.427702e-04  (4150029, 4151040)  (4150029, 4151178, -1, 1146)   \n",
       "55  Rv3730c    3.517285e-09  (4180679, 4181720)  (4180679, 4181864, -1, 1182)   \n",
       "56   Rv3754    2.117306e-12  (4200420, 4201326)    (4200354, 4201326, 1, 969)   \n",
       "57  Rv3764c    3.532028e-05  (4209581, 4211009)  (4209581, 4211102, -1, 1518)   \n",
       "58   Rv3818    6.728240e-05  (4282448, 4283999)   (4281440, 4283999, 1, 2556)   \n",
       "\n",
       "      DeJesus_Proposal  \n",
       "0                       \n",
       "1                       \n",
       "2                       \n",
       "3                       \n",
       "4     (586345, 587380)  \n",
       "5                       \n",
       "6     (853824, 854088)  \n",
       "7                       \n",
       "8                       \n",
       "9     (962679, 962880)  \n",
       "10                      \n",
       "11                      \n",
       "12                      \n",
       "13                      \n",
       "14                      \n",
       "15  (1146536, 1147028)  \n",
       "16                      \n",
       "17                      \n",
       "18                      \n",
       "19                      \n",
       "20                      \n",
       "21  (1280842, 1281538)  \n",
       "22                      \n",
       "23                      \n",
       "24  (1539511, 1540573)  \n",
       "25                      \n",
       "26  (1837011, 1839171)  \n",
       "27                      \n",
       "28                      \n",
       "29                      \n",
       "30                      \n",
       "31                      \n",
       "32                      \n",
       "33                      \n",
       "34                      \n",
       "35                      \n",
       "36                      \n",
       "37                      \n",
       "38                      \n",
       "39                      \n",
       "40                      \n",
       "41                      \n",
       "42                      \n",
       "43                      \n",
       "44                      \n",
       "45                      \n",
       "46                      \n",
       "47                      \n",
       "48  (3957427, 3958432)  \n",
       "49                      \n",
       "50                      \n",
       "51  (4096935, 4097889)  \n",
       "52                      \n",
       "53                      \n",
       "54                      \n",
       "55                      \n",
       "56  (4200381, 4201326)  \n",
       "57                      \n",
       "58                      "
      ]
     },
     "execution_count": 76,
     "metadata": {},
     "output_type": "execute_result"
    }
   ],
   "source": [
    "cols = ['Locus', 'upstream_score', 'annotation_location', 'morf_location', 'DeJesus_Proposal']\n",
    "temp_2 = temp_2[cols]\n",
    "temp_2\n",
    "#temp_2.to_csv(project_dir+'/Reannotation_upstream_scores.csv')"
   ]
  }
 ],
 "metadata": {
  "kernelspec": {
   "display_name": "Python 3 (ipykernel)",
   "language": "python",
   "name": "python3"
  },
  "language_info": {
   "codemirror_mode": {
    "name": "ipython",
    "version": 3
   },
   "file_extension": ".py",
   "mimetype": "text/x-python",
   "name": "python",
   "nbconvert_exporter": "python",
   "pygments_lexer": "ipython3",
   "version": "3.11.7"
  }
 },
 "nbformat": 4,
 "nbformat_minor": 5
}
