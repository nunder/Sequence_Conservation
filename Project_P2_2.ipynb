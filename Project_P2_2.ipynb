{
 "cells": [
  {
   "cell_type": "code",
   "execution_count": 1,
   "id": "e36786c5-8a4d-4b87-9f58-d6a718cc37c5",
   "metadata": {},
   "outputs": [],
   "source": [
    "import pandas as pd\n",
    "pd.options.mode.chained_assignment = None  # default='warn'\n",
    "import pickle\n",
    "import seaborn as sns\n",
    "import matplotlib.pyplot as plt\n",
    "import numpy as np\n",
    "from Bio import Entrez, SeqIO, AlignIO, pairwise2, Align, Seq, motifs\n",
    "from Bio.Seq import Seq\n",
    "from Bio.SeqFeature import SeqFeature, FeatureLocation\n",
    "from scipy.stats import binom\n",
    "import math\n",
    "from tqdm.auto import tqdm\n",
    "from Comparative_Analysis import Sequence_Analysis_Routines as sar\n",
    "from Comparative_Analysis import Utilities as util\n",
    "from Comparative_Analysis import Alignment as align\n",
    "from Comparative_Analysis import Blast_Functions as blastfn\n",
    "import random\n",
    "import copy\n",
    "from joblib import Parallel, delayed\n",
    "import os\n",
    "import shutil\n",
    "import subprocess\n",
    "from Bio.Blast import NCBIWWW, NCBIXML\n",
    "from Bio.Align.Applications import MuscleCommandline\n",
    "import re\n",
    "import shutil"
   ]
  },
  {
   "cell_type": "code",
   "execution_count": 10,
   "id": "1c8f9536-cd01-45c5-abdb-ef4e9a9dba3b",
   "metadata": {},
   "outputs": [],
   "source": [
    "full_run = True\n",
    "project_dir = 'D:/Project_Data/Project_8'\n",
    "datasets_dir = project_dir + '/Datasets'\n",
    "output_dir = project_dir + '/RScape_Local_Run_2'\n",
    "wsl_output_loc = util.wslname(output_dir)\n",
    "seq_dir = 'D:/Actinobacteria_Ref_Rep_Lev_Complete'\n",
    "blast_dir = 'D:/BLAST/actinobacteria_ref_rep_comp'\n",
    "blast_db_name = 'actinobacteria_ref_rep_comp'\n",
    "num_cores = 16\n",
    "core_numbers = list(range(1, num_cores+1))\n",
    "reference_species_filename = 'GCF_000195955.2_ASM19595v2_genomic.gbff'\n",
    "species_list = util.list_files(seq_dir)"
   ]
  },
  {
   "cell_type": "markdown",
   "id": "a2cd388b-0056-4a83-b21c-0959a15e5133",
   "metadata": {},
   "source": [
    "##### Generate file containing all intergenic regions in reference organism"
   ]
  },
  {
   "cell_type": "code",
   "execution_count": 3,
   "id": "ad963602-bf2d-4080-a2bd-dd76b074886b",
   "metadata": {},
   "outputs": [],
   "source": [
    "features = []\n",
    "genome_record = next(SeqIO.parse(seq_dir + '/' + reference_species_filename, \"genbank\"))\n",
    "full_sequence = str(genome_record.seq)\n",
    "mycobrowser_df = pd.read_excel(datasets_dir+'/Mycobrowser_Release_4.xlsx')\n",
    "for i, r in mycobrowser_df.iterrows():\n",
    "    if r['Strand'] == '+':\n",
    "        strand = 1\n",
    "    else:\n",
    "        strand = -1\n",
    "    features.append([r['Locus'],r['Start']-1, r['Stop'], strand])\n",
    "features.sort(key=lambda x: x[1])\n",
    "feature_info = []\n",
    "for i, feature in enumerate(features):\n",
    "    feature_sequence = full_sequence[feature[1]: feature[2]]\n",
    "    #feature_info.append([feature[0], feature[1], feature[2], feature_sequence, len(feature_sequence)])\n",
    "    if feature[1] < feature[2]:  \n",
    "        if (i + 1)< len(features) and feature[2] < features[i+1][1]:\n",
    "            utr_coords = (feature[2], features[i+1][1])\n",
    "            utr_sequence = full_sequence[feature[2]: features[i+1][1]]\n",
    "            utr_length = len(utr_sequence)\n",
    "        else:\n",
    "            utr_coords = (0,0)\n",
    "            utr_sequence = ''\n",
    "            utr_length = 0\n",
    "        if 1==1:\n",
    "        #if utr_length > 50:\n",
    "            feature_info.append([feature[0], utr_coords[0], utr_coords[1], utr_sequence, utr_length])\n",
    "intergenic_df = pd.DataFrame(feature_info, columns = ['Locus', 'Start' , 'End', 'Sequence', 'Length'])"
   ]
  },
  {
   "cell_type": "markdown",
   "id": "ad67350d-b3f3-4fec-bd71-8466a5d06a39",
   "metadata": {},
   "source": [
    "##### Run HMMER and INFERNAL iteratively"
   ]
  },
  {
   "cell_type": "code",
   "execution_count": 14,
   "id": "fd45ea6c-bf86-4ff5-a1ef-ee3420b83803",
   "metadata": {},
   "outputs": [],
   "source": [
    "test = intergenic_df[intergenic_df.Locus.isin(['Rv0439c'])]"
   ]
  },
  {
   "cell_type": "code",
   "execution_count": 15,
   "id": "4237e1da-f67e-4475-b50b-32615aa18bfb",
   "metadata": {},
   "outputs": [
    {
     "name": "stdout",
     "output_type": "stream",
     "text": [
      "Rv0439c\n"
     ]
    },
    {
     "name": "stderr",
     "output_type": "stream",
     "text": [
      "100%|██████████| 1/1 [00:00<?, ?it/s]\n"
     ]
    }
   ],
   "source": [
    "hmmer_eval =  1e-5\n",
    "infernal_eval = 1e-5\n",
    "query_file = 'intergenic_region.faa'\n",
    "hm_model_file = 'hmm.hmm'\n",
    "cm_model_file = 'cm.cm'\n",
    "for i, r in test.iterrows():\n",
    "    if r['Length'] >= 60:\n",
    "        sequence_list = [[r['Locus'], r['Sequence']]]\n",
    "        locus_id = r['Locus']\n",
    "        print(locus_id)\n",
    "        results_dir = output_dir + '/' + locus_id\n",
    "        if not os.path.exists(results_dir):\n",
    "            os.makedirs(results_dir)\n",
    "        util.produce_fasta_file(sequence_list, results_dir + '/' + query_file)\n",
    "\n",
    "        blastfn.nhmmer_search_sequence(results_dir, query_file, datasets_dir, 'full_sequences.faa', 'align_0.sto', 'output.txt', 'hsummary.txt', hmmer_eval) \n",
    "        if not os.path.exists(results_dir +'/hsummary.txt'):\n",
    "            continue\n",
    "        blastfn.align_keep_top_hit_per_species(results_dir, 'hsummary.txt', 'align_0.sto', 'align_bh_0.sto', 'HMMER', hmmer_eval)\n",
    "        for i in range(4):\n",
    "            blastfn.hmmer_build(results_dir, 'align_bh_'+str(i)+'.sto' ,hm_model_file)\n",
    "            blastfn.nhmmer_search_model(results_dir, hm_model_file, datasets_dir, 'full_sequences.faa', 'align_'+str(i+1)+'.sto', 'output.txt', 'hsummary_'+str(i+1)+'.txt', hmmer_eval)      #seq_dir, 'full_sequences.faa'\n",
    "            blastfn.align_keep_top_hit_per_species(results_dir, 'hsummary_'+str(i+1)+'.txt', 'align_'+str(i+1)+'.sto', 'align_bh_'+str(i+1)+'.sto', 'HMMER', hmmer_eval)\n",
    "\n",
    "\n",
    "        blastfn.infernal_build_and_calib(results_dir, 'align_bh_4.sto' ,'cm_1.cm', False)\n",
    "        blastfn.infernal_search(results_dir, 'cm_1.cm', datasets_dir, 'full_sequences.faa', 'search_1.sto', 'search_hits_1.txt', 'summary_1.txt', infernal_eval) \n",
    "        if os.path.getsize(results_dir + '/search_hits_1.txt') > 1e7:\n",
    "            continue\n",
    "        blastfn.align_keep_top_hit_per_species(results_dir, 'summary_1.txt', 'search_1.sto', 'search_bh_1.sto', 'INFERNAL', infernal_eval)\n",
    "        blastfn.run_rscape(results_dir, 'search_bh_1.sto', 'rscape_1')\n",
    "\n",
    "        #2\n",
    "        #'rscape_1.cacofold.R2R.sto'\n",
    "        blastfn.infernal_build_and_calib(results_dir, 'search_bh_1.sto' ,'cm_2.cm')\n",
    "        blastfn.infernal_search(results_dir, 'cm_2.cm', datasets_dir, 'full_sequences.faa', 'search_2.sto', 'search_hits_2.txt', 'summary_2.txt', infernal_eval) \n",
    "        if os.path.getsize(results_dir + '/search_hits_2.txt') > 1e7:\n",
    "            continue\n",
    "        blastfn.align_keep_top_hit_per_species(results_dir, 'summary_2.txt', 'search_2.sto', 'search_bh_2.sto', 'INFERNAL', infernal_eval)\n",
    "        blastfn.run_rscape(results_dir, 'search_bh_2.sto', 'rscape_2')\n",
    "\n",
    "       #3\n",
    "\n",
    "        blastfn.infernal_build_and_calib(results_dir, 'search_bh_2.sto' ,'cm_3.cm')\n",
    "        blastfn.infernal_search(results_dir, 'cm_3.cm', datasets_dir, 'full_sequences.faa', 'search_3.sto', 'search_hits_3.txt', 'summary_3.txt', infernal_eval) \n",
    "        if os.path.getsize(results_dir + '/search_hits_3.txt') > 1e7:\n",
    "            continue\n",
    "        blastfn.align_keep_top_hit_per_species(results_dir, 'summary_3.txt', 'search_3.sto', 'search_bh_3.sto', 'INFERNAL', infernal_eval)\n",
    "        blastfn.run_rscape(results_dir, 'search_3.sto', 'rscape_3')\n",
    "\n"
   ]
  },
  {
   "cell_type": "code",
   "execution_count": null,
   "id": "4d5ad5c3-0808-4b91-b91d-442420c08c39",
   "metadata": {},
   "outputs": [],
   "source": []
  }
 ],
 "metadata": {
  "kernelspec": {
   "display_name": "Python 3 (ipykernel)",
   "language": "python",
   "name": "python3"
  },
  "language_info": {
   "codemirror_mode": {
    "name": "ipython",
    "version": 3
   },
   "file_extension": ".py",
   "mimetype": "text/x-python",
   "name": "python",
   "nbconvert_exporter": "python",
   "pygments_lexer": "ipython3",
   "version": "3.9.7"
  }
 },
 "nbformat": 4,
 "nbformat_minor": 5
}
