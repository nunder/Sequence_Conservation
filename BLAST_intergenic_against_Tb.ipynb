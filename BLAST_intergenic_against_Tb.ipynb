{
 "cells": [
  {
   "cell_type": "markdown",
   "id": "eef24ce4-4729-44b6-8d43-fbdf47b9033a",
   "metadata": {
    "tags": []
   },
   "source": [
    "##### Set up packages and directories"
   ]
  },
  {
   "cell_type": "code",
   "execution_count": 1,
   "id": "05aa9444-1c5a-4aa9-857a-4c640c89d19f",
   "metadata": {
    "tags": []
   },
   "outputs": [],
   "source": [
    "full_run = True"
   ]
  },
  {
   "cell_type": "code",
   "execution_count": 2,
   "id": "e471e9d2-ea1c-4bbb-b2a7-9e8d7ff9e003",
   "metadata": {
    "tags": []
   },
   "outputs": [],
   "source": [
    "import pandas as pd\n",
    "pd.options.mode.chained_assignment = None  # default='warn'\n",
    "import pickle\n",
    "import seaborn as sns\n",
    "import matplotlib.pyplot as plt\n",
    "import numpy as np\n",
    "from Bio import Entrez, SeqIO, AlignIO, pairwise2, Align, Seq, motifs\n",
    "from Bio.Seq import Seq\n",
    "from Bio.SeqFeature import SeqFeature, FeatureLocation\n",
    "import math\n",
    "from tqdm.auto import tqdm\n",
    "from Comparative_Analysis import Sequence_Analysis_Routines as sar\n",
    "from Comparative_Analysis import Utilities as util\n",
    "from Comparative_Analysis import Alignment as align\n",
    "import random\n",
    "import copy\n",
    "from joblib import Parallel, delayed\n",
    "import os\n",
    "import shutil\n",
    "import subprocess\n",
    "from Bio.Align.Applications import MuscleCommandline\n",
    "muscle_exe = 'C:/Users/nicho/Muscle/muscle3.8.31_i86win32.exe'"
   ]
  },
  {
   "cell_type": "code",
   "execution_count": 3,
   "id": "1988a242-f558-4643-b3a9-27272fa7bebc",
   "metadata": {},
   "outputs": [],
   "source": [
    "project_dir = 'F:/Project_Data/Self_Blast_Project'\n",
    "literature_datasets_dir = 'F:/Datasets/Data_From_Publications'\n",
    "output_dir = project_dir + '/Output'\n",
    "refseq_dir = project_dir + '/Datasets'\n",
    "num_cores = 8\n",
    "core_numbers = list(range(1, num_cores+1))"
   ]
  },
  {
   "cell_type": "code",
   "execution_count": 4,
   "id": "abef54a8-1fd0-4a05-94de-bc9e2f647844",
   "metadata": {},
   "outputs": [],
   "source": [
    "reference_species = 'GCF_000195955.2'\n",
    "all_species = util.list_dirs(refseq_dir)"
   ]
  },
  {
   "cell_type": "code",
   "execution_count": 5,
   "id": "6e95c73e-053b-4209-b87e-e9037b576f32",
   "metadata": {},
   "outputs": [],
   "source": [
    "rbh = pd.read_csv('F:/Project_Data/Intergenic_Region_Comparative_Analysis/reciprocal_best_hits.csv')\n",
    "rbh_dict = {}\n",
    "for i, r in rbh.iterrows():\n",
    "    rbh_dict[r['target_ref']] = r['query_ref']"
   ]
  },
  {
   "cell_type": "code",
   "execution_count": 6,
   "id": "9eb07322-c311-447a-8687-3bf6a1fa3b16",
   "metadata": {},
   "outputs": [
    {
     "data": {
      "application/vnd.jupyter.widget-view+json": {
       "model_id": "e2b0391c85744b168458b2dc43c7e4aa",
       "version_major": 2,
       "version_minor": 0
      },
      "text/plain": [
       "  0%|          | 0/4 [00:00<?, ?it/s]"
      ]
     },
     "metadata": {},
     "output_type": "display_data"
    }
   ],
   "source": [
    "annotated_regions_dict = {}\n",
    "for species in tqdm(all_species):\n",
    "    for record in SeqIO.parse(refseq_dir + '/'+species+'/genomic.gbff', \"genbank\"):\n",
    "        annotated_regions = []\n",
    "        intergenic_regions = []\n",
    "        accession_ver = record.annotations['accessions'][0] + '.' + str(record.annotations['sequence_version'])\n",
    "        for feature in record.features:\n",
    "            a = feature.qualifiers\n",
    "            if feature.type not in ['source','gene'] and (int(feature.location.start) < int(feature.location.end)) and (int(feature.location.end) - int(feature.location.start)) < 1000000:\n",
    "                if not(a.get(\"product\") == None):\n",
    "                       product = a.get(\"product\")[0]\n",
    "                else:\n",
    "                       product = feature.type\n",
    "                if not(a.get(\"locus_tag\")==None):\n",
    "                    locus_tag = accession_ver + '@' + a.get(\"locus_tag\")[0]\n",
    "                    if locus_tag in rbh_dict:\n",
    "                        ortholog_locus_tag = rbh_dict[locus_tag]\n",
    "                    else:\n",
    "                        ortholog_locus_tag = ''\n",
    "                else:\n",
    "                    locus_tag = feature.type\n",
    "                    ortholog_locus_tag = ''\n",
    "                annotated_regions.append((locus_tag, ortholog_locus_tag, product, feature.type, int(feature.location.start), int(feature.location.end)))\n",
    "        annotated_regions.sort(key = lambda x: x[4])\n",
    "        prev_locus = ''\n",
    "        prev_ortholog_locus = ''\n",
    "        prev_product = ''\n",
    "        max_stop = 0\n",
    "        for n, (locus, ortholog_locus, product, feature_type, start, stop) in enumerate(annotated_regions):\n",
    "            if start > max_stop:\n",
    "                intergenic_regions.append([prev_locus+':'+locus, prev_ortholog_locus + ':' + ortholog_locus, prev_product + ':' + product, 'Inter-feature',max_stop, start])\n",
    "            if stop > max_stop:\n",
    "                prev_locus = locus\n",
    "                prev_ortholog_locus = ortholog_locus\n",
    "                prev_product = product\n",
    "            max_stop = max(max_stop, stop)    \n",
    "        for x in intergenic_regions:\n",
    "            annotated_regions.append(x)\n",
    "        annotated_regions.sort(key = lambda x : x[4])\n",
    "        annotated_regions_dict[accession_ver] = annotated_regions"
   ]
  },
  {
   "cell_type": "code",
   "execution_count": 8,
   "id": "bebae672-5a25-4a3a-8e93-d3c1d387d690",
   "metadata": {},
   "outputs": [],
   "source": [
    "if 1== 0:\n",
    "    with open(project_dir + '/' + 'annotated_regions_dict.pkl', 'wb') as f:\n",
    "        pickle.dump(annotated_regions_dict, f)\n",
    "else:\n",
    "    with open(project_dir + '/' + 'annotated_regions_dict.pkl', 'rb') as f:\n",
    "        annotated_regions_dict = pickle.load(f)    "
   ]
  },
  {
   "cell_type": "code",
   "execution_count": 22,
   "id": "4cc905ee-e3f1-407c-8b42-555688c3f474",
   "metadata": {},
   "outputs": [
    {
     "data": {
      "application/vnd.jupyter.widget-view+json": {
       "model_id": "abe68ad5d6b34a1da0abc42033a05d41",
       "version_major": 2,
       "version_minor": 0
      },
      "text/plain": [
       "  0%|          | 0/4 [00:00<?, ?it/s]"
      ]
     },
     "metadata": {},
     "output_type": "display_data"
    }
   ],
   "source": [
    "full_sequence_dir_dict = {}\n",
    "species_dir_dict = {}\n",
    "for spec in tqdm(all_species):\n",
    "    for record in SeqIO.parse(refseq_dir + '/'+spec+'/genomic.gbff', \"genbank\"):\n",
    "        accession_ver = record.annotations['accessions'][0] + '.' + str(record.annotations['sequence_version'])\n",
    "        full_sequence = str(record.seq)\n",
    "        species_dir_dict[accession_ver] = spec\n",
    "        full_sequence_dir_dict[accession_ver.replace('_','')] = full_sequence"
   ]
  },
  {
   "cell_type": "code",
   "execution_count": 15,
   "id": "f528dfe2-b358-499e-8227-ad9a9f0fa5d6",
   "metadata": {},
   "outputs": [],
   "source": [
    "min_nts = 30"
   ]
  },
  {
   "cell_type": "code",
   "execution_count": 23,
   "id": "595b6a9e-b432-47f2-bc3c-44cdca8bc34b",
   "metadata": {},
   "outputs": [],
   "source": [
    "def produce_full_sequence_and_intergenic_region_fasta(refseq_dir, species, search_against_multiple_species = False, multiple_species = []):\n",
    "    loci = []\n",
    "    record = next(SeqIO.parse(refseq_dir + '/'+species+'/genomic.gbff', \"genbank\"))\n",
    "    accession_ver = record.annotations['accessions'][0] + '.' + str(record.annotations['sequence_version'])     #  for this version just use first record in annotation\n",
    "    full_sequence = str(record.seq)\n",
    "    for feature in record.features:\n",
    "            a = feature.qualifiers\n",
    "            if feature.type not in ['source','gene'] and (int(feature.location.start) < int(feature.location.end)) and (int(feature.location.end) - int(feature.location.start)) < 1000000:\n",
    "                loci.append((feature.type, int(feature.location.start), int(feature.location.end)))\n",
    "\n",
    "    loci.sort(key = lambda x: x[1])\n",
    "    std_annotation_intergenic_regions = []\n",
    "    max_stop = 0\n",
    "    for (feature_type, start, stop) in loci:\n",
    "        if start > max_stop + min_nts:\n",
    "            std_annotation_intergenic_regions.append([accession_ver.replace('_','') + '_'+ str(max_stop)+'_'+str(start), full_sequence[max_stop: start]])\n",
    "        max_stop = max(max_stop, stop)\n",
    "    util.produce_fasta_file(std_annotation_intergenic_regions, project_dir + '/'+ species+'_intergenic_regions.faa')\n",
    "    \n",
    "    #  Produce fasta file will full sequences for all species for blasting against\n",
    "    if search_against_multiple_species == True:\n",
    "        search_species = multiple_species\n",
    "    else:\n",
    "        search_species = [species]\n",
    "    temp = []\n",
    "    for spec in search_species:\n",
    "        record = next(SeqIO.parse(refseq_dir + '/'+spec+'/genomic.gbff', \"genbank\"))\n",
    "        accession_ver = record.annotations['accessions'][0] + '.' + str(record.annotations['sequence_version'])\n",
    "        full_sequence = str(record.seq)\n",
    "        temp.append([accession_ver, full_sequence])\n",
    "    util.produce_fasta_file(temp, project_dir + '/full_'+species+'_sequence.fasta')\n",
    "\n"
   ]
  },
  {
   "cell_type": "code",
   "execution_count": 19,
   "id": "ae213a22-52fe-4ae7-954e-0c73ed688e6f",
   "metadata": {},
   "outputs": [],
   "source": [
    "def make_blast_sequence_db(species):\n",
    "    w_d = os.getcwd()\n",
    "    os.chdir(\"F:/\")\n",
    "    subprocess.run('cd '+ project_dir + ' &  makeblastdb -in ' + project_dir + '/full_'+species+'_sequence.fasta' +' -dbtype nucl -out full_'+species+'_sequence_nt', shell=True, capture_output = True)\n",
    "    os.chdir(w_d)\n",
    "    if not(os.path.exists('F:/Datasets/BLAST/Self_BLAST/' + species)):\n",
    "        os.makedirs('F:/Datasets/BLAST/Self_BLAST/' + species)\n",
    "    files = util.list_files(project_dir)\n",
    "    for file in files:\n",
    "        if species in file:\n",
    "            shutil.move(project_dir+'/'+file, 'F:/Datasets/BLAST/Self_BLAST/' + species +'/' + file)  "
   ]
  },
  {
   "cell_type": "code",
   "execution_count": 32,
   "id": "7160adb4-2d53-4c8a-8a77-fcade1992859",
   "metadata": {},
   "outputs": [],
   "source": [
    "def run_self_blast(refseq_dir, species):\n",
    "    w_d = os.getcwd()\n",
    "    os.chdir(\"F:/\")\n",
    "    subprocess.run('cd f:\\\\Datasets\\\\BLAST\\\\Self_BLAST\\\\' + species + ' & blastn -query ' + species + '_intergenic_regions.faa -db full_'+species+'_sequence_nt -out hits.csv -evalue 10 -outfmt \"10 qaccver saccver qlen slen pident length mismatch gapopen qstart qend sstart send evalue bitscore\" -num_threads 16', shell=True, capture_output = True)\n",
    "  \n",
    "    os.chdir(w_d)\n",
    "    blast_results = pd.read_csv('F:/Datasets/BLAST/Self_BLAST/' + species + '/hits.csv', header = None)\n",
    "    blast_results.columns = ['query_ref', 'target_ref', 'query_length', 'subject_length', 'percent_identical_matches','alignment_length', 'number_mismatches', 'number_of_gap_openings', \n",
    "                             'query_start_alignment', 'query_end_alignment', 'target_start_alignment', 'target_end_alignment', 'e_value', 'bit_score']\n",
    "    \n",
    "    blast_results['hit_count'] = blast_results.groupby('query_ref')['target_ref'].transform('count')\n",
    "    blast_results = blast_results[blast_results['hit_count'] > 1]\n",
    "    \n",
    "    repeat_regions = []\n",
    "    blast_results['annot_features']=''\n",
    "    for i, r in blast_results.iterrows():\n",
    "        start1 = min(r['target_start_alignment'],r['target_end_alignment'])\n",
    "        end1 = max(r['target_start_alignment'],r['target_end_alignment'])\n",
    "        feature_matches = []\n",
    "        for (locus, ortholog_locus, product, feature, start, stop) in annotated_regions_dict[r['target_ref']]:\n",
    "            if start< end1 and stop > start1:\n",
    "                overlap = (min(end1, stop) - max(start1, start))/ (end1-start1)\n",
    "                #Don't want to output ortholog info as it clutters!\n",
    "                #feature_matches.append([locus, ortholog_locus, product, feature, overlap])\n",
    "                feature_matches.append([locus, product, feature, overlap])\n",
    "                if ('repeat' in feature) or ('mobile' in feature):\n",
    "                    repeat_regions.append(r['query_ref'])\n",
    "        blast_results.at[i,'annot_features'] = feature_matches\n",
    "    \n",
    "    \n",
    "    # remove annotated repeat regions\n",
    "    repeat_regions = list(set(repeat_regions))\n",
    "    blast_results = blast_results.query(\"not(query_ref.isin(@repeat_regions))\")\n",
    "    \n",
    "    blast_results['ref_string'] = ''\n",
    "    blast_results['ref_start'] = 0\n",
    "    blast_results['ref_stop'] = 0\n",
    "    blast_results['ref_sequence'] = 0\n",
    "    for i, r in blast_results.iterrows():\n",
    "        temp = ''\n",
    "        for l1 in r['annot_features']:\n",
    "            temp += str(l1[0])\n",
    "        blast_results.at[i, 'ref_string'] = temp\n",
    "        blast_results.at[i, 'accession_ver'] = r['query_ref'].split('_')[0]\n",
    "        blast_results.at[i, 'ref_start'] = int(r['query_ref'].split('_')[1])\n",
    "        blast_results.at[i, 'ref_stop'] = int(r['query_ref'].split('_')[2])\n",
    "        \n",
    "        target_start_alignment = int(r['target_start_alignment'])\n",
    "        target_end_alignment = int(r['target_end_alignment'])\n",
    "        if target_start_alignment < target_end_alignment:\n",
    "            blast_results.at[i, 'ref_sequence'] = full_sequence_dir_dict[r['query_ref'].split('_')[0]][target_start_alignment:target_end_alignment]\n",
    "        else:\n",
    "            blast_results.at[i, 'ref_sequence'] = util.reverse_complement(full_sequence_dir_dict[r['query_ref'].split('_')[0]][target_end_alignment:target_start_alignment])\n",
    "    blast_results = blast_results.loc[blast_results.groupby(['query_ref','ref_string'])['bit_score'].idxmax()]\n",
    "    blast_results = blast_results.drop_duplicates(['query_ref','ref_string'])\n",
    "    blast_results['hit_count'] = blast_results.groupby('query_ref')['target_ref'].transform('count')\n",
    "    blast_results = blast_results[blast_results['hit_count'] > 1]\n",
    "    blast_results.sort_values(by=['ref_start', 'bit_score'], inplace = True, ascending = [True, False])\n",
    "    \n",
    "    blast_results.drop(columns=['accession_ver', 'ref_start', 'ref_stop', 'ref_string'], inplace = True)\n",
    "    \n",
    "    #blast_results['tb_count'] = blast_results[blast_results['target_ref'] == 'NC_000962.3'].groupby('query_ref')['target_ref'].transform('count')\n",
    "    #blast_results['tb_count'] = blast_results.groupby('query_ref')['tb_count'].transform('max')\n",
    "    #blast_results['bovis_count'] = blast_results[blast_results['target_ref'] == 'LT708304.1'].groupby('query_ref')['target_ref'].transform('count')\n",
    "    #blast_results['bovis_count'] = blast_results.groupby('query_ref')['bovis_count'].transform('max')\n",
    "    \n",
    "    \n",
    "    \n",
    "    blast_results.to_excel('F:/Datasets/BLAST/Self_BLAST/' + species + '/processed_hits.xlsx', sheet_name = 'Sheet_1', index = False)"
   ]
  },
  {
   "cell_type": "markdown",
   "id": "107d4824-6eef-41dc-bc6b-29be44a9268f",
   "metadata": {},
   "source": [
    "##### Do self hits for each species - request 1"
   ]
  },
  {
   "cell_type": "code",
   "execution_count": 33,
   "id": "4dab2298-f706-45e2-97cf-9d7c46e7080d",
   "metadata": {},
   "outputs": [
    {
     "data": {
      "application/vnd.jupyter.widget-view+json": {
       "model_id": "3b2f0aa5cb6c4d7888a6a098c9a5254d",
       "version_major": 2,
       "version_minor": 0
      },
      "text/plain": [
       "  0%|          | 0/4 [00:00<?, ?it/s]"
      ]
     },
     "metadata": {},
     "output_type": "display_data"
    },
    {
     "name": "stderr",
     "output_type": "stream",
     "text": [
      "\n",
      "100%|██████████| 2216/2216 [00:00<00:00, 82659.61it/s]\n",
      "\n",
      "  0%|          | 0/1 [00:00<?, ?it/s]\u001b[A\n",
      "100%|██████████| 1/1 [00:00<00:00,  8.90it/s]\u001b[A\n",
      "\n",
      "100%|██████████| 3415/3415 [00:00<00:00, 94976.81it/s]\n",
      "\n",
      "  0%|          | 0/1 [00:00<?, ?it/s]\u001b[A\n",
      "100%|██████████| 1/1 [00:00<00:00,  8.43it/s]\u001b[A\n",
      "\n",
      "100%|██████████| 3221/3221 [00:00<00:00, 73769.91it/s]\n",
      "\n",
      "  0%|          | 0/1 [00:00<?, ?it/s]\u001b[A\n",
      "100%|██████████| 1/1 [00:00<00:00,  8.25it/s]\u001b[A\n",
      "\n",
      "100%|██████████| 2216/2216 [00:00<00:00, 85301.09it/s]\n",
      "\n",
      "100%|██████████| 1/1 [00:00<00:00, 12.22it/s]\n"
     ]
    }
   ],
   "source": [
    "for species in tqdm(all_species):\n",
    "    produce_full_sequence_and_intergenic_region_fasta(refseq_dir, species, False)\n",
    "    make_blast_sequence_db(species)\n",
    "    run_self_blast(refseq_dir, species)"
   ]
  },
  {
   "cell_type": "markdown",
   "id": "c713c27f-d3f6-449f-992d-51c5364ae731",
   "metadata": {},
   "source": [
    "#####  Do hits to tb and bovis against tb regions - request 2"
   ]
  },
  {
   "cell_type": "code",
   "execution_count": 110,
   "id": "a988e54b-8bef-49bd-9269-bb0337ee8d6e",
   "metadata": {},
   "outputs": [
    {
     "name": "stderr",
     "output_type": "stream",
     "text": [
      "100%|██████████| 2216/2216 [00:00<00:00, 81963.49it/s]\n",
      "100%|██████████| 2/2 [00:00<00:00, 10.68it/s]\n"
     ]
    }
   ],
   "source": [
    "tb_and_bovis_species = ['GCF_000195955.2','LT708304.1']\n",
    "tb_species = 'GCF_000195955.2'\n",
    "\n",
    "produce_full_sequence_and_intergenic_region_fasta(refseq_dir, tb_species, True, tb_and_bovis_species)\n",
    "make_blast_sequence_db(tb_species)\n",
    "run_self_blast(refseq_dir, tb_species)"
   ]
  },
  {
   "cell_type": "code",
   "execution_count": 112,
   "id": "ecaaf84a-bd65-44fc-bdad-4839d95698e9",
   "metadata": {},
   "outputs": [],
   "source": [
    "for record in SeqIO.parse(refseq_dir + '/' + reference_species +'/genomic.gbff', \"genbank\"):\n",
    "    full_sequence = str(record.seq)"
   ]
  },
  {
   "cell_type": "code",
   "execution_count": 113,
   "id": "38e6cf1e-6bb5-408e-b89b-e0a4c8859817",
   "metadata": {},
   "outputs": [
    {
     "data": {
      "text/plain": [
       "'CTGACACCTCCCAATACGCATGACCGCTCTGTCATGCCGACCCGGGGAACGTCACCAGCAAAAATCGGCAGTAAGAAGCATCCCATTTCCAGCGACAACACCTGGGGGGTTTTGGTCAAACTCTGGTAAGCGACTTCGTGTACCGGGTGAACCCGGTGTGTCTTGAAGGACAGCCCGCAGGCTGATGCTGGGGGATCTGGGCCGGCCGACCATGGCTGGCCGGCTGTTGGTCTGATGGCCGGTTCGCGG'"
      ]
     },
     "execution_count": 113,
     "metadata": {},
     "output_type": "execute_result"
    }
   ],
   "source": [
    "full_sequence[336310:336559]"
   ]
  },
  {
   "cell_type": "code",
   "execution_count": 35,
   "id": "5d336224-a437-4f02-bd69-19703433eee3",
   "metadata": {},
   "outputs": [
    {
     "name": "stdout",
     "output_type": "stream",
     "text": [
      "GCF_000195955.2 Mycobacterium tuberculosis H37Rv\n",
      "GCF_013349145.1 Mycolicibacterium smegmatis\n",
      "GCF_016745295.1 Mycobacterium marinum\n",
      "LT708304.1 Mycobacterium tuberculosis variant bovis AF2122/97\n"
     ]
    }
   ],
   "source": [
    "annotated_regions_dict = {}\n",
    "for species in (all_species):\n",
    "    for record in SeqIO.parse(refseq_dir + '/'+species+'/genomic.gbff', \"genbank\"):\n",
    "         organism = record.annotations['organism']\n",
    "    print(species, organism)"
   ]
  },
  {
   "cell_type": "code",
   "execution_count": null,
   "id": "2d6e3ceb-4290-4c28-935c-8e4d3df6b91c",
   "metadata": {},
   "outputs": [],
   "source": []
  }
 ],
 "metadata": {
  "kernelspec": {
   "display_name": "Python 3 (ipykernel)",
   "language": "python",
   "name": "python3"
  },
  "language_info": {
   "codemirror_mode": {
    "name": "ipython",
    "version": 3
   },
   "file_extension": ".py",
   "mimetype": "text/x-python",
   "name": "python",
   "nbconvert_exporter": "python",
   "pygments_lexer": "ipython3",
   "version": "3.11.7"
  }
 },
 "nbformat": 4,
 "nbformat_minor": 5
}
