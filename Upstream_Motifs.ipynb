{
 "cells": [
  {
   "cell_type": "code",
   "execution_count": 2,
   "id": "0cb2f38a-3c12-4916-8913-b1644afe105e",
   "metadata": {},
   "outputs": [],
   "source": [
    "import pandas as pd\n",
    "pd.options.mode.chained_assignment = None  \n",
    "import pickle\n",
    "import seaborn as sns\n",
    "import matplotlib.pyplot as plt\n",
    "import numpy as np\n",
    "from Bio import Entrez, SeqIO, AlignIO, pairwise2, Align, Seq, motifs\n",
    "from Bio.Seq import Seq\n",
    "from Bio.SeqFeature import SeqFeature, FeatureLocation\n",
    "from scipy.stats import binom\n",
    "import math\n",
    "import time\n",
    "from tqdm.auto import tqdm\n",
    "import random\n",
    "import copy\n",
    "from joblib import Parallel, delayed\n",
    "import os\n",
    "import shutil\n",
    "import subprocess\n",
    "from Bio.Blast import NCBIWWW, NCBIXML\n",
    "from Bio.Align.Applications import MuscleCommandline\n",
    "import re\n",
    "import shutil\n",
    "from Comparative_Analysis import Sequence_Analysis_Routines as sar\n",
    "from Comparative_Analysis import Utilities as util\n",
    "from Comparative_Analysis import Alignment as align\n",
    "from Comparative_Analysis import Blast_Functions as blastfn\n",
    "from scipy.stats import chi2\n",
    "from IPython import display\n",
    "\n",
    "num_cores = 16\n",
    "core_numbers = list(range(1, num_cores+1))\n",
    "project_dir = 'F:/Project_Data/Mites_Project_2024'\n",
    "output_dir = project_dir + '/Output'\n",
    "seq_dir = 'F:/Datasets/Actinobacteria_Ref_Rep_Lev_Complete'\n",
    "tb_species = 'NC_000962.3' \n",
    "tb_genome_filename = 'GCF_000195955.2_ASM19595v2_genomic.gbff'\n"
   ]
  },
  {
   "cell_type": "code",
   "execution_count": 3,
   "id": "c54006ed-6479-49a8-9e50-546d25dd8b4a",
   "metadata": {},
   "outputs": [],
   "source": [
    "def reverse_complement(seq_string):\n",
    "    complement_dict = {'A':'T','C':'G','G':'C','T':'A'}\n",
    "    temp = []\n",
    "    for char in reversed(seq_string):\n",
    "        if char in complement_dict:\n",
    "            temp.append(complement_dict[char])\n",
    "        else:\n",
    "            return('')\n",
    "    return ''.join(temp)"
   ]
  },
  {
   "cell_type": "code",
   "execution_count": 12,
   "id": "0094af3e-f50e-4641-809f-641cd3045754",
   "metadata": {},
   "outputs": [
    {
     "name": "stderr",
     "output_type": "stream",
     "text": [
      "100%|██████████| 2429/2429 [00:00<00:00, 77884.28it/s]\n"
     ]
    }
   ],
   "source": [
    "regions_considered = []\n",
    "temp =[]\n",
    "for record in SeqIO.parse(seq_dir + '/' + tb_genome_filename, \"genbank\"):\n",
    "    full_sequence = str(record.seq)\n",
    "    features = []\n",
    "    for feature in record.features:\n",
    "        a = feature.qualifiers\n",
    "        features.append([' ', int(feature.location.start), int(feature.location.end), int(feature.location.strand)])\n",
    "    features.sort(key=lambda x: x[1])\n",
    "\n",
    "    for i, feature in enumerate(features):\n",
    "        exception = 1\n",
    "        if feature[1] < feature[2]:  \n",
    "            if feature[3] == 1:\n",
    "                if i > 0 and feature[1] > features[i-1][2]:\n",
    "                    exception = 0\n",
    "                    utr_coords = (features[i-1][2], feature[1])\n",
    "                    utr_sequence = full_sequence[features[i-1][2]: feature[1]]\n",
    "                    utr_length = len(utr_sequence)\n",
    "            else:\n",
    "                if i + 1 < len(features) and feature[2] < features[i+1][1]:\n",
    "                    exception = 0\n",
    "                    utr_coords = (feature[2], features[i+1][1])\n",
    "                    utr_sequence =  reverse_complement(full_sequence[feature[2]: features[i+1][1]])\n",
    "                    utr_length = len(utr_sequence)\n",
    "        if exception == 1:\n",
    "            utr_coords = (0,0)\n",
    "            utr_sequence = ''\n",
    "            utr_length = 0 \n",
    "        if utr_length < 7:\n",
    "            continue\n",
    "        else:\n",
    "            if utr_coords in regions_considered:\n",
    "                continue\n",
    "            else:\n",
    "                temp.append([str(utr_coords[0])+'-'+str(utr_coords[1]), utr_sequence])\n",
    "                regions_considered.append(utr_coords)\n",
    "util.produce_fasta_file(temp, output_dir + '/' + 'upstream_sections.faa')"
   ]
  },
  {
   "cell_type": "code",
   "execution_count": 7,
   "id": "4650b780-fd46-4001-9df9-fd6d1d2ca197",
   "metadata": {},
   "outputs": [],
   "source": [
    "min_width = 5\n",
    "min_sites = 5"
   ]
  },
  {
   "cell_type": "code",
   "execution_count": 11,
   "id": "2745ebb4-2566-48f6-8322-ff131ded9ed9",
   "metadata": {},
   "outputs": [
    {
     "data": {
      "text/plain": [
       "CompletedProcess(args='wsl export PATH=$HOME/meme/bin:$HOME/meme/libexec/meme-5.4.1:usr/bin:$PATH ; meme \"/mnt/f/Project_Data/Mites_Project_2024/Output/upstream_sections.faa\" -oc \"/mnt/f/Project_Data/Mites_Project_2024/Output/upstream_result\" -dna -evt 0.01 -mod zoops -brief 4000 -minw 5 -maxw 200 -minsites 5', returncode=0)"
      ]
     },
     "execution_count": 11,
     "metadata": {},
     "output_type": "execute_result"
    }
   ],
   "source": [
    "subprocess.run('wsl export PATH=$HOME/meme/bin:$HOME/meme/libexec/meme-5.4.1:usr/bin:$PATH ; meme \\\"/mnt/f/Project_Data/Mites_Project_2024/Output/upstream_sections.faa\" -oc \\\"/mnt/f/Project_Data/Mites_Project_2024/Output/upstream_result\" -dna -evt 0.01 -mod zoops -brief 4000 -minw ' + str(min_width) +' -maxw 200 -minsites ' + str(min_sites) , shell=True)\n",
    "      "
   ]
  },
  {
   "cell_type": "code",
   "execution_count": 9,
   "id": "7b0a3e14-0cb3-43f4-b81f-b181794f9664",
   "metadata": {},
   "outputs": [
    {
     "data": {
      "text/plain": [
       "2429"
      ]
     },
     "execution_count": 9,
     "metadata": {},
     "output_type": "execute_result"
    }
   ],
   "source": [
    "len(temp)"
   ]
  },
  {
   "cell_type": "code",
   "execution_count": 49,
   "id": "4667ffe7-062f-4b1c-b6b3-8ad557522630",
   "metadata": {},
   "outputs": [
    {
     "data": {
      "text/plain": [
       "CompletedProcess(args='wsl export PATH=$HOME/meme/bin:$HOME/meme/libexec/meme-5.4.1:usr/bin:$PATH ; streme --p \"/mnt/d/Project_Data/Project_9/Output/upstream_sections.faa\" -oc \"/mnt/d/Project_Data/Project_9/Output/upstream_result\" -dna -evalue 0.01 -minw 5', returncode=0)"
      ]
     },
     "execution_count": 49,
     "metadata": {},
     "output_type": "execute_result"
    }
   ],
   "source": [
    "subprocess.run('wsl export PATH=$HOME/meme/bin:$HOME/meme/libexec/meme-5.4.1:usr/bin:$PATH ; streme --p \"/mnt/f/Project_Data/Project_9/Output/upstream_sections.faa\" -oc \\\"/mnt/d/Project_Data/Project_9/Output/upstream_result\" -dna -evalue 0.01 -minw ' + str(min_width)  , shell=True)\n"
   ]
  },
  {
   "cell_type": "code",
   "execution_count": 55,
   "id": "4568cd86-3f67-4c7b-a4dd-32331c1d8a01",
   "metadata": {},
   "outputs": [
    {
     "name": "stderr",
     "output_type": "stream",
     "text": [
      "100%|██████████| 1/1 [00:00<00:00, 973.38it/s]\n"
     ]
    }
   ],
   "source": [
    "temp =[]\n",
    "for record in SeqIO.parse(seq_dir + '/' + tb_genome_filename, \"genbank\"):\n",
    "    full_sequence = str(record.seq)[0:50000]\n",
    "    temp.append(['NU_00001', full_sequence])\n",
    "util.produce_fasta_file(temp, output_dir + '/' + 'nu_00001.fasta')"
   ]
  },
  {
   "cell_type": "code",
   "execution_count": null,
   "id": "f1fc1853-dd25-4075-8e00-669fbf110aee",
   "metadata": {},
   "outputs": [],
   "source": []
  }
 ],
 "metadata": {
  "kernelspec": {
   "display_name": "Python 3 (ipykernel)",
   "language": "python",
   "name": "python3"
  },
  "language_info": {
   "codemirror_mode": {
    "name": "ipython",
    "version": 3
   },
   "file_extension": ".py",
   "mimetype": "text/x-python",
   "name": "python",
   "nbconvert_exporter": "python",
   "pygments_lexer": "ipython3",
   "version": "3.11.7"
  }
 },
 "nbformat": 4,
 "nbformat_minor": 5
}
