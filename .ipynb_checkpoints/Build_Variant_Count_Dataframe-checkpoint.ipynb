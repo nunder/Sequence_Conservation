{
 "cells": [
  {
   "cell_type": "code",
   "execution_count": 1,
   "id": "fa73b6a7-5641-4156-a78b-053aa273935b",
   "metadata": {},
   "outputs": [],
   "source": [
    "import pandas as pd\n",
    "import pickle\n",
    "import seaborn as sns\n",
    "import matplotlib.pyplot as plt\n",
    "import numpy as np\n",
    "from scipy.fft import fft, fftfreq\n",
    "from Bio import Entrez, SeqIO, AlignIO, pairwise2, Align, Seq, motifs\n",
    "from Bio.Seq import Seq\n",
    "from Bio.SeqFeature import SeqFeature, FeatureLocation\n",
    "from scipy.stats import binom\n",
    "import math\n",
    "import random\n",
    "from tqdm.auto import tqdm\n",
    "import operator"
   ]
  },
  {
   "cell_type": "code",
   "execution_count": 2,
   "id": "940a56d8-c958-4666-9ed7-5f25af99be61",
   "metadata": {},
   "outputs": [],
   "source": [
    "cryptic_output_path = \"D:/Project_Data/CRYPTIC_DATA/Cryptic_Data_Analysis\"\n",
    "cryptic_input_path = \"D:/Project_Data/CRYPTIC_DATA/\""
   ]
  },
  {
   "cell_type": "code",
   "execution_count": null,
   "id": "29f495c2-7755-4b49-b6cf-c57be3fbb499",
   "metadata": {},
   "outputs": [],
   "source": [
    "genome_info = pd.read_csv(cryptic_input_path + 'genomes.csv')[['UNIQUEID','MYKROBE_LINEAGE_NAME_1', 'MYKROBE_LINEAGE_NAME_2']]\n",
    "genome_info.fillna('Missing', inplace=True)\n",
    "genome_counts = (genome_info.groupby(['MYKROBE_LINEAGE_NAME_2'])[['UNIQUEID']].count()).reset_index()\n",
    "genome_counts_dict = dict(zip(genome_counts.MYKROBE_LINEAGE_NAME_2, genome_counts.UNIQUEID))\n",
    "genome_info_dict = {}\n",
    "for i, r in genome_info.iterrows():\n",
    "    genome_info_dict[r['UNIQUEID']] = r['MYKROBE_LINEAGE_NAME_2']"
   ]
  },
  {
   "cell_type": "code",
   "execution_count": 28,
   "id": "52d2dc1c-634c-4569-9490-464e5bcece2f",
   "metadata": {},
   "outputs": [
    {
     "data": {
      "application/vnd.jupyter.widget-view+json": {
       "model_id": "fbeab32d0ab24062b878afdd59000c5d",
       "version_major": 2,
       "version_minor": 0
      },
      "text/plain": [
       "0it [00:00, ?it/s]"
      ]
     },
     "metadata": {},
     "output_type": "display_data"
    },
    {
     "name": "stderr",
     "output_type": "stream",
     "text": [
      "C:\\Users\\nicho\\Anaconda3\\envs\\Bioinformatics\\lib\\site-packages\\tqdm\\std.py:1195: DtypeWarning: Columns (28) have mixed types. Specify dtype option on import or set low_memory=False.\n",
      "  for obj in iterable:\n",
      "C:\\Users\\nicho\\Anaconda3\\envs\\Bioinformatics\\lib\\site-packages\\tqdm\\std.py:1195: DtypeWarning: Columns (28) have mixed types. Specify dtype option on import or set low_memory=False.\n",
      "  for obj in iterable:\n",
      "C:\\Users\\nicho\\Anaconda3\\envs\\Bioinformatics\\lib\\site-packages\\tqdm\\std.py:1195: DtypeWarning: Columns (28) have mixed types. Specify dtype option on import or set low_memory=False.\n",
      "  for obj in iterable:\n"
     ]
    }
   ],
   "source": [
    "chunksize = 0.5 * (10 ** 7) \n",
    "with pd.read_csv(cryptic_input_path + \"VARIANTS.csv\", chunksize=chunksize) as reader:\n",
    "    chunknum = 0\n",
    "    for chunk in tqdm(reader):\n",
    "        variants_sample_df = chunk[['UNIQUEID', 'MUTATION_TYPE', 'GENOME_INDEX', 'ALT']]\n",
    "        variants_sample_df = variants_sample_df[variants_sample_df['MUTATION_TYPE'] == 'SNP']\n",
    "        variants_sample_df['MYKROBE_LINEAGE_NAME_2'] = variants_sample_df['UNIQUEID'].map(genome_info_dict);\n",
    "        temp = variants_sample_df.groupby(['GENOME_INDEX', 'MYKROBE_LINEAGE_NAME_2','ALT'])[['UNIQUEID']].count()\n",
    "        temp = temp.reset_index()\n",
    "        if chunknum == 0:\n",
    "            variant_summary_df = temp\n",
    "        else:\n",
    "            variant_summary_df = pd.concat([variant_summary_df, temp])\n",
    "        chunknum += 1\n",
    "\n",
    "temp = variant_summary_df.groupby(['GENOME_INDEX', 'MYKROBE_LINEAGE_NAME_2','ALT'])[['UNIQUEID']].sum()\n",
    "variant_summary_df = temp.reset_index()        \n",
    "variant_summary_df['LINEAGE_COUNT'] = variant_summary_df['MYKROBE_LINEAGE_NAME_2'].map(genome_counts_dict)\n",
    "variant_summary_df.rename(columns = {'UNIQUEID':'MUTATION_COUNT'}, inplace = True)\n",
    "variant_summary_df.to_csv(cryptic_output_path + '/variant_summary_df.csv')"
   ]
  },
  {
   "cell_type": "code",
   "execution_count": 39,
   "id": "0658561c-499a-46e4-b338-c40a0adccf73",
   "metadata": {},
   "outputs": [],
   "source": [
    "filter_list = ['Unknown','Missing']\n",
    "filtered_variant_summary_df = variant_summary_df.query('not(MYKROBE_LINEAGE_NAME_2 == @filter_list) &  LINEAGE_COUNT > 200')\n",
    "filtered_variant_summary_df['MUTATION_PCT'] = filtered_variant_summary_df['MUTATION_COUNT'] / filtered_variant_summary_df['LINEAGE_COUNT']\n",
    "filtered_variant_summary_df.to_csv(cryptic_output_path + '/filtered_variant_summary_df.csv')"
   ]
  },
  {
   "cell_type": "code",
   "execution_count": 40,
   "id": "f52fca7a-c773-4ce2-b6ed-15035e0b3ac8",
   "metadata": {},
   "outputs": [
    {
     "data": {
      "text/html": [
       "<div>\n",
       "<style scoped>\n",
       "    .dataframe tbody tr th:only-of-type {\n",
       "        vertical-align: middle;\n",
       "    }\n",
       "\n",
       "    .dataframe tbody tr th {\n",
       "        vertical-align: top;\n",
       "    }\n",
       "\n",
       "    .dataframe thead th {\n",
       "        text-align: right;\n",
       "    }\n",
       "</style>\n",
       "<table border=\"1\" class=\"dataframe\">\n",
       "  <thead>\n",
       "    <tr style=\"text-align: right;\">\n",
       "      <th></th>\n",
       "      <th>GENOME_INDEX</th>\n",
       "      <th>MYKROBE_LINEAGE_NAME_2</th>\n",
       "      <th>ALT</th>\n",
       "      <th>MUTATION_COUNT</th>\n",
       "      <th>LINEAGE_COUNT</th>\n",
       "    </tr>\n",
       "  </thead>\n",
       "  <tbody>\n",
       "    <tr>\n",
       "      <th>1253044</th>\n",
       "      <td>1093322</td>\n",
       "      <td>lineage4</td>\n",
       "      <td>t</td>\n",
       "      <td>12</td>\n",
       "      <td>342</td>\n",
       "    </tr>\n",
       "    <tr>\n",
       "      <th>1253055</th>\n",
       "      <td>1093322</td>\n",
       "      <td>lineage4.3.1</td>\n",
       "      <td>t</td>\n",
       "      <td>281</td>\n",
       "      <td>281</td>\n",
       "    </tr>\n",
       "    <tr>\n",
       "      <th>1253056</th>\n",
       "      <td>1093322</td>\n",
       "      <td>lineage4.3.2</td>\n",
       "      <td>t</td>\n",
       "      <td>801</td>\n",
       "      <td>807</td>\n",
       "    </tr>\n",
       "    <tr>\n",
       "      <th>1253057</th>\n",
       "      <td>1093322</td>\n",
       "      <td>lineage4.3.2.1</td>\n",
       "      <td>t</td>\n",
       "      <td>1772</td>\n",
       "      <td>1783</td>\n",
       "    </tr>\n",
       "    <tr>\n",
       "      <th>1253062</th>\n",
       "      <td>1093322</td>\n",
       "      <td>lineage4.3.3</td>\n",
       "      <td>t</td>\n",
       "      <td>3295</td>\n",
       "      <td>3319</td>\n",
       "    </tr>\n",
       "    <tr>\n",
       "      <th>1253066</th>\n",
       "      <td>1093322</td>\n",
       "      <td>lineage4.3.4.1</td>\n",
       "      <td>t</td>\n",
       "      <td>635</td>\n",
       "      <td>637</td>\n",
       "    </tr>\n",
       "    <tr>\n",
       "      <th>1253069</th>\n",
       "      <td>1093322</td>\n",
       "      <td>lineage4.3.4.2</td>\n",
       "      <td>t</td>\n",
       "      <td>1046</td>\n",
       "      <td>1053</td>\n",
       "    </tr>\n",
       "    <tr>\n",
       "      <th>1253070</th>\n",
       "      <td>1093322</td>\n",
       "      <td>lineage4.3.4.2.1</td>\n",
       "      <td>t</td>\n",
       "      <td>1515</td>\n",
       "      <td>1534</td>\n",
       "    </tr>\n",
       "  </tbody>\n",
       "</table>\n",
       "</div>"
      ],
      "text/plain": [
       "         GENOME_INDEX MYKROBE_LINEAGE_NAME_2 ALT  MUTATION_COUNT  \\\n",
       "1253044       1093322               lineage4   t              12   \n",
       "1253055       1093322           lineage4.3.1   t             281   \n",
       "1253056       1093322           lineage4.3.2   t             801   \n",
       "1253057       1093322         lineage4.3.2.1   t            1772   \n",
       "1253062       1093322           lineage4.3.3   t            3295   \n",
       "1253066       1093322         lineage4.3.4.1   t             635   \n",
       "1253069       1093322         lineage4.3.4.2   t            1046   \n",
       "1253070       1093322       lineage4.3.4.2.1   t            1515   \n",
       "\n",
       "         LINEAGE_COUNT  \n",
       "1253044            342  \n",
       "1253055            281  \n",
       "1253056            807  \n",
       "1253057           1783  \n",
       "1253062           3319  \n",
       "1253066            637  \n",
       "1253069           1053  \n",
       "1253070           1534  "
      ]
     },
     "execution_count": 40,
     "metadata": {},
     "output_type": "execute_result"
    }
   ],
   "source": [
    "filtered_variant_summary_df[filtered_variant_summary_df['GENOME_INDEX'] == 1093322]"
   ]
  },
  {
   "cell_type": "code",
   "execution_count": null,
   "id": "3fd2c3bc-a606-40ed-8b00-f0c9b58d073c",
   "metadata": {},
   "outputs": [],
   "source": [
    "genome_info[genome_info['UNIQUEID']=='site.24.subj.PT-600.lab.2017-438.iso.1']"
   ]
  },
  {
   "cell_type": "code",
   "execution_count": 9,
   "id": "e0643c9c-6490-4769-9c98-2a0bdadedbd4",
   "metadata": {},
   "outputs": [
    {
     "data": {
      "text/plain": [
       "8419"
      ]
     },
     "execution_count": 9,
     "metadata": {},
     "output_type": "execute_result"
    }
   ],
   "source": [
    "genome_counts_dict['Missing']"
   ]
  },
  {
   "cell_type": "code",
   "execution_count": null,
   "id": "226bde36-35e3-4e9a-84dc-aacac88f0f73",
   "metadata": {},
   "outputs": [],
   "source": []
  }
 ],
 "metadata": {
  "kernelspec": {
   "display_name": "Python 3 (ipykernel)",
   "language": "python",
   "name": "python3"
  },
  "language_info": {
   "codemirror_mode": {
    "name": "ipython",
    "version": 3
   },
   "file_extension": ".py",
   "mimetype": "text/x-python",
   "name": "python",
   "nbconvert_exporter": "python",
   "pygments_lexer": "ipython3",
   "version": "3.9.7"
  }
 },
 "nbformat": 4,
 "nbformat_minor": 5
}
