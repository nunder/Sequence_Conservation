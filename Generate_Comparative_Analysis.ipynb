{
 "cells": [
  {
   "cell_type": "markdown",
   "id": "50da8fa4-e4d1-4e99-9df9-f2593cc0c057",
   "metadata": {},
   "source": [
    "##### Import modules and set up file locations"
   ]
  },
  {
   "cell_type": "code",
   "execution_count": 1,
   "id": "c9417e01-aa2a-4297-8948-c0c526434b04",
   "metadata": {},
   "outputs": [],
   "source": [
    "full_run = True"
   ]
  },
  {
   "cell_type": "code",
   "execution_count": 2,
   "id": "694b2495-3118-4d6a-9934-5f46d80dfa5c",
   "metadata": {},
   "outputs": [
    {
     "name": "stderr",
     "output_type": "stream",
     "text": [
      "C:\\Users\\nicho\\Anaconda3\\envs\\Bioinformatics\\lib\\site-packages\\ete3-3.1.2-py3.7.egg\\ete3\\evol\\parser\\codemlparser.py:221: SyntaxWarning: \"is\" with a literal. Did you mean \"==\"?\n",
      "C:\\Users\\nicho\\Anaconda3\\envs\\Bioinformatics\\lib\\site-packages\\ete3-3.1.2-py3.7.egg\\ete3\\evol\\parser\\codemlparser.py:221: SyntaxWarning: \"is\" with a literal. Did you mean \"==\"?\n"
     ]
    }
   ],
   "source": [
    "from Comparative_Analysis import Sequence_Analysis_Routines as sar\n",
    "from Comparative_Analysis import HMM as hmm\n",
    "from Comparative_Analysis import Utilities as util\n",
    "from Comparative_Analysis import Alignment_HMM as alignment_hmm\n",
    "from Comparative_Analysis import Alignment_Analysis as alignment_analysis\n",
    "from Comparative_Analysis import Alignment as align\n",
    "from Comparative_Analysis import Master_Alignment_HMM as master_alignment_hmm\n",
    "from Comparative_Analysis import Multi_Species_Master_Alignment_HMM as multi_species_master_alignment_hmm\n",
    "from Comparative_Analysis import Arneson_Ernst_HMM as ae_hmm\n",
    "import random\n",
    "from joblib import Parallel, delayed\n",
    "from scipy import optimize as opt\n",
    "from tqdm import tqdm\n",
    "import matplotlib.pyplot as plt\n",
    "import logomaker as lm\n",
    "import math\n",
    "import pandas as pd\n",
    "import subprocess\n",
    "import numpy as np\n",
    "import ete3;\n",
    "import pickle\n",
    "import copy\n",
    "import seaborn as sns"
   ]
  },
  {
   "cell_type": "code",
   "execution_count": 3,
   "id": "773a1d9c-8b02-447d-8b4c-41e9d5d24f83",
   "metadata": {},
   "outputs": [],
   "source": [
    "project_dir = 'D:/Project_Data/Project_6'\n",
    "genome_datasets_dir = project_dir + '/Datasets/NCBI_Datasets'\n",
    "literature_datasets_dir = project_dir + '/Datasets/Data_From_Publications'\n",
    "output_dir = project_dir + '/Output'\n",
    "protein_fasta_output_loc = output_dir + '/Protein_Sequences'\n",
    "outgroup_protein_fasta_output_loc = output_dir + '/Protein_Sequences_With_Outgroup'\n",
    "sonic_paranoid_run_name = 'Run_Without_Outgroup'\n",
    "outgroup_sonic_paranoid_run_name = 'Run_With_Outgroup'\n",
    "sonic_paranoid_output_loc = output_dir + '/Sonic_Paranoid_Output'\n",
    "ortholog_dir = sonic_paranoid_output_loc + '/runs/' + sonic_paranoid_run_name + '/ortholog_groups'\n",
    "outgroup_ortholog_dir = sonic_paranoid_output_loc + '/runs/' + outgroup_sonic_paranoid_run_name + '/ortholog_groups'\n",
    "non_cds_output_dir = output_dir + '/Multiple_Alignment_Data/Downstream_Non_CDS'\n",
    "upstream_non_cds_output_dir = output_dir + '/Multiple_Alignment_Data/Upstream_Non_CDS'\n",
    "cds_output_dir = output_dir + '/Multiple_Alignment_Data/CDS'\n",
    "extended_cds_output_dir = output_dir + '/Multiple_Alignment_Data/Extended_CDS'\n",
    "extended_non_cds_regions_output_dir = output_dir + '/Multiple_Alignment_Data/Extended_Non_CDS'\n",
    "outgroup_cds_output_dir = output_dir + '/Multiple_Alignment_Data/CDS_With_Outgroup'\n",
    "outgroup_concatenated_cds_output_dir = output_dir + '/Multiple_Alignment_Data/CDS_With_Outgroup_Concatenated'\n",
    "hmm_parameters_output_dir = output_dir +'/HMM_Model_Parameters'\n",
    "conservation_analysis_output_dir = output_dir + '/Conservation_Analysis'"
   ]
  },
  {
   "cell_type": "code",
   "execution_count": 4,
   "id": "56139988-efa1-4bb1-9cd3-4cdd90020453",
   "metadata": {},
   "outputs": [],
   "source": [
    "num_cores = 16\n",
    "core_numbers = list(range(1, num_cores+1))\n",
    "tb_species = 'GCF_000195955.2'\n",
    "outgroup_species = 'GCF_000696675.2'\n",
    "non_cds_offset = 50"
   ]
  },
  {
   "cell_type": "markdown",
   "id": "cf829bb3-e529-4170-ad7b-9d885d57f851",
   "metadata": {},
   "source": [
    "##### Determine genomes in ortholog family, generate protein files and run Sonic Paranoid (both with and without outgroup - outgroup needed for tree building)"
   ]
  },
  {
   "cell_type": "code",
   "execution_count": 5,
   "id": "df7a7627-bb45-4679-97ef-ed8f209447fb",
   "metadata": {},
   "outputs": [],
   "source": [
    "genome_ids_with_outgroup = util.list_dirs(genome_datasets_dir)\n",
    "genome_ids = util.list_dirs(genome_datasets_dir)\n",
    "genome_ids.remove(outgroup_species)\n",
    "non_target_genome_ids = util.list_dirs(genome_datasets_dir)\n",
    "non_target_genome_ids.remove(outgroup_species)\n",
    "non_target_genome_ids.remove(tb_species)\n",
    "num_ids = len(genome_ids)\n",
    "num_ids_with_outgroup = len(genome_ids_with_outgroup)"
   ]
  },
  {
   "cell_type": "code",
   "execution_count": null,
   "id": "2be93725-4667-49ca-b2bc-430c0c7e9eae",
   "metadata": {},
   "outputs": [],
   "source": [
    "if full_run == True:\n",
    "    for folder in sar.tqdm(genome_ids):\n",
    "        sar.generate_protein_file(genome_datasets_dir + '/' + folder + '/genomic.gbff', protein_fasta_output_loc + '/' + folder + '.faa')\n",
    "    for folder in sar.tqdm(genome_ids_with_outgroup):\n",
    "        sar.generate_protein_file(genome_datasets_dir + '/' + folder + '/genomic.gbff', outgroup_protein_fasta_output_loc + '/' + folder + '.faa')"
   ]
  },
  {
   "cell_type": "code",
   "execution_count": null,
   "id": "f828d159-34d6-4f7e-878c-e31b598573a8",
   "metadata": {},
   "outputs": [],
   "source": [
    "if full_run == True:\n",
    "    sar.run_sonic_paranoid(protein_fasta_output_loc, sonic_paranoid_output_loc, sonic_paranoid_run_name)\n",
    "    sar.run_sonic_paranoid(outgroup_protein_fasta_output_loc, sonic_paranoid_output_loc, outgroup_sonic_paranoid_run_name)"
   ]
  },
  {
   "cell_type": "markdown",
   "id": "39369771-8cd9-4438-89a5-d426702ac448",
   "metadata": {},
   "source": [
    "##### Generate objects containing orthologs and sequence information for each ortholog group / species"
   ]
  },
  {
   "cell_type": "code",
   "execution_count": 6,
   "id": "051a50d7-e6dc-42a7-9675-e58d8ae157b6",
   "metadata": {},
   "outputs": [
    {
     "name": "stderr",
     "output_type": "stream",
     "text": [
      "100%|██████████| 75075/75075 [00:03<00:00, 23476.26it/s]\n",
      "100%|██████████| 84312/84312 [00:03<00:00, 23814.60it/s]\n"
     ]
    }
   ],
   "source": [
    "orthologs = sar.Ortholog_Grouping(ortholog_dir)\n",
    "outgroup_orthologs = sar.Ortholog_Grouping(outgroup_ortholog_dir)"
   ]
  },
  {
   "cell_type": "code",
   "execution_count": 7,
   "id": "5e9977fb-f334-4f33-a820-535d87f4105a",
   "metadata": {},
   "outputs": [
    {
     "name": "stderr",
     "output_type": "stream",
     "text": [
      "100%|██████████| 16/16 [00:00<00:00, 166.61it/s]\n",
      "100%|██████████| 16/16 [00:00<?, ?it/s]\n",
      "100%|██████████| 16/16 [00:00<?, ?it/s]\n"
     ]
    }
   ],
   "source": [
    "seq_data = sar.Ortholog_Sequence_Dataset(orthologs, genome_datasets_dir, genome_ids, non_cds_offset, tb_species) \n",
    "outgroup_seq_data = sar.Ortholog_Sequence_Dataset(outgroup_orthologs, genome_datasets_dir, genome_ids_with_outgroup, non_cds_offset, tb_species) \n",
    "all_copy_seq_data = sar.Ortholog_Sequence_Dataset(orthologs, genome_datasets_dir, genome_ids, non_cds_offset, tb_species, single_copy = False) \n",
    "#print(outgroup_seq_data.species_info())"
   ]
  },
  {
   "cell_type": "code",
   "execution_count": null,
   "id": "2e6d5c8c-fdd4-459f-ad82-b74bb46e0ce7",
   "metadata": {},
   "outputs": [],
   "source": [
    "#seq_data.generate_synteny_plot()\n",
    "#seq_data.generate_ortholog_count_plot()\n",
    "#all_copy_seq_data.generate_master_count_plot()\n",
    "seq_data.generate_unassigned_gene_count_plot()"
   ]
  },
  {
   "cell_type": "markdown",
   "id": "60e3b630-5c42-499e-8389-5532f4dca58c",
   "metadata": {},
   "source": [
    "##### Perform CDS and extended CDS (including intergenic regions) alignments for each full ortholog group and save to folders"
   ]
  },
  {
   "cell_type": "code",
   "execution_count": null,
   "id": "7cb33f80-a608-425f-bf01-6a0fe7a77226",
   "metadata": {},
   "outputs": [],
   "source": [
    "min_species = num_ids\n",
    "min_species_with_outgroup = num_ids_with_outgroup\n",
    "groups = random.sample(orthologs.full_single_copy_ortholog_groups, len(orthologs.full_single_copy_ortholog_groups))  #Permutation ensures even distribution of processing speeds\n",
    "outgroup_groups = random.sample(outgroup_orthologs.full_single_copy_ortholog_groups, len(outgroup_orthologs.full_single_copy_ortholog_groups))  #Permutation ensures even distribution of processing speeds\n",
    "if full_run == True:\n",
    "    #par = Parallel(n_jobs=-1)(delayed(align.align_and_build)(outgroup_groups, num_cores, core_number, outgroup_seq_data.sequence_data, 'cds_length', 'cds_seq', outgroup_cds_output_dir+'/', min_species_with_outgroup) for core_number in tqdm(core_numbers))\n",
    "    #par = Parallel(n_jobs=-1)(delayed(align.align_and_build)(groups, num_cores, core_number, seq_data.sequence_data, 'cds_length', 'cds_seq', cds_output_dir+'/', min_species) for core_number in tqdm(core_numbers))\n",
    "    #par = Parallel(n_jobs=-1)(delayed(align.align_and_build)(groups, num_cores, core_number, seq_data.sequence_data, 'cds_extended_region_length', 'cds_extended_region_seq', extended_cds_output_dir+'/', min_species) for core_number in tqdm(core_numbers))"
   ]
  },
  {
   "cell_type": "code",
   "execution_count": null,
   "id": "ea0e38ce-4872-4cce-ae48-441f7653e11c",
   "metadata": {},
   "outputs": [],
   "source": [
    "extended_region_ids = util.list_files(extended_cds_output_dir+'/')\n",
    "e_ids = [int(i.split('.')[0]) for i in extended_region_ids]\n",
    "for group_id in tqdm(e_ids):      \n",
    "    align.extract_non_cds_regions_from_alignment(seq_data.sequence_data, tb_species, 1250, extended_cds_output_dir, extended_non_cds_regions_output_dir, group_id, 10)"
   ]
  },
  {
   "cell_type": "markdown",
   "id": "c537a867-2e88-4080-a888-9a4f16fb9e81",
   "metadata": {},
   "source": [
    "##### Run IQTree on concatenated CDS alignments to generate tree and rename with full names"
   ]
  },
  {
   "cell_type": "code",
   "execution_count": null,
   "id": "42928a48-444f-4b46-a8eb-d668dd4565e4",
   "metadata": {},
   "outputs": [],
   "source": [
    "if full_run == True:\n",
    "    alignment_names = util.list_files(outgroup_cds_output_dir)\n",
    "    util.concatenate_fasta(outgroup_cds_output_dir, alignment_names, outgroup_concatenated_cds_output_dir + '/concatenated_cds.fasta')\n",
    "    subprocess.run('cd \\\\users\\\\nicho\\\\IQTree & bin\\\\iqtree2 -s ' + outgroup_concatenated_cds_output_dir + '/concatenated_cds.fasta' + ' --prefix '+ output_dir + \n",
    "                   '/Trees/Concatenated_JC_Tree -m JC -B 1000 -T AUTO -o ' + outgroup_species, shell=True)\n",
    "    master_tree = ete3.Tree(output_dir + '/Trees/Concatenated_JC_Tree.treefile')\n",
    "    for node in master_tree.traverse():\n",
    "        if node.is_leaf():\n",
    "            node.name = outgroup_seq_data.organism_dict[node.name] \n",
    "    master_tree.write(format=0, outfile= output_dir + '/Trees/Concatenated_JC_Tree_Full_Names.treefile')    "
   ]
  },
  {
   "cell_type": "code",
   "execution_count": 14,
   "id": "1a16ea0b-011d-45b8-9716-609647baa411",
   "metadata": {},
   "outputs": [],
   "source": [
    "master_tree = ete3.Tree(output_dir + '/Trees/Concatenated_JC_Tree.treefile')\n",
    "phylogenetic_distance_dict = {}\n",
    "for gid in non_target_genome_ids:\n",
    "    phylogenetic_distance_dict[gid] = master_tree.get_distance(gid, tb_species)"
   ]
  },
  {
   "cell_type": "markdown",
   "id": "40396ae4-b80d-4ebd-ab66-e40e6712c758",
   "metadata": {},
   "source": [
    "##### Fit overall Alignment and Pairwise HMMs using EM"
   ]
  },
  {
   "cell_type": "code",
   "execution_count": 8,
   "id": "4e885b08-1828-4633-9c60-4eeaab22efcb",
   "metadata": {},
   "outputs": [],
   "source": [
    "num_symbols = 4\n",
    "num_states = 3\n",
    "minimum_fit_length = 10\n",
    "initial_params = [0.95, 0.5, 0.95, 0.5, 0.95, 0.5, 0.56370018, 0.52131172, 0.33906948]"
   ]
  },
  {
   "cell_type": "code",
   "execution_count": null,
   "id": "5a0dd043-8444-462b-b3af-0b689425dd87",
   "metadata": {},
   "outputs": [],
   "source": [
    "if full_run == True:\n",
    "    Alignment_HMM_Model = alignment_hmm.Alignment_HMM (num_symbols, num_states, extended_non_cds_regions_output_dir, tb_species, species_order = genome_ids)\n",
    "    parameter_fits = Alignment_HMM_Model.EM_update(num_cores, initial_params, minimum_fit_length)\n",
    "    fitted_parameters = parameter_fits[3]\n",
    "    with open(hmm_parameters_output_dir + '/' + 'full_parameter_fit.pkl', 'wb') as f:\n",
    "        pickle.dump(fitted_parameters, f)"
   ]
  },
  {
   "cell_type": "code",
   "execution_count": null,
   "id": "54b1b4b3-11cc-4e5a-aea4-3d29f0810066",
   "metadata": {},
   "outputs": [],
   "source": [
    "if full_run == True:\n",
    "    parameter_fits = []\n",
    "    for id in non_target_genome_ids:\n",
    "        parameter_fits.append((id, Alignment_HMM_Model.EM_update(num_cores, initial_params, minimum_fit_length, all_species = False, comparison_species = id)[3]))\n",
    "    with open(hmm_parameters_output_dir + '/' + 'pairwise_parameter_fits.pkl', 'wb') as f:\n",
    "        pickle.dump(parameter_fits, f)"
   ]
  },
  {
   "cell_type": "markdown",
   "id": "75965597-303a-442b-9c61-2f2d1420e1b0",
   "metadata": {},
   "source": [
    "##### Fit overall HMM to pairwise HMMs"
   ]
  },
  {
   "cell_type": "code",
   "execution_count": 9,
   "id": "55473b24-e661-4d7f-a9df-e4a485723fda",
   "metadata": {},
   "outputs": [
    {
     "name": "stderr",
     "output_type": "stream",
     "text": [
      "100%|██████████| 3278/3278 [00:01<00:00, 2218.40it/s]\n"
     ]
    }
   ],
   "source": [
    "Alignment_HMM_Model = alignment_hmm.Alignment_HMM (num_symbols, num_states, extended_non_cds_regions_output_dir, tb_species, species_order = genome_ids)\n",
    "def parallel_generate_pairwise_state_probabilities(num_subsets, subset_num, ids, num_states, pairwise_fitted_parameters):\n",
    "    ids = util.chunk_list(ids, num_subsets, subset_num)\n",
    "    pairwise_observation_probabilities = []\n",
    "    for group_id in ids:\n",
    "        temp = []\n",
    "        alignment = align.Alignment(extended_non_cds_regions_output_dir +'/'+str(group_id)+'.fasta', tb_species, 'NT', species_order = genome_ids)\n",
    "        alignment.modify_sequence(1,False,False)\n",
    "        for params in pairwise_fitted_parameters:\n",
    "                transition_probabilities, mutation_probabilities = Alignment_HMM_Model.alignment_hmm_model_inputs(params[1])\n",
    "                observation_probabilities = Alignment_HMM_Model.calculate_observation_probs(mutation_probabilities, alignment.modified_sequence_list, alignment, all_species=False, comparison_species = params[0])\n",
    "                initial_state_probabilities = [1.0/num_states]*num_states\n",
    "                hmm_model = hmm.HMM(initial_state_probabilities, transition_probabilities, observation_probabilities)\n",
    "                hmm_model.calculate_probabilities()\n",
    "                temp.append(hmm_model.state_probabilities)\n",
    "        pairwise_observation_probabilities.append(temp) \n",
    "    return pairwise_observation_probabilities"
   ]
  },
  {
   "cell_type": "code",
   "execution_count": 10,
   "id": "ce5182ac-6442-40fc-9286-c32fcb173955",
   "metadata": {},
   "outputs": [],
   "source": [
    "if full_run == True:\n",
    "    with open(hmm_parameters_output_dir + '/' + 'pairwise_parameter_fits.pkl', 'rb') as f:\n",
    "        pairwise_fitted_parameters = pickle.load(f)\n",
    "    file_ids = util.list_files(extended_non_cds_regions_output_dir + '/')\n",
    "    ids = [(i.split('.')[0]) for i in file_ids] \n",
    "    parallel_output = Parallel(n_jobs=-1)(delayed(parallel_generate_pairwise_state_probabilities)(num_cores, core_number, ids, num_states, pairwise_fitted_parameters) for core_number in core_numbers)\n",
    "    pairwise_observation_probabilities = [item for sublist in parallel_output for item in sublist]\n",
    "    with open(hmm_parameters_output_dir + '/' + 'pairwise_observation_probabilities.pkl', 'wb') as f:\n",
    "        pickle.dump(pairwise_observation_probabilities, f)\n",
    "else:\n",
    "    with open(hmm_parameters_output_dir + '/' + 'pairwise_observation_probabilities.pkl', 'rb') as f:\n",
    "        pairwise_observation_probabilities = pickle.load(f)"
   ]
  },
  {
   "cell_type": "code",
   "execution_count": 11,
   "id": "892c503c-dec6-4473-aa3b-38b41ed2b3fd",
   "metadata": {},
   "outputs": [
    {
     "name": "stderr",
     "output_type": "stream",
     "text": [
      "  1%|          | 3/300 [00:23<38:55,  7.86s/it]"
     ]
    },
    {
     "name": "stdout",
     "output_type": "stream",
     "text": [
      "[0.9917856075299262, 0.9863827638349194, 0.852614670354201, 0.1617610959314932]\n"
     ]
    },
    {
     "name": "stderr",
     "output_type": "stream",
     "text": [
      "\n"
     ]
    }
   ],
   "source": [
    "if full_run == True:\n",
    "    Master_Alignment_HMM_Model = master_alignment_hmm.Master_Alignment_HMM (pairwise_observation_probabilities)\n",
    "    initial_params = [0.8, 0.5, 0.9, 0.3]\n",
    "    parameter_fits = Master_Alignment_HMM_Model.EM_update(num_cores, initial_params, minimum_fit_length)\n",
    "    fitted_parameters = parameter_fits[3]\n",
    "    print(fitted_parameters)\n",
    "    with open(hmm_parameters_output_dir + '/' + 'master_parameter_fit.pkl', 'wb') as f:\n",
    "        pickle.dump(fitted_parameters, f)"
   ]
  },
  {
   "cell_type": "markdown",
   "id": "7c7ee55c-6761-4018-a55e-5f010e7ff587",
   "metadata": {},
   "source": [
    "#####  Fit overall species specific HMM to pairwise HMMs"
   ]
  },
  {
   "cell_type": "code",
   "execution_count": 12,
   "id": "39bbb69f-fcbd-49f9-b352-459ab22e3038",
   "metadata": {},
   "outputs": [
    {
     "name": "stderr",
     "output_type": "stream",
     "text": [
      "  1%|          | 3/300 [00:24<40:24,  8.16s/it]"
     ]
    },
    {
     "name": "stdout",
     "output_type": "stream",
     "text": [
      "[0.9918622797338109, 0.9864344764659135, array([0.92454361, 0.91939287, 0.72958496, 0.88860483, 0.81188917,\n",
      "       0.91664135, 0.92847965, 0.92342257, 0.73593543, 0.74122896]), array([0.22440799, 0.21203329, 0.05817704, 0.15985024, 0.09058775,\n",
      "       0.25858721, 0.25587316, 0.22186976, 0.06398481, 0.06441283])]\n"
     ]
    },
    {
     "name": "stderr",
     "output_type": "stream",
     "text": [
      "\n"
     ]
    }
   ],
   "source": [
    "if full_run == True:\n",
    "    num_comparison_species = len(pairwise_observation_probabilities[0])\n",
    "    Multi_Species_Master_Alignment_HMM_Model = multi_species_master_alignment_hmm.Multi_Species_Master_Alignment_HMM (pairwise_observation_probabilities)\n",
    "    initial_params = [0.8, 0.5, [0.9]*num_comparison_species, [0.3]*num_comparison_species]\n",
    "    parameter_fits = Multi_Species_Master_Alignment_HMM_Model.EM_update(num_cores, initial_params, minimum_fit_length)\n",
    "    #print(parameter_fits)\n",
    "    fitted_parameters = parameter_fits[3]\n",
    "    print(fitted_parameters)\n",
    "    with open(hmm_parameters_output_dir + '/' + 'multi_species_master_parameter_fit.pkl', 'wb') as f:\n",
    "        pickle.dump(fitted_parameters, f)\n",
    "    species_conservation_parameter_dict = {}    # Used to plot against phylogenetic distance below\n",
    "    for i, gid in enumerate(non_target_genome_ids):\n",
    "        species_conservation_parameter_dict[gid] = parameter_fits[1][0][i]\n",
    "    with open(hmm_parameters_output_dir + '/' + 'multi_species_conservation_parameter_dict.pkl', 'wb') as f:\n",
    "        pickle.dump(species_conservation_parameter_dict, f)"
   ]
  },
  {
   "cell_type": "code",
   "execution_count": 15,
   "id": "f27d25ad-5053-4d86-a9d4-c6f8ba51527e",
   "metadata": {},
   "outputs": [
    {
     "data": {
      "image/png": "[encoded data removed]",
      "text/plain": [
       "<Figure size 432x288 with 1 Axes>"
      ]
     },
     "metadata": {
      "needs_background": "light"
     },
     "output_type": "display_data"
    }
   ],
   "source": [
    "with open(hmm_parameters_output_dir + '/' + 'multi_species_conservation_parameter_dict.pkl', 'rb') as f:\n",
    "    species_conservation_parameter_dict = pickle.load(f)\n",
    "species_name_labels = []\n",
    "log_conservation = []\n",
    "phylo_distance = []\n",
    "for gid in non_target_genome_ids:\n",
    "    species_name_labels.append(gid)\n",
    "    log_conservation.append(-1*math.log(species_conservation_parameter_dict[gid]))\n",
    "    phylo_distance.append(phylogenetic_distance_dict[gid])\n",
    "conservations_df = pd.DataFrame(\n",
    "    {'Species': species_name_labels,\n",
    "     '-Log conservation probability': log_conservation,\n",
    "     'Phylogenetic distance': phylo_distance\n",
    "    })\n",
    "ax = sns.scatterplot(data = conservations_df, x = 'Phylogenetic distance', y = '-Log conservation probability', s= 20, hue = 'Species')\n",
    "plt.setp(ax.get_legend().get_texts(), fontsize='6') # for legend text\n",
    "plt.setp(ax.get_legend().get_title(), fontsize='8') # for legend title\n",
    "plt.show()"
   ]
  },
  {
   "cell_type": "markdown",
   "id": "016fb960-7994-4247-9feb-154d3609cb65",
   "metadata": {},
   "source": [
    "#####  Fit Arneson Ernst HMM to alignments"
   ]
  },
  {
   "cell_type": "code",
   "execution_count": 16,
   "id": "01765f1a-dd3f-4c71-a43d-ad67363c5cb2",
   "metadata": {},
   "outputs": [],
   "source": [
    "num_states = 3\n",
    "num_symbols = 4\n",
    "minimum_fit_length = 10\n",
    "initial_mutation_probs = np.random.rand(num_states,num_ids,3)\n",
    "for i in range(num_states):\n",
    "    for j in range(num_ids):\n",
    "        tot = 0\n",
    "        for k in range(3):\n",
    "            tot += initial_mutation_probs[i, j, k]\n",
    "        for k in range(3):\n",
    "            initial_mutation_probs[i, j, k] = initial_mutation_probs[i, j, k] / tot\n",
    "#print(initial_mutation_probs)\n",
    "initial_params = [0.95, 0.5, 0.95, 0.5, 0.95, 0.5, initial_mutation_probs]"
   ]
  },
  {
   "cell_type": "code",
   "execution_count": 17,
   "id": "3f1ba083-9720-4fb3-81a6-49c308b87398",
   "metadata": {},
   "outputs": [
    {
     "name": "stderr",
     "output_type": "stream",
     "text": [
      "100%|██████████| 3278/3278 [00:01<00:00, 2168.60it/s]\n",
      " 16%|█▌        | 47/300 [10:49<58:13, 13.81s/it]  \n"
     ]
    },
    {
     "name": "stdout",
     "output_type": "stream",
     "text": [
      "[[0.98192487 0.01622605 0.00184908]\n",
      " [0.02395388 0.95496911 0.02107701]\n",
      " [0.00487905 0.03148975 0.9636312 ]] [[[8.37820481e-01 8.27111883e-03 1.53908401e-01]\n",
      "  [8.32330062e-01 9.98539721e-03 1.57684541e-01]\n",
      "  [7.53107412e-01 1.74316169e-02 2.29460971e-01]\n",
      "  [8.20459944e-01 1.07793665e-02 1.68760690e-01]\n",
      "  [7.81559892e-01 1.57437081e-02 2.02696400e-01]\n",
      "  [8.52236134e-01 1.17180988e-02 1.36045768e-01]\n",
      "  [8.50348195e-01 1.13193251e-02 1.38332480e-01]\n",
      "  [8.28192364e-01 6.25936253e-03 1.65548273e-01]\n",
      "  [7.58471740e-01 1.58308833e-02 2.25697377e-01]\n",
      "  [7.90529445e-01 7.94841981e-04 2.08675713e-01]]\n",
      "\n",
      " [[6.35196046e-01 8.05653525e-02 2.84238601e-01]\n",
      "  [6.18953493e-01 9.96212033e-02 2.81425303e-01]\n",
      "  [4.58464632e-01 1.58745809e-01 3.82789559e-01]\n",
      "  [5.90026398e-01 1.06924171e-01 3.03049431e-01]\n",
      "  [5.11869193e-01 1.56949611e-01 3.31181196e-01]\n",
      "  [6.50711297e-01 9.36811981e-02 2.55607505e-01]\n",
      "  [6.44986181e-01 9.75262511e-02 2.57487568e-01]\n",
      "  [6.26699980e-01 7.42384060e-02 2.99061614e-01]\n",
      "  [4.74829609e-01 1.38336953e-01 3.86833438e-01]\n",
      "  [4.88212266e-01 2.22127052e-03 5.09566463e-01]]\n",
      "\n",
      " [[3.20749883e-01 4.55754736e-01 2.23495381e-01]\n",
      "  [2.96532748e-01 4.90874008e-01 2.12593244e-01]\n",
      "  [1.09684348e-01 7.57692795e-01 1.32622857e-01]\n",
      "  [2.63853323e-01 5.27993555e-01 2.08153122e-01]\n",
      "  [1.68874684e-01 6.66235543e-01 1.64889773e-01]\n",
      "  [3.62990783e-01 4.25318500e-01 2.11690718e-01]\n",
      "  [3.28413606e-01 4.72525535e-01 1.99060860e-01]\n",
      "  [3.02377071e-01 4.76431257e-01 2.21191672e-01]\n",
      "  [1.33843375e-01 7.07351366e-01 1.58805260e-01]\n",
      "  [4.68047724e-34 1.00000000e+00 9.77990419e-48]]] 253357.9953263318\n",
      "(array([[0.98192487, 0.01622605, 0.00184908],\n",
      "       [0.02395388, 0.95496911, 0.02107701],\n",
      "       [0.00487905, 0.03148975, 0.9636312 ]]), array([[[8.37820481e-01, 8.27111883e-03, 1.53908401e-01],\n",
      "        [8.32330062e-01, 9.98539721e-03, 1.57684541e-01],\n",
      "        [7.53107412e-01, 1.74316169e-02, 2.29460971e-01],\n",
      "        [8.20459944e-01, 1.07793665e-02, 1.68760690e-01],\n",
      "        [7.81559892e-01, 1.57437081e-02, 2.02696400e-01],\n",
      "        [8.52236134e-01, 1.17180988e-02, 1.36045768e-01],\n",
      "        [8.50348195e-01, 1.13193251e-02, 1.38332480e-01],\n",
      "        [8.28192364e-01, 6.25936253e-03, 1.65548273e-01],\n",
      "        [7.58471740e-01, 1.58308833e-02, 2.25697377e-01],\n",
      "        [7.90529445e-01, 7.94841981e-04, 2.08675713e-01]],\n",
      "\n",
      "       [[6.35196046e-01, 8.05653525e-02, 2.84238601e-01],\n",
      "        [6.18953493e-01, 9.96212033e-02, 2.81425303e-01],\n",
      "        [4.58464632e-01, 1.58745809e-01, 3.82789559e-01],\n",
      "        [5.90026398e-01, 1.06924171e-01, 3.03049431e-01],\n",
      "        [5.11869193e-01, 1.56949611e-01, 3.31181196e-01],\n",
      "        [6.50711297e-01, 9.36811981e-02, 2.55607505e-01],\n",
      "        [6.44986181e-01, 9.75262511e-02, 2.57487568e-01],\n",
      "        [6.26699980e-01, 7.42384060e-02, 2.99061614e-01],\n",
      "        [4.74829609e-01, 1.38336953e-01, 3.86833438e-01],\n",
      "        [4.88212266e-01, 2.22127052e-03, 5.09566463e-01]],\n",
      "\n",
      "       [[3.20749883e-01, 4.55754736e-01, 2.23495381e-01],\n",
      "        [2.96532748e-01, 4.90874008e-01, 2.12593244e-01],\n",
      "        [1.09684348e-01, 7.57692795e-01, 1.32622857e-01],\n",
      "        [2.63853323e-01, 5.27993555e-01, 2.08153122e-01],\n",
      "        [1.68874684e-01, 6.66235543e-01, 1.64889773e-01],\n",
      "        [3.62990783e-01, 4.25318500e-01, 2.11690718e-01],\n",
      "        [3.28413606e-01, 4.72525535e-01, 1.99060860e-01],\n",
      "        [3.02377071e-01, 4.76431257e-01, 2.21191672e-01],\n",
      "        [1.33843375e-01, 7.07351366e-01, 1.58805260e-01],\n",
      "        [4.68047724e-34, 1.00000000e+00, 9.77990419e-48]]]), 253357.9953263318, [0.9819248712002914, 0.8977003880908002, 0.9549691108604795, 0.5319432571487687, 0.9636311979265592, 0.13415476515106645, array([[[8.37820481e-01, 8.27111883e-03, 1.53908401e-01],\n",
      "        [8.32330062e-01, 9.98539721e-03, 1.57684541e-01],\n",
      "        [7.53107412e-01, 1.74316169e-02, 2.29460971e-01],\n",
      "        [8.20459944e-01, 1.07793665e-02, 1.68760690e-01],\n",
      "        [7.81559892e-01, 1.57437081e-02, 2.02696400e-01],\n",
      "        [8.52236134e-01, 1.17180988e-02, 1.36045768e-01],\n",
      "        [8.50348195e-01, 1.13193251e-02, 1.38332480e-01],\n",
      "        [8.28192364e-01, 6.25936253e-03, 1.65548273e-01],\n",
      "        [7.58471740e-01, 1.58308833e-02, 2.25697377e-01],\n",
      "        [7.90529445e-01, 7.94841981e-04, 2.08675713e-01]],\n",
      "\n",
      "       [[6.35196046e-01, 8.05653525e-02, 2.84238601e-01],\n",
      "        [6.18953493e-01, 9.96212033e-02, 2.81425303e-01],\n",
      "        [4.58464632e-01, 1.58745809e-01, 3.82789559e-01],\n",
      "        [5.90026398e-01, 1.06924171e-01, 3.03049431e-01],\n",
      "        [5.11869193e-01, 1.56949611e-01, 3.31181196e-01],\n",
      "        [6.50711297e-01, 9.36811981e-02, 2.55607505e-01],\n",
      "        [6.44986181e-01, 9.75262511e-02, 2.57487568e-01],\n",
      "        [6.26699980e-01, 7.42384060e-02, 2.99061614e-01],\n",
      "        [4.74829609e-01, 1.38336953e-01, 3.86833438e-01],\n",
      "        [4.88212266e-01, 2.22127052e-03, 5.09566463e-01]],\n",
      "\n",
      "       [[3.20749883e-01, 4.55754736e-01, 2.23495381e-01],\n",
      "        [2.96532748e-01, 4.90874008e-01, 2.12593244e-01],\n",
      "        [1.09684348e-01, 7.57692795e-01, 1.32622857e-01],\n",
      "        [2.63853323e-01, 5.27993555e-01, 2.08153122e-01],\n",
      "        [1.68874684e-01, 6.66235543e-01, 1.64889773e-01],\n",
      "        [3.62990783e-01, 4.25318500e-01, 2.11690718e-01],\n",
      "        [3.28413606e-01, 4.72525535e-01, 1.99060860e-01],\n",
      "        [3.02377071e-01, 4.76431257e-01, 2.21191672e-01],\n",
      "        [1.33843375e-01, 7.07351366e-01, 1.58805260e-01],\n",
      "        [4.68047724e-34, 1.00000000e+00, 9.77990419e-48]]])])\n"
     ]
    }
   ],
   "source": [
    "if full_run == True:\n",
    "    AE_HMM_Model = ae_hmm.Alignment_HMM (num_symbols, num_states, extended_non_cds_regions_output_dir, tb_species, species_order = genome_ids)\n",
    "    parameter_fits = AE_HMM_Model.EM_update(num_cores, initial_params, minimum_fit_length)\n",
    "    print(parameter_fits)\n",
    "    fitted_parameters = parameter_fits[3]\n",
    "    with open(hmm_parameters_output_dir + '/' + 'AE_parameter_fit.pkl', 'wb') as f:\n",
    "        pickle.dump(fitted_parameters, f)"
   ]
  },
  {
   "cell_type": "markdown",
   "id": "3669c845-286e-4aa1-97e4-8a2dee230519",
   "metadata": {},
   "source": [
    "##### Load HMM parameters"
   ]
  },
  {
   "cell_type": "code",
   "execution_count": 18,
   "id": "4dea7f2a-cd8b-4d52-bf7b-f3b8bde0536e",
   "metadata": {},
   "outputs": [],
   "source": [
    "with open(hmm_parameters_output_dir + '/' + 'full_parameter_fit.pkl', 'rb') as f:\n",
    "    full_fitted_parameters = pickle.load(f)\n",
    "with open(hmm_parameters_output_dir + '/' + 'pairwise_parameter_fits.pkl', 'rb') as f:\n",
    "    pairwise_fitted_parameters = pickle.load(f)\n",
    "with open(hmm_parameters_output_dir + '/' + 'master_parameter_fit.pkl', 'rb') as f:\n",
    "    master_fitted_parameters = pickle.load(f)\n",
    "with open(hmm_parameters_output_dir + '/' + 'multi_species_master_parameter_fit.pkl', 'rb') as f:\n",
    "    multi_species_master_fitted_parameters = pickle.load(f)\n",
    "with open(hmm_parameters_output_dir + '/' + 'AE_parameter_fit.pkl', 'rb') as f:\n",
    "    AE_fitted_parameters = pickle.load(f)"
   ]
  },
  {
   "cell_type": "markdown",
   "id": "21d3d362-46c0-40e5-9ecc-dbd80525bcfa",
   "metadata": {},
   "source": [
    "##### Analyse ortholog groups for conservation and other features and output to dictionary"
   ]
  },
  {
   "cell_type": "code",
   "execution_count": 19,
   "id": "c56c44ad-31d8-407f-88b1-591812aa7bb8",
   "metadata": {},
   "outputs": [
    {
     "name": "stderr",
     "output_type": "stream",
     "text": [
      "100%|██████████| 1639/1639 [00:05<00:00, 302.23it/s]\n",
      "100%|██████████| 1639/1639 [00:05<00:00, 321.70it/s]\n"
     ]
    }
   ],
   "source": [
    "Alignment_HMM_Model = alignment_hmm.Alignment_HMM (4, 3, extended_cds_output_dir, tb_species, species_order = genome_ids)\n",
    "Master_Alignment_HMM_Model = master_alignment_hmm.Master_Alignment_HMM (pairwise_observation_probabilities)\n",
    "Multi_Species_Master_Alignment_HMM_Model = multi_species_master_alignment_hmm.Multi_Species_Master_Alignment_HMM (pairwise_observation_probabilities)\n",
    "AE_HMM_Model = ae_hmm.Alignment_HMM (4, 3, extended_cds_output_dir, tb_species, species_order = genome_ids)\n",
    "literature_annotations_df_list = [pd.read_excel(literature_datasets_dir+'/Mycobrowser_Release_4.xlsx'), pd.read_excel(literature_datasets_dir+'/DeJesus2013.xlsx')]"
   ]
  },
  {
   "cell_type": "code",
   "execution_count": 20,
   "id": "153917ac-dd0e-444e-bbc8-c0f8f9792628",
   "metadata": {},
   "outputs": [],
   "source": [
    "def parallel_build_analysis_dictionary(num_subsets, subset_num, ids, analysis_type, model_type):\n",
    "    ids = util.chunk_list(ids, num_subsets, subset_num)\n",
    "    output_list = []\n",
    "    for group_id in ids:\n",
    "        alignment = align.Alignment(alignment_dir+'/'+str(group_id)+'.fasta', tb_species, 'NT')\n",
    "        if model_type == 'Simple':\n",
    "            analysis = alignment_analysis.Alignment_Analysis(analysis_type, alignment, seq_data, group_id, 3, pairwise_fitted_parameters, 'Simple', 2, \n",
    "                                           master_fitted_parameters, extended_cds_output_dir, tb_species, genome_ids, pairwise_observation_probabilities, \n",
    "                                           Alignment_HMM_Model, Master_Alignment_HMM_Model, literature_annotations_df_list)\n",
    "        elif model_type == 'Multi_Species':\n",
    "            analysis = alignment_analysis.Alignment_Analysis(analysis_type, alignment, seq_data, group_id, 3, pairwise_fitted_parameters, 'Multi_Species', 2, \n",
    "                                           multi_species_master_fitted_parameters, extended_cds_output_dir, tb_species, genome_ids, pairwise_observation_probabilities, \n",
    "                                           Alignment_HMM_Model, Multi_Species_Master_Alignment_HMM_Model, literature_annotations_df_list)\n",
    "        elif model_type == 'AE':\n",
    "            analysis = alignment_analysis.Alignment_Analysis(analysis_type, alignment, seq_data, group_id, 3, pairwise_fitted_parameters, 'AE', 3, \n",
    "                                           AE_fitted_parameters, extended_cds_output_dir, tb_species, genome_ids, pairwise_observation_probabilities, \n",
    "                                           Alignment_HMM_Model, AE_HMM_Model, literature_annotations_df_list)\n",
    "        else:\n",
    "            pass\n",
    "        output_list.append((group_id, analysis))\n",
    "    return output_list"
   ]
  },
  {
   "cell_type": "code",
   "execution_count": 21,
   "id": "0c8f2946-1234-4fb8-acdd-e936b8995dec",
   "metadata": {},
   "outputs": [
    {
     "name": "stderr",
     "output_type": "stream",
     "text": [
      "100%|██████████| 16/16 [00:00<00:00, 16594.67it/s]\n",
      "100%|██████████| 16/16 [00:00<00:00, 1179.60it/s]\n",
      "100%|██████████| 16/16 [00:00<?, ?it/s]\n"
     ]
    }
   ],
   "source": [
    "if full_run == True:\n",
    "    for model_type in ['Simple', 'Multi_Species', 'AE']:\n",
    "        analysis_type = 'Extended_CDS'\n",
    "        alignment_dir = extended_cds_output_dir\n",
    "        dict_name = model_type + '_' + 'extended_cds_conservation_info_dictionary'\n",
    "        alignment_info_dict = {}\n",
    "        file_ids = util.list_files(alignment_dir+'/')\n",
    "        ids = [int(i.split('.')[0]) for i in file_ids]\n",
    "        parallel_output = Parallel(n_jobs=-1)(delayed(parallel_build_analysis_dictionary)(num_cores, core_number, ids, analysis_type, model_type) for core_number in tqdm(core_numbers))\n",
    "        dictionary_list = [item for sublist in parallel_output for item in sublist]\n",
    "        alignment_info_dict = {}\n",
    "        for (group, analysis) in dictionary_list:\n",
    "            alignment_info_dict[seq_data.master_species_info(group, 'locus_tag')] = analysis\n",
    "        with open(conservation_analysis_output_dir + '/' + dict_name + '.pkl', 'wb') as f:\n",
    "            pickle.dump(alignment_info_dict, f)"
   ]
  },
  {
   "cell_type": "code",
   "execution_count": null,
   "id": "97d6fe30-3c19-4261-8b29-fd1928a0a860",
   "metadata": {},
   "outputs": [],
   "source": []
  },
  {
   "cell_type": "code",
   "execution_count": null,
   "id": "80c3ee4c-3007-4088-9100-edc15dc26016",
   "metadata": {},
   "outputs": [],
   "source": []
  },
  {
   "cell_type": "code",
   "execution_count": null,
   "id": "1e776f28-0dd2-4ac4-9d46-da9433a0b0f6",
   "metadata": {},
   "outputs": [],
   "source": []
  }
 ],
 "metadata": {
  "kernelspec": {
   "display_name": "Python 3 (ipykernel)",
   "language": "python",
   "name": "python3"
  },
  "language_info": {
   "codemirror_mode": {
    "name": "ipython",
    "version": 3
   },
   "file_extension": ".py",
   "mimetype": "text/x-python",
   "name": "python",
   "nbconvert_exporter": "python",
   "pygments_lexer": "ipython3",
   "version": "3.9.7"
  }
 },
 "nbformat": 4,
 "nbformat_minor": 5
}
