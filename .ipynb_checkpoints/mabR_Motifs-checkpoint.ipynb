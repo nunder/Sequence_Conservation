{
 "cells": [
  {
   "cell_type": "markdown",
   "id": "b1e30ed4-8a0e-4a6f-96eb-dfe116dfb2de",
   "metadata": {},
   "source": [
    "#### Import packages, set directories and parameters"
   ]
  },
  {
   "cell_type": "code",
   "execution_count": 1,
   "id": "cf9c6377-5080-4c22-94db-feabe17cc47c",
   "metadata": {},
   "outputs": [],
   "source": [
    "import pandas as pd\n",
    "import pickle\n",
    "import seaborn as sns\n",
    "import matplotlib.pyplot as plt\n",
    "import numpy as np\n",
    "from Bio import Entrez, SeqIO, AlignIO, pairwise2, Align, Seq, motifs\n",
    "from Bio.Seq import Seq\n",
    "from Bio.SeqFeature import SeqFeature, FeatureLocation\n",
    "import math\n",
    "from tqdm import tqdm\n",
    "from Comparative_Analysis import Utilities as util\n",
    "from joblib import Parallel, delayed\n",
    "from Comparative_Analysis import Blast_Functions as blastfn\n",
    "import time\n",
    "import os\n",
    "import copy\n",
    "from scipy.stats import chi2, binom\n",
    "from Comparative_Analysis import Alignment as alignfn\n",
    "from Bio.Align.Applications import MuscleCommandline\n",
    "import subprocess\n",
    "pd.options.mode.chained_assignment = None  # default='warn'"
   ]
  },
  {
   "cell_type": "code",
   "execution_count": 2,
   "id": "79c1ca3d-a68f-4a9d-a5c4-25df7385b3ad",
   "metadata": {},
   "outputs": [],
   "source": [
    "project_dir = 'F:/Project_Data/mabR_Project'\n",
    "mycobacteria_seq_dir = 'F:/Datasets/NCBI_Refseq_Mycobacteriaceae_Complete_Annot_20230511/data'\n",
    "tb_species = 'AL123456.3' \n",
    "tb_annotation_dirname = 'GCA_000195955.2'\n",
    "min_region_length = 7 \n",
    "full_build = False\n",
    "num_cores = 16\n",
    "core_numbers = list(range(1, num_cores+1))\n",
    "muscle_exe = 'C:/Users/nicho/Muscle/muscle3.8.31_i86win32.exe'\n",
    "full_run = False"
   ]
  },
  {
   "cell_type": "code",
   "execution_count": 3,
   "id": "f3bcbac1-03df-43f0-813e-0ca8f97a28bc",
   "metadata": {},
   "outputs": [],
   "source": [
    "mycobacteria_dirs = []\n",
    "for dir in util.list_dirs(mycobacteria_seq_dir):\n",
    "    if os.path.exists(mycobacteria_seq_dir + '/' + dir + '/genomic.gbff'):\n",
    "        mycobacteria_dirs.append(dir)"
   ]
  },
  {
   "cell_type": "code",
   "execution_count": 4,
   "id": "98d6cb4b-f436-4866-8be5-fa1232f4d8dc",
   "metadata": {},
   "outputs": [],
   "source": [
    "tb_mycobacteria_rbh = pd.read_csv(project_dir + '/tb_mycobacteria_reciprocal_best_hits.csv')"
   ]
  },
  {
   "cell_type": "code",
   "execution_count": 5,
   "id": "63f58a21-4009-4b7e-b289-7766b64797b1",
   "metadata": {},
   "outputs": [],
   "source": [
    "names_dict = {}\n",
    "dirname_dict = {}\n",
    "for dirname in (mycobacteria_dirs):\n",
    "        for genome_record in SeqIO.parse(mycobacteria_seq_dir + '/' + dirname + '/genomic.gbff', \"genbank\"):\n",
    "            accession_ver = genome_record.annotations['accessions'][0] + '.' + str(genome_record.annotations['sequence_version'])\n",
    "            names_dict[accession_ver] = genome_record.annotations['organism']\n",
    "        dirname_dict[dirname] = genome_record.annotations['organism']"
   ]
  },
  {
   "cell_type": "code",
   "execution_count": 99,
   "id": "8e79089d-e833-4b2c-9d19-54875fb3525e",
   "metadata": {},
   "outputs": [],
   "source": [
    "def reverse_complement(seq_string):\n",
    "    temp = []\n",
    "    for char in reversed(seq_string):\n",
    "        if char == 'A':\n",
    "            comp = 'T'\n",
    "        elif char == 'T':\n",
    "            comp = 'A'\n",
    "        elif char == 'C':\n",
    "            comp = 'G'\n",
    "        elif char == 'G':\n",
    "            comp = 'C'\n",
    "        else:\n",
    "            comp = char\n",
    "        temp.append(comp)\n",
    "    return ''.join(temp)"
   ]
  },
  {
   "cell_type": "markdown",
   "id": "8c997be0-04a1-4685-b8ba-67c71a3373c2",
   "metadata": {},
   "source": [
    "#### Lookup function to find orthologs in M.tb based on reciprocal best hit outputs"
   ]
  },
  {
   "cell_type": "code",
   "execution_count": 6,
   "id": "270bbd3f-598e-428d-8b30-7d9fc6fc9a34",
   "metadata": {},
   "outputs": [],
   "source": [
    "def ortholog_in_mtb(accession_ver, locus):\n",
    "    gene = accession_ver + '@' + locus\n",
    "    temp = tb_mycobacteria_rbh.query('target_ref == @gene and query_species == @tb_species')\n",
    "    if len(temp) == 1:\n",
    "        for i, r in temp.iterrows():\n",
    "            temp2 = r['query_ref']\n",
    "            return temp2.split('@')[1]\n",
    "    else:\n",
    "        return 'No_orth'"
   ]
  },
  {
   "cell_type": "markdown",
   "id": "e687d1b4-31ac-4d5c-a571-d05535336de9",
   "metadata": {},
   "source": [
    "#### Produce reference FASTA files (a) TB and (b) all mycobacteria for searching against motifs"
   ]
  },
  {
   "cell_type": "code",
   "execution_count": 181,
   "id": "2a34e5ee-8b1b-4a69-85e9-360339a0e3f2",
   "metadata": {},
   "outputs": [
    {
     "name": "stdout",
     "output_type": "stream",
     "text": [
      "4031\n"
     ]
    }
   ],
   "source": [
    "genome_record = next(SeqIO.parse(mycobacteria_seq_dir + '/' + tb_annotation_dirname + '/genomic.gbff', \"genbank\"))\n",
    "tot = 0\n",
    "for feature in genome_record.features:\n",
    "    a = feature.qualifiers\n",
    "    if feature.type not in ['source','gene'] and (int(feature.location.start) < int(feature.location.end)) and (int(feature.location.end) - int(feature.location.start)) < 1000000:\n",
    "        if feature.type == 'CDS':\n",
    "            tot+=1\n",
    "print(tot)"
   ]
  },
  {
   "cell_type": "code",
   "execution_count": 7,
   "id": "c78a8a2a-f363-48b7-a30e-8d4f0dbd81e0",
   "metadata": {},
   "outputs": [
    {
     "name": "stderr",
     "output_type": "stream",
     "text": [
      "100%|██████████| 1/1 [00:00<00:00, 12.58it/s]\n"
     ]
    }
   ],
   "source": [
    "genome_record = next(SeqIO.parse(mycobacteria_seq_dir + '/' + tb_annotation_dirname + '/genomic.gbff', \"genbank\"))\n",
    "mtb_sequence = str(genome_record.seq)\n",
    "accession_ver = genome_record.annotations['accessions'][0] + '.' + str(genome_record.annotations['sequence_version'])\n",
    "util.produce_fasta_file([[accession_ver, mtb_sequence]], project_dir + '/mtb_seq')"
   ]
  },
  {
   "cell_type": "code",
   "execution_count": 8,
   "id": "7d173f9d-f5bd-49d4-8ae1-789fae6e2a51",
   "metadata": {},
   "outputs": [],
   "source": [
    "if full_run == True:\n",
    "    temp = []\n",
    "    for dir in util.list_dirs(mycobacteria_seq_dir): \n",
    "        if os.path.exists(mycobacteria_seq_dir + '/' + dir + '/genomic.gbff'):\n",
    "            for genome_record in (SeqIO.parse(mycobacteria_seq_dir + '/' + dir + '/genomic.gbff', \"genbank\")):\n",
    "                accession_ver = genome_record.annotations['accessions'][0] + '.' + str(genome_record.annotations['sequence_version'])\n",
    "                full_sequence = str(genome_record.seq)\n",
    "                temp.append([accession_ver, full_sequence])\n",
    "    util.produce_fasta_file(temp, project_dir + '/all_seq')"
   ]
  },
  {
   "cell_type": "markdown",
   "id": "50fbf555-1082-451c-827f-492e9f228f5b",
   "metadata": {
    "tags": []
   },
   "source": [
    "#### Functions to locate arbitrary region in organism"
   ]
  },
  {
   "cell_type": "code",
   "execution_count": 108,
   "id": "be6df13d-3ee1-485b-b5c7-8d788256b55e",
   "metadata": {},
   "outputs": [],
   "source": [
    "def annotated_regions_dataset(num_subsets, subset_num, dir_list, seqdir, cds_only = False): \n",
    "    output = []\n",
    "    sequence_dirs = util.chunk_list(dir_list, num_subsets, subset_num)\n",
    "    for dirname in sequence_dirs:\n",
    "        annotated_regions = []\n",
    "        intergenic_regions = []\n",
    "        for record in (SeqIO.parse(seqdir + '/'+dirname+'/genomic.gbff', \"genbank\")):\n",
    "            accession_ver = record.annotations['accessions'][0] + '.' + str(record.annotations['sequence_version'])\n",
    "            for feature in record.features:\n",
    "                a = feature.qualifiers\n",
    "                if feature.type not in ['source','gene'] and (int(feature.location.start) < int(feature.location.end)) and (int(feature.location.end) - int(feature.location.start)) < 1000000:\n",
    "                    if cds_only == True and not(feature.type == 'CDS'):\n",
    "                        continue\n",
    "                    else:\n",
    "                        if not(a.get(\"product\") == None):\n",
    "                               product = a.get(\"product\")[0]\n",
    "                        else:\n",
    "                               product = ''\n",
    "                        if not(a.get(\"locus_tag\")==None):\n",
    "                            locus_tag = a.get(\"locus_tag\")[0]\n",
    "                        else:\n",
    "                            locus_tag = feature.type\n",
    "                        annotated_regions.append((locus_tag, product, feature.type, int(feature.location.start), int(feature.location.end), str(feature.location.strand)))\n",
    "            annotated_regions.sort(key = lambda x: x[4])\n",
    "            prev_strand = 0\n",
    "            prev_locus = ''\n",
    "            prev_product = ''\n",
    "            max_stop = 0\n",
    "            for n, (locus, product, feature_type, start, stop, strand) in enumerate(annotated_regions):\n",
    "                if start > max_stop:\n",
    "                    intergenic_regions.append([prev_locus+':'+locus, prev_product + ':' + product, 'Inter-feature',max_stop, start, str(prev_strand)+':'+str(strand)])\n",
    "                if stop > max_stop:\n",
    "                    prev_locus = locus\n",
    "                    prev_product = product\n",
    "                    prev_strand = strand\n",
    "                max_stop = max(max_stop, stop)    \n",
    "            for x in intergenic_regions:\n",
    "                annotated_regions.append(x)\n",
    "            annotated_regions.sort(key = lambda x : x[4])\n",
    "            output.append([accession_ver, annotated_regions])\n",
    "    return output"
   ]
  },
  {
   "cell_type": "code",
   "execution_count": 110,
   "id": "41cad641-7b47-4eff-b637-970c4593b41a",
   "metadata": {},
   "outputs": [],
   "source": [
    "parallel_output = Parallel(n_jobs=-1)(delayed(annotated_regions_dataset)(num_cores, core_number, mycobacteria_dirs, mycobacteria_seq_dir) for core_number in core_numbers)\n",
    "annotated_regions_dict = {}\n",
    "for x in parallel_output:\n",
    "    for y in x:\n",
    "        annotated_regions_dict[y[0]] = y[1]\n",
    "parallel_output = Parallel(n_jobs=-1)(delayed(annotated_regions_dataset)(num_cores, core_number, mycobacteria_dirs, mycobacteria_seq_dir, True) for core_number in core_numbers)\n",
    "cds_annotated_regions_dict = {}\n",
    "for x in parallel_output:\n",
    "    for y in x:\n",
    "        cds_annotated_regions_dict[y[0]] = y[1]"
   ]
  },
  {
   "cell_type": "code",
   "execution_count": null,
   "id": "b174b698-fea5-4a7a-8353-f68279992a7b",
   "metadata": {},
   "outputs": [],
   "source": []
  },
  {
   "cell_type": "code",
   "execution_count": 111,
   "id": "486e3d2c-4c89-4649-9e43-457a28c4a3e4",
   "metadata": {},
   "outputs": [],
   "source": [
    "def location(accession_ver, start1, end1, annotation_lookup_dictionary):\n",
    "    feature_matches = []\n",
    "    for (locus, product, feature, start, stop, strand) in annotation_lookup_dictionary[accession_ver]:\n",
    "            if start< end1 and stop > start1:\n",
    "                overlap = str(int(100*(min(end1, stop) - max(start1, start))/ (end1-start1)))+'%'\n",
    "                feature_matches.append([locus, product, feature, overlap, strand])\n",
    "    return feature_matches"
   ]
  },
  {
   "cell_type": "markdown",
   "id": "bd747b2c-841f-40e5-982d-45d812215121",
   "metadata": {},
   "source": [
    "#### Create dictionary of upstream sequences - sequence continue upstream to the next CDS not next feature (e.g. if intervening repeat region this is included"
   ]
  },
  {
   "cell_type": "code",
   "execution_count": 13,
   "id": "88d4c9a3-0301-4492-a123-78ee275dd0ec",
   "metadata": {},
   "outputs": [],
   "source": [
    "def generate_upstream_sequence_dataset(num_subsets, subset_num, dir_list, seqdir, additional_offset = 0):     # Set additional offset = 3 if you want start codon of downstream CDS to be included - useful for alignment \n",
    "    sequence_dirs = util.chunk_list(dir_list, num_subsets, subset_num)\n",
    "    upstream_cds_regions = []\n",
    "    for dirname in (sequence_dirs):\n",
    "        all_features = []\n",
    "        cds_features = []\n",
    "        for genome_record in SeqIO.parse(mycobacteria_seq_dir + '/' + dirname + '/genomic.gbff', \"genbank\"):\n",
    "            accession_ver = genome_record.annotations['accessions'][0] + '.' + str(genome_record.annotations['sequence_version'])\n",
    "            full_sequence = str(genome_record.seq)\n",
    "            len_full_sequence = len(full_sequence)\n",
    "            for feature in genome_record.features:\n",
    "                if feature.type in ['gene', 'source']:\n",
    "                    continue\n",
    "                a = feature.qualifiers\n",
    "                feature_type = feature.type\n",
    "                if a.get(\"locus_tag\") != None:\n",
    "                    locus_tag = a.get(\"locus_tag\")[0]\n",
    "                    accession_locus = accession_ver + '@' + locus_tag\n",
    "                else:\n",
    "                    accession_locus  = ''\n",
    "                (start, stop, strand) = (int(feature.location.start), int(feature.location.end), int(feature.location.strand))\n",
    "                all_features.append([accession_locus, feature_type, start, stop, strand])\n",
    "                if feature_type == 'CDS':\n",
    "                    cds_features.append([accession_locus, feature_type, start, stop, strand])\n",
    "            \n",
    "            features = cds_features  # Replace with line below if you want to go upstream only to next annotated feature and not next CDS\n",
    "            #features = all_features\n",
    "            \n",
    "            # Positive strand upstream \n",
    "            features.sort(key = lambda x: x[2])\n",
    "            max_stop = 0\n",
    "            for (accession_locus, feature_type, start, stop, strand) in features:\n",
    "                if max_stop < start and feature_type == 'CDS' and strand == 1 and start - max_stop < 100000:    #Avoid joins where biopython interprets inconsistently \n",
    "                    upstream_cds_regions.append([accession_locus, max_stop, start, strand, full_sequence[max_stop: start+additional_offset]])\n",
    "                max_stop = max(max_stop, stop)\n",
    "            # Negative strand upstream\n",
    "            features.sort(key = lambda x: x[3], reverse = True)\n",
    "            min_start = len(full_sequence)-1\n",
    "            for (accession_locus, feature_type, start, stop, strand) in features:\n",
    "                if stop < min_start and feature_type == 'CDS' and strand == -1 and min_start - stop < 100000:\n",
    "                    upstream_cds_regions.append([accession_locus, stop, min_start, strand, reverse_complement(full_sequence[stop-additional_offset: min_start])])\n",
    "                min_start = min(min_start, start)\n",
    "    return (upstream_cds_regions)           "
   ]
  },
  {
   "cell_type": "code",
   "execution_count": 14,
   "id": "a8075f18-ddc6-43c2-aaec-d25000f9d589",
   "metadata": {},
   "outputs": [],
   "source": [
    "if full_build == True:\n",
    "#if 1==1:\n",
    "    mycobacteria_upstream_dict = {}\n",
    "    parallel_output = Parallel(n_jobs=-1)(delayed(generate_upstream_sequence_dataset)(num_cores, core_number, mycobacteria_dirs, mycobacteria_seq_dir) for core_number in core_numbers)\n",
    "    for x in parallel_output:\n",
    "        for n in x:\n",
    "            mycobacteria_upstream_dict[n[0]] = [n[1], n[2], n[3], n[4]]\n",
    "    with open(project_dir + '/mycobacteria_upstream_dict.pkl', 'wb') as f:\n",
    "        pickle.dump(mycobacteria_upstream_dict, f) \n",
    "else:\n",
    "    with open(project_dir + '/mycobacteria_upstream_dict.pkl', 'rb') as f:\n",
    "        mycobacteria_upstream_dict = pickle.load(f)    "
   ]
  },
  {
   "cell_type": "markdown",
   "id": "01b4bf2c-e1bb-4623-aed5-c0da8fb1f9c7",
   "metadata": {
    "tags": []
   },
   "source": [
    "#### Functions to run MEME and FIMO"
   ]
  },
  {
   "cell_type": "code",
   "execution_count": 15,
   "id": "66efc6cc-4049-4566-bca3-404079e7a691",
   "metadata": {},
   "outputs": [],
   "source": [
    "def run_meme(search_regions_loc, output_dir, min_width, min_sites):\n",
    "    subprocess.run('wsl export PATH=$HOME/meme/bin:$HOME/meme/libexec/meme-5.4.1:usr/bin:$PATH ; meme '+ util.wslname(search_regions_loc) + ' -oc '+ util.wslname(output_dir) +' -dna -evt 0.001 -p 8 -revcomp -mod anr -brief 4000 -minw ' + str(min_width) +' -maxw 200 -minsites ' + str(min_sites)\n",
    "               , shell=True)"
   ]
  },
  {
   "cell_type": "code",
   "execution_count": 16,
   "id": "9faaf599-3275-429b-ad53-99f29695e146",
   "metadata": {},
   "outputs": [],
   "source": [
    "def run_fimo(motif_file, sequence_to_search_file, output_dir):\n",
    "    subprocess.run('wsl export PATH=$HOME/meme/bin:$HOME/meme/libexec/meme-5.4.1:usr/bin:$PATH ; fimo -oc ' + util.wslname(output_dir) + ' ' + util.wslname(motif_file) + ' ' + util.wslname(sequence_to_search_file)\n",
    "               , shell=True)"
   ]
  },
  {
   "cell_type": "code",
   "execution_count": 17,
   "id": "a21ce3b0-d00a-46fa-a299-95b88e2d0533",
   "metadata": {},
   "outputs": [],
   "source": [
    "def produce_matched_sequence_file(hit_df, output_file, q_value):\n",
    "    matched_sequences = []\n",
    "    for i, r in hit_df.iterrows():\n",
    "        if '#' in r['motif_id']:\n",
    "            continue\n",
    "        if float(r['q-value']) < q_value:\n",
    "            matched_sequences.append([str(r['start'])+'_'+str(r['stop']), r['matched_sequence']])\n",
    "    util.produce_fasta_file(matched_sequences, output_file)"
   ]
  },
  {
   "cell_type": "markdown",
   "id": "fcbb740d-f4e8-4842-b6f6-0084271d62e2",
   "metadata": {},
   "source": [
    "#### Import list of significantly up/downregulated genes and produce fasta file of upstream sequences"
   ]
  },
  {
   "cell_type": "code",
   "execution_count": 18,
   "id": "2dfe78c9-fd29-4b8c-bc7d-3ce16e4fb4ab",
   "metadata": {},
   "outputs": [],
   "source": [
    "regulation_type_dict = {}\n",
    "p_val_dict = {}\n",
    "downreg_genes = pd.read_excel(project_dir + '/2022-10-02_data_NU_NAs_renamed.xlsx', sheet_name = 'significant genes downregulated')\n",
    "upreg_genes = pd.read_excel(project_dir + '/2022-10-02_data.xlsx', sheet_name = 'significant genes upregulated')\n",
    "all_genes = pd.read_excel(project_dir + '/2022-10-02_data.xlsx', sheet_name = 'all genes')\n",
    "gene_list = []\n",
    "for i, r in downreg_genes.iterrows():\n",
    "    gene_list.append(r['Locus'])\n",
    "    regulation_type_dict[r['Locus']] = 'Downregulated'\n",
    "for i, r in upreg_genes.iterrows():\n",
    "    gene_list.append(r['Locus'])\n",
    "    regulation_type_dict[r['Locus']] = 'Upregulated'\n",
    "for i, r in all_genes.iterrows():\n",
    "    if r['padj'] == 'NA':\n",
    "        p_val_dict[r['Locus']] = 999\n",
    "    else:    \n",
    "        p_val_dict[r['Locus']] = r['padj']"
   ]
  },
  {
   "cell_type": "code",
   "execution_count": 100,
   "id": "92f57e96-7a0f-48eb-8d5b-008b3a27e0a8",
   "metadata": {},
   "outputs": [
    {
     "name": "stderr",
     "output_type": "stream",
     "text": [
      "100%|██████████| 175/175 [00:00<00:00, 87527.21it/s]\n"
     ]
    }
   ],
   "source": [
    "significant_upstream_tb_regions = []\n",
    "temp_dict = {}\n",
    "for gene in gene_list:\n",
    "    locus = tb_species + '@' + str(gene)\n",
    "    if locus in mycobacteria_upstream_dict:\n",
    "        upstream_region = mycobacteria_upstream_dict[locus][3]  \n",
    "        (start, stop) = (mycobacteria_upstream_dict[locus][0],  mycobacteria_upstream_dict[locus][1])\n",
    "        if (start, stop) in temp_dict:\n",
    "            pass  # Eliminate upstream region if already there (e.g if neighbouring divergent pair)\n",
    "        else:\n",
    "            temp_dict[(start, stop)] = 1      \n",
    "            if len(upstream_region) >= min_region_length:\n",
    "                significant_upstream_tb_regions.append([locus, upstream_region])\n",
    "util.produce_fasta_file(significant_upstream_tb_regions, project_dir + '/significant_upstream_tb_regions.faa')"
   ]
  },
  {
   "cell_type": "markdown",
   "id": "e8399606-8ab1-4292-ae09-29791de85a15",
   "metadata": {},
   "source": [
    "#### Run MEME, search against tb using FIMO and process hits into final MEME Run = Second_MEME_Upstream_Output"
   ]
  },
  {
   "cell_type": "code",
   "execution_count": 101,
   "id": "b7330b9c-0cb3-4362-82f8-7ede1e1045f9",
   "metadata": {},
   "outputs": [],
   "source": [
    "run_meme(project_dir + '/significant_upstream_tb_regions.faa',project_dir + '/MEME_Upstream_Output',3,5)"
   ]
  },
  {
   "cell_type": "code",
   "execution_count": 102,
   "id": "7bb56b27-9fff-483b-906e-dd001e482986",
   "metadata": {},
   "outputs": [
    {
     "name": "stderr",
     "output_type": "stream",
     "text": [
      "100%|██████████| 110/110 [00:00<?, ?it/s]\n"
     ]
    }
   ],
   "source": [
    "run_fimo(project_dir + '/MEME_Upstream_Output/meme.txt', project_dir + '/mtb_seq' , project_dir + '/FIMO_Upstream_Output')\n",
    "fimo_upstream_hits = pd.read_csv(project_dir + '/FIMO_Upstream_Output/fimo.tsv', sep='\\t')\n",
    "produce_matched_sequence_file(fimo_upstream_hits, project_dir + '/fimo_upstream_hit_sequences.faa', q_value = 1e-3)\n",
    "run_meme(project_dir + '/fimo_upstream_hit_sequences.faa', project_dir + '/Second_MEME_Upstream_Output',3,5)"
   ]
  },
  {
   "cell_type": "markdown",
   "id": "9004f80f-1ec8-4de5-b96e-9f8e4b6724c2",
   "metadata": {},
   "source": [
    "##### Produce FIMO hits for TB and all mycobacteria"
   ]
  },
  {
   "cell_type": "code",
   "execution_count": 103,
   "id": "53c0fe66-0118-427f-b2e4-d74f419e8f1f",
   "metadata": {},
   "outputs": [],
   "source": [
    "run_fimo(project_dir + '/Second_MEME_Upstream_Output/meme.txt', project_dir + '/mtb_seq' , project_dir + '/Second_FIMO_Upstream_Output')"
   ]
  },
  {
   "cell_type": "code",
   "execution_count": 146,
   "id": "4fc9df09-edea-48ac-8508-a91e50e06b9f",
   "metadata": {},
   "outputs": [],
   "source": [
    "run_fimo(project_dir + '/Second_MEME_Upstream_Output/meme.txt', project_dir + '/all_seq' , project_dir + '/All_Species_Second_FIMO_Upstream_Output')"
   ]
  },
  {
   "cell_type": "markdown",
   "id": "4d2bd314-c7a1-4a66-aa64-fce2906a5c8b",
   "metadata": {},
   "source": [
    "#### Use all species hits as a template for MEME (All_Species_Output) and search these motifs in other species (then refine into motif and search again),  Hits in /Single_Species_MEME_FIMO Final motif in /Temp_Second_Meme_Upstream_Output, "
   ]
  },
  {
   "cell_type": "code",
   "execution_count": 172,
   "id": "e95e0f5a-6f98-44e1-bb0a-76066c7b3f48",
   "metadata": {},
   "outputs": [],
   "source": [
    "fimo_upstream_hits = pd.read_csv(project_dir + '/All_Species_Second_FIMO_Upstream_Output/fimo.tsv', sep='\\t')\n",
    "produce_matched_sequence_file(fimo_upstream_hits, project_dir + '/all_species_hit_sequences.faa', q_value = 1e-3)\n",
    "run_meme(project_dir + '/all_species_hit_sequences.faa', project_dir + '/All_Species_Output',3,5)"
   ]
  },
  {
   "cell_type": "code",
   "execution_count": null,
   "id": "fed9e744-fb90-4407-ba87-ce7de82df2ef",
   "metadata": {},
   "outputs": [],
   "source": [
    "if full_run == True:\n",
    "    for dirname in tqdm(mycobacteria_dirs):\n",
    "        temp = []\n",
    "        for genome_record in (SeqIO.parse(mycobacteria_seq_dir + '/' + dirname + '/genomic.gbff', \"genbank\")):\n",
    "            ntsequence = str(genome_record.seq)\n",
    "            accession_ver = genome_record.annotations['accessions'][0] + '.' + str(genome_record.annotations['sequence_version'])\n",
    "            temp.append([accession_ver, ntsequence])\n",
    "        util.produce_fasta_file(temp, project_dir + '/temp_seq')\n",
    "        run_fimo(project_dir + '/All_Species_Output/meme.txt', project_dir + '/temp_seq' , project_dir + '/Single_Species_MEME_FIMO/' + dirname)\n",
    "        fimo_upstream_hits = pd.read_csv(project_dir + '/Single_Species_MEME_FIMO/' + dirname + '/fimo.tsv', sep='\\t')\n",
    "        produce_matched_sequence_file(fimo_upstream_hits, project_dir + '/Single_Species_MEME_FIMO/' + dirname + '/temp_fimo_upstream_hit_sequences.faa', q_value = 1e-3)\n",
    "        run_meme(project_dir + '/Single_Species_MEME_FIMO/' + dirname + '/temp_fimo_upstream_hit_sequences.faa', project_dir + '/Single_Species_MEME_FIMO/' + dirname + '/Temp_Second_MEME_Upstream_Output',3,5)\n",
    "\n",
    "        run_fimo(project_dir + '/Single_Species_MEME_FIMO/' + dirname + '/Temp_Second_MEME_Upstream_Output/meme.txt', project_dir + '/temp_seq' , project_dir + '/Single_Species_MEME_FIMO/' + dirname)\n",
    "        fimo_upstream_hits = pd.read_csv(project_dir + '/Single_Species_MEME_FIMO/' + dirname + '/fimo.tsv', sep='\\t')\n",
    "        produce_matched_sequence_file(fimo_upstream_hits, project_dir + '/Single_Species_MEME_FIMO/' + dirname + '/temp_fimo_upstream_hit_sequences.faa', q_value = 1e-3)\n",
    "        run_meme(project_dir + '/Single_Species_MEME_FIMO/' + dirname + '/temp_fimo_upstream_hit_sequences.faa', project_dir + '/Single_Species_MEME_FIMO/' + dirname + '/Temp_Second_MEME_Upstream_Output',3,5)"
   ]
  },
  {
   "cell_type": "markdown",
   "id": "e4733095-8bf8-40cb-8cc0-9ea222a62087",
   "metadata": {},
   "source": [
    "#### Produce dictionary of hits for each species based on ortholog of hits in M.tb "
   ]
  },
  {
   "cell_type": "code",
   "execution_count": 119,
   "id": "648a416d-6518-43e3-b8ae-a86e95165884",
   "metadata": {},
   "outputs": [
    {
     "name": "stderr",
     "output_type": "stream",
     "text": [
      "100%|██████████| 100/100 [05:32<00:00,  3.32s/it]\n"
     ]
    }
   ],
   "source": [
    "appearance_dict = {}\n",
    "for dirname in tqdm(mycobacteria_dirs):\n",
    "    temp_set = set()\n",
    "    temp_set_2 = set()\n",
    "    temp_list_3 = []\n",
    "    temp_fimo_hits = pd.read_csv(project_dir + '/Single_Species_MEME_FIMO/' + dirname + '/fimo.tsv', sep='\\t')\n",
    "    for i, r in temp_fimo_hits.iterrows():\n",
    "        if '#' in r['motif_id']:\n",
    "            continue\n",
    "        organism = r['sequence_name']\n",
    "        motif_id = r['motif_alt_id']\n",
    "        if float(r['q-value']) < 1e-5:\n",
    "            temp = location(r['sequence_name'],int(r['start']), int(r['stop']), cds_annotated_regions_dict)\n",
    "            ortholog_orientations = []\n",
    "            for x in temp:\n",
    "                if len(x[0].split(':')) == 1:\n",
    "                    ortholog_orientations.append((ortholog_in_mtb(organism, x[0]), 'I'))\n",
    "                else:\n",
    "                    a = x[0].split(':')\n",
    "                    b = x[4].split(':')\n",
    "                    if b[0] == '1':\n",
    "                        ortholog_orientations.append((ortholog_in_mtb(organism, a[0]), 'U'))\n",
    "                    else:\n",
    "                        ortholog_orientations.append((ortholog_in_mtb(organism, a[0]), 'D'))\n",
    "                    if b[1] == '1':\n",
    "                        ortholog_orientations.append((ortholog_in_mtb(organism, a[1]), 'D'))\n",
    "                    else:\n",
    "                        ortholog_orientations.append((ortholog_in_mtb(organism, a[1]), 'U'))\n",
    "            for x in ortholog_orientations:\n",
    "                temp_list_3.append(x)                                          \n",
    "            temp2 = ([x[0].split(':') for x in temp])\n",
    "            for x in temp2:\n",
    "                temp_set = temp_set.union({ortholog_in_mtb(organism, w) for w in set(x)})\n",
    "                temp_set_2 = temp_set_2.union(set(x))\n",
    "    #print(temp_set)\n",
    "    temp_set_3 = set(temp_list_3)\n",
    "    \n",
    "    for ortholog in temp_set_3:\n",
    "        if ortholog in appearance_dict:\n",
    "            appearance_dict[ortholog].append(dirname_dict[dirname])\n",
    "        else:\n",
    "            appearance_dict[ortholog] = [dirname_dict[dirname]]"
   ]
  },
  {
   "cell_type": "code",
   "execution_count": null,
   "id": "60e201d6-b3b8-45b8-a92f-98cc7481c6bf",
   "metadata": {},
   "outputs": [],
   "source": [
    "temp = []\n",
    "for k, v in appearance_dict.items():\n",
    "    temp.append((k[0], k[1], len(v), v))\n",
    "temp.sort(key = lambda x: x[2], reverse = True)\n",
    "for (x, y, l, m) in temp:\n",
    "    print(x, y, l, m)\n"
   ]
  },
  {
   "cell_type": "markdown",
   "id": "773b053b-70ba-4412-a34b-749612756719",
   "metadata": {},
   "source": [
    "#### Output motifs per species"
   ]
  },
  {
   "cell_type": "code",
   "execution_count": 47,
   "id": "14624834-c9cf-4e20-9e54-efb7f6d74ecb",
   "metadata": {},
   "outputs": [
    {
     "name": "stderr",
     "output_type": "stream",
     "text": [
      "100%|██████████| 66/66 [00:00<00:00, 65973.32it/s]\n"
     ]
    }
   ],
   "source": [
    "temp = []\n",
    "from Bio import motifs\n",
    "dirnames = ['GCA_010726505.1']\n",
    "for dirname in mycobacteria_dirs:\n",
    "    filename = project_dir + '/Single_Species_MEME_FIMO/'+dirname +'/Temp_Second_MEME_Upstream_Output/meme.xml'\n",
    "    if os.path.exists(filename):\n",
    "        with open(filename) as f:\n",
    "            record = motifs.parse(f, 'MEME')\n",
    "        for motif in record:\n",
    "            if motif.id == 'motif_1':\n",
    "                temp.append([dirname_dict[dirname].replace(' ','_').replace('[','').replace(']',''), str(motif.consensus)])\n",
    "util.produce_fasta_file(temp, project_dir + '/unaligned_motifs.faa')\n",
    "cline = MuscleCommandline(muscle_exe, input= project_dir + '/unaligned_motifs.faa', out = project_dir + '/aligned_motifs.faa')\n"
   ]
  },
  {
   "cell_type": "code",
   "execution_count": 48,
   "id": "21db49a5-32fd-4c13-b7b0-213f736bdbdb",
   "metadata": {},
   "outputs": [],
   "source": [
    "temp = util.read_fasta_to_array(project_dir + '/aligned_motifs.faa')"
   ]
  },
  {
   "cell_type": "code",
   "execution_count": 49,
   "id": "a75f94e3-4040-4a20-ba5c-934aef52c2e3",
   "metadata": {},
   "outputs": [
    {
     "name": "stderr",
     "output_type": "stream",
     "text": [
      "100%|██████████| 100/100 [00:00<?, ?it/s]\n"
     ]
    }
   ],
   "source": [
    "for dirname in mycobacteria_dirs:\n",
    "    species = dirname_dict[dirname].replace(' ','_').replace('[','').replace(']','')\n",
    "    if species in temp[0]:\n",
    "        pass\n",
    "    else:\n",
    "        temp[0].append(species)\n",
    "        temp[1].append('-'*len(temp[1][0]))\n",
    "temp_2 = []\n",
    "for (x, y) in zip(temp[0],temp[1]):\n",
    "    temp_2.append([x,y])\n",
    "util.produce_fasta_file(temp_2, project_dir + '/aligned_motifs_plus_blanks.faa')"
   ]
  },
  {
   "cell_type": "markdown",
   "id": "9a1dadb3-0799-4a79-834b-e430c1715702",
   "metadata": {},
   "source": [
    "#### Final motif and searches"
   ]
  },
  {
   "cell_type": "code",
   "execution_count": 175,
   "id": "23ed590f-b6b9-4206-b591-b6ca506b3041",
   "metadata": {},
   "outputs": [
    {
     "name": "stderr",
     "output_type": "stream",
     "text": [
      "100%|██████████| 100/100 [07:11<00:00,  4.31s/it]\n"
     ]
    }
   ],
   "source": [
    "#temp_fimo_hits = pd.read_csv(project_dir + '/Second_FIMO_Upstream_Output/fimo.tsv', sep='\\t')\n",
    "hit_dict = {}\n",
    "for dirname in tqdm(mycobacteria_dirs):\n",
    "    temp_fimo_hits = pd.read_csv(project_dir + '/Single_Species_MEME_FIMO/' + dirname + '/fimo.tsv', sep='\\t')\n",
    "\n",
    "    for i, r in temp_fimo_hits.iterrows():\n",
    "        if '#' in r['motif_id']:\n",
    "            continue\n",
    "        organism = r['sequence_name']\n",
    "        motif_id = r['motif_alt_id']\n",
    "        temp = location(r['sequence_name'],int(r['start']), int(r['stop']), annotated_regions_dict)\n",
    "        if len(temp) > 0:\n",
    "            temp.sort(key = lambda x: float(x[3].strip('%')), reverse = True)\n",
    "            main_location = temp[0] #temp[0]\n",
    "        else:\n",
    "            main_location = ''\n",
    "        info = [int(r['start']), int(r['stop']), r['strand'], float(r['q-value']), main_location, r['matched_sequence'], r['motif_alt_id']]\n",
    "        if organism in hit_dict:\n",
    "            hit_dict[organism].append(info)\n",
    "        else:\n",
    "            hit_dict[organism] = [info]\n",
    "\n",
    "for k, v in hit_dict.items():\n",
    "    v.sort(key = lambda x: x[0])"
   ]
  },
  {
   "cell_type": "markdown",
   "id": "cd64039e-5a79-426c-8f78-9df2595a1ce4",
   "metadata": {},
   "source": [
    "#### Print tb hits"
   ]
  },
  {
   "cell_type": "code",
   "execution_count": null,
   "id": "4d55ccb2-e2e0-46a7-9c83-fd71b6197361",
   "metadata": {},
   "outputs": [],
   "source": [
    "for n, (start, stop, strand, q, loc, matched_seq, motif_id) in enumerate(hit_dict[tb_species]):\n",
    "    if q > 1e-2 or not(motif_id == 'MEME-1'):\n",
    "        continue\n",
    "    print((start, stop, strand, q, loc, matched_seq, motif_id))"
   ]
  },
  {
   "cell_type": "markdown",
   "id": "e6ad8a68-7826-42ce-b4dd-46426713930d",
   "metadata": {},
   "source": [
    "#### Print tb hits split by whether they are near (the motif + 17 complement motif pattern)"
   ]
  },
  {
   "cell_type": "code",
   "execution_count": 171,
   "id": "755dc968-fce2-451a-96a5-903dcfd95d46",
   "metadata": {},
   "outputs": [
    {
     "name": "stdout",
     "output_type": "stream",
     "text": [
      "no_pair [93380, 93401, '+', 0.00365, ['Rv0085', 'Possible hydrogenase HycP', 'CDS', '100%', '1'], 'GGGCCATTGTGCGGCTGCTGGC', 'MEME-1']\n",
      "\n",
      "17\n",
      "[183232, 183253, '-', 0.00103, ['Rv0154c:Rv0155', 'Probable acyl-CoA dehydrogenase FadE2:Probable NAD(P) transhydrogenase (subunit alpha) PntAa [first part; catalytic part] (pyridine nucleotide transhydrogenase subunit alpha) (nicotinamide nucleotide transhydrogenase subunit alpha)', 'Inter-feature', '100%', '-1:1'], 'AGGGACTTATGCGTCTGCTAGC', 'MEME-1']\n",
      "[183270, 183291, '+', 9.69e-07, ['Rv0154c:Rv0155', 'Probable acyl-CoA dehydrogenase FadE2:Probable NAD(P) transhydrogenase (subunit alpha) PntAa [first part; catalytic part] (pyridine nucleotide transhydrogenase subunit alpha) (nicotinamide nucleotide transhydrogenase subunit alpha)', 'Inter-feature', '100%', '-1:1'], 'AGGGGGTTTTGCGTCTGCTCGC', 'MEME-1']\n",
      "\n",
      "no_pair [231365, 231386, '+', 0.00581, ['Rv0195', 'Possible two component transcriptional regulatory protein (probably LuxR-family)', 'CDS', '100%', '1'], 'TGGCGGTGCTGCGTCTGCTAGC', 'MEME-1']\n",
      "\n",
      "no_pair [234447, 234468, '-', 7.91e-08, ['Rv0197', 'Possible oxidoreductase', 'CDS', '100%', '1'], 'GGGCGATTCTGCGTCTGCTCGG', 'MEME-1']\n",
      "\n",
      "17\n",
      "[253604, 253625, '-', 8.64e-08, ['Rv0211:Rv0212c', 'Probable iron-regulated phosphoenolpyruvate carboxykinase [GTP] PckA (phosphoenolpyruvate carboxylase) (PEPCK)(pep carboxykinase):Possible transcriptional regulatory protein NadR (probably AsnC-family)', 'Inter-feature', '100%', '1:-1'], 'GGGGGCTTATGCGTCTGCTCGC', 'MEME-1']\n",
      "[253642, 253663, '+', 0.00015, ['Rv0211:Rv0212c', 'Probable iron-regulated phosphoenolpyruvate carboxykinase [GTP] PckA (phosphoenolpyruvate carboxylase) (PEPCK)(pep carboxykinase):Possible transcriptional regulatory protein NadR (probably AsnC-family)', 'Inter-feature', '100%', '1:-1'], 'GAGGGCTTTAGTGTCTGCTCGC', 'MEME-1']\n",
      "\n",
      "17\n",
      "[279535, 279556, '-', 1.19e-08, ['Rv0233:Rv0234c', 'Ribonucleoside-diphosphate reductase (beta chain) NrdB (ribonucleotide reductase small chain):Succinate-semialdehyde dehydrogenase [NADP+] dependent (SSDH) GabD1', 'Inter-feature', '100%', '1:-1'], 'GGGCGATTTTGCGTCTGCTCGC', 'MEME-1']\n",
      "[279573, 279594, '+', 1.19e-08, ['Rv0233:Rv0234c', 'Ribonucleoside-diphosphate reductase (beta chain) NrdB (ribonucleotide reductase small chain):Succinate-semialdehyde dehydrogenase [NADP+] dependent (SSDH) GabD1', 'Inter-feature', '100%', '1:-1'], 'GGGCGATTTTGCGTCTGCTCGC', 'MEME-1']\n",
      "\n",
      "17\n",
      "[456202, 456223, '-', 5.78e-08, ['Rv0379:Rv0380c', 'Possible protein transport protein SecE2:Possible RNA methyltransferase (RNA methylase)', 'Inter-feature', '100%', '1:-1'], 'GTGCGATTTTGCGTCTGCTCGC', 'MEME-1']\n",
      "[456240, 456261, '+', 3.13e-07, ['Rv0379:Rv0380c', 'Possible protein transport protein SecE2:Possible RNA methyltransferase (RNA methylase)', 'Inter-feature', '100%', '1:-1'], 'GTGCGATTTTGTGTCTGCTCGC', 'MEME-1']\n",
      "\n",
      "17\n",
      "[459388, 459409, '-', 8.82e-05, ['Rv0383c:Rv0384c', 'Possible conserved secreted protein:Probable endopeptidase ATP binding protein (chain B) ClpB (ClpB protein) (heat shock protein F84.1)', 'Inter-feature', '100%', '-1:-1'], 'GTGCGATTCCTCGTCTGCTCGG', 'MEME-1']\n",
      "[459426, 459447, '+', 4.14e-05, ['Rv0383c:Rv0384c', 'Possible conserved secreted protein:Probable endopeptidase ATP binding protein (chain B) ClpB (ClpB protein) (heat shock protein F84.1)', 'Inter-feature', '100%', '-1:-1'], 'GTGCGATTCCGCGTCTGCTCGT', 'MEME-1']\n",
      "\n",
      "17\n",
      "[558818, 558839, '-', 2.88e-07, ['Rv0467:Rv0468', 'Isocitrate lyase Icl (isocitrase) (isocitratase):3-hydroxybutyryl-CoA dehydrogenase FadB2 (beta-hydroxybutyryl-CoA dehydrogenase) (BHBD)', 'Inter-feature', '100%', '1:1'], 'GGGTGCTTTTGCGTCTGCTCGG', 'MEME-1']\n",
      "[558856, 558877, '+', 3.61e-07, ['Rv0467:Rv0468', 'Isocitrate lyase Icl (isocitrase) (isocitratase):3-hydroxybutyryl-CoA dehydrogenase FadB2 (beta-hydroxybutyryl-CoA dehydrogenase) (BHBD)', 'Inter-feature', '100%', '1:1'], 'TGGCGCTTTTGCGTCTGCTCGC', 'MEME-1']\n",
      "\n",
      "17\n",
      "[663390, 663411, '-', 7.17e-08, ['Rv0570:Rv0571c', 'Probable ribonucleoside-diphosphate reductase (large subunit) NrdZ (ribonucleotide reductase):Conserved protein', 'Inter-feature', '100%', '1:-1'], 'GTGCGATTCTGCGTCTGCTCGC', 'MEME-1']\n",
      "[663428, 663449, '+', 2.35e-07, ['Rv0570:Rv0571c', 'Probable ribonucleoside-diphosphate reductase (large subunit) NrdZ (ribonucleotide reductase):Conserved protein', 'Inter-feature', '100%', '1:-1'], 'ATGCGATTCTGCGTCTGCTCGC', 'MEME-1']\n",
      "\n",
      "17\n",
      "[736233, 736254, '-', 8.64e-08, ['Rv0641:Rv0642c', '50S ribosomal protein L1 RplA:Methoxy mycolic acid synthase 4 MmaA4 (methyl mycolic acid synthase 4) (MMA4) (hydroxy mycolic acid synthase)', 'Inter-feature', '100%', '1:-1'], 'GGGGGCTTATGCGTCTGCTCGC', 'MEME-1']\n",
      "[736271, 736292, '+', 8.64e-08, ['Rv0641:Rv0642c', '50S ribosomal protein L1 RplA:Methoxy mycolic acid synthase 4 MmaA4 (methyl mycolic acid synthase 4) (MMA4) (hydroxy mycolic acid synthase)', 'Inter-feature', '100%', '1:-1'], 'GGGGGCTTATGCGTCTGCTCGC', 'MEME-1']\n",
      "\n",
      "no_pair [749253, 749274, '+', 5.6e-05, ['Rv0653c', 'Possible transcriptional regulatory protein (probably TetR-family)', 'CDS', '100%', '-1'], 'GTGTTCTTTTGCGTCTGCTCGG', 'MEME-1']\n",
      "\n",
      "17\n",
      "[755266, 755287, '-', 8.64e-08, ['Rv0660c:Rv0661c', 'Possible antitoxin MazE2:Possible toxin VapC7', 'Inter-feature', '100%', '-1:-1'], 'GGGGGCTTATGCGTCTGCTCGC', 'MEME-1']\n",
      "[755304, 755325, '+', 5.88e-07, ['Rv0660c:Rv0661c', 'Possible antitoxin MazE2:Possible toxin VapC7', 'Inter-feature', '100%', '-1:-1'], 'GGGGGCTTATGCGACTGCTCGC', 'MEME-1']\n",
      "\n",
      "17\n",
      "[767325, 767346, '-', 7.17e-08, ['Rv0668:Rv0669c', \"DNA-directed RNA polymerase (beta' chain) RpoC (transcriptase beta' chain) (RNA polymerase beta' subunit).:Possible hydrolase\", 'Inter-feature', '100%', '1:-1'], 'GTGCGATTCTGCGTCTGCTCGC', 'MEME-1']\n",
      "[767363, 767384, '+', 2.35e-07, ['Rv0668:Rv0669c', \"DNA-directed RNA polymerase (beta' chain) RpoC (transcriptase beta' chain) (RNA polymerase beta' subunit).:Possible hydrolase\", 'Inter-feature', '100%', '1:-1'], 'ATGCGATTCTGCGTCTGCTCGC', 'MEME-1']\n",
      "\n",
      "no_pair [786064, 786085, '+', 6.96e-05, ['Rv0685:Rv0686', 'Probable iron-regulated elongation factor TU Tuf (EF-TU):Probable membrane protein', 'Inter-feature', '100%', '1:1'], 'ATGTTCTTTTGCGTCTGCTCGC', 'MEME-1']\n",
      "\n",
      "98\n",
      "[786970, 786991, '-', 2.08e-05, ['Rv0686:Rv0687', 'Probable membrane protein:Probable short-chain type dehydrogenase/reductase', 'Inter-feature', '100%', '1:1'], 'GCGGGCTTTCGCGTCTGCTCGC', 'MEME-1']\n",
      "[787089, 787110, '+', 0.00524, ['Rv0687', 'Probable short-chain type dehydrogenase/reductase', 'CDS', '57%', '1'], 'AGGGGCGTATGTGTCTGCGCGG', 'MEME-1']\n",
      "\n",
      "17\n",
      "[806172, 806193, '-', 2.08e-05, ['Rv0710:Rv0711', '30S ribosomal protein S17 RpsQ:Possible arylsulfatase AtsA (aryl-sulfate sulphohydrolase) (arylsulphatase)', 'Inter-feature', '100%', '1:1'], 'GGGGGCTTTTGCGACTGCTCGT', 'MEME-1']\n",
      "[806210, 806231, '+', 2.31e-07, ['Rv0710:Rv0711', '30S ribosomal protein S17 RpsQ:Possible arylsulfatase AtsA (aryl-sulfate sulphohydrolase) (arylsulphatase)', 'Inter-feature', '100%', '1:1'], 'GGGGGCTTTTGCGACTGCTCGC', 'MEME-1']\n",
      "\n",
      "17\n",
      "[815637, 815658, '-', 2.94e-07, ['Rv0723:Rv0724', '50S ribosomal protein L15 RplO:Possible protease IV SppA (endopeptidase IV) (signal peptide peptidase)', 'Inter-feature', '100%', '1:1'], 'GGGGCATTTTGCGTCTGCTCGC', 'MEME-1']\n",
      "[815675, 815696, '+', 3.93e-08, ['Rv0724', 'Possible protease IV SppA (endopeptidase IV) (signal peptide peptidase)', 'CDS', '100%', '1'], 'GGGGGCTTTTGCGTCTGCTCGC', 'MEME-1']\n",
      "\n",
      "17\n",
      "[829707, 829728, '-', 3.73e-05, ['Rv0737:Rv0738', 'Possible transcriptional regulatory protein:Conserved protein', 'Inter-feature', '100%', '1:1'], 'GGGCGCTTACGCGTCTGCCCGC', 'MEME-1']\n",
      "[829745, 829766, '+', 7.03e-08, ['Rv0737:Rv0738', 'Possible transcriptional regulatory protein:Conserved protein', 'Inter-feature', '100%', '1:1'], 'GGGCGCTTATGCGTCTGCTCGC', 'MEME-1']\n",
      "\n",
      "no_pair [832328, 832349, '-', 7.03e-08, ['Rv0740:Rv0741', 'Conserved hypothetical protein:Probable transposase (fragment)', 'Inter-feature', '100%', '1:1'], 'GGGCGCTTATGCGTCTGCTCGC', 'MEME-1']\n",
      "\n",
      "17\n",
      "[842303, 842324, '-', 7.03e-08, ['Rv0750:Rv0751c', 'Conserved hypothetical protein:Probable 3-hydroxyisobutyrate dehydrogenase MmsB (hibadh)', 'Inter-feature', '100%', '1:-1'], 'GGGCGCTTATGCGTCTGCTCGC', 'MEME-1']\n",
      "[842341, 842362, '+', 7.03e-08, ['Rv0751c', 'Probable 3-hydroxyisobutyrate dehydrogenase MmsB (hibadh)', 'CDS', '76%', '-1'], 'GGGCGCTTATGCGTCTGCTCGC', 'MEME-1']\n",
      "\n",
      "no_pair [888713, 888734, '-', 0.00931, ['Rv0794c:repeat_region', 'Probable oxidoreductase:', 'Inter-feature', '100%', '-1:1'], 'GAGAGCTTTTGCGTCTGGTGGG', 'MEME-1']\n",
      "\n",
      "19\n",
      "[937338, 937359, '-', 0.000566, ['Rv0840c:Rv0841', 'Probable proline iminopeptidase Pip (prolyl aminopeptidase) (pap):Probable conserved transmembrane protein', 'Inter-feature', '100%', '-1:1'], 'GTGCGATTCTGCGTCTGTTGGT', 'MEME-1']\n",
      "[937378, 937399, '+', 0.00705, ['Rv0840c:Rv0841', 'Probable proline iminopeptidase Pip (prolyl aminopeptidase) (pap):Probable conserved transmembrane protein', 'Inter-feature', '100%', '-1:1'], 'GTGCGAGTTTGCGTCGCCTCGC', 'MEME-1']\n",
      "\n",
      "17\n",
      "[958458, 958479, '-', 2.28e-07, ['Rv0860:Rv0861c', 'Probable fatty oxidation protein FadB:DNA helicase Ercc3', 'Inter-feature', '100%', '1:-1'], 'GGGGGCTTTTACGTCTGCTCGC', 'MEME-1']\n",
      "[958496, 958517, '+', 2.28e-07, ['Rv0860:Rv0861c', 'Probable fatty oxidation protein FadB:DNA helicase Ercc3', 'Inter-feature', '100%', '1:-1'], 'GGGGGCTTTTACGTCTGCTCGC', 'MEME-1']\n",
      "\n",
      "17\n",
      "[1000772, 1000793, '-', 3.93e-08, ['Rv0896:Rv0897c', 'Probable citrate synthase I GltA2:Probable oxidoreductase', 'Inter-feature', '100%', '1:-1'], 'GGGGGCTTTTGCGTCTGCTCGC', 'MEME-1']\n",
      "[1000810, 1000831, '+', 1.02e-07, ['Rv0897c', 'Probable oxidoreductase', 'CDS', '100%', '-1'], 'AGGGGCTTTTGCGTCTGCTCGC', 'MEME-1']\n",
      "\n",
      "17\n",
      "[1006619, 1006640, '-', 1.17e-05, ['Rv0903c:Rv0904c', 'Two component response transcriptional regulatory protein PrrA:Putative acetyl-coenzyme A carboxylase carboxyl transferase (subunit beta) AccD3 (accase beta chain)', 'Inter-feature', '100%', '-1:-1'], 'ATGCGACTCTGTGTCTGCTCGC', 'MEME-1']\n",
      "[1006657, 1006678, '+', 4.01e-06, ['Rv0903c:Rv0904c', 'Two component response transcriptional regulatory protein PrrA:Putative acetyl-coenzyme A carboxylase carboxyl transferase (subunit beta) AccD3 (accase beta chain)', 'Inter-feature', '100%', '-1:-1'], 'GTGCGACTCTGTGTCTGCTCGC', 'MEME-1']\n",
      "\n",
      "no_pair [1033807, 1033828, '+', 0.00843, ['Rv0926c:Rv0927c', 'Conserved hypothetical protein:Probable short-chain type dehydrogenase/reductase', 'Inter-feature', '100%', '-1:-1'], 'GGGTCAGACTGCGACTGCTCGC', 'MEME-1']\n",
      "\n",
      "17\n",
      "[1064053, 1064074, '-', 8.64e-08, ['Rv0952:Rv0953c', 'Probable succinyl-CoA synthetase (alpha chain) SucD (SCS-alpha):Possible oxidoreductase', 'Inter-feature', '100%', '1:-1'], 'GGGGGCTTATGCGTCTGCTCGC', 'MEME-1']\n",
      "[1064091, 1064112, '+', 8.64e-08, ['Rv0952:Rv0953c', 'Probable succinyl-CoA synthetase (alpha chain) SucD (SCS-alpha):Possible oxidoreductase', 'Inter-feature', '100%', '1:-1'], 'GGGGGCTTATGCGTCTGCTCGC', 'MEME-1']\n",
      "\n",
      "17\n",
      "[1133265, 1133286, '-', 2.35e-07, ['Rv1013:Rv1014c', 'Putative polyketide synthase Pks16:Probable peptidyl-tRNA hydrolase Pth', 'Inter-feature', '100%', '1:-1'], 'AGGGGATTTTGCGTCTGCTCGG', 'MEME-1']\n",
      "[1133303, 1133324, '+', 8.56e-07, ['Rv1013:Rv1014c', 'Putative polyketide synthase Pks16:Probable peptidyl-tRNA hydrolase Pth', 'Inter-feature', '100%', '1:-1'], 'AGGGGATTTTGCGTCTGCTCAC', 'MEME-1']\n",
      "\n",
      "17\n",
      "[1182321, 1182342, '-', 1.19e-08, ['Rv1058:Rv1059', 'Probable medium chain fatty-acid-CoA ligase FadD14 (fatty-acid-CoA synthetase) (fatty-acid-CoA synthase):Conserved protein', 'Inter-feature', '100%', '1:1'], 'GGGCGATTTTGCGTCTGCTCGC', 'MEME-1']\n",
      "[1182359, 1182380, '+', 3.93e-08, ['Rv1058:Rv1059', 'Probable medium chain fatty-acid-CoA ligase FadD14 (fatty-acid-CoA synthetase) (fatty-acid-CoA synthase):Conserved protein', 'Inter-feature', '100%', '1:1'], 'GGGGGCTTTTGCGTCTGCTCGC', 'MEME-1']\n",
      "\n",
      "16\n",
      "[1205239, 1205260, '-', 8.27e-07, ['Rv1079:Rv1080c', 'Cystathionine gamma-synthase MetB (CGS) (O-succinylhomoserine [thiol]-lyase):Probable transcription elongation factor GreA (transcript cleavage factor GreA)', 'Inter-feature', '100%', '1:-1'], 'GGGTGCTTTCGCGTCTGCTCGC', 'MEME-1']\n",
      "[1205276, 1205297, '+', 5.6e-08, ['Rv1079:Rv1080c', 'Cystathionine gamma-synthase MetB (CGS) (O-succinylhomoserine [thiol]-lyase):Probable transcription elongation factor GreA (transcript cleavage factor GreA)', 'Inter-feature', '100%', '1:-1'], 'GGGGGCTTCTGCGTCTGCTCGC', 'MEME-1']\n",
      "\n",
      "17\n",
      "[1224310, 1224331, '-', 4.69e-07, ['Rv1095:Rv1096', 'Probable PHOH-like protein PhoH2 (phosphate starvation-inducible protein PSIH):Possible glycosyl hydrolase', 'Inter-feature', '100%', '1:1'], 'GTGCGATTCTGTGTCTGCTCGC', 'MEME-1']\n",
      "[1224348, 1224369, '+', 4.25e-05, ['Rv1095:Rv1096', 'Probable PHOH-like protein PhoH2 (phosphate starvation-inducible protein PSIH):Possible glycosyl hydrolase', 'Inter-feature', '100%', '1:1'], 'GTGCGATTCTGTGTCTGCTTGC', 'MEME-1']\n",
      "\n",
      "no_pair [1313371, 1313392, '+', 3.1e-07, ['Rv1179c:Rv1180', 'Unknown protein:Probable polyketide beta-ketoacyl synthase Pks3', 'Inter-feature', '100%', '-1:1'], 'GGGGCCTTTTGCGTCTGCTCGC', 'MEME-1']\n",
      "\n",
      "17\n",
      "[1345183, 1345204, '-', 0.000122, ['Rv1201c:Rv1202', 'Tetrahydrodipicolinate N-succinyltransferase DapD:Probable succinyl-diaminopimelate desuccinylase DapE', 'Inter-feature', '100%', '-1:1'], 'GGGTGGTTTTGTGTCTGTTCGG', 'MEME-1']\n",
      "[1345221, 1345242, '+', 2.88e-07, ['Rv1201c:Rv1202', 'Tetrahydrodipicolinate N-succinyltransferase DapD:Probable succinyl-diaminopimelate desuccinylase DapE', 'Inter-feature', '100%', '-1:1'], 'GGGTGCTTTTGCGTCTGCTCGG', 'MEME-1']\n",
      "\n",
      "17\n",
      "[1357065, 1357086, '-', 2.28e-07, ['Rv1213:Rv1214c', 'Glucose-1-phosphate adenylyltransferase GlgC (ADP-glucose synthase) (ADP-glucose pyrophosphorylase):PE family protein PE14', 'Inter-feature', '100%', '1:-1'], 'GGGCGATTCTGTGTCTGCTCGC', 'MEME-1']\n",
      "[1357103, 1357124, '+', 7.91e-08, ['Rv1213:Rv1214c', 'Glucose-1-phosphate adenylyltransferase GlgC (ADP-glucose synthase) (ADP-glucose pyrophosphorylase):PE family protein PE14', 'Inter-feature', '100%', '1:-1'], 'GGGCGATTCTGCGTCTGCTCGG', 'MEME-1']\n",
      "\n",
      "17\n",
      "[1363439, 1363460, '-', 5.78e-08, ['Rv1219c:Rv1220c', 'Probable transcriptional regulatory protein:Probable methyltransferase', 'Inter-feature', '100%', '-1:-1'], 'GGGCGATTTTGCGTCTGCTCGG', 'MEME-1']\n",
      "[1363477, 1363498, '+', 1.19e-08, ['Rv1219c:Rv1220c', 'Probable transcriptional regulatory protein:Probable methyltransferase', 'Inter-feature', '100%', '-1:-1'], 'GGGCGATTTTGCGTCTGCTCGC', 'MEME-1']\n",
      "\n",
      "17\n",
      "[1371707, 1371728, '-', 0.000136, ['Rv1228:Rv1229c', 'Probable lipoprotein LpqX:Probable Mrp-related protein Mrp', 'Inter-feature', '100%', '1:-1'], 'GGGTGCCGTTGCGTCTGCTCGG', 'MEME-1']\n",
      "[1371745, 1371766, '+', 7.73e-05, ['Rv1228:Rv1229c', 'Probable lipoprotein LpqX:Probable Mrp-related protein Mrp', 'Inter-feature', '100%', '1:-1'], 'GGGTTCTTTTGCGTCTGCTCAC', 'MEME-1']\n",
      "\n",
      "18\n",
      "[1381871, 1381892, '-', 4.43e-05, ['Rv1238:Rv1239c', 'Probable sugar-transport ATP-binding protein ABC transporter SugC:Possible magnesium and cobalt transport transmembrane protein CorA', 'Inter-feature', '100%', '1:-1'], 'GGGGGCTTATGTGTCCGCTCGC', 'MEME-1']\n",
      "[1381910, 1381931, '+', 0.00501, ['Rv1238:Rv1239c', 'Probable sugar-transport ATP-binding protein ABC transporter SugC:Possible magnesium and cobalt transport transmembrane protein CorA', 'Inter-feature', '100%', '1:-1'], 'GGAGCTTTTTGCGTCTGTTCGC', 'MEME-1']\n",
      "\n",
      "no_pair [1468139, 1468160, '-', 4.06e-06, ['repeat_region', '', 'repeat_region', '85%', '1'], 'GGGGGCTTTTGCGTCTGCTGAC', 'MEME-1']\n",
      "\n",
      "no_pair [1469634, 1469655, '+', 2.35e-07, ['mobile_element', '', 'mobile_element', '80%', '-1'], 'GGGGGCTTTCGCGTCTGCTCGC', 'MEME-1']\n",
      "\n",
      "17\n",
      "[1488085, 1488106, '-', 9.46e-08, ['Rv1324:Rv1325c', 'Possible thioredoxin:PE-PGRS family protein PE_PGRS24', 'Inter-feature', '100%', '1:-1'], 'AGGCGATTCTGCGTCTGCTCGC', 'MEME-1']\n",
      "[1488123, 1488144, '+', 9.46e-08, ['Rv1324:Rv1325c', 'Possible thioredoxin:PE-PGRS family protein PE_PGRS24', 'Inter-feature', '100%', '1:-1'], 'AGGCGATTCTGCGTCTGCTCGC', 'MEME-1']\n",
      "\n",
      "no_pair [1495114, 1495135, '+', 0.0085, ['Rv1328', 'Probable glycogen phosphorylase GlgP', 'CDS', '100%', '1'], 'GGCTGCCGTTGCGTCTGCTCAC', 'MEME-1']\n",
      "\n",
      "17\n",
      "[1497160, 1497181, '-', 0.000142, ['Rv1328:Rv1329c', 'Probable glycogen phosphorylase GlgP:Probable ATP-dependent helicase DinG', 'Inter-feature', '100%', '1:-1'], 'AGGAGCTTTTGCGTCTTCTCGG', 'MEME-1']\n",
      "[1497198, 1497219, '+', 7.89e-08, ['Rv1329c', 'Probable ATP-dependent helicase DinG', 'CDS', '100%', '-1'], 'GTGGGCTTTTGCGTCTGCTCGC', 'MEME-1']\n",
      "\n",
      "no_pair [1545648, 1545669, '-', 0.00396, ['Rv1372', 'Conserved hypothetical protein', 'CDS', '100%', '1'], 'GGGAGATTCTCCGACAGCTCGC', 'MEME-1']\n",
      "\n",
      "17\n",
      "[1568047, 1568068, '-', 7.17e-08, ['Rv1392:Rv1393c', 'Probable S-adenosylmethionine synthetase MetK (mat) (AdoMet synthetase) (methionine adenosyltransferase):Probable monoxygenase', 'Inter-feature', '100%', '1:-1'], 'GTGCGATTCTGCGTCTGCTCGC', 'MEME-1']\n",
      "[1568085, 1568106, '+', 1.83e-07, ['Rv1392:Rv1393c', 'Probable S-adenosylmethionine synthetase MetK (mat) (AdoMet synthetase) (methionine adenosyltransferase):Probable monoxygenase', 'Inter-feature', '100%', '1:-1'], 'GTGCGATTCTGCGTCTGCTCGG', 'MEME-1']\n",
      "\n",
      "17\n",
      "[1828800, 1828821, '-', 1.19e-08, ['Rv1626:Rv1627c', 'Probable two-component system transcriptional regulator:Probable nonspecific lipid-transfer protein', 'Inter-feature', '100%', '1:-1'], 'GGGCGATTTTGCGTCTGCTCGC', 'MEME-1']\n",
      "[1828838, 1828859, '+', 1.19e-08, ['Rv1626:Rv1627c', 'Probable two-component system transcriptional regulator:Probable nonspecific lipid-transfer protein', 'Inter-feature', '100%', '1:-1'], 'GGGCGATTTTGCGTCTGCTCGC', 'MEME-1']\n",
      "\n",
      "17\n",
      "[1872570, 1872591, '-', 7.17e-08, ['Rv1658:Rv1659', 'Probable argininosuccinate synthase ArgG:Probable argininosuccinate lyase ArgH', 'Inter-feature', '100%', '1:1'], 'GTGCGATTCTGCGTCTGCTCGC', 'MEME-1']\n",
      "[1872608, 1872629, '+', 7.17e-08, ['Rv1658:Rv1659', 'Probable argininosuccinate synthase ArgG:Probable argininosuccinate lyase ArgH', 'Inter-feature', '100%', '1:1'], 'GTGCGATTCTGCGTCTGCTCGC', 'MEME-1']\n",
      "\n",
      "17\n",
      "[2075533, 2075554, '-', 7.06e-06, ['Rv1830:Rv1831', 'Conserved hypothetical protein:Hypothetical protein', 'Inter-feature', '100%', '1:1'], 'GTGCGATTCTGTGTCTGTTCGC', 'MEME-1']\n",
      "[2075571, 2075592, '+', 0.000116, ['Rv1831', 'Hypothetical protein', 'CDS', '100%', '1'], 'ATGCGATTGTGTGTCTGCTCGG', 'MEME-1']\n",
      "\n",
      "18\n",
      "[2317103, 2317124, '-', 7.17e-08, ['Rv2061c:Rv2062c', 'Conserved protein:Cobalamin biosynthesis protein CobN', 'Inter-feature', '100%', '-1:-1'], 'GTGCGATTCTGCGTCTGCTCGC', 'MEME-1']\n",
      "[2317142, 2317163, '+', 2.35e-07, ['Rv2061c:Rv2062c', 'Conserved protein:Cobalamin biosynthesis protein CobN', 'Inter-feature', '100%', '-1:-1'], 'ATGCGATTCTGCGTCTGCTCGC', 'MEME-1']\n",
      "\n",
      "no_pair [2398630, 2398651, '-', 0.00331, ['Rv2138:Rv2139', 'Probable conserved lipoprotein LppL:Probable dihydroorotate dehydrogenase PyrD', 'Inter-feature', '100%', '1:1'], 'GTTCGCCTCTGCGTCTGCCCAG', 'MEME-1']\n",
      "\n",
      "no_pair [2439146, 2439167, '-', 2.31e-07, ['Rv2176:Rv2177c', 'Probable transmembrane serine/threonine-protein kinase L PknL (protein kinase L) (STPK L):Possible transposase', 'Inter-feature', '100%', '1:-1'], 'GGGGGCTTTTGCGACTGCTCGC', 'MEME-1']\n",
      "\n",
      "no_pair [2440306, 2440327, '+', 0.00099, ['mobile_element:Rv2178c', ':3-deoxy-D-arabino-heptulosonate 7-phosphate synthase AroG (DAHP synthetase, phenylalanine-repressible)', 'Inter-feature', '100%', '-1:-1'], 'ATGTTCTTTTACGACTGCTCGC', 'MEME-1']\n",
      "\n",
      "17\n",
      "[2451179, 2451200, '-', 1.71e-06, ['Rv2188c:Rv2189c', 'Mannosyltransferase PimB:Conserved hypothetical protein', 'Inter-feature', '100%', '-1:-1'], 'GGGCGACTTTGCGTCTGCTCAC', 'MEME-1']\n",
      "[2451217, 2451238, '+', 1.02e-07, ['Rv2188c:Rv2189c', 'Mannosyltransferase PimB:Conserved hypothetical protein', 'Inter-feature', '100%', '-1:-1'], 'GGGTGATTTTGCGTCTGCTCGC', 'MEME-1']\n",
      "\n",
      "17\n",
      "[2466966, 2466987, '-', 1.66e-06, ['Rv2201:Rv2202c', 'Probable asparagine synthetase AsnB:Adenosine kinase', 'Inter-feature', '100%', '1:-1'], 'ATGCGATTCCGCGTCTGCTCGC', 'MEME-1']\n",
      "[2467004, 2467025, '+', 1.26e-06, ['Rv2201:Rv2202c', 'Probable asparagine synthetase AsnB:Adenosine kinase', 'Inter-feature', '100%', '1:-1'], 'GTGCGATTCCGCGTCTGCTCGG', 'MEME-1']\n",
      "\n",
      "17\n",
      "[2522173, 2522194, '-', 7.17e-08, ['repeat_region', '', 'repeat_region', '100%', '1'], 'GTGCGATTCTGCGTCTGCTCGC', 'MEME-1']\n",
      "[2522211, 2522232, '+', 7.17e-08, ['repeat_region', '', 'repeat_region', '90%', '1'], 'GTGCGATTCTGCGTCTGCTCGC', 'MEME-1']\n",
      "\n",
      "14\n",
      "[2523182, 2523203, '-', 5.26e-06, ['repeat_region', '', 'repeat_region', '95%', '1'], 'GTGCGACTCTGCGTCTGCTCAC', 'MEME-1']\n",
      "[2523217, 2523238, '+', 6.47e-07, ['repeat_region', '', 'repeat_region', '90%', '1'], 'GTGCGACTCTGCGTCTGCTCGC', 'MEME-1']\n",
      "\n",
      "17\n",
      "[2546436, 2546457, '-', 5.8e-07, ['Rv2273:Rv2274c', 'Probable conserved transmembrane protein:Possible toxin MazF8', 'Inter-feature', '100%', '1:-1'], 'GGGGGCTTTTGCGTCTGTTCGC', 'MEME-1']\n",
      "[2546474, 2546495, '+', 4.51e-06, ['Rv2273:Rv2274c', 'Probable conserved transmembrane protein:Possible toxin MazF8', 'Inter-feature', '61%', '1:-1'], 'GGGGGCTTTTGCGTCTACTCGC', 'MEME-1']\n",
      "\n",
      "17\n",
      "[2554866, 2554887, '-', 3.01e-06, ['Rv2281:Rv2282c', 'Putative phosphate-transport permease PitB:Probable transcription regulator (LysR family)', 'Inter-feature', '100%', '1:-1'], 'GGGGGCTTTAGCGACTGCTCGC', 'MEME-1']\n",
      "[2554904, 2554925, '+', 5.88e-07, ['Rv2281:Rv2282c', 'Putative phosphate-transport permease PitB:Probable transcription regulator (LysR family)', 'Inter-feature', '100%', '1:-1'], 'GGGGGCTTATGCGACTGCTCGC', 'MEME-1']\n",
      "\n",
      "17\n",
      "[2700469, 2700490, '-', 5.78e-08, ['Rv2402:Rv2403c', 'Conserved protein:Probable conserved lipoprotein LppR', 'Inter-feature', '100%', '1:-1'], 'GGGCGATTTTGCGTCTGCTCGG', 'MEME-1']\n",
      "[2700507, 2700528, '+', 5.78e-08, ['Rv2402:Rv2403c', 'Conserved protein:Probable conserved lipoprotein LppR', 'Inter-feature', '100%', '1:-1'], 'GGGCGATTTTGCGTCTGCTCGG', 'MEME-1']\n",
      "\n",
      "no_pair [2720640, 2720661, '-', 1.86e-06, ['repeat_region', '', 'repeat_region', '61%', '1'], 'GGGGGCTTTTGCGACTGCTCAC', 'MEME-1']\n",
      "\n",
      "17\n",
      "[2751597, 2751618, '-', 2.94e-07, ['Rv2449c:Rv2450c', 'Conserved protein:Probable resuscitation-promoting factor RpfE', 'Inter-feature', '100%', '-1:-1'], 'GGGAGCTTTTGCGTCTGCTCGC', 'MEME-1']\n",
      "[2751635, 2751656, '+', 0.000244, ['Rv2449c:Rv2450c', 'Conserved protein:Probable resuscitation-promoting factor RpfE', 'Inter-feature', '100%', '-1:-1'], 'GGGAGCTTTTGCGTCTTTTCGC', 'MEME-1']\n",
      "\n",
      "17\n",
      "[2839476, 2839497, '-', 2.05e-06, ['Rv2522c', 'Conserved hypothetical protein', 'CDS', '100%', '-1'], 'ATGCGACTCTGCGTCTGCTCGC', 'MEME-1']\n",
      "[2839514, 2839535, '+', 2.35e-07, ['Rv2522c', 'Conserved hypothetical protein', 'CDS', '100%', '-1'], 'ATGCGATTCTGCGTCTGCTCGC', 'MEME-1']\n",
      "\n",
      "no_pair [2904168, 2904189, '+', 0.00529, ['Rv2579', 'Possible haloalkane dehalogenase DhaA (1-chlorohexane halidohydrolase)', 'CDS', '100%', '1'], 'GGGCGATCCTGCGACAGCTCAG', 'MEME-1']\n",
      "\n",
      "17\n",
      "[2907752, 2907773, '-', 1.16e-06, ['Rv2582:Rv2583c', \"Probable peptidyl-prolyl cis-trans isomerase B PpiB (cyclophilin) (PPIase) (rotamase) (peptidylprolyl isomerase):Probable GTP pyrophosphokinase RelA (ATP:GTP 3'-pyrophosphotransferase) (PPGPP synthetase I) ((P)PPGPP synthetase) (GTP diphosphokinase)\", 'Inter-feature', '100%', '1:-1'], 'GTGCGATTCTGTGTCTGCTCGG', 'MEME-1']\n",
      "[2907790, 2907811, '+', 5.99e-07, ['Rv2582:Rv2583c', \"Probable peptidyl-prolyl cis-trans isomerase B PpiB (cyclophilin) (PPIase) (rotamase) (peptidylprolyl isomerase):Probable GTP pyrophosphokinase RelA (ATP:GTP 3'-pyrophosphotransferase) (PPGPP synthetase I) ((P)PPGPP synthetase) (GTP diphosphokinase)\", 'Inter-feature', '100%', '1:-1'], 'ATGCGATTCTGCGTCTGCTCGG', 'MEME-1']\n",
      "\n",
      "17\n",
      "[2931637, 2931658, '-', 0.000777, ['Rv2603c:Rv2604c', 'Highly conserved protein:Probable glutamine amidotransferase SnoP', 'Inter-feature', '100%', '-1:-1'], 'TGGAGCTTTTGTGTCTGCTCGT', 'MEME-1']\n",
      "[2931675, 2931696, '+', 6.11e-06, ['Rv2603c:Rv2604c', 'Highly conserved protein:Probable glutamine amidotransferase SnoP', 'Inter-feature', '80%', '-1:-1'], 'GGGTGCTTTTGCGACTGCTCAC', 'MEME-1']\n",
      "\n",
      "17\n",
      "[3059791, 3059812, '-', 7.17e-08, ['Rv2747:Rv2748c', 'Probable L-glutamate alpha-N-acetyltranferase ArgA (alpha-N-acetylglutamate synthase):Possible cell division transmembrane protein FtsK', 'Inter-feature', '100%', '1:-1'], 'AGGCGATTTTGCGTCTGCTCGC', 'MEME-1']\n",
      "[3059829, 3059850, '+', 5.78e-08, ['Rv2747:Rv2748c', 'Probable L-glutamate alpha-N-acetyltranferase ArgA (alpha-N-acetylglutamate synthase):Possible cell division transmembrane protein FtsK', 'Inter-feature', '100%', '1:-1'], 'GGGCGATTTTGCGTCTGCTCGG', 'MEME-1']\n",
      "\n",
      "17\n",
      "[3075379, 3075400, '-', 5.13e-05, ['Rv2765:Rv2766c', 'Probable alanine rich hydrolase:Probable short-chain type dehydrogenase/reductase', 'Inter-feature', '100%', '1:-1'], 'ATGCGATTCTGCGTCTGCTTGG', 'MEME-1']\n",
      "[3075417, 3075438, '+', 1.99e-05, ['Rv2765:Rv2766c', 'Probable alanine rich hydrolase:Probable short-chain type dehydrogenase/reductase', 'Inter-feature', '100%', '1:-1'], 'GTGCGATTCTGCGTCTGCTTGG', 'MEME-1']\n",
      "\n",
      "17\n",
      "[3104979, 3105000, '-', 2.88e-07, ['Rv2795c:Rv2796c', 'Conserved hypothetical protein:Probable conserved lipoprotein LppV', 'Inter-feature', '100%', '-1:-1'], 'GGGGGCTTTTGCGTCTGCTCAC', 'MEME-1']\n",
      "[3105017, 3105038, '+', 8.64e-08, ['Rv2795c:Rv2796c', 'Conserved hypothetical protein:Probable conserved lipoprotein LppV', 'Inter-feature', '100%', '-1:-1'], 'GGGGGCTTTTGCGTCTGCTCGG', 'MEME-1']\n",
      "\n",
      "17\n",
      "[3152970, 3152991, '-', 7.03e-08, ['Rv2845c:Rv2846c', 'Probable prolyl-tRNA synthetase ProS (proline--tRNA ligase) (PRORS) (global RNA synthesis factor) (proline translase):Possible integral membrane efflux protein EfpA', 'Inter-feature', '100%', '-1:-1'], 'GGGCGCTTTTGCGTCTGCTCGG', 'MEME-1']\n",
      "[3153008, 3153029, '+', 9.66e-05, ['Rv2845c:Rv2846c', 'Probable prolyl-tRNA synthetase ProS (proline--tRNA ligase) (PRORS) (global RNA synthesis factor) (proline translase):Possible integral membrane efflux protein EfpA', 'Inter-feature', '100%', '-1:-1'], 'GGGAGCTTTTATGACTGCTCGG', 'MEME-1']\n",
      "\n",
      "no_pair [3173095, 3173116, '-', 0.00724, ['Rv2860c:Rv2861c', 'Probable glutamine synthetase GlnA4 (glutamine synthase) (GS-II):Methionine aminopeptidase MapB (map) (peptidase M)', 'Inter-feature', '100%', '-1:-1'], 'ATGTTCTTTCGCGTCTACTCGC', 'MEME-1']\n",
      "\n",
      "17\n",
      "[3215597, 3215618, '-', 5.8e-07, ['Rv2905:Rv2906c', 'Probable conserved alanine rich lipoprotein LppW:Probable tRNA (guanine-N1)-methyltransferase TrmD (M1G-methyltransferase) (tRNA [GM37] methyltransferase)', 'Inter-feature', '100%', '1:-1'], 'GGTGGCTTTTGCGTCTGCTCGC', 'MEME-1']\n",
      "[3215635, 3215656, '+', 2.28e-07, ['Rv2905:Rv2906c', 'Probable conserved alanine rich lipoprotein LppW:Probable tRNA (guanine-N1)-methyltransferase TrmD (M1G-methyltransferase) (tRNA [GM37] methyltransferase)', 'Inter-feature', '100%', '1:-1'], 'GGGGGATTTCGCGTCTGCTCGC', 'MEME-1']\n",
      "\n",
      "no_pair [3219250, 3219271, '+', 0.000489, ['Rv2911:Rv2912c', 'Probable penicillin-binding protein DacB2 (D-alanyl-D-alanine carboxypeptidase) (DD-peptidase) (DD-carboxypeptidase) (PBP) (DD-transpeptidase) (serine-type D-ala-D-ala carboxypeptidase) (D-amino acid hydrolase):Probable transcriptional regulatory protein (probably TetR-family)', 'Inter-feature', '100%', '1:-1'], 'ATGTTCTTTTGCGTCTGCTGGC', 'MEME-1']\n",
      "\n",
      "17\n",
      "[3348481, 3348502, '-', 1.19e-08, ['Rv2991:tRNA', 'Conserved protein:tRNA-Glu', 'Inter-feature', '100%', '1:-1'], 'GGGCGATTTTGCGTCTGCTCGC', 'MEME-1']\n",
      "[3348519, 3348540, '+', 5.78e-08, ['Rv2991:tRNA', 'Conserved protein:tRNA-Glu', 'Inter-feature', '100%', '1:-1'], 'GGGCGATTTTGCGTCTGCTCGG', 'MEME-1']\n",
      "\n",
      "17\n",
      "[3369888, 3369909, '-', 4.69e-07, ['Rv3010c:Rv3011c', 'Probable 6-phosphofructokinase PfkA (phosphohexokinase) (phosphofructokinase):Probable glutamyl-tRNA(GLN) amidotransferase (subunit A) GatA (Glu-ADT subunit A)', 'Inter-feature', '100%', '-1:-1'], 'GTGCGATTCTGTGTCTGCTCGC', 'MEME-1']\n",
      "[3369926, 3369947, '+', 9.58e-05, ['Rv3010c:Rv3011c', 'Probable 6-phosphofructokinase PfkA (phosphohexokinase) (phosphofructokinase):Probable glutamyl-tRNA(GLN) amidotransferase (subunit A) GatA (Glu-ADT subunit A)', 'Inter-feature', '100%', '-1:-1'], 'ATGCGAGTCTGTGTCTGCTCGC', 'MEME-1']\n",
      "\n",
      "17\n",
      "[3387006, 3387027, '-', 0.00365, ['Rv3027c:Rv3028c', 'GCN5-related N-acetyltransferase:Probable electron transfer flavoprotein (alpha-subunit) FixB (alpha-ETF) (electron transfer flavoprotein large subunit) (ETFLS)', 'Inter-feature', '100%', '-1:-1'], 'GGGGGCCTTGGCGCCTGCTCAC', 'MEME-1']\n",
      "[3387044, 3387065, '+', 2.26e-05, ['Rv3027c:Rv3028c', 'GCN5-related N-acetyltransferase:Probable electron transfer flavoprotein (alpha-subunit) FixB (alpha-ETF) (electron transfer flavoprotein large subunit) (ETFLS)', 'Inter-feature', '100%', '-1:-1'], 'GGGGTCTTTTGCGACTGCTCGC', 'MEME-1']\n",
      "\n",
      "17\n",
      "[3508001, 3508022, '-', 1.99e-05, ['Rv3140:Rv3141', 'Probable acyl-CoA dehydrogenase FadE23:Probable NADPH quinone oxidoreductase FadB4 (NADPH:quinone reductase) (zeta-crystallin)', 'Inter-feature', '100%', '1:1'], 'GGGGGCTTTGACGTCTGCTCGC', 'MEME-1']\n",
      "[3508039, 3508060, '+', 4.97e-07, ['Rv3140:Rv3141', 'Probable acyl-CoA dehydrogenase FadE23:Probable NADPH quinone oxidoreductase FadB4 (NADPH:quinone reductase) (zeta-crystallin)', 'Inter-feature', '100%', '1:1'], 'GGGGGCTTTTGCGTCTGCTGGC', 'MEME-1']\n",
      "\n",
      "17\n",
      "[3560116, 3560137, '-', 3.79e-05, ['Rv3192:Rv3193c', 'Conserved hypothetical alanine and proline-rich protein:Probable conserved transmembrane protein', 'Inter-feature', '100%', '1:-1'], 'GGGGACTTCTGCGTCTGCTCAC', 'MEME-1']\n",
      "[3560154, 3560175, '+', 0.000295, ['Rv3192:Rv3193c', 'Conserved hypothetical alanine and proline-rich protein:Probable conserved transmembrane protein', 'Inter-feature', '100%', '1:-1'], 'GGCGACTTCTGCGTCTGCTCGC', 'MEME-1']\n",
      "\n",
      "no_pair [3590632, 3590653, '-', 1.19e-08, ['Rv3212:Rv3213c', 'Conserved alanine valine rich protein:Possible SOJ/para-related protein', 'Inter-feature', '100%', '1:-1'], 'GGGCGATTTTGCGTCTGCTCGC', 'MEME-1']\n",
      "\n",
      "17\n",
      "[3628087, 3628108, '-', 1.19e-08, ['Rv3247c:Rv3248c', 'Thymidylate kinase Tmk (dTMP kinase) (thymidylic acid kinase) (TMPK):Probable adenosylhomocysteinase SahH (S-adenosyl-L-homocysteine hydrolase) (adohcyase)', 'Inter-feature', '100%', '-1:-1'], 'GGGCGATTTTGCGTCTGCTCGC', 'MEME-1']\n",
      "[3628125, 3628146, '+', 1.19e-08, ['Rv3247c:Rv3248c', 'Thymidylate kinase Tmk (dTMP kinase) (thymidylic acid kinase) (TMPK):Probable adenosylhomocysteinase SahH (S-adenosyl-L-homocysteine hydrolase) (adohcyase)', 'Inter-feature', '100%', '-1:-1'], 'GGGCGATTTTGCGTCTGCTCGC', 'MEME-1']\n",
      "\n",
      "17\n",
      "[3707572, 3707593, '-', 1.19e-08, ['Rv3319:Rv3320c', 'Probable succinate dehydrogenase (iron-sulphur protein subunit) SdhB (succinic dehydrogenase) (fumarate reductase) (fumarate dehydrogenase) (fumaric hydrogenase):Possible toxin VapC44. Contains PIN domain.', 'Inter-feature', '100%', '1:-1'], 'GGGCGATTTTGCGTCTGCTCGC', 'MEME-1']\n",
      "[3707610, 3707631, '+', 1.19e-08, ['Rv3319:Rv3320c', 'Probable succinate dehydrogenase (iron-sulphur protein subunit) SdhB (succinic dehydrogenase) (fumarate reductase) (fumarate dehydrogenase) (fumaric hydrogenase):Possible toxin VapC44. Contains PIN domain.', 'Inter-feature', '100%', '1:-1'], 'GGGCGATTTTGCGTCTGCTCGC', 'MEME-1']\n",
      "\n",
      "17\n",
      "[3724554, 3724575, '-', 1.19e-08, ['Rv3338:Rv3339c', 'Conserved hypothetical protein:Probable isocitrate dehydrogenase [NADP] Icd1 (oxalosuccinate decarboxylase) (IDH) (NADP+-specific ICDH) (IDP)', 'Inter-feature', '100%', '1:-1'], 'GGGCGATTTTGCGTCTGCTCGC', 'MEME-1']\n",
      "[3724592, 3724613, '+', 1.19e-08, ['Rv3338:Rv3339c', 'Conserved hypothetical protein:Probable isocitrate dehydrogenase [NADP] Icd1 (oxalosuccinate decarboxylase) (IDH) (NADP+-specific ICDH) (IDP)', 'Inter-feature', '100%', '1:-1'], 'GGGCGATTTTGCGTCTGCTCGC', 'MEME-1']\n",
      "\n",
      "no_pair [3799217, 3799238, '+', 2.34e-05, ['Rv3383c:Rv3384c', 'Possible polyprenyl synthetase IdsB (polyprenyl transferase) (polyprenyl diphosphate synthase):Possible toxin VapC46. Contains PIN domain.', 'Inter-feature', '100%', '-1:-1'], 'GGGGACTTTCGCGTCTGCTCGC', 'MEME-1']\n",
      "\n",
      "17\n",
      "[3803854, 3803875, '-', 1.19e-08, ['Rv3388:Rv3389c', 'PE-PGRS family protein PE_PGRS52:Probable 3-hydroxyacyl-thioester dehydratase HtdY', 'Inter-feature', '100%', '1:-1'], 'GGGCGATTTTGCGTCTGCTCGC', 'MEME-1']\n",
      "[3803892, 3803913, '+', 5.78e-08, ['Rv3388:Rv3389c', 'PE-PGRS family protein PE_PGRS52:Probable 3-hydroxyacyl-thioester dehydratase HtdY', 'Inter-feature', '100%', '1:-1'], 'GGGCGATTTTGCGTCTGCTCGG', 'MEME-1']\n",
      "\n",
      "17\n",
      "[3835206, 3835227, '-', 4.76e-07, ['Rv3416:Rv3417c', 'Transcriptional regulatory protein WhiB-like WhiB3. Contains [4FE-4S] cluster.:60 kDa chaperonin 1 GroEL1 (protein CPN60-1) (GroEL protein 1)', 'Inter-feature', '100%', '1:-1'], 'GGGGGCTTTAGCGTCTGCTCGC', 'MEME-1']\n",
      "[3835244, 3835265, '+', 4.06e-06, ['Rv3416:Rv3417c', 'Transcriptional regulatory protein WhiB-like WhiB3. Contains [4FE-4S] cluster.:60 kDa chaperonin 1 GroEL1 (protein CPN60-1) (GroEL protein 1)', 'Inter-feature', '100%', '1:-1'], 'GGGGGCTTTTGCGTCTGCTGAC', 'MEME-1']\n",
      "\n",
      "17\n",
      "[3909759, 3909780, '-', 3.88e-08, ['Rv3490:Rv3491', 'Alpha, alpha-trehalose-phosphate synthase [UDP-forming] OtsA (trehalose-6-phosphate synthase) (UDP-glucose-glucosephosphate glucosyltransferase) (trehalosephosphate-UDP glucosyltransferase) (trehalose-6-phosphate synthetase) (trehalose-phosphate synthase) (trehalose-phosphate synthetase) (transglucosylase) (trehalosephosphate-UDP glucosyl transferase):Unknown protein', 'Inter-feature', '100%', '1:1'], 'GGGCGATTCTGCGTCTGCTCGC', 'MEME-1']\n",
      "[3909797, 3909818, '+', 3.88e-08, ['Rv3490:Rv3491', 'Alpha, alpha-trehalose-phosphate synthase [UDP-forming] OtsA (trehalose-6-phosphate synthase) (UDP-glucose-glucosephosphate glucosyltransferase) (trehalosephosphate-UDP glucosyltransferase) (trehalose-6-phosphate synthetase) (trehalose-phosphate synthase) (trehalose-phosphate synthetase) (transglucosylase) (trehalosephosphate-UDP glucosyl transferase):Unknown protein', 'Inter-feature', '100%', '1:1'], 'GGGCGATTCTGCGTCTGCTCGC', 'MEME-1']\n",
      "\n",
      "17\n",
      "[4008655, 4008676, '-', 1.19e-08, ['Rv3566A:Rv3567c', 'Hypothetical protein:Possible oxidoreductase. Possible 3-hydroxy-9,10-seconandrost-1,3,5(10)-triene-9,17-dione hydroxylase.', 'Inter-feature', '100%', '-1:-1'], 'GGGCGATTTTGCGTCTGCTCGC', 'MEME-1']\n",
      "[4008693, 4008714, '+', 1.19e-08, ['Rv3566A:Rv3567c', 'Hypothetical protein:Possible oxidoreductase. Possible 3-hydroxy-9,10-seconandrost-1,3,5(10)-triene-9,17-dione hydroxylase.', 'Inter-feature', '100%', '-1:-1'], 'GGGCGATTTTGCGTCTGCTCGC', 'MEME-1']\n",
      "\n",
      "17\n",
      "[4021394, 4021415, '-', 2.35e-07, ['Rv3578:Rv3579c', 'Possible arsenical pump integral membrane protein ArsB2:Possible tRNA/rRNA methyltransferase', 'Inter-feature', '100%', '1:-1'], 'ATGCGATTCTGCGTCTGCTCGC', 'MEME-1']\n",
      "[4021432, 4021453, '+', 2.35e-07, ['Rv3579c', 'Possible tRNA/rRNA methyltransferase', 'CDS', '100%', '-1'], 'ATGCGATTCTGCGTCTGCTCGC', 'MEME-1']\n",
      "\n",
      "17\n",
      "[4088259, 4088280, '-', 0.000116, ['Rv3647c:Rv3648c', 'Conserved hypothetical protein:Probable cold shock protein A CspA', 'Inter-feature', '100%', '-1:-1'], 'TGGGGGCTTTACGTCTGCTCGC', 'MEME-1']\n",
      "[4088297, 4088318, '+', 2.08e-05, ['Rv3647c:Rv3648c', 'Conserved hypothetical protein:Probable cold shock protein A CspA', 'Inter-feature', '100%', '-1:-1'], 'GGGGCTTTTTGCGTCTGCTCGC', 'MEME-1']\n",
      "\n",
      "17\n",
      "[4117197, 4117218, '-', 8.04e-05, ['Rv3676:Rv3677c', 'Transcriptional regulatory protein Crp (Crp/Fnr-family):Possible hydrolase', 'Inter-feature', '100%', '1:-1'], 'GTGCGACTCTGTGTCTGCTGGG', 'MEME-1']\n",
      "[4117235, 4117256, '+', 0.000218, ['Rv3676:Rv3677c', 'Transcriptional regulatory protein Crp (Crp/Fnr-family):Possible hydrolase', 'Inter-feature', '100%', '1:-1'], 'GTGCGATTGTGCGGCTGCTCGC', 'MEME-1']\n",
      "\n",
      "17\n",
      "[4237935, 4237956, '-', 8.64e-08, ['Rv3792', 'Arabinofuranosyltransferase AftA', 'CDS', '100%', '1'], 'GGGGGCTTTTGCGTCTGCTCGG', 'MEME-1']\n",
      "[4237973, 4237994, '+', 2.28e-07, ['Rv3792', 'Arabinofuranosyltransferase AftA', 'CDS', '100%', '1'], 'GGGGGCTTTTACGTCTGCTCGC', 'MEME-1']\n",
      "\n",
      "17\n",
      "[4246526, 4246547, '-', 1.11e-07, ['Rv3795', 'Integral membrane indolylacetylinositol arabinosyltransferase EmbB (arabinosylindolylacetylinositol synthase)', 'CDS', '100%', '1'], 'GGGTGCTTTTGCGTCTGCTCGC', 'MEME-1']\n",
      "[4246564, 4246585, '+', 3.93e-08, ['Rv3795', 'Integral membrane indolylacetylinositol arabinosyltransferase EmbB (arabinosylindolylacetylinositol synthase)', 'CDS', '100%', '1'], 'GGGGGCTTTTGCGTCTGCTCGC', 'MEME-1']\n",
      "\n",
      "no_pair [4252853, 4252874, '-', 5.6e-07, ['Rv3797', 'Probable acyl-CoA dehydrogenase FadE35', 'CDS', '61%', '1'], 'GGGGGCTTTTACGTCTGCTCGG', 'MEME-1']\n",
      "\n",
      "69 23\n"
     ]
    }
   ],
   "source": [
    "gene_pairs = []\n",
    "sole_genes = []\n",
    "pairs = 0\n",
    "no_pairs = 0\n",
    "v = hit_dict[tb_species]\n",
    "last_stop = -999\n",
    "pair_poss = 0\n",
    "for n, (start, stop, strand, q, loc, matched_seq, motif_id) in enumerate(v):\n",
    "    if q > 1e-2 or not(motif_id == 'MEME-1'):\n",
    "        continue\n",
    "    else:\n",
    "        if start - last_stop < 100 and pair_poss == 1:\n",
    "            print(start-last_stop)\n",
    "            print(v[last_n])\n",
    "            print(v[n])\n",
    "            print(\"\")\n",
    "            pair_poss = 0\n",
    "            pairs+=1\n",
    "            for x in v[n][4][0].split(':'):\n",
    "                gene_pairs.append(x)\n",
    "            for x in v[last_n][4][0].split(':'):\n",
    "                gene_pairs.append(x)\n",
    "\n",
    "        elif pair_poss == 1:\n",
    "            pass\n",
    "            print(\"no_pair\", v[last_n])\n",
    "            print(\"\")\n",
    "            no_pairs+=1#\n",
    "            for x in v[last_n][4][0].split(':'):\n",
    "                sole_genes.append(x)\n",
    "            \n",
    "        else:\n",
    "            pair_poss=1\n",
    "        last_stop = stop\n",
    "        last_n = n\n",
    "print(pairs, no_pairs)"
   ]
  },
  {
   "cell_type": "code",
   "execution_count": 176,
   "id": "bbe533fb-0f37-4c13-854a-a4c6f09f4a02",
   "metadata": {},
   "outputs": [],
   "source": [
    "genes = []\n",
    "v = hit_dict[tb_species]\n",
    "for (start, stop, strand, q, loc, matched_seq, motif_id) in v:\n",
    "    if q > 1e-2 or not(motif_id == 'MEME-1'):\n",
    "        continue\n",
    "    for x in loc[0].split(':'):\n",
    "        genes.append(x)"
   ]
  },
  {
   "cell_type": "code",
   "execution_count": 182,
   "id": "0a39a7b5-e5a6-47e8-879a-86c647abe861",
   "metadata": {},
   "outputs": [
    {
     "name": "stdout",
     "output_type": "stream",
     "text": [
      "170 21 236\n",
      "0.0004202591371316178\n"
     ]
    }
   ],
   "source": [
    "b = set(genes)\n",
    "inters = b.intersection(set(gene_list))\n",
    "print(len(b), len(inters), len(gene_list))\n",
    "print(1- binom.cdf(len(inters), len(b),(len(gene_list))/4031))"
   ]
  },
  {
   "cell_type": "code",
   "execution_count": 173,
   "id": "ba96407e-e557-4a3d-b678-4762a27b18c0",
   "metadata": {},
   "outputs": [
    {
     "data": {
      "text/plain": [
       "{'Rv0926c', 'Rv0927c', 'Rv1180', 'Rv3383c'}"
      ]
     },
     "execution_count": 173,
     "metadata": {},
     "output_type": "execute_result"
    }
   ],
   "source": [
    "b.intersection(set(gene_list))"
   ]
  },
  {
   "cell_type": "code",
   "execution_count": null,
   "id": "6b945319-9ec1-4afd-94ff-0183bd680502",
   "metadata": {},
   "outputs": [],
   "source": [
    "for k, v in hit_dict.items():\n",
    "    for x in v:\n",
    "        print(x)"
   ]
  },
  {
   "cell_type": "markdown",
   "id": "de7bd340-a386-4878-87d0-0a6ac14e2aea",
   "metadata": {},
   "source": [
    "#### Number of motif hits in different species and output so can be merged with R to display info against phylo tree"
   ]
  },
  {
   "cell_type": "code",
   "execution_count": 63,
   "id": "507f1c29-7df7-4422-a35d-33eb7022e6e0",
   "metadata": {
    "tags": []
   },
   "outputs": [],
   "source": [
    "hit_info = []\n",
    "for k, v in hit_dict.items():\n",
    "    temp = []\n",
    "    for (start, stop, strand, q, loc, matched_seq) in v:\n",
    "        for x in loc[0].split(':'):\n",
    "            temp.append(x)\n",
    "    hit_info.append([names_dict[k].replace(' ','_'),'Num_hits', len(set(temp))])\n",
    "pd.DataFrame(hit_info, columns = ['name', 'variable', 'value']).to_csv(project_dir + '/Hit_Counts.csv')"
   ]
  },
  {
   "cell_type": "code",
   "execution_count": 53,
   "id": "ff15ebbf-b15e-4791-8a9a-d1e2962f2ad5",
   "metadata": {},
   "outputs": [],
   "source": [
    "ortholog_info = []\n",
    "Rv_2248_orthologs = []\n",
    "temp = tb_species+\"@\"+\"Rv2248\"\n",
    "temp = tb_mycobacteria_rbh.query('query_ref == @temp')\n",
    "for i, r in temp.iterrows():\n",
    "    Rv_2248_orthologs.append(r['target_species_name'].replace(' ','_'))\n",
    "for dirname in mycobacteria_dirs:\n",
    "    species = dirname_dict[dirname].replace(' ','_').replace('[','').replace(']','')\n",
    "    if species in Rv_2248_orthologs:\n",
    "        ortholog_info.append([species, 'Ortholog', 1])\n",
    "    else:\n",
    "        ortholog_info.append([species, 'Ortholog', 0])\n",
    "pd.DataFrame(ortholog_info, columns = ['name', 'variable', 'value']).to_csv(project_dir + '/Rv_2248_Hits.csv')    "
   ]
  },
  {
   "cell_type": "code",
   "execution_count": null,
   "id": "aa6c316c-4077-4dc7-8e85-eba63af93f0b",
   "metadata": {},
   "outputs": [],
   "source": [
    "for dirname in mycobacteria_dirs:\n",
    "    species = dirname_dict[dirname].replace(' ','_').replace('[','').replace(']','')\n",
    "    "
   ]
  },
  {
   "cell_type": "markdown",
   "id": "7876e157-c075-4044-b5eb-18e182da0f55",
   "metadata": {
    "tags": []
   },
   "source": [
    "#### Build phylo tree "
   ]
  },
  {
   "cell_type": "code",
   "execution_count": null,
   "id": "1e913452-4203-42f1-9a0c-eb6f50c13353",
   "metadata": {},
   "outputs": [],
   "source": [
    "max_len = len(tb_mycobacteria_rbh['target_species_name'].unique())"
   ]
  },
  {
   "cell_type": "code",
   "execution_count": null,
   "id": "7ae63ded-7e41-4437-9069-1fc771ab8a57",
   "metadata": {},
   "outputs": [],
   "source": [
    "full_ortholog_refs = []\n",
    "temp = tb_mycobacteria_rbh.groupby('query_ref').agg({'target_ref': \"count\", 'percent_identical_matches': \"min\"}).reset_index()\n",
    "temp = temp.query('target_ref == @max_len and percent_identical_matches > 85')\n",
    "for i, r in temp.iterrows():\n",
    "    full_ortholog_refs.append(r['query_ref'])"
   ]
  },
  {
   "cell_type": "code",
   "execution_count": null,
   "id": "6a2f29d1-311f-41f8-aec4-10d742a249e1",
   "metadata": {},
   "outputs": [],
   "source": [
    "def generate_protein_dataset(num_subsets, subset_num, dir_list, seqdir): \n",
    "    sequence_dirs = util.chunk_list(dir_list, num_subsets, subset_num)\n",
    "    all_cds = []\n",
    "    for dirname in (sequence_dirs):\n",
    "        for genome_record in SeqIO.parse(seqdir + '/' + dirname + '/genomic.gbff', \"genbank\"):\n",
    "            accession_ver = genome_record.annotations['accessions'][0] + '.' + str(genome_record.annotations['sequence_version'])\n",
    "            full_sequence = str(genome_record.seq)\n",
    "            for feature in genome_record.features:\n",
    "                a = feature.qualifiers\n",
    "                if feature.type == 'CDS' and a.get(\"translation\") != None and a.get(\"locus_tag\") != None:\n",
    "                    locus_tag = a.get(\"locus_tag\")[0]\n",
    "                    accession_locus = accession_ver + '@' + locus_tag\n",
    "                    translation = a.get(\"translation\")[0]\n",
    "                    all_cds.append([accession_locus, translation])\n",
    "    return (all_cds)           "
   ]
  },
  {
   "cell_type": "code",
   "execution_count": null,
   "id": "4b870157-c0aa-499e-a1e9-2fed6b97592a",
   "metadata": {},
   "outputs": [],
   "source": [
    "full_build = True\n",
    "if full_build == True:\n",
    "    parallel_output = Parallel(n_jobs=-1)(delayed(generate_protein_dataset)(num_cores, core_number, mycobacteria_dirs, mycobacteria_seq_dir) for core_number in core_numbers)\n",
    "    protein_dict = {}\n",
    "    for x in parallel_output:\n",
    "        for temp in x[0]:\n",
    "            protein_dict[temp[0]] = temp[1]"
   ]
  },
  {
   "cell_type": "code",
   "execution_count": null,
   "id": "3ef5d679-1c5b-4600-886a-a393f4e1cb98",
   "metadata": {},
   "outputs": [],
   "source": [
    "concatenated_alignment_dict = {}\n",
    "for ref in tqdm(full_ortholog_refs):\n",
    "    temp_seq = []\n",
    "    temp = tb_mycobacteria_rbh[tb_mycobacteria_rbh['query_ref'] == ref]\n",
    "    for i, r in temp.iterrows():\n",
    "        temp_seq.append([r['target_species_name'].replace(' ','_'),protein_dict[r['target_ref']]])\n",
    "    util.produce_fasta_file(temp_seq, project_dir +'/temp_seq.fasta')    \n",
    "    cline = MuscleCommandline(muscle_exe, input= project_dir +'/temp_seq.fasta', out=project_dir +'/temp_seq_alignment.fasta')\n",
    "    result = cline();    \n",
    "    alignment = util.read_fasta_to_array(project_dir +'/temp_seq_alignment.fasta')    \n",
    "    for (name, sequence) in zip(alignment[0], alignment[1]):\n",
    "        if name in concatenated_alignment_dict:\n",
    "            temp2 = concatenated_alignment_dict[name]\n",
    "            concatenated_alignment_dict[name] = temp2 + sequence\n",
    "        else:\n",
    "            concatenated_alignment_dict[name] = sequence\n",
    "temp  = []\n",
    "for k, v in concatenated_alignment_dict.items():\n",
    "    temp.append([k, v])\n",
    "util.produce_fasta_file(temp, project_dir + '/concatenated_alignment.fasta')"
   ]
  },
  {
   "cell_type": "code",
   "execution_count": 49,
   "id": "9fa7e228-d530-45ab-b628-169c1a36327d",
   "metadata": {},
   "outputs": [],
   "source": []
  },
  {
   "cell_type": "code",
   "execution_count": null,
   "id": "b43b90b9-c31e-4810-8e94-68ab20b31dd3",
   "metadata": {},
   "outputs": [],
   "source": []
  }
 ],
 "metadata": {
  "kernelspec": {
   "display_name": "Python 3 (ipykernel)",
   "language": "python",
   "name": "python3"
  },
  "language_info": {
   "codemirror_mode": {
    "name": "ipython",
    "version": 3
   },
   "file_extension": ".py",
   "mimetype": "text/x-python",
   "name": "python",
   "nbconvert_exporter": "python",
   "pygments_lexer": "ipython3",
   "version": "3.9.7"
  }
 },
 "nbformat": 4,
 "nbformat_minor": 5
}
