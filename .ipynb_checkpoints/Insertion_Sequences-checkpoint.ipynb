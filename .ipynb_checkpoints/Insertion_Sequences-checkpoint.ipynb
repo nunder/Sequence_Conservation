{
 "cells": [
  {
   "cell_type": "markdown",
   "id": "b1e30ed4-8a0e-4a6f-96eb-dfe116dfb2de",
   "metadata": {},
   "source": [
    "#### Import packages, set directories and parameters"
   ]
  },
  {
   "cell_type": "code",
   "execution_count": 1,
   "id": "cf9c6377-5080-4c22-94db-feabe17cc47c",
   "metadata": {},
   "outputs": [],
   "source": [
    "import pandas as pd\n",
    "import pickle\n",
    "import seaborn as sns\n",
    "import matplotlib.pyplot as plt\n",
    "import numpy as np\n",
    "from Bio import Entrez, SeqIO, AlignIO, pairwise2, Align, Seq, motifs\n",
    "from Bio.Seq import Seq\n",
    "from Bio.SeqFeature import SeqFeature, FeatureLocation\n",
    "import math\n",
    "from tqdm import tqdm\n",
    "from Comparative_Analysis import Utilities as util\n",
    "from joblib import Parallel, delayed\n",
    "from Comparative_Analysis import Blast_Functions as blastfn\n",
    "import time\n",
    "import os\n",
    "import copy\n",
    "from scipy.stats import chi2\n",
    "from Comparative_Analysis import Alignment as alignfn\n",
    "from Bio.Align.Applications import MuscleCommandline\n",
    "import subprocess\n",
    "pd.options.mode.chained_assignment = None  # default='warn'"
   ]
  },
  {
   "cell_type": "code",
   "execution_count": 6,
   "id": "79c1ca3d-a68f-4a9d-a5c4-25df7385b3ad",
   "metadata": {},
   "outputs": [],
   "source": [
    "project_dir = 'F:/Project_Data/mabR_Project'\n",
    "mycobacteria_seq_dir = 'F:/Datasets/NCBI_Refseq_Mycobacteriaceae_Complete_Annot_20230511/data'\n",
    "tb_species = 'AL123456.3' \n",
    "tb_annotation_dirname = 'GCA_000195955.2'\n",
    "min_region_length = 7 \n",
    "full_build = False\n",
    "num_cores = 16\n",
    "core_numbers = list(range(1, num_cores+1))\n",
    "muscle_exe = 'C:/Users/nicho/Muscle/muscle3.8.31_i86win32.exe'\n",
    "full_run = False"
   ]
  },
  {
   "cell_type": "code",
   "execution_count": 3,
   "id": "f3bcbac1-03df-43f0-813e-0ca8f97a28bc",
   "metadata": {},
   "outputs": [],
   "source": [
    "mycobacteria_dirs = []\n",
    "for dir in util.list_dirs(mycobacteria_seq_dir):\n",
    "    if os.path.exists(mycobacteria_seq_dir + '/' + dir + '/genomic.gbff'):\n",
    "        mycobacteria_dirs.append(dir)"
   ]
  },
  {
   "cell_type": "code",
   "execution_count": 4,
   "id": "98d6cb4b-f436-4866-8be5-fa1232f4d8dc",
   "metadata": {},
   "outputs": [],
   "source": [
    "tb_mycobacteria_rbh = pd.read_csv(project_dir + '/tb_mycobacteria_reciprocal_best_hits.csv')"
   ]
  },
  {
   "cell_type": "markdown",
   "id": "e687d1b4-31ac-4d5c-a571-d05535336de9",
   "metadata": {},
   "source": [
    "#### Produce reference FASTA files (a) TB and (b) all mycobacteria for searching against motifs"
   ]
  },
  {
   "cell_type": "code",
   "execution_count": 39,
   "id": "eb3ef8bf-ee07-48a6-90ea-52542e7f19fa",
   "metadata": {},
   "outputs": [
    {
     "name": "stderr",
     "output_type": "stream",
     "text": [
      "100%|██████████| 1/1 [00:00<00:00, 11.87it/s]\n",
      "100%|██████████| 1/1 [00:00<00:00, 12.98it/s]\n"
     ]
    }
   ],
   "source": [
    "genome_record = next(SeqIO.parse(mycobacteria_seq_dir + '/' + tb_annotation_dirname + '/genomic.gbff', \"genbank\"))\n",
    "full_sequence = str(genome_record.seq)\n",
    "accession_ver = genome_record.annotations['accessions'][0] + '.' + str(genome_record.annotations['sequence_version'])\n",
    "util.produce_fasta_file([[accession_ver, full_sequence]], project_dir + '/mtb_seq')\n"
   ]
  },
  {
   "cell_type": "code",
   "execution_count": 7,
   "id": "7d173f9d-f5bd-49d4-8ae1-789fae6e2a51",
   "metadata": {},
   "outputs": [],
   "source": [
    "if full_run == True:\n",
    "    temp = []\n",
    "    for dir in util.list_dirs(mycobacteria_seq_dir): \n",
    "        if os.path.exists(mycobacteria_seq_dir + '/' + dir + '/genomic.gbff'):\n",
    "            for genome_record in (SeqIO.parse(mycobacteria_seq_dir + '/' + dir + '/genomic.gbff', \"genbank\")):\n",
    "                accession_ver = genome_record.annotations['accessions'][0] + '.' + str(genome_record.annotations['sequence_version'])\n",
    "                full_sequence = str(genome_record.seq)\n",
    "                temp.append([accession_ver, full_sequence])\n",
    "    util.produce_fasta_file(temp, project_dir + '/all_seq')"
   ]
  },
  {
   "cell_type": "markdown",
   "id": "50fbf555-1082-451c-827f-492e9f228f5b",
   "metadata": {
    "tags": []
   },
   "source": [
    "#### Functions to locate arbitrary region in organism"
   ]
  },
  {
   "cell_type": "code",
   "execution_count": 8,
   "id": "be6df13d-3ee1-485b-b5c7-8d788256b55e",
   "metadata": {},
   "outputs": [],
   "source": [
    "def annotated_regions_dataset(num_subsets, subset_num, dir_list, seqdir): \n",
    "    output = []\n",
    "    sequence_dirs = util.chunk_list(dir_list, num_subsets, subset_num)\n",
    "    for dirname in sequence_dirs:\n",
    "        annotated_regions = []\n",
    "        intergenic_regions = []\n",
    "        for record in (SeqIO.parse(seqdir + '/'+dirname+'/genomic.gbff', \"genbank\")):\n",
    "            accession_ver = record.annotations['accessions'][0] + '.' + str(record.annotations['sequence_version'])\n",
    "            for feature in record.features:\n",
    "                a = feature.qualifiers\n",
    "                if feature.type not in ['source','gene'] and (int(feature.location.start) < int(feature.location.end)) and (int(feature.location.end) - int(feature.location.start)) < 1000000:\n",
    "                    if not(a.get(\"product\") == None):\n",
    "                           product = a.get(\"product\")[0]\n",
    "                    if not(a.get(\"locus_tag\")==None):\n",
    "                        locus_tag = a.get(\"locus_tag\")[0]\n",
    "                    else:\n",
    "                        locus_tag = feature.type\n",
    "                    annotated_regions.append((locus_tag, product, feature.type, int(feature.location.start), int(feature.location.end), str(feature.location.strand)))\n",
    "            annotated_regions.sort(key = lambda x: x[4])\n",
    "            prev_strand = 0\n",
    "            prev_locus = ''\n",
    "            prev_product = ''\n",
    "            max_stop = 0\n",
    "            for n, (locus, product, feature_type, start, stop, strand) in enumerate(annotated_regions):\n",
    "                if start > max_stop:\n",
    "                    intergenic_regions.append([prev_locus+':'+locus, prev_product + ':' + product, 'Inter-feature',max_stop, start, str(prev_strand)+':'+str(strand)])\n",
    "                if stop > max_stop:\n",
    "                    prev_locus = locus\n",
    "                    prev_product = product\n",
    "                    prev_strand = strand\n",
    "                max_stop = max(max_stop, stop)    \n",
    "            for x in intergenic_regions:\n",
    "                annotated_regions.append(x)\n",
    "            annotated_regions.sort(key = lambda x : x[4])\n",
    "            output.append([accession_ver, annotated_regions])\n",
    "    return output"
   ]
  },
  {
   "cell_type": "code",
   "execution_count": 9,
   "id": "41cad641-7b47-4eff-b637-970c4593b41a",
   "metadata": {},
   "outputs": [],
   "source": [
    "parallel_output = Parallel(n_jobs=-1)(delayed(annotated_regions_dataset)(num_cores, core_number, mycobacteria_dirs, mycobacteria_seq_dir) for core_number in core_numbers)\n",
    "annotated_regions_dict = {}\n",
    "for x in parallel_output:\n",
    "    for y in x:\n",
    "        annotated_regions_dict[y[0]] = y[1]"
   ]
  },
  {
   "cell_type": "code",
   "execution_count": 10,
   "id": "486e3d2c-4c89-4649-9e43-457a28c4a3e4",
   "metadata": {},
   "outputs": [],
   "source": [
    "def location(accession_ver, start1, end1):\n",
    "    feature_matches = []\n",
    "    for (locus, product, feature, start, stop, strand) in annotated_regions_dict[accession_ver]:\n",
    "            if start< end1 and stop > start1:\n",
    "                overlap = str(int(100*(min(end1, stop) - max(start1, start))/ (end1-start1)))+'%'\n",
    "                feature_matches.append([locus, product, feature, overlap, strand])\n",
    "    return feature_matches"
   ]
  },
  {
   "cell_type": "markdown",
   "id": "01b4bf2c-e1bb-4623-aed5-c0da8fb1f9c7",
   "metadata": {
    "tags": []
   },
   "source": [
    "#### Functions to run MEME and FIMO"
   ]
  },
  {
   "cell_type": "code",
   "execution_count": 11,
   "id": "66efc6cc-4049-4566-bca3-404079e7a691",
   "metadata": {},
   "outputs": [],
   "source": [
    "def run_meme(search_regions_loc, output_dir, min_width, min_sites):\n",
    "    subprocess.run('wsl export PATH=$HOME/meme/bin:$HOME/meme/libexec/meme-5.4.1:usr/bin:$PATH ; meme '+ util.wslname(search_regions_loc) + ' -oc '+ util.wslname(output_dir) +' -dna -evt 0.01 -revcomp -mod anr -brief 4000 -minw ' + str(min_width) +' -maxw 200 -minsites ' + str(min_sites)\n",
    "               , shell=True)"
   ]
  },
  {
   "cell_type": "code",
   "execution_count": 12,
   "id": "9faaf599-3275-429b-ad53-99f29695e146",
   "metadata": {},
   "outputs": [],
   "source": [
    "def run_fimo(motif_file, sequence_to_search_file, output_dir):\n",
    "    subprocess.run('wsl export PATH=$HOME/meme/bin:$HOME/meme/libexec/meme-5.4.1:usr/bin:$PATH ; fimo -oc ' + util.wslname(output_dir) + ' ' + util.wslname(motif_file) + ' ' + util.wslname(sequence_to_search_file)\n",
    "               , shell=True)"
   ]
  },
  {
   "cell_type": "markdown",
   "id": "304afe39-8235-471a-9093-ed083a01db8a",
   "metadata": {},
   "source": [
    "#### Produce dictionary with upstream and downstream sequences relative to CDS locus id"
   ]
  },
  {
   "cell_type": "code",
   "execution_count": 13,
   "id": "ab0123bd-bff9-4ef8-885b-bb6ba9691e3b",
   "metadata": {},
   "outputs": [],
   "source": [
    "tb_upstream_dict = {}\n",
    "tb_downstream_dict = {}\n",
    "all_features = []\n",
    "genome_record =  next(SeqIO.parse(mycobacteria_seq_dir + '/'+tb_annotation_dirname+'/genomic.gbff', \"genbank\"))\n",
    "full_sequence = str(genome_record.seq)\n",
    "len_full_sequence = len(full_sequence)\n",
    "for feature in genome_record.features:\n",
    "    if feature.type in ['gene', 'source']:\n",
    "        continue\n",
    "    a = feature.qualifiers\n",
    "    feature_type = feature.type\n",
    "    if a.get(\"locus_tag\") != None:\n",
    "        locus_tag = a.get(\"locus_tag\")[0]\n",
    "    else:\n",
    "        locus_tag  = ''\n",
    "    (start, stop, strand) = (int(feature.location.start), int(feature.location.end), int(feature.location.strand))\n",
    "    all_features.append([locus_tag, feature_type, start, stop, strand])\n",
    "\n",
    "# Positive strand upstream \n",
    "all_features.sort(key = lambda x: x[2])\n",
    "max_stop = 0\n",
    "for (locus, feature_type, start, stop, strand) in all_features:\n",
    "    if max_stop < start and feature_type == 'CDS' and strand == 1 and start - max_stop < 100000:    #Avoid joins where biopython interprets inconsistently \n",
    "        tb_upstream_dict[locus] = full_sequence[max_stop: start+3]\n",
    "    max_stop = max(max_stop, stop)\n",
    "# Negative strand upstream\n",
    "all_features.sort(key = lambda x: x[3], reverse = True)\n",
    "min_start = len(full_sequence)-1\n",
    "for (locus, feature_type, start, stop, strand) in all_features:\n",
    "    if stop < min_start and feature_type == 'CDS' and strand == -1 and min_start - stop < 100000:\n",
    "        tb_upstream_dict[locus] = util.reverse_complement(full_sequence[stop-3: min_start])\n",
    "    min_start = min(min_start, start)\n",
    "    \n",
    "# Positive strand downstream\n",
    "all_features.sort(key = lambda x: x[3], reverse = True)\n",
    "min_start = len(full_sequence)-1\n",
    "for (locus, feature_type, start, stop, strand) in all_features:\n",
    "    if stop < min_start and feature_type == 'CDS' and strand == 1 and min_start - stop < 100000:\n",
    "        tb_downstream_dict[locus] = full_sequence[stop-3: min_start]\n",
    "    min_start = min(min_start, start)\n",
    "# Negative strand downstream \n",
    "all_features.sort(key = lambda x: x[2])\n",
    "max_stop = 0\n",
    "for (locus, feature_type, start, stop, strand) in all_features:\n",
    "    if max_stop < start and feature_type == 'CDS' and strand == -1 and start - max_stop < 100000:    #Avoid joins where biopython interprets inconsistently \n",
    "        tb_downstream_dict[locus] = util.reverse_complement(full_sequence[max_stop: start+3])\n",
    "    max_stop = max(max_stop, stop)    \n"
   ]
  },
  {
   "cell_type": "markdown",
   "id": "fcbb740d-f4e8-4842-b6f6-0084271d62e2",
   "metadata": {},
   "source": [
    "#### Import list of significantly up/downregulated genes and produce fasta file of upstream sequences"
   ]
  },
  {
   "cell_type": "code",
   "execution_count": 14,
   "id": "2dfe78c9-fd29-4b8c-bc7d-3ce16e4fb4ab",
   "metadata": {},
   "outputs": [],
   "source": [
    "regulation_type_dict = {}\n",
    "p_val_dict = {}\n",
    "downreg_genes = pd.read_excel(project_dir + '/2022-10-02_data_NU_NAs_renamed.xlsx', sheet_name = 'significant genes downregulated')\n",
    "upreg_genes = pd.read_excel(project_dir + '/2022-10-02_data.xlsx', sheet_name = 'significant genes upregulated')\n",
    "all_genes = pd.read_excel(project_dir + '/2022-10-02_data.xlsx', sheet_name = 'all genes')\n",
    "gene_list = []\n",
    "for i, r in downreg_genes.iterrows():\n",
    "    gene_list.append(r['Locus'])\n",
    "    regulation_type_dict[r['Locus']] = 'Downregulated'\n",
    "for i, r in upreg_genes.iterrows():\n",
    "    gene_list.append(r['Locus'])\n",
    "    regulation_type_dict[r['Locus']] = 'Upregulated'\n",
    "for i, r in all_genes.iterrows():\n",
    "    if r['padj'] == 'NA':\n",
    "        p_val_dict[r['Locus']] = 999\n",
    "    else:    \n",
    "        p_val_dict[r['Locus']] = r['padj']"
   ]
  },
  {
   "cell_type": "code",
   "execution_count": 15,
   "id": "92f57e96-7a0f-48eb-8d5b-008b3a27e0a8",
   "metadata": {},
   "outputs": [
    {
     "name": "stderr",
     "output_type": "stream",
     "text": [
      "100%|██████████| 177/177 [00:00<00:00, 177055.05it/s]\n",
      "100%|██████████| 145/145 [00:00<00:00, 144975.94it/s]\n"
     ]
    }
   ],
   "source": [
    "significant_upstream_tb_regions = []\n",
    "significant_downstream_tb_regions = []\n",
    "for gene in gene_list:\n",
    "    locus = str(gene)\n",
    "    if locus in tb_upstream_dict:\n",
    "        upstream_region = tb_upstream_dict[locus][:-3]  # Remove start codon of downstream gene\n",
    "        if len(upstream_region) >= min_region_length:\n",
    "            significant_upstream_tb_regions.append([locus, upstream_region])\n",
    "    if locus in tb_downstream_dict:\n",
    "        downstream_region = tb_downstream_dict[locus][:-3]  # Remove start codon of downstream gene\n",
    "        if len(downstream_region) >= min_region_length:\n",
    "            significant_downstream_tb_regions.append([locus, downstream_region])\n",
    "util.produce_fasta_file(significant_upstream_tb_regions, project_dir + '/significant_upstream_tb_regions.faa')\n",
    "util.produce_fasta_file(significant_downstream_tb_regions, project_dir + '/significant_downstream_tb_regions.faa')"
   ]
  },
  {
   "cell_type": "markdown",
   "id": "e8399606-8ab1-4292-ae09-29791de85a15",
   "metadata": {},
   "source": [
    "#### Run MEME, search against tb using FIMO"
   ]
  },
  {
   "cell_type": "code",
   "execution_count": 16,
   "id": "b7330b9c-0cb3-4362-82f8-7ede1e1045f9",
   "metadata": {},
   "outputs": [],
   "source": [
    "run_meme(project_dir + '/significant_upstream_tb_regions.faa',project_dir + '/MEME_Upstream_Output',3,5)\n",
    "run_meme(project_dir + '/significant_downstream_tb_regions.faa',project_dir + '/MEME_Downstream_Output',3,5)"
   ]
  },
  {
   "cell_type": "code",
   "execution_count": 20,
   "id": "7bb56b27-9fff-483b-906e-dd001e482986",
   "metadata": {},
   "outputs": [],
   "source": [
    "run_fimo(project_dir + '/MEME_Upstream_Output/meme.txt', project_dir + '/mtb_seq' , project_dir + '/FIMO_Upstream_Output')\n",
    "run_fimo(project_dir + '/MEME_Downstream_Output/meme.txt', project_dir + '/mtb_seq' , project_dir + '/FIMO_Downstream_Output')"
   ]
  },
  {
   "cell_type": "code",
   "execution_count": 18,
   "id": "8e69039c-1b24-46ce-b54f-319bc84cce47",
   "metadata": {},
   "outputs": [],
   "source": [
    "fimo_upstream_hits = pd.read_csv(project_dir + '/FIMO_Upstream_Output/fimo.tsv', sep='\\t')\n",
    "fimo_downstream_hits = pd.read_csv(project_dir + '/FIMO_Downstream_Output/fimo.tsv', sep='\\t')"
   ]
  },
  {
   "cell_type": "code",
   "execution_count": 23,
   "id": "15e43d6e-86cb-4cfa-b4e2-e052cde8e4c1",
   "metadata": {},
   "outputs": [],
   "source": [
    "def produce_matched_sequence_file(hit_df, output_file):\n",
    "    matched_sequences = []\n",
    "    for i, r in hit_df.iterrows():\n",
    "        if '#' in r['motif_id']:\n",
    "            continue\n",
    "        if float(r['q-value']) < 1e-3:\n",
    "            matched_sequences.append([str(r['start'])+'_'+str(r['stop']), r['matched_sequence']])\n",
    "    util.produce_fasta_file(matched_sequences, output_file)"
   ]
  },
  {
   "cell_type": "code",
   "execution_count": 24,
   "id": "21c4e8b6-c759-4859-89b2-d544a2996524",
   "metadata": {},
   "outputs": [
    {
     "name": "stderr",
     "output_type": "stream",
     "text": [
      "100%|██████████| 162/162 [00:00<?, ?it/s]\n",
      "100%|██████████| 150/150 [00:00<?, ?it/s]\n"
     ]
    }
   ],
   "source": [
    "produce_matched_sequence_file(fimo_upstream_hits, project_dir + '/fimo_upstream_hit_sequences.faa')\n",
    "produce_matched_sequence_file(fimo_downstream_hits, project_dir + '/fimo_downstream_hit_sequences.faa')"
   ]
  },
  {
   "cell_type": "code",
   "execution_count": 25,
   "id": "fa7598e4-63e8-4dbd-9deb-55bc1438fe54",
   "metadata": {},
   "outputs": [],
   "source": [
    "run_meme(project_dir + '/fimo_upstream_hit_sequences.faa', project_dir + '/Second_MEME_Upstream_Output',3,5)\n",
    "run_meme(project_dir + '/fimo_downstream_hit_sequences.faa', project_dir + '/Second_MEME_Downstream_Output',3,5)"
   ]
  },
  {
   "cell_type": "code",
   "execution_count": 49,
   "id": "4fc9df09-edea-48ac-8508-a91e50e06b9f",
   "metadata": {},
   "outputs": [],
   "source": [
    "run_fimo(project_dir + '/Second_MEME_Upstream_Output/meme.txt', project_dir + '/all_seq' , project_dir + '/Second_FIMO_Upstream_Output')\n",
    "run_fimo(project_dir + '/Second_MEME_Downstream_Output/meme.txt', project_dir + '/all_seq' , project_dir + '/Second_FIMO_Downstream_Output')"
   ]
  },
  {
   "cell_type": "markdown",
   "id": "9a1dadb3-0799-4a79-834b-e430c1715702",
   "metadata": {},
   "source": [
    "#### Final motif and searches"
   ]
  },
  {
   "cell_type": "code",
   "execution_count": 74,
   "id": "23ed590f-b6b9-4206-b591-b6ca506b3041",
   "metadata": {},
   "outputs": [],
   "source": [
    "temp_fimo_hits = pd.read_csv(project_dir + '/Second_FIMO_Upstream_Output/fimo.tsv', sep='\\t')\n",
    "hit_dict = {}\n",
    "for i, r in temp_fimo_hits.iterrows():\n",
    "    if '#' in r['motif_id']:\n",
    "        continue\n",
    "    organism = r['sequence_name']\n",
    "    motif_id = r['motif_alt_id']\n",
    "    if float(r['q-value']) < 1e-3 and motif_id == 'MEME-1':\n",
    "        temp = location(r['sequence_name'],int(r['start']), int(r['stop']))\n",
    "        if len(temp) > 0:\n",
    "            temp.sort(key = lambda x: float(x[3].strip('%')), reverse = True)\n",
    "            main_location = temp[0][0]\n",
    "        else:\n",
    "            main_location = ''\n",
    " \n",
    "\n",
    "        info = [int(r['start']), int(r['stop']), r['strand'], float(r['q-value']), main_location]\n",
    "        if organism in hit_dict:\n",
    "            hit_dict[organism].append(info)\n",
    "        else:\n",
    "            hit_dict[organism] = [info]\n",
    "\n",
    "for k, v in hit_dict.items():\n",
    "    v.sort(key = lambda x: x[0])\n",
    "  "
   ]
  },
  {
   "cell_type": "code",
   "execution_count": 93,
   "id": "39fd334a-d8fb-4cb5-b9a4-fbd0d7b5163e",
   "metadata": {},
   "outputs": [
    {
     "data": {
      "text/plain": [
       "[[183269, 183289, '-', 0.0003, 'Rv0154c:Rv0155'],\n",
       " [234449, 234469, '+', 6.6e-06, 'Rv0197'],\n",
       " [253606, 253626, '+', 1.37e-05, 'Rv0211:Rv0212c'],\n",
       " [279537, 279557, '+', 4.83e-06, 'Rv0233:Rv0234c'],\n",
       " [279572, 279592, '-', 4.83e-06, 'Rv0233:Rv0234c'],\n",
       " [456204, 456224, '+', 1.02e-05, 'Rv0379:Rv0380c'],\n",
       " [456239, 456259, '-', 3.53e-05, 'Rv0379:Rv0380c'],\n",
       " [459425, 459445, '-', 6.08e-05, 'Rv0383c:Rv0384c'],\n",
       " [558820, 558840, '+', 3.98e-05, 'Rv0467:Rv0468'],\n",
       " [558855, 558875, '-', 7.22e-05, 'Rv0467:Rv0468'],\n",
       " [663392, 663412, '+', 1.37e-05, 'Rv0570:Rv0571c'],\n",
       " [663427, 663447, '-', 7.31e-05, 'Rv0570:Rv0571c'],\n",
       " [736235, 736255, '+', 1.37e-05, 'Rv0641:Rv0642c'],\n",
       " [736270, 736290, '-', 1.37e-05, 'Rv0641:Rv0642c'],\n",
       " [749252, 749272, '-', 0.000509, 'Rv0653c'],\n",
       " [755268, 755288, '+', 1.37e-05, 'Rv0660c:Rv0661c'],\n",
       " [755303, 755323, '-', 6.92e-05, 'Rv0660c:Rv0661c'],\n",
       " [767327, 767347, '+', 1.24e-05, 'Rv0668:Rv0669c'],\n",
       " [767362, 767382, '-', 7.31e-05, 'Rv0668:Rv0669c'],\n",
       " [806174, 806194, '+', 2.28e-05, 'Rv0710:Rv0711'],\n",
       " [806209, 806229, '-', 2.28e-05, 'Rv0710:Rv0711'],\n",
       " [815639, 815659, '+', 9.12e-05, 'Rv0723:Rv0724'],\n",
       " [815674, 815694, '-', 4.83e-06, 'Rv0724'],\n",
       " [829709, 829729, '+', 0.000795, 'Rv0737:Rv0738'],\n",
       " [829744, 829764, '-', 1.26e-05, 'Rv0737:Rv0738'],\n",
       " [832330, 832350, '+', 1.26e-05, 'Rv0740:Rv0741'],\n",
       " [842305, 842325, '+', 1.26e-05, 'Rv0750:Rv0751c'],\n",
       " [842340, 842360, '-', 1.26e-05, 'Rv0751c'],\n",
       " [937340, 937360, '+', 0.000997, 'Rv0840c:Rv0841'],\n",
       " [958460, 958480, '+', 3.22e-05, 'Rv0860:Rv0861c'],\n",
       " [958495, 958515, '-', 3.22e-05, 'Rv0860:Rv0861c'],\n",
       " [1000774, 1000794, '+', 1.26e-05, 'Rv0896:Rv0897c'],\n",
       " [1000809, 1000829, '-', 1.61e-05, 'Rv0897c'],\n",
       " [1006656, 1006676, '-', 0.000309, 'Rv0903c:Rv0904c'],\n",
       " [1064055, 1064075, '+', 1.37e-05, 'Rv0952:Rv0953c'],\n",
       " [1064090, 1064110, '-', 1.37e-05, 'Rv0952:Rv0953c'],\n",
       " [1133267, 1133287, '+', 2.71e-05, 'Rv1013:Rv1014c'],\n",
       " [1133302, 1133322, '-', 2.71e-05, 'Rv1013:Rv1014c'],\n",
       " [1182323, 1182343, '+', 4.83e-06, 'Rv1058:Rv1059'],\n",
       " [1182358, 1182378, '-', 4.83e-06, 'Rv1058:Rv1059'],\n",
       " [1205241, 1205261, '+', 0.000129, 'Rv1079:Rv1080c'],\n",
       " [1205275, 1205295, '-', 8.49e-06, 'Rv1079:Rv1080c'],\n",
       " [1224312, 1224332, '+', 0.000157, 'Rv1095:Rv1096'],\n",
       " [1224347, 1224367, '-', 0.000631, 'Rv1095:Rv1096'],\n",
       " [1313370, 1313390, '-', 4.59e-05, 'Rv1179c:Rv1180'],\n",
       " [1345220, 1345240, '-', 1.37e-05, 'Rv1201c:Rv1202'],\n",
       " [1357067, 1357087, '+', 2.49e-05, 'Rv1213:Rv1214c'],\n",
       " [1357102, 1357122, '-', 6.6e-06, 'Rv1213:Rv1214c'],\n",
       " [1363441, 1363461, '+', 1.24e-05, 'Rv1219c:Rv1220c'],\n",
       " [1363476, 1363496, '-', 1.24e-05, 'Rv1219c:Rv1220c'],\n",
       " [1371744, 1371764, '-', 0.000228, 'Rv1228:Rv1229c'],\n",
       " [1468141, 1468161, '+', 3.98e-05, 'repeat_region'],\n",
       " [1469633, 1469653, '-', 2.41e-05, 'mobile_element'],\n",
       " [1488087, 1488107, '+', 2.14e-05, 'Rv1324:Rv1325c'],\n",
       " [1488122, 1488142, '-', 2.14e-05, 'Rv1324:Rv1325c'],\n",
       " [1497197, 1497217, '-', 2.83e-05, 'Rv1329c'],\n",
       " [1568049, 1568069, '+', 1.24e-05, 'Rv1392:Rv1393c'],\n",
       " [1568084, 1568104, '-', 1.24e-05, 'Rv1392:Rv1393c'],\n",
       " [1828802, 1828822, '+', 4.83e-06, 'Rv1626:Rv1627c'],\n",
       " [1828837, 1828857, '-', 4.83e-06, 'Rv1626:Rv1627c'],\n",
       " [1872572, 1872592, '+', 2.3e-05, 'Rv1658:Rv1659'],\n",
       " [1872607, 1872627, '-', 1.24e-05, 'Rv1658:Rv1659'],\n",
       " [2075535, 2075555, '+', 0.00047, 'Rv1830:Rv1831'],\n",
       " [2317105, 2317125, '+', 3.53e-05, 'Rv2061c:Rv2062c'],\n",
       " [2317141, 2317161, '-', 3.95e-05, 'Rv2061c:Rv2062c'],\n",
       " [2439148, 2439168, '+', 2.41e-05, 'Rv2176:Rv2177c'],\n",
       " [2451181, 2451201, '+', 2.28e-05, 'Rv2188c:Rv2189c'],\n",
       " [2451216, 2451236, '-', 1.52e-05, 'Rv2188c:Rv2189c'],\n",
       " [2466968, 2466988, '+', 0.000375, 'Rv2201:Rv2202c'],\n",
       " [2467003, 2467023, '-', 0.000112, 'Rv2201:Rv2202c'],\n",
       " [2522175, 2522195, '+', 1.24e-05, 'repeat_region'],\n",
       " [2522210, 2522230, '-', 1.24e-05, 'repeat_region'],\n",
       " [2523184, 2523204, '+', 0.000188, 'repeat_region'],\n",
       " [2523216, 2523236, '-', 0.000188, 'repeat_region'],\n",
       " [2546438, 2546458, '+', 3.83e-05, 'Rv2273:Rv2274c'],\n",
       " [2546473, 2546493, '-', 0.00011, 'Rv2273:Rv2274c'],\n",
       " [2554868, 2554888, '+', 0.000231, 'Rv2281:Rv2282c'],\n",
       " [2554903, 2554923, '-', 6.92e-05, 'Rv2281:Rv2282c'],\n",
       " [2700471, 2700491, '+', 4.83e-06, 'Rv2402:Rv2403c'],\n",
       " [2700506, 2700526, '-', 4.83e-06, 'Rv2402:Rv2403c'],\n",
       " [2720642, 2720662, '+', 2.28e-05, 'repeat_region'],\n",
       " [2751599, 2751619, '+', 2.34e-05, 'Rv2449c:Rv2450c'],\n",
       " [2839478, 2839498, '+', 0.000211, 'Rv2522c'],\n",
       " [2839513, 2839533, '-', 7.31e-05, 'Rv2522c'],\n",
       " [2907754, 2907774, '+', 5.08e-05, 'Rv2582:Rv2583c'],\n",
       " [2907789, 2907809, '-', 0.000121, 'Rv2582:Rv2583c'],\n",
       " [2931674, 2931694, '-', 6.92e-05, 'Rv2603c:Rv2604c'],\n",
       " [3059793, 3059813, '+', 2.3e-05, 'Rv2747:Rv2748c'],\n",
       " [3059828, 3059848, '-', 4.83e-06, 'Rv2747:Rv2748c'],\n",
       " [3075416, 3075436, '-', 0.000176, 'Rv2765:Rv2766c'],\n",
       " [3104981, 3105001, '+', 4.83e-06, 'Rv2795c:Rv2796c'],\n",
       " [3105016, 3105036, '-', 4.83e-06, 'Rv2795c:Rv2796c'],\n",
       " [3152972, 3152992, '+', 4.83e-06, 'Rv2845c:Rv2846c'],\n",
       " [3215599, 3215619, '+', 0.000111, 'Rv2905:Rv2906c'],\n",
       " [3215634, 3215654, '-', 2.34e-05, 'Rv2905:Rv2906c'],\n",
       " [3348483, 3348503, '+', 4.83e-06, 'Rv2991:tRNA'],\n",
       " [3348518, 3348538, '-', 4.83e-06, 'Rv2991:tRNA'],\n",
       " [3369890, 3369910, '+', 5.08e-05, 'Rv3010c:Rv3011c'],\n",
       " [3387043, 3387063, '-', 0.000345, 'Rv3027c:Rv3028c'],\n",
       " [3508003, 3508023, '+', 0.000397, 'Rv3140:Rv3141'],\n",
       " [3508038, 3508058, '-', 3.53e-05, 'Rv3140:Rv3141'],\n",
       " [3560118, 3560138, '+', 7.07e-05, 'Rv3192:Rv3193c'],\n",
       " [3590634, 3590654, '+', 4.83e-06, 'Rv3212:Rv3213c'],\n",
       " [3628089, 3628109, '+', 1.24e-05, 'Rv3247c:Rv3248c'],\n",
       " [3628124, 3628144, '-', 4.83e-06, 'Rv3247c:Rv3248c'],\n",
       " [3707574, 3707594, '+', 4.83e-06, 'Rv3319:Rv3320c'],\n",
       " [3707609, 3707629, '-', 4.83e-06, 'Rv3319:Rv3320c'],\n",
       " [3724556, 3724576, '+', 4.83e-06, 'Rv3338:Rv3339c'],\n",
       " [3724591, 3724611, '-', 4.83e-06, 'Rv3338:Rv3339c'],\n",
       " [3799216, 3799236, '-', 0.000247, 'Rv3383c:Rv3384c'],\n",
       " [3803856, 3803876, '+', 4.83e-06, 'Rv3388:Rv3389c'],\n",
       " [3803891, 3803911, '-', 4.83e-06, 'Rv3388:Rv3389c'],\n",
       " [3835208, 3835228, '+', 4.45e-05, 'Rv3416:Rv3417c'],\n",
       " [3835243, 3835263, '-', 3.53e-05, 'Rv3416:Rv3417c'],\n",
       " [3909761, 3909781, '+', 6.6e-06, 'Rv3490:Rv3491'],\n",
       " [3909796, 3909816, '-', 6.6e-06, 'Rv3490:Rv3491'],\n",
       " [4008657, 4008677, '+', 4.83e-06, 'Rv3566A:Rv3567c'],\n",
       " [4008692, 4008712, '-', 4.83e-06, 'Rv3566A:Rv3567c'],\n",
       " [4021396, 4021416, '+', 3.95e-05, 'Rv3578:Rv3579c'],\n",
       " [4021431, 4021451, '-', 3.95e-05, 'Rv3579c'],\n",
       " [4237937, 4237957, '+', 4.83e-06, 'Rv3792'],\n",
       " [4237972, 4237992, '-', 3.59e-05, 'Rv3792'],\n",
       " [4246528, 4246548, '+', 2.49e-05, 'Rv3795'],\n",
       " [4246563, 4246583, '-', 4.83e-06, 'Rv3795'],\n",
       " [4252855, 4252875, '+', 3.59e-05, 'Rv3797'],\n",
       " [4254348, 4254368, '-', 3.59e-05, 'Rv3798:Rv3799c']]"
      ]
     },
     "execution_count": 93,
     "metadata": {},
     "output_type": "execute_result"
    }
   ],
   "source": [
    "hit_dict[tb_species]"
   ]
  },
  {
   "cell_type": "code",
   "execution_count": 90,
   "id": "d4ac3ea6-4a4e-4894-a03c-1fb9ac11d704",
   "metadata": {},
   "outputs": [],
   "source": [
    "double_hit_info = []\n",
    "for k, v in hit_dict.items():\n",
    "    old_stop = -99999\n",
    "    old_strand = '@'\n",
    "    double_hits = 0\n",
    "    double_hit_list = []\n",
    "    for hit in v:\n",
    "        if hit[0] - old_stop < 50 and not(hit[2] == old_strand):\n",
    "            double_hits +=1\n",
    "            double_hit_list.append(hit[4])\n",
    "        old_stop = hit[1]\n",
    "        old_strand = hit[2]\n",
    "    double_hit_info.append([k, double_hits, double_hit_list])\n",
    "    "
   ]
  },
  {
   "cell_type": "code",
   "execution_count": 92,
   "id": "3376443f-bf8c-4ee8-ac01-e99e35707ba7",
   "metadata": {},
   "outputs": [
    {
     "data": {
      "text/plain": [
       "[['AL123456.3',\n",
       "  49,\n",
       "  ['Rv0233:Rv0234c',\n",
       "   'Rv0379:Rv0380c',\n",
       "   'Rv0467:Rv0468',\n",
       "   'Rv0570:Rv0571c',\n",
       "   'Rv0641:Rv0642c',\n",
       "   'Rv0660c:Rv0661c',\n",
       "   'Rv0668:Rv0669c',\n",
       "   'Rv0710:Rv0711',\n",
       "   'Rv0724',\n",
       "   'Rv0737:Rv0738',\n",
       "   'Rv0751c',\n",
       "   'Rv0860:Rv0861c',\n",
       "   'Rv0897c',\n",
       "   'Rv0952:Rv0953c',\n",
       "   'Rv1013:Rv1014c',\n",
       "   'Rv1058:Rv1059',\n",
       "   'Rv1079:Rv1080c',\n",
       "   'Rv1095:Rv1096',\n",
       "   'Rv1213:Rv1214c',\n",
       "   'Rv1219c:Rv1220c',\n",
       "   'Rv1324:Rv1325c',\n",
       "   'Rv1392:Rv1393c',\n",
       "   'Rv1626:Rv1627c',\n",
       "   'Rv1658:Rv1659',\n",
       "   'Rv2061c:Rv2062c',\n",
       "   'Rv2188c:Rv2189c',\n",
       "   'Rv2201:Rv2202c',\n",
       "   'repeat_region',\n",
       "   'repeat_region',\n",
       "   'Rv2273:Rv2274c',\n",
       "   'Rv2281:Rv2282c',\n",
       "   'Rv2402:Rv2403c',\n",
       "   'Rv2522c',\n",
       "   'Rv2582:Rv2583c',\n",
       "   'Rv2747:Rv2748c',\n",
       "   'Rv2795c:Rv2796c',\n",
       "   'Rv2905:Rv2906c',\n",
       "   'Rv2991:tRNA',\n",
       "   'Rv3140:Rv3141',\n",
       "   'Rv3247c:Rv3248c',\n",
       "   'Rv3319:Rv3320c',\n",
       "   'Rv3338:Rv3339c',\n",
       "   'Rv3388:Rv3389c',\n",
       "   'Rv3416:Rv3417c',\n",
       "   'Rv3490:Rv3491',\n",
       "   'Rv3566A:Rv3567c',\n",
       "   'Rv3579c',\n",
       "   'Rv3792',\n",
       "   'Rv3795']]]"
      ]
     },
     "execution_count": 92,
     "metadata": {},
     "output_type": "execute_result"
    }
   ],
   "source": [
    "[x for x in double_hit_info if x[0] == tb_species]"
   ]
  },
  {
   "cell_type": "code",
   "execution_count": 27,
   "id": "8348eac6-ce7c-49c2-9add-12fbe2913f04",
   "metadata": {},
   "outputs": [],
   "source": [
    "genes = []\n",
    "details = []\n",
    "k = tb_species\n",
    "v = hit_dict[k]\n",
    "for n, (start, stop, strand, matched_seq, q) in enumerate(v):\n",
    "    a=(location(k, v[n][0], v[n][1])[0][0:2])[0]\n",
    "    details.append(location(k, v[n][0], v[n][1]))\n",
    "    for x in a.split(':'):\n",
    "        genes.append(x)\n",
    "b = set(genes)"
   ]
  },
  {
   "cell_type": "code",
   "execution_count": 28,
   "id": "d5206da2-724d-45a1-b11e-32cf459397df",
   "metadata": {},
   "outputs": [
    {
     "data": {
      "text/plain": [
       "104"
      ]
     },
     "execution_count": 28,
     "metadata": {},
     "output_type": "execute_result"
    }
   ],
   "source": [
    "len(b)"
   ]
  },
  {
   "cell_type": "code",
   "execution_count": 29,
   "id": "8ac95c2f-16fb-41a6-a89a-49d9374574e8",
   "metadata": {},
   "outputs": [
    {
     "data": {
      "text/plain": [
       "{'Rv0211',\n",
       " 'Rv0467',\n",
       " 'Rv0468',\n",
       " 'Rv0711',\n",
       " 'Rv0860',\n",
       " 'Rv0896',\n",
       " 'Rv1058',\n",
       " 'Rv1180',\n",
       " 'Rv2845c',\n",
       " 'Rv2846c',\n",
       " 'Rv3028c',\n",
       " 'Rv3140',\n",
       " 'Rv3319',\n",
       " 'Rv3383c',\n",
       " 'Rv3416',\n",
       " 'Rv3792',\n",
       " 'Rv3795'}"
      ]
     },
     "execution_count": 29,
     "metadata": {},
     "output_type": "execute_result"
    }
   ],
   "source": [
    "b.intersection(set(gene_list))"
   ]
  },
  {
   "cell_type": "code",
   "execution_count": null,
   "id": "fbfbe301-ff1c-4246-94f6-d00c85c84099",
   "metadata": {},
   "outputs": [],
   "source": [
    "for x in details:\n",
    "    print(x)"
   ]
  },
  {
   "cell_type": "code",
   "execution_count": null,
   "id": "5e59131b-c9a2-411d-8658-f9c6aeff20f7",
   "metadata": {},
   "outputs": [],
   "source": [
    "pd.DataFrame(hit_info, columns = ['name', 'variable', 'value']).to_csv(project_dir + '/Hit_Counts.csv')"
   ]
  },
  {
   "cell_type": "code",
   "execution_count": null,
   "id": "4700f22f-68cb-4302-99d4-e6b55266891b",
   "metadata": {},
   "outputs": [],
   "source": []
  },
  {
   "cell_type": "markdown",
   "id": "7876e157-c075-4044-b5eb-18e182da0f55",
   "metadata": {
    "tags": []
   },
   "source": [
    "#### Buiild phylo tree"
   ]
  },
  {
   "cell_type": "code",
   "execution_count": null,
   "id": "293670e3-924c-42c7-a939-97fb65696500",
   "metadata": {},
   "outputs": [],
   "source": [
    "max_len = len(tb_mycobacteria_rbh['target_species_name'].unique())"
   ]
  },
  {
   "cell_type": "code",
   "execution_count": null,
   "id": "7ae63ded-7e41-4437-9069-1fc771ab8a57",
   "metadata": {},
   "outputs": [],
   "source": [
    "full_ortholog_refs = []\n",
    "temp = tb_mycobacteria_rbh.groupby('query_ref').agg({'target_ref': \"count\", 'percent_identical_matches': \"min\"}).reset_index()\n",
    "temp = temp.query('target_ref == @max_len and percent_identical_matches > 85')\n",
    "for i, r in temp.iterrows():\n",
    "    full_ortholog_refs.append(r['query_ref'])"
   ]
  },
  {
   "cell_type": "code",
   "execution_count": null,
   "id": "6a2f29d1-311f-41f8-aec4-10d742a249e1",
   "metadata": {},
   "outputs": [],
   "source": [
    "def generate_protein_dataset(num_subsets, subset_num, dir_list, seqdir): \n",
    "    sequence_dirs = util.chunk_list(dir_list, num_subsets, subset_num)\n",
    "    all_cds = []\n",
    "    all_tb_cds = []\n",
    "    names = []\n",
    "    sequences = []\n",
    "    locations = []\n",
    "    all_cds_nt = []\n",
    "    all_cds_200_up_nt = []\n",
    "    for dirname in (sequence_dirs):\n",
    "        for genome_record in SeqIO.parse(seqdir + '/' + dirname + '/genomic.gbff', \"genbank\"):\n",
    "            accession_ver = genome_record.annotations['accessions'][0] + '.' + str(genome_record.annotations['sequence_version'])\n",
    "            names.append([accession_ver, genome_record.annotations['organism']])\n",
    "            full_sequence = str(genome_record.seq)\n",
    "            sequences.append([accession_ver, full_sequence])\n",
    "            for feature in genome_record.features:\n",
    "                a = feature.qualifiers\n",
    "                if feature.type == 'CDS' and a.get(\"translation\") != None and a.get(\"locus_tag\") != None:\n",
    "                    locus_tag = a.get(\"locus_tag\")[0]\n",
    "                    accession_locus = accession_ver + '@' + locus_tag\n",
    "                    translation = a.get(\"translation\")[0]\n",
    "                    (start, stop, strand) = (int(feature.location.start), int(feature.location.end), int(feature.location.strand))\n",
    "                    if strand == 1:\n",
    "                        nt_sequence = full_sequence[start: stop]\n",
    "                        nt_sequence_200_up = full_sequence[start-200: start]\n",
    "                    else:\n",
    "                        nt_sequence = util.reverse_complement(full_sequence[start:stop])\n",
    "                        nt_sequence_200_up = util.reverse_complement(full_sequence[stop:stop+200])\n",
    "                    locations.append([accession_locus, (start, stop, strand)])\n",
    "                    all_cds.append([accession_locus, translation])\n",
    "                    all_cds_nt.append([accession_locus, nt_sequence])\n",
    "                    all_cds_200_up_nt.append([accession_locus, nt_sequence_200_up])\n",
    "    return (all_cds, names, locations, sequences, all_cds_nt, all_cds_200_up_nt)           "
   ]
  },
  {
   "cell_type": "code",
   "execution_count": null,
   "id": "4b870157-c0aa-499e-a1e9-2fed6b97592a",
   "metadata": {},
   "outputs": [],
   "source": [
    "full_build = True\n",
    "if full_build == True:\n",
    "    parallel_output = Parallel(n_jobs=-1)(delayed(generate_protein_dataset)(num_cores, core_number, mycobacteria_dirs, mycobacteria_seq_dir) for core_number in core_numbers)\n",
    "    protein_dict = {}\n",
    "    for x in parallel_output:\n",
    "        for temp in x[0]:\n",
    "            protein_dict[temp[0]] = temp[1]"
   ]
  },
  {
   "cell_type": "code",
   "execution_count": null,
   "id": "3ef5d679-1c5b-4600-886a-a393f4e1cb98",
   "metadata": {},
   "outputs": [],
   "source": [
    "concatenated_alignment_dict = {}\n",
    "for ref in tqdm(full_ortholog_refs):\n",
    "    temp_seq = []\n",
    "    temp = tb_mycobacteria_rbh[tb_mycobacteria_rbh['query_ref'] == ref]\n",
    "    for i, r in temp.iterrows():\n",
    "        temp_seq.append([r['target_species_name'].replace(' ','_'),protein_dict[r['target_ref']]])\n",
    "    util.produce_fasta_file(temp_seq, project_dir +'/temp_seq.fasta')    \n",
    "    cline = MuscleCommandline(muscle_exe, input= project_dir +'/temp_seq.fasta', out=project_dir +'/temp_seq_alignment.fasta')\n",
    "    result = cline();    \n",
    "    alignment = util.read_fasta_to_array(project_dir +'/temp_seq_alignment.fasta')    \n",
    "    for (name, sequence) in zip(alignment[0], alignment[1]):\n",
    "        if name in concatenated_alignment_dict:\n",
    "            temp2 = concatenated_alignment_dict[name]\n",
    "            concatenated_alignment_dict[name] = temp2 + sequence\n",
    "        else:\n",
    "            concatenated_alignment_dict[name] = sequence\n",
    "temp  = []\n",
    "for k, v in concatenated_alignment_dict.items():\n",
    "    temp.append([k, v])\n",
    "util.produce_fasta_file(temp, project_dir + '/concatenated_alignment.fasta')"
   ]
  },
  {
   "cell_type": "markdown",
   "id": "49496085-01a5-49e8-bcc3-8512d46fb7d8",
   "metadata": {},
   "source": [
    "#### Number of motif hits in different species and output so can be merged with R to display info against phylo tree"
   ]
  },
  {
   "cell_type": "code",
   "execution_count": null,
   "id": "8333994f-045a-4c89-83bf-e204a5ceb096",
   "metadata": {},
   "outputs": [],
   "source": [
    "hit_info = []\n",
    "for dir in util.list_dirs(mycobacteria_seq_dir):\n",
    "#for dir in [tb_annotation_dirname]: \n",
    "    if os.path.exists(mycobacteria_seq_dir + '/' + dir + '/genomic.gbff'):\n",
    "        temp_fimo_hit_positions = []\n",
    "        for genome_record in (SeqIO.parse(mycobacteria_seq_dir + '/' + dir + '/genomic.gbff', \"genbank\")):\n",
    "            organism_name = genome_record.annotations['organism']\n",
    "            full_sequence = str(genome_record.seq)\n",
    "            util.produce_fasta_file([['temp', full_sequence]], project_dir + '/MEME_Output/temp_seq')\n",
    "            run_fimo(project_dir + '/MEME_Output/meme.txt', project_dir + '/MEME_Output/temp_seq' , project_dir + '/Temp_FIMO_Output')\n",
    "            temp_fimo_hits = pd.read_csv(project_dir + '/Temp_FIMO_Output/fimo.tsv', sep='\\t')\n",
    "            for i, r in temp_fimo_hits.iterrows():\n",
    "                if '#' in r['motif_id']:\n",
    "                    continue\n",
    "                if r['motif_alt_id'] == 'MEME-1' and float(r['q-value']) < 1e-7:\n",
    "                    temp_fimo_hit_positions.append((int(r['start']), int(r['stop']), float(r['q-value']), r['motif_alt_id'],r['matched_sequence']))\n",
    "        temp_fimo_hit_positions.sort(key = lambda x : x[2])\n",
    "        hit_info.append([organism_name.replace(' ','_'), 'Num_hits', len(temp_fimo_hit_positions)])\n",
    "        print(organism_name.replace(' ','_'), len(temp_fimo_hit_positions))"
   ]
  }
 ],
 "metadata": {
  "kernelspec": {
   "display_name": "Python 3 (ipykernel)",
   "language": "python",
   "name": "python3"
  },
  "language_info": {
   "codemirror_mode": {
    "name": "ipython",
    "version": 3
   },
   "file_extension": ".py",
   "mimetype": "text/x-python",
   "name": "python",
   "nbconvert_exporter": "python",
   "pygments_lexer": "ipython3",
   "version": "3.9.7"
  }
 },
 "nbformat": 4,
 "nbformat_minor": 5
}
