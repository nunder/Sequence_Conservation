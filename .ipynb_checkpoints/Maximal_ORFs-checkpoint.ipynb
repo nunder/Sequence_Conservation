{
 "cells": [
  {
   "cell_type": "markdown",
   "id": "eef24ce4-4729-44b6-8d43-fbdf47b9033a",
   "metadata": {},
   "source": [
    "##### Set up packages and directories"
   ]
  },
  {
   "cell_type": "code",
   "execution_count": 6,
   "id": "9105f9b4-46be-44fd-b947-d3c47ce2fa01",
   "metadata": {},
   "outputs": [],
   "source": [
    "import pandas as pd\n",
    "import pickle\n",
    "import seaborn as sns\n",
    "import matplotlib.pyplot as plt\n",
    "import numpy as np\n",
    "from scipy.fft import fft, fftfreq\n",
    "from Bio import Entrez, SeqIO, AlignIO, pairwise2, Align, Seq, motifs\n",
    "from Bio.Seq import Seq\n",
    "from Bio.SeqFeature import SeqFeature, FeatureLocation\n",
    "from scipy.stats import binom\n",
    "import math\n",
    "import random\n",
    "from tqdm.auto import tqdm\n",
    "from Comparative_Analysis import Sequence_Analysis_Routines as sar\n",
    "from Comparative_Analysis import HMM as hmm\n",
    "from Comparative_Analysis import Utilities as util\n",
    "from Comparative_Analysis import Alignment_HMM as alignment_hmm\n",
    "from Comparative_Analysis import Alignment_Analysis as alignment_analysis\n",
    "from Comparative_Analysis import Alignment as align\n",
    "from Comparative_Analysis import Master_Alignment_HMM as master_alignment_hmm\n",
    "from Comparative_Analysis import Multi_Species_Master_Alignment_HMM as multi_species_master_alignment_hmm\n",
    "from Comparative_Analysis import Arneson_Ernst_HMM as ae_hmm\n",
    "import random\n",
    "import copy\n",
    "from joblib import Parallel, delayed"
   ]
  },
  {
   "cell_type": "code",
   "execution_count": 70,
   "id": "1988a242-f558-4643-b3a9-27272fa7bebc",
   "metadata": {},
   "outputs": [],
   "source": [
    "project_dir = 'D:/Project_Data/Project_6'\n",
    "genome_datasets_dir = project_dir + '/Datasets/NCBI_Datasets'\n",
    "literature_datasets_dir = project_dir + '/Datasets/Data_From_Publications'\n",
    "cryptic_output_path = \"D:/Project_Data/CRYPTIC_DATA/Cryptic_Data_Analysis\"\n",
    "cryptic_input_path = \"D:/Project_Data/CRYPTIC_DATA/\"\n",
    "output_dir = project_dir + '/Output'\n",
    "refseq_dir = 'D:/NCBI_Dataset_Mycobacteria'\n",
    "protein_fasta_output_loc = output_dir + '/Protein_Sequences'\n",
    "outgroup_protein_fasta_output_loc = output_dir + '/Protein_Sequences_With_Outgroup'\n",
    "sonic_paranoid_run_name = 'Run_Without_Outgroup'\n",
    "outgroup_sonic_paranoid_run_name = 'Run_With_Outgroup'\n",
    "sonic_paranoid_output_loc = output_dir + '/Sonic_Paranoid_Output'\n",
    "ortholog_dir = sonic_paranoid_output_loc + '/runs/' + sonic_paranoid_run_name + '/ortholog_groups'\n",
    "outgroup_ortholog_dir = sonic_paranoid_output_loc + '/runs/' + outgroup_sonic_paranoid_run_name + '/ortholog_groups'\n",
    "non_cds_output_dir = output_dir + '/Multiple_Alignment_Data/Downstream_Non_CDS'\n",
    "upstream_non_cds_output_dir = output_dir + '/Multiple_Alignment_Data/Upstream_Non_CDS'\n",
    "cds_output_dir = output_dir + '/Multiple_Alignment_Data/CDS'\n",
    "extended_cds_output_dir = output_dir + '/Multiple_Alignment_Data/Extended_CDS'\n",
    "extended_non_cds_regions_output_dir = output_dir + '/Multiple_Alignment_Data/Extended_Non_CDS'\n",
    "outgroup_cds_output_dir = output_dir + '/Multiple_Alignment_Data/CDS_With_Outgroup'\n",
    "outgroup_concatenated_cds_output_dir = output_dir + '/Multiple_Alignment_Data/CDS_With_Outgroup_Concatenated'\n",
    "hmm_parameters_output_dir = output_dir +'/HMM_Model_Parameters'\n",
    "conservation_analysis_output_dir = output_dir + '/Conservation_Analysis'\n",
    "num_cores = 16"
   ]
  },
  {
   "cell_type": "markdown",
   "id": "017f28e8-a111-4d47-a7d6-9fbe2e08e2d4",
   "metadata": {},
   "source": [
    "##### Translation function"
   ]
  },
  {
   "cell_type": "code",
   "execution_count": 8,
   "id": "3cdf9a31-18a2-457e-9fc5-fc6c56d5d757",
   "metadata": {},
   "outputs": [],
   "source": [
    "codon_dict = {}\n",
    "with open('D:/Project_Data/Project_3/Datasets/Reference_Tables/Standard_Code.txt') as f:\n",
    "    for l in f:\n",
    "        codon_dict[str(l[1:4])] = l[5]"
   ]
  },
  {
   "cell_type": "code",
   "execution_count": 9,
   "id": "94a2ed1e-1303-4248-9b29-728cce1b9485",
   "metadata": {},
   "outputs": [],
   "source": [
    "def translate_sequence(input_seq, strand, rf):\n",
    "    output_seq = ''\n",
    "    if strand == 1:\n",
    "        seq = input_seq[rf:]\n",
    "    else:\n",
    "        seq = align.reverse_complement(input_seq)[rf:]\n",
    "    for i in range(0,len(seq)-2,3):\n",
    "        if seq[i:(i+3)] in codon_dict:\n",
    "            output_seq += codon_dict[seq[i:(i+3)]]\n",
    "        else:\n",
    "            output_seq += 'X'\n",
    "    return output_seq"
   ]
  },
  {
   "cell_type": "code",
   "execution_count": 31,
   "id": "6f975dff-4e95-44f1-978b-5c46eee3e950",
   "metadata": {},
   "outputs": [],
   "source": [
    "def translate_orf(start, end, strand):\n",
    "    return translate_sequence(full_sequence[start:end], strand, 0)              "
   ]
  },
  {
   "cell_type": "markdown",
   "id": "ad62db44-ad5e-4248-9aae-5d88c7242f79",
   "metadata": {},
   "source": [
    "##### Output nt sequences in FASTA format"
   ]
  },
  {
   "cell_type": "code",
   "execution_count": null,
   "id": "ab243605-4807-411c-8195-401b1a404c94",
   "metadata": {},
   "outputs": [],
   "source": [
    "def produce_nt_blast_file(record_list, output_filename):\n",
    "    with open(output_filename, 'w',  newline='') as outfile:\n",
    "        line_length = 60\n",
    "        for record in tqdm(record_list):\n",
    "            sequence = record[1]\n",
    "            lines = []\n",
    "            sequence_length = len(sequence)\n",
    "            number_of_lines = math.ceil(sequence_length / line_length)\n",
    "            lines.append(\">\" +record[0]+ \"\\n\")\n",
    "            for i in range(number_of_lines):\n",
    "                subsequence = sequence[i*line_length:(i+1)*line_length]\n",
    "                lines.append(subsequence + \"\\n\")\n",
    "            outfile.write(''.join(lines))"
   ]
  },
  {
   "cell_type": "markdown",
   "id": "ab3eb090-60d0-4a2d-8f83-14b2b6889726",
   "metadata": {
    "tags": []
   },
   "source": [
    "##### Mycobrowser is used for CDS demarcation, sequence is taken from GCF_000195955.2"
   ]
  },
  {
   "cell_type": "code",
   "execution_count": 91,
   "id": "e2de639b-724a-46ac-94b7-6480e9b0ff62",
   "metadata": {
    "tags": []
   },
   "outputs": [],
   "source": [
    "tb_cds_dict = {}\n",
    "genome_record = next(SeqIO.parse(genome_datasets_dir + '/GCF_000195955.2/genomic.gbff', \"genbank\"))\n",
    "full_sequence = genome_record.seq\n",
    "actual_cds_boundaries = []\n",
    "mycobrowser_df = pd.read_excel(literature_datasets_dir+'/Mycobrowser_Release_4.xlsx')\n",
    "temp = mycobrowser_df[mycobrowser_df['Feature'] == 'CDS'][['Locus','Start','Stop','Strand']]\n",
    "actual_cds_boundaries = []\n",
    "for i, r in temp.iterrows():\n",
    "    if r['Strand'] == '+':\n",
    "        strand = 1\n",
    "    else:\n",
    "        strand = -1\n",
    "    actual_cds_boundaries.append((r['Locus'],r['Start']-1, r['Stop'], strand))\n",
    "    tb_cds_dict[r['Locus']] = (r['Start']-1, r['Stop'], strand)"
   ]
  },
  {
   "cell_type": "markdown",
   "id": "beacebf7-ca45-4acd-ad98-b9377ec368da",
   "metadata": {
    "tags": []
   },
   "source": [
    "##### Load variant dataset and create variant dictionary (0 indexed for genome position - whereas CRyPtiC data uses 1 start)"
   ]
  },
  {
   "cell_type": "code",
   "execution_count": 11,
   "id": "c8830643-ee4a-42ff-a2f1-39d0154817a6",
   "metadata": {},
   "outputs": [],
   "source": [
    "variant_count_df = pd.read_csv(cryptic_output_path + '/filtered_variant_summary_df.csv')\n",
    "variant_count_df = variant_count_df[variant_count_df['MUTATION_PCT'] < 0.1]"
   ]
  },
  {
   "cell_type": "code",
   "execution_count": 12,
   "id": "8a5ac217-24ab-4e70-ac95-b7c24903ae5f",
   "metadata": {},
   "outputs": [],
   "source": [
    "temp = variant_count_df.groupby(['GENOME_INDEX'])[['MYKROBE_LINEAGE_NAME_2']].count().reset_index()\n",
    "temp_dict = dict(zip(temp.GENOME_INDEX, temp.MYKROBE_LINEAGE_NAME_2))"
   ]
  },
  {
   "cell_type": "code",
   "execution_count": 13,
   "id": "c8c05206-85d2-4eee-9040-db84f07b4773",
   "metadata": {},
   "outputs": [
    {
     "data": {
      "application/vnd.jupyter.widget-view+json": {
       "model_id": "ac5b6b98621548c7a97a7d2fe840c40e",
       "version_major": 2,
       "version_minor": 0
      },
      "text/plain": [
       "  0%|          | 0/4411532 [00:00<?, ?it/s]"
      ]
     },
     "metadata": {},
     "output_type": "display_data"
    }
   ],
   "source": [
    "mutation_counts_dict = {}\n",
    "for i in tqdm(range(len(full_sequence))):\n",
    "    if (i+1) in temp_dict:\n",
    "        mutation_counts_dict[i] = temp_dict[(i+1)]\n",
    "    else:\n",
    "        mutation_counts_dict[i] = 0"
   ]
  },
  {
   "cell_type": "markdown",
   "id": "ec65c3b9-c53e-4f86-8e21-0a4836d413c2",
   "metadata": {},
   "source": [
    "##### Define binomial probabilities for testing mutation counts"
   ]
  },
  {
   "cell_type": "code",
   "execution_count": 14,
   "id": "5f9245c0-e613-4a48-b1d8-f85b601f1a82",
   "metadata": {},
   "outputs": [],
   "source": [
    "def bin_formula(max_bin_counts, tot_bin_counts, in_frame = False):\n",
    "    return 1- binom.cdf(max_bin_counts-1, tot_bin_counts,1/3)"
   ]
  },
  {
   "cell_type": "code",
   "execution_count": 15,
   "id": "48c726de-af9f-4d31-904c-606698271a1c",
   "metadata": {},
   "outputs": [],
   "source": [
    "def mutation_bin_probability(start, end, strand):\n",
    "    mutations = []\n",
    "    for i in range(start,end):\n",
    "        for j in range(mutation_counts_dict[i]):\n",
    "            mutations.append(i)\n",
    "    bin_counts = [0,0,0]\n",
    "    for m in mutations:\n",
    "        if strand == 1:\n",
    "            bin_counts[(m-(start))%3] +=1\n",
    "        else:\n",
    "            bin_counts[((end-1)-m)%3] +=1\n",
    "    if sum(bin_counts) == 0:\n",
    "        return (2, sum(bin_counts), bin_counts)\n",
    "    else:\n",
    "        return (bin_formula(bin_counts[2], sum(bin_counts)), sum(bin_counts), bin_counts)  "
   ]
  },
  {
   "cell_type": "markdown",
   "id": "7cc97354-4eec-4741-b8b0-58b7be52aa9b",
   "metadata": {},
   "source": [
    "##### Function to find maximal open reading frame between two co-ordinates with mutation probability less than 0.001"
   ]
  },
  {
   "cell_type": "code",
   "execution_count": 94,
   "id": "de0966b0-0b35-46f6-9a47-c4dc0272f30d",
   "metadata": {},
   "outputs": [],
   "source": [
    "def max_orf(seq_start, seq_stop, p_value, output_all_orfs = False, min_orf_length = 0):\n",
    "    max_len = 0\n",
    "    orfs_found = []\n",
    "    start_pos = -999\n",
    "    end_pos = -999\n",
    "    for frame in ['Forward', 'Reverse']:\n",
    "        if frame == 'Forward':\n",
    "            temp = (full_sequence[seq_start: seq_stop])\n",
    "        else:\n",
    "            temp = align.reverse_complement(full_sequence[seq_start: seq_stop])\n",
    "        seq_len = len(temp)\n",
    "        for i in range(seq_len - 2):\n",
    "            orf_length = 0\n",
    "            test_codon = temp[i: i+3] \n",
    "            if test_codon in ['ATG','GTG','TTG']:  #Missed out CTG as doesn't seem to be used very much at all\n",
    "                for j in range(i + 3, seq_len - 2, 3):\n",
    "                    test_codon_2 = temp[j: j+3] \n",
    "                    if test_codon_2 in ['TAG','TGA','TAA']:\n",
    "                        orf_length = j - i\n",
    "                        break\n",
    "                if orf_length > 0:\n",
    "                    if frame == 'Forward':\n",
    "                        orf_start =  seq_start + i\n",
    "                        orf_end = seq_start + j+3\n",
    "                        orf_strand = 1\n",
    "                    else:\n",
    "                        orf_start =  seq_start + seq_len-(j+3)\n",
    "                        orf_end = seq_start + seq_len-i\n",
    "                        orf_strand = -1\n",
    "                    prob = mutation_bin_probability(orf_start, orf_end, orf_strand)\n",
    "                    if prob[0] < p_value and orf_length >= min_orf_length:\n",
    "                        orfs_found.append((orf_start, orf_end, orf_strand, orf_length, prob))\n",
    "                    \n",
    "                if orf_length > max_len and prob[0]< p_value and orf_length >= min_orf_length:                                           \n",
    "                    max_len = orf_length\n",
    "                    start_pos = orf_start\n",
    "                    end_pos = orf_end\n",
    "                    strand = orf_strand \n",
    "    \n",
    "    if output_all_orfs == True:\n",
    "        sorted_orfs = sorted(orfs_found, key=lambda x: x[3], reverse=True)\n",
    "        return sorted_orfs                \n",
    "    elif start_pos == -999:\n",
    "        return(0,0,0)\n",
    "    else:\n",
    "        return(start_pos, end_pos, strand, mutation_bin_probability(start_pos, end_pos, strand))   "
   ]
  },
  {
   "cell_type": "markdown",
   "id": "fa7924c2-8bba-4129-b2b5-460bb26aa46b",
   "metadata": {},
   "source": [
    "##### Graph p-values for annotated genes"
   ]
  },
  {
   "cell_type": "code",
   "execution_count": 20,
   "id": "ef5ea97f-6b6e-4cf0-a335-c4693ecb71c8",
   "metadata": {},
   "outputs": [
    {
     "data": {
      "application/vnd.jupyter.widget-view+json": {
       "model_id": "d44ca58377294efdb5666be39cad7f17",
       "version_major": 2,
       "version_minor": 0
      },
      "text/plain": [
       "  0%|          | 0/4031 [00:00<?, ?it/s]"
      ]
     },
     "metadata": {},
     "output_type": "display_data"
    }
   ],
   "source": [
    "annotated_cds_probabilities = []\n",
    "for (locus, start, stop, strand) in tqdm(actual_cds_boundaries):\n",
    "    annotated_cds_probabilities.append((locus, mutation_bin_probability(start, stop, strand)))"
   ]
  },
  {
   "cell_type": "code",
   "execution_count": 21,
   "id": "739b7a97-8bf5-4bfd-a76f-154ac634e463",
   "metadata": {},
   "outputs": [
    {
     "data": {
      "text/plain": [
       "Text(0, 0.5, 'number of genes - Mycobrowser R3 annotation')"
      ]
     },
     "execution_count": 21,
     "metadata": {},
     "output_type": "execute_result"
    },
    {
     "data": {
      "image/png": "[encoded data removed]",
      "text/plain": [
       "<Figure size 432x288 with 1 Axes>"
      ]
     },
     "metadata": {
      "needs_background": "light"
     },
     "output_type": "display_data"
    }
   ],
   "source": [
    "annotation_probs = [x[1][0] for x in annotated_cds_probabilities]\n",
    "sns.histplot(annotation_probs, bins = 100)\n",
    "plt.xlabel(\"p-value\")\n",
    "plt.ylabel(\"number of genes - Mycobrowser R3 annotation\") "
   ]
  },
  {
   "cell_type": "markdown",
   "id": "8402d7ee-46e3-4780-8432-6c2a7471c274",
   "metadata": {},
   "source": [
    "##### Identify function percentage in Unknown between high and low p-value regions"
   ]
  },
  {
   "cell_type": "code",
   "execution_count": 22,
   "id": "e26e9adb-8ed0-4155-b432-68135e837895",
   "metadata": {},
   "outputs": [],
   "source": [
    "locus_info_dict = {}\n",
    "for i, r in mycobrowser_df.iterrows():\n",
    "    if r['Feature'] == 'CDS':\n",
    "        locus_info_dict[r['Locus']] = r['Function']"
   ]
  },
  {
   "cell_type": "code",
   "execution_count": 23,
   "id": "b398cf17-b8fc-489d-8aca-f29fd6b16346",
   "metadata": {},
   "outputs": [
    {
     "name": "stdout",
     "output_type": "stream",
     "text": [
      "376 526\n",
      "2310 4031\n",
      "0.714828897338403 0.5517831669044223\n"
     ]
    }
   ],
   "source": [
    "locus_exceptions = [x[0] for x in annotated_cds_probabilities if (x[1][0] > 0.5 and x[1][0] < 1.1)]\n",
    "num_unknown_exceptions = 0\n",
    "for ex in locus_exceptions:\n",
    "    if 'nknown' in locus_info_dict[ex]:\n",
    "        num_unknown_exceptions += 1\n",
    "tot_locus = [x[0] for x in annotated_cds_probabilities]\n",
    "num_unknown_tot = 0\n",
    "for ex in tot_locus:\n",
    "    if len(str(locus_info_dict[ex])) > 4:\n",
    "        if 'nknown' in locus_info_dict[ex]:\n",
    "            num_unknown_tot += 1\n",
    "print(num_unknown_exceptions, len(locus_exceptions))\n",
    "print(num_unknown_tot, len(tot_locus))\n",
    "print(num_unknown_exceptions/len(locus_exceptions), (num_unknown_tot-num_unknown_exceptions)/(len(tot_locus)-len(locus_exceptions)))"
   ]
  },
  {
   "cell_type": "markdown",
   "id": "aa633da4-f38a-4a32-a939-8a21e77079b8",
   "metadata": {},
   "source": [
    "##### Percentage of nt mutated by each CDS"
   ]
  },
  {
   "cell_type": "code",
   "execution_count": 27,
   "id": "97a4af84-aca1-42e9-bd7a-f814eb023972",
   "metadata": {},
   "outputs": [
    {
     "data": {
      "text/plain": [
       "<AxesSubplot:ylabel='Count'>"
      ]
     },
     "execution_count": 27,
     "metadata": {},
     "output_type": "execute_result"
    },
    {
     "data": {
      "image/png": "[encoded data removed]",
      "text/plain": [
       "<Figure size 432x288 with 1 Axes>"
      ]
     },
     "metadata": {
      "needs_background": "light"
     },
     "output_type": "display_data"
    }
   ],
   "source": [
    "num_mutations = []\n",
    "for k, v in mutation_counts_dict.items():\n",
    "    num_mutations.append(v)\n",
    "sns.histplot(num_mutations, bins=100)"
   ]
  },
  {
   "cell_type": "code",
   "execution_count": 22,
   "id": "814562e1-7ff4-4c0b-9a5b-e0b7f291bb49",
   "metadata": {},
   "outputs": [
    {
     "data": {
      "application/vnd.jupyter.widget-view+json": {
       "model_id": "2b387d7bdb6243e886692c9d252c400b",
       "version_major": 2,
       "version_minor": 0
      },
      "text/plain": [
       "  0%|          | 0/4031 [00:00<?, ?it/s]"
      ]
     },
     "metadata": {},
     "output_type": "display_data"
    },
    {
     "data": {
      "text/plain": [
       "<AxesSubplot:xlabel='Pct_Mutation', ylabel='Count'>"
      ]
     },
     "execution_count": 22,
     "metadata": {},
     "output_type": "execute_result"
    },
    {
     "data": {
      "image/png": "[encoded data removed]",
      "text/plain": [
       "<Figure size 432x288 with 1 Axes>"
      ]
     },
     "metadata": {
      "needs_background": "light"
     },
     "output_type": "display_data"
    }
   ],
   "source": [
    "cds_mutation_percentage = []\n",
    "for (locus, start, stop, strand) in tqdm(actual_cds_boundaries):\n",
    "    num_mutations = 0\n",
    "    for i in range(start,stop):\n",
    "        num_mutations += (mutation_counts_dict[i])\n",
    "    cds_mutation_percentage.append([locus, num_mutations / (stop - start)])\n",
    "temp = pd.DataFrame(cds_mutation_percentage)\n",
    "temp.columns = ['Locus', 'Pct_Mutation']\n",
    "sns.histplot(temp['Pct_Mutation'])"
   ]
  },
  {
   "cell_type": "markdown",
   "id": "c0373163-fe39-44e7-99f5-9c0e8fb34301",
   "metadata": {},
   "source": [
    "##### Take high p-value regions and identify if there are alternative reading frames which make mutation patterns more likely"
   ]
  },
  {
   "cell_type": "code",
   "execution_count": 82,
   "id": "f176a6af-1b51-4e03-b94d-fbefba176c57",
   "metadata": {},
   "outputs": [],
   "source": [
    "r['Start']-1, r['Stop']"
   ]
  },
  {
   "cell_type": "code",
   "execution_count": 82,
   "id": "de27d28e-4b3a-41b4-87c6-74ba1716255f",
   "metadata": {},
   "outputs": [
    {
     "data": {
      "text/plain": [
       "[(925207, 927673, -1, 2463, (0.13264925795753535, 53, [15, 16, 22])),\n",
       " (925207, 927646, -1, 2436, (0.14942055265997867, 51, [15, 15, 21])),\n",
       " (925207, 927628, -1, 2418, (0.18925697516111928, 47, [13, 15, 19])),\n",
       " (927663, 927936, 1, 270, (0.1374009317715812, 128, [32, 47, 49])),\n",
       " (927724, 927886, -1, 159, (0.06863272472627346, 68, [13, 26, 29])),\n",
       " (927724, 927868, -1, 141, (0.17427793358624089, 63, [13, 25, 25])),\n",
       " (927836, 927959, -1, 120, (0.08309654948272871, 88, [31, 21, 36])),\n",
       " (927906, 927936, 1, 27, (0.037653335915162955, 32, [5, 11, 16])),\n",
       " (927915, 927936, 1, 18, (0.018795001226833197, 30, [4, 10, 16])),\n",
       " (927924, 927936, 1, 9, (0.028441128095468837, 24, [2, 9, 13]))]"
      ]
     },
     "execution_count": 82,
     "metadata": {},
     "output_type": "execute_result"
    }
   ],
   "source": [
    "max_orf(925100, 928000, 0.2 , output_all_orfs = True)"
   ]
  },
  {
   "cell_type": "code",
   "execution_count": 117,
   "id": "d9628a76-e47a-4822-ae88-07cce5fac995",
   "metadata": {},
   "outputs": [
    {
     "name": "stdout",
     "output_type": "stream",
     "text": [
      "[['Rv0698_9_alt', 'VVPVATAALARPATAAPVVPVATAVPAATVAVAMPATPAQAAMAARAATVSALAPPAARAARAALAPTAVPATATLAVATPVTAATAAPAAAATRAAPAAQVARVGSVAPGAAAAALAAAPAATAATAAPAAPASCLAARAATGATVTTVGLPPTRAAAAAAAPAAPAATVAPGVTPPAQAARAAPVAMAVMGASALPAAPPPSGSRAPPAATAARAAPVAATPTAQVATAARAATAVPAATGARSAPTAASSAVPVGPVALAAPAETAALAPARAARAATVATAVTASAATAPSPKAAAAVAAAPAAPAAAAFSAARAASAATAVRAAPTAAVPSAPWPVAAATAVSAAGAATASLPVPAARAASVGRAAMAAAPPAATAALAARAVAEATPRTAASVATAVRVARAALAAALRARPASAVTAVTAVTAATAATAAPRPAAPAAKGRPASPTQARSQGSAATAASAAPAQHPDHRLTAMLGTHGKGLAA']]\n"
     ]
    },
    {
     "data": {
      "application/vnd.jupyter.widget-view+json": {
       "model_id": "32e95ae9cd584725bf4675083a3d63f0",
       "version_major": 2,
       "version_minor": 0
      },
      "text/plain": [
       "  0%|          | 0/1 [00:00<?, ?it/s]"
      ]
     },
     "metadata": {},
     "output_type": "display_data"
    }
   ],
   "source": [
    "a = translate_orf(3736931, 3738404, -1)\n",
    "record = [['Rv0698_9_alt', a[:-1]]]\n",
    "print(record)\n",
    "produce_nt_blast_file(record, refseq_dir + '/putative_protein.faa')"
   ]
  },
  {
   "cell_type": "code",
   "execution_count": 112,
   "id": "fe58f983-78ee-4e16-ab59-e62cb7b68112",
   "metadata": {},
   "outputs": [],
   "source": [
    "w_d = os.getcwd()\n",
    "os.chdir(\"D:/\")\n",
    "subprocess.run('cd d:\\\\BLAST\\\\mycorefseq_nt & tblastn -query d:\\\\NCBI_Dataset_Mycobacteria\\\\Protein_putative_protein.faa -db myco_refseq_nt -out tblastn_testresults.xml -evalue 0.001 -outfmt 5 -num_threads 16', shell=True, capture_output = True)\n",
    "os.chdir(w_d)"
   ]
  },
  {
   "cell_type": "code",
   "execution_count": 112,
   "id": "56825b62-ed07-4e25-a2e0-57766d26bd1f",
   "metadata": {},
   "outputs": [],
   "source": [
    "coverage_df = pd.read_csv(project_dir + '/coverage.csv')"
   ]
  },
  {
   "cell_type": "code",
   "execution_count": 101,
   "id": "ba2887fa-1db0-4f0f-adb7-7995acbfe116",
   "metadata": {},
   "outputs": [],
   "source": [
    "low_coverage_genes = []\n",
    "for i, r in coverage_df.iterrows():\n",
    "    if r['cover'] < 3:\n",
    "        low_coverage_genes.append(r['locus_tag'])"
   ]
  },
  {
   "cell_type": "code",
   "execution_count": 115,
   "id": "167cc353-621d-4252-9e4d-0de36a6f4c6f",
   "metadata": {},
   "outputs": [
    {
     "name": "stdout",
     "output_type": "stream",
     "text": [
      "Rv0057 59895 60417 1\n",
      "Rv0078A 87207 87801 -1\n",
      "Rv0105c 123979 124264 -1\n",
      "Rv0257 309698 310073 1\n",
      "Rv0325 392038 392263 1\n",
      "(392155, 392329, -1, 171, (0.9740658277920202, 83, [32, 31, 20]))\n",
      "Rv0354c 424268 424694 -1\n",
      "(424321, 424648, -1, 324, (0.763866490071495, 105, [37, 36, 32]))\n",
      "Rv0378 455636 455858 1\n",
      "(455558, 455891, -1, 330, (0.9803702141330143, 137, [57, 45, 35]))\n",
      "(455558, 455870, -1, 309, (0.9752149451543137, 125, [51, 42, 32]))\n",
      "Rv0394c 474121 474841 -1\n",
      "Rv0456A 547075 547357 -1\n",
      "Rv0456B 547343 547517 -1\n",
      "(547268, 547493, 1, 222, (0.7057303582186016, 93, [33, 31, 29]))\n",
      "(547299, 547440, 1, 138, (0.4759278422429075, 61, [19, 21, 21]))\n",
      "Rv0470A 561853 562294 -1\n",
      "Rv0488 577663 578269 1\n",
      "Rv0604 700238 701189 1\n",
      "Rv0605 701405 702014 1\n",
      "Rv0609A 703829 704057 1\n",
      "(703793, 704051, -1, 255, (0.04941035287691031, 117, [33, 36, 48]))\n",
      "(703893, 704118, -1, 222, (0.8881080169195134, 93, [40, 27, 26]))\n",
      "Rv0610c 704751 705909 -1\n",
      "(704715, 705666, 1, 948, (0.02375139312061636, 429, [127, 139, 163]))\n",
      "(704718, 705666, 1, 945, (0.02375139312061636, 429, [127, 139, 163]))\n",
      "Rv0657c 753461 753617 -1\n",
      "Rv0664 758531 758804 1\n",
      "Rv0666 759135 759309 1\n",
      "(759128, 759368, -1, 237, (0.053985271396513546, 96, [33, 23, 40]))\n",
      "(759128, 759299, -1, 168, (0.11288646960682414, 71, [25, 17, 29]))\n",
      "(759187, 759328, -1, 138, (0.35649430868621557, 49, [9, 22, 18]))\n",
      "Rv0698 798832 799444 1\n",
      "Rv0699 799628 799850 1\n",
      "Rv0745 835153 835681 1\n",
      "Rv0750 842032 842278 1\n",
      "(842023, 842326, -1, 300, (2, 0, [0, 0, 0]))\n",
      "(842023, 842221, -1, 195, (2, 0, [0, 0, 0]))\n",
      "Rv0942 1052359 1052638 1\n",
      "(1052304, 1052550, -1, 243, (0.563709572472425, 106, [32, 39, 35]))\n",
      "Rv0979c 1094669 1094864 -1\n",
      "(1094608, 1094800, -1, 189, (0.7268507692495784, 75, [23, 29, 23]))\n",
      "(1094608, 1094767, -1, 156, (0.5121695332266691, 59, [19, 20, 20]))\n",
      "Rv0989c 1106404 1107382 -1\n",
      "Rv0997 1114292 1114724 1\n",
      "(1114385, 1114778, -1, 390, (0.2443623242391776, 140, [49, 40, 51]))\n",
      "(1114385, 1114718, -1, 330, (0.11318086789561677, 129, [45, 34, 50]))\n",
      "Rv1012 1131127 1131421 1\n",
      "(1131107, 1131410, 1, 300, (0.6748053683321329, 132, [48, 42, 42]))\n",
      "(1131119, 1131410, 1, 288, (0.7413368341994985, 129, [47, 42, 40]))\n",
      "Rv1037c 1160543 1160828 -1\n",
      "(1160480, 1160840, 1, 357, (0.679311042600595, 26, [12, 6, 8]))\n",
      "(1160498, 1160840, 1, 339, (0.39148965350668397, 18, [6, 5, 7]))\n",
      "(1160576, 1160840, 1, 261, (2, 0, [0, 0, 0]))\n",
      "(1160615, 1160840, 1, 222, (2, 0, [0, 0, 0]))\n",
      "Rv1088 1214512 1214947 1\n",
      "Rv1116 1241002 1241188 1\n",
      "(1241032, 1241227, -1, 192, (0.5710846569306838, 85, [33, 24, 28]))\n",
      "(1241114, 1241258, -1, 141, (0.5881622498454684, 55, [19, 18, 18]))\n",
      "(1241032, 1241176, -1, 141, (0.3735851062894504, 64, [30, 11, 23]))\n",
      "Rv1119c 1242863 1243013 -1\n",
      "(1242793, 1242943, 1, 147, (0.40096621489543716, 56, [12, 24, 20]))\n",
      "Rv1180 1313724 1315191 1\n",
      "Rv1198 1341005 1341290 1\n",
      "(1340957, 1341293, -1, 333, (1.0, 3, [3, 0, 0]))\n",
      "(1340957, 1341257, -1, 297, (2, 0, [0, 0, 0]))\n",
      "(1340957, 1341218, -1, 258, (2, 0, [0, 0, 0]))\n",
      "Rv1351 1518230 1518560 1\n",
      "Rv1374c 1547071 1547530 -1\n",
      "Rv1424c 1598892 1599654 -1\n",
      "Rv1434 1612255 1612393 1\n",
      "(1612298, 1612442, 1, 141, (0.38872163396900383, 44, [14, 14, 16]))\n",
      "(1612232, 1612352, -1, 117, (0.275130717848881, 44, [18, 9, 17]))\n",
      "(1612341, 1612452, -1, 108, (0.4662454822931539, 31, [8, 12, 11]))\n",
      "Rv1489A 1678941 1679172 1\n",
      "(1678928, 1679222, -1, 291, (0.9320597577457402, 63, [24, 23, 16]))\n",
      "(1678928, 1679180, -1, 249, (0.712521027047053, 46, [16, 16, 14]))\n",
      "(1678928, 1679123, -1, 192, (0.05761630485165181, 14, [1, 5, 8]))\n",
      "(1678928, 1679120, -1, 189, (0.05761630485165181, 14, [1, 5, 8]))\n",
      "Rv1507A 1697355 1697859 1\n",
      "Rv1508A 1699865 1700228 1\n",
      "Rv1509 1700211 1701093 1\n",
      "(1700313, 1701030, -1, 714, (0.42302852220065656, 288, [101, 89, 98]))\n",
      "(1700313, 1701027, -1, 711, (0.42302852220065656, 288, [101, 89, 98]))\n",
      "(1700313, 1700982, -1, 666, (0.5565496825599108, 275, [99, 85, 91]))\n",
      "Rv1519 1710732 1711002 1\n",
      "(1710671, 1711031, 1, 357, (0.75253088816763, 95, [31, 35, 29]))\n",
      "(1710737, 1711031, 1, 291, (0.635024814343669, 47, [20, 12, 15]))\n",
      "(1710743, 1711031, 1, 285, (0.8446015286980376, 44, [20, 12, 12]))\n",
      "(1710752, 1711031, 1, 276, (0.7605068472174552, 41, [18, 11, 12]))\n",
      "(1710699, 1710936, -1, 234, (0.6475774269573826, 66, [24, 21, 21]))\n",
      "(1710699, 1710930, -1, 228, (0.6475774269573826, 66, [24, 21, 21]))\n",
      "(1710680, 1710890, -1, 207, (0.5106674197846572, 77, [24, 27, 26]))\n",
      "Rv1545 1746918 1747146 1\n",
      "(1746957, 1747191, -1, 231, (0.4210107461394752, 89, [34, 24, 31]))\n",
      "(1746957, 1747161, -1, 201, (0.5751374316383653, 76, [30, 21, 25]))\n",
      "Rv1574 1779929 1780241 1\n",
      "(1779894, 1780230, 1, 333, (2, 0, [0, 0, 0]))\n",
      "Rv1575 1780198 1780699 1\n",
      "Rv1580c 1783619 1783892 -1\n",
      "(1783672, 1783966, -1, 291, (0.47884568316455645, 79, [30, 22, 27]))\n",
      "(1783672, 1783909, -1, 234, (0.4098936268612734, 68, [25, 19, 24]))\n",
      "Rv1669 1895724 1896087 1\n",
      "Rv1740 1967704 1967917 1\n",
      "(1967633, 1967954, -1, 318, (0.4838755477752723, 136, [42, 48, 46]))\n",
      "(1967753, 1967960, 1, 204, (0.6863557285103918, 86, [30, 29, 27]))\n",
      "(1967688, 1967880, -1, 189, (0.38777324461787543, 82, [30, 23, 29]))\n",
      "(1967688, 1967865, -1, 174, (0.44598533552353314, 75, [27, 22, 26]))\n",
      "Rv1741 1967916 1968165 1\n",
      "Rv1799 2039158 2039350 1\n",
      "(2039100, 2039283, -1, 180, (0.02857785488606246, 74, [23, 18, 33]))\n",
      "Rv1805c 2047686 2048034 -1\n",
      "(2047666, 2047969, -1, 300, (0.5723618624772229, 82, [27, 28, 27]))\n",
      "Rv1831 2075570 2075828 1\n",
      "(2075684, 2075888, -1, 201, (0.1765293879408929, 77, [27, 20, 30]))\n",
      "Rv1915 2160462 2161566 1\n",
      "Rv1943c 2194969 2195347 -1\n",
      "Rv1946c 2197507 2197960 -1\n",
      "Rv1954c 2201222 2201744 -1\n",
      "Rv1955 2201718 2202096 1\n",
      "(2201844, 2202135, -1, 288, (0.7286576529500909, 119, [46, 36, 37]))\n",
      "Rv1957 2202583 2203129 1\n",
      "Rv1958c 2203017 2203632 -1\n",
      "Rv1961 2204211 2204706 1\n",
      "(2204217, 2204745, -1, 525, (0.7864735746203496, 241, [97, 69, 75]))\n",
      "(2204217, 2204721, -1, 501, (0.8510208946766433, 234, [95, 68, 71]))\n",
      "(2204217, 2204718, -1, 498, (0.8510208946766433, 234, [95, 68, 71]))\n",
      "(2204217, 2204691, -1, 471, (0.9145603694252059, 219, [91, 64, 64]))\n",
      "Rv2019 2265988 2266405 1\n",
      "(2266152, 2266467, 1, 312, (0.7617888129848371, 152, [55, 50, 47]))\n",
      "Rv2023c 2267748 2268108 -1\n",
      "(2267840, 2268149, -1, 306, (0.34032880171470314, 130, [40, 44, 46]))\n",
      "Rv2076c 2333036 2333288 -1\n",
      "(2333049, 2333250, -1, 198, (0.6041609124446432, 80, [35, 19, 26]))\n",
      "Rv2081c 2338064 2338505 -1\n",
      "Rv2126c 2387201 2387972 -1\n",
      "(2387238, 2387874, 1, 633, (0.0073580418489834765, 331, [93, 106, 132]))\n",
      "(2387256, 2387874, 1, 615, (0.007774542092426673, 326, [90, 106, 130]))\n",
      "(2387268, 2387874, 1, 603, (0.005283664113293507, 320, [88, 103, 129]))\n",
      "Rv2142A 2402506 2402722 -1\n",
      "Rv2142c 2402192 2402510 -1\n",
      "Rv2269c 2544288 2544621 -1\n",
      "Rv2274A 2546838 2547087 -1\n",
      "Rv2274c 2546487 2546805 -1\n",
      "Rv2283 2555940 2556135 1\n",
      "(2555924, 2556173, -1, 246, (0.9173508863272494, 122, [40, 48, 34]))\n",
      "(2555900, 2556140, 1, 237, (0.7072714231205898, 118, [33, 48, 37]))\n",
      "(2555924, 2556164, -1, 237, (0.9200611142036446, 119, [39, 47, 33]))\n",
      "(2555924, 2556146, -1, 219, (0.9255922556814985, 113, [37, 45, 31]))\n",
      "(2555927, 2556140, 1, 210, (0.7838549582325529, 106, [31, 43, 32]))\n",
      "(2555896, 2556085, 1, 186, (0.1726523342618309, 88, [32, 22, 34]))\n",
      "(2555951, 2556140, 1, 186, (0.5665781707283315, 97, [28, 37, 32]))\n",
      "(2555924, 2556092, -1, 165, (0.9642607398857247, 81, [28, 33, 20]))\n",
      "(2555916, 2556069, -1, 150, (0.07728325648070422, 66, [12, 26, 28]))\n",
      "Rv2288 2561327 2561705 1\n",
      "Rv2292c 2564028 2564253 -1\n",
      "Rv2307A 2579227 2579419 -1\n",
      "(2579235, 2579496, -1, 258, (0.5723618624772229, 82, [21, 34, 27]))\n",
      "(2579159, 2579375, -1, 213, (0.2713730114708016, 78, [23, 26, 29]))\n",
      "(2579235, 2579412, -1, 174, (0.7269507994892748, 56, [19, 20, 17]))\n",
      "(2579235, 2579409, -1, 171, (0.7894516033023795, 55, [19, 20, 16]))\n",
      "(2579243, 2579399, 1, 153, (0.28736866245783776, 50, [19, 12, 19]))\n",
      "(2579235, 2579385, -1, 147, (0.677142321247682, 45, [15, 16, 14]))\n",
      "(2579235, 2579382, -1, 144, (0.677142321247682, 45, [15, 16, 14]))\n",
      "Rv2307D 2580027 2580210 -1\n",
      "(2579991, 2580255, 1, 261, (0.5611824385117372, 115, [42, 35, 38]))\n",
      "(2580037, 2580253, -1, 213, (0.859297817415706, 91, [35, 30, 26]))\n",
      "(2580037, 2580226, -1, 186, (0.6961941483810921, 77, [28, 25, 24]))\n",
      "(2580037, 2580208, -1, 168, (0.8082751224024219, 72, [27, 24, 21]))\n",
      "(2580037, 2580196, -1, 156, (0.88134687650116, 66, [24, 24, 18]))\n",
      "(2579948, 2580095, 1, 144, (0.6394050350616864, 44, [18, 12, 14]))\n",
      "Rv2309A 2583044 2583332 1\n",
      "Rv2341 2619596 2620016 1\n",
      "(2619548, 2620064, -1, 513, (0.16783624332534008, 227, [69, 75, 83]))\n",
      "(2619548, 2620046, -1, 495, (0.16301550624376482, 218, [66, 72, 80]))\n",
      "(2619548, 2620034, -1, 483, (0.16136386941228964, 215, [66, 70, 79]))\n",
      "(2619548, 2619962, -1, 411, (0.1203650828338878, 183, [56, 58, 69]))\n",
      "(2619684, 2620041, 1, 354, (0.3564802113065171, 163, [57, 49, 57]))\n",
      "(2619548, 2619899, -1, 348, (0.12048040754649436, 152, [47, 47, 58]))\n",
      "Rv2369c 2649945 2650248 -1\n",
      "Rv2395B 2692550 2692715 1\n",
      "(2692548, 2692674, 1, 123, (0.9704618320385311, 68, [27, 25, 16]))\n",
      "Rv2401 2697727 2698057 1\n",
      "Rv2438A 2736708 2736987 1\n",
      "Rv2451 2752261 2752660 1\n",
      "Rv2452c 2752847 2752994 -1\n",
      "(2752851, 2753064, 1, 210, (0.4480048634974927, 81, [28, 25, 28]))\n",
      "(2752875, 2753064, 1, 186, (0.4775275905885781, 70, [25, 21, 24]))\n",
      "(2752935, 2753064, 1, 126, (0.35216363797632066, 46, [16, 13, 17]))\n",
      "Rv2472 2775271 2775565 1\n",
      "Rv2481c 2786574 2786898 -1\n",
      "(2786596, 2786917, 1, 318, (0.41224950062277277, 136, [31, 58, 47]))\n",
      "(2786620, 2786917, 1, 294, (0.5330696774693728, 129, [30, 56, 43]))\n",
      "(2786629, 2786917, 1, 285, (0.5082887077294861, 128, [30, 55, 43]))\n",
      "(2786577, 2786847, 1, 267, (0.12886802229055938, 119, [46, 27, 46]))\n",
      "Rv2489c 2800845 2801145 -1\n",
      "(2800788, 2801049, 1, 258, (0.7547061372335919, 114, [43, 36, 35]))\n",
      "(2800794, 2801049, 1, 252, (0.7961357968694571, 113, [43, 36, 34]))\n",
      "Rv2492 2807277 2808030 1\n",
      "Rv2513 2830160 2830583 1\n",
      "Rv2545 2867782 2868061 1\n",
      "Rv2614A 2943375 2943603 1\n",
      "(2943451, 2943655, -1, 201, (0.5395675321471749, 90, [31, 29, 30]))\n",
      "Rv2635 2962469 2962712 1\n",
      "(2962564, 2962789, -1, 222, (0.8394617730175009, 122, [46, 40, 36]))\n",
      "(2962564, 2962783, -1, 216, (0.8394617730175009, 122, [46, 40, 36]))\n",
      "Rv2644c 2968532 2968850 -1\n",
      "(2968499, 2968832, 1, 330, (0.8854629583157605, 161, [61, 53, 47]))\n",
      "(2968523, 2968832, 1, 306, (0.8729708704692443, 147, [57, 47, 43]))\n",
      "(2968554, 2968854, -1, 297, (0.5562886943470289, 136, [52, 39, 45]))\n",
      "(2968541, 2968832, 1, 288, (0.7236709452177368, 125, [46, 40, 39]))\n",
      "(2968550, 2968832, 1, 279, (0.7464297749233715, 123, [45, 40, 38]))\n",
      "Rv2647 2971658 2972027 1\n",
      "Rv2652c 2975927 2976554 -1\n",
      "Rv2653c 2976585 2976909 -1\n",
      "Rv2654c 2976988 2977234 -1\n",
      "Rv2658c 2979325 2979688 -1\n",
      "Rv2660c 2980962 2981190 -1\n",
      "(2980976, 2981165, -1, 186, (0.736587116483427, 88, [32, 29, 27]))\n",
      "Rv2661c 2981186 2981576 -1\n",
      "Rv2706c 3020199 3020457 -1\n",
      "Rv2722 3034634 3034883 1\n",
      "(3034672, 3034891, 1, 216, (2.4551995766119994e-05, 108, [25, 26, 57]))\n",
      "(3034699, 3034891, 1, 189, (5.139821378730147e-06, 97, [24, 19, 54]))\n",
      "Rv2730 3042541 3043018 1\n",
      "Rv2742c 3055514 3056348 -1\n",
      "Rv2767c 3076366 3076720 -1\n",
      "Rv2774c 3082351 3082756 -1\n",
      "(3082346, 3082733, -1, 384, (0.8466479095401669, 27, [8, 12, 7]))\n",
      "(3082346, 3082694, -1, 345, (0.8466479095401669, 27, [8, 12, 7]))\n",
      "(3082346, 3082658, -1, 309, (0.8466479095401669, 27, [8, 12, 7]))\n",
      "Rv2804c 3112464 3113094 -1\n",
      "(3112457, 3112994, 1, 534, (0.3816497495556651, 176, [47, 68, 61]))\n",
      "Rv2805 3112866 3113271 1\n",
      "Rv2862A 3174746 3174995 1\n",
      "(3174823, 3175042, -1, 216, (0.48028913914332594, 91, [29, 31, 31]))\n",
      "Rv2886c 3195544 3196432 -1\n",
      "(3195556, 3196429, 1, 870, (0.5957236096015897, 95, [26, 38, 31]))\n",
      "Rv2929 3242969 3243281 1\n",
      "Rv2960c 3312952 3313201 -1\n",
      "(3312899, 3313124, -1, 222, (0.8769408044888163, 102, [38, 35, 29]))\n",
      "Rv2961 3313282 3313672 1\n",
      "(3313315, 3313729, -1, 411, (0.13058303122733905, 150, [47, 46, 57]))\n",
      "(3313315, 3313639, -1, 321, (0.09040437525847089, 116, [35, 35, 46]))\n",
      "(3313315, 3313624, -1, 306, (0.060617631157107166, 113, [33, 34, 46]))\n",
      "Rv2975c 3331357 3331612 -1\n",
      "(3331457, 3331670, 1, 210, (0.02524511672964691, 76, [21, 21, 34]))\n",
      "(3331460, 3331670, 1, 207, (0.03504728777792809, 75, [21, 21, 33]))\n",
      "(3331469, 3331670, 1, 198, (0.07279083591195934, 71, [21, 20, 30]))\n",
      "(3331472, 3331670, 1, 195, (0.060931563974041536, 70, [21, 19, 30]))\n",
      "Rv2979c 3335163 3335748 -1\n",
      "Rv2998 3356814 3357276 1\n",
      "Rv3098c 3467209 3467662 -1\n",
      "Rv3108 3477059 3477500 1\n",
      "Rv3111 3479170 3479683 1\n",
      "Rv3112 3479699 3479951 1\n",
      "Rv3122 3488088 3488559 1\n",
      "Rv3123 3488568 3489063 1\n",
      "Rv3126c 3491807 3492122 -1\n",
      "(3491789, 3492065, 1, 273, (0.060102784333544546, 62, [18, 17, 27]))\n",
      "(3491792, 3492065, 1, 270, (0.060102784333544546, 62, [18, 17, 27]))\n",
      "Rv3222c 3598352 3598904 -1\n",
      "(3598387, 3598864, 1, 474, (0.6077936916616551, 126, [34, 51, 41]))\n",
      "Rv3344c 3736983 3738438 -1\n",
      "(3736931, 3738404, -1, 1470, (0.9985347169597782, 301, [79, 145, 77]))\n",
      "(3736931, 3738401, -1, 1467, (0.9985347169597782, 301, [79, 145, 77]))\n",
      "(3736931, 3738395, -1, 1461, (0.9985347169597782, 301, [79, 145, 77]))\n",
      "(3736931, 3738353, -1, 1419, (0.9985347169597782, 301, [79, 145, 77]))\n",
      "(3736931, 3738350, -1, 1416, (0.9985347169597782, 301, [79, 145, 77]))\n",
      "(3736931, 3738344, -1, 1410, (0.9985347169597782, 301, [79, 145, 77]))\n",
      "(3736931, 3738332, -1, 1398, (0.9985347169597782, 301, [79, 145, 77]))\n",
      "(3736931, 3738317, -1, 1383, (0.9985347169597782, 301, [79, 145, 77]))\n",
      "(3736931, 3738311, -1, 1377, (0.9985347169597782, 301, [79, 145, 77]))\n",
      "(3736931, 3738305, -1, 1371, (0.9985347169597782, 301, [79, 145, 77]))\n",
      "(3736931, 3738278, -1, 1344, (0.9985347169597782, 301, [79, 145, 77]))\n",
      "(3736931, 3738257, -1, 1323, (0.9985347169597782, 301, [79, 145, 77]))\n",
      "(3736931, 3738173, -1, 1239, (0.9985347169597782, 301, [79, 145, 77]))\n",
      "(3736931, 3738101, -1, 1167, (0.9985347169597782, 301, [79, 145, 77]))\n",
      "(3736931, 3738092, -1, 1158, (0.9985347169597782, 301, [79, 145, 77]))\n",
      "(3736931, 3738083, -1, 1149, (0.9985347169597782, 301, [79, 145, 77]))\n",
      "(3736931, 3738056, -1, 1122, (0.9985347169597782, 301, [79, 145, 77]))\n",
      "Rv3346c 3743197 3743455 -1\n",
      "(3743240, 3743531, 1, 288, (0.11111111111111116, 2, [0, 0, 2]))\n",
      "(3743216, 3743480, -1, 261, (2, 0, [0, 0, 0]))\n",
      "(3743133, 3743394, 1, 258, (0.6380292016416718, 22, [9, 6, 7]))\n",
      "(3743282, 3743531, 1, 246, (0.11111111111111116, 2, [0, 0, 2]))\n",
      "(3743216, 3743414, -1, 195, (2, 0, [0, 0, 0]))\n",
      "Rv3353c 3768735 3768996 -1\n",
      "Rv3424c 3841713 3842076 -1\n",
      "Rv3487c 3906173 3907007 -1\n",
      "(3906242, 3906875, 1, 630, (0.20391806001915325, 279, [77, 102, 100]))\n",
      "Rv3512 3941723 3944963 1\n",
      "Rv3513c 3945091 3945748 -1\n",
      "(3945109, 3945712, 1, 600, (0.5136140811083703, 47, [11, 20, 16]))\n",
      "(3945118, 3945712, 1, 591, (0.5136140811083703, 47, [11, 20, 16]))\n",
      "Rv3566A 4008166 4008433 -1\n",
      "(4008175, 4008448, 1, 270, (0.12802504090696487, 105, [37, 27, 41]))\n",
      "Rv3612c 4053517 4053847 -1\n",
      "Rv3613c 4053880 4054042 -1\n",
      "(4053926, 4054118, -1, 189, (0.8783885320319652, 89, [32, 32, 25]))\n",
      "(4053926, 4054109, -1, 180, (0.8912635270105338, 80, [28, 30, 22]))\n",
      "(4053926, 4054100, -1, 171, (0.8863494510643488, 73, [25, 28, 20]))\n",
      "(4053855, 4053981, 1, 123, (0.995128938250789, 24, [11, 10, 3]))\n",
      "Rv3770c 4215199 4215775 -1\n",
      "(4215289, 4215802, 1, 510, (0.39183971992837385, 212, [71, 68, 73]))\n",
      "Rv3771c 4216403 4216730 -1\n",
      "Rv3827c 4301562 4302789 -1\n",
      "Rv3828c 4302785 4303397 -1\n",
      "(4302733, 4303261, 1, 525, (2, 0, [0, 0, 0]))\n",
      "Rv3861 4337945 4338272 1\n",
      "Rv3897c 4383007 4383640 -1\n"
     ]
    }
   ],
   "source": [
    "#locus_exceptions = [x[0] for x in annotated_cds_probabilities if (x[1][0] > 0.5 and x[1][0] < 1.1)]\n",
    "#for l in locus_exceptions:\n",
    "for l in low_coverage_genes:\n",
    "    if l in tb_cds_dict:\n",
    "        (start, end, strand) = tb_cds_dict[l]\n",
    "        print (l, start, end, strand)\n",
    "        alt_orfs = max_orf(start - 80, end + 80, 3 , output_all_orfs = True, min_orf_length = int(0.75 * (end-start)))\n",
    "        if len(alt_orfs) > 0:\n",
    "            for orf in alt_orfs:\n",
    "                    if orf[2] != strand or (orf[1] - start)%3 != 0:\n",
    "                        print(orf)"
   ]
  },
  {
   "cell_type": "code",
   "execution_count": 80,
   "id": "16317d4a-981d-4e8b-88eb-77ad5cfbb177",
   "metadata": {},
   "outputs": [
    {
     "data": {
      "application/vnd.jupyter.widget-view+json": {
       "model_id": "da01dd9930904ec99736a36841a7c540",
       "version_major": 2,
       "version_minor": 0
      },
      "text/plain": [
       "  0%|          | 0/1 [00:00<?, ?it/s]"
      ]
     },
     "metadata": {},
     "output_type": "display_data"
    }
   ],
   "source": [
    "produce_nt_blast_file(record, refseq_dir + '/putative_protein.faa')"
   ]
  },
  {
   "cell_type": "code",
   "execution_count": null,
   "id": "1c0f3ea1-ebf1-4b57-b335-ea5b25710608",
   "metadata": {},
   "outputs": [],
   "source": [
    "##### Now start off with lower than 0.5 p-values in set and add maximal ORF sets with p-values < 0.1"
   ]
  },
  {
   "cell_type": "code",
   "execution_count": 84,
   "id": "402a9f4b-ccde-4440-b0a1-dc198a5d4231",
   "metadata": {},
   "outputs": [
    {
     "name": "stdout",
     "output_type": "stream",
     "text": [
      "iteration 0:  3446 found.  2265 exhausted regions\n",
      "iteration 1:  3776 found.  3115 exhausted regions\n",
      "iteration 2:  3905 found.  3646 exhausted regions\n",
      "iteration 3:  3939 found.  3870 exhausted regions\n",
      "iteration 4:  3952 found.  3925 exhausted regions\n",
      "iteration 5:  3956 found.  3947 exhausted regions\n",
      "iteration 6:  3957 found.  3954 exhausted regions\n",
      "iteration 7:  3959 found.  3954 exhausted regions\n",
      "iteration 8:  3959 found.  3958 exhausted regions\n"
     ]
    }
   ],
   "source": [
    "p_value = 0.1\n",
    "num_iterations = 0\n",
    "\n",
    "#cds_boundaries = [[0, 0], [4411530, 4411530]]      #De novo\n",
    "#cds_dict = {}\n",
    "#for i in cds_boundaries:\n",
    "#    cds_dict[tuple(i)] = 1\n",
    "    \n",
    "    \n",
    "cds_boundaries = []\n",
    "cds_dict = {}\n",
    "for (locus, x, y, strand) in actual_cds_boundaries:\n",
    "    if mutation_bin_probability(x, y, strand)[0] <= 0.2:\n",
    "        cds_dict[(x,y)] = strand\n",
    "        cds_boundaries.append([x, y])\n",
    "    \n",
    "exhausted_cds = []\n",
    "while len(exhausted_cds) < len(cds_boundaries) - 1:\n",
    "    temp_boundaries = []\n",
    "    for i, (x,y) in enumerate((cds_boundaries)):\n",
    "        if i < len(cds_boundaries) - 1:\n",
    "            if [x,y] in exhausted_cds:\n",
    "                pass\n",
    "            else:\n",
    "                temp = cds_boundaries[i+1][0]\n",
    "                res = max_orf(y, temp, p_value)\n",
    "                if (res[1] - res[0] < 100):\n",
    "                    exhausted_cds.append([x,y])\n",
    "                else:\n",
    "                    temp_boundaries.append([res[0], res[1]])\n",
    "                    cds_dict[(res[0],res[1])] = res[2]\n",
    "                \n",
    "    cds_boundaries = sorted(cds_boundaries + temp_boundaries, key=lambda x: x[0])\n",
    "    print(\"iteration \" + str(num_iterations) + \":  \"+str(len(cds_boundaries))+ \" found.  \"+str(len(exhausted_cds))+\" exhausted regions\")\n",
    "    num_iterations += 1"
   ]
  },
  {
   "cell_type": "code",
   "execution_count": null,
   "id": "585f18c8-3047-4ce7-845d-860c1a901d22",
   "metadata": {},
   "outputs": [],
   "source": [
    "def max_overlap(boundary, comparison_boundaries):\n",
    "    max_overlap = 0\n",
    "    comparison_boundary_0 = 0\n",
    "    comparison_boundary_1 = 0\n",
    "    locus = ''\n",
    "    strand = 1\n",
    "    for bound in comparison_boundaries:\n",
    "        overlap = min(boundary[1], bound[2]) - max(boundary[0], bound[1])\n",
    "        if overlap > max_overlap:\n",
    "            max_overlap = overlap\n",
    "            comparison_boundary_0 = bound[1]\n",
    "            comparison_boundary_1 = bound[2]\n",
    "            locus = bound[0]\n",
    "            strand = bound[3]\n",
    "    return(locus, strand, comparison_boundary_0, comparison_boundary_1, max_overlap)"
   ]
  },
  {
   "cell_type": "code",
   "execution_count": null,
   "id": "3e37cbd3-f56b-4e5c-a441-30d3882f1604",
   "metadata": {},
   "outputs": [],
   "source": [
    "temp = []\n",
    "for bound in tqdm(cds_boundaries):\n",
    "    a = max_overlap(bound, actual_cds_boundaries)\n",
    "    if a[3] > 0:\n",
    "        temp.append([a[0],a[1],a[2],a[3],a[4], cds_dict[(bound[0],bound[1])], bound[0], bound[1], bound[0]-a[2], bound[1]-a[3]])\n",
    "df = pd.DataFrame(temp, columns = ['locus','annotation_strand','annotation_start','annotation_end', 'overlap', 'simulated_strand','simulated_start', 'simulated_end', 'start_offset','end_offset'])"
   ]
  },
  {
   "cell_type": "code",
   "execution_count": 136,
   "id": "2309e838-bba9-40a8-a3a9-5537e379362b",
   "metadata": {},
   "outputs": [
    {
     "name": "stderr",
     "output_type": "stream",
     "text": [
      "100%|██████████| 16/16 [00:00<00:00, 38.42it/s]\n"
     ]
    }
   ],
   "source": [
    "seq_data = sar.Ortholog_Sequence_Dataset(orthologs, genome_datasets_dir, genome_ids, 50, tb_species) "
   ]
  },
  {
   "cell_type": "code",
   "execution_count": 85,
   "id": "1e3bdeba-745a-4fbc-8fe7-7eaf916997de",
   "metadata": {},
   "outputs": [
    {
     "name": "stdout",
     "output_type": "stream",
     "text": [
      "('Rv0140', 166909, 167290, 1) (0.9458959406553689, 172, [71, 53, 48])\n",
      "(166927, 167242, -1, (0.002688750782290694, 140, [34, 43, 63])) (0.002688750782290694, 140, [34, 43, 63])\n",
      "*****************************************\n",
      "('Rv0314c', 382878, 383541, -1) (0.9649303018285086, 294, [107, 103, 84])\n",
      "(382935, 383463, 1, (0.043717054988640314, 237, [64, 81, 92])) (0.043717054988640314, 237, [64, 81, 92])\n",
      "*****************************************\n",
      "('Rv0493c', 583700, 584690, -1) (0.9868156502819309, 458, [167, 160, 131])\n",
      "(583963, 584710, 1, (0.06920547246692332, 352, [125, 96, 131])) (0.06920547246692332, 352, [125, 96, 131])\n",
      "*****************************************\n",
      "('Rv0544c', 635934, 636213, -1) (0.9094443155189642, 131, [45, 49, 37])\n",
      "(635986, 636310, -1, (0.0656515400376283, 152, [42, 50, 60])) (0.0656515400376283, 152, [42, 50, 60])\n",
      "*****************************************\n",
      "('Rv0628c', 718760, 719912, -1) (1.0, 3, [1, 2, 0])\n",
      "(718675, 719068, -1, (0.07942376793913364, 45, [12, 13, 20])) (0.07942376793913364, 45, [12, 13, 20])\n",
      "*****************************************\n",
      "('Rv0698', 798832, 799444, 1) (0.9021724901470678, 262, [101, 83, 78])\n",
      "(799159, 799540, -1, (0.03733862570481683, 153, [48, 43, 62])) (0.03733862570481683, 153, [48, 43, 62])\n",
      "*****************************************\n",
      "('Rv0829', 921574, 921865, 1) (1.0, 1, [1, 0, 0])\n",
      "(921482, 921857, 1, (0.05838069191890338, 36, [12, 7, 17])) (0.05838069191890338, 36, [12, 7, 17])\n",
      "*****************************************\n",
      "('Rv0892', 993852, 995340, 1) (0.9349313292315485, 584, [205, 201, 178])\n",
      "(994761, 995088, -1, (0.07223167053533719, 139, [37, 47, 55])) (0.07223167053533719, 139, [37, 47, 55])\n",
      "*****************************************\n",
      "('Rv1105', 1232310, 1232826, 1) (0.9738758536738332, 202, [76, 71, 55])\n",
      "(1232406, 1232739, -1, (0.07237006026461668, 128, [33, 44, 51])) (0.07237006026461668, 128, [33, 44, 51])\n",
      "*****************************************\n",
      "('Rv1129c', 1253073, 1254534, -1) (0.9999950051335003, 886, [334, 317, 235])\n",
      "(1254131, 1254521, -1, (1.1293203322382261e-05, 217, [58, 56, 103])) (1.1293203322382261e-05, 217, [58, 56, 103])\n",
      "*****************************************\n",
      "('Rv1194c', 1337247, 1338513, -1) (0.9999992460525535, 675, [242, 265, 168])\n",
      "(1337655, 1338117, 1, (0.019619076382418443, 260, [65, 92, 103])) (0.019619076382418443, 260, [65, 92, 103])\n",
      "*****************************************\n",
      "('Rv1365c', 1537782, 1538169, -1) (0.9633423271707094, 149, [63, 46, 40])\n",
      "(1537815, 1538148, 1, (0.008347563021696591, 125, [32, 38, 55])) (0.008347563021696591, 125, [32, 38, 55])\n",
      "*****************************************\n",
      "('Rv1396c', 1572126, 1573857, -1) (0.9373883986452842, 303, [129, 85, 89])\n",
      "(1572794, 1573349, -1, (0.022261451096066587, 112, [34, 30, 48])) (0.022261451096066587, 112, [34, 30, 48])\n",
      "*****************************************\n",
      "('Rv1815', 2057527, 2058193, 1) (0.915450297454961, 375, [139, 123, 113])\n",
      "(2057569, 2058016, -1, (0.04957877048258019, 255, [77, 80, 98])) (0.04957877048258019, 255, [77, 80, 98])\n",
      "*****************************************\n",
      "('Rv2043c', 2288680, 2289241, -1) (1.0, 2513, [930, 1264, 319])\n",
      "(2288674, 2289340, 1, (0.0011896045040100667, 2650, [353, 1339, 958])) (0.0011896045040100667, 2650, [353, 1339, 958])\n",
      "*****************************************\n",
      "('Rv2123', 2381070, 2382492, 1) (0.9488795277501669, 604, [222, 199, 183])\n",
      "(2381887, 2382304, 1, (0.011925344246195846, 172, [49, 51, 72])) (0.011925344246195846, 172, [49, 51, 72])\n",
      "*****************************************\n",
      "('Rv2571c', 2894892, 2895960, -1) (0.9999993911192785, 649, [234, 255, 160])\n",
      "(2894955, 2895594, 1, (0.07664659715392608, 419, [101, 164, 154])) (0.07664659715392608, 419, [101, 164, 154])\n",
      "*****************************************\n",
      "('Rv2621c', 2947883, 2948558, -1) (0.9999943243259132, 419, [158, 162, 99])\n",
      "(2948009, 2948534, 1, (0.041049492529655396, 323, [81, 119, 123])) (0.041049492529655396, 323, [81, 119, 123])\n",
      "*****************************************\n",
      "('Rv2628', 2955057, 2955420, 1) (0.9379140932851127, 200, [88, 55, 57])\n",
      "(2955171, 2955507, -1, (0.014696718717166934, 144, [40, 43, 61])) (0.014696718717166934, 144, [40, 43, 61])\n",
      "*****************************************\n",
      "('Rv2729c', 3041569, 3042475, -1) (0.9601244936529804, 389, [125, 150, 114])\n",
      "(3041723, 3042320, -1, (0.050551033049618166, 258, [77, 82, 99])) (0.050551033049618166, 258, [77, 82, 99])\n",
      "*****************************************\n",
      "('Rv3083', 3448503, 3449991, 1) (0.9236613059647656, 731, [258, 247, 226])\n",
      "(3448826, 3449423, 1, (0.045146558815153726, 268, [81, 84, 103])) (0.045146558815153726, 268, [81, 84, 103])\n",
      "*****************************************\n",
      "('Rv3854c', 4326003, 4327473, -1) (0.9999999999999999, 2055, [649, 892, 514])\n",
      "(4326946, 4327489, -1, (1.4331869024886146e-12, 850, [218, 250, 382])) (1.4331869024886146e-12, 850, [218, 250, 382])\n",
      "*****************************************\n",
      "('Rv3862c', 4338170, 4338521, -1) (1.0, 794, [317, 323, 154])\n",
      "(4338079, 4338496, 1, (3.3783610161042255e-05, 789, [323, 149, 317])) (3.3783610161042255e-05, 789, [323, 149, 317])\n",
      "*****************************************\n"
     ]
    }
   ],
   "source": [
    "out_list = []\n",
    "for i in actual_cds_boundaries:\n",
    "    temp = mutation_bin_probability(i[1],i[2],i[3])\n",
    "    if (temp[0] > 0.9 and temp[0] < 1.1) :\n",
    "        new_temp = (max_orf(i[1]-100,i[2]+100, 0.1))\n",
    "        if new_temp[1] - new_temp[0] > 300:\n",
    "            print(i, temp)\n",
    "            print(new_temp, mutation_bin_probability(new_temp[0],new_temp[1],new_temp[2]))\n",
    "            print('*****************************************')"
   ]
  },
  {
   "cell_type": "code",
   "execution_count": null,
   "id": "5a57ffea-fd91-4104-9ee9-d485937f0601",
   "metadata": {},
   "outputs": [],
   "source": [
    "out_list = []\n",
    "for i in actual_cds_boundaries:\n",
    "    \n",
    "    if mutation_bin_probability(i[1],i[2],i[3])[0] > 0.3:\n",
    "        \n",
    "        temp = df[df['locus'] == i[0]]\n",
    "        if len(temp)== 1:\n",
    "            alt_len = temp.iloc[0]['simulated_end'] - temp.iloc[0]['simulated_start']\n",
    "            if mutation_bin_probability(temp.iloc[0]['simulated_start'],temp.iloc[0]['simulated_end'],temp.iloc[0]['simulated_strand'])[0]<0.1 and alt_len > 500 :\n",
    "                print(temp.iloc[0]['locus'], i[2]-i[1])\n",
    "                print ([i[1],i[2],i[3]],mutation_bin_probability(i[1],i[2],i[3]))\n",
    "                print (\"alternative\", str(alt_len))\n",
    "                print([temp.iloc[0]['simulated_start'],temp.iloc[0]['simulated_end'],temp.iloc[0]['simulated_strand']], mutation_bin_probability(temp.iloc[0]['simulated_start'],temp.iloc[0]['simulated_end'],temp.iloc[0]['simulated_strand']))\n",
    "                out_list.append([temp.iloc[0]['locus'], temp.iloc[0]['annotation_start'], temp.iloc[0]['annotation_end'], temp.iloc[0]['annotation_strand'], temp.iloc[0]['simulated_start'],temp.iloc[0]['simulated_end'],temp.iloc[0]['simulated_strand']])\n",
    "                if temp.iloc[0]['simulated_strand'] == 1:\n",
    "                    print(translate_sequence((full_sequence[temp.iloc[0]['simulated_start']: temp.iloc[0]['simulated_end']])))\n",
    "                else:\n",
    "                    print(translate_sequence(align.reverse_complement(full_sequence[temp.iloc[0]['simulated_start']: temp.iloc[0]['simulated_end']])))\n",
    "tempdf = pd.DataFrame(out_list, columns = ['locus','annotation_start','annotation_end', 'annotation_strand', 'simulated_start', 'simulated_end', 'simulated_strand'])      \n",
    "tempdf.to_csv(cryptic_output_path + '/nick2.csv')"
   ]
  },
  {
   "cell_type": "code",
   "execution_count": null,
   "id": "642ac8ec-07e3-4b9f-82ac-2ed64da1597d",
   "metadata": {},
   "outputs": [],
   "source": []
  }
 ],
 "metadata": {
  "kernelspec": {
   "display_name": "Python 3 (ipykernel)",
   "language": "python",
   "name": "python3"
  },
  "language_info": {
   "codemirror_mode": {
    "name": "ipython",
    "version": 3
   },
   "file_extension": ".py",
   "mimetype": "text/x-python",
   "name": "python",
   "nbconvert_exporter": "python",
   "pygments_lexer": "ipython3",
   "version": "3.9.7"
  }
 },
 "nbformat": 4,
 "nbformat_minor": 5
}
