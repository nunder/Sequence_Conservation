{
 "cells": [
  {
   "cell_type": "code",
   "execution_count": 1,
   "id": "0cb2f38a-3c12-4916-8913-b1644afe105e",
   "metadata": {},
   "outputs": [],
   "source": [
    "import pandas as pd\n",
    "pd.options.mode.chained_assignment = None  \n",
    "import pickle\n",
    "import seaborn as sns\n",
    "import matplotlib.pyplot as plt\n",
    "import numpy as np\n",
    "from Bio import Entrez, SeqIO, AlignIO, pairwise2, Align, Seq, motifs\n",
    "from Bio.Seq import Seq\n",
    "from Bio.SeqFeature import SeqFeature, FeatureLocation\n",
    "from scipy.stats import binom\n",
    "import math\n",
    "import time\n",
    "from tqdm.auto import tqdm\n",
    "import random\n",
    "import copy\n",
    "from joblib import Parallel, delayed\n",
    "import os\n",
    "import shutil\n",
    "import subprocess\n",
    "from Bio.Blast import NCBIWWW, NCBIXML\n",
    "from Bio.Align.Applications import MuscleCommandline\n",
    "import re\n",
    "import shutil\n",
    "from Comparative_Analysis import Sequence_Analysis_Routines as sar\n",
    "from Comparative_Analysis import Utilities as util\n",
    "from Comparative_Analysis import Alignment as align\n",
    "from Comparative_Analysis import Blast_Functions as blastfn\n",
    "from scipy.stats import chi2\n",
    "from IPython import display\n",
    "num_cores = 16\n",
    "core_numbers = list(range(1, num_cores+1))\n",
    "\n",
    "project_dir = 'D:/Project_Data/Project_8'\n",
    "output_dir = project_dir + '/Test'\n",
    "datasets_dir = project_dir + '/Datasets'\n",
    "seq_dir = datasets_dir + '/Actinobacteria_Ref_Rep_Lev_Complete'\n",
    "seed_species = 'NZ_CP102342.1'\n",
    "tb_species = 'NC_000962.3' \n",
    "seed_dir = project_dir + '/R_Scape_Results_Smegmatis'\n",
    "\n",
    "search_region = 'U'"
   ]
  },
  {
   "cell_type": "code",
   "execution_count": 2,
   "id": "c701ad7c-6333-4a6e-be5d-2bd728499aa5",
   "metadata": {},
   "outputs": [
    {
     "ename": "FileNotFoundError",
     "evalue": "[Errno 2] No such file or directory: 'D:/Project_Data/Project_8/Test/gene_info_dict.pkl'",
     "output_type": "error",
     "traceback": [
      "\u001b[1;31m---------------------------------------------------------------------------\u001b[0m",
      "\u001b[1;31mFileNotFoundError\u001b[0m                         Traceback (most recent call last)",
      "\u001b[1;32m~\\AppData\\Local\\Temp/ipykernel_23964/4171964492.py\u001b[0m in \u001b[0;36m<module>\u001b[1;34m\u001b[0m\n\u001b[1;32m----> 1\u001b[1;33m \u001b[1;32mwith\u001b[0m \u001b[0mopen\u001b[0m\u001b[1;33m(\u001b[0m\u001b[0moutput_dir\u001b[0m \u001b[1;33m+\u001b[0m \u001b[1;34m'/gene_info_dict.pkl'\u001b[0m\u001b[1;33m,\u001b[0m \u001b[1;34m'rb'\u001b[0m\u001b[1;33m)\u001b[0m \u001b[1;32mas\u001b[0m \u001b[0mf\u001b[0m\u001b[1;33m:\u001b[0m\u001b[1;33m\u001b[0m\u001b[1;33m\u001b[0m\u001b[0m\n\u001b[0m\u001b[0;32m      2\u001b[0m     \u001b[0mgene_info_dict\u001b[0m \u001b[1;33m=\u001b[0m \u001b[0mpickle\u001b[0m\u001b[1;33m.\u001b[0m\u001b[0mload\u001b[0m\u001b[1;33m(\u001b[0m\u001b[0mf\u001b[0m\u001b[1;33m)\u001b[0m\u001b[1;33m\u001b[0m\u001b[1;33m\u001b[0m\u001b[0m\n\u001b[0;32m      3\u001b[0m \u001b[1;32mwith\u001b[0m \u001b[0mopen\u001b[0m\u001b[1;33m(\u001b[0m\u001b[0moutput_dir\u001b[0m \u001b[1;33m+\u001b[0m \u001b[1;34m'/names_dict.pkl'\u001b[0m\u001b[1;33m,\u001b[0m \u001b[1;34m'rb'\u001b[0m\u001b[1;33m)\u001b[0m \u001b[1;32mas\u001b[0m \u001b[0mf\u001b[0m\u001b[1;33m:\u001b[0m\u001b[1;33m\u001b[0m\u001b[1;33m\u001b[0m\u001b[0m\n\u001b[0;32m      4\u001b[0m     \u001b[0mnames_dict\u001b[0m \u001b[1;33m=\u001b[0m \u001b[0mpickle\u001b[0m\u001b[1;33m.\u001b[0m\u001b[0mload\u001b[0m\u001b[1;33m(\u001b[0m\u001b[0mf\u001b[0m\u001b[1;33m)\u001b[0m\u001b[1;33m\u001b[0m\u001b[1;33m\u001b[0m\u001b[0m\n\u001b[0;32m      5\u001b[0m \u001b[1;32mwith\u001b[0m \u001b[0mopen\u001b[0m\u001b[1;33m(\u001b[0m\u001b[0moutput_dir\u001b[0m \u001b[1;33m+\u001b[0m \u001b[1;34m'/filename_dict.pkl'\u001b[0m\u001b[1;33m,\u001b[0m \u001b[1;34m'rb'\u001b[0m\u001b[1;33m)\u001b[0m \u001b[1;32mas\u001b[0m \u001b[0mf\u001b[0m\u001b[1;33m:\u001b[0m\u001b[1;33m\u001b[0m\u001b[1;33m\u001b[0m\u001b[0m\n",
      "\u001b[1;31mFileNotFoundError\u001b[0m: [Errno 2] No such file or directory: 'D:/Project_Data/Project_8/Test/gene_info_dict.pkl'"
     ]
    }
   ],
   "source": [
    "with open(output_dir + '/gene_info_dict.pkl', 'rb') as f:\n",
    "    gene_info_dict = pickle.load(f) \n",
    "with open(output_dir + '/names_dict.pkl', 'rb') as f:\n",
    "    names_dict = pickle.load(f) \n",
    "with open(output_dir + '/filename_dict.pkl', 'rb') as f:\n",
    "    filename_dict = pickle.load(f) "
   ]
  },
  {
   "cell_type": "code",
   "execution_count": 3,
   "id": "a8d3880b-0618-4313-bfee-0a66494e7c10",
   "metadata": {},
   "outputs": [],
   "source": [
    "def display_structure(locus):\n",
    "    if os.path.exists(screen_dir + '/' + locus + '/rscape_3.cacofold.R2R.sto.svg'):\n",
    "                return display.SVG(filename =screen_dir + '/' + locus + '/rscape_3.cacofold.R2R.sto.svg')"
   ]
  },
  {
   "cell_type": "code",
   "execution_count": 4,
   "id": "24c26dad-2c9a-4a03-bfca-ebe9bb434d4e",
   "metadata": {},
   "outputs": [],
   "source": [
    "def find_tb_region_info(start, stop, seq_from, seq_to, search_region):\n",
    "    current_overlap = 0\n",
    "    tb_genome_record = next(SeqIO.parse(seq_dir + '/' + tb_filename, \"genbank\"))\n",
    "    for feature in tb_genome_record.features:\n",
    "        if not(feature.type == 'gene'):\n",
    "            a = feature.qualifiers\n",
    "            if a.get(\"locus_tag\")!= None:\n",
    "                (start_f, stop_f, strand_f) = (int(feature.location.start),int(feature.location.end),int(feature.location.strand))\n",
    "                if stop_f - start_f  > 100000:   #Something wrong!\n",
    "                    continue\n",
    "                start_1 = min(stop, start)\n",
    "                stop_1 = max(stop, start)\n",
    "                if stop_1 > start_f and start_1 < stop_f:\n",
    "                    overlap = (min(stop_f, stop_1) - max(start_f, start_1)) / (stop_1 - start_1)\n",
    "                    if overlap > current_overlap:\n",
    "                        current_overlap = overlap\n",
    "                        feature_strand = strand_f\n",
    "    if search_region == 'U':\n",
    "        if feature_strand == 1:\n",
    "            output_info = (start - 500 + seq_from, start - 500 + seq_to)\n",
    "        else:\n",
    "            output_info = (stop + 500 - seq_to, stop + 500 - seq_from)\n",
    "    else:\n",
    "        if feature_strand == 1:\n",
    "            output_info = (stop + 500 - seq_to, stop + 500 - seq_from)\n",
    "        else:\n",
    "            output_info = (start - 500 + seq_from, start - 500 + seq_to)\n",
    "    return output_info"
   ]
  },
  {
   "cell_type": "code",
   "execution_count": 27,
   "id": "d1365391-12f5-40f3-8cfe-c045e61404f6",
   "metadata": {},
   "outputs": [
    {
     "name": "stdout",
     "output_type": "stream",
     "text": [
      "Rv0053 30S ribosomal protein S6 640 5 0.0 (['58191', '58482'], ['287', '498']) (['58191', '58482'], ['287', '498']) True (58191, 58482, 1) (57978, 58189)\n",
      "Rv0414c thiamine-phosphate synthase 182 3 6.151523734843067e-12 (['500349', '501018'], ['378', '496']) (['500349', '501018'], ['378', '496']) True (500349, 501018, -1) (501022, 501140)\n",
      "Rv0415 thiamine biosynthesis oxidoreductase ThiO 139 2 4.503625399054911e-06 (['501147', '502170'], ['375', '494']) (['501147', '502170'], ['375', '494']) True (501147, 502170, 1) (501022, 501141)\n",
      "Rv0423c phosphomethylpyrimidine synthase 368 5 0.0 (['508580', '510225'], ['375', '497']) (['508580', '510225'], ['375', '497']) True (508581, 510225, -1) (510228, 510350)\n",
      "Rv0440 molecular chaperone GroEL 631 6 0.0 (['528607', '530230'], ['219', '500']) (['528607', '530230'], ['219', '500']) True (528607, 530230, 1) (528326, 528607)\n",
      "Rv0500A DNA-binding protein 250 4 8.881784197001252e-16 (['591110', '591346'], ['380', '485']) (['591110', '591346'], ['380', '485']) True (591110, 591347, 1) (590990, 591095)\n",
      "Rv0651 50S ribosomal protein L10 619 16 0.0 (['748275', '748812'], ['176', '499']) (['748275', '748812'], ['176', '499']) True (748275, 748812, 1) (747951, 748274)\n",
      "Rv0755c PPE family protein PPE12 5 6 8.720124622385583e-11 (['848102', '850040'], ['1', '501']) (['848102', '850040'], ['1', '501']) True (848102, 850040, -1) (850039, 850539)\n",
      "Rv0867c resuscitation-promoting factor RpfA 301 7 0.0 (['964311', '965535'], ['57', '498']) (['964311', '965535'], ['57', '498']) True (964311, 965535, -1) (965537, 965978)\n",
      "Rv1015c 50S ribosomal protein L25/general stress protein Ctc 282 7 0.0 (['1133919', '1134568'], ['292', '500']) (['1133919', '1134568'], ['292', '500']) True (1133920, 1134568, -1) (1134568, 1134776)\n",
      "Rv1073 hypothetical protein 49 4 6.027307509870461e-06 (['1197230', '1198082'], ['397', '494']) (['1197230', '1198082'], ['397', '494']) True (1197230, 1198082, 1) (1197127, 1197224)\n",
      "Rv1133c 5-methyltetrahydropteroyltriglutamate-- homocysteine methyltransferase 222 6 7.726789208462037e-10 (['1259066', '1261346'], ['9', '496']) (['1259066', '1261346'], ['9', '496']) True (1259066, 1261346, -1) (1261350, 1261837)\n",
      "Rv1191 hypothetical protein 5 4 1.1457999579134182e-06 (['1333930', '1334845'], ['430', '498']) (['1333930', '1334845'], ['430', '498']) True (1333930, 1334845, 1) (1333860, 1333928)\n",
      "Rv1375 hypothetical protein 8 4 3.7602947422499255e-09 (['1547831', '1549151'], ['1', '500']) (['1547831', '1549151'], ['1', '500']) True (1547831, 1549151, 1) (1547332, 1547831)\n",
      "Rv1482c hypothetical protein 56 4 1.9669768036578716e-09 (['1672456', '1673299'], ['362', '496']) (['1672456', '1673299'], ['362', '496']) True (1672456, 1673299, -1) (1673303, 1673437)\n",
      "Rv1536 isoleucine--tRNA ligase 639 44 0.0 (['1736518', '1739644'], ['213', '482']) (['1736518', '1739644'], ['213', '482']) True (1736518, 1739644, 1) (1736231, 1736500)\n",
      "Rv1847 esterase 125 5 0.0 (['2096876', '2097299'], ['225', '499']) (['2096876', '2097299'], ['225', '499']) True (2096876, 2097299, 1) (2096601, 2096875)\n",
      "Rv1977 hypothetical protein 3 4 0.0 (['2219753', '2220800'], ['2', '499']) (['2219753', '2220800'], ['2', '499']) True (2219753, 2220800, 1) (2219255, 2219752)\n",
      "Rv2107 PE family protein PE22 7 6 1.381237291209203e-08 (['2367358', '2367655'], ['1', '500']) (['2367358', '2367655'], ['1', '500']) True (2367358, 2367655, 1) (2366859, 2367358)\n",
      "Rv2166c transcriptional regulator MraZ 139 1 3.4165004159092405e-10 (['2429426', '2429858'], ['3', '501']) (['2429426', '2429858'], ['3', '501']) True (2429426, 2429858, -1) (2429857, 2430355)\n",
      "Rv2196 ubiquinol-cytochrome C reductase cytochrome subunit B 601 8 2.9441538096364184e-10 (['2459677', '2461327'], ['32', '494']) (['2459677', '2461327'], ['32', '494']) True (2459677, 2461327, 1) (2459209, 2459671)\n",
      "Rv2220 glutamine synthetase 405 1 6.846520000047818e-06 (['2487614', '2489051'], ['310', '500']) (['2487614', '2489051'], ['310', '500']) True (2487614, 2489051, 1) (2487424, 2487614)\n",
      "Rv2512c insertion sequence element IS1081 transposase 161 2 3.379791776336738e-06 (['2828554', '2829803'], ['371', '497']) (['2828554', '2829803'], ['371', '497']) True (2828555, 2829803, -1) (2829806, 2829932)\n",
      "Rv2681 hypothetical protein 441 13 2.9976021664879227e-15 (['2996738', '2998055'], ['4', '499']) (['2996738', '2998055'], ['4', '499']) True (2996738, 2998055, 1) (2996242, 2996737)\n",
      "Rv2711 iron-dependent repressor and activator IdeR 77 4 1.3243214168623396e-06 (['3023564', '3024257'], ['385', '500']) (['3023564', '3024257'], ['385', '500']) True (3023564, 3024257, 1) (3023449, 3023564)\n",
      "Rv2890c 30S ribosomal protein S2 414 15 0.0 (['3199118', '3199982'], ['227', '497']) (['3199118', '3199982'], ['227', '497']) True (3199118, 3199982, -1) (3199985, 3200255)\n",
      "Rv3115 transposase 161 2 2.2056856785468426e-08 (['3481450', '3482698'], ['366', '495']) (['3481450', '3482698'], ['366', '495']) True (3481450, 3482698, 1) (3481316, 3481445)\n",
      "Rv3263 DNA methylase 8 2 3.4855726571692003e-07 (['3643176', '3644838'], ['207', '499']) (['3643176', '3644838'], ['207', '499']) True (3643176, 3644838, 1) (3642883, 3643175)\n",
      "Rv3383c polyprenyl synthetase IdsB 6 2 8.941230946746259e-07 (['3797436', '3798489'], ['1', '501']) (['3797436', '3798489'], ['1', '501']) True (3797436, 3798489, -1) (3798488, 3798988)\n",
      "Rv3443c 50S ribosomal protein L13 162 3 5.67826166908425e-06 (['3861946', '3862390'], ['285', '501']) (['3861946', '3862390'], ['285', '501']) True (3861946, 3862390, -1) (3862389, 3862605)\n",
      "Rv3457c DNA-directed RNA polymerase subunit alpha 405 3 0.0 (['3877462', '3878507'], ['404', '498']) (['3877462', '3878507'], ['404', '498']) True (3877463, 3878507, -1) (3878509, 3878603)\n",
      "Rv3517 hypothetical protein 53 4 1.3563594691845537e-12 (['3953430', '3954270'], ['407', '494']) (['3953430', '3954270'], ['407', '494']) True (3953430, 3954270, 1) (3953337, 3953424)\n",
      "Rv3686c hypothetical protein 6 66 0.0 (['4128750', '4129083'], ['263', '501']) (['4128750', '4129083'], ['263', '501']) True (4128750, 4129083, -1) (4129082, 4129320)\n",
      "Rv3848 transmembrane protein 125 5 1.3709087487434601e-07 (['4322325', '4323234'], ['250', '496']) (['4322325', '4323234'], ['250', '496']) True (4322325, 4323234, 1) (4322075, 4322321)\n",
      "Rvnr02 23S ribosomal RNA 647 39 0.0 (['1473657', '1476795'], ['226', '495']) (['1473657', '1476795'], ['226', '495']) True (1473657, 1476795, 1) (1473383, 1473652)\n"
     ]
    }
   ],
   "source": [
    "seed_dir = project_dir + '/R_Scape_Results_MTb'\n",
    "#seed_dir = project_dir + '/R_Scape_Results_Smegmatis'\n",
    "#seed_species = 'NZ_CP102342.1'\n",
    "tb_species = 'NC_000962.3' \n",
    "#tb_species = seed_species\n",
    "seed_species = tb_species\n",
    "seed_filename = filename_dict[seed_species]\n",
    "tb_filename = filename_dict[tb_species]\n",
    "seed_product_dict = {}\n",
    "seed_position_dict = {}\n",
    "tb_position_dict = {}\n",
    "seed_genome_record = next(SeqIO.parse(seq_dir + '/' + seed_filename, \"genbank\"))\n",
    "tb_genome_record = next(SeqIO.parse(seq_dir + '/' + tb_filename, \"genbank\"))\n",
    "for feature in seed_genome_record.features:\n",
    "    if not(feature.type == 'gene'):\n",
    "        a = feature.qualifiers\n",
    "        if a.get(\"locus_tag\")!= None:\n",
    "            seed_position_dict[a.get(\"locus_tag\")[0]] = (int(feature.location.start),int(feature.location.end),int(feature.location.strand))\n",
    "            if a.get(\"locus_tag\")!= None and a.get(\"product\")!=None:\n",
    "                seed_product_dict[a.get(\"locus_tag\")[0]] = a.get(\"product\")[0]\n",
    "            \n",
    "for feature in tb_genome_record.features:\n",
    "    if not(feature.type == 'gene'):\n",
    "        a = feature.qualifiers\n",
    "        if a.get(\"locus_tag\")!= None:\n",
    "            seed_position_dict[a.get(\"locus_tag\")[0]] = (int(feature.location.start),int(feature.location.end),int(feature.location.strand))\n",
    "\n",
    "seq_ids = util.list_dirs(seed_dir)\n",
    "out_list = []\n",
    "for id in seq_ids:\n",
    "    if os.path.exists(seed_dir + '/' + str(id) + '/rscape_1.cov'):\n",
    "        with open(seed_dir + '/' + str(id) + '/rscape_1.cov', 'r') as f:  \n",
    "            num_pairs = 0\n",
    "            e_values = []\n",
    "            for l in f:\n",
    "                if (not ('#' in l)):\n",
    "                    a = l.split()\n",
    "                    if len(a) > 6 and abs(int(a[2])-int(a[1])) > 3:    # Exclude covarying pairs less than 3 bp apart)\n",
    "                        e_values.append(float(a[4]))\n",
    "                        num_pairs +=1\n",
    "        if len(e_values) > 0:\n",
    "            tot = sum([math.log(x) for x  in e_values])\n",
    "            num = len(e_values)\n",
    "            combined_e_value = 1-chi2.cdf(-2*tot, 2*num)\n",
    "        else:\n",
    "            combined_e_value = 999\n",
    "        if combined_e_value < 1e-5:\n",
    "            with open(seed_dir + '/' + str(id) + '/align_bh_3.sto', 'r') as g:  \n",
    "                species_list = []\n",
    "                tb_loc = 'None'\n",
    "                seed_loc = 'None'\n",
    "                for l in g:\n",
    "        \n",
    "                    if len(l) > 1 and (not ('#' in l)):\n",
    "                        species_list.append(l.split()[0])\n",
    "                        if tb_species in l:\n",
    "                            tb_loc = (l.split()[0].split('/')[1].split('-'), l.split()[0].split('/')[2].split('-'))\n",
    "                           \n",
    "                        if seed_species in l:\n",
    "                            seed_loc = (l.split()[0].split('/')[1].split('-'), l.split()[0].split('/')[2].split('-'))\n",
    "                           \n",
    "                num_species = len(set(species_list))\n",
    "                if os.path.exists(seed_dir + '/' + str(id) + '/rscape_3.cacofold.R2R.sto.svg'):\n",
    "                    structure_plotted = True\n",
    "                    if tb_loc == 'None':\n",
    "                        tb_region = 'None'\n",
    "                    else:\n",
    "                        tb_region = find_tb_region_info(int(tb_loc[0][0]), int(tb_loc[0][1]), int(tb_loc[1][0]), int(tb_loc[1][1]), search_region)\n",
    "                    if seed_loc == 'None':\n",
    "                        seed_region = 'None'\n",
    "                    else:\n",
    "                        seed_region = seed_position_dict[id]                                  \n",
    "                                                         \n",
    "                    print(id, seed_product_dict[id], num_species, num_pairs, combined_e_value, seed_loc, tb_loc, structure_plotted, seed_region, tb_region)\n",
    "                    out_list.append([id, seed_product_dict[id], num_species, num_pairs, combined_e_value, structure_plotted, tb_region[0], tb_region[1]])\n",
    "out_df = pd.DataFrame(out_list, columns = ['Locus', 'Product' , 'Num_Species', 'Num_Pairs', 'E_Val', 'Plotted' , 'Start', 'End'])\n",
    "out_df.to_csv(project_dir + '/hit_summary.csv')"
   ]
  },
  {
   "cell_type": "code",
   "execution_count": 29,
   "id": "61d90dde-26b5-4261-bb36-6b7a7650f89c",
   "metadata": {},
   "outputs": [
    {
     "name": "stdout",
     "output_type": "stream",
     "text": [
      "{'Nocardia': 14, 'Rhodococcus': 11, 'Mycolicibacterium': 34, 'Mycobacterium': 19, 'Micromonospora': 6, 'Salinispora': 1, 'Actinoplanes': 4, 'Tsukamurella': 1, 'Nonomuraea': 3, 'Janibacter': 2, 'Aeromicrobium': 3, 'Phytohabitans': 1, 'Nocardioides': 8, 'Allosaccharopolyspora': 1, 'Luteipulveratus': 1, 'Actinocatenispora': 2, 'Saccharopolyspora': 2, 'Actinosynnema': 2, 'Nocardiopsis': 1, 'Raineyella': 1, 'Natronoglycomyces': 1, 'Dactylosporangium': 1, 'Streptosporangium': 1, 'Pseudonocardia': 2, 'Thermobispora': 1, 'Mycolicibacillus': 1}\n"
     ]
    }
   ],
   "source": [
    "id = 'Rv3848' \n",
    "if os.path.exists(seed_dir + '/' + str(id) + '/final_summary.txt'):\n",
    "    with open(seed_dir + '/' + str(id) + '/final_summary.txt', 'r') as f:  \n",
    "        phylum_dict = {}\n",
    "        for l in f:\n",
    "            if (not ('#' in l)):\n",
    "                a = l.split()\n",
    "                if float(a[15]) < 1e-5:\n",
    "                    species = names_dict[a[0].split('/')[0]]\n",
    "                    phylum = species.split(' ')[0]\n",
    "                    if phylum in phylum_dict:\n",
    "                        phylum_dict[phylum] = phylum_dict[phylum] + 1\n",
    "                    else:\n",
    "                        phylum_dict[phylum] = 1\n",
    "print(phylum_dict)\n",
    "                "
   ]
  },
  {
   "cell_type": "code",
   "execution_count": 12,
   "id": "a827e772-a5dc-4367-9e42-6f0d43f463ab",
   "metadata": {},
   "outputs": [
    {
     "data": {
      "text/plain": [
       "'GCF_024600175.1_ASM2460017v1_genomic.gbff'"
      ]
     },
     "execution_count": 12,
     "metadata": {},
     "output_type": "execute_result"
    }
   ],
   "source": [
    "filename_dict[ 'NZ_CP102342.1']"
   ]
  },
  {
   "cell_type": "code",
   "execution_count": 46,
   "id": "75bd27fa-26b9-4834-9982-388396f54253",
   "metadata": {},
   "outputs": [
    {
     "data": {
      "text/plain": [
       "'NC_000962.3'"
      ]
     },
     "execution_count": 46,
     "metadata": {},
     "output_type": "execute_result"
    }
   ],
   "source": [
    "tb_species"
   ]
  },
  {
   "cell_type": "code",
   "execution_count": null,
   "id": "8a883f6a-2805-4e56-a855-49f6c481fedd",
   "metadata": {},
   "outputs": [],
   "source": []
  }
 ],
 "metadata": {
  "kernelspec": {
   "display_name": "Python 3 (ipykernel)",
   "language": "python",
   "name": "python3"
  },
  "language_info": {
   "codemirror_mode": {
    "name": "ipython",
    "version": 3
   },
   "file_extension": ".py",
   "mimetype": "text/x-python",
   "name": "python",
   "nbconvert_exporter": "python",
   "pygments_lexer": "ipython3",
   "version": "3.9.7"
  }
 },
 "nbformat": 4,
 "nbformat_minor": 5
}
