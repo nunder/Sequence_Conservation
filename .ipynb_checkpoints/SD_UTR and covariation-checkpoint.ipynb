{
 "cells": [
  {
   "cell_type": "markdown",
   "id": "b1e30ed4-8a0e-4a6f-96eb-dfe116dfb2de",
   "metadata": {},
   "source": [
    "#### Directories etc"
   ]
  },
  {
   "cell_type": "code",
   "execution_count": 1,
   "id": "cf9c6377-5080-4c22-94db-feabe17cc47c",
   "metadata": {},
   "outputs": [],
   "source": [
    "import pandas as pd\n",
    "import pickle\n",
    "import seaborn as sns\n",
    "import matplotlib.pyplot as plt\n",
    "import numpy as np\n",
    "from Bio import Entrez, SeqIO, AlignIO, pairwise2, Align, Seq, motifs\n",
    "from Bio.Seq import Seq\n",
    "from Bio.SeqFeature import SeqFeature, FeatureLocation\n",
    "from scipy.stats import binom\n",
    "import math\n",
    "import random\n",
    "from tqdm import tqdm\n",
    "from Comparative_Analysis import Utilities as util\n",
    "import random\n",
    "from joblib import Parallel, delayed\n",
    "from Comparative_Analysis import Blast_Functions as blastfn\n",
    "import time\n",
    "import os\n",
    "import copy\n",
    "from scipy.stats import chi2\n",
    "from Comparative_Analysis import ORF_Functions as orffn\n",
    "from Comparative_Analysis import Alignment as alignfn\n",
    "from random import sample\n",
    "from Bio.Align.Applications import MuscleCommandline\n",
    "import subprocess\n",
    "pd.options.mode.chained_assignment = None  # default='warn'"
   ]
  },
  {
   "cell_type": "code",
   "execution_count": 2,
   "id": "1988a242-f558-4643-b3a9-27272fa7bebc",
   "metadata": {},
   "outputs": [],
   "source": [
    "project_dir = 'F:/Project_Data/Intergenic_Region_Comparative_Analysis'\n",
    "seq_dir_1 = 'F:/Datasets/NCBI_Refseq_Mycobacteriaceae_All_Levels/ncbi_dataset/data'\n",
    "seq_dir_2 = 'F:/Datasets/NCBI_Refseq_Actinobacteria_All_Levels/data'\n",
    "sequence_dirs_1 = util.list_dirs(seq_dir_1)\n",
    "sequence_dirs_2 = util.list_dirs(seq_dir_2)\n",
    "tb_species = 'NC_000962.3' \n",
    "tb_annotation_dirname = 'GCF_000195955.2'\n",
    "num_cores = 16\n",
    "core_numbers = list(range(1, num_cores+1))\n",
    "muscle_exe = 'C:/Users/nicho/Muscle/muscle3.8.31_i86win32.exe'\n",
    "full_build = False"
   ]
  },
  {
   "cell_type": "markdown",
   "id": "2ed11372-e465-4519-883e-85b46b6e8cad",
   "metadata": {},
   "source": [
    "#### Extract covariation information to identify potentially significant regions"
   ]
  },
  {
   "cell_type": "code",
   "execution_count": 28,
   "id": "d47c776f-9647-4d9d-97fc-df4e05cb569e",
   "metadata": {},
   "outputs": [
    {
     "name": "stdout",
     "output_type": "stream",
     "text": [
      "Rv0002 7 1.5913936834976994e-12 530 [10, 11, 226, 227, 230, 231, 232, 243, 244, 245, 246, 377, 379]\n",
      "Rv0005 8 6.922318274149575e-11 245 [4, 6, 7, 8, 9, 10, 11, 14, 16, 110, 115, 121, 129]\n",
      "Rv2614c 21 0.0 111 [2, 3, 8, 9, 10, 11, 12, 13, 14, 28, 30, 45, 46, 47, 48, 49, 51, 52, 53]\n",
      "Rv0011c 1 2.7490399999718917e-06 96 [12, 13]\n",
      "Rv0020c 59 0.0 471 [188, 189, 203, 206, 207, 229, 230, 232, 240, 242, 243, 248, 250, 251, 252, 253, 261, 270, 275, 277, 278, 279, 281, 282]\n",
      "Rv2637 17 0.0 198 [2, 3, 7, 8, 9, 10, 12, 14, 18, 19]\n",
      "Rv0041 39 0.0 199 [2, 4, 5, 6, 7, 8, 9, 10, 11, 12, 13, 14, 15, 16, 17, 18, 19, 39, 40, 129, 130]\n",
      "Rv0053 21 0.0 221 [2, 4, 5, 6, 7, 10, 12, 13, 22, 23, 26, 28, 29, 30, 36, 37, 38, 39, 41, 42, 43, 49, 50, 51, 52, 61, 92, 94]\n",
      "Rv2674 1 2.2266800000503295e-06 116 [9, 13]\n",
      "Rv2682c 12 0.0 146 [1, 3, 4, 7, 8, 9, 13, 14, 15, 16, 18]\n",
      "Rv2690c 11 0.0 137 [3, 4, 8, 9, 10, 12, 13, 14, 17, 19, 21, 22]\n",
      "Rv2699c 8 2.767047813101442e-09 240 [5, 6, 10, 11, 13, 47, 48, 72, 73, 97, 98, 102, 108]\n",
      "Rv2703 4 2.2386803988361237e-07 182 [4, 6, 8, 134, 135, 138, 142]\n",
      "Rv2708c 2 3.877587140266314e-11 45 [9, 10, 11]\n",
      "Rv2711 21 0.0 135 [6, 7, 11, 12, 13, 14, 15, 17, 25, 26, 27, 28, 29, 30, 31, 33, 65, 66, 68]\n",
      "Rv2713 9 5.31260591074556e-11 115 [5, 6, 8, 9, 11, 12, 14, 15, 16, 18, 19, 20]\n",
      "Rv2714 4 4.081864698024518e-06 220 [5, 18, 20, 22, 29, 36, 37]\n",
      "Rv2718c 14 0.0 165 [4, 5, 7, 8, 9, 10, 11, 12, 13, 15, 18]\n",
      "Rv2720 8 0.0 253 [2, 18, 22, 34, 42, 43, 44]\n",
      "Rv2724c 8 1.7763568394002505e-15 138 [9, 10, 11, 12, 13, 14, 15, 43, 44, 46, 55]\n",
      "Rv2733c 6 1.7430501486614958e-14 299 [4, 5, 6, 7, 8, 11, 12, 13]\n",
      "Rv2737c 10 0.0 384 [22, 23, 51, 58, 63, 64, 67, 68, 70, 71, 72, 90, 91, 104, 127, 128, 129]\n",
      "Rv2753c 5 1.5300224420755626e-09 71 [6, 7, 8, 9, 11, 13]\n",
      "Rv2783c 17 0.0 356 [22, 118, 120, 132, 133, 163, 176, 305, 312, 314, 317, 333]\n",
      "Rv2785c 13 0.0 159 [5, 11, 14, 16, 17, 22, 24, 25, 26, 27, 28, 31, 32, 34, 59, 61, 64, 75, 87, 88]\n",
      "Rv2845c 5 1.1889424734734533e-06 91 [3, 6, 11, 12, 13, 14, 16]\n",
      "Rv2847c 24 0.0 279 [2, 3, 4, 5, 7, 8, 9, 10, 11, 12, 13, 14, 15, 16]\n",
      "Rv1323 4 9.220964780620733e-08 93 [6, 7, 22, 23, 25, 80, 84]\n",
      "Rv1330c 3 3.497809819563713e-10 104 [6, 9, 14, 15, 16]\n",
      "Rv1331 4 0.0 104 [10, 11, 12, 14]\n",
      "Rv2867c 4 1.1324274851176597e-14 58 [10, 11, 14, 15, 16]\n",
      "Rv2870c 3 9.378402610060732e-09 129 [2, 7, 10, 13, 14]\n",
      "Rv0129c 6 1.8081455221974352e-09 249 [4, 6, 10, 15, 20, 46, 124, 125]\n",
      "Rv0154c 10 0.0 426 [3, 4, 7, 8, 9, 10, 11, 306, 368, 382, 388, 401]\n",
      "Rv2883c 22 0.0 237 [4, 5, 7, 8, 10, 12, 13, 14, 17, 18, 20, 22, 55, 57]\n",
      "Rv2890c 13 0.0 286 [61, 62, 66, 168, 169, 178, 179, 182, 183, 192, 194, 195, 208, 212]\n",
      "Rv0189c 15 0.0 150 [22, 23, 25, 26, 27, 28, 29, 30, 52, 53, 64, 65, 66, 75, 78, 79]\n",
      "Rv0196 3 8.516802797453593e-07 115 [30, 31, 32, 34]\n",
      "Rv2904c 13 0.0 377 [3, 4, 8, 9, 10, 11, 12, 14, 37, 45, 144, 145, 147, 148, 149, 279, 282]\n",
      "Rv0211 10 0.0 186 [3, 4, 156, 157, 159, 160, 161, 164, 171, 174, 175]\n",
      "Rv1388 18 0.0 308 [10, 11, 12, 18, 20, 21, 22, 23, 24, 25, 27, 33, 35, 37, 39, 48, 63, 113, 118, 119]\n",
      "Rv2909c 9 0.0 186 [2, 12, 15, 28, 29, 30, 34, 69, 70, 86, 87, 89, 90]\n",
      "Rv2916c 13 0.0 80 [6, 7, 8, 10, 11, 12, 14, 15, 38, 42]\n",
      "Rv1392 3 1.5866020894872435e-06 130 [25, 34, 35, 39]\n",
      "Rv2921c 4 0.0 52 [2, 6, 11, 12, 13, 14]\n",
      "Rv1436 12 0.0 359 [3, 4, 5, 6, 8, 13, 14, 61, 66, 68, 69, 71, 72, 233, 239, 240]\n",
      "Rv0237 15 0.0 117 [3, 9, 10, 11, 13, 16]\n",
      "Rv0243 6 1.4209181227187173e-06 144 [2, 9, 10, 11, 69, 70, 76, 82]\n",
      "Rv0245 4 5.191159724304839e-09 374 [2, 11, 15, 16, 18]\n",
      "Rv1449c 81 0.0 441 [5, 8, 10, 11, 12, 13, 14, 17, 19, 20, 158, 161, 169, 173, 264, 272, 276, 277, 279, 280, 282, 289, 292, 295, 298, 301, 316, 325, 335, 338, 341, 355, 358, 360, 361, 364, 366, 367, 369, 370, 373, 378, 379, 391, 392, 393, 394, 395, 401, 404, 407, 410]\n",
      "Rv1451 4 6.701072252646156e-09 404 [41, 44, 45, 247, 248]\n",
      "Rv2975a 20 0.0 244 [2, 3, 4, 5, 6, 7, 8, 9, 16, 57, 62, 76, 78, 86, 88, 89, 106, 113, 114, 115]\n",
      "Rv1456c 2 6.034991985037763e-07 114 [7, 20, 23]\n",
      "Rv1458c 2 2.3647750424515834e-14 105 [2, 6, 9, 10]\n",
      "Rv2986c 6 6.191043233627624e-10 215 [2, 5, 7, 15, 49, 58, 73, 75, 78, 84]\n",
      "Rv2993c 4 6.622973058867387e-09 278 [2, 3, 8, 9, 10, 15]\n",
      "Rv1479 5 9.788271948529825e-07 141 [2, 4, 5, 10, 81, 84, 87]\n",
      "Rv0350 11 0.0 229 [5, 6, 10, 16, 69, 70, 89, 92, 99, 119, 122, 123, 124, 125, 126, 149, 150]\n",
      "Rv1483 6 3.046030094822072e-11 143 [9, 10, 13, 14]\n",
      "Rv1487 1 6.187829999948491e-06 60 [11, 12]\n",
      "Rv0357c 8 0.0 93 [2, 4, 5, 6, 9, 10, 11, 14, 15, 51, 57]\n",
      "Rv3003c 56 0.0 364 [43, 44, 54, 59, 65, 66, 73, 74, 76, 80, 83, 84, 88, 89, 90, 91, 106, 111, 114, 115, 119, 120, 126, 128, 137, 138, 199, 200, 201, 207]\n",
      "Rv0363c 6 5.2545651385571546e-08 98 [3, 5, 6, 7, 9, 10, 35, 38]\n",
      "Rv1511 3 5.007882997176694e-12 483 [0, 1, 2, 477, 480]\n",
      "Rv3006 2 3.295133845782061e-07 179 [5, 6, 8, 13]\n",
      "Rv3012c 8 0.0 87 [8, 9, 10, 12, 15, 16, 17]\n",
      "Rv1536 9 0.0 309 [66, 107, 108, 143, 145, 146, 147, 154, 156, 164, 165, 197, 198, 205, 220]\n",
      "Rv1537 16 0.0 214 [3, 4, 5, 7, 8, 10, 11, 13, 14, 20]\n",
      "Rv3025c 37 0.0 99 [3, 4, 5, 6, 9, 11, 12, 13, 14, 15, 16, 18, 19]\n",
      "Rv3027c 10 0.0 158 [10, 11, 26, 27, 28, 39, 40, 41, 45, 61, 62]\n",
      "Rv1589 3 7.837705777391513e-06 450 [29, 30, 35, 348, 349]\n",
      "Rv3034c 4 5.42693117222548e-07 460 [70, 72, 331, 332, 445, 451, 452]\n",
      "Rv0423c 7 0.0 154 [42, 49, 52, 60, 63, 73, 75, 83, 85]\n",
      "Rv3043c 3 8.316680677467048e-13 217 [14, 15, 68, 98, 99]\n",
      "Rv1607 4 6.907802552191811e-09 183 [10, 12, 14, 26, 27, 29, 31]\n",
      "Rv1609 4 3.056488617758646e-09 143 [2, 14, 15, 17, 19]\n",
      "Rv3048c 8 7.882583474838611e-15 133 [73, 79, 80, 81, 83, 84, 86, 87, 93, 95, 96, 101, 103, 105]\n",
      "Rv0439c 4 3.094638581280229e-06 296 [10, 11, 12, 14, 16]\n",
      "Rv3050c 6 2.979172464279145e-12 130 [4, 6, 8, 12, 13, 39]\n",
      "Rv3053c 81 0.0 479 [205, 216, 220, 225, 227, 228, 230, 237, 238, 239, 240, 258, 259, 261, 264, 265, 266, 267, 269, 271, 273, 274, 275, 276, 277, 279, 280, 281, 283, 287, 288, 289, 293, 294, 296, 300, 301, 302, 304, 307, 333, 336, 346, 348]\n",
      "Rv0458 4 2.3740203913824587e-08 70 [5, 6, 8, 9, 10, 64, 68]\n",
      "Rv1629 14 0.0 106 [2, 3, 4, 5, 10, 11, 15, 18, 19, 21, 24, 25, 29, 31]\n",
      "Rv1630 18 0.0 165 [3, 4, 5, 6, 7, 10, 14, 15, 17, 18, 19, 20, 22, 34, 36, 37, 38, 39, 40, 53, 55, 56, 57]\n",
      "Rv1633 1 5.795519999463039e-07 247 [24, 25]\n",
      "Rv0489 3 4.2561845936539555e-08 159 [9, 10, 13, 14]\n",
      "Rv1643 7 0.0 64 [8, 9, 11, 12, 13, 14, 16, 17, 18, 19, 20]\n",
      "Rv0491 6 0.0 230 [100, 135, 137, 142, 145, 146, 151, 160, 166, 167, 188]\n",
      "Rv1649 4 8.020949548992462e-08 198 [34, 35, 36, 37, 39, 158, 160]\n",
      "Rv1652 36 0.0 196 [3, 9, 11, 12, 13, 14, 15, 16, 17, 22, 23, 24, 26, 29, 30]\n",
      "Rv0524 9 1.2737626509107258e-09 116 [2, 7, 10, 11, 13, 16, 39, 42, 48, 49]\n",
      "Rv0566c 15 0.0 284 [75, 77, 94, 99, 101, 103, 111, 113, 115, 119, 120, 121, 122, 128, 129, 130, 142, 143, 144, 146, 148]\n",
      "Rv1687c 1 1.1704300000303647e-06 61 [13, 16]\n",
      "Rv1699 4 1.589695730608298e-08 142 [3, 11, 12, 18, 19, 96, 97]\n",
      "Rv1731 2 1.5749839987755365e-08 434 [13, 14, 22, 26]\n",
      "Rv0634B 41 0.0 350 [8, 10, 11, 12, 44, 47, 48, 49, 51, 54, 57, 59, 60, 61, 66, 67, 68, 69, 80, 83, 84, 85, 92, 94, 96, 106, 154, 155, 156, 157, 171, 172, 179, 193, 214, 215]\n",
      "Rv0667 140 0.0 500 [0, 1, 2, 3, 4, 5, 19, 20, 22, 23, 24, 25, 26, 27, 28, 29, 39, 40, 70, 81, 82, 83, 84, 85, 105, 107, 109, 110, 112, 113, 194, 195, 197, 199, 201, 203, 205, 206, 208, 217, 219, 220, 221, 222, 224, 225, 226, 229, 230, 231, 232, 233, 234, 239, 240, 243, 244, 245, 246, 247, 250, 252, 253, 348, 349, 350]\n",
      "Rv0670 2 1.3620397920632854e-08 197 [2, 6, 8, 11]\n",
      "Rv0684 5 5.551115123125783e-16 83 [3, 4, 5, 6, 15, 16, 17, 18, 19]\n",
      "Rv0700 25 0.0 639 [2, 4, 6, 7, 8, 9, 10, 11, 16, 20, 123, 126, 128, 129, 130, 132, 135, 136, 143, 290, 295, 297, 298, 304]\n",
      "Rv0718 7 7.005507285384738e-14 166 [7, 13, 14, 15, 16, 55]\n",
      "Rv0732 4 4.0964171499346946e-08 163 [3, 4, 6, 7, 96, 97]\n",
      "Rv0767c 3 4.2088998952749535e-11 204 [99, 100, 160, 161, 168]\n",
      "Rv0768 6 4.250075260614494e-07 204 [10, 11, 42, 45, 46, 49, 56, 69, 71]\n",
      "Rv0777 7 1.9984014443252818e-15 247 [15, 16, 20, 21, 23, 24, 25]\n",
      "Rv0780 6 1.3500311979441904e-12 53 [10, 11, 14, 15, 16, 18, 19]\n"
     ]
    },
    {
     "data": {
      "text/plain": [
       "<AxesSubplot:ylabel='Count'>"
      ]
     },
     "execution_count": 28,
     "metadata": {},
     "output_type": "execute_result"
    },
    {
     "data": {
      "image/png": "[encoded data removed]",
      "text/plain": [
       "<Figure size 432x288 with 1 Axes>"
      ]
     },
     "metadata": {
      "needs_background": "light"
     },
     "output_type": "display_data"
    }
   ],
   "source": [
    "seq_ids = util.list_dirs(project_dir)\n",
    "out_list = []\n",
    "all_pairs = []\n",
    "for id in seq_ids:\n",
    "    if os.path.exists(project_dir + '/' + str(id) + '/rscape_output_no_insertions2.cov'):\n",
    "        alignment = util.read_fasta_to_array(project_dir + '/' + str(id) + '/upstream_region_no_insertions'+str(id) + '_alignment_2.fasta')\n",
    "        seq_len = len(alignment[1][0])\n",
    "        with open(project_dir + '/'+str(id) +  '/rscape_output_no_insertions2.cov', 'r') as f:  \n",
    "            num_pairs = 0\n",
    "            e_values = []\n",
    "            pairs = []\n",
    "            for l in f:\n",
    "                if (not ('#' in l)):\n",
    "                    a = l.split()\n",
    "                    if len(a) > 6: # and abs(int(a[2])-int(a[1])) > 3:    # Exclude covarying pairs less than 3 bp apart)\n",
    "                        #if seq_len - int(a[1]) < 30 and seq_len - int(a[1]) < 30:\n",
    "                        pairs.append(seq_len - int(a[1]))\n",
    "                        pairs.append(seq_len - int(a[2]))\n",
    "                        e_values.append(float(a[4]))\n",
    "                        num_pairs +=1\n",
    "        if len(e_values) > 0:\n",
    "            tot = sum([math.log(x) for x  in e_values])\n",
    "            num = len(e_values)\n",
    "            combined_e_value = 1-chi2.cdf(-2*tot, 2*num)\n",
    "        else:\n",
    "            combined_e_value = 999\n",
    "        if combined_e_value < 1e-5:\n",
    "            print(id, num_pairs, combined_e_value, seq_len, sorted(set(pairs)))\n",
    "            for i in set(pairs):\n",
    "                all_pairs.append(i)\n",
    "sns.histplot([x for x in all_pairs if x < 70], bins =70)"
   ]
  },
  {
   "cell_type": "code",
   "execution_count": null,
   "id": "79a6f80e-9741-4437-9ac5-6cdef045064b",
   "metadata": {},
   "outputs": [],
   "source": []
  }
 ],
 "metadata": {
  "kernelspec": {
   "display_name": "Python 3 (ipykernel)",
   "language": "python",
   "name": "python3"
  },
  "language_info": {
   "codemirror_mode": {
    "name": "ipython",
    "version": 3
   },
   "file_extension": ".py",
   "mimetype": "text/x-python",
   "name": "python",
   "nbconvert_exporter": "python",
   "pygments_lexer": "ipython3",
   "version": "3.9.7"
  }
 },
 "nbformat": 4,
 "nbformat_minor": 5
}
