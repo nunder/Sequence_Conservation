{
 "cells": [
  {
   "cell_type": "markdown",
   "id": "b1e30ed4-8a0e-4a6f-96eb-dfe116dfb2de",
   "metadata": {},
   "source": [
    "#### Directories etc"
   ]
  },
  {
   "cell_type": "code",
   "execution_count": null,
   "id": "cf9c6377-5080-4c22-94db-feabe17cc47c",
   "metadata": {},
   "outputs": [],
   "source": [
    "import pandas as pd\n",
    "import pickle\n",
    "import seaborn as sns\n",
    "import matplotlib.pyplot as plt\n",
    "import numpy as np\n",
    "from scipy.fft import fft, fftfreq\n",
    "from Bio import Entrez, SeqIO, AlignIO, pairwise2, Align, Seq, motifs\n",
    "from Bio.Seq import Seq\n",
    "from Bio.SeqFeature import SeqFeature, FeatureLocation\n",
    "from Bio.Align.Applications import MuscleCommandline\n",
    "from scipy.stats import binom\n",
    "import math\n",
    "import random\n",
    "from tqdm import tqdm\n",
    "from Comparative_Analysis import Utilities as util\n",
    "import random\n",
    "from joblib import Parallel, delayed\n",
    "from Comparative_Analysis import Blast_Functions as blastfn\n",
    "import time\n",
    "import os\n",
    "import copy\n",
    "from Comparative_Analysis import ORF_Functions as orffn\n",
    "from random import sample\n",
    "import ete3;"
   ]
  },
  {
   "cell_type": "code",
   "execution_count": null,
   "id": "1988a242-f558-4643-b3a9-27272fa7bebc",
   "metadata": {},
   "outputs": [],
   "source": [
    "project_dir = 'F:/Project_Data/Project_9'\n",
    "seq_dir = 'F:/Datasets/Actinobacteria_Ref_Rep_Lev_Complete'\n",
    "tb_species = 'NC_000962.3' \n",
    "num_cores = 16\n",
    "core_numbers = list(range(1, num_cores+1))\n",
    "muscle_exe = 'C:/Users/nicho/Muscle/muscle3.8.31_i86win32.exe'"
   ]
  },
  {
   "cell_type": "markdown",
   "id": "198ce0ae-2b01-482b-83cb-93c720537916",
   "metadata": {},
   "source": [
    "#### Sample of 15 mycobacteria"
   ]
  },
  {
   "cell_type": "code",
   "execution_count": null,
   "id": "d288591a-d353-4761-8c02-b7356977e0c3",
   "metadata": {
    "tags": []
   },
   "outputs": [],
   "source": [
    "def create_filename_dict(num_subsets, subset_num, id_list):\n",
    "    ids = util.chunk_list(id_list, num_subsets, subset_num)\n",
    "    temp = []\n",
    "    for id in (ids):\n",
    "        genome_record = next(SeqIO.parse(seq_dir + '/' + id, \"genbank\"))\n",
    "        organism_name = genome_record.annotations['organism']\n",
    "        temp.append((organism_name, id))\n",
    "    return temp\n",
    "\n",
    "species_list = util.list_files(seq_dir)\n",
    "filename_dict = {}\n",
    "parallel_output = Parallel(n_jobs=-1)(delayed(create_filename_dict)(num_cores, core_number, species_list) for core_number in core_numbers)\n",
    "temp = [item for sublist in parallel_output for item in sublist]\n",
    "for (species_name, filename) in temp:\n",
    "    filename_dict[species_name] = filename"
   ]
  },
  {
   "cell_type": "code",
   "execution_count": null,
   "id": "95d43ceb-022b-4b99-89de-801638985587",
   "metadata": {
    "tags": []
   },
   "outputs": [],
   "source": [
    "sample_filenames = ['GCF_000195955.2_ASM19595v2_genomic.gbff', 'GCF_024600175.1_ASM2460017v1_genomic.gbff', 'GCF_010730055.1_ASM1073005v1_genomic.gbff', 'GCF_020616615.1_ASM2061661v1_genomic.gbff', 'GCF_010731535.1_ASM1073153v1_genomic.gbff',\n",
    "                    'GCF_022370755.1_ASM2237075v1_genomic.gbff', 'GCF_016745295.1_ASM1674529v1_genomic.gbff', 'GCF_000157895.3_ASM15789v2_genomic.gbff', 'GCF_900603025.1_MHAS_genomic.gbff', 'GCF_018363015.1_ASM1836301v1_genomic.gbff',\n",
    "                    'GCF_019645855.1_ASM1964585v1_genomic.gbff', 'GCF_010727945.1_ASM1072794v1_genomic.gbff', 'GCF_010731895.1_ASM1073189v1_genomic.gbff', 'GCF_900637205.1_50279_G01_genomic.gbff', 'GCF_000184435.1_ASM18443v1_genomic.gbff']\n",
    "for f in sample_filenames:\n",
    "    for k, v in filename_dict.items():\n",
    "        if f==v:\n",
    "            print(k)"
   ]
  },
  {
   "cell_type": "code",
   "execution_count": null,
   "id": "84b8df52-5545-44da-a462-2fdcf62276b4",
   "metadata": {},
   "outputs": [],
   "source": [
    "organism_name_dict = {}\n",
    "protein_dict = {}\n",
    "sample_info = []\n",
    "for filename in tqdm(sample_filenames):\n",
    "    genome_record = next(SeqIO.parse(seq_dir + '/' + filename, \"genbank\"))\n",
    "    organism_name = genome_record.annotations['organism']\n",
    "    accession_ver = genome_record.annotations['accessions'][0] + '.' + str(genome_record.annotations['sequence_version'])\n",
    "    organism_name_dict[accession_ver] = organism_name\n",
    "    for feature in genome_record.features:\n",
    "        a = feature.qualifiers\n",
    "        if feature.type == 'CDS':\n",
    "            if a.get(\"protein_id\") != None and a.get(\"locus_tag\")!= None and a.get(\"translation\")!= None:\n",
    "\n",
    "                locus_tag = a.get(\"locus_tag\")[0]\n",
    "                protein_id = a.get(\"protein_id\")[0]\n",
    "                translation = a.get(\"translation\")[0]\n",
    "                sample_info.append([organism_name, accession_ver, int(feature.location.start), int(feature.location.end), int(feature.location.strand), locus_tag, protein_id, translation])\n",
    "                protein_dict[accession_ver+'@'+protein_id] = translation"
   ]
  },
  {
   "cell_type": "code",
   "execution_count": null,
   "id": "fb7d2cf1-77bf-40d5-bce8-d067e3389ece",
   "metadata": {},
   "outputs": [],
   "source": [
    "# Full sample\n",
    "util.produce_fasta_file([[x[1]+'@'+x[6], x[7]] for x in sample_info], project_dir + '/full_sample_proteins.fasta')\n",
    "# Tb only\n",
    "util.produce_fasta_file([[x[1]+'@'+x[6], x[7]] for x in sample_info if 'H37Rv' in x[0]], project_dir + '/H37Rv_proteins.fasta')"
   ]
  },
  {
   "cell_type": "markdown",
   "id": "e2683970-7a45-419b-875a-0ca44f8b7a66",
   "metadata": {},
   "source": [
    "#### Produce FASTA file with CDS candidates"
   ]
  },
  {
   "cell_type": "code",
   "execution_count": null,
   "id": "907ba2dc-aff7-4e09-9a2f-04bed94dccdf",
   "metadata": {},
   "outputs": [],
   "source": [
    "blastfn.build_blast_db(project_dir, 'full_sample_proteins.fasta', 'full_sample_proteins', 'F:/Datasets/BLAST/full_sample_proteins')"
   ]
  },
  {
   "cell_type": "code",
   "execution_count": null,
   "id": "9c4adacf-2387-4952-a93b-1cce31b10f44",
   "metadata": {},
   "outputs": [],
   "source": [
    "blastfn.build_blast_db(project_dir, 'H37Rv_proteins.fasta', 'H37Rv_proteins', 'F:/Datasets/BLAST/H37Rv_proteins')"
   ]
  },
  {
   "cell_type": "code",
   "execution_count": null,
   "id": "3ad29f43-3a81-4be3-a424-ed8e8542b64e",
   "metadata": {},
   "outputs": [],
   "source": [
    "blastfn.run_blastp('F:/Datasets/BLAST/full_sample_proteins', 'H37Rv_proteins.fasta', 'full_sample_proteins', e_value = 1e-5)"
   ]
  },
  {
   "cell_type": "code",
   "execution_count": null,
   "id": "adf9a4de-bd5b-40b8-a247-9a907ed4c342",
   "metadata": {},
   "outputs": [],
   "source": [
    "blastfn.run_blastp('F:/Datasets/BLAST/H37Rv_proteins', 'full_sample_proteins.fasta', 'H37Rv_proteins', e_value = 1e-5)"
   ]
  },
  {
   "cell_type": "code",
   "execution_count": null,
   "id": "d3853493-d17b-404f-87f6-12d333067660",
   "metadata": {},
   "outputs": [],
   "source": [
    "H37Rv_v_full_sample_blast_df = blastfn.process_blast_output('F:/Datasets/BLAST/full_sample_proteins/hits.csv',project_dir + '/H37Rv_v_full_sample_blast_results.pkl' ,organism_name_dict, top_hit_only = True)\n",
    "full_sample_v_H37Rv_blast_df = blastfn.process_blast_output('F:/Datasets/BLAST/H37Rv_proteins/hits.csv',project_dir + '/full_sample_v_H37Rv_blast_results.pkl' ,organism_name_dict, top_hit_only = True)\n",
    "rbh_df = blastfn.keep_reciprocal_best_hits(H37Rv_v_full_sample_blast_df, full_sample_v_H37Rv_blast_df , project_dir + 'rbh_df.pkl')\n",
    "rbh_df.to_csv(project_dir + '/rbh.csv')"
   ]
  },
  {
   "cell_type": "code",
   "execution_count": null,
   "id": "d73479e2-88ba-466b-8b37-6fc20b6ca0bf",
   "metadata": {},
   "outputs": [],
   "source": [
    "ortholog_count_dict = {}\n",
    "for i, r in rbh_df.iterrows():\n",
    "    if r['query_ref'] in ortholog_count_dict:\n",
    "        ortholog_count_dict[r['query_ref']] +=1\n",
    "    else:\n",
    "        ortholog_count_dict[r['query_ref']] =1\n",
    "full_orthologs = []\n",
    "for k, v in ortholog_count_dict.items():\n",
    "    if v == len(sample_filenames):\n",
    "        full_orthologs.append(k)"
   ]
  },
  {
   "cell_type": "code",
   "execution_count": null,
   "id": "32b50248-f256-4924-967c-955667c4be5e",
   "metadata": {},
   "outputs": [],
   "source": [
    "samp = random.sample(full_orthologs, 200)"
   ]
  },
  {
   "cell_type": "code",
   "execution_count": null,
   "id": "95c00389-b972-4b28-a0e5-fdf3a136aedb",
   "metadata": {},
   "outputs": [],
   "source": [
    "ortholog_sequences = []\n",
    "for query_ref in tqdm(samp):\n",
    "    seq = []\n",
    "    for i,r in rbh_df.iterrows():\n",
    "        if r['query_ref'] == query_ref:\n",
    "            seq.append([r['target_ref'], protein_dict[r['target_ref']]])\n",
    "    ortholog_sequences.append(seq)"
   ]
  },
  {
   "cell_type": "code",
   "execution_count": null,
   "id": "34319775-9d94-426f-a6ad-7853533465b7",
   "metadata": {},
   "outputs": [],
   "source": [
    "concatenated_dict = {}\n",
    "for seqset in ortholog_sequences:\n",
    "    util.produce_fasta_file(seqset, project_dir + '/temp.fasta')\n",
    "    cline = MuscleCommandline(muscle_exe, input= project_dir + '/temp.fasta', out=project_dir + '/align.fasta')\n",
    "    try:\n",
    "        stdout, stderr = cline()\n",
    "    except Exception as e:\n",
    "        pass\n",
    "    a = util.read_fasta_to_array(project_dir + '/align.fasta')\n",
    "    b = list(zip(a[0],a[1]))\n",
    "    for info in b:\n",
    "        species = info[0].split('@')[0]\n",
    "        if species in concatenated_dict:\n",
    "            concatenated_dict[species] += info[1]\n",
    "        else:\n",
    "            concatenated_dict[species] = info[1]\n",
    "outfile = []\n",
    "for k, v in concatenated_dict.items():\n",
    "    outfile.append([k, v])\n",
    "util.produce_fasta_file(outfile, project_dir + '/concatenated_alignments.faa')\n",
    "util.convert_sequence_file_format(project_dir + '/concatenated_alignments.faa', project_dir + '/concatenated_alignments.phy', input_file_format = \"fasta\", output_file_format = \"phylip\")"
   ]
  },
  {
   "cell_type": "code",
   "execution_count": null,
   "id": "ca3a6645-ff05-479c-951c-8cb678ac7877",
   "metadata": {},
   "outputs": [],
   "source": [
    "distances_df = pd.read_excel(project_dir +'/mega_distances.xlsx')"
   ]
  },
  {
   "cell_type": "code",
   "execution_count": null,
   "id": "47f42ffb-4c79-401b-bed8-a8365780f9ad",
   "metadata": {},
   "outputs": [],
   "source": [
    "distance_dict = {}\n",
    "distance_dict[tb_species] = 0.0\n",
    "for i, r in distances_df.iterrows():\n",
    "    if r[tb_species] > 0:\n",
    "        distance_dict[r[0]] = r[tb_species]"
   ]
  },
  {
   "cell_type": "code",
   "execution_count": null,
   "id": "af292b74-cae8-44aa-a105-f6319f456471",
   "metadata": {},
   "outputs": [],
   "source": [
    "distance_dict"
   ]
  },
  {
   "cell_type": "code",
   "execution_count": null,
   "id": "45d6622e-9a44-497c-be6e-ef33394115c9",
   "metadata": {},
   "outputs": [],
   "source": []
  },
  {
   "cell_type": "code",
   "execution_count": null,
   "id": "51f13f17-aa18-4a8c-85bd-d6914baff37a",
   "metadata": {},
   "outputs": [],
   "source": [
    "full_orthologs[0]"
   ]
  },
  {
   "cell_type": "code",
   "execution_count": null,
   "id": "285a53c2-1b66-48b1-9ab9-7ae660ce6e1e",
   "metadata": {},
   "outputs": [],
   "source": [
    "results = []\n",
    "for ortholog in full_orthologs[176:177]:\n",
    "    for i, r in rbh_df.iterrows():\n",
    "        if r['query_ref'] == ortholog:\n",
    "            results.append([distance_dict[r['target_species']], r['bit_score']/r['query_length'], ortholog])\n",
    "results_df = pd.DataFrame(results, columns = ['distance', 'score', 'ortholog_ref'])\n",
    "sns.scatterplot(data=results_df, x=\"distance\", y=\"score\")"
   ]
  },
  {
   "cell_type": "code",
   "execution_count": null,
   "id": "96d64c5a-a1c8-4050-adfa-07e31e195242",
   "metadata": {},
   "outputs": [],
   "source": [
    "results = []\n",
    "for i, r in rbh_df.iterrows():\n",
    "    if r['e_value'] > 1e-10:\n",
    "        results.append([r['bit_score'], r['e_value']])\n",
    "results_df = pd.DataFrame(results, columns = ['score', 'evalue'])\n",
    "sns.scatterplot(data=results_df, x=\"score\", y=\"evalue\")"
   ]
  },
  {
   "cell_type": "code",
   "execution_count": null,
   "id": "b4484cc9-16c6-48f4-b347-41c1988f899c",
   "metadata": {},
   "outputs": [],
   "source": [
    "rbh_df"
   ]
  },
  {
   "cell_type": "code",
   "execution_count": null,
   "id": "2254cbe4-f5e2-429e-a386-4cbe2bf5a461",
   "metadata": {},
   "outputs": [],
   "source": []
  }
 ],
 "metadata": {
  "kernelspec": {
   "display_name": "Python 3 (ipykernel)",
   "language": "python",
   "name": "python3"
  },
  "language_info": {
   "codemirror_mode": {
    "name": "ipython",
    "version": 3
   },
   "file_extension": ".py",
   "mimetype": "text/x-python",
   "name": "python",
   "nbconvert_exporter": "python",
   "pygments_lexer": "ipython3",
   "version": "3.9.7"
  }
 },
 "nbformat": 4,
 "nbformat_minor": 5
}
