{
 "cells": [
  {
   "cell_type": "markdown",
   "id": "b1e30ed4-8a0e-4a6f-96eb-dfe116dfb2de",
   "metadata": {},
   "source": [
    "#### Directories etc"
   ]
  },
  {
   "cell_type": "code",
   "execution_count": 1,
   "id": "cf9c6377-5080-4c22-94db-feabe17cc47c",
   "metadata": {},
   "outputs": [
    {
     "name": "stderr",
     "output_type": "stream",
     "text": [
      "C:\\Users\\nicho\\Anaconda3\\envs\\Bioinformatics\\lib\\site-packages\\ete3-3.1.2-py3.7.egg\\ete3\\evol\\parser\\codemlparser.py:221: SyntaxWarning: \"is\" with a literal. Did you mean \"==\"?\n",
      "C:\\Users\\nicho\\Anaconda3\\envs\\Bioinformatics\\lib\\site-packages\\ete3-3.1.2-py3.7.egg\\ete3\\evol\\parser\\codemlparser.py:221: SyntaxWarning: \"is\" with a literal. Did you mean \"==\"?\n"
     ]
    }
   ],
   "source": [
    "import pandas as pd\n",
    "import pickle\n",
    "import seaborn as sns\n",
    "import matplotlib.pyplot as plt\n",
    "import numpy as np\n",
    "from scipy.fft import fft, fftfreq\n",
    "from Bio import Entrez, SeqIO, AlignIO, pairwise2, Align, Seq, motifs\n",
    "from Bio.Seq import Seq\n",
    "from Bio.SeqFeature import SeqFeature, FeatureLocation\n",
    "from scipy.stats import binom\n",
    "import math\n",
    "import random\n",
    "from tqdm import tqdm\n",
    "from Comparative_Analysis import Utilities as util\n",
    "import random\n",
    "from joblib import Parallel, delayed\n",
    "from Comparative_Analysis import Blast_Functions as blastfn\n",
    "import time\n",
    "import os\n",
    "import copy\n",
    "from Comparative_Analysis import ORF_Functions as orffn\n",
    "from random import sample\n",
    "pd.options.mode.chained_assignment = None  # default='warn'\n",
    "import ete3;"
   ]
  },
  {
   "cell_type": "code",
   "execution_count": 2,
   "id": "1988a242-f558-4643-b3a9-27272fa7bebc",
   "metadata": {},
   "outputs": [],
   "source": [
    "project_dir = 'F:/Project_Data/Project_9'\n",
    "seq_dir = 'F:/Datasets/Actinobacteria_Ref_Rep_Lev_Complete'\n",
    "tb_species = 'NC_000962.3' \n",
    "sample_filenames = ['GCF_000195955.2_ASM19595v2_genomic.gbff', 'GCF_024600175.1_ASM2460017v1_genomic.gbff', 'GCF_010730055.1_ASM1073005v1_genomic.gbff', 'GCF_020616615.1_ASM2061661v1_genomic.gbff', 'GCF_010731535.1_ASM1073153v1_genomic.gbff',\n",
    "                    'GCF_022370755.1_ASM2237075v1_genomic.gbff', 'GCF_016745295.1_ASM1674529v1_genomic.gbff', 'GCF_000157895.3_ASM15789v2_genomic.gbff', 'GCF_900603025.1_MHAS_genomic.gbff', 'GCF_018363015.1_ASM1836301v1_genomic.gbff',\n",
    "                    'GCF_019645855.1_ASM1964585v1_genomic.gbff', 'GCF_010727945.1_ASM1072794v1_genomic.gbff', 'GCF_010731895.1_ASM1073189v1_genomic.gbff', 'GCF_900637205.1_50279_G01_genomic.gbff', 'GCF_000184435.1_ASM18443v1_genomic.gbff']\n",
    "tb_reannotation_filename = 'annot.gbk'\n",
    "num_cores = 16\n",
    "core_numbers = list(range(1, num_cores+1))\n",
    "min_intergenic_length = 50"
   ]
  },
  {
   "cell_type": "markdown",
   "id": "198ce0ae-2b01-482b-83cb-93c720537916",
   "metadata": {},
   "source": [
    "#### Find all (maximal nested) ORFs for all species in sample"
   ]
  },
  {
   "cell_type": "code",
   "execution_count": 3,
   "id": "5c7cc1e9-23d9-4134-a0d0-0594d77575c6",
   "metadata": {
    "tags": []
   },
   "outputs": [
    {
     "name": "stderr",
     "output_type": "stream",
     "text": [
      "100%|██████████| 15/15 [02:19<00:00,  9.31s/it]\n"
     ]
    }
   ],
   "source": [
    "orf_dict = {}\n",
    "organism_name_dict = {}\n",
    "for filename in tqdm(sample_filenames):\n",
    "    record = next(SeqIO.parse(seq_dir + '/' + filename, \"genbank\"))\n",
    "    organism_name = record.annotations['organism']\n",
    "    accession_ver = record.annotations['accessions'][0] + '.' + str(record.annotations['sequence_version'])\n",
    "    sequence = str(record.seq)\n",
    "    ORFFinder = orffn.ORF_Finder(sequence)\n",
    "    orfs = ORFFinder.max_orf(0, len(sequence), output_orfs = 'Nested', min_orf_length = 50)\n",
    "    orf_dict[accession_ver] = (sequence, orfs)\n",
    "    organism_name_dict[accession_ver] = organism_name"
   ]
  },
  {
   "cell_type": "markdown",
   "id": "a68bc4bc-dbbe-48fe-a8e8-9da2ead8e069",
   "metadata": {},
   "source": [
    "#### Set up dataframe with annotated (based on PGP run) M.tb feature boundaries and Mycobrowser M.tb feature boundaries"
   ]
  },
  {
   "cell_type": "code",
   "execution_count": 4,
   "id": "8efb2a8e-fcbb-40a1-a9fd-2ffb5ce230eb",
   "metadata": {},
   "outputs": [],
   "source": [
    "xls = pd.ExcelFile('F:/Datasets/Data_From_Publications/Mycobrowser_Release_4.xlsx')\n",
    "mycobrowser_df = pd.read_excel(xls)\n",
    "genbank_cds_boundaries = []\n",
    "mycobrowser_cds_boundaries = []\n",
    "mycobrowser_feature_boundaries = []\n",
    "for genome_record in SeqIO.parse(project_dir + '/' + tb_reannotation_filename, \"genbank\"):\n",
    "    for feature in genome_record.features:\n",
    "        if feature.type not in ('source', 'gene'):\n",
    "            a = feature.qualifiers  \n",
    "            genbank_cds_boundaries.append((int(feature.location.start), int(feature.location.end), int(feature.location.strand))) \n",
    "\n",
    "for i,r in mycobrowser_df.iterrows():\n",
    "    if r['Strand'] == '+':\n",
    "        strand = 1\n",
    "    else:\n",
    "        strand = -1\n",
    "    if r['Feature'] == 'CDS':\n",
    "        mycobrowser_cds_boundaries.append((r['Start']-1,r['Stop'], strand, r['Stop'] - r['Start']))\n",
    "    mycobrowser_feature_boundaries.append((r['Start']-1,r['Stop'], strand, r['Stop'] - r['Start']))"
   ]
  },
  {
   "cell_type": "markdown",
   "id": "8b69b1b3-e1db-45dc-a986-222fe9166450",
   "metadata": {},
   "source": [
    "#### Find non-nested ORFs in mycobrowser inter-feature regions - candidate novel ORFs"
   ]
  },
  {
   "cell_type": "code",
   "execution_count": 28,
   "id": "158b400e-2f5f-4e4a-a958-47769a72e738",
   "metadata": {},
   "outputs": [],
   "source": [
    "mycobrowser_inter_feature_orfs = []\n",
    "mycobrowser_feature_boundaries.sort(key = lambda x: x[1])\n",
    "mycobrowser_inter_feature_orf_probabilities = []\n",
    "max_stop = 0\n",
    "tb_sequence = orf_dict[tb_species][0]\n",
    "ORFFinder = orffn.ORF_Finder(tb_sequence)\n",
    "for i, (start, stop, strand, length) in enumerate(mycobrowser_feature_boundaries):\n",
    "    if i < len(mycobrowser_feature_boundaries) - 1:\n",
    "        max_stop = max(stop, max_stop)\n",
    "        if mycobrowser_feature_boundaries[i+1][1] > max_stop + min_intergenic_length:\n",
    "            a =ORFFinder.max_orf(max_stop-5, mycobrowser_feature_boundaries[i+1][1]+5, output_orfs = 'Nested', min_orf_length = 50)\n",
    "            for x in a:\n",
    "                mycobrowser_inter_feature_orfs.append(x)\n",
    "max_stop = 0\n",
    "H37Rv_ORFFinder = orffn.H37Rv_ORF_Finder()\n",
    "for i, (start, stop, strand, length) in enumerate(mycobrowser_feature_boundaries):\n",
    "    if i < len(mycobrowser_feature_boundaries) - 1:\n",
    "        max_stop = max(stop, max_stop)\n",
    "        if mycobrowser_feature_boundaries[i+1][1] > max_stop + min_intergenic_length:\n",
    "            a =H37Rv_ORFFinder.max_orf(max_stop-5, mycobrowser_feature_boundaries[i+1][1]+5, 999, output_orfs = 'Nested', min_orf_length = 50)\n",
    "            for x in a:\n",
    "                mycobrowser_inter_feature_orf_probabilities.append(x)"
   ]
  },
  {
   "cell_type": "code",
   "execution_count": 34,
   "id": "867e37a3-72d9-4333-92f9-c70739403069",
   "metadata": {},
   "outputs": [
    {
     "data": {
      "text/plain": [
       "58182"
      ]
     },
     "execution_count": 34,
     "metadata": {},
     "output_type": "execute_result"
    }
   ],
   "source": [
    "len(mycobrowser_inter_feature_orfs)"
   ]
  },
  {
   "cell_type": "code",
   "execution_count": 30,
   "id": "edb93e8f-ad41-429e-9dad-157d9c272371",
   "metadata": {},
   "outputs": [
    {
     "data": {
      "text/plain": [
       "<AxesSubplot:ylabel='Count'>"
      ]
     },
     "execution_count": 30,
     "metadata": {},
     "output_type": "execute_result"
    },
    {
     "data": {
      "image/png": "[encoded data removed]",
      "text/plain": [
       "<Figure size 432x288 with 1 Axes>"
      ]
     },
     "metadata": {
      "needs_background": "light"
     },
     "output_type": "display_data"
    }
   ],
   "source": [
    "sns.histplot([x[4] for x in mycobrowser_inter_feature_orf_probabilities])"
   ]
  },
  {
   "cell_type": "code",
   "execution_count": 6,
   "id": "0235e6fc-c63f-4f03-b88e-88f4c7416962",
   "metadata": {},
   "outputs": [],
   "source": [
    "mycobrowser_inter_feature_orfs_dict = {}\n",
    "mycobrowser_inter_feature_orfs_dict[tb_species] = (orf_dict[tb_species][0], mycobrowser_inter_feature_orfs)\n",
    "mycobrowser_cds_dict = {}\n",
    "mycobrowser_cds_dict[tb_species] = (orf_dict[tb_species][0], [x for x in mycobrowser_cds_boundaries])"
   ]
  },
  {
   "cell_type": "code",
   "execution_count": 35,
   "id": "2350516d-c0a4-467c-877f-159a13e5c97b",
   "metadata": {},
   "outputs": [],
   "source": [
    "mycobrowser_inter_feature_orfs"
   ]
  },
  {
   "cell_type": "markdown",
   "id": "e2683970-7a45-419b-875a-0ca44f8b7a66",
   "metadata": {
    "tags": []
   },
   "source": [
    "#### Produce FASTA file with CDS candidates"
   ]
  },
  {
   "cell_type": "code",
   "execution_count": 7,
   "id": "16dcdc22-a45b-495a-ab68-91f61a13ab41",
   "metadata": {},
   "outputs": [],
   "source": [
    "def produce_orf_protein_fasta_file(orf_dict, output_file):\n",
    "    trans = util.Translator()\n",
    "    temp = []\n",
    "    for k, v in orf_dict.items():\n",
    "        full_sequence = v[0]\n",
    "        orf_list = v[1]\n",
    "        for x in orf_list:\n",
    "            if x[2] == 1:\n",
    "                prot = trans.translate_sequence(full_sequence[x[0]:x[1]], 1, 0)\n",
    "            else:\n",
    "                prot = trans.translate_sequence(util.reverse_complement(full_sequence[x[0]:x[1]]), 1, 0)\n",
    "            name = k + '@' +str(x[0])+'_'+str(x[1])+'_'+str(x[2])\n",
    "            temp.append([name, prot[:-1]])\n",
    "    util.produce_fasta_file(temp, output_file)"
   ]
  },
  {
   "cell_type": "code",
   "execution_count": null,
   "id": "6bb7463b-a48f-44ca-ab4e-4b039927696e",
   "metadata": {},
   "outputs": [],
   "source": [
    "produce_orf_protein_fasta_file(orf_dict, project_dir + '/comparator_orfs.fasta')"
   ]
  },
  {
   "cell_type": "code",
   "execution_count": 36,
   "id": "7b2ee4b6-f027-4531-be91-6c42cc60c161",
   "metadata": {},
   "outputs": [
    {
     "name": "stderr",
     "output_type": "stream",
     "text": [
      "100%|██████████| 58182/58182 [00:01<00:00, 38316.48it/s] \n"
     ]
    }
   ],
   "source": [
    "produce_orf_protein_fasta_file(mycobrowser_inter_feature_orfs_dict, project_dir + '/mycobrowser_inter_feature_orfs.fasta')"
   ]
  },
  {
   "cell_type": "code",
   "execution_count": null,
   "id": "c291ba72-8ea3-4b33-b4f6-7021305a26bc",
   "metadata": {},
   "outputs": [],
   "source": [
    "produce_orf_protein_fasta_file(mycobrowser_cds_dict, project_dir + '/mycobrowser_cds.fasta')"
   ]
  },
  {
   "cell_type": "code",
   "execution_count": null,
   "id": "0f3fd8c7-cc87-465f-908c-8071edab3409",
   "metadata": {},
   "outputs": [],
   "source": [
    "blastfn.build_blast_db(project_dir, 'comparator_orfs.fasta', 'comparator_orfs', 'F:/Datasets/BLAST/comparator_orfs')\n",
    "blastfn.build_blast_db(project_dir, 'mycobrowser_inter_feature_orfs.fasta', 'mycobrowser_inter_feature_orfs', 'F:/Datasets/BLAST/mycobrowser_inter_feature_orfs')"
   ]
  },
  {
   "cell_type": "code",
   "execution_count": null,
   "id": "3ad29f43-3a81-4be3-a424-ed8e8542b64e",
   "metadata": {},
   "outputs": [],
   "source": [
    "blastfn.run_blastp('F:/Datasets/BLAST/comparator_orfs', 'mycobrowser_cds.fasta', 'comparator_orfs', 'hits.csv', e_value = 1e-10)"
   ]
  },
  {
   "cell_type": "code",
   "execution_count": 74,
   "id": "e10e315f-c55c-4f12-9df0-b9ecbd33acb5",
   "metadata": {},
   "outputs": [],
   "source": [
    "blastfn.run_blastp('F:/Datasets/BLAST/comparator_orfs', 'mycobrowser_inter_feature_orfs.fasta', 'comparator_orfs', 'if_hits.csv', e_value = 0.001)"
   ]
  },
  {
   "cell_type": "markdown",
   "id": "863fd81e-4857-45be-9760-ddd0daaf0f7f",
   "metadata": {},
   "source": [
    "#### Analyse CDS orthologs in target species"
   ]
  },
  {
   "cell_type": "code",
   "execution_count": 15,
   "id": "e1371e94-c64b-4122-9f53-896949bbe6e2",
   "metadata": {},
   "outputs": [],
   "source": [
    "blast_output = blastfn.process_blast_output('F:/Datasets/BLAST/comparator_orfs/hits.csv', organism_name_dict, top_hit_only = False)"
   ]
  },
  {
   "cell_type": "code",
   "execution_count": 124,
   "id": "b04faaec-ddbb-4d10-a970-25ae7c850116",
   "metadata": {},
   "outputs": [],
   "source": [
    "neighbour_dict = {}\n",
    "homolog_dict = {}\n",
    "test = blast_output[blast_output['target_species_name'] == 'Mycobacterium kansasii ATCC 12478'];\n",
    "test['num_identical_matches'] = test['alignment_length'] * test['percent_identical_matches']/100;\n",
    "test['max_identical_query_matches'] = test.groupby('query_ref')['num_identical_matches'].transform('max');\n",
    "test['max_identical_target_matches'] = test.groupby('target_ref')['num_identical_matches'].transform('max');\n",
    "test = test[test['num_identical_matches']>0.8*test['max_identical_query_matches']]\n",
    "test = test[test['num_identical_matches']>0.8*test['max_identical_target_matches']]\n",
    "test = test[test['percent_identical_matches'] > 0]\n",
    "test['count_matches'] = test.groupby('query_ref')['target_ref'].transform('count');\n",
    "\n",
    "query_refs = []\n",
    "target_refs = []\n",
    "for i, r in test.iterrows():\n",
    "    test.at[i,'tb_start'] = int(r['query_ref'].split('@')[1].split('_')[0])\n",
    "    test.at[i,'target_start'] = int(r['target_ref'].split('@')[1].split('_')[0])\n",
    "    if r['query_ref'] in homolog_dict:\n",
    "        homolog_dict[r['query_ref']].append(r['target_ref'])\n",
    "    else:\n",
    "        homolog_dict[r['query_ref']] = [r['target_ref']]\n",
    "    query_refs.append(r['query_ref'])\n",
    "    target_refs.append(r['target_ref'])\n",
    "query_refs = list(set(query_refs))\n",
    "query_refs.sort(key = lambda x: int(x.split('@')[1].split('_')[0]))\n",
    "target_refs = list(set(target_refs))\n",
    "target_refs.sort(key = lambda x: int(x.split('@')[1].split('_')[0]))\n",
    "for i, x in enumerate(target_refs):\n",
    "    if i==0:\n",
    "        neighbour_dict[x] = ('',target_refs[i+1])\n",
    "    elif i==len(target_refs)-1:\n",
    "        neighbour_dict[x] = (target_refs[i-1], '')\n",
    "    else:\n",
    "        neighbour_dict[x] = (target_refs[i-1],target_refs[i+1])\n",
    "for i, x in enumerate(query_refs):\n",
    "    if i==0:\n",
    "        neighbour_dict[x] = ('',query_refs[i+1])\n",
    "    elif i==len(query_refs)-1:\n",
    "        neighbour_dict[x] = (query_refs[i-1], '')\n",
    "    else:\n",
    "        neighbour_dict[x] = (query_refs[i-1],query_refs[i+1])"
   ]
  },
  {
   "cell_type": "code",
   "execution_count": 145,
   "id": "981faca3-dac2-49e6-b39b-c2d8f1588d58",
   "metadata": {},
   "outputs": [
    {
     "name": "stdout",
     "output_type": "stream",
     "text": [
      "2488\n"
     ]
    }
   ],
   "source": [
    "temp = []\n",
    "for i, query_ref in enumerate(query_refs):\n",
    "    matched = 0\n",
    "    if i == len(query_refs)-1:\n",
    "        break\n",
    "    else:\n",
    "        query_pair = (query_ref, query_refs[i+1])\n",
    "        if not(query_pair[0] in homolog_dict) or not(query_pair[1] in homolog_dict):\n",
    "            continue\n",
    "        else:\n",
    "            homologs_pair = (homolog_dict[query_pair[0]], homolog_dict[query_pair[1]])\n",
    "            for homolog_1 in homologs_pair[0]:\n",
    "                if not(homolog_1 in neighbour_dict):\n",
    "                    continue\n",
    "                else:\n",
    "                    neighbours = neighbour_dict[homolog_1]\n",
    "                    for homolog_2 in homologs_pair[1]:\n",
    "                        if homolog_2 == neighbours[0]:\n",
    "                            matched = 1\n",
    "                            match = (homolog_1, neighbours[0])\n",
    "                            break\n",
    "                        if homolog_2 == neighbours[1]:\n",
    "                            matched = 1\n",
    "                            match = (homolog_1, neighbours[1])\n",
    "                            break\n",
    "                    if matched == 1:\n",
    "                        break\n",
    "        if matched == 1:\n",
    "            #print(query_pair, match)\n",
    "            temp.append([query_pair[0], query_pair[1], match[0], match[1]])\n",
    "temp_df = pd.DataFrame(temp, columns = ['query_1','query_2','target_1', 'target_2'])\n",
    "for i, r in temp_df.iterrows():\n",
    "    temp_df.at[i, 'query_species'] = r['query_1'].split('@')[0]\n",
    "    temp_df.at[i, 'target_species'] = r['target_1'].split('@')[0]\n",
    "    temp_df.at[i,'query_1_start'] = int(r['query_1'].split('@')[1].split('_')[0])\n",
    "    temp_df.at[i,'query_1_stop'] = int(r['query_1'].split('@')[1].split('_')[1])\n",
    "    temp_df.at[i,'query_1_strand'] = int(r['query_1'].split('@')[1].split('_')[2])\n",
    "    temp_df.at[i,'query_2_start'] = int(r['query_2'].split('@')[1].split('_')[0])\n",
    "    temp_df.at[i,'query_2_stop'] = int(r['query_2'].split('@')[1].split('_')[1])\n",
    "    temp_df.at[i,'query_2_strand'] = int(r['query_2'].split('@')[1].split('_')[2])\n",
    "    temp_df.at[i,'target_1_start'] = int(r['target_1'].split('@')[1].split('_')[0])\n",
    "    temp_df.at[i,'target_1_stop'] = int(r['target_1'].split('@')[1].split('_')[1])\n",
    "    temp_df.at[i,'target_1_strand'] = int(r['target_1'].split('@')[1].split('_')[2])\n",
    "    temp_df.at[i,'target_2_start'] = int(r['target_2'].split('@')[1].split('_')[0])\n",
    "    temp_df.at[i,'target_2_stop'] = int(r['target_2'].split('@')[1].split('_')[1])\n",
    "    temp_df.at[i,'target_2_strand'] = int(r['target_2'].split('@')[1].split('_')[2])\n",
    "    temp_df.at[i,'query_sequence'] = orf_dict[r['query_1'].split('@')[0]][0][int(r['query_1'].split('@')[1].split('_')[0]) : int(r['query_2'].split('@')[1].split('_')[1])]\n",
    "print(len(temp_df))"
   ]
  },
  {
   "cell_type": "code",
   "execution_count": 146,
   "id": "dba2eeeb-52fa-4070-ad3f-4da219538e96",
   "metadata": {},
   "outputs": [
    {
     "data": {
      "text/html": [
       "<div>\n",
       "<style scoped>\n",
       "    .dataframe tbody tr th:only-of-type {\n",
       "        vertical-align: middle;\n",
       "    }\n",
       "\n",
       "    .dataframe tbody tr th {\n",
       "        vertical-align: top;\n",
       "    }\n",
       "\n",
       "    .dataframe thead th {\n",
       "        text-align: right;\n",
       "    }\n",
       "</style>\n",
       "<table border=\"1\" class=\"dataframe\">\n",
       "  <thead>\n",
       "    <tr style=\"text-align: right;\">\n",
       "      <th></th>\n",
       "      <th>query_1</th>\n",
       "      <th>query_2</th>\n",
       "      <th>target_1</th>\n",
       "      <th>target_2</th>\n",
       "      <th>query_species</th>\n",
       "      <th>target_species</th>\n",
       "      <th>query_1_start</th>\n",
       "      <th>query_1_stop</th>\n",
       "      <th>query_1_strand</th>\n",
       "      <th>query_2_start</th>\n",
       "      <th>query_2_stop</th>\n",
       "      <th>query_2_strand</th>\n",
       "      <th>target_1_start</th>\n",
       "      <th>target_1_stop</th>\n",
       "      <th>target_1_strand</th>\n",
       "      <th>target_2_start</th>\n",
       "      <th>target_2_stop</th>\n",
       "      <th>target_2_strand</th>\n",
       "      <th>query_sequence</th>\n",
       "    </tr>\n",
       "  </thead>\n",
       "  <tbody>\n",
       "    <tr>\n",
       "      <th>0</th>\n",
       "      <td>NC_000962.3@0_1524_1</td>\n",
       "      <td>NC_000962.3@2051_3260_1</td>\n",
       "      <td>NC_022663.1@3239554_3241171_1</td>\n",
       "      <td>NC_022663.1@3241681_3242881_1</td>\n",
       "      <td>NC_000962.3</td>\n",
       "      <td>NC_022663.1</td>\n",
       "      <td>0.0</td>\n",
       "      <td>1524.0</td>\n",
       "      <td>1.0</td>\n",
       "      <td>2051.0</td>\n",
       "      <td>3260.0</td>\n",
       "      <td>1.0</td>\n",
       "      <td>3239554.0</td>\n",
       "      <td>3241171.0</td>\n",
       "      <td>1.0</td>\n",
       "      <td>3241681.0</td>\n",
       "      <td>3242881.0</td>\n",
       "      <td>1.0</td>\n",
       "      <td>TTGACCGATGACCCCGGTTCAGGCTTCACCACAGTGTGGAACGCGG...</td>\n",
       "    </tr>\n",
       "    <tr>\n",
       "      <th>1</th>\n",
       "      <td>NC_000962.3@2051_3260_1</td>\n",
       "      <td>NC_000962.3@3279_4437_1</td>\n",
       "      <td>NC_022663.1@3241681_3242881_1</td>\n",
       "      <td>NC_022663.1@3242901_3244068_1</td>\n",
       "      <td>NC_000962.3</td>\n",
       "      <td>NC_022663.1</td>\n",
       "      <td>2051.0</td>\n",
       "      <td>3260.0</td>\n",
       "      <td>1.0</td>\n",
       "      <td>3279.0</td>\n",
       "      <td>4437.0</td>\n",
       "      <td>1.0</td>\n",
       "      <td>3241681.0</td>\n",
       "      <td>3242881.0</td>\n",
       "      <td>1.0</td>\n",
       "      <td>3242901.0</td>\n",
       "      <td>3244068.0</td>\n",
       "      <td>1.0</td>\n",
       "      <td>ATGGACGCGGCTACGACAAGAGTTGGCCTCACCGACTTGACGTTTC...</td>\n",
       "    </tr>\n",
       "    <tr>\n",
       "      <th>2</th>\n",
       "      <td>NC_000962.3@3279_4437_1</td>\n",
       "      <td>NC_000962.3@4433_4997_1</td>\n",
       "      <td>NC_022663.1@3242901_3244068_1</td>\n",
       "      <td>NC_022663.1@3244064_3244619_1</td>\n",
       "      <td>NC_000962.3</td>\n",
       "      <td>NC_022663.1</td>\n",
       "      <td>3279.0</td>\n",
       "      <td>4437.0</td>\n",
       "      <td>1.0</td>\n",
       "      <td>4433.0</td>\n",
       "      <td>4997.0</td>\n",
       "      <td>1.0</td>\n",
       "      <td>3242901.0</td>\n",
       "      <td>3244068.0</td>\n",
       "      <td>1.0</td>\n",
       "      <td>3244064.0</td>\n",
       "      <td>3244619.0</td>\n",
       "      <td>1.0</td>\n",
       "      <td>GTGTACGTCCGTCATTTGGGGCTGCGTGACTTCCGGTCCTGGGCAT...</td>\n",
       "    </tr>\n",
       "    <tr>\n",
       "      <th>3</th>\n",
       "      <td>NC_000962.3@4433_4997_1</td>\n",
       "      <td>NC_000962.3@5239_7267_1</td>\n",
       "      <td>NC_022663.1@3244064_3244619_1</td>\n",
       "      <td>NC_022663.1@3244875_3246903_1</td>\n",
       "      <td>NC_000962.3</td>\n",
       "      <td>NC_022663.1</td>\n",
       "      <td>4433.0</td>\n",
       "      <td>4997.0</td>\n",
       "      <td>1.0</td>\n",
       "      <td>5239.0</td>\n",
       "      <td>7267.0</td>\n",
       "      <td>1.0</td>\n",
       "      <td>3244064.0</td>\n",
       "      <td>3244619.0</td>\n",
       "      <td>1.0</td>\n",
       "      <td>3244875.0</td>\n",
       "      <td>3246903.0</td>\n",
       "      <td>1.0</td>\n",
       "      <td>ATGACGGGTTCTGTTGACCGGCCCGACCAGAATCGCGGTGAGCGAT...</td>\n",
       "    </tr>\n",
       "    <tr>\n",
       "      <th>4</th>\n",
       "      <td>NC_000962.3@5239_7267_1</td>\n",
       "      <td>NC_000962.3@7301_9818_1</td>\n",
       "      <td>NC_022663.1@3244875_3246903_1</td>\n",
       "      <td>NC_022663.1@3247942_3251716_1</td>\n",
       "      <td>NC_000962.3</td>\n",
       "      <td>NC_022663.1</td>\n",
       "      <td>5239.0</td>\n",
       "      <td>7267.0</td>\n",
       "      <td>1.0</td>\n",
       "      <td>7301.0</td>\n",
       "      <td>9818.0</td>\n",
       "      <td>1.0</td>\n",
       "      <td>3244875.0</td>\n",
       "      <td>3246903.0</td>\n",
       "      <td>1.0</td>\n",
       "      <td>3247942.0</td>\n",
       "      <td>3251716.0</td>\n",
       "      <td>1.0</td>\n",
       "      <td>GTGGCTGCCCAGAAAAAGAAGGCCCAAGACGAATACGGCGCTGCGT...</td>\n",
       "    </tr>\n",
       "    <tr>\n",
       "      <th>...</th>\n",
       "      <td>...</td>\n",
       "      <td>...</td>\n",
       "      <td>...</td>\n",
       "      <td>...</td>\n",
       "      <td>...</td>\n",
       "      <td>...</td>\n",
       "      <td>...</td>\n",
       "      <td>...</td>\n",
       "      <td>...</td>\n",
       "      <td>...</td>\n",
       "      <td>...</td>\n",
       "      <td>...</td>\n",
       "      <td>...</td>\n",
       "      <td>...</td>\n",
       "      <td>...</td>\n",
       "      <td>...</td>\n",
       "      <td>...</td>\n",
       "      <td>...</td>\n",
       "      <td>...</td>\n",
       "    </tr>\n",
       "    <tr>\n",
       "      <th>2483</th>\n",
       "      <td>NC_000962.3@4407527_4408202_-1</td>\n",
       "      <td>NC_000962.3@4408333_4408897_-1</td>\n",
       "      <td>NC_022663.1@3235544_3236291_-1</td>\n",
       "      <td>NC_022663.1@3236393_3236972_-1</td>\n",
       "      <td>NC_000962.3</td>\n",
       "      <td>NC_022663.1</td>\n",
       "      <td>4407527.0</td>\n",
       "      <td>4408202.0</td>\n",
       "      <td>-1.0</td>\n",
       "      <td>4408333.0</td>\n",
       "      <td>4408897.0</td>\n",
       "      <td>-1.0</td>\n",
       "      <td>3235544.0</td>\n",
       "      <td>3236291.0</td>\n",
       "      <td>-1.0</td>\n",
       "      <td>3236393.0</td>\n",
       "      <td>3236972.0</td>\n",
       "      <td>-1.0</td>\n",
       "      <td>TCACGCCGTCCCTCCACTCGCCATCCGTGCCGACCCTCGGGCGATC...</td>\n",
       "    </tr>\n",
       "    <tr>\n",
       "      <th>2484</th>\n",
       "      <td>NC_000962.3@4408333_4408897_-1</td>\n",
       "      <td>NC_000962.3@4408968_4410069_-1</td>\n",
       "      <td>NC_022663.1@3236393_3236972_-1</td>\n",
       "      <td>NC_022663.1@3237079_3238225_-1</td>\n",
       "      <td>NC_000962.3</td>\n",
       "      <td>NC_022663.1</td>\n",
       "      <td>4408333.0</td>\n",
       "      <td>4408897.0</td>\n",
       "      <td>-1.0</td>\n",
       "      <td>4408968.0</td>\n",
       "      <td>4410069.0</td>\n",
       "      <td>-1.0</td>\n",
       "      <td>3236393.0</td>\n",
       "      <td>3236972.0</td>\n",
       "      <td>-1.0</td>\n",
       "      <td>3237079.0</td>\n",
       "      <td>3238225.0</td>\n",
       "      <td>-1.0</td>\n",
       "      <td>CTAGTCGCGGAGCACAACGACTCGGCGTTCTGGCTCCACGCCTTCG...</td>\n",
       "    </tr>\n",
       "    <tr>\n",
       "      <th>2485</th>\n",
       "      <td>NC_000962.3@4408968_4410069_-1</td>\n",
       "      <td>NC_000962.3@4410052_4410415_-1</td>\n",
       "      <td>NC_022663.1@3237079_3238225_-1</td>\n",
       "      <td>NC_022663.1@3238208_3238667_-1</td>\n",
       "      <td>NC_000962.3</td>\n",
       "      <td>NC_022663.1</td>\n",
       "      <td>4408968.0</td>\n",
       "      <td>4410069.0</td>\n",
       "      <td>-1.0</td>\n",
       "      <td>4410052.0</td>\n",
       "      <td>4410415.0</td>\n",
       "      <td>-1.0</td>\n",
       "      <td>3237079.0</td>\n",
       "      <td>3238225.0</td>\n",
       "      <td>-1.0</td>\n",
       "      <td>3238208.0</td>\n",
       "      <td>3238667.0</td>\n",
       "      <td>-1.0</td>\n",
       "      <td>TCAACGTTTGCGTTTTTTCGGTCGCACCCCGGGCCGCGGCGTACGG...</td>\n",
       "    </tr>\n",
       "    <tr>\n",
       "      <th>2486</th>\n",
       "      <td>NC_000962.3@4410052_4410415_-1</td>\n",
       "      <td>NC_000962.3@4410411_4410789_-1</td>\n",
       "      <td>NC_022663.1@3238208_3238667_-1</td>\n",
       "      <td>NC_022663.1@3238546_3238909_-1</td>\n",
       "      <td>NC_000962.3</td>\n",
       "      <td>NC_022663.1</td>\n",
       "      <td>4410052.0</td>\n",
       "      <td>4410415.0</td>\n",
       "      <td>-1.0</td>\n",
       "      <td>4410411.0</td>\n",
       "      <td>4410789.0</td>\n",
       "      <td>-1.0</td>\n",
       "      <td>3238208.0</td>\n",
       "      <td>3238667.0</td>\n",
       "      <td>-1.0</td>\n",
       "      <td>3238546.0</td>\n",
       "      <td>3238909.0</td>\n",
       "      <td>-1.0</td>\n",
       "      <td>TCAAACAAAAGACTCACGCTCCCCTCGCTTTGACGCAGGGTTCCAG...</td>\n",
       "    </tr>\n",
       "    <tr>\n",
       "      <th>2487</th>\n",
       "      <td>NC_000962.3@4410411_4410789_-1</td>\n",
       "      <td>NC_000962.3@4410785_4410929_-1</td>\n",
       "      <td>NC_022663.1@3238546_3238909_-1</td>\n",
       "      <td>NC_022663.1@3238932_3239076_-1</td>\n",
       "      <td>NC_000962.3</td>\n",
       "      <td>NC_022663.1</td>\n",
       "      <td>4410411.0</td>\n",
       "      <td>4410789.0</td>\n",
       "      <td>-1.0</td>\n",
       "      <td>4410785.0</td>\n",
       "      <td>4410929.0</td>\n",
       "      <td>-1.0</td>\n",
       "      <td>3238546.0</td>\n",
       "      <td>3238909.0</td>\n",
       "      <td>-1.0</td>\n",
       "      <td>3238932.0</td>\n",
       "      <td>3239076.0</td>\n",
       "      <td>-1.0</td>\n",
       "      <td>TCACCGATCACTACCTGCCAGTTCGACAGCCCTCCGCAAGCCGCAT...</td>\n",
       "    </tr>\n",
       "  </tbody>\n",
       "</table>\n",
       "<p>2488 rows × 19 columns</p>\n",
       "</div>"
      ],
      "text/plain": [
       "                             query_1                         query_2  \\\n",
       "0               NC_000962.3@0_1524_1         NC_000962.3@2051_3260_1   \n",
       "1            NC_000962.3@2051_3260_1         NC_000962.3@3279_4437_1   \n",
       "2            NC_000962.3@3279_4437_1         NC_000962.3@4433_4997_1   \n",
       "3            NC_000962.3@4433_4997_1         NC_000962.3@5239_7267_1   \n",
       "4            NC_000962.3@5239_7267_1         NC_000962.3@7301_9818_1   \n",
       "...                              ...                             ...   \n",
       "2483  NC_000962.3@4407527_4408202_-1  NC_000962.3@4408333_4408897_-1   \n",
       "2484  NC_000962.3@4408333_4408897_-1  NC_000962.3@4408968_4410069_-1   \n",
       "2485  NC_000962.3@4408968_4410069_-1  NC_000962.3@4410052_4410415_-1   \n",
       "2486  NC_000962.3@4410052_4410415_-1  NC_000962.3@4410411_4410789_-1   \n",
       "2487  NC_000962.3@4410411_4410789_-1  NC_000962.3@4410785_4410929_-1   \n",
       "\n",
       "                            target_1                        target_2  \\\n",
       "0      NC_022663.1@3239554_3241171_1   NC_022663.1@3241681_3242881_1   \n",
       "1      NC_022663.1@3241681_3242881_1   NC_022663.1@3242901_3244068_1   \n",
       "2      NC_022663.1@3242901_3244068_1   NC_022663.1@3244064_3244619_1   \n",
       "3      NC_022663.1@3244064_3244619_1   NC_022663.1@3244875_3246903_1   \n",
       "4      NC_022663.1@3244875_3246903_1   NC_022663.1@3247942_3251716_1   \n",
       "...                              ...                             ...   \n",
       "2483  NC_022663.1@3235544_3236291_-1  NC_022663.1@3236393_3236972_-1   \n",
       "2484  NC_022663.1@3236393_3236972_-1  NC_022663.1@3237079_3238225_-1   \n",
       "2485  NC_022663.1@3237079_3238225_-1  NC_022663.1@3238208_3238667_-1   \n",
       "2486  NC_022663.1@3238208_3238667_-1  NC_022663.1@3238546_3238909_-1   \n",
       "2487  NC_022663.1@3238546_3238909_-1  NC_022663.1@3238932_3239076_-1   \n",
       "\n",
       "     query_species target_species  query_1_start  query_1_stop  \\\n",
       "0      NC_000962.3    NC_022663.1            0.0        1524.0   \n",
       "1      NC_000962.3    NC_022663.1         2051.0        3260.0   \n",
       "2      NC_000962.3    NC_022663.1         3279.0        4437.0   \n",
       "3      NC_000962.3    NC_022663.1         4433.0        4997.0   \n",
       "4      NC_000962.3    NC_022663.1         5239.0        7267.0   \n",
       "...            ...            ...            ...           ...   \n",
       "2483   NC_000962.3    NC_022663.1      4407527.0     4408202.0   \n",
       "2484   NC_000962.3    NC_022663.1      4408333.0     4408897.0   \n",
       "2485   NC_000962.3    NC_022663.1      4408968.0     4410069.0   \n",
       "2486   NC_000962.3    NC_022663.1      4410052.0     4410415.0   \n",
       "2487   NC_000962.3    NC_022663.1      4410411.0     4410789.0   \n",
       "\n",
       "      query_1_strand  query_2_start  query_2_stop  query_2_strand  \\\n",
       "0                1.0         2051.0        3260.0             1.0   \n",
       "1                1.0         3279.0        4437.0             1.0   \n",
       "2                1.0         4433.0        4997.0             1.0   \n",
       "3                1.0         5239.0        7267.0             1.0   \n",
       "4                1.0         7301.0        9818.0             1.0   \n",
       "...              ...            ...           ...             ...   \n",
       "2483            -1.0      4408333.0     4408897.0            -1.0   \n",
       "2484            -1.0      4408968.0     4410069.0            -1.0   \n",
       "2485            -1.0      4410052.0     4410415.0            -1.0   \n",
       "2486            -1.0      4410411.0     4410789.0            -1.0   \n",
       "2487            -1.0      4410785.0     4410929.0            -1.0   \n",
       "\n",
       "      target_1_start  target_1_stop  target_1_strand  target_2_start  \\\n",
       "0          3239554.0      3241171.0              1.0       3241681.0   \n",
       "1          3241681.0      3242881.0              1.0       3242901.0   \n",
       "2          3242901.0      3244068.0              1.0       3244064.0   \n",
       "3          3244064.0      3244619.0              1.0       3244875.0   \n",
       "4          3244875.0      3246903.0              1.0       3247942.0   \n",
       "...              ...            ...              ...             ...   \n",
       "2483       3235544.0      3236291.0             -1.0       3236393.0   \n",
       "2484       3236393.0      3236972.0             -1.0       3237079.0   \n",
       "2485       3237079.0      3238225.0             -1.0       3238208.0   \n",
       "2486       3238208.0      3238667.0             -1.0       3238546.0   \n",
       "2487       3238546.0      3238909.0             -1.0       3238932.0   \n",
       "\n",
       "      target_2_stop  target_2_strand  \\\n",
       "0         3242881.0              1.0   \n",
       "1         3244068.0              1.0   \n",
       "2         3244619.0              1.0   \n",
       "3         3246903.0              1.0   \n",
       "4         3251716.0              1.0   \n",
       "...             ...              ...   \n",
       "2483      3236972.0             -1.0   \n",
       "2484      3238225.0             -1.0   \n",
       "2485      3238667.0             -1.0   \n",
       "2486      3238909.0             -1.0   \n",
       "2487      3239076.0             -1.0   \n",
       "\n",
       "                                         query_sequence  \n",
       "0     TTGACCGATGACCCCGGTTCAGGCTTCACCACAGTGTGGAACGCGG...  \n",
       "1     ATGGACGCGGCTACGACAAGAGTTGGCCTCACCGACTTGACGTTTC...  \n",
       "2     GTGTACGTCCGTCATTTGGGGCTGCGTGACTTCCGGTCCTGGGCAT...  \n",
       "3     ATGACGGGTTCTGTTGACCGGCCCGACCAGAATCGCGGTGAGCGAT...  \n",
       "4     GTGGCTGCCCAGAAAAAGAAGGCCCAAGACGAATACGGCGCTGCGT...  \n",
       "...                                                 ...  \n",
       "2483  TCACGCCGTCCCTCCACTCGCCATCCGTGCCGACCCTCGGGCGATC...  \n",
       "2484  CTAGTCGCGGAGCACAACGACTCGGCGTTCTGGCTCCACGCCTTCG...  \n",
       "2485  TCAACGTTTGCGTTTTTTCGGTCGCACCCCGGGCCGCGGCGTACGG...  \n",
       "2486  TCAAACAAAAGACTCACGCTCCCCTCGCTTTGACGCAGGGTTCCAG...  \n",
       "2487  TCACCGATCACTACCTGCCAGTTCGACAGCCCTCCGCAAGCCGCAT...  \n",
       "\n",
       "[2488 rows x 19 columns]"
      ]
     },
     "execution_count": 146,
     "metadata": {},
     "output_type": "execute_result"
    }
   ],
   "source": [
    "temp_df"
   ]
  },
  {
   "cell_type": "code",
   "execution_count": 126,
   "id": "36e144ac-dcc5-4000-b57a-100bb0a51db8",
   "metadata": {},
   "outputs": [
    {
     "data": {
      "text/plain": [
       "<AxesSubplot:xlabel='query_1_start', ylabel='target_1_start'>"
      ]
     },
     "execution_count": 126,
     "metadata": {},
     "output_type": "execute_result"
    },
    {
     "data": {
      "image/png": "[encoded data removed]",
      "text/plain": [
       "<Figure size 432x288 with 1 Axes>"
      ]
     },
     "metadata": {
      "needs_background": "light"
     },
     "output_type": "display_data"
    }
   ],
   "source": [
    "sns.scatterplot(data = temp_df, x = 'query_1_start', y = 'target_1_start', s=1)"
   ]
  },
  {
   "cell_type": "code",
   "execution_count": 79,
   "id": "bd10a4cf-dde4-49df-a3b7-af30cba714ab",
   "metadata": {},
   "outputs": [],
   "source": [
    "test.to_csv(project_dir + '/test.csv')"
   ]
  },
  {
   "cell_type": "code",
   "execution_count": 117,
   "id": "c4361575-18ad-4465-b10f-312520df24c9",
   "metadata": {},
   "outputs": [
    {
     "data": {
      "text/plain": [
       "<AxesSubplot:xlabel='tb_start', ylabel='target_start'>"
      ]
     },
     "execution_count": 117,
     "metadata": {},
     "output_type": "execute_result"
    },
    {
     "data": {
      "image/png": "[encoded data removed]",
      "text/plain": [
       "<Figure size 432x288 with 1 Axes>"
      ]
     },
     "metadata": {
      "needs_background": "light"
     },
     "output_type": "display_data"
    }
   ],
   "source": [
    "sns.scatterplot(data = test, x  = 'tb_start', y = 'target_start', s=1 )"
   ]
  },
  {
   "cell_type": "code",
   "execution_count": 116,
   "id": "b14edf3b-c9b9-4966-a29a-db6fd199f483",
   "metadata": {},
   "outputs": [
    {
     "data": {
      "text/plain": [
       "<AxesSubplot:xlabel='percent_identical_matches', ylabel='Count'>"
      ]
     },
     "execution_count": 116,
     "metadata": {},
     "output_type": "execute_result"
    },
    {
     "data": {
      "image/png": "[encoded data removed]",
      "text/plain": [
       "<Figure size 432x288 with 1 Axes>"
      ]
     },
     "metadata": {
      "needs_background": "light"
     },
     "output_type": "display_data"
    }
   ],
   "source": [
    "sns.histplot(data = test, x = 'percent_identical_matches')"
   ]
  },
  {
   "cell_type": "markdown",
   "id": "61ab8568-1a2c-43c6-b96b-c670c5153c19",
   "metadata": {},
   "source": [
    "#### Analyse interfeature orthologs in target species"
   ]
  },
  {
   "cell_type": "code",
   "execution_count": 38,
   "id": "6e062a8f-2b1c-442d-8bf7-5f67bd79a966",
   "metadata": {},
   "outputs": [],
   "source": [
    "prob_dict = {}\n",
    "for (start, stop, strand, length, prob) in mycobrowser_inter_feature_orf_probabilities:\n",
    "    prob_dict[(start, stop, strand)] = prob"
   ]
  },
  {
   "cell_type": "code",
   "execution_count": 75,
   "id": "95054873-7b43-4c68-81f6-c1f3a7602f85",
   "metadata": {},
   "outputs": [
    {
     "name": "stderr",
     "output_type": "stream",
     "text": [
      "74622it [00:27, 2740.99it/s]\n"
     ]
    }
   ],
   "source": [
    "if_blast_output = blastfn.process_blast_output('F:/Datasets/BLAST/comparator_orfs/if_hits.csv', organism_name_dict, top_hit_only = False)\n",
    "if_test = if_blast_output[if_blast_output['target_species_name'] == 'Mycobacterium marinum'];\n",
    "if_test['Overlap'] = 0\n",
    "if_test['Genbank_Coordinates'] = ''\n",
    "\n",
    "for i, r in tqdm(if_test.iterrows()):\n",
    "    start = int(r['query_ref'].split('@')[1].split('_')[0])\n",
    "    stop = int(r['query_ref'].split('@')[1].split('_')[1])\n",
    "    strand = int(r['query_ref'].split('@')[1].split('_')[2])\n",
    "    if_test.at[i,'probability'] = prob_dict[(start, stop, strand)]\n",
    "    highest_overlap = 0\n",
    "    hit = 0\n",
    "    for feature in genbank_cds_boundaries:\n",
    "            if start <= feature[1] and stop >= feature[0]:\n",
    "                overlap = (min(stop, feature[1]) - max(start, feature[0]))/(stop - start)\n",
    "                if overlap > highest_overlap:\n",
    "                    hit = 1\n",
    "                    highest_overlap = overlap\n",
    "                    highest_entry = feature\n",
    "    if hit == 1:\n",
    "        if_test.at[i,'Overlap'] = highest_overlap\n",
    "        if_test.at[i,'Genbank_Coordinates'] = highest_entry\n",
    "if_test = if_test[abs(if_test['query_length'] - if_test['query_end_alignment']) < 3]\n",
    "if_test = if_test[abs(if_test['subject_length'] - if_test['target_end_alignment']) < 3]\n",
    "if_test.to_csv(project_dir + '/if_test_2.csv')"
   ]
  },
  {
   "cell_type": "code",
   "execution_count": 57,
   "id": "a9b83959-05b3-4bdc-9668-4ed95c633c6d",
   "metadata": {},
   "outputs": [
    {
     "name": "stdout",
     "output_type": "stream",
     "text": [
      "[0, 0, 0, 1, 0, 0, 0, 0, 0, 0, 0, 0, 0, 0, 0, 0, 0, 0, 0, 0, 0, 0, 0, 0, 1, 0, 0, 0, 0, 0, 0, 0, 0, 0, 0, 0, 0, 0, 0, 0, 0, 0, 0, 0, 0, 0, 0, 0, 0, 0, 0, 0, 0, 0, 0, 0, 0, 0, 0, 0, 0, 0, 0, 0, 0, 0, 0, 0, 0, 0, 0, 0, 0, 0, 0, 0, 0, 0, 0, 0, 0, 0, 0, 0, 0, 0, 0, 0, 2, 0, 0, 1, 1, 0, 0, 0, 0, 0, 0, 0, 0, 0, 0, 0, 0, 0, 0, 0, 0, 0, 0, 0, 0, 0, 0, 0, 0, 0, 0, 0, 2, 0, 0, 0, 0, 0, 0, 0, 0, 0, 0, 0, 0, 0, 1, 0, 0, 0, 0, 0, 0, 0, 0, 0, 0, 0, 0, 0, 0, 0, 0, 0, 0, 0, 0, 0, 0, 0, 0, 0, 0, 0, 0, 0, 0, 0, 0, 0, 0, 0, 0, 0, 0, 0, 0, 0, 0, 0, 0, 0, 0, 0, 0, 0, 1, 1, 0, 0, 0, 0, 0, 0, 0, 0, 0, 2, 0, 0, 0, 0, 0, 0, 0, 0, 0, 0, 0, 0, 0, 0, 3, 0, 0, 0, 0, 0, 0, 0, 0, 0, 0, 0, 0, 1, 0, 0, 0, 0, 0, 0, 0, 0, 1, 0, 1, 0, 1, 0, 1, 0, 0, 0, 0, 0, 2, 1, 0, 0, 0, 0, 0, 0, 0, 0, 2, 0, 0, 0, 0, 0, 0, 0, 0, 0, 0, 0, 0, 0, 0, 0, 0, 0, 0, 0, 0, 0, 0, 0, 0, 0, 0, 0, 0, 0, 0, 0, 0, 0, 0, 1, 0, 0, 1, 1, 1, 1, 0]\n",
      "0.8608652568505617\n"
     ]
    }
   ],
   "source": [
    "of = orffn.H37Rv_ORF_Finder()\n",
    "print(of.mutation_count_list[4056047:4056344])\n",
    "print(of.mutation_bin_probability(of.mutation_count_list[4056047:4056344]))"
   ]
  },
  {
   "cell_type": "code",
   "execution_count": 64,
   "id": "ceb30600-5579-421f-b8bd-fdf578153f9e",
   "metadata": {},
   "outputs": [
    {
     "data": {
      "text/plain": [
       "<AxesSubplot:ylabel='Count'>"
      ]
     },
     "execution_count": 64,
     "metadata": {},
     "output_type": "execute_result"
    },
    {
     "data": {
      "image/png": "[encoded data removed]",
      "text/plain": [
       "<Figure size 432x288 with 1 Axes>"
      ]
     },
     "metadata": {
      "needs_background": "light"
     },
     "output_type": "display_data"
    }
   ],
   "source": [
    "average = []\n",
    "totlen = len(of.mutation_count_list)\n",
    "for x in range(0, int(totlen/500)-1):\n",
    "    average.append(sum(of.mutation_count_list[x*500: x*500 +500]))\n",
    "sns.histplot(average, bins=300)"
   ]
  },
  {
   "cell_type": "code",
   "execution_count": 48,
   "id": "db5a9840-1fa6-482e-93ba-dd79f38150db",
   "metadata": {},
   "outputs": [],
   "source": [
    "def bin_formula(max_bin_counts, tot_bin_counts):\n",
    "    return 1- binom.cdf(max_bin_counts-1, tot_bin_counts,1/3)\n",
    "\n",
    "def mutation_bin_probability(mutation_counts):\n",
    "    bin_counts = [0,0,0]\n",
    "    for i, c in enumerate(mutation_counts):\n",
    "        bin_counts[i % 3] += c\n",
    "    if sum(bin_counts) == 0:\n",
    "        return 2\n",
    "    else:\n",
    "        return (bin_counts, bin_formula(bin_counts[2], sum(bin_counts)))  "
   ]
  },
  {
   "cell_type": "code",
   "execution_count": 58,
   "id": "b0c010a0-f484-4eaf-9351-7e7d0f5c8e77",
   "metadata": {},
   "outputs": [
    {
     "data": {
      "text/plain": [
       "([11, 12, 8], 0.8608652568505617)"
      ]
     },
     "execution_count": 58,
     "metadata": {},
     "output_type": "execute_result"
    }
   ],
   "source": [
    "mutation_bin_probability(of.mutation_count_list[4056047:4056344])"
   ]
  },
  {
   "cell_type": "code",
   "execution_count": 69,
   "id": "ed1a1b09-4830-4128-8030-8b9c2ee8d839",
   "metadata": {},
   "outputs": [
    {
     "data": {
      "text/plain": [
       "{'NC_000962.3': 'Mycobacterium tuberculosis H37Rv',\n",
       " 'NZ_CP102342.1': 'Mycolicibacterium smegmatis',\n",
       " 'NZ_AP022575.1': 'Mycobacterium shinjukuense',\n",
       " 'NZ_CP085200.1': 'Mycobacterium ulcerans',\n",
       " 'NZ_AP022581.1': 'Mycobacterium lacus',\n",
       " 'NZ_CP092364.1': 'Mycobacterium goodii',\n",
       " 'NZ_CP058277.1': 'Mycobacterium marinum',\n",
       " 'NC_022663.1': 'Mycobacterium kansasii ATCC 12478',\n",
       " 'NZ_LR026975.1': 'Mycolicibacterium hassiacum DSM 44199',\n",
       " 'NZ_CP074376.1': 'Mycolicibacterium neoaurum',\n",
       " 'NZ_CP080999.1': 'Mycobacterium malmoense',\n",
       " 'NZ_AP022569.1': 'Mycobacterium cookii',\n",
       " 'NZ_AP022596.1': 'Mycolicibacterium helvum',\n",
       " 'NZ_LR134355.1': 'Mycolicibacterium chitae',\n",
       " 'NC_014814.1': 'Mycolicibacterium gilvum Spyr1'}"
      ]
     },
     "execution_count": 69,
     "metadata": {},
     "output_type": "execute_result"
    }
   ],
   "source": [
    "organism_name_dict"
   ]
  },
  {
   "cell_type": "code",
   "execution_count": null,
   "id": "d33a4b17-a75a-4e5b-9024-8a910df184fd",
   "metadata": {},
   "outputs": [],
   "source": [
    "def produce_non_shadowed_orfs(orfs):\n",
    "    a = orfs\n",
    "    a.sort(key = lambda x: x[3], reverse = True)\n",
    "    orf_list = [a[0]]\n",
    "    for x in tqdm(a[1:]):\n",
    "        matched = 0\n",
    "        for v in orf_list:\n",
    "            if x[1] > v[0] and x[0]<=v[1]:\n",
    "                matched = 1\n",
    "                break\n",
    "               \n",
    "        if matched == 0:\n",
    "            orf_list.append(x)\n",
    "    orf_list.sort(key = lambda x: x[0])\n",
    "    return orf_list"
   ]
  }
 ],
 "metadata": {
  "kernelspec": {
   "display_name": "Python 3 (ipykernel)",
   "language": "python",
   "name": "python3"
  },
  "language_info": {
   "codemirror_mode": {
    "name": "ipython",
    "version": 3
   },
   "file_extension": ".py",
   "mimetype": "text/x-python",
   "name": "python",
   "nbconvert_exporter": "python",
   "pygments_lexer": "ipython3",
   "version": "3.11.7"
  }
 },
 "nbformat": 4,
 "nbformat_minor": 5
}
