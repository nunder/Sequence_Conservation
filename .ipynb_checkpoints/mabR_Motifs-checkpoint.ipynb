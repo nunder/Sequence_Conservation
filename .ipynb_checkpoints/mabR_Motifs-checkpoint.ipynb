{
 "cells": [
  {
   "cell_type": "markdown",
   "id": "b1e30ed4-8a0e-4a6f-96eb-dfe116dfb2de",
   "metadata": {},
   "source": [
    "#### Import packages, set directories and parameters"
   ]
  },
  {
   "cell_type": "code",
   "execution_count": 103,
   "id": "cf9c6377-5080-4c22-94db-feabe17cc47c",
   "metadata": {},
   "outputs": [],
   "source": [
    "import pandas as pd\n",
    "import pickle\n",
    "import seaborn as sns\n",
    "import matplotlib.pyplot as plt\n",
    "import numpy as np\n",
    "from Bio import Entrez, SeqIO, AlignIO, pairwise2, Align, Seq, motifs\n",
    "from Bio.Seq import Seq\n",
    "from Bio.SeqFeature import SeqFeature, FeatureLocation\n",
    "import math\n",
    "from tqdm import tqdm\n",
    "from Comparative_Analysis import Utilities as util\n",
    "from joblib import Parallel, delayed\n",
    "from Comparative_Analysis import Blast_Functions as blastfn\n",
    "import time\n",
    "import os\n",
    "import copy\n",
    "from scipy.stats import chi2\n",
    "from Comparative_Analysis import Alignment as alignfn\n",
    "from Bio.Align.Applications import MuscleCommandline\n",
    "import subprocess\n",
    "pd.options.mode.chained_assignment = None  # default='warn'"
   ]
  },
  {
   "cell_type": "code",
   "execution_count": 114,
   "id": "79c1ca3d-a68f-4a9d-a5c4-25df7385b3ad",
   "metadata": {},
   "outputs": [],
   "source": [
    "project_dir = 'F:/Project_Data/mabR_Project'\n",
    "mycobacteria_seq_dir = 'F:/Datasets/NCBI_Refseq_Mycobacteriaceae_Complete_Annot_20230511/data'\n",
    "tb_species = 'AL123456.3' \n",
    "tb_annotation_dirname = 'GCA_000195955.2'\n",
    "min_upstream_region_length = 7 \n",
    "full_build = False\n",
    "num_cores = 16\n",
    "core_numbers = list(range(1, num_cores+1))\n",
    "muscle_exe = 'C:/Users/nicho/Muscle/muscle3.8.31_i86win32.exe'"
   ]
  },
  {
   "cell_type": "markdown",
   "id": "961e4bbc-73cd-40c7-8760-543814205591",
   "metadata": {},
   "source": [
    "##### Produce full sequence file of M. tb for FIMO searches and also list of all feature co-ordinates and inter-feature co-ordinates for locating hits"
   ]
  },
  {
   "cell_type": "code",
   "execution_count": 69,
   "id": "7235fa7a-4b65-4459-ac1f-4143d6c5d3ef",
   "metadata": {},
   "outputs": [
    {
     "name": "stderr",
     "output_type": "stream",
     "text": [
      "100%|██████████| 1/1 [00:00<00:00, 11.98it/s]\n"
     ]
    }
   ],
   "source": [
    "genome_record = next(SeqIO.parse(mycobacteria_seq_dir + '/' + tb_annotation_dirname + '/genomic.gbff', \"genbank\"))\n",
    "full_sequence = str(genome_record.seq)\n",
    "util.produce_fasta_file([['H37Rv', full_sequence]], project_dir + '/MEME_Output/mtb_seq')"
   ]
  },
  {
   "cell_type": "code",
   "execution_count": 44,
   "id": "7b6be4bd-b6b9-4bbf-b073-b82297bca458",
   "metadata": {},
   "outputs": [],
   "source": [
    "annotated_regions = []\n",
    "intergenic_regions = []\n",
    "record = next(SeqIO.parse(mycobacteria_seq_dir + '/'+tb_annotation_dirname+'/genomic.gbff', \"genbank\"))\n",
    "for feature in record.features:\n",
    "    a = feature.qualifiers\n",
    "    if feature.type not in ['source','gene'] and (int(feature.location.start) < int(feature.location.end)) and (int(feature.location.end) - int(feature.location.start)) < 1000000:\n",
    "        if not(a.get(\"product\") == None):\n",
    "               product = a.get(\"product\")[0]\n",
    "        if not(a.get(\"locus_tag\")==None):\n",
    "            locus_tag = a.get(\"locus_tag\")[0]\n",
    "        else:\n",
    "            locus_tag = feature.type\n",
    "        annotated_regions.append((locus_tag, product, feature.type, int(feature.location.start), int(feature.location.end), str(feature.location.strand)))\n",
    "annotated_regions.sort(key = lambda x: x[4])\n",
    "prev_strand = 0\n",
    "prev_locus = ''\n",
    "prev_product = ''\n",
    "max_stop = 0\n",
    "for n, (locus, product, feature_type, start, stop, strand) in enumerate(annotated_regions):\n",
    "    if start > max_stop:\n",
    "        intergenic_regions.append([prev_locus+':'+locus, prev_product + ':' + product, 'Inter-feature',max_stop, start, str(prev_strand)+':'+str(strand)])\n",
    "    if stop > max_stop:\n",
    "        prev_locus = locus\n",
    "        prev_product = product\n",
    "        prev_strand = strand\n",
    "    max_stop = max(max_stop, stop)    \n",
    "for x in intergenic_regions:\n",
    "    annotated_regions.append(x)\n",
    "annotated_regions.sort(key = lambda x : x[4])"
   ]
  },
  {
   "cell_type": "code",
   "execution_count": 11,
   "id": "ab0123bd-bff9-4ef8-885b-bb6ba9691e3b",
   "metadata": {},
   "outputs": [],
   "source": [
    "tb_upstream_dict = {}\n",
    "all_features = []\n",
    "genome_record =  next(SeqIO.parse(mycobacteria_seq_dir + '/'+tb_annotation_dirname+'/genomic.gbff', \"genbank\"))\n",
    "full_sequence = str(genome_record.seq)\n",
    "len_full_sequence = len(full_sequence)\n",
    "for feature in genome_record.features:\n",
    "    if feature.type in ['gene', 'source']:\n",
    "        continue\n",
    "    a = feature.qualifiers\n",
    "    feature_type = feature.type\n",
    "    if a.get(\"locus_tag\") != None:\n",
    "        locus_tag = a.get(\"locus_tag\")[0]\n",
    "    else:\n",
    "        locus_tag  = ''\n",
    "    (start, stop, strand) = (int(feature.location.start), int(feature.location.end), int(feature.location.strand))\n",
    "    all_features.append([locus_tag, feature_type, start, stop, strand])\n",
    "\n",
    "# Positive strand upstream \n",
    "all_features.sort(key = lambda x: x[2])\n",
    "max_stop = 0\n",
    "for (locus, feature_type, start, stop, strand) in all_features:\n",
    "    if max_stop < start and feature_type == 'CDS' and strand == 1 and start - max_stop < 100000:    #Avoid joins where biopython interprets inconsistently \n",
    "        tb_upstream_dict[locus] = full_sequence[max_stop: start+3]\n",
    "    max_stop = max(max_stop, stop)\n",
    "# Negative strand upstream\n",
    "all_features.sort(key = lambda x: x[3], reverse = True)\n",
    "min_start = len(full_sequence)-1\n",
    "for (locus, feature_type, start, stop, strand) in all_features:\n",
    "    if stop < min_start and feature_type == 'CDS' and strand == -1 and min_start - stop < 100000:\n",
    "        tb_upstream_dict[locus] = util.reverse_complement(full_sequence[stop-3: min_start])\n",
    "    min_start = min(min_start, start)"
   ]
  },
  {
   "cell_type": "markdown",
   "id": "fcbb740d-f4e8-4842-b6f6-0084271d62e2",
   "metadata": {},
   "source": [
    "##### Import list of significantly up/downregulated genes and produce fasta file of upstream sequences"
   ]
  },
  {
   "cell_type": "code",
   "execution_count": 50,
   "id": "2dfe78c9-fd29-4b8c-bc7d-3ce16e4fb4ab",
   "metadata": {},
   "outputs": [],
   "source": [
    "regulation_type_dict = {}\n",
    "p_val_dict = {}\n",
    "downreg_genes = pd.read_excel(project_dir + '/2022-10-02_data_NU_NAs_renamed.xlsx', sheet_name = 'significant genes downregulated')\n",
    "upreg_genes = pd.read_excel(project_dir + '/2022-10-02_data.xlsx', sheet_name = 'significant genes upregulated')\n",
    "all_genes = pd.read_excel(project_dir + '/2022-10-02_data.xlsx', sheet_name = 'all genes')\n",
    "gene_list = []\n",
    "for i, r in downreg_genes.iterrows():\n",
    "    gene_list.append(r['Locus'])\n",
    "    regulation_type_dict[r['Locus']] = 'Downregulated'\n",
    "for i, r in upreg_genes.iterrows():\n",
    "    gene_list.append(r['Locus'])\n",
    "    regulation_type_dict[r['Locus']] = 'Upregulated'\n",
    "for i, r in all_genes.iterrows():\n",
    "    if r['padj'] == 'NA':\n",
    "        p_val_dict[r['Locus']] = 999\n",
    "    else:    \n",
    "        p_val_dict[r['Locus']] = r['padj']"
   ]
  },
  {
   "cell_type": "code",
   "execution_count": 19,
   "id": "92f57e96-7a0f-48eb-8d5b-008b3a27e0a8",
   "metadata": {},
   "outputs": [
    {
     "name": "stderr",
     "output_type": "stream",
     "text": [
      "100%|██████████| 177/177 [00:00<00:00, 177097.28it/s]\n"
     ]
    }
   ],
   "source": [
    "significant_upstream_tb_regions = []\n",
    "for gene in gene_list:\n",
    "    locus = str(gene)\n",
    "    if locus in tb_upstream_dict:\n",
    "        upstream_region = tb_upstream_dict[locus][:-3]  # Remove start codon of downstream gene\n",
    "        if len(upstream_region) >= min_upstream_region_length:\n",
    "            significant_upstream_tb_regions.append([locus, upstream_region])\n",
    "util.produce_fasta_file(significant_upstream_tb_regions, project_dir + '/significant_upstream_tb_regions.faa')"
   ]
  },
  {
   "cell_type": "markdown",
   "id": "b5447325-1e1b-416c-9601-7ab5715b70f7",
   "metadata": {},
   "source": [
    "##### Functions to run MEME and FIMO"
   ]
  },
  {
   "cell_type": "code",
   "execution_count": 22,
   "id": "f98b2319-81f8-4d5f-8ff4-5194b9fa9117",
   "metadata": {},
   "outputs": [],
   "source": [
    "def run_meme(search_regions_loc, output_dir, min_width, min_sites):\n",
    "    subprocess.run('wsl export PATH=$HOME/meme/bin:$HOME/meme/libexec/meme-5.4.1:usr/bin:$PATH ; meme '+ util.wslname(search_regions_loc) + ' -oc '+ util.wslname(output_dir) +' -dna -evt 0.01 -revcomp -mod anr -brief 4000 -minw ' + str(min_width) +' -maxw 200 -minsites ' + str(min_sites)\n",
    "               , shell=True)"
   ]
  },
  {
   "cell_type": "code",
   "execution_count": 24,
   "id": "56b54bda-296a-4fa5-a67c-df90f4268548",
   "metadata": {},
   "outputs": [],
   "source": [
    "def run_fimo(motif_file, sequence_to_search_file, output_dir):\n",
    "    subprocess.run('wsl export PATH=$HOME/meme/bin:$HOME/meme/libexec/meme-5.4.1:usr/bin:$PATH ; fimo -oc ' + util.wslname(output_dir) + ' ' + util.wslname(motif_file) + ' ' + util.wslname(sequence_to_search_file)\n",
    "               , shell=True)"
   ]
  },
  {
   "cell_type": "markdown",
   "id": "e8399606-8ab1-4292-ae09-29791de85a15",
   "metadata": {},
   "source": [
    "##### Run MEME, search against tb using FIMO"
   ]
  },
  {
   "cell_type": "code",
   "execution_count": 23,
   "id": "b7330b9c-0cb3-4362-82f8-7ede1e1045f9",
   "metadata": {},
   "outputs": [],
   "source": [
    "run_meme(project_dir + '/significant_upstream_tb_regions.faa',project_dir + '/MEME_Output',3,5)"
   ]
  },
  {
   "cell_type": "code",
   "execution_count": 25,
   "id": "7bb56b27-9fff-483b-906e-dd001e482986",
   "metadata": {},
   "outputs": [],
   "source": [
    "run_fimo(project_dir + '/MEME_Output/meme.txt', project_dir + '/MEME_Output/mtb_seq' , project_dir + '/FIMO_Output')"
   ]
  },
  {
   "cell_type": "code",
   "execution_count": 26,
   "id": "8e69039c-1b24-46ce-b54f-319bc84cce47",
   "metadata": {},
   "outputs": [],
   "source": [
    "fimo_hits = pd.read_csv(project_dir + '/FIMO_Output/fimo.tsv', sep='\\t')"
   ]
  },
  {
   "cell_type": "code",
   "execution_count": 30,
   "id": "15e43d6e-86cb-4cfa-b4e2-e052cde8e4c1",
   "metadata": {},
   "outputs": [
    {
     "name": "stderr",
     "output_type": "stream",
     "text": [
      "100%|██████████| 113/113 [00:00<00:00, 113089.08it/s]\n"
     ]
    }
   ],
   "source": [
    "matched_sequences = []\n",
    "for i, r in fimo_hits.iterrows():\n",
    "    if '#' in r['motif_id']:\n",
    "        continue\n",
    "    if float(r['q-value']) < 1e-5 and r['motif_alt_id'] == 'MEME-1':\n",
    "        matched_sequences.append([str(r['start'])+'_'+str(r['stop']), r['matched_sequence']])\n",
    "util.produce_fasta_file(matched_sequences, project_dir + '/fimo_hit_sequences.faa')"
   ]
  },
  {
   "cell_type": "code",
   "execution_count": 31,
   "id": "fa7598e4-63e8-4dbd-9deb-55bc1438fe54",
   "metadata": {},
   "outputs": [],
   "source": [
    "run_meme(project_dir + '/fimo_hit_sequences.faa', project_dir + '/Second_MEME_Output',3,5)"
   ]
  },
  {
   "cell_type": "code",
   "execution_count": 32,
   "id": "68145a62-c85d-48a3-a8c1-a65366e76a6d",
   "metadata": {},
   "outputs": [],
   "source": [
    "run_fimo(project_dir + '/Second_MEME_Output/meme.txt', project_dir + '/MEME_Output/mtb_seq' , project_dir + '/Second_FIMO_Output')"
   ]
  },
  {
   "cell_type": "code",
   "execution_count": 34,
   "id": "2399d06d-0b56-43b0-90bc-a2d381677d80",
   "metadata": {},
   "outputs": [],
   "source": [
    "second_fimo_hits = pd.read_csv(project_dir + '/Second_FIMO_Output/fimo.tsv', sep='\\t')"
   ]
  },
  {
   "cell_type": "code",
   "execution_count": 35,
   "id": "7718b72a-1b7d-4574-81b1-8ae3ae8aad80",
   "metadata": {},
   "outputs": [],
   "source": [
    "def count_total_inter_feature(temp):\n",
    "    tot = 0\n",
    "    for x in temp:\n",
    "        if x[2] == 'Inter-feature':\n",
    "            tot += float(x[3].rstrip('%'))\n",
    "    return tot"
   ]
  },
  {
   "cell_type": "code",
   "execution_count": 48,
   "id": "3364a989-58bd-4148-8c7b-1d9d737fc8b0",
   "metadata": {},
   "outputs": [],
   "source": [
    "upstream_hit_summary = []\n",
    "seq_hits = []\n",
    "filtered_hits = []\n",
    "fimo_hit_positions = []\n",
    "matched_sequences = []\n",
    "for i, r in fimo_hits.iterrows():\n",
    "    if '#' in r['motif_id']:\n",
    "        continue\n",
    "    fimo_hit_positions.append((int(r['start']), int(r['stop']), float(r['q-value']), r['motif_alt_id'],r['matched_sequence']))\n",
    "    fimo_hit_positions.sort(key = lambda x : x[2])\n",
    "for (start1, end1, q, alt_id, matched_sequence) in fimo_hit_positions:    \n",
    "    feature_matches = []\n",
    "    for (locus, product, feature, start, stop, strand) in annotated_regions:\n",
    "            if start< end1 and stop > start1:\n",
    "                overlap = str(int(100*(min(end1, stop) - max(start1, start))/ (end1-start1)))+'%'\n",
    "                feature_matches.append([locus, product, feature, overlap, strand])\n",
    "    if q < 1e-1:\n",
    "        match_list = []\n",
    "        upstream_genes = []\n",
    "        for x in feature_matches:\n",
    "            genes_in_feature = x[0].split(':')\n",
    "            strands_in_feature = x[4].split(':')\n",
    "            if len(strands_in_feature) == 2:\n",
    "                if strands_in_feature[0] == '-1':\n",
    "                    upstream_genes.append(genes_in_feature[0])\n",
    "                if strands_in_feature[1] == '1':\n",
    "                    upstream_genes.append(genes_in_feature[1])\n",
    "            for y in x:\n",
    "                for gene in gene_list:\n",
    "                    if str(gene) in str(y):\n",
    "                         match_list.append(gene)\n",
    "        if len(match_list) >= 0 and alt_id == 'MEME-1':\n",
    "            output_info = (alt_id, q, match_list, start1, end1, feature_matches, matched_sequence, upstream_genes)\n",
    "            #print(output_info)\n",
    "            matched_sequences.append([str(start1)+'_'+str(end1), matched_sequence, upstream_genes])\n",
    "            filtered_hits.append(output_info)\n",
    "            if len(upstream_genes) > 0:\n",
    "                upstream_hit_summary.append((upstream_genes, q))\n",
    "#pd.DataFrame(filtered_hits, columns = ['alt_id','q-value', 'up/down_regulated_matches', 'start', 'end', 'feature_positions', 'matched_sequence', 'upstream_genes']).to_csv(project_dir + '/filtered_fimo_hits.csv')"
   ]
  },
  {
   "cell_type": "code",
   "execution_count": null,
   "id": "841f4cae-0ba3-4694-a8c7-0428f6b9d5bf",
   "metadata": {},
   "outputs": [],
   "source": [
    "for x in upstream_hit_summary:\n",
    "    p_vals = []\n",
    "    for gene in x[0]:\n",
    "        if gene in p_val_dict:\n",
    "            p_vals.append(p_val_dict[gene])\n",
    "        else:\n",
    "            p_vals.append(-1)\n",
    "        print(x, p_vals)"
   ]
  },
  {
   "cell_type": "markdown",
   "id": "6a25cb91-03aa-4f6c-8cfb-25f426734c2a",
   "metadata": {},
   "source": [
    "##### Number of motif hits in different species"
   ]
  },
  {
   "cell_type": "code",
   "execution_count": 98,
   "id": "8333994f-045a-4c89-83bf-e204a5ceb096",
   "metadata": {},
   "outputs": [
    {
     "name": "stderr",
     "output_type": "stream",
     "text": [
      "100%|██████████| 1/1 [00:00<00:00, 12.94it/s]\n"
     ]
    },
    {
     "name": "stdout",
     "output_type": "stream",
     "text": [
      "Mycobacterium tuberculosis H37Rv 91\n"
     ]
    },
    {
     "name": "stderr",
     "output_type": "stream",
     "text": [
      "100%|██████████| 1/1 [00:00<00:00, 15.46it/s]\n"
     ]
    },
    {
     "name": "stdout",
     "output_type": "stream",
     "text": [
      "Mycolicibacterium brumae 0\n"
     ]
    },
    {
     "name": "stderr",
     "output_type": "stream",
     "text": [
      "100%|██████████| 1/1 [00:00<00:00, 11.22it/s]\n"
     ]
    },
    {
     "name": "stdout",
     "output_type": "stream",
     "text": [
      "Mycolicibacterium thermoresistibile 1\n"
     ]
    },
    {
     "name": "stderr",
     "output_type": "stream",
     "text": [
      "100%|██████████| 1/1 [00:00<00:00, 12.99it/s]\n"
     ]
    },
    {
     "name": "stdout",
     "output_type": "stream",
     "text": [
      "Mycolicibacter terrae 4\n"
     ]
    },
    {
     "name": "stderr",
     "output_type": "stream",
     "text": [
      "100%|██████████| 1/1 [00:00<00:00, 11.17it/s]\n"
     ]
    },
    {
     "name": "stdout",
     "output_type": "stream",
     "text": [
      "Mycobacterium basiliense 0\n"
     ]
    },
    {
     "name": "stderr",
     "output_type": "stream",
     "text": [
      "100%|██████████| 1/1 [00:00<00:00, 10.71it/s]\n"
     ]
    },
    {
     "name": "stdout",
     "output_type": "stream",
     "text": [
      "Mycolicibacterium hassiacum DSM 44199 24\n"
     ]
    },
    {
     "name": "stderr",
     "output_type": "stream",
     "text": [
      "100%|██████████| 1/1 [00:00<00:00, 10.65it/s]\n"
     ]
    },
    {
     "name": "stdout",
     "output_type": "stream",
     "text": [
      "Mycolicibacterium aurum 0\n"
     ]
    },
    {
     "name": "stderr",
     "output_type": "stream",
     "text": [
      "100%|██████████| 1/1 [00:00<00:00, 11.28it/s]\n"
     ]
    },
    {
     "name": "stdout",
     "output_type": "stream",
     "text": [
      "Mycolicibacterium chitae 0\n"
     ]
    },
    {
     "name": "stderr",
     "output_type": "stream",
     "text": [
      "100%|██████████| 1/1 [00:00<00:00, 14.24it/s]\n",
      "100%|██████████| 1/1 [00:00<00:00, 995.80it/s]\n"
     ]
    },
    {
     "name": "stdout",
     "output_type": "stream",
     "text": [
      "Mycolicibacillus parakoreensis 2\n"
     ]
    },
    {
     "name": "stderr",
     "output_type": "stream",
     "text": [
      "100%|██████████| 1/1 [00:00<00:00, 10.73it/s]\n",
      "100%|██████████| 1/1 [00:00<00:00, 333.28it/s]\n",
      "100%|██████████| 1/1 [00:00<00:00, 992.97it/s]\n"
     ]
    },
    {
     "name": "stdout",
     "output_type": "stream",
     "text": [
      "Mycobacterium rufum 0\n"
     ]
    },
    {
     "name": "stderr",
     "output_type": "stream",
     "text": [
      "100%|██████████| 1/1 [00:00<00:00, 10.99it/s]\n"
     ]
    },
    {
     "name": "stdout",
     "output_type": "stream",
     "text": [
      "Mycolicibacter virginiensis 35\n"
     ]
    },
    {
     "name": "stderr",
     "output_type": "stream",
     "text": [
      "100%|██████████| 1/1 [00:00<00:00, 11.36it/s]\n"
     ]
    },
    {
     "name": "stdout",
     "output_type": "stream",
     "text": [
      "Mycobacterium paraterrae 1\n"
     ]
    },
    {
     "name": "stderr",
     "output_type": "stream",
     "text": [
      "100%|██████████| 1/1 [00:00<00:00, 12.91it/s]\n",
      "100%|██████████| 1/1 [00:00<00:00, 328.58it/s]\n"
     ]
    },
    {
     "name": "stdout",
     "output_type": "stream",
     "text": [
      "Candidatus Mycobacterium methanotrophicum 0\n"
     ]
    },
    {
     "name": "stderr",
     "output_type": "stream",
     "text": [
      "100%|██████████| 1/1 [00:00<00:00,  9.52it/s]\n",
      "100%|██████████| 1/1 [00:00<00:00, 165.65it/s]\n",
      "100%|██████████| 1/1 [00:00<?, ?it/s]\n"
     ]
    },
    {
     "name": "stdout",
     "output_type": "stream",
     "text": [
      "Mycolicibacterium crocinum 3\n"
     ]
    },
    {
     "name": "stderr",
     "output_type": "stream",
     "text": [
      "100%|██████████| 1/1 [00:00<00:00,  7.38it/s]\n"
     ]
    },
    {
     "name": "stdout",
     "output_type": "stream",
     "text": [
      "Mycobacterium goodii 77\n"
     ]
    },
    {
     "name": "stderr",
     "output_type": "stream",
     "text": [
      "100%|██████████| 1/1 [00:00<00:00, 10.48it/s]\n",
      "100%|██████████| 1/1 [00:00<00:00, 502.37it/s]\n"
     ]
    },
    {
     "name": "stdout",
     "output_type": "stream",
     "text": [
      "Mycobacterium ulcerans 0\n"
     ]
    },
    {
     "name": "stderr",
     "output_type": "stream",
     "text": [
      "100%|██████████| 1/1 [00:00<00:00, 12.20it/s]\n",
      "100%|██████████| 1/1 [00:00<?, ?it/s]\n"
     ]
    },
    {
     "name": "stdout",
     "output_type": "stream",
     "text": [
      "Mycobacterium intracellulare 2\n"
     ]
    },
    {
     "name": "stderr",
     "output_type": "stream",
     "text": [
      "100%|██████████| 1/1 [00:00<00:00, 11.57it/s]\n"
     ]
    },
    {
     "name": "stdout",
     "output_type": "stream",
     "text": [
      "Mycobacterium ostraviense 8\n"
     ]
    },
    {
     "name": "stderr",
     "output_type": "stream",
     "text": [
      "100%|██████████| 1/1 [00:00<00:00, 11.05it/s]\n"
     ]
    },
    {
     "name": "stdout",
     "output_type": "stream",
     "text": [
      "Mycolicibacter heraklionensis 20\n"
     ]
    },
    {
     "name": "stderr",
     "output_type": "stream",
     "text": [
      "100%|██████████| 1/1 [00:00<00:00, 10.68it/s]\n"
     ]
    },
    {
     "name": "stdout",
     "output_type": "stream",
     "text": [
      "Mycolicibacterium holsaticum DSM 44478 = JCM 12374 0\n"
     ]
    },
    {
     "name": "stderr",
     "output_type": "stream",
     "text": [
      "100%|██████████| 1/1 [00:00<00:00, 11.83it/s]\n"
     ]
    },
    {
     "name": "stdout",
     "output_type": "stream",
     "text": [
      "Mycobacterium malmoense 13\n"
     ]
    },
    {
     "name": "stderr",
     "output_type": "stream",
     "text": [
      "100%|██████████| 1/1 [00:00<00:00, 10.45it/s]\n"
     ]
    },
    {
     "name": "stdout",
     "output_type": "stream",
     "text": [
      "Mycolicibacterium senegalense 19\n"
     ]
    },
    {
     "name": "stderr",
     "output_type": "stream",
     "text": [
      "100%|██████████| 1/1 [00:00<00:00,  9.79it/s]\n",
      "100%|██████████| 1/1 [00:00<00:00, 501.17it/s]\n",
      "100%|██████████| 1/1 [00:00<00:00, 501.17it/s]\n",
      "100%|██████████| 1/1 [00:00<00:00, 951.09it/s]\n"
     ]
    },
    {
     "name": "stdout",
     "output_type": "stream",
     "text": [
      "Mycolicibacterium farcinogenes 24\n"
     ]
    },
    {
     "name": "stderr",
     "output_type": "stream",
     "text": [
      "100%|██████████| 1/1 [00:00<00:00,  9.60it/s]\n",
      "100%|██████████| 1/1 [00:00<00:00, 1003.18it/s]\n"
     ]
    },
    {
     "name": "stdout",
     "output_type": "stream",
     "text": [
      "Mycobacterium paraintracellulare 2\n"
     ]
    },
    {
     "name": "stderr",
     "output_type": "stream",
     "text": [
      "100%|██████████| 1/1 [00:00<00:00, 10.58it/s]\n"
     ]
    },
    {
     "name": "stdout",
     "output_type": "stream",
     "text": [
      "Mycobacterium heckeshornense 19\n"
     ]
    },
    {
     "name": "stderr",
     "output_type": "stream",
     "text": [
      "100%|██████████| 1/1 [00:00<00:00, 10.35it/s]\n"
     ]
    },
    {
     "name": "stdout",
     "output_type": "stream",
     "text": [
      "Mycobacterium spongiae 0\n"
     ]
    },
    {
     "name": "stderr",
     "output_type": "stream",
     "text": [
      "100%|██████████| 1/1 [00:00<00:00, 11.30it/s]\n"
     ]
    },
    {
     "name": "stdout",
     "output_type": "stream",
     "text": [
      "Mycolicibacterium neoaurum 2\n"
     ]
    },
    {
     "name": "stderr",
     "output_type": "stream",
     "text": [
      "100%|██████████| 1/1 [00:00<00:00, 10.35it/s]\n"
     ]
    },
    {
     "name": "stdout",
     "output_type": "stream",
     "text": [
      "Mycolicibacterium diernhoferi 0\n"
     ]
    },
    {
     "name": "stderr",
     "output_type": "stream",
     "text": [
      "100%|██████████| 1/1 [00:00<00:00, 10.92it/s]\n",
      "100%|██████████| 1/1 [00:00<00:00, 1000.55it/s]\n",
      "100%|██████████| 1/1 [00:00<00:00, 994.15it/s]\n"
     ]
    },
    {
     "name": "stdout",
     "output_type": "stream",
     "text": [
      "Mycolicibacterium pallens 5\n"
     ]
    },
    {
     "name": "stderr",
     "output_type": "stream",
     "text": [
      "100%|██████████| 1/1 [00:00<00:00, 11.69it/s]\n",
      "100%|██████████| 1/1 [00:00<00:00, 198.65it/s]\n"
     ]
    },
    {
     "name": "stdout",
     "output_type": "stream",
     "text": [
      "Mycolicibacterium arabiense 0\n"
     ]
    },
    {
     "name": "stderr",
     "output_type": "stream",
     "text": [
      "100%|██████████| 1/1 [00:00<00:00, 12.56it/s]\n"
     ]
    },
    {
     "name": "stdout",
     "output_type": "stream",
     "text": [
      "Mycolicibacillus koreensis 0\n"
     ]
    },
    {
     "name": "stderr",
     "output_type": "stream",
     "text": [
      "100%|██████████| 1/1 [00:00<00:00, 11.49it/s]\n"
     ]
    },
    {
     "name": "stdout",
     "output_type": "stream",
     "text": [
      "Mycolicibacterium anyangense 3\n"
     ]
    },
    {
     "name": "stderr",
     "output_type": "stream",
     "text": [
      "100%|██████████| 1/1 [00:00<00:00, 11.97it/s]\n"
     ]
    },
    {
     "name": "stdout",
     "output_type": "stream",
     "text": [
      "Mycolicibacterium sarraceniae 0\n"
     ]
    },
    {
     "name": "stderr",
     "output_type": "stream",
     "text": [
      "100%|██████████| 1/1 [00:00<00:00, 10.52it/s]\n"
     ]
    },
    {
     "name": "stdout",
     "output_type": "stream",
     "text": [
      "Mycolicibacterium helvum 0\n"
     ]
    },
    {
     "name": "stderr",
     "output_type": "stream",
     "text": [
      "100%|██████████| 1/1 [00:00<00:00, 10.69it/s]\n"
     ]
    },
    {
     "name": "stdout",
     "output_type": "stream",
     "text": [
      "Mycobacterium vicinigordonae 29\n"
     ]
    },
    {
     "name": "stderr",
     "output_type": "stream",
     "text": [
      "100%|██████████| 1/1 [00:00<00:00, 11.29it/s]\n"
     ]
    },
    {
     "name": "stdout",
     "output_type": "stream",
     "text": [
      "Mycobacterium stomatepiae 0\n"
     ]
    },
    {
     "name": "stderr",
     "output_type": "stream",
     "text": [
      "100%|██████████| 1/1 [00:00<00:00, 10.05it/s]\n"
     ]
    },
    {
     "name": "stdout",
     "output_type": "stream",
     "text": [
      "Mycolicibacterium sediminis 0\n"
     ]
    },
    {
     "name": "stderr",
     "output_type": "stream",
     "text": [
      "100%|██████████| 1/1 [00:00<00:00, 11.83it/s]\n"
     ]
    },
    {
     "name": "stdout",
     "output_type": "stream",
     "text": [
      "Mycolicibacter minnesotensis 0\n"
     ]
    },
    {
     "name": "stderr",
     "output_type": "stream",
     "text": [
      "100%|██████████| 1/1 [00:00<00:00, 10.91it/s]\n"
     ]
    },
    {
     "name": "stdout",
     "output_type": "stream",
     "text": [
      "Mycobacterium mantenii 0\n"
     ]
    },
    {
     "name": "stderr",
     "output_type": "stream",
     "text": [
      "100%|██████████| 1/1 [00:00<00:00, 11.30it/s]\n"
     ]
    },
    {
     "name": "stdout",
     "output_type": "stream",
     "text": [
      "Mycolicibacterium celeriflavum 4\n"
     ]
    },
    {
     "name": "stderr",
     "output_type": "stream",
     "text": [
      "100%|██████████| 1/1 [00:00<00:00, 10.68it/s]\n"
     ]
    },
    {
     "name": "stdout",
     "output_type": "stream",
     "text": [
      "Mycolicibacterium monacense 25\n"
     ]
    },
    {
     "name": "stderr",
     "output_type": "stream",
     "text": [
      "100%|██████████| 1/1 [00:00<00:00, 11.03it/s]\n"
     ]
    },
    {
     "name": "stdout",
     "output_type": "stream",
     "text": [
      "Mycobacterium seoulense 0\n"
     ]
    },
    {
     "name": "stderr",
     "output_type": "stream",
     "text": [
      "100%|██████████| 1/1 [00:00<00:00, 11.40it/s]\n"
     ]
    },
    {
     "name": "stdout",
     "output_type": "stream",
     "text": [
      "Mycolicibacterium insubricum 0\n"
     ]
    },
    {
     "name": "stderr",
     "output_type": "stream",
     "text": [
      "100%|██████████| 1/1 [00:00<00:00, 12.25it/s]\n"
     ]
    },
    {
     "name": "stdout",
     "output_type": "stream",
     "text": [
      "Mycobacterium noviomagense 117\n"
     ]
    },
    {
     "name": "stderr",
     "output_type": "stream",
     "text": [
      "100%|██████████| 1/1 [00:00<00:00,  9.84it/s]\n"
     ]
    },
    {
     "name": "stdout",
     "output_type": "stream",
     "text": [
      "Mycobacterium paraseoulense 0\n"
     ]
    },
    {
     "name": "stderr",
     "output_type": "stream",
     "text": [
      "100%|██████████| 1/1 [00:00<00:00, 10.81it/s]\n"
     ]
    },
    {
     "name": "stdout",
     "output_type": "stream",
     "text": [
      "Mycolicibacterium litorale 3\n"
     ]
    },
    {
     "name": "stderr",
     "output_type": "stream",
     "text": [
      "100%|██████████| 1/1 [00:00<00:00, 10.58it/s]\n"
     ]
    },
    {
     "name": "stdout",
     "output_type": "stream",
     "text": [
      "Mycobacterium florentinum 8\n"
     ]
    },
    {
     "name": "stderr",
     "output_type": "stream",
     "text": [
      "100%|██████████| 1/1 [00:00<00:00, 10.36it/s]\n"
     ]
    },
    {
     "name": "stdout",
     "output_type": "stream",
     "text": [
      "Mycobacterium parmense 0\n"
     ]
    },
    {
     "name": "stderr",
     "output_type": "stream",
     "text": [
      "100%|██████████| 1/1 [00:00<00:00, 11.83it/s]\n"
     ]
    },
    {
     "name": "stdout",
     "output_type": "stream",
     "text": [
      "Mycobacterium heidelbergense 2\n"
     ]
    },
    {
     "name": "stderr",
     "output_type": "stream",
     "text": [
      "100%|██████████| 1/1 [00:00<00:00, 10.15it/s]\n"
     ]
    },
    {
     "name": "stdout",
     "output_type": "stream",
     "text": [
      "Mycolicibacterium phocaicum 2\n"
     ]
    },
    {
     "name": "stderr",
     "output_type": "stream",
     "text": [
      "100%|██████████| 1/1 [00:00<00:00, 10.15it/s]\n",
      "100%|██████████| 1/1 [00:00<?, ?it/s]\n"
     ]
    },
    {
     "name": "stdout",
     "output_type": "stream",
     "text": [
      "Mycolicibacterium boenickei 29\n"
     ]
    },
    {
     "name": "stderr",
     "output_type": "stream",
     "text": [
      "100%|██████████| 1/1 [00:00<00:00, 12.90it/s]\n"
     ]
    },
    {
     "name": "stdout",
     "output_type": "stream",
     "text": [
      "Mycobacterium lacus 153\n"
     ]
    },
    {
     "name": "stderr",
     "output_type": "stream",
     "text": [
      "100%|██████████| 1/1 [00:00<00:00, 12.17it/s]\n"
     ]
    },
    {
     "name": "stdout",
     "output_type": "stream",
     "text": [
      "Mycolicibacter hiberniae 1\n"
     ]
    },
    {
     "name": "stderr",
     "output_type": "stream",
     "text": [
      "100%|██████████| 1/1 [00:00<00:00, 11.54it/s]\n",
      "100%|██████████| 1/1 [00:00<00:00, 500.10it/s]\n"
     ]
    },
    {
     "name": "stdout",
     "output_type": "stream",
     "text": [
      "Mycolicibacterium madagascariense 2\n"
     ]
    },
    {
     "name": "stderr",
     "output_type": "stream",
     "text": [
      "100%|██████████| 1/1 [00:00<00:00, 10.36it/s]\n"
     ]
    },
    {
     "name": "stdout",
     "output_type": "stream",
     "text": [
      "Mycolicibacterium confluentis 0\n"
     ]
    },
    {
     "name": "stderr",
     "output_type": "stream",
     "text": [
      "100%|██████████| 1/1 [00:00<00:00, 13.89it/s]\n"
     ]
    },
    {
     "name": "stdout",
     "output_type": "stream",
     "text": [
      "Mycobacterium shinjukuense 105\n"
     ]
    },
    {
     "name": "stderr",
     "output_type": "stream",
     "text": [
      "100%|██████████| 1/1 [00:00<00:00, 10.70it/s]\n"
     ]
    },
    {
     "name": "stdout",
     "output_type": "stream",
     "text": [
      "Mycobacterium conspicuum 12\n"
     ]
    },
    {
     "name": "stderr",
     "output_type": "stream",
     "text": [
      "100%|██████████| 1/1 [00:00<00:00, 10.93it/s]\n"
     ]
    },
    {
     "name": "stdout",
     "output_type": "stream",
     "text": [
      "Mycobacterium shottsii 1\n"
     ]
    },
    {
     "name": "stderr",
     "output_type": "stream",
     "text": [
      "100%|██████████| 1/1 [00:00<00:00, 11.30it/s]\n",
      "100%|██████████| 1/1 [00:00<00:00, 124.99it/s]\n"
     ]
    },
    {
     "name": "stdout",
     "output_type": "stream",
     "text": [
      "Mycobacterium branderi 0\n"
     ]
    },
    {
     "name": "stderr",
     "output_type": "stream",
     "text": [
      "100%|██████████| 1/1 [00:00<00:00,  8.89it/s]\n"
     ]
    },
    {
     "name": "stdout",
     "output_type": "stream",
     "text": [
      "Mycolicibacterium gadium 22\n"
     ]
    },
    {
     "name": "stderr",
     "output_type": "stream",
     "text": [
      "100%|██████████| 1/1 [00:00<00:00, 10.69it/s]\n"
     ]
    },
    {
     "name": "stdout",
     "output_type": "stream",
     "text": [
      "Mycobacterium saskatchewanense 24\n"
     ]
    },
    {
     "name": "stderr",
     "output_type": "stream",
     "text": [
      "100%|██████████| 1/1 [00:00<00:00, 11.96it/s]\n"
     ]
    },
    {
     "name": "stdout",
     "output_type": "stream",
     "text": [
      "Mycolicibacterium psychrotolerans 0\n"
     ]
    },
    {
     "name": "stderr",
     "output_type": "stream",
     "text": [
      "100%|██████████| 1/1 [00:00<00:00,  9.30it/s]\n",
      "100%|██████████| 1/1 [00:00<00:00, 249.90it/s]\n"
     ]
    },
    {
     "name": "stdout",
     "output_type": "stream",
     "text": [
      "Mycolicibacterium alvei 8\n"
     ]
    },
    {
     "name": "stderr",
     "output_type": "stream",
     "text": [
      "100%|██████████| 1/1 [00:00<00:00,  7.09it/s]\n"
     ]
    },
    {
     "name": "stdout",
     "output_type": "stream",
     "text": [
      "Mycolicibacterium mageritense 19\n"
     ]
    },
    {
     "name": "stderr",
     "output_type": "stream",
     "text": [
      "100%|██████████| 1/1 [00:00<00:00, 11.17it/s]\n"
     ]
    },
    {
     "name": "stdout",
     "output_type": "stream",
     "text": [
      "Mycobacterium simiae 0\n"
     ]
    },
    {
     "name": "stderr",
     "output_type": "stream",
     "text": [
      "100%|██████████| 1/1 [00:00<00:00, 11.47it/s]\n"
     ]
    },
    {
     "name": "stdout",
     "output_type": "stream",
     "text": [
      "Mycobacterium cookii 0\n"
     ]
    },
    {
     "name": "stderr",
     "output_type": "stream",
     "text": [
      "100%|██████████| 1/1 [00:00<00:00, 13.24it/s]\n"
     ]
    },
    {
     "name": "stdout",
     "output_type": "stream",
     "text": [
      "Mycobacterium doricum 3\n"
     ]
    },
    {
     "name": "stderr",
     "output_type": "stream",
     "text": [
      "100%|██████████| 1/1 [00:00<00:00,  9.84it/s]\n",
      "100%|██████████| 1/1 [00:00<00:00, 499.92it/s]\n"
     ]
    },
    {
     "name": "stdout",
     "output_type": "stream",
     "text": [
      "Mycolicibacterium poriferae 0\n"
     ]
    },
    {
     "name": "stderr",
     "output_type": "stream",
     "text": [
      "100%|██████████| 1/1 [00:00<00:00, 11.29it/s]\n"
     ]
    },
    {
     "name": "stdout",
     "output_type": "stream",
     "text": [
      "Mycolicibacterium tokaiense 0\n"
     ]
    },
    {
     "name": "stderr",
     "output_type": "stream",
     "text": [
      "100%|██████████| 1/1 [00:00<00:00, 11.10it/s]\n"
     ]
    },
    {
     "name": "stdout",
     "output_type": "stream",
     "text": [
      "Mycolicibacterium moriokaense 67\n"
     ]
    },
    {
     "name": "stderr",
     "output_type": "stream",
     "text": [
      "100%|██████████| 1/1 [00:00<00:00, 11.05it/s]\n"
     ]
    },
    {
     "name": "stdout",
     "output_type": "stream",
     "text": [
      "Mycolicibacterium aichiense 2\n"
     ]
    },
    {
     "name": "stderr",
     "output_type": "stream",
     "text": [
      "100%|██████████| 1/1 [00:00<00:00, 13.07it/s]\n"
     ]
    },
    {
     "name": "stdout",
     "output_type": "stream",
     "text": [
      "Mycobacterium novum 47\n"
     ]
    },
    {
     "name": "stderr",
     "output_type": "stream",
     "text": [
      "100%|██████████| 1/1 [00:00<00:00, 12.42it/s]\n"
     ]
    },
    {
     "name": "stdout",
     "output_type": "stream",
     "text": [
      "Mycolicibacterium duvalii 1\n"
     ]
    },
    {
     "name": "stderr",
     "output_type": "stream",
     "text": [
      "100%|██████████| 1/1 [00:00<00:00, 13.60it/s]\n"
     ]
    },
    {
     "name": "stdout",
     "output_type": "stream",
     "text": [
      "Mycolicibacterium fallax 0\n"
     ]
    },
    {
     "name": "stderr",
     "output_type": "stream",
     "text": [
      "100%|██████████| 1/1 [00:00<00:00, 13.69it/s]\n"
     ]
    },
    {
     "name": "stdout",
     "output_type": "stream",
     "text": [
      "Mycobacteroides salmoniphilum 0\n"
     ]
    },
    {
     "name": "stderr",
     "output_type": "stream",
     "text": [
      "100%|██████████| 1/1 [00:00<00:00, 11.17it/s]\n"
     ]
    },
    {
     "name": "stdout",
     "output_type": "stream",
     "text": [
      "Mycolicibacterium mucogenicum DSM 44124 1\n"
     ]
    },
    {
     "name": "stderr",
     "output_type": "stream",
     "text": [
      "100%|██████████| 1/1 [00:00<00:00, 10.80it/s]\n",
      "100%|██████████| 1/1 [00:00<00:00, 987.59it/s]\n"
     ]
    },
    {
     "name": "stdout",
     "output_type": "stream",
     "text": [
      "Mycobacterium grossiae 0\n"
     ]
    },
    {
     "name": "stderr",
     "output_type": "stream",
     "text": [
      "100%|██████████| 1/1 [00:00<00:00, 11.42it/s]\n"
     ]
    },
    {
     "name": "stdout",
     "output_type": "stream",
     "text": [
      "Mycolicibacterium parafortuitum 0\n"
     ]
    },
    {
     "name": "stderr",
     "output_type": "stream",
     "text": [
      "100%|██████████| 1/1 [00:00<00:00, 11.30it/s]\n"
     ]
    },
    {
     "name": "stdout",
     "output_type": "stream",
     "text": [
      "Mycolicibacterium pulveris 53\n"
     ]
    },
    {
     "name": "stderr",
     "output_type": "stream",
     "text": [
      "100%|██████████| 1/1 [00:00<00:00, 12.12it/s]\n"
     ]
    },
    {
     "name": "stdout",
     "output_type": "stream",
     "text": [
      "Mycobacterium shigaense 0\n"
     ]
    },
    {
     "name": "stderr",
     "output_type": "stream",
     "text": [
      "100%|██████████| 1/1 [00:00<00:00, 12.66it/s]\n"
     ]
    },
    {
     "name": "stdout",
     "output_type": "stream",
     "text": [
      "[Mycobacterium] stephanolepidis 0\n"
     ]
    },
    {
     "name": "stderr",
     "output_type": "stream",
     "text": [
      "100%|██████████| 1/1 [00:00<00:00, 16.22it/s]\n"
     ]
    },
    {
     "name": "stdout",
     "output_type": "stream",
     "text": [
      "Mycobacterium leprae 0\n"
     ]
    },
    {
     "name": "stderr",
     "output_type": "stream",
     "text": [
      "100%|██████████| 1/1 [00:00<00:00, 11.05it/s]\n"
     ]
    },
    {
     "name": "stdout",
     "output_type": "stream",
     "text": [
      "Mycobacterium pseudoshottsii JCM 15466 0\n"
     ]
    },
    {
     "name": "stderr",
     "output_type": "stream",
     "text": [
      "100%|██████████| 1/1 [00:00<00:00,  9.75it/s]\n",
      "100%|██████████| 1/1 [00:00<00:00, 332.17it/s]\n",
      "100%|██████████| 1/1 [00:00<00:00, 500.51it/s]\n",
      "100%|██████████| 1/1 [00:00<00:00, 987.59it/s]\n",
      "100%|██████████| 1/1 [00:00<00:00, 1002.22it/s]\n"
     ]
    },
    {
     "name": "stdout",
     "output_type": "stream",
     "text": [
      "Mycobacterium paragordonae 24\n"
     ]
    },
    {
     "name": "stderr",
     "output_type": "stream",
     "text": [
      "100%|██████████| 1/1 [00:00<00:00, 10.78it/s]\n",
      "100%|██████████| 1/1 [00:00<00:00, 998.17it/s]\n"
     ]
    },
    {
     "name": "stdout",
     "output_type": "stream",
     "text": [
      "Mycobacteroides abscessus 0\n"
     ]
    },
    {
     "name": "stderr",
     "output_type": "stream",
     "text": [
      "100%|██████████| 1/1 [00:00<00:00,  9.39it/s]\n"
     ]
    },
    {
     "name": "stdout",
     "output_type": "stream",
     "text": [
      "Mycobacteroides immunogenum 3\n"
     ]
    },
    {
     "name": "stderr",
     "output_type": "stream",
     "text": [
      "100%|██████████| 1/1 [00:00<00:00, 10.81it/s]\n"
     ]
    },
    {
     "name": "stdout",
     "output_type": "stream",
     "text": [
      "Mycobacteroides chelonae CCUG 47445 0\n"
     ]
    },
    {
     "name": "stderr",
     "output_type": "stream",
     "text": [
      "100%|██████████| 1/1 [00:00<00:00,  8.02it/s]\n"
     ]
    },
    {
     "name": "stdout",
     "output_type": "stream",
     "text": [
      "Mycolicibacterium vaccae 95051 2\n"
     ]
    },
    {
     "name": "stderr",
     "output_type": "stream",
     "text": [
      "100%|██████████| 1/1 [00:00<00:00,  9.22it/s]\n",
      "100%|██████████| 1/1 [00:00<00:00, 500.16it/s]\n",
      "100%|██████████| 1/1 [00:00<00:00, 499.86it/s]\n",
      "100%|██████████| 1/1 [00:00<00:00, 1003.42it/s]\n",
      "100%|██████████| 1/1 [00:00<00:00, 999.83it/s]\n"
     ]
    },
    {
     "name": "stdout",
     "output_type": "stream",
     "text": [
      "Mycobacterium dioxanotrophicus 2\n"
     ]
    },
    {
     "name": "stderr",
     "output_type": "stream",
     "text": [
      "100%|██████████| 1/1 [00:00<00:00,  9.85it/s]\n",
      "100%|██████████| 1/1 [00:00<?, ?it/s]\n"
     ]
    },
    {
     "name": "stdout",
     "output_type": "stream",
     "text": [
      "Mycobacterium marseillense 6\n"
     ]
    },
    {
     "name": "stderr",
     "output_type": "stream",
     "text": [
      "100%|██████████| 1/1 [00:00<00:00, 11.84it/s]\n"
     ]
    },
    {
     "name": "stdout",
     "output_type": "stream",
     "text": [
      "Mycolicibacter sinensis 57\n"
     ]
    },
    {
     "name": "stderr",
     "output_type": "stream",
     "text": [
      "100%|██████████| 1/1 [00:00<00:00, 11.11it/s]\n"
     ]
    },
    {
     "name": "stdout",
     "output_type": "stream",
     "text": [
      "Mycobacterium canettii CIPT 140010059 86\n"
     ]
    },
    {
     "name": "stderr",
     "output_type": "stream",
     "text": [
      "100%|██████████| 1/1 [00:00<00:00, 13.22it/s]\n"
     ]
    },
    {
     "name": "stdout",
     "output_type": "stream",
     "text": [
      "Mycobacterium haemophilum DSM 44634 0\n"
     ]
    },
    {
     "name": "stderr",
     "output_type": "stream",
     "text": [
      "100%|██████████| 1/1 [00:00<00:00,  9.57it/s]\n",
      "100%|██████████| 1/1 [00:00<00:00, 499.62it/s]\n"
     ]
    },
    {
     "name": "stdout",
     "output_type": "stream",
     "text": [
      "Mycobacterium marinum E11 1\n"
     ]
    },
    {
     "name": "stderr",
     "output_type": "stream",
     "text": [
      "100%|██████████| 1/1 [00:00<00:00, 15.74it/s]\n"
     ]
    },
    {
     "name": "stdout",
     "output_type": "stream",
     "text": [
      "Mycobacterium lepromatosis 0\n"
     ]
    },
    {
     "name": "stderr",
     "output_type": "stream",
     "text": [
      "100%|██████████| 1/1 [00:00<00:00,  7.63it/s]\n"
     ]
    },
    {
     "name": "stdout",
     "output_type": "stream",
     "text": [
      "Mycolicibacterium fortuitum 9\n"
     ]
    },
    {
     "name": "stderr",
     "output_type": "stream",
     "text": [
      "100%|██████████| 1/1 [00:00<00:00, 11.75it/s]\n"
     ]
    },
    {
     "name": "stdout",
     "output_type": "stream",
     "text": [
      "Mycobacteroides saopaulense 8\n"
     ]
    },
    {
     "name": "stderr",
     "output_type": "stream",
     "text": [
      "100%|██████████| 1/1 [00:00<00:00, 10.43it/s]\n"
     ]
    },
    {
     "name": "stdout",
     "output_type": "stream",
     "text": [
      "Mycolicibacterium vanbaalenii PYR-1 1\n"
     ]
    },
    {
     "name": "stderr",
     "output_type": "stream",
     "text": [
      "100%|██████████| 1/1 [00:00<00:00, 10.16it/s]\n",
      "100%|██████████| 1/1 [00:00<00:00, 497.96it/s]\n"
     ]
    },
    {
     "name": "stdout",
     "output_type": "stream",
     "text": [
      "Mycobacterium kansasii ATCC 12478 9\n"
     ]
    },
    {
     "name": "stderr",
     "output_type": "stream",
     "text": [
      "100%|██████████| 1/1 [00:00<00:00, 10.03it/s]\n",
      "100%|██████████| 1/1 [00:00<00:00, 503.16it/s]\n",
      "100%|██████████| 1/1 [00:00<?, ?it/s]\n"
     ]
    },
    {
     "name": "stdout",
     "output_type": "stream",
     "text": [
      "Mycolicibacterium gilvum Spyr1 0\n"
     ]
    }
   ],
   "source": [
    "hit_info = []\n",
    "for dir in util.list_dirs(mycobacteria_seq_dir):\n",
    "#for dir in [tb_annotation_dirname]: \n",
    "    if os.path.exists(mycobacteria_seq_dir + '/' + dir + '/genomic.gbff'):\n",
    "        temp_fimo_hit_positions = []\n",
    "        for genome_record in (SeqIO.parse(mycobacteria_seq_dir + '/' + dir + '/genomic.gbff', \"genbank\")):\n",
    "            organism_name = genome_record.annotations['organism']\n",
    "            full_sequence = str(genome_record.seq)\n",
    "            util.produce_fasta_file([['temp', full_sequence]], project_dir + '/MEME_Output/temp_seq')\n",
    "            run_fimo(project_dir + '/MEME_Output/meme.txt', project_dir + '/MEME_Output/temp_seq' , project_dir + '/Temp_FIMO_Output')\n",
    "            temp_fimo_hits = pd.read_csv(project_dir + '/Temp_FIMO_Output/fimo.tsv', sep='\\t')\n",
    "            for i, r in temp_fimo_hits.iterrows():\n",
    "                if '#' in r['motif_id']:\n",
    "                    continue\n",
    "                if r['motif_alt_id'] == 'MEME-1' and float(r['q-value']) < 1e-7:\n",
    "                    temp_fimo_hit_positions.append((int(r['start']), int(r['stop']), float(r['q-value']), r['motif_alt_id'],r['matched_sequence']))\n",
    "        temp_fimo_hit_positions.sort(key = lambda x : x[2])\n",
    "        hit_info.append([organism_name.replace(' ','_'), 'Num_hits', len(temp_fimo_hit_positions)]\n",
    "        print(organism_name.replace(' ','_'), len(temp_fimo_hit_positions))"
   ]
  },
  {
   "cell_type": "code",
   "execution_count": 108,
   "id": "8f3724ae-966b-46aa-ab67-e93851cb8192",
   "metadata": {},
   "outputs": [],
   "source": [
    "mycobacteria_dirs = []\n",
    "for dir in util.list_dirs(mycobacteria_seq_dir):\n",
    "    if os.path.exists(mycobacteria_seq_dir + '/' + dir + '/genomic.gbff'):\n",
    "        mycobacteria_dirs.append(dir)"
   ]
  },
  {
   "cell_type": "code",
   "execution_count": 81,
   "id": "efa4bb09-bc2d-4dd0-b11f-64668e134175",
   "metadata": {},
   "outputs": [],
   "source": [
    "tb_mycobacteria_rbh = pd.read_csv(project_dir + '/tb_mycobacteria_reciprocal_best_hits.csv')"
   ]
  },
  {
   "cell_type": "code",
   "execution_count": 104,
   "id": "293670e3-924c-42c7-a939-97fb65696500",
   "metadata": {},
   "outputs": [],
   "source": [
    "max_len = len(tb_mycobacteria_rbh['target_species_name'].unique())"
   ]
  },
  {
   "cell_type": "code",
   "execution_count": 106,
   "id": "7ae63ded-7e41-4437-9069-1fc771ab8a57",
   "metadata": {},
   "outputs": [],
   "source": [
    "full_ortholog_refs = []\n",
    "temp = tb_mycobacteria_rbh.groupby('query_ref').agg({'target_ref': \"count\", 'percent_identical_matches': \"min\"}).reset_index()\n",
    "temp = temp.query('target_ref == @max_len and percent_identical_matches > 85')\n",
    "for i, r in temp.iterrows():\n",
    "    full_ortholog_refs.append(r['query_ref'])"
   ]
  },
  {
   "cell_type": "code",
   "execution_count": 110,
   "id": "6a2f29d1-311f-41f8-aec4-10d742a249e1",
   "metadata": {},
   "outputs": [],
   "source": [
    "def generate_protein_dataset(num_subsets, subset_num, dir_list, seqdir): \n",
    "    sequence_dirs = util.chunk_list(dir_list, num_subsets, subset_num)\n",
    "    all_cds = []\n",
    "    all_tb_cds = []\n",
    "    names = []\n",
    "    sequences = []\n",
    "    locations = []\n",
    "    for dirname in (sequence_dirs):\n",
    "        for genome_record in SeqIO.parse(seqdir + '/' + dirname + '/genomic.gbff', \"genbank\"):\n",
    "            accession_ver = genome_record.annotations['accessions'][0] + '.' + str(genome_record.annotations['sequence_version'])\n",
    "            names.append([accession_ver, genome_record.annotations['organism']])\n",
    "            full_sequence = str(genome_record.seq)\n",
    "            sequences.append([accession_ver, full_sequence])\n",
    "            for feature in genome_record.features:\n",
    "                a = feature.qualifiers\n",
    "                if feature.type == 'CDS' and a.get(\"translation\") != None and a.get(\"locus_tag\") != None:\n",
    "                    locus_tag = a.get(\"locus_tag\")[0]\n",
    "                    accession_locus = accession_ver + '@' + locus_tag\n",
    "                    translation = a.get(\"translation\")[0]\n",
    "                    (start, stop, strand) = (int(feature.location.start), int(feature.location.end), int(feature.location.strand))\n",
    "                    locations.append([accession_locus, (start, stop, strand)])\n",
    "                    all_cds.append([accession_locus, translation])\n",
    "                   \n",
    "    return (all_cds, names, locations, sequences)           "
   ]
  },
  {
   "cell_type": "code",
   "execution_count": 115,
   "id": "4b870157-c0aa-499e-a1e9-2fed6b97592a",
   "metadata": {},
   "outputs": [],
   "source": [
    "full_build = True\n",
    "if full_build == True:\n",
    "    parallel_output = Parallel(n_jobs=-1)(delayed(generate_protein_dataset)(num_cores, core_number, mycobacteria_dirs, mycobacteria_seq_dir) for core_number in core_numbers)\n",
    "    names_dict = {}\n",
    "    locations_dict = {}\n",
    "    sequence_dict = {}\n",
    "    protein_dict = {}\n",
    "    for x in parallel_output:\n",
    "        for temp in x[0]:\n",
    "            protein_dict[temp[0]] = temp[1]\n",
    "        for temp in x[1]:\n",
    "            names_dict[temp[0]] = temp[1]\n",
    "        for temp in x[2]:\n",
    "            locations_dict[temp[0]] = temp[1]\n",
    "        for temp in x[3]:\n",
    "            sequence_dict[temp[0]] = temp[1]\n"
   ]
  },
  {
   "cell_type": "code",
   "execution_count": null,
   "id": "3ef5d679-1c5b-4600-886a-a393f4e1cb98",
   "metadata": {},
   "outputs": [],
   "source": [
    "concatenated_alignment_dict = {}\n",
    "for ref in tqdm(full_ortholog_refs):\n",
    "    temp_seq = []\n",
    "    temp = tb_mycobacteria_rbh[tb_mycobacteria_rbh['query_ref'] == ref]\n",
    "    for i, r in temp.iterrows():\n",
    "        temp_seq.append([r['target_species_name'].replace(' ','_'),protein_dict[r['target_ref']]])\n",
    "    util.produce_fasta_file(temp_seq, project_dir +'/temp_seq.fasta')    \n",
    "    cline = MuscleCommandline(muscle_exe, input= project_dir +'/temp_seq.fasta', out=project_dir +'/temp_seq_alignment.fasta')\n",
    "    result = cline();    \n",
    "    alignment = util.read_fasta_to_array(project_dir +'/temp_seq_alignment.fasta')    \n",
    "    for (name, sequence) in zip(alignment[0], alignment[1]):\n",
    "        if name in concatenated_alignment_dict:\n",
    "            temp2 = concatenated_alignment_dict[name]\n",
    "            concatenated_alignment_dict[name] = temp2 + sequence\n",
    "        else:\n",
    "            concatenated_alignment_dict[name] = sequence\n",
    "temp  = []\n",
    "for k, v in concatenated_alignment_dict.items():\n",
    "    temp.append([k, v])\n",
    "util.produce_fasta_file(temp, project_dir + '/concatenated_alignment.fasta')"
   ]
  },
  {
   "cell_type": "code",
   "execution_count": 116,
   "id": "26f60d13-4b28-4458-9ec8-29f2a8a399a0",
   "metadata": {},
   "outputs": [
    {
     "data": {
      "text/plain": [
       "54"
      ]
     },
     "execution_count": 116,
     "metadata": {},
     "output_type": "execute_result"
    }
   ],
   "source": []
  },
  {
   "cell_type": "code",
   "execution_count": null,
   "id": "113b1cd4-1b1e-430d-88b6-6825ab2d72de",
   "metadata": {},
   "outputs": [],
   "source": []
  }
 ],
 "metadata": {
  "kernelspec": {
   "display_name": "Python 3 (ipykernel)",
   "language": "python",
   "name": "python3"
  },
  "language_info": {
   "codemirror_mode": {
    "name": "ipython",
    "version": 3
   },
   "file_extension": ".py",
   "mimetype": "text/x-python",
   "name": "python",
   "nbconvert_exporter": "python",
   "pygments_lexer": "ipython3",
   "version": "3.9.7"
  }
 },
 "nbformat": 4,
 "nbformat_minor": 5
}
