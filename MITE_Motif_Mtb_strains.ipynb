{
 "cells": [
  {
   "cell_type": "markdown",
   "id": "b1e30ed4-8a0e-4a6f-96eb-dfe116dfb2de",
   "metadata": {},
   "source": [
    "#### Import packages, set directories and parameters"
   ]
  },
  {
   "cell_type": "code",
   "execution_count": 2,
   "id": "cf9c6377-5080-4c22-94db-feabe17cc47c",
   "metadata": {},
   "outputs": [],
   "source": [
    "import pandas as pd\n",
    "import pickle\n",
    "import seaborn as sns\n",
    "import matplotlib.pyplot as plt\n",
    "import numpy as np\n",
    "import shutil\n",
    "from Bio import Entrez, SeqIO, AlignIO, pairwise2, Align, Seq, motifs\n",
    "from Bio.Seq import Seq\n",
    "from Bio.SeqFeature import SeqFeature, FeatureLocation\n",
    "import math\n",
    "from tqdm import tqdm\n",
    "from Comparative_Analysis import Utilities as util\n",
    "from joblib import Parallel, delayed\n",
    "from Comparative_Analysis import Blast_Functions as blastfn\n",
    "import time\n",
    "import os\n",
    "import copy\n",
    "import collections\n",
    "from scipy.stats import chi2, binom\n",
    "from Comparative_Analysis import Alignment as alignfn\n",
    "from Bio.Align.Applications import MuscleCommandline\n",
    "import subprocess\n",
    "pd.options.mode.chained_assignment = None  # default='warn'"
   ]
  },
  {
   "cell_type": "code",
   "execution_count": 3,
   "id": "79c1ca3d-a68f-4a9d-a5c4-25df7385b3ad",
   "metadata": {},
   "outputs": [],
   "source": [
    "project_dir = 'F:/Project_Data/mabR_Project/MTBC_Strains'\n",
    "seq_dir = 'F:/Datasets/Other_Genomes/MTBC_Strains'\n",
    "motif_loc = 'F:/Project_Data/mabR_Project/Second_MEME_Upstream_Output/meme.txt'\n",
    "full_run = True\n",
    "muscle_exe = 'C:/Users/nicho/Muscle/muscle3.8.31_i86win32.exe'"
   ]
  },
  {
   "cell_type": "code",
   "execution_count": 4,
   "id": "15fee234-3cb3-425f-974f-fcdaeb25bfb7",
   "metadata": {},
   "outputs": [],
   "source": [
    "def reverse_complement(seq_string):\n",
    "    complement_dict = {'A':'T','C':'G','G':'C','T':'A'}    # Note S\n",
    "    temp = []\n",
    "    for char in reversed(seq_string):\n",
    "        if char in complement_dict:\n",
    "            temp.append(complement_dict[char])\n",
    "        else:\n",
    "            temp.append('A')\n",
    "    return ''.join(temp)"
   ]
  },
  {
   "cell_type": "code",
   "execution_count": null,
   "id": "42e1c6ce-c97a-457a-b47c-10cd35168c69",
   "metadata": {},
   "outputs": [],
   "source": [
    "tbc_seq_dict = {}\n",
    "tbc_name_dict = {}\n",
    "tbc_species_dirs = util.list_dirs(seq_dir)\n",
    "species_name_dict = {}\n",
    "accession_dict = {}\n",
    "for n, sdir in tqdm(enumerate(tbc_species_dirs)):\n",
    "    fname = util.list_files(seq_dir + '/' + sdir)[0]\n",
    "    fasta_file = util.read_fasta_to_array(seq_dir + '/' + sdir + '/' + fname)\n",
    "    if len(fasta_file[1][0]) <4000000:\n",
    "        print(fname)\n",
    "        continue\n",
    "    species_name_dict['MTB'+str(n)] = fasta_file[0][0]\n",
    "    tbc_seq_dict['MTB'+str(n)] = fasta_file[1][0]\n",
    "    accession_dict['MTB'+str(n)] = fname[:-11]"
   ]
  },
  {
   "cell_type": "code",
   "execution_count": null,
   "id": "04629dfb-67d1-494d-8ad8-b47d1c7a25ce",
   "metadata": {},
   "outputs": [],
   "source": [
    "species_sname_dict = {}\n",
    "for k, v in species_name_dict.items():\n",
    "    temp = v.replace(',','').split(' ')\n",
    "    temp = [x for x in temp if not(x in ['Mycobacterium', 'tuberculosis', 'complete', 'sequence','chromosome', 'genome', 'chromosome'])]\n",
    "    species_sname_dict[k] = ' '.join(temp).replace(' ','_')"
   ]
  },
  {
   "cell_type": "code",
   "execution_count": null,
   "id": "63f58a21-4009-4b7e-b289-7766b64797b1",
   "metadata": {},
   "outputs": [],
   "source": [
    "util.produce_fasta_file([[k,v] for k, v in tbc_seq_dict.items()], project_dir + '/tbc_sequences.faa')"
   ]
  },
  {
   "cell_type": "code",
   "execution_count": null,
   "id": "53c0fe66-0118-427f-b2e4-d74f419e8f1f",
   "metadata": {},
   "outputs": [],
   "source": [
    "blastfn.run_fimo(motif_loc, project_dir + '/tbc_sequences.faa' , project_dir + '/tbc_FIMO_Hits')"
   ]
  },
  {
   "cell_type": "code",
   "execution_count": null,
   "id": "82900c08-1aee-455e-8386-e4af5ea42fab",
   "metadata": {},
   "outputs": [],
   "source": [
    "tbc_fimo_hits_df = pd.read_csv(project_dir + '/tbc_FIMO_Hits/fimo.tsv', sep='\\t')"
   ]
  },
  {
   "cell_type": "code",
   "execution_count": null,
   "id": "78168be6-1adf-4417-a07d-77d6f8d17491",
   "metadata": {},
   "outputs": [],
   "source": [
    "temp = []\n",
    "for i, r in tbc_fimo_hits_df.iterrows():\n",
    "    if '#' in r['motif_id'] or not(r['motif_alt_id'] == 'MEME-1') or r['q-value'] > 1e-3:\n",
    "        continue\n",
    "    start = int(r['start'])-100\n",
    "    stop = int(r['stop'])+100\n",
    "    if r['strand'] == 1:\n",
    "        strand = '+'\n",
    "    else:\n",
    "        strand = '-'\n",
    "    temp.append([r['sequence_name']+'@'+str(start)+'_'+str(stop)+'_'+strand, tbc_seq_dict[r['sequence_name']][start:stop]])\n",
    "    tb_hits.append([r['sequence_name']+'@'+str(start)+'_'+str(stop)+'_'+strand, tbc_seq_dict[r['sequence_name']][start:stop]])\n",
    "util.produce_fasta_file(temp, project_dir + '/mtbc_fimo_hits.faa')\n",
    "print(len(temp))"
   ]
  },
  {
   "cell_type": "code",
   "execution_count": null,
   "id": "f5bd2212-6962-4b31-9240-4a7127cc7128",
   "metadata": {},
   "outputs": [],
   "source": [
    "if 1==0:\n",
    "    blastfn.build_blast_db(project_dir, 'tbc_sequences.faa', 'MTBC', project_dir + '/BLAST/MTBC', 'nucl')\n",
    "    shutil.copy(project_dir + '/mtbc_fimo_hits.faa', project_dir + '/BLAST/MTBC/mtbc_fimo_hits.faa')\n",
    "    blastfn.run_blastn(project_dir + '/BLAST/MTBC', 'mtbc_fimo_hits.faa', 'MTBC', 'motif_mtbc_blast_hits.csv', e_value = 1e-1)"
   ]
  },
  {
   "cell_type": "code",
   "execution_count": null,
   "id": "0c20803d-3cfa-4d69-8555-412b04321994",
   "metadata": {},
   "outputs": [],
   "source": [
    "blast_results_df = pd.read_csv(project_dir + '/BLAST/MTBC/motif_mtbc_blast_hits.csv', header = None)\n",
    "\n",
    "blast_results_df.columns = ['query_ref', 'target_ref', 'query_length', 'subject_length', 'percent_identical_matches','alignment_length', 'number_mismatches', 'number_of_gap_openings', \n",
    "                         'query_start_alignment', 'query_end_alignment', 'target_start_alignment', 'target_end_alignment', 'e_value', 'bit_score']\n",
    "for i, r in blast_results_df.iterrows():\n",
    "    blast_results_df.at[i, 'query_organism'] = r['query_ref'].split('@')[0]\n",
    "    blast_results_df.at[i, 'target_organism'] = r['target_ref']\n",
    "\n",
    "blast_results_df = blast_results_df.loc[blast_results_df.groupby(['query_ref','target_organism'])['bit_score'].idxmax()]\n",
    "for i, r in blast_results_df.iterrows():\n",
    "    target_ref = r['target_ref'].split('@')[0]\n",
    "    query_ref = r['query_ref'].split('@')[0]\n",
    "    temp = r['query_ref'].split('@')[1].split('_')\n",
    "    query_start = int(temp[0])\n",
    "    query_end = int(temp[1])\n",
    "    target_start_alignment = int(r['target_start_alignment'])\n",
    "    target_end_alignment = int(r['target_end_alignment'])\n",
    "    query_start_alignment = int(r['query_start_alignment'])\n",
    "    query_end_alignment = int(r['query_end_alignment'])\n",
    "    \n",
    "    if target_start_alignment < target_end_alignment:\n",
    "        target_sense = 1\n",
    "        full_target_alignment_start = target_start_alignment - query_start_alignment \n",
    "        full_target_alignment_end = full_target_alignment_start + 221\n",
    "    else:\n",
    "        target_sense = -1\n",
    "        full_target_alignment_end = target_start_alignment + query_start_alignment \n",
    "        full_target_alignment_start = full_target_alignment_end - 221\n",
    "    \n",
    "    \n",
    "    blast_results_df.at[i, 'full_target_alignment_start'] =  full_target_alignment_start\n",
    "    blast_results_df.at[i, 'full_target_alignment_end'] =  full_target_alignment_end\n",
    "    blast_results_df.at[i, 'full_query_sequence'] =  tbc_seq_dict[query_ref][query_start:query_end]\n",
    "    if target_sense == 1:\n",
    "        blast_results_df.at[i, 'full_target_sequence'] =  tbc_seq_dict[target_ref][full_target_alignment_start: full_target_alignment_end]\n",
    "        blast_results_df.at[i, 'full_target_sequence_ref'] = target_ref + '_'+ str(full_target_alignment_start) + '_' + str(full_target_alignment_end)\n",
    "    else:\n",
    "        blast_results_df.at[i, 'full_target_sequence'] =  reverse_complement(tbc_seq_dict[target_ref][full_target_alignment_start: full_target_alignment_end])\n",
    "        blast_results_df.at[i, 'full_target_sequence_ref'] = target_ref + '_'+ str(full_target_alignment_end) + '_' + str(full_target_alignment_start)\n"
   ]
  },
  {
   "cell_type": "code",
   "execution_count": null,
   "id": "1f16b806-4dd0-459e-be65-dbc20ff9577e",
   "metadata": {},
   "outputs": [],
   "source": [
    "blast_results_df.to_csv(project_dir + '/processed_blast_results.csv')"
   ]
  },
  {
   "cell_type": "code",
   "execution_count": null,
   "id": "a169991e-3b6f-4cba-9659-b60cbb41e51a",
   "metadata": {},
   "outputs": [],
   "source": [
    "query_refs = list(blast_results_df['query_ref'].unique())\n",
    "temp_df = blast_results_df\n",
    "distinct_clusters = []\n",
    "regions_considered = []\n",
    "for query_ref in tqdm(query_refs):\n",
    "#for i, r in temp_df.iterrows():\n",
    "    temp_df_2 = temp_df[temp_df['query_ref'] == query_ref]\n",
    "    temp_df_3 = temp_df_2.head(1)\n",
    "    matched = 0\n",
    "    for j, s in temp_df_3.iterrows():\n",
    "        if matched == 1:\n",
    "            break\n",
    "        for (species, start, stop) in regions_considered:\n",
    "            if matched ==1:\n",
    "                break\n",
    "            if s['target_ref'] == species and s['full_target_alignment_start'] < stop and s['full_target_alignment_end'] > start:\n",
    "                matched = 1\n",
    "                break\n",
    "    if matched == 0:\n",
    "        distinct_clusters.append(query_ref)\n",
    "        for j, s in temp_df_2.iterrows():\n",
    "            regions_considered.append((s['target_ref'], s['full_target_alignment_start'], s['full_target_alignment_end'])) "
   ]
  },
  {
   "cell_type": "code",
   "execution_count": null,
   "id": "4d22a2f6-7604-4df9-8e87-70ce72ef54d2",
   "metadata": {},
   "outputs": [],
   "source": [
    "with open(project_dir + '/distinct_clusters.pkl', 'wb') as f:\n",
    "    pickle.dump(distinct_clusters, f)    "
   ]
  },
  {
   "cell_type": "code",
   "execution_count": null,
   "id": "c7bf5190-985d-4053-91af-62e11584037f",
   "metadata": {},
   "outputs": [],
   "source": [
    "for ref in distinct_clusters:\n",
    "    region_of_interest = blast_results_df.query('query_ref == @ref')\n",
    "    temp = []\n",
    "    for i, r in region_of_interest.iterrows():\n",
    "        temp.append([species_sname_dict[r['target_ref']],r['full_target_sequence']])\n",
    "        #temp.append([r['full_target_sequence_ref'],r['full_target_sequence']])\n",
    "    util.produce_fasta_file(temp, project_dir + '/Regions_of_Interest_SName/' + ref + '.faa')\n",
    "    cline = MuscleCommandline(muscle_exe, input= project_dir + '/Regions_of_Interest_SName/' + ref + '.faa', out = project_dir + '/Regions_of_Interest_SName/' + ref + '_aligned.fasta')\n",
    "    stdout, stderr = cline()"
   ]
  },
  {
   "cell_type": "code",
   "execution_count": null,
   "id": "fa6ff5f1-7ad3-40f2-bdb8-0490a51f46a6",
   "metadata": {},
   "outputs": [],
   "source": [
    "temp = [] \n",
    "for ref in distinct_clusters:\n",
    "    region_of_interest = blast_results_df.query('query_ref == @ref')\n",
    "    ct = 0\n",
    "    ct_incomplete = 0\n",
    "    st = 0\n",
    "    stop = 0\n",
    "    for i, r in region_of_interest.iterrows():\n",
    "        if r['alignment_length'] < 200:\n",
    "             ct_incomplete +=1\n",
    "        if r['target_ref'] == 'MTB13':\n",
    "            st = r['full_target_alignment_start']\n",
    "            stop = r['full_target_alignment_end']\n",
    "        ct +=1\n",
    "    pct_incomplete = ct_incomplete/ct * 100\n",
    "    print(ref, pct_incomplete, len(region_of_interest), st, stop)\n",
    "    if not(pct_incomplete == 0):\n",
    "        temp.append([ref, pct_incomplete, len(region_of_interest), st, stop])\n",
    "\n",
    "pd.DataFrame(temp, columns = ['reference', 'pct_incomplete', 'alignment_length', 'H37Rv_start', 'H37Rv_stop']).to_csv(project_dir + '/insertion_alignments.csv')"
   ]
  },
  {
   "cell_type": "code",
   "execution_count": 5,
   "id": "bb856440-f441-434f-9685-c5efe7530cbd",
   "metadata": {},
   "outputs": [],
   "source": [
    "genome_record = next(SeqIO.parse('F:/Datasets/NCBI_Refseq_Mycobacteriaceae_All_Levels/ncbi_dataset/data/GCF_000195955.2/genomic.gbff', \"genbank\"))\n",
    "H37Rv_sequence = str(genome_record.seq)"
   ]
  },
  {
   "cell_type": "code",
   "execution_count": 6,
   "id": "5bcdd2fb-dc2a-4afb-8700-790c8eff4759",
   "metadata": {},
   "outputs": [
    {
     "data": {
      "text/plain": [
       "'CGACACAACCACCCACAGATCAGTCAGTAGAGCCCGAAATGGGGGCTTTTGCGTCTGCTGACCAGTGCGTCACATACTACGGCGGCGCGCGCGCGGCGAC'"
      ]
     },
     "execution_count": 6,
     "metadata": {},
     "output_type": "execute_result"
    }
   ],
   "source": [
    "reverse_complement(H37Rv_sequence[1468100:1468200])"
   ]
  },
  {
   "cell_type": "code",
   "execution_count": null,
   "id": "705f936b-884f-45c2-9d9b-280bff7003ba",
   "metadata": {},
   "outputs": [],
   "source": [
    "reverse_complement(H37Rv_sequence[1469594:1469694])"
   ]
  },
  {
   "cell_type": "code",
   "execution_count": null,
   "id": "124ec570-299f-4331-9779-a92affc4dfb9",
   "metadata": {},
   "outputs": [],
   "source": []
  }
 ],
 "metadata": {
  "kernelspec": {
   "display_name": "Python 3 (ipykernel)",
   "language": "python",
   "name": "python3"
  },
  "language_info": {
   "codemirror_mode": {
    "name": "ipython",
    "version": 3
   },
   "file_extension": ".py",
   "mimetype": "text/x-python",
   "name": "python",
   "nbconvert_exporter": "python",
   "pygments_lexer": "ipython3",
   "version": "3.9.7"
  }
 },
 "nbformat": 4,
 "nbformat_minor": 5
}
