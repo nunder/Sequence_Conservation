{
 "cells": [
  {
   "cell_type": "markdown",
   "id": "b1e30ed4-8a0e-4a6f-96eb-dfe116dfb2de",
   "metadata": {},
   "source": [
    "#### Directories etc"
   ]
  },
  {
   "cell_type": "code",
   "execution_count": 1,
   "id": "cf9c6377-5080-4c22-94db-feabe17cc47c",
   "metadata": {},
   "outputs": [
    {
     "name": "stderr",
     "output_type": "stream",
     "text": [
      "C:\\Users\\nicho\\Anaconda3\\envs\\Bioinformatics\\lib\\site-packages\\ete3-3.1.2-py3.7.egg\\ete3\\evol\\parser\\codemlparser.py:221: SyntaxWarning: \"is\" with a literal. Did you mean \"==\"?\n",
      "C:\\Users\\nicho\\Anaconda3\\envs\\Bioinformatics\\lib\\site-packages\\ete3-3.1.2-py3.7.egg\\ete3\\evol\\parser\\codemlparser.py:221: SyntaxWarning: \"is\" with a literal. Did you mean \"==\"?\n"
     ]
    }
   ],
   "source": [
    "import pandas as pd\n",
    "import pickle\n",
    "import seaborn as sns\n",
    "import matplotlib.pyplot as plt\n",
    "import numpy as np\n",
    "from scipy.fft import fft, fftfreq\n",
    "from Bio import Entrez, SeqIO, AlignIO, pairwise2, Align, Seq, motifs\n",
    "from Bio.Seq import Seq\n",
    "from Bio.SeqFeature import SeqFeature, FeatureLocation\n",
    "from scipy.stats import binom\n",
    "import math\n",
    "import random\n",
    "from tqdm import tqdm\n",
    "from Comparative_Analysis import Utilities as util\n",
    "from collections import defaultdict\n",
    "import random\n",
    "from joblib import Parallel, delayed\n",
    "from Comparative_Analysis import Blast_Functions as blastfn\n",
    "import time\n",
    "import os\n",
    "import copy\n",
    "from Comparative_Analysis import ORF_Functions as orffn\n",
    "from random import sample\n",
    "pd.options.mode.chained_assignment = None  # default='warn'\n",
    "import ete3;"
   ]
  },
  {
   "cell_type": "code",
   "execution_count": 136,
   "id": "1988a242-f558-4643-b3a9-27272fa7bebc",
   "metadata": {},
   "outputs": [],
   "source": [
    "project_dir = 'F:/Project_Data/Project_11'\n",
    "seq_dir = 'F:/Datasets/Actinobacteria_Ref_Rep_Lev_Complete'\n",
    "dictionary_dir = 'F:/Datasets/CRYPTIC_DATA/Cryptic_Dictionaries'\n",
    "tb_species = 'NC_000962.3' \n",
    "tb_genome_filename = 'GCF_000195955.2_ASM19595v2_genomic.gbff'\n",
    "mycobrowser_dir = 'F:/Datasets/Data_From_Publications'\n",
    "num_cores = 16\n",
    "core_numbers = list(range(1, num_cores+1))"
   ]
  },
  {
   "cell_type": "code",
   "execution_count": 138,
   "id": "dfaa6a24-c7b3-4342-aad9-c1550a97b893",
   "metadata": {},
   "outputs": [],
   "source": [
    "with open(project_dir + '/Mutation_Counts/zero_and_non_zero_mutation_counts.pkl', 'rb') as f:\n",
    "        zero_and_non_zero_mutation_counts = pickle.load(f) "
   ]
  },
  {
   "cell_type": "code",
   "execution_count": 162,
   "id": "8d785c84-dd9a-48b9-b57f-faabcd506cc0",
   "metadata": {},
   "outputs": [],
   "source": [
    "def bin_formula(position_3_counts, tot_bin_counts):\n",
    "    return 1- binom.cdf(position_3_counts-1, tot_bin_counts,1/3)\n",
    "def mutation_bin_probability(mutation_counts):\n",
    "    bin_counts = [0,0,0]\n",
    "    for i, c in enumerate(mutation_counts):\n",
    "        bin_counts[i % 3] += min(c,16000000)\n",
    "    if sum(bin_counts) == 0:\n",
    "        return (bin_counts, 2)\n",
    "    else:\n",
    "        return (bin_counts, bin_formula(bin_counts[2], sum(bin_counts)))  "
   ]
  },
  {
   "cell_type": "code",
   "execution_count": 3,
   "id": "34587ff5-2a33-4e49-8f48-9f1c1938f25c",
   "metadata": {},
   "outputs": [],
   "source": [
    "for record in SeqIO.parse(seq_dir + '/' + tb_genome_filename, \"genbank\"):\n",
    "    full_sequence = str(record.seq)"
   ]
  },
  {
   "cell_type": "code",
   "execution_count": 4,
   "id": "ef9da2b4-26ab-4150-90e6-99fc3b388cf3",
   "metadata": {},
   "outputs": [],
   "source": [
    "with open(project_dir + '/variant_dict.pkl', 'rb') as f:\n",
    "        variant_dict = pickle.load(f)  "
   ]
  },
  {
   "cell_type": "code",
   "execution_count": 5,
   "id": "61f4ff68-e620-4546-9902-f22adefd326f",
   "metadata": {},
   "outputs": [],
   "source": [
    "with open(project_dir + '/gpi_variant_df.pkl', 'rb') as f:\n",
    "        variant_df = pickle.load(f) "
   ]
  },
  {
   "cell_type": "code",
   "execution_count": 6,
   "id": "79a27a3c-8aed-4f53-b285-7a73ee5f9957",
   "metadata": {},
   "outputs": [],
   "source": [
    "with open(project_dir + '/Mutation_Counts/zero_and_non_zero_mutation_counts.pkl', 'rb') as f:\n",
    "    zero_and_non_zero_mutation_counts = pickle.load(f)     \n",
    "with open(project_dir + '/Mutation_Counts/all_mutation_counts.pkl', 'rb') as f:\n",
    "    all_mutation_counts = pickle.load(f)     "
   ]
  },
  {
   "cell_type": "code",
   "execution_count": 7,
   "id": "ce7fc2c6-5a84-479a-80a5-49da8e879b47",
   "metadata": {},
   "outputs": [],
   "source": [
    "with open(project_dir + '/position_dict.pkl', 'rb') as f:\n",
    "        position_dict = pickle.load(f)  \n",
    "with open(project_dir + '/id_pos_dict.pkl', 'rb') as f:\n",
    "        id_pos_dict = pickle.load(f)  \n",
    "with open(project_dir + '/pos_id_dict.pkl', 'rb') as f:\n",
    "        pos_id_dict = pickle.load(f)  \n",
    "with open(project_dir + '/id_dict.pkl', 'rb') as f:\n",
    "        id_dict = pickle.load(f)  "
   ]
  },
  {
   "cell_type": "code",
   "execution_count": 44,
   "id": "a15c7aa9-98a6-4f9b-9872-c767bba2c577",
   "metadata": {},
   "outputs": [],
   "source": [
    "id_reverse_dict = {}\n",
    "for k, v in id_dict.items():\n",
    "    id_reverse_dict[v] = k"
   ]
  },
  {
   "cell_type": "code",
   "execution_count": 45,
   "id": "6c57bf72-32b6-455f-a06b-c2496ff403f0",
   "metadata": {},
   "outputs": [
    {
     "name": "stderr",
     "output_type": "stream",
     "text": [
      "C:\\Users\\nicho\\AppData\\Local\\Temp/ipykernel_28652/1901989109.py:1: DtypeWarning: Columns (1,3,13,14,15,27,36) have mixed types. Specify dtype option on import or set low_memory=False.\n",
      "  genomes_df = pd.read_csv('F:/Project_Data/Project_11/Datasets/GENOMES.csv')\n"
     ]
    }
   ],
   "source": [
    "genomes_df = pd.read_csv('F:/Project_Data/Project_11/Datasets/GENOMES.csv')\n",
    "lineage_dict = {}\n",
    "for i,r in genomes_df.iterrows():\n",
    "    lineage_dict[r['UNIQUEID']] = r['MYKROBE_LINEAGE_NAME_2'] "
   ]
  },
  {
   "cell_type": "code",
   "execution_count": 11,
   "id": "c9894e9f-eb09-4c3e-884a-a6f988e21451",
   "metadata": {},
   "outputs": [],
   "source": [
    "with open(project_dir + '/Dictionaries/variant_dictionary_364848_365376_.pkl', 'rb') as f:\n",
    "        var_dict = pickle.load(f)  \n",
    "with open(project_dir + '/Mutation_Counts/mutation_counts_364848_365376_.pkl', 'rb') as f:\n",
    "        mutation_counts = pickle.load(f)  \n",
    "temp_dict = {}\n",
    "for k, v in var_dict.items():\n",
    "    if not(v[pos_id_dict[3186859] - 364848] =={'T'}):\n",
    "        temp_dict[k] =list(v[pos_id_dict[3186859] - 364848])[0]"
   ]
  },
  {
   "cell_type": "code",
   "execution_count": 82,
   "id": "11d19a62-c410-49ed-bf20-89e93c489966",
   "metadata": {},
   "outputs": [],
   "source": [
    "with open(project_dir + '/Dictionaries/variant_dictionary_331584_332112_.pkl', 'rb') as f:\n",
    "        var_dict = pickle.load(f)  \n",
    "with open(project_dir + '/Mutation_Counts/mutation_counts_331584_332112_.pkl', 'rb') as f:\n",
    "        mutation_counts = pickle.load(f)  \n",
    "temp_dict = {}\n",
    "for k, v in var_dict.items():\n",
    "    if not(v[pos_id_dict[2878549] - 331584] =={'G'}):\n",
    "        temp_dict[k] =list(v[pos_id_dict[2878549] - 331584])[0]"
   ]
  },
  {
   "cell_type": "code",
   "execution_count": 173,
   "id": "4bcc1595-aba3-41c2-9177-ad1218f1df52",
   "metadata": {},
   "outputs": [],
   "source": [
    "tb_tree_filename = 'tb_gpi.nwk'\n",
    "master_tree2= ete3.Tree(project_dir + '/' + tb_tree_filename)\n",
    "for node in master_tree2.traverse(\"postorder\"):\n",
    "    if node.is_leaf():\n",
    "        if node.name in temp_dict:\n",
    "            node.name = str(lineage_dict[id_reverse_dict[int(node.name.split('_')[1])]]) + '_'+temp_dict[(node.name)]\n",
    "            nstyle = ete3.NodeStyle()\n",
    "            nstyle[\"fgcolor\"] = \"red\"\n",
    "            nstyle[\"size\"] = 1\n",
    "            node.set_style(nstyle)\n",
    "        else:\n",
    "            node.name = str(lineage_dict[id_reverse_dict[int(node.name.split('_')[1])]])"
   ]
  },
  {
   "cell_type": "code",
   "execution_count": 176,
   "id": "b68aa472-9e58-41af-b406-3afe1242c22b",
   "metadata": {},
   "outputs": [],
   "source": [
    "ts = ete3.TreeStyle()\n",
    "ts.show_leaf_name = False\n",
    "ts.branch_vertical_margin = 2\n",
    "#ts.show_branch_length = True\n",
    "#ts.show_branch_support = True"
   ]
  },
  {
   "cell_type": "code",
   "execution_count": 181,
   "id": "647aba63-3233-4f72-b7ae-8fdd9c8c2df1",
   "metadata": {},
   "outputs": [],
   "source": [
    "master_tree2.render(project_dir+'/mytree.pdf', tree_style=ts);"
   ]
  },
  {
   "cell_type": "code",
   "execution_count": 64,
   "id": "01db77ea-2246-4db0-87a6-600fd50dd85c",
   "metadata": {},
   "outputs": [
    {
     "data": {
      "text/plain": [
       "15225"
      ]
     },
     "execution_count": 64,
     "metadata": {},
     "output_type": "execute_result"
    }
   ],
   "source": [
    "len(master_tree2)"
   ]
  },
  {
   "cell_type": "code",
   "execution_count": 71,
   "id": "642c603d-c72f-47a1-bd88-c0bdb755ba19",
   "metadata": {},
   "outputs": [
    {
     "name": "stdout",
     "output_type": "stream",
     "text": [
      "3916 t\n"
     ]
    }
   ],
   "source": [
    "for (k, v) in position_dict[342146][1:]:\n",
    "    if v == 't':\n",
    "        print(k, v)"
   ]
  },
  {
   "cell_type": "code",
   "execution_count": 93,
   "id": "f9893808-2ee4-481a-8af8-8d123a9a8422",
   "metadata": {},
   "outputs": [
    {
     "name": "stdout",
     "output_type": "stream",
     "text": [
      "21794 4191 10628 2287 0.21518630033872788 G g {'a'}\n",
      "132416 21183 5473 3156 0.5766490042024484 C c {'g'}\n",
      "206480 30838 5751 1508 0.2622152669101026 C c {'g'}\n",
      "206483 30839 5713 1506 0.2636093120952214 G g {'t'}\n",
      "223941 33250 11613 2169 0.18677344355463704 T t {'c'}\n",
      "340371 47814 6359 2208 0.3472244063532002 T t {'c'}\n",
      "454294 60256 6085 3542 0.5820870994248151 T t {'c'}\n",
      "459398 60855 12392 2001 0.16147514525500323 A a {'c'}\n",
      "761154 95377 4407 1361 0.30882686634899026 C c {'t', 'g', 'a'}\n",
      "837032 104010 7836 3084 0.39356814701378257 A a {'g'}\n",
      "969761 118667 4190 1598 0.38138424821002387 C c {'g'}\n",
      "1224366 147325 8469 3579 0.42260007084661705 T t {'c'}\n",
      "1313337 157208 4977 2853 0.5732368896925859 A a {'c'}\n",
      "1752560 205412 10337 2055 0.1988004256554126 T t {'c'}\n",
      "2045309 236628 11909 1560 0.13099336636157527 A a {'g'}\n",
      "2165285 251520 12703 1694 0.13335432574982287 A a {'c'}\n",
      "2311098 269132 9126 1179 0.1291913214990138 C c {'g'}\n",
      "2387732 278401 10372 2840 0.2738141149247975 T t {'c'}\n",
      "2415655 281552 12548 1470 0.11715014344915524 G g {'c'}\n",
      "2509139 291766 9525 3051 0.32031496062992126 G g {'c'}\n",
      "2737571 316842 9342 1008 0.10789980732177264 C c {'t', 'a'}\n",
      "3037376 348987 6930 2163 0.31212121212121213 T t {'c'}\n",
      "3177883 364026 12657 1957 0.15461799794580075 C c {'a'}\n",
      "3736627 424133 12663 1633 0.12895838268972598 T t {'g', 'a'}\n",
      "3851886 434374 2836 1716 0.6050775740479548 A a {'c'}\n",
      "3851887 434375 2836 1716 0.6050775740479548 T t {'c'}\n",
      "3942639 443542 3079 2099 0.6817148424813251 T t {'c'}\n",
      "4008746 450466 5478 2105 0.3842643300474626 A a {'g'}\n",
      "4037282 453690 7990 2815 0.3523153942428035 T t {'g'}\n",
      "3186859 365017 6575 3547 0.539467680608365 T t {'g'}\n",
      "1218657 146791 2014 1072 0.5322740814299901 G g {'c'}\n",
      "2155167 250245 6263 1488 0.2375858214912981 C c {'t', 'g', 'a'}\n",
      "71335 12958 3782 2454 0.6488630354309889 G g {'c'}\n"
     ]
    }
   ],
   "source": [
    "for k, v in position_dict.items():\n",
    "    #if len(v) > 5000 and len(v) < 10000:\n",
    "    if 1==1:\n",
    "        if  zero_and_non_zero_mutation_counts[k-1] > 1000  and zero_and_non_zero_mutation_counts[k-1]/(len(v)-1) > 0.1:\n",
    "            print(k-1, pos_id_dict[k-1], len(v)-1,  zero_and_non_zero_mutation_counts[k-1], zero_and_non_zero_mutation_counts[k-1]/(len(v)-1), full_sequence[k-1], v[0], set([x[1] for x in v[1:]]) )"
   ]
  },
  {
   "cell_type": "code",
   "execution_count": null,
   "id": "8d89619a-9444-48ab-9c22-36e368d281ae",
   "metadata": {},
   "outputs": [],
   "source": [
    "for n, x in enumerate(zero_and_non_zero_mutation_counts):\n",
    "    if x > 0 and len(variant_df[variant_df['GENOME_INDEX'] == n+1]) ==  0:\n",
    "        print(n, pos_id_dict[n], x, len(variant_df[variant_df['GENOME_INDEX'] == n+1]), n, x/len(variant_df[variant_df['GENOME_INDEX'] == n+1]))\n",
    "        "
   ]
  },
  {
   "cell_type": "code",
   "execution_count": 24,
   "id": "986c27ed-d353-4320-bf86-41cf6eda97c8",
   "metadata": {},
   "outputs": [
    {
     "data": {
      "text/html": [
       "<div>\n",
       "<style scoped>\n",
       "    .dataframe tbody tr th:only-of-type {\n",
       "        vertical-align: middle;\n",
       "    }\n",
       "\n",
       "    .dataframe tbody tr th {\n",
       "        vertical-align: top;\n",
       "    }\n",
       "\n",
       "    .dataframe thead th {\n",
       "        text-align: right;\n",
       "    }\n",
       "</style>\n",
       "<table border=\"1\" class=\"dataframe\">\n",
       "  <thead>\n",
       "    <tr style=\"text-align: right;\">\n",
       "      <th></th>\n",
       "      <th>UNIQUEID</th>\n",
       "      <th>VARIANT</th>\n",
       "      <th>MUTATION_TYPE</th>\n",
       "      <th>IS_NULL</th>\n",
       "      <th>IS_HET</th>\n",
       "      <th>IS_FILTER_PASS</th>\n",
       "      <th>IS_SNP</th>\n",
       "      <th>REF</th>\n",
       "      <th>ALT</th>\n",
       "      <th>GENOME_INDEX</th>\n",
       "    </tr>\n",
       "  </thead>\n",
       "  <tbody>\n",
       "    <tr>\n",
       "      <th>2739</th>\n",
       "      <td>site.02.subj.0359.lab.222018-14.iso.1</td>\n",
       "      <td>3186860t&gt;g</td>\n",
       "      <td>SNP</td>\n",
       "      <td>False</td>\n",
       "      <td>False</td>\n",
       "      <td>True</td>\n",
       "      <td>True</td>\n",
       "      <td>t</td>\n",
       "      <td>g</td>\n",
       "      <td>3186860</td>\n",
       "    </tr>\n",
       "    <tr>\n",
       "      <th>5316</th>\n",
       "      <td>site.02.subj.0918.lab.22A153.iso.1</td>\n",
       "      <td>3186860t&gt;g</td>\n",
       "      <td>SNP</td>\n",
       "      <td>False</td>\n",
       "      <td>False</td>\n",
       "      <td>True</td>\n",
       "      <td>True</td>\n",
       "      <td>t</td>\n",
       "      <td>g</td>\n",
       "      <td>3186860</td>\n",
       "    </tr>\n",
       "    <tr>\n",
       "      <th>7081</th>\n",
       "      <td>site.02.subj.0085.lab.22A036.iso.1</td>\n",
       "      <td>3186860t&gt;g</td>\n",
       "      <td>SNP</td>\n",
       "      <td>False</td>\n",
       "      <td>False</td>\n",
       "      <td>True</td>\n",
       "      <td>True</td>\n",
       "      <td>t</td>\n",
       "      <td>g</td>\n",
       "      <td>3186860</td>\n",
       "    </tr>\n",
       "    <tr>\n",
       "      <th>7704</th>\n",
       "      <td>site.02.subj.0830.lab.2013221279.iso.1</td>\n",
       "      <td>3186860t&gt;g</td>\n",
       "      <td>SNP</td>\n",
       "      <td>False</td>\n",
       "      <td>False</td>\n",
       "      <td>True</td>\n",
       "      <td>True</td>\n",
       "      <td>t</td>\n",
       "      <td>g</td>\n",
       "      <td>3186860</td>\n",
       "    </tr>\n",
       "    <tr>\n",
       "      <th>9293</th>\n",
       "      <td>site.02.subj.0644.lab.232102-15.iso.1</td>\n",
       "      <td>3186860t&gt;g</td>\n",
       "      <td>SNP</td>\n",
       "      <td>False</td>\n",
       "      <td>False</td>\n",
       "      <td>True</td>\n",
       "      <td>True</td>\n",
       "      <td>t</td>\n",
       "      <td>g</td>\n",
       "      <td>3186860</td>\n",
       "    </tr>\n",
       "    <tr>\n",
       "      <th>...</th>\n",
       "      <td>...</td>\n",
       "      <td>...</td>\n",
       "      <td>...</td>\n",
       "      <td>...</td>\n",
       "      <td>...</td>\n",
       "      <td>...</td>\n",
       "      <td>...</td>\n",
       "      <td>...</td>\n",
       "      <td>...</td>\n",
       "      <td>...</td>\n",
       "    </tr>\n",
       "    <tr>\n",
       "      <th>18152479</th>\n",
       "      <td>site.10.subj.PH00493578.lab.PH00493578.iso.1</td>\n",
       "      <td>3186860t&gt;g</td>\n",
       "      <td>SNP</td>\n",
       "      <td>False</td>\n",
       "      <td>False</td>\n",
       "      <td>True</td>\n",
       "      <td>True</td>\n",
       "      <td>t</td>\n",
       "      <td>g</td>\n",
       "      <td>3186860</td>\n",
       "    </tr>\n",
       "    <tr>\n",
       "      <th>18152911</th>\n",
       "      <td>site.10.subj.YA00106072.lab.YA00106072.iso.1</td>\n",
       "      <td>3186860t&gt;g</td>\n",
       "      <td>SNP</td>\n",
       "      <td>False</td>\n",
       "      <td>False</td>\n",
       "      <td>True</td>\n",
       "      <td>True</td>\n",
       "      <td>t</td>\n",
       "      <td>g</td>\n",
       "      <td>3186860</td>\n",
       "    </tr>\n",
       "    <tr>\n",
       "      <th>18154437</th>\n",
       "      <td>site.10.subj.YA00033558.lab.YA00033558.iso.1</td>\n",
       "      <td>3186860t&gt;g</td>\n",
       "      <td>SNP</td>\n",
       "      <td>False</td>\n",
       "      <td>False</td>\n",
       "      <td>True</td>\n",
       "      <td>True</td>\n",
       "      <td>t</td>\n",
       "      <td>g</td>\n",
       "      <td>3186860</td>\n",
       "    </tr>\n",
       "    <tr>\n",
       "      <th>18155980</th>\n",
       "      <td>site.10.subj.YA00008913.lab.YA00008913.iso.1</td>\n",
       "      <td>3186860t&gt;g</td>\n",
       "      <td>SNP</td>\n",
       "      <td>False</td>\n",
       "      <td>False</td>\n",
       "      <td>True</td>\n",
       "      <td>True</td>\n",
       "      <td>t</td>\n",
       "      <td>g</td>\n",
       "      <td>3186860</td>\n",
       "    </tr>\n",
       "    <tr>\n",
       "      <th>18157871</th>\n",
       "      <td>site.10.subj.YA00044774.lab.YA00044774.iso.1</td>\n",
       "      <td>3186860t&gt;g</td>\n",
       "      <td>SNP</td>\n",
       "      <td>False</td>\n",
       "      <td>False</td>\n",
       "      <td>True</td>\n",
       "      <td>True</td>\n",
       "      <td>t</td>\n",
       "      <td>g</td>\n",
       "      <td>3186860</td>\n",
       "    </tr>\n",
       "  </tbody>\n",
       "</table>\n",
       "<p>6575 rows × 10 columns</p>\n",
       "</div>"
      ],
      "text/plain": [
       "                                              UNIQUEID     VARIANT  \\\n",
       "2739             site.02.subj.0359.lab.222018-14.iso.1  3186860t>g   \n",
       "5316                site.02.subj.0918.lab.22A153.iso.1  3186860t>g   \n",
       "7081                site.02.subj.0085.lab.22A036.iso.1  3186860t>g   \n",
       "7704            site.02.subj.0830.lab.2013221279.iso.1  3186860t>g   \n",
       "9293             site.02.subj.0644.lab.232102-15.iso.1  3186860t>g   \n",
       "...                                                ...         ...   \n",
       "18152479  site.10.subj.PH00493578.lab.PH00493578.iso.1  3186860t>g   \n",
       "18152911  site.10.subj.YA00106072.lab.YA00106072.iso.1  3186860t>g   \n",
       "18154437  site.10.subj.YA00033558.lab.YA00033558.iso.1  3186860t>g   \n",
       "18155980  site.10.subj.YA00008913.lab.YA00008913.iso.1  3186860t>g   \n",
       "18157871  site.10.subj.YA00044774.lab.YA00044774.iso.1  3186860t>g   \n",
       "\n",
       "         MUTATION_TYPE  IS_NULL  IS_HET  IS_FILTER_PASS  IS_SNP REF ALT  \\\n",
       "2739               SNP    False   False            True    True   t   g   \n",
       "5316               SNP    False   False            True    True   t   g   \n",
       "7081               SNP    False   False            True    True   t   g   \n",
       "7704               SNP    False   False            True    True   t   g   \n",
       "9293               SNP    False   False            True    True   t   g   \n",
       "...                ...      ...     ...             ...     ...  ..  ..   \n",
       "18152479           SNP    False   False            True    True   t   g   \n",
       "18152911           SNP    False   False            True    True   t   g   \n",
       "18154437           SNP    False   False            True    True   t   g   \n",
       "18155980           SNP    False   False            True    True   t   g   \n",
       "18157871           SNP    False   False            True    True   t   g   \n",
       "\n",
       "          GENOME_INDEX  \n",
       "2739           3186860  \n",
       "5316           3186860  \n",
       "7081           3186860  \n",
       "7704           3186860  \n",
       "9293           3186860  \n",
       "...                ...  \n",
       "18152479       3186860  \n",
       "18152911       3186860  \n",
       "18154437       3186860  \n",
       "18155980       3186860  \n",
       "18157871       3186860  \n",
       "\n",
       "[6575 rows x 10 columns]"
      ]
     },
     "execution_count": 24,
     "metadata": {},
     "output_type": "execute_result"
    }
   ],
   "source": [
    "variant_df[variant_df['GENOME_INDEX'] == 3186860]"
   ]
  },
  {
   "cell_type": "code",
   "execution_count": 148,
   "id": "a9088981-99ce-4e99-9de2-9ab1cba89b57",
   "metadata": {},
   "outputs": [],
   "source": [
    "cds_boundaries = []\n",
    "for genome_record in SeqIO.parse(seq_dir + '/' + tb_genome_filename, \"genbank\"):\n",
    "    for feature in genome_record.features:\n",
    "        if feature.type == 'CDS':\n",
    "            a = feature.qualifiers  \n",
    "            if a.get(\"pseudo\") == None:\n",
    "                pseudo = False\n",
    "            else:\n",
    "                pseudo = True\n",
    "            cds_boundaries.append((a.get(\"locus_tag\")[0], pseudo, a.get(\"product\")[0], int(feature.location.start), int(feature.location.end), int(feature.location.strand)))   "
   ]
  },
  {
   "cell_type": "code",
   "execution_count": 163,
   "id": "de256c18-eaba-4f10-8ac0-5c1f97a70026",
   "metadata": {},
   "outputs": [],
   "source": [
    "temp =[]\n",
    "for (locus, pseudo, product, start, stop, strand) in cds_boundaries:\n",
    "    if pseudo == False:\n",
    "        if strand == 1:\n",
    "            temp.append(mutation_bin_probability(zero_and_non_zero_mutation_counts[start:stop]))\n",
    "        else:\n",
    "            temp.append(mutation_bin_probability(reversed(zero_and_non_zero_mutation_counts[start:stop])))\n",
    "scores = []\n",
    "for x in temp:\n",
    "    scores.append(x[1])"
   ]
  },
  {
   "cell_type": "code",
   "execution_count": 164,
   "id": "c82922ba-d073-4b17-b844-e2215b367dba",
   "metadata": {},
   "outputs": [
    {
     "data": {
      "text/plain": [
       "<AxesSubplot:ylabel='Count'>"
      ]
     },
     "execution_count": 164,
     "metadata": {},
     "output_type": "execute_result"
    },
    {
     "data": {
      "image/png": "[encoded data removed]",
      "text/plain": [
       "<Figure size 432x288 with 1 Axes>"
      ]
     },
     "metadata": {
      "needs_background": "light"
     },
     "output_type": "display_data"
    }
   ],
   "source": [
    "sns.histplot(scores, bins = 50)"
   ]
  },
  {
   "cell_type": "code",
   "execution_count": 171,
   "id": "970c4714-7cce-4e6d-9a79-162c9367e374",
   "metadata": {},
   "outputs": [
    {
     "data": {
      "image/png": "[encoded data removed]",
      "text/plain": [
       "<Figure size 432x288 with 1 Axes>"
      ]
     },
     "metadata": {
      "needs_background": "light"
     },
     "output_type": "display_data"
    }
   ],
   "source": [
    "sns.histplot([x for x in zero_and_non_zero_mutation_counts], bins = 100)\n",
    "plt.yscale('log')"
   ]
  },
  {
   "cell_type": "code",
   "execution_count": 165,
   "id": "890f331c-d6de-40d1-9cb5-8362c832e141",
   "metadata": {},
   "outputs": [
    {
     "name": "stdout",
     "output_type": "stream",
     "text": [
      "3156\n",
      "132416 Rv0109 PE-PGRS family protein PE_PGRS1 3156\n",
      "3542\n",
      "454294 Rv0376c hypothetical protein 3542\n",
      "3084\n",
      "837032 Rv0746 PE-PGRS family protein PE_PGRS9 3084\n",
      "3579\n",
      "3051\n",
      "2509139 Rv2236c cobalamin biosynthesis transmembrane protein CobD 3051\n",
      "3547\n",
      "3186859 Rv2874 integral membrane C-type cytochrome biogenesis protein DipZ 3547\n"
     ]
    }
   ],
   "source": [
    "for i, x in enumerate(zero_and_non_zero_mutation_counts):\n",
    "    if x > 3000:\n",
    "        print(x)\n",
    "        for (locus, pseudo, product, start, stop, strand) in cds_boundaries:\n",
    "            if i >= start and i < stop:\n",
    "                print(i, locus, product, x)\n",
    "                break"
   ]
  },
  {
   "cell_type": "code",
   "execution_count": 167,
   "id": "47cc3f00-fb7d-4304-a5e1-0d94b4559401",
   "metadata": {},
   "outputs": [
    {
     "data": {
      "text/plain": [
       "'CGGGA'"
      ]
     },
     "execution_count": 167,
     "metadata": {},
     "output_type": "execute_result"
    }
   ],
   "source": [
    "full_sequence[5077:5082]"
   ]
  },
  {
   "cell_type": "code",
   "execution_count": null,
   "id": "f684a584-361d-42d3-9cf4-45cbed3e5b65",
   "metadata": {},
   "outputs": [],
   "source": [
    "distinct_ids = []\n",
    "variants = []\n",
    "for k, v in tqdm(variant_dict.items()):\n",
    "    if set(v) in variants:\n",
    "        continue\n",
    "    else:\n",
    "        variants.append(set(v))\n",
    "        distinct_ids.append(k)"
   ]
  },
  {
   "cell_type": "code",
   "execution_count": null,
   "id": "6ca14ce1-f2b9-4a70-91b0-8e3f0d2f637d",
   "metadata": {},
   "outputs": [],
   "source": [
    "len(variant_dict)"
   ]
  },
  {
   "cell_type": "code",
   "execution_count": null,
   "id": "88834d4c-38af-4314-b4ea-9f99491bb946",
   "metadata": {},
   "outputs": [],
   "source": [
    "len(distinct_ids)"
   ]
  },
  {
   "cell_type": "code",
   "execution_count": null,
   "id": "618ef69d-d9a6-4cfd-aa4b-d9248c9aafaf",
   "metadata": {},
   "outputs": [],
   "source": [
    "pow(2,10)"
   ]
  },
  {
   "cell_type": "code",
   "execution_count": null,
   "id": "9db1ff2b-c3e3-4011-b49b-fbdb29bd9436",
   "metadata": {},
   "outputs": [],
   "source": [
    "len(position_dict)"
   ]
  },
  {
   "cell_type": "code",
   "execution_count": 103,
   "id": "7cfafca0-3a61-4318-8cf3-0f81826e13e5",
   "metadata": {},
   "outputs": [
    {
     "data": {
      "text/plain": [
       "77852"
      ]
     },
     "execution_count": 103,
     "metadata": {},
     "output_type": "execute_result"
    }
   ],
   "source": [
    "len(var_df['UNIQUEID'].unique())"
   ]
  },
  {
   "cell_type": "code",
   "execution_count": 131,
   "id": "b3d95928-2bc1-42b3-86f9-06690358d69c",
   "metadata": {},
   "outputs": [],
   "source": [
    "filter_fails = list(var_df[var_df['FRS'] <0.9]['GENOME_INDEX'].unique())"
   ]
  },
  {
   "cell_type": "code",
   "execution_count": 129,
   "id": "858ac760-4ee2-49d0-8a31-79b6da127ac5",
   "metadata": {},
   "outputs": [],
   "source": [
    "a = pd.read_csv(\"F:Datasets/CRYPTIC_DATA/COMPASS.csv\", names = ['Species', 'Start', 'Stop', 'Count'])"
   ]
  },
  {
   "cell_type": "code",
   "execution_count": 132,
   "id": "9b43f608-bfda-456b-984a-e18db2478562",
   "metadata": {},
   "outputs": [],
   "source": [
    "temp = []\n",
    "for i,r in a.iterrows():\n",
    "    temp.append((r['Start'], r['Stop']))"
   ]
  },
  {
   "cell_type": "code",
   "execution_count": 120,
   "id": "ef5cd193-3e9d-4b81-a031-769a3057e8df",
   "metadata": {},
   "outputs": [
    {
     "data": {
      "text/plain": [
       "93128"
      ]
     },
     "execution_count": 120,
     "metadata": {},
     "output_type": "execute_result"
    }
   ],
   "source": [
    "len(filter_fails)"
   ]
  },
  {
   "cell_type": "code",
   "execution_count": 127,
   "id": "19a9417b-a0db-4aba-b1af-04193bbb25e9",
   "metadata": {},
   "outputs": [
    {
     "data": {
      "text/plain": [
       "2081502"
      ]
     },
     "execution_count": 127,
     "metadata": {},
     "output_type": "execute_result"
    }
   ],
   "source": [
    "len(list(var_df[var_df['IS_NULL']!=True]['GENOME_INDEX'].unique()))"
   ]
  },
  {
   "cell_type": "code",
   "execution_count": null,
   "id": "e457b232-1643-480e-a8d7-db4154bd6dd9",
   "metadata": {},
   "outputs": [],
   "source": []
  },
  {
   "cell_type": "code",
   "execution_count": null,
   "id": "abde09ae-7d47-402f-be4c-b737a26bbd61",
   "metadata": {},
   "outputs": [],
   "source": []
  },
  {
   "cell_type": "code",
   "execution_count": null,
   "id": "410d67ac-b568-4890-8537-6504dfd9f24a",
   "metadata": {},
   "outputs": [],
   "source": []
  }
 ],
 "metadata": {
  "kernelspec": {
   "display_name": "Python 3 (ipykernel)",
   "language": "python",
   "name": "python3"
  },
  "language_info": {
   "codemirror_mode": {
    "name": "ipython",
    "version": 3
   },
   "file_extension": ".py",
   "mimetype": "text/x-python",
   "name": "python",
   "nbconvert_exporter": "python",
   "pygments_lexer": "ipython3",
   "version": "3.9.7"
  }
 },
 "nbformat": 4,
 "nbformat_minor": 5
}
