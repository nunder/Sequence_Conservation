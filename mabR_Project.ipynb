{
 "cells": [
  {
   "cell_type": "markdown",
   "id": "b1e30ed4-8a0e-4a6f-96eb-dfe116dfb2de",
   "metadata": {},
   "source": [
    "#### Import packages, set directories and parameters"
   ]
  },
  {
   "cell_type": "code",
   "execution_count": 1,
   "id": "cf9c6377-5080-4c22-94db-feabe17cc47c",
   "metadata": {},
   "outputs": [],
   "source": [
    "import pandas as pd\n",
    "import pickle\n",
    "import seaborn as sns\n",
    "import matplotlib.pyplot as plt\n",
    "import numpy as np\n",
    "from Bio import Entrez, SeqIO, AlignIO, pairwise2, Align, Seq, motifs\n",
    "from Bio.Seq import Seq\n",
    "from Bio.SeqFeature import SeqFeature, FeatureLocation\n",
    "import math\n",
    "from tqdm import tqdm\n",
    "from Comparative_Analysis import Utilities as util\n",
    "from joblib import Parallel, delayed\n",
    "from Comparative_Analysis import Blast_Functions as blastfn\n",
    "import time\n",
    "import os\n",
    "import copy\n",
    "from scipy.stats import chi2\n",
    "from Comparative_Analysis import Alignment as alignfn\n",
    "from Bio.Align.Applications import MuscleCommandline\n",
    "import subprocess\n",
    "pd.options.mode.chained_assignment = None  # default='warn'"
   ]
  },
  {
   "cell_type": "code",
   "execution_count": 2,
   "id": "79c1ca3d-a68f-4a9d-a5c4-25df7385b3ad",
   "metadata": {},
   "outputs": [],
   "source": [
    "project_dir = 'F:/Project_Data/mabR_Project'\n",
    "mycobacteria_seq_dir = 'F:/Datasets/NCBI_Refseq_Mycobacteriaceae_Complete_Annot_20230511/data'\n",
    "actinomycetes_seq_dir = 'F:/Datasets/NCBI_Refseq_Actinomycetes_Complete_Annot_20230511/data'\n",
    "tb_species = 'AL123456.3' \n",
    "tb_annotation_dirname = 'GCA_000195955.2'\n",
    "num_cores = 16\n",
    "core_numbers = list(range(1, num_cores+1))\n",
    "muscle_exe = 'C:/Users/nicho/Muscle/muscle3.8.31_i86win32.exe'\n",
    "full_build = False"
   ]
  },
  {
   "cell_type": "code",
   "execution_count": 3,
   "id": "503e82c4-1431-4d17-945f-788c5cc7bb71",
   "metadata": {},
   "outputs": [],
   "source": [
    "def reverse_complement(seq_string):\n",
    "    complement_dict = {'A':'T','C':'G','G':'C','T':'A','N':'N','S':'A','R':'A','Y':'A'}    # Note S\n",
    "    temp = []\n",
    "    for char in reversed(seq_string):\n",
    "        temp.append(complement_dict[char])\n",
    "    return ''.join(temp)"
   ]
  },
  {
   "cell_type": "markdown",
   "id": "9ee7b780-b0b1-4ada-aa73-94dc320fb8c4",
   "metadata": {},
   "source": [
    "#### Check files where no genomic file downloaded from NCBI"
   ]
  },
  {
   "cell_type": "code",
   "execution_count": 4,
   "id": "a952cd25-6f52-41a8-9bc1-22233f79e27d",
   "metadata": {},
   "outputs": [],
   "source": [
    "def non_empty_directories(num_subsets, subset_num, dir_list, seqdir):\n",
    "    temp = util.chunk_list(dir_list, num_subsets, subset_num)\n",
    "    non_empty_dirs = []\n",
    "    for dirname in temp:\n",
    "            if not(os.path.exists(seqdir + '/' + dirname + '/genomic.gbff')):\n",
    "                continue\n",
    "            else:\n",
    "                non_empty_dirs.append(dirname)\n",
    "    return non_empty_dirs "
   ]
  },
  {
   "cell_type": "code",
   "execution_count": 5,
   "id": "40439141-c290-401a-9644-c3653be333ca",
   "metadata": {},
   "outputs": [],
   "source": [
    "mycobacteria_dirs = []\n",
    "actinomycetes_dirs = []\n",
    "sequence_dirs = util.list_dirs(mycobacteria_seq_dir)\n",
    "parallel_output = Parallel(n_jobs=-1)(delayed(non_empty_directories)(num_cores, core_number, sequence_dirs, mycobacteria_seq_dir) for core_number in core_numbers)\n",
    "for temp in parallel_output:\n",
    "    for x in temp:\n",
    "        mycobacteria_dirs.append(x) \n",
    "sequence_dirs = util.list_dirs(actinomycetes_seq_dir)\n",
    "parallel_output = Parallel(n_jobs=-1)(delayed(non_empty_directories)(num_cores, core_number, sequence_dirs, actinomycetes_seq_dir) for core_number in core_numbers)\n",
    "for temp in parallel_output:\n",
    "    for x in temp:\n",
    "        actinomycetes_dirs.append(x)"
   ]
  },
  {
   "cell_type": "code",
   "execution_count": null,
   "id": "7f27503d-e5a5-41af-9415-4dbcd14444b4",
   "metadata": {},
   "outputs": [],
   "source": [
    "with open(project_dir + '/mycobacteria_dirs.pkl', 'wb') as f:\n",
    "    pickle.dump(mycobacteria_dirs, f) \n",
    "with open(project_dir + '/actinomycetes_dirs.pkl', 'wb') as f:\n",
    "    pickle.dump(actinomycetes_dirs, f) "
   ]
  },
  {
   "cell_type": "code",
   "execution_count": null,
   "id": "1f9007b6-7093-49cf-ac0d-16e9f86f8b97",
   "metadata": {},
   "outputs": [],
   "source": [
    "print(len(mycobacteria_dirs),len(actinomycetes_dirs))"
   ]
  },
  {
   "cell_type": "markdown",
   "id": "198ce0ae-2b01-482b-83cb-93c720537916",
   "metadata": {},
   "source": [
    "#### Create files with all CDS for both mycobacteria and actinobacteria reference sets and create BLAST databases for TB CDS and both reference sets (to do reciprocal best hits)"
   ]
  },
  {
   "cell_type": "code",
   "execution_count": null,
   "id": "6068fd3f-1e3d-4bd4-b1ac-ef4c7a190fd4",
   "metadata": {
    "tags": []
   },
   "outputs": [],
   "source": [
    "def generate_protein_dataset(num_subsets, subset_num, dir_list, seqdir): \n",
    "    sequence_dirs = util.chunk_list(dir_list, num_subsets, subset_num)\n",
    "    all_cds = []\n",
    "    all_tb_cds = []\n",
    "    names = []\n",
    "    sequences = []\n",
    "    locations = []\n",
    "    for dirname in (sequence_dirs):\n",
    "        for genome_record in SeqIO.parse(seqdir + '/' + dirname + '/genomic.gbff', \"genbank\"):\n",
    "            accession_ver = genome_record.annotations['accessions'][0] + '.' + str(genome_record.annotations['sequence_version'])\n",
    "            names.append([accession_ver, genome_record.annotations['organism']])\n",
    "            full_sequence = str(genome_record.seq)\n",
    "            sequences.append([accession_ver, full_sequence])\n",
    "            for feature in genome_record.features:\n",
    "                a = feature.qualifiers\n",
    "                if feature.type == 'CDS' and a.get(\"translation\") != None and a.get(\"locus_tag\") != None:\n",
    "                    locus_tag = a.get(\"locus_tag\")[0]\n",
    "                    accession_locus = accession_ver + '@' + locus_tag\n",
    "                    translation = a.get(\"translation\")[0]\n",
    "                    (start, stop, strand) = (int(feature.location.start), int(feature.location.end), int(feature.location.strand))\n",
    "                    locations.append([accession_locus, (start, stop, strand)])\n",
    "                    all_cds.append([accession_locus, translation])\n",
    "                    if dirname == tb_annotation_dirname:\n",
    "                        all_tb_cds.append([accession_locus, translation])\n",
    "    return (all_cds, all_tb_cds, names, locations, sequences)           "
   ]
  },
  {
   "cell_type": "code",
   "execution_count": null,
   "id": "9e2fbea0-6e4e-46ad-a53c-6475d7e960ae",
   "metadata": {},
   "outputs": [],
   "source": [
    "def generate_upstream_sequence_dataset(num_subsets, subset_num, dir_list, seqdir): \n",
    "    sequence_dirs = util.chunk_list(dir_list, num_subsets, subset_num)\n",
    "    upstream_cds_regions = []\n",
    "    for dirname in (sequence_dirs):\n",
    "        all_features = []\n",
    "        for genome_record in SeqIO.parse(seqdir + '/' + dirname + '/genomic.gbff', \"genbank\"):\n",
    "            accession_ver = genome_record.annotations['accessions'][0] + '.' + str(genome_record.annotations['sequence_version'])\n",
    "            full_sequence = str(genome_record.seq)\n",
    "            len_full_sequence = len(full_sequence)\n",
    "            for feature in genome_record.features:\n",
    "                if feature.type in ['gene', 'source']:\n",
    "                    continue\n",
    "                a = feature.qualifiers\n",
    "                feature_type = feature.type\n",
    "                if a.get(\"locus_tag\") != None:\n",
    "                    locus_tag = a.get(\"locus_tag\")[0]\n",
    "                    accession_locus = accession_ver + '@' + locus_tag\n",
    "                else:\n",
    "                    accession_locus  = ''\n",
    "                (start, stop, strand) = (int(feature.location.start), int(feature.location.end), int(feature.location.strand))\n",
    "                all_features.append([accession_locus, feature_type, start, stop, strand])\n",
    "            # Positive strand upstream \n",
    "            all_features.sort(key = lambda x: x[2])\n",
    "            max_stop = 0\n",
    "            for (accession_locus, feature_type, start, stop, strand) in all_features:\n",
    "                if max_stop < start and feature_type == 'CDS' and strand == 1 and start - max_stop < 100000:    #Avoid joins where biopython interprets inconsistently \n",
    "                    upstream_cds_regions.append([accession_locus, max_stop, start, strand, full_sequence[max_stop: start+3]])\n",
    "                max_stop = max(max_stop, stop)\n",
    "            # Negative strand upstream\n",
    "            all_features.sort(key = lambda x: x[3], reverse = True)\n",
    "            min_start = len(full_sequence)-1\n",
    "            for (accession_locus, feature_type, start, stop, strand) in all_features:\n",
    "                if stop < min_start and feature_type == 'CDS' and strand == -1 and min_start - stop < 100000:\n",
    "                    upstream_cds_regions.append([accession_locus, stop, min_start, strand, reverse_complement(full_sequence[stop-3: min_start])])\n",
    "                min_start = min(min_start, start)\n",
    "    return (upstream_cds_regions)           "
   ]
  },
  {
   "cell_type": "code",
   "execution_count": null,
   "id": "542f0742-7686-4b24-808f-787faa247c21",
   "metadata": {
    "tags": []
   },
   "outputs": [],
   "source": [
    "if full_build == True:\n",
    "    parallel_output = Parallel(n_jobs=-1)(delayed(generate_protein_dataset)(num_cores, core_number, mycobacteria_dirs, mycobacteria_seq_dir) for core_number in core_numbers)\n",
    "    names_dict_1 = {}\n",
    "    locations_dict_1 = {}\n",
    "    sequence_dict_1 = {}\n",
    "    all_cds_1 = []\n",
    "    all_tb_cds_1 = []\n",
    "    for x in parallel_output:\n",
    "        all_cds_1 += x[0]\n",
    "        all_tb_cds_1 += x[1]\n",
    "        for temp in x[2]:\n",
    "            names_dict_1[temp[0]] = temp[1]\n",
    "        for temp in x[3]:\n",
    "            locations_dict_1[temp[0]] = temp[1]\n",
    "        for temp in x[4]:\n",
    "            sequence_dict_1[temp[0]] = temp[1]\n",
    "    with open(project_dir + '/names_dict_1.pkl', 'wb') as f:\n",
    "            pickle.dump(names_dict_1, f) "
   ]
  },
  {
   "cell_type": "code",
   "execution_count": null,
   "id": "f75de3d4-28cf-4873-892c-608a027d57cb",
   "metadata": {
    "tags": []
   },
   "outputs": [],
   "source": [
    "if full_build == True:\n",
    "    parallel_output = Parallel(n_jobs=-1)(delayed(generate_protein_dataset)(num_cores, core_number, actinomycetes_dirs, actinomycetes_seq_dir) for core_number in core_numbers)\n",
    "    names_dict_2 = {}\n",
    "    locations_dict_2 = {}\n",
    "    sequence_dict_2 = {}\n",
    "    all_cds_2 = []\n",
    "    all_tb_cds_2 = []\n",
    "    for x in parallel_output:\n",
    "        all_cds_2 += x[0]\n",
    "        all_tb_cds_2 += x[1]\n",
    "        for temp in x[2]:\n",
    "            names_dict_2[temp[0]] = temp[1]\n",
    "        for temp in x[3]:\n",
    "            locations_dict_2[temp[0]] = temp[1]\n",
    "        for temp in x[4]:\n",
    "            sequence_dict_2[temp[0]] = temp[1]\n",
    "    with open(project_dir + '/names_dict_2.pkl', 'wb') as f:\n",
    "            pickle.dump(names_dict_2, f) "
   ]
  },
  {
   "cell_type": "code",
   "execution_count": null,
   "id": "81888d67-09e0-40e4-8508-c0f1ae994c7c",
   "metadata": {},
   "outputs": [],
   "source": [
    "if full_build == True:\n",
    "    mycobacteria_upstream_dict = {}\n",
    "    actinomycetes_upstream_dict = {}\n",
    "    parallel_output = Parallel(n_jobs=-1)(delayed(generate_upstream_sequence_dataset)(num_cores, core_number, mycobacteria_dirs, mycobacteria_seq_dir) for core_number in core_numbers)\n",
    "    for x in parallel_output:\n",
    "        for n in x:\n",
    "            mycobacteria_upstream_dict[n[0]] = [n[1], n[2], n[3], n[4]]\n",
    "    parallel_output = Parallel(n_jobs=-1)(delayed(generate_upstream_sequence_dataset)(num_cores, core_number, actinomycetes_dirs, actinomycetes_seq_dir) for core_number in core_numbers)\n",
    "    for x in parallel_output:\n",
    "        for n in x:\n",
    "            actinomycetes_upstream_dict[n[0]] = [n[1], n[2], n[3], n[4]]\n",
    "    with open(project_dir + '/mycobacteria_upstream_dict.pkl', 'wb') as f:\n",
    "        pickle.dump(mycobacteria_upstream_dict, f) \n",
    "    with open(project_dir + '/actinomycetes_upstream_dict.pkl', 'wb') as f:\n",
    "        pickle.dump(actinomycetes_upstream_dict, f) "
   ]
  },
  {
   "cell_type": "code",
   "execution_count": null,
   "id": "e554633f-42d0-40c4-9600-a6f7c8ef17c4",
   "metadata": {
    "tags": []
   },
   "outputs": [],
   "source": [
    "if full_build == True:\n",
    "    util.produce_fasta_file(all_cds_1, project_dir + '/mycobacteria_cds.fasta')\n",
    "    util.produce_fasta_file(all_tb_cds_1, project_dir + '/tb_cds.fasta')\n",
    "    util.produce_fasta_file(all_cds_2, project_dir + '/actinomycetes_cds.fasta')\n",
    "    blastfn.build_blast_db(project_dir, 'mycobacteria_cds.fasta', 'Mycobacteria', project_dir + '/BLAST/Mycobacteria')\n",
    "    blastfn.build_blast_db(project_dir, 'tb_cds.fasta', 'all_tb_cds', project_dir + '/BLAST/Tb')\n",
    "    blastfn.build_blast_db(project_dir, 'actinomycetes_cds.fasta', 'Actinomycetes', project_dir + '/BLAST/Actinomycetes')"
   ]
  },
  {
   "cell_type": "code",
   "execution_count": null,
   "id": "c64c685a-3fe4-44e0-a045-59504f7ce64c",
   "metadata": {
    "tags": []
   },
   "outputs": [],
   "source": [
    "if full_build == True:\n",
    "    blastfn.run_blastp(project_dir + '/BLAST/Mycobacteria', 'tb_cds.fasta', 'Mycobacteria', 'tb_mycobacteria_hits.csv', e_value = 1e-10)\n",
    "    blastfn.run_blastp(project_dir + '/BLAST/Tb', 'mycobacteria_cds.fasta', 'all_tb_cds', 'mycobacteria_tb_hits.csv', e_value = 1e-10)\n",
    "    a = blastfn.process_blast_output(project_dir + '/BLAST/Mycobacteria/tb_mycobacteria_hits.csv', names_dict_1, top_hit_only = False)\n",
    "    a = a.loc[a.groupby(['query_ref','target_species_name'])['bit_score'].idxmax()]     # Utility top hit method uses accession ver which can differ if multiple sets exist per species in fragmented annotations\n",
    "    b = blastfn.process_blast_output(project_dir + '/BLAST/Tb/mycobacteria_tb_hits.csv', names_dict_1, top_hit_only = False)\n",
    "    b = b.loc[b.groupby(['query_ref','target_species_name'])['bit_score'].idxmax()] \n",
    "    rbh =  blastfn.keep_reciprocal_best_hits(a, b)\n",
    "    rbh.to_csv(project_dir + '/tb_mycobacteria_reciprocal_best_hits.csv')"
   ]
  },
  {
   "cell_type": "code",
   "execution_count": null,
   "id": "9aaf6f56-f9f1-4761-a909-bacf02ac47f4",
   "metadata": {
    "tags": []
   },
   "outputs": [],
   "source": [
    "if full_build == True:\n",
    "    blastfn.run_blastp(project_dir + '/BLAST/Actinomycetes', 'tb_cds.fasta', 'Actinomycetes', 'tb_actinomycetes_hits.csv', e_value = 1e-10)\n",
    "    blastfn.run_blastp(project_dir + '/BLAST/Tb', 'actinomycetes_cds.fasta', 'all_tb_cds', 'actinomycetes_tb_hits.csv', e_value = 1e-10)\n",
    "    a = blastfn.process_blast_output(project_dir + '/BLAST/Actinomycetes/tb_actinomycetes_hits.csv', names_dict_2, top_hit_only = False)\n",
    "    a = a.loc[a.groupby(['query_ref','target_species_name'])['bit_score'].idxmax()]     # Utility top hit method uses accession ver which can differ if multiple sets exist per species in fragmented annotations\n",
    "    b = blastfn.process_blast_output(project_dir + '/BLAST/Tb/actinomycetes_tb_hits.csv', names_dict_2, top_hit_only = False)\n",
    "    b = b.loc[b.groupby(['query_ref','target_species_name'])['bit_score'].idxmax()] \n",
    "    rbh_2 =  blastfn.keep_reciprocal_best_hits(a, b)\n",
    "    rbh_2.to_csv(project_dir + '/tb_actinomycetes_reciprocal_best_hits.csv')"
   ]
  },
  {
   "cell_type": "markdown",
   "id": "c62ab102-796e-4af7-a58b-3111e917ea21",
   "metadata": {},
   "source": [
    "#### Function to generate FASTA file containing intergenic regions in orthologous species and run Muscle / R-scape"
   ]
  },
  {
   "cell_type": "code",
   "execution_count": 61,
   "id": "7452ef50-1879-4ac8-8106-25c89e82a366",
   "metadata": {},
   "outputs": [],
   "source": [
    "if not(full_build == True):\n",
    "    with open(project_dir + '/names_dict_1.pkl', 'rb') as f:\n",
    "        names_dict_1 = pickle.load(f)\n",
    "    with open(project_dir + '/names_dict_2.pkl', 'rb') as f:\n",
    "        names_dict_2 = pickle.load(f)\n",
    "    with open(project_dir + '/mycobacteria_dirs.pkl', 'rb') as f:\n",
    "        mycobacteria_dirs = pickle.load(f) \n",
    "    with open(project_dir + '/actinomycetes_dirs.pkl', 'rb') as f:\n",
    "         actinomycetes_dirs = pickle.load(f)  \n",
    "    with open(project_dir + '/mycobacteria_upstream_dict.pkl', 'rb') as f:\n",
    "        mycobacteria_upstream_dict = pickle.load(f) \n",
    "    with open(project_dir + '/actinomycetes_upstream_dict.pkl', 'rb') as f:\n",
    "        actinomycetes_upstream_dict = pickle.load(f) \n",
    "    tb_mycobacteria_hits = blastfn.process_blast_output(project_dir + '/BLAST/Mycobacteria/tb_mycobacteria_hits.csv', names_dict_1, top_hit_only = False)\n",
    "    tb_mycobacteria_rbh = pd.read_csv(project_dir + '/tb_mycobacteria_reciprocal_best_hits.csv')\n",
    "    tb_actinomycetes_rbh = pd.read_csv(project_dir + '/tb_actinomycetes_reciprocal_best_hits.csv')"
   ]
  },
  {
   "cell_type": "code",
   "execution_count": 101,
   "id": "11c06384-3c27-4a95-ac4c-cfd218c8cbba",
   "metadata": {},
   "outputs": [],
   "source": [
    "def align_upstream_regions(locus, comparison_type): # 1 = mycobacteria, #2 = actinomycetes\n",
    "    if comparison_type == 1:\n",
    "        comparison_df = tb_mycobacteria_rbh\n",
    "        comparison_dict = mycobacteria_upstream_dict\n",
    "        name_dict = names_dict_1\n",
    "        prefix = 'mycobacteria'\n",
    "    else:\n",
    "        comparison_df = tb_actinomycetes_rbh\n",
    "        comparison_dict = actinomycetes_upstream_dict\n",
    "        prefix = 'actinomycetes'\n",
    "        name_dict = names_dict_2\n",
    "    intergenic_regions = []\n",
    "    target_locus = tb_species + '@' + locus\n",
    "    hits = comparison_df[comparison_df['query_ref'] == target_locus]\n",
    "    hits = hits[hits['percent_identical_matches'] > 40]\n",
    "    tb_hit = 0\n",
    "    for i, r in hits.iterrows():\n",
    "        target_ref = r['target_ref']\n",
    "        if target_ref in comparison_dict:\n",
    "            upstream_region = comparison_dict[target_ref][3]\n",
    "            if len(upstream_region) > 8:\n",
    "                if tb_species in target_ref:\n",
    "                    tb_hit = 1\n",
    "                intergenic_regions.append([name_dict[target_ref.split('@')[0]].replace(' ', '_'), upstream_region])\n",
    "    if len(intergenic_regions) > 10 and tb_hit == 1:    \n",
    "        results_dir = project_dir + '/Intergenic_Regions/' + locus\n",
    "        if not os.path.exists(results_dir):\n",
    "            os.makedirs(results_dir)\n",
    "        util.produce_fasta_file(intergenic_regions, results_dir +'/'+prefix+'_intergenic_regions.fasta')\n",
    "        cline = MuscleCommandline(muscle_exe, input= results_dir +'/'+prefix + '_intergenic_regions.fasta', out = results_dir + '/' + prefix + '_upstream_region_'+locus + '_alignment.fasta')\n",
    "        exception = 0\n",
    "        try:\n",
    "            stdout, stderr = cline()\n",
    "        except Exception as e:\n",
    "            exception == 1\n",
    "        #if exception == 0 and comparison_type == 2:\n",
    "        #    blastfn.convert_fasta_to_stockholm(results_dir, prefix + '_upstream_region_'+locus + '_alignment.fasta', prefix + '_upstream_region_'+locus + '_alignment.sto')\n",
    "        #    blastfn.run_rscape(results_dir, prefix + '_upstream_region_'+locus + '_alignment.sto', 'rscape_')\n"
   ]
  },
  {
   "cell_type": "code",
   "execution_count": 102,
   "id": "a0bf0ad6-cbdb-4572-8eed-63a026550504",
   "metadata": {},
   "outputs": [],
   "source": [
    "regulation_type_dict = {}\n",
    "downreg_genes = pd.read_excel(project_dir + '/2022-10-02_data.xlsx', sheet_name = 'significnat genes downregulated')\n",
    "upreg_genes = pd.read_excel(project_dir + '/2022-10-02_data.xlsx', sheet_name = 'significant genes upregulated')\n",
    "gene_list = []\n",
    "for i, r in downreg_genes.iterrows():\n",
    "    gene_list.append(r['Locus'])\n",
    "    regulation_type_dict[r['Locus']] = 'Downregulated'\n",
    "for i, r in upreg_genes.iterrows():\n",
    "    gene_list.append(r['Locus'])\n",
    "    regulation_type_dict[r['Locus']] = 'Upregulated'"
   ]
  },
  {
   "cell_type": "code",
   "execution_count": null,
   "id": "b5e5ab58-ec27-4cc6-ba2b-9deb6922673c",
   "metadata": {},
   "outputs": [],
   "source": [
    "for locus in gene_list:\n",
    "    align_upstream_regions(str(locus), 1)\n",
    "    #align_upstream_regions(str(locus), 2)"
   ]
  },
  {
   "cell_type": "code",
   "execution_count": 104,
   "id": "3556711a-e9b6-4fea-8d6a-6a739ed2b186",
   "metadata": {},
   "outputs": [
    {
     "name": "stderr",
     "output_type": "stream",
     "text": [
      "100%|██████████| 148/148 [00:02<00:00, 63.29it/s]\n"
     ]
    }
   ],
   "source": [
    "mave_len = 10\n",
    "id_re = []\n",
    "seq_ids = util.list_dirs(project_dir + '/Intergenic_Regions')\n",
    "out_list = []\n",
    "consensus_dict = {}\n",
    "for id in tqdm(seq_ids):\n",
    "    if os.path.exists(project_dir + '/Intergenic_Regions/'+str(id)+ '/mycobacteria_upstream_region_'+str(id) + '_alignment.fasta'):\n",
    "        alignment = util.read_fasta_to_array(project_dir + '/Intergenic_Regions/' + str(id)+ '/mycobacteria_upstream_region_'+str(id) + '_alignment.fasta')\n",
    "        sequences_in_alignment = len(alignment[0])\n",
    "        alignment_length = len(alignment[1][0])\n",
    "        for j, name in enumerate(alignment[0]):\n",
    "            if 'H37Rv' in name:\n",
    "                tb_index = j\n",
    "                break\n",
    "        if sequences_in_alignment < 20:\n",
    "            continue\n",
    "        pct_identity = []\n",
    "        consensus = []\n",
    "        for i in range(alignment_length):\n",
    "            temp = []\n",
    "            for j in range(sequences_in_alignment):\n",
    "                temp.append(alignment[1][j][i])\n",
    "            match_found = 0\n",
    "            mac_pct_id = 0\n",
    "            for letter in ['A','C','G','T']:\n",
    "                if temp.count(letter) / sequences_in_alignment >= 0.8:\n",
    "                    match_found = 1\n",
    "                    consensus.append(letter)\n",
    "                    break\n",
    "            if match_found == 0:\n",
    "                consensus.append('*')\n",
    "        consensus_dict[id] = consensus    \n",
    "        #print(consensus[410:])\n",
    "        re = (alignfn.relative_entropy(alignment[1]))\n",
    "        mave_re = []\n",
    "        for i in range(len(re[0])-mave_len):\n",
    "            temp = re[0][i:i+mave_len]\n",
    "            mave_re.append(sum(temp)/len(temp))\n",
    "        max_re = -999\n",
    "        max_re_pos = 0\n",
    "        if len(mave_re) == 0:\n",
    "            continue\n",
    "        for i in range(len(re[0])-mave_len):\n",
    "            if mave_re[i] > max_re:\n",
    "                max_re = mave_re[i]\n",
    "                max_re_pos = i\n",
    "        id_re.append([id, max_re, ''.join(consensus_dict[id][max_re_pos: max_re_pos + mave_len]), ''.join(consensus_dict[id]), len(consensus_dict[id]), len([x for x in re[0] if x > 1.9]), \n",
    "                      sequences_in_alignment, alignment[1][tb_index]])"
   ]
  },
  {
   "cell_type": "code",
   "execution_count": 105,
   "id": "7aed19aa-916b-42c5-9bf8-233f84fe8838",
   "metadata": {},
   "outputs": [],
   "source": [
    "a = pd.DataFrame(id_re, columns = ['Downstream CDS', 'Maximum_Moving_Ave_RE', 'Max_Region_Consensus_Sequence','Full_Consensus','Intergenic_Region_TB_Length','Num_positions_gt_90_ID', 'Num_Seq_in_alignement','TB_Upstream_Sequence'])\n"
   ]
  },
  {
   "cell_type": "code",
   "execution_count": 108,
   "id": "a2de6cd3-ceac-4e47-b958-21548be17ad1",
   "metadata": {},
   "outputs": [],
   "source": [
    "hit_info = []\n",
    "for gene_name in gene_list:\n",
    "    intergenic_regions = []\n",
    "    locus = tb_species + '@'+ str(gene_name)\n",
    "    hits = tb_mycobacteria_rbh.query('query_ref == @locus and percent_identical_matches > 40')\n",
    "    num_hits_gt_40 = len(hits)\n",
    "    tb_hit = 0\n",
    "    for i, r in hits.iterrows():\n",
    "        target_ref = r['target_ref']\n",
    "        if target_ref in mycobacteria_upstream_dict:\n",
    "            upstream_region = mycobacteria_upstream_dict[target_ref][3][:-3]\n",
    "            if len(upstream_region) > 8:\n",
    "                if tb_species in target_ref:\n",
    "                    tb_hit = 1\n",
    "                intergenic_regions.append([names_dict_1[target_ref.split('@')[0]].replace(' ', '_'), upstream_region])\n",
    "    if locus in mycobacteria_upstream_dict:\n",
    "        hit_info.append([gene_name, regulation_type_dict[gene_name], num_hits_gt_40, len(mycobacteria_upstream_dict[locus][3][:-3]), tb_hit, len(intergenic_regions)])\n",
    "    else: \n",
    "        hit_info.append([gene_name, regulation_type_dict[gene_name], num_hits_gt_40, 0, tb_hit, len(intergenic_regions)])\n",
    "hit_info_df = pd.DataFrame(hit_info, columns = ['Downstream CDS', 'Regulation type','num_hits', 'tb_upstream_region_length', 'tb_hit', 'num_upstream_regions'])"
   ]
  },
  {
   "cell_type": "code",
   "execution_count": 109,
   "id": "81681d72-5bf4-4a5e-8b4c-2b2ba806dc4e",
   "metadata": {},
   "outputs": [],
   "source": [
    "gene_info_df = hit_info_df.merge(a, on='Downstream CDS', how='left').fillna('')\n",
    "gene_info_df.to_csv(project_dir +'/significant_gene_info.csv')"
   ]
  },
  {
   "cell_type": "code",
   "execution_count": 92,
   "id": "184eb6bd-79dc-4eb7-bc80-5e2aaf6adbb9",
   "metadata": {},
   "outputs": [
    {
     "data": {
      "text/html": [
       "<div>\n",
       "<style scoped>\n",
       "    .dataframe tbody tr th:only-of-type {\n",
       "        vertical-align: middle;\n",
       "    }\n",
       "\n",
       "    .dataframe tbody tr th {\n",
       "        vertical-align: top;\n",
       "    }\n",
       "\n",
       "    .dataframe thead th {\n",
       "        text-align: right;\n",
       "    }\n",
       "</style>\n",
       "<table border=\"1\" class=\"dataframe\">\n",
       "  <thead>\n",
       "    <tr style=\"text-align: right;\">\n",
       "      <th></th>\n",
       "      <th>Downstream CDS</th>\n",
       "      <th>num_hits</th>\n",
       "      <th>upstream_region_length</th>\n",
       "      <th>tb_hit</th>\n",
       "      <th>num_upstream_regions</th>\n",
       "    </tr>\n",
       "  </thead>\n",
       "  <tbody>\n",
       "    <tr>\n",
       "      <th>0</th>\n",
       "      <td>AL123456.3@Rv2242</td>\n",
       "      <td>99</td>\n",
       "      <td>59</td>\n",
       "      <td>1</td>\n",
       "      <td>81</td>\n",
       "    </tr>\n",
       "    <tr>\n",
       "      <th>1</th>\n",
       "      <td>AL123456.3@Rv0096</td>\n",
       "      <td>35</td>\n",
       "      <td>108</td>\n",
       "      <td>1</td>\n",
       "      <td>27</td>\n",
       "    </tr>\n",
       "    <tr>\n",
       "      <th>2</th>\n",
       "      <td>Rv2245</td>\n",
       "      <td>100</td>\n",
       "      <td>0</td>\n",
       "      <td>0</td>\n",
       "      <td>8</td>\n",
       "    </tr>\n",
       "    <tr>\n",
       "      <th>3</th>\n",
       "      <td>AL123456.3@Rv0097</td>\n",
       "      <td>34</td>\n",
       "      <td>18</td>\n",
       "      <td>1</td>\n",
       "      <td>26</td>\n",
       "    </tr>\n",
       "    <tr>\n",
       "      <th>4</th>\n",
       "      <td>AL123456.3@Rv0360c</td>\n",
       "      <td>100</td>\n",
       "      <td>82</td>\n",
       "      <td>1</td>\n",
       "      <td>79</td>\n",
       "    </tr>\n",
       "    <tr>\n",
       "      <th>...</th>\n",
       "      <td>...</td>\n",
       "      <td>...</td>\n",
       "      <td>...</td>\n",
       "      <td>...</td>\n",
       "      <td>...</td>\n",
       "    </tr>\n",
       "    <tr>\n",
       "      <th>93</th>\n",
       "      <td>AL123456.3@Rv0926c</td>\n",
       "      <td>92</td>\n",
       "      <td>53</td>\n",
       "      <td>1</td>\n",
       "      <td>62</td>\n",
       "    </tr>\n",
       "    <tr>\n",
       "      <th>94</th>\n",
       "      <td>AL123456.3@Rv0154c</td>\n",
       "      <td>96</td>\n",
       "      <td>423</td>\n",
       "      <td>1</td>\n",
       "      <td>77</td>\n",
       "    </tr>\n",
       "    <tr>\n",
       "      <th>95</th>\n",
       "      <td>AL123456.3@Rv0552</td>\n",
       "      <td>70</td>\n",
       "      <td>77</td>\n",
       "      <td>1</td>\n",
       "      <td>58</td>\n",
       "    </tr>\n",
       "    <tr>\n",
       "      <th>96</th>\n",
       "      <td>AL123456.3@Rv3772</td>\n",
       "      <td>98</td>\n",
       "      <td>77</td>\n",
       "      <td>1</td>\n",
       "      <td>81</td>\n",
       "    </tr>\n",
       "    <tr>\n",
       "      <th>97</th>\n",
       "      <td>Rv0408</td>\n",
       "      <td>97</td>\n",
       "      <td>0</td>\n",
       "      <td>0</td>\n",
       "      <td>47</td>\n",
       "    </tr>\n",
       "  </tbody>\n",
       "</table>\n",
       "<p>98 rows × 5 columns</p>\n",
       "</div>"
      ],
      "text/plain": [
       "        Downstream CDS  num_hits  upstream_region_length  tb_hit  \\\n",
       "0    AL123456.3@Rv2242        99                      59       1   \n",
       "1    AL123456.3@Rv0096        35                     108       1   \n",
       "2               Rv2245       100                       0       0   \n",
       "3    AL123456.3@Rv0097        34                      18       1   \n",
       "4   AL123456.3@Rv0360c       100                      82       1   \n",
       "..                 ...       ...                     ...     ...   \n",
       "93  AL123456.3@Rv0926c        92                      53       1   \n",
       "94  AL123456.3@Rv0154c        96                     423       1   \n",
       "95   AL123456.3@Rv0552        70                      77       1   \n",
       "96   AL123456.3@Rv3772        98                      77       1   \n",
       "97              Rv0408        97                       0       0   \n",
       "\n",
       "    num_upstream_regions  \n",
       "0                     81  \n",
       "1                     27  \n",
       "2                      8  \n",
       "3                     26  \n",
       "4                     79  \n",
       "..                   ...  \n",
       "93                    62  \n",
       "94                    77  \n",
       "95                    58  \n",
       "96                    81  \n",
       "97                    47  \n",
       "\n",
       "[98 rows x 5 columns]"
      ]
     },
     "execution_count": 92,
     "metadata": {},
     "output_type": "execute_result"
    }
   ],
   "source": [
    "hit_info_df"
   ]
  },
  {
   "cell_type": "markdown",
   "id": "961e4bbc-73cd-40c7-8760-543814205591",
   "metadata": {},
   "source": [
    "##### Motif analysis"
   ]
  },
  {
   "cell_type": "code",
   "execution_count": null,
   "id": "c35d0819-f0c4-484c-8ad4-f87d15a73fc2",
   "metadata": {},
   "outputs": [],
   "source": [
    "seq_ids = util.list_dirs(project_dir)\n",
    "out_list = []\n",
    "for id in seq_ids:\n",
    "    if os.path.exists(project_dir + '/Intergenic_Regions/' + str(id) + '/rscape_.cov'):\n",
    "        with open(project_dir + '/Intergenic_Regions/' + str(id) + '/rscape_.cov', 'r') as f:  \n",
    "            num_pairs = 0\n",
    "            e_values = []\n",
    "            for l in f:\n",
    "                if (not ('#' in l)):\n",
    "                    a = l.split()\n",
    "                    num_pairs +=1\n",
    "            out_list.append((id, num_pairs))\n",
    "out_list.sort(key = lambda x: x[0])\n",
    "out_list"
   ]
  },
  {
   "cell_type": "code",
   "execution_count": 29,
   "id": "dbd1e1ef-601b-40a4-9428-85db90ebdb64",
   "metadata": {},
   "outputs": [],
   "source": [
    "downreg_genes = pd.read_excel(project_dir + '/2022-10-02_data.xlsx', sheet_name = 'significnat genes downregulated')\n",
    "downreg_gene_list = []\n",
    "for i, r in downreg_genes.iterrows():\n",
    "    downreg_gene_list.append(r['Locus'])"
   ]
  },
  {
   "cell_type": "code",
   "execution_count": 30,
   "id": "89d622c9-1b34-4a9b-b0f9-4d95ebf8d669",
   "metadata": {},
   "outputs": [
    {
     "name": "stderr",
     "output_type": "stream",
     "text": [
      "100%|██████████| 72/72 [00:00<?, ?it/s]\n"
     ]
    }
   ],
   "source": [
    "downreg_gene_upstream_tb_regions = []\n",
    "for gene in downreg_gene_list:\n",
    "    locus = tb_species + '@' + str(gene)\n",
    "    if locus in mycobacteria_upstream_dict:\n",
    "        upstream_region = mycobacteria_upstream_dict[locus][3]#[:-3]  # Remove start codon of downstream gene\n",
    "        if len(upstream_region) > 5:\n",
    "            downreg_gene_upstream_tb_regions.append([locus, upstream_region])\n",
    "util.produce_fasta_file(downreg_gene_upstream_tb_regions, project_dir + '/downreg_gene_upstream_tb_regions.faa')"
   ]
  },
  {
   "cell_type": "code",
   "execution_count": 31,
   "id": "41d4fb2a-71f3-4a6e-b0b9-b69f40973578",
   "metadata": {},
   "outputs": [
    {
     "data": {
      "text/plain": [
       "CompletedProcess(args='wsl export PATH=$HOME/meme/bin:$HOME/meme/libexec/meme-5.4.1:usr/bin:$PATH ; meme \"/mnt/f/Project_Data/mabR_Project/downreg_gene_upstream_tb_regions.faa\" -oc \"/mnt/f/Project_Data/mabR_Project/downreg_meme_result\" -dna -evt 0.01 -mod anr -brief 4000 -minw 3 -maxw 200 -minsites 5', returncode=0)"
      ]
     },
     "execution_count": 31,
     "metadata": {},
     "output_type": "execute_result"
    }
   ],
   "source": [
    "min_width = 3\n",
    "min_sites = 5\n",
    "subprocess.run('wsl export PATH=$HOME/meme/bin:$HOME/meme/libexec/meme-5.4.1:usr/bin:$PATH ; meme \\\"/mnt/f/Project_Data/mabR_Project/downreg_gene_upstream_tb_regions.faa\" -oc \\\"/mnt/f/Project_Data/mabR_Project/downreg_meme_result\" -dna -evt 0.01 -mod anr -brief 4000 -minw ' + str(min_width) +' -maxw 200 -minsites ' + str(min_sites)\n",
    "               , shell=True)\n",
    "      "
   ]
  },
  {
   "cell_type": "code",
   "execution_count": null,
   "id": "fa91ee65-3f9b-43b9-ace9-0b1d23f58da5",
   "metadata": {},
   "outputs": [],
   "source": [
    "print(meme \\\"/mnt/f/Project_Data/mabR_Project/downreg_gene_upstream_tb_regions.faa\" -oc \\\"/mnt/d/Project_Data/mabR_Project/downreg_meme_result\" -dna -evt 0.01 -mod zoops -brief 4000 -minw ' + str(min_width) +' -maxw 200 -minsites ' + str(min_sites)"
   ]
  },
  {
   "cell_type": "code",
   "execution_count": 26,
   "id": "056dd183-7ec3-4b6c-855f-d002d08edafd",
   "metadata": {},
   "outputs": [
    {
     "data": {
      "text/plain": [
       "4411532"
      ]
     },
     "execution_count": 26,
     "metadata": {},
     "output_type": "execute_result"
    }
   ],
   "source": [
    "for record in SeqIO.parse(mycobacteria_seq_dir + '/' + tb_annotation_dirname +'/genomic.gbff', \"genbank\"):\n",
    "    full_sequence = str(record.seq)\n",
    "len(full_sequence)"
   ]
  },
  {
   "cell_type": "code",
   "execution_count": 27,
   "id": "d79e3b6d-73f7-44d8-bc18-099a8072b642",
   "metadata": {},
   "outputs": [
    {
     "data": {
      "text/plain": [
       "'GTGAACGACAATCAGTTGGCTCCAGTTGCCCGCCCGAGGTCGCCGCTCGAACTGCTGGACACTGTGCCCGATTCGCTGCTGCGGCGGTTGAAGCAGTACTCGGGCCGGCTGGCCACCGAGGCAGTTTCGGCCATGCAAGAACGGTTGCCGTTCTTCGCCGACCTAGAAGCGTCCCAGCGCGCCAGCGTGGCGCTGGTGGTGCAGACGGCCGTGGTCAACTTCGTCGAATGGATGCACGACCCGCACAGTGACGTCGGCTATACCGCGCAGGCATTCGAGCTGGTGCCCCAGGATCTGACGCGACGGATCGCGCTGCGCCAGACCGTGGACATGGTGCGGGTCACCATGGAGTTCTTCGAAGAAGTCGTGCCCCTGCTCGCCCGTTCCGAAGAGCAGTTGACCGCCCTCACGGTGGGCATTTTGAAATACAGCCGCGACCTGGCATTCACCGCCGCCACGGCCTACGCCGATGCGGCCGAGGCACGAGGCACCTGGGACAGCCGGATGGAGGCCAGCGTGGTGGACGCGGTGGTACGCGGCGACACCGGTCCCGAGCTGCTGTCCCGGGCGGCCGCGCTGAATTGGGACACCACCGCGCCGGCGACCGTACTGGTGGGAACTCCGGCGCCCGGTCCAAATGGCTCCAACAGCGACGGCGACAGCGAGCGGGCCAGCCAGGATGTCCGCGACACCGCGGCTCGCCACGGCCGCGCTGCGCTGACCGACGTGCACGGCACCTGGCTGGTGGCGATCGTCTCCGGCCAGCTGTCGCCAACCGAGAAGTTCCTCAAAGACCTGCTGGCAGCATTCGCCGACGCCCCGGTGGTCATCGGCCCCACGGCGCCCATGCTGACCGCGGCGCACCGCAGCGCTAGCGAGGCGATCTCCGGGATGAACGCCGTCGCCGGCTGGCGCGGAGCGCCGCGGCCCGTGCTGGCTAGGGAACTTTTGCCCGAACGCGCCCTGATGGGCGACGCCTCGGCGATCGTGGCCCTGCATACCGACGTGATGCGGCCCCTAGCCGATGCCGGACCGACGCTCATCGAGACGCTAGACGCATATCTGGATTGTGGCGGCGCGATTGAAGCTTGTGCCAGAAAGTTGTTCGTTCATCCAAACACAGTGCGGTACCGGCTCAAGCGGATCACCGACTTCACCGGGCGCGATCCCACCCAGCCACGCGATGCCTATGTCCTTCGGGTGGCGGCCACCGTGGGTCAACTCAACTATCCGACGCCGCACTGA'"
      ]
     },
     "execution_count": 27,
     "metadata": {},
     "output_type": "execute_result"
    }
   ],
   "source": [
    "full_sequence[2515303:2516548]"
   ]
  },
  {
   "cell_type": "code",
   "execution_count": 35,
   "id": "41ca2578-e972-42d5-9ce6-fb84420149a8",
   "metadata": {},
   "outputs": [
    {
     "name": "stdout",
     "output_type": "stream",
     "text": [
      "3691127\n"
     ]
    }
   ],
   "source": [
    "n = 11\n",
    "motif = util.reverse_complement('GGGAAAGCTTA')\n",
    "for  i in range(len(full_sequence) - n):\n",
    "    if full_sequence[i: i+n] == motif:\n",
    "        print(i)"
   ]
  },
  {
   "cell_type": "code",
   "execution_count": null,
   "id": "f481c240-8af7-4482-91ea-8e1fc4f657d7",
   "metadata": {},
   "outputs": [],
   "source": []
  }
 ],
 "metadata": {
  "kernelspec": {
   "display_name": "Python 3 (ipykernel)",
   "language": "python",
   "name": "python3"
  },
  "language_info": {
   "codemirror_mode": {
    "name": "ipython",
    "version": 3
   },
   "file_extension": ".py",
   "mimetype": "text/x-python",
   "name": "python",
   "nbconvert_exporter": "python",
   "pygments_lexer": "ipython3",
   "version": "3.9.7"
  }
 },
 "nbformat": 4,
 "nbformat_minor": 5
}
