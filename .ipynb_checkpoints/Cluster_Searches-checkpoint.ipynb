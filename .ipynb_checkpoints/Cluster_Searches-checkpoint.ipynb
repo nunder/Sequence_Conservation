{
 "cells": [
  {
   "cell_type": "code",
   "execution_count": 37,
   "id": "e8b5f772-b2f8-4d99-a13a-74e58655de17",
   "metadata": {},
   "outputs": [],
   "source": [
    "import pandas as pd\n",
    "import os\n",
    "import subprocess\n",
    "from Comparative_Analysis import Utilities as util\n",
    "from tqdm.auto import tqdm\n",
    "import re\n",
    "import pickle\n",
    "import numpy as np\n",
    "from sklearn.cluster import AgglomerativeClustering\n",
    "import seaborn as sns\n",
    "from Bio import Entrez, SeqIO, AlignIO, pairwise2, Align, Seq, motifs\n",
    "from Bio.Seq import Seq\n",
    "from Bio.SeqFeature import SeqFeature, FeatureLocation"
   ]
  },
  {
   "cell_type": "code",
   "execution_count": 34,
   "id": "6bd4e060-cc1a-40ee-b5bb-7f693d08ac73",
   "metadata": {
    "tags": []
   },
   "outputs": [],
   "source": [
    "project_dir = 'D:/Project_Data/Project_8'\n",
    "r_scape_output_loc = project_dir + '/RScape_Run_Thoth_3'\n",
    "intergenic_regions = util.list_dirs(r_scape_output_loc)\n",
    "full_run = True\n",
    "project_dir = 'D:/Project_Data/Project_8'\n",
    "datasets_dir = project_dir + '/Datasets'\n",
    "output_dir = project_dir + '/Output'\n",
    "seq_dir = 'D:/Actinobacteria_Ref_Rep_Lev_Complete'\n",
    "num_cores = 16\n",
    "core_numbers = list(range(1, num_cores+1))\n",
    "reference_species_filename = 'GCF_000195955.2_ASM19595v2_genomic.gbff'\n",
    "species_list = util.list_files(seq_dir)\n",
    "reference_species_name = 'Mycobacterium tuberculosis H37Rv'"
   ]
  },
  {
   "cell_type": "code",
   "execution_count": 29,
   "id": "bdd721d4-49be-4231-85bc-bb2bf067c3c4",
   "metadata": {},
   "outputs": [],
   "source": [
    "def ortholog_in_reference(accession_locus, ref_ortholog_dict):\n",
    "    if accession_locus in ref_ortholog_dict:\n",
    "        return ref_ortholog_dict[accession_locus].split('@')[1]\n",
    "    else:\n",
    "        return 'NO_ORTHOLOG'"
   ]
  },
  {
   "cell_type": "code",
   "execution_count": 38,
   "id": "dc01d15f-e27f-4e29-a3eb-a44369c07e6d",
   "metadata": {},
   "outputs": [],
   "source": [
    "with open(output_dir + '/Blast_Output/reciprocal_best_hits.pkl', 'rb') as f:\n",
    "    rbh_results = pickle.load(f)\n",
    "ref_ortholog_dict = {}\n",
    "for i, r in rbh_results.iterrows():\n",
    "    ref_ortholog_dict[r['target_ref']] = r['query_ref'] \n",
    "with open(output_dir + '/gene_info_dict.pkl', 'rb') as f:\n",
    "    gene_info_dict = pickle.load(f) \n",
    "with open(output_dir + '/names_dict.pkl', 'rb') as f:\n",
    "    names_dict = pickle.load(f) "
   ]
  },
  {
   "cell_type": "code",
   "execution_count": 59,
   "id": "5a37b960-a4c0-4dcc-8d5d-e39c5df6e932",
   "metadata": {},
   "outputs": [],
   "source": [
    "genome_record = next(SeqIO.parse(seq_dir + '/' + reference_species_filename, \"genbank\"))\n",
    "product_dict = {}\n",
    "for feature in genome_record.features:\n",
    "    if not(feature.type == 'gene'):\n",
    "        a = feature.qualifiers\n",
    "        if a.get(\"locus_tag\")!= None and a.get(\"product\")!=None:\n",
    "            product_dict[a.get(\"locus_tag\")[0]] = a.get(\"product\")[0]"
   ]
  },
  {
   "cell_type": "code",
   "execution_count": 30,
   "id": "1eed8e56-f6db-4fdf-a2ab-798c4acb16b6",
   "metadata": {},
   "outputs": [],
   "source": [
    "def generate_hit_dictionary(locus_id):\n",
    "    genome_record = next(SeqIO.parse(seq_dir + '/' + reference_species_filename, \"genbank\"))\n",
    "    full_sequence = str(genome_record.seq)\n",
    "    with open(r_scape_output_loc + '/' + locus_id + '/summary.txt', 'r') as f:  \n",
    "                    hit_dict = {}\n",
    "                    ref_count = 0\n",
    "                    tot_count = 0\n",
    "                    for l in f:\n",
    "                        if (not ('#' in l)):\n",
    "                            a = l.split()\n",
    "                            accession = a[0]\n",
    "                            species = names_dict[a[0]]\n",
    "                            seq_from = int(a[7])\n",
    "                            seq_to = int(a[8])\n",
    "                            seq_strand = a[9]\n",
    "                            significant = a[16]\n",
    "                            start = min(seq_from,seq_to)\n",
    "                            stop = max(seq_from,seq_to)\n",
    "                            if (significant == '!'):\n",
    "                                tot_count+=1\n",
    "                                feature_list = gene_info_dict[accession]  \n",
    "                                feature_list.sort(key=lambda x: x[1])\n",
    "                                max_pct_cover = -1\n",
    "                                max_feature = []\n",
    "                                for feature in feature_list:\n",
    "                                    if feature[1] > stop:      #No point to continue as subsequent features are all after the stop \n",
    "                                        continue\n",
    "                                    if feature[1] < (stop - 1) and feature[2] >= (start - 1):\n",
    "                                        len_feature = feature[2] - feature[1]\n",
    "                                        pct_cover = (min(feature[2], stop) - max(feature[1], start)) / (stop - start)\n",
    "                                        if pct_cover > 0.05 and len_feature < 100000:\n",
    "                                            if pct_cover > max_pct_cover:\n",
    "                                                max_feature = feature\n",
    "                                                max_pct_cover = pct_cover\n",
    "                                if len(max_feature) > 0:\n",
    "                                    if max_feature[0][-2:] == 'IG':\n",
    "                                        region_type = 'IG'\n",
    "                                        previous_gene = max_feature[3]\n",
    "                                        next_gene = max_feature[4]\n",
    "                                        output = []\n",
    "                                        if previous_gene[1] == 1:\n",
    "                                            output.append(('Upstream gene', ortholog_in_reference(accession + '@' + previous_gene[0], ref_ortholog_dict), a[15], max_pct_cover, seq_from, seq_to)) \n",
    "                                        else:\n",
    "                                             output.append(('Downstream gene', ortholog_in_reference(accession + '@' + previous_gene[0], ref_ortholog_dict), a[15], max_pct_cover, seq_from, seq_to))  \n",
    "\n",
    "                                        if next_gene[1] == 1:\n",
    "                                            output.append(('Downstream gene', ortholog_in_reference(accession + '@' + next_gene[0], ref_ortholog_dict), a[15], max_pct_cover, seq_from, seq_to)) \n",
    "                                        else:\n",
    "                                            output.append(('Upstream gene', ortholog_in_reference(accession + '@' + next_gene[0], ref_ortholog_dict), a[15], max_pct_cover, seq_from, seq_to))\n",
    "                                        if species in hit_dict:\n",
    "                                            #hit_dict[species].append(output)\n",
    "                                            hit_dict[species] = hit_dict[species] + output\n",
    "                                        else:\n",
    "                                            hit_dict[species] = output\n",
    "    return hit_dict"
   ]
  },
  {
   "cell_type": "code",
   "execution_count": 3,
   "id": "5290117d-f88d-4728-9987-5b19a64d2520",
   "metadata": {},
   "outputs": [],
   "source": [
    "def overlap_metric(positions_1, positions_2):\n",
    "    if len(positions_1) < len(positions_2):\n",
    "        a = positions_1\n",
    "        b = positions_2\n",
    "    else:\n",
    "        a = positions_2\n",
    "        b = positions_1\n",
    "    num_comparisons = len(a)\n",
    "    num_overlaps = 0\n",
    "    for coord_1 in a:\n",
    "        for coord_2 in b:\n",
    "            x, y = np.argsort(coord_1+coord_2)[:2] > 1\n",
    "            if x != y:\n",
    "                num_overlaps += 1\n",
    "                break\n",
    "    return 1 - num_overlaps / num_comparisons"
   ]
  },
  {
   "cell_type": "code",
   "execution_count": 4,
   "id": "3574cc3b-a5f4-4592-a93e-c87fb982ef7d",
   "metadata": {},
   "outputs": [
    {
     "data": {
      "text/plain": [
       "1821"
      ]
     },
     "execution_count": 4,
     "metadata": {},
     "output_type": "execute_result"
    }
   ],
   "source": [
    "ids =  util.list_dirs(r_scape_output_loc)\n",
    "len(ids)"
   ]
  },
  {
   "cell_type": "code",
   "execution_count": 5,
   "id": "2dd593d4-f5b0-4de1-90a5-3503b9a037d1",
   "metadata": {},
   "outputs": [
    {
     "data": {
      "text/plain": [
       "0.5"
      ]
     },
     "execution_count": 5,
     "metadata": {},
     "output_type": "execute_result"
    }
   ],
   "source": [
    "overlap_metric([[0,100],[2000,3000]], [[40,50],[250,450],[0,1]])"
   ]
  },
  {
   "cell_type": "code",
   "execution_count": 7,
   "id": "c3487234-a72f-475a-a289-07dc6de579b4",
   "metadata": {},
   "outputs": [],
   "source": [
    "positions_list = []\n",
    "for id in ids:\n",
    "    locus = id\n",
    "    if os.path.isfile(r_scape_output_loc + '/' + id + '/rscape_3.cacofold.power'):\n",
    "        with open(r_scape_output_loc + '/' + id + '/rscape_3.cacofold.power', 'r') as f:\n",
    "            positions = []\n",
    "            for l in f:\n",
    "                if 'BPAIRS observed' in l:\n",
    "                    if int(l.split('covary ')[1]) > 10:\n",
    "                        positions = []\n",
    "                        with open(r_scape_output_loc + '/' + id + '/summary.txt', 'r') as g:\n",
    "                             for l in g:\n",
    "                                if not(l[0] == '#'): \n",
    "                                    a = l.split()\n",
    "                                    if a[16] == '!':\n",
    "                                        if a[0] == 'NC_000962.3':\n",
    "                                            positions.append((min(int(a[7]),int(a[8])), max(int(a[7]),int(a[8]))))\n",
    "        if len(positions)>0:\n",
    "            positions = set(positions)\n",
    "            positions_list.append((locus, positions))\n",
    "    "
   ]
  },
  {
   "cell_type": "code",
   "execution_count": 8,
   "id": "2bcca6a4-90b9-4da4-bfe0-6a1ece6592aa",
   "metadata": {},
   "outputs": [],
   "source": [
    "distance_matrix = np.zeros((len(positions_list), len(positions_list)))\n",
    "for i, (locus, positions) in enumerate(positions_list):\n",
    "    for j, (locus_2, positions_2) in enumerate(positions_list):\n",
    "        distance_matrix[i,j] = overlap_metric(positions, positions_2)"
   ]
  },
  {
   "cell_type": "code",
   "execution_count": 9,
   "id": "b0d2b0c2-6e90-4783-83b2-62e23a9b24a2",
   "metadata": {},
   "outputs": [
    {
     "data": {
      "text/plain": [
       "array([76, 49, 75, 22, 74, 73, 72, 97, 71, 82,  4,  4, 22, 70, 69, 81, 46,\n",
       "       46, 22, 46, 46, 16, 68, 16, 66, 65,  4,  4,  4, 85, 46,  9, 46, 84,\n",
       "       64, 63, 62, 46, 61, 60, 59,  4, 58, 57, 46, 56, 10, 55,  2, 54, 86,\n",
       "       46,  3, 53, 52, 46, 46, 51, 38, 46, 22, 50, 24, 48, 95, 10,  4, 46,\n",
       "       46, 46, 94,  5, 46,  1,  0,  7, 46, 93, 46, 91, 15,  2, 21,  2, 89,\n",
       "       87, 46, 42, 46, 10,  4,  4, 83, 40,  4, 79,  6, 96, 37,  4, 36, 35,\n",
       "       34, 67,  6, 46, 38, 15, 30, 46, 46,  4, 46,  9, 46, 46, 46,  1,  2,\n",
       "        1, 46,  4, 18, 10, 46,  0, 18, 46, 46, 28, 27, 92, 94,  8,  8,  1,\n",
       "       46,  7, 46, 26, 46, 25, 46,  7, 80, 46,  5,  8, 45, 46,  7, 47,  7,\n",
       "        4, 88, 41, 39,  7, 46, 46, 90,  9,  2, 46, 17, 33, 44,  3, 46, 29,\n",
       "       46,  4, 13, 46, 46, 46, 12, 23, 43, 19, 77, 46,  4, 46, 31, 46, 11,\n",
       "        2, 21, 46, 14, 46,  4,  7, 20, 32,  8, 78], dtype=int64)"
      ]
     },
     "execution_count": 9,
     "metadata": {},
     "output_type": "execute_result"
    }
   ],
   "source": [
    "clustering = AgglomerativeClustering(affinity=\"precomputed\",  linkage = 'average', distance_threshold = 0.2, n_clusters = None).fit_predict(distance_matrix)\n",
    "clustering"
   ]
  },
  {
   "cell_type": "code",
   "execution_count": 10,
   "id": "646b0f76-a097-48a7-ab1a-9c287459c946",
   "metadata": {},
   "outputs": [
    {
     "data": {
      "text/plain": [
       "<AxesSubplot:ylabel='Count'>"
      ]
     },
     "execution_count": 10,
     "metadata": {},
     "output_type": "execute_result"
    },
    {
     "data": {
      "image/png": "[encoded data removed]",
      "text/plain": [
       "<Figure size 432x288 with 1 Axes>"
      ]
     },
     "metadata": {
      "needs_background": "light"
     },
     "output_type": "display_data"
    }
   ],
   "source": [
    "sns.histplot(data = clustering, bins = 100)"
   ]
  },
  {
   "cell_type": "code",
   "execution_count": 135,
   "id": "0df665f3-7e67-4a0d-9cb8-4126df58618c",
   "metadata": {},
   "outputs": [],
   "source": [
    "cluster_hits = []\n",
    "num_clusters = max(clustering) + 1\n",
    "for i in range(num_clusters):\n",
    "    num_members = 0\n",
    "    members = []\n",
    "    co_ords = []\n",
    "    largest_hits = 0\n",
    "    largest_hit_member = ''\n",
    "    largest_hit_positions = []\n",
    "    for j, clust in enumerate(clustering):\n",
    "        \n",
    "        if clust == i:\n",
    "            num_members +=1\n",
    "            members.append(positions_list[j][0])\n",
    "            if len(positions_list[j][1]) > largest_hits:\n",
    "                largest_hits = len(positions_list[j][1])\n",
    "                co_ords = positions_list[j][1]\n",
    "                largest_hit_member = positions_list[j][0]\n",
    "    cluster_hits.append([i, largest_hits/num_members, num_members, members, co_ords, largest_hit_member, largest_hits])"
   ]
  },
  {
   "cell_type": "code",
   "execution_count": 137,
   "id": "85accdfe-f1ed-4de6-8776-7a9a9787d009",
   "metadata": {},
   "outputs": [
    {
     "name": "stdout",
     "output_type": "stream",
     "text": [
      "0 4.0 2 ['Rv1275', 'Rv2486'] Rv2486 []\n",
      "*******************\n",
      "Downstream\n",
      "Upstream\n",
      "1 2.0 4 ['Rv1260', 'Rv2297', 'Rv2394', 'Rv2695'] Rv2695 []\n",
      "*******************\n",
      "Downstream\n",
      "Upstream\n",
      "2 4.166666666666667 6 ['Rv0949', 'Rv1466', 'Rv1531', 'Rv2359', 'Rv3136A', 'Rv3547'] Rv3136A []\n",
      "*******************\n",
      "Downstream\n",
      "Upstream\n",
      "3 15.0 2 ['Rv1040c', 'Rv3185'] Rv1040c ['tRNA', 'tRNA', 'tRNA', 'tRNA', 'tRNA', 'tRNA', 'tRNA', 'tRNA', 'tRNA', 'tRNA', 'tRNA', 'tRNA', 'tRNA', 'tRNA', 'tRNA', 'tRNA', 'tRNA', 'tRNA', 'tRNA', 'tRNA', 'tRNA', 'tRNA', 'tRNA', 'tRNA', 'tRNA', 'tRNA', 'tRNA', 'tRNA', 'tRNA', 'tRNA']\n",
      "*******************\n",
      "Downstream\n",
      "Rv0634B 50S ribosomal protein L33 942\n",
      "Rv1626 two-component system transcriptional regulator 473\n",
      "Rv2462c trigger factor 353\n",
      "Rv0638 preprotein translocase SecE 335\n",
      "Rv1018c bifunctional UDP-N-acetylglucosamine pyrophosphorylase/glucosamine-1-phosphate N-acetyltransferase 263\n",
      "Rv0321 deoxycytidine triphosphate deaminase 259\n",
      "Rv2518c L,D-transpeptidase LdtB 235\n",
      "Rv3836 hypothetical protein 211\n",
      "Rv1292 arginine--tRNA ligase 192\n",
      "Rv0566c hypothetical protein 189\n",
      "Rv3772 histidinol-phosphate aminotransferase 163\n",
      "Rv1019 transcriptional regulator 160\n",
      "Rv1005c para-aminobenzoate synthase component I 138\n",
      "Rv1343c lipoprotein LprD 130\n",
      "Rv2342 hypothetical protein 124\n",
      "Rv3737 transmembrane protein 118\n",
      "Rv1072 transmembrane protein 101\n",
      "Upstream\n",
      "Rv0007 membrane protein 615\n",
      "Rv2511 oligoribonuclease 480\n",
      "Rv3193c transmembrane protein 381\n",
      "Rv2238c peroxiredoxin 265\n",
      "Rv3644c DNA polymerase 209\n",
      "Rv2419c glucosyl-3-phosphoglycerate phosphatase 193\n",
      "Rv0562 polyprenyl-diphosphate synthase GrcC 169\n",
      "Rv2989 transcriptional regulator 154\n",
      "Rv0996 transmembrane protein 137\n",
      "Rv0637 (3R)-hydroxyacyl-ACP dehydratase subunit HadC 118\n",
      "Rv2992c glutamate--tRNA ligase 118\n",
      "Rv2659c prophage integrase 111\n",
      "Rv2521 peroxiredoxin 108\n",
      "Rv1026 hypothetical protein 106\n",
      "Rv2224c carboxylesterase A 102\n",
      "4 2.176470588235294 17 ['MTB000141', 'MTB000150', 'Rv0480c', 'Rv0487', 'Rv0504c', 'Rv0823c', 'Rv1173', 'Rv1668c', 'Rv1682', 'Rv1729c', 'Rv1866', 'Rv2196', 'Rv2405', 'Rv2945c', 'Rv3217c', 'Rv3401', 'Rv3680'] Rv3401 []\n",
      "*******************\n",
      "Downstream\n",
      "Upstream\n",
      "5 6.5 2 ['Rv1228', 'Rv2873'] Rv1228 []\n",
      "*******************\n",
      "Downstream\n",
      "Upstream\n",
      "6 9.5 2 ['Rv1765A', 'Rv2024c'] Rv1765A []\n",
      "*******************\n",
      "Downstream\n",
      "Upstream\n",
      "7 2.142857142857143 7 ['Rv1295', 'Rv2764c', 'Rv2847c', 'Rv2920c', 'Rv2924c', 'Rv2980', 'Rv3711c'] Rv2764c []\n",
      "*******************\n",
      "Downstream\n",
      "Upstream\n",
      "8 5.0 4 ['Rv2679', 'Rv2689c', 'Rv2882c', 'Rv3870'] Rv2689c []\n",
      "*******************\n",
      "Downstream\n",
      "Upstream\n",
      "9 5.333333333333333 3 ['Rv0650', 'Rv2237', 'Rv3062'] Rv3062 []\n",
      "*******************\n",
      "Downstream\n",
      "Upstream\n",
      "10 10.0 4 ['Rv0916c', 'Rv1165', 'Rv1660', 'Rv2440c'] Rv1660 []\n",
      "*******************\n",
      "Downstream\n",
      "Upstream\n",
      "11 26.0 1 ['Rv3516'] Rv3516 []\n",
      "*******************\n",
      "Downstream\n",
      "Upstream\n",
      "12 1.0 1 ['Rv3339c'] Rv3339c ['SAM-IV']\n",
      "*******************\n",
      "Downstream\n",
      "Rv3340 O-acetylhomoserine sulfhydrylase 169\n",
      "Upstream\n",
      "13 1.0 1 ['Rv3221c'] Rv3221c []\n",
      "*******************\n",
      "Downstream\n",
      "Rv3221c acetyl-CoA carboxylase biotin carboxyl carrier protein subunit 157\n",
      "Upstream\n",
      "Rv3221A anti-sigma factor RshA 180\n",
      "14 1.0 1 ['Rv3642c'] Rv3642c []\n",
      "*******************\n",
      "Downstream\n",
      "Upstream\n"
     ]
    },
    {
     "ename": "KeyboardInterrupt",
     "evalue": "",
     "output_type": "error",
     "traceback": [
      "\u001b[1;31m---------------------------------------------------------------------------\u001b[0m",
      "\u001b[1;31mKeyboardInterrupt\u001b[0m                         Traceback (most recent call last)",
      "\u001b[1;32m~\\AppData\\Local\\Temp/ipykernel_3188/3230977393.py\u001b[0m in \u001b[0;36m<module>\u001b[1;34m\u001b[0m\n\u001b[0;32m      3\u001b[0m \u001b[1;32mfor\u001b[0m \u001b[0mcluster\u001b[0m \u001b[1;32min\u001b[0m \u001b[0mcluster_hits\u001b[0m\u001b[1;33m:\u001b[0m\u001b[1;33m\u001b[0m\u001b[1;33m\u001b[0m\u001b[0m\n\u001b[0;32m      4\u001b[0m     \u001b[0mrepresentative_member\u001b[0m \u001b[1;33m=\u001b[0m \u001b[0mcluster\u001b[0m\u001b[1;33m[\u001b[0m\u001b[1;36m5\u001b[0m\u001b[1;33m]\u001b[0m\u001b[1;33m\u001b[0m\u001b[1;33m\u001b[0m\u001b[0m\n\u001b[1;32m----> 5\u001b[1;33m     \u001b[0mhit_dict\u001b[0m \u001b[1;33m=\u001b[0m \u001b[0mgenerate_hit_dictionary\u001b[0m\u001b[1;33m(\u001b[0m\u001b[0mrepresentative_member\u001b[0m\u001b[1;33m)\u001b[0m\u001b[1;33m\u001b[0m\u001b[1;33m\u001b[0m\u001b[0m\n\u001b[0m\u001b[0;32m      6\u001b[0m     \u001b[0mRFAM_hits\u001b[0m \u001b[1;33m=\u001b[0m \u001b[1;33m[\u001b[0m\u001b[1;33m]\u001b[0m\u001b[1;33m\u001b[0m\u001b[1;33m\u001b[0m\u001b[0m\n\u001b[0;32m      7\u001b[0m     \u001b[1;32mfor\u001b[0m \u001b[0mcoord\u001b[0m \u001b[1;32min\u001b[0m \u001b[0mcluster\u001b[0m\u001b[1;33m[\u001b[0m\u001b[1;36m4\u001b[0m\u001b[1;33m]\u001b[0m\u001b[1;33m:\u001b[0m\u001b[1;33m\u001b[0m\u001b[1;33m\u001b[0m\u001b[0m\n",
      "\u001b[1;32m~\\AppData\\Local\\Temp/ipykernel_3188/860501650.py\u001b[0m in \u001b[0;36mgenerate_hit_dictionary\u001b[1;34m(locus_id)\u001b[0m\n\u001b[0;32m     20\u001b[0m                                 \u001b[0mtot_count\u001b[0m\u001b[1;33m+=\u001b[0m\u001b[1;36m1\u001b[0m\u001b[1;33m\u001b[0m\u001b[1;33m\u001b[0m\u001b[0m\n\u001b[0;32m     21\u001b[0m                                 \u001b[0mfeature_list\u001b[0m \u001b[1;33m=\u001b[0m \u001b[0mgene_info_dict\u001b[0m\u001b[1;33m[\u001b[0m\u001b[0maccession\u001b[0m\u001b[1;33m]\u001b[0m\u001b[1;33m\u001b[0m\u001b[1;33m\u001b[0m\u001b[0m\n\u001b[1;32m---> 22\u001b[1;33m                                 \u001b[0mfeature_list\u001b[0m\u001b[1;33m.\u001b[0m\u001b[0msort\u001b[0m\u001b[1;33m(\u001b[0m\u001b[0mkey\u001b[0m\u001b[1;33m=\u001b[0m\u001b[1;32mlambda\u001b[0m \u001b[0mx\u001b[0m\u001b[1;33m:\u001b[0m \u001b[0mx\u001b[0m\u001b[1;33m[\u001b[0m\u001b[1;36m1\u001b[0m\u001b[1;33m]\u001b[0m\u001b[1;33m)\u001b[0m\u001b[1;33m\u001b[0m\u001b[1;33m\u001b[0m\u001b[0m\n\u001b[0m\u001b[0;32m     23\u001b[0m                                 \u001b[0mmax_pct_cover\u001b[0m \u001b[1;33m=\u001b[0m \u001b[1;33m-\u001b[0m\u001b[1;36m1\u001b[0m\u001b[1;33m\u001b[0m\u001b[1;33m\u001b[0m\u001b[0m\n\u001b[0;32m     24\u001b[0m                                 \u001b[0mmax_feature\u001b[0m \u001b[1;33m=\u001b[0m \u001b[1;33m[\u001b[0m\u001b[1;33m]\u001b[0m\u001b[1;33m\u001b[0m\u001b[1;33m\u001b[0m\u001b[0m\n",
      "\u001b[1;32m~\\AppData\\Local\\Temp/ipykernel_3188/860501650.py\u001b[0m in \u001b[0;36m<lambda>\u001b[1;34m(x)\u001b[0m\n\u001b[0;32m     20\u001b[0m                                 \u001b[0mtot_count\u001b[0m\u001b[1;33m+=\u001b[0m\u001b[1;36m1\u001b[0m\u001b[1;33m\u001b[0m\u001b[1;33m\u001b[0m\u001b[0m\n\u001b[0;32m     21\u001b[0m                                 \u001b[0mfeature_list\u001b[0m \u001b[1;33m=\u001b[0m \u001b[0mgene_info_dict\u001b[0m\u001b[1;33m[\u001b[0m\u001b[0maccession\u001b[0m\u001b[1;33m]\u001b[0m\u001b[1;33m\u001b[0m\u001b[1;33m\u001b[0m\u001b[0m\n\u001b[1;32m---> 22\u001b[1;33m                                 \u001b[0mfeature_list\u001b[0m\u001b[1;33m.\u001b[0m\u001b[0msort\u001b[0m\u001b[1;33m(\u001b[0m\u001b[0mkey\u001b[0m\u001b[1;33m=\u001b[0m\u001b[1;32mlambda\u001b[0m \u001b[0mx\u001b[0m\u001b[1;33m:\u001b[0m \u001b[0mx\u001b[0m\u001b[1;33m[\u001b[0m\u001b[1;36m1\u001b[0m\u001b[1;33m]\u001b[0m\u001b[1;33m)\u001b[0m\u001b[1;33m\u001b[0m\u001b[1;33m\u001b[0m\u001b[0m\n\u001b[0m\u001b[0;32m     23\u001b[0m                                 \u001b[0mmax_pct_cover\u001b[0m \u001b[1;33m=\u001b[0m \u001b[1;33m-\u001b[0m\u001b[1;36m1\u001b[0m\u001b[1;33m\u001b[0m\u001b[1;33m\u001b[0m\u001b[0m\n\u001b[0;32m     24\u001b[0m                                 \u001b[0mmax_feature\u001b[0m \u001b[1;33m=\u001b[0m \u001b[1;33m[\u001b[0m\u001b[1;33m]\u001b[0m\u001b[1;33m\u001b[0m\u001b[1;33m\u001b[0m\u001b[0m\n",
      "\u001b[1;31mKeyboardInterrupt\u001b[0m: "
     ]
    }
   ],
   "source": [
    "rfam_df = pd.read_excel(datasets_dir+'/RFAM_Hits_H37Rv_sorted.xlsx')\n",
    "\n",
    "for cluster in cluster_hits:\n",
    "    representative_member = cluster[5]\n",
    "    hit_dict = generate_hit_dictionary(representative_member)\n",
    "    RFAM_hits = [] \n",
    "    for coord in cluster[4]:\n",
    "        start_coord = min(coord[0], coord[1])\n",
    "        end_coord = max(coord[0], coord[1])\n",
    "        for i, r in rfam_df.iterrows():\n",
    "            start = min(r['seq from'], r['seq to'])\n",
    "            stop = max(r['seq from'], r['seq to'])\n",
    "            match = 0\n",
    "            for feature in features:\n",
    "                if start_coord < stop and end_coord > start:\n",
    "                        RFAM_hits.append(r['target name'])\n",
    "                        break\n",
    "            \n",
    "    print(cluster[0], list(set(RFAM_hits)), cluster[1], cluster[2], cluster[3], representative_member)\n",
    "    print ('*******************')\n",
    "    upstream_dict = {}\n",
    "    downstream_dict = {}\n",
    "    for k, v in hit_dict.items():\n",
    "        for hit in v:\n",
    "            if hit[0] == 'Upstream gene':\n",
    "                if hit[1] in upstream_dict:\n",
    "                    upstream_dict[hit[1]] +=1\n",
    "                else:\n",
    "                    upstream_dict[hit[1]] = 1\n",
    "            else:\n",
    "                if hit[1] in downstream_dict:\n",
    "                    downstream_dict[hit[1]] +=1\n",
    "                else:\n",
    "                    downstream_dict[hit[1]] = 1\n",
    "    print(\"Downstream\")\n",
    "    for k, v in dict(sorted(downstream_dict.items(), key = lambda x: x[1], reverse=True)).items():\n",
    "        if k == 'NO_ORTHOLOG' or not(k in product_dict):\n",
    "            pass\n",
    "            #print(k, v)\n",
    "        elif v>100:\n",
    "            print(k, product_dict[k], v)\n",
    "    print(\"Upstream\")\n",
    "    for k, v in dict(sorted(upstream_dict.items(), key = lambda x: x[1], reverse=True)).items():\n",
    "        if k == 'NO_ORTHOLOG' or not(k in product_dict):\n",
    "            pass\n",
    "            #print(k, v)\n",
    "        elif v>100:\n",
    "            print(k, product_dict[k], v)"
   ]
  },
  {
   "cell_type": "code",
   "execution_count": 110,
   "id": "bc55c43b-fcd0-4bb1-93e3-8fa91f43ab93",
   "metadata": {},
   "outputs": [
    {
     "name": "stdout",
     "output_type": "stream",
     "text": [
      "NO_ORTHOLOG 489\n",
      "Rv2248 hypothetical protein 51\n",
      "Rv0468 3-hydroxybutyryl-CoA dehydrogenase 31\n",
      "Rv0528 transmembrane protein 30\n",
      "Rv2061c hypothetical protein 28\n",
      "Rv1202 succinyl-diaminopimelate desuccinylase DapE 26\n",
      "Rv1201c 2,3,4,5-tetrahydropyridine-2,6-dicarboxylate N-succinyltransferase 25\n",
      "Rv1659 argininosuccinate lyase 21\n",
      "Rv1059 hypothetical protein 19\n",
      "Rv3247c thymidylate kinase 18\n",
      "Rv0670 endonuclease IV 15\n",
      "Rv0255c cobyric acid synthase 14\n",
      "Rv0383c hypothetical protein 14\n",
      "Rv3010c 6-phosphofructokinase 14\n",
      "Rv1219c transcriptional regulator 14\n",
      "Rv0724 protease IV SppA 13\n",
      "Rv3041c ABC transporter ATP-binding protein 13\n",
      "Rv0081 HTH-type transcriptional regulator 11\n",
      "Rv3647c hypothetical protein 10\n",
      "Rv2522c hypothetical protein 10\n",
      "Rv0738 hypothetical protein 9\n",
      "Rv2795c hypothetical protein 8\n",
      "Rv3491 hypothetical protein 8\n",
      "Rv2449c trans-acting enoyl reductase 8\n",
      "Rv1096 glycosyl hydrolase 8\n",
      "Rv2188c alpha-(1-6)-phosphatidylinositol monomannoside mannosyltransferase 8\n",
      "Rv0859 acyltransferase 8\n",
      "Rv0214 fatty-acid--CoA ligase FadD4 8\n",
      "Rv3151 NADH-quinone oxidoreductase subunit G 8\n",
      "Rv0686 membrane protein 6\n",
      "Rv3409c cholesterol oxidase 6\n",
      "Rv3566A hypothetical protein 6\n",
      "Rv1179c hypothetical protein 6\n",
      "Rv0711 arylsulfatase AtsA 6\n",
      "Rv3306c amidase AmiB 6\n",
      "Rv3307 purine nucleoside phosphorylase 6\n",
      "Rv0926c hypothetical protein 6\n",
      "Rv1897c D-tyrosyl-tRNA(Tyr) deacylase 6\n",
      "Rv1931c transcriptional regulator 6\n",
      "Rv1832 glycine dehydrogenase 5\n",
      "Rv2089c dipeptidase PepE 5\n",
      "Rv2090 5'-3' exonuclease 5\n",
      "Rv1094 acyl-ACP desaturase DesA 5\n",
      "Rv3009c aspartyl/glutamyl-tRNA(Asn/Gln) amidotransferase subunit B 5\n",
      "Rv1005c para-aminobenzoate synthase component I 4\n",
      "Rv2860c glutamine synthetase 4\n",
      "Rv3060c GntR family transcriptional regulator 4\n",
      "Rv3141 NADPH quinone oxidoreductase FadB 4\n",
      "Rv3485c short-chain type dehydrogenase/reductase 4\n",
      "Rv2890c 30S ribosomal protein S2 4\n",
      "Rv0840c proline iminopeptidase 4\n",
      "Rv1726 oxidoreductase 4\n",
      "Rv0456c enoyl-CoA hydratase EchA2 4\n",
      "Rv3699 hypothetical protein 4\n",
      "Rv2242 hypothetical protein 3\n",
      "Rv0660c antitoxin MazE2 3\n",
      "Rv0687 NAD-dependent oxidoreductase 3\n",
      "Rv3330 penicillin-binding protein DacB 3\n",
      "Rv1132 hypothetical protein 3\n",
      "Rv1843c inosine-5'-monophosphate dehydrogenase 3\n",
      "Rv3395c hypothetical protein 3\n",
      "Rv2909c 30S ribosomal protein S16 2\n",
      "Rv0552 hypothetical protein 2\n",
      "Rv0548c 1,4-dihydroxy-2-naphthoyl-CoA synthase 2\n",
      "Rv1286 adenylyl-sulfate kinase 2\n",
      "Rv1134 hypothetical protein 2\n",
      "Rv2571c transmembrane protein 2\n",
      "Rv3340 O-acetylhomoserine sulfhydrylase 2\n",
      "Rv2749 hypothetical protein 2\n",
      "Rv0196 HTH-type transcriptional regulator 2\n",
      "Rv1913 hypothetical protein 2\n",
      "Rv0076c membrane protein 2\n",
      "Rv2266 cytochrome P450 Cyp124 2\n",
      "Rv1977 hypothetical protein 2\n",
      "Rv3027c GCN5-like N-acetyltransferase 2\n",
      "Rv0938 multifunctional non-homologous end joining DNA repair protein/ATP dependent DNA ligase LigD 2\n",
      "Rv3076 hypothetical protein 2\n",
      "Rv2405 hypothetical protein 2\n",
      "Rv1870c hypothetical protein 2\n",
      "Rv0307c hypothetical protein 2\n",
      "Rv0309 hypothetical protein 2\n",
      "Rv2223c carboxylesterase B 2\n",
      "Rv0197 oxidoreductase 2\n",
      "Rv0772 phosphoribosylamine--glycine ligase 2\n",
      "Rv0220 esterase LipC 2\n",
      "Rv0154c acyl-CoA dehydrogenase FadE2 2\n",
      "Rv1267c transcriptional regulator EmbR 2\n",
      "Rv3476c 2\n",
      "Rv1489 hypothetical protein 2\n",
      "Rv3698 hypothetical protein 2\n",
      "Rv2282c LysR family HTH-type transcriptional regulator 2\n",
      "Rv0254c bifunctional cobinamide kinase/cobinamide phosphate guanylyltransferase 2\n",
      "Rv1240 malate dehydrogenase 2\n",
      "Rv0321 deoxycytidine triphosphate deaminase 2\n",
      "Rv0839 hypothetical protein 2\n",
      "Rv3809c UDP-galactopyranose mutase 2\n",
      "Rv3811 hypothetical protein 2\n",
      "Rv2457c ATP-dependent CLP protease ATP-binding subunit ClpX 2\n",
      "Rv2918c bifunctional uridylyltransferase/uridylyl-removing enzyme 2\n",
      "Rv2627c hypothetical protein 2\n",
      "Rv0044c oxidoreductase 2\n",
      "Rv2342 hypothetical protein 2\n",
      "Rv1285 sulfate adenylyltransferase subunit 2 2\n",
      "Rv3519 hypothetical protein 2\n",
      "Rv2737c recombinase A 2\n",
      "Rv1350 3-oxoacyl-ACP reductase FabG 2\n",
      "Rv3443c 50S ribosomal protein L13 2\n",
      "Rv0648 alpha-mannosidase 2\n",
      "Rv3080c serine/threonine-protein kinase PknK 2\n",
      "Rv2421c nicotinate-nucleotide adenylyltransferase 2\n",
      "Rv3064c integral membrane protein 2\n",
      "Rv2606c pyridoxine biosynthesis protein 2\n",
      "Rv0972c acyl-CoA dehydrogenase fadE12 1\n",
      "Rv0651 50S ribosomal protein L10 1\n",
      "Rv0250c hypothetical protein 1\n",
      "Rv0438c molybdopterin molybdenumtransferase 1\n",
      "Rv1652 N-acetyl-gamma-glutamyl-phoshate reductase 1\n",
      "Rv1420 excinuclease ABC subunit UvrC 1\n",
      "Rv2556c hypothetical protein 1\n",
      "Rv0500B 1\n",
      "Rv2848c cobyrinic acid A,C-diamide synthase 1\n",
      "Rv0459 hypothetical protein 1\n",
      "Rv1639c hypothetical protein 1\n",
      "Rv0647c hypothetical protein 1\n"
     ]
    }
   ],
   "source": [
    "for k, v in dict(sorted(downstream_dict.items(), key = lambda x: x[1], reverse=True)).items():\n",
    "    if k == 'NO_ORTHOLOG' or not(k in product_dict):\n",
    "        print(k, v)\n",
    "    else:\n",
    "        print(k, product_dict[k], v)"
   ]
  },
  {
   "cell_type": "code",
   "execution_count": 13,
   "id": "76065f45-d555-4e07-9a5c-028a1a1bb0e4",
   "metadata": {},
   "outputs": [
    {
     "data": {
      "text/plain": [
       "<AxesSubplot:ylabel='Count'>"
      ]
     },
     "execution_count": 13,
     "metadata": {},
     "output_type": "execute_result"
    },
    {
     "data": {
      "image/png": "[encoded data removed]",
      "text/plain": [
       "<Figure size 432x288 with 1 Axes>"
      ]
     },
     "metadata": {
      "needs_background": "light"
     },
     "output_type": "display_data"
    }
   ],
   "source": [
    "sns.histplot(data = clustering, bins = 100)"
   ]
  },
  {
   "cell_type": "code",
   "execution_count": 92,
   "id": "28d157d1-320e-497d-b7ad-6e649d24313a",
   "metadata": {},
   "outputs": [],
   "source": [
    "mycobrowser_df = pd.read_excel(datasets_dir+'/Mycobrowser_Release_4.xlsx')\n",
    "features = []\n",
    "for i, r in mycobrowser_df.iterrows():\n",
    "    features.append([r['Locus'],r['Start'], r['Stop'], r['Product']])"
   ]
  },
  {
   "cell_type": "code",
   "execution_count": 93,
   "id": "1edfba93-6a61-491e-b6e2-f6d8ff3712dc",
   "metadata": {},
   "outputs": [],
   "source": [
    "rfam_df = pd.read_excel(datasets_dir+'/RFAM_Hits_H37Rv_sorted.xlsx')"
   ]
  },
  {
   "cell_type": "code",
   "execution_count": 100,
   "id": "cf5079ff-89cf-44a5-a777-f299ac0b1730",
   "metadata": {},
   "outputs": [
    {
     "name": "stdout",
     "output_type": "stream",
     "text": [
      "82 Glycine\n",
      "25 ydaO-yuaA\n",
      "17 Cobalamin\n",
      "13 M-box\n",
      "21 SAM-IV\n",
      "22 group-II-D1D4-4\n"
     ]
    }
   ],
   "source": [
    "rfam_df = pd.read_excel(datasets_dir+'/RFAM_Hits_H37Rv_sorted.xlsx')\n",
    "for i, r in rfam_df.iterrows():\n",
    "    start = min(r['seq from'], r['seq to'])\n",
    "    stop = max(r['seq from'], r['seq to'])\n",
    "    match = 0\n",
    "    for feature in features:\n",
    "        if feature[1] < stop and feature[2] > start:\n",
    "                match = 1\n",
    "    if match == 0:\n",
    "        print(r['#idx'], r['target name'], r[')\n",
    "    "
   ]
  },
  {
   "cell_type": "code",
   "execution_count": null,
   "id": "a06cca85-4eb2-4ccf-972e-5209ca7e6487",
   "metadata": {},
   "outputs": [],
   "source": []
  }
 ],
 "metadata": {
  "kernelspec": {
   "display_name": "Python 3 (ipykernel)",
   "language": "python",
   "name": "python3"
  },
  "language_info": {
   "codemirror_mode": {
    "name": "ipython",
    "version": 3
   },
   "file_extension": ".py",
   "mimetype": "text/x-python",
   "name": "python",
   "nbconvert_exporter": "python",
   "pygments_lexer": "ipython3",
   "version": "3.9.7"
  }
 },
 "nbformat": 4,
 "nbformat_minor": 5
}
