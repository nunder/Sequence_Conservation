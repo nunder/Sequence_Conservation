{
 "cells": [
  {
   "cell_type": "code",
   "execution_count": 48,
   "id": "7cb9434f-d706-4935-b257-5a3a8a45d5ec",
   "metadata": {},
   "outputs": [],
   "source": [
    "import ete3\n",
    "import numpy as np\n",
    "from scipy import linalg\n",
    "import Sequence_Analysis_Routines as sar\n",
    "import math"
   ]
  },
  {
   "cell_type": "code",
   "execution_count": 23,
   "id": "1f18a5be-7044-4309-a864-3a9bb63994f1",
   "metadata": {},
   "outputs": [],
   "source": [
    "project_dir = 'D:/Project_Data/Project_3'\n",
    "output_dir = project_dir + '/Output/Close_Species'\n",
    "outgroup_species = 'NC_008596.1'"
   ]
  },
  {
   "cell_type": "code",
   "execution_count": 24,
   "id": "5017d28a-5eb5-471a-b776-28c2cee069d8",
   "metadata": {},
   "outputs": [
    {
     "name": "stdout",
     "output_type": "stream",
     "text": [
      "\n",
      "   /-F\n",
      "  |\n",
      "--|      /-D\n",
      "  |   /-|\n",
      "  |  |   \\-E\n",
      "   \\-|\n",
      "     |      /-A\n",
      "     |   /-|\n",
      "      \\-|   \\-B\n",
      "        |\n",
      "         \\-C\n"
     ]
    }
   ],
   "source": [
    "master_tree = ete3.Tree(output_dir + '/Trees/Concatenated_JC_Tree.treefile')\n",
    "#print(master_tree)\n",
    "outgroup = master_tree.search_nodes(name= outgroup_species)[0]\n",
    "outgroup.delete()\n",
    "#master_tree.write(format=0, outfile= output_dir + '/Trees/test.treefile')  \n",
    "master_tree = ete3.Tree(\"(F:2.5,((D:0.5,E:0.5):2.0,((A:1,B:1):0.5, C:1.5):1):0.5);\" )\n",
    "print(master_tree)"
   ]
  },
  {
   "cell_type": "code",
   "execution_count": 49,
   "id": "22fcc788-5b5e-4d26-be5b-0fe87b76c35e",
   "metadata": {},
   "outputs": [],
   "source": [
    "def transition_prob(state_1, state_2, transition_matrix, branch_length):\n",
    "    #return linalg.expm(branch_length * transition_matrix)[state_1, state_2]\n",
    "    temp = math.exp(-4.0*branch_length/3.0)\n",
    "    if state_1 == state_2:\n",
    "        ans = 0.25 - 0.25 * temp\n",
    "    else:\n",
    "        ans = 0.25 * 0.75 * temp\n",
    "    return ans"
   ]
  },
  {
   "cell_type": "code",
   "execution_count": 26,
   "id": "838a6793-e160-46ad-b4f8-9bb3a0f296e3",
   "metadata": {},
   "outputs": [
    {
     "name": "stdout",
     "output_type": "stream",
     "text": [
      "0.001504767335103887\n"
     ]
    }
   ],
   "source": [
    "num_states = 3\n",
    "prior_probabilities = [1/3, 1/3, 1/3]\n",
    "initial_states = {\"A\": 0, \"B\": 1, \"C\": 0, \"D\": 2, \"E\": 2, \"F\": 1}\n",
    "prob_matrix = np.array([[-2,1,1],[1,-2,1],[1,1,-2]])\n",
    "nodes_under_consideration = []\n",
    "info_dict = {}\n",
    "num_nodes = 0\n",
    "for node in master_tree.traverse():\n",
    "    num_nodes+=1\n",
    "    if node.is_leaf():\n",
    "        nodes_under_consideration.append(node)\n",
    "        temp_probs = []\n",
    "        for s in range(num_states):\n",
    "            if initial_states[node.name] == s:\n",
    "                temp_probs.append(1)\n",
    "            else:\n",
    "                temp_probs.append(0)\n",
    "        info_dict[node] = temp_probs\n",
    "while(len(nodes_under_consideration) < num_nodes):\n",
    "    for n in nodes_under_consideration:\n",
    "        if n.up in info_dict:\n",
    "            continue\n",
    "        sibling_group = [n]\n",
    "        for p in n.get_sisters():\n",
    "            sibling_group.append(p)\n",
    "        num_not_in_dict = 0\n",
    "        for x in sibling_group:\n",
    "            if not(x in info_dict):\n",
    "                num_not_in_dict +=1\n",
    "        if num_not_in_dict == 0:\n",
    "            new_probs = []\n",
    "            for s in range(num_states):\n",
    "                temp_prob = 1\n",
    "                for x in sibling_group:\n",
    "                    branch_length = x.dist\n",
    "                    probs = info_dict[x]\n",
    "                    temp_prob_2 = 0\n",
    "                    for t in range(num_states):\n",
    "                        temp_prob_2 += transition_prob(s, t, prob_matrix, branch_length)*probs[t]\n",
    "                    temp_prob = temp_prob * temp_prob_2\n",
    "                new_probs.append(temp_prob)\n",
    "            info_dict[n.up] = new_probs\n",
    "    nodes_under_consideration = list(info_dict.keys()) \n",
    "for node in master_tree.traverse():\n",
    "    if node.is_root():\n",
    "        ans = 0\n",
    "        probs = info_dict[node]\n",
    "        for s in range(num_states):\n",
    "            ans = ans + prior_probabilities[s] * probs[s] \n",
    "#print(info_dict)\n",
    "print(ans)"
   ]
  },
  {
   "cell_type": "code",
   "execution_count": 45,
   "id": "31357b43-8d2a-4a23-83f3-c6df59c1d1cb",
   "metadata": {},
   "outputs": [
    {
     "data": {
      "text/plain": [
       "0.001504767335103887"
      ]
     },
     "execution_count": 45,
     "metadata": {},
     "output_type": "execute_result"
    }
   ],
   "source": [
    "state_list = [['A','B','C','D','E','F'],[0,1,0,2,2,1]]\n",
    "substitution_matrix = np.array([[-2,1,1],[1,-2,1],[1,1,-2]])\n",
    "sar.felsenstein_probability (state_list, 3, substitution_matrix, master_tree, 1)"
   ]
  },
  {
   "cell_type": "code",
   "execution_count": 50,
   "id": "91ced366-bf0e-4eea-a128-184effaaae7a",
   "metadata": {},
   "outputs": [],
   "source": [
    "for i in range(90000):\n",
    "    a = transition_prob(1,1,prob_matrix,1)"
   ]
  },
  {
   "cell_type": "code",
   "execution_count": null,
   "id": "c52e00eb-e4e2-45b0-89d3-000c304c169c",
   "metadata": {},
   "outputs": [],
   "source": []
  }
 ],
 "metadata": {
  "kernelspec": {
   "display_name": "Python 3 (ipykernel)",
   "language": "python",
   "name": "python3"
  },
  "language_info": {
   "codemirror_mode": {
    "name": "ipython",
    "version": 3
   },
   "file_extension": ".py",
   "mimetype": "text/x-python",
   "name": "python",
   "nbconvert_exporter": "python",
   "pygments_lexer": "ipython3",
   "version": "3.8.12"
  }
 },
 "nbformat": 4,
 "nbformat_minor": 5
}
