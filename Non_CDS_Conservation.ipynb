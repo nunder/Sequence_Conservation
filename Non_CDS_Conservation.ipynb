{
 "cells": [
  {
   "cell_type": "markdown",
   "id": "50da8fa4-e4d1-4e99-9df9-f2593cc0c057",
   "metadata": {},
   "source": [
    "##### Import modules and set up file locations"
   ]
  },
  {
   "cell_type": "code",
   "execution_count": 1,
   "id": "a3b889ee-319a-42bf-b247-4febba954254",
   "metadata": {},
   "outputs": [
    {
     "name": "stderr",
     "output_type": "stream",
     "text": [
      "C:\\Users\\nicho\\Anaconda3\\envs\\Projects\\lib\\site-packages\\ete3-3.1.2-py3.7.egg\\ete3\\evol\\parser\\codemlparser.py:221: SyntaxWarning: \"is\" with a literal. Did you mean \"==\"?\n",
      "C:\\Users\\nicho\\Anaconda3\\envs\\Projects\\lib\\site-packages\\ete3-3.1.2-py3.7.egg\\ete3\\evol\\parser\\codemlparser.py:221: SyntaxWarning: \"is\" with a literal. Did you mean \"==\"?\n"
     ]
    }
   ],
   "source": [
    "import Sequence_Analysis_Routines as sar\n",
    "import random\n",
    "from joblib import Parallel, delayed\n",
    "from scipy import optimize as opt\n",
    "from tqdm import tqdm\n",
    "import matplotlib.pyplot as plt\n",
    "import logomaker as lm\n",
    "import math\n",
    "import pandas as pd\n",
    "import subprocess\n",
    "import numpy as np\n",
    "import ete3;\n",
    "import pickle"
   ]
  },
  {
   "cell_type": "code",
   "execution_count": 2,
   "id": "773a1d9c-8b02-447d-8b4c-41e9d5d24f83",
   "metadata": {},
   "outputs": [],
   "source": [
    "project_dir = 'D:/Project_Data/Project_3'\n",
    "sonic_paranoid_run_name = 'Run_Without_Outgroup'\n",
    "outgroup_sonic_paranoid_run_name = 'Run_With_Outgroup'\n",
    "genome_datasets_dir = project_dir + '/Datasets/NCBI_Datasets_Close_Species/'\n",
    "output_dir = project_dir + '/Output/Close_Species'\n",
    "protein_fasta_output_loc = output_dir + '/Protein_Sequences'\n",
    "outgroup_protein_fasta_output_loc = output_dir + '/Protein_Sequences_With_Outgroup'\n",
    "sonic_paranoid_output_loc = output_dir + '/Sonic_Paranoid_Output'\n",
    "ortholog_file_ref = sonic_paranoid_output_loc + '/runs/' + sonic_paranoid_run_name + '/ortholog_groups/flat.ortholog_groups.tsv'\n",
    "outgroup_ortholog_file_ref = sonic_paranoid_output_loc + '/runs/' + outgroup_sonic_paranoid_run_name + '/ortholog_groups/flat.ortholog_groups.tsv'\n",
    "#single_copy_ortholog_file_ref = sonic_paranoid_output_loc + '/runs/' + sonic_paranoid_run_name + '/ortholog_groups/single-copy_groups.tsv'\n",
    "#outgroup_single_copy_ortholog_file_ref = sonic_paranoid_output_loc + '/runs/' + outgroup_sonic_paranoid_run_name + '/ortholog_groups/single-copy_groups.tsv'\n",
    "non_cds_output_dir = output_dir + '/Multiple_Alignment_Data/Non_CDS'\n",
    "upstream_non_cds_output_dir = output_dir + '/Multiple_Alignment_Data/Upstream_Non_CDS'\n",
    "cds_output_dir = output_dir + '/Multiple_Alignment_Data/CDS'\n",
    "outgroup_cds_output_dir = output_dir + '/Multiple_Alignment_Data/CDS_With_Outgroup'\n",
    "outgroup_concatenated_cds_output_dir = output_dir + '/Multiple_Alignment_Data/CDS_With_Outgroup_Concatenated'"
   ]
  },
  {
   "cell_type": "code",
   "execution_count": 3,
   "id": "56139988-efa1-4bb1-9cd3-4cdd90020453",
   "metadata": {},
   "outputs": [],
   "source": [
    "num_cores = 16\n",
    "offset = 50\n",
    "tb_species = 'GCF_000195955.2'\n",
    "outgroup_species = 'GCF_000696675.2'"
   ]
  },
  {
   "cell_type": "markdown",
   "id": "cf829bb3-e529-4170-ad7b-9d885d57f851",
   "metadata": {},
   "source": [
    "##### Determine genomes in ortholog family, generate protein files and run Sonic Paranoid (both with and without outgroup - outgroup needed for tree building)"
   ]
  },
  {
   "cell_type": "code",
   "execution_count": 4,
   "id": "df7a7627-bb45-4679-97ef-ed8f209447fb",
   "metadata": {},
   "outputs": [],
   "source": [
    "genome_ids_with_outgroup = sar.list_dirs(genome_datasets_dir)\n",
    "genome_ids = sar.list_dirs(genome_datasets_dir)\n",
    "genome_ids.remove(outgroup_species)\n",
    "num_ids = len(genome_ids)\n",
    "num_ids_with_outgroup = len(genome_ids_with_outgroup)"
   ]
  },
  {
   "cell_type": "code",
   "execution_count": 5,
   "id": "2be93725-4667-49ca-b2bc-430c0c7e9eae",
   "metadata": {},
   "outputs": [
    {
     "name": "stderr",
     "output_type": "stream",
     "text": [
      "100%|██████████| 11/11 [00:08<00:00,  1.30it/s]\n",
      "100%|██████████| 12/12 [00:09<00:00,  1.27it/s]\n"
     ]
    }
   ],
   "source": [
    "for folder in sar.tqdm(genome_ids):\n",
    "    sar.generate_protein_file(genome_datasets_dir + '/' + folder + '/genomic.gbff', protein_fasta_output_loc + '/' + folder + '.faa')\n",
    "for folder in sar.tqdm(genome_ids_with_outgroup):\n",
    "    sar.generate_protein_file(genome_datasets_dir + '/' + folder + '/genomic.gbff', outgroup_protein_fasta_output_loc + '/' + folder + '.faa')"
   ]
  },
  {
   "cell_type": "code",
   "execution_count": null,
   "id": "f828d159-34d6-4f7e-878c-e31b598573a8",
   "metadata": {},
   "outputs": [],
   "source": [
    "#sar.run_sonic_paranoid(protein_fasta_output_loc, sonic_paranoid_output_loc, sonic_paranoid_run_name)\n",
    "#sar.run_sonic_paranoid(outgroup_protein_fasta_output_loc, sonic_paranoid_output_loc, outgroup_sonic_paranoid_run_name)"
   ]
  },
  {
   "cell_type": "markdown",
   "id": "39369771-8cd9-4438-89a5-d426702ac448",
   "metadata": {},
   "source": [
    "##### Generate ortholog object and object containing sequence information for each ortholog group / species"
   ]
  },
  {
   "cell_type": "code",
   "execution_count": 6,
   "id": "051a50d7-e6dc-42a7-9675-e58d8ae157b6",
   "metadata": {},
   "outputs": [
    {
     "name": "stderr",
     "output_type": "stream",
     "text": [
      "100%|██████████| 84312/84312 [00:03<00:00, 22716.27it/s]\n",
      "100%|██████████| 84312/84312 [00:03<00:00, 22698.29it/s]\n"
     ]
    }
   ],
   "source": [
    "orthologs = sar.Ortholog_Grouping(ortholog_file_ref)\n",
    "outgroup_orthologs = sar.Ortholog_Grouping(outgroup_ortholog_file_ref)"
   ]
  },
  {
   "cell_type": "code",
   "execution_count": 7,
   "id": "5e9977fb-f334-4f33-a820-535d87f4105a",
   "metadata": {},
   "outputs": [
    {
     "name": "stderr",
     "output_type": "stream",
     "text": [
      "100%|██████████| 11/11 [00:24<00:00,  2.24s/it]\n",
      "100%|██████████| 12/12 [00:27<00:00,  2.26s/it]"
     ]
    },
    {
     "name": "stdout",
     "output_type": "stream",
     "text": [
      "                                    name          species\n",
      "0      Mycobacterium kansasii ATCC 12478  GCF_000157895.3\n",
      "0       Mycobacterium tuberculosis H37Rv  GCF_000195955.2\n",
      "0    Mycobacterium haemophilum DSM 44634  GCF_000340435.2\n",
      "0          Rhodococcus erythropolis R138  GCF_000696675.2\n",
      "0         Mycolicibacterium vaccae 95051  GCF_001655245.1\n",
      "0           Mycobacterium intracellulare  GCF_002285675.1\n",
      "0                   Mycobacterium cookii  GCF_010727945.1\n",
      "0             Mycobacterium shinjukuense  GCF_010730055.1\n",
      "0                    Mycobacterium lacus  GCF_010731535.1\n",
      "0                  Mycobacterium marinum  GCF_016745295.1\n",
      "0  Mycolicibacterium hassiacum DSM 44199  GCF_900603025.1\n",
      "0    Mycolicibacterium smegmatis MC2 155      NC_008596.1\n"
     ]
    },
    {
     "name": "stderr",
     "output_type": "stream",
     "text": [
      "\n"
     ]
    }
   ],
   "source": [
    "seq_data = sar.Ortholog_Sequence_Dataset(orthologs, genome_datasets_dir, genome_ids, offset, tb_species) \n",
    "outgroup_seq_data = sar.Ortholog_Sequence_Dataset(outgroup_orthologs, genome_datasets_dir, genome_ids_with_outgroup, offset, tb_species) \n",
    "print(outgroup_seq_data.species_info())"
   ]
  },
  {
   "cell_type": "markdown",
   "id": "60e3b630-5c42-499e-8389-5532f4dca58c",
   "metadata": {},
   "source": [
    "##### Perform CDS and non-CDS alignments for each full ortholog group and save to folders"
   ]
  },
  {
   "cell_type": "code",
   "execution_count": 8,
   "id": "7cb33f80-a608-425f-bf01-6a0fe7a77226",
   "metadata": {},
   "outputs": [
    {
     "name": "stderr",
     "output_type": "stream",
     "text": [
      "100%|██████████| 16/16 [00:00<00:00, 347.79it/s]\n"
     ]
    }
   ],
   "source": [
    "min_species = num_ids\n",
    "min_species_with_outgroup = num_ids_with_outgroup\n",
    "core_numbers = list(range(1, num_cores+1))\n",
    "groups = random.sample(orthologs.full_single_copy_ortholog_groups, len(orthologs.full_single_copy_ortholog_groups))  #Permutation ensures even distribution of processing speeds\n",
    "outgroup_groups = random.sample(outgroup_orthologs.full_single_copy_ortholog_groups, len(orthologs.full_single_copy_ortholog_groups))  #Permutation ensures even distribution of processing speeds\n",
    "#par = Parallel(n_jobs=-1)(delayed(sar.align_and_build)(outgroup_groups, num_cores, core_number, outgroup_seq_data.sequence_data, 'cds_length', 'cds_seq', outgroup_cds_output_dir+'/', min_species_with_outgroup) for core_number in tqdm(core_numbers))\n",
    "#par = Parallel(n_jobs=-1)(delayed(sar.align_and_build)(groups, num_cores, core_number, seq_data.sequence_data, 'cds_length', 'cds_seq', cds_output_dir+'/', min_species) for core_number in tqdm(core_numbers))\n",
    "#par = Parallel(n_jobs=-1)(delayed(sar.align_and_build)(groups, num_cores, core_number, seq_data.sequence_data, 'non_cds_offset_length', 'non_cds_offset_seq', non_cds_output_dir+'/', min_species) for core_number in tqdm(core_numbers))\n",
    "#par = Parallel(n_jobs=-1)(delayed(sar.align_and_build)(groups, num_cores, core_number, seq_data.sequence_data, 'upstream_non_cds_offset_length', 'upstream_non_cds_offset_seq', upstream_non_cds_output_dir+'/', min_species) for core_number in tqdm(core_numbers))"
   ]
  },
  {
   "cell_type": "markdown",
   "id": "4552a5b9-a396-450f-956b-0494d74e13af",
   "metadata": {},
   "source": [
    "##### Run IQTree on concatenated CDS alignments to generate tree"
   ]
  },
  {
   "cell_type": "code",
   "execution_count": null,
   "id": "42928a48-444f-4b46-a8eb-d668dd4565e4",
   "metadata": {},
   "outputs": [],
   "source": [
    "alignment_names = sar.list_files(outgroup_cds_output_dir)\n",
    "sar.concatenate_fasta(outgroup_cds_output_dir, alignment_names, outgroup_concatenated_cds_output_dir + '/concatenated_cds.fasta')\n",
    "#subprocess.run('cd \\\\users\\\\nicho\\\\IQTree & bin\\\\iqtree2 -s ' + outgroup_concatenated_cds_output_dir + '/concatenated_cds.fasta' + ' --prefix '+ output_dir + '/Trees/Concatenated_JC_Tree -m JC -B 1000 -T AUTO -o ' + outgroup_species, shell=True)"
   ]
  },
  {
   "cell_type": "markdown",
   "id": "39dee179-8981-413e-8d31-bce311d6a493",
   "metadata": {},
   "source": [
    "##### Calibrate Phylo HMM"
   ]
  },
  {
   "cell_type": "code",
   "execution_count": 9,
   "id": "eec170c4-4072-4d93-8fa7-1a1b1a78a412",
   "metadata": {},
   "outputs": [],
   "source": [
    "num_symbols = 4\n",
    "num_states = 3\n",
    "minimum_fit_length = 10"
   ]
  },
  {
   "cell_type": "code",
   "execution_count": 10,
   "id": "c33f67af-a5f0-460a-aca8-69f67060e42b",
   "metadata": {},
   "outputs": [],
   "source": [
    "tree = ete3.Tree(output_dir + '/Trees/Concatenated_JC_Tree.treefile')\n",
    "outgroup = tree.search_nodes(name= outgroup_species)[0]\n",
    "outgroup.delete()"
   ]
  },
  {
   "cell_type": "code",
   "execution_count": 11,
   "id": "3a5c2516-7883-42db-8c83-71b90ea49c1c",
   "metadata": {},
   "outputs": [
    {
     "name": "stderr",
     "output_type": "stream",
     "text": [
      "100%|██████████| 1327/1327 [00:00<00:00, 1535.81it/s]\n"
     ]
    }
   ],
   "source": [
    "alignment_ids = sar.list_files(non_cds_output_dir+'/')\n",
    "alignment_ids = [int(i.split('.')[0]) for i in alignment_ids]\n",
    "alignment_dict = {}\n",
    "for group_id in tqdm(alignment_ids):\n",
    "        alignment = sar.Alignment(non_cds_output_dir+'/'+str(group_id)+'.fasta', tb_species, 'NT')\n",
    "        alignment.modify_sequence(1, False, False)\n",
    "        alignment_dict[group_id] = alignment\n",
    "\n",
    "# Base sequence names on order in final alignment \n",
    "sequence_names = alignment.sequence_names\n",
    "master_species_index = alignment.master_species_index\n",
    "sequence_name_dict = {}\n",
    "for n in sequence_names:\n",
    "    sequence_name_dict[n] = sequence_names.index(n)"
   ]
  },
  {
   "cell_type": "code",
   "execution_count": null,
   "id": "b764a028-8904-4ec0-8b46-7f2e9026b126",
   "metadata": {},
   "outputs": [],
   "source": [
    "def parallel_fit_hmm (params):\n",
    "    core_numbers = range(1, num_cores+1)\n",
    "    a = Parallel(n_jobs=-1)(delayed(sar.fit_phylo_hmm)(tree, num_symbols, num_states, params, alignment_ids, alignment_dict, num_cores, core_number, offset, minimum_fit_length) for core_number in core_numbers)\n",
    "    print(params, sum(a))\n",
    "    return sum(a)  "
   ]
  },
  {
   "cell_type": "code",
   "execution_count": null,
   "id": "281accc1-bdda-4fb3-b14d-04ab596f6632",
   "metadata": {},
   "outputs": [],
   "source": [
    "#sar.fit_phylo_hmm(tree, num_symbols, num_states, [0.97, 0.97, 8,0.2], alignment_ids, alignment_dict, 16, 1, offset, minimum_fit_length)"
   ]
  },
  {
   "cell_type": "code",
   "execution_count": null,
   "id": "59e7e1f1-880f-4925-b5d6-6a55b8a2041e",
   "metadata": {},
   "outputs": [],
   "source": [
    "#res = opt.minimize(parallel_fit_hmm, (0.97, 0.97, 8,0.2), method = 'Nelder-Mead', bounds = ((0.001,0.999),(0.001,0.999),(0.001,10),(0.001,10)))"
   ]
  },
  {
   "cell_type": "markdown",
   "id": "2b8257ba-9a86-4789-86a7-defff13a3903",
   "metadata": {},
   "source": [
    "##### Fit Cons HMM"
   ]
  },
  {
   "cell_type": "code",
   "execution_count": null,
   "id": "db153df6-e6b8-4ff7-8604-6f81cfe121e4",
   "metadata": {},
   "outputs": [],
   "source": [
    "def parallel_fit_cons_hmm (params):\n",
    "    core_numbers = range(1, num_cores+1)\n",
    "    a = Parallel(n_jobs=-1)(delayed(sar.fit_cons_hmm)(num_symbols, num_states, params, alignment_ids, alignment_dict, num_cores, core_number, offset, minimum_fit_length, sequence_name_dict, master_species_index) for core_number in core_numbers)\n",
    "    print(params, sum(a))\n",
    "    return sum(a)  "
   ]
  },
  {
   "cell_type": "code",
   "execution_count": null,
   "id": "5d1a5f9d-bc38-4bfa-8b79-a293a874fb3b",
   "metadata": {},
   "outputs": [],
   "source": [
    "params = [0.9, 0.5, 0.9, 0.5, 0.9, 0.5, 0.9,0.2,0.2]\n",
    "bound_tuple = [(0.001,0.999),(0.001,0.999),(0.001,0.999),(0.001,0.999),(0.001,0.999),(0.001,0.999),(0.001,0.999),(0.001,0.999),(0.001,0.999)]"
   ]
  },
  {
   "cell_type": "code",
   "execution_count": null,
   "id": "82200c87-52e2-4f7e-b85d-c10048624d43",
   "metadata": {},
   "outputs": [],
   "source": [
    "#res = opt.minimize(parallel_fit_cons_hmm, params, method = 'Nelder-Mead', bounds = bound_tuple)"
   ]
  },
  {
   "cell_type": "code",
   "execution_count": 12,
   "id": "c7ed99fa-6a3f-4180-b38c-bdb8253c1ef5",
   "metadata": {},
   "outputs": [],
   "source": [
    "#fitted_parameters = [0.96731688, 0.92605748, 8.4243919,  1.26477696]  #Forward three state phylo\n",
    "fitted_parameters = [0.95369268, 0.60983828, 0.83517505, 0.22289673, 0.79386769, 0.1580283, 0.89283101, 0.56297521, 0.14392359] \n",
    "#fitted_parameters = res.x"
   ]
  },
  {
   "cell_type": "markdown",
   "id": "7bd80c7d-b15d-4a58-b6bb-e26fe8ea1327",
   "metadata": {},
   "source": [
    "##### Remove portions of alignment gapped for TB and prepare data to plot entropies and logos and estimate conserved regions based on HMM calibrated to all non-CDS (see separate calibration notebook)"
   ]
  },
  {
   "cell_type": "code",
   "execution_count": 13,
   "id": "ca47bcff-10f0-4daa-af2b-1fa90b2438be",
   "metadata": {},
   "outputs": [
    {
     "name": "stderr",
     "output_type": "stream",
     "text": [
      "100%|██████████| 586/586 [00:00<00:00, 25479.84it/s]\n"
     ]
    }
   ],
   "source": [
    "utr_upstream_dict = {}\n",
    "utrs = pd.read_csv(project_dir + '/Datasets/Data_From_Publications/strict_3UTRs.csv', header=0)\n",
    "for i, r in tqdm(utrs.iterrows(), total=utrs.shape[0]):\n",
    "    utr_upstream_dict[r['upstream']] = [r['utr'], r['start']-1, r['stop']-1, r['strand'], r['downstream']]"
   ]
  },
  {
   "cell_type": "code",
   "execution_count": 67,
   "id": "1f4bea3e-4ac8-4e32-a1f1-5337d85ff5a8",
   "metadata": {},
   "outputs": [
    {
     "name": "stderr",
     "output_type": "stream",
     "text": [
      "100%|██████████| 1327/1327 [00:43<00:00, 30.79it/s]\n",
      "100%|██████████| 1337/1337 [00:42<00:00, 31.73it/s]\n"
     ]
    }
   ],
   "source": [
    "for downstream in [True, False]:\n",
    "    if downstream == True:\n",
    "        alignment_dir = non_cds_output_dir\n",
    "    else:\n",
    "        alignment_dir = upstream_non_cds_output_dir\n",
    "    alignment_info_dict = {}\n",
    "    file_ids = sar.list_files(alignment_dir+'/')\n",
    "    ids = [int(i.split('.')[0]) for i in file_ids]\n",
    "\n",
    "    for group_id in tqdm(ids):\n",
    "        alignment = sar.Alignment(alignment_dir+'/'+str(group_id)+'.fasta', tb_species, 'NT')\n",
    "        alignment.modify_sequence(1,False,False)\n",
    "        alignment.calculate_entropies(mvave_len = 10)\n",
    "        alignment_list =  alignment.modified_sequence_list\n",
    "        alignment_names = alignment.sequence_names\n",
    "        alignment_2 = sar.Alignment(alignment_dir+'/'+str(group_id)+'.fasta', tb_species, 'NT')\n",
    "        alignment_2.modify_sequence(1, False, False)\n",
    "        alignment_3 = sar.Alignment(alignment_dir+'/'+str(group_id)+'.fasta', tb_species, 'NT')\n",
    "        alignment_3.modify_sequence(1, False, True)\n",
    "\n",
    "        sequence_names = alignment.sequence_names\n",
    "        master_species_index = alignment.master_species_index\n",
    "        sequence_name_dict = {}\n",
    "        for n in sequence_names:\n",
    "            sequence_name_dict[n] = sequence_names.index(n)\n",
    "        cds_end_pos = offset - 1\n",
    "        non_cds_end_pos = alignment.modified_sequence_length - offset\n",
    "\n",
    "        if downstream == True:\n",
    "            non_cds_offset_start = seq_data.master_species_info(group_id, 'non_cds_offset_start')\n",
    "            non_cds_offset_end = seq_data.master_species_info(group_id, 'non_cds_offset_end')\n",
    "        else:\n",
    "            non_cds_offset_start = seq_data.master_species_info(group_id, 'upstream_non_cds_offset_start')\n",
    "            non_cds_offset_end = seq_data.master_species_info(group_id, 'upstream_non_cds_offset_end')\n",
    "\n",
    "        if downstream == True:\n",
    "            locus_tag = seq_data.master_species_info(group_id, 'locus_tag')\n",
    "            locus_strand = seq_data.master_species_info(group_id, 'strand')\n",
    "            if locus_strand == 1:\n",
    "                locus_tag_2 = seq_data.master_species_info(group_id, 'next_locus_tag')\n",
    "                locus_strand_2 = seq_data.master_species_info(group_id, 'next_strand')\n",
    "            else:\n",
    "                locus_tag_2 = seq_data.master_species_info(group_id, 'previous_locus_tag')\n",
    "                locus_strand_2 = seq_data.master_species_info(group_id, 'prev_strand')\n",
    "        else:\n",
    "            locus_tag_2 = seq_data.master_species_info(group_id, 'locus_tag')\n",
    "            locus_strand_2 = seq_data.master_species_info(group_id, 'strand')\n",
    "            if locus_strand_2 == 1:\n",
    "                locus_tag = seq_data.master_species_info(group_id, 'previous_locus_tag')\n",
    "                locus_strand = seq_data.master_species_info(group_id, 'prev_strand')\n",
    "            else:\n",
    "                locus_tag = seq_data.master_species_info(group_id, 'next_locus_tag')\n",
    "                locus_strand = seq_data.master_species_info(group_id, 'next_strand')\n",
    "\n",
    "        utr_start_pos = 0\n",
    "        utr_end_pos = 0\n",
    "\n",
    "        if locus_tag in utr_upstream_dict:\n",
    "            utr_data = utr_upstream_dict[locus_tag]\n",
    "            if cds_strand == 1:\n",
    "                utr_start_pos = utr_data[1] - non_cds_offset_start\n",
    "                utr_end_pos = utr_data[2] - non_cds_offset_start\n",
    "            else:\n",
    "                utr_start_pos = non_cds_offset_end - utr_data[2]\n",
    "                utr_end_pos = non_cds_offset_end- utr_data[1]\n",
    "\n",
    "        initial_state_probabilities = [1.0/num_states]*num_states\n",
    "        a = fitted_parameters[0]; b = (1-fitted_parameters[0])*(fitted_parameters[1]); c = 1 - b - a\n",
    "        e = fitted_parameters[2]; d = (1-fitted_parameters[2])*(fitted_parameters[3]); f = 1 - d - e\n",
    "        i = fitted_parameters[4]; g = (1-fitted_parameters[4])*(fitted_parameters[5]); h = 1 - i - g\n",
    "        transition_probabilities = np.array([[a,b,c],[d,e,f],[g,h,i]])\n",
    "        #observation_probabilities = sar.mutation_probs(fitted_parameters[2:len(fitted_parameters)], alignment_list, alignment_names, tree, num_symbols)\n",
    "        observation_probabilities = sar.cons_mutation_probs([fitted_parameters[6],fitted_parameters[7],fitted_parameters[8]], alignment_list, alignment_names, num_symbols, sequence_name_dict, master_species_index)\n",
    "        hmm = sar.HMM(initial_state_probabilities, transition_probabilities, observation_probabilities)\n",
    "        hmm.viterbi(); hmm.forward(); hmm.backward()      \n",
    "        alignment_info_dict[group_id] = [alignment, alignment_2, alignment_3, cds_end_pos, non_cds_end_pos, non_cds_offset_start, non_cds_offset_end, \n",
    "                                         locus_tag, locus_strand, locus_tag_2, locus_strand_2, utr_start_pos, utr_end_pos, hmm]\n",
    "    if downstream == True:\n",
    "        dict_name = 'downstream_conservation_info_dictionary'\n",
    "    else:\n",
    "        dict_name = 'upstream_conservation_info_dictionary'\n",
    "    with open(output_dir + '/' + dict_name + '.pkl', 'wb') as f:\n",
    "        pickle.dump(alignment_info_dict, f)"
   ]
  },
  {
   "cell_type": "code",
   "execution_count": 68,
   "id": "e890e0c5-f1e1-4a94-b2e5-5ddccc4aac21",
   "metadata": {},
   "outputs": [],
   "source": [
    "with open(output_dir + '/upstream_conservation_info_dictionary.pkl', 'rb') as f:\n",
    "    upstream_conservation_info_dictionary = pickle.load(f)\n",
    "with open(output_dir + '/downstream_conservation_info_dictionary.pkl', 'rb') as f:\n",
    "    downstream_conservation_info_dictionary = pickle.load(f)"
   ]
  },
  {
   "cell_type": "markdown",
   "id": "da6d610d-9e76-4cbe-be84-188b7ec12515",
   "metadata": {},
   "source": [
    "##### Plot graphics to show sequence and HMM regions"
   ]
  },
  {
   "cell_type": "code",
   "execution_count": 69,
   "id": "71321558-eadf-45f1-9910-d6826253e134",
   "metadata": {},
   "outputs": [],
   "source": [
    "def conservation_plot(group_id, conservation_info_dictionary):\n",
    "    data = conservation_info_dictionary[group_id]\n",
    "    alignment = data[0]; alignment_2 = data[1]; alignment_3 = data[2]; cds_end_pos = data[3]; non_cds_end_pos = data[4]; non_cds_offset_start = data[5]; non_cds_offset_end = data[6]; \n",
    "    locus_tag = data[7]; cds_strand = data[8]; locus_tag_2 = data[9]; locus_strand_2 = data[10]; utr_start_pos = data[11]; utr_end_pos = data[12]; hmm = data[13]\n",
    "\n",
    "    counts_df = lm.alignment_to_matrix(sequences = alignment.modified_sequence_list, to_type = 'counts', characters_to_ignore = '-', pseudocount=0)\n",
    "    background_probs = [0.25, 0.25, 0.25, 0.25]\n",
    "    for i, r in counts_df.iterrows():\n",
    "        temp_relent = []\n",
    "        num_gaps = alignment.num_sequences\n",
    "        for k in range(4):\n",
    "            num_gaps = num_gaps - r.iloc[k]\n",
    "        for k in range(4):\n",
    "            ct = r.iloc[k] + num_gaps*background_probs[k]\n",
    "            if ct == 0:\n",
    "                temp_relent.append(0)\n",
    "            else:\n",
    "                temp_relent.append((ct /alignment.num_sequences) * math.log((ct /alignment.num_sequences)/background_probs[k],2))\n",
    "        for k in range(4):\n",
    "            r.iloc[k] = temp_relent[k]\n",
    "\n",
    "    y = -1        \n",
    "    seqlogo = lm.Logo(counts_df, figsize = [25,1])\n",
    "    seqlogo.ax.plot([0, cds_end_pos], [y,y], color='skyblue', linewidth=10, solid_capstyle='butt')\n",
    "    for i in alignment_2.master_species_modified_sequence_insertions:\n",
    "        seqlogo.ax.plot([i[0], i[0]+1], [y-2,y-2], color='red', linewidth=3*i[1], solid_capstyle='butt')\n",
    "    seqlogo.ax.plot([non_cds_end_pos, alignment.modified_sequence_length], [y,y], color='skyblue', linewidth=10, solid_capstyle='butt')\n",
    "    seqlogo.ax.plot([utr_start_pos, utr_end_pos],[y-0.5, y-0.5], color='mediumslateblue', linewidth=10, solid_capstyle='butt')\n",
    "    for i, state in enumerate(hmm.viterbi_path):\n",
    "        if state in [0]:\n",
    "            seqlogo.highlight_position_range(pmin=i, pmax=i, color='rosybrown')\n",
    "    seqlogo.ax.text(0,4.2*y,locus_tag + ' ('+str(cds_strand)+')',fontsize=12)\n",
    "    seqlogo.ax.text(alignment.modified_sequence_length - offset/2,4.2*y,locus_tag_2+ ' ('+str(locus_strand_2)+')',fontsize=12)\n",
    "    seqlogo.ax.text(0, 4.5*y,int(non_cds_offset_start), verticalalignment='top', horizontalalignment='left')\n",
    "    seqlogo.style_spines(visible=False)\n",
    "    seqlogo.style_spines(spines=['left'], visible=True, bounds=[0, 2])\n",
    "    seqlogo.ax.set_xticks([])\n",
    "    seqlogo.ax.set_yticks([0,2])\n",
    "    seqlogo.ax.set_ylim([-4, 2])\n",
    "    seqlogo.ax.axhline(y, color = 'k', linewidth = 1)\n",
    "    seqlogo;"
   ]
  },
  {
   "cell_type": "code",
   "execution_count": 78,
   "id": "7c215743-4fae-4ae2-a142-d035b5ddeffb",
   "metadata": {},
   "outputs": [
    {
     "data": {
      "image/png": "[encoded data removed]",
      "text/plain": [
       "<Figure size 1800x72 with 1 Axes>"
      ]
     },
     "metadata": {
      "needs_background": "light"
     },
     "output_type": "display_data"
    },
    {
     "data": {
      "image/png": "[encoded data removed]",
      "text/plain": [
       "<Figure size 1800x72 with 1 Axes>"
      ]
     },
     "metadata": {
      "needs_background": "light"
     },
     "output_type": "display_data"
    }
   ],
   "source": [
    "group_id = 772 #752   756   758    772   791 953  786  845 805 shows non insertions\n",
    "    #975 Shine Dalgarno  1048\n",
    "conservation_plot(group_id, upstream_conservation_info_dictionary)\n",
    "conservation_plot(group_id, downstream_conservation_info_dictionary)"
   ]
  },
  {
   "cell_type": "code",
   "execution_count": 47,
   "id": "e6977fcf-1213-4657-b5c4-af7d3127fc3d",
   "metadata": {},
   "outputs": [
    {
     "data": {
      "image/png": "[encoded data removed]",
      "text/plain": [
       "<Figure size 432x288 with 1 Axes>"
      ]
     },
     "metadata": {
      "needs_background": "light"
     },
     "output_type": "display_data"
    }
   ],
   "source": [
    "#plt.plot(alignment.relative_entropy);\n",
    "#plt.plot(alignment.mvave_relative_entropy);\n",
    "plt.axvline(x=cds_end_pos, ymin=0, ymax=2, color='r');\n",
    "plt.axvline(x=non_cds_end_pos, ymin=0, ymax=2, color='r');\n",
    "for state in range(3):\n",
    "    c = hmm.forward_probabilities[state] + hmm.backward_probabilities[state]\n",
    "    d = [math.exp(x - hmm.forward_ll) for x in c]\n",
    "    plt.plot(d);"
   ]
  },
  {
   "cell_type": "code",
   "execution_count": null,
   "id": "aa4494bf-6b10-42de-aa56-691319cbe8b7",
   "metadata": {},
   "outputs": [],
   "source": [
    "temp = seq_data.sequence_data\n",
    "print(temp[temp['locus_tag'] == 'Rv1249c'])"
   ]
  },
  {
   "cell_type": "code",
   "execution_count": null,
   "id": "ddc58a35-b714-4e83-93c1-ee17f8878335",
   "metadata": {},
   "outputs": [],
   "source": [
    "file_ids = sar.list_files(non_cds_output_dir+'/')\n",
    "ids = [int(i.split('.')[0]) for i in file_ids]\n",
    "for id in tqdm(ids):\n",
    "    if id in conservation_info_dict:\n",
    "        temp = conservation_info_dict[id]\n",
    "        viterbi_path = temp[12].viterbi_path\n",
    "        viterbi_path_length = len(viterbi_path) \n",
    "        conserved_length = sum(viterbi_path[50:viterbi_path_length - 50])\n",
    "        num_insertions = len(temp[1].master_species_modified_sequence_insertions)\n",
    "        sequence_length = temp[0].modified_sequence_length\n",
    "        if sequence_length > 150 and conserved_length > 50:\n",
    "            print (id, sequence_length, conserved_length, conserved_length/sequence_length, num_insertions)"
   ]
  },
  {
   "cell_type": "code",
   "execution_count": 71,
   "id": "011e8b96-1a28-4cbd-9325-7f77bdad0c64",
   "metadata": {},
   "outputs": [],
   "source": [
    "temp= seq_data.sequence_data"
   ]
  },
  {
   "cell_type": "code",
   "execution_count": 75,
   "id": "8d9da7ac-5b59-4fd3-8c1d-6983f3480083",
   "metadata": {},
   "outputs": [
    {
     "data": {
      "text/html": [
       "<div>\n",
       "<style scoped>\n",
       "    .dataframe tbody tr th:only-of-type {\n",
       "        vertical-align: middle;\n",
       "    }\n",
       "\n",
       "    .dataframe tbody tr th {\n",
       "        vertical-align: top;\n",
       "    }\n",
       "\n",
       "    .dataframe thead th {\n",
       "        text-align: right;\n",
       "    }\n",
       "</style>\n",
       "<table border=\"1\" class=\"dataframe\">\n",
       "  <thead>\n",
       "    <tr style=\"text-align: right;\">\n",
       "      <th></th>\n",
       "      <th>group_id</th>\n",
       "      <th>species</th>\n",
       "      <th>protein_id</th>\n",
       "      <th>num_protein_ids</th>\n",
       "      <th>name</th>\n",
       "      <th>type</th>\n",
       "      <th>locus_tag</th>\n",
       "      <th>previous_locus_tag</th>\n",
       "      <th>next_locus_tag</th>\n",
       "      <th>bp_restrict</th>\n",
       "      <th>...</th>\n",
       "      <th>cds_length</th>\n",
       "      <th>non_cds_length</th>\n",
       "      <th>upstream_non_cds_length</th>\n",
       "      <th>ss_non_cds_length</th>\n",
       "      <th>non_cds_offset_length</th>\n",
       "      <th>non_cds_offset_start</th>\n",
       "      <th>non_cds_offset_end</th>\n",
       "      <th>upstream_non_cds_offset_length</th>\n",
       "      <th>upstream_non_cds_offset_start</th>\n",
       "      <th>upstream_non_cds_offset_end</th>\n",
       "    </tr>\n",
       "  </thead>\n",
       "  <tbody>\n",
       "    <tr>\n",
       "      <th>1825</th>\n",
       "      <td>2049</td>\n",
       "      <td>GCF_000157895.3</td>\n",
       "      <td>WP_023366241.1</td>\n",
       "      <td>1.0</td>\n",
       "      <td>Mycobacterium kansasii ATCC 12478</td>\n",
       "      <td>CDS</td>\n",
       "      <td>MKAN_RS06095</td>\n",
       "      <td>MKAN_RS06090</td>\n",
       "      <td>MKAN_RS06100</td>\n",
       "      <td>0.0</td>\n",
       "      <td>...</td>\n",
       "      <td>486</td>\n",
       "      <td>0.0</td>\n",
       "      <td>227.0</td>\n",
       "      <td>0.0</td>\n",
       "      <td>92.0</td>\n",
       "      <td>1426664.0</td>\n",
       "      <td>1426756.0</td>\n",
       "      <td>327.0</td>\n",
       "      <td>1427142.0</td>\n",
       "      <td>1427469.0</td>\n",
       "    </tr>\n",
       "    <tr>\n",
       "      <th>1851</th>\n",
       "      <td>2049</td>\n",
       "      <td>GCF_000195955.2</td>\n",
       "      <td>NP_215819.1</td>\n",
       "      <td>1.0</td>\n",
       "      <td>Mycobacterium tuberculosis H37Rv</td>\n",
       "      <td>CDS</td>\n",
       "      <td>Rv1303</td>\n",
       "      <td>Rv1302</td>\n",
       "      <td>Rv1304</td>\n",
       "      <td>0.0</td>\n",
       "      <td>...</td>\n",
       "      <td>486</td>\n",
       "      <td>0.0</td>\n",
       "      <td>256.0</td>\n",
       "      <td>0.0</td>\n",
       "      <td>92.0</td>\n",
       "      <td>1460201.0</td>\n",
       "      <td>1460293.0</td>\n",
       "      <td>356.0</td>\n",
       "      <td>1459459.0</td>\n",
       "      <td>1459815.0</td>\n",
       "    </tr>\n",
       "    <tr>\n",
       "      <th>1835</th>\n",
       "      <td>2049</td>\n",
       "      <td>GCF_000340435.2</td>\n",
       "      <td>WP_047315847.1</td>\n",
       "      <td>1.0</td>\n",
       "      <td>Mycobacterium haemophilum DSM 44634</td>\n",
       "      <td>CDS</td>\n",
       "      <td>B586_RS14150</td>\n",
       "      <td>B586_RS14145</td>\n",
       "      <td>B586_RS14155</td>\n",
       "      <td>0.0</td>\n",
       "      <td>...</td>\n",
       "      <td>456</td>\n",
       "      <td>0.0</td>\n",
       "      <td>249.0</td>\n",
       "      <td>0.0</td>\n",
       "      <td>92.0</td>\n",
       "      <td>3021058.0</td>\n",
       "      <td>3021150.0</td>\n",
       "      <td>349.0</td>\n",
       "      <td>3021506.0</td>\n",
       "      <td>3021855.0</td>\n",
       "    </tr>\n",
       "    <tr>\n",
       "      <th>1780</th>\n",
       "      <td>2049</td>\n",
       "      <td>GCF_001655245.1</td>\n",
       "      <td>WP_003931024.1</td>\n",
       "      <td>1.0</td>\n",
       "      <td>Mycolicibacterium vaccae 95051</td>\n",
       "      <td>CDS</td>\n",
       "      <td>MYVA_RS20225</td>\n",
       "      <td>MYVA_RS20220</td>\n",
       "      <td>MYVA_RS20230</td>\n",
       "      <td>0.0</td>\n",
       "      <td>...</td>\n",
       "      <td>447</td>\n",
       "      <td>48.0</td>\n",
       "      <td>279.0</td>\n",
       "      <td>48.0</td>\n",
       "      <td>148.0</td>\n",
       "      <td>4319991.0</td>\n",
       "      <td>4320139.0</td>\n",
       "      <td>379.0</td>\n",
       "      <td>4320486.0</td>\n",
       "      <td>4320865.0</td>\n",
       "    </tr>\n",
       "    <tr>\n",
       "      <th>1786</th>\n",
       "      <td>2049</td>\n",
       "      <td>GCF_002285675.1</td>\n",
       "      <td>WP_036458460.1</td>\n",
       "      <td>1.0</td>\n",
       "      <td>Mycobacterium intracellulare</td>\n",
       "      <td>CDS</td>\n",
       "      <td>CKJ67_RS07890</td>\n",
       "      <td>CKJ67_RS07885</td>\n",
       "      <td>CKJ67_RS07895</td>\n",
       "      <td>0.0</td>\n",
       "      <td>...</td>\n",
       "      <td>495</td>\n",
       "      <td>0.0</td>\n",
       "      <td>216.0</td>\n",
       "      <td>0.0</td>\n",
       "      <td>92.0</td>\n",
       "      <td>1601660.0</td>\n",
       "      <td>1601752.0</td>\n",
       "      <td>316.0</td>\n",
       "      <td>1600949.0</td>\n",
       "      <td>1601265.0</td>\n",
       "    </tr>\n",
       "    <tr>\n",
       "      <th>1806</th>\n",
       "      <td>2049</td>\n",
       "      <td>GCF_010727945.1</td>\n",
       "      <td>WP_163775982.1</td>\n",
       "      <td>1.0</td>\n",
       "      <td>Mycobacterium cookii</td>\n",
       "      <td>CDS</td>\n",
       "      <td>G6N27_RS08735</td>\n",
       "      <td>G6N27_RS08730</td>\n",
       "      <td>G6N27_RS08740</td>\n",
       "      <td>0.0</td>\n",
       "      <td>...</td>\n",
       "      <td>450</td>\n",
       "      <td>0.0</td>\n",
       "      <td>224.0</td>\n",
       "      <td>0.0</td>\n",
       "      <td>92.0</td>\n",
       "      <td>1856532.0</td>\n",
       "      <td>1856624.0</td>\n",
       "      <td>324.0</td>\n",
       "      <td>1856974.0</td>\n",
       "      <td>1857298.0</td>\n",
       "    </tr>\n",
       "    <tr>\n",
       "      <th>1859</th>\n",
       "      <td>2049</td>\n",
       "      <td>GCF_010730055.1</td>\n",
       "      <td>WP_083047753.1</td>\n",
       "      <td>1.0</td>\n",
       "      <td>Mycobacterium shinjukuense</td>\n",
       "      <td>CDS</td>\n",
       "      <td>G6N20_RS02580</td>\n",
       "      <td>G6N20_RS02575</td>\n",
       "      <td>G6N20_RS02585</td>\n",
       "      <td>0.0</td>\n",
       "      <td>...</td>\n",
       "      <td>507</td>\n",
       "      <td>0.0</td>\n",
       "      <td>250.0</td>\n",
       "      <td>0.0</td>\n",
       "      <td>92.0</td>\n",
       "      <td>574584.0</td>\n",
       "      <td>574676.0</td>\n",
       "      <td>350.0</td>\n",
       "      <td>573827.0</td>\n",
       "      <td>574177.0</td>\n",
       "    </tr>\n",
       "    <tr>\n",
       "      <th>1857</th>\n",
       "      <td>2049</td>\n",
       "      <td>GCF_010731535.1</td>\n",
       "      <td>WP_085158678.1</td>\n",
       "      <td>1.0</td>\n",
       "      <td>Mycobacterium lacus</td>\n",
       "      <td>CDS</td>\n",
       "      <td>G6N24_RS04765</td>\n",
       "      <td>G6N24_RS04760</td>\n",
       "      <td>G6N24_RS04770</td>\n",
       "      <td>0.0</td>\n",
       "      <td>...</td>\n",
       "      <td>486</td>\n",
       "      <td>0.0</td>\n",
       "      <td>204.0</td>\n",
       "      <td>0.0</td>\n",
       "      <td>92.0</td>\n",
       "      <td>1016213.0</td>\n",
       "      <td>1016305.0</td>\n",
       "      <td>304.0</td>\n",
       "      <td>1015523.0</td>\n",
       "      <td>1015827.0</td>\n",
       "    </tr>\n",
       "    <tr>\n",
       "      <th>1807</th>\n",
       "      <td>2049</td>\n",
       "      <td>GCF_016745295.1</td>\n",
       "      <td>WP_012395676.1</td>\n",
       "      <td>1.0</td>\n",
       "      <td>Mycobacterium marinum</td>\n",
       "      <td>CDS</td>\n",
       "      <td>HXW97_RS25825</td>\n",
       "      <td>HXW97_RS25820</td>\n",
       "      <td>HXW97_RS25830</td>\n",
       "      <td>0.0</td>\n",
       "      <td>...</td>\n",
       "      <td>501</td>\n",
       "      <td>0.0</td>\n",
       "      <td>250.0</td>\n",
       "      <td>0.0</td>\n",
       "      <td>92.0</td>\n",
       "      <td>6193076.0</td>\n",
       "      <td>6193168.0</td>\n",
       "      <td>350.0</td>\n",
       "      <td>6193569.0</td>\n",
       "      <td>6193919.0</td>\n",
       "    </tr>\n",
       "    <tr>\n",
       "      <th>1828</th>\n",
       "      <td>2049</td>\n",
       "      <td>GCF_900603025.1</td>\n",
       "      <td>WP_005629146.1</td>\n",
       "      <td>1.0</td>\n",
       "      <td>Mycolicibacterium hassiacum DSM 44199</td>\n",
       "      <td>CDS</td>\n",
       "      <td>MHAS_RS13495</td>\n",
       "      <td>MHAS_RS13490</td>\n",
       "      <td>MHAS_RS13500</td>\n",
       "      <td>0.0</td>\n",
       "      <td>...</td>\n",
       "      <td>468</td>\n",
       "      <td>0.0</td>\n",
       "      <td>242.0</td>\n",
       "      <td>0.0</td>\n",
       "      <td>96.0</td>\n",
       "      <td>2878356.0</td>\n",
       "      <td>2878452.0</td>\n",
       "      <td>342.0</td>\n",
       "      <td>2878820.0</td>\n",
       "      <td>2879162.0</td>\n",
       "    </tr>\n",
       "    <tr>\n",
       "      <th>1822</th>\n",
       "      <td>2049</td>\n",
       "      <td>NC_008596.1</td>\n",
       "      <td>WP_003896335.1</td>\n",
       "      <td>1.0</td>\n",
       "      <td>Mycolicibacterium smegmatis MC2 155</td>\n",
       "      <td>CDS</td>\n",
       "      <td>MSMEG_RS23830</td>\n",
       "      <td>MSMEG_RS23825</td>\n",
       "      <td>MSMEG_RS23835</td>\n",
       "      <td>0.0</td>\n",
       "      <td>...</td>\n",
       "      <td>447</td>\n",
       "      <td>10.0</td>\n",
       "      <td>287.0</td>\n",
       "      <td>10.0</td>\n",
       "      <td>110.0</td>\n",
       "      <td>5039664.0</td>\n",
       "      <td>5039774.0</td>\n",
       "      <td>387.0</td>\n",
       "      <td>5040121.0</td>\n",
       "      <td>5040508.0</td>\n",
       "    </tr>\n",
       "  </tbody>\n",
       "</table>\n",
       "<p>11 rows × 39 columns</p>\n",
       "</div>"
      ],
      "text/plain": [
       "      group_id          species      protein_id  num_protein_ids  \\\n",
       "1825      2049  GCF_000157895.3  WP_023366241.1              1.0   \n",
       "1851      2049  GCF_000195955.2     NP_215819.1              1.0   \n",
       "1835      2049  GCF_000340435.2  WP_047315847.1              1.0   \n",
       "1780      2049  GCF_001655245.1  WP_003931024.1              1.0   \n",
       "1786      2049  GCF_002285675.1  WP_036458460.1              1.0   \n",
       "1806      2049  GCF_010727945.1  WP_163775982.1              1.0   \n",
       "1859      2049  GCF_010730055.1  WP_083047753.1              1.0   \n",
       "1857      2049  GCF_010731535.1  WP_085158678.1              1.0   \n",
       "1807      2049  GCF_016745295.1  WP_012395676.1              1.0   \n",
       "1828      2049  GCF_900603025.1  WP_005629146.1              1.0   \n",
       "1822      2049      NC_008596.1  WP_003896335.1              1.0   \n",
       "\n",
       "                                       name type      locus_tag  \\\n",
       "1825      Mycobacterium kansasii ATCC 12478  CDS   MKAN_RS06095   \n",
       "1851       Mycobacterium tuberculosis H37Rv  CDS         Rv1303   \n",
       "1835    Mycobacterium haemophilum DSM 44634  CDS   B586_RS14150   \n",
       "1780         Mycolicibacterium vaccae 95051  CDS   MYVA_RS20225   \n",
       "1786           Mycobacterium intracellulare  CDS  CKJ67_RS07890   \n",
       "1806                   Mycobacterium cookii  CDS  G6N27_RS08735   \n",
       "1859             Mycobacterium shinjukuense  CDS  G6N20_RS02580   \n",
       "1857                    Mycobacterium lacus  CDS  G6N24_RS04765   \n",
       "1807                  Mycobacterium marinum  CDS  HXW97_RS25825   \n",
       "1828  Mycolicibacterium hassiacum DSM 44199  CDS   MHAS_RS13495   \n",
       "1822    Mycolicibacterium smegmatis MC2 155  CDS  MSMEG_RS23830   \n",
       "\n",
       "     previous_locus_tag next_locus_tag  bp_restrict  ... cds_length  \\\n",
       "1825       MKAN_RS06090   MKAN_RS06100          0.0  ...        486   \n",
       "1851             Rv1302         Rv1304          0.0  ...        486   \n",
       "1835       B586_RS14145   B586_RS14155          0.0  ...        456   \n",
       "1780       MYVA_RS20220   MYVA_RS20230          0.0  ...        447   \n",
       "1786      CKJ67_RS07885  CKJ67_RS07895          0.0  ...        495   \n",
       "1806      G6N27_RS08730  G6N27_RS08740          0.0  ...        450   \n",
       "1859      G6N20_RS02575  G6N20_RS02585          0.0  ...        507   \n",
       "1857      G6N24_RS04760  G6N24_RS04770          0.0  ...        486   \n",
       "1807      HXW97_RS25820  HXW97_RS25830          0.0  ...        501   \n",
       "1828       MHAS_RS13490   MHAS_RS13500          0.0  ...        468   \n",
       "1822      MSMEG_RS23825  MSMEG_RS23835          0.0  ...        447   \n",
       "\n",
       "     non_cds_length upstream_non_cds_length ss_non_cds_length  \\\n",
       "1825            0.0                   227.0               0.0   \n",
       "1851            0.0                   256.0               0.0   \n",
       "1835            0.0                   249.0               0.0   \n",
       "1780           48.0                   279.0              48.0   \n",
       "1786            0.0                   216.0               0.0   \n",
       "1806            0.0                   224.0               0.0   \n",
       "1859            0.0                   250.0               0.0   \n",
       "1857            0.0                   204.0               0.0   \n",
       "1807            0.0                   250.0               0.0   \n",
       "1828            0.0                   242.0               0.0   \n",
       "1822           10.0                   287.0              10.0   \n",
       "\n",
       "      non_cds_offset_length  non_cds_offset_start  non_cds_offset_end  \\\n",
       "1825                   92.0             1426664.0           1426756.0   \n",
       "1851                   92.0             1460201.0           1460293.0   \n",
       "1835                   92.0             3021058.0           3021150.0   \n",
       "1780                  148.0             4319991.0           4320139.0   \n",
       "1786                   92.0             1601660.0           1601752.0   \n",
       "1806                   92.0             1856532.0           1856624.0   \n",
       "1859                   92.0              574584.0            574676.0   \n",
       "1857                   92.0             1016213.0           1016305.0   \n",
       "1807                   92.0             6193076.0           6193168.0   \n",
       "1828                   96.0             2878356.0           2878452.0   \n",
       "1822                  110.0             5039664.0           5039774.0   \n",
       "\n",
       "      upstream_non_cds_offset_length  upstream_non_cds_offset_start  \\\n",
       "1825                           327.0                      1427142.0   \n",
       "1851                           356.0                      1459459.0   \n",
       "1835                           349.0                      3021506.0   \n",
       "1780                           379.0                      4320486.0   \n",
       "1786                           316.0                      1600949.0   \n",
       "1806                           324.0                      1856974.0   \n",
       "1859                           350.0                       573827.0   \n",
       "1857                           304.0                      1015523.0   \n",
       "1807                           350.0                      6193569.0   \n",
       "1828                           342.0                      2878820.0   \n",
       "1822                           387.0                      5040121.0   \n",
       "\n",
       "     upstream_non_cds_offset_end  \n",
       "1825                   1427469.0  \n",
       "1851                   1459815.0  \n",
       "1835                   3021855.0  \n",
       "1780                   4320865.0  \n",
       "1786                   1601265.0  \n",
       "1806                   1857298.0  \n",
       "1859                    574177.0  \n",
       "1857                   1015827.0  \n",
       "1807                   6193919.0  \n",
       "1828                   2879162.0  \n",
       "1822                   5040508.0  \n",
       "\n",
       "[11 rows x 39 columns]"
      ]
     },
     "execution_count": 75,
     "metadata": {},
     "output_type": "execute_result"
    }
   ],
   "source": [
    "temp[temp['group_id'] == 2049]"
   ]
  },
  {
   "cell_type": "code",
   "execution_count": null,
   "id": "a80b3737-ef96-42f2-826d-94babfe0dee8",
   "metadata": {},
   "outputs": [],
   "source": []
  }
 ],
 "metadata": {
  "kernelspec": {
   "display_name": "Python 3 (ipykernel)",
   "language": "python",
   "name": "python3"
  },
  "language_info": {
   "codemirror_mode": {
    "name": "ipython",
    "version": 3
   },
   "file_extension": ".py",
   "mimetype": "text/x-python",
   "name": "python",
   "nbconvert_exporter": "python",
   "pygments_lexer": "ipython3",
   "version": "3.9.7"
  }
 },
 "nbformat": 4,
 "nbformat_minor": 5
}
