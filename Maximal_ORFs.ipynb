{
 "cells": [
  {
   "cell_type": "markdown",
   "id": "eef24ce4-4729-44b6-8d43-fbdf47b9033a",
   "metadata": {},
   "source": [
    "##### Set up packages and directories"
   ]
  },
  {
   "cell_type": "code",
   "execution_count": 1,
   "id": "9105f9b4-46be-44fd-b947-d3c47ce2fa01",
   "metadata": {},
   "outputs": [],
   "source": [
    "import pandas as pd\n",
    "import pickle\n",
    "import seaborn as sns\n",
    "import matplotlib.pyplot as plt\n",
    "import numpy as np\n",
    "from scipy.fft import fft, fftfreq\n",
    "from Bio import Entrez, SeqIO, AlignIO, pairwise2, Align, Seq, motifs\n",
    "from Bio.Seq import Seq\n",
    "from Bio.SeqFeature import SeqFeature, FeatureLocation\n",
    "from scipy.stats import binom\n",
    "import math\n",
    "import random\n",
    "from tqdm.auto import tqdm\n",
    "from Comparative_Analysis import Sequence_Analysis_Routines as sar\n",
    "from Comparative_Analysis import HMM as hmm\n",
    "from Comparative_Analysis import Utilities as util\n",
    "from Comparative_Analysis import Alignment_HMM as alignment_hmm\n",
    "from Comparative_Analysis import Alignment_Analysis as alignment_analysis\n",
    "from Comparative_Analysis import Alignment as align\n",
    "from Comparative_Analysis import Master_Alignment_HMM as master_alignment_hmm\n",
    "from Comparative_Analysis import Multi_Species_Master_Alignment_HMM as multi_species_master_alignment_hmm\n",
    "from Comparative_Analysis import Arneson_Ernst_HMM as ae_hmm\n",
    "import random\n",
    "import copy\n",
    "from joblib import Parallel, delayed"
   ]
  },
  {
   "cell_type": "code",
   "execution_count": 2,
   "id": "1988a242-f558-4643-b3a9-27272fa7bebc",
   "metadata": {},
   "outputs": [],
   "source": [
    "project_dir = 'D:/Project_Data/Project_6'\n",
    "genome_datasets_dir = project_dir + '/Datasets/NCBI_Datasets'\n",
    "literature_datasets_dir = project_dir + '/Datasets/Data_From_Publications'\n",
    "cryptic_output_path = \"D:/Project_Data/CRYPTIC_DATA/Cryptic_Data_Analysis\"\n",
    "cryptic_input_path = \"D:/Project_Data/CRYPTIC_DATA/\"\n",
    "output_dir = project_dir + '/Output'\n",
    "protein_fasta_output_loc = output_dir + '/Protein_Sequences'\n",
    "outgroup_protein_fasta_output_loc = output_dir + '/Protein_Sequences_With_Outgroup'\n",
    "sonic_paranoid_run_name = 'Run_Without_Outgroup'\n",
    "outgroup_sonic_paranoid_run_name = 'Run_With_Outgroup'\n",
    "sonic_paranoid_output_loc = output_dir + '/Sonic_Paranoid_Output'\n",
    "ortholog_dir = sonic_paranoid_output_loc + '/runs/' + sonic_paranoid_run_name + '/ortholog_groups'\n",
    "outgroup_ortholog_dir = sonic_paranoid_output_loc + '/runs/' + outgroup_sonic_paranoid_run_name + '/ortholog_groups'\n",
    "non_cds_output_dir = output_dir + '/Multiple_Alignment_Data/Downstream_Non_CDS'\n",
    "upstream_non_cds_output_dir = output_dir + '/Multiple_Alignment_Data/Upstream_Non_CDS'\n",
    "cds_output_dir = output_dir + '/Multiple_Alignment_Data/CDS'\n",
    "extended_cds_output_dir = output_dir + '/Multiple_Alignment_Data/Extended_CDS'\n",
    "extended_non_cds_regions_output_dir = output_dir + '/Multiple_Alignment_Data/Extended_Non_CDS'\n",
    "outgroup_cds_output_dir = output_dir + '/Multiple_Alignment_Data/CDS_With_Outgroup'\n",
    "outgroup_concatenated_cds_output_dir = output_dir + '/Multiple_Alignment_Data/CDS_With_Outgroup_Concatenated'\n",
    "hmm_parameters_output_dir = output_dir +'/HMM_Model_Parameters'\n",
    "conservation_analysis_output_dir = output_dir + '/Conservation_Analysis'\n",
    "num_cores = 16"
   ]
  },
  {
   "cell_type": "markdown",
   "id": "017f28e8-a111-4d47-a7d6-9fbe2e08e2d4",
   "metadata": {},
   "source": [
    "##### Translation function"
   ]
  },
  {
   "cell_type": "code",
   "execution_count": 3,
   "id": "3cdf9a31-18a2-457e-9fc5-fc6c56d5d757",
   "metadata": {},
   "outputs": [],
   "source": [
    "codon_dict = {}\n",
    "with open('D:/Project_Data/Project_3/Datasets/Reference_Tables/Standard_Code.txt') as f:\n",
    "    for l in f:\n",
    "        codon_dict[str(l[1:4])] = l[5]"
   ]
  },
  {
   "cell_type": "code",
   "execution_count": 61,
   "id": "94a2ed1e-1303-4248-9b29-728cce1b9485",
   "metadata": {},
   "outputs": [],
   "source": [
    "def translate_sequence(input_seq, strand, rf):\n",
    "    output_seq = ''\n",
    "    if strand == 1:\n",
    "        seq = input_seq[rf:]\n",
    "    else:\n",
    "        seq = align.reverse_complement(input_seq)[rf:]\n",
    "    for i in range(0,len(seq)-2,3):\n",
    "        if seq[i:(i+3)] in codon_dict:\n",
    "            output_seq += codon_dict[seq[i:(i+3)]]\n",
    "        else:\n",
    "            output_seq += 'X'\n",
    "    return output_seq"
   ]
  },
  {
   "cell_type": "markdown",
   "id": "ab3eb090-60d0-4a2d-8f83-14b2b6889726",
   "metadata": {
    "tags": []
   },
   "source": [
    "##### Mycobrowser is used for CDS demarcation, sequence is taken from GCF_000195955.2"
   ]
  },
  {
   "cell_type": "code",
   "execution_count": 5,
   "id": "e2de639b-724a-46ac-94b7-6480e9b0ff62",
   "metadata": {
    "tags": []
   },
   "outputs": [],
   "source": [
    "genome_record = next(SeqIO.parse(genome_datasets_dir + '/GCF_000195955.2/genomic.gbff', \"genbank\"))\n",
    "full_sequence = genome_record.seq\n",
    "actual_cds_boundaries = []\n",
    "mycobrowser_df = pd.read_excel(literature_datasets_dir+'/Mycobrowser_Release_4.xlsx')\n",
    "temp = mycobrowser_df[mycobrowser_df['Feature'] == 'CDS'][['Locus','Start','Stop','Strand']]\n",
    "actual_cds_boundaries = []\n",
    "for i, r in temp.iterrows():\n",
    "    if r['Strand'] == '+':\n",
    "        strand = 1\n",
    "    else:\n",
    "        strand = -1\n",
    "    actual_cds_boundaries.append((r['Locus'],r['Start']-1, r['Stop'], strand))"
   ]
  },
  {
   "cell_type": "markdown",
   "id": "beacebf7-ca45-4acd-ad98-b9377ec368da",
   "metadata": {
    "tags": []
   },
   "source": [
    "##### Load variant dataset and create variant dictionary (0 indexed for genome position - whereas CRyPtiC data uses 1 start)"
   ]
  },
  {
   "cell_type": "code",
   "execution_count": 35,
   "id": "c8830643-ee4a-42ff-a2f1-39d0154817a6",
   "metadata": {},
   "outputs": [],
   "source": [
    "variant_count_df = pd.read_csv(cryptic_output_path + '/filtered_variant_summary_df.csv')\n",
    "variant_count_df = variant_count_df[variant_count_df['MUTATION_PCT'] < 0.1]"
   ]
  },
  {
   "cell_type": "code",
   "execution_count": 20,
   "id": "8a5ac217-24ab-4e70-ac95-b7c24903ae5f",
   "metadata": {},
   "outputs": [],
   "source": [
    "temp = variant_count_df.groupby(['GENOME_INDEX'])[['MYKROBE_LINEAGE_NAME_2']].count().reset_index()\n",
    "temp_dict = dict(zip(temp.GENOME_INDEX, temp.MYKROBE_LINEAGE_NAME_2))"
   ]
  },
  {
   "cell_type": "code",
   "execution_count": 21,
   "id": "c8c05206-85d2-4eee-9040-db84f07b4773",
   "metadata": {},
   "outputs": [
    {
     "data": {
      "application/vnd.jupyter.widget-view+json": {
       "model_id": "6a1a39795af94c7fb3e1222172d46d7b",
       "version_major": 2,
       "version_minor": 0
      },
      "text/plain": [
       "  0%|          | 0/4411532 [00:00<?, ?it/s]"
      ]
     },
     "metadata": {},
     "output_type": "display_data"
    }
   ],
   "source": [
    "mutation_counts_dict = {}\n",
    "for i in tqdm(range(len(full_sequence))):\n",
    "    if (i+1) in temp_dict:\n",
    "        mutation_counts_dict[i] = temp_dict[(i+1)]\n",
    "    else:\n",
    "        mutation_counts_dict[i] = 0"
   ]
  },
  {
   "cell_type": "markdown",
   "id": "ec65c3b9-c53e-4f86-8e21-0a4836d413c2",
   "metadata": {},
   "source": [
    "##### Define binomial probabilities for testing mutation counts"
   ]
  },
  {
   "cell_type": "code",
   "execution_count": 10,
   "id": "5f9245c0-e613-4a48-b1d8-f85b601f1a82",
   "metadata": {},
   "outputs": [],
   "source": [
    "def bin_formula(max_bin_counts, tot_bin_counts, in_frame = False):\n",
    "    return 1- binom.cdf(max_bin_counts-1, tot_bin_counts,1/3)"
   ]
  },
  {
   "cell_type": "code",
   "execution_count": 11,
   "id": "48c726de-af9f-4d31-904c-606698271a1c",
   "metadata": {},
   "outputs": [],
   "source": [
    "def mutation_bin_probability(start, end, strand):\n",
    "    mutations = []\n",
    "    for i in range(start,end):\n",
    "        for j in range(mutation_counts_dict[i]):\n",
    "            mutations.append(i)\n",
    "    bin_counts = [0,0,0]\n",
    "    for m in mutations:\n",
    "        if strand == 1:\n",
    "            bin_counts[(m-(start))%3] +=1\n",
    "        else:\n",
    "            bin_counts[((end-1)-m)%3] +=1\n",
    "    if sum(bin_counts) == 0:\n",
    "        return (2, sum(bin_counts), bin_counts)\n",
    "    else:\n",
    "        return (bin_formula(bin_counts[2], sum(bin_counts)), sum(bin_counts), bin_counts)  "
   ]
  },
  {
   "cell_type": "markdown",
   "id": "7cc97354-4eec-4741-b8b0-58b7be52aa9b",
   "metadata": {},
   "source": [
    "##### Function to find maximal open reading frame between two co-ordinates with mutation probability less than 0.001"
   ]
  },
  {
   "cell_type": "code",
   "execution_count": 12,
   "id": "de0966b0-0b35-46f6-9a47-c4dc0272f30d",
   "metadata": {},
   "outputs": [],
   "source": [
    "def max_orf(seq_start, seq_stop, p_value):\n",
    "    max_len = 0\n",
    "   \n",
    "    start_pos = -999\n",
    "    end_pos = -999\n",
    "    for frame in ['Forward', 'Reverse']:\n",
    "        if frame == 'Forward':\n",
    "            temp = (full_sequence[seq_start: seq_stop])\n",
    "        else:\n",
    "            temp = align.reverse_complement(full_sequence[seq_start: seq_stop])\n",
    "        seq_len = len(temp)\n",
    "        for i in range(seq_len - 2):\n",
    "            orf_length = 0\n",
    "            test_codon = temp[i: i+3] \n",
    "            if test_codon in ['ATG','GTG','TTG']:  #Missed out CTG as doesn't seem to be used very much at all\n",
    "                for j in range(i + 3, seq_len - 2, 3):\n",
    "                    test_codon_2 = temp[j: j+3] \n",
    "                    if test_codon_2 in ['TAG','TGA','TAA']:\n",
    "                        orf_length = j - i\n",
    "                        break\n",
    "                if orf_length > max_len and ((frame == 'Forward' and mutation_bin_probability(seq_start+i, seq_start+j+3, 1)[0]< p_value)\n",
    "                                             or (frame == 'Reverse' and mutation_bin_probability(seq_start+seq_len-(j+3), seq_start+seq_len-i, -1)[0]<p_value)):\n",
    "                    max_len = orf_length\n",
    "                    if frame == 'Forward':\n",
    "                        strand = 1\n",
    "                        start_pos = i\n",
    "                        end_pos = j+3\n",
    "                        \n",
    "                    else:\n",
    "                        strand = -1\n",
    "                        start_pos = seq_len-(j+3)\n",
    "                        end_pos = seq_len-i\n",
    "    if start_pos == -999:\n",
    "        return(0,0,0)\n",
    "    else:\n",
    "        return(seq_start+start_pos, seq_start+end_pos, strand)   "
   ]
  },
  {
   "cell_type": "markdown",
   "id": "fa7924c2-8bba-4129-b2b5-460bb26aa46b",
   "metadata": {},
   "source": [
    "##### Graph p-values for annotated genes"
   ]
  },
  {
   "cell_type": "code",
   "execution_count": 13,
   "id": "ef5ea97f-6b6e-4cf0-a335-c4693ecb71c8",
   "metadata": {},
   "outputs": [
    {
     "data": {
      "application/vnd.jupyter.widget-view+json": {
       "model_id": "8f8ff7e27e664085b0af21a1db9baf4c",
       "version_major": 2,
       "version_minor": 0
      },
      "text/plain": [
       "  0%|          | 0/4031 [00:00<?, ?it/s]"
      ]
     },
     "metadata": {},
     "output_type": "display_data"
    }
   ],
   "source": [
    "annotated_cds_probabilities = []\n",
    "for (locus, start, stop, strand) in tqdm(actual_cds_boundaries):\n",
    "    annotated_cds_probabilities.append((locus, mutation_bin_probability(start, stop, strand)))"
   ]
  },
  {
   "cell_type": "code",
   "execution_count": 14,
   "id": "739b7a97-8bf5-4bfd-a76f-154ac634e463",
   "metadata": {},
   "outputs": [
    {
     "data": {
      "text/plain": [
       "Text(0, 0.5, 'number of genes - Mycobrowser R3 annotation')"
      ]
     },
     "execution_count": 14,
     "metadata": {},
     "output_type": "execute_result"
    },
    {
     "data": {
      "image/png": "[encoded data removed]",
      "text/plain": [
       "<Figure size 432x288 with 1 Axes>"
      ]
     },
     "metadata": {
      "needs_background": "light"
     },
     "output_type": "display_data"
    }
   ],
   "source": [
    "annotation_probs = [x[1][0] for x in annotated_cds_probabilities]\n",
    "sns.histplot(annotation_probs, bins = 100)\n",
    "plt.xlabel(\"p-value\")\n",
    "plt.ylabel(\"number of genes - Mycobrowser R3 annotation\") "
   ]
  },
  {
   "cell_type": "markdown",
   "id": "8402d7ee-46e3-4780-8432-6c2a7471c274",
   "metadata": {},
   "source": [
    "##### Identify function percentage in Unknown between high and low p-value regions"
   ]
  },
  {
   "cell_type": "code",
   "execution_count": null,
   "id": "e26e9adb-8ed0-4155-b432-68135e837895",
   "metadata": {},
   "outputs": [],
   "source": [
    "locus_info_dict = {}\n",
    "for i, r in mycobrowser_df.iterrows():\n",
    "    if r['Feature'] == 'CDS':\n",
    "        locus_info_dict[r['Locus']] = r['Function']"
   ]
  },
  {
   "cell_type": "code",
   "execution_count": null,
   "id": "b398cf17-b8fc-489d-8aca-f29fd6b16346",
   "metadata": {},
   "outputs": [],
   "source": [
    "locus_exceptions = [x[0] for x in annotated_cds_probabilities if (x[1][0] > 0.5 and x[1][0] < 1.1)]\n",
    "num_unknown_exceptions = 0\n",
    "for ex in locus_exceptions:\n",
    "    if 'nknown' in locus_info_dict[ex]:\n",
    "        num_unknown_exceptions += 1\n",
    "tot_locus = [x[0] for x in annotated_cds_probabilities]\n",
    "num_unknown_tot = 0\n",
    "for ex in tot_locus:\n",
    "    if len(str(locus_info_dict[ex])) > 4:\n",
    "        if 'nknown' in locus_info_dict[ex]:\n",
    "            num_unknown_tot += 1\n",
    "print(num_unknown_exceptions, len(locus_exceptions))\n",
    "print(num_unknown_tot, len(tot_locus))\n",
    "print(num_unknown_exceptions/len(locus_exceptions), (num_unknown_tot-num_unknown_exceptions)/(len(tot_locus)-len(locus_exceptions)))"
   ]
  },
  {
   "cell_type": "markdown",
   "id": "aa633da4-f38a-4a32-a939-8a21e77079b8",
   "metadata": {},
   "source": [
    "##### Percentage of nt mutated by each CDS"
   ]
  },
  {
   "cell_type": "code",
   "execution_count": 27,
   "id": "97a4af84-aca1-42e9-bd7a-f814eb023972",
   "metadata": {},
   "outputs": [
    {
     "data": {
      "text/plain": [
       "<AxesSubplot:ylabel='Count'>"
      ]
     },
     "execution_count": 27,
     "metadata": {},
     "output_type": "execute_result"
    },
    {
     "data": {
      "image/png": "[encoded data removed]",
      "text/plain": [
       "<Figure size 432x288 with 1 Axes>"
      ]
     },
     "metadata": {
      "needs_background": "light"
     },
     "output_type": "display_data"
    }
   ],
   "source": [
    "num_mutations = []\n",
    "for k, v in mutation_counts_dict.items():\n",
    "    num_mutations.append(v)\n",
    "sns.histplot(num_mutations, bins=100)"
   ]
  },
  {
   "cell_type": "code",
   "execution_count": 22,
   "id": "814562e1-7ff4-4c0b-9a5b-e0b7f291bb49",
   "metadata": {},
   "outputs": [
    {
     "data": {
      "application/vnd.jupyter.widget-view+json": {
       "model_id": "2b387d7bdb6243e886692c9d252c400b",
       "version_major": 2,
       "version_minor": 0
      },
      "text/plain": [
       "  0%|          | 0/4031 [00:00<?, ?it/s]"
      ]
     },
     "metadata": {},
     "output_type": "display_data"
    },
    {
     "data": {
      "text/plain": [
       "<AxesSubplot:xlabel='Pct_Mutation', ylabel='Count'>"
      ]
     },
     "execution_count": 22,
     "metadata": {},
     "output_type": "execute_result"
    },
    {
     "data": {
      "image/png": "[encoded data removed]",
      "text/plain": [
       "<Figure size 432x288 with 1 Axes>"
      ]
     },
     "metadata": {
      "needs_background": "light"
     },
     "output_type": "display_data"
    }
   ],
   "source": [
    "cds_mutation_percentage = []\n",
    "for (locus, start, stop, strand) in tqdm(actual_cds_boundaries):\n",
    "    num_mutations = 0\n",
    "    for i in range(start,stop):\n",
    "        num_mutations += (mutation_counts_dict[i])\n",
    "    cds_mutation_percentage.append([locus, num_mutations / (stop - start)])\n",
    "temp = pd.DataFrame(cds_mutation_percentage)\n",
    "temp.columns = ['Locus', 'Pct_Mutation']\n",
    "sns.histplot(temp['Pct_Mutation'])"
   ]
  },
  {
   "cell_type": "code",
   "execution_count": null,
   "id": "b43188b8-eeb7-418a-897d-78123c1e694b",
   "metadata": {},
   "outputs": [],
   "source": []
  },
  {
   "cell_type": "code",
   "execution_count": null,
   "id": "2bc60e76-4bab-4db8-9715-ded8231d63f5",
   "metadata": {},
   "outputs": [],
   "source": [
    "##### Now start off with lower than 0.5 p-values in set and add maximal ORF sets with p-values < 0.1"
   ]
  },
  {
   "cell_type": "code",
   "execution_count": null,
   "id": "402a9f4b-ccde-4440-b0a1-dc198a5d4231",
   "metadata": {},
   "outputs": [],
   "source": [
    "p_value = 0.1\n",
    "num_iterations = 0\n",
    "cds_boundaries = [[0, 0], [4411530, 4411530]]      #De novo\n",
    "cds_dict = {}\n",
    "for i in cds_boundaries:\n",
    "    cds_dict[tuple(i)] = 1\n",
    "    \n",
    "    \n",
    "#cds_boundaries = []\n",
    "#cds_dict = {}\n",
    "#for (locus, x, y, strand) in actual_cds_boundaries:\n",
    "#    if mutation_bin_probability(x, y, strand)[0] <= 0.2:\n",
    "#        cds_dict[(x,y)] = strand\n",
    "#        cds_boundaries.append([x, y])\n",
    "    \n",
    "exhausted_cds = []\n",
    "while len(exhausted_cds) < len(cds_boundaries) - 1:\n",
    "    temp_boundaries = []\n",
    "    for i, (x,y) in enumerate((cds_boundaries)):\n",
    "        if i < len(cds_boundaries) - 1:\n",
    "            if [x,y] in exhausted_cds:\n",
    "                pass\n",
    "            else:\n",
    "                temp = cds_boundaries[i+1][0]\n",
    "                res = max_orf(y, temp, p_value)\n",
    "                if res[0] == 22074 and res[1] == 22176:\n",
    "                    print((y, temp))\n",
    "                if (res[1] - res[0] < 100):\n",
    "                    exhausted_cds.append([x,y])\n",
    "                else:\n",
    "                    temp_boundaries.append([res[0], res[1]])\n",
    "                    cds_dict[(res[0],res[1])] = res[2]\n",
    "                \n",
    "    cds_boundaries = sorted(cds_boundaries + temp_boundaries, key=lambda x: x[0])\n",
    "    print(\"iteration \" + str(num_iterations) + \":  \"+str(len(cds_boundaries))+ \" found.  \"+str(len(exhausted_cds))+\" exhausted regions\")\n",
    "    num_iterations += 1"
   ]
  },
  {
   "cell_type": "code",
   "execution_count": null,
   "id": "585f18c8-3047-4ce7-845d-860c1a901d22",
   "metadata": {},
   "outputs": [],
   "source": [
    "def max_overlap(boundary, comparison_boundaries):\n",
    "    max_overlap = 0\n",
    "    comparison_boundary_0 = 0\n",
    "    comparison_boundary_1 = 0\n",
    "    locus = ''\n",
    "    strand = 1\n",
    "    for bound in comparison_boundaries:\n",
    "        overlap = min(boundary[1], bound[2]) - max(boundary[0], bound[1])\n",
    "        if overlap > max_overlap:\n",
    "            max_overlap = overlap\n",
    "            comparison_boundary_0 = bound[1]\n",
    "            comparison_boundary_1 = bound[2]\n",
    "            locus = bound[0]\n",
    "            strand = bound[3]\n",
    "    return(locus, strand, comparison_boundary_0, comparison_boundary_1, max_overlap)"
   ]
  },
  {
   "cell_type": "code",
   "execution_count": null,
   "id": "3e37cbd3-f56b-4e5c-a441-30d3882f1604",
   "metadata": {},
   "outputs": [],
   "source": [
    "temp = []\n",
    "for bound in tqdm(cds_boundaries):\n",
    "    a = max_overlap(bound, actual_cds_boundaries)\n",
    "    if a[3] > 0:\n",
    "        temp.append([a[0],a[1],a[2],a[3],a[4], cds_dict[(bound[0],bound[1])], bound[0], bound[1], bound[0]-a[2], bound[1]-a[3]])\n",
    "df = pd.DataFrame(temp, columns = ['locus','annotation_strand','annotation_start','annotation_end', 'overlap', 'simulated_strand','simulated_start', 'simulated_end', 'start_offset','end_offset'])"
   ]
  },
  {
   "cell_type": "markdown",
   "id": "4069e0f7-d58d-4a9d-bc29-416b41c095c3",
   "metadata": {},
   "source": [
    "######  Run local alignments of alternative translated CDS against target in all reading frames"
   ]
  },
  {
   "cell_type": "code",
   "execution_count": 167,
   "id": "fb9bc558-e637-413a-8315-e6e51461e048",
   "metadata": {},
   "outputs": [],
   "source": [
    "tb_seq = str(next(SeqIO.parse(genome_datasets_dir + '/GCF_000195955.2/genomic.gbff', \"genbank\")).seq)\n",
    "target_seq = str(next(SeqIO.parse(genome_datasets_dir + '/GCF_016745295.1/genomic.gbff', \"genbank\")).seq)"
   ]
  },
  {
   "cell_type": "code",
   "execution_count": 172,
   "id": "ae6bd45f-6ff2-4097-8bf8-02a44cdb1777",
   "metadata": {},
   "outputs": [
    {
     "data": {
      "application/vnd.jupyter.widget-view+json": {
       "model_id": "06c6652813ee4acd858b744ebbc2b96e",
       "version_major": 2,
       "version_minor": 0
      },
      "text/plain": [
       "  0%|          | 0/3 [00:00<?, ?it/s]"
      ]
     },
     "metadata": {},
     "output_type": "display_data"
    }
   ],
   "source": [
    "target_sequences = []\n",
    "for i in tqdm(range(3)):\n",
    "    for j in [1, -1]:\n",
    "        target_sequences.append(translate_sequence(target_seq, j, i).replace('*','Z'))"
   ]
  },
  {
   "cell_type": "code",
   "execution_count": 173,
   "id": "b991bd45-092e-43d8-af48-c6a839d794ae",
   "metadata": {},
   "outputs": [
    {
     "data": {
      "application/vnd.jupyter.widget-view+json": {
       "model_id": "a0f30858006847cb9ccdbff1986092af",
       "version_major": 2,
       "version_minor": 0
      },
      "text/plain": [
       "  0%|          | 0/6 [00:00<?, ?it/s]"
      ]
     },
     "metadata": {},
     "output_type": "display_data"
    },
    {
     "name": "stdout",
     "output_type": "stream",
     "text": [
      "0.39436619718309857\n",
      "(((837319, 837320), (837320, 837322), (837322, 837323), (837329, 837331), (837333, 837334), (837334, 837335), (837340, 837341), (837341, 837343), (837343, 837346), (837346, 837348), (837349, 837350), (837355, 837356), (837356, 837358), (837359, 837362), (837363, 837364), (837367, 837368), (837369, 837370), (837371, 837372), (837372, 837374), (837374, 837376), (837376, 837377), (837377, 837380), (837380, 837381), (837381, 837382), (837383, 837384), (837384, 837385), (837385, 837388), (837389, 837390), (837391, 837392), (837398, 837399), (837399, 837400), (837404, 837405), (837407, 837408), (837412, 837413), (837416, 837417), (837418, 837419), (837420, 837421), (837423, 837424), (837424, 837427), (837427, 837428)), ((6, 7), (13, 15), (16, 17), (17, 19), (19, 20), (24, 25), (25, 26), (34, 36), (38, 41), (42, 44), (44, 45), (45, 46), (52, 54), (54, 57), (57, 58), (58, 59), (59, 60), (61, 62), (66, 68), (70, 72), (76, 77), (78, 81), (93, 94), (95, 96), (101, 102), (105, 106), (108, 111), (113, 114), (114, 115), (115, 116), (122, 123), (123, 124), (127, 128), (128, 129), (129, 130), (131, 132), (132, 133), (133, 134), (135, 138), (140, 141)))\n",
      "0.3873239436619718\n",
      "(((1066921, 1066922), (1066922, 1066923), (1066923, 1066924), (1066924, 1066926), (1066928, 1066930), (1066932, 1066934), (1066935, 1066936), (1066936, 1066937), (1066939, 1066941), (1066951, 1066952), (1066956, 1066959), (1066959, 1066960), (1066962, 1066963), (1066963, 1066964), (1066966, 1066967), (1066969, 1066970), (1066971, 1066973), (1066973, 1066974), (1066974, 1066975), (1066975, 1066977), (1066977, 1066979), (1066979, 1066980), (1066980, 1066981), (1066981, 1066983), (1066985, 1066986), (1066986, 1066987), (1066987, 1066988), (1066990, 1066991), (1066991, 1066992), (1066992, 1066993), (1066995, 1066997), (1066997, 1066998), (1066999, 1067001), (1067001, 1067002), (1067002, 1067003), (1067007, 1067008), (1067016, 1067017), (1067018, 1067020), (1067021, 1067022), (1067023, 1067025), (1067025, 1067026), (1067026, 1067027), (1067027, 1067029), (1067032, 1067033)), ((4, 5), (6, 7), (9, 10), (13, 15), (15, 17), (17, 19), (19, 20), (23, 24), (25, 27), (28, 29), (31, 34), (36, 37), (38, 39), (41, 42), (42, 43), (43, 44), (44, 46), (50, 51), (52, 53), (55, 57), (60, 62), (65, 66), (68, 69), (71, 73), (74, 75), (78, 79), (86, 87), (87, 88), (89, 90), (93, 94), (95, 97), (98, 99), (105, 107), (115, 116), (117, 118), (118, 119), (119, 120), (120, 122), (122, 123), (123, 125), (129, 130), (135, 136), (138, 140), (140, 141)))\n",
      "0.4295774647887324\n",
      "(((1449912, 1449914), (1449917, 1449918), (1449919, 1449920), (1449924, 1449925), (1449929, 1449930), (1449932, 1449933), (1449933, 1449934), (1449935, 1449936), (1449936, 1449937), (1449937, 1449938), (1449939, 1449940), (1449946, 1449948), (1449949, 1449950), (1449955, 1449957), (1449960, 1449961), (1449961, 1449962), (1449963, 1449964), (1449966, 1449969), (1449973, 1449974), (1449979, 1449981), (1449981, 1449982), (1449986, 1449987), (1449989, 1449990), (1449994, 1449995), (1449997, 1450001), (1450001, 1450002), (1450003, 1450004), (1450004, 1450006), (1450013, 1450014), (1450015, 1450016), (1450016, 1450018), (1450022, 1450023), (1450023, 1450024), (1450028, 1450030), (1450035, 1450036), (1450044, 1450045), (1450045, 1450046), (1450050, 1450052), (1450053, 1450054), (1450054, 1450056), (1450056, 1450057), (1450057, 1450058), (1450065, 1450066), (1450067, 1450068), (1450075, 1450076), (1450078, 1450079), (1450081, 1450084), (1450084, 1450086), (1450087, 1450088), (1450089, 1450091), (1450096, 1450097), (1450097, 1450098), (1450098, 1450100), (1450100, 1450101), (1450102, 1450103)), ((1, 3), (3, 4), (4, 5), (5, 6), (6, 7), (7, 8), (23, 24), (24, 25), (26, 27), (29, 30), (30, 31), (31, 33), (35, 36), (36, 38), (38, 39), (40, 41), (41, 42), (42, 45), (45, 46), (49, 51), (52, 53), (55, 56), (56, 57), (57, 58), (58, 62), (70, 71), (71, 72), (76, 78), (78, 79), (79, 80), (85, 87), (87, 88), (89, 90), (90, 92), (92, 93), (93, 94), (96, 97), (98, 100), (100, 101), (103, 105), (106, 107), (108, 109), (109, 110), (110, 111), (111, 112), (112, 113), (113, 116), (118, 120), (123, 124), (125, 127), (127, 128), (129, 130), (131, 133), (139, 140), (140, 141)))\n",
      "0.47183098591549294\n",
      "(((1820725, 1820726), (1820726, 1820727), (1820727, 1820728), (1820728, 1820729), (1820734, 1820735), (1820736, 1820738), (1820738, 1820739), (1820741, 1820742), (1820742, 1820743), (1820743, 1820744), (1820744, 1820745), (1820745, 1820746), (1820746, 1820747), (1820747, 1820749), (1820752, 1820753), (1820756, 1820758), (1820762, 1820763), (1820766, 1820770), (1820774, 1820775), (1820775, 1820778), (1820783, 1820785), (1820785, 1820786), (1820787, 1820788), (1820797, 1820800), (1820800, 1820801), (1820802, 1820804), (1820804, 1820805), (1820805, 1820806), (1820806, 1820808), (1820808, 1820810), (1820810, 1820811), (1820815, 1820816), (1820817, 1820819), (1820819, 1820820), (1820821, 1820823), (1820824, 1820826), (1820826, 1820827), (1820836, 1820839), (1820842, 1820843), (1820845, 1820846), (1820847, 1820849)), ((2, 3), (4, 5), (6, 7), (10, 11), (11, 12), (12, 14), (20, 21), (21, 22), (23, 24), (25, 26), (27, 28), (30, 31), (32, 33), (42, 44), (44, 45), (45, 47), (52, 53), (56, 60), (60, 61), (64, 67), (67, 69), (70, 71), (71, 72), (74, 77), (87, 88), (92, 94), (95, 96), (103, 104), (108, 110), (114, 116), (117, 118), (118, 119), (119, 121), (124, 125), (125, 127), (127, 129), (131, 132), (132, 135), (135, 136), (138, 139), (139, 141)))\n",
      "0.45774647887323944\n",
      "(((792796, 792797), (792797, 792798), (792801, 792803), (792806, 792807), (792807, 792808), (792810, 792812), (792812, 792814), (792827, 792829), (792832, 792833), (792836, 792838), (792843, 792845), (792846, 792847), (792848, 792849), (792849, 792854), (792857, 792862), (792862, 792863), (792863, 792865), (792865, 792866), (792867, 792868), (792870, 792873), (792876, 792877), (792882, 792883), (792883, 792884), (792884, 792886), (792886, 792887), (792887, 792888), (792890, 792892), (792892, 792893), (792895, 792896), (792898, 792900), (792900, 792901), (792901, 792903), (792903, 792904), (792904, 792905), (792907, 792909), (792914, 792916), (792916, 792917)), ((0, 1), (7, 8), (8, 10), (17, 18), (20, 21), (21, 23), (29, 31), (33, 35), (37, 38), (38, 40), (42, 44), (44, 45), (48, 49), (52, 57), (60, 65), (68, 69), (74, 76), (81, 82), (82, 83), (86, 89), (89, 90), (90, 91), (93, 94), (96, 98), (99, 100), (106, 107), (107, 109), (114, 115), (119, 120), (120, 122), (123, 124), (125, 127), (129, 130), (131, 132), (132, 134), (136, 138), (140, 141)))\n",
      "2.6901408450704225\n",
      "(((1608050, 1608054), (1608055, 1608056), (1608057, 1608060), (1608061, 1608066), (1608068, 1608070), (1608070, 1608071), (1608072, 1608074), (1608076, 1608077), (1608077, 1608079), (1608080, 1608083), (1608084, 1608087), (1608088, 1608089), (1608090, 1608101), (1608103, 1608104), (1608104, 1608109), (1608110, 1608114), (1608116, 1608123), (1608124, 1608130), (1608132, 1608133), (1608133, 1608139), (1608140, 1608144), (1608146, 1608147), (1608148, 1608155), (1608162, 1608163), (1608163, 1608173), (1608175, 1608189), (1608190, 1608192)), ((0, 4), (5, 6), (7, 10), (11, 16), (17, 19), (21, 22), (22, 24), (25, 26), (27, 29), (30, 33), (34, 37), (38, 39), (40, 51), (51, 52), (54, 59), (60, 64), (66, 73), (74, 80), (81, 82), (83, 89), (90, 94), (96, 97), (98, 105), (106, 107), (113, 123), (125, 139), (140, 142)))\n"
     ]
    }
   ],
   "source": [
    "aligner = Align.PairwiseAligner()\n",
    "aligner.mode = 'global'\n",
    "aligner.match_score = 5\n",
    "aligner.mismatch_score = -9\n",
    "aligner.target_internal_open_gap_score = -3\n",
    "aligner.target_internal_extend_gap_score = -1\n",
    "aligner.target_end_open_gap_score = -1\n",
    "aligner.target_end_extend_gap_score = -1\n",
    "aligner.query_internal_open_gap_score = -3\n",
    "aligner.query_internal_extend_gap_score = -1\n",
    "\n",
    "# Set the query_end penalties to zero to effectively implement a 'glocal' alignment as described in the question\n",
    "# These are the default values, so you could skip the next two lines, \n",
    "#    but this is relevant to the question, so I'm including them in the example.\n",
    "aligner.query_end_open_gap_score = 0\n",
    "aligner.query_end_extend_gap_score = 0\n",
    "\n",
    "query_seq = translate_sequence(tb_seq[13132:13558],-1,0).replace('*','Z')\n",
    "for target in tqdm(target_sequences):\n",
    "    alignments = aligner.align(target, query_seq)\n",
    "    print(alignments.score/len(query_seq))\n",
    "    print(alignments[0].aligned)"
   ]
  },
  {
   "cell_type": "code",
   "execution_count": 132,
   "id": "b1096e9c-9e27-405d-8342-8e5713078ae0",
   "metadata": {},
   "outputs": [
    {
     "name": "stdout",
     "output_type": "stream",
     "text": [
      "(((1592307, 1592308), (1592308, 1592309), (1592311, 1592312), (1592312, 1592313), (1592313, 1592314), (1592314, 1592316), (1592320, 1592322), (1592322, 1592324), (1592327, 1592328), (1592328, 1592329), (1592329, 1592330), (1592330, 1592332), (1592335, 1592336), (1592336, 1592337), (1592337, 1592339), (1592340, 1592341), (1592341, 1592342), (1592345, 1592349), (1592353, 1592354), (1592363, 1592364), (1592366, 1592367), (1592367, 1592368), (1592368, 1592370), (1592371, 1592372), (1592372, 1592374), (1592374, 1592377), (1592384, 1592386), (1592391, 1592395), (1592396, 1592397), (1592400, 1592401), (1592401, 1592402), (1592403, 1592405), (1592405, 1592406), (1592406, 1592407), (1592408, 1592409), (1592412, 1592414), (1592414, 1592415), (1592416, 1592417), (1592418, 1592419), (1592419, 1592420), (1592424, 1592425), (1592426, 1592427), (1592427, 1592428), (1592430, 1592431), (1592431, 1592432), (1592432, 1592434), (1592434, 1592436), (1592440, 1592441), (1592441, 1592443), (1592450, 1592451), (1592453, 1592454), (1592454, 1592455), (1592455, 1592457), (1592463, 1592464), (1592466, 1592468), (1592468, 1592469), (1592470, 1592473), (1592474, 1592475)), ((1, 2), (5, 6), (7, 8), (9, 10), (14, 15), (16, 18), (18, 20), (21, 23), (23, 24), (29, 30), (32, 33), (37, 39), (41, 42), (43, 44), (45, 47), (47, 48), (52, 53), (53, 57), (57, 58), (58, 59), (59, 60), (63, 64), (65, 67), (70, 71), (72, 74), (77, 80), (80, 82), (83, 87), (87, 88), (88, 89), (91, 92), (94, 96), (98, 99), (102, 103), (103, 104), (109, 111), (113, 114), (116, 117), (119, 120), (122, 123), (124, 125), (125, 126), (127, 128), (128, 129), (130, 131), (135, 137), (141, 143), (149, 150), (151, 153), (153, 154), (154, 155), (160, 161), (162, 164), (164, 165), (175, 177), (180, 181), (184, 187), (187, 188)))\n"
     ]
    }
   ],
   "source": [
    "print(alignments[0].aligned)"
   ]
  },
  {
   "cell_type": "code",
   "execution_count": 90,
   "id": "ca338d52-fce1-49f3-b71f-c2856a9aaec6",
   "metadata": {},
   "outputs": [
    {
     "name": "stdout",
     "output_type": "stream",
     "text": [
      "[('Rv0001', 0, 1524, 1), ('Rv0002', 2051, 3260, 1), ('Rv0003', 3279, 4437, 1), ('Rv0004', 4433, 4997, 1), ('Rv0005', 5239, 7267, 1), ('Rv0006', 7301, 9818, 1), ('Rv0007', 9913, 10828, 1), ('Rv0008c', 11873, 12311, -1), ('Rv0009', 12467, 13016, 1), ('Rv0010c', 13132, 13558, -1)]\n"
     ]
    }
   ],
   "source": [
    "print(actual_cds_boundaries[0:10])"
   ]
  },
  {
   "cell_type": "code",
   "execution_count": 134,
   "id": "b97f84e9-38b3-4e1b-ac7a-cadd6448e12d",
   "metadata": {},
   "outputs": [
    {
     "name": "stderr",
     "output_type": "stream",
     "text": [
      "100%|██████████| 75075/75075 [00:03<00:00, 22904.21it/s]\n"
     ]
    }
   ],
   "source": [
    "orthologs = sar.Ortholog_Grouping(ortholog_dir)"
   ]
  },
  {
   "cell_type": "code",
   "execution_count": 136,
   "id": "2309e838-bba9-40a8-a3a9-5537e379362b",
   "metadata": {},
   "outputs": [
    {
     "name": "stderr",
     "output_type": "stream",
     "text": [
      "100%|██████████| 16/16 [00:00<00:00, 38.42it/s]\n"
     ]
    }
   ],
   "source": [
    "seq_data = sar.Ortholog_Sequence_Dataset(orthologs, genome_datasets_dir, genome_ids, 50, tb_species) "
   ]
  },
  {
   "cell_type": "code",
   "execution_count": 166,
   "id": "9e0f4755-9fc6-46de-a569-27e747170312",
   "metadata": {},
   "outputs": [
    {
     "data": {
      "text/html": [
       "<div>\n",
       "<style scoped>\n",
       "    .dataframe tbody tr th:only-of-type {\n",
       "        vertical-align: middle;\n",
       "    }\n",
       "\n",
       "    .dataframe tbody tr th {\n",
       "        vertical-align: top;\n",
       "    }\n",
       "\n",
       "    .dataframe thead th {\n",
       "        text-align: right;\n",
       "    }\n",
       "</style>\n",
       "<table border=\"1\" class=\"dataframe\">\n",
       "  <thead>\n",
       "    <tr style=\"text-align: right;\">\n",
       "      <th></th>\n",
       "      <th>name</th>\n",
       "      <th>start</th>\n",
       "      <th>end</th>\n",
       "      <th>strand</th>\n",
       "    </tr>\n",
       "  </thead>\n",
       "  <tbody>\n",
       "    <tr>\n",
       "      <th>1056</th>\n",
       "      <td>Mycobacterium kansasii ATCC 12478</td>\n",
       "      <td>3259154</td>\n",
       "      <td>3259580</td>\n",
       "      <td>-1</td>\n",
       "    </tr>\n",
       "    <tr>\n",
       "      <th>1083</th>\n",
       "      <td>Mycobacterium tuberculosis H37Rv</td>\n",
       "      <td>13132</td>\n",
       "      <td>13558</td>\n",
       "      <td>-1</td>\n",
       "    </tr>\n",
       "    <tr>\n",
       "      <th>1072</th>\n",
       "      <td>Mycobacterium haemophilum DSM 44634</td>\n",
       "      <td>22573</td>\n",
       "      <td>22999</td>\n",
       "      <td>-1</td>\n",
       "    </tr>\n",
       "    <tr>\n",
       "      <th>1045</th>\n",
       "      <td>Mycolicibacterium vaccae 95051</td>\n",
       "      <td>14889</td>\n",
       "      <td>15324</td>\n",
       "      <td>-1</td>\n",
       "    </tr>\n",
       "    <tr>\n",
       "      <th>1025</th>\n",
       "      <td>Mycobacterium intracellulare</td>\n",
       "      <td>15693</td>\n",
       "      <td>16119</td>\n",
       "      <td>-1</td>\n",
       "    </tr>\n",
       "    <tr>\n",
       "      <th>1057</th>\n",
       "      <td>Mycobacterium cookii</td>\n",
       "      <td>3361834</td>\n",
       "      <td>3362251</td>\n",
       "      <td>1</td>\n",
       "    </tr>\n",
       "    <tr>\n",
       "      <th>1099</th>\n",
       "      <td>Mycobacterium shinjukuense</td>\n",
       "      <td>3885789</td>\n",
       "      <td>3886197</td>\n",
       "      <td>-1</td>\n",
       "    </tr>\n",
       "    <tr>\n",
       "      <th>1094</th>\n",
       "      <td>Mycobacterium lacus</td>\n",
       "      <td>4535959</td>\n",
       "      <td>4536382</td>\n",
       "      <td>1</td>\n",
       "    </tr>\n",
       "    <tr>\n",
       "      <th>1049</th>\n",
       "      <td>Mycobacterium marinum</td>\n",
       "      <td>1497369</td>\n",
       "      <td>1497795</td>\n",
       "      <td>-1</td>\n",
       "    </tr>\n",
       "    <tr>\n",
       "      <th>1070</th>\n",
       "      <td>Mycolicibacterium hassiacum DSM 44199</td>\n",
       "      <td>4473856</td>\n",
       "      <td>4474273</td>\n",
       "      <td>1</td>\n",
       "    </tr>\n",
       "    <tr>\n",
       "      <th>1062</th>\n",
       "      <td>Mycolicibacterium smegmatis MC2 155</td>\n",
       "      <td>45853</td>\n",
       "      <td>46261</td>\n",
       "      <td>-1</td>\n",
       "    </tr>\n",
       "  </tbody>\n",
       "</table>\n",
       "</div>"
      ],
      "text/plain": [
       "                                       name    start      end  strand\n",
       "1056      Mycobacterium kansasii ATCC 12478  3259154  3259580      -1\n",
       "1083       Mycobacterium tuberculosis H37Rv    13132    13558      -1\n",
       "1072    Mycobacterium haemophilum DSM 44634    22573    22999      -1\n",
       "1045         Mycolicibacterium vaccae 95051    14889    15324      -1\n",
       "1025           Mycobacterium intracellulare    15693    16119      -1\n",
       "1057                   Mycobacterium cookii  3361834  3362251       1\n",
       "1099             Mycobacterium shinjukuense  3885789  3886197      -1\n",
       "1094                    Mycobacterium lacus  4535959  4536382       1\n",
       "1049                  Mycobacterium marinum  1497369  1497795      -1\n",
       "1070  Mycolicibacterium hassiacum DSM 44199  4473856  4474273       1\n",
       "1062    Mycolicibacterium smegmatis MC2 155    45853    46261      -1"
      ]
     },
     "execution_count": 166,
     "metadata": {},
     "output_type": "execute_result"
    }
   ],
   "source": [
    "temp = seq_data.sequence_data\n",
    "group_id = temp[temp['locus_tag'] == 'Rv0010c'].iloc[0]['group_id']\n",
    "temp[temp.group_id == group_id][['name','start','end','strand']]     "
   ]
  },
  {
   "cell_type": "code",
   "execution_count": 42,
   "id": "1e3bdeba-745a-4fbc-8fe7-7eaf916997de",
   "metadata": {},
   "outputs": [
    {
     "name": "stdout",
     "output_type": "stream",
     "text": [
      "('Rv0140', 166909, 167290, 1) (0.9458959406553689, 172, [71, 53, 48])\n",
      "(166927, 167242, -1) (0.002688750782290694, 140, [34, 43, 63])\n",
      "*****************************************\n",
      "('Rv0314c', 382878, 383541, -1) (0.9649303018285086, 294, [107, 103, 84])\n",
      "(382935, 383463, 1) (0.043717054988640314, 237, [64, 81, 92])\n",
      "*****************************************\n",
      "('Rv0493c', 583700, 584690, -1) (0.9868156502819309, 458, [167, 160, 131])\n",
      "(583963, 584710, 1) (0.06920547246692332, 352, [125, 96, 131])\n",
      "*****************************************\n",
      "('Rv0544c', 635934, 636213, -1) (0.9094443155189642, 131, [45, 49, 37])\n",
      "(635986, 636310, -1) (0.0656515400376283, 152, [42, 50, 60])\n",
      "*****************************************\n",
      "('Rv0628c', 718760, 719912, -1) (1.0, 3, [1, 2, 0])\n",
      "(718675, 719068, -1) (0.07942376793913364, 45, [12, 13, 20])\n",
      "*****************************************\n",
      "('Rv0698', 798832, 799444, 1) (0.9021724901470678, 262, [101, 83, 78])\n",
      "(799159, 799540, -1) (0.03733862570481683, 153, [48, 43, 62])\n",
      "*****************************************\n",
      "('Rv0829', 921574, 921865, 1) (1.0, 1, [1, 0, 0])\n",
      "(921482, 921857, 1) (0.05838069191890338, 36, [12, 7, 17])\n",
      "*****************************************\n",
      "('Rv0892', 993852, 995340, 1) (0.9349313292315485, 584, [205, 201, 178])\n",
      "(994761, 995088, -1) (0.07223167053533719, 139, [37, 47, 55])\n",
      "*****************************************\n",
      "('Rv1105', 1232310, 1232826, 1) (0.9738758536738332, 202, [76, 71, 55])\n",
      "(1232406, 1232739, -1) (0.07237006026461668, 128, [33, 44, 51])\n",
      "*****************************************\n",
      "('Rv1129c', 1253073, 1254534, -1) (0.9999950051335003, 886, [334, 317, 235])\n",
      "(1254131, 1254521, -1) (1.1293203322382261e-05, 217, [58, 56, 103])\n",
      "*****************************************\n",
      "('Rv1194c', 1337247, 1338513, -1) (0.9999992460525535, 675, [242, 265, 168])\n",
      "(1337655, 1338117, 1) (0.019619076382418443, 260, [65, 92, 103])\n",
      "*****************************************\n",
      "('Rv1365c', 1537782, 1538169, -1) (0.9633423271707094, 149, [63, 46, 40])\n",
      "(1537815, 1538148, 1) (0.008347563021696591, 125, [32, 38, 55])\n",
      "*****************************************\n",
      "('Rv1396c', 1572126, 1573857, -1) (0.9373883986452842, 303, [129, 85, 89])\n",
      "(1572794, 1573349, -1) (0.022261451096066587, 112, [34, 30, 48])\n",
      "*****************************************\n",
      "('Rv1815', 2057527, 2058193, 1) (0.915450297454961, 375, [139, 123, 113])\n",
      "(2057569, 2058016, -1) (0.04957877048258019, 255, [77, 80, 98])\n",
      "*****************************************\n",
      "('Rv2043c', 2288680, 2289241, -1) (1.0, 2513, [930, 1264, 319])\n",
      "(2288674, 2289340, 1) (0.0011896045040100667, 2650, [353, 1339, 958])\n",
      "*****************************************\n",
      "('Rv2123', 2381070, 2382492, 1) (0.9488795277501669, 604, [222, 199, 183])\n",
      "(2381887, 2382304, 1) (0.011925344246195846, 172, [49, 51, 72])\n",
      "*****************************************\n",
      "('Rv2571c', 2894892, 2895960, -1) (0.9999993911192785, 649, [234, 255, 160])\n",
      "(2894955, 2895594, 1) (0.07664659715392608, 419, [101, 164, 154])\n",
      "*****************************************\n",
      "('Rv2621c', 2947883, 2948558, -1) (0.9999943243259132, 419, [158, 162, 99])\n",
      "(2948009, 2948534, 1) (0.041049492529655396, 323, [81, 119, 123])\n",
      "*****************************************\n",
      "('Rv2628', 2955057, 2955420, 1) (0.9379140932851127, 200, [88, 55, 57])\n",
      "(2955171, 2955507, -1) (0.014696718717166934, 144, [40, 43, 61])\n",
      "*****************************************\n",
      "('Rv2729c', 3041569, 3042475, -1) (0.9601244936529804, 389, [125, 150, 114])\n",
      "(3041723, 3042320, -1) (0.050551033049618166, 258, [77, 82, 99])\n",
      "*****************************************\n",
      "('Rv3083', 3448503, 3449991, 1) (0.9236613059647656, 731, [258, 247, 226])\n",
      "(3448826, 3449423, 1) (0.045146558815153726, 268, [81, 84, 103])\n",
      "*****************************************\n",
      "('Rv3854c', 4326003, 4327473, -1) (0.9999999999999999, 2055, [649, 892, 514])\n",
      "(4326946, 4327489, -1) (1.4331869024886146e-12, 850, [218, 250, 382])\n",
      "*****************************************\n",
      "('Rv3862c', 4338170, 4338521, -1) (1.0, 794, [317, 323, 154])\n",
      "(4338079, 4338496, 1) (3.3783610161042255e-05, 789, [323, 149, 317])\n",
      "*****************************************\n"
     ]
    }
   ],
   "source": [
    "out_list = []\n",
    "for i in actual_cds_boundaries:\n",
    "    temp = mutation_bin_probability(i[1],i[2],i[3])\n",
    "    if (temp[0] > 0.9 and temp[0] < 1.1) :\n",
    "        new_temp = (max_orf(i[1]-100,i[2]+100, 0.1))\n",
    "        if new_temp[1] - new_temp[0] > 300:\n",
    "            print(i, temp)\n",
    "            print(new_temp, mutation_bin_probability(new_temp[0],new_temp[1],new_temp[2]))\n",
    "            print('*****************************************')"
   ]
  },
  {
   "cell_type": "code",
   "execution_count": null,
   "id": "5a57ffea-fd91-4104-9ee9-d485937f0601",
   "metadata": {},
   "outputs": [],
   "source": [
    "out_list = []\n",
    "for i in actual_cds_boundaries:\n",
    "    \n",
    "    if mutation_bin_probability(i[1],i[2],i[3])[0] > 0.3:\n",
    "        \n",
    "        temp = df[df['locus'] == i[0]]\n",
    "        if len(temp)== 1:\n",
    "            alt_len = temp.iloc[0]['simulated_end'] - temp.iloc[0]['simulated_start']\n",
    "            if mutation_bin_probability(temp.iloc[0]['simulated_start'],temp.iloc[0]['simulated_end'],temp.iloc[0]['simulated_strand'])[0]<0.1 and alt_len > 500 :\n",
    "                print(temp.iloc[0]['locus'], i[2]-i[1])\n",
    "                print ([i[1],i[2],i[3]],mutation_bin_probability(i[1],i[2],i[3]))\n",
    "                print (\"alternative\", str(alt_len))\n",
    "                print([temp.iloc[0]['simulated_start'],temp.iloc[0]['simulated_end'],temp.iloc[0]['simulated_strand']], mutation_bin_probability(temp.iloc[0]['simulated_start'],temp.iloc[0]['simulated_end'],temp.iloc[0]['simulated_strand']))\n",
    "                out_list.append([temp.iloc[0]['locus'], temp.iloc[0]['annotation_start'], temp.iloc[0]['annotation_end'], temp.iloc[0]['annotation_strand'], temp.iloc[0]['simulated_start'],temp.iloc[0]['simulated_end'],temp.iloc[0]['simulated_strand']])\n",
    "                if temp.iloc[0]['simulated_strand'] == 1:\n",
    "                    print(translate_sequence((full_sequence[temp.iloc[0]['simulated_start']: temp.iloc[0]['simulated_end']])))\n",
    "                else:\n",
    "                    print(translate_sequence(align.reverse_complement(full_sequence[temp.iloc[0]['simulated_start']: temp.iloc[0]['simulated_end']])))\n",
    "tempdf = pd.DataFrame(out_list, columns = ['locus','annotation_start','annotation_end', 'annotation_strand', 'simulated_start', 'simulated_end', 'simulated_strand'])      \n",
    "tempdf.to_csv(cryptic_output_path + '/nick2.csv')"
   ]
  },
  {
   "cell_type": "code",
   "execution_count": null,
   "id": "50420b92-904c-4e68-abd9-123a3a037ef1",
   "metadata": {},
   "outputs": [],
   "source": [
    "temp2 = list(lineage_info['MYKROBE_LINEAGE_NAME_2'].unique())\n",
    "#temp2 = [x for x in temp2 if len(str(x)) > 3 and not('/' in x) and not (x=='Unknown') and not('clade' in x) and not('Bovis' in x) and not('Caprae' in x)]\n",
    "for pos in range(1093198,1094122):\n",
    "    for lineage in temp2:\n",
    "        for letter in ['a','c','g','t']:\n",
    "            if (lineage, pos, 'SNP', letter) in variant_count_by_lineage_dict:\n",
    "                print(lineage, pos, 'SNP', letter, variant_count_by_lineage_dict[(lineage, pos, 'SNP', letter)])"
   ]
  },
  {
   "cell_type": "code",
   "execution_count": null,
   "id": "66a62afe-2f48-4395-8283-dd5b529188ce",
   "metadata": {},
   "outputs": [],
   "source": [
    "for pos in range(1093198,1094122):\n",
    "    for letter in ['a','c','g','t']:\n",
    "        if (pos, 'SNP', letter) in variant_count_dict:\n",
    "            print(pos, 'SNP', letter, variant_count_dict[(pos, 'SNP', letter)])"
   ]
  },
  {
   "cell_type": "code",
   "execution_count": null,
   "id": "608810e8-c8d8-439b-9a51-1c28a463238b",
   "metadata": {},
   "outputs": [],
   "source": [
    "print(list(variant_count_dict.items())[1:5])"
   ]
  },
  {
   "cell_type": "code",
   "execution_count": null,
   "id": "f9cfcd8c-7041-44d6-b518-13e554c8eba9",
   "metadata": {},
   "outputs": [],
   "source": [
    "temp = pd.read_csv(cryptic_input_path + 'genomes.csv')\n",
    "lineage_info = temp[['UNIQUEID','MYKROBE_LINEAGE_NAME_1', 'MYKROBE_LINEAGE_NAME_2']]\n"
   ]
  },
  {
   "cell_type": "code",
   "execution_count": null,
   "id": "dd81f2d0-a721-409e-83fd-d1e7f3281979",
   "metadata": {},
   "outputs": [],
   "source": [
    "print(translate_sequence((align.reverse_complement(full_sequence[14936:15548]))))"
   ]
  },
  {
   "cell_type": "code",
   "execution_count": null,
   "id": "f8efb426-1b0f-4243-8698-b9f6841b1dfa",
   "metadata": {},
   "outputs": [],
   "source": [
    "print(translate_sequence(((full_sequence[22651:22819]))))"
   ]
  },
  {
   "cell_type": "code",
   "execution_count": null,
   "id": "aadc1a8e-0490-4a94-9a5e-4ee27377514d",
   "metadata": {},
   "outputs": [],
   "source": [
    "max_orf(22040,22180, 1)"
   ]
  },
  {
   "cell_type": "code",
   "execution_count": null,
   "id": "825acdc5-6ba7-4b8d-8402-2a609417b17a",
   "metadata": {},
   "outputs": [],
   "source": [
    "4059983, 4060268"
   ]
  },
  {
   "cell_type": "code",
   "execution_count": null,
   "id": "13697def-6b97-47cb-a707-2b2ab8720ff7",
   "metadata": {},
   "outputs": [],
   "source": [
    "for n, (locus, x, y, strand) in enumerate(tqdm(actual_cds_boundaries)):\n",
    "    started = 0\n",
    "    i = y\n",
    "    start_stretch = i\n",
    "    while i < actual_cds_boundaries[n+1][1]:\n",
    "        num_appearances = 0\n",
    "        for letter in ['a','c','g','t']:\n",
    "            if (i, 'SNP', letter) in variant_count_dict:\n",
    "                num_appearances += 1\n",
    "        if num_appearances == 0 and started == 0:\n",
    "            started = 1\n",
    "            start_stretch = i\n",
    "        elif num_appearances == 0:\n",
    "            pass\n",
    "        elif i - start_stretch > 200:\n",
    "            print(locus, start_stretch, i)\n",
    "            started = 0 \n",
    "            start_stretch = i\n",
    "        else:\n",
    "            started = 0\n",
    "            start_stretch = i\n",
    "        i+=1"
   ]
  },
  {
   "cell_type": "code",
   "execution_count": null,
   "id": "9de59882-1cff-478e-8c27-ead9dd5da653",
   "metadata": {},
   "outputs": [],
   "source": [
    "print(translate_sequence(((full_sequence[1814843:1815135]))))"
   ]
  },
  {
   "cell_type": "code",
   "execution_count": null,
   "id": "642ac8ec-07e3-4b9f-82ac-2ed64da1597d",
   "metadata": {},
   "outputs": [],
   "source": []
  }
 ],
 "metadata": {
  "kernelspec": {
   "display_name": "Python 3 (ipykernel)",
   "language": "python",
   "name": "python3"
  },
  "language_info": {
   "codemirror_mode": {
    "name": "ipython",
    "version": 3
   },
   "file_extension": ".py",
   "mimetype": "text/x-python",
   "name": "python",
   "nbconvert_exporter": "python",
   "pygments_lexer": "ipython3",
   "version": "3.9.7"
  }
 },
 "nbformat": 4,
 "nbformat_minor": 5
}
