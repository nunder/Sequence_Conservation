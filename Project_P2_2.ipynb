{
 "cells": [
  {
   "cell_type": "code",
   "execution_count": 1,
   "id": "e36786c5-8a4d-4b87-9f58-d6a718cc37c5",
   "metadata": {},
   "outputs": [],
   "source": [
    "import pandas as pd\n",
    "pd.options.mode.chained_assignment = None  # default='warn'\n",
    "import pickle\n",
    "import seaborn as sns\n",
    "import matplotlib.pyplot as plt\n",
    "import numpy as np\n",
    "from Bio import Entrez, SeqIO, AlignIO, pairwise2, Align, Seq, motifs\n",
    "from Bio.Seq import Seq\n",
    "from Bio.SeqFeature import SeqFeature, FeatureLocation\n",
    "from scipy.stats import binom\n",
    "import math\n",
    "from tqdm.auto import tqdm\n",
    "from Comparative_Analysis import Sequence_Analysis_Routines as sar\n",
    "from Comparative_Analysis import Utilities as util\n",
    "from Comparative_Analysis import Alignment as align\n",
    "from Comparative_Analysis import Blast_Functions as blastfn\n",
    "import random\n",
    "import copy\n",
    "from joblib import Parallel, delayed\n",
    "import os\n",
    "import shutil\n",
    "import subprocess\n",
    "from Bio.Blast import NCBIWWW, NCBIXML\n",
    "from Bio.Align.Applications import MuscleCommandline\n",
    "import re\n",
    "import shutil"
   ]
  },
  {
   "cell_type": "code",
   "execution_count": 2,
   "id": "1c8f9536-cd01-45c5-abdb-ef4e9a9dba3b",
   "metadata": {},
   "outputs": [],
   "source": [
    "full_run = True\n",
    "project_dir = 'D:/Project_Data/Project_8'\n",
    "datasets_dir = project_dir + '/Datasets'\n",
    "output_dir = project_dir + '/Output'\n",
    "wsl_output_loc = util.wslname(output_dir)\n",
    "seq_dir = 'D:/Actinobacteria_Ref_Rep_Lev_Complete'\n",
    "blast_dir = 'D:/BLAST/actinobacteria_ref_rep_comp'\n",
    "blast_db_name = 'actinobacteria_ref_rep_comp'\n",
    "num_cores = 16\n",
    "core_numbers = list(range(1, num_cores+1))\n",
    "reference_species_filename = 'GCF_000195955.2_ASM19595v2_genomic.gbff'\n",
    "species_list = util.list_files(seq_dir)"
   ]
  },
  {
   "cell_type": "markdown",
   "id": "a2cd388b-0056-4a83-b21c-0959a15e5133",
   "metadata": {},
   "source": [
    "##### Generate file containing all intergenic regions in reference organism"
   ]
  },
  {
   "cell_type": "code",
   "execution_count": 3,
   "id": "ad963602-bf2d-4080-a2bd-dd76b074886b",
   "metadata": {},
   "outputs": [],
   "source": [
    "features = []\n",
    "genome_record = next(SeqIO.parse(seq_dir + '/' + reference_species_filename, \"genbank\"))\n",
    "full_sequence = str(genome_record.seq)\n",
    "mycobrowser_df = pd.read_excel(datasets_dir+'/Mycobrowser_Release_4.xlsx')\n",
    "for i, r in mycobrowser_df.iterrows():\n",
    "    if r['Strand'] == '+':\n",
    "        strand = 1\n",
    "    else:\n",
    "        strand = -1\n",
    "    features.append([r['Locus'],r['Start']-1, r['Stop'], strand])\n",
    "features.sort(key=lambda x: x[1])\n",
    "feature_info = []\n",
    "for i, feature in enumerate(features):\n",
    "    feature_sequence = full_sequence[feature[1]: feature[2]]\n",
    "    #feature_info.append([feature[0], feature[1], feature[2], feature_sequence, len(feature_sequence)])\n",
    "    if feature[1] < feature[2]:  \n",
    "        if (i + 1)< len(features) and feature[2] < features[i+1][1]:\n",
    "            utr_coords = (feature[2], features[i+1][1])\n",
    "            utr_sequence = full_sequence[feature[2]: features[i+1][1]]\n",
    "            utr_length = len(utr_sequence)\n",
    "        else:\n",
    "            utr_coords = (0,0)\n",
    "            utr_sequence = ''\n",
    "            utr_length = 0\n",
    "        if 1==1:\n",
    "        #if utr_length > 50:\n",
    "            feature_info.append([feature[0] + '_IG', utr_coords[0], utr_coords[1], utr_sequence, utr_length])\n",
    "intergenic_df = pd.DataFrame(feature_info, columns = ['Locus', 'Start' , 'End', 'Sequence', 'Length'])"
   ]
  },
  {
   "cell_type": "markdown",
   "id": "ad67350d-b3f3-4fec-bd71-8466a5d06a39",
   "metadata": {},
   "source": [
    "##### Run HMMER and INFERNAL iteratively"
   ]
  },
  {
   "cell_type": "code",
   "execution_count": 4,
   "id": "84e5b496-44f8-4094-819a-f2641c6ca34f",
   "metadata": {},
   "outputs": [
    {
     "data": {
      "text/plain": [
       "1959"
      ]
     },
     "execution_count": 4,
     "metadata": {},
     "output_type": "execute_result"
    }
   ],
   "source": [
    "nick = intergenic_df[intergenic_df.Length >= 50]\n",
    "len(nick)"
   ]
  },
  {
   "cell_type": "code",
   "execution_count": 5,
   "id": "228e4aa1-93a6-4e46-a65a-d390fcf9f4cf",
   "metadata": {},
   "outputs": [],
   "source": [
    "test = intergenic_df[intergenic_df.Locus.isin(['MTB000002_IG'])]"
   ]
  },
  {
   "cell_type": "code",
   "execution_count": 6,
   "id": "6feacc70-e16e-4e97-b148-d86b7709683a",
   "metadata": {},
   "outputs": [
    {
     "name": "stdout",
     "output_type": "stream",
     "text": [
      "MTB000002_IG\n"
     ]
    },
    {
     "name": "stderr",
     "output_type": "stream",
     "text": [
      "100%|██████████| 1/1 [00:00<?, ?it/s]\n"
     ]
    },
    {
     "ename": "IndexError",
     "evalue": "list index out of range",
     "output_type": "error",
     "traceback": [
      "\u001b[1;31m---------------------------------------------------------------------------\u001b[0m",
      "\u001b[1;31mIndexError\u001b[0m                                Traceback (most recent call last)",
      "\u001b[1;32m~\\AppData\\Local\\Temp/ipykernel_9000/1397042082.py\u001b[0m in \u001b[0;36m<module>\u001b[1;34m\u001b[0m\n\u001b[0;32m     26\u001b[0m     \u001b[0mblastfn\u001b[0m\u001b[1;33m.\u001b[0m\u001b[0minfernal_search\u001b[0m\u001b[1;33m(\u001b[0m\u001b[0mresults_dir\u001b[0m\u001b[1;33m,\u001b[0m \u001b[1;34m'cm_1.cm'\u001b[0m\u001b[1;33m,\u001b[0m \u001b[0mdatasets_dir\u001b[0m\u001b[1;33m,\u001b[0m \u001b[1;34m'full_sequences.faa'\u001b[0m\u001b[1;33m,\u001b[0m \u001b[1;34m'search_1.sto'\u001b[0m\u001b[1;33m,\u001b[0m \u001b[1;34m'search_hits_1.txt'\u001b[0m\u001b[1;33m,\u001b[0m \u001b[1;34m'summary.txt'\u001b[0m\u001b[1;33m,\u001b[0m \u001b[0minfernal_eval\u001b[0m\u001b[1;33m)\u001b[0m\u001b[1;33m\u001b[0m\u001b[1;33m\u001b[0m\u001b[0m\n\u001b[0;32m     27\u001b[0m \u001b[1;33m\u001b[0m\u001b[0m\n\u001b[1;32m---> 28\u001b[1;33m     \u001b[0mblastfn\u001b[0m\u001b[1;33m.\u001b[0m\u001b[0malign_keep_top_hit_per_species\u001b[0m\u001b[1;33m(\u001b[0m\u001b[0mresults_dir\u001b[0m\u001b[1;33m,\u001b[0m \u001b[1;34m'summary.txt'\u001b[0m\u001b[1;33m,\u001b[0m \u001b[1;34m'search_1.sto'\u001b[0m\u001b[1;33m,\u001b[0m \u001b[1;34m'search_bh_1.sto'\u001b[0m\u001b[1;33m,\u001b[0m \u001b[1;34m'INFERNAL'\u001b[0m\u001b[1;33m,\u001b[0m \u001b[0minfernal_eval\u001b[0m\u001b[1;33m)\u001b[0m\u001b[1;33m\u001b[0m\u001b[1;33m\u001b[0m\u001b[0m\n\u001b[0m\u001b[0;32m     29\u001b[0m     \u001b[0mblastfn\u001b[0m\u001b[1;33m.\u001b[0m\u001b[0mrun_rscape\u001b[0m\u001b[1;33m(\u001b[0m\u001b[0mresults_dir\u001b[0m\u001b[1;33m,\u001b[0m \u001b[1;34m'search_bh_1.sto'\u001b[0m\u001b[1;33m,\u001b[0m \u001b[1;34m'rscape_1'\u001b[0m\u001b[1;33m)\u001b[0m\u001b[1;33m\u001b[0m\u001b[1;33m\u001b[0m\u001b[0m\n\u001b[0;32m     30\u001b[0m \u001b[1;33m\u001b[0m\u001b[0m\n",
      "\u001b[1;32m~\\Documents\\GitHub\\Sequence_Conservation\\Comparative_Analysis\\Blast_Functions.py\u001b[0m in \u001b[0;36malign_keep_top_hit_per_species\u001b[1;34m(files_dir, hit_file, alignment_file, output_alignment_file, package, evalue)\u001b[0m\n\u001b[0;32m     80\u001b[0m                 \u001b[1;32mif\u001b[0m \u001b[1;32mnot\u001b[0m\u001b[1;33m(\u001b[0m\u001b[0ml\u001b[0m\u001b[1;33m[\u001b[0m\u001b[1;36m0\u001b[0m\u001b[1;33m]\u001b[0m \u001b[1;33m==\u001b[0m \u001b[1;34m'#'\u001b[0m\u001b[1;33m)\u001b[0m\u001b[1;33m:\u001b[0m\u001b[1;33m\u001b[0m\u001b[1;33m\u001b[0m\u001b[0m\n\u001b[0;32m     81\u001b[0m                     \u001b[0ma\u001b[0m \u001b[1;33m=\u001b[0m \u001b[0ml\u001b[0m\u001b[1;33m.\u001b[0m\u001b[0msplit\u001b[0m\u001b[1;33m(\u001b[0m\u001b[1;33m)\u001b[0m\u001b[1;33m\u001b[0m\u001b[1;33m\u001b[0m\u001b[0m\n\u001b[1;32m---> 82\u001b[1;33m                     \u001b[1;32mif\u001b[0m \u001b[0ma\u001b[0m\u001b[1;33m[\u001b[0m\u001b[1;36m16\u001b[0m\u001b[1;33m]\u001b[0m \u001b[1;33m==\u001b[0m \u001b[1;34m'!'\u001b[0m\u001b[1;33m:\u001b[0m\u001b[1;33m\u001b[0m\u001b[1;33m\u001b[0m\u001b[0m\n\u001b[0m\u001b[0;32m     83\u001b[0m                         \u001b[1;32mif\u001b[0m \u001b[0ma\u001b[0m\u001b[1;33m[\u001b[0m\u001b[1;36m0\u001b[0m\u001b[1;33m]\u001b[0m \u001b[1;32min\u001b[0m \u001b[0mdict\u001b[0m\u001b[1;33m:\u001b[0m\u001b[1;33m\u001b[0m\u001b[1;33m\u001b[0m\u001b[0m\n\u001b[0;32m     84\u001b[0m                             \u001b[1;32mif\u001b[0m \u001b[0mfloat\u001b[0m\u001b[1;33m(\u001b[0m\u001b[0ma\u001b[0m\u001b[1;33m[\u001b[0m\u001b[1;36m15\u001b[0m\u001b[1;33m]\u001b[0m\u001b[1;33m)\u001b[0m \u001b[1;33m<\u001b[0m \u001b[0mdict\u001b[0m\u001b[1;33m[\u001b[0m\u001b[0ma\u001b[0m\u001b[1;33m[\u001b[0m\u001b[1;36m0\u001b[0m\u001b[1;33m]\u001b[0m\u001b[1;33m]\u001b[0m\u001b[1;33m[\u001b[0m\u001b[1;36m1\u001b[0m\u001b[1;33m]\u001b[0m\u001b[1;33m:\u001b[0m\u001b[1;33m\u001b[0m\u001b[1;33m\u001b[0m\u001b[0m\n",
      "\u001b[1;31mIndexError\u001b[0m: list index out of range"
     ]
    }
   ],
   "source": [
    "hmmer_eval =  1e-5\n",
    "infernal_eval = 1e-5\n",
    "query_file = 'intergenic_region.faa'\n",
    "hm_model_file = 'hmm.hmm'\n",
    "cm_model_file = 'cm.cm'\n",
    "for i, r in test.iterrows():\n",
    "    sequence_list = [[r['Locus'], r['Sequence']]]\n",
    "    locus_id = r['Locus']\n",
    "    print(locus_id)\n",
    "    results_dir = output_dir + '/' + locus_id\n",
    "    if not os.path.exists(results_dir):\n",
    "        os.makedirs(results_dir)\n",
    "    util.produce_fasta_file(sequence_list, results_dir + '/' + query_file)\n",
    "    \n",
    "    blastfn.nhmmer_search_sequence(results_dir, query_file, datasets_dir, 'full_sequences.faa', 'align_1.sto', 'output.txt', 'summary.txt', hmmer_eval) \n",
    "    if not os.path.exists(results_dir +'/summary.txt'):\n",
    "        continue\n",
    "    blastfn.align_keep_top_hit_per_species(results_dir, 'summary.txt', 'align_1.sto', 'align_1.sto', 'HMMER', hmmer_eval)\n",
    "    for i in range(4):\n",
    "        blastfn.hmmer_build(results_dir, 'align_1.sto' ,hm_model_file)\n",
    "        blastfn.nhmmer_search_model(results_dir, hm_model_file, datasets_dir, 'full_sequences.faa', 'align_1.sto', 'output.txt', 'summary.txt', hmmer_eval)      #seq_dir, 'full_sequences.faa'\n",
    "        blastfn.align_keep_top_hit_per_species(results_dir, 'summary.txt', 'align_1.sto', 'align_1.sto', 'HMMER', hmmer_eval)\n",
    "\n",
    "    \n",
    "    blastfn.infernal_build_and_calib(results_dir, 'align_1.sto' ,'cm_1.cm', False)\n",
    "    blastfn.infernal_search(results_dir, 'cm_1.cm', datasets_dir, 'full_sequences.faa', 'search_1.sto', 'search_hits_1.txt', 'summary.txt', infernal_eval) \n",
    "    \n",
    "    blastfn.align_keep_top_hit_per_species(results_dir, 'summary.txt', 'search_1.sto', 'search_bh_1.sto', 'INFERNAL', infernal_eval)\n",
    "    blastfn.run_rscape(results_dir, 'search_bh_1.sto', 'rscape_1')\n",
    "\n",
    "    #2\n",
    "\n",
    "    blastfn.infernal_build_and_calib(results_dir, 'rscape_1.cacofold.R2R.sto' ,'cm_2.cm')\n",
    "    blastfn.infernal_search(results_dir, 'cm_2.cm', datasets_dir, 'full_sequences.faa', 'search_2.sto', 'search_hits_2.txt', 'summary.txt', infernal_eval) \n",
    "    blastfn.align_keep_top_hit_per_species(results_dir, 'summary.txt', 'search_2.sto', 'search_bh_2.sto', 'INFERNAL', infernal_eval)\n",
    "    blastfn.run_rscape(results_dir, 'search_bh_2.sto', 'rscape_2')\n",
    "\n",
    "   #3\n",
    "\n",
    "    blastfn.infernal_build_and_calib(results_dir, 'rscape_2.cacofold.R2R.sto' ,'cm_3.cm')\n",
    "    blastfn.infernal_search(results_dir, 'cm_3.cm', datasets_dir, 'full_sequences.faa', 'search_3.sto', 'search_hits_3.txt', 'summary.txt', infernal_eval) \n",
    "    blastfn.run_rscape(results_dir, 'search_3.sto', 'rscape_3')\n",
    "    \n",
    "   "
   ]
  },
  {
   "cell_type": "code",
   "execution_count": 19,
   "id": "cb59bcdf-4807-4203-9017-9c0a2f7ea181",
   "metadata": {},
   "outputs": [],
   "source": [
    "#with open(datasets_dir + '/full_sequences.faa', 'r') as f:\n",
    "with open(datasets_dir + '/merged_file.txt', 'r') as f:\n",
    "    idlist = []\n",
    "    j=0\n",
    "    for l in f:\n",
    "        if l[0]=='>':\n",
    "            idlist.append(l.strip()[1:].split()[0])\n",
    "            \n",
    "nick = pd.DataFrame(idlist)\n",
    "nick.to_csv(output_dir +'/list2.csv')"
   ]
  },
  {
   "cell_type": "code",
   "execution_count": 21,
   "id": "9cd93913-3f4c-4081-8098-db74ab65e103",
   "metadata": {},
   "outputs": [],
   "source": [
    "blastfn.run_rscape(results_dir, 'search_1.sto', 'rscape_1')"
   ]
  },
  {
   "cell_type": "code",
   "execution_count": 22,
   "id": "107466dd-904b-4d91-af83-b5e528f26dbf",
   "metadata": {},
   "outputs": [
    {
     "data": {
      "text/plain": [
       "'D:/Project_Data/Project_8/Output/Rv1173_IG'"
      ]
     },
     "execution_count": 22,
     "metadata": {},
     "output_type": "execute_result"
    }
   ],
   "source": [
    "results_dir"
   ]
  },
  {
   "cell_type": "code",
   "execution_count": 27,
   "id": "bfe50380-4296-4a74-af8d-12ca2470fbb6",
   "metadata": {},
   "outputs": [],
   "source": [
    "def align_keep_top_hit_per_species(files_dir, hit_file, alignment_file, output_alignment_file, package, evalue = 0.01): \n",
    "    wsl_files_loc = util.wslname(files_dir)\n",
    "    dict = {}\n",
    "    if package == 'INFERNAL':\n",
    "        with open(files_dir + '/' + hit_file, 'r') as f:\n",
    "            for l in f:\n",
    "                if not(l[0] == '#'): \n",
    "                    a = l.split()\n",
    "                    if a[16] == '!':\n",
    "                        if a[0] in dict:\n",
    "                            if float(a[15]) < dict[a[0]][1]:\n",
    "                                dict[a[0]] = (a[7]+'-'+a[8],float(a[15]))\n",
    "                        else:\n",
    "                            dict[a[0]] = (a[7]+'-'+a[8],float(a[15]))\n",
    "    elif package == 'HMMER':\n",
    "        with open(files_dir + '/' + hit_file, 'r') as f:\n",
    "            for l in f:\n",
    "                if not(l[0] == '#'): \n",
    "                    a = l.split()\n",
    "                    if float(a[12]) < evalue:\n",
    "                        if a[0] in dict:\n",
    "                            if float(a[12]) < dict[a[0]][1]:\n",
    "                                dict[a[0]] = (a[6]+'-'+a[7],float(a[12]))\n",
    "                        else:\n",
    "                            dict[a[0]] = (a[6]+'-'+a[7],float(a[12]))\n",
    "    else:\n",
    "        pass\n",
    "    with open(files_dir + '/keep_list.txt', 'w') as f:\n",
    "        lines = []\n",
    "        for k, v in dict.items():\n",
    "            lines.append(k + '/' + v[0] + \"\\n\")\n",
    "        f.write(''.join(lines))\n",
    "    subprocess.run('wsl cd ' + wsl_files_loc + ' ; esl-alimanip -o '+output_alignment_file + ' --seq-k keep_list.txt '+ alignment_file, shell=True)\n",
    "    "
   ]
  },
  {
   "cell_type": "code",
   "execution_count": 22,
   "id": "12597598-43f2-432f-bce9-6e926ce9f59f",
   "metadata": {},
   "outputs": [
    {
     "name": "stdout",
     "output_type": "stream",
     "text": [
      "MTB000002_IG\n"
     ]
    },
    {
     "name": "stderr",
     "output_type": "stream",
     "text": [
      "100%|██████████| 1/1 [00:00<?, ?it/s]\n"
     ]
    }
   ],
   "source": [
    "hmmer_eval =  1e-5\n",
    "infernal_eval = 1e-5\n",
    "query_file = 'intergenic_region.faa'\n",
    "hm_model_file = 'hmm.hmm'\n",
    "cm_model_file = 'cm.cm'\n",
    "for i, r in test.iterrows():\n",
    "    sequence_list = [[r['Locus'], r['Sequence']]]\n",
    "    locus_id = r['Locus']\n",
    "    print(locus_id)\n",
    "    results_dir = output_dir + '/' + locus_id\n",
    "    if not os.path.exists(results_dir):\n",
    "        os.makedirs(results_dir)\n",
    "    util.produce_fasta_file(sequence_list, results_dir + '/' + query_file)\n",
    "    \n",
    "    blastfn.nhmmer_search_sequence(results_dir, query_file, datasets_dir, 'full_sequences.faa', 'align_1.sto', 'output.txt', 'summary.txt', hmmer_eval) "
   ]
  },
  {
   "cell_type": "code",
   "execution_count": 23,
   "id": "50641dd9-938e-4227-84f6-3ced7f3e854d",
   "metadata": {},
   "outputs": [],
   "source": [
    "blastfn.align_keep_top_hit_per_species(results_dir, 'summary.txt', 'align_1.sto', 'align_1.sto', 'HMMER', hmmer_eval)"
   ]
  },
  {
   "cell_type": "code",
   "execution_count": 26,
   "id": "9e6ab086-b91a-45df-b69f-1e5dd40c322c",
   "metadata": {},
   "outputs": [],
   "source": [
    "i=1\n",
    "blastfn.hmmer_build(results_dir, 'align_'+str(i+1)+'.sto' ,hm_model_file)\n",
    "blastfn.nhmmer_search_model(results_dir, hm_model_file, datasets_dir, 'full_sequences.faa', 'align_'+str(i+2)+'.sto', 'output.txt', 'summary.txt', hmmer_eval)      #seq_dir, 'full_sequences.faa'"
   ]
  },
  {
   "cell_type": "code",
   "execution_count": 31,
   "id": "9748b3d2-028d-4dc6-9407-63302bebffd4",
   "metadata": {},
   "outputs": [],
   "source": [
    "align_keep_top_hit_per_species(results_dir, 'summary.txt', 'align_'+str(i+2)+'.sto', 'align_'+str(i+2)+'.sto', 'HMMER', hmmer_eval)"
   ]
  },
  {
   "cell_type": "code",
   "execution_count": null,
   "id": "5f43aaf0-1709-4897-93d8-390083899bd2",
   "metadata": {},
   "outputs": [],
   "source": []
  }
 ],
 "metadata": {
  "kernelspec": {
   "display_name": "Python 3 (ipykernel)",
   "language": "python",
   "name": "python3"
  },
  "language_info": {
   "codemirror_mode": {
    "name": "ipython",
    "version": 3
   },
   "file_extension": ".py",
   "mimetype": "text/x-python",
   "name": "python",
   "nbconvert_exporter": "python",
   "pygments_lexer": "ipython3",
   "version": "3.9.7"
  }
 },
 "nbformat": 4,
 "nbformat_minor": 5
}
