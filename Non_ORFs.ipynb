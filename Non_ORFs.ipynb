{
 "cells": [
  {
   "cell_type": "markdown",
   "id": "b1e30ed4-8a0e-4a6f-96eb-dfe116dfb2de",
   "metadata": {},
   "source": [
    "#### Directories etc"
   ]
  },
  {
   "cell_type": "code",
   "execution_count": 22,
   "id": "cf9c6377-5080-4c22-94db-feabe17cc47c",
   "metadata": {},
   "outputs": [],
   "source": [
    "import pandas as pd\n",
    "import pickle\n",
    "import seaborn as sns\n",
    "import matplotlib.pyplot as plt\n",
    "import numpy as np\n",
    "from scipy.fft import fft, fftfreq\n",
    "from Bio import Entrez, SeqIO, AlignIO, pairwise2, Align, Seq, motifs\n",
    "from Bio.Seq import Seq\n",
    "from Bio.SeqFeature import SeqFeature, FeatureLocation\n",
    "from scipy.stats import binom\n",
    "import math\n",
    "import random\n",
    "from tqdm import tqdm\n",
    "from Comparative_Analysis import Utilities as util\n",
    "from collections import defaultdict\n",
    "import random\n",
    "from joblib import Parallel, delayed\n",
    "from Comparative_Analysis import Blast_Functions as blastfn\n",
    "import time\n",
    "import os\n",
    "import copy\n",
    "from Comparative_Analysis import ORF_Functions as orffn\n",
    "from random import sample\n",
    "pd.options.mode.chained_assignment = None  # default='warn'\n",
    "import ete3\n",
    "import matplotlib.pyplot as plt\n",
    "from statistics import mode\n",
    "from scipy.stats import chi2"
   ]
  },
  {
   "cell_type": "code",
   "execution_count": 2,
   "id": "1988a242-f558-4643-b3a9-27272fa7bebc",
   "metadata": {},
   "outputs": [],
   "source": [
    "project_dir = 'F:/Project_Data/Project_11'\n",
    "seq_dir = 'F:/Datasets/Actinobacteria_Ref_Rep_Lev_Complete'\n",
    "dictionary_dir = 'F:/Datasets/CRYPTIC_DATA/Cryptic_Dictionaries'\n",
    "tb_species = 'NC_000962.3' \n",
    "tb_genome_filename = 'GCF_000195955.2_ASM19595v2_genomic.gbff'\n",
    "mycobrowser_dir = 'F:/Datasets/Data_From_Publications'\n",
    "num_cores = 16\n",
    "core_numbers = list(range(1, num_cores+1))"
   ]
  },
  {
   "cell_type": "code",
   "execution_count": 3,
   "id": "d39fe86c-bc60-4b04-a35a-41372a27e1e1",
   "metadata": {},
   "outputs": [],
   "source": [
    "for record in SeqIO.parse(seq_dir + '/' + tb_genome_filename, \"genbank\"):\n",
    "    full_sequence = str(record.seq)"
   ]
  },
  {
   "cell_type": "code",
   "execution_count": 4,
   "id": "8d785c84-dd9a-48b9-b57f-faabcd506cc0",
   "metadata": {},
   "outputs": [
    {
     "name": "stderr",
     "output_type": "stream",
     "text": [
      "100%|██████████| 4411530/4411530 [00:17<00:00, 250780.96it/s]\n",
      "100%|██████████| 4411530/4411530 [00:19<00:00, 222637.68it/s]\n"
     ]
    }
   ],
   "source": [
    "max_len = 0\n",
    "orfs_found = []\n",
    "start_pos = -999\n",
    "end_pos = -999\n",
    "orf_length_counts = [0 for x in full_sequence]\n",
    "\n",
    "for frame in ['Forward', 'Reverse']:\n",
    "    if frame == 'Forward':\n",
    "        temp = full_sequence\n",
    "    else:\n",
    "        temp = util.reverse_complement(full_sequence)\n",
    "    seq_len = len(temp)\n",
    "    for i in tqdm(range(seq_len - 2)):\n",
    "        orf_length = 0\n",
    "        test_codon = temp[i: i+3] \n",
    "        if test_codon in ['ATG','GTG','TTG']:  #Missed out CTG as doesn't seem to be used very much at all\n",
    "            for j in range(i + 3, seq_len - 2, 3):\n",
    "                test_codon_2 = temp[j: j+3] \n",
    "                if test_codon_2 in ['TAG','TGA','TAA']:\n",
    "                    orf_length = j - i\n",
    "                    break\n",
    "            if orf_length > 0:\n",
    "                if frame == 'Forward':\n",
    "                    orf_start =  i\n",
    "                    orf_end = j+3\n",
    "                    orf_strand = 1\n",
    "                else:\n",
    "                    orf_start =  seq_len-(j+3)\n",
    "                    orf_end =  seq_len-i\n",
    "                    orf_strand = -1\n",
    "                for i in range(orf_start, orf_end):\n",
    "                    orf_length_counts[i] = max(orf_length, orf_length_counts[i])"
   ]
  },
  {
   "cell_type": "code",
   "execution_count": 5,
   "id": "be0c986b-f8c9-4b64-a1ef-7e54b5689ada",
   "metadata": {},
   "outputs": [
    {
     "name": "stderr",
     "output_type": "stream",
     "text": [
      "4411532it [00:38, 114789.82it/s]\n"
     ]
    }
   ],
   "source": [
    "orf_length_averages = []\n",
    "seq_end = len(orf_length_counts)\n",
    "for n,i in tqdm(enumerate(orf_length_counts)):\n",
    "    start_pos = n\n",
    "    end_pos = n+1000\n",
    "    orf_length_averages.append(sum(orf_length_counts[start_pos:min(end_pos,seq_end)])/len(orf_length_counts[start_pos:min(end_pos,seq_end)]))"
   ]
  },
  {
   "cell_type": "code",
   "execution_count": 6,
   "id": "d699423f-82db-4583-9251-58f902da58f1",
   "metadata": {},
   "outputs": [],
   "source": [
    "non_orfs = []\n",
    "last_break = 0\n",
    "for n, i in enumerate(orf_length_averages):\n",
    "    if n < len(full_sequence) - 1000 and i < 400 and n > last_break+1000:\n",
    "        last_break = n\n",
    "        non_orfs.append(n)"
   ]
  },
  {
   "cell_type": "code",
   "execution_count": 7,
   "id": "cec91807-ee76-4f15-a4a9-b296bc652f27",
   "metadata": {},
   "outputs": [],
   "source": [
    "def bin_formula(position_3_counts, tot_bin_counts):\n",
    "    return 1- binom.cdf(position_3_counts-1, tot_bin_counts,1/3)\n",
    "def mutation_bin_probability(mutation_counts):\n",
    "    bin_counts = [0,0,0]\n",
    "    for i, c in enumerate(mutation_counts):\n",
    "        bin_counts[i % 3] += min(c,1)\n",
    "    if sum(bin_counts) == 0:\n",
    "        return (bin_counts, 2)\n",
    "    else:\n",
    "        return (bin_counts, bin_formula(bin_counts[2], sum(bin_counts)))  "
   ]
  },
  {
   "cell_type": "code",
   "execution_count": 8,
   "id": "a2a52013-e8dc-42a6-8487-bc581513555c",
   "metadata": {},
   "outputs": [],
   "source": [
    "with open(project_dir + '/Thoth_Full_Run/zero_and_non_zero_mutation_counts.pkl', 'rb') as f:\n",
    "    full_sample_zero_and_non_zero_mutation_counts = pickle.load(f)   "
   ]
  },
  {
   "cell_type": "code",
   "execution_count": 9,
   "id": "35e64644-d592-4112-926a-eb0a6fd46acd",
   "metadata": {},
   "outputs": [],
   "source": [
    "compass_df = pd.read_csv('F:/Datasets/CRYPTIC_DATA/COMPASS.csv', names = ['species', 'start', 'stop','count'])\n",
    "compass_dict = {}\n",
    "for i, r in compass_df.iterrows():\n",
    "    for k in range(r['start'], r['stop']):     #  Should te start-1 but seems to ve inconsistency with mutations!!\n",
    "        compass_dict[k] = 'Y'"
   ]
  },
  {
   "cell_type": "code",
   "execution_count": 11,
   "id": "93c2e594-b4fa-4344-b087-ad7dcd97024b",
   "metadata": {},
   "outputs": [],
   "source": [
    "temp = []\n",
    "for x in range(1000):\n",
    "    start = random.randint(0,len(full_sequence) - 2001)\n",
    "    strand = random.randint(0,1)\n",
    "    stop = start+2000\n",
    "    compass_overlap = 0\n",
    "    for n in range(start, stop):\n",
    "        if n in compass_dict:\n",
    "            compass_overlap += 1\n",
    "    if compass_overlap / (stop - start) > 0.2:\n",
    "        continue\n",
    "    if strand == 1:\n",
    "        temp.append(mutation_bin_probability(full_sample_zero_and_non_zero_mutation_counts[start:stop]))\n",
    "    else:\n",
    "        temp.append(mutation_bin_probability(reversed(full_sample_zero_and_non_zero_mutation_counts[start:stop])))\n",
    "     \n",
    "    scores = []\n",
    "    for x in temp:\n",
    "        scores.append(x[1])"
   ]
  },
  {
   "cell_type": "code",
   "execution_count": 12,
   "id": "bb69d572-4a5f-4b7e-a6a2-f81903ec3921",
   "metadata": {},
   "outputs": [
    {
     "data": {
      "text/plain": [
       "1"
      ]
     },
     "execution_count": 12,
     "metadata": {},
     "output_type": "execute_result"
    }
   ],
   "source": [
    "random.randint(0,1)"
   ]
  },
  {
   "cell_type": "code",
   "execution_count": 13,
   "id": "330563e8-412c-43cc-8aa6-bb7f1bfdf88a",
   "metadata": {},
   "outputs": [
    {
     "data": {
      "text/plain": [
       "<AxesSubplot:ylabel='Count'>"
      ]
     },
     "execution_count": 13,
     "metadata": {},
     "output_type": "execute_result"
    },
    {
     "data": {
      "image/png": "[encoded data removed]",
      "text/plain": [
       "<Figure size 432x288 with 1 Axes>"
      ]
     },
     "metadata": {
      "needs_background": "light"
     },
     "output_type": "display_data"
    }
   ],
   "source": [
    "sns.histplot(scores, bins = 50)"
   ]
  },
  {
   "cell_type": "code",
   "execution_count": null,
   "id": "eb0b2b67-76f1-42d1-959d-ea29dda67424",
   "metadata": {},
   "outputs": [],
   "source": [
    "len(scores)"
   ]
  },
  {
   "cell_type": "code",
   "execution_count": 97,
   "id": "bcd5865f-31e6-4d54-a087-aa7bb29b0ba7",
   "metadata": {},
   "outputs": [],
   "source": [
    "def bin_formula(position_3_counts, tot_bin_counts):\n",
    "    return 1- binom.cdf(position_3_counts-1, tot_bin_counts,1/3)\n",
    "def mutation_bin_probability(mutation_counts):\n",
    "    bin_counts = [0,0,0]\n",
    "    for i, c in enumerate(mutation_counts):\n",
    "        bin_counts[i % 3] += c\n",
    "    if sum(bin_counts) == 0:\n",
    "        return (bin_counts, 2)\n",
    "    else:\n",
    "        return (bin_counts, bin_formula(bin_counts[2], sum(bin_counts)))  "
   ]
  },
  {
   "cell_type": "code",
   "execution_count": 117,
   "id": "34f979af-9643-480b-9de1-51bfc2a3e250",
   "metadata": {},
   "outputs": [],
   "source": [
    "scores = []\n",
    "scores_2 = []\n",
    "for x in range(500):\n",
    "    sample = random.sample(full_sample_zero_and_non_zero_mutation_counts, 1000)\n",
    "    scores.append(mutation_bin_probability(sample)[1])\n",
    "\n",
    "    bin_counts = [0,0,0]\n",
    "    for n in range(int(len(sample)/3)):\n",
    "        temp_counts = [0,0,0]\n",
    "        for m in range(3): \n",
    "            temp_counts[m % 3] = sample[3*n+m]\n",
    "        if sum(temp_counts) < 10:\n",
    "            for m in range(3):\n",
    "                bin_counts[m] += temp_counts[m]\n",
    "    scores_2.append(bin_formula(bin_counts[2], sum(bin_counts)))"
   ]
  },
  {
   "cell_type": "markdown",
   "id": "397249c6-4ce5-43c6-9103-a0f1018e9d36",
   "metadata": {},
   "source": [
    "##### New CDS"
   ]
  },
  {
   "cell_type": "code",
   "execution_count": 118,
   "id": "6dc91f3f-757a-4aec-bc82-5c6a3e4d3cdf",
   "metadata": {},
   "outputs": [
    {
     "data": {
      "text/plain": [
       "[Text(0.5, 0, 'P-value'),\n",
       " Text(0, 0.5, 'Cumulative Proportion'),\n",
       " Text(0.5, 1.0, '')]"
      ]
     },
     "execution_count": 118,
     "metadata": {},
     "output_type": "execute_result"
    },
    {
     "data": {
      "image/png": "[encoded data removed]",
      "text/plain": [
       "<Figure size 432x288 with 1 Axes>"
      ]
     },
     "metadata": {
      "needs_background": "light"
     },
     "output_type": "display_data"
    }
   ],
   "source": [
    "plt = sns.ecdfplot(scores_2)\n",
    "plt.set(xlabel =\"P-value\", ylabel = \"Cumulative Proportion\", title ='')"
   ]
  },
  {
   "cell_type": "code",
   "execution_count": null,
   "id": "6a3b3bc7-9c57-405d-a85e-b8e6278d7131",
   "metadata": {},
   "outputs": [],
   "source": []
  }
 ],
 "metadata": {
  "kernelspec": {
   "display_name": "Python 3 (ipykernel)",
   "language": "python",
   "name": "python3"
  },
  "language_info": {
   "codemirror_mode": {
    "name": "ipython",
    "version": 3
   },
   "file_extension": ".py",
   "mimetype": "text/x-python",
   "name": "python",
   "nbconvert_exporter": "python",
   "pygments_lexer": "ipython3",
   "version": "3.9.7"
  }
 },
 "nbformat": 4,
 "nbformat_minor": 5
}
