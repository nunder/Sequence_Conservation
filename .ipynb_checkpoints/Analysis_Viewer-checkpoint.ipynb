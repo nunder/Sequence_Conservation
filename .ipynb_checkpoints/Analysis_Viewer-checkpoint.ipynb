{
 "cells": [
  {
   "cell_type": "code",
   "execution_count": 11,
   "id": "7d86f09d-00c6-48fa-95db-cbec48237927",
   "metadata": {},
   "outputs": [],
   "source": [
    "from Comparative_Analysis import Sequence_Analysis_Routines as sar\n",
    "from Comparative_Analysis import Alignment_Analysis as alignment_analysis\n",
    "import pickle\n",
    "import ipywidgets as widgets\n",
    "from ipywidgets import interact, interact_manual, HBox, VBox\n",
    "import seaborn as sns\n",
    "import matplotlib.pyplot as plt \n",
    "import numpy as np"
   ]
  },
  {
   "cell_type": "code",
   "execution_count": 12,
   "id": "f289fee0-3587-455c-abe9-2f2d2610f36f",
   "metadata": {},
   "outputs": [],
   "source": [
    "project_dir = 'D:/Project_Data/Project_4'\n",
    "output_dir = project_dir + '/Output'\n",
    "conservation_analysis_output_dir = output_dir + '/Conservation_Analysis'"
   ]
  },
  {
   "cell_type": "code",
   "execution_count": 13,
   "id": "d5c4736f-6113-4b27-a68a-79dd3994ce81",
   "metadata": {},
   "outputs": [],
   "source": [
    "with open(conservation_analysis_output_dir + '/upstream_conservation_info_dictionary.pkl', 'rb') as f:\n",
    "    upstream_conservation_info_dictionary = pickle.load(f)\n",
    "with open(conservation_analysis_output_dir + '/downstream_conservation_info_dictionary.pkl', 'rb') as f:\n",
    "    downstream_conservation_info_dictionary = pickle.load(f)\n",
    "with open(conservation_analysis_output_dir + '/multi_species_upstream_conservation_info_dictionary.pkl', 'rb') as f:\n",
    "    multi_species_upstream_conservation_info_dictionary = pickle.load(f)\n",
    "with open(conservation_analysis_output_dir + '/multi_species_downstream_conservation_info_dictionary.pkl', 'rb') as f:\n",
    "    multi_species_downstream_conservation_info_dictionary = pickle.load(f)"
   ]
  },
  {
   "cell_type": "code",
   "execution_count": 14,
   "id": "01924a22-90f1-4879-87e0-b417dfe73a5a",
   "metadata": {},
   "outputs": [],
   "source": [
    "def change_coordinates(*args):\n",
    "    group_id = w_locus_tag.value\n",
    "    region = w_region.value\n",
    "    w_co_ordinates.min = -99999\n",
    "    if region == 'Upstream':\n",
    "        w_co_ordinates.max = int(upstream_conservation_info_dictionary[group_id].end) \n",
    "        w_co_ordinates.min = int(upstream_conservation_info_dictionary[group_id].start)\n",
    "    else:\n",
    "        w_co_ordinates.max = int(downstream_conservation_info_dictionary[group_id].end) \n",
    "        w_co_ordinates.min = int(downstream_conservation_info_dictionary[group_id].start)\n",
    "    w_co_ordinates.value = [w_co_ordinates.min, w_co_ordinates.max]"
   ]
  },
  {
   "cell_type": "code",
   "execution_count": 21,
   "id": "7d9bd7fb-5377-4a42-bae7-4cb47e3f8ed9",
   "metadata": {},
   "outputs": [],
   "source": [
    "w_co_ordinates = widgets.IntRangeSlider(value=[0, 7], min=0, max=10, step=1, description='Co-ordinates', disabled=False, continuous_update=False, orientation='horizontal', readout=True,\n",
    "                                        layout=widgets.Layout(width='50%'), readout_format='d',)\n",
    "w_model_type = widgets.Dropdown(options=['Multi_Species', 'Simple'],continuous_update = False)\n",
    "w_locus_tag = widgets.Dropdown(continuous_update = False, options=sorted(list(upstream_conservation_info_dictionary.keys())))\n",
    "w_locus_tag.observe(change_coordinates, names='value')\n",
    "w_region = widgets.Dropdown(options=['Upstream', 'Downstream'],continuous_update = False)\n",
    "w_region.observe(change_coordinates, names='value')\n",
    "widgets.interact_manual.opts['manual_name'] = 'Show comparison'"
   ]
  },
  {
   "cell_type": "code",
   "execution_count": 24,
   "id": "03f5976c-324f-4fc9-9eb8-18080570e21f",
   "metadata": {},
   "outputs": [],
   "source": [
    "def show_gene(region, model_type, locus_tag, coords):\n",
    "    x1 = coords[0]; x2 = coords[1]\n",
    "    if region == 'Upstream':\n",
    "        if model_type == 'Simple':\n",
    "            upstream_conservation_info_dictionary[locus_tag].display_analysis(x1, x2);\n",
    "        else:\n",
    "            multi_species_upstream_conservation_info_dictionary[locus_tag].display_analysis(x1, x2);\n",
    "    elif region == 'Downstream':\n",
    "        if model_type == 'Simple':\n",
    "            downstream_conservation_info_dictionary[locus_tag].display_analysis(x1, x2);\n",
    "        else:\n",
    "            multi_species_downstream_conservation_info_dictionary[locus_tag].display_analysis(x1, x2);"
   ]
  },
  {
   "cell_type": "code",
   "execution_count": null,
   "id": "db028afc-2737-4f75-9878-a39fff5acf64",
   "metadata": {},
   "outputs": [],
   "source": []
  },
  {
   "cell_type": "code",
   "execution_count": null,
   "id": "6c7543a5-018c-476e-b22f-5a21a7cf6b63",
   "metadata": {},
   "outputs": [],
   "source": []
  },
  {
   "cell_type": "code",
   "execution_count": null,
   "id": "151dd0f2-ab7d-4bb7-bcba-5f5f0ca5e5f6",
   "metadata": {},
   "outputs": [],
   "source": []
  },
  {
   "cell_type": "code",
   "execution_count": 23,
   "id": "5ebb8414-8428-48c3-a3b5-467423523064",
   "metadata": {},
   "outputs": [
    {
     "data": {
      "application/vnd.jupyter.widget-view+json": {
       "model_id": "4afa8fcaadac486f9795682123593871",
       "version_major": 2,
       "version_minor": 0
      },
      "text/plain": [
       "interactive(children=(Dropdown(description='region', options=('Upstream', 'Downstream'), value='Upstream'), Dr…"
      ]
     },
     "metadata": {},
     "output_type": "display_data"
    },
    {
     "data": {
      "text/plain": [
       "<function __main__.show_gene(region, locus_tag, coords)>"
      ]
     },
     "execution_count": 23,
     "metadata": {},
     "output_type": "execute_result"
    }
   ],
   "source": [
    "interact_manual(show_gene, region = w_region, model_type = w_model_type, locus_tag = w_locus_tag, coords = w_co_ordinates)"
   ]
  },
  {
   "cell_type": "code",
   "execution_count": null,
   "id": "7d641910-7769-4b54-9297-8cabab5a5a2d",
   "metadata": {},
   "outputs": [],
   "source": []
  },
  {
   "cell_type": "code",
   "execution_count": null,
   "id": "e541ed2d-9f8d-463b-b3b7-aeecacf7b36c",
   "metadata": {},
   "outputs": [],
   "source": []
  },
  {
   "cell_type": "code",
   "execution_count": null,
   "id": "00b12a74-bdf9-4ccd-8c2c-77596f4d17b9",
   "metadata": {},
   "outputs": [],
   "source": [
    "group_id = 839 #1161 #1337 1007 839    #use 1120 in slides!  Also 1115 is interesting to discuss    #1116 is interesting \n",
    "     #1120 can see the labels work!\n",
    "    #1161 817 758 1337 1114 List of sRNA in Arnvig 2011          Rv2976a intervenes on third one\n",
    "    #2131 not very well conserved in Arnvig 2011\n",
    "    #1129\n",
    "    #1169 shows upstream start in DeJesus\n",
    "    #1214 massive!\n",
    "    #1009 not much conservation\n",
    "    # 993 definitely looks like an upstream start site for reverse strand??"
   ]
  },
  {
   "cell_type": "code",
   "execution_count": null,
   "id": "b3b10c80-b017-4852-8aca-05a916b2bdec",
   "metadata": {},
   "outputs": [],
   "source": []
  },
  {
   "cell_type": "code",
   "execution_count": 106,
   "id": "b5ead3ba-f28f-4449-8144-25cfb4ffdefb",
   "metadata": {},
   "outputs": [],
   "source": [
    "def change_coordinates(*args):\n",
    "    group_id = locus_tag2.value\n",
    "    co_ordinates2.min = -99999\n",
    "    co_ordinates2.max = int(upstream_conservation_info_dictionary[group_id].end) \n",
    "    co_ordinates2.min = int(upstream_conservation_info_dictionary[group_id].start)\n",
    "    co_ordinates2.value = [co_ordinates2.min, co_ordinates2.max]"
   ]
  },
  {
   "cell_type": "code",
   "execution_count": 114,
   "id": "4391c3e5-0874-4ab9-9c74-d4ce01e08f53",
   "metadata": {},
   "outputs": [],
   "source": [
    "def show_gene(region, locus_tag, coords):\n",
    "    x1 = coords[0]; x2 = coords[1]\n",
    "    if region == 'Upstream':\n",
    "        upstream_conservation_info_dictionary[locus_tag].display_analysis(x1, x2)\n",
    "    elif region == 'Downstream':\n",
    "        downstream_conservation_info_dictionary[locus_tag].display_analysis(x1, x2)\n",
    "    elif region == 'Both':\n",
    "        upstream_conservation_info_dictionary[locus_tag].display_analysis()\n",
    "        downstream_conservation_info_dictionary[locus_tag].display_analysis()"
   ]
  },
  {
   "cell_type": "code",
   "execution_count": 140,
   "id": "38de1904-51b1-4462-b658-b6bcb0395858",
   "metadata": {},
   "outputs": [
    {
     "data": {
      "application/vnd.jupyter.widget-view+json": {
       "model_id": "",
       "version_major": 2,
       "version_minor": 0
      },
      "text/plain": [
       "VBox(children=(Tab(children=(VBox(children=(IntRangeSlider(value=(0, 7), continuous_update=False, description=…"
      ]
     },
     "metadata": {},
     "output_type": "display_data"
    }
   ],
   "source": [
    "%matplotlib inline\n",
    "output = widgets.Output()\n",
    "button = widgets.Button(description = 'Plot',)\n",
    "@button.on_click\n",
    "def button_press(b):\n",
    "    with output:\n",
    "        display(widgets.IntSlider())\n",
    "        show_gene(region2.value, locus_tag2.value, co_ordinates2.value)\n",
    "locus_tag2 = widgets.Dropdown(continuous_update = False, options=sorted(list(upstream_conservation_info_dictionary.keys())))\n",
    "locus_tag2.observe(change_coordinates, names='value')\n",
    "co_ordinates2 = widgets.IntRangeSlider(value=[0, 7], min=0, max=10, step=1, description='Co-ordinates', disabled=False, continuous_update=False, orientation='horizontal', readout=True, readout_format='d',)\n",
    "region2 = widgets.Dropdown(options=['Upstream', 'Downstream', 'Both'],continuous_update = False)\n",
    "use_coordinates = widgets.Dropdown(options=['Y', 'N'],continuous_update = False)\n",
    "tab_1 = VBox(children = [co_ordinates2, locus_tag2, region2, use_coordinates, button, output])\n",
    "tab = widgets.Tab(children = [tab_1])\n",
    "VBox(children = [tab])\n"
   ]
  }
 ],
 "metadata": {
  "kernelspec": {
   "display_name": "Python 3 (ipykernel)",
   "language": "python",
   "name": "python3"
  },
  "language_info": {
   "codemirror_mode": {
    "name": "ipython",
    "version": 3
   },
   "file_extension": ".py",
   "mimetype": "text/x-python",
   "name": "python",
   "nbconvert_exporter": "python",
   "pygments_lexer": "ipython3",
   "version": "3.9.7"
  }
 },
 "nbformat": 4,
 "nbformat_minor": 5
}
