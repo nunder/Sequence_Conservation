{
 "cells": [
  {
   "cell_type": "markdown",
   "id": "b1e30ed4-8a0e-4a6f-96eb-dfe116dfb2de",
   "metadata": {},
   "source": [
    "#### Directories etc"
   ]
  },
  {
   "cell_type": "code",
   "execution_count": 7,
   "id": "cf9c6377-5080-4c22-94db-feabe17cc47c",
   "metadata": {},
   "outputs": [],
   "source": [
    "import pandas as pd\n",
    "import pickle\n",
    "import seaborn as sns\n",
    "import matplotlib.pyplot as plt\n",
    "import numpy as np\n",
    "from Bio import Entrez, SeqIO, AlignIO, pairwise2, Align, Seq, motifs\n",
    "from Bio.Seq import Seq\n",
    "from Bio.SeqFeature import SeqFeature, FeatureLocation\n",
    "from scipy.stats import binom\n",
    "import math\n",
    "import random\n",
    "from tqdm import tqdm\n",
    "from Comparative_Analysis import Utilities as util\n",
    "import random\n",
    "from joblib import Parallel, delayed\n",
    "from Comparative_Analysis import Blast_Functions as blastfn\n",
    "import time\n",
    "import os\n",
    "import copy\n",
    "from scipy.stats import chi2\n",
    "from Comparative_Analysis import ORF_Functions as orffn\n",
    "from Comparative_Analysis import Alignment as alignfn\n",
    "from random import sample\n",
    "from Bio.Align.Applications import MuscleCommandline\n",
    "import subprocess\n",
    "pd.options.mode.chained_assignment = None  # default='warn'"
   ]
  },
  {
   "cell_type": "code",
   "execution_count": 8,
   "id": "1988a242-f558-4643-b3a9-27272fa7bebc",
   "metadata": {},
   "outputs": [],
   "source": [
    "project_dir = 'F:/Project_Data/Intergenic_Region_Comparative_Analysis'\n",
    "seq_dir_1 = 'F:/Datasets/NCBI_Refseq_Mycobacteriaceae_All_Levels/ncbi_dataset/data'\n",
    "seq_dir_2 = 'F:/Datasets/NCBI_Refseq_Actinobacteria_All_Levels/data'\n",
    "sequence_dirs_1 = util.list_dirs(seq_dir_1)\n",
    "sequence_dirs_2 = util.list_dirs(seq_dir_2)\n",
    "tb_species = 'NC_000962.3' \n",
    "tb_annotation_dirname = 'GCF_000195955.2'\n",
    "num_cores = 16\n",
    "core_numbers = list(range(1, num_cores+1))\n",
    "muscle_exe = 'C:/Users/nicho/Muscle/muscle3.8.31_i86win32.exe'\n",
    "full_build = False"
   ]
  },
  {
   "cell_type": "markdown",
   "id": "198ce0ae-2b01-482b-83cb-93c720537916",
   "metadata": {},
   "source": [
    "#### Create file with all CDS for species and create BLAST databases for TB CDS and All CDS (to do reciprocal best hits)"
   ]
  },
  {
   "cell_type": "code",
   "execution_count": 19,
   "id": "6068fd3f-1e3d-4bd4-b1ac-ef4c7a190fd4",
   "metadata": {
    "tags": []
   },
   "outputs": [],
   "source": [
    "def generate_protein_dataset(num_subsets, subset_num, dir_list, seqdir): \n",
    "    sequence_dirs = util.chunk_list(dir_list, num_subsets, subset_num)\n",
    "    all_cds = []\n",
    "    all_tb_cds = []\n",
    "    names = []\n",
    "    sequences = []\n",
    "    locations = []\n",
    "    for dirname in (sequence_dirs):\n",
    "        if not(os.path.exists(seqdir + '/' + dirname + '/genomic.gbff')):\n",
    "            continue\n",
    "        for genome_record in SeqIO.parse(seqdir + '/' + dirname + '/genomic.gbff', \"genbank\"):\n",
    "            accession_ver = genome_record.annotations['accessions'][0] + '.' + str(genome_record.annotations['sequence_version'])\n",
    "            names.append([accession_ver, genome_record.annotations['organism']])\n",
    "            full_sequence = str(genome_record.seq)\n",
    "            sequences.append([accession_ver, full_sequence])\n",
    "            for feature in genome_record.features:\n",
    "                a = feature.qualifiers\n",
    "                if feature.type == 'CDS' and a.get(\"translation\") != None:\n",
    "                    locus_tag = a.get(\"locus_tag\")[0]\n",
    "                    accession_locus = accession_ver + '@' + locus_tag\n",
    "                    translation = a.get(\"translation\")[0]\n",
    "                    (start, stop, strand) = (int(feature.location.start), int(feature.location.end), int(feature.location.strand))\n",
    "                    locations.append([accession_locus, (start, stop, strand)])\n",
    "                    all_cds.append([accession_locus, translation])\n",
    "                    if dirname == tb_annotation_dirname:\n",
    "                        all_tb_cds.append([accession_locus, translation])\n",
    "    return (all_cds, all_tb_cds, names, locations, sequences)           "
   ]
  },
  {
   "cell_type": "code",
   "execution_count": 20,
   "id": "542f0742-7686-4b24-808f-787faa247c21",
   "metadata": {
    "tags": []
   },
   "outputs": [],
   "source": [
    "parallel_output = Parallel(n_jobs=-1)(delayed(generate_protein_dataset)(num_cores, core_number, sequence_dirs_1, seq_dir_1) for core_number in core_numbers)\n",
    "names_dict_1 = {}\n",
    "locations_dict_1 = {}\n",
    "sequence_dict_1 = {}\n",
    "all_cds_1 = []\n",
    "all_tb_cds_1 = []\n",
    "for x in parallel_output:\n",
    "    all_cds_1 += x[0]\n",
    "    all_tb_cds_1 += x[1]\n",
    "    for temp in x[2]:\n",
    "        names_dict_1[temp[0]] = temp[1]\n",
    "    for temp in x[3]:\n",
    "        locations_dict_1[temp[0]] = temp[1]\n",
    "    for temp in x[4]:\n",
    "        sequence_dict_1[temp[0]] = temp[1]\n",
    "with open(project_dir + '/names_dict_1.pkl', 'wb') as f:\n",
    "        pickle.dump(names_dict_1, f) "
   ]
  },
  {
   "cell_type": "code",
   "execution_count": 21,
   "id": "f75de3d4-28cf-4873-892c-608a027d57cb",
   "metadata": {
    "tags": []
   },
   "outputs": [],
   "source": [
    "parallel_output = Parallel(n_jobs=-1)(delayed(generate_protein_dataset)(num_cores, core_number, sequence_dirs_2, seq_dir_2) for core_number in core_numbers)\n",
    "names_dict_2 = {}\n",
    "locations_dict_2 = {}\n",
    "sequence_dict_2 = {}\n",
    "all_cds_2 = []\n",
    "all_tb_cds_2 = []\n",
    "for x in parallel_output:\n",
    "    all_cds_2 += x[0]\n",
    "    all_tb_cds_2 += x[1]\n",
    "    for temp in x[2]:\n",
    "        names_dict_2[temp[0]] = temp[1]\n",
    "    for temp in x[3]:\n",
    "        locations_dict_2[temp[0]] = temp[1]\n",
    "    for temp in x[4]:\n",
    "        sequence_dict_2[temp[0]] = temp[1]\n",
    "with open(project_dir + '/names_dict_2.pkl', 'wb') as f:\n",
    "        pickle.dump(names_dict_2, f) "
   ]
  },
  {
   "cell_type": "code",
   "execution_count": 31,
   "id": "def220ad-3ad0-4722-ae93-8893b6e5119d",
   "metadata": {
    "tags": []
   },
   "outputs": [],
   "source": [
    "if full_build == True:\n",
    "    util.produce_fasta_file(all_cds_1, project_dir + '/all_cds.fasta')\n",
    "    util.produce_fasta_file(all_tb_cds_1, project_dir + '/all_tb_cds.fasta')\n",
    "    blastfn.build_blast_db(project_dir, 'all_cds.fasta', 'Mycobacteriaceae_Refseq', 'F:/Datasets/BLAST/Mycobacteriaceae_Refseq')\n",
    "    blastfn.build_blast_db(project_dir, 'all_tb_cds.fasta', 'all_tb_cds', 'F:/Datasets/BLAST/all_tb_cds')"
   ]
  },
  {
   "cell_type": "code",
   "execution_count": 154,
   "id": "942a5e51-4d7b-46c3-a83c-661271f20e9f",
   "metadata": {
    "tags": []
   },
   "outputs": [
    {
     "name": "stderr",
     "output_type": "stream",
     "text": [
      "100%|██████████| 8786289/8786289 [11:16<00:00, 12986.53it/s]\n",
      "100%|██████████| 3906/3906 [00:00<00:00, 50716.03it/s]\n"
     ]
    }
   ],
   "source": [
    "if full_build == True:\n",
    "    util.produce_fasta_file(all_cds_2, project_dir + '/all_cds_2.fasta')\n",
    "    util.produce_fasta_file(all_tb_cds_2, project_dir + '/all_tb_cds_2.fasta')\n",
    "    blastfn.build_blast_db(project_dir, 'all_cds_2.fasta', 'Actinobacteria_Refseq', 'F:/Datasets/BLAST/Actinobacteria_Refseq')\n",
    "    blastfn.build_blast_db(project_dir, 'all_tb_cds_2.fasta', 'all_tb_cds_2', 'F:/Datasets/BLAST/all_tb_cds_2')"
   ]
  },
  {
   "cell_type": "code",
   "execution_count": 9,
   "id": "c64c685a-3fe4-44e0-a045-59504f7ce64c",
   "metadata": {
    "tags": []
   },
   "outputs": [],
   "source": [
    "if full_build == True:\n",
    "    blastfn.run_blastp('F:/Datasets/BLAST/Mycobacteriaceae_Refseq', 'all_tb_cds.fasta', 'Mycobacteriaceae_Refseq', 'all_tb_cds_hits.csv', e_value = 1e-10)\n",
    "    blastfn.run_blastp('F:/Datasets/BLAST/all_tb_cds', 'all_cds.fasta', 'all_tb_cds', 'reverse_hits.csv', e_value = 1e-10)\n",
    "    a = blastfn.process_blast_output('F:/Datasets/BLAST/Mycobacteriaceae_Refseq/all_tb_cds_hits.csv', names_dict, top_hit_only = False)\n",
    "    a = a.loc[a.groupby(['query_ref','target_species_name'])['bit_score'].idxmax()]     # Utility top hit method uses accession ver which can differ if multiple sets exist per species in fragmented annotations\n",
    "    b = blastfn.process_blast_output('F:/Datasets/BLAST/all_tb_cds/reverse_hits.csv', names_dict, top_hit_only = False)\n",
    "    b = b.loc[b.groupby(['query_ref','target_species_name'])['bit_score'].idxmax()] \n",
    "    rbh =  blastfn.keep_reciprocal_best_hits(a, b)\n",
    "    rbh.to_csv(project_dir + '/reciprocal_best_hits.csv')\n",
    "else:\n",
    "    rbh = pd.read_csv(project_dir + '/reciprocal_best_hits.csv')"
   ]
  },
  {
   "cell_type": "code",
   "execution_count": 10,
   "id": "9aaf6f56-f9f1-4761-a909-bacf02ac47f4",
   "metadata": {
    "tags": []
   },
   "outputs": [],
   "source": [
    "#if 1==1:\n",
    "if full_build == True:\n",
    "    #blastfn.run_blastp('F:/Datasets/BLAST/Actinobacteria_Refseq', 'all_tb_cds_2.fasta', 'Actinobacteria_Refseq', 'all_tb_cds_hits_2.csv', e_value = 1e-10)\n",
    "    #blastfn.run_blastp('F:/Datasets/BLAST/all_tb_cds_2', 'all_cds_2.fasta', 'all_tb_cds_2', 'reverse_hits_2.csv', e_value = 1e-10)\n",
    "    a = blastfn.process_blast_output('F:/Datasets/BLAST/Actinobacteria_Refseq/all_tb_cds_hits_2.csv', names_dict_2, top_hit_only = False)\n",
    "    a = a.loc[a.groupby(['query_ref','target_species_name'])['bit_score'].idxmax()]     # Utility top hit method uses accession ver which can differ if multiple sets exist per species in fragmented annotations\n",
    "    b = blastfn.process_blast_output('F:/Datasets/BLAST/all_tb_cds_2/reverse_hits_2.csv', names_dict_2, top_hit_only = False)\n",
    "    b = b.loc[b.groupby(['query_ref','target_species_name'])['bit_score'].idxmax()] \n",
    "    rbh_2 =  blastfn.keep_reciprocal_best_hits(a, b)\n",
    "    rbh_2.to_csv(project_dir + '/reciprocal_best_hits_2.csv')\n",
    "else:\n",
    "    rbh_2 = pd.read_csv(project_dir + '/reciprocal_best_hits_2.csv')"
   ]
  },
  {
   "cell_type": "markdown",
   "id": "c62ab102-796e-4af7-a58b-3111e917ea21",
   "metadata": {},
   "source": [
    "#### Function to generate FASTA file containing intergenic regions in orthologous species and run Muscle / R-scape"
   ]
  },
  {
   "cell_type": "code",
   "execution_count": 11,
   "id": "b418b601-46a7-4e15-8ed7-08c3722addc8",
   "metadata": {},
   "outputs": [],
   "source": [
    "def generate_alignment(locus, offset, comparison_set):\n",
    "    target_locus = tb_species+ '@' + locus\n",
    "    \n",
    "    results_dir = project_dir + '/' + locus\n",
    "    if not os.path.exists(results_dir):\n",
    "        os.makedirs(results_dir)\n",
    "    \n",
    "    if comparison_set == 1:     #1 = Mycobacteria, 2 = Actinobacteria\n",
    "        rbh = pd.read_csv(project_dir + '/reciprocal_best_hits.csv')\n",
    "        locations_dict = locations_dict_1\n",
    "        sequence_dict = sequence_dict_1\n",
    "    else:\n",
    "        rbh = pd.read_csv(project_dir + '/reciprocal_best_hits_2.csv')\n",
    "        locations_dict = locations_dict_2\n",
    "        sequence_dict = sequence_dict_2\n",
    "    \n",
    "    location = locations_dict[target_locus] \n",
    "    rbh = rbh[rbh['query_ref'] == target_locus]\n",
    "    rbh['target_loc'] = rbh['target_ref'].map(locations_dict)\n",
    "    rbh['cds_count'] = rbh.groupby('target_species_name')['query_ref'].transform('size')\n",
    "    rbh['min_pct_id'] = rbh.groupby('target_species_name')['percent_identical_matches'].transform('min')\n",
    "    \n",
    "    rbh = rbh[rbh['cds_count'] == 1]\n",
    "    for i, r in rbh.iterrows():\n",
    "        (start, stop, strand) = r['target_loc']\n",
    "        rbh.at[i,'start'] = start\n",
    "        rbh.at[i,'stop'] =  stop\n",
    "        rbh.at[i,'strand'] = strand\n",
    "    rbh = rbh[rbh['min_pct_id'] >= 60]\n",
    "    \n",
    "    intergenic_regions = []\n",
    "    \n",
    "    for i, r in rbh.iterrows():\n",
    "        target_species = r['target_species_name']\n",
    "        target_species_accession = r['target_species']\n",
    "        coords = r['target_loc']\n",
    "        if coords[2] == 1:\n",
    "            intergenic_region = (coords[0] - offset, coords[0] + 3)\n",
    "            intergenic_sequence = sequence_dict[target_species_accession][intergenic_region[0]: intergenic_region[1]]\n",
    "        else:\n",
    "            intergenic_region = (coords[1] - 3, coords[1] + offset)\n",
    "            intergenic_sequence = util.reverse_complement(sequence_dict[target_species_accession][intergenic_region[0]: intergenic_region[1]])\n",
    "\n",
    "        intergenic_regions.append([target_species.replace(\" \", \"_\"), intergenic_sequence])\n",
    "\n",
    "\n",
    "    util.produce_fasta_file(intergenic_regions, results_dir +'/intergenic_regions_'+str(comparison_set)+'.fasta')\n",
    "    cline = MuscleCommandline(muscle_exe, input= results_dir +'/intergenic_regions_'+str(comparison_set)+'.fasta', out = results_dir + '/upstream_region_'+locus + '_alignment_'+str(comparison_set)+'.fasta')\n",
    "    exception = 0\n",
    "    try:\n",
    "        stdout, stderr = cline()\n",
    "    except Exception as e:\n",
    "        exception == 1\n",
    "    if exception == 0:\n",
    "        blastfn.convert_fasta_to_stockholm(results_dir, 'upstream_region_'+locus + '_alignment_'+str(comparison_set)+'.fasta', 'upstream_region_'+locus + '_alignment_'+str(comparison_set)+'.sto')\n",
    "        blastfn.run_rscape(results_dir, 'upstream_region_'+locus + '_alignment_'+str(comparison_set)+'.sto', 'rscape_output_'+str(comparison_set))\n"
   ]
  },
  {
   "cell_type": "markdown",
   "id": "c46ca5ad-41e6-4030-9de9-02fc85dd7710",
   "metadata": {
    "tags": []
   },
   "source": [
    "#### Subset based on loci of interest, and filter orthologues based on percent identity, synteny"
   ]
  },
  {
   "cell_type": "code",
   "execution_count": 13,
   "id": "fb0b4500-31f1-47b9-b788-b50b38dc187c",
   "metadata": {
    "tags": []
   },
   "outputs": [],
   "source": [
    "tb_loci = []\n",
    "for genome_record in SeqIO.parse(seq_dir_1 + '/' + tb_annotation_dirname + '/genomic.gbff', \"genbank\"):\n",
    "        for feature in genome_record.features:\n",
    "                a = feature.qualifiers\n",
    "                if feature.type == 'CDS':\n",
    "                    tb_loci.append(a.get(\"locus_tag\")[0])"
   ]
  },
  {
   "cell_type": "code",
   "execution_count": null,
   "id": "8f94b085-50d9-4948-8a5c-652f9506725e",
   "metadata": {
    "tags": []
   },
   "outputs": [
    {
     "name": "stderr",
     "output_type": "stream",
     "text": [
      "0it [00:00, ?it/s]"
     ]
    },
    {
     "name": "stdout",
     "output_type": "stream",
     "text": [
      "Rv2312\n"
     ]
    },
    {
     "name": "stderr",
     "output_type": "stream",
     "text": [
      "\n",
      "100%|██████████| 3/3 [00:00<00:00, 5989.01it/s]\n",
      "\n",
      "100%|██████████| 3/3 [00:00<00:00, 6000.43it/s]\n",
      "2301it [00:21, 105.88it/s]"
     ]
    },
    {
     "name": "stdout",
     "output_type": "stream",
     "text": [
      "Rv2315c\n"
     ]
    },
    {
     "name": "stderr",
     "output_type": "stream",
     "text": [
      "\n",
      "100%|██████████| 211/211 [00:00<00:00, 422635.22it/s]\n",
      "2301it [00:36, 105.88it/s]\n",
      "100%|██████████| 500/500 [00:00<00:00, 250705.56it/s]\n",
      "2304it [00:50, 36.31it/s] "
     ]
    },
    {
     "name": "stdout",
     "output_type": "stream",
     "text": [
      "Rv2316\n"
     ]
    },
    {
     "name": "stderr",
     "output_type": "stream",
     "text": [
      "\n",
      "100%|██████████| 169/169 [00:00<00:00, 337541.61it/s]\n",
      "\n",
      "100%|██████████| 118/118 [00:00<?, ?it/s]A\n",
      "2305it [01:07, 23.92it/s]"
     ]
    },
    {
     "name": "stdout",
     "output_type": "stream",
     "text": [
      "Rv2320c\n"
     ]
    },
    {
     "name": "stderr",
     "output_type": "stream",
     "text": [
      "\n",
      "100%|██████████| 125/125 [00:00<00:00, 14708.19it/s]\n",
      "\n",
      "100%|██████████| 115/115 [00:00<00:00, 12102.50it/s]\n",
      "2309it [18:26,  1.35s/it]"
     ]
    },
    {
     "name": "stdout",
     "output_type": "stream",
     "text": [
      "Rv2323c\n"
     ]
    },
    {
     "name": "stderr",
     "output_type": "stream",
     "text": [
      "\n",
      "100%|██████████| 153/153 [00:00<00:00, 306168.18it/s]\n",
      "\n",
      "100%|██████████| 113/113 [00:00<00:00, 226881.93it/s]\n",
      "2310it [18:45,  1.38s/it]"
     ]
    },
    {
     "name": "stdout",
     "output_type": "stream",
     "text": [
      "Rv2324\n"
     ]
    },
    {
     "name": "stderr",
     "output_type": "stream",
     "text": [
      "\n",
      "100%|██████████| 152/152 [00:00<00:00, 303298.86it/s]\n",
      "\n",
      "100%|██████████| 114/114 [00:00<?, ?it/s]A\n",
      "2311it [19:04,  1.42s/it]"
     ]
    },
    {
     "name": "stdout",
     "output_type": "stream",
     "text": [
      "Rv2326c\n"
     ]
    },
    {
     "name": "stderr",
     "output_type": "stream",
     "text": [
      "\n",
      "100%|██████████| 202/202 [00:00<00:00, 404029.28it/s]\n",
      "\n",
      "100%|██████████| 125/125 [00:00<?, ?it/s]A\n",
      "2313it [19:21,  1.48s/it]"
     ]
    },
    {
     "name": "stdout",
     "output_type": "stream",
     "text": [
      "Rv2327\n"
     ]
    },
    {
     "name": "stderr",
     "output_type": "stream",
     "text": [
      "\n",
      "100%|██████████| 199/199 [00:00<00:00, 398408.83it/s]\n",
      "\n",
      "100%|██████████| 124/124 [00:00<?, ?it/s]A\n",
      "2314it [19:38,  1.56s/it]"
     ]
    },
    {
     "name": "stdout",
     "output_type": "stream",
     "text": [
      "Rv2328\n"
     ]
    },
    {
     "name": "stderr",
     "output_type": "stream",
     "text": [
      "\n",
      "100%|██████████| 3/3 [00:00<?, ?it/s]\u001b[A\n",
      "\n",
      "100%|██████████| 2/2 [00:00<?, ?it/s]\u001b[A\n",
      "2315it [20:10,  1.78s/it]"
     ]
    },
    {
     "name": "stdout",
     "output_type": "stream",
     "text": [
      "Rv2329c\n"
     ]
    },
    {
     "name": "stderr",
     "output_type": "stream",
     "text": [
      "\n",
      "100%|██████████| 37/37 [00:00<00:00, 73271.60it/s]\n",
      "\n",
      "100%|██████████| 22/22 [00:00<?, ?it/s][A\n",
      "2316it [20:58,  2.26s/it]"
     ]
    },
    {
     "name": "stdout",
     "output_type": "stream",
     "text": [
      "Rv2330c\n"
     ]
    },
    {
     "name": "stderr",
     "output_type": "stream",
     "text": [
      "\n",
      "100%|██████████| 74/74 [00:00<00:00, 147308.26it/s]\n",
      "\n",
      "100%|██████████| 43/43 [00:00<00:00, 86625.88it/s]\n",
      "2317it [21:13,  2.45s/it]"
     ]
    },
    {
     "name": "stdout",
     "output_type": "stream",
     "text": [
      "Rv2331\n"
     ]
    },
    {
     "name": "stderr",
     "output_type": "stream",
     "text": [
      "\n",
      "100%|██████████| 2/2 [00:00<00:00, 4000.29it/s]\n",
      "\n",
      "100%|██████████| 2/2 [00:00<?, ?it/s]\u001b[A\n",
      "2318it [21:29,  2.72s/it]"
     ]
    },
    {
     "name": "stdout",
     "output_type": "stream",
     "text": [
      "Rv2331A\n"
     ]
    },
    {
     "name": "stderr",
     "output_type": "stream",
     "text": [
      "\n",
      "100%|██████████| 1/1 [00:00<?, ?it/s]\u001b[A\n",
      "\n",
      "100%|██████████| 1/1 [00:00<?, ?it/s]\u001b[A\n",
      "2319it [21:43,  3.05s/it]"
     ]
    },
    {
     "name": "stdout",
     "output_type": "stream",
     "text": [
      "Rv2333c\n"
     ]
    },
    {
     "name": "stderr",
     "output_type": "stream",
     "text": [
      "\n",
      "100%|██████████| 8/8 [00:00<?, ?it/s]\u001b[A\n",
      "\n",
      "100%|██████████| 6/6 [00:00<?, ?it/s]\u001b[A\n",
      "2321it [24:40,  9.41s/it]"
     ]
    },
    {
     "name": "stdout",
     "output_type": "stream",
     "text": [
      "Rv2334\n"
     ]
    },
    {
     "name": "stderr",
     "output_type": "stream",
     "text": [
      "\n",
      "100%|██████████| 110/110 [00:00<00:00, 31349.69it/s]\n",
      "\n",
      "100%|██████████| 416/416 [00:00<00:00, 27699.68it/s]\n",
      "2322it [34:23, 38.44s/it]"
     ]
    },
    {
     "name": "stdout",
     "output_type": "stream",
     "text": [
      "Rv2336\n"
     ]
    },
    {
     "name": "stderr",
     "output_type": "stream",
     "text": [
      "\n",
      "100%|██████████| 2/2 [00:00<?, ?it/s]\u001b[A\n",
      "\n",
      "100%|██████████| 2/2 [00:00<?, ?it/s]\u001b[A\n",
      "2324it [35:21, 37.25s/it]"
     ]
    },
    {
     "name": "stdout",
     "output_type": "stream",
     "text": [
      "Rv2337c\n"
     ]
    },
    {
     "name": "stderr",
     "output_type": "stream",
     "text": [
      "\n",
      "100%|██████████| 5/5 [00:00<?, ?it/s]\u001b[A\n",
      "\n",
      "100%|██████████| 4/4 [00:00<?, ?it/s]\u001b[A\n",
      "2325it [35:39, 35.70s/it]"
     ]
    },
    {
     "name": "stdout",
     "output_type": "stream",
     "text": [
      "Rv2338c\n"
     ]
    },
    {
     "name": "stderr",
     "output_type": "stream",
     "text": [
      "\n",
      "100%|██████████| 5/5 [00:00<?, ?it/s]\u001b[A\n",
      "\n",
      "100%|██████████| 4/4 [00:00<?, ?it/s]\u001b[A\n",
      "2326it [38:05, 47.31s/it]"
     ]
    },
    {
     "name": "stdout",
     "output_type": "stream",
     "text": [
      "Rv2339\n"
     ]
    },
    {
     "name": "stderr",
     "output_type": "stream",
     "text": [
      "\n",
      "100%|██████████| 2/2 [00:00<00:00, 2000.14it/s]\n",
      "\n",
      "100%|██████████| 2/2 [00:00<?, ?it/s]\u001b[A\n",
      "2327it [41:27, 67.69s/it]"
     ]
    },
    {
     "name": "stdout",
     "output_type": "stream",
     "text": [
      "Rv2340c\n"
     ]
    },
    {
     "name": "stderr",
     "output_type": "stream",
     "text": [
      "\n",
      "100%|██████████| 3/3 [00:00<00:00, 6023.41it/s]\n",
      "\n",
      "100%|██████████| 3/3 [00:00<?, ?it/s]\u001b[A\n",
      "2328it [46:40, 106.29s/it]"
     ]
    },
    {
     "name": "stdout",
     "output_type": "stream",
     "text": [
      "Rv2341\n"
     ]
    },
    {
     "name": "stderr",
     "output_type": "stream",
     "text": [
      "\n",
      "100%|██████████| 2/2 [00:00<?, ?it/s]\u001b[A\n",
      "\n",
      "100%|██████████| 2/2 [00:00<?, ?it/s]\u001b[A\n",
      "2329it [50:50, 132.83s/it]"
     ]
    },
    {
     "name": "stdout",
     "output_type": "stream",
     "text": [
      "Rv2342\n"
     ]
    },
    {
     "name": "stderr",
     "output_type": "stream",
     "text": [
      "\n",
      "100%|██████████| 170/170 [00:00<00:00, 56652.76it/s]\n",
      "\n",
      "100%|██████████| 103/103 [00:00<00:00, 67990.76it/s]\n",
      "2330it [52:02, 120.07s/it]"
     ]
    },
    {
     "name": "stdout",
     "output_type": "stream",
     "text": [
      "Rv2344c\n"
     ]
    },
    {
     "name": "stderr",
     "output_type": "stream",
     "text": [
      "\n",
      "100%|██████████| 215/215 [00:00<00:00, 141699.46it/s]\n",
      "\n",
      "100%|██████████| 275/275 [00:00<00:00, 183609.30it/s]\n",
      "2332it [52:36, 81.71s/it] "
     ]
    },
    {
     "name": "stdout",
     "output_type": "stream",
     "text": [
      "Rv2345\n"
     ]
    },
    {
     "name": "stderr",
     "output_type": "stream",
     "text": [
      "\n",
      "100%|██████████| 99/99 [00:00<00:00, 197449.40it/s]\n",
      "\n",
      "100%|██████████| 59/59 [00:00<00:00, 118403.80it/s]\n",
      "2333it [52:55, 68.52s/it]"
     ]
    },
    {
     "name": "stdout",
     "output_type": "stream",
     "text": [
      "Rv2346c\n"
     ]
    },
    {
     "name": "stderr",
     "output_type": "stream",
     "text": [
      "\n",
      "100%|██████████| 5/5 [00:00<?, ?it/s]\u001b[A\n",
      "\n",
      "100%|██████████| 2/2 [00:00<00:00, 4006.02it/s]\n",
      "2334it [53:10, 56.18s/it]"
     ]
    },
    {
     "name": "stdout",
     "output_type": "stream",
     "text": [
      "Rv2347c\n"
     ]
    },
    {
     "name": "stderr",
     "output_type": "stream",
     "text": [
      "\n",
      "100%|██████████| 74/74 [00:00<?, ?it/s][A\n",
      "\n",
      "100%|██████████| 47/47 [00:00<00:00, 93560.65it/s]\n",
      "2335it [53:38, 49.19s/it]"
     ]
    },
    {
     "name": "stdout",
     "output_type": "stream",
     "text": [
      "Rv2348c\n"
     ]
    },
    {
     "name": "stderr",
     "output_type": "stream",
     "text": [
      "\n",
      "100%|██████████| 47/47 [00:00<00:00, 94276.56it/s]\n",
      "\n",
      "100%|██████████| 27/27 [00:00<?, ?it/s][A\n",
      "2336it [54:13, 45.53s/it]"
     ]
    },
    {
     "name": "stdout",
     "output_type": "stream",
     "text": [
      "Rv2349c\n"
     ]
    },
    {
     "name": "stderr",
     "output_type": "stream",
     "text": [
      "\n",
      "100%|██████████| 18/18 [00:00<00:00, 35899.89it/s]\n",
      "\n",
      "100%|██████████| 10/10 [00:00<?, ?it/s][A\n",
      "2337it [54:28, 37.24s/it]"
     ]
    },
    {
     "name": "stdout",
     "output_type": "stream",
     "text": [
      "Rv2350c\n"
     ]
    },
    {
     "name": "stderr",
     "output_type": "stream",
     "text": [
      "\n",
      "100%|██████████| 25/25 [00:00<?, ?it/s][A\n",
      "\n",
      "100%|██████████| 15/15 [00:00<?, ?it/s][A\n",
      "2338it [54:57, 34.75s/it]"
     ]
    },
    {
     "name": "stdout",
     "output_type": "stream",
     "text": [
      "Rv2351c\n"
     ]
    },
    {
     "name": "stderr",
     "output_type": "stream",
     "text": [
      "\n",
      "100%|██████████| 23/23 [00:00<00:00, 22968.81it/s]\n",
      "\n",
      "100%|██████████| 13/13 [00:00<00:00, 36916.69it/s]\n",
      "2339it [59:43, 106.52s/it]"
     ]
    },
    {
     "name": "stdout",
     "output_type": "stream",
     "text": [
      "Rv2352c\n"
     ]
    },
    {
     "name": "stderr",
     "output_type": "stream",
     "text": [
      "\n",
      "100%|██████████| 11/11 [00:00<?, ?it/s][A\n",
      "\n",
      "100%|██████████| 7/7 [00:00<?, ?it/s]\u001b[A\n",
      "2340it [1:02:00, 115.50s/it]"
     ]
    },
    {
     "name": "stdout",
     "output_type": "stream",
     "text": [
      "Rv2353c\n"
     ]
    },
    {
     "name": "stderr",
     "output_type": "stream",
     "text": [
      "\n",
      "100%|██████████| 8/8 [00:00<00:00, 16131.94it/s]\n",
      "\n",
      "100%|██████████| 3/3 [00:00<00:00, 6003.30it/s]\n",
      "2341it [1:04:43, 129.23s/it]"
     ]
    },
    {
     "name": "stdout",
     "output_type": "stream",
     "text": [
      "Rv2357c\n"
     ]
    },
    {
     "name": "stderr",
     "output_type": "stream",
     "text": [
      "\n",
      "100%|██████████| 214/214 [00:00<00:00, 71264.87it/s]\n",
      "\n",
      "100%|██████████| 500/500 [00:00<00:00, 76810.31it/s]\n",
      "2342it [1:07:33, 141.45s/it]"
     ]
    },
    {
     "name": "stdout",
     "output_type": "stream",
     "text": [
      "Rv2358\n"
     ]
    },
    {
     "name": "stderr",
     "output_type": "stream",
     "text": [
      "\n",
      "100%|██████████| 213/213 [00:00<00:00, 106431.59it/s]\n",
      "\n",
      "100%|██████████| 433/433 [00:00<00:00, 86593.89it/s]\n",
      "2343it [1:10:03, 143.96s/it]"
     ]
    },
    {
     "name": "stdout",
     "output_type": "stream",
     "text": [
      "Rv2362c\n"
     ]
    },
    {
     "name": "stderr",
     "output_type": "stream",
     "text": [
      "\n",
      "100%|██████████| 212/212 [00:00<00:00, 213286.75it/s]\n",
      "\n",
      "100%|██████████| 376/376 [00:00<00:00, 188036.04it/s]\n",
      "2347it [1:10:36, 58.60s/it] "
     ]
    },
    {
     "name": "stdout",
     "output_type": "stream",
     "text": [
      "Rv2363\n"
     ]
    },
    {
     "name": "stderr",
     "output_type": "stream",
     "text": [
      "\n",
      "100%|██████████| 204/204 [00:00<00:00, 204404.69it/s]\n",
      "\n",
      "100%|██████████| 210/210 [00:00<00:00, 209915.12it/s]\n",
      "2348it [1:10:58, 51.83s/it]"
     ]
    },
    {
     "name": "stdout",
     "output_type": "stream",
     "text": [
      "Rv2364c\n"
     ]
    },
    {
     "name": "stderr",
     "output_type": "stream",
     "text": [
      "\n",
      "100%|██████████| 212/212 [00:00<00:00, 212319.11it/s]\n",
      "\n",
      "100%|██████████| 500/500 [00:00<00:00, 166652.26it/s]\n",
      "2349it [1:11:59, 53.80s/it]"
     ]
    },
    {
     "name": "stdout",
     "output_type": "stream",
     "text": [
      "Rv2370c\n"
     ]
    },
    {
     "name": "stderr",
     "output_type": "stream",
     "text": [
      "\n",
      "100%|██████████| 8/8 [00:00<?, ?it/s]\u001b[A\n",
      "\n",
      "100%|██████████| 6/6 [00:00<00:00, 11966.63it/s]\n",
      "2355it [1:12:58, 25.61s/it]"
     ]
    },
    {
     "name": "stdout",
     "output_type": "stream",
     "text": [
      "Rv2371\n"
     ]
    },
    {
     "name": "stderr",
     "output_type": "stream",
     "text": [
      "\n",
      "100%|██████████| 2/2 [00:00<?, ?it/s]\u001b[A\n",
      "\n",
      "100%|██████████| 2/2 [00:00<00:00, 3968.12it/s]\n",
      "2356it [1:13:32, 26.74s/it]"
     ]
    },
    {
     "name": "stdout",
     "output_type": "stream",
     "text": [
      "Rv2373c\n"
     ]
    },
    {
     "name": "stderr",
     "output_type": "stream",
     "text": [
      "\n",
      "100%|██████████| 212/212 [00:00<00:00, 212116.52it/s]\n",
      "\n",
      "100%|██████████| 327/327 [00:00<00:00, 163765.66it/s]\n",
      "2358it [1:14:06, 24.16s/it]"
     ]
    },
    {
     "name": "stdout",
     "output_type": "stream",
     "text": [
      "Rv2374c\n"
     ]
    },
    {
     "name": "stderr",
     "output_type": "stream",
     "text": [
      "\n",
      "100%|██████████| 215/215 [00:00<00:00, 86096.56it/s]\n",
      "\n",
      "100%|██████████| 393/393 [00:00<00:00, 98099.24it/s]\n",
      "2359it [1:16:08, 40.03s/it]"
     ]
    },
    {
     "name": "stdout",
     "output_type": "stream",
     "text": [
      "Rv2375\n"
     ]
    },
    {
     "name": "stderr",
     "output_type": "stream",
     "text": [
      "\n",
      "100%|██████████| 189/189 [00:00<00:00, 126029.17it/s]\n",
      "\n",
      "100%|██████████| 495/495 [00:00<00:00, 82483.04it/s]\n",
      "2360it [1:18:02, 54.21s/it]"
     ]
    },
    {
     "name": "stdout",
     "output_type": "stream",
     "text": [
      "Rv2376c\n"
     ]
    },
    {
     "name": "stderr",
     "output_type": "stream",
     "text": [
      "\n",
      "100%|██████████| 82/82 [00:00<00:00, 163699.63it/s]\n",
      "\n",
      "100%|██████████| 47/47 [00:00<00:00, 94096.56it/s]\n",
      "2361it [1:18:25, 47.54s/it]"
     ]
    },
    {
     "name": "stdout",
     "output_type": "stream",
     "text": [
      "Rv2380c\n"
     ]
    },
    {
     "name": "stderr",
     "output_type": "stream",
     "text": [
      "\n",
      "100%|██████████| 164/164 [00:00<00:00, 109289.14it/s]\n",
      "\n",
      "100%|██████████| 102/102 [00:00<00:00, 204307.07it/s]\n",
      "2365it [1:18:58, 25.89s/it]"
     ]
    },
    {
     "name": "stdout",
     "output_type": "stream",
     "text": [
      "Rv2383c\n"
     ]
    },
    {
     "name": "stderr",
     "output_type": "stream",
     "text": [
      "\n",
      "100%|██████████| 118/118 [00:00<?, ?it/s]A\n",
      "\n",
      "100%|██████████| 73/73 [00:00<00:00, 144086.68it/s]\n",
      "2368it [1:19:20, 19.03s/it]"
     ]
    },
    {
     "name": "stdout",
     "output_type": "stream",
     "text": [
      "Rv2384\n"
     ]
    },
    {
     "name": "stderr",
     "output_type": "stream",
     "text": [
      "\n",
      "100%|██████████| 193/193 [00:00<00:00, 128635.10it/s]\n",
      "\n",
      "100%|██████████| 122/122 [00:00<00:00, 244717.88it/s]\n",
      "2369it [1:19:49, 20.48s/it]"
     ]
    },
    {
     "name": "stdout",
     "output_type": "stream",
     "text": [
      "Rv2385\n"
     ]
    },
    {
     "name": "stderr",
     "output_type": "stream",
     "text": [
      "\n",
      "100%|██████████| 86/86 [00:00<00:00, 171684.98it/s]\n",
      "\n",
      "100%|██████████| 51/51 [00:00<00:00, 102202.34it/s]\n",
      "2370it [1:20:08, 20.33s/it]"
     ]
    },
    {
     "name": "stdout",
     "output_type": "stream",
     "text": [
      "Rv2386c\n"
     ]
    },
    {
     "name": "stderr",
     "output_type": "stream",
     "text": [
      "\n",
      "100%|██████████| 133/133 [00:00<00:00, 33252.41it/s]\n",
      "\n",
      "100%|██████████| 80/80 [00:00<00:00, 40098.51it/s]\n",
      "2371it [1:23:57, 62.31s/it]"
     ]
    },
    {
     "name": "stdout",
     "output_type": "stream",
     "text": [
      "Rv2386a\n"
     ]
    },
    {
     "name": "stderr",
     "output_type": "stream",
     "text": [
      "\n",
      "100%|██████████| 63/63 [00:00<00:00, 31581.35it/s]\n",
      "\n",
      "100%|██████████| 36/36 [00:00<00:00, 71663.48it/s]\n",
      "2372it [1:27:08, 90.95s/it]"
     ]
    },
    {
     "name": "stdout",
     "output_type": "stream",
     "text": [
      "Rv2387\n"
     ]
    },
    {
     "name": "stderr",
     "output_type": "stream",
     "text": [
      "\n",
      "100%|██████████| 100/100 [00:00<00:00, 200301.05it/s]\n",
      "\n",
      "100%|██████████| 58/58 [00:00<00:00, 115293.66it/s]\n",
      "2373it [1:27:30, 74.29s/it]"
     ]
    },
    {
     "name": "stdout",
     "output_type": "stream",
     "text": [
      "Rv2388c\n"
     ]
    },
    {
     "name": "stderr",
     "output_type": "stream",
     "text": [
      "\n",
      "100%|██████████| 209/209 [00:00<00:00, 139122.29it/s]\n",
      "\n",
      "100%|██████████| 369/369 [00:00<00:00, 123106.76it/s]\n",
      "2374it [1:28:47, 75.12s/it]"
     ]
    },
    {
     "name": "stdout",
     "output_type": "stream",
     "text": [
      "Rv2390c\n"
     ]
    },
    {
     "name": "stderr",
     "output_type": "stream",
     "text": [
      "\n",
      "100%|██████████| 2/2 [00:00<?, ?it/s]\u001b[A\n",
      "\n",
      "100%|██████████| 2/2 [00:00<?, ?it/s]\u001b[A\n",
      "2376it [1:30:59, 71.26s/it]"
     ]
    },
    {
     "name": "stdout",
     "output_type": "stream",
     "text": [
      "Rv2391\n"
     ]
    },
    {
     "name": "stderr",
     "output_type": "stream",
     "text": [
      "\n",
      "100%|██████████| 211/211 [00:00<00:00, 42144.78it/s]\n",
      "\n",
      "100%|██████████| 471/471 [00:00<00:00, 39164.13it/s]\n",
      "2377it [1:40:07, 181.82s/it]"
     ]
    },
    {
     "name": "stdout",
     "output_type": "stream",
     "text": [
      "Rv2394\n"
     ]
    },
    {
     "name": "stderr",
     "output_type": "stream",
     "text": [
      "\n",
      "100%|██████████| 78/78 [00:00<?, ?it/s][A\n",
      "\n",
      "100%|██████████| 107/107 [00:00<?, ?it/s]A\n",
      "2380it [1:40:22, 93.60s/it] "
     ]
    },
    {
     "name": "stdout",
     "output_type": "stream",
     "text": [
      "Rv2395\n"
     ]
    },
    {
     "name": "stderr",
     "output_type": "stream",
     "text": [
      "\n",
      "100%|██████████| 38/38 [00:00<?, ?it/s][A\n",
      "\n",
      "100%|██████████| 101/101 [00:00<00:00, 100983.24it/s]\n",
      "2381it [1:40:47, 80.46s/it]"
     ]
    },
    {
     "name": "stdout",
     "output_type": "stream",
     "text": [
      "Rv2395A\n"
     ]
    },
    {
     "name": "stderr",
     "output_type": "stream",
     "text": [
      "\n",
      "100%|██████████| 3/3 [00:00<?, ?it/s]\u001b[A\n",
      "\n",
      "100%|██████████| 2/2 [00:00<?, ?it/s]\u001b[A\n",
      "2382it [1:41:12, 68.50s/it]"
     ]
    },
    {
     "name": "stdout",
     "output_type": "stream",
     "text": [
      "Rv2395B\n"
     ]
    },
    {
     "name": "stderr",
     "output_type": "stream",
     "text": [
      "\n",
      "100%|██████████| 2/2 [00:00<?, ?it/s]\u001b[A\n",
      "\n",
      "100%|██████████| 2/2 [00:00<00:00, 3998.38it/s]\n",
      "2383it [1:41:32, 57.21s/it]"
     ]
    },
    {
     "name": "stdout",
     "output_type": "stream",
     "text": [
      "Rv2396\n"
     ]
    },
    {
     "name": "stderr",
     "output_type": "stream",
     "text": [
      "\n",
      "100%|██████████| 1/1 [00:00<?, ?it/s]\u001b[A\n",
      "\n",
      "100%|██████████| 1/1 [00:00<00:00, 2003.01it/s]\n",
      "2384it [1:41:47, 46.70s/it]"
     ]
    },
    {
     "name": "stdout",
     "output_type": "stream",
     "text": [
      "Rv2401A\n"
     ]
    },
    {
     "name": "stderr",
     "output_type": "stream",
     "text": [
      "\n",
      "100%|██████████| 168/168 [00:00<00:00, 56048.61it/s]\n",
      "\n",
      "100%|██████████| 97/97 [00:00<00:00, 64609.73it/s]\n",
      "2390it [1:43:25, 25.87s/it]"
     ]
    },
    {
     "name": "stdout",
     "output_type": "stream",
     "text": [
      "Rv2402\n"
     ]
    },
    {
     "name": "stderr",
     "output_type": "stream",
     "text": [
      "\n",
      "100%|██████████| 203/203 [00:00<00:00, 57286.13it/s]\n",
      "\n",
      "100%|██████████| 307/307 [00:00<00:00, 55805.29it/s]\n",
      "2391it [1:46:05, 44.66s/it]"
     ]
    },
    {
     "name": "stdout",
     "output_type": "stream",
     "text": [
      "Rv2406c\n"
     ]
    },
    {
     "name": "stderr",
     "output_type": "stream",
     "text": [
      "\n",
      "100%|██████████| 194/194 [00:00<00:00, 55443.92it/s]\n",
      "\n",
      "100%|██████████| 188/188 [00:00<00:00, 62636.36it/s]\n",
      "2395it [1:47:34, 34.78s/it]"
     ]
    },
    {
     "name": "stdout",
     "output_type": "stream",
     "text": [
      "Rv2407\n"
     ]
    },
    {
     "name": "stderr",
     "output_type": "stream",
     "text": [
      "\n",
      "100%|██████████| 174/174 [00:00<00:00, 57994.99it/s]\n",
      "\n",
      "100%|██████████| 106/106 [00:00<00:00, 105957.16it/s]\n",
      "2396it [1:49:16, 43.89s/it]"
     ]
    },
    {
     "name": "stdout",
     "output_type": "stream",
     "text": [
      "Rv2408\n"
     ]
    },
    {
     "name": "stderr",
     "output_type": "stream",
     "text": [
      "\n",
      "100%|██████████| 1/1 [00:00<?, ?it/s]\u001b[A\n",
      "\n",
      "100%|██████████| 1/1 [00:00<?, ?it/s]\u001b[A\n",
      "2397it [1:49:42, 40.96s/it]"
     ]
    },
    {
     "name": "stdout",
     "output_type": "stream",
     "text": [
      "Rv2411c\n"
     ]
    },
    {
     "name": "stderr",
     "output_type": "stream",
     "text": [
      "\n",
      "100%|██████████| 184/184 [00:00<00:00, 122403.16it/s]\n",
      "\n",
      "100%|██████████| 398/398 [00:00<00:00, 88544.69it/s]\n",
      "2400it [1:50:30, 30.66s/it]"
     ]
    },
    {
     "name": "stdout",
     "output_type": "stream",
     "text": [
      "Rv2412\n"
     ]
    },
    {
     "name": "stderr",
     "output_type": "stream",
     "text": [
      "\n",
      "100%|██████████| 214/214 [00:00<00:00, 213658.90it/s]\n",
      "\n",
      "100%|██████████| 500/500 [00:00<00:00, 111125.05it/s]\n",
      "2401it [1:52:26, 44.72s/it]"
     ]
    },
    {
     "name": "stdout",
     "output_type": "stream",
     "text": [
      "Rv2413c\n"
     ]
    },
    {
     "name": "stderr",
     "output_type": "stream",
     "text": [
      "\n",
      "100%|██████████| 212/212 [00:00<00:00, 422419.22it/s]\n",
      "\n",
      "100%|██████████| 182/182 [00:00<?, ?it/s]A\n",
      "2402it [1:52:43, 39.46s/it]"
     ]
    },
    {
     "name": "stdout",
     "output_type": "stream",
     "text": [
      "Rv2415c\n"
     ]
    },
    {
     "name": "stderr",
     "output_type": "stream",
     "text": [
      "\n",
      "100%|██████████| 104/104 [00:00<00:00, 51997.57it/s]\n",
      "\n",
      "100%|██████████| 62/62 [00:00<00:00, 61960.17it/s]\n",
      "2404it [1:54:30, 44.45s/it]"
     ]
    },
    {
     "name": "stdout",
     "output_type": "stream",
     "text": [
      "Rv2416c\n"
     ]
    },
    {
     "name": "stderr",
     "output_type": "stream",
     "text": [
      "\n",
      "100%|██████████| 39/39 [00:00<?, ?it/s][A\n",
      "\n",
      "100%|██████████| 24/24 [00:00<?, ?it/s][A\n",
      "2405it [1:55:09, 43.30s/it]"
     ]
    },
    {
     "name": "stdout",
     "output_type": "stream",
     "text": [
      "Rv2417c\n"
     ]
    },
    {
     "name": "stderr",
     "output_type": "stream",
     "text": [
      "\n",
      "100%|██████████| 173/173 [00:00<00:00, 155744.71it/s]\n",
      "\n",
      "100%|██████████| 105/105 [00:00<00:00, 210416.59it/s]\n",
      "2406it [1:55:31, 38.48s/it]"
     ]
    },
    {
     "name": "stdout",
     "output_type": "stream",
     "text": [
      "Rv2421c\n"
     ]
    },
    {
     "name": "stderr",
     "output_type": "stream",
     "text": [
      "\n",
      "100%|██████████| 213/213 [00:00<00:00, 53301.52it/s]\n",
      "\n",
      "100%|██████████| 499/499 [00:00<00:00, 55397.10it/s]\n",
      "2410it [2:00:33, 59.21s/it]"
     ]
    },
    {
     "name": "stdout",
     "output_type": "stream",
     "text": [
      "Rv2422\n"
     ]
    },
    {
     "name": "stderr",
     "output_type": "stream",
     "text": [
      "\n",
      "100%|██████████| 7/7 [00:00<?, ?it/s]\u001b[A\n",
      "\n",
      "100%|██████████| 5/5 [00:00<?, ?it/s]\u001b[A\n",
      "2411it [2:01:26, 58.20s/it]"
     ]
    },
    {
     "name": "stdout",
     "output_type": "stream",
     "text": [
      "Rv2423\n"
     ]
    },
    {
     "name": "stderr",
     "output_type": "stream",
     "text": [
      "\n",
      "100%|██████████| 88/88 [00:00<00:00, 58642.95it/s]\n",
      "\n",
      "100%|██████████| 50/50 [00:00<?, ?it/s][A\n",
      "2412it [2:02:30, 59.27s/it]"
     ]
    },
    {
     "name": "stdout",
     "output_type": "stream",
     "text": [
      "Rv2424c\n"
     ]
    },
    {
     "name": "stderr",
     "output_type": "stream",
     "text": [
      "\n",
      "100%|██████████| 1/1 [00:00<00:00, 1996.34it/s]\n",
      "\n",
      "100%|██████████| 2/2 [00:00<?, ?it/s]\u001b[A\n",
      "2413it [2:02:47, 50.28s/it]"
     ]
    },
    {
     "name": "stdout",
     "output_type": "stream",
     "text": [
      "Rv2426c\n"
     ]
    },
    {
     "name": "stderr",
     "output_type": "stream",
     "text": [
      "\n",
      "100%|██████████| 208/208 [00:00<00:00, 207717.91it/s]\n",
      "\n",
      "100%|██████████| 500/500 [00:00<00:00, 250406.21it/s]\n",
      "2415it [2:03:26, 38.53s/it]"
     ]
    },
    {
     "name": "stdout",
     "output_type": "stream",
     "text": [
      "Rv2427c\n"
     ]
    },
    {
     "name": "stderr",
     "output_type": "stream",
     "text": [
      "\n",
      "100%|██████████| 214/214 [00:00<00:00, 23779.50it/s]\n",
      "\n",
      "100%|██████████| 472/472 [00:00<00:00, 23028.20it/s]\n",
      "2416it [2:37:17, 464.95s/it]"
     ]
    },
    {
     "name": "stdout",
     "output_type": "stream",
     "text": [
      "Rv2428\n"
     ]
    },
    {
     "name": "stderr",
     "output_type": "stream",
     "text": [
      "\n",
      "100%|██████████| 153/153 [00:00<00:00, 21803.03it/s]\n",
      "\n",
      "100%|██████████| 495/495 [00:00<00:00, 23006.55it/s]\n",
      "2417it [2:55:37, 613.54s/it]"
     ]
    },
    {
     "name": "stdout",
     "output_type": "stream",
     "text": [
      "Rv2430c\n"
     ]
    },
    {
     "name": "stderr",
     "output_type": "stream",
     "text": [
      "\n",
      "100%|██████████| 4/4 [00:00<?, ?it/s]\u001b[A\n",
      "\n",
      "100%|██████████| 3/3 [00:00<?, ?it/s]\u001b[A\n",
      "2419it [2:55:51, 370.51s/it]"
     ]
    },
    {
     "name": "stdout",
     "output_type": "stream",
     "text": [
      "Rv2431c\n"
     ]
    },
    {
     "name": "stderr",
     "output_type": "stream",
     "text": [
      "\n",
      "100%|██████████| 4/4 [00:00<?, ?it/s]\u001b[A\n",
      "\n",
      "100%|██████████| 3/3 [00:00<?, ?it/s]\u001b[A\n",
      "2420it [2:56:19, 294.25s/it]"
     ]
    },
    {
     "name": "stdout",
     "output_type": "stream",
     "text": [
      "Rv2435c\n"
     ]
    },
    {
     "name": "stderr",
     "output_type": "stream",
     "text": [
      "\n",
      "100%|██████████| 98/98 [00:00<00:00, 39202.84it/s]\n",
      "\n",
      "100%|██████████| 57/57 [00:00<00:00, 37930.40it/s]\n",
      "2424it [3:00:05, 161.16s/it]"
     ]
    },
    {
     "name": "stdout",
     "output_type": "stream",
     "text": [
      "Rv2436\n"
     ]
    },
    {
     "name": "stderr",
     "output_type": "stream",
     "text": [
      "\n",
      "100%|██████████| 133/133 [00:00<00:00, 38052.01it/s]\n",
      "\n",
      "100%|██████████| 79/79 [00:00<00:00, 39517.00it/s]\n",
      "2425it [3:03:42, 170.45s/it]"
     ]
    },
    {
     "name": "stdout",
     "output_type": "stream",
     "text": [
      "Rv2437\n"
     ]
    },
    {
     "name": "stderr",
     "output_type": "stream",
     "text": [
      "\n",
      "100%|██████████| 43/43 [00:00<?, ?it/s][A\n",
      "\n",
      "100%|██████████| 26/26 [00:00<00:00, 52202.92it/s]\n",
      "2426it [3:04:19, 144.78s/it]"
     ]
    },
    {
     "name": "stdout",
     "output_type": "stream",
     "text": [
      "Rv2440c\n"
     ]
    },
    {
     "name": "stderr",
     "output_type": "stream",
     "text": [
      "\n",
      "100%|██████████| 215/215 [00:00<00:00, 214708.42it/s]\n",
      "\n",
      "100%|██████████| 497/497 [00:00<00:00, 142145.86it/s]\n",
      "2430it [3:05:16, 76.44s/it] "
     ]
    },
    {
     "name": "stdout",
     "output_type": "stream",
     "text": [
      "Rv2442c\n"
     ]
    },
    {
     "name": "stderr",
     "output_type": "stream",
     "text": [
      "\n",
      "100%|██████████| 214/214 [00:00<00:00, 47604.40it/s]\n",
      "\n",
      "100%|██████████| 500/500 [00:00<00:00, 43378.88it/s]\n",
      "2432it [3:17:34, 155.99s/it]"
     ]
    },
    {
     "name": "stdout",
     "output_type": "stream",
     "text": [
      "Rv2443\n"
     ]
    },
    {
     "name": "stderr",
     "output_type": "stream",
     "text": [
      "\n",
      "100%|██████████| 87/87 [00:00<00:00, 43529.10it/s]\n",
      "\n",
      "100%|██████████| 468/468 [00:00<00:00, 46822.37it/s]\n",
      "2433it [3:23:16, 186.40s/it]"
     ]
    },
    {
     "name": "stdout",
     "output_type": "stream",
     "text": [
      "Rv2444c\n"
     ]
    },
    {
     "name": "stderr",
     "output_type": "stream",
     "text": [
      "\n",
      "100%|██████████| 195/195 [00:00<00:00, 48730.30it/s]\n",
      "\n",
      "100%|██████████| 473/473 [00:00<00:00, 52983.28it/s]\n",
      "2434it [3:29:13, 218.52s/it]"
     ]
    },
    {
     "name": "stdout",
     "output_type": "stream",
     "text": [
      "Rv2445c\n"
     ]
    },
    {
     "name": "stderr",
     "output_type": "stream",
     "text": [
      "\n",
      "100%|██████████| 215/215 [00:00<00:00, 429416.84it/s]\n",
      "\n",
      "100%|██████████| 499/499 [00:00<00:00, 199652.55it/s]\n",
      "2435it [3:29:45, 178.98s/it]"
     ]
    },
    {
     "name": "stdout",
     "output_type": "stream",
     "text": [
      "Rv2448c\n"
     ]
    },
    {
     "name": "stderr",
     "output_type": "stream",
     "text": [
      "\n",
      "100%|██████████| 212/212 [00:00<00:00, 141276.21it/s]\n",
      "\n",
      "100%|██████████| 500/500 [00:00<00:00, 142150.88it/s]\n",
      "2438it [3:30:43, 102.86s/it]"
     ]
    },
    {
     "name": "stdout",
     "output_type": "stream",
     "text": [
      "Rv2449c\n"
     ]
    },
    {
     "name": "stderr",
     "output_type": "stream",
     "text": [
      "\n",
      "100%|██████████| 201/201 [00:00<00:00, 201302.56it/s]\n",
      "\n",
      "100%|██████████| 126/126 [00:00<00:00, 252018.27it/s]\n",
      "2439it [3:31:05, 87.91s/it] "
     ]
    },
    {
     "name": "stdout",
     "output_type": "stream",
     "text": [
      "Rv2450c\n"
     ]
    },
    {
     "name": "stderr",
     "output_type": "stream",
     "text": [
      "\n",
      "100%|██████████| 143/143 [00:00<00:00, 289471.75it/s]\n",
      "\n",
      "100%|██████████| 260/260 [00:00<00:00, 173043.33it/s]\n",
      "2440it [3:31:31, 75.07s/it]"
     ]
    },
    {
     "name": "stdout",
     "output_type": "stream",
     "text": [
      "Rv2451\n"
     ]
    },
    {
     "name": "stderr",
     "output_type": "stream",
     "text": [
      "\n",
      "100%|██████████| 2/2 [00:00<?, ?it/s]\u001b[A\n",
      "\n",
      "100%|██████████| 2/2 [00:00<?, ?it/s]\u001b[A\n",
      "2441it [3:31:47, 61.50s/it]"
     ]
    },
    {
     "name": "stdout",
     "output_type": "stream",
     "text": [
      "Rv2455c\n"
     ]
    },
    {
     "name": "stderr",
     "output_type": "stream",
     "text": [
      "\n",
      "100%|██████████| 204/204 [00:00<00:00, 68015.74it/s]\n",
      "\n",
      "100%|██████████| 494/494 [00:00<00:00, 65867.25it/s]\n",
      "2445it [3:36:43, 68.49s/it]"
     ]
    },
    {
     "name": "stdout",
     "output_type": "stream",
     "text": [
      "Rv2457c\n"
     ]
    },
    {
     "name": "stderr",
     "output_type": "stream",
     "text": [
      "\n",
      "100%|██████████| 215/215 [00:00<00:00, 61428.84it/s]\n",
      "\n",
      "100%|██████████| 500/500 [00:00<00:00, 52590.52it/s]\n",
      "2447it [3:42:56, 102.60s/it]"
     ]
    },
    {
     "name": "stdout",
     "output_type": "stream",
     "text": [
      "Rv2458\n"
     ]
    },
    {
     "name": "stderr",
     "output_type": "stream",
     "text": [
      "\n",
      "100%|██████████| 96/96 [00:00<00:00, 95778.59it/s]\n",
      "\n",
      "100%|██████████| 179/179 [00:00<00:00, 59439.51it/s]\n",
      "2448it [3:44:10, 97.71s/it] "
     ]
    },
    {
     "name": "stdout",
     "output_type": "stream",
     "text": [
      "Rv2459\n"
     ]
    },
    {
     "name": "stderr",
     "output_type": "stream",
     "text": [
      "\n",
      "100%|██████████| 16/16 [00:00<?, ?it/s][A\n",
      "\n",
      "100%|██████████| 10/10 [00:00<?, ?it/s][A\n",
      "2449it [3:44:42, 84.76s/it]"
     ]
    },
    {
     "name": "stdout",
     "output_type": "stream",
     "text": [
      "Rv2461c\n"
     ]
    },
    {
     "name": "stderr",
     "output_type": "stream",
     "text": [
      "\n",
      "100%|██████████| 213/213 [00:00<00:00, 141852.45it/s]\n",
      "\n",
      "100%|██████████| 495/495 [00:00<00:00, 110101.31it/s]\n",
      "2451it [3:46:41, 75.74s/it]"
     ]
    },
    {
     "name": "stdout",
     "output_type": "stream",
     "text": [
      "Rv2462c\n"
     ]
    },
    {
     "name": "stderr",
     "output_type": "stream",
     "text": [
      "\n",
      "100%|██████████| 200/200 [00:00<00:00, 39995.27it/s]\n",
      "\n",
      "100%|██████████| 163/163 [00:00<00:00, 46619.27it/s]\n",
      "2452it [3:49:47, 98.24s/it]"
     ]
    },
    {
     "name": "stdout",
     "output_type": "stream",
     "text": [
      "Rv2463\n"
     ]
    },
    {
     "name": "stderr",
     "output_type": "stream",
     "text": [
      "\n",
      "100%|██████████| 152/152 [00:00<00:00, 43452.44it/s]\n",
      "\n",
      "100%|██████████| 93/93 [00:00<00:00, 61915.92it/s]\n",
      "2453it [3:51:59, 105.87s/it]"
     ]
    },
    {
     "name": "stdout",
     "output_type": "stream",
     "text": [
      "Rv2465c\n"
     ]
    },
    {
     "name": "stderr",
     "output_type": "stream",
     "text": [
      "\n",
      "100%|██████████| 212/212 [00:00<00:00, 141501.03it/s]\n",
      "\n",
      "100%|██████████| 499/499 [00:00<00:00, 142737.35it/s]\n",
      "2455it [3:53:14, 79.14s/it] "
     ]
    },
    {
     "name": "stdout",
     "output_type": "stream",
     "text": [
      "Rv2466c\n"
     ]
    },
    {
     "name": "stderr",
     "output_type": "stream",
     "text": [
      "\n",
      "100%|██████████| 215/215 [00:00<00:00, 143526.24it/s]\n",
      "\n",
      "100%|██████████| 449/449 [00:00<00:00, 127981.14it/s]\n",
      "2456it [3:54:12, 74.30s/it]"
     ]
    },
    {
     "name": "stdout",
     "output_type": "stream",
     "text": [
      "Rv2467\n"
     ]
    },
    {
     "name": "stderr",
     "output_type": "stream",
     "text": [
      "\n",
      "100%|██████████| 210/210 [00:00<00:00, 140121.51it/s]\n",
      "\n",
      "100%|██████████| 349/349 [00:00<00:00, 139543.57it/s]\n",
      "2457it [3:54:57, 67.54s/it]"
     ]
    },
    {
     "name": "stdout",
     "output_type": "stream",
     "text": [
      "Rv2468A\n"
     ]
    },
    {
     "name": "stderr",
     "output_type": "stream",
     "text": [
      "\n",
      "100%|██████████| 115/115 [00:00<00:00, 229797.50it/s]\n",
      "\n",
      "100%|██████████| 67/67 [00:00<00:00, 134009.71it/s]\n",
      "2459it [3:55:13, 43.38s/it]"
     ]
    },
    {
     "name": "stdout",
     "output_type": "stream",
     "text": [
      "Rv2469c\n"
     ]
    },
    {
     "name": "stderr",
     "output_type": "stream",
     "text": [
      "\n",
      "100%|██████████| 211/211 [00:00<00:00, 140743.98it/s]\n",
      "\n",
      "100%|██████████| 424/424 [00:00<00:00, 84568.21it/s]\n",
      "2460it [3:56:56, 56.83s/it]"
     ]
    },
    {
     "name": "stdout",
     "output_type": "stream",
     "text": [
      "Rv2470\n"
     ]
    },
    {
     "name": "stderr",
     "output_type": "stream",
     "text": [
      "\n",
      "100%|██████████| 214/214 [00:00<00:00, 142835.94it/s]\n",
      "\n",
      "100%|██████████| 484/484 [00:00<00:00, 98876.97it/s]\n",
      "2461it [3:58:26, 64.85s/it]"
     ]
    },
    {
     "name": "stdout",
     "output_type": "stream",
     "text": [
      "Rv2472\n"
     ]
    },
    {
     "name": "stderr",
     "output_type": "stream",
     "text": [
      "\n",
      "100%|██████████| 2/2 [00:00<?, ?it/s]\u001b[A\n",
      "\n",
      "100%|██████████| 2/2 [00:00<?, ?it/s]\u001b[A\n",
      "2463it [3:58:41, 41.39s/it]"
     ]
    },
    {
     "name": "stdout",
     "output_type": "stream",
     "text": [
      "Rv2476c\n"
     ]
    },
    {
     "name": "stderr",
     "output_type": "stream",
     "text": [
      "\n",
      "100%|██████████| 208/208 [00:00<00:00, 104007.54it/s]\n",
      "\n",
      "100%|██████████| 130/130 [00:00<00:00, 129823.70it/s]\n",
      "2467it [3:59:17, 23.81s/it]"
     ]
    },
    {
     "name": "stdout",
     "output_type": "stream",
     "text": [
      "Rv2477c\n"
     ]
    },
    {
     "name": "stderr",
     "output_type": "stream",
     "text": [
      "\n",
      "100%|██████████| 215/215 [00:00<00:00, 143252.64it/s]\n",
      "\n",
      "100%|██████████| 500/500 [00:00<00:00, 124994.16it/s]\n",
      "2468it [4:00:41, 33.55s/it]"
     ]
    },
    {
     "name": "stdout",
     "output_type": "stream",
     "text": [
      "Rv2478c\n"
     ]
    },
    {
     "name": "stderr",
     "output_type": "stream",
     "text": [
      "\n",
      "100%|██████████| 162/162 [00:00<00:00, 9814.92it/s]\n",
      "\n",
      "100%|██████████| 101/101 [00:00<00:00, 9619.53it/s]\n"
     ]
    }
   ],
   "source": [
    "dont_start = 1\n",
    "for n, locus in tqdm(enumerate(tb_loci)):\n",
    "    if locus == 'Rv2312':\n",
    "        dont_start = 0\n",
    "    if dont_start == 1:\n",
    "        continue\n",
    "    target_locus = tb_species+ '@' + locus \n",
    "    location = locations_dict_1[target_locus] \n",
    "    if n == 0:\n",
    "        continue\n",
    "    if location[2] == 1:\n",
    "        upstream_cds_stop = locations_dict_1[tb_species + '@' + tb_loci[n-1]][1]\n",
    "        offset = location[0] - upstream_cds_stop\n",
    "    else:\n",
    "        upstream_cds_stop = locations_dict_1[tb_species + '@' + tb_loci[n+1]][0]\n",
    "        offset = upstream_cds_stop - location[1]\n",
    "\n",
    "    if offset < 30:\n",
    "        continue\n",
    "    else:\n",
    "        print(locus)\n",
    "        generate_alignment(locus, offset, 1)\n",
    "        generate_alignment(locus, offset, 2)"
   ]
  },
  {
   "cell_type": "markdown",
   "id": "620b4aff-19a5-4a6b-ae33-61039732f114",
   "metadata": {},
   "source": [
    "#### Extract covariation information to identify potentially significant regions"
   ]
  },
  {
   "cell_type": "code",
   "execution_count": 6,
   "id": "d47c776f-9647-4d9d-97fc-df4e05cb569e",
   "metadata": {},
   "outputs": [
    {
     "name": "stdout",
     "output_type": "stream",
     "text": [
      "Rv1133c 30 0.0\n",
      "Rv0009 11 0.0\n",
      "Rv0020c 52 0.0\n",
      "Rv0041 26 0.0\n",
      "Rv0053 11 0.0\n",
      "Rv0129c 6 1.2992673603662297e-10\n",
      "Rv0154c 6 4.008793297316515e-12\n",
      "Rv0189c 9 0.0\n",
      "Rv0190 2 1.92957504530078e-06\n",
      "Rv0211 7 9.992007221626409e-15\n",
      "Rv0237 8 0.0\n",
      "Rv0244c 31 0.0\n",
      "Rv0357c 6 0.0\n",
      "Rv0423c 6 0.0\n",
      "Rv0425c 1 3.4252199999640354e-06\n",
      "Rv0440 19 0.0\n",
      "Rv0462 1 4.405270000007455e-06\n",
      "Rv0468 6 5.0013363414036505e-06\n",
      "Rv0491 6 6.106226635438361e-15\n",
      "Rv0496 2 4.2173180991866843e-07\n",
      "Rv0512 4 0.0\n",
      "Rv0524 8 3.0719161658865346e-08\n",
      "Rv0548c 7 0.0\n",
      "Rv0566c 22 0.0\n",
      "Rv0634B 45 0.0\n",
      "Rv0651 33 0.0\n",
      "Rv0667 158 0.0\n",
      "Rv0670 1 1.1438999999446864e-06\n",
      "Rv0700 20 0.0\n",
      "Rv0718 5 6.772360450213455e-14\n",
      "Rv0732 5 2.3487101152852574e-11\n",
      "Rv0753c 5 3.5762937056205146e-10\n",
      "Rv0757 3 9.479231843911862e-10\n",
      "Rv0768 6 1.7344722325063344e-09\n",
      "Rv0777 7 1.2434497875801753e-14\n",
      "Rv0810c 2 3.6731804486933584e-08\n",
      "Rv0848 2 1.0475486745820106e-06\n",
      "Rv0858c 1 9.062770001122544e-08\n",
      "Rv0867c 7 1.0627054791711998e-11\n",
      "Rv0870c 2 3.769170531242594e-10\n",
      "Rv0873 5 1.960313895654764e-07\n",
      "Rv0884c 22 0.0\n",
      "Rv0896 7 6.217248937900877e-15\n",
      "Rv0920c 4 1.5000456432545661e-10\n",
      "Rv0948c 5 2.9242164245602e-12\n",
      "Rv0949 4 7.327471962526033e-15\n",
      "Rv0951 7 1.7937873408868654e-12\n",
      "Rv0956 1 1.2606400368042614e-09\n",
      "Rv0958 6 2.3314683517128287e-15\n",
      "Rv0981 12 1.8309131988303307e-11\n",
      "Rv1011 4 1.7878032387841358e-11\n",
      "Rv1015c 3 1.861362769695063e-06\n",
      "Rv1018c 10 4.2439496361623696e-11\n",
      "Rv1020 2 1.5797287737928656e-06\n"
     ]
    }
   ],
   "source": [
    "seq_ids = util.list_dirs(project_dir)\n",
    "out_list = []\n",
    "for id in seq_ids:\n",
    "    if os.path.exists(project_dir + '/' + str(id) + '/rscape_output_2.cov'):\n",
    "        with open(project_dir + '/' + str(id) + '/rscape_output_2.cov', 'r') as f:  \n",
    "            num_pairs = 0\n",
    "            e_values = []\n",
    "            for l in f:\n",
    "                if (not ('#' in l)):\n",
    "                    a = l.split()\n",
    "                    if len(a) > 6 and abs(int(a[2])-int(a[1])) > 3:    # Exclude covarying pairs less than 3 bp apart)\n",
    "                        e_values.append(float(a[4]))\n",
    "                        num_pairs +=1\n",
    "        if len(e_values) > 0:\n",
    "            tot = sum([math.log(x) for x  in e_values])\n",
    "            num = len(e_values)\n",
    "            combined_e_value = 1-chi2.cdf(-2*tot, 2*num)\n",
    "        else:\n",
    "            combined_e_value = 999\n",
    "        if combined_e_value < 1e-5:\n",
    "            print(id, num_pairs, combined_e_value)"
   ]
  },
  {
   "cell_type": "code",
   "execution_count": null,
   "id": "79a6f80e-9741-4437-9ac5-6cdef045064b",
   "metadata": {},
   "outputs": [],
   "source": []
  }
 ],
 "metadata": {
  "kernelspec": {
   "display_name": "Python 3 (ipykernel)",
   "language": "python",
   "name": "python3"
  },
  "language_info": {
   "codemirror_mode": {
    "name": "ipython",
    "version": 3
   },
   "file_extension": ".py",
   "mimetype": "text/x-python",
   "name": "python",
   "nbconvert_exporter": "python",
   "pygments_lexer": "ipython3",
   "version": "3.9.7"
  }
 },
 "nbformat": 4,
 "nbformat_minor": 5
}
