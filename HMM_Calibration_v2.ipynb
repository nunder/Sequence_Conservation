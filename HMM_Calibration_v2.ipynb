{
 "cells": [
  {
   "cell_type": "code",
   "execution_count": 1,
   "id": "621b7a47-f9ff-41f5-a23f-0fbb71482945",
   "metadata": {},
   "outputs": [
    {
     "ename": "SyntaxError",
     "evalue": "invalid syntax (Sequence_Analysis_Routines.py, line 503)",
     "output_type": "error",
     "traceback": [
      "Traceback \u001b[1;36m(most recent call last)\u001b[0m:\n",
      "  File \u001b[0;32m\"C:\\Users\\nicho\\Anaconda3\\envs\\Projects\\lib\\site-packages\\IPython\\core\\interactiveshell.py\"\u001b[0m, line \u001b[0;32m3457\u001b[0m, in \u001b[0;35mrun_code\u001b[0m\n    exec(code_obj, self.user_global_ns, self.user_ns)\n",
      "\u001b[1;36m  File \u001b[1;32m\"C:\\Users\\nicho\\AppData\\Local\\Temp/ipykernel_21312/1379880821.py\"\u001b[1;36m, line \u001b[1;32m6\u001b[1;36m, in \u001b[1;35m<module>\u001b[1;36m\u001b[0m\n\u001b[1;33m    import Sequence_Analysis_Routines as sar\u001b[0m\n",
      "\u001b[1;36m  File \u001b[1;32m\"C:\\Users\\nicho\\Documents\\GitHub\\Sequence_Conservation\\Sequence_Analysis_Routines.py\"\u001b[1;36m, line \u001b[1;32m503\u001b[0m\n\u001b[1;33m    self.forward_probabilities[t, i] = math.log(temp) + math.log(self.observation_probabilities[t, i])\u001b[0m\n\u001b[1;37m    ^\u001b[0m\n\u001b[1;31mSyntaxError\u001b[0m\u001b[1;31m:\u001b[0m invalid syntax\n"
     ]
    }
   ],
   "source": [
    "import numpy as np\n",
    "import random\n",
    "import math\n",
    "import matplotlib.pyplot as plt\n",
    "from scipy import optimize as opt\n",
    "import Sequence_Analysis_Routines as sar\n",
    "import ete3\n",
    "from joblib import Parallel, delayed\n",
    "from tqdm import tqdm"
   ]
  },
  {
   "cell_type": "code",
   "execution_count": null,
   "id": "83350ad1-bc1a-4b34-9fc4-f094ca2bbe48",
   "metadata": {},
   "outputs": [],
   "source": [
    "project_dir = 'D:/Project_Data/Project_3'\n",
    "output_dir = project_dir + '/Output/Close_Species'\n",
    "non_cds_output_dir = output_dir + '/Multiple_Alignment_Data/Non_CDS'\n",
    "tb_species = 'GCF_000195955.2'"
   ]
  },
  {
   "cell_type": "code",
   "execution_count": null,
   "id": "9b0ef1ec-db22-4df5-937e-96e0ba48d0fe",
   "metadata": {},
   "outputs": [],
   "source": [
    "file_ids = sar.list_files(non_cds_output_dir+'/')\n",
    "ids = [int(i.split('.')[0]) for i in file_ids]\n",
    "#ids.remove(1559)  #Contains S in alignment!\n",
    "outgroup_species = 'NC_008596.1'\n",
    "master_tree = ete3.Tree(output_dir + '/Trees/Concatenated_JC_Tree.treefile')\n",
    "outgroup = master_tree.search_nodes(name= outgroup_species)[0]\n",
    "outgroup.delete()"
   ]
  },
  {
   "cell_type": "code",
   "execution_count": null,
   "id": "1b4100a3-de80-411e-98c5-0d2abf5e0208",
   "metadata": {},
   "outputs": [],
   "source": [
    "group_ids = ids\n",
    "align_dict = {}\n",
    "for group_id in tqdm(group_ids):\n",
    "        alignment = sar.Alignment(non_cds_output_dir+'/'+str(group_id)+'.fasta', tb_species, 'NT')\n",
    "        alignment.modify_sequence(1, False, True)\n",
    "        align_dict[group_id] = alignment"
   ]
  },
  {
   "cell_type": "code",
   "execution_count": null,
   "id": "18b02613-9757-4a9a-9003-edb47e938c9d",
   "metadata": {},
   "outputs": [],
   "source": [
    "def fit_hmm(params, group_ids, num_subsets, subset_num):\n",
    "    num_symbols = 4    # Inserts are randomised\n",
    "    num_states = 2\n",
    "    initial_state_probabilities = [1.0/num_states]*num_states\n",
    "    total_probability = 0\n",
    "    ids = sar.chunk_list(group_ids, num_subsets, subset_num)\n",
    "    for group_id in ids:\n",
    "        alignment = align_dict[group_id]\n",
    "        align_list =  alignment.modified_sequence_list\n",
    "        align_names = alignment.sequence_names\n",
    "        len_align_list = len(align_list[0])\n",
    "        non_cds = [x[50:len_align_list - 50] for x in align_list]\n",
    "        if len(non_cds[0]) < 10:\n",
    "            continue\n",
    "        #transition_probabilities = np.full((num_states,num_states),params[0])\n",
    "        #np.fill_diagonal(transition_probabilities, 1 - (num_states-1)*params[0])\n",
    "        a = params[0]\n",
    "        b = (1-params[0])\n",
    "        c = 1 - (params[1])\n",
    "        d = params[1]\n",
    "        transition_probabilities = np.array([[a,b],[c,d]])\n",
    "        observation_probabilities = sar.mutation_probs(params[len(params)-num_states:len(params)], non_cds, align_names, master_tree, num_symbols)\n",
    "        trial_hmm = sar.HMM(initial_state_probabilities, transition_probabilities, observation_probabilities)\n",
    "        trial_hmm.viterbi()\n",
    "        total_probability += trial_hmm.viterbi_log_probability * -1\n",
    "    return total_probability"
   ]
  },
  {
   "cell_type": "code",
   "execution_count": null,
   "id": "deb5d28a-8cc4-4ac6-9ced-f3ed7862b13a",
   "metadata": {},
   "outputs": [],
   "source": [
    "def parallel_fit_hmm (params):\n",
    "    num_cores = 16\n",
    "    core_numbers = range(1, num_cores+1)\n",
    "    a = Parallel(n_jobs=-1)(delayed(fit_hmm)(params, group_ids, num_cores, core_number) for core_number in core_numbers)\n",
    "    print(params, sum(a))\n",
    "    return sum(a)  "
   ]
  },
  {
   "cell_type": "code",
   "execution_count": null,
   "id": "9c4838ea-be14-48d0-8524-b758e0232414",
   "metadata": {},
   "outputs": [],
   "source": [
    "#res = opt.minimize(parallel_fit_hmm, (0.01, 9, 4, 0.0001), method = 'Nelder-Mead', bounds = ((0.001,0.999),(0.1,10),(0.1,10), (0.1, 10)))\n",
    "#print(res.x)\n",
    "res = opt.minimize(parallel_fit_hmm, (0.97, 0.97, 8,0.2 ), method = 'Nelder-Mead', bounds = ((0.001,0.999),(0.001,0.999),(0.001,10),(0.001,10)))\n",
    "print(res.x)"
   ]
  },
  {
   "cell_type": "code",
   "execution_count": null,
   "id": "bde164f5-4994-4911-91b5-b68f1b9072c1",
   "metadata": {},
   "outputs": [],
   "source": [
    "fitted_parameters = res.x\n",
    "transition_probabilities = np.array([[1-fitted_parameters[0],fitted_parameters[0]],[fitted_parameters[1],1-fitted_parameters[1]]])\n",
    "group_id =   1167 #1569 #1505    #  1167\n",
    "alignment = sar.Alignment(non_cds_output_dir+'/'+str(group_id)+'.fasta', tb_species, 'NT')\n",
    "alignment.modify_sequence(consensus=1)\n",
    "alignment_list =  alignment.modified_sequence_list\n",
    "alignment_names = alignment.sequence_names\n",
    "observation_probabilities = sar.mutation_probs(fitted_parameters[2], fitted_parameters[3], alignment_list, alignment_names, master_tree)\n",
    "fitted_hmm = sar.HMM(initial_state_probabilities, transition_probabilities, observation_probabilities)\n",
    "fitted_hmm.viterbi()\n",
    "print(fitted_hmm.viterbi_log_probability)\n",
    "plt.plot(fitted_hmm.viterbi_path);"
   ]
  },
  {
   "cell_type": "code",
   "execution_count": null,
   "id": "2cd09312-6ace-497e-b586-850c705b4ca9",
   "metadata": {},
   "outputs": [],
   "source": [
    "parallel_fit_hmm([0.97, 0.97, 8, 0.2])"
   ]
  },
  {
   "cell_type": "code",
   "execution_count": null,
   "id": "e001ce99-81a0-4e2b-bfd1-b0b32155adf2",
   "metadata": {},
   "outputs": [],
   "source": [
    "res = opt.shgo(parallel_fit_hmm, bounds = ((0.001,0.999),(0.001,0.999),(0.001,10),(0.001,10)))\n",
    "print(res.x)"
   ]
  },
  {
   "cell_type": "code",
   "execution_count": null,
   "id": "ef10ff92-1070-4aed-a13f-860f7086a33e",
   "metadata": {},
   "outputs": [],
   "source": []
  }
 ],
 "metadata": {
  "kernelspec": {
   "display_name": "Python 3 (ipykernel)",
   "language": "python",
   "name": "python3"
  },
  "language_info": {
   "codemirror_mode": {
    "name": "ipython",
    "version": 3
   },
   "file_extension": ".py",
   "mimetype": "text/x-python",
   "name": "python",
   "nbconvert_exporter": "python",
   "pygments_lexer": "ipython3",
   "version": "3.9.7"
  }
 },
 "nbformat": 4,
 "nbformat_minor": 5
}
