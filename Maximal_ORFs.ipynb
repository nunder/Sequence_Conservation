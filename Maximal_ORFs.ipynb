{
 "cells": [
  {
   "cell_type": "markdown",
   "id": "eef24ce4-4729-44b6-8d43-fbdf47b9033a",
   "metadata": {},
   "source": [
    "##### Set up packages and directories"
   ]
  },
  {
   "cell_type": "code",
   "execution_count": 1,
   "id": "9105f9b4-46be-44fd-b947-d3c47ce2fa01",
   "metadata": {},
   "outputs": [],
   "source": [
    "import pandas as pd\n",
    "import pickle\n",
    "import seaborn as sns\n",
    "import matplotlib.pyplot as plt\n",
    "import numpy as np\n",
    "from scipy.fft import fft, fftfreq\n",
    "from Bio import Entrez, SeqIO, AlignIO, pairwise2, Align, Seq, motifs\n",
    "from Bio.Seq import Seq\n",
    "from Bio.SeqFeature import SeqFeature, FeatureLocation\n",
    "from scipy.stats import binom\n",
    "import math\n",
    "import random\n",
    "from tqdm.auto import tqdm\n",
    "from Comparative_Analysis import Sequence_Analysis_Routines as sar\n",
    "from Comparative_Analysis import HMM as hmm\n",
    "from Comparative_Analysis import Utilities as util\n",
    "from Comparative_Analysis import Alignment_HMM as alignment_hmm\n",
    "from Comparative_Analysis import Alignment_Analysis as alignment_analysis\n",
    "from Comparative_Analysis import Alignment as align\n",
    "from Comparative_Analysis import Master_Alignment_HMM as master_alignment_hmm\n",
    "from Comparative_Analysis import Multi_Species_Master_Alignment_HMM as multi_species_master_alignment_hmm\n",
    "from Comparative_Analysis import Arneson_Ernst_HMM as ae_hmm\n",
    "import random\n",
    "import copy\n",
    "from joblib import Parallel, delayed\n",
    "import os\n",
    "import subprocess\n",
    "from Bio.Blast import NCBIWWW, NCBIXML"
   ]
  },
  {
   "cell_type": "code",
   "execution_count": 2,
   "id": "1988a242-f558-4643-b3a9-27272fa7bebc",
   "metadata": {},
   "outputs": [],
   "source": [
    "project_dir = 'D:/Project_Data/Project_6'\n",
    "genome_datasets_dir = project_dir + '/Datasets/NCBI_Datasets'\n",
    "literature_datasets_dir = project_dir + '/Datasets/Data_From_Publications'\n",
    "cryptic_output_path = \"D:/Project_Data/CRYPTIC_DATA/Cryptic_Data_Analysis\"\n",
    "cryptic_input_path = \"D:/Project_Data/CRYPTIC_DATA/\"\n",
    "output_dir = project_dir + '/Output'\n",
    "refseq_dir = 'D:/NCBI_Dataset_Mycobacteria'\n",
    "protein_fasta_output_loc = output_dir + '/Protein_Sequences'\n",
    "outgroup_protein_fasta_output_loc = output_dir + '/Protein_Sequences_With_Outgroup'\n",
    "sonic_paranoid_run_name = 'Run_Without_Outgroup'\n",
    "outgroup_sonic_paranoid_run_name = 'Run_With_Outgroup'\n",
    "sonic_paranoid_output_loc = output_dir + '/Sonic_Paranoid_Output'\n",
    "ortholog_dir = sonic_paranoid_output_loc + '/runs/' + sonic_paranoid_run_name + '/ortholog_groups'\n",
    "outgroup_ortholog_dir = sonic_paranoid_output_loc + '/runs/' + outgroup_sonic_paranoid_run_name + '/ortholog_groups'\n",
    "non_cds_output_dir = output_dir + '/Multiple_Alignment_Data/Downstream_Non_CDS'\n",
    "upstream_non_cds_output_dir = output_dir + '/Multiple_Alignment_Data/Upstream_Non_CDS'\n",
    "cds_output_dir = output_dir + '/Multiple_Alignment_Data/CDS'\n",
    "extended_cds_output_dir = output_dir + '/Multiple_Alignment_Data/Extended_CDS'\n",
    "extended_non_cds_regions_output_dir = output_dir + '/Multiple_Alignment_Data/Extended_Non_CDS'\n",
    "outgroup_cds_output_dir = output_dir + '/Multiple_Alignment_Data/CDS_With_Outgroup'\n",
    "outgroup_concatenated_cds_output_dir = output_dir + '/Multiple_Alignment_Data/CDS_With_Outgroup_Concatenated'\n",
    "hmm_parameters_output_dir = output_dir +'/HMM_Model_Parameters'\n",
    "conservation_analysis_output_dir = output_dir + '/Conservation_Analysis'\n",
    "num_cores = 16"
   ]
  },
  {
   "cell_type": "markdown",
   "id": "017f28e8-a111-4d47-a7d6-9fbe2e08e2d4",
   "metadata": {},
   "source": [
    "##### Translation function"
   ]
  },
  {
   "cell_type": "code",
   "execution_count": 3,
   "id": "3cdf9a31-18a2-457e-9fc5-fc6c56d5d757",
   "metadata": {},
   "outputs": [],
   "source": [
    "codon_dict = {}\n",
    "with open('D:/Project_Data/Project_3/Datasets/Reference_Tables/Standard_Code.txt') as f:\n",
    "    for l in f:\n",
    "        codon_dict[str(l[1:4])] = l[5]"
   ]
  },
  {
   "cell_type": "code",
   "execution_count": 4,
   "id": "94a2ed1e-1303-4248-9b29-728cce1b9485",
   "metadata": {},
   "outputs": [],
   "source": [
    "def translate_sequence(input_seq, strand, rf):\n",
    "    output_seq = ''\n",
    "    if strand == 1:\n",
    "        seq = input_seq[rf:]\n",
    "    else:\n",
    "        seq = align.reverse_complement(input_seq)[rf:]\n",
    "    for i in range(0,len(seq)-2,3):\n",
    "        if seq[i:(i+3)] in codon_dict:\n",
    "            output_seq += codon_dict[seq[i:(i+3)]]\n",
    "        else:\n",
    "            output_seq += 'X'\n",
    "    return output_seq"
   ]
  },
  {
   "cell_type": "code",
   "execution_count": 5,
   "id": "6f975dff-4e95-44f1-978b-5c46eee3e950",
   "metadata": {},
   "outputs": [],
   "source": [
    "def translate_orf(start, end, strand):\n",
    "    return translate_sequence(full_sequence[start:end], strand, 0)              "
   ]
  },
  {
   "cell_type": "markdown",
   "id": "ad62db44-ad5e-4248-9aae-5d88c7242f79",
   "metadata": {},
   "source": [
    "##### Output nt sequences in FASTA format"
   ]
  },
  {
   "cell_type": "code",
   "execution_count": 6,
   "id": "ab243605-4807-411c-8195-401b1a404c94",
   "metadata": {},
   "outputs": [],
   "source": [
    "def produce_nt_blast_file(record_list, output_filename):\n",
    "    with open(output_filename, 'w',  newline='') as outfile:\n",
    "        line_length = 60\n",
    "        for record in tqdm(record_list):\n",
    "            sequence = record[1]\n",
    "            lines = []\n",
    "            sequence_length = len(sequence)\n",
    "            number_of_lines = math.ceil(sequence_length / line_length)\n",
    "            lines.append(\">\" +record[0]+ \"\\n\")\n",
    "            for i in range(number_of_lines):\n",
    "                subsequence = sequence[i*line_length:(i+1)*line_length]\n",
    "                lines.append(subsequence + \"\\n\")\n",
    "            outfile.write(''.join(lines))"
   ]
  },
  {
   "cell_type": "markdown",
   "id": "ab3eb090-60d0-4a2d-8f83-14b2b6889726",
   "metadata": {
    "tags": []
   },
   "source": [
    "##### Mycobrowser is used for CDS demarcation, sequence is taken from GCF_000195955.2"
   ]
  },
  {
   "cell_type": "code",
   "execution_count": 113,
   "id": "e2de639b-724a-46ac-94b7-6480e9b0ff62",
   "metadata": {
    "tags": []
   },
   "outputs": [],
   "source": [
    "tb_cds_dict = {}\n",
    "genome_record = next(SeqIO.parse(genome_datasets_dir + '/GCF_000195955.2/genomic.gbff', \"genbank\"))\n",
    "full_sequence = genome_record.seq\n",
    "actual_cds_boundaries = []\n",
    "mycobrowser_df = pd.read_excel(literature_datasets_dir+'/Mycobrowser_Release_4.xlsx')\n",
    "#  temp = mycobrowser_df[mycobrowser_df['Feature'] == 'CDS'][['Locus','Start','Stop','Strand']]      #Just CDS\n",
    "temp = mycobrowser_df[['Locus','Start','Stop','Strand']]     #All features\n",
    "actual_cds_boundaries = []\n",
    "for i, r in temp.iterrows():\n",
    "    if r['Strand'] == '+':\n",
    "        strand = 1\n",
    "    else:\n",
    "        strand = -1\n",
    "    actual_cds_boundaries.append((r['Locus'],r['Start']-1, r['Stop'], strand))\n",
    "    tb_cds_dict[r['Locus']] = (r['Start']-1, r['Stop'], strand)"
   ]
  },
  {
   "cell_type": "markdown",
   "id": "beacebf7-ca45-4acd-ad98-b9377ec368da",
   "metadata": {
    "tags": []
   },
   "source": [
    "##### Load variant dataset and create variant dictionary (0 indexed for genome position - whereas CRyPtiC data uses 1 start)"
   ]
  },
  {
   "cell_type": "code",
   "execution_count": 114,
   "id": "c8830643-ee4a-42ff-a2f1-39d0154817a6",
   "metadata": {},
   "outputs": [],
   "source": [
    "variant_count_df = pd.read_csv(cryptic_output_path + '/filtered_variant_summary_df.csv')\n",
    "variant_count_df = variant_count_df[variant_count_df['MUTATION_PCT'] < 0.1]"
   ]
  },
  {
   "cell_type": "code",
   "execution_count": 115,
   "id": "8a5ac217-24ab-4e70-ac95-b7c24903ae5f",
   "metadata": {},
   "outputs": [],
   "source": [
    "temp = variant_count_df.groupby(['GENOME_INDEX'])[['MYKROBE_LINEAGE_NAME_2']].count().reset_index()\n",
    "temp_dict = dict(zip(temp.GENOME_INDEX, temp.MYKROBE_LINEAGE_NAME_2))"
   ]
  },
  {
   "cell_type": "code",
   "execution_count": 116,
   "id": "c8c05206-85d2-4eee-9040-db84f07b4773",
   "metadata": {},
   "outputs": [
    {
     "data": {
      "application/vnd.jupyter.widget-view+json": {
       "model_id": "c3698c7d0bab4a83a294956e9d1f4a98",
       "version_major": 2,
       "version_minor": 0
      },
      "text/plain": [
       "  0%|          | 0/4411532 [00:00<?, ?it/s]"
      ]
     },
     "metadata": {},
     "output_type": "display_data"
    }
   ],
   "source": [
    "mutation_counts_dict = {}\n",
    "for i in tqdm(range(len(full_sequence))):\n",
    "    if (i+1) in temp_dict:\n",
    "        mutation_counts_dict[i] = temp_dict[(i+1)]\n",
    "    else:\n",
    "        mutation_counts_dict[i] = 0"
   ]
  },
  {
   "cell_type": "markdown",
   "id": "ec65c3b9-c53e-4f86-8e21-0a4836d413c2",
   "metadata": {},
   "source": [
    "##### Define binomial probabilities for testing mutation counts"
   ]
  },
  {
   "cell_type": "code",
   "execution_count": 117,
   "id": "5f9245c0-e613-4a48-b1d8-f85b601f1a82",
   "metadata": {},
   "outputs": [],
   "source": [
    "def bin_formula(max_bin_counts, tot_bin_counts, in_frame = False):\n",
    "    return 1- binom.cdf(max_bin_counts-1, tot_bin_counts,1/3)"
   ]
  },
  {
   "cell_type": "code",
   "execution_count": 118,
   "id": "48c726de-af9f-4d31-904c-606698271a1c",
   "metadata": {},
   "outputs": [],
   "source": [
    "def mutation_bin_probability(start, end, strand):\n",
    "    mutations = []\n",
    "    for i in range(start,end):\n",
    "        for j in range(mutation_counts_dict[i]):\n",
    "            mutations.append(i)\n",
    "    bin_counts = [0,0,0]\n",
    "    for m in mutations:\n",
    "        if strand == 1:\n",
    "            bin_counts[(m-(start))%3] +=1\n",
    "        else:\n",
    "            bin_counts[((end-1)-m)%3] +=1\n",
    "    if sum(bin_counts) == 0:\n",
    "        return (2)\n",
    "    else:\n",
    "        return (bin_formula(bin_counts[2], sum(bin_counts)))  "
   ]
  },
  {
   "cell_type": "markdown",
   "id": "7cc97354-4eec-4741-b8b0-58b7be52aa9b",
   "metadata": {},
   "source": [
    "##### Function to find maximal open reading frame between two co-ordinates with mutation probability less than defined p-value"
   ]
  },
  {
   "cell_type": "code",
   "execution_count": 119,
   "id": "de0966b0-0b35-46f6-9a47-c4dc0272f30d",
   "metadata": {},
   "outputs": [],
   "source": [
    "def max_orf(seq_start, seq_stop, p_value, output_all_orfs = False, min_orf_length = 0):\n",
    "    max_len = 0\n",
    "    orfs_found = []\n",
    "    start_pos = -999\n",
    "    end_pos = -999\n",
    "    for frame in ['Forward', 'Reverse']:\n",
    "        if frame == 'Forward':\n",
    "            temp = (full_sequence[seq_start: seq_stop])\n",
    "        else:\n",
    "            temp = align.reverse_complement(full_sequence[seq_start: seq_stop])\n",
    "        seq_len = len(temp)\n",
    "        for i in range(seq_len - 2):\n",
    "            orf_length = 0\n",
    "            test_codon = temp[i: i+3] \n",
    "            if test_codon in ['ATG','GTG','TTG']:  #Missed out CTG as doesn't seem to be used very much at all\n",
    "                for j in range(i + 3, seq_len - 2, 3):\n",
    "                    test_codon_2 = temp[j: j+3] \n",
    "                    if test_codon_2 in ['TAG','TGA','TAA']:\n",
    "                        orf_length = j - i\n",
    "                        break\n",
    "                if orf_length > 0:\n",
    "                    if frame == 'Forward':\n",
    "                        orf_start =  seq_start + i\n",
    "                        orf_end = seq_start + j+3\n",
    "                        orf_strand = 1\n",
    "                    else:\n",
    "                        orf_start =  seq_start + seq_len-(j+3)\n",
    "                        orf_end = seq_start + seq_len-i\n",
    "                        orf_strand = -1\n",
    "                    prob = mutation_bin_probability(orf_start, orf_end, orf_strand)\n",
    "                    if prob < p_value and orf_length >= min_orf_length:\n",
    "                        orfs_found.append((orf_start, orf_end, orf_strand, orf_length, prob))\n",
    "                    \n",
    "                if orf_length > max_len and prob< p_value and orf_length >= min_orf_length:                                           \n",
    "                    max_len = orf_length\n",
    "                    start_pos = orf_start\n",
    "                    end_pos = orf_end\n",
    "                    strand = orf_strand \n",
    "    \n",
    "    if output_all_orfs == True:\n",
    "        sorted_orfs = sorted(orfs_found, key=lambda x: x[3], reverse=True)\n",
    "        return sorted_orfs                \n",
    "    elif start_pos == -999:\n",
    "        return(0,0,0)\n",
    "    else:\n",
    "        return(start_pos, end_pos, strand, max_len, mutation_bin_probability(start_pos, end_pos, strand))   "
   ]
  },
  {
   "cell_type": "code",
   "execution_count": 120,
   "id": "68732332-e99e-4df8-91d7-a2934a07acaf",
   "metadata": {},
   "outputs": [],
   "source": [
    "def filter_orf_list(orfs):\n",
    "    filtered_list = []\n",
    "    #Find largest and add\n",
    "    to_remove = [1,2]\n",
    "    iter = 0\n",
    "    while len(orfs) > 0:\n",
    "        to_remove = []\n",
    "        max_len = 0\n",
    "        max_pos = 0\n",
    "        for i, orf in enumerate(orfs):\n",
    "            if orf[3] > max_len:\n",
    "                max_pos = i\n",
    "                max_len = orf[3]\n",
    "        filtered_list.append(orfs[max_pos])\n",
    "        for i, orf in enumerate(orfs):\n",
    "            if orf[2] == orfs[max_pos][2] and orf[0]%3 == orfs[max_pos][0]%3 and not(orf[1] <orfs[max_pos][0] or orf[0] >= orfs[max_pos][1]):\n",
    "                to_remove.append(orf)\n",
    "        if len(to_remove) > 0:\n",
    "            for orf in to_remove:\n",
    "                orfs.remove(orf)\n",
    "    return filtered_list"
   ]
  },
  {
   "cell_type": "markdown",
   "id": "fa7924c2-8bba-4129-b2b5-460bb26aa46b",
   "metadata": {},
   "source": [
    "##### Graph p-values for annotated genes"
   ]
  },
  {
   "cell_type": "code",
   "execution_count": 126,
   "id": "ef5ea97f-6b6e-4cf0-a335-c4693ecb71c8",
   "metadata": {},
   "outputs": [
    {
     "data": {
      "application/vnd.jupyter.widget-view+json": {
       "model_id": "6d0710d7f32643d4831dfb5d7cb77f04",
       "version_major": 2,
       "version_minor": 0
      },
      "text/plain": [
       "  0%|          | 0/4187 [00:00<?, ?it/s]"
      ]
     },
     "metadata": {},
     "output_type": "display_data"
    }
   ],
   "source": [
    "annotated_cds_probabilities = []\n",
    "for (locus, start, stop, strand) in tqdm(actual_cds_boundaries):\n",
    "    annotated_cds_probabilities.append((locus, mutation_bin_probability(start, stop, strand)))"
   ]
  },
  {
   "cell_type": "code",
   "execution_count": 127,
   "id": "739b7a97-8bf5-4bfd-a76f-154ac634e463",
   "metadata": {},
   "outputs": [
    {
     "data": {
      "text/plain": [
       "Text(0, 0.5, 'number of genes - Mycobrowser R3 annotation')"
      ]
     },
     "execution_count": 127,
     "metadata": {},
     "output_type": "execute_result"
    },
    {
     "data": {
      "image/png": "[encoded data removed]",
      "text/plain": [
       "<Figure size 432x288 with 1 Axes>"
      ]
     },
     "metadata": {
      "needs_background": "light"
     },
     "output_type": "display_data"
    }
   ],
   "source": [
    "annotation_probs = [x[1] for x in annotated_cds_probabilities]\n",
    "sns.histplot(annotation_probs, bins = 100)\n",
    "plt.xlabel(\"p-value\")\n",
    "plt.ylabel(\"number of genes - Mycobrowser R3 annotation\") "
   ]
  },
  {
   "cell_type": "markdown",
   "id": "8402d7ee-46e3-4780-8432-6c2a7471c274",
   "metadata": {},
   "source": [
    "##### Identify function percentage in Unknown between high and low p-value regions"
   ]
  },
  {
   "cell_type": "code",
   "execution_count": 128,
   "id": "e26e9adb-8ed0-4155-b432-68135e837895",
   "metadata": {},
   "outputs": [],
   "source": [
    "locus_info_dict = {}\n",
    "for i, r in mycobrowser_df.iterrows():\n",
    "    if r['Feature'] == 'CDS':\n",
    "        locus_info_dict[r['Locus']] = r['Function']"
   ]
  },
  {
   "cell_type": "code",
   "execution_count": 129,
   "id": "b398cf17-b8fc-489d-8aca-f29fd6b16346",
   "metadata": {},
   "outputs": [
    {
     "name": "stdout",
     "output_type": "stream",
     "text": [
      "378 618\n",
      "2313 4187\n",
      "0.6116504854368932 0.5421686746987951\n"
     ]
    }
   ],
   "source": [
    "locus_exceptions = [x[0] for x in annotated_cds_probabilities if (x[1] > 0.5 and x[1] < 1.1)]\n",
    "num_unknown_exceptions = 0\n",
    "for ex in locus_exceptions:\n",
    "    if ex in locus_info_dict:\n",
    "        if 'nknown' in locus_info_dict[ex]:\n",
    "            num_unknown_exceptions += 1\n",
    "tot_locus = [x[0] for x in annotated_cds_probabilities]\n",
    "num_unknown_tot = 0\n",
    "for ex in tot_locus:\n",
    "    if ex in locus_info_dict:\n",
    "        if len(str(locus_info_dict[ex])) > 4:\n",
    "            if 'nknown' in locus_info_dict[ex]:\n",
    "                num_unknown_tot += 1\n",
    "print(num_unknown_exceptions, len(locus_exceptions))\n",
    "print(num_unknown_tot, len(tot_locus))\n",
    "print(num_unknown_exceptions/len(locus_exceptions), (num_unknown_tot-num_unknown_exceptions)/(len(tot_locus)-len(locus_exceptions)))"
   ]
  },
  {
   "cell_type": "markdown",
   "id": "aa633da4-f38a-4a32-a939-8a21e77079b8",
   "metadata": {},
   "source": [
    "##### Percentage of nt mutated by each CDS"
   ]
  },
  {
   "cell_type": "code",
   "execution_count": 130,
   "id": "97a4af84-aca1-42e9-bd7a-f814eb023972",
   "metadata": {},
   "outputs": [
    {
     "data": {
      "text/plain": [
       "<AxesSubplot:ylabel='Count'>"
      ]
     },
     "execution_count": 130,
     "metadata": {},
     "output_type": "execute_result"
    },
    {
     "data": {
      "image/png": "[encoded data removed]",
      "text/plain": [
       "<Figure size 432x288 with 1 Axes>"
      ]
     },
     "metadata": {
      "needs_background": "light"
     },
     "output_type": "display_data"
    }
   ],
   "source": [
    "num_mutations = []\n",
    "for k, v in mutation_counts_dict.items():\n",
    "    num_mutations.append(v)\n",
    "sns.histplot(num_mutations, bins=100)"
   ]
  },
  {
   "cell_type": "code",
   "execution_count": 131,
   "id": "814562e1-7ff4-4c0b-9a5b-e0b7f291bb49",
   "metadata": {},
   "outputs": [
    {
     "data": {
      "application/vnd.jupyter.widget-view+json": {
       "model_id": "c17f2d9b35d94ee88604138ed0ceb95b",
       "version_major": 2,
       "version_minor": 0
      },
      "text/plain": [
       "  0%|          | 0/4187 [00:00<?, ?it/s]"
      ]
     },
     "metadata": {},
     "output_type": "display_data"
    },
    {
     "data": {
      "text/plain": [
       "<AxesSubplot:xlabel='Pct_Mutation', ylabel='Count'>"
      ]
     },
     "execution_count": 131,
     "metadata": {},
     "output_type": "execute_result"
    },
    {
     "data": {
      "image/png": "[encoded data removed]",
      "text/plain": [
       "<Figure size 432x288 with 1 Axes>"
      ]
     },
     "metadata": {
      "needs_background": "light"
     },
     "output_type": "display_data"
    }
   ],
   "source": [
    "cds_mutation_percentage = []\n",
    "for (locus, start, stop, strand) in tqdm(actual_cds_boundaries):\n",
    "    num_mutations = 0\n",
    "    for i in range(start,stop):\n",
    "        num_mutations += (mutation_counts_dict[i])\n",
    "    cds_mutation_percentage.append([locus, num_mutations / (stop - start)])\n",
    "temp = pd.DataFrame(cds_mutation_percentage)\n",
    "temp.columns = ['Locus', 'Pct_Mutation']\n",
    "sns.histplot(temp['Pct_Mutation'])"
   ]
  },
  {
   "cell_type": "markdown",
   "id": "c0373163-fe39-44e7-99f5-9c0e8fb34301",
   "metadata": {},
   "source": [
    "##### Take intergenic regions and find maximal ORFs in all frames"
   ]
  },
  {
   "cell_type": "code",
   "execution_count": 151,
   "id": "21025ccf-bb9c-4bf1-8b95-6c5cb2f4c00b",
   "metadata": {},
   "outputs": [
    {
     "data": {
      "application/vnd.jupyter.widget-view+json": {
       "model_id": "a5fef05cfa2a40e79ddb322e914ca2ff",
       "version_major": 2,
       "version_minor": 0
      },
      "text/plain": [
       "  0%|          | 0/423 [00:00<?, ?it/s]"
      ]
     },
     "metadata": {},
     "output_type": "display_data"
    }
   ],
   "source": [
    "putative_protein_dict = {}\n",
    "putative_proteins = []\n",
    "non_included_boundaries = []\n",
    "for i, (locus,start,stop,strand) in enumerate(actual_cds_boundaries):\n",
    "    if i==0 or stop >= actual_cds_boundaries[i-1][2]:\n",
    "        non_included_boundaries.append(actual_cds_boundaries[i])\n",
    "for i, (locus,start,stop,strand) in enumerate(non_included_boundaries):\n",
    "        if i < len(non_included_boundaries) - 1:\n",
    "            orf_details_list = max_orf(stop, non_included_boundaries[i+1][1], 3, output_all_orfs = True, min_orf_length = 200)\n",
    "            filtered_orf_details_list = filter_orf_list(orf_details_list)\n",
    "            if len(filtered_orf_details_list) > 0:\n",
    "                last_locus = 'A'\n",
    "                locus_suffix = 0\n",
    "                for orf_details in filtered_orf_details_list:\n",
    "                    a = translate_orf(orf_details[0], orf_details[1], orf_details[2])\n",
    "                    \n",
    "                    if locus == last_locus:\n",
    "                        locus_suffix +=1\n",
    "                    else:\n",
    "                        locus_suffix = 0\n",
    "                    last_locus = locus\n",
    "                   # print(locus+'_'+str(locus_suffix), orf_details)\n",
    "                    putative_proteins.append([locus+'_'+str(locus_suffix), a[:-1]])\n",
    "                    putative_protein_dict[locus+'_'+str(locus_suffix)] = orf_details\n",
    "produce_nt_blast_file(putative_proteins, refseq_dir + '/putative_protein.faa')"
   ]
  },
  {
   "cell_type": "code",
   "execution_count": 161,
   "id": "0298d165-e798-48b5-8c4f-d777faa2297f",
   "metadata": {},
   "outputs": [],
   "source": [
    "w_d = os.getcwd()\n",
    "os.chdir(\"D:/\")\n",
    "#subprocess.run('cd d:\\\\BLAST\\\\myco_refseq_nt & tblastn -query d:\\\\NCBI_Dataset_Mycobacteria\\\\putative_protein.faa -db myco_refseq_nt -out tblastn_testresults.xml -evalue 0.001 -outfmt 5 -num_threads 16', shell=True, capture_output = True)      #-seg=no \n",
    "subprocess.run('cd d:\\\\BLAST\\\\myco_refseq_nt & tblastn -query d:\\\\NCBI_Dataset_Mycobacteria\\\\putative_protein.faa -db myco_refseq_nt -out tblastn_testresults.xml -evalue 0.001 -seg=no  -outfmt 10 -num_threads 16', shell=True, capture_output = True)      #-seg=no \n",
    "os.chdir(w_d)"
   ]
  },
  {
   "cell_type": "code",
   "execution_count": 162,
   "id": "92beb7d2-bde1-4bb1-bbca-8daba0f8d9ec",
   "metadata": {},
   "outputs": [],
   "source": [
    "nick = pd.read_csv(\"D:\\\\BLAST\\\\myco_refseq_nt\\\\tblastn_testresults.xml\", header = None)"
   ]
  },
  {
   "cell_type": "code",
   "execution_count": 163,
   "id": "b4e84804-bbbe-4838-b85e-5743d0a0f501",
   "metadata": {},
   "outputs": [],
   "source": [
    "nick.columns = ['qaccver', 'saccver', 'pident','length', 'mismatch', 'gapopen', 'qstart', 'qend', 'sstart', 'send', 'evalue', 'bitscore']\n",
    "nick = nick[nick.pident>50]\n",
    "nick['info']=  nick['qaccver'].map(putative_protein_dict)\n",
    "nick[['start_coord', 'end_coord', 'strand', 'q_length', 'prob']] = pd.DataFrame(nick['info'].tolist(), index=nick.index)\n",
    "nick.to_csv(project_dir + '/temp.csv')"
   ]
  },
  {
   "cell_type": "code",
   "execution_count": 155,
   "id": "47923141-819c-41a2-becd-a45b59199fb1",
   "metadata": {},
   "outputs": [
    {
     "data": {
      "text/plain": [
       "(1016819, 1017215, -1, 393, 0.853331685760283)"
      ]
     },
     "execution_count": 155,
     "metadata": {},
     "output_type": "execute_result"
    }
   ],
   "source": [
    "putative_protein_dict['Rv0912_0']"
   ]
  },
  {
   "cell_type": "code",
   "execution_count": 40,
   "id": "9abab6d5-6775-4b74-ab1b-c854b1f3fd7e",
   "metadata": {},
   "outputs": [],
   "source": [
    "blast_results_list = []\n",
    "result_handle = open(\"D:\\\\BLAST\\\\myco_refseq_nt\\\\tblastn_testresults.xml\")\n",
    "blast_records = NCBIXML.parse(result_handle)\n",
    "for blast_record in blast_records:\n",
    "    for alignment in blast_record.alignments:\n",
    "        for hsp in alignment.hsps:\n",
    "            blast_results_list.append([blast_record.query, alignment.title, alignment.accession, alignment.length, hsp.expect, hsp.identities, hsp.query_start, hsp.query_end, hsp.sbjct_start, hsp.sbjct_end, hsp.strand, hsp.score])"
   ]
  },
  {
   "cell_type": "code",
   "execution_count": 43,
   "id": "e0c89c42-bd76-4041-b08f-ac9ae7f1213b",
   "metadata": {},
   "outputs": [],
   "source": [
    "blast_results_df = pd.DataFrame(blast_results_list, columns = ['query', 'title', 'accession', 'length', 'e_value', 'identities', 'query_start', 'query_end', 'subject_start','subject_end','subject_strand', 'score'])"
   ]
  },
  {
   "cell_type": "code",
   "execution_count": 52,
   "id": "51a1e0f9-a1ce-4208-aa6f-f891b5ab3a7b",
   "metadata": {},
   "outputs": [],
   "source": []
  },
  {
   "cell_type": "code",
   "execution_count": 52,
   "id": "757290e8-258e-4e93-8923-c3c619ca382c",
   "metadata": {},
   "outputs": [],
   "source": [
    "blast_results_df.to_csv(project_dir + '/temp2.csv')"
   ]
  },
  {
   "cell_type": "code",
   "execution_count": 45,
   "id": "86d64b93-5bc0-42ef-abcf-ada42ba1f0c4",
   "metadata": {},
   "outputs": [
    {
     "name": "stdout",
     "output_type": "stream",
     "text": [
      "72\n"
     ]
    }
   ],
   "source": [
    "print(len(putative_proteins))"
   ]
  },
  {
   "cell_type": "code",
   "execution_count": 49,
   "id": "bb8c105a-0d78-4921-a284-b920bb5ff088",
   "metadata": {},
   "outputs": [],
   "source": [
    "temp = blast_results_df[blast_results_df.e_value < 1e-5]\n",
    "pd.DataFrame(temp.groupby('query').count()).to_csv(project_dir + '/temp.csv')"
   ]
  },
  {
   "cell_type": "code",
   "execution_count": 112,
   "id": "3c0af792-54e7-4b63-b631-88a544131260",
   "metadata": {},
   "outputs": [],
   "source": [
    "coverage_df = pd.read_csv(project_dir + '/coverage.csv')"
   ]
  },
  {
   "cell_type": "code",
   "execution_count": 101,
   "id": "ba2887fa-1db0-4f0f-adb7-7995acbfe116",
   "metadata": {},
   "outputs": [],
   "source": [
    "low_coverage_genes = []\n",
    "for i, r in coverage_df.iterrows():\n",
    "    if r['cover'] < 3:\n",
    "        low_coverage_genes.append(r['locus_tag'])"
   ]
  },
  {
   "cell_type": "code",
   "execution_count": null,
   "id": "167cc353-621d-4252-9e4d-0de36a6f4c6f",
   "metadata": {},
   "outputs": [],
   "source": [
    "#locus_exceptions = [x[0] for x in annotated_cds_probabilities if (x[1][0] > 0.5 and x[1][0] < 1.1)]\n",
    "#for l in locus_exceptions:\n",
    "for l in low_coverage_genes:\n",
    "    if l in tb_cds_dict:\n",
    "        (start, end, strand) = tb_cds_dict[l]\n",
    "        print (l, start, end, strand)\n",
    "        alt_orfs = max_orf(start - 80, end + 80, 3 , output_all_orfs = True, min_orf_length = int(0.75 * (end-start)))\n",
    "        if len(alt_orfs) > 0:\n",
    "            for orf in alt_orfs:\n",
    "                    if orf[2] != strand or (orf[1] - start)%3 != 0:\n",
    "                        print(orf)"
   ]
  },
  {
   "cell_type": "code",
   "execution_count": 80,
   "id": "16317d4a-981d-4e8b-88eb-77ad5cfbb177",
   "metadata": {},
   "outputs": [
    {
     "data": {
      "application/vnd.jupyter.widget-view+json": {
       "model_id": "da01dd9930904ec99736a36841a7c540",
       "version_major": 2,
       "version_minor": 0
      },
      "text/plain": [
       "  0%|          | 0/1 [00:00<?, ?it/s]"
      ]
     },
     "metadata": {},
     "output_type": "display_data"
    }
   ],
   "source": [
    "produce_nt_blast_file(record, refseq_dir + '/putative_protein.faa')"
   ]
  },
  {
   "cell_type": "code",
   "execution_count": null,
   "id": "1c0f3ea1-ebf1-4b57-b335-ea5b25710608",
   "metadata": {},
   "outputs": [],
   "source": [
    "##### Now start off with lower than 0.5 p-values in set and add maximal ORF sets with p-values < 0.1"
   ]
  },
  {
   "cell_type": "code",
   "execution_count": 84,
   "id": "402a9f4b-ccde-4440-b0a1-dc198a5d4231",
   "metadata": {},
   "outputs": [
    {
     "name": "stdout",
     "output_type": "stream",
     "text": [
      "iteration 0:  3446 found.  2265 exhausted regions\n",
      "iteration 1:  3776 found.  3115 exhausted regions\n",
      "iteration 2:  3905 found.  3646 exhausted regions\n",
      "iteration 3:  3939 found.  3870 exhausted regions\n",
      "iteration 4:  3952 found.  3925 exhausted regions\n",
      "iteration 5:  3956 found.  3947 exhausted regions\n",
      "iteration 6:  3957 found.  3954 exhausted regions\n",
      "iteration 7:  3959 found.  3954 exhausted regions\n",
      "iteration 8:  3959 found.  3958 exhausted regions\n"
     ]
    }
   ],
   "source": [
    "p_value = 0.1\n",
    "num_iterations = 0\n",
    "\n",
    "#cds_boundaries = [[0, 0], [4411530, 4411530]]      #De novo\n",
    "#cds_dict = {}\n",
    "#for i in cds_boundaries:\n",
    "#    cds_dict[tuple(i)] = 1\n",
    "    \n",
    "    \n",
    "cds_boundaries = []\n",
    "cds_dict = {}\n",
    "for (locus, x, y, strand) in actual_cds_boundaries:\n",
    "    if mutation_bin_probability(x, y, strand)[0] <= 0.2:\n",
    "        cds_dict[(x,y)] = strand\n",
    "        cds_boundaries.append([x, y])\n",
    "    \n",
    "exhausted_cds = []\n",
    "while len(exhausted_cds) < len(cds_boundaries) - 1:\n",
    "    temp_boundaries = []\n",
    "    for i, (x,y) in enumerate((cds_boundaries)):\n",
    "        if i < len(cds_boundaries) - 1:\n",
    "            if [x,y] in exhausted_cds:\n",
    "                pass\n",
    "            else:\n",
    "                temp = cds_boundaries[i+1][0]\n",
    "                res = max_orf(y, temp, p_value)\n",
    "                if (res[1] - res[0] < 100):\n",
    "                    exhausted_cds.append([x,y])\n",
    "                else:\n",
    "                    temp_boundaries.append([res[0], res[1]])\n",
    "                    cds_dict[(res[0],res[1])] = res[2]\n",
    "                \n",
    "    cds_boundaries = sorted(cds_boundaries + temp_boundaries, key=lambda x: x[0])\n",
    "    print(\"iteration \" + str(num_iterations) + \":  \"+str(len(cds_boundaries))+ \" found.  \"+str(len(exhausted_cds))+\" exhausted regions\")\n",
    "    num_iterations += 1"
   ]
  },
  {
   "cell_type": "code",
   "execution_count": null,
   "id": "585f18c8-3047-4ce7-845d-860c1a901d22",
   "metadata": {},
   "outputs": [],
   "source": [
    "def max_overlap(boundary, comparison_boundaries):\n",
    "    max_overlap = 0\n",
    "    comparison_boundary_0 = 0\n",
    "    comparison_boundary_1 = 0\n",
    "    locus = ''\n",
    "    strand = 1\n",
    "    for bound in comparison_boundaries:\n",
    "        overlap = min(boundary[1], bound[2]) - max(boundary[0], bound[1])\n",
    "        if overlap > max_overlap:\n",
    "            max_overlap = overlap\n",
    "            comparison_boundary_0 = bound[1]\n",
    "            comparison_boundary_1 = bound[2]\n",
    "            locus = bound[0]\n",
    "            strand = bound[3]\n",
    "    return(locus, strand, comparison_boundary_0, comparison_boundary_1, max_overlap)"
   ]
  },
  {
   "cell_type": "code",
   "execution_count": null,
   "id": "3e37cbd3-f56b-4e5c-a441-30d3882f1604",
   "metadata": {},
   "outputs": [],
   "source": [
    "temp = []\n",
    "for bound in tqdm(cds_boundaries):\n",
    "    a = max_overlap(bound, actual_cds_boundaries)\n",
    "    if a[3] > 0:\n",
    "        temp.append([a[0],a[1],a[2],a[3],a[4], cds_dict[(bound[0],bound[1])], bound[0], bound[1], bound[0]-a[2], bound[1]-a[3]])\n",
    "df = pd.DataFrame(temp, columns = ['locus','annotation_strand','annotation_start','annotation_end', 'overlap', 'simulated_strand','simulated_start', 'simulated_end', 'start_offset','end_offset'])"
   ]
  },
  {
   "cell_type": "code",
   "execution_count": 136,
   "id": "2309e838-bba9-40a8-a3a9-5537e379362b",
   "metadata": {},
   "outputs": [
    {
     "name": "stderr",
     "output_type": "stream",
     "text": [
      "100%|██████████| 16/16 [00:00<00:00, 38.42it/s]\n"
     ]
    }
   ],
   "source": [
    "seq_data = sar.Ortholog_Sequence_Dataset(orthologs, genome_datasets_dir, genome_ids, 50, tb_species) "
   ]
  },
  {
   "cell_type": "code",
   "execution_count": 85,
   "id": "1e3bdeba-745a-4fbc-8fe7-7eaf916997de",
   "metadata": {},
   "outputs": [
    {
     "name": "stdout",
     "output_type": "stream",
     "text": [
      "('Rv0140', 166909, 167290, 1) (0.9458959406553689, 172, [71, 53, 48])\n",
      "(166927, 167242, -1, (0.002688750782290694, 140, [34, 43, 63])) (0.002688750782290694, 140, [34, 43, 63])\n",
      "*****************************************\n",
      "('Rv0314c', 382878, 383541, -1) (0.9649303018285086, 294, [107, 103, 84])\n",
      "(382935, 383463, 1, (0.043717054988640314, 237, [64, 81, 92])) (0.043717054988640314, 237, [64, 81, 92])\n",
      "*****************************************\n",
      "('Rv0493c', 583700, 584690, -1) (0.9868156502819309, 458, [167, 160, 131])\n",
      "(583963, 584710, 1, (0.06920547246692332, 352, [125, 96, 131])) (0.06920547246692332, 352, [125, 96, 131])\n",
      "*****************************************\n",
      "('Rv0544c', 635934, 636213, -1) (0.9094443155189642, 131, [45, 49, 37])\n",
      "(635986, 636310, -1, (0.0656515400376283, 152, [42, 50, 60])) (0.0656515400376283, 152, [42, 50, 60])\n",
      "*****************************************\n",
      "('Rv0628c', 718760, 719912, -1) (1.0, 3, [1, 2, 0])\n",
      "(718675, 719068, -1, (0.07942376793913364, 45, [12, 13, 20])) (0.07942376793913364, 45, [12, 13, 20])\n",
      "*****************************************\n",
      "('Rv0698', 798832, 799444, 1) (0.9021724901470678, 262, [101, 83, 78])\n",
      "(799159, 799540, -1, (0.03733862570481683, 153, [48, 43, 62])) (0.03733862570481683, 153, [48, 43, 62])\n",
      "*****************************************\n",
      "('Rv0829', 921574, 921865, 1) (1.0, 1, [1, 0, 0])\n",
      "(921482, 921857, 1, (0.05838069191890338, 36, [12, 7, 17])) (0.05838069191890338, 36, [12, 7, 17])\n",
      "*****************************************\n",
      "('Rv0892', 993852, 995340, 1) (0.9349313292315485, 584, [205, 201, 178])\n",
      "(994761, 995088, -1, (0.07223167053533719, 139, [37, 47, 55])) (0.07223167053533719, 139, [37, 47, 55])\n",
      "*****************************************\n",
      "('Rv1105', 1232310, 1232826, 1) (0.9738758536738332, 202, [76, 71, 55])\n",
      "(1232406, 1232739, -1, (0.07237006026461668, 128, [33, 44, 51])) (0.07237006026461668, 128, [33, 44, 51])\n",
      "*****************************************\n",
      "('Rv1129c', 1253073, 1254534, -1) (0.9999950051335003, 886, [334, 317, 235])\n",
      "(1254131, 1254521, -1, (1.1293203322382261e-05, 217, [58, 56, 103])) (1.1293203322382261e-05, 217, [58, 56, 103])\n",
      "*****************************************\n",
      "('Rv1194c', 1337247, 1338513, -1) (0.9999992460525535, 675, [242, 265, 168])\n",
      "(1337655, 1338117, 1, (0.019619076382418443, 260, [65, 92, 103])) (0.019619076382418443, 260, [65, 92, 103])\n",
      "*****************************************\n",
      "('Rv1365c', 1537782, 1538169, -1) (0.9633423271707094, 149, [63, 46, 40])\n",
      "(1537815, 1538148, 1, (0.008347563021696591, 125, [32, 38, 55])) (0.008347563021696591, 125, [32, 38, 55])\n",
      "*****************************************\n",
      "('Rv1396c', 1572126, 1573857, -1) (0.9373883986452842, 303, [129, 85, 89])\n",
      "(1572794, 1573349, -1, (0.022261451096066587, 112, [34, 30, 48])) (0.022261451096066587, 112, [34, 30, 48])\n",
      "*****************************************\n",
      "('Rv1815', 2057527, 2058193, 1) (0.915450297454961, 375, [139, 123, 113])\n",
      "(2057569, 2058016, -1, (0.04957877048258019, 255, [77, 80, 98])) (0.04957877048258019, 255, [77, 80, 98])\n",
      "*****************************************\n",
      "('Rv2043c', 2288680, 2289241, -1) (1.0, 2513, [930, 1264, 319])\n",
      "(2288674, 2289340, 1, (0.0011896045040100667, 2650, [353, 1339, 958])) (0.0011896045040100667, 2650, [353, 1339, 958])\n",
      "*****************************************\n",
      "('Rv2123', 2381070, 2382492, 1) (0.9488795277501669, 604, [222, 199, 183])\n",
      "(2381887, 2382304, 1, (0.011925344246195846, 172, [49, 51, 72])) (0.011925344246195846, 172, [49, 51, 72])\n",
      "*****************************************\n",
      "('Rv2571c', 2894892, 2895960, -1) (0.9999993911192785, 649, [234, 255, 160])\n",
      "(2894955, 2895594, 1, (0.07664659715392608, 419, [101, 164, 154])) (0.07664659715392608, 419, [101, 164, 154])\n",
      "*****************************************\n",
      "('Rv2621c', 2947883, 2948558, -1) (0.9999943243259132, 419, [158, 162, 99])\n",
      "(2948009, 2948534, 1, (0.041049492529655396, 323, [81, 119, 123])) (0.041049492529655396, 323, [81, 119, 123])\n",
      "*****************************************\n",
      "('Rv2628', 2955057, 2955420, 1) (0.9379140932851127, 200, [88, 55, 57])\n",
      "(2955171, 2955507, -1, (0.014696718717166934, 144, [40, 43, 61])) (0.014696718717166934, 144, [40, 43, 61])\n",
      "*****************************************\n",
      "('Rv2729c', 3041569, 3042475, -1) (0.9601244936529804, 389, [125, 150, 114])\n",
      "(3041723, 3042320, -1, (0.050551033049618166, 258, [77, 82, 99])) (0.050551033049618166, 258, [77, 82, 99])\n",
      "*****************************************\n",
      "('Rv3083', 3448503, 3449991, 1) (0.9236613059647656, 731, [258, 247, 226])\n",
      "(3448826, 3449423, 1, (0.045146558815153726, 268, [81, 84, 103])) (0.045146558815153726, 268, [81, 84, 103])\n",
      "*****************************************\n",
      "('Rv3854c', 4326003, 4327473, -1) (0.9999999999999999, 2055, [649, 892, 514])\n",
      "(4326946, 4327489, -1, (1.4331869024886146e-12, 850, [218, 250, 382])) (1.4331869024886146e-12, 850, [218, 250, 382])\n",
      "*****************************************\n",
      "('Rv3862c', 4338170, 4338521, -1) (1.0, 794, [317, 323, 154])\n",
      "(4338079, 4338496, 1, (3.3783610161042255e-05, 789, [323, 149, 317])) (3.3783610161042255e-05, 789, [323, 149, 317])\n",
      "*****************************************\n"
     ]
    }
   ],
   "source": [
    "out_list = []\n",
    "for i in actual_cds_boundaries:\n",
    "    temp = mutation_bin_probability(i[1],i[2],i[3])\n",
    "    if (temp[0] > 0.9 and temp[0] < 1.1) :\n",
    "        new_temp = (max_orf(i[1]-100,i[2]+100, 0.1))\n",
    "        if new_temp[1] - new_temp[0] > 300:\n",
    "            print(i, temp)\n",
    "            print(new_temp, mutation_bin_probability(new_temp[0],new_temp[1],new_temp[2]))\n",
    "            print('*****************************************')"
   ]
  },
  {
   "cell_type": "code",
   "execution_count": null,
   "id": "5a57ffea-fd91-4104-9ee9-d485937f0601",
   "metadata": {},
   "outputs": [],
   "source": [
    "out_list = []\n",
    "for i in actual_cds_boundaries:\n",
    "    \n",
    "    if mutation_bin_probability(i[1],i[2],i[3])[0] > 0.3:\n",
    "        \n",
    "        temp = df[df['locus'] == i[0]]\n",
    "        if len(temp)== 1:\n",
    "            alt_len = temp.iloc[0]['simulated_end'] - temp.iloc[0]['simulated_start']\n",
    "            if mutation_bin_probability(temp.iloc[0]['simulated_start'],temp.iloc[0]['simulated_end'],temp.iloc[0]['simulated_strand'])[0]<0.1 and alt_len > 500 :\n",
    "                print(temp.iloc[0]['locus'], i[2]-i[1])\n",
    "                print ([i[1],i[2],i[3]],mutation_bin_probability(i[1],i[2],i[3]))\n",
    "                print (\"alternative\", str(alt_len))\n",
    "                print([temp.iloc[0]['simulated_start'],temp.iloc[0]['simulated_end'],temp.iloc[0]['simulated_strand']], mutation_bin_probability(temp.iloc[0]['simulated_start'],temp.iloc[0]['simulated_end'],temp.iloc[0]['simulated_strand']))\n",
    "                out_list.append([temp.iloc[0]['locus'], temp.iloc[0]['annotation_start'], temp.iloc[0]['annotation_end'], temp.iloc[0]['annotation_strand'], temp.iloc[0]['simulated_start'],temp.iloc[0]['simulated_end'],temp.iloc[0]['simulated_strand']])\n",
    "                if temp.iloc[0]['simulated_strand'] == 1:\n",
    "                    print(translate_sequence((full_sequence[temp.iloc[0]['simulated_start']: temp.iloc[0]['simulated_end']])))\n",
    "                else:\n",
    "                    print(translate_sequence(align.reverse_complement(full_sequence[temp.iloc[0]['simulated_start']: temp.iloc[0]['simulated_end']])))\n",
    "tempdf = pd.DataFrame(out_list, columns = ['locus','annotation_start','annotation_end', 'annotation_strand', 'simulated_start', 'simulated_end', 'simulated_strand'])      \n",
    "tempdf.to_csv(cryptic_output_path + '/nick2.csv')"
   ]
  },
  {
   "cell_type": "code",
   "execution_count": null,
   "id": "642ac8ec-07e3-4b9f-82ac-2ed64da1597d",
   "metadata": {},
   "outputs": [],
   "source": []
  }
 ],
 "metadata": {
  "kernelspec": {
   "display_name": "Python 3 (ipykernel)",
   "language": "python",
   "name": "python3"
  },
  "language_info": {
   "codemirror_mode": {
    "name": "ipython",
    "version": 3
   },
   "file_extension": ".py",
   "mimetype": "text/x-python",
   "name": "python",
   "nbconvert_exporter": "python",
   "pygments_lexer": "ipython3",
   "version": "3.9.7"
  }
 },
 "nbformat": 4,
 "nbformat_minor": 5
}
