{
 "cells": [
  {
   "cell_type": "markdown",
   "metadata": {},
   "source": [
    "# Release One Data Walkthrough\n",
    "\n",
    "The CRyPTIC data tables and their associated schema is now quite complex. This jupyter notebook walks you through the identity of the tables. It should be read alongside `DATA_SCHEMA.pdf` which you can also find in the `cryptic-tables/` directory. New fields and tables are coloured red.\n",
    "\n",
    "I'll first explain the tables containing phenotype (i.e. minimium inhibitory concentration) data before considering the genetic data.\n",
    "\n",
    "This document is available as a PDF or as an interactive jupyter notebook which will let you run each cell containing Python code for yourself. Note that since you have read only access to this folder, if you want to run (i.e. alter) the notebook you will need to copy it to another location on your computer and change `TABLES_PATH` to point to the `cryptic-tables/` folder.\n",
    "\n",
    "*Philip W Fowler*\n",
    "\n",
    "27 August 2020"
   ]
  },
  {
   "cell_type": "code",
   "execution_count": 1,
   "metadata": {},
   "outputs": [],
   "source": [
    "import pandas, numpy\n",
    "pandas.set_option('display.max_columns', 200)\n",
    "\n",
    "%matplotlib inline\n",
    "import matplotlib.pyplot as plt\n",
    "\n",
    "import pandas as pd\n",
    "from datetime import datetime\n",
    "TABLES_PATH=\"D:/Project_Data/CRYPTIC_DATA/\""
   ]
  },
  {
   "cell_type": "markdown",
   "metadata": {},
   "source": [
    "# A note on unique identifiers\n",
    "\n",
    "CRyPTIC uses a hierarchical set of identifiers.\n",
    "\n",
    "* `SITEID`      a two-digit, left-padded number (`'%02d'`) uniquely identifying each site. Lookup table in `SITES.csv`\n",
    "\n",
    "* `SUBJID`      a string that uniquely identifies each patient in a specific site (might not be unique between sites). Some sites use a left-padded number (e.g. India uses `'%05d'` and China uses `'%04d'`) whilst others are alphanumerical strings. Sometimes country of origin can be inferred.\n",
    "\n",
    "* `LABID`       a string that uniquely identifies the clinical sample. In principle a `SUBJID` can therefore have multiple `LABID`s associated with, but in practice there is usually only one. Some sites do not need this level of granularity and simply duplicated `SUBJID` in this field.\n",
    "\n",
    "* `ISOLATENO`   integer that identifies the particular isolate tested. Mostly `1`. Some cases where the phenotype and genetic data uses different `ISOLATENO`s.\n",
    "\n",
    "* `SEQ_REPS`    a string associated with the genetics ('sequence repeats'). Again mostly `'1'`, but in principle allows for sequencing to be repeated. Since sequencing appears to mostly fail due to coverage, it is common to see aggregation of short reads e.g. `1_2_3` \n",
    "\n",
    "* `READING_DAY` the number of days of incubation at which the plate was read. Specific to the phenotypic data. CRyPTIC uses `14` days unless there is poor growth when it uses `21` days, but there are a wide range of days.\n",
    "\n",
    "CliRes uses `USUBJID` as its unique identifier which is `SITEID+\"-\"+SUBJID`. Many of the tables use `UNIQUEID` which is a concatenation of the first four identifiers above e.g.\n",
    "\n",
    "`site.02.subj.0003.lab.20142220007.iso.1`\n"
   ]
  },
  {
   "cell_type": "markdown",
   "metadata": {},
   "source": [
    "# Phenotypic data\n",
    "\n",
    "There are three levels to the phenotype data descending hierarchy in [https://clires2.oucru.org](CliRes). \n",
    "\n",
    "1. `SUBJECT` data. This contains \n",
    "2. `SAMPLE`\n",
    "3. `DST` data.\n",
    "\n",
    "These map onto `SUBJID` i.e. patient-level information, `LABID` i.e. sample-specific information, including other phenotypic tests such as MGIT that were run on this sample and lastly `READINGDAY` i.e. the MICs read from the 96-well plate after a specified number of days incubation.\n",
    "\n",
    "All tables were downloaded and populated from [https://clires2.oucru.org](clires) using their WebAPI via the Python `zeep` package. Hence if a CRyPTIC lab did not enter their data into CliRes, but instead provided a spreadsheet then they may only has DST entries in the `UKMYC_PHENOTYPES` table and no rows in `SUBJECT` or `SAMPLES`. This applies to CDC Atlanta (`01`), Italy (`06`) and Sweden (`11`) and possibly others.\n",
    "\n",
    "The original numerical fields have been replaced by descriptive labels to aid interpretation using the `CRyPTIC METADATA FILE SPECIFICATION` . e.g. `GENDER` in `SUBJECTS` contains `MALE/FEMALE/OTHER/UNKNOWN` rather than `1/2/3/9`. The version used was April 2018 v2.0. Note that there are some inconsistencies where the spec dictates the values should be `0/1` and they are `1/2`.\n"
   ]
  },
  {
   "cell_type": "markdown",
   "metadata": {},
   "source": [
    "## `SUBJECTS`\n",
    "\n",
    "This only contains 3 fields."
   ]
  },
  {
   "cell_type": "code",
   "execution_count": null,
   "metadata": {},
   "outputs": [],
   "source": [
    "SUBJECTS=pandas.read_csv(TABLES_PATH+\"SUBJECTS.csv.gz\")\n",
    "SUBJECTS[:3]"
   ]
  },
  {
   "cell_type": "code",
   "execution_count": null,
   "metadata": {},
   "outputs": [],
   "source": [
    "SUBJECTS.GENDER.value_counts(dropna=False).sort_index()"
   ]
  },
  {
   "cell_type": "markdown",
   "metadata": {},
   "source": [
    "`COUNTRY_OF_ORIGIN` was not a mandatory field so there are >2,500 missing values. "
   ]
  },
  {
   "cell_type": "code",
   "execution_count": null,
   "metadata": {},
   "outputs": [],
   "source": [
    "SUBJECTS.COUNTRY_OF_ORIGIN.value_counts(dropna=False)[:5]"
   ]
  },
  {
   "cell_type": "markdown",
   "metadata": {},
   "source": [
    "These are described using the [ISO 3166-1 alpha-3](https://en.wikipedia.org/wiki/ISO_3166-1_alpha-3) country codes. To help with drawing maps later, there is also a lookup table containing all the 3 letter codes, a proper name and, crucially, the lattitude and longitude. "
   ]
  },
  {
   "cell_type": "code",
   "execution_count": null,
   "metadata": {},
   "outputs": [],
   "source": [
    "COUNTRIES_LOOKUP=pandas.read_csv(TABLES_PATH+\"COUNTRIES_LOOKUP.csv\")\n",
    "COUNTRIES_LOOKUP[:5]"
   ]
  },
  {
   "cell_type": "markdown",
   "metadata": {},
   "source": [
    "The `COUNTRY_CODE_3_LETTER` column (after appropriate renaming) can be used to join to other `COUNTRY_OF_ORIGIN` or `COUNTRY_WHERE_SAMPLE_TAKEN` to plot maps using `(LAT,LONG)`"
   ]
  },
  {
   "cell_type": "code",
   "execution_count": null,
   "metadata": {},
   "outputs": [],
   "source": [
    "df=SUBJECTS.reset_index()\n",
    "df=df.merge(COUNTRIES_LOOKUP,left_on=\"COUNTRY_OF_ORIGIN\",right_on=\"COUNTRY_CODE_3_LETTER\",how='left')\n",
    "df.COUNTRY_NAME.value_counts()[:5]"
   ]
  },
  {
   "cell_type": "markdown",
   "metadata": {},
   "source": [
    "## `SAMPLES`\n",
    "\n"
   ]
  },
  {
   "cell_type": "code",
   "execution_count": null,
   "metadata": {},
   "outputs": [],
   "source": [
    "SAMPLES=pandas.read_csv(TABLES_PATH+\"SAMPLES.csv.gz\")\n",
    "SAMPLES[:3]"
   ]
  },
  {
   "cell_type": "markdown",
   "metadata": {},
   "source": [
    "Usefully `COUNTRY_WHERE_SAMPLE_TAKEN` is a mandatory field. `REGION` is freeform text so will require cleaning if it is to be used."
   ]
  },
  {
   "cell_type": "code",
   "execution_count": null,
   "metadata": {},
   "outputs": [],
   "source": [
    "SAMPLES.COUNTRY_WHERE_SAMPLE_TAKEN.value_counts(dropna=False)[:6]"
   ]
  },
  {
   "cell_type": "markdown",
   "metadata": {},
   "source": [
    "The `COLLECTION_DATE` might be useful, although beware samples from 1900 and 2201! "
   ]
  },
  {
   "cell_type": "code",
   "execution_count": null,
   "metadata": {},
   "outputs": [],
   "source": [
    "SAMPLES[['COLLECTION_DATE']].groupby(SAMPLES.COLLECTION_DATE).count()"
   ]
  },
  {
   "cell_type": "code",
   "execution_count": null,
   "metadata": {},
   "outputs": [],
   "source": [
    "datetime.strptime(SAMPLES.loc[1][5], '%Y')"
   ]
  },
  {
   "cell_type": "code",
   "execution_count": null,
   "metadata": {},
   "outputs": [],
   "source": [
    "SAMPLES.ISOLATE_COLLECTED_PROSPECTIVELY.value_counts(dropna=False)"
   ]
  },
  {
   "cell_type": "markdown",
   "metadata": {},
   "source": [
    "As one might expect the vast majority of samples are respiratory. Again this was not a required field so beware the large number of `'not known'` values."
   ]
  },
  {
   "cell_type": "code",
   "execution_count": null,
   "metadata": {},
   "outputs": [],
   "source": [
    "SAMPLES.ANATOMICAL_ORIGIN.value_counts(dropna=False).sort_values(ascending=False)"
   ]
  },
  {
   "cell_type": "markdown",
   "metadata": {},
   "source": [
    "There is also some smear data for some samples"
   ]
  },
  {
   "cell_type": "code",
   "execution_count": null,
   "metadata": {},
   "outputs": [],
   "source": [
    "SAMPLES.SMEAR_RESULT.value_counts(dropna=False)"
   ]
  },
  {
   "cell_type": "markdown",
   "metadata": {},
   "source": [
    "You can also check what sequencing platform was used (although this is, perhaps more correctly, recorded in the metadata spreadsheets sent to the EBI along with the `FASTQ` files)"
   ]
  },
  {
   "cell_type": "code",
   "execution_count": null,
   "metadata": {},
   "outputs": [],
   "source": [
    "SAMPLES.WGS_SEQUENCING_PLATFORM.value_counts(dropna=False)"
   ]
  },
  {
   "cell_type": "markdown",
   "metadata": {},
   "source": [
    "Some samples have been on an Xpert MTB/RIF cartridge (note that there were only a handful of Ultra samples so these were discarded)"
   ]
  },
  {
   "cell_type": "code",
   "execution_count": null,
   "metadata": {},
   "outputs": [],
   "source": [
    "SAMPLES.XPERT_MTB_RIF.value_counts(dropna=False)"
   ]
  },
  {
   "cell_type": "markdown",
   "metadata": {},
   "source": [
    "A similar number also have Hain LPA results recorded for RIF, INH, "
   ]
  },
  {
   "cell_type": "code",
   "execution_count": null,
   "metadata": {},
   "outputs": [],
   "source": [
    "SAMPLES.HAIN_RIF.value_counts()"
   ]
  },
  {
   "cell_type": "code",
   "execution_count": null,
   "metadata": {},
   "outputs": [],
   "source": [
    "SAMPLES.HAIN_INH.value_counts()"
   ]
  },
  {
   "cell_type": "code",
   "execution_count": null,
   "metadata": {},
   "outputs": [],
   "source": [
    "SAMPLES.HAIN_ETH.value_counts()"
   ]
  },
  {
   "cell_type": "markdown",
   "metadata": {},
   "source": [
    "The below is understood to be a generic fluoroquinolone result"
   ]
  },
  {
   "cell_type": "code",
   "execution_count": null,
   "metadata": {},
   "outputs": [],
   "source": [
    "SAMPLES.HAIN_FL.value_counts()"
   ]
  },
  {
   "cell_type": "markdown",
   "metadata": {},
   "source": [
    "The below is understood to be a generic aminoglycoside result"
   ]
  },
  {
   "cell_type": "code",
   "execution_count": null,
   "metadata": {},
   "outputs": [],
   "source": [
    "SAMPLES.HAIN_AM.value_counts()"
   ]
  },
  {
   "cell_type": "markdown",
   "metadata": {},
   "source": [
    "Now we have some sparse lifestyle data. First is whether they smoked or not."
   ]
  },
  {
   "cell_type": "code",
   "execution_count": null,
   "metadata": {},
   "outputs": [],
   "source": [
    "SAMPLES.SMOKER.value_counts()"
   ]
  },
  {
   "cell_type": "code",
   "execution_count": null,
   "metadata": {},
   "outputs": [],
   "source": [
    "SAMPLES.INJECT_DRUG_USER.value_counts()"
   ]
  },
  {
   "cell_type": "code",
   "execution_count": null,
   "metadata": {},
   "outputs": [],
   "source": [
    "SAMPLES.IS_HOMELESS.value_counts()"
   ]
  },
  {
   "cell_type": "code",
   "execution_count": null,
   "metadata": {},
   "outputs": [],
   "source": [
    "SAMPLES.IS_IMPRISONED.value_counts()"
   ]
  },
  {
   "cell_type": "code",
   "execution_count": null,
   "metadata": {},
   "outputs": [],
   "source": [
    "SAMPLES.HIV.value_counts()"
   ]
  },
  {
   "cell_type": "code",
   "execution_count": null,
   "metadata": {},
   "outputs": [],
   "source": [
    "SAMPLES.DIABETES.value_counts()"
   ]
  },
  {
   "cell_type": "markdown",
   "metadata": {},
   "source": [
    "Finally, a small number had a WHO outcome field recorded. These have been translated "
   ]
  },
  {
   "cell_type": "code",
   "execution_count": null,
   "metadata": {},
   "outputs": [],
   "source": [
    "SAMPLES.WHO_OUTCOME.value_counts(dropna=False).sort_index()"
   ]
  },
  {
   "cell_type": "markdown",
   "metadata": {},
   "source": [
    "## `UKMYC_PLATES`\n",
    "\n",
    "`UKMYC_PLATES` contains one row per plate. It is a simplified view of the old `PLATES` and `PLATE_MEASUREMENTS` tables and hence contains 'the' reading and therefore the `READINGDAY`, which in most cases will be day 14. All other readings taken on other reading days are not shown in this view."
   ]
  },
  {
   "cell_type": "code",
   "execution_count": null,
   "metadata": {},
   "outputs": [],
   "source": [
    "UKMYC_PLATES=pandas.read_csv(TABLES_PATH+\"UKMYC_PLATES.csv.gz\")\n",
    "UKMYC_PLATES[:3]"
   ]
  },
  {
   "cell_type": "code",
   "execution_count": null,
   "metadata": {},
   "outputs": [],
   "source": [
    "UKMYC_PLATES.READINGDAY.value_counts(dropna=False)"
   ]
  },
  {
   "cell_type": "markdown",
   "metadata": {},
   "source": [
    "The `BELONGS_GPI` field is new, and tells us if this plate belong to the 'Geno-Pheno-Intersection' i.e. whether it was sequenced and successfully processed using Clockwork by the `EBI`."
   ]
  },
  {
   "cell_type": "code",
   "execution_count": null,
   "metadata": {},
   "outputs": [],
   "source": [
    "UKMYC_PLATES.BELONGS_GPI.value_counts()"
   ]
  },
  {
   "cell_type": "markdown",
   "metadata": {},
   "source": [
    "This is a bit less than the original number in the GPI of 15,211 since invalid plates (poor growth, contamination, problems with the control wells) have been excluded."
   ]
  },
  {
   "cell_type": "markdown",
   "metadata": {},
   "source": [
    "The `PLATEDESIGN` field is important since it tells us which antibiotics where on the plate, where they are located and their concentrations. You can look this up via"
   ]
  },
  {
   "cell_type": "code",
   "execution_count": null,
   "metadata": {},
   "outputs": [],
   "source": [
    "PLATE_DESIGN=pandas.read_csv(TABLES_PATH+\"PLATE_LAYOUT.csv.gz\")\n",
    "PLATE_DESIGN[:3]"
   ]
  },
  {
   "cell_type": "markdown",
   "metadata": {},
   "source": [
    "Note that, for ease, the binary phenotype for each MIC according to the 'current' CRyPTIC ECOFFs is also included in this table. The CRyPTIC ECOFFs may change slightly will change the `BINARY_PHENOTYPE` assignments -- you'll be notified if this happens. We shall use this later"
   ]
  },
  {
   "cell_type": "markdown",
   "metadata": {},
   "source": [
    "A 3-letter code is used in all the tables to identify all the drugs. Whilst these are mostly standard/obvious, there is a further lookup table you can use to get more information on what drug each 3-letter code describes. "
   ]
  },
  {
   "cell_type": "code",
   "execution_count": null,
   "metadata": {},
   "outputs": [],
   "source": [
    "DRUG_LOOKUP=pandas.read_csv(TABLES_PATH+'DRUG_CODES.csv')\n",
    "DRUG_LOOKUP[:3]"
   ]
  },
  {
   "cell_type": "markdown",
   "metadata": {},
   "source": [
    "Note that CRyPTIC Release One is about 60% UKMYC6, at least when it comes to \"samples on plates\""
   ]
  },
  {
   "cell_type": "code",
   "execution_count": null,
   "metadata": {},
   "outputs": [],
   "source": [
    "UKMYC_PLATES.PLATEDESIGN.value_counts(dropna=False)"
   ]
  },
  {
   "cell_type": "markdown",
   "metadata": {},
   "source": [
    "Different to before, this table contains additional fields that allow you to retrieve raw files **directly** from the sharded data tree (assuming you have access). Central to this is the `TREE_PATH` which gives you the relative path to the leaf where the files (in this case images) are stored. For example, if you wanted to retrieve a list of raw images you could do (bit clunky but works)"
   ]
  },
  {
   "cell_type": "code",
   "execution_count": null,
   "metadata": {},
   "outputs": [],
   "source": [
    "def return_good_images(row): \n",
    "    print('/well/bag/pfowler/cryptic/'+str(row['TREE_PATH'])+str(row['IMAGEFILENAME'])+'-'+row['PLATEDESIGN']+'-growth.jpg')\n",
    "\n",
    "GOOD_PLATE_IMAGES=UKMYC_PLATES.loc[(UKMYC_PLATES.IMAGEFILENAME.notna()) & (UKMYC_PLATES.IM_IMAGE_FILTERED.notna()) & (~UKMYC_PLATES.DUPLICATED_IMAGE) & (UKMYC_PLATES.TRUST_PHENOTYPES)]        \n",
    "        \n",
    "a=GOOD_PLATE_IMAGES[:3].apply(return_good_images,axis=1)"
   ]
  },
  {
   "cell_type": "code",
   "execution_count": null,
   "metadata": {},
   "outputs": [],
   "source": [
    "pandas.crosstab(UKMYC_PLATES.PLATEDESIGN,UKMYC_PLATES.BELONGS_GPI)"
   ]
  },
  {
   "cell_type": "markdown",
   "metadata": {},
   "source": [
    "The ratio of plate designs in the `GPI` is more like 50:50 since we haven't received the FASTQ files for some of the newer UKMYC6 samples."
   ]
  },
  {
   "cell_type": "markdown",
   "metadata": {},
   "source": [
    "The MD5SUM of the image is recorded here so duplicates can be identified. (Note that if `True` all of the image related measurements are discarded and therefore these measurements can never have a `PHENOTYPE_QUALITY` of `HIGH`). "
   ]
  },
  {
   "cell_type": "code",
   "execution_count": null,
   "metadata": {},
   "outputs": [],
   "source": [
    "UKMYC_PLATES.DUPLICATED_IMAGE.value_counts()"
   ]
  },
  {
   "cell_type": "markdown",
   "metadata": {},
   "source": [
    "Sometimes the images are duplicated across `READINGDAY`s for the same sample, which is lazy but not too bad. However, there are also many instances where the same image has been associated with different samples."
   ]
  },
  {
   "cell_type": "code",
   "execution_count": null,
   "metadata": {},
   "outputs": [],
   "source": [
    "UKMYC_PLATES[UKMYC_PLATES.IMAGE_MD5SUM==\"7e0d4fce8ecc9f2c9c08f87098c3c85f\"][[\"DUPLICATED_IMAGE\"]]"
   ]
  },
  {
   "cell_type": "markdown",
   "metadata": {},
   "source": [
    "The `IM_IMAGE_DOWNLOADED`, `IM_IMAGE_FILTERED` and `IM_WELLS_IDENTIFIED` boolean fields tell you, respectively, if an image was downloaded, was successfully filtered by AMyGDA and whether 96 (and only 96!) wells were identified by `AMyGDA`. The last can fail if the image is improperly cropped or if the photo quality is so poor (e.g. washed out) that the algorithm cannot find the edges of the wells.\n",
    "\n",
    "Note that this means having an image present, as indicated by `IMAGEFILENAME` does not guarantee that `AMyGDA` was also able to read it.\n",
    "\n",
    "If `AMyGDA` was able to read the plate, then the growth in the two control wells (and their average for convenience) is recorded in the next 3 fields. As shown below the growth in the two control wells is correlated, but also truncated."
   ]
  },
  {
   "cell_type": "code",
   "execution_count": null,
   "metadata": {},
   "outputs": [],
   "source": [
    "UKMYC_PLATES.plot.scatter(x='IM_POS1GROWTH',y='IM_POS2GROWTH',figsize=(8,8),marker='.')"
   ]
  },
  {
   "cell_type": "code",
   "execution_count": null,
   "metadata": {},
   "outputs": [],
   "source": [
    "UKMYC_PLATES.IM_POS_AVERAGE.plot.hist(figsize=(8,4),bins=50)"
   ]
  },
  {
   "cell_type": "markdown",
   "metadata": {},
   "source": [
    "The `IM_DRUGS_INCONSISTENT_GROWTH` field is the total number of drugs on this plate that `AMyGDA` was unable to read due to skipped wells etc. In theory a high number is a hint that this is a difficult plate to read. By definition, if `AMyGDA` cannot read the image, then that measurement will have been sent to `BashTheBug` for reading."
   ]
  },
  {
   "cell_type": "code",
   "execution_count": null,
   "metadata": {},
   "outputs": [],
   "source": [
    "UKMYC_PLATES.IM_DRUGS_INCONSISTENT_GROWTH.plot.hist(figsize=(8,4),bins=range(0,14))"
   ]
  },
  {
   "cell_type": "markdown",
   "metadata": {},
   "source": [
    "Finally, the `TRUST_PHENOTYPES` column indicates which samples it is suspected are subject to systematic measurement error and therefore  need to be excluded from the `UKMYC_PHENOTYPES` table. At present these samples are excluded\n",
    "* all of `SITEID=='13'` (very high number of discrepants recorded by Taiwan)\n",
    "* `02350>=SUBJID>='01575'` for `SITEID=='04'` (poor growth episode flagged by India)\n",
    "Note that `SUBJID>02350` for `SITEID==04` contains an elevated number of discrepancies and you may wish to also exclude these 1797 samples and see what the effect is on your analysis."
   ]
  },
  {
   "cell_type": "code",
   "execution_count": null,
   "metadata": {},
   "outputs": [],
   "source": [
    "UKMYC_PLATES.loc[~UKMYC_PLATES.TRUST_PHENOTYPES][:3]"
   ]
  },
  {
   "cell_type": "markdown",
   "metadata": {},
   "source": [
    "Although we start off with 15,211 in the GPI, we lose some since the plates are not readable. If we also exclude those which are under investigation due to high levels of discrepancies, then we reach 14,159!"
   ]
  },
  {
   "cell_type": "code",
   "execution_count": null,
   "metadata": {},
   "outputs": [],
   "source": [
    "pandas.crosstab(UKMYC_PLATES.TRUST_PHENOTYPES,UKMYC_PLATES.BELONGS_GPI)"
   ]
  },
  {
   "cell_type": "markdown",
   "metadata": {},
   "source": [
    "Because most of the plates excluded by `TRUST_PHENOTYPES` are UKMYC5, we end up at 45:55% for UKMYC5/6."
   ]
  },
  {
   "cell_type": "code",
   "execution_count": null,
   "metadata": {},
   "outputs": [],
   "source": [
    "UKMYC_PLATES.loc[(UKMYC_PLATES.TRUST_PHENOTYPES) & (UKMYC_PLATES.BELONGS_GPI)].PLATEDESIGN.value_counts()"
   ]
  },
  {
   "cell_type": "markdown",
   "metadata": {},
   "source": [
    "Of these, 12,984 (92%) have images."
   ]
  },
  {
   "cell_type": "code",
   "execution_count": null,
   "metadata": {},
   "outputs": [],
   "source": [
    "len(UKMYC_PLATES.loc[(UKMYC_PLATES.TRUST_PHENOTYPES) & (UKMYC_PLATES.BELONGS_GPI) & (UKMYC_PLATES.IM_POS_AVERAGE.notna())])"
   ]
  },
  {
   "cell_type": "markdown",
   "metadata": {},
   "source": [
    "## `UKMYC_PHENOTYPES`\n",
    "\n",
    "This is the **core** phenotype table. It aggregates and summarises all the above and presents the current 'best valid reading' on each `DRUG` for each `UNIQUEID`. "
   ]
  },
  {
   "cell_type": "code",
   "execution_count": null,
   "metadata": {},
   "outputs": [],
   "source": [
    "UKMYC_PHENOTYPES=pandas.read_pickle(TABLES_PATH+\"UKMYC_PHENOTYPES.pkl.gz\")\n",
    "UKMYC_PHENOTYPES[:3]"
   ]
  },
  {
   "cell_type": "markdown",
   "metadata": {},
   "source": [
    "![an image](fig-pheno-qa-workflow.png)"
   ]
  },
  {
   "cell_type": "markdown",
   "metadata": {},
   "source": [
    "Each reading flows down the above quality assurance process; first a reading (`PRIMARY_DILUTION`) is recorded in the laboratory by the scientist using the `PRIMARY_METHOD`. This is almost always `VZ` i.e. Vizion, but some labs were only able to use Mirrored Box (`MB`) for some measurememts. This is almost always after 14 days of incubation (`READINGDAY==14`), but if a reading was not possible, we then consider the day 21 reading, if available.\n",
    "\n",
    "Note that we use negative `DILUTION`s to indicate there was a problem with that reading (the `MIC` will be `NaN`).\n",
    "\n",
    "* `-1` cannot read this particular drug for some reason (but usually can read the others off a plate). For AMyGDA (`IM`) this indicates the presence of one or more skip wells.\n",
    "\n",
    "* `-2` no or insufficient growth in one or both of the control wells\n",
    "\n",
    "If no photograph of the plate was stored, or the image was subsequently duplicated (as indicated in `UKMYC_PLATES`), then only one reading is possible, the `PRIMARY_DILUTION` as done by the `PRIMARY_METHOD`. In these cases, the `PHENOTYPE_QUALITY` is left as the default, which is `MEDIUM`.\n",
    "\n",
    "About 10.3% of all readings have no image."
   ]
  },
  {
   "cell_type": "code",
   "execution_count": null,
   "metadata": {},
   "outputs": [],
   "source": [
    "len(UKMYC_PHENOTYPES.loc[UKMYC_PHENOTYPES.PHENOTYPE_QUALITY==\"MEDIUM\"])/len(UKMYC_PHENOTYPES)"
   ]
  },
  {
   "cell_type": "markdown",
   "metadata": {},
   "source": [
    "The remaining measurements do have a (not duplicated) image. Each image is analysed by AMyGDA and the dilution recorded in `AMYGDA_DILUTION`. In about 54% of cases, this exactly agrees with the `PRIMARY_DILUTION` and hence this measurement is marked as `PHENOTYPE_QUALITY='HIGH'`.\n",
    "\n",
    "The remaining 46% are sent to BashTheBug for assessment by citizen scientists. Once `BASHTHEBUG_NUMBER_CLASSIFICATIONS>=11` the media value is returned as the consensus and populated in `BASHTHEBUG_DILUTION`. \n",
    "\n",
    "Of these, in about \n",
    "\n",
    "* 38% of cases, `BASHTHEBUG_DILUTION` and `PRIMARY_DILUTION` are identical, suggesting that AMyGDA incorrectly read the plate (due to e.g. low growth or artefacts).\n",
    "\n",
    "* 12% of cases `BASHTHEBUG_DILUTION` and `AMYGDA_DILUTION` are identical, suggesting that the laboratory scientist made a measurement or data entry error.\n",
    "\n",
    "* 50% of cases, all three measurements are different.\n",
    "\n",
    "If two measurements exactly agree, then  the measurement is marked as `PHENOTYPE_QUALITY='HIGH'`, otherwise if all three disgree, then `PHENOTYPE_DESCRIPTION='ALL DISAGREE'` and the `PHENOTYPE_QUALTITY` is marked as `LOW`.\n",
    "\n",
    "It is recommended that, unless you have a good reason to the contrary, to only use readings where `PHENOTYPE_QUALTIY` is `HIGH`. We would be very interested in knowing what, if any, the effect of this QA workflow is, so would also be interested in seeing the effect of ignoring the `PHENOTYPE_QUALITY` i.e. just using the `PRIMARY_DILUTION`."
   ]
  },
  {
   "cell_type": "code",
   "execution_count": null,
   "metadata": {},
   "outputs": [],
   "source": [
    "UKMYC_PHENOTYPES.PHENOTYPE_DESCRIPTION.value_counts()"
   ]
  },
  {
   "cell_type": "code",
   "execution_count": null,
   "metadata": {},
   "outputs": [],
   "source": [
    "pandas.crosstab(UKMYC_PHENOTYPES.PHENOTYPE_DESCRIPTION,UKMYC_PHENOTYPES.PHENOTYPE_QUALITY,margins=True)"
   ]
  },
  {
   "cell_type": "markdown",
   "metadata": {},
   "source": [
    "As mentioned above, the 344 rows where BashTheBug does not appear to have finished are glitches and will remain for the time being at least. 293 are for PAS which is excluded in all analyses."
   ]
  },
  {
   "cell_type": "markdown",
   "metadata": {},
   "source": [
    "That leaves 26,684 (10% of total) measurements where there is no image (or the image was a duplicate) and so only one measurement (usually `VZ`) is possible and hence these cannot progress any further than a `PHENOTYPE_QUALITY` of `MEDIUM`.\n",
    "\n",
    "Of the remaining 233,948 measurements, 77% have two or more measurement methods (`VZ/IM/BB`) in exact concordance and therefore are classified as having a `HIGH` `PHENOTYPE_QUALITY`. In 70.8% of these, the AMyGDA measurement agreed with Vizion whilst in 22.2% and 7.0% of cases BashTheBug agreed with Vizion or AMyGDA, respectively. The latter set contain mistakes made by the laboratory scientist and therefore is an upper estimate of the laboratory reading error rate."
   ]
  },
  {
   "cell_type": "code",
   "execution_count": null,
   "metadata": {},
   "outputs": [],
   "source": [
    "UKMYC_PHENOTYPES.loc[UKMYC_PHENOTYPES.PHENOTYPE_QUALITY=='HIGH'].PHENOTYPE_DESCRIPTION.value_counts(normalize=True)"
   ]
  },
  {
   "cell_type": "markdown",
   "metadata": {},
   "source": [
    "There are 53,129 rows where all three methods disagree. The last time the analysis was run 79% of these have been processed by `BashTheBugPRO`. (The figure stands now at 90% - 12 Aug 2020)\n",
    "\n",
    "In future, the number of `HIGH` quality measurements will be increased by allowing their consensus to overrule i.e. they will arbitrate. The may choose to overrule the three methods and choose an MIC, or they may decide that the image is not readable."
   ]
  },
  {
   "cell_type": "code",
   "execution_count": null,
   "metadata": {},
   "outputs": [],
   "source": [
    "df=UKMYC_PHENOTYPES.loc[(UKMYC_PHENOTYPES.PHENOTYPE_QUALITY==\"LOW\")]\n",
    "\n",
    "\n",
    "len(df.loc[UKMYC_PHENOTYPES.BASHTHEBUGPRO_DILUTION.notna()])/len(df)"
   ]
  },
  {
   "cell_type": "markdown",
   "metadata": {},
   "source": [
    "Note also, that the volunteers also finished looking at the images where `PRIMARY_DILUTION` and `AMYGDA_DILUTION` agree and hence these rows will have a `BASHTHEBUG_DILUTION` reading even though it does not affect the final `DILUTION`. It is provided mainly for Machine Learning from the images using the classifications as input features."
   ]
  },
  {
   "cell_type": "markdown",
   "metadata": {},
   "source": [
    "## `GROWTH`\n",
    "\n",
    "A useful by-product of reading all the images of plates with AMyGDA is that we measure the percentage of growth in the centre of each well on every plate we have an image for. This is stored here in a (long) table."
   ]
  },
  {
   "cell_type": "code",
   "execution_count": null,
   "metadata": {},
   "outputs": [],
   "source": [
    "GROWTH=pandas.read_pickle(TABLES_PATH+\"UKMYC_GROWTH.pkl.gz\")\n",
    "print(len(GROWTH))\n",
    "GROWTH[:3]"
   ]
  },
  {
   "cell_type": "markdown",
   "metadata": {},
   "source": [
    "Let's quickly look at the distribution of measured growth in the control wells over time"
   ]
  },
  {
   "cell_type": "code",
   "execution_count": null,
   "metadata": {},
   "outputs": [],
   "source": [
    "GROWTH.reset_index(inplace=True)\n",
    "df=GROWTH.loc[(GROWTH.DRUG==\"POS\") & (GROWTH.DILUTION==0)]\n",
    "a=df['GROWTH'].hist(by=df.READINGDAY,figsize=(10,8),bins=50)"
   ]
  },
  {
   "cell_type": "markdown",
   "metadata": {},
   "source": [
    "Note that there is a bias here; it is likely labs only allowed plates to incubate to 21 days if their growth at 14 days was poor so you cannot directly compare the two. We obviously could only show histograms for plates that were read at day 21 but that isn't what is shown here."
   ]
  },
  {
   "cell_type": "markdown",
   "metadata": {},
   "source": [
    "# Genotype data\n",
    "\n",
    "In this section I will quickly run through the tables containing the genetics information."
   ]
  },
  {
   "cell_type": "markdown",
   "metadata": {},
   "source": [
    "## `GENOMES`\n",
    "\n",
    "These contain one row per VCF file, i.e. one row per successful Clockwork output. Successful means the cluster process did not fail and all quality control checks were passed. Hence some samples have been excluded since they did not pass the overall genetic quality control metrics.\n",
    "\n",
    "Remember several sets of short-reads could have been combined and processed together if `seq_rep` is something like `1_2_3`. This table is a join of what used to be two separate tables (`GENOMES` and `VCF_FILES`)."
   ]
  },
  {
   "cell_type": "code",
   "execution_count": null,
   "metadata": {},
   "outputs": [],
   "source": [
    "GENOMES=pandas.read_csv(TABLES_PATH+\"GENOMES.csv.gz\")\n",
    "GENOMES[:8]"
   ]
  },
  {
   "cell_type": "code",
   "execution_count": null,
   "metadata": {},
   "outputs": [],
   "source": [
    "len(GENOMES)"
   ]
  },
  {
   "cell_type": "markdown",
   "metadata": {},
   "source": [
    "Since some of the later tables are VERY large, we also define a subset of 600 samples via this table. These were randomly chosen and so contain a mixture of sites as well as GPI/non-GPI etc."
   ]
  },
  {
   "cell_type": "code",
   "execution_count": null,
   "metadata": {},
   "outputs": [],
   "source": [
    "GENOMES_SAMPLE=pandas.read_pickle('GENOMES_SAMPLE.pkl.gz')\n",
    "len(GENOMES_SAMPLE)"
   ]
  },
  {
   "cell_type": "markdown",
   "metadata": {},
   "source": [
    "As for `UKMYC_PLATES`, the hierarchical metadata fields `SITEID, SUBJID, LABID, ISOLATENO, SEQREPS` are included, the latter being specific to genetics.\n",
    "\n",
    "The same Boolean flag, `BELONGS_GPI` is also included here. This was used to decided which samples should be regenotyped (and which should not). Not all samples could be regenotyped due to the large memory requirements of the process. Martin Hunt is attempting to regenotype all 62k samples but this may not work.\n",
    "\n",
    "If a sample was regenotyped, a 'normal' per-sample VCF file was also generated and hence samples with `BELONG_GPI==True` have 2 VCF files. The presence or absence of both types of files is indicated with `PER_SAMPLE_VCF_PRESENT` and `REGENOTYPED_VCF_PRESENT`. \n",
    "\n",
    "If a sample `BELONGS_GPI` then both VCF files are processed in the sharded data tree and both have mini `VARIANTS` and `MUTATIONS` tables stored (thereby enabling potential comparisons between the two approaches). When constructing these tables, we take the approach of using the regenotyped `VCF` for the `BELONGS_GPI` samples and the per-sample `VCF` data for the remainder.\n",
    "\n",
    "The exception is the 17 quality control samples from Comas and Gagneux; these have only been through the regenotyping process and hence have no per-sample `VCF`. These are also the reason why there are 15228=15211+17 samples with `BELONGS_GPI` in the `GENOMES` table. They can be identified by `SITEID=='QC'`.\n",
    "\n",
    "Since the regenotyped VCF files are large, they often have an attendant `.tbi` index file. The presence of this is noted with `TBI_INDEX`. Likewise the presence of `kmer-counts.txt.gz` files are noted with `KMER_COUNTS`. These files have now been sorted as requested by Alex Lachapelle.\n",
    "\n",
    "Again, like in `UKMYC_PLATES`, the path to the correct folder in the sharded tree is given by `TREE_PATH` and the filename of the VCF file is stored in `TREE_FILENAME_VCF`. Using the above Boolean flags, one can also construct paths to all the other files (e.g. kmer counts for machine learning).\n",
    "\n",
    "Finally, the clockwork version is stored and also the md5sums for the `FASTQ` files are stored as `JSON` in `FASTQ_MD5SUMS`. This was necessary since there could be multiple pairs if there are multiple `SEQ_REPS` for this sample. For information, the path to the original vcf file provided by Jeff can be parsed from `(FTP_PATH,FTP_FILENAME_VCF)`. "
   ]
  },
  {
   "cell_type": "code",
   "execution_count": null,
   "metadata": {},
   "outputs": [],
   "source": [
    "pandas.crosstab(GENOMES.BELONGS_GPI,GENOMES.REGENOTYPED_VCF_PRESENT)"
   ]
  },
  {
   "cell_type": "code",
   "execution_count": null,
   "metadata": {},
   "outputs": [],
   "source": [
    "pandas.crosstab(GENOMES.BELONGS_GPI,GENOMES.PER_SAMPLE_VCF_PRESENT)"
   ]
  },
  {
   "cell_type": "markdown",
   "metadata": {},
   "source": [
    "This is the number of VCFs we have per site"
   ]
  },
  {
   "cell_type": "code",
   "execution_count": null,
   "metadata": {},
   "outputs": [],
   "source": [
    "GENOMES.SITEID.value_counts().sort_index()"
   ]
  },
  {
   "cell_type": "markdown",
   "metadata": {},
   "source": [
    "All the `BELONGS_GPI` VCFs have a regenotyped VCF been passed through Sam Lipworth's SNPIT ([this version](https://github.com/philipwfowler/snpit)) and hence this tables contains `SPECIES`, `LINEAGE_NAME` and, where provided (mostly for Lineage 4), `SUBLINEAGE_NAME`. Finally the `LINEAGE_PERCENTAGE` is also given. If no regenotyped VCF is present, then these are all nulls."
   ]
  },
  {
   "cell_type": "markdown",
   "metadata": {},
   "source": [
    "Pleasingly, all samples belong to the *M. tuberculosis* complex!"
   ]
  },
  {
   "cell_type": "code",
   "execution_count": null,
   "metadata": {},
   "outputs": [],
   "source": [
    "GENOMES.loc[GENOMES.BELONGS_GPI].SPECIES.value_counts().sort_index()"
   ]
  },
  {
   "cell_type": "markdown",
   "metadata": {},
   "source": [
    "Of those predicted to be *M. tuberculosis*, the majority are Lineage 2 and 4, as expected."
   ]
  },
  {
   "cell_type": "code",
   "execution_count": null,
   "metadata": {},
   "outputs": [],
   "source": [
    "GENOMES[GENOMES.SPECIES==\"M. tuberculosis\"].LINEAGE_NAME.value_counts().sort_index()"
   ]
  },
  {
   "cell_type": "markdown",
   "metadata": {},
   "source": [
    "#### Some sublineage information is available for Lineage 4"
   ]
  },
  {
   "cell_type": "code",
   "execution_count": null,
   "metadata": {},
   "outputs": [],
   "source": [
    "GENOMES[GENOMES.LINEAGE_NAME==\"Lineage 4\"].SUBLINEAGE_NAME.value_counts().sort_values(ascending=False)"
   ]
  },
  {
   "cell_type": "markdown",
   "metadata": {},
   "source": [
    "Again only for the `BELONGS_GPI` samples which have regenotyped VCFs, the number of SNPs to the H37rV version 3 reference is recorded in `SNP_DISTANCE_TO_H37rV` and we observe a number of peaks."
   ]
  },
  {
   "cell_type": "code",
   "execution_count": null,
   "metadata": {},
   "outputs": [],
   "source": [
    "a=GENOMES[GENOMES.SPECIES==\"M. tuberculosis\"].SNP_DISTANCE_TO_H37rV.plot.hist(bins=100)"
   ]
  },
  {
   "cell_type": "markdown",
   "metadata": {},
   "source": [
    "Pleasingly, the different lineages explain the different peaks (although Lineages 2 & 3 overlap which just means they tend to be the same distance from the reference not that they are similar)"
   ]
  },
  {
   "cell_type": "code",
   "execution_count": null,
   "metadata": {},
   "outputs": [],
   "source": [
    "df=GENOMES[(GENOMES.SPECIES==\"M. tuberculosis\") & (GENOMES.LINEAGE_NAME.isin(['Lineage 1','Lineage 2','Lineage 3','Lineage 4']))]\n",
    "a=df['SNP_DISTANCE_TO_H37rV'].hist(by=df.LINEAGE_NAME,bins=range(0,2000,20),figsize=(12,8))"
   ]
  },
  {
   "cell_type": "markdown",
   "metadata": {},
   "source": [
    "Then we record some very high-level information about the antibiogram predicted from the default genetic catalogue."
   ]
  },
  {
   "cell_type": "code",
   "execution_count": null,
   "metadata": {},
   "outputs": [],
   "source": [
    "GENOMES.CATALOGUE_NAME.value_counts()"
   ]
  },
  {
   "cell_type": "code",
   "execution_count": null,
   "metadata": {},
   "outputs": [],
   "source": [
    "GENOMES.CATALOGUE_VERSION.value_counts()"
   ]
  },
  {
   "cell_type": "markdown",
   "metadata": {},
   "source": [
    "* `TB_TYPE_1` provides a high-level description of the degree of resistance, based on the genetics. It shouldn't be relied upon but gives you an idea of the level of resistance.\n",
    "\n",
    "* `SUS` susceptible according to the Bayesian approach in NEJM2018\n",
    "\n",
    "* `XDR` resistant to RIF, INH, one of LEV or MXF and one of AMI or KAN\n",
    "\n",
    "* `MDR` resistant to RIF, INH \n",
    "\n",
    "* `RIF` resistant to RIF, susceptible to INH\n",
    "\n",
    "* `UNK` everything else"
   ]
  },
  {
   "cell_type": "code",
   "execution_count": null,
   "metadata": {},
   "outputs": [],
   "source": [
    "GENOMES.loc[GENOMES.BELONGS_GPI].TB_TYPE_1.value_counts()"
   ]
  },
  {
   "cell_type": "markdown",
   "metadata": {},
   "source": [
    "`WGS_PREDICTION_STRING` is simply the genetic antibiogram as a single string. The order of drugs is currently\n",
    "\n",
    "`[\"RIF\",\"INH\",\"PZA\",\"EMB\",\"AMI\",\"KAN\",\"LEV\",\"MXF\",\"ETH\",\"PAS\",\"RFB\",\"LZD\",\"BDQ\",\"DLM\",\"CFZ\"]`\n",
    "\n",
    "Hence you can use slice the first four characters to compare to the NEJM paper. This is only supposed to be a hint and isn't definitive. For that please use the `PREDICTIONS` and `EFFECTS` tables which are described later."
   ]
  },
  {
   "cell_type": "markdown",
   "metadata": {},
   "source": [
    "## `VARIANTS`"
   ]
  },
  {
   "cell_type": "markdown",
   "metadata": {},
   "source": [
    "`VARIANTS` is a very long table since it contains all SNPs and INDELs detected by Clockwork across the whole genome for all samples, including those retrieved from the ENA. It contains calls parsed from both regenotyped and per-sample `vcf` files depending on what is available for that sample.\n",
    "\n",
    "There is an approximate 1:1 mapping between a row in the VCF file making a call, and a row in this table. There are occasions where a row in the VCF can parsed as containing e.g. two SNPs if `REF='cttcg'` and `ALT='ttttg'` and hence a single row in the VCF will map to two rows in the table. \n",
    "\n",
    "It is not stored in `cryptic-tables/` since the gzipped `CSV` and `PKL` files are 2.8 GB and 1.6 GB respectively for the ~62k samples. We STRONGLY recommend you work with the `PKL` format since, unlike `CSV`, some of the fields are stored as categories which dramatically reduces the memory required. A table only containing the rows for the GPI samples is also included (`VARIANTS_GPI`: 18,159,378 rows : 326 MB and 623 MB).\n",
    "\n",
    "Both tables are available on request, however for demonstration and testing purposes, the rows for the 600 randomly selected samples (1%) defined above in `GENOMES_SAMPLE` are stored in separate tables in `cryptic-tables/`. The whole table has currently (Aug 2020) 91,853,092 rows.\n",
    "\n",
    "Since the regenotyped `VCF` files in particular yield large numbers of variants, we have adopted a 'mixed' approach; all SNPs and INDELs are recorded for all genes, however null calls and filter fails are only recorded for genes in the current resistance catalogue. To be clear a filter fail is a putative call that has not passed the quality and statistical thresholds set by Clockwork. The reason these are included for these genes is that one would like to know when predicting resistance e.g. one would treat a null or filter fail at position Ser450 in *rpoB* differently to a reference/wildtype call. "
   ]
  },
  {
   "cell_type": "code",
   "execution_count": 4,
   "metadata": {},
   "outputs": [
    {
     "name": "stdout",
     "output_type": "stream",
     "text": [
      "Chunk 1\n",
      "Chunk 2\n",
      "Chunk 3\n",
      "Chunk 4\n",
      "Chunk 5\n",
      "Chunk 6\n",
      "Chunk 7\n",
      "Chunk 8\n",
      "Chunk 9\n",
      "Chunk 10\n"
     ]
    },
    {
     "name": "stderr",
     "output_type": "stream",
     "text": [
      "C:\\Users\\nicho\\AppData\\Local\\Temp/ipykernel_19380/3303613155.py:5: DtypeWarning: Columns (28) have mixed types. Specify dtype option on import or set low_memory=False.\n",
      "  for chunk in reader:\n"
     ]
    },
    {
     "name": "stdout",
     "output_type": "stream",
     "text": [
      "Chunk 11\n",
      "Chunk 12\n",
      "Chunk 13\n",
      "Chunk 14\n",
      "Chunk 15\n",
      "Chunk 16\n"
     ]
    },
    {
     "name": "stderr",
     "output_type": "stream",
     "text": [
      "C:\\Users\\nicho\\AppData\\Local\\Temp/ipykernel_19380/3303613155.py:5: DtypeWarning: Columns (28) have mixed types. Specify dtype option on import or set low_memory=False.\n",
      "  for chunk in reader:\n"
     ]
    },
    {
     "name": "stdout",
     "output_type": "stream",
     "text": [
      "Chunk 17\n",
      "Chunk 18\n",
      "Chunk 19\n",
      "Chunk 20\n",
      "Chunk 21\n",
      "Chunk 22\n",
      "Chunk 23\n",
      "Chunk 24\n",
      "Chunk 25\n",
      "Chunk 26\n",
      "Chunk 27\n",
      "Chunk 28\n",
      "Chunk 29\n",
      "Chunk 30\n",
      "Chunk 31\n",
      "Chunk 32\n",
      "Chunk 33\n",
      "Chunk 34\n",
      "Chunk 35\n",
      "Chunk 36\n",
      "Chunk 37\n",
      "Chunk 38\n",
      "Chunk 39\n",
      "Chunk 40\n",
      "Chunk 41\n",
      "Chunk 42\n",
      "Chunk 43\n",
      "Chunk 44\n",
      "Chunk 45\n",
      "Chunk 46\n",
      "Chunk 47\n",
      "Chunk 48\n",
      "Chunk 49\n",
      "Chunk 50\n",
      "Chunk 51\n",
      "Chunk 52\n",
      "Chunk 53\n",
      "Chunk 54\n",
      "Chunk 55\n",
      "Chunk 56\n",
      "Chunk 57\n",
      "Chunk 58\n",
      "Chunk 59\n",
      "Chunk 60\n",
      "Chunk 61\n",
      "Chunk 62\n",
      "Chunk 63\n",
      "Chunk 64\n",
      "Chunk 65\n",
      "Chunk 66\n",
      "Chunk 67\n",
      "Chunk 68\n",
      "Chunk 69\n",
      "Chunk 70\n"
     ]
    },
    {
     "name": "stderr",
     "output_type": "stream",
     "text": [
      "C:\\Users\\nicho\\AppData\\Local\\Temp/ipykernel_19380/3303613155.py:5: DtypeWarning: Columns (28) have mixed types. Specify dtype option on import or set low_memory=False.\n",
      "  for chunk in reader:\n"
     ]
    },
    {
     "name": "stdout",
     "output_type": "stream",
     "text": [
      "Chunk 71\n",
      "Chunk 72\n",
      "Chunk 73\n",
      "Chunk 74\n",
      "Chunk 75\n",
      "Chunk 76\n",
      "Chunk 77\n",
      "Chunk 78\n",
      "Chunk 79\n",
      "Chunk 80\n",
      "Chunk 81\n",
      "Chunk 82\n",
      "Chunk 83\n",
      "Chunk 84\n",
      "Chunk 85\n",
      "Chunk 86\n",
      "Chunk 87\n",
      "Chunk 88\n",
      "Chunk 89\n",
      "Chunk 90\n",
      "Chunk 91\n",
      "Chunk 92\n",
      "Chunk 93\n",
      "Chunk 94\n",
      "Chunk 95\n",
      "Chunk 96\n",
      "Chunk 97\n",
      "Chunk 98\n"
     ]
    }
   ],
   "source": [
    "nick_dict = {}\n",
    "chunksize = 10 ** 6 \n",
    "chunknum = 1\n",
    "with pd.read_csv(TABLES_PATH+\"VARIANTS.csv\", chunksize=chunksize) as reader:\n",
    "    for chunk in reader:\n",
    "        print(\"Chunk \" + str(chunknum)) \n",
    "        chunknum += 1\n",
    "        for i, r in chunk.iterrows():\n",
    "            if r['GENOME_INDEX'] in nick_dict:\n",
    "                nick_dict[r['GENOME_INDEX']] = nick_dict[r['GENOME_INDEX']] + 1\n",
    "            else:\n",
    "                nick_dict[r['GENOME_INDEX']] = 1\n"
   ]
  },
  {
   "cell_type": "code",
   "execution_count": 32,
   "metadata": {},
   "outputs": [
    {
     "name": "stdout",
     "output_type": "stream",
     "text": [
      "24\n"
     ]
    }
   ],
   "source": [
    "print(nick_dict[429])"
   ]
  },
  {
   "cell_type": "code",
   "execution_count": null,
   "metadata": {},
   "outputs": [],
   "source": [
    "VARIANTS_SAMPLE=pandas.read_csv(TABLES_PATH+\"VARIANTS.csv.gz\")\n",
    "VARIANTS_SAMPLE[:3]"
   ]
  },
  {
   "cell_type": "code",
   "execution_count": null,
   "metadata": {},
   "outputs": [],
   "source": [
    "len(VARIANTS_SAMPLE)"
   ]
  },
  {
   "cell_type": "markdown",
   "metadata": {},
   "source": [
    "To help with some of the graphs below, let's join to the `GENOMES_SAMPLE` table so we can add the `BELONGS_GPI` column."
   ]
  },
  {
   "cell_type": "code",
   "execution_count": null,
   "metadata": {},
   "outputs": [],
   "source": [
    "def assign_gpi_description(row):\n",
    "    if row['BELONGS_GPI']:\n",
    "        return(\"GPI\")\n",
    "    else:\n",
    "        return(\"NOT GPI\")\n",
    "\n",
    "GENOMES_SAMPLE['GPI_LABEL']=GENOMES_SAMPLE.apply(assign_gpi_description,axis=1)\n",
    "GENOMES_SAMPLE[:3]\n",
    "\n",
    "VARIANTS_SAMPLE.reset_index(inplace=True)\n",
    "VARIANTS_SAMPLE.set_index('UNIQUEID',inplace=True)\n",
    "VARIANTS_SAMPLE=VARIANTS_SAMPLE.join(GENOMES_SAMPLE[['GPI_LABEL']],how='left')\n",
    "VARIANTS_SAMPLE.GPI_LABEL.value_counts()"
   ]
  },
  {
   "cell_type": "markdown",
   "metadata": {},
   "source": [
    "Genetic variants are by definition all located on the reference H37rV genome (version 3) using `GENOME_INDEX` and therefore this *always* contains a value."
   ]
  },
  {
   "cell_type": "code",
   "execution_count": null,
   "metadata": {},
   "outputs": [],
   "source": [
    "VARIANTS_SAMPLE.loc[VARIANTS_SAMPLE.GENOME_INDEX.isna()]"
   ]
  },
  {
   "cell_type": "markdown",
   "metadata": {},
   "source": [
    "A genetic 'variant' is either (i) a single nucleotide polymorphism or (ii) an insertion or deletion of a specified number of nucleotides or (iii) a null (which could be either a SNP or an INDEL or nothing, we don't know!). These can be identified via `MUTATION_TYPE` and also (redundantly) using the Booleans `IS_SNP` and `IS_INDEL`."
   ]
  },
  {
   "cell_type": "code",
   "execution_count": null,
   "metadata": {},
   "outputs": [],
   "source": [
    "pandas.crosstab(VARIANTS_SAMPLE.MUTATION_TYPE,VARIANTS_SAMPLE.IS_SNP)"
   ]
  },
  {
   "cell_type": "code",
   "execution_count": null,
   "metadata": {},
   "outputs": [],
   "source": [
    "pandas.crosstab(VARIANTS_SAMPLE.MUTATION_TYPE,VARIANTS_SAMPLE.IS_INDEL)"
   ]
  },
  {
   "cell_type": "code",
   "execution_count": null,
   "metadata": {},
   "outputs": [],
   "source": [
    "pandas.crosstab(VARIANTS_SAMPLE.MUTATION_TYPE,VARIANTS_SAMPLE.IS_NULL)"
   ]
  },
  {
   "cell_type": "markdown",
   "metadata": {},
   "source": [
    "SNPs simply have the nucleotide of the reference genome in `REF` and the observed allele in `ALT`.\n",
    "\n",
    "Note that the allowed `REF` bases are `[a,t,c,g]` but the allowed `ALT` bases are `[a,t,c,g,o,x,z]` where `o` indicates a `vcf` filter fail, `x` indicates a Null call and `z` a Heterogenous call. As we shall see later, Clockwork is not, at present, making any Het calls and therefore there are no `z`s but the code allows for them. There are the associated `IS_FILTER_PASS`,`IS_NULL` and `IS_HET` Boolean fields to help with identifying such variants. "
   ]
  },
  {
   "cell_type": "code",
   "execution_count": null,
   "metadata": {},
   "outputs": [],
   "source": [
    "df=VARIANTS_SAMPLE.loc[VARIANTS_SAMPLE.IS_SNP]\n",
    "pandas.crosstab(df.REF,df.ALT)"
   ]
  },
  {
   "cell_type": "markdown",
   "metadata": {},
   "source": [
    "SNPs are simply described as `GENOME_INDEX REF>ALT` in the `VARIANT` field e.g. `1849c>a` whilst indels are simply noted e.g. `1849_indel`.\n",
    "\n",
    "`(UNIQUEID,VARIANT)` is therefore the (unique) primary key."
   ]
  },
  {
   "cell_type": "code",
   "execution_count": null,
   "metadata": {},
   "outputs": [],
   "source": [
    "VARIANTS_SAMPLE.loc[VARIANTS_SAMPLE.IS_INDEL][:3]"
   ]
  },
  {
   "cell_type": "markdown",
   "metadata": {},
   "source": [
    "Whilst INDELs have one of more nucleotides from the reference in `REF` and one or more nucleotides in `ALT` and the first position is assumed to be the start of the INDEL, which may not be true, but is the most straightforward assumption and otherwise you get tangled up in dividing variants into one or more constituents (since INDEL and SNP are not an orthogonal basis set)."
   ]
  },
  {
   "cell_type": "markdown",
   "metadata": {},
   "source": [
    "The length of the INDEL is also recorded; note that this is the *net* length i.e. `len(ALT)-len(REF)`"
   ]
  },
  {
   "cell_type": "code",
   "execution_count": null,
   "metadata": {},
   "outputs": [],
   "source": [
    "VARIANTS_SAMPLE.INDEL_LENGTH.value_counts().sort_index()"
   ]
  },
  {
   "cell_type": "markdown",
   "metadata": {},
   "source": [
    "Since the nomenclature for an INDEL forms a nature hierarchy and we've used the simplest descriptor in the `VARIANT` field, the descending levels are included in `INDEL_1` and `INDEL_2`."
   ]
  },
  {
   "cell_type": "code",
   "execution_count": null,
   "metadata": {},
   "outputs": [],
   "source": [
    "VARIANTS_SAMPLE.loc[VARIANTS_SAMPLE.IS_INDEL][['VARIANT','INDEL_1','INDEL_2','INDEL_LENGTH']][:3]"
   ]
  },
  {
   "cell_type": "markdown",
   "metadata": {},
   "source": [
    "Each successive descriptor gives a little more information; first about whether it is an insertion or a deletion, and then how many bases are involved."
   ]
  },
  {
   "cell_type": "markdown",
   "metadata": {},
   "source": [
    "At present, there are no examples (beyond frameshifts) where different 'flavours' of INDELs at the same `GENOME_POSITION` need to be distinguished since they have been associated with different effects on drug resistance. This is likely to change (or at least be tested), hence the flexibility is built in here."
   ]
  },
  {
   "cell_type": "markdown",
   "metadata": {},
   "source": [
    "All SNP and INDEL variants may (or may not) fall within a coding region (gene) or its promoter. This can be identified by the Boolean `ASSOCIATED_WITH_GENE`. If `True`, then `ELEMENT_TYPE` can be used to distinguish the 'type' of coding region. Note that being in the 'promoter' is ill-defined and here is assumed to be 100 bases upstream of the start codon (or up to the next coding region, whichever comes sooner). "
   ]
  },
  {
   "cell_type": "code",
   "execution_count": null,
   "metadata": {},
   "outputs": [],
   "source": [
    "VARIANTS_SAMPLE.ASSOCIATED_WITH_GENE.value_counts()"
   ]
  },
  {
   "cell_type": "code",
   "execution_count": null,
   "metadata": {},
   "outputs": [],
   "source": [
    "pandas.crosstab(VARIANTS_SAMPLE.ELEMENT_TYPE,VARIANTS_SAMPLE.ASSOCIATED_WITH_GENE)"
   ]
  },
  {
   "cell_type": "markdown",
   "metadata": {},
   "source": [
    "`GENE`, `LOCUS` and `RNA` are as defined in the H37rV Genbank file (`NC_000962.3.gbk`). The `RNA` genes found are, of course, ribosomal. Implicit, therefore, is the assumption that `GENE` and `LOCUS` code proteins, whilst `RNA` do not.\n",
    "\n",
    "`GENE` encodes the name of the GENE or LOCUS as defined by the H37rV Genbank file. There are examples of *M. tuberculosis* genes that are referred to in the literature by one name, but are called something else in the GenBank file. Only using the latter makes any sense!"
   ]
  },
  {
   "cell_type": "code",
   "execution_count": null,
   "metadata": {},
   "outputs": [],
   "source": [
    "VARIANTS_SAMPLE.loc[VARIANTS_SAMPLE.ELEMENT_TYPE=='RNA'].GENE.value_counts()"
   ]
  },
  {
   "cell_type": "markdown",
   "metadata": {},
   "source": [
    "If we only considering variants that are associated with a gene/locus, we now find that there are multiple ways of identifying the genetic position where the variant occurs; the position in the whole genome (`GENOME_INDEX`) but also the number of nucleotides since the start of the gene/locus (`NUCLEOTIDE_NUMBER` -- this is negative by definition for promoters) and, if the gene/locus encodes protein, the amino acid number (`AMINO_ACID_NUMBER`). \n",
    "\n",
    "Note that this also makes it clear why one must use the *M. tuberculosis* (i.e. reference) numbering, and why e.g. using *E. coli* numbering for *rpoB* is confusing and prevents matching to the GenBank reference.\n",
    "\n",
    "Note also that if these cannot be defined for a variant (e.g. it isn't associated with a gene, or encodes RNA and therefore `AMINO_ACID_NUMBER` is nonsensical) then you'll find a `NaN`. It is a peculiarity of Pandas that only `float`s can hold `NaN`s, whilst `int`s cannot, and therefore these are all stored as `float`s.\n",
    "\n",
    "* `NUCLEOTIDE_NUMBER` is simply the 1-based number of the base. A pecularity of genes is there is no `0`, so if there is a promoter, it will run `-3,-2,-1,1,2,3,4..`. \n",
    "\n",
    "* `AMINO_ACID_NUMBER` is the sequential number of the amino acid residue that the base belongs to/codes for. Hence it is only populated in the coding region of genes that code for protein (i.e. not RNA encoding genes like *rrs*). For the same sequence as above it will be, `NaN,NaN,NaN,1,1,1,2`\n",
    "\n",
    "To faciliate joining between the `VARIANT` and `MUTATIONS` tables there is fourth aggregated location field called `POSITION`. If the variant occurs in the coding region of a gene that codes protein this is `AMINO_ACID_NUMBER`, otherwise it is simply `NUCLEOTIDE_NUMBER` and if the variant is not associated with a gene in any way, then it is a `NaN`.\n"
   ]
  },
  {
   "cell_type": "code",
   "execution_count": null,
   "metadata": {},
   "outputs": [],
   "source": [
    "VARIANTS_SAMPLE.loc[VARIANTS_SAMPLE.ASSOCIATED_WITH_GENE][[\"GENOME_INDEX\",\"NUCLEOTIDE_NUMBER\",\"AMINO_ACID_NUMBER\",'POSITION']][:5]"
   ]
  },
  {
   "cell_type": "markdown",
   "metadata": {},
   "source": [
    "Two other Booleans are provided to help you; `IN_CDS` and `IN_PROMOTER` which do what you think they do!"
   ]
  },
  {
   "cell_type": "markdown",
   "metadata": {},
   "source": [
    "Finally, each variant has stored the quality metrics used by Clockwork in deciding whether or not to make a call. I will describe these, but since I am not an expert at the meanings of these, please direct questions to Zam, Jeff or Martin.\n",
    "\n",
    "The total depth from the pile-up is stored in `DP` whilst the aggregate depth of the top two alleles is stored in `COVERAGE`. Most of the time these are identical, but on occasion `DP>COVERAGE` presumably because more than two bases were observed in pile-up."
   ]
  },
  {
   "cell_type": "code",
   "execution_count": null,
   "metadata": {},
   "outputs": [],
   "source": [
    "VARIANTS_SAMPLE.loc[VARIANTS_SAMPLE.DP>VARIANTS_SAMPLE.COVERAGE][:3]"
   ]
  },
  {
   "cell_type": "code",
   "execution_count": null,
   "metadata": {},
   "outputs": [],
   "source": [
    "a=VARIANTS_SAMPLE['DP'].hist(bins=numpy.arange(0,500,10),figsize=(6,4))"
   ]
  },
  {
   "cell_type": "markdown",
   "metadata": {},
   "source": [
    "The depth at that position as a fraction of the average depth over the whole genome is stored in `DPF`. This is therefore a float. As you'd expect this is centred on unity, but there is also a peak centred on zero that are all null calls."
   ]
  },
  {
   "cell_type": "code",
   "execution_count": null,
   "metadata": {},
   "outputs": [],
   "source": [
    "a=VARIANTS_SAMPLE['DPF'].hist(bins=numpy.arange(0,2,0.05),figsize=(6,4))"
   ]
  },
  {
   "cell_type": "code",
   "execution_count": null,
   "metadata": {},
   "outputs": [],
   "source": [
    "a=VARIANTS_SAMPLE.loc[VARIANTS_SAMPLE.DPF<0.01]\n",
    "pandas.crosstab(a.IS_NULL,a.IS_FILTER_PASS)"
   ]
  },
  {
   "cell_type": "markdown",
   "metadata": {},
   "source": [
    "Then we have the Fraction of Read Support (`FRS`) which by definition has an upper bound of unity. This is the closest Clockwork gets to thinking about het calls at present."
   ]
  },
  {
   "cell_type": "code",
   "execution_count": null,
   "metadata": {},
   "outputs": [],
   "source": [
    "# a=VARIANTS_SAMPLE.FRS.hist(bins=numpy.arange(0,1.1,0.02))\n",
    "a=VARIANTS_SAMPLE['FRS'].hist(bins=numpy.arange(0.0,1.1,0.02),figsize=(6,4),log=True)"
   ]
  },
  {
   "cell_type": "markdown",
   "metadata": {},
   "source": [
    "Note that everything with `FRS<0.9` is either a NULL or FILTER_FAIL call."
   ]
  },
  {
   "cell_type": "markdown",
   "metadata": {},
   "source": [
    "Internally, Clockwork uses a model to predict the confidence of the call; this is stored in `GT_CONF`. Because the `GPI` samples are called together (by definition!) we have to start treating the GPI/NOT GPI calls separately from now on and as the quantities and thresholds are NOT equivalent."
   ]
  },
  {
   "cell_type": "code",
   "execution_count": null,
   "metadata": {},
   "outputs": [],
   "source": [
    "a=VARIANTS_SAMPLE.GT_CONF.hist(by=VARIANTS_SAMPLE.GPI_LABEL,bins=range(0,5000,100),figsize=(12,4))"
   ]
  },
  {
   "cell_type": "markdown",
   "metadata": {},
   "source": [
    "Since the threshold one might use to discard low confidence values is itself a function of depth, Clockwork creates a set of reads with the same average depth as the sample and then analyses these to create a `GT_CONF` distribution. It then uses this to convert the `GT_CONF` values for the actual sample into percentiles, which are stored as `GT_CONF_PERCENTILE` and the threshold is set as a percentile value. \n",
    "\n",
    "Unfortunately `GT_CONF_PERCENTILE` cannot be compared between regenotyped and per-sample `vcf` files. For the latter a threshold of 5% was applied and everything below that was recorded as a filter fail. For the former a smaller threshold was applied by considering the precision/recall of the 17 high-quality `QC` Comas samples.\n",
    "\n",
    "Hence `GT_CONF_PERCENTILE` is the preferred metric since it accounts for the depth in each sample and runs 0-100."
   ]
  },
  {
   "cell_type": "code",
   "execution_count": null,
   "metadata": {},
   "outputs": [],
   "source": [
    "a=VARIANTS_SAMPLE.GT_CONF_PERCENTILE.hist(by=VARIANTS_SAMPLE.GPI_LABEL,bins=range(0,100,1),figsize=(12,4))"
   ]
  },
  {
   "cell_type": "markdown",
   "metadata": {},
   "source": [
    "There are more nulls in the `GPI` simply because during the regenotyping each sample is examined at any and every position where there is evidence of a call in any sample, hence in many samples either a reference (wildtype) or null call is returned depending on the pile-up. \n",
    "\n",
    "The `GT_CONF_PERCENTILE` thresholds for definite calls are 0.25% for the GPI and 5.0% for the non-GPI."
   ]
  },
  {
   "cell_type": "code",
   "execution_count": null,
   "metadata": {},
   "outputs": [],
   "source": [
    "df=VARIANTS_SAMPLE.loc[(VARIANTS_SAMPLE.IS_FILTER_PASS) & (~VARIANTS_SAMPLE.IS_NULL)]\n",
    "a=df.GT_CONF_PERCENTILE.hist(by=df.GPI_LABEL,bins=numpy.arange(0,10,0.1),figsize=(12,4))"
   ]
  },
  {
   "cell_type": "markdown",
   "metadata": {},
   "source": [
    "## `MUTATIONS`"
   ]
  },
  {
   "cell_type": "markdown",
   "metadata": {},
   "source": [
    "Although not as large as `VARIANTS`, the `MUTATIONS` table is still large at 82,290,716 rows (Aug 2020) and takes minutes to load on my workstation with 48 GB of memory. The compressed `PKL` and `CSV` versions take up 736 MB and 1.33 GB, respectively on disc. Again we STRONGLY recommend you work with the `PKL` version if you can to avoid memory issues. Like `VARIANTS` the `GPI` subset is stored. This is small enough when compressed (15,977,2222 rows: 124 MB / 275 MB) that it is stored in `cryptic-tables/`.\n",
    "\n",
    "Finally, the rows relating to the 1% sample defined above in `GENOMES_SAMPLE` are also stored for testing and demonstration in `MUTATIONS_SAMPLE`."
   ]
  },
  {
   "cell_type": "code",
   "execution_count": null,
   "metadata": {},
   "outputs": [],
   "source": [
    "MUTATIONS=pandas.read_pickle(TABLES_PATH+\"MUTATIONS_SAMPLE.pkl.gz\")\n",
    "MUTATIONS[:3]"
   ]
  },
  {
   "cell_type": "markdown",
   "metadata": {},
   "source": [
    "The primary key (i.e. unique) is `UNIQUEID`,`GENE`,`MUTATION`. This protein level view (i.e. amino acids) needs to be separate from `VARIANTS` since you can have up to three SNPs in a single codon (and therefore three rows in `VARIANTS`) which would be represented by a single row here in `MUTATIONS`. This does mean, however, that if you want to find out the (min or max) `COVERAGE` in a codon, you need to join back to `VARIANTS`. This makes clear that the quality information only makes sense at the nucleotide level, not the codon level."
   ]
  },
  {
   "cell_type": "markdown",
   "metadata": {},
   "source": [
    "For more information on the grammar used to describe each mutation, head [here](http://fowlerlab.org/2018/11/25/goarc-a-general-ontology-for-antimicrobial-resistance-catalogues/).\n",
    "\n",
    "Let's look at the mutations in the *rpoB* RRDR and look for any mutations where more than one base in the codon are different compared to the reference."
   ]
  },
  {
   "cell_type": "code",
   "execution_count": null,
   "metadata": {},
   "outputs": [],
   "source": [
    "MUTATIONS.reset_index(inplace=True)\n",
    "df=MUTATIONS.loc[(MUTATIONS.GENE=='rpoB') & (MUTATIONS.POSITION>=428) & (MUTATIONS.POSITION<=452) & (~MUTATIONS.IS_NULL)]\n",
    "pandas.crosstab(df.MUTATION,df.NUMBER_NUCLEOTIDE_CHANGES,margins=True) "
   ]
  },
  {
   "cell_type": "markdown",
   "metadata": {},
   "source": [
    "All the mutations in our sample are SNPs in *rpoB* with 83 out of 131 being S450L, as expected and only four amino acid mutations involve more than 1 nucleotide change in the codon compared to reference."
   ]
  },
  {
   "cell_type": "markdown",
   "metadata": {},
   "source": [
    "Most of the remaining fields are there to help you select the mutations you want. These include a series of Booleans that are hopefully obvious: `IS_SNP, IS_INDEL, IN_CDS, IN_PROMOTER, IS_SYNONYMOUS, IS_NONSYNOYMOUS, IS_HET, IS_NULL`. And, yes, many of these are redundant e.g. `IN_CDS=~IN_PROMOTER` but it just makes life a bit easier.\n",
    "\n",
    "`ELEMENT_TYPE` is the same as in `VARIANTS`, as are the additional descriptors for INDELS: `INDEL_LENGTH`, `INDEL_1` and `INDEL_2`.\n",
    "\n",
    "`MUTATION_TYPE` is new and distinguishes between an amino acid mutation (`AAM`) e.g. a codon change which may or may not be synoymous and a nucleotide `SNP` e.g. in a promoter or an RNA gene, as well as `INDEL`s, which can be anywhere."
   ]
  },
  {
   "cell_type": "code",
   "execution_count": null,
   "metadata": {},
   "outputs": [],
   "source": [
    "MUTATIONS.MUTATION_TYPE.value_counts()"
   ]
  },
  {
   "cell_type": "markdown",
   "metadata": {},
   "source": [
    "Note that since FILTER_FAIL and NULL calls are included for genes in the resistance catalogue these need to be distinguished. This is done via the 'artificial' amino acids `O` and `X`, respectively. At present a NULL (i.e. `x`) in a codon trumps a FILTER_FAIL (i.e. `o`) . Hence an `ALT` of `aox` is translated to a `X` i.e. a NULL. There are only 8 instances in a our sample, however."
   ]
  },
  {
   "cell_type": "code",
   "execution_count": null,
   "metadata": {},
   "outputs": [],
   "source": [
    "MUTATIONS.loc[(MUTATIONS.ALT.str.contains('x')) & (MUTATIONS.ALT.str.contains('o'))]"
   ]
  },
  {
   "cell_type": "markdown",
   "metadata": {},
   "source": [
    "## `EFFECTS` \n",
    "\n",
    "Now that we have a comprehensive view of all the genetic variants and their associated protein amino acid changes, we can apply one or more genetic resistance catalogues.\n",
    "\n",
    "We are currently applying the `CRyPTICv1.31` catalogue which is a merged catalogue comprising NEJM2018 for the first-line compounds and ERJ2017 for the rest. It also includes all the genes identified by the Seq&Treat project as being of potential interest. As mentioned above all of these genes therefore have nulls and filter fails recorded in `VARIANTS` and `MUTATIONS` although since they only have default rows in the catalogue they can only ever cause a `U` or `S` to be returned. "
   ]
  },
  {
   "cell_type": "code",
   "execution_count": null,
   "metadata": {},
   "outputs": [],
   "source": [
    "EFFECTS=pandas.read_pickle(TABLES_PATH+\"EFFECTS.pkl.gz\")\n",
    "EFFECTS[:10]"
   ]
  },
  {
   "cell_type": "markdown",
   "metadata": {},
   "source": [
    "`EFFECTS` contains one row per mutation in each catalogue gene per associated drug for a defined version of a single catalogue. Hence a single row in `MUTATIONS` e.g. `gyrA_A90V` may result in multiple rows in `EFFECTS` since not only can that mutation be associated with resistance to several fluroquinolones but also a range of different catalogues, perhaps also different versions of a single catalogue, may have been applied. In addition, there may be other `gyrA` mutations in the same sample, each of which will contribute one (or more) row to `EFFECTS`. Consider this sample which has 4 mutations in *gyrA*."
   ]
  },
  {
   "cell_type": "code",
   "execution_count": null,
   "metadata": {},
   "outputs": [],
   "source": [
    "EFFECTS.reset_index(inplace=True)\n",
    "EFFECTS.loc[(EFFECTS.GENE=='gyrA') & (EFFECTS.UNIQUEID==\"site.02.subj.0914.lab.22A148.iso.1\")]"
   ]
  },
  {
   "cell_type": "markdown",
   "metadata": {},
   "source": [
    "The net result of all these predictions needs to sorted out; that is where the `PREDICTIONS` table comes in. This simply has one row per sample per drug per catalogue (version)."
   ]
  },
  {
   "cell_type": "markdown",
   "metadata": {},
   "source": [
    "## `PREDICTIONS`"
   ]
  },
  {
   "cell_type": "code",
   "execution_count": null,
   "metadata": {},
   "outputs": [],
   "source": [
    "PREDICTIONS=pandas.read_pickle(TABLES_PATH+\"PREDICTIONS.pkl.gz\")\n",
    "PREDICTIONS[:3]"
   ]
  },
  {
   "cell_type": "markdown",
   "metadata": {},
   "source": [
    "If we pull out the rows for the sample sample as above"
   ]
  },
  {
   "cell_type": "code",
   "execution_count": null,
   "metadata": {},
   "outputs": [],
   "source": [
    "PREDICTIONS.reset_index(inplace=True)\n",
    "PREDICTIONS.loc[(PREDICTIONS.UNIQUEID==\"site.02.subj.0914.lab.22A148.iso.1\") & (PREDICTIONS.DRUG.isin(['LEV','MXF','OFX']))]"
   ]
  },
  {
   "cell_type": "markdown",
   "metadata": {},
   "source": [
    "So they are all predicted to be resistant to the fluoroquinolones."
   ]
  },
  {
   "cell_type": "markdown",
   "metadata": {},
   "source": [
    "The logic is what you expect; if there is >0 rows in `EFFECTS` for a drug that predict resistance, then the sample is predicted to `R` regardless of what the other rows predict. If there are no rows in `EFFECTS` that predict resistance but >0 rows with `PREDICTION=='U'`, then the sample is predicted `U` for that sample regardless of the other rows. If there are 0 rows, or >0 rows which are all predicted to be `S`, then the sample is predicted to be `S`."
   ]
  },
  {
   "cell_type": "markdown",
   "metadata": {},
   "source": [
    "## `GPI_SNP_DISTANCES` arrays\n",
    "\n",
    "These are not tables, but instead are (NxN) `numpy` arrays of SNP distances between each GPI sample and every other GPI sample. The array is therefore symmetric with a leading diagonal of zeros.\n",
    "\n",
    "For convenience, the labels are stored in a separate `numpy` array. \n",
    "\n",
    "If you are not familiar with `numpy` please get in touch; keeping them in this form should save you a lot of time and effort."
   ]
  },
  {
   "cell_type": "code",
   "execution_count": null,
   "metadata": {},
   "outputs": [],
   "source": [
    "labels=numpy.load('GPI_SNP_DISTANCES_LABELS.npy')\n",
    "labels"
   ]
  },
  {
   "cell_type": "markdown",
   "metadata": {},
   "source": [
    "Note that the samples with `SITEID=='QA'` are the 17 Comas samples. 15211+17=15228"
   ]
  },
  {
   "cell_type": "code",
   "execution_count": null,
   "metadata": {},
   "outputs": [],
   "source": [
    "len(labels)"
   ]
  },
  {
   "cell_type": "code",
   "execution_count": null,
   "metadata": {},
   "outputs": [],
   "source": [
    "distances=numpy.load('GPI_SNP_DISTANCES_VALUES.npy')\n",
    "distances"
   ]
  },
  {
   "cell_type": "markdown",
   "metadata": {},
   "source": [
    "Selecting the distances from one sample is easy with numpy fancy indexing. For example, to find all the SNP distances to the first sample we simply first create a array of Booleans telling us which column has the name of the first sample (the first one, funnily enough)."
   ]
  },
  {
   "cell_type": "code",
   "execution_count": null,
   "metadata": {},
   "outputs": [],
   "source": [
    "labels=='site.QA.subj.N0004.lab.N0004.iso.1'"
   ]
  },
  {
   "cell_type": "markdown",
   "metadata": {},
   "source": [
    "Then we index the distances using that Boolean array "
   ]
  },
  {
   "cell_type": "code",
   "execution_count": null,
   "metadata": {},
   "outputs": [],
   "source": [
    "d=distances[labels=='site.QA.subj.N0004.lab.N0004.iso.1']\n",
    "d"
   ]
  },
  {
   "cell_type": "markdown",
   "metadata": {},
   "source": [
    "and we can simply calculate some statisitics and plot a histogram"
   ]
  },
  {
   "cell_type": "code",
   "execution_count": null,
   "metadata": {},
   "outputs": [],
   "source": [
    "numpy.average(d)"
   ]
  },
  {
   "cell_type": "code",
   "execution_count": null,
   "metadata": {},
   "outputs": [],
   "source": [
    "fig,axis=plt.subplots(1,1,figsize=(8,5))\n",
    "a=axis.hist(d.flatten(),bins=numpy.arange(0,2500,100))"
   ]
  },
  {
   "cell_type": "markdown",
   "metadata": {},
   "source": [
    "Let's fish out all the`GPI`  samples that are within 500 SNPs of this QA strain. This is where the power and simplicity of the `numpy` fancy indexing comes into its own!\n",
    "\n",
    "The condition produces an array of Booleans.."
   ]
  },
  {
   "cell_type": "code",
   "execution_count": null,
   "metadata": {},
   "outputs": [],
   "source": [
    "close_samples=d<400\n",
    "close_samples"
   ]
  },
  {
   "cell_type": "markdown",
   "metadata": {},
   "source": [
    "..which we can then use to pull out the distances"
   ]
  },
  {
   "cell_type": "code",
   "execution_count": null,
   "metadata": {},
   "outputs": [],
   "source": [
    "d[close_samples]"
   ]
  },
  {
   "cell_type": "markdown",
   "metadata": {},
   "source": [
    "..and which samples they came from"
   ]
  },
  {
   "cell_type": "code",
   "execution_count": null,
   "metadata": {},
   "outputs": [],
   "source": [
    "labels[close_samples[0]]"
   ]
  },
  {
   "cell_type": "markdown",
   "metadata": {},
   "source": [
    "Finally, we can use this array to pull the rows in the `GENOMES` tables for these samples and then look which lineages they belong to"
   ]
  },
  {
   "cell_type": "code",
   "execution_count": null,
   "metadata": {},
   "outputs": [],
   "source": [
    "GENOMES.loc[GENOMES.index.isin(labels[close_samples[0]])].LINEAGE_NAME.value_counts()"
   ]
  },
  {
   "cell_type": "markdown",
   "metadata": {},
   "source": [
    "Let's try something more ambitious and calculate the SNP distributions for the distances between each and every set of lineages. (This will take about 30 sec to run)"
   ]
  },
  {
   "cell_type": "code",
   "execution_count": null,
   "metadata": {},
   "outputs": [],
   "source": [
    "l={}\n",
    "for lineage in [1,2,3,4]:\n",
    "    l[lineage]=numpy.isin(labels,list(GENOMES.loc[GENOMES.LINEAGE_NAME=='Lineage '+str(lineage)].index))\n",
    "\n",
    "d={}\n",
    "for lineage1 in [1,2,3,4]:\n",
    "    for lineage2 in [1,2,3,4]:\n",
    "        d[(lineage1,lineage2)]=distances[numpy.ix_(l[lineage1],l[lineage2])]\n",
    "        \n",
    "fig,axes=plt.subplots(4,4,sharex=True,tight_layout=True,figsize=(8,8))\n",
    "\n",
    "for lineage1 in [1,2,3,4]:\n",
    "    for lineage2 in [1,2,3,4]:\n",
    "        axes[lineage1-1,lineage2-1].set_ylim([0,0.008])\n",
    "        axes[lineage1-1,lineage2-1].axes.get_yaxis().set_visible(False)\n",
    "        axes[lineage1-1,lineage2-1].hist(d[(lineage1,lineage2)].flatten(),bins=numpy.arange(0,2000,100),density=True)\n",
    "        axes[lineage1-1,lineage2-1].text(100,0.007,\"Lineage \"+str(lineage1)+\" v \"+str(lineage2),horizontalalignment='left')        "
   ]
  },
  {
   "cell_type": "markdown",
   "metadata": {},
   "source": [
    "As expected, all samples that belong to a lineage are more similar to one another (generally < 1000 SNPs) than when samples belong to two different lineages are compared. The exception is when comparing Lineages 2 and 3 which are more alike than any of the other lineage pairs.\n",
    "\n",
    "This result provides some comfort that (a) the SNP distance calculated by the Clockwork regenotyping process is correct and (b) the lineages called by SNP-IT are also good."
   ]
  },
  {
   "cell_type": "markdown",
   "metadata": {},
   "source": [
    "# Analysis Examples\n",
    "\n",
    "## `rpoB_S450L` MIC distribution"
   ]
  },
  {
   "cell_type": "code",
   "execution_count": null,
   "metadata": {},
   "outputs": [],
   "source": [
    "PHENOTYPES=pandas.read_pickle(TABLES_PATH+\"UKMYC_PHENOTYPES.pkl.gz\")\n",
    "\n",
    "PHENOTYPES.reset_index(inplace=True)\n",
    "\n",
    "PHENOTYPES=PHENOTYPES.loc[(PHENOTYPES.DRUG==\"RIF\") &\\\n",
    "                          (PHENOTYPES.PLATEDESIGN==\"UKMYC5\") &\\\n",
    "                          (PHENOTYPES.PHENOTYPE_QUALITY==\"HIGH\") &\\\n",
    "                          (PHENOTYPES.DILUTION>0)]\n",
    "\n",
    "PHENOTYPES.set_index([\"UNIQUEID\"],inplace=True,verify_integrity=True)\n",
    "\n",
    "PHENOTYPES[:3]"
   ]
  },
  {
   "cell_type": "code",
   "execution_count": null,
   "metadata": {},
   "outputs": [],
   "source": [
    "MUTATIONS=pandas.read_pickle(TABLES_PATH+\"MUTATIONS_SAMPLE.pkl.gz\")\n",
    "\n",
    "MUTATIONS.reset_index(inplace=True)\n",
    "\n",
    "MUTATIONS=MUTATIONS.loc[(MUTATIONS.MUTATION==\"S450L\") & (MUTATIONS.GENE==\"rpoB\")]\n",
    "\n",
    "MUTATIONS.set_index([\"UNIQUEID\"],inplace=True,verify_integrity=True)\n",
    "\n",
    "MUTATIONS[:3]"
   ]
  },
  {
   "cell_type": "code",
   "execution_count": null,
   "metadata": {},
   "outputs": [],
   "source": [
    "MUTATIONS=MUTATIONS[[\"ALT\"]]\n",
    "df=PHENOTYPES.join(MUTATIONS,how=\"inner\")\n",
    "a=df.DILUTION.hist()"
   ]
  },
  {
   "cell_type": "markdown",
   "metadata": {},
   "source": [
    "So as expected, the majority of samples with an `rpoB@S450L` mutation have growth in all wells on the UKMYC5 plate."
   ]
  }
 ],
 "metadata": {
  "kernelspec": {
   "display_name": "Python 3 (ipykernel)",
   "language": "python",
   "name": "python3"
  },
  "language_info": {
   "codemirror_mode": {
    "name": "ipython",
    "version": 3
   },
   "file_extension": ".py",
   "mimetype": "text/x-python",
   "name": "python",
   "nbconvert_exporter": "python",
   "pygments_lexer": "ipython3",
   "version": "3.9.7"
  }
 },
 "nbformat": 4,
 "nbformat_minor": 4
}
