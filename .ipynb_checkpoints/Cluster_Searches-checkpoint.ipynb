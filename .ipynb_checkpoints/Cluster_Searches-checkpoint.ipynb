{
 "cells": [
  {
   "cell_type": "code",
   "execution_count": 37,
   "id": "e8b5f772-b2f8-4d99-a13a-74e58655de17",
   "metadata": {},
   "outputs": [],
   "source": [
    "import pandas as pd\n",
    "import os\n",
    "import subprocess\n",
    "from Comparative_Analysis import Utilities as util\n",
    "from tqdm.auto import tqdm\n",
    "import re\n",
    "import pickle\n",
    "import numpy as np\n",
    "from sklearn.cluster import AgglomerativeClustering\n",
    "import seaborn as sns\n",
    "from Bio import Entrez, SeqIO, AlignIO, pairwise2, Align, Seq, motifs\n",
    "from Bio.Seq import Seq\n",
    "from Bio.SeqFeature import SeqFeature, FeatureLocation"
   ]
  },
  {
   "cell_type": "code",
   "execution_count": 34,
   "id": "6bd4e060-cc1a-40ee-b5bb-7f693d08ac73",
   "metadata": {
    "tags": []
   },
   "outputs": [],
   "source": [
    "project_dir = 'D:/Project_Data/Project_8'\n",
    "r_scape_output_loc = project_dir + '/RScape_Run_Thoth_3'\n",
    "intergenic_regions = util.list_dirs(r_scape_output_loc)\n",
    "full_run = True\n",
    "project_dir = 'D:/Project_Data/Project_8'\n",
    "datasets_dir = project_dir + '/Datasets'\n",
    "output_dir = project_dir + '/Output'\n",
    "seq_dir = 'D:/Actinobacteria_Ref_Rep_Lev_Complete'\n",
    "num_cores = 16\n",
    "core_numbers = list(range(1, num_cores+1))\n",
    "reference_species_filename = 'GCF_000195955.2_ASM19595v2_genomic.gbff'\n",
    "species_list = util.list_files(seq_dir)\n",
    "reference_species_name = 'Mycobacterium tuberculosis H37Rv'"
   ]
  },
  {
   "cell_type": "code",
   "execution_count": 29,
   "id": "bdd721d4-49be-4231-85bc-bb2bf067c3c4",
   "metadata": {},
   "outputs": [],
   "source": [
    "def ortholog_in_reference(accession_locus, ref_ortholog_dict):\n",
    "    if accession_locus in ref_ortholog_dict:\n",
    "        return ref_ortholog_dict[accession_locus].split('@')[1]\n",
    "    else:\n",
    "        return 'NO_ORTHOLOG'"
   ]
  },
  {
   "cell_type": "code",
   "execution_count": 159,
   "id": "dc01d15f-e27f-4e29-a3eb-a44369c07e6d",
   "metadata": {},
   "outputs": [],
   "source": [
    "with open(output_dir + '/Blast_Output/reciprocal_best_hits.pkl', 'rb') as f:\n",
    "    rbh_results = pickle.load(f)\n",
    "ref_ortholog_dict = {}\n",
    "for i, r in rbh_results.iterrows():\n",
    "    ref_ortholog_dict[r['target_ref']] = r['query_ref'] \n",
    "with open(output_dir + '/gene_info_dict.pkl', 'rb') as f:\n",
    "    gene_info_dict = pickle.load(f) \n",
    "with open(output_dir + '/names_dict.pkl', 'rb') as f:\n",
    "    names_dict = pickle.load(f) "
   ]
  },
  {
   "cell_type": "code",
   "execution_count": 143,
   "id": "c19c747d-1573-4738-ae41-b382a315dcfb",
   "metadata": {},
   "outputs": [],
   "source": [
    "refseq_downstream_dict = {}\n",
    "genome_record = next(SeqIO.parse(seq_dir + '/' + reference_species_filename, \"genbank\"))\n",
    "features = []\n",
    "for feature in genome_record.features:\n",
    "    if not(feature.type == 'gene'):\n",
    "        a = feature.qualifiers\n",
    "        if a.get(\"locus_tag\")!= None:\n",
    "            features.append((a.get(\"locus_tag\")[0], feature.type))\n",
    "for i,feature in enumerate(features):\n",
    "    if i+1 < len(features):\n",
    "        next_feature = features[i+1][1]\n",
    "        refseq_downstream_dict[feature[0]] = next_feature"
   ]
  },
  {
   "cell_type": "code",
   "execution_count": 144,
   "id": "c079972b-0c84-4a89-85d7-83fae443146e",
   "metadata": {},
   "outputs": [],
   "source": [
    "mycobrowser_df = pd.read_excel(datasets_dir+'/Mycobrowser_Release_4.xlsx')\n",
    "features = []\n",
    "for i, r in mycobrowser_df.iterrows():\n",
    "    features.append([r['Locus'],r['Start'], r['Product']])\n",
    "features.sort(key=lambda x: x[1])\n",
    "downstream_dict = {}\n",
    "for i, feature in enumerate(features):\n",
    "    if i + 1 < len(features):\n",
    "        downstream_dict[feature[0]] = (features[i+1][0])"
   ]
  },
  {
   "cell_type": "code",
   "execution_count": 59,
   "id": "61f021d7-8a73-49aa-bd7d-8ca7815e5756",
   "metadata": {},
   "outputs": [],
   "source": [
    "genome_record = next(SeqIO.parse(seq_dir + '/' + reference_species_filename, \"genbank\"))\n",
    "product_dict = {}\n",
    "for feature in genome_record.features:\n",
    "    if not(feature.type == 'gene'):\n",
    "        a = feature.qualifiers\n",
    "        if a.get(\"locus_tag\")!= None and a.get(\"product\")!=None:\n",
    "            product_dict[a.get(\"locus_tag\")[0]] = a.get(\"product\")[0]"
   ]
  },
  {
   "cell_type": "code",
   "execution_count": 160,
   "id": "1eed8e56-f6db-4fdf-a2ab-798c4acb16b6",
   "metadata": {},
   "outputs": [],
   "source": [
    "def generate_hit_dictionary(locus_id):\n",
    "    genome_record = next(SeqIO.parse(seq_dir + '/' + reference_species_filename, \"genbank\"))\n",
    "    full_sequence = str(genome_record.seq)\n",
    "    with open(r_scape_output_loc + '/' + locus_id + '/summary.txt', 'r') as f:  \n",
    "                    hit_dict = {}\n",
    "                    ref_count = 0\n",
    "                    tot_count = 0\n",
    "                    for l in f:\n",
    "                        if (not ('#' in l)):\n",
    "                            a = l.split()\n",
    "                            accession = a[0]\n",
    "                            species = names_dict[a[0]]\n",
    "                            seq_from = int(a[7])\n",
    "                            seq_to = int(a[8])\n",
    "                            seq_strand = a[9]\n",
    "                            significant = a[16]\n",
    "                            start = min(seq_from,seq_to)\n",
    "                            stop = max(seq_from,seq_to)\n",
    "                            if (significant == '!'):\n",
    "                                tot_count+=1\n",
    "                                feature_list = gene_info_dict[accession]  \n",
    "                                feature_list.sort(key=lambda x: x[1])\n",
    "                                max_pct_cover = -1\n",
    "                                max_feature = []\n",
    "                                for feature in feature_list:\n",
    "                                    if feature[1] > stop:      #No point to continue as subsequent features are all after the stop \n",
    "                                        continue\n",
    "                                    if feature[1] < (stop - 1) and feature[2] >= (start - 1):\n",
    "                                        len_feature = feature[2] - feature[1]\n",
    "                                        pct_cover = (min(feature[2], stop) - max(feature[1], start)) / (stop - start)\n",
    "                                        if pct_cover > 0.05 and len_feature < 100000:\n",
    "                                            if pct_cover > max_pct_cover:\n",
    "                                                max_feature = feature\n",
    "                                                max_pct_cover = pct_cover\n",
    "                                if len(max_feature) > 0:\n",
    "                                    if max_feature[0][-2:] == 'IG':\n",
    "                                        region_type = 'IG'\n",
    "                                        previous_gene = max_feature[3]\n",
    "                                        next_gene = max_feature[4]\n",
    "                                        previous_product = max_feature[5][0]\n",
    "                                        next_product = max_feature[5][1]\n",
    "                                        output = []\n",
    "                                        \n",
    "                                        if previous_gene[1] == 1:\n",
    "                                            output.append(('Upstream gene', previous_product, a[15], max_pct_cover, seq_from, seq_to)) \n",
    "                                        else:\n",
    "                                             output.append(('Downstream gene', previous_product, a[15], max_pct_cover, seq_from, seq_to))  \n",
    "\n",
    "                                        if next_gene[1] == 1:\n",
    "                                            output.append(('Downstream gene', next_product, a[15], max_pct_cover, seq_from, seq_to)) \n",
    "                                        else:\n",
    "                                            output.append(('Upstream gene', next_product, a[15], max_pct_cover, seq_from, seq_to))\n",
    "                                        \n",
    "                                        #if previous_gene[1] == 1:\n",
    "                                        #    output.append(('Upstream gene', ortholog_in_reference(accession + '@' + previous_gene[0], ref_ortholog_dict), a[15], max_pct_cover, seq_from, seq_to)) \n",
    "                                        #else:\n",
    "                                        #     output.append(('Downstream gene', ortholog_in_reference(accession + '@' + previous_gene[0], ref_ortholog_dict), a[15], max_pct_cover, seq_from, seq_to))  \n",
    "                                        #if next_gene[1] == 1:\n",
    "                                        #    output.append(('Downstream gene', ortholog_in_reference(accession + '@' + next_gene[0], ref_ortholog_dict), a[15], max_pct_cover, seq_from, seq_to)) \n",
    "                                        #else:\n",
    "                                        #    output.append(('Upstream gene', ortholog_in_reference(accession + '@' + next_gene[0], ref_ortholog_dict), a[15], max_pct_cover, seq_from, seq_to))\n",
    "                                        if species in hit_dict:\n",
    "                                            hit_dict[species] = hit_dict[species] + output\n",
    "                                        else:\n",
    "                                            hit_dict[species] = output\n",
    "    return hit_dict"
   ]
  },
  {
   "cell_type": "code",
   "execution_count": 161,
   "id": "e94296fa-ba52-452c-8fde-4d4aa0cefcbd",
   "metadata": {},
   "outputs": [],
   "source": [
    "def produce_region_info(id):\n",
    "    if os.path.isfile(r_scape_output_loc + '/' + id + '/rscape_3.cacofold.power'):\n",
    "        with open(r_scape_output_loc + '/' + id + '/rscape_3.cacofold.power', 'r') as f:\n",
    "            num_covarying = ''\n",
    "            num_expected = ''  \n",
    "            for l in f:\n",
    "                if 'BPAIRS observed' in l:\n",
    "                    num_covarying = int(l.split('covary ')[1])\n",
    "                if 'BPAIRS expected' in l:\n",
    "                    num_expected = (l.split('covary ')[1])\n",
    "                \n",
    "            with open(r_scape_output_loc + '/' + id + '/summary.txt', 'r') as f:  \n",
    "                rfam_overlaps = []\n",
    "                feature_overlaps = []\n",
    "                region_type_list = []\n",
    "                upstream_ortholog_list = []\n",
    "                downstream_ortholog_list = []\n",
    "                ref_count = 0\n",
    "                tot_count = 0\n",
    "                for l in f:\n",
    "                    if (not ('#' in l)):\n",
    "                        a = l.split()\n",
    "                        species = a[0]\n",
    "                        seq_from = int(a[7])\n",
    "                        seq_to = int(a[8])\n",
    "                        seq_strand = a[9]\n",
    "                        significant = a[16]\n",
    "                        start = min(seq_from,seq_to)\n",
    "                        stop = max(seq_from,seq_to)\n",
    "                        if (significant == '!'):\n",
    "                            tot_count+=1\n",
    "                            feature_list = gene_info_dict[species]  \n",
    "                            feature_list.sort(key=lambda x: x[1])\n",
    "                            max_pct_cover = -1\n",
    "                            max_feature = []\n",
    "                            for feature in feature_list:\n",
    "                                if feature[1] > stop:      #No point to continue as subsequent features are all after the stop \n",
    "                                    continue\n",
    "                                if feature[1] < (stop - 1) and feature[2] >= (start - 1):\n",
    "                                    len_feature = feature[2] - feature[1]\n",
    "                                    pct_cover = (min(feature[2], stop) - max(feature[1], start)) / (stop - start)\n",
    "                                    if pct_cover > 0.05 and len_feature < 100000:\n",
    "                                        if pct_cover > max_pct_cover:\n",
    "                                            max_feature = feature\n",
    "                                            max_pct_cover = pct_cover\n",
    "                                    if len(max_feature) > 0:\n",
    "                                        if max_feature[0][-2:] == 'IG':\n",
    "                                            region_type = 'IG'\n",
    "                                            previous_gene = max_feature[3]\n",
    "                                            next_gene = max_feature[4]\n",
    "                                            previous_product = max_feature[5][0]\n",
    "                                            next_product = max_feature[5][1]\n",
    "                                            upstream_genes = []\n",
    "                                            downstream_genes = []\n",
    "                                            upstream_orthologs = []\n",
    "                                            downstream_orthologs = []\n",
    "                                            #if previous_gene[1] == 1:\n",
    "                                            #    upstream_genes.append(previous_gene[0])\n",
    "                                            #else:\n",
    "                                            #    downstream_genes.append(previous_gene[0])\n",
    "                                            #if next_gene[1] == 1:\n",
    "                                            #    downstream_genes.append(next_gene[0])\n",
    "                                            #else:\n",
    "                                            #    upstream_genes.append(next_gene[0])\n",
    "                                        #    upstream_orthologs = [ortholog_in_reference(species+ '@' + x, ref_ortholog_dict) for x in upstream_genes]\n",
    "                                        #    downstream_orthologs = [ortholog_in_reference(species + '@' + x, ref_ortholog_dict) for x in downstream_genes]\n",
    "                                            if previous_gene[1] == 1:\n",
    "                                                upstream_genes.append(previous_product)\n",
    "                                            else:\n",
    "                                                downstream_genes.append(previous_product)\n",
    "                                            if next_gene[1] == 1:\n",
    "                                                downstream_genes.append(next_product)\n",
    "                                            else:\n",
    "                                                upstream_genes.append(next_product)\n",
    "                                            upstream_orthologs = upstream_genes\n",
    "                                            downstream_orthologs = downstream_genes\n",
    "                                        \n",
    "                                        \n",
    "                                        else:\n",
    "                                            region_type = 'G'\n",
    "                                        \n",
    "                                        region_type_list.append(region_type)\n",
    "                                        if region_type == 'IG':\n",
    "                                            upstream_ortholog_list.append(upstream_orthologs)\n",
    "                                            downstream_ortholog_list.append(downstream_orthologs)\n",
    "                                        \n",
    "                            # RFAM overlaps for reference hits\n",
    "                            if species == 'NC_000962.3':\n",
    "                                ref_count+=1\n",
    "                                for i, r in rfam_df.iterrows():\n",
    "                                    rfam_start = min(int(r['seq from']), int(r['seq to']))\n",
    "                                    rfam_stop = max(int(r['seq from']), int(r['seq to']))\n",
    "                                    pct_cover = (min(rfam_stop, stop) - max(rfam_start, start)) / (rfam_stop - rfam_start)\n",
    "                                    if pct_cover > 0.1:\n",
    "                                        rfam_overlaps.append((r.accession, r['description of target'], pct_cover))\n",
    "            \n",
    "            # Near covarying pairs - suggests not structural, possibly CDS\n",
    "            with open(r_scape_output_loc + '/' + id + '/rscape_3.cacofold.R2R.sto', 'r') as f: \n",
    "                r2r_near_pairs = 0\n",
    "                for l in f:\n",
    "                    if '#=GC SS_cons ' in l:\n",
    "                        for i in range(len(l)-2):\n",
    "                            if l[i:(i+2)] == '<>':\n",
    "                                r2r_near_pairs +=1\n",
    "        \n",
    "        if id in refseq_downstream_dict:\n",
    "            refseq_downstream = refseq_downstream_dict[id]\n",
    "        else:\n",
    "            refseq_downstream = ''\n",
    "        if len(region_type_list) > 0:\n",
    "            intergenic_pct = region_type_list.count('IG') / len(region_type_list)\n",
    "        else:\n",
    "            intergenic_pct = 0\n",
    "        return ([id, num_covarying, num_expected, ref_count, tot_count, intergenic_pct, r2r_near_pairs])\n",
    "    else:\n",
    "        return([id, 0 , 0, 0, 0, 0, 0])\n"
   ]
  },
  {
   "cell_type": "code",
   "execution_count": 3,
   "id": "a5da2aab-0577-4506-a50b-29aebf96cdc5",
   "metadata": {},
   "outputs": [],
   "source": [
    "def overlap_metric(positions_1, positions_2):\n",
    "    if len(positions_1) < len(positions_2):\n",
    "        a = positions_1\n",
    "        b = positions_2\n",
    "    else:\n",
    "        a = positions_2\n",
    "        b = positions_1\n",
    "    num_comparisons = len(a)\n",
    "    num_overlaps = 0\n",
    "    for coord_1 in a:\n",
    "        for coord_2 in b:\n",
    "            x, y = np.argsort(coord_1+coord_2)[:2] > 1\n",
    "            if x != y:\n",
    "                num_overlaps += 1\n",
    "                break\n",
    "    return 1 - num_overlaps / num_comparisons"
   ]
  },
  {
   "cell_type": "code",
   "execution_count": 4,
   "id": "3574cc3b-a5f4-4592-a93e-c87fb982ef7d",
   "metadata": {},
   "outputs": [
    {
     "data": {
      "text/plain": [
       "1821"
      ]
     },
     "execution_count": 4,
     "metadata": {},
     "output_type": "execute_result"
    }
   ],
   "source": [
    "ids =  util.list_dirs(r_scape_output_loc)\n",
    "len(ids)"
   ]
  },
  {
   "cell_type": "code",
   "execution_count": 5,
   "id": "2dd593d4-f5b0-4de1-90a5-3503b9a037d1",
   "metadata": {},
   "outputs": [
    {
     "data": {
      "text/plain": [
       "0.5"
      ]
     },
     "execution_count": 5,
     "metadata": {},
     "output_type": "execute_result"
    }
   ],
   "source": [
    "overlap_metric([[0,100],[2000,3000]], [[40,50],[250,450],[0,1]])"
   ]
  },
  {
   "cell_type": "code",
   "execution_count": 152,
   "id": "c3487234-a72f-475a-a289-07dc6de579b4",
   "metadata": {},
   "outputs": [],
   "source": [
    "positions_list = []\n",
    "for id in ids:\n",
    "    locus = id\n",
    "    if os.path.isfile(r_scape_output_loc + '/' + id + '/rscape_3.cacofold.power'):\n",
    "        with open(r_scape_output_loc + '/' + id + '/rscape_3.cacofold.power', 'r') as f:\n",
    "            positions = []\n",
    "            for l in f:\n",
    "                if 'BPAIRS observed' in l:\n",
    "                    if int(l.split('covary ')[1]) > 4:\n",
    "                        positions = []\n",
    "                        with open(r_scape_output_loc + '/' + id + '/summary.txt', 'r') as g:\n",
    "                             for l in g:\n",
    "                                if not(l[0] == '#'): \n",
    "                                    a = l.split()\n",
    "                                    if a[16] == '!':\n",
    "                                        if a[0] == 'NC_000962.3':\n",
    "                                            positions.append((min(int(a[7]),int(a[8])), max(int(a[7]),int(a[8]))))\n",
    "        if len(positions)>0:\n",
    "            positions = set(positions)\n",
    "            positions_list.append((locus, positions))\n",
    "    "
   ]
  },
  {
   "cell_type": "code",
   "execution_count": 171,
   "id": "512fc141-6967-4f7d-a201-1b2e10529c71",
   "metadata": {},
   "outputs": [],
   "source": [
    "ref_positions_dict = {}\n",
    "for pos in positions_list:\n",
    "    ref_positions_dict[pos[0]] = list(pos[1])"
   ]
  },
  {
   "cell_type": "code",
   "execution_count": 153,
   "id": "8881b298-ec80-431f-aaeb-cfb058a5fdaa",
   "metadata": {},
   "outputs": [],
   "source": [
    "distance_matrix = np.zeros((len(positions_list), len(positions_list)))\n",
    "for i, (locus, positions) in enumerate(positions_list):\n",
    "    for j, (locus_2, positions_2) in enumerate(positions_list):\n",
    "        distance_matrix[i,j] = overlap_metric(positions, positions_2)"
   ]
  },
  {
   "cell_type": "code",
   "execution_count": 154,
   "id": "b0d2b0c2-6e90-4783-83b2-62e23a9b24a2",
   "metadata": {},
   "outputs": [
    {
     "data": {
      "text/plain": [
       "array([ 31, 113, 130,  75,  28, 112, 111, 110, 109, 141, 108,  58,   2,\n",
       "         2, 107,   2,  28, 106, 105, 121, 104, 103,  14,  30, 102,  15,\n",
       "        15,  68,  28,  15,  15,  59,  33,  11, 101,  11,  99,  98,   2,\n",
       "         2,   2, 138,  15,  97,  32,  15, 122,  96,  95,  94,  93,  15,\n",
       "       123,  92,  34,  91,  90,   2,   6,  89,  13,  88,  87,  15,  86,\n",
       "         3,   3,   7,  85,  16,  14,  84,  62,  15,   4,  83,  82,  81,\n",
       "        15,  15,  14,  80, 126,  79,  15,  28,  78,  77,  76,  37,   2,\n",
       "         3,   2,  15,  15,  15,  65,  17,  15,  14,   1,   0, 140,  10,\n",
       "         6,  15,  74,  15,  73,   5,  72, 143,  16,  14,  16,  59, 142,\n",
       "        34,  15, 139,  15,   3,   2,   2, 137, 135,  71, 133, 131, 129,\n",
       "         9, 116, 127, 125,  58,   2,  60, 119, 117, 115, 114,  55,  54,\n",
       "         9,  53,  15,  30,  52,   5,  50,  15, 100,  48,  15,   2,  15,\n",
       "        32,  15,  15,  15,   1,  30,  34,   6,   1,  15,   2,  47,   8,\n",
       "         3,  46,  15,   0,  45,  44,   8,  15,  15,  62,  42,  41,  33,\n",
       "        65,  13,  13,   1,  15,  40,  10,  15,  39, 134,  15,  38,  15,\n",
       "        10, 118,  15,  17,  13,  35,  15,  10,  69,  10,   2,  70, 136,\n",
       "        14, 132,  10,  15,  15, 128,  66,  32,  16,  15, 124, 120,  64,\n",
       "         4,  15,  56,  15,   2,  26,  51,  15,  15,  15,  49,  23,  22,\n",
       "        43,  20,  14,  68,  18,  36,  15,   2,  15,  67,  29,  63,  61,\n",
       "        15,   2,   6,  57,  16,  14,  14,  15,  25,  24,  21,  15,   2,\n",
       "        28,  10,  14,  31,  29,  12,  19,  13,  27,   7], dtype=int64)"
      ]
     },
     "execution_count": 154,
     "metadata": {},
     "output_type": "execute_result"
    }
   ],
   "source": [
    "clustering = AgglomerativeClustering(affinity=\"precomputed\",  linkage = 'average', distance_threshold = 0.2, n_clusters = None).fit_predict(distance_matrix)\n",
    "clustering"
   ]
  },
  {
   "cell_type": "code",
   "execution_count": 155,
   "id": "646b0f76-a097-48a7-ab1a-9c287459c946",
   "metadata": {},
   "outputs": [
    {
     "data": {
      "text/plain": [
       "<AxesSubplot:ylabel='Count'>"
      ]
     },
     "execution_count": 155,
     "metadata": {},
     "output_type": "execute_result"
    },
    {
     "data": {
      "image/png": "[encoded data removed]",
      "text/plain": [
       "<Figure size 432x288 with 1 Axes>"
      ]
     },
     "metadata": {
      "needs_background": "light"
     },
     "output_type": "display_data"
    }
   ],
   "source": [
    "sns.histplot(data = clustering, bins = 100)"
   ]
  },
  {
   "cell_type": "code",
   "execution_count": 156,
   "id": "0df665f3-7e67-4a0d-9cb8-4126df58618c",
   "metadata": {},
   "outputs": [],
   "source": [
    "cluster_hits = []\n",
    "num_clusters = max(clustering) + 1\n",
    "for i in range(num_clusters):\n",
    "    num_members = 0\n",
    "    members = []\n",
    "    co_ords = []\n",
    "    largest_hits = 0\n",
    "    largest_hit_member = ''\n",
    "    largest_hit_positions = []\n",
    "    for j, clust in enumerate(clustering):\n",
    "        \n",
    "        if clust == i:\n",
    "            num_members +=1\n",
    "            members.append(positions_list[j][0])\n",
    "            if len(positions_list[j][1]) > largest_hits:\n",
    "                largest_hits = len(positions_list[j][1])\n",
    "                co_ords = positions_list[j][1]\n",
    "                largest_hit_member = positions_list[j][0]\n",
    "    cluster_hits.append([i, largest_hits/num_members, num_members, members, co_ords, largest_hit_member, largest_hits])"
   ]
  },
  {
   "cell_type": "code",
   "execution_count": 194,
   "id": "85accdfe-f1ed-4de6-8776-7a9a9787d009",
   "metadata": {},
   "outputs": [
    {
     "ename": "KeyboardInterrupt",
     "evalue": "",
     "output_type": "error",
     "traceback": [
      "\u001b[1;31m---------------------------------------------------------------------------\u001b[0m",
      "\u001b[1;31mKeyboardInterrupt\u001b[0m                         Traceback (most recent call last)",
      "\u001b[1;32m~\\AppData\\Local\\Temp/ipykernel_3188/2569946043.py\u001b[0m in \u001b[0;36m<module>\u001b[1;34m\u001b[0m\n\u001b[0;32m     16\u001b[0m         \u001b[1;32mcontinue\u001b[0m\u001b[1;33m\u001b[0m\u001b[1;33m\u001b[0m\u001b[0m\n\u001b[0;32m     17\u001b[0m \u001b[1;33m\u001b[0m\u001b[0m\n\u001b[1;32m---> 18\u001b[1;33m     \u001b[0mhit_dict\u001b[0m \u001b[1;33m=\u001b[0m \u001b[0mgenerate_hit_dictionary\u001b[0m\u001b[1;33m(\u001b[0m\u001b[0mrepresentative_member\u001b[0m\u001b[1;33m)\u001b[0m\u001b[1;33m\u001b[0m\u001b[1;33m\u001b[0m\u001b[0m\n\u001b[0m\u001b[0;32m     19\u001b[0m     \u001b[0mRFAM_hits\u001b[0m \u001b[1;33m=\u001b[0m \u001b[1;33m[\u001b[0m\u001b[1;33m]\u001b[0m\u001b[1;33m\u001b[0m\u001b[1;33m\u001b[0m\u001b[0m\n\u001b[0;32m     20\u001b[0m     \u001b[1;32mfor\u001b[0m \u001b[0mcoord\u001b[0m \u001b[1;32min\u001b[0m \u001b[0mcluster\u001b[0m\u001b[1;33m[\u001b[0m\u001b[1;36m4\u001b[0m\u001b[1;33m]\u001b[0m\u001b[1;33m:\u001b[0m\u001b[1;33m\u001b[0m\u001b[1;33m\u001b[0m\u001b[0m\n",
      "\u001b[1;32m~\\AppData\\Local\\Temp/ipykernel_3188/2900921727.py\u001b[0m in \u001b[0;36mgenerate_hit_dictionary\u001b[1;34m(locus_id)\u001b[0m\n\u001b[0;32m     26\u001b[0m                                     \u001b[1;32mif\u001b[0m \u001b[0mfeature\u001b[0m\u001b[1;33m[\u001b[0m\u001b[1;36m1\u001b[0m\u001b[1;33m]\u001b[0m \u001b[1;33m>\u001b[0m \u001b[0mstop\u001b[0m\u001b[1;33m:\u001b[0m      \u001b[1;31m#No point to continue as subsequent features are all after the stop\u001b[0m\u001b[1;33m\u001b[0m\u001b[1;33m\u001b[0m\u001b[0m\n\u001b[0;32m     27\u001b[0m                                         \u001b[1;32mcontinue\u001b[0m\u001b[1;33m\u001b[0m\u001b[1;33m\u001b[0m\u001b[0m\n\u001b[1;32m---> 28\u001b[1;33m                                     \u001b[1;32mif\u001b[0m \u001b[0mfeature\u001b[0m\u001b[1;33m[\u001b[0m\u001b[1;36m1\u001b[0m\u001b[1;33m]\u001b[0m \u001b[1;33m<\u001b[0m \u001b[1;33m(\u001b[0m\u001b[0mstop\u001b[0m \u001b[1;33m-\u001b[0m \u001b[1;36m1\u001b[0m\u001b[1;33m)\u001b[0m \u001b[1;32mand\u001b[0m \u001b[0mfeature\u001b[0m\u001b[1;33m[\u001b[0m\u001b[1;36m2\u001b[0m\u001b[1;33m]\u001b[0m \u001b[1;33m>=\u001b[0m \u001b[1;33m(\u001b[0m\u001b[0mstart\u001b[0m \u001b[1;33m-\u001b[0m \u001b[1;36m1\u001b[0m\u001b[1;33m)\u001b[0m\u001b[1;33m:\u001b[0m\u001b[1;33m\u001b[0m\u001b[1;33m\u001b[0m\u001b[0m\n\u001b[0m\u001b[0;32m     29\u001b[0m                                         \u001b[0mlen_feature\u001b[0m \u001b[1;33m=\u001b[0m \u001b[0mfeature\u001b[0m\u001b[1;33m[\u001b[0m\u001b[1;36m2\u001b[0m\u001b[1;33m]\u001b[0m \u001b[1;33m-\u001b[0m \u001b[0mfeature\u001b[0m\u001b[1;33m[\u001b[0m\u001b[1;36m1\u001b[0m\u001b[1;33m]\u001b[0m\u001b[1;33m\u001b[0m\u001b[1;33m\u001b[0m\u001b[0m\n\u001b[0;32m     30\u001b[0m                                         \u001b[0mpct_cover\u001b[0m \u001b[1;33m=\u001b[0m \u001b[1;33m(\u001b[0m\u001b[0mmin\u001b[0m\u001b[1;33m(\u001b[0m\u001b[0mfeature\u001b[0m\u001b[1;33m[\u001b[0m\u001b[1;36m2\u001b[0m\u001b[1;33m]\u001b[0m\u001b[1;33m,\u001b[0m \u001b[0mstop\u001b[0m\u001b[1;33m)\u001b[0m \u001b[1;33m-\u001b[0m \u001b[0mmax\u001b[0m\u001b[1;33m(\u001b[0m\u001b[0mfeature\u001b[0m\u001b[1;33m[\u001b[0m\u001b[1;36m1\u001b[0m\u001b[1;33m]\u001b[0m\u001b[1;33m,\u001b[0m \u001b[0mstart\u001b[0m\u001b[1;33m)\u001b[0m\u001b[1;33m)\u001b[0m \u001b[1;33m/\u001b[0m \u001b[1;33m(\u001b[0m\u001b[0mstop\u001b[0m \u001b[1;33m-\u001b[0m \u001b[0mstart\u001b[0m\u001b[1;33m)\u001b[0m\u001b[1;33m\u001b[0m\u001b[1;33m\u001b[0m\u001b[0m\n",
      "\u001b[1;31mKeyboardInterrupt\u001b[0m: "
     ]
    }
   ],
   "source": [
    "rfam_df = pd.read_excel(datasets_dir+'/RFAM_Hits_H37Rv_sorted.xlsx')\n",
    "temp_df_list = []\n",
    "for cluster in cluster_hits:\n",
    "    highest_covarying_bp = 0\n",
    "    highest_covarying_member = ''\n",
    "    highest_a = []\n",
    "    for member in cluster[3]:\n",
    "        a = produce_region_info(member)\n",
    "        if a[1]>highest_covarying_bp:\n",
    "            highest_covarying_bp = a[1]\n",
    "            highest_covarying_member = member\n",
    "            highest_a = a\n",
    "    #representative_member = cluster[5]\n",
    "    representative_member = highest_covarying_member\n",
    "    if a[5] < 0.5:\n",
    "        continue\n",
    "    \n",
    "    hit_dict = generate_hit_dictionary(representative_member)\n",
    "    RFAM_hits = [] \n",
    "    for coord in cluster[4]:\n",
    "        start_coord = min(coord[0], coord[1])\n",
    "        end_coord = max(coord[0], coord[1])\n",
    "        rfam_match = 0\n",
    "        for i, r in rfam_df.iterrows():\n",
    "            start = min(r['seq from'], r['seq to'])\n",
    "            stop = max(r['seq from'], r['seq to'])\n",
    "            match = 0\n",
    "            for feature in features:\n",
    "                if start_coord < stop and end_coord > start:\n",
    "                        RFAM_hits.append(r['target name'])\n",
    "                        rfam_match = 1\n",
    "                        break\n",
    "    if rfam_match == 0:\n",
    "       \n",
    "        print(cluster[0], cluster[2], cluster[3], representative_member, ref_positions_dict[representative_member])\n",
    "        region_info = produce_region_info(representative_member)\n",
    "        print(region_info)\n",
    "        print ('*******************')\n",
    "        upstream_dict = {}\n",
    "        downstream_dict = {}\n",
    "        for k, v in hit_dict.items():\n",
    "            for hit in v:\n",
    "                if hit[0] == 'Upstream gene':\n",
    "                    if hit[1] in upstream_dict:\n",
    "                        upstream_dict[hit[1]] +=1\n",
    "                    else:\n",
    "                        upstream_dict[hit[1]] = 1\n",
    "                else:\n",
    "                    if hit[1] in downstream_dict:\n",
    "                        downstream_dict[hit[1]] +=1\n",
    "                    else:\n",
    "                        downstream_dict[hit[1]] = 1\n",
    "        significant_downstream_products = []\n",
    "        significant_upstream_products = []\n",
    "        for k, v in dict(sorted(downstream_dict.items(), key = lambda x: x[1], reverse=True)).items():\n",
    "            if k == 'hypothetical protein': \n",
    "                pass\n",
    "            elif v>20:\n",
    "                significant_downstream_products.append((k, v))\n",
    "\n",
    "        for k, v in dict(sorted(upstream_dict.items(), key = lambda x: x[1], reverse=True)).items():\n",
    "            if k == 'hypothetical protein': \n",
    "                pass\n",
    "            elif v>20:\n",
    "                significant_downstream_products.append((k, v))\n",
    "        temp_df_list.append([cluster[0], cluster[2], cluster[3], representative_member, ref_positions_dict[representative_member], \n",
    "                            region_info[1], region_info[2], region_info[3],region_info[4], region_info[5], region_info[6],\n",
    "                            sorted(significant_downstream_products, key= lambda item: item[1], reverse = True), sorted(significant_upstream_products, key= lambda item: item[1], reverse = True)])\n",
    "\n",
    "cluster_info_df = pd.DataFrame(temp_df_list, columns = ['Cluster_ID', 'Number of Members' , 'Members', 'Representative', 'Hit Positions in Reference', 'BP_Covarying', 'Predicted_BP_Covarying', 'Num_Reference_Hits', 'Total_Hits', 'Intergenic_Pct', 'Near_BPs_covarying', \n",
    "                                                       'Significant_Downstream_Products', 'Significant_Upstream_Produts'])"
   ]
  },
  {
   "cell_type": "code",
   "execution_count": 193,
   "id": "bc55c43b-fcd0-4bb1-93e3-8fa91f43ab93",
   "metadata": {},
   "outputs": [
    {
     "name": "stdout",
     "output_type": "stream",
     "text": [
      "<bound method IndexOpsMixin.transpose of Cluster_ID                                                                                                                                                                              0\n",
      "Number of Members                                                                                                                                                                       2\n",
      "Members                                                                                                                                                                  [Rv1275, Rv2486]\n",
      "Representative                                                                                                                                                                     Rv2486\n",
      "Hit Positions in Reference         [(958452, 958520), (1133263, 1133330), (736227, 736295), (1425313, 1425381), (1064047, 1064115), (96889, 96957), (736230, 736298), (2795189, 2795255)]\n",
      "BP_Covarying                                                                                                                                                                           13\n",
      "Predicted_BP_Covarying                                                                                                                                                     20.6 +/- 1.4\\n\n",
      "Num_Reference_Hits                                                                                                                                                                      8\n",
      "Total_Hits                                                                                                                                                                            647\n",
      "Intergenic_Pct                                                                                                                                                                   0.934936\n",
      "Near_BPs_covarying                                                                                                                                                                      0\n",
      "Significant_Downstream_Products                                                                                                                                                        []\n",
      "Significant_Upstream_Produts                                                                                                                                                           []\n",
      "Name: 0, dtype: object>\n",
      "<bound method IndexOpsMixin.transpose of Cluster_ID                                                                                                                                                                                      1\n",
      "Number of Members                                                                                                                                                                               4\n",
      "Members                                                                                                                                                          [Rv1260, Rv2297, Rv2394, Rv2695]\n",
      "Representative                                                                                                                                                                             Rv2695\n",
      "Hit Positions in Reference         [(4159799, 4159872), (3012663, 3012737), (1017147, 1017221), (1197124, 1197198), (1409395, 1409469), (2991114, 2991188), (1198074, 1198148), (277769, 277843)]\n",
      "BP_Covarying                                                                                                                                                                                   26\n",
      "Predicted_BP_Covarying                                                                                                                                                             29.0 +/- 1.6\\n\n",
      "Num_Reference_Hits                                                                                                                                                                              8\n",
      "Total_Hits                                                                                                                                                                                    622\n",
      "Intergenic_Pct                                                                                                                                                                           0.808889\n",
      "Near_BPs_covarying                                                                                                                                                                              0\n",
      "Significant_Downstream_Products                                                                                                                               [(recombination mediator RecR, 21)]\n",
      "Significant_Upstream_Produts                                                                                                                                                                   []\n",
      "Name: 1, dtype: object>\n",
      "<bound method IndexOpsMixin.transpose of Cluster_ID                                                                                                                                                                                                                               2\n",
      "Number of Members                                                                                                                                                                                                                       19\n",
      "Members                                                               [MTB000141, MTB000150, Rv0006, Rv0480c, Rv0487, Rv0504c, Rv0823c, Rv1155, Rv1173, Rv1668c, Rv1682, Rv1866, Rv2196, Rv2405, Rv2945c, Rv3217c, Rv3401, Rv3505, Rv3680]\n",
      "Representative                                                                                                                                                                                                                     Rv1668c\n",
      "Hit Positions in Reference         [(2115620, 2115761), (3690943, 3691077), (3351086, 3351216), (1895459, 1895590), (577286, 577390), (1443358, 1443493), (3594349, 3594452), (2401808, 2401937), (577391, 577519), (1955569, 1955684),...\n",
      "BP_Covarying                                                                                                                                                                                                                            85\n",
      "Predicted_BP_Covarying                                                                                                                                                                                                      99.5 +/- 0.7\\n\n",
      "Num_Reference_Hits                                                                                                                                                                                                                      31\n",
      "Total_Hits                                                                                                                                                                                                                             612\n",
      "Intergenic_Pct                                                                                                                                                                                                                    0.797149\n",
      "Near_BPs_covarying                                                                                                                                                                                                                       3\n",
      "Significant_Downstream_Products                                                                                                                                                                                                         []\n",
      "Significant_Upstream_Produts                                                                                                                                                                                                            []\n",
      "Name: 2, dtype: object>\n",
      "<bound method IndexOpsMixin.transpose of Cluster_ID                                                                                                                                                                                                                               3\n",
      "Number of Members                                                                                                                                                                                                                        5\n",
      "Members                                                                                                                                                                                        [Rv0916c, Rv0937c, Rv1165, Rv1660, Rv2440c]\n",
      "Representative                                                                                                                                                                                                                     Rv0916c\n",
      "Hit Positions in Reference         [(177221, 177293), (3037375, 3037451), (3037368, 3037439), (3363197, 3363274), (1875215, 1875293), (3954250, 3954321), (3372483, 3372557), (1875230, 1875302), (3987298, 3987375), (1021848, 1021926...\n",
      "BP_Covarying                                                                                                                                                                                                                            32\n",
      "Predicted_BP_Covarying                                                                                                                                                                                                      33.4 +/- 1.7\\n\n",
      "Num_Reference_Hits                                                                                                                                                                                                                      25\n",
      "Total_Hits                                                                                                                                                                                                                             671\n",
      "Intergenic_Pct                                                                                                                                                                                                                    0.811608\n",
      "Near_BPs_covarying                                                                                                                                                                                                                       5\n",
      "Significant_Downstream_Products                                                                                                                           [(5-methyltetrahydropteroyltriglutamate-- homocysteine S-methyltransferase, 22)]\n",
      "Significant_Upstream_Produts                                                                                                                                                                                                            []\n",
      "Name: 3, dtype: object>\n",
      "<bound method IndexOpsMixin.transpose of Cluster_ID                                                                                                                                                                                                                               6\n",
      "Number of Members                                                                                                                                                                                                                        4\n",
      "Members                                                                                                                                                                                                   [Rv0833, Rv1301, Rv2359, Rv3516]\n",
      "Representative                                                                                                                                                                                                                      Rv2359\n",
      "Hit Positions in Reference         [(177230, 177299), (3954252, 3954321), (1662574, 1662643), (742562, 742631), (3954258, 3954327), (1653588, 1653657), (2642070, 2642140), (4317963, 4318032), (2850941, 2851012), (1833380, 1833449),...\n",
      "BP_Covarying                                                                                                                                                                                                                            21\n",
      "Predicted_BP_Covarying                                                                                                                                                                                                      23.5 +/- 1.6\\n\n",
      "Num_Reference_Hits                                                                                                                                                                                                                      20\n",
      "Total_Hits                                                                                                                                                                                                                             471\n",
      "Intergenic_Pct                                                                                                                                                                                                                    0.847826\n",
      "Near_BPs_covarying                                                                                                                                                                                                                       0\n",
      "Significant_Downstream_Products                                                                                                                                                                                                         []\n",
      "Significant_Upstream_Produts                                                                                                                                                                                                            []\n",
      "Name: 4, dtype: object>\n"
     ]
    }
   ],
   "source": [
    "pd.set_option('display.max_colwidth', 200)\n",
    "for i, r in cluster_info_df.iterrows():\n",
    "    a = r.transpose\n",
    "    print(a)"
   ]
  },
  {
   "cell_type": "code",
   "execution_count": 13,
   "id": "76065f45-d555-4e07-9a5c-028a1a1bb0e4",
   "metadata": {},
   "outputs": [
    {
     "data": {
      "text/plain": [
       "<AxesSubplot:ylabel='Count'>"
      ]
     },
     "execution_count": 13,
     "metadata": {},
     "output_type": "execute_result"
    },
    {
     "data": {
      "image/png": "[encoded data removed]",
      "text/plain": [
       "<Figure size 432x288 with 1 Axes>"
      ]
     },
     "metadata": {
      "needs_background": "light"
     },
     "output_type": "display_data"
    }
   ],
   "source": [
    "sns.histplot(data = clustering, bins = 100)"
   ]
  },
  {
   "cell_type": "code",
   "execution_count": 92,
   "id": "28d157d1-320e-497d-b7ad-6e649d24313a",
   "metadata": {},
   "outputs": [],
   "source": [
    "mycobrowser_df = pd.read_excel(datasets_dir+'/Mycobrowser_Release_4.xlsx')\n",
    "features = []\n",
    "for i, r in mycobrowser_df.iterrows():\n",
    "    features.append([r['Locus'],r['Start'], r['Stop'], r['Product']])"
   ]
  },
  {
   "cell_type": "code",
   "execution_count": 93,
   "id": "1edfba93-6a61-491e-b6e2-f6d8ff3712dc",
   "metadata": {},
   "outputs": [],
   "source": [
    "rfam_df = pd.read_excel(datasets_dir+'/RFAM_Hits_H37Rv_sorted.xlsx')"
   ]
  },
  {
   "cell_type": "code",
   "execution_count": 100,
   "id": "cf5079ff-89cf-44a5-a777-f299ac0b1730",
   "metadata": {},
   "outputs": [
    {
     "name": "stdout",
     "output_type": "stream",
     "text": [
      "82 Glycine\n",
      "25 ydaO-yuaA\n",
      "17 Cobalamin\n",
      "13 M-box\n",
      "21 SAM-IV\n",
      "22 group-II-D1D4-4\n"
     ]
    }
   ],
   "source": [
    "rfam_df = pd.read_excel(datasets_dir+'/RFAM_Hits_H37Rv_sorted.xlsx')\n",
    "for i, r in rfam_df.iterrows():\n",
    "    start = min(r['seq from'], r['seq to'])\n",
    "    stop = max(r['seq from'], r['seq to'])\n",
    "    match = 0\n",
    "    for feature in features:\n",
    "        if feature[1] < stop and feature[2] > start:\n",
    "                match = 1\n",
    "    if match == 0:\n",
    "        print(r['#idx'], r['target name'], r[')\n",
    "    "
   ]
  },
  {
   "cell_type": "code",
   "execution_count": null,
   "id": "a06cca85-4eb2-4ccf-972e-5209ca7e6487",
   "metadata": {},
   "outputs": [],
   "source": []
  }
 ],
 "metadata": {
  "kernelspec": {
   "display_name": "Python 3 (ipykernel)",
   "language": "python",
   "name": "python3"
  },
  "language_info": {
   "codemirror_mode": {
    "name": "ipython",
    "version": 3
   },
   "file_extension": ".py",
   "mimetype": "text/x-python",
   "name": "python",
   "nbconvert_exporter": "python",
   "pygments_lexer": "ipython3",
   "version": "3.9.7"
  }
 },
 "nbformat": 4,
 "nbformat_minor": 5
}
