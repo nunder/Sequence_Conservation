{
 "cells": [
  {
   "cell_type": "markdown",
   "id": "b1e30ed4-8a0e-4a6f-96eb-dfe116dfb2de",
   "metadata": {},
   "source": [
    "#### Directories etc"
   ]
  },
  {
   "cell_type": "code",
   "execution_count": 2,
   "id": "cf9c6377-5080-4c22-94db-feabe17cc47c",
   "metadata": {},
   "outputs": [
    {
     "name": "stderr",
     "output_type": "stream",
     "text": [
      "C:\\Users\\nicho\\Anaconda3\\envs\\Bioinformatics\\lib\\site-packages\\ete3-3.1.2-py3.7.egg\\ete3\\evol\\parser\\codemlparser.py:221: SyntaxWarning: \"is\" with a literal. Did you mean \"==\"?\n",
      "C:\\Users\\nicho\\Anaconda3\\envs\\Bioinformatics\\lib\\site-packages\\ete3-3.1.2-py3.7.egg\\ete3\\evol\\parser\\codemlparser.py:221: SyntaxWarning: \"is\" with a literal. Did you mean \"==\"?\n"
     ]
    }
   ],
   "source": [
    "import pandas as pd\n",
    "import pickle\n",
    "import seaborn as sns\n",
    "import matplotlib.pyplot as plt\n",
    "import numpy as np\n",
    "from scipy.fft import fft, fftfreq\n",
    "from Bio import Entrez, SeqIO, AlignIO, pairwise2, Align, Seq, motifs\n",
    "from Bio.Seq import Seq\n",
    "from Bio.SeqFeature import SeqFeature, FeatureLocation\n",
    "from scipy.stats import binom\n",
    "import math\n",
    "import random\n",
    "from tqdm import tqdm\n",
    "from Comparative_Analysis import Utilities as util\n",
    "from collections import defaultdict\n",
    "import random\n",
    "from joblib import Parallel, delayed\n",
    "from Comparative_Analysis import Blast_Functions as blastfn\n",
    "import time\n",
    "import os\n",
    "import copy\n",
    "from Comparative_Analysis import ORF_Functions as orffn\n",
    "from random import sample\n",
    "pd.options.mode.chained_assignment = None  # default='warn'\n",
    "import ete3\n",
    "import matplotlib.pyplot as plt\n",
    "from statistics import mode\n",
    "from scipy.stats import chi2\n",
    "import subprocess"
   ]
  },
  {
   "cell_type": "code",
   "execution_count": 3,
   "id": "1988a242-f558-4643-b3a9-27272fa7bebc",
   "metadata": {},
   "outputs": [],
   "source": [
    "project_dir = 'F:/Project_Data/Project_11'\n",
    "seq_dir = 'F:/Datasets/Actinobacteria_Ref_Rep_Lev_Complete'\n",
    "dictionary_dir = 'F:/Datasets/CRYPTIC_DATA/Cryptic_Dictionaries'\n",
    "tb_species = 'NC_000962.3' \n",
    "tb_genome_filename = 'GCF_000195955.2_ASM19595v2_genomic.gbff'\n",
    "mycobrowser_dir = 'F:/Datasets/Data_From_Publications'\n",
    "num_cores = 16\n",
    "core_numbers = list(range(1, num_cores+1))"
   ]
  },
  {
   "cell_type": "code",
   "execution_count": 4,
   "id": "d39fe86c-bc60-4b04-a35a-41372a27e1e1",
   "metadata": {},
   "outputs": [],
   "source": [
    "for record in SeqIO.parse(seq_dir + '/' + tb_genome_filename, \"genbank\"):\n",
    "    full_sequence = str(record.seq)"
   ]
  },
  {
   "cell_type": "code",
   "execution_count": 5,
   "id": "27d84185-75a4-49ee-8bc9-5609cc91a4ad",
   "metadata": {},
   "outputs": [],
   "source": [
    "with open(project_dir + '/Thoth_Full_Run/zero_and_non_zero_mutation_counts.pkl', 'rb') as f:\n",
    "    full_sample_zero_and_non_zero_mutation_counts = pickle.load(f)  "
   ]
  },
  {
   "cell_type": "code",
   "execution_count": 6,
   "id": "8646772c-1c92-4e40-aab6-51f09c700b57",
   "metadata": {},
   "outputs": [],
   "source": [
    "compass_df = pd.read_csv('F:/Datasets/CRYPTIC_DATA/COMPASS.csv', names = ['species', 'start', 'stop','count'])\n",
    "compass_dict = {}\n",
    "for i, r in compass_df.iterrows():\n",
    "    for k in range(r['start'], r['stop']):     #  Should te start-1 but seems to ve inconsistency with mutations!!\n",
    "        compass_dict[k] = 'Y'"
   ]
  },
  {
   "cell_type": "code",
   "execution_count": 7,
   "id": "fb509bdd-e5bd-420e-9ecf-262e1e719a1c",
   "metadata": {},
   "outputs": [],
   "source": [
    "mycobrowser_df = pd.read_excel(mycobrowser_dir+'/Mycobrowser_Release_4.xlsx')\n",
    "temp_cds = mycobrowser_df[mycobrowser_df['Feature'] == 'CDS'][['Locus','Start','Stop','Strand','Product','Name','Functional_Category','Gene Ontology']]      #Just CDS\n",
    "mycobrowser_cds_boundaries = []\n",
    "for i, r in temp_cds.iterrows():\n",
    "    if r['Strand'] == '+':\n",
    "        strand = 1\n",
    "    else:\n",
    "        strand = -1\n",
    "    mycobrowser_cds_boundaries.append((r['Locus'],r['Product'], r['Start']-1, r['Stop'], strand, r['Name'], r['Functional_Category'], r['Gene Ontology']))\n",
    "mycobrowser_cds_boundaries.sort(key = lambda x: x[2])"
   ]
  },
  {
   "cell_type": "code",
   "execution_count": 8,
   "id": "87fc3ab4-7e83-419b-9916-807a11824c3e",
   "metadata": {},
   "outputs": [],
   "source": [
    "def bin_formula(position_3_counts, tot_bin_counts):\n",
    "    return 1- binom.cdf(position_3_counts-1, tot_bin_counts,1/3)"
   ]
  },
  {
   "cell_type": "code",
   "execution_count": 9,
   "id": "14ffddf4-09ab-4309-b228-58b58bd60ef9",
   "metadata": {},
   "outputs": [],
   "source": [
    "def process_blast_output(infile_loc):\n",
    "    trans = util.Translator()\n",
    "    blast_results = pd.read_csv(infile_loc, header = None)\n",
    "    blast_results.columns = ['query_accession_ver', 'subject_accession_ver', 'query_length', 'subject_length', 'percent_identical_matches','alignment_length', 'number_mismatches', 'number_of_gap_openings', 'query_start_alignment', 'query_end_alignment', 'subject_start_alignment', 'subject_end_alignment', 'e_value', 'bit_score']\n",
    "    for i, r in blast_results.iterrows():\n",
    "        if '@' in r.query_accession_ver:\n",
    "            blast_results.at[i, 'query_species'] = (r.query_accession_ver.split('@')[0])\n",
    "        else:\n",
    "            blast_results.at[i, 'query_species'] = '_'.join(r.query_accession_ver.split('_')[0:2])\n",
    "        if '@' in r.subject_accession_ver:\n",
    "            blast_results.at[i, 'subject_species'] = (r.subject_accession_ver.split('@')[0])\n",
    "        else:\n",
    "            blast_results.at[i, 'subject_species'] = '_'.join(r.subject_accession_ver.split('_')[0:2])\n",
    "    #blast_results = blast_results.query('not (query_species == subject_species)')\n",
    "    blast_results = blast_results.loc[blast_results.groupby(['query_accession_ver','subject_species'])['bit_score'].idxmax()]\n",
    "    return blast_results"
   ]
  },
  {
   "cell_type": "code",
   "execution_count": 10,
   "id": "f6e4601d-3cf3-49a3-8096-ffcd639fb374",
   "metadata": {},
   "outputs": [],
   "source": [
    "def keep_reciprocal_best_hits(query_df, reverse_query_df):\n",
    "    temp_1_dict = {}\n",
    "    temp_2_dict = {}\n",
    "    for i, r in query_df.iterrows():\n",
    "        temp_1_dict[r['query_accession_ver']] = r['subject_accession_ver']\n",
    "    for i, r in reverse_query_df.iterrows():\n",
    "        temp_2_dict[r['query_accession_ver']] = r['subject_accession_ver']\n",
    "    for i, r in query_df.iterrows():\n",
    "        if temp_1_dict[r['query_accession_ver']] in temp_2_dict and temp_2_dict[temp_1_dict[r['query_accession_ver']]] == r['query_accession_ver']:\n",
    "            query_df.at[i, 'reciprocal_best_hit'] = 'Y'\n",
    "        else:\n",
    "            query_df.at[i, 'reciprocal_best_hit'] = 'N'\n",
    "    output = query_df[query_df.reciprocal_best_hit == 'Y'] \n",
    "    output['species_count'] = output.groupby('query_accession_ver')['query_accession_ver'].transform('size')\n",
    "    return output"
   ]
  },
  {
   "cell_type": "code",
   "execution_count": 11,
   "id": "4a8f6b8b-04c5-4a3f-99ee-86a1f2bb96fb",
   "metadata": {},
   "outputs": [],
   "source": [
    "def compass_coverage(start, stop):\n",
    "    compass_overlap = 0\n",
    "    for i in range(start, stop):\n",
    "        if i in compass_dict:\n",
    "            compass_overlap += 1\n",
    "    return (compass_overlap/(stop - start))"
   ]
  },
  {
   "cell_type": "code",
   "execution_count": 57,
   "id": "e500ad6d-eb3f-4fd5-9c22-089d479b1152",
   "metadata": {},
   "outputs": [],
   "source": [
    "def show_bin_counts(mutationcounts):\n",
    "    bin_counts = [0,0,0]\n",
    "    total_compass_overlap = 0\n",
    "    for n in range(int(len(mutationcounts)/3)):\n",
    "        temp_counts = [0,0,0]\n",
    "        compass_overlap = 0\n",
    "        for m in range(3): \n",
    "            if start+3*n+m in compass_dict:\n",
    "                compass_overlap += 1\n",
    "                total_compass_overlap += 1\n",
    "            temp_counts[m % 3] = mutationcounts[3*n+m]\n",
    "        if sum(temp_counts) < 10 and compass_overlap == 0:\n",
    "            for m in range(3):\n",
    "                bin_counts[m] += temp_counts[m]\n",
    "    return (bin_counts, sum(bin_counts)/len(mutation_counts), total_compass_overlap / len(mutation_counts))"
   ]
  },
  {
   "cell_type": "code",
   "execution_count": 195,
   "id": "edb36c95-313b-4252-a7a3-28c5d5c6b510",
   "metadata": {},
   "outputs": [],
   "source": [
    "def score_region(mutationcounts, start):\n",
    "    bin_counts = [0,0,0]\n",
    "    for n in range(int(len(mutationcounts)/3)):\n",
    "        temp_counts = [0,0,0]\n",
    "        compass_overlap = 0\n",
    "        for m in range(3): \n",
    "            if start+3*n+m in compass_dict:\n",
    "                compass_overlap = 1\n",
    "            temp_counts[m % 3] = mutationcounts[3*n+m]\n",
    "        if sum(temp_counts) < 10 and compass_overlap == 0:\n",
    "            for m in range(3):\n",
    "                bin_counts[m] += temp_counts[m]\n",
    "    return bin_formula(bin_counts[2], sum(bin_counts))"
   ]
  },
  {
   "cell_type": "markdown",
   "id": "b75a04cd-8bc9-43f6-89d4-51c9233e9828",
   "metadata": {},
   "source": [
    "#### Mycobrowswer annotated CDS regions"
   ]
  },
  {
   "cell_type": "code",
   "execution_count": 52,
   "id": "bcd1dda4-241f-4f88-87b8-0aa71e5912e8",
   "metadata": {},
   "outputs": [
    {
     "data": {
      "text/plain": [
       "[Text(0.5, 0, 'P-value'),\n",
       " Text(0, 0.5, 'Cumulative Proportion'),\n",
       " Text(0.5, 1.0, '')]"
      ]
     },
     "execution_count": 52,
     "metadata": {},
     "output_type": "execute_result"
    },
    {
     "data": {
      "image/png": "[encoded data removed]",
      "text/plain": [
       "<Figure size 432x288 with 1 Axes>"
      ]
     },
     "metadata": {
      "needs_background": "light"
     },
     "output_type": "display_data"
    }
   ],
   "source": [
    "scores =[]\n",
    "for (locus, product, start, stop, strand, name, functional_category, gene_ontology) in mycobrowser_cds_boundaries: \n",
    "    if compass_coverage(start, stop) > 0.5:\n",
    "        continue\n",
    "    mutation_counts = full_sample_zero_and_non_zero_mutation_counts[start:stop]\n",
    "    if strand == 1:\n",
    "        mutation_counts_2 = mutation_counts\n",
    "    else:\n",
    "        mutation_counts_2 = list(reversed(mutation_counts))\n",
    "    scores.append(score_region(mutation_counts_2, start))\n",
    "    #if score_region(mutation_counts_2) < 0.5:\n",
    "    #    print(locus, show_bin_counts(mutation_counts_2))\n",
    "a = sns.ecdfplot(scores)\n",
    "a.set(xlabel =\"P-value\", ylabel = \"Cumulative Proportion\", title ='')"
   ]
  },
  {
   "cell_type": "code",
   "execution_count": 56,
   "id": "a29b273b-2f2d-4279-8453-58f5e4d751da",
   "metadata": {},
   "outputs": [
    {
     "data": {
      "text/plain": [
       "0.6500920810313076"
      ]
     },
     "execution_count": 56,
     "metadata": {},
     "output_type": "execute_result"
    }
   ],
   "source": [
    "len([x for x in scores if x < 0.0000001])/len(scores)"
   ]
  },
  {
   "cell_type": "markdown",
   "id": "b7d877ea-2a91-4255-bc4c-ee4c9ef5862c",
   "metadata": {},
   "source": [
    "####  Random positions"
   ]
  },
  {
   "cell_type": "code",
   "execution_count": 58,
   "id": "061c1fa0-2380-4581-be33-6659ca9dcca7",
   "metadata": {},
   "outputs": [
    {
     "name": "stderr",
     "output_type": "stream",
     "text": [
      "4411532it [00:01, 3187418.10it/s]\n"
     ]
    },
    {
     "data": {
      "text/plain": [
       "4086561"
      ]
     },
     "execution_count": 58,
     "metadata": {},
     "output_type": "execute_result"
    }
   ],
   "source": [
    "unmasked_zero_and_non_zero_mutation_counts = []\n",
    "for n, c in tqdm(enumerate(full_sample_zero_and_non_zero_mutation_counts)):\n",
    "    if n in compass_dict:\n",
    "        continue\n",
    "    else:\n",
    "        unmasked_zero_and_non_zero_mutation_counts.append(c)\n",
    "len(unmasked_zero_and_non_zero_mutation_counts)"
   ]
  },
  {
   "cell_type": "code",
   "execution_count": 59,
   "id": "fc0e298d-9e82-4a43-bbc2-5af3848da01f",
   "metadata": {},
   "outputs": [
    {
     "data": {
      "text/plain": [
       "1.9051026033870533"
      ]
     },
     "execution_count": 59,
     "metadata": {},
     "output_type": "execute_result"
    }
   ],
   "source": [
    "sum(unmasked_zero_and_non_zero_mutation_counts)/len(unmasked_zero_and_non_zero_mutation_counts)"
   ]
  },
  {
   "cell_type": "code",
   "execution_count": 27,
   "id": "280d84f0-4737-4713-953a-e27f46264d1e",
   "metadata": {},
   "outputs": [
    {
     "name": "stdout",
     "output_type": "stream",
     "text": [
      "[7]\n"
     ]
    }
   ],
   "source": []
  },
  {
   "cell_type": "code",
   "execution_count": 106,
   "id": "482a86a5-040d-40b1-b5de-c2056cd3a0da",
   "metadata": {},
   "outputs": [
    {
     "data": {
      "text/plain": [
       "[Text(0.5, 0, 'P-value'),\n",
       " Text(0, 0.5, 'Cumulative Proportion'),\n",
       " Text(0.5, 1.0, '')]"
      ]
     },
     "execution_count": 106,
     "metadata": {},
     "output_type": "execute_result"
    },
    {
     "data": {
      "image/png": "[encoded data removed]",
      "text/plain": [
       "<Figure size 432x288 with 1 Axes>"
      ]
     },
     "metadata": {
      "needs_background": "light"
     },
     "output_type": "display_data"
    }
   ],
   "source": [
    "scores_2 = []\n",
    "for x in range(10000):\n",
    "    sample = random.sample(unmasked_zero_and_non_zero_mutation_counts, 1000)\n",
    "    tot = sum(sample)\n",
    "    r = binom.rvs(tot, 1/3, size=1)[0]\n",
    "    s = tot - r\n",
    "    scores_2.append(['Theoretical', bin_formula(r, tot)])\n",
    "    scores_2.append(['Empirical', score_region(sample, 0)])\n",
    "temp = pd.DataFrame(scores_2, columns = ['Sample_Type','Score'])\n",
    "a = sns.ecdfplot(data = temp, x = 'Score', hue = 'Sample_Type')\n",
    "a.set(xlabel =\"P-value\", ylabel = \"Cumulative Proportion\", title ='')\n",
    "#plt.xscale('log')"
   ]
  },
  {
   "cell_type": "code",
   "execution_count": 107,
   "id": "0ab82174-350a-4728-ae5d-4c7147e2ced7",
   "metadata": {},
   "outputs": [
    {
     "data": {
      "text/plain": [
       "['Empirical', 0.00014186168596275195]"
      ]
     },
     "execution_count": 107,
     "metadata": {},
     "output_type": "execute_result"
    }
   ],
   "source": [
    "scores_2.sort()\n",
    "scores_2[int(10000 * 0.01)]"
   ]
  },
  {
   "cell_type": "code",
   "execution_count": 101,
   "id": "4dd3a9c6-ab2e-4443-a80b-6aad15a6fcb4",
   "metadata": {},
   "outputs": [
    {
     "ename": "TypeError",
     "evalue": "'NoneType' object is not iterable",
     "output_type": "error",
     "traceback": [
      "\u001b[1;31m---------------------------------------------------------------------------\u001b[0m",
      "\u001b[1;31mTypeError\u001b[0m                                 Traceback (most recent call last)",
      "\u001b[1;32m~\\AppData\\Local\\Temp/ipykernel_27572/1545602545.py\u001b[0m in \u001b[0;36m<module>\u001b[1;34m\u001b[0m\n\u001b[1;32m----> 1\u001b[1;33m \u001b[0ma\u001b[0m \u001b[1;33m=\u001b[0m \u001b[0msns\u001b[0m\u001b[1;33m.\u001b[0m\u001b[0mecdfplot\u001b[0m\u001b[1;33m(\u001b[0m\u001b[0mscores_2\u001b[0m\u001b[1;33m)\u001b[0m\u001b[1;33m\u001b[0m\u001b[1;33m\u001b[0m\u001b[0m\n\u001b[0m\u001b[0;32m      2\u001b[0m \u001b[0ma\u001b[0m\u001b[1;33m.\u001b[0m\u001b[0mset\u001b[0m\u001b[1;33m(\u001b[0m\u001b[0mxlabel\u001b[0m \u001b[1;33m=\u001b[0m\u001b[1;34m\"P-value\"\u001b[0m\u001b[1;33m,\u001b[0m \u001b[0mylabel\u001b[0m \u001b[1;33m=\u001b[0m \u001b[1;34m\"Cumulative Proportion\"\u001b[0m\u001b[1;33m,\u001b[0m \u001b[0mtitle\u001b[0m \u001b[1;33m=\u001b[0m\u001b[1;34m''\u001b[0m\u001b[1;33m)\u001b[0m\u001b[1;33m\u001b[0m\u001b[1;33m\u001b[0m\u001b[0m\n\u001b[0;32m      3\u001b[0m \u001b[0mplt\u001b[0m\u001b[1;33m.\u001b[0m\u001b[0mxscale\u001b[0m\u001b[1;33m(\u001b[0m\u001b[1;34m'log'\u001b[0m\u001b[1;33m)\u001b[0m\u001b[1;33m\u001b[0m\u001b[1;33m\u001b[0m\u001b[0m\n",
      "\u001b[1;32m~\\Anaconda3\\envs\\Bioinformatics\\lib\\site-packages\\seaborn\\distributions.py\u001b[0m in \u001b[0;36mecdfplot\u001b[1;34m(data, x, y, hue, weights, stat, complementary, palette, hue_order, hue_norm, log_scale, legend, ax, **kwargs)\u001b[0m\n\u001b[0;32m   1950\u001b[0m     )\n\u001b[0;32m   1951\u001b[0m \u001b[1;33m\u001b[0m\u001b[0m\n\u001b[1;32m-> 1952\u001b[1;33m     p.plot_univariate_ecdf(\n\u001b[0m\u001b[0;32m   1953\u001b[0m         \u001b[0mestimate_kws\u001b[0m\u001b[1;33m=\u001b[0m\u001b[0mestimate_kws\u001b[0m\u001b[1;33m,\u001b[0m\u001b[1;33m\u001b[0m\u001b[1;33m\u001b[0m\u001b[0m\n\u001b[0;32m   1954\u001b[0m         \u001b[0mlegend\u001b[0m\u001b[1;33m=\u001b[0m\u001b[0mlegend\u001b[0m\u001b[1;33m,\u001b[0m\u001b[1;33m\u001b[0m\u001b[1;33m\u001b[0m\u001b[0m\n",
      "\u001b[1;32m~\\Anaconda3\\envs\\Bioinformatics\\lib\\site-packages\\seaborn\\distributions.py\u001b[0m in \u001b[0;36mplot_univariate_ecdf\u001b[1;34m(self, estimate_kws, legend, **plot_kws)\u001b[0m\n\u001b[0;32m   1225\u001b[0m \u001b[1;33m\u001b[0m\u001b[0m\n\u001b[0;32m   1226\u001b[0m         \u001b[1;31m# Loop through the subsets, transform and plot the data\u001b[0m\u001b[1;33m\u001b[0m\u001b[1;33m\u001b[0m\u001b[0m\n\u001b[1;32m-> 1227\u001b[1;33m         for sub_vars, sub_data in self.iter_data(\n\u001b[0m\u001b[0;32m   1228\u001b[0m             \u001b[1;34m\"hue\"\u001b[0m\u001b[1;33m,\u001b[0m \u001b[0mreverse\u001b[0m\u001b[1;33m=\u001b[0m\u001b[1;32mTrue\u001b[0m\u001b[1;33m,\u001b[0m \u001b[0mfrom_comp_data\u001b[0m\u001b[1;33m=\u001b[0m\u001b[1;32mTrue\u001b[0m\u001b[1;33m,\u001b[0m\u001b[1;33m\u001b[0m\u001b[1;33m\u001b[0m\u001b[0m\n\u001b[0;32m   1229\u001b[0m         ):\n",
      "\u001b[1;32m~\\Anaconda3\\envs\\Bioinformatics\\lib\\site-packages\\seaborn\\_core.py\u001b[0m in \u001b[0;36miter_data\u001b[1;34m(self, grouping_vars, reverse, from_comp_data)\u001b[0m\n\u001b[0;32m    979\u001b[0m                 \u001b[0mgrouping_keys\u001b[0m\u001b[1;33m.\u001b[0m\u001b[0mappend\u001b[0m\u001b[1;33m(\u001b[0m\u001b[0mself\u001b[0m\u001b[1;33m.\u001b[0m\u001b[0mvar_levels\u001b[0m\u001b[1;33m.\u001b[0m\u001b[0mget\u001b[0m\u001b[1;33m(\u001b[0m\u001b[0mvar\u001b[0m\u001b[1;33m,\u001b[0m \u001b[1;33m[\u001b[0m\u001b[1;33m]\u001b[0m\u001b[1;33m)\u001b[0m\u001b[1;33m)\u001b[0m\u001b[1;33m\u001b[0m\u001b[1;33m\u001b[0m\u001b[0m\n\u001b[0;32m    980\u001b[0m \u001b[1;33m\u001b[0m\u001b[0m\n\u001b[1;32m--> 981\u001b[1;33m             \u001b[0miter_keys\u001b[0m \u001b[1;33m=\u001b[0m \u001b[0mitertools\u001b[0m\u001b[1;33m.\u001b[0m\u001b[0mproduct\u001b[0m\u001b[1;33m(\u001b[0m\u001b[1;33m*\u001b[0m\u001b[0mgrouping_keys\u001b[0m\u001b[1;33m)\u001b[0m\u001b[1;33m\u001b[0m\u001b[1;33m\u001b[0m\u001b[0m\n\u001b[0m\u001b[0;32m    982\u001b[0m             \u001b[1;32mif\u001b[0m \u001b[0mreverse\u001b[0m\u001b[1;33m:\u001b[0m\u001b[1;33m\u001b[0m\u001b[1;33m\u001b[0m\u001b[0m\n\u001b[0;32m    983\u001b[0m                 \u001b[0miter_keys\u001b[0m \u001b[1;33m=\u001b[0m \u001b[0mreversed\u001b[0m\u001b[1;33m(\u001b[0m\u001b[0mlist\u001b[0m\u001b[1;33m(\u001b[0m\u001b[0miter_keys\u001b[0m\u001b[1;33m)\u001b[0m\u001b[1;33m)\u001b[0m\u001b[1;33m\u001b[0m\u001b[1;33m\u001b[0m\u001b[0m\n",
      "\u001b[1;31mTypeError\u001b[0m: 'NoneType' object is not iterable"
     ]
    },
    {
     "data": {
      "image/png": "[encoded data removed]",
      "text/plain": [
       "<Figure size 432x288 with 1 Axes>"
      ]
     },
     "metadata": {
      "needs_background": "light"
     },
     "output_type": "display_data"
    }
   ],
   "source": [
    "a = sns.ecdfplot(scores_2)\n",
    "a.set(xlabel =\"P-value\", ylabel = \"Cumulative Proportion\", title ='')\n",
    "plt.xscale('log')"
   ]
  },
  {
   "cell_type": "markdown",
   "id": "6fe37369-7ed9-4100-9197-518a32245d4f",
   "metadata": {},
   "source": [
    "#### Intergenic MORFs"
   ]
  },
  {
   "cell_type": "code",
   "execution_count": 45,
   "id": "82bde8d4-48af-4dc8-b97f-31990379a0be",
   "metadata": {},
   "outputs": [],
   "source": [
    "min_intergenic_length = 50\n",
    "candidate_intergenic_morfs = []\n",
    "max_stop = 0\n",
    "ORFFinder = orffn.ORF_Finder(full_sequence)\n",
    "for n,cds in enumerate(mycobrowser_cds_boundaries):\n",
    "    stop = cds[3]\n",
    "    max_stop = max(stop, max_stop)\n",
    "    if n < len(mycobrowser_cds_boundaries) - 1:\n",
    "        if mycobrowser_cds_boundaries[n+1][2] > max_stop + min_intergenic_length:\n",
    "            a =ORFFinder.max_orf(max_stop-10, mycobrowser_cds_boundaries[n+1][2]+10, output_orfs = 'Nested', min_orf_length = min_intergenic_length)\n",
    "            for x in a:\n",
    "                candidate_intergenic_morfs.append(x)"
   ]
  },
  {
   "cell_type": "code",
   "execution_count": 1,
   "id": "13bda79f-e453-4922-b7a8-d3268a723289",
   "metadata": {},
   "outputs": [
    {
     "ename": "NameError",
     "evalue": "name 'candidate_intergenic_morfs' is not defined",
     "output_type": "error",
     "traceback": [
      "\u001b[1;31m---------------------------------------------------------------------------\u001b[0m",
      "\u001b[1;31mNameError\u001b[0m                                 Traceback (most recent call last)",
      "\u001b[1;32m~\\AppData\\Local\\Temp/ipykernel_27572/2476716832.py\u001b[0m in \u001b[0;36m<module>\u001b[1;34m\u001b[0m\n\u001b[0;32m      1\u001b[0m \u001b[0mscores_4\u001b[0m \u001b[1;33m=\u001b[0m\u001b[1;33m[\u001b[0m\u001b[1;33m]\u001b[0m\u001b[1;33m\u001b[0m\u001b[1;33m\u001b[0m\u001b[0m\n\u001b[1;32m----> 2\u001b[1;33m \u001b[1;32mfor\u001b[0m \u001b[1;33m(\u001b[0m\u001b[0mstart\u001b[0m\u001b[1;33m,\u001b[0m \u001b[0mstop\u001b[0m\u001b[1;33m,\u001b[0m \u001b[0mstrand\u001b[0m\u001b[1;33m,\u001b[0m \u001b[0mlength\u001b[0m\u001b[1;33m)\u001b[0m \u001b[1;32min\u001b[0m \u001b[0mcandidate_intergenic_morfs\u001b[0m\u001b[1;33m:\u001b[0m\u001b[1;33m\u001b[0m\u001b[1;33m\u001b[0m\u001b[0m\n\u001b[0m\u001b[0;32m      3\u001b[0m     \u001b[1;32mif\u001b[0m \u001b[0mcompass_coverage\u001b[0m\u001b[1;33m(\u001b[0m\u001b[0mstart\u001b[0m\u001b[1;33m,\u001b[0m \u001b[0mstop\u001b[0m\u001b[1;33m)\u001b[0m \u001b[1;33m>\u001b[0m \u001b[1;36m0.5\u001b[0m\u001b[1;33m:\u001b[0m\u001b[1;33m\u001b[0m\u001b[1;33m\u001b[0m\u001b[0m\n\u001b[0;32m      4\u001b[0m         \u001b[1;32mcontinue\u001b[0m\u001b[1;33m\u001b[0m\u001b[1;33m\u001b[0m\u001b[0m\n\u001b[0;32m      5\u001b[0m     \u001b[0mmutation_counts\u001b[0m \u001b[1;33m=\u001b[0m \u001b[0mfull_sample_zero_and_non_zero_mutation_counts\u001b[0m\u001b[1;33m[\u001b[0m\u001b[0mstart\u001b[0m\u001b[1;33m:\u001b[0m\u001b[0mstop\u001b[0m\u001b[1;33m]\u001b[0m\u001b[1;33m\u001b[0m\u001b[1;33m\u001b[0m\u001b[0m\n",
      "\u001b[1;31mNameError\u001b[0m: name 'candidate_intergenic_morfs' is not defined"
     ]
    }
   ],
   "source": [
    "scores_4 =[]\n",
    "for (start, stop, strand, length) in candidate_intergenic_morfs: \n",
    "    if compass_coverage(start, stop) > 0.5:\n",
    "        continue\n",
    "    mutation_counts = full_sample_zero_and_non_zero_mutation_counts[start:stop]\n",
    "    if strand == 1:\n",
    "        mutation_counts_2 = mutation_counts\n",
    "    else:\n",
    "        mutation_counts_2 = list(reversed(mutation_counts))\n",
    "    scores_4.append([(start, stop, strand, length),score_region(mutation_counts_2, start)])\n",
    "a = sns.ecdfplot([x[1] for x in scores_4])\n",
    "a.set(xlabel =\"P-value\", ylabel = \"Cumulative Proportion\", title ='')\n",
    "#plt.xscale('log')"
   ]
  },
  {
   "cell_type": "markdown",
   "id": "03dc7ac9-480b-4e88-a7f4-9c0c56650c2f",
   "metadata": {},
   "source": [
    "#### All MORFs"
   ]
  },
  {
   "cell_type": "code",
   "execution_count": 72,
   "id": "92edfa97-1480-4f1a-863b-ca6524a1022a",
   "metadata": {},
   "outputs": [],
   "source": [
    "min_intergenic_length = 50\n",
    "candidate_morfs = []\n",
    "ORFFinder = orffn.ORF_Finder(full_sequence)\n",
    "a =ORFFinder.max_orf(0, len(full_sequence)-1, output_orfs = 'Nested', min_orf_length = min_intergenic_length)\n",
    "for x in a:\n",
    "    candidate_morfs.append(x)"
   ]
  },
  {
   "cell_type": "code",
   "execution_count": 74,
   "id": "0f9ea8b6-8454-4d69-a240-794969ba22e4",
   "metadata": {},
   "outputs": [
    {
     "data": {
      "text/plain": [
       "63720"
      ]
     },
     "execution_count": 74,
     "metadata": {},
     "output_type": "execute_result"
    }
   ],
   "source": [
    "len(candidate_morfs)"
   ]
  },
  {
   "cell_type": "markdown",
   "id": "055b4eac-8f8f-43bc-afb0-8849b96091e2",
   "metadata": {},
   "source": [
    "#### Eliminate negative strand instances where they would have same pattern of 3rd codon "
   ]
  },
  {
   "cell_type": "code",
   "execution_count": 75,
   "id": "68d9045f-068a-464d-9d3b-f032d97a1d95",
   "metadata": {},
   "outputs": [
    {
     "name": "stderr",
     "output_type": "stream",
     "text": [
      "63720it [06:04, 174.98it/s] \n"
     ]
    }
   ],
   "source": [
    "candidate_morfs.sort(key = lambda x: x[3], reverse = True)\n",
    "maximal_reading_frame_orfs = [candidate_morfs[0]]\n",
    "for n, morf in tqdm(enumerate(candidate_morfs)):\n",
    "    if n==0:\n",
    "        continue\n",
    "    overlap = 0\n",
    "    for m, morf2 in enumerate(candidate_morfs):\n",
    "        if m == n and overlap == 0:\n",
    "            maximal_reading_frame_orfs.append(morf)\n",
    "            break\n",
    "        else:\n",
    "            if morf2[0] <= morf[0] and morf2[1] >= morf[1]:\n",
    "                if morf2[2] == morf[2]:\n",
    "                    if (morf2[1] - morf[1])%3 == 0:\n",
    "                        overlap = 1\n",
    "                        break\n",
    "                else:\n",
    "                    if (morf2[0] + 2- morf[0])%3 == 0:\n",
    "                        overlap = 1\n",
    "                        break        "
   ]
  },
  {
   "cell_type": "markdown",
   "id": "051cf24c-dc4b-4426-a4f2-2aa1c00b7c39",
   "metadata": {},
   "source": [
    "##### Classify remaining ORFs into annotated, intergenic or overlapping"
   ]
  },
  {
   "cell_type": "code",
   "execution_count": 76,
   "id": "de71ffbe-5d80-4002-bc47-6873bfc4f424",
   "metadata": {},
   "outputs": [],
   "source": [
    "new_annotation_features_dict = {}\n",
    "for (locus, product, start, stop, strand, name, functional_category, gene_ontology) in mycobrowser_cds_boundaries:\n",
    "    if strand == 1:\n",
    "        new_annotation_features_dict[stop] = (locus, product, start, stop, strand)\n",
    "    else:\n",
    "        new_annotation_features_dict[start] = (locus, product, start, stop, strand)"
   ]
  },
  {
   "cell_type": "code",
   "execution_count": 133,
   "id": "c555c586-37bb-45f0-9462-184a2a19a1fc",
   "metadata": {},
   "outputs": [
    {
     "name": "stderr",
     "output_type": "stream",
     "text": [
      "100%|██████████| 42441/42441 [00:20<00:00, 2053.14it/s]\n"
     ]
    },
    {
     "data": {
      "text/plain": [
       "[Text(0.5, 0, 'P-value'),\n",
       " Text(0, 0.5, 'Cumulative Proportion'),\n",
       " Text(0.5, 1.0, '')]"
      ]
     },
     "execution_count": 133,
     "metadata": {},
     "output_type": "execute_result"
    },
    {
     "data": {
      "image/png": "[encoded data removed]",
      "text/plain": [
       "<Figure size 432x288 with 1 Axes>"
      ]
     },
     "metadata": {
      "needs_background": "light"
     },
     "output_type": "display_data"
    }
   ],
   "source": [
    "temp = []\n",
    "for (start, stop, strand, length) in tqdm(maximal_reading_frame_orfs):\n",
    "    if compass_coverage(start, stop)>0.5:\n",
    "        continue\n",
    "    mutation_counts = full_sample_zero_and_non_zero_mutation_counts[start:stop]\n",
    "    if strand == 1:\n",
    "        score = score_region(mutation_counts, start)\n",
    "    else:\n",
    "        score = score_region(list(reversed(mutation_counts)), start)\n",
    "  \n",
    "#    if (strand == 1 and stop in new_annotation_features_dict) or (strand == -1 and start in new_annotation_features_dict):\n",
    "    if (strand == 1 and stop in new_annotation_features_dict and new_annotation_features_dict[stop][4] == 1) or (strand == -1 and start in new_annotation_features_dict and new_annotation_features_dict[start][4] == -1):\n",
    "        temp.append(['Annotated', score, (start, stop, strand, length)])\n",
    "    else:\n",
    "        overlap = 0\n",
    "        for cds in mycobrowser_cds_boundaries:\n",
    "            if (cds[2] <= start and cds[3] >= start) or (cds[2] <= stop and cds[3] >= stop):\n",
    "                overlap = 1\n",
    "                break\n",
    "        if overlap == 1:\n",
    "            if (cds[4] == strand and (cds[2] - start)%3 == 0) or (not(cds[4] == strand) and (cds[2] - start)%3 == 2):\n",
    "                temp.append(['O/L IF', score, (start, stop, strand, length)])\n",
    "            else:\n",
    "                temp.append(['O/L Not IF', score, (start, stop, strand, length)])\n",
    "        else:\n",
    "            temp.append(['No O/L', score, (start, stop, strand, length)])\n",
    "morf_df = pd.DataFrame(temp, columns = ['type','score','location'])\n",
    "a = sns.ecdfplot(data = morf_df, x = 'score', hue = 'type')\n",
    "a.set(xlabel =\"P-value\", ylabel = \"Cumulative Proportion\", title ='')"
   ]
  },
  {
   "cell_type": "code",
   "execution_count": 134,
   "id": "16fbc93f-5ec1-4ce1-a43e-7e96979f2e3e",
   "metadata": {},
   "outputs": [
    {
     "data": {
      "text/plain": [
       "39726"
      ]
     },
     "execution_count": 134,
     "metadata": {},
     "output_type": "execute_result"
    }
   ],
   "source": [
    "len(morf_df)"
   ]
  },
  {
   "cell_type": "code",
   "execution_count": 138,
   "id": "faff9534-43b1-4a8f-919c-fac323eae5ac",
   "metadata": {},
   "outputs": [
    {
     "data": {
      "text/plain": [
       "2451"
      ]
     },
     "execution_count": 138,
     "metadata": {},
     "output_type": "execute_result"
    }
   ],
   "source": [
    "len(morf_df[morf_df['type'] =='No O/L'])"
   ]
  },
  {
   "cell_type": "markdown",
   "id": "1f3efd6e-9de6-4bd1-b07e-510d117654e8",
   "metadata": {},
   "source": [
    "#### Upstream starts"
   ]
  },
  {
   "cell_type": "code",
   "execution_count": 196,
   "id": "d673eb83-fc18-4d49-85c6-f41f02321440",
   "metadata": {},
   "outputs": [
    {
     "name": "stderr",
     "output_type": "stream",
     "text": [
      "100%|██████████| 42441/42441 [00:10<00:00, 4113.56it/s]\n"
     ]
    },
    {
     "data": {
      "text/plain": [
       "[Text(0.5, 0, 'P-value'),\n",
       " Text(0, 0.5, 'Cumulative Proportion'),\n",
       " Text(0.5, 1.0, '')]"
      ]
     },
     "execution_count": 196,
     "metadata": {},
     "output_type": "execute_result"
    },
    {
     "data": {
      "image/png": "[encoded data removed]",
      "text/plain": [
       "<Figure size 432x288 with 1 Axes>"
      ]
     },
     "metadata": {
      "needs_background": "light"
     },
     "output_type": "display_data"
    }
   ],
   "source": [
    "temp = []\n",
    "for (start, stop, strand, length) in tqdm(maximal_reading_frame_orfs):\n",
    "    if compass_coverage(start, stop)>0.5:\n",
    "        continue\n",
    "    mutation_counts = full_sample_zero_and_non_zero_mutation_counts[start:stop]\n",
    "    if strand == 1:\n",
    "        score = score_region(mutation_counts, start)\n",
    "    else:\n",
    "        score = score_region(list(reversed(mutation_counts)), start)\n",
    "  \n",
    "    if (strand == 1 and stop in new_annotation_features_dict and new_annotation_features_dict[stop][4] == 1) or (strand == -1 and start in new_annotation_features_dict and new_annotation_features_dict[start][4] == -1):\n",
    "        if (strand == 1 and stop in new_annotation_features_dict):\n",
    "            dict_entry = new_annotation_features_dict[stop][2:4]\n",
    "            locus = new_annotation_features_dict[stop][0]\n",
    "        else:\n",
    "            dict_entry = new_annotation_features_dict[start][2:4]\n",
    "            locus = new_annotation_features_dict[start][0]\n",
    "        if strand == 1 and start < dict_entry[0]:\n",
    "            mutation_counts = full_sample_zero_and_non_zero_mutation_counts[dict_entry[0]:stop]\n",
    "            score = score_region(mutation_counts, dict_entry[0])\n",
    "            mutation_counts = full_sample_zero_and_non_zero_mutation_counts[start:dict_entry[0]]\n",
    "            score_2 = score_region(mutation_counts, start)\n",
    "            temp.append(['Annotated', score, score_2, (start, stop, strand, length), dict_entry, locus ])\n",
    "        if strand == -1 and stop > dict_entry[1]:\n",
    "            mutation_counts = full_sample_zero_and_non_zero_mutation_counts[start:dict_entry[1]]\n",
    "            score = score_region(list(reversed(mutation_counts)), dict_entry[1])\n",
    "            mutation_counts = full_sample_zero_and_non_zero_mutation_counts[dict_entry[1]:stop]\n",
    "            score_2 = score_region(list(reversed(mutation_counts)), dict_entry[1])\n",
    "            temp.append(['Annotated', score, score_2, (start, stop, strand, length), dict_entry, locus ])\n",
    "upstream_df = pd.DataFrame(temp, columns = ['type','annotation_score','upstream_score','morf_location','annotation_location','Locus'])\n",
    "a = sns.ecdfplot(data = upstream_df, x = 'upstream_score', hue = 'type')\n",
    "a.set(xlabel =\"P-value\", ylabel = \"Cumulative Proportion\", title ='')"
   ]
  },
  {
   "cell_type": "code",
   "execution_count": 197,
   "id": "32f3efe8-a2f1-41f8-a9d3-46198b029884",
   "metadata": {},
   "outputs": [
    {
     "data": {
      "text/html": [
       "<div>\n",
       "<style scoped>\n",
       "    .dataframe tbody tr th:only-of-type {\n",
       "        vertical-align: middle;\n",
       "    }\n",
       "\n",
       "    .dataframe tbody tr th {\n",
       "        vertical-align: top;\n",
       "    }\n",
       "\n",
       "    .dataframe thead th {\n",
       "        text-align: right;\n",
       "    }\n",
       "</style>\n",
       "<table border=\"1\" class=\"dataframe\">\n",
       "  <thead>\n",
       "    <tr style=\"text-align: right;\">\n",
       "      <th></th>\n",
       "      <th>ORF</th>\n",
       "      <th>Score</th>\n",
       "      <th>Offset</th>\n",
       "    </tr>\n",
       "  </thead>\n",
       "  <tbody>\n",
       "    <tr>\n",
       "      <th>0</th>\n",
       "      <td>Rv0001</td>\n",
       "      <td>0.000</td>\n",
       "      <td>0</td>\n",
       "    </tr>\n",
       "    <tr>\n",
       "      <th>1</th>\n",
       "      <td>Rv0002</td>\n",
       "      <td>0.000</td>\n",
       "      <td>0</td>\n",
       "    </tr>\n",
       "    <tr>\n",
       "      <th>2</th>\n",
       "      <td>Rv0003</td>\n",
       "      <td>0.000</td>\n",
       "      <td>0</td>\n",
       "    </tr>\n",
       "    <tr>\n",
       "      <th>3</th>\n",
       "      <td>Rv0004</td>\n",
       "      <td>0.000</td>\n",
       "      <td>0</td>\n",
       "    </tr>\n",
       "    <tr>\n",
       "      <th>4</th>\n",
       "      <td>Rv0005</td>\n",
       "      <td>-1.782</td>\n",
       "      <td>39</td>\n",
       "    </tr>\n",
       "    <tr>\n",
       "      <th>...</th>\n",
       "      <td>...</td>\n",
       "      <td>...</td>\n",
       "      <td>...</td>\n",
       "    </tr>\n",
       "    <tr>\n",
       "      <th>3526</th>\n",
       "      <td>Rv3919c</td>\n",
       "      <td>0.000</td>\n",
       "      <td>0</td>\n",
       "    </tr>\n",
       "    <tr>\n",
       "      <th>3527</th>\n",
       "      <td>Rv3920c</td>\n",
       "      <td>0.000</td>\n",
       "      <td>0</td>\n",
       "    </tr>\n",
       "    <tr>\n",
       "      <th>3528</th>\n",
       "      <td>Rv3921c</td>\n",
       "      <td>0.000</td>\n",
       "      <td>0</td>\n",
       "    </tr>\n",
       "    <tr>\n",
       "      <th>3529</th>\n",
       "      <td>Rv3922c</td>\n",
       "      <td>-0.624</td>\n",
       "      <td>10</td>\n",
       "    </tr>\n",
       "    <tr>\n",
       "      <th>3530</th>\n",
       "      <td>Rv3923c</td>\n",
       "      <td>0.000</td>\n",
       "      <td>0</td>\n",
       "    </tr>\n",
       "  </tbody>\n",
       "</table>\n",
       "<p>3531 rows × 3 columns</p>\n",
       "</div>"
      ],
      "text/plain": [
       "          ORF  Score  Offset\n",
       "0      Rv0001  0.000       0\n",
       "1      Rv0002  0.000       0\n",
       "2      Rv0003  0.000       0\n",
       "3      Rv0004  0.000       0\n",
       "4      Rv0005 -1.782      39\n",
       "...       ...    ...     ...\n",
       "3526  Rv3919c  0.000       0\n",
       "3527  Rv3920c  0.000       0\n",
       "3528  Rv3921c  0.000       0\n",
       "3529  Rv3922c -0.624      10\n",
       "3530  Rv3923c  0.000       0\n",
       "\n",
       "[3531 rows x 3 columns]"
      ]
     },
     "execution_count": 197,
     "metadata": {},
     "output_type": "execute_result"
    }
   ],
   "source": [
    "dejesus_df = pd.read_csv(project_dir + '/DeJesus.csv')\n",
    "dejesus_df"
   ]
  },
  {
   "cell_type": "code",
   "execution_count": 198,
   "id": "6bf0c02b-c2df-4a64-8fa5-ae131b80453b",
   "metadata": {},
   "outputs": [],
   "source": [
    "temp = upstream_df[upstream_df['upstream_score'] < 0.001]\n",
    "temp.sort_values(by=['Locus'], inplace=True)\n",
    "temp_2 = temp.merge(dejesus_df, how='left', left_on='Locus', right_on='ORF');"
   ]
  },
  {
   "cell_type": "code",
   "execution_count": 199,
   "id": "45ba2afb-359e-4238-9173-cc9c84a406cc",
   "metadata": {},
   "outputs": [],
   "source": [
    "for i, r in temp_2.iterrows():\n",
    "    if r['Score'] < -0.7:\n",
    "        if r['morf_location'][2] == 1:\n",
    "            temp_2.at[i,'DeJesus_Proposal'] = (r['annotation_location'][0] + int(r['Offset'])*3, r['annotation_location'][1])\n",
    "        elif r['morf_location'][2] == -1:\n",
    "            temp_2.at[i,'DeJesus_Proposal'] = (r['annotation_location'][0], r['annotation_location'][1] + int(r['Offset'])*3)\n",
    "    else:\n",
    "        temp_2.at[i,'DeJesus_Proposal'] = \"\"\n"
   ]
  },
  {
   "cell_type": "code",
   "execution_count": 200,
   "id": "abf2c7fd-49ab-468e-b5a5-e64829ac16f6",
   "metadata": {},
   "outputs": [],
   "source": [
    "cols = ['Locus', 'upstream_score', 'annotation_location', 'morf_location', 'DeJesus_Proposal']\n",
    "temp_2 = temp_2[cols]\n",
    "temp_2\n",
    "temp_2.to_csv(project_dir+'/Reannotation_upstream_scores.csv')"
   ]
  },
  {
   "cell_type": "code",
   "execution_count": 201,
   "id": "9cfd6f26-630a-4c31-b441-2721d6c3a6de",
   "metadata": {},
   "outputs": [
    {
     "data": {
      "text/html": [
       "<div>\n",
       "<style scoped>\n",
       "    .dataframe tbody tr th:only-of-type {\n",
       "        vertical-align: middle;\n",
       "    }\n",
       "\n",
       "    .dataframe tbody tr th {\n",
       "        vertical-align: top;\n",
       "    }\n",
       "\n",
       "    .dataframe thead th {\n",
       "        text-align: right;\n",
       "    }\n",
       "</style>\n",
       "<table border=\"1\" class=\"dataframe\">\n",
       "  <thead>\n",
       "    <tr style=\"text-align: right;\">\n",
       "      <th></th>\n",
       "      <th>Locus</th>\n",
       "      <th>upstream_score</th>\n",
       "      <th>annotation_location</th>\n",
       "      <th>morf_location</th>\n",
       "      <th>DeJesus_Proposal</th>\n",
       "    </tr>\n",
       "  </thead>\n",
       "  <tbody>\n",
       "    <tr>\n",
       "      <th>0</th>\n",
       "      <td>Rv0010c</td>\n",
       "      <td>8.152109e-04</td>\n",
       "      <td>(13132, 13558)</td>\n",
       "      <td>(13132, 13591, -1, 456)</td>\n",
       "      <td></td>\n",
       "    </tr>\n",
       "    <tr>\n",
       "      <th>1</th>\n",
       "      <td>Rv0230c</td>\n",
       "      <td>1.847569e-07</td>\n",
       "      <td>(274982, 275963)</td>\n",
       "      <td>(274982, 276230, -1, 1245)</td>\n",
       "      <td></td>\n",
       "    </tr>\n",
       "    <tr>\n",
       "      <th>2</th>\n",
       "      <td>Rv0231</td>\n",
       "      <td>4.637381e-04</td>\n",
       "      <td>(276057, 277764)</td>\n",
       "      <td>(275874, 277764, 1, 1887)</td>\n",
       "      <td></td>\n",
       "    </tr>\n",
       "    <tr>\n",
       "      <th>3</th>\n",
       "      <td>Rv0361</td>\n",
       "      <td>3.811302e-04</td>\n",
       "      <td>(438821, 439649)</td>\n",
       "      <td>(438536, 439649, 1, 1110)</td>\n",
       "      <td></td>\n",
       "    </tr>\n",
       "    <tr>\n",
       "      <th>4</th>\n",
       "      <td>Rv0496</td>\n",
       "      <td>1.385425e-11</td>\n",
       "      <td>(586393, 587380)</td>\n",
       "      <td>(586345, 587380, 1, 1032)</td>\n",
       "      <td>(586345, 587380)</td>\n",
       "    </tr>\n",
       "    <tr>\n",
       "      <th>5</th>\n",
       "      <td>Rv0653c</td>\n",
       "      <td>1.383018e-04</td>\n",
       "      <td>(749233, 749929)</td>\n",
       "      <td>(749233, 750106, -1, 870)</td>\n",
       "      <td></td>\n",
       "    </tr>\n",
       "    <tr>\n",
       "      <th>6</th>\n",
       "      <td>Rv0759c</td>\n",
       "      <td>2.401234e-07</td>\n",
       "      <td>(853824, 854157)</td>\n",
       "      <td>(853824, 854226, -1, 399)</td>\n",
       "      <td>(853824, 854088)</td>\n",
       "    </tr>\n",
       "    <tr>\n",
       "      <th>7</th>\n",
       "      <td>Rv0774c</td>\n",
       "      <td>1.819422e-11</td>\n",
       "      <td>(867439, 868351)</td>\n",
       "      <td>(867439, 868558, -1, 1116)</td>\n",
       "      <td></td>\n",
       "    </tr>\n",
       "    <tr>\n",
       "      <th>8</th>\n",
       "      <td>Rv0786c</td>\n",
       "      <td>1.572891e-09</td>\n",
       "      <td>(881074, 881464)</td>\n",
       "      <td>(881074, 882091, -1, 1014)</td>\n",
       "      <td></td>\n",
       "    </tr>\n",
       "    <tr>\n",
       "      <th>9</th>\n",
       "      <td>Rv0863</td>\n",
       "      <td>0.000000e+00</td>\n",
       "      <td>(962598, 962880)</td>\n",
       "      <td>(962205, 962880, 1, 672)</td>\n",
       "      <td>(962679, 962880)</td>\n",
       "    </tr>\n",
       "    <tr>\n",
       "      <th>10</th>\n",
       "      <td>Rv0943c</td>\n",
       "      <td>1.075645e-07</td>\n",
       "      <td>(1052695, 1053736)</td>\n",
       "      <td>(1052695, 1053907, -1, 1209)</td>\n",
       "      <td></td>\n",
       "    </tr>\n",
       "    <tr>\n",
       "      <th>11</th>\n",
       "      <td>Rv0992c</td>\n",
       "      <td>0.000000e+00</td>\n",
       "      <td>(1108577, 1109171)</td>\n",
       "      <td>(1108577, 1109753, -1, 1173)</td>\n",
       "      <td></td>\n",
       "    </tr>\n",
       "    <tr>\n",
       "      <th>12</th>\n",
       "      <td>Rv1002c</td>\n",
       "      <td>2.792766e-12</td>\n",
       "      <td>(1118427, 1119939)</td>\n",
       "      <td>(1118427, 1120248, -1, 1818)</td>\n",
       "      <td></td>\n",
       "    </tr>\n",
       "    <tr>\n",
       "      <th>13</th>\n",
       "      <td>Rv1003</td>\n",
       "      <td>1.555204e-06</td>\n",
       "      <td>(1120021, 1120879)</td>\n",
       "      <td>(1119781, 1120879, 1, 1095)</td>\n",
       "      <td></td>\n",
       "    </tr>\n",
       "    <tr>\n",
       "      <th>14</th>\n",
       "      <td>Rv1011</td>\n",
       "      <td>2.169863e-05</td>\n",
       "      <td>(1130190, 1131111)</td>\n",
       "      <td>(1130154, 1131111, 1, 954)</td>\n",
       "      <td></td>\n",
       "    </tr>\n",
       "    <tr>\n",
       "      <th>15</th>\n",
       "      <td>Rv1025</td>\n",
       "      <td>8.826533e-05</td>\n",
       "      <td>(1146560, 1147028)</td>\n",
       "      <td>(1146536, 1147028, 1, 489)</td>\n",
       "      <td>(1146536, 1147028)</td>\n",
       "    </tr>\n",
       "    <tr>\n",
       "      <th>16</th>\n",
       "      <td>Rv1100</td>\n",
       "      <td>0.000000e+00</td>\n",
       "      <td>(1228682, 1229384)</td>\n",
       "      <td>(1228436, 1229384, 1, 945)</td>\n",
       "      <td></td>\n",
       "    </tr>\n",
       "    <tr>\n",
       "      <th>17</th>\n",
       "      <td>Rv1119c</td>\n",
       "      <td>3.783351e-05</td>\n",
       "      <td>(1242863, 1243013)</td>\n",
       "      <td>(1242863, 1243064, -1, 198)</td>\n",
       "      <td></td>\n",
       "    </tr>\n",
       "    <tr>\n",
       "      <th>18</th>\n",
       "      <td>Rv1142c</td>\n",
       "      <td>2.131695e-11</td>\n",
       "      <td>(1269151, 1269958)</td>\n",
       "      <td>(1269151, 1270210, -1, 1056)</td>\n",
       "      <td></td>\n",
       "    </tr>\n",
       "    <tr>\n",
       "      <th>19</th>\n",
       "      <td>Rv1146</td>\n",
       "      <td>1.621436e-11</td>\n",
       "      <td>(1273354, 1274767)</td>\n",
       "      <td>(1273264, 1274767, 1, 1500)</td>\n",
       "      <td></td>\n",
       "    </tr>\n",
       "    <tr>\n",
       "      <th>20</th>\n",
       "      <td>Rv1151c</td>\n",
       "      <td>6.671446e-07</td>\n",
       "      <td>(1278903, 1279617)</td>\n",
       "      <td>(1278903, 1279818, -1, 912)</td>\n",
       "      <td></td>\n",
       "    </tr>\n",
       "    <tr>\n",
       "      <th>21</th>\n",
       "      <td>Rv1154c</td>\n",
       "      <td>1.206974e-06</td>\n",
       "      <td>(1280842, 1281484)</td>\n",
       "      <td>(1280842, 1281532, -1, 687)</td>\n",
       "      <td>(1280842, 1281538)</td>\n",
       "    </tr>\n",
       "    <tr>\n",
       "      <th>22</th>\n",
       "      <td>Rv1258c</td>\n",
       "      <td>7.657731e-04</td>\n",
       "      <td>(1406080, 1407340)</td>\n",
       "      <td>(1406080, 1407652, -1, 1569)</td>\n",
       "      <td></td>\n",
       "    </tr>\n",
       "    <tr>\n",
       "      <th>23</th>\n",
       "      <td>Rv1259</td>\n",
       "      <td>8.913712e-04</td>\n",
       "      <td>(1407338, 1408238)</td>\n",
       "      <td>(1407149, 1408238, 1, 1086)</td>\n",
       "      <td></td>\n",
       "    </tr>\n",
       "    <tr>\n",
       "      <th>24</th>\n",
       "      <td>Rv1367c</td>\n",
       "      <td>1.220100e-04</td>\n",
       "      <td>(1539511, 1540645)</td>\n",
       "      <td>(1539511, 1540717, -1, 1203)</td>\n",
       "      <td>(1539511, 1540573)</td>\n",
       "    </tr>\n",
       "    <tr>\n",
       "      <th>25</th>\n",
       "      <td>Rv1487</td>\n",
       "      <td>1.797995e-04</td>\n",
       "      <td>(1676940, 1677375)</td>\n",
       "      <td>(1676898, 1677375, 1, 474)</td>\n",
       "      <td></td>\n",
       "    </tr>\n",
       "    <tr>\n",
       "      <th>26</th>\n",
       "      <td>Rv1633</td>\n",
       "      <td>2.658258e-08</td>\n",
       "      <td>(1837074, 1839171)</td>\n",
       "      <td>(1836894, 1839171, 1, 2274)</td>\n",
       "      <td>(1837011, 1839171)</td>\n",
       "    </tr>\n",
       "    <tr>\n",
       "      <th>27</th>\n",
       "      <td>Rv1703c</td>\n",
       "      <td>7.509549e-13</td>\n",
       "      <td>(1929130, 1929721)</td>\n",
       "      <td>(1929130, 1929880, -1, 747)</td>\n",
       "      <td></td>\n",
       "    </tr>\n",
       "    <tr>\n",
       "      <th>28</th>\n",
       "      <td>Rv1873</td>\n",
       "      <td>3.995895e-06</td>\n",
       "      <td>(2123173, 2123611)</td>\n",
       "      <td>(2123017, 2123611, 1, 591)</td>\n",
       "      <td></td>\n",
       "    </tr>\n",
       "    <tr>\n",
       "      <th>29</th>\n",
       "      <td>Rv1901</td>\n",
       "      <td>3.556368e-04</td>\n",
       "      <td>(2147661, 2148954)</td>\n",
       "      <td>(2147649, 2148954, 1, 1302)</td>\n",
       "      <td></td>\n",
       "    </tr>\n",
       "    <tr>\n",
       "      <th>30</th>\n",
       "      <td>Rv1932</td>\n",
       "      <td>2.559449e-06</td>\n",
       "      <td>(2183371, 2183869)</td>\n",
       "      <td>(2182576, 2183869, 1, 1290)</td>\n",
       "      <td></td>\n",
       "    </tr>\n",
       "    <tr>\n",
       "      <th>31</th>\n",
       "      <td>Rv2049c</td>\n",
       "      <td>5.913736e-04</td>\n",
       "      <td>(2307292, 2307517)</td>\n",
       "      <td>(2307292, 2307655, -1, 360)</td>\n",
       "      <td></td>\n",
       "    </tr>\n",
       "    <tr>\n",
       "      <th>32</th>\n",
       "      <td>Rv2262c</td>\n",
       "      <td>0.000000e+00</td>\n",
       "      <td>(2534469, 2535552)</td>\n",
       "      <td>(2534469, 2536116, -1, 1644)</td>\n",
       "      <td></td>\n",
       "    </tr>\n",
       "    <tr>\n",
       "      <th>33</th>\n",
       "      <td>Rv2363</td>\n",
       "      <td>8.127810e-11</td>\n",
       "      <td>(2644319, 2645774)</td>\n",
       "      <td>(2644187, 2645774, 1, 1584)</td>\n",
       "      <td></td>\n",
       "    </tr>\n",
       "    <tr>\n",
       "      <th>34</th>\n",
       "      <td>Rv2405</td>\n",
       "      <td>8.474878e-08</td>\n",
       "      <td>(2703268, 2703838)</td>\n",
       "      <td>(2703235, 2703838, 1, 600)</td>\n",
       "      <td></td>\n",
       "    </tr>\n",
       "    <tr>\n",
       "      <th>35</th>\n",
       "      <td>Rv2607</td>\n",
       "      <td>0.000000e+00</td>\n",
       "      <td>(2934197, 2934872)</td>\n",
       "      <td>(2933804, 2934872, 1, 1065)</td>\n",
       "      <td></td>\n",
       "    </tr>\n",
       "    <tr>\n",
       "      <th>36</th>\n",
       "      <td>Rv2679</td>\n",
       "      <td>3.474432e-11</td>\n",
       "      <td>(2995114, 2995945)</td>\n",
       "      <td>(2994919, 2995945, 1, 1023)</td>\n",
       "      <td></td>\n",
       "    </tr>\n",
       "    <tr>\n",
       "      <th>37</th>\n",
       "      <td>Rv2697c</td>\n",
       "      <td>8.229067e-09</td>\n",
       "      <td>(3013682, 3014147)</td>\n",
       "      <td>(3013682, 3014486, -1, 801)</td>\n",
       "      <td></td>\n",
       "    </tr>\n",
       "    <tr>\n",
       "      <th>38</th>\n",
       "      <td>Rv2740</td>\n",
       "      <td>0.000000e+00</td>\n",
       "      <td>(3053232, 3053682)</td>\n",
       "      <td>(3052323, 3053682, 1, 1356)</td>\n",
       "      <td></td>\n",
       "    </tr>\n",
       "    <tr>\n",
       "      <th>39</th>\n",
       "      <td>Rv2748c</td>\n",
       "      <td>1.216383e-11</td>\n",
       "      <td>(3059854, 3062506)</td>\n",
       "      <td>(3059854, 3062887, -1, 3030)</td>\n",
       "      <td></td>\n",
       "    </tr>\n",
       "    <tr>\n",
       "      <th>40</th>\n",
       "      <td>Rv2749</td>\n",
       "      <td>7.234204e-10</td>\n",
       "      <td>(3062504, 3062819)</td>\n",
       "      <td>(3061532, 3062819, 1, 1284)</td>\n",
       "      <td></td>\n",
       "    </tr>\n",
       "    <tr>\n",
       "      <th>41</th>\n",
       "      <td>Rv3055</td>\n",
       "      <td>3.675794e-05</td>\n",
       "      <td>(3416080, 3416695)</td>\n",
       "      <td>(3415864, 3416695, 1, 828)</td>\n",
       "      <td></td>\n",
       "    </tr>\n",
       "    <tr>\n",
       "      <th>42</th>\n",
       "      <td>Rv3271c</td>\n",
       "      <td>2.123786e-08</td>\n",
       "      <td>(3652678, 3653347)</td>\n",
       "      <td>(3652678, 3653566, -1, 885)</td>\n",
       "      <td></td>\n",
       "    </tr>\n",
       "    <tr>\n",
       "      <th>43</th>\n",
       "      <td>Rv3316</td>\n",
       "      <td>3.820642e-09</td>\n",
       "      <td>(3704101, 3704440)</td>\n",
       "      <td>(3703981, 3704440, 1, 456)</td>\n",
       "      <td></td>\n",
       "    </tr>\n",
       "    <tr>\n",
       "      <th>44</th>\n",
       "      <td>Rv3369</td>\n",
       "      <td>0.000000e+00</td>\n",
       "      <td>(3780977, 3781412)</td>\n",
       "      <td>(3780797, 3781412, 1, 612)</td>\n",
       "      <td></td>\n",
       "    </tr>\n",
       "    <tr>\n",
       "      <th>45</th>\n",
       "      <td>Rv3395A</td>\n",
       "      <td>1.094680e-13</td>\n",
       "      <td>(3811718, 3812345)</td>\n",
       "      <td>(3811268, 3812345, 1, 1074)</td>\n",
       "      <td></td>\n",
       "    </tr>\n",
       "    <tr>\n",
       "      <th>46</th>\n",
       "      <td>Rv3454</td>\n",
       "      <td>4.884981e-15</td>\n",
       "      <td>(3874821, 3876090)</td>\n",
       "      <td>(3874758, 3876090, 1, 1329)</td>\n",
       "      <td></td>\n",
       "    </tr>\n",
       "    <tr>\n",
       "      <th>47</th>\n",
       "      <td>Rv3515c</td>\n",
       "      <td>1.629686e-07</td>\n",
       "      <td>(3950823, 3952470)</td>\n",
       "      <td>(3950823, 3952710, -1, 1884)</td>\n",
       "      <td></td>\n",
       "    </tr>\n",
       "    <tr>\n",
       "      <th>48</th>\n",
       "      <td>Rv3521</td>\n",
       "      <td>1.287128e-08</td>\n",
       "      <td>(3957520, 3958432)</td>\n",
       "      <td>(3957427, 3958432, 1, 1002)</td>\n",
       "      <td>(3957427, 3958432)</td>\n",
       "    </tr>\n",
       "    <tr>\n",
       "      <th>49</th>\n",
       "      <td>Rv3564</td>\n",
       "      <td>2.851088e-04</td>\n",
       "      <td>(4005246, 4006203)</td>\n",
       "      <td>(4005168, 4006203, 1, 1032)</td>\n",
       "      <td></td>\n",
       "    </tr>\n",
       "    <tr>\n",
       "      <th>50</th>\n",
       "      <td>Rv3574</td>\n",
       "      <td>2.102138e-05</td>\n",
       "      <td>(4016483, 4017083)</td>\n",
       "      <td>(4015622, 4017083, 1, 1458)</td>\n",
       "      <td></td>\n",
       "    </tr>\n",
       "    <tr>\n",
       "      <th>51</th>\n",
       "      <td>Rv3659c</td>\n",
       "      <td>9.377151e-04</td>\n",
       "      <td>(4096935, 4097994)</td>\n",
       "      <td>(4096935, 4098099, -1, 1161)</td>\n",
       "      <td>(4096935, 4097889)</td>\n",
       "    </tr>\n",
       "    <tr>\n",
       "      <th>52</th>\n",
       "      <td>Rv3694c</td>\n",
       "      <td>1.395619e-07</td>\n",
       "      <td>(4136121, 4137114)</td>\n",
       "      <td>(4136121, 4137309, -1, 1185)</td>\n",
       "      <td></td>\n",
       "    </tr>\n",
       "    <tr>\n",
       "      <th>53</th>\n",
       "      <td>Rv3695</td>\n",
       "      <td>2.320459e-04</td>\n",
       "      <td>(4137205, 4138138)</td>\n",
       "      <td>(4137049, 4138138, 1, 1086)</td>\n",
       "      <td></td>\n",
       "    </tr>\n",
       "    <tr>\n",
       "      <th>54</th>\n",
       "      <td>Rv3707c</td>\n",
       "      <td>5.427702e-04</td>\n",
       "      <td>(4150029, 4151040)</td>\n",
       "      <td>(4150029, 4151178, -1, 1146)</td>\n",
       "      <td></td>\n",
       "    </tr>\n",
       "    <tr>\n",
       "      <th>55</th>\n",
       "      <td>Rv3730c</td>\n",
       "      <td>3.517285e-09</td>\n",
       "      <td>(4180679, 4181720)</td>\n",
       "      <td>(4180679, 4181864, -1, 1182)</td>\n",
       "      <td></td>\n",
       "    </tr>\n",
       "    <tr>\n",
       "      <th>56</th>\n",
       "      <td>Rv3754</td>\n",
       "      <td>2.117306e-12</td>\n",
       "      <td>(4200420, 4201326)</td>\n",
       "      <td>(4200354, 4201326, 1, 969)</td>\n",
       "      <td>(4200381, 4201326)</td>\n",
       "    </tr>\n",
       "    <tr>\n",
       "      <th>57</th>\n",
       "      <td>Rv3764c</td>\n",
       "      <td>3.532028e-05</td>\n",
       "      <td>(4209581, 4211009)</td>\n",
       "      <td>(4209581, 4211102, -1, 1518)</td>\n",
       "      <td></td>\n",
       "    </tr>\n",
       "    <tr>\n",
       "      <th>58</th>\n",
       "      <td>Rv3818</td>\n",
       "      <td>6.728240e-05</td>\n",
       "      <td>(4282448, 4283999)</td>\n",
       "      <td>(4281440, 4283999, 1, 2556)</td>\n",
       "      <td></td>\n",
       "    </tr>\n",
       "  </tbody>\n",
       "</table>\n",
       "</div>"
      ],
      "text/plain": [
       "      Locus  upstream_score annotation_location                 morf_location  \\\n",
       "0   Rv0010c    8.152109e-04      (13132, 13558)       (13132, 13591, -1, 456)   \n",
       "1   Rv0230c    1.847569e-07    (274982, 275963)    (274982, 276230, -1, 1245)   \n",
       "2    Rv0231    4.637381e-04    (276057, 277764)     (275874, 277764, 1, 1887)   \n",
       "3    Rv0361    3.811302e-04    (438821, 439649)     (438536, 439649, 1, 1110)   \n",
       "4    Rv0496    1.385425e-11    (586393, 587380)     (586345, 587380, 1, 1032)   \n",
       "5   Rv0653c    1.383018e-04    (749233, 749929)     (749233, 750106, -1, 870)   \n",
       "6   Rv0759c    2.401234e-07    (853824, 854157)     (853824, 854226, -1, 399)   \n",
       "7   Rv0774c    1.819422e-11    (867439, 868351)    (867439, 868558, -1, 1116)   \n",
       "8   Rv0786c    1.572891e-09    (881074, 881464)    (881074, 882091, -1, 1014)   \n",
       "9    Rv0863    0.000000e+00    (962598, 962880)      (962205, 962880, 1, 672)   \n",
       "10  Rv0943c    1.075645e-07  (1052695, 1053736)  (1052695, 1053907, -1, 1209)   \n",
       "11  Rv0992c    0.000000e+00  (1108577, 1109171)  (1108577, 1109753, -1, 1173)   \n",
       "12  Rv1002c    2.792766e-12  (1118427, 1119939)  (1118427, 1120248, -1, 1818)   \n",
       "13   Rv1003    1.555204e-06  (1120021, 1120879)   (1119781, 1120879, 1, 1095)   \n",
       "14   Rv1011    2.169863e-05  (1130190, 1131111)    (1130154, 1131111, 1, 954)   \n",
       "15   Rv1025    8.826533e-05  (1146560, 1147028)    (1146536, 1147028, 1, 489)   \n",
       "16   Rv1100    0.000000e+00  (1228682, 1229384)    (1228436, 1229384, 1, 945)   \n",
       "17  Rv1119c    3.783351e-05  (1242863, 1243013)   (1242863, 1243064, -1, 198)   \n",
       "18  Rv1142c    2.131695e-11  (1269151, 1269958)  (1269151, 1270210, -1, 1056)   \n",
       "19   Rv1146    1.621436e-11  (1273354, 1274767)   (1273264, 1274767, 1, 1500)   \n",
       "20  Rv1151c    6.671446e-07  (1278903, 1279617)   (1278903, 1279818, -1, 912)   \n",
       "21  Rv1154c    1.206974e-06  (1280842, 1281484)   (1280842, 1281532, -1, 687)   \n",
       "22  Rv1258c    7.657731e-04  (1406080, 1407340)  (1406080, 1407652, -1, 1569)   \n",
       "23   Rv1259    8.913712e-04  (1407338, 1408238)   (1407149, 1408238, 1, 1086)   \n",
       "24  Rv1367c    1.220100e-04  (1539511, 1540645)  (1539511, 1540717, -1, 1203)   \n",
       "25   Rv1487    1.797995e-04  (1676940, 1677375)    (1676898, 1677375, 1, 474)   \n",
       "26   Rv1633    2.658258e-08  (1837074, 1839171)   (1836894, 1839171, 1, 2274)   \n",
       "27  Rv1703c    7.509549e-13  (1929130, 1929721)   (1929130, 1929880, -1, 747)   \n",
       "28   Rv1873    3.995895e-06  (2123173, 2123611)    (2123017, 2123611, 1, 591)   \n",
       "29   Rv1901    3.556368e-04  (2147661, 2148954)   (2147649, 2148954, 1, 1302)   \n",
       "30   Rv1932    2.559449e-06  (2183371, 2183869)   (2182576, 2183869, 1, 1290)   \n",
       "31  Rv2049c    5.913736e-04  (2307292, 2307517)   (2307292, 2307655, -1, 360)   \n",
       "32  Rv2262c    0.000000e+00  (2534469, 2535552)  (2534469, 2536116, -1, 1644)   \n",
       "33   Rv2363    8.127810e-11  (2644319, 2645774)   (2644187, 2645774, 1, 1584)   \n",
       "34   Rv2405    8.474878e-08  (2703268, 2703838)    (2703235, 2703838, 1, 600)   \n",
       "35   Rv2607    0.000000e+00  (2934197, 2934872)   (2933804, 2934872, 1, 1065)   \n",
       "36   Rv2679    3.474432e-11  (2995114, 2995945)   (2994919, 2995945, 1, 1023)   \n",
       "37  Rv2697c    8.229067e-09  (3013682, 3014147)   (3013682, 3014486, -1, 801)   \n",
       "38   Rv2740    0.000000e+00  (3053232, 3053682)   (3052323, 3053682, 1, 1356)   \n",
       "39  Rv2748c    1.216383e-11  (3059854, 3062506)  (3059854, 3062887, -1, 3030)   \n",
       "40   Rv2749    7.234204e-10  (3062504, 3062819)   (3061532, 3062819, 1, 1284)   \n",
       "41   Rv3055    3.675794e-05  (3416080, 3416695)    (3415864, 3416695, 1, 828)   \n",
       "42  Rv3271c    2.123786e-08  (3652678, 3653347)   (3652678, 3653566, -1, 885)   \n",
       "43   Rv3316    3.820642e-09  (3704101, 3704440)    (3703981, 3704440, 1, 456)   \n",
       "44   Rv3369    0.000000e+00  (3780977, 3781412)    (3780797, 3781412, 1, 612)   \n",
       "45  Rv3395A    1.094680e-13  (3811718, 3812345)   (3811268, 3812345, 1, 1074)   \n",
       "46   Rv3454    4.884981e-15  (3874821, 3876090)   (3874758, 3876090, 1, 1329)   \n",
       "47  Rv3515c    1.629686e-07  (3950823, 3952470)  (3950823, 3952710, -1, 1884)   \n",
       "48   Rv3521    1.287128e-08  (3957520, 3958432)   (3957427, 3958432, 1, 1002)   \n",
       "49   Rv3564    2.851088e-04  (4005246, 4006203)   (4005168, 4006203, 1, 1032)   \n",
       "50   Rv3574    2.102138e-05  (4016483, 4017083)   (4015622, 4017083, 1, 1458)   \n",
       "51  Rv3659c    9.377151e-04  (4096935, 4097994)  (4096935, 4098099, -1, 1161)   \n",
       "52  Rv3694c    1.395619e-07  (4136121, 4137114)  (4136121, 4137309, -1, 1185)   \n",
       "53   Rv3695    2.320459e-04  (4137205, 4138138)   (4137049, 4138138, 1, 1086)   \n",
       "54  Rv3707c    5.427702e-04  (4150029, 4151040)  (4150029, 4151178, -1, 1146)   \n",
       "55  Rv3730c    3.517285e-09  (4180679, 4181720)  (4180679, 4181864, -1, 1182)   \n",
       "56   Rv3754    2.117306e-12  (4200420, 4201326)    (4200354, 4201326, 1, 969)   \n",
       "57  Rv3764c    3.532028e-05  (4209581, 4211009)  (4209581, 4211102, -1, 1518)   \n",
       "58   Rv3818    6.728240e-05  (4282448, 4283999)   (4281440, 4283999, 1, 2556)   \n",
       "\n",
       "      DeJesus_Proposal  \n",
       "0                       \n",
       "1                       \n",
       "2                       \n",
       "3                       \n",
       "4     (586345, 587380)  \n",
       "5                       \n",
       "6     (853824, 854088)  \n",
       "7                       \n",
       "8                       \n",
       "9     (962679, 962880)  \n",
       "10                      \n",
       "11                      \n",
       "12                      \n",
       "13                      \n",
       "14                      \n",
       "15  (1146536, 1147028)  \n",
       "16                      \n",
       "17                      \n",
       "18                      \n",
       "19                      \n",
       "20                      \n",
       "21  (1280842, 1281538)  \n",
       "22                      \n",
       "23                      \n",
       "24  (1539511, 1540573)  \n",
       "25                      \n",
       "26  (1837011, 1839171)  \n",
       "27                      \n",
       "28                      \n",
       "29                      \n",
       "30                      \n",
       "31                      \n",
       "32                      \n",
       "33                      \n",
       "34                      \n",
       "35                      \n",
       "36                      \n",
       "37                      \n",
       "38                      \n",
       "39                      \n",
       "40                      \n",
       "41                      \n",
       "42                      \n",
       "43                      \n",
       "44                      \n",
       "45                      \n",
       "46                      \n",
       "47                      \n",
       "48  (3957427, 3958432)  \n",
       "49                      \n",
       "50                      \n",
       "51  (4096935, 4097889)  \n",
       "52                      \n",
       "53                      \n",
       "54                      \n",
       "55                      \n",
       "56  (4200381, 4201326)  \n",
       "57                      \n",
       "58                      "
      ]
     },
     "execution_count": 201,
     "metadata": {},
     "output_type": "execute_result"
    }
   ],
   "source": [
    "temp_2"
   ]
  },
  {
   "cell_type": "markdown",
   "id": "06293f3f-ec31-498c-a974-9deedd995768",
   "metadata": {},
   "source": [
    "#### Intergenic regions"
   ]
  },
  {
   "cell_type": "code",
   "execution_count": 24,
   "id": "4db4f21c-79c7-4a48-962b-77fde1aab2d5",
   "metadata": {},
   "outputs": [],
   "source": [
    "temp = []\n",
    "min_intergenic_length = 20\n",
    "intergenic_regions = []\n",
    "max_stop = 0\n",
    "ORFFinder = orffn.ORF_Finder(full_sequence)\n",
    "for n,cds in enumerate(mycobrowser_cds_boundaries):\n",
    "    stop = cds[3]\n",
    "    max_stop = max(stop, max_stop)\n",
    "    if n < len(mycobrowser_cds_boundaries) - 1:\n",
    "        if mycobrowser_cds_boundaries[n+1][2] > max_stop + min_intergenic_length and compass_coverage(max_stop, mycobrowser_cds_boundaries[n+1][2]) == 0:\n",
    "            intergenic_regions.append([max_stop, mycobrowser_cds_boundaries[n+1][2]])\n",
    "for [start, stop] in intergenic_regions:\n",
    "    mutation_counts = full_sample_zero_and_non_zero_mutation_counts[start:stop]#\n",
    "    temp.append((start, stop, sum([x for x in mutation_counts if x < 10]) / (len([x for x in mutation_counts if x < 10]))))"
   ]
  },
  {
   "cell_type": "code",
   "execution_count": 25,
   "id": "edf6ed6c-9838-4fa6-abef-e45f4983a0ec",
   "metadata": {},
   "outputs": [
    {
     "data": {
      "text/plain": [
       "<AxesSubplot:ylabel='Count'>"
      ]
     },
     "execution_count": 25,
     "metadata": {},
     "output_type": "execute_result"
    },
    {
     "data": {
      "image/png": "[encoded data removed]",
      "text/plain": [
       "<Figure size 432x288 with 1 Axes>"
      ]
     },
     "metadata": {
      "needs_background": "light"
     },
     "output_type": "display_data"
    }
   ],
   "source": [
    "sns.histplot([x[2] for x in temp])"
   ]
  },
  {
   "cell_type": "code",
   "execution_count": null,
   "id": "926c9a9a-b896-4f69-9cb2-60a4769b4644",
   "metadata": {},
   "outputs": [],
   "source": [
    "longest_chain_lengths = []\n",
    "for (start, stop, ave) in temp:\n",
    "    longest_chain = 0\n",
    "    chain_started = False\n",
    "    co_ords = (0,0)\n",
    "    for i in range(start, stop):\n",
    "        if full_sample_zero_and_non_zero_mutation_counts[i] == 0:\n",
    "            if chain_started == False:\n",
    "                chain_start = i\n",
    "                chain_started = True\n",
    "            else:\n",
    "                pass\n",
    "        else:\n",
    "            if chain_started == True:\n",
    "                if i - chain_start > longest_chain:\n",
    "                    longest_chain = i - chain_start\n",
    "                    co_ords = (chain_start, i)\n",
    "                chain_started = False\n",
    "    longest_chain_lengths.append(longest_chain)\n",
    "    if longest_chain > 20:\n",
    "        print(start, stop, longest_chain, co_ords, ave)"
   ]
  },
  {
   "cell_type": "code",
   "execution_count": null,
   "id": "829456c6-6e17-44d1-8631-dee76e531d5d",
   "metadata": {},
   "outputs": [],
   "source": [
    "print(full_sample_zero_and_non_zero_mutation_counts[3414958:3415434])"
   ]
  },
  {
   "cell_type": "code",
   "execution_count": null,
   "id": "095ea092-6482-46a5-97c1-1a9d41f65509",
   "metadata": {},
   "outputs": [],
   "source": [
    "print(sum([x for x in full_sample_zero_and_non_zero_mutation_counts if x <10])/len([x for x in full_sample_zero_and_non_zero_mutation_counts if x <10]))"
   ]
  },
  {
   "cell_type": "code",
   "execution_count": null,
   "id": "aa356cf0-b4f6-449f-81df-cd66784ba355",
   "metadata": {},
   "outputs": [],
   "source": [
    "print(util.reverse_complement(full_sequence[3414958:3415434]))"
   ]
  },
  {
   "cell_type": "code",
   "execution_count": null,
   "id": "edc3f283-1e90-4304-a9f1-05084c6c6e0d",
   "metadata": {},
   "outputs": [],
   "source": [
    "sns.histplot(longest_chain_lengths)"
   ]
  },
  {
   "cell_type": "markdown",
   "id": "4066dba2-61cf-4753-844b-223bd70f97c8",
   "metadata": {},
   "source": [
    "#### Produce FASTA file of annotated proteins and another FASTA file of low p-value MORFs which don't match known CDSs "
   ]
  },
  {
   "cell_type": "code",
   "execution_count": null,
   "id": "1c1302e3-e4c2-4a7a-8543-578365e7642d",
   "metadata": {},
   "outputs": [],
   "source": [
    "trns = util.Translator()\n",
    "mycobrowser_proteins = []\n",
    "for (locus, product, start, stop, strand, name, functional_category, gene_ontology) in mycobrowser_cds_boundaries:\n",
    "    protein_seq = trns.translate_sequence(full_sequence[start:stop],strand,0)\n",
    "    mycobrowser_proteins.append(['NC_000962.3@'+str(start)+'_'+str(stop)+'_'+str(strand), protein_seq[:-1]])\n",
    "util.produce_fasta_file(mycobrowser_proteins, project_dir + '/mycobrowser_proteins.faa')"
   ]
  },
  {
   "cell_type": "code",
   "execution_count": null,
   "id": "8978adf6-eec4-4ead-987b-fa976ea7eeac",
   "metadata": {},
   "outputs": [],
   "source": [
    "trns = util.Translator()\n",
    "other_sense_morfs = []\n",
    "for morf in maximal_reading_frame_orfs:\n",
    "    strand = morf[0][2]\n",
    "    start = morf[0][0]\n",
    "    stop = morf[0][1]\n",
    "    annotated_feature = ''\n",
    "    if strand == 1 and stop in new_annotation_features_dict:\n",
    "        annotated_feature = new_annotation_features_dict[stop]\n",
    "    if strand == -1 and start in new_annotation_features_dict:\n",
    "        annotated_feature = new_annotation_features_dict[start]\n",
    "    if annotated_feature == '' and morf[1] == 0:\n",
    "        protein_seq = trns.translate_sequence(full_sequence[morf[0][0]:morf[0][1]],morf[0][2],0)\n",
    "        other_sense_morfs.append(['NC_000962.3@'+str(morf[0][0])+'_'+str(morf[0][1])+'_'+str(morf[0][2]), protein_seq[:-1]])"
   ]
  },
  {
   "cell_type": "code",
   "execution_count": null,
   "id": "6b029b57-3067-4e6f-a3f9-b9a6e59aaeb7",
   "metadata": {},
   "outputs": [],
   "source": [
    "util.produce_fasta_file(other_sense_morfs, project_dir + '/other_sense_morfs.faa')"
   ]
  },
  {
   "cell_type": "code",
   "execution_count": null,
   "id": "9d0ae53d-397f-4f39-96e7-893ca3457079",
   "metadata": {},
   "outputs": [],
   "source": [
    "if 1==0:\n",
    "#if full_run == True:\n",
    "    w_d = os.getcwd()\n",
    "    os.chdir(\"F:/\")\n",
    "    subprocess.run('cd '+ project_dir + ' &  makeblastdb -in mycobrowser_proteins.faa -dbtype prot -out mycobrowser_prot', shell=True, capture_output = True)\n",
    "    os.chdir(w_d)"
   ]
  },
  {
   "cell_type": "code",
   "execution_count": null,
   "id": "052c8ec0-abed-4e27-afb1-fe06f4e49b1a",
   "metadata": {},
   "outputs": [],
   "source": [
    "if 1==0:\n",
    "#if full_run == True:\n",
    "    w_d = os.getcwd()\n",
    "    os.chdir(\"F:/\")\n",
    "    subprocess.run('cd '+ project_dir + ' &  makeblastdb -in other_sense_morfs.faa -dbtype prot -out other_sense_morf_prot', shell=True, capture_output = True)\n",
    "    os.chdir(w_d)"
   ]
  },
  {
   "cell_type": "code",
   "execution_count": null,
   "id": "e173de71-ce99-4910-85be-e62c4ec80392",
   "metadata": {},
   "outputs": [],
   "source": [
    "if 1==0:\n",
    "#if full_run == True:\n",
    "    w_d = os.getcwd()\n",
    "    os.chdir(\"F:/\")\n",
    "    subprocess.run('cd f:\\\\Datasets\\\\BLAST\\\\subj_prot & blastp -query other_sense_morfs.faa -db subj_prot -out blastp_results_other_sense_morfs_query_subject.csv -evalue 1e-7 -seg no -outfmt  \"10 qaccver saccver qlen slen pident length mismatch gapopen qstart qend sstart send evalue bitscore\" -num_threads 16', shell=True, capture_output = True)\n",
    "    subprocess.run('cd f:\\\\Datasets\\\\BLAST\\\\other_sense_morf_prot & blastp -query subject_proteins.faa -db other_sense_morf_prot -out blastp_results_subject_no_orf_query.csv -evalue 1e-7 -seg no -outfmt  \"10 qaccver saccver qlen slen pident length mismatch gapopen qstart qend sstart send evalue bitscore\" -num_threads 16', shell=True, capture_output = True)\n",
    "    os.chdir(w_d)"
   ]
  },
  {
   "cell_type": "code",
   "execution_count": null,
   "id": "4ca7e2fe-42dc-4aec-a884-19bdca8f640b",
   "metadata": {},
   "outputs": [],
   "source": [
    "if 1==0:\n",
    "#if full_run == True:\n",
    "    w_d = os.getcwd()\n",
    "    os.chdir(\"F:/\")\n",
    "    subprocess.run('cd f:\\\\Datasets\\\\BLAST\\\\subj_prot & blastp -query mycobrowser_proteins.faa -db subj_prot -out blastp_results_mycobrowser_proteins_query_subject.csv -evalue 1e-7 -seg no -outfmt  \"10 qaccver saccver qlen slen pident length mismatch gapopen qstart qend sstart send evalue bitscore\" -num_threads 16', shell=True, capture_output = True)\n",
    "    subprocess.run('cd f:\\\\Datasets\\\\BLAST\\\\mycobrowser_prot & blastp -query subject_proteins.faa -db mycobrowser_prot -out blastp_results_subject_no_orf_query.csv -evalue 1e-7 -seg no -outfmt  \"10 qaccver saccver qlen slen pident length mismatch gapopen qstart qend sstart send evalue bitscore\" -num_threads 16', shell=True, capture_output = True)\n",
    "    os.chdir(w_d)"
   ]
  },
  {
   "cell_type": "markdown",
   "id": "05029dbb-c59d-4f00-a716-a9cce31bd2cb",
   "metadata": {},
   "source": [
    "#### Establish reciprocal best hits in annotated CDS and other sense ORFs"
   ]
  },
  {
   "cell_type": "code",
   "execution_count": 28,
   "id": "12ebdd99-9e53-4d93-9c22-15d543f0534f",
   "metadata": {},
   "outputs": [],
   "source": [
    "blast_results_1 = process_blast_output('f:/Datasets/BLAST/subj_prot/blastp_results_other_sense_morfs_query_subject.csv')\n",
    "blast_results_2 = process_blast_output('f:/Datasets/BLAST/other_sense_morf_prot/blastp_results_subject_no_orf_query.csv')"
   ]
  },
  {
   "cell_type": "code",
   "execution_count": 29,
   "id": "6e298f8d-9ba6-4848-b35a-16e4c4de9515",
   "metadata": {},
   "outputs": [],
   "source": [
    "temp_df = keep_reciprocal_best_hits(blast_results_1, blast_results_2)"
   ]
  },
  {
   "cell_type": "code",
   "execution_count": 30,
   "id": "b2894426-f1d2-4e86-b0e3-7879d96f34ac",
   "metadata": {},
   "outputs": [],
   "source": [
    "blast_results_3 = process_blast_output('f:/Datasets/BLAST/subj_prot/blastp_results_mycobrowser_proteins_query_subject.csv')\n",
    "blast_results_4 = process_blast_output('f:/Datasets/BLAST/mycobrowser_prot/blastp_results_subject_no_orf_query.csv')"
   ]
  },
  {
   "cell_type": "code",
   "execution_count": 31,
   "id": "7f970a0b-4f65-4042-85c9-b63b721e8664",
   "metadata": {},
   "outputs": [],
   "source": [
    "temp_df_2 = keep_reciprocal_best_hits(blast_results_3, blast_results_4)"
   ]
  },
  {
   "cell_type": "code",
   "execution_count": null,
   "id": "0f1c5ff4-85b6-4d2c-97e0-1ec7ce785da0",
   "metadata": {},
   "outputs": [],
   "source": [
    "test_1 = temp_df[['query_accession_ver','species_count']].drop_duplicates()\n",
    "test_2 = temp_df_2[['query_accession_ver','species_count']].drop_duplicates()"
   ]
  },
  {
   "cell_type": "code",
   "execution_count": null,
   "id": "e9d6546a-4e28-44c2-95cf-d5dd5e02ef27",
   "metadata": {},
   "outputs": [],
   "source": [
    "for i, r in test_1.iterrows():\n",
    "    pos = r['query_accession_ver'].split('@')[1].split('_')\n",
    "    test_1.at[i, 'start'] = int(pos[0])\n",
    "    test_1.at[i, 'stop'] = int(pos[1])\n",
    "    test_1.at[i, 'strand'] = int(pos[2])"
   ]
  },
  {
   "cell_type": "code",
   "execution_count": null,
   "id": "69368be8-b788-446a-b59a-8ef0cb06d149",
   "metadata": {},
   "outputs": [],
   "source": [
    "for i, r in test_2.iterrows():\n",
    "    pos = r['query_accession_ver'].split('@')[1].split('_')\n",
    "    test_2.at[i, 'start'] = int(pos[0])\n",
    "    test_2.at[i, 'stop'] = int(pos[1])\n",
    "    test_2.at[i, 'strand'] = int(pos[2])"
   ]
  },
  {
   "cell_type": "code",
   "execution_count": null,
   "id": "59e28184-13b1-4057-b6d4-767ead0292aa",
   "metadata": {},
   "outputs": [],
   "source": [
    "test_1=test_1.sort_values(by='start') \n",
    "test_2=test_2.sort_values(by='start') "
   ]
  },
  {
   "cell_type": "code",
   "execution_count": null,
   "id": "6bf1745d-1e1d-4ddf-bb82-8bd2ee2a0ad6",
   "metadata": {},
   "outputs": [],
   "source": [
    "test_1.to_csv(project_dir +'/test_1.csv')\n",
    "test_2.to_csv(project_dir +'/test_2.csv')"
   ]
  },
  {
   "cell_type": "code",
   "execution_count": 26,
   "id": "2472152e-d30f-4448-a8ed-64252435a79d",
   "metadata": {},
   "outputs": [],
   "source": [
    "test_1 = pd.read_csv(project_dir +'/test_1.csv')\n",
    "test_2 = pd.read_csv(project_dir +'/test_2.csv')"
   ]
  },
  {
   "cell_type": "code",
   "execution_count": null,
   "id": "4df30a12-559a-4f8f-b9f0-b3250931b50a",
   "metadata": {},
   "outputs": [],
   "source": [
    "for i, r in test_1.iterrows():\n",
    "    (query_ref_1, num_1, start_1, stop_1) = (r['query_accession_ver'], r['species_count'], r['start'], r['stop'])\n",
    "    unmatched = 0\n",
    "    for j, s in test_2.iterrows():\n",
    "        (query_ref_2, num_2, start_2, stop_2) = (s['query_accession_ver'], s['species_count'], s['start'], s['stop'])\n",
    "        if (start_2 <= start_1 and stop_2 >= stop_1):\n",
    "            print(query_ref_1, num_1, query_ref_2, num_2)\n",
    "            temp_1 = blast_results_1.query(\"query_accession_ver == @query_ref_1\")\n",
    "            hit_species_1 = set(list(temp_1['subject_species'].unique()))\n",
    "            ave_perc_id_1 = 0\n",
    "            for i, r in temp_1.iterrows():\n",
    "                ave_perc_id_1 += r['percent_identical_matches']\n",
    "            ave_perc_id_1 = ave_perc_id_1 / len(temp_1)\n",
    "            temp_2 = blast_results_3.query(\"query_accession_ver == @query_ref_2\")\n",
    "            hit_species_2 = set(list(temp_2['subject_species'].unique()))\n",
    "            ave_perc_id_2 = 0\n",
    "            for i, r in temp_2.iterrows():\n",
    "                ave_perc_id_2 += r['percent_identical_matches']\n",
    "            ave_perc_id_2 = ave_perc_id_2 / len(temp_2)\n",
    "            print(ave_perc_id_1, ave_perc_id_2, hit_species_1.difference(hit_species_2))\n",
    "            unmatched =  1\n",
    "            break\n",
    "    if unmatched == 0:\n",
    "        print('Unmatched',query_ref_1, num_1)\n",
    "        temp_1 = blast_results_1.query(\"query_accession_ver == @query_ref_1\")\n",
    "        ave_perc_id_1 = 0\n",
    "        for i, r in temp_1.iterrows():\n",
    "            ave_perc_id_1 += r['percent_identical_matches']\n",
    "        ave_perc_id_1 = ave_perc_id_1 / len(temp_1)\n",
    "        print(ave_perc_id_1)"
   ]
  },
  {
   "cell_type": "code",
   "execution_count": 60,
   "id": "0ca40d43-8409-48a4-96f6-f1c3cebd6e79",
   "metadata": {},
   "outputs": [
    {
     "data": {
      "text/plain": [
       "4.475309012264006e-13"
      ]
     },
     "execution_count": 60,
     "metadata": {},
     "output_type": "execute_result"
    }
   ],
   "source": [
    "score_region(list(reversed(full_sample_zero_and_non_zero_mutation_counts[2124829+3:2125048-3])),2124829+3)"
   ]
  },
  {
   "cell_type": "code",
   "execution_count": 20,
   "id": "b8cad5cc-c136-4e91-808d-13f94a129ecf",
   "metadata": {},
   "outputs": [
    {
     "data": {
      "text/plain": [
       "'MLRGEIWQVDLDPARGSAANMRRPAVIVSNDRANAAAIRLDRGVVPVVPVTSNTEKVPIPGVVAGSERWPGRRFEGAGPAGWIRRCATSPLPS*'"
      ]
     },
     "execution_count": 20,
     "metadata": {},
     "output_type": "execute_result"
    }
   ],
   "source": [
    "tr = util.Translator()\n",
    "tr.translate_sequence(full_sequence[547075:547357],-1,0)"
   ]
  },
  {
   "cell_type": "code",
   "execution_count": 24,
   "id": "a57998a9-ae0d-4d61-9341-41d63f3525e2",
   "metadata": {},
   "outputs": [],
   "source": [
    "mutation_counts = list(reversed(full_sample_zero_and_non_zero_mutation_counts[547034:547357]))"
   ]
  },
  {
   "cell_type": "code",
   "execution_count": 26,
   "id": "a2587c9d-c39f-440a-b3d2-2c3e3099f96a",
   "metadata": {},
   "outputs": [
    {
     "data": {
      "text/plain": [
       "0.9597027769407592"
      ]
     },
     "execution_count": 26,
     "metadata": {},
     "output_type": "execute_result"
    }
   ],
   "source": [
    "score_region(mutation_counts, 547034)"
   ]
  },
  {
   "cell_type": "code",
   "execution_count": null,
   "id": "7cc47b9c-75b0-45a1-9194-2e1598b23d51",
   "metadata": {},
   "outputs": [],
   "source": [
    "score_region(mutation_counts = full_sample_zero_and_non_zero_mutation_counts[start:stop]\n",
    "    if strand == 1:\n",
    "        mutation_counts_2 = mutation_counts\n",
    "    else:\n",
    "        mutation_counts_2 = list(reversed(mutation_counts))\n",
    "    scores.append(score_region(mutation_counts_2, start))"
   ]
  }
 ],
 "metadata": {
  "kernelspec": {
   "display_name": "Python 3 (ipykernel)",
   "language": "python",
   "name": "python3"
  },
  "language_info": {
   "codemirror_mode": {
    "name": "ipython",
    "version": 3
   },
   "file_extension": ".py",
   "mimetype": "text/x-python",
   "name": "python",
   "nbconvert_exporter": "python",
   "pygments_lexer": "ipython3",
   "version": "3.9.7"
  }
 },
 "nbformat": 4,
 "nbformat_minor": 5
}
