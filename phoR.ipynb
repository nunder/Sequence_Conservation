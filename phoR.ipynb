{
 "cells": [
  {
   "cell_type": "code",
   "execution_count": 1,
   "id": "e36786c5-8a4d-4b87-9f58-d6a718cc37c5",
   "metadata": {},
   "outputs": [],
   "source": [
    "import pandas as pd\n",
    "pd.options.mode.chained_assignment = None  # default='warn'\n",
    "import pickle\n",
    "import seaborn as sns\n",
    "import matplotlib.pyplot as plt\n",
    "import numpy as np\n",
    "from Bio import Entrez, SeqIO, AlignIO, pairwise2, Align, Seq, motifs\n",
    "from Bio.Seq import Seq\n",
    "from Bio.SeqFeature import SeqFeature, FeatureLocation\n",
    "from scipy.stats import binom\n",
    "import math\n",
    "from tqdm.auto import tqdm\n",
    "from Comparative_Analysis import Sequence_Analysis_Routines as sar\n",
    "from Comparative_Analysis import Utilities as util\n",
    "from Comparative_Analysis import Alignment as align\n",
    "from Comparative_Analysis import Blast_Functions as blastfn\n",
    "from Comparative_Analysis import ORF_Functions as orffn\n",
    "import random\n",
    "import copy\n",
    "from joblib import Parallel, delayed\n",
    "import os\n",
    "import shutil\n",
    "import subprocess\n",
    "from Bio.Blast import NCBIWWW, NCBIXML\n",
    "from Bio.Align.Applications import MuscleCommandline\n",
    "import re\n",
    "import shutil\n",
    "import logomaker as lm"
   ]
  },
  {
   "cell_type": "code",
   "execution_count": 2,
   "id": "8dd4b26e-ff0e-4f82-aeb2-c17a2379afcd",
   "metadata": {},
   "outputs": [
    {
     "ename": "NameError",
     "evalue": "name 'seq_dir' is not defined",
     "output_type": "error",
     "traceback": [
      "\u001b[1;31m---------------------------------------------------------------------------\u001b[0m",
      "\u001b[1;31mNameError\u001b[0m                                 Traceback (most recent call last)",
      "\u001b[1;32m~\\AppData\\Local\\Temp/ipykernel_7660/2332875513.py\u001b[0m in \u001b[0;36m<module>\u001b[1;34m\u001b[0m\n\u001b[1;32m----> 1\u001b[1;33m \u001b[0mgenome_record\u001b[0m \u001b[1;33m=\u001b[0m \u001b[0mnext\u001b[0m\u001b[1;33m(\u001b[0m\u001b[0mSeqIO\u001b[0m\u001b[1;33m.\u001b[0m\u001b[0mparse\u001b[0m\u001b[1;33m(\u001b[0m\u001b[0mseq_dir\u001b[0m \u001b[1;33m+\u001b[0m \u001b[1;34m'/'\u001b[0m \u001b[1;33m+\u001b[0m \u001b[0mreference_species_filename\u001b[0m\u001b[1;33m,\u001b[0m \u001b[1;34m\"genbank\"\u001b[0m\u001b[1;33m)\u001b[0m\u001b[1;33m)\u001b[0m\u001b[1;33m\u001b[0m\u001b[1;33m\u001b[0m\u001b[0m\n\u001b[0m\u001b[0;32m      2\u001b[0m \u001b[0mfull_sequence\u001b[0m \u001b[1;33m=\u001b[0m \u001b[0mstr\u001b[0m\u001b[1;33m(\u001b[0m\u001b[0mgenome_record\u001b[0m\u001b[1;33m.\u001b[0m\u001b[0mseq\u001b[0m\u001b[1;33m)\u001b[0m\u001b[1;33m\u001b[0m\u001b[1;33m\u001b[0m\u001b[0m\n\u001b[0;32m      3\u001b[0m \u001b[0morf_finder\u001b[0m \u001b[1;33m=\u001b[0m \u001b[0morffn\u001b[0m\u001b[1;33m.\u001b[0m\u001b[0mORF_Finder\u001b[0m\u001b[1;33m(\u001b[0m\u001b[1;33m)\u001b[0m\u001b[1;33m\u001b[0m\u001b[1;33m\u001b[0m\u001b[0m\n\u001b[0;32m      4\u001b[0m \u001b[0ma\u001b[0m\u001b[1;33m=\u001b[0m\u001b[0morf_finder\u001b[0m\u001b[1;33m.\u001b[0m\u001b[0mmax_orf\u001b[0m\u001b[1;33m(\u001b[0m\u001b[1;36m852200\u001b[0m\u001b[1;33m,\u001b[0m \u001b[1;36m852700\u001b[0m\u001b[1;33m,\u001b[0m \u001b[1;36m2\u001b[0m\u001b[1;33m,\u001b[0m \u001b[1;32mTrue\u001b[0m\u001b[1;33m,\u001b[0m \u001b[1;36m100\u001b[0m\u001b[1;33m)\u001b[0m\u001b[1;33m\u001b[0m\u001b[1;33m\u001b[0m\u001b[0m\n\u001b[0;32m      5\u001b[0m \u001b[1;32mfor\u001b[0m \u001b[0morf\u001b[0m \u001b[1;32min\u001b[0m \u001b[0ma\u001b[0m\u001b[1;33m:\u001b[0m\u001b[1;33m\u001b[0m\u001b[1;33m\u001b[0m\u001b[0m\n",
      "\u001b[1;31mNameError\u001b[0m: name 'seq_dir' is not defined"
     ]
    }
   ],
   "source": [
    "genome_record = next(SeqIO.parse(seq_dir + '/' + reference_species_filename, \"genbank\"))\n",
    "full_sequence = str(genome_record.seq)\n",
    "orf_finder = orffn.ORF_Finder()\n",
    "a=orf_finder.max_orf(852200, 852700, 2, True, 100)\n",
    "for orf in a:\n",
    "    if orf[2] == -1:\n",
    "        print(orf, 852900- orf[0], 852900 - orf[1], util.reverse_complement(full_sequence[orf[0]:orf[1]]))"
   ]
  },
  {
   "cell_type": "code",
   "execution_count": 2,
   "id": "db6a281c-1236-4659-8bd4-7383cd9aa0c2",
   "metadata": {},
   "outputs": [],
   "source": [
    "full_run = True\n",
    "project_dir = 'D:/Project_Data/Project_8'\n",
    "datasets_dir = project_dir + '/Datasets'\n",
    "output_dir = project_dir + '/RScape_Local_Run_2'\n",
    "wsl_output_loc = util.wslname(output_dir)\n",
    "seq_dir = 'D:/Actinobacteria_Ref_Rep_Lev_Complete'\n",
    "blast_dir = 'D:/BLAST/actinobacteria_ref_rep_comp'\n",
    "blast_db_name = 'actinobacteria_ref_rep_comp'\n",
    "num_cores = 16\n",
    "core_numbers = list(range(1, num_cores+1))\n",
    "reference_species_filename = 'GCF_000195955.2_ASM19595v2_genomic.gbff'\n",
    "species_list = util.list_files(seq_dir)\n",
    "species_list = [x for x in species_list if '.gbff' in x]    # Exclude other files generated in directory"
   ]
  },
  {
   "cell_type": "code",
   "execution_count": 3,
   "id": "cfc8b101-a92f-43bc-bf17-b9010419bc24",
   "metadata": {},
   "outputs": [],
   "source": [
    "filename_dict = {}\n",
    "def create_filename_dict(num_subsets, subset_num, id_list):\n",
    "    ids = util.chunk_list(id_list, num_subsets, subset_num)\n",
    "    temp = []\n",
    "    for id in (ids):\n",
    "        for genome_record in SeqIO.parse(seq_dir + '/' + id, \"genbank\"):\n",
    "            organism_name = genome_record.annotations['organism']\n",
    "            accession_ver = genome_record.annotations['accessions'][0] + '.' + str(genome_record.annotations['sequence_version'])\n",
    "            temp.append((accession_ver, id))\n",
    "    return temp\n",
    "parallel_output = Parallel(n_jobs=-1)(delayed(create_filename_dict)(num_cores, core_number, species_list) for core_number in core_numbers)\n",
    "temp = [item for sublist in parallel_output for item in sublist]\n",
    "for (accession_ver, filename) in temp:\n",
    "    filename_dict[accession_ver] = filename"
   ]
  },
  {
   "cell_type": "code",
   "execution_count": 6,
   "id": "efec2081-870d-4770-bb11-ad26b1632717",
   "metadata": {},
   "outputs": [],
   "source": [
    "with open('D:/Project_Data/Project_8/Output/gene_info_dict.pkl', 'rb') as f:\n",
    "    gene_info_dict = pickle.load(f) \n",
    "with open('D:/Project_Data/Project_8/Output//names_dict.pkl', 'rb') as f:\n",
    "    names_dict = pickle.load(f) "
   ]
  },
  {
   "cell_type": "markdown",
   "id": "b9276d32-87b9-4a02-9273-c33d796993a3",
   "metadata": {},
   "source": [
    "##### Generate files containing all genic and intergenic regions in reference organism"
   ]
  },
  {
   "cell_type": "code",
   "execution_count": 7,
   "id": "ad963602-bf2d-4080-a2bd-dd76b074886b",
   "metadata": {},
   "outputs": [],
   "source": [
    "features = []\n",
    "genome_record = next(SeqIO.parse(seq_dir + '/' + reference_species_filename, \"genbank\"))\n",
    "full_sequence = str(genome_record.seq)\n",
    "mycobrowser_df = pd.read_excel(datasets_dir+'/Mycobrowser_Release_4.xlsx')\n",
    "for i, r in mycobrowser_df.iterrows():\n",
    "    if r['Strand'] == '+':\n",
    "        strand = 1\n",
    "    else:\n",
    "        strand = -1\n",
    "    features.append([r['Locus'],r['Start']-1, r['Stop'], strand])\n",
    "features.sort(key=lambda x: x[1])\n",
    "feature_info = []\n",
    "non_feature_info = []\n",
    "for i, feature in enumerate(features):\n",
    "    if feature[3] == 1:\n",
    "        feature_sequence = full_sequence[feature[1]: feature[2]]\n",
    "    else:\n",
    "        feature_sequence = util.reverse_complement(full_sequence[feature[1]: feature[2]])\n",
    "    feature_info.append([feature[0], feature[1], feature[2], feature_sequence, len(feature_sequence)])\n",
    "    if feature[1] < feature[2]:  \n",
    "        if (i + 1)< len(features) and feature[2] < features[i+1][1]:\n",
    "            utr_coords = (feature[2], features[i+1][1])\n",
    "            utr_sequence = full_sequence[feature[2]: features[i+1][1]]\n",
    "            utr_length = len(utr_sequence)\n",
    "        else:\n",
    "            utr_coords = (0,0)\n",
    "            utr_sequence = ''\n",
    "            utr_length = 0\n",
    "        non_feature_info.append([feature[0], utr_coords[0], utr_coords[1], utr_sequence, utr_length])\n",
    "genic_df = pd.DataFrame(feature_info, columns = ['Locus', 'Start' , 'End', 'Sequence', 'Length'])\n",
    "intergenic_df = pd.DataFrame(non_feature_info, columns = ['Locus', 'Start' , 'End', 'Sequence', 'Length'])"
   ]
  },
  {
   "cell_type": "markdown",
   "id": "ad67350d-b3f3-4fec-bd71-8466a5d06a39",
   "metadata": {},
   "source": [
    "##### Run HMMER and INFERNAL iteratively"
   ]
  },
  {
   "cell_type": "code",
   "execution_count": 90,
   "id": "e68a9322-7491-4f70-8cc2-b54d60e2e0fd",
   "metadata": {},
   "outputs": [],
   "source": [
    "genic_test = genic_df[genic_df.Locus.isin(['Rv0756c'])]    # True downstream gene\n",
    "intergenic_test = intergenic_df[intergenic_df.Locus.isin(['Rv0757'])]   # Annotation order upstream gene"
   ]
  },
  {
   "cell_type": "code",
   "execution_count": 10,
   "id": "95e53ca8-17c6-4ed2-8af6-4b7ad72e2c2b",
   "metadata": {},
   "outputs": [
    {
     "name": "stdout",
     "output_type": "stream",
     "text": [
      "antisense_phoR\n"
     ]
    },
    {
     "name": "stderr",
     "output_type": "stream",
     "text": [
      "100%|██████████| 1/1 [00:00<?, ?it/s]\n"
     ]
    }
   ],
   "source": [
    "hmmer_eval =  1e-10\n",
    "hmmer_eval2 = 1e-5\n",
    "query_file = 'antisense_region.faa'\n",
    "hm_model_file = 'hmm.hmm'\n",
    "antisense_sequence = util.reverse_complement(full_sequence[852286:852900])\n",
    "\n",
    "sequence_list = [['antisense_phoR', antisense_sequence]]\n",
    "locus_id = 'antisense_phoR'\n",
    "print(locus_id)\n",
    "results_dir = output_dir + '/' + 'antisense_phoR'\n",
    "if not os.path.exists(results_dir):\n",
    "    os.makedirs(results_dir)\n",
    "util.produce_fasta_file(sequence_list, results_dir + '/' + query_file)\n",
    "\n",
    "blastfn.nhmmer_search_sequence(results_dir, query_file, datasets_dir, 'full_sequences.faa', 'align_0.sto', 'output.txt', 'hsummary_0.txt', hmmer_eval) \n",
    "blastfn.align_keep_top_hit_per_species(results_dir, 'hsummary_0.txt', 'align_0.sto', 'align_bh_0.sto', 'HMMER', hmmer_eval)"
   ]
  },
  {
   "cell_type": "code",
   "execution_count": 64,
   "id": "819d3b7a-d123-49d0-803f-23c3abef0fd2",
   "metadata": {},
   "outputs": [],
   "source": [
    "def print_features(accession, stop, start):\n",
    "    output_values = []\n",
    "    for feature_info in gene_info_dict[accession]:\n",
    "        start_f = int(feature_info[1])\n",
    "        stop_f = int(feature_info[2])\n",
    "        if stop_f - start_f  > 100000:   #Something wrong!\n",
    "            continue\n",
    "        start_1 = min(stop, start)\n",
    "        stop_1 = max(stop, start)\n",
    "        if stop_1 > start_f and start_1 < stop_f:\n",
    "            overlap = (min(stop_f, stop_1) - max(start_f, start_1)) / (stop_1 - start_1)\n",
    "            print(feature_info, overlap)\n"
   ]
  },
  {
   "cell_type": "code",
   "execution_count": 32,
   "id": "8b71dbc1-8b6e-46f3-936b-866dcaa37707",
   "metadata": {},
   "outputs": [],
   "source": [
    "def find_features(accession, stop, start):\n",
    "    output_values = []\n",
    "    for feature_info in gene_info_dict[accession]:\n",
    "        start_f = int(feature_info[1])\n",
    "        stop_f = int(feature_info[2])\n",
    "        if stop_f - start_f  > 100000:   #Something wrong!\n",
    "            continue\n",
    "        start_1 = min(stop, start)\n",
    "        stop_1 = max(stop, start)\n",
    "        if stop_1 > start_f and start_1 < stop_f:\n",
    "            overlap = (min(stop_f, stop_1) - max(start_f, start_1)) / (stop_1 - start_1)\n",
    "            output_values.append((feature_info, overlap))\n",
    "            #print(feature_info, overlap)\n",
    "    return output_values"
   ]
  },
  {
   "cell_type": "code",
   "execution_count": 82,
   "id": "95bc090f-4e78-4574-9f28-95a0170017d8",
   "metadata": {},
   "outputs": [
    {
     "data": {
      "application/vnd.jupyter.widget-view+json": {
       "model_id": "52279148dfc24307a137186859b465e2",
       "version_major": 2,
       "version_minor": 0
      },
      "text/plain": [
       "0it [00:00, ?it/s]"
      ]
     },
     "metadata": {},
     "output_type": "display_data"
    },
    {
     "name": "stderr",
     "output_type": "stream",
     "text": [
      "100%|██████████| 94/94 [00:00<00:00, 95003.51it/s]\n"
     ]
    }
   ],
   "source": [
    "with open(output_dir + '/' + locus_id + '/align_bh_0.sto', 'r') as f:  \n",
    "    dict = {}\n",
    "    for l in tqdm(f):\n",
    "        if (not ('#' in l)):\n",
    "            a = l.split()\n",
    "            if len(a) > 0:\n",
    "                accession = a[0].split('/')[0]\n",
    "                if not(accession == ''):\n",
    "                    species = names_dict[accession]\n",
    "                    seq = a[1].replace('-','')\n",
    "                    if species in dict:\n",
    "                        dict[species] = dict[species] + (seq)\n",
    "                    else:\n",
    "                        dict[species] = seq\n",
    "sequence_list = []\n",
    "for k, v in dict.items():\n",
    "    if 'Myco' in k and not('lepr' in k):\n",
    "        sequence_list.append([k, v])\n",
    "util.produce_fasta_file(sequence_list, results_dir + '/antisense_region_hits.faa')                  "
   ]
  },
  {
   "cell_type": "code",
   "execution_count": 83,
   "id": "2e9466a4-8c32-4e3b-896e-a79a257d681e",
   "metadata": {},
   "outputs": [],
   "source": [
    "muscle_exe = 'C:/Users/nicho/Muscle/muscle3.8.31_i86win32.exe'\n",
    "cline = MuscleCommandline(muscle_exe, input = results_dir + '/antisense_region_hits.faa', out=results_dir + '/antisense_region_alignment.fasta')\n",
    "try:\n",
    "    stdout, stderr = cline()\n",
    "except Exception as e:\n",
    "    pass"
   ]
  },
  {
   "cell_type": "code",
   "execution_count": 63,
   "id": "3dcaed76-fff7-4676-a948-6975a6482b1c",
   "metadata": {},
   "outputs": [
    {
     "data": {
      "text/plain": [
       "'GAGTGCCGTATAGCTCTGGCCGTCGGGGCTGATCACCCGAACGTAGAACCTCGACGGCGGCCGATCGGGGTTATGACCAGGGTAGGGGTCCGGCGCCAAGGGCAGCGTGATCTGCGCCCAGATTTGGGCTTCCTCGAGCAACACCCGATCGATCCGGCTGGTCAGCCGGTGCTGCAACATCGAGGTGACCGCGATCCCCGAGGCCACAAGTCCAGTGGCCACCAGGATCAGCGTGGCTGCGACCAGGCGTACCCGTAGGGGCAGCCTTCCTCGAAGGTGTCTGGCCATTGCCGCGTTCTCCTCGGGCTGCCGATCCGATTAACTACCAAGACTCATCGAGGCTCCCGCAGTACGTAGCCCACCCCGCGCAGCGTGTGCAGCAGCCGCTTCTCCCCAG'"
      ]
     },
     "execution_count": 63,
     "metadata": {},
     "output_type": "execute_result"
    }
   ],
   "source": [
    "util.reverse_complement(full_sequence[852286:852683])"
   ]
  },
  {
   "cell_type": "code",
   "execution_count": 93,
   "id": "4b06983e-5642-48f4-95ba-9a90be7dead7",
   "metadata": {},
   "outputs": [],
   "source": [
    "homolog_hits = []\n",
    "with open(output_dir + '/' + locus_id + '/hsummary_0.txt', 'r') as f:  \n",
    "    for l in f:\n",
    "        if (not ('#' in l)):\n",
    "            a = l.split()\n",
    "            accession = a[0]\n",
    "            species = names_dict[a[0]]\n",
    "            seq_from = int(a[6])\n",
    "            seq_to = int(a[7])\n",
    "            if a[11] == '+':\n",
    "                strand = 1\n",
    "            else:\n",
    "                strand = -1\n",
    "            e_value = float(a[12])\n",
    "            start = min(seq_from,seq_to) - 1\n",
    "            stop = max(seq_from, seq_to)\n",
    "            if e_value < 1e-10:\n",
    "                for feature in (find_features(accession, start, stop)):\n",
    "                    if feature[1] > 0.9 and not (feature[0][0][-2:] == 'IG'):\n",
    "                        homolog_hits.append((accession, filename_dict[accession], start, stop, strand, e_value))\n",
    "                        break"
   ]
  },
  {
   "cell_type": "code",
   "execution_count": null,
   "id": "a57bc2f6-4174-47cb-9101-b3279d8a0e82",
   "metadata": {},
   "outputs": [],
   "source": []
  },
  {
   "cell_type": "code",
   "execution_count": 95,
   "id": "ba1e2137-9cdf-4f2d-8b88-e7a79b6b3f43",
   "metadata": {},
   "outputs": [
    {
     "name": "stderr",
     "output_type": "stream",
     "text": [
      "100%|██████████| 189/189 [00:00<00:00, 47143.83it/s]\n"
     ]
    }
   ],
   "source": [
    "util.produce_fasta_file(temp, output_dir + '/upstream_regions.faa')  "
   ]
  },
  {
   "cell_type": "code",
   "execution_count": 96,
   "id": "865c3f3b-6483-4032-b796-e3d1ce0d7798",
   "metadata": {},
   "outputs": [
    {
     "name": "stdout",
     "output_type": "stream",
     "text": [
      "NC_000962.3 GCF_000195955.2_ASM19595v2_genomic.gbff 850740 851466 -1 4.6e-210\n",
      "GCCACCAGGATCAGCGTGGCTGCGACCAGGCGTACCCGTAGGGGCAGCCTTCCTCGAAGGTGTCTGGCCATTGCCGCGTTCTCCTCGGGCTGCCGATCCGATTAACTACCAAGACTCATCGAGGCTCCCGCAGTACGTAGCCCACCCCGCGCAGCGTGTGCAGCAGCCGCTTCTCCCCAGTGTCGATCTTGCGGCGCAGATACGACACGTAGGACTCGACGACGTTGACATCACCACCGAAGTCGTAGCGCCAAACGTGGTCGAGAATCTTAGGCTTGCTCAGCACGGTGCCCGCGTTGATCACGAAATAGCGCAGCAGGGTGAATTCGGTGGGCGACAGCGACACCGGTTGGCCCGCCTTCCACACTTCGTGGGTCTCCTCGTCGAGCTCGATATCGGCGAACGTCAGTCGAACATTACGTGGTTCCTTGTTGCCCTTGCCCGCGCGTCGCAGGATGACCCGCAGCCTGGCCACGACCTCCTCCAAACTGAAGGGCTTTGTCACATAGTCGTCACCACCCAGGGTCAGACCCGCGATCTTGTCCTGTAGCGAGTCACGGGCCGTCAGGAACAACGCCGGGGCATCGATGCCGTCGGCGCGCAGCCGGCGCAGCACCCCAAAGCCGTCCATCCCGGGCATCATCACATCGAGGATCACCGCGTCCGGCCGGGTTTCCCGGGCCCGATCCAGCGCCTGTGCCCCGTTGGTCGCGGTGTAGACTTCAAAGCCCTGGAACTTGAGGCTCACCGACAGCAGTTCAACGATGTTGGCCTCATCATCGACCACGAGGACACGAGCCTCCGGTGTGGTGTTTTCGCCTGGGGTTCCCGCCGTCACGAGATCAACCCCTTTCCGCATTGGTTGAACGTTACCTTCACAGTCATTGTGTAATTCCTGAAAGCTCGTTGCCAGTAGTCTGCTAACAGTCTGCCAGGAATCGCCAAATCAGCTTGGACCGTTGCCGCTCAATCCACGGCGCGCCGTGAATACACTCGCAGA\n"
     ]
    }
   ],
   "source": [
    "for (accession, filename, start, stop, strand, e_value) in homolog_hits:\n",
    "        for genome_record in SeqIO.parse(seq_dir + '/' + filename, \"genbank\"):\n",
    "            full_sequence = str(genome_record.seq)\n",
    "            print(accession, filename, start, stop, strand, e_value)\n",
    "            if strand == 1:\n",
    "                upstream_sequence = full_sequence[max(0, start - 1000): start]\n",
    "            else:\n",
    "                upstream_sequence = util.reverse_complement(full_sequence[stop: (stop+1000)])\n",
    "            print(upstream_sequence)\n",
    "        break"
   ]
  },
  {
   "cell_type": "code",
   "execution_count": 80,
   "id": "d7027fef-50c1-446d-b25c-4fe256371c82",
   "metadata": {},
   "outputs": [
    {
     "ename": "FileNotFoundError",
     "evalue": "[WinError 2] The system cannot find the file specified: 'D:/Project_Data/Project_8/RScape_Local_Run_2/antisense_phoR/search_hits_2.txt'",
     "output_type": "error",
     "traceback": [
      "\u001b[1;31m---------------------------------------------------------------------------\u001b[0m",
      "\u001b[1;31mFileNotFoundError\u001b[0m                         Traceback (most recent call last)",
      "\u001b[1;32m~\\AppData\\Local\\Temp/ipykernel_22752/49542086.py\u001b[0m in \u001b[0;36m<module>\u001b[1;34m\u001b[0m\n\u001b[0;32m     16\u001b[0m \u001b[0mblastfn\u001b[0m\u001b[1;33m.\u001b[0m\u001b[0minfernal_build_and_calib\u001b[0m\u001b[1;33m(\u001b[0m\u001b[0mresults_dir\u001b[0m\u001b[1;33m,\u001b[0m \u001b[1;34m'rscape_1.cacofold.R2R.sto'\u001b[0m \u001b[1;33m,\u001b[0m\u001b[1;34m'cm_2.cm'\u001b[0m\u001b[1;33m)\u001b[0m\u001b[1;33m\u001b[0m\u001b[1;33m\u001b[0m\u001b[0m\n\u001b[0;32m     17\u001b[0m \u001b[0mblastfn\u001b[0m\u001b[1;33m.\u001b[0m\u001b[0minfernal_search\u001b[0m\u001b[1;33m(\u001b[0m\u001b[0mresults_dir\u001b[0m\u001b[1;33m,\u001b[0m \u001b[1;34m'cm_2.cm'\u001b[0m\u001b[1;33m,\u001b[0m \u001b[0moutput_dir\u001b[0m\u001b[1;33m,\u001b[0m \u001b[1;34m'antisense_region_hits.faa'\u001b[0m\u001b[1;33m,\u001b[0m \u001b[1;34m'search_2.sto'\u001b[0m\u001b[1;33m,\u001b[0m \u001b[1;34m'search_hits_2.txt'\u001b[0m\u001b[1;33m,\u001b[0m \u001b[1;34m'summary_2.txt'\u001b[0m\u001b[1;33m,\u001b[0m \u001b[0minfernal_eval\u001b[0m\u001b[1;33m)\u001b[0m\u001b[1;33m\u001b[0m\u001b[1;33m\u001b[0m\u001b[0m\n\u001b[1;32m---> 18\u001b[1;33m \u001b[1;32mif\u001b[0m \u001b[0mos\u001b[0m\u001b[1;33m.\u001b[0m\u001b[0mpath\u001b[0m\u001b[1;33m.\u001b[0m\u001b[0mgetsize\u001b[0m\u001b[1;33m(\u001b[0m\u001b[0mresults_dir\u001b[0m \u001b[1;33m+\u001b[0m \u001b[1;34m'/search_hits_2.txt'\u001b[0m\u001b[1;33m)\u001b[0m \u001b[1;33m<\u001b[0m \u001b[1;36m1e7\u001b[0m\u001b[1;33m:\u001b[0m\u001b[1;33m\u001b[0m\u001b[1;33m\u001b[0m\u001b[0m\n\u001b[0m\u001b[0;32m     19\u001b[0m     \u001b[0mblastfn\u001b[0m\u001b[1;33m.\u001b[0m\u001b[0malign_keep_top_hit_per_species\u001b[0m\u001b[1;33m(\u001b[0m\u001b[0mresults_dir\u001b[0m\u001b[1;33m,\u001b[0m \u001b[1;34m'summary_2.txt'\u001b[0m\u001b[1;33m,\u001b[0m \u001b[1;34m'search_2.sto'\u001b[0m\u001b[1;33m,\u001b[0m \u001b[1;34m'search_bh_2.sto'\u001b[0m\u001b[1;33m,\u001b[0m \u001b[1;34m'INFERNAL'\u001b[0m\u001b[1;33m,\u001b[0m \u001b[0minfernal_eval\u001b[0m\u001b[1;33m)\u001b[0m\u001b[1;33m\u001b[0m\u001b[1;33m\u001b[0m\u001b[0m\n\u001b[0;32m     20\u001b[0m     \u001b[0mblastfn\u001b[0m\u001b[1;33m.\u001b[0m\u001b[0mrun_rscape\u001b[0m\u001b[1;33m(\u001b[0m\u001b[0mresults_dir\u001b[0m\u001b[1;33m,\u001b[0m \u001b[1;34m'search_bh_2.sto'\u001b[0m\u001b[1;33m,\u001b[0m \u001b[1;34m'rscape_2'\u001b[0m\u001b[1;33m)\u001b[0m\u001b[1;33m\u001b[0m\u001b[1;33m\u001b[0m\u001b[0m\n",
      "\u001b[1;32m~\\Anaconda3\\envs\\Bioinformatics\\lib\\genericpath.py\u001b[0m in \u001b[0;36mgetsize\u001b[1;34m(filename)\u001b[0m\n\u001b[0;32m     48\u001b[0m \u001b[1;32mdef\u001b[0m \u001b[0mgetsize\u001b[0m\u001b[1;33m(\u001b[0m\u001b[0mfilename\u001b[0m\u001b[1;33m)\u001b[0m\u001b[1;33m:\u001b[0m\u001b[1;33m\u001b[0m\u001b[1;33m\u001b[0m\u001b[0m\n\u001b[0;32m     49\u001b[0m     \u001b[1;34m\"\"\"Return the size of a file, reported by os.stat().\"\"\"\u001b[0m\u001b[1;33m\u001b[0m\u001b[1;33m\u001b[0m\u001b[0m\n\u001b[1;32m---> 50\u001b[1;33m     \u001b[1;32mreturn\u001b[0m \u001b[0mos\u001b[0m\u001b[1;33m.\u001b[0m\u001b[0mstat\u001b[0m\u001b[1;33m(\u001b[0m\u001b[0mfilename\u001b[0m\u001b[1;33m)\u001b[0m\u001b[1;33m.\u001b[0m\u001b[0mst_size\u001b[0m\u001b[1;33m\u001b[0m\u001b[1;33m\u001b[0m\u001b[0m\n\u001b[0m\u001b[0;32m     51\u001b[0m \u001b[1;33m\u001b[0m\u001b[0m\n\u001b[0;32m     52\u001b[0m \u001b[1;33m\u001b[0m\u001b[0m\n",
      "\u001b[1;31mFileNotFoundError\u001b[0m: [WinError 2] The system cannot find the file specified: 'D:/Project_Data/Project_8/RScape_Local_Run_2/antisense_phoR/search_hits_2.txt'"
     ]
    }
   ],
   "source": [
    "hmmer_eval =  1e-10\n",
    "hmmer_eval_2 = 1e-5\n",
    "infernal_eval = 1e-5\n",
    "query_file = 'intergenic_region.faa'\n",
    "hm_model_file = 'hmm.hmm'\n",
    "cm_model_file = 'cm.cm'\n",
    "\n",
    "\n",
    "blastfn.infernal_build_and_calib(results_dir, 'align_bh_0.sto' ,'cm_1.cm', False)\n",
    "blastfn.infernal_search(results_dir, 'cm_1.cm', output_dir, 'antisense_region_hits.faa', 'search_1.sto', 'search_hits_1.txt', 'summary_1.txt', infernal_eval) \n",
    "if os.path.getsize(results_dir + '/search_hits_1.txt') < 1e7:\n",
    "    blastfn.align_keep_top_hit_per_species(results_dir, 'summary_1.txt', 'search_1.sto', 'search_bh_1.sto', 'INFERNAL', infernal_eval)\n",
    "    blastfn.run_rscape(results_dir, 'search_bh_1.sto', 'rscape_1')\n",
    "\n",
    "#2\n",
    "blastfn.infernal_build_and_calib(results_dir, 'rscape_1.cacofold.R2R.sto' ,'cm_2.cm')\n",
    "blastfn.infernal_search(results_dir, 'cm_2.cm', output_dir, 'antisense_region_hits.faa', 'search_2.sto', 'search_hits_2.txt', 'summary_2.txt', infernal_eval) \n",
    "if os.path.getsize(results_dir + '/search_hits_2.txt') < 1e7:\n",
    "    blastfn.align_keep_top_hit_per_species(results_dir, 'summary_2.txt', 'search_2.sto', 'search_bh_2.sto', 'INFERNAL', infernal_eval)\n",
    "    blastfn.run_rscape(results_dir, 'search_bh_2.sto', 'rscape_2')\n",
    "\n",
    "#3\n",
    "#'search_bh_2.sto'\n",
    "blastfn.infernal_build_and_calib(results_dir, 'rscape_2.cacofold.R2R.sto' ,'cm_3.cm')\n",
    "blastfn.infernal_search(results_dir, 'cm_3.cm', output_dir, 'antisense_region_hits.faa', 'search_3.sto', 'search_hits_3.txt', 'summary_3.txt', infernal_eval) \n",
    "if os.path.getsize(results_dir + '/search_hits_3.txt') < 1e7:\n",
    "    blastfn.align_keep_top_hit_per_species(results_dir, 'summary_3.txt', 'search_3.sto', 'search_bh_3.sto', 'INFERNAL', infernal_eval)\n",
    "    blastfn.run_rscape(results_dir, 'search_3.sto', 'rscape_3')"
   ]
  },
  {
   "cell_type": "code",
   "execution_count": 57,
   "id": "4d5ad5c3-0808-4b91-b91d-442420c08c39",
   "metadata": {},
   "outputs": [],
   "source": [
    "locus_id = 'Rv0439c'"
   ]
  },
  {
   "cell_type": "code",
   "execution_count": 44,
   "id": "e2fda6ac-2b78-460b-9681-d29aecadb4c7",
   "metadata": {},
   "outputs": [
    {
     "data": {
      "text/plain": [
       "'GTCTTGGTAGTTAATCGGATCGGCAGCCCGAGGAGAACGCGGCAA'"
      ]
     },
     "execution_count": 44,
     "metadata": {},
     "output_type": "execute_result"
    }
   ],
   "source": [
    "full_sequence[852351:852396]"
   ]
  },
  {
   "cell_type": "code",
   "execution_count": 89,
   "id": "cca70121-fdce-4098-895f-8f599a574567",
   "metadata": {},
   "outputs": [
    {
     "name": "stdout",
     "output_type": "stream",
     "text": [
      "Mycobacterium ostraviense NZ_CP089224.1 87490 87622 + 2.3e-25\n",
      "Mycobacterium heidelbergense NZ_AP022615.1 2722378 2722510 + 1.3e-24\n",
      "Mycobacterium canettii CIPT 140010059 NC_015848.1 861827 861960 + 1.8e-24\n",
      "Mycobacterium tuberculosis variant bovis BCG str. Pasteur 1173P2 AM408590.1 883254 883387 + 4.8e-24\n",
      "Mycobacterium tuberculosis variant bovis AF2122/97 LT708304.1 853661 853794 + 4.8e-24\n",
      "Mycobacterium tuberculosis H37Rv NC_000962.3 851471 851604 + 5.2e-24\n",
      "Mycobacterium parmense NZ_AP022614.1 4906113 4906245 + 6.5e-24\n",
      "Mycobacterium kansasii ATCC 12478 NC_022663.1 2523101 2522969 - 1.4e-23\n",
      "Mycobacterium shottsii NZ_AP022572.1 372938 372806 - 4.3e-23\n",
      "Mycobacterium marinum NZ_CP058277.1 801616 801484 - 4.3e-23\n",
      "Mycobacterium malmoense NZ_CP080999.1 4788538 4788408 - 4.7e-23\n",
      "Mycobacterium pseudoshottsii JCM 15466 NZ_AP018410.1 5539864 5539732 - 5.7e-23\n",
      "Mycobacterium florentinum NZ_AP022576.1 4352964 4353097 + 6.3e-23\n",
      "Mycobacterium ulcerans NZ_CP085200.1 335018 335150 + 9.6e-23\n",
      "Mycobacterium basiliense NZ_LR130759.1 4934649 4934517 - 2.4e-22\n",
      "Mycobacterium shinjukuense NZ_AP022575.1 4350611 4350743 + 8.2e-22\n",
      "Mycobacterium marseillense NZ_CP023147.1 569661 569793 + 3.3e-21\n",
      "Mycobacterium seoulense NZ_AP022582.1 3613262 3613130 - 3e-20\n",
      "Mycobacterium spongiae NZ_CP046600.1 4979226 4979093 - 3.8e-20\n",
      "Mycobacterium mantenii NZ_AP022590.1 5243043 5243175 + 6.1e-20\n",
      "Mycobacterium intracellulare ATCC 13950 NC_016946.1 590107 590240 + 8.6e-20\n",
      "Mycobacterium paraintracellulare NZ_AP024251.1 762366 762499 + 8.6e-20\n",
      "Mycobacterium paraseoulense NZ_AP022619.1 3450235 3450103 - 1.5e-19\n",
      "Mycobacterium stomatepiae NZ_AP022587.1 4626605 4626738 + 1.6e-19\n",
      "Mycobacterium haemophilum DSM 44634 NZ_CP011883.2 3680258 3680126 - 8.5e-19\n",
      "Mycobacterium vicinigordonae NZ_CP059165.1 5632920 5632788 - 1.5e-18\n",
      "Mycobacterium lacus NZ_AP022581.1 76346 76487 + 1.2e-17\n",
      "Mycobacterium conspicuum NZ_AP022613.1 5188168 5188057 - 8.6e-16\n",
      "Mycobacterium simiae NZ_AP022568.1 3211147 3211279 + 2.8e-15\n",
      "Mycobacterium shigaense NZ_AP018164.1 4703605 4703472 - 3.3e-15\n",
      "Mycobacterium paragordonae NZ_CP025546.1 6048676 6048544 - 6.1e-15\n",
      "Mycobacterium lepromatosis NZ_CP083405.1 2435070 2434939 - 9e-09\n",
      "Mycobacterium noviomagense NZ_AP022583.1 1207563 1207462 - 4.6\n",
      "Catenulispora acidiphila DSM 44928 NC_013131.1 6733320 6733426 + 5.2\n"
     ]
    }
   ],
   "source": [
    "with open('D:/Project_Data/Project_8/RScape_Run_Thoth_3' + '/Rv0756c'  + '/summary.txt', 'r') as f:  \n",
    "    for l in f:\n",
    "        if (not ('#' in l)):\n",
    "            a = l.split()\n",
    "            print(names_dict[a[0]], a[0],a[7],a[8],a[9],a[15])\n",
    "          "
   ]
  },
  {
   "cell_type": "code",
   "execution_count": 71,
   "id": "d2bf7d52-90dc-4286-917f-0cec4ad0a511",
   "metadata": {},
   "outputs": [
    {
     "name": "stdout",
     "output_type": "stream",
     "text": [
      "ECF RNA polymerase sigma factor SigG\n",
      "ECF RNA polymerase sigma factor SigK\n",
      "anti-anti-sigma factor\n",
      "ECF RNA polymerase sigma factor SigL\n",
      "ECF RNA polymerase sigma factor SigI\n",
      "ECF RNA polymerase sigma factor SigE\n",
      "sigma factor regulatory protein\n",
      "ECF RNA polymerase sigma factor SigC\n",
      "RNA polymerase sigma factor SigA\n",
      "RNA polymerase sigma factor SigB\n",
      "anti-sigma factor RshA\n",
      "ECF RNA polymerase sigma factor SigH\n",
      "RNA polymerase sigma factor SigF\n",
      "anti-sigma factor RsbW\n",
      "ECF RNA polymerase sigma factor SigJ\n",
      "ECF RNA polymerase sigma factor SigD\n",
      "anti-anti-sigma factor RsfB\n",
      "ECF RNA polymerase sigma factor SigM\n"
     ]
    }
   ],
   "source": [
    "genome_record = next(SeqIO.parse(seq_dir + '/' + reference_species_filename, \"genbank\"))\n",
    "for feature in genome_record.features:\n",
    "                    a = feature.qualifiers\n",
    "                    if feature.type == 'CDS':\n",
    "                        if a.get(\"locus_tag\")!= None and a.get(\"translation\")!= None:\n",
    "                            locus_tag = a.get(\"locus_tag\")[0]\n",
    "                            if a.get(\"product\")!= None:\n",
    "                                product = a.get(\"product\")[0]\n",
    "                                if 'sigma factor' in product:\n",
    "                                    print(product)"
   ]
  },
  {
   "cell_type": "code",
   "execution_count": 74,
   "id": "25f6ee86-4366-4f3c-bab9-f044711a8bd8",
   "metadata": {},
   "outputs": [
    {
     "name": "stdout",
     "output_type": "stream",
     "text": [
      "NZ_CP102342.1 GCF_024600175.1_ASM2460017v1_genomic.gbff\n"
     ]
    }
   ],
   "source": [
    "for k, v in names_dict.items():\n",
    "    if 'egmatis' in v:\n",
    "        print(k, filename_dict[k])"
   ]
  },
  {
   "cell_type": "code",
   "execution_count": 75,
   "id": "f48087ec-c73e-421e-bf02-445f0e47f351",
   "metadata": {},
   "outputs": [
    {
     "name": "stdout",
     "output_type": "stream",
     "text": [
      "sigma-70 family RNA polymerase sigma factor\n",
      "sigma-70 family RNA polymerase sigma factor\n",
      "sigma-70 family RNA polymerase sigma factor\n",
      "anti-sigma factor antagonist\n",
      "sigma-70 family RNA polymerase sigma factor\n",
      "sigma-70 family RNA polymerase sigma factor\n",
      "sigma-70 family RNA polymerase sigma factor\n",
      "sigma-70 family RNA polymerase sigma factor\n",
      "sigma-70 family RNA polymerase sigma factor\n",
      "sigma-70 family RNA polymerase sigma factor\n",
      "sigma-70 family RNA polymerase sigma factor\n",
      "RNA polymerase sigma factor SigF\n",
      "sigma-70 family RNA polymerase sigma factor SigH\n",
      "sigma-70 family RNA polymerase sigma factor\n",
      "RNA polymerase sigma factor\n",
      "sigma-70 family RNA polymerase sigma factor\n",
      "sigma-70 family RNA polymerase sigma factor\n",
      "sigma-70 family RNA polymerase sigma factor\n",
      "RNA polymerase sigma factor\n",
      "sigma-70 family RNA polymerase sigma factor\n",
      "RNA polymerase sigma factor SigE\n",
      "sigma-70 family RNA polymerase sigma factor\n",
      "anti-sigma factor\n",
      "RNA polymerase sigma factor\n",
      "RNA polymerase sigma factor SigJ\n",
      "RNA polymerase sigma factor SigM\n"
     ]
    }
   ],
   "source": [
    "genome_record = next(SeqIO.parse(seq_dir + '/' + 'GCF_024600175.1_ASM2460017v1_genomic.gbff', \"genbank\"))\n",
    "for feature in genome_record.features:\n",
    "                    a = feature.qualifiers\n",
    "                    if feature.type == 'CDS':\n",
    "                        if a.get(\"locus_tag\")!= None and a.get(\"translation\")!= None:\n",
    "                            locus_tag = a.get(\"locus_tag\")[0]\n",
    "                            if a.get(\"product\")!= None:\n",
    "                                product = a.get(\"product\")[0]\n",
    "                                if 'sigma factor' in product:\n",
    "                                    print(product)"
   ]
  },
  {
   "cell_type": "code",
   "execution_count": 86,
   "id": "9f979f98-966f-4492-99a7-5d4974bf1f45",
   "metadata": {},
   "outputs": [
    {
     "data": {
      "text/plain": [
       "'TTACGCCCGGGCGGGCCCCCACCCGGTGCCCGGAACACAAACCCGCACGCGGCGCACCCGCAACGAGCCCGCCGACGGGCCAGTGATGGCAGTCTGTGAAGGAACTTGACCGAGTTATTGAGCGCAAGCCTCGGCCCGGACACAGAAAGGCGGCAAA'"
      ]
     },
     "execution_count": 86,
     "metadata": {},
     "output_type": "execute_result"
    }
   ],
   "source": [
    "util.reverse_complement(full_sequence[12311:12468])"
   ]
  },
  {
   "cell_type": "code",
   "execution_count": 87,
   "id": "72c2b3eb-645a-43ad-8c86-d4e884e31e3e",
   "metadata": {},
   "outputs": [
    {
     "data": {
      "text/plain": [
       "'TTTGCCGCCTTTCTGTGTCCGGGCCGAGGCTTGCGCTCAATAACTCGGTCAAGTTCCTTCACAGACTGCCATCACTGGCCCGTCGGCGGGCTCGTTGCGGGTGCGCCGCGTGCGGGTTTGTGTTCCGGGCACCGGGTGGGGGCCCGCCCGGGCGTAA'"
      ]
     },
     "execution_count": 87,
     "metadata": {},
     "output_type": "execute_result"
    }
   ],
   "source": [
    "full_sequence[12311:12468]"
   ]
  },
  {
   "cell_type": "code",
   "execution_count": null,
   "id": "0bf0bf10-2524-4f64-b972-79f6f83f211e",
   "metadata": {},
   "outputs": [],
   "source": []
  }
 ],
 "metadata": {
  "kernelspec": {
   "display_name": "Python 3 (ipykernel)",
   "language": "python",
   "name": "python3"
  },
  "language_info": {
   "codemirror_mode": {
    "name": "ipython",
    "version": 3
   },
   "file_extension": ".py",
   "mimetype": "text/x-python",
   "name": "python",
   "nbconvert_exporter": "python",
   "pygments_lexer": "ipython3",
   "version": "3.9.7"
  }
 },
 "nbformat": 4,
 "nbformat_minor": 5
}
