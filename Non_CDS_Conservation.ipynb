{
 "cells": [
  {
   "cell_type": "markdown",
   "id": "50da8fa4-e4d1-4e99-9df9-f2593cc0c057",
   "metadata": {},
   "source": [
    "##### Import modules and set up file locations"
   ]
  },
  {
   "cell_type": "code",
   "execution_count": 1,
   "id": "c9417e01-aa2a-4297-8948-c0c526434b04",
   "metadata": {},
   "outputs": [],
   "source": [
    "full_run = False"
   ]
  },
  {
   "cell_type": "code",
   "execution_count": 2,
   "id": "694b2495-3118-4d6a-9934-5f46d80dfa5c",
   "metadata": {},
   "outputs": [
    {
     "name": "stderr",
     "output_type": "stream",
     "text": [
      "C:\\Users\\nicho\\Anaconda3\\envs\\Projects\\lib\\site-packages\\ete3-3.1.2-py3.7.egg\\ete3\\evol\\parser\\codemlparser.py:221: SyntaxWarning: \"is\" with a literal. Did you mean \"==\"?\n",
      "C:\\Users\\nicho\\Anaconda3\\envs\\Projects\\lib\\site-packages\\ete3-3.1.2-py3.7.egg\\ete3\\evol\\parser\\codemlparser.py:221: SyntaxWarning: \"is\" with a literal. Did you mean \"==\"?\n"
     ]
    }
   ],
   "source": [
    "from Comparative_Analysis import Sequence_Analysis_Routines as sar\n",
    "from Comparative_Analysis import HMM as hmm\n",
    "from Comparative_Analysis import Utilities as util\n",
    "from Comparative_Analysis import Alignment_HMM as alignment_hmm\n",
    "from Comparative_Analysis import Alignment_Analysis as alignment_analysis\n",
    "from Comparative_Analysis import Alignment as align\n",
    "import random\n",
    "from joblib import Parallel, delayed\n",
    "from scipy import optimize as opt\n",
    "from tqdm import tqdm\n",
    "import matplotlib.pyplot as plt\n",
    "import logomaker as lm\n",
    "import math\n",
    "import pandas as pd\n",
    "import subprocess\n",
    "import numpy as np\n",
    "import ete3;\n",
    "import pickle"
   ]
  },
  {
   "cell_type": "code",
   "execution_count": 3,
   "id": "773a1d9c-8b02-447d-8b4c-41e9d5d24f83",
   "metadata": {},
   "outputs": [],
   "source": [
    "project_dir = 'D:/Project_Data/Project_3'\n",
    "sonic_paranoid_run_name = 'Run_Without_Outgroup'\n",
    "outgroup_sonic_paranoid_run_name = 'Run_With_Outgroup'\n",
    "genome_datasets_dir = project_dir + '/Datasets/NCBI_Datasets_Close_Species/'\n",
    "output_dir = project_dir + '/Output/Close_Species'\n",
    "protein_fasta_output_loc = output_dir + '/Protein_Sequences'\n",
    "outgroup_protein_fasta_output_loc = output_dir + '/Protein_Sequences_With_Outgroup'\n",
    "sonic_paranoid_output_loc = output_dir + '/Sonic_Paranoid_Output'\n",
    "ortholog_file_ref = sonic_paranoid_output_loc + '/runs/' + sonic_paranoid_run_name + '/ortholog_groups/flat.ortholog_groups.tsv'\n",
    "outgroup_ortholog_file_ref = sonic_paranoid_output_loc + '/runs/' + outgroup_sonic_paranoid_run_name + '/ortholog_groups/flat.ortholog_groups.tsv'\n",
    "non_cds_output_dir = output_dir + '/Multiple_Alignment_Data/Non_CDS'\n",
    "upstream_non_cds_output_dir = output_dir + '/Multiple_Alignment_Data/Upstream_Non_CDS'\n",
    "cds_output_dir = output_dir + '/Multiple_Alignment_Data/CDS'\n",
    "extended_cds_output_dir = output_dir + '/Multiple_Alignment_Data/Extended_CDS'\n",
    "outgroup_cds_output_dir = output_dir + '/Multiple_Alignment_Data/CDS_With_Outgroup'\n",
    "outgroup_concatenated_cds_output_dir = output_dir + '/Multiple_Alignment_Data/CDS_With_Outgroup_Concatenated'"
   ]
  },
  {
   "cell_type": "code",
   "execution_count": 4,
   "id": "56139988-efa1-4bb1-9cd3-4cdd90020453",
   "metadata": {},
   "outputs": [],
   "source": [
    "num_cores = 16\n",
    "core_numbers = list(range(1, num_cores+1))\n",
    "non_cds_offset = 50\n",
    "extended_cds_offset = 100\n",
    "tb_species = 'GCF_000195955.2'\n",
    "outgroup_species = 'GCF_000696675.2'"
   ]
  },
  {
   "cell_type": "markdown",
   "id": "cf829bb3-e529-4170-ad7b-9d885d57f851",
   "metadata": {},
   "source": [
    "##### Determine genomes in ortholog family, generate protein files and run Sonic Paranoid (both with and without outgroup - outgroup needed for tree building)"
   ]
  },
  {
   "cell_type": "code",
   "execution_count": 5,
   "id": "df7a7627-bb45-4679-97ef-ed8f209447fb",
   "metadata": {},
   "outputs": [],
   "source": [
    "genome_ids_with_outgroup = util.list_dirs(genome_datasets_dir)\n",
    "genome_ids = util.list_dirs(genome_datasets_dir)\n",
    "genome_ids.remove(outgroup_species)\n",
    "num_ids = len(genome_ids)\n",
    "num_ids_with_outgroup = len(genome_ids_with_outgroup)"
   ]
  },
  {
   "cell_type": "code",
   "execution_count": 6,
   "id": "2be93725-4667-49ca-b2bc-430c0c7e9eae",
   "metadata": {},
   "outputs": [],
   "source": [
    "if full_run == True:\n",
    "    for folder in sar.tqdm(genome_ids):\n",
    "        sar.generate_protein_file(genome_datasets_dir + '/' + folder + '/genomic.gbff', protein_fasta_output_loc + '/' + folder + '.faa')\n",
    "    for folder in sar.tqdm(genome_ids_with_outgroup):\n",
    "        sar.generate_protein_file(genome_datasets_dir + '/' + folder + '/genomic.gbff', outgroup_protein_fasta_output_loc + '/' + folder + '.faa')"
   ]
  },
  {
   "cell_type": "code",
   "execution_count": 7,
   "id": "f828d159-34d6-4f7e-878c-e31b598573a8",
   "metadata": {},
   "outputs": [],
   "source": [
    "if full_run == True:\n",
    "    sar.run_sonic_paranoid(protein_fasta_output_loc, sonic_paranoid_output_loc, sonic_paranoid_run_name)\n",
    "    sar.run_sonic_paranoid(outgroup_protein_fasta_output_loc, sonic_paranoid_output_loc, outgroup_sonic_paranoid_run_name)"
   ]
  },
  {
   "cell_type": "markdown",
   "id": "39369771-8cd9-4438-89a5-d426702ac448",
   "metadata": {},
   "source": [
    "##### Generate objects containing orthologs and sequence information for each ortholog group / species"
   ]
  },
  {
   "cell_type": "code",
   "execution_count": 8,
   "id": "051a50d7-e6dc-42a7-9675-e58d8ae157b6",
   "metadata": {},
   "outputs": [
    {
     "name": "stderr",
     "output_type": "stream",
     "text": [
      "100%|██████████| 75075/75075 [00:03<00:00, 22220.59it/s]\n",
      "100%|██████████| 84312/84312 [00:03<00:00, 22428.93it/s]\n"
     ]
    }
   ],
   "source": [
    "orthologs = sar.Ortholog_Grouping(ortholog_file_ref)\n",
    "outgroup_orthologs = sar.Ortholog_Grouping(outgroup_ortholog_file_ref)"
   ]
  },
  {
   "cell_type": "code",
   "execution_count": 9,
   "id": "5e9977fb-f334-4f33-a820-535d87f4105a",
   "metadata": {},
   "outputs": [
    {
     "name": "stderr",
     "output_type": "stream",
     "text": [
      "100%|██████████| 16/16 [00:00<00:00, 315.01it/s]\n",
      "100%|██████████| 16/16 [00:00<?, ?it/s]\n"
     ]
    }
   ],
   "source": [
    "seq_data = sar.Ortholog_Sequence_Dataset(orthologs, genome_datasets_dir, genome_ids, non_cds_offset, tb_species) \n",
    "outgroup_seq_data = sar.Ortholog_Sequence_Dataset(outgroup_orthologs, genome_datasets_dir, genome_ids_with_outgroup, non_cds_offset, tb_species) \n",
    "#print(outgroup_seq_data.species_info())"
   ]
  },
  {
   "cell_type": "markdown",
   "id": "60e3b630-5c42-499e-8389-5532f4dca58c",
   "metadata": {},
   "source": [
    "##### Perform CDS and non-CDS alignments for each full ortholog group and save to folders"
   ]
  },
  {
   "cell_type": "code",
   "execution_count": 10,
   "id": "7cb33f80-a608-425f-bf01-6a0fe7a77226",
   "metadata": {},
   "outputs": [],
   "source": [
    "min_species = num_ids\n",
    "min_species_with_outgroup = num_ids_with_outgroup\n",
    "groups = random.sample(orthologs.full_single_copy_ortholog_groups, len(orthologs.full_single_copy_ortholog_groups))  #Permutation ensures even distribution of processing speeds\n",
    "outgroup_groups = random.sample(outgroup_orthologs.full_single_copy_ortholog_groups, len(outgroup_orthologs.full_single_copy_ortholog_groups))  #Permutation ensures even distribution of processing speeds\n",
    "if full_run == True:\n",
    "    par = Parallel(n_jobs=-1)(delayed(align.align_and_build)(outgroup_groups, num_cores, core_number, outgroup_seq_data.sequence_data, 'cds_length', 'cds_seq', outgroup_cds_output_dir+'/', min_species_with_outgroup) for core_number in tqdm(core_numbers))\n",
    "    par = Parallel(n_jobs=-1)(delayed(align.align_and_build)(groups, num_cores, core_number, seq_data.sequence_data, 'cds_length', 'cds_seq', cds_output_dir+'/', min_species) for core_number in tqdm(core_numbers))\n",
    "    par = Parallel(n_jobs=-1)(delayed(align.align_and_build)(groups, num_cores, core_number, seq_data.sequence_data, 'non_cds_offset_length', 'non_cds_offset_seq', non_cds_output_dir+'/', min_species) for core_number in tqdm(core_numbers))\n",
    "    par = Parallel(n_jobs=-1)(delayed(align.align_and_build)(groups, num_cores, core_number, seq_data.sequence_data, 'upstream_non_cds_offset_length', 'upstream_non_cds_offset_seq', upstream_non_cds_output_dir+'/', min_species) for core_number in tqdm(core_numbers))\n",
    "    par = Parallel(n_jobs=-1)(delayed(align.align_and_build)(groups, num_cores, core_number, seq_data.sequence_data, 'cds_extended_region_length', 'cds_extended_region_seq', extended_cds_output_dir+'/', min_species) for core_number in tqdm(core_numbers))"
   ]
  },
  {
   "cell_type": "markdown",
   "id": "4552a5b9-a396-450f-956b-0494d74e13af",
   "metadata": {},
   "source": [
    "##### Run IQTree on concatenated CDS alignments to generate tree"
   ]
  },
  {
   "cell_type": "code",
   "execution_count": 11,
   "id": "42928a48-444f-4b46-a8eb-d668dd4565e4",
   "metadata": {},
   "outputs": [],
   "source": [
    "if full_run == True:\n",
    "    alignment_names = util.list_files(outgroup_cds_output_dir)\n",
    "    util.concatenate_fasta(outgroup_cds_output_dir, alignment_names, outgroup_concatenated_cds_output_dir + '/concatenated_cds.fasta')\n",
    "    subprocess.run('cd \\\\users\\\\nicho\\\\IQTree & bin\\\\iqtree2 -s ' + outgroup_concatenated_cds_output_dir + '/concatenated_cds.fasta' + ' --prefix '+ output_dir + \n",
    "                   '/Trees/Concatenated_JC_Tree -m JC -B 1000 -T AUTO -o ' + outgroup_species, shell=True)"
   ]
  },
  {
   "cell_type": "markdown",
   "id": "40396ae4-b80d-4ebd-ab66-e40e6712c758",
   "metadata": {},
   "source": [
    "##### Fit Alignment HMM"
   ]
  },
  {
   "cell_type": "code",
   "execution_count": 12,
   "id": "4e885b08-1828-4633-9c60-4eeaab22efcb",
   "metadata": {},
   "outputs": [],
   "source": [
    "num_symbols = 4\n",
    "num_states = 3\n",
    "minimum_fit_length = 10"
   ]
  },
  {
   "cell_type": "code",
   "execution_count": 13,
   "id": "e7da4636-b1db-4d25-a846-72c8fc4190a2",
   "metadata": {},
   "outputs": [
    {
     "name": "stderr",
     "output_type": "stream",
     "text": [
      "100%|██████████| 1621/1621 [00:01<00:00, 1481.82it/s]\n"
     ]
    }
   ],
   "source": [
    "Alignment_HMM_Model = alignment_hmm.Alignment_HMM (num_symbols, num_states, non_cds_output_dir, tb_species)"
   ]
  },
  {
   "cell_type": "code",
   "execution_count": 14,
   "id": "1538c94b-1f97-4bf2-a28d-6d0655b004a4",
   "metadata": {},
   "outputs": [],
   "source": [
    "def parallel_alignment_hmm_log_likelihood (params):\n",
    "    core_numbers = range(1, num_cores+1)\n",
    "    a = Alignment_HMM_Model.alignment_hmm_log_likelihood(params, 16, 1, non_cds_offset, minimum_fit_length)\n",
    "   # a = Parallel(n_jobs=-1)(delayed(Alignment_HMM_Model.alignment_hmm_log_likelihood)(params, num_cores, core_number, non_cds_offset, minimum_fit_length) for core_number in core_numbers)\n",
    "   # a = Parallel(n_jobs=-1)(delayed(Alignment_HMM_Model.fit_alignment_hmm)(params, num_cores, core_number, non_cds_offset, minimum_fit_length, all_species = False, comparison_species = 'NC_008596.1'\n",
    "   #                                                                       ) for core_number in core_numbers)\n",
    "    #print(params, sum(a))\n",
    "    #return sum(a)  \n",
    "    print(params, a)\n",
    "    return (a)"
   ]
  },
  {
   "cell_type": "code",
   "execution_count": 15,
   "id": "5d1a5f9d-bc38-4bfa-8b79-a293a874fb3b",
   "metadata": {},
   "outputs": [],
   "source": [
    "params = [0.95, 0.5, 0.95, 0.5, 0.95, 0.5, 0.56370018, 0.52131172, 0.33906948]\n",
    "bound_tuple = [(0.001,0.999),(0.001,0.999),(0.001,0.999),(0.001,0.999),(0.001,0.999),(0.001,0.999),(0.001,0.999),(0.001,0.999),(0.001,0.999)]"
   ]
  },
  {
   "cell_type": "code",
   "execution_count": 16,
   "id": "82959cb5-e6b4-409e-afae-f7ca1f7937c3",
   "metadata": {},
   "outputs": [
    {
     "data": {
      "text/plain": [
       "403770.8512953706"
      ]
     },
     "execution_count": 16,
     "metadata": {},
     "output_type": "execute_result"
    }
   ],
   "source": [
    "Alignment_HMM_Model.alignment_hmm_log_likelihood(params, 1, 1, non_cds_offset, minimum_fit_length)"
   ]
  },
  {
   "cell_type": "code",
   "execution_count": null,
   "id": "f5d84e24-61b8-4019-a1bb-67a6bfb078f9",
   "metadata": {},
   "outputs": [
    {
     "name": "stderr",
     "output_type": "stream",
     "text": [
      "  1%|          | 1/100 [00:27<46:08, 27.97s/it]"
     ]
    },
    {
     "name": "stdout",
     "output_type": "stream",
     "text": [
      "[[0.95536874 0.00842696 0.0362043 ]\n",
      " [0.0428727  0.86855507 0.08857223]\n",
      " [0.0154444  0.00711191 0.97744369]] [0.7510488  0.54540054 0.13411747] 403770.8512953706\n"
     ]
    },
    {
     "name": "stderr",
     "output_type": "stream",
     "text": [
      " 11%|█         | 11/100 [05:13<43:45, 29.50s/it]"
     ]
    },
    {
     "name": "stdout",
     "output_type": "stream",
     "text": [
      "[[0.7971284  0.17621397 0.02665763]\n",
      " [0.09457692 0.81925978 0.0861633 ]\n",
      " [0.01137906 0.06881068 0.91981026]] [0.89012777 0.38006913 0.0340621 ] 218450.73177903588\n"
     ]
    },
    {
     "name": "stderr",
     "output_type": "stream",
     "text": [
      " 14%|█▍        | 14/100 [06:39<41:40, 29.08s/it]"
     ]
    }
   ],
   "source": [
    "Alignment_HMM_Model.EM_update(1, 1, params, non_cds_offset, minimum_fit_length)\n",
    "    "
   ]
  },
  {
   "cell_type": "code",
   "execution_count": null,
   "id": "8c9afa06-9f96-470a-ad1e-44bc00fac1eb",
   "metadata": {},
   "outputs": [],
   "source": [
    "#if full_run == True:\n",
    "if 1==1:\n",
    "    res = opt.minimize(parallel_alignment_hmm_log_likelihood, params, method = 'Nelder-Mead', bounds = bound_tuple)"
   ]
  },
  {
   "cell_type": "code",
   "execution_count": null,
   "id": "c7ed99fa-6a3f-4180-b38c-bdb8253c1ef5",
   "metadata": {},
   "outputs": [],
   "source": [
    "fitted_parameters = [0.79185005, 0.960987, 0.83863594, 0.751462, 0.9568103, 0.1157162, 0.85319079, 0.30944991, 0.02530253]\n",
    "if full_run == True:\n",
    "    fitted_parameters = res.x"
   ]
  },
  {
   "cell_type": "markdown",
   "id": "7bd80c7d-b15d-4a58-b6bb-e26fe8ea1327",
   "metadata": {},
   "source": [
    "##### Analyse ortholog groups for conservation and other features and output to dictionary"
   ]
  },
  {
   "cell_type": "code",
   "execution_count": null,
   "id": "654fa90a-37eb-497b-8345-210f8e3328e3",
   "metadata": {},
   "outputs": [],
   "source": [
    "def parallel_build_analysis_dictionary(num_subsets, subset_num, ids, analysis_type):\n",
    "    ids = util.chunk_list(ids, num_subsets, subset_num)\n",
    "    output_list = []\n",
    "    for group_id in ids:\n",
    "        alignment = align.Alignment(alignment_dir+'/'+str(group_id)+'.fasta', tb_species, 'NT')\n",
    "        analysis = alignment_analysis.Alignment_Analysis(analysis_type, alignment, num_states, non_cds_offset, group_id, fitted_parameters, project_dir, Alignment_HMM_Model, seq_data)\n",
    "        output_list.append((group_id, analysis))\n",
    "    return output_list"
   ]
  },
  {
   "cell_type": "code",
   "execution_count": null,
   "id": "0c8f2946-1234-4fb8-acdd-e936b8995dec",
   "metadata": {},
   "outputs": [],
   "source": [
    "for analysis_type in ['Downstream', 'Upstream']:\n",
    "    if analysis_type == 'Downstream':\n",
    "        alignment_dir = non_cds_output_dir\n",
    "        dict_name = 'downstream_conservation_info_dictionary'\n",
    "    else:\n",
    "        alignment_dir = upstream_non_cds_output_dir\n",
    "        dict_name = 'upstream_conservation_info_dictionary'\n",
    "    alignment_info_dict = {}\n",
    "    file_ids = util.list_files(alignment_dir+'/')\n",
    "    ids = [int(i.split('.')[0]) for i in file_ids]\n",
    "    parallel_output = Parallel(n_jobs=-1)(delayed(parallel_build_analysis_dictionary)(num_cores, core_number, ids, analysis_type) for core_number in tqdm(core_numbers))\n",
    "    dictionary_list = [item for sublist in parallel_output for item in sublist]\n",
    "    alignment_info_dict = {}\n",
    "    for (group, analysis) in dictionary_list:\n",
    "        alignment_info_dict[group] = analysis\n",
    "    with open(output_dir + '/' + dict_name + '.pkl', 'wb') as f:\n",
    "        pickle.dump(alignment_info_dict, f)"
   ]
  },
  {
   "cell_type": "code",
   "execution_count": null,
   "id": "e890e0c5-f1e1-4a94-b2e5-5ddccc4aac21",
   "metadata": {},
   "outputs": [],
   "source": [
    "with open(output_dir + '/upstream_conservation_info_dictionary.pkl', 'rb') as f:\n",
    "    upstream_conservation_info_dictionary = pickle.load(f)\n",
    "with open(output_dir + '/downstream_conservation_info_dictionary.pkl', 'rb') as f:\n",
    "    downstream_conservation_info_dictionary = pickle.load(f)"
   ]
  },
  {
   "cell_type": "markdown",
   "id": "da6d610d-9e76-4cbe-be84-188b7ec12515",
   "metadata": {},
   "source": [
    "##### Plot graphics to show sequence and HMM regions"
   ]
  },
  {
   "cell_type": "code",
   "execution_count": null,
   "id": "8c8afdfa-0cd7-4823-82a3-2d44229dc862",
   "metadata": {},
   "outputs": [],
   "source": [
    "group_id = 2131 #1337 1007\n",
    "     #1120 can see the labels work!\n",
    "    #1161 1115 1116 758 1337   1525?List of sRNA in    \n",
    "    #1129\n",
    "    #1169 shows upstream start in DeJesus\n",
    "    #2131 not very well conserved in Arnvig\n",
    "    #1214 massive!\n",
    "    #1009 not much conservation\n",
    "    # 993 possible??\n",
    "upstream_conservation_info_dictionary[group_id].display_analysis()\n",
    "downstream_conservation_info_dictionary[group_id].display_analysis()"
   ]
  },
  {
   "cell_type": "code",
   "execution_count": null,
   "id": "f71cd470-a934-4d48-b3b5-9fc7c2c6161a",
   "metadata": {},
   "outputs": [],
   "source": [
    "data = upstream_conservation_info_dictionary[group_id]\n",
    "#plt.plot(data.alignment.relative_entropy);\n",
    "plt.plot(data.alignment.mvave_relative_entropy);\n",
    "plt.axvline(x=data.buffer_end, ymin=0, ymax=2, color='r');\n",
    "plt.axvline(x=data.target_end, ymin=0, ymax=2, color='r');\n",
    "for state in [0]:\n",
    "    plt.plot(data.hmm_model.state_probabilities[state]);"
   ]
  },
  {
   "cell_type": "code",
   "execution_count": null,
   "id": "011e8b96-1a28-4cbd-9325-7f77bdad0c64",
   "metadata": {},
   "outputs": [],
   "source": [
    "temp= seq_data.sequence_data\n",
    "group_id = (temp[temp['locus_tag'] == 'Rv0243'].iloc[0]['group_id'])\n",
    "temp[temp['group_id'] == group_id]"
   ]
  },
  {
   "cell_type": "code",
   "execution_count": null,
   "id": "f6c2f2df-70eb-4be9-ba45-6d3a82419aa4",
   "metadata": {},
   "outputs": [],
   "source": []
  }
 ],
 "metadata": {
  "kernelspec": {
   "display_name": "Python 3 (ipykernel)",
   "language": "python",
   "name": "python3"
  },
  "language_info": {
   "codemirror_mode": {
    "name": "ipython",
    "version": 3
   },
   "file_extension": ".py",
   "mimetype": "text/x-python",
   "name": "python",
   "nbconvert_exporter": "python",
   "pygments_lexer": "ipython3",
   "version": "3.9.7"
  }
 },
 "nbformat": 4,
 "nbformat_minor": 5
}
