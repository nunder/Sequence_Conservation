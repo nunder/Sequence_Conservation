{
 "cells": [
  {
   "cell_type": "code",
   "execution_count": 1,
   "id": "f88ac5d0-d606-4299-9f9d-ff7a7d966ce8",
   "metadata": {},
   "outputs": [],
   "source": [
    "import subprocess\n",
    "import os\n",
    "from Bio.Blast import NCBIWWW, NCBIXML\n",
    "import pandas as pd\n",
    "from Comparative_Analysis import Utilities as util\n",
    "from tqdm.auto import tqdm\n",
    "from Bio import Entrez, SeqIO, AlignIO, pairwise2, Align, Seq, motifs\n",
    "from Bio.Seq import Seq\n",
    "from Bio.SeqFeature import SeqFeature, FeatureLocation\n",
    "from joblib import Parallel, delayed\n",
    "import math\n",
    "import seaborn as sns"
   ]
  },
  {
   "cell_type": "code",
   "execution_count": 2,
   "id": "8c34a12c-1289-4974-b437-daea7ccee722",
   "metadata": {},
   "outputs": [],
   "source": [
    "project_dir = 'D:/Project_Data/Project_6'\n",
    "genome_datasets_dir = project_dir + '/Datasets/NCBI_Datasets'\n",
    "refseq_dir = 'D:/NCBI_Dataset_Mycobacteria'\n",
    "output_dir = project_dir + '/Output'\n",
    "reference_species = 'GCF_000195955.2'\n",
    "num_cores = 16\n",
    "core_numbers = list(range(1, num_cores+1))"
   ]
  },
  {
   "cell_type": "markdown",
   "id": "c25de8e2-f1c0-429b-95ef-14f3d294add7",
   "metadata": {},
   "source": [
    "##### Generate concatenated FASTA file for creating BLAST local database, together with dictionary of gene information"
   ]
  },
  {
   "cell_type": "code",
   "execution_count": 3,
   "id": "5dc93f8c-1c98-41f8-a12a-13bceb7dc1a8",
   "metadata": {},
   "outputs": [
    {
     "name": "stdout",
     "output_type": "stream",
     "text": [
      "205\n"
     ]
    }
   ],
   "source": [
    "species_list = util.list_dirs(refseq_dir)\n",
    "print(len(species_list))"
   ]
  },
  {
   "cell_type": "code",
   "execution_count": 4,
   "id": "379982a1-6525-43aa-8f00-b91ee793dc16",
   "metadata": {},
   "outputs": [],
   "source": [
    "def parse_genome(num_subsets, subset_num, id_list):\n",
    "    ids = util.chunk_list(id_list, num_subsets, subset_num)\n",
    "    temp = []\n",
    "    for id in ids:\n",
    "        temp_1 = []\n",
    "        genome_record = next(SeqIO.parse(refseq_dir + '/' + id + '/genomic.gbff', \"genbank\"))\n",
    "        organism_name = genome_record.annotations['organism']\n",
    "        full_sequence = genome_record.seq\n",
    "        for feature in genome_record.features:\n",
    "            a = feature.qualifiers\n",
    "            if feature.type == 'CDS':\n",
    "                if a.get(\"protein_id\") != None and a.get(\"locus_tag\")!= None and a.get(\"translation\")!= None:\n",
    "                    locus_tag = a.get(\"locus_tag\")[0]\n",
    "                    protein_id = a.get(\"protein_id\")[0]\n",
    "                    translation = a.get(\"translation\")[0]\n",
    "                    temp_1.append([id, organism_name, int(feature.location.start), int(feature.location.end), int(feature.location.strand), locus_tag, protein_id, translation])\n",
    "        if len(temp_1) > 1000:\n",
    "            temp.append(temp_1)\n",
    "    return temp"
   ]
  },
  {
   "cell_type": "code",
   "execution_count": 5,
   "id": "88044ecf-bbc1-44ed-959b-fd4994361d70",
   "metadata": {},
   "outputs": [],
   "source": [
    "parallel_output = Parallel(n_jobs=-1)(delayed(parse_genome)(num_cores, core_number, species_list) for core_number in core_numbers)\n",
    "temp = [item for sublist in parallel_output for item in sublist]\n",
    "gene_records = [item for sublist in temp for item in sublist]\n",
    "reference_gene_records = [x for x in gene_records if x[0] == reference_species]"
   ]
  },
  {
   "cell_type": "code",
   "execution_count": 6,
   "id": "3d1fe465-d9f5-464e-a5c1-d042541e3a81",
   "metadata": {},
   "outputs": [],
   "source": [
    "gene_record_lookup_dict = {}\n",
    "for record in gene_records:\n",
    "    gene_record_lookup_dict[record[0]+'|'+record[6]] = (record[1], record[2], record[3], record[4], record[5])"
   ]
  },
  {
   "cell_type": "code",
   "execution_count": 7,
   "id": "c590040c-f468-4c59-b362-af5118e436d7",
   "metadata": {},
   "outputs": [],
   "source": [
    "def produce_blast_file(record_list, output_filename):\n",
    "    with open(output_filename, 'w',  newline='') as outfile:\n",
    "        line_length = 60\n",
    "        for record in tqdm(record_list):\n",
    "            sequence = record[7]\n",
    "            lines = []\n",
    "            sequence_length = len(sequence)\n",
    "            number_of_lines = math.ceil(sequence_length / line_length)\n",
    "            lines.append(\">\" +record[0]+'|'+record[6]+ \"\\n\")\n",
    "            for i in range(number_of_lines):\n",
    "                subsequence = sequence[i*line_length:(i+1)*line_length]\n",
    "                lines.append(subsequence + \"\\n\")\n",
    "            outfile.write(''.join(lines))"
   ]
  },
  {
   "cell_type": "code",
   "execution_count": null,
   "id": "e6c86ee8-582f-4cf7-a9c7-ac2c4b93af65",
   "metadata": {},
   "outputs": [],
   "source": [
    "produce_blast_file(gene_records, refseq_dir + '/all_myco_refseq.faa')\n",
    "produce_blast_file(reference_gene_records, refseq_dir + '/reference_proteins.faa')"
   ]
  },
  {
   "cell_type": "markdown",
   "id": "5674a2fd-524d-4df0-97ea-e498db7f90c9",
   "metadata": {},
   "source": [
    "#### Build local blast database"
   ]
  },
  {
   "cell_type": "code",
   "execution_count": null,
   "id": "2f132ac9-565c-4669-9d0d-e7fb5c07d478",
   "metadata": {},
   "outputs": [],
   "source": [
    "#  Run the followint commands - to do: put in subprocess\n",
    "#  makeblastdb -in all_myco_refseq.faa -dbtype prot -out myco_refseq    \n",
    "#  Then copy all files produced into /BLAST/myco_refseq folder\n",
    "#  Then change diretory to be in this and run              blastp -query d:\\NCBI_Dataset_Mycobacteria\\reference_proteins.faa -db myco_refseq -out blast_results.xml -evalue 0.001 -outfmt 5 -num_threads 16 "
   ]
  },
  {
   "cell_type": "code",
   "execution_count": null,
   "id": "3e9402f4-3b28-46d4-a828-56c532556edd",
   "metadata": {},
   "outputs": [],
   "source": [
    "#w_d = os.getcwd()\n",
    "#os.chdir(\"D:/\")\n",
    "#subprocess.run('cd d:\\\\BLAST\\\\nr & blastp -query d:\\\\Protein_'+ref+'.faa -db nr -out nick.xml -evalue 0.001 -outfmt 5 -num_threads 16', shell=True, capture_output = True)\n",
    "#os.chdir(w_d)"
   ]
  },
  {
   "cell_type": "code",
   "execution_count": 8,
   "id": "fdbc77c4-ffdc-4827-8292-09abdcd20e34",
   "metadata": {},
   "outputs": [],
   "source": [
    "blast_results_list = []\n",
    "result_handle = open(\"D:\\\\BLAST\\\\myco_refseq\\\\blast_results.xml\")\n",
    "blast_records = NCBIXML.parse(result_handle)\n",
    "for blast_record in blast_records:\n",
    "    for alignment in blast_record.alignments:\n",
    "        for hsp in alignment.hsps:\n",
    "            blast_results_list.append([blast_record.query, alignment.title, alignment.accession, alignment.length, hsp.expect, hsp.identities, hsp.query_start, hsp.query_end, hsp.sbjct_start, hsp.sbjct_end, hsp.strand, hsp.score])"
   ]
  },
  {
   "cell_type": "code",
   "execution_count": 94,
   "id": "16e9f900-a53b-4a5e-8c93-ac9cf9918c0a",
   "metadata": {},
   "outputs": [],
   "source": [
    "blast_results_TB_genes_df = pd.DataFrame(blast_results_list, columns = ['query', 'title', 'accession', 'length', 'e_value', 'identities', 'query_start', 'query_end', 'subject_start','subject_end','subject_strand', 'score'])"
   ]
  },
  {
   "cell_type": "code",
   "execution_count": 95,
   "id": "66ed8acb-c248-4034-b1d1-60c6e91543bb",
   "metadata": {},
   "outputs": [],
   "source": [
    "blast_results_TB_genes_df[['ref_1','ref_2']] = blast_results_TB_genes_df['title'].str.split(' ', expand=True,)\n",
    "blast_results_TB_genes_df['info']=  blast_results_TB_genes_df['ref_2'].map(gene_record_lookup_dict)\n",
    "blast_results_TB_genes_df[['organism', 'start', 'end', 'strand', 'locus_tag']] = pd.DataFrame(blast_results_TB_genes_df['info'].tolist(), index=blast_results_TB_genes_df.index)\n",
    "blast_results_TB_genes_df['q_info']=  blast_results_TB_genes_df['query'].map(gene_record_lookup_dict)\n",
    "blast_results_TB_genes_df[['q_organism', 'q_start', 'q_end', 'q_strand', 'q_locus_tag']] = pd.DataFrame(blast_results_TB_genes_df['q_info'].tolist(), index=blast_results_TB_genes_df.index)"
   ]
  },
  {
   "cell_type": "code",
   "execution_count": 96,
   "id": "e662a5db-c04f-4890-9045-c82be2469a9b",
   "metadata": {},
   "outputs": [],
   "source": [
    "blast_results_TB_genes_df = blast_results_TB_genes_df.loc[blast_results_TB_genes_df.groupby(['organism','query'])['score'].idxmax()]\n",
    "blast_results_TB_genes_df = blast_results_TB_genes_df.loc[blast_results_TB_genes_df.groupby(['ref_2'])['score'].idxmax()]\n",
    "blast_results_TB_genes_df = blast_results_TB_genes_df.sort_values(['organism','q_start'])    #sort by target organisms\n",
    "blast_results_TB_genes_df['q_order_previous_locus_tag']=blast_results_TB_genes_df['locus_tag'].shift(1)\n",
    "blast_results_TB_genes_df['q_order_next_locus_tag']=blast_results_TB_genes_df['locus_tag'].shift(-1)\n",
    "blast_results_TB_genes_df = blast_results_TB_genes_df.sort_values(['organism','start'])    #sort by target organisms\n",
    "blast_results_TB_genes_df['previous_locus_tag']=blast_results_TB_genes_df['locus_tag'].shift(1)\n",
    "blast_results_TB_genes_df['next_locus_tag']=blast_results_TB_genes_df['locus_tag'].shift(-1)"
   ]
  },
  {
   "cell_type": "code",
   "execution_count": 97,
   "id": "54bd5eb5-72ec-4248-8972-a4d74cb27f3b",
   "metadata": {},
   "outputs": [],
   "source": [
    "temp = blast_results_TB_genes_df.query(\"(q_order_previous_locus_tag == previous_locus_tag & q_order_next_locus_tag == next_locus_tag) or (q_order_next_locus_tag == previous_locus_tag & q_order_previous_locus_tag == next_locus_tag)\")\n",
    "tempindex = pd.DataFrame(index=temp.index)\n",
    "tempindex['contiguous'] = 1\n",
    "blast_results_TB_genes_df = blast_results_TB_genes_df.join(tempindex)\n",
    "blast_results_TB_genes_df['contiguous'] = blast_results_TB_genes_df['contiguous'].fillna(0)"
   ]
  },
  {
   "cell_type": "code",
   "execution_count": 113,
   "id": "2ca17ee4-acbd-4bfd-9077-a5906c452c2b",
   "metadata": {},
   "outputs": [],
   "source": [
    "test = blast_results_TB_genes_df[blast_results_TB_genes_df.organism == 'Mycobacterium riyadhense']\n",
    "#test = blast_results_TB_genes_df[blast_results_TB_genes_df.organism == 'Mycobacterium canettii CIPT 140010059']\n",
    "test = blast_results_TB_genes_df[blast_results_TB_genes_df.organism == 'Mycobacterium shinjukuense']\n",
    "#test = blast_results_TB_genes_df[blast_results_TB_genes_df.organism == 'Hoyosella rhizosphaerae']"
   ]
  },
  {
   "cell_type": "code",
   "execution_count": 114,
   "id": "4d851c2a-77be-4a92-b21b-31a31b1147d7",
   "metadata": {},
   "outputs": [
    {
     "data": {
      "text/plain": [
       "2998"
      ]
     },
     "execution_count": 114,
     "metadata": {},
     "output_type": "execute_result"
    }
   ],
   "source": [
    "len(test)"
   ]
  },
  {
   "cell_type": "code",
   "execution_count": 115,
   "id": "c2f52199-4775-4b79-adf5-42cb7c5fe033",
   "metadata": {},
   "outputs": [
    {
     "data": {
      "text/plain": [
       "<AxesSubplot:xlabel='q_start', ylabel='start'>"
      ]
     },
     "execution_count": 115,
     "metadata": {},
     "output_type": "execute_result"
    },
    {
     "data": {
      "image/png": "[encoded data removed]",
      "text/plain": [
       "<Figure size 432x288 with 1 Axes>"
      ]
     },
     "metadata": {
      "needs_background": "light"
     },
     "output_type": "display_data"
    }
   ],
   "source": [
    "sns.scatterplot(data = test, x = 'q_start', y = 'start', s=2, hue = 'contiguous')"
   ]
  },
  {
   "cell_type": "code",
   "execution_count": 134,
   "id": "c33725e6-257a-4702-83a1-da7d216a46dc",
   "metadata": {},
   "outputs": [],
   "source": [
    "coverage = pd.DataFrame(blast_results_TB_genes_df.groupby('q_locus_tag').size()).reset_index()\n",
    "coverage.columns = [['locus_tag','cover']]\n",
    "temp = blast_results_TB_genes_df[blast_results_TB_genes_df.contiguous == 1]\n",
    "contiguous_coverage = pd.DataFrame(temp.groupby('q_locus_tag').size()).reset_index()\n",
    "contiguous_coverage.columns = [['locus_tag','cover']]"
   ]
  },
  {
   "cell_type": "code",
   "execution_count": 135,
   "id": "4ca3f050-1511-486f-8e76-bc6d8c86a343",
   "metadata": {},
   "outputs": [
    {
     "data": {
      "text/plain": [
       "<AxesSubplot:ylabel='Count'>"
      ]
     },
     "execution_count": 135,
     "metadata": {},
     "output_type": "execute_result"
    },
    {
     "data": {
      "image/png": "[encoded data removed]",
      "text/plain": [
       "<Figure size 432x288 with 1 Axes>"
      ]
     },
     "metadata": {
      "needs_background": "light"
     },
     "output_type": "display_data"
    }
   ],
   "source": [
    "sns.histplot(coverage['cover'])"
   ]
  },
  {
   "cell_type": "code",
   "execution_count": 136,
   "id": "68db80fb-9742-49da-8948-b38372cfd569",
   "metadata": {},
   "outputs": [
    {
     "data": {
      "text/plain": [
       "<AxesSubplot:ylabel='Count'>"
      ]
     },
     "execution_count": 136,
     "metadata": {},
     "output_type": "execute_result"
    },
    {
     "data": {
      "image/png": "[encoded data removed]",
      "text/plain": [
       "<Figure size 432x288 with 1 Axes>"
      ]
     },
     "metadata": {
      "needs_background": "light"
     },
     "output_type": "display_data"
    }
   ],
   "source": [
    "sns.histplot(contiguous_coverage['cover'])"
   ]
  },
  {
   "cell_type": "code",
   "execution_count": 122,
   "id": "f0b5cc31-a1c1-4307-a927-7b81e71c96e2",
   "metadata": {},
   "outputs": [],
   "source": [
    "coverage.to_csv(project_dir + '/coverage.csv')"
   ]
  },
  {
   "cell_type": "code",
   "execution_count": null,
   "id": "aae64543-01af-45a3-8394-836a486335ee",
   "metadata": {},
   "outputs": [],
   "source": [
    "blast_results_TB_genes_df.organism.unique()"
   ]
  },
  {
   "cell_type": "code",
   "execution_count": null,
   "id": "e24bf458-a547-47c6-a18a-5a4bf2b1e1b9",
   "metadata": {},
   "outputs": [],
   "source": [
    "test.to_csv(project_dir + '/test_blast_df.csv')"
   ]
  },
  {
   "cell_type": "code",
   "execution_count": null,
   "id": "2dd9e254-8af1-4187-ac73-cb39b6572a63",
   "metadata": {},
   "outputs": [],
   "source": [
    "#makeblastdb -in all_myco_refseq.fasta -dbtype prot -parse_seqids -out myco_refseq"
   ]
  },
  {
   "cell_type": "code",
   "execution_count": 126,
   "id": "40be4120-d0fc-40e8-9e69-bfa2cf0a2c6e",
   "metadata": {},
   "outputs": [
    {
     "data": {
      "text/html": [
       "<div>\n",
       "<style scoped>\n",
       "    .dataframe tbody tr th:only-of-type {\n",
       "        vertical-align: middle;\n",
       "    }\n",
       "\n",
       "    .dataframe tbody tr th {\n",
       "        vertical-align: top;\n",
       "    }\n",
       "\n",
       "    .dataframe thead th {\n",
       "        text-align: right;\n",
       "    }\n",
       "</style>\n",
       "<table border=\"1\" class=\"dataframe\">\n",
       "  <thead>\n",
       "    <tr style=\"text-align: right;\">\n",
       "      <th></th>\n",
       "      <th>q_locus_tag</th>\n",
       "      <th>0</th>\n",
       "    </tr>\n",
       "  </thead>\n",
       "  <tbody>\n",
       "    <tr>\n",
       "      <th>0</th>\n",
       "      <td>RV1984a</td>\n",
       "      <td>78</td>\n",
       "    </tr>\n",
       "    <tr>\n",
       "      <th>1</th>\n",
       "      <td>Rv0001</td>\n",
       "      <td>110</td>\n",
       "    </tr>\n",
       "    <tr>\n",
       "      <th>2</th>\n",
       "      <td>Rv0002</td>\n",
       "      <td>110</td>\n",
       "    </tr>\n",
       "    <tr>\n",
       "      <th>3</th>\n",
       "      <td>Rv0003</td>\n",
       "      <td>110</td>\n",
       "    </tr>\n",
       "    <tr>\n",
       "      <th>4</th>\n",
       "      <td>Rv0004</td>\n",
       "      <td>108</td>\n",
       "    </tr>\n",
       "    <tr>\n",
       "      <th>...</th>\n",
       "      <td>...</td>\n",
       "      <td>...</td>\n",
       "    </tr>\n",
       "    <tr>\n",
       "      <th>3891</th>\n",
       "      <td>Rv3920c</td>\n",
       "      <td>110</td>\n",
       "    </tr>\n",
       "    <tr>\n",
       "      <th>3892</th>\n",
       "      <td>Rv3921c</td>\n",
       "      <td>110</td>\n",
       "    </tr>\n",
       "    <tr>\n",
       "      <th>3893</th>\n",
       "      <td>Rv3922c</td>\n",
       "      <td>101</td>\n",
       "    </tr>\n",
       "    <tr>\n",
       "      <th>3894</th>\n",
       "      <td>Rv3923c</td>\n",
       "      <td>109</td>\n",
       "    </tr>\n",
       "    <tr>\n",
       "      <th>3895</th>\n",
       "      <td>Rv3924c</td>\n",
       "      <td>110</td>\n",
       "    </tr>\n",
       "  </tbody>\n",
       "</table>\n",
       "<p>3896 rows × 2 columns</p>\n",
       "</div>"
      ],
      "text/plain": [
       "     q_locus_tag    0\n",
       "0        RV1984a   78\n",
       "1         Rv0001  110\n",
       "2         Rv0002  110\n",
       "3         Rv0003  110\n",
       "4         Rv0004  108\n",
       "...          ...  ...\n",
       "3891     Rv3920c  110\n",
       "3892     Rv3921c  110\n",
       "3893     Rv3922c  101\n",
       "3894     Rv3923c  109\n",
       "3895     Rv3924c  110\n",
       "\n",
       "[3896 rows x 2 columns]"
      ]
     },
     "execution_count": 126,
     "metadata": {},
     "output_type": "execute_result"
    }
   ],
   "source": [
    "pd.DataFrame(blast_results_TB_genes_df.groupby('q_locus_tag').size()).reset_index()"
   ]
  },
  {
   "cell_type": "code",
   "execution_count": 128,
   "id": "152e589d-1772-45aa-9f12-1f097c406209",
   "metadata": {},
   "outputs": [
    {
     "data": {
      "text/html": [
       "<div>\n",
       "<style scoped>\n",
       "    .dataframe tbody tr th:only-of-type {\n",
       "        vertical-align: middle;\n",
       "    }\n",
       "\n",
       "    .dataframe tbody tr th {\n",
       "        vertical-align: top;\n",
       "    }\n",
       "\n",
       "    .dataframe thead tr th {\n",
       "        text-align: left;\n",
       "    }\n",
       "</style>\n",
       "<table border=\"1\" class=\"dataframe\">\n",
       "  <thead>\n",
       "    <tr>\n",
       "      <th></th>\n",
       "      <th>locus_tag</th>\n",
       "      <th>cover</th>\n",
       "    </tr>\n",
       "  </thead>\n",
       "  <tbody>\n",
       "    <tr>\n",
       "      <th>0</th>\n",
       "      <td>RV1984a</td>\n",
       "      <td>78</td>\n",
       "    </tr>\n",
       "    <tr>\n",
       "      <th>1</th>\n",
       "      <td>Rv0001</td>\n",
       "      <td>110</td>\n",
       "    </tr>\n",
       "    <tr>\n",
       "      <th>2</th>\n",
       "      <td>Rv0002</td>\n",
       "      <td>110</td>\n",
       "    </tr>\n",
       "    <tr>\n",
       "      <th>3</th>\n",
       "      <td>Rv0003</td>\n",
       "      <td>110</td>\n",
       "    </tr>\n",
       "    <tr>\n",
       "      <th>4</th>\n",
       "      <td>Rv0004</td>\n",
       "      <td>108</td>\n",
       "    </tr>\n",
       "    <tr>\n",
       "      <th>...</th>\n",
       "      <td>...</td>\n",
       "      <td>...</td>\n",
       "    </tr>\n",
       "    <tr>\n",
       "      <th>3891</th>\n",
       "      <td>Rv3920c</td>\n",
       "      <td>110</td>\n",
       "    </tr>\n",
       "    <tr>\n",
       "      <th>3892</th>\n",
       "      <td>Rv3921c</td>\n",
       "      <td>110</td>\n",
       "    </tr>\n",
       "    <tr>\n",
       "      <th>3893</th>\n",
       "      <td>Rv3922c</td>\n",
       "      <td>101</td>\n",
       "    </tr>\n",
       "    <tr>\n",
       "      <th>3894</th>\n",
       "      <td>Rv3923c</td>\n",
       "      <td>109</td>\n",
       "    </tr>\n",
       "    <tr>\n",
       "      <th>3895</th>\n",
       "      <td>Rv3924c</td>\n",
       "      <td>110</td>\n",
       "    </tr>\n",
       "  </tbody>\n",
       "</table>\n",
       "<p>3896 rows × 2 columns</p>\n",
       "</div>"
      ],
      "text/plain": [
       "     locus_tag cover\n",
       "0      RV1984a    78\n",
       "1       Rv0001   110\n",
       "2       Rv0002   110\n",
       "3       Rv0003   110\n",
       "4       Rv0004   108\n",
       "...        ...   ...\n",
       "3891   Rv3920c   110\n",
       "3892   Rv3921c   110\n",
       "3893   Rv3922c   101\n",
       "3894   Rv3923c   109\n",
       "3895   Rv3924c   110\n",
       "\n",
       "[3896 rows x 2 columns]"
      ]
     },
     "execution_count": 128,
     "metadata": {},
     "output_type": "execute_result"
    }
   ],
   "source": [
    "coverage"
   ]
  },
  {
   "cell_type": "code",
   "execution_count": null,
   "id": "7d1a98dc-8f3e-4b98-98be-7371b6c6ef2e",
   "metadata": {},
   "outputs": [],
   "source": []
  }
 ],
 "metadata": {
  "kernelspec": {
   "display_name": "Python 3 (ipykernel)",
   "language": "python",
   "name": "python3"
  },
  "language_info": {
   "codemirror_mode": {
    "name": "ipython",
    "version": 3
   },
   "file_extension": ".py",
   "mimetype": "text/x-python",
   "name": "python",
   "nbconvert_exporter": "python",
   "pygments_lexer": "ipython3",
   "version": "3.9.7"
  }
 },
 "nbformat": 4,
 "nbformat_minor": 5
}
