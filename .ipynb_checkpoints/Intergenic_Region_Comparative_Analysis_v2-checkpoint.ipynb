{
 "cells": [
  {
   "cell_type": "markdown",
   "id": "b1e30ed4-8a0e-4a6f-96eb-dfe116dfb2de",
   "metadata": {},
   "source": [
    "#### Directories etc"
   ]
  },
  {
   "cell_type": "code",
   "execution_count": 1,
   "id": "cf9c6377-5080-4c22-94db-feabe17cc47c",
   "metadata": {},
   "outputs": [],
   "source": [
    "import pandas as pd\n",
    "import pickle\n",
    "import seaborn as sns\n",
    "import matplotlib.pyplot as plt\n",
    "import numpy as np\n",
    "from Bio import Entrez, SeqIO, AlignIO, pairwise2, Align, Seq, motifs\n",
    "from Bio.Seq import Seq\n",
    "from Bio.SeqFeature import SeqFeature, FeatureLocation\n",
    "from scipy.stats import binom\n",
    "import math\n",
    "import random\n",
    "from tqdm import tqdm\n",
    "from Comparative_Analysis import Utilities as util\n",
    "import random\n",
    "from joblib import Parallel, delayed\n",
    "from Comparative_Analysis import Blast_Functions as blastfn\n",
    "import time\n",
    "import os\n",
    "import copy\n",
    "from scipy.stats import chi2\n",
    "from Comparative_Analysis import ORF_Functions as orffn\n",
    "from Comparative_Analysis import Alignment as alignfn\n",
    "from random import sample\n",
    "from Bio.Align.Applications import MuscleCommandline\n",
    "import subprocess\n",
    "pd.options.mode.chained_assignment = None  # default='warn'"
   ]
  },
  {
   "cell_type": "code",
   "execution_count": 2,
   "id": "1988a242-f558-4643-b3a9-27272fa7bebc",
   "metadata": {},
   "outputs": [],
   "source": [
    "project_dir = 'F:/Project_Data/Intergenic_Region_Comparative_Analysis'\n",
    "seq_dir_1 = 'F:/Datasets/NCBI_Refseq_Mycobacteriaceae_All_Levels/ncbi_dataset/data'\n",
    "seq_dir_2 = 'F:/Datasets/NCBI_Refseq_Actinobacteria_All_Levels/data'\n",
    "sequence_dirs_1 = util.list_dirs(seq_dir_1)\n",
    "sequence_dirs_2 = util.list_dirs(seq_dir_2)\n",
    "tb_species = 'NC_000962.3' \n",
    "tb_annotation_dirname = 'GCF_000195955.2'\n",
    "num_cores = 16\n",
    "core_numbers = list(range(1, num_cores+1))\n",
    "muscle_exe = 'C:/Users/nicho/Muscle/muscle3.8.31_i86win32.exe'\n",
    "full_build = False"
   ]
  },
  {
   "cell_type": "markdown",
   "id": "198ce0ae-2b01-482b-83cb-93c720537916",
   "metadata": {},
   "source": [
    "#### Create file with all CDS for species and create BLAST databases for TB CDS and All CDS (to do reciprocal best hits)"
   ]
  },
  {
   "cell_type": "code",
   "execution_count": 3,
   "id": "6068fd3f-1e3d-4bd4-b1ac-ef4c7a190fd4",
   "metadata": {
    "tags": []
   },
   "outputs": [],
   "source": [
    "def generate_protein_dataset(num_subsets, subset_num, dir_list, seqdir): \n",
    "    sequence_dirs = util.chunk_list(dir_list, num_subsets, subset_num)\n",
    "    all_cds = []\n",
    "    all_tb_cds = []\n",
    "    names = []\n",
    "    sequences = []\n",
    "    locations = []\n",
    "    for dirname in (sequence_dirs):\n",
    "        if not(os.path.exists(seqdir + '/' + dirname + '/genomic.gbff')):\n",
    "            continue\n",
    "        for genome_record in SeqIO.parse(seqdir + '/' + dirname + '/genomic.gbff', \"genbank\"):\n",
    "            accession_ver = genome_record.annotations['accessions'][0] + '.' + str(genome_record.annotations['sequence_version'])\n",
    "            names.append([accession_ver, genome_record.annotations['organism']])\n",
    "            full_sequence = str(genome_record.seq)\n",
    "            sequences.append([accession_ver, full_sequence])\n",
    "            for feature in genome_record.features:\n",
    "                a = feature.qualifiers\n",
    "                if feature.type == 'CDS' and a.get(\"translation\") != None:\n",
    "                    locus_tag = a.get(\"locus_tag\")[0]\n",
    "                    accession_locus = accession_ver + '@' + locus_tag\n",
    "                    translation = a.get(\"translation\")[0]\n",
    "                    (start, stop, strand) = (int(feature.location.start), int(feature.location.end), int(feature.location.strand))\n",
    "                    locations.append([accession_locus, (start, stop, strand)])\n",
    "                    all_cds.append([accession_locus, translation])\n",
    "                    if dirname == tb_annotation_dirname:\n",
    "                        all_tb_cds.append([accession_locus, translation])\n",
    "    return (all_cds, all_tb_cds, names, locations, sequences)           "
   ]
  },
  {
   "cell_type": "code",
   "execution_count": 4,
   "id": "542f0742-7686-4b24-808f-787faa247c21",
   "metadata": {
    "tags": []
   },
   "outputs": [],
   "source": [
    "parallel_output = Parallel(n_jobs=-1)(delayed(generate_protein_dataset)(num_cores, core_number, sequence_dirs_1, seq_dir_1) for core_number in core_numbers)\n",
    "names_dict_1 = {}\n",
    "locations_dict_1 = {}\n",
    "sequence_dict_1 = {}\n",
    "all_cds_1 = []\n",
    "all_tb_cds_1 = []\n",
    "for x in parallel_output:\n",
    "    all_cds_1 += x[0]\n",
    "    all_tb_cds_1 += x[1]\n",
    "    for temp in x[2]:\n",
    "        names_dict_1[temp[0]] = temp[1]\n",
    "    for temp in x[3]:\n",
    "        locations_dict_1[temp[0]] = temp[1]\n",
    "    for temp in x[4]:\n",
    "        sequence_dict_1[temp[0]] = temp[1]\n",
    "with open(project_dir + '/names_dict_1.pkl', 'wb') as f:\n",
    "        pickle.dump(names_dict_1, f) "
   ]
  },
  {
   "cell_type": "code",
   "execution_count": 6,
   "id": "f75de3d4-28cf-4873-892c-608a027d57cb",
   "metadata": {
    "tags": []
   },
   "outputs": [],
   "source": [
    "parallel_output = Parallel(n_jobs=-1)(delayed(generate_protein_dataset)(num_cores, core_number, sequence_dirs_2, seq_dir_2) for core_number in core_numbers)\n",
    "names_dict_2 = {}\n",
    "locations_dict_2 = {}\n",
    "sequence_dict_2 = {}\n",
    "all_cds_2 = []\n",
    "all_tb_cds_2 = []\n",
    "for x in parallel_output:\n",
    "    all_cds_2 += x[0]\n",
    "    all_tb_cds_2 += x[1]\n",
    "    for temp in x[2]:\n",
    "        names_dict_2[temp[0]] = temp[1]\n",
    "    for temp in x[3]:\n",
    "        locations_dict_2[temp[0]] = temp[1]\n",
    "    for temp in x[4]:\n",
    "        sequence_dict_2[temp[0]] = temp[1]\n",
    "with open(project_dir + '/names_dict_2.pkl', 'wb') as f:\n",
    "        pickle.dump(names_dict_2, f) "
   ]
  },
  {
   "cell_type": "code",
   "execution_count": 7,
   "id": "def220ad-3ad0-4722-ae93-8893b6e5119d",
   "metadata": {
    "tags": []
   },
   "outputs": [],
   "source": [
    "if full_build == True:\n",
    "    util.produce_fasta_file(all_cds_1, project_dir + '/all_cds.fasta')\n",
    "    util.produce_fasta_file(all_tb_cds_1, project_dir + '/all_tb_cds.fasta')\n",
    "    blastfn.build_blast_db(project_dir, 'all_cds.fasta', 'Mycobacteriaceae_Refseq', 'F:/Datasets/BLAST/Mycobacteriaceae_Refseq')\n",
    "    blastfn.build_blast_db(project_dir, 'all_tb_cds.fasta', 'all_tb_cds', 'F:/Datasets/BLAST/all_tb_cds')"
   ]
  },
  {
   "cell_type": "code",
   "execution_count": 8,
   "id": "942a5e51-4d7b-46c3-a83c-661271f20e9f",
   "metadata": {
    "tags": []
   },
   "outputs": [],
   "source": [
    "if full_build == True:\n",
    "    util.produce_fasta_file(all_cds_2, project_dir + '/all_cds_2.fasta')\n",
    "    util.produce_fasta_file(all_tb_cds_2, project_dir + '/all_tb_cds_2.fasta')\n",
    "    blastfn.build_blast_db(project_dir, 'all_cds_2.fasta', 'Actinobacteria_Refseq', 'F:/Datasets/BLAST/Actinobacteria_Refseq')\n",
    "    blastfn.build_blast_db(project_dir, 'all_tb_cds_2.fasta', 'all_tb_cds_2', 'F:/Datasets/BLAST/all_tb_cds_2')"
   ]
  },
  {
   "cell_type": "code",
   "execution_count": 9,
   "id": "c64c685a-3fe4-44e0-a045-59504f7ce64c",
   "metadata": {
    "tags": []
   },
   "outputs": [],
   "source": [
    "if full_build == True:\n",
    "    blastfn.run_blastp('F:/Datasets/BLAST/Mycobacteriaceae_Refseq', 'all_tb_cds.fasta', 'Mycobacteriaceae_Refseq', 'all_tb_cds_hits.csv', e_value = 1e-10)\n",
    "    blastfn.run_blastp('F:/Datasets/BLAST/all_tb_cds', 'all_cds.fasta', 'all_tb_cds', 'reverse_hits.csv', e_value = 1e-10)\n",
    "    a = blastfn.process_blast_output('F:/Datasets/BLAST/Mycobacteriaceae_Refseq/all_tb_cds_hits.csv', names_dict, top_hit_only = False)\n",
    "    a = a.loc[a.groupby(['query_ref','target_species_name'])['bit_score'].idxmax()]     # Utility top hit method uses accession ver which can differ if multiple sets exist per species in fragmented annotations\n",
    "    b = blastfn.process_blast_output('F:/Datasets/BLAST/all_tb_cds/reverse_hits.csv', names_dict, top_hit_only = False)\n",
    "    b = b.loc[b.groupby(['query_ref','target_species_name'])['bit_score'].idxmax()] \n",
    "    rbh =  blastfn.keep_reciprocal_best_hits(a, b)\n",
    "    rbh.to_csv(project_dir + '/reciprocal_best_hits.csv')\n",
    "else:\n",
    "    rbh = pd.read_csv(project_dir + '/reciprocal_best_hits.csv')"
   ]
  },
  {
   "cell_type": "code",
   "execution_count": 10,
   "id": "9aaf6f56-f9f1-4761-a909-bacf02ac47f4",
   "metadata": {
    "tags": []
   },
   "outputs": [],
   "source": [
    "if full_build == True:\n",
    "    #blastfn.run_blastp('F:/Datasets/BLAST/Actinobacteria_Refseq', 'all_tb_cds_2.fasta', 'Actinobacteria_Refseq', 'all_tb_cds_hits_2.csv', e_value = 1e-10)\n",
    "    #blastfn.run_blastp('F:/Datasets/BLAST/all_tb_cds_2', 'all_cds_2.fasta', 'all_tb_cds_2', 'reverse_hits_2.csv', e_value = 1e-10)\n",
    "    a = blastfn.process_blast_output('F:/Datasets/BLAST/Actinobacteria_Refseq/all_tb_cds_hits_2.csv', names_dict_2, top_hit_only = False)\n",
    "    a = a.loc[a.groupby(['query_ref','target_species_name'])['bit_score'].idxmax()]     # Utility top hit method uses accession ver which can differ if multiple sets exist per species in fragmented annotations\n",
    "    b = blastfn.process_blast_output('F:/Datasets/BLAST/all_tb_cds_2/reverse_hits_2.csv', names_dict_2, top_hit_only = False)\n",
    "    b = b.loc[b.groupby(['query_ref','target_species_name'])['bit_score'].idxmax()] \n",
    "    rbh_2 =  blastfn.keep_reciprocal_best_hits(a, b)\n",
    "    rbh_2.to_csv(project_dir + '/reciprocal_best_hits_2.csv')\n",
    "else:\n",
    "    rbh_2 = pd.read_csv(project_dir + '/reciprocal_best_hits_2.csv')"
   ]
  },
  {
   "cell_type": "markdown",
   "id": "c62ab102-796e-4af7-a58b-3111e917ea21",
   "metadata": {},
   "source": [
    "#### Function to generate FASTA file containing intergenic regions in orthologous species and run Muscle / R-scape"
   ]
  },
  {
   "cell_type": "code",
   "execution_count": 11,
   "id": "b418b601-46a7-4e15-8ed7-08c3722addc8",
   "metadata": {},
   "outputs": [],
   "source": [
    "def generate_alignment(locus, offset, comparison_set):\n",
    "    target_locus = tb_species+ '@' + locus\n",
    "    results_dir = project_dir + '/' + locus\n",
    "\n",
    "    if not os.path.exists(results_dir):\n",
    "        os.makedirs(results_dir)\n",
    "    \n",
    "    if comparison_set == 1:     #1 = Mycobacteria, 2 = Actinobacteria\n",
    "        rbh = pd.read_csv(project_dir + '/reciprocal_best_hits.csv')\n",
    "        locations_dict = locations_dict_1\n",
    "        sequence_dict = sequence_dict_1\n",
    "    else:\n",
    "        rbh = pd.read_csv(project_dir + '/reciprocal_best_hits_2.csv')\n",
    "        locations_dict = locations_dict_2\n",
    "        sequence_dict = sequence_dict_2\n",
    "    \n",
    "    location = locations_dict[target_locus] \n",
    "    rbh = rbh[rbh['query_ref'] == target_locus]\n",
    "    rbh['target_loc'] = rbh['target_ref'].map(locations_dict)\n",
    "    rbh['cds_count'] = rbh.groupby('target_species_name')['query_ref'].transform('size')\n",
    "    rbh['min_pct_id'] = rbh.groupby('target_species_name')['percent_identical_matches'].transform('min')\n",
    "    \n",
    "    rbh = rbh[rbh['cds_count'] == 1]\n",
    "    for i, r in rbh.iterrows():\n",
    "        (start, stop, strand) = r['target_loc']\n",
    "        rbh.at[i,'start'] = start\n",
    "        rbh.at[i,'stop'] =  stop\n",
    "        rbh.at[i,'strand'] = strand\n",
    "    rbh = rbh[rbh['min_pct_id'] >= 60]\n",
    "    if len(rbh) > 10:\n",
    "        intergenic_regions = []\n",
    "        query_regions = []\n",
    "\n",
    "        for i, r in rbh.iterrows():\n",
    "            target_species = r['target_species_name']\n",
    "            target_species_accession = r['target_species']\n",
    "            coords = r['target_loc']\n",
    "            if coords[2] == 1:\n",
    "                intergenic_region = (coords[0] - offset, coords[0] + 3)\n",
    "                intergenic_sequence = sequence_dict[target_species_accession][intergenic_region[0]: intergenic_region[1]]\n",
    "            else:\n",
    "                intergenic_region = (coords[1] - 3, coords[1] + offset)\n",
    "                intergenic_sequence = util.reverse_complement(sequence_dict[target_species_accession][intergenic_region[0]: intergenic_region[1]])\n",
    "\n",
    "            intergenic_regions.append([target_species.replace(\" \", \"_\"), intergenic_sequence])\n",
    "            if target_species_accession == tb_species:\n",
    "                query_regions.append([target_species.replace(\" \", \"_\"), intergenic_sequence])\n",
    "\n",
    "        util.produce_fasta_file(intergenic_regions, results_dir +'/intergenic_regions_'+str(comparison_set)+'.fasta')\n",
    "        util.produce_fasta_file(query_regions, results_dir +'/query_regions_'+str(comparison_set)+'.fasta')\n",
    "\n",
    "        cline = MuscleCommandline(muscle_exe, input= results_dir +'/intergenic_regions_'+str(comparison_set)+'.fasta', out = results_dir + '/upstream_region_'+locus + '_alignment_'+str(comparison_set)+'.fasta')\n",
    "        exception = 0\n",
    "        try:\n",
    "            stdout, stderr = cline()\n",
    "        except Exception as e:\n",
    "            exception == 1\n",
    "        if exception == 0:\n",
    "            temp =util.read_fasta_to_array(results_dir + '/upstream_region_'+locus + '_alignment_'+str(comparison_set)+'.fasta')\n",
    "            for n, name in enumerate(temp[0]):\n",
    "                if name == 'Mycobacterium_tuberculosis_H37Rv':\n",
    "                    tb_loc = n\n",
    "                    break\n",
    "            insertions = []\n",
    "            for n, nt in enumerate(temp[1][n]):\n",
    "                if nt == '-':\n",
    "                    insertions.append(n)\n",
    "\n",
    "            sequences = []\n",
    "            for n, sequence in enumerate(temp[1]):\n",
    "                temp_seq = []\n",
    "                for m, l in enumerate(sequence):\n",
    "                    if not(m in insertions):\n",
    "                        temp_seq.append(l)\n",
    "                sequences.append([temp[0][n] ,''.join(temp_seq)])\n",
    "            util.produce_fasta_file(sequences, results_dir + '/upstream_region_no_insertions'+locus + '_alignment_'+str(comparison_set)+'.fasta')  \n",
    "\n",
    "\n",
    "            blastfn.convert_fasta_to_stockholm(results_dir, 'upstream_region_'+locus + '_alignment_'+str(comparison_set)+'.fasta', 'upstream_region_'+locus + '_alignment_'+str(comparison_set)+'.sto')\n",
    "            blastfn.run_rscape(results_dir, 'upstream_region_'+locus + '_alignment_'+str(comparison_set)+'.sto', 'rscape_output_'+str(comparison_set))\n",
    "\n",
    "            blastfn.convert_fasta_to_stockholm(results_dir, 'upstream_region_no_insertions'+locus + '_alignment_'+str(comparison_set)+'.fasta', 'upstream_region_no_insertions'+locus + '_alignment_'+str(comparison_set)+'.sto')\n",
    "            blastfn.run_rscape(results_dir, 'upstream_region_no_insertions'+locus + '_alignment_'+str(comparison_set)+'.sto', 'rscape_output_no_insertions'+str(comparison_set))\n"
   ]
  },
  {
   "cell_type": "markdown",
   "id": "c46ca5ad-41e6-4030-9de9-02fc85dd7710",
   "metadata": {
    "tags": []
   },
   "source": [
    "#### Subset based on loci of interest, and filter orthologues based on percent identity, synteny"
   ]
  },
  {
   "cell_type": "code",
   "execution_count": 12,
   "id": "fb0b4500-31f1-47b9-b788-b50b38dc187c",
   "metadata": {
    "tags": []
   },
   "outputs": [],
   "source": [
    "tb_loci = []\n",
    "for genome_record in SeqIO.parse(seq_dir_1 + '/' + tb_annotation_dirname + '/genomic.gbff', \"genbank\"):\n",
    "        for feature in genome_record.features:\n",
    "                a = feature.qualifiers\n",
    "                if feature.type == 'CDS':\n",
    "                    tb_loci.append(a.get(\"locus_tag\")[0])"
   ]
  },
  {
   "cell_type": "code",
   "execution_count": 27,
   "id": "ebccac58-8678-4508-8d58-df7261829f69",
   "metadata": {
    "tags": []
   },
   "outputs": [],
   "source": [
    "tb_loci = tb_loci[801:1302]"
   ]
  },
  {
   "cell_type": "code",
   "execution_count": null,
   "id": "931cec82-b53c-4f39-9ad1-0fdcec644cb2",
   "metadata": {
    "tags": []
   },
   "outputs": [
    {
     "name": "stderr",
     "output_type": "stream",
     "text": [
      "0it [00:00, ?it/s]"
     ]
    },
    {
     "name": "stdout",
     "output_type": "stream",
     "text": [
      "Rv0096\n"
     ]
    },
    {
     "name": "stderr",
     "output_type": "stream",
     "text": [
      "\n",
      "100%|██████████| 17/17 [00:00<?, ?it/s][A\n",
      "\n",
      "100%|██████████| 1/1 [00:00<?, ?it/s]\u001b[A\n",
      "\n",
      "100%|██████████| 17/17 [00:00<?, ?it/s][A\n",
      "2it [00:21, 10.84s/it]"
     ]
    },
    {
     "name": "stdout",
     "output_type": "stream",
     "text": [
      "Rv0102\n"
     ]
    },
    {
     "name": "stderr",
     "output_type": "stream",
     "text": [
      "\n",
      "100%|██████████| 53/53 [00:00<00:00, 52940.73it/s]\n",
      "\n",
      "100%|██████████| 1/1 [00:00<?, ?it/s]\u001b[A\n",
      "\n",
      "100%|██████████| 53/53 [00:00<?, ?it/s][A\n",
      "\n",
      "100%|██████████| 34/34 [00:00<?, ?it/s][A\n",
      "\n",
      "100%|██████████| 1/1 [00:00<?, ?it/s]\u001b[A\n",
      "\n",
      "100%|██████████| 34/34 [00:00<?, ?it/s][A\n",
      "8it [01:12,  8.89s/it]"
     ]
    },
    {
     "name": "stdout",
     "output_type": "stream",
     "text": [
      "Rv0103c\n"
     ]
    },
    {
     "name": "stderr",
     "output_type": "stream",
     "text": [
      "\n",
      "100%|██████████| 31/31 [00:00<?, ?it/s][A\n",
      "\n",
      "100%|██████████| 1/1 [00:00<?, ?it/s]\u001b[A\n",
      "\n",
      "100%|██████████| 31/31 [00:00<00:00, 30980.09it/s]\n",
      "\n",
      "100%|██████████| 20/20 [00:00<?, ?it/s][A\n",
      "\n",
      "100%|██████████| 1/1 [00:00<?, ?it/s]\u001b[A\n",
      "\n",
      "100%|██████████| 20/20 [00:00<00:00, 19968.12it/s]\n",
      "9it [01:51, 13.76s/it]"
     ]
    },
    {
     "name": "stdout",
     "output_type": "stream",
     "text": [
      "Rv0104\n"
     ]
    },
    {
     "name": "stderr",
     "output_type": "stream",
     "text": [
      "10it [02:03, 13.54s/it]"
     ]
    },
    {
     "name": "stdout",
     "output_type": "stream",
     "text": [
      "Rv0105c\n"
     ]
    },
    {
     "name": "stderr",
     "output_type": "stream",
     "text": [
      "11it [02:16, 13.27s/it]"
     ]
    },
    {
     "name": "stdout",
     "output_type": "stream",
     "text": [
      "Rv0106\n"
     ]
    },
    {
     "name": "stderr",
     "output_type": "stream",
     "text": [
      "\n",
      "100%|██████████| 118/118 [00:00<00:00, 117896.11it/s]\n",
      "\n",
      "100%|██████████| 1/1 [00:00<?, ?it/s]\u001b[A\n",
      "\n",
      "100%|██████████| 118/118 [00:00<00:00, 118121.21it/s]\n",
      "\n",
      "100%|██████████| 77/77 [00:00<00:00, 77374.56it/s]\n",
      "\n",
      "100%|██████████| 1/1 [00:00<?, ?it/s]\u001b[A\n",
      "\n",
      "100%|██████████| 77/77 [00:00<?, ?it/s][A\n",
      "12it [02:48, 17.73s/it]"
     ]
    },
    {
     "name": "stdout",
     "output_type": "stream",
     "text": [
      "Rv0107c\n"
     ]
    },
    {
     "name": "stderr",
     "output_type": "stream",
     "text": [
      "\n",
      "100%|██████████| 83/83 [00:00<00:00, 41379.68it/s]\n",
      "\n",
      "100%|██████████| 1/1 [00:00<?, ?it/s]\u001b[A\n",
      "\n",
      "100%|██████████| 83/83 [00:00<00:00, 83045.62it/s]\n",
      "\n",
      "100%|██████████| 52/52 [00:00<00:00, 51622.20it/s]\n",
      "\n",
      "100%|██████████| 1/1 [00:00<00:00, 1000.55it/s]\n",
      "\n",
      "100%|██████████| 52/52 [00:00<00:00, 51880.07it/s]\n",
      "13it [04:43, 42.03s/it]"
     ]
    },
    {
     "name": "stdout",
     "output_type": "stream",
     "text": [
      "Rv0108c\n"
     ]
    },
    {
     "name": "stderr",
     "output_type": "stream",
     "text": [
      "\n",
      "100%|██████████| 87/87 [00:00<00:00, 86964.84it/s]\n",
      "\n",
      "100%|██████████| 1/1 [00:00<?, ?it/s]\u001b[A\n",
      "\n",
      "100%|██████████| 85/85 [00:00<00:00, 42452.47it/s]\n",
      "\n",
      "100%|██████████| 50/50 [00:00<?, ?it/s][A\n",
      "\n",
      "100%|██████████| 1/1 [00:00<?, ?it/s]\u001b[A\n",
      "\n",
      "100%|██████████| 50/50 [00:00<?, ?it/s][A\n",
      "14it [06:13, 54.43s/it]"
     ]
    },
    {
     "name": "stdout",
     "output_type": "stream",
     "text": [
      "Rv0109\n"
     ]
    },
    {
     "name": "stderr",
     "output_type": "stream",
     "text": [
      "15it [06:26, 43.15s/it]"
     ]
    },
    {
     "name": "stdout",
     "output_type": "stream",
     "text": [
      "Rv0110\n"
     ]
    },
    {
     "name": "stderr",
     "output_type": "stream",
     "text": [
      "\n",
      "100%|██████████| 144/144 [00:00<00:00, 71757.13it/s]\n",
      "\n",
      "100%|██████████| 1/1 [00:00<?, ?it/s]\u001b[A\n",
      "\n",
      "100%|██████████| 144/144 [00:00<00:00, 71902.35it/s]\n",
      "\n",
      "100%|██████████| 90/90 [00:00<00:00, 90006.52it/s]\n",
      "\n",
      "100%|██████████| 1/1 [00:00<00:00, 1000.07it/s]\n",
      "\n",
      "100%|██████████| 90/90 [00:00<00:00, 90092.45it/s]\n",
      "16it [07:22, 46.95s/it]"
     ]
    },
    {
     "name": "stdout",
     "output_type": "stream",
     "text": [
      "Rv0111\n"
     ]
    },
    {
     "name": "stderr",
     "output_type": "stream",
     "text": [
      "\n",
      "100%|██████████| 165/165 [00:00<00:00, 82417.55it/s]\n",
      "\n",
      "100%|██████████| 1/1 [00:00<?, ?it/s]\u001b[A\n",
      "\n",
      "100%|██████████| 165/165 [00:00<00:00, 82407.74it/s]\n",
      "\n",
      "100%|██████████| 96/96 [00:00<00:00, 96029.86it/s]\n",
      "\n",
      "100%|██████████| 1/1 [00:00<?, ?it/s]\u001b[A\n",
      "\n",
      "100%|██████████| 96/96 [00:00<00:00, 96029.86it/s]\n",
      "17it [08:17, 49.08s/it]"
     ]
    },
    {
     "name": "stdout",
     "output_type": "stream",
     "text": [
      "Rv0112\n"
     ]
    },
    {
     "name": "stderr",
     "output_type": "stream",
     "text": [
      "18it [08:31, 38.90s/it]"
     ]
    },
    {
     "name": "stdout",
     "output_type": "stream",
     "text": [
      "Rv0113\n"
     ]
    },
    {
     "name": "stderr",
     "output_type": "stream",
     "text": [
      "19it [08:45, 31.63s/it]"
     ]
    },
    {
     "name": "stdout",
     "output_type": "stream",
     "text": [
      "Rv0114\n"
     ]
    },
    {
     "name": "stderr",
     "output_type": "stream",
     "text": [
      "20it [08:59, 26.53s/it]"
     ]
    },
    {
     "name": "stdout",
     "output_type": "stream",
     "text": [
      "Rv0115a\n"
     ]
    },
    {
     "name": "stderr",
     "output_type": "stream",
     "text": [
      "22it [09:14, 17.80s/it]"
     ]
    },
    {
     "name": "stdout",
     "output_type": "stream",
     "text": [
      "Rv0116c\n"
     ]
    },
    {
     "name": "stderr",
     "output_type": "stream",
     "text": [
      "\n",
      "100%|██████████| 121/121 [00:00<00:00, 121037.63it/s]\n",
      "\n",
      "100%|██████████| 1/1 [00:00<?, ?it/s]\u001b[A\n",
      "\n",
      "100%|██████████| 121/121 [00:00<00:00, 121066.50it/s]\n",
      "\n",
      "100%|██████████| 72/72 [00:00<00:00, 72280.97it/s]\n",
      "\n",
      "100%|██████████| 1/1 [00:00<?, ?it/s]\u001b[A\n",
      "\n",
      "100%|██████████| 72/72 [00:00<00:00, 72229.10it/s]\n",
      "23it [10:26, 31.04s/it]"
     ]
    },
    {
     "name": "stdout",
     "output_type": "stream",
     "text": [
      "Rv0117\n"
     ]
    },
    {
     "name": "stderr",
     "output_type": "stream",
     "text": [
      "\n",
      "100%|██████████| 80/80 [00:00<00:00, 80082.18it/s]\n",
      "\n",
      "100%|██████████| 1/1 [00:00<?, ?it/s]\u001b[A\n",
      "\n",
      "100%|██████████| 80/80 [00:00<00:00, 80082.18it/s]\n",
      "\n",
      "100%|██████████| 70/70 [00:00<00:00, 69805.34it/s]\n",
      "\n",
      "100%|██████████| 1/1 [00:00<?, ?it/s]\u001b[A\n",
      "\n",
      "100%|██████████| 70/70 [00:00<?, ?it/s][A\n",
      "24it [11:28, 39.15s/it]"
     ]
    },
    {
     "name": "stdout",
     "output_type": "stream",
     "text": [
      "Rv0118c\n"
     ]
    },
    {
     "name": "stderr",
     "output_type": "stream",
     "text": [
      "\n",
      "100%|██████████| 96/96 [00:00<00:00, 96029.86it/s]\n",
      "\n",
      "100%|██████████| 1/1 [00:00<?, ?it/s]\u001b[A\n",
      "\n",
      "100%|██████████| 96/96 [00:00<00:00, 95370.25it/s]\n",
      "\n",
      "100%|██████████| 94/94 [00:00<?, ?it/s][A\n",
      "\n",
      "100%|██████████| 1/1 [00:00<?, ?it/s]\u001b[A\n",
      "\n",
      "100%|██████████| 94/94 [00:00<00:00, 93872.52it/s]\n",
      "25it [12:27, 44.61s/it]"
     ]
    },
    {
     "name": "stdout",
     "output_type": "stream",
     "text": [
      "Rv0119\n"
     ]
    },
    {
     "name": "stderr",
     "output_type": "stream",
     "text": [
      "\n",
      "100%|██████████| 77/77 [00:00<?, ?it/s][A\n",
      "\n",
      "100%|██████████| 1/1 [00:00<?, ?it/s]\u001b[A\n",
      "\n",
      "100%|██████████| 77/77 [00:00<00:00, 77079.09it/s]\n",
      "\n",
      "100%|██████████| 43/43 [00:00<00:00, 42941.68it/s]\n",
      "\n",
      "100%|██████████| 1/1 [00:00<?, ?it/s]\u001b[A\n",
      "\n",
      "100%|██████████| 43/43 [00:00<00:00, 42992.87it/s]\n",
      "26it [13:15, 45.38s/it]"
     ]
    },
    {
     "name": "stdout",
     "output_type": "stream",
     "text": [
      "Rv0120c\n"
     ]
    },
    {
     "name": "stderr",
     "output_type": "stream",
     "text": [
      "\n",
      "100%|██████████| 151/151 [00:00<00:00, 98912.99it/s]\n",
      "\n",
      "100%|██████████| 1/1 [00:00<00:00, 999.36it/s]\n",
      "\n",
      "100%|██████████| 151/151 [00:00<00:00, 150974.95it/s]\n",
      "\n",
      "100%|██████████| 481/481 [00:00<00:00, 80156.55it/s]\n",
      "\n",
      "100%|██████████| 1/1 [00:00<?, ?it/s]\u001b[A\n",
      "\n",
      "100%|██████████| 481/481 [00:00<00:00, 80086.55it/s]\n",
      "27it [16:32, 88.66s/it]"
     ]
    },
    {
     "name": "stdout",
     "output_type": "stream",
     "text": [
      "Rv0121c\n"
     ]
    },
    {
     "name": "stderr",
     "output_type": "stream",
     "text": [
      "\n",
      "100%|██████████| 124/124 [00:00<00:00, 123890.83it/s]\n",
      "\n",
      "100%|██████████| 1/1 [00:00<?, ?it/s]\u001b[A\n",
      "\n",
      "100%|██████████| 124/124 [00:00<00:00, 62056.28it/s]\n",
      "\n",
      "100%|██████████| 74/74 [00:00<00:00, 49009.71it/s]\n",
      "\n",
      "100%|██████████| 1/1 [00:00<?, ?it/s]\u001b[A\n",
      "\n",
      "100%|██████████| 74/74 [00:00<00:00, 73934.85it/s]\n",
      "28it [17:30, 79.87s/it]"
     ]
    },
    {
     "name": "stdout",
     "output_type": "stream",
     "text": [
      "Rv0122\n"
     ]
    },
    {
     "name": "stderr",
     "output_type": "stream",
     "text": [
      "29it [17:43, 60.24s/it]"
     ]
    },
    {
     "name": "stdout",
     "output_type": "stream",
     "text": [
      "Rv0124\n"
     ]
    },
    {
     "name": "stderr",
     "output_type": "stream",
     "text": [
      "31it [17:56, 35.72s/it]"
     ]
    },
    {
     "name": "stdout",
     "output_type": "stream",
     "text": [
      "Rv0125\n"
     ]
    },
    {
     "name": "stderr",
     "output_type": "stream",
     "text": [
      "\n",
      "100%|██████████| 102/102 [00:00<00:00, 102251.20it/s]\n",
      "\n",
      "100%|██████████| 1/1 [00:00<?, ?it/s]\u001b[A\n",
      "\n",
      "100%|██████████| 102/102 [00:00<00:00, 102007.39it/s]\n",
      "\n",
      "100%|██████████| 59/59 [00:00<00:00, 59173.59it/s]\n",
      "\n",
      "100%|██████████| 1/1 [00:00<?, ?it/s]\u001b[A\n",
      "\n",
      "100%|██████████| 59/59 [00:00<?, ?it/s][A\n",
      "32it [18:43, 38.56s/it]"
     ]
    },
    {
     "name": "stdout",
     "output_type": "stream",
     "text": [
      "Rv0126\n"
     ]
    },
    {
     "name": "stderr",
     "output_type": "stream",
     "text": [
      "\n",
      "100%|██████████| 162/162 [00:00<00:00, 161703.30it/s]\n",
      "\n",
      "100%|██████████| 1/1 [00:00<?, ?it/s]\u001b[A\n",
      "\n",
      "100%|██████████| 162/162 [00:00<00:00, 160632.92it/s]\n",
      "\n",
      "100%|██████████| 481/481 [00:00<00:00, 120251.55it/s]\n",
      "\n",
      "100%|██████████| 1/1 [00:00<00:00, 999.12it/s]\n",
      "\n",
      "100%|██████████| 480/480 [00:00<00:00, 95965.77it/s]\n",
      "33it [20:47, 60.75s/it]"
     ]
    },
    {
     "name": "stdout",
     "output_type": "stream",
     "text": [
      "Rv0127\n"
     ]
    },
    {
     "name": "stderr",
     "output_type": "stream",
     "text": [
      "\n",
      "100%|██████████| 163/163 [00:00<00:00, 163167.43it/s]\n",
      "\n",
      "100%|██████████| 1/1 [00:00<?, ?it/s]\u001b[A\n",
      "\n",
      "100%|██████████| 163/163 [00:00<00:00, 162662.75it/s]\n",
      "\n",
      "100%|██████████| 119/119 [00:00<?, ?it/s]A\n",
      "\n",
      "100%|██████████| 1/1 [00:00<?, ?it/s]\u001b[A\n",
      "\n",
      "100%|██████████| 119/119 [00:00<00:00, 119179.13it/s]\n",
      "34it [21:26, 54.91s/it]"
     ]
    },
    {
     "name": "stdout",
     "output_type": "stream",
     "text": [
      "Rv0128\n"
     ]
    },
    {
     "name": "stderr",
     "output_type": "stream",
     "text": [
      "\n",
      "100%|██████████| 94/94 [00:00<?, ?it/s][A\n",
      "\n",
      "100%|██████████| 1/1 [00:00<?, ?it/s]\u001b[A\n",
      "\n",
      "100%|██████████| 94/94 [00:00<00:00, 94006.81it/s]\n",
      "\n",
      "100%|██████████| 67/67 [00:00<00:00, 66184.26it/s]\n",
      "\n",
      "100%|██████████| 1/1 [00:00<?, ?it/s]\u001b[A\n",
      "\n",
      "100%|██████████| 67/67 [00:00<00:00, 66893.21it/s]\n",
      "35it [21:52, 46.87s/it]"
     ]
    },
    {
     "name": "stdout",
     "output_type": "stream",
     "text": [
      "Rv0129c\n"
     ]
    },
    {
     "name": "stderr",
     "output_type": "stream",
     "text": [
      "\n",
      "100%|██████████| 199/199 [00:00<00:00, 66359.24it/s]\n",
      "\n",
      "100%|██████████| 1/1 [00:00<?, ?it/s]\u001b[A\n",
      "\n",
      "100%|██████████| 199/199 [00:00<00:00, 44103.91it/s]\n",
      "\n",
      "100%|██████████| 123/123 [00:00<00:00, 40934.65it/s]\n",
      "\n",
      "100%|██████████| 1/1 [00:00<?, ?it/s]\u001b[A\n",
      "\n",
      "100%|██████████| 123/123 [00:00<00:00, 61453.17it/s]\n",
      "36it [23:52, 67.59s/it]"
     ]
    },
    {
     "name": "stdout",
     "output_type": "stream",
     "text": [
      "Rv0130\n"
     ]
    },
    {
     "name": "stderr",
     "output_type": "stream",
     "text": [
      "\n",
      "100%|██████████| 162/162 [00:00<00:00, 80986.56it/s]\n",
      "\n",
      "100%|██████████| 1/1 [00:00<?, ?it/s]\u001b[A\n",
      "\n",
      "100%|██████████| 162/162 [00:00<00:00, 53956.74it/s]\n",
      "\n",
      "100%|██████████| 427/427 [00:00<00:00, 50139.08it/s]\n",
      "\n",
      "100%|██████████| 1/1 [00:00<?, ?it/s]\u001b[A\n",
      "\n",
      "100%|██████████| 427/427 [00:00<00:00, 50056.40it/s]\n",
      "37it [30:53, 169.89s/it]"
     ]
    },
    {
     "name": "stdout",
     "output_type": "stream",
     "text": [
      "Rv0131c\n"
     ]
    },
    {
     "name": "stderr",
     "output_type": "stream",
     "text": [
      "\n",
      "100%|██████████| 142/142 [00:00<00:00, 139711.74it/s]\n",
      "\n",
      "100%|██████████| 1/1 [00:00<?, ?it/s]\u001b[A\n",
      "\n",
      "100%|██████████| 142/142 [00:00<00:00, 141942.60it/s]\n",
      "\n",
      "100%|██████████| 146/146 [00:00<00:00, 145871.46it/s]\n",
      "\n",
      "100%|██████████| 1/1 [00:00<?, ?it/s]\u001b[A\n",
      "\n",
      "100%|██████████| 146/146 [00:00<00:00, 145906.21it/s]\n",
      "38it [31:44, 134.95s/it]"
     ]
    },
    {
     "name": "stdout",
     "output_type": "stream",
     "text": [
      "Rv0132c\n"
     ]
    },
    {
     "name": "stderr",
     "output_type": "stream",
     "text": [
      "\n",
      "100%|██████████| 68/68 [00:00<?, ?it/s][A\n",
      "\n",
      "100%|██████████| 1/1 [00:00<?, ?it/s]\u001b[A\n",
      "\n",
      "100%|██████████| 68/68 [00:00<?, ?it/s][A\n",
      "\n",
      "100%|██████████| 44/44 [00:00<00:00, 44235.23it/s]\n",
      "\n",
      "100%|██████████| 1/1 [00:00<?, ?it/s]\u001b[A\n",
      "\n",
      "100%|██████████| 44/44 [00:00<?, ?it/s][A\n",
      "39it [32:20, 105.82s/it]"
     ]
    },
    {
     "name": "stdout",
     "output_type": "stream",
     "text": [
      "Rv0133\n"
     ]
    },
    {
     "name": "stderr",
     "output_type": "stream",
     "text": [
      "\n",
      "100%|██████████| 128/128 [00:00<?, ?it/s]A\n",
      "\n",
      "100%|██████████| 1/1 [00:00<?, ?it/s]\u001b[A\n",
      "\n",
      "100%|██████████| 128/128 [00:00<00:00, 128131.48it/s]\n",
      "\n",
      "100%|██████████| 77/77 [00:00<00:00, 77042.32it/s]\n",
      "\n",
      "100%|██████████| 1/1 [00:00<?, ?it/s]\u001b[A\n",
      "\n",
      "100%|██████████| 77/77 [00:00<?, ?it/s][A\n",
      "40it [32:53, 84.28s/it] "
     ]
    },
    {
     "name": "stdout",
     "output_type": "stream",
     "text": [
      "Rv0134\n"
     ]
    },
    {
     "name": "stderr",
     "output_type": "stream",
     "text": [
      "\n",
      "100%|██████████| 79/79 [00:00<00:00, 5820.20it/s]\n",
      "\n",
      "100%|██████████| 1/1 [00:00<?, ?it/s]\u001b[A\n",
      "\n",
      "100%|██████████| 79/79 [00:00<00:00, 79024.57it/s]\n",
      "\n",
      "100%|██████████| 47/47 [00:00<?, ?it/s][A\n",
      "\n",
      "100%|██████████| 1/1 [00:00<?, ?it/s]\u001b[A\n",
      "\n",
      "100%|██████████| 47/47 [00:00<?, ?it/s][A\n",
      "41it [34:42, 91.72s/it]"
     ]
    },
    {
     "name": "stdout",
     "output_type": "stream",
     "text": [
      "Rv0135c\n"
     ]
    },
    {
     "name": "stderr",
     "output_type": "stream",
     "text": [
      "\n",
      "100%|██████████| 187/187 [00:00<00:00, 124025.12it/s]\n",
      "\n",
      "100%|██████████| 1/1 [00:00<00:00, 1985.00it/s]\n",
      "\n",
      "100%|██████████| 187/187 [00:00<00:00, 93373.20it/s]\n",
      "\n",
      "100%|██████████| 118/118 [00:00<00:00, 118064.85it/s]\n",
      "\n",
      "100%|██████████| 1/1 [00:00<?, ?it/s]\u001b[A\n",
      "\n",
      "100%|██████████| 118/118 [00:00<00:00, 117980.42it/s]\n",
      "42it [35:30, 78.81s/it]"
     ]
    },
    {
     "name": "stdout",
     "output_type": "stream",
     "text": [
      "Rv0136\n"
     ]
    },
    {
     "name": "stderr",
     "output_type": "stream",
     "text": [
      "\n",
      "100%|██████████| 200/200 [00:00<00:00, 197611.50it/s]\n",
      "\n",
      "100%|██████████| 1/1 [00:00<?, ?it/s]\u001b[A\n",
      "\n",
      "100%|██████████| 200/200 [00:00<00:00, 199823.92it/s]\n",
      "\n",
      "100%|██████████| 127/127 [00:00<00:00, 127191.17it/s]\n",
      "\n",
      "100%|██████████| 1/1 [00:00<?, ?it/s]\u001b[A\n",
      "\n",
      "100%|██████████| 127/127 [00:00<00:00, 126767.40it/s]\n",
      "43it [36:18, 69.55s/it]"
     ]
    },
    {
     "name": "stdout",
     "output_type": "stream",
     "text": [
      "Rv0137c\n"
     ]
    },
    {
     "name": "stderr",
     "output_type": "stream",
     "text": [
      "\n",
      "100%|██████████| 203/203 [00:00<00:00, 31087.07it/s]\n",
      "\n",
      "100%|██████████| 1/1 [00:00<00:00, 1000.07it/s]\n",
      "\n",
      "100%|██████████| 203/203 [00:00<00:00, 202966.32it/s]\n",
      "\n",
      "100%|██████████| 470/470 [00:00<00:00, 155393.57it/s]\n",
      "\n",
      "100%|██████████| 1/1 [00:00<?, ?it/s]\u001b[A\n",
      "\n",
      "100%|██████████| 470/470 [00:00<00:00, 156280.55it/s]\n",
      "44it [37:08, 63.49s/it]"
     ]
    },
    {
     "name": "stdout",
     "output_type": "stream",
     "text": [
      "Rv0138\n"
     ]
    },
    {
     "name": "stderr",
     "output_type": "stream",
     "text": [
      "\n",
      "100%|██████████| 193/193 [00:00<00:00, 192830.08it/s]\n",
      "\n",
      "100%|██████████| 1/1 [00:00<?, ?it/s]\u001b[A\n",
      "\n",
      "100%|██████████| 193/193 [00:00<00:00, 96530.01it/s]\n",
      "\n",
      "100%|██████████| 126/126 [00:00<?, ?it/s]A\n",
      "\n",
      "100%|██████████| 1/1 [00:00<?, ?it/s]\u001b[A\n",
      "\n",
      "100%|██████████| 126/126 [00:00<?, ?it/s]A\n",
      "45it [37:36, 52.92s/it]"
     ]
    },
    {
     "name": "stdout",
     "output_type": "stream",
     "text": [
      "Rv0140\n"
     ]
    },
    {
     "name": "stderr",
     "output_type": "stream",
     "text": [
      "\n",
      "100%|██████████| 180/180 [00:00<00:00, 147831.35it/s]\n",
      "\n",
      "100%|██████████| 1/1 [00:00<?, ?it/s]\u001b[A\n",
      "\n",
      "100%|██████████| 180/180 [00:00<00:00, 89061.55it/s]\n",
      "\n",
      "100%|██████████| 122/122 [00:00<00:00, 122183.64it/s]\n",
      "\n",
      "100%|██████████| 1/1 [00:00<?, ?it/s]\u001b[A\n",
      "\n",
      "100%|██████████| 122/122 [00:00<00:00, 80748.79it/s]\n",
      "47it [38:02, 34.53s/it]"
     ]
    },
    {
     "name": "stdout",
     "output_type": "stream",
     "text": [
      "Rv0143c\n"
     ]
    },
    {
     "name": "stderr",
     "output_type": "stream",
     "text": [
      "\n",
      "100%|██████████| 92/92 [00:00<00:00, 92072.53it/s]\n",
      "\n",
      "100%|██████████| 1/1 [00:00<00:00, 999.60it/s]\n",
      "\n",
      "100%|██████████| 92/92 [00:00<00:00, 90879.88it/s]\n",
      "\n",
      "100%|██████████| 58/58 [00:00<?, ?it/s][A\n",
      "\n",
      "100%|██████████| 1/1 [00:00<?, ?it/s]\u001b[A\n",
      "\n",
      "100%|██████████| 58/58 [00:00<00:00, 57415.54it/s]\n",
      "50it [38:40, 23.73s/it]"
     ]
    },
    {
     "name": "stdout",
     "output_type": "stream",
     "text": [
      "Rv0144\n"
     ]
    },
    {
     "name": "stderr",
     "output_type": "stream",
     "text": [
      "\n",
      "100%|██████████| 83/83 [00:00<00:00, 81970.15it/s]\n",
      "\n",
      "100%|██████████| 1/1 [00:00<?, ?it/s]\u001b[A\n",
      "\n",
      "100%|██████████| 83/83 [00:00<?, ?it/s][A\n",
      "\n",
      "100%|██████████| 49/49 [00:00<?, ?it/s][A\n",
      "\n",
      "100%|██████████| 1/1 [00:00<?, ?it/s]\u001b[A\n",
      "\n",
      "100%|██████████| 49/49 [00:00<?, ?it/s][A\n",
      "51it [39:10, 24.92s/it]"
     ]
    },
    {
     "name": "stdout",
     "output_type": "stream",
     "text": [
      "Rv0145\n"
     ]
    },
    {
     "name": "stderr",
     "output_type": "stream",
     "text": [
      "\n",
      "100%|██████████| 74/74 [00:00<?, ?it/s][A\n",
      "\n",
      "100%|██████████| 1/1 [00:00<?, ?it/s]\u001b[A\n",
      "\n",
      "100%|██████████| 74/74 [00:00<?, ?it/s][A\n",
      "\n",
      "100%|██████████| 46/46 [00:00<00:00, 54625.70it/s]\n",
      "\n",
      "100%|██████████| 1/1 [00:00<?, ?it/s]\u001b[A\n",
      "\n",
      "100%|██████████| 46/46 [00:00<?, ?it/s][A\n",
      "52it [39:38, 25.58s/it]"
     ]
    },
    {
     "name": "stdout",
     "output_type": "stream",
     "text": [
      "Rv0146\n"
     ]
    },
    {
     "name": "stderr",
     "output_type": "stream",
     "text": [
      "\n",
      "100%|██████████| 198/198 [00:00<00:00, 197308.67it/s]\n",
      "\n",
      "100%|██████████| 1/1 [00:00<00:00, 1000.31it/s]\n",
      "\n",
      "100%|██████████| 198/198 [00:00<00:00, 197684.41it/s]\n",
      "\n",
      "100%|██████████| 122/122 [00:00<00:00, 241940.94it/s]\n",
      "\n",
      "100%|██████████| 1/1 [00:00<?, ?it/s]\u001b[A\n",
      "\n",
      "100%|██████████| 122/122 [00:00<00:00, 122300.45it/s]\n",
      "53it [40:00, 24.80s/it]"
     ]
    },
    {
     "name": "stdout",
     "output_type": "stream",
     "text": [
      "Rv0147\n"
     ]
    },
    {
     "name": "stderr",
     "output_type": "stream",
     "text": [
      "\n",
      "100%|██████████| 160/160 [00:00<00:00, 159821.06it/s]\n",
      "\n",
      "100%|██████████| 1/1 [00:00<?, ?it/s]\u001b[A\n",
      "\n",
      "100%|██████████| 160/160 [00:00<00:00, 135027.90it/s]\n",
      "\n",
      "100%|██████████| 103/103 [00:00<00:00, 103032.03it/s]\n",
      "\n",
      "100%|██████████| 1/1 [00:00<?, ?it/s]\u001b[A\n",
      "\n",
      "100%|██████████| 103/103 [00:00<00:00, 102300.10it/s]\n",
      "54it [40:39, 28.23s/it]"
     ]
    },
    {
     "name": "stdout",
     "output_type": "stream",
     "text": [
      "Rv0148\n"
     ]
    },
    {
     "name": "stderr",
     "output_type": "stream",
     "text": [
      "\n",
      "100%|██████████| 206/206 [00:00<00:00, 206162.40it/s]\n",
      "\n",
      "100%|██████████| 1/1 [00:00<00:00, 1000.79it/s]\n",
      "\n",
      "100%|██████████| 206/206 [00:00<00:00, 206113.22it/s]\n",
      "\n",
      "100%|██████████| 161/161 [00:00<00:00, 160973.29it/s]\n",
      "\n",
      "100%|██████████| 1/1 [00:00<00:00, 999.60it/s]\n",
      "\n",
      "100%|██████████| 161/161 [00:00<00:00, 155023.63it/s]\n",
      "55it [41:16, 30.49s/it]"
     ]
    },
    {
     "name": "stdout",
     "output_type": "stream",
     "text": [
      "Rv0150c\n"
     ]
    },
    {
     "name": "stderr",
     "output_type": "stream",
     "text": [
      "57it [41:29, 20.23s/it]"
     ]
    },
    {
     "name": "stdout",
     "output_type": "stream",
     "text": [
      "Rv0152c\n"
     ]
    },
    {
     "name": "stderr",
     "output_type": "stream",
     "text": [
      "\n",
      "100%|██████████| 13/13 [00:00<?, ?it/s][A\n",
      "\n",
      "100%|██████████| 1/1 [00:00<?, ?it/s]\u001b[A\n",
      "\n",
      "100%|██████████| 13/13 [00:00<?, ?it/s][A\n",
      "59it [42:26, 23.45s/it]"
     ]
    },
    {
     "name": "stdout",
     "output_type": "stream",
     "text": [
      "Rv0154c\n"
     ]
    },
    {
     "name": "stderr",
     "output_type": "stream",
     "text": [
      "\n",
      "100%|██████████| 184/184 [00:00<00:00, 36895.92it/s]\n",
      "\n",
      "100%|██████████| 1/1 [00:00<?, ?it/s]\u001b[A\n",
      "\n",
      "100%|██████████| 183/183 [00:00<00:00, 35818.64it/s]\n",
      "\n",
      "100%|██████████| 324/324 [00:00<00:00, 35801.53it/s]\n",
      "\n",
      "100%|██████████| 1/1 [00:00<?, ?it/s]\u001b[A\n",
      "\n",
      "100%|██████████| 323/323 [00:00<00:00, 37356.21it/s]\n",
      "61it [53:10, 128.47s/it]"
     ]
    },
    {
     "name": "stdout",
     "output_type": "stream",
     "text": [
      "Rv0155\n"
     ]
    },
    {
     "name": "stderr",
     "output_type": "stream",
     "text": [
      "\n",
      "100%|██████████| 119/119 [00:00<00:00, 39669.54it/s]\n",
      "\n",
      "100%|██████████| 1/1 [00:00<?, ?it/s]\u001b[A\n",
      "\n",
      "100%|██████████| 119/119 [00:00<00:00, 29764.58it/s]\n",
      "\n",
      "100%|██████████| 232/232 [00:00<00:00, 34739.16it/s]\n",
      "\n",
      "100%|██████████| 1/1 [00:00<?, ?it/s]\u001b[A\n",
      "\n",
      "100%|██████████| 232/232 [00:00<00:00, 38669.47it/s]\n",
      "62it [59:24, 177.98s/it]"
     ]
    },
    {
     "name": "stdout",
     "output_type": "stream",
     "text": [
      "Rv0157A\n"
     ]
    },
    {
     "name": "stderr",
     "output_type": "stream",
     "text": [
      "\n",
      "100%|██████████| 94/94 [00:00<00:00, 94843.54it/s]\n",
      "\n",
      "100%|██████████| 1/1 [00:00<?, ?it/s]\u001b[A\n",
      "\n",
      "100%|██████████| 94/94 [00:00<?, ?it/s][A\n",
      "\n",
      "100%|██████████| 55/55 [00:00<00:00, 50040.50it/s]\n",
      "\n",
      "100%|██████████| 1/1 [00:00<00:00, 1012.63it/s]\n",
      "\n",
      "100%|██████████| 55/55 [00:00<?, ?it/s][A\n",
      "65it [1:00:20, 104.24s/it]"
     ]
    },
    {
     "name": "stdout",
     "output_type": "stream",
     "text": [
      "Rv0158\n"
     ]
    },
    {
     "name": "stderr",
     "output_type": "stream",
     "text": [
      "\n",
      "100%|██████████| 207/207 [00:00<00:00, 136298.42it/s]\n",
      "\n",
      "100%|██████████| 1/1 [00:00<?, ?it/s]\u001b[A\n",
      "\n",
      "100%|██████████| 207/207 [00:00<00:00, 103470.50it/s]\n",
      "\n",
      "100%|██████████| 130/130 [00:00<00:00, 130071.45it/s]\n",
      "\n",
      "100%|██████████| 1/1 [00:00<?, ?it/s]\u001b[A\n",
      "\n",
      "100%|██████████| 130/130 [00:00<00:00, 65167.86it/s]\n",
      "66it [1:01:29, 97.76s/it] "
     ]
    },
    {
     "name": "stdout",
     "output_type": "stream",
     "text": [
      "Rv0159c\n"
     ]
    },
    {
     "name": "stderr",
     "output_type": "stream",
     "text": [
      "\n",
      "100%|██████████| 14/14 [00:00<?, ?it/s][A\n",
      "\n",
      "100%|██████████| 1/1 [00:00<?, ?it/s]\u001b[A\n",
      "\n",
      "100%|██████████| 14/14 [00:00<00:00, 13954.43it/s]\n",
      "67it [1:01:47, 81.40s/it]"
     ]
    },
    {
     "name": "stdout",
     "output_type": "stream",
     "text": [
      "Rv0160c\n"
     ]
    },
    {
     "name": "stderr",
     "output_type": "stream",
     "text": [
      "\n",
      "100%|██████████| 38/38 [00:00<?, ?it/s][A\n",
      "\n",
      "100%|██████████| 1/1 [00:00<?, ?it/s]\u001b[A\n",
      "\n",
      "100%|██████████| 38/38 [00:00<?, ?it/s][A\n",
      "\n",
      "100%|██████████| 23/23 [00:00<?, ?it/s][A\n",
      "\n",
      "100%|██████████| 1/1 [00:00<?, ?it/s]\u001b[A\n",
      "\n",
      "100%|██████████| 23/23 [00:00<?, ?it/s][A\n",
      "68it [1:02:29, 72.59s/it]"
     ]
    },
    {
     "name": "stdout",
     "output_type": "stream",
     "text": [
      "Rv0161\n"
     ]
    },
    {
     "name": "stderr",
     "output_type": "stream",
     "text": [
      "\n",
      "100%|██████████| 184/184 [00:00<00:00, 92028.61it/s]\n",
      "\n",
      "100%|██████████| 1/1 [00:00<?, ?it/s]\u001b[A\n",
      "\n",
      "100%|██████████| 184/184 [00:00<00:00, 92083.51it/s]\n",
      "\n",
      "100%|██████████| 112/112 [00:00<00:00, 110897.56it/s]\n",
      "\n",
      "100%|██████████| 1/1 [00:00<00:00, 1066.98it/s]\n",
      "\n",
      "100%|██████████| 112/112 [00:00<00:00, 112302.67it/s]\n",
      "69it [1:03:30, 69.66s/it]"
     ]
    },
    {
     "name": "stdout",
     "output_type": "stream",
     "text": [
      "Rv0164\n"
     ]
    },
    {
     "name": "stderr",
     "output_type": "stream",
     "text": [
      "\n",
      "100%|██████████| 194/194 [00:00<00:00, 193829.20it/s]\n",
      "\n",
      "100%|██████████| 1/1 [00:00<?, ?it/s]\u001b[A\n",
      "\n",
      "100%|██████████| 194/194 [00:00<00:00, 194106.63it/s]\n",
      "\n",
      "100%|██████████| 120/120 [00:00<00:00, 120065.95it/s]\n",
      "\n",
      "100%|██████████| 1/1 [00:00<?, ?it/s]\u001b[A\n",
      "\n",
      "100%|██████████| 120/120 [00:00<?, ?it/s]A\n",
      "72it [1:03:52, 37.86s/it]"
     ]
    },
    {
     "name": "stdout",
     "output_type": "stream",
     "text": [
      "Rv0165c\n"
     ]
    },
    {
     "name": "stderr",
     "output_type": "stream",
     "text": [
      "\n",
      "100%|██████████| 170/170 [00:00<00:00, 67515.55it/s]\n",
      "\n",
      "100%|██████████| 1/1 [00:00<?, ?it/s]\u001b[A\n",
      "\n",
      "100%|██████████| 169/169 [00:00<00:00, 84516.20it/s]\n",
      "\n",
      "100%|██████████| 116/116 [00:00<00:00, 57907.55it/s]\n",
      "\n",
      "100%|██████████| 1/1 [00:00<00:00, 993.91it/s]\n",
      "\n",
      "100%|██████████| 116/116 [00:00<00:00, 115953.11it/s]\n",
      "73it [1:05:06, 44.80s/it]"
     ]
    },
    {
     "name": "stdout",
     "output_type": "stream",
     "text": [
      "Rv0166\n"
     ]
    },
    {
     "name": "stderr",
     "output_type": "stream",
     "text": [
      "\n",
      "100%|██████████| 197/197 [00:00<00:00, 65525.61it/s]\n",
      "\n",
      "100%|██████████| 1/1 [00:00<?, ?it/s]\u001b[A\n",
      "\n",
      "100%|██████████| 196/196 [00:00<00:00, 78040.97it/s]\n",
      "\n",
      "100%|██████████| 141/141 [00:00<00:00, 70538.75it/s]\n",
      "\n",
      "100%|██████████| 1/1 [00:00<?, ?it/s]\u001b[A\n",
      "\n",
      "100%|██████████| 141/141 [00:00<00:00, 92739.04it/s]\n",
      "74it [1:06:18, 50.92s/it]"
     ]
    },
    {
     "name": "stdout",
     "output_type": "stream",
     "text": [
      "Rv0167\n"
     ]
    },
    {
     "name": "stderr",
     "output_type": "stream",
     "text": [
      "\n",
      "100%|██████████| 197/197 [00:00<00:00, 65676.65it/s]\n",
      "\n",
      "100%|██████████| 1/1 [00:00<?, ?it/s]\u001b[A\n",
      "\n",
      "100%|██████████| 197/197 [00:00<00:00, 65468.50it/s]\n",
      "\n",
      "100%|██████████| 123/123 [00:00<00:00, 61380.06it/s]\n",
      "\n",
      "100%|██████████| 1/1 [00:00<?, ?it/s]\u001b[A\n",
      "\n",
      "100%|██████████| 123/123 [00:00<00:00, 122920.99it/s]\n",
      "75it [1:07:48, 60.09s/it]"
     ]
    },
    {
     "name": "stdout",
     "output_type": "stream",
     "text": [
      "Rv0175\n"
     ]
    },
    {
     "name": "stderr",
     "output_type": "stream",
     "text": [
      "\n",
      "100%|██████████| 81/81 [00:00<?, ?it/s][A\n",
      "\n",
      "100%|██████████| 1/1 [00:00<?, ?it/s]\u001b[A\n",
      "\n",
      "100%|██████████| 81/81 [00:00<?, ?it/s][A\n",
      "\n",
      "100%|██████████| 46/46 [00:00<00:00, 45992.37it/s]\n",
      "\n",
      "100%|██████████| 1/1 [00:00<?, ?it/s]\u001b[A\n",
      "\n",
      "100%|██████████| 46/46 [00:00<?, ?it/s][A\n",
      "83it [1:08:08, 18.04s/it]"
     ]
    },
    {
     "name": "stdout",
     "output_type": "stream",
     "text": [
      "Rv0179c\n"
     ]
    },
    {
     "name": "stderr",
     "output_type": "stream",
     "text": [
      "\n",
      "100%|██████████| 188/188 [00:00<00:00, 184840.40it/s]\n",
      "\n",
      "100%|██████████| 1/1 [00:00<?, ?it/s]\u001b[A\n",
      "\n",
      "100%|██████████| 188/188 [00:00<00:00, 188148.21it/s]\n",
      "\n",
      "100%|██████████| 116/116 [00:00<?, ?it/s]A\n",
      "\n",
      "100%|██████████| 1/1 [00:00<?, ?it/s]\u001b[A\n",
      "\n",
      "100%|██████████| 116/116 [00:00<?, ?it/s]A\n",
      "87it [1:08:42, 14.72s/it]"
     ]
    },
    {
     "name": "stdout",
     "output_type": "stream",
     "text": [
      "Rv0184\n"
     ]
    },
    {
     "name": "stderr",
     "output_type": "stream",
     "text": [
      "\n",
      "100%|██████████| 208/208 [00:00<00:00, 206049.89it/s]\n",
      "\n",
      "100%|██████████| 1/1 [00:00<?, ?it/s]\u001b[A\n",
      "\n",
      "100%|██████████| 208/208 [00:00<00:00, 408434.10it/s]\n",
      "\n",
      "100%|██████████| 135/135 [00:00<?, ?it/s]A\n",
      "\n",
      "100%|██████████| 1/1 [00:00<?, ?it/s]\u001b[A\n",
      "\n",
      "100%|██████████| 135/135 [00:00<00:00, 135041.98it/s]\n",
      "92it [1:09:08, 11.09s/it]"
     ]
    },
    {
     "name": "stdout",
     "output_type": "stream",
     "text": [
      "Rv0186\n"
     ]
    },
    {
     "name": "stderr",
     "output_type": "stream",
     "text": [
      "\n",
      "100%|██████████| 75/75 [00:00<?, ?it/s][A\n",
      "\n",
      "100%|██████████| 1/1 [00:00<?, ?it/s]\u001b[A\n",
      "\n",
      "100%|██████████| 75/75 [00:00<?, ?it/s][A\n",
      "\n",
      "100%|██████████| 43/43 [00:00<00:00, 43013.37it/s]\n",
      "\n",
      "100%|██████████| 1/1 [00:00<?, ?it/s]\u001b[A\n",
      "\n",
      "100%|██████████| 43/43 [00:00<?, ?it/s][A\n",
      "94it [1:09:29, 11.02s/it]"
     ]
    },
    {
     "name": "stdout",
     "output_type": "stream",
     "text": [
      "Rv0186A\n"
     ]
    },
    {
     "name": "stderr",
     "output_type": "stream",
     "text": [
      "\n",
      "100%|██████████| 107/107 [00:00<00:00, 107033.28it/s]\n",
      "\n",
      "100%|██████████| 1/1 [00:00<?, ?it/s]\u001b[A\n",
      "\n",
      "100%|██████████| 107/107 [00:00<00:00, 107212.26it/s]\n",
      "\n",
      "100%|██████████| 62/62 [00:00<00:00, 61974.94it/s]\n",
      "\n",
      "100%|██████████| 1/1 [00:00<?, ?it/s]\u001b[A\n",
      "\n",
      "100%|██████████| 62/62 [00:00<00:00, 41049.23it/s]\n",
      "95it [1:10:21, 15.68s/it]"
     ]
    },
    {
     "name": "stdout",
     "output_type": "stream",
     "text": [
      "Rv0187\n"
     ]
    },
    {
     "name": "stderr",
     "output_type": "stream",
     "text": [
      "\n",
      "100%|██████████| 155/155 [00:00<00:00, 77653.74it/s]\n",
      "\n",
      "100%|██████████| 1/1 [00:00<00:00, 1000.07it/s]\n",
      "\n",
      "100%|██████████| 155/155 [00:00<00:00, 154974.28it/s]\n",
      "\n",
      "100%|██████████| 141/141 [00:00<00:00, 140875.86it/s]\n",
      "\n",
      "100%|██████████| 1/1 [00:00<?, ?it/s]\u001b[A\n",
      "\n",
      "100%|██████████| 141/141 [00:00<00:00, 70479.90it/s]\n",
      "96it [1:11:27, 22.66s/it]"
     ]
    },
    {
     "name": "stdout",
     "output_type": "stream",
     "text": [
      "Rv0188\n"
     ]
    },
    {
     "name": "stderr",
     "output_type": "stream",
     "text": [
      "\n",
      "100%|██████████| 72/72 [00:00<00:00, 72160.07it/s]\n",
      "\n",
      "100%|██████████| 1/1 [00:00<?, ?it/s]\u001b[A\n",
      "\n",
      "100%|██████████| 72/72 [00:00<?, ?it/s][A\n",
      "\n",
      "100%|██████████| 45/45 [00:00<00:00, 45089.27it/s]\n",
      "\n",
      "100%|██████████| 1/1 [00:00<?, ?it/s]\u001b[A\n",
      "\n",
      "100%|██████████| 45/45 [00:00<00:00, 44949.67it/s]\n",
      "97it [1:12:00, 24.31s/it]"
     ]
    },
    {
     "name": "stdout",
     "output_type": "stream",
     "text": [
      "Rv0189c\n"
     ]
    },
    {
     "name": "stderr",
     "output_type": "stream",
     "text": [
      "\n",
      "100%|██████████| 211/211 [00:00<00:00, 105469.93it/s]\n",
      "\n",
      "100%|██████████| 1/1 [00:00<?, ?it/s]\u001b[A\n",
      "\n",
      "100%|██████████| 211/211 [00:00<00:00, 72995.56it/s]\n",
      "\n",
      "100%|██████████| 500/500 [00:00<00:00, 83385.77it/s]\n",
      "\n",
      "100%|██████████| 1/1 [00:00<?, ?it/s]\u001b[A\n",
      "\n",
      "100%|██████████| 499/499 [00:00<00:00, 66396.73it/s]\n",
      "98it [1:14:24, 47.19s/it]"
     ]
    },
    {
     "name": "stdout",
     "output_type": "stream",
     "text": [
      "Rv0190\n"
     ]
    },
    {
     "name": "stderr",
     "output_type": "stream",
     "text": [
      "\n",
      "100%|██████████| 214/214 [00:00<00:00, 106944.01it/s]\n",
      "\n",
      "100%|██████████| 1/1 [00:00<?, ?it/s]\u001b[A\n",
      "\n",
      "100%|██████████| 214/214 [00:00<00:00, 106272.92it/s]\n",
      "\n",
      "100%|██████████| 412/412 [00:00<00:00, 74720.16it/s]\n",
      "\n",
      "100%|██████████| 1/1 [00:00<?, ?it/s]\u001b[A\n",
      "\n",
      "100%|██████████| 412/412 [00:00<00:00, 66282.58it/s]\n",
      "99it [1:16:29, 64.02s/it]"
     ]
    },
    {
     "name": "stdout",
     "output_type": "stream",
     "text": [
      "Rv0191\n"
     ]
    },
    {
     "name": "stderr",
     "output_type": "stream",
     "text": [
      "\n",
      "100%|██████████| 127/127 [00:00<00:00, 84164.42it/s]\n",
      "\n",
      "100%|██████████| 1/1 [00:00<00:00, 999.12it/s]\n",
      "\n",
      "100%|██████████| 127/127 [00:00<00:00, 109289.41it/s]\n",
      "\n",
      "100%|██████████| 73/73 [00:00<?, ?it/s][A\n",
      "\n",
      "100%|██████████| 1/1 [00:00<?, ?it/s]\u001b[A\n",
      "\n",
      "100%|██████████| 73/73 [00:00<?, ?it/s][A\n",
      "100it [1:17:16, 59.91s/it]"
     ]
    },
    {
     "name": "stdout",
     "output_type": "stream",
     "text": [
      "Rv0192\n"
     ]
    },
    {
     "name": "stderr",
     "output_type": "stream",
     "text": [
      "\n",
      "100%|██████████| 198/198 [00:00<00:00, 197967.15it/s]\n",
      "\n",
      "100%|██████████| 1/1 [00:00<?, ?it/s]\u001b[A\n",
      "\n",
      "100%|██████████| 196/196 [00:00<?, ?it/s]A\n",
      "\n",
      "100%|██████████| 123/123 [00:00<?, ?it/s]A\n",
      "\n",
      "100%|██████████| 1/1 [00:00<?, ?it/s]\u001b[A\n",
      "\n",
      "100%|██████████| 123/123 [00:00<00:00, 122425.10it/s]\n",
      "101it [1:17:36, 49.94s/it]"
     ]
    },
    {
     "name": "stdout",
     "output_type": "stream",
     "text": [
      "Rv0193c\n"
     ]
    },
    {
     "name": "stderr",
     "output_type": "stream",
     "text": [
      "102it [1:17:49, 40.27s/it]"
     ]
    },
    {
     "name": "stdout",
     "output_type": "stream",
     "text": [
      "Rv0194\n"
     ]
    },
    {
     "name": "stderr",
     "output_type": "stream",
     "text": [
      "103it [1:18:03, 32.96s/it]"
     ]
    },
    {
     "name": "stdout",
     "output_type": "stream",
     "text": [
      "Rv0195\n"
     ]
    },
    {
     "name": "stderr",
     "output_type": "stream",
     "text": [
      "104it [1:18:17, 27.58s/it]"
     ]
    },
    {
     "name": "stdout",
     "output_type": "stream",
     "text": [
      "Rv0196\n"
     ]
    },
    {
     "name": "stderr",
     "output_type": "stream",
     "text": [
      "\n",
      "100%|██████████| 136/136 [00:00<00:00, 129318.83it/s]\n",
      "\n",
      "100%|██████████| 1/1 [00:00<?, ?it/s]\u001b[A\n",
      "\n",
      "100%|██████████| 136/136 [00:00<00:00, 24923.55it/s]\n",
      "\n",
      "100%|██████████| 82/82 [00:00<?, ?it/s][A\n",
      "\n",
      "100%|██████████| 1/1 [00:00<?, ?it/s]\u001b[A\n",
      "\n",
      "100%|██████████| 82/82 [00:00<00:00, 81986.40it/s]\n",
      "105it [1:18:59, 31.81s/it]"
     ]
    },
    {
     "name": "stdout",
     "output_type": "stream",
     "text": [
      "Rv0198c\n"
     ]
    },
    {
     "name": "stderr",
     "output_type": "stream",
     "text": [
      "\n",
      "100%|██████████| 210/210 [00:00<00:00, 211884.49it/s]\n",
      "\n",
      "100%|██████████| 1/1 [00:00<00:00, 998.41it/s]\n",
      "\n",
      "100%|██████████| 210/210 [00:00<00:00, 139522.23it/s]\n",
      "\n",
      "100%|██████████| 238/238 [00:00<00:00, 157055.44it/s]\n",
      "\n",
      "100%|██████████| 1/1 [00:00<?, ?it/s]\u001b[A\n",
      "\n",
      "100%|██████████| 238/238 [00:00<00:00, 236494.75it/s]\n",
      "107it [1:19:23, 22.81s/it]"
     ]
    },
    {
     "name": "stdout",
     "output_type": "stream",
     "text": [
      "Rv0199\n"
     ]
    },
    {
     "name": "stderr",
     "output_type": "stream",
     "text": [
      "\n",
      "100%|██████████| 96/96 [00:00<?, ?it/s][A\n",
      "\n",
      "100%|██████████| 1/1 [00:00<?, ?it/s]\u001b[A\n",
      "\n",
      "100%|██████████| 96/96 [00:00<?, ?it/s][A\n",
      "\n",
      "100%|██████████| 54/54 [00:00<00:00, 53978.17it/s]\n",
      "\n",
      "100%|██████████| 1/1 [00:00<?, ?it/s]\u001b[A\n",
      "\n",
      "100%|██████████| 54/54 [00:00<?, ?it/s][A\n",
      "108it [1:19:45, 22.58s/it]"
     ]
    },
    {
     "name": "stdout",
     "output_type": "stream",
     "text": [
      "Rv0202c\n"
     ]
    },
    {
     "name": "stderr",
     "output_type": "stream",
     "text": [
      "\n",
      "100%|██████████| 201/201 [00:00<00:00, 50241.66it/s]\n",
      "\n",
      "100%|██████████| 1/1 [00:00<?, ?it/s]\u001b[A\n",
      "\n",
      "100%|██████████| 201/201 [00:00<00:00, 67047.49it/s]\n",
      "\n",
      "100%|██████████| 124/124 [00:00<00:00, 56685.96it/s]\n",
      "\n",
      "100%|██████████| 1/1 [00:00<?, ?it/s]\u001b[A\n",
      "\n",
      "100%|██████████| 124/124 [00:00<00:00, 124008.99it/s]\n",
      "111it [1:21:16, 26.62s/it]"
     ]
    },
    {
     "name": "stdout",
     "output_type": "stream",
     "text": [
      "Rv0203\n"
     ]
    },
    {
     "name": "stderr",
     "output_type": "stream",
     "text": [
      "\n",
      "100%|██████████| 83/83 [00:00<00:00, 82907.18it/s]\n",
      "\n",
      "100%|██████████| 1/1 [00:00<?, ?it/s]\u001b[A\n",
      "\n",
      "100%|██████████| 83/83 [00:00<00:00, 83006.02it/s]\n",
      "\n",
      "100%|██████████| 48/48 [00:00<?, ?it/s][A\n",
      "\n",
      "100%|██████████| 1/1 [00:00<?, ?it/s]\u001b[A\n",
      "\n",
      "100%|██████████| 48/48 [00:00<?, ?it/s][A\n",
      "112it [1:22:35, 36.85s/it]"
     ]
    },
    {
     "name": "stdout",
     "output_type": "stream",
     "text": [
      "Rv0204c\n"
     ]
    },
    {
     "name": "stderr",
     "output_type": "stream",
     "text": [
      "\n",
      "100%|██████████| 190/190 [00:00<00:00, 95006.89it/s]\n",
      "\n",
      "100%|██████████| 1/1 [00:00<?, ?it/s]\u001b[A\n",
      "\n",
      "100%|██████████| 190/190 [00:00<00:00, 94848.58it/s]\n",
      "\n",
      "100%|██████████| 120/120 [00:00<00:00, 59826.04it/s]\n",
      "\n",
      "100%|██████████| 1/1 [00:00<00:00, 999.83it/s]\n",
      "\n",
      "100%|██████████| 120/120 [00:00<00:00, 58702.65it/s]\n",
      "113it [1:23:51, 45.47s/it]"
     ]
    },
    {
     "name": "stdout",
     "output_type": "stream",
     "text": [
      "Rv0205\n"
     ]
    },
    {
     "name": "stderr",
     "output_type": "stream",
     "text": [
      "\n",
      "100%|██████████| 198/198 [00:00<00:00, 78874.75it/s]\n",
      "\n",
      "100%|██████████| 1/1 [00:00<00:00, 2833.99it/s]\n",
      "\n",
      "100%|██████████| 198/198 [00:00<00:00, 65894.80it/s]\n",
      "\n",
      "100%|██████████| 121/121 [00:00<00:00, 80467.86it/s]\n",
      "\n",
      "100%|██████████| 1/1 [00:00<?, ?it/s]\u001b[A\n",
      "\n",
      "100%|██████████| 121/121 [00:00<00:00, 60217.23it/s]\n",
      "114it [1:24:58, 50.48s/it]"
     ]
    },
    {
     "name": "stdout",
     "output_type": "stream",
     "text": [
      "Rv0206c\n"
     ]
    },
    {
     "name": "stderr",
     "output_type": "stream",
     "text": [
      "\n",
      "100%|██████████| 154/154 [00:00<00:00, 139628.80it/s]\n",
      "\n",
      "100%|██████████| 1/1 [00:00<?, ?it/s]\u001b[A\n",
      "\n",
      "100%|██████████| 154/154 [00:00<00:00, 154231.81it/s]\n",
      "\n",
      "100%|██████████| 90/90 [00:00<?, ?it/s][A\n",
      "\n",
      "100%|██████████| 1/1 [00:00<?, ?it/s]\u001b[A\n",
      "\n",
      "100%|██████████| 90/90 [00:00<?, ?it/s][A\n",
      "115it [1:25:23, 43.96s/it]"
     ]
    },
    {
     "name": "stdout",
     "output_type": "stream",
     "text": [
      "Rv0208c\n"
     ]
    },
    {
     "name": "stderr",
     "output_type": "stream",
     "text": [
      "\n",
      "100%|██████████| 193/193 [00:00<00:00, 96380.60it/s]\n",
      "\n",
      "100%|██████████| 1/1 [00:00<?, ?it/s]\u001b[A\n",
      "\n",
      "100%|██████████| 193/193 [00:00<00:00, 192646.52it/s]\n",
      "\n",
      "100%|██████████| 118/118 [00:00<00:00, 118432.13it/s]\n",
      "\n",
      "100%|██████████| 1/1 [00:00<?, ?it/s]\u001b[A\n",
      "\n",
      "100%|██████████| 118/118 [00:00<?, ?it/s]A\n",
      "117it [1:26:13, 35.98s/it]"
     ]
    },
    {
     "name": "stdout",
     "output_type": "stream",
     "text": [
      "Rv0209\n"
     ]
    },
    {
     "name": "stderr",
     "output_type": "stream",
     "text": [
      "\n",
      "100%|██████████| 33/33 [00:00<00:00, 31258.36it/s]\n",
      "\n",
      "100%|██████████| 1/1 [00:00<?, ?it/s]\u001b[A\n",
      "\n",
      "100%|██████████| 33/33 [00:00<?, ?it/s][A\n",
      "\n",
      "100%|██████████| 21/21 [00:00<?, ?it/s][A\n",
      "\n",
      "100%|██████████| 1/1 [00:00<?, ?it/s]\u001b[A\n",
      "\n",
      "100%|██████████| 21/21 [00:00<?, ?it/s][A\n",
      "118it [1:26:53, 37.04s/it]"
     ]
    },
    {
     "name": "stdout",
     "output_type": "stream",
     "text": [
      "Rv0211\n"
     ]
    },
    {
     "name": "stderr",
     "output_type": "stream",
     "text": [
      "\n",
      "100%|██████████| 215/215 [00:00<00:00, 74724.51it/s]\n",
      "\n",
      "100%|██████████| 1/1 [00:00<00:00, 1000.07it/s]\n",
      "\n",
      "100%|██████████| 214/214 [00:00<00:00, 106918.53it/s]\n",
      "\n",
      "100%|██████████| 485/485 [00:00<00:00, 64562.57it/s]\n",
      "\n",
      "100%|██████████| 1/1 [00:00<?, ?it/s]\u001b[A\n",
      "\n",
      "100%|██████████| 484/484 [00:00<00:00, 65599.53it/s]\n",
      "120it [1:30:41, 67.64s/it]"
     ]
    },
    {
     "name": "stdout",
     "output_type": "stream",
     "text": [
      "Rv0213c\n"
     ]
    },
    {
     "name": "stderr",
     "output_type": "stream",
     "text": [
      "\n",
      "100%|██████████| 18/18 [00:00<?, ?it/s][A\n",
      "\n",
      "100%|██████████| 1/1 [00:00<?, ?it/s]\u001b[A\n",
      "\n",
      "100%|██████████| 18/18 [00:00<?, ?it/s][A\n",
      "\n",
      "100%|██████████| 12/12 [00:00<?, ?it/s][A\n",
      "\n",
      "100%|██████████| 1/1 [00:00<?, ?it/s]\u001b[A\n",
      "\n",
      "100%|██████████| 12/12 [00:00<?, ?it/s][A\n",
      "122it [1:31:09, 48.17s/it]"
     ]
    },
    {
     "name": "stdout",
     "output_type": "stream",
     "text": [
      "Rv0214\n"
     ]
    },
    {
     "name": "stderr",
     "output_type": "stream",
     "text": [
      "\n",
      "100%|██████████| 189/189 [00:00<00:00, 94495.58it/s]\n",
      "\n",
      "100%|██████████| 1/1 [00:00<?, ?it/s]\u001b[A\n",
      "\n",
      "100%|██████████| 189/189 [00:00<00:00, 189103.88it/s]\n",
      "\n",
      "100%|██████████| 116/116 [00:00<00:00, 116091.45it/s]\n",
      "\n",
      "100%|██████████| 1/1 [00:00<?, ?it/s]\u001b[A\n",
      "\n",
      "100%|██████████| 116/116 [00:00<00:00, 116257.89it/s]\n",
      "123it [1:31:49, 46.41s/it]"
     ]
    },
    {
     "name": "stdout",
     "output_type": "stream",
     "text": [
      "Rv0216\n"
     ]
    },
    {
     "name": "stderr",
     "output_type": "stream",
     "text": [
      "\n",
      "100%|██████████| 195/195 [00:00<00:00, 13331.09it/s]\n",
      "\n",
      "100%|██████████| 1/1 [00:00<?, ?it/s]\u001b[A\n",
      "\n",
      "100%|██████████| 195/195 [00:00<00:00, 13438.42it/s]\n",
      "\n",
      "100%|██████████| 151/151 [00:00<00:00, 13727.08it/s]\n",
      "\n",
      "100%|██████████| 1/1 [00:00<?, ?it/s]\u001b[A\n",
      "\n",
      "100%|██████████| 151/151 [00:00<00:00, 13724.70it/s]\n",
      "124it [1:59:58, 419.24s/it]"
     ]
    },
    {
     "name": "stdout",
     "output_type": "stream",
     "text": [
      "Rv0217c\n"
     ]
    },
    {
     "name": "stderr",
     "output_type": "stream",
     "text": [
      "\n",
      "100%|██████████| 178/178 [00:00<00:00, 177589.47it/s]\n",
      "\n",
      "100%|██████████| 1/1 [00:00<?, ?it/s]\u001b[A\n",
      "\n",
      "100%|██████████| 178/178 [00:00<00:00, 177970.47it/s]\n",
      "\n",
      "100%|██████████| 109/109 [00:00<?, ?it/s]A\n",
      "\n",
      "100%|██████████| 1/1 [00:00<?, ?it/s]\u001b[A\n",
      "\n",
      "100%|██████████| 109/109 [00:00<00:00, 109138.01it/s]\n",
      "125it [2:00:27, 323.78s/it]"
     ]
    },
    {
     "name": "stdout",
     "output_type": "stream",
     "text": [
      "Rv0218\n"
     ]
    },
    {
     "name": "stderr",
     "output_type": "stream",
     "text": [
      "\n",
      "100%|██████████| 100/100 [00:00<?, ?it/s]A\n",
      "\n",
      "100%|██████████| 1/1 [00:00<?, ?it/s]\u001b[A\n",
      "\n",
      "100%|██████████| 100/100 [00:00<?, ?it/s]A\n",
      "\n",
      "100%|██████████| 118/118 [00:00<?, ?it/s]A\n",
      "\n",
      "100%|██████████| 1/1 [00:00<?, ?it/s]\u001b[A\n",
      "\n",
      "100%|██████████| 118/118 [00:00<?, ?it/s]A\n",
      "126it [2:01:01, 248.62s/it]"
     ]
    },
    {
     "name": "stdout",
     "output_type": "stream",
     "text": [
      "Rv0221\n"
     ]
    },
    {
     "name": "stderr",
     "output_type": "stream",
     "text": [
      "\n",
      "100%|██████████| 194/194 [00:00<00:00, 128871.55it/s]\n",
      "\n",
      "100%|██████████| 1/1 [00:00<?, ?it/s]\u001b[A\n",
      "\n",
      "100%|██████████| 194/194 [00:00<?, ?it/s]A\n",
      "\n",
      "100%|██████████| 120/120 [00:00<?, ?it/s]A\n",
      "\n",
      "100%|██████████| 1/1 [00:00<?, ?it/s]\u001b[A\n",
      "\n",
      "100%|██████████| 120/120 [00:00<?, ?it/s]A\n",
      "129it [2:01:26, 122.13s/it]"
     ]
    },
    {
     "name": "stdout",
     "output_type": "stream",
     "text": [
      "Rv0222\n"
     ]
    },
    {
     "name": "stderr",
     "output_type": "stream",
     "text": [
      "\n",
      "100%|██████████| 189/189 [00:00<00:00, 188698.75it/s]\n",
      "\n",
      "100%|██████████| 1/1 [00:00<?, ?it/s]\u001b[A\n",
      "\n",
      "100%|██████████| 189/189 [00:00<00:00, 189420.18it/s]\n",
      "\n",
      "100%|██████████| 256/256 [00:00<00:00, 254501.50it/s]\n",
      "\n",
      "100%|██████████| 1/1 [00:00<?, ?it/s]\u001b[A\n",
      "\n",
      "100%|██████████| 256/256 [00:00<00:00, 256691.81it/s]\n",
      "130it [2:01:51, 102.67s/it]"
     ]
    },
    {
     "name": "stdout",
     "output_type": "stream",
     "text": [
      "Rv0223c\n"
     ]
    },
    {
     "name": "stderr",
     "output_type": "stream",
     "text": [
      "\n",
      "100%|██████████| 201/201 [00:00<00:00, 200966.65it/s]\n",
      "\n",
      "100%|██████████| 1/1 [00:00<?, ?it/s]\u001b[A\n",
      "\n",
      "100%|██████████| 201/201 [00:00<00:00, 201543.18it/s]\n",
      "\n",
      "100%|██████████| 179/179 [00:00<00:00, 89463.82it/s]\n",
      "\n",
      "100%|██████████| 1/1 [00:00<?, ?it/s]\u001b[A\n",
      "\n",
      "100%|██████████| 179/179 [00:00<00:00, 179141.12it/s]\n",
      "131it [2:02:29, 88.37s/it] "
     ]
    },
    {
     "name": "stdout",
     "output_type": "stream",
     "text": [
      "Rv0224c\n"
     ]
    },
    {
     "name": "stderr",
     "output_type": "stream",
     "text": [
      "\n",
      "100%|██████████| 209/209 [00:00<?, ?it/s]A\n",
      "\n",
      "100%|██████████| 1/1 [00:00<?, ?it/s]\u001b[A\n",
      "\n",
      "100%|██████████| 209/209 [00:00<00:00, 208716.56it/s]\n",
      "\n",
      "100%|██████████| 236/236 [00:00<?, ?it/s]A\n",
      "\n",
      "100%|██████████| 1/1 [00:00<?, ?it/s]\u001b[A\n",
      "\n",
      "100%|██████████| 236/236 [00:00<00:00, 235960.84it/s]\n",
      "132it [2:02:51, 72.40s/it]"
     ]
    },
    {
     "name": "stdout",
     "output_type": "stream",
     "text": [
      "Rv0225\n"
     ]
    },
    {
     "name": "stderr",
     "output_type": "stream",
     "text": [
      "\n",
      "100%|██████████| 212/212 [00:00<00:00, 212217.77it/s]\n",
      "\n",
      "100%|██████████| 1/1 [00:00<?, ?it/s]\u001b[A\n",
      "\n",
      "100%|██████████| 212/212 [00:00<?, ?it/s]A\n",
      "\n",
      "100%|██████████| 197/197 [00:00<00:00, 197721.44it/s]\n",
      "\n",
      "100%|██████████| 1/1 [00:00<?, ?it/s]\u001b[A\n",
      "\n",
      "100%|██████████| 197/197 [00:00<?, ?it/s]A\n",
      "133it [2:03:17, 60.44s/it]"
     ]
    },
    {
     "name": "stdout",
     "output_type": "stream",
     "text": [
      "Rv0227c\n"
     ]
    },
    {
     "name": "stderr",
     "output_type": "stream",
     "text": [
      "\n",
      "100%|██████████| 208/208 [00:00<00:00, 78398.21it/s]\n",
      "\n",
      "100%|██████████| 1/1 [00:00<?, ?it/s]\u001b[A\n",
      "\n",
      "100%|██████████| 208/208 [00:00<00:00, 59331.83it/s]\n",
      "\n",
      "100%|██████████| 131/131 [00:00<00:00, 65364.48it/s]\n",
      "\n",
      "100%|██████████| 1/1 [00:00<?, ?it/s]\u001b[A\n",
      "\n",
      "100%|██████████| 131/131 [00:00<00:00, 65496.94it/s]\n",
      "135it [2:04:57, 55.96s/it]"
     ]
    },
    {
     "name": "stdout",
     "output_type": "stream",
     "text": [
      "Rv0228\n"
     ]
    },
    {
     "name": "stderr",
     "output_type": "stream",
     "text": [
      "\n",
      "100%|██████████| 202/202 [00:00<00:00, 68178.11it/s]\n",
      "\n",
      "100%|██████████| 1/1 [00:00<?, ?it/s]\u001b[A\n",
      "\n",
      "100%|██████████| 202/202 [00:00<00:00, 50422.51it/s]\n",
      "\n",
      "100%|██████████| 126/126 [00:00<00:00, 68545.05it/s]\n",
      "\n",
      "100%|██████████| 1/1 [00:00<00:00, 998.41it/s]\n",
      "\n",
      "100%|██████████| 126/126 [00:00<00:00, 126431.17it/s]\n",
      "136it [2:07:07, 73.20s/it]"
     ]
    },
    {
     "name": "stdout",
     "output_type": "stream",
     "text": [
      "Rv0229c\n"
     ]
    },
    {
     "name": "stderr",
     "output_type": "stream",
     "text": [
      "137it [2:07:19, 58.11s/it]"
     ]
    },
    {
     "name": "stdout",
     "output_type": "stream",
     "text": [
      "Rv0230c\n"
     ]
    },
    {
     "name": "stderr",
     "output_type": "stream",
     "text": [
      "\n",
      "100%|██████████| 162/162 [00:00<00:00, 162360.15it/s]\n",
      "\n",
      "100%|██████████| 1/1 [00:00<?, ?it/s]\u001b[A\n",
      "\n",
      "100%|██████████| 162/162 [00:00<00:00, 162089.04it/s]\n",
      "\n",
      "100%|██████████| 124/124 [00:00<?, ?it/s]A\n",
      "\n",
      "100%|██████████| 1/1 [00:00<?, ?it/s]\u001b[A\n",
      "\n",
      "100%|██████████| 124/124 [00:00<?, ?it/s]A\n",
      "138it [2:07:56, 52.57s/it]"
     ]
    },
    {
     "name": "stdout",
     "output_type": "stream",
     "text": [
      "Rv0231\n"
     ]
    },
    {
     "name": "stderr",
     "output_type": "stream",
     "text": [
      "\n",
      "100%|██████████| 71/71 [00:00<?, ?it/s][A\n",
      "\n",
      "100%|██████████| 1/1 [00:00<?, ?it/s]\u001b[A\n",
      "\n",
      "100%|██████████| 71/71 [00:00<00:00, 47067.42it/s]\n",
      "\n",
      "100%|██████████| 42/42 [00:00<00:00, 41893.17it/s]\n",
      "\n",
      "100%|██████████| 1/1 [00:00<?, ?it/s]\u001b[A\n",
      "\n",
      "100%|██████████| 42/42 [00:00<00:00, 42053.18it/s]\n",
      "139it [2:08:27, 46.61s/it]"
     ]
    },
    {
     "name": "stdout",
     "output_type": "stream",
     "text": [
      "Rv0232\n"
     ]
    },
    {
     "name": "stderr",
     "output_type": "stream",
     "text": [
      "\n",
      "100%|██████████| 135/135 [00:00<00:00, 10384.42it/s]\n",
      "\n",
      "100%|██████████| 1/1 [00:00<?, ?it/s]\u001b[A\n",
      "\n",
      "100%|██████████| 135/135 [00:00<00:00, 134816.91it/s]\n",
      "\n",
      "100%|██████████| 79/79 [00:00<00:00, 79062.28it/s]\n",
      "\n",
      "100%|██████████| 1/1 [00:00<?, ?it/s]\u001b[A\n",
      "\n",
      "100%|██████████| 79/79 [00:00<?, ?it/s][A\n",
      "140it [2:09:11, 45.72s/it]"
     ]
    },
    {
     "name": "stdout",
     "output_type": "stream",
     "text": [
      "Rv0235c\n"
     ]
    },
    {
     "name": "stderr",
     "output_type": "stream",
     "text": [
      "\n",
      "100%|██████████| 142/142 [00:00<?, ?it/s]A\n",
      "\n",
      "100%|██████████| 1/1 [00:00<00:00, 1002.70it/s]\n",
      "\n",
      "100%|██████████| 142/142 [00:00<?, ?it/s]A\n",
      "\n",
      "100%|██████████| 465/465 [00:00<00:00, 155023.56it/s]\n",
      "\n",
      "100%|██████████| 1/1 [00:00<?, ?it/s]\u001b[A\n",
      "\n",
      "100%|██████████| 465/465 [00:00<00:00, 464922.85it/s]\n",
      "143it [2:09:42, 26.41s/it]"
     ]
    },
    {
     "name": "stdout",
     "output_type": "stream",
     "text": [
      "Rv0236c\n"
     ]
    },
    {
     "name": "stderr",
     "output_type": "stream",
     "text": [
      "\n",
      "100%|██████████| 207/207 [00:00<?, ?it/s]A\n",
      "\n",
      "100%|██████████| 1/1 [00:00<?, ?it/s]\u001b[A\n",
      "\n",
      "100%|██████████| 207/207 [00:00<00:00, 208356.35it/s]\n",
      "\n",
      "100%|██████████| 129/129 [00:00<?, ?it/s]A\n",
      "\n",
      "100%|██████████| 1/1 [00:00<?, ?it/s]\u001b[A\n",
      "\n",
      "100%|██████████| 129/129 [00:00<00:00, 128947.86it/s]\n",
      "144it [2:10:03, 25.46s/it]"
     ]
    },
    {
     "name": "stdout",
     "output_type": "stream",
     "text": [
      "Rv0236A\n"
     ]
    },
    {
     "name": "stderr",
     "output_type": "stream",
     "text": [
      "\n",
      "100%|██████████| 209/209 [00:00<00:00, 138901.84it/s]\n",
      "\n",
      "100%|██████████| 1/1 [00:00<?, ?it/s]\u001b[A\n",
      "\n",
      "100%|██████████| 209/209 [00:00<00:00, 104644.81it/s]\n",
      "\n",
      "100%|██████████| 131/131 [00:00<00:00, 130915.85it/s]\n",
      "\n",
      "100%|██████████| 1/1 [00:00<?, ?it/s]\u001b[A\n",
      "\n",
      "100%|██████████| 131/131 [00:00<00:00, 130853.49it/s]\n",
      "145it [2:10:59, 32.33s/it]"
     ]
    },
    {
     "name": "stdout",
     "output_type": "stream",
     "text": [
      "Rv0237\n"
     ]
    },
    {
     "name": "stderr",
     "output_type": "stream",
     "text": [
      "\n",
      "100%|██████████| 198/198 [00:00<00:00, 98936.41it/s]\n",
      "\n",
      "100%|██████████| 1/1 [00:00<?, ?it/s]\u001b[A\n",
      "\n",
      "100%|██████████| 196/196 [00:00<00:00, 97995.42it/s]\n",
      "\n",
      "100%|██████████| 126/126 [00:00<00:00, 70785.20it/s]\n",
      "\n",
      "100%|██████████| 1/1 [00:00<?, ?it/s]\u001b[A\n",
      "\n",
      "100%|██████████| 124/124 [00:00<00:00, 123920.35it/s]\n",
      "146it [2:11:52, 37.45s/it]"
     ]
    },
    {
     "name": "stdout",
     "output_type": "stream",
     "text": [
      "Rv0238\n"
     ]
    },
    {
     "name": "stderr",
     "output_type": "stream",
     "text": [
      "\n",
      "100%|██████████| 209/209 [00:00<00:00, 209364.59it/s]\n",
      "\n",
      "100%|██████████| 1/1 [00:00<?, ?it/s]\u001b[A\n",
      "\n",
      "100%|██████████| 209/209 [00:00<00:00, 208915.52it/s]\n",
      "\n",
      "100%|██████████| 132/132 [00:00<00:00, 131978.10it/s]\n",
      "\n",
      "100%|██████████| 1/1 [00:00<?, ?it/s]\u001b[A\n",
      "\n",
      "100%|██████████| 132/132 [00:00<?, ?it/s]A\n",
      "147it [2:12:30, 37.48s/it]"
     ]
    },
    {
     "name": "stdout",
     "output_type": "stream",
     "text": [
      "Rv0239\n"
     ]
    },
    {
     "name": "stderr",
     "output_type": "stream",
     "text": [
      "148it [2:12:43, 30.78s/it]"
     ]
    },
    {
     "name": "stdout",
     "output_type": "stream",
     "text": [
      "Rv0242c\n"
     ]
    },
    {
     "name": "stderr",
     "output_type": "stream",
     "text": [
      "\n",
      "100%|██████████| 212/212 [00:00<00:00, 106020.32it/s]\n",
      "\n",
      "100%|██████████| 1/1 [00:00<00:00, 994.85it/s]\n",
      "\n",
      "100%|██████████| 212/212 [00:00<00:00, 106020.32it/s]\n",
      "\n",
      "100%|██████████| 227/227 [00:00<00:00, 113548.84it/s]\n",
      "\n",
      "100%|██████████| 1/1 [00:00<?, ?it/s]\u001b[A\n",
      "\n",
      "100%|██████████| 227/227 [00:00<00:00, 113440.61it/s]\n",
      "151it [2:13:51, 26.49s/it]"
     ]
    },
    {
     "name": "stdout",
     "output_type": "stream",
     "text": [
      "Rv0243\n"
     ]
    },
    {
     "name": "stderr",
     "output_type": "stream",
     "text": [
      "\n",
      "100%|██████████| 210/210 [00:00<00:00, 90006.52it/s]\n",
      "\n",
      "100%|██████████| 1/1 [00:00<?, ?it/s]\u001b[A\n",
      "\n",
      "100%|██████████| 210/210 [00:00<00:00, 68316.44it/s]\n",
      "\n",
      "100%|██████████| 500/500 [00:00<00:00, 95346.76it/s]\n",
      "\n",
      "100%|██████████| 1/1 [00:00<?, ?it/s]\u001b[A\n",
      "\n",
      "100%|██████████| 500/500 [00:00<00:00, 99969.11it/s]\n",
      "152it [2:16:44, 56.33s/it]"
     ]
    },
    {
     "name": "stdout",
     "output_type": "stream",
     "text": [
      "Rv0244c\n"
     ]
    },
    {
     "name": "stderr",
     "output_type": "stream",
     "text": [
      "\n",
      "100%|██████████| 215/215 [00:00<00:00, 47191.13it/s]\n",
      "\n",
      "100%|██████████| 1/1 [00:00<?, ?it/s]\u001b[A\n",
      "\n",
      "100%|██████████| 215/215 [00:00<00:00, 42990.82it/s]\n",
      "\n",
      "100%|██████████| 369/369 [00:00<00:00, 43352.89it/s]\n",
      "\n",
      "100%|██████████| 1/1 [00:00<00:00, 995.33it/s]\n",
      "\n",
      "100%|██████████| 369/369 [00:00<00:00, 38770.97it/s]\n",
      "153it [2:22:18, 118.96s/it]"
     ]
    },
    {
     "name": "stdout",
     "output_type": "stream",
     "text": [
      "Rv0245\n"
     ]
    },
    {
     "name": "stderr",
     "output_type": "stream",
     "text": [
      "\n",
      "100%|██████████| 202/202 [00:00<00:00, 40021.23it/s]\n",
      "\n",
      "100%|██████████| 1/1 [00:00<?, ?it/s]\u001b[A\n",
      "\n",
      "100%|██████████| 202/202 [00:00<00:00, 44780.62it/s]\n",
      "\n",
      "100%|██████████| 137/137 [00:00<00:00, 34248.40it/s]\n",
      "\n",
      "100%|██████████| 1/1 [00:00<?, ?it/s]\u001b[A\n",
      "\n",
      "100%|██████████| 137/137 [00:00<00:00, 45626.46it/s]\n",
      "154it [2:25:58, 143.58s/it]"
     ]
    },
    {
     "name": "stdout",
     "output_type": "stream",
     "text": [
      "Rv0246\n"
     ]
    },
    {
     "name": "stderr",
     "output_type": "stream",
     "text": [
      "155it [2:26:11, 109.87s/it]"
     ]
    },
    {
     "name": "stdout",
     "output_type": "stream",
     "text": [
      "Rv0248c\n"
     ]
    },
    {
     "name": "stderr",
     "output_type": "stream",
     "text": [
      "\n",
      "100%|██████████| 207/207 [00:00<00:00, 206719.27it/s]\n",
      "\n",
      "100%|██████████| 1/1 [00:00<?, ?it/s]\u001b[A\n",
      "\n",
      "100%|██████████| 207/207 [00:00<00:00, 137616.25it/s]\n",
      "\n",
      "100%|██████████| 500/500 [00:00<00:00, 166718.50it/s]\n",
      "\n",
      "100%|██████████| 1/1 [00:00<?, ?it/s]\u001b[A\n",
      "\n",
      "100%|██████████| 500/500 [00:00<00:00, 166599.30it/s]\n",
      "157it [2:26:52, 71.99s/it] "
     ]
    },
    {
     "name": "stdout",
     "output_type": "stream",
     "text": [
      "Rv0249c\n"
     ]
    },
    {
     "name": "stderr",
     "output_type": "stream",
     "text": [
      "\n",
      "100%|██████████| 205/205 [00:00<00:00, 203558.79it/s]\n",
      "\n",
      "100%|██████████| 1/1 [00:00<?, ?it/s]\u001b[A\n",
      "\n",
      "100%|██████████| 205/205 [00:00<00:00, 204575.86it/s]\n",
      "\n",
      "100%|██████████| 412/412 [00:00<00:00, 136572.61it/s]\n",
      "\n",
      "100%|██████████| 1/1 [00:00<?, ?it/s]\u001b[A\n",
      "\n",
      "100%|██████████| 412/412 [00:00<00:00, 137234.22it/s]\n",
      "158it [2:28:09, 73.10s/it]"
     ]
    },
    {
     "name": "stdout",
     "output_type": "stream",
     "text": [
      "Rv0250c\n"
     ]
    },
    {
     "name": "stderr",
     "output_type": "stream",
     "text": [
      "\n",
      "100%|██████████| 164/164 [00:00<00:00, 65330.60it/s]\n",
      "\n",
      "100%|██████████| 1/1 [00:00<?, ?it/s]\u001b[A\n",
      "\n",
      "100%|██████████| 164/164 [00:00<00:00, 81957.09it/s]\n",
      "\n",
      "100%|██████████| 99/99 [00:00<00:00, 98677.78it/s]\n",
      "\n",
      "100%|██████████| 1/1 [00:00<?, ?it/s]\u001b[A\n",
      "\n",
      "100%|██████████| 99/99 [00:00<00:00, 98936.41it/s]\n",
      "159it [2:29:03, 68.15s/it]"
     ]
    },
    {
     "name": "stdout",
     "output_type": "stream",
     "text": [
      "Rv0251c\n"
     ]
    },
    {
     "name": "stderr",
     "output_type": "stream",
     "text": [
      "\n",
      "100%|██████████| 122/122 [00:00<00:00, 60823.14it/s]\n",
      "\n",
      "100%|██████████| 1/1 [00:00<?, ?it/s]\u001b[A\n",
      "\n",
      "100%|██████████| 122/122 [00:00<00:00, 122358.94it/s]\n",
      "\n",
      "100%|██████████| 73/73 [00:00<00:00, 72179.21it/s]\n",
      "\n",
      "100%|██████████| 1/1 [00:00<?, ?it/s]\u001b[A\n",
      "\n",
      "100%|██████████| 73/73 [00:00<00:00, 72953.11it/s]\n",
      "160it [2:30:18, 70.04s/it]"
     ]
    },
    {
     "name": "stdout",
     "output_type": "stream",
     "text": [
      "Rv0252\n"
     ]
    },
    {
     "name": "stderr",
     "output_type": "stream",
     "text": [
      "\n",
      "100%|██████████| 200/200 [00:00<00:00, 66666.20it/s]\n",
      "\n",
      "100%|██████████| 1/1 [00:00<00:00, 1005.11it/s]\n",
      "\n",
      "100%|██████████| 200/200 [00:00<00:00, 56879.63it/s]\n",
      "\n",
      "100%|██████████| 445/445 [00:00<00:00, 58791.86it/s]\n",
      "\n",
      "100%|██████████| 1/1 [00:00<?, ?it/s]\u001b[A\n",
      "\n",
      "100%|██████████| 445/445 [00:00<00:00, 59250.99it/s]\n",
      "161it [2:33:41, 106.26s/it]"
     ]
    },
    {
     "name": "stdout",
     "output_type": "stream",
     "text": [
      "Rv0256c\n"
     ]
    },
    {
     "name": "stderr",
     "output_type": "stream",
     "text": [
      "\n",
      "100%|██████████| 54/54 [00:00<00:00, 54055.47it/s]\n",
      "\n",
      "100%|██████████| 1/1 [00:00<00:00, 988.99it/s]\n",
      "\n",
      "100%|██████████| 54/54 [00:00<00:00, 53978.17it/s]\n",
      "\n",
      "100%|██████████| 31/31 [00:00<?, ?it/s][A\n",
      "\n",
      "100%|██████████| 1/1 [00:00<?, ?it/s]\u001b[A\n",
      "\n",
      "100%|██████████| 31/31 [00:00<?, ?it/s][A\n",
      "165it [2:34:38, 50.28s/it] "
     ]
    },
    {
     "name": "stdout",
     "output_type": "stream",
     "text": [
      "Rv0257\n"
     ]
    },
    {
     "name": "stderr",
     "output_type": "stream",
     "text": [
      "166it [2:34:52, 43.76s/it]"
     ]
    },
    {
     "name": "stdout",
     "output_type": "stream",
     "text": [
      "Rv0260c\n"
     ]
    },
    {
     "name": "stderr",
     "output_type": "stream",
     "text": [
      "\n",
      "100%|██████████| 179/179 [00:00<00:00, 179397.95it/s]\n",
      "\n",
      "100%|██████████| 1/1 [00:00<?, ?it/s]\u001b[A\n",
      "\n",
      "100%|██████████| 179/179 [00:00<00:00, 179183.87it/s]\n",
      "\n",
      "100%|██████████| 109/109 [00:00<00:00, 108593.62it/s]\n",
      "\n",
      "100%|██████████| 1/1 [00:00<?, ?it/s]\u001b[A\n",
      "\n",
      "100%|██████████| 109/109 [00:00<?, ?it/s]A\n",
      "169it [2:35:20, 28.79s/it]"
     ]
    },
    {
     "name": "stdout",
     "output_type": "stream",
     "text": [
      "Rv0261c\n"
     ]
    },
    {
     "name": "stderr",
     "output_type": "stream",
     "text": [
      "\n",
      "100%|██████████| 185/185 [00:00<00:00, 92506.70it/s]\n",
      "\n",
      "100%|██████████| 1/1 [00:00<00:00, 999.36it/s]\n",
      "\n",
      "100%|██████████| 185/185 [00:00<00:00, 68377.36it/s]\n",
      "\n",
      "100%|██████████| 159/159 [00:00<00:00, 103362.42it/s]\n",
      "\n",
      "100%|██████████| 1/1 [00:00<?, ?it/s]\u001b[A\n",
      "\n",
      "100%|██████████| 159/159 [00:00<00:00, 159049.45it/s]\n",
      "170it [2:36:13, 32.93s/it]"
     ]
    },
    {
     "name": "stdout",
     "output_type": "stream",
     "text": [
      "Rv0264c\n"
     ]
    },
    {
     "name": "stderr",
     "output_type": "stream",
     "text": [
      "\n",
      "100%|██████████| 161/161 [00:00<00:00, 161473.68it/s]\n",
      "\n",
      "100%|██████████| 1/1 [00:00<?, ?it/s]\u001b[A\n",
      "\n",
      "100%|██████████| 161/161 [00:00<00:00, 161011.67it/s]\n",
      "\n",
      "100%|██████████| 98/98 [00:00<00:00, 65007.40it/s]\n",
      "\n",
      "100%|██████████| 1/1 [00:00<?, ?it/s]\u001b[A\n",
      "\n",
      "100%|██████████| 98/98 [00:00<?, ?it/s][A\n",
      "173it [2:36:40, 22.88s/it]"
     ]
    },
    {
     "name": "stdout",
     "output_type": "stream",
     "text": [
      "Rv0266c\n"
     ]
    },
    {
     "name": "stderr",
     "output_type": "stream",
     "text": [
      "\n",
      "100%|██████████| 28/28 [00:00<?, ?it/s][A\n",
      "\n",
      "100%|██████████| 1/1 [00:00<?, ?it/s]\u001b[A\n",
      "\n",
      "100%|██████████| 28/28 [00:00<?, ?it/s][A\n",
      "\n",
      "100%|██████████| 274/274 [00:00<00:00, 78046.81it/s]\n",
      "\n",
      "100%|██████████| 1/1 [00:00<?, ?it/s]\u001b[A\n",
      "\n",
      "100%|██████████| 272/272 [00:00<00:00, 67972.51it/s]\n",
      "175it [2:37:53, 26.69s/it]"
     ]
    },
    {
     "name": "stdout",
     "output_type": "stream",
     "text": [
      "Rv0267\n"
     ]
    },
    {
     "name": "stderr",
     "output_type": "stream",
     "text": [
      "\n",
      "100%|██████████| 48/48 [00:00<?, ?it/s][A\n",
      "\n",
      "100%|██████████| 1/1 [00:00<?, ?it/s]\u001b[A\n",
      "\n",
      "100%|██████████| 48/48 [00:00<?, ?it/s][A\n",
      "\n",
      "100%|██████████| 54/54 [00:00<00:00, 53939.61it/s]\n",
      "\n",
      "100%|██████████| 1/1 [00:00<?, ?it/s]\u001b[A\n",
      "\n",
      "100%|██████████| 54/54 [00:00<?, ?it/s][A\n",
      "176it [2:38:47, 31.40s/it]"
     ]
    },
    {
     "name": "stdout",
     "output_type": "stream",
     "text": [
      "Rv0268c\n"
     ]
    },
    {
     "name": "stderr",
     "output_type": "stream",
     "text": [
      "177it [2:39:00, 27.87s/it]"
     ]
    },
    {
     "name": "stdout",
     "output_type": "stream",
     "text": [
      "Rv0269c\n"
     ]
    },
    {
     "name": "stderr",
     "output_type": "stream",
     "text": [
      "\n",
      "100%|██████████| 196/196 [00:00<00:00, 196341.91it/s]\n",
      "\n",
      "100%|██████████| 1/1 [00:00<?, ?it/s]\u001b[A\n",
      "\n",
      "100%|██████████| 196/196 [00:00<00:00, 196201.33it/s]\n",
      "\n",
      "100%|██████████| 235/235 [00:00<?, ?it/s]A\n",
      "\n",
      "100%|██████████| 1/1 [00:00<?, ?it/s]\u001b[A\n",
      "\n",
      "100%|██████████| 235/235 [00:00<00:00, 234737.19it/s]\n",
      "178it [2:39:23, 26.83s/it]"
     ]
    },
    {
     "name": "stdout",
     "output_type": "stream",
     "text": [
      "Rv0270\n"
     ]
    },
    {
     "name": "stderr",
     "output_type": "stream",
     "text": [
      "\n",
      "100%|██████████| 202/202 [00:00<?, ?it/s]A\n",
      "\n",
      "100%|██████████| 1/1 [00:00<?, ?it/s]\u001b[A\n",
      "\n",
      "100%|██████████| 202/202 [00:00<?, ?it/s]A\n",
      "\n",
      "100%|██████████| 128/128 [00:00<?, ?it/s]A\n",
      "\n",
      "100%|██████████| 1/1 [00:00<?, ?it/s]\u001b[A\n",
      "\n",
      "100%|██████████| 128/128 [00:00<?, ?it/s]A\n",
      "179it [2:39:46, 25.86s/it]"
     ]
    },
    {
     "name": "stdout",
     "output_type": "stream",
     "text": [
      "Rv0271c\n"
     ]
    },
    {
     "name": "stderr",
     "output_type": "stream",
     "text": [
      "\n",
      "100%|██████████| 202/202 [00:00<00:00, 101031.41it/s]\n",
      "\n",
      "100%|██████████| 1/1 [00:00<?, ?it/s]\u001b[A\n",
      "\n",
      "100%|██████████| 202/202 [00:00<00:00, 134270.90it/s]\n",
      "\n",
      "100%|██████████| 127/127 [00:00<00:00, 127251.94it/s]\n",
      "\n",
      "100%|██████████| 1/1 [00:00<?, ?it/s]\u001b[A\n",
      "\n",
      "100%|██████████| 127/127 [00:00<00:00, 126316.48it/s]\n",
      "180it [2:40:29, 30.19s/it]"
     ]
    },
    {
     "name": "stdout",
     "output_type": "stream",
     "text": [
      "Rv0273c\n"
     ]
    },
    {
     "name": "stderr",
     "output_type": "stream",
     "text": [
      "\n",
      "100%|██████████| 136/136 [00:00<00:00, 135977.44it/s]\n",
      "\n",
      "100%|██████████| 1/1 [00:00<?, ?it/s]\u001b[A\n",
      "\n",
      "100%|██████████| 136/136 [00:00<00:00, 92376.57it/s]\n",
      "\n",
      "100%|██████████| 83/83 [00:00<?, ?it/s][A\n",
      "\n",
      "100%|██████████| 1/1 [00:00<?, ?it/s]\u001b[A\n",
      "\n",
      "100%|██████████| 83/83 [00:00<?, ?it/s][A\n",
      "182it [2:40:56, 23.13s/it]"
     ]
    },
    {
     "name": "stdout",
     "output_type": "stream",
     "text": [
      "Rv0274\n"
     ]
    },
    {
     "name": "stderr",
     "output_type": "stream",
     "text": [
      "\n",
      "100%|██████████| 186/186 [00:00<00:00, 186057.84it/s]\n",
      "\n",
      "100%|██████████| 1/1 [00:00<?, ?it/s]\u001b[A\n",
      "\n",
      "100%|██████████| 186/186 [00:00<00:00, 185482.77it/s]\n",
      "\n",
      "100%|██████████| 158/158 [00:00<00:00, 157936.14it/s]\n",
      "\n",
      "100%|██████████| 1/1 [00:00<?, ?it/s]\u001b[A\n",
      "\n",
      "100%|██████████| 158/158 [00:00<00:00, 158464.86it/s]\n",
      "183it [2:41:40, 28.01s/it]"
     ]
    },
    {
     "name": "stdout",
     "output_type": "stream",
     "text": [
      "Rv0275c\n"
     ]
    },
    {
     "name": "stderr",
     "output_type": "stream",
     "text": [
      "\n",
      "100%|██████████| 174/174 [00:00<00:00, 174386.83it/s]\n",
      "\n",
      "100%|██████████| 1/1 [00:00<?, ?it/s]\u001b[A\n",
      "\n",
      "100%|██████████| 174/174 [00:00<00:00, 173929.67it/s]\n",
      "\n",
      "100%|██████████| 106/106 [00:00<00:00, 105906.68it/s]\n",
      "\n",
      "100%|██████████| 1/1 [00:00<?, ?it/s]\u001b[A\n",
      "\n",
      "100%|██████████| 106/106 [00:00<00:00, 106362.73it/s]\n",
      "184it [2:42:12, 29.10s/it]"
     ]
    },
    {
     "name": "stdout",
     "output_type": "stream",
     "text": [
      "Rv0276\n"
     ]
    },
    {
     "name": "stderr",
     "output_type": "stream",
     "text": [
      "\n",
      "100%|██████████| 193/193 [00:00<00:00, 193382.86it/s]\n",
      "\n",
      "100%|██████████| 1/1 [00:00<00:00, 1001.74it/s]\n",
      "\n",
      "100%|██████████| 193/193 [00:00<00:00, 193336.68it/s]\n",
      "\n",
      "100%|██████████| 121/121 [00:00<00:00, 120951.09it/s]\n",
      "\n",
      "100%|██████████| 1/1 [00:00<?, ?it/s]\u001b[A\n",
      "\n",
      "100%|██████████| 121/121 [00:00<?, ?it/s]A\n",
      "185it [2:42:46, 30.34s/it]"
     ]
    },
    {
     "name": "stdout",
     "output_type": "stream",
     "text": [
      "Rv0277c\n"
     ]
    },
    {
     "name": "stderr",
     "output_type": "stream",
     "text": [
      "186it [2:43:00, 25.81s/it]"
     ]
    },
    {
     "name": "stdout",
     "output_type": "stream",
     "text": [
      "Rv0278c\n"
     ]
    },
    {
     "name": "stderr",
     "output_type": "stream",
     "text": [
      "187it [2:43:16, 23.01s/it]"
     ]
    },
    {
     "name": "stdout",
     "output_type": "stream",
     "text": [
      "Rv0279c\n"
     ]
    },
    {
     "name": "stderr",
     "output_type": "stream",
     "text": [
      "188it [2:43:31, 20.79s/it]"
     ]
    },
    {
     "name": "stdout",
     "output_type": "stream",
     "text": [
      "Rv0280\n"
     ]
    },
    {
     "name": "stderr",
     "output_type": "stream",
     "text": [
      "\n",
      "100%|██████████| 29/29 [00:00<00:00, 29002.10it/s]\n",
      "\n",
      "100%|██████████| 1/1 [00:00<?, ?it/s]\u001b[A\n",
      "\n",
      "100%|██████████| 29/29 [00:00<?, ?it/s][A\n",
      "\n",
      "100%|██████████| 20/20 [00:00<?, ?it/s][A\n",
      "\n",
      "100%|██████████| 1/1 [00:00<?, ?it/s]\u001b[A\n",
      "\n",
      "100%|██████████| 20/20 [00:00<?, ?it/s][A\n",
      "189it [2:44:48, 37.03s/it]"
     ]
    },
    {
     "name": "stdout",
     "output_type": "stream",
     "text": [
      "Rv0282\n"
     ]
    },
    {
     "name": "stderr",
     "output_type": "stream",
     "text": [
      "\n",
      "100%|██████████| 201/201 [00:00<00:00, 67036.82it/s]\n",
      "\n",
      "100%|██████████| 1/1 [00:00<00:00, 997.69it/s]\n",
      "\n",
      "100%|██████████| 201/201 [00:00<00:00, 50247.65it/s]\n",
      "\n",
      "100%|██████████| 128/128 [00:00<00:00, 63859.99it/s]\n",
      "\n",
      "100%|██████████| 1/1 [00:00<00:00, 1001.74it/s]\n",
      "\n",
      "100%|██████████| 128/128 [00:00<00:00, 63875.18it/s]\n",
      "191it [2:46:20, 41.11s/it]"
     ]
    },
    {
     "name": "stdout",
     "output_type": "stream",
     "text": [
      "Rv0287\n"
     ]
    },
    {
     "name": "stderr",
     "output_type": "stream",
     "text": [
      "\n",
      "100%|██████████| 173/173 [00:00<00:00, 113697.05it/s]\n",
      "\n",
      "100%|██████████| 1/1 [00:00<?, ?it/s]\u001b[A\n",
      "\n",
      "100%|██████████| 173/173 [00:00<00:00, 172683.15it/s]\n",
      "\n",
      "100%|██████████| 115/115 [00:00<?, ?it/s]A\n",
      "\n",
      "100%|██████████| 1/1 [00:00<?, ?it/s]\u001b[A\n",
      "\n",
      "100%|██████████| 115/115 [00:00<?, ?it/s]A\n",
      "196it [2:46:42, 18.45s/it]"
     ]
    },
    {
     "name": "stdout",
     "output_type": "stream",
     "text": [
      "Rv0290\n"
     ]
    },
    {
     "name": "stderr",
     "output_type": "stream",
     "text": [
      "\n",
      "100%|██████████| 154/154 [00:00<00:00, 154379.26it/s]\n",
      "\n",
      "100%|██████████| 1/1 [00:00<00:00, 1001.27it/s]\n",
      "\n",
      "100%|██████████| 154/154 [00:00<00:00, 154011.16it/s]\n",
      "\n",
      "100%|██████████| 93/93 [00:00<00:00, 92675.28it/s]\n",
      "\n",
      "100%|██████████| 1/1 [00:00<00:00, 991.80it/s]\n",
      "\n",
      "100%|██████████| 93/93 [00:00<00:00, 92984.57it/s]\n",
      "199it [2:47:03, 14.51s/it]"
     ]
    },
    {
     "name": "stdout",
     "output_type": "stream",
     "text": [
      "Rv0293c\n"
     ]
    },
    {
     "name": "stderr",
     "output_type": "stream",
     "text": [
      "\n",
      "100%|██████████| 176/176 [00:00<00:00, 88016.87it/s]\n",
      "\n",
      "100%|██████████| 1/1 [00:00<?, ?it/s]\u001b[A\n",
      "\n",
      "100%|██████████| 176/176 [00:00<00:00, 87953.95it/s]\n",
      "\n",
      "100%|██████████| 110/110 [00:00<00:00, 110139.28it/s]\n",
      "\n",
      "100%|██████████| 1/1 [00:00<?, ?it/s]\u001b[A\n",
      "\n",
      "100%|██████████| 110/110 [00:00<00:00, 109955.54it/s]\n",
      "202it [2:47:45, 14.28s/it]"
     ]
    },
    {
     "name": "stdout",
     "output_type": "stream",
     "text": [
      "Rv0294\n"
     ]
    },
    {
     "name": "stderr",
     "output_type": "stream",
     "text": [
      "\n",
      "100%|██████████| 171/171 [00:00<00:00, 171503.10it/s]\n",
      "\n",
      "100%|██████████| 1/1 [00:00<?, ?it/s]\u001b[A\n",
      "\n",
      "100%|██████████| 171/171 [00:00<00:00, 171257.40it/s]\n",
      "\n",
      "100%|██████████| 113/113 [00:00<00:00, 113197.12it/s]\n",
      "\n",
      "100%|██████████| 1/1 [00:00<00:00, 1003.66it/s]\n",
      "\n",
      "100%|██████████| 113/113 [00:00<00:00, 112927.41it/s]\n",
      "203it [2:48:24, 17.69s/it]"
     ]
    },
    {
     "name": "stdout",
     "output_type": "stream",
     "text": [
      "Rv0296c\n"
     ]
    },
    {
     "name": "stderr",
     "output_type": "stream",
     "text": [
      "\n",
      "100%|██████████| 157/157 [00:00<00:00, 78665.12it/s]\n",
      "\n",
      "100%|██████████| 1/1 [00:00<?, ?it/s]\u001b[A\n",
      "\n",
      "100%|██████████| 156/156 [00:00<00:00, 78014.95it/s]\n",
      "\n",
      "100%|██████████| 116/116 [00:00<00:00, 116091.45it/s]\n",
      "\n",
      "100%|██████████| 1/1 [00:00<?, ?it/s]\u001b[A\n",
      "\n",
      "100%|██████████| 116/116 [00:00<00:00, 57983.47it/s]\n",
      "205it [2:49:47, 24.39s/it]"
     ]
    },
    {
     "name": "stdout",
     "output_type": "stream",
     "text": [
      "Rv0297\n"
     ]
    },
    {
     "name": "stderr",
     "output_type": "stream",
     "text": [
      "206it [2:50:02, 22.69s/it]"
     ]
    },
    {
     "name": "stdout",
     "output_type": "stream",
     "text": [
      "Rv0298\n"
     ]
    },
    {
     "name": "stderr",
     "output_type": "stream",
     "text": [
      "\n",
      "100%|██████████| 25/25 [00:00<?, ?it/s][A\n",
      "\n",
      "100%|██████████| 1/1 [00:00<?, ?it/s]\u001b[A\n",
      "\n",
      "100%|██████████| 25/25 [00:00<?, ?it/s][A\n",
      "\n",
      "100%|██████████| 12/12 [00:00<?, ?it/s][A\n",
      "\n",
      "100%|██████████| 1/1 [00:00<?, ?it/s]\u001b[A\n",
      "\n",
      "100%|██████████| 12/12 [00:00<?, ?it/s][A\n",
      "207it [2:50:37, 25.24s/it]"
     ]
    },
    {
     "name": "stdout",
     "output_type": "stream",
     "text": [
      "Rv0300\n"
     ]
    },
    {
     "name": "stderr",
     "output_type": "stream",
     "text": [
      "\n",
      "100%|██████████| 12/12 [00:00<?, ?it/s][A\n",
      "\n",
      "100%|██████████| 1/1 [00:00<?, ?it/s]\u001b[A\n",
      "\n",
      "100%|██████████| 12/12 [00:00<?, ?it/s][A\n",
      "209it [2:50:56, 19.53s/it]"
     ]
    },
    {
     "name": "stdout",
     "output_type": "stream",
     "text": [
      "Rv0302\n"
     ]
    },
    {
     "name": "stderr",
     "output_type": "stream",
     "text": [
      "\n",
      "100%|██████████| 34/34 [00:00<?, ?it/s][A\n",
      "\n",
      "100%|██████████| 1/1 [00:00<?, ?it/s]\u001b[A\n",
      "\n",
      "100%|██████████| 34/34 [00:00<00:00, 33978.16it/s]\n",
      "\n",
      "100%|██████████| 20/20 [00:00<?, ?it/s][A\n",
      "\n",
      "100%|██████████| 1/1 [00:00<?, ?it/s]\u001b[A\n",
      "\n",
      "100%|██████████| 20/20 [00:00<?, ?it/s][A\n",
      "211it [2:51:31, 18.84s/it]"
     ]
    },
    {
     "name": "stdout",
     "output_type": "stream",
     "text": [
      "Rv0304c\n"
     ]
    },
    {
     "name": "stderr",
     "output_type": "stream",
     "text": [
      "213it [2:51:44, 14.92s/it]"
     ]
    },
    {
     "name": "stdout",
     "output_type": "stream",
     "text": [
      "Rv0305c\n"
     ]
    },
    {
     "name": "stderr",
     "output_type": "stream",
     "text": [
      "214it [2:51:59, 14.87s/it]"
     ]
    },
    {
     "name": "stdout",
     "output_type": "stream",
     "text": [
      "Rv0306\n"
     ]
    },
    {
     "name": "stderr",
     "output_type": "stream",
     "text": [
      "\n",
      "100%|██████████| 174/174 [00:00<00:00, 57976.56it/s]\n",
      "\n",
      "100%|██████████| 1/1 [00:00<?, ?it/s]\u001b[A\n",
      "\n",
      "100%|██████████| 174/174 [00:00<00:00, 14501.05it/s]\n",
      "\n",
      "100%|██████████| 119/119 [00:00<00:00, 118895.23it/s]\n",
      "\n",
      "100%|██████████| 1/1 [00:00<?, ?it/s]\u001b[A\n",
      "\n",
      "100%|██████████| 119/119 [00:00<00:00, 59362.77it/s]\n",
      "215it [2:53:36, 32.24s/it]"
     ]
    },
    {
     "name": "stdout",
     "output_type": "stream",
     "text": [
      "Rv0307c\n"
     ]
    },
    {
     "name": "stderr",
     "output_type": "stream",
     "text": [
      "\n",
      "100%|██████████| 126/126 [00:00<?, ?it/s]A\n",
      "\n",
      "100%|██████████| 1/1 [00:00<?, ?it/s]\u001b[A\n",
      "\n",
      "100%|██████████| 126/126 [00:00<?, ?it/s]A\n",
      "\n",
      "100%|██████████| 74/74 [00:00<00:00, 73952.47it/s]\n",
      "\n",
      "100%|██████████| 1/1 [00:00<?, ?it/s]\u001b[A\n",
      "\n",
      "100%|██████████| 74/74 [00:00<?, ?it/s][A\n",
      "216it [2:54:01, 30.70s/it]"
     ]
    },
    {
     "name": "stdout",
     "output_type": "stream",
     "text": [
      "Rv0308\n"
     ]
    },
    {
     "name": "stderr",
     "output_type": "stream",
     "text": [
      "\n",
      "100%|██████████| 38/38 [00:00<?, ?it/s][A\n",
      "\n",
      "100%|██████████| 1/1 [00:00<?, ?it/s]\u001b[A\n",
      "\n",
      "100%|██████████| 38/38 [00:00<?, ?it/s][A\n",
      "\n",
      "100%|██████████| 23/23 [00:00<?, ?it/s][A\n",
      "\n",
      "100%|██████████| 1/1 [00:00<?, ?it/s]\u001b[A\n",
      "\n",
      "100%|██████████| 23/23 [00:00<?, ?it/s][A\n",
      "217it [2:54:22, 28.19s/it]"
     ]
    },
    {
     "name": "stdout",
     "output_type": "stream",
     "text": [
      "Rv0309\n"
     ]
    },
    {
     "name": "stderr",
     "output_type": "stream",
     "text": [
      "\n",
      "100%|██████████| 207/207 [00:00<00:00, 207361.10it/s]\n",
      "\n",
      "100%|██████████| 1/1 [00:00<?, ?it/s]\u001b[A\n",
      "\n",
      "100%|██████████| 207/207 [00:00<00:00, 207658.68it/s]\n",
      "\n",
      "100%|██████████| 129/129 [00:00<00:00, 129534.41it/s]\n",
      "\n",
      "100%|██████████| 1/1 [00:00<?, ?it/s]\u001b[A\n",
      "\n",
      "100%|██████████| 129/129 [00:00<00:00, 129163.34it/s]\n",
      "218it [2:55:05, 32.06s/it]"
     ]
    },
    {
     "name": "stdout",
     "output_type": "stream",
     "text": [
      "Rv0312\n"
     ]
    },
    {
     "name": "stderr",
     "output_type": "stream",
     "text": [
      "\n",
      "100%|██████████| 63/63 [00:00<?, ?it/s][A\n",
      "\n",
      "100%|██████████| 1/1 [00:00<00:00, 995.33it/s]\n",
      "\n",
      "100%|██████████| 63/63 [00:00<?, ?it/s][A\n",
      "\n",
      "100%|██████████| 38/38 [00:00<?, ?it/s][A\n",
      "\n",
      "100%|██████████| 1/1 [00:00<?, ?it/s]\u001b[A\n",
      "\n",
      "100%|██████████| 38/38 [00:00<?, ?it/s][A\n",
      "221it [2:55:42, 21.71s/it]"
     ]
    },
    {
     "name": "stdout",
     "output_type": "stream",
     "text": [
      "Rv0313\n"
     ]
    },
    {
     "name": "stderr",
     "output_type": "stream",
     "text": [
      "\n",
      "100%|██████████| 188/188 [00:00<00:00, 93950.81it/s]\n",
      "\n",
      "100%|██████████| 1/1 [00:00<?, ?it/s]\u001b[A\n",
      "\n",
      "100%|██████████| 188/188 [00:00<00:00, 89250.61it/s]\n",
      "\n",
      "100%|██████████| 135/135 [00:00<?, ?it/s]A\n",
      "\n",
      "100%|██████████| 1/1 [00:00<?, ?it/s]\u001b[A\n",
      "\n",
      "100%|██████████| 135/135 [00:00<?, ?it/s]A\n",
      "222it [2:56:15, 23.88s/it]"
     ]
    },
    {
     "name": "stdout",
     "output_type": "stream",
     "text": [
      "Rv0314c\n"
     ]
    },
    {
     "name": "stderr",
     "output_type": "stream",
     "text": [
      "223it [2:56:29, 21.61s/it]"
     ]
    },
    {
     "name": "stdout",
     "output_type": "stream",
     "text": [
      "Rv0315\n"
     ]
    },
    {
     "name": "stderr",
     "output_type": "stream",
     "text": [
      "\n",
      "100%|██████████| 103/103 [00:00<00:00, 101913.97it/s]\n",
      "\n",
      "100%|██████████| 1/1 [00:00<00:00, 998.41it/s]\n",
      "\n",
      "100%|██████████| 103/103 [00:00<00:00, 80644.64it/s]\n",
      "\n",
      "100%|██████████| 64/64 [00:00<?, ?it/s][A\n",
      "\n",
      "100%|██████████| 1/1 [00:00<?, ?it/s]\u001b[A\n",
      "\n",
      "100%|██████████| 64/64 [00:00<?, ?it/s][A\n",
      "224it [2:56:54, 22.55s/it]"
     ]
    },
    {
     "name": "stdout",
     "output_type": "stream",
     "text": [
      "Rv0316\n"
     ]
    },
    {
     "name": "stderr",
     "output_type": "stream",
     "text": [
      "\n",
      "100%|██████████| 28/28 [00:00<00:00, 27942.07it/s]\n",
      "\n",
      "100%|██████████| 1/1 [00:00<?, ?it/s]\u001b[A\n",
      "\n",
      "100%|██████████| 28/28 [00:00<?, ?it/s][A\n",
      "\n",
      "100%|██████████| 31/31 [00:00<?, ?it/s][A\n",
      "\n",
      "100%|██████████| 1/1 [00:00<?, ?it/s]\u001b[A\n",
      "\n",
      "100%|██████████| 31/31 [00:00<00:00, 30811.24it/s]\n",
      "225it [2:57:16, 22.47s/it]"
     ]
    },
    {
     "name": "stdout",
     "output_type": "stream",
     "text": [
      "Rv0317c\n"
     ]
    },
    {
     "name": "stderr",
     "output_type": "stream",
     "text": [
      "\n",
      "100%|██████████| 38/38 [00:00<00:00, 25238.88it/s]\n",
      "\n",
      "100%|██████████| 1/1 [00:00<?, ?it/s]\u001b[A\n",
      "\n",
      "100%|██████████| 38/38 [00:00<?, ?it/s][A\n",
      "\n",
      "100%|██████████| 23/23 [00:00<?, ?it/s][A\n",
      "\n",
      "100%|██████████| 1/1 [00:00<?, ?it/s]\u001b[A\n",
      "\n",
      "100%|██████████| 23/23 [00:00<?, ?it/s][A\n",
      "226it [2:59:15, 48.26s/it]"
     ]
    },
    {
     "name": "stdout",
     "output_type": "stream",
     "text": [
      "Rv0318c\n"
     ]
    },
    {
     "name": "stderr",
     "output_type": "stream",
     "text": [
      "\n",
      "100%|██████████| 20/20 [00:00<00:00, 19991.92it/s]\n",
      "\n",
      "100%|██████████| 1/1 [00:00<?, ?it/s]\u001b[A\n",
      "\n",
      "100%|██████████| 20/20 [00:00<00:00, 19968.12it/s]\n",
      "\n",
      "100%|██████████| 12/12 [00:00<?, ?it/s][A\n",
      "\n",
      "100%|██████████| 1/1 [00:00<?, ?it/s]\u001b[A\n",
      "\n",
      "100%|██████████| 12/12 [00:00<?, ?it/s][A\n",
      "227it [2:59:39, 41.46s/it]"
     ]
    },
    {
     "name": "stdout",
     "output_type": "stream",
     "text": [
      "Rv0319\n"
     ]
    },
    {
     "name": "stderr",
     "output_type": "stream",
     "text": [
      "\n",
      "100%|██████████| 17/17 [00:00<?, ?it/s][A\n",
      "\n",
      "100%|██████████| 1/1 [00:00<?, ?it/s]\u001b[A\n",
      "\n",
      "100%|██████████| 17/17 [00:00<?, ?it/s][A\n",
      "\n",
      "100%|██████████| 13/13 [00:00<?, ?it/s][A\n",
      "\n",
      "100%|██████████| 1/1 [00:00<?, ?it/s]\u001b[A\n",
      "\n",
      "100%|██████████| 13/13 [00:00<?, ?it/s][A\n",
      "228it [3:00:03, 36.48s/it]"
     ]
    },
    {
     "name": "stdout",
     "output_type": "stream",
     "text": [
      "Rv0320\n"
     ]
    },
    {
     "name": "stderr",
     "output_type": "stream",
     "text": [
      "\n",
      "100%|██████████| 98/98 [00:00<?, ?it/s][A\n",
      "\n",
      "100%|██████████| 1/1 [00:00<?, ?it/s]\u001b[A\n",
      "\n",
      "100%|██████████| 98/98 [00:00<?, ?it/s][A\n",
      "\n",
      "100%|██████████| 59/59 [00:00<?, ?it/s][A\n",
      "\n",
      "100%|██████████| 1/1 [00:00<?, ?it/s]\u001b[A\n",
      "\n",
      "100%|██████████| 59/59 [00:00<?, ?it/s][A\n",
      "229it [3:00:32, 34.34s/it]"
     ]
    },
    {
     "name": "stdout",
     "output_type": "stream",
     "text": [
      "Rv0321\n"
     ]
    },
    {
     "name": "stderr",
     "output_type": "stream",
     "text": [
      "\n",
      "100%|██████████| 214/214 [00:00<?, ?it/s]A\n",
      "\n",
      "100%|██████████| 1/1 [00:00<?, ?it/s]\u001b[A\n",
      "\n",
      "100%|██████████| 214/214 [00:00<00:00, 214168.71it/s]\n",
      "\n",
      "100%|██████████| 499/499 [00:00<00:00, 166226.49it/s]\n",
      "\n",
      "100%|██████████| 1/1 [00:00<00:00, 999.60it/s]\n",
      "\n",
      "100%|██████████| 499/499 [00:00<00:00, 249131.97it/s]\n",
      "230it [3:01:08, 35.06s/it]"
     ]
    },
    {
     "name": "stdout",
     "output_type": "stream",
     "text": [
      "Rv0322\n"
     ]
    },
    {
     "name": "stderr",
     "output_type": "stream",
     "text": [
      "\n",
      "100%|██████████| 180/180 [00:00<00:00, 89995.79it/s]\n",
      "\n",
      "100%|██████████| 1/1 [00:00<?, ?it/s]\u001b[A\n",
      "\n",
      "100%|██████████| 180/180 [00:00<00:00, 89952.90it/s]\n",
      "\n",
      "100%|██████████| 472/472 [00:00<00:00, 94388.84it/s]\n",
      "\n",
      "100%|██████████| 1/1 [00:00<?, ?it/s]\u001b[A\n",
      "\n",
      "100%|██████████| 472/472 [00:00<00:00, 118022.62it/s]\n",
      "231it [3:03:31, 66.66s/it]"
     ]
    },
    {
     "name": "stdout",
     "output_type": "stream",
     "text": [
      "Rv0323c\n"
     ]
    },
    {
     "name": "stderr",
     "output_type": "stream",
     "text": [
      "232it [3:03:46, 51.26s/it]"
     ]
    },
    {
     "name": "stdout",
     "output_type": "stream",
     "text": [
      "Rv0324\n"
     ]
    },
    {
     "name": "stderr",
     "output_type": "stream",
     "text": [
      "\n",
      "100%|██████████| 14/14 [00:00<?, ?it/s][A\n",
      "\n",
      "100%|██████████| 1/1 [00:00<?, ?it/s]\u001b[A\n",
      "\n",
      "100%|██████████| 14/14 [00:00<?, ?it/s][A\n",
      "\n",
      "100%|██████████| 59/59 [00:00<00:00, 58891.94it/s]\n",
      "\n",
      "100%|██████████| 1/1 [00:00<?, ?it/s]\u001b[A\n",
      "\n",
      "100%|██████████| 59/59 [00:00<?, ?it/s][A\n",
      "233it [3:04:12, 43.93s/it]"
     ]
    },
    {
     "name": "stdout",
     "output_type": "stream",
     "text": [
      "Rv0327c\n"
     ]
    },
    {
     "name": "stderr",
     "output_type": "stream",
     "text": [
      "\n",
      "100%|██████████| 15/15 [00:00<00:00, 14968.97it/s]\n",
      "\n",
      "100%|██████████| 1/1 [00:00<?, ?it/s]\u001b[A\n",
      "\n",
      "100%|██████████| 15/15 [00:00<?, ?it/s][A\n",
      "\n",
      "100%|██████████| 11/11 [00:00<?, ?it/s][A\n",
      "\n",
      "100%|██████████| 1/1 [00:00<?, ?it/s]\u001b[A\n",
      "\n",
      "100%|██████████| 11/11 [00:00<?, ?it/s][A\n",
      "236it [3:04:38, 24.08s/it]"
     ]
    },
    {
     "name": "stdout",
     "output_type": "stream",
     "text": [
      "Rv0328\n"
     ]
    },
    {
     "name": "stderr",
     "output_type": "stream",
     "text": [
      "\n",
      "100%|██████████| 15/15 [00:00<?, ?it/s][A\n",
      "\n",
      "100%|██████████| 1/1 [00:00<?, ?it/s]\u001b[A\n",
      "\n",
      "100%|██████████| 15/15 [00:00<00:00, 14979.66it/s]\n",
      "\n",
      "100%|██████████| 11/11 [00:00<?, ?it/s][A\n",
      "\n",
      "100%|██████████| 1/1 [00:00<?, ?it/s]\u001b[A\n",
      "\n",
      "100%|██████████| 11/11 [00:00<?, ?it/s][A\n",
      "237it [3:04:58, 23.38s/it]"
     ]
    },
    {
     "name": "stdout",
     "output_type": "stream",
     "text": [
      "Rv0330c\n"
     ]
    },
    {
     "name": "stderr",
     "output_type": "stream",
     "text": [
      "239it [3:05:13, 17.38s/it]"
     ]
    },
    {
     "name": "stdout",
     "output_type": "stream",
     "text": [
      "Rv0331\n"
     ]
    },
    {
     "name": "stderr",
     "output_type": "stream",
     "text": [
      "\n",
      "100%|██████████| 12/12 [00:00<00:00, 11978.02it/s]\n",
      "\n",
      "100%|██████████| 1/1 [00:00<?, ?it/s]\u001b[A\n",
      "\n",
      "100%|██████████| 12/12 [00:00<?, ?it/s][A\n",
      "\n",
      "100%|██████████| 13/13 [00:00<?, ?it/s][A\n",
      "\n",
      "100%|██████████| 1/1 [00:00<?, ?it/s]\u001b[A\n",
      "\n",
      "100%|██████████| 13/13 [00:00<?, ?it/s][A\n",
      "240it [3:05:46, 20.70s/it]"
     ]
    },
    {
     "name": "stdout",
     "output_type": "stream",
     "text": [
      "Rv0332\n"
     ]
    },
    {
     "name": "stderr",
     "output_type": "stream",
     "text": [
      "\n",
      "100%|██████████| 91/91 [00:00<00:00, 139707.78it/s]\n",
      "\n",
      "100%|██████████| 1/1 [00:00<?, ?it/s]\u001b[A\n",
      "\n",
      "100%|██████████| 91/91 [00:00<00:00, 90984.90it/s]\n",
      "\n",
      "100%|██████████| 53/53 [00:00<?, ?it/s][A\n",
      "\n",
      "100%|██████████| 1/1 [00:00<?, ?it/s]\u001b[A\n",
      "\n",
      "100%|██████████| 53/53 [00:00<?, ?it/s][A\n",
      "241it [3:06:13, 22.11s/it]"
     ]
    },
    {
     "name": "stdout",
     "output_type": "stream",
     "text": [
      "Rv0335c\n"
     ]
    },
    {
     "name": "stderr",
     "output_type": "stream",
     "text": [
      "244it [3:06:27, 13.35s/it]"
     ]
    },
    {
     "name": "stdout",
     "output_type": "stream",
     "text": [
      "Rv0336\n"
     ]
    },
    {
     "name": "stderr",
     "output_type": "stream",
     "text": [
      "245it [3:06:41, 13.50s/it]"
     ]
    },
    {
     "name": "stdout",
     "output_type": "stream",
     "text": [
      "Rv0337c\n"
     ]
    },
    {
     "name": "stderr",
     "output_type": "stream",
     "text": [
      "\n",
      "100%|██████████| 209/209 [00:00<00:00, 209966.36it/s]\n",
      "\n",
      "100%|██████████| 1/1 [00:00<?, ?it/s]\u001b[A\n",
      "\n",
      "100%|██████████| 209/209 [00:00<00:00, 208766.26it/s]\n",
      "\n",
      "100%|██████████| 498/498 [00:00<00:00, 248929.02it/s]\n",
      "\n",
      "100%|██████████| 1/1 [00:00<?, ?it/s]\u001b[A\n",
      "\n",
      "100%|██████████| 498/498 [00:00<00:00, 166078.03it/s]\n",
      "246it [3:07:14, 17.83s/it]"
     ]
    },
    {
     "name": "stdout",
     "output_type": "stream",
     "text": [
      "Rv0338c\n"
     ]
    },
    {
     "name": "stderr",
     "output_type": "stream",
     "text": [
      "\n",
      "100%|██████████| 194/194 [00:00<00:00, 193829.20it/s]\n",
      "\n",
      "100%|██████████| 1/1 [00:00<?, ?it/s]\u001b[A\n",
      "\n",
      "100%|██████████| 194/194 [00:00<00:00, 194245.64it/s]\n",
      "\n",
      "100%|██████████| 153/153 [00:00<00:00, 153047.58it/s]\n",
      "\n",
      "100%|██████████| 1/1 [00:00<?, ?it/s]\u001b[A\n",
      "\n",
      "100%|██████████| 153/153 [00:00<00:00, 152938.16it/s]\n",
      "247it [3:08:00, 24.46s/it]"
     ]
    },
    {
     "name": "stdout",
     "output_type": "stream",
     "text": [
      "Rv0339c\n"
     ]
    },
    {
     "name": "stderr",
     "output_type": "stream",
     "text": [
      "\n",
      "100%|██████████| 82/82 [00:00<00:00, 82064.65it/s]\n",
      "\n",
      "100%|██████████| 1/1 [00:00<?, ?it/s]\u001b[A\n",
      "\n",
      "100%|██████████| 81/81 [00:00<00:00, 81005.87it/s]\n",
      "\n",
      "100%|██████████| 51/51 [00:00<?, ?it/s][A\n",
      "\n",
      "100%|██████████| 1/1 [00:00<?, ?it/s]\u001b[A\n",
      "\n",
      "100%|██████████| 50/50 [00:00<?, ?it/s][A\n",
      "248it [3:08:39, 28.08s/it]"
     ]
    },
    {
     "name": "stdout",
     "output_type": "stream",
     "text": [
      "Rv0340\n"
     ]
    },
    {
     "name": "stderr",
     "output_type": "stream",
     "text": [
      "\n",
      "100%|██████████| 65/65 [00:00<?, ?it/s][A\n",
      "\n",
      "100%|██████████| 1/1 [00:00<?, ?it/s]\u001b[A\n",
      "\n",
      "100%|██████████| 65/65 [00:00<?, ?it/s][A\n",
      "\n",
      "100%|██████████| 42/42 [00:00<?, ?it/s][A\n",
      "\n",
      "100%|██████████| 1/1 [00:00<?, ?it/s]\u001b[A\n",
      "\n",
      "100%|██████████| 42/42 [00:00<?, ?it/s][A\n",
      "249it [3:09:37, 35.87s/it]"
     ]
    },
    {
     "name": "stdout",
     "output_type": "stream",
     "text": [
      "Rv0341\n"
     ]
    },
    {
     "name": "stderr",
     "output_type": "stream",
     "text": [
      "250it [3:09:50, 29.69s/it]"
     ]
    },
    {
     "name": "stdout",
     "output_type": "stream",
     "text": [
      "Rv0342\n"
     ]
    },
    {
     "name": "stderr",
     "output_type": "stream",
     "text": [
      "\n",
      "100%|██████████| 142/142 [00:00<00:00, 142145.86it/s]\n",
      "\n",
      "100%|██████████| 1/1 [00:00<?, ?it/s]\u001b[A\n",
      "\n",
      "100%|██████████| 142/142 [00:00<00:00, 142010.29it/s]\n",
      "\n",
      "100%|██████████| 90/90 [00:00<?, ?it/s][A\n",
      "\n",
      "100%|██████████| 1/1 [00:00<?, ?it/s]\u001b[A\n",
      "\n",
      "100%|██████████| 90/90 [00:00<?, ?it/s][A\n",
      "251it [3:10:14, 28.04s/it]"
     ]
    },
    {
     "name": "stdout",
     "output_type": "stream",
     "text": [
      "Rv0344c\n"
     ]
    },
    {
     "name": "stderr",
     "output_type": "stream",
     "text": [
      "\n",
      "100%|██████████| 111/111 [00:00<?, ?it/s]A\n",
      "\n",
      "100%|██████████| 1/1 [00:00<?, ?it/s]\u001b[A\n",
      "\n",
      "100%|██████████| 109/109 [00:00<?, ?it/s]A\n",
      "\n",
      "100%|██████████| 64/64 [00:00<?, ?it/s][A\n",
      "\n",
      "100%|██████████| 1/1 [00:00<00:00, 2458.56it/s]\n",
      "\n",
      "100%|██████████| 64/64 [00:00<?, ?it/s][A\n",
      "253it [3:10:46, 22.56s/it]"
     ]
    },
    {
     "name": "stdout",
     "output_type": "stream",
     "text": [
      "Rv0345\n"
     ]
    },
    {
     "name": "stderr",
     "output_type": "stream",
     "text": [
      "\n",
      "100%|██████████| 52/52 [00:00<?, ?it/s][A\n",
      "\n",
      "100%|██████████| 1/1 [00:00<?, ?it/s]\u001b[A\n",
      "\n",
      "100%|██████████| 52/52 [00:00<?, ?it/s][A\n",
      "\n",
      "100%|██████████| 27/27 [00:00<?, ?it/s][A\n",
      "\n",
      "100%|██████████| 1/1 [00:00<?, ?it/s]\u001b[A\n",
      "\n",
      "100%|██████████| 27/27 [00:00<?, ?it/s][A\n",
      "254it [3:11:19, 25.25s/it]"
     ]
    },
    {
     "name": "stdout",
     "output_type": "stream",
     "text": [
      "Rv0346c\n"
     ]
    },
    {
     "name": "stderr",
     "output_type": "stream",
     "text": [
      "\n",
      "100%|██████████| 99/99 [00:00<00:00, 99101.69it/s]\n",
      "\n",
      "100%|██████████| 1/1 [00:00<?, ?it/s]\u001b[A\n",
      "\n",
      "100%|██████████| 99/99 [00:00<00:00, 49527.21it/s]\n",
      "\n",
      "100%|██████████| 227/227 [00:00<00:00, 41181.10it/s]\n",
      "\n",
      "100%|██████████| 1/1 [00:00<?, ?it/s]\u001b[A\n",
      "\n",
      "100%|██████████| 227/227 [00:00<00:00, 45394.63it/s]\n",
      "255it [3:14:41, 70.51s/it]"
     ]
    },
    {
     "name": "stdout",
     "output_type": "stream",
     "text": [
      "Rv0347\n"
     ]
    },
    {
     "name": "stderr",
     "output_type": "stream",
     "text": [
      "256it [3:14:55, 55.48s/it]"
     ]
    },
    {
     "name": "stdout",
     "output_type": "stream",
     "text": [
      "Rv0350\n"
     ]
    },
    {
     "name": "stderr",
     "output_type": "stream",
     "text": [
      "\n",
      "100%|██████████| 215/215 [00:00<00:00, 71649.08it/s]\n",
      "\n",
      "100%|██████████| 1/1 [00:00<?, ?it/s]\u001b[A\n",
      "\n",
      "100%|██████████| 215/215 [00:00<00:00, 71597.88it/s]\n",
      "\n",
      "100%|██████████| 486/486 [00:00<00:00, 54284.35it/s]\n",
      "\n",
      "100%|██████████| 1/1 [00:00<?, ?it/s]\u001b[A\n",
      "\n",
      "100%|██████████| 486/486 [00:00<00:00, 60709.17it/s]\n",
      "259it [3:19:17, 72.37s/it]"
     ]
    },
    {
     "name": "stdout",
     "output_type": "stream",
     "text": [
      "Rv0352\n"
     ]
    },
    {
     "name": "stderr",
     "output_type": "stream",
     "text": [
      "\n",
      "100%|██████████| 215/215 [00:00<00:00, 215632.56it/s]\n",
      "\n",
      "100%|██████████| 1/1 [00:00<?, ?it/s]\u001b[A\n",
      "\n",
      "100%|██████████| 215/215 [00:00<00:00, 215839.00it/s]\n",
      "\n",
      "100%|██████████| 260/260 [00:00<00:00, 261955.09it/s]\n",
      "\n",
      "100%|██████████| 1/1 [00:00<?, ?it/s]\u001b[A\n",
      "\n",
      "100%|██████████| 260/260 [00:00<00:00, 65066.77it/s]\n",
      "261it [3:19:43, 52.38s/it]"
     ]
    },
    {
     "name": "stdout",
     "output_type": "stream",
     "text": [
      "Rv0354c\n"
     ]
    },
    {
     "name": "stderr",
     "output_type": "stream",
     "text": [
      "263it [3:19:58, 37.89s/it]"
     ]
    },
    {
     "name": "stdout",
     "output_type": "stream",
     "text": [
      "Rv0355c\n"
     ]
    },
    {
     "name": "stderr",
     "output_type": "stream",
     "text": [
      "\n",
      "100%|██████████| 19/19 [00:00<?, ?it/s][A\n",
      "\n",
      "100%|██████████| 1/1 [00:00<?, ?it/s]\u001b[A\n",
      "\n",
      "100%|██████████| 19/19 [00:00<?, ?it/s][A\n",
      "\n",
      "100%|██████████| 12/12 [00:00<?, ?it/s][A\n",
      "\n",
      "100%|██████████| 1/1 [00:00<00:00, 1001.51it/s]\n",
      "\n",
      "100%|██████████| 12/12 [00:00<?, ?it/s][A\n",
      "264it [3:20:46, 39.62s/it]"
     ]
    },
    {
     "name": "stdout",
     "output_type": "stream",
     "text": [
      "Rv0357c\n"
     ]
    },
    {
     "name": "stderr",
     "output_type": "stream",
     "text": [
      "\n",
      "100%|██████████| 215/215 [00:00<00:00, 107264.82it/s]\n",
      "\n",
      "100%|██████████| 1/1 [00:00<?, ?it/s]\u001b[A\n",
      "\n",
      "100%|██████████| 215/215 [00:00<00:00, 107559.08it/s]\n",
      "\n",
      "100%|██████████| 496/496 [00:00<00:00, 99230.85it/s]\n",
      "\n",
      "100%|██████████| 1/1 [00:00<?, ?it/s]\u001b[A\n",
      "\n",
      "100%|██████████| 496/496 [00:00<00:00, 109927.33it/s]\n",
      "266it [3:22:22, 42.69s/it]"
     ]
    },
    {
     "name": "stdout",
     "output_type": "stream",
     "text": [
      "Rv0358\n"
     ]
    },
    {
     "name": "stderr",
     "output_type": "stream",
     "text": [
      "\n",
      "100%|██████████| 109/109 [00:00<00:00, 109085.93it/s]\n",
      "\n",
      "100%|██████████| 1/1 [00:00<?, ?it/s]\u001b[A\n",
      "\n",
      "100%|██████████| 109/109 [00:00<?, ?it/s]A\n",
      "\n",
      "100%|██████████| 63/63 [00:00<00:00, 62899.58it/s]\n",
      "\n",
      "100%|██████████| 1/1 [00:00<?, ?it/s]\u001b[A\n",
      "\n",
      "100%|██████████| 63/63 [00:00<?, ?it/s][A\n",
      "267it [3:22:58, 41.30s/it]"
     ]
    },
    {
     "name": "stdout",
     "output_type": "stream",
     "text": [
      "Rv0360c\n"
     ]
    },
    {
     "name": "stderr",
     "output_type": "stream",
     "text": [
      "\n",
      "100%|██████████| 213/213 [00:00<00:00, 106545.83it/s]\n",
      "\n",
      "100%|██████████| 1/1 [00:00<?, ?it/s]\u001b[A\n",
      "\n",
      "100%|██████████| 213/213 [00:00<00:00, 106393.56it/s]\n",
      "\n",
      "100%|██████████| 345/345 [00:00<00:00, 115008.34it/s]\n",
      "\n",
      "100%|██████████| 1/1 [00:00<?, ?it/s]\u001b[A\n",
      "\n",
      "100%|██████████| 345/345 [00:00<00:00, 172245.55it/s]\n",
      "269it [3:24:01, 37.64s/it]"
     ]
    },
    {
     "name": "stdout",
     "output_type": "stream",
     "text": [
      "Rv0361\n"
     ]
    },
    {
     "name": "stderr",
     "output_type": "stream",
     "text": [
      "\n",
      "100%|██████████| 90/90 [00:00<?, ?it/s][A\n",
      "\n",
      "100%|██████████| 1/1 [00:00<?, ?it/s]\u001b[A\n",
      "\n",
      "100%|██████████| 90/90 [00:00<00:00, 149499.94it/s]\n",
      "\n",
      "100%|██████████| 52/52 [00:00<00:00, 52040.99it/s]\n",
      "\n",
      "100%|██████████| 1/1 [00:00<?, ?it/s]\u001b[A\n",
      "\n",
      "100%|██████████| 52/52 [00:00<?, ?it/s][A\n",
      "270it [3:24:34, 36.74s/it]"
     ]
    },
    {
     "name": "stdout",
     "output_type": "stream",
     "text": [
      "Rv0362\n"
     ]
    },
    {
     "name": "stderr",
     "output_type": "stream",
     "text": [
      "\n",
      "100%|██████████| 30/30 [00:00<00:00, 30016.49it/s]\n",
      "\n",
      "100%|██████████| 1/1 [00:00<?, ?it/s]\u001b[A\n",
      "\n",
      "100%|██████████| 30/30 [00:00<00:00, 30045.16it/s]\n",
      "\n",
      "100%|██████████| 25/25 [00:00<?, ?it/s][A\n",
      "\n",
      "100%|██████████| 1/1 [00:00<?, ?it/s]\u001b[A\n",
      "\n",
      "100%|██████████| 25/25 [00:00<00:00, 25103.57it/s]\n",
      "271it [3:25:23, 39.59s/it]"
     ]
    },
    {
     "name": "stdout",
     "output_type": "stream",
     "text": [
      "Rv0363c\n"
     ]
    },
    {
     "name": "stderr",
     "output_type": "stream",
     "text": [
      "\n",
      "100%|██████████| 201/201 [00:00<00:00, 100495.30it/s]\n",
      "\n",
      "100%|██████████| 1/1 [00:00<?, ?it/s]\u001b[A\n",
      "\n",
      "100%|██████████| 201/201 [00:00<00:00, 100435.44it/s]\n",
      "\n",
      "100%|██████████| 497/497 [00:00<00:00, 124296.05it/s]\n",
      "\n",
      "100%|██████████| 1/1 [00:00<?, ?it/s]\u001b[A\n",
      "\n",
      "100%|██████████| 497/497 [00:00<00:00, 124273.82it/s]\n",
      "272it [3:26:41, 48.88s/it]"
     ]
    },
    {
     "name": "stdout",
     "output_type": "stream",
     "text": [
      "Rv0364\n"
     ]
    },
    {
     "name": "stderr",
     "output_type": "stream",
     "text": [
      "\n",
      "100%|██████████| 108/108 [00:00<00:00, 71550.28it/s]\n",
      "\n",
      "100%|██████████| 1/1 [00:00<?, ?it/s]\u001b[A\n",
      "\n",
      "100%|██████████| 108/108 [00:00<00:00, 107956.35it/s]\n",
      "\n",
      "100%|██████████| 93/93 [00:00<00:00, 92940.26it/s]\n",
      "\n",
      "100%|██████████| 1/1 [00:00<?, ?it/s]\u001b[A\n",
      "\n",
      "100%|██████████| 93/93 [00:00<?, ?it/s][A\n",
      "273it [3:27:01, 41.58s/it]"
     ]
    },
    {
     "name": "stdout",
     "output_type": "stream",
     "text": [
      "Rv0367c\n"
     ]
    },
    {
     "name": "stderr",
     "output_type": "stream",
     "text": [
      "\n",
      "100%|██████████| 85/85 [00:00<?, ?it/s][A\n",
      "\n",
      "100%|██████████| 1/1 [00:00<?, ?it/s]\u001b[A\n",
      "\n",
      "100%|██████████| 85/85 [00:00<?, ?it/s][A\n",
      "\n",
      "100%|██████████| 60/60 [00:00<?, ?it/s][A\n",
      "\n",
      "100%|██████████| 1/1 [00:00<?, ?it/s]\u001b[A\n",
      "\n",
      "100%|██████████| 60/60 [00:00<?, ?it/s][A\n",
      "276it [3:27:25, 23.84s/it]"
     ]
    },
    {
     "name": "stdout",
     "output_type": "stream",
     "text": [
      "Rv0369c\n"
     ]
    },
    {
     "name": "stderr",
     "output_type": "stream",
     "text": [
      "\n",
      "100%|██████████| 83/83 [00:00<?, ?it/s][A\n",
      "\n",
      "100%|██████████| 1/1 [00:00<?, ?it/s]\u001b[A\n",
      "\n",
      "100%|██████████| 83/83 [00:00<?, ?it/s][A\n",
      "\n",
      "100%|██████████| 62/62 [00:00<?, ?it/s][A\n",
      "\n",
      "100%|██████████| 1/1 [00:00<?, ?it/s]\u001b[A\n",
      "\n",
      "100%|██████████| 62/62 [00:00<00:00, 61945.41it/s]\n",
      "278it [3:27:45, 19.30s/it]"
     ]
    },
    {
     "name": "stdout",
     "output_type": "stream",
     "text": [
      "Rv0375c\n"
     ]
    },
    {
     "name": "stderr",
     "output_type": "stream",
     "text": [
      "\n",
      "100%|██████████| 78/78 [00:00<?, ?it/s][A\n",
      "\n",
      "100%|██████████| 1/1 [00:00<?, ?it/s]\u001b[A\n",
      "\n",
      "100%|██████████| 78/78 [00:00<?, ?it/s][A\n",
      "\n",
      "100%|██████████| 104/104 [00:00<00:00, 102952.00it/s]\n",
      "\n",
      "100%|██████████| 1/1 [00:00<?, ?it/s]\u001b[A\n",
      "\n",
      "100%|██████████| 104/104 [00:00<00:00, 103908.44it/s]\n",
      "284it [3:28:08, 10.15s/it]"
     ]
    },
    {
     "name": "stdout",
     "output_type": "stream",
     "text": [
      "Rv0376c\n"
     ]
    },
    {
     "name": "stderr",
     "output_type": "stream",
     "text": [
      "\n",
      "100%|██████████| 145/145 [00:00<00:00, 144906.86it/s]\n",
      "\n",
      "100%|██████████| 1/1 [00:00<?, ?it/s]\u001b[A\n",
      "\n",
      "100%|██████████| 145/145 [00:00<?, ?it/s]A\n",
      "\n",
      "100%|██████████| 480/480 [00:00<00:00, 159998.88it/s]\n",
      "\n",
      "100%|██████████| 1/1 [00:00<?, ?it/s]\u001b[A\n",
      "\n",
      "100%|██████████| 480/480 [00:00<00:00, 239902.99it/s]\n",
      "285it [3:28:52, 14.37s/it]"
     ]
    },
    {
     "name": "stdout",
     "output_type": "stream",
     "text": [
      "Rv0377\n"
     ]
    },
    {
     "name": "stderr",
     "output_type": "stream",
     "text": [
      "\n",
      "100%|██████████| 79/79 [00:00<?, ?it/s][A\n",
      "\n",
      "100%|██████████| 1/1 [00:00<00:00, 999.12it/s]\n",
      "\n",
      "100%|██████████| 79/79 [00:00<?, ?it/s][A\n",
      "\n",
      "100%|██████████| 49/49 [00:00<00:00, 48875.36it/s]\n",
      "\n",
      "100%|██████████| 1/1 [00:00<00:00, 1001.74it/s]\n",
      "\n",
      "100%|██████████| 49/49 [00:00<?, ?it/s][A\n",
      "286it [3:29:15, 15.56s/it]"
     ]
    },
    {
     "name": "stdout",
     "output_type": "stream",
     "text": [
      "Rv0378\n"
     ]
    },
    {
     "name": "stderr",
     "output_type": "stream",
     "text": [
      "287it [3:29:28, 15.06s/it]"
     ]
    },
    {
     "name": "stdout",
     "output_type": "stream",
     "text": [
      "Rv0379\n"
     ]
    },
    {
     "name": "stderr",
     "output_type": "stream",
     "text": [
      "\n",
      "100%|██████████| 50/50 [00:00<?, ?it/s][A\n",
      "\n",
      "100%|██████████| 1/1 [00:00<?, ?it/s]\u001b[A\n",
      "\n",
      "100%|██████████| 50/50 [00:00<?, ?it/s][A\n",
      "\n",
      "100%|██████████| 30/30 [00:00<00:00, 29888.15it/s]\n",
      "\n",
      "100%|██████████| 1/1 [00:00<?, ?it/s]\u001b[A\n",
      "\n",
      "100%|██████████| 30/30 [00:00<?, ?it/s][A\n",
      "288it [3:29:51, 16.66s/it]"
     ]
    },
    {
     "name": "stdout",
     "output_type": "stream",
     "text": [
      "Rv0380c\n"
     ]
    },
    {
     "name": "stderr",
     "output_type": "stream",
     "text": [
      "\n",
      "100%|██████████| 207/207 [00:00<00:00, 207361.10it/s]\n",
      "\n",
      "100%|██████████| 1/1 [00:00<?, ?it/s]\u001b[A\n",
      "\n",
      "100%|██████████| 207/207 [00:00<00:00, 103495.16it/s]\n",
      "\n",
      "100%|██████████| 498/498 [00:00<00:00, 124434.85it/s]\n",
      "\n",
      "100%|██████████| 1/1 [00:00<?, ?it/s]\u001b[A\n",
      "\n",
      "100%|██████████| 498/498 [00:00<00:00, 124449.68it/s]\n",
      "289it [3:31:24, 33.72s/it]"
     ]
    },
    {
     "name": "stdout",
     "output_type": "stream",
     "text": [
      "Rv0382c\n"
     ]
    },
    {
     "name": "stderr",
     "output_type": "stream",
     "text": [
      "\n",
      "100%|██████████| 138/138 [00:00<?, ?it/s]A\n",
      "\n",
      "100%|██████████| 1/1 [00:00<?, ?it/s]\u001b[A\n",
      "\n",
      "100%|██████████| 138/138 [00:00<?, ?it/s]A\n",
      "\n",
      "100%|██████████| 496/496 [00:00<00:00, 165240.25it/s]\n",
      "\n",
      "100%|██████████| 1/1 [00:00<00:00, 999.60it/s]\n",
      "\n",
      "100%|██████████| 496/496 [00:00<00:00, 165437.36it/s]\n",
      "291it [3:32:29, 33.38s/it]"
     ]
    },
    {
     "name": "stdout",
     "output_type": "stream",
     "text": [
      "Rv0383c\n"
     ]
    },
    {
     "name": "stderr",
     "output_type": "stream",
     "text": [
      "\n",
      "100%|██████████| 206/206 [00:00<00:00, 126950.72it/s]\n",
      "\n",
      "100%|██████████| 1/1 [00:00<?, ?it/s]\u001b[A\n",
      "\n",
      "100%|██████████| 206/206 [00:00<00:00, 102909.32it/s]\n",
      "\n",
      "100%|██████████| 129/129 [00:00<00:00, 128886.43it/s]\n",
      "\n",
      "100%|██████████| 1/1 [00:00<?, ?it/s]\u001b[A\n",
      "\n",
      "100%|██████████| 129/129 [00:00<00:00, 128733.10it/s]\n",
      "292it [3:33:04, 33.70s/it]"
     ]
    },
    {
     "name": "stdout",
     "output_type": "stream",
     "text": [
      "Rv0384c\n"
     ]
    },
    {
     "name": "stderr",
     "output_type": "stream",
     "text": [
      "\n",
      "100%|██████████| 214/214 [00:00<00:00, 213964.49it/s]\n",
      "\n",
      "100%|██████████| 1/1 [00:00<?, ?it/s]\u001b[A\n",
      "\n",
      "100%|██████████| 213/213 [00:00<00:00, 106634.85it/s]\n",
      "\n",
      "100%|██████████| 498/498 [00:00<00:00, 99536.02it/s]\n",
      "\n",
      "100%|██████████| 1/1 [00:00<?, ?it/s]\u001b[A\n",
      "\n",
      "100%|██████████| 498/498 [00:00<00:00, 38141.87it/s]\n",
      "293it [3:34:50, 50.77s/it]"
     ]
    },
    {
     "name": "stdout",
     "output_type": "stream",
     "text": [
      "Rv0385\n"
     ]
    },
    {
     "name": "stderr",
     "output_type": "stream",
     "text": [
      "\n",
      "100%|██████████| 200/200 [00:00<00:00, 99959.58it/s]\n",
      "\n",
      "100%|██████████| 1/1 [00:00<?, ?it/s]\u001b[A\n",
      "\n",
      "100%|██████████| 199/199 [00:00<00:00, 99400.56it/s]\n",
      "\n",
      "100%|██████████| 123/123 [00:00<00:00, 123185.15it/s]\n",
      "\n",
      "100%|██████████| 1/1 [00:00<?, ?it/s]\u001b[A\n",
      "\n",
      "100%|██████████| 123/123 [00:00<00:00, 122425.10it/s]\n",
      "294it [3:35:41, 50.71s/it]"
     ]
    },
    {
     "name": "stdout",
     "output_type": "stream",
     "text": [
      "Rv0386\n"
     ]
    },
    {
     "name": "stderr",
     "output_type": "stream",
     "text": [
      "\n",
      "100%|██████████| 30/30 [00:00<00:00, 29881.05it/s]\n",
      "\n",
      "100%|██████████| 1/1 [00:00<?, ?it/s]\u001b[A\n",
      "\n",
      "100%|██████████| 30/30 [00:00<?, ?it/s][A\n",
      "\n",
      "100%|██████████| 15/15 [00:00<?, ?it/s][A\n",
      "\n",
      "100%|██████████| 1/1 [00:00<00:00, 996.04it/s]\n",
      "\n",
      "100%|██████████| 15/15 [00:00<?, ?it/s][A\n",
      "295it [3:36:10, 45.16s/it]"
     ]
    },
    {
     "name": "stdout",
     "output_type": "stream",
     "text": [
      "Rv0389\n"
     ]
    },
    {
     "name": "stderr",
     "output_type": "stream",
     "text": [
      "\n",
      "100%|██████████| 64/64 [00:00<00:00, 9817.70it/s]\n",
      "\n",
      "100%|██████████| 1/1 [00:00<?, ?it/s]\u001b[A\n",
      "\n",
      "100%|██████████| 64/64 [00:00<00:00, 9627.21it/s]\n",
      "\n",
      "100%|██████████| 35/35 [00:00<00:00, 8621.64it/s]\n",
      "\n",
      "100%|██████████| 1/1 [00:00<?, ?it/s]\u001b[A\n",
      "\n",
      "100%|██████████| 35/35 [00:00<00:00, 11671.22it/s]\n",
      "296it [4:18:28, 730.59s/it]"
     ]
    },
    {
     "name": "stdout",
     "output_type": "stream",
     "text": [
      "Rv0392c\n"
     ]
    },
    {
     "name": "stderr",
     "output_type": "stream",
     "text": [
      "\n",
      "100%|██████████| 95/95 [00:00<00:00, 93998.32it/s]\n",
      "\n",
      "100%|██████████| 1/1 [00:00<?, ?it/s]\u001b[A\n",
      "\n",
      "100%|██████████| 95/95 [00:00<?, ?it/s][A\n",
      "\n",
      "100%|██████████| 94/94 [00:00<00:00, 93939.62it/s]\n",
      "\n",
      "100%|██████████| 1/1 [00:00<?, ?it/s]\u001b[A\n",
      "\n",
      "100%|██████████| 94/94 [00:00<00:00, 47037.05it/s]\n",
      "299it [4:19:05, 342.05s/it]"
     ]
    },
    {
     "name": "stdout",
     "output_type": "stream",
     "text": [
      "Rv0393\n"
     ]
    },
    {
     "name": "stderr",
     "output_type": "stream",
     "text": [
      "300it [4:19:18, 274.58s/it]"
     ]
    },
    {
     "name": "stdout",
     "output_type": "stream",
     "text": [
      "Rv0394c\n"
     ]
    },
    {
     "name": "stderr",
     "output_type": "stream",
     "text": [
      "301it [4:19:31, 215.39s/it]"
     ]
    },
    {
     "name": "stdout",
     "output_type": "stream",
     "text": [
      "Rv0395\n"
     ]
    },
    {
     "name": "stderr",
     "output_type": "stream",
     "text": [
      "302it [4:19:45, 166.11s/it]"
     ]
    },
    {
     "name": "stdout",
     "output_type": "stream",
     "text": [
      "Rv0397\n"
     ]
    },
    {
     "name": "stderr",
     "output_type": "stream",
     "text": [
      "304it [4:19:58, 100.55s/it]"
     ]
    },
    {
     "name": "stdout",
     "output_type": "stream",
     "text": [
      "Rv0397A\n"
     ]
    },
    {
     "name": "stderr",
     "output_type": "stream",
     "text": [
      "\n",
      "100%|██████████| 18/18 [00:00<?, ?it/s][A\n",
      "\n",
      "100%|██████████| 1/1 [00:00<?, ?it/s]\u001b[A\n",
      "\n",
      "100%|██████████| 18/18 [00:00<?, ?it/s][A\n",
      "305it [4:20:25, 83.73s/it] "
     ]
    },
    {
     "name": "stdout",
     "output_type": "stream",
     "text": [
      "Rv0400c\n"
     ]
    },
    {
     "name": "stderr",
     "output_type": "stream",
     "text": [
      "\n",
      "100%|██████████| 195/195 [00:00<00:00, 335888.82it/s]\n",
      "\n",
      "100%|██████████| 1/1 [00:00<?, ?it/s]\u001b[A\n",
      "\n",
      "100%|██████████| 195/195 [00:00<00:00, 194781.92it/s]\n",
      "\n",
      "100%|██████████| 486/486 [00:00<00:00, 242901.78it/s]\n",
      "\n",
      "100%|██████████| 1/1 [00:00<00:00, 988.76it/s]\n",
      "\n",
      "100%|██████████| 486/486 [00:00<00:00, 193877.85it/s]\n",
      "308it [4:21:15, 50.68s/it]"
     ]
    },
    {
     "name": "stdout",
     "output_type": "stream",
     "text": [
      "Rv0401\n"
     ]
    },
    {
     "name": "stderr",
     "output_type": "stream",
     "text": [
      "\n",
      "100%|██████████| 201/201 [00:00<?, ?it/s]A\n",
      "\n",
      "100%|██████████| 1/1 [00:00<?, ?it/s]\u001b[A\n",
      "\n",
      "100%|██████████| 201/201 [00:00<00:00, 200250.62it/s]\n",
      "\n",
      "100%|██████████| 128/128 [00:00<?, ?it/s]A\n",
      "\n",
      "100%|██████████| 1/1 [00:00<?, ?it/s]\u001b[A\n",
      "\n",
      "100%|██████████| 128/128 [00:00<00:00, 128039.81it/s]\n",
      "309it [4:21:40, 45.79s/it]"
     ]
    },
    {
     "name": "stdout",
     "output_type": "stream",
     "text": [
      "Rv0403c\n"
     ]
    },
    {
     "name": "stderr",
     "output_type": "stream",
     "text": [
      "\n",
      "100%|██████████| 16/16 [00:00<00:00, 16001.16it/s]\n",
      "\n",
      "100%|██████████| 1/1 [00:00<?, ?it/s]\u001b[A\n",
      "\n",
      "100%|██████████| 16/16 [00:00<?, ?it/s][A\n",
      "311it [4:22:35, 39.42s/it]"
     ]
    },
    {
     "name": "stdout",
     "output_type": "stream",
     "text": [
      "Rv0404\n"
     ]
    },
    {
     "name": "stderr",
     "output_type": "stream",
     "text": [
      "312it [4:22:48, 34.16s/it]"
     ]
    },
    {
     "name": "stdout",
     "output_type": "stream",
     "text": [
      "Rv0406c\n"
     ]
    },
    {
     "name": "stderr",
     "output_type": "stream",
     "text": [
      "\n",
      "100%|██████████| 141/141 [00:00<00:00, 141448.66it/s]\n",
      "\n",
      "100%|██████████| 1/1 [00:00<?, ?it/s]\u001b[A\n",
      "\n",
      "100%|██████████| 141/141 [00:00<?, ?it/s]A\n",
      "\n",
      "100%|██████████| 84/84 [00:00<00:00, 83966.05it/s]\n",
      "\n",
      "100%|██████████| 1/1 [00:00<?, ?it/s]\u001b[A\n",
      "\n",
      "100%|██████████| 84/84 [00:00<?, ?it/s][A\n",
      "314it [4:23:20, 27.43s/it]"
     ]
    },
    {
     "name": "stdout",
     "output_type": "stream",
     "text": [
      "Rv0407\n"
     ]
    },
    {
     "name": "stderr",
     "output_type": "stream",
     "text": [
      "\n",
      "100%|██████████| 214/214 [00:00<00:00, 212898.73it/s]\n",
      "\n",
      "100%|██████████| 1/1 [00:00<?, ?it/s]\u001b[A\n",
      "\n",
      "100%|██████████| 214/214 [00:00<00:00, 213811.59it/s]\n",
      "\n",
      "100%|██████████| 375/375 [00:00<00:00, 187379.56it/s]\n",
      "\n",
      "100%|██████████| 1/1 [00:00<?, ?it/s]\u001b[A\n",
      "\n",
      "100%|██████████| 375/375 [00:00<00:00, 124870.12it/s]\n",
      "315it [4:24:16, 33.40s/it]"
     ]
    },
    {
     "name": "stdout",
     "output_type": "stream",
     "text": [
      "Rv0412c\n"
     ]
    },
    {
     "name": "stderr",
     "output_type": "stream",
     "text": [
      "\n",
      "100%|██████████| 210/210 [00:00<00:00, 210015.22it/s]\n",
      "\n",
      "100%|██████████| 1/1 [00:00<?, ?it/s]\u001b[A\n",
      "\n",
      "100%|██████████| 210/210 [00:00<00:00, 209815.11it/s]\n",
      "\n",
      "100%|██████████| 132/132 [00:00<00:00, 131664.24it/s]\n",
      "\n",
      "100%|██████████| 1/1 [00:00<00:00, 1005.83it/s]\n",
      "\n",
      "100%|██████████| 132/132 [00:00<00:00, 132230.27it/s]\n",
      "320it [4:24:58, 18.50s/it]"
     ]
    },
    {
     "name": "stdout",
     "output_type": "stream",
     "text": [
      "Rv0413\n"
     ]
    },
    {
     "name": "stderr",
     "output_type": "stream",
     "text": [
      "\n",
      "100%|██████████| 193/193 [00:00<00:00, 95935.14it/s]\n",
      "\n",
      "100%|██████████| 1/1 [00:00<?, ?it/s]\u001b[A\n",
      "\n",
      "100%|██████████| 193/193 [00:00<00:00, 193290.51it/s]\n",
      "\n",
      "100%|██████████| 137/137 [00:00<00:00, 136749.08it/s]\n",
      "\n",
      "100%|██████████| 1/1 [00:00<?, ?it/s]\u001b[A\n",
      "\n",
      "100%|██████████| 137/137 [00:00<00:00, 136359.67it/s]\n",
      "321it [4:25:41, 22.03s/it]"
     ]
    },
    {
     "name": "stdout",
     "output_type": "stream",
     "text": [
      "Rv0414c\n"
     ]
    },
    {
     "name": "stderr",
     "output_type": "stream",
     "text": [
      "\n",
      "100%|██████████| 212/212 [00:00<00:00, 106020.32it/s]\n",
      "\n",
      "100%|██████████| 1/1 [00:00<00:00, 1000.31it/s]\n",
      "\n",
      "100%|██████████| 212/212 [00:00<00:00, 6625.09it/s]\n",
      "\n",
      "100%|██████████| 489/489 [00:00<00:00, 81486.48it/s]\n",
      "\n",
      "100%|██████████| 1/1 [00:00<?, ?it/s]\u001b[A\n",
      "\n",
      "100%|██████████| 489/489 [00:00<00:00, 88623.54it/s]\n",
      "322it [4:29:19, 55.78s/it]"
     ]
    },
    {
     "name": "stdout",
     "output_type": "stream",
     "text": [
      "Rv0415\n"
     ]
    },
    {
     "name": "stderr",
     "output_type": "stream",
     "text": [
      "\n",
      "100%|██████████| 209/209 [00:00<00:00, 104470.21it/s]\n",
      "\n",
      "100%|██████████| 1/1 [00:00<00:00, 1002.22it/s]\n",
      "\n",
      "100%|██████████| 209/209 [00:00<00:00, 104495.12it/s]\n",
      "\n",
      "100%|██████████| 131/131 [00:00<00:00, 130915.85it/s]\n",
      "\n",
      "100%|██████████| 1/1 [00:00<?, ?it/s]\u001b[A\n",
      "\n",
      "100%|██████████| 131/131 [00:00<00:00, 131009.50it/s]\n",
      "323it [4:30:18, 56.45s/it]"
     ]
    },
    {
     "name": "stdout",
     "output_type": "stream",
     "text": [
      "Rv0418\n"
     ]
    },
    {
     "name": "stderr",
     "output_type": "stream",
     "text": [
      "\n",
      "100%|██████████| 198/198 [00:00<00:00, 30361.28it/s]\n",
      "\n",
      "100%|██████████| 1/1 [00:00<?, ?it/s]\u001b[A\n",
      "\n",
      "100%|██████████| 198/198 [00:00<00:00, 32959.17it/s]\n",
      "\n",
      "100%|██████████| 121/121 [00:00<00:00, 30171.26it/s]\n",
      "\n",
      "100%|██████████| 1/1 [00:00<?, ?it/s]\u001b[A\n",
      "\n",
      "100%|██████████| 121/121 [00:00<00:00, 40381.19it/s]\n",
      "326it [4:33:15, 57.58s/it]"
     ]
    },
    {
     "name": "stdout",
     "output_type": "stream",
     "text": [
      "Rv0419\n"
     ]
    },
    {
     "name": "stderr",
     "output_type": "stream",
     "text": [
      "\n",
      "100%|██████████| 71/71 [00:00<00:00, 70988.22it/s]\n",
      "\n",
      "100%|██████████| 1/1 [00:00<?, ?it/s]\u001b[A\n",
      "\n",
      "100%|██████████| 71/71 [00:00<00:00, 70920.60it/s]\n",
      "\n",
      "100%|██████████| 42/42 [00:00<?, ?it/s][A\n",
      "\n",
      "100%|██████████| 1/1 [00:00<?, ?it/s]\u001b[A\n",
      "\n",
      "100%|██████████| 42/42 [00:00<?, ?it/s][A\n",
      "327it [4:33:43, 52.21s/it]"
     ]
    },
    {
     "name": "stdout",
     "output_type": "stream",
     "text": [
      "Rv0420c\n"
     ]
    },
    {
     "name": "stderr",
     "output_type": "stream",
     "text": [
      "\n",
      "100%|██████████| 12/12 [00:00<?, ?it/s][A\n",
      "\n",
      "100%|██████████| 1/1 [00:00<00:00, 996.27it/s]\n",
      "\n",
      "100%|██████████| 12/12 [00:00<?, ?it/s][A\n",
      "328it [4:33:57, 44.47s/it]"
     ]
    },
    {
     "name": "stdout",
     "output_type": "stream",
     "text": [
      "Rv0423c\n"
     ]
    },
    {
     "name": "stderr",
     "output_type": "stream",
     "text": [
      "\n",
      "100%|██████████| 202/202 [00:00<00:00, 101043.46it/s]\n",
      "\n",
      "100%|██████████| 1/1 [00:00<?, ?it/s]\u001b[A\n",
      "\n",
      "100%|██████████| 202/202 [00:00<00:00, 100695.20it/s]\n",
      "\n",
      "100%|██████████| 496/496 [00:00<00:00, 82672.66it/s]\n",
      "\n",
      "100%|██████████| 1/1 [00:00<?, ?it/s]\u001b[A\n",
      "\n",
      "100%|██████████| 496/496 [00:00<00:00, 76153.99it/s]\n",
      "331it [4:36:20, 45.95s/it]"
     ]
    },
    {
     "name": "stdout",
     "output_type": "stream",
     "text": [
      "Rv0424c\n"
     ]
    },
    {
     "name": "stderr",
     "output_type": "stream",
     "text": [
      "\n",
      "100%|██████████| 106/106 [00:00<?, ?it/s]A\n",
      "\n",
      "100%|██████████| 1/1 [00:00<?, ?it/s]\u001b[A\n",
      "\n",
      "100%|██████████| 106/106 [00:00<00:00, 105529.60it/s]\n",
      "\n",
      "100%|██████████| 61/61 [00:00<00:00, 60931.78it/s]\n",
      "\n",
      "100%|██████████| 1/1 [00:00<?, ?it/s]\u001b[A\n",
      "\n",
      "100%|██████████| 61/61 [00:00<?, ?it/s][A\n",
      "332it [4:36:44, 42.08s/it]"
     ]
    },
    {
     "name": "stdout",
     "output_type": "stream",
     "text": [
      "Rv0425c\n"
     ]
    },
    {
     "name": "stderr",
     "output_type": "stream",
     "text": [
      "\n",
      "100%|██████████| 42/42 [00:00<?, ?it/s][A\n",
      "\n",
      "100%|██████████| 1/1 [00:00<00:00, 1003.66it/s]\n",
      "\n",
      "100%|██████████| 42/42 [00:00<?, ?it/s][A\n",
      "\n",
      "100%|██████████| 26/26 [00:00<?, ?it/s][A\n",
      "\n",
      "100%|██████████| 1/1 [00:00<?, ?it/s]\u001b[A\n",
      "\n",
      "100%|██████████| 26/26 [00:00<?, ?it/s][A\n",
      "333it [4:37:04, 37.45s/it]"
     ]
    },
    {
     "name": "stdout",
     "output_type": "stream",
     "text": [
      "Rv0426c\n"
     ]
    },
    {
     "name": "stderr",
     "output_type": "stream",
     "text": [
      "\n",
      "100%|██████████| 88/88 [00:00<00:00, 88027.37it/s]\n",
      "\n",
      "100%|██████████| 1/1 [00:00<00:00, 1001.27it/s]\n",
      "\n",
      "100%|██████████| 88/88 [00:00<00:00, 87609.48it/s]\n",
      "\n",
      "100%|██████████| 54/54 [00:00<?, ?it/s][A\n",
      "\n",
      "100%|██████████| 1/1 [00:00<?, ?it/s]\u001b[A\n",
      "\n",
      "100%|██████████| 54/54 [00:00<?, ?it/s][A\n",
      "334it [4:38:14, 44.79s/it]"
     ]
    },
    {
     "name": "stdout",
     "output_type": "stream",
     "text": [
      "Rv0429c\n"
     ]
    },
    {
     "name": "stderr",
     "output_type": "stream",
     "text": [
      "\n",
      "100%|██████████| 215/215 [00:00<00:00, 38987.26it/s]\n",
      "\n",
      "100%|██████████| 1/1 [00:00<?, ?it/s]\u001b[A\n",
      "\n",
      "100%|██████████| 214/214 [00:00<00:00, 42799.02it/s]\n",
      "\n",
      "100%|██████████| 451/451 [00:00<00:00, 40997.64it/s]\n",
      "\n",
      "100%|██████████| 1/1 [00:00<?, ?it/s]\u001b[A\n",
      "\n",
      "100%|██████████| 451/451 [00:00<00:00, 39062.30it/s]\n",
      "337it [4:47:20, 112.55s/it]"
     ]
    },
    {
     "name": "stdout",
     "output_type": "stream",
     "text": [
      "Rv0430\n"
     ]
    },
    {
     "name": "stderr",
     "output_type": "stream",
     "text": [
      "\n",
      "100%|██████████| 215/215 [00:00<00:00, 50084.72it/s]\n",
      "\n",
      "100%|██████████| 1/1 [00:00<?, ?it/s]\u001b[A\n",
      "\n",
      "100%|██████████| 214/214 [00:00<00:00, 38688.84it/s]\n",
      "\n",
      "100%|██████████| 476/476 [00:00<00:00, 45258.51it/s]\n",
      "\n",
      "100%|██████████| 1/1 [00:00<?, ?it/s]\u001b[A\n",
      "\n",
      "100%|██████████| 476/476 [00:00<00:00, 45176.58it/s]\n",
      "338it [5:02:16, 261.73s/it]"
     ]
    },
    {
     "name": "stdout",
     "output_type": "stream",
     "text": [
      "Rv0431\n"
     ]
    },
    {
     "name": "stderr",
     "output_type": "stream",
     "text": [
      "\n",
      "100%|██████████| 110/110 [00:00<?, ?it/s]A\n",
      "\n",
      "100%|██████████| 1/1 [00:00<?, ?it/s]\u001b[A\n",
      "\n",
      "100%|██████████| 110/110 [00:00<?, ?it/s]A\n",
      "\n",
      "100%|██████████| 62/62 [00:00<?, ?it/s][A\n",
      "\n",
      "100%|██████████| 1/1 [00:00<?, ?it/s]\u001b[A\n",
      "\n",
      "100%|██████████| 62/62 [00:00<00:00, 61901.18it/s]\n",
      "339it [5:02:36, 210.03s/it]"
     ]
    },
    {
     "name": "stdout",
     "output_type": "stream",
     "text": [
      "Rv0432\n"
     ]
    },
    {
     "name": "stderr",
     "output_type": "stream",
     "text": [
      "\n",
      "100%|██████████| 198/198 [00:00<?, ?it/s]A\n",
      "\n",
      "100%|██████████| 1/1 [00:00<?, ?it/s]\u001b[A\n",
      "\n",
      "100%|██████████| 198/198 [00:00<?, ?it/s]A\n",
      "\n",
      "100%|██████████| 123/123 [00:00<?, ?it/s]A\n",
      "\n",
      "100%|██████████| 1/1 [00:00<?, ?it/s]\u001b[A\n",
      "\n",
      "100%|██████████| 123/123 [00:00<?, ?it/s]A\n",
      "340it [5:03:01, 166.66s/it]"
     ]
    },
    {
     "name": "stdout",
     "output_type": "stream",
     "text": [
      "Rv0434\n"
     ]
    },
    {
     "name": "stderr",
     "output_type": "stream",
     "text": [
      "\n",
      "100%|██████████| 128/128 [00:00<00:00, 127887.31it/s]\n",
      "\n",
      "100%|██████████| 1/1 [00:00<?, ?it/s]\u001b[A\n",
      "\n",
      "100%|██████████| 128/128 [00:00<?, ?it/s]A\n",
      "\n",
      "100%|██████████| 81/81 [00:00<00:00, 80986.56it/s]\n",
      "\n",
      "100%|██████████| 1/1 [00:00<?, ?it/s]\u001b[A\n",
      "\n",
      "100%|██████████| 81/81 [00:00<?, ?it/s][A\n",
      "342it [5:03:29, 105.50s/it]"
     ]
    },
    {
     "name": "stdout",
     "output_type": "stream",
     "text": [
      "Rv0437c\n"
     ]
    },
    {
     "name": "stderr",
     "output_type": "stream",
     "text": [
      "\n",
      "100%|██████████| 211/211 [00:00<00:00, 105734.55it/s]\n",
      "\n",
      "100%|██████████| 1/1 [00:00<00:00, 999.60it/s]\n",
      "\n",
      "100%|██████████| 210/210 [00:00<00:00, 104870.08it/s]\n",
      "\n",
      "100%|██████████| 195/195 [00:00<00:00, 194967.65it/s]\n",
      "\n",
      "100%|██████████| 1/1 [00:00<00:00, 997.22it/s]\n",
      "\n",
      "100%|██████████| 195/195 [00:00<00:00, 97530.32it/s]\n",
      "345it [5:04:10, 63.06s/it] "
     ]
    },
    {
     "name": "stdout",
     "output_type": "stream",
     "text": [
      "Rv0439c\n"
     ]
    },
    {
     "name": "stderr",
     "output_type": "stream",
     "text": [
      "\n",
      "100%|██████████| 134/134 [00:00<00:00, 44545.99it/s]\n",
      "\n",
      "100%|██████████| 1/1 [00:00<?, ?it/s]\u001b[A\n",
      "\n",
      "100%|██████████| 134/134 [00:00<00:00, 67004.86it/s]\n",
      "\n",
      "100%|██████████| 126/126 [00:00<00:00, 63027.11it/s]\n",
      "\n",
      "100%|██████████| 1/1 [00:00<?, ?it/s]\u001b[A\n",
      "\n",
      "100%|██████████| 126/126 [00:00<00:00, 41999.71it/s]\n",
      "347it [5:06:56, 69.25s/it]"
     ]
    },
    {
     "name": "stdout",
     "output_type": "stream",
     "text": [
      "Rv0440\n"
     ]
    },
    {
     "name": "stderr",
     "output_type": "stream",
     "text": [
      "\n",
      "100%|██████████| 215/215 [00:00<00:00, 54124.92it/s]\n",
      "\n",
      "100%|██████████| 1/1 [00:00<?, ?it/s]\u001b[A\n",
      "\n",
      "100%|██████████| 215/215 [00:00<00:00, 47697.84it/s]\n",
      "\n",
      "100%|██████████| 496/496 [00:00<00:00, 47177.24it/s]\n",
      "\n",
      "100%|██████████| 1/1 [00:00<?, ?it/s]\u001b[A\n",
      "\n",
      "100%|██████████| 496/496 [00:00<00:00, 52133.19it/s]\n",
      "348it [5:13:48, 130.56s/it]"
     ]
    },
    {
     "name": "stdout",
     "output_type": "stream",
     "text": [
      "Rv0442c\n"
     ]
    },
    {
     "name": "stderr",
     "output_type": "stream",
     "text": [
      "\n",
      "100%|██████████| 40/40 [00:00<?, ?it/s][A\n",
      "\n",
      "100%|██████████| 1/1 [00:00<?, ?it/s]\u001b[A\n",
      "\n",
      "100%|██████████| 40/40 [00:00<00:00, 39936.24it/s]\n",
      "\n",
      "100%|██████████| 24/24 [00:00<00:00, 24036.13it/s]\n",
      "\n",
      "100%|██████████| 1/1 [00:00<?, ?it/s]\u001b[A\n",
      "\n",
      "100%|██████████| 24/24 [00:00<00:00, 23927.57it/s]\n",
      "350it [5:14:45, 96.08s/it] "
     ]
    },
    {
     "name": "stdout",
     "output_type": "stream",
     "text": [
      "Rv0443\n"
     ]
    },
    {
     "name": "stderr",
     "output_type": "stream",
     "text": [
      "\n",
      "100%|██████████| 204/204 [00:00<00:00, 67983.32it/s]\n",
      "\n",
      "100%|██████████| 1/1 [00:00<?, ?it/s]\u001b[A\n",
      "\n",
      "100%|██████████| 204/204 [00:00<00:00, 68021.15it/s]\n",
      "\n",
      "100%|██████████| 127/127 [00:00<00:00, 63519.75it/s]\n",
      "\n",
      "100%|██████████| 1/1 [00:00<?, ?it/s]\u001b[A\n",
      "\n",
      "100%|██████████| 127/127 [00:00<00:00, 63466.77it/s]\n",
      "351it [5:16:04, 92.67s/it]"
     ]
    },
    {
     "name": "stdout",
     "output_type": "stream",
     "text": [
      "Rv0444c\n"
     ]
    },
    {
     "name": "stderr",
     "output_type": "stream",
     "text": [
      "\n",
      "100%|██████████| 89/89 [00:00<00:00, 88647.13it/s]\n",
      "\n",
      "100%|██████████| 1/1 [00:00<?, ?it/s]\u001b[A\n",
      "\n",
      "100%|██████████| 89/89 [00:00<?, ?it/s][A\n",
      "\n",
      "100%|██████████| 52/52 [00:00<?, ?it/s][A\n",
      "\n",
      "100%|██████████| 1/1 [00:00<?, ?it/s]\u001b[A\n",
      "\n",
      "100%|██████████| 52/52 [00:00<?, ?it/s][A\n",
      "352it [5:16:26, 77.24s/it]"
     ]
    },
    {
     "name": "stdout",
     "output_type": "stream",
     "text": [
      "Rv0445c\n"
     ]
    },
    {
     "name": "stderr",
     "output_type": "stream",
     "text": [
      "\n",
      "100%|██████████| 151/151 [00:00<?, ?it/s]A\n",
      "\n",
      "100%|██████████| 1/1 [00:00<?, ?it/s]\u001b[A\n",
      "\n",
      "100%|██████████| 151/151 [00:00<00:00, 151227.29it/s]\n",
      "\n",
      "100%|██████████| 97/97 [00:00<?, ?it/s][A\n",
      "\n",
      "100%|██████████| 1/1 [00:00<00:00, 999.60it/s]\n",
      "\n",
      "100%|██████████| 97/97 [00:00<00:00, 97053.31it/s]\n",
      "353it [5:16:53, 65.37s/it]"
     ]
    },
    {
     "name": "stdout",
     "output_type": "stream",
     "text": [
      "Rv0448c\n"
     ]
    },
    {
     "name": "stderr",
     "output_type": "stream",
     "text": [
      "\n",
      "100%|██████████| 49/49 [00:00<?, ?it/s][A\n",
      "\n",
      "100%|██████████| 1/1 [00:00<?, ?it/s]\u001b[A\n",
      "\n",
      "100%|██████████| 49/49 [00:00<00:00, 49073.76it/s]\n",
      "\n",
      "100%|██████████| 27/27 [00:00<?, ?it/s][A\n",
      "\n",
      "100%|██████████| 1/1 [00:00<?, ?it/s]\u001b[A\n",
      "\n",
      "100%|██████████| 27/27 [00:00<?, ?it/s][A\n",
      "356it [5:17:17, 36.40s/it]"
     ]
    },
    {
     "name": "stdout",
     "output_type": "stream",
     "text": [
      "Rv0449c\n"
     ]
    },
    {
     "name": "stderr",
     "output_type": "stream",
     "text": [
      "\n",
      "100%|██████████| 71/71 [00:00<?, ?it/s][A\n",
      "\n",
      "100%|██████████| 1/1 [00:00<?, ?it/s]\u001b[A\n",
      "\n",
      "100%|██████████| 71/71 [00:00<?, ?it/s][A\n",
      "\n",
      "100%|██████████| 100/100 [00:00<?, ?it/s]A\n",
      "\n",
      "100%|██████████| 1/1 [00:00<?, ?it/s]\u001b[A\n",
      "\n",
      "100%|██████████| 99/99 [00:00<?, ?it/s][A\n",
      "357it [5:17:43, 34.43s/it]"
     ]
    },
    {
     "name": "stdout",
     "output_type": "stream",
     "text": [
      "Rv0451c\n"
     ]
    },
    {
     "name": "stderr",
     "output_type": "stream",
     "text": [
      "\n",
      "100%|██████████| 106/106 [00:00<00:00, 94837.08it/s]\n",
      "\n",
      "100%|██████████| 1/1 [00:00<?, ?it/s]\u001b[A\n",
      "\n",
      "100%|██████████| 106/106 [00:00<00:00, 52940.73it/s]\n",
      "\n",
      "100%|██████████| 61/61 [00:00<00:00, 61033.53it/s]\n",
      "\n",
      "100%|██████████| 1/1 [00:00<?, ?it/s]\u001b[A\n",
      "\n",
      "100%|██████████| 61/61 [00:00<00:00, 60989.88it/s]\n",
      "359it [5:18:52, 34.44s/it]"
     ]
    },
    {
     "name": "stdout",
     "output_type": "stream",
     "text": [
      "Rv0452\n"
     ]
    },
    {
     "name": "stderr",
     "output_type": "stream",
     "text": [
      "\n",
      "100%|██████████| 99/99 [00:00<00:00, 98936.41it/s]\n",
      "\n",
      "100%|██████████| 1/1 [00:00<?, ?it/s]\u001b[A\n",
      "\n",
      "100%|██████████| 99/99 [00:00<00:00, 99007.18it/s]\n",
      "\n",
      "100%|██████████| 62/62 [00:00<?, ?it/s][A\n",
      "\n",
      "100%|██████████| 1/1 [00:00<?, ?it/s]\u001b[A\n",
      "\n",
      "100%|██████████| 62/62 [00:00<?, ?it/s][A\n",
      "360it [5:20:11, 43.60s/it]"
     ]
    },
    {
     "name": "stdout",
     "output_type": "stream",
     "text": [
      "Rv0453\n"
     ]
    },
    {
     "name": "stderr",
     "output_type": "stream",
     "text": [
      "361it [5:20:25, 36.86s/it]"
     ]
    },
    {
     "name": "stdout",
     "output_type": "stream",
     "text": [
      "Rv0455c\n"
     ]
    },
    {
     "name": "stderr",
     "output_type": "stream",
     "text": [
      "\n",
      "100%|██████████| 114/114 [00:00<?, ?it/s]A\n",
      "\n",
      "100%|██████████| 1/1 [00:00<?, ?it/s]\u001b[A\n",
      "\n",
      "100%|██████████| 114/114 [00:00<00:00, 114008.26it/s]\n",
      "\n",
      "100%|██████████| 68/68 [00:00<00:00, 67762.57it/s]\n",
      "\n",
      "100%|██████████| 1/1 [00:00<?, ?it/s]\u001b[A\n",
      "\n",
      "100%|██████████| 68/68 [00:00<?, ?it/s][A\n",
      "362it [5:20:52, 34.38s/it]"
     ]
    },
    {
     "name": "stdout",
     "output_type": "stream",
     "text": [
      "Rv0456c\n"
     ]
    },
    {
     "name": "stderr",
     "output_type": "stream",
     "text": [
      "\n",
      "100%|██████████| 116/116 [00:00<00:00, 57824.97it/s]\n",
      "\n",
      "100%|██████████| 1/1 [00:00<?, ?it/s]\u001b[A\n",
      "\n",
      "100%|██████████| 116/116 [00:00<00:00, 53518.78it/s]\n",
      "\n",
      "100%|██████████| 73/73 [00:00<00:00, 72953.11it/s]\n",
      "\n",
      "100%|██████████| 1/1 [00:00<?, ?it/s]\u001b[A\n",
      "\n",
      "100%|██████████| 73/73 [00:00<00:00, 73319.97it/s]\n",
      "363it [5:22:47, 55.19s/it]"
     ]
    },
    {
     "name": "stdout",
     "output_type": "stream",
     "text": [
      "Rv0456B\n"
     ]
    },
    {
     "name": "stderr",
     "output_type": "stream",
     "text": [
      "365it [5:22:59, 34.46s/it]"
     ]
    },
    {
     "name": "stdout",
     "output_type": "stream",
     "text": [
      "Rv0457c\n"
     ]
    },
    {
     "name": "stderr",
     "output_type": "stream",
     "text": [
      "\n",
      "100%|██████████| 204/204 [00:00<00:00, 204209.55it/s]\n",
      "\n",
      "100%|██████████| 1/1 [00:00<00:00, 1001.51it/s]\n",
      "\n",
      "100%|██████████| 204/204 [00:00<00:00, 204112.12it/s]\n",
      "\n",
      "100%|██████████| 154/154 [00:00<?, ?it/s]A\n",
      "\n",
      "100%|██████████| 1/1 [00:00<?, ?it/s]\u001b[A\n",
      "\n",
      "100%|██████████| 154/154 [00:00<?, ?it/s]A\n",
      "366it [5:23:36, 34.98s/it]"
     ]
    },
    {
     "name": "stdout",
     "output_type": "stream",
     "text": [
      "Rv0458\n"
     ]
    },
    {
     "name": "stderr",
     "output_type": "stream",
     "text": [
      "\n",
      "100%|██████████| 207/207 [00:00<00:00, 206277.25it/s]\n",
      "\n",
      "100%|██████████| 1/1 [00:00<?, ?it/s]\u001b[A\n",
      "\n",
      "100%|██████████| 206/206 [00:00<00:00, 206211.60it/s]\n",
      "\n",
      "100%|██████████| 479/479 [00:00<00:00, 159437.47it/s]\n",
      "\n",
      "100%|██████████| 1/1 [00:00<?, ?it/s]\u001b[A\n",
      "\n",
      "100%|██████████| 479/479 [00:00<00:00, 159640.18it/s]\n",
      "367it [5:24:39, 41.97s/it]"
     ]
    },
    {
     "name": "stdout",
     "output_type": "stream",
     "text": [
      "Rv0460\n"
     ]
    },
    {
     "name": "stderr",
     "output_type": "stream",
     "text": [
      "\n",
      "100%|██████████| 124/124 [00:00<00:00, 124097.76it/s]\n",
      "\n",
      "100%|██████████| 1/1 [00:00<?, ?it/s]\u001b[A\n",
      "\n",
      "100%|██████████| 124/124 [00:00<00:00, 123596.41it/s]\n",
      "\n",
      "100%|██████████| 71/71 [00:00<?, ?it/s][A\n",
      "\n",
      "100%|██████████| 1/1 [00:00<?, ?it/s]\u001b[A\n",
      "\n",
      "100%|██████████| 71/71 [00:00<?, ?it/s][A\n",
      "369it [5:25:00, 28.85s/it]"
     ]
    },
    {
     "name": "stdout",
     "output_type": "stream",
     "text": [
      "Rv0461\n"
     ]
    },
    {
     "name": "stderr",
     "output_type": "stream",
     "text": [
      "\n",
      "100%|██████████| 45/45 [00:00<?, ?it/s][A\n",
      "\n",
      "100%|██████████| 1/1 [00:00<?, ?it/s]\u001b[A\n",
      "\n",
      "100%|██████████| 45/45 [00:00<?, ?it/s][A\n",
      "\n",
      "100%|██████████| 28/28 [00:00<?, ?it/s][A\n",
      "\n",
      "100%|██████████| 1/1 [00:00<?, ?it/s]\u001b[A\n",
      "\n",
      "100%|██████████| 28/28 [00:00<?, ?it/s][A\n",
      "370it [5:25:16, 26.00s/it]"
     ]
    },
    {
     "name": "stdout",
     "output_type": "stream",
     "text": [
      "Rv0462\n"
     ]
    },
    {
     "name": "stderr",
     "output_type": "stream",
     "text": [
      "\n",
      "100%|██████████| 208/208 [00:00<00:00, 207915.93it/s]\n",
      "\n",
      "100%|██████████| 1/1 [00:00<?, ?it/s]\u001b[A\n",
      "\n",
      "100%|██████████| 208/208 [00:00<00:00, 208163.98it/s]\n",
      "\n",
      "100%|██████████| 494/494 [00:00<00:00, 164691.69it/s]\n",
      "\n",
      "100%|██████████| 1/1 [00:00<?, ?it/s]\u001b[A\n",
      "\n",
      "100%|██████████| 494/494 [00:00<00:00, 123405.97it/s]\n",
      "371it [5:26:01, 30.74s/it]"
     ]
    },
    {
     "name": "stdout",
     "output_type": "stream",
     "text": [
      "Rv0465c\n"
     ]
    },
    {
     "name": "stderr",
     "output_type": "stream",
     "text": [
      "\n",
      "100%|██████████| 210/210 [00:00<00:00, 104995.09it/s]\n",
      "\n",
      "100%|██████████| 1/1 [00:00<?, ?it/s]\u001b[A\n",
      "\n",
      "100%|██████████| 210/210 [00:00<00:00, 69932.82it/s]\n",
      "\n",
      "100%|██████████| 226/226 [00:00<00:00, 113116.07it/s]\n",
      "\n",
      "100%|██████████| 1/1 [00:00<00:00, 1000.07it/s]\n",
      "\n",
      "100%|██████████| 226/226 [00:00<00:00, 75374.74it/s]\n",
      "374it [5:27:05, 25.89s/it]"
     ]
    },
    {
     "name": "stdout",
     "output_type": "stream",
     "text": [
      "Rv0466\n"
     ]
    },
    {
     "name": "stderr",
     "output_type": "stream",
     "text": [
      "\n",
      "100%|██████████| 210/210 [00:00<00:00, 105296.33it/s]\n",
      "\n",
      "100%|██████████| 1/1 [00:00<?, ?it/s]\u001b[A\n",
      "\n",
      "100%|██████████| 210/210 [00:00<00:00, 105258.59it/s]\n",
      "\n",
      "100%|██████████| 132/132 [00:00<00:00, 66083.57it/s]\n",
      "\n",
      "100%|██████████| 1/1 [00:00<?, ?it/s]\u001b[A\n",
      "\n",
      "100%|██████████| 132/132 [00:00<00:00, 66028.40it/s]\n",
      "375it [5:27:59, 31.43s/it]"
     ]
    },
    {
     "name": "stdout",
     "output_type": "stream",
     "text": [
      "Rv0467\n"
     ]
    },
    {
     "name": "stderr",
     "output_type": "stream",
     "text": [
      "\n",
      "100%|██████████| 211/211 [00:00<00:00, 70321.66it/s]\n",
      "\n",
      "100%|██████████| 1/1 [00:00<?, ?it/s]\u001b[A\n",
      "\n",
      "100%|██████████| 211/211 [00:00<00:00, 52659.65it/s]\n",
      "\n",
      "100%|██████████| 498/498 [00:00<00:00, 55293.40it/s]\n",
      "\n",
      "100%|██████████| 1/1 [00:00<00:00, 999.12it/s]\n",
      "\n",
      "100%|██████████| 498/498 [00:00<00:00, 55349.07it/s]\n",
      "376it [5:32:08, 79.03s/it]"
     ]
    },
    {
     "name": "stdout",
     "output_type": "stream",
     "text": [
      "Rv0468\n"
     ]
    },
    {
     "name": "stderr",
     "output_type": "stream",
     "text": [
      "\n",
      "100%|██████████| 209/209 [00:00<00:00, 208666.87it/s]\n",
      "\n",
      "100%|██████████| 1/1 [00:00<?, ?it/s]\u001b[A\n",
      "\n",
      "100%|██████████| 209/209 [00:00<00:00, 209164.77it/s]\n",
      "\n",
      "100%|██████████| 408/408 [00:00<00:00, 157518.04it/s]\n",
      "\n",
      "100%|██████████| 1/1 [00:00<?, ?it/s]\u001b[A\n",
      "\n",
      "100%|██████████| 408/408 [00:00<00:00, 204112.12it/s]\n",
      "377it [5:33:12, 75.35s/it]"
     ]
    },
    {
     "name": "stdout",
     "output_type": "stream",
     "text": [
      "Rv0469\n"
     ]
    },
    {
     "name": "stderr",
     "output_type": "stream",
     "text": [
      "\n",
      "100%|██████████| 133/133 [00:00<00:00, 132882.90it/s]\n",
      "\n",
      "100%|██████████| 1/1 [00:00<?, ?it/s]\u001b[A\n",
      "\n",
      "100%|██████████| 133/133 [00:00<00:00, 97269.82it/s]\n",
      "\n",
      "100%|██████████| 84/84 [00:00<?, ?it/s][A\n",
      "\n",
      "100%|██████████| 1/1 [00:00<?, ?it/s]\u001b[A\n",
      "\n",
      "100%|██████████| 84/84 [00:00<?, ?it/s][A\n",
      "378it [5:33:58, 67.96s/it]"
     ]
    },
    {
     "name": "stdout",
     "output_type": "stream",
     "text": [
      "Rv0470c\n"
     ]
    },
    {
     "name": "stderr",
     "output_type": "stream",
     "text": [
      "\n",
      "100%|██████████| 118/118 [00:00<00:00, 117615.94it/s]\n",
      "\n",
      "100%|██████████| 1/1 [00:00<?, ?it/s]\u001b[A\n",
      "\n",
      "100%|██████████| 118/118 [00:00<00:00, 118177.62it/s]\n",
      "\n",
      "100%|██████████| 73/73 [00:00<?, ?it/s][A\n",
      "\n",
      "100%|██████████| 1/1 [00:00<?, ?it/s]\u001b[A\n",
      "\n",
      "100%|██████████| 73/73 [00:00<00:00, 73337.53it/s]\n",
      "379it [5:34:25, 57.15s/it]"
     ]
    },
    {
     "name": "stdout",
     "output_type": "stream",
     "text": [
      "Rv0472c\n"
     ]
    },
    {
     "name": "stderr",
     "output_type": "stream",
     "text": [
      "\n",
      "100%|██████████| 208/208 [00:00<00:00, 103858.96it/s]\n",
      "\n",
      "100%|██████████| 1/1 [00:00<?, ?it/s]\u001b[A\n",
      "\n",
      "100%|██████████| 208/208 [00:00<00:00, 69376.96it/s]\n",
      "\n",
      "100%|██████████| 131/131 [00:00<?, ?it/s]A\n",
      "\n",
      "100%|██████████| 1/1 [00:00<?, ?it/s]\u001b[A\n",
      "\n",
      "100%|██████████| 131/131 [00:00<00:00, 130947.05it/s]\n",
      "382it [5:35:21, 36.63s/it]"
     ]
    },
    {
     "name": "stdout",
     "output_type": "stream",
     "text": [
      "Rv0473\n"
     ]
    },
    {
     "name": "stderr",
     "output_type": "stream",
     "text": [
      "\n",
      "100%|██████████| 207/207 [00:00<00:00, 137485.50it/s]\n",
      "\n",
      "100%|██████████| 1/1 [00:00<?, ?it/s]\u001b[A\n",
      "\n",
      "100%|██████████| 207/207 [00:00<00:00, 103458.17it/s]\n",
      "\n",
      "100%|██████████| 150/150 [00:00<00:00, 75139.81it/s]\n",
      "\n",
      "100%|██████████| 1/1 [00:00<?, ?it/s]\u001b[A\n",
      "\n",
      "100%|██████████| 150/150 [00:00<00:00, 75166.74it/s]\n",
      "383it [5:36:13, 39.77s/it]"
     ]
    },
    {
     "name": "stdout",
     "output_type": "stream",
     "text": [
      "Rv0474\n"
     ]
    },
    {
     "name": "stderr",
     "output_type": "stream",
     "text": [
      "\n",
      "100%|██████████| 209/209 [00:00<00:00, 104321.02it/s]\n",
      "\n",
      "100%|██████████| 1/1 [00:00<?, ?it/s]\u001b[A\n",
      "\n",
      "100%|██████████| 209/209 [00:00<00:00, 104482.66it/s]\n",
      "\n",
      "100%|██████████| 323/323 [00:00<00:00, 107785.84it/s]\n",
      "\n",
      "100%|██████████| 1/1 [00:00<00:00, 1001.27it/s]\n",
      "\n",
      "100%|██████████| 323/323 [00:00<00:00, 107700.15it/s]\n",
      "384it [5:36:56, 40.49s/it]"
     ]
    },
    {
     "name": "stdout",
     "output_type": "stream",
     "text": [
      "Rv0475\n"
     ]
    },
    {
     "name": "stderr",
     "output_type": "stream",
     "text": [
      "\n",
      "100%|██████████| 200/200 [00:00<00:00, 56864.21it/s]\n",
      "\n",
      "100%|██████████| 1/1 [00:00<00:00, 998.41it/s]\n",
      "\n",
      "100%|██████████| 200/200 [00:00<00:00, 39999.08it/s]\n",
      "\n",
      "100%|██████████| 125/125 [00:00<00:00, 31239.23it/s]\n",
      "\n",
      "100%|██████████| 1/1 [00:00<?, ?it/s]\u001b[A\n",
      "\n",
      "100%|██████████| 125/125 [00:00<00:00, 62422.67it/s]\n",
      "385it [5:39:35, 69.06s/it]"
     ]
    },
    {
     "name": "stdout",
     "output_type": "stream",
     "text": [
      "Rv0476\n"
     ]
    },
    {
     "name": "stderr",
     "output_type": "stream",
     "text": [
      "\n",
      "100%|██████████| 198/198 [00:00<00:00, 198061.58it/s]\n",
      "\n",
      "100%|██████████| 1/1 [00:00<?, ?it/s]\u001b[A\n",
      "\n",
      "100%|██████████| 198/198 [00:00<00:00, 198061.58it/s]\n",
      "\n",
      "100%|██████████| 121/121 [00:00<?, ?it/s]A\n",
      "\n",
      "100%|██████████| 1/1 [00:00<00:00, 1006.55it/s]\n",
      "\n",
      "100%|██████████| 121/121 [00:00<00:00, 97410.90it/s]\n",
      "386it [5:40:11, 60.69s/it]"
     ]
    },
    {
     "name": "stdout",
     "output_type": "stream",
     "text": [
      "Rv0480c\n"
     ]
    },
    {
     "name": "stderr",
     "output_type": "stream",
     "text": [
      "\n",
      "100%|██████████| 206/206 [00:00<00:00, 103007.47it/s]\n",
      "\n",
      "100%|██████████| 1/1 [00:00<?, ?it/s]\u001b[A\n",
      "\n",
      "100%|██████████| 206/206 [00:00<00:00, 102884.81it/s]\n",
      "\n",
      "100%|██████████| 136/136 [00:00<00:00, 135880.26it/s]\n",
      "\n",
      "100%|██████████| 1/1 [00:00<?, ?it/s]\u001b[A\n",
      "\n",
      "100%|██████████| 136/136 [00:00<00:00, 67972.51it/s]\n",
      "390it [5:41:14, 33.88s/it]"
     ]
    },
    {
     "name": "stdout",
     "output_type": "stream",
     "text": [
      "Rv0483\n"
     ]
    },
    {
     "name": "stderr",
     "output_type": "stream",
     "text": [
      "\n",
      "100%|██████████| 201/201 [00:00<00:00, 201881.01it/s]\n",
      "\n",
      "100%|██████████| 1/1 [00:00<?, ?it/s]\u001b[A\n",
      "\n",
      "100%|██████████| 201/201 [00:00<00:00, 200250.62it/s]\n",
      "\n",
      "100%|██████████| 151/151 [00:00<00:00, 150544.31it/s]\n",
      "\n",
      "100%|██████████| 1/1 [00:00<?, ?it/s]\u001b[A\n",
      "\n",
      "100%|██████████| 151/151 [00:00<00:00, 150974.95it/s]\n",
      "393it [5:41:41, 24.25s/it]"
     ]
    },
    {
     "name": "stdout",
     "output_type": "stream",
     "text": [
      "Rv0484c\n"
     ]
    },
    {
     "name": "stderr",
     "output_type": "stream",
     "text": [
      "\n",
      "100%|██████████| 213/213 [00:00<00:00, 70931.86it/s]\n",
      "\n",
      "100%|██████████| 1/1 [00:00<?, ?it/s]\u001b[A\n",
      "\n",
      "100%|██████████| 213/213 [00:00<00:00, 71027.73it/s]\n",
      "\n",
      "100%|██████████| 388/388 [00:00<00:00, 77657.47it/s]\n",
      "\n",
      "100%|██████████| 1/1 [00:00<?, ?it/s]\u001b[A\n",
      "\n",
      "100%|██████████| 388/388 [00:00<00:00, 77616.73it/s]\n",
      "394it [5:44:21, 45.53s/it]"
     ]
    },
    {
     "name": "stdout",
     "output_type": "stream",
     "text": [
      "Rv0485\n"
     ]
    },
    {
     "name": "stderr",
     "output_type": "stream",
     "text": [
      "\n",
      "100%|██████████| 198/198 [00:00<00:00, 98806.92it/s]\n",
      "\n",
      "100%|██████████| 1/1 [00:00<?, ?it/s]\u001b[A\n",
      "\n",
      "100%|██████████| 198/198 [00:00<00:00, 99018.98it/s]\n",
      "\n",
      "100%|██████████| 124/124 [00:00<00:00, 123890.83it/s]\n",
      "\n",
      "100%|██████████| 1/1 [00:00<?, ?it/s]\u001b[A\n",
      "\n",
      "100%|██████████| 124/124 [00:00<00:00, 62071.09it/s]\n",
      "395it [5:45:23, 48.54s/it]"
     ]
    },
    {
     "name": "stdout",
     "output_type": "stream",
     "text": [
      "Rv0486\n"
     ]
    },
    {
     "name": "stderr",
     "output_type": "stream",
     "text": [
      "\n",
      "100%|██████████| 209/209 [00:00<00:00, 208666.87it/s]\n",
      "\n",
      "100%|██████████| 1/1 [00:00<?, ?it/s]\u001b[A\n",
      "\n",
      "100%|██████████| 209/209 [00:00<00:00, 208915.52it/s]\n",
      "\n",
      "100%|██████████| 460/460 [00:00<00:00, 229305.90it/s]\n",
      "\n",
      "100%|██████████| 1/1 [00:00<?, ?it/s]\u001b[A\n",
      "\n",
      "100%|██████████| 460/460 [00:00<00:00, 231118.81it/s]\n",
      "396it [5:46:04, 46.89s/it]"
     ]
    },
    {
     "name": "stdout",
     "output_type": "stream",
     "text": [
      "Rv0488\n"
     ]
    },
    {
     "name": "stderr",
     "output_type": "stream",
     "text": [
      "398it [5:46:16, 31.73s/it]"
     ]
    },
    {
     "name": "stdout",
     "output_type": "stream",
     "text": [
      "Rv0489\n"
     ]
    },
    {
     "name": "stderr",
     "output_type": "stream",
     "text": [
      "\n",
      "100%|██████████| 215/215 [00:00<00:00, 107469.36it/s]\n",
      "\n",
      "100%|██████████| 1/1 [00:00<?, ?it/s]\u001b[A\n",
      "\n",
      "100%|██████████| 215/215 [00:00<00:00, 107405.35it/s]\n",
      "\n",
      "100%|██████████| 500/500 [00:00<00:00, 100059.74it/s]\n",
      "\n",
      "100%|██████████| 1/1 [00:00<?, ?it/s]\u001b[A\n",
      "\n",
      "100%|██████████| 500/500 [00:00<00:00, 99945.29it/s]\n",
      "399it [5:49:44, 68.60s/it]"
     ]
    },
    {
     "name": "stdout",
     "output_type": "stream",
     "text": [
      "Rv0490\n"
     ]
    },
    {
     "name": "stderr",
     "output_type": "stream",
     "text": [
      "\n",
      "100%|██████████| 210/210 [00:00<00:00, 105132.95it/s]\n",
      "\n",
      "100%|██████████| 1/1 [00:00<?, ?it/s]\u001b[A\n",
      "\n",
      "100%|██████████| 210/210 [00:00<00:00, 104845.12it/s]\n",
      "\n",
      "100%|██████████| 184/184 [00:00<00:00, 61430.54it/s]\n",
      "\n",
      "100%|██████████| 1/1 [00:00<?, ?it/s]\u001b[A\n",
      "\n",
      "100%|██████████| 184/184 [00:00<00:00, 86084.99it/s]\n",
      "400it [5:50:43, 66.35s/it]"
     ]
    },
    {
     "name": "stdout",
     "output_type": "stream",
     "text": [
      "Rv0491\n"
     ]
    },
    {
     "name": "stderr",
     "output_type": "stream",
     "text": [
      "\n",
      "100%|██████████| 214/214 [00:00<00:00, 71349.85it/s]\n",
      "\n",
      "100%|██████████| 1/1 [00:00<?, ?it/s]\u001b[A\n",
      "\n",
      "100%|██████████| 212/212 [00:00<00:00, 70688.64it/s]\n",
      "\n",
      "100%|██████████| 500/500 [00:00<00:00, 55533.10it/s]\n",
      "\n",
      "100%|██████████| 1/1 [00:00<?, ?it/s]\u001b[A\n",
      "\n",
      "100%|██████████| 499/499 [00:00<00:00, 55451.40it/s]\n",
      "401it [5:54:56, 112.82s/it]"
     ]
    },
    {
     "name": "stdout",
     "output_type": "stream",
     "text": [
      "Rv0495c\n"
     ]
    },
    {
     "name": "stderr",
     "output_type": "stream",
     "text": [
      "\n",
      "100%|██████████| 213/213 [00:00<00:00, 213015.44it/s]\n",
      "\n",
      "100%|██████████| 1/1 [00:00<?, ?it/s]\u001b[A\n",
      "\n",
      "100%|██████████| 213/213 [00:00<00:00, 213015.44it/s]\n",
      "\n",
      "100%|██████████| 220/220 [00:00<00:00, 220489.10it/s]\n",
      "\n",
      "100%|██████████| 1/1 [00:00<?, ?it/s]\u001b[A\n",
      "\n",
      "100%|██████████| 220/220 [00:00<00:00, 109942.44it/s]\n",
      "406it [5:55:32, 45.22s/it] "
     ]
    },
    {
     "name": "stdout",
     "output_type": "stream",
     "text": [
      "Rv0496\n"
     ]
    },
    {
     "name": "stderr",
     "output_type": "stream",
     "text": [
      "\n",
      "100%|██████████| 212/212 [00:00<00:00, 211762.91it/s]\n",
      "\n",
      "100%|██████████| 1/1 [00:00<?, ?it/s]\u001b[A\n",
      "\n",
      "100%|██████████| 212/212 [00:00<00:00, 212471.31it/s]\n",
      "\n",
      "100%|██████████| 434/434 [00:00<00:00, 144390.25it/s]\n",
      "\n",
      "100%|██████████| 1/1 [00:00<?, ?it/s]\u001b[A\n",
      "\n",
      "100%|██████████| 434/434 [00:00<00:00, 144310.13it/s]\n",
      "407it [5:56:34, 47.83s/it]"
     ]
    },
    {
     "name": "stdout",
     "output_type": "stream",
     "text": [
      "Rv0500A\n"
     ]
    },
    {
     "name": "stderr",
     "output_type": "stream",
     "text": [
      "\n",
      "100%|██████████| 215/215 [00:00<00:00, 107674.67it/s]\n",
      "\n",
      "100%|██████████| 1/1 [00:00<?, ?it/s]\u001b[A\n",
      "\n",
      "100%|██████████| 215/215 [00:00<00:00, 106946.79it/s]\n",
      "\n",
      "100%|██████████| 497/497 [00:00<00:00, 99137.73it/s]\n",
      "\n",
      "100%|██████████| 1/1 [00:00<00:00, 1006.79it/s]\n",
      "\n",
      "100%|██████████| 497/497 [00:00<00:00, 99445.14it/s]\n",
      "412it [5:59:04, 38.49s/it]"
     ]
    },
    {
     "name": "stdout",
     "output_type": "stream",
     "text": [
      "Rv0501\n"
     ]
    },
    {
     "name": "stderr",
     "output_type": "stream",
     "text": [
      "\n",
      "100%|██████████| 215/215 [00:00<00:00, 53721.87it/s]\n",
      "\n",
      "100%|██████████| 1/1 [00:00<?, ?it/s]\u001b[A\n",
      "\n",
      "100%|██████████| 215/215 [00:00<00:00, 43013.37it/s]\n",
      "\n",
      "100%|██████████| 139/139 [00:00<00:00, 67532.52it/s]\n",
      "\n",
      "100%|██████████| 1/1 [00:00<00:00, 1003.18it/s]\n",
      "\n",
      "100%|██████████| 139/139 [00:00<00:00, 46145.98it/s]\n",
      "413it [6:01:54, 55.71s/it]"
     ]
    },
    {
     "name": "stdout",
     "output_type": "stream",
     "text": [
      "Rv0504c\n"
     ]
    },
    {
     "name": "stderr",
     "output_type": "stream",
     "text": [
      "\n",
      "100%|██████████| 205/205 [00:00<00:00, 102385.37it/s]\n",
      "\n",
      "100%|██████████| 1/1 [00:00<00:00, 1000.07it/s]\n",
      "\n",
      "100%|██████████| 204/204 [00:00<00:00, 68031.96it/s]\n",
      "\n",
      "100%|██████████| 128/128 [00:00<00:00, 128039.81it/s]\n",
      "\n",
      "100%|██████████| 1/1 [00:00<?, ?it/s]\u001b[A\n",
      "\n",
      "100%|██████████| 127/127 [00:00<00:00, 126978.93it/s]\n",
      "416it [6:02:48, 42.14s/it]"
     ]
    },
    {
     "name": "stdout",
     "output_type": "stream",
     "text": [
      "Rv0505c\n"
     ]
    },
    {
     "name": "stderr",
     "output_type": "stream",
     "text": [
      "\n",
      "100%|██████████| 213/213 [00:00<00:00, 106495.02it/s]\n",
      "\n",
      "100%|██████████| 1/1 [00:00<?, ?it/s]\u001b[A\n",
      "\n",
      "100%|██████████| 213/213 [00:00<00:00, 70914.97it/s]\n",
      "\n",
      "100%|██████████| 460/460 [00:00<00:00, 76614.38it/s]\n",
      "\n",
      "100%|██████████| 1/1 [00:00<?, ?it/s]\u001b[A\n",
      "\n",
      "100%|██████████| 459/459 [00:00<00:00, 76472.12it/s]\n",
      "417it [6:05:16, 57.52s/it]"
     ]
    },
    {
     "name": "stdout",
     "output_type": "stream",
     "text": [
      "Rv0506\n"
     ]
    },
    {
     "name": "stderr",
     "output_type": "stream",
     "text": [
      "\n",
      "100%|██████████| 32/32 [00:00<?, ?it/s][A\n",
      "\n",
      "100%|██████████| 1/1 [00:00<?, ?it/s]\u001b[A\n",
      "\n",
      "100%|██████████| 32/32 [00:00<?, ?it/s][A\n",
      "\n",
      "100%|██████████| 18/18 [00:00<?, ?it/s][A\n",
      "\n",
      "100%|██████████| 1/1 [00:00<?, ?it/s]\u001b[A\n",
      "\n",
      "100%|██████████| 18/18 [00:00<?, ?it/s][A\n",
      "418it [6:05:49, 53.39s/it]"
     ]
    },
    {
     "name": "stdout",
     "output_type": "stream",
     "text": [
      "Rv0509\n"
     ]
    },
    {
     "name": "stderr",
     "output_type": "stream",
     "text": [
      "\n",
      "100%|██████████| 212/212 [00:00<00:00, 211762.91it/s]\n",
      "\n",
      "100%|██████████| 1/1 [00:00<?, ?it/s]\u001b[A\n",
      "\n",
      "100%|██████████| 212/212 [00:00<?, ?it/s]A\n",
      "\n",
      "100%|██████████| 210/210 [00:00<00:00, 210165.55it/s]\n",
      "\n",
      "100%|██████████| 1/1 [00:00<?, ?it/s]\u001b[A\n",
      "\n",
      "100%|██████████| 210/210 [00:00<00:00, 210466.87it/s]\n",
      "421it [6:06:19, 34.90s/it]"
     ]
    },
    {
     "name": "stdout",
     "output_type": "stream",
     "text": [
      "Rv0511\n"
     ]
    },
    {
     "name": "stderr",
     "output_type": "stream",
     "text": [
      "\n",
      "100%|██████████| 215/215 [00:00<00:00, 214657.31it/s]\n",
      "\n",
      "100%|██████████| 1/1 [00:00<?, ?it/s]\u001b[A\n",
      "\n",
      "100%|██████████| 215/215 [00:00<?, ?it/s]A\n",
      "\n",
      "100%|██████████| 358/358 [00:00<00:00, 358795.90it/s]\n",
      "\n",
      "100%|██████████| 1/1 [00:00<?, ?it/s]\u001b[A\n",
      "\n",
      "100%|██████████| 358/358 [00:00<00:00, 357855.30it/s]\n",
      "423it [6:06:40, 27.98s/it]"
     ]
    },
    {
     "name": "stdout",
     "output_type": "stream",
     "text": [
      "Rv0512\n"
     ]
    },
    {
     "name": "stderr",
     "output_type": "stream",
     "text": [
      "\n",
      "100%|██████████| 214/214 [00:00<00:00, 213862.53it/s]\n",
      "\n",
      "100%|██████████| 1/1 [00:00<?, ?it/s]\u001b[A\n",
      "\n",
      "100%|██████████| 214/214 [00:00<00:00, 214219.82it/s]\n",
      "\n",
      "100%|██████████| 500/500 [00:00<00:00, 124637.58it/s]\n",
      "\n",
      "100%|██████████| 1/1 [00:00<?, ?it/s]\u001b[A\n",
      "\n",
      "100%|██████████| 500/500 [00:00<00:00, 124964.37it/s]\n",
      "424it [6:08:02, 37.08s/it]"
     ]
    },
    {
     "name": "stdout",
     "output_type": "stream",
     "text": [
      "Rv0515\n"
     ]
    },
    {
     "name": "stderr",
     "output_type": "stream",
     "text": [
      "\n",
      "100%|██████████| 83/83 [00:00<?, ?it/s][A\n",
      "\n",
      "100%|██████████| 1/1 [00:00<?, ?it/s]\u001b[A\n",
      "\n",
      "100%|██████████| 81/81 [00:00<00:00, 80967.26it/s]\n",
      "\n",
      "100%|██████████| 49/49 [00:00<?, ?it/s][A\n",
      "\n",
      "100%|██████████| 1/1 [00:00<?, ?it/s]\u001b[A\n",
      "\n",
      "100%|██████████| 49/49 [00:00<?, ?it/s][A\n",
      "427it [6:08:19, 23.80s/it]"
     ]
    },
    {
     "name": "stdout",
     "output_type": "stream",
     "text": [
      "Rv0516c\n"
     ]
    },
    {
     "name": "stderr",
     "output_type": "stream",
     "text": [
      "\n",
      "100%|██████████| 17/17 [00:00<?, ?it/s][A\n",
      "\n",
      "100%|██████████| 1/1 [00:00<?, ?it/s]\u001b[A\n",
      "\n",
      "100%|██████████| 17/17 [00:00<?, ?it/s][A\n",
      "428it [6:08:43, 23.94s/it]"
     ]
    },
    {
     "name": "stdout",
     "output_type": "stream",
     "text": [
      "Rv0517\n"
     ]
    },
    {
     "name": "stderr",
     "output_type": "stream",
     "text": [
      "\n",
      "100%|██████████| 194/194 [00:00<00:00, 64440.88it/s]\n",
      "\n",
      "100%|██████████| 1/1 [00:00<?, ?it/s]\u001b[A\n",
      "\n",
      "100%|██████████| 194/194 [00:00<00:00, 96995.47it/s]\n",
      "\n",
      "100%|██████████| 119/119 [00:00<00:00, 118275.40it/s]\n",
      "\n",
      "100%|██████████| 1/1 [00:00<00:00, 1001.03it/s]\n",
      "\n",
      "100%|██████████| 119/119 [00:00<00:00, 118697.31it/s]\n",
      "429it [6:09:50, 32.26s/it]"
     ]
    },
    {
     "name": "stdout",
     "output_type": "stream",
     "text": [
      "Rv0518\n"
     ]
    },
    {
     "name": "stderr",
     "output_type": "stream",
     "text": [
      "\n",
      "100%|██████████| 134/134 [00:00<00:00, 134041.67it/s]\n",
      "\n",
      "100%|██████████| 1/1 [00:00<00:00, 997.69it/s]\n",
      "\n",
      "100%|██████████| 134/134 [00:00<00:00, 133913.92it/s]\n",
      "\n",
      "100%|██████████| 82/82 [00:00<00:00, 54454.23it/s]\n",
      "\n",
      "100%|██████████| 1/1 [00:00<?, ?it/s]\u001b[A\n",
      "\n",
      "100%|██████████| 82/82 [00:00<?, ?it/s][A\n",
      "430it [6:10:26, 33.00s/it]"
     ]
    },
    {
     "name": "stdout",
     "output_type": "stream",
     "text": [
      "Rv0519c\n"
     ]
    },
    {
     "name": "stderr",
     "output_type": "stream",
     "text": [
      "\n",
      "100%|██████████| 113/113 [00:00<00:00, 18836.20it/s]\n",
      "\n",
      "100%|██████████| 1/1 [00:00<?, ?it/s]\u001b[A\n",
      "\n",
      "100%|██████████| 111/111 [00:00<00:00, 18495.46it/s]\n",
      "\n",
      "100%|██████████| 66/66 [00:00<00:00, 20765.44it/s]\n",
      "\n",
      "100%|██████████| 1/1 [00:00<?, ?it/s]\u001b[A\n",
      "\n",
      "100%|██████████| 65/65 [00:00<00:00, 21668.24it/s]\n",
      "431it [6:26:05, 246.81s/it]"
     ]
    },
    {
     "name": "stdout",
     "output_type": "stream",
     "text": [
      "Rv0522\n"
     ]
    },
    {
     "name": "stderr",
     "output_type": "stream",
     "text": [
      "\n",
      "100%|██████████| 128/128 [00:00<00:00, 21350.15it/s]\n",
      "\n",
      "100%|██████████| 1/1 [00:00<?, ?it/s]\u001b[A\n",
      "\n",
      "100%|██████████| 128/128 [00:00<00:00, 18285.17it/s]\n",
      "\n",
      "100%|██████████| 118/118 [00:00<00:00, 18114.63it/s]\n",
      "\n",
      "100%|██████████| 1/1 [00:00<?, ?it/s]\u001b[A\n",
      "\n",
      "100%|██████████| 118/118 [00:00<00:00, 17016.02it/s]\n",
      "432it [6:42:00, 425.28s/it]"
     ]
    },
    {
     "name": "stdout",
     "output_type": "stream",
     "text": [
      "Rv0523c\n"
     ]
    },
    {
     "name": "stderr",
     "output_type": "stream",
     "text": [
      "\n",
      "100%|██████████| 175/175 [00:00<00:00, 174804.29it/s]\n",
      "\n",
      "100%|██████████| 1/1 [00:00<?, ?it/s]\u001b[A\n",
      "\n",
      "100%|██████████| 175/175 [00:00<00:00, 175137.96it/s]\n",
      "\n",
      "100%|██████████| 105/105 [00:00<00:00, 104932.55it/s]\n",
      "\n",
      "100%|██████████| 1/1 [00:00<?, ?it/s]\u001b[A\n",
      "\n",
      "100%|██████████| 105/105 [00:00<?, ?it/s]A\n",
      "433it [6:42:42, 323.91s/it]"
     ]
    },
    {
     "name": "stdout",
     "output_type": "stream",
     "text": [
      "Rv0524\n"
     ]
    },
    {
     "name": "stderr",
     "output_type": "stream",
     "text": [
      "\n",
      "100%|██████████| 213/213 [00:00<00:00, 213167.92it/s]\n",
      "\n",
      "100%|██████████| 1/1 [00:00<?, ?it/s]\u001b[A\n",
      "\n",
      "100%|██████████| 213/213 [00:00<00:00, 106444.27it/s]\n",
      "\n",
      "100%|██████████| 497/497 [00:00<00:00, 101999.76it/s]\n",
      "\n",
      "100%|██████████| 1/1 [00:00<00:00, 992.50it/s]\n",
      "\n",
      "100%|██████████| 497/497 [00:00<00:00, 107529.61it/s]\n",
      "434it [6:44:44, 268.39s/it]"
     ]
    },
    {
     "name": "stdout",
     "output_type": "stream",
     "text": [
      "Rv0528\n"
     ]
    },
    {
     "name": "stderr",
     "output_type": "stream",
     "text": [
      "\n",
      "100%|██████████| 214/214 [00:00<00:00, 373992.11it/s]\n",
      "\n",
      "100%|██████████| 1/1 [00:00<?, ?it/s]\u001b[A\n",
      "\n",
      "100%|██████████| 214/214 [00:00<00:00, 199595.52it/s]\n",
      "\n",
      "100%|██████████| 192/192 [00:00<?, ?it/s]A\n",
      "\n",
      "100%|██████████| 1/1 [00:00<?, ?it/s]\u001b[A\n",
      "\n",
      "100%|██████████| 192/192 [00:00<?, ?it/s]A\n",
      "438it [6:45:04, 107.56s/it]"
     ]
    },
    {
     "name": "stdout",
     "output_type": "stream",
     "text": [
      "Rv0530\n"
     ]
    },
    {
     "name": "stderr",
     "output_type": "stream",
     "text": [
      "\n",
      "100%|██████████| 203/203 [00:00<00:00, 203014.71it/s]\n",
      "\n",
      "100%|██████████| 1/1 [00:00<?, ?it/s]\u001b[A\n",
      "\n",
      "100%|██████████| 202/202 [00:00<?, ?it/s]A\n",
      "\n",
      "100%|██████████| 248/248 [00:00<00:00, 247545.79it/s]\n",
      "\n",
      "100%|██████████| 1/1 [00:00<00:00, 1000.31it/s]\n",
      "\n",
      "100%|██████████| 247/247 [00:00<00:00, 246665.02it/s]\n",
      "440it [6:45:28, 78.54s/it] "
     ]
    },
    {
     "name": "stdout",
     "output_type": "stream",
     "text": [
      "Rv0530A\n"
     ]
    },
    {
     "name": "stderr",
     "output_type": "stream",
     "text": [
      "\n",
      "100%|██████████| 166/166 [00:00<?, ?it/s]A\n",
      "\n",
      "100%|██████████| 1/1 [00:00<?, ?it/s]\u001b[A\n",
      "\n",
      "100%|██████████| 166/166 [00:00<?, ?it/s]A\n",
      "\n",
      "100%|██████████| 96/96 [00:00<00:00, 63842.27it/s]\n",
      "\n",
      "100%|██████████| 1/1 [00:00<00:00, 9279.43it/s]\n",
      "\n",
      "100%|██████████| 96/96 [00:00<?, ?it/s][A\n",
      "441it [6:45:52, 68.88s/it]"
     ]
    },
    {
     "name": "stdout",
     "output_type": "stream",
     "text": [
      "Rv0531\n"
     ]
    },
    {
     "name": "stderr",
     "output_type": "stream",
     "text": [
      "\n",
      "100%|██████████| 118/118 [00:00<?, ?it/s]A\n",
      "\n",
      "100%|██████████| 1/1 [00:00<?, ?it/s]\u001b[A\n",
      "\n",
      "100%|██████████| 118/118 [00:00<00:00, 117952.31it/s]\n",
      "\n",
      "100%|██████████| 70/70 [00:00<?, ?it/s][A\n",
      "\n",
      "100%|██████████| 1/1 [00:00<?, ?it/s]\u001b[A\n",
      "\n",
      "100%|██████████| 70/70 [00:00<?, ?it/s][A\n",
      "442it [6:46:17, 59.84s/it]"
     ]
    },
    {
     "name": "stdout",
     "output_type": "stream",
     "text": [
      "Rv0532\n"
     ]
    },
    {
     "name": "stderr",
     "output_type": "stream",
     "text": [
      "443it [6:46:29, 49.16s/it]"
     ]
    },
    {
     "name": "stdout",
     "output_type": "stream",
     "text": [
      "Rv0533c\n"
     ]
    },
    {
     "name": "stderr",
     "output_type": "stream",
     "text": [
      "\n",
      "100%|██████████| 88/88 [00:00<00:00, 87443.44it/s]\n",
      "\n",
      "100%|██████████| 1/1 [00:00<?, ?it/s]\u001b[A\n",
      "\n",
      "100%|██████████| 88/88 [00:00<?, ?it/s][A\n",
      "\n",
      "100%|██████████| 73/73 [00:00<?, ?it/s][A\n",
      "\n",
      "100%|██████████| 1/1 [00:00<?, ?it/s]\u001b[A\n",
      "\n",
      "100%|██████████| 73/73 [00:00<?, ?it/s][A\n",
      "444it [6:46:52, 42.68s/it]"
     ]
    },
    {
     "name": "stdout",
     "output_type": "stream",
     "text": [
      "Rv0537c\n"
     ]
    },
    {
     "name": "stderr",
     "output_type": "stream",
     "text": [
      "\n",
      "100%|██████████| 27/27 [00:00<?, ?it/s][A\n",
      "\n",
      "100%|██████████| 1/1 [00:00<?, ?it/s]\u001b[A\n",
      "\n",
      "100%|██████████| 27/27 [00:00<00:00, 26081.58it/s]\n",
      "\n",
      "100%|██████████| 18/18 [00:00<?, ?it/s][A\n",
      "\n",
      "100%|██████████| 1/1 [00:00<?, ?it/s]\u001b[A\n",
      "\n",
      "100%|██████████| 18/18 [00:00<?, ?it/s][A\n",
      "448it [6:48:28, 31.92s/it]"
     ]
    },
    {
     "name": "stdout",
     "output_type": "stream",
     "text": [
      "Rv0538\n"
     ]
    },
    {
     "name": "stderr",
     "output_type": "stream",
     "text": [
      "\n",
      "100%|██████████| 18/18 [00:00<00:00, 17975.59it/s]\n",
      "\n",
      "100%|██████████| 1/1 [00:00<?, ?it/s]\u001b[A\n",
      "\n",
      "100%|██████████| 18/18 [00:00<?, ?it/s][A\n",
      "\n",
      "100%|██████████| 12/12 [00:00<?, ?it/s][A\n",
      "\n",
      "100%|██████████| 1/1 [00:00<?, ?it/s]\u001b[A\n",
      "\n",
      "100%|██████████| 12/12 [00:00<?, ?it/s][A\n",
      "449it [6:49:33, 37.61s/it]"
     ]
    },
    {
     "name": "stdout",
     "output_type": "stream",
     "text": [
      "Rv0539\n"
     ]
    },
    {
     "name": "stderr",
     "output_type": "stream",
     "text": [
      "\n",
      "100%|██████████| 147/147 [00:00<00:00, 146905.57it/s]\n",
      "\n",
      "100%|██████████| 1/1 [00:00<?, ?it/s]\u001b[A\n",
      "\n",
      "100%|██████████| 147/147 [00:00<00:00, 146660.96it/s]\n",
      "\n",
      "100%|██████████| 153/153 [00:00<00:00, 152792.50it/s]\n",
      "\n",
      "100%|██████████| 1/1 [00:00<?, ?it/s]\u001b[A\n",
      "\n",
      "100%|██████████| 153/153 [00:00<00:00, 152938.16it/s]\n",
      "450it [6:49:58, 35.01s/it]"
     ]
    },
    {
     "name": "stdout",
     "output_type": "stream",
     "text": [
      "Rv0542c\n"
     ]
    },
    {
     "name": "stderr",
     "output_type": "stream",
     "text": [
      "\n",
      "100%|██████████| 204/204 [00:00<00:00, 204649.13it/s]\n",
      "\n",
      "100%|██████████| 1/1 [00:00<?, ?it/s]\u001b[A\n",
      "\n",
      "100%|██████████| 203/203 [00:00<00:00, 203354.12it/s]\n",
      "\n",
      "100%|██████████| 145/145 [00:00<00:00, 145357.09it/s]\n",
      "\n",
      "100%|██████████| 1/1 [00:00<?, ?it/s]\u001b[A\n",
      "\n",
      "100%|██████████| 144/144 [00:00<00:00, 143531.32it/s]\n",
      "453it [6:50:31, 24.02s/it]"
     ]
    },
    {
     "name": "stdout",
     "output_type": "stream",
     "text": [
      "Rv0543c\n"
     ]
    },
    {
     "name": "stderr",
     "output_type": "stream",
     "text": [
      "\n",
      "100%|██████████| 181/181 [00:00<00:00, 180926.84it/s]\n",
      "\n",
      "100%|██████████| 1/1 [00:00<?, ?it/s]\u001b[A\n",
      "\n",
      "100%|██████████| 181/181 [00:00<00:00, 180582.55it/s]\n",
      "\n",
      "100%|██████████| 115/115 [00:00<00:00, 114844.04it/s]\n",
      "\n",
      "100%|██████████| 1/1 [00:00<?, ?it/s]\u001b[A\n",
      "\n",
      "100%|██████████| 115/115 [00:00<?, ?it/s]A\n",
      "454it [6:51:01, 25.04s/it]"
     ]
    },
    {
     "name": "stdout",
     "output_type": "stream",
     "text": [
      "Rv0545c\n"
     ]
    },
    {
     "name": "stderr",
     "output_type": "stream",
     "text": [
      "\n",
      "100%|██████████| 118/118 [00:00<00:00, 117896.11it/s]\n",
      "\n",
      "100%|██████████| 1/1 [00:00<?, ?it/s]\u001b[A\n",
      "\n",
      "100%|██████████| 118/118 [00:00<00:00, 117980.42it/s]\n",
      "\n",
      "100%|██████████| 256/256 [00:00<00:00, 158462.49it/s]\n",
      "\n",
      "100%|██████████| 1/1 [00:00<?, ?it/s]\u001b[A\n",
      "\n",
      "100%|██████████| 256/256 [00:00<00:00, 127948.26it/s]\n",
      "456it [6:51:46, 24.33s/it]"
     ]
    },
    {
     "name": "stdout",
     "output_type": "stream",
     "text": [
      "Rv0546c\n"
     ]
    },
    {
     "name": "stderr",
     "output_type": "stream",
     "text": [
      "\n",
      "100%|██████████| 208/208 [00:00<00:00, 207569.65it/s]\n",
      "\n",
      "100%|██████████| 1/1 [00:00<00:00, 1003.18it/s]\n",
      "\n",
      "100%|██████████| 208/208 [00:00<00:00, 208213.66it/s]\n",
      "\n",
      "100%|██████████| 153/153 [00:00<?, ?it/s]A\n",
      "\n",
      "100%|██████████| 1/1 [00:00<?, ?it/s]\u001b[A\n",
      "\n",
      "100%|██████████| 153/153 [00:00<00:00, 152176.55it/s]\n",
      "457it [6:52:12, 24.66s/it]"
     ]
    },
    {
     "name": "stdout",
     "output_type": "stream",
     "text": [
      "Rv0547c\n"
     ]
    },
    {
     "name": "stderr",
     "output_type": "stream",
     "text": [
      "\n",
      "100%|██████████| 195/195 [00:00<00:00, 129576.88it/s]\n",
      "\n",
      "100%|██████████| 1/1 [00:00<?, ?it/s]\u001b[A\n",
      "\n",
      "100%|██████████| 194/194 [00:00<00:00, 194850.33it/s]\n",
      "\n",
      "100%|██████████| 123/123 [00:00<?, ?it/s]A\n",
      "\n",
      "100%|██████████| 1/1 [00:00<?, ?it/s]\u001b[A\n",
      "\n",
      "100%|██████████| 122/122 [00:00<00:00, 121950.69it/s]\n",
      "458it [6:52:53, 28.21s/it]"
     ]
    },
    {
     "name": "stdout",
     "output_type": "stream",
     "text": [
      "Rv0548c\n"
     ]
    },
    {
     "name": "stderr",
     "output_type": "stream",
     "text": [
      "\n",
      "100%|██████████| 215/215 [00:00<00:00, 53734.68it/s]\n",
      "\n",
      "100%|██████████| 1/1 [00:00<?, ?it/s]\u001b[A\n",
      "\n",
      "100%|██████████| 215/215 [00:00<00:00, 53670.72it/s]\n",
      "\n",
      "100%|██████████| 495/495 [00:00<00:00, 58162.83it/s]\n",
      "\n",
      "100%|██████████| 1/1 [00:00<00:00, 998.64it/s]\n",
      "\n",
      "100%|██████████| 494/494 [00:00<00:00, 54485.80it/s]\n",
      "459it [6:58:28, 100.77s/it]"
     ]
    },
    {
     "name": "stdout",
     "output_type": "stream",
     "text": [
      "Rv0550c\n"
     ]
    },
    {
     "name": "stderr",
     "output_type": "stream",
     "text": [
      "\n",
      "100%|██████████| 12/12 [00:00<?, ?it/s][A\n",
      "\n",
      "100%|██████████| 1/1 [00:00<00:00, 1001.27it/s]\n",
      "\n",
      "100%|██████████| 12/12 [00:00<00:00, 12023.81it/s]\n",
      "\n",
      "100%|██████████| 21/21 [00:00<?, ?it/s][A\n",
      "\n",
      "100%|██████████| 1/1 [00:00<?, ?it/s]\u001b[A\n",
      "\n",
      "100%|██████████| 21/21 [00:00<?, ?it/s][A\n",
      "461it [6:59:35, 73.70s/it] "
     ]
    },
    {
     "name": "stdout",
     "output_type": "stream",
     "text": [
      "Rv0551c\n"
     ]
    },
    {
     "name": "stderr",
     "output_type": "stream",
     "text": [
      "\n",
      "100%|██████████| 198/198 [00:00<00:00, 99018.98it/s]\n",
      "\n",
      "100%|██████████| 1/1 [00:00<00:00, 1000.31it/s]\n",
      "\n",
      "100%|██████████| 198/198 [00:00<00:00, 198156.09it/s]\n",
      "\n",
      "100%|██████████| 192/192 [00:00<00:00, 191922.39it/s]\n",
      "\n",
      "100%|██████████| 1/1 [00:00<?, ?it/s]\u001b[A\n",
      "\n",
      "100%|██████████| 192/192 [00:00<00:00, 193119.03it/s]\n",
      "462it [7:00:17, 66.68s/it]"
     ]
    },
    {
     "name": "stdout",
     "output_type": "stream",
     "text": [
      "Rv0552\n"
     ]
    },
    {
     "name": "stderr",
     "output_type": "stream",
     "text": [
      "\n",
      "100%|██████████| 143/143 [00:00<00:00, 143661.19it/s]\n",
      "\n",
      "100%|██████████| 1/1 [00:00<00:00, 998.64it/s]\n",
      "\n",
      "100%|██████████| 143/143 [00:00<?, ?it/s]A\n",
      "\n",
      "100%|██████████| 89/89 [00:00<?, ?it/s][A\n",
      "\n",
      "100%|██████████| 1/1 [00:00<?, ?it/s]\u001b[A\n",
      "\n",
      "100%|██████████| 89/89 [00:00<00:00, 89006.45it/s]\n",
      "463it [7:00:45, 57.16s/it]"
     ]
    },
    {
     "name": "stdout",
     "output_type": "stream",
     "text": [
      "Rv0555\n"
     ]
    },
    {
     "name": "stderr",
     "output_type": "stream",
     "text": [
      "\n",
      "100%|██████████| 212/212 [00:00<00:00, 212572.90it/s]\n",
      "\n",
      "100%|██████████| 1/1 [00:00<00:00, 999.83it/s]\n",
      "\n",
      "100%|██████████| 212/212 [00:00<?, ?it/s]A\n",
      "\n",
      "100%|██████████| 216/216 [00:00<00:00, 215912.69it/s]\n",
      "\n",
      "100%|██████████| 1/1 [00:00<?, ?it/s]\u001b[A\n",
      "\n",
      "100%|██████████| 216/216 [00:00<00:00, 215348.15it/s]\n",
      "466it [7:01:16, 33.36s/it]"
     ]
    },
    {
     "name": "stdout",
     "output_type": "stream",
     "text": [
      "Rv0557\n"
     ]
    },
    {
     "name": "stderr",
     "output_type": "stream",
     "text": [
      "\n",
      "100%|██████████| 187/187 [00:00<00:00, 93062.99it/s]\n",
      "\n",
      "100%|██████████| 1/1 [00:00<?, ?it/s]\u001b[A\n",
      "\n",
      "100%|██████████| 187/187 [00:00<00:00, 186968.97it/s]\n",
      "\n",
      "100%|██████████| 176/176 [00:00<00:00, 175677.65it/s]\n",
      "\n",
      "100%|██████████| 1/1 [00:00<?, ?it/s]\u001b[A\n",
      "\n",
      "100%|██████████| 176/176 [00:00<00:00, 176686.81it/s]\n",
      "468it [7:01:46, 27.29s/it]"
     ]
    },
    {
     "name": "stdout",
     "output_type": "stream",
     "text": [
      "Rv0559c\n"
     ]
    },
    {
     "name": "stderr",
     "output_type": "stream",
     "text": [
      "\n",
      "100%|██████████| 78/78 [00:00<?, ?it/s][A\n",
      "\n",
      "100%|██████████| 1/1 [00:00<00:00, 998.88it/s]\n",
      "\n",
      "100%|██████████| 78/78 [00:00<?, ?it/s][A\n",
      "\n",
      "100%|██████████| 45/45 [00:00<00:00, 45132.40it/s]\n",
      "\n",
      "100%|██████████| 1/1 [00:00<00:00, 1003.42it/s]\n",
      "\n",
      "100%|██████████| 45/45 [00:00<00:00, 89114.11it/s]\n",
      "470it [7:02:08, 22.21s/it]"
     ]
    },
    {
     "name": "stdout",
     "output_type": "stream",
     "text": [
      "Rv0563\n"
     ]
    },
    {
     "name": "stderr",
     "output_type": "stream",
     "text": [
      "\n",
      "100%|██████████| 213/213 [00:00<00:00, 90186.43it/s]\n",
      "\n",
      "100%|██████████| 1/1 [00:00<00:00, 997.22it/s]\n",
      "\n",
      "100%|██████████| 213/213 [00:00<00:00, 112248.62it/s]\n",
      "\n",
      "100%|██████████| 500/500 [00:00<00:00, 124882.51it/s]\n",
      "\n",
      "100%|██████████| 1/1 [00:00<?, ?it/s]\u001b[A\n",
      "\n",
      "100%|██████████| 500/500 [00:00<00:00, 99973.88it/s]\n",
      "474it [7:04:45, 30.32s/it]"
     ]
    },
    {
     "name": "stdout",
     "output_type": "stream",
     "text": [
      "Rv0564c\n"
     ]
    },
    {
     "name": "stderr",
     "output_type": "stream",
     "text": [
      "\n",
      "100%|██████████| 205/205 [00:00<00:00, 205210.58it/s]\n",
      "\n",
      "100%|██████████| 1/1 [00:00<?, ?it/s]\u001b[A\n",
      "\n",
      "100%|██████████| 205/205 [00:00<00:00, 205406.67it/s]\n",
      "\n",
      "100%|██████████| 136/136 [00:00<00:00, 225911.03it/s]\n",
      "\n",
      "100%|██████████| 1/1 [00:00<?, ?it/s]\u001b[A\n",
      "\n",
      "100%|██████████| 136/136 [00:00<?, ?it/s]A\n",
      "475it [7:05:16, 30.38s/it]"
     ]
    },
    {
     "name": "stdout",
     "output_type": "stream",
     "text": [
      "Rv0565c\n"
     ]
    },
    {
     "name": "stderr",
     "output_type": "stream",
     "text": [
      "\n",
      "100%|██████████| 194/194 [00:00<00:00, 180420.17it/s]\n",
      "\n",
      "100%|██████████| 1/1 [00:00<?, ?it/s]\u001b[A\n",
      "\n",
      "100%|██████████| 193/193 [00:00<00:00, 192646.52it/s]\n",
      "\n",
      "100%|██████████| 124/124 [00:00<00:00, 124068.15it/s]\n",
      "\n",
      "100%|██████████| 1/1 [00:00<?, ?it/s]\u001b[A\n",
      "\n",
      "100%|██████████| 124/124 [00:00<00:00, 123949.88it/s]\n",
      "476it [7:05:50, 30.91s/it]"
     ]
    },
    {
     "name": "stdout",
     "output_type": "stream",
     "text": [
      "Rv0566c\n"
     ]
    },
    {
     "name": "stderr",
     "output_type": "stream",
     "text": [
      "\n",
      "100%|██████████| 212/212 [00:00<00:00, 53003.84it/s]\n",
      "\n",
      "100%|██████████| 1/1 [00:00<?, ?it/s]\u001b[A\n",
      "\n",
      "100%|██████████| 212/212 [00:00<00:00, 52924.97it/s]\n",
      "\n",
      "100%|██████████| 500/500 [00:00<00:00, 51085.26it/s]\n",
      "\n",
      "100%|██████████| 1/1 [00:00<?, ?it/s]\u001b[A\n",
      "\n",
      "100%|██████████| 500/500 [00:00<00:00, 55577.25it/s]\n",
      "477it [7:10:48, 83.76s/it]"
     ]
    },
    {
     "name": "stdout",
     "output_type": "stream",
     "text": [
      "Rv0567\n"
     ]
    },
    {
     "name": "stderr",
     "output_type": "stream",
     "text": [
      "478it [7:11:02, 68.26s/it]"
     ]
    },
    {
     "name": "stdout",
     "output_type": "stream",
     "text": [
      "Rv0568\n"
     ]
    },
    {
     "name": "stderr",
     "output_type": "stream",
     "text": [
      "\n",
      "100%|██████████| 111/111 [00:00<00:00, 110875.86it/s]\n",
      "\n",
      "100%|██████████| 1/1 [00:00<?, ?it/s]\u001b[A\n",
      "\n",
      "100%|██████████| 111/111 [00:00<00:00, 110955.13it/s]\n",
      "\n",
      "100%|██████████| 74/74 [00:00<?, ?it/s][A\n",
      "\n",
      "100%|██████████| 1/1 [00:00<?, ?it/s]\u001b[A\n",
      "\n",
      "100%|██████████| 74/74 [00:00<?, ?it/s][A\n",
      "479it [7:11:41, 61.25s/it]"
     ]
    },
    {
     "name": "stdout",
     "output_type": "stream",
     "text": [
      "Rv0569\n"
     ]
    },
    {
     "name": "stderr",
     "output_type": "stream",
     "text": [
      "\n",
      "100%|██████████| 67/67 [00:00<?, ?it/s][A\n",
      "\n",
      "100%|██████████| 1/1 [00:00<00:00, 1000.07it/s]\n",
      "\n",
      "100%|██████████| 67/67 [00:00<00:00, 67165.00it/s]\n",
      "\n",
      "100%|██████████| 48/48 [00:00<00:00, 48014.93it/s]\n",
      "\n",
      "100%|██████████| 1/1 [00:00<?, ?it/s]\u001b[A\n",
      "\n",
      "100%|██████████| 48/48 [00:00<?, ?it/s][A\n",
      "480it [7:12:18, 55.20s/it]"
     ]
    },
    {
     "name": "stdout",
     "output_type": "stream",
     "text": [
      "Rv0571c\n"
     ]
    },
    {
     "name": "stderr",
     "output_type": "stream",
     "text": [
      "\n",
      "100%|██████████| 43/43 [00:00<?, ?it/s][A\n",
      "\n",
      "100%|██████████| 1/1 [00:00<?, ?it/s]\u001b[A\n",
      "\n",
      "100%|██████████| 43/43 [00:00<?, ?it/s][A\n",
      "\n",
      "100%|██████████| 132/132 [00:00<00:00, 65949.75it/s]\n",
      "\n",
      "100%|██████████| 1/1 [00:00<?, ?it/s]\u001b[A\n",
      "\n",
      "100%|██████████| 132/132 [00:00<00:00, 66012.65it/s]\n",
      "482it [7:12:55, 39.63s/it]"
     ]
    },
    {
     "name": "stdout",
     "output_type": "stream",
     "text": [
      "Rv0572c\n"
     ]
    },
    {
     "name": "stderr",
     "output_type": "stream",
     "text": [
      "\n",
      "100%|██████████| 12/12 [00:00<?, ?it/s][A\n",
      "\n",
      "100%|██████████| 1/1 [00:00<00:00, 1000.07it/s]\n",
      "\n",
      "100%|██████████| 12/12 [00:00<?, ?it/s][A\n",
      "483it [7:13:45, 42.15s/it]"
     ]
    },
    {
     "name": "stdout",
     "output_type": "stream",
     "text": [
      "Rv0574c\n"
     ]
    },
    {
     "name": "stderr",
     "output_type": "stream",
     "text": [
      "\n",
      "100%|██████████| 21/21 [00:00<?, ?it/s][A\n",
      "\n",
      "100%|██████████| 1/1 [00:00<?, ?it/s]\u001b[A\n",
      "\n",
      "100%|██████████| 21/21 [00:00<?, ?it/s][A\n",
      "\n",
      "100%|██████████| 18/18 [00:00<?, ?it/s][A\n",
      "\n",
      "100%|██████████| 1/1 [00:00<?, ?it/s]\u001b[A\n",
      "\n",
      "100%|██████████| 18/18 [00:00<00:00, 17992.72it/s]\n",
      "485it [7:14:25, 33.25s/it]"
     ]
    },
    {
     "name": "stdout",
     "output_type": "stream",
     "text": [
      "Rv0575c\n"
     ]
    },
    {
     "name": "stderr",
     "output_type": "stream",
     "text": [
      "\n",
      "100%|██████████| 71/71 [00:00<00:00, 70819.40it/s]\n",
      "\n",
      "100%|██████████| 1/1 [00:00<?, ?it/s]\u001b[A\n",
      "\n",
      "100%|██████████| 71/71 [00:00<?, ?it/s][A\n",
      "\n",
      "100%|██████████| 45/45 [00:00<00:00, 45035.48it/s]\n",
      "\n",
      "100%|██████████| 1/1 [00:00<?, ?it/s]\u001b[A\n",
      "\n",
      "100%|██████████| 45/45 [00:00<?, ?it/s][A\n",
      "486it [7:14:58, 33.26s/it]"
     ]
    },
    {
     "name": "stdout",
     "output_type": "stream",
     "text": [
      "Rv0576\n"
     ]
    },
    {
     "name": "stderr",
     "output_type": "stream",
     "text": [
      "\n",
      "100%|██████████| 13/13 [00:00<?, ?it/s][A\n",
      "\n",
      "100%|██████████| 1/1 [00:00<?, ?it/s]\u001b[A\n",
      "\n",
      "100%|██████████| 13/13 [00:00<?, ?it/s][A\n",
      "487it [7:15:16, 29.62s/it]"
     ]
    },
    {
     "name": "stdout",
     "output_type": "stream",
     "text": [
      "Rv0578c\n"
     ]
    },
    {
     "name": "stderr",
     "output_type": "stream",
     "text": [
      "489it [7:15:28, 20.10s/it]"
     ]
    },
    {
     "name": "stdout",
     "output_type": "stream",
     "text": [
      "Rv0579\n"
     ]
    },
    {
     "name": "stderr",
     "output_type": "stream",
     "text": [
      "\n",
      "100%|██████████| 54/54 [00:00<00:00, 54029.68it/s]\n",
      "\n",
      "100%|██████████| 1/1 [00:00<?, ?it/s]\u001b[A\n",
      "\n",
      "100%|██████████| 54/54 [00:00<00:00, 53913.93it/s]\n",
      "\n",
      "100%|██████████| 39/39 [00:00<?, ?it/s][A\n",
      "\n",
      "100%|██████████| 1/1 [00:00<?, ?it/s]\u001b[A\n",
      "\n",
      "100%|██████████| 39/39 [00:00<?, ?it/s][A\n",
      "490it [7:16:50, 34.04s/it]"
     ]
    },
    {
     "name": "stdout",
     "output_type": "stream",
     "text": [
      "Rv0580c\n"
     ]
    },
    {
     "name": "stderr",
     "output_type": "stream",
     "text": [
      "\n",
      "100%|██████████| 96/96 [00:00<00:00, 96075.68it/s]\n",
      "\n",
      "100%|██████████| 1/1 [00:00<?, ?it/s]\u001b[A\n",
      "\n",
      "100%|██████████| 96/96 [00:00<?, ?it/s][A\n",
      "\n",
      "100%|██████████| 58/58 [00:00<?, ?it/s][A\n",
      "\n",
      "100%|██████████| 1/1 [00:00<?, ?it/s]\u001b[A\n",
      "\n",
      "100%|██████████| 58/58 [00:00<00:00, 58170.64it/s]\n",
      "491it [7:17:13, 31.18s/it]"
     ]
    },
    {
     "name": "stdout",
     "output_type": "stream",
     "text": [
      "Rv0581\n"
     ]
    },
    {
     "name": "stderr",
     "output_type": "stream",
     "text": [
      "\n",
      "100%|██████████| 13/13 [00:00<?, ?it/s][A\n",
      "\n",
      "100%|██████████| 1/1 [00:00<?, ?it/s]\u001b[A\n",
      "\n",
      "100%|██████████| 13/13 [00:00<?, ?it/s][A\n",
      "492it [7:17:33, 28.36s/it]"
     ]
    },
    {
     "name": "stdout",
     "output_type": "stream",
     "text": [
      "Rv0583c\n"
     ]
    },
    {
     "name": "stderr",
     "output_type": "stream",
     "text": [
      "\n",
      "100%|██████████| 42/42 [00:00<?, ?it/s][A\n",
      "\n",
      "100%|██████████| 1/1 [00:00<?, ?it/s]\u001b[A\n",
      "\n",
      "100%|██████████| 42/42 [00:00<00:00, 41973.02it/s]\n",
      "\n",
      "100%|██████████| 25/25 [00:00<00:00, 25091.55it/s]\n",
      "\n",
      "100%|██████████| 1/1 [00:00<?, ?it/s]\u001b[A\n",
      "\n",
      "100%|██████████| 25/25 [00:00<?, ?it/s][A\n",
      "494it [7:18:18, 25.83s/it]"
     ]
    },
    {
     "name": "stdout",
     "output_type": "stream",
     "text": [
      "Rv0584\n"
     ]
    },
    {
     "name": "stderr",
     "output_type": "stream",
     "text": [
      "\n",
      "100%|██████████| 72/72 [00:00<?, ?it/s][A\n",
      "\n",
      "100%|██████████| 1/1 [00:00<?, ?it/s]\u001b[A\n",
      "\n",
      "100%|██████████| 72/72 [00:00<?, ?it/s][A\n",
      "\n",
      "100%|██████████| 43/43 [00:00<?, ?it/s][A\n",
      "\n",
      "100%|██████████| 1/1 [00:00<?, ?it/s]\u001b[A\n",
      "\n",
      "100%|██████████| 43/43 [00:00<?, ?it/s][A\n",
      "495it [7:18:59, 29.43s/it]"
     ]
    },
    {
     "name": "stdout",
     "output_type": "stream",
     "text": [
      "Rv0585c\n"
     ]
    },
    {
     "name": "stderr",
     "output_type": "stream",
     "text": [
      "\n",
      "100%|██████████| 198/198 [00:00<00:00, 99208.24it/s]\n",
      "\n",
      "100%|██████████| 1/1 [00:00<?, ?it/s]\u001b[A\n",
      "\n",
      "100%|██████████| 197/197 [00:00<00:00, 98401.56it/s]\n",
      "\n",
      "100%|██████████| 170/170 [00:00<00:00, 85046.72it/s]\n",
      "\n",
      "100%|██████████| 1/1 [00:00<?, ?it/s]\u001b[A\n",
      "\n",
      "100%|██████████| 169/169 [00:00<00:00, 84475.91it/s]\n",
      "496it [7:19:42, 32.69s/it]"
     ]
    },
    {
     "name": "stdout",
     "output_type": "stream",
     "text": [
      "Rv0586\n"
     ]
    },
    {
     "name": "stderr",
     "output_type": "stream",
     "text": [
      "\n",
      "100%|██████████| 98/98 [00:00<00:00, 97681.03it/s]\n",
      "\n",
      "100%|██████████| 1/1 [00:00<?, ?it/s]\u001b[A\n",
      "\n",
      "100%|██████████| 98/98 [00:00<00:00, 97960.39it/s]\n",
      "\n",
      "100%|██████████| 71/71 [00:00<00:00, 71005.15it/s]\n",
      "\n",
      "100%|██████████| 1/1 [00:00<?, ?it/s]\u001b[A\n",
      "\n",
      "100%|██████████| 71/71 [00:00<?, ?it/s][A\n",
      "497it [7:20:14, 32.61s/it]"
     ]
    },
    {
     "name": "stdout",
     "output_type": "stream",
     "text": [
      "Rv0591\n"
     ]
    },
    {
     "name": "stderr",
     "output_type": "stream",
     "text": [
      "\n",
      "100%|██████████| 20/20 [00:00<00:00, 19996.68it/s]\n",
      "\n",
      "100%|██████████| 1/1 [00:00<?, ?it/s]\u001b[A\n",
      "\n",
      "100%|██████████| 20/20 [00:00<00:00, 19972.88it/s]\n",
      "\n",
      "100%|██████████| 11/11 [00:00<?, ?it/s][A\n",
      "\n",
      "100%|██████████| 1/1 [00:00<?, ?it/s]\u001b[A\n",
      "\n",
      "100%|██████████| 11/11 [00:00<?, ?it/s][A\n",
      "501it [7:37:50, 171.52s/it]"
     ]
    },
    {
     "name": "stdout",
     "output_type": "stream",
     "text": [
      "Rv0596c\n"
     ]
    },
    {
     "name": "stderr",
     "output_type": "stream",
     "text": [
      "506it [7:38:02, 84.03s/it] "
     ]
    },
    {
     "name": "stdout",
     "output_type": "stream",
     "text": [
      "Rv0597c\n"
     ]
    },
    {
     "name": "stderr",
     "output_type": "stream",
     "text": [
      "\n",
      "100%|██████████| 11/11 [00:00<?, ?it/s][A\n",
      "\n",
      "100%|██████████| 1/1 [00:00<?, ?it/s]\u001b[A\n",
      "\n",
      "100%|██████████| 11/11 [00:00<?, ?it/s][A\n",
      "507it [7:38:51, 79.48s/it]"
     ]
    },
    {
     "name": "stdout",
     "output_type": "stream",
     "text": [
      "Rv0599c\n"
     ]
    },
    {
     "name": "stderr",
     "output_type": "stream",
     "text": [
      "\n",
      "100%|██████████| 15/15 [00:00<00:00, 14997.51it/s]\n",
      "\n",
      "100%|██████████| 1/1 [00:00<?, ?it/s]\u001b[A\n",
      "\n",
      "100%|██████████| 15/15 [00:00<?, ?it/s][A\n",
      "509it [7:39:12, 60.96s/it]"
     ]
    },
    {
     "name": "stdout",
     "output_type": "stream",
     "text": [
      "Rv0600c\n"
     ]
    },
    {
     "name": "stderr",
     "output_type": "stream",
     "text": [
      "510it [7:39:24, 53.10s/it]"
     ]
    },
    {
     "name": "stdout",
     "output_type": "stream",
     "text": [
      "Rv0601c\n"
     ]
    },
    {
     "name": "stderr",
     "output_type": "stream",
     "text": [
      "511it [7:39:36, 45.41s/it]"
     ]
    },
    {
     "name": "stdout",
     "output_type": "stream",
     "text": [
      "Rv0602c\n"
     ]
    },
    {
     "name": "stderr",
     "output_type": "stream",
     "text": [
      "\n",
      "100%|██████████| 36/36 [00:00<?, ?it/s][A\n",
      "\n",
      "100%|██████████| 1/1 [00:00<00:00, 988.76it/s]\n",
      "\n",
      "100%|██████████| 36/36 [00:00<?, ?it/s][A\n",
      "512it [7:39:51, 38.94s/it]"
     ]
    },
    {
     "name": "stdout",
     "output_type": "stream",
     "text": [
      "Rv0603\n"
     ]
    },
    {
     "name": "stderr",
     "output_type": "stream",
     "text": [
      "513it [7:40:03, 32.68s/it]"
     ]
    },
    {
     "name": "stdout",
     "output_type": "stream",
     "text": [
      "Rv0604\n"
     ]
    },
    {
     "name": "stderr",
     "output_type": "stream",
     "text": [
      "514it [7:40:15, 27.52s/it]"
     ]
    },
    {
     "name": "stdout",
     "output_type": "stream",
     "text": [
      "Rv0605\n"
     ]
    },
    {
     "name": "stderr",
     "output_type": "stream",
     "text": [
      "515it [7:40:27, 23.44s/it]"
     ]
    },
    {
     "name": "stdout",
     "output_type": "stream",
     "text": [
      "Rv0607\n"
     ]
    },
    {
     "name": "stderr",
     "output_type": "stream",
     "text": [
      "\n",
      "100%|██████████| 11/11 [00:00<?, ?it/s][A\n",
      "\n",
      "100%|██████████| 1/1 [00:00<?, ?it/s]\u001b[A\n",
      "\n",
      "100%|██████████| 11/11 [00:00<?, ?it/s][A\n",
      "516it [7:43:04, 59.90s/it]"
     ]
    },
    {
     "name": "stdout",
     "output_type": "stream",
     "text": [
      "Rv0608\n"
     ]
    },
    {
     "name": "stderr",
     "output_type": "stream",
     "text": [
      "\n",
      "100%|██████████| 22/22 [00:00<?, ?it/s][A\n",
      "\n",
      "100%|██████████| 1/1 [00:00<?, ?it/s]\u001b[A\n",
      "\n",
      "100%|██████████| 22/22 [00:00<?, ?it/s][A\n",
      "\n",
      "100%|██████████| 12/12 [00:00<?, ?it/s][A\n",
      "\n",
      "100%|██████████| 1/1 [00:00<?, ?it/s]\u001b[A\n",
      "\n",
      "100%|██████████| 12/12 [00:00<?, ?it/s][A\n",
      "517it [7:43:20, 47.68s/it]"
     ]
    },
    {
     "name": "stdout",
     "output_type": "stream",
     "text": [
      "Rv0610c\n"
     ]
    },
    {
     "name": "stderr",
     "output_type": "stream",
     "text": [
      "520it [7:43:32, 23.84s/it]"
     ]
    },
    {
     "name": "stdout",
     "output_type": "stream",
     "text": [
      "Rv0611c\n"
     ]
    },
    {
     "name": "stderr",
     "output_type": "stream",
     "text": [
      "521it [7:43:45, 21.43s/it]"
     ]
    },
    {
     "name": "stdout",
     "output_type": "stream",
     "text": [
      "Rv0612\n"
     ]
    },
    {
     "name": "stderr",
     "output_type": "stream",
     "text": [
      "522it [7:43:57, 19.29s/it]"
     ]
    },
    {
     "name": "stdout",
     "output_type": "stream",
     "text": [
      "Rv0613c\n"
     ]
    },
    {
     "name": "stderr",
     "output_type": "stream",
     "text": [
      "\n",
      "100%|██████████| 32/32 [00:00<?, ?it/s][A\n",
      "\n",
      "100%|██████████| 1/1 [00:00<?, ?it/s]\u001b[A\n",
      "\n",
      "100%|██████████| 32/32 [00:00<?, ?it/s][A\n",
      "\n",
      "100%|██████████| 17/17 [00:00<?, ?it/s][A\n",
      "\n",
      "100%|██████████| 1/1 [00:00<?, ?it/s]\u001b[A\n",
      "\n",
      "100%|██████████| 17/17 [00:00<?, ?it/s][A\n",
      "523it [7:44:19, 19.97s/it]"
     ]
    },
    {
     "name": "stdout",
     "output_type": "stream",
     "text": [
      "Rv0614\n"
     ]
    },
    {
     "name": "stderr",
     "output_type": "stream",
     "text": [
      "\n",
      "100%|██████████| 11/11 [00:00<00:00, 10982.47it/s]\n",
      "\n",
      "100%|██████████| 1/1 [00:00<?, ?it/s]\u001b[A\n",
      "\n",
      "100%|██████████| 11/11 [00:00<?, ?it/s][A\n",
      "524it [7:44:36, 19.42s/it]"
     ]
    },
    {
     "name": "stdout",
     "output_type": "stream",
     "text": [
      "Rv0616A\n"
     ]
    },
    {
     "name": "stderr",
     "output_type": "stream",
     "text": [
      "\n",
      "100%|██████████| 27/27 [00:00<?, ?it/s][A\n",
      "\n",
      "100%|██████████| 1/1 [00:00<?, ?it/s]\u001b[A\n",
      "\n",
      "100%|██████████| 27/27 [00:00<?, ?it/s][A\n",
      "\n",
      "100%|██████████| 30/30 [00:00<?, ?it/s][A\n",
      "\n",
      "100%|██████████| 1/1 [00:00<?, ?it/s]\u001b[A\n",
      "\n",
      "100%|██████████| 30/30 [00:00<00:00, 29973.59it/s]\n",
      "526it [7:45:40, 24.60s/it]"
     ]
    },
    {
     "name": "stdout",
     "output_type": "stream",
     "text": [
      "Rv0620\n"
     ]
    },
    {
     "name": "stderr",
     "output_type": "stream",
     "text": [
      "\n",
      "100%|██████████| 137/137 [00:00<00:00, 15209.63it/s]\n",
      "\n",
      "100%|██████████| 1/1 [00:00<?, ?it/s]\u001b[A\n",
      "\n",
      "100%|██████████| 137/137 [00:00<00:00, 13698.05it/s]\n",
      "\n",
      "100%|██████████| 84/84 [00:00<00:00, 13994.90it/s]\n",
      "\n",
      "100%|██████████| 1/1 [00:00<?, ?it/s]\u001b[A\n",
      "\n",
      "100%|██████████| 84/84 [00:00<00:00, 14004.91it/s]\n",
      "528it [7:55:11, 123.32s/it]"
     ]
    },
    {
     "name": "stdout",
     "output_type": "stream",
     "text": [
      "Rv0621\n"
     ]
    },
    {
     "name": "stderr",
     "output_type": "stream",
     "text": [
      "529it [7:55:23, 99.71s/it] "
     ]
    },
    {
     "name": "stdout",
     "output_type": "stream",
     "text": [
      "Rv0622\n"
     ]
    },
    {
     "name": "stderr",
     "output_type": "stream",
     "text": [
      "530it [7:55:36, 79.45s/it]"
     ]
    },
    {
     "name": "stdout",
     "output_type": "stream",
     "text": [
      "Rv0623\n"
     ]
    },
    {
     "name": "stderr",
     "output_type": "stream",
     "text": [
      "\n",
      "100%|██████████| 11/11 [00:00<?, ?it/s][A\n",
      "\n",
      "100%|██████████| 1/1 [00:00<?, ?it/s]\u001b[A\n",
      "\n",
      "100%|██████████| 11/11 [00:00<?, ?it/s][A\n",
      "531it [7:55:55, 64.32s/it]"
     ]
    },
    {
     "name": "stdout",
     "output_type": "stream",
     "text": [
      "Rv0625c\n"
     ]
    },
    {
     "name": "stderr",
     "output_type": "stream",
     "text": [
      "\n",
      "100%|██████████| 141/141 [00:00<00:00, 141010.22it/s]\n",
      "\n",
      "100%|██████████| 1/1 [00:00<00:00, 999.36it/s]\n",
      "\n",
      "100%|██████████| 141/141 [00:00<00:00, 141279.71it/s]\n",
      "\n",
      "100%|██████████| 100/100 [00:00<00:00, 100078.84it/s]\n",
      "\n",
      "100%|██████████| 1/1 [00:00<?, ?it/s]\u001b[A\n",
      "\n",
      "100%|██████████| 100/100 [00:00<00:00, 99983.41it/s]\n",
      "533it [7:56:41, 47.11s/it]"
     ]
    },
    {
     "name": "stdout",
     "output_type": "stream",
     "text": [
      "Rv0626\n"
     ]
    },
    {
     "name": "stderr",
     "output_type": "stream",
     "text": [
      "\n",
      "100%|██████████| 30/30 [00:00<?, ?it/s][A\n",
      "\n",
      "100%|██████████| 1/1 [00:00<?, ?it/s]\u001b[A\n",
      "\n",
      "100%|██████████| 30/30 [00:00<?, ?it/s][A\n",
      "\n",
      "100%|██████████| 31/31 [00:00<?, ?it/s][A\n",
      "\n",
      "100%|██████████| 1/1 [00:00<?, ?it/s]\u001b[A\n",
      "\n",
      "100%|██████████| 31/31 [00:00<?, ?it/s][A\n",
      "534it [7:57:13, 43.79s/it]"
     ]
    },
    {
     "name": "stdout",
     "output_type": "stream",
     "text": [
      "Rv0628c\n"
     ]
    },
    {
     "name": "stderr",
     "output_type": "stream",
     "text": [
      "536it [7:57:26, 28.94s/it]"
     ]
    },
    {
     "name": "stdout",
     "output_type": "stream",
     "text": [
      "Rv0631c\n"
     ]
    },
    {
     "name": "stderr",
     "output_type": "stream",
     "text": [
      "\n",
      "100%|██████████| 186/186 [00:00<00:00, 46531.11it/s]\n",
      "\n",
      "100%|██████████| 1/1 [00:00<?, ?it/s]\u001b[A\n",
      "\n",
      "100%|██████████| 185/185 [00:00<00:00, 61710.37it/s]\n",
      "\n",
      "100%|██████████| 124/124 [00:00<00:00, 61849.65it/s]\n",
      "\n",
      "100%|██████████| 1/1 [00:00<?, ?it/s]\u001b[A\n",
      "\n",
      "100%|██████████| 123/123 [00:00<00:00, 61555.83it/s]\n",
      "539it [7:59:40, 36.14s/it]"
     ]
    },
    {
     "name": "stdout",
     "output_type": "stream",
     "text": [
      "Rv0632c\n"
     ]
    },
    {
     "name": "stderr",
     "output_type": "stream",
     "text": [
      "\n",
      "100%|██████████| 105/105 [00:00<00:00, 104857.60it/s]\n",
      "\n",
      "100%|██████████| 1/1 [00:00<?, ?it/s]\u001b[A\n",
      "\n",
      "100%|██████████| 105/105 [00:00<00:00, 104807.69it/s]\n",
      "\n",
      "100%|██████████| 62/62 [00:00<?, ?it/s][A\n",
      "\n",
      "100%|██████████| 1/1 [00:00<?, ?it/s]\u001b[A\n",
      "\n",
      "100%|██████████| 62/62 [00:00<?, ?it/s][A\n",
      "540it [8:00:03, 33.86s/it]"
     ]
    },
    {
     "name": "stdout",
     "output_type": "stream",
     "text": [
      "Rv0633c\n"
     ]
    },
    {
     "name": "stderr",
     "output_type": "stream",
     "text": [
      "\n",
      "100%|██████████| 105/105 [00:00<00:00, 104907.56it/s]\n",
      "\n",
      "100%|██████████| 1/1 [00:00<00:00, 999.83it/s]\n",
      "\n",
      "100%|██████████| 105/105 [00:00<00:00, 105107.86it/s]\n",
      "\n",
      "100%|██████████| 62/62 [00:00<00:00, 61842.29it/s]\n",
      "\n",
      "100%|██████████| 1/1 [00:00<?, ?it/s]\u001b[A\n",
      "\n",
      "100%|██████████| 62/62 [00:00<?, ?it/s][A\n",
      "541it [8:00:50, 36.47s/it]"
     ]
    },
    {
     "name": "stdout",
     "output_type": "stream",
     "text": [
      "Rv0634c\n"
     ]
    },
    {
     "name": "stderr",
     "output_type": "stream",
     "text": [
      "\n",
      "100%|██████████| 203/203 [00:00<00:00, 202772.97it/s]\n",
      "\n",
      "100%|██████████| 1/1 [00:00<?, ?it/s]\u001b[A\n",
      "\n",
      "100%|██████████| 203/203 [00:00<00:00, 202966.32it/s]\n",
      "\n",
      "100%|██████████| 228/228 [00:00<00:00, 113926.77it/s]\n",
      "\n",
      "100%|██████████| 1/1 [00:00<00:00, 1000.79it/s]\n",
      "\n",
      "100%|██████████| 228/228 [00:00<00:00, 113628.96it/s]\n",
      "542it [8:01:33, 37.95s/it]"
     ]
    },
    {
     "name": "stdout",
     "output_type": "stream",
     "text": [
      "Rv0634A\n"
     ]
    },
    {
     "name": "stderr",
     "output_type": "stream",
     "text": [
      "\n",
      "100%|██████████| 44/44 [00:00<?, ?it/s][A\n",
      "\n",
      "100%|██████████| 1/1 [00:00<?, ?it/s]\u001b[A\n",
      "\n",
      "100%|██████████| 44/44 [00:00<?, ?it/s][A\n",
      "\n",
      "100%|██████████| 30/30 [00:00<?, ?it/s][A\n",
      "\n",
      "100%|██████████| 1/1 [00:00<?, ?it/s]\u001b[A\n",
      "\n",
      "100%|██████████| 30/30 [00:00<?, ?it/s][A\n",
      "543it [8:01:57, 34.54s/it]"
     ]
    },
    {
     "name": "stdout",
     "output_type": "stream",
     "text": [
      "Rv0634B\n"
     ]
    },
    {
     "name": "stderr",
     "output_type": "stream",
     "text": [
      "\n",
      "100%|██████████| 211/211 [00:00<00:00, 35098.08it/s]\n",
      "\n",
      "100%|██████████| 1/1 [00:00<?, ?it/s]\u001b[A\n",
      "\n",
      "100%|██████████| 211/211 [00:00<00:00, 52712.98it/s]\n",
      "\n",
      "100%|██████████| 499/499 [00:00<00:00, 39859.79it/s]\n",
      "\n",
      "100%|██████████| 1/1 [00:00<?, ?it/s]\u001b[A\n",
      "\n",
      "100%|██████████| 499/499 [00:00<00:00, 45362.01it/s]\n",
      "544it [8:11:38, 175.64s/it]"
     ]
    },
    {
     "name": "stdout",
     "output_type": "stream",
     "text": [
      "Rv0635\n"
     ]
    },
    {
     "name": "stderr",
     "output_type": "stream",
     "text": [
      "\n",
      "100%|██████████| 198/198 [00:00<00:00, 197778.56it/s]\n",
      "\n",
      "100%|██████████| 1/1 [00:00<?, ?it/s]\u001b[A\n",
      "\n",
      "100%|██████████| 198/198 [00:00<00:00, 191176.84it/s]\n",
      "\n",
      "100%|██████████| 124/124 [00:00<00:00, 124157.01it/s]\n",
      "\n",
      "100%|██████████| 1/1 [00:00<?, ?it/s]\u001b[A\n",
      "\n",
      "100%|██████████| 124/124 [00:00<?, ?it/s]A\n",
      "545it [8:12:04, 135.35s/it]"
     ]
    },
    {
     "name": "stdout",
     "output_type": "stream",
     "text": [
      "Rv0638\n"
     ]
    },
    {
     "name": "stderr",
     "output_type": "stream",
     "text": [
      "\n",
      "100%|██████████| 73/73 [00:00<00:00, 48446.87it/s]\n",
      "\n",
      "100%|██████████| 1/1 [00:00<?, ?it/s]\u001b[A\n",
      "\n",
      "100%|██████████| 72/72 [00:00<00:00, 36024.08it/s]\n",
      "\n",
      "100%|██████████| 59/59 [00:00<00:00, 29509.17it/s]\n",
      "\n",
      "100%|██████████| 1/1 [00:00<?, ?it/s]\u001b[A\n",
      "\n",
      "100%|██████████| 59/59 [00:00<00:00, 29491.59it/s]\n",
      "548it [8:15:04, 94.99s/it] "
     ]
    },
    {
     "name": "stdout",
     "output_type": "stream",
     "text": [
      "Rv0639\n"
     ]
    },
    {
     "name": "stderr",
     "output_type": "stream",
     "text": [
      "\n",
      "100%|██████████| 210/210 [00:00<?, ?it/s]A\n",
      "\n",
      "100%|██████████| 1/1 [00:00<?, ?it/s]\u001b[A\n",
      "\n",
      "100%|██████████| 210/210 [00:00<?, ?it/s]A\n",
      "\n",
      "100%|██████████| 486/486 [00:00<00:00, 311353.56it/s]\n",
      "\n",
      "100%|██████████| 1/1 [00:00<?, ?it/s]\u001b[A\n",
      "\n",
      "100%|██████████| 486/486 [00:00<00:00, 193473.02it/s]\n",
      "549it [8:15:33, 81.62s/it]"
     ]
    },
    {
     "name": "stdout",
     "output_type": "stream",
     "text": [
      "Rv0640\n"
     ]
    },
    {
     "name": "stderr",
     "output_type": "stream",
     "text": [
      "\n",
      "100%|██████████| 215/215 [00:00<00:00, 215220.85it/s]\n",
      "\n",
      "100%|██████████| 1/1 [00:00<?, ?it/s]\u001b[A\n",
      "\n",
      "100%|██████████| 215/215 [00:00<00:00, 215272.23it/s]\n",
      "\n",
      "100%|██████████| 500/500 [00:00<00:00, 153132.68it/s]\n",
      "\n",
      "100%|██████████| 1/1 [00:00<?, ?it/s]\u001b[A\n",
      "\n",
      "100%|██████████| 500/500 [00:00<00:00, 249038.36it/s]\n",
      "550it [8:16:21, 73.89s/it]"
     ]
    },
    {
     "name": "stdout",
     "output_type": "stream",
     "text": [
      "Rv0641\n"
     ]
    },
    {
     "name": "stderr",
     "output_type": "stream",
     "text": [
      "\n",
      "100%|██████████| 215/215 [00:00<?, ?it/s]A\n",
      "\n",
      "100%|██████████| 1/1 [00:00<?, ?it/s]\u001b[A\n",
      "\n",
      "100%|██████████| 215/215 [00:00<00:00, 214861.89it/s]\n",
      "\n",
      "100%|██████████| 500/500 [00:00<00:00, 163062.90it/s]\n",
      "\n",
      "100%|██████████| 1/1 [00:00<?, ?it/s]\u001b[A\n",
      "\n",
      "100%|██████████| 500/500 [00:00<00:00, 166784.79it/s]\n",
      "551it [8:18:40, 89.79s/it]"
     ]
    },
    {
     "name": "stdout",
     "output_type": "stream",
     "text": [
      "Rv0642c\n"
     ]
    },
    {
     "name": "stderr",
     "output_type": "stream",
     "text": [
      "\n",
      "100%|██████████| 171/171 [00:00<?, ?it/s]A\n",
      "\n",
      "100%|██████████| 1/1 [00:00<?, ?it/s]\u001b[A\n",
      "\n",
      "100%|██████████| 171/171 [00:00<00:00, 170849.45it/s]\n",
      "\n",
      "100%|██████████| 106/106 [00:00<00:00, 70503.68it/s]\n",
      "\n",
      "100%|██████████| 1/1 [00:00<?, ?it/s]\u001b[A\n",
      "\n",
      "100%|██████████| 106/106 [00:00<?, ?it/s]A\n",
      "552it [8:19:02, 72.32s/it]"
     ]
    },
    {
     "name": "stdout",
     "output_type": "stream",
     "text": [
      "Rv0643c\n"
     ]
    },
    {
     "name": "stderr",
     "output_type": "stream",
     "text": [
      "\n",
      "100%|██████████| 63/63 [00:00<?, ?it/s][A\n",
      "\n",
      "100%|██████████| 1/1 [00:00<?, ?it/s]\u001b[A\n",
      "\n",
      "100%|██████████| 63/63 [00:00<00:00, 62854.70it/s]\n",
      "\n",
      "100%|██████████| 36/36 [00:00<?, ?it/s][A\n",
      "\n",
      "100%|██████████| 1/1 [00:00<?, ?it/s]\u001b[A\n",
      "\n",
      "100%|██████████| 36/36 [00:00<00:00, 36123.19it/s]\n",
      "553it [8:19:36, 62.02s/it]"
     ]
    },
    {
     "name": "stdout",
     "output_type": "stream",
     "text": [
      "Rv0644c\n"
     ]
    },
    {
     "name": "stderr",
     "output_type": "stream",
     "text": [
      "\n",
      "100%|██████████| 119/119 [00:00<?, ?it/s]A\n",
      "\n",
      "100%|██████████| 1/1 [00:00<?, ?it/s]\u001b[A\n",
      "\n",
      "100%|██████████| 118/118 [00:00<00:00, 118036.70it/s]\n",
      "\n",
      "100%|██████████| 72/72 [00:00<00:00, 72073.96it/s]\n",
      "\n",
      "100%|██████████| 1/1 [00:00<?, ?it/s]\u001b[A\n",
      "\n",
      "100%|██████████| 72/72 [00:00<?, ?it/s][A\n",
      "554it [8:20:34, 60.92s/it]"
     ]
    },
    {
     "name": "stdout",
     "output_type": "stream",
     "text": [
      "Rv0645c\n"
     ]
    },
    {
     "name": "stderr",
     "output_type": "stream",
     "text": [
      "\n",
      "100%|██████████| 77/77 [00:00<00:00, 76877.27it/s]\n",
      "\n",
      "100%|██████████| 1/1 [00:00<?, ?it/s]\u001b[A\n",
      "\n",
      "100%|██████████| 77/77 [00:00<?, ?it/s][A\n",
      "\n",
      "100%|██████████| 47/47 [00:00<?, ?it/s][A\n",
      "\n",
      "100%|██████████| 1/1 [00:00<?, ?it/s]\u001b[A\n",
      "\n",
      "100%|██████████| 47/47 [00:00<?, ?it/s][A\n",
      "555it [8:20:54, 49.24s/it]"
     ]
    },
    {
     "name": "stdout",
     "output_type": "stream",
     "text": [
      "Rv0647c\n"
     ]
    },
    {
     "name": "stderr",
     "output_type": "stream",
     "text": [
      "\n",
      "100%|██████████| 210/210 [00:00<00:00, 104496.84it/s]\n",
      "\n",
      "100%|██████████| 1/1 [00:00<?, ?it/s]\u001b[A\n",
      "\n",
      "100%|██████████| 210/210 [00:00<00:00, 105120.40it/s]\n",
      "\n",
      "100%|██████████| 132/132 [00:00<00:00, 131915.21it/s]\n",
      "\n",
      "100%|██████████| 1/1 [00:00<?, ?it/s]\u001b[A\n",
      "\n",
      "100%|██████████| 132/132 [00:00<00:00, 131476.64it/s]\n",
      "557it [8:21:33, 36.01s/it]"
     ]
    },
    {
     "name": "stdout",
     "output_type": "stream",
     "text": [
      "Rv0648\n"
     ]
    },
    {
     "name": "stderr",
     "output_type": "stream",
     "text": [
      "\n",
      "100%|██████████| 176/176 [00:00<00:00, 177664.86it/s]\n",
      "\n",
      "100%|██████████| 1/1 [00:00<?, ?it/s]\u001b[A\n",
      "\n",
      "100%|██████████| 176/176 [00:00<00:00, 175845.05it/s]\n",
      "\n",
      "100%|██████████| 104/104 [00:00<?, ?it/s]A\n",
      "\n",
      "100%|██████████| 1/1 [00:00<?, ?it/s]\u001b[A\n",
      "\n",
      "100%|██████████| 104/104 [00:00<00:00, 103982.75it/s]\n",
      "558it [8:22:11, 36.49s/it]"
     ]
    },
    {
     "name": "stdout",
     "output_type": "stream",
     "text": [
      "Rv0651\n"
     ]
    },
    {
     "name": "stderr",
     "output_type": "stream",
     "text": [
      "\n",
      "100%|██████████| 213/213 [00:00<00:00, 35139.50it/s]\n",
      "\n",
      "100%|██████████| 1/1 [00:00<?, ?it/s]\u001b[A\n",
      "\n",
      "100%|██████████| 213/213 [00:00<00:00, 42864.73it/s]\n",
      "\n",
      "100%|██████████| 493/493 [00:00<00:00, 44471.51it/s]\n",
      "\n",
      "100%|██████████| 1/1 [00:00<?, ?it/s]\u001b[A\n",
      "\n",
      "100%|██████████| 493/493 [00:00<00:00, 42780.43it/s]\n",
      "561it [8:31:17, 110.65s/it]"
     ]
    },
    {
     "name": "stdout",
     "output_type": "stream",
     "text": [
      "Rv0652\n"
     ]
    },
    {
     "name": "stderr",
     "output_type": "stream",
     "text": [
      "\n",
      "100%|██████████| 214/214 [00:00<00:00, 205867.21it/s]\n",
      "\n",
      "100%|██████████| 1/1 [00:00<00:00, 997.93it/s]\n",
      "\n",
      "100%|██████████| 214/214 [00:00<00:00, 213862.53it/s]\n",
      "\n",
      "100%|██████████| 499/499 [00:00<00:00, 248747.05it/s]\n",
      "\n",
      "100%|██████████| 1/1 [00:00<?, ?it/s]\u001b[A\n",
      "\n",
      "100%|██████████| 499/499 [00:00<00:00, 166305.74it/s]\n",
      "562it [8:31:47, 94.77s/it] "
     ]
    },
    {
     "name": "stdout",
     "output_type": "stream",
     "text": [
      "Rv0653c\n"
     ]
    },
    {
     "name": "stderr",
     "output_type": "stream",
     "text": [
      "\n",
      "100%|██████████| 97/97 [00:00<00:00, 97331.93it/s]\n",
      "\n",
      "100%|██████████| 1/1 [00:00<?, ?it/s]\u001b[A\n",
      "\n",
      "100%|██████████| 97/97 [00:00<?, ?it/s][A\n",
      "\n",
      "100%|██████████| 59/59 [00:00<?, ?it/s][A\n",
      "\n",
      "100%|██████████| 1/1 [00:00<00:00, 1005.59it/s]\n",
      "\n",
      "100%|██████████| 59/59 [00:00<?, ?it/s][A\n",
      "563it [8:32:08, 78.78s/it]"
     ]
    },
    {
     "name": "stdout",
     "output_type": "stream",
     "text": [
      "Rv0654\n"
     ]
    },
    {
     "name": "stderr",
     "output_type": "stream",
     "text": [
      "\n",
      "100%|██████████| 116/116 [00:00<?, ?it/s]A\n",
      "\n",
      "100%|██████████| 1/1 [00:00<?, ?it/s]\u001b[A\n",
      "\n",
      "100%|██████████| 116/116 [00:00<00:00, 115815.11it/s]\n",
      "\n",
      "100%|██████████| 78/78 [00:00<?, ?it/s][A\n",
      "\n",
      "100%|██████████| 1/1 [00:00<?, ?it/s]\u001b[A\n",
      "\n",
      "100%|██████████| 78/78 [00:00<?, ?it/s][A\n",
      "564it [8:32:38, 67.10s/it]"
     ]
    },
    {
     "name": "stdout",
     "output_type": "stream",
     "text": [
      "Rv0656c\n"
     ]
    },
    {
     "name": "stderr",
     "output_type": "stream",
     "text": [
      "\n",
      "100%|██████████| 17/17 [00:00<?, ?it/s][A\n",
      "\n",
      "100%|██████████| 1/1 [00:00<?, ?it/s]\u001b[A\n",
      "\n",
      "100%|██████████| 17/17 [00:00<?, ?it/s][A\n",
      "566it [8:32:57, 43.82s/it]"
     ]
    },
    {
     "name": "stdout",
     "output_type": "stream",
     "text": [
      "Rv0657c\n"
     ]
    },
    {
     "name": "stderr",
     "output_type": "stream",
     "text": [
      "\n",
      "100%|██████████| 43/43 [00:00<?, ?it/s][A\n",
      "\n",
      "100%|██████████| 1/1 [00:00<00:00, 1002.46it/s]\n",
      "\n",
      "100%|██████████| 43/43 [00:00<?, ?it/s][A\n",
      "567it [8:33:16, 38.23s/it]"
     ]
    },
    {
     "name": "stdout",
     "output_type": "stream",
     "text": [
      "Rv0658c\n"
     ]
    },
    {
     "name": "stderr",
     "output_type": "stream",
     "text": [
      "\n",
      "100%|██████████| 20/20 [00:00<00:00, 20058.84it/s]\n",
      "\n",
      "100%|██████████| 1/1 [00:00<?, ?it/s]\u001b[A\n",
      "\n",
      "100%|██████████| 20/20 [00:00<?, ?it/s][A\n",
      "\n",
      "100%|██████████| 12/12 [00:00<00:00, 12003.73it/s]\n",
      "\n",
      "100%|██████████| 1/1 [00:00<?, ?it/s]\u001b[A\n",
      "\n",
      "100%|██████████| 12/12 [00:00<?, ?it/s][A\n",
      "568it [8:34:42, 49.84s/it]"
     ]
    },
    {
     "name": "stdout",
     "output_type": "stream",
     "text": [
      "Rv0660c\n"
     ]
    },
    {
     "name": "stderr",
     "output_type": "stream",
     "text": [
      "\n",
      "100%|██████████| 12/12 [00:00<?, ?it/s][A\n",
      "\n",
      "100%|██████████| 1/1 [00:00<?, ?it/s]\u001b[A\n",
      "\n",
      "100%|██████████| 12/12 [00:00<?, ?it/s][A\n",
      "570it [8:35:04, 33.98s/it]"
     ]
    },
    {
     "name": "stdout",
     "output_type": "stream",
     "text": [
      "Rv0662c\n"
     ]
    },
    {
     "name": "stderr",
     "output_type": "stream",
     "text": [
      "572it [8:35:17, 23.79s/it]"
     ]
    },
    {
     "name": "stdout",
     "output_type": "stream",
     "text": [
      "Rv0663\n"
     ]
    },
    {
     "name": "stderr",
     "output_type": "stream",
     "text": [
      "\n",
      "100%|██████████| 42/42 [00:00<?, ?it/s][A\n",
      "\n",
      "100%|██████████| 1/1 [00:00<?, ?it/s]\u001b[A\n",
      "\n",
      "100%|██████████| 42/42 [00:00<?, ?it/s][A\n",
      "\n",
      "100%|██████████| 82/82 [00:00<?, ?it/s][A\n",
      "\n",
      "100%|██████████| 1/1 [00:00<?, ?it/s]\u001b[A\n",
      "\n",
      "100%|██████████| 82/82 [00:00<?, ?it/s][A\n",
      "573it [8:35:42, 24.11s/it]"
     ]
    },
    {
     "name": "stdout",
     "output_type": "stream",
     "text": [
      "Rv0664\n"
     ]
    },
    {
     "name": "stderr",
     "output_type": "stream",
     "text": [
      "574it [8:35:55, 21.48s/it]"
     ]
    },
    {
     "name": "stdout",
     "output_type": "stream",
     "text": [
      "Rv0667\n"
     ]
    },
    {
     "name": "stderr",
     "output_type": "stream",
     "text": [
      "\n",
      "100%|██████████| 215/215 [00:00<00:00, 30702.92it/s]\n",
      "\n",
      "100%|██████████| 1/1 [00:00<?, ?it/s]\u001b[A\n",
      "\n",
      "100%|██████████| 215/215 [00:00<00:00, 28585.14it/s]\n",
      "\n",
      "100%|██████████| 486/486 [00:00<00:00, 30316.66it/s]\n",
      "\n",
      "100%|██████████| 1/1 [00:00<?, ?it/s]\u001b[A\n",
      "\n",
      "100%|██████████| 486/486 [00:00<00:00, 33456.40it/s]\n",
      "577it [8:59:17, 242.69s/it]"
     ]
    },
    {
     "name": "stdout",
     "output_type": "stream",
     "text": [
      "Rv0668\n"
     ]
    },
    {
     "name": "stderr",
     "output_type": "stream",
     "text": [
      "\n",
      "100%|██████████| 210/210 [00:00<00:00, 209865.10it/s]\n",
      "\n",
      "100%|██████████| 1/1 [00:00<?, ?it/s]\u001b[A\n",
      "\n",
      "100%|██████████| 210/210 [00:00<00:00, 210617.85it/s]\n",
      "\n",
      "100%|██████████| 500/500 [00:00<00:00, 166374.61it/s]\n",
      "\n",
      "100%|██████████| 1/1 [00:00<?, ?it/s]\u001b[A\n",
      "\n",
      "100%|██████████| 500/500 [00:00<00:00, 166652.26it/s]\n",
      "578it [9:00:00, 204.54s/it]"
     ]
    },
    {
     "name": "stdout",
     "output_type": "stream",
     "text": [
      "Rv0669c\n"
     ]
    },
    {
     "name": "stderr",
     "output_type": "stream",
     "text": [
      "\n",
      "100%|██████████| 18/18 [00:00<00:00, 18113.60it/s]\n",
      "\n",
      "100%|██████████| 1/1 [00:00<?, ?it/s]\u001b[A\n",
      "\n",
      "100%|██████████| 18/18 [00:00<?, ?it/s][A\n",
      "\n",
      "100%|██████████| 13/13 [00:00<?, ?it/s][A\n",
      "\n",
      "100%|██████████| 1/1 [00:00<00:00, 998.41it/s]\n",
      "\n",
      "100%|██████████| 13/13 [00:00<?, ?it/s][A\n",
      "579it [9:01:04, 174.40s/it]"
     ]
    },
    {
     "name": "stdout",
     "output_type": "stream",
     "text": [
      "Rv0670\n"
     ]
    },
    {
     "name": "stderr",
     "output_type": "stream",
     "text": [
      "\n",
      "100%|██████████| 191/191 [00:00<00:00, 95529.70it/s]\n",
      "\n",
      "100%|██████████| 1/1 [00:00<?, ?it/s]\u001b[A\n",
      "\n",
      "100%|██████████| 191/191 [00:00<00:00, 63661.16it/s]\n",
      "\n",
      "100%|██████████| 159/159 [00:00<00:00, 63393.00it/s]\n",
      "\n",
      "100%|██████████| 1/1 [00:00<?, ?it/s]\u001b[A\n",
      "\n",
      "100%|██████████| 159/159 [00:00<00:00, 79401.64it/s]\n",
      "580it [9:02:32, 154.21s/it]"
     ]
    },
    {
     "name": "stdout",
     "output_type": "stream",
     "text": [
      "Rv0671\n"
     ]
    },
    {
     "name": "stderr",
     "output_type": "stream",
     "text": [
      "\n",
      "100%|██████████| 61/61 [00:00<?, ?it/s][A\n",
      "\n",
      "100%|██████████| 1/1 [00:00<?, ?it/s]\u001b[A\n",
      "\n",
      "100%|██████████| 61/61 [00:00<00:00, 60989.88it/s]\n",
      "\n",
      "100%|██████████| 37/37 [00:00<?, ?it/s][A\n",
      "\n",
      "100%|██████████| 1/1 [00:00<?, ?it/s]\u001b[A\n",
      "\n",
      "100%|██████████| 37/37 [00:00<?, ?it/s][A\n",
      "581it [9:02:53, 120.68s/it]"
     ]
    },
    {
     "name": "stdout",
     "output_type": "stream",
     "text": [
      "Rv0672\n"
     ]
    },
    {
     "name": "stderr",
     "output_type": "stream",
     "text": [
      "\n",
      "100%|██████████| 211/211 [00:00<00:00, 28112.14it/s]\n",
      "\n",
      "100%|██████████| 1/1 [00:00<?, ?it/s]\u001b[A\n",
      "\n",
      "100%|██████████| 211/211 [00:00<00:00, 210713.84it/s]\n",
      "\n",
      "100%|██████████| 488/488 [00:00<00:00, 162691.39it/s]\n",
      "\n",
      "100%|██████████| 1/1 [00:00<?, ?it/s]\u001b[A\n",
      "\n",
      "100%|██████████| 488/488 [00:00<00:00, 122154.47it/s]\n",
      "582it [9:03:47, 103.11s/it]"
     ]
    },
    {
     "name": "stdout",
     "output_type": "stream",
     "text": [
      "Rv0677c\n"
     ]
    },
    {
     "name": "stderr",
     "output_type": "stream",
     "text": [
      "\n",
      "100%|██████████| 81/81 [00:00<?, ?it/s][A\n",
      "\n",
      "100%|██████████| 1/1 [00:00<?, ?it/s]\u001b[A\n",
      "\n",
      "100%|██████████| 81/81 [00:00<?, ?it/s][A\n",
      "\n",
      "100%|██████████| 59/59 [00:00<?, ?it/s][A\n",
      "\n",
      "100%|██████████| 1/1 [00:00<00:00, 1001.27it/s]\n",
      "\n",
      "100%|██████████| 59/59 [00:00<?, ?it/s][A\n",
      "587it [9:04:14, 39.27s/it] "
     ]
    },
    {
     "name": "stdout",
     "output_type": "stream",
     "text": [
      "Rv0678\n"
     ]
    },
    {
     "name": "stderr",
     "output_type": "stream",
     "text": [
      "588it [9:04:27, 35.12s/it]"
     ]
    },
    {
     "name": "stdout",
     "output_type": "stream",
     "text": [
      "Rv0680c\n"
     ]
    },
    {
     "name": "stderr",
     "output_type": "stream",
     "text": [
      "\n",
      "100%|██████████| 155/155 [00:00<00:00, 77404.11it/s]\n",
      "\n",
      "100%|██████████| 1/1 [00:00<00:00, 1001.98it/s]\n",
      "\n",
      "100%|██████████| 155/155 [00:00<00:00, 51682.73it/s]\n",
      "\n",
      "100%|██████████| 96/96 [00:00<00:00, 48032.11it/s]\n",
      "\n",
      "100%|██████████| 1/1 [00:00<?, ?it/s]\u001b[A\n",
      "\n",
      "100%|██████████| 96/96 [00:00<00:00, 48009.20it/s]\n",
      "590it [9:06:54, 46.95s/it]"
     ]
    },
    {
     "name": "stdout",
     "output_type": "stream",
     "text": [
      "Rv0681\n"
     ]
    },
    {
     "name": "stderr",
     "output_type": "stream",
     "text": [
      "\n",
      "100%|██████████| 195/195 [00:00<00:00, 48709.98it/s]\n",
      "\n",
      "100%|██████████| 1/1 [00:00<?, ?it/s]\u001b[A\n",
      "\n",
      "100%|██████████| 195/195 [00:00<00:00, 35368.19it/s]\n",
      "\n",
      "100%|██████████| 120/120 [00:00<00:00, 39917.24it/s]\n",
      "\n",
      "100%|██████████| 1/1 [00:00<?, ?it/s]\u001b[A\n",
      "\n",
      "100%|██████████| 120/120 [00:00<00:00, 47843.77it/s]\n",
      "591it [9:09:07, 62.59s/it]"
     ]
    },
    {
     "name": "stdout",
     "output_type": "stream",
     "text": [
      "Rv0682\n"
     ]
    },
    {
     "name": "stderr",
     "output_type": "stream",
     "text": [
      "\n",
      "100%|██████████| 215/215 [00:00<00:00, 61187.09it/s]\n",
      "\n",
      "100%|██████████| 1/1 [00:00<?, ?it/s]\u001b[A\n",
      "\n",
      "100%|██████████| 215/215 [00:00<00:00, 53645.17it/s]\n",
      "\n",
      "100%|██████████| 500/500 [00:00<00:00, 52525.97it/s]\n",
      "\n",
      "100%|██████████| 1/1 [00:00<?, ?it/s]\u001b[A\n",
      "\n",
      "100%|██████████| 500/500 [00:00<00:00, 55556.64it/s]\n",
      "592it [9:16:20, 138.78s/it]"
     ]
    },
    {
     "name": "stdout",
     "output_type": "stream",
     "text": [
      "Rv0684\n"
     ]
    },
    {
     "name": "stderr",
     "output_type": "stream",
     "text": [
      "\n",
      "100%|██████████| 215/215 [00:00<00:00, 142123.78it/s]\n",
      "\n",
      "100%|██████████| 1/1 [00:00<?, ?it/s]\u001b[A\n",
      "\n",
      "100%|██████████| 215/215 [00:00<00:00, 214453.12it/s]\n",
      "\n",
      "100%|██████████| 500/500 [00:00<00:00, 110702.70it/s]\n",
      "\n",
      "100%|██████████| 1/1 [00:00<?, ?it/s]\u001b[A\n",
      "\n",
      "100%|██████████| 500/500 [00:00<00:00, 110580.12it/s]\n",
      "594it [9:17:36, 101.52s/it]"
     ]
    },
    {
     "name": "stdout",
     "output_type": "stream",
     "text": [
      "Rv0685\n"
     ]
    },
    {
     "name": "stderr",
     "output_type": "stream",
     "text": [
      "\n",
      "100%|██████████| 208/208 [00:00<00:00, 103896.06it/s]\n",
      "\n",
      "100%|██████████| 1/1 [00:00<?, ?it/s]\u001b[A\n",
      "\n",
      "100%|██████████| 208/208 [00:00<00:00, 58990.82it/s]\n",
      "\n",
      "100%|██████████| 500/500 [00:00<00:00, 62430.10it/s]\n",
      "\n",
      "100%|██████████| 1/1 [00:00<?, ?it/s]\u001b[A\n",
      "\n",
      "100%|██████████| 500/500 [00:00<00:00, 62467.29it/s]\n",
      "595it [9:22:14, 138.54s/it]"
     ]
    },
    {
     "name": "stdout",
     "output_type": "stream",
     "text": [
      "Rv0686\n"
     ]
    },
    {
     "name": "stderr",
     "output_type": "stream",
     "text": [
      "\n",
      "100%|██████████| 113/113 [00:00<00:00, 112072.91it/s]\n",
      "\n",
      "100%|██████████| 1/1 [00:00<00:00, 998.64it/s]\n",
      "\n",
      "100%|██████████| 113/113 [00:00<00:00, 75016.83it/s]\n",
      "\n",
      "100%|██████████| 68/68 [00:00<?, ?it/s][A\n",
      "\n",
      "100%|██████████| 1/1 [00:00<?, ?it/s]\u001b[A\n",
      "\n",
      "100%|██████████| 68/68 [00:00<00:00, 68004.93it/s]\n",
      "596it [9:22:56, 116.21s/it]"
     ]
    },
    {
     "name": "stdout",
     "output_type": "stream",
     "text": [
      "Rv0687\n"
     ]
    },
    {
     "name": "stderr",
     "output_type": "stream",
     "text": [
      "\n",
      "100%|██████████| 198/198 [00:00<00:00, 65962.84it/s]\n",
      "\n",
      "100%|██████████| 1/1 [00:00<00:00, 998.64it/s]\n",
      "\n",
      "100%|██████████| 198/198 [00:00<00:00, 24027.78it/s]\n",
      "\n",
      "100%|██████████| 133/133 [00:00<00:00, 166968.70it/s]\n",
      "\n",
      "100%|██████████| 1/1 [00:00<?, ?it/s]\u001b[A\n",
      "\n",
      "100%|██████████| 133/133 [00:00<00:00, 66616.01it/s]\n",
      "597it [9:23:36, 97.43s/it] "
     ]
    },
    {
     "name": "stdout",
     "output_type": "stream",
     "text": [
      "Rv0689c\n"
     ]
    },
    {
     "name": "stderr",
     "output_type": "stream",
     "text": [
      "599it [9:23:49, 59.68s/it]"
     ]
    },
    {
     "name": "stdout",
     "output_type": "stream",
     "text": [
      "Rv0691c\n"
     ]
    },
    {
     "name": "stderr",
     "output_type": "stream",
     "text": [
      "\n",
      "100%|██████████| 203/203 [00:00<00:00, 100714.89it/s]\n",
      "\n",
      "100%|██████████| 1/1 [00:00<?, ?it/s]\u001b[A\n",
      "\n",
      "100%|██████████| 203/203 [00:00<00:00, 193862.41it/s]\n",
      "\n",
      "100%|██████████| 126/126 [00:00<?, ?it/s]A\n",
      "\n",
      "100%|██████████| 1/1 [00:00<00:00, 992.97it/s]\n",
      "\n",
      "100%|██████████| 126/126 [00:00<?, ?it/s]A\n",
      "601it [9:24:22, 43.74s/it]"
     ]
    },
    {
     "name": "stdout",
     "output_type": "stream",
     "text": [
      "Rv0691A\n"
     ]
    },
    {
     "name": "stderr",
     "output_type": "stream",
     "text": [
      "\n",
      "100%|██████████| 25/25 [00:00<00:00, 24977.99it/s]\n",
      "\n",
      "100%|██████████| 1/1 [00:00<?, ?it/s]\u001b[A\n",
      "\n",
      "100%|██████████| 25/25 [00:00<?, ?it/s][A\n",
      "602it [9:24:39, 38.07s/it]"
     ]
    },
    {
     "name": "stdout",
     "output_type": "stream",
     "text": [
      "Rv0695\n"
     ]
    },
    {
     "name": "stderr",
     "output_type": "stream",
     "text": [
      "\n",
      "100%|██████████| 204/204 [00:00<00:00, 101995.23it/s]\n",
      "\n",
      "100%|██████████| 1/1 [00:00<?, ?it/s]\u001b[A\n",
      "\n",
      "100%|██████████| 204/204 [00:00<00:00, 101849.54it/s]\n",
      "\n",
      "100%|██████████| 126/126 [00:00<00:00, 56269.41it/s]\n",
      "\n",
      "100%|██████████| 1/1 [00:00<?, ?it/s]\u001b[A\n",
      "\n",
      "100%|██████████| 126/126 [00:00<00:00, 125949.07it/s]\n",
      "606it [9:25:28, 23.95s/it]"
     ]
    },
    {
     "name": "stdout",
     "output_type": "stream",
     "text": [
      "Rv0696\n"
     ]
    },
    {
     "name": "stderr",
     "output_type": "stream",
     "text": [
      "\n",
      "100%|██████████| 207/207 [00:00<00:00, 176755.07it/s]\n",
      "\n",
      "100%|██████████| 1/1 [00:00<?, ?it/s]\u001b[A\n",
      "\n",
      "100%|██████████| 207/207 [00:00<00:00, 207064.38it/s]\n",
      "\n",
      "100%|██████████| 130/130 [00:00<?, ?it/s]A\n",
      "\n",
      "100%|██████████| 1/1 [00:00<?, ?it/s]\u001b[A\n",
      "\n",
      "100%|██████████| 130/130 [00:00<?, ?it/s]A\n",
      "607it [9:25:48, 23.34s/it]"
     ]
    },
    {
     "name": "stdout",
     "output_type": "stream",
     "text": [
      "Rv0698\n"
     ]
    },
    {
     "name": "stderr",
     "output_type": "stream",
     "text": [
      "609it [9:26:00, 17.85s/it]"
     ]
    },
    {
     "name": "stdout",
     "output_type": "stream",
     "text": [
      "Rv0699\n"
     ]
    },
    {
     "name": "stderr",
     "output_type": "stream",
     "text": [
      "610it [9:26:12, 16.78s/it]"
     ]
    },
    {
     "name": "stdout",
     "output_type": "stream",
     "text": [
      "Rv0700\n"
     ]
    },
    {
     "name": "stderr",
     "output_type": "stream",
     "text": [
      "\n",
      "100%|██████████| 209/209 [00:00<00:00, 24513.69it/s]\n",
      "\n",
      "100%|██████████| 1/1 [00:00<?, ?it/s]\u001b[A\n",
      "\n",
      "100%|██████████| 209/209 [00:00<00:00, 24532.90it/s]\n",
      "\n",
      "100%|██████████| 500/500 [00:00<00:00, 26997.32it/s]\n",
      "\n",
      "100%|██████████| 1/1 [00:00<?, ?it/s]\u001b[A\n",
      "\n",
      "100%|██████████| 500/500 [00:00<00:00, 25611.88it/s]\n",
      "611it [9:56:39, 395.13s/it]"
     ]
    },
    {
     "name": "stdout",
     "output_type": "stream",
     "text": [
      "Rv0704\n"
     ]
    },
    {
     "name": "stderr",
     "output_type": "stream",
     "text": [
      "\n",
      "100%|██████████| 215/215 [00:00<00:00, 107430.95it/s]\n",
      "\n",
      "100%|██████████| 1/1 [00:00<?, ?it/s]\u001b[A\n",
      "\n",
      "100%|██████████| 215/215 [00:00<00:00, 215426.51it/s]\n",
      "\n",
      "100%|██████████| 500/500 [00:00<00:00, 125009.06it/s]\n",
      "\n",
      "100%|██████████| 1/1 [00:00<?, ?it/s]\u001b[A\n",
      "\n",
      "100%|██████████| 500/500 [00:00<00:00, 124912.26it/s]\n",
      "615it [9:57:38, 188.11s/it]"
     ]
    },
    {
     "name": "stdout",
     "output_type": "stream",
     "text": [
      "Rv0705\n"
     ]
    },
    {
     "name": "stderr",
     "output_type": "stream",
     "text": [
      "\n",
      "100%|██████████| 215/215 [00:00<?, ?it/s]A\n",
      "\n",
      "100%|██████████| 1/1 [00:00<?, ?it/s]\u001b[A\n",
      "\n",
      "100%|██████████| 215/215 [00:00<?, ?it/s]A\n",
      "\n",
      "100%|██████████| 500/500 [00:00<00:00, 249809.65it/s]\n",
      "\n",
      "100%|██████████| 1/1 [00:00<?, ?it/s]\u001b[A\n",
      "\n",
      "100%|██████████| 500/500 [00:00<00:00, 250137.40it/s]\n",
      "616it [9:58:30, 165.92s/it]"
     ]
    },
    {
     "name": "stdout",
     "output_type": "stream",
     "text": [
      "Rv0711\n"
     ]
    },
    {
     "name": "stderr",
     "output_type": "stream",
     "text": [
      "\n",
      "100%|██████████| 198/198 [00:00<00:00, 198392.78it/s]\n",
      "\n",
      "100%|██████████| 1/1 [00:00<?, ?it/s]\u001b[A\n",
      "\n",
      "100%|██████████| 198/198 [00:00<00:00, 98712.97it/s]\n",
      "\n",
      "100%|██████████| 135/135 [00:00<00:00, 134656.61it/s]\n",
      "\n",
      "100%|██████████| 1/1 [00:00<?, ?it/s]\u001b[A\n",
      "\n",
      "100%|██████████| 135/135 [00:00<00:00, 135074.20it/s]\n",
      "622it [9:59:28, 74.86s/it] "
     ]
    },
    {
     "name": "stdout",
     "output_type": "stream",
     "text": [
      "Rv0712\n"
     ]
    },
    {
     "name": "stderr",
     "output_type": "stream",
     "text": [
      "\n",
      "100%|██████████| 204/204 [00:00<00:00, 397971.17it/s]\n",
      "\n",
      "100%|██████████| 1/1 [00:00<?, ?it/s]\u001b[A\n",
      "\n",
      "100%|██████████| 204/204 [00:00<?, ?it/s]A\n",
      "\n",
      "100%|██████████| 163/163 [00:00<00:00, 162778.94it/s]\n",
      "\n",
      "100%|██████████| 1/1 [00:00<?, ?it/s]\u001b[A\n",
      "\n",
      "100%|██████████| 163/163 [00:00<?, ?it/s]A\n",
      "623it [9:59:57, 69.36s/it]"
     ]
    },
    {
     "name": "stdout",
     "output_type": "stream",
     "text": [
      "Rv0713\n"
     ]
    },
    {
     "name": "stderr",
     "output_type": "stream",
     "text": [
      "\n",
      "100%|██████████| 55/55 [00:00<00:00, 54561.67it/s]\n",
      "\n",
      "100%|██████████| 1/1 [00:00<?, ?it/s]\u001b[A\n",
      "\n",
      "100%|██████████| 55/55 [00:00<00:00, 54860.10it/s]\n",
      "\n",
      "100%|██████████| 34/34 [00:00<?, ?it/s][A\n",
      "\n",
      "100%|██████████| 1/1 [00:00<?, ?it/s]\u001b[A\n",
      "\n",
      "100%|██████████| 34/34 [00:00<00:00, 34034.93it/s]\n",
      "624it [10:01:13, 70.37s/it]"
     ]
    },
    {
     "name": "stdout",
     "output_type": "stream",
     "text": [
      "Rv0714\n"
     ]
    },
    {
     "name": "stderr",
     "output_type": "stream",
     "text": [
      "\n",
      "100%|██████████| 214/214 [00:00<00:00, 35181.32it/s]\n",
      "\n",
      "100%|██████████| 1/1 [00:00<?, ?it/s]\u001b[A\n",
      "\n",
      "100%|██████████| 211/211 [00:00<00:00, 33027.25it/s]\n",
      "\n",
      "100%|██████████| 499/499 [00:00<00:00, 34372.20it/s]\n",
      "\n",
      "100%|██████████| 1/1 [00:00<?, ?it/s]\u001b[A\n",
      "\n",
      "100%|██████████| 498/498 [00:00<00:00, 32288.81it/s]\n",
      "625it [10:16:15, 215.53s/it]"
     ]
    },
    {
     "name": "stdout",
     "output_type": "stream",
     "text": [
      "Rv0718\n"
     ]
    },
    {
     "name": "stderr",
     "output_type": "stream",
     "text": [
      "\n",
      "100%|██████████| 215/215 [00:00<00:00, 107239.31it/s]\n",
      "\n",
      "100%|██████████| 1/1 [00:00<00:00, 913.19it/s]\n",
      "\n",
      "100%|██████████| 215/215 [00:00<00:00, 71632.01it/s]\n",
      "\n",
      "100%|██████████| 500/500 [00:00<00:00, 90774.01it/s]\n",
      "\n",
      "100%|██████████| 1/1 [00:00<?, ?it/s]\u001b[A\n",
      "\n",
      "100%|██████████| 500/500 [00:00<00:00, 76790.63it/s]\n",
      "629it [10:19:13, 130.18s/it]"
     ]
    },
    {
     "name": "stdout",
     "output_type": "stream",
     "text": [
      "Rv0724\n"
     ]
    },
    {
     "name": "stderr",
     "output_type": "stream",
     "text": [
      "\n",
      "100%|██████████| 204/204 [00:00<?, ?it/s]A\n",
      "\n",
      "100%|██████████| 1/1 [00:00<?, ?it/s]\u001b[A\n",
      "\n",
      "100%|██████████| 204/204 [00:00<00:00, 203820.39it/s]\n",
      "\n",
      "100%|██████████| 128/128 [00:00<?, ?it/s]A\n",
      "\n",
      "100%|██████████| 1/1 [00:00<00:00, 1000.31it/s]\n",
      "\n",
      "100%|██████████| 128/128 [00:00<?, ?it/s]A\n",
      "635it [10:19:37, 64.95s/it] "
     ]
    },
    {
     "name": "stdout",
     "output_type": "stream",
     "text": [
      "Rv0725c\n"
     ]
    },
    {
     "name": "stderr",
     "output_type": "stream",
     "text": [
      "636it [10:19:50, 59.15s/it]"
     ]
    },
    {
     "name": "stdout",
     "output_type": "stream",
     "text": [
      "Rv0726c\n"
     ]
    },
    {
     "name": "stderr",
     "output_type": "stream",
     "text": [
      "\n",
      "100%|██████████| 61/61 [00:00<?, ?it/s][A\n",
      "\n",
      "100%|██████████| 1/1 [00:00<?, ?it/s]\u001b[A\n",
      "\n",
      "100%|██████████| 61/61 [00:00<00:00, 60888.28it/s]\n",
      "\n",
      "100%|██████████| 37/37 [00:00<?, ?it/s][A\n",
      "\n",
      "100%|██████████| 1/1 [00:00<?, ?it/s]\u001b[A\n",
      "\n",
      "100%|██████████| 37/37 [00:00<00:00, 37099.99it/s]\n",
      "637it [10:20:52, 59.66s/it]"
     ]
    },
    {
     "name": "stdout",
     "output_type": "stream",
     "text": [
      "Rv0728c\n"
     ]
    },
    {
     "name": "stderr",
     "output_type": "stream",
     "text": [
      "\n",
      "100%|██████████| 90/90 [00:00<?, ?it/s][A\n",
      "\n",
      "100%|██████████| 1/1 [00:00<?, ?it/s]\u001b[A\n",
      "\n",
      "100%|██████████| 90/90 [00:00<00:00, 65902.12it/s]\n",
      "\n",
      "100%|██████████| 52/52 [00:00<00:00, 52303.07it/s]\n",
      "\n",
      "100%|██████████| 1/1 [00:00<?, ?it/s]\u001b[A\n",
      "\n",
      "100%|██████████| 52/52 [00:00<?, ?it/s][A\n",
      "639it [10:21:11, 45.58s/it]"
     ]
    },
    {
     "name": "stdout",
     "output_type": "stream",
     "text": [
      "Rv0729\n"
     ]
    },
    {
     "name": "stderr",
     "output_type": "stream",
     "text": [
      "\n",
      "100%|██████████| 86/86 [00:00<?, ?it/s][A\n",
      "\n",
      "100%|██████████| 1/1 [00:00<?, ?it/s]\u001b[A\n",
      "\n",
      "100%|██████████| 86/86 [00:00<?, ?it/s][A\n",
      "\n",
      "100%|██████████| 50/50 [00:00<00:00, 49967.88it/s]\n",
      "\n",
      "100%|██████████| 1/1 [00:00<?, ?it/s]\u001b[A\n",
      "\n",
      "100%|██████████| 50/50 [00:00<?, ?it/s][A\n",
      "640it [10:21:29, 41.10s/it]"
     ]
    },
    {
     "name": "stdout",
     "output_type": "stream",
     "text": [
      "Rv0731c\n"
     ]
    },
    {
     "name": "stderr",
     "output_type": "stream",
     "text": [
      "\n",
      "100%|██████████| 43/43 [00:00<?, ?it/s][A\n",
      "\n",
      "100%|██████████| 1/1 [00:00<?, ?it/s]\u001b[A\n",
      "\n",
      "100%|██████████| 43/43 [00:00<?, ?it/s][A\n",
      "\n",
      "100%|██████████| 26/26 [00:00<?, ?it/s][A\n",
      "\n",
      "100%|██████████| 1/1 [00:00<?, ?it/s]\u001b[A\n",
      "\n",
      "100%|██████████| 26/26 [00:00<?, ?it/s][A\n",
      "642it [10:22:05, 33.59s/it]"
     ]
    },
    {
     "name": "stdout",
     "output_type": "stream",
     "text": [
      "Rv0732\n"
     ]
    },
    {
     "name": "stderr",
     "output_type": "stream",
     "text": [
      "\n",
      "100%|██████████| 215/215 [00:00<00:00, 71643.39it/s]\n",
      "\n",
      "100%|██████████| 1/1 [00:00<?, ?it/s]\u001b[A\n",
      "\n",
      "100%|██████████| 215/215 [00:00<00:00, 78184.10it/s]\n",
      "\n",
      "100%|██████████| 490/490 [00:00<00:00, 81614.21it/s]\n",
      "\n",
      "100%|██████████| 1/1 [00:00<?, ?it/s]\u001b[A\n",
      "\n",
      "100%|██████████| 490/490 [00:00<00:00, 82001.71it/s]\n",
      "643it [10:25:33, 66.12s/it]"
     ]
    },
    {
     "name": "stdout",
     "output_type": "stream",
     "text": [
      "Rv0735\n"
     ]
    },
    {
     "name": "stderr",
     "output_type": "stream",
     "text": [
      "\n",
      "100%|██████████| 174/174 [00:00<00:00, 174511.93it/s]\n",
      "\n",
      "100%|██████████| 1/1 [00:00<00:00, 1975.65it/s]\n",
      "\n",
      "100%|██████████| 174/174 [00:00<00:00, 174220.31it/s]\n",
      "\n",
      "100%|██████████| 137/137 [00:00<00:00, 136716.55it/s]\n",
      "\n",
      "100%|██████████| 1/1 [00:00<00:00, 999.12it/s]\n",
      "\n",
      "100%|██████████| 137/137 [00:00<00:00, 136262.66it/s]\n",
      "646it [10:26:03, 41.25s/it]"
     ]
    },
    {
     "name": "stdout",
     "output_type": "stream",
     "text": [
      "Rv0736\n"
     ]
    },
    {
     "name": "stderr",
     "output_type": "stream",
     "text": [
      "\n",
      "100%|██████████| 93/93 [00:00<?, ?it/s][A\n",
      "\n",
      "100%|██████████| 1/1 [00:00<?, ?it/s]\u001b[A\n",
      "\n",
      "100%|██████████| 93/93 [00:00<?, ?it/s][A\n",
      "\n",
      "100%|██████████| 60/60 [00:00<?, ?it/s][A\n",
      "\n",
      "100%|██████████| 1/1 [00:00<00:00, 999.60it/s]\n",
      "\n",
      "100%|██████████| 60/60 [00:00<?, ?it/s][A\n",
      "647it [10:26:28, 38.43s/it]"
     ]
    },
    {
     "name": "stdout",
     "output_type": "stream",
     "text": [
      "Rv0737\n"
     ]
    },
    {
     "name": "stderr",
     "output_type": "stream",
     "text": [
      "\n",
      "100%|██████████| 196/196 [00:00<00:00, 40723.42it/s]\n",
      "\n",
      "100%|██████████| 1/1 [00:00<?, ?it/s]\u001b[A\n",
      "\n",
      "100%|██████████| 196/196 [00:00<00:00, 42227.43it/s]\n",
      "\n",
      "100%|██████████| 152/152 [00:00<00:00, 37982.38it/s]\n",
      "\n",
      "100%|██████████| 1/1 [00:00<?, ?it/s]\u001b[A\n",
      "\n",
      "100%|██████████| 152/152 [00:00<00:00, 50605.99it/s]\n",
      "648it [10:29:34, 67.94s/it]"
     ]
    },
    {
     "name": "stdout",
     "output_type": "stream",
     "text": [
      "Rv0738\n"
     ]
    },
    {
     "name": "stderr",
     "output_type": "stream",
     "text": [
      "\n",
      "100%|██████████| 27/27 [00:00<?, ?it/s][A\n",
      "\n",
      "100%|██████████| 1/1 [00:00<?, ?it/s]\u001b[A\n",
      "\n",
      "100%|██████████| 27/27 [00:00<?, ?it/s][A\n",
      "\n",
      "100%|██████████| 19/19 [00:00<?, ?it/s][A\n",
      "\n",
      "100%|██████████| 1/1 [00:00<?, ?it/s]\u001b[A\n",
      "\n",
      "100%|██████████| 19/19 [00:00<00:00, 19074.14it/s]\n",
      "649it [10:30:53, 70.29s/it]"
     ]
    },
    {
     "name": "stdout",
     "output_type": "stream",
     "text": [
      "Rv0739\n"
     ]
    },
    {
     "name": "stderr",
     "output_type": "stream",
     "text": [
      "650it [10:31:05, 56.39s/it]"
     ]
    },
    {
     "name": "stdout",
     "output_type": "stream",
     "text": [
      "Rv0740\n"
     ]
    },
    {
     "name": "stderr",
     "output_type": "stream",
     "text": [
      "651it [10:31:18, 45.26s/it]"
     ]
    },
    {
     "name": "stdout",
     "output_type": "stream",
     "text": [
      "Rv0742\n"
     ]
    },
    {
     "name": "stderr",
     "output_type": "stream",
     "text": [
      "652it [10:31:31, 36.53s/it]"
     ]
    },
    {
     "name": "stdout",
     "output_type": "stream",
     "text": [
      "Rv0744c\n"
     ]
    },
    {
     "name": "stderr",
     "output_type": "stream",
     "text": [
      "654it [10:31:44, 23.48s/it]"
     ]
    },
    {
     "name": "stdout",
     "output_type": "stream",
     "text": [
      "Rv0745\n"
     ]
    },
    {
     "name": "stderr",
     "output_type": "stream",
     "text": [
      "655it [10:31:57, 20.96s/it]"
     ]
    },
    {
     "name": "stdout",
     "output_type": "stream",
     "text": [
      "Rv0747\n"
     ]
    },
    {
     "name": "stderr",
     "output_type": "stream",
     "text": [
      "657it [10:32:09, 15.08s/it]"
     ]
    },
    {
     "name": "stdout",
     "output_type": "stream",
     "text": [
      "Rv0748\n"
     ]
    },
    {
     "name": "stderr",
     "output_type": "stream",
     "text": [
      "658it [10:32:22, 14.63s/it]"
     ]
    },
    {
     "name": "stdout",
     "output_type": "stream",
     "text": [
      "Rv0749A\n"
     ]
    },
    {
     "name": "stderr",
     "output_type": "stream",
     "text": [
      "660it [10:32:35, 11.42s/it]"
     ]
    },
    {
     "name": "stdout",
     "output_type": "stream",
     "text": [
      "Rv0750\n"
     ]
    },
    {
     "name": "stderr",
     "output_type": "stream",
     "text": [
      "661it [10:32:48, 11.72s/it]"
     ]
    },
    {
     "name": "stdout",
     "output_type": "stream",
     "text": [
      "Rv0753c\n"
     ]
    },
    {
     "name": "stderr",
     "output_type": "stream",
     "text": [
      "\n",
      "100%|██████████| 210/210 [00:00<00:00, 70049.61it/s]\n",
      "\n",
      "100%|██████████| 1/1 [00:00<?, ?it/s]\u001b[A\n",
      "\n",
      "100%|██████████| 209/209 [00:00<00:00, 69621.92it/s]\n",
      "\n",
      "100%|██████████| 366/366 [00:00<00:00, 73194.83it/s]\n",
      "\n",
      "100%|██████████| 1/1 [00:00<?, ?it/s]\u001b[A\n",
      "\n",
      "100%|██████████| 366/366 [00:00<00:00, 56249.87it/s]\n",
      "664it [10:34:23, 21.31s/it]"
     ]
    },
    {
     "name": "stdout",
     "output_type": "stream",
     "text": [
      "Rv0754\n"
     ]
    },
    {
     "name": "stderr",
     "output_type": "stream",
     "text": [
      "\n",
      "100%|██████████| 60/60 [00:00<?, ?it/s][A\n",
      "\n",
      "100%|██████████| 1/1 [00:00<?, ?it/s]\u001b[A\n",
      "\n",
      "100%|██████████| 60/60 [00:00<?, ?it/s][A\n",
      "\n",
      "100%|██████████| 34/34 [00:00<?, ?it/s][A\n",
      "\n",
      "100%|██████████| 1/1 [00:00<00:00, 1003.90it/s]\n",
      "\n",
      "100%|██████████| 34/34 [00:00<00:00, 28430.29it/s]\n",
      "665it [10:35:19, 27.85s/it]"
     ]
    },
    {
     "name": "stdout",
     "output_type": "stream",
     "text": [
      "Rv0755c\n"
     ]
    },
    {
     "name": "stderr",
     "output_type": "stream",
     "text": [
      "666it [10:35:32, 24.60s/it]"
     ]
    },
    {
     "name": "stdout",
     "output_type": "stream",
     "text": [
      "Rv0756c\n"
     ]
    },
    {
     "name": "stderr",
     "output_type": "stream",
     "text": [
      "\n",
      "100%|██████████| 144/144 [00:00<00:00, 72108.38it/s]\n",
      "\n",
      "100%|██████████| 1/1 [00:00<00:00, 1001.03it/s]\n",
      "\n",
      "100%|██████████| 144/144 [00:00<00:00, 144492.77it/s]\n",
      "\n",
      "100%|██████████| 85/85 [00:00<?, ?it/s][A\n",
      "\n",
      "100%|██████████| 1/1 [00:00<?, ?it/s]\u001b[A\n",
      "\n",
      "100%|██████████| 85/85 [00:00<?, ?it/s][A\n",
      "667it [10:36:12, 28.19s/it]"
     ]
    },
    {
     "name": "stdout",
     "output_type": "stream",
     "text": [
      "Rv0757\n"
     ]
    },
    {
     "name": "stderr",
     "output_type": "stream",
     "text": [
      "\n",
      "100%|██████████| 202/202 [00:00<00:00, 67268.71it/s]\n",
      "\n",
      "100%|██████████| 1/1 [00:00<?, ?it/s]\u001b[A\n",
      "\n",
      "100%|██████████| 202/202 [00:00<00:00, 100995.28it/s]\n",
      "\n",
      "100%|██████████| 483/483 [00:00<00:00, 80489.84it/s]\n",
      "\n",
      "100%|██████████| 1/1 [00:00<?, ?it/s]\u001b[A\n",
      "\n",
      "100%|██████████| 483/483 [00:00<00:00, 96607.00it/s]\n",
      "668it [10:38:30, 55.59s/it]"
     ]
    },
    {
     "name": "stdout",
     "output_type": "stream",
     "text": [
      "Rv0758\n"
     ]
    },
    {
     "name": "stderr",
     "output_type": "stream",
     "text": [
      "\n",
      "100%|██████████| 193/193 [00:00<00:00, 163205.78it/s]\n",
      "\n",
      "100%|██████████| 1/1 [00:00<00:00, 999.12it/s]\n",
      "\n",
      "100%|██████████| 193/193 [00:00<?, ?it/s]A\n",
      "\n",
      "100%|██████████| 130/130 [00:00<?, ?it/s]A\n",
      "\n",
      "100%|██████████| 1/1 [00:00<?, ?it/s]\u001b[A\n",
      "\n",
      "100%|██████████| 130/130 [00:00<?, ?it/s]A\n",
      "669it [10:38:57, 48.15s/it]"
     ]
    },
    {
     "name": "stdout",
     "output_type": "stream",
     "text": [
      "Rv0759c\n"
     ]
    },
    {
     "name": "stderr",
     "output_type": "stream",
     "text": [
      "\n",
      "100%|██████████| 208/208 [00:00<00:00, 103649.19it/s]\n",
      "\n",
      "100%|██████████| 1/1 [00:00<?, ?it/s]\u001b[A\n",
      "\n",
      "100%|██████████| 208/208 [00:00<00:00, 103945.58it/s]\n",
      "\n",
      "100%|██████████| 162/162 [00:00<00:00, 81015.53it/s]\n",
      "\n",
      "100%|██████████| 1/1 [00:00<?, ?it/s]\u001b[A\n",
      "\n",
      "100%|██████████| 162/162 [00:00<00:00, 162089.04it/s]\n",
      "670it [10:39:35, 45.31s/it]"
     ]
    },
    {
     "name": "stdout",
     "output_type": "stream",
     "text": [
      "Rv0761c\n"
     ]
    },
    {
     "name": "stderr",
     "output_type": "stream",
     "text": [
      "\n",
      "100%|██████████| 198/198 [00:00<00:00, 98995.37it/s]\n",
      "\n",
      "100%|██████████| 1/1 [00:00<?, ?it/s]\u001b[A\n",
      "\n",
      "100%|██████████| 198/198 [00:00<00:00, 198582.54it/s]\n",
      "\n",
      "100%|██████████| 190/190 [00:00<00:00, 189787.51it/s]\n",
      "\n",
      "100%|██████████| 1/1 [00:00<00:00, 1000.31it/s]\n",
      "\n",
      "100%|██████████| 190/190 [00:00<00:00, 189877.95it/s]\n",
      "672it [10:40:13, 33.68s/it]"
     ]
    },
    {
     "name": "stdout",
     "output_type": "stream",
     "text": [
      "Rv0767c\n"
     ]
    },
    {
     "name": "stderr",
     "output_type": "stream",
     "text": [
      "\n",
      "100%|██████████| 198/198 [00:00<00:00, 66036.27it/s]\n",
      "\n",
      "100%|██████████| 1/1 [00:00<?, ?it/s]\u001b[A\n",
      "\n",
      "100%|██████████| 198/198 [00:00<00:00, 198487.62it/s]\n",
      "\n",
      "100%|██████████| 124/124 [00:00<00:00, 124038.56it/s]\n",
      "\n",
      "100%|██████████| 1/1 [00:00<?, ?it/s]\u001b[A\n",
      "\n",
      "100%|██████████| 124/124 [00:00<00:00, 93659.95it/s]\n",
      "678it [10:41:17, 18.72s/it]"
     ]
    },
    {
     "name": "stdout",
     "output_type": "stream",
     "text": [
      "Rv0768\n"
     ]
    },
    {
     "name": "stderr",
     "output_type": "stream",
     "text": [
      "\n",
      "100%|██████████| 203/203 [00:00<00:00, 101458.97it/s]\n",
      "\n",
      "100%|██████████| 1/1 [00:00<00:00, 995.56it/s]\n",
      "\n",
      "100%|██████████| 203/203 [00:00<00:00, 67671.57it/s]\n",
      "\n",
      "100%|██████████| 253/253 [00:00<00:00, 63198.08it/s]\n",
      "\n",
      "100%|██████████| 1/1 [00:00<?, ?it/s]\u001b[A\n",
      "\n",
      "100%|██████████| 253/253 [00:00<00:00, 63205.61it/s]\n",
      "679it [10:43:06, 30.79s/it]"
     ]
    },
    {
     "name": "stdout",
     "output_type": "stream",
     "text": [
      "Rv0769\n"
     ]
    },
    {
     "name": "stderr",
     "output_type": "stream",
     "text": [
      "\n",
      "100%|██████████| 200/200 [00:00<00:00, 132458.68it/s]\n",
      "\n",
      "100%|██████████| 1/1 [00:00<?, ?it/s]\u001b[A\n",
      "\n",
      "100%|██████████| 200/200 [00:00<00:00, 199871.53it/s]\n",
      "\n",
      "100%|██████████| 249/249 [00:00<00:00, 248899.36it/s]\n",
      "\n",
      "100%|██████████| 1/1 [00:00<00:00, 1000.31it/s]\n",
      "\n",
      "100%|██████████| 249/249 [00:00<00:00, 247601.16it/s]\n",
      "680it [10:43:28, 29.42s/it]"
     ]
    },
    {
     "name": "stdout",
     "output_type": "stream",
     "text": [
      "Rv0770\n"
     ]
    },
    {
     "name": "stderr",
     "output_type": "stream",
     "text": [
      "\n",
      "100%|██████████| 204/204 [00:00<00:00, 102007.39it/s]\n",
      "\n",
      "100%|██████████| 1/1 [00:00<?, ?it/s]\u001b[A\n",
      "\n",
      "100%|██████████| 204/204 [00:00<00:00, 83738.31it/s]\n",
      "\n",
      "100%|██████████| 156/156 [00:00<00:00, 155455.32it/s]\n",
      "\n",
      "100%|██████████| 1/1 [00:00<?, ?it/s]\u001b[A\n",
      "\n",
      "100%|██████████| 156/156 [00:00<00:00, 200524.49it/s]\n",
      "681it [10:44:00, 29.89s/it]"
     ]
    },
    {
     "name": "stdout",
     "output_type": "stream",
     "text": [
      "Rv0773c\n"
     ]
    },
    {
     "name": "stderr",
     "output_type": "stream",
     "text": [
      "\n",
      "100%|██████████| 92/92 [00:00<?, ?it/s][A\n",
      "\n",
      "100%|██████████| 1/1 [00:00<?, ?it/s]\u001b[A\n",
      "\n",
      "100%|██████████| 92/92 [00:00<?, ?it/s][A\n",
      "\n",
      "100%|██████████| 54/54 [00:00<?, ?it/s][A\n",
      "\n",
      "100%|██████████| 1/1 [00:00<?, ?it/s]\u001b[A\n",
      "\n",
      "100%|██████████| 54/54 [00:00<?, ?it/s][A\n",
      "684it [10:44:21, 19.73s/it]"
     ]
    },
    {
     "name": "stdout",
     "output_type": "stream",
     "text": [
      "Rv0774c\n"
     ]
    },
    {
     "name": "stderr",
     "output_type": "stream",
     "text": [
      "\n",
      "100%|██████████| 202/202 [00:00<00:00, 201918.35it/s]\n",
      "\n",
      "100%|██████████| 1/1 [00:00<?, ?it/s]\u001b[A\n",
      "\n",
      "100%|██████████| 201/201 [00:00<00:00, 200631.87it/s]\n",
      "\n",
      "100%|██████████| 125/125 [00:00<?, ?it/s]A\n",
      "\n",
      "100%|██████████| 1/1 [00:00<?, ?it/s]\u001b[A\n",
      "\n",
      "100%|██████████| 125/125 [00:00<?, ?it/s]A\n",
      "685it [10:44:42, 19.96s/it]"
     ]
    },
    {
     "name": "stdout",
     "output_type": "stream",
     "text": [
      "Rv0775\n"
     ]
    },
    {
     "name": "stderr",
     "output_type": "stream",
     "text": [
      "\n",
      "100%|██████████| 194/194 [00:00<00:00, 193921.59it/s]\n",
      "\n",
      "100%|██████████| 1/1 [00:00<00:00, 1001.51it/s]\n",
      "\n",
      "100%|██████████| 194/194 [00:00<00:00, 193875.38it/s]\n",
      "\n",
      "100%|██████████| 122/122 [00:00<00:00, 81081.46it/s]\n",
      "\n",
      "100%|██████████| 1/1 [00:00<?, ?it/s]\u001b[A\n",
      "\n",
      "100%|██████████| 122/122 [00:00<00:00, 122358.94it/s]\n",
      "686it [10:45:03, 20.25s/it]"
     ]
    },
    {
     "name": "stdout",
     "output_type": "stream",
     "text": [
      "Rv0776c\n"
     ]
    },
    {
     "name": "stderr",
     "output_type": "stream",
     "text": [
      "\n",
      "100%|██████████| 82/82 [00:00<00:00, 82221.59it/s]\n",
      "\n",
      "100%|██████████| 1/1 [00:00<?, ?it/s]\u001b[A\n",
      "\n",
      "100%|██████████| 82/82 [00:00<00:00, 41042.12it/s]\n",
      "\n",
      "100%|██████████| 64/64 [00:00<00:00, 64111.64it/s]\n",
      "\n",
      "100%|██████████| 1/1 [00:00<00:00, 991.09it/s]\n",
      "\n",
      "100%|██████████| 64/64 [00:00<?, ?it/s][A\n",
      "687it [10:46:29, 34.76s/it]"
     ]
    },
    {
     "name": "stdout",
     "output_type": "stream",
     "text": [
      "Rv0777\n"
     ]
    },
    {
     "name": "stderr",
     "output_type": "stream",
     "text": [
      "\n",
      "100%|██████████| 214/214 [00:00<00:00, 68795.97it/s]\n",
      "\n",
      "100%|██████████| 1/1 [00:00<00:00, 997.69it/s]\n",
      "\n",
      "100%|██████████| 214/214 [00:00<00:00, 17090.60it/s]\n",
      "\n",
      "100%|██████████| 499/499 [00:00<00:00, 56292.57it/s]\n",
      "\n",
      "100%|██████████| 1/1 [00:00<00:00, 2403.61it/s]\n",
      "\n",
      "100%|██████████| 496/496 [00:00<00:00, 58237.91it/s]\n",
      "688it [10:53:10, 123.08s/it]"
     ]
    },
    {
     "name": "stdout",
     "output_type": "stream",
     "text": [
      "Rv0779c\n"
     ]
    },
    {
     "name": "stderr",
     "output_type": "stream",
     "text": [
      "\n",
      "100%|██████████| 204/204 [00:00<00:00, 203917.54it/s]\n",
      "\n",
      "100%|██████████| 1/1 [00:00<?, ?it/s]\u001b[A\n",
      "\n",
      "100%|██████████| 204/204 [00:00<00:00, 204453.53it/s]\n",
      "\n",
      "100%|██████████| 127/127 [00:00<?, ?it/s]A\n",
      "\n",
      "100%|██████████| 1/1 [00:00<?, ?it/s]\u001b[A\n",
      "\n",
      "100%|██████████| 127/127 [00:00<00:00, 126948.67it/s]\n",
      "690it [10:53:33, 77.50s/it] "
     ]
    },
    {
     "name": "stdout",
     "output_type": "stream",
     "text": [
      "Rv0780\n"
     ]
    },
    {
     "name": "stderr",
     "output_type": "stream",
     "text": [
      "\n",
      "100%|██████████| 215/215 [00:00<00:00, 215787.36it/s]\n",
      "\n",
      "100%|██████████| 1/1 [00:00<?, ?it/s]\u001b[A\n",
      "\n",
      "100%|██████████| 215/215 [00:00<00:00, 214913.10it/s]\n",
      "\n",
      "100%|██████████| 388/388 [00:00<00:00, 388398.56it/s]\n",
      "\n",
      "100%|██████████| 1/1 [00:00<?, ?it/s]\u001b[A\n",
      "\n",
      "100%|██████████| 388/388 [00:00<00:00, 387289.37it/s]\n",
      "691it [10:54:07, 67.75s/it]"
     ]
    },
    {
     "name": "stdout",
     "output_type": "stream",
     "text": [
      "Rv0783c\n"
     ]
    },
    {
     "name": "stderr",
     "output_type": "stream",
     "text": [
      "\n",
      "100%|██████████| 82/82 [00:00<00:00, 81791.42it/s]\n",
      "\n",
      "100%|██████████| 1/1 [00:00<?, ?it/s]\u001b[A\n",
      "\n",
      "100%|██████████| 82/82 [00:00<00:00, 82162.67it/s]\n",
      "\n",
      "100%|██████████| 46/46 [00:00<?, ?it/s][A\n",
      "\n",
      "100%|██████████| 1/1 [00:00<?, ?it/s]\u001b[A\n",
      "\n",
      "100%|██████████| 46/46 [00:00<?, ?it/s][A\n",
      "692it [10:54:45, 60.47s/it]"
     ]
    },
    {
     "name": "stdout",
     "output_type": "stream",
     "text": [
      "Rv0784\n"
     ]
    },
    {
     "name": "stderr",
     "output_type": "stream",
     "text": [
      "\n",
      "100%|██████████| 204/204 [00:00<00:00, 102080.41it/s]\n",
      "\n",
      "100%|██████████| 1/1 [00:00<?, ?it/s]\u001b[A\n",
      "\n",
      "100%|██████████| 204/204 [00:00<00:00, 101983.08it/s]\n",
      "\n",
      "100%|██████████| 162/162 [00:00<00:00, 81102.56it/s]\n",
      "\n",
      "100%|██████████| 1/1 [00:00<?, ?it/s]\u001b[A\n",
      "\n",
      "100%|██████████| 162/162 [00:00<00:00, 81131.61it/s]\n",
      "693it [10:56:22, 69.92s/it]"
     ]
    },
    {
     "name": "stdout",
     "output_type": "stream",
     "text": [
      "Rv0787A\n"
     ]
    },
    {
     "name": "stderr",
     "output_type": "stream",
     "text": [
      "\n",
      "100%|██████████| 214/214 [00:00<00:00, 106995.00it/s]\n",
      "\n",
      "100%|██████████| 1/1 [00:00<?, ?it/s]\u001b[A\n",
      "\n",
      "100%|██████████| 214/214 [00:00<00:00, 106829.45it/s]\n",
      "\n",
      "100%|██████████| 500/500 [00:00<00:00, 124711.70it/s]\n",
      "\n",
      "100%|██████████| 1/1 [00:00<?, ?it/s]\u001b[A\n",
      "\n",
      "100%|██████████| 500/500 [00:00<00:00, 125113.47it/s]\n",
      "697it [10:58:51, 50.48s/it]"
     ]
    },
    {
     "name": "stdout",
     "output_type": "stream",
     "text": [
      "Rv0792c\n"
     ]
    },
    {
     "name": "stderr",
     "output_type": "stream",
     "text": [
      "\n",
      "100%|██████████| 36/36 [00:00<?, ?it/s][A\n",
      "\n",
      "100%|██████████| 1/1 [00:00<00:00, 1004.38it/s]\n",
      "\n",
      "100%|██████████| 36/36 [00:00<?, ?it/s][A\n",
      "\n",
      "100%|██████████| 27/27 [00:00<?, ?it/s][A\n",
      "\n",
      "100%|██████████| 1/1 [00:00<?, ?it/s]\u001b[A\n",
      "\n",
      "100%|██████████| 27/27 [00:00<?, ?it/s][A\n",
      "702it [10:59:10, 26.40s/it]"
     ]
    },
    {
     "name": "stdout",
     "output_type": "stream",
     "text": [
      "Rv0793\n"
     ]
    },
    {
     "name": "stderr",
     "output_type": "stream",
     "text": [
      "\n",
      "100%|██████████| 16/16 [00:00<?, ?it/s][A\n",
      "\n",
      "100%|██████████| 1/1 [00:00<?, ?it/s]\u001b[A\n",
      "\n",
      "100%|██████████| 16/16 [00:00<?, ?it/s][A\n",
      "703it [10:59:28, 25.35s/it]"
     ]
    },
    {
     "name": "stdout",
     "output_type": "stream",
     "text": [
      "Rv0794c\n"
     ]
    },
    {
     "name": "stderr",
     "output_type": "stream",
     "text": [
      "\n",
      "100%|██████████| 78/78 [00:00<00:00, 8650.56it/s]\n",
      "\n",
      "100%|██████████| 1/1 [00:00<?, ?it/s]\u001b[A\n",
      "\n",
      "100%|██████████| 76/76 [00:00<00:00, 9495.31it/s]\n",
      "\n",
      "100%|██████████| 391/391 [00:00<00:00, 9410.91it/s]\n",
      "\n",
      "100%|██████████| 1/1 [00:00<?, ?it/s]\u001b[A\n"
     ]
    }
   ],
   "source": [
    "for n, locus in tqdm(enumerate(tb_loci)):\n",
    "    target_locus = tb_species+ '@' + locus \n",
    "    location = locations_dict_1[target_locus] \n",
    "    if n == 0:\n",
    "        continue\n",
    "    if location[2] == 1:\n",
    "        upstream_cds_stop = locations_dict_1[tb_species + '@' + tb_loci[n-1]][1]\n",
    "        offset = location[0] - upstream_cds_stop\n",
    "    else:\n",
    "        upstream_cds_stop = locations_dict_1[tb_species + '@' + tb_loci[n+1]][0]\n",
    "        offset = upstream_cds_stop - location[1]\n",
    "\n",
    "    if offset < 30:\n",
    "        continue\n",
    "    else:\n",
    "        print(locus)\n",
    "        generate_alignment(locus, offset, 1)\n",
    "        generate_alignment(locus, offset, 2)"
   ]
  },
  {
   "cell_type": "markdown",
   "id": "2ed11372-e465-4519-883e-85b46b6e8cad",
   "metadata": {},
   "source": [
    "#### Extract covariation information to identify potentially significant regions"
   ]
  },
  {
   "cell_type": "code",
   "execution_count": 6,
   "id": "d47c776f-9647-4d9d-97fc-df4e05cb569e",
   "metadata": {},
   "outputs": [
    {
     "name": "stdout",
     "output_type": "stream",
     "text": [
      "Rv1133c 30 0.0\n",
      "Rv0009 11 0.0\n",
      "Rv0020c 52 0.0\n",
      "Rv0041 26 0.0\n",
      "Rv0053 11 0.0\n",
      "Rv0129c 6 1.2992673603662297e-10\n",
      "Rv0154c 6 4.008793297316515e-12\n",
      "Rv0189c 9 0.0\n",
      "Rv0190 2 1.92957504530078e-06\n",
      "Rv0211 7 9.992007221626409e-15\n",
      "Rv0237 8 0.0\n",
      "Rv0244c 31 0.0\n",
      "Rv0357c 6 0.0\n",
      "Rv0423c 6 0.0\n",
      "Rv0425c 1 3.4252199999640354e-06\n",
      "Rv0440 19 0.0\n",
      "Rv0462 1 4.405270000007455e-06\n",
      "Rv0468 6 5.0013363414036505e-06\n",
      "Rv0491 6 6.106226635438361e-15\n",
      "Rv0496 2 4.2173180991866843e-07\n",
      "Rv0512 4 0.0\n",
      "Rv0524 8 3.0719161658865346e-08\n",
      "Rv0548c 7 0.0\n",
      "Rv0566c 22 0.0\n",
      "Rv0634B 45 0.0\n",
      "Rv0651 33 0.0\n",
      "Rv0667 158 0.0\n",
      "Rv0670 1 1.1438999999446864e-06\n",
      "Rv0700 20 0.0\n",
      "Rv0718 5 6.772360450213455e-14\n",
      "Rv0732 5 2.3487101152852574e-11\n",
      "Rv0753c 5 3.5762937056205146e-10\n",
      "Rv0757 3 9.479231843911862e-10\n",
      "Rv0768 6 1.7344722325063344e-09\n",
      "Rv0777 7 1.2434497875801753e-14\n",
      "Rv0810c 2 3.6731804486933584e-08\n",
      "Rv0848 2 1.0475486745820106e-06\n",
      "Rv0858c 1 9.062770001122544e-08\n",
      "Rv0867c 7 1.0627054791711998e-11\n",
      "Rv0870c 2 3.769170531242594e-10\n",
      "Rv0873 5 1.960313895654764e-07\n",
      "Rv0884c 22 0.0\n",
      "Rv0896 7 6.217248937900877e-15\n",
      "Rv0920c 4 1.5000456432545661e-10\n",
      "Rv0948c 5 2.9242164245602e-12\n",
      "Rv0949 4 7.327471962526033e-15\n",
      "Rv0951 7 1.7937873408868654e-12\n",
      "Rv0956 1 1.2606400368042614e-09\n",
      "Rv0958 6 2.3314683517128287e-15\n",
      "Rv0981 12 1.8309131988303307e-11\n",
      "Rv1011 4 1.7878032387841358e-11\n",
      "Rv1015c 3 1.861362769695063e-06\n",
      "Rv1018c 10 4.2439496361623696e-11\n",
      "Rv1020 2 1.5797287737928656e-06\n"
     ]
    }
   ],
   "source": [
    "seq_ids = util.list_dirs(project_dir)\n",
    "out_list = []\n",
    "for id in seq_ids:\n",
    "    if os.path.exists(project_dir + '/' + str(id) + '/rscape_output_2.cov'):\n",
    "        with open(project_dir + '/' + str(id) + '/rscape_output_2.cov', 'r') as f:  \n",
    "            num_pairs = 0\n",
    "            e_values = []\n",
    "            for l in f:\n",
    "                if (not ('#' in l)):\n",
    "                    a = l.split()\n",
    "                    if len(a) > 6 and abs(int(a[2])-int(a[1])) > 3:    # Exclude covarying pairs less than 3 bp apart)\n",
    "                        e_values.append(float(a[4]))\n",
    "                        num_pairs +=1\n",
    "        if len(e_values) > 0:\n",
    "            tot = sum([math.log(x) for x  in e_values])\n",
    "            num = len(e_values)\n",
    "            combined_e_value = 1-chi2.cdf(-2*tot, 2*num)\n",
    "        else:\n",
    "            combined_e_value = 999\n",
    "        if combined_e_value < 1e-5:\n",
    "            print(id, num_pairs, combined_e_value)"
   ]
  },
  {
   "cell_type": "code",
   "execution_count": null,
   "id": "79a6f80e-9741-4437-9ac5-6cdef045064b",
   "metadata": {},
   "outputs": [],
   "source": []
  }
 ],
 "metadata": {
  "kernelspec": {
   "display_name": "Python 3 (ipykernel)",
   "language": "python",
   "name": "python3"
  },
  "language_info": {
   "codemirror_mode": {
    "name": "ipython",
    "version": 3
   },
   "file_extension": ".py",
   "mimetype": "text/x-python",
   "name": "python",
   "nbconvert_exporter": "python",
   "pygments_lexer": "ipython3",
   "version": "3.9.7"
  }
 },
 "nbformat": 4,
 "nbformat_minor": 5
}
