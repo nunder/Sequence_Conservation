{
 "cells": [
  {
   "cell_type": "markdown",
   "id": "eef24ce4-4729-44b6-8d43-fbdf47b9033a",
   "metadata": {
    "tags": []
   },
   "source": [
    "##### Set up packages and directories"
   ]
  },
  {
   "cell_type": "code",
   "execution_count": 1,
   "id": "05aa9444-1c5a-4aa9-857a-4c640c89d19f",
   "metadata": {
    "tags": []
   },
   "outputs": [],
   "source": [
    "full_run = True"
   ]
  },
  {
   "cell_type": "code",
   "execution_count": 196,
   "id": "e471e9d2-ea1c-4bbb-b2a7-9e8d7ff9e003",
   "metadata": {
    "tags": []
   },
   "outputs": [],
   "source": [
    "import pandas as pd\n",
    "pd.options.mode.chained_assignment = None  # default='warn'\n",
    "import pickle\n",
    "import seaborn as sns\n",
    "import matplotlib.pyplot as plt\n",
    "import numpy as np\n",
    "from scipy.fft import fft, fftfreq\n",
    "from Bio import Entrez, SeqIO, AlignIO, pairwise2, Align, Seq, motifs\n",
    "from Bio.Seq import Seq\n",
    "from Bio.SeqFeature import SeqFeature, FeatureLocation\n",
    "from scipy.stats import binom\n",
    "import math\n",
    "from tqdm.auto import tqdm\n",
    "from Comparative_Analysis import Sequence_Analysis_Routines as sar\n",
    "from Comparative_Analysis import Utilities as util\n",
    "from Comparative_Analysis import Alignment as align\n",
    "from Comparative_Analysis import ORF_Functions as orffn\n",
    "import random\n",
    "import copy\n",
    "from joblib import Parallel, delayed\n",
    "import os\n",
    "import shutil\n",
    "import subprocess\n",
    "from Bio.Blast import NCBIWWW, NCBIXML\n",
    "from Bio.Align.Applications import MuscleCommandline\n",
    "muscle_exe = 'C:/Users/nicho/Muscle/muscle3.8.31_i86win32.exe'"
   ]
  },
  {
   "cell_type": "code",
   "execution_count": 5,
   "id": "1988a242-f558-4643-b3a9-27272fa7bebc",
   "metadata": {},
   "outputs": [],
   "source": [
    "project_dir = 'F:/Project_Data/Project_10'\n",
    "literature_datasets_dir = 'F:/Datasets/Data_From_Publications'\n",
    "output_dir = project_dir + '/Output'\n",
    "refseq_dir = 'F:/Datasets/NCBI_Refseq_Mycobacteriaceae_All_Levels/ncbi_dataset/data'\n",
    "num_cores = 8\n",
    "core_numbers = list(range(1, num_cores+1))"
   ]
  },
  {
   "cell_type": "code",
   "execution_count": 164,
   "id": "abef54a8-1fd0-4a05-94de-bc9e2f647844",
   "metadata": {},
   "outputs": [],
   "source": [
    "reference_species = 'GCF_000195955.2'\n",
    "marinum_species = 'GCF_016745295.1'"
   ]
  },
  {
   "cell_type": "code",
   "execution_count": 165,
   "id": "d28dd1c4-f549-4def-ad3f-c426ff24c022",
   "metadata": {},
   "outputs": [],
   "source": [
    "min_nts = 30"
   ]
  },
  {
   "cell_type": "code",
   "execution_count": 189,
   "id": "595b6a9e-b432-47f2-bc3c-44cdca8bc34b",
   "metadata": {},
   "outputs": [],
   "source": [
    "def produce_full_sequence_and_intergenic_region_fasta(species):\n",
    "    loci = []\n",
    "    for record in SeqIO.parse(refseq_dir + '/'+species+'/genomic.gbff', \"genbank\"):\n",
    "        accession_ver = record.annotations['accessions'][0] + '.' + str(record.annotations['sequence_version'])\n",
    "        full_sequence = str(record.seq)\n",
    "        for feature in record.features:\n",
    "                a = feature.qualifiers\n",
    "                if feature.type not in ['source','gene'] and (int(feature.location.start) < int(feature.location.end)) and (int(feature.location.end) - int(feature.location.start)) < 1000000:\n",
    "                    loci.append((feature.type, int(feature.location.start), int(feature.location.end)))\n",
    "\n",
    "    loci.sort(key = lambda x: x[1])\n",
    "    std_annotation_intergenic_regions = []\n",
    "    max_stop = 0\n",
    "    for (feature_type, start, stop) in loci:\n",
    "        if start > max_stop + min_nts and feature_type == 'CDS':\n",
    "            std_annotation_intergenic_regions.append([str(max_stop)+'_'+str(start), full_sequence[max_stop: start]])\n",
    "        max_stop = max(max_stop, stop)\n",
    "    util.produce_fasta_file([[accession_ver, full_sequence]], project_dir + '/full_'+species+'_sequence.fasta')\n",
    "    util.produce_fasta_file(std_annotation_intergenic_regions, project_dir + '/'+species+'_intergenic_regions.faa')"
   ]
  },
  {
   "cell_type": "code",
   "execution_count": 203,
   "id": "ae213a22-52fe-4ae7-954e-0c73ed688e6f",
   "metadata": {},
   "outputs": [],
   "source": [
    "def make_blast_sequence_db(species):\n",
    "    w_d = os.getcwd()\n",
    "    os.chdir(\"F:/\")\n",
    "    subprocess.run('cd '+ project_dir + ' &  makeblastdb -in ' + project_dir + '/full_'+species+'_sequence.fasta' +' -dbtype nucl -out full_'+species+'_sequence_nt', shell=True, capture_output = True)\n",
    "    os.chdir(w_d)\n",
    "    if not(os.path.exists('F:/Datasets/BLAST/Self_Blast/' + species)):\n",
    "        os.makedirs('F:/Datasets/BLAST/Self_Blast/' + species)\n",
    "    files = util.list_files(project_dir)\n",
    "    for file in files:\n",
    "        if species in file:\n",
    "            shutil.move(project_dir+'/'+file, 'F:/Datasets/BLAST/Self_Blast/' + species +'/' + file)  "
   ]
  },
  {
   "cell_type": "code",
   "execution_count": 231,
   "id": "7160adb4-2d53-4c8a-8a77-fcade1992859",
   "metadata": {},
   "outputs": [],
   "source": [
    "def run_self_blast(species):\n",
    "    w_d = os.getcwd()\n",
    "    os.chdir(\"F:/\")\n",
    "    subprocess.run('cd f:\\\\Datasets\\\\BLAST\\\\Self_BLAST\\\\' + species + ' & blastn -query ' + species + '_intergenic_regions.faa -db full_'+species+'_sequence_nt -out hits.csv -evalue 10 -outfmt \"10 qaccver saccver qlen slen pident length mismatch gapopen qstart qend sstart send evalue bitscore\" -num_threads 16', shell=True, capture_output = True)\n",
    "    #print('cd f:\\\\Datasets\\\\BLAST\\\\Self_BLAST\\\\' + species + ' & blastn -query ' + species + '_intergenic_regions.faa -db full_'+species+'_sequence_nt -out hits.csv -evalue 10 -outfmt \"10 qaccver saccver qlen slen pident length mismatch gapopen qstart qend sstart send evalue bitscore\" -num_threads 16')\n",
    "    os.chdir(w_d)\n",
    "    blast_results = pd.read_csv('F:/Datasets/BLAST/Self_BLAST/' + species + '/hits.csv', header = None)\n",
    "    blast_results.columns = ['query_ref', 'target_ref', 'query_length', 'subject_length', 'percent_identical_matches','alignment_length', 'number_mismatches', 'number_of_gap_openings', \n",
    "                             'query_start_alignment', 'query_end_alignment', 'target_start_alignment', 'target_end_alignment', 'e_value', 'bit_score']\n",
    "    blast_results['hit_count'] = blast_results.groupby('query_ref')['target_ref'].transform('count')\n",
    "    blast_results = blast_results[blast_results['hit_count'] > 1]\n",
    "    \n",
    "    annotated_regions = []\n",
    "    intergenic_regions = []\n",
    "    for record in SeqIO.parse(refseq_dir + '/'+species+'/genomic.gbff', \"genbank\"):\n",
    "        for feature in record.features:\n",
    "                a = feature.qualifiers\n",
    "                if feature.type not in ['source','gene'] and (int(feature.location.start) < int(feature.location.end)) and (int(feature.location.end) - int(feature.location.start)) < 1000000:\n",
    "                    if not(a.get(\"locus_tag\")==None):\n",
    "                        locus_tag = a.get(\"locus_tag\")[0]\n",
    "                    else:\n",
    "                        locus_tag = ''\n",
    "                    annotated_regions.append((locus_tag, feature.type, int(feature.location.start), int(feature.location.end)))\n",
    "    annotated_regions.sort(key = lambda x: x[2])\n",
    "    prev_locus = ''\n",
    "    max_stop = 0\n",
    "    for n, (locus, feature_type, start, stop) in enumerate(annotated_regions):\n",
    "        if start > max_stop:\n",
    "            intergenic_regions.append([prev_locus+':'+locus,'Intergenic',max_stop, start])\n",
    "        if stop > max_stop:\n",
    "            prev_locus = locus \n",
    "        max_stop = max(max_stop, stop)    \n",
    "    for x in intergenic_regions:\n",
    "        annotated_regions.append(x)\n",
    "    annotated_regions.sort(key = lambda x : x[2])\n",
    "\n",
    "    blast_results['annot_features']=''\n",
    "    for i, r in blast_results.iterrows():\n",
    "        start1 = min(r['target_start_alignment'],r['target_end_alignment'])\n",
    "        end1 = max(r['target_start_alignment'],r['target_end_alignment'])\n",
    "        feature_matches = []\n",
    "        for (locus, feature, start, stop) in annotated_regions:\n",
    "            if start< end1 and stop > start1:\n",
    "                overlap = (min(end1, stop) - max(start1, start))/ (end1-start1)\n",
    "                feature_matches.append([locus, feature, overlap])\n",
    "        blast_results.at[i,'annot_features'] = feature_matches\n",
    "    blast_results.to_csv('F:/Datasets/BLAST/Self_BLAST/' + species + '/processed_hits.csv')"
   ]
  },
  {
   "cell_type": "code",
   "execution_count": 235,
   "id": "c71c5858-3bd3-45ae-b84f-1d06845c0c8c",
   "metadata": {},
   "outputs": [
    {
     "name": "stderr",
     "output_type": "stream",
     "text": [
      "100%|██████████| 1/1 [00:00<00:00, 10.87it/s]\n",
      "100%|██████████| 2108/2108 [00:00<00:00, 79015.46it/s]\n",
      "100%|██████████| 1/1 [00:00<00:00,  7.98it/s]\n",
      "100%|██████████| 3159/3159 [00:00<00:00, 66698.24it/s]\n"
     ]
    }
   ],
   "source": [
    "produce_full_sequence_and_intergenic_region_fasta(reference_species)\n",
    "make_blast_sequence_db(reference_species)\n",
    "run_self_blast(reference_species)\n",
    "produce_full_sequence_and_intergenic_region_fasta(marinum_species)\n",
    "make_blast_sequence_db(marinum_species)\n",
    "run_self_blast(marinum_species)"
   ]
  },
  {
   "cell_type": "code",
   "execution_count": 69,
   "id": "68536362-3647-4235-ba80-6bd6428f3dde",
   "metadata": {},
   "outputs": [],
   "source": []
  },
  {
   "cell_type": "code",
   "execution_count": 69,
   "id": "822bc648-7b01-40f9-a4f6-be148578167c",
   "metadata": {},
   "outputs": [],
   "source": []
  },
  {
   "cell_type": "code",
   "execution_count": 69,
   "id": "1faf1198-91ea-43e4-89da-28cabd224fa7",
   "metadata": {},
   "outputs": [],
   "source": [
    "mycobrowser_loci = []\n",
    "mycobrowser_df = pd.read_excel(literature_datasets_dir+'/Mycobrowser_Release_4.xlsx')\n",
    "for i, r in mycobrowser_df.iterrows():\n",
    "    mycobrowser_loci.append([r['Locus'], r['Feature'], int(r['Start'])-1, int(r['Stop'])])\n",
    "mycobrowser_loci.sort(key = lambda x: x[2])"
   ]
  },
  {
   "cell_type": "code",
   "execution_count": 114,
   "id": "99b4cc19-0bfb-4532-9f83-a3fcecfd2da2",
   "metadata": {},
   "outputs": [
    {
     "name": "stderr",
     "output_type": "stream",
     "text": [
      "100%|██████████| 2177/2177 [00:00<00:00, 84545.51it/s]\n"
     ]
    }
   ],
   "source": [
    "mycobrowser_annotation_intergenic_regions = []\n",
    "all_mycobrowser_regions = []\n",
    "max_stop = 0\n",
    "prev_locus = ''\n",
    "for n, (locus, feature_type, start, stop) in enumerate(mycobrowser_loci):\n",
    "    all_mycobrowser_regions.append([locus, start, stop])\n",
    "    if start > max_stop + min_nts and feature_type == 'CDS':\n",
    "        mycobrowser_annotation_intergenic_regions.append([str(max_stop)+'_'+str(start), full_sequence[max_stop: start]])\n",
    "    if start > max_stop:\n",
    "        all_mycobrowser_regions.append([prev_locus+'_'+locus,max_stop, start])\n",
    "    if stop > max_stop:\n",
    "        prev_locus = locus \n",
    "    max_stop = max(max_stop, stop)\n",
    "util.produce_fasta_file(mycobrowser_annotation_intergenic_regions, project_dir + '/mycobrowser_annot_tb_intergenic_regions.faa')"
   ]
  },
  {
   "cell_type": "code",
   "execution_count": 96,
   "id": "a408a0f1-e53d-4e50-8741-0f9613f765e0",
   "metadata": {},
   "outputs": [],
   "source": [
    "all_mycobrowser_regions.sort(key = lambda x: x[1])"
   ]
  },
  {
   "cell_type": "code",
   "execution_count": 9,
   "id": "7ac386a3-9e7b-411f-8e18-de5033973d24",
   "metadata": {},
   "outputs": [],
   "source": [
    "min_nts = 30"
   ]
  },
  {
   "cell_type": "markdown",
   "id": "075ef9e8-e455-4ec3-b342-29749e142d86",
   "metadata": {
    "tags": []
   },
   "source": [
    "##### Extract full sequences from each organism and create directory of start and stops for each annotated cds (use Mycobrowser for MTb)"
   ]
  },
  {
   "cell_type": "markdown",
   "id": "2c5fe6a4-dcf0-4b12-9257-c73f35691298",
   "metadata": {},
   "source": [
    "##### Create blast databases"
   ]
  },
  {
   "cell_type": "code",
   "execution_count": 12,
   "id": "7cf8fedc-abfd-41b4-a82e-3ccaf8902e8b",
   "metadata": {},
   "outputs": [],
   "source": [
    "if full_run == True:\n",
    "    w_d = os.getcwd()\n",
    "    os.chdir(\"F:/\")\n",
    "    subprocess.run('cd '+ project_dir + ' &  makeblastdb -in full_tb_sequence.fasta -dbtype nucl -out full_tb_sequence_nt', shell=True, capture_output = True)\n",
    "    os.chdir(w_d)"
   ]
  },
  {
   "cell_type": "code",
   "execution_count": 39,
   "id": "2b1565b0-47b3-476f-888c-3cf5156e8dfa",
   "metadata": {},
   "outputs": [],
   "source": [
    "if full_run == True:\n",
    "    w_d = os.getcwd()\n",
    "    os.chdir(\"F:/\")\n",
    "    subprocess.run('cd f:\\\\Datasets\\\\BLAST\\\\full_tb_sequence_nt & blastn -query std_annot_tb_intergenic_regions.faa -db full_tb_sequence_nt -out std_annot_intergenic_mtb_mtb_hits.csv -evalue 10 -outfmt \"10 qaccver saccver qlen slen pident length mismatch gapopen qstart qend sstart send evalue bitscore\" -num_threads 16', shell=True, capture_output = True)\n",
    "    subprocess.run('cd f:\\\\Datasets\\\\BLAST\\\\full_tb_sequence_nt & blastn -query mycobrowser_annot_tb_intergenic_regions.faa -db full_tb_sequence_nt -out mycobrowser_annot_intergenic_mtb_mtb_hits.csv -evalue 10 -outfmt \"10 qaccver saccver qlen slen pident length mismatch gapopen qstart qend sstart send evalue bitscore\" -num_threads 16', shell=True, capture_output = True)\n",
    "    os.chdir(w_d)"
   ]
  },
  {
   "cell_type": "code",
   "execution_count": 125,
   "id": "a818351f-35c4-44e9-a9af-c0811299b931",
   "metadata": {},
   "outputs": [],
   "source": [
    "blast_results = pd.read_csv('F:/Datasets/BLAST/full_tb_sequence_nt/mycobrowser_annot_intergenic_mtb_mtb_hits.csv', header = None)\n",
    "blast_results.columns = ['query_ref', 'target_ref', 'query_length', 'subject_length', 'percent_identical_matches','alignment_length', 'number_mismatches', 'number_of_gap_openings', \n",
    "                             'query_start_alignment', 'query_end_alignment', 'target_start_alignment', 'target_end_alignment', 'e_value', 'bit_score']"
   ]
  },
  {
   "cell_type": "code",
   "execution_count": 126,
   "id": "42abc775-a434-4da3-8a39-1f2dba96a8a2",
   "metadata": {},
   "outputs": [],
   "source": [
    "blast_results['hit_count'] = blast_results.groupby('query_ref')['target_ref'].transform('count')"
   ]
  },
  {
   "cell_type": "code",
   "execution_count": 127,
   "id": "ef864ec6-d055-4399-bf79-84abfddcdc1c",
   "metadata": {},
   "outputs": [],
   "source": [
    "blast_results = blast_results[blast_results['hit_count'] > 1]"
   ]
  },
  {
   "cell_type": "code",
   "execution_count": 132,
   "id": "c944758d-42c4-47e5-aa51-822b70c1d78c",
   "metadata": {},
   "outputs": [],
   "source": [
    "repeat_regions = []\n",
    "blast_results['target_locations']=''\n",
    "blast_results['annot_features']=''\n",
    "for i, r in blast_results.iterrows():\n",
    "    start1 = min(r['target_start_alignment'],r['target_end_alignment'])\n",
    "    end1 = max(r['target_start_alignment'],r['target_end_alignment'])\n",
    "    matches = []\n",
    "    for (locus, start, stop) in all_mycobrowser_regions:\n",
    "        if start< end1 and stop > start1:\n",
    "            overlap = (min(end1, stop) - max(start1, start))/ (end1-start1)\n",
    "            matches.append([locus, overlap])\n",
    "    blast_results.at[i,'target_locations'] = matches\n",
    "    matches = []\n",
    "    for (feature, start, stop) in tb_loci:\n",
    "        if start< end1 and stop > start1:\n",
    "            overlap = (min(end1, stop) - max(start1, start))/ (end1-start1)\n",
    "            matches.append([feature, overlap])\n",
    "            if ('repeat' in feature) or ('mobile' in feature):\n",
    "                repeat_regions.append(r['query_ref'])\n",
    "    blast_results.at[i,'annot_features'] = matches\n",
    "repeat_regions = list(set(repeat_regions))\n",
    "blast_results_2 = blast_results.query(\"not(query_ref.isin(@repeat_regions))\")"
   ]
  },
  {
   "cell_type": "code",
   "execution_count": 133,
   "id": "ce4e6c29-eeb8-4d5d-9d8b-8b33cafa0a22",
   "metadata": {},
   "outputs": [],
   "source": [
    "blast_results_2.to_csv(project_dir + '/test.csv')"
   ]
  },
  {
   "cell_type": "code",
   "execution_count": 134,
   "id": "589ca985-814c-4a13-947d-f5e576882554",
   "metadata": {},
   "outputs": [],
   "source": [
    "rbh = pd.read_csv('F:/Project_Data/Intergenic_Region_Comparative_Analysis' + '/reciprocal_best_hits.csv')"
   ]
  },
  {
   "cell_type": "code",
   "execution_count": 161,
   "id": "d6a7b1a2-287b-4af9-ab3c-49ec5e138b5f",
   "metadata": {},
   "outputs": [
    {
     "data": {
      "text/html": [
       "<div>\n",
       "<style scoped>\n",
       "    .dataframe tbody tr th:only-of-type {\n",
       "        vertical-align: middle;\n",
       "    }\n",
       "\n",
       "    .dataframe tbody tr th {\n",
       "        vertical-align: top;\n",
       "    }\n",
       "\n",
       "    .dataframe thead th {\n",
       "        text-align: right;\n",
       "    }\n",
       "</style>\n",
       "<table border=\"1\" class=\"dataframe\">\n",
       "  <thead>\n",
       "    <tr style=\"text-align: right;\">\n",
       "      <th></th>\n",
       "      <th>Unnamed: 0</th>\n",
       "      <th>query_ref</th>\n",
       "      <th>target_ref</th>\n",
       "      <th>query_length</th>\n",
       "      <th>subject_length</th>\n",
       "      <th>percent_identical_matches</th>\n",
       "      <th>alignment_length</th>\n",
       "      <th>number_mismatches</th>\n",
       "      <th>number_of_gap_openings</th>\n",
       "      <th>query_start_alignment</th>\n",
       "      <th>...</th>\n",
       "      <th>target_start_alignment</th>\n",
       "      <th>target_end_alignment</th>\n",
       "      <th>e_value</th>\n",
       "      <th>bit_score</th>\n",
       "      <th>query_species</th>\n",
       "      <th>target_species</th>\n",
       "      <th>query_species_name</th>\n",
       "      <th>target_species_name</th>\n",
       "      <th>species_count</th>\n",
       "      <th>reciprocal_best_hit</th>\n",
       "    </tr>\n",
       "  </thead>\n",
       "  <tbody>\n",
       "    <tr>\n",
       "      <th>479926</th>\n",
       "      <td>1007753</td>\n",
       "      <td>NC_000962.3@Rv3491</td>\n",
       "      <td>NZ_CP058277.1@HXW97_RS03760</td>\n",
       "      <td>192</td>\n",
       "      <td>193</td>\n",
       "      <td>75.13</td>\n",
       "      <td>193</td>\n",
       "      <td>47</td>\n",
       "      <td>1</td>\n",
       "      <td>1</td>\n",
       "      <td>...</td>\n",
       "      <td>1</td>\n",
       "      <td>193</td>\n",
       "      <td>7.920000e-110</td>\n",
       "      <td>315.0</td>\n",
       "      <td>NC_000962.3</td>\n",
       "      <td>NZ_CP058277.1</td>\n",
       "      <td>Mycobacterium tuberculosis H37Rv</td>\n",
       "      <td>Mycobacterium marinum</td>\n",
       "      <td>190</td>\n",
       "      <td>Y</td>\n",
       "    </tr>\n",
       "  </tbody>\n",
       "</table>\n",
       "<p>1 rows × 21 columns</p>\n",
       "</div>"
      ],
      "text/plain": [
       "        Unnamed: 0           query_ref                   target_ref  \\\n",
       "479926     1007753  NC_000962.3@Rv3491  NZ_CP058277.1@HXW97_RS03760   \n",
       "\n",
       "        query_length  subject_length  percent_identical_matches  \\\n",
       "479926           192             193                      75.13   \n",
       "\n",
       "        alignment_length  number_mismatches  number_of_gap_openings  \\\n",
       "479926               193                 47                       1   \n",
       "\n",
       "        query_start_alignment  ...  target_start_alignment  \\\n",
       "479926                      1  ...                       1   \n",
       "\n",
       "        target_end_alignment        e_value  bit_score  query_species  \\\n",
       "479926                   193  7.920000e-110      315.0    NC_000962.3   \n",
       "\n",
       "       target_species                query_species_name  \\\n",
       "479926  NZ_CP058277.1  Mycobacterium tuberculosis H37Rv   \n",
       "\n",
       "          target_species_name species_count  reciprocal_best_hit  \n",
       "479926  Mycobacterium marinum           190                    Y  \n",
       "\n",
       "[1 rows x 21 columns]"
      ]
     },
     "execution_count": 161,
     "metadata": {},
     "output_type": "execute_result"
    }
   ],
   "source": [
    "#rbh.query(\"query_ref == 'NC_000962.3@Rv3490' and target_species_name.str.contains('egmatis')\")\n",
    "rbh.query(\"query_ref == 'NC_000962.3@Rv3491' and target_species_name.str.contains('arinum')\")"
   ]
  },
  {
   "cell_type": "code",
   "execution_count": 154,
   "id": "844fdcdd-0ca1-4134-8634-0186ab3be534",
   "metadata": {},
   "outputs": [],
   "source": [
    "a = util.list_dirs('F:/Datasets/NCBI_Refseq_Mycobacteriaceae_All_Levels/ncbi_dataset/data')"
   ]
  },
  {
   "cell_type": "code",
   "execution_count": 162,
   "id": "fa700848-cfa7-4c19-9f93-1bce5f339339",
   "metadata": {},
   "outputs": [
    {
     "name": "stdout",
     "output_type": "stream",
     "text": [
      "GCF_016745295.1 NZ_CP058277.1 Mycobacterium marinum\n"
     ]
    }
   ],
   "source": [
    "for i in a:\n",
    "    record = next(SeqIO.parse('F:/Datasets/NCBI_Refseq_Mycobacteriaceae_All_Levels/ncbi_dataset/data' + '/'+str(i)+'/genomic.gbff', \"genbank\"))\n",
    "    name=record.annotations['organism']\n",
    "    accession_ver = record.annotations['accessions'][0] + '.' + str(record.annotations['sequence_version'])\n",
    "    if 'arinum' in name:\n",
    "        print(i, accession_ver, name)\n",
    "        break"
   ]
  },
  {
   "cell_type": "code",
   "execution_count": null,
   "id": "81ed1689-c59f-4cc3-b8db-b10c1b47e461",
   "metadata": {},
   "outputs": [],
   "source": []
  }
 ],
 "metadata": {
  "kernelspec": {
   "display_name": "Python 3 (ipykernel)",
   "language": "python",
   "name": "python3"
  },
  "language_info": {
   "codemirror_mode": {
    "name": "ipython",
    "version": 3
   },
   "file_extension": ".py",
   "mimetype": "text/x-python",
   "name": "python",
   "nbconvert_exporter": "python",
   "pygments_lexer": "ipython3",
   "version": "3.9.7"
  }
 },
 "nbformat": 4,
 "nbformat_minor": 5
}
