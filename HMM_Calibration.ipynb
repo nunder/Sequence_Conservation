{
 "cells": [
  {
   "cell_type": "code",
   "execution_count": 29,
   "id": "621b7a47-f9ff-41f5-a23f-0fbb71482945",
   "metadata": {},
   "outputs": [],
   "source": [
    "import numpy as np\n",
    "import random\n",
    "import math\n",
    "import matplotlib.pyplot as plt\n",
    "from scipy import optimize as opt\n",
    "import Sequence_Analysis_Routines as sar"
   ]
  },
  {
   "cell_type": "code",
   "execution_count": 116,
   "id": "83350ad1-bc1a-4b34-9fc4-f094ca2bbe48",
   "metadata": {},
   "outputs": [],
   "source": [
    "project_dir = 'D:/Project_Data/Project_3'\n",
    "output_dir = project_dir + '/Output/Close_Species'\n",
    "non_cds_output_dir = output_dir + '/Multiple_Alignment_Data/Non_CDS'\n",
    "tb_species = 'GCF_000195955.2'"
   ]
  },
  {
   "cell_type": "code",
   "execution_count": 32,
   "id": "156874cb-5a1f-4fcc-a7fb-d33c3c40cd33",
   "metadata": {},
   "outputs": [],
   "source": [
    "num_states = 2\n",
    "observation_length = 400"
   ]
  },
  {
   "cell_type": "code",
   "execution_count": 33,
   "id": "22eba391-e7dd-46ab-bf2b-42c9a23d0f51",
   "metadata": {},
   "outputs": [
    {
     "name": "stdout",
     "output_type": "stream",
     "text": [
      "[0.9  0.05 0.01 0.04]\n"
     ]
    }
   ],
   "source": [
    "transition_probabilities = np.array([[0.9,0.1],[0.1,0.9]])\n",
    "initial_state_probabilities = np.array([0.5, 0.5])\n",
    "emission_probabilities = np.array([[0.9, 0.05, 0.01, 0.04],[0.1, 0.1, 0.1, 0.7]])\n",
    "print(emission_probabilities[0])"
   ]
  },
  {
   "cell_type": "code",
   "execution_count": 257,
   "id": "e5f752bc-0149-4371-b94d-512b3bed10d1",
   "metadata": {},
   "outputs": [],
   "source": [
    "states = np.zeros(observation_length, dtype='int16')\n",
    "emissions = np.zeros(observation_length, dtype='int16')\n",
    "observation_probabilities = np.zeros((num_states, observation_length))\n",
    "states[0] = np.where(np.random.default_rng().multinomial(1, initial_state_probabilities, size=None) == 1)[0][0]\n",
    "emissions[0] = np.where(np.random.default_rng().multinomial(1, emission_probabilities[states[0]], size=None) == 1)[0][0]\n",
    "for i in range(1, observation_length):\n",
    "    states[i] = np.where(np.random.default_rng().multinomial(1, transition_probabilities[states[i-1],:], size=None) == 1)[0][0]\n",
    "    emissions[i] = np.where(np.random.default_rng().multinomial(1, emission_probabilities[states[i]], size=None) == 1)[0][0]\n",
    "for i in range(observation_length):\n",
    "    for j in range(num_states):\n",
    "        observation_probabilities[j, i] =  emission_probabilities[j, emissions[i]]\n"
   ]
  },
  {
   "cell_type": "code",
   "execution_count": 34,
   "id": "a6050243-bc32-48b1-99be-f643eaa7b3d4",
   "metadata": {},
   "outputs": [],
   "source": [
    "class HMM:\n",
    "    def __init__(self, initial_state_probabilities, transition_probabilities, observation_probabilities, termination = False):\n",
    "        self.initial_state_probabilities = initial_state_probabilities\n",
    "        self.transition_probabilities = transition_probabilities\n",
    "        self.observation_probabilities = observation_probabilities\n",
    "        self.num_states = observation_probabilities.shape[0]\n",
    "        self.observation_length = observation_probabilities.shape[1]\n",
    "        self.viterbi_path = np.zeros(self.observation_length, dtype='int16')\n",
    "        self.viterbi_probability = 0\n",
    "    \n",
    "    def viterbi(self):\n",
    "        max_probs = np.zeros((self.num_states, self.observation_length))\n",
    "        pointers = np.zeros((self.num_states, self.observation_length), dtype='int16')\n",
    "        for s in range(self.num_states):\n",
    "            max_probs[s, 0] = math.log(self.initial_state_probabilities[s]) + math.log(self.observation_probabilities[s, 0])\n",
    "        for i in range(1, self.observation_length):\n",
    "            for t in range(self.num_states):\n",
    "                max_state = 0\n",
    "                max_val = -np.inf\n",
    "                for s in range(self.num_states):\n",
    "                    temp = max_probs[s, i-1] + math.log(self.transition_probabilities[s, t]) + math.log(self.observation_probabilities[t, i])\n",
    "                    if temp > max_val:\n",
    "                        max_state = s\n",
    "                        max_val = temp\n",
    "                max_probs[t, i] = max_val\n",
    "                pointers[t, i] = max_state\n",
    "        max_state = 0\n",
    "        max_val = -np.inf\n",
    "        for t in range(self.num_states):\n",
    "            if max_probs[t, self.observation_length - 1] > max_val:\n",
    "                max_state = t\n",
    "                max_val = max_probs[t, self.observation_length - 1]\n",
    "        self.viterbi_log_probability = max_val\n",
    "\n",
    "        #  Traceback\n",
    "        for i in reversed(range(self.observation_length)):\n",
    "            self.viterbi_path[i] = max_state\n",
    "            max_state = pointers[max_state, i]"
   ]
  },
  {
   "cell_type": "code",
   "execution_count": 259,
   "id": "13a7dc06-77e3-4589-baa4-d23140d33b7c",
   "metadata": {},
   "outputs": [],
   "source": [
    "def fit_hmm(trans_prob):\n",
    "    transition_probabilities = np.array([[1-trans_prob[0],trans_prob[0]],[trans_prob[1],1-trans_prob[1]]])\n",
    "    trial_hmm = HMM(initial_state_probabilities, transition_probabilities, observation_probabilities)\n",
    "    trial_hmm.viterbi()\n",
    "    return trial_hmm.viterbi_log_probability * -1"
   ]
  },
  {
   "cell_type": "code",
   "execution_count": 260,
   "id": "44e7e65a-0e69-4a89-9eb6-7ff7b45e65d2",
   "metadata": {},
   "outputs": [
    {
     "name": "stdout",
     "output_type": "stream",
     "text": [
      "[0.08791995 0.06914499]\n"
     ]
    }
   ],
   "source": [
    "res = opt.minimize(fit_hmm, (0.5, 0.5), method = 'Nelder-Mead', bounds = ((0.01,0.99),(0.01,0.99)))\n",
    "print(res.x)"
   ]
  },
  {
   "cell_type": "code",
   "execution_count": null,
   "id": "04976c84-8b86-44a6-9d7a-81f8da77af36",
   "metadata": {},
   "outputs": [],
   "source": [
    "trans_prob = res.x\n",
    "transition_probabilities = np.array([[1-trans_prob[0],trans_prob[0]],[trans_prob[1],1-trans_prob[1]]])\n",
    "trial_hmm = HMM(initial_state_probabilities, transition_probabilities, observation_probabilities)\n",
    "trial_hmm.viterbi()\n",
    "fit_hmm(res.x)\n",
    "plt.plot(states);\n",
    "plt.plot(trial_hmm.viterbi_path)"
   ]
  },
  {
   "cell_type": "code",
   "execution_count": 222,
   "id": "1188809a-9650-4df0-9198-9668a89a4a39",
   "metadata": {},
   "outputs": [],
   "source": [
    "def mutation_probs(rate_0, rate_1, alignment_list):\n",
    "    align_list =  alignment_list\n",
    "    len_align_list = len(alignment_list[0])\n",
    "    num_sequences = len(alignment_list)\n",
    "    symbols = ['A','C','G','T']\n",
    "    observation_probs =  np.zeros((2, len_align_list))\n",
    "    pseudo_counts = [0.01, 0.01, 0.01, 0.01]\n",
    "    for i in range(len_align_list):\n",
    "        temp =  [x[i] for x in alignment_list]\n",
    "        for j, s in enumerate(symbols):\n",
    "            if 1==2:\n",
    "                pass\n",
    "                #i <= 50 or len_align_list - i < 50:\n",
    "                #observation_probs[0, i] = 0.01\n",
    "                #observation_probs[1, i] = 0.99\n",
    "            else:\n",
    "                observation_probs[0, i] = observation_probs[0, i] + 0.25 * ((1-rate_0) ** (temp.count(s) + pseudo_counts[j])) * ((rate_0/3) ** (num_sequences - temp.count(s)))\n",
    "                observation_probs[1, i] = observation_probs[1, i] + 0.25 * ((1-rate_1) ** (temp.count(s) + pseudo_counts[j])) * ((rate_1/3) ** (num_sequences - temp.count(s)))\n",
    "    return observation_probs"
   ]
  },
  {
   "cell_type": "code",
   "execution_count": 239,
   "id": "9b0ef1ec-db22-4df5-937e-96e0ba48d0fe",
   "metadata": {},
   "outputs": [],
   "source": [
    "file_ids = sar.list_files(non_cds_output_dir+'/')\n",
    "ids = [int(i.split('.')[0]) for i in file_ids]"
   ]
  },
  {
   "cell_type": "code",
   "execution_count": 248,
   "id": "d921dbe4-af13-47a2-baf6-b7d462f508e6",
   "metadata": {},
   "outputs": [],
   "source": [
    "def fit_hmm_2(params):\n",
    "    total_probability = 0\n",
    "    group_ids = ids[200:250]\n",
    "    #group_ids = [1569, 1505, 1167]\n",
    "    for group_id in group_ids:\n",
    "        #group_id =    1569 #1505    #  1167\n",
    "        alignment = sar.Alignment(non_cds_output_dir+'/'+str(group_id)+'.fasta', tb_species, 'NT')\n",
    "        alignment.modify_sequence(consensus=1)\n",
    "        align_list =  alignment.modified_sequence_list\n",
    "        len_align_list = len(align_list[0])\n",
    "        non_cds = [x[50:len_align_list - 50] for x in align_list]\n",
    "        if len(non_cds[0]) < 10:\n",
    "            continue\n",
    "        transition_probabilities = np.array([[1-params[0],params[0]],[params[1],1-params[1]]])\n",
    "        observation_probabilities = mutation_probs(params[2], params[3], non_cds)\n",
    "        trial_hmm = HMM(initial_state_probabilities, transition_probabilities, observation_probabilities)\n",
    "        trial_hmm.viterbi()\n",
    "        total_probability += trial_hmm.viterbi_log_probability * -1\n",
    "    return total_probability"
   ]
  },
  {
   "cell_type": "code",
   "execution_count": 249,
   "id": "393b8b52-da52-4ba4-ac82-e2994220f900",
   "metadata": {},
   "outputs": [
    {
     "name": "stdout",
     "output_type": "stream",
     "text": [
      "[0.06445364 0.05997143 0.98837536 0.12248842]\n"
     ]
    }
   ],
   "source": [
    "res = opt.minimize(fit_hmm_2, (0.01, 0.01, 0.3, 0.3), method = 'Nelder-Mead', bounds = ((0.00001,0.99999),(0.00001,0.99999),(0.00001,0.99999),(0.00001,0.99999)))\n",
    "print(res.x)"
   ]
  },
  {
   "cell_type": "code",
   "execution_count": 247,
   "id": "bde164f5-4994-4911-91b5-b68f1b9072c1",
   "metadata": {},
   "outputs": [
    {
     "name": "stdout",
     "output_type": "stream",
     "text": [
      "-1697.0431341735389\n"
     ]
    },
    {
     "data": {
      "image/png": "[encoded data removed]",
      "text/plain": [
       "<Figure size 432x288 with 1 Axes>"
      ]
     },
     "metadata": {
      "needs_background": "light"
     },
     "output_type": "display_data"
    }
   ],
   "source": [
    "trans_prob = res.x\n",
    "transition_probabilities = np.array([[1-trans_prob[0],trans_prob[0]],[trans_prob[1],1-trans_prob[1]]])\n",
    "group_id =   1167 #1569 #1505    #  1167\n",
    "alignment = sar.Alignment(non_cds_output_dir+'/'+str(group_id)+'.fasta', tb_species, 'NT')\n",
    "alignment.modify_sequence(consensus=1)\n",
    "alignment.calculate_entropies(mvave_len = 10)\n",
    "align_list =  alignment.modified_sequence_list\n",
    "len_align_list = len(align_list[0])\n",
    "non_cds = [x[50:len_align_list - 50] for x in align_list]\n",
    "observation_probabilities = mutation_probs(trans_prob[2], trans_prob[3], non_cds)\n",
    "trial_hmm = HMM(initial_state_probabilities, transition_probabilities, observation_probabilities)\n",
    "trial_hmm.viterbi()\n",
    "print(trial_hmm.viterbi_log_probability)\n",
    "plt.plot(trial_hmm.viterbi_path);"
   ]
  },
  {
   "cell_type": "code",
   "execution_count": null,
   "id": "3b7dd016-4b38-4fdd-83cf-af1082693b7d",
   "metadata": {},
   "outputs": [],
   "source": []
  }
 ],
 "metadata": {
  "kernelspec": {
   "display_name": "Python 3 (ipykernel)",
   "language": "python",
   "name": "python3"
  },
  "language_info": {
   "codemirror_mode": {
    "name": "ipython",
    "version": 3
   },
   "file_extension": ".py",
   "mimetype": "text/x-python",
   "name": "python",
   "nbconvert_exporter": "python",
   "pygments_lexer": "ipython3",
   "version": "3.8.12"
  }
 },
 "nbformat": 4,
 "nbformat_minor": 5
}
