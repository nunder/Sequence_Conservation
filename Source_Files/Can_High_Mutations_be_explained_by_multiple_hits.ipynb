{
 "cells": [
  {
   "cell_type": "markdown",
   "id": "b1e30ed4-8a0e-4a6f-96eb-dfe116dfb2de",
   "metadata": {},
   "source": [
    "#### Directories etc"
   ]
  },
  {
   "cell_type": "code",
   "execution_count": 21,
   "id": "cf9c6377-5080-4c22-94db-feabe17cc47c",
   "metadata": {},
   "outputs": [],
   "source": [
    "import pandas as pd\n",
    "import pickle\n",
    "import seaborn as sns\n",
    "import matplotlib.pyplot as plt\n",
    "import numpy as np\n",
    "from scipy.fft import fft, fftfreq\n",
    "from Bio import Entrez, SeqIO, AlignIO, pairwise2, Align, Seq, motifs\n",
    "from Bio.Seq import Seq\n",
    "from Bio.SeqFeature import SeqFeature, FeatureLocation\n",
    "from scipy.stats import binom\n",
    "import math\n",
    "import random\n",
    "from tqdm import tqdm\n",
    "from Comparative_Analysis import Utilities as util\n",
    "from collections import defaultdict\n",
    "import random\n",
    "from joblib import Parallel, delayed\n",
    "from Comparative_Analysis import Blast_Functions as blastfn\n",
    "import time\n",
    "import re\n",
    "import os\n",
    "import subprocess\n",
    "import copy\n",
    "from Comparative_Analysis import ORF_Functions as orffn\n",
    "from random import sample\n",
    "pd.options.mode.chained_assignment = None  # default='warn'\n",
    "import ete3\n",
    "import matplotlib.pyplot as plt\n",
    "from statistics import mode, median\n",
    "from scipy.stats import chi2\n",
    "import shutil"
   ]
  },
  {
   "cell_type": "code",
   "execution_count": 2,
   "id": "1988a242-f558-4643-b3a9-27272fa7bebc",
   "metadata": {},
   "outputs": [],
   "source": [
    "project_dir = 'F:/Project_Data/Project_11'\n",
    "seq_dir = 'F:/Datasets/Actinobacteria_Ref_Rep_Lev_Complete'\n",
    "dictionary_dir = 'F:/Datasets/CRYPTIC_DATA/Cryptic_Dictionaries'\n",
    "tb_species = 'NC_000962.3' \n",
    "tb_genome_filename = 'GCF_000195955.2_ASM19595v2_genomic.gbff'\n",
    "mycobrowser_dir = 'F:/Datasets/Data_From_Publications'\n",
    "num_cores = 16\n",
    "core_numbers = list(range(1, num_cores+1))"
   ]
  },
  {
   "cell_type": "code",
   "execution_count": 9,
   "id": "adcbe3c9-2a57-4243-a2a9-1bc46bce7531",
   "metadata": {},
   "outputs": [],
   "source": [
    "for record in SeqIO.parse(seq_dir + '/' + tb_genome_filename, \"genbank\"):\n",
    "    full_sequence = str(record.seq)"
   ]
  },
  {
   "cell_type": "code",
   "execution_count": 4,
   "id": "79a27a3c-8aed-4f53-b285-7a73ee5f9957",
   "metadata": {},
   "outputs": [],
   "source": [
    "with open(project_dir + '/Thoth_Full_Run/zero_and_non_zero_mutation_counts.pkl', 'rb') as f:\n",
    "    full_sample_zero_and_non_zero_mutation_counts = pickle.load(f)   "
   ]
  },
  {
   "cell_type": "code",
   "execution_count": 46,
   "id": "ce56eb9b-a57f-4bcb-ab1a-2b85a770417f",
   "metadata": {},
   "outputs": [],
   "source": [
    "compass_df = pd.read_csv('F:/Datasets/CRYPTIC_DATA/COMPASS.csv', names = ['species', 'start', 'stop','count'])\n",
    "compass_locations = []\n",
    "\n",
    "for i, r in compass_df.iterrows():\n",
    "    for k in range(r['start'], r['stop']):     #  Should te start-1 but seems to ve inconsistency with mutations!!\n",
    "        compass_locations.append(k)\n",
    "\n",
    "compass_sample = random.sample(compass_locations, 60)\n",
    "        "
   ]
  },
  {
   "cell_type": "code",
   "execution_count": 63,
   "id": "d9522ecf-404b-485a-af82-c5592058b98a",
   "metadata": {},
   "outputs": [
    {
     "name": "stderr",
     "output_type": "stream",
     "text": [
      "100%|██████████| 60/60 [00:00<?, ?it/s]\n",
      "100%|██████████| 1/1 [00:00<00:00, 10.07it/s]\n",
      "100%|██████████| 60/60 [00:00<?, ?it/s]\n"
     ]
    }
   ],
   "source": [
    "temp = []\n",
    "for n, x in enumerate(full_sample_zero_and_non_zero_mutation_counts):\n",
    "    if x > 2000:\n",
    "        temp.append(['pos_'+str(n), full_sequence[n-20:n+20]])\n",
    "util.produce_fasta_file(temp, project_dir +'/highly_mutated_positions.faa')\n",
    "util.produce_fasta_file([['H37Rv', full_sequence]], project_dir +'/highly_mutated_positions_full_sequence.faa')\n",
    "\n",
    "temp = []\n",
    "for x in (compass_sample):\n",
    "    temp.append(['compass_pos_'+str(x), full_sequence[x-20:x+20]])\n",
    "util.produce_fasta_file(temp, project_dir +'/compass_sample.faa')"
   ]
  },
  {
   "cell_type": "code",
   "execution_count": 64,
   "id": "0053a8b6-9def-4464-b0d5-a2286ecab1d0",
   "metadata": {},
   "outputs": [],
   "source": [
    "w_d = os.getcwd()\n",
    "os.chdir(\"F:/\")\n",
    "subprocess.run('cd '+ project_dir + ' &  makeblastdb -in ' + project_dir + '/highly_mutated_positions_full_sequence.faa -dbtype nucl -out hmpos_fs', shell=True, capture_output = True)\n",
    "os.chdir(w_d)\n",
    "if not(os.path.exists('F:/Datasets/BLAST/hmpos_fs')):\n",
    "    os.makedirs('F:/Datasets/BLAST/hmpos_fs')\n",
    "files = util.list_files(project_dir)\n",
    "for file in files:\n",
    "    if 'hmpos' in file:\n",
    "        shutil.move(project_dir+'/'+file, 'F:/Datasets/BLAST/hmpos_fs/' + file)  \n",
    "for file in ['highly_mutated_positions.faa','highly_mutated_positions_full_sequence.faa','compass_sample.faa']:\n",
    "    shutil.move(project_dir+'/'+file, 'F:/Datasets/BLAST/hmpos_fs/' + file)  \n"
   ]
  },
  {
   "cell_type": "code",
   "execution_count": 69,
   "id": "0b3da7bd-ad9f-49da-aab6-cfaae7de6c10",
   "metadata": {},
   "outputs": [],
   "source": [
    "#-evalue 1000\n",
    "w_d = os.getcwd()\n",
    "os.chdir(\"F:/\")\n",
    "subprocess.run('cd f:\\\\Datasets\\\\BLAST\\\\hmpos_fs & blastn -task blastn-short -query highly_mutated_positions.faa -db hmpos_fs -evalue 1e-5 -out hits.csv  -outfmt \"10 qaccver saccver qlen slen pident length mismatch gapopen qstart qend sstart send evalue bitscore\" -num_threads 16', shell=True, capture_output = True)\n",
    "subprocess.run('cd f:\\\\Datasets\\\\BLAST\\\\hmpos_fs & blastn -task blastn-short -query compass_sample.faa -db hmpos_fs -evalue 1e-5 -out compass_hits.csv -outfmt \"10 qaccver saccver qlen slen pident length mismatch gapopen qstart qend sstart send evalue bitscore\" -num_threads 16', shell=True, capture_output = True)\n",
    "os.chdir(w_d)\n",
    "blast_results = pd.read_csv('F:/Datasets/BLAST/hmpos_fs/hits.csv', header = None)\n",
    "blast_results.columns = ['query_ref', 'target_ref', 'query_length', 'subject_length', 'percent_identical_matches','alignment_length', 'number_mismatches', 'number_of_gap_openings', \n",
    "                         'query_start_alignment', 'query_end_alignment', 'target_start_alignment', 'target_end_alignment', 'e_value', 'bit_score']\n",
    "blast_results.to_csv('F:/Datasets/BLAST/hmpos_fs/hits.csv')\n",
    "blast_results = pd.read_csv('F:/Datasets/BLAST/hmpos_fs/compass_hits.csv', header = None)\n",
    "blast_results.columns = ['query_ref', 'target_ref', 'query_length', 'subject_length', 'percent_identical_matches','alignment_length', 'number_mismatches', 'number_of_gap_openings', \n",
    "                         'query_start_alignment', 'query_end_alignment', 'target_start_alignment', 'target_end_alignment', 'e_value', 'bit_score']\n",
    "blast_results.to_csv('F:/Datasets/BLAST/hmpos_fs/compass_hits.csv')\n",
    "\n"
   ]
  },
  {
   "cell_type": "code",
   "execution_count": 32,
   "id": "2f352d0c-1264-46c5-b5f5-c53fb39c3043",
   "metadata": {},
   "outputs": [],
   "source": [
    "blast_results = pd.read_csv('F:/Datasets/BLAST/Self_BLAST/' + species + '/hits.csv', header = None)\n",
    "blast_results.columns = ['query_ref', 'target_ref', 'query_length', 'subject_length', 'percent_identical_matches','alignment_length', 'number_mismatches', 'number_of_gap_openings', \n",
    "                         'query_start_alignment', 'query_end_alignment', 'target_start_alignment', 'target_end_alignment', 'e_value', 'bit_score']\n",
    "\n",
    "blast_results['hit_count'] = blast_results.groupby('query_ref')['target_ref'].transform('count')\n",
    "blast_results = blast_results[blast_results['hit_count'] > 1]\n",
    "\n",
    "repeat_regions = []\n",
    "blast_results['annot_features']=''\n",
    "for i, r in blast_results.iterrows():\n",
    "    start1 = min(r['target_start_alignment'],r['target_end_alignment'])\n",
    "    end1 = max(r['target_start_alignment'],r['target_end_alignment'])\n",
    "    feature_matches = []\n",
    "    for (locus, ortholog_locus, product, feature, start, stop) in annotated_regions_dict[r['target_ref']]:\n",
    "        if start< end1 and stop > start1:\n",
    "            overlap = (min(end1, stop) - max(start1, start))/ (end1-start1)\n",
    "            #Don't want to output ortholog info as it clutters!\n",
    "            #feature_matches.append([locus, ortholog_locus, product, feature, overlap])\n",
    "            feature_matches.append([locus, product, feature, overlap])\n",
    "            if ('repeat' in feature) or ('mobile' in feature):\n",
    "                repeat_regions.append(r['query_ref'])\n",
    "    blast_results.at[i,'annot_features'] = feature_matches"
   ]
  },
  {
   "cell_type": "code",
   "execution_count": null,
   "id": "383fc4f1-0294-4468-bb22-aa216bef2675",
   "metadata": {},
   "outputs": [],
   "source": []
  }
 ],
 "metadata": {
  "kernelspec": {
   "display_name": "Python 3 (ipykernel)",
   "language": "python",
   "name": "python3"
  },
  "language_info": {
   "codemirror_mode": {
    "name": "ipython",
    "version": 3
   },
   "file_extension": ".py",
   "mimetype": "text/x-python",
   "name": "python",
   "nbconvert_exporter": "python",
   "pygments_lexer": "ipython3",
   "version": "3.9.7"
  }
 },
 "nbformat": 4,
 "nbformat_minor": 5
}
