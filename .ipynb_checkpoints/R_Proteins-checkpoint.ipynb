{
 "cells": [
  {
   "cell_type": "code",
   "execution_count": 17,
   "id": "0cb2f38a-3c12-4916-8913-b1644afe105e",
   "metadata": {},
   "outputs": [],
   "source": [
    "import pandas as pd\n",
    "pd.options.mode.chained_assignment = None  \n",
    "import pickle\n",
    "import seaborn as sns\n",
    "import matplotlib.pyplot as plt\n",
    "import numpy as np\n",
    "from Bio import Entrez, SeqIO, AlignIO, pairwise2, Align, Seq, motifs\n",
    "from Bio.Seq import Seq\n",
    "from Bio.SeqFeature import SeqFeature, FeatureLocation\n",
    "from scipy.stats import binom\n",
    "import math\n",
    "import time\n",
    "from tqdm.auto import tqdm\n",
    "import random\n",
    "import copy\n",
    "from joblib import Parallel, delayed\n",
    "import os\n",
    "import shutil\n",
    "import subprocess\n",
    "from Bio.Blast import NCBIWWW, NCBIXML\n",
    "from Bio.Align.Applications import MuscleCommandline\n",
    "import re\n",
    "import shutil\n",
    "from Comparative_Analysis import Sequence_Analysis_Routines as sar\n",
    "from Comparative_Analysis import Utilities as util\n",
    "from Comparative_Analysis import Alignment as align\n",
    "from Comparative_Analysis import Blast_Functions as blastfn\n",
    "from scipy.stats import chi2\n",
    "from IPython import display\n",
    "\n",
    "num_cores = 16\n",
    "core_numbers = list(range(1, num_cores+1))\n",
    "project_dir = 'D:/Project_Data/Project_9'\n",
    "output_dir = project_dir + '/Output'\n",
    "seq_dir = 'D:/Prokaryotic_Ref_Rep_Sequences/ncbi_genomes_20220815'\n",
    "#seq_dir = 'D:/Project_Data/Project_8/Datasets/Actinobacteria_Ref_Rep_Lev_Complete'\n",
    "tb_species = 'NC_000962.3' \n",
    "results_dir = output_dir\n",
    "\n",
    "produce_data = False"
   ]
  },
  {
   "cell_type": "code",
   "execution_count": 18,
   "id": "c54006ed-6479-49a8-9e50-546d25dd8b4a",
   "metadata": {},
   "outputs": [],
   "source": [
    "def reverse_complement(seq_string):\n",
    "    complement_dict = {'A':'T','C':'G','G':'C','T':'A'}\n",
    "    temp = []\n",
    "    for char in reversed(seq_string):\n",
    "        if char in complement_dict:\n",
    "            temp.append(complement_dict[char])\n",
    "        else:\n",
    "            return('')\n",
    "    return ''.join(temp)"
   ]
  },
  {
   "cell_type": "code",
   "execution_count": 19,
   "id": "b7058cb0-8529-4a01-af5d-58760d251c00",
   "metadata": {},
   "outputs": [],
   "source": [
    "file_list = util.list_files(seq_dir)"
   ]
  },
  {
   "cell_type": "code",
   "execution_count": 20,
   "id": "7128f210-8b6e-4487-aa80-9db7b844eaf2",
   "metadata": {},
   "outputs": [],
   "source": [
    "def generate_rprotein_list(num_subsets, subset_num, id_list):\n",
    "    ids = util.chunk_list(id_list, num_subsets, subset_num)\n",
    "    temp = []\n",
    "    for filename in ids:\n",
    "        for record in SeqIO.parse(seq_dir + '/' + filename, \"genbank\"):\n",
    "            organism_name = record.annotations['organism']\n",
    "            taxonomy = record.annotations['taxonomy']\n",
    "            accession_ver = record.annotations['accessions'][0] + '.' + str(record.annotations['sequence_version'])\n",
    "            organism_accession = organism_name.replace(' ', '_') + '_' + accession_ver\n",
    "            full_sequence = str(record.seq)\n",
    "            for feature in record.features:\n",
    "                if not(feature.type == 'gene'):\n",
    "                    a = feature.qualifiers\n",
    "                    if a.get(\"product\")!= None:\n",
    "                        if 'ibosomal protein' in a.get(\"product\")[0]:\n",
    "                                locus_tag = a.get(\"locus_tag\")[0]\n",
    "                                accession_locus = accession_ver + '@' + locus_tag\n",
    "                                product = a.get(\"product\")[0]\n",
    "                                start = int(feature.location.start)\n",
    "                                end = int(feature.location.end)\n",
    "                                strand = int(feature.location.strand)\n",
    "                                if strand == 1:\n",
    "                                    sequence = full_sequence[max(start - 300, 0): start]\n",
    "                                else:\n",
    "                                    sequence = reverse_complement(full_sequence[end : min(end + 300, len(full_sequence)+1)])\n",
    "\n",
    "                                temp.append([organism_name, accession_locus, product, start, end, strand, sequence, taxonomy])\n",
    "    return temp"
   ]
  },
  {
   "cell_type": "code",
   "execution_count": 21,
   "id": "3d4a01be-e483-4f64-a8ec-c7534a69cd46",
   "metadata": {},
   "outputs": [],
   "source": [
    "if produce_data == True:\n",
    "    parallel_output = Parallel(n_jobs=-1)(delayed(generate_rprotein_list)(num_cores, core_number, file_list) for core_number in core_numbers)\n",
    "    temp = [item for sublist in parallel_output for item in sublist]\n",
    "    rprotein_dict = {}\n",
    "    name_dict = {}\n",
    "    for x in temp:\n",
    "        if not(x[1].split('@')[0] in name_dict):\n",
    "            name_dict[x[1].split('@')[0]] = (x[0], x[7])\n",
    "        rprotein_dict[x[1]] = x[2:7]\n",
    "    with open(output_dir + '/name_dict.pkl', 'wb') as f:\n",
    "        pickle.dump(name_dict, f) \n",
    "    with open(output_dir + '/rprotein_dict.pkl', 'wb') as f:\n",
    "        pickle.dump(rprotein_dict, f) "
   ]
  },
  {
   "cell_type": "code",
   "execution_count": 22,
   "id": "e8c54ef0-8e30-4c77-bc7d-feacf5b5e917",
   "metadata": {},
   "outputs": [],
   "source": [
    "with open(output_dir + '/name_dict.pkl', 'rb') as f:\n",
    "    name_dict = pickle.load(f) \n",
    "with open(output_dir + '/rprotein_dict.pkl', 'rb') as f:\n",
    "    rprotein_dict = pickle.load(f) "
   ]
  },
  {
   "cell_type": "code",
   "execution_count": 24,
   "id": "626bf12a-5b62-42c0-8f50-4e3cefb1f9dd",
   "metadata": {},
   "outputs": [
    {
     "name": "stdout",
     "output_type": "stream",
     "text": [
      "{'Actinobacteria': 3254, 'Chlamydiae': 31, 'Proteobacteria': 6481, 'Chlorobi': 16, 'Euryarchaeota': 434, 'Firmicutes': 2851, 'Crenarchaeota': 58, 'Cyanobacteria': 175, 'Spirochaetes': 158, 'Candidatus Thermoplasmatota': 14, 'Tenericutes': 192, 'Aquificae': 22, 'Gemmatimonadetes': 5, 'Bacteroidetes': 1821, 'Deferribacteres': 9, 'Acidobacteria': 38, 'Thermotogae': 43, 'Chloroflexi': 55, 'Thaumarchaeota': 25, 'Verrucomicrobia': 53, 'Elusimicrobia': 3, 'Deinococcus-Thermus': 101, 'Coprothermobacterota': 2, 'Dictyoglomi': 2, 'Nitrospirae': 16, 'Fusobacteria': 39, 'Synergistetes': 23, 'Planctomycetes': 117, 'Candidatus Cloacimonetes': 2, 'Fibrobacteres': 5, 'Lentisphaerae': 3, 'Chrysiogenetes': 3, 'Thermodesulfobacteria': 12, 'Ignavibacteriae': 2, 'Caldiserica/Cryosericota group': 2, 'Nitrospinae/Tectomicrobia group': 1, 'Balneolaeota': 15, 'Candidatus Saccharibacteria': 5, 'Rhodothermaeota': 5, 'Armatimonadetes': 4, 'Candidatus Dependentiae': 1, 'Kiritimatiellaeota': 4, 'Candidatus Kryptonia': 2, 'Calditrichaeota': 1, 'Abditibacteriota': 1, 'candidate division NC10': 1, 'Candidatus Korarchaeota': 1, 'Candidatus Omnitrophica': 1, 'Atribacterota': 1, 'Candidatus Absconditabacteria': 2, 'Candidatus Bipolaricaulota': 1}\n"
     ]
    },
    {
     "name": "stderr",
     "output_type": "stream",
     "text": [
      "100%|██████████| 2851/2851 [00:00<00:00, 114813.69it/s]\n"
     ]
    }
   ],
   "source": [
    "sequence_list = []\n",
    "phyla_count_dict = {}\n",
    "for k, v in rprotein_dict.items():\n",
    "    if 'L10' in v[0]:\n",
    "        taxonomy_info = name_dict[k.split('@')[0]][1]\n",
    "        if len(taxonomy_info)>2:\n",
    "            phylum = taxonomy_info[1]\n",
    "            subphylum = taxonomy_info[2]\n",
    "            if phylum == 'Firmicutes':\n",
    "            #if subphylum == 'Corynebacteriales':\n",
    "                sequence_list.append([k,v[4]])\n",
    "            if phylum in phyla_count_dict:\n",
    "                phyla_count_dict[phylum] +=1\n",
    "            else:\n",
    "                phyla_count_dict[phylum] = 1\n",
    "        #print(name_dict[k.split('@')[0]][1][1], v)\n",
    "print (phyla_count_dict)\n",
    "region_file_name = 'all_upstream_regions.faa'\n",
    "util.produce_fasta_file(sequence_list, results_dir + '/' + region_file_name)"
   ]
  },
  {
   "cell_type": "code",
   "execution_count": 25,
   "id": "0b0e247e-cbf0-477b-b061-911713ddb9c8",
   "metadata": {},
   "outputs": [],
   "source": [
    "e_val = 1e-10"
   ]
  },
  {
   "cell_type": "code",
   "execution_count": 26,
   "id": "c82628f3-a379-4a85-bfa2-ef53c7f286f6",
   "metadata": {},
   "outputs": [],
   "source": [
    "wsl_output_dir = util.wslname(output_dir)\n",
    "mafft_output_filename = 'mafft.faa'\n",
    "result = subprocess.run('wsl echo magpie | sudo -S mafft ' + wsl_output_dir + '/' + region_file_name + ' > ' + wsl_output_dir + '/' + mafft_output_filename, capture_output=True, text=True)"
   ]
  },
  {
   "cell_type": "code",
   "execution_count": 27,
   "id": "fa4108ed-1562-437c-b03a-10bb0f819aad",
   "metadata": {},
   "outputs": [],
   "source": [
    "blastfn.hmmer_build(output_dir, mafft_output_filename, 'hmm.hmm')"
   ]
  },
  {
   "cell_type": "code",
   "execution_count": 28,
   "id": "bea3e918-8dfe-4c75-9b8c-34fe45af83e4",
   "metadata": {},
   "outputs": [],
   "source": [
    "for i in range(3):\n",
    "    blastfn.nhmmer_search_model(output_dir, 'hmm.hmm', output_dir, region_file_name, 'align_sto', 'output.txt', 'hsummary,txt', e_val)\n",
    "    blastfn.hmmer_build(output_dir, 'align_sto', 'hmm.hmm')\n",
    "blastfn.nhmmer_search_model(output_dir, 'hmm.hmm', output_dir, region_file_name, 'align.sto', 'output.txt', 'hsummary,txt', e_val)"
   ]
  },
  {
   "cell_type": "code",
   "execution_count": 29,
   "id": "7893be18-fdd1-4043-a801-85007999f8a3",
   "metadata": {},
   "outputs": [],
   "source": [
    "for i in range(1):\n",
    "    blastfn.infernal_build_and_calib(output_dir, 'align.sto' ,'cm_1.cm', False)\n",
    "    blastfn.infernal_search(output_dir, 'cm_1.cm', output_dir, region_file_name, 'search_1.sto', 'search_hits_1.txt', 'summary_1.txt', e_val) \n",
    "    if os.path.getsize(output_dir + '/search_hits_1.txt') > 1e8:\n",
    "        continue\n",
    "    blastfn.run_rscape(output_dir, 'search_1.sto', 'rscape_1')\n",
    "\n",
    "\n",
    "    #2\n",
    "    blastfn.infernal_build_and_calib(output_dir, 'rscape_1.cacofold.R2R.sto' ,'cm_2.cm')\n",
    "\n",
    "\n",
    "    blastfn.infernal_search(output_dir, 'cm_2.cm', output_dir, region_file_name, 'search_2.sto', 'search_hits_2.txt', 'summary_2.txt', e_val) \n",
    "    if os.path.getsize(output_dir + '/search_hits_2.txt') > 1e8:\n",
    "        continue\n",
    "    blastfn.run_rscape(output_dir, 'search_2.sto', 'rscape_2')\n",
    "\n",
    "    #3\n",
    "\n",
    "    blastfn.infernal_build_and_calib(output_dir, 'rscape_2.cacofold.R2R.sto' ,'cm_3.cm')\n",
    "    blastfn.infernal_search(output_dir, 'cm_3.cm', output_dir, region_file_name, 'search_3.sto', 'search_hits_3.txt', 'summary_3.txt', e_val) \n",
    "    if os.path.getsize(output_dir + '/search_hits_3.txt') > 1e8:\n",
    "        continue\n",
    "    blastfn.run_rscape(output_dir, 'search_3.sto', 'rscape_3')\n",
    "\n",
    "    #Final\n",
    "\n",
    "    blastfn.infernal_build_and_calib(output_dir, 'rscape_3.cacofold.R2R.sto' ,'cm_4.cm')"
   ]
  },
  {
   "cell_type": "code",
   "execution_count": 9,
   "id": "3ca0f598-6871-4e76-a668-fdf6035b435e",
   "metadata": {},
   "outputs": [],
   "source": [
    "blastfn.run_tblastx('D:/BLAST/ref_prok_rep_genomes', 'all_regions.faa', 'ref_prok_rep_genomes', e_value = 1e-10)"
   ]
  },
  {
   "cell_type": "code",
   "execution_count": null,
   "id": "af71d84e-479e-4a74-8a38-3ba6410f74aa",
   "metadata": {},
   "outputs": [],
   "source": []
  }
 ],
 "metadata": {
  "kernelspec": {
   "display_name": "Python 3 (ipykernel)",
   "language": "python",
   "name": "python3"
  },
  "language_info": {
   "codemirror_mode": {
    "name": "ipython",
    "version": 3
   },
   "file_extension": ".py",
   "mimetype": "text/x-python",
   "name": "python",
   "nbconvert_exporter": "python",
   "pygments_lexer": "ipython3",
   "version": "3.9.7"
  }
 },
 "nbformat": 4,
 "nbformat_minor": 5
}
