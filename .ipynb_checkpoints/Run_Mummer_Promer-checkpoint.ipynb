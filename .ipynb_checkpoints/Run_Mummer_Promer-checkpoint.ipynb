{
 "cells": [
  {
   "cell_type": "code",
   "execution_count": 126,
   "id": "bd555e82-b9bd-441f-97e1-2ea88e235609",
   "metadata": {},
   "outputs": [],
   "source": [
    "from Bio import Entrez, SeqIO, AlignIO, pairwise2, Align, Seq, motifs\n",
    "from Bio.Seq import Seq\n",
    "from Bio.SeqFeature import SeqFeature, FeatureLocation\n",
    "import os\n",
    "import subprocess\n",
    "import pandas as pd\n",
    "from io import StringIO\n",
    "from Comparative_Analysis import Utilities as util\n",
    "import math\n",
    "from tqdm.auto import tqdm\n",
    "import re"
   ]
  },
  {
   "cell_type": "code",
   "execution_count": 98,
   "id": "95848924-ea83-44a5-be33-2aa6957f1656",
   "metadata": {},
   "outputs": [],
   "source": [
    "project_dir = 'D:/Project_Data/Project_6'\n",
    "genome_datasets_dir = project_dir + '/Datasets/NCBI_Datasets'\n",
    "temp_fileloc = project_dir + '/Temp_Files'"
   ]
  },
  {
   "cell_type": "code",
   "execution_count": 99,
   "id": "c1b793ad-a1f8-4105-92a5-257a65ce83bc",
   "metadata": {},
   "outputs": [],
   "source": [
    "def write_fasta(sequence, name, file):\n",
    "    line_length = 60\n",
    "    lines = []\n",
    "    sequence_length = len(sequence)\n",
    "    number_of_lines = math.ceil(sequence_length / line_length)\n",
    "    lines.append(\">\" + name + \"\\n\")\n",
    "    for i in range(number_of_lines):\n",
    "            subsequence = sequence[i*line_length:(i+1)*line_length]\n",
    "            lines.append(subsequence + \"\\n\")\n",
    "    a = ''.join(lines)\n",
    "    with open(file,'w', newline='') as outfile:\n",
    "        outfile.write(''.join(lines))"
   ]
  },
  {
   "cell_type": "code",
   "execution_count": 100,
   "id": "24dcf548-ffb6-4811-891c-abbcf6973454",
   "metadata": {},
   "outputs": [],
   "source": [
    "id_list = ['GCF_000195955.2', 'GCF_000157895.3']"
   ]
  },
  {
   "cell_type": "code",
   "execution_count": 109,
   "id": "47fbd019-5554-4df0-9cba-395f2d4a8349",
   "metadata": {},
   "outputs": [
    {
     "data": {
      "application/vnd.jupyter.widget-view+json": {
       "model_id": "346169450e144c9ea97ecf0958dfd34b",
       "version_major": 2,
       "version_minor": 0
      },
      "text/plain": [
       "  0%|          | 0/2 [00:00<?, ?it/s]"
      ]
     },
     "metadata": {},
     "output_type": "display_data"
    }
   ],
   "source": [
    "for id in tqdm(id_list):\n",
    "    genome_record = next(SeqIO.parse(genome_datasets_dir + '/'+id + '/genomic.gbff', \"genbank\"))\n",
    "    organism_name = genome_record.annotations['organism']\n",
    "    full_sequence = genome_record.seq\n",
    "    write_fasta(str(full_sequence), id, temp_fileloc + '/'+id+'.fasta')"
   ]
  },
  {
   "cell_type": "code",
   "execution_count": 110,
   "id": "f807055c-f8de-413c-a78c-e0d08db6055d",
   "metadata": {},
   "outputs": [
    {
     "data": {
      "text/plain": [
       "CompletedProcess(args='wsl cd ~; cd mummer4/mummer-4.0.0rc1; promer -p promer /mnt/d/Project_Data/Project_6/Temp_Files/GCF_000195955.2.fasta /mnt/d/Project_Data/Project_6/Temp_Files/GCF_000157895.3.fasta ', returncode=0)"
      ]
     },
     "execution_count": 110,
     "metadata": {},
     "output_type": "execute_result"
    }
   ],
   "source": [
    "subprocess.run('wsl cd ~; cd mummer4/mummer-4.0.0rc1; promer -p promer '+util.wslname(temp_fileloc + '/'+id_list[0]+'.fasta ')+ util.wslname(temp_fileloc + '/'+id_list[1]+'.fasta ') , shell=True)"
   ]
  },
  {
   "cell_type": "code",
   "execution_count": 111,
   "id": "f9b58d93-52b0-42dd-bee8-b1dee1fb4f1b",
   "metadata": {},
   "outputs": [],
   "source": [
    "temp = subprocess.run('wsl cd ~; cd mummer4/mummer-4.0.0rc1; show-coords -r -c -l -L 100 -I 50 -T promer.delta' , shell=True, capture_output=True).stdout.decode('utf-8')"
   ]
  },
  {
   "cell_type": "code",
   "execution_count": 112,
   "id": "4ddce0b2-f945-4e46-8272-fb3e0d2291a0",
   "metadata": {},
   "outputs": [],
   "source": [
    "column_names =[ 'S1', 'E1', 'S2', 'E2', 'LEN 1', 'LEN 2', '% IDY', '% SIM', '% STP', 'LEN R', 'LEN Q', 'COV R', 'COV Q', 'FRM_1', 'FRM_2', 'TAGS_1', 'TAGS_2']\n",
    "dataframe = pd.read_table(StringIO(temp), skiprows=4, index_col=False, header=None, names=column_names)"
   ]
  },
  {
   "cell_type": "code",
   "execution_count": 114,
   "id": "20f85b16-5d93-43a3-816d-96bc670165d2",
   "metadata": {},
   "outputs": [],
   "source": [
    "dataframe.to_csv(project_dir + '/mummer_coords.csv')"
   ]
  },
  {
   "cell_type": "code",
   "execution_count": 121,
   "id": "f0b2efaf-a81c-498d-898c-374d0e532546",
   "metadata": {},
   "outputs": [],
   "source": [
    "temp = subprocess.run('wsl cd ~; cd mummer4/mummer-4.0.0rc1; show-aligns promer.delta '+id_list[0]+' '+ id_list[1] , shell=True, capture_output=True).stdout.decode('utf-8')\n"
   ]
  },
  {
   "cell_type": "code",
   "execution_count": 131,
   "id": "ad40641e-9543-4904-b6d0-4cd6f0eb8867",
   "metadata": {},
   "outputs": [],
   "source": [
    "def extract_ref_and_query_seq(cleaned_lines):\n",
    "    return re.findall('[0-9]+\\s+(.*)\\n[0-9]+\\s+(.*)', cleaned_lines)[0]\n",
    "\n",
    "def clean_alignment_string(alignment_string):\n",
    "    # The line consisting of spaces, |'s, and numbers above each reference-query sequence pair in show-aligns output\n",
    "    seqs_overline_regex = '[\\n]?[\\s0-9\\|]+\\n'\n",
    "    # The line beneath each reference-query sequence pair in show-aligns output pointing to mismatches with ^'s\n",
    "    seqs_underline_regex = '\\n[\\s\\^]+[\\n]?'\n",
    "    # We REALLY need those question marks, or otherwise the matching will delete the first and last lines\n",
    "\n",
    "    cleaned_seqs = re.findall('(?s)'+seqs_overline_regex+'(.*?)'+seqs_underline_regex, alignment_string)\n",
    "\n",
    "    extracted_sequences = [extract_ref_and_query_seq(line) for line in cleaned_seqs]\n",
    "    extracted_sequences = list(zip(*extracted_sequences))\n",
    "    extracted_sequences = [''.join(extracted_sequence).upper() for extracted_sequence in extracted_sequences]\n",
    "    ref_sequence, query_sequence = tuple(extracted_sequences)\n",
    "\n",
    "    return ref_sequence, query_sequence\n"
   ]
  },
  {
   "cell_type": "code",
   "execution_count": 134,
   "id": "1d5d8359-4291-41d9-a63f-79acdb567117",
   "metadata": {},
   "outputs": [],
   "source": [
    "def get_alignments_from_ids():\n",
    "    alignments = subprocess.run('wsl cd ~; cd mummer4/mummer-4.0.0rc1; show-aligns promer.delta '+id_list[0]+' '+ id_list[1] , shell=True, capture_output=True).stdout.decode('utf-8')\n",
    "    #alignments = subprocess.run(['show-aligns', delta_filename, ref_id, query_id],\n",
    "    #                              stdout=subprocess.PIPE).stdout.decode('utf-8')\n",
    "    # Note that no sorting is done by default for the output of `show-aligns`, so we _may_ assume\n",
    "    # that the order of the matches is the same as their order of appearance in the deltafile\n",
    "\n",
    "    # \"Beginning delimiter\" of every alignment in the `show-aligns` output\n",
    "    begin_alignment_regex = '-- BEGIN alignment \\[ (?P<ref_direction>[+\\-])1 (?P<ref_start>[0-9]+) - (?P<ref_end>[0-9]+) \\|' + \\\n",
    "    ' (?P<query_direction>[+\\-])1 (?P<query_start>[0-9]+) - (?P<query_end>[0-9]+) \\]\\n\\n'\n",
    "    # \"End delimiter\" of every alignment in the `show-aligns` output\n",
    "    end_alignment_regex = '\\n\\n--\\s+END alignment \\[ [+\\-]1 [0-9]+ - [0-9]+ \\| [+\\-]1 [0-9]+ - [0-9]+ \\]'\n",
    "\n",
    "    # Goal is to capture everything between the begin alignment strings and the end alignment strings\n",
    "    parse_regex = '(?s)'+begin_alignment_regex+'(?P<alignment_string>.*?)'+end_alignment_regex\n",
    "    # FYI:    have to use (?s) at beginning to ensure '.' will also match new lines\n",
    "    # See:    https://stackoverflow.com/questions/42302482/python-find-a-string-between-two-strings-repeatedly#comment116031644_42302556\n",
    "    parsed_alignments = [match.groupdict() for match in re.finditer(parse_regex, alignments)]   \n",
    "\n",
    "    # Now have a DataFrame with the first columns containing information about the\n",
    "    # alignment and the last column containing everything in between one of the\n",
    "    # \"BEGIN alignment\" and \"END alignment\" blocks of the `show-aligns` output\n",
    "    parsed_alignments = pd.DataFrame(parsed_alignments)\n",
    "\n",
    "    alignment_strings = list(parsed_alignments['alignment_string']) \n",
    "\n",
    "    parsed_alignments = parsed_alignments.drop(columns=['alignment_string'])\n",
    "\n",
    "    #ref_sequences, query_sequences = tuple(zip(*[clean_alignment_string(alignment_string) for alignment_string in alignment_strings]))\n",
    "\n",
    "    #parsed_alignments['ref_sequence'] = ref_sequences\n",
    "    #parsed_alignments['query_sequence'] = query_sequences\n",
    "    return parsed_alignments"
   ]
  },
  {
   "cell_type": "code",
   "execution_count": 135,
   "id": "66b852b3-8a31-462d-ac71-ed6d57705bee",
   "metadata": {},
   "outputs": [
    {
     "data": {
      "text/html": [
       "<div>\n",
       "<style scoped>\n",
       "    .dataframe tbody tr th:only-of-type {\n",
       "        vertical-align: middle;\n",
       "    }\n",
       "\n",
       "    .dataframe tbody tr th {\n",
       "        vertical-align: top;\n",
       "    }\n",
       "\n",
       "    .dataframe thead th {\n",
       "        text-align: right;\n",
       "    }\n",
       "</style>\n",
       "<table border=\"1\" class=\"dataframe\">\n",
       "  <thead>\n",
       "    <tr style=\"text-align: right;\">\n",
       "      <th></th>\n",
       "      <th>ref_direction</th>\n",
       "      <th>ref_start</th>\n",
       "      <th>ref_end</th>\n",
       "      <th>query_direction</th>\n",
       "      <th>query_start</th>\n",
       "      <th>query_end</th>\n",
       "    </tr>\n",
       "  </thead>\n",
       "  <tbody>\n",
       "    <tr>\n",
       "      <th>0</th>\n",
       "      <td>+</td>\n",
       "      <td>3265</td>\n",
       "      <td>4989</td>\n",
       "      <td>+</td>\n",
       "      <td>3242887</td>\n",
       "      <td>3244611</td>\n",
       "    </tr>\n",
       "    <tr>\n",
       "      <th>1</th>\n",
       "      <td>+</td>\n",
       "      <td>10882</td>\n",
       "      <td>11187</td>\n",
       "      <td>+</td>\n",
       "      <td>3255322</td>\n",
       "      <td>3255639</td>\n",
       "    </tr>\n",
       "    <tr>\n",
       "      <th>2</th>\n",
       "      <td>-</td>\n",
       "      <td>4400219</td>\n",
       "      <td>4393398</td>\n",
       "      <td>-</td>\n",
       "      <td>3224284</td>\n",
       "      <td>3217454</td>\n",
       "    </tr>\n",
       "    <tr>\n",
       "      <th>3</th>\n",
       "      <td>+</td>\n",
       "      <td>12313</td>\n",
       "      <td>13026</td>\n",
       "      <td>+</td>\n",
       "      <td>3258442</td>\n",
       "      <td>3259155</td>\n",
       "    </tr>\n",
       "    <tr>\n",
       "      <th>4</th>\n",
       "      <td>+</td>\n",
       "      <td>23770</td>\n",
       "      <td>25464</td>\n",
       "      <td>+</td>\n",
       "      <td>3269860</td>\n",
       "      <td>3271620</td>\n",
       "    </tr>\n",
       "    <tr>\n",
       "      <th>...</th>\n",
       "      <td>...</td>\n",
       "      <td>...</td>\n",
       "      <td>...</td>\n",
       "      <td>...</td>\n",
       "      <td>...</td>\n",
       "      <td>...</td>\n",
       "    </tr>\n",
       "    <tr>\n",
       "      <th>1020</th>\n",
       "      <td>-</td>\n",
       "      <td>23774</td>\n",
       "      <td>14877</td>\n",
       "      <td>-</td>\n",
       "      <td>3269860</td>\n",
       "      <td>3260888</td>\n",
       "    </tr>\n",
       "    <tr>\n",
       "      <th>1021</th>\n",
       "      <td>+</td>\n",
       "      <td>4388917</td>\n",
       "      <td>4391250</td>\n",
       "      <td>+</td>\n",
       "      <td>3211987</td>\n",
       "      <td>3214359</td>\n",
       "    </tr>\n",
       "    <tr>\n",
       "      <th>1022</th>\n",
       "      <td>-</td>\n",
       "      <td>9818</td>\n",
       "      <td>7686</td>\n",
       "      <td>-</td>\n",
       "      <td>3251716</td>\n",
       "      <td>3249587</td>\n",
       "    </tr>\n",
       "    <tr>\n",
       "      <th>1023</th>\n",
       "      <td>-</td>\n",
       "      <td>7268</td>\n",
       "      <td>5175</td>\n",
       "      <td>-</td>\n",
       "      <td>3246904</td>\n",
       "      <td>3244811</td>\n",
       "    </tr>\n",
       "    <tr>\n",
       "      <th>1024</th>\n",
       "      <td>+</td>\n",
       "      <td>4405501</td>\n",
       "      <td>4407426</td>\n",
       "      <td>+</td>\n",
       "      <td>3233392</td>\n",
       "      <td>3235290</td>\n",
       "    </tr>\n",
       "  </tbody>\n",
       "</table>\n",
       "<p>1025 rows × 6 columns</p>\n",
       "</div>"
      ],
      "text/plain": [
       "     ref_direction ref_start  ref_end query_direction query_start query_end\n",
       "0                +      3265     4989               +     3242887   3244611\n",
       "1                +     10882    11187               +     3255322   3255639\n",
       "2                -   4400219  4393398               -     3224284   3217454\n",
       "3                +     12313    13026               +     3258442   3259155\n",
       "4                +     23770    25464               +     3269860   3271620\n",
       "...            ...       ...      ...             ...         ...       ...\n",
       "1020             -     23774    14877               -     3269860   3260888\n",
       "1021             +   4388917  4391250               +     3211987   3214359\n",
       "1022             -      9818     7686               -     3251716   3249587\n",
       "1023             -      7268     5175               -     3246904   3244811\n",
       "1024             +   4405501  4407426               +     3233392   3235290\n",
       "\n",
       "[1025 rows x 6 columns]"
      ]
     },
     "execution_count": 135,
     "metadata": {},
     "output_type": "execute_result"
    }
   ],
   "source": [
    "get_alignments_from_ids()"
   ]
  },
  {
   "cell_type": "code",
   "execution_count": null,
   "id": "6510ff10-77f6-41ef-8daa-006b1db3842e",
   "metadata": {},
   "outputs": [],
   "source": []
  }
 ],
 "metadata": {
  "kernelspec": {
   "display_name": "Python 3 (ipykernel)",
   "language": "python",
   "name": "python3"
  },
  "language_info": {
   "codemirror_mode": {
    "name": "ipython",
    "version": 3
   },
   "file_extension": ".py",
   "mimetype": "text/x-python",
   "name": "python",
   "nbconvert_exporter": "python",
   "pygments_lexer": "ipython3",
   "version": "3.9.7"
  }
 },
 "nbformat": 4,
 "nbformat_minor": 5
}
