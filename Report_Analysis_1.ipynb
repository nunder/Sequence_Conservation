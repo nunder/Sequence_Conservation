{
 "cells": [
  {
   "cell_type": "markdown",
   "id": "b1e30ed4-8a0e-4a6f-96eb-dfe116dfb2de",
   "metadata": {},
   "source": [
    "#### Directories etc"
   ]
  },
  {
   "cell_type": "code",
   "execution_count": 79,
   "id": "cf9c6377-5080-4c22-94db-feabe17cc47c",
   "metadata": {},
   "outputs": [],
   "source": [
    "import pandas as pd\n",
    "import pickle\n",
    "import seaborn as sns\n",
    "import matplotlib.pyplot as plt\n",
    "import numpy as np\n",
    "from scipy.fft import fft, fftfreq\n",
    "from Bio import Entrez, SeqIO, AlignIO, pairwise2, Align, Seq, motifs\n",
    "from Bio.Seq import Seq\n",
    "from Bio.SeqFeature import SeqFeature, FeatureLocation\n",
    "from scipy.stats import binom\n",
    "import math\n",
    "import random\n",
    "from tqdm import tqdm\n",
    "from Comparative_Analysis import Utilities as util\n",
    "from collections import defaultdict\n",
    "import random\n",
    "from joblib import Parallel, delayed\n",
    "from Comparative_Analysis import Blast_Functions as blastfn\n",
    "import time\n",
    "import os\n",
    "import copy\n",
    "from Comparative_Analysis import ORF_Functions as orffn\n",
    "from random import sample\n",
    "pd.options.mode.chained_assignment = None  # default='warn'\n",
    "import ete3\n",
    "import matplotlib.pyplot as plt\n",
    "from statistics import mode, median"
   ]
  },
  {
   "cell_type": "code",
   "execution_count": 80,
   "id": "1988a242-f558-4643-b3a9-27272fa7bebc",
   "metadata": {},
   "outputs": [],
   "source": [
    "project_dir = 'F:/Project_Data/Project_11'\n",
    "seq_dir = 'F:/Datasets/Actinobacteria_Ref_Rep_Lev_Complete'\n",
    "dictionary_dir = 'F:/Datasets/CRYPTIC_DATA/Cryptic_Dictionaries'\n",
    "tb_species = 'NC_000962.3' \n",
    "tb_genome_filename = 'GCF_000195955.2_ASM19595v2_genomic.gbff'\n",
    "mycobrowser_dir = 'F:/Datasets/Data_From_Publications'\n",
    "num_cores = 16\n",
    "core_numbers = list(range(1, num_cores+1))"
   ]
  },
  {
   "cell_type": "code",
   "execution_count": 268,
   "id": "32707d71-27ce-4492-88d2-d2c1f23e27b3",
   "metadata": {},
   "outputs": [],
   "source": [
    "with open(project_dir + '/Thoth_Full_Run/position_dict.pkl', 'rb') as f:\n",
    "    full_sample_position_dict = pickle.load(f)  \n",
    "with open(project_dir + '/Thoth_Full_Run/variant_df.pkl', 'rb') as f:\n",
    "    variant_df = pickle.load(f)   "
   ]
  },
  {
   "cell_type": "code",
   "execution_count": 4,
   "id": "05037cfa-17a5-41c1-8504-9d35b5413191",
   "metadata": {},
   "outputs": [],
   "source": [
    "for record in SeqIO.parse(seq_dir + '/' + tb_genome_filename, \"genbank\"):\n",
    "    full_sequence = str(record.seq)"
   ]
  },
  {
   "cell_type": "code",
   "execution_count": 5,
   "id": "79a27a3c-8aed-4f53-b285-7a73ee5f9957",
   "metadata": {},
   "outputs": [],
   "source": [
    "with open(project_dir + '/Mutation_Counts/zero_and_non_zero_mutation_counts.pkl', 'rb') as f:\n",
    "    zero_and_non_zero_mutation_counts = pickle.load(f)     \n",
    "with open(project_dir + '/Thoth_Full_Run/zero_and_non_zero_mutation_counts.pkl', 'rb') as f:\n",
    "    full_sample_zero_and_non_zero_mutation_counts = pickle.load(f)   "
   ]
  },
  {
   "cell_type": "code",
   "execution_count": 13,
   "id": "20b2125c-a6c7-4ab3-8aab-f2ebf7835c52",
   "metadata": {},
   "outputs": [
    {
     "name": "stderr",
     "output_type": "stream",
     "text": [
      "C:\\Users\\nicho\\AppData\\Local\\Temp/ipykernel_25824/2933718168.py:1: DtypeWarning: Columns (1,3,13,14,15,27,36) have mixed types. Specify dtype option on import or set low_memory=False.\n",
      "  genomes_df = pd.read_csv('F:/Project_Data/Project_11/Datasets/GENOMES.csv');\n"
     ]
    }
   ],
   "source": [
    "genomes_df = pd.read_csv('F:/Project_Data/Project_11/Datasets/GENOMES.csv');\n",
    "lineage_dict = {}\n",
    "for i,r in genomes_df.iterrows():\n",
    "    lineage_dict[r['UNIQUEID']] = r['MYKROBE_LINEAGE_NAME_2'] "
   ]
  },
  {
   "cell_type": "code",
   "execution_count": 14,
   "id": "bb7347aa-aa2a-4285-a09d-aaeae512694f",
   "metadata": {},
   "outputs": [],
   "source": [
    "compass_df = pd.read_csv('F:/Datasets/CRYPTIC_DATA/COMPASS.csv', names = ['species', 'start', 'stop','count'])\n",
    "compass_dict = {}\n",
    "for i, r in compass_df.iterrows():\n",
    "    for k in range(r['start'], r['stop']):     #  Should te start-1 but seems to ve inconsistency with mutations!!\n",
    "        compass_dict[k] = 'Y'"
   ]
  },
  {
   "cell_type": "markdown",
   "id": "56860b0a-e91f-4b51-b989-0c897a7b4be3",
   "metadata": {},
   "source": [
    "##### Plot p values for known CDS"
   ]
  },
  {
   "cell_type": "code",
   "execution_count": 15,
   "id": "a9088981-99ce-4e99-9de2-9ab1cba89b57",
   "metadata": {},
   "outputs": [],
   "source": [
    "annotation_cds_boundaries = []\n",
    "for genome_record in SeqIO.parse(seq_dir + '/' + tb_genome_filename, \"genbank\"):\n",
    "    for feature in genome_record.features:\n",
    "        if feature.type == 'CDS':\n",
    "            a = feature.qualifiers  \n",
    "            annotation_cds_boundaries.append((a.get(\"locus_tag\")[0], a.get(\"product\")[0], int(feature.location.start), int(feature.location.end), int(feature.location.strand)))   "
   ]
  },
  {
   "cell_type": "code",
   "execution_count": 44,
   "id": "39858879-1cf7-4526-872a-b9f7aaaf67ae",
   "metadata": {},
   "outputs": [],
   "source": [
    "mycobrowser_df = pd.read_excel(mycobrowser_dir+'/Mycobrowser_Release_4.xlsx')\n",
    "temp_cds = mycobrowser_df[mycobrowser_df['Feature'] == 'CDS'][['Locus','Start','Stop','Strand','Product','Name']]      #Just CDS\n",
    "mycobrowser_cds_boundaries = []\n",
    "for i, r in temp_cds.iterrows():\n",
    "    if r['Strand'] == '+':\n",
    "        strand = 1\n",
    "    else:\n",
    "        strand = -1\n",
    "    mycobrowser_cds_boundaries.append((r['Locus'],r['Product'], r['Start']-1, r['Stop'], strand, r['Name']))\n",
    "mycobrowser_cds_boundaries.sort(key = lambda x: x[2])\n",
    "\n",
    "temp_cds = mycobrowser_df[mycobrowser_df['Feature'].isin(['CDS','rRNA','tRNA'])][['Locus','Start','Stop','Strand','Product','Name']]      #Just CDS\n",
    "mycobrowser_all_boundaries = []\n",
    "for i, r in temp_cds.iterrows():\n",
    "    if r['Strand'] == '+':\n",
    "        strand = 1\n",
    "    else:\n",
    "        strand = -1\n",
    "    mycobrowser_all_boundaries.append((r['Locus'],r['Product'], r['Start']-1, r['Stop'], strand, r['Name']))\n",
    "mycobrowser_all_boundaries.sort(key = lambda x: x[2])"
   ]
  },
  {
   "cell_type": "code",
   "execution_count": 62,
   "id": "38cce946-04e8-4f12-a473-cc9cd6b06839",
   "metadata": {},
   "outputs": [],
   "source": [
    "min_intergenic_length = 50\n",
    "interregion_boundaries = []\n",
    "max_stop = 0\n",
    "for n,cds in enumerate(mycobrowser_all_boundaries):\n",
    "    stop = cds[3]\n",
    "    max_stop = max(stop, max_stop)\n",
    "    if n < len(mycobrowser_all_boundaries) - 1:\n",
    "        if mycobrowser_all_boundaries[n+1][2] > max_stop + min_intergenic_length:\n",
    "            interregion_boundaries.append((cds[0], cds[1], max_stop, mycobrowser_all_boundaries[n+1][2], cds[4], cds[5]))\n"
   ]
  },
  {
   "cell_type": "code",
   "execution_count": null,
   "id": "76d24c1d-cc17-45a7-af30-291c33ceb9b5",
   "metadata": {},
   "outputs": [],
   "source": [
    "min_intergenic_length = 50\n",
    "candidate_intergenic_orfs = []\n",
    "max_stop = 0\n",
    "ORFFinder = orffn.ORF_Finder(full_sequence)\n",
    "for n,cds in enumerate(mycobrowser_all_boundaries):\n",
    "    stop = cds[3]\n",
    "    max_stop = max(stop, max_stop)\n",
    "    if n < len(mycobrowser_all_boundaries) - 1:\n",
    "        if mycobrowser_all_boundaries[n+1][2] > max_stop + min_intergenic_length:\n",
    "            a =ORFFinder.max_orf(max_stop, mycobrowser_all_boundaries[n+1][2], output_orfs = 'Nested', min_orf_length = 50)\n",
    "            for x in a:\n",
    "                candidate_intergenic_orfs.append(x)\n",
    "            "
   ]
  },
  {
   "cell_type": "code",
   "execution_count": 39,
   "id": "cd806218-dbcc-4faf-994d-7a30065aea49",
   "metadata": {},
   "outputs": [],
   "source": [
    "def bin_formula(position_3_counts, tot_bin_counts):\n",
    "    return 1- binom.cdf(position_3_counts-1, tot_bin_counts,1/3)\n",
    "def mutation_bin_probability(mutation_counts):\n",
    "    bin_counts = [0,0,0]\n",
    "    for i, c in enumerate(mutation_counts):\n",
    "        bin_counts[i % 3] += min(c,20)\n",
    "    if sum(bin_counts) == 0:\n",
    "        return (bin_counts, 2)\n",
    "    else:\n",
    "        return (bin_counts, bin_formula(bin_counts[2], sum(bin_counts)))  "
   ]
  },
  {
   "cell_type": "code",
   "execution_count": 245,
   "id": "e8795525-156e-4600-b344-96134cd3ef27",
   "metadata": {},
   "outputs": [],
   "source": [
    "p =sum([1 for x in full_sample_zero_and_non_zero_mutation_counts if x > 0])/(len(full_sequence) - len(compass_dict))\n",
    "def conf_interval(n):\n",
    "    return math.sqrt(p*(1-p))/math.sqrt(n)"
   ]
  },
  {
   "cell_type": "code",
   "execution_count": 246,
   "id": "84c2ee99-536e-45b4-9e3e-913932f41312",
   "metadata": {},
   "outputs": [],
   "source": [
    "locus_mutation_ave = []\n",
    "scores =[]\n",
    "for (locus, product, start, stop, strand, name) in mycobrowser_cds_boundaries: #interregion_boundaries:\n",
    "    compass_overlap = 0\n",
    "    for n in range(start, stop):\n",
    "        if n in compass_dict:\n",
    "            compass_overlap += 1\n",
    "    if compass_overlap / (stop - start) > 0.1:\n",
    "        continue\n",
    "    mutation_counts = full_sample_zero_and_non_zero_mutation_counts[start:stop]\n",
    "    if strand == 1:\n",
    "        scores.append(mutation_bin_probability(mutation_counts)[1])\n",
    "    else:\n",
    "        scores.append(mutation_bin_probability(reversed(mutation_counts))[1])\n",
    "    proportion_mutated_positions = sum([1 for m in mutation_counts if m>0])/len(mutation_counts)\n",
    "    length = len(mutation_counts)\n",
    "    num_sds = (proportion_mutated_positions - p)/conf_interval(length)\n",
    "    if (abs(num_sds)> 4):\n",
    "        locus_class = 'X'\n",
    "    else:\n",
    "        locus_class = 'N'\n",
    "    locus_mutation_ave.append([locus, name, product, sum(mutation_counts)/len(mutation_counts), max(mutation_counts), median(mutation_counts), start, stop, strand, \n",
    "                               len(mutation_counts), proportion_mutated_positions, num_sds, locus_class])\n",
    "locus_mutation_ave.sort(key = lambda x:x[3])"
   ]
  },
  {
   "cell_type": "code",
   "execution_count": 247,
   "id": "2e13bb25-a2fd-45ed-884c-9cbff3bda7b7",
   "metadata": {},
   "outputs": [],
   "source": [
    "locus_mutation_ave_df = pd.DataFrame(locus_mutation_ave, columns = ['locus','name','product','ave_mutation','max_mutation','median_mutation','start','stop','strand',\n",
    "                                                                    'length','ave_pos','num_sds','locus_class'])"
   ]
  },
  {
   "cell_type": "code",
   "execution_count": 248,
   "id": "2d5d03de-4f9c-4dea-a439-312a0659fe00",
   "metadata": {},
   "outputs": [
    {
     "data": {
      "text/plain": [
       "<AxesSubplot:xlabel='length', ylabel='Count'>"
      ]
     },
     "execution_count": 248,
     "metadata": {},
     "output_type": "execute_result"
    },
    {
     "data": {
      "image/png": "[encoded data removed]",
      "text/plain": [
       "<Figure size 504x252 with 1 Axes>"
      ]
     },
     "metadata": {
      "needs_background": "light"
     },
     "output_type": "display_data"
    }
   ],
   "source": [
    "sns.histplot(locus_mutation_ave_df['length'])"
   ]
  },
  {
   "cell_type": "code",
   "execution_count": 242,
   "id": "3f372288-6d1a-430b-a813-c0c51b201b79",
   "metadata": {},
   "outputs": [
    {
     "data": {
      "text/plain": [
       "<AxesSubplot:ylabel='Count'>"
      ]
     },
     "execution_count": 242,
     "metadata": {},
     "output_type": "execute_result"
    },
    {
     "data": {
      "image/png": "[encoded data removed]",
      "text/plain": [
       "<Figure size 504x252 with 1 Axes>"
      ]
     },
     "metadata": {
      "needs_background": "light"
     },
     "output_type": "display_data"
    }
   ],
   "source": [
    "sns.histplot([x[10] for x in locus_mutation_ave], bins=100)"
   ]
  },
  {
   "cell_type": "code",
   "execution_count": 243,
   "id": "5fdf02c5-9149-4d84-8d0b-95b77143eb43",
   "metadata": {},
   "outputs": [
    {
     "data": {
      "text/plain": [
       "<AxesSubplot:ylabel='Count'>"
      ]
     },
     "execution_count": 243,
     "metadata": {},
     "output_type": "execute_result"
    },
    {
     "data": {
      "image/png": "[encoded data removed]",
      "text/plain": [
       "<Figure size 504x252 with 1 Axes>"
      ]
     },
     "metadata": {
      "needs_background": "light"
     },
     "output_type": "display_data"
    }
   ],
   "source": [
    "toxin_ave = []\n",
    "for x in locus_mutation_ave:\n",
    "    if 'antitoxin' in x[2]:\n",
    "        toxin_ave.append(x[10])\n",
    "sns.histplot(toxin_ave)"
   ]
  },
  {
   "cell_type": "code",
   "execution_count": 266,
   "id": "cfb52daf-b528-4805-bf14-319009549373",
   "metadata": {},
   "outputs": [
    {
     "data": {
      "text/plain": [
       "[['Rv0667',\n",
       "  'rpoB',\n",
       "  'DNA-directed RNA polymerase (beta chain) RpoB (transcriptase beta chain) (RNA polymerase beta subunit)',\n",
       "  5.649900539926115,\n",
       "  3666,\n",
       "  1,\n",
       "  759806,\n",
       "  763325,\n",
       "  1,\n",
       "  3519,\n",
       "  0.5720375106564365,\n",
       "  10.055596212490558,\n",
       "  'X']]"
      ]
     },
     "execution_count": 266,
     "metadata": {},
     "output_type": "execute_result"
    }
   ],
   "source": [
    "[x for x in locus_mutation_ave if x[1] == 'rpoB']"
   ]
  },
  {
   "cell_type": "code",
   "execution_count": 257,
   "id": "80884dc8-f47e-4c9b-81e3-be9e888c7ae1",
   "metadata": {},
   "outputs": [
    {
     "name": "stdout",
     "output_type": "stream",
     "text": [
      "['Rv0041', 'leuS', 'Probable leucyl-tRNA synthetase LeuS (leucine--tRNA ligase) (LEURS)', 3.486941580756014, 69, 1.0, 43561, 46471, 1, 2910, 0.6948453608247422, 22.398043688732603, 'X']\n",
      "['Rv0056', 'rplI', '50S ribosomal protein L9 RplI', 13.675381263616558, 31, 15, 59408, 59867, 1, 459, 0.9324618736383442, 19.080300302357696, 'X']\n",
      "['Rv0063', 'Rv0063', 'Possible oxidoreductase', 3.75, 30, 1.0, 66922, 68362, 1, 1440, 0.6944444444444444, 15.725521670129904, 'X']\n",
      "['Rv0157', 'pntB', 'Probable NAD(P) transhydrogenase (subunit beta) PntB [integral membrane protein] (pyridine nucleotide transhydrogenase subunit beta) (nicotinamide nucleotide transhydrogenase subunit beta)', 3.730392156862745, 34, 1.0, 185051, 186479, 1, 1428, 0.7240896358543417, 17.901101218801113, 'X']\n",
      "['Rv0461', 'Rv0461', 'Probable transmembrane protein', 1.457142857142857, 9, 1, 552025, 552550, 1, 525, 0.8552380952380952, 16.866051165894113, 'X']\n",
      "['Rv0511', 'hemD', 'Probable uroporphyrin-III C-methyltransferase HemD (uroporphyrinogen III methylase) (urogen III methylase) (SUMT) (urogen III methylase) (UROM)', 3.1666666666666665, 35, 1.0, 602818, 604516, 1, 1698, 0.6696113074204947, 15.02900850837153, 'X']\n",
      "['Rv0630c', 'recB', 'Probable exonuclease V (beta chain) RecB (exodeoxyribonuclease V beta chain)(exodeoxyribonuclease V polypeptide) (chi-specific endonuclease)', 1.4401826484018265, 26, 1, 721728, 725013, -1, 3285, 0.6809741248097413, 22.206926980091875, 'X']\n",
      "['Rv0938', 'ligD', 'ATP dependent DNA ligase LigD (ATP dependent polydeoxyribonucleotide synthase) (thermostable DNA ligase) (ATP dependent polynucleotide ligase) (sealase) (DNA repair enzyme) (DNA joinase)', 2.213157894736842, 149, 1.0, 1046135, 1048415, 1, 2280, 0.6868421052631579, 19.06126675936333, 'X']\n",
      "['Rv0973c', 'accA2', 'Probable acetyl-/propionyl-coenzyme A carboxylase alpha chain (alpha subunit) AccA2: biotin carboxylase + biotin carboxyl carrier protein (BCCP)', 5.1187624750499, 45, 1.0, 1083746, 1085750, -1, 2004, 0.6941117764471058, 18.52143439704142, 'X']\n",
      "['Rv1283c', 'oppB', 'Probable oligopeptide-transport integral membrane protein ABC transporter OppB', 3.2924335378323106, 30, 1.0, 1436139, 1437117, -1, 978, 0.8517382413087935, 22.800914743653806, 'X']\n",
      "['Rv1332', 'Rv1332', 'Probable transcriptional regulatory protein', 2.313546423135464, 22, 2, 1500925, 1501582, 1, 657, 0.8949771689497716, 20.905431989912433, 'X']\n",
      "['Rv1333', 'Rv1333', 'Probable hydrolase', 2.9922705314009663, 96, 2, 1501598, 1502633, 1, 1035, 0.9420289855072463, 29.267383900587458, 'X']\n",
      "['Rv1334', 'mec', 'Possible hydrolase', 2.503401360544218, 9, 2, 1502640, 1503081, 1, 441, 0.9773242630385488, 20.587262731844497, 'X']\n",
      "['Rv1339', 'Rv1339', 'Conserved protein', 2.378345498783455, 46, 1.0, 1505916, 1506738, 1, 822, 0.8795620437956204, 22.49944881893815, 'X']\n",
      "['Rv1380', 'pyrB', 'Probable aspartate carbamoyltransferase PyrB (ATCase) (aspartate transcarbamylase)', 6.042708333333334, 55, 6.0, 1553231, 1554191, 1, 960, 0.8135416666666667, 20.222397989285565, 'X']\n",
      "['Rv1425', 'Rv1425', 'Possible triacylglycerol synthase (diacylglycerol acyltransferase)', 2.882608695652174, 30, 1.0, 1599657, 1601037, 1, 1380, 0.7673913043478261, 20.815878708810335, 'X']\n",
      "['Rv1594', 'nadA', 'Probable quinolinate synthetase NadA', 6.234285714285714, 36, 5.0, 1794755, 1795805, 1, 1050, 0.8485714285714285, 23.420009687901175, 'X']\n",
      "['Rv1600', 'hisC1', 'Probable histidinol-phosphate aminotransferase HisC1', 3.5398075240594924, 36, 1, 1800895, 1802038, 1, 1143, 0.7419072615923009, 17.22059067911727, 'X']\n",
      "['Rv1653', 'argJ', 'Probable glutamate N-acetyltransferase ArgJ', 4.790123456790123, 29, 2, 1866630, 1867845, 1, 1215, 0.9555555555555556, 32.65370194809514, 'X']\n",
      "['Rv1712', 'cmk', 'Cytidylate kinase Cmk (CMP kinase) (cytidine monophosphate kinase) (ck)', 1.9595959595959596, 27, 1, 1939598, 1940291, 1, 693, 0.8196248196248196, 17.50198189481985, 'X']\n",
      "['Rv1827', 'garA', 'Conserved protein with FHA domain, GarA', 3.625766871165644, 27, 1, 2072595, 2073084, 1, 489, 0.8445807770961146, 15.80602847683426, 'X']\n",
      "['Rv2062c', 'cobN', 'Cobalamin biosynthesis protein CobN', 4.174058577405858, 81, 1, 2317168, 2320753, -1, 3585, 0.6730822873082287, 22.253441244797976, 'X']\n",
      "['Rv2092c', 'helY', 'ATP-dependent DNA helicase HelY', 2.5865490628445427, 95, 1, 2349333, 2352054, -1, 2721, 0.6538037486218302, 17.375370535650788, 'X']\n",
      "['Rv2165c', 'Rv2165c', 'Conserved protein', 1.894206549118388, 24, 1, 2428234, 2429425, -1, 1191, 0.8035264483627204, 21.83289321148282, 'X']\n",
      "['Rv2179c', 'Rv2179c', 'Conserved hypothetical protein', 3.289940828402367, 28, 2, 2441810, 2442317, -1, 507, 0.8777120315581854, 17.58679931145544, 'X']\n",
      "['Rv2180c', 'Rv2180c', 'Probable conserved integral membrane protein', 3.3085585585585586, 67, 2.0, 2442326, 2443214, -1, 888, 0.8783783783783784, 23.314705879436033, 'X']\n",
      "['Rv2380c', 'mbtE', 'Peptide synthetase MbtE (peptide synthase)', 1.2418300653594772, 56, 1, 2662066, 2667115, -1, 5049, 0.7391562685680333, 35.802175776709106, 'X']\n",
      "['Rv2524c', 'fas', 'Probable fatty acid synthase Fas (fatty acid synthetase)', 3.634201954397394, 651, 1.0, 2840122, 2849332, -1, 9210, 0.5806731813246471, 17.92581250405565, 'X']\n",
      "['Rv2593c', 'ruvA', 'Probable holliday junction DNA helicase RuvA', 2.8900169204737733, 33, 1, 2924229, 2924820, -1, 591, 0.8257191201353637, 16.459122801096694, 'X']\n",
      "['Rv2752c', 'Rv2752c', 'Conserved hypothetical protein', 3.8789505068574837, 42, 1, 3064514, 3066191, -1, 1677, 0.7066189624329159, 17.96777565757896, 'X']\n",
      "['Rv2789c', 'fadE21', 'Probable acyl-CoA dehydrogenase FadE21', 3.017031630170316, 24, 2, 3097705, 3098938, -1, 1233, 0.7210056772100568, 16.41736794148498, 'X']\n",
      "['Rv2897c', 'Rv2897c', 'Conserved hypothetical protein', 3.247354497354497, 26, 1.5, 3206430, 3207942, -1, 1512, 0.8697089947089947, 29.748386401925586, 'X']\n",
      "['Rv2922c', 'smc', 'Probable chromosome partition protein Smc', 3.143725815367606, 126, 1.0, 3234188, 3237806, -1, 3618, 0.6868435599778884, 24.01163777868592, 'X']\n",
      "['Rv3147', 'nuoC', 'Probable NADH dehydrogenase I (chain C) NuoC (NADH-ubiquinone oxidoreductase chain C)', 9.059071729957806, 31, 11, 3512627, 3513338, 1, 711, 0.8635724331926864, 20.07226815181285, 'X']\n",
      "['Rv3157', 'nuoM', 'Probable NADH dehydrogenase I (chain M) NUOK (NADH-ubiquinone oxidoreductase chain M)', 3.072202166064982, 38, 1.0, 3524131, 3525793, 1, 1662, 0.7340553549939831, 20.124992934073337, 'X']\n",
      "['Rv3158', 'nuoN', 'Probable NADH dehydrogenase I (chain N) NuoN (NADH-ubiquinone oxidoreductase chain N)', 2.9454887218045114, 153, 1.0, 3525789, 3527385, 1, 1596, 0.8038847117794486, 25.302510620046313, 'X']\n",
      "['Rv3230c', 'Rv3230c', 'Hypothetical oxidoreductase', 2.2222222222222223, 26, 1, 3607111, 3608254, -1, 1143, 0.7436570428696413, 17.33894300898031, 'X']\n",
      "['Rv3341', 'metA', 'Probable homoserine O-acetyltransferase MetA (homoserine O-trans-acetylase) (homoserine transacetylase) (HTA)', 3.863157894736842, 33, 1.0, 3727487, 3728627, 1, 1140, 0.8666666666666667, 25.625416298853477, 'X']\n",
      "['Rv3401', 'Rv3401', 'Conserved protein', 3.39135959339263, 28, 1, 3818041, 3820402, 1, 2361, 0.6649724692926726, 17.270918622061046, 'X']\n",
      "['Rv3563', 'fadE32', 'Probable acyl-CoA dehydrogenase FadE32', 6.459375, 136, 7.0, 4004290, 4005250, 1, 960, 0.8541666666666666, 22.740648448589923, 'X']\n",
      "['Rv3569c', 'hsaD', '4,9-DHSA hydrolase', 6.924657534246576, 29, 7.0, 4010195, 4011071, -1, 876, 0.8287671232876712, 20.218973730650184, 'X']\n",
      "['Rv3792', 'aftA', 'Arabinofuranosyltransferase AftA', 2.3819875776397517, 39, 1.0, 4237931, 4239863, 1, 1932, 0.703416149068323, 19.003872684603902, 'X']\n",
      "['Rv3830c', 'Rv3830c', 'Transcriptional regulatory protein (probably TetR-family)', 2.649206349206349, 31, 2.0, 4305055, 4305685, -1, 630, 0.8714285714285714, 19.288850736736663, 'X']\n",
      "['Rv3831', 'Rv3831', 'Hypothetical protein', 2.459627329192547, 98, 1, 4305756, 4306239, 1, 483, 0.8840579710144928, 17.444520068026744, 'X']\n",
      "['Rv3832c', 'Rv3832c', 'Conserved protein', 1.7465277777777777, 34, 1.0, 4306235, 4306811, -1, 576, 0.8697916666666666, 18.365072243935796, 'X']\n",
      "['Rv3833', 'Rv3833', 'Transcriptional regulatory protein (probably AraC-family)', 2.7765151515151514, 93, 2.0, 4306866, 4307658, 1, 792, 0.8964646464646465, 23.036728262216823, 'X']\n",
      "['Rv3854c', 'ethA', 'Monooxygenase EthA', 2.377551020408163, 33, 1.0, 4326003, 4327473, -1, 1470, 0.7278911564625851, 18.454043932305563, 'X']\n",
      "['Rv3894c', 'eccC2', 'ESX conserved component EccC2. ESX-2 type VII secretion system protein. Possible membrane protein.', 3.0042949176807445, 126, 1, 4376261, 4380452, -1, 4191, 0.6406585540443808, 19.861431850034467, 'X']\n",
      "['Rv3919c', 'gid', 'Probable glucose-inhibited division protein B Gid', 5.798518518518518, 125, 2, 4407527, 4408202, -1, 675, 0.8518518518518519, 18.948293350182958, 'X']\n"
     ]
    }
   ],
   "source": [
    "a=[x for x in locus_mutation_ave if x[11] > 15]\n",
    "a.sort(key = lambda x: x[0])\n",
    "for x in a:\n",
    "    print(x)"
   ]
  },
  {
   "cell_type": "code",
   "execution_count": 229,
   "id": "a61f3a1e-c2b9-48c1-94b4-5fa405fc26e9",
   "metadata": {},
   "outputs": [
    {
     "data": {
      "text/plain": [
       "<AxesSubplot:xlabel='length', ylabel='ave_pos'>"
      ]
     },
     "execution_count": 229,
     "metadata": {},
     "output_type": "execute_result"
    },
    {
     "data": {
      "image/png": "[encoded data removed]",
      "text/plain": [
       "<Figure size 504x252 with 1 Axes>"
      ]
     },
     "metadata": {
      "needs_background": "light"
     },
     "output_type": "display_data"
    }
   ],
   "source": [
    "sns.scatterplot(data = locus_mutation_ave_df, x = 'length', y = 'ave_pos', hue = 'locus_class')"
   ]
  },
  {
   "cell_type": "code",
   "execution_count": 223,
   "id": "b71332b3-3840-44cd-81c4-48be701e3c03",
   "metadata": {},
   "outputs": [
    {
     "data": {
      "text/plain": [
       "<AxesSubplot:xlabel='length', ylabel='proportion'>"
      ]
     },
     "execution_count": 223,
     "metadata": {},
     "output_type": "execute_result"
    },
    {
     "data": {
      "image/png": "[encoded data removed]",
      "text/plain": [
       "<Figure size 504x252 with 1 Axes>"
      ]
     },
     "metadata": {
      "needs_background": "light"
     },
     "output_type": "display_data"
    }
   ],
   "source": [
    "temp = []\n",
    "for i, r in locus_mutation_ave_df.iterrows():\n",
    "    temp.append([r['length'], r['ave_pos'],'observed'])\n",
    "    temp.append([r['length'], p - conf_interval(r['length']), 'lower'])\n",
    "    temp.append([r['length'], p + conf_interval(r['length']), 'upper'])\n",
    "temp_df = pd.DataFrame(temp, columns = ['length','proportion','type'])\n",
    "sns.scatterplot(data = temp_df, x = 'length', y = 'proportion', hue = 'type', s =1, alpha=0.5)"
   ]
  },
  {
   "cell_type": "code",
   "execution_count": null,
   "id": "dd0e7923-493f-49be-b060-27bce509ff0a",
   "metadata": {},
   "outputs": [
    {
     "data": {
      "text/plain": [
       "[Text(0.5, 0, 'P-value'), Text(0, 0.5, 'Count'), Text(0.5, 1.0, '')]"
      ]
     },
     "execution_count": 122,
     "metadata": {},
     "output_type": "execute_result"
    },
    {
     "data": {
      "image/png": "[encoded data removed]",
      "text/plain": [
       "<Figure size 504x252 with 1 Axes>"
      ]
     },
     "metadata": {
      "needs_background": "light"
     },
     "output_type": "display_data"
    }
   ],
   "source": [
    "plt=sns.histplot(scores, bins = 100, log_scale=(False,True))\n",
    "#plt.yscale('log')\n",
    "plt.set(xlabel =\"P-value\", ylabel = \"Count\", title ='')"
   ]
  },
  {
   "cell_type": "code",
   "execution_count": 123,
   "id": "ba03221f-a52e-4c94-9216-cb2b31ac3dc7",
   "metadata": {},
   "outputs": [
    {
     "data": {
      "text/plain": [
       "[Text(0.5, 0, 'P-value'),\n",
       " Text(0, 0.5, 'Cumulative Proportion'),\n",
       " Text(0.5, 1.0, '')]"
      ]
     },
     "execution_count": 123,
     "metadata": {},
     "output_type": "execute_result"
    },
    {
     "data": {
      "image/png": "[encoded data removed]",
      "text/plain": [
       "<Figure size 504x252 with 1 Axes>"
      ]
     },
     "metadata": {
      "needs_background": "light"
     },
     "output_type": "display_data"
    }
   ],
   "source": [
    "plt = sns.ecdfplot(scores)\n",
    "plt.set(xlabel =\"P-value\", ylabel = \"Cumulative Proportion\", title ='')"
   ]
  },
  {
   "cell_type": "code",
   "execution_count": 26,
   "id": "868d35f9-3078-4bbb-9172-32aa50c6376d",
   "metadata": {},
   "outputs": [
    {
     "ename": "NameError",
     "evalue": "name 'candidate_intergenic_orfs' is not defined",
     "output_type": "error",
     "traceback": [
      "\u001b[1;31m---------------------------------------------------------------------------\u001b[0m",
      "\u001b[1;31mNameError\u001b[0m                                 Traceback (most recent call last)",
      "\u001b[1;32m~\\AppData\\Local\\Temp/ipykernel_25824/909804696.py\u001b[0m in \u001b[0;36m<module>\u001b[1;34m\u001b[0m\n\u001b[0;32m      1\u001b[0m \u001b[0mfiltered_intergenic_orfs\u001b[0m \u001b[1;33m=\u001b[0m \u001b[1;33m[\u001b[0m\u001b[1;33m]\u001b[0m\u001b[1;33m\u001b[0m\u001b[1;33m\u001b[0m\u001b[0m\n\u001b[0;32m      2\u001b[0m \u001b[0mtemp\u001b[0m \u001b[1;33m=\u001b[0m\u001b[1;33m[\u001b[0m\u001b[1;33m]\u001b[0m\u001b[1;33m\u001b[0m\u001b[1;33m\u001b[0m\u001b[0m\n\u001b[1;32m----> 3\u001b[1;33m \u001b[1;32mfor\u001b[0m \u001b[1;33m(\u001b[0m\u001b[0mstart\u001b[0m\u001b[1;33m,\u001b[0m \u001b[0mstop\u001b[0m\u001b[1;33m,\u001b[0m \u001b[0mstrand\u001b[0m\u001b[1;33m,\u001b[0m \u001b[0mlength\u001b[0m\u001b[1;33m)\u001b[0m \u001b[1;32min\u001b[0m \u001b[0mcandidate_intergenic_orfs\u001b[0m\u001b[1;33m:\u001b[0m\u001b[1;33m\u001b[0m\u001b[1;33m\u001b[0m\u001b[0m\n\u001b[0m\u001b[0;32m      4\u001b[0m     \u001b[0mcompass_overlap\u001b[0m \u001b[1;33m=\u001b[0m \u001b[1;36m0\u001b[0m\u001b[1;33m\u001b[0m\u001b[1;33m\u001b[0m\u001b[0m\n\u001b[0;32m      5\u001b[0m     \u001b[1;32mfor\u001b[0m \u001b[0mn\u001b[0m \u001b[1;32min\u001b[0m \u001b[0mrange\u001b[0m\u001b[1;33m(\u001b[0m\u001b[0mstart\u001b[0m\u001b[1;33m,\u001b[0m \u001b[0mstop\u001b[0m\u001b[1;33m)\u001b[0m\u001b[1;33m:\u001b[0m\u001b[1;33m\u001b[0m\u001b[1;33m\u001b[0m\u001b[0m\n",
      "\u001b[1;31mNameError\u001b[0m: name 'candidate_intergenic_orfs' is not defined"
     ]
    }
   ],
   "source": [
    "filtered_intergenic_orfs = []\n",
    "temp =[]\n",
    "for (start, stop, strand, length) in candidate_intergenic_orfs:\n",
    "    compass_overlap = 0\n",
    "    for n in range(start, stop):\n",
    "        if n in compass_dict:\n",
    "            compass_overlap += 1\n",
    "    if compass_overlap / (stop - start) > 0.2:\n",
    "        continue\n",
    "    if strand == 1:\n",
    "        prob = mutation_bin_probability(full_sample_zero_and_non_zero_mutation_counts[start:stop])\n",
    "    else:\n",
    "        prob = mutation_bin_probability(reversed(full_sample_zero_and_non_zero_mutation_counts[start:stop]))\n",
    "    temp.append(prob)\n",
    "    if prob[1] < 0.01:\n",
    "        filtered_intergenic_orfs.append((start, stop, strand, length, prob[1]))\n",
    "scores = []\n",
    "for x in temp:\n",
    "    scores.append(x[1])"
   ]
  },
  {
   "cell_type": "code",
   "execution_count": null,
   "id": "da0a0448-33b9-48d1-8083-6f85963a1bea",
   "metadata": {},
   "outputs": [],
   "source": [
    "len(scores)"
   ]
  },
  {
   "cell_type": "code",
   "execution_count": null,
   "id": "7773cc99-e356-46d8-a17b-3c928eaf5630",
   "metadata": {},
   "outputs": [],
   "source": [
    "sns.histplot(scores, bins = 100)"
   ]
  },
  {
   "cell_type": "code",
   "execution_count": null,
   "id": "b0c30b7e-dd09-4105-ab4f-5e9706ada95d",
   "metadata": {},
   "outputs": [],
   "source": [
    "filtered_intergenic_orfs[0:3]"
   ]
  },
  {
   "cell_type": "markdown",
   "id": "fe63be72-6aec-4943-9dbd-7a2044e193d1",
   "metadata": {
    "tags": []
   },
   "source": [
    "#### Produce FASTA file with CDS candidates"
   ]
  },
  {
   "cell_type": "code",
   "execution_count": null,
   "id": "170945f6-8a93-4b7a-b3d8-a0c1072f00bf",
   "metadata": {},
   "outputs": [],
   "source": [
    "seq_dir = 'F:/Datasets/Actinobacteria_Ref_Rep_Lev_Complete'\n",
    "sample_filenames = ['GCF_000195955.2_ASM19595v2_genomic.gbff', 'GCF_024600175.1_ASM2460017v1_genomic.gbff', 'GCF_010730055.1_ASM1073005v1_genomic.gbff', 'GCF_020616615.1_ASM2061661v1_genomic.gbff', 'GCF_010731535.1_ASM1073153v1_genomic.gbff',\n",
    "                    'GCF_022370755.1_ASM2237075v1_genomic.gbff', 'GCF_016745295.1_ASM1674529v1_genomic.gbff', 'GCF_000157895.3_ASM15789v2_genomic.gbff', 'GCF_900603025.1_MHAS_genomic.gbff', 'GCF_018363015.1_ASM1836301v1_genomic.gbff',\n",
    "                    'GCF_019645855.1_ASM1964585v1_genomic.gbff', 'GCF_010727945.1_ASM1072794v1_genomic.gbff', 'GCF_010731895.1_ASM1073189v1_genomic.gbff', 'GCF_900637205.1_50279_G01_genomic.gbff', 'GCF_000184435.1_ASM18443v1_genomic.gbff']\n",
    "organism_name_dict = {}\n",
    "for filename in tqdm(sample_filenames):\n",
    "    record = next(SeqIO.parse(seq_dir + '/' + filename, \"genbank\"))\n",
    "    organism_name = record.annotations['organism']\n",
    "    accession_ver = record.annotations['accessions'][0] + '.' + str(record.annotations['sequence_version'])\n",
    "    organism_name_dict[accession_ver] = organism_name"
   ]
  },
  {
   "cell_type": "code",
   "execution_count": null,
   "id": "9799b065-15ad-4b22-9cf0-c7abfe6b5fb2",
   "metadata": {},
   "outputs": [],
   "source": [
    "trans = util.Translator()"
   ]
  },
  {
   "cell_type": "code",
   "execution_count": null,
   "id": "e63bf203-2ff0-445d-af65-fcdf65d6e8bb",
   "metadata": {},
   "outputs": [],
   "source": [
    "temp = []\n",
    "\n",
    "for x in filtered_intergenic_orfs:\n",
    "    prot = trans.translate_sequence(full_sequence[x[0]:x[1]], x[2], 0)\n",
    "    name = 'NC_000962.3@'+str(x[0])+'_'+str(x[1])\n",
    "    temp.append([name, prot[:-1]])\n",
    "util.produce_fasta_file(temp, project_dir + '/filtered_intergenic_proteins.faa')"
   ]
  },
  {
   "cell_type": "code",
   "execution_count": null,
   "id": "547415d1-5213-4019-b07d-ced4c89aaa37",
   "metadata": {},
   "outputs": [],
   "source": [
    "#blastfn.build_blast_db(project_dir, 'comparator_orfs.fasta', 'comparator_orfs', 'F:/Datasets/BLAST/comparator_orfs')\n",
    "#blastfn.build_blast_db(project_dir, 'mycobrowser_inter_feature_orfs.fasta', 'mycobrowser_inter_feature_orfs', 'F:/Datasets/BLAST/mycobrowser_inter_feature_orfs')"
   ]
  },
  {
   "cell_type": "code",
   "execution_count": null,
   "id": "eb06a2a7-0552-402f-8faf-68607edda26e",
   "metadata": {},
   "outputs": [],
   "source": [
    "blastfn.run_blastp('F:/Datasets/BLAST/comparator_orfs', 'filtered_intergenic_proteins.faa', 'comparator_orfs', 'filtered_intergenic_hits.csv', e_value = 0.001)"
   ]
  },
  {
   "cell_type": "code",
   "execution_count": null,
   "id": "50aad10e-06f2-4ad3-a6f5-04296ae26e32",
   "metadata": {},
   "outputs": [],
   "source": [
    "blast_output = blastfn.process_blast_output('F:/Datasets/BLAST/comparator_orfs/filtered_intergenic_hits.csv', organism_name_dict, top_hit_only = False)"
   ]
  },
  {
   "cell_type": "code",
   "execution_count": null,
   "id": "7aef1ce8-5466-4d94-a84e-aef37e216616",
   "metadata": {},
   "outputs": [],
   "source": [
    "blast_output.to_csv(project_dir + '/filtered_intergenic_blast_output.csv')"
   ]
  },
  {
   "cell_type": "markdown",
   "id": "0b56239f-2eb3-44bf-8a7f-002270c2c374",
   "metadata": {},
   "source": [
    "#### Look at mutation rate overdispersion"
   ]
  },
  {
   "cell_type": "code",
   "execution_count": null,
   "id": "094024a3-bf81-4c9f-95e5-2611fd26d3d3",
   "metadata": {},
   "outputs": [],
   "source": [
    "trans.translate_sequence(full_sequence[2405354:2405486],-1,0)"
   ]
  },
  {
   "cell_type": "code",
   "execution_count": 11,
   "id": "3d7c2be1-5905-48e2-a5f2-2afe498dc5ac",
   "metadata": {},
   "outputs": [
    {
     "data": {
      "text/plain": [
       "([93, 40, 155], 7.390754674929667e-13)"
      ]
     },
     "execution_count": 11,
     "metadata": {},
     "output_type": "execute_result"
    }
   ],
   "source": [
    "mutation_bin_probability(reversed(full_sample_zero_and_non_zero_mutation_counts[908014:908113]))\n",
    "#mutation_bin_probability((full_sample_zero_and_non_zero_mutation_counts[1232176:1232293]))"
   ]
  },
  {
   "cell_type": "code",
   "execution_count": 337,
   "id": "ba896b64-8f71-4d12-bb03-143a99cd2318",
   "metadata": {},
   "outputs": [
    {
     "ename": "AttributeError",
     "evalue": "'AxesSubplot' object has no attribute 'yscale'",
     "output_type": "error",
     "traceback": [
      "\u001b[1;31m---------------------------------------------------------------------------\u001b[0m",
      "\u001b[1;31mAttributeError\u001b[0m                            Traceback (most recent call last)",
      "\u001b[1;32m~\\AppData\\Local\\Temp/ipykernel_25824/91258347.py\u001b[0m in \u001b[0;36m<module>\u001b[1;34m\u001b[0m\n\u001b[0;32m      7\u001b[0m \u001b[0mpd\u001b[0m\u001b[1;33m.\u001b[0m\u001b[0mDataFrame\u001b[0m\u001b[1;33m(\u001b[0m\u001b[0mamended_mutation_counts\u001b[0m\u001b[1;33m)\u001b[0m\u001b[1;33m.\u001b[0m\u001b[0mto_csv\u001b[0m\u001b[1;33m(\u001b[0m\u001b[0mproject_dir\u001b[0m \u001b[1;33m+\u001b[0m \u001b[1;34m'/R_amended_mutation_counts.csv'\u001b[0m\u001b[1;33m)\u001b[0m\u001b[1;33m\u001b[0m\u001b[1;33m\u001b[0m\u001b[0m\n\u001b[0;32m      8\u001b[0m \u001b[0msns\u001b[0m\u001b[1;33m.\u001b[0m\u001b[0mhistplot\u001b[0m\u001b[1;33m(\u001b[0m\u001b[1;33m[\u001b[0m\u001b[0mx\u001b[0m \u001b[1;32mfor\u001b[0m \u001b[0mx\u001b[0m \u001b[1;32min\u001b[0m \u001b[0mamended_mutation_counts\u001b[0m \u001b[1;32mif\u001b[0m \u001b[0mx\u001b[0m\u001b[1;33m>\u001b[0m\u001b[1;36m100\u001b[0m\u001b[1;33m]\u001b[0m\u001b[1;33m,\u001b[0m \u001b[0mbins\u001b[0m \u001b[1;33m=\u001b[0m \u001b[1;36m100\u001b[0m\u001b[1;33m)\u001b[0m\u001b[1;33m\u001b[0m\u001b[1;33m\u001b[0m\u001b[0m\n\u001b[1;32m----> 9\u001b[1;33m \u001b[0mplt\u001b[0m\u001b[1;33m.\u001b[0m\u001b[0myscale\u001b[0m\u001b[1;33m(\u001b[0m\u001b[1;34m'log'\u001b[0m\u001b[1;33m)\u001b[0m\u001b[1;33m\u001b[0m\u001b[1;33m\u001b[0m\u001b[0m\n\u001b[0m",
      "\u001b[1;31mAttributeError\u001b[0m: 'AxesSubplot' object has no attribute 'yscale'"
     ]
    },
    {
     "data": {
      "image/png": "[encoded data removed]",
      "text/plain": [
       "<Figure size 504x252 with 1 Axes>"
      ]
     },
     "metadata": {
      "needs_background": "light"
     },
     "output_type": "display_data"
    }
   ],
   "source": [
    "amended_mutation_counts = []\n",
    "for n, c in enumerate(full_sample_zero_and_non_zero_mutation_counts):\n",
    "    if n in compass_dict:\n",
    "        continue\n",
    "    else:\n",
    "        amended_mutation_counts.append(c)\n",
    "pd.DataFrame(amended_mutation_counts).to_csv(project_dir + '/R_amended_mutation_counts.csv')\n",
    "sns.histplot([x for x in amended_mutation_counts], bins = 100)\n",
    "plt.yscale('log')"
   ]
  },
  {
   "cell_type": "code",
   "execution_count": null,
   "id": "c0dc2197-523e-42d7-a00a-6717a2c954d9",
   "metadata": {},
   "outputs": [],
   "source": [
    "for n, c in enumerate(full_sample_zero_and_non_zero_mutation_counts):\n",
    "    if c>8000 and c< 100000:\n",
    "        position_info = full_sample_position_dict[n+1]\n",
    "        substitutions = [x[1] for x in position_info[1:]]\n",
    "        source = full_sequence[n-1:n+2]\n",
    "        destination = full_sequence[n-1] + mode(substitutions).upper() + full_sequence[n+1]\n",
    "        print(n, c, full_sequence[n-1:n+2], position_info[0], mode(substitutions), source, destination)"
   ]
  },
  {
   "cell_type": "code",
   "execution_count": null,
   "id": "039ce087-260d-4d86-bcc8-5440a6ce8170",
   "metadata": {},
   "outputs": [],
   "source": [
    "len(full_sample_position_dict[836538])"
   ]
  },
  {
   "cell_type": "code",
   "execution_count": null,
   "id": "804e7be4-12b7-4c95-b3dd-c0e23ea3feaa",
   "metadata": {},
   "outputs": [],
   "source": []
  },
  {
   "cell_type": "code",
   "execution_count": null,
   "id": "53ae6211-f964-4964-b7a8-a86537a75116",
   "metadata": {},
   "outputs": [],
   "source": [
    "np.random.poisson(50, 1)[0]"
   ]
  },
  {
   "cell_type": "code",
   "execution_count": null,
   "id": "3f342058-65e2-4b8b-97de-44a415eb14e9",
   "metadata": {},
   "outputs": [],
   "source": [
    "temp=[]\n",
    "gfg = np.random.gamma(0.0001, 3000, 4000000)\n",
    "for x in gfg:\n",
    "    temp.append(np.random.poisson(x, 1)[0])\n",
    "sns.histplot([x for x in temp] , bins=100)\n",
    "plt.yscale('log')"
   ]
  },
  {
   "cell_type": "code",
   "execution_count": null,
   "id": "685f46da-0d2d-46c3-9d6d-7b0fba6af742",
   "metadata": {},
   "outputs": [],
   "source": [
    "temp = []\n",
    "for n, c in enumerate(zero_and_non_zero_mutation_counts):\n",
    "    if n in compass_dict:\n",
    "        temp.append(c)\n",
    "pd.DataFrame(temp).to_csv(project_dir + '/R_amended_mutation_counts.csv')"
   ]
  },
  {
   "cell_type": "code",
   "execution_count": null,
   "id": "22d6cb45-a10e-4a73-b3d2-65c4e5799693",
   "metadata": {},
   "outputs": [],
   "source": [
    "for k, v in compass_dict.items():\n",
    "    if not(full_sample_zero_and_non_zero_mutation_counts[k] ==0):\n",
    "        print(k, full_sample_zero_and_non_zero_mutation_counts[k])"
   ]
  },
  {
   "cell_type": "code",
   "execution_count": null,
   "id": "9e7593a4-ca2c-4956-8746-d0b6ff7fa251",
   "metadata": {},
   "outputs": [],
   "source": [
    "pd.DataFrame(full_sample_zero_and_non_zero_mutation_counts).to_csv(project_dir + '/R_mutation_counts.csv')"
   ]
  },
  {
   "cell_type": "markdown",
   "id": "c5fd97d9-508c-49b6-aa12-3db8a70c94b5",
   "metadata": {},
   "source": [
    "#####  Tree mutation plots for output displays in R"
   ]
  },
  {
   "cell_type": "code",
   "execution_count": null,
   "id": "adff4a18-ef77-44c4-b6b4-83f257c7594b",
   "metadata": {},
   "outputs": [],
   "source": [
    "with open(project_dir + '/Dictionaries/variant_dictionary_364848_365376_.pkl', 'rb') as f:\n",
    "        var_dict = pickle.load(f)  \n",
    "with open(project_dir + '/Mutation_Counts/mutation_counts_364848_365376_.pkl', 'rb') as f:\n",
    "        mutation_counts = pickle.load(f)  \n",
    "temp_dict = {}\n",
    "for k, v in var_dict.items():\n",
    "    if not(v[pos_id_dict[3186859] - 364848] =={'T'}):\n",
    "        temp_dict[k] =list(v[pos_id_dict[3186859] - 364848])[0]"
   ]
  },
  {
   "cell_type": "code",
   "execution_count": null,
   "id": "11d19a62-c410-49ed-bf20-89e93c489966",
   "metadata": {},
   "outputs": [],
   "source": [
    "with open(project_dir + '/Dictionaries/variant_dictionary_331584_332112_.pkl', 'rb') as f:\n",
    "        var_dict = pickle.load(f)  \n",
    "with open(project_dir + '/Mutation_Counts/mutation_counts_331584_332112_.pkl', 'rb') as f:\n",
    "        mutation_counts = pickle.load(f)  \n",
    "temp_dict = {}\n",
    "for k, v in var_dict.items():\n",
    "    if not(v[pos_id_dict[2878549] - 331584] =={'G'}):\n",
    "        temp_dict[k] =list(v[pos_id_dict[2878549] - 331584])[0]"
   ]
  },
  {
   "cell_type": "code",
   "execution_count": null,
   "id": "4bcc1595-aba3-41c2-9177-ad1218f1df52",
   "metadata": {},
   "outputs": [],
   "source": [
    "tb_tree_filename = 'tb_gpi.nwk'\n",
    "master_tree2= ete3.Tree(project_dir + '/' + tb_tree_filename)\n",
    "for node in master_tree2.traverse(\"postorder\"):\n",
    "    if node.is_leaf():\n",
    "        if node.name in temp_dict:\n",
    "            node.name = str(lineage_dict[id_reverse_dict[int(node.name.split('_')[1])]]) + '_'+temp_dict[(node.name)]\n",
    "            nstyle = ete3.NodeStyle()\n",
    "            nstyle[\"fgcolor\"] = \"red\"\n",
    "            nstyle[\"size\"] = 1\n",
    "            node.set_style(nstyle)\n",
    "        else:\n",
    "            node.name = str(lineage_dict[id_reverse_dict[int(node.name.split('_')[1])]])"
   ]
  },
  {
   "cell_type": "code",
   "execution_count": null,
   "id": "647aba63-3233-4f72-b7ae-8fdd9c8c2df1",
   "metadata": {},
   "outputs": [],
   "source": [
    "master_tree2.render(project_dir+'/mytree.pdf', tree_style=ts);"
   ]
  },
  {
   "cell_type": "code",
   "execution_count": null,
   "id": "01db77ea-2246-4db0-87a6-600fd50dd85c",
   "metadata": {},
   "outputs": [],
   "source": [
    "tb_tree_filename = 'tb_gpi.nwk'\n",
    "master_tree2= ete3.Tree(project_dir + '/' + tb_tree_filename)\n",
    "temp = []\n",
    "for node in master_tree2.traverse(\"postorder\"):\n",
    "    if node.is_leaf():\n",
    "        temp.append([node.name, lineage_dict[id_reverse_dict[int(node.name.split('_')[1])]]])\n",
    "temp_df = pd.DataFrame(temp, columns = [['label', 'lineage']])\n",
    "temp_df.to_csv(project_dir + '/lineages.csv')"
   ]
  },
  {
   "cell_type": "code",
   "execution_count": null,
   "id": "5f4ba992-0674-4b03-91af-c3bbf38f303a",
   "metadata": {},
   "outputs": [],
   "source": [
    "for k, v in position_dict.items():\n",
    "    #if len(v) > 5000 and len(v) < 10000:\n",
    "    if 1==1:\n",
    "        if  zero_and_non_zero_mutation_counts[k-1] > 1000  and zero_and_non_zero_mutation_counts[k-1]/(len(v)-1) > 0.1:\n",
    "            print(k-1, pos_id_dict[k-1], len(v)-1,  zero_and_non_zero_mutation_counts[k-1], zero_and_non_zero_mutation_counts[k-1]/(len(v)-1), full_sequence[k-1], v[0], set([x[1] for x in v[1:]]) )"
   ]
  },
  {
   "cell_type": "code",
   "execution_count": 287,
   "id": "2fbdb5e5-3f4c-4eb8-abb6-84ad8d69eb31",
   "metadata": {},
   "outputs": [],
   "source": [
    "variant_count_dict = {}\n",
    "variant_counts = variant_df.groupby(['GENOME_INDEX'])['UNIQUEID'].count().reset_index()\n",
    "for i, r in variant_counts.iterrows():\n",
    "    variant_count_dict[r['GENOME_INDEX']-1] = r['UNIQUEID']"
   ]
  },
  {
   "cell_type": "code",
   "execution_count": 340,
   "id": "533b8082-4dd9-4693-9066-b95db0911a69",
   "metadata": {},
   "outputs": [
    {
     "name": "stderr",
     "output_type": "stream",
     "text": [
      "4411532it [00:01, 3447798.35it/s]\n"
     ]
    }
   ],
   "source": [
    "consistency_index = []\n",
    "for n, x in tqdm(enumerate(zero_and_non_zero_mutation_counts)):\n",
    "    if x == 0:\n",
    "        continue\n",
    "    else:\n",
    "        tot_mutations = variant_count_dict[n]\n",
    "        consistency_index.append([n, tot_mutations, x, x/tot_mutations])       "
   ]
  },
  {
   "cell_type": "code",
   "execution_count": 341,
   "id": "d7a7ae59-63cb-41ab-a15f-c368f73385df",
   "metadata": {},
   "outputs": [
    {
     "data": {
      "text/plain": [
       "506022"
      ]
     },
     "execution_count": 341,
     "metadata": {},
     "output_type": "execute_result"
    }
   ],
   "source": [
    "len(consistency_index)"
   ]
  },
  {
   "cell_type": "code",
   "execution_count": 342,
   "id": "1faf8617-3e45-4c93-ad20-de5831477476",
   "metadata": {},
   "outputs": [
    {
     "data": {
      "text/plain": [
       "<AxesSubplot:ylabel='Count'>"
      ]
     },
     "execution_count": 342,
     "metadata": {},
     "output_type": "execute_result"
    },
    {
     "data": {
      "image/png": "[encoded data removed]",
      "text/plain": [
       "<Figure size 504x252 with 1 Axes>"
      ]
     },
     "metadata": {
      "needs_background": "light"
     },
     "output_type": "display_data"
    }
   ],
   "source": [
    "temp = [x[2] for x in consistency_index if x[2] >500]\n",
    "sns.histplot(temp, bins=100)"
   ]
  },
  {
   "cell_type": "code",
   "execution_count": 345,
   "id": "f06c200b-a70b-47ea-b85c-9b557682d585",
   "metadata": {},
   "outputs": [
    {
     "name": "stdout",
     "output_type": "stream",
     "text": [
      "[1848, 29438, 201, 0.006827909504721788] intergenic\n",
      "[7569, 1979, 496, 0.25063163213744316] gyrA 7301 9818 1\n",
      "[7580, 1095, 345, 0.3150684931506849] gyrA 7301 9818 1\n",
      "[7581, 3688, 960, 0.2603036876355748] gyrA 7301 9818 1\n",
      "[21794, 60840, 2287, 0.03759040105193951] pstP 21636 23181 -1\n",
      "[21818, 5912, 212, 0.03585926928281461] pstP 21636 23181 -1\n",
      "[55552, 32694, 595, 0.01819905793111886] ponA1 53662 55699 1\n",
      "[71335, 59528, 2454, 0.041224297809434214] Rv0064 68619 71559 1\n",
      "[92198, 67041, 312, 0.004653868528214078] Rv0083 90399 92322 1\n",
      "[132416, 49392, 3156, 0.06389698736637513] PE_PGRS1 131381 132872 1\n",
      "[163704, 18723, 437, 0.023340276665064358] cyp138 163365 164691 1\n",
      "[163705, 18723, 438, 0.023393686909149176] cyp138 163365 164691 1\n",
      "[206480, 34158, 1508, 0.04414778382809298] mce1F 205230 206778 1\n",
      "[206483, 34103, 1506, 0.04416033780019353] mce1F 205230 206778 1\n",
      "[223941, 71020, 2169, 0.030540692762602083] Rv0192 223563 224664 1\n",
      "[225322, 74075, 489, 0.006601417482281472] Rv0193c 224723 226571 -1\n",
      "[261868, 72847, 580, 0.00796189273408651] Rv0218 260923 262252 1\n",
      "[283609, 18758, 228, 0.012154813946049685] aftD 282648 286851 -1\n",
      "[283613, 62660, 632, 0.01008617938078519] aftD 282648 286851 -1\n",
      "[285771, 73717, 555, 0.007528792544460572] aftD 282648 286851 -1\n",
      "[285870, 65418, 599, 0.00915650126876395] aftD 282648 286851 -1\n",
      "[308311, 5091, 242, 0.04753486544883127] PPE2 307876 309547 -1\n",
      "[340371, 56678, 2208, 0.03895691449945305] PPE3 339363 340974 1\n",
      "[383715, 18387, 359, 0.019524664164899112] Rv0315 383601 384486 1\n",
      "[386431, 74004, 405, 0.005472677152586347] Rv0318c 386304 387099 -1\n",
      "[454294, 63081, 3542, 0.056150029327372744] Rv0376c 453229 454372 -1\n",
      "[454332, 29314, 371, 0.012656068772600122] Rv0376c 453229 454372 -1\n",
      "[459398, 73915, 2001, 0.027071636339038085] intergenic\n",
      "[467515, 16391, 491, 0.029955463364041243] PPE9 467458 468001 -1\n",
      "[467525, 16780, 480, 0.028605482717520857] PPE9 467458 468001 -1\n",
      "[467545, 17254, 455, 0.02637069665005216] PPE9 467458 468001 -1\n",
      "[467556, 17372, 438, 0.025212986414920563] PPE9 467458 468001 -1\n",
      "[467563, 17431, 430, 0.02466869370661465] PPE9 467458 468001 -1\n",
      "[467584, 17542, 420, 0.023942537909018357] PPE9 467458 468001 -1\n",
      "[467589, 17575, 419, 0.02384068278805121] PPE9 467458 468001 -1\n",
      "[467620, 17647, 398, 0.022553408511361703] PPE9 467458 468001 -1\n",
      "[467637, 17588, 409, 0.023254491698885604] PPE9 467458 468001 -1\n",
      "[475177, 73275, 540, 0.00736949846468782] Rv0395 474939 475344 1\n",
      "[477233, 19410, 490, 0.025244719216898505] Rv0398c 476678 477320 -1\n",
      "[483934, 50118, 250, 0.004988227782433457] intergenic\n",
      "[544460, 10147, 229, 0.022568246772445056] PPE11 543173 544730 1\n",
      "[584437, 8769, 220, 0.025088379518759266] Rv0493c 583700 584690 -1\n",
      "[630721, 66384, 764, 0.01150879730055435] Rv0538 630039 631686 1\n",
      "[669397, 74314, 268, 0.003606319132330382] Rv0575c 668578 669745 -1\n",
      "[673563, 7415, 441, 0.05947403910991234] PE_PGRS7 671995 675916 -1\n",
      "[674701, 7975, 453, 0.0568025078369906] PE_PGRS7 671995 675916 -1\n",
      "[725189, 24716, 977, 0.039529050008091926] recC 725012 728306 -1\n",
      "[754185, 74792, 676, 0.009038399828858701] Rv0658c 753692 754409 -1\n",
      "[761109, 1814, 214, 0.11797133406835722] rpoB 759806 763325 1\n",
      "[761138, 1949, 313, 0.16059517701385326] rpoB 759806 763325 1\n",
      "[761154, 14511, 1361, 0.09379091723520089] rpoB 759806 763325 1\n",
      "[767338, 8639, 409, 0.04734344252807038] intergenic\n",
      "[781686, 10330, 590, 0.057115198451113264] rpsL 781559 781934 1\n",
      "[836271, 23181, 784, 0.03382080151848497] PE_PGRS9 835700 838052 1\n",
      "[836290, 22835, 563, 0.024655134661703524] PE_PGRS9 835700 838052 1\n",
      "[836425, 15080, 242, 0.016047745358090185] PE_PGRS9 835700 838052 1\n",
      "[836453, 16828, 562, 0.033396719752792965] PE_PGRS9 835700 838052 1\n",
      "[836537, 30542, 499, 0.016338157291598456] PE_PGRS9 835700 838052 1\n",
      "[836657, 38166, 737, 0.01931038096735314] PE_PGRS9 835700 838052 1\n",
      "[837032, 59103, 3084, 0.05218009238109741] PE_PGRS9 835700 838052 1\n",
      "[882256, 68127, 266, 0.0039044725292468477] Rv0787 881458 882418 1\n",
      "[929747, 4893, 256, 0.05231964030247292] PE_PGRS14 927836 930485 -1\n",
      "[969761, 20896, 1598, 0.0764739663093415] PE_PGRS15 968423 970244 -1\n",
      "[1102116, 19894, 272, 0.013672464059515431] Rv0986 1101802 1102549 1\n",
      "[1104689, 36450, 779, 0.021371742112482852] Rv0987 1102541 1105109 1\n",
      "[1105283, 7248, 255, 0.03518211920529801] Rv0988 1105115 1106276 1\n",
      "[1105685, 16622, 381, 0.022921429430874746] Rv0988 1105115 1106276 1\n",
      "[1105686, 16611, 380, 0.02287640720004816] Rv0988 1105115 1106276 1\n",
      "[1106098, 8868, 310, 0.03495714930085701] Rv0988 1105115 1106276 1\n",
      "[1144584, 37178, 228, 0.006132659099467427] eno 1144563 1145853 1\n",
      "[1150584, 74078, 362, 0.004886741002726855] kdpD 1149103 1151686 -1\n",
      "[1164570, 19055, 253, 0.01327735502492784] intergenic\n",
      "[1218657, 15039, 1072, 0.07128133519515925] PE_PGRS22 1216468 1219030 1\n",
      "[1218736, 7949, 429, 0.05396905271103283] PE_PGRS22 1216468 1219030 1\n",
      "[1218895, 15309, 612, 0.03997648442092887] PE_PGRS22 1216468 1219030 1\n",
      "[1224366, 67823, 3579, 0.0527697093906197] intergenic\n",
      "[1313337, 5293, 2853, 0.5390137918004912] intergenic\n",
      "[1333668, 15205, 391, 0.025715225254850378] Rv1190 1332979 1333858 1\n",
      "[1357307, 19729, 356, 0.01804450301586497] PE14 1357292 1357625 -1\n",
      "[1374064, 74738, 453, 0.006061173700125773] Rv1230c 1372961 1374197 -1\n",
      "[1413147, 52378, 213, 0.004066592844323953] intergenic\n",
      "[1473245, 3336, 427, 0.12799760191846524] intergenic\n",
      "[1488644, 3610, 241, 0.0667590027700831] PE_PGRS24 1488153 1489965 -1\n",
      "[1572958, 3351, 214, 0.06386153387048642] PE_PGRS25 1572126 1573857 -1\n",
      "[1618977, 21428, 839, 0.039154377450065336] PE_PGRS26 1618208 1619684 -1\n",
      "[1647829, 5974, 305, 0.051054569802477405] Rv1461 1646988 1649529 1\n",
      "[1673424, 6122, 489, 0.07987585756288794] intergenic\n",
      "[1692140, 67360, 201, 0.0029839667458432303] Rv1501 1691889 1692711 1\n",
      "[1752560, 63771, 2055, 0.03222467892929388] PPE21 1751296 1753333 -1\n",
      "[1759251, 74282, 333, 0.004482916453514983] frdA 1757680 1759432 1\n",
      "[1778429, 74187, 511, 0.006887999245150767] bioD 1777858 1778539 1\n",
      "[1779369, 26285, 442, 0.016815674338976603] Rv1573 1779313 1779724 1\n",
      "[1863583, 8114, 377, 0.04646290362336702] PE_PGRS30 1862346 1865382 -1\n",
      "[1863659, 5810, 264, 0.045438898450946646] PE_PGRS30 1862346 1865382 -1\n",
      "[1931178, 75181, 203, 0.0027001503039331748] cycA 1929785 1931456 -1\n",
      "[1989236, 5479, 216, 0.03942325241832451] cut1 1989041 1989566 1\n",
      "[1992750, 5541, 230, 0.04150875293268363] intergenic\n",
      "[1993807, 34808, 401, 0.011520340151689267] Rv1760 1993152 1994661 1\n",
      "[1995527, 5855, 202, 0.034500426985482495] Rv1762c 1995053 1995842 -1\n",
      "[2022867, 74277, 348, 0.004685164990508502] eccC5 2019256 2023432 1\n",
      "[2045309, 62480, 1560, 0.02496798975672215] PE_PGRS32 2044922 2046842 -1\n",
      "[2056183, 7972, 480, 0.060210737581535376] intergenic\n",
      "[2123168, 57249, 846, 0.014777550699575539] intergenic\n",
      "[2155167, 20100, 1488, 0.07402985074626865] katG 2153888 2156111 -1\n",
      "[2165285, 70545, 1694, 0.02401304132114253] PPE34 2162931 2167311 -1\n",
      "[2220511, 72057, 826, 0.011463147230664612] Rv1977 2219753 2220800 1\n",
      "[2311098, 48546, 1179, 0.0242862439747868] Rv2052c 2310912 2312517 -1\n",
      "[2329532, 67128, 348, 0.005184125849124061] cobL 2328973 2330146 -1\n",
      "[2339239, 1641, 278, 0.16940889701401585] Rv2082 2338708 2340874 1\n",
      "[2339254, 35680, 259, 0.007258968609865471] Rv2082 2338708 2340874 1\n",
      "[2339604, 1881, 269, 0.14300903774587986] Rv2082 2338708 2340874 1\n",
      "[2339718, 5764, 205, 0.03556557945870923] Rv2082 2338708 2340874 1\n",
      "[2339834, 15418, 469, 0.03041899078998573] Rv2082 2338708 2340874 1\n",
      "[2387732, 66291, 2840, 0.04284141135297401] PE_PGRS37 2387201 2387972 -1\n",
      "[2413245, 36653, 390, 0.010640329577387935] murG 2412118 2413351 -1\n",
      "[2415655, 71533, 1470, 0.020549955964380077] murD 2414933 2416394 -1\n",
      "[2424113, 3110, 332, 0.1067524115755627] PE_PGRS38 2423239 2424838 -1\n",
      "[2424150, 2706, 342, 0.12638580931263857] PE_PGRS38 2423239 2424838 -1\n",
      "[2478618, 8790, 221, 0.025142207053469853] pepB 2478337 2479885 1\n",
      "[2509139, 62449, 3051, 0.04885586638697177] cobD 2508433 2509375 -1\n",
      "[2536891, 16036, 375, 0.023384884010975306] Rv2264c 2536571 2538350 -1\n",
      "[2693376, 1956, 202, 0.1032719836400818] PE_PGRS41 2692798 2693884 1\n",
      "[2734073, 73739, 559, 0.007580791711306093] rbsK 2733229 2734144 1\n",
      "[2737571, 48853, 1008, 0.020633328557099873] proB 2737116 2738247 -1\n",
      "[2741208, 20005, 422, 0.021094726318420395] dctA 2740708 2742184 1\n",
      "[2802040, 7554, 380, 0.05030447445062219] PE_PGRS43 2801253 2806236 -1\n",
      "[2840998, 6173, 255, 0.041308925967924834] fas 2840122 2849332 -1\n",
      "[2841021, 36807, 519, 0.014100578694270111] fas 2840122 2849332 -1\n",
      "[2922590, 7814, 260, 0.033273611466598414] PE_PGRS44 2921550 2923182 1\n",
      "[2922845, 14736, 563, 0.038205754614549406] PE_PGRS44 2921550 2923182 1\n",
      "[2922847, 14744, 563, 0.038185024416711885] PE_PGRS44 2921550 2923182 1\n",
      "[2923390, 74428, 497, 0.00667759445370022] ruvB 2923198 2924233 -1\n",
      "[2939656, 74496, 579, 0.007772229381443299] Rv2611c 2939011 2939962 -1\n",
      "[2943674, 8560, 249, 0.02908878504672897] PE_PGRS45 2943599 2944985 -1\n",
      "[2960230, 2709, 227, 0.08379475821336287] PE_PGRS46 2960104 2962441 -1\n",
      "[2961098, 3877, 269, 0.06938354397730204] PE_PGRS46 2960104 2962441 -1\n",
      "[2984739, 74088, 482, 0.006505776913940179] Rv2668 2984732 2985254 1\n",
      "[3037376, 46263, 2163, 0.04675442578302315] intergenic\n",
      "[3177451, 20025, 211, 0.010536828963795255] intergenic\n",
      "[3177883, 72844, 1957, 0.026865630662786227] relG 3177821 3178085 1\n",
      "[3186859, 66613, 3547, 0.05324786453094741] dipZ 3184846 3186934 1\n",
      "[3462134, 57273, 703, 0.0122745447243902] Rv3093c 3461759 3462764 -1\n",
      "[3604820, 72953, 792, 0.010856304744150343] Rv3228 3604725 3605718 1\n",
      "[3736627, 72451, 1633, 0.022539371437247244] PPE54 3729363 3736935 -1\n",
      "[3844991, 57655, 256, 0.004440204665683809] Rv3428c 3844737 3845970 -1\n",
      "[3851886, 30284, 1716, 0.0566635847312112] Rv3433c 3851791 3853213 -1\n",
      "[3851887, 30299, 1716, 0.056635532525825934] Rv3433c 3851791 3853213 -1\n",
      "[3928891, 6123, 279, 0.04556589906908378] PE_PGRS53 3926568 3930714 1\n",
      "[3929995, 5399, 274, 0.050750138914613815] PE_PGRS53 3926568 3930714 1\n",
      "[3936695, 6072, 227, 0.037384716732542816] PE_PGRS54 3931004 3936710 1\n",
      "[3942639, 51288, 2099, 0.040925752612696924] PE_PGRS56 3941723 3944963 1\n",
      "[3943018, 35952, 814, 0.022641299510458388] PE_PGRS56 3941723 3944963 1\n",
      "[3950176, 4764, 270, 0.05667506297229219] PE_PGRS57 3945793 3950263 1\n",
      "[3964517, 19572, 477, 0.02437155119558553] Rv3528c 3964478 3965192 -1\n",
      "[4008746, 34261, 2105, 0.06144012142085754] hsaB 4008718 4009282 -1\n",
      "[4032624, 10372, 221, 0.02130736598534516] PE_PGRS58 4031403 4033158 -1\n",
      "[4037282, 49214, 2815, 0.05719917096761084] PE_PGRS59 4036730 4038050 -1\n",
      "[4083359, 6207, 201, 0.032382793620106334] Rv3645 4082806 4084456 1\n",
      "[4130710, 7157, 203, 0.02836383959759676] Rv3689 4130356 4131712 1\n",
      "[4242642, 74723, 202, 0.0027033175862853473] embC 4239862 4243147 1\n",
      "[4247428, 5890, 585, 0.09932088285229201] embB 4246513 4249810 1\n",
      "[4247430, 4059, 538, 0.1325449618132545] embB 4246513 4249810 1\n",
      "[4359164, 33608, 306, 0.009104975005950963] espK 4357592 4359782 -1\n",
      "[4386227, 49658, 351, 0.00706834749687865] Rv3900c 4385372 4386308 -1\n",
      "[4386247, 7211, 284, 0.039384274025793926] Rv3900c 4385372 4386308 -1\n",
      "{'Rv0658c', 'frdA', 'PE_PGRS46', 'PPE2', 'murG', 'PE_PGRS1', 'cobD', 'cut1', 'Rv0988', 'PE_PGRS15', 'Rv0064', 'recC', 'Rv3428c', 'PE_PGRS30', 'kdpD', 'PPE3', 'PE_PGRS44', 'eno', 'Rv3228', 'Rv2052c', 'PE_PGRS26', 'eccC5', 'PE_PGRS41', 'PE_PGRS7', 'relG', 'PE_PGRS38', 'gyrA', 'rbsK', 'PE_PGRS56', 'Rv1230c', 'PE_PGRS25', 'Rv3093c', 'Rv3645', 'rpoB', 'Rv0538', 'PPE34', 'PE14', 'PE_PGRS54', 'cyp138', 'espK', 'Rv0575c', 'Rv1190', 'Rv1977', 'Rv3689', 'Rv1573', 'dctA', 'PE_PGRS57', 'PE_PGRS45', 'Rv0787', 'rpsL', 'Rv1762c', 'katG', 'Rv0083', 'Rv3900c', 'Rv2611c', 'Rv0398c', 'Rv0193c', 'Rv0192', 'PE_PGRS32', 'embC', 'dipZ', 'embB', 'PPE21', 'PPE11', 'bioD', 'murD', 'Rv2668', 'Rv2264c', 'PE_PGRS9', 'cobL', 'Rv1760', 'proB', 'Rv0395', 'PE_PGRS37', 'Rv3433c', 'Rv0987', 'cycA', 'PPE54', 'PE_PGRS43', 'hsaB', 'Rv0493c', 'PE_PGRS59', 'PE_PGRS14', 'PPE9', 'PE_PGRS53', 'fas', 'PE_PGRS58', 'ponA1', 'PE_PGRS24', 'ruvB', 'pepB', 'Rv3528c', 'pstP', 'aftD', 'Rv0315', 'Rv1501', 'Rv0376c', 'PE_PGRS22', 'mce1F', 'Rv2082', 'Rv0318c', 'Rv1461', 'Rv0986', 'Rv0218'}\n"
     ]
    }
   ],
   "source": [
    "temp = [x for x in consistency_index if x[2]> 200]\n",
    "temp_2 = []\n",
    "for i in temp:\n",
    "    found = 0\n",
    "    for (locus, product, start, stop, strand, name) in mycobrowser_cds_boundaries:\n",
    "        if i[0] >= start and i[0] < stop:\n",
    "            print(i, name, start, stop, strand)\n",
    "            temp_2.append(name)\n",
    "            found = 1\n",
    "            break\n",
    "    if found == 0:\n",
    "        print(i, 'intergenic')\n",
    "print(set(temp_2))"
   ]
  },
  {
   "cell_type": "code",
   "execution_count": 282,
   "id": "f7e49b88-6ccb-4697-945a-133c8cf155f1",
   "metadata": {},
   "outputs": [
    {
     "data": {
      "text/html": [
       "<div>\n",
       "<style scoped>\n",
       "    .dataframe tbody tr th:only-of-type {\n",
       "        vertical-align: middle;\n",
       "    }\n",
       "\n",
       "    .dataframe tbody tr th {\n",
       "        vertical-align: top;\n",
       "    }\n",
       "\n",
       "    .dataframe thead th {\n",
       "        text-align: right;\n",
       "    }\n",
       "</style>\n",
       "<table border=\"1\" class=\"dataframe\">\n",
       "  <thead>\n",
       "    <tr style=\"text-align: right;\">\n",
       "      <th></th>\n",
       "      <th>GENOME_INDEX</th>\n",
       "      <th>UNIQUEID</th>\n",
       "    </tr>\n",
       "  </thead>\n",
       "  <tbody>\n",
       "    <tr>\n",
       "      <th>0</th>\n",
       "      <td>11</td>\n",
       "      <td>18</td>\n",
       "    </tr>\n",
       "    <tr>\n",
       "      <th>1</th>\n",
       "      <td>15</td>\n",
       "      <td>1</td>\n",
       "    </tr>\n",
       "    <tr>\n",
       "      <th>2</th>\n",
       "      <td>16</td>\n",
       "      <td>1</td>\n",
       "    </tr>\n",
       "    <tr>\n",
       "      <th>3</th>\n",
       "      <td>17</td>\n",
       "      <td>1</td>\n",
       "    </tr>\n",
       "    <tr>\n",
       "      <th>4</th>\n",
       "      <td>21</td>\n",
       "      <td>1</td>\n",
       "    </tr>\n",
       "    <tr>\n",
       "      <th>...</th>\n",
       "      <td>...</td>\n",
       "      <td>...</td>\n",
       "    </tr>\n",
       "    <tr>\n",
       "      <th>2104575</th>\n",
       "      <td>4411520</td>\n",
       "      <td>8</td>\n",
       "    </tr>\n",
       "    <tr>\n",
       "      <th>2104576</th>\n",
       "      <td>4411522</td>\n",
       "      <td>6</td>\n",
       "    </tr>\n",
       "    <tr>\n",
       "      <th>2104577</th>\n",
       "      <td>4411526</td>\n",
       "      <td>2</td>\n",
       "    </tr>\n",
       "    <tr>\n",
       "      <th>2104578</th>\n",
       "      <td>4411528</td>\n",
       "      <td>1</td>\n",
       "    </tr>\n",
       "    <tr>\n",
       "      <th>2104579</th>\n",
       "      <td>4411529</td>\n",
       "      <td>3</td>\n",
       "    </tr>\n",
       "  </tbody>\n",
       "</table>\n",
       "<p>2104580 rows × 2 columns</p>\n",
       "</div>"
      ],
      "text/plain": [
       "         GENOME_INDEX  UNIQUEID\n",
       "0                  11        18\n",
       "1                  15         1\n",
       "2                  16         1\n",
       "3                  17         1\n",
       "4                  21         1\n",
       "...               ...       ...\n",
       "2104575       4411520         8\n",
       "2104576       4411522         6\n",
       "2104577       4411526         2\n",
       "2104578       4411528         1\n",
       "2104579       4411529         3\n",
       "\n",
       "[2104580 rows x 2 columns]"
      ]
     },
     "execution_count": 282,
     "metadata": {},
     "output_type": "execute_result"
    }
   ],
   "source": [
    "variant_counts"
   ]
  },
  {
   "cell_type": "code",
   "execution_count": 283,
   "id": "ce4ca3e5-b689-4f85-a0e3-4d7189405ec9",
   "metadata": {},
   "outputs": [
    {
     "data": {
      "text/plain": [
       "18"
      ]
     },
     "execution_count": 283,
     "metadata": {},
     "output_type": "execute_result"
    }
   ],
   "source": [
    "len(variant_df[variant_df['GENOME_INDEX'] == 11])"
   ]
  },
  {
   "cell_type": "code",
   "execution_count": null,
   "id": "2f891cdc-be4f-4003-ad0b-a1ec446e5f9d",
   "metadata": {},
   "outputs": [],
   "source": []
  }
 ],
 "metadata": {
  "kernelspec": {
   "display_name": "Python 3 (ipykernel)",
   "language": "python",
   "name": "python3"
  },
  "language_info": {
   "codemirror_mode": {
    "name": "ipython",
    "version": 3
   },
   "file_extension": ".py",
   "mimetype": "text/x-python",
   "name": "python",
   "nbconvert_exporter": "python",
   "pygments_lexer": "ipython3",
   "version": "3.9.7"
  }
 },
 "nbformat": 4,
 "nbformat_minor": 5
}
