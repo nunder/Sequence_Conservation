{
 "cells": [
  {
   "cell_type": "markdown",
   "id": "b1e30ed4-8a0e-4a6f-96eb-dfe116dfb2de",
   "metadata": {},
   "source": [
    "#### Directories etc"
   ]
  },
  {
   "cell_type": "code",
   "execution_count": 1,
   "id": "cf9c6377-5080-4c22-94db-feabe17cc47c",
   "metadata": {},
   "outputs": [
    {
     "name": "stderr",
     "output_type": "stream",
     "text": [
      "C:\\Users\\nicho\\Anaconda3\\envs\\Bioinformatics\\lib\\site-packages\\ete3-3.1.2-py3.7.egg\\ete3\\evol\\parser\\codemlparser.py:221: SyntaxWarning: \"is\" with a literal. Did you mean \"==\"?\n",
      "C:\\Users\\nicho\\Anaconda3\\envs\\Bioinformatics\\lib\\site-packages\\ete3-3.1.2-py3.7.egg\\ete3\\evol\\parser\\codemlparser.py:221: SyntaxWarning: \"is\" with a literal. Did you mean \"==\"?\n"
     ]
    }
   ],
   "source": [
    "import pandas as pd\n",
    "import pickle\n",
    "import seaborn as sns\n",
    "import matplotlib.pyplot as plt\n",
    "import numpy as np\n",
    "from scipy.fft import fft, fftfreq\n",
    "from Bio import Entrez, SeqIO, AlignIO, pairwise2, Align, Seq, motifs\n",
    "from Bio.Seq import Seq\n",
    "from Bio.SeqFeature import SeqFeature, FeatureLocation\n",
    "from scipy.stats import binom\n",
    "import math\n",
    "import random\n",
    "from tqdm import tqdm\n",
    "from Comparative_Analysis import Utilities as util\n",
    "from collections import defaultdict\n",
    "import random\n",
    "from joblib import Parallel, delayed\n",
    "from Comparative_Analysis import Blast_Functions as blastfn\n",
    "import time\n",
    "import os\n",
    "import copy\n",
    "from Comparative_Analysis import ORF_Functions as orffn\n",
    "from random import sample\n",
    "pd.options.mode.chained_assignment = None  # default='warn'\n",
    "import ete3\n",
    "import matplotlib.pyplot as plt\n",
    "from statistics import mode\n",
    "from scipy.stats import chi2\n",
    "import subprocess"
   ]
  },
  {
   "cell_type": "code",
   "execution_count": 2,
   "id": "1988a242-f558-4643-b3a9-27272fa7bebc",
   "metadata": {},
   "outputs": [],
   "source": [
    "project_dir = 'F:/Project_Data/Project_11'\n",
    "seq_dir = 'F:/Datasets/Actinobacteria_Ref_Rep_Lev_Complete'\n",
    "dictionary_dir = 'F:/Datasets/CRYPTIC_DATA/Cryptic_Dictionaries'\n",
    "tb_species = 'NC_000962.3' \n",
    "tb_genome_filename = 'GCF_000195955.2_ASM19595v2_genomic.gbff'\n",
    "mycobrowser_dir = 'F:/Datasets/Data_From_Publications'\n",
    "num_cores = 16\n",
    "core_numbers = list(range(1, num_cores+1))"
   ]
  },
  {
   "cell_type": "code",
   "execution_count": 3,
   "id": "d39fe86c-bc60-4b04-a35a-41372a27e1e1",
   "metadata": {},
   "outputs": [],
   "source": [
    "for record in SeqIO.parse(seq_dir + '/' + tb_genome_filename, \"genbank\"):\n",
    "    full_sequence = str(record.seq)"
   ]
  },
  {
   "cell_type": "code",
   "execution_count": 4,
   "id": "8646772c-1c92-4e40-aab6-51f09c700b57",
   "metadata": {},
   "outputs": [],
   "source": [
    "compass_df = pd.read_csv('F:/Datasets/CRYPTIC_DATA/COMPASS.csv', names = ['species', 'start', 'stop','count'])\n",
    "compass_dict = {}\n",
    "for i, r in compass_df.iterrows():\n",
    "    for k in range(r['start'], r['stop']):     #  Should te start-1 but seems to ve inconsistency with mutations!!\n",
    "        compass_dict[k] = 'Y'"
   ]
  },
  {
   "cell_type": "code",
   "execution_count": null,
   "id": "d53c813b-c8e9-4eae-9526-20562412ecd0",
   "metadata": {},
   "outputs": [],
   "source": []
  },
  {
   "cell_type": "code",
   "execution_count": 5,
   "id": "a650428f-d9ab-4d7f-b640-dd99b61bc9b9",
   "metadata": {},
   "outputs": [],
   "source": [
    "mycobrowser_df = pd.read_excel(mycobrowser_dir+'/Mycobrowser_Release_4.xlsx')\n",
    "temp_cds = mycobrowser_df[mycobrowser_df['Feature'] == 'CDS'][['Locus','Start','Stop','Strand','Product','Name','Functional_Category','Gene Ontology']]      #Just CDS\n",
    "mycobrowser_cds_boundaries = []\n",
    "for i, r in temp_cds.iterrows():\n",
    "    if r['Strand'] == '+':\n",
    "        strand = 1\n",
    "    else:\n",
    "        strand = -1\n",
    "    mycobrowser_cds_boundaries.append((r['Locus'],r['Product'], r['Start']-1, r['Stop'], strand, r['Name'], r['Functional_Category'], r['Gene Ontology']))\n",
    "mycobrowser_cds_boundaries.sort(key = lambda x: x[2])"
   ]
  },
  {
   "cell_type": "code",
   "execution_count": 7,
   "id": "87fc3ab4-7e83-419b-9916-807a11824c3e",
   "metadata": {},
   "outputs": [],
   "source": [
    "temp = []\n",
    "for i in mycobrowser_cds_boundaries:\n",
    "    if 'PE' in i[1]:\n",
    "        ct = 0\n",
    "        r = range(i[2], i[3])\n",
    "        l = len(r)\n",
    "        for n in r:\n",
    "            if n in compass_dict:\n",
    "                ct +=1\n",
    "        temp.append([i[0], i[1], i[2], i[3], i[4], ct/l])\n",
    "pd.DataFrame(temp, columns = ['Rv_ref','Description','Start','Stop','Strand','Pct_Masked']).to_csv(project_dir +'/compass_PE_coverage.csv')"
   ]
  },
  {
   "cell_type": "code",
   "execution_count": 8,
   "id": "4a8f6b8b-04c5-4a3f-99ee-86a1f2bb96fb",
   "metadata": {},
   "outputs": [],
   "source": [
    "with open(project_dir + '/Thoth_Full_Run/zero_and_non_zero_mutation_counts.pkl', 'rb') as f:\n",
    "    full_sample_zero_and_non_zero_mutation_counts = pickle.load(f)  "
   ]
  },
  {
   "cell_type": "code",
   "execution_count": 16,
   "id": "bbb673e5-f1ee-4063-a773-d245b329a363",
   "metadata": {},
   "outputs": [],
   "source": [
    "unmasked_mutations = []\n",
    "for n, i in enumerate(full_sample_zero_and_non_zero_mutation_counts):\n",
    "    if not(n in compass_dict):\n",
    "        if i>0:\n",
    "            unmasked_mutations.append(1)\n",
    "        else:\n",
    "            unmasked_mutations.append(0)"
   ]
  },
  {
   "cell_type": "code",
   "execution_count": 17,
   "id": "c6e238a5-d73a-4a62-b2b5-97a3015817e8",
   "metadata": {},
   "outputs": [
    {
     "data": {
      "text/plain": [
       "0.4514121171511393"
      ]
     },
     "execution_count": 17,
     "metadata": {},
     "output_type": "execute_result"
    }
   ],
   "source": [
    "sum([1 for x in full_sample_zero_and_non_zero_mutation_counts if x>0])/len(full_sample_zero_and_non_zero_mutation_counts)"
   ]
  },
  {
   "cell_type": "code",
   "execution_count": 18,
   "id": "7d029ae3-205a-4712-b94f-29bdb386fd7d",
   "metadata": {},
   "outputs": [
    {
     "data": {
      "text/plain": [
       "0.48730925587553936"
      ]
     },
     "execution_count": 18,
     "metadata": {},
     "output_type": "execute_result"
    }
   ],
   "source": [
    "sum([1 for x in unmasked_mutations if x>0])/len(unmasked_mutations)"
   ]
  },
  {
   "cell_type": "code",
   "execution_count": null,
   "id": "2a2fa3a1-6bbe-4281-9e2a-6d50ab651192",
   "metadata": {},
   "outputs": [],
   "source": [
    "def score_region(mutationcounts, start):\n",
    "    bin_counts = [0,0,0]\n",
    "    for n in range(int(len(mutationcounts)/3)):\n",
    "        temp_counts = [0,0,0]\n",
    "        compass_overlap = 0\n",
    "        for m in range(3): \n",
    "            if start+3*n+m in compass_dict:\n",
    "                compass_overlap = 1\n",
    "            temp_counts[m % 3] = mutationcounts[3*n+m]\n",
    "        if sum(temp_counts) < 10 and compass_overlap == 0:\n",
    "            for m in range(3):\n",
    "                bin_counts[m] += temp_counts[m]\n",
    "    return bin_formula(bin_counts[2], sum(bin_counts))"
   ]
  },
  {
   "cell_type": "markdown",
   "id": "b75a04cd-8bc9-43f6-89d4-51c9233e9828",
   "metadata": {},
   "source": [
    "#### Mycobrowswer annotated CDS regions"
   ]
  },
  {
   "cell_type": "code",
   "execution_count": null,
   "id": "55b0b77f-c742-4175-9977-70e513a4c8db",
   "metadata": {},
   "outputs": [],
   "source": [
    "for (locus, product, start, stop, strand, name, functional_category, gene_ontology) in (mycobrowser_cds_boundaries): \n",
    "    if compass_coverage(start, stop) > 0.5:\n",
    "        continue\n",
    "    scores = []\n",
    "    mutation_counts = full_sample_zero_and_non_zero_mutation_counts\n",
    "    if strand == 1:\n",
    "        mutation_counts_2 = mutation_counts\n",
    "    else:\n",
    "        mutation_counts_2 = list(reversed(mutation_counts))\n",
    "    score=score_region(mutation_counts_2[start:stop], start)\n",
    "    if score > 0.999:\n",
    "        print(locus, start, stop, product, score)"
   ]
  },
  {
   "cell_type": "code",
   "execution_count": null,
   "id": "3d7f412f-beb7-46cf-b3f2-ffa048f02735",
   "metadata": {},
   "outputs": [],
   "source": [
    "sns.histplot(cds_min_scores)"
   ]
  },
  {
   "cell_type": "code",
   "execution_count": null,
   "id": "58a33974-8411-4949-b214-07da7183113a",
   "metadata": {},
   "outputs": [],
   "source": [
    "score_region(full_sample_zero_and_non_zero_mutation_counts[0:1524], start)"
   ]
  },
  {
   "cell_type": "code",
   "execution_count": null,
   "id": "7d1c9809-f9ef-4e3d-bbaf-397f40b39bb6",
   "metadata": {},
   "outputs": [],
   "source": [
    "def logfn(x):\n",
    "    if x > 0:\n",
    "        return math.log(x)\n",
    "    else:\n",
    "        return -99\n",
    "scores = []\n",
    "window_length =20\n",
    "for start in tqdm(range(0, len(full_sample_zero_and_non_zero_mutation_counts) - window_length)):\n",
    "    scores.append((start, logfn(score_region(full_sample_zero_and_non_zero_mutation_counts[start:(start+window_length)], start))))"
   ]
  },
  {
   "cell_type": "code",
   "execution_count": null,
   "id": "83202cc8-a6d8-4a6a-b378-2dda2a302c12",
   "metadata": {},
   "outputs": [],
   "source": [
    "temp = []\n",
    "for (pos, score) in scores:\n",
    "    temp.append([pos, score, pos%3])\n",
    "scores_df = pd.DataFrame(temp, columns = ['position', 'score', 'offset'])"
   ]
  },
  {
   "cell_type": "code",
   "execution_count": null,
   "id": "084813a0-70de-4de0-af34-def813f9a682",
   "metadata": {},
   "outputs": [],
   "source": [
    "sns.scatterplot(data = scores_df.query(\"position > 2837388 and position < 2837615\"),x = 'position', y= 'score', hue = 'offset',palette=\"Accent\", s=15) "
   ]
  },
  {
   "cell_type": "code",
   "execution_count": null,
   "id": "815e3bbb-936f-4c3c-b932-f3b74572df5b",
   "metadata": {},
   "outputs": [],
   "source": [
    "cds_min_scores = []\n",
    "for (locus, product, start, stop, strand, name, functional_category, gene_ontology) in tqdm(mycobrowser_cds_boundaries): \n",
    "    if compass_coverage(start, stop) > 0.5:\n",
    "        continue\n",
    "    scores = []\n",
    "    mutation_counts = full_sample_zero_and_non_zero_mutation_counts\n",
    "    if strand == 1:\n",
    "        mutation_counts_2 = mutation_counts\n",
    "    else:\n",
    "        mutation_counts_2 = list(reversed(mutation_counts))\n",
    "    \n",
    "    for offset in range(start, stop-30, 3):\n",
    "        scores.append(score_region(mutation_counts_2[offset:offset+30], offset))\n",
    "    cds_min_scores.append(min(scores))\n",
    "sns.histplot(cds_min_scores)"
   ]
  }
 ],
 "metadata": {
  "kernelspec": {
   "display_name": "Python 3 (ipykernel)",
   "language": "python",
   "name": "python3"
  },
  "language_info": {
   "codemirror_mode": {
    "name": "ipython",
    "version": 3
   },
   "file_extension": ".py",
   "mimetype": "text/x-python",
   "name": "python",
   "nbconvert_exporter": "python",
   "pygments_lexer": "ipython3",
   "version": "3.9.7"
  }
 },
 "nbformat": 4,
 "nbformat_minor": 5
}
