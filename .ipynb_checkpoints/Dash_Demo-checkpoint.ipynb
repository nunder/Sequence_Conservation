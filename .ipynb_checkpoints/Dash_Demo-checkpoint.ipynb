{
 "cells": [
  {
   "cell_type": "code",
   "execution_count": null,
   "id": "c2eb433f-4303-4b93-9c03-05644379fd98",
   "metadata": {},
   "outputs": [],
   "source": [
    "complement_dict = {'a':'t', 'c':'g', 'g':'c', 't':'a'}"
   ]
  },
  {
   "cell_type": "code",
   "execution_count": null,
   "id": "852a539f-1417-46a9-8a35-8f2668f457f9",
   "metadata": {},
   "outputs": [],
   "source": [
    "complement_dict['t']"
   ]
  },
  {
   "cell_type": "code",
   "execution_count": null,
   "id": "d2bb5b4e-bff4-4eed-866e-ddd516f4a4f8",
   "metadata": {},
   "outputs": [],
   "source": [
    "with open('F:/Datasets/CRYPTIC_DATA/Cryptic_Mutation_Counts/mutation_counts_1000_2000_.pkl', 'rb') as f:\n",
    "    temp = pickle.load(f)\n",
    "print(temp)"
   ]
  },
  {
   "cell_type": "code",
   "execution_count": null,
   "id": "432afda4-73d1-4fd4-8191-5492fdacfb8f",
   "metadata": {},
   "outputs": [],
   "source": [
    "for i in range(5):\n",
    "    print(\"the desktop \" + str(i)  + \" is really impressive\")"
   ]
  },
  {
   "cell_type": "code",
   "execution_count": null,
   "id": "a4e40b00-eecb-4686-92e7-f4f4cfdea797",
   "metadata": {},
   "outputs": [],
   "source": [
    "from jupyter_dash import JupyterDash\n",
    "import dash_bio as dashbio\n",
    "from dash import html\n",
    "import urllib.request as urlreq\n",
    "from dash.dependencies import Input, Output\n",
    "project_dir = 'F:/Project_Data/E_Pump_Project'\n",
    "import dash"
   ]
  },
  {
   "cell_type": "code",
   "execution_count": null,
   "id": "b9762b8b-2c47-474f-8fe9-c49307a61d55",
   "metadata": {},
   "outputs": [],
   "source": [
    "app = JupyterDash(__name__)\n",
    "\n",
    "#app = dash.Dash(__name__)\n",
    "\n",
    "with open(project_dir + '/align_output_AL123456.3@Rv1063c', 'r') as f:\n",
    "    data2 = f.read()\n",
    "\n",
    "app.layout = html.Div([\n",
    "    dashbio.AlignmentChart(\n",
    "        id='my-default-alignment-viewer',\n",
    "        data=data2,\n",
    "        height=1800,\n",
    "        tilewidth=30,\n",
    "    ),\n",
    "    html.Div(id='default-alignment-viewer-output')\n",
    "])\n",
    "\n",
    "@app.callback(\n",
    "    Output('default-alignment-viewer-output', 'children'),\n",
    "    Input('my-default-alignment-viewer', 'eventDatum')\n",
    ")\n",
    "def update_output(value):\n",
    "    if value is None:\n",
    "        return 'No data.'\n",
    "    return str(value)\n",
    "\n",
    "if __name__ == '__main__':\n",
    "    #app.run_server(mode='jupyterlab', debug=False)\n",
    "    #app.run_server(\"external\")\n",
    "    app.run_server(debug=False)"
   ]
  },
  {
   "cell_type": "code",
   "execution_count": null,
   "id": "22ea7bd6-2788-4623-8c92-3ea3c4dfab3a",
   "metadata": {},
   "outputs": [],
   "source": [
    "with open(project_dir + '/align_output_NC_000962.3@Rv2846c', 'r') as f:\n",
    "    data2 = f.read()\n"
   ]
  },
  {
   "cell_type": "code",
   "execution_count": 1,
   "id": "b3407ea3-9580-4239-9bbb-a04647f39c65",
   "metadata": {},
   "outputs": [],
   "source": [
    "import pandas as pd\n",
    "import pickle"
   ]
  },
  {
   "cell_type": "code",
   "execution_count": 2,
   "id": "29dd413b-0bf9-4d79-b1fb-4107eddda4d8",
   "metadata": {},
   "outputs": [],
   "source": [
    "project_dir = 'F:/Project_Data/Project_10'\n",
    "datasets_dir = 'F:/Datasets/CRYPTIC_DATA'"
   ]
  },
  {
   "cell_type": "code",
   "execution_count": null,
   "id": "6989fa61-c984-453e-bd71-a09734e021d2",
   "metadata": {},
   "outputs": [],
   "source": [
    "variant_df = pd.read_csv(datasets_dir + \"/VARIANTS.csv\") \n",
    "variant_df_2 = variant_df[['UNIQUEID', 'VARIANT', 'MUTATION_TYPE', 'IS_NULL', 'IS_HET', 'IS_FILTER_PASS', 'IS_SNP', 'REF', 'ALT', 'FRS', 'GT_CONF_PERCENTILE', 'DP', 'GENOME_INDEX']]    \n",
    "variant_df = []\n",
    "with open(project_dir + '/variant_df_2.pkl', 'wb') as f:\n",
    "    pickle.dump(variant_df_2, f)  \n",
    "print(\"Stage_1_Complete\")"
   ]
  },
  {
   "cell_type": "code",
   "execution_count": 3,
   "id": "191671ba-9824-4e53-8463-ccbb1976aaaf",
   "metadata": {},
   "outputs": [
    {
     "name": "stdout",
     "output_type": "stream",
     "text": [
      "97961825\n"
     ]
    },
    {
     "name": "stderr",
     "output_type": "stream",
     "text": [
      "C:\\Users\\nicho\\AppData\\Local\\Temp/ipykernel_26240/1589095685.py:4: DtypeWarning: Columns (1,3,13,14,15,27,36) have mixed types. Specify dtype option on import or set low_memory=False.\n",
      "  genomes_df = pd.read_csv(datasets_dir + '/GENOMES.csv')\n"
     ]
    },
    {
     "name": "stdout",
     "output_type": "stream",
     "text": [
      "77860\n",
      "Stage_2_Complete\n"
     ]
    }
   ],
   "source": [
    "with open(project_dir + '/variant_df_2.pkl', 'rb') as f:\n",
    "    variant_df_2 = pickle.load(f)  \n",
    "print(len(variant_df_2))\n",
    "genomes_df = pd.read_csv(datasets_dir + '/GENOMES.csv')\n",
    "gpi_genomes_df = genomes_df[['UNIQUEID','BELONGS_GPI']] \n",
    "print(len(gpi_genomes_df))\n",
    "gpi_variant_df = pd.merge(variant_df_2, gpi_genomes_df, how='left', on = 'UNIQUEID')\n",
    "variant_df_2 = []\n",
    "with open(project_dir + '/nick_variant_df.pkl', 'wb') as f:\n",
    "    pickle.dump(gpi_variant_df, f)    \n",
    "print(\"Stage_2_Complete\")"
   ]
  },
  {
   "cell_type": "code",
   "execution_count": null,
   "id": "83f12df5-c28e-4848-a253-7eadd1b0be83",
   "metadata": {},
   "outputs": [],
   "source": [
    "with open(project_dir + '/nick_variant_df.pkl', 'rb') as f:\n",
    "    variant_df = pickle.load(f)  "
   ]
  },
  {
   "cell_type": "code",
   "execution_count": null,
   "id": "e0bc97b8-f21d-4ad4-a183-3ec6f63d61aa",
   "metadata": {},
   "outputs": [],
   "source": [
    "gpi_variant_df = variant_df[variant_df['BELONGS_GPI'] == True]"
   ]
  },
  {
   "cell_type": "code",
   "execution_count": null,
   "id": "986f5cd8-32dd-44fb-9c0d-9912b9d37bec",
   "metadata": {},
   "outputs": [],
   "source": [
    "for i, r in gpi_vair"
   ]
  },
  {
   "cell_type": "code",
   "execution_count": null,
   "id": "db5b389d-7ee8-4d69-8bca-52c63508b399",
   "metadata": {},
   "outputs": [],
   "source": [
    "compass_df = pd.read_csv('F:/Datasets/CRYPTIC_DATA/COMPASS.csv', names = ['species', 'start', 'stop','count'])\n",
    "compass_dict = {}\n",
    "for i, r in compass_df.iterrows():\n",
    "    for k in range(r['start'], r['stop']):     #  Should te start-1 but seems to ve inconsistency with mutations!!\n",
    "        compass_dict[k] = 'Y'"
   ]
  },
  {
   "cell_type": "code",
   "execution_count": null,
   "id": "2591f315-727d-47fa-9dfc-4246b6a14473",
   "metadata": {},
   "outputs": [],
   "source": [
    "filter_fail_sample = gpi_variant_df.groupby(['IS_NULL', 'GENOME_INDEX']).size().reset_index().rename(columns={0:'count'})"
   ]
  },
  {
   "cell_type": "code",
   "execution_count": null,
   "id": "c47eb7dd-54ee-4588-bc8c-21455a70c2a8",
   "metadata": {},
   "outputs": [],
   "source": [
    "a = filter_fail_sample[filter_fail_sample['IS_NULL'] == True]\n",
    "b = filter_fail_sample[filter_fail_sample['IS_NULL'] == False]"
   ]
  },
  {
   "cell_type": "code",
   "execution_count": null,
   "id": "68192832-0ebc-40c6-bf67-89ae3fca2d30",
   "metadata": {},
   "outputs": [],
   "source": [
    "c = pd.merge(a, b, how = 'outer', on = 'GENOME_INDEX')\n",
    "c['ratio'] = c['count_x']/(c['count_x'] + c['count_y'])"
   ]
  },
  {
   "cell_type": "code",
   "execution_count": null,
   "id": "0d05a275-b86d-47c8-9833-46e6f4d396a0",
   "metadata": {},
   "outputs": [],
   "source": [
    "c[c['ratio'] <0.9]"
   ]
  },
  {
   "cell_type": "code",
   "execution_count": null,
   "id": "62d05623-f501-4379-85eb-40053069f4eb",
   "metadata": {},
   "outputs": [],
   "source": [
    "c[c['IS_NULL_x'].isna()]"
   ]
  },
  {
   "cell_type": "code",
   "execution_count": null,
   "id": "9ae603b7-9d50-4f3f-8364-bf1f527f2f4e",
   "metadata": {},
   "outputs": [],
   "source": []
  }
 ],
 "metadata": {
  "kernelspec": {
   "display_name": "Python 3 (ipykernel)",
   "language": "python",
   "name": "python3"
  },
  "language_info": {
   "codemirror_mode": {
    "name": "ipython",
    "version": 3
   },
   "file_extension": ".py",
   "mimetype": "text/x-python",
   "name": "python",
   "nbconvert_exporter": "python",
   "pygments_lexer": "ipython3",
   "version": "3.9.7"
  }
 },
 "nbformat": 4,
 "nbformat_minor": 5
}
