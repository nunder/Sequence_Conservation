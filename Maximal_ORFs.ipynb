{
 "cells": [
  {
   "cell_type": "code",
   "execution_count": 12,
   "id": "86772f7a-4290-484b-9e7c-83bf0b69b281",
   "metadata": {},
   "outputs": [],
   "source": [
    "import pandas as pd\n",
    "import pickle\n",
    "import seaborn as sns\n",
    "import matplotlib.pyplot as plt\n",
    "import numpy as np\n",
    "from scipy.fft import fft, fftfreq\n",
    "from Bio import Entrez, SeqIO, AlignIO, pairwise2, Align, Seq, motifs\n",
    "from Bio.Seq import Seq\n",
    "from Bio.SeqFeature import SeqFeature, FeatureLocation\n",
    "from scipy.stats import binom\n",
    "import math\n",
    "import random\n",
    "from tqdm import tqdm\n",
    "from Comparative_Analysis import Sequence_Analysis_Routines as sar\n",
    "from Comparative_Analysis import HMM as hmm\n",
    "from Comparative_Analysis import Utilities as util\n",
    "from Comparative_Analysis import Alignment_HMM as alignment_hmm\n",
    "from Comparative_Analysis import Alignment_Analysis as alignment_analysis\n",
    "from Comparative_Analysis import Alignment as align\n",
    "from Comparative_Analysis import Master_Alignment_HMM as master_alignment_hmm\n",
    "from Comparative_Analysis import Multi_Species_Master_Alignment_HMM as multi_species_master_alignment_hmm\n",
    "from Comparative_Analysis import Arneson_Ernst_HMM as ae_hmm\n",
    "import random\n",
    "from joblib import Parallel, delayed"
   ]
  },
  {
   "cell_type": "code",
   "execution_count": 20,
   "id": "1988a242-f558-4643-b3a9-27272fa7bebc",
   "metadata": {},
   "outputs": [],
   "source": [
    "project_dir = 'D:/Project_Data/Project_6'\n",
    "genome_datasets_dir = project_dir + '/Datasets/NCBI_Datasets'\n",
    "literature_datasets_dir = project_dir + '/Datasets/Data_From_Publications'\n",
    "cryptic_output_path = \"D:/Project_Data/CRYPTIC_DATA/Cryptic_Data_Analysis\"\n",
    "cryptic_input_path = \"D:/Project_Data/CRYPTIC_DATA/\"\n",
    "output_dir = project_dir + '/Output'\n",
    "protein_fasta_output_loc = output_dir + '/Protein_Sequences'\n",
    "outgroup_protein_fasta_output_loc = output_dir + '/Protein_Sequences_With_Outgroup'\n",
    "sonic_paranoid_run_name = 'Run_Without_Outgroup'\n",
    "outgroup_sonic_paranoid_run_name = 'Run_With_Outgroup'\n",
    "sonic_paranoid_output_loc = output_dir + '/Sonic_Paranoid_Output'\n",
    "ortholog_dir = sonic_paranoid_output_loc + '/runs/' + sonic_paranoid_run_name + '/ortholog_groups'\n",
    "outgroup_ortholog_dir = sonic_paranoid_output_loc + '/runs/' + outgroup_sonic_paranoid_run_name + '/ortholog_groups'\n",
    "non_cds_output_dir = output_dir + '/Multiple_Alignment_Data/Downstream_Non_CDS'\n",
    "upstream_non_cds_output_dir = output_dir + '/Multiple_Alignment_Data/Upstream_Non_CDS'\n",
    "cds_output_dir = output_dir + '/Multiple_Alignment_Data/CDS'\n",
    "extended_cds_output_dir = output_dir + '/Multiple_Alignment_Data/Extended_CDS'\n",
    "extended_non_cds_regions_output_dir = output_dir + '/Multiple_Alignment_Data/Extended_Non_CDS'\n",
    "outgroup_cds_output_dir = output_dir + '/Multiple_Alignment_Data/CDS_With_Outgroup'\n",
    "outgroup_concatenated_cds_output_dir = output_dir + '/Multiple_Alignment_Data/CDS_With_Outgroup_Concatenated'\n",
    "hmm_parameters_output_dir = output_dir +'/HMM_Model_Parameters'\n",
    "conservation_analysis_output_dir = output_dir + '/Conservation_Analysis'\n",
    "num_cores = 16"
   ]
  },
  {
   "cell_type": "code",
   "execution_count": 14,
   "id": "37b6c9dd-7f1c-4ca3-bfd8-1d36ec4f5f86",
   "metadata": {},
   "outputs": [],
   "source": [
    "with open(cryptic_output_path + '/' + 'variant_count_dictionary.pkl', 'rb') as f:\n",
    "    variant_count_dict = pickle.load(f)  \n",
    "with open(cryptic_output_path + '/' + 'variant_count_by_lineage_dictionary.pkl', 'rb') as f:\n",
    "    variant_count_by_lineage_dict = pickle.load(f)"
   ]
  },
  {
   "cell_type": "code",
   "execution_count": 107,
   "id": "1c5039c6-3aa8-48cb-9790-5320e4da3887",
   "metadata": {},
   "outputs": [],
   "source": [
    "genome_record = next(SeqIO.parse(genome_datasets_dir + '/GCF_000195955.2/genomic.gbff', \"genbank\"))\n",
    "full_sequence = genome_record.seq\n",
    "actual_cds_boundaries = []\n",
    "#for feature in genome_record.features:\n",
    "#        if feature.type == 'CDS':\n",
    "#            a = feature.qualifiers  \n",
    "#            actual_cds_boundaries.append((a.get(\"locus_tag\")[0], int(feature.location.start), int(feature.location.end), int(feature.location.strand)))   \n",
    "\n",
    "temp = pd.read_excel(literature_datasets_dir+'/Mycobrowser_Release_4.xlsx')\n",
    "temp = temp[temp['Feature'] == 'CDS'][['Locus','Start','Stop','Strand']]\n",
    "actual_cds_boundaries = []\n",
    "for i, r in temp.iterrows():\n",
    "    if r['Strand'] == '+':\n",
    "        strand = 1\n",
    "    else:\n",
    "        strand = -1\n",
    "    actual_cds_boundaries.append((r['Locus'],r['Start']-1, r['Stop'], strand))"
   ]
  },
  {
   "cell_type": "code",
   "execution_count": 16,
   "id": "07997aa4-1fc4-4180-b578-8700eab12a53",
   "metadata": {},
   "outputs": [
    {
     "name": "stdout",
     "output_type": "stream",
     "text": [
      "90\n"
     ]
    }
   ],
   "source": [
    "print(min([x[2]-x[1] for x in actual_cds_boundaries]))"
   ]
  },
  {
   "cell_type": "code",
   "execution_count": 17,
   "id": "9749ffe0-7d5b-418e-b817-507d6cb7d4a8",
   "metadata": {},
   "outputs": [],
   "source": [
    "def bin_formula(max_bin_counts, tot_bin_counts, in_frame = False):\n",
    "    #successes = 0\n",
    "    #if in_frame == False:\n",
    "    #    for i in range(10000):\n",
    "    #        a = np.random.default_rng().multinomial(tot_bin_counts, np.array([1/3, 1/3, 1/3]), size=None)\n",
    "    #        if max(a) >= max_bin_counts:\n",
    "    #            successes +=1\n",
    "    #else:\n",
    "    #    for i in range(10000):\n",
    "    #        a = np.random.default_rng().multinomial(tot_bin_counts, np.array([1/3, 1/3, 1/3]), size=None)\n",
    "    #        if a[0] >= max_bin_counts:\n",
    "    #            successes +=1\n",
    "    #return successes / 10000\n",
    "    return 1- binom.cdf(max_bin_counts-1, tot_bin_counts,1/3)"
   ]
  },
  {
   "cell_type": "code",
   "execution_count": 18,
   "id": "99a3b6c4-44aa-4471-a30e-d2a25e1efbe3",
   "metadata": {},
   "outputs": [],
   "source": [
    "def mutation_bin_probability(start, end, strand):\n",
    "    mutations = []\n",
    "    for i in range(start,end):\n",
    "        for letter in ['a','c','g','t']:\n",
    "            if (i+1, 'SNP', letter) in variant_count_dict:        #Variant count dictionary positions are one indexed\n",
    "                mutations.append(i)\n",
    "    bin_counts =[0,0,0]\n",
    "    for m in mutations:\n",
    "        if strand == 1:\n",
    "            bin_counts[(m-(start))%3] +=1\n",
    "        else:\n",
    "            bin_counts[((end-1)-m)%3] +=1\n",
    "    if sum(bin_counts) == 0:\n",
    "        return (1, sum(bin_counts), bin_counts)\n",
    "    else:\n",
    "        return (bin_formula(bin_counts[2], sum(bin_counts)), sum(bin_counts), bin_counts)  "
   ]
  },
  {
   "cell_type": "code",
   "execution_count": 22,
   "id": "77c3cd42-75f5-4006-9728-876fa80ae67d",
   "metadata": {},
   "outputs": [],
   "source": [
    "temp1 = pd.read_csv(cryptic_input_path + 'MYKROBE_LINEAGE.csv')\n",
    "temp2 = list(temp1['MYKROBE_LINEAGE_NAME_2'].unique())\n",
    "lineage_names = [x for x in temp2 if not('/' in x) and not (x=='Unknown') and not('clade' in x) and not('Bovis' in x) and not('Caprae' in x)]"
   ]
  },
  {
   "cell_type": "code",
   "execution_count": 23,
   "id": "48c726de-af9f-4d31-904c-606698271a1c",
   "metadata": {},
   "outputs": [],
   "source": [
    "def mutation_bin_probability_2(start, end, strand):\n",
    "    mutations = []\n",
    "    for i in range(start,end):\n",
    "        for lineage in lineage_names:\n",
    "            num_different_letters = 0\n",
    "            for letter in ['a','c','g','t']:\n",
    "                if (i+1, 'SNP', letter) in variant_count_dict:        #Variant count dictionary positions are one indexed\n",
    "                    num_different_letters += 1\n",
    "            if num_different_letters > 1:\n",
    "                for j in range(num_different_letters - 1):\n",
    "                    mutations.append(i)\n",
    "    bin_counts =[0,0,0]\n",
    "    for m in mutations:\n",
    "        if strand == 1:\n",
    "            bin_counts[(m-(start))%3] +=1\n",
    "        else:\n",
    "            bin_counts[((end-1)-m)%3] +=1\n",
    "    if sum(bin_counts) == 0:\n",
    "        return (1, sum(bin_counts), bin_counts)\n",
    "    else:\n",
    "        return (bin_formula(bin_counts[2], sum(bin_counts)), sum(bin_counts), bin_counts)  "
   ]
  },
  {
   "cell_type": "code",
   "execution_count": 56,
   "id": "786564c0-ee71-425f-acb5-8995da9dad60",
   "metadata": {},
   "outputs": [],
   "source": [
    "def max_orf(seq_start, seq_stop):\n",
    "    max_len = 0\n",
    "    orf_length = 0\n",
    "    start_pos = -999\n",
    "    end_pos = -999\n",
    "    for frame in ['Forward', 'Reverse']:\n",
    "        if frame == 'Forward':\n",
    "            temp = (full_sequence[seq_start: seq_stop])\n",
    "        else:\n",
    "            temp = align.reverse_complement(full_sequence[seq_start: seq_stop])\n",
    "        seq_len = len(temp)\n",
    "        for i in range(seq_len - 2):\n",
    "            test_codon = temp[i: i+3] \n",
    "            if test_codon in ['ATG','GTG','TTG']:  #Missed out CTG as doesn't seem to be used very much at all\n",
    "                for j in range(i + 3, seq_len - 2, 3):\n",
    "                    test_codon_2 = temp[j: j+3] \n",
    "                    if test_codon_2 in ['TAG','TGA','TAA']:\n",
    "                        orf_length = j - i\n",
    "                        break\n",
    "                if orf_length > max_len and ((frame == 'Forward' and mutation_bin_probability_2(seq_start+i, seq_start+j+3, 1)[0]<0.001)\n",
    "                                             or (frame == 'Reverse' and mutation_bin_probability_2(seq_start+seq_len-(j+3), seq_start+seq_len-i, -1)[0]<0.001)):\n",
    "                    max_len = orf_length\n",
    "                    if frame == 'Forward':\n",
    "                        strand = 1\n",
    "                        start_pos = i\n",
    "                        end_pos = j+3\n",
    "                        \n",
    "                    else:\n",
    "                        strand = -1\n",
    "                        start_pos = seq_len-(j+3)\n",
    "                        end_pos = seq_len-i\n",
    "                       \n",
    "      \n",
    "    if start_pos == -999:\n",
    "        return(0,0,0)\n",
    "    else:\n",
    "        return(seq_start+start_pos, seq_start+end_pos, strand)   #, mutation_bin_probability(seq_start+start_pos, seq_start+end_pos, strand, in_frame=True))"
   ]
  },
  {
   "cell_type": "code",
   "execution_count": 57,
   "id": "39f995bb-771d-4a5d-9ae9-da4bb5030313",
   "metadata": {},
   "outputs": [
    {
     "data": {
      "text/plain": [
       "(7301, 9818, 1)"
      ]
     },
     "execution_count": 57,
     "metadata": {},
     "output_type": "execute_result"
    }
   ],
   "source": [
    "max_orf(0,15000)"
   ]
  },
  {
   "cell_type": "code",
   "execution_count": 58,
   "id": "931fdd10-8348-4cfd-941d-4abb97111a19",
   "metadata": {},
   "outputs": [
    {
     "data": {
      "text/plain": [
       "(0.0, 544, [132, 132, 280])"
      ]
     },
     "execution_count": 58,
     "metadata": {},
     "output_type": "execute_result"
    }
   ],
   "source": [
    "mutation_bin_probability(748598,749504,-1)"
   ]
  },
  {
   "cell_type": "code",
   "execution_count": 59,
   "id": "22d77ec5-cdda-47b9-b4cb-1ad6253f9b3b",
   "metadata": {},
   "outputs": [
    {
     "data": {
      "text/plain": [
       "(0.0, 8125, [1300, 910, 5915])"
      ]
     },
     "execution_count": 59,
     "metadata": {},
     "output_type": "execute_result"
    }
   ],
   "source": [
    "mutation_bin_probability_2(748598,749504,-1)"
   ]
  },
  {
   "cell_type": "code",
   "execution_count": 60,
   "id": "a1270ebc-d123-4e8f-af48-0bf52660d7e1",
   "metadata": {},
   "outputs": [
    {
     "name": "stdout",
     "output_type": "stream",
     "text": [
      "iteration 0:  3 found.  0 exhausted regions\n",
      "iteration 1:  5 found.  0 exhausted regions\n",
      "iteration 2:  9 found.  0 exhausted regions\n",
      "iteration 3:  17 found.  0 exhausted regions\n",
      "iteration 4:  32 found.  1 exhausted regions\n",
      "iteration 5:  60 found.  3 exhausted regions\n",
      "iteration 6:  110 found.  9 exhausted regions\n",
      "iteration 7:  195 found.  24 exhausted regions\n",
      "iteration 8:  341 found.  48 exhausted regions\n",
      "iteration 9:  548 found.  133 exhausted regions\n",
      "iteration 10:  831 found.  264 exhausted regions\n",
      "iteration 11:  1165 found.  496 exhausted regions\n",
      "iteration 12:  1576 found.  753 exhausted regions\n",
      "iteration 13:  2011 found.  1140 exhausted regions\n",
      "iteration 14:  2453 found.  1568 exhausted regions\n",
      "iteration 15:  2889 found.  2016 exhausted regions\n",
      "iteration 16:  3325 found.  2452 exhausted regions\n",
      "iteration 17:  3738 found.  2911 exhausted regions\n",
      "iteration 18:  4100 found.  3375 exhausted regions\n",
      "iteration 19:  4403 found.  3796 exhausted regions\n",
      "iteration 20:  4635 found.  4170 exhausted regions\n",
      "iteration 21:  4794 found.  4475 exhausted regions\n",
      "iteration 22:  4891 found.  4696 exhausted regions\n",
      "iteration 23:  4943 found.  4838 exhausted regions\n",
      "iteration 24:  4966 found.  4919 exhausted regions\n",
      "iteration 25:  4985 found.  4946 exhausted regions\n",
      "iteration 26:  4994 found.  4975 exhausted regions\n",
      "iteration 27:  4999 found.  4988 exhausted regions\n",
      "iteration 28:  5005 found.  4992 exhausted regions\n",
      "iteration 29:  5007 found.  5002 exhausted regions\n",
      "iteration 30:  5007 found.  5006 exhausted regions\n"
     ]
    }
   ],
   "source": [
    "num_iterations = 0\n",
    "cds_boundaries = [[0, 0], [4411530, 4411530]]\n",
    "cds_dict = {}\n",
    "for i in cds_boundaries:\n",
    "    cds_dict[tuple(i)] = 1\n",
    "exhausted_cds = []\n",
    "while len(exhausted_cds) < len(cds_boundaries) - 1:\n",
    "    temp_boundaries = []\n",
    "    for i, (x,y) in enumerate((cds_boundaries)):\n",
    "        if i < len(cds_boundaries) - 1:\n",
    "            if [x,y] in exhausted_cds:\n",
    "                pass\n",
    "            else:\n",
    "                temp = cds_boundaries[i+1][0]\n",
    "                res = max_orf(y, temp)\n",
    "                if (res[1] - res[0] < 100):\n",
    "                    exhausted_cds.append([x,y])\n",
    "                else:\n",
    "                    temp_boundaries.append([res[0], res[1]])\n",
    "                    cds_dict[(res[0],res[1])] = res[2]\n",
    "                \n",
    "    cds_boundaries = sorted(cds_boundaries + temp_boundaries, key=lambda x: x[0])\n",
    "    print(\"iteration \" + str(num_iterations) + \":  \"+str(len(cds_boundaries))+ \" found.  \"+str(len(exhausted_cds))+\" exhausted regions\")\n",
    "    num_iterations += 1"
   ]
  },
  {
   "cell_type": "code",
   "execution_count": 61,
   "id": "6636b04a-e261-40c4-b751-03284ca6400c",
   "metadata": {},
   "outputs": [],
   "source": [
    "t_lengths = [x[1]-x[0] for x in cds_boundaries]\n",
    "a_lengths = [x[2]-x[1] for x in actual_cds_boundaries]"
   ]
  },
  {
   "cell_type": "code",
   "execution_count": 62,
   "id": "3bca3717-7a0a-4226-80b2-804343cecd70",
   "metadata": {},
   "outputs": [
    {
     "data": {
      "text/plain": [
       "<AxesSubplot:ylabel='Count'>"
      ]
     },
     "execution_count": 62,
     "metadata": {},
     "output_type": "execute_result"
    },
    {
     "data": {
      "image/png": "[encoded data removed]",
      "text/plain": [
       "<Figure size 432x288 with 1 Axes>"
      ]
     },
     "metadata": {
      "needs_background": "light"
     },
     "output_type": "display_data"
    }
   ],
   "source": [
    "sns.histplot(t_lengths)"
   ]
  },
  {
   "cell_type": "code",
   "execution_count": 42,
   "id": "13752ac3-b22a-489d-ab3a-6fa4e2128269",
   "metadata": {},
   "outputs": [
    {
     "data": {
      "text/plain": [
       "<AxesSubplot:ylabel='Count'>"
      ]
     },
     "execution_count": 42,
     "metadata": {},
     "output_type": "execute_result"
    },
    {
     "data": {
      "image/png": "[encoded data removed]",
      "text/plain": [
       "<Figure size 432x288 with 1 Axes>"
      ]
     },
     "metadata": {
      "needs_background": "light"
     },
     "output_type": "display_data"
    }
   ],
   "source": [
    "sns.histplot(a_lengths)"
   ]
  },
  {
   "cell_type": "code",
   "execution_count": 63,
   "id": "c878266f-9f23-423d-9a80-20a3bccf2822",
   "metadata": {},
   "outputs": [],
   "source": [
    "def max_overlap(boundary, comparison_boundaries):\n",
    "    max_overlap = 0\n",
    "    comparison_boundary_0 = 0\n",
    "    comparison_boundary_1 = 0\n",
    "    locus = ''\n",
    "    strand = 1\n",
    "    for bound in comparison_boundaries:\n",
    "        overlap = min(boundary[1], bound[2]) - max(boundary[0], bound[1])\n",
    "        if overlap > max_overlap:\n",
    "            max_overlap = overlap\n",
    "            comparison_boundary_0 = bound[1]\n",
    "            comparison_boundary_1 = bound[2]\n",
    "            locus = bound[0]\n",
    "            strand = bound[3]\n",
    "    return(locus, strand, comparison_boundary_0, comparison_boundary_1, max_overlap)"
   ]
  },
  {
   "cell_type": "code",
   "execution_count": 64,
   "id": "3e37cbd3-f56b-4e5c-a441-30d3882f1604",
   "metadata": {},
   "outputs": [
    {
     "name": "stderr",
     "output_type": "stream",
     "text": [
      "100%|██████████| 5007/5007 [00:04<00:00, 1224.36it/s]\n"
     ]
    }
   ],
   "source": [
    "temp = []\n",
    "for bound in tqdm(cds_boundaries):\n",
    "    a = max_overlap(bound, actual_cds_boundaries)\n",
    "    if a[3] > 0:\n",
    "        temp.append([a[0],a[1],a[2],a[3],a[4], cds_dict[(bound[0],bound[1])], bound[0], bound[1], bound[0]-a[2], bound[1]-a[3]])\n",
    "df = pd.DataFrame(temp, columns = ['locus','annotation_strand','annotation_start','annotation_end', 'overlap', 'simulated_strand','simulated_start', 'simulated_end', 'start_offset','end_offset'])"
   ]
  },
  {
   "cell_type": "code",
   "execution_count": 65,
   "id": "fd5faccd-7cc1-4c7a-a690-6a36c10d83a5",
   "metadata": {},
   "outputs": [
    {
     "name": "stdout",
     "output_type": "stream",
     "text": [
      "1371\n"
     ]
    }
   ],
   "source": [
    "matched_genes = df.query('start_offset == 0 and end_offset == 0')\n",
    "print(len(matched_genes))"
   ]
  },
  {
   "cell_type": "code",
   "execution_count": 53,
   "id": "6b6eb58c-9d64-47a3-87ae-f394098bc482",
   "metadata": {},
   "outputs": [
    {
     "name": "stdout",
     "output_type": "stream",
     "text": [
      "GTGCGGGACCGGCGCACCGACGCAGGAGTACCTGACTCGACACACCCTCGAATCGTTCCTGGATCGGCTCACCCGCACCTCGCATGCCGCAGACTTCGTCCTCAAAGGCCGGATCCTGCTGGCCGCCTACGGCGTTCGGCACCCGACGAAGGACACCGACTCCAACGCCATGCGCGCCGACGTCACCGCCGAGCATCTCACCCAGGTGGTTCGCGACATCGCCGTGATCGACATCGACGACGGGGTGGCGTTCAACCTCGACACGAGCAGCGTGCAGGAAATTCGCGAGCGGGCCGACTACCCGGGCCTGCGCGTGCGAGTCGCTATGTCGGTCGGACCGTGGCAGGGCATCGCGGCCTGGGATGTGTCCACCGGCGAACCGATCGCGCCGTGGCCCACACGGGTGACCATCGACCGGATCCTCGGCGAGCCGATCACACTCCTGGGCTACGCGCCCGAGACCATCATCGCCGAGAAGGGAGTGACCATCCTCGAACGCGGCATCACCAGCACCCGCTGGCGGGACTACGTCGACATCGTCCAACTCGACCGCCGGGGCATCGACGACGACGAGCTGCTCCGCTCGGCCAGGGCAGTCGCACAATACCGCGGCGCCACTCTCGAACCCGTCGCGCCTCACCTGGCCGGTTATGGCGCAGTCGCGCAAGCGAAATGGGCGACCGAACACGGACGCTGCCAGCACTGTTGGAGACATTGGAAACCAGCCCATGTCGGGAGGAGAAACATGGATCTGCTGGACGCAAAACAAGTTTCGGAGATGATCGGCGTTCCCGTCGGCACTCTACGGCACTGGCGGCACTCGGACATCGGACCGGCGAGCTTCACCTTGGGACGGCGCGTCGTGTACCGGCGCGACGAGGTGTCGCGCTGGATCTCAAAGCGGGAGAGCGCAACTCGACGTTGAGCTGGCGCCCGACGACGAACTGCGTGATCGGCTTGCCCGGGTGA\n"
     ]
    }
   ],
   "source": [
    "print(align.reverse_complement(full_sequence[1173900:1174869]))"
   ]
  },
  {
   "cell_type": "code",
   "execution_count": 49,
   "id": "4e419545-9987-4440-bfe5-764c2e455201",
   "metadata": {},
   "outputs": [],
   "source": [
    "codon_dict = {}\n",
    "with open('D:/Project_Data/Project_3/Datasets/Reference_Tables/Standard_Code.txt') as f:\n",
    "    for l in f:\n",
    "        codon_dict[str(l[1:4])] = l[5]"
   ]
  },
  {
   "cell_type": "code",
   "execution_count": 50,
   "id": "51e9205c-f074-4791-96b9-262b6ccf2603",
   "metadata": {},
   "outputs": [],
   "source": [
    "def translate_sequence(input_seq):\n",
    "    output_seq = ''\n",
    "    seq = input_seq\n",
    "    for i in range(0,len(seq)-2,3):\n",
    "        if seq[i:(i+3)] in codon_dict:\n",
    "            output_seq += codon_dict[seq[i:(i+3)]]\n",
    "        else:\n",
    "            output_seq += 'X'\n",
    "    return output_seq"
   ]
  },
  {
   "cell_type": "code",
   "execution_count": 80,
   "id": "30d8fb96-009d-45f5-b73d-716d6785b44e",
   "metadata": {},
   "outputs": [
    {
     "name": "stdout",
     "output_type": "stream",
     "text": [
      "VPRSTALALLPRGAAAGHQRHRYRRDPEQLGPLRGNSGHLPRPGQHRAPIPDRRPRRRCPPVRRGGVAHRHNPPSPRQPAHERPRMHRRLPACRCSASPWRPDSPPSPTAELCGPQTARMARSVRGPRLQRRPRSGLGGALVRRRPRPALRQTRPVGATPSRLRPTHRRCRAARPRHARQCQRTGGRRAGDARHTGRPRPAGPALRRGSTGLAHHHSFAAPAGRGVTRPAHAGLLNANRNHKCTFSNGASYRIG*\n"
     ]
    }
   ],
   "source": [
    "print(translate_sequence(align.reverse_complement(full_sequence[932150: 932915])))"
   ]
  },
  {
   "cell_type": "code",
   "execution_count": 112,
   "id": "28320eb1-2c01-43ec-bd7b-f0e097f25ea8",
   "metadata": {},
   "outputs": [
    {
     "name": "stdout",
     "output_type": "stream",
     "text": [
      "VSRWALINRRKPGFASIAESHRVAWRLLTLENKMYSLRQNKRRGNFARSSIPPRLTHILAAFPQPSPGITDQTLGLPTSGHGAKVDSQNMAVRDMGIHGTEPLRRPVRFNLHMSGAAAVVRYVEHRWRSGAGRLVFSCDASAPPRQPPRAKQVLMPQC*\n"
     ]
    }
   ],
   "source": [
    "print(translate_sequence((full_sequence[2614179: 2614656])))"
   ]
  },
  {
   "cell_type": "code",
   "execution_count": 84,
   "id": "65612224-7b23-4927-a022-c62c55aaa1dd",
   "metadata": {},
   "outputs": [
    {
     "name": "stdout",
     "output_type": "stream",
     "text": [
      "        locus  annotation_strand  annotation_start  annotation_end  overlap  \\\n",
      "0      Rv0001                  1                 0            1524     1524   \n",
      "1      Rv0002                  1              2051            3260     1209   \n",
      "2      Rv0003                  1              3279            4437     1158   \n",
      "3      Rv0004                  1              4433            4997      516   \n",
      "4      Rv0005                  1              5239            7267     2028   \n",
      "...       ...                ...               ...             ...      ...   \n",
      "4483  Rv3919c                 -1           4407527         4408202      409   \n",
      "4484  Rv3920c                 -1           4408333         4408897      156   \n",
      "4485  Rv3921c                 -1           4408968         4410069     1101   \n",
      "4486  Rv3923c                 -1           4410411         4410789      378   \n",
      "4487  Rv3924c                 -1           4410785         4410929       57   \n",
      "\n",
      "      simulated_strand  simulated_start  simulated_end  start_offset  \\\n",
      "0                    1                0           1524             0   \n",
      "1                    1             2051           3260             0   \n",
      "2                    1             3279           4437             0   \n",
      "3                    1             4481           4997            48   \n",
      "4                    1             5122           7267          -117   \n",
      "...                ...              ...            ...           ...   \n",
      "4483                 1          4407793        4408555           266   \n",
      "4484                 1          4408601        4408757           268   \n",
      "4485                -1          4408968        4410069             0   \n",
      "4486                -1          4410411        4410789             0   \n",
      "4487                 1          4410872        4411166            87   \n",
      "\n",
      "      end_offset  \n",
      "0              0  \n",
      "1              0  \n",
      "2              0  \n",
      "3              0  \n",
      "4              0  \n",
      "...          ...  \n",
      "4483         353  \n",
      "4484        -140  \n",
      "4485           0  \n",
      "4486           0  \n",
      "4487         237  \n",
      "\n",
      "[4488 rows x 10 columns]\n"
     ]
    }
   ],
   "source": [
    "print(df)"
   ]
  },
  {
   "cell_type": "code",
   "execution_count": 86,
   "id": "e8e217a6-db6f-4682-a9d4-b77f3378acac",
   "metadata": {},
   "outputs": [
    {
     "name": "stdout",
     "output_type": "stream",
     "text": [
      "Rv0600c\n",
      "[697903, 698410, -1] (0.9999999999998995, 2015, [780, 715, 520])\n",
      "alternative 843\n",
      "[697975, 698818, 1] (6.308911067898215e-06, 3900, [1105, 1365, 1430])\n",
      "VEGRPRCGEGDAEFGPAVGVVGGVGMSAVGGGEGGDDGQAEAAAATAAGGVGAGESVEGDGKKVVGESGAVVADADVDCTVAGVRGDSDFTVPVGDGVVEHGGEDSAQVVRIDRDEQVRFRACGDVRSSSGEAGHALVQQGSDRHRFGGGVGFGAVGAGQGEQLVGQSAEPAGFFERGAQGGAQLVGGSGPAQRSSSSVVSSANGVRNSWLASATNCCSWARARCSRVSMVLRVVASQAISSSVGGTGSGASVSGCGVVVSVCAAARIRSTGRSAARLSR*\n",
      "Rv0643c\n",
      "[737267, 738149, -1] (0.5269100113476428, 195, [65, 65, 65])\n",
      "alternative 906\n",
      "[737267, 738173, -1] (0.0, 455, [65, 130, 260])\n",
      "VPLTVGGHMSDNSTGTTKSRSNVDDVQAHYDLSDAFFALFQDPTRTYSCAYFERDDMTLHEAQVAKLDLTLGKLGLEPGMTLLDVGCGWGSVMKRAVERYDVNVVGLTLSKNQHAYCQQVLDKVDTNRSHRVLLSDWANFSEPVDRIVTIEAIEHFGFERYDDFFKFAYNAMPADGVMLLHSITGLHVKQVIERGIPLTMEMAKFIRFIVTDIFPGGRLPTIETIEEHVTKAGFTITDIQSLQPHFARTLDLWAEALQAHKDEAIEIQSAEVYERYMKYLTGCAKAFRMGYIDCNQFTLAK*\n",
      "Rv0833\n",
      "[925360, 927610, 1] (0.9999999639602964, 325, [130, 130, 65])\n",
      "alternative 2439\n",
      "[925207, 927646, -1] (1.4440288293449122e-05, 455, [130, 130, 195])\n",
      "VTVVDHVVQPGRLGQQPGQPLRADQRTTGAAGTGAARGRAGPPVAAVAAVTEPEGGSTGPAVPAAVPAGPAGPAVTAVADQPGLAAGSASAAEVGSAGAAGPASAAGAEQQAGVAAGRPRPTRSEAESAGTSDPAGADQQAGVAAGPAGPAGVKTLPAATAGTAGETGGEQARVAAGPTVASNATAAAGSAGPAGPEQPTDPTGPAGPPDVVARSAGPAGPATGEQATGPAGPALPASPAADAGPAGPAGPAAVEQPTGPSGPTGPARGEPANPAGPAGSTGPTGPKQQGSTAGPTGPAGGAGSRDGPARAAGPAGAEQDPAGPAISARPAADAGPAGPSAAEQPPAVPAGGPAARGAVGAVADQRAPGHGLDGRVDCGQRLLLRGVQRVGAGRGVGAVQTQQQPTDAADAGAARGIAHSATAAVAAVADQPGPAAGAAGTAVPGPPGGNRRAAAATVAAVADQPGPAAGPAGTAGRAVGEAPSAAGPTGPTGAEQQAGLATRPTGPAGVTGVTEGAGSPTGPTGPTGAEQQAGLATRPAGPAGSGGSGPAGPASAAVAKGEQAGAATGPTVPAGVVALPAEPASATGSEQPAGPTRPTSPTGTAGPAGPASAAASEQPSGPTRPTNPTGTAGPGSPASTADPAAGEQPTSPTGAAGPTGARRCEPAEPAAAAAGEQPAGPTGATGPTSCAGTAGTPGPAGPTGTEQQGSPACPTGPSDDTRDRGVSTGPAGTSDTDQPRGPAGPTDGAGRPGPAGPAVADQPPAGPPGAPVPGWPLAPLPISGRPVAAWMGALNTSIRLCNGDAAAISATA*\n",
      "Rv0836c\n",
      "[932278, 932932, -1] (0.9999999993923392, 2145, [520, 1040, 585])\n",
      "alternative 765\n",
      "[932150, 932915, -1] (0.0, 2535, [715, 650, 1170])\n",
      "VPRSTALALLPRGAAAGHQRHRYRRDPEQLGPLRGNSGHLPRPGQHRAPIPDRRPRRRCPPVRRGGVAHRHNPPSPRQPAHERPRMHRRLPACRCSASPWRPDSPPSPTAELCGPQTARMARSVRGPRLQRRPRSGLGGALVRRRPRPALRQTRPVGATPSRLRPTHRRCRAARPRHARQCQRTGGRRAGDARHTGRPRPAGPALRRGSTGLAHHHSFAAPAGRGVTRPAHAGLLNANRNHKCTFSNGASYRIG*\n",
      "Rv0894\n",
      "[996523, 997705, 1] (0.9999971661713468, 5135, [1755, 1820, 1560])\n",
      "alternative 1065\n",
      "[996640, 997705, 1] (0.00015237315028426845, 3965, [1300, 1235, 1430])\n",
      "LTSFVGRKAELNDVRRLLSDKRLVTLTGPDGMGKSRLALQIGAQIAHEFTYGRWDCDLATVTDRDCVSISMLNALGLPVQPGLSAIDTLVGVINDARVLLVLDHCEHLLDACAAIIDSLLRSCPRLTILTTSTEAIGLAGELTWRVPPLSLTNDAIELFVDRARRVRSDFAINADTAVTVGEICRRLDGVPLAIELAAARTDTLSPVEILAGLNDRFRLVAGAAGNAVRPEQTLCATVQWSHALLSGPERALLHRLAVFAGGFDLDGAQAVGANDEDFEGYQTLGRFAELVDKAFVVVENNRGRAGYRLLYSVRQYALEKLSESGEADAVLARYRKHLKQPNQVVRAGSGGVRY*\n",
      "Rv0895\n",
      "[997781, 999299, 1] (0.5052821941253327, 5070, [1560, 1820, 1690])\n",
      "alternative 1563\n",
      "[997736, 999299, 1] (7.171970296981911e-06, 5395, [1625, 1820, 1950])\n",
      "LTAPPIAVERNTRSKVRQQQEADVVALGRKPGLLCVPERFRAMDLPMAAADALFLWAETPTRPLHVGALAVLSQPDNGTGRYLRKVFSAAVARQQVAPWWRRRPHRSLTSLGQWSWRTETEVDLDYHVRLSALPPRAGTAELWALVSELHAGMLDRSRPLWQVDLIEGLPGGRCAVYVKVHHALADGVSVMRLLQRIVTADPHQRQMPTLWEVPAQASVAKHTAPRGSSRPLTLAKGVLGQARGVPGMVRVVADTTWRAAQCRSGPLTLAAPHTPLNEPIAGARSVAGCSFPIERLRQVAEHADATINDVVLAMCGGALRAYLISRGALPGAPLIAMVPVSLRDTAVIDVFGQGPGNKIGTLMCSLATHLASPVERLSAIRASMRDGKAAIAGRSRNQALAMSALGAAPLALAMALGRVPAPLRPPNVTISNVPGPQGALYWNGARLDALYLLSAPVDGAALNITCSGTNEQITFGLTGCRRAVPALSILTDQLAHELELLVGVSEAGPGTRLRRIAGRR*\n",
      "Rv0978c\n",
      "[1093360, 1094356, -1] (1, 0, [0, 0, 0])\n",
      "alternative 924\n",
      "[1093198, 1094122, 1] (0.0, 130, [0, 0, 130])\n",
      "LSPRSSARGSSYQRGRPTMAVPTRRKSRANTRSRRSQWRARPDGCGPNTPGGLVSADYRHRVAGEVGDINLAGDGVDRHPGRSGADGDGGAGDGVGGRVDHRHRVAVEVGHEDQAGDGADRHPAWTVADGDGGAGDGVGGGVDHRHRAAAEIGDVDVAARVDRHPVRIVEAGVGDGGDGAGGPTGTADPTRTADTADRAAAGTAGRAGAGEADRAAGAAGPTVADQPGRPAGAAGLSGCPRPAVAAVAPQPPAVTAGLPGPVDPVRAVADQWAPGQRLNGCVDRIEHVLQRCCAGRFGDRVGAASLA*\n",
      "Rv1051c\n",
      "[1173944, 1174700, -1] (0.9993130314397595, 3380, [780, 1560, 1040])\n",
      "alternative 969\n",
      "[1173900, 1174869, -1] (0.0, 3965, [1170, 1170, 1625])\n",
      "VRDRRTDAGVPDSTHPRIVPGSAHPHLACRRLRPQRPDPAGRLRRSAPDEGHRLQRHARRRHRRASHPGGSRHRRDRHRRRGGVQPRHEQRAGNSRAGRLPGPARASRYVGRTVAGHRGLGCVHRRTDRAVAHTGDHRPDPRRADHTPGLRARDHHRREGSDHPRTRHHQHPLAGLRRHRPTRPPGHRRRRAAPLGQGSRTIPRRHSRTRRASPGRLWRSRASEMGDRTRTLPALLETLETSPCREEKHGSAGRKTSFGDDRRSRRHSTALAALGHRTGELHLGTARRVPARRGVALDLKAGERNSTLSWRPTTNCVIGLPG*\n",
      "Rv1196\n",
      "[1339348, 1340524, 1] (1.0, 130, [65, 65, 0])\n",
      "alternative 1140\n",
      "[1339366, 1340506, -1] (6.352566000322746e-05, 130, [0, 65, 65])\n",
      "MRHHIGSRRNTQHTTEPTTGPGAHLPHRQPAQHLPGPSFRGAGQAGQRQRPRRRGDCLVGRGPGLRHRQRTDRGRPTQVGGHPTAQTRRTQRAAQRAHRPDPVLRRGLHGLGGRRRSKALQHRAQGVGHRHTRVGHRHVVVGHRHHVADRRPMRRDRLPQATQLGRRRGALRGLGQLLQRLGHIVHQLVRRGGVGGLLDRGGLLEEPTRAGHLRRLLERQQRRRRRRRRRGVAKHRGGVLGPHLAVFGLVDRDRRGVLPQEVGRYQNHQFSTVLGDHRRGHRQPIRRLVGRRSNPDLGGGQLGLPRGDAHPRHIRRGRRHHQTRRRTYPRPHRQTPDHRLKRRRGRKQVTRHAVPHLSRGHQRGRTRAGVHPRGVDLRW*\n",
      "Rv1397c\n",
      "[1574111, 1574513, -1] (0.9999970803269702, 975, [520, 195, 260])\n",
      "alternative 768\n",
      "[1573982, 1574750, 1] (0.0, 2665, [780, 780, 1105])\n",
      "LFDKECGLIATLFINVARPAAWDLRRTAATRCNYGGRSEVSSVSCPRSVPRHRKWWFQLLEHGEMPHVEGCQLQVLDVGGSSYQIVAKSNPVVAATISAHHVAGAACDYLGCWLYPKRCKQAPHLAPFGGPHSADEFGGGHHADRQRSVLAGADKPIASSNDTPQMRDQHIGVDKDHEVARHTWARCCSRPPERRTGGSRWRSVPNESFIACRSDARSSPAVVRARFSRRRISSARETPSCAANLSRLAVCSSSR*\n",
      "Rv1587c\n",
      "[1788161, 1789163, -1] (0.515546111391966, 585, [195, 195, 195])\n",
      "alternative 897\n",
      "[1788506, 1789403, -1] (6.352566000322746e-05, 130, [0, 65, 65])\n",
      "VDVSTRQAAEADLAGKAAQYRPDELARYAQRVMDWLHPDGDLTDTERARKRGITLSNQQYDGMSRLSGYLTPQARATFEAVLAKLAAPGATNPDDHTPVIDTTPDAAAIDRDTRSQAQRNHDGLLAGLRALIASGKLGQHNGLPVSIVVTTTLTDLQTGAGKGFTGGGTLLPMADVIRMTSHAHHYSPASGRYPQAIFDHGTPLALYHTKRLASPAQRIMLFANDRGCTKPGCDAPAYHSQAHHVTAWTSTGRTDITELTLACGPDNRLAEKGWTTHNNTHGHTEWLPPPHLDHGQPWT\n",
      "Rv1669\n",
      "[1895724, 1896087, 1] (1.0, 715, [260, 390, 65])\n",
      "alternative 1833\n",
      "[1894223, 1896056, -1] (0.0, 17680, [3640, 3705, 10335])\n",
      "VRRQTVIVATRSVRSPAYCFTLPFAHQALMPINVVATAGSNRYADDHGHCMASRCIVPKHIPVTWWPKTDSVSPQLGWLEKATDDAPAEPPRAACRLAPARPFEYPGRRDIDPVQPGANPRNVQTPQSHPAQSTPTTTSTPPGKPRRQSTALRLGRHARARPRGSSAAHPSPHRRHARARPRGSSAAHPSPHRRHARARPRGSSAAHPSPHRRHARARPRGSSAAHPSPHRRHARVGPMAHLLGAEAVHLAYPTQVVFEAVTLGVNDGARIGIVGRNGDGKSSLLGLLTGQLRPDSGRVTRRSGLRVNALSQTDTLDPNRTVGWTLIGDQPEHQWAGNPRIRDVVAGLVSDIAWDTPVSTLSGGQRRRVQLASLLVGEWDVIALDEPTNHLDIQGITWLADHLRRRWARNTGGLLVVTHDRWFLDEVATTTWEVHDGIVEPFEGGYAAYVLQRVERDRLTAAAEAKRQNLLRKELAWLRRGAPARTCKPKFRIEAANQLIADVPPPRNTVELAKLAAARLGKDVVDLLGVSVSYQPSGGRPVLRDIEWRIGPGERIGIVGANGAGKSTLLGLIAGTVQPGVGRVKPSGWQCSISTGTIWHRLPTTGSPMC*\n",
      "Rv2350c\n",
      "[2628780, 2630319, -1] (0.5190370791448276, 390, [65, 195, 130])\n",
      "alternative 1605\n",
      "[2628780, 2630385, -1] (0.0002182771674058559, 650, [65, 325, 260])\n",
      "VISNGRVGRQGGRVGSEHPVDGMTRRQFFAKAAAATTAGAFMSLAGPIIEKAYGAGPCPGHLTDIEHIVLLMQENRSFDHYFGTLSDTRGFDDTTPPVVFAQSGWNPMTQAVDPAGVTLPYRFDTTRGPLVAGECVNDPDHSWIGMHNSWNGGANDNWLPAQVPFSPLQGNVPVTMGFYTRRDLPIHYLLADTFTVCDGYFCSLLGGTTPNRLYWMSAWIDPDGTDGGPVLIEPNIQPLQHYSWRIMPENLEDAGVSWKVYQNKLLGALNNTVVGYNGLVNDFKQAADPRSNLARFGISPTYPLDFAADVRNNRLPKVSWVLPGFLLSEHPAFPVNVGAVAIVDALRILLSNPAVWEKTALIVNYDENGGFFDHVVPPTPPPGTPGEFVTVPDIDSVPGSGGIRGPIGLGFRVPCLVISPYSRGPLMVHDTFDHTSTLKLIRARFGVPVPNLTAWRDATVGDMTSTFNFAAPPNPSKPNLDHPRLNALPKLPQCVPNAVLGTVTKTAIPYRVPFPQSMPTQETAPTRGIPSGLC*\n",
      "Rv2579\n",
      "[2903638, 2904541, 1] (0.9950877172595074, 2925, [1105, 910, 910])\n",
      "alternative 867\n",
      "[2903680, 2904547, -1] (8.916608094322598e-06, 2795, [845, 910, 1040])\n",
      "LRSDAGRRPEPPDELCYGRTDFLWAVLLNEMHAGHCDFGLVGPAPDIVTDAAGDDRAGLGVDEQFRHVGFLEPAPVLVDQRDDLGGLTVDWKVSWPRQRGATVLAAVHEWPPIVVHFLVAELSQDRPGQHPFDKDVVLQRHWLALRRSETLEHTPHGRRPVRPRHRGDDRFHERDPLHSVAMLVSPVEAERRAPVVQHQYHVVAEVERIPEREQKVSLLAIAIAVGSRWAELVRRAHPDQIAGHQPAQPFQVRHDVAPQVRRRGVAVLKDDGVTLAFVDIRHALPGDF*\n",
      "Rv3120\n",
      "[3485571, 3486174, 1] (0.9995919149582361, 1755, [910, 325, 520])\n",
      "alternative 819\n",
      "[3485819, 3486638, -1] (8.916608094322598e-06, 2795, [845, 910, 1040])\n",
      "MLCAPRATLSGLPDSCFSVPTALGTAPSGPAGRTGTSESRCLSSHSSRIVIACHVLLFRVHRHPANPSPWGEILKRERHPTSLESRDIASPTCPLSWEPLHRLSINRAAEPPRFHAHLVSFRGWEAARSVHQTGGIGAVRNGFSTKDVRIQPGTVHSDRWAMMRRDGSEPSVSTTRITVKPAGSSDSGWPGFKHHSARRVSRATSMGRRHASHATTPPGATASQAWRKVGGCQNSRQSTRAKRPSPDCQEQRSACTSVRRSANSRRVASSSS*\n",
      "Rv3387\n",
      "[3800785, 3801463, 1] (0.509521847730714, 1560, [585, 455, 520])\n",
      "alternative 1032\n",
      "[3800431, 3801463, 1] (0.0, 1950, [650, 455, 845])\n",
      "VRMRWPGSMRRCWPRRPAKSCCAPTRSVPTPPWWRAMWAIPPTLDCSPRRSARWRAPWRGSKPRTRDRRRSVGRRARAIASKLRLRGAQQRDQAQAFVRRITGELAGIAEQALTEAAAVVRNAQRAVRRASGRRKAWLRQAINHLEKLIGRTERVVDQARSRLAGVMPDSSSRLVSLHDADARPIRKGRLGKPVEFGYKAQVVDNADGVILDHSVELGNPADAPQLAPAIERISRRTGRPPRAVTADRGCGDASVEDDLHQLGVRNVAIPRKSKPSATRRAFEHRRAFRDKIKWRTGSEGRINHLKRSYGWNRTELTGITGARTWCGHGVFAHNLVKISTLAA*\n",
      "Rv3395A\n",
      "[3811718, 3812345, 1] (0.9999999999731888, 1300, [585, 390, 325])\n",
      "alternative 1077\n",
      "[3811268, 3812345, 1] (0.0, 5590, [1170, 1300, 3120])\n",
      "MPSISTAATSTGSVPGSGITASRLRSAPISTAASNPISGWPTMAAFPPAAVTDATMLSSSDRAPDSTPTVPGGNDTGPAGTRSPERLGPPDTFSDSKAICRRSDSSCSAPFSRRWSEAKAAVMTSLLFENMFEVSKHPSLESVKVMRGCLVQSRKTTSVLAAALLFCGLLGPGTAPPATGGGPACRPAELFATDNTTDGFELPAVATIALTGTVVTGSTLVDGVFWSNERQQIGYERSREFHLCVVDAPTLHNAAEALHRQFNQEAVLTFDYLPQNAPEADAILITVPDIGIARFRDAFASDLAAHHRLRGGSVTTADHTLILVAGNGDLDVARRLVEEAGGDWNATTIAHGRREFVN*\n",
      "Rv3487c\n",
      "[3906173, 3907007, -1] (0.9999999761298834, 3575, [1235, 1300, 1040])\n",
      "alternative 927\n",
      "[3906173, 3907100, -1] (0.00021047357748682494, 4160, [1235, 1430, 1495])\n",
      "LGFVDFACRVWRPGQGTVRTTINLPNATAQLVRAPGVRAADGAGRVVLYLHGGAFVMCGPNSHSRIVNALSGFAESPVLIVDYRLIPKHSLGMALDDCHDAYQWLRARGYRPEQIVLAGDSAGGYLALALAQRLQCDDEKPAAIVAISPLLQLAKGPKQDHPNIGTDAMFPARAFDALAAWVRAAAAKNMVDGRPEDLYEPLDHIESSLPPTLIHVSGSEVLLHDAQLGAGKLAAAGVCAEVRVWPGQAHLFQLATPLVPEATRSLRQIGQFIRDATADSSLSPVHRSRYVAGSPRAASRGAFGQSPI*\n",
      "Rv3512\n",
      "[3943811, 3944963, 1] (1, 0, [0, 0, 0])\n",
      "alternative 1917\n",
      "[3942159, 3944076, 1] (1.3934022635719856e-06, 4615, [1300, 1625, 1690])\n",
      "VVVVAPAEPAVTAAPPTAAPPGLAGRAAMAAKAATVEQASPAAPPATAAARAAAAERAETRARAAPVPLRAPTVSLAMAATAEMARLVPSASPAQPALATAGMAEPARPAATVEPAVLAVAASTASAAGPEVPAATAATAPSAALAETPVVAEIAAETVGLAERAETPVPVVPRAATAVPSAPTVPAATAATAALPGPPRLAATVGPAPARPAATAAPAAEAAVVAPAATVSVASAAARAATARTAKSAVRAAPAAAGPTPVPAATAGKEVKAAAVVPVGRPGLAAPVAALTAPLATAAKAVPAAPAAPAQPPQLPTAAAAAPAAPEATAAAAAPAAPEAPAAPAGRPATADKVARAAPAAVPVVKVVPAVPAGPAATAAISPAAPRAPRGPPVTAAPPERVAPAAKAAPVAGPGVRVAPAATAVPAAPAATAPSAVARSPPAPVDKAVTLAVVGPAGRVEPTAAAAATAATPAQVAMAVTAATVIPAMAPAALAATVVVVLTVAPAALGAAAAAPAATAALAATPATPATAATATAPATAATAATAASPAWAATAVPGRAAATAATAAAAATAATPAWAATAAPAAATAVPAGTAARRARAAPAATAASPVLAAPAAAVAPAVTAVTAATEQITPQT*\n",
      "Rv3630\n",
      "[4069174, 4070470, 1] (0.9683008257518912, 650, [195, 260, 195])\n",
      "alternative 1149\n",
      "[4069321, 4070470, 1] (6.352566000322746e-05, 130, [65, 0, 65])\n",
      "VIYLAARNLAPNGFSVFGVFWGAFGLVTGAANGLLQETTREVRSLGYLDVSADGRRTHPLRVSGMVGLGSLVVIAGSSPLWSGRVFAEARWLSVALLSIGLAGFCLHATLLGMLAGTNRWTQYGALMVADAVIRVVVAAATFVIGWQLVGFIWATVAGSVAWLIMLMTSPPTRAAARLMTPGATATFLRGAAHSIIAAGASAILVMGFPVLLKLTSNELGAQGGVVILAVTLTRAPLLVPLTAMQGNLIAHFVDERTERIRALIAPAALIGGVGAVGMLAAGVVGPWIMRVAFGSEYQSSSALLAWLTAAAVAIAMLTLTGAAAVAAALHRAYSLGWVGATVGSGLLLLLPLSLETRTVVALLCGPLVGIGVHLVALARTDE*\n"
     ]
    }
   ],
   "source": [
    "out_list = []\n",
    "for i in actual_cds_boundaries:\n",
    "    \n",
    "    if mutation_bin_probability_2(i[1],i[2],i[3])[0] > 0.3:\n",
    "        \n",
    "        temp = df[df['locus'] == i[0]]\n",
    "        if len(temp)== 1:\n",
    "            alt_len = temp.iloc[0]['simulated_end'] - temp.iloc[0]['simulated_start']\n",
    "            if mutation_bin_probability_2(temp.iloc[0]['simulated_start'],temp.iloc[0]['simulated_end'],temp.iloc[0]['simulated_strand'])[0]<0.1 and alt_len > 700 :\n",
    "                print(temp.iloc[0]['locus'])\n",
    "                print ([i[1],i[2],i[3]],mutation_bin_probability_2(i[1],i[2],i[3]))\n",
    "                print (\"alternative\", str(alt_len))\n",
    "                print([temp.iloc[0]['simulated_start'],temp.iloc[0]['simulated_end'],temp.iloc[0]['simulated_strand']], mutation_bin_probability_2(temp.iloc[0]['simulated_start'],temp.iloc[0]['simulated_end'],temp.iloc[0]['simulated_strand']))\n",
    "                out_list.append([temp.iloc[0]['locus'], temp.iloc[0]['annotation_start'], temp.iloc[0]['annotation_end'], temp.iloc[0]['annotation_strand'], temp.iloc[0]['simulated_start'],temp.iloc[0]['simulated_end'],temp.iloc[0]['simulated_strand']])\n",
    "                if temp.iloc[0]['simulated_strand'] == 1:\n",
    "                    print(translate_sequence((full_sequence[temp.iloc[0]['simulated_start']: temp.iloc[0]['simulated_end']])))\n",
    "                else:\n",
    "                    print(translate_sequence(align.reverse_complement(full_sequence[temp.iloc[0]['simulated_start']: temp.iloc[0]['simulated_end']])))\n",
    "tempdf = pd.DataFrame(out_list, columns = ['locus','annotation_start','annotation_end', 'annotation_strand', 'simulated_start', 'simulated_end', 'simulated_strand'])      \n",
    "tempdf.to_csv(cryptic_output_path + '/nick.csv')"
   ]
  },
  {
   "cell_type": "code",
   "execution_count": 108,
   "id": "837a27e2-4660-4f74-a91c-5dce01b326de",
   "metadata": {},
   "outputs": [
    {
     "name": "stdout",
     "output_type": "stream",
     "text": [
      "Rv0002\n"
     ]
    }
   ],
   "source": [
    "print(actual_cds_boundaries[1][0])"
   ]
  },
  {
   "cell_type": "code",
   "execution_count": 111,
   "id": "d812d09f-caef-44a2-b3a9-d2fff71d3390",
   "metadata": {},
   "outputs": [
    {
     "name": "stdout",
     "output_type": "stream",
     "text": [
      "Rv0192A (223998, 224664, 1) 0.0\n",
      "Rv2338c (2614179, 2614656, 1) 2.19824158875781e-12\n",
      "Rv2511 (2827850, 2828252, 1) 1.5087930904655877e-13\n",
      "Rv3333c (3720824, 3721238, 1) 2.220446049250313e-16\n",
      "Rv3428c (3846006, 3846432, 1) 3.840357165918462e-05\n"
     ]
    }
   ],
   "source": [
    "out_list = []\n",
    "for i, (loc_name, x,y, strand) in enumerate((actual_cds_boundaries)):\n",
    "    if i < len(actual_cds_boundaries) - 1:\n",
    "        temp = actual_cds_boundaries[i+1][1]\n",
    "        if temp - y > 400:\n",
    "            res = max_orf(y, temp)\n",
    "            mut_prob = mutation_bin_probability_2(res[0],res[1],res[2])[0]\n",
    "            if mut_prob < 0.01 and res[0] > 0 and res[1] - res[0] > 400:\n",
    "                print(loc_name, res, mut_prob)\n",
    "                out_list.append([loc_name, res[0], res[1], res[2], mut_prob])\n",
    "df=pd.DataFrame(out_list,columns=['locus','start','end','strand','p_value'])"
   ]
  },
  {
   "cell_type": "code",
   "execution_count": 97,
   "id": "2f9f1f2f-f438-4e1d-b9e7-fdfe0a148a54",
   "metadata": {},
   "outputs": [],
   "source": [
    "temp = pd.read_excel(literature_datasets_dir+'/Mycobrowser_Release_4.xlsx')\n",
    "temp = temp[temp['Feature'] == 'CDS'][['Locus','Start','Stop','Strand']]"
   ]
  },
  {
   "cell_type": "code",
   "execution_count": 104,
   "id": "d5c00480-702c-4e17-869d-40ee7f79bfa2",
   "metadata": {},
   "outputs": [],
   "source": [
    "temp = pd.read_excel(literature_datasets_dir+'/Mycobrowser_Release_4.xlsx')\n",
    "temp = temp[temp['Feature'] == 'CDS'][['Locus','Start','Stop','Strand']]\n",
    "actual_cds_boundaries_2 = []\n",
    "for i, r in temp.iterrows():\n",
    "    if r['Strand'] == '+':\n",
    "        strand = 1\n",
    "    else:\n",
    "        strand = -1\n",
    "    actual_cds_boundaries_2.append((r['Locus'],r['Start']-1, r['Stop'], strand))"
   ]
  },
  {
   "cell_type": "code",
   "execution_count": 105,
   "id": "217de3f5-af62-4d76-b495-6ad5142aef0f",
   "metadata": {},
   "outputs": [
    {
     "data": {
      "text/plain": [
       "[('Rv0001', 0, 1524, 1),\n",
       " ('Rv0002', 2051, 3260, 1),\n",
       " ('Rv0003', 3279, 4437, 1),\n",
       " ('Rv0004', 4433, 4997, 1),\n",
       " ('Rv0005', 5239, 7267, 1)]"
      ]
     },
     "execution_count": 105,
     "metadata": {},
     "output_type": "execute_result"
    }
   ],
   "source": [
    "actual_cds_boundaries[0:5]"
   ]
  },
  {
   "cell_type": "code",
   "execution_count": 106,
   "id": "cde5131a-42f6-494c-9cd6-08eb1be7af27",
   "metadata": {},
   "outputs": [
    {
     "data": {
      "text/plain": [
       "[('Rv0001', 0, 1524, 1),\n",
       " ('Rv0002', 2051, 3260, 1),\n",
       " ('Rv0003', 3279, 4437, 1),\n",
       " ('Rv0004', 4433, 4997, 1),\n",
       " ('Rv0005', 5239, 7267, 1)]"
      ]
     },
     "execution_count": 106,
     "metadata": {},
     "output_type": "execute_result"
    }
   ],
   "source": [
    "actual_cds_boundaries_2[0:5]"
   ]
  },
  {
   "cell_type": "code",
   "execution_count": null,
   "id": "489f41a6-8819-4e4b-9c0a-8bfc517af6bf",
   "metadata": {},
   "outputs": [],
   "source": []
  }
 ],
 "metadata": {
  "kernelspec": {
   "display_name": "Python 3 (ipykernel)",
   "language": "python",
   "name": "python3"
  },
  "language_info": {
   "codemirror_mode": {
    "name": "ipython",
    "version": 3
   },
   "file_extension": ".py",
   "mimetype": "text/x-python",
   "name": "python",
   "nbconvert_exporter": "python",
   "pygments_lexer": "ipython3",
   "version": "3.9.7"
  }
 },
 "nbformat": 4,
 "nbformat_minor": 5
}
