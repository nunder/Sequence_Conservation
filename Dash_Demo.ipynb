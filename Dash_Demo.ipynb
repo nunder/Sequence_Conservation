{
 "cells": [
  {
   "cell_type": "code",
   "execution_count": null,
   "id": "442fe7fb-a6d9-46da-9514-6494bc6957cd",
   "metadata": {},
   "outputs": [],
   "source": [
    "from jupyter_dash import JupyterDash\n",
    "import dash_bio as dashbio\n",
    "from dash import html\n",
    "import urllib.request as urlreq\n",
    "from dash.dependencies import Input, Output\n",
    "project_dir = 'F:/Project_Data/E_Pump_Project'\n",
    "import dash"
   ]
  },
  {
   "cell_type": "code",
   "execution_count": null,
   "id": "b9762b8b-2c47-474f-8fe9-c49307a61d55",
   "metadata": {},
   "outputs": [],
   "source": [
    "app = JupyterDash(__name__)\n",
    "\n",
    "#app = dash.Dash(__name__)\n",
    "\n",
    "with open(project_dir + '/align_output_AL123456.3@Rv1063c', 'r') as f:\n",
    "    data2 = f.read()\n",
    "\n",
    "app.layout = html.Div([\n",
    "    dashbio.AlignmentChart(\n",
    "        id='my-default-alignment-viewer',\n",
    "        data=data2,\n",
    "        height=1800,\n",
    "        tilewidth=30,\n",
    "    ),\n",
    "    html.Div(id='default-alignment-viewer-output')\n",
    "])\n",
    "\n",
    "@app.callback(\n",
    "    Output('default-alignment-viewer-output', 'children'),\n",
    "    Input('my-default-alignment-viewer', 'eventDatum')\n",
    ")\n",
    "def update_output(value):\n",
    "    if value is None:\n",
    "        return 'No data.'\n",
    "    return str(value)\n",
    "\n",
    "if __name__ == '__main__':\n",
    "    #app.run_server(mode='jupyterlab', debug=False)\n",
    "    #app.run_server(\"external\")\n",
    "    app.run_server(debug=False)"
   ]
  },
  {
   "cell_type": "code",
   "execution_count": null,
   "id": "22ea7bd6-2788-4623-8c92-3ea3c4dfab3a",
   "metadata": {},
   "outputs": [],
   "source": [
    "with open(project_dir + '/align_output_NC_000962.3@Rv2846c', 'r') as f:\n",
    "    data2 = f.read()\n"
   ]
  },
  {
   "cell_type": "code",
   "execution_count": null,
   "id": "5975b267-bc29-4925-a68f-bd808ff6ff33",
   "metadata": {},
   "outputs": [],
   "source": []
  }
 ],
 "metadata": {
  "kernelspec": {
   "display_name": "Python 3 (ipykernel)",
   "language": "python",
   "name": "python3"
  },
  "language_info": {
   "codemirror_mode": {
    "name": "ipython",
    "version": 3
   },
   "file_extension": ".py",
   "mimetype": "text/x-python",
   "name": "python",
   "nbconvert_exporter": "python",
   "pygments_lexer": "ipython3",
   "version": "3.9.7"
  }
 },
 "nbformat": 4,
 "nbformat_minor": 5
}
