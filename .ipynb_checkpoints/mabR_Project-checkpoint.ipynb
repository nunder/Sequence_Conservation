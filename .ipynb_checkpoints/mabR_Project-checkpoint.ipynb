{
 "cells": [
  {
   "cell_type": "markdown",
   "id": "b1e30ed4-8a0e-4a6f-96eb-dfe116dfb2de",
   "metadata": {},
   "source": [
    "#### Import packages, set directories and parameters"
   ]
  },
  {
   "cell_type": "code",
   "execution_count": 1,
   "id": "cf9c6377-5080-4c22-94db-feabe17cc47c",
   "metadata": {},
   "outputs": [],
   "source": [
    "import pandas as pd\n",
    "import pickle\n",
    "import seaborn as sns\n",
    "import matplotlib.pyplot as plt\n",
    "import numpy as np\n",
    "from Bio import Entrez, SeqIO, AlignIO, pairwise2, Align, Seq, motifs\n",
    "from Bio.Seq import Seq\n",
    "from Bio.SeqFeature import SeqFeature, FeatureLocation\n",
    "import math\n",
    "from tqdm import tqdm\n",
    "from Comparative_Analysis import Utilities as util\n",
    "from joblib import Parallel, delayed\n",
    "from Comparative_Analysis import Blast_Functions as blastfn\n",
    "import time\n",
    "import os\n",
    "import copy\n",
    "from scipy.stats import chi2\n",
    "from Comparative_Analysis import Alignment as alignfn\n",
    "from Bio.Align.Applications import MuscleCommandline\n",
    "import subprocess\n",
    "pd.options.mode.chained_assignment = None  # default='warn'"
   ]
  },
  {
   "cell_type": "code",
   "execution_count": 2,
   "id": "79c1ca3d-a68f-4a9d-a5c4-25df7385b3ad",
   "metadata": {},
   "outputs": [],
   "source": [
    "project_dir = 'F:/Project_Data/mabR_Project'\n",
    "mycobacteria_seq_dir = 'F:/Datasets/NCBI_Refseq_Mycobacteriaceae_Complete_Annot_20230511/data'\n",
    "actinomycetes_seq_dir = 'F:/Datasets/NCBI_Refseq_Actinomycetes_Complete_Annot_20230511/data'\n",
    "tb_species = 'AL123456.3' \n",
    "tb_annotation_dirname = 'GCA_000195955.2'\n",
    "num_cores = 16\n",
    "core_numbers = list(range(1, num_cores+1))\n",
    "muscle_exe = 'C:/Users/nicho/Muscle/muscle3.8.31_i86win32.exe'\n",
    "full_build = False"
   ]
  },
  {
   "cell_type": "code",
   "execution_count": 3,
   "id": "503e82c4-1431-4d17-945f-788c5cc7bb71",
   "metadata": {},
   "outputs": [],
   "source": [
    "def reverse_complement(seq_string):\n",
    "    complement_dict = {'A':'T','C':'G','G':'C','T':'A','N':'N','S':'A','R':'A','Y':'A'}    # Note S\n",
    "    temp = []\n",
    "    for char in reversed(seq_string):\n",
    "        temp.append(complement_dict[char])\n",
    "    return ''.join(temp)"
   ]
  },
  {
   "cell_type": "markdown",
   "id": "9ee7b780-b0b1-4ada-aa73-94dc320fb8c4",
   "metadata": {},
   "source": [
    "#### Check files where no genomic file downloaded from NCBI"
   ]
  },
  {
   "cell_type": "code",
   "execution_count": 4,
   "id": "a952cd25-6f52-41a8-9bc1-22233f79e27d",
   "metadata": {},
   "outputs": [],
   "source": [
    "def non_empty_directories(num_subsets, subset_num, dir_list, seqdir):\n",
    "    temp = util.chunk_list(dir_list, num_subsets, subset_num)\n",
    "    non_empty_dirs = []\n",
    "    for dirname in temp:\n",
    "            if not(os.path.exists(seqdir + '/' + dirname + '/genomic.gbff')):\n",
    "                continue\n",
    "            else:\n",
    "                non_empty_dirs.append(dirname)\n",
    "    return non_empty_dirs "
   ]
  },
  {
   "cell_type": "code",
   "execution_count": 5,
   "id": "40439141-c290-401a-9644-c3653be333ca",
   "metadata": {},
   "outputs": [],
   "source": [
    "mycobacteria_dirs = []\n",
    "actinomycetes_dirs = []\n",
    "sequence_dirs = util.list_dirs(mycobacteria_seq_dir)\n",
    "parallel_output = Parallel(n_jobs=-1)(delayed(non_empty_directories)(num_cores, core_number, sequence_dirs, mycobacteria_seq_dir) for core_number in core_numbers)\n",
    "for temp in parallel_output:\n",
    "    for x in temp:\n",
    "        mycobacteria_dirs.append(x) \n",
    "sequence_dirs = util.list_dirs(actinomycetes_seq_dir)\n",
    "parallel_output = Parallel(n_jobs=-1)(delayed(non_empty_directories)(num_cores, core_number, sequence_dirs, actinomycetes_seq_dir) for core_number in core_numbers)\n",
    "for temp in parallel_output:\n",
    "    for x in temp:\n",
    "        actinomycetes_dirs.append(x)"
   ]
  },
  {
   "cell_type": "code",
   "execution_count": null,
   "id": "7f27503d-e5a5-41af-9415-4dbcd14444b4",
   "metadata": {},
   "outputs": [],
   "source": [
    "with open(project_dir + '/mycobacteria_dirs.pkl', 'wb') as f:\n",
    "    pickle.dump(mycobacteria_dirs, f) \n",
    "with open(project_dir + '/actinomycetes_dirs.pkl', 'wb') as f:\n",
    "    pickle.dump(actinomycetes_dirs, f) "
   ]
  },
  {
   "cell_type": "code",
   "execution_count": null,
   "id": "1f9007b6-7093-49cf-ac0d-16e9f86f8b97",
   "metadata": {},
   "outputs": [],
   "source": [
    "print(len(mycobacteria_dirs),len(actinomycetes_dirs))"
   ]
  },
  {
   "cell_type": "markdown",
   "id": "198ce0ae-2b01-482b-83cb-93c720537916",
   "metadata": {},
   "source": [
    "#### Create files with all CDS for both mycobacteria and actinobacteria reference sets and create BLAST databases for TB CDS and both reference sets (to do reciprocal best hits)"
   ]
  },
  {
   "cell_type": "code",
   "execution_count": null,
   "id": "6068fd3f-1e3d-4bd4-b1ac-ef4c7a190fd4",
   "metadata": {
    "tags": []
   },
   "outputs": [],
   "source": [
    "def generate_protein_dataset(num_subsets, subset_num, dir_list, seqdir): \n",
    "    sequence_dirs = util.chunk_list(dir_list, num_subsets, subset_num)\n",
    "    all_cds = []\n",
    "    all_tb_cds = []\n",
    "    names = []\n",
    "    sequences = []\n",
    "    locations = []\n",
    "    for dirname in (sequence_dirs):\n",
    "        for genome_record in SeqIO.parse(seqdir + '/' + dirname + '/genomic.gbff', \"genbank\"):\n",
    "            accession_ver = genome_record.annotations['accessions'][0] + '.' + str(genome_record.annotations['sequence_version'])\n",
    "            names.append([accession_ver, genome_record.annotations['organism']])\n",
    "            full_sequence = str(genome_record.seq)\n",
    "            sequences.append([accession_ver, full_sequence])\n",
    "            for feature in genome_record.features:\n",
    "                a = feature.qualifiers\n",
    "                if feature.type == 'CDS' and a.get(\"translation\") != None and a.get(\"locus_tag\") != None:\n",
    "                    locus_tag = a.get(\"locus_tag\")[0]\n",
    "                    accession_locus = accession_ver + '@' + locus_tag\n",
    "                    translation = a.get(\"translation\")[0]\n",
    "                    (start, stop, strand) = (int(feature.location.start), int(feature.location.end), int(feature.location.strand))\n",
    "                    locations.append([accession_locus, (start, stop, strand)])\n",
    "                    all_cds.append([accession_locus, translation])\n",
    "                    if dirname == tb_annotation_dirname:\n",
    "                        all_tb_cds.append([accession_locus, translation])\n",
    "    return (all_cds, all_tb_cds, names, locations, sequences)           "
   ]
  },
  {
   "cell_type": "code",
   "execution_count": null,
   "id": "9e2fbea0-6e4e-46ad-a53c-6475d7e960ae",
   "metadata": {},
   "outputs": [],
   "source": [
    "def generate_upstream_sequence_dataset(num_subsets, subset_num, dir_list, seqdir): \n",
    "    sequence_dirs = util.chunk_list(dir_list, num_subsets, subset_num)\n",
    "    upstream_cds_regions = []\n",
    "    for dirname in (sequence_dirs):\n",
    "        all_features = []\n",
    "        for genome_record in SeqIO.parse(seqdir + '/' + dirname + '/genomic.gbff', \"genbank\"):\n",
    "            accession_ver = genome_record.annotations['accessions'][0] + '.' + str(genome_record.annotations['sequence_version'])\n",
    "            full_sequence = str(genome_record.seq)\n",
    "            len_full_sequence = len(full_sequence)\n",
    "            for feature in genome_record.features:\n",
    "                if feature.type in ['gene', 'source']:\n",
    "                    continue\n",
    "                a = feature.qualifiers\n",
    "                feature_type = feature.type\n",
    "                if a.get(\"locus_tag\") != None:\n",
    "                    locus_tag = a.get(\"locus_tag\")[0]\n",
    "                    accession_locus = accession_ver + '@' + locus_tag\n",
    "                else:\n",
    "                    accession_locus  = ''\n",
    "                (start, stop, strand) = (int(feature.location.start), int(feature.location.end), int(feature.location.strand))\n",
    "                all_features.append([accession_locus, feature_type, start, stop, strand])\n",
    "            # Positive strand upstream \n",
    "            all_features.sort(key = lambda x: x[2])\n",
    "            max_stop = 0\n",
    "            for (accession_locus, feature_type, start, stop, strand) in all_features:\n",
    "                if max_stop < start and feature_type == 'CDS' and strand == 1 and start - max_stop < 100000:    #Avoid joins where biopython interprets inconsistently \n",
    "                    upstream_cds_regions.append([accession_locus, max_stop, start, strand, full_sequence[max_stop: start+3]])\n",
    "                max_stop = max(max_stop, stop)\n",
    "            # Negative strand upstream\n",
    "            all_features.sort(key = lambda x: x[3], reverse = True)\n",
    "            min_start = len(full_sequence)-1\n",
    "            for (accession_locus, feature_type, start, stop, strand) in all_features:\n",
    "                if stop < min_start and feature_type == 'CDS' and strand == -1 and min_start - stop < 100000:\n",
    "                    upstream_cds_regions.append([accession_locus, stop, min_start, strand, reverse_complement(full_sequence[stop-3: min_start])])\n",
    "                min_start = min(min_start, start)\n",
    "    return (upstream_cds_regions)           "
   ]
  },
  {
   "cell_type": "code",
   "execution_count": null,
   "id": "542f0742-7686-4b24-808f-787faa247c21",
   "metadata": {
    "tags": []
   },
   "outputs": [],
   "source": [
    "if full_build == True:\n",
    "    parallel_output = Parallel(n_jobs=-1)(delayed(generate_protein_dataset)(num_cores, core_number, mycobacteria_dirs, mycobacteria_seq_dir) for core_number in core_numbers)\n",
    "    names_dict_1 = {}\n",
    "    locations_dict_1 = {}\n",
    "    sequence_dict_1 = {}\n",
    "    all_cds_1 = []\n",
    "    all_tb_cds_1 = []\n",
    "    for x in parallel_output:\n",
    "        all_cds_1 += x[0]\n",
    "        all_tb_cds_1 += x[1]\n",
    "        for temp in x[2]:\n",
    "            names_dict_1[temp[0]] = temp[1]\n",
    "        for temp in x[3]:\n",
    "            locations_dict_1[temp[0]] = temp[1]\n",
    "        for temp in x[4]:\n",
    "            sequence_dict_1[temp[0]] = temp[1]\n",
    "    with open(project_dir + '/names_dict_1.pkl', 'wb') as f:\n",
    "            pickle.dump(names_dict_1, f) "
   ]
  },
  {
   "cell_type": "code",
   "execution_count": null,
   "id": "f75de3d4-28cf-4873-892c-608a027d57cb",
   "metadata": {
    "tags": []
   },
   "outputs": [],
   "source": [
    "if full_build == True:\n",
    "    parallel_output = Parallel(n_jobs=-1)(delayed(generate_protein_dataset)(num_cores, core_number, actinomycetes_dirs, actinomycetes_seq_dir) for core_number in core_numbers)\n",
    "    names_dict_2 = {}\n",
    "    locations_dict_2 = {}\n",
    "    sequence_dict_2 = {}\n",
    "    all_cds_2 = []\n",
    "    all_tb_cds_2 = []\n",
    "    for x in parallel_output:\n",
    "        all_cds_2 += x[0]\n",
    "        all_tb_cds_2 += x[1]\n",
    "        for temp in x[2]:\n",
    "            names_dict_2[temp[0]] = temp[1]\n",
    "        for temp in x[3]:\n",
    "            locations_dict_2[temp[0]] = temp[1]\n",
    "        for temp in x[4]:\n",
    "            sequence_dict_2[temp[0]] = temp[1]\n",
    "    with open(project_dir + '/names_dict_2.pkl', 'wb') as f:\n",
    "            pickle.dump(names_dict_2, f) "
   ]
  },
  {
   "cell_type": "code",
   "execution_count": null,
   "id": "81888d67-09e0-40e4-8508-c0f1ae994c7c",
   "metadata": {},
   "outputs": [],
   "source": [
    "if full_build == True:\n",
    "    mycobacteria_upstream_dict = {}\n",
    "    actinomycetes_upstream_dict = {}\n",
    "    parallel_output = Parallel(n_jobs=-1)(delayed(generate_upstream_sequence_dataset)(num_cores, core_number, mycobacteria_dirs, mycobacteria_seq_dir) for core_number in core_numbers)\n",
    "    for x in parallel_output:\n",
    "        for n in x:\n",
    "            mycobacteria_upstream_dict[n[0]] = [n[1], n[2], n[3], n[4]]\n",
    "    parallel_output = Parallel(n_jobs=-1)(delayed(generate_upstream_sequence_dataset)(num_cores, core_number, actinomycetes_dirs, actinomycetes_seq_dir) for core_number in core_numbers)\n",
    "    for x in parallel_output:\n",
    "        for n in x:\n",
    "            actinomycetes_upstream_dict[n[0]] = [n[1], n[2], n[3], n[4]]\n",
    "    with open(project_dir + '/mycobacteria_upstream_dict.pkl', 'wb') as f:\n",
    "        pickle.dump(mycobacteria_upstream_dict, f) \n",
    "    with open(project_dir + '/actinomycetes_upstream_dict.pkl', 'wb') as f:\n",
    "        pickle.dump(actinomycetes_upstream_dict, f) "
   ]
  },
  {
   "cell_type": "code",
   "execution_count": null,
   "id": "e554633f-42d0-40c4-9600-a6f7c8ef17c4",
   "metadata": {
    "tags": []
   },
   "outputs": [],
   "source": [
    "if full_build == True:\n",
    "    util.produce_fasta_file(all_cds_1, project_dir + '/mycobacteria_cds.fasta')\n",
    "    util.produce_fasta_file(all_tb_cds_1, project_dir + '/tb_cds.fasta')\n",
    "    util.produce_fasta_file(all_cds_2, project_dir + '/actinomycetes_cds.fasta')\n",
    "    blastfn.build_blast_db(project_dir, 'mycobacteria_cds.fasta', 'Mycobacteria', project_dir + '/BLAST/Mycobacteria')\n",
    "    blastfn.build_blast_db(project_dir, 'tb_cds.fasta', 'all_tb_cds', project_dir + '/BLAST/Tb')\n",
    "    blastfn.build_blast_db(project_dir, 'actinomycetes_cds.fasta', 'Actinomycetes', project_dir + '/BLAST/Actinomycetes')"
   ]
  },
  {
   "cell_type": "code",
   "execution_count": null,
   "id": "c64c685a-3fe4-44e0-a045-59504f7ce64c",
   "metadata": {
    "tags": []
   },
   "outputs": [],
   "source": [
    "if full_build == True:\n",
    "    blastfn.run_blastp(project_dir + '/BLAST/Mycobacteria', 'tb_cds.fasta', 'Mycobacteria', 'tb_mycobacteria_hits.csv', e_value = 1e-10)\n",
    "    blastfn.run_blastp(project_dir + '/BLAST/Tb', 'mycobacteria_cds.fasta', 'all_tb_cds', 'mycobacteria_tb_hits.csv', e_value = 1e-10)\n",
    "    a = blastfn.process_blast_output(project_dir + '/BLAST/Mycobacteria/tb_mycobacteria_hits.csv', names_dict_1, top_hit_only = False)\n",
    "    a = a.loc[a.groupby(['query_ref','target_species_name'])['bit_score'].idxmax()]     # Utility top hit method uses accession ver which can differ if multiple sets exist per species in fragmented annotations\n",
    "    b = blastfn.process_blast_output(project_dir + '/BLAST/Tb/mycobacteria_tb_hits.csv', names_dict_1, top_hit_only = False)\n",
    "    b = b.loc[b.groupby(['query_ref','target_species_name'])['bit_score'].idxmax()] \n",
    "    rbh =  blastfn.keep_reciprocal_best_hits(a, b)\n",
    "    rbh.to_csv(project_dir + '/tb_mycobacteria_reciprocal_best_hits.csv')"
   ]
  },
  {
   "cell_type": "code",
   "execution_count": null,
   "id": "9aaf6f56-f9f1-4761-a909-bacf02ac47f4",
   "metadata": {
    "tags": []
   },
   "outputs": [],
   "source": [
    "if full_build == True:\n",
    "    blastfn.run_blastp(project_dir + '/BLAST/Actinomycetes', 'tb_cds.fasta', 'Actinomycetes', 'tb_actinomycetes_hits.csv', e_value = 1e-10)\n",
    "    blastfn.run_blastp(project_dir + '/BLAST/Tb', 'actinomycetes_cds.fasta', 'all_tb_cds', 'actinomycetes_tb_hits.csv', e_value = 1e-10)\n",
    "    a = blastfn.process_blast_output(project_dir + '/BLAST/Actinomycetes/tb_actinomycetes_hits.csv', names_dict_2, top_hit_only = False)\n",
    "    a = a.loc[a.groupby(['query_ref','target_species_name'])['bit_score'].idxmax()]     # Utility top hit method uses accession ver which can differ if multiple sets exist per species in fragmented annotations\n",
    "    b = blastfn.process_blast_output(project_dir + '/BLAST/Tb/actinomycetes_tb_hits.csv', names_dict_2, top_hit_only = False)\n",
    "    b = b.loc[b.groupby(['query_ref','target_species_name'])['bit_score'].idxmax()] \n",
    "    rbh_2 =  blastfn.keep_reciprocal_best_hits(a, b)\n",
    "    rbh_2.to_csv(project_dir + '/tb_actinomycetes_reciprocal_best_hits.csv')"
   ]
  },
  {
   "cell_type": "markdown",
   "id": "c62ab102-796e-4af7-a58b-3111e917ea21",
   "metadata": {},
   "source": [
    "#### Function to generate FASTA file containing intergenic regions in orthologous species and run Muscle / R-scape"
   ]
  },
  {
   "cell_type": "code",
   "execution_count": 6,
   "id": "7452ef50-1879-4ac8-8106-25c89e82a366",
   "metadata": {},
   "outputs": [],
   "source": [
    "if not(full_build == True):\n",
    "    with open(project_dir + '/names_dict_1.pkl', 'rb') as f:\n",
    "        names_dict_1 = pickle.load(f)\n",
    "    with open(project_dir + '/names_dict_2.pkl', 'rb') as f:\n",
    "        names_dict_2 = pickle.load(f)\n",
    "    with open(project_dir + '/mycobacteria_dirs.pkl', 'rb') as f:\n",
    "        mycobacteria_dirs = pickle.load(f) \n",
    "    with open(project_dir + '/actinomycetes_dirs.pkl', 'rb') as f:\n",
    "         actinomycetes_dirs = pickle.load(f)  \n",
    "    with open(project_dir + '/mycobacteria_upstream_dict.pkl', 'rb') as f:\n",
    "        mycobacteria_upstream_dict = pickle.load(f) \n",
    "    with open(project_dir + '/actinomycetes_upstream_dict.pkl', 'rb') as f:\n",
    "        actinomycetes_upstream_dict = pickle.load(f) \n",
    "    tb_mycobacteria_rbh = pd.read_csv(project_dir + '/tb_mycobacteria_reciprocal_best_hits.csv')\n",
    "    tb_actinomycetes_rbh = pd.read_csv(project_dir + '/tb_actinomycetes_reciprocal_best_hits.csv')"
   ]
  },
  {
   "cell_type": "code",
   "execution_count": 45,
   "id": "11c06384-3c27-4a95-ac4c-cfd218c8cbba",
   "metadata": {},
   "outputs": [],
   "source": [
    "def align_upstream_regions(locus, comparison_type): # 1 = mycobacteria, #2 = actinomycetes\n",
    "    if comparison_type == 1:\n",
    "        comparison_df = tb_mycobacteria_rbh\n",
    "        comparison_dict = mycobacteria_upstream_dict\n",
    "        name_dict = names_dict_1\n",
    "        prefix = 'mycobacteria'\n",
    "    else:\n",
    "        comparison_df = tb_actinomycetes_rbh\n",
    "        comparison_dict = actinomycetes_upstream_dict\n",
    "        prefix = 'actinomycetes'\n",
    "        name_dict = names_dict_2\n",
    "    intergenic_regions = []\n",
    "    target_locus = tb_species + '@' + locus\n",
    "    hits = comparison_df[comparison_df['query_ref'] == target_locus]\n",
    "    hits = hits[hits['percent_identical_matches'] > 40]\n",
    "    tb_hit = 0\n",
    "    for i, r in hits.iterrows():\n",
    "        target_ref = r['target_ref']\n",
    "        if target_ref in comparison_dict:\n",
    "            upstream_region = comparison_dict[target_ref][3]\n",
    "            if len(upstream_region) > 8:\n",
    "                if tb_species in target_ref:\n",
    "                    tb_hit = 1\n",
    "                intergenic_regions.append([name_dict[target_ref.split('@')[0], upstream_region])\n",
    "    if len(intergenic_regions) > 10 and tb_hit == 1:    \n",
    "        results_dir = project_dir + '/Intergenic_Regions/' + locus\n",
    "        if not os.path.exists(results_dir):\n",
    "            os.makedirs(results_dir)\n",
    "        util.produce_fasta_file(intergenic_regions, results_dir +'/'+prefix+'_intergenic_regions.fasta')\n",
    "        cline = MuscleCommandline(muscle_exe, input= results_dir +'/'+prefix + '_intergenic_regions.fasta', out = results_dir + '/' + prefix + '_upstream_region_'+locus + '_alignment.fasta')\n",
    "        exception = 0\n",
    "        try:\n",
    "            stdout, stderr = cline()\n",
    "        except Exception as e:\n",
    "            exception == 1\n",
    "        #if exception == 0 and comparison_type == 2:\n",
    "        #    blastfn.convert_fasta_to_stockholm(results_dir, prefix + '_upstream_region_'+locus + '_alignment.fasta', prefix + '_upstream_region_'+locus + '_alignment.sto')\n",
    "        #    blastfn.run_rscape(results_dir, prefix + '_upstream_region_'+locus + '_alignment.sto', 'rscape_')\n"
   ]
  },
  {
   "cell_type": "code",
   "execution_count": 50,
   "id": "ff04784c-209b-4d03-8860-4375bf080e68",
   "metadata": {},
   "outputs": [
    {
     "data": {
      "text/plain": [
       "{'AL123456.3': 'Mycobacterium tuberculosis H37Rv',\n",
       " 'CP104302.1': 'Mycolicibacterium brumae',\n",
       " 'LT906483.1': 'Mycolicibacterium thermoresistibile',\n",
       " 'LT906469.1': 'Mycolicibacter terrae',\n",
       " 'LR130759.1': 'Mycobacterium basiliense',\n",
       " 'LR026975.1': 'Mycolicibacterium hassiacum DSM 44199',\n",
       " 'LR134356.1': 'Mycolicibacterium aurum',\n",
       " 'LR134355.1': 'Mycolicibacterium chitae',\n",
       " 'CP092365.1': 'Mycolicibacillus parakoreensis',\n",
       " 'CP092366.2': 'Mycolicibacillus parakoreensis',\n",
       " 'CP092427.2': 'Mycobacterium rufum',\n",
       " 'CP092428.2': 'Mycobacterium rufum',\n",
       " 'CP103313.1': 'Mycobacterium rufum',\n",
       " 'CP092430.2': 'Mycolicibacter virginiensis',\n",
       " 'CP092488.2': 'Mycobacterium paraterrae',\n",
       " 'CP097320.1': 'Candidatus Mycobacterium methanotrophicum',\n",
       " 'CP097321.1': 'Candidatus Mycobacterium methanotrophicum',\n",
       " 'CP092362.2': 'Mycolicibacterium crocinum',\n",
       " 'CP092363.2': 'Mycolicibacterium crocinum',\n",
       " 'CP103314.1': 'Mycolicibacterium crocinum',\n",
       " 'CP092364.2': 'Mycobacterium goodii',\n",
       " 'CP085200.1': 'Mycobacterium ulcerans',\n",
       " 'CP085201.1': 'Mycobacterium ulcerans',\n",
       " 'CP085945.1': 'Mycobacterium intracellulare',\n",
       " 'CP085946.1': 'Mycobacterium intracellulare',\n",
       " 'CP089224.1': 'Mycobacterium ostraviense',\n",
       " 'CP080997.1': 'Mycolicibacter heraklionensis',\n",
       " 'CP080998.1': 'Mycolicibacterium holsaticum DSM 44478 = JCM 12374',\n",
       " 'CP080999.1': 'Mycobacterium malmoense',\n",
       " 'CP081000.1': 'Mycolicibacterium senegalense',\n",
       " 'CP081673.1': 'Mycolicibacterium farcinogenes',\n",
       " 'CP081674.1': 'Mycolicibacterium farcinogenes',\n",
       " 'CP081675.1': 'Mycolicibacterium farcinogenes',\n",
       " 'CP081676.1': 'Mycolicibacterium farcinogenes',\n",
       " 'AP024251.1': 'Mycobacterium paraintracellulare',\n",
       " 'AP024252.1': 'Mycobacterium paraintracellulare',\n",
       " 'AP024310.1': 'Mycobacterium heckeshornense',\n",
       " 'CP046600.1': 'Mycobacterium spongiae',\n",
       " 'CP074376.1': 'Mycolicibacterium neoaurum',\n",
       " 'CP080332.1': 'Mycolicibacterium diernhoferi',\n",
       " 'CP080333.1': 'Mycolicibacterium pallens',\n",
       " 'CP080334.1': 'Mycolicibacterium pallens',\n",
       " 'CP080335.1': 'Mycolicibacterium pallens',\n",
       " 'AP022593.1': 'Mycolicibacterium arabiense',\n",
       " 'AP022592.1': 'Mycolicibacterium arabiense',\n",
       " 'AP022594.1': 'Mycolicibacillus koreensis',\n",
       " 'AP022620.1': 'Mycolicibacterium anyangense',\n",
       " 'AP022595.1': 'Mycolicibacterium sarraceniae',\n",
       " 'AP022596.1': 'Mycolicibacterium helvum',\n",
       " 'CP059165.1': 'Mycobacterium vicinigordonae',\n",
       " 'AP022587.1': 'Mycobacterium stomatepiae',\n",
       " 'AP022588.1': 'Mycolicibacterium sediminis',\n",
       " 'AP022589.1': 'Mycolicibacter minnesotensis',\n",
       " 'AP022590.1': 'Mycobacterium mantenii',\n",
       " 'AP022591.1': 'Mycolicibacterium celeriflavum',\n",
       " 'AP022617.1': 'Mycolicibacterium monacense',\n",
       " 'AP022582.1': 'Mycobacterium seoulense',\n",
       " 'AP022618.1': 'Mycolicibacterium insubricum',\n",
       " 'AP022583.1': 'Mycobacterium noviomagense',\n",
       " 'AP022619.1': 'Mycobacterium paraseoulense',\n",
       " 'AP022586.1': 'Mycolicibacterium litorale',\n",
       " 'AP022576.1': 'Mycobacterium florentinum',\n",
       " 'AP022614.1': 'Mycobacterium parmense',\n",
       " 'AP022615.1': 'Mycobacterium heidelbergense',\n",
       " 'AP022616.1': 'Mycolicibacterium phocaicum',\n",
       " 'AP022579.1': 'Mycolicibacterium boenickei',\n",
       " 'AP022580.1': 'Mycolicibacterium boenickei',\n",
       " 'AP022581.1': 'Mycobacterium lacus',\n",
       " 'AP022609.1': 'Mycolicibacter hiberniae',\n",
       " 'AP022610.1': 'Mycolicibacterium madagascariense',\n",
       " 'AP022611.1': 'Mycolicibacterium madagascariense',\n",
       " 'AP022612.1': 'Mycolicibacterium confluentis',\n",
       " 'AP022575.1': 'Mycobacterium shinjukuense',\n",
       " 'AP022613.1': 'Mycobacterium conspicuum',\n",
       " 'AP022572.1': 'Mycobacterium shottsii',\n",
       " 'AP022606.1': 'Mycobacterium branderi',\n",
       " 'AP022607.1': 'Mycobacterium branderi',\n",
       " 'AP022608.1': 'Mycolicibacterium gadium',\n",
       " 'AP022573.1': 'Mycobacterium saskatchewanense',\n",
       " 'AP022574.1': 'Mycolicibacterium psychrotolerans',\n",
       " 'AP022565.1': 'Mycolicibacterium alvei',\n",
       " 'AP022566.1': 'Mycolicibacterium alvei',\n",
       " 'AP022567.1': 'Mycolicibacterium mageritense',\n",
       " 'AP022568.1': 'Mycobacterium simiae',\n",
       " 'AP022569.1': 'Mycobacterium cookii',\n",
       " 'AP022605.1': 'Mycobacterium doricum',\n",
       " 'AP022570.1': 'Mycolicibacterium poriferae',\n",
       " 'AP022571.1': 'Mycolicibacterium poriferae',\n",
       " 'AP022600.1': 'Mycolicibacterium tokaiense',\n",
       " 'AP022560.1': 'Mycolicibacterium moriokaense',\n",
       " 'AP022561.1': 'Mycolicibacterium aichiense',\n",
       " 'AP022562.1': 'Mycobacterium novum',\n",
       " 'AP022563.1': 'Mycolicibacterium duvalii',\n",
       " 'AP022603.1': 'Mycolicibacterium fallax',\n",
       " 'CP024633.1': 'Mycobacteroides salmoniphilum',\n",
       " 'CP062008.1': 'Mycolicibacterium mucogenicum DSM 44124',\n",
       " 'CP043474.1': 'Mycobacterium grossiae',\n",
       " 'CP043475.1': 'Mycobacterium grossiae',\n",
       " 'AP022598.1': 'Mycolicibacterium parafortuitum',\n",
       " 'AP022599.1': 'Mycolicibacterium pulveris',\n",
       " 'AP018164.1': 'Mycobacterium shigaense',\n",
       " 'AP018165.1': '[Mycobacterium] stephanolepidis',\n",
       " 'CP029543.1': 'Mycobacterium leprae',\n",
       " 'AP018410.1': 'Mycobacterium pseudoshottsii JCM 15466',\n",
       " 'CP025546.1': 'Mycobacterium paragordonae',\n",
       " 'CP025547.1': 'Mycobacterium paragordonae',\n",
       " 'CP025548.1': 'Mycobacterium paragordonae',\n",
       " 'CP025549.1': 'Mycobacterium paragordonae',\n",
       " 'CP025550.1': 'Mycobacterium paragordonae',\n",
       " 'CP034181.1': 'Mycobacteroides abscessus',\n",
       " 'CP034180.1': 'Mycobacteroides abscessus',\n",
       " 'CP011530.1': 'Mycobacteroides immunogenum',\n",
       " 'CP007220.1': 'Mycobacteroides chelonae CCUG 47445',\n",
       " 'CP011491.1': 'Mycolicibacterium vaccae 95051',\n",
       " 'CP020809.1': 'Mycobacterium dioxanotrophicus',\n",
       " 'CP020810.1': 'Mycobacterium dioxanotrophicus',\n",
       " 'CP020811.1': 'Mycobacterium dioxanotrophicus',\n",
       " 'CP020812.1': 'Mycobacterium dioxanotrophicus',\n",
       " 'CP020813.1': 'Mycobacterium dioxanotrophicus',\n",
       " 'CP023147.1': 'Mycobacterium marseillense',\n",
       " 'CP023148.1': 'Mycobacterium marseillense',\n",
       " 'CP002329.1': 'Mycolicibacter sinensis',\n",
       " 'HE572590.1': 'Mycobacterium canettii CIPT 140010059',\n",
       " 'CP011883.2': 'Mycobacterium haemophilum DSM 44634',\n",
       " 'HG917972.2': 'Mycobacterium marinum E11',\n",
       " 'HG917973.1': 'Mycobacterium marinum E11',\n",
       " 'CP083405.1': 'Mycobacterium lepromatosis',\n",
       " 'CP011269.1': 'Mycolicibacterium fortuitum',\n",
       " 'CP010271.1': 'Mycobacteroides saopaulense',\n",
       " 'CP000511.1': 'Mycolicibacterium vanbaalenii PYR-1',\n",
       " 'CP006835.1': 'Mycobacterium kansasii ATCC 12478',\n",
       " 'CP006836.1': 'Mycobacterium kansasii ATCC 12478',\n",
       " 'CP002385.1': 'Mycolicibacterium gilvum Spyr1',\n",
       " 'CP002386.1': 'Mycolicibacterium gilvum Spyr1',\n",
       " 'CP002387.1': 'Mycolicibacterium gilvum Spyr1'}"
      ]
     },
     "execution_count": 50,
     "metadata": {},
     "output_type": "execute_result"
    }
   ],
   "source": []
  },
  {
   "cell_type": "code",
   "execution_count": 46,
   "id": "a0bf0ad6-cbdb-4572-8eed-63a026550504",
   "metadata": {},
   "outputs": [],
   "source": [
    "downreg_genes = pd.read_excel(project_dir + '/2022-10-02_data.xlsx', sheet_name = 'significnat genes downregulated')\n",
    "downreg_gene_list = []\n",
    "for i, r in downreg_genes.iterrows():\n",
    "    downreg_gene_list.append(r['Locus'])"
   ]
  },
  {
   "cell_type": "code",
   "execution_count": null,
   "id": "b5e5ab58-ec27-4cc6-ba2b-9deb6922673c",
   "metadata": {},
   "outputs": [],
   "source": [
    "for locus in downreg_gene_list:\n",
    "    align_upstream_regions(str(locus), 1)\n",
    "    #align_upstream_regions(str(locus), 2)"
   ]
  },
  {
   "cell_type": "code",
   "execution_count": 48,
   "id": "3556711a-e9b6-4fea-8d6a-6a739ed2b186",
   "metadata": {},
   "outputs": [
    {
     "name": "stderr",
     "output_type": "stream",
     "text": [
      "100%|██████████| 68/68 [00:00<00:00, 68.82it/s]\n"
     ]
    }
   ],
   "source": [
    "mave_len = 10\n",
    "id_re = []\n",
    "seq_ids = util.list_dirs(project_dir + '/Intergenic_Regions')\n",
    "out_list = []\n",
    "consensus_dict = {}\n",
    "for id in tqdm(seq_ids):\n",
    "    if os.path.exists(project_dir + '/Intergenic_Regions/'+str(id)+ '/mycobacteria_upstream_region_'+str(id) + '_alignment.fasta'):\n",
    "        alignment = util.read_fasta_to_array(project_dir + '/Intergenic_Regions/' + str(id)+ '/mycobacteria_upstream_region_'+str(id) + '_alignment.fasta')\n",
    "        sequences_in_alignment = len(alignment[0])\n",
    "        alignment_length = len(alignment[1][0])\n",
    "        for j, name in enumerate(alignment[0]):\n",
    "            if tb_species in name:\n",
    "                tb_index = j\n",
    "                break\n",
    "        if sequences_in_alignment < 20:\n",
    "            continue\n",
    "        pct_identity = []\n",
    "        consensus = []\n",
    "        for i in range(alignment_length):\n",
    "            temp = []\n",
    "            for j in range(sequences_in_alignment):\n",
    "                temp.append(alignment[1][j][i])\n",
    "            match_found = 0\n",
    "            mac_pct_id = 0\n",
    "            for letter in ['A','C','G','T']:\n",
    "                if temp.count(letter) / sequences_in_alignment >= 0.8:\n",
    "                    match_found = 1\n",
    "                    consensus.append(letter)\n",
    "                    break\n",
    "            if match_found == 0:\n",
    "                consensus.append('*')\n",
    "        consensus_dict[id] = consensus    \n",
    "        #print(consensus[410:])\n",
    "        re = (alignfn.relative_entropy(alignment[1]))\n",
    "        mave_re = []\n",
    "        for i in range(len(re[0])-mave_len):\n",
    "            temp = re[0][i:i+mave_len]\n",
    "            mave_re.append(sum(temp)/len(temp))\n",
    "        max_re = -999\n",
    "        max_re_pos = 0\n",
    "        if len(mave_re) == 0:\n",
    "            continue\n",
    "        for i in range(len(re[0])-mave_len):\n",
    "            if mave_re[i] > max_re:\n",
    "                max_re = mave_re[i]\n",
    "                max_re_pos = i\n",
    "        id_re.append([id, max_re, ''.join(consensus_dict[id][max_re_pos: max_re_pos + mave_len]), ''.join(consensus_dict[id]), len(consensus_dict[id]), len([x for x in re[0] if x > 1.9]), \n",
    "                      sequences_in_alignment, alignment[1][tb_index][max_re_pos: max_re_pos + mave_len]])"
   ]
  },
  {
   "cell_type": "code",
   "execution_count": 49,
   "id": "7aed19aa-916b-42c5-9bf8-233f84fe8838",
   "metadata": {},
   "outputs": [],
   "source": [
    "a =[x for x in id_re if x[1] > -11111.9]\n",
    "#a.sort(key = lambda x: x[0])\n",
    "a = pd.DataFrame(a, columns = ['Downstream CDS', 'Maximum_Moving_Ave_RE', 'Max_Region_Consensus_Sequence','Full_Consensus','Intergenic_Region_TB_Length','Num_positions_gt_90_ID', 'Num_Seq_in_alignement','TB_Sequence'])\n",
    "a.to_csv(project_dir +'/high_re_areas.csv')"
   ]
  },
  {
   "cell_type": "code",
   "execution_count": 42,
   "id": "ad181a34-0259-4153-bc67-5865e08a8ca4",
   "metadata": {},
   "outputs": [
    {
     "name": "stdout",
     "output_type": "stream",
     "text": [
      "AL123456.3@Rv2242 CGCCGGCGAGCCGACCGCCTTTGGCCGAATCTTCCAGAAATCTGGCGTAGCTTTTAGGAGTG\n",
      "AL123456.3@Rv0096 CTTTCCTGGGCGCGATGGGAACTTTCTGCCCGTTATGGCCGACTAACACCGCGGGTGAAGCAAAGCGCTGCCTAGGCAAGGAGGTGAGTCCTGGCGGCCACGATATGGATG\n",
      "AL123456.3@Rv2245 not in there\n",
      "AL123456.3@Rv0097 ACAAGGAGAAAAGAACCGATG\n",
      "AL123456.3@Rv0360c GGGTGCTGCTGTCCTCCCGGTATCGAGTGGCTCTTTGGAGCTTAGCGACCCAGCCTTCGGTTGGCCCCATCGTCGAGGTGACGTG\n",
      "AL123456.3@Rv3149 not in there\n",
      "AL123456.3@Rv2244 CCGCGGACTCGGCCAGAACAACCACATACCCGTCAGTTCGATTTGTACACAACATATTACGAAGGGAAGCATGCTGTG\n",
      "AL123456.3@Rv3145 AGCTCCCGTCCTTCCGCTTCGCTGCTCGATGCCACGCCGACCTCAATACGGCCAACGATTAACCGGCAAATGCCGAGATTAACAACAAATGCTGCGCTTATCAGGGGGTTAGACCAACATTCATACAATTCGCCGGGACGCGCAATCCCCAGTTTTGCTTCGCAGCGACCGACGCCGGACCCAGCCACGGGTTCTGCTTCGACTCGCACAGGTATGCACCAGCCTGACCCCGGGAATGTGGGGTGGCCGTTGCGCGACTATGTTGAAGGTCACTGTGACGGCCCGAAGCCCCGGTTCGTCACGGCAGCCCGGTCACCGCCCGGCCGCCGCGCTGGCGGCCCCGTACGACGGATCATGGAGCGAGTTG\n",
      "AL123456.3@Rv1158c CACTCGGGTGCCCGGTCACCACAACCACTCGTATCCGTAACAATCACATAAATGCCACACGTGTCACTTGAGTCACATCTGCACCGCGATACGTTCGGCGAGACCCGTCACCGCTAACCAGGGAGAGACATG\n",
      "AL123456.3@Rv3139 ACAACTTAACAAGCACCCCTATCTTACTCCGGAGTAAGATAGGGTGGTCCGCTATCACCCCGATGACCGAGGCTGCCGTATG\n",
      "AL123456.3@Rv3775 ACCCGGCGACCATG\n",
      "AL123456.3@Rv1754c GGCTCGAGGAACTCAAATCCGGTCAGGTACACGGTATTCCGTGCGGACCCGATCCAGGGACCGGGTAGCGATTGCCAGAGCCACACCTTGTTGACCTGTCCGGGCGACAGTGGACGCAAATTGATCGGATCGTCGATGTTCGGCACCGGTGGTCGTGGTATCCGCGGCCCCGATGGGCCTTGAATG\n",
      "AL123456.3@Rv2246 AGCACGACATCGCGGGTCGCGAGGCCCGAGGTG\n",
      "AL123456.3@Rv3147 not in there\n",
      "AL123456.3@Rv3150 not in there\n",
      "AL123456.3@Rv2243 AGCATCGACAGCAATGCCGTGTCATAGATTCCCTCGCCGGTCAGAGGGGGTCCAGCAGGGGCCCCGGAAAGATACCAGGGGCGCCGTCGGACGGAAAGTGATCCAGACAACAGGTCGCGGGACGATCTCAAAAACATAGCTTACAGGCCCGTTTTGTTGGTTATATACAAAAACCTAAGACGAGGTTCATAATCTGTTACACCGCGCAAAACCGTCTTCACAGTGTTCTCTTAGACACGTG\n",
      "AL123456.3@Rv1687c CAGAGACGATTGTGCACCGGCCCTTGACAAACCCGCACGACTGGCGGATATTCATCACATG\n",
      "AL123456.3@Rv1686c CGCTGCAGAACTACACGGCCACTACGGCGCGGATTCTCCGGCAGCTTGCCGCTGATCACCGCAGTGTCGCGATG\n",
      "AL123456.3@Rv0753c CGCTTACCCCCGGGTGTTGTCGCGTACTAGCCATGATGGAGCGCAGCGCCGGAACAGATGCGGGTATCGGCCAAAATGCAACGAGCATCCAAGCGTCTCCCGCTAGGACGCTGTCGGCTCGGTCGCCTTGCGAGCCATCCGCCACAGTTACTAGGATATCCAAGTATCGGGATTCCCCGCCGCCACCGGCTTGCACAGGACAACCATG\n",
      "AL123456.3@Rv0171 not in there\n",
      "AL123456.3@Rv0173 not in there\n",
      "AL123456.3@Rv2247 ACCCCAGCGTTACGCGACAGGAGACCTGCGATG\n",
      "AL123456.3@Rv0860 CAGCATG\n",
      "AL123456.3@Rv1815 CGTCGCGACCCGACATTGCGAAAGTATTACCGTCGGGTTTTGGTACGCCTTAGCCGTAACCGGCGGCGGGCGATGCGCTTGGCCCCGACGGATGGGAGTTCAAGGTG\n",
      "AL123456.3@Rv0242c TGTTTTCTCCGTTGATCAGTTCGGGGGATCGGCCGTTGAGGGCCATACTACCCACTGTTCTTACTCTGAAGTAAGTTAGTCCTCGATACGGTTACGTGTATTGGCGCGCCCGACCCCCACACGATACGGAAGGCAGCTGAAGTG\n",
      "AL123456.3@Rv0654 CCTTGCCATGTTCTCACCAAGGGCGTACCGTTCCAATATCAGTGAAATAACAATGTTATAGGAGATCGGCATG\n",
      "AL123456.3@Rv1400c CGCGTGCCCGGTCAACTCGCTGCCCGGTGGCAAGCGCAATGCGATCACGGTCAAGTACACGCCGTAGGCGAGGCCCGCCCAGCCGGCGACCACCCAGCCGCCGGCCAGCAAGCGAGGTGCGTACGGTACCGGTATG\n",
      "AL123456.3@Rv1884c TCAATCCGGTTGTG\n",
      "AL123456.3@Rv3760 GCAGTTGACACTATCGTCAGCGGCGGCGCCGTGCTTCCACAACTCGGCATGTACTGGGATTTTTCCGGCGTGGTTTGGTTTCATTCTGTGTGGGATAGGACAAAAATGGTGTCATGACCAGCAATCCCTCTTCCTCGGCTGATCAACCACTCAGCGGTACAACGGTG\n",
      "AL123456.3@Rv3028c GACATACGCACCTCCCAAAGACGAGAGCGATATAACCCATG\n",
      "AL123456.3@nan not in there\n",
      "AL123456.3@Rv3151 not in there\n",
      "AL123456.3@Rv0287 CCGAATTCCGAATCACGTGGACCCGTACGGGTCGAAAGGAGAGATGTTATG\n",
      "AL123456.3@Rv0106 GGCGAACCTCCTCCCGGACCAGCCTGTTGAAAATAGTTTTCGACAACCGTTGCACGGCACGGTAGCGTGGGTGCAGTTTAATGGCAATCATTTTCAATAAGGTTTGGCGATG\n",
      "AL123456.3@Rv1426c not in there\n",
      "AL123456.3@Rv3156 CGACGCCACCGTG\n",
      "AL123456.3@Rv1070c AGAGGTAGCGCATG\n",
      "AL123456.3@Rv3154 not in there\n",
      "AL123456.3@Rv0099 TCCAATG\n",
      "AL123456.3@Rv0289 CTCGCGCTACATG\n",
      "AL123456.3@Rv0169 CCGCATG\n",
      "AL123456.3@Rv0243 TTCAGCTGCCTTCCGTATCGTGTGGGGGTCGGGCGCGCCAATACACGTAACCGTATCGAGGACTAACTTACTTCAGAGTAAGAACAGTGGGTAGTATGGCCCTCAACGGCCGATCCCCCGAACTGATCAACGGAGAAAACAGTG\n",
      "AL123456.3@Rv1427c GCCATG\n",
      "AL123456.3@Rv0440 GGGCCGAACATACTCACCCGGATCGGAGGGCCGAGGACACGGTCGAACGAGGGGCATGACCCGGTGCGGGGCTTCTTGCACTCGGCATAGGCGAGTGCTAAGAATAACGTTGGCACTCGCGACCGGTGAGTGCTAGGTCGGGACGGTGAGGCCAGGCCCGTCGTCGCAGCGAGTGGCAGCGAGGACAACTTGAGCCGTCCGTCGCGGGCACTGCGCCCGGCCAGCGTAAGTAGCGGGGTTGCCGTCACCCGGTGACCCCCGTTTCATCCCCGATCCGGAGGAATCACTTCGCAATG\n",
      "AL123456.3@Rv3774 ACTGGCCACGCTACGGTCTGGGCATG\n",
      "AL123456.3@Rv0651 TGCCGATTGTGAATCTGGCGACGCGACACGCCGGTGCGGCGTCGCGGGATTCACACTCGGCGATACGTGTCGCCGTTTTGGCTGACCGGACCGGGCCAGGCTATTGTGGTTGCCGATCCACCGAAGACCGTCGGTCACCGAGCAATCGGTTGAAGGTCCGGGAGCATCCCGGCGACCCACGCAGGAGGACGAGGCAGCACCGCCGGCGCGCGCCGGCCTAGTTCCACGCCCCGACCGCTTCCTGCGTCGGGGCGTTCGTCGTTCCCGGGTGGTCGCAGACGGCACGTCGTACCCCGACTGCCACCAGACTTGCACCGTCAGGAGGTATGCATG\n",
      "AL123456.3@Rv3318 not in there\n",
      "AL123456.3@Rv0241c GGGGACAGTAGTG\n",
      "AL123456.3@Rv3792 GTATG\n",
      "AL123456.3@Rv0896 ACGGACGCCGCGAGTCATCACCCGGCCGAGCGCGCAGCGGCTTACCTTACGCGCGGCCGCCCATGGTGCCAGAGACCCCACCCCGGGCAGGCGGGTCATCCCGATAGCGACTACCTTCAGCTATAAGCACTTAGTGGGGCAGCCATATCAGCCAAAGCGCGAAGGGGTTCTCGTG\n",
      "AL123456.3@Rv3763 TACATTGCCACTACTACGGTGCACGCCGGTAGATGCCGTTGGCGAACCACGCTACCGACCAGAAAGAGAGAATTTTCCGCCGCACCTAGACCTCGGGCCCTGCTAACGCGCATACTGCCGAAGCGGTCCTCAATGCCGATGGACCGCTACGACAGGCAAAGGAGCACAGGGTG\n",
      "AL123456.3@Rv3153 not in there\n",
      "AL123456.3@Rv0853c GGCCGCACGATAGCGAATCGGCGTCCAGTCGGGAATAGCCGCAATCCGGCGTACGGTCGTCTTCGTG\n",
      "AL123456.3@Rv3224 CTTGATTAACTGGGTCCCTTCGTTTGCGGTGTCGCCGGACAGCACCGGCGCGGACACCGGACGTGCGAGCATGCGAGCCAACCGCTTCTCACCCAACAGGCTCGTCGCCGTTGACACCAGACTCCCCTCGTCCCAATGTAGAGGCCGCGACCGACACTGTCTGCACCGGTCTGGCCAGCCACGTGGCTGCAGGAACCGAACCAATCAACCGTGTTCGCCAGCGGGTTATTTCCAGCGCTGAATCGCATGCGGCCTGTCCCGCAGTCCGGTGGAATCGAGCAGGGCGTTAGGGTGACGCCATG\n",
      "AL123456.3@Rv0752c CGTGTCATG\n",
      "AL123456.3@Rv2054 CACGTGACGCCAACGTCTGCGGGCTAGGCCCGAGTTCCTCGGGGGCGGACATCGAGGCTGCAGTTAGATGACGCTATG\n",
      "AL123456.3@Rv1240 GTCAACCTCCGATCGCGGTGGATCTGATCGGGCGGTGCTCCAGGTTACGCGTCCCGGTATGGAACTTGGTAAACGTCAGTCGTAGCTGTGGGGGTTGGACCCCAGATGTCCGTCCGGTGCCGGTGCGCTAGTTTCAACCCGAAGCCAAGTCCGTAAGGAGCAGAACCGACGTG\n",
      "AL123456.3@Rv2215 CGCACCTCCGCCCACCGGGACTTGCTGTTGCAACCAGTCGCCCAAACCGTAGCAAGGACGGCCGACTGCACCGATGTCCCCGCCGAGGTGTCGGCAACGGCCGCCGGGGCCACCAACTCGCCGCGCCCTGGATGTGTGTCGCTCCGGGCGCAGTGACAGGATAGGTTTCGACATCCACCTGGGTTCCGCACCCGGTGCGCGACCGTGTGATAGGCCAGAGGTGGACCTGCGCCGACCGACGATCGATCGAGGAGTCAACAGAAATG\n",
      "AL123456.3@Rv3152 GCGTCTCCCCTTGCCGCGAGCGCGCGTGTTCCCCCGCAAGCGGGAGGTGCCCCCAGTACGCCGACACACCGATTTTGATGTACCAGTGCGGACCCTCGCGCAAGGAGTGGCGGCCATG\n",
      "AL123456.3@Rv3502c GACGGAACTAGAGGTATTCATAAATTG\n",
      "AL123456.3@Rv3587c GTTACCGCCCGATAACAGGCCACCGTTAACACGGCGTCGGCCAGCGAAGCCGGCGACACGCCGAGGCGGGTCAAGCGCGTTTGCGTGACCTGGCCCTACGGTGTAATCGTG\n",
      "AL123456.3@Rv3140 AACGAGCTGAAAGATCAATCATG\n",
      "AL123456.3@Rv2187 CGCCTCAGCTTCACATACCCGAGGCCGTGGGCAAGCCGGACCCCGAAGGGCACCAACCAACGGACACGCGATATCGGTCTATTCCGCACCGGCATCAACCCCTCTAGGCTTGACGACAGCAAACCGGACCCGGAAGACGGCAACAGGTCAAGTGAGGTGTTGATCGTG\n",
      "AL123456.3@Rv1437 CCATG\n",
      "AL123456.3@Rv0271c GTGTTCTCACCCATTTCGCCGGCCATCCGCTAGCCAACGTTAATAACCGACCCACCGGTTGTTAGCTTGGAAGGTGCTTGGCCGAAACGTCCAACAGCATGGGAAGGCGAGCAATG\n",
      "AL123456.3@Rv0439c TGCGAAGTGATTCCTCCGGATCGGGGATGAAACGGGGGTCACCGGGTGACGGCAACCCCGCTACTTACGCTGGCCGGGCGCAGTGCCCGCGACGGACGGCTCAAGTTGTCCTCGCTGCCACTCGCTGCGACGACGGGCCTGGCCTCACCGTCCCGACCTAGCACTCACCGGTCGCGAGTGCCAACGTTATTCTTAGCACTCGCCTATGCCGAGTGCAAGAAGCCCCGCACCGGGTCATGCCCCTCGTTCGACCGTGTCCTCGGCCCTCCGATCCGGGTGAGTATGTTCGGCCCATG\n",
      "AL123456.3@Rv0927c TTCAGTTCCTAACGGCCGACCAGCTGTTTTGCTCGCAGCAAATGAAGCTAACAGCACTAGGTTAACGGTCGGCGAACTTGGCGTGCCGTCGCCCTTGGCCGGGGTTGACCCCTGATGATGGACACGTGGCTGGTTCGACCGCGGGTCTCAGGGGAAGGATGTCCGTATGCCGTGCATACACAGCAGGCACACCCCCAGGTTTCGGGAGCAGTCACAGGAAGCTGCAGCAAGCTTGTTACCGTTTCGGCCGACAGCCGGAAAAGAGGGCGCCATG\n",
      "AL123456.3@Rv1071c CGTCGGATCCTCTCTTGATGGCTATGGCTACGAGCTGTGCGAACATCCGCTCAACGATCAGTAGTAGGCCCGGGTTCCCGGCCAGCGTTGTCATCCGGGTACACGATAAACCTTAGCCCCCGCGGGCACCGCTGGGCGAGCCACGATCTAGATTGCTGGTCAAACTCTTCAGGGGAGGCGAGGCCCGTG\n",
      "AL123456.3@Rv2884 CTGACTCCTCGCACGACAGTGCCATCCCGGCACCACCAGGACGGCATCTCACATCCTGCCTCAATAGCCGCGCTCCGGCGTGGGCGGGGTGCGTTAGTCACGCAACAACGAGGGGCCGGCCGAGGCCAGGCCCGTCGACTATCTCAAGGTGTGAGCATCGCTCGAGCAACAAAGTTGGAATAGTTCTGTTCTGAACCGGGTACCCAGGGGTACCGGCAGACATCTCCGCGAGGGATG\n",
      "AL123456.3@Rv1436 CTCTCCTCTATTCGCGCGCAGATATTTCCGCAATCAATTTGGTTCAGCAGAACCGCATAGCCGTATCGAGTTCCTTTTCGACCATCGGCTCAATTGTCAGCATCCTATGGGGAACATGAGCCCCGCCGCACCGGGCCGTTTCCAAATGGTGACGTCACAACGGTGTCACAAGCCAGCGCAATGTCCGCGGTAGGGACGCGGCGGCTGGGATCGGTGGGGTGAGCGCCCGGCTTCTCAAAGCGAGGGGAGCCCCGGGACTCTTACCGGCCGAAGGCGGCGGGTGTCACTGATCTAGGCTGACGGCCAGTGGTTGTTTAGCCAACAAGGATGACAACAAATAAGCCGAGGAGAGACAAGTG\n",
      "AL123456.3@Rv2241 GGCATGTGAGGTTACCTGGTCGCAGCGCGACCGCGCTGGCCGTGGTGTGTCGCGCATCCGCAGAACCGAGCGGAGTGCGGCTATCCGCCGCCGACGCCGGTGCGGCACGATAGGGGGACGACCATCTAAACAGCACGCAAGCGGAAGCCCGCCACCTACAGGAGTAGTGCGTTGACCACCGATTTCGCCCGCCACGATCTGGCCCAAAACTCAAACAGCGCAAGCGAACCCGACCGAGTTCGGGTGATCCGCGAGGGTGTG\n",
      "AL123456.3@Rv3303c GGGGGAAAGCTTAGACGGCGGGGGCTCGGGTGGTACCCATCGCGCCGCGCTGCGGTGCGGGTCATCGTCAAGCTGTGCTTGACTGCTCGGCTCCTCCTCACGCCGCTGCGCGGCGTGCATCGTCGCCGAGCTGTGTTGGACTGCTCGGCTCCTCCTCACGCCGCTGCGCGGCGTGCATCGTCGCCGAGCTAGGTTATGGGCTGTG\n",
      "AL123456.3@Rv1912c AACCGCAAAGGTAACGCCCCGCCGAACCTCCTGATAACTCGTGCTATCACAGAGGGGTGTTCGCGGGTGCGACCCGTCAAGCCTGACAAGGAGAACATTATG\n",
      "AL123456.3@Rv2231c TGTCGCGGTTGTCGCCGCGTAGACAACGCGTCGGCGGTG\n",
      "AL123456.3@Rv1454c GCCCGGGCATGATAGCCACATG\n",
      "AL123456.3@Rv3699 TCCACGAGTAGGTTGGGAGCCATG\n",
      "AL123456.3@Rv0103c AGTCGGAAACCTAGCACGCCAACCGCAGAAATCGGACCAAAAGAATCCATCGCCAGTGCATCCAGCGGGCCATAGGGAACCGATTACCGCCTGCTTACGACTTGTAGGCTGACGGGTGCAAATACGCCGATCCGAGGAGGGCCGTG\n",
      "AL123456.3@Rv0883c CGCTGCCTTAGTGCGGCTGTGACCGGGCATTCCGGTCACCAGCGCCATGCCGGCAAGACACCTCCGCGTGTCAACGAGGCTAACGGCGTTTACCGCACTAGAGTGCGCACGTAACAGGTCCGGCGTTGTCCTGCCCGGAGCCTGCGAGGAGAAGCCATG\n",
      "AL123456.3@Rv1476 ATCAACTCCCAGGGATTTGGTTCGCCCGCCGACGGGCCGTGTCGACGGCGTGGTGTCAGCCTAGCAGTACGCTTGTCCTGCTTTGTTGCCGTGTGGGTGCGCGCCGAAGTGCGAGCAGCGCGTAACGTGCCAGTAGCACGTCGGCAGGAAGGATGCGATG\n",
      "AL123456.3@Rv1883c CGGTTGGCGGCGTGTGCGGTCTATGACCAGGTCGACGTATG\n",
      "AL123456.3@Rv0407 GGGATATGGAGCGATCGCGAGCGCGGCGAAGCCGGGCGTGGCGGGTCGCGTTTATGGCATAGGAGTAGAAAGAACTGGTG\n",
      "AL123456.3@Rv0220 GCTCCCACCATG\n",
      "AL123456.3@Rv0926c ACCGATGATGCGCGAGCAGTCGCAGTCTGACCCCTACCGCTAAGGAGCCCGCCATG\n",
      "AL123456.3@Rv0154c GGCGCGTACATCCACTTTCCTTACTGAACGCCGATAGATTTGCTCAGACACCCTACCGGGCTACCAGAGCGGTATTTCCTGGCCATACTCGGATGCCGAGCGCGCACCGAGGTAGCGACGCTCGGATTCGGCGATCGGCACGTCGTTGATGCTGGCTTCGCCACAGTTCGGTGCCGTAGCTGCGATACCACTGGCCGTTGCGGTCACGGGATTCGTACTGGAACCGCATCGCAATGCGGTTGTCGTGGAAGCTCCACAAACTCTTGCGTAGCGAATAGTCGAGCTCGCGCTGCCACTTGCGGGTCAGTTGAACGGTGGCACGAAACGACGGCGAGCAGACGCAAAACCCCCTTCTCGTCGGCGTGTCGAGGGACTTATGCGTCTGCTAGCGCCGGTAGATATCGTGGCGGAATGGACTTCGCGATG\n",
      "AL123456.3@Rv0552 CTGGCAAGACTAGAACGTGTTGCAATTTGGATCTGCCGTGCCCTCGTAATCTCGAAGGATCACTACGCTTGGAGCCCATG\n",
      "AL123456.3@Rv3772 ATGGACTTCCCGAGAGTACCCGGACTCCCCGAGCCGCCGGAGGCCTAGCGTACACAGCCGCCACATATGCTGTCGACGTG\n"
     ]
    }
   ],
   "source": [
    "genes = pd.read_excel(project_dir + '/2022-10-02_data.xlsx', sheet_name = 'significnat genes downregulated')\n",
    "for i, r in genes.iterrows():\n",
    "    locus = tb_species + '@'+ (str(r['Locus']))\n",
    "    if locus in mycobacteria_upstream_dict and float(r['padj']) <  3e-2:\n",
    "        print(locus, mycobacteria_upstream_dict[locus][3])#[:-3]  # Remove start codon of downstream gene\n",
    "    elif float(r['padj']) <  3e-3: \n",
    "        print(locus, \"not in there\")"
   ]
  },
  {
   "cell_type": "code",
   "execution_count": null,
   "id": "f98d77a5-3fc7-4d4f-ac59-917590dd129c",
   "metadata": {},
   "outputs": [],
   "source": []
  },
  {
   "cell_type": "code",
   "execution_count": null,
   "id": "c35d0819-f0c4-484c-8ad4-f87d15a73fc2",
   "metadata": {},
   "outputs": [],
   "source": [
    "seq_ids = util.list_dirs(project_dir)\n",
    "out_list = []\n",
    "for id in seq_ids:\n",
    "    if os.path.exists(project_dir + '/Intergenic_Regions/' + str(id) + '/rscape_.cov'):\n",
    "        with open(project_dir + '/Intergenic_Regions/' + str(id) + '/rscape_.cov', 'r') as f:  \n",
    "            num_pairs = 0\n",
    "            e_values = []\n",
    "            for l in f:\n",
    "                if (not ('#' in l)):\n",
    "                    a = l.split()\n",
    "                    num_pairs +=1\n",
    "            out_list.append((id, num_pairs))\n",
    "out_list.sort(key = lambda x: x[0])\n",
    "out_list"
   ]
  },
  {
   "cell_type": "code",
   "execution_count": 29,
   "id": "dbd1e1ef-601b-40a4-9428-85db90ebdb64",
   "metadata": {},
   "outputs": [],
   "source": [
    "downreg_genes = pd.read_excel(project_dir + '/2022-10-02_data.xlsx', sheet_name = 'significnat genes downregulated')\n",
    "downreg_gene_list = []\n",
    "for i, r in downreg_genes.iterrows():\n",
    "    downreg_gene_list.append(r['Locus'])"
   ]
  },
  {
   "cell_type": "code",
   "execution_count": 30,
   "id": "89d622c9-1b34-4a9b-b0f9-4d95ebf8d669",
   "metadata": {},
   "outputs": [
    {
     "name": "stderr",
     "output_type": "stream",
     "text": [
      "100%|██████████| 72/72 [00:00<?, ?it/s]\n"
     ]
    }
   ],
   "source": [
    "downreg_gene_upstream_tb_regions = []\n",
    "for gene in downreg_gene_list:\n",
    "    locus = tb_species + '@' + str(gene)\n",
    "    if locus in mycobacteria_upstream_dict:\n",
    "        upstream_region = mycobacteria_upstream_dict[locus][3]#[:-3]  # Remove start codon of downstream gene\n",
    "        if len(upstream_region) > 5:\n",
    "            downreg_gene_upstream_tb_regions.append([locus, upstream_region])\n",
    "util.produce_fasta_file(downreg_gene_upstream_tb_regions, project_dir + '/downreg_gene_upstream_tb_regions.faa')"
   ]
  },
  {
   "cell_type": "code",
   "execution_count": 31,
   "id": "41d4fb2a-71f3-4a6e-b0b9-b69f40973578",
   "metadata": {},
   "outputs": [
    {
     "data": {
      "text/plain": [
       "CompletedProcess(args='wsl export PATH=$HOME/meme/bin:$HOME/meme/libexec/meme-5.4.1:usr/bin:$PATH ; meme \"/mnt/f/Project_Data/mabR_Project/downreg_gene_upstream_tb_regions.faa\" -oc \"/mnt/f/Project_Data/mabR_Project/downreg_meme_result\" -dna -evt 0.01 -mod anr -brief 4000 -minw 3 -maxw 200 -minsites 5', returncode=0)"
      ]
     },
     "execution_count": 31,
     "metadata": {},
     "output_type": "execute_result"
    }
   ],
   "source": [
    "min_width = 3\n",
    "min_sites = 5\n",
    "subprocess.run('wsl export PATH=$HOME/meme/bin:$HOME/meme/libexec/meme-5.4.1:usr/bin:$PATH ; meme \\\"/mnt/f/Project_Data/mabR_Project/downreg_gene_upstream_tb_regions.faa\" -oc \\\"/mnt/f/Project_Data/mabR_Project/downreg_meme_result\" -dna -evt 0.01 -mod anr -brief 4000 -minw ' + str(min_width) +' -maxw 200 -minsites ' + str(min_sites)\n",
    "               , shell=True)\n",
    "      "
   ]
  },
  {
   "cell_type": "code",
   "execution_count": null,
   "id": "fa91ee65-3f9b-43b9-ace9-0b1d23f58da5",
   "metadata": {},
   "outputs": [],
   "source": [
    "print(meme \\\"/mnt/f/Project_Data/mabR_Project/downreg_gene_upstream_tb_regions.faa\" -oc \\\"/mnt/d/Project_Data/mabR_Project/downreg_meme_result\" -dna -evt 0.01 -mod zoops -brief 4000 -minw ' + str(min_width) +' -maxw 200 -minsites ' + str(min_sites)"
   ]
  },
  {
   "cell_type": "code",
   "execution_count": 26,
   "id": "056dd183-7ec3-4b6c-855f-d002d08edafd",
   "metadata": {},
   "outputs": [
    {
     "data": {
      "text/plain": [
       "4411532"
      ]
     },
     "execution_count": 26,
     "metadata": {},
     "output_type": "execute_result"
    }
   ],
   "source": [
    "for record in SeqIO.parse(mycobacteria_seq_dir + '/' + tb_annotation_dirname +'/genomic.gbff', \"genbank\"):\n",
    "    full_sequence = str(record.seq)\n",
    "len(full_sequence)"
   ]
  },
  {
   "cell_type": "code",
   "execution_count": 27,
   "id": "d79e3b6d-73f7-44d8-bc18-099a8072b642",
   "metadata": {},
   "outputs": [
    {
     "data": {
      "text/plain": [
       "'GTGAACGACAATCAGTTGGCTCCAGTTGCCCGCCCGAGGTCGCCGCTCGAACTGCTGGACACTGTGCCCGATTCGCTGCTGCGGCGGTTGAAGCAGTACTCGGGCCGGCTGGCCACCGAGGCAGTTTCGGCCATGCAAGAACGGTTGCCGTTCTTCGCCGACCTAGAAGCGTCCCAGCGCGCCAGCGTGGCGCTGGTGGTGCAGACGGCCGTGGTCAACTTCGTCGAATGGATGCACGACCCGCACAGTGACGTCGGCTATACCGCGCAGGCATTCGAGCTGGTGCCCCAGGATCTGACGCGACGGATCGCGCTGCGCCAGACCGTGGACATGGTGCGGGTCACCATGGAGTTCTTCGAAGAAGTCGTGCCCCTGCTCGCCCGTTCCGAAGAGCAGTTGACCGCCCTCACGGTGGGCATTTTGAAATACAGCCGCGACCTGGCATTCACCGCCGCCACGGCCTACGCCGATGCGGCCGAGGCACGAGGCACCTGGGACAGCCGGATGGAGGCCAGCGTGGTGGACGCGGTGGTACGCGGCGACACCGGTCCCGAGCTGCTGTCCCGGGCGGCCGCGCTGAATTGGGACACCACCGCGCCGGCGACCGTACTGGTGGGAACTCCGGCGCCCGGTCCAAATGGCTCCAACAGCGACGGCGACAGCGAGCGGGCCAGCCAGGATGTCCGCGACACCGCGGCTCGCCACGGCCGCGCTGCGCTGACCGACGTGCACGGCACCTGGCTGGTGGCGATCGTCTCCGGCCAGCTGTCGCCAACCGAGAAGTTCCTCAAAGACCTGCTGGCAGCATTCGCCGACGCCCCGGTGGTCATCGGCCCCACGGCGCCCATGCTGACCGCGGCGCACCGCAGCGCTAGCGAGGCGATCTCCGGGATGAACGCCGTCGCCGGCTGGCGCGGAGCGCCGCGGCCCGTGCTGGCTAGGGAACTTTTGCCCGAACGCGCCCTGATGGGCGACGCCTCGGCGATCGTGGCCCTGCATACCGACGTGATGCGGCCCCTAGCCGATGCCGGACCGACGCTCATCGAGACGCTAGACGCATATCTGGATTGTGGCGGCGCGATTGAAGCTTGTGCCAGAAAGTTGTTCGTTCATCCAAACACAGTGCGGTACCGGCTCAAGCGGATCACCGACTTCACCGGGCGCGATCCCACCCAGCCACGCGATGCCTATGTCCTTCGGGTGGCGGCCACCGTGGGTCAACTCAACTATCCGACGCCGCACTGA'"
      ]
     },
     "execution_count": 27,
     "metadata": {},
     "output_type": "execute_result"
    }
   ],
   "source": [
    "full_sequence[2515303:2516548]"
   ]
  },
  {
   "cell_type": "code",
   "execution_count": 35,
   "id": "41ca2578-e972-42d5-9ce6-fb84420149a8",
   "metadata": {},
   "outputs": [
    {
     "name": "stdout",
     "output_type": "stream",
     "text": [
      "3691127\n"
     ]
    }
   ],
   "source": [
    "n = 11\n",
    "motif = util.reverse_complement('GGGAAAGCTTA')\n",
    "for  i in range(len(full_sequence) - n):\n",
    "    if full_sequence[i: i+n] == motif:\n",
    "        print(i)"
   ]
  },
  {
   "cell_type": "code",
   "execution_count": null,
   "id": "f481c240-8af7-4482-91ea-8e1fc4f657d7",
   "metadata": {},
   "outputs": [],
   "source": []
  }
 ],
 "metadata": {
  "kernelspec": {
   "display_name": "Python 3 (ipykernel)",
   "language": "python",
   "name": "python3"
  },
  "language_info": {
   "codemirror_mode": {
    "name": "ipython",
    "version": 3
   },
   "file_extension": ".py",
   "mimetype": "text/x-python",
   "name": "python",
   "nbconvert_exporter": "python",
   "pygments_lexer": "ipython3",
   "version": "3.9.7"
  }
 },
 "nbformat": 4,
 "nbformat_minor": 5
}
