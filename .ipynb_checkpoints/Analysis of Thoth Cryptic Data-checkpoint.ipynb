{
 "cells": [
  {
   "cell_type": "markdown",
   "id": "b1e30ed4-8a0e-4a6f-96eb-dfe116dfb2de",
   "metadata": {},
   "source": [
    "#### Directories etc"
   ]
  },
  {
   "cell_type": "code",
   "execution_count": 1,
   "id": "cf9c6377-5080-4c22-94db-feabe17cc47c",
   "metadata": {},
   "outputs": [
    {
     "name": "stderr",
     "output_type": "stream",
     "text": [
      "C:\\Users\\nicho\\Anaconda3\\envs\\Bioinformatics\\lib\\site-packages\\ete3-3.1.2-py3.7.egg\\ete3\\evol\\parser\\codemlparser.py:221: SyntaxWarning: \"is\" with a literal. Did you mean \"==\"?\n",
      "C:\\Users\\nicho\\Anaconda3\\envs\\Bioinformatics\\lib\\site-packages\\ete3-3.1.2-py3.7.egg\\ete3\\evol\\parser\\codemlparser.py:221: SyntaxWarning: \"is\" with a literal. Did you mean \"==\"?\n"
     ]
    }
   ],
   "source": [
    "import pandas as pd\n",
    "import pickle\n",
    "import seaborn as sns\n",
    "import matplotlib.pyplot as plt\n",
    "import numpy as np\n",
    "from scipy.fft import fft, fftfreq\n",
    "from Bio import Entrez, SeqIO, AlignIO, pairwise2, Align, Seq, motifs\n",
    "from Bio.Seq import Seq\n",
    "from Bio.SeqFeature import SeqFeature, FeatureLocation\n",
    "from scipy.stats import binom\n",
    "import math\n",
    "import random\n",
    "from tqdm import tqdm\n",
    "from Comparative_Analysis import Utilities as util\n",
    "from collections import defaultdict\n",
    "import random\n",
    "from joblib import Parallel, delayed\n",
    "from Comparative_Analysis import Blast_Functions as blastfn\n",
    "import time\n",
    "import os\n",
    "import copy\n",
    "from Comparative_Analysis import ORF_Functions as orffn\n",
    "from random import sample\n",
    "pd.options.mode.chained_assignment = None  # default='warn'\n",
    "import ete3;"
   ]
  },
  {
   "cell_type": "code",
   "execution_count": 214,
   "id": "1988a242-f558-4643-b3a9-27272fa7bebc",
   "metadata": {},
   "outputs": [],
   "source": [
    "project_dir = 'F:/Project_Data/Project_9'\n",
    "seq_dir = 'F:/Datasets/Actinobacteria_Ref_Rep_Lev_Complete'\n",
    "dictionary_dir = 'F:/Datasets/CRYPTIC_DATA/Cryptic_Dictionaries'\n",
    "mutation_count_dir = 'F:/Datasets/CRYPTIC_DATA/Cryptic_Mutation_Counts'\n",
    "mutation_count_dir = 'F:/Datasets/CRYPTIC_DATA/Cryptic_Mutation_Counts'\n",
    "tree_dir = 'F:/Datasets'\n",
    "tb_species = 'NC_000962.3' \n",
    "tb_genome_filename = 'GCF_000195955.2_ASM19595v2_genomic.gbff'\n",
    "mycobrowser_dir = 'F:/Datasets/Data_From_Publications'\n",
    "num_cores = 16\n",
    "core_numbers = list(range(1, num_cores+1))"
   ]
  },
  {
   "cell_type": "code",
   "execution_count": 215,
   "id": "3235e1e1-a7fa-474b-8a88-72232e020b69",
   "metadata": {},
   "outputs": [],
   "source": [
    "for record in SeqIO.parse(seq_dir + '/' + tb_genome_filename, \"genbank\"):\n",
    "    full_sequence = str(record.seq)\n",
    "    tb_sequence = str(record.seq)\n",
    "for record in SeqIO.parse(project_dir + '/annot.gbk', \"genbank\"):\n",
    "    reannotated_sequence = str(record.seq)"
   ]
  },
  {
   "cell_type": "code",
   "execution_count": 289,
   "id": "bba7e94a-f3f3-4b38-b620-c4a62e55efbb",
   "metadata": {},
   "outputs": [],
   "source": [
    "mycobrowser_features =[]\n",
    "mycobrowser_df = pd.read_csv(mycobrowser_dir+'/Mycobrowser_Release_4.csv')\n",
    "for i, r in mycobrowser_df.iterrows():\n",
    "    if r['Strand'] == '+':\n",
    "        strand = 1\n",
    "    else:\n",
    "        strand = -1\n",
    "    mycobrowser_features.append([r['Feature'], r['Locus'],r['Start']-1, r['Stop'], strand, r['Product'], r['Comments']])"
   ]
  },
  {
   "cell_type": "code",
   "execution_count": 5,
   "id": "4b88b412-d21e-4178-aef9-84e81e3c0f87",
   "metadata": {},
   "outputs": [],
   "source": [
    "full_run = False"
   ]
  },
  {
   "cell_type": "markdown",
   "id": "e3ee7e9e-6a66-485f-badf-22c81560e77f",
   "metadata": {},
   "source": [
    "#### Functions"
   ]
  },
  {
   "cell_type": "code",
   "execution_count": 6,
   "id": "562c1fbb-768e-4ab5-a781-b9a8ae96b6c1",
   "metadata": {},
   "outputs": [],
   "source": [
    "def bin_formula(position_3_counts, tot_bin_counts):\n",
    "    return 1- binom.cdf(position_3_counts-1, tot_bin_counts,1/3)"
   ]
  },
  {
   "cell_type": "code",
   "execution_count": 72,
   "id": "b9eaf090-a2a6-4b2d-b054-602281be9016",
   "metadata": {
    "tags": []
   },
   "outputs": [],
   "source": [
    "def mutation_bin_probability(mutation_counts):\n",
    "    bin_counts = [0,0,0]\n",
    "    for i, c in enumerate(mutation_counts):\n",
    "        bin_counts[i % 3] += c\n",
    "    if sum(bin_counts) == 0:\n",
    "        return (bin_counts, 2)\n",
    "    else:\n",
    "        return (bin_counts, bin_formula(bin_counts[2], sum(bin_counts)))  "
   ]
  },
  {
   "cell_type": "code",
   "execution_count": 8,
   "id": "f7f0b860-4c57-4de7-997c-c2e7cc074d64",
   "metadata": {},
   "outputs": [],
   "source": [
    "master_tree= ete3.Tree(tree_dir + '/' + 'tb_tree.nwk')"
   ]
  },
  {
   "cell_type": "code",
   "execution_count": 9,
   "id": "ea87943f-fab0-45c5-81eb-c365a0f1da91",
   "metadata": {},
   "outputs": [
    {
     "data": {
      "text/plain": [
       "71054"
      ]
     },
     "execution_count": 9,
     "metadata": {},
     "output_type": "execute_result"
    }
   ],
   "source": [
    "len(master_tree)"
   ]
  },
  {
   "cell_type": "markdown",
   "id": "240d70ef-14d8-4bf2-a360-0e611506a410",
   "metadata": {},
   "source": [
    "#### Calculate probabilites for annotated (and reannotated PGAP) CDS regions"
   ]
  },
  {
   "cell_type": "code",
   "execution_count": 10,
   "id": "3f6b3bf0-ecda-4573-8e66-7fcde8acd18c",
   "metadata": {},
   "outputs": [],
   "source": [
    "cds_boundaries = []\n",
    "for genome_record in SeqIO.parse(seq_dir + '/' + tb_genome_filename, \"genbank\"):\n",
    "    for feature in genome_record.features:\n",
    "        if feature.type == 'CDS':\n",
    "            a = feature.qualifiers  \n",
    "            if a.get(\"pseudo\") == None:\n",
    "                pseudo = False\n",
    "            else:\n",
    "                pseudo = True\n",
    "            cds_boundaries.append((a.get(\"locus_tag\")[0], pseudo, a.get(\"product\")[0], int(feature.location.start), int(feature.location.end), int(feature.location.strand)))   \n",
    "reannotated_cds_boundaries = []\n",
    "for genome_record in SeqIO.parse(project_dir + '/annot.gbk', \"genbank\"):\n",
    "    for feature in genome_record.features:\n",
    "        if feature.type == 'CDS':\n",
    "            a = feature.qualifiers  \n",
    "            if a.get(\"pseudo\") == None:\n",
    "                pseudo = False\n",
    "            else:\n",
    "                pseudo = True\n",
    "            reannotated_cds_boundaries.append((a.get(\"locus_tag\")[0], pseudo, a.get(\"product\")[0], int(feature.location.start), int(feature.location.end), int(feature.location.strand)))   \n",
    "cds_boundaries.sort(key = lambda x: x[3])\n",
    "reannotated_cds_boundaries.sort(key = lambda x: x[3])"
   ]
  },
  {
   "cell_type": "code",
   "execution_count": 11,
   "id": "471e647b-16e4-4c53-8c59-787dacbd80f7",
   "metadata": {},
   "outputs": [],
   "source": [
    "mutation_df = pd.read_csv(project_dir+'/mutation_df.csv')\n",
    "alt_mutation_df = pd.read_csv(project_dir+'/alt_mutation_df.csv')"
   ]
  },
  {
   "cell_type": "code",
   "execution_count": 12,
   "id": "9ad47ede-8f39-4d1e-8a59-48ed5618e255",
   "metadata": {},
   "outputs": [],
   "source": [
    "zero_and_non_zero_mutation_counts = mutation_df['Num_Mutations'].values.tolist()\n",
    "alt_zero_and_non_zero_mutation_counts = alt_mutation_df['Num_Mutations'].values.tolist()"
   ]
  },
  {
   "cell_type": "code",
   "execution_count": 55,
   "id": "18baaf01-34e0-45ae-bc95-c2912c03303b",
   "metadata": {},
   "outputs": [],
   "source": [
    "with open(project_dir + '/alt_mutation_counts.pkl', 'wb') as f:\n",
    "        pickle.dump(alt_zero_and_non_zero_mutation_counts, f) "
   ]
  },
  {
   "cell_type": "code",
   "execution_count": 73,
   "id": "bbf1f0ac-ba88-408c-9bb0-830226b2bfdc",
   "metadata": {},
   "outputs": [],
   "source": [
    "temp =[]\n",
    "alt_temp = []\n",
    "for (locus, pseudo, product, start, stop, strand) in cds_boundaries:\n",
    "    if pseudo == False:\n",
    "        if strand == 1:\n",
    "            temp.append(mutation_bin_probability(zero_and_non_zero_mutation_counts[start:stop]))\n",
    "            alt_temp.append(mutation_bin_probability(alt_zero_and_non_zero_mutation_counts[start:stop]))\n",
    "        else:\n",
    "            temp.append(mutation_bin_probability(reversed(zero_and_non_zero_mutation_counts[start:stop])))\n",
    "            alt_temp.append(mutation_bin_probability(reversed(alt_zero_and_non_zero_mutation_counts[start:stop])))\n",
    "scores = []\n",
    "for x in temp:\n",
    "    scores.append(x[1])\n",
    "alt_scores = []\n",
    "for x in alt_temp:\n",
    "    alt_scores.append(x[1])"
   ]
  },
  {
   "cell_type": "code",
   "execution_count": 74,
   "id": "e88b9d7e-f827-4b4d-921e-f63b44f50ac3",
   "metadata": {},
   "outputs": [
    {
     "data": {
      "text/plain": [
       "<AxesSubplot:ylabel='Count'>"
      ]
     },
     "execution_count": 74,
     "metadata": {},
     "output_type": "execute_result"
    },
    {
     "data": {
      "image/png": "[encoded data removed]",
      "text/plain": [
       "<Figure size 432x288 with 1 Axes>"
      ]
     },
     "metadata": {
      "needs_background": "light"
     },
     "output_type": "display_data"
    }
   ],
   "source": [
    "sns.histplot(alt_scores, bins =100)\n"
   ]
  },
  {
   "cell_type": "code",
   "execution_count": 27,
   "id": "b45666fe-1792-43ed-8cf6-f198119ca24f",
   "metadata": {},
   "outputs": [
    {
     "data": {
      "image/png": "[encoded data removed]",
      "text/plain": [
       "<Figure size 432x288 with 1 Axes>"
      ]
     },
     "metadata": {
      "needs_background": "light"
     },
     "output_type": "display_data"
    }
   ],
   "source": [
    "sns.histplot([x for x in alt_zero_and_non_zero_mutation_counts if x >3], bins = 100)\n",
    "plt.yscale('log')"
   ]
  },
  {
   "cell_type": "code",
   "execution_count": 16,
   "id": "b961bda8-3d60-4e61-9322-494ec0f93970",
   "metadata": {},
   "outputs": [
    {
     "data": {
      "text/plain": [
       "1.5109177492082115"
      ]
     },
     "execution_count": 16,
     "metadata": {},
     "output_type": "execute_result"
    }
   ],
   "source": [
    "sum(zero_and_non_zero_mutation_counts)/len(zero_and_non_zero_mutation_counts)"
   ]
  },
  {
   "cell_type": "code",
   "execution_count": 17,
   "id": "dd83658a-4a38-4fe5-a467-c5178f7d9ecf",
   "metadata": {},
   "outputs": [
    {
     "data": {
      "text/plain": [
       "<AxesSubplot:ylabel='Count'>"
      ]
     },
     "execution_count": 17,
     "metadata": {},
     "output_type": "execute_result"
    },
    {
     "data": {
      "image/png": "[encoded data removed]",
      "text/plain": [
       "<Figure size 432x288 with 1 Axes>"
      ]
     },
     "metadata": {
      "needs_background": "light"
     },
     "output_type": "display_data"
    }
   ],
   "source": [
    "sns.histplot([x for x in zero_and_non_zero_mutation_counts if (x > 250)], bins = 100)"
   ]
  },
  {
   "cell_type": "code",
   "execution_count": 18,
   "id": "fa6ac028-5464-47fb-ac58-5b53bded6d62",
   "metadata": {},
   "outputs": [],
   "source": [
    "if full_run == False:\n",
    "    with open(project_dir + '/id_dict.pkl', 'rb') as f:\n",
    "        id_dict = pickle.load(f)  \n",
    "    with open(project_dir + '/variant_dict.pkl', 'rb') as f:\n",
    "        variant_dict = pickle.load(f)  \n",
    "    with open(project_dir + '/position_dict.pkl', 'rb') as f:\n",
    "        position_dict = pickle.load(f)  "
   ]
  },
  {
   "cell_type": "code",
   "execution_count": 188,
   "id": "b222e1f6-fb23-48b5-a2c1-d8faa9b41ff5",
   "metadata": {},
   "outputs": [],
   "source": [
    "for n,pos in enumerate(alt_zero_and_non_zero_mutation_counts):\n",
    "    if n+1 in position_dict:\n",
    "        rat = pos/ len(position_dict[n+1])\n",
    "        if pos == 0 and len(position_dict[n+1]) > 0:\n",
    "            print(n,pos, len(position_dict[n+1]), rat)"
   ]
  },
  {
   "cell_type": "markdown",
   "id": "32f6321f-5a4e-481b-80dd-b73ec38fbd18",
   "metadata": {},
   "source": [
    "#### Identify potential ORFS (min length 200) in inter-CDS regions of standard annotation and output to Dataframe"
   ]
  },
  {
   "cell_type": "code",
   "execution_count": null,
   "id": "7fb3b790-e301-4599-a155-74a0e7ae05ec",
   "metadata": {},
   "outputs": [],
   "source": [
    "ORFFinder = orffn.ORF_Finder()\n",
    "trans = util.Translator()\n",
    "min_intergenic_length = 100\n",
    "details =  []\n",
    "results =[]\n",
    "for i, (locus, pseudo, product, start, stop, strand) in enumerate(cds_boundaries):\n",
    "    if i < len(cds_boundaries) - 1:\n",
    "        if cds_boundaries[i+1][3] > stop + min_intergenic_length:\n",
    "            a =ORFFinder.max_orf(stop-40, cds_boundaries[i+1][3]+40, 1e-20, output_all_orfs = False, min_orf_length = 200)\n",
    "            if not(a==(0,0,0)):\n",
    "                ov = 0\n",
    "                info = ('','','','','','','')\n",
    "                for i, (loc, pse, pro, sta, sto, stra) in enumerate(reannotated_cds_boundaries):\n",
    "                    if a[1] > sta and a[0] < sto:\n",
    "                        ov = (min(a[1], sto) - max(a[0], sta)) / (sto - sta)\n",
    "                        if ov > 0.3:\n",
    "                            info =  (loc, pse, pro, sta, sto, stra, ov)\n",
    "                        \n",
    "                ov = 0\n",
    "                myco_info = ('','','','','')\n",
    "                for i, (loc, sta, sto, stra) in enumerate(mycobrowser_features):\n",
    "                    if a[1] > sta and a[0] < sto:\n",
    "                        ov = (min(a[1], sto) - max(a[0], sta)) / (sto - sta)\n",
    "                        if ov > 0.3:\n",
    "                            myco_info =  (loc, sta, sto, stra, ov)\n",
    "                        \n",
    "                sequ = trans.translate_sequence(full_sequence[a[0]:a[1]], a[2], 0)\n",
    "                details.append([a, sequ])\n",
    "                results.append([a[0],a[1],a[2],a[3],info[0],info[1],info[2],info[3],info[4],info[5],info[6],myco_info[0],myco_info[1],myco_info[2],myco_info[3],myco_info[4]])\n",
    "results_df = pd.DataFrame(results, columns = ['start_pos','end_pos','strand','score','PGAP_ref','PGAP_pseudogene','PGAP_product', 'PGAP_start', 'PGAP_end','PGAP_strand', 'PGAP_overlap', 'Mycob_ref','Mycob_start', 'Mycob_end','Mycob_strand', 'Mycob_overlap'])\n",
    "results_df.to_csv(project_dir + '/cds_candidates.csv')"
   ]
  },
  {
   "cell_type": "markdown",
   "id": "198ce0ae-2b01-482b-83cb-93c720537916",
   "metadata": {},
   "source": [
    "#### Find all (maximal nested) ORFs and filter out ORFS on opposite strand which would have same non-synonymous positions with larger ORF on other strand"
   ]
  },
  {
   "cell_type": "code",
   "execution_count": 22,
   "id": "ea12a609-41c4-402f-a220-c09b6cc10fb1",
   "metadata": {
    "tags": []
   },
   "outputs": [
    {
     "name": "stderr",
     "output_type": "stream",
     "text": [
      "100%|██████████| 63719/63719 [03:26<00:00, 308.60it/s] \n"
     ]
    }
   ],
   "source": [
    "ORFFinder = orffn.ORF_Finder(full_sequence)\n",
    "a = ORFFinder.max_orf(0, 4411532, output_orfs = 'Nested', min_orf_length = 50)\n",
    "a.sort(key = lambda x: x[3], reverse = True)\n",
    "orf_list = [a[0]]\n",
    "for x in tqdm(a[1:]):\n",
    "    matched = 0\n",
    "    for v in orf_list:\n",
    "        if v[0]<=x[0] and v[1]>=x[1]:\n",
    "            if x[2] == v[2]:\n",
    "                if (v[0] - x[0])%3 == 0:\n",
    "                    matched = 1\n",
    "                    break\n",
    "            else:\n",
    "                if (v[0] - x[0])%3 == 1:\n",
    "                    matched = 1\n",
    "                    break\n",
    "    if matched == 0:\n",
    "        orf_list.append(x)\n",
    "orf_list.sort(key = lambda x: x[0])"
   ]
  },
  {
   "cell_type": "code",
   "execution_count": 75,
   "id": "47eaa87f-ac8c-4fa4-9b70-241cfda7bc5d",
   "metadata": {},
   "outputs": [
    {
     "name": "stderr",
     "output_type": "stream",
     "text": [
      "100%|██████████| 44766/44766 [00:41<00:00, 1081.75it/s]\n"
     ]
    }
   ],
   "source": [
    "temp = []\n",
    "for (start, stop, strand, length) in tqdm(orf_list):\n",
    "    matches_annotated_orf = False\n",
    "    for (locus_1, pseudo_1, product_1, start_1, stop_1, strand_1) in cds_boundaries:\n",
    "        if (pseudo_1 == False and strand_1 == strand and strand_1 == 1 and stop_1 == stop) or (pseudo_1 == False and strand_1 == strand and strand_1 == -1 and start_1 == start):\n",
    "            matches_annotated_orf = True\n",
    "            break\n",
    "    if matches_annotated_orf == True:\n",
    "        continue\n",
    "    if strand == 1:\n",
    "        temp.append((mutation_bin_probability(alt_zero_and_non_zero_mutation_counts[start:stop]), stop-start))\n",
    "    else:\n",
    "        temp.append((mutation_bin_probability(reversed(alt_zero_and_non_zero_mutation_counts[start:stop])), stop-start))\n",
    "scores = []\n",
    "for (x, y) in temp:\n",
    "    scores.append([x[1], y])\n",
    "scores_df = pd.DataFrame(scores, columns = ['score','length'])"
   ]
  },
  {
   "cell_type": "code",
   "execution_count": 192,
   "id": "d48ce947-f0a5-4e14-a990-70d9cb33ba7d",
   "metadata": {},
   "outputs": [],
   "source": [
    "ultra_conserved_candidates = []\n",
    "lengths = []\n",
    "mutation_len = len(alt_zero_and_non_zero_mutation_counts)\n",
    "i = 0\n",
    "start = 0\n",
    "while i < mutation_len:\n",
    "    if alt_zero_and_non_zero_mutation_counts[i] == 0:\n",
    "        i+=1\n",
    "    else:\n",
    "        stop = i\n",
    "        zero_length = stop - start - 1\n",
    "        if zero_length < 150:\n",
    "            pass\n",
    "        else:\n",
    "            lengths.append(zero_length)\n",
    "            ultra_conserved_candidates.append([start, stop])\n",
    "        i+=1 \n",
    "        start = i\n"
   ]
  },
  {
   "cell_type": "code",
   "execution_count": 191,
   "id": "271cf957-4308-4c0e-9467-b9ad85d57a9e",
   "metadata": {},
   "outputs": [
    {
     "data": {
      "text/plain": [
       "<AxesSubplot:ylabel='Count'>"
      ]
     },
     "execution_count": 191,
     "metadata": {},
     "output_type": "execute_result"
    },
    {
     "data": {
      "image/png": "[encoded data removed]",
      "text/plain": [
       "<Figure size 432x288 with 1 Axes>"
      ]
     },
     "metadata": {
      "needs_background": "light"
     },
     "output_type": "display_data"
    }
   ],
   "source": [
    "sns.histplot(data = lengths, bins = 100)"
   ]
  },
  {
   "cell_type": "code",
   "execution_count": 216,
   "id": "b963babf-8aec-44d9-8628-180defffd830",
   "metadata": {},
   "outputs": [
    {
     "name": "stderr",
     "output_type": "stream",
     "text": [
      "100%|██████████| 361/361 [00:00<00:00, 18051.52it/s]\n"
     ]
    }
   ],
   "source": [
    "temp = []\n",
    "for x in ultra_conserved_candidates:\n",
    "    sequence = tb_sequence[x[0]:x[1]]\n",
    "    name = 'Start_'+str(x[0])+'_Stop_'+str(x[1])\n",
    "    temp.append([name, sequence])\n",
    "util.produce_fasta_file(temp, project_dir + '/' + 'ultra_conserved_candidates.faa')"
   ]
  },
  {
   "cell_type": "code",
   "execution_count": 291,
   "id": "dc705923-8a61-496f-8b40-154a34896aab",
   "metadata": {},
   "outputs": [
    {
     "name": "stderr",
     "output_type": "stream",
     "text": [
      "100%|██████████| 4035/4035 [00:00<00:00, 4085.36it/s] \n"
     ]
    }
   ],
   "source": [
    "for (feature, locus, start, stop, strand, product, comments) in mycobrowser_features:\n",
    "    if feature == 'CDS':\n",
    "        sequence = tb_sequence[start-1:stop]\n",
    "        temp.append([name, sequence])\n",
    "util.produce_fasta_file(temp, project_dir + '/' + 'tb_cds.faa')"
   ]
  },
  {
   "cell_type": "code",
   "execution_count": 76,
   "id": "88bc856e-e0aa-45bc-930a-b01a62e80ff2",
   "metadata": {},
   "outputs": [
    {
     "data": {
      "text/plain": [
       "<AxesSubplot:xlabel='score', ylabel='Count'>"
      ]
     },
     "execution_count": 76,
     "metadata": {},
     "output_type": "execute_result"
    },
    {
     "data": {
      "image/png": "[encoded data removed]",
      "text/plain": [
       "<Figure size 432x288 with 1 Axes>"
      ]
     },
     "metadata": {
      "needs_background": "light"
     },
     "output_type": "display_data"
    }
   ],
   "source": [
    "sns.histplot(data = scores_df, x= 'score', bins =100)"
   ]
  },
  {
   "cell_type": "code",
   "execution_count": 77,
   "id": "013d60a1-8bff-4ed0-a620-d8787f92e695",
   "metadata": {},
   "outputs": [
    {
     "data": {
      "text/plain": [
       "<AxesSubplot:xlabel='length', ylabel='score'>"
      ]
     },
     "execution_count": 77,
     "metadata": {},
     "output_type": "execute_result"
    },
    {
     "data": {
      "image/png": "[encoded data removed]",
      "text/plain": [
       "<Figure size 432x288 with 1 Axes>"
      ]
     },
     "metadata": {
      "needs_background": "light"
     },
     "output_type": "display_data"
    }
   ],
   "source": [
    "sns.scatterplot(data = scores_df, x = 'length', y ='score')"
   ]
  },
  {
   "cell_type": "code",
   "execution_count": null,
   "id": "8f8bbd93-8f6d-461c-8719-c146a7177000",
   "metadata": {},
   "outputs": [],
   "source": [
    "prob = []\n",
    "for x in orf_list:\n",
    "    prob.append(x[4])\n",
    "sns.histplot(prob, bins=100)"
   ]
  },
  {
   "cell_type": "code",
   "execution_count": 48,
   "id": "dc2769ef-9358-406c-a22a-e88be6b93338",
   "metadata": {},
   "outputs": [],
   "source": [
    "annotated_features = []\n",
    "for genome_record in SeqIO.parse(project_dir + '/annot.gbk', \"genbank\"):\n",
    "    for feature in genome_record.features:\n",
    "        if feature.type != 'source':\n",
    "            annotated_features.append((int(feature.location.start), int(feature.location.end), int(feature.location.strand)))   \n",
    "for genome_record in SeqIO.parse(seq_dir + '/' + tb_genome_filename, \"genbank\"):\n",
    "    for feature in genome_record.features:\n",
    "        if feature.type != 'source':\n",
    "            annotated_features.append((int(feature.location.start), int(feature.location.end), int(feature.location.strand)))   \n",
    "annotated_features.sort(key = lambda x: x[1])"
   ]
  },
  {
   "cell_type": "code",
   "execution_count": 49,
   "id": "4fd77402-5afe-4b13-9f1e-1a14e569d8ed",
   "metadata": {},
   "outputs": [],
   "source": [
    "non_overlapping_orfs = []\n",
    "for i, orf in enumerate(orf_list):\n",
    "    max_ov = 0\n",
    "    for (sta, sto, stra) in annotated_features:\n",
    "        if orf[0] < sto and orf[1] > sta:\n",
    "            ov = (min(orf[1], sto) - max(orf[0], sta)) / (orf[1] - orf[0])\n",
    "            max_ov = max(ov, max_ov)\n",
    "    if max_ov < 0.1:\n",
    "        non_overlapping_orfs.append(orf)"
   ]
  },
  {
   "cell_type": "code",
   "execution_count": 79,
   "id": "35ad8e1a-000c-4abd-9a45-2d4e548b6dc0",
   "metadata": {},
   "outputs": [
    {
     "name": "stderr",
     "output_type": "stream",
     "text": [
      "100%|██████████| 2369/2369 [00:00<00:00, 5663.10it/s]\n"
     ]
    }
   ],
   "source": [
    "non_overlapping_orf_list = []\n",
    "temp = []\n",
    "for (start, stop, strand, length) in tqdm(non_overlapping_orfs):\n",
    "    if strand == 1:\n",
    "        temp.append((mutation_bin_probability(alt_zero_and_non_zero_mutation_counts[start:stop]), stop-start))\n",
    "        non_overlapping_orf_list.append((start, stop, strand, length, mutation_bin_probability(alt_zero_and_non_zero_mutation_counts[start:stop])))\n",
    "    else:\n",
    "        temp.append((mutation_bin_probability(reversed(alt_zero_and_non_zero_mutation_counts[start:stop])), stop-start))\n",
    "        non_overlapping_orf_list.append((start, stop, strand, length,mutation_bin_probability(reversed(alt_zero_and_non_zero_mutation_counts[start:stop]))))\n",
    "scores = []\n",
    "for (x, y) in temp:\n",
    "    scores.append([x[1], y])\n",
    "scores_non_overlapping_df = pd.DataFrame(scores, columns = ['score','length'])"
   ]
  },
  {
   "cell_type": "code",
   "execution_count": 80,
   "id": "11d38027-a70a-402e-9318-fe2c514037b5",
   "metadata": {},
   "outputs": [
    {
     "data": {
      "text/plain": [
       "<AxesSubplot:xlabel='score', ylabel='Count'>"
      ]
     },
     "execution_count": 80,
     "metadata": {},
     "output_type": "execute_result"
    },
    {
     "data": {
      "image/png": "[encoded data removed]",
      "text/plain": [
       "<Figure size 432x288 with 1 Axes>"
      ]
     },
     "metadata": {
      "needs_background": "light"
     },
     "output_type": "display_data"
    }
   ],
   "source": [
    "sns.histplot(data = scores_non_overlapping_df, x= 'score', bins =100)"
   ]
  },
  {
   "cell_type": "code",
   "execution_count": 81,
   "id": "ef75be3c-e093-4faf-a5e0-585aef3e1267",
   "metadata": {},
   "outputs": [
    {
     "data": {
      "text/plain": [
       "<AxesSubplot:xlabel='length', ylabel='score'>"
      ]
     },
     "execution_count": 81,
     "metadata": {},
     "output_type": "execute_result"
    },
    {
     "data": {
      "image/png": "[encoded data removed]",
      "text/plain": [
       "<Figure size 432x288 with 1 Axes>"
      ]
     },
     "metadata": {
      "needs_background": "light"
     },
     "output_type": "display_data"
    }
   ],
   "source": [
    "sns.scatterplot(data = scores_non_overlapping_df, x = 'length', y ='score')"
   ]
  },
  {
   "cell_type": "markdown",
   "id": "e2683970-7a45-419b-875a-0ca44f8b7a66",
   "metadata": {},
   "source": [
    "#### Produce FASTA file with CDS candidates"
   ]
  },
  {
   "cell_type": "code",
   "execution_count": 227,
   "id": "214885e2-505b-42a5-a423-dd784b69cbd5",
   "metadata": {},
   "outputs": [
    {
     "name": "stderr",
     "output_type": "stream",
     "text": [
      "100%|██████████| 127/127 [00:00<?, ?it/s]\n"
     ]
    }
   ],
   "source": [
    "trans = util.Translator()\n",
    "temp = []\n",
    "for x in non_overlapping_orf_list:\n",
    "    if x[4][1] < 1e-5 or x[4][1]==2:\n",
    "        if x[2] == 1:\n",
    "            prot = trans.translate_sequence(tb_sequence[x[0]:x[1]], 1, 0)\n",
    "        else:\n",
    "            prot = trans.translate_sequence(util.reverse_complement(tb_sequence[x[0]:x[1]]), 1, 0)\n",
    "        name = 'Start_'+str(x[0])+'_Stop_'+str(x[1])+'_Strand_'+str(x[2])\n",
    "        temp.append([name, prot[:-1]])\n",
    "util.produce_fasta_file(temp, project_dir + '/' + 'tb_orf_candidates.faa')"
   ]
  },
  {
   "cell_type": "code",
   "execution_count": 220,
   "id": "bfac2021-b052-4228-8238-370142c988fd",
   "metadata": {},
   "outputs": [],
   "source": [
    "seq_dir = 'F:/Datasets/NCBI_Refseq_Mycobacteriaceae_All_Levels/ncbi_dataset/data'"
   ]
  },
  {
   "cell_type": "code",
   "execution_count": 221,
   "id": "bc322b53-12eb-40e8-b765-be36b4b1443e",
   "metadata": {},
   "outputs": [],
   "source": [
    "sequence_dirs = util.list_dirs(seq_dir)"
   ]
  },
  {
   "cell_type": "code",
   "execution_count": 200,
   "id": "bf70bf87-882c-4d3d-9337-2d55ce23f775",
   "metadata": {},
   "outputs": [],
   "source": [
    "def generate_comparator_full_sequence_dataset(num_subsets, subset_num, dir_list): \n",
    "    sequence_dirs = util.chunk_list(dir_list, num_subsets, subset_num)\n",
    "    temp_list = []\n",
    "    for dirname in (sequence_dirs):\n",
    "            for genome_record in SeqIO.parse(seq_dir + '/' + dirname + '/genomic.gbff', \"genbank\"):\n",
    "                accession_ver = genome_record.annotations['accessions'][0] + '.' + str(genome_record.annotations['sequence_version'])\n",
    "                comparator_sequence = str(genome_record.seq)\n",
    "                if comparator_sequence.count('A') + comparator_sequence.count('C') + comparator_sequence.count('G') + comparator_sequence.count('T') < len(comparator_sequence):\n",
    "                    continue\n",
    "                if len(comparator_sequence) > 100:\n",
    "                    name = accession_ver + '@'+str(0)+'_'+str(len(comparator_sequence))\n",
    "                    temp_list.append([name, comparator_sequence])\n",
    "    return temp_list"
   ]
  },
  {
   "cell_type": "code",
   "execution_count": 201,
   "id": "2f753147-7989-422d-999e-0519b1c64d28",
   "metadata": {},
   "outputs": [],
   "source": [
    "def generate_comparator_orf_dataset(num_subsets, subset_num, dir_list): \n",
    "    sequence_dirs = util.chunk_list(dir_list, num_subsets, subset_num)\n",
    "    trans = util.Translator()\n",
    "    temp_list = []\n",
    "    for dirname in (sequence_dirs):\n",
    "            for genome_record in SeqIO.parse(seq_dir + '/' + dirname + '/genomic.gbff', \"genbank\"):\n",
    "                accession_ver = genome_record.annotations['accessions'][0] + '.' + str(genome_record.annotations['sequence_version'])\n",
    "                comparator_sequence = str(genome_record.seq)\n",
    "                if comparator_sequence.count('A') + comparator_sequence.count('C') + comparator_sequence.count('G') + comparator_sequence.count('T') < len(comparator_sequence):\n",
    "                    continue\n",
    "                ORFFinder = orffn.ORF_Finder(comparator_sequence)\n",
    "                temp = ORFFinder.max_orf(0, len(comparator_sequence), output_orfs = 'Nested', min_orf_length = 50)\n",
    "                temp.sort(key = lambda x: x[3], reverse = True)\n",
    "                for x in temp:\n",
    "                    if x[2] == 1:\n",
    "                        prot = trans.translate_sequence(comparator_sequence[x[0]:x[1]], 1, 0)\n",
    "                    else:\n",
    "                        prot = trans.translate_sequence(util.reverse_complement(comparator_sequence[x[0]:x[1]]), 1, 0)\n",
    "                    name = accession_ver + '@'+str(x[0])+'_'+str(x[1])+'_'+str(x[2])\n",
    "                    if len(prot) > 10:\n",
    "                        temp_list.append([name, prot[:-1]])\n",
    "    return temp_list"
   ]
  },
  {
   "cell_type": "code",
   "execution_count": 202,
   "id": "9d90fc35-6f4f-4f46-b10b-f4fa2e66170e",
   "metadata": {},
   "outputs": [
    {
     "name": "stderr",
     "output_type": "stream",
     "text": [
      "100%|██████████| 10740/10740 [01:10<00:00, 151.51it/s]\n"
     ]
    }
   ],
   "source": [
    "comparator_full_sequence_list = []\n",
    "if 1==1:\n",
    "    parallel_output = Parallel(n_jobs=-1)(delayed(generate_comparator_full_sequence_dataset)(num_cores, core_number, sequence_dirs) for core_number in core_numbers)\n",
    "    for x in parallel_output:\n",
    "        for y in x:\n",
    "            comparator_full_sequence_list.append(y)\n",
    "util.produce_fasta_file(comparator_full_sequence_list, project_dir + '/' + 'comparator_full_sequences.faa')"
   ]
  },
  {
   "cell_type": "code",
   "execution_count": 222,
   "id": "24007643-4ce9-44bc-b865-b1a142d1768d",
   "metadata": {},
   "outputs": [
    {
     "name": "stderr",
     "output_type": "stream",
     "text": [
      "100%|██████████| 13706029/13706029 [07:49<00:00, 29217.48it/s]\n"
     ]
    }
   ],
   "source": [
    "comparator_orf_list = []\n",
    "if 1==1:\n",
    "    parallel_output = Parallel(n_jobs=-1)(delayed(generate_comparator_orf_dataset)(num_cores, core_number, sequence_dirs) for core_number in core_numbers)\n",
    "    for x in parallel_output:\n",
    "        for y in x:\n",
    "            comparator_orf_list.append(y)\n",
    "util.produce_fasta_file(comparator_orf_list, project_dir + '/' + 'comparator_orf_candidates.faa')"
   ]
  },
  {
   "cell_type": "code",
   "execution_count": 210,
   "id": "a5fd1cf6-bb31-407e-b00a-457b9b0384b3",
   "metadata": {},
   "outputs": [],
   "source": [
    "blastfn.build_blast_db(project_dir, 'comparator_full_sequences.faa', 'Comparator_Full_Sequences', 'F:/Datasets/BLAST/Comparator_Full_Sequences', db_type = 'nucl')"
   ]
  },
  {
   "cell_type": "code",
   "execution_count": 223,
   "id": "6cd637a2-9793-4d04-826c-d9d177fc05c1",
   "metadata": {},
   "outputs": [],
   "source": [
    "blastfn.build_blast_db(project_dir, 'comparator_orf_candidates.faa', 'Comparator_ORF_Candidates', 'F:/Datasets/BLAST/Comparator_ORF_Candidates')"
   ]
  },
  {
   "cell_type": "code",
   "execution_count": 217,
   "id": "b9e0beaa-dbd5-4085-ac45-372b32b4e0f9",
   "metadata": {},
   "outputs": [],
   "source": [
    "blastfn.run_blastn('F:/Datasets/BLAST/Comparator_Full_Sequences', 'ultra_conserved_candidates.faa', 'Comparator_Full_Sequences', outfile = 'hits.csv', e_value = 1e-5)"
   ]
  },
  {
   "cell_type": "code",
   "execution_count": null,
   "id": "f45633ec-193b-452b-a240-b3ce5b707719",
   "metadata": {},
   "outputs": [],
   "source": [
    "blastfn.run_blastn('F:/Datasets/BLAST/Comparator_Full_Sequences', 'tb_cds.faa', 'Comparator_Full_Sequences', outfile = 'cds_hits.csv', e_value = 1e-5)"
   ]
  },
  {
   "cell_type": "code",
   "execution_count": 229,
   "id": "f8c6afdc-75a1-4144-bc15-c1170106dd62",
   "metadata": {},
   "outputs": [],
   "source": [
    "blastfn.run_blastp('F:/Datasets/BLAST/Comparator_ORF_Candidates', 'tb_orf_candidates.faa', 'Comparator_ORF_Candidates', outfile = 'hits.csv', e_value = 1e-5)"
   ]
  },
  {
   "cell_type": "code",
   "execution_count": 185,
   "id": "b3f22cb5-509b-443c-8ec8-fe1f5f25338e",
   "metadata": {},
   "outputs": [],
   "source": [
    "with open('F:/Project_Data/Project_10/names_dict.pkl', 'rb') as f:\n",
    "    names_dict = pickle.load(f)  "
   ]
  },
  {
   "cell_type": "code",
   "execution_count": 225,
   "id": "1b45ea14-8eee-4bdb-9c34-05a90c158a37",
   "metadata": {},
   "outputs": [],
   "source": [
    "temp = blastfn.process_blast_output('F:/Datasets/BLAST/Comparator_Full_Sequences/hits.csv', names_dict, top_hit_only = False)\n",
    "temp.to_csv('F:/Project_Data/Project_10/ultra_conserved_blast_results.csv')"
   ]
  },
  {
   "cell_type": "code",
   "execution_count": 230,
   "id": "4b9cd613-7b8f-441e-85fa-f7a113e5f879",
   "metadata": {},
   "outputs": [],
   "source": [
    "temp = blastfn.process_blast_output('F:/Datasets/BLAST/Comparator_ORF_Candidates/hits.csv', names_dict, top_hit_only = False)\n",
    "temp.to_csv('F:/Project_Data/Project_10/orf_candidates_blast_results.csv')"
   ]
  },
  {
   "cell_type": "code",
   "execution_count": 265,
   "id": "93696eef-27de-4070-b4d8-3a47e7319a81",
   "metadata": {},
   "outputs": [],
   "source": [
    "blast_df = blastfn.process_blast_output('F:/Datasets/BLAST/Comparator_Full_Sequences/hits.csv', names_dict, top_hit_only = False)\n",
    "temp_df = blast_df[blast_df['target_species_name'] == 'Mycobacterium tuberculosis H37Rv']\n",
    "\n",
    "ultra_conserved_sections = list(temp_df['query_ref'].unique())\n",
    "ultra_conserved_section_dict = {}\n",
    "for x in ultra_conserved_sections:\n",
    "    temp = x.split('_')\n",
    "    ultra_conserved_section_dict[x] = (int(temp[1]),int(temp[3]))\n",
    "master_list = []\n",
    "for x in ultra_conserved_sections:\n",
    "    temp_list = []\n",
    "    temp_2_df = temp_df[temp_df['query_ref'] == x]\n",
    "    for i, r in temp_2_df.iterrows():\n",
    "        start = min(int(r['target_start_alignment']), int(r['target_end_alignment']))\n",
    "        stop = max(int(r['target_start_alignment']), int(r['target_end_alignment']))\n",
    "        for k, v in ultra_conserved_section_dict.items():\n",
    "            if v[1] > start and v[0] < stop:\n",
    "                temp_list.append((k))\n",
    "    a = list(set(temp_list))\n",
    "    a.sort(key = lambda x: int(x.split('_')[1]))\n",
    "    master_list.append(a)"
   ]
  },
  {
   "cell_type": "code",
   "execution_count": 266,
   "id": "9f16f993-53f5-4b39-96af-9df960b3f5cd",
   "metadata": {},
   "outputs": [],
   "source": [
    "master_list.sort(key = lambda x: int(x[0].split('_')[1]))"
   ]
  },
  {
   "cell_type": "code",
   "execution_count": 271,
   "id": "de0aed84-bc50-4189-bbc0-543062a6731d",
   "metadata": {},
   "outputs": [],
   "source": [
    "a = list(set([tuple(i) for i in master_list]))\n",
    "    "
   ]
  },
  {
   "cell_type": "code",
   "execution_count": 273,
   "id": "c58adecc-c679-47c6-946b-90b0be366491",
   "metadata": {},
   "outputs": [
    {
     "data": {
      "text/plain": [
       "235"
      ]
     },
     "execution_count": 273,
     "metadata": {},
     "output_type": "execute_result"
    }
   ],
   "source": [
    "a.sort(key = lambda x: int(x[0].split('_')[1]))\n",
    "len(a)"
   ]
  },
  {
   "cell_type": "code",
   "execution_count": 290,
   "id": "6ab99491-776b-4ce7-92bb-d46d346a241e",
   "metadata": {},
   "outputs": [
    {
     "name": "stdout",
     "output_type": "stream",
     "text": [
      "**************************************************************************************************\n",
      "**************************************************************************************************\n",
      "('Start_80183_Stop_80373', 'Start_3082465_Stop_3082769')\n",
      "Start_80183_Stop_80373 Rv0071 79485 80193 1 Possible maturase\n",
      "Start_80183_Stop_80373 MTB000100 80239 80440 1 Putative small regulatory RNA\n",
      "Start_80183_Stop_80373 MTB000101 80253 80344 -1 Putative small regulatory RNA\n",
      "Start_3082465_Stop_3082769 Rv2774c 3082351 3082756 -1 Hypothetical protein\n",
      "**************************************************************************************************\n",
      "**************************************************************************************************\n",
      "('Start_80623_Stop_82665', 'Start_2882289_Stop_2884331')\n",
      "Start_80623_Stop_82665 Rv0072 80623 81673 1 Probable glutamine-transport transmembrane protein ABC transporter\n",
      "Start_80623_Stop_82665 Rv0073 81675 82668 1 Probable glutamine-transport ATP-binding protein ABC transporter\n",
      "Start_2882289_Stop_2884331 Rv2563 2882289 2883339 1 Probable glutamine-transport transmembrane protein ABC transporter\n",
      "Start_2882289_Stop_2884331 Rv2564 2883341 2884334 1 Probable glutamine-transport ATP-binding protein ABC transporter GlnQ\n",
      "**************************************************************************************************\n",
      "**************************************************************************************************\n",
      "('Start_102269_Stop_102805', 'Start_119922_Stop_120462')\n",
      "Start_102269_Stop_102805 Rv0092 100582 102868 1 Cation transporter P-type ATPase a CtpA\n",
      "Start_119922_Stop_120462 Rv0103c 119914 122173 -1 Probable cation-transporter P-type ATPase B CtpB\n",
      "**************************************************************************************************\n",
      "**************************************************************************************************\n",
      "('Start_103705_Stop_105130', 'Start_1788513_Stop_1789865', 'Start_3883549_Stop_3884923')\n",
      "Start_103705_Stop_105130 Rv0094c 103709 104663 -1 Conserved hypothetical protein\n",
      "Start_103705_Stop_105130 Rv0095c 104804 105215 -1 Conserved hypothetical protein\n",
      "Start_1788513_Stop_1789865 Rv1587c 1788161 1789163 -1 Partial REP13E12 repeat protein\n",
      "Start_1788513_Stop_1789865 Rv1588c 1789167 1789836 -1 Partial REP13E12 repeat protein\n",
      "Start_3883549_Stop_3884923 Rv3466 3883524 3884193 1 Conserved hypothetical protein\n",
      "Start_3883549_Stop_3884923 Rv3467 3883963 3884917 1 Conserved hypothetical protein\n",
      "**************************************************************************************************\n",
      "**************************************************************************************************\n",
      "('Start_116229_Stop_117095', 'Start_2920084_Stop_2920956')\n",
      "Start_116229_Stop_117095 Rv0101 110000 117539 1 Probable peptide synthetase Nrp (peptide synthase)\n",
      "Start_2920084_Stop_2920956 Rv2590 2917870 2921377 1 Probable fatty-acid-CoA ligase FadD9 (fatty-acid-CoA synthetase) (fatty-acid-CoA synthase)\n",
      "**************************************************************************************************\n",
      "**************************************************************************************************\n",
      "('Start_120824_Stop_120986', 'Start_1079971_Stop_1080133')\n",
      "Start_120824_Stop_120986 Rv0103c 119914 122173 -1 Probable cation-transporter P-type ATPase B CtpB\n",
      "Start_1079971_Stop_1080133 Rv0969 1078742 1081055 1 Probable metal cation transporter P-type ATPase CtpV\n",
      "**************************************************************************************************\n",
      "**************************************************************************************************\n",
      "('Start_149532_Stop_150216', 'Start_2424164_Stop_2424841', 'Start_3801652_Stop_3802490')\n",
      "Start_149532_Stop_150216 Rv0124 149532 150996 1 PE-PGRS family protein PE_PGRS2\n",
      "Start_2424164_Stop_2424841 Rv2162c 2423239 2424838 -1 PE-PGRS family protein PE_PGRS38\n",
      "Start_3801652_Stop_3802490 Rv3388 3801652 3803848 1 PE-PGRS family protein PE_PGRS52\n",
      "**************************************************************************************************\n",
      "**************************************************************************************************\n",
      "('Start_149532_Stop_150216', 'Start_1216440_Stop_1217172')\n",
      "Start_149532_Stop_150216 Rv0124 149532 150996 1 PE-PGRS family protein PE_PGRS2\n",
      "Start_1216440_Stop_1217172 Rv1091 1216468 1219030 1 PE-PGRS family protein PE_PGRS22\n",
      "**************************************************************************************************\n",
      "**************************************************************************************************\n",
      "('Start_149532_Stop_150216', 'Start_1216440_Stop_1217172', 'Start_3801652_Stop_3802490', 'Start_3930984_Stop_3936530', 'Start_3945776_Stop_3950140')\n",
      "Start_149532_Stop_150216 Rv0124 149532 150996 1 PE-PGRS family protein PE_PGRS2\n",
      "Start_1216440_Stop_1217172 Rv1091 1216468 1219030 1 PE-PGRS family protein PE_PGRS22\n",
      "Start_3801652_Stop_3802490 Rv3388 3801652 3803848 1 PE-PGRS family protein PE_PGRS52\n",
      "Start_3930984_Stop_3936530 Rv3508 3931004 3936710 1 PE-PGRS family protein PE_PGRS54\n",
      "Start_3945776_Stop_3950140 Rv3514 3945793 3950263 1 PE-PGRS family protein PE_PGRS57\n",
      "**************************************************************************************************\n",
      "**************************************************************************************************\n",
      "('Start_149532_Stop_150216', 'Start_3930984_Stop_3936530', 'Start_3945776_Stop_3950140')\n",
      "Start_149532_Stop_150216 Rv0124 149532 150996 1 PE-PGRS family protein PE_PGRS2\n",
      "Start_3930984_Stop_3936530 Rv3508 3931004 3936710 1 PE-PGRS family protein PE_PGRS54\n",
      "Start_3945776_Stop_3950140 Rv3514 3945793 3950263 1 PE-PGRS family protein PE_PGRS57\n",
      "**************************************************************************************************\n",
      "**************************************************************************************************\n",
      "('Start_154079_Stop_154239',)\n",
      "Start_154079_Stop_154239 Rv0126 152323 154129 1 Trehalose synthase TreS\n",
      "Start_154079_Stop_154239 Rv0127 154231 155599 1 Maltokinase Mak\n",
      "**************************************************************************************************\n",
      "**************************************************************************************************\n",
      "('Start_177202_Stop_177434', 'Start_3317532_Stop_3317742', 'Start_4077863_Stop_4078202', 'Start_4317950_Stop_4318157')\n",
      "Start_177202_Stop_177434 MTB000104 177235 177285 -1 Putative small regulatory RNA\n",
      "Start_4077863_Stop_4078202 Rv3639c 4077883 4078450 -1 Conserved hypothetical protein\n",
      "**************************************************************************************************\n",
      "**************************************************************************************************\n",
      "('Start_177202_Stop_177434', 'Start_4077863_Stop_4078202', 'Start_4317950_Stop_4318157')\n",
      "Start_177202_Stop_177434 MTB000104 177235 177285 -1 Putative small regulatory RNA\n",
      "Start_4077863_Stop_4078202 Rv3639c 4077883 4078450 -1 Conserved hypothetical protein\n",
      "**************************************************************************************************\n",
      "**************************************************************************************************\n",
      "('Start_177202_Stop_177434', 'Start_3317532_Stop_3317742', 'Start_4077863_Stop_4078202')\n",
      "Start_177202_Stop_177434 MTB000104 177235 177285 -1 Putative small regulatory RNA\n",
      "Start_4077863_Stop_4078202 Rv3639c 4077883 4078450 -1 Conserved hypothetical protein\n",
      "**************************************************************************************************\n",
      "**************************************************************************************************\n",
      "('Start_196950_Stop_197651', 'Start_685218_Stop_685919')\n",
      "Start_196950_Stop_197651 Rv0167 196860 197658 1 Conserved integral membrane protein YrbE1A\n",
      "Start_685218_Stop_685919 Rv0587 685128 685926 1 Conserved hypothetical integral membrane protein YrbE2A\n",
      "**************************************************************************************************\n",
      "**************************************************************************************************\n",
      "('Start_197779_Stop_199496', 'Start_686067_Stop_687776')\n",
      "Start_197779_Stop_199496 Rv0168 197659 198529 1 Conserved integral membrane protein YrbE1B\n",
      "Start_197779_Stop_199496 Rv0169 198533 199898 1 Mce-family protein Mce1A\n",
      "Start_686067_Stop_687776 Rv0588 685927 686815 1 Conserved hypothetical integral membrane protein YrbE2B\n",
      "Start_686067_Stop_687776 Rv0589 686820 688035 1 Mce-family protein Mce2A\n",
      "**************************************************************************************************\n",
      "**************************************************************************************************\n",
      "('Start_199666_Stop_202328', 'Start_687804_Stop_690455')\n",
      "Start_199666_Stop_202328 Rv0169 198533 199898 1 Mce-family protein Mce1A\n",
      "Start_199666_Stop_202328 Rv0170 199894 200935 1 Mce-family protein Mce1B\n",
      "Start_199666_Stop_202328 Rv0171 200931 202479 1 Mce-family protein Mce1C\n",
      "Start_687804_Stop_690455 Rv0589 686820 688035 1 Mce-family protein Mce2A\n",
      "Start_687804_Stop_690455 Rv0590 688031 688859 1 Mce-family protein Mce2B\n",
      "Start_687804_Stop_690455 Rv0590A 688807 689062 1 Mce-family related protein\n",
      "Start_687804_Stop_690455 Rv0591 689058 690504 1 Mce-family protein Mce2C\n",
      "**************************************************************************************************\n",
      "**************************************************************************************************\n",
      "('Start_308995_Stop_309535', 'Start_339368_Stop_339909')\n",
      "Start_308995_Stop_309535 Rv0256c 307876 309547 -1 PPE family protein PPE2\n",
      "Start_339368_Stop_339909 Rv0280 339363 340974 1 PPE family protein PPE3\n",
      "**************************************************************************************************\n",
      "**************************************************************************************************\n",
      "('Start_308995_Stop_309535', 'Start_339368_Stop_339909', 'Start_3377647_Stop_3378273', 'Start_3380086_Stop_3381026')\n",
      "Start_308995_Stop_309535 Rv0256c 307876 309547 -1 PPE family protein PPE2\n",
      "Start_339368_Stop_339909 Rv0280 339363 340974 1 PPE family protein PPE3\n",
      "Start_3377647_Stop_3378273 Rv3018c 3376938 3378243 -1 PPE family protein PPE46\n",
      "Start_3380086_Stop_3381026 Rv3021c 3379375 3380452 -1 PPE family protein PPE47\n",
      "Start_3380086_Stop_3381026 Rv3022c 3380439 3380682 -1 PPE family protein PPE48\n",
      "Start_3380086_Stop_3381026 Rv3022A 3380678 3380993 -1 PE family protein PE29\n",
      "**************************************************************************************************\n",
      "**************************************************************************************************\n",
      "('Start_309898_Stop_310103', 'Start_1702674_Stop_1703126', 'Start_1814844_Stop_1815130', 'Start_2637257_Stop_2637535', 'Start_4053631_Stop_4053900')\n",
      "Start_309898_Stop_310103 Rv0257 309698 310073 1 Conserved hypothetical protein\n",
      "Start_1702674_Stop_1703126 Rv1511 1703073 1704096 1 GDP-D-mannose dehydratase GmdA (GDP-mannose 4,6 dehydratase) (GMD)\n",
      "Start_4053631_Stop_4053900 Rv3612c 4053517 4053847 -1 Conserved hypothetical protein\n",
      "Start_4053631_Stop_4053900 Rv3613c 4053880 4054042 -1 Hypothetical protein\n",
      "**************************************************************************************************\n",
      "**************************************************************************************************\n",
      "('Start_309898_Stop_310103', 'Start_1702674_Stop_1703126', 'Start_1814844_Stop_1815130', 'Start_2637257_Stop_2637535')\n",
      "Start_309898_Stop_310103 Rv0257 309698 310073 1 Conserved hypothetical protein\n",
      "Start_1702674_Stop_1703126 Rv1511 1703073 1704096 1 GDP-D-mannose dehydratase GmdA (GDP-mannose 4,6 dehydratase) (GMD)\n",
      "**************************************************************************************************\n",
      "**************************************************************************************************\n",
      "('Start_309898_Stop_310103', 'Start_1699640_Stop_1699918', 'Start_1702674_Stop_1703126', 'Start_1814844_Stop_1815130', 'Start_2637257_Stop_2637535', 'Start_4053631_Stop_4053900')\n",
      "Start_309898_Stop_310103 Rv0257 309698 310073 1 Conserved hypothetical protein\n",
      "Start_1699640_Stop_1699918 Rv1508c 1698094 1699894 -1 Probable membrane protein\n",
      "Start_1699640_Stop_1699918 Rv1508A 1699865 1700228 1 Conserved hypothetical protein\n",
      "Start_1702674_Stop_1703126 Rv1511 1703073 1704096 1 GDP-D-mannose dehydratase GmdA (GDP-mannose 4,6 dehydratase) (GMD)\n",
      "Start_4053631_Stop_4053900 Rv3612c 4053517 4053847 -1 Conserved hypothetical protein\n",
      "Start_4053631_Stop_4053900 Rv3613c 4053880 4054042 -1 Hypothetical protein\n",
      "**************************************************************************************************\n",
      "**************************************************************************************************\n",
      "('Start_332695_Stop_336379', 'Start_835774_Stop_836250', 'Start_2424164_Stop_2424841')\n",
      "Start_332695_Stop_336379 Rv0277c 332707 333136 -1 Possible toxin VapC25. Contains PIN domain.\n",
      "Start_332695_Stop_336379 Rv0277A 333159 333417 -1 Possible antitoxin VapB25\n",
      "Start_332695_Stop_336379 Rv0278c 333436 336310 -1 PE-PGRS family protein PE_PGRS3\n",
      "Start_835774_Stop_836250 Rv0746 835700 838052 1 PE-PGRS family protein PE_PGRS9\n",
      "Start_2424164_Stop_2424841 Rv2162c 2423239 2424838 -1 PE-PGRS family protein PE_PGRS38\n",
      "**************************************************************************************************\n",
      "**************************************************************************************************\n",
      "('Start_332695_Stop_336379', 'Start_336565_Stop_339142', 'Start_832966_Stop_833533', 'Start_838485_Stop_841667')\n",
      "Start_332695_Stop_336379 Rv0277c 332707 333136 -1 Possible toxin VapC25. Contains PIN domain.\n",
      "Start_332695_Stop_336379 Rv0277A 333159 333417 -1 Possible antitoxin VapB25\n",
      "Start_332695_Stop_336379 Rv0278c 333436 336310 -1 PE-PGRS family protein PE_PGRS3\n",
      "Start_336565_Stop_339142 Rv0279c 336559 339073 -1 PE-PGRS family protein PE_PGRS4\n",
      "Start_832966_Stop_833533 Rv0742 832980 833508 1 PE-PGRS family protein PE_PGRS8\n",
      "Start_838485_Stop_841667 Rv0747 838450 840856 1 PE-PGRS family protein PE_PGRS10\n",
      "Start_838485_Stop_841667 Rv0748 840946 841204 1 Possible antitoxin VapB31\n",
      "Start_838485_Stop_841667 Rv0749 841227 841656 1 Possible toxin VapC31. Contains PIN domain.\n",
      "**************************************************************************************************\n",
      "**************************************************************************************************\n",
      "('Start_332695_Stop_336379', 'Start_336565_Stop_339142', 'Start_832966_Stop_833533', 'Start_835774_Stop_836250', 'Start_838485_Stop_841667', 'Start_924987_Stop_927519', 'Start_1989859_Stop_1992619')\n",
      "Start_332695_Stop_336379 Rv0277c 332707 333136 -1 Possible toxin VapC25. Contains PIN domain.\n",
      "Start_332695_Stop_336379 Rv0277A 333159 333417 -1 Possible antitoxin VapB25\n",
      "Start_332695_Stop_336379 Rv0278c 333436 336310 -1 PE-PGRS family protein PE_PGRS3\n",
      "Start_336565_Stop_339142 Rv0279c 336559 339073 -1 PE-PGRS family protein PE_PGRS4\n",
      "Start_832966_Stop_833533 Rv0742 832980 833508 1 PE-PGRS family protein PE_PGRS8\n",
      "Start_835774_Stop_836250 Rv0746 835700 838052 1 PE-PGRS family protein PE_PGRS9\n",
      "Start_838485_Stop_841667 Rv0747 838450 840856 1 PE-PGRS family protein PE_PGRS10\n",
      "Start_838485_Stop_841667 Rv0748 840946 841204 1 Possible antitoxin VapB31\n",
      "Start_838485_Stop_841667 Rv0749 841227 841656 1 Possible toxin VapC31. Contains PIN domain.\n",
      "Start_924987_Stop_927519 Rv0832 924950 925364 1 PE-PGRS family protein PE_PGRS12\n",
      "Start_924987_Stop_927519 Rv0833 925360 927610 1 PE-PGRS family protein PE_PGRS13\n",
      "Start_1989859_Stop_1992619 Rv1759c 1989832 1992577 -1 PE-PGRS family protein Wag22\n",
      "**************************************************************************************************\n",
      "**************************************************************************************************\n",
      "('Start_332695_Stop_336379', 'Start_336565_Stop_339142', 'Start_838485_Stop_841667', 'Start_924987_Stop_927519', 'Start_1489086_Stop_1489917', 'Start_2000647_Stop_2001132')\n",
      "Start_332695_Stop_336379 Rv0277c 332707 333136 -1 Possible toxin VapC25. Contains PIN domain.\n",
      "Start_332695_Stop_336379 Rv0277A 333159 333417 -1 Possible antitoxin VapB25\n",
      "Start_332695_Stop_336379 Rv0278c 333436 336310 -1 PE-PGRS family protein PE_PGRS3\n",
      "Start_336565_Stop_339142 Rv0279c 336559 339073 -1 PE-PGRS family protein PE_PGRS4\n",
      "Start_838485_Stop_841667 Rv0747 838450 840856 1 PE-PGRS family protein PE_PGRS10\n",
      "Start_838485_Stop_841667 Rv0748 840946 841204 1 Possible antitoxin VapB31\n",
      "Start_838485_Stop_841667 Rv0749 841227 841656 1 Possible toxin VapC31. Contains PIN domain.\n",
      "Start_924987_Stop_927519 Rv0832 924950 925364 1 PE-PGRS family protein PE_PGRS12\n",
      "Start_924987_Stop_927519 Rv0833 925360 927610 1 PE-PGRS family protein PE_PGRS13\n",
      "Start_1489086_Stop_1489917 Rv1325c 1488153 1489965 -1 PE-PGRS family protein PE_PGRS24\n",
      "Start_2000647_Stop_2001132 Rv1768 2000613 2002470 1 PE-PGRS family protein PE_PGRS31\n",
      "**************************************************************************************************\n",
      "**************************************************************************************************\n",
      "('Start_332695_Stop_336379', 'Start_336565_Stop_339142', 'Start_832966_Stop_833533', 'Start_2061790_Stop_2062684')\n",
      "Start_332695_Stop_336379 Rv0277c 332707 333136 -1 Possible toxin VapC25. Contains PIN domain.\n",
      "Start_332695_Stop_336379 Rv0277A 333159 333417 -1 Possible antitoxin VapB25\n",
      "Start_332695_Stop_336379 Rv0278c 333436 336310 -1 PE-PGRS family protein PE_PGRS3\n",
      "Start_336565_Stop_339142 Rv0279c 336559 339073 -1 PE-PGRS family protein PE_PGRS4\n",
      "Start_832966_Stop_833533 Rv0742 832980 833508 1 PE-PGRS family protein PE_PGRS8\n",
      "Start_2061790_Stop_2062684 Rv1818c 2061177 2062674 -1 PE-PGRS family protein PE_PGRS33\n",
      "**************************************************************************************************\n",
      "**************************************************************************************************\n",
      "('Start_339368_Stop_339909', 'Start_349622_Stop_350398', 'Start_3377647_Stop_3378273', 'Start_3380086_Stop_3381026')\n",
      "Start_339368_Stop_339909 Rv0280 339363 340974 1 PPE family protein PPE3\n",
      "Start_349622_Stop_350398 Rv0284 345634 349627 1 ESX conserved component EccC3. ESX-3 type VII secretion system protein. Possible membrane protein.\n",
      "Start_349622_Stop_350398 Rv0285 349623 349932 1 PE family protein PE5\n",
      "Start_349622_Stop_350398 Rv0286 349934 351476 1 PPE family protein PPE4\n",
      "Start_3377647_Stop_3378273 Rv3018c 3376938 3378243 -1 PPE family protein PPE46\n",
      "Start_3380086_Stop_3381026 Rv3021c 3379375 3380452 -1 PPE family protein PPE47\n",
      "Start_3380086_Stop_3381026 Rv3022c 3380439 3380682 -1 PPE family protein PPE48\n",
      "Start_3380086_Stop_3381026 Rv3022A 3380678 3380993 -1 PE family protein PE29\n",
      "**************************************************************************************************\n",
      "**************************************************************************************************\n",
      "('Start_349622_Stop_350398', 'Start_3377647_Stop_3378273', 'Start_3380086_Stop_3381026')\n",
      "Start_349622_Stop_350398 Rv0284 345634 349627 1 ESX conserved component EccC3. ESX-3 type VII secretion system protein. Possible membrane protein.\n",
      "Start_349622_Stop_350398 Rv0285 349623 349932 1 PE family protein PE5\n",
      "Start_349622_Stop_350398 Rv0286 349934 351476 1 PPE family protein PPE4\n",
      "Start_3377647_Stop_3378273 Rv3018c 3376938 3378243 -1 PPE family protein PPE46\n",
      "Start_3380086_Stop_3381026 Rv3021c 3379375 3380452 -1 PPE family protein PPE47\n",
      "Start_3380086_Stop_3381026 Rv3022c 3380439 3380682 -1 PPE family protein PPE48\n",
      "Start_3380086_Stop_3381026 Rv3022A 3380678 3380993 -1 PE family protein PE29\n",
      "**************************************************************************************************\n",
      "**************************************************************************************************\n",
      "('Start_361334_Stop_362020', 'Start_1573168_Stop_1573859', 'Start_2424164_Stop_2424841')\n",
      "Start_361334_Stop_362020 Rv0297 361333 363109 1 PE-PGRS family protein PE_PGRS5\n",
      "Start_1573168_Stop_1573859 Rv1396c 1572126 1573857 -1 PE-PGRS family protein PE_PGRS25\n",
      "Start_2424164_Stop_2424841 Rv2162c 2423239 2424838 -1 PE-PGRS family protein PE_PGRS38\n",
      "**************************************************************************************************\n",
      "**************************************************************************************************\n",
      "('Start_361334_Stop_362020', 'Start_1573168_Stop_1573859')\n",
      "Start_361334_Stop_362020 Rv0297 361333 363109 1 PE-PGRS family protein PE_PGRS5\n",
      "Start_1573168_Stop_1573859 Rv1396c 1572126 1573857 -1 PE-PGRS family protein PE_PGRS25\n",
      "**************************************************************************************************\n",
      "**************************************************************************************************\n",
      "('Start_366466_Stop_367147', 'Start_367884_Stop_368603', 'Start_371783_Stop_372525', 'Start_373139_Stop_373884', 'Start_374429_Stop_375708')\n",
      "Start_366466_Stop_367147 Rv0304c 366149 372764 -1 PPE family protein PPE5\n",
      "Start_367884_Stop_368603 Rv0304c 366149 372764 -1 PPE family protein PPE5\n",
      "Start_371783_Stop_372525 Rv0304c 366149 372764 -1 PPE family protein PPE5\n",
      "Start_373139_Stop_373884 Rv0305c 372819 375711 -1 PPE family protein PPE6\n",
      "Start_374429_Stop_375708 Rv0305c 372819 375711 -1 PPE family protein PPE6\n",
      "**************************************************************************************************\n",
      "**************************************************************************************************\n",
      "('Start_366466_Stop_367147', 'Start_371783_Stop_372525', 'Start_374429_Stop_375708', 'Start_426300_Stop_427729')\n",
      "Start_366466_Stop_367147 Rv0304c 366149 372764 -1 PPE family protein PPE5\n",
      "Start_371783_Stop_372525 Rv0304c 366149 372764 -1 PPE family protein PPE5\n",
      "Start_374429_Stop_375708 Rv0305c 372819 375711 -1 PPE family protein PPE6\n",
      "Start_426300_Stop_427729 Rv0355c 424776 434679 -1 PPE family protein PPE8\n",
      "**************************************************************************************************\n",
      "**************************************************************************************************\n",
      "('Start_366466_Stop_367147', 'Start_426300_Stop_427729', 'Start_429497_Stop_430220', 'Start_430902_Stop_431938', 'Start_432232_Stop_432944', 'Start_3758494_Stop_3759962', 'Start_3998833_Stop_3999325')\n",
      "Start_366466_Stop_367147 Rv0304c 366149 372764 -1 PPE family protein PPE5\n",
      "Start_426300_Stop_427729 Rv0355c 424776 434679 -1 PPE family protein PPE8\n",
      "Start_429497_Stop_430220 Rv0355c 424776 434679 -1 PPE family protein PPE8\n",
      "Start_430902_Stop_431938 Rv0355c 424776 434679 -1 PPE family protein PPE8\n",
      "Start_432232_Stop_432944 Rv0355c 424776 434679 -1 PPE family protein PPE8\n",
      "Start_3758494_Stop_3759962 Rv3350c 3755951 3767102 -1 PPE family protein PPE56\n",
      "Start_3998833_Stop_3999325 Rv3558 3997979 3999638 1 PPE family protein PPE64\n",
      "**************************************************************************************************\n",
      "**************************************************************************************************\n",
      "('Start_366466_Stop_367147', 'Start_367884_Stop_368603', 'Start_371783_Stop_372525', 'Start_373139_Stop_373884', 'Start_374429_Stop_375708', 'Start_433395_Stop_434673', 'Start_3735635_Stop_3736314', 'Start_3744458_Stop_3746010', 'Start_3760281_Stop_3761796')\n",
      "Start_366466_Stop_367147 Rv0304c 366149 372764 -1 PPE family protein PPE5\n",
      "Start_367884_Stop_368603 Rv0304c 366149 372764 -1 PPE family protein PPE5\n",
      "Start_371783_Stop_372525 Rv0304c 366149 372764 -1 PPE family protein PPE5\n",
      "Start_373139_Stop_373884 Rv0305c 372819 375711 -1 PPE family protein PPE6\n",
      "Start_374429_Stop_375708 Rv0305c 372819 375711 -1 PPE family protein PPE6\n",
      "Start_433395_Stop_434673 Rv0355c 424776 434679 -1 PPE family protein PPE8\n",
      "Start_3735635_Stop_3736314 Rv3343c 3729363 3736935 -1 PPE family protein PPE54\n",
      "Start_3744458_Stop_3746010 Rv3347c 3743710 3753184 -1 PPE family protein PPE55\n",
      "Start_3760281_Stop_3761796 Rv3350c 3755951 3767102 -1 PPE family protein PPE56\n",
      "**************************************************************************************************\n",
      "**************************************************************************************************\n",
      "('Start_367884_Stop_368603', 'Start_3746302_Stop_3747763', 'Start_3751634_Stop_3753190', 'Start_3764003_Stop_3765347', 'Start_3765547_Stop_3767119', 'Start_3971306_Stop_3971659')\n",
      "Start_367884_Stop_368603 Rv0304c 366149 372764 -1 PPE family protein PPE5\n",
      "Start_3746302_Stop_3747763 Rv3347c 3743710 3753184 -1 PPE family protein PPE55\n",
      "Start_3751634_Stop_3753190 Rv3347c 3743710 3753184 -1 PPE family protein PPE55\n",
      "Start_3764003_Stop_3765347 Rv3350c 3755951 3767102 -1 PPE family protein PPE56\n",
      "Start_3765547_Stop_3767119 Rv3350c 3755951 3767102 -1 PPE family protein PPE56\n",
      "Start_3971306_Stop_3971659 Rv3533c 3970704 3972453 -1 PPE family protein PPE62\n",
      "**************************************************************************************************\n",
      "**************************************************************************************************\n",
      "('Start_367884_Stop_368603', 'Start_371783_Stop_372525', 'Start_374429_Stop_375708', 'Start_3765547_Stop_3767119')\n",
      "Start_367884_Stop_368603 Rv0304c 366149 372764 -1 PPE family protein PPE5\n",
      "Start_371783_Stop_372525 Rv0304c 366149 372764 -1 PPE family protein PPE5\n",
      "Start_374429_Stop_375708 Rv0305c 372819 375711 -1 PPE family protein PPE6\n",
      "Start_3765547_Stop_3767119 Rv3350c 3755951 3767102 -1 PPE family protein PPE56\n",
      "**************************************************************************************************\n",
      "**************************************************************************************************\n",
      "('Start_368661_Stop_369024', 'Start_370071_Stop_370246', 'Start_372601_Stop_372956')\n",
      "Start_368661_Stop_369024 Rv0304c 366149 372764 -1 PPE family protein PPE5\n",
      "Start_370071_Stop_370246 Rv0304c 366149 372764 -1 PPE family protein PPE5\n",
      "Start_372601_Stop_372956 Rv0304c 366149 372764 -1 PPE family protein PPE5\n",
      "Start_372601_Stop_372956 Rv0305c 372819 375711 -1 PPE family protein PPE6\n",
      "**************************************************************************************************\n",
      "**************************************************************************************************\n",
      "('Start_368661_Stop_369024', 'Start_372601_Stop_372956')\n",
      "Start_368661_Stop_369024 Rv0304c 366149 372764 -1 PPE family protein PPE5\n",
      "Start_372601_Stop_372956 Rv0304c 366149 372764 -1 PPE family protein PPE5\n",
      "Start_372601_Stop_372956 Rv0305c 372819 375711 -1 PPE family protein PPE6\n",
      "**************************************************************************************************\n",
      "**************************************************************************************************\n",
      "('Start_368661_Stop_369024', 'Start_370071_Stop_370246')\n",
      "Start_368661_Stop_369024 Rv0304c 366149 372764 -1 PPE family protein PPE5\n",
      "Start_370071_Stop_370246 Rv0304c 366149 372764 -1 PPE family protein PPE5\n",
      "**************************************************************************************************\n",
      "**************************************************************************************************\n",
      "('Start_369233_Stop_369856', 'Start_370437_Stop_371038', 'Start_3971306_Stop_3971659')\n",
      "Start_369233_Stop_369856 Rv0304c 366149 372764 -1 PPE family protein PPE5\n",
      "Start_370437_Stop_371038 Rv0304c 366149 372764 -1 PPE family protein PPE5\n",
      "Start_3971306_Stop_3971659 Rv3533c 3970704 3972453 -1 PPE family protein PPE62\n",
      "**************************************************************************************************\n",
      "**************************************************************************************************\n",
      "('Start_369233_Stop_369856', 'Start_374429_Stop_375708', 'Start_3730350_Stop_3731440', 'Start_3732078_Stop_3732792', 'Start_3735635_Stop_3736314')\n",
      "Start_369233_Stop_369856 Rv0304c 366149 372764 -1 PPE family protein PPE5\n",
      "Start_374429_Stop_375708 Rv0305c 372819 375711 -1 PPE family protein PPE6\n",
      "Start_3730350_Stop_3731440 Rv3343c 3729363 3736935 -1 PPE family protein PPE54\n",
      "Start_3732078_Stop_3732792 Rv3343c 3729363 3736935 -1 PPE family protein PPE54\n",
      "Start_3735635_Stop_3736314 Rv3343c 3729363 3736935 -1 PPE family protein PPE54\n",
      "**************************************************************************************************\n",
      "**************************************************************************************************\n",
      "('Start_369233_Stop_369856', 'Start_370437_Stop_371038', 'Start_424845_Stop_425594', 'Start_3735635_Stop_3736314', 'Start_3971306_Stop_3971659')\n",
      "Start_369233_Stop_369856 Rv0304c 366149 372764 -1 PPE family protein PPE5\n",
      "Start_370437_Stop_371038 Rv0304c 366149 372764 -1 PPE family protein PPE5\n",
      "Start_424845_Stop_425594 Rv0355c 424776 434679 -1 PPE family protein PPE8\n",
      "Start_3735635_Stop_3736314 Rv3343c 3729363 3736935 -1 PPE family protein PPE54\n",
      "Start_3971306_Stop_3971659 Rv3533c 3970704 3972453 -1 PPE family protein PPE62\n",
      "**************************************************************************************************\n",
      "**************************************************************************************************\n",
      "('Start_369233_Stop_369856', 'Start_424845_Stop_425594', 'Start_430902_Stop_431938', 'Start_2166082_Stop_2166567')\n",
      "Start_369233_Stop_369856 Rv0304c 366149 372764 -1 PPE family protein PPE5\n",
      "Start_424845_Stop_425594 Rv0355c 424776 434679 -1 PPE family protein PPE8\n",
      "Start_430902_Stop_431938 Rv0355c 424776 434679 -1 PPE family protein PPE8\n",
      "Start_2166082_Stop_2166567 Rv1917c 2162931 2167311 -1 PPE family protein PPE34\n",
      "**************************************************************************************************\n",
      "**************************************************************************************************\n",
      "('Start_369233_Stop_369856', 'Start_370437_Stop_371038', 'Start_3765547_Stop_3767119', 'Start_3971306_Stop_3971659')\n",
      "Start_369233_Stop_369856 Rv0304c 366149 372764 -1 PPE family protein PPE5\n",
      "Start_370437_Stop_371038 Rv0304c 366149 372764 -1 PPE family protein PPE5\n",
      "Start_3765547_Stop_3767119 Rv3350c 3755951 3767102 -1 PPE family protein PPE56\n",
      "Start_3971306_Stop_3971659 Rv3533c 3970704 3972453 -1 PPE family protein PPE62\n",
      "**************************************************************************************************\n",
      "**************************************************************************************************\n",
      "('Start_371230_Stop_371517', 'Start_373914_Stop_374202')\n",
      "Start_371230_Stop_371517 Rv0304c 366149 372764 -1 PPE family protein PPE5\n",
      "Start_373914_Stop_374202 Rv0305c 372819 375711 -1 PPE family protein PPE6\n",
      "**************************************************************************************************\n",
      "**************************************************************************************************\n",
      "('Start_371783_Stop_372525', 'Start_373139_Stop_373884', 'Start_374429_Stop_375708', 'Start_1982873_Stop_1984781')\n",
      "Start_371783_Stop_372525 Rv0304c 366149 372764 -1 PPE family protein PPE5\n",
      "Start_373139_Stop_373884 Rv0305c 372819 375711 -1 PPE family protein PPE6\n",
      "Start_374429_Stop_375708 Rv0305c 372819 375711 -1 PPE family protein PPE6\n",
      "Start_1982873_Stop_1984781 Rv1753c 1981613 1984775 -1 PPE family protein PPE24\n",
      "**************************************************************************************************\n",
      "**************************************************************************************************\n",
      "('Start_373139_Stop_373884', 'Start_1982873_Stop_1984781', 'Start_2168812_Stop_2170620')\n",
      "Start_373139_Stop_373884 Rv0305c 372819 375711 -1 PPE family protein PPE6\n",
      "Start_1982873_Stop_1984781 Rv1753c 1981613 1984775 -1 PPE family protein PPE24\n",
      "Start_2168812_Stop_2170620 Rv1918c 2167648 2170612 -1 PPE family protein PPE35\n",
      "**************************************************************************************************\n",
      "**************************************************************************************************\n",
      "('Start_374429_Stop_375708', 'Start_433395_Stop_434673')\n",
      "Start_374429_Stop_375708 Rv0305c 372819 375711 -1 PPE family protein PPE6\n",
      "Start_433395_Stop_434673 Rv0355c 424776 434679 -1 PPE family protein PPE8\n",
      "**************************************************************************************************\n",
      "**************************************************************************************************\n",
      "('Start_374429_Stop_375708', 'Start_429497_Stop_430220', 'Start_3748088_Stop_3749601', 'Start_3756698_Stop_3758219', 'Start_3758494_Stop_3759962', 'Start_3760281_Stop_3761796', 'Start_3762053_Stop_3763365')\n",
      "Start_374429_Stop_375708 Rv0305c 372819 375711 -1 PPE family protein PPE6\n",
      "Start_429497_Stop_430220 Rv0355c 424776 434679 -1 PPE family protein PPE8\n",
      "Start_3748088_Stop_3749601 Rv3347c 3743710 3753184 -1 PPE family protein PPE55\n",
      "Start_3756698_Stop_3758219 Rv3350c 3755951 3767102 -1 PPE family protein PPE56\n",
      "Start_3758494_Stop_3759962 Rv3350c 3755951 3767102 -1 PPE family protein PPE56\n",
      "Start_3760281_Stop_3761796 Rv3350c 3755951 3767102 -1 PPE family protein PPE56\n",
      "Start_3762053_Stop_3763365 Rv3350c 3755951 3767102 -1 PPE family protein PPE56\n",
      "**************************************************************************************************\n",
      "**************************************************************************************************\n",
      "('Start_374429_Stop_375708', 'Start_3744458_Stop_3746010', 'Start_3746302_Stop_3747763', 'Start_3748088_Stop_3749601', 'Start_3749892_Stop_3751441', 'Start_3756698_Stop_3758219', 'Start_3762053_Stop_3763365')\n",
      "Start_374429_Stop_375708 Rv0305c 372819 375711 -1 PPE family protein PPE6\n",
      "Start_3744458_Stop_3746010 Rv3347c 3743710 3753184 -1 PPE family protein PPE55\n",
      "Start_3746302_Stop_3747763 Rv3347c 3743710 3753184 -1 PPE family protein PPE55\n",
      "Start_3748088_Stop_3749601 Rv3347c 3743710 3753184 -1 PPE family protein PPE55\n",
      "Start_3749892_Stop_3751441 Rv3347c 3743710 3753184 -1 PPE family protein PPE55\n",
      "Start_3756698_Stop_3758219 Rv3350c 3755951 3767102 -1 PPE family protein PPE56\n",
      "Start_3762053_Stop_3763365 Rv3350c 3755951 3767102 -1 PPE family protein PPE56\n",
      "**************************************************************************************************\n",
      "**************************************************************************************************\n",
      "('Start_400151_Stop_401703', 'Start_606510_Stop_608061')\n",
      "Start_400151_Stop_401703 Rv0336 400191 401703 1 Conserved 13E12 repeat family protein\n",
      "Start_606510_Stop_608061 Rv0515 606550 608062 1 Conserved 13E12 repeat family protein\n",
      "Start_606510_Stop_608061 Rv0516c 608058 608535 -1 Possible anti-anti-sigma factor\n",
      "**************************************************************************************************\n",
      "**************************************************************************************************\n",
      "('Start_424845_Stop_425594', 'Start_426300_Stop_427729', 'Start_428101_Stop_428812', 'Start_429497_Stop_430220', 'Start_430902_Stop_431938', 'Start_432232_Stop_432944')\n",
      "Start_424845_Stop_425594 Rv0355c 424776 434679 -1 PPE family protein PPE8\n",
      "Start_426300_Stop_427729 Rv0355c 424776 434679 -1 PPE family protein PPE8\n",
      "Start_428101_Stop_428812 Rv0355c 424776 434679 -1 PPE family protein PPE8\n",
      "Start_429497_Stop_430220 Rv0355c 424776 434679 -1 PPE family protein PPE8\n",
      "Start_430902_Stop_431938 Rv0355c 424776 434679 -1 PPE family protein PPE8\n",
      "Start_432232_Stop_432944 Rv0355c 424776 434679 -1 PPE family protein PPE8\n",
      "**************************************************************************************************\n",
      "**************************************************************************************************\n",
      "('Start_424845_Stop_425594', 'Start_2166082_Stop_2166567')\n",
      "Start_424845_Stop_425594 Rv0355c 424776 434679 -1 PPE family protein PPE8\n",
      "Start_2166082_Stop_2166567 Rv1917c 2162931 2167311 -1 PPE family protein PPE34\n",
      "**************************************************************************************************\n",
      "**************************************************************************************************\n",
      "('Start_426300_Stop_427729', 'Start_428101_Stop_428812', 'Start_429497_Stop_430220', 'Start_430902_Stop_431938', 'Start_432232_Stop_432944', 'Start_3760281_Stop_3761796')\n",
      "Start_426300_Stop_427729 Rv0355c 424776 434679 -1 PPE family protein PPE8\n",
      "Start_428101_Stop_428812 Rv0355c 424776 434679 -1 PPE family protein PPE8\n",
      "Start_429497_Stop_430220 Rv0355c 424776 434679 -1 PPE family protein PPE8\n",
      "Start_430902_Stop_431938 Rv0355c 424776 434679 -1 PPE family protein PPE8\n",
      "Start_432232_Stop_432944 Rv0355c 424776 434679 -1 PPE family protein PPE8\n",
      "Start_3760281_Stop_3761796 Rv3350c 3755951 3767102 -1 PPE family protein PPE56\n",
      "**************************************************************************************************\n",
      "**************************************************************************************************\n",
      "('Start_426300_Stop_427729', 'Start_3746302_Stop_3747763', 'Start_3748088_Stop_3749601', 'Start_3749892_Stop_3751441', 'Start_3756698_Stop_3758219', 'Start_3758494_Stop_3759962', 'Start_3760281_Stop_3761796', 'Start_3762053_Stop_3763365')\n",
      "Start_426300_Stop_427729 Rv0355c 424776 434679 -1 PPE family protein PPE8\n",
      "Start_3746302_Stop_3747763 Rv3347c 3743710 3753184 -1 PPE family protein PPE55\n",
      "Start_3748088_Stop_3749601 Rv3347c 3743710 3753184 -1 PPE family protein PPE55\n",
      "Start_3749892_Stop_3751441 Rv3347c 3743710 3753184 -1 PPE family protein PPE55\n",
      "Start_3756698_Stop_3758219 Rv3350c 3755951 3767102 -1 PPE family protein PPE56\n",
      "Start_3758494_Stop_3759962 Rv3350c 3755951 3767102 -1 PPE family protein PPE56\n",
      "Start_3760281_Stop_3761796 Rv3350c 3755951 3767102 -1 PPE family protein PPE56\n",
      "Start_3762053_Stop_3763365 Rv3350c 3755951 3767102 -1 PPE family protein PPE56\n",
      "**************************************************************************************************\n",
      "**************************************************************************************************\n",
      "('Start_428101_Stop_428812', 'Start_429497_Stop_430220', 'Start_430902_Stop_431938', 'Start_432232_Stop_432944')\n",
      "Start_428101_Stop_428812 Rv0355c 424776 434679 -1 PPE family protein PPE8\n",
      "Start_429497_Stop_430220 Rv0355c 424776 434679 -1 PPE family protein PPE8\n",
      "Start_430902_Stop_431938 Rv0355c 424776 434679 -1 PPE family protein PPE8\n",
      "Start_432232_Stop_432944 Rv0355c 424776 434679 -1 PPE family protein PPE8\n",
      "**************************************************************************************************\n",
      "**************************************************************************************************\n",
      "('Start_429497_Stop_430220', 'Start_430902_Stop_431938', 'Start_432232_Stop_432944')\n",
      "Start_429497_Stop_430220 Rv0355c 424776 434679 -1 PPE family protein PPE8\n",
      "Start_430902_Stop_431938 Rv0355c 424776 434679 -1 PPE family protein PPE8\n",
      "Start_432232_Stop_432944 Rv0355c 424776 434679 -1 PPE family protein PPE8\n",
      "**************************************************************************************************\n",
      "**************************************************************************************************\n",
      "('Start_459834_Stop_460340', 'Start_4038698_Stop_4039203')\n",
      "Start_459834_Stop_460340 Rv0384c 459455 462002 -1 Probable endopeptidase ATP binding protein (chain B) ClpB (ClpB protein) (heat shock protein F84.1)\n",
      "Start_4038698_Stop_4039203 Rv3596c 4038157 4040704 -1 Probable ATP-dependent protease ATP-binding subunit ClpC1\n",
      "**************************************************************************************************\n",
      "**************************************************************************************************\n",
      "('Start_460791_Stop_461483', 'Start_4039469_Stop_4040155')\n",
      "Start_460791_Stop_461483 Rv0384c 459455 462002 -1 Probable endopeptidase ATP binding protein (chain B) ClpB (ClpB protein) (heat shock protein F84.1)\n",
      "Start_4039469_Stop_4040155 Rv3596c 4038157 4040704 -1 Probable ATP-dependent protease ATP-binding subunit ClpC1\n",
      "**************************************************************************************************\n",
      "**************************************************************************************************\n",
      "('Start_473743_Stop_474103', 'Start_475807_Stop_476178')\n",
      "Start_473743_Stop_474103 Rv0393 472780 474106 1 Conserved 13E12 repeat family protein\n",
      "Start_475807_Stop_476178 Rv0397 475815 476184 1 Conserved 13E12 repeat family protein\n",
      "**************************************************************************************************\n",
      "**************************************************************************************************\n",
      "('Start_531482_Stop_531640',)\n",
      "Start_531482_Stop_531640 Rv0442c 530750 532214 -1 PPE family protein PPE10\n",
      "**************************************************************************************************\n",
      "**************************************************************************************************\n",
      "('Start_531482_Stop_531640', 'Start_3998560_Stop_3998718')\n",
      "Start_531482_Stop_531640 Rv0442c 530750 532214 -1 PPE family protein PPE10\n",
      "Start_3998560_Stop_3998718 Rv3558 3997979 3999638 1 PPE family protein PPE64\n",
      "**************************************************************************************************\n",
      "**************************************************************************************************\n",
      "('Start_538686_Stop_539148', 'Start_2617033_Stop_2617495')\n",
      "Start_538686_Stop_539148 Rv0450c 538587 541491 -1 Probable conserved transmembrane transport protein MmpL4\n",
      "Start_2617033_Stop_2617495 Rv2339 2614692 2617581 1 Probable conserved transmembrane transport protein MmpL9\n",
      "**************************************************************************************************\n",
      "**************************************************************************************************\n",
      "('Start_561277_Stop_561696', 'Start_737267_Stop_738109', 'Start_738296_Stop_739160', 'Start_3807575_Stop_3808432')\n",
      "Start_561277_Stop_561696 Rv0470c 560847 561711 -1 Mycolic acid synthase PcaA (cyclopropane synthase)\n",
      "Start_737267_Stop_738109 Rv0643c 737267 738149 -1 Methoxy mycolic acid synthase 3 MmaA3 (methyl mycolic acid synthase 3) (MMA3) (hydroxy mycolic acid synthase)\n",
      "Start_738296_Stop_739160 Rv0644c 738296 739160 -1 Methoxy mycolic acid synthase 2 MmaA2 (methyl mycolic acid synthase 2) (MMA2) (hydroxy mycolic acid synthase)\n",
      "Start_3807575_Stop_3808432 Rv3392c 3807573 3808437 -1 Cyclopropane-fatty-acyl-phospholipid synthase 1 CmaA1 (cyclopropane fatty acid synthase) (CFA synthase) (cyclopropane mycolic acid synthase 1)\n",
      "**************************************************************************************************\n",
      "**************************************************************************************************\n",
      "('Start_561277_Stop_561696', 'Start_738296_Stop_739160')\n",
      "Start_561277_Stop_561696 Rv0470c 560847 561711 -1 Mycolic acid synthase PcaA (cyclopropane synthase)\n",
      "Start_738296_Stop_739160 Rv0644c 738296 739160 -1 Methoxy mycolic acid synthase 2 MmaA2 (methyl mycolic acid synthase 2) (MMA2) (hydroxy mycolic acid synthase)\n",
      "**************************************************************************************************\n",
      "**************************************************************************************************\n",
      "('Start_569820_Stop_569978',)\n",
      "**************************************************************************************************\n",
      "**************************************************************************************************\n",
      "('Start_577281_Stop_577500',)\n",
      "Start_577281_Stop_577500 Rv0487 576786 577338 1 Conserved hypothetical protein\n",
      "**************************************************************************************************\n",
      "**************************************************************************************************\n",
      "('Start_580576_Stop_580815',)\n",
      "Start_580576_Stop_580815 Rv0490 579348 580581 1 Putative two component sensor histidine kinase SenX3\n",
      "Start_580576_Stop_580815 Rv0491 580808 581492 1 Two component sensory transduction protein RegX3 (transcriptional regulatory protein) (probably LuxR-family)\n",
      "**************************************************************************************************\n",
      "**************************************************************************************************\n",
      "('Start_622813_Stop_623300', 'Start_4037529_Stop_4038029')\n",
      "Start_622813_Stop_623300 Rv0532 622792 624577 1 PE-PGRS family protein PE_PGRS6\n",
      "Start_4037529_Stop_4038029 Rv3595c 4036730 4038050 -1 PE-PGRS family protein PE_PGRS59\n",
      "**************************************************************************************************\n",
      "**************************************************************************************************\n",
      "('Start_672478_Stop_672729', 'Start_1636698_Stop_1637044')\n",
      "Start_672478_Stop_672729 Rv0578c 671995 675916 -1 PE-PGRS family protein PE_PGRS7\n",
      "Start_1636698_Stop_1637044 Rv1452c 1636003 1638229 -1 PE-PGRS family protein PE_PGRS28\n",
      "**************************************************************************************************\n",
      "**************************************************************************************************\n",
      "('Start_672981_Stop_673437',)\n",
      "Start_672981_Stop_673437 Rv0578c 671995 675916 -1 PE-PGRS family protein PE_PGRS7\n",
      "**************************************************************************************************\n",
      "**************************************************************************************************\n",
      "('Start_673933_Stop_674101', 'Start_3741533_Stop_3741894')\n",
      "Start_673933_Stop_674101 Rv0578c 671995 675916 -1 PE-PGRS family protein PE_PGRS7\n",
      "Start_3741533_Stop_3741894 Rv3345c 3738157 3742774 -1 PE-PGRS family protein PE_PGRS50\n",
      "**************************************************************************************************\n",
      "**************************************************************************************************\n",
      "('Start_675275_Stop_675896',)\n",
      "Start_675275_Stop_675896 Rv0578c 671995 675916 -1 PE-PGRS family protein PE_PGRS7\n",
      "**************************************************************************************************\n",
      "**************************************************************************************************\n",
      "('Start_701363_Stop_702731', 'Start_3100173_Stop_3102233', 'Start_3194133_Stop_3196208')\n",
      "Start_701363_Stop_702731 Rv0605 701405 702014 1 Possible resolvase\n",
      "Start_701363_Stop_702731 Rv0606 702015 702759 1 Possible transposase (fragment)\n",
      "Start_3100173_Stop_3102233 Rv2791c 3100201 3101581 -1 Probable transposase\n",
      "Start_3100173_Stop_3102233 Rv2792c 3101580 3102162 -1 Possible resolvase\n",
      "Start_3194133_Stop_3196208 Rv2884 3193392 3194151 1 Probable transcriptional regulatory protein\n",
      "Start_3194133_Stop_3196208 Rv2885c 3194165 3195548 -1 Probable transposase\n",
      "Start_3194133_Stop_3196208 Rv2886c 3195544 3196432 -1 Probable resolvase\n",
      "**************************************************************************************************\n",
      "**************************************************************************************************\n",
      "('Start_701363_Stop_702731', 'Start_921575_Stop_921896', 'Start_3100173_Stop_3102233', 'Start_3194133_Stop_3196208', 'Start_3333753_Stop_3335814', 'Start_4301537_Stop_4303433')\n",
      "Start_701363_Stop_702731 Rv0605 701405 702014 1 Possible resolvase\n",
      "Start_701363_Stop_702731 Rv0606 702015 702759 1 Possible transposase (fragment)\n",
      "Start_921575_Stop_921896 Rv0828c 921190 921613 -1 Possible deaminase\n",
      "Start_921575_Stop_921896 Rv0829 921574 921865 1 Possible transposase (fragment)\n",
      "Start_3100173_Stop_3102233 Rv2791c 3100201 3101581 -1 Probable transposase\n",
      "Start_3100173_Stop_3102233 Rv2792c 3101580 3102162 -1 Possible resolvase\n",
      "Start_3194133_Stop_3196208 Rv2884 3193392 3194151 1 Probable transcriptional regulatory protein\n",
      "Start_3194133_Stop_3196208 Rv2885c 3194165 3195548 -1 Probable transposase\n",
      "Start_3194133_Stop_3196208 Rv2886c 3195544 3196432 -1 Probable resolvase\n",
      "Start_3333753_Stop_3335814 Rv2977c 3332786 3333788 -1 Probable thiamine-monophosphate kinase ThiL (thiamine-phosphate kinase)\n",
      "Start_3333753_Stop_3335814 Rv2978c 3333784 3335164 -1 Probable transposase\n",
      "Start_3333753_Stop_3335814 Rv2979c 3335163 3335748 -1 Probable resolvase\n",
      "Start_4301537_Stop_4303433 Rv3826 4299811 4301566 1 Probable fatty-acid-AMP ligase FadD23 (fatty-acid-AMP synthetase) (fatty-acid-AMP synthase)\n",
      "Start_4301537_Stop_4303433 Rv3827c 4301562 4302789 -1 Possible transposase\n",
      "Start_4301537_Stop_4303433 Rv3828c 4302785 4303397 -1 Possible resolvase\n",
      "Start_4301537_Stop_4303433 Rv3829c 4303397 4305008 -1 Probable dehydrogenase\n",
      "**************************************************************************************************\n",
      "**************************************************************************************************\n",
      "('Start_717632_Stop_717871', 'Start_2577128_Stop_2577369')\n",
      "Start_717632_Stop_717871 Rv0625c 717152 717893 -1 Probable conserved transmembrane protein\n",
      "Start_2577128_Stop_2577369 Rv2306A 2577107 2577701 1 Possible conserved membrane protein\n",
      "**************************************************************************************************\n",
      "**************************************************************************************************\n",
      "('Start_718763_Stop_719929', 'Start_972557_Stop_973724')\n",
      "Start_718763_Stop_719929 Rv0628c 718760 719912 -1 Conserved hypothetical protein\n",
      "Start_972557_Stop_973724 Rv0874c 972545 973706 -1 Conserved hypothetical protein\n",
      "**************************************************************************************************\n",
      "**************************************************************************************************\n",
      "('Start_737267_Stop_738109', 'Start_738296_Stop_739160', 'Start_3807575_Stop_3808432')\n",
      "Start_737267_Stop_738109 Rv0643c 737267 738149 -1 Methoxy mycolic acid synthase 3 MmaA3 (methyl mycolic acid synthase 3) (MMA3) (hydroxy mycolic acid synthase)\n",
      "Start_738296_Stop_739160 Rv0644c 738296 739160 -1 Methoxy mycolic acid synthase 2 MmaA2 (methyl mycolic acid synthase 2) (MMA2) (hydroxy mycolic acid synthase)\n",
      "Start_3807575_Stop_3808432 Rv3392c 3807573 3808437 -1 Cyclopropane-fatty-acyl-phospholipid synthase 1 CmaA1 (cyclopropane fatty acid synthase) (CFA synthase) (cyclopropane mycolic acid synthase 1)\n",
      "**************************************************************************************************\n",
      "**************************************************************************************************\n",
      "('Start_830622_Stop_830773',)\n",
      "**************************************************************************************************\n",
      "**************************************************************************************************\n",
      "('Start_832044_Stop_832356', 'Start_842018_Stop_842365')\n",
      "Start_832044_Stop_832356 Rv0740 831775 832303 1 Conserved hypothetical protein\n",
      "Start_842018_Stop_842365 Rv0750 842032 842278 1 Conserved hypothetical protein\n",
      "Start_842018_Stop_842365 Rv0751c 842346 843231 -1 Probable 3-hydroxyisobutyrate dehydrogenase MmsB (hibadh)\n",
      "**************************************************************************************************\n",
      "**************************************************************************************************\n",
      "('Start_832514_Stop_832858', 'Start_1468160_Stop_1469616', 'Start_4252881_Stop_4254337')\n",
      "Start_832514_Stop_832858 Rv0741 832533 832848 1 Probable transposase (fragment)\n",
      "Start_1468160_Stop_1469616 Rv1313c 1468170 1469505 -1 Possible transposase\n",
      "Start_4252881_Stop_4254337 Rv3798 4252992 4254327 1 Probable transposase\n",
      "**************************************************************************************************\n",
      "**************************************************************************************************\n",
      "('Start_832966_Stop_833533', 'Start_2061790_Stop_2062684')\n",
      "Start_832966_Stop_833533 Rv0742 832980 833508 1 PE-PGRS family protein PE_PGRS8\n",
      "Start_2061790_Stop_2062684 Rv1818c 2061177 2062674 -1 PE-PGRS family protein PE_PGRS33\n",
      "**************************************************************************************************\n",
      "**************************************************************************************************\n",
      "('Start_835774_Stop_836250', 'Start_1573168_Stop_1573859', 'Start_2424164_Stop_2424841', 'Start_3801652_Stop_3802490')\n",
      "Start_835774_Stop_836250 Rv0746 835700 838052 1 PE-PGRS family protein PE_PGRS9\n",
      "Start_1573168_Stop_1573859 Rv1396c 1572126 1573857 -1 PE-PGRS family protein PE_PGRS25\n",
      "Start_2424164_Stop_2424841 Rv2162c 2423239 2424838 -1 PE-PGRS family protein PE_PGRS38\n",
      "Start_3801652_Stop_3802490 Rv3388 3801652 3803848 1 PE-PGRS family protein PE_PGRS52\n",
      "**************************************************************************************************\n",
      "**************************************************************************************************\n",
      "('Start_837109_Stop_837664',)\n",
      "Start_837109_Stop_837664 Rv0746 835700 838052 1 PE-PGRS family protein PE_PGRS9\n",
      "**************************************************************************************************\n",
      "**************************************************************************************************\n",
      "('Start_837769_Stop_837987',)\n",
      "Start_837769_Stop_837987 Rv0746 835700 838052 1 PE-PGRS family protein PE_PGRS9\n",
      "**************************************************************************************************\n",
      "**************************************************************************************************\n",
      "('Start_838485_Stop_841667', 'Start_924987_Stop_927519')\n",
      "Start_838485_Stop_841667 Rv0747 838450 840856 1 PE-PGRS family protein PE_PGRS10\n",
      "Start_838485_Stop_841667 Rv0748 840946 841204 1 Possible antitoxin VapB31\n",
      "Start_838485_Stop_841667 Rv0749 841227 841656 1 Possible toxin VapC31. Contains PIN domain.\n",
      "Start_924987_Stop_927519 Rv0832 924950 925364 1 PE-PGRS family protein PE_PGRS12\n",
      "Start_924987_Stop_927519 Rv0833 925360 927610 1 PE-PGRS family protein PE_PGRS13\n",
      "**************************************************************************************************\n",
      "**************************************************************************************************\n",
      "('Start_838485_Stop_841667', 'Start_1189194_Stop_1190366', 'Start_1190754_Stop_1192058', 'Start_1489086_Stop_1489917', 'Start_1619108_Stop_1619655', 'Start_2000647_Stop_2001132')\n",
      "Start_838485_Stop_841667 Rv0747 838450 840856 1 PE-PGRS family protein PE_PGRS10\n",
      "Start_838485_Stop_841667 Rv0748 840946 841204 1 Possible antitoxin VapB31\n",
      "Start_838485_Stop_841667 Rv0749 841227 841656 1 Possible toxin VapC31. Contains PIN domain.\n",
      "Start_1189194_Stop_1190366 Rv1067c 1188420 1190424 -1 PE-PGRS family protein PE_PGRS19\n",
      "Start_1190754_Stop_1192058 Rv1068c 1190756 1192148 -1 PE-PGRS family protein PE_PGRS20\n",
      "Start_1489086_Stop_1489917 Rv1325c 1488153 1489965 -1 PE-PGRS family protein PE_PGRS24\n",
      "Start_1619108_Stop_1619655 Rv1441c 1618208 1619684 -1 PE-PGRS family protein PE_PGRS26\n",
      "Start_2000647_Stop_2001132 Rv1768 2000613 2002470 1 PE-PGRS family protein PE_PGRS31\n",
      "**************************************************************************************************\n",
      "**************************************************************************************************\n",
      "('Start_849538_Stop_849965', 'Start_2935040_Stop_2935544')\n",
      "Start_849538_Stop_849965 Rv0755c 848102 850040 -1 PPE family protein PPE12\n",
      "Start_2935040_Stop_2935544 Rv2608 2935045 2936788 1 PPE family protein PPE42\n",
      "**************************************************************************************************\n",
      "**************************************************************************************************\n",
      "('Start_849538_Stop_849965', 'Start_2168812_Stop_2170620', 'Start_2935040_Stop_2935544')\n",
      "Start_849538_Stop_849965 Rv0755c 848102 850040 -1 PPE family protein PPE12\n",
      "Start_2168812_Stop_2170620 Rv1918c 2167648 2170612 -1 PPE family protein PPE35\n",
      "Start_2935040_Stop_2935544 Rv2608 2935045 2936788 1 PPE family protein PPE42\n",
      "**************************************************************************************************\n",
      "**************************************************************************************************\n",
      "('Start_889019_Stop_891463', 'Start_1541947_Stop_1543319', 'Start_1987698_Stop_1989061', 'Start_1996092_Stop_1998612', 'Start_2365394_Stop_2366771', 'Start_2430093_Stop_2431475', 'Start_2550003_Stop_2551371', 'Start_2634776_Stop_2637028', 'Start_2784594_Stop_2785980', 'Start_2972098_Stop_2973464', 'Start_3119160_Stop_3123581', 'Start_3551210_Stop_3552589', 'Start_3552701_Stop_3554071', 'Start_3710377_Stop_3712822', 'Start_3795040_Stop_3796435', 'Start_3890767_Stop_3892142')\n",
      "Start_889019_Stop_891463 Rv0795 889071 889398 1 Putative transposase for insertion sequence element IS6110 (fragment)\n",
      "Start_889019_Stop_891463 Rv0796 889346 890333 1 Putative transposase for insertion sequence element IS6110\n",
      "Start_889019_Stop_891463 Rv0797 890387 891482 1 Putative transposase for insertion sequence element IS1547\n",
      "Start_1541947_Stop_1543319 Rv1369c 1541993 1542980 -1 Probable transposase\n",
      "Start_1541947_Stop_1543319 Rv1370c 1542928 1543255 -1 Putative transposase for insertion sequence element IS6110 (fragment)\n",
      "Start_1987698_Stop_1989061 Rv1756c 1987744 1988731 -1 Putative transposase\n",
      "Start_1987698_Stop_1989061 Rv1757c 1988679 1989006 -1 Putative transposase for insertion sequence element IS6110 (fragment)\n",
      "Start_1987698_Stop_1989061 Rv1758 1989041 1989566 1 Probable cutinase Cut1\n",
      "Start_1996092_Stop_1998612 Rv1763 1996151 1996478 1 Putative transposase for insertion sequence element IS6110 (fragment)\n",
      "Start_1996092_Stop_1998612 Rv1764 1996426 1997413 1 Putative transposase\n",
      "Start_1996092_Stop_1998612 Rv1765c 1997417 1998515 -1 Conserved hypothetical protein\n",
      "Start_2365394_Stop_2366771 Rv2105 2365464 2365791 1 Putative transposase for insertion sequence element IS6110 (fragment)\n",
      "Start_2365394_Stop_2366771 Rv2106 2365739 2366726 1 Probable transposase\n",
      "Start_2430093_Stop_2431475 Rv2167c 2430158 2431145 -1 Probable transposase\n",
      "Start_2430093_Stop_2431475 Rv2168c 2431093 2431420 -1 Putative transposase for insertion sequence element IS6110 (fragment)\n",
      "Start_2550003_Stop_2551371 Rv2277c 2549123 2550029 -1 Possible glycerolphosphodiesterase\n",
      "Start_2550003_Stop_2551371 Rv2278 2550064 2550391 1 Putative transposase for insertion sequence element IS6110 (fragment)\n",
      "Start_2550003_Stop_2551371 Rv2279 2550339 2551326 1 Probable transposase\n",
      "Start_2634776_Stop_2637028 Rv2353c 2634527 2635592 -1 PPE family protein PPE39\n",
      "Start_2634776_Stop_2637028 Rv2354 2635627 2635954 1 Probable transposase for insertion sequence element IS6110 (fragment)\n",
      "Start_2634776_Stop_2637028 Rv2355 2635902 2636889 1 Probable transposase\n",
      "Start_2784594_Stop_2785980 Rv2478c 2784122 2784608 -1 Conserved hypothetical protein\n",
      "Start_2784594_Stop_2785980 Rv2479c 2784656 2785643 -1 Probable transposase\n",
      "Start_2784594_Stop_2785980 Rv2480c 2785591 2785918 -1 Possible transposase for insertion sequence element IS6110 (fragment)\n",
      "Start_2972098_Stop_2973464 Rv2648 2972159 2972486 1 Probable transposase for insertion sequence element IS6110 (fragment)\n",
      "Start_2972098_Stop_2973464 Rv2649 2972434 2973421 1 Probable transposase for insertion sequence element IS6110\n",
      "Start_3119160_Stop_3123581 Rv2814c 3120565 3121552 -1 Probable transposase\n",
      "Start_3119160_Stop_3123581 Rv2815c 3121500 3121827 -1 Probable transposase\n",
      "Start_3551210_Stop_3552589 Rv3184 3551280 3551607 1 Probable transposase for insertion sequence element IS6110 (fragment)\n",
      "Start_3551210_Stop_3552589 Rv3185 3551555 3552542 1 Probable transposase\n",
      "Start_3552701_Stop_3554071 Rv3186 3552763 3553090 1 Probable transposase for insertion sequence element IS6110 (fragment)\n",
      "Start_3552701_Stop_3554071 Rv3187 3553038 3554025 1 Probable transposase\n",
      "Start_3710377_Stop_3712822 Rv3324A 3710244 3710379 -1 Probable fragment of pterin-4-alpha-carbinolamine dehydratase MOAB3 (PHS) (4-alpha-hydroxy-tetrahydropterin dehydratase) (pterin-4-a-carbinolamine dehydratase) (phenylalanine hydroxylase-stimulating protein) (PHS) (pterin carbinolamine dehydratase) (PCD)\n",
      "Start_3710377_Stop_3712822 Rv3325 3710432 3710759 1 Probable transposase for insertion sequence element IS6110 (fragment)\n",
      "Start_3710377_Stop_3712822 Rv3326 3710707 3711694 1 Probable transposase\n",
      "Start_3710377_Stop_3712822 Rv3327 3711748 3713461 1 Probable transposase fusion protein\n",
      "Start_3795040_Stop_3796435 Rv3380c 3795099 3796086 -1 Probable transposase\n",
      "Start_3795040_Stop_3796435 Rv3381c 3796034 3796361 -1 Probable transposase for insertion sequence element IS6110 (fragment)\n",
      "Start_3890767_Stop_3892142 Rv3474 3890829 3891156 1 Possible transposase for insertion element IS6110 (fragment)\n",
      "Start_3890767_Stop_3892142 Rv3475 3891104 3892091 1 Possible transposase for insertion element IS6110 [second part]\n",
      "**************************************************************************************************\n",
      "**************************************************************************************************\n",
      "('Start_889019_Stop_891463', 'Start_1262690_Stop_1263143', 'Start_1541947_Stop_1543319', 'Start_1987698_Stop_1989061', 'Start_1996092_Stop_1998612', 'Start_2365394_Stop_2366771', 'Start_2430093_Stop_2431475', 'Start_2550003_Stop_2551371', 'Start_2634776_Stop_2637028', 'Start_2637924_Stop_2638724', 'Start_2639006_Stop_2639613', 'Start_2784594_Stop_2785980', 'Start_2972098_Stop_2973464', 'Start_3119160_Stop_3123581', 'Start_3551210_Stop_3552589', 'Start_3552701_Stop_3554071', 'Start_3710377_Stop_3712822', 'Start_3795040_Stop_3796435', 'Start_3890767_Stop_3892142')\n",
      "Start_889019_Stop_891463 Rv0795 889071 889398 1 Putative transposase for insertion sequence element IS6110 (fragment)\n",
      "Start_889019_Stop_891463 Rv0796 889346 890333 1 Putative transposase for insertion sequence element IS6110\n",
      "Start_889019_Stop_891463 Rv0797 890387 891482 1 Putative transposase for insertion sequence element IS1547\n",
      "Start_1262690_Stop_1263143 Rv1135c 1262271 1264128 -1 PPE family protein PPE16\n",
      "Start_1541947_Stop_1543319 Rv1369c 1541993 1542980 -1 Probable transposase\n",
      "Start_1541947_Stop_1543319 Rv1370c 1542928 1543255 -1 Putative transposase for insertion sequence element IS6110 (fragment)\n",
      "Start_1987698_Stop_1989061 Rv1756c 1987744 1988731 -1 Putative transposase\n",
      "Start_1987698_Stop_1989061 Rv1757c 1988679 1989006 -1 Putative transposase for insertion sequence element IS6110 (fragment)\n",
      "Start_1987698_Stop_1989061 Rv1758 1989041 1989566 1 Probable cutinase Cut1\n",
      "Start_1996092_Stop_1998612 Rv1763 1996151 1996478 1 Putative transposase for insertion sequence element IS6110 (fragment)\n",
      "Start_1996092_Stop_1998612 Rv1764 1996426 1997413 1 Putative transposase\n",
      "Start_1996092_Stop_1998612 Rv1765c 1997417 1998515 -1 Conserved hypothetical protein\n",
      "Start_2365394_Stop_2366771 Rv2105 2365464 2365791 1 Putative transposase for insertion sequence element IS6110 (fragment)\n",
      "Start_2365394_Stop_2366771 Rv2106 2365739 2366726 1 Probable transposase\n",
      "Start_2430093_Stop_2431475 Rv2167c 2430158 2431145 -1 Probable transposase\n",
      "Start_2430093_Stop_2431475 Rv2168c 2431093 2431420 -1 Putative transposase for insertion sequence element IS6110 (fragment)\n",
      "Start_2550003_Stop_2551371 Rv2277c 2549123 2550029 -1 Possible glycerolphosphodiesterase\n",
      "Start_2550003_Stop_2551371 Rv2278 2550064 2550391 1 Putative transposase for insertion sequence element IS6110 (fragment)\n",
      "Start_2550003_Stop_2551371 Rv2279 2550339 2551326 1 Probable transposase\n",
      "Start_2634776_Stop_2637028 Rv2353c 2634527 2635592 -1 PPE family protein PPE39\n",
      "Start_2634776_Stop_2637028 Rv2354 2635627 2635954 1 Probable transposase for insertion sequence element IS6110 (fragment)\n",
      "Start_2634776_Stop_2637028 Rv2355 2635902 2636889 1 Probable transposase\n",
      "Start_2637924_Stop_2638724 Rv2356c 2637687 2639535 -1 PPE family protein PPE40\n",
      "Start_2639006_Stop_2639613 Rv2356c 2637687 2639535 -1 PPE family protein PPE40\n",
      "Start_2784594_Stop_2785980 Rv2478c 2784122 2784608 -1 Conserved hypothetical protein\n",
      "Start_2784594_Stop_2785980 Rv2479c 2784656 2785643 -1 Probable transposase\n",
      "Start_2784594_Stop_2785980 Rv2480c 2785591 2785918 -1 Possible transposase for insertion sequence element IS6110 (fragment)\n",
      "Start_2972098_Stop_2973464 Rv2648 2972159 2972486 1 Probable transposase for insertion sequence element IS6110 (fragment)\n",
      "Start_2972098_Stop_2973464 Rv2649 2972434 2973421 1 Probable transposase for insertion sequence element IS6110\n",
      "Start_3119160_Stop_3123581 Rv2814c 3120565 3121552 -1 Probable transposase\n",
      "Start_3119160_Stop_3123581 Rv2815c 3121500 3121827 -1 Probable transposase\n",
      "Start_3551210_Stop_3552589 Rv3184 3551280 3551607 1 Probable transposase for insertion sequence element IS6110 (fragment)\n",
      "Start_3551210_Stop_3552589 Rv3185 3551555 3552542 1 Probable transposase\n",
      "Start_3552701_Stop_3554071 Rv3186 3552763 3553090 1 Probable transposase for insertion sequence element IS6110 (fragment)\n",
      "Start_3552701_Stop_3554071 Rv3187 3553038 3554025 1 Probable transposase\n",
      "Start_3710377_Stop_3712822 Rv3324A 3710244 3710379 -1 Probable fragment of pterin-4-alpha-carbinolamine dehydratase MOAB3 (PHS) (4-alpha-hydroxy-tetrahydropterin dehydratase) (pterin-4-a-carbinolamine dehydratase) (phenylalanine hydroxylase-stimulating protein) (PHS) (pterin carbinolamine dehydratase) (PCD)\n",
      "Start_3710377_Stop_3712822 Rv3325 3710432 3710759 1 Probable transposase for insertion sequence element IS6110 (fragment)\n",
      "Start_3710377_Stop_3712822 Rv3326 3710707 3711694 1 Probable transposase\n",
      "Start_3710377_Stop_3712822 Rv3327 3711748 3713461 1 Probable transposase fusion protein\n",
      "Start_3795040_Stop_3796435 Rv3380c 3795099 3796086 -1 Probable transposase\n",
      "Start_3795040_Stop_3796435 Rv3381c 3796034 3796361 -1 Probable transposase for insertion sequence element IS6110 (fragment)\n",
      "Start_3890767_Stop_3892142 Rv3474 3890829 3891156 1 Possible transposase for insertion element IS6110 (fragment)\n",
      "Start_3890767_Stop_3892142 Rv3475 3891104 3892091 1 Possible transposase for insertion element IS6110 [second part]\n",
      "**************************************************************************************************\n",
      "**************************************************************************************************\n",
      "('Start_889019_Stop_891463', 'Start_1541947_Stop_1543319', 'Start_1987698_Stop_1989061', 'Start_1996092_Stop_1998612', 'Start_2262006_Stop_2263170', 'Start_2365394_Stop_2366771', 'Start_2430093_Stop_2431475', 'Start_2550003_Stop_2551371', 'Start_2634776_Stop_2637028', 'Start_2784594_Stop_2785980', 'Start_2972098_Stop_2973464', 'Start_3119160_Stop_3123581', 'Start_3551210_Stop_3552589', 'Start_3552701_Stop_3554071', 'Start_3710377_Stop_3712822', 'Start_3795040_Stop_3796435', 'Start_3890767_Stop_3892142')\n",
      "Start_889019_Stop_891463 Rv0795 889071 889398 1 Putative transposase for insertion sequence element IS6110 (fragment)\n",
      "Start_889019_Stop_891463 Rv0796 889346 890333 1 Putative transposase for insertion sequence element IS6110\n",
      "Start_889019_Stop_891463 Rv0797 890387 891482 1 Putative transposase for insertion sequence element IS1547\n",
      "Start_1541947_Stop_1543319 Rv1369c 1541993 1542980 -1 Probable transposase\n",
      "Start_1541947_Stop_1543319 Rv1370c 1542928 1543255 -1 Putative transposase for insertion sequence element IS6110 (fragment)\n",
      "Start_1987698_Stop_1989061 Rv1756c 1987744 1988731 -1 Putative transposase\n",
      "Start_1987698_Stop_1989061 Rv1757c 1988679 1989006 -1 Putative transposase for insertion sequence element IS6110 (fragment)\n",
      "Start_1987698_Stop_1989061 Rv1758 1989041 1989566 1 Probable cutinase Cut1\n",
      "Start_1996092_Stop_1998612 Rv1763 1996151 1996478 1 Putative transposase for insertion sequence element IS6110 (fragment)\n",
      "Start_1996092_Stop_1998612 Rv1764 1996426 1997413 1 Putative transposase\n",
      "Start_1996092_Stop_1998612 Rv1765c 1997417 1998515 -1 Conserved hypothetical protein\n",
      "Start_2262006_Stop_2263170 Rv2015c 2261815 2263072 -1 Conserved hypothetical protein\n",
      "Start_2365394_Stop_2366771 Rv2105 2365464 2365791 1 Putative transposase for insertion sequence element IS6110 (fragment)\n",
      "Start_2365394_Stop_2366771 Rv2106 2365739 2366726 1 Probable transposase\n",
      "Start_2430093_Stop_2431475 Rv2167c 2430158 2431145 -1 Probable transposase\n",
      "Start_2430093_Stop_2431475 Rv2168c 2431093 2431420 -1 Putative transposase for insertion sequence element IS6110 (fragment)\n",
      "Start_2550003_Stop_2551371 Rv2277c 2549123 2550029 -1 Possible glycerolphosphodiesterase\n",
      "Start_2550003_Stop_2551371 Rv2278 2550064 2550391 1 Putative transposase for insertion sequence element IS6110 (fragment)\n",
      "Start_2550003_Stop_2551371 Rv2279 2550339 2551326 1 Probable transposase\n",
      "Start_2634776_Stop_2637028 Rv2353c 2634527 2635592 -1 PPE family protein PPE39\n",
      "Start_2634776_Stop_2637028 Rv2354 2635627 2635954 1 Probable transposase for insertion sequence element IS6110 (fragment)\n",
      "Start_2634776_Stop_2637028 Rv2355 2635902 2636889 1 Probable transposase\n",
      "Start_2784594_Stop_2785980 Rv2478c 2784122 2784608 -1 Conserved hypothetical protein\n",
      "Start_2784594_Stop_2785980 Rv2479c 2784656 2785643 -1 Probable transposase\n",
      "Start_2784594_Stop_2785980 Rv2480c 2785591 2785918 -1 Possible transposase for insertion sequence element IS6110 (fragment)\n",
      "Start_2972098_Stop_2973464 Rv2648 2972159 2972486 1 Probable transposase for insertion sequence element IS6110 (fragment)\n",
      "Start_2972098_Stop_2973464 Rv2649 2972434 2973421 1 Probable transposase for insertion sequence element IS6110\n",
      "Start_3119160_Stop_3123581 Rv2814c 3120565 3121552 -1 Probable transposase\n",
      "Start_3119160_Stop_3123581 Rv2815c 3121500 3121827 -1 Probable transposase\n",
      "Start_3551210_Stop_3552589 Rv3184 3551280 3551607 1 Probable transposase for insertion sequence element IS6110 (fragment)\n",
      "Start_3551210_Stop_3552589 Rv3185 3551555 3552542 1 Probable transposase\n",
      "Start_3552701_Stop_3554071 Rv3186 3552763 3553090 1 Probable transposase for insertion sequence element IS6110 (fragment)\n",
      "Start_3552701_Stop_3554071 Rv3187 3553038 3554025 1 Probable transposase\n",
      "Start_3710377_Stop_3712822 Rv3324A 3710244 3710379 -1 Probable fragment of pterin-4-alpha-carbinolamine dehydratase MOAB3 (PHS) (4-alpha-hydroxy-tetrahydropterin dehydratase) (pterin-4-a-carbinolamine dehydratase) (phenylalanine hydroxylase-stimulating protein) (PHS) (pterin carbinolamine dehydratase) (PCD)\n",
      "Start_3710377_Stop_3712822 Rv3325 3710432 3710759 1 Probable transposase for insertion sequence element IS6110 (fragment)\n",
      "Start_3710377_Stop_3712822 Rv3326 3710707 3711694 1 Probable transposase\n",
      "Start_3710377_Stop_3712822 Rv3327 3711748 3713461 1 Probable transposase fusion protein\n",
      "Start_3795040_Stop_3796435 Rv3380c 3795099 3796086 -1 Probable transposase\n",
      "Start_3795040_Stop_3796435 Rv3381c 3796034 3796361 -1 Probable transposase for insertion sequence element IS6110 (fragment)\n",
      "Start_3890767_Stop_3892142 Rv3474 3890829 3891156 1 Possible transposase for insertion element IS6110 (fragment)\n",
      "Start_3890767_Stop_3892142 Rv3475 3891104 3892091 1 Possible transposase for insertion element IS6110 [second part]\n",
      "**************************************************************************************************\n",
      "**************************************************************************************************\n",
      "('Start_908180_Stop_909346', 'Start_3483934_Stop_3485114')\n",
      "Start_908180_Stop_909346 Rv0814c 908180 908483 -1 Conserved protein SseC2\n",
      "Start_908180_Stop_909346 Rv0815c 908484 909318 -1 Probable thiosulfate sulfurtransferase CysA2 (rhodanese-like protein) (thiosulfate cyanide transsulfurase) (thiosulfate thiotransferase)\n",
      "Start_3483934_Stop_3485114 Rv3116 3482775 3483945 1 Probable molybdenum cofactor biosynthesis protein MoeB2 (MPT-synthase sulfurylase) (molybdopterin synthase sulphurylase)\n",
      "Start_3483934_Stop_3485114 Rv3117 3483973 3484807 1 Probable thiosulfate sulfurtransferase CysA3 (rhodanese-like protein) (thiosulfate cyanide transsulfurase) (thiosulfate thiotransferase)\n",
      "Start_3483934_Stop_3485114 Rv3118 3484808 3485111 1 Conserved hypothetical protein SseC1\n",
      "**************************************************************************************************\n",
      "**************************************************************************************************\n",
      "('Start_921575_Stop_921896', 'Start_3100173_Stop_3102233', 'Start_3194133_Stop_3196208', 'Start_3333753_Stop_3335814', 'Start_4301537_Stop_4303433')\n",
      "Start_921575_Stop_921896 Rv0828c 921190 921613 -1 Possible deaminase\n",
      "Start_921575_Stop_921896 Rv0829 921574 921865 1 Possible transposase (fragment)\n",
      "Start_3100173_Stop_3102233 Rv2791c 3100201 3101581 -1 Probable transposase\n",
      "Start_3100173_Stop_3102233 Rv2792c 3101580 3102162 -1 Possible resolvase\n",
      "Start_3194133_Stop_3196208 Rv2884 3193392 3194151 1 Probable transcriptional regulatory protein\n",
      "Start_3194133_Stop_3196208 Rv2885c 3194165 3195548 -1 Probable transposase\n",
      "Start_3194133_Stop_3196208 Rv2886c 3195544 3196432 -1 Probable resolvase\n",
      "Start_3333753_Stop_3335814 Rv2977c 3332786 3333788 -1 Probable thiamine-monophosphate kinase ThiL (thiamine-phosphate kinase)\n",
      "Start_3333753_Stop_3335814 Rv2978c 3333784 3335164 -1 Probable transposase\n",
      "Start_3333753_Stop_3335814 Rv2979c 3335163 3335748 -1 Probable resolvase\n",
      "Start_4301537_Stop_4303433 Rv3826 4299811 4301566 1 Probable fatty-acid-AMP ligase FadD23 (fatty-acid-AMP synthetase) (fatty-acid-AMP synthase)\n",
      "Start_4301537_Stop_4303433 Rv3827c 4301562 4302789 -1 Possible transposase\n",
      "Start_4301537_Stop_4303433 Rv3828c 4302785 4303397 -1 Possible resolvase\n",
      "Start_4301537_Stop_4303433 Rv3829c 4303397 4305008 -1 Probable dehydrogenase\n",
      "**************************************************************************************************\n",
      "**************************************************************************************************\n",
      "('Start_960165_Stop_960328', 'Start_2996000_Stop_2996168', 'Start_3192189_Stop_3192354')\n",
      "Start_2996000_Stop_2996168 Rv2680 2996104 2996737 1 Conserved protein\n",
      "Start_3192189_Stop_3192354 Rv2882c 3191643 3192201 -1 Ribosome recycling factor Frr (ribosome releasing factor) (RRF)\n",
      "**************************************************************************************************\n",
      "**************************************************************************************************\n",
      "('Start_964577_Stop_965087',)\n",
      "Start_964577_Stop_965087 Rv0867c 964311 965535 -1 Possible resuscitation-promoting factor RpfA\n",
      "**************************************************************************************************\n",
      "**************************************************************************************************\n",
      "('Start_977681_Stop_978207', 'Start_2639006_Stop_2639613')\n",
      "Start_977681_Stop_978207 Rv0878c 976871 978203 -1 PPE family protein PPE13\n",
      "Start_2639006_Stop_2639613 Rv2356c 2637687 2639535 -1 PPE family protein PPE40\n",
      "**************************************************************************************************\n",
      "**************************************************************************************************\n",
      "('Start_977681_Stop_978207', 'Start_1752850_Stop_1753340', 'Start_2634776_Stop_2637028', 'Start_2639006_Stop_2639613', 'Start_3528674_Stop_3529180')\n",
      "Start_977681_Stop_978207 Rv0878c 976871 978203 -1 PPE family protein PPE13\n",
      "Start_1752850_Stop_1753340 Rv1548c 1751296 1753333 -1 PPE family protein PPE21\n",
      "Start_2634776_Stop_2637028 Rv2353c 2634527 2635592 -1 PPE family protein PPE39\n",
      "Start_2634776_Stop_2637028 Rv2354 2635627 2635954 1 Probable transposase for insertion sequence element IS6110 (fragment)\n",
      "Start_2634776_Stop_2637028 Rv2355 2635902 2636889 1 Probable transposase\n",
      "Start_2639006_Stop_2639613 Rv2356c 2637687 2639535 -1 PPE family protein PPE40\n",
      "Start_3528674_Stop_3529180 Rv3159c 3527390 3529163 -1 PPE family protein PPE53\n",
      "**************************************************************************************************\n",
      "**************************************************************************************************\n",
      "('Start_1035252_Stop_1035873', 'Start_1040077_Stop_1040698')\n",
      "Start_1035252_Stop_1035873 Rv0928 1034902 1036015 1 Periplasmic phosphate-binding lipoprotein PstS3 (PBP-3) (PstS3) (PHOS1)\n",
      "Start_1040077_Stop_1040698 Rv0932c 1039935 1041048 -1 Periplasmic phosphate-binding lipoprotein PstS2 (PBP-2) (PstS2)\n",
      "**************************************************************************************************\n",
      "**************************************************************************************************\n",
      "('Start_1093334_Stop_1094593', 'Start_1095085_Stop_1095739')\n",
      "Start_1093334_Stop_1094593 Rv0978c 1093360 1094356 -1 PE-PGRS family protein PE_PGRS17\n",
      "Start_1095085_Stop_1095739 Rv0980c 1095077 1096451 -1 PE-PGRS family protein PE_PGRS18\n"
     ]
    }
   ],
   "source": [
    "n = 0\n",
    "for x in a:\n",
    "    n+=1\n",
    "    print('**************************************************************************************************')\n",
    "    print('**************************************************************************************************')\n",
    "    print(x)\n",
    "    for i in x:\n",
    "        seq_start = int(i.split('_')[1])\n",
    "        seq_stop = int(i.split('_')[3])\n",
    "        for (feature, locus, start, stop, strand, product, comments) in mycobrowser_features:\n",
    "            if seq_start < stop and seq_stop > start:\n",
    "                print(i, locus, start, stop, strand, product)\n",
    "    if n > 100:\n",
    "        break"
   ]
  },
  {
   "cell_type": "code",
   "execution_count": null,
   "id": "05496c83-06a7-427e-b8de-27dda63d5fe8",
   "metadata": {},
   "outputs": [],
   "source": []
  }
 ],
 "metadata": {
  "kernelspec": {
   "display_name": "Python 3 (ipykernel)",
   "language": "python",
   "name": "python3"
  },
  "language_info": {
   "codemirror_mode": {
    "name": "ipython",
    "version": 3
   },
   "file_extension": ".py",
   "mimetype": "text/x-python",
   "name": "python",
   "nbconvert_exporter": "python",
   "pygments_lexer": "ipython3",
   "version": "3.9.7"
  }
 },
 "nbformat": 4,
 "nbformat_minor": 5
}
