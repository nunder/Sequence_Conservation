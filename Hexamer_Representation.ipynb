{
 "cells": [
  {
   "cell_type": "markdown",
   "id": "b1e30ed4-8a0e-4a6f-96eb-dfe116dfb2de",
   "metadata": {},
   "source": [
    "#### Import packages, set project directories and parameters"
   ]
  },
  {
   "cell_type": "code",
   "execution_count": 6,
   "id": "cf9c6377-5080-4c22-94db-feabe17cc47c",
   "metadata": {},
   "outputs": [],
   "source": [
    "import pandas as pd\n",
    "import pickle\n",
    "import seaborn as sns\n",
    "import matplotlib.pyplot as plt\n",
    "import numpy as np\n",
    "from Bio import Entrez, SeqIO, AlignIO, pairwise2, Align, Seq, motifs\n",
    "from Bio.Seq import Seq\n",
    "from Bio.SeqFeature import SeqFeature, FeatureLocation\n",
    "import math\n",
    "from tqdm import tqdm\n",
    "from Comparative_Analysis import Utilities as util\n",
    "from joblib import Parallel, delayed\n",
    "from Comparative_Analysis import Blast_Functions as blastfn\n",
    "import time\n",
    "import os\n",
    "import copy\n",
    "from scipy.stats import chi2\n",
    "from Comparative_Analysis import Alignment as alignfn\n",
    "from Bio.Align.Applications import MuscleCommandline\n",
    "import subprocess\n",
    "import re \n",
    "from itertools import product\n",
    "import statistics\n",
    "pd.options.mode.chained_assignment = None  # default='warn'"
   ]
  },
  {
   "cell_type": "code",
   "execution_count": 2,
   "id": "79c1ca3d-a68f-4a9d-a5c4-25df7385b3ad",
   "metadata": {},
   "outputs": [],
   "source": [
    "project_dir = 'F:/Project_Data/MITE_Project'\n",
    "seq_dir = 'F:/Datasets/Other_Genomes/data'\n",
    "target_species = 'NZ_CP054795.1' \n",
    "target_annotation_dirname = 'M_smegmatis'\n",
    "min_region_length = 7 \n",
    "full_build = False\n",
    "num_cores = 16\n",
    "core_numbers = list(range(1, num_cores+1))\n",
    "muscle_exe = 'C:/Users/nicho/Muscle/muscle3.8.31_i86win32.exe'\n",
    "full_run = False"
   ]
  },
  {
   "cell_type": "code",
   "execution_count": 3,
   "id": "be6df13d-3ee1-485b-b5c7-8d788256b55e",
   "metadata": {},
   "outputs": [],
   "source": [
    "genome_record = next(SeqIO.parse(seq_dir + '/' + target_annotation_dirname + '/genomic.gbff', \"genbank\"))\n",
    "full_sequence = str(genome_record.seq)"
   ]
  },
  {
   "cell_type": "code",
   "execution_count": 4,
   "id": "508d4527-a98b-459e-9e40-8af14ce5ffb4",
   "metadata": {},
   "outputs": [],
   "source": [
    "def generate_putative_MITES(num_subsets, subset_num, target_sequence_list): \n",
    "    target_sequences = util.chunk_list(target_sequence_list, num_subsets, subset_num)\n",
    "    putative_MITEs = []\n",
    "    for target_sequence in tqdm(target_sequences):\n",
    "        rc_sequence = util.reverse_complement(target_sequence)\n",
    "        target_hits = [(m.start(), 'T') for m in re.finditer(target_sequence, full_sequence)]\n",
    "        reverse_hits =  [(m.start(), 'R') for m in re.finditer(rc_sequence, full_sequence)]\n",
    "        all_hits = target_hits + reverse_hits\n",
    "        all_hits.sort(key = lambda x:x[0])\n",
    "        hit_counter = []\n",
    "        for n, (start, seq_type) in enumerate(all_hits):\n",
    "            if n > 0:\n",
    "                prev_start, prev_seq_type = all_hits[n-1][0], all_hits[n-1][1]\n",
    "                if start - prev_start < 150:\n",
    "                    hit_counter.append((prev_start, prev_seq_type, start, seq_type, start - prev_start))\n",
    "        if len(hit_counter) > 1:\n",
    "            data = [x[4] for x in hit_counter]\n",
    "            putative_MITEs.append([target_sequence, len(hit_counter), statistics.mean(data), statistics.stdev(data)])\n",
    "    return putative_MITEs"
   ]
  },
  {
   "cell_type": "code",
   "execution_count": 5,
   "id": "85f0ac53-8df8-418c-903c-e0f0637cb562",
   "metadata": {},
   "outputs": [
    {
     "data": {
      "text/plain": [
       "262144"
      ]
     },
     "execution_count": 5,
     "metadata": {},
     "output_type": "execute_result"
    }
   ],
   "source": [
    "target_sequences = [''.join(i) for i in product('ACGT', repeat = 9)]\n",
    "len(target_sequences)"
   ]
  },
  {
   "cell_type": "code",
   "execution_count": 6,
   "id": "fbd29680-8856-4263-a4de-937305a19526",
   "metadata": {},
   "outputs": [],
   "source": [
    "test = target_sequences#[0:20000]\n",
    "parallel_output1 = Parallel(n_jobs=-1)(delayed(generate_putative_MITES)(num_cores, core_number, test) for core_number in core_numbers)"
   ]
  },
  {
   "cell_type": "code",
   "execution_count": 8,
   "id": "30d14024-6ec6-405c-91d8-d8d5ef0bb46e",
   "metadata": {},
   "outputs": [
    {
     "data": {
      "text/plain": [
       "[['GGTGCGCAC', 163, 2.871165644171779, 12.986767833311845],\n",
       " ['GTGCGCACC', 163, 2.871165644171779, 12.986767833311845],\n",
       " ['GGTGATCAC', 138, 2.028985507246377, 10.952413345349036],\n",
       " ['GTGATCACC', 138, 2.028985507246377, 10.952413345349036],\n",
       " ['CGACGCGTC', 136, 1.4338235294117647, 5.05920826170401],\n",
       " ['GACGCGTCG', 136, 1.4338235294117647, 5.05920826170401],\n",
       " ['ATCGCGATC', 124, 2.5, 10.513251413551986],\n",
       " ['GATCGCGAT', 124, 2.5, 10.513251413551986],\n",
       " ['CCCGCGGGC', 121, 2.5702479338842976, 12.533838495768824],\n",
       " ['GCCCGCGGG', 121, 2.5702479338842976, 12.533838495768824],\n",
       " ['GGTGGCCAC', 112, 2.6875, 10.291281405780962],\n",
       " ['GTGGCCACC', 112, 2.6875, 10.291281405780962],\n",
       " ['CGCGCGCGC', 110, 3.8727272727272726, 14.992419546887406],\n",
       " ['GCGCGCGCG', 110, 3.8727272727272726, 14.992419546887406],\n",
       " ['CTGCGCAGC', 106, 2.2641509433962264, 13.015230555587339],\n",
       " ['GCTGCGCAG', 106, 2.2641509433962264, 13.015230555587339],\n",
       " ['ATCGCGATG', 103, 2.6601941747572817, 10.72796729650439],\n",
       " ['CATCGCGAT', 103, 2.6601941747572817, 10.72796729650439],\n",
       " ['AGCGCGCTG', 90, 1, 0.0],\n",
       " ['CAGCGCGCT', 90, 1, 0.0],\n",
       " ['CGGATCCGC', 80, 2.3375, 8.637486375449512],\n",
       " ['GCGGATCCG', 80, 2.3375, 8.637486375449512],\n",
       " ['CGGCATGCC', 79, 1.6708860759493671, 5.962965874907926],\n",
       " ['GGCATGCCG', 79, 1.6708860759493671, 5.962965874907926],\n",
       " ['CGGCCGGCC', 75, 2.493333333333333, 5.882574664607724],\n",
       " ['GGCCGGCCG', 75, 2.493333333333333, 5.882574664607724],\n",
       " ['ACGGCCGTG', 67, 1, 0.0],\n",
       " ['CACGGCCGT', 67, 1, 0.0],\n",
       " ['CCGTACGGC', 66, 1.893939393939394, 7.262397967780632],\n",
       " ['GCCGTACGG', 66, 1.893939393939394, 7.262397967780632],\n",
       " ['CGGTACCGC', 65, 1, 0.0],\n",
       " ['GCGGTACCG', 65, 1, 0.0],\n",
       " ['GGCCGGCCA', 62, 2.9516129032258065, 9.173067169181886],\n",
       " ['TGGCCGGCC', 62, 2.9516129032258065, 9.173067169181886],\n",
       " ['CTGATCAGC', 59, 1, 0.0],\n",
       " ['GCCATGGCC', 59, 1, 0.0],\n",
       " ['GCGCGCGCA', 59, 1.847457627118644, 5.4734895864049955],\n",
       " ['GCTGATCAG', 59, 1, 0.0],\n",
       " ['GGCCATGGC', 59, 1, 0.0],\n",
       " ['TGCGCGCGC', 59, 1.847457627118644, 5.4734895864049955],\n",
       " ['CGGTGCACC', 57, 1, 0.0],\n",
       " ['GGTGCACCG', 57, 1, 0.0],\n",
       " ['CAGCGCTGC', 56, 2.4464285714285716, 10.824080297453188],\n",
       " ['GCAGCGCTG', 56, 2.4464285714285716, 10.824080297453188],\n",
       " ['GGTCGACCA', 56, 2.6964285714285716, 12.694908990840158],\n",
       " ['GTCGATCGA', 56, 1, 0.0],\n",
       " ['TCGATCGAC', 56, 1, 0.0],\n",
       " ['TGGTCGACC', 56, 2.6964285714285716, 12.694908990840158],\n",
       " ['CCTGCAGGC', 54, 2.2222222222222223, 8.981462390204985],\n",
       " ['CGTGCGCAC', 54, 3.8703703703703702, 14.776378773960769],\n",
       " ['GCCTGCAGG', 54, 2.2222222222222223, 8.981462390204985],\n",
       " ['GTGCGCACG', 54, 3.8703703703703702, 14.776378773960769],\n",
       " ['ACGATCGTG', 53, 1, 0.0],\n",
       " ['CACGATCGT', 53, 1, 0.0],\n",
       " ['ACCCGGGTG', 49, 1.6734693877551021, 4.7142857142857135],\n",
       " ['CACCCGGGT', 49, 1.6734693877551021, 4.7142857142857135],\n",
       " ['CGAGATCTC', 47, 1, 0.0],\n",
       " ['GAGATCTCG', 47, 1, 0.0],\n",
       " ['CGCATGCGC', 46, 1, 0.0],\n",
       " ['CTGGCCAGC', 46, 1, 0.0],\n",
       " ['GCGCATGCG', 46, 1, 0.0],\n",
       " ['GCTGGCCAG', 46, 1, 0.0],\n",
       " ['GTGCGCGCA', 45, 1.8888888888888888, 5.962847939999439],\n",
       " ['TGCGCGCAC', 45, 1.8888888888888888, 5.962847939999439],\n",
       " ['CTCGATCGA', 44, 1.2045454545454546, 1.3568010505999362],\n",
       " ['TCGATCGAG', 44, 1.2045454545454546, 1.3568010505999362],\n",
       " ['AGCGCGCGC', 43, 2.9767441860465116, 9.07242911791918],\n",
       " ['CAGGCCTGC', 43, 1, 0.0],\n",
       " ['CGCACGTGC', 43, 1, 0.0],\n",
       " ['GCACGTGCG', 43, 1, 0.0],\n",
       " ['GCAGGCCTG', 43, 1, 0.0],\n",
       " ['GCGCGCGCT', 43, 2.9767441860465116, 9.07242911791918],\n",
       " ['ACACCGGTG', 42, 3.357142857142857, 13.24040642764934],\n",
       " ['ATGATCATC', 42, 1, 0.0],\n",
       " ['CACCGGTGT', 42, 3.357142857142857, 13.24040642764934],\n",
       " ['CGGTCGACC', 42, 2.119047619047619, 7.2522574482183195],\n",
       " ['GATGATCAT', 42, 1, 0.0],\n",
       " ['GGTCGACCG', 42, 2.119047619047619, 7.2522574482183195],\n",
       " ['GTGGCGCCA', 42, 2.8095238095238093, 11.727054597118984],\n",
       " ['TGGCGCCAC', 42, 2.8095238095238093, 11.727054597118984],\n",
       " ['ATCCGGATC', 41, 1, 0.0],\n",
       " ['CGCAGCTGC', 41, 1.2926829268292683, 1.8740851426632728],\n",
       " ['GATCCGGAT', 41, 1, 0.0],\n",
       " ['GCAGCTGCG', 41, 1.2926829268292683, 1.8740851426632728],\n",
       " ['CCTGCAGGA', 40, 2.6, 10.119288512538814],\n",
       " ['CGACCGGTC', 40, 1.9, 5.692099788303083],\n",
       " ['GACCGGTCG', 40, 1.9, 5.692099788303083],\n",
       " ['TCCTGCAGG', 40, 2.6, 10.119288512538814],\n",
       " ['ATGGCCATC', 39, 1, 0.0],\n",
       " ['CCCGATCGG', 39, 2.58974358974359, 9.927945535915402],\n",
       " ['CCGATCGGG', 39, 2.58974358974359, 9.927945535915402],\n",
       " ['CGTGATCAC', 39, 2.948717948717949, 12.16973968918662],\n",
       " ['GATGGCCAT', 39, 1, 0.0],\n",
       " ['GTGATCACG', 39, 2.948717948717949, 12.16973968918662],\n",
       " ['CGAGGCCTC', 38, 1, 0.0],\n",
       " ['GAGGCCTCG', 38, 1, 0.0],\n",
       " ['CGTGGCCAC', 37, 2.7567567567567566, 10.685934174848223],\n",
       " ['GTGGCCACG', 37, 2.7567567567567566, 10.685934174848223],\n",
       " ['ACCATGGTG', 36, 1, 0.0],\n",
       " ['ACGCGCGTG', 36, 1, 0.0],\n",
       " ['CACCATGGT', 36, 1, 0.0],\n",
       " ['CACGCGCGT', 36, 1, 0.0],\n",
       " ['CGTGCACGC', 36, 1.5277777777777777, 3.1666666666666665],\n",
       " ['GCACGTGCC', 36, 1, 0.0],\n",
       " ['GCGTACGCC', 36, 3.138888888888889, 9.429900098782378],\n",
       " ['GCGTGCACG', 36, 1.5277777777777777, 3.1666666666666665],\n",
       " ['GGCACGTGC', 36, 1, 0.0],\n",
       " ['GGCGTACGC', 36, 3.138888888888889, 9.429900098782378],\n",
       " ['GTCGCGCGA', 36, 1.25, 1.5],\n",
       " ['TCGCGCGAC', 36, 1.25, 1.5],\n",
       " ['AACGCGTTG', 35, 1.3142857142857143, 1.8593393604027364],\n",
       " ['ATGCGCATC', 35, 1, 0.0],\n",
       " ['CAACGCGTT', 35, 1.3142857142857143, 1.8593393604027364],\n",
       " ['CCCCGGGGC', 35, 1, 0.0],\n",
       " ['CCGTGCACG', 35, 1, 0.0],\n",
       " ['CGGGATCCC', 35, 1, 0.0],\n",
       " ['CGTGCACGG', 35, 1, 0.0],\n",
       " ['CTCGCGAGC', 35, 1, 0.0],\n",
       " ['GATGCGCAT', 35, 1, 0.0],\n",
       " ['GCCCCGGGG', 35, 1, 0.0],\n",
       " ['GCTCGCGAG', 35, 1, 0.0],\n",
       " ['GGGATCCCG', 35, 1, 0.0],\n",
       " ['CGAGTACTC', 34, 1, 0.0],\n",
       " ['GAGTACTCG', 34, 1, 0.0],\n",
       " ['ACGGCCGTC', 33, 3.3333333333333335, 13.403979508588735],\n",
       " ['GACGGCCGT', 33, 3.3333333333333335, 13.403979508588735],\n",
       " ['AAGGCCTTC', 32, 1, 0.0],\n",
       " ['AGGTCGACC', 32, 1, 0.0],\n",
       " ['CCTGCGCAG', 32, 4.5625, 14.020578194326573],\n",
       " ['CGACATGTC', 32, 1, 0.0],\n",
       " ['CGTGCACGA', 32, 1.3125, 1.7677669529663689],\n",
       " ['CTGCGCAGG', 32, 4.5625, 14.020578194326573],\n",
       " ['GAAGGCCTT', 32, 1, 0.0],\n",
       " ['GACATGTCG', 32, 1, 0.0],\n",
       " ['GGTCGACCT', 32, 1, 0.0],\n",
       " ['GTGCCGGCA', 32, 1, 0.0],\n",
       " ['TCGTGCACG', 32, 1.3125, 1.7677669529663689],\n",
       " ['TGCCGGCAC', 32, 1, 0.0],\n",
       " ['ACCACGTGG', 31, 1, 0.0],\n",
       " ['ACGCGCGTC', 31, 1, 0.0],\n",
       " ['CCACGTGGT', 31, 1, 0.0],\n",
       " ['GACGCGCGT', 31, 1, 0.0]]"
      ]
     },
     "execution_count": 8,
     "metadata": {},
     "output_type": "execute_result"
    }
   ],
   "source": [
    "master_list = []\n",
    "for seq_list in parallel_output1:\n",
    "    for put_mit in seq_list:\n",
    "        if put_mit[3] < 15 and put_mit[1] > 30 and put_mit[2] > 0:\n",
    "            master_list.append(put_mit)\n",
    "master_list.sort(key = lambda x:x[1], reverse = True)\n",
    "master_list"
   ]
  },
  {
   "cell_type": "code",
   "execution_count": null,
   "id": "07230a09-8fc0-466e-a04d-84eb22e61e03",
   "metadata": {},
   "outputs": [],
   "source": [
    "for x in master_list:\n",
    "    if x[0] == 'CGAGCAGAC':\n",
    "        print(x)"
   ]
  },
  {
   "cell_type": "code",
   "execution_count": null,
   "id": "1cb7c228-47b8-405d-bc10-efbf4a8a64f4",
   "metadata": {},
   "outputs": [],
   "source": [
    "temp = []\n",
    "for x in master_list:\n",
    "    target_sequence = x[0]\n",
    "    if not(x[0] == 'GCGACGATG'):\n",
    "        continue\n",
    "    print(x)\n",
    "    print(\"\")\n",
    "    print(\"\")\n",
    "    rc_sequence = util.reverse_complement(target_sequence)\n",
    "    target_hits = [(m.start(), 'T') for m in re.finditer(target_sequence, full_sequence)]\n",
    "    reverse_hits =  [(m.start(), 'R') for m in re.finditer(rc_sequence, full_sequence)]\n",
    "    all_hits = target_hits + reverse_hits\n",
    "    all_hits.sort(key = lambda x:x[0])\n",
    "    for n, (start, seq_type) in enumerate(all_hits):\n",
    "            if n > 0:\n",
    "                prev_start, prev_seq_type = all_hits[n-1][0], all_hits[n-1][1]\n",
    "                if start - prev_start < 150:\n",
    "                    temp.append([str(prev_start-10)+'_'+str(start+10), full_sequence[prev_start-10: start + 19]])\n",
    "                    print((prev_start, prev_seq_type, start, seq_type, start - prev_start), full_sequence[prev_start-10: start + 19])"
   ]
  },
  {
   "cell_type": "code",
   "execution_count": null,
   "id": "bdba51f8-1a2e-4bdb-bc18-cd1e922d8785",
   "metadata": {},
   "outputs": [],
   "source": [
    "util.produce_fasta_file(temp, project_dir + '/temp.faa')"
   ]
  },
  {
   "cell_type": "code",
   "execution_count": null,
   "id": "e2827410-d6b6-4446-852b-25b9588fbf27",
   "metadata": {},
   "outputs": [],
   "source": [
    "genome_record = next(SeqIO.parse(mycobacteria_seq_dir + '/' + tb_annotation_dirname + '/genomic.gbff', \"genbank\"))\n",
    "target_sequence = str(genome_record.seq)\n",
    "accession_ver = genome_record.annotations['accessions'][0] + '.' + str(genome_record.annotations['sequence_version'])\n",
    "util.produce_fasta_file([[accession_ver, target_sequence]], project_dir + '/target_seq')"
   ]
  },
  {
   "cell_type": "code",
   "execution_count": null,
   "id": "afda25d4-9509-474b-b1b1-4c72bef80776",
   "metadata": {},
   "outputs": [],
   "source": [
    "def run_meme(search_regions_loc, output_dir, min_width, min_sites):\n",
    "    subprocess.run('wsl export PATH=$HOME/meme/bin:$HOME/meme/libexec/meme-5.4.1:usr/bin:$PATH ; meme '+ util.wslname(search_regions_loc) + ' -oc '+ util.wslname(output_dir) +' -dna -evt 0.001 -p 8 -revcomp -mod anr -brief 4000 -minw ' + str(min_width) +' -maxw 200 -minsites ' + str(min_sites)\n",
    "               , shell=True)"
   ]
  },
  {
   "cell_type": "code",
   "execution_count": null,
   "id": "ba6191f8-8e60-4958-af84-30c4af5fd013",
   "metadata": {},
   "outputs": [],
   "source": [
    "def run_fimo(motif_file, sequence_to_search_file, output_dir):\n",
    "    subprocess.run('wsl export PATH=$HOME/meme/bin:$HOME/meme/libexec/meme-5.4.1:usr/bin:$PATH ; fimo -oc ' + util.wslname(output_dir) + ' ' + util.wslname(motif_file) + ' ' + util.wslname(sequence_to_search_file)\n",
    "               , shell=True)"
   ]
  },
  {
   "cell_type": "code",
   "execution_count": null,
   "id": "9b698f68-70d5-4e9c-9b96-d6f3db321bb3",
   "metadata": {},
   "outputs": [],
   "source": [
    "def produce_matched_sequence_file(hit_df, output_file, q_value):\n",
    "    matched_sequences = []\n",
    "    for i, r in hit_df.iterrows():\n",
    "        if '#' in r['motif_id']:\n",
    "            continue\n",
    "        if float(r['q-value']) < q_value:\n",
    "            matched_sequences.append([str(r['start'])+'_'+str(r['stop']), r['matched_sequence']])\n",
    "    util.produce_fasta_file(matched_sequences, output_file)"
   ]
  },
  {
   "cell_type": "code",
   "execution_count": null,
   "id": "28507a19-c303-4032-b3b3-ca90a96b40e7",
   "metadata": {},
   "outputs": [],
   "source": [
    "run_fimo(project_dir + '/MEME_Output/meme.txt', project_dir + '/target_seq' , project_dir + '/FIMO_Output')\n",
    "fimo_upstream_hits = pd.read_csv(project_dir + '/FIMO_Output/fimo.tsv', sep='\\t')\n",
    "produce_matched_sequence_file(fimo_upstream_hits, project_dir + '/fimo_hit_sequences.faa', q_value = 1e-3)\n",
    "run_meme(project_dir + '/fimo_hit_sequences.faa', project_dir + '/Second_MEME_Output',3,5)"
   ]
  },
  {
   "cell_type": "code",
   "execution_count": null,
   "id": "da8466bd-1e81-490d-bd0a-6188664c1824",
   "metadata": {},
   "outputs": [],
   "source": [
    "def location(accession_ver, start1, end1, annotation_lookup_dictionary):\n",
    "    feature_matches = []\n",
    "    for (locus, product, feature, start, stop, strand) in annotation_lookup_dictionary[accession_ver]:\n",
    "            if start< end1 and stop > start1:\n",
    "                overlap = str(int(100*(min(end1, stop) - max(start1, start))/ (end1-start1)))+'%'\n",
    "                feature_matches.append([locus, product, feature, overlap, strand])\n",
    "    return feature_matches"
   ]
  },
  {
   "cell_type": "code",
   "execution_count": null,
   "id": "6723482a-a2ae-41e7-bdc4-01836c7de1f0",
   "metadata": {},
   "outputs": [],
   "source": [
    "def annotated_regions_dataset(num_subsets, subset_num, dir_list, seqdir, cds_only = False): \n",
    "    output = []\n",
    "    sequence_dirs = util.chunk_list(dir_list, num_subsets, subset_num)\n",
    "    for dirname in sequence_dirs:\n",
    "        annotated_regions = []\n",
    "        intergenic_regions = []\n",
    "        for record in (SeqIO.parse(seqdir + '/'+dirname+'/genomic.gbff', \"genbank\")):\n",
    "            accession_ver = record.annotations['accessions'][0] + '.' + str(record.annotations['sequence_version'])\n",
    "            for feature in record.features:\n",
    "                a = feature.qualifiers\n",
    "                if feature.type not in ['source','gene'] and (int(feature.location.start) < int(feature.location.end)) and (int(feature.location.end) - int(feature.location.start)) < 1000000:\n",
    "                    if cds_only == True and not(feature.type == 'CDS'):\n",
    "                        continue\n",
    "                    else:\n",
    "                        if not(a.get(\"product\") == None):\n",
    "                               product = a.get(\"product\")[0]\n",
    "                        else:\n",
    "                               product = ''\n",
    "                        if not(a.get(\"locus_tag\")==None):\n",
    "                            locus_tag = a.get(\"locus_tag\")[0]\n",
    "                        else:\n",
    "                            locus_tag = feature.type\n",
    "                        annotated_regions.append((locus_tag, product, feature.type, int(feature.location.start), int(feature.location.end), str(feature.location.strand)))\n",
    "            annotated_regions.sort(key = lambda x: x[4])\n",
    "            prev_strand = 0\n",
    "            prev_locus = ''\n",
    "            prev_product = ''\n",
    "            max_stop = 0\n",
    "            for n, (locus, product, feature_type, start, stop, strand) in enumerate(annotated_regions):\n",
    "                if start > max_stop:\n",
    "                    intergenic_regions.append([prev_locus+':'+locus, prev_product + ':' + product, 'Inter-feature',max_stop, start, str(prev_strand)+':'+str(strand)])\n",
    "                if stop > max_stop:\n",
    "                    prev_locus = locus\n",
    "                    prev_product = product\n",
    "                    prev_strand = strand\n",
    "                max_stop = max(max_stop, stop)    \n",
    "            for x in intergenic_regions:\n",
    "                annotated_regions.append(x)\n",
    "            annotated_regions.sort(key = lambda x : x[4])\n",
    "            output.append([accession_ver, annotated_regions])\n",
    "    return output"
   ]
  },
  {
   "cell_type": "code",
   "execution_count": null,
   "id": "eee0ec38-d7de-40db-bf98-6d3b21520e8c",
   "metadata": {},
   "outputs": [],
   "source": [
    "seq_dirs = []\n",
    "for dir in util.list_dirs(seq_dir):\n",
    "    if os.path.exists(seq_dir + '/' + dir + '/genomic.gbff'):\n",
    "        seq_dirs.append(dir)"
   ]
  },
  {
   "cell_type": "code",
   "execution_count": null,
   "id": "d8fc3122-1265-4300-b2d2-199255eb366c",
   "metadata": {},
   "outputs": [],
   "source": [
    "parallel_output = Parallel(n_jobs=-1)(delayed(annotated_regions_dataset)(num_cores, core_number, seq_dirs, seq_dir) for core_number in core_numbers)\n",
    "annotated_regions_dict = {}\n",
    "for x in parallel_output:\n",
    "    for y in x:\n",
    "        annotated_regions_dict[y[0]] = y[1]"
   ]
  },
  {
   "cell_type": "code",
   "execution_count": null,
   "id": "472b9782-0652-48a0-9f5f-0e3e2c15c095",
   "metadata": {},
   "outputs": [],
   "source": [
    "temp_list = []\n",
    "temp_fimo_hits = pd.read_csv(project_dir + '/FIMO_Output/fimo.tsv', sep='\\t')\n",
    "for i, r in temp_fimo_hits.iterrows():\n",
    "    if '#' in r['motif_id']:\n",
    "        continue\n",
    "    organism = r['sequence_name']\n",
    "    motif_id = r['motif_alt_id']\n",
    "    if float(r['q-value']) < 1e-3:\n",
    "        temp = location(r['sequence_name'],int(r['start']), int(r['stop']), annotated_regions_dict)\n",
    "        temp_list.append((int(r['start']),r['motif_alt_id'], float(r['q-value']), temp))\n",
    "temp_list.sort(key=lambda x: x[0])\n",
    "for x in temp_list:\n",
    "    print(x)"
   ]
  },
  {
   "cell_type": "code",
   "execution_count": null,
   "id": "1ca8787c-97e0-442a-be89-a8514e22cb3e",
   "metadata": {},
   "outputs": [],
   "source": []
  },
  {
   "cell_type": "code",
   "execution_count": null,
   "id": "80160e4c-56e6-4f0a-a3f4-89fc415090f5",
   "metadata": {},
   "outputs": [],
   "source": []
  }
 ],
 "metadata": {
  "kernelspec": {
   "display_name": "Python 3 (ipykernel)",
   "language": "python",
   "name": "python3"
  },
  "language_info": {
   "codemirror_mode": {
    "name": "ipython",
    "version": 3
   },
   "file_extension": ".py",
   "mimetype": "text/x-python",
   "name": "python",
   "nbconvert_exporter": "python",
   "pygments_lexer": "ipython3",
   "version": "3.12.4"
  }
 },
 "nbformat": 4,
 "nbformat_minor": 5
}
