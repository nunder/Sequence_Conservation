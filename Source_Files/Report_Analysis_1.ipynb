{
 "cells": [
  {
   "cell_type": "markdown",
   "id": "b1e30ed4-8a0e-4a6f-96eb-dfe116dfb2de",
   "metadata": {},
   "source": [
    "#### Directories etc"
   ]
  },
  {
   "cell_type": "code",
   "execution_count": 1,
   "id": "cf9c6377-5080-4c22-94db-feabe17cc47c",
   "metadata": {},
   "outputs": [
    {
     "name": "stderr",
     "output_type": "stream",
     "text": [
      "C:\\Users\\nicho\\Anaconda3\\envs\\Bioinformatics\\lib\\site-packages\\ete3-3.1.2-py3.7.egg\\ete3\\evol\\parser\\codemlparser.py:221: SyntaxWarning: \"is\" with a literal. Did you mean \"==\"?\n",
      "C:\\Users\\nicho\\Anaconda3\\envs\\Bioinformatics\\lib\\site-packages\\ete3-3.1.2-py3.7.egg\\ete3\\evol\\parser\\codemlparser.py:221: SyntaxWarning: \"is\" with a literal. Did you mean \"==\"?\n"
     ]
    }
   ],
   "source": [
    "import pandas as pd\n",
    "import pickle\n",
    "import seaborn as sns\n",
    "import matplotlib.pyplot as plt\n",
    "import numpy as np\n",
    "from scipy.fft import fft, fftfreq\n",
    "from Bio import Entrez, SeqIO, AlignIO, pairwise2, Align, Seq, motifs\n",
    "from Bio.Seq import Seq\n",
    "from Bio.SeqFeature import SeqFeature, FeatureLocation\n",
    "from scipy.stats import binom\n",
    "import math\n",
    "import random\n",
    "from tqdm import tqdm\n",
    "from Comparative_Analysis import Utilities as util\n",
    "from collections import defaultdict\n",
    "import random\n",
    "from joblib import Parallel, delayed\n",
    "from Comparative_Analysis import Blast_Functions as blastfn\n",
    "import time\n",
    "import re\n",
    "import os\n",
    "import copy\n",
    "from Comparative_Analysis import ORF_Functions as orffn\n",
    "from random import sample\n",
    "pd.options.mode.chained_assignment = None  # default='warn'\n",
    "import ete3\n",
    "import matplotlib.pyplot as plt\n",
    "from statistics import mode, median\n",
    "from scipy.stats import chi2"
   ]
  },
  {
   "cell_type": "code",
   "execution_count": 2,
   "id": "1988a242-f558-4643-b3a9-27272fa7bebc",
   "metadata": {},
   "outputs": [],
   "source": [
    "project_dir = 'F:/Project_Data/Project_11'\n",
    "seq_dir = 'F:/Datasets/Actinobacteria_Ref_Rep_Lev_Complete'\n",
    "dictionary_dir = 'F:/Datasets/CRYPTIC_DATA/Cryptic_Dictionaries'\n",
    "tb_species = 'NC_000962.3' \n",
    "tb_genome_filename = 'GCF_000195955.2_ASM19595v2_genomic.gbff'\n",
    "mycobrowser_dir = 'F:/Datasets/Data_From_Publications'\n",
    "num_cores = 16\n",
    "core_numbers = list(range(1, num_cores+1))"
   ]
  },
  {
   "cell_type": "code",
   "execution_count": 3,
   "id": "32707d71-27ce-4492-88d2-d2c1f23e27b3",
   "metadata": {},
   "outputs": [],
   "source": [
    "with open(project_dir + '/Thoth_Full_Run/position_dict.pkl', 'rb') as f:\n",
    "    full_sample_position_dict = pickle.load(f)  \n",
    "with open(project_dir + '/Thoth_Full_Run/variant_df.pkl', 'rb') as f:\n",
    "    full_variant_df = pickle.load(f)   \n",
    "with open(project_dir + '/gpi_variant_df.pkl', 'rb') as f:\n",
    "    gpi_variant_df = pickle.load(f) "
   ]
  },
  {
   "cell_type": "code",
   "execution_count": 4,
   "id": "adcbe3c9-2a57-4243-a2a9-1bc46bce7531",
   "metadata": {},
   "outputs": [],
   "source": [
    "for record in SeqIO.parse(seq_dir + '/' + tb_genome_filename, \"genbank\"):\n",
    "    full_sequence = str(record.seq)"
   ]
  },
  {
   "cell_type": "code",
   "execution_count": 5,
   "id": "79a27a3c-8aed-4f53-b285-7a73ee5f9957",
   "metadata": {},
   "outputs": [],
   "source": [
    "with open(project_dir + '/Mutation_Counts/zero_and_non_zero_mutation_counts.pkl', 'rb') as f:\n",
    "    gpi_zero_and_non_zero_mutation_counts = pickle.load(f)     \n",
    "with open(project_dir + '/Thoth_Full_Run/zero_and_non_zero_mutation_counts.pkl', 'rb') as f:\n",
    "    full_sample_zero_and_non_zero_mutation_counts = pickle.load(f)   "
   ]
  },
  {
   "cell_type": "code",
   "execution_count": 6,
   "id": "20b2125c-a6c7-4ab3-8aab-f2ebf7835c52",
   "metadata": {},
   "outputs": [
    {
     "name": "stderr",
     "output_type": "stream",
     "text": [
      "C:\\Users\\nicho\\AppData\\Local\\Temp/ipykernel_10772/796550937.py:1: DtypeWarning: Columns (1,3,13,14,15,27,36) have mixed types. Specify dtype option on import or set low_memory=False.\n",
      "  genomes_df = pd.read_csv('F:/Project_Data/Project_11/Datasets/GENOMES.csv');\n"
     ]
    }
   ],
   "source": [
    "genomes_df = pd.read_csv('F:/Project_Data/Project_11/Datasets/GENOMES.csv');\n"
   ]
  },
  {
   "cell_type": "code",
   "execution_count": 7,
   "id": "bb7347aa-aa2a-4285-a09d-aaeae512694f",
   "metadata": {},
   "outputs": [],
   "source": [
    "compass_df = pd.read_csv('F:/Datasets/CRYPTIC_DATA/COMPASS.csv', names = ['species', 'start', 'stop','count'])\n",
    "compass_dict = {}\n",
    "for i, r in compass_df.iterrows():\n",
    "    for k in range(r['start'], r['stop']):     #  Should te start-1 but seems to ve inconsistency with mutations!!\n",
    "        compass_dict[k] = 'Y'"
   ]
  },
  {
   "cell_type": "markdown",
   "id": "56860b0a-e91f-4b51-b989-0c897a7b4be3",
   "metadata": {},
   "source": [
    "##### Plot p values for known CDS"
   ]
  },
  {
   "cell_type": "code",
   "execution_count": 8,
   "id": "a9088981-99ce-4e99-9de2-9ab1cba89b57",
   "metadata": {},
   "outputs": [],
   "source": [
    "annotation_cds_boundaries = []\n",
    "for genome_record in SeqIO.parse(seq_dir + '/' + tb_genome_filename, \"genbank\"):\n",
    "    for feature in genome_record.features:\n",
    "        if feature.type == 'CDS':\n",
    "            a = feature.qualifiers  \n",
    "            annotation_cds_boundaries.append((a.get(\"locus_tag\")[0], a.get(\"product\")[0], int(feature.location.start), int(feature.location.end), int(feature.location.strand)))   "
   ]
  },
  {
   "cell_type": "code",
   "execution_count": 9,
   "id": "39858879-1cf7-4526-872a-b9f7aaaf67ae",
   "metadata": {},
   "outputs": [],
   "source": [
    "mycobrowser_df = pd.read_excel(mycobrowser_dir+'/Mycobrowser_Release_4.xlsx')\n",
    "temp_cds = mycobrowser_df[mycobrowser_df['Feature'] == 'CDS'][['Locus','Start','Stop','Strand','Product','Name','Functional_Category','Gene Ontology']]      #Just CDS\n",
    "mycobrowser_cds_boundaries = []\n",
    "for i, r in temp_cds.iterrows():\n",
    "    if r['Strand'] == '+':\n",
    "        strand = 1\n",
    "    else:\n",
    "        strand = -1\n",
    "    mycobrowser_cds_boundaries.append((r['Locus'],r['Product'], r['Start']-1, r['Stop'], strand, r['Name'], r['Functional_Category'], r['Gene Ontology']))\n",
    "mycobrowser_cds_boundaries.sort(key = lambda x: x[2])\n",
    "\n",
    "temp_cds = mycobrowser_df[mycobrowser_df['Feature'].isin(['CDS','rRNA','tRNA'])][['Locus','Start','Stop','Strand','Product','Name','Functional_Category','Gene Ontology']]      #Just CDS\n",
    "mycobrowser_all_boundaries = []\n",
    "for i, r in temp_cds.iterrows():\n",
    "    if r['Strand'] == '+':\n",
    "        strand = 1\n",
    "    else:\n",
    "        strand = -1\n",
    "    mycobrowser_all_boundaries.append((r['Locus'],r['Product'], r['Start']-1, r['Stop'], strand, r['Name'], r['Functional_Category'], r['Gene Ontology']))\n",
    "mycobrowser_all_boundaries.sort(key = lambda x: x[2])"
   ]
  },
  {
   "cell_type": "code",
   "execution_count": 10,
   "id": "38cce946-04e8-4f12-a473-cc9cd6b06839",
   "metadata": {},
   "outputs": [],
   "source": [
    "min_intergenic_length = 50\n",
    "mycobrowser_interregion_boundaries = []\n",
    "max_stop = 0\n",
    "for n,cds in enumerate(mycobrowser_all_boundaries):\n",
    "    stop = cds[3]\n",
    "    max_stop = max(stop, max_stop)\n",
    "    if n < len(mycobrowser_all_boundaries) - 1:\n",
    "        if mycobrowser_all_boundaries[n+1][2] > max_stop + min_intergenic_length:\n",
    "            mycobrowser_interregion_boundaries.append((cds[0], cds[1], max_stop, mycobrowser_all_boundaries[n+1][2], cds[4], cds[5]))\n"
   ]
  },
  {
   "cell_type": "code",
   "execution_count": 11,
   "id": "76d24c1d-cc17-45a7-af30-291c33ceb9b5",
   "metadata": {},
   "outputs": [],
   "source": [
    "min_intergenic_length = 50\n",
    "candidate_intergenic_orfs = []\n",
    "max_stop = 0\n",
    "ORFFinder = orffn.ORF_Finder(full_sequence)\n",
    "for n,cds in enumerate(mycobrowser_all_boundaries):\n",
    "    stop = cds[3]\n",
    "    max_stop = max(stop, max_stop)\n",
    "    if n < len(mycobrowser_all_boundaries) - 1:\n",
    "        if mycobrowser_all_boundaries[n+1][2] > max_stop + min_intergenic_length:\n",
    "            a =ORFFinder.max_orf(max_stop, mycobrowser_all_boundaries[n+1][2], output_orfs = 'Nested', min_orf_length = 50)\n",
    "            for x in a:\n",
    "                candidate_intergenic_orfs.append(x)\n",
    "            "
   ]
  },
  {
   "cell_type": "code",
   "execution_count": 12,
   "id": "cd806218-dbcc-4faf-994d-7a30065aea49",
   "metadata": {},
   "outputs": [],
   "source": [
    "def bin_formula(position_3_counts, tot_bin_counts):\n",
    "    return 1- binom.cdf(position_3_counts-1, tot_bin_counts,1/3)\n",
    "def mutation_bin_probability(mutation_counts):\n",
    "    bin_counts = [0,0,0]\n",
    "    for i, c in enumerate(mutation_counts):\n",
    "        bin_counts[i % 3] += min(c,20000000)\n",
    "    if sum(bin_counts) == 0:\n",
    "        return (bin_counts, 2)\n",
    "    else:\n",
    "        return (bin_counts, bin_formula(bin_counts[2], sum(bin_counts)))  "
   ]
  },
  {
   "cell_type": "code",
   "execution_count": 13,
   "id": "e8795525-156e-4600-b344-96134cd3ef27",
   "metadata": {},
   "outputs": [
    {
     "name": "stdout",
     "output_type": "stream",
     "text": [
      "0.48730925587553936\n"
     ]
    }
   ],
   "source": [
    "p =sum([1 for x in full_sample_zero_and_non_zero_mutation_counts if x > 0])/(len(full_sequence) - len(compass_dict))\n",
    "print(p)\n",
    "def conf_interval(n):\n",
    "    return math.sqrt(p*(1-p))/math.sqrt(n)"
   ]
  },
  {
   "cell_type": "code",
   "execution_count": 14,
   "id": "84c2ee99-536e-45b4-9e3e-913932f41312",
   "metadata": {},
   "outputs": [],
   "source": [
    "locus_mutation_ave = []\n",
    "scores =[]\n",
    "scores_2 = []\n",
    "hi_mutation_scores = []\n",
    "lo_mutation_scores = []\n",
    "total_mutation_count = []\n",
    "hi_mutation_threshold = 1000\n",
    "for (locus, product, start, stop, strand, name, functional_category, gene_ontology) in mycobrowser_cds_boundaries: #interregion_boundaries:\n",
    "    compass_overlap = 0\n",
    "    for n in range(start, stop):\n",
    "        if n in compass_dict:\n",
    "            compass_overlap += 1\n",
    "    if compass_overlap / (stop - start) > 0.1:\n",
    "        continue\n",
    "    mutation_counts = full_sample_zero_and_non_zero_mutation_counts[start:stop]\n",
    "    max_mutation_counts = max(mutation_counts)\n",
    "    total_mutation_count.append(sum(mutation_counts))\n",
    "    if strand == 1:\n",
    "        scores.append(mutation_bin_probability(mutation_counts)[1])\n",
    "        if max_mutation_counts > hi_mutation_threshold:\n",
    "            hi_mutation_scores.append(mutation_bin_probability(mutation_counts)[1])\n",
    "        if max_mutation_counts <= hi_mutation_threshold:\n",
    "            lo_mutation_scores.append(mutation_bin_probability(mutation_counts)[1])\n",
    "    else:\n",
    "        scores.append(mutation_bin_probability(reversed(mutation_counts))[1])\n",
    "        if max_mutation_counts > hi_mutation_threshold:\n",
    "            hi_mutation_scores.append(mutation_bin_probability(reversed(mutation_counts))[1])\n",
    "        if max_mutation_counts <= hi_mutation_threshold:\n",
    "            lo_mutation_scores.append(mutation_bin_probability(reversed(mutation_counts))[1])\n",
    "    proportion_mutated_positions = sum([1 for m in mutation_counts if m>0])/len(mutation_counts)\n",
    "    length = len(mutation_counts)\n",
    "    num_sds = (proportion_mutated_positions - p)/conf_interval(length)\n",
    "    if (abs(num_sds)> 4):\n",
    "        locus_class = 'X'\n",
    "    else:\n",
    "        locus_class = 'N'\n",
    "    locus_mutation_ave.append([locus, name, product, sum(mutation_counts)/len(mutation_counts), max(mutation_counts), median(mutation_counts), start, stop, strand, \n",
    "                               len(mutation_counts), proportion_mutated_positions, num_sds, locus_class, functional_category, gene_ontology])\n",
    "    probs = []\n",
    "    if strand == 1:\n",
    "        mutation_counts_2 = mutation_counts\n",
    "    else:\n",
    "        mutation_counts_2 = list(reversed(mutation_counts))\n",
    "    bin_counts = [0,0,0]\n",
    "    for n in range(int(len(mutation_counts_2)/3)):\n",
    "        temp_counts = [0,0,0]\n",
    "        for m in range(3): \n",
    "            temp_counts[m % 3] = mutation_counts_2[3*n+m]\n",
    "        if sum(temp_counts) < 10:\n",
    "            for m in range(3):\n",
    "                bin_counts[m] += temp_counts[m]\n",
    "    \n",
    "    scores_2.append(bin_formula(bin_counts[2], sum(bin_counts)))\n",
    "    locus_mutation_ave.sort(key = lambda x:x[3])"
   ]
  },
  {
   "cell_type": "code",
   "execution_count": 15,
   "id": "4bb989bb-b9a4-476f-aba5-6cba02487655",
   "metadata": {},
   "outputs": [
    {
     "data": {
      "text/plain": [
       "48.0"
      ]
     },
     "execution_count": 15,
     "metadata": {},
     "output_type": "execute_result"
    }
   ],
   "source": [
    "len(mutation_counts)/3"
   ]
  },
  {
   "cell_type": "code",
   "execution_count": 16,
   "id": "da7f3e14-0617-43c1-a303-28e29878ce1e",
   "metadata": {},
   "outputs": [],
   "source": [
    "locus_mutation_ave_df = pd.DataFrame(locus_mutation_ave, columns = ['locus','name','product','ave_mutation','max_mutation','median_mutation','start','stop','strand',\n",
    "                                                                    'length','ave_pos','num_sds','locus_class', 'functional_category', 'gene_ontology'])"
   ]
  },
  {
   "cell_type": "code",
   "execution_count": 17,
   "id": "dfa47e47-24a7-493e-aae3-2cc48269c8b5",
   "metadata": {},
   "outputs": [
    {
     "data": {
      "text/plain": [
       "3703"
      ]
     },
     "execution_count": 17,
     "metadata": {},
     "output_type": "execute_result"
    }
   ],
   "source": [
    "len(locus_mutation_ave_df)"
   ]
  },
  {
   "cell_type": "code",
   "execution_count": 18,
   "id": "6c1b482d-e27c-4530-9b40-d5a907ecceed",
   "metadata": {},
   "outputs": [
    {
     "data": {
      "text/plain": [
       "3703"
      ]
     },
     "execution_count": 18,
     "metadata": {},
     "output_type": "execute_result"
    }
   ],
   "source": [
    "len(list(locus_mutation_ave_df['locus'].unique()))"
   ]
  },
  {
   "cell_type": "code",
   "execution_count": null,
   "id": "58524ff8-6d43-4556-b740-b0f268e10c75",
   "metadata": {},
   "outputs": [],
   "source": [
    "sns.set(rc={\"figure.figsize\": (10, 6)})\n",
    "sns.set_style(style='white')\n",
    "sns.kdeplot(data = locus_mutation_ave_df, x= 'ave_mutation', hue = 'functional_category', common_norm= False,clip=(0.0, 1000000000.0))\n",
    "plt.xscale('log')"
   ]
  },
  {
   "cell_type": "code",
   "execution_count": null,
   "id": "3f372288-6d1a-430b-a813-c0c51b201b79",
   "metadata": {},
   "outputs": [],
   "source": [
    "sns.histplot([x[11] for x in locus_mutation_ave], bins=100)"
   ]
  },
  {
   "cell_type": "code",
   "execution_count": null,
   "id": "5fdf02c5-9149-4d84-8d0b-95b77143eb43",
   "metadata": {},
   "outputs": [],
   "source": [
    "consecutive_table = []\n",
    "consecutives = 0\n",
    "temp = []\n",
    "locus_mutation_ave.sort(key = lambda x:x[6])\n",
    "for x in locus_mutation_ave:\n",
    "    if (x[11]) < -6:\n",
    "        temp.append((x,int(re.sub('[^0-9]','', x[0]))))\n",
    "for i in range(len(temp)-1):\n",
    "    if temp[i+1][1] - temp[i][1] < 2:\n",
    "        consecutive_table.append([temp[i][0][0], temp[i][0][2], temp[i+1][0][0], temp[i+1][0][2]])\n",
    "        consecutives+=1\n",
    "pd.DataFrame(consecutive_table, columns = ['Locus','Function','Adjacent_Locus','Adjacent_Locus_Function']).to_csv(project_dir + '/adjacent_high_conserved_genes.csv')\n",
    "print(len(temp), consecutives)"
   ]
  },
  {
   "cell_type": "code",
   "execution_count": null,
   "id": "5bed2f3c-5d62-4002-938e-ba9e7794675c",
   "metadata": {},
   "outputs": [],
   "source": [
    "nsims = 10000\n",
    "nconsecutives = []\n",
    "for n in range(nsims):\n",
    "    consecutives = 0\n",
    "    a = random.sample(range(3703), 365)\n",
    "    a.sort()\n",
    "    for i in range(len(a)-1):\n",
    "        if a[i+1] - a[i] < 2:\n",
    "            consecutives+=1\n",
    "    nconsecutives.append(consecutives)\n",
    "sns.ecdfplot(nconsecutives)"
   ]
  },
  {
   "cell_type": "code",
   "execution_count": null,
   "id": "1e59ef97-4cb5-4d38-801a-6c2a8006ff11",
   "metadata": {},
   "outputs": [],
   "source": [
    "nconsecutives.sort()\n",
    "nconsecutives[int(len(nconsecutives)*0.99)]"
   ]
  },
  {
   "cell_type": "code",
   "execution_count": null,
   "id": "395db02a-1a3d-4df6-9cc5-9593819a92d2",
   "metadata": {},
   "outputs": [],
   "source": [
    "locus_mutation_ave_df[abs(locus_mutation_ave_df['num_sds'])>10].to_csv(project_dir + '/conserved_genes_many_consecutive.csv')"
   ]
  },
  {
   "cell_type": "code",
   "execution_count": null,
   "id": "80884dc8-f47e-4c9b-81e3-be9e888c7ae1",
   "metadata": {},
   "outputs": [],
   "source": [
    "a=[x for x in locus_mutation_ave if x[11] > 15]\n",
    "a.sort(key = lambda x: x[0])\n",
    "for x in a:\n",
    "    print(x)"
   ]
  },
  {
   "cell_type": "code",
   "execution_count": null,
   "id": "a61f3a1e-c2b9-48c1-94b4-5fa405fc26e9",
   "metadata": {},
   "outputs": [],
   "source": [
    "sns.scatterplot(data = locus_mutation_ave_df, x = 'length', y = 'ave_pos', hue = 'locus_class')"
   ]
  },
  {
   "cell_type": "code",
   "execution_count": null,
   "id": "b71332b3-3840-44cd-81c4-48be701e3c03",
   "metadata": {},
   "outputs": [],
   "source": [
    "temp = []\n",
    "for i, r in locus_mutation_ave_df.iterrows():\n",
    "    temp.append([r['length'], r['ave_pos'],'Observed'])\n",
    "    temp.append([r['length'], p - conf_interval(r['length']), '-2 Std Dev'])\n",
    "    temp.append([r['length'], p + conf_interval(r['length']), '+2 Std Dev'])\n",
    "temp_df = pd.DataFrame(temp, columns = ['length','proportion','type'])\n",
    "sns.set(rc={\"figure.figsize\": (10, 6)})\n",
    "sns.set_style(style='white')\n",
    "sns.scatterplot(data = temp_df, x = 'length', y = 'proportion', hue = 'type', s =15, alpha=0.5)"
   ]
  },
  {
   "cell_type": "code",
   "execution_count": null,
   "id": "dd0e7923-493f-49be-b060-27bce509ff0a",
   "metadata": {},
   "outputs": [],
   "source": [
    "plt=sns.histplot(scores_2, bins = 100, log_scale=(False,True))\n",
    "#plt.yscale('log')\n",
    "plt.set(xlabel =\"P-value\", ylabel = \"Count\", title ='')"
   ]
  },
  {
   "cell_type": "code",
   "execution_count": null,
   "id": "ba03221f-a52e-4c94-9216-cb2b31ac3dc7",
   "metadata": {},
   "outputs": [],
   "source": [
    "plt = sns.ecdfplot(scores_2)\n",
    "plt.set(xlabel =\"P-value\", ylabel = \"Cumulative Proportion\", title ='')"
   ]
  },
  {
   "cell_type": "code",
   "execution_count": null,
   "id": "c633a68d-cca7-4b85-bef2-d7bee96effb0",
   "metadata": {},
   "outputs": [],
   "source": [
    "sns.ecdfplot(hi_mutation_scores)\n",
    "plt.set(xlabel =\"P-value\", ylabel = \"Cumulative Proportion\", title ='')"
   ]
  },
  {
   "cell_type": "code",
   "execution_count": null,
   "id": "6d6a12a6-5114-4b36-ad0a-adf797a3cad9",
   "metadata": {},
   "outputs": [],
   "source": [
    "temp = pd.DataFrame(zip(scores, total_mutation_count), columns = ['score','tot_mutations'])\n",
    "sns.scatterplot(data = temp, x = 'score', y = 'tot_mutations')\n",
    "plt.yscale('Log')"
   ]
  },
  {
   "cell_type": "code",
   "execution_count": null,
   "id": "5e6ff1af-119d-40ef-9ecd-604876b8c66f",
   "metadata": {},
   "outputs": [],
   "source": [
    "filtered_intergenic_orfs = []\n",
    "temp =[]\n",
    "for (start, stop, strand, length) in candidate_intergenic_orfs:\n",
    "    compass_overlap = 0\n",
    "    for n in range(start, stop):\n",
    "        if n in compass_dict:\n",
    "            compass_overlap += 1\n",
    "    if compass_overlap / (stop - start) > 0.2:\n",
    "        continue\n",
    "    if strand == 1:\n",
    "        prob = mutation_bin_probability(full_sample_zero_and_non_zero_mutation_counts[start:stop])\n",
    "    else:\n",
    "        prob = mutation_bin_probability(reversed(full_sample_zero_and_non_zero_mutation_counts[start:stop]))\n",
    "    temp.append(prob)\n",
    "    if prob[1] < 0.01:\n",
    "        filtered_intergenic_orfs.append((start, stop, strand, length, prob[1]))\n",
    "scores = []\n",
    "for x in temp:\n",
    "    scores.append(x[1])"
   ]
  },
  {
   "cell_type": "code",
   "execution_count": null,
   "id": "da0a0448-33b9-48d1-8083-6f85963a1bea",
   "metadata": {},
   "outputs": [],
   "source": [
    "len(scores)"
   ]
  },
  {
   "cell_type": "code",
   "execution_count": null,
   "id": "7773cc99-e356-46d8-a17b-3c928eaf5630",
   "metadata": {},
   "outputs": [],
   "source": [
    "sns.histplot(scores, bins = 100)"
   ]
  },
  {
   "cell_type": "code",
   "execution_count": null,
   "id": "b0c30b7e-dd09-4105-ab4f-5e9706ada95d",
   "metadata": {},
   "outputs": [],
   "source": [
    "filtered_intergenic_orfs[0:3]"
   ]
  },
  {
   "cell_type": "markdown",
   "id": "fe63be72-6aec-4943-9dbd-7a2044e193d1",
   "metadata": {
    "tags": []
   },
   "source": [
    "#### Produce FASTA file with CDS candidates"
   ]
  },
  {
   "cell_type": "code",
   "execution_count": null,
   "id": "170945f6-8a93-4b7a-b3d8-a0c1072f00bf",
   "metadata": {},
   "outputs": [],
   "source": [
    "seq_dir = 'F:/Datasets/Actinobacteria_Ref_Rep_Lev_Complete'\n",
    "sample_filenames = ['GCF_000195955.2_ASM19595v2_genomic.gbff', 'GCF_024600175.1_ASM2460017v1_genomic.gbff', 'GCF_010730055.1_ASM1073005v1_genomic.gbff', 'GCF_020616615.1_ASM2061661v1_genomic.gbff', 'GCF_010731535.1_ASM1073153v1_genomic.gbff',\n",
    "                    'GCF_022370755.1_ASM2237075v1_genomic.gbff', 'GCF_016745295.1_ASM1674529v1_genomic.gbff', 'GCF_000157895.3_ASM15789v2_genomic.gbff', 'GCF_900603025.1_MHAS_genomic.gbff', 'GCF_018363015.1_ASM1836301v1_genomic.gbff',\n",
    "                    'GCF_019645855.1_ASM1964585v1_genomic.gbff', 'GCF_010727945.1_ASM1072794v1_genomic.gbff', 'GCF_010731895.1_ASM1073189v1_genomic.gbff', 'GCF_900637205.1_50279_G01_genomic.gbff', 'GCF_000184435.1_ASM18443v1_genomic.gbff']\n",
    "organism_name_dict = {}\n",
    "for filename in tqdm(sample_filenames):\n",
    "    record = next(SeqIO.parse(seq_dir + '/' + filename, \"genbank\"))\n",
    "    organism_name = record.annotations['organism']\n",
    "    accession_ver = record.annotations['accessions'][0] + '.' + str(record.annotations['sequence_version'])\n",
    "    organism_name_dict[accession_ver] = organism_name"
   ]
  },
  {
   "cell_type": "code",
   "execution_count": null,
   "id": "9799b065-15ad-4b22-9cf0-c7abfe6b5fb2",
   "metadata": {},
   "outputs": [],
   "source": [
    "trans = util.Translator()"
   ]
  },
  {
   "cell_type": "code",
   "execution_count": null,
   "id": "e63bf203-2ff0-445d-af65-fcdf65d6e8bb",
   "metadata": {},
   "outputs": [],
   "source": [
    "temp = []\n",
    "\n",
    "for x in filtered_intergenic_orfs:\n",
    "    prot = trans.translate_sequence(full_sequence[x[0]:x[1]], x[2], 0)\n",
    "    name = 'NC_000962.3@'+str(x[0])+'_'+str(x[1])\n",
    "    temp.append([name, prot[:-1]])\n",
    "util.produce_fasta_file(temp, project_dir + '/filtered_intergenic_proteins.faa')"
   ]
  },
  {
   "cell_type": "code",
   "execution_count": null,
   "id": "547415d1-5213-4019-b07d-ced4c89aaa37",
   "metadata": {},
   "outputs": [],
   "source": [
    "#blastfn.build_blast_db(project_dir, 'comparator_orfs.fasta', 'comparator_orfs', 'F:/Datasets/BLAST/comparator_orfs')\n",
    "#blastfn.build_blast_db(project_dir, 'mycobrowser_inter_feature_orfs.fasta', 'mycobrowser_inter_feature_orfs', 'F:/Datasets/BLAST/mycobrowser_inter_feature_orfs')"
   ]
  },
  {
   "cell_type": "code",
   "execution_count": null,
   "id": "eb06a2a7-0552-402f-8faf-68607edda26e",
   "metadata": {},
   "outputs": [],
   "source": [
    "blastfn.run_blastp('F:/Datasets/BLAST/comparator_orfs', 'filtered_intergenic_proteins.faa', 'comparator_orfs', 'filtered_intergenic_hits.csv', e_value = 0.001)"
   ]
  },
  {
   "cell_type": "code",
   "execution_count": null,
   "id": "50aad10e-06f2-4ad3-a6f5-04296ae26e32",
   "metadata": {},
   "outputs": [],
   "source": [
    "blast_output = blastfn.process_blast_output('F:/Datasets/BLAST/comparator_orfs/filtered_intergenic_hits.csv', organism_name_dict, top_hit_only = False)"
   ]
  },
  {
   "cell_type": "code",
   "execution_count": null,
   "id": "7aef1ce8-5466-4d94-a84e-aef37e216616",
   "metadata": {},
   "outputs": [],
   "source": [
    "blast_output.to_csv(project_dir + '/filtered_intergenic_blast_output.csv')"
   ]
  },
  {
   "cell_type": "markdown",
   "id": "0b56239f-2eb3-44bf-8a7f-002270c2c374",
   "metadata": {},
   "source": [
    "#### Look at mutation rate overdispersion"
   ]
  },
  {
   "cell_type": "code",
   "execution_count": null,
   "id": "094024a3-bf81-4c9f-95e5-2611fd26d3d3",
   "metadata": {},
   "outputs": [],
   "source": [
    "trans.translate_sequence(full_sequence[2405354:2405486],-1,0)"
   ]
  },
  {
   "cell_type": "code",
   "execution_count": null,
   "id": "3d7c2be1-5905-48e2-a5f2-2afe498dc5ac",
   "metadata": {},
   "outputs": [],
   "source": [
    "mutation_bin_probability(reversed(full_sample_zero_and_non_zero_mutation_counts[908014:908113]))\n",
    "#mutation_bin_probability((full_sample_zero_and_non_zero_mutation_counts[1232176:1232293]))"
   ]
  },
  {
   "cell_type": "code",
   "execution_count": null,
   "id": "0cc705f2-e162-484a-a8fc-094e121619fe",
   "metadata": {},
   "outputs": [],
   "source": [
    "amended_mutation_counts = []\n",
    "for n, c in enumerate(full_sample_zero_and_non_zero_mutation_counts):\n",
    "    if n in compass_dict:\n",
    "        continue\n",
    "    else:\n",
    "        amended_mutation_counts.append(c)\n",
    "pd.DataFrame(amended_mutation_counts).to_csv(project_dir + '/R_amended_mutation_counts.csv')\n",
    "sns.histplot([x for x in amended_mutation_counts], bins = 100)\n",
    "plt.yscale('log')"
   ]
  },
  {
   "cell_type": "code",
   "execution_count": null,
   "id": "c0dc2197-523e-42d7-a00a-6717a2c954d9",
   "metadata": {},
   "outputs": [],
   "source": [
    "for n, c in enumerate(full_sample_zero_and_non_zero_mutation_counts):\n",
    "    if c>8000 and c< 100000:\n",
    "        position_info = full_sample_position_dict[n+1]\n",
    "        substitutions = [x[1] for x in position_info[1:]]\n",
    "        source = full_sequence[n-1:n+2]\n",
    "        destination = full_sequence[n-1] + mode(substitutions).upper() + full_sequence[n+1]\n",
    "        print(n, c, full_sequence[n-1:n+2], position_info[0], mode(substitutions), source, destination)"
   ]
  },
  {
   "cell_type": "code",
   "execution_count": null,
   "id": "039ce087-260d-4d86-bcc8-5440a6ce8170",
   "metadata": {},
   "outputs": [],
   "source": [
    "len(full_sample_position_dict[836538])"
   ]
  },
  {
   "cell_type": "code",
   "execution_count": null,
   "id": "804e7be4-12b7-4c95-b3dd-c0e23ea3feaa",
   "metadata": {},
   "outputs": [],
   "source": []
  },
  {
   "cell_type": "code",
   "execution_count": null,
   "id": "685f46da-0d2d-46c3-9d6d-7b0fba6af742",
   "metadata": {},
   "outputs": [],
   "source": [
    "temp = []\n",
    "for n, c in enumerate(zero_and_non_zero_mutation_counts):\n",
    "    if n in compass_dict:\n",
    "        temp.append(c)\n",
    "pd.DataFrame(temp).to_csv(project_dir + '/R_amended_mutation_counts.csv')"
   ]
  },
  {
   "cell_type": "code",
   "execution_count": null,
   "id": "22d6cb45-a10e-4a73-b3d2-65c4e5799693",
   "metadata": {},
   "outputs": [],
   "source": [
    "for k, v in compass_dict.items():\n",
    "    if not(full_sample_zero_and_non_zero_mutation_counts[k] ==0):\n",
    "        print(k, full_sample_zero_and_non_zero_mutation_counts[k])"
   ]
  },
  {
   "cell_type": "code",
   "execution_count": null,
   "id": "9e7593a4-ca2c-4956-8746-d0b6ff7fa251",
   "metadata": {},
   "outputs": [],
   "source": [
    "pd.DataFrame(full_sample_zero_and_non_zero_mutation_counts).to_csv(project_dir + '/R_mutation_counts.csv')"
   ]
  },
  {
   "cell_type": "markdown",
   "id": "c5fd97d9-508c-49b6-aa12-3db8a70c94b5",
   "metadata": {},
   "source": [
    "#####  Tree mutation plots for output displays in R"
   ]
  },
  {
   "cell_type": "code",
   "execution_count": null,
   "id": "2ab4b029-e21e-4729-bb7e-008ee8587ffc",
   "metadata": {},
   "outputs": [],
   "source": [
    "with open(project_dir + '/id_dict.pkl', 'rb') as f:\n",
    "    ids = pickle.load(f)   \n",
    "id_reverse_dict = {}\n",
    "for k, v in ids.items():\n",
    "    id_reverse_dict[v] = k"
   ]
  },
  {
   "cell_type": "code",
   "execution_count": null,
   "id": "b22f5394-fdf2-48d7-8bd0-3eb1228a7282",
   "metadata": {},
   "outputs": [],
   "source": [
    "with open(project_dir + '/pos_id_dict.pkl', 'rb') as f:\n",
    "    pos_id_dict = pickle.load(f)   "
   ]
  },
  {
   "cell_type": "code",
   "execution_count": null,
   "id": "ec8d6a4a-bb51-49de-a262-50364eaeeaa9",
   "metadata": {},
   "outputs": [],
   "source": [
    "lineage_dict = {}\n",
    "for i,r in genomes_df.iterrows():\n",
    "    lineage_dict[r['UNIQUEID']] = r['MYKROBE_LINEAGE_NAME_1'] "
   ]
  },
  {
   "cell_type": "code",
   "execution_count": null,
   "id": "dfebde81-0435-48f6-bdfd-9b4364ed95a4",
   "metadata": {},
   "outputs": [],
   "source": [
    "with open(project_dir + '/Dictionaries/variant_dictionary_364848_365376_.pkl', 'rb') as f:\n",
    "        var_dict = pickle.load(f)  \n",
    "with open(project_dir + '/Mutation_Counts/mutation_counts_364848_365376_.pkl', 'rb') as f:\n",
    "        mutation_counts = pickle.load(f)  \n",
    "temp_dict = {}\n",
    "for k, v in var_dict.items():\n",
    "    if not(v[pos_id_dict[3186859] - 364848] =={'T'}):\n",
    "        temp_dict[k] =list(v[pos_id_dict[3186859] - 364848])[0]"
   ]
  },
  {
   "cell_type": "code",
   "execution_count": null,
   "id": "11d19a62-c410-49ed-bf20-89e93c489966",
   "metadata": {},
   "outputs": [],
   "source": [
    "with open(project_dir + '/Dictionaries/variant_dictionary_331584_332112_.pkl', 'rb') as f:\n",
    "        var_dict = pickle.load(f)  \n",
    "with open(project_dir + '/Mutation_Counts/mutation_counts_331584_332112_.pkl', 'rb') as f:\n",
    "        mutation_counts = pickle.load(f)  \n",
    "temp_dict = {}\n",
    "for k, v in var_dict.items():\n",
    "    if not(v[pos_id_dict[2878549] - 331584] =={'G'}):\n",
    "        temp_dict[k] =list(v[pos_id_dict[2878549] - 331584])[0]"
   ]
  },
  {
   "cell_type": "code",
   "execution_count": null,
   "id": "4bcc1595-aba3-41c2-9177-ad1218f1df52",
   "metadata": {},
   "outputs": [],
   "source": [
    "tb_tree_filename = 'tb_gpi.nwk'\n",
    "master_tree2= ete3.Tree(project_dir + '/' + tb_tree_filename)\n",
    "for node in master_tree2.traverse(\"postorder\"):\n",
    "    if node.is_leaf():\n",
    "        if node.name in temp_dict:\n",
    "            node.name = str(lineage_dict[id_reverse_dict[int(node.name.split('_')[1])]]) + '_'+temp_dict[(node.name)]\n",
    "            nstyle = ete3.NodeStyle()\n",
    "            nstyle[\"fgcolor\"] = \"red\"\n",
    "            nstyle[\"size\"] = 1\n",
    "            node.set_style(nstyle)\n",
    "        else:\n",
    "            node.name = str(lineage_dict[id_reverse_dict[int(node.name.split('_')[1])]])"
   ]
  },
  {
   "cell_type": "code",
   "execution_count": null,
   "id": "b2ec0517-87f0-4cae-a8b9-45b6e32c8ad5",
   "metadata": {},
   "outputs": [],
   "source": [
    "ts = ete3.TreeStyle()\n",
    "ts.mode = 'c'"
   ]
  },
  {
   "cell_type": "code",
   "execution_count": null,
   "id": "34e8edf5-17f6-4130-9241-60d660a511a8",
   "metadata": {},
   "outputs": [],
   "source": [
    "master_tree2.render(project_dir+'/mytree.pdf', tree_style=ts);"
   ]
  },
  {
   "cell_type": "code",
   "execution_count": null,
   "id": "59b410c6-45cb-40fc-ab3e-2f1d37b2fbc0",
   "metadata": {},
   "outputs": [],
   "source": []
  },
  {
   "cell_type": "code",
   "execution_count": null,
   "id": "f8c6d4b2-18c3-473a-a591-ccb05bd78d83",
   "metadata": {},
   "outputs": [],
   "source": [
    "tb_tree_filename = 'tb_gpi.nwk'\n",
    "master_tree2= ete3.Tree(project_dir + '/' + tb_tree_filename)\n",
    "temp = []\n",
    "for node in master_tree2.traverse(\"postorder\"):\n",
    "    if node.is_leaf():\n",
    "        temp.append([node.name, lineage_dict[id_reverse_dict[int(node.name.split('_')[1])]]])\n",
    "temp_df = pd.DataFrame(temp, columns = [['label', 'lineage']])\n",
    "temp_df.to_csv(project_dir + '/lineages.csv')"
   ]
  },
  {
   "cell_type": "markdown",
   "id": "becec95f-ae08-46ba-b8b4-7335e945eba3",
   "metadata": {},
   "source": [
    "##### Analyse mutation counts"
   ]
  },
  {
   "cell_type": "code",
   "execution_count": 21,
   "id": "2ac844f1-2d07-41ed-acb9-4995ea40a080",
   "metadata": {},
   "outputs": [],
   "source": [
    "full_sample_variant_count_dict = {}\n",
    "full_sample_variant_counts = full_variant_df.groupby(['GENOME_INDEX'])['UNIQUEID'].count().reset_index()\n",
    "for i, r in full_sample_variant_counts.iterrows():\n",
    "    full_sample_variant_count_dict[r['GENOME_INDEX']-1] = r['UNIQUEID']"
   ]
  },
  {
   "cell_type": "code",
   "execution_count": 22,
   "id": "11a67cc6-2e6b-40f7-8d6c-69cfb36073f3",
   "metadata": {},
   "outputs": [],
   "source": [
    "gpi_variant_count_dict = {}\n",
    "gpi_variant_counts = gpi_variant_df.groupby(['GENOME_INDEX'])['UNIQUEID'].count().reset_index()\n",
    "for i, r in gpi_variant_counts.iterrows():\n",
    "    gpi_variant_count_dict[r['GENOME_INDEX']-1] = r['UNIQUEID']"
   ]
  },
  {
   "cell_type": "code",
   "execution_count": 28,
   "id": "2f891cdc-be4f-4003-ad0b-a1ec446e5f9d",
   "metadata": {},
   "outputs": [
    {
     "data": {
      "text/plain": [
       "Text(0.5, 0, 'Number of ancestral substitutions - All variants')"
      ]
     },
     "execution_count": 28,
     "metadata": {},
     "output_type": "execute_result"
    },
    {
     "data": {
      "image/png": "[encoded data removed]",
      "text/plain": [
       "<Figure size 720x432 with 1 Axes>"
      ]
     },
     "metadata": {},
     "output_type": "display_data"
    }
   ],
   "source": [
    "a=full_sample_zero_and_non_zero_mutation_counts\n",
    "b=[x for x in a if x>-1]\n",
    "sns.histplot(b, bins=100)\n",
    "plt.yscale('log')\n",
    "plt.xlabel('Number of ancestral substitutions - All variants')"
   ]
  },
  {
   "cell_type": "code",
   "execution_count": 30,
   "id": "ba30af80-1ac8-4292-baff-4f2c7b904494",
   "metadata": {},
   "outputs": [
    {
     "data": {
      "text/plain": [
       "Text(0.5, 0, 'Number of ancestral substitutions - GPI variants')"
      ]
     },
     "execution_count": 30,
     "metadata": {},
     "output_type": "execute_result"
    },
    {
     "data": {
      "image/png": "[encoded data removed]",
      "text/plain": [
       "<Figure size 720x432 with 1 Axes>"
      ]
     },
     "metadata": {},
     "output_type": "display_data"
    }
   ],
   "source": [
    "a=gpi_zero_and_non_zero_mutation_counts\n",
    "b=[x for x in a if x>-1]\n",
    "sns.histplot(b, bins=100)\n",
    "plt.yscale('log')\n",
    "plt.xlabel('Number of ancestral substitutions - GPI variants')"
   ]
  },
  {
   "cell_type": "code",
   "execution_count": 25,
   "id": "5097758f-dc1f-40f1-a6cc-8bec3580e0de",
   "metadata": {},
   "outputs": [
    {
     "data": {
      "image/png": "[encoded data removed]",
      "text/plain": [
       "<Figure size 720x432 with 1 Axes>"
      ]
     },
     "metadata": {},
     "output_type": "display_data"
    }
   ],
   "source": [
    "a=gpi_variant_count_dict.values()\n",
    "b=[x for x in a if x>-1]\n",
    "sns.histplot(b, bins=100)\n",
    "plt.yscale('log')"
   ]
  },
  {
   "cell_type": "markdown",
   "id": "405a590d-51ad-442b-af95-9bdda7d7ac09",
   "metadata": {},
   "source": [
    "##### Analyse total mutations v parsimonious mutations to define threshold for highly mutated and output table"
   ]
  },
  {
   "cell_type": "code",
   "execution_count": 34,
   "id": "42865efe-159b-49d1-8420-297ca3061a9b",
   "metadata": {},
   "outputs": [
    {
     "data": {
      "text/plain": [
       "<AxesSubplot:xlabel='Total_Mutations - GPI variants', ylabel='Ancestral_Substitutions'>"
      ]
     },
     "execution_count": 34,
     "metadata": {},
     "output_type": "execute_result"
    },
    {
     "data": {
      "image/png": "[encoded data removed]",
      "text/plain": [
       "<Figure size 720x432 with 1 Axes>"
      ]
     },
     "metadata": {},
     "output_type": "display_data"
    }
   ],
   "source": [
    "total_mutation_counts = []\n",
    "for i in range(len(gpi_zero_and_non_zero_mutation_counts)):\n",
    "    if i in gpi_variant_count_dict:\n",
    "        total_mutation_counts.append(gpi_variant_count_dict[i])\n",
    "    else:\n",
    "        total_mutation_counts.append(0)\n",
    "consistency_df = pd.DataFrame(zip(gpi_zero_and_non_zero_mutation_counts, total_mutation_counts), columns = ['Ancestral_Substitutions', 'Total_Mutations - GPI variants'])\n",
    "sns.scatterplot(data = consistency_df, x = 'Total_Mutations - GPI variants', y = 'Ancestral_Substitutions', s = 7)"
   ]
  },
  {
   "cell_type": "code",
   "execution_count": 35,
   "id": "5f6475f8-f659-45e1-a077-2522a9a0411e",
   "metadata": {},
   "outputs": [
    {
     "data": {
      "text/plain": [
       "<AxesSubplot:xlabel='Total_Mutations - All variants', ylabel='Ancestral_Substitutions'>"
      ]
     },
     "execution_count": 35,
     "metadata": {},
     "output_type": "execute_result"
    },
    {
     "data": {
      "image/png": "[encoded data removed]",
      "text/plain": [
       "<Figure size 720x432 with 1 Axes>"
      ]
     },
     "metadata": {},
     "output_type": "display_data"
    }
   ],
   "source": [
    "total_mutation_counts = []\n",
    "for i in range(len(full_sample_zero_and_non_zero_mutation_counts)):\n",
    "    if i in full_sample_variant_count_dict:\n",
    "        total_mutation_counts.append(full_sample_variant_count_dict[i])\n",
    "    else:\n",
    "        total_mutation_counts.append(0)\n",
    "consistency_df = pd.DataFrame(zip(full_sample_zero_and_non_zero_mutation_counts, total_mutation_counts), columns = ['Ancestral_Substitutions', 'Total_Mutations - All variants'])\n",
    "sns.scatterplot(data = consistency_df, x = 'Total_Mutations - All variants', y = 'Ancestral_Substitutions', s =7)"
   ]
  },
  {
   "cell_type": "code",
   "execution_count": 43,
   "id": "e30095c8-d3bc-4865-a5d2-01b651b53b72",
   "metadata": {},
   "outputs": [
    {
     "data": {
      "text/plain": [
       "60"
      ]
     },
     "execution_count": 43,
     "metadata": {},
     "output_type": "execute_result"
    }
   ],
   "source": [
    "len(consistency_df[consistency_df['Minimum_Mutations'] > 2000])"
   ]
  },
  {
   "cell_type": "code",
   "execution_count": 30,
   "id": "b66b244b-9ce0-40ed-a9f8-3843d4cc8465",
   "metadata": {},
   "outputs": [],
   "source": [
    "temp = ['N' for x in full_sample_zero_and_non_zero_mutation_counts]\n",
    "for i in mycobrowser_cds_boundaries:\n",
    "    for x in range(i[2],i[3]):\n",
    "        temp[x] = 'Y'"
   ]
  },
  {
   "cell_type": "code",
   "execution_count": 32,
   "id": "568d7b7e-37b9-476d-93eb-b552100c0ff8",
   "metadata": {},
   "outputs": [
    {
     "data": {
      "text/plain": [
       "<AxesSubplot:xlabel='Total_Mutations', ylabel='Minimum_Mutations'>"
      ]
     },
     "execution_count": 32,
     "metadata": {},
     "output_type": "execute_result"
    },
    {
     "data": {
      "image/png": "[encoded data removed]",
      "text/plain": [
       "<Figure size 432x288 with 1 Axes>"
      ]
     },
     "metadata": {
      "needs_background": "light"
     },
     "output_type": "display_data"
    }
   ],
   "source": [
    "total_mutation_counts = []\n",
    "in_cds = []\n",
    "for i in range(len(full_sample_zero_and_non_zero_mutation_counts)):\n",
    "    if i in full_sample_variant_count_dict:\n",
    "        total_mutation_counts.append(full_sample_variant_count_dict[i])\n",
    "    else:\n",
    "        total_mutation_counts.append(0)\n",
    "consistency_df = pd.DataFrame(zip(full_sample_zero_and_non_zero_mutation_counts, total_mutation_counts, temp), columns = ['Minimum_Mutations', 'Total_Mutations', 'In_CDS'])\n",
    "sns.scatterplot(data = consistency_df, x = 'Total_Mutations', y = 'Minimum_Mutations', s =7, hue='In_CDS')"
   ]
  },
  {
   "cell_type": "code",
   "execution_count": null,
   "id": "a4fb8a0e-37b1-4b04-aed4-17886eb68187",
   "metadata": {},
   "outputs": [],
   "source": [
    "temp = []\n",
    "for n, c in enumerate(full_sample_zero_and_non_zero_mutation_counts):\n",
    "    if c > 2000:\n",
    "        temp.append(n)\n",
    "temp_2_dict = {}\n",
    "for i in temp:\n",
    "    found = 0\n",
    "    for (locus, product, start, stop, strand, name) in mycobrowser_cds_boundaries:\n",
    "        if i >= start and i < stop:\n",
    "            if name in temp_2_dict:\n",
    "                temp_2_dict[name].append(str(i))\n",
    "            else:\n",
    "                temp_2_dict[name] = [str(i)]\n",
    "            found = 1\n",
    "            break\n",
    "    if found == 0:\n",
    "        if 'intergenic' in temp_2_dict:\n",
    "            temp_2_dict['intergenic'].append(str(i))\n",
    "        else:\n",
    "            temp_2_dict['intergenic'] = [str(i)]\n",
    "temp = []\n",
    "for k, v in temp_2_dict.items():\n",
    "    temp.append([k, '  '.join(v)])\n",
    "pd.DataFrame(temp, columns = ['Gene', 'Positions (zero indexed)']).to_csv(project_dir + '/High_Mutation_Positions.csv')"
   ]
  },
  {
   "cell_type": "markdown",
   "id": "9441a633-8a69-4a8f-9e5f-cb2ce3168f79",
   "metadata": {},
   "source": [
    "##### Analyse high/low mutations in intergenic regions"
   ]
  },
  {
   "cell_type": "code",
   "execution_count": null,
   "id": "3dc67cc2-e15a-4576-b89c-29866cf027f3",
   "metadata": {},
   "outputs": [],
   "source": [
    "intergenic_mutation_ave = []\n",
    "scores =[]\n",
    "for (locus, product, start, stop, strand, name) in mycobrowser_interregion_boundaries:\n",
    "    compass_overlap = 0\n",
    "    for n in range(start, stop):\n",
    "        if n in compass_dict:\n",
    "            compass_overlap += 1\n",
    "    if compass_overlap / (stop - start) > 0.1:\n",
    "        continue\n",
    "    mutation_counts = full_sample_zero_and_non_zero_mutation_counts[start:stop]\n",
    "    if strand == 1:\n",
    "        scores.append(mutation_bin_probability(mutation_counts)[1])\n",
    "    else:\n",
    "        scores.append(mutation_bin_probability(reversed(mutation_counts))[1])\n",
    "    proportion_mutated_positions = sum([1 for m in mutation_counts if m>0])/len(mutation_counts)\n",
    "    length = len(mutation_counts)\n",
    "    num_sds = (proportion_mutated_positions - p)/conf_interval(length)\n",
    "    if (abs(num_sds)> 4):\n",
    "        locus_class = 'X'\n",
    "    else:\n",
    "        locus_class = 'N'\n",
    "    intergenic_mutation_ave.append([locus, name, product, sum(mutation_counts)/len(mutation_counts), max(mutation_counts), median(mutation_counts), start, stop, strand, \n",
    "                               len(mutation_counts), proportion_mutated_positions, num_sds, locus_class, compass_overlap/(stop-start)])\n",
    "intergenic_mutation_ave.sort(key = lambda x:x[3])"
   ]
  },
  {
   "cell_type": "code",
   "execution_count": null,
   "id": "17827727-2814-4646-8ff7-609c9cde3b6d",
   "metadata": {},
   "outputs": [],
   "source": [
    "intergenic_mutation_ave_df = pd.DataFrame(intergenic_mutation_ave, columns = ['locus','name','product','ave_mutation','max_mutation','median_mutation','start','stop','strand',\n",
    "                                                                    'length','ave_pos','num_sds','locus_class', 'compass_overlap'\n",
    "                                                                             ])"
   ]
  },
  {
   "cell_type": "code",
   "execution_count": null,
   "id": "8951949e-fe16-4a3d-acde-7d61a9a4462d",
   "metadata": {},
   "outputs": [],
   "source": [
    "sns.histplot(data = intergenic_mutation_ave_df[intergenic_mutation_ave_df['ave_mutation'] < 3], x = 'ave_mutation')"
   ]
  },
  {
   "cell_type": "code",
   "execution_count": null,
   "id": "5480c872-e169-49b1-9eef-4831f09bd72b",
   "metadata": {},
   "outputs": [],
   "source": [
    "temp = []\n",
    "for i, r in intergenic_mutation_ave_df.iterrows():\n",
    "    temp.append([r['length'], r['ave_pos'],'Observed'])\n",
    "    temp.append([r['length'], p - conf_interval(r['length']), '-2 Std Dev'])\n",
    "    temp.append([r['length'], p + conf_interval(r['length']), '+2 Std Dev'])\n",
    "temp_df = pd.DataFrame(temp, columns = ['length','proportion','type'])\n",
    "sns.set(rc={\"figure.figsize\": (10, 6)})\n",
    "sns.set_style(style='white')\n",
    "sns.scatterplot(data = temp_df, x = 'length', y = 'proportion', hue = 'type', s =15, alpha=0.5)"
   ]
  },
  {
   "cell_type": "code",
   "execution_count": null,
   "id": "06fb5f8d-1b4b-42c7-a102-49fc8a07bdbf",
   "metadata": {},
   "outputs": [],
   "source": [
    "for i, r in intergenic_mutation_ave_df.iterrows():\n",
    "    if r['ave_mutation'] < 0.3:\n",
    "        print(r)"
   ]
  },
  {
   "cell_type": "code",
   "execution_count": null,
   "id": "f5ab07fa-ede9-4b0c-a1d0-169442a2e129",
   "metadata": {},
   "outputs": [],
   "source": [
    "import matplotlib.pyplot as plt\n",
    "from importlib import reload\n",
    "plt=reload(plt)"
   ]
  },
  {
   "cell_type": "code",
   "execution_count": null,
   "id": "c9d20044-7f3b-40e6-bef3-45f8cff71bcf",
   "metadata": {},
   "outputs": [],
   "source": [
    "trans = util.Translator()\n",
    "len(trans.translate_sequence(full_sequence[2969685:2970084],1,0))"
   ]
  },
  {
   "cell_type": "code",
   "execution_count": null,
   "id": "32039e32-4969-488f-b8b1-8801cf39fa0d",
   "metadata": {},
   "outputs": [],
   "source": [
    "x for x in "
   ]
  },
  {
   "cell_type": "code",
   "execution_count": 39,
   "id": "926cf086-9a7f-4c17-89b0-cb66e465e4c9",
   "metadata": {},
   "outputs": [
    {
     "name": "stdout",
     "output_type": "stream",
     "text": [
      "9223 21794 GCTGACCGACTTCGACTCCAATCGCTCGGG\n",
      "7578 71335 GCGACGCGTCGATCTACGACAGCCTGGTGC\n",
      "13484 132416 AAGGTCACAGACGCAATAGCCATCACGACT\n",
      "2132 206480 GCCGATGCGGTGTCGTGGGTGGCTAAAAAT\n",
      "2161 206483 TCTGCCAGCCAGGCCCGCGGTGCCGGTGCT\n",
      "2528 223941 GCCGGCCGGGACGACACGTTGCCTATGTTG\n",
      "3735 234476 GCTGCGGTACGAGCCGAATATGAGAGGGTG\n",
      "3878 340371 TGAACTGGTGGCCGCCCGCATCGATTTGGT\n",
      "5041 454294 CGGTCCCGGCCTGAGAGCCTCGAGGACGAA\n",
      "2273 459398 GGCGCTGAAATTGTTTCTCCTGGAAGCGTT\n",
      "5487 467515 CGACGACGGCCGCGGCATTCCGGTCGCCAC\n",
      "5540 467525 TCGACGTGGTGATGACACAACTACATGCCG\n",
      "5671 467545 AAGCGCGACGGGTACGAGTGGTCTCAGGTT\n",
      "5668 467556 ATCAAGCGCGACGGGTACGAGTGGTCTCAG\n",
      "5680 467563 GGGTACGAGTGGTCTCAGGTTTATGAGAAG\n",
      "5727 467584 CAAGCAAGGGGCGCCGACCAAGAAGACGGG\n",
      "5748 467589 GAAGACGGGGTCAACGGTGCGGTTCTGGGC\n",
      "5782 467620 CCCGCTGTTTTCGAAACCACGGAATACGAC\n",
      "5771 467637 TCTGGGCCGACCCCGCTGTTTTCGAAACCA\n",
      "2670 673563 CGGCTGTGCTGGTCCCGGCCAAGACGCTGG\n",
      "2445 690464 CGACGCTGCCGACGCTGCCGGAAGAGACCG\n",
      "3216 725189 TCCCGGCGGTGTCGACGGACTATGTCTATC\n",
      "3666 761154 GTTCGTGGGGATCCCGCTGACCGGCGGCGC\n",
      "7686 836271 CGGCGGCGATGAGGTACACCGAAGCCCGGC\n",
      "7481 836290 CTCTATGCAATGTTCGATTCCGGCTTCCGC\n",
      "6176 836425 TCAACACCCACGAGGGCGGCACCCACGAAG\n",
      "6738 836453 GGTGCTAAAGAACACCGAAGTTCAGGCGAT\n",
      "11101 836537 CTGATCACATAACCGGTGACGAAGAGGGGC\n",
      "11985 836657 AGGATGGCCGCCGCGATCCCCGCGAAGATC\n",
      "10195 837032 TCTGCCCCGGTGACCGGCCCAGCCGCCGCG\n",
      "4892 969761 GCCGCAGCGGTTGGCAACGATGTGGTGCGA\n",
      "2583 1218657 GTGAGACGGTGGTTTTGGCCGCTACCGACA\n",
      "4274 1224366 GTTCGCCGAACTGGATGTCATGCGCCGTCG\n",
      "3477 1313337 CGGGTAGGTACCGATCGTGCGGTGATCTCC\n",
      "6437 1618977 GGTTTGAAGCCAACCCCACCGACGCGAAAG\n",
      "3030 1752560 TTGTTGTTGACTATGCCGGTGAACCATTGA\n",
      "3514 2045309 TGGTGAACGACGGTAGAGAATGTGCCGTCG\n",
      "4878 2123168 TTCTGGCCAAGATCGCCGCAGCGGTTGGCA\n",
      "4047 2155167 GCTCGGCTGTTGGCGGCGCTGGCGGCCCGT\n",
      "2273 2165285 GGCGCTGAAATTGTTTCTCCTGGAAGCGTT\n",
      "7266 2387732 GTTCCTGGATGTCTAACGCAACCCTGCGTT\n",
      "2075 2415655 GCTACGACAAGAGTTGGCCTCACCGACTTG\n",
      "3541 2509139 TCGACCTCGAGATCGCCACGGGGCGAGTCA\n",
      "2013 2566767 GCTAGCGGGGCGCTAGCCACGGGATCGAAC\n",
      "2090 2740692 GGCCTCACCGACTTGACGTTTCGTTTGCTA\n",
      "4210 2760151 GGTTGGCGGCCTATCAACTGTTACGCGTTG\n",
      "2194 2802040 CGGCGTGTTGTTGACCGGCTCGGACAACGG\n",
      "2721 3037376 TCGGCGGCTCTGACGTTCGTTTGTCGTTGG\n",
      "3679 3127930 CCGCTGACCGGCGGCGCTATCTGGATGATC\n",
      "2112 3177883 GTTTGCTACGAGAGTCTTTCGCCGATGCGG\n",
      "4938 3186859 GGCCGGCGGCACCATCGTGGCGCAAGGGGC\n",
      "2043 3736627 TCATCGTGAGGTGAAAGGGCGCAATGGACG\n",
      "3383 3851886 GCCTAACGGTTATGGTAAGACGAATCTTAT\n",
      "3375 3851887 TTTGTTGGGCCTAACGGTTATGGTAAGACG\n",
      "7064 3942639 AAGACGGCATTCAGCGGTACAAGGGTCTAG\n",
      "13419 3943018 TCGCAAACAAGATCAGACCCAGCGCGGCAA\n",
      "2282 4008746 ATTGTTTCTCCTGGAAGCGTTTTAGTTTCT\n",
      "2741 4032624 TTGTCGTTGGGTACTGGGCCGGGGGTGGGC\n",
      "9023 4037282 TTCACCACCCAGGGACGGGTTTATCGGGCC\n",
      "5713 4359164 GAACCCCTGGGCCTCAAGCAAGGGGCGCCG\n"
     ]
    }
   ],
   "source": [
    "for n, x in enumerate(full_sample_zero_and_non_zero_mutation_counts):\n",
    "    if x > 2000:\n",
    "        print(x, n, full_sequence[x-15:x+15])"
   ]
  },
  {
   "cell_type": "code",
   "execution_count": 39,
   "id": "7b06c704-92ac-4367-b06f-803c8c6806ff",
   "metadata": {},
   "outputs": [
    {
     "data": {
      "text/plain": [
       "209609"
      ]
     },
     "execution_count": 39,
     "metadata": {},
     "output_type": "execute_result"
    }
   ],
   "source": [
    "len([x for x in full_sample_zero_and_non_zero_mutation_counts if x > 9])"
   ]
  },
  {
   "cell_type": "code",
   "execution_count": 42,
   "id": "70a55f7c-c57c-40b2-86ce-bce2d87ececb",
   "metadata": {},
   "outputs": [],
   "source": [
    "temp = []\n",
    "for i in range(len(full_sample_zero_and_non_zero_mutation_counts) - 3):\n",
    "    if sum(full_sample_zero_and_non_zero_mutation_counts[i:i+3]) > 20:\n",
    "        temp.append(i)\n",
    "        i += 3"
   ]
  },
  {
   "cell_type": "code",
   "execution_count": 43,
   "id": "f44169a3-25eb-4733-afe4-8b9ea8c98abd",
   "metadata": {},
   "outputs": [
    {
     "data": {
      "text/plain": [
       "216635"
      ]
     },
     "execution_count": 43,
     "metadata": {},
     "output_type": "execute_result"
    }
   ],
   "source": [
    "len(temp)"
   ]
  },
  {
   "cell_type": "code",
   "execution_count": null,
   "id": "c2446735-f92d-406f-b061-0e4ea5202c27",
   "metadata": {},
   "outputs": [],
   "source": []
  }
 ],
 "metadata": {
  "kernelspec": {
   "display_name": "Python 3 (ipykernel)",
   "language": "python",
   "name": "python3"
  },
  "language_info": {
   "codemirror_mode": {
    "name": "ipython",
    "version": 3
   },
   "file_extension": ".py",
   "mimetype": "text/x-python",
   "name": "python",
   "nbconvert_exporter": "python",
   "pygments_lexer": "ipython3",
   "version": "3.9.7"
  }
 },
 "nbformat": 4,
 "nbformat_minor": 5
}
