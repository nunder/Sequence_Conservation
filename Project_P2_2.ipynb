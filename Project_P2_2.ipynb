{
 "cells": [
  {
   "cell_type": "code",
   "execution_count": 1,
   "id": "e36786c5-8a4d-4b87-9f58-d6a718cc37c5",
   "metadata": {},
   "outputs": [],
   "source": [
    "import pandas as pd\n",
    "pd.options.mode.chained_assignment = None  # default='warn'\n",
    "import pickle\n",
    "import seaborn as sns\n",
    "import matplotlib.pyplot as plt\n",
    "import numpy as np\n",
    "from Bio import Entrez, SeqIO, AlignIO, pairwise2, Align, Seq, motifs\n",
    "from Bio.Seq import Seq\n",
    "from Bio.SeqFeature import SeqFeature, FeatureLocation\n",
    "from scipy.stats import binom\n",
    "import math\n",
    "from tqdm.auto import tqdm\n",
    "from Comparative_Analysis import Sequence_Analysis_Routines as sar\n",
    "from Comparative_Analysis import Utilities as util\n",
    "from Comparative_Analysis import Alignment as align\n",
    "from Comparative_Analysis import Blast_Functions as blastfn\n",
    "import random\n",
    "import copy\n",
    "from joblib import Parallel, delayed\n",
    "import os\n",
    "import shutil\n",
    "import subprocess\n",
    "from Bio.Blast import NCBIWWW, NCBIXML\n",
    "from Bio.Align.Applications import MuscleCommandline\n",
    "import re\n",
    "import shutil"
   ]
  },
  {
   "cell_type": "code",
   "execution_count": 2,
   "id": "1c8f9536-cd01-45c5-abdb-ef4e9a9dba3b",
   "metadata": {},
   "outputs": [],
   "source": [
    "full_run = True\n",
    "project_dir = 'D:/Project_Data/Project_8'\n",
    "datasets_dir = project_dir + '/Datasets'\n",
    "output_dir = project_dir + '/Output'\n",
    "wsl_output_loc = util.wslname(output_dir)\n",
    "seq_dir = 'D:/Actinobacteria_Ref_Rep_Lev_Complete'\n",
    "blast_dir = 'D:/BLAST/actinobacteria_ref_rep_comp'\n",
    "blast_db_name = 'actinobacteria_ref_rep_comp'\n",
    "num_cores = 16\n",
    "core_numbers = list(range(1, num_cores+1))\n",
    "reference_species_filename = 'GCF_000195955.2_ASM19595v2_genomic.gbff'\n",
    "species_list = util.list_files(seq_dir)\n",
    "hmmer_evalue = 1e-20\n",
    "infernal_evalue = 1e-10"
   ]
  },
  {
   "cell_type": "markdown",
   "id": "a2cd388b-0056-4a83-b21c-0959a15e5133",
   "metadata": {},
   "source": [
    "##### Generate file containing all intergenic regions in reference organism"
   ]
  },
  {
   "cell_type": "code",
   "execution_count": 3,
   "id": "ad963602-bf2d-4080-a2bd-dd76b074886b",
   "metadata": {},
   "outputs": [],
   "source": [
    "features = []\n",
    "genome_record = next(SeqIO.parse(seq_dir + '/' + reference_species_filename, \"genbank\"))\n",
    "full_sequence = str(genome_record.seq)\n",
    "mycobrowser_df = pd.read_excel(datasets_dir+'/Mycobrowser_Release_4.xlsx')\n",
    "for i, r in mycobrowser_df.iterrows():\n",
    "    if r['Strand'] == '+':\n",
    "        strand = 1\n",
    "    else:\n",
    "        strand = -1\n",
    "    features.append([r['Locus'],r['Start']-1, r['Stop'], strand])\n",
    "features.sort(key=lambda x: x[1])\n",
    "feature_info = []\n",
    "for i, feature in enumerate(features):\n",
    "    feature_sequence = full_sequence[feature[1]: feature[2]]\n",
    "    #feature_info.append([feature[0], feature[1], feature[2], feature_sequence, len(feature_sequence)])\n",
    "    if feature[1] < feature[2]:  \n",
    "        if (i + 1)< len(features) and feature[2] < features[i+1][1]:\n",
    "            utr_coords = (feature[2], features[i+1][1])\n",
    "            utr_sequence = full_sequence[feature[2]: features[i+1][1]]\n",
    "            utr_length = len(utr_sequence)\n",
    "        else:\n",
    "            utr_coords = (0,0)\n",
    "            utr_sequence = ''\n",
    "            utr_length = 0\n",
    "        if utr_length > 50:\n",
    "            feature_info.append([feature[0] + '_IG', utr_coords[0], utr_coords[1], utr_sequence, utr_length])\n",
    "intergenic_df = pd.DataFrame(feature_info, columns = ['Locus', 'Start' , 'End', 'Sequence', 'Length'])"
   ]
  },
  {
   "cell_type": "markdown",
   "id": "ad67350d-b3f3-4fec-bd71-8466a5d06a39",
   "metadata": {},
   "source": [
    "##### Run HMMER iteratively (initially against sequence, then four times against fitted HMM, keeping only top hits.  For last iteration keep all hits then run R-scape"
   ]
  },
  {
   "cell_type": "code",
   "execution_count": null,
   "id": "2df59644-750e-4a8d-8a10-d72540c1de7c",
   "metadata": {},
   "outputs": [],
   "source": [
    "query_file = 'intergenic_region.faa'\n",
    "model_file = 'hmm.hmm'\n",
    "for i, r in intergenic_df.iterrows():\n",
    "    break_loop = 0\n",
    "    sequence_list = [[r['Locus'], r['Sequence']]]\n",
    "    locus_id = r['Locus']\n",
    "    print(locus_id)\n",
    "    results_dir = output_dir + '/' + locus_id\n",
    "    if not os.path.exists(results_dir):\n",
    "        os.makedirs(results_dir)\n",
    "    util.produce_fasta_file(sequence_list, results_dir + '/' + query_file)\n",
    "    blastfn.nhmmer_search_sequence(results_dir, query_file, datasets_dir, 'merged_file.txt', 'align.sto', 'output.txt', 'summary.txt', hmmer_evalue) \n",
    "    if not os.path.exists(results_dir +'/summary.txt'):\n",
    "        continue\n",
    "    for i in range(4):\n",
    "        blastfn.align_keep_top_hit_per_species(results_dir, 'summary.txt', 'align.sto', 'align.sto', 'HMMER', hmmer_evalue)\n",
    "        blastfn.hmmer_build(results_dir, 'align.sto' ,model_file)\n",
    "        blastfn.nhmmer_search_model(results_dir, model_file, datasets_dir, 'merged_file.txt', 'align.sto', 'output.txt', 'summary.txt', hmmer_evalue)      #seq_dir, 'full_sequences.faa'\n",
    "        if not os.path.exists(results_dir +'/summary.txt'):\n",
    "            break_loop = 1\n",
    "            break\n",
    "    if break_loop == 1:\n",
    "        continue\n",
    "    blastfn.run_rscape(results_dir, 'align.sto', locus_id)"
   ]
  },
  {
   "cell_type": "code",
   "execution_count": 4,
   "id": "73ce2f8a-6157-43ca-a386-6fd05308fbbe",
   "metadata": {},
   "outputs": [],
   "source": [
    "test = intergenic_df[intergenic_df.Locus == 'Rv1173_IG']"
   ]
  },
  {
   "cell_type": "code",
   "execution_count": 5,
   "id": "8d7a3682-4956-4c2a-90e8-12a75eb50824",
   "metadata": {},
   "outputs": [],
   "source": [
    "locus_id = r['Locus']"
   ]
  },
  {
   "cell_type": "code",
   "execution_count": null,
   "id": "adfaaa2e-6ee6-4f85-af28-595c2ea81b66",
   "metadata": {},
   "outputs": [
    {
     "name": "stdout",
     "output_type": "stream",
     "text": [
      "Rv1173_IG\n"
     ]
    },
    {
     "name": "stderr",
     "output_type": "stream",
     "text": [
      "100%|██████████| 1/1 [00:00<?, ?it/s]\n"
     ]
    }
   ],
   "source": [
    "hmmer_eval =  1e-20\n",
    "infernal_eval = 0.001\n",
    "query_file = 'intergenic_region.faa'\n",
    "hm_model_file = 'hmm.hmm'\n",
    "cm_model_file = 'cm.cm'\n",
    "for i, r in test.iterrows():\n",
    "    break_loop = 0\n",
    "    sequence_list = [[r['Locus'], r['Sequence']]]\n",
    "    locus_id = r['Locus']\n",
    "    print(locus_id)\n",
    "    results_dir = output_dir + '/' + locus_id\n",
    "   \n",
    "    util.produce_fasta_file(sequence_list, results_dir + '/' + query_file)\n",
    "    \n",
    "    blastfn.nhmmer_search_sequence(results_dir, query_file, datasets_dir, 'merged_file.txt', 'align_1.sto', 'output.txt', 'summary.txt', hmmer_eval) \n",
    "  \n",
    "    blastfn.infernal_build_and_calib(results_dir, 'align_1.sto' ,'cm_1.cm', False)\n",
    "    blastfn.infernal_search(results_dir, 'cm_1.cm', datasets_dir, 'merged_file.txt', 'search_1.sto', 'search_hits_1.txt', 'summary.txt', infernal_eval) \n",
    "    \n",
    "    blastfn.align_keep_top_hit_per_species(results_dir, 'summary.txt', 'search_1.sto', 'search_bh_1.sto', 'INFERNAL', infernal_eval)\n",
    "    blastfn.run_rscape(results_dir, 'search_bh_1.sto', 'rscape_1')\n",
    "\n",
    "    #2\n",
    "    \n",
    "    blastfn.infernal_build_and_calib(results_dir, 'rscape_1.cacofold.R2R.sto' ,'cm_2.cm')\n",
    "    blastfn.infernal_search(results_dir, 'cm_2.cm', datasets_dir, 'merged_file.txt', 'search_2.sto', 'search_hits_2.txt', 'summary.txt', infernal_eval) \n",
    "    blastfn.align_keep_top_hit_per_species(results_dir, 'summary.txt', 'search_2.sto', 'search_bh_2.sto', 'INFERNAL', infernal_eval)\n",
    "    blastfn.run_rscape(results_dir, 'search_bh_2.sto', 'rscape_2')\n",
    "        \n",
    "   #3\n",
    "\n",
    "    blastfn.infernal_build_and_calib(results_dir, 'rscape_2.cacofold.R2R.sto' ,'cm_3.cm')\n",
    "    blastfn.infernal_search(results_dir, 'cm_3.cm', datasets_dir, 'merged_file.txt', 'search_3.sto', 'search_hits_3.txt', 'summary.txt', infernal_eval) \n",
    "    blastfn.align_keep_top_hit_per_species(results_dir, 'summary.txt', 'search_3.sto', 'search_bh_3.sto', 'INFERNAL', infernal_eval)\n",
    "    blastfn.run_rscape(results_dir, 'search_bh_3.sto', 'rscape_3')\n",
    "    \n",
    "    #if not os.path.exists(results_dir +'/summary.txt'):\n",
    "    #    break_loop = 1\n",
    "    #    break\n",
    "    #if break_loop == 1:\n",
    "    #    continue\n",
    "    #blastfn.run_rscape(results_dir, 'align.sto', locus_id)"
   ]
  },
  {
   "cell_type": "code",
   "execution_count": null,
   "id": "1b6cf23f-6657-406b-9c31-f9e806fc3ed4",
   "metadata": {},
   "outputs": [],
   "source": [
    "merged_file_loc = util.wslname(datasets_dir + '/merged_file.txt')\n",
    "analysis_directory =  util.wslname(output_dir + '/' + locus_id)\n",
    "w_analysis_directory = output_dir + '/' + locus_id"
   ]
  },
  {
   "cell_type": "code",
   "execution_count": null,
   "id": "159ed3c1-82d6-4f25-a82f-14f5fd4f14b4",
   "metadata": {},
   "outputs": [],
   "source": [
    "query_file = 'intergenic_region.faa'\n",
    "hm_model_file = 'hmm.hmm'\n",
    "cm_model_file = 'cm.cm'"
   ]
  },
  {
   "cell_type": "code",
   "execution_count": null,
   "id": "d5f49832-54a9-418a-8ab3-d17613d6f0a5",
   "metadata": {},
   "outputs": [],
   "source": [
    "subprocess.run('wsl cd ' + analysis_directory + ' ; nhmmer --cpu 32 -A align_1.sto --incE 1e-20 '+ query_file +' '+ merged_file_loc, shell=True)\n",
    "# Initial run with HMM"
   ]
  },
  {
   "cell_type": "code",
   "execution_count": null,
   "id": "4891a651-577a-462a-a9db-67b641276b0b",
   "metadata": {},
   "outputs": [],
   "source": [
    "subprocess.run('wsl cd ' + analysis_directory + ' ; ~/infernal-1.1.4/src/cmbuild --noss -F cm_1.cm align_1.sto'  , shell=True)\n",
    "subprocess.run('wsl cd ' + analysis_directory + ' ; ~/infernal-1.1.4/src/cmcalibrate cm_1.cm', shell= True)\n",
    "subprocess.run('wsl cd ' + analysis_directory + ' ; ~/infernal-1.1.4/src/cmsearch  --tblout search_hits_1.txt -A search_1.sto cm_1.cm ' + merged_file_loc  , shell=True) \n",
    "best_hit_per_species(w_analysis_directory, 1)\n",
    "subprocess.run('wsl cd ' + analysis_directory + ' ; ~/rscape_v2.0.0.g/bin/R-scape --cacofold --outname rscape_1 search_bh_1.sto'  , shell=True)\n",
    "\n",
    "# Subsequent runs with Cacofold CM\n",
    "\n",
    "for iter_num in range(2, 3):    #(2,4)\n",
    "    subprocess.run('wsl cd ' + analysis_directory + ' ; ~/infernal-1.1.4/src/cmbuild -F cm_'+str(iter_num)+'.cm rscape_'+str(iter_num - 1) +'.cacofold.R2R.sto'  , shell=True)\n",
    "    subprocess.run('wsl cd ' + analysis_directory + ' ; ~/infernal-1.1.4/src/cmcalibrate cm_'+str(iter_num)+'.cm', shell= True)\n",
    "    subprocess.run('wsl cd ' + analysis_directory + ' ; ~/infernal-1.1.4/src/cmsearch --tblout search_hits_'+str(iter_num)+'.txt -A search_'+str(iter_num)+'.sto cm_'+str(iter_num)+'.cm ' + merged_file_loc  , shell=True)  \n",
    "    best_hit_per_species(w_analysis_directory, iter_num)\n",
    "    subprocess.run('wsl cd ' + analysis_directory + ' ; ~/rscape_v2.0.0.g/bin/R-scape --cacofold --outname rscape_'+str(iter_num) +' search_bh_'+str(iter_num)+'.sto'  , shell=True)"
   ]
  },
  {
   "cell_type": "code",
   "execution_count": null,
   "id": "9c6600b6-f0c0-4243-b8b0-47813a533426",
   "metadata": {},
   "outputs": [],
   "source": [
    "subprocess.run('wsl cd ' + analysis_directory + ' ; ~/infernal-1.1.4/src/cmbuild --noss -F cm_1.cm align_1.sto'  , shell=True)"
   ]
  },
  {
   "cell_type": "code",
   "execution_count": null,
   "id": "b407a83b-9c48-4c2b-a3b3-dc3fc78e31c6",
   "metadata": {},
   "outputs": [],
   "source": [
    "subprocess.run('wsl cd ' + analysis_directory + ' ; ~/infernal-1.1.4/src/cmsearch  --tblout search_hits_1.txt -A search_1.sto cm_1.cm ' + merged_file_loc  , shell=True) "
   ]
  },
  {
   "cell_type": "code",
   "execution_count": null,
   "id": "cb59bcdf-4807-4203-9017-9c0a2f7ea181",
   "metadata": {},
   "outputs": [],
   "source": []
  }
 ],
 "metadata": {
  "kernelspec": {
   "display_name": "Python 3 (ipykernel)",
   "language": "python",
   "name": "python3"
  },
  "language_info": {
   "codemirror_mode": {
    "name": "ipython",
    "version": 3
   },
   "file_extension": ".py",
   "mimetype": "text/x-python",
   "name": "python",
   "nbconvert_exporter": "python",
   "pygments_lexer": "ipython3",
   "version": "3.9.7"
  }
 },
 "nbformat": 4,
 "nbformat_minor": 5
}
