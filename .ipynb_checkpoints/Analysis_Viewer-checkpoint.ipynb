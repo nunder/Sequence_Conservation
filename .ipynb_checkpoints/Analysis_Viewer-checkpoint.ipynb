{
 "cells": [
  {
   "cell_type": "code",
   "execution_count": 1,
   "id": "1fcc254c-b60a-46bb-9b8a-469d9962395b",
   "metadata": {},
   "outputs": [],
   "source": [
    "from Comparative_Analysis import Sequence_Analysis_Routines as sar\n",
    "from Comparative_Analysis import Alignment_Analysis as alignment_analysis\n",
    "import pickle\n",
    "import ipywidgets as widgets\n",
    "from ipywidgets import interact, interact_manual, HBox, VBox\n",
    "import seaborn as sns\n",
    "import matplotlib.pyplot as plt \n",
    "import numpy as np"
   ]
  },
  {
   "cell_type": "code",
   "execution_count": 2,
   "id": "f289fee0-3587-455c-abe9-2f2d2610f36f",
   "metadata": {},
   "outputs": [],
   "source": [
    "project_dir = 'D:/Project_Data/Project_6'\n",
    "output_dir = project_dir + '/Output'\n",
    "conservation_analysis_output_dir = output_dir + '/Conservation_Analysis'"
   ]
  },
  {
   "cell_type": "code",
   "execution_count": 3,
   "id": "d5c4736f-6113-4b27-a68a-79dd3994ce81",
   "metadata": {},
   "outputs": [],
   "source": [
    "with open(conservation_analysis_output_dir + '/Simple_upstream_conservation_info_dictionary.pkl', 'rb') as f:\n",
    "    simple_upstream_conservation_info_dictionary = pickle.load(f)\n",
    "with open(conservation_analysis_output_dir + '/Simple_downstream_conservation_info_dictionary.pkl', 'rb') as f:\n",
    "    simple_downstream_conservation_info_dictionary = pickle.load(f)\n",
    "with open(conservation_analysis_output_dir + '/Multi_Species_upstream_conservation_info_dictionary.pkl', 'rb') as f:\n",
    "    multi_species_upstream_conservation_info_dictionary = pickle.load(f)\n",
    "with open(conservation_analysis_output_dir + '/Multi_Species_downstream_conservation_info_dictionary.pkl', 'rb') as f:\n",
    "    multi_species_downstream_conservation_info_dictionary = pickle.load(f)\n",
    "with open(conservation_analysis_output_dir + '/Multi_Species_extended_cds_conservation_info_dictionary.pkl', 'rb') as f:\n",
    "    multi_species_extended_cds_conservation_info_dictionary = pickle.load(f)\n",
    "with open(conservation_analysis_output_dir + '/AE_upstream_conservation_info_dictionary.pkl', 'rb') as f:\n",
    "    ae_upstream_conservation_info_dictionary = pickle.load(f)\n",
    "with open(conservation_analysis_output_dir + '/AE_downstream_conservation_info_dictionary.pkl', 'rb') as f:\n",
    "    ae_downstream_conservation_info_dictionary = pickle.load(f)    \n",
    "    "
   ]
  },
  {
   "cell_type": "code",
   "execution_count": 21,
   "id": "01924a22-90f1-4879-87e0-b417dfe73a5a",
   "metadata": {},
   "outputs": [],
   "source": [
    "def change_coordinates(*args):\n",
    "    group_id = w_locus_tag.value\n",
    "    region = w_region.value\n",
    "    w_co_ordinates.min = -99999\n",
    "    if region == 'Upstream':\n",
    "        w_co_ordinates.max = int(simple_upstream_conservation_info_dictionary[group_id].end) \n",
    "        w_co_ordinates.min = int(simple_upstream_conservation_info_dictionary[group_id].start)\n",
    "    elif region == 'Downstream':\n",
    "        w_co_ordinates.max = int(simple_downstream_conservation_info_dictionary[group_id].end) \n",
    "        w_co_ordinates.min = int(simple_downstream_conservation_info_dictionary[group_id].start)\n",
    "    elif region == 'Extended_CDS':\n",
    "        w_co_ordinates.max = int(multi_species_extended_cds_conservation_info_dictionary[group_id].end) \n",
    "        w_co_ordinates.min = int(multi_species_extended_cds_conservation_info_dictionary[group_id].start)\n",
    "    w_co_ordinates.value = [w_co_ordinates.min, w_co_ordinates.max]"
   ]
  },
  {
   "cell_type": "code",
   "execution_count": 17,
   "id": "7d9bd7fb-5377-4a42-bae7-4cb47e3f8ed9",
   "metadata": {},
   "outputs": [],
   "source": [
    "w_co_ordinates = widgets.IntRangeSlider(value=[0, 7], min=0, max=10, step=1, description='Co-ordinates', disabled=False, continuous_update=False, orientation='horizontal', readout=True,\n",
    "                                        layout=widgets.Layout(width='50%'), readout_format='d',)\n",
    "w_model_type = widgets.Dropdown(options=['Multi_Species', 'Simple', 'AE'],continuous_update = False)\n",
    "w_locus_tag = widgets.Dropdown(continuous_update = False, options=sorted(list(simple_upstream_conservation_info_dictionary.keys())))\n",
    "w_locus_tag.observe(change_coordinates, names='value')\n",
    "w_region = widgets.Dropdown(options=['Upstream', 'Downstream', 'Extended_CDS'],continuous_update = False)\n",
    "w_region.observe(change_coordinates, names='value')\n",
    "widgets.interact_manual.opts['manual_name'] = 'Show comparison'"
   ]
  },
  {
   "cell_type": "code",
   "execution_count": 18,
   "id": "03f5976c-324f-4fc9-9eb8-18080570e21f",
   "metadata": {},
   "outputs": [],
   "source": [
    "def show_gene(region, model_type, locus_tag, coords):\n",
    "    x1 = coords[0]; x2 = coords[1]\n",
    "    if region == 'Upstream':\n",
    "        if model_type == 'Simple':\n",
    "            simple_upstream_conservation_info_dictionary[locus_tag].display_analysis(x1, x2);\n",
    "        elif model_type == 'Multi_Species':\n",
    "            multi_species_upstream_conservation_info_dictionary[locus_tag].display_analysis(x1, x2);\n",
    "        else:\n",
    "            ae_upstream_conservation_info_dictionary[locus_tag].display_analysis(x1, x2);\n",
    "    elif region == 'Downstream':\n",
    "        if model_type == 'Simple':\n",
    "            simple_downstream_conservation_info_dictionary[locus_tag].display_analysis(x1, x2);\n",
    "        elif model_type == 'Multi_Species':\n",
    "            multi_species_downstream_conservation_info_dictionary[locus_tag].display_analysis(x1, x2);\n",
    "        else:\n",
    "            ae_downstream_conservation_info_dictionary[locus_tag].display_analysis(x1, x2);\n",
    "    elif region == 'Extended_CDS':\n",
    "        if model_type == 'Simple':\n",
    "            simple_extended_cds_conservation_info_dictionary[locus_tag].display_analysis(x1, x2);\n",
    "        elif model_type == 'Multi_Species':\n",
    "            multi_species_extended_cds_conservation_info_dictionary[locus_tag].display_analysis(x1, x2);\n",
    "        else:\n",
    "            ae_downstream_extended_cds_conservation_info_dictionary[locus_tag].display_analysis(x1, x2);"
   ]
  },
  {
   "cell_type": "code",
   "execution_count": null,
   "id": "db028afc-2737-4f75-9878-a39fff5acf64",
   "metadata": {},
   "outputs": [],
   "source": []
  },
  {
   "cell_type": "code",
   "execution_count": null,
   "id": "6c7543a5-018c-476e-b22f-5a21a7cf6b63",
   "metadata": {},
   "outputs": [],
   "source": []
  },
  {
   "cell_type": "code",
   "execution_count": null,
   "id": "151dd0f2-ab7d-4bb7-bcba-5f5f0ca5e5f6",
   "metadata": {},
   "outputs": [],
   "source": []
  },
  {
   "cell_type": "code",
   "execution_count": 19,
   "id": "5ebb8414-8428-48c3-a3b5-467423523064",
   "metadata": {},
   "outputs": [
    {
     "data": {
      "application/vnd.jupyter.widget-view+json": {
       "model_id": "f1d7f167aac145678d57c570974a15dc",
       "version_major": 2,
       "version_minor": 0
      },
      "text/plain": [
       "interactive(children=(Dropdown(description='region', options=('Upstream', 'Downstream', 'Extended_CDS'), value…"
      ]
     },
     "metadata": {},
     "output_type": "display_data"
    },
    {
     "data": {
      "text/plain": [
       "<function __main__.show_gene(region, model_type, locus_tag, coords)>"
      ]
     },
     "execution_count": 19,
     "metadata": {},
     "output_type": "execute_result"
    }
   ],
   "source": [
    "interact_manual(show_gene, region = w_region, model_type = w_model_type, locus_tag = w_locus_tag, coords = w_co_ordinates)"
   ]
  },
  {
   "cell_type": "code",
   "execution_count": 20,
   "id": "b3b10c80-b017-4852-8aca-05a916b2bdec",
   "metadata": {},
   "outputs": [
    {
     "name": "stdout",
     "output_type": "stream",
     "text": [
      "4263354.0\n"
     ]
    }
   ],
   "source": [
    "print(multi_species_extended_cds_conservation_info_dictionary['Rv3801c'].end)"
   ]
  },
  {
   "cell_type": "code",
   "execution_count": null,
   "id": "7c6d3680-e115-4d08-b28b-d63ff3e74cdc",
   "metadata": {},
   "outputs": [],
   "source": []
  }
 ],
 "metadata": {
  "kernelspec": {
   "display_name": "Python 3 (ipykernel)",
   "language": "python",
   "name": "python3"
  },
  "language_info": {
   "codemirror_mode": {
    "name": "ipython",
    "version": 3
   },
   "file_extension": ".py",
   "mimetype": "text/x-python",
   "name": "python",
   "nbconvert_exporter": "python",
   "pygments_lexer": "ipython3",
   "version": "3.9.7"
  }
 },
 "nbformat": 4,
 "nbformat_minor": 5
}
