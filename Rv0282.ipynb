{
 "cells": [
  {
   "cell_type": "markdown",
   "id": "b1e30ed4-8a0e-4a6f-96eb-dfe116dfb2de",
   "metadata": {},
   "source": [
    "#### Directories etc"
   ]
  },
  {
   "cell_type": "code",
   "execution_count": 1,
   "id": "cf9c6377-5080-4c22-94db-feabe17cc47c",
   "metadata": {},
   "outputs": [],
   "source": [
    "import pandas as pd\n",
    "import pickle\n",
    "import seaborn as sns\n",
    "import matplotlib.pyplot as plt\n",
    "import numpy as np\n",
    "from Bio import Entrez, SeqIO, AlignIO, pairwise2, Align, Seq, motifs\n",
    "from Bio.Seq import Seq\n",
    "from Bio.SeqFeature import SeqFeature, FeatureLocation\n",
    "from scipy.stats import binom\n",
    "import math\n",
    "import random\n",
    "from tqdm import tqdm\n",
    "from Comparative_Analysis import Utilities as util\n",
    "import random\n",
    "from joblib import Parallel, delayed\n",
    "from Comparative_Analysis import Blast_Functions as blastfn\n",
    "import time\n",
    "import os\n",
    "import copy\n",
    "from Comparative_Analysis import ORF_Functions as orffn\n",
    "from Comparative_Analysis import Alignment as alignfn\n",
    "from random import sample\n",
    "from Bio.Align.Applications import MuscleCommandline\n",
    "pd.options.mode.chained_assignment = None  # default='warn'"
   ]
  },
  {
   "cell_type": "code",
   "execution_count": 2,
   "id": "1988a242-f558-4643-b3a9-27272fa7bebc",
   "metadata": {},
   "outputs": [],
   "source": [
    "project_dir = 'F:/Project_Data/E_Pump_Project'\n",
    "seq_dir = 'F:/Datasets/NCBI_Refseq_Mycobacteriaceae_All_Levels/ncbi_dataset/data'\n",
    "sequence_dirs = util.list_dirs(seq_dir)\n",
    "tb_species = 'NC_000962.3' \n",
    "tb_annotation_dirname = 'GCF_000195955.2'\n",
    "num_cores = 16\n",
    "core_numbers = list(range(1, num_cores+1))\n",
    "muscle_exe = 'C:/Users/nicho/Muscle/muscle3.8.31_i86win32.exe'\n",
    "full_build = False"
   ]
  },
  {
   "cell_type": "markdown",
   "id": "198ce0ae-2b01-482b-83cb-93c720537916",
   "metadata": {},
   "source": [
    "#### Create file with all CDS for species and create BLAST databases for TB CDS and All CDS (to do reciprocal best hits)"
   ]
  },
  {
   "cell_type": "markdown",
   "id": "c46ca5ad-41e6-4030-9de9-02fc85dd7710",
   "metadata": {
    "tags": []
   },
   "source": [
    "#### Subset based on loci of interest, and filter orthologues based on percent identity, synteny"
   ]
  },
  {
   "cell_type": "code",
   "execution_count": 5,
   "id": "703b51b5-352f-4df8-9da9-939fc7b6a26e",
   "metadata": {
    "tags": []
   },
   "outputs": [],
   "source": [
    "def generate_protein_dataset(num_subsets, subset_num, dir_list): \n",
    "    sequence_dirs = util.chunk_list(dir_list, num_subsets, subset_num)\n",
    "    all_cds = []\n",
    "    all_tb_cds = []\n",
    "    names = []\n",
    "    sequences = []\n",
    "    locations = []\n",
    "    for dirname in (sequence_dirs):\n",
    "        for genome_record in SeqIO.parse(seq_dir + '/' + dirname + '/genomic.gbff', \"genbank\"):\n",
    "            accession_ver = genome_record.annotations['accessions'][0] + '.' + str(genome_record.annotations['sequence_version'])\n",
    "            names.append([accession_ver, genome_record.annotations['organism']])\n",
    "            full_sequence = str(genome_record.seq)\n",
    "            sequences.append([accession_ver, full_sequence])\n",
    "            for feature in genome_record.features:\n",
    "                a = feature.qualifiers\n",
    "                if feature.type == 'CDS' and a.get(\"translation\") != None:\n",
    "                    locus_tag = a.get(\"locus_tag\")[0]\n",
    "                    accession_locus = accession_ver + '@' + locus_tag\n",
    "                    translation = a.get(\"translation\")[0]\n",
    "                    (start, stop, strand) = (int(feature.location.start), int(feature.location.end), int(feature.location.strand))\n",
    "                    locations.append([accession_locus, (start, stop, strand)])\n",
    "                    all_cds.append([accession_locus, translation])\n",
    "                    if dirname == tb_annotation_dirname:\n",
    "                        all_tb_cds.append([accession_locus, translation])\n",
    "    return (all_cds, all_tb_cds, names, locations, sequences)    "
   ]
  },
  {
   "cell_type": "code",
   "execution_count": 6,
   "id": "9c95c59e-50bd-4dcb-ad9a-cebe631c0778",
   "metadata": {},
   "outputs": [],
   "source": [
    "if 1==1:\n",
    "    parallel_output = Parallel(n_jobs=-1)(delayed(generate_protein_dataset)(num_cores, core_number, sequence_dirs) for core_number in core_numbers)\n",
    "    names_dict = {}\n",
    "    locations_dict = {}\n",
    "    sequence_dict = {}\n",
    "    all_cds = []\n",
    "    all_tb_cds = []\n",
    "    for x in parallel_output:\n",
    "        all_cds += x[0]\n",
    "        all_tb_cds += x[1]\n",
    "        for temp in x[2]:\n",
    "            names_dict[temp[0]] = temp[1]\n",
    "        for temp in x[3]:\n",
    "            locations_dict[temp[0]] = temp[1]\n",
    "        for temp in x[4]:\n",
    "            sequence_dict[temp[0]] = temp[1]"
   ]
  },
  {
   "cell_type": "code",
   "execution_count": 20,
   "id": "a1b1a814-cad9-468e-b5d1-ba4a82735423",
   "metadata": {
    "tags": []
   },
   "outputs": [],
   "source": [
    "loci = ['Rv0532']    # [TetR,  divergent_gene]\n",
    "target_loci = [tb_species+ '@' + x for x in loci]"
   ]
  },
  {
   "cell_type": "code",
   "execution_count": 21,
   "id": "41b78a0a-f4fd-4fa2-a396-52e4c217498d",
   "metadata": {
    "tags": []
   },
   "outputs": [],
   "source": [
    "rbh = pd.read_csv(project_dir + '/reciprocal_best_hits.csv')\n",
    "rbh = rbh[rbh['query_ref'].isin(target_loci)]\n",
    "rbh['target_loc'] = rbh['target_ref'].map(locations_dict)\n",
    "rbh['cds_count'] = rbh.groupby('target_species_name')['query_ref'].transform('size')\n",
    "rbh['min_pct_id'] = rbh.groupby('target_species_name')['percent_identical_matches'].transform('min')"
   ]
  },
  {
   "cell_type": "code",
   "execution_count": 22,
   "id": "b3a5a39a-82e2-4c93-85ed-48158e201a62",
   "metadata": {
    "tags": []
   },
   "outputs": [],
   "source": [
    "for i, r in rbh.iterrows():\n",
    "    (start, stop, strand) = r['target_loc']\n",
    "    rbh.at[i,'start'] = start\n",
    "    rbh.at[i,'stop'] =  stop\n",
    "    rbh.at[i,'strand'] = strand\n",
    "rbh = rbh[rbh['min_pct_id'] >= 80]"
   ]
  },
  {
   "cell_type": "markdown",
   "id": "58cbcb11-a3c1-4414-bc65-fd2211bc50b6",
   "metadata": {
    "tags": []
   },
   "source": [
    "#### Generate FASTA file containing intergenic regions in orthologous species and run Muscle / R-scape"
   ]
  },
  {
   "cell_type": "code",
   "execution_count": 23,
   "id": "01702e13-7e21-4fad-80de-b0cb1f4167ff",
   "metadata": {
    "tags": []
   },
   "outputs": [
    {
     "name": "stderr",
     "output_type": "stream",
     "text": [
      "100%|██████████| 1/1 [00:00<?, ?it/s]\n"
     ]
    }
   ],
   "source": [
    "intergenic_regions = []\n",
    "tetR_regions = []\n",
    "for target_species in list(rbh['target_species_name'].unique()):\n",
    "    temp = rbh[rbh['target_species_name'] == target_species]\n",
    "    for i, r in temp.iterrows():\n",
    "        target_species_accession = r['target_species']\n",
    "        if r['query_ref'].split('@')[1] == loci[0]:\n",
    "            divgene_coords = r['target_loc']\n",
    "    if divgene_coords[2] == 1:\n",
    "        intergenic_region = (divgene_coords[0], divgene_coords[1], 1)\n",
    "    else:\n",
    "        intergenic_region = (divgene_coords[0], divgene_coords[1],-1)\n",
    "    if intergenic_region[2] == 1:\n",
    "        intergenic_sequence = sequence_dict[target_species_accession][intergenic_region[0]: intergenic_region[1]]\n",
    "    else:\n",
    "        intergenic_sequence = util.reverse_complement(sequence_dict[target_species_accession][intergenic_region[0]: intergenic_region[1]])\n",
    "    intergenic_regions.append([target_species.replace(\" \", \"_\"), intergenic_sequence])\n",
    "    \n",
    "util.produce_fasta_file(intergenic_regions, project_dir +'/intergenic_regions.fasta')\n",
    "cline = MuscleCommandline(muscle_exe, input= project_dir +'/intergenic_regions.fasta', out=project_dir + '/RV0282_alignment.fasta')\n",
    "result = cline();\n",
    "#blastfn.convert_fasta_to_stockholm(project_dir, '/intergenic_region_'+loci[0]+'_'+loci[1] + '_alignment.fasta', '/intergenic_region_'+loci[0]+'_'+loci[1] + '_alignment.sto)\n",
    "\n",
    "#util.produce_fasta_file(tetR_regions, project_dir +'/tetR_regions.fasta')\n",
    "#cline = MuscleCommandline(muscle_exe, input= project_dir +'/'+'tetR_regions.fasta', out=project_dir + '/tetR_region_alignment3.fasta')\n",
    "#result = cline();\n",
    "#blastfn.convert_fasta_to_stockholm(project_dir, 'tetR_region_alignment3.fasta', 'tetR_region_alignment3.sto')"
   ]
  },
  {
   "cell_type": "code",
   "execution_count": 121,
   "id": "912d963f-3888-4afe-8024-8f8a6c1a6fa7",
   "metadata": {
    "tags": []
   },
   "outputs": [],
   "source": [
    "blastfn.run_rscape(project_dir, 'intergenic_region_alignment3.sto', 'rscape_output')"
   ]
  },
  {
   "cell_type": "markdown",
   "id": "61ab8568-1a2c-43c6-b96b-c670c5153c19",
   "metadata": {},
   "source": [
    "#### Analyse interfeature orthologs in target species"
   ]
  },
  {
   "cell_type": "code",
   "execution_count": null,
   "id": "c0e9b790-22d0-4c69-adf1-0700f7ba5885",
   "metadata": {},
   "outputs": [],
   "source": []
  }
 ],
 "metadata": {
  "kernelspec": {
   "display_name": "Python 3 (ipykernel)",
   "language": "python",
   "name": "python3"
  },
  "language_info": {
   "codemirror_mode": {
    "name": "ipython",
    "version": 3
   },
   "file_extension": ".py",
   "mimetype": "text/x-python",
   "name": "python",
   "nbconvert_exporter": "python",
   "pygments_lexer": "ipython3",
   "version": "3.9.7"
  }
 },
 "nbformat": 4,
 "nbformat_minor": 5
}
