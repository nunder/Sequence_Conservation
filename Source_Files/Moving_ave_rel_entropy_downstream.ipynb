{
 "cells": [
  {
   "cell_type": "markdown",
   "id": "b1e30ed4-8a0e-4a6f-96eb-dfe116dfb2de",
   "metadata": {},
   "source": [
    "#### Directories etc"
   ]
  },
  {
   "cell_type": "code",
   "execution_count": 2,
   "id": "cf9c6377-5080-4c22-94db-feabe17cc47c",
   "metadata": {},
   "outputs": [],
   "source": [
    "import pandas as pd\n",
    "import pickle\n",
    "import seaborn as sns\n",
    "import matplotlib.pyplot as plt\n",
    "import numpy as np\n",
    "from Bio import Entrez, SeqIO, AlignIO, pairwise2, Align, Seq, motifs\n",
    "from Bio.Seq import Seq\n",
    "from Bio.SeqFeature import SeqFeature, FeatureLocation\n",
    "from scipy.stats import binom\n",
    "import math\n",
    "import random\n",
    "from tqdm import tqdm\n",
    "from Comparative_Analysis import Utilities as util\n",
    "import random\n",
    "from joblib import Parallel, delayed\n",
    "from Comparative_Analysis import Blast_Functions as blastfn\n",
    "import time\n",
    "import os\n",
    "import copy\n",
    "from scipy.stats import chi2\n",
    "from Comparative_Analysis import ORF_Functions as orffn\n",
    "from Comparative_Analysis import Alignment as alignfn\n",
    "from random import sample\n",
    "from Bio.Align.Applications import MuscleCommandline\n",
    "import subprocess\n",
    "pd.options.mode.chained_assignment = None  # default='warn'"
   ]
  },
  {
   "cell_type": "code",
   "execution_count": 3,
   "id": "1988a242-f558-4643-b3a9-27272fa7bebc",
   "metadata": {},
   "outputs": [],
   "source": [
    "project_dir = 'F:/Project_Data/Intergenic_Region_Comparative_Analysis_Downstream'\n",
    "seq_dir_1 = 'F:/Datasets/NCBI_Refseq_Mycobacteriaceae_All_Levels/ncbi_dataset/data'\n",
    "seq_dir_2 = 'F:/Datasets/NCBI_Refseq_Actinobacteria_All_Levels/data'\n",
    "sequence_dirs_1 = util.list_dirs(seq_dir_1)\n",
    "sequence_dirs_2 = util.list_dirs(seq_dir_2)\n",
    "tb_species = 'NC_000962.3' \n",
    "tb_annotation_dirname = 'GCF_000195955.2'\n",
    "num_cores = 16\n",
    "core_numbers = list(range(1, num_cores+1))\n",
    "muscle_exe = 'C:/Users/nicho/Muscle/muscle3.8.31_i86win32.exe'\n",
    "full_build = False"
   ]
  },
  {
   "cell_type": "markdown",
   "id": "620b4aff-19a5-4a6b-ae33-61039732f114",
   "metadata": {},
   "source": [
    "#### Calculate MaxRE"
   ]
  },
  {
   "cell_type": "code",
   "execution_count": 4,
   "id": "930a461c-e91e-4b99-86cb-87d667ae742d",
   "metadata": {},
   "outputs": [
    {
     "name": "stderr",
     "output_type": "stream",
     "text": [
      "100%|██████████| 1958/1958 [09:13<00:00,  3.54it/s] \n"
     ]
    }
   ],
   "source": [
    "mave_len = 20\n",
    "id_re = []\n",
    "seq_ids = util.list_dirs(project_dir)\n",
    "out_list = []\n",
    "consensus_dict = {}\n",
    "for id in tqdm(seq_ids):\n",
    "    if os.path.exists(project_dir + '/' + str(id) + '/upstream_region_'+str(id)+'_alignment_1.fasta'):\n",
    "        temp = util.read_fasta_to_array(project_dir + '/' + str(id) + '/upstream_region_'+str(id)+'_alignment_1.fasta')\n",
    "        for n, name in enumerate(temp[0]):\n",
    "            if name == 'Mycobacterium_tuberculosis_H37Rv':\n",
    "                tb_loc = n\n",
    "                break\n",
    "        insertions = []\n",
    "        for n, nt in enumerate(temp[1][tb_loc]):\n",
    "            if nt == '-':\n",
    "                insertions.append(n)\n",
    "\n",
    "        sequences = []\n",
    "        for n, sequence in enumerate(temp[1]):\n",
    "            temp_seq = []\n",
    "            for m, l in enumerate(sequence):\n",
    "                if not(m in insertions):\n",
    "                    temp_seq.append(l)\n",
    "            sequences.append([temp[0][n] ,''.join(temp_seq)])\n",
    "        names = []\n",
    "        seqs = []\n",
    "        for [name, sequence] in sequences:\n",
    "            names.append(name)\n",
    "            seqs.append(sequence)\n",
    "        alignment = [names, seqs]\n",
    "    \n",
    "        \n",
    "        sequences_in_alignment = len(alignment[0])\n",
    "        alignment_length = len(alignment[1][0])\n",
    "        for j, name in enumerate(alignment[0]):\n",
    "            if name == 'Mycobacterium_tuberculosis_H37Rv':\n",
    "                tb_index = j\n",
    "                break\n",
    "        if sequences_in_alignment < 30:\n",
    "            continue\n",
    "        pct_identity = []\n",
    "        consensus = []\n",
    "        for i in range(alignment_length):\n",
    "            temp = []\n",
    "            for j in range(sequences_in_alignment):\n",
    "                temp.append(alignment[1][j][i])\n",
    "            match_found = 0\n",
    "            mac_pct_id = 0\n",
    "            for letter in ['A','C','G','T']:\n",
    "                if temp.count(letter) / sequences_in_alignment >= 0.9:\n",
    "                    match_found = 1\n",
    "                    consensus.append(letter)\n",
    "                    break\n",
    "            if match_found == 0:\n",
    "                consensus.append('-')\n",
    "        consensus_dict[id] = consensus    \n",
    "        #print(consensus[410:])\n",
    "        re = (alignfn.relative_entropy(alignment[1]))\n",
    "        mave_re = []\n",
    "        for i in range(len(re[0])-mave_len):\n",
    "            temp = re[0][i:i+mave_len]\n",
    "            mave_re.append(sum(temp)/len(temp))\n",
    "        max_re = -999\n",
    "        max_re_pos = 0\n",
    "        if len(mave_re) == 0:\n",
    "            continue\n",
    "        for i in range(len(re[0])-mave_len):\n",
    "            if mave_re[i] > max_re:\n",
    "                max_re = mave_re[i]\n",
    "                max_re_pos = i\n",
    "        id_re.append([id, max_re, ''.join(consensus_dict[id][max_re_pos: max_re_pos + mave_len]), len(consensus_dict[id]), len([x for x in re[0] if x > 1.9]), \n",
    "                      sequences_in_alignment, alignment[1][tb_index][max_re_pos: max_re_pos + mave_len]])"
   ]
  },
  {
   "cell_type": "code",
   "execution_count": 5,
   "id": "52cea015-f56d-42f7-a076-ff0bfbbb4e84",
   "metadata": {},
   "outputs": [
    {
     "data": {
      "text/plain": [
       "1335"
      ]
     },
     "execution_count": 5,
     "metadata": {},
     "output_type": "execute_result"
    }
   ],
   "source": [
    "len(id_re)"
   ]
  },
  {
   "cell_type": "code",
   "execution_count": 6,
   "id": "3a2022d8-3329-477b-b93a-dcbfe5e3e2f2",
   "metadata": {},
   "outputs": [
    {
     "data": {
      "text/html": [
       "<div>\n",
       "<style scoped>\n",
       "    .dataframe tbody tr th:only-of-type {\n",
       "        vertical-align: middle;\n",
       "    }\n",
       "\n",
       "    .dataframe tbody tr th {\n",
       "        vertical-align: top;\n",
       "    }\n",
       "\n",
       "    .dataframe thead th {\n",
       "        text-align: right;\n",
       "    }\n",
       "</style>\n",
       "<table border=\"1\" class=\"dataframe\">\n",
       "  <thead>\n",
       "    <tr style=\"text-align: right;\">\n",
       "      <th></th>\n",
       "      <th>Downstream CDS</th>\n",
       "      <th>Maximum_Moving_Ave_RE</th>\n",
       "      <th>Sequence</th>\n",
       "      <th>Intergenic_Region_TB_Length</th>\n",
       "      <th>Num_positions_gt_90_ID</th>\n",
       "      <th>Num_Seq_in_alignement</th>\n",
       "      <th>TB_Sequence</th>\n",
       "    </tr>\n",
       "  </thead>\n",
       "  <tbody>\n",
       "    <tr>\n",
       "      <th>0</th>\n",
       "      <td>RV1984a</td>\n",
       "      <td>0.305883</td>\n",
       "      <td>T-------------------</td>\n",
       "      <td>87</td>\n",
       "      <td>1</td>\n",
       "      <td>130</td>\n",
       "      <td>TAAGTTCAACCTGTTTGAGG</td>\n",
       "    </tr>\n",
       "    <tr>\n",
       "      <th>1</th>\n",
       "      <td>Rv0001</td>\n",
       "      <td>1.307997</td>\n",
       "      <td>CACA---C-TA-TACT--T-</td>\n",
       "      <td>530</td>\n",
       "      <td>0</td>\n",
       "      <td>210</td>\n",
       "      <td>CACACCCTCTAATACTGTTA</td>\n",
       "    </tr>\n",
       "    <tr>\n",
       "      <th>2</th>\n",
       "      <td>Rv0004</td>\n",
       "      <td>1.260371</td>\n",
       "      <td>-AG--------AAAC-C---</td>\n",
       "      <td>245</td>\n",
       "      <td>5</td>\n",
       "      <td>209</td>\n",
       "      <td>TAGATGGGTAAAAACGAGGC</td>\n",
       "    </tr>\n",
       "    <tr>\n",
       "      <th>3</th>\n",
       "      <td>Rv0005</td>\n",
       "      <td>0.278819</td>\n",
       "      <td>T-------------------</td>\n",
       "      <td>37</td>\n",
       "      <td>1</td>\n",
       "      <td>212</td>\n",
       "      <td>TAACGCAACCCTGCGTTCGA</td>\n",
       "    </tr>\n",
       "    <tr>\n",
       "      <th>4</th>\n",
       "      <td>Rv0006</td>\n",
       "      <td>0.780540</td>\n",
       "      <td>---T-----C----------</td>\n",
       "      <td>98</td>\n",
       "      <td>0</td>\n",
       "      <td>215</td>\n",
       "      <td>AGCTAGGCTCGGCAGCCGGG</td>\n",
       "    </tr>\n",
       "    <tr>\n",
       "      <th>...</th>\n",
       "      <td>...</td>\n",
       "      <td>...</td>\n",
       "      <td>...</td>\n",
       "      <td>...</td>\n",
       "      <td>...</td>\n",
       "      <td>...</td>\n",
       "      <td>...</td>\n",
       "    </tr>\n",
       "    <tr>\n",
       "      <th>1330</th>\n",
       "      <td>Rv3912</td>\n",
       "      <td>1.524796</td>\n",
       "      <td>GGAACA-C----C-TAC-CT</td>\n",
       "      <td>96</td>\n",
       "      <td>8</td>\n",
       "      <td>53</td>\n",
       "      <td>GGAACAGCAGTGCCTACGCT</td>\n",
       "    </tr>\n",
       "    <tr>\n",
       "      <th>1331</th>\n",
       "      <td>Rv3914</td>\n",
       "      <td>1.150996</td>\n",
       "      <td>TCTG-GA-AAT---------</td>\n",
       "      <td>112</td>\n",
       "      <td>1</td>\n",
       "      <td>214</td>\n",
       "      <td>TCTGCGACAATACCGGTTGG</td>\n",
       "    </tr>\n",
       "    <tr>\n",
       "      <th>1332</th>\n",
       "      <td>Rv3917c</td>\n",
       "      <td>1.511784</td>\n",
       "      <td>---TT-CGTCACTGTGAC--</td>\n",
       "      <td>292</td>\n",
       "      <td>5</td>\n",
       "      <td>213</td>\n",
       "      <td>TAATTACGTCACTGTGACAA</td>\n",
       "    </tr>\n",
       "    <tr>\n",
       "      <th>1333</th>\n",
       "      <td>Rv3920c</td>\n",
       "      <td>1.810388</td>\n",
       "      <td>-ATGTTTCACGTGAAACA-G</td>\n",
       "      <td>134</td>\n",
       "      <td>12</td>\n",
       "      <td>213</td>\n",
       "      <td>AATGTTTCACGTGAAACATG</td>\n",
       "    </tr>\n",
       "    <tr>\n",
       "      <th>1334</th>\n",
       "      <td>Rv3921c</td>\n",
       "      <td>0.614036</td>\n",
       "      <td>---G----------------</td>\n",
       "      <td>74</td>\n",
       "      <td>1</td>\n",
       "      <td>210</td>\n",
       "      <td>CACAACCCGCCTGCAGACGA</td>\n",
       "    </tr>\n",
       "  </tbody>\n",
       "</table>\n",
       "<p>1335 rows × 7 columns</p>\n",
       "</div>"
      ],
      "text/plain": [
       "     Downstream CDS  Maximum_Moving_Ave_RE              Sequence  \\\n",
       "0           RV1984a               0.305883  T-------------------   \n",
       "1            Rv0001               1.307997  CACA---C-TA-TACT--T-   \n",
       "2            Rv0004               1.260371  -AG--------AAAC-C---   \n",
       "3            Rv0005               0.278819  T-------------------   \n",
       "4            Rv0006               0.780540  ---T-----C----------   \n",
       "...             ...                    ...                   ...   \n",
       "1330         Rv3912               1.524796  GGAACA-C----C-TAC-CT   \n",
       "1331         Rv3914               1.150996  TCTG-GA-AAT---------   \n",
       "1332        Rv3917c               1.511784  ---TT-CGTCACTGTGAC--   \n",
       "1333        Rv3920c               1.810388  -ATGTTTCACGTGAAACA-G   \n",
       "1334        Rv3921c               0.614036  ---G----------------   \n",
       "\n",
       "      Intergenic_Region_TB_Length  Num_positions_gt_90_ID  \\\n",
       "0                              87                       1   \n",
       "1                             530                       0   \n",
       "2                             245                       5   \n",
       "3                              37                       1   \n",
       "4                              98                       0   \n",
       "...                           ...                     ...   \n",
       "1330                           96                       8   \n",
       "1331                          112                       1   \n",
       "1332                          292                       5   \n",
       "1333                          134                      12   \n",
       "1334                           74                       1   \n",
       "\n",
       "      Num_Seq_in_alignement           TB_Sequence  \n",
       "0                       130  TAAGTTCAACCTGTTTGAGG  \n",
       "1                       210  CACACCCTCTAATACTGTTA  \n",
       "2                       209  TAGATGGGTAAAAACGAGGC  \n",
       "3                       212  TAACGCAACCCTGCGTTCGA  \n",
       "4                       215  AGCTAGGCTCGGCAGCCGGG  \n",
       "...                     ...                   ...  \n",
       "1330                     53  GGAACAGCAGTGCCTACGCT  \n",
       "1331                    214  TCTGCGACAATACCGGTTGG  \n",
       "1332                    213  TAATTACGTCACTGTGACAA  \n",
       "1333                    213  AATGTTTCACGTGAAACATG  \n",
       "1334                    210  CACAACCCGCCTGCAGACGA  \n",
       "\n",
       "[1335 rows x 7 columns]"
      ]
     },
     "execution_count": 6,
     "metadata": {},
     "output_type": "execute_result"
    }
   ],
   "source": [
    "a =[x for x in id_re if x[1] > -11111.9]\n",
    "a.sort(key = lambda x: x[0])\n",
    "a = pd.DataFrame(a, columns = ['Downstream CDS', 'Maximum_Moving_Ave_RE', 'Sequence','Intergenic_Region_TB_Length','Num_positions_gt_90_ID', 'Num_Seq_in_alignement','TB_Sequence'])\n",
    "a"
   ]
  },
  {
   "cell_type": "code",
   "execution_count": 14,
   "id": "263bb584-37b0-47f6-a505-3b87588a7354",
   "metadata": {},
   "outputs": [],
   "source": [
    "a.to_csv(project_dir + '/Moving_average_relative_entropies_downstream.csv')"
   ]
  },
  {
   "cell_type": "code",
   "execution_count": 8,
   "id": "3103a327-2511-46cd-97d3-34425dc53d05",
   "metadata": {},
   "outputs": [
    {
     "name": "stderr",
     "output_type": "stream",
     "text": [
      "C:\\Users\\nicho\\anaconda3\\Lib\\site-packages\\seaborn\\_oldcore.py:1119: FutureWarning: use_inf_as_na option is deprecated and will be removed in a future version. Convert inf values to NaN before operating instead.\n",
      "  with pd.option_context('mode.use_inf_as_na', True):\n"
     ]
    },
    {
     "data": {
      "text/plain": [
       "[Text(0.5, 0, 'maxIC scores - downstream regions'),\n",
       " Text(0, 0.5, 'Count'),\n",
       " Text(0.5, 1.0, '')]"
      ]
     },
     "execution_count": 8,
     "metadata": {},
     "output_type": "execute_result"
    },
    {
     "data": {
      "image/png": "[encoded data removed]",
      "text/plain": [
       "<Figure size 640x480 with 1 Axes>"
      ]
     },
     "metadata": {},
     "output_type": "display_data"
    }
   ],
   "source": [
    "a = sns.histplot(data = [x[1] for x in id_re], bins = 100)\n",
    "a.axvspan(1.9, 2, color = '#EF9A9A', alpha=0.5)\n",
    "a.set(xlabel =\"maxIC scores - downstream regions\", ylabel = \"Count\", title ='')"
   ]
  },
  {
   "cell_type": "code",
   "execution_count": 7,
   "id": "bd067e84-9d4f-46fa-beb8-748aaddb9827",
   "metadata": {},
   "outputs": [],
   "source": [
    "a.figure.savefig('figure_7b.png',dpi=600, facecolor='w')"
   ]
  },
  {
   "cell_type": "markdown",
   "id": "12056313-a454-46df-bba7-1cb6bf3dc18c",
   "metadata": {},
   "source": [
    "#### BLAST intergenic sequences to assess whether any could be complementary"
   ]
  },
  {
   "cell_type": "code",
   "execution_count": null,
   "id": "4bdd811d-b53d-48cf-a424-327c2d3e62f3",
   "metadata": {},
   "outputs": [],
   "source": []
  }
 ],
 "metadata": {
  "kernelspec": {
   "display_name": "Python 3 (ipykernel)",
   "language": "python",
   "name": "python3"
  },
  "language_info": {
   "codemirror_mode": {
    "name": "ipython",
    "version": 3
   },
   "file_extension": ".py",
   "mimetype": "text/x-python",
   "name": "python",
   "nbconvert_exporter": "python",
   "pygments_lexer": "ipython3",
   "version": "3.11.7"
  }
 },
 "nbformat": 4,
 "nbformat_minor": 5
}
