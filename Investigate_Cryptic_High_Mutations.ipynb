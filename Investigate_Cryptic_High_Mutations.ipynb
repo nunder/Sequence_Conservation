{
 "cells": [
  {
   "cell_type": "markdown",
   "id": "b1e30ed4-8a0e-4a6f-96eb-dfe116dfb2de",
   "metadata": {},
   "source": [
    "#### Directories etc"
   ]
  },
  {
   "cell_type": "code",
   "execution_count": 1,
   "id": "cf9c6377-5080-4c22-94db-feabe17cc47c",
   "metadata": {},
   "outputs": [
    {
     "name": "stderr",
     "output_type": "stream",
     "text": [
      "C:\\Users\\nicho\\Anaconda3\\envs\\Bioinformatics\\lib\\site-packages\\ete3-3.1.2-py3.7.egg\\ete3\\evol\\parser\\codemlparser.py:221: SyntaxWarning: \"is\" with a literal. Did you mean \"==\"?\n",
      "C:\\Users\\nicho\\Anaconda3\\envs\\Bioinformatics\\lib\\site-packages\\ete3-3.1.2-py3.7.egg\\ete3\\evol\\parser\\codemlparser.py:221: SyntaxWarning: \"is\" with a literal. Did you mean \"==\"?\n"
     ]
    }
   ],
   "source": [
    "import pandas as pd\n",
    "import pickle\n",
    "import seaborn as sns\n",
    "import matplotlib.pyplot as plt\n",
    "import numpy as np\n",
    "from scipy.fft import fft, fftfreq\n",
    "from Bio import Entrez, SeqIO, AlignIO, pairwise2, Align, Seq, motifs\n",
    "from Bio.Seq import Seq\n",
    "from Bio.SeqFeature import SeqFeature, FeatureLocation\n",
    "from scipy.stats import binom\n",
    "import math\n",
    "import random\n",
    "from tqdm import tqdm\n",
    "from Comparative_Analysis import Utilities as util\n",
    "from collections import defaultdict\n",
    "import random\n",
    "from joblib import Parallel, delayed\n",
    "from Comparative_Analysis import Blast_Functions as blastfn\n",
    "import time\n",
    "import os\n",
    "import copy\n",
    "from Comparative_Analysis import ORF_Functions as orffn\n",
    "from random import sample\n",
    "pd.options.mode.chained_assignment = None  # default='warn'\n",
    "import ete3;"
   ]
  },
  {
   "cell_type": "code",
   "execution_count": 2,
   "id": "1988a242-f558-4643-b3a9-27272fa7bebc",
   "metadata": {},
   "outputs": [],
   "source": [
    "project_dir = 'F:/Project_Data/Project_11'\n",
    "seq_dir = 'F:/Datasets/Actinobacteria_Ref_Rep_Lev_Complete'\n",
    "dictionary_dir = 'F:/Datasets/CRYPTIC_DATA/Cryptic_Dictionaries'\n",
    "tb_species = 'NC_000962.3' \n",
    "tb_genome_filename = 'GCF_000195955.2_ASM19595v2_genomic.gbff'\n",
    "mycobrowser_dir = 'F:/Datasets/Data_From_Publications'\n",
    "num_cores = 16\n",
    "core_numbers = list(range(1, num_cores+1))"
   ]
  },
  {
   "cell_type": "code",
   "execution_count": 3,
   "id": "8d785c84-dd9a-48b9-b57f-faabcd506cc0",
   "metadata": {},
   "outputs": [],
   "source": [
    "def bin_formula(position_3_counts, tot_bin_counts):\n",
    "    return 1- binom.cdf(position_3_counts-1, tot_bin_counts,1/3)\n",
    "def mutation_bin_probability(mutation_counts):\n",
    "    bin_counts = [0,0,0]\n",
    "    for i, c in enumerate(mutation_counts):\n",
    "        bin_counts[i % 3] += min(c,16000000)\n",
    "    if sum(bin_counts) == 0:\n",
    "        return (bin_counts, 2)\n",
    "    else:\n",
    "        return (bin_counts, bin_formula(bin_counts[2], sum(bin_counts)))  "
   ]
  },
  {
   "cell_type": "code",
   "execution_count": 4,
   "id": "34587ff5-2a33-4e49-8f48-9f1c1938f25c",
   "metadata": {},
   "outputs": [],
   "source": [
    "for record in SeqIO.parse(seq_dir + '/' + tb_genome_filename, \"genbank\"):\n",
    "    full_sequence = str(record.seq)"
   ]
  },
  {
   "cell_type": "code",
   "execution_count": null,
   "id": "ef9da2b4-26ab-4150-90e6-99fc3b388cf3",
   "metadata": {},
   "outputs": [],
   "source": [
    "with open(project_dir + '/variant_dict.pkl', 'rb') as f:\n",
    "        variant_dict = pickle.load(f)  "
   ]
  },
  {
   "cell_type": "code",
   "execution_count": null,
   "id": "61f4ff68-e620-4546-9902-f22adefd326f",
   "metadata": {},
   "outputs": [],
   "source": [
    "with open(project_dir + '/gpi_variant_df.pkl', 'rb') as f:\n",
    "        variant_df = pickle.load(f) "
   ]
  },
  {
   "cell_type": "code",
   "execution_count": 5,
   "id": "79a27a3c-8aed-4f53-b285-7a73ee5f9957",
   "metadata": {},
   "outputs": [],
   "source": [
    "with open(project_dir + '/Mutation_Counts/zero_and_non_zero_mutation_counts.pkl', 'rb') as f:\n",
    "    zero_and_non_zero_mutation_counts = pickle.load(f)     \n",
    "with open(project_dir + '/Mutation_Counts/all_mutation_counts.pkl', 'rb') as f:\n",
    "    all_mutation_counts = pickle.load(f)     "
   ]
  },
  {
   "cell_type": "code",
   "execution_count": 8,
   "id": "153eccb7-60e1-4f75-a882-1f3f3962a1f1",
   "metadata": {},
   "outputs": [],
   "source": [
    "with open(project_dir + '/Thoth_Full_Run/zero_and_non_zero_mutation_counts.pkl', 'rb') as f:\n",
    "    full_sample_zero_and_non_zero_mutation_counts = pickle.load(f)   "
   ]
  },
  {
   "cell_type": "code",
   "execution_count": null,
   "id": "1008786f-a364-4b7f-a957-375c0f79f72c",
   "metadata": {},
   "outputs": [],
   "source": [
    "with open(project_dir + '/position_dict.pkl', 'rb') as f:\n",
    "        position_dict = pickle.load(f)  \n",
    "with open(project_dir + '/id_pos_dict.pkl', 'rb') as f:\n",
    "        id_pos_dict = pickle.load(f)  \n",
    "with open(project_dir + '/pos_id_dict.pkl', 'rb') as f:\n",
    "        pos_id_dict = pickle.load(f)  \n",
    "with open(project_dir + '/id_dict.pkl', 'rb') as f:\n",
    "        id_dict = pickle.load(f)  "
   ]
  },
  {
   "cell_type": "code",
   "execution_count": null,
   "id": "a15c7aa9-98a6-4f9b-9872-c767bba2c577",
   "metadata": {},
   "outputs": [],
   "source": [
    "id_reverse_dict = {}\n",
    "for k, v in id_dict.items():\n",
    "    id_reverse_dict[v] = k"
   ]
  },
  {
   "cell_type": "code",
   "execution_count": null,
   "id": "ebf77ae9-007e-4f68-8592-dcad86c65403",
   "metadata": {},
   "outputs": [],
   "source": [
    "len(variant_dict)"
   ]
  },
  {
   "cell_type": "code",
   "execution_count": null,
   "id": "3db99095-224c-41b3-9104-149c6879b327",
   "metadata": {},
   "outputs": [],
   "source": [
    "genomes_df = pd.read_csv('F:/Project_Data/Project_11/Datasets/GENOMES.csv')\n",
    "lineage_dict = {}\n",
    "for i,r in genomes_df.iterrows():\n",
    "    lineage_dict[r['UNIQUEID']] = r['MYKROBE_LINEAGE_NAME_2'] "
   ]
  },
  {
   "cell_type": "code",
   "execution_count": null,
   "id": "c9894e9f-eb09-4c3e-884a-a6f988e21451",
   "metadata": {},
   "outputs": [],
   "source": [
    "with open(project_dir + '/Dictionaries/variant_dictionary_364848_365376_.pkl', 'rb') as f:\n",
    "        var_dict = pickle.load(f)  \n",
    "with open(project_dir + '/Mutation_Counts/mutation_counts_364848_365376_.pkl', 'rb') as f:\n",
    "        mutation_counts = pickle.load(f)  \n",
    "temp_dict = {}\n",
    "for k, v in var_dict.items():\n",
    "    if not(v[pos_id_dict[3186859] - 364848] =={'T'}):\n",
    "        temp_dict[k] =list(v[pos_id_dict[3186859] - 364848])[0]"
   ]
  },
  {
   "cell_type": "code",
   "execution_count": null,
   "id": "11d19a62-c410-49ed-bf20-89e93c489966",
   "metadata": {},
   "outputs": [],
   "source": [
    "with open(project_dir + '/Dictionaries/variant_dictionary_331584_332112_.pkl', 'rb') as f:\n",
    "        var_dict = pickle.load(f)  \n",
    "with open(project_dir + '/Mutation_Counts/mutation_counts_331584_332112_.pkl', 'rb') as f:\n",
    "        mutation_counts = pickle.load(f)  \n",
    "temp_dict = {}\n",
    "for k, v in var_dict.items():\n",
    "    if not(v[pos_id_dict[2878549] - 331584] =={'G'}):\n",
    "        temp_dict[k] =list(v[pos_id_dict[2878549] - 331584])[0]"
   ]
  },
  {
   "cell_type": "code",
   "execution_count": null,
   "id": "4bcc1595-aba3-41c2-9177-ad1218f1df52",
   "metadata": {},
   "outputs": [],
   "source": [
    "tb_tree_filename = 'tb_gpi.nwk'\n",
    "master_tree2= ete3.Tree(project_dir + '/' + tb_tree_filename)\n",
    "for node in master_tree2.traverse(\"postorder\"):\n",
    "    if node.is_leaf():\n",
    "        if node.name in temp_dict:\n",
    "            node.name = str(lineage_dict[id_reverse_dict[int(node.name.split('_')[1])]]) + '_'+temp_dict[(node.name)]\n",
    "            nstyle = ete3.NodeStyle()\n",
    "            nstyle[\"fgcolor\"] = \"red\"\n",
    "            nstyle[\"size\"] = 1\n",
    "            node.set_style(nstyle)\n",
    "        else:\n",
    "            node.name = str(lineage_dict[id_reverse_dict[int(node.name.split('_')[1])]])"
   ]
  },
  {
   "cell_type": "code",
   "execution_count": null,
   "id": "b68aa472-9e58-41af-b406-3afe1242c22b",
   "metadata": {},
   "outputs": [],
   "source": [
    "ts = ete3.TreeStyle()\n",
    "ts.show_leaf_name = False\n",
    "#ts.branch_vertical_margin = 2\n",
    "ts.mode = \"c\"\n",
    "ts.arc_start = -180 # 0 degrees = 3 o'clock\n",
    "ts.arc_span = 180\n",
    "#ts.show_branch_length = True\n",
    "#ts.show_branch_support = True"
   ]
  },
  {
   "cell_type": "code",
   "execution_count": null,
   "id": "647aba63-3233-4f72-b7ae-8fdd9c8c2df1",
   "metadata": {},
   "outputs": [],
   "source": [
    "master_tree2.render(project_dir+'/mytree.pdf', tree_style=ts);"
   ]
  },
  {
   "cell_type": "code",
   "execution_count": null,
   "id": "01db77ea-2246-4db0-87a6-600fd50dd85c",
   "metadata": {},
   "outputs": [],
   "source": [
    "tb_tree_filename = 'tb_gpi.nwk'\n",
    "master_tree2= ete3.Tree(project_dir + '/' + tb_tree_filename)\n",
    "temp = []\n",
    "for node in master_tree2.traverse(\"postorder\"):\n",
    "    if node.is_leaf():\n",
    "        temp.append([node.name, lineage_dict[id_reverse_dict[int(node.name.split('_')[1])]]])"
   ]
  },
  {
   "cell_type": "code",
   "execution_count": null,
   "id": "f4a5eddf-32b0-45f3-9859-f0945b66ff58",
   "metadata": {},
   "outputs": [],
   "source": [
    "temp_df = pd.DataFrame(temp, columns = [['label', 'lineage']])"
   ]
  },
  {
   "cell_type": "code",
   "execution_count": null,
   "id": "49701cb9-dea7-4df8-b0c6-ebc246dba062",
   "metadata": {},
   "outputs": [],
   "source": [
    "temp_df.to_csv(project_dir + '/lineages.csv')"
   ]
  },
  {
   "cell_type": "code",
   "execution_count": null,
   "id": "d14afe3c-aee0-46ae-8478-091774d4c55f",
   "metadata": {},
   "outputs": [],
   "source": [
    "for (k, v) in position_dict[342146][1:]:\n",
    "    if v == 't':\n",
    "        print(k, v)"
   ]
  },
  {
   "cell_type": "code",
   "execution_count": null,
   "id": "5f4ba992-0674-4b03-91af-c3bbf38f303a",
   "metadata": {},
   "outputs": [],
   "source": [
    "for k, v in position_dict.items():\n",
    "    #if len(v) > 5000 and len(v) < 10000:\n",
    "    if 1==1:\n",
    "        if  zero_and_non_zero_mutation_counts[k-1] > 1000  and zero_and_non_zero_mutation_counts[k-1]/(len(v)-1) > 0.1:\n",
    "            print(k-1, pos_id_dict[k-1], len(v)-1,  zero_and_non_zero_mutation_counts[k-1], zero_and_non_zero_mutation_counts[k-1]/(len(v)-1), full_sequence[k-1], v[0], set([x[1] for x in v[1:]]) )"
   ]
  },
  {
   "cell_type": "code",
   "execution_count": null,
   "id": "8d89619a-9444-48ab-9c22-36e368d281ae",
   "metadata": {},
   "outputs": [],
   "source": [
    "for n, x in enumerate(zero_and_non_zero_mutation_counts):\n",
    "    if x > 0 and len(variant_df[variant_df['GENOME_INDEX'] == n+1]) ==  0:\n",
    "        print(n, pos_id_dict[n], x, len(variant_df[variant_df['GENOME_INDEX'] == n+1]), n, x/len(variant_df[variant_df['GENOME_INDEX'] == n+1]))\n",
    "        "
   ]
  },
  {
   "cell_type": "code",
   "execution_count": null,
   "id": "986c27ed-d353-4320-bf86-41cf6eda97c8",
   "metadata": {},
   "outputs": [],
   "source": [
    "variant_df[variant_df['GENOME_INDEX'] == 3186860]"
   ]
  },
  {
   "cell_type": "code",
   "execution_count": 9,
   "id": "a9088981-99ce-4e99-9de2-9ab1cba89b57",
   "metadata": {},
   "outputs": [],
   "source": [
    "cds_boundaries = []\n",
    "for genome_record in SeqIO.parse(seq_dir + '/' + tb_genome_filename, \"genbank\"):\n",
    "    for feature in genome_record.features:\n",
    "        if feature.type == 'CDS':\n",
    "            a = feature.qualifiers  \n",
    "            if a.get(\"pseudo\") == None:\n",
    "                pseudo = False\n",
    "            else:\n",
    "                pseudo = True\n",
    "            cds_boundaries.append((a.get(\"locus_tag\")[0], pseudo, a.get(\"product\")[0], int(feature.location.start), int(feature.location.end), int(feature.location.strand)))   "
   ]
  },
  {
   "cell_type": "code",
   "execution_count": 12,
   "id": "de256c18-eaba-4f10-8ac0-5c1f97a70026",
   "metadata": {},
   "outputs": [],
   "source": [
    "temp =[]\n",
    "for (locus, pseudo, product, start, stop, strand) in cds_boundaries:\n",
    "    if pseudo == False:\n",
    "        if strand == 1:\n",
    "            temp.append(mutation_bin_probability(full_sample_zero_and_non_zero_mutation_counts[start:stop]))\n",
    "        else:\n",
    "            temp.append(mutation_bin_probability(reversed(full_sample_zero_and_non_zero_mutation_counts[start:stop])))\n",
    "scores = []\n",
    "for x in temp:\n",
    "    scores.append(x[1])"
   ]
  },
  {
   "cell_type": "code",
   "execution_count": 14,
   "id": "b8d58a66-f844-4998-adf5-b7928fff7ae5",
   "metadata": {},
   "outputs": [
    {
     "data": {
      "text/plain": [
       "3906"
      ]
     },
     "execution_count": 14,
     "metadata": {},
     "output_type": "execute_result"
    }
   ],
   "source": [
    "len(scores)"
   ]
  },
  {
   "cell_type": "code",
   "execution_count": 13,
   "id": "0a6ec465-ac06-40ce-96e2-8fbad4948e9b",
   "metadata": {},
   "outputs": [
    {
     "data": {
      "text/plain": [
       "<AxesSubplot:ylabel='Count'>"
      ]
     },
     "execution_count": 13,
     "metadata": {},
     "output_type": "execute_result"
    },
    {
     "data": {
      "image/png": "[encoded data removed]",
      "text/plain": [
       "<Figure size 432x288 with 1 Axes>"
      ]
     },
     "metadata": {
      "needs_background": "light"
     },
     "output_type": "display_data"
    }
   ],
   "source": [
    "sns.histplot(scores, bins = 50)"
   ]
  },
  {
   "cell_type": "code",
   "execution_count": 17,
   "id": "970c4714-7cce-4e6d-9a79-162c9367e374",
   "metadata": {},
   "outputs": [
    {
     "data": {
      "image/png": "[encoded data removed]",
      "text/plain": [
       "<Figure size 432x288 with 1 Axes>"
      ]
     },
     "metadata": {
      "needs_background": "light"
     },
     "output_type": "display_data"
    }
   ],
   "source": [
    "sns.histplot([x for x in full_sample_zero_and_non_zero_mutation_counts], bins = 100)\n",
    "plt.yscale('log')"
   ]
  },
  {
   "cell_type": "code",
   "execution_count": null,
   "id": "d82cdf1e-7ad9-458e-a504-0bc6794ce1b8",
   "metadata": {},
   "outputs": [],
   "source": [
    "compass_df = pd.read_csv('F:/Datasets/CRYPTIC_DATA/COMPASS.csv', names = ['species', 'start', 'stop','count'])"
   ]
  },
  {
   "cell_type": "code",
   "execution_count": null,
   "id": "3a88aeab-b142-4b37-a896-f64581c83ec9",
   "metadata": {},
   "outputs": [],
   "source": [
    "compass_dict = {}\n",
    "for i, r in compass_df.iterrows():\n",
    "    for k in range(r['start'], r['stop']):     #  Should te start-1 but seems to ve inconsistency with mutations!!\n",
    "        compass_dict[k] = 'Y'"
   ]
  },
  {
   "cell_type": "code",
   "execution_count": null,
   "id": "e0654f6d-b6dc-4ee0-aef7-ec387cd896a4",
   "metadata": {},
   "outputs": [],
   "source": [
    "temp = []\n",
    "for n, c in enumerate(zero_and_non_zero_mutation_counts):\n",
    "    if n in compass_dict:\n",
    "        temp.append([n, c, 'Y'])\n",
    "    else:\n",
    "        temp.append([n, c, 'N'])"
   ]
  },
  {
   "cell_type": "code",
   "execution_count": null,
   "id": "009cb8bf-14f9-4311-902b-1a798c8e56c7",
   "metadata": {},
   "outputs": [],
   "source": [
    "[x for x in temp if (x[2] == 'Y' and x[1]>0)]"
   ]
  },
  {
   "cell_type": "code",
   "execution_count": null,
   "id": "e6d7453d-c0ef-497c-823a-ba041114af98",
   "metadata": {},
   "outputs": [],
   "source": [
    "unmasked_counts = [x for x in temp if (x[2] == 'N')]"
   ]
  },
  {
   "cell_type": "code",
   "execution_count": null,
   "id": "d57ea22e-3389-4e33-aecb-b964d04921a5",
   "metadata": {},
   "outputs": [],
   "source": [
    "temp = []\n",
    "for i in range(int(len(unmasked_counts)/2000)+1):\n",
    "    start = i*2000\n",
    "    stop = min(len(unmasked_counts), (i+1)*2000)\n",
    "    temp.append((unmasked_counts[start][0],unmasked_counts[stop-1][0], sum([x[1] for x in unmasked_counts[start:stop]])))"
   ]
  },
  {
   "cell_type": "code",
   "execution_count": null,
   "id": "9f195269-4876-4c69-bb4b-38693ea4a71b",
   "metadata": {},
   "outputs": [],
   "source": [
    "sns.histplot([x[2] for x in temp if x[2]<1000])"
   ]
  },
  {
   "cell_type": "code",
   "execution_count": null,
   "id": "27f48b2f-27e7-4586-9995-bce742ef5779",
   "metadata": {},
   "outputs": [],
   "source": [
    "a =len([x for x in unmasked_counts if x[1] == 0])/len(unmasked_counts)"
   ]
  },
  {
   "cell_type": "code",
   "execution_count": null,
   "id": "f3040865-815c-4118-ab09-c9ec69b932c8",
   "metadata": {},
   "outputs": [],
   "source": [
    "pow(a,70)*len(full_sequence)/70"
   ]
  },
  {
   "cell_type": "code",
   "execution_count": null,
   "id": "44c892bd-a614-4511-8d77-d1a660276908",
   "metadata": {},
   "outputs": [],
   "source": [
    "ultra_conserved_candidates = []\n",
    "lengths = []\n",
    "mutation_len = len(unmasked_counts)\n",
    "i = 0\n",
    "start = unmasked_counts[0][0]\n",
    "while i < mutation_len - 1:\n",
    "    if unmasked_counts[i][1] == 0 and (i == 0 or unmasked_counts[i][0] == unmasked_counts[i-1][0]+1):\n",
    "        i+=1\n",
    "    else:\n",
    "        stop = unmasked_counts[i-1][0]\n",
    "        zero_length = stop - start - 1\n",
    "        if zero_length < 120:\n",
    "            pass\n",
    "        else:\n",
    "            lengths.append(zero_length)\n",
    "            ultra_conserved_candidates.append([start, stop])\n",
    "        i+=1 \n",
    "        start = unmasked_counts[i][0]"
   ]
  },
  {
   "cell_type": "code",
   "execution_count": null,
   "id": "6fc1baa0-7e26-4940-a8fd-20a4ecc17d65",
   "metadata": {},
   "outputs": [],
   "source": [
    "ultra_conserved_candidates"
   ]
  },
  {
   "cell_type": "code",
   "execution_count": null,
   "id": "88242e88-5bb1-45c1-b2d1-ad2478a5db1a",
   "metadata": {},
   "outputs": [],
   "source": [
    "for i, x in enumerate(zero_and_non_zero_mutation_counts):\n",
    "    if x > 2000:\n",
    "        print(x)\n",
    "        for (locus, pseudo, product, start, stop, strand) in cds_boundaries:\n",
    "            if i >= start and i < stop:\n",
    "                print(i, start, stop, locus, product, x)\n",
    "                break"
   ]
  },
  {
   "cell_type": "code",
   "execution_count": null,
   "id": "47cc3f00-fb7d-4304-a5e1-0d94b4559401",
   "metadata": {},
   "outputs": [],
   "source": [
    "full_sequence[5077:5082]"
   ]
  },
  {
   "cell_type": "code",
   "execution_count": null,
   "id": "f684a584-361d-42d3-9cf4-45cbed3e5b65",
   "metadata": {},
   "outputs": [],
   "source": [
    "distinct_ids = []\n",
    "variants = []\n",
    "for k, v in tqdm(variant_dict.items()):\n",
    "    if set(v) in variants:\n",
    "        continue\n",
    "    else:\n",
    "        variants.append(set(v))\n",
    "        distinct_ids.append(k)"
   ]
  },
  {
   "cell_type": "code",
   "execution_count": null,
   "id": "6ca14ce1-f2b9-4a70-91b0-8e3f0d2f637d",
   "metadata": {},
   "outputs": [],
   "source": [
    "len(variant_dict)"
   ]
  },
  {
   "cell_type": "code",
   "execution_count": null,
   "id": "88834d4c-38af-4314-b4ea-9f99491bb946",
   "metadata": {},
   "outputs": [],
   "source": [
    "len(distinct_ids)"
   ]
  },
  {
   "cell_type": "code",
   "execution_count": null,
   "id": "618ef69d-d9a6-4cfd-aa4b-d9248c9aafaf",
   "metadata": {},
   "outputs": [],
   "source": [
    "pow(2,10)"
   ]
  },
  {
   "cell_type": "code",
   "execution_count": null,
   "id": "9db1ff2b-c3e3-4011-b49b-fbdb29bd9436",
   "metadata": {},
   "outputs": [],
   "source": [
    "len(position_dict)"
   ]
  },
  {
   "cell_type": "code",
   "execution_count": null,
   "id": "7cfafca0-3a61-4318-8cf3-0f81826e13e5",
   "metadata": {},
   "outputs": [],
   "source": [
    "len(var_df['UNIQUEID'].unique())"
   ]
  },
  {
   "cell_type": "code",
   "execution_count": null,
   "id": "b3d95928-2bc1-42b3-86f9-06690358d69c",
   "metadata": {},
   "outputs": [],
   "source": [
    "filter_fails = list(var_df[var_df['FRS'] <0.9]['GENOME_INDEX'].unique())"
   ]
  },
  {
   "cell_type": "code",
   "execution_count": null,
   "id": "858ac760-4ee2-49d0-8a31-79b6da127ac5",
   "metadata": {},
   "outputs": [],
   "source": [
    "a = pd.read_csv(\"F:Datasets/CRYPTIC_DATA/COMPASS.csv\", names = ['Species', 'Start', 'Stop', 'Count'])"
   ]
  },
  {
   "cell_type": "code",
   "execution_count": null,
   "id": "9b43f608-bfda-456b-984a-e18db2478562",
   "metadata": {},
   "outputs": [],
   "source": [
    "temp = []\n",
    "for i,r in a.iterrows():\n",
    "    temp.append((r['Start'], r['Stop']))"
   ]
  },
  {
   "cell_type": "code",
   "execution_count": null,
   "id": "ef5cd193-3e9d-4b81-a031-769a3057e8df",
   "metadata": {},
   "outputs": [],
   "source": [
    "len(filter_fails)"
   ]
  },
  {
   "cell_type": "code",
   "execution_count": null,
   "id": "19a9417b-a0db-4aba-b1af-04193bbb25e9",
   "metadata": {},
   "outputs": [],
   "source": [
    "len(list(var_df[var_df['IS_NULL']!=True]['GENOME_INDEX'].unique()))"
   ]
  },
  {
   "cell_type": "code",
   "execution_count": null,
   "id": "e457b232-1643-480e-a8d7-db4154bd6dd9",
   "metadata": {},
   "outputs": [],
   "source": [
    "temp = []\n",
    "for i in range(0, int(len(zero_and_non_zero_mutation_counts)/1000)):\n",
    "    temp.append([i*1000, sum(zero_and_non_zero_mutation_counts[i*1000:(i+1)*1000])])\n",
    "temp_df = pd.DataFrame(temp, columns = ['Pos','Value_Count'])"
   ]
  },
  {
   "cell_type": "code",
   "execution_count": null,
   "id": "81609b7d-e86a-4719-a295-7e12b2eed91f",
   "metadata": {},
   "outputs": [],
   "source": []
  },
  {
   "cell_type": "code",
   "execution_count": null,
   "id": "28ef0daa-4691-4a78-add7-f22b4faa99f0",
   "metadata": {},
   "outputs": [],
   "source": [
    "sns.lineplot(data = temp_df, x = 'Pos', y ='Value_Count')"
   ]
  },
  {
   "cell_type": "code",
   "execution_count": null,
   "id": "410d67ac-b568-4890-8537-6504dfd9f24a",
   "metadata": {},
   "outputs": [],
   "source": []
  }
 ],
 "metadata": {
  "kernelspec": {
   "display_name": "Python 3 (ipykernel)",
   "language": "python",
   "name": "python3"
  },
  "language_info": {
   "codemirror_mode": {
    "name": "ipython",
    "version": 3
   },
   "file_extension": ".py",
   "mimetype": "text/x-python",
   "name": "python",
   "nbconvert_exporter": "python",
   "pygments_lexer": "ipython3",
   "version": "3.9.7"
  }
 },
 "nbformat": 4,
 "nbformat_minor": 5
}
