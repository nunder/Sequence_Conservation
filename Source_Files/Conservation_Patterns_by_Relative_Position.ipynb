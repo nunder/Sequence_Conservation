{
 "cells": [
  {
   "cell_type": "markdown",
   "id": "b1e30ed4-8a0e-4a6f-96eb-dfe116dfb2de",
   "metadata": {},
   "source": [
    "#### Directories etc"
   ]
  },
  {
   "cell_type": "code",
   "execution_count": null,
   "id": "cf9c6377-5080-4c22-94db-feabe17cc47c",
   "metadata": {},
   "outputs": [],
   "source": [
    "import pandas as pd\n",
    "import pickle\n",
    "import seaborn as sns\n",
    "import matplotlib.pyplot as plt\n",
    "import numpy as np\n",
    "from scipy.fft import fft, fftfreq\n",
    "from Bio import Entrez, SeqIO, AlignIO, pairwise2, Align, Seq, motifs\n",
    "from Bio.Seq import Seq\n",
    "from Bio.SeqFeature import SeqFeature, FeatureLocation\n",
    "from scipy.stats import binom\n",
    "import math\n",
    "import random\n",
    "from tqdm import tqdm\n",
    "from Comparative_Analysis import Utilities as util\n",
    "from collections import defaultdict\n",
    "import random\n",
    "from joblib import Parallel, delayed\n",
    "from Comparative_Analysis import Blast_Functions as blastfn\n",
    "import time\n",
    "import re\n",
    "import os\n",
    "import copy\n",
    "from Comparative_Analysis import ORF_Functions as orffn\n",
    "from random import sample\n",
    "pd.options.mode.chained_assignment = None  # default='warn'\n",
    "import ete3\n",
    "import matplotlib.pyplot as plt\n",
    "from statistics import mode, median"
   ]
  },
  {
   "cell_type": "code",
   "execution_count": null,
   "id": "1988a242-f558-4643-b3a9-27272fa7bebc",
   "metadata": {},
   "outputs": [],
   "source": [
    "project_dir = 'F:/Project_Data/Project_11'\n",
    "seq_dir = 'F:/Datasets/Actinobacteria_Ref_Rep_Lev_Complete'\n",
    "dictionary_dir = 'F:/Datasets/CRYPTIC_DATA/Cryptic_Dictionaries'\n",
    "tb_species = 'NC_000962.3' \n",
    "tb_genome_filename = 'GCF_000195955.2_ASM19595v2_genomic.gbff'\n",
    "mycobrowser_dir = 'F:/Datasets/Data_From_Publications'\n",
    "num_cores = 16\n",
    "core_numbers = list(range(1, num_cores+1))"
   ]
  },
  {
   "cell_type": "code",
   "execution_count": null,
   "id": "adcbe3c9-2a57-4243-a2a9-1bc46bce7531",
   "metadata": {},
   "outputs": [],
   "source": [
    "for record in SeqIO.parse(seq_dir + '/' + tb_genome_filename, \"genbank\"):\n",
    "    full_sequence = str(record.seq)"
   ]
  },
  {
   "cell_type": "code",
   "execution_count": null,
   "id": "79a27a3c-8aed-4f53-b285-7a73ee5f9957",
   "metadata": {},
   "outputs": [],
   "source": [
    "with open(project_dir + '/Thoth_Full_Run/zero_and_non_zero_mutation_counts.pkl', 'rb') as f:\n",
    "    full_sample_zero_and_non_zero_mutation_counts = pickle.load(f)   "
   ]
  },
  {
   "cell_type": "code",
   "execution_count": null,
   "id": "bb7347aa-aa2a-4285-a09d-aaeae512694f",
   "metadata": {},
   "outputs": [],
   "source": [
    "compass_df = pd.read_csv('F:/Datasets/CRYPTIC_DATA/COMPASS.csv', names = ['species', 'start', 'stop','count'])\n",
    "compass_dict = {}\n",
    "for i, r in compass_df.iterrows():\n",
    "    for k in range(r['start'], r['stop']):     #  Should te start-1 but seems to ve inconsistency with mutations!!\n",
    "        compass_dict[k] = 'Y'"
   ]
  },
  {
   "cell_type": "markdown",
   "id": "56860b0a-e91f-4b51-b989-0c897a7b4be3",
   "metadata": {},
   "source": [
    "##### Plot p values for known CDS"
   ]
  },
  {
   "cell_type": "code",
   "execution_count": null,
   "id": "39858879-1cf7-4526-872a-b9f7aaaf67ae",
   "metadata": {},
   "outputs": [],
   "source": [
    "mycobrowser_df = pd.read_excel(mycobrowser_dir+'/Mycobrowser_Release_4.xlsx')\n",
    "temp_cds = mycobrowser_df[mycobrowser_df['Feature'].isin(['CDS','rRNA','tRNA'])][['Locus','Start','Stop','Strand','Product','Name','Functional_Category','Gene Ontology','Feature']]      #Just CDS\n",
    "mycobrowser_all_boundaries = []\n",
    "for i, r in temp_cds.iterrows():\n",
    "    if r['Strand'] == '+':\n",
    "        strand = 1\n",
    "    else:\n",
    "        strand = -1\n",
    "    mycobrowser_all_boundaries.append((r['Locus'],r['Product'], r['Start']-1, r['Stop'], strand, r['Name'], r['Functional_Category'], r['Gene Ontology'], r['Feature']))\n",
    "mycobrowser_all_boundaries.sort(key = lambda x: x[2])"
   ]
  },
  {
   "cell_type": "code",
   "execution_count": null,
   "id": "38cce946-04e8-4f12-a473-cc9cd6b06839",
   "metadata": {},
   "outputs": [],
   "source": [
    "min_intergenic_length = 100\n",
    "mycobrowser_upstream_inter_cds_boundaries = []\n",
    "for n,cds in enumerate(mycobrowser_all_boundaries):\n",
    "    if not(cds[8] == 'CDS'):\n",
    "        continue\n",
    "    strand = cds[4]\n",
    "    start = cds[2]\n",
    "    stop = cds[3]\n",
    "    if strand == 1:\n",
    "        max_stop = 0\n",
    "        for feat in mycobrowser_all_boundaries:\n",
    "            if feat[2] < start:\n",
    "                max_stop = max(max_stop, feat[3])\n",
    "        if start > max_stop + min_intergenic_length:\n",
    "                mycobrowser_upstream_inter_cds_boundaries.append((cds[0], cds[1], max_stop, start, cds[4], cds[5]))\n",
    "    if strand == -1:\n",
    "        min_start = 9999999999\n",
    "        for feat in mycobrowser_all_boundaries:\n",
    "            if feat[3] > stop:\n",
    "                min_start = min(feat[2], min_start)\n",
    "        if stop + min_intergenic_length < min_start:\n",
    "                mycobrowser_upstream_inter_cds_boundaries.append((cds[0], cds[1], stop, min_start, cds[4], cds[5]))\n"
   ]
  },
  {
   "cell_type": "code",
   "execution_count": null,
   "id": "0f280bd4-c472-4658-9b40-6baaaaeb0ae9",
   "metadata": {},
   "outputs": [],
   "source": [
    "min_intergenic_length = 100\n",
    "mycobrowser_downstream_inter_cds_boundaries = []\n",
    "for n,cds in enumerate(mycobrowser_all_boundaries):\n",
    "    if not(cds[8] == 'CDS'):\n",
    "        continue\n",
    "    strand = cds[4]\n",
    "    start = cds[2]\n",
    "    stop = cds[3]\n",
    "    if strand == -1:\n",
    "        max_stop = 0\n",
    "        for feat in mycobrowser_all_boundaries:\n",
    "            if feat[2] < start:\n",
    "                max_stop = max(max_stop, feat[3])\n",
    "        if start > max_stop + min_intergenic_length:\n",
    "            mycobrowser_downstream_inter_cds_boundaries.append((cds[0], cds[1], max_stop, start, cds[4], cds[5]))\n",
    "    if strand == 1:\n",
    "        min_start = 9999999999\n",
    "        for feat in mycobrowser_all_boundaries:\n",
    "            if feat[3] > stop:\n",
    "                min_start = min(feat[2], min_start)\n",
    "        if stop + min_intergenic_length < min_start:\n",
    "                mycobrowser_downstream_inter_cds_boundaries.append((cds[0], cds[1], stop, min_start, cds[4], cds[5]))"
   ]
  },
  {
   "cell_type": "code",
   "execution_count": null,
   "id": "d41549cb-1be1-4015-9ba6-a2fdeab506cc",
   "metadata": {},
   "outputs": [],
   "source": [
    "upstream_mutation_counts_dict = {}\n",
    "for info in mycobrowser_upstream_inter_cds_boundaries:\n",
    "    locus = info[0]\n",
    "    start = info[2]\n",
    "    stop = info[3]\n",
    "    strand = info[4]\n",
    "    if stop > len(full_sequence):\n",
    "        continue\n",
    "    if strand == 1:\n",
    "        for i in range(start, stop+100):\n",
    "            relative_position = stop-i-1\n",
    "            if relative_position in upstream_mutation_counts_dict:\n",
    "                upstream_mutation_counts_dict[relative_position].append([locus, full_sample_zero_and_non_zero_mutation_counts[i]])\n",
    "            else:\n",
    "                upstream_mutation_counts_dict[relative_position] = [[locus, full_sample_zero_and_non_zero_mutation_counts[i]]]      \n",
    "    if strand == -1:\n",
    "        for i in range(start-100, stop):\n",
    "            relative_position = i-start\n",
    "            if relative_position in upstream_mutation_counts_dict:\n",
    "                upstream_mutation_counts_dict[relative_position].append([locus, full_sample_zero_and_non_zero_mutation_counts[i]])\n",
    "            else:\n",
    "                upstream_mutation_counts_dict[relative_position] = [[locus, full_sample_zero_and_non_zero_mutation_counts[i]]]                     "
   ]
  },
  {
   "cell_type": "code",
   "execution_count": null,
   "id": "aa816757-c3f6-4140-b3bb-bdcf6c99a71b",
   "metadata": {},
   "outputs": [],
   "source": [
    "downstream_mutation_counts_dict = {}\n",
    "for info in mycobrowser_downstream_inter_cds_boundaries:\n",
    "    locus = info[0]\n",
    "    start = info[2]\n",
    "    stop = info[3]\n",
    "    strand = info[4]\n",
    "    if stop > len(full_sequence):\n",
    "        continue\n",
    "    if strand == 1:\n",
    "        for i in range(start-100, stop):\n",
    "            relative_position = i - start\n",
    "            if relative_position in downstream_mutation_counts_dict:\n",
    "                downstream_mutation_counts_dict[relative_position].append([locus, full_sample_zero_and_non_zero_mutation_counts[i]])\n",
    "            else:\n",
    "                downstream_mutation_counts_dict[relative_position] = [[locus,full_sample_zero_and_non_zero_mutation_counts[i]]]      \n",
    "    if strand == -1:\n",
    "        for i in range(start, stop+100):\n",
    "            relative_position = stop - i - 1\n",
    "            if relative_position in downstream_mutation_counts_dict:\n",
    "                downstream_mutation_counts_dict[relative_position].append([locus,full_sample_zero_and_non_zero_mutation_counts[i]])\n",
    "            else:\n",
    "                downstream_mutation_counts_dict[relative_position] = [[locus, full_sample_zero_and_non_zero_mutation_counts[i]]]                   \n"
   ]
  },
  {
   "cell_type": "code",
   "execution_count": null,
   "id": "7c3401c0-05da-4380-93d8-16b6d37c2b43",
   "metadata": {},
   "outputs": [],
   "source": [
    "temp = []\n",
    "for rel, ct in upstream_mutation_counts_dict.items():\n",
    "    if rel>=0:\n",
    "        position_type = 'Intergenic'\n",
    "    else:\n",
    "        position_type = 'Codon_NT_'+str((abs(rel)+2)%3+1)\n",
    "    temp.append([-1*rel, sum([1 for x in ct if x[1] > 0])/len(ct), position_type, 'Upstream'])     #Plot so that upstream region is shown as negative offset to start codon\n",
    "upstream_mutation_df = pd.DataFrame(temp, columns = ['relative_position','average_mutations_per_nt','position_type','region'])\n",
    "upstream_mutation_df = upstream_mutation_df[upstream_mutation_df['relative_position'] > -100]\n",
    "sns.scatterplot(data = upstream_mutation_df, x = 'relative_position', y = 'average_mutations_per_nt', hue = 'position_type')"
   ]
  },
  {
   "cell_type": "code",
   "execution_count": null,
   "id": "a7686001-14e3-4620-8391-e4e8281dcdef",
   "metadata": {},
   "outputs": [],
   "source": [
    "temp = []\n",
    "for rel, ct in downstream_mutation_counts_dict.items():\n",
    "    if rel>=0:\n",
    "        position_type = 'Intergenic'\n",
    "    else:\n",
    "        position_type = 'Codon_NT_'+str(((rel))%3+1)\n",
    "    temp.append([rel, sum([1 for x in ct if x[1] > 0])/len(ct), position_type, 'Downstream'])     #Plot so that upstream region is shown as negative offset to start codon\n",
    "downstream_mutation_df = pd.DataFrame(temp, columns = ['relative_position','average_mutations_per_nt','position_type','region'])\n",
    "downstream_mutation_df = downstream_mutation_df[downstream_mutation_df['relative_position'] < 100]\n",
    "sns.scatterplot(data = downstream_mutation_df, x = 'relative_position', y = 'average_mutations_per_nt', hue = 'position_type')"
   ]
  },
  {
   "cell_type": "code",
   "execution_count": null,
   "id": "9eea7fd1-7f35-4ade-bc00-e1a1fb6bd022",
   "metadata": {},
   "outputs": [],
   "source": [
    "temp = pd.concat([upstream_mutation_df, downstream_mutation_df])\n",
    "sns.set(rc={\"figure.figsize\": (10, 6)})\n",
    "sns.set_style(style='white')\n",
    "g = sns.FacetGrid(temp, col='region', hue = 'position_type', height=5, aspect= 1.2)\n",
    "g.map(sns.scatterplot, \"relative_position\", \"average_mutations_per_nt\")\n",
    "g.add_legend()"
   ]
  },
  {
   "cell_type": "code",
   "execution_count": null,
   "id": "6c504786-f47d-43ab-b928-7abe4c64b8d5",
   "metadata": {},
   "outputs": [],
   "source": [
    "def locus_plot(locus_name):\n",
    "\n",
    "    temp = []\n",
    "    for rel, ct in upstream_mutation_counts_dict.items():\n",
    "        if rel>=0:\n",
    "            position_type = 'Intergenic'\n",
    "        else:\n",
    "            position_type = 'Codon_NT_'+str((abs(rel)+2)%3+1)\n",
    "        temp.append([-1*rel, sum([x[1] for x in ct if x[1] > 0 and x[0] == locus_name]), position_type, 'Upstream'])     #Plot so that upstream region is shown as negative offset to start codon\n",
    "    temp_df = pd.DataFrame(temp, columns = ['pos','ave_mut','position_type','region'])\n",
    "    temp_df = upstream_mutation_df[upstream_mutation_df['pos'] > -100]\n",
    "\n",
    "    temp = []\n",
    "    for rel, ct in downstream_mutation_counts_dict.items():\n",
    "        if rel>=0:\n",
    "            position_type = 'Intergenic'\n",
    "        else:\n",
    "            position_type = 'Codon_NT_'+str(((rel))%3+1)\n",
    "        temp.append([rel, sum([x[1] for x in ct if x[1] > 0 and x[0] == locus_name]), position_type, 'Downstream'])\n",
    "    temp_df_2 = pd.DataFrame(temp, columns = ['pos','ave_mut','position_type','region'])\n",
    "    temp_df_2 = downstream_mutation_df[downstream_mutation_df['pos'] < 100]\n",
    "\n",
    "    temp = pd.concat([temp_df, temp_df_2])\n",
    "    sns.set(rc={\"figure.figsize\": (10, 6)})\n",
    "    sns.set_style(style='white')\n",
    "    g = sns.FacetGrid(temp, col='region', hue = 'position_type', height=5, aspect= 1.2)\n",
    "    g.map(sns.scatterplot, \"pos\", \"ave_mut\")\n",
    "    g.add_legend()\n",
    "    "
   ]
  },
  {
   "cell_type": "code",
   "execution_count": null,
   "id": "1a4d9853-fa6b-44eb-9cf0-2976abe1dcb9",
   "metadata": {},
   "outputs": [],
   "source": [
    "locus_plot('Rv0001')"
   ]
  },
  {
   "cell_type": "code",
   "execution_count": null,
   "id": "3d104886-a845-4d1b-8187-d553e4db6edb",
   "metadata": {},
   "outputs": [],
   "source": [
    "#  Do COMPASS overlap"
   ]
  }
 ],
 "metadata": {
  "kernelspec": {
   "display_name": "Python 3 (ipykernel)",
   "language": "python",
   "name": "python3"
  },
  "language_info": {
   "codemirror_mode": {
    "name": "ipython",
    "version": 3
   },
   "file_extension": ".py",
   "mimetype": "text/x-python",
   "name": "python",
   "nbconvert_exporter": "python",
   "pygments_lexer": "ipython3",
   "version": "3.9.7"
  }
 },
 "nbformat": 4,
 "nbformat_minor": 5
}
