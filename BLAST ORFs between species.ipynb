{
 "cells": [
  {
   "cell_type": "markdown",
   "id": "b1e30ed4-8a0e-4a6f-96eb-dfe116dfb2de",
   "metadata": {},
   "source": [
    "#### Directories etc"
   ]
  },
  {
   "cell_type": "code",
   "execution_count": 1,
   "id": "cf9c6377-5080-4c22-94db-feabe17cc47c",
   "metadata": {},
   "outputs": [
    {
     "name": "stderr",
     "output_type": "stream",
     "text": [
      "C:\\Users\\nicho\\Anaconda3\\envs\\Bioinformatics\\lib\\site-packages\\ete3-3.1.2-py3.7.egg\\ete3\\evol\\parser\\codemlparser.py:221: SyntaxWarning: \"is\" with a literal. Did you mean \"==\"?\n",
      "C:\\Users\\nicho\\Anaconda3\\envs\\Bioinformatics\\lib\\site-packages\\ete3-3.1.2-py3.7.egg\\ete3\\evol\\parser\\codemlparser.py:221: SyntaxWarning: \"is\" with a literal. Did you mean \"==\"?\n"
     ]
    }
   ],
   "source": [
    "import pandas as pd\n",
    "import pickle\n",
    "import seaborn as sns\n",
    "import matplotlib.pyplot as plt\n",
    "import numpy as np\n",
    "from scipy.fft import fft, fftfreq\n",
    "from Bio import Entrez, SeqIO, AlignIO, pairwise2, Align, Seq, motifs\n",
    "from Bio.Seq import Seq\n",
    "from Bio.SeqFeature import SeqFeature, FeatureLocation\n",
    "from scipy.stats import binom\n",
    "import math\n",
    "import random\n",
    "from tqdm import tqdm\n",
    "from Comparative_Analysis import Utilities as util\n",
    "import random\n",
    "from joblib import Parallel, delayed\n",
    "from Comparative_Analysis import Blast_Functions as blastfn\n",
    "import time\n",
    "import os\n",
    "import copy\n",
    "from Comparative_Analysis import ORF_Functions as orffn\n",
    "from random import sample\n",
    "pd.options.mode.chained_assignment = None  # default='warn'\n",
    "import ete3;"
   ]
  },
  {
   "cell_type": "code",
   "execution_count": 2,
   "id": "1988a242-f558-4643-b3a9-27272fa7bebc",
   "metadata": {},
   "outputs": [],
   "source": [
    "project_dir = 'F:/Project_Data/Project_9'\n",
    "seq_dir = 'F:/Datasets/Actinobacteria_Ref_Rep_Lev_Complete'\n",
    "tb_species = 'NC_000962.3' \n",
    "sample_filenames = ['GCF_000195955.2_ASM19595v2_genomic.gbff', 'GCF_024600175.1_ASM2460017v1_genomic.gbff', 'GCF_010730055.1_ASM1073005v1_genomic.gbff', 'GCF_020616615.1_ASM2061661v1_genomic.gbff', 'GCF_010731535.1_ASM1073153v1_genomic.gbff',\n",
    "                    'GCF_022370755.1_ASM2237075v1_genomic.gbff', 'GCF_016745295.1_ASM1674529v1_genomic.gbff', 'GCF_000157895.3_ASM15789v2_genomic.gbff', 'GCF_900603025.1_MHAS_genomic.gbff', 'GCF_018363015.1_ASM1836301v1_genomic.gbff',\n",
    "                    'GCF_019645855.1_ASM1964585v1_genomic.gbff', 'GCF_010727945.1_ASM1072794v1_genomic.gbff', 'GCF_010731895.1_ASM1073189v1_genomic.gbff', 'GCF_900637205.1_50279_G01_genomic.gbff', 'GCF_000184435.1_ASM18443v1_genomic.gbff']\n",
    "tb_reannotation_filename = 'annot.gbk'\n",
    "num_cores = 16\n",
    "core_numbers = list(range(1, num_cores+1))\n",
    "min_intergenic_length = 50"
   ]
  },
  {
   "cell_type": "markdown",
   "id": "198ce0ae-2b01-482b-83cb-93c720537916",
   "metadata": {},
   "source": [
    "#### Find all (maximal nested) ORFs for all species in sample"
   ]
  },
  {
   "cell_type": "code",
   "execution_count": 3,
   "id": "5c7cc1e9-23d9-4134-a0d0-0594d77575c6",
   "metadata": {
    "tags": []
   },
   "outputs": [
    {
     "name": "stderr",
     "output_type": "stream",
     "text": [
      "100%|██████████| 15/15 [02:19<00:00,  9.31s/it]\n"
     ]
    }
   ],
   "source": [
    "orf_dict = {}\n",
    "organism_name_dict = {}\n",
    "for filename in tqdm(sample_filenames):\n",
    "    record = next(SeqIO.parse(seq_dir + '/' + filename, \"genbank\"))\n",
    "    organism_name = record.annotations['organism']\n",
    "    accession_ver = record.annotations['accessions'][0] + '.' + str(record.annotations['sequence_version'])\n",
    "    sequence = str(record.seq)\n",
    "    ORFFinder = orffn.ORF_Finder(sequence)\n",
    "    orfs = ORFFinder.max_orf(0, len(sequence), output_orfs = 'Nested', min_orf_length = 50)\n",
    "    orf_dict[accession_ver] = (sequence, orfs)\n",
    "    organism_name_dict[accession_ver] = organism_name"
   ]
  },
  {
   "cell_type": "markdown",
   "id": "a68bc4bc-dbbe-48fe-a8e8-9da2ead8e069",
   "metadata": {},
   "source": [
    "#### Set up dataframe with annotated (based on PGP run) M.tb feature boundaries and Mycobrowser M.tb feature boundaries"
   ]
  },
  {
   "cell_type": "code",
   "execution_count": 4,
   "id": "8efb2a8e-fcbb-40a1-a9fd-2ffb5ce230eb",
   "metadata": {},
   "outputs": [],
   "source": [
    "xls = pd.ExcelFile('F:/Datasets/Data_From_Publications/Mycobrowser_Release_4.xlsx')\n",
    "mycobrowser_df = pd.read_excel(xls)\n",
    "genbank_cds_boundaries = []\n",
    "mycobrowser_cds_boundaries = []\n",
    "mycobrowser_feature_boundaries = []\n",
    "for genome_record in SeqIO.parse(project_dir + '/' + tb_reannotation_filename, \"genbank\"):\n",
    "    for feature in genome_record.features:\n",
    "        if feature.type not in ('source', 'gene'):\n",
    "            a = feature.qualifiers  \n",
    "            genbank_cds_boundaries.append((int(feature.location.start), int(feature.location.end), int(feature.location.strand))) \n",
    "\n",
    "for i,r in mycobrowser_df.iterrows():\n",
    "    if r['Strand'] == '+':\n",
    "        strand = 1\n",
    "    else:\n",
    "        strand = -1\n",
    "    if r['Feature'] == 'CDS':\n",
    "        mycobrowser_cds_boundaries.append((r['Start']-1,r['Stop'], strand, r['Stop'] - r['Start']))\n",
    "    mycobrowser_feature_boundaries.append((r['Start']-1,r['Stop'], strand, r['Stop'] - r['Start']))"
   ]
  },
  {
   "cell_type": "markdown",
   "id": "8b69b1b3-e1db-45dc-a986-222fe9166450",
   "metadata": {},
   "source": [
    "#### Find non-nested ORFs in mycobrowser inter-feature regions - candidate novel ORFs"
   ]
  },
  {
   "cell_type": "code",
   "execution_count": 5,
   "id": "158b400e-2f5f-4e4a-a958-47769a72e738",
   "metadata": {},
   "outputs": [],
   "source": [
    "mycobrowser_inter_feature_orfs = []\n",
    "mycobrowser_feature_boundaries.sort(key = lambda x: x[1])\n",
    "max_stop = 0\n",
    "tb_sequence = orf_dict[tb_species][0]\n",
    "ORFFinder = orffn.ORF_Finder(tb_sequence)\n",
    "for i, (start, stop, strand, length) in enumerate(mycobrowser_feature_boundaries):\n",
    "    if i < len(mycobrowser_feature_boundaries) - 1:\n",
    "        max_stop = max(stop, max_stop)\n",
    "        if mycobrowser_feature_boundaries[i+1][1] > max_stop + min_intergenic_length:\n",
    "            a =ORFFinder.max_orf(max_stop-5, mycobrowser_feature_boundaries[i+1][1]+5, output_orfs = 'Nested', min_orf_length = 50)\n",
    "            for x in a:\n",
    "                mycobrowser_inter_feature_orfs.append(x)"
   ]
  },
  {
   "cell_type": "code",
   "execution_count": 6,
   "id": "8903f924-ae32-4e8b-a6dc-73d5dbd6deb9",
   "metadata": {},
   "outputs": [],
   "source": [
    "mycobrowser_inter_feature_orfs_dict = {}\n",
    "mycobrowser_inter_feature_orfs_dict[tb_species] = (orf_dict[tb_species][0], mycobrowser_inter_feature_orfs)\n",
    "mycobrowser_cds_dict = {}\n",
    "mycobrowser_cds_dict[tb_species] = (orf_dict[tb_species][0], [x for x in mycobrowser_cds_boundaries])"
   ]
  },
  {
   "cell_type": "markdown",
   "id": "e2683970-7a45-419b-875a-0ca44f8b7a66",
   "metadata": {},
   "source": [
    "#### Produce FASTA file with CDS candidates"
   ]
  },
  {
   "cell_type": "code",
   "execution_count": 7,
   "id": "16dcdc22-a45b-495a-ab68-91f61a13ab41",
   "metadata": {},
   "outputs": [],
   "source": [
    "def produce_orf_protein_fasta_file(orf_dict, output_file):\n",
    "    trans = util.Translator()\n",
    "    temp = []\n",
    "    for k, v in orf_dict.items():\n",
    "        full_sequence = v[0]\n",
    "        orf_list = v[1]\n",
    "        for x in orf_list:\n",
    "            if x[2] == 1:\n",
    "                prot = trans.translate_sequence(full_sequence[x[0]:x[1]], 1, 0)\n",
    "            else:\n",
    "                prot = trans.translate_sequence(util.reverse_complement(full_sequence[x[0]:x[1]]), 1, 0)\n",
    "            name = k + '@' +str(x[0])+'_'+str(x[1])+'_'+str(x[2])\n",
    "            temp.append([name, prot[:-1]])\n",
    "    util.produce_fasta_file(temp, output_file)"
   ]
  },
  {
   "cell_type": "code",
   "execution_count": null,
   "id": "6bb7463b-a48f-44ca-ab4e-4b039927696e",
   "metadata": {},
   "outputs": [],
   "source": [
    "produce_orf_protein_fasta_file(orf_dict, project_dir + '/comparator_orfs.fasta')"
   ]
  },
  {
   "cell_type": "code",
   "execution_count": null,
   "id": "7b2ee4b6-f027-4531-be91-6c42cc60c161",
   "metadata": {},
   "outputs": [],
   "source": [
    "produce_orf_protein_fasta_file(mycobrowser_inter_feature_orfs_dict, project_dir + '/mycobrowser_inter_feature_orfs.fasta')"
   ]
  },
  {
   "cell_type": "code",
   "execution_count": null,
   "id": "c291ba72-8ea3-4b33-b4f6-7021305a26bc",
   "metadata": {},
   "outputs": [],
   "source": [
    "produce_orf_protein_fasta_file(mycobrowser_cds_dict, project_dir + '/mycobrowser_cds.fasta')"
   ]
  },
  {
   "cell_type": "code",
   "execution_count": null,
   "id": "0f3fd8c7-cc87-465f-908c-8071edab3409",
   "metadata": {},
   "outputs": [],
   "source": [
    "blastfn.build_blast_db(project_dir, 'comparator_orfs.fasta', 'comparator_orfs', 'F:/Datasets/BLAST/comparator_orfs')\n",
    "blastfn.build_blast_db(project_dir, 'mycobrowser_inter_feature_orfs.fasta', 'mycobrowser_inter_feature_orfs', 'F:/Datasets/BLAST/mycobrowser_inter_feature_orfs')"
   ]
  },
  {
   "cell_type": "code",
   "execution_count": null,
   "id": "3ad29f43-3a81-4be3-a424-ed8e8542b64e",
   "metadata": {},
   "outputs": [],
   "source": [
    "blastfn.run_blastp('F:/Datasets/BLAST/comparator_orfs', 'mycobrowser_cds.fasta', 'comparator_orfs', 'hits.csv', e_value = 1e-10)"
   ]
  },
  {
   "cell_type": "code",
   "execution_count": 9,
   "id": "e10e315f-c55c-4f12-9df0-b9ecbd33acb5",
   "metadata": {},
   "outputs": [],
   "source": [
    "blastfn.run_blastp('F:/Datasets/BLAST/comparator_orfs', 'mycobrowser_inter_feature_orfs.fasta', 'comparator_orfs', 'if_hits.csv', e_value = 1e-10)"
   ]
  },
  {
   "cell_type": "markdown",
   "id": "863fd81e-4857-45be-9760-ddd0daaf0f7f",
   "metadata": {},
   "source": [
    "#### Analyse CDS orthologs in target species"
   ]
  },
  {
   "cell_type": "code",
   "execution_count": 15,
   "id": "e1371e94-c64b-4122-9f53-896949bbe6e2",
   "metadata": {},
   "outputs": [],
   "source": [
    "blast_output = blastfn.process_blast_output('F:/Datasets/BLAST/comparator_orfs/hits.csv', organism_name_dict, top_hit_only = False)"
   ]
  },
  {
   "cell_type": "code",
   "execution_count": null,
   "id": "1af198cc-838a-460a-8b33-39ddc1485063",
   "metadata": {},
   "outputs": [],
   "source": [
    "test = blast_output[blast_output['target_species_name'] == 'Mycobacterium shinjukuense'];\n",
    "test['num_identical_matches'] = test['alignment_length'] * test['percent_identical_matches']/100;\n",
    "test['max_identical_query_matches'] = test.groupby('query_ref')['num_identical_matches'].transform('max');\n",
    "test['max_identical_target_matches'] = test.groupby('target_ref')['num_identical_matches'].transform('max');\n",
    "test = test[test['num_identical_matches']>0.8*test['max_identical_query_matches']]\n",
    "test = test[test['num_identical_matches']>0.8*test['max_identical_target_matches']]\n",
    "test = test[test['percent_identical_matches'] > 0]\n",
    "test['count_matches'] = test.groupby('query_ref')['target_ref'].transform('count');\n",
    "\n",
    "for i, r in test.iterrows():\n",
    "        test.at[i,'tb_start'] = int(r['query_ref'].split('@')[1].split('_')[0])\n",
    "        test.at[i,'target_start'] = int(r['target_ref'].split('@')[1].split('_')[0])\n",
    "        \n",
    "test.to_csv(project_dir + '/test.csv')"
   ]
  },
  {
   "cell_type": "code",
   "execution_count": 21,
   "id": "a48ec1f2-34a7-4609-be62-befc494012f7",
   "metadata": {},
   "outputs": [
    {
     "data": {
      "text/plain": [
       "<AxesSubplot:xlabel='tb_start', ylabel='target_start'>"
      ]
     },
     "execution_count": 21,
     "metadata": {},
     "output_type": "execute_result"
    },
    {
     "data": {
      "image/png": "[encoded data removed]",
      "text/plain": [
       "<Figure size 432x288 with 1 Axes>"
      ]
     },
     "metadata": {
      "needs_background": "light"
     },
     "output_type": "display_data"
    }
   ],
   "source": [
    "sns.scatterplot(data = test, x  = 'tb_start', y = 'target_start', s=1 )"
   ]
  },
  {
   "cell_type": "code",
   "execution_count": 22,
   "id": "b14edf3b-c9b9-4966-a29a-db6fd199f483",
   "metadata": {},
   "outputs": [
    {
     "data": {
      "text/plain": [
       "<AxesSubplot:xlabel='percent_identical_matches', ylabel='Count'>"
      ]
     },
     "execution_count": 22,
     "metadata": {},
     "output_type": "execute_result"
    },
    {
     "data": {
      "image/png": "[encoded data removed]",
      "text/plain": [
       "<Figure size 432x288 with 1 Axes>"
      ]
     },
     "metadata": {
      "needs_background": "light"
     },
     "output_type": "display_data"
    }
   ],
   "source": [
    "sns.histplot(data = test, x = 'percent_identical_matches')"
   ]
  },
  {
   "cell_type": "markdown",
   "id": "61ab8568-1a2c-43c6-b96b-c670c5153c19",
   "metadata": {},
   "source": [
    "#### Analyse interfeature orthologs in target species"
   ]
  },
  {
   "cell_type": "code",
   "execution_count": 13,
   "id": "4f0a0d50-f316-49e9-ac32-00c8c7806ed3",
   "metadata": {},
   "outputs": [
    {
     "name": "stderr",
     "output_type": "stream",
     "text": [
      "176it [00:00, 2687.99it/s]\n"
     ]
    }
   ],
   "source": [
    "if_blast_output = blastfn.process_blast_output('F:/Datasets/BLAST/comparator_orfs/if_hits.csv', organism_name_dict, top_hit_only = False)\n",
    "if_test = if_blast_output[if_blast_output['target_species_name'] == 'Mycobacterium shinjukuense'];\n",
    "if_test['Overlap'] = 0\n",
    "if_test['Genbank_Coordinates'] = ''\n",
    "\n",
    "for i, r in tqdm(if_test.iterrows()):\n",
    "    start = int(r['query_ref'].split('@')[1].split('_')[0])\n",
    "    stop = int(r['query_ref'].split('@')[1].split('_')[1])\n",
    "    strand = int(r['query_ref'].split('@')[1].split('_')[2])\n",
    "    highest_overlap = 0\n",
    "    hit = 0\n",
    "    for feature in genbank_cds_boundaries:\n",
    "            if start <= feature[1] and stop >= feature[0]:\n",
    "                overlap = (min(stop, feature[1]) - max(start, feature[0]))/(stop - start)\n",
    "                if overlap > highest_overlap:\n",
    "                    hit = 1\n",
    "                    highest_overlap = overlap\n",
    "                    highest_entry = feature\n",
    "    if hit == 1:\n",
    "        if_test.at[i,'Overlap'] = highest_overlap\n",
    "        if_test.at[i,'Genbank_Coordinates'] = highest_entry\n",
    "\n",
    "if_test.to_csv(project_dir + '/if_test.csv')"
   ]
  },
  {
   "cell_type": "code",
   "execution_count": null,
   "id": "a9b83959-05b3-4bdc-9668-4ed95c633c6d",
   "metadata": {},
   "outputs": [],
   "source": []
  },
  {
   "cell_type": "code",
   "execution_count": null,
   "id": "922aeab9-6318-4a3e-bcc4-a4a65c5a5d64",
   "metadata": {},
   "outputs": [],
   "source": [
    "blast_results_df"
   ]
  },
  {
   "cell_type": "code",
   "execution_count": null,
   "id": "d3853493-d17b-404f-87f6-12d333067660",
   "metadata": {},
   "outputs": [],
   "source": [
    "def produce_non_shadowed_orfs(orfs):\n",
    "    a = orfs\n",
    "    a.sort(key = lambda x: x[3], reverse = True)\n",
    "    orf_list = [a[0]]\n",
    "    for x in tqdm(a[1:]):\n",
    "        matched = 0\n",
    "        for v in orf_list:\n",
    "            if x[1] > v[0] and x[0]<=v[1]:\n",
    "                matched = 1\n",
    "                break\n",
    "               \n",
    "        if matched == 0:\n",
    "            orf_list.append(x)\n",
    "    orf_list.sort(key = lambda x: x[0])\n",
    "    return orf_list"
   ]
  }
 ],
 "metadata": {
  "kernelspec": {
   "display_name": "Python 3 (ipykernel)",
   "language": "python",
   "name": "python3"
  },
  "language_info": {
   "codemirror_mode": {
    "name": "ipython",
    "version": 3
   },
   "file_extension": ".py",
   "mimetype": "text/x-python",
   "name": "python",
   "nbconvert_exporter": "python",
   "pygments_lexer": "ipython3",
   "version": "3.9.7"
  }
 },
 "nbformat": 4,
 "nbformat_minor": 5
}
