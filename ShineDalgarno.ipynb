{
 "cells": [
  {
   "cell_type": "code",
   "execution_count": 1,
   "id": "0cb2f38a-3c12-4916-8913-b1644afe105e",
   "metadata": {},
   "outputs": [],
   "source": [
    "import pandas as pd\n",
    "pd.options.mode.chained_assignment = None  \n",
    "import pickle\n",
    "import seaborn as sns\n",
    "import matplotlib.pyplot as plt\n",
    "import numpy as np\n",
    "from Bio import Entrez, SeqIO, AlignIO, pairwise2, Align, Seq, motifs\n",
    "from Bio.Seq import Seq\n",
    "from Bio.SeqFeature import SeqFeature, FeatureLocation\n",
    "from scipy.stats import binom\n",
    "import math\n",
    "import time\n",
    "from tqdm.auto import tqdm\n",
    "import random\n",
    "import copy\n",
    "from joblib import Parallel, delayed\n",
    "import os\n",
    "import shutil\n",
    "import subprocess\n",
    "from Bio.Blast import NCBIWWW, NCBIXML\n",
    "from Bio.Align.Applications import MuscleCommandline\n",
    "import re\n",
    "import shutil\n",
    "from Comparative_Analysis import Sequence_Analysis_Routines as sar\n",
    "from Comparative_Analysis import Utilities as util\n",
    "from Comparative_Analysis import Alignment as align\n",
    "from Comparative_Analysis import Blast_Functions as blastfn\n",
    "from scipy.stats import chi2\n",
    "from IPython import display\n",
    "\n",
    "num_cores = 16\n",
    "core_numbers = list(range(1, num_cores+1))\n",
    "project_dir = 'D:/Project_Data/Project_9/SD_Region_Actinobacteria_All_Levels'\n",
    "output_dir = project_dir + '/Output'\n",
    "#seq_dir = 'F:/Datasets/NCBI_Refseq_Mycobacteriaceae_All_Levels/ncbi_dataset/data'\n",
    "#tb_species = 'NC_000962.3' \n",
    "#tb_genome_filename = 'GCF_000195955.2/genomic.gbff'\n",
    "\n",
    "seq_dir = 'F:/Datasets/NCBI_Refseq_Actinobacteria_All_Levels/data'\n",
    "tb_species = 'NC_000962.3' \n",
    "tb_genome_filename = '/GCF_000195955.2/genomic.gbff'\n",
    "\n",
    "e_val = 5e-2\n",
    "produce_data = True"
   ]
  },
  {
   "cell_type": "code",
   "execution_count": 2,
   "id": "c54006ed-6479-49a8-9e50-546d25dd8b4a",
   "metadata": {},
   "outputs": [],
   "source": [
    "def reverse_complement(seq_string):\n",
    "    complement_dict = {'A':'T','C':'G','G':'C','T':'A'}\n",
    "    temp = []\n",
    "    for char in reversed(seq_string):\n",
    "        if char in complement_dict:\n",
    "            temp.append(complement_dict[char])\n",
    "        else:\n",
    "            return('')\n",
    "    return ''.join(temp)"
   ]
  },
  {
   "cell_type": "code",
   "execution_count": 3,
   "id": "b7058cb0-8529-4a01-af5d-58760d251c00",
   "metadata": {},
   "outputs": [
    {
     "name": "stdout",
     "output_type": "stream",
     "text": [
      "1757\n",
      "1748\n"
     ]
    }
   ],
   "source": [
    "file_list_temp = util.list_dirs(seq_dir)\n",
    "file_list = [x for x in file_list_temp if os.path.exists(seq_dir + '/' + x + '/genomic.gbff')]\n",
    "#file_list= util.list_files(seq_dir)\n",
    "print(len(file_list_temp))\n",
    "print(len(file_list))"
   ]
  },
  {
   "cell_type": "code",
   "execution_count": 16,
   "id": "0094af3e-f50e-4641-809f-641cd3045754",
   "metadata": {},
   "outputs": [],
   "source": [
    "def generate_rprotein_list(num_subsets, subset_num, id_list):\n",
    "    ids = util.chunk_list(id_list, num_subsets, subset_num)\n",
    "    temp = []\n",
    "    for filename in ids:\n",
    "        for record in SeqIO.parse(seq_dir + '/' + filename + '/genomic.gbff', \"genbank\"):\n",
    "        #for record in SeqIO.parse(seq_dir + '/' + filename, \"genbank\"):    \n",
    "            organism_name = record.annotations['organism']\n",
    "            taxonomy = record.annotations['taxonomy']\n",
    "            accession_ver = record.annotations['accessions'][0] + '.' + str(record.annotations['sequence_version'])\n",
    "            organism_accession = organism_name.replace(' ', '_') + '_' + accession_ver\n",
    "            full_sequence = str(record.seq)\n",
    "            features = []\n",
    "            for feature in record.features:\n",
    "                a = feature.qualifiers\n",
    "                if a.get(\"product\")!= None and a.get(\"locus_tag\")!= None:\n",
    "                    locus_tag = a.get(\"locus_tag\")[0]\n",
    "                    accession_locus = accession_ver + '@' + locus_tag\n",
    "                    product = a.get(\"product\")[0]\n",
    "                    features.append([(accession_locus, product), int(feature.location.start), int(feature.location.end), int(feature.location.strand)])\n",
    "            features.sort(key=lambda x: x[1])\n",
    "            utr_coords = (-100,0)\n",
    "            for i, feature in enumerate(features):\n",
    "                if 'ibosomal' in feature[0][1] and 'protein' in feature[0][1]:\n",
    "                    if feature[3] == 1:\n",
    "                        utr_sequence = full_sequence[feature[1]-100: feature[1]]\n",
    "                    else:\n",
    "                        utr_sequence =  reverse_complement(full_sequence[feature[2]: feature[2]+100])\n",
    "                    temp.append([organism_name, feature[0], taxonomy, (feature[1], feature[2], feature[3]), (utr_coords, utr_sequence)])\n",
    "    return temp"
   ]
  },
  {
   "cell_type": "code",
   "execution_count": 17,
   "id": "4b7c8b61-c1da-4521-ba3f-c0c76f7284e2",
   "metadata": {},
   "outputs": [],
   "source": [
    "if produce_data == True:\n",
    "    parallel_output = Parallel(n_jobs=-1)(delayed(generate_rprotein_list)(num_cores, core_number, file_list) for core_number in core_numbers)\n",
    "    temp = [item for sublist in parallel_output for item in sublist]\n",
    "    rprotein_dict = {}\n",
    "    name_dict = {}\n",
    "    for x in temp:\n",
    "        if not(x[1][0].split('@')[0] in name_dict):\n",
    "            name_dict[x[1][0].split('@')[0]] = (x[0], x[2])\n",
    "        rprotein_dict[x[1][0]] = [x[1][1], x[3], x[4]]\n",
    "    with open(output_dir + '/name_dict.pkl', 'wb') as f:\n",
    "        pickle.dump(name_dict, f) \n",
    "    with open(output_dir + '/rprotein_dict.pkl', 'wb') as f:\n",
    "        pickle.dump(rprotein_dict, f) "
   ]
  },
  {
   "cell_type": "code",
   "execution_count": 5,
   "id": "e8c54ef0-8e30-4c77-bc7d-feacf5b5e917",
   "metadata": {},
   "outputs": [],
   "source": [
    "with open(output_dir + '/name_dict.pkl', 'rb') as f:\n",
    "    name_dict = pickle.load(f) \n",
    "with open(output_dir + '/rprotein_dict.pkl', 'rb') as f:\n",
    "    rprotein_dict = pickle.load(f) "
   ]
  },
  {
   "cell_type": "code",
   "execution_count": 9,
   "id": "5fe90a46-1503-4bcd-8632-b9165051e2d1",
   "metadata": {},
   "outputs": [],
   "source": [
    "ribosomal_protein_ids = []\n",
    "ribosomal_protein_info = []\n",
    "for record in SeqIO.parse(seq_dir + '/' + tb_genome_filename, \"genbank\"):\n",
    "    full_sequence = str(record.seq)\n",
    "    for feature in record.features:\n",
    "        a = feature.qualifiers\n",
    "        start=(feature.location.start)\n",
    "        stop= int(feature.location.end)\n",
    "        strand = int(feature.location.strand)\n",
    "        if strand == 1:\n",
    "              utr_sequence = full_sequence[start-20:start]\n",
    "        else:\n",
    "              utr_sequence =  reverse_complement(full_sequence[stop: stop+20])\n",
    "        if a.get(\"product\") != None:\n",
    "            if 'ibosomal' in a.get(\"product\")[0] and 'protein' in a.get(\"product\")[0]:\n",
    "                ribosomal_protein_info.append([a.get(\"product\")[0].split('/')[0].split(' ')[-1:][0], utr_sequence])\n",
    "                ribosomal_protein_ids.append(a.get(\"product\")[0].split('/')[0].split(' ')[-1:][0])"
   ]
  },
  {
   "cell_type": "code",
   "execution_count": 18,
   "id": "91b630c4-2b33-4844-8890-893c95f8681e",
   "metadata": {
    "tags": []
   },
   "outputs": [
    {
     "name": "stdout",
     "output_type": "stream",
     "text": [
      "['L10']\n"
     ]
    }
   ],
   "source": [
    "ribosomal_protein_ids = ['L10']\n",
    "#ribosomal_protein_ids.remove('L10')\n",
    "print(ribosomal_protein_ids)\n",
    "#ribosomal_protein_ids = ribosomal_protein_ids[3:]\n",
    "#print(ribosomal_protein_ids)"
   ]
  },
  {
   "cell_type": "code",
   "execution_count": 21,
   "id": "34e63b2d-cf35-45f8-92b3-6ab6e1ab1685",
   "metadata": {
    "tags": []
   },
   "outputs": [
    {
     "name": "stdout",
     "output_type": "stream",
     "text": [
      "1751\n"
     ]
    },
    {
     "name": "stderr",
     "output_type": "stream",
     "text": [
      "100%|██████████| 1751/1751 [00:00<00:00, 441944.05it/s]\n"
     ]
    }
   ],
   "source": [
    "for rprotein_id in ribosomal_protein_ids:    \n",
    "    temp_results_dir = output_dir + '/' + rprotein_id\n",
    "    results_dir = temp_results_dir.replace(' ','_')\n",
    "    wsl_results_dir = util.wslname(results_dir)\n",
    "    malign_output_filename = 'malign.faa'\n",
    "    malign_output_sto_filename = 'malign.sto'\n",
    "    sequence_list = []\n",
    "    \n",
    "    if not os.path.exists(results_dir):\n",
    "        os.makedirs(results_dir)\n",
    "    \n",
    "    for k, v in rprotein_dict.items():\n",
    "        if rprotein_id in v[0].split('/')[0]:\n",
    "            sequence_list.append([k,v[2][1]])\n",
    "    print (len(sequence_list))\n",
    "    region_file_name = 'all_upstream_regions.faa'\n",
    "    util.produce_fasta_file(sequence_list, results_dir + '/' + region_file_name)\n",
    "\n",
    "    result = subprocess.run('wsl echo magpie | sudo -S mafft ' + wsl_results_dir + '/' + region_file_name + ' > ' + wsl_results_dir + '/' + malign_output_filename, capture_output=True, text=True)\n",
    "    \n",
    "    blastfn.hmmer_build(results_dir, malign_output_filename, 'hmm.hmm')\n",
    "\n",
    "    for i in range(3):\n",
    "        blastfn.nhmmer_search_model(results_dir, 'hmm.hmm', results_dir, region_file_name, 'align_sto', 'output.txt', 'hsummary,txt', e_val)\n",
    "        blastfn.hmmer_build(results_dir, 'align_sto', 'hmm.hmm')\n",
    "\n",
    "\n",
    "    blastfn.nhmmer_search_model(results_dir, 'hmm.hmm', results_dir, region_file_name, 'align.sto', 'output.txt', 'hsummary,txt', e_val)\n",
    "\n",
    "    blastfn.infernal_build_and_calib(results_dir, 'align.sto' ,'cm_1.cm', False)\n",
    "    blastfn.infernal_search(results_dir, 'cm_1.cm', results_dir, region_file_name, 'search_1.sto', 'search_hits_1.txt', 'summary_1.txt', e_val) \n",
    "   \n",
    "    blastfn.run_rscape(results_dir, 'search_1.sto', 'rscape_1')\n",
    "    #blastfn.hmmer_build(results_dir, malign_output_filename, 'hmm.hmm')\n",
    "\n",
    "    #blastfn.nhmmer_search_model(results_dir, 'hmm.hmm', results_dir, region_file_name, 'align.sto', 'output.txt', 'hsummary,txt', 1)\n",
    "   \n",
    "    #blastfn.run_rscape(results_dir,'align.sto', 'rscape_1')"
   ]
  },
  {
   "cell_type": "code",
   "execution_count": null,
   "id": "b2752cb9-280d-4885-a42d-a6ffc85a3e15",
   "metadata": {},
   "outputs": [],
   "source": [
    "seq_dir"
   ]
  },
  {
   "cell_type": "code",
   "execution_count": null,
   "id": "e1d4e493-3d32-4152-8a72-a951d5abccea",
   "metadata": {},
   "outputs": [],
   "source": [
    "translator = util.Translator()\n",
    "temp = []\n",
    "for record in SeqIO.parse('C:/Users/nicho/Downloads/ncbi_dataset/ncbi_dataset/data/GCF_013697105.1/genomic.gbff', \"genbank\"):\n",
    "        organism_name = record.annotations['organism']\n",
    "        taxonomy = record.annotations['taxonomy']\n",
    "        accession_ver = record.annotations['accessions'][0] + '.' + str(record.annotations['sequence_version'])\n",
    "        organism_accession = organism_name.replace(' ', '_') + '_' + accession_ver\n",
    "        full_sequence = str(record.seq)\n",
    "        features = []\n",
    "        for feature in record.features:\n",
    "            a = feature.qualifiers\n",
    "            if a.get(\"product\")!= None and a.get(\"locus_tag\")!= None:\n",
    "                locus_tag = a.get(\"locus_tag\")[0]\n",
    "                accession_locus = accession_ver + '@' + locus_tag\n",
    "                product = a.get(\"product\")[0]\n",
    "                features.append([(accession_locus, product), int(feature.location.start), int(feature.location.end), int(feature.location.strand)])\n",
    "        features.sort(key=lambda x: x[1])\n",
    "        for i, feature in enumerate(features):\n",
    "            if 'ibosomal' in feature[0][1] and 'protein' in feature[0][1] and 'L25' in feature[0][1]:\n",
    "                exception = 1\n",
    "                if feature[1] < feature[2]:  \n",
    "                    if feature[3] == 1:\n",
    "                        if i > 0 and feature[1] > features[i-1][2]:\n",
    "                            exception = 0\n",
    "                            utr_coords = (features[i-1][2], feature[1])\n",
    "                            utr_sequence = full_sequence[features[i-1][2]: feature[1]]\n",
    "                            utr_length = len(utr_sequence)\n",
    "                    else:\n",
    "                        if i + 1 < len(features) and feature[2] < features[i+1][1]:\n",
    "                            seq = translator.translate_sequence(full_sequence[feature[1]:feature[2]], -1, 0)\n",
    "                            exception = 0\n",
    "                            utr_coords = (feature[2], features[i+1][1])\n",
    "                            utr_sequence =  reverse_complement(full_sequence[feature[2]: features[i+1][1]])\n",
    "                            utr_length = len(utr_sequence)\n",
    "                if exception == 1:\n",
    "                    utr_coords = (0,0)\n",
    "                    utr_sequence = ''\n",
    "                    utr_length = 0 \n",
    "                temp.append([organism_name, feature[0], taxonomy, (feature[1], feature[2], feature[3]), (utr_coords, seq)])\n",
    "temp"
   ]
  },
  {
   "cell_type": "code",
   "execution_count": null,
   "id": "cb5388be-970a-4521-96bc-47b4d71a0154",
   "metadata": {},
   "outputs": [],
   "source": [
    "temp"
   ]
  },
  {
   "cell_type": "code",
   "execution_count": null,
   "id": "fb4fbf95-38fd-447a-8de8-5b30262661df",
   "metadata": {},
   "outputs": [],
   "source": []
  }
 ],
 "metadata": {
  "kernelspec": {
   "display_name": "Python 3 (ipykernel)",
   "language": "python",
   "name": "python3"
  },
  "language_info": {
   "codemirror_mode": {
    "name": "ipython",
    "version": 3
   },
   "file_extension": ".py",
   "mimetype": "text/x-python",
   "name": "python",
   "nbconvert_exporter": "python",
   "pygments_lexer": "ipython3",
   "version": "3.9.7"
  }
 },
 "nbformat": 4,
 "nbformat_minor": 5
}
