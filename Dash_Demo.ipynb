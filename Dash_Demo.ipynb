{
 "cells": [
  {
   "cell_type": "code",
   "execution_count": 1,
   "id": "c2eb433f-4303-4b93-9c03-05644379fd98",
   "metadata": {},
   "outputs": [],
   "source": [
    "complement_dict = {'a':'t', 'c':'g', 'g':'c', 't':'a'}"
   ]
  },
  {
   "cell_type": "code",
   "execution_count": 7,
   "id": "852a539f-1417-46a9-8a35-8f2668f457f9",
   "metadata": {},
   "outputs": [
    {
     "data": {
      "text/plain": [
       "'a'"
      ]
     },
     "execution_count": 7,
     "metadata": {},
     "output_type": "execute_result"
    }
   ],
   "source": [
    "complement_dict['t']"
   ]
  },
  {
   "cell_type": "code",
   "execution_count": 3,
   "id": "d2bb5b4e-bff4-4eed-866e-ddd516f4a4f8",
   "metadata": {},
   "outputs": [
    {
     "name": "stdout",
     "output_type": "stream",
     "text": [
      "(1000, 2000, [3, 1, 6, 1, 52, 1, 1, 2, 6, 5, 4, 1, 2, 5, 31, 8, 21, 5, 7, 2, 2, 2, 12, 1, 1, 4, 2, 7, 5, 4, 3, 24, 4, 2, 2, 1, 1, 1, 46, 1, 1, 2, 2, 4, 3, 4, 4, 2, 3, 7, 208, 4, 2, 3, 1, 4, 4, 1, 1, 3, 1, 1, 2, 1, 2, 4, 1, 4, 4, 332, 13, 10, 2, 3, 4, 2, 3, 1, 3, 2, 1, 3, 9, 2, 3, 9, 1, 1, 1, 1, 2, 2, 1, 1, 1, 1, 3, 1, 1, 5, 2, 1, 1, 3, 1, 1, 3, 2, 3, 1, 2, 33, 1, 2, 2, 2, 1, 1, 1, 2, 1, 1, 8, 2, 6, 8, 1, 1, 1, 2, 2, 4, 3, 3, 1, 3, 2, 1, 2, 10, 4, 230, 2, 2, 3, 1, 3, 1, 1, 1, 1, 1, 2, 3, 2, 1, 3, 10, 2, 1, 2, 5, 2, 8, 1, 1, 1, 3, 2, 1, 4, 8, 4, 1, 1, 1, 3, 1, 3, 2, 3, 7, 10, 1, 20, 1, 2, 1, 10, 1, 2, 2, 3, 1, 1, 8, 9, 1, 12, 1, 1, 3, 4, 1, 21, 1, 1, 1, 1, 12, 2, 1, 8, 1, 2, 12, 13, 4, 3, 12, 3, 1, 5, 42, 13, 1, 1, 1, 7, 2, 2, 1, 1, 1, 2, 14, 10, 2, 1, 12, 1, 7, 2, 1, 10, 10, 1, 1, 1, 8, 3, 7, 1, 2, 1, 2, 3, 1, 3, 2, 2, 9, 1, 5, 1, 10, 1, 3, 8, 1, 4, 2, 5, 4, 4, 12, 4, 8, 1, 2, 8, 9, 9, 3, 1, 7, 2, 1, 11, 5, 2, 8, 1, 24, 1, 4, 3, 3, 3, 3, 1, 2, 1, 3, 1, 5, 4, 3, 7, 1, 2, 1, 2, 2, 7, 4, 1, 4, 2, 3, 4, 5, 1, 18, 1, 3, 2, 2, 4, 1, 5, 4, 5, 8, 4, 1, 24, 1, 4, 2, 5, 2, 1, 1, 2, 1, 1, 3, 2, 23, 1, 1, 4, 3, 3, 1, 2, 1, 8, 2, 1, 2, 30, 2, 2, 3, 2, 2, 8, 2, 1, 3, 1, 3, 7, 112, 4, 1, 2, 3, 1, 2, 1, 7, 3, 1, 4, 3, 3, 1, 2, 5, 2, 4, 6, 57, 32, 1, 2, 1, 6, 1, 4, 4, 2, 1, 1, 1, 2, 2, 19, 7, 1, 2, 2, 1, 7, 2, 3, 5, 5, 4, 2, 1, 1, 4, 3, 1, 2, 5, 2, 5, 4, 3, 7, 8, 1, 1, 16, 1, 1, 17, 1, 11, 1, 10, 1, 18, 1, 2, 1, 11, 1, 5, 1, 3, 14, 17, 1, 1, 1, 15, 137, 19, 1, 49, 13, 7, 1, 2, 1, 17, 5, 2, 5, 2, 3, 5, 13, 1, 4, 13, 11, 2, 5, 9, 1, 1, 17, 4, 4, 3, 27, 3, 2, 2, 3, 2, 24, 1, 1, 1, 11, 2, 1, 5, 2, 3, 1, 13, 12, 9, 12, 1, 11, 1, 10, 1, 13, 22, 2, 3, 1, 7, 9, 3, 7, 1, 8, 1, 4, 13, 3, 1, 18, 6, 4, 1, 8, 2, 12, 12, 25, 1, 1, 1, 15, 3, 2, 3, 6, 1, 1, 1, 4, 20, 1, 1, 1, 1, 6, 1, 1, 1, 1, 2, 2, 2, 1, 1, 4, 1, 1, 5, 4, 1, 1, 4, 3, 1, 1, 1, 1, 3, 1, 1, 37, 1, 1, 1, 2, 1, 1, 3, 1, 6, 12, 1, 4, 4, 1, 3, 1, 7, 2, 30, 2, 1, 2, 6, 2, 4, 3, 1, 1, 3, 5, 4, 2, 2, 1, 3, 2, 1, 63, 2, 21, 1, 3, 10, 1, 3, 1, 7, 4, 8, 2, 6, 1, 1, 5, 15, 1, 4, 6, 2, 3, 3, 5, 3, 4, 3, 5, 4, 3, 5, 4, 4, 13, 1, 2, 1, 3, 3, 8, 1, 5, 4, 1, 3, 2, 1, 1, 2, 2, 3, 1, 6, 1, 6, 2, 6, 2, 5, 10, 1, 4, 1, 2, 9, 1, 1, 4, 11, 1, 1, 3, 1, 1, 2, 1, 1, 1, 1, 11, 1, 2, 1, 3, 4, 1, 7, 3, 2, 5, 1, 2, 1, 1, 2, 3, 3, 2, 2, 1, 3, 3, 1, 4, 4, 2, 2, 2, 1, 3, 1, 2, 1, 2, 7, 1, 3, 4, 1, 1, 1, 3, 5, 1, 1, 1, 1, 1, 1, 1, 3, 1, 2, 1, 1, 2, 3, 1, 1, 1, 3, 1, 1, 1, 1, 2, 1, 1, 2, 1, 3, 1, 1, 2, 109, 3, 1, 1, 3, 3, 1, 3, 6, 1, 1, 1, 2, 29, 1, 1, 4, 3, 1, 5, 2, 3, 3, 4, 2, 3, 14, 3, 1, 2, 9, 3, 6, 1, 2, 1, 1, 1, 5, 5, 4, 1, 2, 1, 1, 1, 1, 1, 1, 1, 2, 3, 2, 2, 1, 1, 1, 21, 2, 2, 2, 3, 2, 1, 1, 1, 17, 1, 1, 2, 1, 1, 1, 1, 1, 1, 3, 4, 6, 1, 1, 3, 2, 3, 1, 3, 1, 2, 2, 15, 2, 2, 5, 1, 1, 2, 2, 2, 4, 1, 2, 1, 5, 1, 54, 3, 3, 4, 2, 1, 1, 2, 2, 3, 1, 2, 1, 1, 1, 1, 4, 69, 1, 8, 84, 1, 1, 1, 20, 4, 1, 3, 1, 6, 3, 3, 57, 4, 1, 3, 5, 3, 3, 1, 1, 1, 1, 2, 1, 2, 1, 39, 2, 2, 3, 2, 1, 1, 3, 1, 4, 1, 2, 1, 1, 1, 1, 3, 1, 2, 1, 1, 2, 3, 1, 3, 1, 1, 1, 1, 4, 2, 3, 5, 1, 2, 1, 1, 1, 1, 7, 2, 2, 1, 1, 3, 2, 1, 8, 3, 2, 1, 3, 1, 1, 1, 1, 1, 31, 6, 1, 7, 3, 2, 4, 4, 1, 1, 2, 2, 3])\n"
     ]
    }
   ],
   "source": [
    "with open('F:/Datasets/CRYPTIC_DATA/Cryptic_Mutation_Counts/mutation_counts_1000_2000_.pkl', 'rb') as f:\n",
    "    temp = pickle.load(f)\n",
    "print(temp)"
   ]
  },
  {
   "cell_type": "code",
   "execution_count": 4,
   "id": "432afda4-73d1-4fd4-8191-5492fdacfb8f",
   "metadata": {},
   "outputs": [
    {
     "name": "stdout",
     "output_type": "stream",
     "text": [
      "the desktop 0 is really impressive\n",
      "the desktop 1 is really impressive\n",
      "the desktop 2 is really impressive\n",
      "the desktop 3 is really impressive\n",
      "the desktop 4 is really impressive\n"
     ]
    }
   ],
   "source": [
    "for i in range(5):\n",
    "    print(\"the desktop \" + str(i)  + \" is really impressive\")"
   ]
  },
  {
   "cell_type": "code",
   "execution_count": null,
   "id": "a4e40b00-eecb-4686-92e7-f4f4cfdea797",
   "metadata": {},
   "outputs": [],
   "source": [
    "from jupyter_dash import JupyterDash\n",
    "import dash_bio as dashbio\n",
    "from dash import html\n",
    "import urllib.request as urlreq\n",
    "from dash.dependencies import Input, Output\n",
    "project_dir = 'F:/Project_Data/E_Pump_Project'\n",
    "import dash"
   ]
  },
  {
   "cell_type": "code",
   "execution_count": null,
   "id": "b9762b8b-2c47-474f-8fe9-c49307a61d55",
   "metadata": {},
   "outputs": [],
   "source": [
    "app = JupyterDash(__name__)\n",
    "\n",
    "#app = dash.Dash(__name__)\n",
    "\n",
    "with open(project_dir + '/align_output_AL123456.3@Rv1063c', 'r') as f:\n",
    "    data2 = f.read()\n",
    "\n",
    "app.layout = html.Div([\n",
    "    dashbio.AlignmentChart(\n",
    "        id='my-default-alignment-viewer',\n",
    "        data=data2,\n",
    "        height=1800,\n",
    "        tilewidth=30,\n",
    "    ),\n",
    "    html.Div(id='default-alignment-viewer-output')\n",
    "])\n",
    "\n",
    "@app.callback(\n",
    "    Output('default-alignment-viewer-output', 'children'),\n",
    "    Input('my-default-alignment-viewer', 'eventDatum')\n",
    ")\n",
    "def update_output(value):\n",
    "    if value is None:\n",
    "        return 'No data.'\n",
    "    return str(value)\n",
    "\n",
    "if __name__ == '__main__':\n",
    "    #app.run_server(mode='jupyterlab', debug=False)\n",
    "    #app.run_server(\"external\")\n",
    "    app.run_server(debug=False)"
   ]
  },
  {
   "cell_type": "code",
   "execution_count": null,
   "id": "22ea7bd6-2788-4623-8c92-3ea3c4dfab3a",
   "metadata": {},
   "outputs": [],
   "source": [
    "with open(project_dir + '/align_output_NC_000962.3@Rv2846c', 'r') as f:\n",
    "    data2 = f.read()\n"
   ]
  },
  {
   "cell_type": "code",
   "execution_count": null,
   "id": "5975b267-bc29-4925-a68f-bd808ff6ff33",
   "metadata": {},
   "outputs": [],
   "source": []
  }
 ],
 "metadata": {
  "kernelspec": {
   "display_name": "Python 3 (ipykernel)",
   "language": "python",
   "name": "python3"
  },
  "language_info": {
   "codemirror_mode": {
    "name": "ipython",
    "version": 3
   },
   "file_extension": ".py",
   "mimetype": "text/x-python",
   "name": "python",
   "nbconvert_exporter": "python",
   "pygments_lexer": "ipython3",
   "version": "3.9.7"
  }
 },
 "nbformat": 4,
 "nbformat_minor": 5
}
