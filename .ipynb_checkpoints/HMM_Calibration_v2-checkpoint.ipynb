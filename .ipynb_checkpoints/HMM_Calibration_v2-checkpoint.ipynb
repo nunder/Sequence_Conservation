{
 "cells": [
  {
   "cell_type": "code",
   "execution_count": 1,
   "id": "621b7a47-f9ff-41f5-a23f-0fbb71482945",
   "metadata": {},
   "outputs": [
    {
     "name": "stderr",
     "output_type": "stream",
     "text": [
      "C:\\Users\\nicho\\Anaconda3\\envs\\Projects\\lib\\site-packages\\ete3-3.1.2-py3.7.egg\\ete3\\evol\\parser\\codemlparser.py:221: SyntaxWarning: \"is\" with a literal. Did you mean \"==\"?\n",
      "C:\\Users\\nicho\\Anaconda3\\envs\\Projects\\lib\\site-packages\\ete3-3.1.2-py3.7.egg\\ete3\\evol\\parser\\codemlparser.py:221: SyntaxWarning: \"is\" with a literal. Did you mean \"==\"?\n"
     ]
    }
   ],
   "source": [
    "import numpy as np\n",
    "import random\n",
    "import math\n",
    "import matplotlib.pyplot as plt\n",
    "from scipy import optimize as opt\n",
    "import Sequence_Analysis_Routines as sar\n",
    "import ete3\n",
    "from joblib import Parallel, delayed\n",
    "from tqdm import tqdm"
   ]
  },
  {
   "cell_type": "code",
   "execution_count": 2,
   "id": "83350ad1-bc1a-4b34-9fc4-f094ca2bbe48",
   "metadata": {},
   "outputs": [],
   "source": [
    "project_dir = 'D:/Project_Data/Project_3'\n",
    "output_dir = project_dir + '/Output/Close_Species'\n",
    "non_cds_output_dir = output_dir + '/Multiple_Alignment_Data/Non_CDS'\n",
    "tb_species = 'GCF_000195955.2'"
   ]
  },
  {
   "cell_type": "code",
   "execution_count": 3,
   "id": "9b0ef1ec-db22-4df5-937e-96e0ba48d0fe",
   "metadata": {},
   "outputs": [],
   "source": [
    "file_ids = sar.list_files(non_cds_output_dir+'/')\n",
    "ids = [int(i.split('.')[0]) for i in file_ids]\n",
    "#ids.remove(1559)  #Contains S in alignment!\n",
    "outgroup_species = 'NC_008596.1'\n",
    "master_tree = ete3.Tree(output_dir + '/Trees/Concatenated_JC_Tree.treefile')\n",
    "outgroup = master_tree.search_nodes(name= outgroup_species)[0]\n",
    "outgroup.delete()"
   ]
  },
  {
   "cell_type": "code",
   "execution_count": 4,
   "id": "1b4100a3-de80-411e-98c5-0d2abf5e0208",
   "metadata": {},
   "outputs": [],
   "source": [
    "group_ids = ids\n",
    "align_dict = {}\n",
    "for group_id in group_ids:\n",
    "        alignment = sar.Alignment(non_cds_output_dir+'/'+str(group_id)+'.fasta', tb_species, 'NT')\n",
    "        alignment.modify_sequence(1, False, True)\n",
    "        align_dict[group_id] = alignment"
   ]
  },
  {
   "cell_type": "code",
   "execution_count": 10,
   "id": "18b02613-9757-4a9a-9003-edb47e938c9d",
   "metadata": {},
   "outputs": [],
   "source": [
    "def fit_hmm(params, group_ids, num_subsets, subset_num):\n",
    "    num_symbols = 4    # Inserts are randomised\n",
    "    num_states = 3\n",
    "    initial_state_probabilities = [1.0/num_states]*num_states\n",
    "    total_probability = 0\n",
    "    ids = sar.chunk_list(group_ids, num_subsets, subset_num)\n",
    "    for group_id in ids:\n",
    "        alignment = align_dict[group_id]\n",
    "        align_list =  alignment.modified_sequence_list\n",
    "        align_names = alignment.sequence_names\n",
    "        len_align_list = len(align_list[0])\n",
    "        non_cds = [x[50:len_align_list - 50] for x in align_list]\n",
    "        if len(non_cds[0]) < 10:\n",
    "            continue\n",
    "        #transition_probabilities = np.full((num_states,num_states),params[0])\n",
    "        #np.fill_diagonal(transition_probabilities, 1 - (num_states-1)*params[0])\n",
    "        a = params[0]\n",
    "        b = params[0] * params[1]\n",
    "        c = 1 - (a+b)\n",
    "        d = params[2] * params[3]\n",
    "        e = params[2]\n",
    "        f = 1 - (d+e)\n",
    "        h = params[4] * params[5]\n",
    "        i = params[4]\n",
    "        g = 1 - (h+i)\n",
    "        transition_probabilities = np.array([[a,b,c],[d,e,f],[g,h,i]])\n",
    "        observation_probabilities = sar.mutation_probs(params[len(params)-num_states:len(params)], non_cds, align_names, master_tree, num_symbols)\n",
    "        trial_hmm = sar.HMM(initial_state_probabilities, transition_probabilities, observation_probabilities)\n",
    "        trial_hmm.viterbi()\n",
    "        total_probability += trial_hmm.viterbi_log_probability * -1\n",
    "    return total_probability"
   ]
  },
  {
   "cell_type": "code",
   "execution_count": 11,
   "id": "deb5d28a-8cc4-4ac6-9ced-f3ed7862b13a",
   "metadata": {},
   "outputs": [],
   "source": [
    "def parallel_fit_hmm (params):\n",
    "    num_cores = 16\n",
    "    core_numbers = range(1, num_cores+1)\n",
    "    a = Parallel(n_jobs=-1)(delayed(fit_hmm)(params, group_ids, num_cores, core_number) for core_number in core_numbers)\n",
    "    print(params, sum(a))\n",
    "    return sum(a)  "
   ]
  },
  {
   "cell_type": "code",
   "execution_count": 12,
   "id": "c5c9a7c9-49d1-4407-add5-e2cd733f5ef9",
   "metadata": {},
   "outputs": [
    {
     "ename": "SyntaxError",
     "evalue": "invalid syntax (Temp/ipykernel_3816/1258937426.py, line 4)",
     "output_type": "error",
     "traceback": [
      "\u001b[1;36m  File \u001b[1;32m\"C:\\Users\\nicho\\AppData\\Local\\Temp/ipykernel_3816/1258937426.py\"\u001b[1;36m, line \u001b[1;32m4\u001b[0m\n\u001b[1;33m    print(res.x)\u001b[0m\n\u001b[1;37m    ^\u001b[0m\n\u001b[1;31mSyntaxError\u001b[0m\u001b[1;31m:\u001b[0m invalid syntax\n"
     ]
    }
   ],
   "source": [
    "#res = opt.minimize(parallel_fit_hmm, (0.01, 9, 4, 0.0001), method = 'Nelder-Mead', bounds = ((0.001,0.999),(0.1,10),(0.1,10), (0.1, 10)))\n",
    "#print(res.x)\n",
    "res = opt.minimize(parallel_fit_hmm, (0.9, 0.9, 0.9, 8, 4, 1), method = 'Nelder-Mead', bounds = ((0.001,0.999),(0.001,0.999),(0.001,0.999),(0.01,10),(0.01,10),(0.01,10)))\n",
    "print(res.x)"
   ]
  },
  {
   "cell_type": "code",
   "execution_count": null,
   "id": "bde164f5-4994-4911-91b5-b68f1b9072c1",
   "metadata": {},
   "outputs": [],
   "source": [
    "fitted_parameters = res.x\n",
    "transition_probabilities = np.array([[1-fitted_parameters[0],fitted_parameters[0]],[fitted_parameters[1],1-fitted_parameters[1]]])\n",
    "group_id =   1167 #1569 #1505    #  1167\n",
    "alignment = sar.Alignment(non_cds_output_dir+'/'+str(group_id)+'.fasta', tb_species, 'NT')\n",
    "alignment.modify_sequence(consensus=1)\n",
    "alignment_list =  alignment.modified_sequence_list\n",
    "alignment_names = alignment.sequence_names\n",
    "observation_probabilities = sar.mutation_probs(fitted_parameters[2], fitted_parameters[3], alignment_list, alignment_names, master_tree)\n",
    "fitted_hmm = sar.HMM(initial_state_probabilities, transition_probabilities, observation_probabilities)\n",
    "fitted_hmm.viterbi()\n",
    "print(fitted_hmm.viterbi_log_probability)\n",
    "plt.plot(fitted_hmm.viterbi_path);"
   ]
  },
  {
   "cell_type": "code",
   "execution_count": null,
   "id": "f23eb9cf-66d1-46ed-b97e-2c89c9859a02",
   "metadata": {},
   "outputs": [],
   "source": [
    "fit_hmm2([0.02087488, 0.02126647, 4.64647873, 1.10655882], group_ids, 8, 1)"
   ]
  },
  {
   "cell_type": "code",
   "execution_count": null,
   "id": "6d64a49c-1a5e-42b3-89e4-54da18fa24ae",
   "metadata": {},
   "outputs": [],
   "source": [
    "print (globals()['res_' + str(1)])"
   ]
  },
  {
   "cell_type": "code",
   "execution_count": null,
   "id": "8ded0bcc-f01a-4c38-8382-2c313b42c8d4",
   "metadata": {},
   "outputs": [],
   "source": [
    "num_cores = 8\n",
    "ans = 0\n",
    "for n in range(1, num_cores+1):\n",
    "    ans += globals()['res_' + str(n)]\n",
    "print(ans)"
   ]
  },
  {
   "cell_type": "code",
   "execution_count": null,
   "id": "e2d14cd5-be80-483a-8d2b-8a7a4dcf63e7",
   "metadata": {},
   "outputs": [],
   "source": [
    "print(globals()['nick_1'])"
   ]
  },
  {
   "cell_type": "code",
   "execution_count": null,
   "id": "0a34e3fb-13a4-4943-b594-0ec574e746b1",
   "metadata": {},
   "outputs": [],
   "source": [
    "def test(var, val):\n",
    "     globals()['res_' + str(var)] += val"
   ]
  },
  {
   "cell_type": "code",
   "execution_count": null,
   "id": "48713df7-615e-47b9-9843-ad6ae92baead",
   "metadata": {},
   "outputs": [],
   "source": [
    "test(3, 7)"
   ]
  },
  {
   "cell_type": "code",
   "execution_count": null,
   "id": "a77e2235-0ab1-40fa-bead-38afede56d7a",
   "metadata": {},
   "outputs": [],
   "source": [
    "print(res_3)"
   ]
  },
  {
   "cell_type": "code",
   "execution_count": null,
   "id": "2cd09312-6ace-497e-b586-850c705b4ca9",
   "metadata": {},
   "outputs": [],
   "source": []
  }
 ],
 "metadata": {
  "kernelspec": {
   "display_name": "Python 3 (ipykernel)",
   "language": "python",
   "name": "python3"
  },
  "language_info": {
   "codemirror_mode": {
    "name": "ipython",
    "version": 3
   },
   "file_extension": ".py",
   "mimetype": "text/x-python",
   "name": "python",
   "nbconvert_exporter": "python",
   "pygments_lexer": "ipython3",
   "version": "3.9.7"
  }
 },
 "nbformat": 4,
 "nbformat_minor": 5
}
