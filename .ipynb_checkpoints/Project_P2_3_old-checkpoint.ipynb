{
 "cells": [
  {
   "cell_type": "code",
   "execution_count": 43,
   "id": "e36786c5-8a4d-4b87-9f58-d6a718cc37c5",
   "metadata": {},
   "outputs": [],
   "source": [
    "import pandas as pd\n",
    "pd.options.mode.chained_assignment = None  # default='warn'\n",
    "import pickle\n",
    "import seaborn as sns\n",
    "import matplotlib.pyplot as plt\n",
    "import numpy as np\n",
    "from Bio import Entrez, SeqIO, AlignIO, pairwise2, Align, Seq, motifs\n",
    "from Bio.Seq import Seq\n",
    "from Bio.SeqFeature import SeqFeature, FeatureLocation\n",
    "from scipy.stats import binom\n",
    "import math\n",
    "from tqdm.auto import tqdm\n",
    "from Comparative_Analysis import Sequence_Analysis_Routines as sar\n",
    "from Comparative_Analysis import Utilities as util\n",
    "from Comparative_Analysis import Alignment as align\n",
    "from Comparative_Analysis import Blast_Functions as blastfn\n",
    "from goatools import obo_parser\n",
    "import random\n",
    "import copy\n",
    "from joblib import Parallel, delayed\n",
    "import os\n",
    "import wget\n",
    "import shutil\n",
    "import subprocess\n",
    "from Bio.Blast import NCBIWWW, NCBIXML\n",
    "from Bio.Align.Applications import MuscleCommandline\n",
    "import re\n",
    "import shutil\n",
    "from ftplib import FTP\n",
    "import Bio.UniProt.GOA as GOA"
   ]
  },
  {
   "cell_type": "code",
   "execution_count": 3,
   "id": "1c8f9536-cd01-45c5-abdb-ef4e9a9dba3b",
   "metadata": {},
   "outputs": [],
   "source": [
    "full_run = True\n",
    "project_dir = 'D:/Project_Data/Project_8'\n",
    "datasets_dir = project_dir + '/Datasets'\n",
    "output_dir = project_dir + '/Output'\n",
    "wsl_output_loc = util.wslname(output_dir)\n",
    "seq_dir = 'D:/Actinobacteria_Ref_Rep_Lev_Complete'\n",
    "blast_dir = 'D:/BLAST/actinobacteria_ref_rep_comp'\n",
    "blast_db_name = 'actinobacteria_ref_rep_comp'\n",
    "num_cores = 16\n",
    "core_numbers = list(range(1, num_cores+1))\n",
    "reference_species_filename = 'GCF_000195955.2_ASM19595v2_genomic.gbff'\n",
    "species_list = util.list_files(seq_dir)"
   ]
  },
  {
   "cell_type": "code",
   "execution_count": 151,
   "id": "bd608269-a1c2-4cb5-8f7f-2e6d0edcf7ae",
   "metadata": {},
   "outputs": [],
   "source": [
    " with open(output_dir + '/Blast_Output/reciprocal_best_hits.pkl', 'rb') as f:\n",
    "        rbh_results = pickle.load(f)"
   ]
  },
  {
   "cell_type": "code",
   "execution_count": 152,
   "id": "aea717d0-d048-4f26-94de-f27217238c3e",
   "metadata": {},
   "outputs": [],
   "source": [
    "with open(output_dir + '/gene_info_dict.pkl', 'rb') as f:\n",
    "    gene_info_dict = pickle.load(f) "
   ]
  },
  {
   "cell_type": "code",
   "execution_count": 159,
   "id": "acec513d-c0d6-4f12-87b8-dbfc647b6da7",
   "metadata": {},
   "outputs": [],
   "source": [
    "rfam_df = pd.read_excel(datasets_dir+'/RFAM_Hits_H37Rv_sorted.xlsx')"
   ]
  },
  {
   "cell_type": "code",
   "execution_count": 159,
   "id": "0fe3bfcd-2e82-46ad-b48d-776fba191578",
   "metadata": {},
   "outputs": [],
   "source": [
    "def ortholog_in_reference(accession_locus, rbh_df):\n",
    "    if len(rbh_df[rbh_df.target_ref == accession_locus]) >= 1:\n",
    "        return rbh_df[rbh_df.target_ref == accession_locus].iloc[0]['query_ref'].split('@')[1]\n",
    "    else:\n",
    "        return 'NO_ORTHOLOG'"
   ]
  },
  {
   "cell_type": "code",
   "execution_count": 525,
   "id": "8b22418f-3cca-44f2-a865-f0d16e413c83",
   "metadata": {},
   "outputs": [],
   "source": [
    "def orthologs(reference_locus):\n",
    "    temp = rbh_results[rbh_results.query_ref == 'NC_000962.3@'+ reference_locus]\n",
    "    orths = []\n",
    "    for i, r in temp.iterrows():\n",
    "        orths.append(r['target_ref'])\n",
    "    return orths"
   ]
  },
  {
   "cell_type": "code",
   "execution_count": null,
   "id": "700f8748-d089-44bc-8e04-cd2230935e75",
   "metadata": {},
   "outputs": [
    {
     "name": "stdout",
     "output_type": "stream",
     "text": [
      "D:/Project_Data/Project_8/data/go-basic.obo: fmt(1.2) rel(2022-07-01) 47,008 Terms\n"
     ]
    }
   ],
   "source": [
    "go_obo_url = 'http://purl.obolibrary.org/obo/go/go-basic.obo'\n",
    "data_folder = 'D:/Project_Data/Project_8/data'\n",
    "\n",
    "# Check if we have the ./data directory already\n",
    "if(not os.path.isfile(data_folder)):\n",
    "    # Emulate mkdir -p (no error if folder exists)\n",
    "    try:\n",
    "        os.mkdir(data_folder)\n",
    "    except OSError as e:\n",
    "        if(e.errno != 17):\n",
    "            raise e\n",
    "else:\n",
    "    raise Exception('Data path (' + data_folder + ') exists as a file. '\n",
    "                   'Please rename, remove or change the desired location of the data path.')\n",
    "\n",
    "# Check if the file exists already\n",
    "if(not os.path.isfile(data_folder+'/go-basic.obo')):\n",
    "    go_obo = wget.download(go_obo_url, data_folder+'/go-basic.obo')\n",
    "else:\n",
    "    go_obo = data_folder+'/go-basic.obo'\n",
    "go = obo_parser.GODag(go_obo)"
   ]
  },
  {
   "cell_type": "code",
   "execution_count": 46,
   "id": "51dc482e-08de-4261-8104-1bd0d2e013df",
   "metadata": {},
   "outputs": [],
   "source": [
    "import os\n",
    "from ftplib import FTP\n",
    "tb_uri = '/pub/databases/GO/goa/proteomes/30.M_tuberculosis_ATCC_25618.goa'\n",
    "tb_fn = tb_uri.split('/')[-1]\n",
    "\n",
    "# Check if the file exists already\n",
    "tb_gaf = os.path.join(data_folder, tb_fn)\n",
    "if(not os.path.isfile(tb_gaf)):\n",
    "    # Login to FTP server\n",
    "    ebi_ftp = FTP('ftp.ebi.ac.uk')\n",
    "    ebi_ftp.login() # Logs in anonymously\n",
    "    \n",
    "    # Download\n",
    "    with open(tb_gaf,'wb') as tb_fp:\n",
    "        ebi_ftp.retrbinary('RETR {}'.format(tb_uri), tb_fp.write)\n",
    "        \n",
    "    # Logout from FTP server\n",
    "    ebi_ftp.quit()\n",
    "\n",
    "with open(tb_gaf, 'rt') as tb_gaf_fp:\n",
    "    tb_funcs = {}  # Initialise the dictionary of functions\n",
    "    \n",
    "    # Iterate on each function using Bio.UniProt.GOA library.\n",
    "    for entry in GOA.gafiterator(tb_gaf_fp):\n",
    "        uniprot_id = entry.pop('DB_Object_ID')\n",
    "        tb_funcs[uniprot_id] = entry"
   ]
  },
  {
   "cell_type": "code",
   "execution_count": 63,
   "id": "06bba07b-bb1a-4055-9a14-e18f6ffe1e2c",
   "metadata": {},
   "outputs": [],
   "source": [
    "def find_go_term(locus_id):\n",
    "    name_list = []\n",
    "    for k, v in tb_funcs.items():\n",
    "        for syn in tb_funcs[k]['Synonym']:\n",
    "            if locus_id in syn:\n",
    "                name_list.append(go[tb_funcs[k]['GO_ID']].name)\n",
    "    return name_list"
   ]
  },
  {
   "cell_type": "code",
   "execution_count": 113,
   "id": "315bb792-0129-486b-a6bf-8b852a77fe7f",
   "metadata": {},
   "outputs": [],
   "source": [
    "mycobrowser_df = pd.read_excel(datasets_dir+'/Mycobrowser_Release_4.xlsx')\n",
    "features = []\n",
    "for i, r in mycobrowser_df.iterrows():\n",
    "    features.append([r['Locus'],r['Start'], r['Product']])\n",
    "features.sort(key=lambda x: x[1])\n",
    "downstream_dict = {}\n",
    "for i, feature in enumerate(features):\n",
    "    if i + 1 < len(features):\n",
    "        downstream_dict[feature[0]] = (features[i+1][0])"
   ]
  },
  {
   "cell_type": "code",
   "execution_count": 385,
   "id": "68c21521-1a88-4e64-90e4-1b25021255fc",
   "metadata": {},
   "outputs": [],
   "source": [
    "refseq_downstream_dict = {}\n",
    "genome_record = next(SeqIO.parse(seq_dir + '/' + reference_species_filename, \"genbank\"))\n",
    "features = []\n",
    "for feature in genome_record.features:\n",
    "    if not(feature.type == 'gene'):\n",
    "        a = feature.qualifiers\n",
    "        if a.get(\"locus_tag\")!= None:\n",
    "            features.append((a.get(\"locus_tag\")[0], feature.type))\n",
    "for i,feature in enumerate(features):\n",
    "    if i+1 < len(features):\n",
    "        next_feature = features[i+1][1]\n",
    "        refseq_downstream_dict[feature[0]] = next_feature\n",
    "            "
   ]
  },
  {
   "cell_type": "code",
   "execution_count": 626,
   "id": "120cd289-bae9-4f7c-8fdf-1cbe92580c7b",
   "metadata": {},
   "outputs": [],
   "source": [
    "r_scape_output_loc = project_dir + '/RScape_Run_Thoth'\n",
    "intergenic_regions = util.list_dirs(r_scape_output_loc)\n",
    "temp_rows = []\n",
    "for id in intergenic_regions:\n",
    "    if os.path.isfile(r_scape_output_loc + '/' + id + '/rscape_3.cacofold.power'):\n",
    "        with open(r_scape_output_loc + '/' + id + '/rscape_3.cacofold.power', 'r') as f:\n",
    "            num_covarying = ''\n",
    "            num_expected = ''  \n",
    "            count_near_pair = 0\n",
    "            for l in f:\n",
    "                if 'BPAIRS observed' in l:\n",
    "                    num_covarying = int(l.split('covary ')[1])\n",
    "                if 'BPAIRS expected' in l:\n",
    "                    num_expected = (l.split('covary ')[1])\n",
    "                if '*' in l:\n",
    "                    a = l.split()\n",
    "                    if abs(int(a[1]) - int(a[2])) < 3:\n",
    "                        count_near_pair += 1    \n",
    "            with open(r_scape_output_loc + '/' + id + '/search_hits_3.txt', 'r') as f:  \n",
    "                rfam_overlaps = []\n",
    "                ref_count = 0\n",
    "                tot_count = 0\n",
    "                for l in f:\n",
    "                    if (not ('#' in l)):\n",
    "                        a = l.split()\n",
    "                        if (a[16] == '!'):\n",
    "                            tot_count+=1\n",
    "                    if 'NC_000962.3' in l:\n",
    "                        a = l.split()\n",
    "                        if a[16] == '!':\n",
    "                            ref_count+=1\n",
    "                            start = min(int(a[7]),int(a[8]))\n",
    "                            stop = max(int(a[7]),int(a[8]))\n",
    "                            for i, r in rfam_df.iterrows():\n",
    "                                rfam_start = min(int(r['seq from']), int(r['seq to']))\n",
    "                                rfam_stop = max(int(r['seq from']), int(r['seq to']))\n",
    "                                pct_cover = (min(rfam_stop, stop) - max(rfam_start, start)) / (rfam_stop - rfam_start)\n",
    "                                if pct_cover > 0.1:\n",
    "                                    rfam_overlaps.append((r.accession, r['description of target'], pct_cover))\n",
    "            with open(r_scape_output_loc + '/' + id + '/rscape_3.cacofold.R2R.sto', 'r') as f: \n",
    "                r2r_near_pairs = 0\n",
    "                for l in f:\n",
    "                    if '#=GC SS_cons ' in l:\n",
    "                        for i in range(len(l)-2):\n",
    "                            if l[i:(i+2)] == '<>':\n",
    "                                r2r_near_pairs +=1\n",
    "        \n",
    "        if id in refseq_downstream_dict:\n",
    "            refseq_downstream = refseq_downstream_dict[id]\n",
    "        else:\n",
    "            refseq_downstream = ''\n",
    "        temp_rows.append([id, downstream_dict[id],  refseq_downstream , rfam_overlaps, num_covarying, num_expected, ref_count, tot_count, count_near_pair, r2r_near_pairs])\n",
    "    else:\n",
    "        temp_rows.append([id,downstream_dict[id],  refseq_downstream , rfam_overlaps, 0 , 0, 0, 0, 0, 0])\n",
    "results_df = pd.DataFrame(temp_rows, columns = ['Downstream_of','Feature_Downstream','Refseq_Downstream','RFAM_Overlaps','num_BP_covarying', 'num_Expected', 'num_reference_hits','tot_hits','num_near_pairs','num_r2r_near_pairs'])\n",
    "results_df.to_csv(r_scape_output_loc + '/intergenic_regions_covariation_summary.csv')"
   ]
  },
  {
   "cell_type": "code",
   "execution_count": 329,
   "id": "5275e58d-c7aa-4367-b4f1-214cb186249f",
   "metadata": {},
   "outputs": [],
   "source": [
    "def find_annotations(accession_ver, start, stop, feature_dict, only_return_max = True, translate_to_ortholog = True):\n",
    "    if start > stop:\n",
    "        (start, stop) = (stop, start)\n",
    "        strand = -1\n",
    "    else:\n",
    "        strand = 1\n",
    "    annotations_found = []\n",
    "    feature_list = feature_dict[accession_ver]\n",
    "    max_pct_cover = -1\n",
    "    max_feature = []\n",
    "    for feature in feature_list:\n",
    "        if feature[1] < (stop - 1) and feature[2] >= (start - 1):\n",
    "            len_feature = feature[2] - feature[1]\n",
    "            pct_cover = (min(feature[2], stop) - max(feature[1], start)) / (stop - start)\n",
    "            if pct_cover > 0.05 and len_feature < 100000:\n",
    "                if pct_cover > max_pct_cover:\n",
    "                    max_feature = feature\n",
    "                    max_pct_cover = pct_cover\n",
    "                annotations_found.append([feature, pct_cover])\n",
    "    if len(max_feature) > 0:\n",
    "        if only_return_max == True:\n",
    "            if translate_to_ortholog == True:\n",
    "                ortholog_max_feature = (max_feature[0], max_feature[1], max_feature[2], max_feature[3], ortholog_in_reference(accession_ver + '@' + max_feature[4], rbh_results), ortholog_in_reference(accession_ver + '@' + max_feature[5], rbh_results))\n",
    "                return ([start, stop, strand, ortholog_max_feature, max_pct_cover])\n",
    "        else:\n",
    "            return (start, stop, annotations_found, [max_feature, max_pct_cover])"
   ]
  },
  {
   "cell_type": "code",
   "execution_count": 653,
   "id": "0ef49a68-ddf2-49c8-b02b-59438570f504",
   "metadata": {},
   "outputs": [],
   "source": [
    "def hit_info(upstream_locus, translate_to_orthlog = True):\n",
    "    hit_dict = {}\n",
    "    with open(project_dir + '/RScape_Run_Thoth/'+upstream_locus+'/search_hits_3.txt', 'r') as f:\n",
    "    #with open(project_dir + '/RScape_Run_Thoth/'+upstream_locus+'/summary.txt', 'r') as f:\n",
    "                for l in f:\n",
    "                    if not(l[0] == '#'): \n",
    "                        a = l.split()\n",
    "                        if a[16] == '!':\n",
    "                            if a[0] in hit_dict:\n",
    "                                hit_dict[a[0]].append([int(a[7]),int(a[8]),a[9],a[15]])\n",
    "                            else:\n",
    "                                hit_dict[a[0]] = [[int(a[7]),int(a[8]),a[9],a[15]]]\n",
    "    results = []\n",
    "    for k, v in hit_dict.items():\n",
    "        #if k == 'NC_000962.3':\n",
    "        if 1==1:\n",
    "            for hits in v:\n",
    "                results.append([find_annotations(k, hits[0],hits[1],gene_info_dict, only_return_max = True, translate_to_ortholog = True), hits[3]])\n",
    "    return results"
   ]
  },
  {
   "cell_type": "code",
   "execution_count": null,
   "id": "1f046be0-b37b-40d1-86db-9797e6588d53",
   "metadata": {},
   "outputs": [],
   "source": [
    "temp = hit_info('Rv0487')\n"
   ]
  },
  {
   "cell_type": "code",
   "execution_count": 659,
   "id": "480206a4-b2e5-46e4-ba7a-7f0219b3c07a",
   "metadata": {},
   "outputs": [],
   "source": [
    "def myco_hit_info(upstream_locus, translate_to_orthlog = True):\n",
    "    hit_dict = {}\n",
    "   # with open(project_dir + '/RScape_Run_Thoth/'+upstream_locus+'/search_hits_3.txt', 'r') as f:\n",
    "    with open(project_dir + '/RScape_Run_Thoth/'+upstream_locus+'/summary.txt', 'r') as f:\n",
    "                for l in f:\n",
    "                    if not(l[0] == '#'): \n",
    "                        a = l.split()\n",
    "                        if a[16] == '!':\n",
    "                            if a[0] in hit_dict:\n",
    "                                hit_dict[a[0]].append([int(a[7]),int(a[8]),a[9],a[15]])\n",
    "                            else:\n",
    "                                hit_dict[a[0]] = [[int(a[7]),int(a[8]),a[9],a[15]]]\n",
    "    mycobrowser_df = pd.read_excel(datasets_dir+'/Mycobrowser_Release_4.xlsx')\n",
    "    features = []\n",
    "    for i, r in mycobrowser_df.iterrows():\n",
    "        features.append([r['Locus'],int(r['Start']), int(r['Stop'])])\n",
    "    for k, v in hit_dict.items():\n",
    "        if k == 'NC_000962.3':\n",
    "            for hits in v:\n",
    "                print(hits)\n",
    "                start = min(int(hits[0]), int(hits[1]))\n",
    "                stop = max(int(hits[0]), int(hits[1]))\n",
    "                for feature in features:\n",
    "                    pct_cover = (min(feature[2], stop) - max(feature[1], start)) / (feature[2] - feature[1])\n",
    "                    if pct_cover > 0.1:\n",
    "                        print(hits, feature, pct_cover)\n"
   ]
  },
  {
   "cell_type": "code",
   "execution_count": 660,
   "id": "083c9039-c373-4798-b5ad-103251434a98",
   "metadata": {},
   "outputs": [
    {
     "name": "stdout",
     "output_type": "stream",
     "text": [
      "[3690952, 3691080, '+', '2.3e-21']\n",
      "[3690952, 3691080, '+', '2.3e-21'] ['MTB000153', 3690941, 3691059] 0.9067796610169492\n",
      "[4087610, 4087484, '-', '7.6e-16']\n",
      "[595448, 595325, '-', '2e-15']\n",
      "[2401926, 2401804, '-', '2.2e-15']\n",
      "[3820394, 3820509, '+', '2.4e-15']\n",
      "[3351095, 3351219, '+', '5.4e-15']\n",
      "[2703903, 2704029, '+', '1.5e-13']\n",
      "[917734, 917606, '-', '1.9e-13']\n",
      "[1907461, 1907583, '+', '2.4e-11']\n",
      "[577286, 577399, '+', '2.8e-11']\n",
      "[4120919, 4121045, '+', '4.8e-11']\n",
      "[1282017, 1281887, '-', '7.1e-11']\n",
      "[2372437, 2372550, '+', '1.8e-10']\n",
      "[3594452, 3594341, '-', '2.1e-09']\n",
      "[2069065, 2068954, '-', '2.3e-09']\n",
      "[1267262, 1267144, '-', '1.7e-08']\n",
      "[4053136, 4053330, '+', '3.2e-08']\n",
      "[4053136, 4053330, '+', '3.2e-08'] ['Rv3611', 4052950, 4053603] 0.29709035222052066\n",
      "[577402, 577525, '+', '4e-08']\n",
      "[4110678, 4110821, '+', '4.9e-08']\n",
      "[1305501, 1305638, '+', '1.9e-07']\n",
      "[2074437, 2074543, '+', '5.4e-07']\n",
      "[1895470, 1895596, '+', '3.1e-06']\n",
      "[3291503, 3291378, '-', '3.8e-06']\n",
      "[1955692, 1955568, '-', '6.8e-06']\n"
     ]
    }
   ],
   "source": [
    "myco_hit_info('Rv0487_IG')"
   ]
  },
  {
   "cell_type": "code",
   "execution_count": 654,
   "id": "ad97eb9f-57c6-4866-baf8-a2e29fcba49e",
   "metadata": {},
   "outputs": [],
   "source": [
    "temp = hit_info('Rv0487_IG')\n",
    "temp_out = []\n",
    "for record in temp:\n",
    "    if not(record[0] is None):\n",
    "        if record[0][3][0][-2:] == 'IG':\n",
    "            position = 'IG'\n",
    "        else:\n",
    "            position = 'G'\n",
    "        if record[0][2] == 1:\n",
    "            upstream_gene = record[0][3][4]\n",
    "            downstream_gene = record[0][3][5]\n",
    "        else:\n",
    "            upstream_gene = record[0][3][5]\n",
    "            downstream_gene = record[0][3][4]\n",
    "        temp_out.append([position, upstream_gene, downstream_gene, upstream_gene + '_' + position, downstream_gene + '_' + position])\n",
    "hit_df = pd.DataFrame(temp_out, columns = ['Position','Upstream_Gene','Downstream_Gene', 'Upstream_Pos', 'Downstream_Pos'])"
   ]
  },
  {
   "cell_type": "code",
   "execution_count": 657,
   "id": "b50722b9-1262-4a27-a71c-96bce4203128",
   "metadata": {},
   "outputs": [
    {
     "name": "stdout",
     "output_type": "stream",
     "text": [
      "col_0           no_of_hits\n",
      "Upstream_Pos              \n",
      "NO_ORTHOLOG_G           21\n",
      "NO_ORTHOLOG_IG          50\n",
      "Rv0429c_IG               6\n",
      "Rv0432_IG                4\n",
      "Rv0480c_IG               8\n",
      "Rv0487_IG                9\n",
      "Rv0505c_IG              10\n",
      "Rv0703_IG                5\n",
      "Rv0818_IG                4\n",
      "Rv0824c_IG               5\n",
      "Rv1074c_IG               6\n",
      "Rv1140_IG                9\n",
      "Rv1212c_IG               9\n",
      "Rv1668c_IG               5\n",
      "Rv1822_IG                7\n",
      "Rv1829_IG                5\n",
      "Rv1867_IG                4\n",
      "Rv2112c_IG               8\n",
      "Rv2130c_IG              10\n",
      "Rv2142c_IG               6\n",
      "Rv2405_IG                4\n",
      "Rv2477c_IG               6\n",
      "Rv2702_IG                4\n",
      "Rv2793c_IG               4\n",
      "Rv2993c_IG               9\n",
      "Rv3198A_IG               6\n",
      "Rv3207c_IG               4\n",
      "Rv3218_IG               13\n",
      "Rv3302c_IG               6\n",
      "Rv3303c_IG               4\n",
      "Rv3401_IG                8\n",
      "Rv3560c_IG               5\n",
      "Rv3647c_IG               4\n",
      "Rv3668c_IG               4\n",
      "Rv3680_IG               11\n",
      "Rv3907c_IG               5\n"
     ]
    }
   ],
   "source": [
    "freq_table = pd.crosstab(hit_df['Upstream_Pos'], 'no_of_hits')\n",
    "print(freq_table[freq_table['no_of_hits'] > 3])"
   ]
  },
  {
   "cell_type": "code",
   "execution_count": 350,
   "id": "f579afc3-8804-497f-a066-aa211959b918",
   "metadata": {},
   "outputs": [],
   "source": [
    "hit_df.to_csv(output_dir + '/hit.csv')"
   ]
  },
  {
   "cell_type": "code",
   "execution_count": 130,
   "id": "0ef19d37-d911-44ba-87a8-efebad7391fb",
   "metadata": {},
   "outputs": [],
   "source": []
  },
  {
   "cell_type": "code",
   "execution_count": 130,
   "id": "ce6a6192-4328-4b12-a146-3751cb7e37dc",
   "metadata": {},
   "outputs": [],
   "source": [
    "genome_record = next(SeqIO.parse(seq_dir + '/' + reference_species_filename, \"genbank\"))\n",
    "organism_name = genome_record.annotations['organism']\n",
    "accession_ver = genome_record.annotations['accessions'][0] + '.' + str(genome_record.annotations['sequence_version'])\n",
    "organism_accession = organism_name.replace(' ', '_') + '_' + accession_ver\n",
    "function_list = []\n",
    "for feature in genome_record.features:\n",
    "    a = feature.qualifiers\n",
    "    if feature.type == 'CDS':\n",
    "        if a.get(\"locus_tag\")!= None:\n",
    "            if len(find_go_term(a.get(\"locus_tag\")[0])) > 0:\n",
    "                function_list.append(find_go_term(a.get(\"locus_tag\")[0])[0])"
   ]
  },
  {
   "cell_type": "code",
   "execution_count": 643,
   "id": "c4fc546b-b92f-4b04-965b-d4ac2c38bbc6",
   "metadata": {},
   "outputs": [
    {
     "name": "stdout",
     "output_type": "stream",
     "text": [
      "[[2652546, 2652740, -1, ('G6N39_RS12560_IG', 2652460, 2652754, -1, 'Rv2891', 'Rv2890c'), 1.0], '1.3e-33']\n",
      "[[2402172, 2402366, 1, ('G6N31_RS11320_IG', 2402156, 2402438, -1, 'Rv2890c', 'Rv2891'), 1.0], '5.3e-33']\n",
      "[[2356272, 2356470, -1, ('MVAN_RS11070_IG', 2356189, 2356485, -1, 'Rv2891', 'Rv2890c'), 1.0], '6.7e-33']\n",
      "[[3594689, 3594896, 1, ('MSPYR1_RS17115_IG', 3594676, 3594968, -1, 'Rv2890c', 'Rv2891'), 1.0], '2e-32']\n",
      "[[2315655, 2315856, -1, ('C1S78_RS11220_IG', 2315579, 2315868, -1, 'Rv2891', 'Rv2890c'), 1.0], '3.1e-32']\n",
      "[[1428326, 1428528, 1, ('G6N46_RS06955_IG', 1428313, 1428601, -1, 'Rv2890c', 'Rv2891'), 1.0], '6.1e-32']\n",
      "[[2162208, 2162415, -1, ('EL337_RS10250_IG', 2162123, 2162431, -1, 'Rv2891', 'Rv2890c'), 1.0], '6.8e-32']\n",
      "[[1492022, 1492221, -1, ('B586_RS07090_IG', 1491380, 1492236, 1, 'Rv2894c', 'Rv2890c'), 1.0], '6.9e-32']\n",
      "[[2150608, 2150803, -1, ('G6N16_RS10310_IG', 2150534, 2150818, -1, 'Rv2891', 'Rv2890c'), 1.0], '1.1e-31']\n",
      "[[5235929, 5236138, 1, ('NTM_RS24750_IG', 5235913, 5236211, -1, 'Rv2890c', 'Rv2891'), 1.0], '1.6e-31']\n",
      "[[2387756, 2387947, 1, ('G6N30_RS11270_IG', 2387742, 2388020, -1, 'Rv2890c', 'Rv2891'), 1.0], '3.5e-31']\n",
      "[[2525174, 2525381, 1, ('G6N48_RS11410_IG', 2525163, 2526055, -1, 'Rv2890c', 'Rv2894c'), 1.0], '4.4e-31']\n",
      "[[200822, 201030, -1, ('G6N50_RS00985_IG', 200240, 201040, 1, 'Rv2894c', 'Rv2890c'), 1.0], '4.5e-31']\n",
      "[[1382248, 1382437, -1, ('G6N07_RS06855_IG', 1382174, 1382449, -1, 'Rv2891', 'Rv2890c'), 1.0], '4.6e-31']\n",
      "[[4106749, 4106962, 1, ('MN2019_RS19565_IG', 4106736, 4107047, -1, 'Rv2890c', 'Rv2891'), 1.0], '4.8e-31']\n",
      "[[2427911, 2428113, -1, ('K0O62_RS11420_IG', 2427824, 2428126, -1, 'Rv2891', 'Rv2890c'), 1.0], '6.4e-31']\n",
      "[[5848979, 5849174, -1, ('G6N51_RS27460_IG', 5848346, 5849183, 1, 'Rv2894c', 'Rv2890c'), 1.0], '1.3e-30']\n",
      "[[3770753, 3770960, 1, ('JN179_RS17350_IG', 3770742, 3771767, -1, 'Rv2890c', 'Rv2894c'), 1.0], '1.4e-30']\n",
      "[[3817167, 3817357, 1, ('I7X18_RS18000_IG', 3817152, 3817430, -1, 'Rv2890c', 'Rv2891'), 1.0], '1.4e-30']\n",
      "[[1695732, 1695928, 1, ('G6N36_RS08510_IG', 1695718, 1696001, -1, 'Rv2890c', 'Rv2891'), 1.0], '1.6e-30']\n",
      "[[2791930, 2792119, 1, ('G6N49_RS13385_IG', 2791917, 2792192, -1, 'Rv2890c', 'Rv2891'), 1.0], '1.9e-30']\n",
      "[[4674205, 4674409, -1, ('G6N38_RS21935_IG', 4674131, 4674425, -1, 'Rv2891', 'Rv2890c'), 1.0], '2e-30']\n",
      "[[525401, 525594, -1, ('G6N35_RS02430_IG', 525327, 525606, -1, 'Rv2891', 'Rv2890c'), 1.0], '2.1e-30']\n",
      "[[3817804, 3818011, 1, ('OCU_RS42385_IG', 3817793, 3818819, -1, 'Rv2890c', 'Rv2894c'), 1.0], '2.2e-30']\n",
      "[[2135452, 2135653, -1, ('K0O64_RS10520_IG', 2134906, 2135665, 1, 'NO_ORTHOLOG', 'Rv2890c'), 1.0], '2.4e-30']\n",
      "[[2318975, 2319176, -1, ('MI149_RS11390_IG', 2318901, 2319188, -1, 'Rv2891', 'Rv2890c'), 1.0], '2.8e-30']\n",
      "[[743681, 743889, 1, ('G6N33_RS03415_IG', 743668, 743985, -1, 'Rv2890c', 'Rv2891'), 1.0], '3.3e-30']\n",
      "[[3084659, 3084826, 1, ('MJO54_RS14895_IG', 3084645, 3084936, -1, 'Rv2890c', 'Rv2891'), 1.0], '4.8e-30']\n",
      "[[3384294, 3384493, -1, ('FZ046_RS16265_IG', 3384184, 3384508, -1, 'Rv2891', 'Rv2890c'), 1.0], '4.9e-30']\n",
      "[[2280891, 2281092, -1, ('G6N60_RS10835_IG', 2280817, 2281104, -1, 'Rv2891', 'Rv2890c'), 1.0], '4.9e-30']\n"
     ]
    }
   ],
   "source": [
    "for i, record in enumerate(temp):\n",
    "    if i < 30:\n",
    "        print(record)"
   ]
  },
  {
   "cell_type": "code",
   "execution_count": null,
   "id": "881ed204-d8c6-4c7f-a61c-2a152ec6204a",
   "metadata": {},
   "outputs": [],
   "source": []
  }
 ],
 "metadata": {
  "kernelspec": {
   "display_name": "Python 3 (ipykernel)",
   "language": "python",
   "name": "python3"
  },
  "language_info": {
   "codemirror_mode": {
    "name": "ipython",
    "version": 3
   },
   "file_extension": ".py",
   "mimetype": "text/x-python",
   "name": "python",
   "nbconvert_exporter": "python",
   "pygments_lexer": "ipython3",
   "version": "3.9.7"
  }
 },
 "nbformat": 4,
 "nbformat_minor": 5
}
