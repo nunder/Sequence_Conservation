{
 "cells": [
  {
   "cell_type": "markdown",
   "id": "b1e30ed4-8a0e-4a6f-96eb-dfe116dfb2de",
   "metadata": {},
   "source": [
    "#### Import packages, set directories and parameters"
   ]
  },
  {
   "cell_type": "code",
   "execution_count": 9,
   "id": "cf9c6377-5080-4c22-94db-feabe17cc47c",
   "metadata": {},
   "outputs": [],
   "source": [
    "import pandas as pd\n",
    "import pickle\n",
    "import seaborn as sns\n",
    "import matplotlib.pyplot as plt\n",
    "import numpy as np\n",
    "import shutil\n",
    "from Bio import Entrez, SeqIO, AlignIO, pairwise2, Align, Seq, motifs\n",
    "from Bio.Seq import Seq\n",
    "from Bio.SeqFeature import SeqFeature, FeatureLocation\n",
    "import math\n",
    "from tqdm import tqdm\n",
    "from Comparative_Analysis import Utilities as util\n",
    "from joblib import Parallel, delayed\n",
    "from Comparative_Analysis import Blast_Functions as blastfn\n",
    "import time\n",
    "import os\n",
    "import copy\n",
    "import collections\n",
    "from scipy.stats import chi2, binom\n",
    "from Comparative_Analysis import Alignment as alignfn\n",
    "from Bio.Align.Applications import MuscleCommandline\n",
    "import subprocess\n",
    "pd.options.mode.chained_assignment = None  # default='warn'"
   ]
  },
  {
   "cell_type": "code",
   "execution_count": 24,
   "id": "79c1ca3d-a68f-4a9d-a5c4-25df7385b3ad",
   "metadata": {},
   "outputs": [],
   "source": [
    "project_dir = 'F:/Project_Data/mabR_Project/Orthologues_Mycobacteria'\n",
    "seq_dir = 'F:/Datasets/Other_Genomes/4_Close_Mycobacteria'\n",
    "motif_loc = 'F:/Project_Data/mabR_Project/MTBC_Strains/MEME_Strains_Long_Motif2/meme.txt'\n",
    "full_run = True\n",
    "muscle_exe = 'C:/Users/nicho/Muscle/muscle3.8.31_i86win32.exe'"
   ]
  },
  {
   "cell_type": "code",
   "execution_count": 11,
   "id": "15fee234-3cb3-425f-974f-fcdaeb25bfb7",
   "metadata": {},
   "outputs": [],
   "source": [
    "def reverse_complement(seq_string):\n",
    "    complement_dict = {'A':'T','C':'G','G':'C','T':'A'}    # Note S\n",
    "    temp = []\n",
    "    for char in reversed(seq_string):\n",
    "        if char in complement_dict:\n",
    "            temp.append(complement_dict[char])\n",
    "        else:\n",
    "            temp.append('A')\n",
    "    return ''.join(temp)"
   ]
  },
  {
   "cell_type": "code",
   "execution_count": 12,
   "id": "42e1c6ce-c97a-457a-b47c-10cd35168c69",
   "metadata": {},
   "outputs": [
    {
     "name": "stderr",
     "output_type": "stream",
     "text": [
      "4it [00:02,  1.92it/s]\n"
     ]
    }
   ],
   "source": [
    "tbc_seq_dict = {}\n",
    "tbc_species_dirs = util.list_dirs(seq_dir)\n",
    "species_name_dict = {}\n",
    "all_location_dict = {}\n",
    "all_translation_dict = {}\n",
    "for n, sdir in tqdm(enumerate(tbc_species_dirs)):\n",
    "    if len(util.list_files(seq_dir + '/' + sdir)) < 1:\n",
    "        continue\n",
    "    fname = util.list_files(seq_dir + '/' + sdir)[0]\n",
    "    genome_record = next(SeqIO.parse(seq_dir + '/' + sdir + '/' + fname, \"genbank\"))\n",
    "    full_sequence = str(genome_record.seq)\n",
    "    accession_ver = genome_record.annotations['accessions'][0] + '.' + str(genome_record.annotations['sequence_version'])\n",
    "    species =  genome_record.annotations['organism']\n",
    "    species_name_dict[accession_ver] = species\n",
    "    tbc_seq_dict[accession_ver] = full_sequence\n",
    "    translation_dict = {}\n",
    "    location_dict = {}\n",
    "    for feature in genome_record.features:\n",
    "        a = feature.qualifiers\n",
    "        if feature.type == 'CDS' and a.get(\"translation\") != None and a.get(\"locus_tag\") != None:\n",
    "            locus_tag = a.get(\"locus_tag\")[0]\n",
    "            accession_locus = accession_ver + '@' + locus_tag\n",
    "            translation = a.get(\"translation\")[0]\n",
    "            (start, stop, strand) = (int(feature.location.start), int(feature.location.end), int(feature.location.strand))\n",
    "            location_dict[accession_locus] = (start, stop, strand)\n",
    "            translation_dict[accession_locus] = translation\n",
    "    all_location_dict[accession_ver] = location_dict\n",
    "    all_translation_dict[accession_ver] = translation_dict"
   ]
  },
  {
   "cell_type": "code",
   "execution_count": 13,
   "id": "b75510fd-4062-484e-954b-928e68c22222",
   "metadata": {},
   "outputs": [
    {
     "name": "stderr",
     "output_type": "stream",
     "text": [
      "100%|██████████| 16792/16792 [00:01<00:00, 15327.78it/s]\n"
     ]
    }
   ],
   "source": [
    "temp = []\n",
    "for accver, prot_dict in all_translation_dict.items():\n",
    "    for k, v in prot_dict.items():\n",
    "        temp.append([k, v])\n",
    "util.produce_fasta_file(temp, project_dir + '/protein_sequences.faa')"
   ]
  },
  {
   "cell_type": "code",
   "execution_count": 14,
   "id": "b189bc6d-b3be-4924-a3ba-5e38ee2e3ec6",
   "metadata": {},
   "outputs": [],
   "source": [
    "if 1==1:\n",
    "    blastfn.build_blast_db(project_dir, 'protein_sequences.faa', 'Myco', project_dir + '/BLAST/Myco', 'prot')\n",
    "    shutil.copy(project_dir + '/protein_sequences.faa', project_dir + '/BLAST/Myco/protein_sequences.faa')\n",
    "    blastfn.run_blastp(project_dir + '/BLAST/Myco', 'protein_sequences.faa', 'Myco', 'myco_blast_hits.csv', e_value = 1e-6)"
   ]
  },
  {
   "cell_type": "code",
   "execution_count": 15,
   "id": "d4e21e7e-8f4d-4417-a020-8c2529bbcf83",
   "metadata": {},
   "outputs": [],
   "source": [
    "blast_output_df = blastfn.process_blast_output(project_dir + '/BLAST/Myco/myco_blast_hits.csv', species_name_dict, top_hit_only = True, outfile_loc = 'None')\n",
    "rbh_df = blastfn.keep_reciprocal_best_hits(blast_output_df, blast_output_df, outfile_loc ='None')"
   ]
  },
  {
   "cell_type": "code",
   "execution_count": 17,
   "id": "9fce9193-b8c5-4dc1-8364-78d97a05e5ef",
   "metadata": {},
   "outputs": [],
   "source": [
    "full_orthologue_refs = []\n",
    "temp = rbh_df.groupby('query_ref').agg({'target_ref': \"count\", 'percent_identical_matches': \"min\"}).reset_index()\n",
    "temp_2 = temp.query('target_ref == 4 and percent_identical_matches > 70')\n",
    "for i, r in temp_2.iterrows():\n",
    "    if r['query_ref'].split('@')[0] == 'AL123456.3':\n",
    "        full_orthologue_refs.append(r['query_ref'])"
   ]
  },
  {
   "cell_type": "code",
   "execution_count": 18,
   "id": "872155be-807a-43f6-979a-4e03bb55dd5b",
   "metadata": {},
   "outputs": [
    {
     "data": {
      "text/plain": [
       "2480"
      ]
     },
     "execution_count": 18,
     "metadata": {},
     "output_type": "execute_result"
    }
   ],
   "source": [
    "full_orthologue_dict = {}\n",
    "for ref in full_orthologue_refs:\n",
    "    for j, s in rbh_df.query('query_ref == @ref').iterrows():\n",
    "        if ref in full_orthologue_dict:\n",
    "            full_orthologue_dict[ref].append(s['target_ref'])\n",
    "        else:\n",
    "            full_orthologue_dict[ref] = [(s['target_ref'])]\n",
    "len(full_orthologue_dict)"
   ]
  },
  {
   "cell_type": "code",
   "execution_count": 25,
   "id": "a437ea11-ae3a-4ed7-ac7e-29e5dce1988c",
   "metadata": {},
   "outputs": [
    {
     "name": "stderr",
     "output_type": "stream",
     "text": [
      "100%|██████████| 1/1 [00:00<00:00, 11.73it/s]\n"
     ]
    }
   ],
   "source": [
    "util.produce_fasta_file([['AL123456.3', tbc_seq_dict['AL123456.3']]], project_dir + '/tb_sequence.faa')\n",
    "blastfn.run_fimo(motif_loc, project_dir + '/tb_sequence.faa' , project_dir + '/tb_FIMO_Hits')"
   ]
  },
  {
   "cell_type": "code",
   "execution_count": 26,
   "id": "82900c08-1aee-455e-8386-e4af5ea42fab",
   "metadata": {},
   "outputs": [],
   "source": [
    "tb_fimo_hits_df = pd.read_csv(project_dir + '/tb_FIMO_Hits/fimo.tsv', sep='\\t')"
   ]
  },
  {
   "cell_type": "code",
   "execution_count": 27,
   "id": "78168be6-1adf-4417-a07d-77d6f8d17491",
   "metadata": {},
   "outputs": [],
   "source": [
    "tb_fimo_hits = []\n",
    "for i, r in tb_fimo_hits_df.iterrows():\n",
    "    if '#' in r['motif_id'] or not(r['motif_alt_id'] == 'MEME-1') or r['q-value'] > 1e-3:\n",
    "        continue\n",
    "    start = int(r['start'])\n",
    "    stop = int(r['stop'])\n",
    "    if r['strand'] == '+':\n",
    "        strand = 1\n",
    "    else:\n",
    "        strand = -1\n",
    "    tb_fimo_hits.append((start, stop, strand))"
   ]
  },
  {
   "cell_type": "code",
   "execution_count": 28,
   "id": "33cefc98-c9b3-4fcc-9515-5e186c6cdddf",
   "metadata": {},
   "outputs": [],
   "source": [
    "def find_location(x):\n",
    "    k = x.split('@')[0]\n",
    "    return all_location_dict[k][x]            "
   ]
  },
  {
   "cell_type": "code",
   "execution_count": 29,
   "id": "cdb1ac8f-0ef5-4b40-b34c-83becce5912d",
   "metadata": {},
   "outputs": [
    {
     "name": "stderr",
     "output_type": "stream",
     "text": [
      "100%|██████████| 4/4 [00:00<?, ?it/s]\n",
      "100%|██████████| 4/4 [00:00<?, ?it/s]\n",
      "100%|██████████| 4/4 [00:00<?, ?it/s]\n",
      "100%|██████████| 4/4 [00:00<?, ?it/s]\n",
      "100%|██████████| 4/4 [00:00<00:00, 3952.23it/s]\n",
      "100%|██████████| 4/4 [00:00<?, ?it/s]\n",
      "100%|██████████| 4/4 [00:00<?, ?it/s]\n",
      "100%|██████████| 4/4 [00:00<?, ?it/s]\n",
      "100%|██████████| 4/4 [00:00<?, ?it/s]\n",
      "100%|██████████| 4/4 [00:00<?, ?it/s]\n",
      "100%|██████████| 4/4 [00:00<?, ?it/s]\n",
      "100%|██████████| 4/4 [00:00<?, ?it/s]\n",
      "100%|██████████| 4/4 [00:00<?, ?it/s]\n",
      "100%|██████████| 4/4 [00:00<00:00, 4169.29it/s]\n",
      "100%|██████████| 4/4 [00:00<?, ?it/s]\n",
      "100%|██████████| 4/4 [00:00<00:00, 1996.10it/s]\n"
     ]
    }
   ],
   "source": [
    "for hit in tb_fimo_hits:\n",
    "    (hit_start, hit_stop, hit_strand) = hit\n",
    "    max_stop = 0 \n",
    "    min_start = 999999999\n",
    "    max_stop_loc = ''\n",
    "    min_start_loc = ''\n",
    "    overlap = False\n",
    "    for k, v in all_location_dict['AL123456.3'].items():\n",
    "        (start, stop, strand) = v\n",
    "        if stop < hit_stop and stop > max_stop:\n",
    "            max_stop = stop\n",
    "            max_stop_loc = k\n",
    "        if start > hit_start and start < min_start:\n",
    "            min_start = start\n",
    "            min_start_loc = k\n",
    "        if start < hit_stop and stop > hit_start:\n",
    "            overlap = True\n",
    "        if max_stop_loc in full_orthologue_dict and min_start_loc in full_orthologue_dict:\n",
    "            full_orths = True\n",
    "        else:\n",
    "            full_orths = False\n",
    "    if full_orths == True and overlap == False:\n",
    "        temp = []\n",
    "        for (x,y) in zip(full_orthologue_dict[max_stop_loc], full_orthologue_dict[min_start_loc]):\n",
    "            if find_location(x)[1] < find_location(y)[0]:\n",
    "                sequence_info = (find_location(x)[1] -50, find_location(y)[0] + 50, 1)\n",
    "            else:\n",
    "                sequence_info = (find_location(y)[1] -50, find_location(x)[0] + 50, -1)\n",
    "            \n",
    "            #print((x.split('@')[0],x, find_location(x), y, find_location(y)), sequence_info)\n",
    "            if sequence_info[2] == hit_strand:\n",
    "                temp.append([species_name_dict[x.split('@')[0]].replace(' ','_'), tbc_seq_dict[x.split('@')[0]][sequence_info[0]:sequence_info[1]]])\n",
    "            else:\n",
    "                temp.append([species_name_dict[x.split('@')[0]].replace(' ','_'), reverse_complement(tbc_seq_dict[x.split('@')[0]][sequence_info[0]:sequence_info[1]])])             \n",
    "        util.produce_fasta_file(temp, project_dir + '/Regions_of_Interest/' + str(hit_start) + '_'+ str(hit_stop)+'.faa')\n",
    "        cline = MuscleCommandline(muscle_exe, input= project_dir + '/Regions_of_Interest/' + str(hit_start) + '_'+ str(hit_stop)+'.faa', out = project_dir + '/Regions_of_Interest/' + str(hit_start) + '_'+ str(hit_stop)+'_aligned.fasta')\n",
    "        stdout, stderr = cline()\n",
    "        #print()\n",
    "        #print()"
   ]
  },
  {
   "cell_type": "code",
   "execution_count": null,
   "id": "c41dfb93-5ddd-4af4-b76b-ffe895dd1c0b",
   "metadata": {},
   "outputs": [],
   "source": [
    "species_name_dict"
   ]
  },
  {
   "cell_type": "code",
   "execution_count": null,
   "id": "d74030d1-32ed-441e-931c-877e37fd2311",
   "metadata": {},
   "outputs": [],
   "source": [
    "if 1==1:\n",
    "    blastfn.build_blast_db(project_dir, 'tbc_sequences.faa', 'MTBC', project_dir + '/BLAST/MTBC', 'nucl')\n",
    "    shutil.copy(project_dir + '/mtbc_fimo_hits.faa', project_dir + '/BLAST/MTBC/mtbc_fimo_hits.faa')\n",
    "    blastfn.run_blastn(project_dir + '/BLAST/MTBC', 'mtbc_fimo_hits.faa', 'MTBC', 'motif_mtbc_blast_hits.csv', e_value = 1e-1)"
   ]
  },
  {
   "cell_type": "code",
   "execution_count": null,
   "id": "0c20803d-3cfa-4d69-8555-412b04321994",
   "metadata": {},
   "outputs": [],
   "source": [
    "blast_results_df = pd.read_csv(project_dir + '/BLAST/MTBC/motif_mtbc_blast_hits.csv', header = None)\n",
    "\n",
    "blast_results_df.columns = ['query_ref', 'target_ref', 'query_length', 'subject_length', 'percent_identical_matches','alignment_length', 'number_mismatches', 'number_of_gap_openings', \n",
    "                         'query_start_alignment', 'query_end_alignment', 'target_start_alignment', 'target_end_alignment', 'e_value', 'bit_score']\n",
    "for i, r in blast_results_df.iterrows():\n",
    "    blast_results_df.at[i, 'query_organism'] = r['query_ref'].split('@')[0]\n",
    "    blast_results_df.at[i, 'target_organism'] = r['target_ref']\n",
    "\n",
    "blast_results_df = blast_results_df.loc[blast_results_df.groupby(['query_ref','target_organism'])['bit_score'].idxmax()]\n",
    "for i, r in blast_results_df.iterrows():\n",
    "    target_ref = r['target_ref'].split('@')[0]\n",
    "    query_ref = r['query_ref'].split('@')[0]\n",
    "    temp = r['query_ref'].split('@')[1].split('_')\n",
    "    query_start = int(temp[0])\n",
    "    query_end = int(temp[1])\n",
    "    target_start_alignment = int(r['target_start_alignment'])\n",
    "    target_end_alignment = int(r['target_end_alignment'])\n",
    "    query_start_alignment = int(r['query_start_alignment'])\n",
    "    query_end_alignment = int(r['query_end_alignment'])\n",
    "    \n",
    "    if target_start_alignment < target_end_alignment:\n",
    "        target_sense = 1\n",
    "        full_target_alignment_start = target_start_alignment - query_start_alignment \n",
    "        full_target_alignment_end = full_target_alignment_start + 221\n",
    "    else:\n",
    "        target_sense = -1\n",
    "        full_target_alignment_end = target_start_alignment + query_start_alignment \n",
    "        full_target_alignment_start = full_target_alignment_end - 221\n",
    "    \n",
    "    \n",
    "    blast_results_df.at[i, 'full_target_alignment_start'] =  full_target_alignment_start\n",
    "    blast_results_df.at[i, 'full_target_alignment_end'] =  full_target_alignment_end\n",
    "    blast_results_df.at[i, 'full_query_sequence'] =  tbc_seq_dict[query_ref][query_start:query_end]\n",
    "    if target_sense == 1:\n",
    "        blast_results_df.at[i, 'full_target_sequence'] =  tbc_seq_dict[target_ref][full_target_alignment_start: full_target_alignment_end]\n",
    "        blast_results_df.at[i, 'full_target_sequence_ref'] = target_ref + '_'+ str(full_target_alignment_start) + '_' + str(full_target_alignment_end)\n",
    "    else:\n",
    "        blast_results_df.at[i, 'full_target_sequence'] =  reverse_complement(tbc_seq_dict[target_ref][full_target_alignment_start: full_target_alignment_end])\n",
    "        blast_results_df.at[i, 'full_target_sequence_ref'] = target_ref + '_'+ str(full_target_alignment_end) + '_' + str(full_target_alignment_start)\n"
   ]
  },
  {
   "cell_type": "code",
   "execution_count": null,
   "id": "1f16b806-4dd0-459e-be65-dbc20ff9577e",
   "metadata": {},
   "outputs": [],
   "source": [
    "blast_results_df.to_csv(project_dir + '/processed_blast_results.csv')"
   ]
  },
  {
   "cell_type": "code",
   "execution_count": null,
   "id": "a169991e-3b6f-4cba-9659-b60cbb41e51a",
   "metadata": {},
   "outputs": [],
   "source": [
    "query_refs = list(blast_results_df['query_ref'].unique())\n",
    "temp_df = blast_results_df\n",
    "distinct_clusters = []\n",
    "regions_considered = []\n",
    "for query_ref in tqdm(query_refs):\n",
    "#for i, r in temp_df.iterrows():\n",
    "    temp_df_2 = temp_df[temp_df['query_ref'] == query_ref]\n",
    "    temp_df_3 = temp_df_2.head(1)\n",
    "    matched = 0\n",
    "    for j, s in temp_df_3.iterrows():\n",
    "        if matched == 1:\n",
    "            break\n",
    "        for (species, start, stop) in regions_considered:\n",
    "            if matched ==1:\n",
    "                break\n",
    "            if s['target_ref'] == species and s['full_target_alignment_start'] < stop and s['full_target_alignment_end'] > start:\n",
    "                matched = 1\n",
    "                break\n",
    "    if matched == 0:\n",
    "        distinct_clusters.append(query_ref)\n",
    "        for j, s in temp_df_2.iterrows():\n",
    "            regions_considered.append((s['target_ref'], s['full_target_alignment_start'], s['full_target_alignment_end'])) "
   ]
  },
  {
   "cell_type": "code",
   "execution_count": null,
   "id": "4d22a2f6-7604-4df9-8e87-70ce72ef54d2",
   "metadata": {},
   "outputs": [],
   "source": [
    "with open(project_dir + '/distinct_clusters.pkl', 'wb') as f:\n",
    "    pickle.dump(distinct_clusters, f)    "
   ]
  },
  {
   "cell_type": "code",
   "execution_count": null,
   "id": "c7bf5190-985d-4053-91af-62e11584037f",
   "metadata": {},
   "outputs": [],
   "source": [
    "for ref in distinct_clusters:\n",
    "    region_of_interest = blast_results_df.query('query_ref == @ref')\n",
    "    temp = []\n",
    "    for i, r in region_of_interest.iterrows():\n",
    "        temp.append([species_name_dict[r['target_ref']].replace(' ','_'),str(r['full_target_sequence'])])\n",
    "    util.produce_fasta_file(temp, project_dir + '/Regions_of_Interest_SName/' + ref + '.faa')\n",
    "    cline = MuscleCommandline(muscle_exe, input= project_dir + '/Regions_of_Interest_SName/' + ref + '.faa', out = project_dir + '/Regions_of_Interest_SName/' + ref + '_aligned.fasta')\n",
    "    stdout, stderr = cline()"
   ]
  },
  {
   "cell_type": "code",
   "execution_count": null,
   "id": "2dac0d7b-527b-4a1a-9fac-471fac0bc908",
   "metadata": {},
   "outputs": [],
   "source": []
  },
  {
   "cell_type": "code",
   "execution_count": null,
   "id": "5636f923-5f1c-4761-b9b0-189548f5c69f",
   "metadata": {},
   "outputs": [],
   "source": [
    "temp = [] \n",
    "for ref in distinct_clusters:\n",
    "    region_of_interest = blast_results_df.query('query_ref == @ref')\n",
    "    ct = 0\n",
    "    ct_incomplete = 0\n",
    "    st = 0\n",
    "    stop = 0\n",
    "    for i, r in region_of_interest.iterrows():\n",
    "        if r['alignment_length'] < 200:\n",
    "             ct_incomplete +=1\n",
    "        if r['target_ref'] == 'MTB13':\n",
    "            st = r['full_target_alignment_start']\n",
    "            stop = r['full_target_alignment_end']\n",
    "        ct +=1\n",
    "    pct_incomplete = ct_incomplete/ct * 100\n",
    "    print(ref, pct_incomplete, len(region_of_interest), st, stop)\n",
    "    if not(pct_incomplete == 0):\n",
    "        temp.append([ref, pct_incomplete, len(region_of_interest), st, stop])\n",
    "\n",
    "pd.DataFrame(temp, columns = ['reference', 'pct_incomplete', 'alignment_length', 'H37Rv_start', 'H37Rv_stop']).to_csv(project_dir + '/insertion_alignments.csv')"
   ]
  },
  {
   "cell_type": "code",
   "execution_count": null,
   "id": "e6060146-3a07-4018-a50e-0161034f8261",
   "metadata": {},
   "outputs": [],
   "source": [
    "temp = []\n",
    "for i, r in blast_results_df.query('query_ref == \"MTB0@3246402_3246623_-\"').iterrows():\n",
    "    if r['alignment_length'] > 130:\n",
    "        insertion = 'Y'\n",
    "    else:\n",
    "        insertion = 'N'\n",
    "    temp.append([species_name_dict[r['target_organism']], insertion])\n",
    "pd.DataFrame(temp, columns = ['Strain','insertion']).to_csv(project_dir + '/insertions_MTB0@3246402_3246623_-.csv')"
   ]
  },
  {
   "cell_type": "code",
   "execution_count": null,
   "id": "bb856440-f441-434f-9685-c5efe7530cbd",
   "metadata": {},
   "outputs": [],
   "source": [
    "genome_record = next(SeqIO.parse('F:/Datasets/NCBI_Refseq_Mycobacteriaceae_All_Levels/ncbi_dataset/data/GCF_000195955.2/genomic.gbff', \"genbank\"))\n",
    "H37Rv_sequence = str(genome_record.seq)"
   ]
  },
  {
   "cell_type": "code",
   "execution_count": null,
   "id": "5bcdd2fb-dc2a-4afb-8700-790c8eff4759",
   "metadata": {},
   "outputs": [],
   "source": [
    "reverse_complement(H37Rv_sequence[1468100:1468200])"
   ]
  },
  {
   "cell_type": "code",
   "execution_count": null,
   "id": "705f936b-884f-45c2-9d9b-280bff7003ba",
   "metadata": {},
   "outputs": [],
   "source": [
    "reverse_complement(H37Rv_sequence[1469594:1469694])"
   ]
  },
  {
   "cell_type": "code",
   "execution_count": null,
   "id": "9b3c60ef-20bb-4270-8234-b04493ea4005",
   "metadata": {},
   "outputs": [],
   "source": [
    "temp = []\n",
    "for i, r in blast_results_df.query('query_organism ==\"MTB13\" and target_organism == \"MTB13\"').iterrows():\n",
    "    temp.append((r['query_ref'].split('_')[0:2], r['query_ref']))\n",
    "temp.sort(key = lambda x:int(x[0][1]))\n",
    "temp"
   ]
  },
  {
   "cell_type": "code",
   "execution_count": null,
   "id": "25cd1326-b183-4dfb-bc27-24edef835f36",
   "metadata": {},
   "outputs": [],
   "source": [
    "blast_results_df.query('query_ref ==\"MTB13@1468039_1468260_-\" and target_organism == \"MTB0\"')"
   ]
  },
  {
   "cell_type": "code",
   "execution_count": null,
   "id": "419f1179-b230-4a7e-b0c0-7ad6761a09f7",
   "metadata": {},
   "outputs": [],
   "source": []
  }
 ],
 "metadata": {
  "kernelspec": {
   "display_name": "Python 3 (ipykernel)",
   "language": "python",
   "name": "python3"
  },
  "language_info": {
   "codemirror_mode": {
    "name": "ipython",
    "version": 3
   },
   "file_extension": ".py",
   "mimetype": "text/x-python",
   "name": "python",
   "nbconvert_exporter": "python",
   "pygments_lexer": "ipython3",
   "version": "3.9.7"
  }
 },
 "nbformat": 4,
 "nbformat_minor": 5
}
