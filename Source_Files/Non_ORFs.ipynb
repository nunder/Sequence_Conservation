{
 "cells": [
  {
   "cell_type": "markdown",
   "id": "b1e30ed4-8a0e-4a6f-96eb-dfe116dfb2de",
   "metadata": {},
   "source": [
    "#### Directories etc"
   ]
  },
  {
   "cell_type": "code",
   "execution_count": 1,
   "id": "cf9c6377-5080-4c22-94db-feabe17cc47c",
   "metadata": {},
   "outputs": [
    {
     "name": "stderr",
     "output_type": "stream",
     "text": [
      "C:\\Users\\nicho\\Anaconda3\\envs\\Bioinformatics\\lib\\site-packages\\ete3-3.1.2-py3.7.egg\\ete3\\evol\\parser\\codemlparser.py:221: SyntaxWarning: \"is\" with a literal. Did you mean \"==\"?\n",
      "C:\\Users\\nicho\\Anaconda3\\envs\\Bioinformatics\\lib\\site-packages\\ete3-3.1.2-py3.7.egg\\ete3\\evol\\parser\\codemlparser.py:221: SyntaxWarning: \"is\" with a literal. Did you mean \"==\"?\n"
     ]
    }
   ],
   "source": [
    "import pandas as pd\n",
    "import pickle\n",
    "import seaborn as sns\n",
    "import matplotlib.pyplot as plt\n",
    "import numpy as np\n",
    "from scipy.fft import fft, fftfreq\n",
    "from Bio import Entrez, SeqIO, AlignIO, pairwise2, Align, Seq, motifs\n",
    "from Bio.Seq import Seq\n",
    "from Bio.SeqFeature import SeqFeature, FeatureLocation\n",
    "from scipy.stats import binom\n",
    "import math\n",
    "import random\n",
    "from tqdm import tqdm\n",
    "from Comparative_Analysis import Utilities as util\n",
    "from collections import defaultdict\n",
    "import random\n",
    "from joblib import Parallel, delayed\n",
    "from Comparative_Analysis import Blast_Functions as blastfn\n",
    "import time\n",
    "import os\n",
    "import copy\n",
    "from Comparative_Analysis import ORF_Functions as orffn\n",
    "from random import sample\n",
    "pd.options.mode.chained_assignment = None  # default='warn'\n",
    "import ete3\n",
    "import matplotlib.pyplot as plt\n",
    "from statistics import mode\n",
    "from scipy.stats import chi2\n",
    "import subprocess"
   ]
  },
  {
   "cell_type": "code",
   "execution_count": 2,
   "id": "1988a242-f558-4643-b3a9-27272fa7bebc",
   "metadata": {},
   "outputs": [],
   "source": [
    "project_dir = 'F:/Project_Data/Project_11'\n",
    "seq_dir = 'F:/Datasets/Actinobacteria_Ref_Rep_Lev_Complete'\n",
    "dictionary_dir = 'F:/Datasets/CRYPTIC_DATA/Cryptic_Dictionaries'\n",
    "tb_species = 'NC_000962.3' \n",
    "tb_genome_filename = 'GCF_000195955.2_ASM19595v2_genomic.gbff'\n",
    "mycobrowser_dir = 'F:/Datasets/Data_From_Publications'\n",
    "num_cores = 16\n",
    "core_numbers = list(range(1, num_cores+1))"
   ]
  },
  {
   "cell_type": "code",
   "execution_count": 3,
   "id": "d39fe86c-bc60-4b04-a35a-41372a27e1e1",
   "metadata": {},
   "outputs": [],
   "source": [
    "for record in SeqIO.parse(seq_dir + '/' + tb_genome_filename, \"genbank\"):\n",
    "    full_sequence = str(record.seq)"
   ]
  },
  {
   "cell_type": "code",
   "execution_count": 4,
   "id": "27d84185-75a4-49ee-8bc9-5609cc91a4ad",
   "metadata": {},
   "outputs": [],
   "source": [
    "with open(project_dir + '/Thoth_Full_Run/zero_and_non_zero_mutation_counts.pkl', 'rb') as f:\n",
    "    full_sample_zero_and_non_zero_mutation_counts = pickle.load(f)  "
   ]
  },
  {
   "cell_type": "code",
   "execution_count": 5,
   "id": "8646772c-1c92-4e40-aab6-51f09c700b57",
   "metadata": {},
   "outputs": [],
   "source": [
    "compass_df = pd.read_csv('F:/Datasets/CRYPTIC_DATA/COMPASS.csv', names = ['species', 'start', 'stop','count'])\n",
    "compass_dict = {}\n",
    "for i, r in compass_df.iterrows():\n",
    "    for k in range(r['start'], r['stop']):     #  Should te start-1 but seems to ve inconsistency with mutations!!\n",
    "        compass_dict[k] = 'Y'"
   ]
  },
  {
   "cell_type": "code",
   "execution_count": 6,
   "id": "fb509bdd-e5bd-420e-9ecf-262e1e719a1c",
   "metadata": {},
   "outputs": [],
   "source": [
    "mycobrowser_df = pd.read_excel(mycobrowser_dir+'/Mycobrowser_Release_4.xlsx')\n",
    "temp_cds = mycobrowser_df[mycobrowser_df['Feature'] == 'CDS'][['Locus','Start','Stop','Strand','Product','Name','Functional_Category','Gene Ontology']]      #Just CDS\n",
    "mycobrowser_cds_boundaries = []\n",
    "for i, r in temp_cds.iterrows():\n",
    "    if r['Strand'] == '+':\n",
    "        strand = 1\n",
    "    else:\n",
    "        strand = -1\n",
    "    mycobrowser_cds_boundaries.append((r['Locus'],r['Product'], r['Start']-1, r['Stop'], strand, r['Name'], r['Functional_Category'], r['Gene Ontology']))\n",
    "mycobrowser_cds_boundaries.sort(key = lambda x: x[2])"
   ]
  },
  {
   "cell_type": "code",
   "execution_count": 7,
   "id": "87fc3ab4-7e83-419b-9916-807a11824c3e",
   "metadata": {},
   "outputs": [],
   "source": [
    "def bin_formula(position_3_counts, tot_bin_counts):\n",
    "    return 1- binom.cdf(position_3_counts-1, tot_bin_counts,1/3)"
   ]
  },
  {
   "cell_type": "code",
   "execution_count": 8,
   "id": "14ffddf4-09ab-4309-b228-58b58bd60ef9",
   "metadata": {},
   "outputs": [],
   "source": [
    "def process_blast_output(infile_loc):\n",
    "    trans = util.Translator()\n",
    "    blast_results = pd.read_csv(infile_loc, header = None)\n",
    "    blast_results.columns = ['query_accession_ver', 'subject_accession_ver', 'query_length', 'subject_length', 'percent_identical_matches','alignment_length', 'number_mismatches', 'number_of_gap_openings', 'query_start_alignment', 'query_end_alignment', 'subject_start_alignment', 'subject_end_alignment', 'e_value', 'bit_score']\n",
    "    for i, r in blast_results.iterrows():\n",
    "        if '@' in r.query_accession_ver:\n",
    "            blast_results.at[i, 'query_species'] = (r.query_accession_ver.split('@')[0])\n",
    "        else:\n",
    "            blast_results.at[i, 'query_species'] = '_'.join(r.query_accession_ver.split('_')[0:2])\n",
    "        if '@' in r.subject_accession_ver:\n",
    "            blast_results.at[i, 'subject_species'] = (r.subject_accession_ver.split('@')[0])\n",
    "        else:\n",
    "            blast_results.at[i, 'subject_species'] = '_'.join(r.subject_accession_ver.split('_')[0:2])\n",
    "    #blast_results = blast_results.query('not (query_species == subject_species)')\n",
    "    blast_results = blast_results.loc[blast_results.groupby(['query_accession_ver','subject_species'])['bit_score'].idxmax()]\n",
    "    return blast_results"
   ]
  },
  {
   "cell_type": "code",
   "execution_count": 9,
   "id": "f6e4601d-3cf3-49a3-8096-ffcd639fb374",
   "metadata": {},
   "outputs": [],
   "source": [
    "def keep_reciprocal_best_hits(query_df, reverse_query_df):\n",
    "    temp_1_dict = {}\n",
    "    temp_2_dict = {}\n",
    "    for i, r in query_df.iterrows():\n",
    "        temp_1_dict[r['query_accession_ver']] = r['subject_accession_ver']\n",
    "    for i, r in reverse_query_df.iterrows():\n",
    "        temp_2_dict[r['query_accession_ver']] = r['subject_accession_ver']\n",
    "    for i, r in query_df.iterrows():\n",
    "        if temp_1_dict[r['query_accession_ver']] in temp_2_dict and temp_2_dict[temp_1_dict[r['query_accession_ver']]] == r['query_accession_ver']:\n",
    "            query_df.at[i, 'reciprocal_best_hit'] = 'Y'\n",
    "        else:\n",
    "            query_df.at[i, 'reciprocal_best_hit'] = 'N'\n",
    "    output = query_df[query_df.reciprocal_best_hit == 'Y'] \n",
    "    output['species_count'] = output.groupby('query_accession_ver')['query_accession_ver'].transform('size')\n",
    "    return output"
   ]
  },
  {
   "cell_type": "code",
   "execution_count": 8,
   "id": "4a8f6b8b-04c5-4a3f-99ee-86a1f2bb96fb",
   "metadata": {},
   "outputs": [],
   "source": [
    "def compass_coverage(start, stop):\n",
    "    compass_overlap = 0\n",
    "    for i in range(start, stop):\n",
    "        if i in compass_dict:\n",
    "            compass_overlap += 1\n",
    "    return (compass_overlap/(stop - start))"
   ]
  },
  {
   "cell_type": "code",
   "execution_count": 9,
   "id": "e500ad6d-eb3f-4fd5-9c22-089d479b1152",
   "metadata": {},
   "outputs": [],
   "source": [
    "def show_bin_counts(mutationcounts):\n",
    "    bin_counts = [0,0,0]\n",
    "    total_compass_overlap = 0\n",
    "    for n in range(int(len(mutationcounts)/3)):\n",
    "        temp_counts = [0,0,0]\n",
    "        compass_overlap = 0\n",
    "        for m in range(3): \n",
    "            if start+3*n+m in compass_dict:\n",
    "                compass_overlap += 1\n",
    "                total_compass_overlap += 1\n",
    "            temp_counts[m % 3] = mutationcounts[3*n+m]\n",
    "        if sum(temp_counts) < 10 and compass_overlap == 0:\n",
    "            for m in range(3):\n",
    "                bin_counts[m] += temp_counts[m]\n",
    "    return (bin_counts, sum(bin_counts)/len(mutation_counts), total_compass_overlap / len(mutation_counts))"
   ]
  },
  {
   "cell_type": "code",
   "execution_count": 10,
   "id": "edb36c95-313b-4252-a7a3-28c5d5c6b510",
   "metadata": {},
   "outputs": [],
   "source": [
    "def score_region(mutationcounts, start):\n",
    "    bin_counts = [0,0,0]\n",
    "    for n in range(int(len(mutationcounts)/3)):\n",
    "        temp_counts = [0,0,0]\n",
    "        compass_overlap = 0\n",
    "        for m in range(3): \n",
    "            if start+3*n+m in compass_dict:\n",
    "                compass_overlap = 1\n",
    "            temp_counts[m % 3] = mutationcounts[3*n+m]\n",
    "        if sum(temp_counts) < 10 and compass_overlap == 0:\n",
    "            for m in range(3):\n",
    "                bin_counts[m] += temp_counts[m]\n",
    "    return bin_formula(bin_counts[2], sum(bin_counts))"
   ]
  },
  {
   "cell_type": "markdown",
   "id": "b75a04cd-8bc9-43f6-89d4-51c9233e9828",
   "metadata": {},
   "source": [
    "#### Mycobrowswer annotated CDS regions"
   ]
  },
  {
   "cell_type": "code",
   "execution_count": 12,
   "id": "bcd1dda4-241f-4f88-87b8-0aa71e5912e8",
   "metadata": {},
   "outputs": [
    {
     "data": {
      "text/plain": [
       "[Text(0.5, 0, 'P-value'),\n",
       " Text(0, 0.5, 'Cumulative Proportion'),\n",
       " Text(0.5, 1.0, '')]"
      ]
     },
     "execution_count": 12,
     "metadata": {},
     "output_type": "execute_result"
    },
    {
     "data": {
      "image/png": "[encoded data removed]",
      "text/plain": [
       "<Figure size 432x288 with 1 Axes>"
      ]
     },
     "metadata": {
      "needs_background": "light"
     },
     "output_type": "display_data"
    }
   ],
   "source": [
    "scores =[]\n",
    "for (locus, product, start, stop, strand, name, functional_category, gene_ontology) in mycobrowser_cds_boundaries: \n",
    "    if compass_coverage(start, stop) > 0.5:\n",
    "        continue\n",
    "    mutation_counts = full_sample_zero_and_non_zero_mutation_counts[start:stop]\n",
    "    if strand == 1:\n",
    "        mutation_counts_2 = mutation_counts\n",
    "    else:\n",
    "        mutation_counts_2 = list(reversed(mutation_counts))\n",
    "    scores.append(score_region(mutation_counts_2, start))\n",
    "    #if score_region(mutation_counts_2) < 0.5:\n",
    "    #    print(locus, show_bin_counts(mutation_counts_2))\n",
    "a = sns.ecdfplot(scores)\n",
    "a.set(xlabel =\"P-value\", ylabel = \"Cumulative Proportion\", title ='')"
   ]
  },
  {
   "cell_type": "markdown",
   "id": "b7d877ea-2a91-4255-bc4c-ee4c9ef5862c",
   "metadata": {},
   "source": [
    "####  Random positions"
   ]
  },
  {
   "cell_type": "code",
   "execution_count": 28,
   "id": "061c1fa0-2380-4581-be33-6659ca9dcca7",
   "metadata": {},
   "outputs": [
    {
     "name": "stderr",
     "output_type": "stream",
     "text": [
      "4411532it [00:01, 3175331.28it/s]\n"
     ]
    },
    {
     "data": {
      "text/plain": [
       "4086561"
      ]
     },
     "execution_count": 28,
     "metadata": {},
     "output_type": "execute_result"
    }
   ],
   "source": [
    "unmasked_zero_and_non_zero_mutation_counts = []\n",
    "for n, c in tqdm(enumerate(full_sample_zero_and_non_zero_mutation_counts)):\n",
    "    if n in compass_dict:\n",
    "        continue\n",
    "    else:\n",
    "        unmasked_zero_and_non_zero_mutation_counts.append(c)\n",
    "len(unmasked_zero_and_non_zero_mutation_counts)"
   ]
  },
  {
   "cell_type": "code",
   "execution_count": 22,
   "id": "fc0e298d-9e82-4a43-bbc2-5af3848da01f",
   "metadata": {},
   "outputs": [
    {
     "data": {
      "text/plain": [
       "1.9051026033870533"
      ]
     },
     "execution_count": 22,
     "metadata": {},
     "output_type": "execute_result"
    }
   ],
   "source": [
    "sum(unmasked_zero_and_non_zero_mutation_counts)/len(unmasked_zero_and_non_zero_mutation_counts)"
   ]
  },
  {
   "cell_type": "code",
   "execution_count": 27,
   "id": "280d84f0-4737-4713-953a-e27f46264d1e",
   "metadata": {},
   "outputs": [
    {
     "name": "stdout",
     "output_type": "stream",
     "text": [
      "[7]\n"
     ]
    }
   ],
   "source": []
  },
  {
   "cell_type": "code",
   "execution_count": 27,
   "id": "482a86a5-040d-40b1-b5de-c2056cd3a0da",
   "metadata": {},
   "outputs": [
    {
     "ename": "NameError",
     "evalue": "name 'unmasked_zero_and_non_zero_mutation_counts' is not defined",
     "output_type": "error",
     "traceback": [
      "\u001b[1;31m---------------------------------------------------------------------------\u001b[0m",
      "\u001b[1;31mNameError\u001b[0m                                 Traceback (most recent call last)",
      "\u001b[1;32m~\\AppData\\Local\\Temp/ipykernel_10096/3117260221.py\u001b[0m in \u001b[0;36m<module>\u001b[1;34m\u001b[0m\n\u001b[0;32m      1\u001b[0m \u001b[0mscores_2\u001b[0m \u001b[1;33m=\u001b[0m \u001b[1;33m[\u001b[0m\u001b[1;33m]\u001b[0m\u001b[1;33m\u001b[0m\u001b[1;33m\u001b[0m\u001b[0m\n\u001b[0;32m      2\u001b[0m \u001b[1;32mfor\u001b[0m \u001b[0mx\u001b[0m \u001b[1;32min\u001b[0m \u001b[0mrange\u001b[0m\u001b[1;33m(\u001b[0m\u001b[1;36m10000\u001b[0m\u001b[1;33m)\u001b[0m\u001b[1;33m:\u001b[0m\u001b[1;33m\u001b[0m\u001b[1;33m\u001b[0m\u001b[0m\n\u001b[1;32m----> 3\u001b[1;33m     \u001b[0msample\u001b[0m \u001b[1;33m=\u001b[0m \u001b[0mrandom\u001b[0m\u001b[1;33m.\u001b[0m\u001b[0msample\u001b[0m\u001b[1;33m(\u001b[0m\u001b[0munmasked_zero_and_non_zero_mutation_counts\u001b[0m\u001b[1;33m,\u001b[0m \u001b[1;36m1000\u001b[0m\u001b[1;33m)\u001b[0m\u001b[1;33m\u001b[0m\u001b[1;33m\u001b[0m\u001b[0m\n\u001b[0m\u001b[0;32m      4\u001b[0m     \u001b[0mtot\u001b[0m \u001b[1;33m=\u001b[0m \u001b[0msum\u001b[0m\u001b[1;33m(\u001b[0m\u001b[0msample\u001b[0m\u001b[1;33m)\u001b[0m\u001b[1;33m\u001b[0m\u001b[1;33m\u001b[0m\u001b[0m\n\u001b[0;32m      5\u001b[0m     \u001b[0mr\u001b[0m \u001b[1;33m=\u001b[0m \u001b[0mbinom\u001b[0m\u001b[1;33m.\u001b[0m\u001b[0mrvs\u001b[0m\u001b[1;33m(\u001b[0m\u001b[0mtot\u001b[0m\u001b[1;33m,\u001b[0m \u001b[1;36m1\u001b[0m\u001b[1;33m/\u001b[0m\u001b[1;36m3\u001b[0m\u001b[1;33m,\u001b[0m \u001b[0msize\u001b[0m\u001b[1;33m=\u001b[0m\u001b[1;36m1\u001b[0m\u001b[1;33m)\u001b[0m\u001b[1;33m[\u001b[0m\u001b[1;36m0\u001b[0m\u001b[1;33m]\u001b[0m\u001b[1;33m\u001b[0m\u001b[1;33m\u001b[0m\u001b[0m\n",
      "\u001b[1;31mNameError\u001b[0m: name 'unmasked_zero_and_non_zero_mutation_counts' is not defined"
     ]
    }
   ],
   "source": [
    "scores_2 = []\n",
    "for x in range(10000):\n",
    "    sample = random.sample(unmasked_zero_and_non_zero_mutation_counts, 1000)\n",
    "    tot = sum(sample)\n",
    "    r = binom.rvs(tot, 1/3, size=1)[0]\n",
    "    s = tot - r\n",
    "    scores_2.append(['Theoretical', bin_formula(r, tot)])\n",
    "    scores_2.append(['Empirical', score_region(sample, 0)])\n",
    "temp = pd.DataFrame(scores_2, columns = ['Sample_Type','Score'])\n",
    "a = sns.ecdfplot(data = temp, x = 'Score', hue = 'Sample_Type')\n",
    "a.set(xlabel =\"P-value\", ylabel = \"Cumulative Proportion\", title ='')\n",
    "#plt.xscale('log')"
   ]
  },
  {
   "cell_type": "code",
   "execution_count": 34,
   "id": "0ab82174-350a-4728-ae5d-4c7147e2ced7",
   "metadata": {},
   "outputs": [
    {
     "data": {
      "text/plain": [
       "['Empirical', 0.00017967269205676484]"
      ]
     },
     "execution_count": 34,
     "metadata": {},
     "output_type": "execute_result"
    }
   ],
   "source": [
    "scores_2.sort()\n",
    "scores_2[int(10000 * 0.01)]"
   ]
  },
  {
   "cell_type": "code",
   "execution_count": 74,
   "id": "4dd3a9c6-ab2e-4443-a80b-6aad15a6fcb4",
   "metadata": {},
   "outputs": [
    {
     "data": {
      "image/png": "[encoded data removed]",
      "text/plain": [
       "<Figure size 432x288 with 1 Axes>"
      ]
     },
     "metadata": {
      "needs_background": "light"
     },
     "output_type": "display_data"
    }
   ],
   "source": [
    "a = sns.ecdfplot(scores_2)\n",
    "a.set(xlabel =\"P-value\", ylabel = \"Cumulative Proportion\", title ='')\n",
    "plt.xscale('log')"
   ]
  },
  {
   "cell_type": "markdown",
   "id": "6fe37369-7ed9-4100-9197-518a32245d4f",
   "metadata": {},
   "source": [
    "#### Intergenic MORFs"
   ]
  },
  {
   "cell_type": "code",
   "execution_count": 45,
   "id": "82bde8d4-48af-4dc8-b97f-31990379a0be",
   "metadata": {},
   "outputs": [],
   "source": [
    "min_intergenic_length = 50\n",
    "candidate_intergenic_morfs = []\n",
    "max_stop = 0\n",
    "ORFFinder = orffn.ORF_Finder(full_sequence)\n",
    "for n,cds in enumerate(mycobrowser_cds_boundaries):\n",
    "    stop = cds[3]\n",
    "    max_stop = max(stop, max_stop)\n",
    "    if n < len(mycobrowser_cds_boundaries) - 1:\n",
    "        if mycobrowser_cds_boundaries[n+1][2] > max_stop + min_intergenic_length:\n",
    "            a =ORFFinder.max_orf(max_stop-10, mycobrowser_cds_boundaries[n+1][2]+10, output_orfs = 'Nested', min_orf_length = min_intergenic_length)\n",
    "            for x in a:\n",
    "                candidate_intergenic_morfs.append(x)"
   ]
  },
  {
   "cell_type": "code",
   "execution_count": 46,
   "id": "13bda79f-e453-4922-b7a8-d3268a723289",
   "metadata": {},
   "outputs": [
    {
     "data": {
      "text/plain": [
       "[Text(0.5, 0, 'P-value'),\n",
       " Text(0, 0.5, 'Cumulative Proportion'),\n",
       " Text(0.5, 1.0, '')]"
      ]
     },
     "execution_count": 46,
     "metadata": {},
     "output_type": "execute_result"
    },
    {
     "data": {
      "image/png": "[encoded data removed]",
      "text/plain": [
       "<Figure size 432x288 with 1 Axes>"
      ]
     },
     "metadata": {
      "needs_background": "light"
     },
     "output_type": "display_data"
    }
   ],
   "source": [
    "scores_4 =[]\n",
    "for (start, stop, strand, length) in candidate_intergenic_morfs: \n",
    "    if compass_coverage(start, stop) > 0.5:\n",
    "        continue\n",
    "    mutation_counts = full_sample_zero_and_non_zero_mutation_counts[start:stop]\n",
    "    if strand == 1:\n",
    "        mutation_counts_2 = mutation_counts\n",
    "    else:\n",
    "        mutation_counts_2 = list(reversed(mutation_counts))\n",
    "    scores_4.append([(start, stop, strand, length),score_region(mutation_counts_2, start)])\n",
    "a = sns.ecdfplot([x[1] for x in scores_4])\n",
    "a.set(xlabel =\"P-value\", ylabel = \"Cumulative Proportion\", title ='')\n",
    "#plt.xscale('log')"
   ]
  },
  {
   "cell_type": "markdown",
   "id": "03dc7ac9-480b-4e88-a7f4-9c0c56650c2f",
   "metadata": {},
   "source": [
    "#### All MORFs"
   ]
  },
  {
   "cell_type": "code",
   "execution_count": 38,
   "id": "92edfa97-1480-4f1a-863b-ca6524a1022a",
   "metadata": {},
   "outputs": [],
   "source": [
    "min_intergenic_length = 50\n",
    "candidate_morfs = []\n",
    "ORFFinder = orffn.ORF_Finder(full_sequence)\n",
    "a =ORFFinder.max_orf(0, len(full_sequence)-1, output_orfs = 'Nested', min_orf_length = min_intergenic_length)\n",
    "for x in a:\n",
    "    candidate_morfs.append(x)"
   ]
  },
  {
   "cell_type": "markdown",
   "id": "055b4eac-8f8f-43bc-afb0-8849b96091e2",
   "metadata": {},
   "source": [
    "#### Eliminate negative strand instances where they would have same pattern of 3rd codon "
   ]
  },
  {
   "cell_type": "code",
   "execution_count": 39,
   "id": "68d9045f-068a-464d-9d3b-f032d97a1d95",
   "metadata": {},
   "outputs": [
    {
     "name": "stderr",
     "output_type": "stream",
     "text": [
      "63720it [06:39, 159.63it/s] \n"
     ]
    }
   ],
   "source": [
    "candidate_morfs.sort(key = lambda x: x[3], reverse = True)\n",
    "maximal_reading_frame_orfs = [candidate_morfs[0]]\n",
    "for n, morf in tqdm(enumerate(candidate_morfs)):\n",
    "    if n==0:\n",
    "        continue\n",
    "    overlap = 0\n",
    "    for m, morf2 in enumerate(candidate_morfs):\n",
    "        if m == n and overlap == 0:\n",
    "            maximal_reading_frame_orfs.append(morf)\n",
    "            break\n",
    "        else:\n",
    "            if morf2[0] <= morf[0] and morf2[1] >= morf[1]:\n",
    "                if morf2[2] == morf[2]:\n",
    "                    if (morf2[1] - morf[1])%3 == 0:\n",
    "                        overlap = 1\n",
    "                        break\n",
    "                else:\n",
    "                    if (morf2[0] + 2- morf[0])%3 == 0:\n",
    "                        overlap = 1\n",
    "                        break        "
   ]
  },
  {
   "cell_type": "markdown",
   "id": "051cf24c-dc4b-4426-a4f2-2aa1c00b7c39",
   "metadata": {},
   "source": [
    "##### Classify remaining ORFs into annotated, intergenic or overlapping"
   ]
  },
  {
   "cell_type": "code",
   "execution_count": 40,
   "id": "de71ffbe-5d80-4002-bc47-6873bfc4f424",
   "metadata": {},
   "outputs": [],
   "source": [
    "new_annotation_features_dict = {}\n",
    "for (locus, product, start, stop, strand, name, functional_category, gene_ontology) in mycobrowser_cds_boundaries:\n",
    "    if strand == 1:\n",
    "        new_annotation_features_dict[stop] = (locus, product, start, stop, strand)\n",
    "    else:\n",
    "        new_annotation_features_dict[start] = (locus, product, start, stop, strand)"
   ]
  },
  {
   "cell_type": "code",
   "execution_count": 57,
   "id": "c555c586-37bb-45f0-9462-184a2a19a1fc",
   "metadata": {},
   "outputs": [
    {
     "name": "stderr",
     "output_type": "stream",
     "text": [
      "100%|██████████| 42441/42441 [00:20<00:00, 2036.02it/s]\n"
     ]
    },
    {
     "data": {
      "text/plain": [
       "[Text(0.5, 0, 'P-value'),\n",
       " Text(0, 0.5, 'Cumulative Proportion'),\n",
       " Text(0.5, 1.0, '')]"
      ]
     },
     "execution_count": 57,
     "metadata": {},
     "output_type": "execute_result"
    },
    {
     "data": {
      "image/png": "[encoded data removed]",
      "text/plain": [
       "<Figure size 432x288 with 1 Axes>"
      ]
     },
     "metadata": {
      "needs_background": "light"
     },
     "output_type": "display_data"
    }
   ],
   "source": [
    "temp = []\n",
    "for (start, stop, strand, length) in tqdm(maximal_reading_frame_orfs):\n",
    "    if compass_coverage(start, stop)>0.5:\n",
    "        continue\n",
    "    mutation_counts = full_sample_zero_and_non_zero_mutation_counts[start:stop]\n",
    "    if strand == 1:\n",
    "        score = score_region(mutation_counts, start)\n",
    "    else:\n",
    "        score = score_region(list(reversed(mutation_counts)), start)\n",
    "  \n",
    "    if (strand == 1 and stop in new_annotation_features_dict) or (strand == -1 and start in new_annotation_features_dict):\n",
    "        temp.append(['Annotated', score, (start, stop, strand, length)])\n",
    "    else:\n",
    "        overlap = 0\n",
    "        for cds in mycobrowser_cds_boundaries:\n",
    "            if (cds[2] <= start and cds[3] >= start) or (cds[2] <= stop and cds[3] >= stop):\n",
    "                overlap = 1\n",
    "                break\n",
    "        if overlap == 1:\n",
    "            if (cds[4] == strand and (cds[2] - start)%3 == 0) or (not(cds[4] == strand) and (cds[2] - start)%3 == 2):\n",
    "                temp.append(['O/L IF', score, (start, stop, strand, length)])\n",
    "            else:\n",
    "                temp.append(['O/L Not IF', score, (start, stop, strand, length)])\n",
    "        else:\n",
    "            temp.append(['No O/L', score, (start, stop, strand, length)])\n",
    "morf_df = pd.DataFrame(temp, columns = ['type','score','location'])\n",
    "a = sns.ecdfplot(data = morf_df, x = 'score', hue = 'type')\n",
    "a.set(xlabel =\"P-value\", ylabel = \"Cumulative Proportion\", title ='')"
   ]
  },
  {
   "cell_type": "code",
   "execution_count": 58,
   "id": "c721bac3-b04c-4a33-8679-86e2f3448ab3",
   "metadata": {},
   "outputs": [
    {
     "data": {
      "text/plain": [
       "2451"
      ]
     },
     "execution_count": 58,
     "metadata": {},
     "output_type": "execute_result"
    }
   ],
   "source": [
    "len(morf_df[morf_df['type'] == 'No O/L'])"
   ]
  },
  {
   "cell_type": "markdown",
   "id": "06293f3f-ec31-498c-a974-9deedd995768",
   "metadata": {},
   "source": [
    "#### Intergenic regions"
   ]
  },
  {
   "cell_type": "code",
   "execution_count": 24,
   "id": "4db4f21c-79c7-4a48-962b-77fde1aab2d5",
   "metadata": {},
   "outputs": [],
   "source": [
    "temp = []\n",
    "min_intergenic_length = 20\n",
    "intergenic_regions = []\n",
    "max_stop = 0\n",
    "ORFFinder = orffn.ORF_Finder(full_sequence)\n",
    "for n,cds in enumerate(mycobrowser_cds_boundaries):\n",
    "    stop = cds[3]\n",
    "    max_stop = max(stop, max_stop)\n",
    "    if n < len(mycobrowser_cds_boundaries) - 1:\n",
    "        if mycobrowser_cds_boundaries[n+1][2] > max_stop + min_intergenic_length and compass_coverage(max_stop, mycobrowser_cds_boundaries[n+1][2]) == 0:\n",
    "            intergenic_regions.append([max_stop, mycobrowser_cds_boundaries[n+1][2]])\n",
    "for [start, stop] in intergenic_regions:\n",
    "    mutation_counts = full_sample_zero_and_non_zero_mutation_counts[start:stop]#\n",
    "    temp.append((start, stop, sum([x for x in mutation_counts if x < 10]) / (len([x for x in mutation_counts if x < 10]))))"
   ]
  },
  {
   "cell_type": "code",
   "execution_count": 25,
   "id": "edf6ed6c-9838-4fa6-abef-e45f4983a0ec",
   "metadata": {},
   "outputs": [
    {
     "data": {
      "text/plain": [
       "<AxesSubplot:ylabel='Count'>"
      ]
     },
     "execution_count": 25,
     "metadata": {},
     "output_type": "execute_result"
    },
    {
     "data": {
      "image/png": "[encoded data removed]",
      "text/plain": [
       "<Figure size 432x288 with 1 Axes>"
      ]
     },
     "metadata": {
      "needs_background": "light"
     },
     "output_type": "display_data"
    }
   ],
   "source": [
    "sns.histplot([x[2] for x in temp])"
   ]
  },
  {
   "cell_type": "code",
   "execution_count": null,
   "id": "926c9a9a-b896-4f69-9cb2-60a4769b4644",
   "metadata": {},
   "outputs": [],
   "source": [
    "longest_chain_lengths = []\n",
    "for (start, stop, ave) in temp:\n",
    "    longest_chain = 0\n",
    "    chain_started = False\n",
    "    co_ords = (0,0)\n",
    "    for i in range(start, stop):\n",
    "        if full_sample_zero_and_non_zero_mutation_counts[i] == 0:\n",
    "            if chain_started == False:\n",
    "                chain_start = i\n",
    "                chain_started = True\n",
    "            else:\n",
    "                pass\n",
    "        else:\n",
    "            if chain_started == True:\n",
    "                if i - chain_start > longest_chain:\n",
    "                    longest_chain = i - chain_start\n",
    "                    co_ords = (chain_start, i)\n",
    "                chain_started = False\n",
    "    longest_chain_lengths.append(longest_chain)\n",
    "    if longest_chain > 20:\n",
    "        print(start, stop, longest_chain, co_ords, ave)"
   ]
  },
  {
   "cell_type": "code",
   "execution_count": null,
   "id": "829456c6-6e17-44d1-8631-dee76e531d5d",
   "metadata": {},
   "outputs": [],
   "source": [
    "print(full_sample_zero_and_non_zero_mutation_counts[3414958:3415434])"
   ]
  },
  {
   "cell_type": "code",
   "execution_count": null,
   "id": "095ea092-6482-46a5-97c1-1a9d41f65509",
   "metadata": {},
   "outputs": [],
   "source": [
    "print(sum([x for x in full_sample_zero_and_non_zero_mutation_counts if x <10])/len([x for x in full_sample_zero_and_non_zero_mutation_counts if x <10]))"
   ]
  },
  {
   "cell_type": "code",
   "execution_count": null,
   "id": "aa356cf0-b4f6-449f-81df-cd66784ba355",
   "metadata": {},
   "outputs": [],
   "source": [
    "print(util.reverse_complement(full_sequence[3414958:3415434]))"
   ]
  },
  {
   "cell_type": "code",
   "execution_count": null,
   "id": "edc3f283-1e90-4304-a9f1-05084c6c6e0d",
   "metadata": {},
   "outputs": [],
   "source": [
    "sns.histplot(longest_chain_lengths)"
   ]
  },
  {
   "cell_type": "markdown",
   "id": "4066dba2-61cf-4753-844b-223bd70f97c8",
   "metadata": {},
   "source": [
    "#### Produce FASTA file of annotated proteins and another FASTA file of low p-value MORFs which don't match known CDSs "
   ]
  },
  {
   "cell_type": "code",
   "execution_count": null,
   "id": "1c1302e3-e4c2-4a7a-8543-578365e7642d",
   "metadata": {},
   "outputs": [],
   "source": [
    "trns = util.Translator()\n",
    "mycobrowser_proteins = []\n",
    "for (locus, product, start, stop, strand, name, functional_category, gene_ontology) in mycobrowser_cds_boundaries:\n",
    "    protein_seq = trns.translate_sequence(full_sequence[start:stop],strand,0)\n",
    "    mycobrowser_proteins.append(['NC_000962.3@'+str(start)+'_'+str(stop)+'_'+str(strand), protein_seq[:-1]])\n",
    "util.produce_fasta_file(mycobrowser_proteins, project_dir + '/mycobrowser_proteins.faa')"
   ]
  },
  {
   "cell_type": "code",
   "execution_count": null,
   "id": "8978adf6-eec4-4ead-987b-fa976ea7eeac",
   "metadata": {},
   "outputs": [],
   "source": [
    "trns = util.Translator()\n",
    "other_sense_morfs = []\n",
    "for morf in maximal_reading_frame_orfs:\n",
    "    strand = morf[0][2]\n",
    "    start = morf[0][0]\n",
    "    stop = morf[0][1]\n",
    "    annotated_feature = ''\n",
    "    if strand == 1 and stop in new_annotation_features_dict:\n",
    "        annotated_feature = new_annotation_features_dict[stop]\n",
    "    if strand == -1 and start in new_annotation_features_dict:\n",
    "        annotated_feature = new_annotation_features_dict[start]\n",
    "    if annotated_feature == '' and morf[1] == 0:\n",
    "        protein_seq = trns.translate_sequence(full_sequence[morf[0][0]:morf[0][1]],morf[0][2],0)\n",
    "        other_sense_morfs.append(['NC_000962.3@'+str(morf[0][0])+'_'+str(morf[0][1])+'_'+str(morf[0][2]), protein_seq[:-1]])"
   ]
  },
  {
   "cell_type": "code",
   "execution_count": null,
   "id": "6b029b57-3067-4e6f-a3f9-b9a6e59aaeb7",
   "metadata": {},
   "outputs": [],
   "source": [
    "util.produce_fasta_file(other_sense_morfs, project_dir + '/other_sense_morfs.faa')"
   ]
  },
  {
   "cell_type": "code",
   "execution_count": null,
   "id": "9d0ae53d-397f-4f39-96e7-893ca3457079",
   "metadata": {},
   "outputs": [],
   "source": [
    "if 1==0:\n",
    "#if full_run == True:\n",
    "    w_d = os.getcwd()\n",
    "    os.chdir(\"F:/\")\n",
    "    subprocess.run('cd '+ project_dir + ' &  makeblastdb -in mycobrowser_proteins.faa -dbtype prot -out mycobrowser_prot', shell=True, capture_output = True)\n",
    "    os.chdir(w_d)"
   ]
  },
  {
   "cell_type": "code",
   "execution_count": null,
   "id": "052c8ec0-abed-4e27-afb1-fe06f4e49b1a",
   "metadata": {},
   "outputs": [],
   "source": [
    "if 1==0:\n",
    "#if full_run == True:\n",
    "    w_d = os.getcwd()\n",
    "    os.chdir(\"F:/\")\n",
    "    subprocess.run('cd '+ project_dir + ' &  makeblastdb -in other_sense_morfs.faa -dbtype prot -out other_sense_morf_prot', shell=True, capture_output = True)\n",
    "    os.chdir(w_d)"
   ]
  },
  {
   "cell_type": "code",
   "execution_count": null,
   "id": "e173de71-ce99-4910-85be-e62c4ec80392",
   "metadata": {},
   "outputs": [],
   "source": [
    "if 1==0:\n",
    "#if full_run == True:\n",
    "    w_d = os.getcwd()\n",
    "    os.chdir(\"F:/\")\n",
    "    subprocess.run('cd f:\\\\Datasets\\\\BLAST\\\\subj_prot & blastp -query other_sense_morfs.faa -db subj_prot -out blastp_results_other_sense_morfs_query_subject.csv -evalue 1e-7 -seg no -outfmt  \"10 qaccver saccver qlen slen pident length mismatch gapopen qstart qend sstart send evalue bitscore\" -num_threads 16', shell=True, capture_output = True)\n",
    "    subprocess.run('cd f:\\\\Datasets\\\\BLAST\\\\other_sense_morf_prot & blastp -query subject_proteins.faa -db other_sense_morf_prot -out blastp_results_subject_no_orf_query.csv -evalue 1e-7 -seg no -outfmt  \"10 qaccver saccver qlen slen pident length mismatch gapopen qstart qend sstart send evalue bitscore\" -num_threads 16', shell=True, capture_output = True)\n",
    "    os.chdir(w_d)"
   ]
  },
  {
   "cell_type": "code",
   "execution_count": null,
   "id": "4ca7e2fe-42dc-4aec-a884-19bdca8f640b",
   "metadata": {},
   "outputs": [],
   "source": [
    "if 1==0:\n",
    "#if full_run == True:\n",
    "    w_d = os.getcwd()\n",
    "    os.chdir(\"F:/\")\n",
    "    subprocess.run('cd f:\\\\Datasets\\\\BLAST\\\\subj_prot & blastp -query mycobrowser_proteins.faa -db subj_prot -out blastp_results_mycobrowser_proteins_query_subject.csv -evalue 1e-7 -seg no -outfmt  \"10 qaccver saccver qlen slen pident length mismatch gapopen qstart qend sstart send evalue bitscore\" -num_threads 16', shell=True, capture_output = True)\n",
    "    subprocess.run('cd f:\\\\Datasets\\\\BLAST\\\\mycobrowser_prot & blastp -query subject_proteins.faa -db mycobrowser_prot -out blastp_results_subject_no_orf_query.csv -evalue 1e-7 -seg no -outfmt  \"10 qaccver saccver qlen slen pident length mismatch gapopen qstart qend sstart send evalue bitscore\" -num_threads 16', shell=True, capture_output = True)\n",
    "    os.chdir(w_d)"
   ]
  },
  {
   "cell_type": "markdown",
   "id": "05029dbb-c59d-4f00-a716-a9cce31bd2cb",
   "metadata": {},
   "source": [
    "#### Establish reciprocal best hits in annotated CDS and other sense ORFs"
   ]
  },
  {
   "cell_type": "code",
   "execution_count": 28,
   "id": "12ebdd99-9e53-4d93-9c22-15d543f0534f",
   "metadata": {},
   "outputs": [],
   "source": [
    "blast_results_1 = process_blast_output('f:/Datasets/BLAST/subj_prot/blastp_results_other_sense_morfs_query_subject.csv')\n",
    "blast_results_2 = process_blast_output('f:/Datasets/BLAST/other_sense_morf_prot/blastp_results_subject_no_orf_query.csv')"
   ]
  },
  {
   "cell_type": "code",
   "execution_count": 29,
   "id": "6e298f8d-9ba6-4848-b35a-16e4c4de9515",
   "metadata": {},
   "outputs": [],
   "source": [
    "temp_df = keep_reciprocal_best_hits(blast_results_1, blast_results_2)"
   ]
  },
  {
   "cell_type": "code",
   "execution_count": 30,
   "id": "b2894426-f1d2-4e86-b0e3-7879d96f34ac",
   "metadata": {},
   "outputs": [],
   "source": [
    "blast_results_3 = process_blast_output('f:/Datasets/BLAST/subj_prot/blastp_results_mycobrowser_proteins_query_subject.csv')\n",
    "blast_results_4 = process_blast_output('f:/Datasets/BLAST/mycobrowser_prot/blastp_results_subject_no_orf_query.csv')"
   ]
  },
  {
   "cell_type": "code",
   "execution_count": 31,
   "id": "7f970a0b-4f65-4042-85c9-b63b721e8664",
   "metadata": {},
   "outputs": [],
   "source": [
    "temp_df_2 = keep_reciprocal_best_hits(blast_results_3, blast_results_4)"
   ]
  },
  {
   "cell_type": "code",
   "execution_count": null,
   "id": "0f1c5ff4-85b6-4d2c-97e0-1ec7ce785da0",
   "metadata": {},
   "outputs": [],
   "source": [
    "test_1 = temp_df[['query_accession_ver','species_count']].drop_duplicates()\n",
    "test_2 = temp_df_2[['query_accession_ver','species_count']].drop_duplicates()"
   ]
  },
  {
   "cell_type": "code",
   "execution_count": null,
   "id": "e9d6546a-4e28-44c2-95cf-d5dd5e02ef27",
   "metadata": {},
   "outputs": [],
   "source": [
    "for i, r in test_1.iterrows():\n",
    "    pos = r['query_accession_ver'].split('@')[1].split('_')\n",
    "    test_1.at[i, 'start'] = int(pos[0])\n",
    "    test_1.at[i, 'stop'] = int(pos[1])\n",
    "    test_1.at[i, 'strand'] = int(pos[2])"
   ]
  },
  {
   "cell_type": "code",
   "execution_count": null,
   "id": "69368be8-b788-446a-b59a-8ef0cb06d149",
   "metadata": {},
   "outputs": [],
   "source": [
    "for i, r in test_2.iterrows():\n",
    "    pos = r['query_accession_ver'].split('@')[1].split('_')\n",
    "    test_2.at[i, 'start'] = int(pos[0])\n",
    "    test_2.at[i, 'stop'] = int(pos[1])\n",
    "    test_2.at[i, 'strand'] = int(pos[2])"
   ]
  },
  {
   "cell_type": "code",
   "execution_count": null,
   "id": "59e28184-13b1-4057-b6d4-767ead0292aa",
   "metadata": {},
   "outputs": [],
   "source": [
    "test_1=test_1.sort_values(by='start') \n",
    "test_2=test_2.sort_values(by='start') "
   ]
  },
  {
   "cell_type": "code",
   "execution_count": null,
   "id": "6bf1745d-1e1d-4ddf-bb82-8bd2ee2a0ad6",
   "metadata": {},
   "outputs": [],
   "source": [
    "test_1.to_csv(project_dir +'/test_1.csv')\n",
    "test_2.to_csv(project_dir +'/test_2.csv')"
   ]
  },
  {
   "cell_type": "code",
   "execution_count": 26,
   "id": "2472152e-d30f-4448-a8ed-64252435a79d",
   "metadata": {},
   "outputs": [],
   "source": [
    "test_1 = pd.read_csv(project_dir +'/test_1.csv')\n",
    "test_2 = pd.read_csv(project_dir +'/test_2.csv')"
   ]
  },
  {
   "cell_type": "code",
   "execution_count": null,
   "id": "4df30a12-559a-4f8f-b9f0-b3250931b50a",
   "metadata": {},
   "outputs": [],
   "source": [
    "for i, r in test_1.iterrows():\n",
    "    (query_ref_1, num_1, start_1, stop_1) = (r['query_accession_ver'], r['species_count'], r['start'], r['stop'])\n",
    "    unmatched = 0\n",
    "    for j, s in test_2.iterrows():\n",
    "        (query_ref_2, num_2, start_2, stop_2) = (s['query_accession_ver'], s['species_count'], s['start'], s['stop'])\n",
    "        if (start_2 <= start_1 and stop_2 >= stop_1):\n",
    "            print(query_ref_1, num_1, query_ref_2, num_2)\n",
    "            temp_1 = blast_results_1.query(\"query_accession_ver == @query_ref_1\")\n",
    "            hit_species_1 = set(list(temp_1['subject_species'].unique()))\n",
    "            ave_perc_id_1 = 0\n",
    "            for i, r in temp_1.iterrows():\n",
    "                ave_perc_id_1 += r['percent_identical_matches']\n",
    "            ave_perc_id_1 = ave_perc_id_1 / len(temp_1)\n",
    "            temp_2 = blast_results_3.query(\"query_accession_ver == @query_ref_2\")\n",
    "            hit_species_2 = set(list(temp_2['subject_species'].unique()))\n",
    "            ave_perc_id_2 = 0\n",
    "            for i, r in temp_2.iterrows():\n",
    "                ave_perc_id_2 += r['percent_identical_matches']\n",
    "            ave_perc_id_2 = ave_perc_id_2 / len(temp_2)\n",
    "            print(ave_perc_id_1, ave_perc_id_2, hit_species_1.difference(hit_species_2))\n",
    "            unmatched =  1\n",
    "            break\n",
    "    if unmatched == 0:\n",
    "        print('Unmatched',query_ref_1, num_1)\n",
    "        temp_1 = blast_results_1.query(\"query_accession_ver == @query_ref_1\")\n",
    "        ave_perc_id_1 = 0\n",
    "        for i, r in temp_1.iterrows():\n",
    "            ave_perc_id_1 += r['percent_identical_matches']\n",
    "        ave_perc_id_1 = ave_perc_id_1 / len(temp_1)\n",
    "        print(ave_perc_id_1)"
   ]
  },
  {
   "cell_type": "code",
   "execution_count": 60,
   "id": "0ca40d43-8409-48a4-96f6-f1c3cebd6e79",
   "metadata": {},
   "outputs": [
    {
     "data": {
      "text/plain": [
       "4.475309012264006e-13"
      ]
     },
     "execution_count": 60,
     "metadata": {},
     "output_type": "execute_result"
    }
   ],
   "source": [
    "score_region(list(reversed(full_sample_zero_and_non_zero_mutation_counts[2124829+3:2125048-3])),2124829+3)"
   ]
  },
  {
   "cell_type": "code",
   "execution_count": 20,
   "id": "b8cad5cc-c136-4e91-808d-13f94a129ecf",
   "metadata": {},
   "outputs": [
    {
     "data": {
      "text/plain": [
       "'MLRGEIWQVDLDPARGSAANMRRPAVIVSNDRANAAAIRLDRGVVPVVPVTSNTEKVPIPGVVAGSERWPGRRFEGAGPAGWIRRCATSPLPS*'"
      ]
     },
     "execution_count": 20,
     "metadata": {},
     "output_type": "execute_result"
    }
   ],
   "source": [
    "tr = util.Translator()\n",
    "tr.translate_sequence(full_sequence[547075:547357],-1,0)"
   ]
  },
  {
   "cell_type": "code",
   "execution_count": 24,
   "id": "a57998a9-ae0d-4d61-9341-41d63f3525e2",
   "metadata": {},
   "outputs": [],
   "source": [
    "mutation_counts = list(reversed(full_sample_zero_and_non_zero_mutation_counts[547034:547357]))"
   ]
  },
  {
   "cell_type": "code",
   "execution_count": 26,
   "id": "a2587c9d-c39f-440a-b3d2-2c3e3099f96a",
   "metadata": {},
   "outputs": [
    {
     "data": {
      "text/plain": [
       "0.9597027769407592"
      ]
     },
     "execution_count": 26,
     "metadata": {},
     "output_type": "execute_result"
    }
   ],
   "source": [
    "score_region(mutation_counts, 547034)"
   ]
  },
  {
   "cell_type": "code",
   "execution_count": null,
   "id": "7cc47b9c-75b0-45a1-9194-2e1598b23d51",
   "metadata": {},
   "outputs": [],
   "source": [
    "score_region(mutation_counts = full_sample_zero_and_non_zero_mutation_counts[start:stop]\n",
    "    if strand == 1:\n",
    "        mutation_counts_2 = mutation_counts\n",
    "    else:\n",
    "        mutation_counts_2 = list(reversed(mutation_counts))\n",
    "    scores.append(score_region(mutation_counts_2, start))"
   ]
  }
 ],
 "metadata": {
  "kernelspec": {
   "display_name": "Python 3 (ipykernel)",
   "language": "python",
   "name": "python3"
  },
  "language_info": {
   "codemirror_mode": {
    "name": "ipython",
    "version": 3
   },
   "file_extension": ".py",
   "mimetype": "text/x-python",
   "name": "python",
   "nbconvert_exporter": "python",
   "pygments_lexer": "ipython3",
   "version": "3.9.7"
  }
 },
 "nbformat": 4,
 "nbformat_minor": 5
}
