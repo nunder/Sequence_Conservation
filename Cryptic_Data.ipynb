{
 "cells": [
  {
   "cell_type": "code",
   "execution_count": 127,
   "id": "86772f7a-4290-484b-9e7c-83bf0b69b281",
   "metadata": {},
   "outputs": [],
   "source": [
    "import pandas as pd\n",
    "import pickle\n",
    "import seaborn as sns\n",
    "import matplotlib.pyplot as plt\n",
    "import numpy as np\n",
    "from scipy.fft import fft, fftfreq\n",
    "from Bio import Entrez, SeqIO, AlignIO, pairwise2, Align, Seq, motifs\n",
    "from Bio.Seq import Seq\n",
    "from Bio.SeqFeature import SeqFeature, FeatureLocation\n"
   ]
  },
  {
   "cell_type": "code",
   "execution_count": 156,
   "id": "1988a242-f558-4643-b3a9-27272fa7bebc",
   "metadata": {},
   "outputs": [],
   "source": [
    "project_dir = 'D:/Project_Data/Project_6'\n",
    "genome_datasets_dir = project_dir + '/Datasets/NCBI_Datasets'\n",
    "literature_datasets_dir = project_dir + '/Datasets/Data_From_Publications'\n",
    "genome_record = next(SeqIO.parse(genome_datasets_dir + '/GCF_000195955.2/genomic.gbff', \"genbank\"))\n",
    "full_sequence = genome_record.seq"
   ]
  },
  {
   "cell_type": "code",
   "execution_count": 2,
   "id": "6846dfdd-bd58-49be-98d1-9c6fbc463fab",
   "metadata": {},
   "outputs": [],
   "source": [
    "cryptic_input_path = \"D:/Project_Data/CRYPTIC_DATA/\"\n",
    "cryptic_output_path = \"D:/Project_Data/CRYPTIC_DATA/Cryptic_Data_Analysis\""
   ]
  },
  {
   "cell_type": "code",
   "execution_count": 3,
   "id": "83ec5a55-7489-443f-87e7-b38c6d5c6c5e",
   "metadata": {},
   "outputs": [
    {
     "name": "stdout",
     "output_type": "stream",
     "text": [
      "Chunk 1\n",
      "Chunk 2\n"
     ]
    },
    {
     "name": "stderr",
     "output_type": "stream",
     "text": [
      "C:\\Users\\nicho\\AppData\\Local\\Temp/ipykernel_21256/1633710761.py:5: DtypeWarning: Columns (28) have mixed types. Specify dtype option on import or set low_memory=False.\n",
      "  for chunk in reader:\n"
     ]
    },
    {
     "name": "stdout",
     "output_type": "stream",
     "text": [
      "Chunk 3\n"
     ]
    },
    {
     "name": "stderr",
     "output_type": "stream",
     "text": [
      "C:\\Users\\nicho\\AppData\\Local\\Temp/ipykernel_21256/1633710761.py:5: DtypeWarning: Columns (28) have mixed types. Specify dtype option on import or set low_memory=False.\n",
      "  for chunk in reader:\n"
     ]
    },
    {
     "name": "stdout",
     "output_type": "stream",
     "text": [
      "Chunk 4\n",
      "Chunk 5\n",
      "Chunk 6\n",
      "Chunk 7\n",
      "Chunk 8\n",
      "Chunk 9\n",
      "Chunk 10\n",
      "Chunk 11\n",
      "Chunk 12\n",
      "Chunk 13\n",
      "Chunk 14\n"
     ]
    },
    {
     "name": "stderr",
     "output_type": "stream",
     "text": [
      "C:\\Users\\nicho\\AppData\\Local\\Temp/ipykernel_21256/1633710761.py:5: DtypeWarning: Columns (28) have mixed types. Specify dtype option on import or set low_memory=False.\n",
      "  for chunk in reader:\n"
     ]
    },
    {
     "name": "stdout",
     "output_type": "stream",
     "text": [
      "Chunk 15\n",
      "Chunk 16\n",
      "Chunk 17\n",
      "Chunk 18\n",
      "Chunk 19\n",
      "Chunk 20\n"
     ]
    }
   ],
   "source": [
    "variant_count_dict = {}\n",
    "chunksize = 0.5 * (10 ** 7) \n",
    "chunknum = 1\n",
    "with pd.read_csv(cryptic_input_path + \"VARIANTS.csv\", chunksize=chunksize) as reader:\n",
    "    for chunk in reader:\n",
    "        print(\"Chunk \" + str(chunknum)) \n",
    "        chunknum += 1\n",
    "        for i, r in chunk.iterrows():\n",
    "            if r['GENOME_INDEX'] in variant_count_dict:\n",
    "                variant_count_dict[r['GENOME_INDEX']] = variant_count_dict[r['GENOME_INDEX']] + 1\n",
    "            else:\n",
    "                variant_count_dict[r['GENOME_INDEX']] = 1\n",
    "with open(cryptic_output_path + '/' + 'variant_count_dictionary.pkl', 'wb') as f:\n",
    "    pickle.dump(variant_count_dict, f)"
   ]
  },
  {
   "cell_type": "code",
   "execution_count": 160,
   "id": "53bf6042-849e-4f76-b244-e2b181693c82",
   "metadata": {},
   "outputs": [],
   "source": [
    "cryptic_variant_count_dict = {}\n",
    "for i in range(len(full_sequence)):\n",
    "    if i+1 in variant_count_dict:\n",
    "        cryptic_variant_count_dict[i] = variant_count_dict[i+1]\n",
    "    else:\n",
    "        cryptic_variant_count_dict[i] = 0\n",
    "with open(literature_datasets_dir + '/' + 'cryptic_variant_count_dictionary.pkl','wb') as f:\n",
    "    pickle.dump(cryptic_variant_count_dict, f)\n"
   ]
  },
  {
   "cell_type": "code",
   "execution_count": null,
   "id": "16e17cbd-b70f-400b-935e-9ee7b24096c1",
   "metadata": {},
   "outputs": [],
   "source": [
    "for i in range(4099696, 4099098, -1):\n",
    "    if i in nick_dict:\n",
    "        print(i, nick_dict[i])\n",
    "    else:\n",
    "        print(i, 0)"
   ]
  },
  {
   "cell_type": "code",
   "execution_count": 165,
   "id": "6d9802a2-8237-46cf-92a2-5c4e76c10f06",
   "metadata": {},
   "outputs": [
    {
     "name": "stdout",
     "output_type": "stream",
     "text": [
      "10\n"
     ]
    }
   ],
   "source": [
    "print(variant_count_dict[4099403])"
   ]
  },
  {
   "cell_type": "code",
   "execution_count": 10,
   "id": "632dd758-5e44-4e2b-a8fd-ddd1ef037440",
   "metadata": {},
   "outputs": [
    {
     "name": "stdout",
     "output_type": "stream",
     "text": [
      "4411529\n"
     ]
    }
   ],
   "source": [
    "max_key = 0\n",
    "for key, value in variant_count_dict.items():\n",
    "    if key > max_key:\n",
    "        max_key = key\n",
    "print(max_key)"
   ]
  },
  {
   "cell_type": "code",
   "execution_count": 14,
   "id": "149ecd87-1d9f-40f3-a1f6-b205bbc540a0",
   "metadata": {},
   "outputs": [],
   "source": [
    "nick_dict = []\n",
    "for i in range(max_key + 1):\n",
    "    if i in variant_count_dict:\n",
    "        nick_dict.append(variant_count_dict[i])\n",
    "    else:\n",
    "        nick_dict.append(0)\n"
   ]
  },
  {
   "cell_type": "code",
   "execution_count": 104,
   "id": "77ff1dc7-b0e0-46c9-8c8c-6464b7ccfa45",
   "metadata": {},
   "outputs": [
    {
     "data": {
      "image/png": "[encoded data removed]",
      "text/plain": [
       "<Figure size 432x288 with 1 Axes>"
      ]
     },
     "metadata": {
      "needs_background": "light"
     },
     "output_type": "display_data"
    },
    {
     "data": {
      "image/png": "[encoded data removed]",
      "text/plain": [
       "<Figure size 432x288 with 1 Axes>"
      ]
     },
     "metadata": {
      "needs_background": "light"
     },
     "output_type": "display_data"
    },
    {
     "data": {
      "image/png": "[encoded data removed]",
      "text/plain": [
       "<Figure size 432x288 with 1 Axes>"
      ]
     },
     "metadata": {
      "needs_background": "light"
     },
     "output_type": "display_data"
    }
   ],
   "source": [
    "start = 4099375\n",
    "end = 4099521\n",
    "x_ax = list(range(start,end))\n",
    "y_ax = nick_dict[start:end]\n",
    "y_alt_ax = nick_dict[start:end]\n",
    "for i, val in enumerate(y_ax):\n",
    "    if val > 0:\n",
    "        y_alt_ax[i] = val\n",
    "        y_ax[i] = 1\n",
    "        \n",
    "plt.plot(x_ax, y_alt_ax)\n",
    "plt.show()\n",
    "\n",
    "plt.plot(x_ax, y_ax)\n",
    "plt.show()\n",
    "\n",
    "# Number of samples in normalized_tone\n",
    "N = len(x_ax)\n",
    "\n",
    "yf = fft(y_ax)\n",
    "xf = fftfreq(N, 1)\n",
    "\n",
    "plt.plot(xf[1:], np.abs(yf)[1:])\n",
    "plt.show()\n"
   ]
  },
  {
   "cell_type": "code",
   "execution_count": 114,
   "id": "3b5606a9-60e9-45f1-ae5b-893fd327ba3d",
   "metadata": {},
   "outputs": [
    {
     "name": "stdout",
     "output_type": "stream",
     "text": [
      "1\n",
      "2\n"
     ]
    },
    {
     "name": "stderr",
     "output_type": "stream",
     "text": [
      "C:\\Users\\nicho\\AppData\\Local\\Temp/ipykernel_21256/1603426384.py:5: DtypeWarning: Columns (28) have mixed types. Specify dtype option on import or set low_memory=False.\n",
      "  for chunk in reader:\n"
     ]
    },
    {
     "name": "stdout",
     "output_type": "stream",
     "text": [
      "3\n"
     ]
    },
    {
     "name": "stderr",
     "output_type": "stream",
     "text": [
      "C:\\Users\\nicho\\AppData\\Local\\Temp/ipykernel_21256/1603426384.py:5: DtypeWarning: Columns (28) have mixed types. Specify dtype option on import or set low_memory=False.\n",
      "  for chunk in reader:\n"
     ]
    },
    {
     "name": "stdout",
     "output_type": "stream",
     "text": [
      "4\n",
      "5\n",
      "6\n",
      "7\n",
      "8\n",
      "9\n",
      "10\n",
      "11\n",
      "12\n",
      "13\n",
      "14\n"
     ]
    },
    {
     "name": "stderr",
     "output_type": "stream",
     "text": [
      "C:\\Users\\nicho\\AppData\\Local\\Temp/ipykernel_21256/1603426384.py:5: DtypeWarning: Columns (28) have mixed types. Specify dtype option on import or set low_memory=False.\n",
      "  for chunk in reader:\n"
     ]
    },
    {
     "name": "stdout",
     "output_type": "stream",
     "text": [
      "15\n",
      "16\n",
      "17\n",
      "18\n",
      "19\n",
      "20\n"
     ]
    }
   ],
   "source": [
    "temp = []\n",
    "chunksize = 0.5 * (10 ** 7) \n",
    "chunknum = 0\n",
    "with pd.read_csv(cryptic_input_path + \"VARIANTS.csv\", chunksize=chunksize) as reader:\n",
    "    for chunk in reader:\n",
    "        chunknum += 1\n",
    "        print(chunknum)\n",
    "        for i, r in chunk.iterrows():\n",
    "            if r['GENOME_INDEX'] in range(start,end):\n",
    "                temp.append([r['UNIQUEID'], r['GENOME_INDEX'], r['REF'],r['ALT'],r['MUTATION_TYPE']])\n",
    "df = pd.DataFrame(temp, columns = ['UNIQUEID', 'GENOME_INDEX','REF','ALT','MUTATION_TYPE'])\n",
    "df.to_csv(cryptic_output_path + '/' + 'upstream_3660.csv')"
   ]
  },
  {
   "cell_type": "code",
   "execution_count": 115,
   "id": "d6aa7aff-e987-4f32-a2e6-4a3122a96cd4",
   "metadata": {},
   "outputs": [
    {
     "name": "stdout",
     "output_type": "stream",
     "text": [
      "                                               UNIQUEID  GENOME_INDEX  REF  \\\n",
      "0                    site.02.subj.0958.lab.22A197.iso.1       4099401  cag   \n",
      "1                site.02.subj.0691.lab.2014241055.iso.1       4099481    g   \n",
      "2                site.02.subj.0330.lab.2015235158.iso.1       4099481    g   \n",
      "3                site.02.subj.0750.lab.2013235025.iso.1       4099382    c   \n",
      "4                site.02.subj.0151.lab.2013232055.iso.1       4099481    g   \n",
      "...                                                 ...           ...  ...   \n",
      "5919       site.10.subj.YA00067932.lab.YA00067932.iso.1       4099481    g   \n",
      "5920       site.10.subj.YA00133952.lab.YA00133952.iso.1       4099481    g   \n",
      "5921       site.10.subj.YA00029870.lab.YA00029870.iso.1       4099481    g   \n",
      "5922  site.10.subj.SACG01343657_S3.lab.CG01343657_S3...       4099481    g   \n",
      "5923       site.10.subj.PH00493578.lab.PH00493578.iso.1       4099481    g   \n",
      "\n",
      "       ALT MUTATION_TYPE  \n",
      "0     cagg         INDEL  \n",
      "1        a           SNP  \n",
      "2        a           SNP  \n",
      "3        t           SNP  \n",
      "4        a           SNP  \n",
      "...    ...           ...  \n",
      "5919     a           SNP  \n",
      "5920     a           SNP  \n",
      "5921     a           SNP  \n",
      "5922     a           SNP  \n",
      "5923     a           SNP  \n",
      "\n",
      "[5924 rows x 5 columns]\n"
     ]
    }
   ],
   "source": [
    "print(df)"
   ]
  },
  {
   "cell_type": "code",
   "execution_count": 118,
   "id": "61b9d3a2-7556-4def-a2e5-d5909e7036f6",
   "metadata": {},
   "outputs": [],
   "source": [
    "nick= df[['GENOME_INDEX', 'REF','ALT']]\n",
    "a = nick.drop_duplicates()"
   ]
  },
  {
   "cell_type": "code",
   "execution_count": 119,
   "id": "20ae5fba-f082-49b5-9dec-47c5a6bbbfe8",
   "metadata": {},
   "outputs": [
    {
     "data": {
      "text/html": [
       "<div>\n",
       "<style scoped>\n",
       "    .dataframe tbody tr th:only-of-type {\n",
       "        vertical-align: middle;\n",
       "    }\n",
       "\n",
       "    .dataframe tbody tr th {\n",
       "        vertical-align: top;\n",
       "    }\n",
       "\n",
       "    .dataframe thead th {\n",
       "        text-align: right;\n",
       "    }\n",
       "</style>\n",
       "<table border=\"1\" class=\"dataframe\">\n",
       "  <thead>\n",
       "    <tr style=\"text-align: right;\">\n",
       "      <th></th>\n",
       "      <th>GENOME_INDEX</th>\n",
       "      <th>REF</th>\n",
       "      <th>ALT</th>\n",
       "    </tr>\n",
       "  </thead>\n",
       "  <tbody>\n",
       "    <tr>\n",
       "      <th>0</th>\n",
       "      <td>4099401</td>\n",
       "      <td>cag</td>\n",
       "      <td>cagg</td>\n",
       "    </tr>\n",
       "    <tr>\n",
       "      <th>1</th>\n",
       "      <td>4099481</td>\n",
       "      <td>g</td>\n",
       "      <td>a</td>\n",
       "    </tr>\n",
       "    <tr>\n",
       "      <th>3</th>\n",
       "      <td>4099382</td>\n",
       "      <td>c</td>\n",
       "      <td>t</td>\n",
       "    </tr>\n",
       "    <tr>\n",
       "      <th>7</th>\n",
       "      <td>4099380</td>\n",
       "      <td>g</td>\n",
       "      <td>a</td>\n",
       "    </tr>\n",
       "    <tr>\n",
       "      <th>15</th>\n",
       "      <td>4099460</td>\n",
       "      <td>c</td>\n",
       "      <td>a</td>\n",
       "    </tr>\n",
       "    <tr>\n",
       "      <th>...</th>\n",
       "      <td>...</td>\n",
       "      <td>...</td>\n",
       "      <td>...</td>\n",
       "    </tr>\n",
       "    <tr>\n",
       "      <th>5308</th>\n",
       "      <td>4099385</td>\n",
       "      <td>a</td>\n",
       "      <td>t</td>\n",
       "    </tr>\n",
       "    <tr>\n",
       "      <th>5444</th>\n",
       "      <td>4099393</td>\n",
       "      <td>ac</td>\n",
       "      <td>acc</td>\n",
       "    </tr>\n",
       "    <tr>\n",
       "      <th>5527</th>\n",
       "      <td>4099455</td>\n",
       "      <td>t</td>\n",
       "      <td>c</td>\n",
       "    </tr>\n",
       "    <tr>\n",
       "      <th>5616</th>\n",
       "      <td>4099407</td>\n",
       "      <td>g</td>\n",
       "      <td>t</td>\n",
       "    </tr>\n",
       "    <tr>\n",
       "      <th>5687</th>\n",
       "      <td>4099476</td>\n",
       "      <td>g</td>\n",
       "      <td>a</td>\n",
       "    </tr>\n",
       "  </tbody>\n",
       "</table>\n",
       "<p>136 rows × 3 columns</p>\n",
       "</div>"
      ],
      "text/plain": [
       "      GENOME_INDEX  REF   ALT\n",
       "0          4099401  cag  cagg\n",
       "1          4099481    g     a\n",
       "3          4099382    c     t\n",
       "7          4099380    g     a\n",
       "15         4099460    c     a\n",
       "...            ...  ...   ...\n",
       "5308       4099385    a     t\n",
       "5444       4099393   ac   acc\n",
       "5527       4099455    t     c\n",
       "5616       4099407    g     t\n",
       "5687       4099476    g     a\n",
       "\n",
       "[136 rows x 3 columns]"
      ]
     },
     "execution_count": 119,
     "metadata": {},
     "output_type": "execute_result"
    }
   ],
   "source": [
    "a"
   ]
  },
  {
   "cell_type": "code",
   "execution_count": 120,
   "id": "ae706eb8-c029-4fa0-ba3b-5b2d8c78d6a9",
   "metadata": {},
   "outputs": [
    {
     "data": {
      "text/plain": [
       "GENOME_INDEX  REF  ALT\n",
       "4099377       g    a      83\n",
       "4099380       g    a       1\n",
       "4099381       c    t       3\n",
       "4099382       c    t       3\n",
       "4099383       a    g       1\n",
       "                          ..\n",
       "4099509       c    a       3\n",
       "                   t       1\n",
       "4099514       a    c       2\n",
       "                   g       1\n",
       "4099520       c    t       5\n",
       "Length: 136, dtype: int64"
      ]
     },
     "execution_count": 120,
     "metadata": {},
     "output_type": "execute_result"
    }
   ],
   "source": [
    "df.groupby(['GENOME_INDEX', 'REF', 'ALT']).size()"
   ]
  },
  {
   "cell_type": "code",
   "execution_count": 123,
   "id": "74c09aa4-7953-4ac1-bab7-4bdd011afed1",
   "metadata": {},
   "outputs": [],
   "source": [
    "df.to_csv(cryptic_output_path + '/' + 'nick.csv')"
   ]
  },
  {
   "cell_type": "code",
   "execution_count": 138,
   "id": "974b3fa7-d55d-489d-ad66-e3c545c3bc99",
   "metadata": {},
   "outputs": [
    {
     "data": {
      "text/plain": [
       "Seq('GCTGCCAAAAGGGACGACCCCCGC')"
      ]
     },
     "execution_count": 138,
     "metadata": {},
     "output_type": "execute_result"
    }
   ],
   "source": [
    "full_sequence[4099376:4099400]"
   ]
  },
  {
   "cell_type": "code",
   "execution_count": 144,
   "id": "95798500-311b-4be4-bd5e-d47e3a750150",
   "metadata": {},
   "outputs": [
    {
     "ename": "KeyError",
     "evalue": "4099406",
     "output_type": "error",
     "traceback": [
      "\u001b[1;31m---------------------------------------------------------------------------\u001b[0m",
      "\u001b[1;31mKeyError\u001b[0m                                  Traceback (most recent call last)",
      "\u001b[1;32m~\\AppData\\Local\\Temp/ipykernel_21256/2421001882.py\u001b[0m in \u001b[0;36m<module>\u001b[1;34m\u001b[0m\n\u001b[1;32m----> 1\u001b[1;33m \u001b[0mvariant_count_dict\u001b[0m\u001b[1;33m[\u001b[0m\u001b[1;36m4099406\u001b[0m\u001b[1;33m]\u001b[0m\u001b[1;33m\u001b[0m\u001b[1;33m\u001b[0m\u001b[0m\n\u001b[0m",
      "\u001b[1;31mKeyError\u001b[0m: 4099406"
     ]
    }
   ],
   "source": [
    "variant_count_dict[4099406]"
   ]
  },
  {
   "cell_type": "code",
   "execution_count": null,
   "id": "1af34f82-9613-402f-a081-dae3a461e917",
   "metadata": {},
   "outputs": [],
   "source": []
  }
 ],
 "metadata": {
  "kernelspec": {
   "display_name": "Python 3 (ipykernel)",
   "language": "python",
   "name": "python3"
  },
  "language_info": {
   "codemirror_mode": {
    "name": "ipython",
    "version": 3
   },
   "file_extension": ".py",
   "mimetype": "text/x-python",
   "name": "python",
   "nbconvert_exporter": "python",
   "pygments_lexer": "ipython3",
   "version": "3.9.7"
  }
 },
 "nbformat": 4,
 "nbformat_minor": 5
}
