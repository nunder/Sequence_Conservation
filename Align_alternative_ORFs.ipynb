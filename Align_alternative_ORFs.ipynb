{
 "cells": [
  {
   "cell_type": "code",
   "execution_count": 1,
   "id": "4d00f52f-97b8-4043-a9d0-d20cdf441e8f",
   "metadata": {},
   "outputs": [],
   "source": [
    "import pandas as pd\n",
    "import pickle\n",
    "import seaborn as sns\n",
    "import matplotlib.pyplot as plt\n",
    "import numpy as np\n",
    "from scipy.fft import fft, fftfreq\n",
    "from Bio import Entrez, SeqIO, AlignIO, pairwise2, Align, Seq, motifs\n",
    "from Bio.Seq import Seq\n",
    "from Bio.SeqFeature import SeqFeature, FeatureLocation\n",
    "from scipy.stats import binom\n",
    "import math\n",
    "import random\n",
    "from tqdm.auto import tqdm\n",
    "from Comparative_Analysis import Sequence_Analysis_Routines as sar\n",
    "from Comparative_Analysis import HMM as hmm\n",
    "from Comparative_Analysis import Utilities as util\n",
    "from Comparative_Analysis import Alignment_HMM as alignment_hmm\n",
    "from Comparative_Analysis import Alignment_Analysis as alignment_analysis\n",
    "from Comparative_Analysis import Alignment as align\n",
    "from Comparative_Analysis import Master_Alignment_HMM as master_alignment_hmm\n",
    "from Comparative_Analysis import Multi_Species_Master_Alignment_HMM as multi_species_master_alignment_hmm\n",
    "from Comparative_Analysis import Arneson_Ernst_HMM as ae_hmm\n",
    "import random\n",
    "import copy\n",
    "from joblib import Parallel, delayed"
   ]
  },
  {
   "cell_type": "code",
   "execution_count": 2,
   "id": "db5433ae-1254-45b2-a317-5f2cc94e086a",
   "metadata": {},
   "outputs": [],
   "source": [
    "project_dir = 'D:/Project_Data/Project_6'\n",
    "genome_datasets_dir = project_dir + '/Datasets/NCBI_Datasets'\n",
    "literature_datasets_dir = project_dir + '/Datasets/Data_From_Publications'\n",
    "cryptic_output_path = \"D:/Project_Data/CRYPTIC_DATA/Cryptic_Data_Analysis\"\n",
    "cryptic_input_path = \"D:/Project_Data/CRYPTIC_DATA/\"\n",
    "output_dir = project_dir + '/Output'\n",
    "protein_fasta_output_loc = output_dir + '/Protein_Sequences'\n",
    "outgroup_protein_fasta_output_loc = output_dir + '/Protein_Sequences_With_Outgroup'\n",
    "sonic_paranoid_run_name = 'Run_Without_Outgroup'\n",
    "outgroup_sonic_paranoid_run_name = 'Run_With_Outgroup'\n",
    "sonic_paranoid_output_loc = output_dir + '/Sonic_Paranoid_Output'\n",
    "ortholog_dir = sonic_paranoid_output_loc + '/runs/' + sonic_paranoid_run_name + '/ortholog_groups'\n",
    "outgroup_ortholog_dir = sonic_paranoid_output_loc + '/runs/' + outgroup_sonic_paranoid_run_name + '/ortholog_groups'\n",
    "non_cds_output_dir = output_dir + '/Multiple_Alignment_Data/Downstream_Non_CDS'\n",
    "upstream_non_cds_output_dir = output_dir + '/Multiple_Alignment_Data/Upstream_Non_CDS'\n",
    "cds_output_dir = output_dir + '/Multiple_Alignment_Data/CDS'\n",
    "extended_cds_output_dir = output_dir + '/Multiple_Alignment_Data/Extended_CDS'\n",
    "extended_non_cds_regions_output_dir = output_dir + '/Multiple_Alignment_Data/Extended_Non_CDS'\n",
    "outgroup_cds_output_dir = output_dir + '/Multiple_Alignment_Data/CDS_With_Outgroup'\n",
    "outgroup_concatenated_cds_output_dir = output_dir + '/Multiple_Alignment_Data/CDS_With_Outgroup_Concatenated'\n",
    "hmm_parameters_output_dir = output_dir +'/HMM_Model_Parameters'\n",
    "conservation_analysis_output_dir = output_dir + '/Conservation_Analysis'\n",
    "num_cores = 16"
   ]
  },
  {
   "cell_type": "code",
   "execution_count": 47,
   "id": "3b356284-7292-4467-b26e-5e7f4a4daf0a",
   "metadata": {},
   "outputs": [
    {
     "ename": "SyntaxError",
     "evalue": "unmatched ')' (Temp/ipykernel_23496/148419427.py, line 1)",
     "output_type": "error",
     "traceback": [
      "\u001b[1;36m  File \u001b[1;32m\"C:\\Users\\nicho\\AppData\\Local\\Temp/ipykernel_23496/148419427.py\"\u001b[1;36m, line \u001b[1;32m1\u001b[0m\n\u001b[1;33m    haem_seq = str(next(SeqIO.parse(genome_datasets_dir + '/GCF_000340435.2/genomic.gbff', \"genbank\"))).seq)\u001b[0m\n\u001b[1;37m                                                                                                           ^\u001b[0m\n\u001b[1;31mSyntaxError\u001b[0m\u001b[1;31m:\u001b[0m unmatched ')'\n"
     ]
    }
   ],
   "source": [
    "haem_seq = str(next(SeqIO.parse(genome_datasets_dir + '/GCF_000340435.2/genomic.gbff', \"genbank\"))).seq)"
   ]
  },
  {
   "cell_type": "code",
   "execution_count": 45,
   "id": "13ffba66-cdba-4f35-b456-ca0b1a1ece0f",
   "metadata": {},
   "outputs": [],
   "source": [
    "aligner = Align.PairwiseAligner()\n",
    "aligner.mode = 'local'\n",
    "seq1 = 'ATGAGCAACCGGATTGTGTTAGAACCCAGCGCCGATCACCCGATCACCATCGAGCCGACCAACCGACGGGTGCAGGTACGCGTCAATGGCGAGGTGGTCGCGGACACGGCCGCGGCGCTGTGCTTGCAGGAAGCCAGTTACCCTGCAGTGCAATATATTCCGTTGGCCGACGTGGTACAGGATAGGCTGATCCGCACCGAGACCAGCACCTATTGCCCGTTCAAGGGTGAAGCCAGCTATTACAGCGTGACTACCGACGCCGGCGACATCGTCGACGACGTGATGTGGACGTACGAAAACCCTTATCCGGCGGTAGCGGCGATCGCGGGGCATGTCGCGTGCTATCCGGACAAAGCCGAAATCAGCATCTTCCCGGGGTAG'\n",
    "alignments = aligner.align(seq1, full_sequence)"
   ]
  },
  {
   "cell_type": "code",
   "execution_count": 46,
   "id": "99a49496-8cbb-4860-a593-d08a4fd26e83",
   "metadata": {},
   "outputs": [
    {
     "name": "stdout",
     "output_type": "stream",
     "text": [
      "1.0\n"
     ]
    }
   ],
   "source": [
    "print(alignments.score/len(seq1))"
   ]
  },
  {
   "cell_type": "code",
   "execution_count": 18,
   "id": "d7137b27-c5b4-40d2-b193-00d3f2579194",
   "metadata": {},
   "outputs": [],
   "source": [
    "def translate_sequence(input_seq, strand):\n",
    "    output_seq = ''\n",
    "    if strand == 1:\n",
    "        seq = input_seq\n",
    "    else:\n",
    "        seq = align.reverse_complement(input_seq)\n",
    "    for i in range(0,len(seq)-2,3):\n",
    "        if seq[i:(i+3)] in codon_dict:\n",
    "            output_seq += codon_dict[seq[i:(i+3)]]\n",
    "        else:\n",
    "            output_seq += 'X'\n",
    "    return output_seq"
   ]
  },
  {
   "cell_type": "code",
   "execution_count": 6,
   "id": "224b7b1e-36b4-4b63-bf16-6ce9527c2edb",
   "metadata": {},
   "outputs": [],
   "source": [
    "genome_record = next(SeqIO.parse(genome_datasets_dir + '/GCF_000195955.2/genomic.gbff', \"genbank\"))\n",
    "full_sequence = genome_record.seq\n",
    "actual_cds_boundaries = []\n",
    "mycobrowser_df = pd.read_excel(literature_datasets_dir+'/Mycobrowser_Release_4.xlsx')\n",
    "temp = mycobrowser_df[mycobrowser_df['Feature'] == 'CDS'][['Locus','Start','Stop','Strand']]\n",
    "actual_cds_boundaries = []\n",
    "for i, r in temp.iterrows():\n",
    "    if r['Strand'] == '+':\n",
    "        strand = 1\n",
    "    else:\n",
    "        strand = -1\n",
    "    actual_cds_boundaries.append((r['Locus'],r['Start']-1, r['Stop'], strand))"
   ]
  },
  {
   "cell_type": "code",
   "execution_count": 26,
   "id": "f0157a2e-887a-4119-8845-3446da2d7c83",
   "metadata": {},
   "outputs": [
    {
     "data": {
      "text/html": [
       "<div>\n",
       "<style scoped>\n",
       "    .dataframe tbody tr th:only-of-type {\n",
       "        vertical-align: middle;\n",
       "    }\n",
       "\n",
       "    .dataframe tbody tr th {\n",
       "        vertical-align: top;\n",
       "    }\n",
       "\n",
       "    .dataframe thead th {\n",
       "        text-align: right;\n",
       "    }\n",
       "</style>\n",
       "<table border=\"1\" class=\"dataframe\">\n",
       "  <thead>\n",
       "    <tr style=\"text-align: right;\">\n",
       "      <th></th>\n",
       "      <th>Unnamed: 0</th>\n",
       "      <th>GENOME_INDEX</th>\n",
       "      <th>MYKROBE_LINEAGE_NAME_2</th>\n",
       "      <th>REF</th>\n",
       "      <th>ALT</th>\n",
       "      <th>MUTATION_COUNT</th>\n",
       "      <th>LINEAGE_COUNT</th>\n",
       "      <th>MUTATION_PCT</th>\n",
       "    </tr>\n",
       "  </thead>\n",
       "  <tbody>\n",
       "    <tr>\n",
       "      <th>0</th>\n",
       "      <td>0</td>\n",
       "      <td>11</td>\n",
       "      <td>lineage4.1.1.3</td>\n",
       "      <td>a</td>\n",
       "      <td>c</td>\n",
       "      <td>2</td>\n",
       "      <td>1571</td>\n",
       "      <td>0.001273</td>\n",
       "    </tr>\n",
       "    <tr>\n",
       "      <th>1</th>\n",
       "      <td>1</td>\n",
       "      <td>11</td>\n",
       "      <td>lineage4.1.2.1</td>\n",
       "      <td>a</td>\n",
       "      <td>c</td>\n",
       "      <td>1</td>\n",
       "      <td>5007</td>\n",
       "      <td>0.000200</td>\n",
       "    </tr>\n",
       "    <tr>\n",
       "      <th>2</th>\n",
       "      <td>2</td>\n",
       "      <td>11</td>\n",
       "      <td>lineage4.2.2</td>\n",
       "      <td>a</td>\n",
       "      <td>c</td>\n",
       "      <td>2</td>\n",
       "      <td>794</td>\n",
       "      <td>0.002519</td>\n",
       "    </tr>\n",
       "    <tr>\n",
       "      <th>3</th>\n",
       "      <td>3</td>\n",
       "      <td>11</td>\n",
       "      <td>lineage4.3.4.2.1</td>\n",
       "      <td>a</td>\n",
       "      <td>c</td>\n",
       "      <td>13</td>\n",
       "      <td>1534</td>\n",
       "      <td>0.008475</td>\n",
       "    </tr>\n",
       "    <tr>\n",
       "      <th>4</th>\n",
       "      <td>4</td>\n",
       "      <td>15</td>\n",
       "      <td>lineage1.1.3</td>\n",
       "      <td>c</td>\n",
       "      <td>t</td>\n",
       "      <td>1</td>\n",
       "      <td>929</td>\n",
       "      <td>0.001076</td>\n",
       "    </tr>\n",
       "    <tr>\n",
       "      <th>...</th>\n",
       "      <td>...</td>\n",
       "      <td>...</td>\n",
       "      <td>...</td>\n",
       "      <td>...</td>\n",
       "      <td>...</td>\n",
       "      <td>...</td>\n",
       "      <td>...</td>\n",
       "      <td>...</td>\n",
       "    </tr>\n",
       "    <tr>\n",
       "      <th>2045369</th>\n",
       "      <td>4800162</td>\n",
       "      <td>4411522</td>\n",
       "      <td>lineage1.1.1</td>\n",
       "      <td>g</td>\n",
       "      <td>a</td>\n",
       "      <td>1</td>\n",
       "      <td>479</td>\n",
       "      <td>0.002088</td>\n",
       "    </tr>\n",
       "    <tr>\n",
       "      <th>2045370</th>\n",
       "      <td>4800163</td>\n",
       "      <td>4411522</td>\n",
       "      <td>lineage2.2.10</td>\n",
       "      <td>g</td>\n",
       "      <td>a</td>\n",
       "      <td>3</td>\n",
       "      <td>3201</td>\n",
       "      <td>0.000937</td>\n",
       "    </tr>\n",
       "    <tr>\n",
       "      <th>2045371</th>\n",
       "      <td>4800164</td>\n",
       "      <td>4411522</td>\n",
       "      <td>lineage3</td>\n",
       "      <td>g</td>\n",
       "      <td>a</td>\n",
       "      <td>1</td>\n",
       "      <td>6267</td>\n",
       "      <td>0.000160</td>\n",
       "    </tr>\n",
       "    <tr>\n",
       "      <th>2045372</th>\n",
       "      <td>4800165</td>\n",
       "      <td>4411522</td>\n",
       "      <td>lineage3.1.2.1</td>\n",
       "      <td>g</td>\n",
       "      <td>a</td>\n",
       "      <td>1</td>\n",
       "      <td>411</td>\n",
       "      <td>0.002433</td>\n",
       "    </tr>\n",
       "    <tr>\n",
       "      <th>2045373</th>\n",
       "      <td>4800168</td>\n",
       "      <td>4411529</td>\n",
       "      <td>lineage3.1.1</td>\n",
       "      <td>g</td>\n",
       "      <td>a</td>\n",
       "      <td>1</td>\n",
       "      <td>1044</td>\n",
       "      <td>0.000958</td>\n",
       "    </tr>\n",
       "  </tbody>\n",
       "</table>\n",
       "<p>2045374 rows × 8 columns</p>\n",
       "</div>"
      ],
      "text/plain": [
       "         Unnamed: 0  GENOME_INDEX MYKROBE_LINEAGE_NAME_2 REF ALT  \\\n",
       "0                 0            11         lineage4.1.1.3   a   c   \n",
       "1                 1            11         lineage4.1.2.1   a   c   \n",
       "2                 2            11           lineage4.2.2   a   c   \n",
       "3                 3            11       lineage4.3.4.2.1   a   c   \n",
       "4                 4            15           lineage1.1.3   c   t   \n",
       "...             ...           ...                    ...  ..  ..   \n",
       "2045369     4800162       4411522           lineage1.1.1   g   a   \n",
       "2045370     4800163       4411522          lineage2.2.10   g   a   \n",
       "2045371     4800164       4411522               lineage3   g   a   \n",
       "2045372     4800165       4411522         lineage3.1.2.1   g   a   \n",
       "2045373     4800168       4411529           lineage3.1.1   g   a   \n",
       "\n",
       "         MUTATION_COUNT  LINEAGE_COUNT  MUTATION_PCT  \n",
       "0                     2           1571      0.001273  \n",
       "1                     1           5007      0.000200  \n",
       "2                     2            794      0.002519  \n",
       "3                    13           1534      0.008475  \n",
       "4                     1            929      0.001076  \n",
       "...                 ...            ...           ...  \n",
       "2045369               1            479      0.002088  \n",
       "2045370               3           3201      0.000937  \n",
       "2045371               1           6267      0.000160  \n",
       "2045372               1            411      0.002433  \n",
       "2045373               1           1044      0.000958  \n",
       "\n",
       "[2045374 rows x 8 columns]"
      ]
     },
     "execution_count": 26,
     "metadata": {},
     "output_type": "execute_result"
    }
   ],
   "source": [
    "variant_count_df = pd.read_csv(cryptic_output_path + '/filtered_variant_summary_df.csv')\n",
    "variant_count_df"
   ]
  },
  {
   "cell_type": "code",
   "execution_count": 21,
   "id": "f468d4f9-0b0c-48a2-8982-df1eeab0b264",
   "metadata": {},
   "outputs": [],
   "source": [
    "n = 0\n",
    "start = actual_cds_boundaries[n][1]\n",
    "end = actual_cds_boundaries[n][2]\n",
    "strand = actual_cds_boundaries[n][3]\n",
    "ref_seq = str(full_sequence[start:end])\n",
    "ref_seq_string = list(ref_seq)"
   ]
  },
  {
   "cell_type": "code",
   "execution_count": 22,
   "id": "9f2233c1-7a57-4b7e-898f-9c7e750f90f8",
   "metadata": {},
   "outputs": [
    {
     "data": {
      "text/plain": [
       "'LTDDPGSGFTTVWNAVVSELNGDPKVDDGPSSDANLSAPLTPQQRAWLNLVQPLTIVEGFALLSVPSSFVQNEIERHLRAPITDALSRRLGHQIQLGVRIAPPATDEADDTTVPPSENPATTSPDTTTDNDEIDDSAAARGDNQHSWPSYFTERPHNTDSATAGVTSLNRRYTFDTFVIGASNRFAHAAALAIAEAPARAYNPLFIWGESGLGKTHLLHAAGNYAQRLFPGMRVKYVSTEEFTNDFINSLRDDRKVAFKRSYRDVDVLLVDDIQFIEGKEGIQEEFFHTFNTLHNANKQIVISSDRPPKQLATLEDRLRTRFEWGLITDVQPPELETRIAILRKKAQMERLAVPDDVLELIASSIERNIRELEGALIRVTAFASLNKTPIDKALAEIVLRDLIADANTMQISAATIMAATAEYFDTTVEELRGPGKTRALAQSRQIAMYLCRELTDLSLPKIGQAFGRDHTTVMYAQRKILSEMAERREVFDHVKELTTRIRQRSKR*'"
      ]
     },
     "execution_count": 22,
     "metadata": {},
     "output_type": "execute_result"
    }
   ],
   "source": [
    "translate_sequence(ref_seq, strand)"
   ]
  },
  {
   "cell_type": "code",
   "execution_count": 27,
   "id": "ae8ce276-ca37-4443-87de-8aa6fb424f0e",
   "metadata": {},
   "outputs": [
    {
     "data": {
      "text/plain": [
       "'LTDAPGSGFTTVWNAVVSELNGDPKVDDGPSSDANLSAPLTPQQRAWLNLVQPLTIVEGFALLSVPSSFVQNEIERHLRAPITDALSRRLGHQIQLGVRIAPPATDEADDTTVPPSENPATTSPDTTTDNDEIDDSAAARGDNQHSWPSYFTERPHNTDSATAGVTSLNRRYTFDTFVIGASNRFAHAAALAIAEAPARAYNPLFIWGESGLGKTHLLHAAGNYAQRLFPGMRVKYVSTEEFTNDFINSLRDDRKVAFKRSYRDVDVLLVDDIQFIEGKEGIQEEFFHTFNTLHNANKQIVISSDRPPKQLATLEDRLRTRFEWGLITDVQPPELETRIAILRKKAQMERLAVPDDVLELIASSIERNIRELEGALIRVTAFASLNKTPIDKALAEIVLRDLIADANTMQISAATIMAATAEYFDTTVEELRGPGKTRALAQSRQIAMYLCRELTDLSLPKIGQAFGRDHTTVMYAQRKILSEMAERREVFDHVKELTTRIRQRSKR*'"
      ]
     },
     "execution_count": 27,
     "metadata": {},
     "output_type": "execute_result"
    }
   ],
   "source": [
    "nick = list(ref_seq)\n",
    "nick[10] = 'C'\n",
    "nick = ''.join(nick)\n",
    "translate_sequence(nick, strand)"
   ]
  },
  {
   "cell_type": "code",
   "execution_count": 28,
   "id": "c0cb35a5-e2b3-4b1c-b45b-9876b8fa4ab0",
   "metadata": {},
   "outputs": [
    {
     "data": {
      "text/plain": [
       "'TTGACCGATGACCCCGGTTCAGGCTTCACCACAGTGTGGAACGCGGTCGTCTCCGAACTTAACGGCGACCCTAAGGTTGACGACGGACCCAGCAGTGATGCTAATCTCAGCGCTCCGCTGACCCCTCAGCAAAGGGCTTGGCTCAATCTCGTCCAGCCATTGACCATCGTCGAGGGGTTTGCTCTGTTATCCGTGCCGAGCAGCTTTGTCCAAAACGAAATCGAGCGCCATCTGCGGGCCCCGATTACCGACGCTCTCAGCCGCCGACTCGGACATCAGATCCAACTCGGGGTCCGCATCGCTCCGCCGGCGACCGACGAAGCCGACGACACTACCGTGCCGCCTTCCGAAAATCCTGCTACCACATCGCCAGACACCACAACCGACAACGACGAGATTGATGACAGCGCTGCGGCACGGGGCGATAACCAGCACAGTTGGCCAAGTTACTTCACCGAGCGCCCGCACAATACCGATTCCGCTACCGCTGGCGTAACCAGCCTTAACCGTCGCTACACCTTTGATACGTTCGTTATCGGCGCCTCCAACCGGTTCGCGCACGCCGCCGCCTTGGCGATCGCAGAAGCACCCGCCCGCGCTTACAACCCCCTGTTCATCTGGGGCGAGTCCGGTCTCGGCAAGACACACCTGCTACACGCGGCAGGCAACTATGCCCAACGGTTGTTCCCGGGAATGCGGGTCAAATATGTCTCCACCGAGGAATTCACCAACGACTTCATTAACTCGCTCCGCGATGACCGCAAGGTCGCATTCAAACGCAGCTACCGCGACGTAGACGTGCTGTTGGTCGACGACATCCAATTCATTGAAGGCAAAGAGGGTATTCAAGAGGAGTTCTTCCACACCTTCAACACCTTGCACAATGCCAACAAGCAAATCGTCATCTCATCTGACCGCCCACCCAAGCAGCTCGCCACCCTCGAGGACCGGCTGAGAACCCGCTTTGAGTGGGGGCTGATCACTGACGTACAACCACCCGAGCTGGAGACCCGCATCGCCATCTTGCGCAAGAAAGCACAGATGGAACGGCTCGCGGTCCCCGACGATGTCCTCGAACTCATCGCCAGCAGTATCGAACGCAATATCCGTGAACTCGAGGGCGCGCTGATCCGGGTCACCGCGTTCGCCTCATTGAACAAAACACCAATCGACAAAGCGCTGGCCGAGATTGTGCTTCGCGATCTGATCGCCGACGCCAACACCATGCAAATCAGCGCGGCGACGATCATGGCTGCCACCGCCGAATACTTCGACACTACCGTCGAAGAGCTTCGCGGGCCCGGCAAGACCCGAGCACTGGCCCAGTCACGACAGATTGCGATGTACCTGTGTCGTGAGCTCACCGATCTTTCGTTGCCCAAAATCGGCCAAGCGTTCGGCCGTGATCACACAACCGTCATGTACGCCCAACGCAAGATCCTGTCCGAGATGGCCGAGCGCCGTGAGGTCTTTGATCACGTCAAAGAACTCACCACTCGCATCCGTCAGCGCTCCAAGCGCTAG'"
      ]
     },
     "execution_count": 28,
     "metadata": {},
     "output_type": "execute_result"
    }
   ],
   "source": [
    "ref_seq"
   ]
  },
  {
   "cell_type": "code",
   "execution_count": 29,
   "id": "62100f94-8717-4654-a14a-28e71cc307cf",
   "metadata": {},
   "outputs": [
    {
     "data": {
      "text/plain": [
       "'TTGACCGATGCCCCCGGTTCAGGCTTCACCACAGTGTGGAACGCGGTCGTCTCCGAACTTAACGGCGACCCTAAGGTTGACGACGGACCCAGCAGTGATGCTAATCTCAGCGCTCCGCTGACCCCTCAGCAAAGGGCTTGGCTCAATCTCGTCCAGCCATTGACCATCGTCGAGGGGTTTGCTCTGTTATCCGTGCCGAGCAGCTTTGTCCAAAACGAAATCGAGCGCCATCTGCGGGCCCCGATTACCGACGCTCTCAGCCGCCGACTCGGACATCAGATCCAACTCGGGGTCCGCATCGCTCCGCCGGCGACCGACGAAGCCGACGACACTACCGTGCCGCCTTCCGAAAATCCTGCTACCACATCGCCAGACACCACAACCGACAACGACGAGATTGATGACAGCGCTGCGGCACGGGGCGATAACCAGCACAGTTGGCCAAGTTACTTCACCGAGCGCCCGCACAATACCGATTCCGCTACCGCTGGCGTAACCAGCCTTAACCGTCGCTACACCTTTGATACGTTCGTTATCGGCGCCTCCAACCGGTTCGCGCACGCCGCCGCCTTGGCGATCGCAGAAGCACCCGCCCGCGCTTACAACCCCCTGTTCATCTGGGGCGAGTCCGGTCTCGGCAAGACACACCTGCTACACGCGGCAGGCAACTATGCCCAACGGTTGTTCCCGGGAATGCGGGTCAAATATGTCTCCACCGAGGAATTCACCAACGACTTCATTAACTCGCTCCGCGATGACCGCAAGGTCGCATTCAAACGCAGCTACCGCGACGTAGACGTGCTGTTGGTCGACGACATCCAATTCATTGAAGGCAAAGAGGGTATTCAAGAGGAGTTCTTCCACACCTTCAACACCTTGCACAATGCCAACAAGCAAATCGTCATCTCATCTGACCGCCCACCCAAGCAGCTCGCCACCCTCGAGGACCGGCTGAGAACCCGCTTTGAGTGGGGGCTGATCACTGACGTACAACCACCCGAGCTGGAGACCCGCATCGCCATCTTGCGCAAGAAAGCACAGATGGAACGGCTCGCGGTCCCCGACGATGTCCTCGAACTCATCGCCAGCAGTATCGAACGCAATATCCGTGAACTCGAGGGCGCGCTGATCCGGGTCACCGCGTTCGCCTCATTGAACAAAACACCAATCGACAAAGCGCTGGCCGAGATTGTGCTTCGCGATCTGATCGCCGACGCCAACACCATGCAAATCAGCGCGGCGACGATCATGGCTGCCACCGCCGAATACTTCGACACTACCGTCGAAGAGCTTCGCGGGCCCGGCAAGACCCGAGCACTGGCCCAGTCACGACAGATTGCGATGTACCTGTGTCGTGAGCTCACCGATCTTTCGTTGCCCAAAATCGGCCAAGCGTTCGGCCGTGATCACACAACCGTCATGTACGCCCAACGCAAGATCCTGTCCGAGATGGCCGAGCGCCGTGAGGTCTTTGATCACGTCAAAGAACTCACCACTCGCATCCGTCAGCGCTCCAAGCGCTAG'"
      ]
     },
     "execution_count": 29,
     "metadata": {},
     "output_type": "execute_result"
    }
   ],
   "source": [
    "nick"
   ]
  },
  {
   "cell_type": "code",
   "execution_count": null,
   "id": "3574ba07-260b-4ebb-b1db-a2d54e4fc1d9",
   "metadata": {},
   "outputs": [],
   "source": []
  }
 ],
 "metadata": {
  "kernelspec": {
   "display_name": "Python 3 (ipykernel)",
   "language": "python",
   "name": "python3"
  },
  "language_info": {
   "codemirror_mode": {
    "name": "ipython",
    "version": 3
   },
   "file_extension": ".py",
   "mimetype": "text/x-python",
   "name": "python",
   "nbconvert_exporter": "python",
   "pygments_lexer": "ipython3",
   "version": "3.9.7"
  }
 },
 "nbformat": 4,
 "nbformat_minor": 5
}
