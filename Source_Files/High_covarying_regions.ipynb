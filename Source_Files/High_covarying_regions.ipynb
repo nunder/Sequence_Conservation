{
 "cells": [
  {
   "cell_type": "markdown",
   "id": "b1e30ed4-8a0e-4a6f-96eb-dfe116dfb2de",
   "metadata": {},
   "source": [
    "#### Directories etc"
   ]
  },
  {
   "cell_type": "code",
   "execution_count": 1,
   "id": "cf9c6377-5080-4c22-94db-feabe17cc47c",
   "metadata": {},
   "outputs": [],
   "source": [
    "import pandas as pd\n",
    "import pickle\n",
    "import seaborn as sns\n",
    "import matplotlib.pyplot as plt\n",
    "import numpy as np\n",
    "from Bio import Entrez, SeqIO, AlignIO, pairwise2, Align, Seq, motifs\n",
    "from Bio.Seq import Seq\n",
    "from Bio.SeqFeature import SeqFeature, FeatureLocation\n",
    "from scipy.stats import binom\n",
    "import math\n",
    "import random\n",
    "from tqdm import tqdm\n",
    "from Comparative_Analysis import Utilities as util\n",
    "import random\n",
    "from joblib import Parallel, delayed\n",
    "from Comparative_Analysis import Blast_Functions as blastfn\n",
    "import time\n",
    "import os\n",
    "import copy\n",
    "from scipy.stats import chi2, chi2_contingency\n",
    "from Comparative_Analysis import ORF_Functions as orffn\n",
    "from Comparative_Analysis import Alignment as alignfn\n",
    "from random import sample\n",
    "from Bio.Align.Applications import MuscleCommandline\n",
    "import subprocess\n",
    "pd.options.mode.chained_assignment = None  # default='warn'"
   ]
  },
  {
   "cell_type": "code",
   "execution_count": 2,
   "id": "1988a242-f558-4643-b3a9-27272fa7bebc",
   "metadata": {},
   "outputs": [],
   "source": [
    "#project_dir = 'F:/Project_Data/Intergenic_Region_Comparative_Analysis'\n",
    "project_dir = 'F:/Project_Data/Intergenic_Region_Comparative_Analysis_Downstream'\n",
    "seq_dir_1 = 'F:/Datasets/NCBI_Refseq_Mycobacteriaceae_All_Levels/ncbi_dataset/data'\n",
    "seq_dir_2 = 'F:/Datasets/NCBI_Refseq_Actinobacteria_All_Levels/data'\n",
    "sequence_dirs_1 = util.list_dirs(seq_dir_1)\n",
    "sequence_dirs_2 = util.list_dirs(seq_dir_2)\n",
    "tb_species = 'NC_000962.3' \n",
    "tb_annotation_dirname = 'GCF_000195955.2'\n",
    "num_cores = 16\n",
    "core_numbers = list(range(1, num_cores+1))\n",
    "muscle_exe = 'C:/Users/nicho/Muscle/muscle3.8.31_i86win32.exe'\n",
    "full_build = False"
   ]
  },
  {
   "cell_type": "code",
   "execution_count": 3,
   "id": "ae80b7b2-f785-4540-affe-e69650a62827",
   "metadata": {},
   "outputs": [],
   "source": [
    "cortes_dict = {}\n",
    "utr_category_dict = {}\n",
    "cortes_df = pd.read_csv('F:/Datasets/Data_From_Publications/Cortes_TSS.csv')\n",
    "for i, r in cortes_df.iterrows():\n",
    "    cortes_dict[r['RvNumber']] = r['Leaderless']\n",
    "    utr_category_dict[r['RvNumber']] = r['UTR Category']"
   ]
  },
  {
   "cell_type": "code",
   "execution_count": 4,
   "id": "99ce98f9-ebd2-4317-a32a-9b4622000b9e",
   "metadata": {},
   "outputs": [],
   "source": [
    "cds_info_dict = {}\n",
    "for genome_record in SeqIO.parse(seq_dir_1 + '/' + tb_annotation_dirname + '/genomic.gbff', \"genbank\"):\n",
    "    for feature in genome_record.features:\n",
    "        a = feature.qualifiers\n",
    "        if feature.type == 'CDS' and a.get(\"translation\") != None:\n",
    "            locus_tag = a.get(\"locus_tag\")[0]\n",
    "            product = a.get(\"product\")[0]\n",
    "            cds_info_dict[locus_tag] = (feature.location.start, feature.location.end, feature.location.strand)"
   ]
  },
  {
   "cell_type": "markdown",
   "id": "b1ce1078-7e8e-49e0-b251-dcef5b1fa3d9",
   "metadata": {},
   "source": [
    "#####  Find potential structural regions"
   ]
  },
  {
   "cell_type": "code",
   "execution_count": 7,
   "id": "b612f7a2-3868-4438-a1aa-937fa8e5f928",
   "metadata": {},
   "outputs": [
    {
     "data": {
      "text/plain": [
       "[(('Rv0071', 15, 13, 0.0), (ExactPosition(79485), ExactPosition(80193), 1)),\n",
       " (('Rv0129c', 14, 9, 0.0), (ExactPosition(156577), ExactPosition(157600), -1)),\n",
       " (('Rv0189c', 18, 9, 0.0), (ExactPosition(219995), ExactPosition(221723), -1)),\n",
       " (('Rv2511', 84, 21, 0.0),\n",
       "  (ExactPosition(2827156), ExactPosition(2827804), 1)),\n",
       " (('Rv3661', 20, 13, 0.0),\n",
       "  (ExactPosition(4099646), ExactPosition(4100510), 1)),\n",
       " (('Rv3684', 586, 55, 0.0),\n",
       "  (ExactPosition(4125438), ExactPosition(4126479), 1)),\n",
       " (('Rv3752c', 36, 19, 0.0),\n",
       "  (ExactPosition(4199246), ExactPosition(4199705), -1))]"
      ]
     },
     "execution_count": 7,
     "metadata": {},
     "output_type": "execute_result"
    }
   ],
   "source": [
    "region_list = []\n",
    "seq_ids = util.list_dirs(project_dir)\n",
    "for id in seq_ids:\n",
    "    if os.path.exists(project_dir + '/' + str(id) + '/rscape_output_2.cov'):\n",
    "        alignment = util.read_fasta_to_array(project_dir + '/' + str(id) + '/upstream_region_'+str(id) + '_alignment_2.fasta')\n",
    "        num_sequences = len(alignment[0])\n",
    "        num_characters = len(alignment[1][0])\n",
    "  \n",
    "        with open(project_dir + '/'+str(id) +  '/rscape_output_2.cov', 'r') as f:  \n",
    "            pair_items = []\n",
    "            num_pairs = 0\n",
    "            e_values = []\n",
    "\n",
    "            for l in f:\n",
    "                if (not ('#' in l)):\n",
    "                    a = l.split()\n",
    "                    if len(a) > 6 and abs(int(a[2])-int(a[1])) > 5 and abs(int(a[1])-num_characters) > 10 and abs(int(a[2])-num_characters) > 10:    # Exclude covarying pairs less than 3 bp apart)\n",
    "                        e_values.append(float(a[4]))\n",
    "                        num_pairs+=1\n",
    "                        pair_items.append(int(a[2]))\n",
    "                        pair_items.append(int(a[2]))\n",
    "        if len(e_values) > 0:\n",
    "            tot = sum([math.log(x) for x  in e_values])\n",
    "            num = len(e_values)\n",
    "            combined_e_value = 1-chi2.cdf(-2*tot, 2*num)\n",
    "        else:\n",
    "            combined_e_value = 999\n",
    "        if combined_e_value < 1e-5:\n",
    "            region_list.append((id, num_pairs, len(set(pair_items)), combined_e_value))\n",
    "region_list.sort(key = lambda x: x[0])\n",
    "\n",
    "[(x, cds_info_dict[x[0]]) for x in region_list if x[2] > 8]\n"
   ]
  },
  {
   "cell_type": "code",
   "execution_count": 8,
   "id": "15aa4128-72d7-44ac-af3c-8d25928d260c",
   "metadata": {},
   "outputs": [],
   "source": [
    "pd.DataFrame([x for x in region_list if x[2] > 8]).to_csv(project_dir +'/high_covarying_downstream_regions.csv')"
   ]
  },
  {
   "cell_type": "code",
   "execution_count": null,
   "id": "486ddd3f-b272-438f-8644-1086877f4df4",
   "metadata": {},
   "outputs": [],
   "source": []
  }
 ],
 "metadata": {
  "kernelspec": {
   "display_name": "Python 3 (ipykernel)",
   "language": "python",
   "name": "python3"
  },
  "language_info": {
   "codemirror_mode": {
    "name": "ipython",
    "version": 3
   },
   "file_extension": ".py",
   "mimetype": "text/x-python",
   "name": "python",
   "nbconvert_exporter": "python",
   "pygments_lexer": "ipython3",
   "version": "3.9.7"
  }
 },
 "nbformat": 4,
 "nbformat_minor": 5
}
