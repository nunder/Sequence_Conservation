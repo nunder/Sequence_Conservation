{
 "cells": [
  {
   "cell_type": "markdown",
   "id": "b1e30ed4-8a0e-4a6f-96eb-dfe116dfb2de",
   "metadata": {},
   "source": [
    "#### Directories etc"
   ]
  },
  {
   "cell_type": "code",
   "execution_count": 1,
   "id": "cf9c6377-5080-4c22-94db-feabe17cc47c",
   "metadata": {},
   "outputs": [],
   "source": [
    "import pandas as pd\n",
    "import pickle\n",
    "import seaborn as sns\n",
    "import matplotlib.pyplot as plt\n",
    "import numpy as np\n",
    "from Bio import Entrez, SeqIO, AlignIO, pairwise2, Align, Seq, motifs\n",
    "from Bio.Seq import Seq\n",
    "from Bio.SeqFeature import SeqFeature, FeatureLocation\n",
    "from scipy.stats import binom\n",
    "import math\n",
    "import random\n",
    "from tqdm import tqdm\n",
    "from Comparative_Analysis import Utilities as util\n",
    "import random\n",
    "from joblib import Parallel, delayed\n",
    "from Comparative_Analysis import Blast_Functions as blastfn\n",
    "import time\n",
    "import os\n",
    "import copy\n",
    "from scipy.stats import chi2\n",
    "from Comparative_Analysis import ORF_Functions as orffn\n",
    "from Comparative_Analysis import Alignment as alignfn\n",
    "from random import sample\n",
    "from Bio.Align.Applications import MuscleCommandline\n",
    "import subprocess\n",
    "pd.options.mode.chained_assignment = None  # default='warn'"
   ]
  },
  {
   "cell_type": "code",
   "execution_count": 2,
   "id": "1988a242-f558-4643-b3a9-27272fa7bebc",
   "metadata": {},
   "outputs": [],
   "source": [
    "project_dir = 'F:/Project_Data/Intergenic_Region_Comparative_Analysis'\n",
    "seq_dir_1 = 'F:/Datasets/NCBI_Refseq_Mycobacteriaceae_All_Levels/ncbi_dataset/data'\n",
    "seq_dir_2 = 'F:/Datasets/NCBI_Refseq_Actinobacteria_All_Levels/data'\n",
    "sequence_dirs_1 = util.list_dirs(seq_dir_1)\n",
    "sequence_dirs_2 = util.list_dirs(seq_dir_2)\n",
    "tb_species = 'NC_000962.3' \n",
    "tb_annotation_dirname = 'GCF_000195955.2'\n",
    "num_cores = 16\n",
    "core_numbers = list(range(1, num_cores+1))\n",
    "muscle_exe = 'C:/Users/nicho/Muscle/muscle3.8.31_i86win32.exe'\n",
    "full_build = False"
   ]
  },
  {
   "cell_type": "markdown",
   "id": "620b4aff-19a5-4a6b-ae33-61039732f114",
   "metadata": {},
   "source": [
    "#### Extract covariation information to identify potentially significant regions"
   ]
  },
  {
   "cell_type": "code",
   "execution_count": 107,
   "id": "930a461c-e91e-4b99-86cb-87d667ae742d",
   "metadata": {},
   "outputs": [
    {
     "name": "stderr",
     "output_type": "stream",
     "text": [
      "100%|██████████| 2467/2467 [00:14<00:00, 166.68it/s]\n"
     ]
    }
   ],
   "source": [
    "mave_len = 20\n",
    "id_re = []\n",
    "seq_ids = util.list_dirs(project_dir)\n",
    "out_list = []\n",
    "consensus_dict = {}\n",
    "for id in tqdm(seq_ids):\n",
    "    if os.path.exists(project_dir + '/' + str(id) + '/upstream_region_no_insertions' + str(id) + '_alignment_1.fasta'):\n",
    "        alignment = util.read_fasta_to_array(project_dir + '/' + str(id) + '/upstream_region_no_insertions' + str(id) + '_alignment_1.fasta')\n",
    "        sequences_in_alignment = len(alignment[0])\n",
    "        alignment_length = len(alignment[1][0])\n",
    "        for j, name in enumerate(alignment[0]):\n",
    "            if name == 'Mycobacterium_tuberculosis_H37Rv':\n",
    "                tb_index = j\n",
    "                break\n",
    "        if sequences_in_alignment < 30:\n",
    "            continue\n",
    "        pct_identity = []\n",
    "        consensus = []\n",
    "        for i in range(alignment_length):\n",
    "            temp = []\n",
    "            for j in range(sequences_in_alignment):\n",
    "                temp.append(alignment[1][j][i])\n",
    "            match_found = 0\n",
    "            mac_pct_id = 0\n",
    "            for letter in ['A','C','G','T']:\n",
    "                if temp.count(letter) / sequences_in_alignment >= 0.9:\n",
    "                    match_found = 1\n",
    "                    consensus.append(letter)\n",
    "                    break\n",
    "            if match_found == 0:\n",
    "                consensus.append('-')\n",
    "        consensus_dict[id] = consensus    \n",
    "        #print(consensus[410:])\n",
    "        re = (alignfn.relative_entropy(alignment[1]))\n",
    "        mave_re = []\n",
    "        for i in range(len(re[0])-mave_len):\n",
    "            temp = re[0][i:i+mave_len]\n",
    "            mave_re.append(sum(temp)/len(temp))\n",
    "        max_re = -999\n",
    "        max_re_pos = 0\n",
    "        if len(mave_re) == 0:\n",
    "            continue\n",
    "        for i in range(len(re[0])-mave_len):\n",
    "            if mave_re[i] > max_re:\n",
    "                max_re = mave_re[i]\n",
    "                max_re_pos = i\n",
    "        id_re.append([id, max_re, ''.join(consensus_dict[id][max_re_pos: max_re_pos + mave_len]), len(consensus_dict[id]), len([x for x in re[0] if x > 1.9]), \n",
    "                      sequences_in_alignment, alignment[1][tb_index][max_re_pos: max_re_pos + mave_len]])"
   ]
  },
  {
   "cell_type": "code",
   "execution_count": 111,
   "id": "52cea015-f56d-42f7-a076-ff0bfbbb4e84",
   "metadata": {},
   "outputs": [
    {
     "data": {
      "text/plain": [
       "1741"
      ]
     },
     "execution_count": 111,
     "metadata": {},
     "output_type": "execute_result"
    }
   ],
   "source": [
    "len(id_re)"
   ]
  },
  {
   "cell_type": "code",
   "execution_count": 112,
   "id": "3a2022d8-3329-477b-b93a-dcbfe5e3e2f2",
   "metadata": {},
   "outputs": [
    {
     "data": {
      "text/html": [
       "<div>\n",
       "<style scoped>\n",
       "    .dataframe tbody tr th:only-of-type {\n",
       "        vertical-align: middle;\n",
       "    }\n",
       "\n",
       "    .dataframe tbody tr th {\n",
       "        vertical-align: top;\n",
       "    }\n",
       "\n",
       "    .dataframe thead th {\n",
       "        text-align: right;\n",
       "    }\n",
       "</style>\n",
       "<table border=\"1\" class=\"dataframe\">\n",
       "  <thead>\n",
       "    <tr style=\"text-align: right;\">\n",
       "      <th></th>\n",
       "      <th>Downstream CDS</th>\n",
       "      <th>Maximum_Moving_Ave_RE</th>\n",
       "      <th>Sequence</th>\n",
       "      <th>Intergenic_Region_TB_Length</th>\n",
       "      <th>Num_positions_gt_90_ID</th>\n",
       "      <th>Num_Seq_in_alignement</th>\n",
       "      <th>TB_Sequence</th>\n",
       "    </tr>\n",
       "  </thead>\n",
       "  <tbody>\n",
       "    <tr>\n",
       "      <th>0</th>\n",
       "      <td>RV1984a</td>\n",
       "      <td>0.625974</td>\n",
       "      <td>--------------------</td>\n",
       "      <td>117</td>\n",
       "      <td>2</td>\n",
       "      <td>131</td>\n",
       "      <td>CCTCACGTCGTCGGCGCCCA</td>\n",
       "    </tr>\n",
       "    <tr>\n",
       "      <th>1</th>\n",
       "      <td>Rv0002</td>\n",
       "      <td>1.490018</td>\n",
       "      <td>G-TCTACGGT-G-----CGA</td>\n",
       "      <td>530</td>\n",
       "      <td>30</td>\n",
       "      <td>213</td>\n",
       "      <td>GCTCTACGGTTGTTGTTCGA</td>\n",
       "    </tr>\n",
       "    <tr>\n",
       "      <th>2</th>\n",
       "      <td>Rv0005</td>\n",
       "      <td>1.251830</td>\n",
       "      <td>-AG--------AAAC-----</td>\n",
       "      <td>245</td>\n",
       "      <td>3</td>\n",
       "      <td>212</td>\n",
       "      <td>TAGATGGGTAAAAACGAGGC</td>\n",
       "    </tr>\n",
       "    <tr>\n",
       "      <th>3</th>\n",
       "      <td>Rv0006</td>\n",
       "      <td>0.847891</td>\n",
       "      <td>------------GA----AT</td>\n",
       "      <td>37</td>\n",
       "      <td>3</td>\n",
       "      <td>215</td>\n",
       "      <td>ATTGCAAACGAGGAATAGAT</td>\n",
       "    </tr>\n",
       "    <tr>\n",
       "      <th>4</th>\n",
       "      <td>Rv0007</td>\n",
       "      <td>1.371705</td>\n",
       "      <td>------T-AGGAG-C--GGT</td>\n",
       "      <td>98</td>\n",
       "      <td>8</td>\n",
       "      <td>77</td>\n",
       "      <td>CGAGTGTTAGGAGTCGGGGT</td>\n",
       "    </tr>\n",
       "    <tr>\n",
       "      <th>...</th>\n",
       "      <td>...</td>\n",
       "      <td>...</td>\n",
       "      <td>...</td>\n",
       "      <td>...</td>\n",
       "      <td>...</td>\n",
       "      <td>...</td>\n",
       "      <td>...</td>\n",
       "    </tr>\n",
       "    <tr>\n",
       "      <th>1736</th>\n",
       "      <td>Rv3913</td>\n",
       "      <td>1.260633</td>\n",
       "      <td>-AACA--------TA--CTG</td>\n",
       "      <td>96</td>\n",
       "      <td>2</td>\n",
       "      <td>209</td>\n",
       "      <td>GAACAGCAGTGCCTACGCTG</td>\n",
       "    </tr>\n",
       "    <tr>\n",
       "      <th>1737</th>\n",
       "      <td>Rv3915</td>\n",
       "      <td>1.195914</td>\n",
       "      <td>-TCTG-GA-AAT--------</td>\n",
       "      <td>112</td>\n",
       "      <td>6</td>\n",
       "      <td>215</td>\n",
       "      <td>ATCTGCGACAATACCGGTTG</td>\n",
       "    </tr>\n",
       "    <tr>\n",
       "      <th>1738</th>\n",
       "      <td>Rv3916c</td>\n",
       "      <td>1.284628</td>\n",
       "      <td>C---TAT-CT--A--GG---</td>\n",
       "      <td>292</td>\n",
       "      <td>3</td>\n",
       "      <td>190</td>\n",
       "      <td>CTCTTATTCTAGAAGGGTTG</td>\n",
       "    </tr>\n",
       "    <tr>\n",
       "      <th>1739</th>\n",
       "      <td>Rv3919c</td>\n",
       "      <td>1.174953</td>\n",
       "      <td>--CG-CG-GT-GT-GT----</td>\n",
       "      <td>134</td>\n",
       "      <td>2</td>\n",
       "      <td>202</td>\n",
       "      <td>AGCGATGCGTGGCCGAGCGG</td>\n",
       "    </tr>\n",
       "    <tr>\n",
       "      <th>1740</th>\n",
       "      <td>Rv3920c</td>\n",
       "      <td>0.813763</td>\n",
       "      <td>----A-G-----------AT</td>\n",
       "      <td>74</td>\n",
       "      <td>2</td>\n",
       "      <td>213</td>\n",
       "      <td>ACGAGGGGAGAGCAAGCCAT</td>\n",
       "    </tr>\n",
       "  </tbody>\n",
       "</table>\n",
       "<p>1741 rows × 7 columns</p>\n",
       "</div>"
      ],
      "text/plain": [
       "     Downstream CDS  Maximum_Moving_Ave_RE              Sequence  \\\n",
       "0           RV1984a               0.625974  --------------------   \n",
       "1            Rv0002               1.490018  G-TCTACGGT-G-----CGA   \n",
       "2            Rv0005               1.251830  -AG--------AAAC-----   \n",
       "3            Rv0006               0.847891  ------------GA----AT   \n",
       "4            Rv0007               1.371705  ------T-AGGAG-C--GGT   \n",
       "...             ...                    ...                   ...   \n",
       "1736         Rv3913               1.260633  -AACA--------TA--CTG   \n",
       "1737         Rv3915               1.195914  -TCTG-GA-AAT--------   \n",
       "1738        Rv3916c               1.284628  C---TAT-CT--A--GG---   \n",
       "1739        Rv3919c               1.174953  --CG-CG-GT-GT-GT----   \n",
       "1740        Rv3920c               0.813763  ----A-G-----------AT   \n",
       "\n",
       "      Intergenic_Region_TB_Length  Num_positions_gt_90_ID  \\\n",
       "0                             117                       2   \n",
       "1                             530                      30   \n",
       "2                             245                       3   \n",
       "3                              37                       3   \n",
       "4                              98                       8   \n",
       "...                           ...                     ...   \n",
       "1736                           96                       2   \n",
       "1737                          112                       6   \n",
       "1738                          292                       3   \n",
       "1739                          134                       2   \n",
       "1740                           74                       2   \n",
       "\n",
       "      Num_Seq_in_alignement           TB_Sequence  \n",
       "0                       131  CCTCACGTCGTCGGCGCCCA  \n",
       "1                       213  GCTCTACGGTTGTTGTTCGA  \n",
       "2                       212  TAGATGGGTAAAAACGAGGC  \n",
       "3                       215  ATTGCAAACGAGGAATAGAT  \n",
       "4                        77  CGAGTGTTAGGAGTCGGGGT  \n",
       "...                     ...                   ...  \n",
       "1736                    209  GAACAGCAGTGCCTACGCTG  \n",
       "1737                    215  ATCTGCGACAATACCGGTTG  \n",
       "1738                    190  CTCTTATTCTAGAAGGGTTG  \n",
       "1739                    202  AGCGATGCGTGGCCGAGCGG  \n",
       "1740                    213  ACGAGGGGAGAGCAAGCCAT  \n",
       "\n",
       "[1741 rows x 7 columns]"
      ]
     },
     "execution_count": 112,
     "metadata": {},
     "output_type": "execute_result"
    }
   ],
   "source": [
    "a =[x for x in id_re if x[1] > -11111.9]\n",
    "a.sort(key = lambda x: x[0])\n",
    "a = pd.DataFrame(a, columns = ['Downstream CDS', 'Maximum_Moving_Ave_RE', 'Sequence','Intergenic_Region_TB_Length','Num_positions_gt_90_ID', 'Num_Seq_in_alignement','TB_Sequence'])\n",
    "a"
   ]
  },
  {
   "cell_type": "code",
   "execution_count": 114,
   "id": "263bb584-37b0-47f6-a505-3b87588a7354",
   "metadata": {},
   "outputs": [],
   "source": [
    "a.to_csv(project_dir + '/Moving_average_relative_entropies.csv')"
   ]
  },
  {
   "cell_type": "code",
   "execution_count": 78,
   "id": "3103a327-2511-46cd-97d3-34425dc53d05",
   "metadata": {},
   "outputs": [
    {
     "data": {
      "text/plain": [
       "[Text(0.5, 0, 'Maximum moving average 20 nucleotide relative entropy'),\n",
       " Text(0, 0.5, 'Count'),\n",
       " Text(0.5, 1.0, '')]"
      ]
     },
     "execution_count": 78,
     "metadata": {},
     "output_type": "execute_result"
    },
    {
     "data": {
      "image/png": "[encoded data removed]",
      "text/plain": [
       "<Figure size 432x288 with 1 Axes>"
      ]
     },
     "metadata": {
      "needs_background": "light"
     },
     "output_type": "display_data"
    }
   ],
   "source": [
    "a = sns.histplot(data = [x[1] for x in id_re], bins = 100)\n",
    "a.set(xlabel =\"Maximum moving average 20 nucleotide relative entropy\", ylabel = \"Count\", title ='')"
   ]
  },
  {
   "cell_type": "code",
   "execution_count": 23,
   "id": "f353888b-65a2-4729-a500-43ab84d1a449",
   "metadata": {},
   "outputs": [
    {
     "name": "stdout",
     "output_type": "stream",
     "text": [
      "511\n",
      "['-', '-', 'C', 'A', 'C', 'A', 'G', '-', '-', '-', '-', '-', '-', 'C', 'A', '-', 'A', 'G', '-', '-', '-', '-', '-', '-', 'C', 'A', '-', 'A', 'G', '-', '-', '-', '-', '-', '-', 'C', '-', '-', 'A', '-', '-', '-', '-', '-', '-', '-', '-', '-', '-', '-', 'A', 'T', 'A', '-', 'T', '-', '-', '-', '-', '-', '-', '-', '-', 'T', 'G', '-', '-', '-', '-', '-', '-', '-', 'C', '-', '-', '-', '-', '-', '-', '-', '-', 'C', '-', '-', '-', '-', 'G', '-', '-', 'C', 'G', '-', 'G', '-', '-', 'G', 'T', '-', 'A', 'T', 'G']\n",
      "2\n",
      "[1.1168627746994013, 1.3593150853088614, 1.6914765375802951, 1.6796887636350823, 1.506451286803387, 1.75678696817408, 1.8733408540622851, 0.8101699066926105, 0.07496785558279902, 0.29960673746734945, 0.8175586408723163, 1.269871301771875, 0.712110499999643, 1.9172097212843104, 1.9172097212843104, 1.0110974061166784, 1.7173568830817294, 1.8232532323383193, 0.3937538241635844, 0.3041936785960762, 0.7889334042726608, 0.15389387343330596, 0.7898361728762111, 0.30431245467690593, 1.6008512956228382, 1.5692870846830225, 0.9388164820725429, 1.8232532323383193, 1.5743837716219273, 0.3777152048655855, 0.15071431034769325, 0.11483733997778639, 0.4153270849833949, 0.6696335173280844, 0.6563056086408148, 1.6654852104268465, 0.8036041072730438, 0.8416371345443517, 1.7213460869187203, 0.39741948946055594, 0.16210600795850078, 0.23246664170169618, 0.48297107088116914, 0.36250311195421736, 0.37071555832031716, 0.21762651617766984, 0.23607397788386109, 1.1802141357710194, 0.9232830631506702, 0.40552816692596266, 1.9543935240581738, 1.7002788651698764, 1.8378950336331057, 0.9014964415097716, 1.918873914295075, 0.6433721655895147, 1.1821264375214882, 0.5735603188816906, 0.28083744684670153, 0.12649799065844872, 0.2851261475025112, 0.24330964013322545, 1.056282999172209, 1.6436446919292642, 1.5433972122782946, 0.8872238679876466, 1.0120130977446433, 0.18371925648674683, 0.11483291656592601, 0.3343169812186143, 0.12882824661746484, 0.2642761825101082, 1.4492366584600453, 0.17577149538484702, 0.4840564803319739, 0.429429509093044, 0.12315114885633477, 0.27279310743442453, 0.08600845600352872, 0.044886591794455866, 0.3914123074027023, 1.5084794323891604, 0.2960092481069567, 0.8992951177100003, 0.3106355662162297, 0.11453171389825488, 1.7220155512268944, 0.7688377755740713, 0.607626062988599, 1.9172097212843104, 1.9582540291714954, 0.15005392326509356, 1.6185134654851085, 1.176381853211202, 0.33667147351052873, 1.7802813321843172, 1.56345249101336, 0.766671426852979, 1.8733408540622851, 2.0, 2.0]\n",
      "[1, 0, 0, 1, 0, 0, 0, 1, 0, 1, 1, 1, 1, 0, 0, 1, 0, 0, 0, 0, 1, 0, 0, 0, 1, 0, 1, 0, 0, 0, 0, 1, 0, 1, 0, 0, 0, 0, 0, 0, 0, 0, 0, 0, 0, 0, 0, 0, 0, 0, 0, 0, 0, 0, 0, 0, 0, 0, 0, 0, 0, 0, 0, 0, 1, 0, 0, 0, 0, 0, 0, 0, 0, 0, 0, 0, 0, 0, 1, 0, 1, 0, 0, 0, 0, 0, 0, 0, 0, 0, 0, 0, 1, 0, 0, 0, 0, 0, 0, 0, 0]\n"
     ]
    }
   ],
   "source": [
    "  \n",
    "    if os.path.exists(project_dir + '/' + str(id) + '/rscape_output_no_insertions2.cov'):\n",
    "        covarying_pairs = []\n",
    "        with open(project_dir + '/' + str(id) + '/rscape_output_no_insertions2.cov', 'r') as f:  \n",
    "            for l in f:\n",
    "                if (not ('#' in l)):\n",
    "                    a = l.split()\n",
    "                    if len(a) > 6 and abs(int(a[2])-int(a[1])) > 3:    # Exclude covarying pairs less than 3 bp apart)\n",
    "                        covarying_pairs.append(int(a[1]))\n",
    "                        covarying_pairs.append(int(a[2]))\n",
    "\n",
    "        covarying_pairs = list(set(covarying_pairs))\n",
    "        covariation = []\n",
    "        for i in range(alignment_length):\n",
    "            if i+1 in covarying_pairs:\n",
    "                covariation.append(1)\n",
    "            else:\n",
    "                covariation.append(0)\n",
    "\n",
    "    print(covariation[410:])"
   ]
  },
  {
   "cell_type": "markdown",
   "id": "146ab69b-eaa6-4710-8715-6fef3630d7db",
   "metadata": {},
   "source": []
  },
  {
   "cell_type": "markdown",
   "id": "12056313-a454-46df-bba7-1cb6bf3dc18c",
   "metadata": {},
   "source": [
    "#### BLAST intergenic sequences to assess whether any could be complementary"
   ]
  },
  {
   "cell_type": "code",
   "execution_count": null,
   "id": "4bdd811d-b53d-48cf-a424-327c2d3e62f3",
   "metadata": {},
   "outputs": [],
   "source": []
  }
 ],
 "metadata": {
  "kernelspec": {
   "display_name": "Python 3 (ipykernel)",
   "language": "python",
   "name": "python3"
  },
  "language_info": {
   "codemirror_mode": {
    "name": "ipython",
    "version": 3
   },
   "file_extension": ".py",
   "mimetype": "text/x-python",
   "name": "python",
   "nbconvert_exporter": "python",
   "pygments_lexer": "ipython3",
   "version": "3.9.7"
  }
 },
 "nbformat": 4,
 "nbformat_minor": 5
}
