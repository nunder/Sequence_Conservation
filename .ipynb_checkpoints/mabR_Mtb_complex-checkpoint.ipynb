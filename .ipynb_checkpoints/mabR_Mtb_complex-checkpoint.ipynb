{
 "cells": [
  {
   "cell_type": "markdown",
   "id": "b1e30ed4-8a0e-4a6f-96eb-dfe116dfb2de",
   "metadata": {},
   "source": [
    "#### Import packages, set directories and parameters"
   ]
  },
  {
   "cell_type": "code",
   "execution_count": 81,
   "id": "cf9c6377-5080-4c22-94db-feabe17cc47c",
   "metadata": {},
   "outputs": [],
   "source": [
    "import pandas as pd\n",
    "import pickle\n",
    "import seaborn as sns\n",
    "import matplotlib.pyplot as plt\n",
    "import numpy as np\n",
    "import shutil\n",
    "from Bio import Entrez, SeqIO, AlignIO, pairwise2, Align, Seq, motifs\n",
    "from Bio.Seq import Seq\n",
    "from Bio.SeqFeature import SeqFeature, FeatureLocation\n",
    "import math\n",
    "from tqdm import tqdm\n",
    "from Comparative_Analysis import Utilities as util\n",
    "from joblib import Parallel, delayed\n",
    "from Comparative_Analysis import Blast_Functions as blastfn\n",
    "import time\n",
    "import os\n",
    "import copy\n",
    "import collections\n",
    "from scipy.stats import chi2, binom\n",
    "from Comparative_Analysis import Alignment as alignfn\n",
    "from Bio.Align.Applications import MuscleCommandline\n",
    "import subprocess\n",
    "pd.options.mode.chained_assignment = None  # default='warn'"
   ]
  },
  {
   "cell_type": "code",
   "execution_count": 5,
   "id": "79c1ca3d-a68f-4a9d-a5c4-25df7385b3ad",
   "metadata": {},
   "outputs": [],
   "source": [
    "project_dir = 'F:/Project_Data/mabR_Project/MTBC'\n",
    "seq_dir = 'F:/Datasets/Other_Genomes/MTBC'\n",
    "motif_loc = 'F:/Project_Data/mabR_Project/Second_MEME_Upstream_Output/meme.txt'\n",
    "full_run = True\n",
    "muscle_exe = 'C:/Users/nicho/Muscle/muscle3.8.31_i86win32.exe'"
   ]
  },
  {
   "cell_type": "code",
   "execution_count": 6,
   "id": "42e1c6ce-c97a-457a-b47c-10cd35168c69",
   "metadata": {},
   "outputs": [],
   "source": [
    "tbc_seq_dict = {}\n",
    "tbc_name_dict = {}\n",
    "tbc_species_dirs = util.list_dirs(seq_dir)\n",
    "for sdir in tbc_species_dirs:\n",
    "    for genome_record in SeqIO.parse(seq_dir + '/' + sdir + '/sequence.gb', \"genbank\"):\n",
    "            accession_ver = genome_record.annotations['accessions'][0] + '.' + str(genome_record.annotations['sequence_version'])\n",
    "            tbc_name_dict[accession_ver] = genome_record.annotations['organism']\n",
    "            full_sequence = str(genome_record.seq)\n",
    "            tbc_seq_dict[accession_ver] = full_sequence\n",
    "    "
   ]
  },
  {
   "cell_type": "code",
   "execution_count": 206,
   "id": "62af6666-bdc3-4f29-98e5-dfcd2405ca41",
   "metadata": {},
   "outputs": [],
   "source": [
    "informal_names_dict = {'CP063804.2': 'M.orygis', 'CP016401.1':'M.caprae',  'LT708304.1': 'M.bovis', 'AL123456.3':'M.tb', 'LR882500.1': 'M.microti' , 'FR878060.1':'M.africanum', 'HE572590.1':'M.canettii'}"
   ]
  },
  {
   "cell_type": "code",
   "execution_count": 200,
   "id": "ef61cf61-5e4c-4989-9f3d-6871a8a0b73f",
   "metadata": {},
   "outputs": [
    {
     "name": "stdout",
     "output_type": "stream",
     "text": [
      "CP063804.2 Mycobacterium orygis 4352140\n",
      "CP016401.1 Mycobacterium tuberculosis variant caprae 4324961\n",
      "LT708304.1 Mycobacterium tuberculosis variant bovis AF2122/97 4349904\n",
      "AL123456.3 Mycobacterium tuberculosis H37Rv 4411532\n",
      "LR882500.1 Mycobacterium tuberculosis variant microti 4384561\n",
      "FR878060.1 Mycobacterium tuberculosis variant africanum GM041182 4389314\n",
      "HE572590.1 Mycobacterium canettii CIPT 140010059 4482059\n"
     ]
    }
   ],
   "source": [
    "for k, v in tbc_seq_dict.items():\n",
    "    print(k, tbc_name_dict[k], len(v))"
   ]
  },
  {
   "cell_type": "code",
   "execution_count": 96,
   "id": "63f58a21-4009-4b7e-b289-7766b64797b1",
   "metadata": {},
   "outputs": [
    {
     "name": "stderr",
     "output_type": "stream",
     "text": [
      "100%|██████████| 7/7 [00:00<00:00, 10.88it/s]\n"
     ]
    }
   ],
   "source": [
    "util.produce_fasta_file([[k,v] for k, v in tbc_seq_dict.items()], project_dir + '/tbc_sequences.faa')"
   ]
  },
  {
   "cell_type": "code",
   "execution_count": 97,
   "id": "53c0fe66-0118-427f-b2e4-d74f419e8f1f",
   "metadata": {},
   "outputs": [],
   "source": [
    "blastfn.run_fimo(motif_loc, project_dir + '/tbc_sequences.faa' , project_dir + '/tbc_FIMO_Hits')"
   ]
  },
  {
   "cell_type": "code",
   "execution_count": 98,
   "id": "82900c08-1aee-455e-8386-e4af5ea42fab",
   "metadata": {},
   "outputs": [],
   "source": [
    "tbc_fimo_hits_df = pd.read_csv(project_dir + '/tbc_FIMO_Hits/fimo.tsv', sep='\\t')"
   ]
  },
  {
   "cell_type": "code",
   "execution_count": 147,
   "id": "78168be6-1adf-4417-a07d-77d6f8d17491",
   "metadata": {},
   "outputs": [
    {
     "name": "stderr",
     "output_type": "stream",
     "text": [
      "100%|██████████| 1049/1049 [00:00<00:00, 59253.71it/s]"
     ]
    },
    {
     "name": "stdout",
     "output_type": "stream",
     "text": [
      "1049\n"
     ]
    },
    {
     "name": "stderr",
     "output_type": "stream",
     "text": [
      "\n"
     ]
    }
   ],
   "source": [
    "temp = []\n",
    "for i, r in tbc_fimo_hits_df.iterrows():\n",
    "    if '#' in r['motif_id'] or not(r['motif_alt_id'] == 'MEME-1') or r['q-value'] > 1e-3:\n",
    "        continue\n",
    "    start = int(r['start'])-100\n",
    "    stop = int(r['stop'])+100\n",
    "    if r['strand'] == 1:\n",
    "        strand = '+'\n",
    "    else:\n",
    "        strand = '-'\n",
    "    temp.append([r['sequence_name']+'@'+str(start)+'_'+str(stop)+'_'+strand, tbc_seq_dict[r['sequence_name']][start:stop]])\n",
    "\n",
    "util.produce_fasta_file(temp, project_dir + '/mtbc_fimo_hits.faa')\n",
    "print(len(temp))"
   ]
  },
  {
   "cell_type": "code",
   "execution_count": 148,
   "id": "00a6cb10-57bf-4fa7-a3c3-9eae9c288914",
   "metadata": {},
   "outputs": [],
   "source": [
    "if 1==1:\n",
    "    blastfn.build_blast_db(project_dir, 'tbc_sequences.faa', 'MTBC', project_dir + '/BLAST/MTBC', 'nucl')\n",
    "    shutil.copy(project_dir + '/mtbc_fimo_hits.faa', project_dir + '/BLAST/MTBC/mtbc_fimo_hits.faa')\n",
    "    blastfn.run_blastn(project_dir + '/BLAST/MTBC', 'mtbc_fimo_hits.faa', 'MTBC', 'motif_mtbc_blast_hits.csv', e_value = 1e-1)"
   ]
  },
  {
   "cell_type": "code",
   "execution_count": 209,
   "id": "0c20803d-3cfa-4d69-8555-412b04321994",
   "metadata": {},
   "outputs": [],
   "source": [
    "blast_results_df = pd.read_csv(project_dir + '/BLAST/MTBC/motif_mtbc_blast_hits.csv', header = None)\n",
    "blast_results_df.columns = ['query_ref', 'target_ref', 'query_length', 'subject_length', 'percent_identical_matches','alignment_length', 'number_mismatches', 'number_of_gap_openings', \n",
    "                         'query_start_alignment', 'query_end_alignment', 'target_start_alignment', 'target_end_alignment', 'e_value', 'bit_score']\n",
    "blast_results_df = blast_results_df.loc[blast_results_df.groupby(['query_ref','target_ref'])['bit_score'].idxmax()]\n",
    "for i, r in blast_results_df.iterrows():\n",
    "    target_ref = r['target_ref'].split('@')[0]\n",
    "    informal_target_ref = informal_names_dict[target_ref]\n",
    "    query_ref = r['query_ref'].split('@')[0]\n",
    "    blast_results_df.at[i,'query_organism'] = tbc_name_dict[query_ref]\n",
    "    blast_results_df.at[i,'target_organism'] = tbc_name_dict[target_ref]\n",
    "    temp = r['query_ref'].split('@')[1].split('_')\n",
    "    query_start = int(temp[0])\n",
    "    query_end = int(temp[1])\n",
    "    target_start_alignment = int(r['target_start_alignment'])\n",
    "    target_end_alignment = int(r['target_end_alignment'])\n",
    "    query_start_alignment = int(r['query_start_alignment'])\n",
    "    query_end_alignment = int(r['query_end_alignment'])\n",
    "    full_target_alignment_start = target_start_alignment - query_start_alignment \n",
    "    full_target_alignment_end = target_end_alignment + 221- query_end_alignment\n",
    "    blast_results_df.at[i, 'full_target_alignment_start'] =  full_target_alignment_start\n",
    "    blast_results_df.at[i, 'full_target_alignment_end'] =  full_target_alignment_end\n",
    "    blast_results_df.at[i, 'full_query_sequence'] =  tbc_seq_dict[query_ref][query_start:query_end]\n",
    "    blast_results_df.at[i, 'full_target_sequence'] =  tbc_seq_dict[target_ref][full_target_alignment_start: full_target_alignment_end]\n",
    "    blast_results_df.at[i, 'full_target_sequence_ref'] = target_ref + '_'+ str(full_target_alignment_start) + '_' + str(full_target_alignment_end)\n",
    "    blast_results_df.at[i, 'informal_target_sequence_ref'] = informal_target_ref + '_'+ str(full_target_alignment_start) + '_' + str(full_target_alignment_end)"
   ]
  },
  {
   "cell_type": "code",
   "execution_count": 210,
   "id": "1f16b806-4dd0-459e-be65-dbc20ff9577e",
   "metadata": {},
   "outputs": [],
   "source": [
    "blast_results_df.to_csv(project_dir + '/processed_blast_results.csv')"
   ]
  },
  {
   "cell_type": "code",
   "execution_count": 211,
   "id": "a169991e-3b6f-4cba-9659-b60cbb41e51a",
   "metadata": {},
   "outputs": [],
   "source": [
    "temp_df = blast_results_df.query('query_end_alignment < 217')\n",
    "distinct_clusters = []\n",
    "regions_considered = []\n",
    "for i, r in temp_df.iterrows():\n",
    "    temp_df_2 = temp_df[temp_df['query_ref'] == r['query_ref']]\n",
    "    matched = 0\n",
    "    for j, s in temp_df_2.iterrows():\n",
    "        for (species, start, stop) in regions_considered:\n",
    "            if s['target_ref'] == species and s['full_target_alignment_start'] < stop and s['full_target_alignment_end'] > start:\n",
    "                matched = 1\n",
    "    if matched == 0:\n",
    "        distinct_clusters.append(r['query_ref'])\n",
    "        for j, s in temp_df_2.iterrows():\n",
    "            regions_considered.append((s['target_ref'], s['full_target_alignment_start'], s['full_target_alignment_end'])) "
   ]
  },
  {
   "cell_type": "code",
   "execution_count": 212,
   "id": "a569910e-b5d1-4522-9b9e-c06b96d558c7",
   "metadata": {},
   "outputs": [
    {
     "name": "stderr",
     "output_type": "stream",
     "text": [
      "100%|██████████| 7/7 [00:00<?, ?it/s]\n",
      "100%|██████████| 7/7 [00:00<?, ?it/s]\n",
      "100%|██████████| 7/7 [00:00<?, ?it/s]\n",
      "100%|██████████| 7/7 [00:00<?, ?it/s]\n",
      "100%|██████████| 7/7 [00:00<?, ?it/s]\n",
      "100%|██████████| 7/7 [00:00<?, ?it/s]\n",
      "100%|██████████| 7/7 [00:00<?, ?it/s]\n",
      "100%|██████████| 7/7 [00:00<?, ?it/s]\n",
      "100%|██████████| 7/7 [00:00<?, ?it/s]\n",
      "100%|██████████| 7/7 [00:00<?, ?it/s]\n",
      "100%|██████████| 5/5 [00:00<?, ?it/s]\n",
      "100%|██████████| 7/7 [00:00<?, ?it/s]\n",
      "100%|██████████| 7/7 [00:00<?, ?it/s]\n",
      "100%|██████████| 7/7 [00:00<?, ?it/s]\n",
      "100%|██████████| 7/7 [00:00<?, ?it/s]\n",
      "100%|██████████| 7/7 [00:00<?, ?it/s]\n",
      "100%|██████████| 7/7 [00:00<?, ?it/s]\n",
      "100%|██████████| 7/7 [00:00<?, ?it/s]\n",
      "100%|██████████| 7/7 [00:00<?, ?it/s]\n",
      "100%|██████████| 7/7 [00:00<00:00, 7201.40it/s]\n",
      "100%|██████████| 7/7 [00:00<?, ?it/s]\n"
     ]
    }
   ],
   "source": [
    "for ref in distinct_clusters:\n",
    "    region_of_interest = blast_results_df.query('query_ref == @ref')\n",
    "    temp = []\n",
    "    for i, r in region_of_interest.iterrows():\n",
    "        temp.append([r['informal_target_sequence_ref'],r['full_target_sequence']])\n",
    "    util.produce_fasta_file(temp, project_dir + '/Regions_of_Interest/' + ref + '.faa')\n",
    "    cline = MuscleCommandline(muscle_exe, input= project_dir + '/Regions_of_Interest/' + ref + '.faa', out = project_dir + '/Regions_of_Interest/' + ref + '_aligned.fasta')\n",
    "    stdout, stderr = cline()"
   ]
  },
  {
   "cell_type": "code",
   "execution_count": null,
   "id": "fd078fe5-3717-4414-a55d-095a37e7d6f4",
   "metadata": {},
   "outputs": [],
   "source": []
  },
  {
   "cell_type": "code",
   "execution_count": null,
   "id": "8324dfd3-4be1-4f96-a325-90e1c63e5d5f",
   "metadata": {},
   "outputs": [],
   "source": []
  },
  {
   "cell_type": "code",
   "execution_count": null,
   "id": "e3982967-edb0-4a45-817d-716abe792a63",
   "metadata": {},
   "outputs": [],
   "source": []
  },
  {
   "cell_type": "code",
   "execution_count": 160,
   "id": "ddd17d9f-c73c-4ba4-8239-c34f8170c787",
   "metadata": {},
   "outputs": [
    {
     "name": "stderr",
     "output_type": "stream",
     "text": [
      "100%|██████████| 2/2 [00:00<?, ?it/s]\n"
     ]
    }
   ],
   "source": [
    "util.produce_fasta_file([['H37RV_2522064_2522460',tb_sequence[2522064:2522460]],['AF221297_2505723_2505831',bovis_sequence[2505623:2505931]]], project_dir + '/bovis_tb_difference.faa')"
   ]
  },
  {
   "cell_type": "code",
   "execution_count": 83,
   "id": "d70eb899-47d5-4096-a805-615f07038940",
   "metadata": {},
   "outputs": [],
   "source": [
    "cline = MuscleCommandline(muscle_exe, input= project_dir + '/bovis_tb_difference.faa', out = project_dir + '/bovis_tb_alignment.fasta')\n",
    "stdout, stderr = cline()"
   ]
  },
  {
   "cell_type": "code",
   "execution_count": 76,
   "id": "145a253f-e955-4182-9488-705d3210958f",
   "metadata": {},
   "outputs": [
    {
     "data": {
      "text/plain": [
       "'CGACGAGAAGATCGACCCGGCGCATACTCGCAGCAAGCTCACCGAGGCGCTGGCGCAGGCTCCGGCACGGCGCGGCCGCCACAAGAACATCCCGCTGTAGTTCTGACCGCGAGCCGCTCCTCGCATGCTCGAACGGTGCCTACCGACGCGCTAACAATTCTCGAGAAGGCCGGCGGGTTCGCCACCACCGCGCAATTGCTCACGGTCATGACCCGCCAACAGCTCGACGTCCAAGTGAAAAACGGCGGCCTCGTTCGCGTTTGGTACGGGGTCTACGCGGCACAAGAGCCGGACCTGTTGGGCCGCTT'"
      ]
     },
     "execution_count": 76,
     "metadata": {},
     "output_type": "execute_result"
    }
   ],
   "source": [
    "bovis_sequence[2505623:2505931]"
   ]
  },
  {
   "cell_type": "code",
   "execution_count": 165,
   "id": "d88b4d6b-e434-466c-b1d3-de81c7d3635e",
   "metadata": {},
   "outputs": [],
   "source": [
    "counts_df = blast_results_df.groupby(['query_ref']).size().reset_index()\n",
    "counts_df=counts_df.rename(columns={0 : 'Count'}) "
   ]
  },
  {
   "cell_type": "markdown",
   "id": "d03738b5-bdbc-4b01-b20f-cb28392a6fab",
   "metadata": {},
   "source": [
    "#####  Analyse CRyPTIC "
   ]
  },
  {
   "cell_type": "code",
   "execution_count": 62,
   "id": "ee5d977c-4b41-482a-9e8d-7308cdbce3be",
   "metadata": {},
   "outputs": [
    {
     "name": "stderr",
     "output_type": "stream",
     "text": [
      "C:\\Users\\nicho\\AppData\\Local\\Temp/ipykernel_16552/834464025.py:3: DtypeWarning: Columns (1,3,13,14,15,27,36) have mixed types. Specify dtype option on import or set low_memory=False.\n",
      "  genome_df = pd.read_csv('F:/Datasets/CRYPTIC_DATA/GENOMES.csv')\n"
     ]
    }
   ],
   "source": [
    "if 1 == 1:\n",
    "    lineage_dict = {}\n",
    "    genome_df = pd.read_csv('F:/Datasets/CRYPTIC_DATA/GENOMES.csv') \n",
    "    for i, r in genome_df.iterrows():\n",
    "        lineage_dict[r['UNIQUEID']] = (r['MYKROBE_LINEAGE_NAME_1'], r['MYKROBE_LINEAGE_NAME_2'])"
   ]
  },
  {
   "cell_type": "code",
   "execution_count": 7,
   "id": "3d9c4e85-e471-45df-a5bf-abf26e2ad536",
   "metadata": {},
   "outputs": [
    {
     "name": "stderr",
     "output_type": "stream",
     "text": [
      "C:\\Users\\nicho\\AppData\\Local\\Temp/ipykernel_16552/3028569424.py:2: DtypeWarning: Columns (28) have mixed types. Specify dtype option on import or set low_memory=False.\n",
      "  variant_df = pd.read_csv('F:/Datasets/CRYPTIC_DATA/VARIANTS.csv')\n"
     ]
    }
   ],
   "source": [
    "if 1==0:\n",
    "    variant_df = pd.read_csv('F:/Datasets/CRYPTIC_DATA/VARIANTS.csv') \n",
    "    with open(project_dir + '/variant_df.pkl', 'wb') as f:\n",
    "        pickle.dump(variant_df[['UNIQUEID', 'VARIANT', 'MUTATION_TYPE', 'IS_NULL', 'IS_HET', 'IS_FILTER_PASS', 'IS_INDEL', 'REF', 'ALT', 'GENOME_INDEX']], f)    "
   ]
  },
  {
   "cell_type": "code",
   "execution_count": null,
   "id": "a88a1820-d81a-4fc0-a7f3-4a6db36eb880",
   "metadata": {},
   "outputs": [],
   "source": []
  },
  {
   "cell_type": "code",
   "execution_count": 8,
   "id": "d429e295-c517-47a5-8cd0-b4483d6909f6",
   "metadata": {},
   "outputs": [],
   "source": [
    "if 1 == 0:\n",
    "    position_dict = {}\n",
    "    variant_dict = {}\n",
    "    id_dict = {}\n",
    "    with open(project_dir + '/variant_df.pkl', 'rb') as f:\n",
    "        variant_df = pickle.load(f) \n",
    "        unique_ids = variant_df.UNIQUEID.unique()\n",
    "        for i, unique_id in enumerate(unique_ids):\n",
    "            id_dict[unique_id] = i\n",
    "\n",
    "        for i, r in variant_df.iterrows():\n",
    "            if r['IS_NULL'] == False and r['IS_FILTER_PASS'] == True and r['IS_HET'] == False and r['IS_INDEL'] == True :\n",
    "                \n",
    "                if id_dict[r['UNIQUEID']] in variant_dict:\n",
    "                    variant_dict[id_dict[r['UNIQUEID']]].append((r['GENOME_INDEX'], r['REF'], r['ALT']))\n",
    "                else:\n",
    "                    variant_dict[id_dict[r['UNIQUEID']]] = [(r['GENOME_INDEX'], r['REF'], r['ALT'])]\n",
    "\n",
    "                if r['GENOME_INDEX'] in position_dict:\n",
    "                    position_dict[r['GENOME_INDEX']].append((id_dict[r['UNIQUEID']], r['ALT']))\n",
    "                else:\n",
    "                    position_dict[r['GENOME_INDEX']] = [r['REF'], (id_dict[r['UNIQUEID']], r['ALT'])]    # If first entry also include reference value for info\n",
    "\n",
    "    with open(project_dir + '/id_dict.pkl', 'wb') as f:\n",
    "        pickle.dump(id_dict, f)\n",
    "    with open(project_dir + '/variant_dict.pkl', 'wb') as f:\n",
    "        pickle.dump(variant_dict, f) \n",
    "    with open(project_dir + '/position_dict.pkl', 'wb') as f:\n",
    "        pickle.dump(position_dict, f) \n",
    "        "
   ]
  },
  {
   "cell_type": "code",
   "execution_count": 59,
   "id": "d0d89c46-6a7e-48c4-920a-ba505ab7a654",
   "metadata": {},
   "outputs": [],
   "source": [
    "unique_id_ref_dict = {}\n",
    "for k, v in id_dict.items():\n",
    "    unique_id_ref_dict[v] = k"
   ]
  },
  {
   "cell_type": "code",
   "execution_count": 102,
   "id": "afaa379a-b025-4da4-a0bf-a25943f4ac63",
   "metadata": {},
   "outputs": [],
   "source": [
    "                    "
   ]
  },
  {
   "cell_type": "code",
   "execution_count": 163,
   "id": "1e8f4aec-3580-46c4-9120-f20dbe53df34",
   "metadata": {},
   "outputs": [],
   "source": [
    "mite_position_unique_ids_for_position_dict = {}\n",
    "all_mite_ids = []\n",
    "for k, v in position_dict.items():\n",
    "    if len(v[0]) <= 5:\n",
    "        for u in v[1:]:\n",
    "            if len(u[1]) > 10 and 'cgagcagacg' in u[1]:\n",
    "                all_mite_ids.append(unique_id_ref_dict[u[0]])\n",
    "                if k in mite_position_unique_ids_for_position_dict:\n",
    "                    mite_position_unique_ids_for_position_dict[k].append(unique_id_ref_dict[u[0]])\n",
    "                else:\n",
    "                    mite_position_unique_ids_for_position_dict[k] = [unique_id_ref_dict[u[0]]]"
   ]
  },
  {
   "cell_type": "code",
   "execution_count": 165,
   "id": "30892b0b-2b72-4cd9-a090-3945b50b9454",
   "metadata": {},
   "outputs": [],
   "source": [
    "if 1 == 1:\n",
    "    mite_ids = mite_position_unique_ids_for_position_dict[3423249]\n",
    "    phenotypes_df = pd.read_csv('F:/Datasets/CRYPTIC_DATA/UKMYC_PHENOTYPES.csv') \n",
    "    for i, r in phenotypes_df.iterrows():\n",
    "        uniqueid = r['UNIQUEID']\n",
    "        if uniqueid in all_mite_ids:   #mite_ids or all_mite_ids for all\n",
    "            phenotypes_df.at[i, 'MITE'] = 'Y'\n",
    "        else:\n",
    "            phenotypes_df.at[i, 'MITE'] = 'N'"
   ]
  },
  {
   "cell_type": "code",
   "execution_count": 166,
   "id": "8835cd82-d009-47f6-8dca-0f7d00fbdcd0",
   "metadata": {},
   "outputs": [
    {
     "data": {
      "text/plain": [
       "68669"
      ]
     },
     "execution_count": 166,
     "metadata": {},
     "output_type": "execute_result"
    }
   ],
   "source": [
    "len(all_mite_ids)"
   ]
  },
  {
   "cell_type": "code",
   "execution_count": 171,
   "id": "2d357c46-96c4-4179-953c-13bbb2008c7d",
   "metadata": {},
   "outputs": [],
   "source": [
    "a= phenotypes_df[phenotypes_df['MITE'] == 'Y']\n",
    "a.to_csv(project_dir + '/nick.csv')"
   ]
  },
  {
   "cell_type": "code",
   "execution_count": 169,
   "id": "c39b2ce3-7f72-4c29-a7a6-c2ed1767663f",
   "metadata": {},
   "outputs": [
    {
     "ename": "ConversionError",
     "evalue": "Failed to convert value(s) to axis units: 317       S\n3432      S\n4938      S\n6366      S\n7745      S\n         ..\n212171    S\n216681    S\n220877    S\n226338    S\n227163    S\nName: x, Length: 116, dtype: object",
     "output_type": "error",
     "traceback": [
      "\u001b[1;31m---------------------------------------------------------------------------\u001b[0m",
      "\u001b[1;31mTypeError\u001b[0m                                 Traceback (most recent call last)",
      "\u001b[1;32m~\\Anaconda3\\envs\\Bioinformatics\\lib\\site-packages\\matplotlib\\axis.py\u001b[0m in \u001b[0;36mconvert_units\u001b[1;34m(self, x)\u001b[0m\n\u001b[0;32m   1505\u001b[0m         \u001b[1;32mtry\u001b[0m\u001b[1;33m:\u001b[0m\u001b[1;33m\u001b[0m\u001b[1;33m\u001b[0m\u001b[0m\n\u001b[1;32m-> 1506\u001b[1;33m             \u001b[0mret\u001b[0m \u001b[1;33m=\u001b[0m \u001b[0mself\u001b[0m\u001b[1;33m.\u001b[0m\u001b[0mconverter\u001b[0m\u001b[1;33m.\u001b[0m\u001b[0mconvert\u001b[0m\u001b[1;33m(\u001b[0m\u001b[0mx\u001b[0m\u001b[1;33m,\u001b[0m \u001b[0mself\u001b[0m\u001b[1;33m.\u001b[0m\u001b[0munits\u001b[0m\u001b[1;33m,\u001b[0m \u001b[0mself\u001b[0m\u001b[1;33m)\u001b[0m\u001b[1;33m\u001b[0m\u001b[1;33m\u001b[0m\u001b[0m\n\u001b[0m\u001b[0;32m   1507\u001b[0m         \u001b[1;32mexcept\u001b[0m \u001b[0mException\u001b[0m \u001b[1;32mas\u001b[0m \u001b[0me\u001b[0m\u001b[1;33m:\u001b[0m\u001b[1;33m\u001b[0m\u001b[1;33m\u001b[0m\u001b[0m\n",
      "\u001b[1;32m~\\Anaconda3\\envs\\Bioinformatics\\lib\\site-packages\\matplotlib\\category.py\u001b[0m in \u001b[0;36mconvert\u001b[1;34m(value, unit, axis)\u001b[0m\n\u001b[0;32m     67\u001b[0m         \u001b[1;31m# force an update so it also does type checking\u001b[0m\u001b[1;33m\u001b[0m\u001b[1;33m\u001b[0m\u001b[0m\n\u001b[1;32m---> 68\u001b[1;33m         \u001b[0munit\u001b[0m\u001b[1;33m.\u001b[0m\u001b[0mupdate\u001b[0m\u001b[1;33m(\u001b[0m\u001b[0mvalues\u001b[0m\u001b[1;33m)\u001b[0m\u001b[1;33m\u001b[0m\u001b[1;33m\u001b[0m\u001b[0m\n\u001b[0m\u001b[0;32m     69\u001b[0m         \u001b[1;32mreturn\u001b[0m \u001b[0mnp\u001b[0m\u001b[1;33m.\u001b[0m\u001b[0mvectorize\u001b[0m\u001b[1;33m(\u001b[0m\u001b[0munit\u001b[0m\u001b[1;33m.\u001b[0m\u001b[0m_mapping\u001b[0m\u001b[1;33m.\u001b[0m\u001b[0m__getitem__\u001b[0m\u001b[1;33m,\u001b[0m \u001b[0motypes\u001b[0m\u001b[1;33m=\u001b[0m\u001b[1;33m[\u001b[0m\u001b[0mfloat\u001b[0m\u001b[1;33m]\u001b[0m\u001b[1;33m)\u001b[0m\u001b[1;33m(\u001b[0m\u001b[0mvalues\u001b[0m\u001b[1;33m)\u001b[0m\u001b[1;33m\u001b[0m\u001b[1;33m\u001b[0m\u001b[0m\n",
      "\u001b[1;32m~\\Anaconda3\\envs\\Bioinformatics\\lib\\site-packages\\matplotlib\\category.py\u001b[0m in \u001b[0;36mupdate\u001b[1;34m(self, data)\u001b[0m\n\u001b[0;32m    226\u001b[0m             \u001b[1;31m# OrderedDict just iterates over unique values in data.\u001b[0m\u001b[1;33m\u001b[0m\u001b[1;33m\u001b[0m\u001b[0m\n\u001b[1;32m--> 227\u001b[1;33m             \u001b[0m_api\u001b[0m\u001b[1;33m.\u001b[0m\u001b[0mcheck_isinstance\u001b[0m\u001b[1;33m(\u001b[0m\u001b[1;33m(\u001b[0m\u001b[0mstr\u001b[0m\u001b[1;33m,\u001b[0m \u001b[0mbytes\u001b[0m\u001b[1;33m)\u001b[0m\u001b[1;33m,\u001b[0m \u001b[0mvalue\u001b[0m\u001b[1;33m=\u001b[0m\u001b[0mval\u001b[0m\u001b[1;33m)\u001b[0m\u001b[1;33m\u001b[0m\u001b[1;33m\u001b[0m\u001b[0m\n\u001b[0m\u001b[0;32m    228\u001b[0m             \u001b[1;32mif\u001b[0m \u001b[0mconvertible\u001b[0m\u001b[1;33m:\u001b[0m\u001b[1;33m\u001b[0m\u001b[1;33m\u001b[0m\u001b[0m\n",
      "\u001b[1;32m~\\Anaconda3\\envs\\Bioinformatics\\lib\\site-packages\\matplotlib\\_api\\__init__.py\u001b[0m in \u001b[0;36mcheck_isinstance\u001b[1;34m(_types, **kwargs)\u001b[0m\n\u001b[0;32m     92\u001b[0m                 \u001b[0mnames\u001b[0m\u001b[1;33m.\u001b[0m\u001b[0mappend\u001b[0m\u001b[1;33m(\u001b[0m\u001b[1;34m\"None\"\u001b[0m\u001b[1;33m)\u001b[0m\u001b[1;33m\u001b[0m\u001b[1;33m\u001b[0m\u001b[0m\n\u001b[1;32m---> 93\u001b[1;33m             raise TypeError(\n\u001b[0m\u001b[0;32m     94\u001b[0m                 \"{!r} must be an instance of {}, not a {}\".format(\n",
      "\u001b[1;31mTypeError\u001b[0m: 'value' must be an instance of str or bytes, not a float",
      "\nThe above exception was the direct cause of the following exception:\n",
      "\u001b[1;31mConversionError\u001b[0m                           Traceback (most recent call last)",
      "\u001b[1;32m~\\AppData\\Local\\Temp/ipykernel_16552/252647356.py\u001b[0m in \u001b[0;36m<module>\u001b[1;34m\u001b[0m\n\u001b[0;32m      1\u001b[0m \u001b[0mtemp_df\u001b[0m \u001b[1;33m=\u001b[0m \u001b[0mphenotypes_df\u001b[0m\u001b[1;33m[\u001b[0m\u001b[0mphenotypes_df\u001b[0m\u001b[1;33m[\u001b[0m\u001b[1;34m'MITE'\u001b[0m\u001b[1;33m]\u001b[0m\u001b[1;33m==\u001b[0m\u001b[1;34m'Y'\u001b[0m\u001b[1;33m]\u001b[0m\u001b[1;33m\u001b[0m\u001b[1;33m\u001b[0m\u001b[0m\n\u001b[0;32m      2\u001b[0m \u001b[0mg\u001b[0m \u001b[1;33m=\u001b[0m \u001b[0msns\u001b[0m\u001b[1;33m.\u001b[0m\u001b[0mFacetGrid\u001b[0m\u001b[1;33m(\u001b[0m\u001b[0mtemp_df\u001b[0m\u001b[1;33m,\u001b[0m \u001b[0mcol\u001b[0m\u001b[1;33m=\u001b[0m\u001b[1;34m\"DRUG\"\u001b[0m\u001b[1;33m,\u001b[0m \u001b[0mcol_wrap\u001b[0m\u001b[1;33m=\u001b[0m\u001b[1;36m3\u001b[0m\u001b[1;33m)\u001b[0m\u001b[1;33m\u001b[0m\u001b[1;33m\u001b[0m\u001b[0m\n\u001b[1;32m----> 3\u001b[1;33m \u001b[0mg\u001b[0m\u001b[1;33m.\u001b[0m\u001b[0mmap\u001b[0m\u001b[1;33m(\u001b[0m\u001b[0msns\u001b[0m\u001b[1;33m.\u001b[0m\u001b[0mhistplot\u001b[0m\u001b[1;33m,\u001b[0m \u001b[1;34m'BINARY_PHENOTYPE'\u001b[0m\u001b[1;33m)\u001b[0m\u001b[1;33m\u001b[0m\u001b[1;33m\u001b[0m\u001b[0m\n\u001b[0m",
      "\u001b[1;32m~\\Anaconda3\\envs\\Bioinformatics\\lib\\site-packages\\seaborn\\axisgrid.py\u001b[0m in \u001b[0;36mmap\u001b[1;34m(self, func, *args, **kwargs)\u001b[0m\n\u001b[0;32m    682\u001b[0m \u001b[1;33m\u001b[0m\u001b[0m\n\u001b[0;32m    683\u001b[0m             \u001b[1;31m# Draw the plot\u001b[0m\u001b[1;33m\u001b[0m\u001b[1;33m\u001b[0m\u001b[0m\n\u001b[1;32m--> 684\u001b[1;33m             \u001b[0mself\u001b[0m\u001b[1;33m.\u001b[0m\u001b[0m_facet_plot\u001b[0m\u001b[1;33m(\u001b[0m\u001b[0mfunc\u001b[0m\u001b[1;33m,\u001b[0m \u001b[0max\u001b[0m\u001b[1;33m,\u001b[0m \u001b[0mplot_args\u001b[0m\u001b[1;33m,\u001b[0m \u001b[0mkwargs\u001b[0m\u001b[1;33m)\u001b[0m\u001b[1;33m\u001b[0m\u001b[1;33m\u001b[0m\u001b[0m\n\u001b[0m\u001b[0;32m    685\u001b[0m \u001b[1;33m\u001b[0m\u001b[0m\n\u001b[0;32m    686\u001b[0m         \u001b[1;31m# Finalize the annotations and layout\u001b[0m\u001b[1;33m\u001b[0m\u001b[1;33m\u001b[0m\u001b[0m\n",
      "\u001b[1;32m~\\Anaconda3\\envs\\Bioinformatics\\lib\\site-packages\\seaborn\\axisgrid.py\u001b[0m in \u001b[0;36m_facet_plot\u001b[1;34m(self, func, ax, plot_args, plot_kwargs)\u001b[0m\n\u001b[0;32m    772\u001b[0m                 \u001b[0mplot_kwargs\u001b[0m\u001b[1;33m[\u001b[0m\u001b[0mkey\u001b[0m\u001b[1;33m]\u001b[0m \u001b[1;33m=\u001b[0m \u001b[0mval\u001b[0m\u001b[1;33m\u001b[0m\u001b[1;33m\u001b[0m\u001b[0m\n\u001b[0;32m    773\u001b[0m             \u001b[0mplot_args\u001b[0m \u001b[1;33m=\u001b[0m \u001b[1;33m[\u001b[0m\u001b[1;33m]\u001b[0m\u001b[1;33m\u001b[0m\u001b[1;33m\u001b[0m\u001b[0m\n\u001b[1;32m--> 774\u001b[1;33m         \u001b[0mfunc\u001b[0m\u001b[1;33m(\u001b[0m\u001b[1;33m*\u001b[0m\u001b[0mplot_args\u001b[0m\u001b[1;33m,\u001b[0m \u001b[1;33m**\u001b[0m\u001b[0mplot_kwargs\u001b[0m\u001b[1;33m)\u001b[0m\u001b[1;33m\u001b[0m\u001b[1;33m\u001b[0m\u001b[0m\n\u001b[0m\u001b[0;32m    775\u001b[0m \u001b[1;33m\u001b[0m\u001b[0m\n\u001b[0;32m    776\u001b[0m         \u001b[1;31m# Sort out the supporting information\u001b[0m\u001b[1;33m\u001b[0m\u001b[1;33m\u001b[0m\u001b[0m\n",
      "\u001b[1;32m~\\Anaconda3\\envs\\Bioinformatics\\lib\\site-packages\\seaborn\\distributions.py\u001b[0m in \u001b[0;36mhistplot\u001b[1;34m(data, x, y, hue, weights, stat, bins, binwidth, binrange, discrete, cumulative, common_bins, common_norm, multiple, element, fill, shrink, kde, kde_kws, line_kws, thresh, pthresh, pmax, cbar, cbar_ax, cbar_kws, palette, hue_order, hue_norm, color, log_scale, legend, ax, **kwargs)\u001b[0m\n\u001b[0;32m   1420\u001b[0m     \u001b[1;32mif\u001b[0m \u001b[0mp\u001b[0m\u001b[1;33m.\u001b[0m\u001b[0munivariate\u001b[0m\u001b[1;33m:\u001b[0m\u001b[1;33m\u001b[0m\u001b[1;33m\u001b[0m\u001b[0m\n\u001b[0;32m   1421\u001b[0m \u001b[1;33m\u001b[0m\u001b[0m\n\u001b[1;32m-> 1422\u001b[1;33m         p.plot_univariate_histogram(\n\u001b[0m\u001b[0;32m   1423\u001b[0m             \u001b[0mmultiple\u001b[0m\u001b[1;33m=\u001b[0m\u001b[0mmultiple\u001b[0m\u001b[1;33m,\u001b[0m\u001b[1;33m\u001b[0m\u001b[1;33m\u001b[0m\u001b[0m\n\u001b[0;32m   1424\u001b[0m             \u001b[0melement\u001b[0m\u001b[1;33m=\u001b[0m\u001b[0melement\u001b[0m\u001b[1;33m,\u001b[0m\u001b[1;33m\u001b[0m\u001b[1;33m\u001b[0m\u001b[0m\n",
      "\u001b[1;32m~\\Anaconda3\\envs\\Bioinformatics\\lib\\site-packages\\seaborn\\distributions.py\u001b[0m in \u001b[0;36mplot_univariate_histogram\u001b[1;34m(self, multiple, element, fill, common_norm, common_bins, shrink, kde, kde_kws, color, legend, line_kws, estimate_kws, **plot_kws)\u001b[0m\n\u001b[0;32m    421\u001b[0m \u001b[1;33m\u001b[0m\u001b[0m\n\u001b[0;32m    422\u001b[0m         \u001b[1;31m# First pass through the data to compute the histograms\u001b[0m\u001b[1;33m\u001b[0m\u001b[1;33m\u001b[0m\u001b[0m\n\u001b[1;32m--> 423\u001b[1;33m         \u001b[1;32mfor\u001b[0m \u001b[0msub_vars\u001b[0m\u001b[1;33m,\u001b[0m \u001b[0msub_data\u001b[0m \u001b[1;32min\u001b[0m \u001b[0mself\u001b[0m\u001b[1;33m.\u001b[0m\u001b[0miter_data\u001b[0m\u001b[1;33m(\u001b[0m\u001b[1;34m\"hue\"\u001b[0m\u001b[1;33m,\u001b[0m \u001b[0mfrom_comp_data\u001b[0m\u001b[1;33m=\u001b[0m\u001b[1;32mTrue\u001b[0m\u001b[1;33m)\u001b[0m\u001b[1;33m:\u001b[0m\u001b[1;33m\u001b[0m\u001b[1;33m\u001b[0m\u001b[0m\n\u001b[0m\u001b[0;32m    424\u001b[0m \u001b[1;33m\u001b[0m\u001b[0m\n\u001b[0;32m    425\u001b[0m             \u001b[1;31m# Prepare the relevant data\u001b[0m\u001b[1;33m\u001b[0m\u001b[1;33m\u001b[0m\u001b[0m\n",
      "\u001b[1;32m~\\Anaconda3\\envs\\Bioinformatics\\lib\\site-packages\\seaborn\\_core.py\u001b[0m in \u001b[0;36miter_data\u001b[1;34m(self, grouping_vars, reverse, from_comp_data)\u001b[0m\n\u001b[0;32m    965\u001b[0m \u001b[1;33m\u001b[0m\u001b[0m\n\u001b[0;32m    966\u001b[0m         \u001b[1;32mif\u001b[0m \u001b[0mfrom_comp_data\u001b[0m\u001b[1;33m:\u001b[0m\u001b[1;33m\u001b[0m\u001b[1;33m\u001b[0m\u001b[0m\n\u001b[1;32m--> 967\u001b[1;33m             \u001b[0mdata\u001b[0m \u001b[1;33m=\u001b[0m \u001b[0mself\u001b[0m\u001b[1;33m.\u001b[0m\u001b[0mcomp_data\u001b[0m\u001b[1;33m\u001b[0m\u001b[1;33m\u001b[0m\u001b[0m\n\u001b[0m\u001b[0;32m    968\u001b[0m         \u001b[1;32melse\u001b[0m\u001b[1;33m:\u001b[0m\u001b[1;33m\u001b[0m\u001b[1;33m\u001b[0m\u001b[0m\n\u001b[0;32m    969\u001b[0m             \u001b[0mdata\u001b[0m \u001b[1;33m=\u001b[0m \u001b[0mself\u001b[0m\u001b[1;33m.\u001b[0m\u001b[0mplot_data\u001b[0m\u001b[1;33m\u001b[0m\u001b[1;33m\u001b[0m\u001b[0m\n",
      "\u001b[1;32m~\\Anaconda3\\envs\\Bioinformatics\\lib\\site-packages\\seaborn\\_core.py\u001b[0m in \u001b[0;36mcomp_data\u001b[1;34m(self)\u001b[0m\n\u001b[0;32m   1034\u001b[0m                 \u001b[0maxis\u001b[0m \u001b[1;33m=\u001b[0m \u001b[0mgetattr\u001b[0m\u001b[1;33m(\u001b[0m\u001b[0max\u001b[0m\u001b[1;33m,\u001b[0m \u001b[1;34mf\"{var}axis\"\u001b[0m\u001b[1;33m)\u001b[0m\u001b[1;33m\u001b[0m\u001b[1;33m\u001b[0m\u001b[0m\n\u001b[0;32m   1035\u001b[0m \u001b[1;33m\u001b[0m\u001b[0m\n\u001b[1;32m-> 1036\u001b[1;33m                 \u001b[0mcomp_var\u001b[0m \u001b[1;33m=\u001b[0m \u001b[0maxis\u001b[0m\u001b[1;33m.\u001b[0m\u001b[0mconvert_units\u001b[0m\u001b[1;33m(\u001b[0m\u001b[0mself\u001b[0m\u001b[1;33m.\u001b[0m\u001b[0mplot_data\u001b[0m\u001b[1;33m[\u001b[0m\u001b[0mvar\u001b[0m\u001b[1;33m]\u001b[0m\u001b[1;33m)\u001b[0m\u001b[1;33m\u001b[0m\u001b[1;33m\u001b[0m\u001b[0m\n\u001b[0m\u001b[0;32m   1037\u001b[0m                 \u001b[1;32mif\u001b[0m \u001b[0maxis\u001b[0m\u001b[1;33m.\u001b[0m\u001b[0mget_scale\u001b[0m\u001b[1;33m(\u001b[0m\u001b[1;33m)\u001b[0m \u001b[1;33m==\u001b[0m \u001b[1;34m\"log\"\u001b[0m\u001b[1;33m:\u001b[0m\u001b[1;33m\u001b[0m\u001b[1;33m\u001b[0m\u001b[0m\n\u001b[0;32m   1038\u001b[0m                     \u001b[0mcomp_var\u001b[0m \u001b[1;33m=\u001b[0m \u001b[0mnp\u001b[0m\u001b[1;33m.\u001b[0m\u001b[0mlog10\u001b[0m\u001b[1;33m(\u001b[0m\u001b[0mcomp_var\u001b[0m\u001b[1;33m)\u001b[0m\u001b[1;33m\u001b[0m\u001b[1;33m\u001b[0m\u001b[0m\n",
      "\u001b[1;32m~\\Anaconda3\\envs\\Bioinformatics\\lib\\site-packages\\matplotlib\\axis.py\u001b[0m in \u001b[0;36mconvert_units\u001b[1;34m(self, x)\u001b[0m\n\u001b[0;32m   1506\u001b[0m             \u001b[0mret\u001b[0m \u001b[1;33m=\u001b[0m \u001b[0mself\u001b[0m\u001b[1;33m.\u001b[0m\u001b[0mconverter\u001b[0m\u001b[1;33m.\u001b[0m\u001b[0mconvert\u001b[0m\u001b[1;33m(\u001b[0m\u001b[0mx\u001b[0m\u001b[1;33m,\u001b[0m \u001b[0mself\u001b[0m\u001b[1;33m.\u001b[0m\u001b[0munits\u001b[0m\u001b[1;33m,\u001b[0m \u001b[0mself\u001b[0m\u001b[1;33m)\u001b[0m\u001b[1;33m\u001b[0m\u001b[1;33m\u001b[0m\u001b[0m\n\u001b[0;32m   1507\u001b[0m         \u001b[1;32mexcept\u001b[0m \u001b[0mException\u001b[0m \u001b[1;32mas\u001b[0m \u001b[0me\u001b[0m\u001b[1;33m:\u001b[0m\u001b[1;33m\u001b[0m\u001b[1;33m\u001b[0m\u001b[0m\n\u001b[1;32m-> 1508\u001b[1;33m             raise munits.ConversionError('Failed to convert value(s) to axis '\n\u001b[0m\u001b[0;32m   1509\u001b[0m                                          f'units: {x!r}') from e\n\u001b[0;32m   1510\u001b[0m         \u001b[1;32mreturn\u001b[0m \u001b[0mret\u001b[0m\u001b[1;33m\u001b[0m\u001b[1;33m\u001b[0m\u001b[0m\n",
      "\u001b[1;31mConversionError\u001b[0m: Failed to convert value(s) to axis units: 317       S\n3432      S\n4938      S\n6366      S\n7745      S\n         ..\n212171    S\n216681    S\n220877    S\n226338    S\n227163    S\nName: x, Length: 116, dtype: object"
     ]
    },
    {
     "data": {
      "image/png": "[encoded data removed]",
      "text/plain": [
       "<Figure size 648x1080 with 14 Axes>"
      ]
     },
     "metadata": {
      "needs_background": "light"
     },
     "output_type": "display_data"
    }
   ],
   "source": [
    "temp_df = phenotypes_df[phenotypes_df['MITE']=='Y']\n",
    "g = sns.FacetGrid(temp_df, col=\"DRUG\", col_wrap=3)\n",
    "g.map(sns.histplot, 'BINARY_PHENOTYPE')"
   ]
  },
  {
   "cell_type": "code",
   "execution_count": 146,
   "id": "9f99dcb9-9afa-4b1b-8d5d-46de87b4a051",
   "metadata": {},
   "outputs": [
    {
     "data": {
      "text/plain": [
       "<seaborn.axisgrid.FacetGrid at 0x1fb33387fa0>"
      ]
     },
     "execution_count": 146,
     "metadata": {},
     "output_type": "execute_result"
    },
    {
     "data": {
      "image/png": "[encoded data removed]",
      "text/plain": [
       "<Figure size 648x1080 with 14 Axes>"
      ]
     },
     "metadata": {
      "needs_background": "light"
     },
     "output_type": "display_data"
    }
   ],
   "source": [
    "temp_df = phenotypes_df[phenotypes_df['MITE']=='N']\n",
    "g = sns.FacetGrid(temp_df, col=\"DRUG\", col_wrap=3)\n",
    "g.map(sns.histplot, 'LOG2MIC')\n",
    "#sns.histplot(data = phenotypes_df[phenotypes_df['MITE']=='N'], x = 'LOG2MIC', hue = 'MITE', stat = 'count')"
   ]
  },
  {
   "cell_type": "code",
   "execution_count": null,
   "id": "f181fb69-de7c-4194-9014-21d4f282c5b2",
   "metadata": {},
   "outputs": [],
   "source": [
    "counter_1 = collections.Counter([x[0] for x in mite_position_variant_dictionary[2352065]])\n",
    "lineage_variant_count_dict = dict(counter_1)\n",
    "temp = []\n",
    "for k, v in lineage_dict.items():\n",
    "    temp.append(v)\n",
    "counter = collections.Counter([x[0] for x in temp])\n",
    "for k, v in dict(counter).items():\n",
    "    if k in lineage_variant_count_dict:\n",
    "        print(k, v, lineage_variant_count_dict[k])\n",
    "    else:\n",
    "        print(k, v, 0)"
   ]
  },
  {
   "cell_type": "code",
   "execution_count": null,
   "id": "4a7f8528-67a5-4562-8b53-e846ef2350c8",
   "metadata": {},
   "outputs": [],
   "source": [
    "for k, v in position_dict.items():\n",
    "    print(unique_id_ref_dict[k], v)\n",
    "    break"
   ]
  },
  {
   "cell_type": "code",
   "execution_count": 54,
   "id": "265e14fa-362f-4dcb-86b6-8ebe24ff7579",
   "metadata": {},
   "outputs": [
    {
     "name": "stdout",
     "output_type": "stream",
     "text": [
      "3423249 c (289, 'cgcgagcagacgcagaatcgcccaaaatccaagattttgaggcgattctg') 44798\n",
      "2352065 c (1154, 'cctcgcctgggctggcgagcagacgcaaaatcccccgcacgcccggcgtg') 23805\n",
      "2352071 c (5425, 'ctgggctggcgagcagacgcaaaatcccccgcacgcccggcgtgtcgggg') 293\n",
      "2352067 t (30845, 'tcgcctgggctggcgagcagacgcaaaatcccccgcacgcccggcgtgtc') 2\n",
      "2352070 c (33313, 'cctgggctggcgagcagacgcaaaatcccccgcacgcccggcgtgtcggg') 2\n",
      "2352069 g (40060, 'gcctgggctggcgagcagacgcaaaatcccccgcacgcccggcgtgtcgg') 3\n",
      "2352066 c (49216, 'ctcgcctgggctggcgagcagacgcaaaatcccccgcacgcccggcgtgt') 2\n"
     ]
    }
   ],
   "source": [
    "for k, v in position_dict.items():\n",
    "    if len(v[0]) == 1 and len(v[1][1]) > 10 and 'cgagcagacg' in v[1][1]:\n",
    "        print(k, v[0], v[1], len(v))"
   ]
  },
  {
   "cell_type": "code",
   "execution_count": 37,
   "id": "5c35c9f2-be50-4e6c-9523-c3645e6b95c0",
   "metadata": {},
   "outputs": [
    {
     "name": "stdout",
     "output_type": "stream",
     "text": [
      "(234430, 'gtgcccgccgccatccgccgagcagacgcagaatcgcccatttggtatcc', (29987, 'g'), 8)\n",
      "(234432, 'gcccgccgccatccgccgagcagacgcagaatcgcccatttggtatccca', (6213, 'gt'), 4)\n",
      "(234440, 'ccatccgccgagcagacgcagaatcgcccatttggtatcccaaatgggcg', (19098, 'cgt'), 2)\n",
      "(234443, 'tccgccgagcagacgcagaatcgcccatttggtatcccaaatgggcgatt', (41628, 't'), 2)\n",
      "(456178, 'gcgcaaccgcgctagcacgggccggcgagcagacgcaaaatcgcacggtt', (65552, 'g'), 2)\n",
      "(456183, 'accgcgctagcacgggccggcgagcagacgcaaaatcgcacggtttgcgg', (31357, 'a'), 2)\n",
      "(456185, 'cgcgctagcacgggccggcgagcagacgcaaaatcgcacggtttgcggtt', (5341, 'c'), 143)\n",
      "(459380, 'cttccacgccgagcagacgaggaatcgcactgcgcggacctcacgcgtgc', (17390, 'c'), 6)\n",
      "(558810, 'ctagtctgccgagcagacgcaaaagcacccttttgcggcgcaaaagtggc', (21568, 'c'), 3)\n",
      "(558812, 'agtctgccgagcagacgcaaaagcacccttttgcggcgcaaaagtggcgc', (6277, 'a'), 45)\n",
      "(663367, 'gttctgacggcggctcccatggcgcgagcagacgcagaatcgcacaaaat', (31073, 'g'), 6)\n",
      "(663368, 'ttctgacggcggctcccatggcgcgagcagacgcagaatcgcacaaaatc', (43279, 't'), 4)\n",
      "(663373, 'acggcggctcccatggcgcgagcagacgcagaatcgcacaaaatcagcga', (71567, 'a'), 2)\n",
      "(663376, 'gcggctcccatggcgcgagcagacgcagaatcgcacaaaatcagcgattt', (7941, 'g'), 6)\n",
      "(663387, 'ggcgcgagcagacgcagaatcgcacaaaatcagcgattttgatgcgattc', (5528, 'g'), 80)\n",
      "(767326, 'cgagcagacgcagaatcgcacgcgaaatgcctgcgcgatgcgattctgcg', (46173, 'c'), 2)\n",
      "(815632, 'ttcgggcgagcagacgcaaaatgcccccgaaatgcccattttcgggggct', (21571, 't'), 3)\n",
      "(1014769, 'acgagcagacgcaaggcaattattctgacgccatccacaa', (19003, 'at'), 8)\n",
      "(1133247, 'cctggtcacctaaggccgccgagcagacgcaaaatcccctcgacacgccg', (6995, 'c'), 3)\n",
      "(1133261, 'gccgccgagcagacgcaaaatcccctcgacacgccggttgcgaggggatt', (17305, 'g'), 2)\n",
      "(1205226, 'tgggttaactaccgcgagcagacgcgaaagcaccccaaaaccgccggttt', (22097, 't'), 5)\n",
      "(1316645, 'acgagcagacggtggtctcatcggccgcgacgatcgccgcgcctgggatc', (29943, 'a'), 5)\n",
      "(1363435, 'tttgccgagcagacgcaaaatcgccctggaacgcacggttcagggcgatt', (33094, 't'), 2)\n",
      "(1488071, 'actgaggccggctggcgagcagacgcagaatcgcctaaacccgcacgggt', (51207, 'a'), 2)\n",
      "(1488078, 'ccggctggcgagcagacgcagaatcgcctaaacccgcacgggtttaggcg', (7514, 'c'), 45)\n",
      "(1488085, 'gcgagcagacgcagaatcgcctaaacccgcacgggtttaggcgattctgc', (61244, 'g'), 2)\n",
      "(1538709, 'tcgatgccgacctcctgctgggcgagcagacgagacttgctcgcgagatc', (53728, 't'), 3)\n",
      "(1568031, 'atctagcgtcgagggcgcgagcagacgcagaatcgcacgcggaaaggctt', (24222, 'a'), 2)\n",
      "(1568035, 'agcgtcgagggcgcgagcagacgcagaatcgcacgcggaaaggcttccgc', (5568, 'a'), 137)\n",
      "(1568046, 'cgcgagcagacgcagaatcgcacgcggaaaggcttccgcgtgcgattctg', (15988, 'c'), 4)\n",
      "(2751575, 'gtttgacgctactccggggtgcgcgagcagacgcaaaagctcccaaatcc', (23968, 'g'), 3)\n",
      "(2751593, 'gtgcgcgagcagacgcaaaagctcccaaatccgaccggatttgggagctt', (44002, 'g'), 2)\n",
      "(2751594, 'tgcgcgagcagacgcaaaagctcccaaatccgaccggatttgggagcttt', (5406, 't'), 2)\n",
      "(2751595, 'gcgcgagcagacgcaaaagctcccaaatccgaccggatttgggagctttt', (35762, 'g'), 4)\n",
      "(2751596, 'cgcgagcagacgcaaaagctcccaaatccgaccggatttgggagcttttg', (18447, 'c'), 4)\n",
      "(2751597, 'gcgagcagacgcaaaagctcccaaatccgaccggatttgggagcttttgc', (30836, 'g'), 4)\n",
      "(2751598, 'cgagcagacgcaaaagctcccaaatccgaccggatttgggagcttttgcg', (56917, 'c'), 3)\n",
      "(2839459, 'acgcgctcaaccagctcgcgagcagacgcagagtcgcatgaaaatccgga', (15515, 'a'), 39)\n",
      "(3507998, 'tcggcgagcagacgtcaaagcccccgaatttcagtgaaatcgggggcttt', (414, 't'), 2)\n",
      "(4088260, 'cgagcagacgtaaagcccccaaaacggaaccgttttgggggctttttgcg', (67917, 'c'), 2)\n",
      "(4246527, 'cgagcagacgcaaaagcaccccaaatcgggcgattttgggggcttttgcg', (13380, 'c'), 2)\n"
     ]
    }
   ],
   "source": [
    "temp = []\n",
    "for k, v in position_dict.items():\n",
    "    if len(v[1][1]) <= 3 and len(v[0]) > 10 and 'cgagcagacg' in v[0]:\n",
    "        temp.append((k, v[0], v[1], len(v)))\n",
    "\n",
    "temp.sort(key=lambda x: x[0])\n",
    "for item in temp:\n",
    "    print(item)"
   ]
  },
  {
   "cell_type": "code",
   "execution_count": 162,
   "id": "3da840ed-b2e2-4442-8ceb-25457cdc3166",
   "metadata": {},
   "outputs": [
    {
     "name": "stdout",
     "output_type": "stream",
     "text": [
      "3423249 c (289, 'cgcgagcagacgcagaatcgcccaaaatccaagattttgaggcgattctg') 44798\n",
      "2352065 c (1154, 'cctcgcctgggctggcgagcagacgcaaaatcccccgcacgcccggcgtg') 23805\n",
      "2352071 c (5425, 'ctgggctggcgagcagacgcaaaatcccccgcacgcccggcgtgtcgggg') 293\n",
      "4088249 gc (15520, 'g') 3\n",
      "2352062 ccgc (16568, 'cgtctg') 4\n",
      "234431 tg (19634, 't') 6\n",
      "3423250 gcg (19988, 'g') 6\n",
      "2352067 t (30845, 'tcgcctgggctggcgagcagacgcaaaatcccccgcacgcccggcgtgtc') 2\n",
      "2352070 c (33313, 'cctgggctggcgagcagacgcaaaatcccccgcacgcccggcgtgtcggg') 2\n",
      "2352063 cgc (33948, 'ctcctcgcctgggctggcgagcagacgcaaaatcccccgcacgcccggcg') 3\n",
      "2352069 g (40060, 'gcctgggctggcgagcagacgcaaaatcccccgcacgcccggcgtgtcgg') 3\n",
      "2352066 c (49216, 'ctcgcctgggctggcgagcagacgcaaaatcccccgcacgcccggcgtgt') 2\n"
     ]
    }
   ],
   "source": [
    "for k, v in position_dict.items():\n",
    "    if len(v[0]) <= 5:\n",
    "        ct = 0\n",
    "        for u in v[1:]:\n",
    "            if len(u[1]) > 10 and 'cgagcagacg' in u[1]:\n",
    "                ct +=1\n",
    "        if ct > 0:\n",
    "            print(k, v[0], v[1], len(v))"
   ]
  },
  {
   "cell_type": "code",
   "execution_count": null,
   "id": "b3204314-c2db-4448-9d97-15caefd13f2d",
   "metadata": {},
   "outputs": [],
   "source": []
  }
 ],
 "metadata": {
  "kernelspec": {
   "display_name": "Python 3 (ipykernel)",
   "language": "python",
   "name": "python3"
  },
  "language_info": {
   "codemirror_mode": {
    "name": "ipython",
    "version": 3
   },
   "file_extension": ".py",
   "mimetype": "text/x-python",
   "name": "python",
   "nbconvert_exporter": "python",
   "pygments_lexer": "ipython3",
   "version": "3.9.7"
  }
 },
 "nbformat": 4,
 "nbformat_minor": 5
}
