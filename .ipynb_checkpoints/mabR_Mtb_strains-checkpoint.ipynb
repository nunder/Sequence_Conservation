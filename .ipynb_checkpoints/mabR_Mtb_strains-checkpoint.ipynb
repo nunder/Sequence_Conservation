{
 "cells": [
  {
   "cell_type": "markdown",
   "id": "b1e30ed4-8a0e-4a6f-96eb-dfe116dfb2de",
   "metadata": {},
   "source": [
    "#### Import packages, set directories and parameters"
   ]
  },
  {
   "cell_type": "code",
   "execution_count": 155,
   "id": "cf9c6377-5080-4c22-94db-feabe17cc47c",
   "metadata": {},
   "outputs": [],
   "source": [
    "import pandas as pd\n",
    "import pickle\n",
    "import seaborn as sns\n",
    "import matplotlib.pyplot as plt\n",
    "import numpy as np\n",
    "import shutil\n",
    "from Bio import Entrez, SeqIO, AlignIO, pairwise2, Align, Seq, motifs\n",
    "from Bio.Seq import Seq\n",
    "from Bio.SeqFeature import SeqFeature, FeatureLocation\n",
    "import math\n",
    "from tqdm import tqdm\n",
    "from Comparative_Analysis import Utilities as util\n",
    "from joblib import Parallel, delayed\n",
    "from Comparative_Analysis import Blast_Functions as blastfn\n",
    "import time\n",
    "import os\n",
    "import copy\n",
    "import collections\n",
    "from scipy.stats import chi2, binom\n",
    "from Comparative_Analysis import Alignment as alignfn\n",
    "from Bio.Align.Applications import MuscleCommandline\n",
    "import subprocess\n",
    "pd.options.mode.chained_assignment = None  # default='warn'"
   ]
  },
  {
   "cell_type": "code",
   "execution_count": 156,
   "id": "79c1ca3d-a68f-4a9d-a5c4-25df7385b3ad",
   "metadata": {},
   "outputs": [],
   "source": [
    "project_dir = 'F:/Project_Data/mabR_Project/MTBC_Strains'\n",
    "seq_dir = 'F:/Datasets/Other_Genomes/MTBC_Strains'\n",
    "motif_loc = 'F:/Project_Data/mabR_Project/Second_MEME_Upstream_Output/meme.txt'\n",
    "full_run = True\n",
    "muscle_exe = 'C:/Users/nicho/Muscle/muscle3.8.31_i86win32.exe'"
   ]
  },
  {
   "cell_type": "code",
   "execution_count": 157,
   "id": "15fee234-3cb3-425f-974f-fcdaeb25bfb7",
   "metadata": {},
   "outputs": [],
   "source": [
    "def reverse_complement(seq_string):\n",
    "    complement_dict = {'A':'T','C':'G','G':'C','T':'A'}    # Note S\n",
    "    temp = []\n",
    "    for char in reversed(seq_string):\n",
    "        if char in complement_dict:\n",
    "            temp.append(complement_dict[char])\n",
    "        else:\n",
    "            temp.append('A')\n",
    "    return ''.join(temp)"
   ]
  },
  {
   "cell_type": "code",
   "execution_count": 182,
   "id": "42e1c6ce-c97a-457a-b47c-10cd35168c69",
   "metadata": {},
   "outputs": [
    {
     "name": "stderr",
     "output_type": "stream",
     "text": [
      "371it [04:11,  1.47it/s]\n"
     ]
    }
   ],
   "source": [
    "tbc_seq_dict = {}\n",
    "tbc_name_dict = {}\n",
    "tbc_species_dirs = util.list_dirs(seq_dir)\n",
    "species_name_dict = {}\n",
    "accession_dict = {}\n",
    "for n, sdir in tqdm(enumerate(tbc_species_dirs)):\n",
    "    fname = util.list_files(seq_dir + '/' + sdir)[0]\n",
    "    fasta_file = util.read_fasta_to_array(seq_dir + '/' + sdir + '/' + fname)\n",
    "    if len(fasta_file[1][0]) <4000000:\n",
    "        print(fname)\n",
    "        continue\n",
    "    species_name_dict['MTB'+str(n)] = fasta_file[0][0]\n",
    "    tbc_seq_dict['MTB'+str(n)] = fasta_file[1][0]\n",
    "    accession_dict['MTB'+str(n)] = fname[:-11]"
   ]
  },
  {
   "cell_type": "code",
   "execution_count": 201,
   "id": "04629dfb-67d1-494d-8ad8-b47d1c7a25ce",
   "metadata": {},
   "outputs": [],
   "source": [
    "species_sname_dict = {}\n",
    "for k, v in species_name_dict.items():\n",
    "    temp = v.replace(',','').split(' ')\n",
    "    temp = [x for x in temp if not(x in ['Mycobacterium', 'tuberculosis', 'complete', 'sequence','chromosome', 'genome', 'chromosome'])]\n",
    "    species_sname_dict[k] = ' '.join(temp)"
   ]
  },
  {
   "cell_type": "code",
   "execution_count": 161,
   "id": "63f58a21-4009-4b7e-b289-7766b64797b1",
   "metadata": {},
   "outputs": [
    {
     "name": "stderr",
     "output_type": "stream",
     "text": [
      "100%|██████████| 371/371 [00:32<00:00, 11.38it/s]\n"
     ]
    }
   ],
   "source": [
    "util.produce_fasta_file([[k,v] for k, v in tbc_seq_dict.items()], project_dir + '/tbc_sequences.faa')"
   ]
  },
  {
   "cell_type": "code",
   "execution_count": 162,
   "id": "53c0fe66-0118-427f-b2e4-d74f419e8f1f",
   "metadata": {},
   "outputs": [],
   "source": [
    "blastfn.run_fimo(motif_loc, project_dir + '/tbc_sequences.faa' , project_dir + '/tbc_FIMO_Hits')"
   ]
  },
  {
   "cell_type": "code",
   "execution_count": 163,
   "id": "82900c08-1aee-455e-8386-e4af5ea42fab",
   "metadata": {},
   "outputs": [],
   "source": [
    "tbc_fimo_hits_df = pd.read_csv(project_dir + '/tbc_FIMO_Hits/fimo.tsv', sep='\\t')"
   ]
  },
  {
   "cell_type": "code",
   "execution_count": 164,
   "id": "78168be6-1adf-4417-a07d-77d6f8d17491",
   "metadata": {},
   "outputs": [
    {
     "name": "stderr",
     "output_type": "stream",
     "text": [
      "100%|██████████| 51014/51014 [00:02<00:00, 18164.30it/s]"
     ]
    },
    {
     "name": "stdout",
     "output_type": "stream",
     "text": [
      "51014\n"
     ]
    },
    {
     "name": "stderr",
     "output_type": "stream",
     "text": [
      "\n"
     ]
    }
   ],
   "source": [
    "temp = []\n",
    "for i, r in tbc_fimo_hits_df.iterrows():\n",
    "    if '#' in r['motif_id'] or not(r['motif_alt_id'] == 'MEME-1') or r['q-value'] > 1e-3:\n",
    "        continue\n",
    "    start = int(r['start'])-100\n",
    "    stop = int(r['stop'])+100\n",
    "    if r['strand'] == 1:\n",
    "        strand = '+'\n",
    "    else:\n",
    "        strand = '-'\n",
    "    temp.append([r['sequence_name']+'@'+str(start)+'_'+str(stop)+'_'+strand, tbc_seq_dict[r['sequence_name']][start:stop]])\n",
    "\n",
    "util.produce_fasta_file(temp, project_dir + '/mtbc_fimo_hits.faa')\n",
    "print(len(temp))"
   ]
  },
  {
   "cell_type": "code",
   "execution_count": 165,
   "id": "00a6cb10-57bf-4fa7-a3c3-9eae9c288914",
   "metadata": {},
   "outputs": [],
   "source": [
    "if 1==1:\n",
    "    blastfn.build_blast_db(project_dir, 'tbc_sequences.faa', 'MTBC', project_dir + '/BLAST/MTBC', 'nucl')\n",
    "    shutil.copy(project_dir + '/mtbc_fimo_hits.faa', project_dir + '/BLAST/MTBC/mtbc_fimo_hits.faa')\n",
    "    blastfn.run_blastn(project_dir + '/BLAST/MTBC', 'mtbc_fimo_hits.faa', 'MTBC', 'motif_mtbc_blast_hits.csv', e_value = 1e-1)"
   ]
  },
  {
   "cell_type": "code",
   "execution_count": 166,
   "id": "0c20803d-3cfa-4d69-8555-412b04321994",
   "metadata": {},
   "outputs": [],
   "source": [
    "blast_results_df = pd.read_csv(project_dir + '/BLAST/MTBC/motif_mtbc_blast_hits.csv', header = None)\n",
    "\n",
    "blast_results_df.columns = ['query_ref', 'target_ref', 'query_length', 'subject_length', 'percent_identical_matches','alignment_length', 'number_mismatches', 'number_of_gap_openings', \n",
    "                         'query_start_alignment', 'query_end_alignment', 'target_start_alignment', 'target_end_alignment', 'e_value', 'bit_score']\n",
    "for i, r in blast_results_df.iterrows():\n",
    "    blast_results_df.at[i, 'query_organism'] = r['query_ref'].split('@')[0]\n",
    "    blast_results_df.at[i, 'target_organism'] = r['target_ref']\n",
    "\n",
    "blast_results_df = blast_results_df.loc[blast_results_df.groupby(['query_ref','target_organism'])['bit_score'].idxmax()]\n",
    "for i, r in blast_results_df.iterrows():\n",
    "    target_ref = r['target_ref'].split('@')[0]\n",
    "    query_ref = r['query_ref'].split('@')[0]\n",
    "    temp = r['query_ref'].split('@')[1].split('_')\n",
    "    query_start = int(temp[0])\n",
    "    query_end = int(temp[1])\n",
    "    target_start_alignment = int(r['target_start_alignment'])\n",
    "    target_end_alignment = int(r['target_end_alignment'])\n",
    "    query_start_alignment = int(r['query_start_alignment'])\n",
    "    query_end_alignment = int(r['query_end_alignment'])\n",
    "    \n",
    "    if target_start_alignment < target_end_alignment:\n",
    "        target_sense = 1\n",
    "        full_target_alignment_start = target_start_alignment - query_start_alignment \n",
    "        full_target_alignment_end = full_target_alignment_start + 221\n",
    "    else:\n",
    "        target_sense = -1\n",
    "        full_target_alignment_end = target_start_alignment + query_start_alignment \n",
    "        full_target_alignment_start = full_target_alignment_end - 221\n",
    "    \n",
    "    \n",
    "    blast_results_df.at[i, 'full_target_alignment_start'] =  full_target_alignment_start\n",
    "    blast_results_df.at[i, 'full_target_alignment_end'] =  full_target_alignment_end\n",
    "    blast_results_df.at[i, 'full_query_sequence'] =  tbc_seq_dict[query_ref][query_start:query_end]\n",
    "    if target_sense == 1:\n",
    "        blast_results_df.at[i, 'full_target_sequence'] =  tbc_seq_dict[target_ref][full_target_alignment_start: full_target_alignment_end]\n",
    "        blast_results_df.at[i, 'full_target_sequence_ref'] = target_ref + '_'+ str(full_target_alignment_start) + '_' + str(full_target_alignment_end)\n",
    "    else:\n",
    "        blast_results_df.at[i, 'full_target_sequence'] =  reverse_complement(tbc_seq_dict[target_ref][full_target_alignment_start: full_target_alignment_end])\n",
    "        blast_results_df.at[i, 'full_target_sequence_ref'] = target_ref + '_'+ str(full_target_alignment_end) + '_' + str(full_target_alignment_start)\n"
   ]
  },
  {
   "cell_type": "code",
   "execution_count": 167,
   "id": "1f16b806-4dd0-459e-be65-dbc20ff9577e",
   "metadata": {},
   "outputs": [],
   "source": [
    "blast_results_df.to_csv(project_dir + '/processed_blast_results.csv')"
   ]
  },
  {
   "cell_type": "code",
   "execution_count": 168,
   "id": "a169991e-3b6f-4cba-9659-b60cbb41e51a",
   "metadata": {},
   "outputs": [
    {
     "name": "stderr",
     "output_type": "stream",
     "text": [
      "100%|██████████| 51014/51014 [8:38:41<00:00,  1.64it/s]  \n"
     ]
    }
   ],
   "source": [
    "query_refs = list(blast_results_df['query_ref'].unique())\n",
    "temp_df = blast_results_df\n",
    "distinct_clusters = []\n",
    "regions_considered = []\n",
    "for query_ref in tqdm(query_refs):\n",
    "#for i, r in temp_df.iterrows():\n",
    "    temp_df_2 = temp_df[temp_df['query_ref'] == query_ref]\n",
    "    temp_df_3 = temp_df_2.head(1)\n",
    "    matched = 0\n",
    "    for j, s in temp_df_3.iterrows():\n",
    "        if matched == 1:\n",
    "            break\n",
    "        for (species, start, stop) in regions_considered:\n",
    "            if matched ==1:\n",
    "                break\n",
    "            if s['target_ref'] == species and s['full_target_alignment_start'] < stop and s['full_target_alignment_end'] > start:\n",
    "                matched = 1\n",
    "                break\n",
    "    if matched == 0:\n",
    "        distinct_clusters.append(query_ref)\n",
    "        for j, s in temp_df_2.iterrows():\n",
    "            regions_considered.append((s['target_ref'], s['full_target_alignment_start'], s['full_target_alignment_end'])) "
   ]
  },
  {
   "cell_type": "code",
   "execution_count": 174,
   "id": "4d22a2f6-7604-4df9-8e87-70ce72ef54d2",
   "metadata": {},
   "outputs": [],
   "source": [
    "with open(project_dir + '/distinct_clusters.pkl', 'wb') as f:\n",
    "    pickle.dump(distinct_clusters, f)    "
   ]
  },
  {
   "cell_type": "code",
   "execution_count": null,
   "id": "c7bf5190-985d-4053-91af-62e11584037f",
   "metadata": {},
   "outputs": [],
   "source": [
    "for ref in distinct_clusters:\n",
    "    region_of_interest = blast_results_df.query('query_ref == @ref')\n",
    "    temp = []\n",
    "    for i, r in region_of_interest.iterrows():\n",
    "        temp.append([species_sname_dict[r['target_ref']],r['full_target_sequence']])\n",
    "        temp.append([r['full_target_sequence_ref'],r['full_target_sequence']])\n",
    "    util.produce_fasta_file(temp, project_dir + '/Regions_of_Interest_SName/' + ref + '.faa')\n",
    "    cline = MuscleCommandline(muscle_exe, input= project_dir + '/Regions_of_Interest/' + ref + '.faa', out = project_dir + '/Regions_of_Interest/' + ref + '_aligned.fasta')\n",
    "    stdout, stderr = cline()"
   ]
  },
  {
   "cell_type": "code",
   "execution_count": 177,
   "id": "3a1fc378-7509-4fb8-9bd0-919eaf6afffb",
   "metadata": {},
   "outputs": [
    {
     "name": "stdout",
     "output_type": "stream",
     "text": [
      "MTB0@1030946_1031167_- MTB13_1224469_1224248\n",
      "MTB0@1050096_1050317_- MTB13_1205397_1205176\n",
      "MTB0@1070497_1070718_- MTB13_1182480_1182259\n",
      "MTB0@1119553_1119774_- MTB13_1133424_1133203\n",
      "MTB0@1188775_1188996_- MTB13_1064212_1063991\n",
      "MTB0@1252056_1252277_- MTB13_1000931_1000710\n",
      "MTB0@1294430_1294651_- MTB13_958617_958396\n",
      "MTB0@1409309_1409530_- MTB13_842462_842241\n",
      "MTB0@1419603_1419824_- MTB13_832449_832228\n",
      "MTB0@1422188_1422409_- MTB13_829866_829645\n",
      "MTB0@1436258_1436479_- MTB13_815796_815575\n",
      "MTB0@1445724_1445945_- MTB13_806331_806110\n",
      "MTB0@1465071_1465292_- MTB13_787091_786870\n",
      "MTB0@1465977_1466198_- MTB13_786185_785964\n",
      "MTB0@1484678_1484899_- MTB13_767484_767263\n",
      "MTB0@1496737_1496958_- MTB13_755425_755204\n",
      "MTB0@1502788_1503009_- MTB13_749374_749153\n",
      "MTB0@1516303_1516524_- MTB13_736392_736171\n",
      "MTB0@1589175_1589396_- MTB13_663549_663328\n",
      "MTB0@1694658_1694879_- MTB13_558977_558756\n",
      "MTB0@1794044_1794265_- MTB13_459547_459326\n",
      "MTB0@1797230_1797451_- MTB13_456361_456140\n",
      "MTB0@1976937_1977158_- MTB13_279694_279473\n",
      "MTB0@2002895_2003116_- MTB13_253763_253542\n",
      "MTB0@2022054_2022275_- MTB13_234604_234383\n",
      "MTB0@2073273_2073494_- MTB13_183391_183170\n",
      "MTB0@2414964_2415185_- MTB13_4254470_4254249\n",
      "MTB0@2416448_2416669_- MTB13_4252974_4252753\n",
      "MTB0@2422737_2422958_- MTB13_4246685_4246464\n",
      "MTB0@2431328_2431549_- MTB13_4238094_4237873\n",
      "MTB0@2580948_2581169_- MTB13_4088418_4088197\n",
      "MTB0@2647951_2648172_- MTB13_4021553_4021332\n",
      "MTB0@2660690_2660911_- MTB13_4008814_4008593\n",
      "MTB0@2759309_2759530_- MTB13_3909918_3909697\n",
      "MTB0@2834970_2835191_- MTB13_3835365_3835144\n",
      "MTB0@2866379_2866600_- MTB13_3804013_3803792\n",
      "MTB0@2871129_2871350_- MTB13_3799338_3799117\n",
      "MTB0@2940665_2940886_- MTB13_3724713_3724492\n",
      "MTB0@2961733_2961954_- MTB13_3707731_3707510\n",
      "MTB0@3041235_3041456_- MTB13_3628246_3628025\n",
      "MTB0@3078687_3078908_- MTB13_3590790_3590569\n",
      "MTB0@3109212_3109433_- MTB13_3560275_3560054\n",
      "MTB0@3160726_3160947_- MTB13_3508160_3507939\n",
      "MTB0@3246402_3246623_- MTB13_3423341_3423120\n",
      "MTB0@3282632_3282853_- MTB13_3387165_3386944\n",
      "MTB0@3299789_3300010_- MTB13_3370009_3369788\n",
      "MTB0@3321203_3321424_- MTB13_3348640_3348419\n",
      "MTB0@3454375_3454596_- MTB13_3215756_3215535\n",
      "MTB0@3517059_3517280_- MTB13_3153129_3152908\n",
      "MTB0@3566414_3566635_- MTB13_3105138_3104917\n",
      "MTB0@3611602_3611823_- MTB13_3059950_3059729\n",
      "MTB0@3728735_3728956_- MTB13_2931796_2931575\n",
      "MTB0@3752629_3752850_- MTB13_2907911_2907690\n",
      "MTB0@3821560_3821781_- MTB13_2839635_2839414\n",
      "MTB0@3908020_3908241_- MTB13_2751756_2751535\n",
      "MTB0@392759_392980_- MTB13_1872729_1872508\n",
      "MTB0@3938995_3939216_- MTB13_2720761_2720540\n",
      "MTB0@3959149_3959370_- MTB13_2700628_2700407\n",
      "MTB0@4109111_4109332_- MTB13_2555025_2554804\n",
      "MTB0@4116184_4116405_- MTB13_2546595_2546374\n",
      "MTB0@4139438_4139659_- MTB13_2523338_2523117\n",
      "MTB0@4140447_4140668_- MTB13_2522332_2522111\n",
      "MTB0@4195655_4195876_- MTB13_2467125_2466904\n",
      "MTB0@4211503_4211724_- MTB13_2451338_2451117\n",
      "MTB0@4223574_4223795_- MTB13_2439267_2439046\n",
      "MTB0@4307880_4308101_- MTB13_2352170_2351949\n",
      "MTB0@4342804_4343025_- MTB13_2317263_2317042\n",
      "MTB0@436721_436942_- MTB13_1828959_1828738\n",
      "MTB0@688536_688757_- MTB13_1568206_1567985\n",
      "MTB0@758065_758286_- MTB13_1497319_1497098\n",
      "MTB0@767140_767361_- MTB13_1488244_1488023\n",
      "MTB0@785629_785850_- MTB13_1469755_1469534\n",
      "MTB0@787113_787334_- MTB13_1468260_1468039\n",
      "MTB0@873426_873647_- MTB13_1381992_1381771\n",
      "MTB0@883552_883773_- MTB13_1371866_1371645\n",
      "MTB0@891822_892043_- MTB13_1363598_1363377\n",
      "MTB0@898196_898417_- MTB13_1357224_1357003\n",
      "MTB0@910075_910296_- MTB13_1345342_1345121\n",
      "MTB0@941925_942146_- MTB13_1313492_1313271\n",
      "MTB17@891346_891567_- MTB13_880952_881173\n",
      "MTB33@999858_1000079_- MTB13_1006557_1006778\n"
     ]
    }
   ],
   "source": [
    "for ref in distinct_clusters:\n",
    "    region_of_interest = blast_results_df.query('query_ref == @ref')\n",
    "    for i, r in region_of_interest.iterrows():\n",
    "        if r['target_ref'] == 'MTB13':\n",
    "             print(ref, r['full_target_sequence_ref'])\n"
   ]
  },
  {
   "cell_type": "code",
   "execution_count": null,
   "id": "c4b8e150-01a8-40f9-844f-4c7050c4a8d9",
   "metadata": {},
   "outputs": [],
   "source": []
  }
 ],
 "metadata": {
  "kernelspec": {
   "display_name": "Python 3 (ipykernel)",
   "language": "python",
   "name": "python3"
  },
  "language_info": {
   "codemirror_mode": {
    "name": "ipython",
    "version": 3
   },
   "file_extension": ".py",
   "mimetype": "text/x-python",
   "name": "python",
   "nbconvert_exporter": "python",
   "pygments_lexer": "ipython3",
   "version": "3.9.7"
  }
 },
 "nbformat": 4,
 "nbformat_minor": 5
}
