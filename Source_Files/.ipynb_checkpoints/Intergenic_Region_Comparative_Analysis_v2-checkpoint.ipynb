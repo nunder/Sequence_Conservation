{
 "cells": [
  {
   "cell_type": "markdown",
   "id": "b1e30ed4-8a0e-4a6f-96eb-dfe116dfb2de",
   "metadata": {},
   "source": [
    "#### Directories etc"
   ]
  },
  {
   "cell_type": "code",
   "execution_count": 2,
   "id": "cf9c6377-5080-4c22-94db-feabe17cc47c",
   "metadata": {},
   "outputs": [],
   "source": [
    "import pandas as pd\n",
    "import pickle\n",
    "import seaborn as sns\n",
    "import matplotlib.pyplot as plt\n",
    "import numpy as np\n",
    "from Bio import Entrez, SeqIO, AlignIO, pairwise2, Align, Seq, motifs\n",
    "from Bio.Seq import Seq\n",
    "from Bio.SeqFeature import SeqFeature, FeatureLocation\n",
    "from scipy.stats import binom\n",
    "import math\n",
    "import random\n",
    "from tqdm import tqdm\n",
    "from Comparative_Analysis import Utilities as util\n",
    "import random\n",
    "from joblib import Parallel, delayed\n",
    "from Comparative_Analysis import Blast_Functions as blastfn\n",
    "import time\n",
    "import os\n",
    "import copy\n",
    "from scipy.stats import chi2\n",
    "from Comparative_Analysis import ORF_Functions as orffn\n",
    "from Comparative_Analysis import Alignment as alignfn\n",
    "from random import sample\n",
    "from Bio.Align.Applications import MuscleCommandline\n",
    "import subprocess\n",
    "pd.options.mode.chained_assignment = None  # default='warn'"
   ]
  },
  {
   "cell_type": "code",
   "execution_count": 3,
   "id": "1988a242-f558-4643-b3a9-27272fa7bebc",
   "metadata": {},
   "outputs": [],
   "source": [
    "project_dir = 'F:/Project_Data/Intergenic_Region_Comparative_Analysis'\n",
    "seq_dir_1 = 'F:/Datasets/NCBI_Refseq_Mycobacteriaceae_All_Levels/ncbi_dataset/data'\n",
    "seq_dir_2 = 'F:/Datasets/NCBI_Refseq_Actinobacteria_All_Levels/data'\n",
    "sequence_dirs_1 = util.list_dirs(seq_dir_1)\n",
    "sequence_dirs_2 = util.list_dirs(seq_dir_2)\n",
    "tb_species = 'NC_000962.3' \n",
    "tb_annotation_dirname = 'GCF_000195955.2'\n",
    "num_cores = 16\n",
    "core_numbers = list(range(1, num_cores+1))\n",
    "muscle_exe = 'C:/Users/nicho/Muscle/muscle3.8.31_i86win32.exe'\n",
    "full_build = False"
   ]
  },
  {
   "cell_type": "markdown",
   "id": "198ce0ae-2b01-482b-83cb-93c720537916",
   "metadata": {},
   "source": [
    "#### Create file with all CDS for species and create BLAST databases for TB CDS and All CDS (to do reciprocal best hits)"
   ]
  },
  {
   "cell_type": "code",
   "execution_count": 3,
   "id": "6068fd3f-1e3d-4bd4-b1ac-ef4c7a190fd4",
   "metadata": {
    "tags": []
   },
   "outputs": [],
   "source": [
    "def generate_protein_dataset(num_subsets, subset_num, dir_list, seqdir): \n",
    "    sequence_dirs = util.chunk_list(dir_list, num_subsets, subset_num)\n",
    "    all_cds = []\n",
    "    all_tb_cds = []\n",
    "    names = []\n",
    "    sequences = []\n",
    "    locations = []\n",
    "    for dirname in (sequence_dirs):\n",
    "        if not(os.path.exists(seqdir + '/' + dirname + '/genomic.gbff')):\n",
    "            continue\n",
    "        for genome_record in SeqIO.parse(seqdir + '/' + dirname + '/genomic.gbff', \"genbank\"):\n",
    "            accession_ver = genome_record.annotations['accessions'][0] + '.' + str(genome_record.annotations['sequence_version'])\n",
    "            names.append([accession_ver, genome_record.annotations['organism']])\n",
    "            full_sequence = str(genome_record.seq)\n",
    "            sequences.append([accession_ver, full_sequence])\n",
    "            for feature in genome_record.features:\n",
    "                a = feature.qualifiers\n",
    "                if feature.type == 'CDS' and a.get(\"translation\") != None:\n",
    "                    locus_tag = a.get(\"locus_tag\")[0]\n",
    "                    accession_locus = accession_ver + '@' + locus_tag\n",
    "                    translation = a.get(\"translation\")[0]\n",
    "                    (start, stop, strand) = (int(feature.location.start), int(feature.location.end), int(feature.location.strand))\n",
    "                    locations.append([accession_locus, (start, stop, strand)])\n",
    "                    all_cds.append([accession_locus, translation])\n",
    "                    if dirname == tb_annotation_dirname:\n",
    "                        all_tb_cds.append([accession_locus, translation])\n",
    "    return (all_cds, all_tb_cds, names, locations, sequences)           "
   ]
  },
  {
   "cell_type": "code",
   "execution_count": 4,
   "id": "542f0742-7686-4b24-808f-787faa247c21",
   "metadata": {
    "tags": []
   },
   "outputs": [],
   "source": [
    "parallel_output = Parallel(n_jobs=-1)(delayed(generate_protein_dataset)(num_cores, core_number, sequence_dirs_1, seq_dir_1) for core_number in core_numbers)\n",
    "names_dict_1 = {}\n",
    "locations_dict_1 = {}\n",
    "sequence_dict_1 = {}\n",
    "all_cds_1 = []\n",
    "all_tb_cds_1 = []\n",
    "for x in parallel_output:\n",
    "    all_cds_1 += x[0]\n",
    "    all_tb_cds_1 += x[1]\n",
    "    for temp in x[2]:\n",
    "        names_dict_1[temp[0]] = temp[1]\n",
    "    for temp in x[3]:\n",
    "        locations_dict_1[temp[0]] = temp[1]\n",
    "    for temp in x[4]:\n",
    "        sequence_dict_1[temp[0]] = temp[1]\n",
    "with open(project_dir + '/names_dict_1.pkl', 'wb') as f:\n",
    "        pickle.dump(names_dict_1, f) "
   ]
  },
  {
   "cell_type": "code",
   "execution_count": 6,
   "id": "f75de3d4-28cf-4873-892c-608a027d57cb",
   "metadata": {
    "tags": []
   },
   "outputs": [],
   "source": [
    "parallel_output = Parallel(n_jobs=-1)(delayed(generate_protein_dataset)(num_cores, core_number, sequence_dirs_2, seq_dir_2) for core_number in core_numbers)\n",
    "names_dict_2 = {}\n",
    "locations_dict_2 = {}\n",
    "sequence_dict_2 = {}\n",
    "all_cds_2 = []\n",
    "all_tb_cds_2 = []\n",
    "for x in parallel_output:\n",
    "    all_cds_2 += x[0]\n",
    "    all_tb_cds_2 += x[1]\n",
    "    for temp in x[2]:\n",
    "        names_dict_2[temp[0]] = temp[1]\n",
    "    for temp in x[3]:\n",
    "        locations_dict_2[temp[0]] = temp[1]\n",
    "    for temp in x[4]:\n",
    "        sequence_dict_2[temp[0]] = temp[1]\n",
    "with open(project_dir + '/names_dict_2.pkl', 'wb') as f:\n",
    "        pickle.dump(names_dict_2, f) "
   ]
  },
  {
   "cell_type": "code",
   "execution_count": 7,
   "id": "def220ad-3ad0-4722-ae93-8893b6e5119d",
   "metadata": {
    "tags": []
   },
   "outputs": [],
   "source": [
    "if full_build == True:\n",
    "    util.produce_fasta_file(all_cds_1, project_dir + '/all_cds.fasta')\n",
    "    util.produce_fasta_file(all_tb_cds_1, project_dir + '/all_tb_cds.fasta')\n",
    "    blastfn.build_blast_db(project_dir, 'all_cds.fasta', 'Mycobacteriaceae_Refseq', 'F:/Datasets/BLAST/Mycobacteriaceae_Refseq')\n",
    "    blastfn.build_blast_db(project_dir, 'all_tb_cds.fasta', 'all_tb_cds', 'F:/Datasets/BLAST/all_tb_cds')"
   ]
  },
  {
   "cell_type": "code",
   "execution_count": 8,
   "id": "942a5e51-4d7b-46c3-a83c-661271f20e9f",
   "metadata": {
    "tags": []
   },
   "outputs": [],
   "source": [
    "if full_build == True:\n",
    "    util.produce_fasta_file(all_cds_2, project_dir + '/all_cds_2.fasta')\n",
    "    util.produce_fasta_file(all_tb_cds_2, project_dir + '/all_tb_cds_2.fasta')\n",
    "    blastfn.build_blast_db(project_dir, 'all_cds_2.fasta', 'Actinobacteria_Refseq', 'F:/Datasets/BLAST/Actinobacteria_Refseq')\n",
    "    blastfn.build_blast_db(project_dir, 'all_tb_cds_2.fasta', 'all_tb_cds_2', 'F:/Datasets/BLAST/all_tb_cds_2')"
   ]
  },
  {
   "cell_type": "code",
   "execution_count": 9,
   "id": "c64c685a-3fe4-44e0-a045-59504f7ce64c",
   "metadata": {
    "tags": []
   },
   "outputs": [],
   "source": [
    "if full_build == True:\n",
    "    blastfn.run_blastp('F:/Datasets/BLAST/Mycobacteriaceae_Refseq', 'all_tb_cds.fasta', 'Mycobacteriaceae_Refseq', 'all_tb_cds_hits.csv', e_value = 1e-10)\n",
    "    blastfn.run_blastp('F:/Datasets/BLAST/all_tb_cds', 'all_cds.fasta', 'all_tb_cds', 'reverse_hits.csv', e_value = 1e-10)\n",
    "    a = blastfn.process_blast_output('F:/Datasets/BLAST/Mycobacteriaceae_Refseq/all_tb_cds_hits.csv', names_dict, top_hit_only = False)\n",
    "    a = a.loc[a.groupby(['query_ref','target_species_name'])['bit_score'].idxmax()]     # Utility top hit method uses accession ver which can differ if multiple sets exist per species in fragmented annotations\n",
    "    b = blastfn.process_blast_output('F:/Datasets/BLAST/all_tb_cds/reverse_hits.csv', names_dict, top_hit_only = False)\n",
    "    b = b.loc[b.groupby(['query_ref','target_species_name'])['bit_score'].idxmax()] \n",
    "    rbh =  blastfn.keep_reciprocal_best_hits(a, b)\n",
    "    rbh.to_csv(project_dir + '/reciprocal_best_hits.csv')\n",
    "else:\n",
    "    rbh = pd.read_csv(project_dir + '/reciprocal_best_hits.csv')"
   ]
  },
  {
   "cell_type": "code",
   "execution_count": 10,
   "id": "9aaf6f56-f9f1-4761-a909-bacf02ac47f4",
   "metadata": {
    "tags": []
   },
   "outputs": [],
   "source": [
    "if full_build == True:\n",
    "    #blastfn.run_blastp('F:/Datasets/BLAST/Actinobacteria_Refseq', 'all_tb_cds_2.fasta', 'Actinobacteria_Refseq', 'all_tb_cds_hits_2.csv', e_value = 1e-10)\n",
    "    #blastfn.run_blastp('F:/Datasets/BLAST/all_tb_cds_2', 'all_cds_2.fasta', 'all_tb_cds_2', 'reverse_hits_2.csv', e_value = 1e-10)\n",
    "    a = blastfn.process_blast_output('F:/Datasets/BLAST/Actinobacteria_Refseq/all_tb_cds_hits_2.csv', names_dict_2, top_hit_only = False)\n",
    "    a = a.loc[a.groupby(['query_ref','target_species_name'])['bit_score'].idxmax()]     # Utility top hit method uses accession ver which can differ if multiple sets exist per species in fragmented annotations\n",
    "    b = blastfn.process_blast_output('F:/Datasets/BLAST/all_tb_cds_2/reverse_hits_2.csv', names_dict_2, top_hit_only = False)\n",
    "    b = b.loc[b.groupby(['query_ref','target_species_name'])['bit_score'].idxmax()] \n",
    "    rbh_2 =  blastfn.keep_reciprocal_best_hits(a, b)\n",
    "    rbh_2.to_csv(project_dir + '/reciprocal_best_hits_2.csv')\n",
    "else:\n",
    "    rbh_2 = pd.read_csv(project_dir + '/reciprocal_best_hits_2.csv')"
   ]
  },
  {
   "cell_type": "markdown",
   "id": "c62ab102-796e-4af7-a58b-3111e917ea21",
   "metadata": {},
   "source": [
    "#### Function to generate FASTA file containing intergenic regions in orthologous species and run Muscle / R-scape"
   ]
  },
  {
   "cell_type": "code",
   "execution_count": 11,
   "id": "b418b601-46a7-4e15-8ed7-08c3722addc8",
   "metadata": {},
   "outputs": [],
   "source": [
    "def generate_alignment(locus, offset, comparison_set):\n",
    "    target_locus = tb_species+ '@' + locus\n",
    "    results_dir = project_dir + '/' + locus\n",
    "\n",
    "    if not os.path.exists(results_dir):\n",
    "        os.makedirs(results_dir)\n",
    "    \n",
    "    if comparison_set == 1:     #1 = Mycobacteria, 2 = Actinobacteria\n",
    "        rbh = pd.read_csv(project_dir + '/reciprocal_best_hits.csv')\n",
    "        locations_dict = locations_dict_1\n",
    "        sequence_dict = sequence_dict_1\n",
    "    else:\n",
    "        rbh = pd.read_csv(project_dir + '/reciprocal_best_hits_2.csv')\n",
    "        locations_dict = locations_dict_2\n",
    "        sequence_dict = sequence_dict_2\n",
    "    \n",
    "    location = locations_dict[target_locus] \n",
    "    rbh = rbh[rbh['query_ref'] == target_locus]\n",
    "    rbh['target_loc'] = rbh['target_ref'].map(locations_dict)\n",
    "    rbh['cds_count'] = rbh.groupby('target_species_name')['query_ref'].transform('size')\n",
    "    rbh['min_pct_id'] = rbh.groupby('target_species_name')['percent_identical_matches'].transform('min')\n",
    "    \n",
    "    rbh = rbh[rbh['cds_count'] == 1]\n",
    "    for i, r in rbh.iterrows():\n",
    "        (start, stop, strand) = r['target_loc']\n",
    "        rbh.at[i,'start'] = start\n",
    "        rbh.at[i,'stop'] =  stop\n",
    "        rbh.at[i,'strand'] = strand\n",
    "    rbh = rbh[rbh['min_pct_id'] >= 60]\n",
    "    if len(rbh) > 10:\n",
    "        intergenic_regions = []\n",
    "        query_regions = []\n",
    "\n",
    "        for i, r in rbh.iterrows():\n",
    "            target_species = r['target_species_name']\n",
    "            target_species_accession = r['target_species']\n",
    "            coords = r['target_loc']\n",
    "            if coords[2] == 1:\n",
    "                intergenic_region = (coords[0] - offset, coords[0] + 3)\n",
    "                intergenic_sequence = sequence_dict[target_species_accession][intergenic_region[0]: intergenic_region[1]]\n",
    "            else:\n",
    "                intergenic_region = (coords[1] - 3, coords[1] + offset)\n",
    "                intergenic_sequence = util.reverse_complement(sequence_dict[target_species_accession][intergenic_region[0]: intergenic_region[1]])\n",
    "\n",
    "            intergenic_regions.append([target_species.replace(\" \", \"_\"), intergenic_sequence])\n",
    "            if target_species_accession == tb_species:\n",
    "                query_regions.append([target_species.replace(\" \", \"_\"), intergenic_sequence])\n",
    "\n",
    "        util.produce_fasta_file(intergenic_regions, results_dir +'/intergenic_regions_'+str(comparison_set)+'.fasta')\n",
    "        util.produce_fasta_file(query_regions, results_dir +'/query_regions_'+str(comparison_set)+'.fasta')\n",
    "\n",
    "        cline = MuscleCommandline(muscle_exe, input= results_dir +'/intergenic_regions_'+str(comparison_set)+'.fasta', out = results_dir + '/upstream_region_'+locus + '_alignment_'+str(comparison_set)+'.fasta')\n",
    "        exception = 0\n",
    "        try:\n",
    "            stdout, stderr = cline()\n",
    "        except Exception as e:\n",
    "            exception == 1\n",
    "        if exception == 0:\n",
    "            temp =util.read_fasta_to_array(results_dir + '/upstream_region_'+locus + '_alignment_'+str(comparison_set)+'.fasta')\n",
    "            for n, name in enumerate(temp[0]):\n",
    "                if name == 'Mycobacterium_tuberculosis_H37Rv':\n",
    "                    tb_loc = n\n",
    "                    break\n",
    "            insertions = []\n",
    "            for n, nt in enumerate(temp[1][n]):\n",
    "                if nt == '-':\n",
    "                    insertions.append(n)\n",
    "\n",
    "            sequences = []\n",
    "            for n, sequence in enumerate(temp[1]):\n",
    "                temp_seq = []\n",
    "                for m, l in enumerate(sequence):\n",
    "                    if not(m in insertions):\n",
    "                        temp_seq.append(l)\n",
    "                sequences.append([temp[0][n] ,''.join(temp_seq)])\n",
    "            util.produce_fasta_file(sequences, results_dir + '/upstream_region_no_insertions'+locus + '_alignment_'+str(comparison_set)+'.fasta')  \n",
    "\n",
    "\n",
    "            blastfn.convert_fasta_to_stockholm(results_dir, 'upstream_region_'+locus + '_alignment_'+str(comparison_set)+'.fasta', 'upstream_region_'+locus + '_alignment_'+str(comparison_set)+'.sto')\n",
    "            blastfn.run_rscape(results_dir, 'upstream_region_'+locus + '_alignment_'+str(comparison_set)+'.sto', 'rscape_output_'+str(comparison_set))\n",
    "\n",
    "            blastfn.convert_fasta_to_stockholm(results_dir, 'upstream_region_no_insertions'+locus + '_alignment_'+str(comparison_set)+'.fasta', 'upstream_region_no_insertions'+locus + '_alignment_'+str(comparison_set)+'.sto')\n",
    "            blastfn.run_rscape(results_dir, 'upstream_region_no_insertions'+locus + '_alignment_'+str(comparison_set)+'.sto', 'rscape_output_no_insertions'+str(comparison_set))\n"
   ]
  },
  {
   "cell_type": "markdown",
   "id": "c46ca5ad-41e6-4030-9de9-02fc85dd7710",
   "metadata": {
    "tags": []
   },
   "source": [
    "#### Subset based on loci of interest, and filter orthologues based on percent identity, synteny"
   ]
  },
  {
   "cell_type": "code",
   "execution_count": 25,
   "id": "fb0b4500-31f1-47b9-b788-b50b38dc187c",
   "metadata": {
    "tags": []
   },
   "outputs": [],
   "source": [
    "tb_loci = []\n",
    "for genome_record in SeqIO.parse(seq_dir_1 + '/' + tb_annotation_dirname + '/genomic.gbff', \"genbank\"):\n",
    "        for feature in genome_record.features:\n",
    "                a = feature.qualifiers\n",
    "                if feature.type == 'CDS':\n",
    "                    tb_loci.append(a.get(\"locus_tag\")[0])"
   ]
  },
  {
   "cell_type": "code",
   "execution_count": 28,
   "id": "931cec82-b53c-4f39-9ad1-0fdcec644cb2",
   "metadata": {
    "tags": []
   },
   "outputs": [
    {
     "name": "stderr",
     "output_type": "stream",
     "text": [
      "0it [00:00, ?it/s]"
     ]
    },
    {
     "name": "stdout",
     "output_type": "stream",
     "text": [
      "Rv3667\n"
     ]
    },
    {
     "name": "stderr",
     "output_type": "stream",
     "text": [
      "\n",
      "100%|██████████| 212/212 [00:00<00:00, 21219.24it/s]\n",
      "\n",
      "100%|██████████| 1/1 [00:00<?, ?it/s]\u001b[A\n",
      "\n",
      "100%|██████████| 211/211 [00:00<00:00, 21184.87it/s]\n",
      "\n",
      "100%|██████████| 463/463 [00:00<00:00, 22047.97it/s]\n",
      "\n",
      "100%|██████████| 1/1 [00:00<?, ?it/s]\u001b[A\n",
      "\n",
      "100%|██████████| 463/463 [00:00<00:00, 23148.37it/s]\n",
      "2it [24:12, 726.20s/it]"
     ]
    },
    {
     "name": "stdout",
     "output_type": "stream",
     "text": [
      "Rv3668c\n"
     ]
    },
    {
     "name": "stderr",
     "output_type": "stream",
     "text": [
      "\n",
      "100%|██████████| 207/207 [00:00<00:00, 41440.55it/s]\n",
      "\n",
      "100%|██████████| 1/1 [00:00<?, ?it/s]\u001b[A\n",
      "\n",
      "100%|██████████| 207/207 [00:00<00:00, 41446.48it/s]\n",
      "\n",
      "100%|██████████| 129/129 [00:00<00:00, 43023.63it/s]\n",
      "\n",
      "100%|██████████| 1/1 [00:00<?, ?it/s]\u001b[A\n",
      "\n",
      "100%|██████████| 129/129 [00:00<00:00, 43006.53it/s]\n",
      "3it [26:54, 490.98s/it]"
     ]
    },
    {
     "name": "stdout",
     "output_type": "stream",
     "text": [
      "Rv3669\n"
     ]
    },
    {
     "name": "stderr",
     "output_type": "stream",
     "text": [
      "\n",
      "100%|██████████| 203/203 [00:00<00:00, 50747.63it/s]\n",
      "\n",
      "100%|██████████| 1/1 [00:00<?, ?it/s]\u001b[A\n",
      "\n",
      "100%|██████████| 202/202 [00:00<00:00, 50491.62it/s]\n",
      "\n",
      "100%|██████████| 139/139 [00:00<00:00, 46344.06it/s]\n",
      "\n",
      "100%|██████████| 1/1 [00:00<?, ?it/s]\u001b[A\n",
      "\n",
      "100%|██████████| 137/137 [00:00<00:00, 68026.48it/s]\n",
      "4it [30:13, 382.37s/it]"
     ]
    },
    {
     "name": "stdout",
     "output_type": "stream",
     "text": [
      "Rv3672c\n"
     ]
    },
    {
     "name": "stderr",
     "output_type": "stream",
     "text": [
      "\n",
      "100%|██████████| 198/198 [00:00<00:00, 65926.19it/s]\n",
      "\n",
      "100%|██████████| 1/1 [00:00<00:00, 1000.07it/s]\n",
      "\n",
      "100%|██████████| 198/198 [00:00<00:00, 197590.34it/s]\n",
      "\n",
      "100%|██████████| 122/122 [00:00<?, ?it/s]A\n",
      "\n",
      "100%|██████████| 1/1 [00:00<?, ?it/s]\u001b[A\n",
      "\n",
      "100%|██████████| 122/122 [00:00<00:00, 122125.32it/s]\n",
      "7it [30:46, 153.82s/it]"
     ]
    },
    {
     "name": "stdout",
     "output_type": "stream",
     "text": [
      "Rv3674c\n"
     ]
    },
    {
     "name": "stderr",
     "output_type": "stream",
     "text": [
      "\n",
      "100%|██████████| 214/214 [00:00<00:00, 141663.68it/s]\n",
      "\n",
      "100%|██████████| 1/1 [00:00<?, ?it/s]\u001b[A\n",
      "\n",
      "100%|██████████| 214/214 [00:00<00:00, 213658.90it/s]\n",
      "\n",
      "100%|██████████| 500/500 [00:00<00:00, 124964.37it/s]\n",
      "\n",
      "100%|██████████| 1/1 [00:00<?, ?it/s]\u001b[A\n",
      "\n",
      "100%|██████████| 500/500 [00:00<00:00, 166665.50it/s]\n",
      "9it [32:07, 112.01s/it]"
     ]
    },
    {
     "name": "stdout",
     "output_type": "stream",
     "text": [
      "Rv3675\n"
     ]
    },
    {
     "name": "stderr",
     "output_type": "stream",
     "text": [
      "\n",
      "100%|██████████| 22/22 [00:00<?, ?it/s][A\n",
      "\n",
      "100%|██████████| 1/1 [00:00<?, ?it/s]\u001b[A\n",
      "\n",
      "100%|██████████| 22/22 [00:00<?, ?it/s][A\n",
      "\n",
      "100%|██████████| 12/12 [00:00<?, ?it/s][A\n",
      "\n",
      "100%|██████████| 1/1 [00:00<00:00, 999.83it/s]\n",
      "\n",
      "100%|██████████| 12/12 [00:00<00:00, 11998.01it/s]\n",
      "10it [32:35, 94.37s/it]"
     ]
    },
    {
     "name": "stdout",
     "output_type": "stream",
     "text": [
      "Rv3676\n"
     ]
    },
    {
     "name": "stderr",
     "output_type": "stream",
     "text": [
      "\n",
      "100%|██████████| 215/215 [00:00<00:00, 107405.35it/s]\n",
      "\n",
      "100%|██████████| 1/1 [00:00<?, ?it/s]\u001b[A\n",
      "\n",
      "100%|██████████| 215/215 [00:00<00:00, 215015.58it/s]\n",
      "\n",
      "100%|██████████| 479/479 [00:00<00:00, 121306.10it/s]\n",
      "\n",
      "100%|██████████| 1/1 [00:00<00:00, 1000.31it/s]\n",
      "\n",
      "100%|██████████| 479/479 [00:00<00:00, 118550.28it/s]\n",
      "11it [34:17, 96.01s/it]"
     ]
    },
    {
     "name": "stdout",
     "output_type": "stream",
     "text": [
      "Rv3678A\n"
     ]
    },
    {
     "name": "stderr",
     "output_type": "stream",
     "text": [
      "\n",
      "100%|██████████| 215/215 [00:00<00:00, 216045.85it/s]\n",
      "\n",
      "100%|██████████| 1/1 [00:00<?, ?it/s]\u001b[A\n",
      "\n",
      "100%|██████████| 215/215 [00:00<00:00, 106883.41it/s]\n",
      "\n",
      "100%|██████████| 500/500 [00:00<00:00, 126387.75it/s]\n",
      "\n",
      "100%|██████████| 1/1 [00:00<?, ?it/s]\u001b[A\n",
      "\n",
      "100%|██████████| 500/500 [00:00<00:00, 126136.89it/s]\n",
      "14it [35:19, 58.74s/it]"
     ]
    },
    {
     "name": "stdout",
     "output_type": "stream",
     "text": [
      "Rv3679\n"
     ]
    },
    {
     "name": "stderr",
     "output_type": "stream",
     "text": [
      "\n",
      "100%|██████████| 213/213 [00:00<00:00, 206515.66it/s]\n",
      "\n",
      "100%|██████████| 1/1 [00:00<?, ?it/s]\u001b[A\n",
      "\n",
      "100%|██████████| 213/213 [00:00<00:00, 104428.61it/s]\n",
      "\n",
      "100%|██████████| 268/268 [00:00<00:00, 135839.69it/s]\n",
      "\n",
      "100%|██████████| 1/1 [00:00<?, ?it/s]\u001b[A\n",
      "\n",
      "100%|██████████| 268/268 [00:00<00:00, 278304.90it/s]\n",
      "15it [35:55, 54.45s/it]"
     ]
    },
    {
     "name": "stdout",
     "output_type": "stream",
     "text": [
      "Rv3681c\n"
     ]
    },
    {
     "name": "stderr",
     "output_type": "stream",
     "text": [
      "\n",
      "100%|██████████| 212/212 [00:00<00:00, 42475.99it/s]\n",
      "\n",
      "100%|██████████| 1/1 [00:00<?, ?it/s]\u001b[A\n",
      "\n",
      "100%|██████████| 212/212 [00:00<00:00, 52376.30it/s]\n",
      "\n",
      "100%|██████████| 433/433 [00:00<00:00, 43286.62it/s]\n",
      "\n",
      "100%|██████████| 1/1 [00:00<?, ?it/s]\u001b[A\n",
      "\n",
      "100%|██████████| 433/433 [00:00<00:00, 43292.82it/s]\n",
      "17it [42:16, 102.42s/it]"
     ]
    },
    {
     "name": "stdout",
     "output_type": "stream",
     "text": [
      "Rv3682\n"
     ]
    },
    {
     "name": "stderr",
     "output_type": "stream",
     "text": [
      "\n",
      "100%|██████████| 207/207 [00:00<00:00, 29451.18it/s]\n",
      "\n",
      "100%|██████████| 1/1 [00:00<?, ?it/s]\u001b[A\n",
      "\n",
      "100%|██████████| 207/207 [00:00<00:00, 41603.38it/s]\n",
      "\n",
      "100%|██████████| 185/185 [00:00<00:00, 30838.02it/s]\n",
      "\n",
      "100%|██████████| 1/1 [00:00<?, ?it/s]\u001b[A\n",
      "\n",
      "100%|██████████| 185/185 [00:00<00:00, 46223.04it/s]\n",
      "18it [45:05, 115.91s/it]"
     ]
    },
    {
     "name": "stdout",
     "output_type": "stream",
     "text": [
      "Rv3683\n"
     ]
    },
    {
     "name": "stderr",
     "output_type": "stream",
     "text": [
      "\n",
      "100%|██████████| 212/212 [00:00<00:00, 208095.59it/s]\n",
      "\n",
      "100%|██████████| 1/1 [00:00<00:00, 1000.31it/s]\n",
      "\n",
      "100%|██████████| 212/212 [00:00<00:00, 211259.79it/s]\n",
      "\n",
      "100%|██████████| 368/368 [00:00<00:00, 122685.31it/s]\n",
      "\n",
      "100%|██████████| 1/1 [00:00<?, ?it/s]\u001b[A\n",
      "\n",
      "100%|██████████| 368/368 [00:00<00:00, 183947.55it/s]\n",
      "19it [45:59, 102.03s/it]"
     ]
    },
    {
     "name": "stdout",
     "output_type": "stream",
     "text": [
      "Rv3684\n"
     ]
    },
    {
     "name": "stderr",
     "output_type": "stream",
     "text": [
      "\n",
      "100%|██████████| 192/192 [00:00<00:00, 192289.01it/s]\n",
      "\n",
      "100%|██████████| 1/1 [00:00<?, ?it/s]\u001b[A\n",
      "\n",
      "100%|██████████| 192/192 [00:00<00:00, 192289.01it/s]\n",
      "\n",
      "100%|██████████| 500/500 [00:00<00:00, 167143.70it/s]\n",
      "\n",
      "100%|██████████| 1/1 [00:00<?, ?it/s]\u001b[A\n",
      "\n",
      "100%|██████████| 500/500 [00:00<00:00, 166824.60it/s]\n",
      "20it [46:41, 87.48s/it] "
     ]
    },
    {
     "name": "stdout",
     "output_type": "stream",
     "text": [
      "Rv3686c\n"
     ]
    },
    {
     "name": "stderr",
     "output_type": "stream",
     "text": [
      "22it [46:53, 54.13s/it]"
     ]
    },
    {
     "name": "stdout",
     "output_type": "stream",
     "text": [
      "Rv3687c\n"
     ]
    },
    {
     "name": "stderr",
     "output_type": "stream",
     "text": [
      "\n",
      "100%|██████████| 72/72 [00:00<00:00, 74991.28it/s]\n",
      "\n",
      "100%|██████████| 1/1 [00:00<?, ?it/s]\u001b[A\n",
      "\n",
      "100%|██████████| 72/72 [00:00<00:00, 72091.16it/s]\n",
      "\n",
      "100%|██████████| 42/42 [00:00<?, ?it/s][A\n",
      "\n",
      "100%|██████████| 1/1 [00:00<00:00, 997.46it/s]\n",
      "\n",
      "100%|██████████| 42/42 [00:00<00:00, 41993.03it/s]\n",
      "23it [47:32, 50.63s/it]"
     ]
    },
    {
     "name": "stdout",
     "output_type": "stream",
     "text": [
      "Rv3691\n"
     ]
    },
    {
     "name": "stderr",
     "output_type": "stream",
     "text": [
      "\n",
      "100%|██████████| 123/123 [00:00<00:00, 123008.92it/s]\n",
      "\n",
      "100%|██████████| 1/1 [00:00<?, ?it/s]\u001b[A\n",
      "\n",
      "100%|██████████| 123/123 [00:00<00:00, 123155.74it/s]\n",
      "\n",
      "100%|██████████| 72/72 [00:00<?, ?it/s][A\n",
      "\n",
      "100%|██████████| 1/1 [00:00<?, ?it/s]\u001b[A\n",
      "\n",
      "100%|██████████| 72/72 [00:00<?, ?it/s][A\n",
      "27it [48:02, 26.43s/it]"
     ]
    },
    {
     "name": "stdout",
     "output_type": "stream",
     "text": [
      "Rv3693\n"
     ]
    },
    {
     "name": "stderr",
     "output_type": "stream",
     "text": [
      "\n",
      "100%|██████████| 202/202 [00:00<00:00, 100947.15it/s]\n",
      "\n",
      "100%|██████████| 1/1 [00:00<?, ?it/s]\u001b[A\n",
      "\n",
      "100%|██████████| 202/202 [00:00<00:00, 101007.32it/s]\n",
      "\n",
      "100%|██████████| 215/215 [00:00<00:00, 107392.56it/s]\n",
      "\n",
      "100%|██████████| 1/1 [00:00<?, ?it/s]\u001b[A\n",
      "\n",
      "100%|██████████| 215/215 [00:00<00:00, 214964.33it/s]\n",
      "29it [48:28, 22.47s/it]"
     ]
    },
    {
     "name": "stdout",
     "output_type": "stream",
     "text": [
      "Rv3694c\n"
     ]
    },
    {
     "name": "stderr",
     "output_type": "stream",
     "text": [
      "\n",
      "100%|██████████| 201/201 [00:00<00:00, 200727.41it/s]\n",
      "\n",
      "100%|██████████| 1/1 [00:00<?, ?it/s]\u001b[A\n",
      "\n",
      "100%|██████████| 201/201 [00:00<00:00, 201158.46it/s]\n",
      "\n",
      "100%|██████████| 172/172 [00:00<00:00, 171766.74it/s]\n",
      "\n",
      "100%|██████████| 1/1 [00:00<?, ?it/s]\u001b[A\n",
      "\n",
      "100%|██████████| 172/172 [00:00<00:00, 172012.47it/s]\n",
      "30it [49:03, 24.62s/it]"
     ]
    },
    {
     "name": "stdout",
     "output_type": "stream",
     "text": [
      "Rv3695\n"
     ]
    },
    {
     "name": "stderr",
     "output_type": "stream",
     "text": [
      "\n",
      "100%|██████████| 193/193 [00:00<00:00, 193244.37it/s]\n",
      "\n",
      "100%|██████████| 1/1 [00:00<?, ?it/s]\u001b[A\n",
      "\n",
      "100%|██████████| 193/193 [00:00<?, ?it/s]A\n",
      "\n",
      "100%|██████████| 119/119 [00:00<?, ?it/s]A\n",
      "\n",
      "100%|██████████| 1/1 [00:00<?, ?it/s]\u001b[A\n",
      "\n",
      "100%|██████████| 119/119 [00:00<00:00, 118980.26it/s]\n",
      "31it [49:34, 25.97s/it]"
     ]
    },
    {
     "name": "stdout",
     "output_type": "stream",
     "text": [
      "Rv3696c\n"
     ]
    },
    {
     "name": "stderr",
     "output_type": "stream",
     "text": [
      "\n",
      "100%|██████████| 212/212 [00:00<00:00, 212116.52it/s]\n",
      "\n",
      "100%|██████████| 1/1 [00:00<00:00, 1000.79it/s]\n",
      "\n",
      "100%|██████████| 212/212 [00:00<00:00, 211964.83it/s]\n",
      "\n",
      "100%|██████████| 472/472 [00:00<00:00, 235764.14it/s]\n",
      "\n",
      "100%|██████████| 1/1 [00:00<?, ?it/s]\u001b[A\n",
      "\n",
      "100%|██████████| 472/472 [00:00<00:00, 236157.88it/s]\n",
      "32it [50:07, 27.49s/it]"
     ]
    },
    {
     "name": "stdout",
     "output_type": "stream",
     "text": [
      "Rv3700c\n"
     ]
    },
    {
     "name": "stderr",
     "output_type": "stream",
     "text": [
      "\n",
      "100%|██████████| 180/180 [00:00<00:00, 184635.54it/s]\n",
      "\n",
      "100%|██████████| 1/1 [00:00<?, ?it/s]\u001b[A\n",
      "\n",
      "100%|██████████| 180/180 [00:00<00:00, 179713.10it/s]\n",
      "\n",
      "100%|██████████| 110/110 [00:00<00:00, 110007.97it/s]\n",
      "\n",
      "100%|██████████| 1/1 [00:00<?, ?it/s]\u001b[A\n",
      "\n",
      "100%|██████████| 110/110 [00:00<?, ?it/s]A\n",
      "37it [50:23, 12.71s/it]"
     ]
    },
    {
     "name": "stdout",
     "output_type": "stream",
     "text": [
      "Rv3704c\n"
     ]
    },
    {
     "name": "stderr",
     "output_type": "stream",
     "text": [
      "\n",
      "100%|██████████| 195/195 [00:00<00:00, 194735.54it/s]\n",
      "\n",
      "100%|██████████| 1/1 [00:00<?, ?it/s]\u001b[A\n",
      "\n",
      "100%|██████████| 195/195 [00:00<00:00, 97483.82it/s]\n",
      "\n",
      "100%|██████████| 119/119 [00:00<00:00, 118866.91it/s]\n",
      "\n",
      "100%|██████████| 1/1 [00:00<?, ?it/s]\u001b[A\n",
      "\n",
      "100%|██████████| 119/119 [00:00<00:00, 118866.91it/s]\n",
      "41it [51:10, 12.33s/it]"
     ]
    },
    {
     "name": "stdout",
     "output_type": "stream",
     "text": [
      "Rv3705c\n"
     ]
    },
    {
     "name": "stderr",
     "output_type": "stream",
     "text": [
      "\n",
      "100%|██████████| 204/204 [00:00<00:00, 102779.34it/s]\n",
      "\n",
      "100%|██████████| 1/1 [00:00<?, ?it/s]\u001b[A\n",
      "\n",
      "100%|██████████| 203/203 [00:00<00:00, 101483.16it/s]\n",
      "\n",
      "100%|██████████| 129/129 [00:00<00:00, 128763.74it/s]\n",
      "\n",
      "100%|██████████| 1/1 [00:00<?, ?it/s]\u001b[A\n",
      "\n",
      "100%|██████████| 129/129 [00:00<?, ?it/s]A\n",
      "42it [51:51, 15.90s/it]"
     ]
    },
    {
     "name": "stdout",
     "output_type": "stream",
     "text": [
      "Rv3705A\n"
     ]
    },
    {
     "name": "stderr",
     "output_type": "stream",
     "text": [
      "\n",
      "100%|██████████| 11/11 [00:00<?, ?it/s][A\n",
      "\n",
      "100%|██████████| 1/1 [00:00<?, ?it/s]\u001b[A\n",
      "\n",
      "100%|██████████| 11/11 [00:00<?, ?it/s][A\n",
      "43it [52:10, 16.39s/it]"
     ]
    },
    {
     "name": "stdout",
     "output_type": "stream",
     "text": [
      "Rv3706c\n"
     ]
    },
    {
     "name": "stderr",
     "output_type": "stream",
     "text": [
      "\n",
      "100%|██████████| 17/17 [00:00<?, ?it/s][A\n",
      "\n",
      "100%|██████████| 1/1 [00:00<?, ?it/s]\u001b[A\n",
      "\n",
      "100%|██████████| 17/17 [00:00<?, ?it/s][A\n",
      "44it [52:30, 17.07s/it]"
     ]
    },
    {
     "name": "stdout",
     "output_type": "stream",
     "text": [
      "Rv3707c\n"
     ]
    },
    {
     "name": "stderr",
     "output_type": "stream",
     "text": [
      "\n",
      "100%|██████████| 203/203 [00:00<00:00, 101519.46it/s]\n",
      "\n",
      "100%|██████████| 1/1 [00:00<?, ?it/s]\u001b[A\n",
      "\n",
      "100%|██████████| 203/203 [00:00<00:00, 102140.56it/s]\n",
      "\n",
      "100%|██████████| 128/128 [00:00<00:00, 128284.57it/s]\n",
      "\n",
      "100%|██████████| 1/1 [00:00<?, ?it/s]\u001b[A\n",
      "\n",
      "100%|██████████| 128/128 [00:00<00:00, 128039.81it/s]\n",
      "45it [53:15, 22.85s/it]"
     ]
    },
    {
     "name": "stdout",
     "output_type": "stream",
     "text": [
      "Rv3709c\n"
     ]
    },
    {
     "name": "stderr",
     "output_type": "stream",
     "text": [
      "\n",
      "100%|██████████| 210/210 [00:00<00:00, 69932.82it/s]\n",
      "\n",
      "100%|██████████| 1/1 [00:00<?, ?it/s]\u001b[A\n",
      "\n",
      "100%|██████████| 210/210 [00:00<00:00, 69711.42it/s]\n",
      "\n",
      "100%|██████████| 493/493 [00:00<00:00, 70498.51it/s]\n",
      "\n",
      "100%|██████████| 1/1 [00:00<?, ?it/s]\u001b[A\n",
      "\n",
      "100%|██████████| 493/493 [00:00<00:00, 61627.63it/s]\n",
      "47it [56:57, 55.44s/it]"
     ]
    },
    {
     "name": "stdout",
     "output_type": "stream",
     "text": [
      "Rv3710\n"
     ]
    },
    {
     "name": "stderr",
     "output_type": "stream",
     "text": [
      "\n",
      "100%|██████████| 213/213 [00:00<00:00, 53269.74it/s]\n",
      "\n",
      "100%|██████████| 1/1 [00:00<?, ?it/s]\u001b[A\n",
      "\n",
      "100%|██████████| 213/213 [00:00<00:00, 70988.22it/s]\n",
      "\n",
      "100%|██████████| 495/495 [00:00<00:00, 55041.90it/s]\n",
      "\n",
      "100%|██████████| 1/1 [00:00<?, ?it/s]\u001b[A\n",
      "\n",
      "100%|██████████| 495/495 [00:00<00:00, 54828.23it/s]\n",
      "48it [1:02:26, 112.64s/it]"
     ]
    },
    {
     "name": "stdout",
     "output_type": "stream",
     "text": [
      "Rv3711c\n"
     ]
    },
    {
     "name": "stderr",
     "output_type": "stream",
     "text": [
      "\n",
      "100%|██████████| 206/206 [00:00<00:00, 68638.91it/s]\n",
      "\n",
      "100%|██████████| 1/1 [00:00<?, ?it/s]\u001b[A\n",
      "\n",
      "100%|██████████| 205/205 [00:00<00:00, 102385.37it/s]\n",
      "\n",
      "100%|██████████| 129/129 [00:00<00:00, 64496.99it/s]\n",
      "\n",
      "100%|██████████| 1/1 [00:00<?, ?it/s]\u001b[A\n",
      "\n",
      "100%|██████████| 128/128 [00:00<00:00, 64126.96it/s]\n",
      "49it [1:04:11, 110.70s/it]"
     ]
    },
    {
     "name": "stdout",
     "output_type": "stream",
     "text": [
      "Rv3712\n"
     ]
    },
    {
     "name": "stderr",
     "output_type": "stream",
     "text": [
      "\n",
      "100%|██████████| 214/214 [00:00<00:00, 71332.83it/s]\n",
      "\n",
      "100%|██████████| 1/1 [00:00<?, ?it/s]\u001b[A\n",
      "\n",
      "100%|██████████| 213/213 [00:00<00:00, 53314.24it/s]\n",
      "\n",
      "100%|██████████| 255/255 [00:00<00:00, 63766.02it/s]\n",
      "\n",
      "100%|██████████| 1/1 [00:00<?, ?it/s]\u001b[A\n",
      "\n",
      "100%|██████████| 254/254 [00:00<00:00, 50789.15it/s]\n",
      "50it [1:05:52, 108.35s/it]"
     ]
    },
    {
     "name": "stdout",
     "output_type": "stream",
     "text": [
      "Rv3714c\n"
     ]
    },
    {
     "name": "stderr",
     "output_type": "stream",
     "text": [
      "\n",
      "100%|██████████| 93/93 [00:00<00:00, 92719.34it/s]\n",
      "\n",
      "100%|██████████| 1/1 [00:00<?, ?it/s]\u001b[A\n",
      "\n",
      "100%|██████████| 93/93 [00:00<00:00, 94356.62it/s]\n",
      "\n",
      "100%|██████████| 52/52 [00:00<00:00, 51954.22it/s]\n",
      "\n",
      "100%|██████████| 1/1 [00:00<?, ?it/s]\u001b[A\n",
      "\n",
      "100%|██████████| 52/52 [00:00<?, ?it/s][A\n",
      "52it [1:06:14, 68.04s/it] "
     ]
    },
    {
     "name": "stdout",
     "output_type": "stream",
     "text": [
      "Rv3716c\n"
     ]
    },
    {
     "name": "stderr",
     "output_type": "stream",
     "text": [
      "\n",
      "100%|██████████| 206/206 [00:00<00:00, 103032.03it/s]\n",
      "\n",
      "100%|██████████| 1/1 [00:00<?, ?it/s]\u001b[A\n",
      "\n",
      "100%|██████████| 206/206 [00:00<00:00, 102995.19it/s]\n",
      "\n",
      "100%|██████████| 129/129 [00:00<00:00, 129317.69it/s]\n",
      "\n",
      "100%|██████████| 1/1 [00:00<?, ?it/s]\u001b[A\n",
      "\n",
      "100%|██████████| 129/129 [00:00<00:00, 128886.43it/s]\n",
      "54it [1:06:47, 48.95s/it]"
     ]
    },
    {
     "name": "stdout",
     "output_type": "stream",
     "text": [
      "Rv3717\n"
     ]
    },
    {
     "name": "stderr",
     "output_type": "stream",
     "text": [
      "\n",
      "100%|██████████| 210/210 [00:00<00:00, 70138.86it/s]\n",
      "\n",
      "100%|██████████| 1/1 [00:00<?, ?it/s]\u001b[A\n",
      "\n",
      "100%|██████████| 210/210 [00:00<00:00, 104957.56it/s]\n",
      "\n",
      "100%|██████████| 134/134 [00:00<00:00, 133818.27it/s]\n",
      "\n",
      "100%|██████████| 1/1 [00:00<?, ?it/s]\u001b[A\n",
      "\n",
      "100%|██████████| 134/134 [00:00<00:00, 131194.38it/s]\n",
      "55it [1:07:22, 46.05s/it]"
     ]
    },
    {
     "name": "stdout",
     "output_type": "stream",
     "text": [
      "Rv3718c\n"
     ]
    },
    {
     "name": "stderr",
     "output_type": "stream",
     "text": [
      "\n",
      "100%|██████████| 196/196 [00:00<?, ?it/s]A\n",
      "\n",
      "100%|██████████| 1/1 [00:00<?, ?it/s]\u001b[A\n",
      "\n",
      "100%|██████████| 196/196 [00:00<00:00, 195315.65it/s]\n",
      "\n",
      "100%|██████████| 182/182 [00:00<?, ?it/s]A\n",
      "\n",
      "100%|██████████| 1/1 [00:00<?, ?it/s]\u001b[A\n",
      "\n",
      "100%|██████████| 182/182 [00:00<00:00, 179530.42it/s]\n",
      "56it [1:07:48, 41.41s/it]"
     ]
    },
    {
     "name": "stdout",
     "output_type": "stream",
     "text": [
      "Rv3719\n"
     ]
    },
    {
     "name": "stderr",
     "output_type": "stream",
     "text": [
      "\n",
      "100%|██████████| 207/207 [00:00<00:00, 207064.38it/s]\n",
      "\n",
      "100%|██████████| 1/1 [00:00<?, ?it/s]\u001b[A\n",
      "\n",
      "100%|██████████| 207/207 [00:00<00:00, 207658.68it/s]\n",
      "\n",
      "100%|██████████| 270/270 [00:00<00:00, 269955.20it/s]\n",
      "\n",
      "100%|██████████| 1/1 [00:00<?, ?it/s]\u001b[A\n",
      "\n",
      "100%|██████████| 270/270 [00:00<00:00, 270083.97it/s]\n",
      "57it [1:08:17, 38.32s/it]"
     ]
    },
    {
     "name": "stdout",
     "output_type": "stream",
     "text": [
      "Rv3721c\n"
     ]
    },
    {
     "name": "stderr",
     "output_type": "stream",
     "text": [
      "\n",
      "100%|██████████| 203/203 [00:00<00:00, 101446.89it/s]\n",
      "\n",
      "100%|██████████| 1/1 [00:00<?, ?it/s]\u001b[A\n",
      "\n",
      "100%|██████████| 202/202 [00:00<00:00, 133677.72it/s]\n",
      "\n",
      "100%|██████████| 425/425 [00:00<00:00, 106232.37it/s]\n",
      "\n",
      "100%|██████████| 1/1 [00:00<?, ?it/s]\u001b[A\n",
      "\n",
      "100%|██████████| 424/424 [00:00<00:00, 141287.43it/s]\n",
      "59it [1:09:44, 40.55s/it]"
     ]
    },
    {
     "name": "stdout",
     "output_type": "stream",
     "text": [
      "Rv3722c\n"
     ]
    },
    {
     "name": "stderr",
     "output_type": "stream",
     "text": [
      "\n",
      "100%|██████████| 215/215 [00:00<00:00, 43015.42it/s]\n",
      "\n",
      "100%|██████████| 1/1 [00:00<?, ?it/s]\u001b[A\n",
      "\n",
      "100%|██████████| 215/215 [00:00<00:00, 42984.67it/s]\n",
      "\n",
      "100%|██████████| 228/228 [00:00<00:00, 35035.77it/s]\n",
      "\n",
      "100%|██████████| 1/1 [00:00<?, ?it/s]\u001b[A\n",
      "\n",
      "100%|██████████| 228/228 [00:00<00:00, 45585.91it/s]\n",
      "60it [1:13:43, 85.76s/it]"
     ]
    },
    {
     "name": "stdout",
     "output_type": "stream",
     "text": [
      "Rv3723\n"
     ]
    },
    {
     "name": "stderr",
     "output_type": "stream",
     "text": [
      "\n",
      "100%|██████████| 103/103 [00:00<00:00, 51369.00it/s]\n",
      "\n",
      "100%|██████████| 1/1 [00:00<?, ?it/s]\u001b[A\n",
      "\n",
      "100%|██████████| 102/102 [00:00<00:00, 50979.39it/s]\n",
      "\n",
      "100%|██████████| 64/64 [00:00<00:00, 31937.59it/s]\n",
      "\n",
      "100%|██████████| 1/1 [00:00<?, ?it/s]\u001b[A\n",
      "\n",
      "100%|██████████| 63/63 [00:00<00:00, 32114.87it/s]\n",
      "61it [1:16:00, 98.49s/it]"
     ]
    },
    {
     "name": "stdout",
     "output_type": "stream",
     "text": [
      "Rv3725\n"
     ]
    },
    {
     "name": "stderr",
     "output_type": "stream",
     "text": [
      "\n",
      "100%|██████████| 151/151 [00:00<00:00, 16772.33it/s]\n",
      "\n",
      "100%|██████████| 1/1 [00:00<?, ?it/s]\u001b[A\n",
      "\n",
      "100%|██████████| 151/151 [00:00<00:00, 18876.37it/s]\n",
      "\n",
      "100%|██████████| 103/103 [00:00<00:00, 14707.34it/s]\n",
      "\n",
      "100%|██████████| 1/1 [00:00<?, ?it/s]\u001b[A\n",
      "\n",
      "100%|██████████| 103/103 [00:00<00:00, 14714.85it/s]\n",
      "62it [1:33:00, 338.03s/it]"
     ]
    },
    {
     "name": "stdout",
     "output_type": "stream",
     "text": [
      "Rv3726\n"
     ]
    },
    {
     "name": "stderr",
     "output_type": "stream",
     "text": [
      "\n",
      "100%|██████████| 85/85 [00:00<00:00, 85824.71it/s]\n",
      "\n",
      "100%|██████████| 1/1 [00:00<?, ?it/s]\u001b[A\n",
      "\n",
      "100%|██████████| 85/85 [00:00<00:00, 42427.21it/s]\n",
      "\n",
      "100%|██████████| 88/88 [00:00<00:00, 87943.47it/s]\n",
      "\n",
      "100%|██████████| 1/1 [00:00<?, ?it/s]\u001b[A\n",
      "\n",
      "100%|██████████| 88/88 [00:00<00:00, 88027.37it/s]\n",
      "63it [1:34:21, 268.38s/it]"
     ]
    },
    {
     "name": "stdout",
     "output_type": "stream",
     "text": [
      "Rv3727\n"
     ]
    },
    {
     "name": "stderr",
     "output_type": "stream",
     "text": [
      "\n",
      "100%|██████████| 11/11 [00:00<?, ?it/s][A\n",
      "\n",
      "100%|██████████| 1/1 [00:00<?, ?it/s]\u001b[A\n",
      "\n",
      "100%|██████████| 11/11 [00:00<?, ?it/s][A\n",
      "64it [1:34:56, 203.19s/it]"
     ]
    },
    {
     "name": "stdout",
     "output_type": "stream",
     "text": [
      "Rv3728\n"
     ]
    },
    {
     "name": "stderr",
     "output_type": "stream",
     "text": [
      "\n",
      "100%|██████████| 16/16 [00:00<?, ?it/s][A\n",
      "\n",
      "100%|██████████| 1/1 [00:00<?, ?it/s]\u001b[A\n",
      "\n",
      "100%|██████████| 16/16 [00:00<?, ?it/s][A\n",
      "65it [1:35:16, 151.16s/it]"
     ]
    },
    {
     "name": "stdout",
     "output_type": "stream",
     "text": [
      "Rv3729\n"
     ]
    },
    {
     "name": "stderr",
     "output_type": "stream",
     "text": [
      "\n",
      "100%|██████████| 16/16 [00:00<00:00, 16062.44it/s]\n",
      "\n",
      "100%|██████████| 1/1 [00:00<?, ?it/s]\u001b[A\n",
      "\n",
      "100%|██████████| 16/16 [00:00<?, ?it/s][A\n",
      "\n",
      "100%|██████████| 52/52 [00:00<?, ?it/s][A\n",
      "\n",
      "100%|██████████| 1/1 [00:00<?, ?it/s]\u001b[A\n",
      "\n",
      "100%|██████████| 52/52 [00:00<00:00, 52090.71it/s]\n",
      "66it [1:36:19, 125.48s/it]"
     ]
    },
    {
     "name": "stdout",
     "output_type": "stream",
     "text": [
      "Rv3730c\n"
     ]
    },
    {
     "name": "stderr",
     "output_type": "stream",
     "text": [
      "\n",
      "100%|██████████| 203/203 [00:00<?, ?it/s]A\n",
      "\n",
      "100%|██████████| 1/1 [00:00<?, ?it/s]\u001b[A\n",
      "\n",
      "100%|██████████| 203/203 [00:00<?, ?it/s]A\n",
      "\n",
      "100%|██████████| 287/287 [00:00<00:00, 278327.22it/s]\n",
      "\n",
      "100%|██████████| 1/1 [00:00<?, ?it/s]\u001b[A\n",
      "\n",
      "100%|██████████| 287/287 [00:00<00:00, 142778.47it/s]\n",
      "67it [1:36:42, 95.57s/it] "
     ]
    },
    {
     "name": "stdout",
     "output_type": "stream",
     "text": [
      "Rv3731\n"
     ]
    },
    {
     "name": "stderr",
     "output_type": "stream",
     "text": [
      "\n",
      "100%|██████████| 170/170 [00:00<00:00, 173065.94it/s]\n",
      "\n",
      "100%|██████████| 1/1 [00:00<?, ?it/s]\u001b[A\n",
      "\n",
      "100%|██████████| 170/170 [00:00<?, ?it/s]A\n",
      "\n",
      "100%|██████████| 370/370 [00:00<00:00, 369586.21it/s]\n",
      "\n",
      "100%|██████████| 1/1 [00:00<?, ?it/s]\u001b[A\n",
      "\n",
      "100%|██████████| 370/370 [00:00<00:00, 371354.98it/s]\n",
      "68it [1:37:10, 75.55s/it]"
     ]
    },
    {
     "name": "stdout",
     "output_type": "stream",
     "text": [
      "Rv3732\n"
     ]
    },
    {
     "name": "stderr",
     "output_type": "stream",
     "text": [
      "\n",
      "100%|██████████| 32/32 [00:00<00:00, 32017.59it/s]\n",
      "\n",
      "100%|██████████| 1/1 [00:00<?, ?it/s]\u001b[A\n",
      "\n",
      "100%|██████████| 32/32 [00:00<?, ?it/s][A\n",
      "\n",
      "100%|██████████| 17/17 [00:00<?, ?it/s][A\n",
      "\n",
      "100%|██████████| 1/1 [00:00<?, ?it/s]\u001b[A\n",
      "\n",
      "100%|██████████| 17/17 [00:00<?, ?it/s][A\n",
      "69it [1:37:24, 57.52s/it]"
     ]
    },
    {
     "name": "stdout",
     "output_type": "stream",
     "text": [
      "Rv3734c\n"
     ]
    },
    {
     "name": "stderr",
     "output_type": "stream",
     "text": [
      "\n",
      "100%|██████████| 177/177 [00:00<00:00, 87753.17it/s]\n",
      "\n",
      "100%|██████████| 1/1 [00:00<?, ?it/s]\u001b[A\n",
      "\n",
      "100%|██████████| 176/176 [00:00<00:00, 58619.67it/s]\n",
      "\n",
      "100%|██████████| 112/112 [00:00<00:00, 111928.06it/s]\n",
      "\n",
      "100%|██████████| 1/1 [00:00<?, ?it/s]\u001b[A\n",
      "\n",
      "100%|██████████| 112/112 [00:00<00:00, 111397.21it/s]\n",
      "71it [1:38:25, 45.01s/it]"
     ]
    },
    {
     "name": "stdout",
     "output_type": "stream",
     "text": [
      "Rv3735\n"
     ]
    },
    {
     "name": "stderr",
     "output_type": "stream",
     "text": [
      "\n",
      "100%|██████████| 29/29 [00:00<?, ?it/s][A\n",
      "\n",
      "100%|██████████| 1/1 [00:00<?, ?it/s]\u001b[A\n",
      "\n",
      "100%|██████████| 29/29 [00:00<?, ?it/s][A\n",
      "\n",
      "100%|██████████| 51/51 [00:00<?, ?it/s][A\n",
      "\n",
      "100%|██████████| 1/1 [00:00<?, ?it/s]\u001b[A\n",
      "\n",
      "100%|██████████| 50/50 [00:00<?, ?it/s][A\n",
      "72it [1:38:57, 41.76s/it]"
     ]
    },
    {
     "name": "stdout",
     "output_type": "stream",
     "text": [
      "Rv3736\n"
     ]
    },
    {
     "name": "stderr",
     "output_type": "stream",
     "text": [
      "\n",
      "100%|██████████| 33/33 [00:00<?, ?it/s][A\n",
      "\n",
      "100%|██████████| 1/1 [00:00<?, ?it/s]\u001b[A\n",
      "\n",
      "100%|██████████| 33/33 [00:00<?, ?it/s][A\n",
      "\n",
      "100%|██████████| 22/22 [00:00<?, ?it/s][A\n",
      "\n",
      "100%|██████████| 1/1 [00:00<00:00, 998.64it/s]\n",
      "\n",
      "100%|██████████| 22/22 [00:00<?, ?it/s][A\n",
      "73it [1:39:17, 36.32s/it]"
     ]
    },
    {
     "name": "stdout",
     "output_type": "stream",
     "text": [
      "Rv3738c\n"
     ]
    },
    {
     "name": "stderr",
     "output_type": "stream",
     "text": [
      "75it [1:39:29, 23.35s/it]"
     ]
    },
    {
     "name": "stdout",
     "output_type": "stream",
     "text": [
      "Rv3739c\n"
     ]
    },
    {
     "name": "stderr",
     "output_type": "stream",
     "text": [
      "76it [1:39:41, 20.70s/it]"
     ]
    },
    {
     "name": "stdout",
     "output_type": "stream",
     "text": [
      "Rv3742c\n"
     ]
    },
    {
     "name": "stderr",
     "output_type": "stream",
     "text": [
      "79it [1:39:53, 12.34s/it]"
     ]
    },
    {
     "name": "stdout",
     "output_type": "stream",
     "text": [
      "Rv3743c\n"
     ]
    },
    {
     "name": "stderr",
     "output_type": "stream",
     "text": [
      "\n",
      "100%|██████████| 28/28 [00:00<?, ?it/s][A\n",
      "\n",
      "100%|██████████| 1/1 [00:00<?, ?it/s]\u001b[A\n",
      "\n",
      "100%|██████████| 28/28 [00:00<?, ?it/s][A\n",
      "\n",
      "100%|██████████| 304/304 [00:00<00:00, 151739.67it/s]\n",
      "\n",
      "100%|██████████| 1/1 [00:00<?, ?it/s]\u001b[A\n",
      "\n",
      "100%|██████████| 304/304 [00:00<00:00, 303226.73it/s]\n",
      "80it [1:40:23, 15.67s/it]"
     ]
    },
    {
     "name": "stdout",
     "output_type": "stream",
     "text": [
      "Rv3744\n"
     ]
    },
    {
     "name": "stderr",
     "output_type": "stream",
     "text": [
      "\n",
      "100%|██████████| 67/67 [00:00<00:00, 66075.33it/s]\n",
      "\n",
      "100%|██████████| 1/1 [00:00<?, ?it/s]\u001b[A\n",
      "\n",
      "100%|██████████| 67/67 [00:00<?, ?it/s][A\n",
      "\n",
      "100%|██████████| 382/382 [00:00<00:00, 127241.43it/s]\n",
      "\n",
      "100%|██████████| 1/1 [00:00<?, ?it/s]\u001b[A\n",
      "\n",
      "100%|██████████| 382/382 [00:00<00:00, 127261.65it/s]\n",
      "81it [1:40:54, 18.89s/it]"
     ]
    },
    {
     "name": "stdout",
     "output_type": "stream",
     "text": [
      "Rv3745c\n"
     ]
    },
    {
     "name": "stderr",
     "output_type": "stream",
     "text": [
      "\n",
      "100%|██████████| 202/202 [00:00<00:00, 202207.50it/s]\n",
      "\n",
      "100%|██████████| 1/1 [00:00<?, ?it/s]\u001b[A\n",
      "\n",
      "100%|██████████| 202/202 [00:00<00:00, 201726.05it/s]\n",
      "\n",
      "100%|██████████| 288/288 [00:00<00:00, 143804.71it/s]\n",
      "\n",
      "100%|██████████| 1/1 [00:00<?, ?it/s]\u001b[A\n",
      "\n",
      "100%|██████████| 288/288 [00:00<00:00, 144044.78it/s]\n",
      "82it [1:41:34, 23.98s/it]"
     ]
    },
    {
     "name": "stdout",
     "output_type": "stream",
     "text": [
      "Rv3746c\n"
     ]
    },
    {
     "name": "stderr",
     "output_type": "stream",
     "text": [
      "\n",
      "100%|██████████| 14/14 [00:00<?, ?it/s][A\n",
      "\n",
      "100%|██████████| 1/1 [00:00<?, ?it/s]\u001b[A\n",
      "\n",
      "100%|██████████| 14/14 [00:00<?, ?it/s][A\n",
      "83it [1:42:09, 26.71s/it]"
     ]
    },
    {
     "name": "stdout",
     "output_type": "stream",
     "text": [
      "Rv3747\n"
     ]
    },
    {
     "name": "stderr",
     "output_type": "stream",
     "text": [
      "\n",
      "100%|██████████| 31/31 [00:00<?, ?it/s][A\n",
      "\n",
      "100%|██████████| 1/1 [00:00<?, ?it/s]\u001b[A\n",
      "\n",
      "100%|██████████| 31/31 [00:00<?, ?it/s][A\n",
      "\n",
      "100%|██████████| 18/18 [00:00<?, ?it/s][A\n",
      "\n",
      "100%|██████████| 1/1 [00:00<?, ?it/s]\u001b[A\n",
      "\n",
      "100%|██████████| 18/18 [00:00<?, ?it/s][A\n",
      "84it [1:42:48, 29.98s/it]"
     ]
    },
    {
     "name": "stdout",
     "output_type": "stream",
     "text": [
      "Rv3748\n"
     ]
    },
    {
     "name": "stderr",
     "output_type": "stream",
     "text": [
      "\n",
      "100%|██████████| 36/36 [00:00<?, ?it/s][A\n",
      "\n",
      "100%|██████████| 1/1 [00:00<?, ?it/s]\u001b[A\n",
      "\n",
      "100%|██████████| 36/36 [00:00<?, ?it/s][A\n",
      "\n",
      "100%|██████████| 20/20 [00:00<00:00, 19982.39it/s]\n",
      "\n",
      "100%|██████████| 1/1 [00:00<?, ?it/s]\u001b[A\n",
      "\n",
      "100%|██████████| 20/20 [00:00<?, ?it/s][A\n",
      "85it [1:43:10, 27.85s/it]"
     ]
    },
    {
     "name": "stdout",
     "output_type": "stream",
     "text": [
      "Rv3749c\n"
     ]
    },
    {
     "name": "stderr",
     "output_type": "stream",
     "text": [
      "86it [1:43:21, 23.21s/it]"
     ]
    },
    {
     "name": "stdout",
     "output_type": "stream",
     "text": [
      "Rv3750c\n"
     ]
    },
    {
     "name": "stderr",
     "output_type": "stream",
     "text": [
      "\n",
      "100%|██████████| 12/12 [00:00<?, ?it/s][A\n",
      "\n",
      "100%|██████████| 1/1 [00:00<?, ?it/s]\u001b[A\n",
      "\n",
      "100%|██████████| 12/12 [00:00<?, ?it/s][A\n",
      "87it [1:44:33, 37.15s/it]"
     ]
    },
    {
     "name": "stdout",
     "output_type": "stream",
     "text": [
      "Rv3753c\n"
     ]
    },
    {
     "name": "stderr",
     "output_type": "stream",
     "text": [
      "\n",
      "100%|██████████| 215/215 [00:00<00:00, 71603.57it/s]\n",
      "\n",
      "100%|██████████| 1/1 [00:00<00:00, 994.62it/s]\n",
      "\n",
      "100%|██████████| 215/215 [00:00<00:00, 71609.26it/s]\n",
      "\n",
      "100%|██████████| 274/274 [00:00<00:00, 91296.42it/s]\n",
      "\n",
      "100%|██████████| 1/1 [00:00<?, ?it/s]\u001b[A\n",
      "\n",
      "100%|██████████| 274/274 [00:00<00:00, 68525.39it/s]\n",
      "89it [1:45:32, 33.62s/it]"
     ]
    },
    {
     "name": "stdout",
     "output_type": "stream",
     "text": [
      "Rv3754\n"
     ]
    },
    {
     "name": "stderr",
     "output_type": "stream",
     "text": [
      "\n",
      "100%|██████████| 209/209 [00:00<00:00, 104694.80it/s]\n",
      "\n",
      "100%|██████████| 1/1 [00:00<?, ?it/s]\u001b[A\n",
      "\n",
      "100%|██████████| 209/209 [00:00<00:00, 69910.64it/s]\n",
      "\n",
      "100%|██████████| 131/131 [00:00<00:00, 64817.01it/s]\n",
      "\n",
      "100%|██████████| 1/1 [00:00<?, ?it/s]\u001b[A\n",
      "\n",
      "100%|██████████| 131/131 [00:00<00:00, 65380.04it/s]\n",
      "90it [1:46:43, 42.83s/it]"
     ]
    },
    {
     "name": "stdout",
     "output_type": "stream",
     "text": [
      "Rv3759c\n"
     ]
    },
    {
     "name": "stderr",
     "output_type": "stream",
     "text": [
      "\n",
      "100%|██████████| 171/171 [00:00<00:00, 85262.24it/s]\n",
      "\n",
      "100%|██████████| 1/1 [00:00<?, ?it/s]\u001b[A\n",
      "\n",
      "100%|██████████| 169/169 [00:00<00:00, 84405.50it/s]\n",
      "\n",
      "100%|██████████| 106/106 [00:00<?, ?it/s]A\n",
      "\n",
      "100%|██████████| 1/1 [00:00<?, ?it/s]\u001b[A\n",
      "\n",
      "100%|██████████| 106/106 [00:00<?, ?it/s]A\n",
      "95it [1:47:22, 20.56s/it]"
     ]
    },
    {
     "name": "stdout",
     "output_type": "stream",
     "text": [
      "Rv3760\n"
     ]
    },
    {
     "name": "stderr",
     "output_type": "stream",
     "text": [
      "\n",
      "100%|██████████| 188/188 [00:00<00:00, 94254.02it/s]\n",
      "\n",
      "100%|██████████| 1/1 [00:00<?, ?it/s]\u001b[A\n",
      "\n",
      "100%|██████████| 186/186 [00:00<00:00, 92631.27it/s]\n",
      "\n",
      "100%|██████████| 118/118 [00:00<00:00, 118177.62it/s]\n",
      "\n",
      "100%|██████████| 1/1 [00:00<00:00, 998.64it/s]\n",
      "\n",
      "100%|██████████| 118/118 [00:00<?, ?it/s]A\n",
      "96it [1:48:13, 25.17s/it]"
     ]
    },
    {
     "name": "stdout",
     "output_type": "stream",
     "text": [
      "Rv3761c\n"
     ]
    },
    {
     "name": "stderr",
     "output_type": "stream",
     "text": [
      "\n",
      "100%|██████████| 164/164 [00:00<00:00, 163972.79it/s]\n",
      "\n",
      "100%|██████████| 1/1 [00:00<?, ?it/s]\u001b[A\n",
      "\n",
      "100%|██████████| 164/164 [00:00<?, ?it/s]A\n",
      "\n",
      "100%|██████████| 102/102 [00:00<?, ?it/s]A\n",
      "\n",
      "100%|██████████| 1/1 [00:00<?, ?it/s]\u001b[A\n",
      "\n",
      "100%|██████████| 102/102 [00:00<?, ?it/s]A\n",
      "97it [1:48:32, 24.19s/it]"
     ]
    },
    {
     "name": "stdout",
     "output_type": "stream",
     "text": [
      "Rv3762c\n"
     ]
    },
    {
     "name": "stderr",
     "output_type": "stream",
     "text": [
      "\n",
      "100%|██████████| 179/179 [00:00<00:00, 59571.56it/s]\n",
      "\n",
      "100%|██████████| 1/1 [00:00<?, ?it/s]\u001b[A\n",
      "\n",
      "100%|██████████| 179/179 [00:00<00:00, 89517.16it/s]\n",
      "\n",
      "100%|██████████| 194/194 [00:00<00:00, 96546.63it/s]\n",
      "\n",
      "100%|██████████| 1/1 [00:00<?, ?it/s]\u001b[A\n",
      "\n",
      "100%|██████████| 194/194 [00:00<00:00, 97064.89it/s]\n",
      "98it [1:49:34, 31.83s/it]"
     ]
    },
    {
     "name": "stdout",
     "output_type": "stream",
     "text": [
      "Rv3763\n"
     ]
    },
    {
     "name": "stderr",
     "output_type": "stream",
     "text": [
      "\n",
      "100%|██████████| 125/125 [00:00<00:00, 125128.40it/s]\n",
      "\n",
      "100%|██████████| 1/1 [00:00<?, ?it/s]\u001b[A\n",
      "\n",
      "100%|██████████| 125/125 [00:00<00:00, 125970.21it/s]\n",
      "\n",
      "100%|██████████| 72/72 [00:00<?, ?it/s][A\n",
      "\n",
      "100%|██████████| 1/1 [00:00<00:00, 996.51it/s]\n",
      "\n",
      "100%|██████████| 72/72 [00:00<?, ?it/s][A\n",
      "99it [1:50:06, 31.84s/it]"
     ]
    },
    {
     "name": "stdout",
     "output_type": "stream",
     "text": [
      "Rv3764c\n"
     ]
    },
    {
     "name": "stderr",
     "output_type": "stream",
     "text": [
      "\n",
      "100%|██████████| 142/142 [00:00<?, ?it/s]A\n",
      "\n",
      "100%|██████████| 1/1 [00:00<?, ?it/s]\u001b[A\n",
      "\n",
      "100%|██████████| 142/142 [00:00<?, ?it/s]A\n",
      "\n",
      "100%|██████████| 88/88 [00:00<?, ?it/s][A\n",
      "\n",
      "100%|██████████| 1/1 [00:00<?, ?it/s]\u001b[A\n",
      "\n",
      "100%|██████████| 88/88 [00:00<00:00, 88048.37it/s]\n",
      "100it [1:50:24, 28.41s/it]"
     ]
    },
    {
     "name": "stdout",
     "output_type": "stream",
     "text": [
      "Rv3765c\n"
     ]
    },
    {
     "name": "stderr",
     "output_type": "stream",
     "text": [
      "\n",
      "100%|██████████| 199/199 [00:00<00:00, 33167.75it/s]\n",
      "\n",
      "100%|██████████| 1/1 [00:00<?, ?it/s]\u001b[A\n",
      "\n",
      "100%|██████████| 199/199 [00:00<00:00, 28514.16it/s]\n",
      "\n",
      "100%|██████████| 486/486 [00:00<00:00, 30374.03it/s]\n",
      "\n",
      "100%|██████████| 1/1 [00:00<?, ?it/s]\u001b[A\n",
      "\n",
      "100%|██████████| 485/485 [00:00<00:00, 30305.66it/s]\n",
      "101it [2:07:45, 290.28s/it]"
     ]
    },
    {
     "name": "stdout",
     "output_type": "stream",
     "text": [
      "Rv3766\n"
     ]
    },
    {
     "name": "stderr",
     "output_type": "stream",
     "text": [
      "\n",
      "100%|██████████| 47/47 [00:00<00:00, 47307.96it/s]\n",
      "\n",
      "100%|██████████| 1/1 [00:00<?, ?it/s]\u001b[A\n",
      "\n",
      "100%|██████████| 47/47 [00:00<00:00, 47037.05it/s]\n",
      "\n",
      "100%|██████████| 35/35 [00:00<00:00, 35805.03it/s]\n",
      "\n",
      "100%|██████████| 1/1 [00:00<?, ?it/s]\u001b[A\n",
      "\n",
      "100%|██████████| 35/35 [00:00<00:00, 35002.54it/s]\n",
      "102it [2:11:19, 269.63s/it]"
     ]
    },
    {
     "name": "stdout",
     "output_type": "stream",
     "text": [
      "Rv3767c\n"
     ]
    },
    {
     "name": "stderr",
     "output_type": "stream",
     "text": [
      "\n",
      "100%|██████████| 79/79 [00:00<?, ?it/s][A\n",
      "\n",
      "100%|██████████| 1/1 [00:00<?, ?it/s]\u001b[A\n",
      "\n",
      "100%|██████████| 79/79 [00:00<?, ?it/s][A\n",
      "\n",
      "100%|██████████| 45/45 [00:00<?, ?it/s][A\n",
      "\n",
      "100%|██████████| 1/1 [00:00<?, ?it/s]\u001b[A\n",
      "\n",
      "100%|██████████| 45/45 [00:00<?, ?it/s][A\n",
      "103it [2:11:51, 203.52s/it]"
     ]
    },
    {
     "name": "stdout",
     "output_type": "stream",
     "text": [
      "Rv3768\n"
     ]
    },
    {
     "name": "stderr",
     "output_type": "stream",
     "text": [
      "\n",
      "100%|██████████| 44/44 [00:00<?, ?it/s][A\n",
      "\n",
      "100%|██████████| 1/1 [00:00<?, ?it/s]\u001b[A\n",
      "\n",
      "100%|██████████| 44/44 [00:00<?, ?it/s][A\n",
      "\n",
      "100%|██████████| 30/30 [00:00<?, ?it/s][A\n",
      "\n",
      "100%|██████████| 1/1 [00:00<?, ?it/s]\u001b[A\n",
      "\n",
      "100%|██████████| 30/30 [00:00<?, ?it/s][A\n",
      "104it [2:12:16, 152.82s/it]"
     ]
    },
    {
     "name": "stdout",
     "output_type": "stream",
     "text": [
      "Rv3769\n"
     ]
    },
    {
     "name": "stderr",
     "output_type": "stream",
     "text": [
      "105it [2:12:27, 111.83s/it]"
     ]
    },
    {
     "name": "stdout",
     "output_type": "stream",
     "text": [
      "Rv3770c\n"
     ]
    },
    {
     "name": "stderr",
     "output_type": "stream",
     "text": [
      "106it [2:12:38, 82.52s/it] "
     ]
    },
    {
     "name": "stdout",
     "output_type": "stream",
     "text": [
      "Rv3771c\n"
     ]
    },
    {
     "name": "stderr",
     "output_type": "stream",
     "text": [
      "107it [2:12:50, 61.57s/it]"
     ]
    },
    {
     "name": "stdout",
     "output_type": "stream",
     "text": [
      "Rv3772\n"
     ]
    },
    {
     "name": "stderr",
     "output_type": "stream",
     "text": [
      "\n",
      "100%|██████████| 209/209 [00:00<00:00, 34838.63it/s]\n",
      "\n",
      "100%|██████████| 1/1 [00:00<?, ?it/s]\u001b[A\n",
      "\n",
      "100%|██████████| 209/209 [00:00<00:00, 34827.55it/s]\n",
      "\n",
      "100%|██████████| 165/165 [00:00<00:00, 41250.53it/s]\n",
      "\n",
      "100%|██████████| 1/1 [00:00<?, ?it/s]\u001b[A\n",
      "\n",
      "100%|██████████| 165/165 [00:00<00:00, 33008.69it/s]\n",
      "108it [2:16:00, 99.61s/it]"
     ]
    },
    {
     "name": "stdout",
     "output_type": "stream",
     "text": [
      "Rv3776\n"
     ]
    },
    {
     "name": "stderr",
     "output_type": "stream",
     "text": [
      "112it [2:16:11, 38.72s/it]"
     ]
    },
    {
     "name": "stdout",
     "output_type": "stream",
     "text": [
      "Rv3777\n"
     ]
    },
    {
     "name": "stderr",
     "output_type": "stream",
     "text": [
      "\n",
      "100%|██████████| 212/212 [00:00<00:00, 212623.73it/s]\n",
      "\n",
      "100%|██████████| 1/1 [00:00<?, ?it/s]\u001b[A\n",
      "\n",
      "100%|██████████| 212/212 [00:00<00:00, 212065.93it/s]\n",
      "\n",
      "100%|██████████| 254/254 [00:00<00:00, 255113.32it/s]\n",
      "\n",
      "100%|██████████| 1/1 [00:00<00:00, 1001.27it/s]\n",
      "\n",
      "100%|██████████| 254/254 [00:00<00:00, 245134.20it/s]\n",
      "113it [2:16:30, 35.24s/it]"
     ]
    },
    {
     "name": "stdout",
     "output_type": "stream",
     "text": [
      "Rv3778c\n"
     ]
    },
    {
     "name": "stderr",
     "output_type": "stream",
     "text": [
      "\n",
      "100%|██████████| 209/209 [00:00<00:00, 209114.87it/s]\n",
      "\n",
      "100%|██████████| 1/1 [00:00<?, ?it/s]\u001b[A\n",
      "\n",
      "100%|██████████| 209/209 [00:00<00:00, 209464.64it/s]\n",
      "\n",
      "100%|██████████| 137/137 [00:00<00:00, 136846.78it/s]\n",
      "\n",
      "100%|██████████| 1/1 [00:00<?, ?it/s]\u001b[A\n",
      "\n",
      "100%|██████████| 137/137 [00:00<00:00, 136912.00it/s]\n",
      "114it [2:16:55, 32.95s/it]"
     ]
    },
    {
     "name": "stdout",
     "output_type": "stream",
     "text": [
      "Rv3779\n"
     ]
    },
    {
     "name": "stderr",
     "output_type": "stream",
     "text": [
      "\n",
      "100%|██████████| 150/150 [00:00<00:00, 150082.44it/s]\n",
      "\n",
      "100%|██████████| 1/1 [00:00<?, ?it/s]\u001b[A\n",
      "\n",
      "100%|██████████| 150/150 [00:00<00:00, 152004.25it/s]\n",
      "\n",
      "100%|██████████| 87/87 [00:00<00:00, 87006.31it/s]\n",
      "\n",
      "100%|██████████| 1/1 [00:00<?, ?it/s]\u001b[A\n",
      "\n",
      "100%|██████████| 87/87 [00:00<?, ?it/s][A\n",
      "115it [2:17:17, 30.66s/it]"
     ]
    },
    {
     "name": "stdout",
     "output_type": "stream",
     "text": [
      "Rv3784\n"
     ]
    },
    {
     "name": "stderr",
     "output_type": "stream",
     "text": [
      "\n",
      "100%|██████████| 25/25 [00:00<00:00, 24871.35it/s]\n",
      "\n",
      "100%|██████████| 1/1 [00:00<?, ?it/s]\u001b[A\n",
      "\n",
      "100%|██████████| 25/25 [00:00<?, ?it/s][A\n",
      "\n",
      "100%|██████████| 15/15 [00:00<?, ?it/s][A\n",
      "\n",
      "100%|██████████| 1/1 [00:00<?, ?it/s]\u001b[A\n",
      "\n",
      "100%|██████████| 15/15 [00:00<?, ?it/s][A\n",
      "120it [2:17:46, 15.21s/it]"
     ]
    },
    {
     "name": "stdout",
     "output_type": "stream",
     "text": [
      "Rv3785\n"
     ]
    },
    {
     "name": "stderr",
     "output_type": "stream",
     "text": [
      "\n",
      "100%|██████████| 20/20 [00:00<?, ?it/s][A\n",
      "\n",
      "100%|██████████| 1/1 [00:00<?, ?it/s]\u001b[A\n",
      "\n",
      "100%|██████████| 20/20 [00:00<?, ?it/s][A\n",
      "\n",
      "100%|██████████| 14/14 [00:00<?, ?it/s][A\n",
      "\n",
      "100%|██████████| 1/1 [00:00<?, ?it/s]\u001b[A\n",
      "\n",
      "100%|██████████| 14/14 [00:00<?, ?it/s][A\n",
      "121it [2:18:02, 15.27s/it]"
     ]
    },
    {
     "name": "stdout",
     "output_type": "stream",
     "text": [
      "Rv3787c\n"
     ]
    },
    {
     "name": "stderr",
     "output_type": "stream",
     "text": [
      "\n",
      "100%|██████████| 67/67 [00:00<?, ?it/s][A\n",
      "\n",
      "100%|██████████| 1/1 [00:00<?, ?it/s]\u001b[A\n",
      "\n",
      "100%|██████████| 66/66 [00:00<00:00, 65910.49it/s]\n",
      "\n",
      "100%|██████████| 41/41 [00:00<?, ?it/s][A\n",
      "\n",
      "100%|██████████| 1/1 [00:00<?, ?it/s]\u001b[A\n",
      "\n",
      "100%|██████████| 41/41 [00:00<00:00, 40847.14it/s]\n",
      "123it [2:18:45, 17.14s/it]"
     ]
    },
    {
     "name": "stdout",
     "output_type": "stream",
     "text": [
      "Rv3788\n"
     ]
    },
    {
     "name": "stderr",
     "output_type": "stream",
     "text": [
      "\n",
      "100%|██████████| 81/81 [00:00<00:00, 81005.87it/s]\n",
      "\n",
      "100%|██████████| 1/1 [00:00<?, ?it/s]\u001b[A\n",
      "\n",
      "100%|██████████| 81/81 [00:00<00:00, 80967.26it/s]\n",
      "\n",
      "100%|██████████| 47/47 [00:00<?, ?it/s][A\n",
      "\n",
      "100%|██████████| 1/1 [00:00<?, ?it/s]\u001b[A\n",
      "\n",
      "100%|██████████| 47/47 [00:00<?, ?it/s][A\n",
      "124it [2:19:55, 26.45s/it]"
     ]
    },
    {
     "name": "stdout",
     "output_type": "stream",
     "text": [
      "Rv3789\n"
     ]
    },
    {
     "name": "stderr",
     "output_type": "stream",
     "text": [
      "\n",
      "100%|██████████| 210/210 [00:00<00:00, 104982.58it/s]\n",
      "\n",
      "100%|██████████| 1/1 [00:00<?, ?it/s]\u001b[A\n",
      "\n",
      "100%|██████████| 210/210 [00:00<00:00, 208671.84it/s]\n",
      "\n",
      "100%|██████████| 190/190 [00:00<00:00, 95040.88it/s]\n",
      "\n",
      "100%|██████████| 1/1 [00:00<?, ?it/s]\u001b[A\n",
      "\n",
      "100%|██████████| 190/190 [00:00<00:00, 189923.20it/s]\n",
      "125it [2:20:29, 28.12s/it]"
     ]
    },
    {
     "name": "stdout",
     "output_type": "stream",
     "text": [
      "Rv3790\n"
     ]
    },
    {
     "name": "stderr",
     "output_type": "stream",
     "text": [
      "\n",
      "100%|██████████| 215/215 [00:00<?, ?it/s]A\n",
      "\n",
      "100%|██████████| 1/1 [00:00<?, ?it/s]\u001b[A\n",
      "\n",
      "100%|██████████| 215/215 [00:00<00:00, 222825.64it/s]\n",
      "\n",
      "100%|██████████| 424/424 [00:00<00:00, 211460.75it/s]\n",
      "\n",
      "100%|██████████| 1/1 [00:00<?, ?it/s]\u001b[A\n",
      "\n",
      "100%|██████████| 424/424 [00:00<00:00, 212015.37it/s]\n",
      "126it [2:20:59, 28.37s/it]"
     ]
    },
    {
     "name": "stdout",
     "output_type": "stream",
     "text": [
      "Rv3794\n"
     ]
    },
    {
     "name": "stderr",
     "output_type": "stream",
     "text": [
      "\n",
      "100%|██████████| 210/210 [00:00<00:00, 209865.10it/s]\n",
      "\n",
      "100%|██████████| 1/1 [00:00<?, ?it/s]\u001b[A\n",
      "\n",
      "100%|██████████| 210/210 [00:00<00:00, 194352.13it/s]\n",
      "\n",
      "100%|██████████| 132/132 [00:00<?, ?it/s]A\n",
      "\n",
      "100%|██████████| 1/1 [00:00<?, ?it/s]\u001b[A\n",
      "\n",
      "100%|██████████| 132/132 [00:00<?, ?it/s]A\n",
      "130it [2:21:23, 15.92s/it]"
     ]
    },
    {
     "name": "stdout",
     "output_type": "stream",
     "text": [
      "Rv3796\n"
     ]
    },
    {
     "name": "stderr",
     "output_type": "stream",
     "text": [
      "\n",
      "100%|██████████| 27/27 [00:00<?, ?it/s][A\n",
      "\n",
      "100%|██████████| 1/1 [00:00<?, ?it/s]\u001b[A\n",
      "\n",
      "100%|██████████| 27/27 [00:00<00:00, 27008.40it/s]\n",
      "\n",
      "100%|██████████| 19/19 [00:00<?, ?it/s][A\n",
      "\n",
      "100%|██████████| 1/1 [00:00<?, ?it/s]\u001b[A\n",
      "\n",
      "100%|██████████| 19/19 [00:00<?, ?it/s][A\n",
      "132it [2:21:42, 14.10s/it]"
     ]
    },
    {
     "name": "stdout",
     "output_type": "stream",
     "text": [
      "Rv3797\n"
     ]
    },
    {
     "name": "stderr",
     "output_type": "stream",
     "text": [
      "\n",
      "100%|██████████| 80/80 [00:00<?, ?it/s][A\n",
      "\n",
      "100%|██████████| 1/1 [00:00<?, ?it/s]\u001b[A\n",
      "\n",
      "100%|██████████| 80/80 [00:00<00:00, 80717.90it/s]\n",
      "\n",
      "100%|██████████| 63/63 [00:00<00:00, 63064.71it/s]\n",
      "\n",
      "100%|██████████| 1/1 [00:00<?, ?it/s]\u001b[A\n",
      "\n",
      "100%|██████████| 63/63 [00:00<00:00, 63004.57it/s]\n",
      "133it [2:22:04, 15.32s/it]"
     ]
    },
    {
     "name": "stdout",
     "output_type": "stream",
     "text": [
      "Rv3798\n"
     ]
    },
    {
     "name": "stderr",
     "output_type": "stream",
     "text": [
      "\n",
      "100%|██████████| 27/27 [00:00<?, ?it/s][A\n",
      "\n",
      "100%|██████████| 1/1 [00:00<00:00, 1019.27it/s]\n",
      "\n",
      "100%|██████████| 27/27 [00:00<00:00, 27941.33it/s]\n",
      "134it [2:22:23, 16.15s/it]"
     ]
    },
    {
     "name": "stdout",
     "output_type": "stream",
     "text": [
      "Rv3801c\n"
     ]
    },
    {
     "name": "stderr",
     "output_type": "stream",
     "text": [
      "\n",
      "100%|██████████| 213/213 [00:00<00:00, 53247.51it/s]\n",
      "\n",
      "100%|██████████| 1/1 [00:00<?, ?it/s]\u001b[A\n",
      "\n",
      "100%|██████████| 213/213 [00:00<00:00, 42603.09it/s]\n",
      "\n",
      "100%|██████████| 198/198 [00:00<00:00, 67011.39it/s]\n",
      "\n",
      "100%|██████████| 1/1 [00:00<?, ?it/s]\u001b[A\n",
      "\n",
      "100%|██████████| 198/198 [00:00<00:00, 65968.08it/s]\n",
      "137it [2:24:56, 32.02s/it]"
     ]
    },
    {
     "name": "stdout",
     "output_type": "stream",
     "text": [
      "Rv3802c\n"
     ]
    },
    {
     "name": "stderr",
     "output_type": "stream",
     "text": [
      "\n",
      "100%|██████████| 210/210 [00:00<00:00, 104957.56it/s]\n",
      "\n",
      "100%|██████████| 1/1 [00:00<00:00, 999.36it/s]\n",
      "\n",
      "100%|██████████| 210/210 [00:00<00:00, 69147.73it/s]\n",
      "\n",
      "100%|██████████| 132/132 [00:00<00:00, 65934.04it/s]\n",
      "\n",
      "100%|██████████| 1/1 [00:00<?, ?it/s]\u001b[A\n",
      "\n",
      "100%|██████████| 132/132 [00:00<00:00, 65996.92it/s]\n",
      "138it [2:26:00, 37.74s/it]"
     ]
    },
    {
     "name": "stdout",
     "output_type": "stream",
     "text": [
      "Rv3803c\n"
     ]
    },
    {
     "name": "stderr",
     "output_type": "stream",
     "text": [
      "\n",
      "100%|██████████| 199/199 [00:00<00:00, 98777.10it/s]\n",
      "\n",
      "100%|██████████| 1/1 [00:00<?, ?it/s]\u001b[A\n",
      "\n",
      "100%|██████████| 199/199 [00:00<00:00, 99483.49it/s]\n",
      "\n",
      "100%|██████████| 122/122 [00:00<00:00, 118395.44it/s]\n",
      "\n",
      "100%|██████████| 1/1 [00:00<?, ?it/s]\u001b[A\n",
      "\n",
      "100%|██████████| 122/122 [00:00<00:00, 121921.63it/s]\n",
      "139it [2:27:12, 44.54s/it]"
     ]
    },
    {
     "name": "stdout",
     "output_type": "stream",
     "text": [
      "Rv3804c\n"
     ]
    },
    {
     "name": "stderr",
     "output_type": "stream",
     "text": [
      "\n",
      "100%|██████████| 178/178 [00:00<00:00, 59328.20it/s]\n",
      "\n",
      "100%|██████████| 1/1 [00:00<?, ?it/s]\u001b[A\n",
      "\n",
      "100%|██████████| 178/178 [00:00<00:00, 44519.15it/s]\n",
      "\n",
      "100%|██████████| 117/117 [00:00<00:00, 58518.19it/s]\n",
      "\n",
      "100%|██████████| 1/1 [00:00<?, ?it/s]\u001b[A\n",
      "\n",
      "100%|██████████| 117/117 [00:00<00:00, 116646.91it/s]\n",
      "140it [2:29:43, 68.51s/it]"
     ]
    },
    {
     "name": "stdout",
     "output_type": "stream",
     "text": [
      "Rv3805c\n"
     ]
    },
    {
     "name": "stderr",
     "output_type": "stream",
     "text": [
      "\n",
      "100%|██████████| 210/210 [00:00<00:00, 104957.56it/s]\n",
      "\n",
      "100%|██████████| 1/1 [00:00<?, ?it/s]\u001b[A\n",
      "\n",
      "100%|██████████| 209/209 [00:00<00:00, 201334.30it/s]\n",
      "\n",
      "100%|██████████| 132/132 [00:00<00:00, 131445.42it/s]\n",
      "\n",
      "100%|██████████| 1/1 [00:00<00:00, 999.36it/s]\n",
      "\n",
      "100%|██████████| 131/131 [00:00<?, ?it/s]A\n",
      "141it [2:30:12, 58.94s/it]"
     ]
    },
    {
     "name": "stdout",
     "output_type": "stream",
     "text": [
      "Rv3809c\n"
     ]
    },
    {
     "name": "stderr",
     "output_type": "stream",
     "text": [
      "\n",
      "100%|██████████| 211/211 [00:00<00:00, 52744.39it/s]\n",
      "\n",
      "100%|██████████| 1/1 [00:00<?, ?it/s]\u001b[A\n",
      "\n",
      "100%|██████████| 211/211 [00:00<00:00, 52734.96it/s]\n",
      "\n",
      "100%|██████████| 497/497 [00:00<00:00, 55217.45it/s]\n",
      "\n",
      "100%|██████████| 1/1 [00:00<?, ?it/s]\u001b[A\n",
      "\n",
      "100%|██████████| 497/497 [00:00<00:00, 55227.69it/s]\n",
      "145it [2:33:54, 56.93s/it]"
     ]
    },
    {
     "name": "stdout",
     "output_type": "stream",
     "text": [
      "Rv3810\n"
     ]
    },
    {
     "name": "stderr",
     "output_type": "stream",
     "text": [
      "\n",
      "100%|██████████| 65/65 [00:00<00:00, 64989.22it/s]\n",
      "\n",
      "100%|██████████| 1/1 [00:00<?, ?it/s]\u001b[A\n",
      "\n",
      "100%|██████████| 65/65 [00:00<?, ?it/s][A\n",
      "\n",
      "100%|██████████| 40/40 [00:00<?, ?it/s][A\n",
      "\n",
      "100%|██████████| 1/1 [00:00<?, ?it/s]\u001b[A\n",
      "\n",
      "100%|██████████| 40/40 [00:00<?, ?it/s][A\n",
      "146it [2:34:52, 57.14s/it]"
     ]
    },
    {
     "name": "stdout",
     "output_type": "stream",
     "text": [
      "Rv3811\n"
     ]
    },
    {
     "name": "stderr",
     "output_type": "stream",
     "text": [
      "\n",
      "100%|██████████| 142/142 [00:00<00:00, 70937.49it/s]\n",
      "\n",
      "100%|██████████| 1/1 [00:00<?, ?it/s]\u001b[A\n",
      "\n",
      "100%|██████████| 142/142 [00:00<00:00, 142315.69it/s]\n",
      "\n",
      "100%|██████████| 86/86 [00:00<00:00, 85822.07it/s]\n",
      "\n",
      "100%|██████████| 1/1 [00:00<?, ?it/s]\u001b[A\n",
      "\n",
      "100%|██████████| 86/86 [00:00<00:00, 85638.69it/s]\n",
      "147it [2:35:35, 54.44s/it]"
     ]
    },
    {
     "name": "stdout",
     "output_type": "stream",
     "text": [
      "Rv3812\n"
     ]
    },
    {
     "name": "stderr",
     "output_type": "stream",
     "text": [
      "148it [2:35:47, 44.99s/it]"
     ]
    },
    {
     "name": "stdout",
     "output_type": "stream",
     "text": [
      "Rv3816c\n"
     ]
    },
    {
     "name": "stderr",
     "output_type": "stream",
     "text": [
      "\n",
      "100%|██████████| 211/211 [00:00<00:00, 212688.81it/s]\n",
      "\n",
      "100%|██████████| 1/1 [00:00<00:00, 1000.79it/s]\n",
      "\n",
      "100%|██████████| 211/211 [00:00<00:00, 210013.80it/s]\n",
      "\n",
      "100%|██████████| 201/201 [00:00<00:00, 200918.76it/s]\n",
      "\n",
      "100%|██████████| 1/1 [00:00<?, ?it/s]\u001b[A\n",
      "\n",
      "100%|██████████| 201/201 [00:00<00:00, 201158.46it/s]\n",
      "152it [2:36:24, 25.11s/it]"
     ]
    },
    {
     "name": "stdout",
     "output_type": "stream",
     "text": [
      "Rv3817\n"
     ]
    },
    {
     "name": "stderr",
     "output_type": "stream",
     "text": [
      "\n",
      "100%|██████████| 43/43 [00:00<?, ?it/s][A\n",
      "\n",
      "100%|██████████| 1/1 [00:00<?, ?it/s]\u001b[A\n",
      "\n",
      "100%|██████████| 42/42 [00:00<?, ?it/s][A\n",
      "\n",
      "100%|██████████| 26/26 [00:00<?, ?it/s][A\n",
      "\n",
      "100%|██████████| 1/1 [00:00<?, ?it/s]\u001b[A\n",
      "\n",
      "100%|██████████| 25/25 [00:00<?, ?it/s][A\n",
      "153it [2:36:44, 24.22s/it]"
     ]
    },
    {
     "name": "stdout",
     "output_type": "stream",
     "text": [
      "Rv3818\n"
     ]
    },
    {
     "name": "stderr",
     "output_type": "stream",
     "text": [
      "\n",
      "100%|██████████| 207/207 [00:00<00:00, 207262.10it/s]\n",
      "\n",
      "100%|██████████| 1/1 [00:00<?, ?it/s]\u001b[A\n",
      "\n",
      "100%|██████████| 207/207 [00:00<00:00, 206670.06it/s]\n",
      "\n",
      "100%|██████████| 209/209 [00:00<?, ?it/s]A\n",
      "\n",
      "100%|██████████| 1/1 [00:00<?, ?it/s]\u001b[A\n",
      "\n",
      "100%|██████████| 209/209 [00:00<00:00, 208865.75it/s]\n",
      "154it [2:37:04, 23.47s/it]"
     ]
    },
    {
     "name": "stdout",
     "output_type": "stream",
     "text": [
      "Rv3820c\n"
     ]
    },
    {
     "name": "stderr",
     "output_type": "stream",
     "text": [
      "\n",
      "100%|██████████| 14/14 [00:00<?, ?it/s][A\n",
      "\n",
      "100%|██████████| 1/1 [00:00<?, ?it/s]\u001b[A\n",
      "\n",
      "100%|██████████| 14/14 [00:00<?, ?it/s][A\n",
      "156it [2:37:28, 19.39s/it]"
     ]
    },
    {
     "name": "stdout",
     "output_type": "stream",
     "text": [
      "Rv3821\n"
     ]
    },
    {
     "name": "stderr",
     "output_type": "stream",
     "text": [
      "\n",
      "100%|██████████| 12/12 [00:00<?, ?it/s][A\n",
      "\n",
      "100%|██████████| 1/1 [00:00<?, ?it/s]\u001b[A\n",
      "\n",
      "100%|██████████| 12/12 [00:00<?, ?it/s][A\n",
      "157it [2:37:44, 18.81s/it]"
     ]
    },
    {
     "name": "stdout",
     "output_type": "stream",
     "text": [
      "Rv3822\n"
     ]
    },
    {
     "name": "stderr",
     "output_type": "stream",
     "text": [
      "158it [2:37:57, 17.31s/it]"
     ]
    },
    {
     "name": "stdout",
     "output_type": "stream",
     "text": [
      "Rv3823c\n"
     ]
    },
    {
     "name": "stderr",
     "output_type": "stream",
     "text": [
      "\n",
      "100%|██████████| 14/14 [00:00<?, ?it/s][A\n",
      "\n",
      "100%|██████████| 1/1 [00:00<?, ?it/s]\u001b[A\n",
      "\n",
      "100%|██████████| 14/14 [00:00<?, ?it/s][A\n",
      "159it [2:38:15, 17.67s/it]"
     ]
    },
    {
     "name": "stdout",
     "output_type": "stream",
     "text": [
      "Rv3824c\n"
     ]
    },
    {
     "name": "stderr",
     "output_type": "stream",
     "text": [
      "\n",
      "100%|██████████| 14/14 [00:00<?, ?it/s][A\n",
      "\n",
      "100%|██████████| 1/1 [00:00<?, ?it/s]\u001b[A\n",
      "\n",
      "100%|██████████| 14/14 [00:00<?, ?it/s][A\n",
      "160it [2:38:32, 17.52s/it]"
     ]
    },
    {
     "name": "stdout",
     "output_type": "stream",
     "text": [
      "Rv3825c\n"
     ]
    },
    {
     "name": "stderr",
     "output_type": "stream",
     "text": [
      "\n",
      "100%|██████████| 16/16 [00:00<?, ?it/s][A\n",
      "\n",
      "100%|██████████| 1/1 [00:00<?, ?it/s]\u001b[A\n",
      "\n",
      "100%|██████████| 16/16 [00:00<?, ?it/s][A\n",
      "\n",
      "100%|██████████| 12/12 [00:00<?, ?it/s][A\n",
      "\n",
      "100%|██████████| 1/1 [00:00<00:00, 999.60it/s]\n",
      "\n",
      "100%|██████████| 12/12 [00:00<?, ?it/s][A\n",
      "161it [2:39:22, 26.09s/it]"
     ]
    },
    {
     "name": "stdout",
     "output_type": "stream",
     "text": [
      "Rv3826\n"
     ]
    },
    {
     "name": "stderr",
     "output_type": "stream",
     "text": [
      "162it [2:39:33, 22.01s/it]"
     ]
    },
    {
     "name": "stdout",
     "output_type": "stream",
     "text": [
      "Rv3829c\n"
     ]
    },
    {
     "name": "stderr",
     "output_type": "stream",
     "text": [
      "\n",
      "100%|██████████| 169/169 [00:00<?, ?it/s]A\n",
      "\n",
      "100%|██████████| 1/1 [00:00<?, ?it/s]\u001b[A\n",
      "\n",
      "100%|██████████| 169/169 [00:00<?, ?it/s]A\n",
      "\n",
      "100%|██████████| 108/108 [00:00<?, ?it/s]A\n",
      "\n",
      "100%|██████████| 1/1 [00:00<?, ?it/s]\u001b[A\n",
      "\n",
      "100%|██████████| 108/108 [00:00<?, ?it/s]A\n",
      "165it [2:39:54, 13.77s/it]"
     ]
    },
    {
     "name": "stdout",
     "output_type": "stream",
     "text": [
      "Rv3830c\n"
     ]
    },
    {
     "name": "stderr",
     "output_type": "stream",
     "text": [
      "\n",
      "100%|██████████| 178/178 [00:00<00:00, 175296.11it/s]\n",
      "\n",
      "100%|██████████| 1/1 [00:00<00:00, 997.69it/s]\n",
      "\n",
      "100%|██████████| 178/178 [00:00<00:00, 177970.47it/s]\n",
      "\n",
      "100%|██████████| 111/111 [00:00<?, ?it/s]A\n",
      "\n",
      "100%|██████████| 1/1 [00:00<00:00, 998.64it/s]\n",
      "\n",
      "100%|██████████| 111/111 [00:00<?, ?it/s]A\n",
      "166it [2:40:24, 17.09s/it]"
     ]
    },
    {
     "name": "stdout",
     "output_type": "stream",
     "text": [
      "Rv3831\n"
     ]
    },
    {
     "name": "stderr",
     "output_type": "stream",
     "text": [
      "\n",
      "100%|██████████| 141/141 [00:00<?, ?it/s]A\n",
      "\n",
      "100%|██████████| 1/1 [00:00<?, ?it/s]\u001b[A\n",
      "\n",
      "100%|██████████| 141/141 [00:00<?, ?it/s]A\n",
      "\n",
      "100%|██████████| 86/86 [00:00<?, ?it/s][A\n",
      "\n",
      "100%|██████████| 1/1 [00:00<?, ?it/s]\u001b[A\n",
      "\n",
      "100%|██████████| 86/86 [00:00<?, ?it/s][A\n",
      "167it [2:40:51, 19.49s/it]"
     ]
    },
    {
     "name": "stdout",
     "output_type": "stream",
     "text": [
      "Rv3832c\n"
     ]
    },
    {
     "name": "stderr",
     "output_type": "stream",
     "text": [
      "\n",
      "100%|██████████| 97/97 [00:00<?, ?it/s][A\n",
      "\n",
      "100%|██████████| 1/1 [00:00<?, ?it/s]\u001b[A\n",
      "\n",
      "100%|██████████| 97/97 [00:00<00:00, 97030.17it/s]\n",
      "\n",
      "100%|██████████| 58/58 [00:00<?, ?it/s][A\n",
      "\n",
      "100%|██████████| 1/1 [00:00<?, ?it/s]\u001b[A\n",
      "\n",
      "100%|██████████| 58/58 [00:00<00:00, 58059.58it/s]\n",
      "168it [2:41:12, 19.73s/it]"
     ]
    },
    {
     "name": "stdout",
     "output_type": "stream",
     "text": [
      "Rv3833\n"
     ]
    },
    {
     "name": "stderr",
     "output_type": "stream",
     "text": [
      "\n",
      "100%|██████████| 28/28 [00:00<?, ?it/s][A\n",
      "\n",
      "100%|██████████| 1/1 [00:00<00:00, 1001.51it/s]\n",
      "\n",
      "100%|██████████| 28/28 [00:00<?, ?it/s][A\n",
      "\n",
      "100%|██████████| 18/18 [00:00<?, ?it/s][A\n",
      "\n",
      "100%|██████████| 1/1 [00:00<?, ?it/s]\u001b[A\n",
      "\n",
      "100%|██████████| 18/18 [00:00<?, ?it/s][A\n",
      "169it [2:41:32, 19.93s/it]"
     ]
    },
    {
     "name": "stdout",
     "output_type": "stream",
     "text": [
      "Rv3834c\n"
     ]
    },
    {
     "name": "stderr",
     "output_type": "stream",
     "text": [
      "\n",
      "100%|██████████| 214/214 [00:00<00:00, 105971.79it/s]\n",
      "\n",
      "100%|██████████| 1/1 [00:00<?, ?it/s]\u001b[A\n",
      "\n",
      "100%|██████████| 214/214 [00:00<00:00, 106854.89it/s]\n",
      "\n",
      "100%|██████████| 500/500 [00:00<00:00, 100045.42it/s]\n",
      "\n",
      "100%|██████████| 1/1 [00:00<00:00, 1000.79it/s]\n",
      "\n",
      "100%|██████████| 500/500 [00:00<00:00, 99983.41it/s]\n",
      "170it [2:43:08, 40.32s/it]"
     ]
    },
    {
     "name": "stdout",
     "output_type": "stream",
     "text": [
      "Rv3835\n"
     ]
    },
    {
     "name": "stderr",
     "output_type": "stream",
     "text": [
      "\n",
      "100%|██████████| 179/179 [00:00<00:00, 89591.94it/s]\n",
      "\n",
      "100%|██████████| 1/1 [00:00<?, ?it/s]\u001b[A\n",
      "\n",
      "100%|██████████| 179/179 [00:00<00:00, 89624.02it/s]\n",
      "\n",
      "100%|██████████| 110/110 [00:00<00:00, 110086.72it/s]\n",
      "\n",
      "100%|██████████| 1/1 [00:00<?, ?it/s]\u001b[A\n",
      "\n",
      "100%|██████████| 110/110 [00:00<00:00, 109981.75it/s]\n",
      "171it [2:43:49, 40.51s/it]"
     ]
    },
    {
     "name": "stdout",
     "output_type": "stream",
     "text": [
      "Rv3838c\n"
     ]
    },
    {
     "name": "stderr",
     "output_type": "stream",
     "text": [
      "\n",
      "100%|██████████| 201/201 [00:00<00:00, 100327.87it/s]\n",
      "\n",
      "100%|██████████| 1/1 [00:00<?, ?it/s]\u001b[A\n",
      "\n",
      "100%|██████████| 201/201 [00:00<00:00, 201062.51it/s]\n",
      "\n",
      "100%|██████████| 129/129 [00:00<00:00, 129070.90it/s]\n",
      "\n",
      "100%|██████████| 1/1 [00:00<?, ?it/s]\u001b[A\n",
      "\n",
      "100%|██████████| 129/129 [00:00<00:00, 128917.14it/s]\n",
      "174it [2:44:24, 24.82s/it]"
     ]
    },
    {
     "name": "stdout",
     "output_type": "stream",
     "text": [
      "Rv3839\n"
     ]
    },
    {
     "name": "stderr",
     "output_type": "stream",
     "text": [
      "\n",
      "100%|██████████| 157/157 [00:00<00:00, 157123.77it/s]\n",
      "\n",
      "100%|██████████| 1/1 [00:00<?, ?it/s]\u001b[A\n",
      "\n",
      "100%|██████████| 157/157 [00:00<00:00, 156377.52it/s]\n",
      "\n",
      "100%|██████████| 98/98 [00:00<00:00, 98689.51it/s]\n",
      "\n",
      "100%|██████████| 1/1 [00:00<?, ?it/s]\u001b[A\n",
      "\n",
      "100%|██████████| 98/98 [00:00<00:00, 97588.27it/s]\n",
      "175it [2:44:48, 24.70s/it]"
     ]
    },
    {
     "name": "stdout",
     "output_type": "stream",
     "text": [
      "Rv3841\n"
     ]
    },
    {
     "name": "stderr",
     "output_type": "stream",
     "text": [
      "\n",
      "100%|██████████| 147/147 [00:00<00:00, 73479.05it/s]\n",
      "\n",
      "100%|██████████| 1/1 [00:00<?, ?it/s]\u001b[A\n",
      "\n",
      "100%|██████████| 147/147 [00:00<00:00, 73330.48it/s]\n",
      "\n",
      "100%|██████████| 222/222 [00:00<00:00, 74005.36it/s]\n",
      "\n",
      "100%|██████████| 1/1 [00:00<?, ?it/s]\u001b[A\n",
      "\n",
      "100%|██████████| 222/222 [00:00<00:00, 72932.99it/s]\n",
      "177it [2:46:01, 28.98s/it]"
     ]
    },
    {
     "name": "stdout",
     "output_type": "stream",
     "text": [
      "Rv3843c\n"
     ]
    },
    {
     "name": "stderr",
     "output_type": "stream",
     "text": [
      "\n",
      "100%|██████████| 80/80 [00:00<00:00, 7999.44it/s]\n",
      "\n",
      "100%|██████████| 1/1 [00:00<?, ?it/s]\u001b[A\n",
      "\n",
      "100%|██████████| 80/80 [00:00<00:00, 7272.15it/s]\n",
      "\n",
      "100%|██████████| 45/45 [00:00<00:00, 6444.18it/s]\n",
      "\n",
      "100%|██████████| 1/1 [00:00<?, ?it/s]\u001b[A\n",
      "\n",
      "100%|██████████| 45/45 [00:00<00:00, 7500.54it/s]\n",
      "179it [3:35:59, 537.61s/it]"
     ]
    },
    {
     "name": "stdout",
     "output_type": "stream",
     "text": [
      "Rv3844\n"
     ]
    },
    {
     "name": "stderr",
     "output_type": "stream",
     "text": [
      "180it [3:36:08, 432.94s/it]"
     ]
    },
    {
     "name": "stdout",
     "output_type": "stream",
     "text": [
      "Rv3846\n"
     ]
    },
    {
     "name": "stderr",
     "output_type": "stream",
     "text": [
      "\n",
      "100%|██████████| 196/196 [00:00<00:00, 15667.09it/s]\n",
      "\n",
      "100%|██████████| 1/1 [00:00<?, ?it/s]\u001b[A\n",
      "\n",
      "100%|██████████| 196/196 [00:00<00:00, 16003.81it/s]\n",
      "\n",
      "100%|██████████| 475/475 [00:00<00:00, 16354.95it/s]\n",
      "\n",
      "100%|██████████| 1/1 [00:00<?, ?it/s]\u001b[A\n",
      "\n",
      "100%|██████████| 475/475 [00:00<00:00, 17690.73it/s]\n",
      "182it [4:12:42, 672.99s/it]"
     ]
    },
    {
     "name": "stdout",
     "output_type": "stream",
     "text": [
      "Rv3847\n"
     ]
    },
    {
     "name": "stderr",
     "output_type": "stream",
     "text": [
      "\n",
      "100%|██████████| 209/209 [00:00<00:00, 69983.20it/s]\n",
      "\n",
      "100%|██████████| 1/1 [00:00<?, ?it/s]\u001b[A\n",
      "\n",
      "100%|██████████| 209/209 [00:00<00:00, 104495.12it/s]\n",
      "\n",
      "100%|██████████| 198/198 [00:00<00:00, 99054.41it/s]\n",
      "\n",
      "100%|██████████| 1/1 [00:00<00:00, 1006.07it/s]\n",
      "\n",
      "100%|██████████| 198/198 [00:00<00:00, 66015.28it/s]\n",
      "183it [4:14:00, 550.86s/it]"
     ]
    },
    {
     "name": "stdout",
     "output_type": "stream",
     "text": [
      "Rv3848\n"
     ]
    },
    {
     "name": "stderr",
     "output_type": "stream",
     "text": [
      "\n",
      "100%|██████████| 85/85 [00:00<00:00, 85474.91it/s]\n",
      "\n",
      "100%|██████████| 1/1 [00:00<?, ?it/s]\u001b[A\n",
      "\n",
      "100%|██████████| 85/85 [00:00<00:00, 42543.66it/s]\n",
      "\n",
      "100%|██████████| 50/50 [00:00<00:00, 50003.62it/s]\n",
      "\n",
      "100%|██████████| 1/1 [00:00<?, ?it/s]\u001b[A\n",
      "\n",
      "100%|██████████| 50/50 [00:00<00:00, 50015.55it/s]\n",
      "184it [4:14:28, 432.38s/it]"
     ]
    },
    {
     "name": "stdout",
     "output_type": "stream",
     "text": [
      "Rv3849\n"
     ]
    },
    {
     "name": "stderr",
     "output_type": "stream",
     "text": [
      "\n",
      "100%|██████████| 209/209 [00:00<00:00, 69236.99it/s]\n",
      "\n",
      "100%|██████████| 1/1 [00:00<?, ?it/s]\u001b[A\n",
      "\n",
      "100%|██████████| 209/209 [00:00<00:00, 52244.44it/s]\n",
      "\n",
      "100%|██████████| 131/131 [00:00<00:00, 131072.00it/s]\n",
      "\n",
      "100%|██████████| 1/1 [00:00<?, ?it/s]\u001b[A\n",
      "\n",
      "100%|██████████| 131/131 [00:00<00:00, 65356.71it/s]\n",
      "185it [4:15:26, 340.78s/it]"
     ]
    },
    {
     "name": "stdout",
     "output_type": "stream",
     "text": [
      "Rv3850\n"
     ]
    },
    {
     "name": "stderr",
     "output_type": "stream",
     "text": [
      "\n",
      "100%|██████████| 201/201 [00:00<00:00, 201110.47it/s]\n",
      "\n",
      "100%|██████████| 1/1 [00:00<?, ?it/s]\u001b[A\n",
      "\n",
      "100%|██████████| 201/201 [00:00<00:00, 201254.50it/s]\n",
      "\n",
      "100%|██████████| 125/125 [00:00<00:00, 125009.06it/s]\n",
      "\n",
      "100%|██████████| 1/1 [00:00<?, ?it/s]\u001b[A\n",
      "\n",
      "100%|██████████| 125/125 [00:00<00:00, 120387.60it/s]\n",
      "186it [4:15:53, 259.50s/it]"
     ]
    },
    {
     "name": "stdout",
     "output_type": "stream",
     "text": [
      "Rv3852\n"
     ]
    },
    {
     "name": "stderr",
     "output_type": "stream",
     "text": [
      "\n",
      "100%|██████████| 14/14 [00:00<?, ?it/s][A\n",
      "\n",
      "100%|██████████| 1/1 [00:00<?, ?it/s]\u001b[A\n",
      "\n",
      "100%|██████████| 14/14 [00:00<?, ?it/s][A\n",
      "188it [4:16:07, 152.12s/it]"
     ]
    },
    {
     "name": "stdout",
     "output_type": "stream",
     "text": [
      "Rv3854c\n"
     ]
    },
    {
     "name": "stderr",
     "output_type": "stream",
     "text": [
      "\n",
      "100%|██████████| 206/206 [00:00<00:00, 206014.93it/s]\n",
      "\n",
      "100%|██████████| 1/1 [00:00<?, ?it/s]\u001b[A\n",
      "\n",
      "100%|██████████| 206/206 [00:00<00:00, 205965.82it/s]\n",
      "\n",
      "100%|██████████| 141/141 [00:00<?, ?it/s]A\n",
      "\n",
      "100%|██████████| 1/1 [00:00<?, ?it/s]\u001b[A\n",
      "\n",
      "100%|██████████| 141/141 [00:00<?, ?it/s]A\n",
      "190it [4:16:25, 97.91s/it] "
     ]
    },
    {
     "name": "stdout",
     "output_type": "stream",
     "text": [
      "Rv3855\n"
     ]
    },
    {
     "name": "stderr",
     "output_type": "stream",
     "text": [
      "\n",
      "100%|██████████| 165/165 [00:00<00:00, 170584.21it/s]\n",
      "\n",
      "100%|██████████| 1/1 [00:00<?, ?it/s]\u001b[A\n",
      "\n",
      "100%|██████████| 165/165 [00:00<00:00, 164345.80it/s]\n",
      "\n",
      "100%|██████████| 106/106 [00:00<00:00, 109264.25it/s]\n",
      "\n",
      "100%|██████████| 1/1 [00:00<?, ?it/s]\u001b[A\n",
      "\n",
      "100%|██████████| 106/106 [00:00<?, ?it/s]A\n",
      "191it [4:16:42, 80.80s/it]"
     ]
    },
    {
     "name": "stdout",
     "output_type": "stream",
     "text": [
      "Rv3857c\n"
     ]
    },
    {
     "name": "stderr",
     "output_type": "stream",
     "text": [
      "\n",
      "100%|██████████| 26/26 [00:00<?, ?it/s][A\n",
      "\n",
      "100%|██████████| 1/1 [00:00<?, ?it/s]\u001b[A\n",
      "\n",
      "100%|██████████| 26/26 [00:00<?, ?it/s][A\n",
      "\n",
      "100%|██████████| 11/11 [00:00<?, ?it/s][A\n",
      "\n",
      "100%|██████████| 1/1 [00:00<?, ?it/s]\u001b[A\n",
      "\n",
      "100%|██████████| 11/11 [00:00<?, ?it/s][A\n",
      "193it [4:17:18, 57.00s/it]"
     ]
    },
    {
     "name": "stdout",
     "output_type": "stream",
     "text": [
      "Rv3859c\n"
     ]
    },
    {
     "name": "stderr",
     "output_type": "stream",
     "text": [
      "\n",
      "100%|██████████| 214/214 [00:00<00:00, 23781.39it/s]\n",
      "\n",
      "100%|██████████| 1/1 [00:00<?, ?it/s]\u001b[A\n",
      "\n",
      "100%|██████████| 210/210 [00:00<00:00, 26258.95it/s]\n",
      "\n",
      "100%|██████████| 500/500 [00:00<00:00, 26011.83it/s]\n",
      "\n",
      "100%|██████████| 1/1 [00:00<?, ?it/s]\u001b[A\n",
      "\n",
      "100%|██████████| 499/499 [00:00<00:00, 27723.13it/s]\n",
      "195it [4:36:18, 236.87s/it]"
     ]
    },
    {
     "name": "stdout",
     "output_type": "stream",
     "text": [
      "Rv3860\n"
     ]
    },
    {
     "name": "stderr",
     "output_type": "stream",
     "text": [
      "\n",
      "100%|██████████| 119/119 [00:00<00:00, 29746.84it/s]\n",
      "\n",
      "100%|██████████| 1/1 [00:00<?, ?it/s]\u001b[A\n",
      "\n",
      "100%|██████████| 109/109 [00:00<00:00, 27299.17it/s]\n",
      "\n",
      "100%|██████████| 71/71 [00:00<00:00, 24019.65it/s]\n",
      "\n",
      "100%|██████████| 1/1 [00:00<?, ?it/s]\u001b[A\n",
      "\n",
      "100%|██████████| 71/71 [00:00<00:00, 35788.44it/s]\n",
      "196it [4:42:40, 266.02s/it]"
     ]
    },
    {
     "name": "stdout",
     "output_type": "stream",
     "text": [
      "Rv3862c\n"
     ]
    },
    {
     "name": "stderr",
     "output_type": "stream",
     "text": [
      "\n",
      "100%|██████████| 147/147 [00:00<00:00, 48267.00it/s]\n",
      "\n",
      "100%|██████████| 1/1 [00:00<?, ?it/s]\u001b[A\n",
      "\n",
      "100%|██████████| 147/147 [00:00<00:00, 48494.78it/s]\n",
      "\n",
      "100%|██████████| 92/92 [00:00<00:00, 45943.08it/s]\n",
      "\n",
      "100%|██████████| 1/1 [00:00<?, ?it/s]\u001b[A\n",
      "\n",
      "100%|██████████| 92/92 [00:00<00:00, 45970.45it/s]\n",
      "198it [4:44:29, 188.95s/it]"
     ]
    },
    {
     "name": "stdout",
     "output_type": "stream",
     "text": [
      "Rv3863\n"
     ]
    },
    {
     "name": "stderr",
     "output_type": "stream",
     "text": [
      "\n",
      "100%|██████████| 115/115 [00:00<00:00, 56454.23it/s]\n",
      "\n",
      "100%|██████████| 1/1 [00:00<?, ?it/s]\u001b[A\n",
      "\n",
      "100%|██████████| 115/115 [00:00<00:00, 57517.88it/s]\n",
      "\n",
      "100%|██████████| 71/71 [00:00<00:00, 73439.11it/s]\n",
      "\n",
      "100%|██████████| 1/1 [00:00<?, ?it/s]\u001b[A\n",
      "\n",
      "100%|██████████| 71/71 [00:00<00:00, 36210.55it/s]\n",
      "199it [4:45:34, 163.32s/it]"
     ]
    },
    {
     "name": "stdout",
     "output_type": "stream",
     "text": [
      "Rv3864\n"
     ]
    },
    {
     "name": "stderr",
     "output_type": "stream",
     "text": [
      "\n",
      "100%|██████████| 26/26 [00:00<?, ?it/s][A\n",
      "\n",
      "100%|██████████| 1/1 [00:00<?, ?it/s]\u001b[A\n",
      "\n",
      "100%|██████████| 26/26 [00:00<00:00, 25915.38it/s]\n",
      "\n",
      "100%|██████████| 16/16 [00:00<?, ?it/s][A\n",
      "\n",
      "100%|██████████| 1/1 [00:00<?, ?it/s]\u001b[A\n",
      "\n",
      "100%|██████████| 16/16 [00:00<?, ?it/s][A\n",
      "200it [4:46:28, 138.63s/it]"
     ]
    },
    {
     "name": "stdout",
     "output_type": "stream",
     "text": [
      "Rv3865\n"
     ]
    },
    {
     "name": "stderr",
     "output_type": "stream",
     "text": [
      "\n",
      "100%|██████████| 26/26 [00:00<?, ?it/s][A\n",
      "\n",
      "100%|██████████| 1/1 [00:00<?, ?it/s]\u001b[A\n",
      "\n",
      "100%|██████████| 26/26 [00:00<?, ?it/s][A\n",
      "\n",
      "100%|██████████| 16/16 [00:00<?, ?it/s][A\n",
      "\n",
      "100%|██████████| 1/1 [00:00<?, ?it/s]\u001b[A\n",
      "\n",
      "100%|██████████| 16/16 [00:00<?, ?it/s][A\n",
      "201it [4:46:43, 108.20s/it]"
     ]
    },
    {
     "name": "stdout",
     "output_type": "stream",
     "text": [
      "Rv3867\n"
     ]
    },
    {
     "name": "stderr",
     "output_type": "stream",
     "text": [
      "\n",
      "100%|██████████| 27/27 [00:00<?, ?it/s][A\n",
      "\n",
      "100%|██████████| 1/1 [00:00<?, ?it/s]\u001b[A\n",
      "\n",
      "100%|██████████| 27/27 [00:00<?, ?it/s][A\n",
      "\n",
      "100%|██████████| 17/17 [00:00<?, ?it/s][A\n",
      "\n",
      "100%|██████████| 1/1 [00:00<?, ?it/s]\u001b[A\n",
      "\n",
      "100%|██████████| 17/17 [00:00<?, ?it/s][A\n",
      "203it [4:46:57, 66.58s/it] "
     ]
    },
    {
     "name": "stdout",
     "output_type": "stream",
     "text": [
      "Rv3871\n"
     ]
    },
    {
     "name": "stderr",
     "output_type": "stream",
     "text": [
      "\n",
      "100%|██████████| 115/115 [00:00<?, ?it/s]A\n",
      "\n",
      "100%|██████████| 1/1 [00:00<?, ?it/s]\u001b[A\n",
      "\n",
      "100%|██████████| 115/115 [00:00<00:00, 115587.10it/s]\n",
      "\n",
      "100%|██████████| 75/75 [00:00<00:00, 74898.29it/s]\n",
      "\n",
      "100%|██████████| 1/1 [00:00<?, ?it/s]\u001b[A\n",
      "\n",
      "100%|██████████| 75/75 [00:00<?, ?it/s][A\n",
      "207it [4:47:17, 33.15s/it]"
     ]
    },
    {
     "name": "stdout",
     "output_type": "stream",
     "text": [
      "Rv3872\n"
     ]
    },
    {
     "name": "stderr",
     "output_type": "stream",
     "text": [
      "\n",
      "100%|██████████| 15/15 [00:00<?, ?it/s][A\n",
      "\n",
      "100%|██████████| 1/1 [00:00<?, ?it/s]\u001b[A\n",
      "\n",
      "100%|██████████| 15/15 [00:00<?, ?it/s][A\n",
      "208it [4:47:36, 30.93s/it]"
     ]
    },
    {
     "name": "stdout",
     "output_type": "stream",
     "text": [
      "Rv3873\n"
     ]
    },
    {
     "name": "stderr",
     "output_type": "stream",
     "text": [
      "\n",
      "100%|██████████| 60/60 [00:00<?, ?it/s][A\n",
      "\n",
      "100%|██████████| 1/1 [00:00<?, ?it/s]\u001b[A\n",
      "\n",
      "100%|██████████| 60/60 [00:00<?, ?it/s][A\n",
      "\n",
      "100%|██████████| 37/37 [00:00<?, ?it/s][A\n",
      "\n",
      "100%|██████████| 1/1 [00:00<?, ?it/s]\u001b[A\n",
      "\n",
      "100%|██████████| 37/37 [00:00<?, ?it/s][A\n",
      "209it [4:47:48, 27.46s/it]"
     ]
    },
    {
     "name": "stdout",
     "output_type": "stream",
     "text": [
      "Rv3874\n"
     ]
    },
    {
     "name": "stderr",
     "output_type": "stream",
     "text": [
      "\n",
      "100%|██████████| 62/62 [00:00<?, ?it/s][A\n",
      "\n",
      "100%|██████████| 1/1 [00:00<?, ?it/s]\u001b[A\n",
      "\n",
      "100%|██████████| 62/62 [00:00<?, ?it/s][A\n",
      "\n",
      "100%|██████████| 38/38 [00:00<?, ?it/s][A\n",
      "\n",
      "100%|██████████| 1/1 [00:00<?, ?it/s]\u001b[A\n",
      "\n",
      "100%|██████████| 38/38 [00:00<00:00, 37804.45it/s]\n",
      "210it [4:48:06, 25.39s/it]"
     ]
    },
    {
     "name": "stdout",
     "output_type": "stream",
     "text": [
      "Rv3875\n"
     ]
    },
    {
     "name": "stderr",
     "output_type": "stream",
     "text": [
      "\n",
      "100%|██████████| 90/90 [00:00<?, ?it/s][A\n",
      "\n",
      "100%|██████████| 1/1 [00:00<?, ?it/s]\u001b[A\n",
      "\n",
      "100%|██████████| 90/90 [00:00<?, ?it/s][A\n",
      "\n",
      "100%|██████████| 60/60 [00:00<?, ?it/s][A\n",
      "\n",
      "100%|██████████| 1/1 [00:00<?, ?it/s]\u001b[A\n",
      "\n",
      "100%|██████████| 60/60 [00:00<?, ?it/s][A\n",
      "211it [4:48:21, 22.87s/it]"
     ]
    },
    {
     "name": "stdout",
     "output_type": "stream",
     "text": [
      "Rv3876\n"
     ]
    },
    {
     "name": "stderr",
     "output_type": "stream",
     "text": [
      "\n",
      "100%|██████████| 95/95 [00:00<?, ?it/s][A\n",
      "\n",
      "100%|██████████| 1/1 [00:00<?, ?it/s]\u001b[A\n",
      "\n",
      "100%|██████████| 93/93 [00:00<?, ?it/s][A\n",
      "\n",
      "100%|██████████| 63/63 [00:00<00:00, 67425.66it/s]\n",
      "\n",
      "100%|██████████| 1/1 [00:00<?, ?it/s]\u001b[A\n",
      "\n",
      "100%|██████████| 63/63 [00:00<?, ?it/s][A\n",
      "212it [4:48:44, 22.97s/it]"
     ]
    },
    {
     "name": "stdout",
     "output_type": "stream",
     "text": [
      "Rv3878\n"
     ]
    },
    {
     "name": "stderr",
     "output_type": "stream",
     "text": [
      "214it [4:48:54, 15.51s/it]"
     ]
    },
    {
     "name": "stdout",
     "output_type": "stream",
     "text": [
      "Rv3879c\n"
     ]
    },
    {
     "name": "stderr",
     "output_type": "stream",
     "text": [
      "\n",
      "100%|██████████| 14/14 [00:00<?, ?it/s][A\n",
      "\n",
      "100%|██████████| 1/1 [00:00<?, ?it/s]\u001b[A\n",
      "\n",
      "100%|██████████| 14/14 [00:00<?, ?it/s][A\n",
      "215it [4:49:05, 14.55s/it]"
     ]
    },
    {
     "name": "stdout",
     "output_type": "stream",
     "text": [
      "Rv3881c\n"
     ]
    },
    {
     "name": "stderr",
     "output_type": "stream",
     "text": [
      "\n",
      "100%|██████████| 25/25 [00:00<?, ?it/s][A\n",
      "\n",
      "100%|██████████| 1/1 [00:00<?, ?it/s]\u001b[A\n",
      "\n",
      "100%|██████████| 25/25 [00:00<?, ?it/s][A\n",
      "\n",
      "100%|██████████| 16/16 [00:00<?, ?it/s][A\n",
      "\n",
      "100%|██████████| 1/1 [00:00<?, ?it/s]\u001b[A\n",
      "\n",
      "100%|██████████| 16/16 [00:00<?, ?it/s][A\n",
      "217it [4:49:25, 12.71s/it]"
     ]
    },
    {
     "name": "stdout",
     "output_type": "stream",
     "text": [
      "Rv3883c\n"
     ]
    },
    {
     "name": "stderr",
     "output_type": "stream",
     "text": [
      "\n",
      "100%|██████████| 119/119 [00:00<00:00, 118923.56it/s]\n",
      "\n",
      "100%|██████████| 1/1 [00:00<?, ?it/s]\u001b[A\n",
      "\n",
      "100%|██████████| 119/119 [00:00<00:00, 121826.26it/s]\n",
      "\n",
      "100%|██████████| 76/76 [00:00<00:00, 76205.38it/s]\n",
      "\n",
      "100%|██████████| 1/1 [00:00<?, ?it/s]\u001b[A\n",
      "\n",
      "100%|██████████| 76/76 [00:00<00:00, 78436.79it/s]\n",
      "219it [4:50:22, 18.39s/it]"
     ]
    },
    {
     "name": "stdout",
     "output_type": "stream",
     "text": [
      "Rv3884c\n"
     ]
    },
    {
     "name": "stderr",
     "output_type": "stream",
     "text": [
      "\n",
      "100%|██████████| 100/100 [00:00<00:00, 100703.58it/s]\n",
      "\n",
      "100%|██████████| 1/1 [00:00<00:00, 1001.98it/s]\n",
      "\n",
      "100%|██████████| 100/100 [00:00<?, ?it/s]A\n",
      "\n",
      "100%|██████████| 63/63 [00:00<?, ?it/s][A\n",
      "\n",
      "100%|██████████| 1/1 [00:00<00:00, 998.64it/s]\n",
      "\n",
      "100%|██████████| 63/63 [00:00<?, ?it/s][A\n",
      "220it [4:50:39, 18.21s/it]"
     ]
    },
    {
     "name": "stdout",
     "output_type": "stream",
     "text": [
      "Rv3888c\n"
     ]
    },
    {
     "name": "stderr",
     "output_type": "stream",
     "text": [
      "\n",
      "100%|██████████| 87/87 [00:00<?, ?it/s][A\n",
      "\n",
      "100%|██████████| 1/1 [00:00<?, ?it/s]\u001b[A\n",
      "\n",
      "100%|██████████| 87/87 [00:00<?, ?it/s][A\n",
      "\n",
      "100%|██████████| 53/53 [00:00<?, ?it/s][A\n",
      "\n",
      "100%|██████████| 1/1 [00:00<?, ?it/s]\u001b[A\n",
      "\n",
      "100%|██████████| 53/53 [00:00<?, ?it/s][A\n",
      "224it [4:50:56, 10.59s/it]"
     ]
    },
    {
     "name": "stdout",
     "output_type": "stream",
     "text": [
      "Rv3889c\n"
     ]
    },
    {
     "name": "stderr",
     "output_type": "stream",
     "text": [
      "\n",
      "100%|██████████| 56/56 [00:00<?, ?it/s][A\n",
      "\n",
      "100%|██████████| 1/1 [00:00<?, ?it/s]\u001b[A\n",
      "\n",
      "100%|██████████| 56/56 [00:00<?, ?it/s][A\n",
      "\n",
      "100%|██████████| 34/34 [00:00<?, ?it/s][A\n",
      "\n",
      "100%|██████████| 1/1 [00:00<?, ?it/s]\u001b[A\n",
      "\n",
      "100%|██████████| 34/34 [00:00<?, ?it/s][A\n",
      "225it [4:51:11, 11.26s/it]"
     ]
    },
    {
     "name": "stdout",
     "output_type": "stream",
     "text": [
      "Rv3890c\n"
     ]
    },
    {
     "name": "stderr",
     "output_type": "stream",
     "text": [
      "\n",
      "100%|██████████| 56/56 [00:00<?, ?it/s][A\n",
      "\n",
      "100%|██████████| 1/1 [00:00<?, ?it/s]\u001b[A\n",
      "\n",
      "100%|██████████| 56/56 [00:00<00:00, 56004.06it/s]\n",
      "\n",
      "100%|██████████| 33/33 [00:00<?, ?it/s][A\n",
      "\n",
      "100%|██████████| 1/1 [00:00<?, ?it/s]\u001b[A\n",
      "\n",
      "100%|██████████| 33/33 [00:00<?, ?it/s][A\n",
      "226it [4:51:26, 12.10s/it]"
     ]
    },
    {
     "name": "stdout",
     "output_type": "stream",
     "text": [
      "Rv3891c\n"
     ]
    },
    {
     "name": "stderr",
     "output_type": "stream",
     "text": [
      "\n",
      "100%|██████████| 43/43 [00:00<?, ?it/s][A\n",
      "\n",
      "100%|██████████| 1/1 [00:00<?, ?it/s]\u001b[A\n",
      "\n",
      "100%|██████████| 43/43 [00:00<?, ?it/s][A\n",
      "\n",
      "100%|██████████| 26/26 [00:00<?, ?it/s][A\n",
      "\n",
      "100%|██████████| 1/1 [00:00<?, ?it/s]\u001b[A\n",
      "\n",
      "100%|██████████| 26/26 [00:00<?, ?it/s][A\n",
      "227it [4:51:47, 13.93s/it]"
     ]
    },
    {
     "name": "stdout",
     "output_type": "stream",
     "text": [
      "Rv3892c\n"
     ]
    },
    {
     "name": "stderr",
     "output_type": "stream",
     "text": [
      "\n",
      "100%|██████████| 42/42 [00:00<?, ?it/s][A\n",
      "\n",
      "100%|██████████| 1/1 [00:00<?, ?it/s]\u001b[A\n",
      "\n",
      "100%|██████████| 42/42 [00:00<?, ?it/s][A\n",
      "\n",
      "100%|██████████| 26/26 [00:00<?, ?it/s][A\n",
      "\n",
      "100%|██████████| 1/1 [00:00<?, ?it/s]\u001b[A\n",
      "\n",
      "100%|██████████| 26/26 [00:00<?, ?it/s][A\n",
      "228it [4:52:04, 14.53s/it]"
     ]
    },
    {
     "name": "stdout",
     "output_type": "stream",
     "text": [
      "Rv3893c\n"
     ]
    },
    {
     "name": "stderr",
     "output_type": "stream",
     "text": [
      "\n",
      "100%|██████████| 29/29 [00:00<?, ?it/s][A\n",
      "\n",
      "100%|██████████| 1/1 [00:00<?, ?it/s]\u001b[A\n",
      "\n",
      "100%|██████████| 29/29 [00:00<00:00, 28796.12it/s]\n",
      "\n",
      "100%|██████████| 21/21 [00:00<?, ?it/s][A\n",
      "\n",
      "100%|██████████| 1/1 [00:00<?, ?it/s]\u001b[A\n",
      "\n",
      "100%|██████████| 21/21 [00:00<?, ?it/s][A\n",
      "229it [4:52:41, 20.28s/it]"
     ]
    },
    {
     "name": "stdout",
     "output_type": "stream",
     "text": [
      "Rv3896c\n"
     ]
    },
    {
     "name": "stderr",
     "output_type": "stream",
     "text": [
      "\n",
      "100%|██████████| 47/47 [00:00<?, ?it/s][A\n",
      "\n",
      "100%|██████████| 1/1 [00:00<?, ?it/s]\u001b[A\n",
      "\n",
      "100%|██████████| 47/47 [00:00<?, ?it/s][A\n",
      "\n",
      "100%|██████████| 97/97 [00:00<00:00, 98391.17it/s]\n",
      "\n",
      "100%|██████████| 1/1 [00:00<00:00, 1025.00it/s]\n",
      "\n",
      "100%|██████████| 96/96 [00:00<00:00, 92585.23it/s]\n",
      "232it [4:53:02, 13.40s/it]"
     ]
    },
    {
     "name": "stdout",
     "output_type": "stream",
     "text": [
      "Rv3898c\n"
     ]
    },
    {
     "name": "stderr",
     "output_type": "stream",
     "text": [
      "234it [4:53:12, 10.60s/it]"
     ]
    },
    {
     "name": "stdout",
     "output_type": "stream",
     "text": [
      "Rv3900c\n"
     ]
    },
    {
     "name": "stderr",
     "output_type": "stream",
     "text": [
      "236it [4:53:22,  8.81s/it]"
     ]
    },
    {
     "name": "stdout",
     "output_type": "stream",
     "text": [
      "Rv3901c\n"
     ]
    },
    {
     "name": "stderr",
     "output_type": "stream",
     "text": [
      "237it [4:53:32,  9.00s/it]"
     ]
    },
    {
     "name": "stdout",
     "output_type": "stream",
     "text": [
      "Rv3905c\n"
     ]
    },
    {
     "name": "stderr",
     "output_type": "stream",
     "text": [
      "\n",
      "100%|██████████| 61/61 [00:00<00:00, 62863.03it/s]\n",
      "\n",
      "100%|██████████| 1/1 [00:00<?, ?it/s]\u001b[A\n",
      "\n",
      "100%|██████████| 61/61 [00:00<?, ?it/s][A\n",
      "\n",
      "100%|██████████| 35/35 [00:00<?, ?it/s][A\n",
      "\n",
      "100%|██████████| 1/1 [00:00<?, ?it/s]\u001b[A\n",
      "\n",
      "100%|██████████| 35/35 [00:00<?, ?it/s][A\n",
      "241it [4:53:49,  6.61s/it]"
     ]
    },
    {
     "name": "stdout",
     "output_type": "stream",
     "text": [
      "Rv3907c\n"
     ]
    },
    {
     "name": "stderr",
     "output_type": "stream",
     "text": [
      "\n",
      "100%|██████████| 215/215 [00:00<00:00, 42675.47it/s]\n",
      "\n",
      "100%|██████████| 1/1 [00:00<?, ?it/s]\u001b[A\n",
      "\n",
      "100%|██████████| 214/214 [00:00<00:00, 42476.98it/s]\n",
      "\n",
      "100%|██████████| 500/500 [00:00<00:00, 38371.43it/s]\n",
      "\n",
      "100%|██████████| 1/1 [00:00<?, ?it/s]\u001b[A\n",
      "\n",
      "100%|██████████| 500/500 [00:00<00:00, 41735.20it/s]\n",
      "243it [5:02:07, 71.75s/it]"
     ]
    },
    {
     "name": "stdout",
     "output_type": "stream",
     "text": [
      "Rv3908\n"
     ]
    },
    {
     "name": "stderr",
     "output_type": "stream",
     "text": [
      "\n",
      "100%|██████████| 209/209 [00:00<00:00, 41805.02it/s]\n",
      "\n",
      "100%|██████████| 1/1 [00:00<?, ?it/s]\u001b[A\n",
      "\n",
      "100%|██████████| 207/207 [00:00<00:00, 41424.73it/s]\n",
      "\n",
      "100%|██████████| 396/396 [00:00<00:00, 41568.30it/s]\n",
      "\n",
      "100%|██████████| 1/1 [00:00<?, ?it/s]\u001b[A\n",
      "\n",
      "100%|██████████| 395/395 [00:00<00:00, 43876.96it/s]\n",
      "244it [5:10:46, 143.94s/it]"
     ]
    },
    {
     "name": "stdout",
     "output_type": "stream",
     "text": [
      "Rv3911\n"
     ]
    },
    {
     "name": "stderr",
     "output_type": "stream",
     "text": [
      "\n",
      "100%|██████████| 188/188 [00:00<?, ?it/s]A\n",
      "\n",
      "100%|██████████| 1/1 [00:00<?, ?it/s]\u001b[A\n",
      "\n",
      "100%|██████████| 188/188 [00:00<?, ?it/s]A\n",
      "\n",
      "100%|██████████| 122/122 [00:00<?, ?it/s]A\n",
      "\n",
      "100%|██████████| 1/1 [00:00<?, ?it/s]\u001b[A\n",
      "\n",
      "100%|██████████| 122/122 [00:00<?, ?it/s]A\n",
      "247it [5:11:00, 87.05s/it] "
     ]
    },
    {
     "name": "stdout",
     "output_type": "stream",
     "text": [
      "Rv3913\n"
     ]
    },
    {
     "name": "stderr",
     "output_type": "stream",
     "text": [
      "\n",
      "100%|██████████| 213/213 [00:00<00:00, 106292.30it/s]\n",
      "\n",
      "100%|██████████| 1/1 [00:00<?, ?it/s]\u001b[A\n",
      "\n",
      "100%|██████████| 209/209 [00:00<00:00, 201797.78it/s]\n",
      "\n",
      "100%|██████████| 473/473 [00:00<00:00, 151755.97it/s]\n",
      "\n",
      "100%|██████████| 1/1 [00:00<?, ?it/s]\u001b[A\n",
      "\n",
      "100%|██████████| 473/473 [00:00<00:00, 157103.72it/s]\n",
      "249it [5:12:36, 76.04s/it]"
     ]
    },
    {
     "name": "stdout",
     "output_type": "stream",
     "text": [
      "Rv3915\n"
     ]
    },
    {
     "name": "stderr",
     "output_type": "stream",
     "text": [
      "\n",
      "100%|██████████| 215/215 [00:00<00:00, 215066.86it/s]\n",
      "\n",
      "100%|██████████| 1/1 [00:00<?, ?it/s]\u001b[A\n",
      "\n",
      "100%|██████████| 215/215 [00:00<00:00, 142280.74it/s]\n",
      "\n",
      "100%|██████████| 215/215 [00:00<00:00, 214708.42it/s]\n",
      "\n",
      "100%|██████████| 1/1 [00:00<?, ?it/s]\u001b[A\n",
      "\n",
      "100%|██████████| 215/215 [00:00<00:00, 213944.33it/s]\n",
      "251it [5:13:11, 59.30s/it]"
     ]
    },
    {
     "name": "stdout",
     "output_type": "stream",
     "text": [
      "Rv3916c\n"
     ]
    },
    {
     "name": "stderr",
     "output_type": "stream",
     "text": [
      "\n",
      "100%|██████████| 190/190 [00:00<00:00, 47946.44it/s]\n",
      "\n",
      "100%|██████████| 1/1 [00:00<?, ?it/s]\u001b[A\n",
      "\n",
      "100%|██████████| 190/190 [00:00<00:00, 62498.45it/s]\n",
      "\n",
      "100%|██████████| 120/120 [00:00<00:00, 60025.82it/s]\n",
      "\n",
      "100%|██████████| 1/1 [00:00<?, ?it/s]\u001b[A\n",
      "\n",
      "100%|██████████| 120/120 [00:00<00:00, 60154.95it/s]\n",
      "252it [5:14:28, 62.35s/it]"
     ]
    },
    {
     "name": "stdout",
     "output_type": "stream",
     "text": [
      "Rv3919c\n"
     ]
    },
    {
     "name": "stderr",
     "output_type": "stream",
     "text": [
      "\n",
      "100%|██████████| 202/202 [00:00<00:00, 101212.45it/s]\n",
      "\n",
      "100%|██████████| 1/1 [00:00<?, ?it/s]\u001b[A\n",
      "\n",
      "100%|██████████| 202/202 [00:00<00:00, 99664.68it/s]\n",
      "\n",
      "100%|██████████| 126/126 [00:00<00:00, 125321.86it/s]\n",
      "\n",
      "100%|██████████| 1/1 [00:00<?, ?it/s]\u001b[A\n",
      "\n",
      "100%|██████████| 126/126 [00:00<00:00, 231081.02it/s]\n",
      "255it [5:14:53, 39.59s/it]"
     ]
    },
    {
     "name": "stdout",
     "output_type": "stream",
     "text": [
      "Rv3920c\n"
     ]
    },
    {
     "name": "stderr",
     "output_type": "stream",
     "text": [
      "\n",
      "100%|██████████| 213/213 [00:00<00:00, 213167.92it/s]\n",
      "\n",
      "100%|██████████| 1/1 [00:00<?, ?it/s]\u001b[A\n",
      "\n",
      "100%|██████████| 213/213 [00:00<00:00, 213269.69it/s]\n",
      "\n",
      "100%|██████████| 498/498 [00:00<00:00, 124858.83it/s]\n",
      "\n",
      "100%|██████████| 1/1 [00:00<?, ?it/s]\u001b[A\n",
      "\n",
      "100%|██████████| 498/498 [00:00<00:00, 166038.43it/s]\n",
      "259it [5:16:11, 73.25s/it]\n"
     ]
    },
    {
     "ename": "IndexError",
     "evalue": "list index out of range",
     "output_type": "error",
     "traceback": [
      "\u001b[1;31m---------------------------------------------------------------------------\u001b[0m",
      "\u001b[1;31mIndexError\u001b[0m                                Traceback (most recent call last)",
      "\u001b[1;32m~\\AppData\\Local\\Temp/ipykernel_13136/3532535485.py\u001b[0m in \u001b[0;36m<module>\u001b[1;34m\u001b[0m\n\u001b[0;32m      8\u001b[0m         \u001b[0moffset\u001b[0m \u001b[1;33m=\u001b[0m \u001b[0mlocation\u001b[0m\u001b[1;33m[\u001b[0m\u001b[1;36m0\u001b[0m\u001b[1;33m]\u001b[0m \u001b[1;33m-\u001b[0m \u001b[0mupstream_cds_stop\u001b[0m\u001b[1;33m\u001b[0m\u001b[1;33m\u001b[0m\u001b[0m\n\u001b[0;32m      9\u001b[0m     \u001b[1;32melse\u001b[0m\u001b[1;33m:\u001b[0m\u001b[1;33m\u001b[0m\u001b[1;33m\u001b[0m\u001b[0m\n\u001b[1;32m---> 10\u001b[1;33m         \u001b[0mupstream_cds_stop\u001b[0m \u001b[1;33m=\u001b[0m \u001b[0mlocations_dict_1\u001b[0m\u001b[1;33m[\u001b[0m\u001b[0mtb_species\u001b[0m \u001b[1;33m+\u001b[0m \u001b[1;34m'@'\u001b[0m \u001b[1;33m+\u001b[0m \u001b[0mtb_loci\u001b[0m\u001b[1;33m[\u001b[0m\u001b[0mn\u001b[0m\u001b[1;33m+\u001b[0m\u001b[1;36m1\u001b[0m\u001b[1;33m]\u001b[0m\u001b[1;33m]\u001b[0m\u001b[1;33m[\u001b[0m\u001b[1;36m0\u001b[0m\u001b[1;33m]\u001b[0m\u001b[1;33m\u001b[0m\u001b[1;33m\u001b[0m\u001b[0m\n\u001b[0m\u001b[0;32m     11\u001b[0m         \u001b[0moffset\u001b[0m \u001b[1;33m=\u001b[0m \u001b[0mupstream_cds_stop\u001b[0m \u001b[1;33m-\u001b[0m \u001b[0mlocation\u001b[0m\u001b[1;33m[\u001b[0m\u001b[1;36m1\u001b[0m\u001b[1;33m]\u001b[0m\u001b[1;33m\u001b[0m\u001b[1;33m\u001b[0m\u001b[0m\n\u001b[0;32m     12\u001b[0m \u001b[1;33m\u001b[0m\u001b[0m\n",
      "\u001b[1;31mIndexError\u001b[0m: list index out of range"
     ]
    }
   ],
   "source": [
    "for n, locus in tqdm(enumerate(tb_loci)):\n",
    "    target_locus = tb_species+ '@' + locus \n",
    "    location = locations_dict_1[target_locus] \n",
    "    if n == 0:\n",
    "        continue\n",
    "    if location[2] == 1:\n",
    "        upstream_cds_stop = locations_dict_1[tb_species + '@' + tb_loci[n-1]][1]\n",
    "        offset = location[0] - upstream_cds_stop\n",
    "    else:\n",
    "        upstream_cds_stop = locations_dict_1[tb_species + '@' + tb_loci[n+1]][0]\n",
    "        offset = upstream_cds_stop - location[1]\n",
    "\n",
    "    if offset < 30:\n",
    "        continue\n",
    "    else:\n",
    "        print(locus)\n",
    "        generate_alignment(locus, offset, 1)\n",
    "        generate_alignment(locus, offset, 2)"
   ]
  },
  {
   "cell_type": "markdown",
   "id": "2ed11372-e465-4519-883e-85b46b6e8cad",
   "metadata": {},
   "source": [
    "#### Extract covariation information to identify potentially significant regions"
   ]
  },
  {
   "cell_type": "code",
   "execution_count": 33,
   "id": "d47c776f-9647-4d9d-97fc-df4e05cb569e",
   "metadata": {},
   "outputs": [
    {
     "data": {
      "text/plain": [
       "[('Rv0020c', 48, 0.0),\n",
       " ('Rv0244c', 30, 0.0),\n",
       " ('Rv0440', 15, 0.0),\n",
       " ('Rv0634B', 40, 0.0),\n",
       " ('Rv0651', 28, 0.0),\n",
       " ('Rv0667', 132, 0.0),\n",
       " ('Rv0700', 13, 0.0),\n",
       " ('Rv0884c', 22, 0.0),\n",
       " ('Rv1133c', 29, 0.0),\n",
       " ('Rv1297', 11, 0.0),\n",
       " ('Rv1449c', 59, 0.0),\n",
       " ('Rv1626', 17, 0.0),\n",
       " ('Rv1629', 11, 0.0),\n",
       " ('Rv1652', 98, 0.0),\n",
       " ('Rv1766', 11, 8.026135311922644e-12),\n",
       " ('Rv2097c', 38, 0.0),\n",
       " ('Rv2124c', 12, 0.0),\n",
       " ('Rv2166c', 155, 0.0),\n",
       " ('Rv2193', 26, 0.0),\n",
       " ('Rv2243', 15, 0.0),\n",
       " ('Rv2442c', 13, 0.0),\n",
       " ('Rv2637', 11, 0.0),\n",
       " ('Rv2783c', 21, 0.0),\n",
       " ('Rv2785c', 19, 0.0),\n",
       " ('Rv2890c', 16, 0.0),\n",
       " ('Rv3003c', 38, 0.0),\n",
       " ('Rv3025c', 15, 0.0),\n",
       " ('Rv3223c', 27, 0.0),\n",
       " ('Rv3260c', 12, 5.806466418789569e-14),\n",
       " ('Rv3336c', 14, 0.0),\n",
       " ('Rv3339c', 19, 0.0),\n",
       " ('Rv3370c', 13, 0.0),\n",
       " ('Rv3418c', 31, 0.0),\n",
       " ('Rv3583c', 41, 0.0),\n",
       " ('Rv3596c', 20, 0.0),\n",
       " ('Rv3661', 46, 0.0),\n",
       " ('Rv3681c', 16, 0.0),\n",
       " ('Rv3682', 24, 0.0),\n",
       " ('Rv3710', 17, 0.0),\n",
       " ('Rv3765c', 41, 0.0),\n",
       " ('Rv3859c', 30, 0.0)]"
      ]
     },
     "execution_count": 33,
     "metadata": {},
     "output_type": "execute_result"
    }
   ],
   "source": [
    "seq_ids = util.list_dirs(project_dir)\n",
    "out_list = []\n",
    "for id in seq_ids:\n",
    "    if os.path.exists(project_dir + '/' + str(id) + '/rscape_output_2.cov'):\n",
    "        with open(project_dir + '/' + str(id) + '/rscape_output_2.cov', 'r') as f:  \n",
    "            num_pairs = 0\n",
    "            e_values = []\n",
    "            for l in f:\n",
    "                if (not ('#' in l)):\n",
    "                    a = l.split()\n",
    "                    if len(a) > 6 and abs(int(a[2])-int(a[1])) > 10:    # Exclude covarying pairs less than 3 bp apart)\n",
    "                        e_values.append(float(a[4]))\n",
    "                        num_pairs +=1\n",
    "        if len(e_values) > 0:\n",
    "            tot = sum([math.log(x) for x  in e_values])\n",
    "            num = len(e_values)\n",
    "            combined_e_value = 1-chi2.cdf(-2*tot, 2*num)\n",
    "        else:\n",
    "            combined_e_value = 999\n",
    "        if combined_e_value < 1e-5 and num_pairs> 10:\n",
    "            out_list.append((id, num_pairs, combined_e_value))\n",
    "out_list.sort(key = lambda x: x[0])\n",
    "out_list"
   ]
  },
  {
   "cell_type": "code",
   "execution_count": 20,
   "id": "79a6f80e-9741-4437-9ac5-6cdef045064b",
   "metadata": {},
   "outputs": [
    {
     "data": {
      "text/plain": [
       "'VGFGGRHERSDAELLAAHVAGDRYAFDQLFRRHHRQLHRLARLTSRTSEDADDALQDAMLSAHRGAGSFRYDAAVSSWLHRIVVNACLDRLRRAKAHPTAPLEDVYPVADRTAQVETAIAVQRALMRLPVEQRAAVVAVDMQGYSIADTRPDAGRGRGHRQEPLRPGAGPPSAAAGLSQHRGEHPAL'"
      ]
     },
     "execution_count": 20,
     "metadata": {},
     "output_type": "execute_result"
    }
   ],
   "source": [
    "reference_species = 'GCF_000195955.2'\n",
    "refseq_dir  = 'F:/Datasets/NCBI_Refseq_Mycobacteriaceae_All_Levels/ncbi_dataset/data'\n",
    "for record in SeqIO.parse(refseq_dir + '/'+reference_species+'/genomic.gbff', \"genbank\"):\n",
    "    full_sequence = str(record.seq)\n",
    "tr = util.Translator()\n",
    "tr.translate_sequence(full_sequence[4400215:4400777],1,0)"
   ]
  },
  {
   "cell_type": "code",
   "execution_count": null,
   "id": "62c76121-8b18-4b8b-9ae4-07c6ba80692f",
   "metadata": {},
   "outputs": [],
   "source": []
  }
 ],
 "metadata": {
  "kernelspec": {
   "display_name": "Python 3 (ipykernel)",
   "language": "python",
   "name": "python3"
  },
  "language_info": {
   "codemirror_mode": {
    "name": "ipython",
    "version": 3
   },
   "file_extension": ".py",
   "mimetype": "text/x-python",
   "name": "python",
   "nbconvert_exporter": "python",
   "pygments_lexer": "ipython3",
   "version": "3.9.7"
  }
 },
 "nbformat": 4,
 "nbformat_minor": 5
}
