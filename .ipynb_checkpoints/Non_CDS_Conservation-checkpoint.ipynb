{
 "cells": [
  {
   "cell_type": "markdown",
   "id": "50da8fa4-e4d1-4e99-9df9-f2593cc0c057",
   "metadata": {},
   "source": [
    "##### Import modules and set up file locations"
   ]
  },
  {
   "cell_type": "code",
   "execution_count": 18,
   "id": "c9417e01-aa2a-4297-8948-c0c526434b04",
   "metadata": {},
   "outputs": [],
   "source": [
    "full_run = False"
   ]
  },
  {
   "cell_type": "code",
   "execution_count": 2,
   "id": "694b2495-3118-4d6a-9934-5f46d80dfa5c",
   "metadata": {},
   "outputs": [
    {
     "name": "stderr",
     "output_type": "stream",
     "text": [
      "C:\\Users\\nicho\\Anaconda3\\envs\\Projects\\lib\\site-packages\\ete3-3.1.2-py3.7.egg\\ete3\\evol\\parser\\codemlparser.py:221: SyntaxWarning: \"is\" with a literal. Did you mean \"==\"?\n",
      "C:\\Users\\nicho\\Anaconda3\\envs\\Projects\\lib\\site-packages\\ete3-3.1.2-py3.7.egg\\ete3\\evol\\parser\\codemlparser.py:221: SyntaxWarning: \"is\" with a literal. Did you mean \"==\"?\n"
     ]
    }
   ],
   "source": [
    "from Comparative_Analysis import Sequence_Analysis_Routines as sar\n",
    "from Comparative_Analysis import HMM as hmm\n",
    "from Comparative_Analysis import Utilities as util\n",
    "from Comparative_Analysis import Alignment_HMM as alignment_hmm\n",
    "from Comparative_Analysis import Alignment_Analysis as alignment_analysis\n",
    "from Comparative_Analysis import Alignment as align\n",
    "import random\n",
    "from joblib import Parallel, delayed\n",
    "from scipy import optimize as opt\n",
    "from tqdm import tqdm\n",
    "import matplotlib.pyplot as plt\n",
    "import logomaker as lm\n",
    "import math\n",
    "import pandas as pd\n",
    "import subprocess\n",
    "import numpy as np\n",
    "import ete3;\n",
    "import pickle"
   ]
  },
  {
   "cell_type": "code",
   "execution_count": 3,
   "id": "773a1d9c-8b02-447d-8b4c-41e9d5d24f83",
   "metadata": {},
   "outputs": [],
   "source": [
    "project_dir = 'D:/Project_Data/Project_3'\n",
    "sonic_paranoid_run_name = 'Run_Without_Outgroup'\n",
    "outgroup_sonic_paranoid_run_name = 'Run_With_Outgroup'\n",
    "genome_datasets_dir = project_dir + '/Datasets/NCBI_Datasets_Close_Species/'\n",
    "output_dir = project_dir + '/Output/Close_Species'\n",
    "protein_fasta_output_loc = output_dir + '/Protein_Sequences'\n",
    "outgroup_protein_fasta_output_loc = output_dir + '/Protein_Sequences_With_Outgroup'\n",
    "sonic_paranoid_output_loc = output_dir + '/Sonic_Paranoid_Output'\n",
    "ortholog_file_ref = sonic_paranoid_output_loc + '/runs/' + sonic_paranoid_run_name + '/ortholog_groups/flat.ortholog_groups.tsv'\n",
    "outgroup_ortholog_file_ref = sonic_paranoid_output_loc + '/runs/' + outgroup_sonic_paranoid_run_name + '/ortholog_groups/flat.ortholog_groups.tsv'\n",
    "non_cds_output_dir = output_dir + '/Multiple_Alignment_Data/Non_CDS'\n",
    "upstream_non_cds_output_dir = output_dir + '/Multiple_Alignment_Data/Upstream_Non_CDS'\n",
    "cds_output_dir = output_dir + '/Multiple_Alignment_Data/CDS'\n",
    "extended_cds_output_dir = output_dir + '/Multiple_Alignment_Data/Extended_CDS'\n",
    "outgroup_cds_output_dir = output_dir + '/Multiple_Alignment_Data/CDS_With_Outgroup'\n",
    "outgroup_concatenated_cds_output_dir = output_dir + '/Multiple_Alignment_Data/CDS_With_Outgroup_Concatenated'\n",
    "hmm_parameters_output_dir = output_dir +'/HMM_Model_Parameters'\n",
    "conservation_analysis_output_dir = output_dir + '/Conservation_Analysis_Output'"
   ]
  },
  {
   "cell_type": "code",
   "execution_count": 4,
   "id": "56139988-efa1-4bb1-9cd3-4cdd90020453",
   "metadata": {},
   "outputs": [],
   "source": [
    "num_cores = 16\n",
    "core_numbers = list(range(1, num_cores+1))\n",
    "non_cds_offset = 50\n",
    "extended_cds_offset = 100\n",
    "tb_species = 'GCF_000195955.2'\n",
    "outgroup_species = 'GCF_000696675.2'"
   ]
  },
  {
   "cell_type": "markdown",
   "id": "cf829bb3-e529-4170-ad7b-9d885d57f851",
   "metadata": {},
   "source": [
    "##### Determine genomes in ortholog family, generate protein files and run Sonic Paranoid (both with and without outgroup - outgroup needed for tree building)"
   ]
  },
  {
   "cell_type": "code",
   "execution_count": 5,
   "id": "df7a7627-bb45-4679-97ef-ed8f209447fb",
   "metadata": {},
   "outputs": [],
   "source": [
    "genome_ids_with_outgroup = util.list_dirs(genome_datasets_dir)\n",
    "genome_ids = util.list_dirs(genome_datasets_dir)\n",
    "genome_ids.remove(outgroup_species)\n",
    "non_target_genome_ids = util.list_dirs(genome_datasets_dir)\n",
    "non_target_genome_ids.remove(outgroup_species)\n",
    "non_target_genome_ids.remove(tb_species)\n",
    "num_ids = len(genome_ids)\n",
    "num_ids_with_outgroup = len(genome_ids_with_outgroup)"
   ]
  },
  {
   "cell_type": "code",
   "execution_count": 6,
   "id": "2be93725-4667-49ca-b2bc-430c0c7e9eae",
   "metadata": {},
   "outputs": [],
   "source": [
    "if full_run == True:\n",
    "    for folder in sar.tqdm(genome_ids):\n",
    "        sar.generate_protein_file(genome_datasets_dir + '/' + folder + '/genomic.gbff', protein_fasta_output_loc + '/' + folder + '.faa')\n",
    "    for folder in sar.tqdm(genome_ids_with_outgroup):\n",
    "        sar.generate_protein_file(genome_datasets_dir + '/' + folder + '/genomic.gbff', outgroup_protein_fasta_output_loc + '/' + folder + '.faa')"
   ]
  },
  {
   "cell_type": "code",
   "execution_count": 7,
   "id": "f828d159-34d6-4f7e-878c-e31b598573a8",
   "metadata": {},
   "outputs": [],
   "source": [
    "if full_run == True:\n",
    "    sar.run_sonic_paranoid(protein_fasta_output_loc, sonic_paranoid_output_loc, sonic_paranoid_run_name)\n",
    "    sar.run_sonic_paranoid(outgroup_protein_fasta_output_loc, sonic_paranoid_output_loc, outgroup_sonic_paranoid_run_name)"
   ]
  },
  {
   "cell_type": "markdown",
   "id": "39369771-8cd9-4438-89a5-d426702ac448",
   "metadata": {},
   "source": [
    "##### Generate objects containing orthologs and sequence information for each ortholog group / species"
   ]
  },
  {
   "cell_type": "code",
   "execution_count": 8,
   "id": "051a50d7-e6dc-42a7-9675-e58d8ae157b6",
   "metadata": {},
   "outputs": [
    {
     "name": "stderr",
     "output_type": "stream",
     "text": [
      "100%|██████████| 75075/75075 [00:03<00:00, 22550.85it/s]\n",
      "100%|██████████| 84312/84312 [00:03<00:00, 23064.37it/s]\n"
     ]
    }
   ],
   "source": [
    "orthologs = sar.Ortholog_Grouping(ortholog_file_ref)\n",
    "outgroup_orthologs = sar.Ortholog_Grouping(outgroup_ortholog_file_ref)"
   ]
  },
  {
   "cell_type": "code",
   "execution_count": 9,
   "id": "5e9977fb-f334-4f33-a820-535d87f4105a",
   "metadata": {},
   "outputs": [
    {
     "name": "stderr",
     "output_type": "stream",
     "text": [
      "100%|██████████| 16/16 [00:00<00:00, 158.29it/s]\n",
      "100%|██████████| 16/16 [00:00<?, ?it/s]\n"
     ]
    }
   ],
   "source": [
    "seq_data = sar.Ortholog_Sequence_Dataset(orthologs, genome_datasets_dir, genome_ids, non_cds_offset, tb_species) \n",
    "outgroup_seq_data = sar.Ortholog_Sequence_Dataset(outgroup_orthologs, genome_datasets_dir, genome_ids_with_outgroup, non_cds_offset, tb_species) \n",
    "#print(outgroup_seq_data.species_info())"
   ]
  },
  {
   "cell_type": "markdown",
   "id": "60e3b630-5c42-499e-8389-5532f4dca58c",
   "metadata": {},
   "source": [
    "##### Perform CDS and non-CDS alignments for each full ortholog group and save to folders"
   ]
  },
  {
   "cell_type": "code",
   "execution_count": 10,
   "id": "7cb33f80-a608-425f-bf01-6a0fe7a77226",
   "metadata": {},
   "outputs": [],
   "source": [
    "min_species = num_ids\n",
    "min_species_with_outgroup = num_ids_with_outgroup\n",
    "groups = random.sample(orthologs.full_single_copy_ortholog_groups, len(orthologs.full_single_copy_ortholog_groups))  #Permutation ensures even distribution of processing speeds\n",
    "outgroup_groups = random.sample(outgroup_orthologs.full_single_copy_ortholog_groups, len(outgroup_orthologs.full_single_copy_ortholog_groups))  #Permutation ensures even distribution of processing speeds\n",
    "if full_run == True:\n",
    "    par = Parallel(n_jobs=-1)(delayed(align.align_and_build)(outgroup_groups, num_cores, core_number, outgroup_seq_data.sequence_data, 'cds_length', 'cds_seq', outgroup_cds_output_dir+'/', min_species_with_outgroup) for core_number in tqdm(core_numbers))\n",
    "    par = Parallel(n_jobs=-1)(delayed(align.align_and_build)(groups, num_cores, core_number, seq_data.sequence_data, 'cds_length', 'cds_seq', cds_output_dir+'/', min_species) for core_number in tqdm(core_numbers))\n",
    "    par = Parallel(n_jobs=-1)(delayed(align.align_and_build)(groups, num_cores, core_number, seq_data.sequence_data, 'non_cds_offset_length', 'non_cds_offset_seq', non_cds_output_dir+'/', min_species) for core_number in tqdm(core_numbers))\n",
    "    par = Parallel(n_jobs=-1)(delayed(align.align_and_build)(groups, num_cores, core_number, seq_data.sequence_data, 'upstream_non_cds_offset_length', 'upstream_non_cds_offset_seq', upstream_non_cds_output_dir+'/', min_species) for core_number in tqdm(core_numbers))\n",
    "    par = Parallel(n_jobs=-1)(delayed(align.align_and_build)(groups, num_cores, core_number, seq_data.sequence_data, 'cds_extended_region_length', 'cds_extended_region_seq', extended_cds_output_dir+'/', min_species) for core_number in tqdm(core_numbers))"
   ]
  },
  {
   "cell_type": "markdown",
   "id": "4552a5b9-a396-450f-956b-0494d74e13af",
   "metadata": {},
   "source": [
    "##### Run IQTree on concatenated CDS alignments to generate tree"
   ]
  },
  {
   "cell_type": "code",
   "execution_count": 19,
   "id": "42928a48-444f-4b46-a8eb-d668dd4565e4",
   "metadata": {},
   "outputs": [],
   "source": [
    "if full_run == True:\n",
    "    alignment_names = util.list_files(outgroup_cds_output_dir)\n",
    "    util.concatenate_fasta(outgroup_cds_output_dir, alignment_names, outgroup_concatenated_cds_output_dir + '/concatenated_cds.fasta')\n",
    "    subprocess.run('cd \\\\users\\\\nicho\\\\IQTree & bin\\\\iqtree2 -s ' + outgroup_concatenated_cds_output_dir + '/concatenated_cds.fasta' + ' --prefix '+ output_dir + \n",
    "                   '/Trees/Concatenated_JC_Tree -m JC -B 1000 -T AUTO -o ' + outgroup_species, shell=True)"
   ]
  },
  {
   "cell_type": "markdown",
   "id": "40396ae4-b80d-4ebd-ab66-e40e6712c758",
   "metadata": {},
   "source": [
    "##### Fit overall Alignment and Pairwise HMMs using EM"
   ]
  },
  {
   "cell_type": "code",
   "execution_count": 20,
   "id": "4e885b08-1828-4633-9c60-4eeaab22efcb",
   "metadata": {},
   "outputs": [],
   "source": [
    "num_symbols = 4\n",
    "num_states = 3\n",
    "minimum_fit_length = 10\n",
    "initial_params = [0.95, 0.5, 0.95, 0.5, 0.95, 0.5, 0.56370018, 0.52131172, 0.33906948]"
   ]
  },
  {
   "cell_type": "code",
   "execution_count": 21,
   "id": "e7da4636-b1db-4d25-a846-72c8fc4190a2",
   "metadata": {},
   "outputs": [
    {
     "name": "stderr",
     "output_type": "stream",
     "text": [
      "100%|██████████| 1621/1621 [00:01<00:00, 1071.60it/s]\n"
     ]
    }
   ],
   "source": [
    "Alignment_HMM_Model = alignment_hmm.Alignment_HMM (num_symbols, num_states, non_cds_output_dir, tb_species)\n",
    "if full_run == True:\n",
    "    parameter_fits = Alignment_HMM_Model.EM_update(num_cores, initial_params, non_cds_offset, minimum_fit_length)\n",
    "    fitted_parameters = parameter_fits[3]\n",
    "    with open(hmm_parameters_output_dir + '/' + 'full_parameter_fit.pkl', 'wb') as f:\n",
    "        pickle.dump(fitted_parameters, f)"
   ]
  },
  {
   "cell_type": "code",
   "execution_count": 22,
   "id": "13426590-d94a-45b0-b5d3-70feb073c69d",
   "metadata": {},
   "outputs": [],
   "source": [
    "if full_run == True:\n",
    "    parameter_fits = []\n",
    "    for id in non_target_genome_ids:\n",
    "        parameter_fits.append((id, Alignment_HMM_Model.EM_update(num_cores, initial_params, non_cds_offset, minimum_fit_length, all_species = False, comparison_species = id)[3]))\n",
    "    with open(hmm_parameters_output_dir + '/' + 'pairwise_parameter_fits.pkl', 'wb') as f:\n",
    "        pickle.dump(parameter_fits, f)"
   ]
  },
  {
   "cell_type": "code",
   "execution_count": 23,
   "id": "33b13e69-807d-4c46-8bc1-0e6840e51a13",
   "metadata": {},
   "outputs": [],
   "source": [
    "#  Max likelihood using general optimisation - slower than EM\n",
    "#bound_tuple = [(0.001,0.999),(0.001,0.999),(0.001,0.999),(0.001,0.999),(0.001,0.999),(0.001,0.999),(0.001,0.999),(0.001,0.999),(0.001,0.999)]\n",
    "#def parallel_alignment_hmm_log_likelihood (params):\n",
    "#    core_numbers = range(1, num_cores+1)\n",
    "#    a = Parallel(n_jobs=-1)(delayed(Alignment_HMM_Model.alignment_hmm_log_likelihood)(params, num_cores, core_number, non_cds_offset, minimum_fit_length) for core_number in core_numbers)\n",
    "#    print(params, sum(a))\n",
    "#    return sum(a)  \n",
    "#    res = opt.minimize(parallel_alignment_hmm_log_likelihood, params, method = 'Nelder-Mead', bounds = bound_tuple)"
   ]
  },
  {
   "cell_type": "markdown",
   "id": "78ea8afe-116b-4ee5-9b77-f5e3fed532da",
   "metadata": {},
   "source": [
    "##### Load HMM parameters"
   ]
  },
  {
   "cell_type": "code",
   "execution_count": 24,
   "id": "4dea7f2a-cd8b-4d52-bf7b-f3b8bde0536e",
   "metadata": {},
   "outputs": [
    {
     "name": "stdout",
     "output_type": "stream",
     "text": [
      "[0.7916641394208762, 0.9612243200629189, 0.8387935295309167, 0.7517357113441013, 0.9568319122692005, 0.11521420162095221, 0.8536071924352981, 0.3090428424007953, 0.025150932145784094]\n",
      "[('GCF_000157895.3', [0.9716902390949089, 0.9304249965614103, 0.9637234765997083, 0.5530872128743684, 0.9855283262836052, 0.036911218760719254, 0.902804684139133, 0.44550945227831074, 5.0695428669421437e-08]), ('GCF_000340435.2', [0.9732875809169317, 0.8945641828764774, 0.9625550649144002, 0.5249991271779538, 0.9854957096125805, 0.05622958009753195, 0.8969372089540893, 0.430245017663387, 4.373485927967285e-08]), ('GCF_001655245.1', [0.9504191268692356, 0.9809825148402955, 0.9663125716603679, 0.3613221722770392, 0.9845819388335789, 0.007009766944477883, 0.9297113860214048, 0.44019791552225873, 3.0924874678058125e-26]), ('GCF_002285675.1', [0.9676123900233026, 0.9038371955673729, 0.9614493213784461, 0.4967403782185208, 0.9846373995766273, 0.0018018058790228574, 0.9025608446346158, 0.4491000972664391, 5.9170832542306914e-24]), ('GCF_010727945.1', [0.9609307374164634, 0.906469039566352, 0.9616932616488941, 0.40544714082725447, 0.9841797054905902, 0.0412107266176123, 0.9027913351348548, 0.4405937827460524, 1.5044563975083236e-12]), ('GCF_010730055.1', [0.9712736121040317, 0.923344560756828, 0.9563298115089556, 0.596956611875331, 0.9849431384478401, 0.08402367189457192, 0.9101644130933906, 0.44774745420031814, 6.728190601791317e-08]), ('GCF_010731535.1', [0.9732823388849218, 0.9248014205766587, 0.9552500982397382, 0.5538322768544522, 0.9845841150292204, 0.08301017055942579, 0.8989233773931188, 0.4413818056777465, 2.8545427082351752e-09]), ('GCF_016745295.1', [0.9724278060222535, 0.9456579550139386, 0.9607308267688741, 0.5414767754064823, 0.9855760732613889, 0.015388441552351242, 0.8922883219789378, 0.4303641375387469, 3.09802355250943e-12]), ('GCF_900603025.1', [0.9525714196193519, 0.8841407550687412, 0.9693563953457194, 0.36578001932424936, 0.9837614833755315, 0.027446385222489655, 0.9180549526250553, 0.4420016791773665, 1.1268011221833537e-15]), ('NC_008596.1', [0.9516178328871464, 0.9787560430927984, 0.9674141583504453, 0.36796155326160196, 0.9856079889529336, 0.0025708151288168857, 0.9282734033199933, 0.43448175255767957, 8.050459848576094e-32])]\n"
     ]
    }
   ],
   "source": [
    "with open(hmm_parameters_output_dir + '/' + 'full_parameter_fit.pkl', 'rb') as f:\n",
    "    full_fitted_parameters = pickle.load(f)\n",
    "with open(hmm_parameters_output_dir + '/' + 'pairwise_parameter_fits.pkl', 'rb') as f:\n",
    "    pairwise_fitted_parameters = pickle.load(f)"
   ]
  },
  {
   "cell_type": "markdown",
   "id": "a8f150b0-05c7-460a-a37e-1ee28ff5df6c",
   "metadata": {},
   "source": []
  },
  {
   "cell_type": "markdown",
   "id": "3d794a82-bb9b-4718-ba24-a0402f9ab137",
   "metadata": {},
   "source": [
    "##### Analyse ortholog groups for conservation and other features and output to dictionary"
   ]
  },
  {
   "cell_type": "code",
   "execution_count": null,
   "id": "28cdbbc8-09aa-4c9d-ad75-7b2831dff5d5",
   "metadata": {},
   "outputs": [],
   "source": [
    "       initial_state_probabilities = [1.0/num_states]*num_states\n",
    "        transition_probabilities, mutation_probabilities = Alignment_HMM_Model.alignment_hmm_model_inputs(fitted_parameters)\n",
    "        observation_probabilities = Alignment_HMM_Model.calculate_observation_probs(mutation_probabilities, self.alignment.modified_sequence_list, alignment)\n",
    "        self.hmm_model = hmm.HMM(initial_state_probabilities, transition_probabilities, observation_probabilities)\n",
    "        self.hmm_model.calculate_probabilities()"
   ]
  },
  {
   "cell_type": "code",
   "execution_count": null,
   "id": "e385b874-5dab-475a-bb74-e673843faf0c",
   "metadata": {},
   "outputs": [],
   "source": [
    "def parallel_build_analysis_dictionary(num_subsets, subset_num, ids, analysis_type):\n",
    "    ids = util.chunk_list(ids, num_subsets, subset_num)\n",
    "    output_list = []\n",
    "    for group_id in ids:\n",
    "        alignment = align.Alignment(alignment_dir+'/'+str(group_id)+'.fasta', tb_species, 'NT')\n",
    "        analysis = alignment_analysis.Alignment_Analysis(analysis_type, alignment, num_states, non_cds_offset, group_id, fitted_parameters, project_dir, Alignment_HMM_Model, seq_data)\n",
    "        output_list.append((group_id, analysis))\n",
    "    return output_list"
   ]
  },
  {
   "cell_type": "code",
   "execution_count": null,
   "id": "0c8f2946-1234-4fb8-acdd-e936b8995dec",
   "metadata": {},
   "outputs": [],
   "source": [
    "for analysis_type in ['Downstream', 'Upstream']:\n",
    "    if analysis_type == 'Downstream':\n",
    "        alignment_dir = non_cds_output_dir\n",
    "        dict_name = 'downstream_conservation_info_dictionary'\n",
    "    else:\n",
    "        alignment_dir = upstream_non_cds_output_dir\n",
    "        dict_name = 'upstream_conservation_info_dictionary'\n",
    "    alignment_info_dict = {}\n",
    "    file_ids = util.list_files(alignment_dir+'/')\n",
    "    ids = [int(i.split('.')[0]) for i in file_ids]\n",
    "    parallel_output = Parallel(n_jobs=-1)(delayed(parallel_build_analysis_dictionary)(num_cores, core_number, ids, analysis_type) for core_number in tqdm(core_numbers))\n",
    "    dictionary_list = [item for sublist in parallel_output for item in sublist]\n",
    "    alignment_info_dict = {}\n",
    "    for (group, analysis) in dictionary_list:\n",
    "        alignment_info_dict[group] = analysis\n",
    "    with open(output_dir + '/' + dict_name + '.pkl', 'wb') as f:\n",
    "        pickle.dump(alignment_info_dict, f)"
   ]
  },
  {
   "cell_type": "code",
   "execution_count": null,
   "id": "e890e0c5-f1e1-4a94-b2e5-5ddccc4aac21",
   "metadata": {},
   "outputs": [],
   "source": [
    "with open(output_dir + '/upstream_conservation_info_dictionary.pkl', 'rb') as f:\n",
    "    upstream_conservation_info_dictionary = pickle.load(f)\n",
    "with open(output_dir + '/downstream_conservation_info_dictionary.pkl', 'rb') as f:\n",
    "    downstream_conservation_info_dictionary = pickle.load(f)"
   ]
  },
  {
   "cell_type": "markdown",
   "id": "da6d610d-9e76-4cbe-be84-188b7ec12515",
   "metadata": {},
   "source": [
    "##### Plot graphics to show sequence and HMM regions"
   ]
  },
  {
   "cell_type": "code",
   "execution_count": null,
   "id": "8c8afdfa-0cd7-4823-82a3-2d44229dc862",
   "metadata": {},
   "outputs": [],
   "source": [
    "group_id = 1161 #1337 1007\n",
    "     #1120 can see the labels work!\n",
    "    #1161 1115 1116 758 1337   1525?List of sRNA in    \n",
    "    #1129\n",
    "    #1169 shows upstream start in DeJesus\n",
    "    #2131 not very well conserved in Arnvig\n",
    "    #1214 massive!\n",
    "    #1009 not much conservation\n",
    "    # 993 possible??\n",
    "upstream_conservation_info_dictionary[group_id].display_analysis()\n",
    "downstream_conservation_info_dictionary[group_id].display_analysis()"
   ]
  },
  {
   "cell_type": "code",
   "execution_count": null,
   "id": "f71cd470-a934-4d48-b3b5-9fc7c2c6161a",
   "metadata": {},
   "outputs": [],
   "source": [
    "data = upstream_conservation_info_dictionary[group_id]\n",
    "#plt.plot(data.alignment.relative_entropy);\n",
    "plt.plot(data.alignment.mvave_relative_entropy);\n",
    "plt.axvline(x=data.buffer_end, ymin=0, ymax=2, color='r');\n",
    "plt.axvline(x=data.target_end, ymin=0, ymax=2, color='r');\n",
    "for state in [0]:\n",
    "    plt.plot(data.hmm_model.state_probabilities[state]);"
   ]
  },
  {
   "cell_type": "code",
   "execution_count": null,
   "id": "011e8b96-1a28-4cbd-9325-7f77bdad0c64",
   "metadata": {},
   "outputs": [],
   "source": [
    "temp= seq_data.sequence_data\n",
    "group_id = (temp[temp['locus_tag'] == 'Rv0243'].iloc[0]['group_id'])\n",
    "temp[temp['group_id'] == group_id]"
   ]
  },
  {
   "cell_type": "code",
   "execution_count": null,
   "id": "f6c2f2df-70eb-4be9-ba45-6d3a82419aa4",
   "metadata": {},
   "outputs": [],
   "source": []
  }
 ],
 "metadata": {
  "kernelspec": {
   "display_name": "Python 3 (ipykernel)",
   "language": "python",
   "name": "python3"
  },
  "language_info": {
   "codemirror_mode": {
    "name": "ipython",
    "version": 3
   },
   "file_extension": ".py",
   "mimetype": "text/x-python",
   "name": "python",
   "nbconvert_exporter": "python",
   "pygments_lexer": "ipython3",
   "version": "3.9.7"
  }
 },
 "nbformat": 4,
 "nbformat_minor": 5
}
