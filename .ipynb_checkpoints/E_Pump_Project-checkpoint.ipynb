{
 "cells": [
  {
   "cell_type": "markdown",
   "id": "b1e30ed4-8a0e-4a6f-96eb-dfe116dfb2de",
   "metadata": {},
   "source": [
    "#### Directories etc"
   ]
  },
  {
   "cell_type": "code",
   "execution_count": 65,
   "id": "cf9c6377-5080-4c22-94db-feabe17cc47c",
   "metadata": {},
   "outputs": [],
   "source": [
    "import pandas as pd\n",
    "import pickle\n",
    "import seaborn as sns\n",
    "import matplotlib.pyplot as plt\n",
    "import numpy as np\n",
    "from Bio import Entrez, SeqIO, AlignIO, pairwise2, Align, Seq, motifs\n",
    "from Bio.Seq import Seq\n",
    "from Bio.SeqFeature import SeqFeature, FeatureLocation\n",
    "from scipy.stats import binom\n",
    "import math\n",
    "import random\n",
    "from tqdm import tqdm\n",
    "from Comparative_Analysis import Utilities as util\n",
    "import random\n",
    "from joblib import Parallel, delayed\n",
    "from Comparative_Analysis import Blast_Functions as blastfn\n",
    "import time\n",
    "import os\n",
    "import copy\n",
    "from Comparative_Analysis import ORF_Functions as orffn\n",
    "from Comparative_Analysis import Alignment as alignfn\n",
    "from random import sample\n",
    "from Bio.Align.Applications import MuscleCommandline\n",
    "pd.options.mode.chained_assignment = None  # default='warn'\n",
    "import ete3;"
   ]
  },
  {
   "cell_type": "code",
   "execution_count": 97,
   "id": "1988a242-f558-4643-b3a9-27272fa7bebc",
   "metadata": {},
   "outputs": [],
   "source": [
    "project_dir = 'F:/Project_Data/E_Pump_Project'\n",
    "seq_dir = 'F:/Datasets/Actinobacteria_Ref_Rep_Lev_Complete'\n",
    "tb_species = 'NC_000962.3' \n",
    "sample_filenames = ['GCF_000195955.2_ASM19595v2_genomic.gbff', 'GCF_024600175.1_ASM2460017v1_genomic.gbff', 'GCF_010730055.1_ASM1073005v1_genomic.gbff', 'GCF_010731535.1_ASM1073153v1_genomic.gbff',\n",
    "                    'GCF_022370755.1_ASM2237075v1_genomic.gbff', 'GCF_016745295.1_ASM1674529v1_genomic.gbff', 'GCF_000157895.3_ASM15789v2_genomic.gbff', 'GCF_900603025.1_MHAS_genomic.gbff', 'GCF_018363015.1_ASM1836301v1_genomic.gbff',\n",
    "                    'GCF_019645855.1_ASM1964585v1_genomic.gbff', 'GCF_010727945.1_ASM1072794v1_genomic.gbff', 'GCF_010731895.1_ASM1073189v1_genomic.gbff', 'GCF_900637205.1_50279_G01_genomic.gbff', 'GCF_000184435.1_ASM18443v1_genomic.gbff']\n",
    "tb_annotation_filename = 'GCF_000195955.2_ASM19595v2_genomic.gbff'\n",
    "tb_reannotation_filename = 'annot.gbk'\n",
    "num_cores = 16\n",
    "core_numbers = list(range(1, num_cores+1))\n",
    "muscle_exe = 'C:/Users/nicho/Muscle/muscle3.8.31_i86win32.exe'"
   ]
  },
  {
   "cell_type": "markdown",
   "id": "198ce0ae-2b01-482b-83cb-93c720537916",
   "metadata": {},
   "source": [
    "#### Create file with all CDS for species"
   ]
  },
  {
   "cell_type": "code",
   "execution_count": 98,
   "id": "072ad320-957a-4b2a-8cb3-7874b44e12d4",
   "metadata": {
    "tags": []
   },
   "outputs": [],
   "source": [
    "loci = ['Rv3239c', 'Rv3728', 'Rv1250', 'Rv0783c', 'Rv2846c', 'Rv1063c', 'Rv1410c', 'Rv1877', 'Rv2333c', 'Rv2459',  'Rv2565']"
   ]
  },
  {
   "cell_type": "code",
   "execution_count": 99,
   "id": "5423e361-eddc-4b3f-9072-7801323c1fb0",
   "metadata": {
    "tags": []
   },
   "outputs": [
    {
     "name": "stderr",
     "output_type": "stream",
     "text": [
      "100%|██████████| 14/14 [00:09<00:00,  1.46it/s]\n"
     ]
    }
   ],
   "source": [
    "tb_cds = []\n",
    "all_cds = []\n",
    "names_dict = {}\n",
    "upstream_seq_dict = {}\n",
    "for filename in tqdm(sample_filenames):\n",
    "    for genome_record in SeqIO.parse(seq_dir + '/' + filename, \"genbank\"):\n",
    "        #print(filename, genome_record.annotations['organism'])\n",
    "        full_sequence = str(genome_record.seq) \n",
    "        for feature in genome_record.features:\n",
    "            accession_ver = genome_record.annotations['accessions'][0] + '.' + str(genome_record.annotations['sequence_version'])\n",
    "            names_dict[accession_ver] = genome_record.annotations['organism']\n",
    "            a = feature.qualifiers\n",
    "            if feature.type == 'CDS' and a.get(\"translation\") != None:\n",
    "                locus_tag = a.get(\"locus_tag\")[0]\n",
    "                accession_locus = accession_ver + '@' + locus_tag\n",
    "                translation = a.get(\"translation\")[0]\n",
    "                all_cds.append([accession_locus, translation])\n",
    "                if filename == tb_annotation_filename and locus_tag in loci:\n",
    "                    tb_cds.append([accession_locus, translation])\n",
    "                (start, stop, strand) = (int(feature.location.start), int(feature.location.end), int(feature.location.strand))\n",
    "                if strand == 1:\n",
    "                    upstream_seq = full_sequence[start - 300: start+3]\n",
    "                else:\n",
    "                    upstream_seq = util.reverse_complement(full_sequence[stop-3: stop + 300])\n",
    "                upstream_seq_dict[accession_locus] = upstream_seq"
   ]
  },
  {
   "cell_type": "markdown",
   "id": "a68bc4bc-dbbe-48fe-a8e8-9da2ead8e069",
   "metadata": {},
   "source": [
    "#### Set up dataframe with annotated (based on PGP run) M.tb feature boundaries and Mycobrowser M.tb feature boundaries"
   ]
  },
  {
   "cell_type": "markdown",
   "id": "e2683970-7a45-419b-875a-0ca44f8b7a66",
   "metadata": {},
   "source": [
    "#### Produce FASTA file with CDS candidates"
   ]
  },
  {
   "cell_type": "code",
   "execution_count": 100,
   "id": "c6cc8d95-2c86-40da-b2e3-6e8a582a7c12",
   "metadata": {},
   "outputs": [
    {
     "name": "stderr",
     "output_type": "stream",
     "text": [
      "100%|██████████| 71376/71376 [00:05<00:00, 12588.03it/s]\n",
      "100%|██████████| 11/11 [00:00<?, ?it/s]\n"
     ]
    }
   ],
   "source": [
    "util.produce_fasta_file(all_cds, project_dir + '/all_cds.fasta')\n",
    "util.produce_fasta_file(tb_cds, project_dir + '/tb_cds.fasta')"
   ]
  },
  {
   "cell_type": "code",
   "execution_count": 101,
   "id": "ddf0dfcc-4365-49d6-8659-bd36ce52cafa",
   "metadata": {},
   "outputs": [],
   "source": [
    "blastfn.build_blast_db(project_dir, 'all_cds.fasta', 'all_cds', 'F:/Datasets/BLAST/all_cds')\n",
    "blastfn.build_blast_db(project_dir, 'tb_cds.fasta', 'tb_cds', 'F:/Datasets/BLAST/tb_cds')"
   ]
  },
  {
   "cell_type": "code",
   "execution_count": 103,
   "id": "0c14d7e7-144e-45d0-9044-f10e9b41f74c",
   "metadata": {},
   "outputs": [],
   "source": [
    "blastfn.run_blastp('F:/Datasets/BLAST/all_cds', 'tb_cds.fasta', 'all_cds', 'tb_cds_hits.csv', e_value = 1e-10)"
   ]
  },
  {
   "cell_type": "markdown",
   "id": "863fd81e-4857-45be-9760-ddd0daaf0f7f",
   "metadata": {},
   "source": [
    "#### Analyse CDS orthologs in target species"
   ]
  },
  {
   "cell_type": "code",
   "execution_count": 104,
   "id": "e1371e94-c64b-4122-9f53-896949bbe6e2",
   "metadata": {},
   "outputs": [],
   "source": [
    "blast_output = blastfn.process_blast_output('F:/Datasets/BLAST/all_cds/tb_cds_hits.csv', names_dict, top_hit_only = False)"
   ]
  },
  {
   "cell_type": "code",
   "execution_count": 105,
   "id": "42a2d369-f470-4c68-ad27-6c5f367d814a",
   "metadata": {},
   "outputs": [],
   "source": [
    "test = blast_output #blast_output[blast_output['target_species_name'] == 'Mycobacterium marinum'];\n",
    "test['num_identical_matches'] = test['alignment_length'] * test['percent_identical_matches']/100;\n",
    "test['max_identical_query_matches'] = test.groupby(['query_ref', 'target_species'])['num_identical_matches'].transform('max');\n",
    "test['max_identical_target_matches'] = test.groupby('target_ref')['num_identical_matches'].transform('max');\n",
    "test = test[test['num_identical_matches']>0.9999*test['max_identical_query_matches']]\n",
    "test = test[test['num_identical_matches']>0.9999*test['max_identical_target_matches']]\n",
    "test['count_matches'] = test.groupby('query_ref')['target_ref'].transform('count');\n",
    "test['upstream_sequence'] = test['target_ref'].map(upstream_seq_dict)\n",
    "test.to_csv(project_dir + '/test.csv')"
   ]
  },
  {
   "cell_type": "code",
   "execution_count": 106,
   "id": "dba2eeeb-52fa-4070-ad3f-4da219538e96",
   "metadata": {},
   "outputs": [],
   "source": [
    "query_refs = [tb_species + '@' + locus for locus in loci]"
   ]
  },
  {
   "cell_type": "code",
   "execution_count": 107,
   "id": "4eb88547-211c-40ad-bd6d-20da134ccc8b",
   "metadata": {},
   "outputs": [
    {
     "name": "stdout",
     "output_type": "stream",
     "text": [
      "NC_000962.3@Rv3239c\n"
     ]
    },
    {
     "name": "stderr",
     "output_type": "stream",
     "text": [
      "100%|██████████| 6/6 [00:00<?, ?it/s]"
     ]
    },
    {
     "name": "stdout",
     "output_type": "stream",
     "text": [
      "NC_000962.3@Rv3728\n"
     ]
    },
    {
     "name": "stderr",
     "output_type": "stream",
     "text": [
      "\n",
      "100%|██████████| 9/9 [00:00<00:00, 9002.80it/s]\n"
     ]
    },
    {
     "name": "stdout",
     "output_type": "stream",
     "text": [
      "NC_000962.3@Rv1250\n"
     ]
    },
    {
     "name": "stderr",
     "output_type": "stream",
     "text": [
      "100%|██████████| 14/14 [00:00<?, ?it/s]\n"
     ]
    },
    {
     "name": "stdout",
     "output_type": "stream",
     "text": [
      "NC_000962.3@Rv0783c\n"
     ]
    },
    {
     "name": "stderr",
     "output_type": "stream",
     "text": [
      "100%|██████████| 7/7 [00:00<?, ?it/s]\n"
     ]
    },
    {
     "name": "stdout",
     "output_type": "stream",
     "text": [
      "NC_000962.3@Rv2846c\n"
     ]
    },
    {
     "name": "stderr",
     "output_type": "stream",
     "text": [
      "100%|██████████| 14/14 [00:00<?, ?it/s]\n"
     ]
    },
    {
     "name": "stdout",
     "output_type": "stream",
     "text": [
      "NC_000962.3@Rv1063c\n"
     ]
    },
    {
     "name": "stderr",
     "output_type": "stream",
     "text": [
      "100%|██████████| 14/14 [00:00<00:00, 14125.63it/s]\n"
     ]
    },
    {
     "name": "stdout",
     "output_type": "stream",
     "text": [
      "NC_000962.3@Rv1410c\n"
     ]
    },
    {
     "name": "stderr",
     "output_type": "stream",
     "text": [
      "100%|██████████| 14/14 [00:00<?, ?it/s]"
     ]
    },
    {
     "name": "stdout",
     "output_type": "stream",
     "text": [
      "NC_000962.3@Rv1877\n"
     ]
    },
    {
     "name": "stderr",
     "output_type": "stream",
     "text": [
      "\n",
      "100%|██████████| 11/11 [00:00<?, ?it/s]\n"
     ]
    },
    {
     "name": "stdout",
     "output_type": "stream",
     "text": [
      "NC_000962.3@Rv2333c\n"
     ]
    },
    {
     "name": "stderr",
     "output_type": "stream",
     "text": [
      "100%|██████████| 11/11 [00:00<?, ?it/s]\n"
     ]
    },
    {
     "name": "stdout",
     "output_type": "stream",
     "text": [
      "NC_000962.3@Rv2459\n"
     ]
    },
    {
     "name": "stderr",
     "output_type": "stream",
     "text": [
      "100%|██████████| 6/6 [00:00<?, ?it/s]\n"
     ]
    },
    {
     "name": "stdout",
     "output_type": "stream",
     "text": [
      "NC_000962.3@Rv2565\n"
     ]
    },
    {
     "name": "stderr",
     "output_type": "stream",
     "text": [
      "100%|██████████| 1/1 [00:00<?, ?it/s]\n"
     ]
    }
   ],
   "source": [
    "for ref in query_refs:\n",
    "    print(ref)\n",
    "    sequences = []\n",
    "    temp = test[test['query_ref'] == ref]\n",
    "    for i, r in temp.iterrows():\n",
    "        sequences.append([r['target_ref'], r['upstream_sequence']])\n",
    "    util.produce_fasta_file(sequences, project_dir + '/sequences_to_align.faa')\n",
    "    cline = MuscleCommandline(muscle_exe, input= project_dir+'/'+ '/sequences_to_align.faa', out=project_dir + '/align_output_'+ref )\n",
    "    result = cline();"
   ]
  },
  {
   "cell_type": "code",
   "execution_count": 114,
   "id": "af275d98-6ced-4e3a-9326-ff32d80779c5",
   "metadata": {},
   "outputs": [],
   "source": [
    "query_ref = 'NC_000962.3@Rv1410c'\n",
    "align = alignfn.Alignment(project_dir + '/align_output_'+query_ref, query_ref, 'NT', insert_symbol = '-', species_order = [])"
   ]
  },
  {
   "cell_type": "code",
   "execution_count": 115,
   "id": "071136ee-b362-44d3-9978-50ca07347218",
   "metadata": {},
   "outputs": [],
   "source": [
    "align.calculate_entropies(modified=False)"
   ]
  },
  {
   "cell_type": "code",
   "execution_count": 116,
   "id": "9d35f407-190a-4600-b7a9-65bd180bc1b8",
   "metadata": {},
   "outputs": [
    {
     "data": {
      "text/plain": [
       "['------------CAACGGTCTGGGTAACTGGCTGGCCAGCATCACCGACGCCAAGTCGGAGGCCAGCGAGACCATCAATGGTGTTGACACGGTGCGGATCTCCGGCAAGGTCAGCGCCGACGCCATGAACAAACTGATCCCGC---TCAAGGCGACCACCCCGCTGCCCGCCACCGTCTGGATCCAGAAGGCCGACCCCCATCAGCTGGTGCAGGCCAAGGCCGACACAGGCAACGGCGGCAGCATTCAGATCACGCTGTCGGAGTGGGACAAGCCCGTCACCGTCACCAAGCCCGCCGT---CTGACG---------------------GCCTGAGTCATG',\n",
       " '---GAACCCCGAGGCCGGGGTGGCCAACATCCTGGCCAACTTCTCCGACGCCAAGTCCGAGGGCACCGAGCAGATCGACGGCATCGACACCGTCCGGGTCACCGGTGAGGTCAGCGCCGACGCGGTCAACCAGCTGATCCCCTCGCTGAAGGCCACCTCGCCCGTGCCGGGCACCGCGTGGATCGAGAACGGCGGCGACCACAACCTGGTGCGCGCTCAGATCGAGCCGACCGGTGACAGCTCCATCGAGCTGACCCTGTCGAAGTGGAACGAGCCCGTCACCGTCACCAAGCCGCAGGT---GTAATG---------------------------------',\n",
       " '------CCCGAACACCGGTCTGGCCAACATCTTGACCAACATCAGCAACCCGAAGTCCCAGTCGCGCGAAACGATCAACGGGCAAAGCACCGTCAAGATCACCGGGACGGCCGCGGCGGACGCCGTGAATGGCCTCGCGCCCCAGCTGAAGGCCACCCAGCCGGCGGCCACCACCGTGTGGATCGAGGAGAACGGTGATCACCAACTGGTGCAGATTCAGCTCGAGCAGAGCCCGGGCAACTCGGTGCAGATGACGCTGTCCAACTGGAACGCGCCGGTCCAGGTCACCAAGCCCCCGGTGGCCTGATG---------------------------------',\n",
       " '------CCCGGACACCGGGTTGGCCAATGTGCTGGCGAACTTCAACGACGCGAAGGCCGAGGGCCGCGACCAAATCAGCGGCCAAACCACCGTCCGCATCAGCGGAAACGTCTCCGCAGACGCCGTGAACAAGATTGCGGCTCCCTTCAAGGCGACCGCTCCGGTGCCGGCCACGGTCTGGATTGTGGAGAACGGCGACCATCAACTGGCCCAGGTCAGTCTGCAGAAAAGCCAAGGCAATAACGTCCAAATGACCTTGTCGAACTGGAATAAGCCGGTGCAGATAAACAAGCCTGCAGCGAGCTCATG---------------------------------',\n",
       " '------CCCGCAAGTTGGCCTGGCCAATGTGCTGGCCAATCTCCAGGACGCCAAGGCCGACGGTCGCGACACCATCGACGGACAGACCACGATCCGGATCACCGGAAAGGTCACTGCCGAGGCGGTGAACCAGATCGCGCCCCCGTTCAATGCAACAGAACCCGTGCCGGGCACCGTGTGGATTCAGGAGAACGGTGACCATCAGCTGGTGCAAGCCAAACTGGACCGCGGGTCGGGCAATTCCGTCGAGATGACCTTGTCCAAGTGGGGCGAGCAGGTCAGCGTCAGCAAGCCCCCGGTGAGCTGATG---------------------------------',\n",
       " '------------TACCGGCCTGGCCAACGTGCTGGCGAATTTCGCCGACGCAAAAGCCGAAGGGCGGGATACCATCAACGGCCAGAACACCATCCGCATCAGCGGGAAGGTATCGGCACAGGCGGTGAACCAGATAGCGCCGCCGTTCAACGCGACGCAGCCGGTGCCGGCGACCGTCTGGATTCAGGAGACCGGCGATCATCAACTGGCACAGGCCCAGTTGGACCGCGGCTCGGGCAATTCCGTCCAGATGACCTTGTCGAAATGGGGCGAGAAGGTCCAGGTCACGAAGCCCCCGGTGAGCTGATC---------------------------AGCATG',\n",
       " '------------CGTCGGCCTGGCCAACGTACTGGCGAACTTCACCGACGCCAAGGCCGAGGGCCGCGACACCATCAACGGCCAGAGCGCCGTCCGCATCAACGGAAAGGTTTCGGCCGCGGCGGTGAATCAGATTGCCCCGCCGTTCAATGCGACGCAACCGGTGCCGGCCACCGTCTGGATCCAGGAAACCGGCGATCACCAGCTGGTGCAGGCCATGTTGGACAAGGGGTCGGGCAATTCCGTCCAGATGACCTTGTCGAATTGGGGCGAGCAGGTCCAGGTCACCAAGCCTCAGGTCAGCTGATG---------------------------ACGATG',\n",
       " '------------CGTCGGCCTGGCCAACGTGCTGGCGAACTTCAACGACGCCAAAGCCGAAGGCCGCGACACCATCAACGGGCAGAGCACCATCCGGGTCAGCGGAAAGGTTTCGGCCGAGGCGGTGAACAAGATTGCGCCGCCGTTTGGCGCAACGGAGCCGGTTCCGGGCACCGTCTGGATCCAGGAGGCCGCCGATCACCAGCTGGCACAGGCCAAGCTGGAGCGGGGCTCGGGCAATTCCGTGCAGATGACCTTGTCGAAGTGGGGCGAGCAGGTGAACGTCACCAAGCCCCCGGTGAGCTGATG---------------------------AGGATG',\n",
       " '------CCCTGACACCGGGCTGGCCAACGTGCTGGCGAACTTCACCAATGCCAAAGCCGAAGGGCGCGACACCATCAACGGACAGAGCACCATCCGCATCAGCGGGAAGGTCACGGCGGACGCGGTGAACCAGATCGCACCGCCGTTCAGTGCAACCGATCCGGTGCCGGGCACCGTATGGATCCAGGAGAGCGGCGACCACCAGCTGGCCCAGGTTAAGTTGGATCGGGGTTCGGGCAATTCCGTCCAGATGACCTTGTCGAATTGGGGCGAGCAGGTGCAAGTCACGAAGCCGCCGGTGAGCTGATG---------------------------------',\n",
       " '---GGATCCGGAGCGTGGCCTGGCCAACGTGCTGAGCAACTTCTCCGACGCCAAGAGCGTCGACCGCGAGAAGGTCAACGACGTCGAGACCGTCAAGATCACCGGGAAGGTCAGCGCCGACGCGGTCAACCGGATCGCCCCGCAGCTCGCCGTCCAGGACGCGGTTGGGGGCACCGCCTGGATCGCCGACGGTGGCGATCACGAGCTGGTCCAGGTGCAGCTCGAGCCGCGGGACGGCGTCACGGTCACCATGACGCTGTCCGACTGGGGCAAGCCGGTGACGGTCACCAAGCCGGCCGC---CTGATG---------------------------------',\n",
       " '---CAACCCCGACAACGGACTGGCCAACGTGCTGTCGAGCTTCACCGACGCCAAGGCCGTCGGCCGCGAGGCGATCGGCGGCTCGGACGCCGTCAAGATCACCGGTACCGTCCCGCCCGAGGCGGTCAACAAGATCGCCCCGCAGCTCAACGCGACCGCTCCCGCCCCGGGTACCGCTTGGATTCGGGAGGACGGCGATCACCAGCTGGCTCAGGTGATGCTTGAGCCCTCCGCCGGCAACACCATCACGATGACCCTGTCCGATTGGGGTAAGCAGGTCACCGTCACGAAGCCCGCGAC---CTGATG---------------------------------',\n",
       " '---CGATCCGAACGTCGGCCTGGCCAACGTCCTGGCGAACTTCTCCAACCCCAGCGCCGACGGCCGGGAAACGGTCGAGGGGACGCAGACCGTGCGGGTCACCGGCGAGGTCAGCGCCGACGCCGTCAACAAGATCGCGCCGCAGATCGGCGCCACCGGTCCGGTGCCCGGTACCGCGTGGGTCGCCGAAGAAGGTGATCACAAGCTCATGCAGGTGCGGCTGGAGCCCTCGCCCGGCAACAGCGTCACGATGACGCTGTCGAAGTGGGGCGAGCCGGTGACCGTCGACAAACCTGCGGT---GTGATG---------------------------------',\n",
       " '---------------------------------GGCCAACTTCTCGGATGCCAAGGCCGATGGTCGCGAGGCCATCAACGGCACCGAGGCGGTGCGGGTGACCGGCAACGTGAGCGCCGACGCGGTCAACAAGATCGCCCCGCAGCTCAAGGCCGACGGTCCGGTGCCTGGCACGGCGTGGATCACCGAGGA---CGACCACACGCTGCTACAGGCACAGCTCGAACCCACGCCGGGCAACAGCGTCAGGATGACGCTGTCGGACTGGGGTAAGCAGGTCAACGTCACCAAGCCCGCGTC---CTGATGCGGGGCGCGAAGGCGGTGGCATCCCGGCCTATG',\n",
       " 'CCTGAACCCCGACACGGGCCTGGCCAACGTGCTGGCCAACTTCTCCGACGCCACGGCCGACGGCCGCGAGTCGATCAACGGCACCGAGGCGGTCCGCGTGAAGGGCAACGTCAGCGCCGACGCGGTCAACAAGATCGCACCGGCGCTCAAGGCCGACGGCCCGGTGCCCGGCACCGCGTGGATCACCGAGGA---CGATCACACGCTGCTGCAGGCCCAGCTGGAGCCCACGCCGGGCAACAGCGTCACGATGACGCTCTCGGACTGGGGTAAGCAGGTCAACGTCACCAAGCCCGCGGC---CTGATG---------------------------------']"
      ]
     },
     "execution_count": 116,
     "metadata": {},
     "output_type": "execute_result"
    }
   ],
   "source": [
    "align.sequence_list"
   ]
  },
  {
   "cell_type": "code",
   "execution_count": null,
   "id": "f0dd45db-b728-4664-827f-c51acfdf0438",
   "metadata": {},
   "outputs": [],
   "source": [
    "sns.scatterplot(data = temp_df, x = 'query_1_start', y = 'target_1_start', s=1)"
   ]
  },
  {
   "cell_type": "code",
   "execution_count": null,
   "id": "bd10a4cf-dde4-49df-a3b7-af30cba714ab",
   "metadata": {},
   "outputs": [],
   "source": [
    "test.to_csv(project_dir + '/test.csv')"
   ]
  },
  {
   "cell_type": "code",
   "execution_count": null,
   "id": "c4361575-18ad-4465-b10f-312520df24c9",
   "metadata": {},
   "outputs": [],
   "source": [
    "sns.scatterplot(data = test, x  = 'tb_start', y = 'target_start', s=1 )"
   ]
  },
  {
   "cell_type": "code",
   "execution_count": null,
   "id": "b14edf3b-c9b9-4966-a29a-db6fd199f483",
   "metadata": {},
   "outputs": [],
   "source": [
    "sns.histplot(data = test, x = 'percent_identical_matches')"
   ]
  },
  {
   "cell_type": "markdown",
   "id": "61ab8568-1a2c-43c6-b96b-c670c5153c19",
   "metadata": {},
   "source": [
    "#### Analyse interfeature orthologs in target species"
   ]
  },
  {
   "cell_type": "code",
   "execution_count": null,
   "id": "6e062a8f-2b1c-442d-8bf7-5f67bd79a966",
   "metadata": {},
   "outputs": [],
   "source": [
    "prob_dict = {}\n",
    "for (start, stop, strand, length, prob) in mycobrowser_inter_feature_orf_probabilities:\n",
    "    prob_dict[(start, stop, strand)] = prob"
   ]
  },
  {
   "cell_type": "code",
   "execution_count": null,
   "id": "95054873-7b43-4c68-81f6-c1f3a7602f85",
   "metadata": {},
   "outputs": [],
   "source": [
    "if_blast_output = blastfn.process_blast_output('F:/Datasets/BLAST/comparator_orfs/if_hits.csv', organism_name_dict, top_hit_only = False)\n",
    "if_test = if_blast_output[if_blast_output['target_species_name'] == 'Mycobacterium marinum'];\n",
    "if_test['Overlap'] = 0\n",
    "if_test['Genbank_Coordinates'] = ''\n",
    "\n",
    "for i, r in tqdm(if_test.iterrows()):\n",
    "    start = int(r['query_ref'].split('@')[1].split('_')[0])\n",
    "    stop = int(r['query_ref'].split('@')[1].split('_')[1])\n",
    "    strand = int(r['query_ref'].split('@')[1].split('_')[2])\n",
    "    if_test.at[i,'probability'] = prob_dict[(start, stop, strand)]\n",
    "    highest_overlap = 0\n",
    "    hit = 0\n",
    "    for feature in genbank_cds_boundaries:\n",
    "            if start <= feature[1] and stop >= feature[0]:\n",
    "                overlap = (min(stop, feature[1]) - max(start, feature[0]))/(stop - start)\n",
    "                if overlap > highest_overlap:\n",
    "                    hit = 1\n",
    "                    highest_overlap = overlap\n",
    "                    highest_entry = feature\n",
    "    if hit == 1:\n",
    "        if_test.at[i,'Overlap'] = highest_overlap\n",
    "        if_test.at[i,'Genbank_Coordinates'] = highest_entry\n",
    "if_test = if_test[abs(if_test['query_length'] - if_test['query_end_alignment']) < 3]\n",
    "if_test = if_test[abs(if_test['subject_length'] - if_test['target_end_alignment']) < 3]\n",
    "if_test.to_csv(project_dir + '/if_test_2.csv')"
   ]
  },
  {
   "cell_type": "code",
   "execution_count": null,
   "id": "a9b83959-05b3-4bdc-9668-4ed95c633c6d",
   "metadata": {},
   "outputs": [],
   "source": [
    "of = orffn.H37Rv_ORF_Finder()\n",
    "print(of.mutation_count_list[4056047:4056344])\n",
    "print(of.mutation_bin_probability(of.mutation_count_list[4056047:4056344]))"
   ]
  },
  {
   "cell_type": "code",
   "execution_count": null,
   "id": "ceb30600-5579-421f-b8bd-fdf578153f9e",
   "metadata": {},
   "outputs": [],
   "source": [
    "average = []\n",
    "totlen = len(of.mutation_count_list)\n",
    "for x in range(0, int(totlen/500)-1):\n",
    "    average.append(sum(of.mutation_count_list[x*500: x*500 +500]))\n",
    "sns.histplot(average, bins=300)"
   ]
  },
  {
   "cell_type": "code",
   "execution_count": null,
   "id": "db5a9840-1fa6-482e-93ba-dd79f38150db",
   "metadata": {},
   "outputs": [],
   "source": [
    "def bin_formula(max_bin_counts, tot_bin_counts):\n",
    "    return 1- binom.cdf(max_bin_counts-1, tot_bin_counts,1/3)\n",
    "\n",
    "def mutation_bin_probability(mutation_counts):\n",
    "    bin_counts = [0,0,0]\n",
    "    for i, c in enumerate(mutation_counts):\n",
    "        bin_counts[i % 3] += c\n",
    "    if sum(bin_counts) == 0:\n",
    "        return 2\n",
    "    else:\n",
    "        return (bin_counts, bin_formula(bin_counts[2], sum(bin_counts)))  "
   ]
  },
  {
   "cell_type": "code",
   "execution_count": null,
   "id": "b0c010a0-f484-4eaf-9351-7e7d0f5c8e77",
   "metadata": {},
   "outputs": [],
   "source": [
    "mutation_bin_probability(of.mutation_count_list[4056047:4056344])"
   ]
  },
  {
   "cell_type": "code",
   "execution_count": null,
   "id": "ed1a1b09-4830-4128-8030-8b9c2ee8d839",
   "metadata": {},
   "outputs": [],
   "source": [
    "organism_name_dict"
   ]
  },
  {
   "cell_type": "code",
   "execution_count": null,
   "id": "d33a4b17-a75a-4e5b-9024-8a910df184fd",
   "metadata": {},
   "outputs": [],
   "source": [
    "orf_dict['NC_000962.3'][0][2760753:2760856]"
   ]
  },
  {
   "cell_type": "code",
   "execution_count": null,
   "id": "2932949c-2cf4-4caf-9a6e-44ddfa9132e5",
   "metadata": {},
   "outputs": [],
   "source": [
    "orf_dict['NZ_CP058277.1'][0][5934538:5934641]"
   ]
  },
  {
   "cell_type": "code",
   "execution_count": null,
   "id": "c9b1fee7-1588-4576-90d2-096b0f020053",
   "metadata": {},
   "outputs": [],
   "source": [
    "orf_dict['NZ_AP022581.1'][0][692416:692519]"
   ]
  },
  {
   "cell_type": "code",
   "execution_count": null,
   "id": "56c82463-561f-44d3-9349-0518e3a327a7",
   "metadata": {},
   "outputs": [],
   "source": [
    "trans = util.Translator()\n",
    "v = orf_dict[tb_species]'NC_000962.3@2760763_2762380_1']\n",
    "   "
   ]
  },
  {
   "cell_type": "code",
   "execution_count": null,
   "id": "ccd8f08f-2930-46e9-a8b0-ab0be99447b0",
   "metadata": {},
   "outputs": [],
   "source": [
    " for k, v in orf_dict.items():\n",
    "        full_sequence = v[0]\n",
    "        orf_list = v[1]\n",
    "        for x in orf_list:\n",
    "            if x[2] == 1:\n",
    "                prot = trans.translate_sequence(full_sequence[x[0]:x[1]], 1, 0)"
   ]
  },
  {
   "cell_type": "code",
   "execution_count": null,
   "id": "b1dfbde7-a611-4afb-a757-217635e7dae4",
   "metadata": {},
   "outputs": [],
   "source": [
    "trans = util.Translator()\n",
    "temp = []\n",
    "for k, v in orf_dict.items():\n",
    "    full_sequence = v[0]\n",
    "    orf_list = v[1]\n",
    "    for x in orf_list:\n",
    "        if x[2] == 1:\n",
    "            prot = trans.translate_sequence(full_sequence[x[0]:x[1]], 1, 0)\n",
    "        else:\n",
    "            prot = trans.translate_sequence(util.reverse_complement(full_sequence[x[0]:x[1]]), 1, 0)\n",
    "        name = k + '@' +str(x[0])+'_'+str(x[1])+'_'+str(x[2])\n",
    "        if name in ['NC_000962.3@2760763_2762380_1']:\n",
    "            print(prot[:-1])\n",
    "        if name in ['NZ_CP058277.1@5934638_5936567_1']:\n",
    "            print(prot[89:622])"
   ]
  },
  {
   "cell_type": "code",
   "execution_count": null,
   "id": "961a4326-37e4-466d-bd83-3bc32d624283",
   "metadata": {},
   "outputs": [],
   "source": []
  }
 ],
 "metadata": {
  "kernelspec": {
   "display_name": "Python 3 (ipykernel)",
   "language": "python",
   "name": "python3"
  },
  "language_info": {
   "codemirror_mode": {
    "name": "ipython",
    "version": 3
   },
   "file_extension": ".py",
   "mimetype": "text/x-python",
   "name": "python",
   "nbconvert_exporter": "python",
   "pygments_lexer": "ipython3",
   "version": "3.9.7"
  }
 },
 "nbformat": 4,
 "nbformat_minor": 5
}
