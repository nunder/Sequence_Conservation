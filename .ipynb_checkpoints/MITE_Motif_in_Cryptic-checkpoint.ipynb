{
 "cells": [
  {
   "cell_type": "markdown",
   "id": "b1e30ed4-8a0e-4a6f-96eb-dfe116dfb2de",
   "metadata": {},
   "source": [
    "#### Import packages, set directories and parameters"
   ]
  },
  {
   "cell_type": "code",
   "execution_count": 2,
   "id": "cf9c6377-5080-4c22-94db-feabe17cc47c",
   "metadata": {},
   "outputs": [],
   "source": [
    "import pandas as pd\n",
    "import pickle\n",
    "import seaborn as sns\n",
    "import matplotlib.pyplot as plt\n",
    "import numpy as np\n",
    "import shutil\n",
    "from Bio import Entrez, SeqIO, AlignIO, pairwise2, Align, Seq, motifs\n",
    "from Bio.Seq import Seq\n",
    "from Bio.SeqFeature import SeqFeature, FeatureLocation\n",
    "import math\n",
    "from tqdm import tqdm\n",
    "from Comparative_Analysis import Utilities as util\n",
    "from joblib import Parallel, delayed\n",
    "from Comparative_Analysis import Blast_Functions as blastfn\n",
    "import time\n",
    "import os\n",
    "import copy\n",
    "import collections\n",
    "from scipy.stats import chi2, binom\n",
    "from Comparative_Analysis import Alignment as alignfn\n",
    "from Bio.Align.Applications import MuscleCommandline\n",
    "import subprocess\n",
    "pd.options.mode.chained_assignment = None  # default='warn'"
   ]
  },
  {
   "cell_type": "code",
   "execution_count": 3,
   "id": "79c1ca3d-a68f-4a9d-a5c4-25df7385b3ad",
   "metadata": {},
   "outputs": [],
   "source": [
    "project_dir = 'F:/Project_Data/mabR_Project/MTBC'\n",
    "seq_dir = 'F:/Datasets/Other_Genomes/MTBC'\n",
    "motif_loc = 'F:/Project_Data/mabR_Project/Second_MEME_Upstream_Output/meme.txt'\n",
    "full_run = True\n",
    "muscle_exe = 'C:/Users/nicho/Muscle/muscle3.8.31_i86win32.exe'"
   ]
  },
  {
   "cell_type": "code",
   "execution_count": 5,
   "id": "42e1c6ce-c97a-457a-b47c-10cd35168c69",
   "metadata": {},
   "outputs": [],
   "source": [
    "tbc_seq_dict = {}\n",
    "tbc_name_dict = {}\n",
    "tbc_species_dirs = util.list_dirs(seq_dir)\n",
    "for sdir in tbc_species_dirs:\n",
    "    for genome_record in SeqIO.parse(seq_dir + '/' + sdir + '/sequence.gb', \"genbank\"):\n",
    "            accession_ver = genome_record.annotations['accessions'][0] + '.' + str(genome_record.annotations['sequence_version'])\n",
    "            tbc_name_dict[accession_ver] = genome_record.annotations['organism']\n",
    "            full_sequence = str(genome_record.seq)\n",
    "            tbc_seq_dict[accession_ver] = full_sequence\n",
    "    "
   ]
  },
  {
   "cell_type": "code",
   "execution_count": 206,
   "id": "62af6666-bdc3-4f29-98e5-dfcd2405ca41",
   "metadata": {},
   "outputs": [],
   "source": [
    "informal_names_dict = {'CP063804.2': 'M.orygis', 'CP016401.1':'M.caprae',  'LT708304.1': 'M.bovis', 'AL123456.3':'M.tb', 'LR882500.1': 'M.microti' , 'FR878060.1':'M.africanum', 'HE572590.1':'M.canettii'}"
   ]
  },
  {
   "cell_type": "code",
   "execution_count": 200,
   "id": "ef61cf61-5e4c-4989-9f3d-6871a8a0b73f",
   "metadata": {},
   "outputs": [
    {
     "name": "stdout",
     "output_type": "stream",
     "text": [
      "CP063804.2 Mycobacterium orygis 4352140\n",
      "CP016401.1 Mycobacterium tuberculosis variant caprae 4324961\n",
      "LT708304.1 Mycobacterium tuberculosis variant bovis AF2122/97 4349904\n",
      "AL123456.3 Mycobacterium tuberculosis H37Rv 4411532\n",
      "LR882500.1 Mycobacterium tuberculosis variant microti 4384561\n",
      "FR878060.1 Mycobacterium tuberculosis variant africanum GM041182 4389314\n",
      "HE572590.1 Mycobacterium canettii CIPT 140010059 4482059\n"
     ]
    }
   ],
   "source": [
    "for k, v in tbc_seq_dict.items():\n",
    "    print(k, tbc_name_dict[k], len(v))"
   ]
  },
  {
   "cell_type": "code",
   "execution_count": 96,
   "id": "63f58a21-4009-4b7e-b289-7766b64797b1",
   "metadata": {},
   "outputs": [
    {
     "name": "stderr",
     "output_type": "stream",
     "text": [
      "100%|██████████| 7/7 [00:00<00:00, 10.88it/s]\n"
     ]
    }
   ],
   "source": [
    "util.produce_fasta_file([[k,v] for k, v in tbc_seq_dict.items()], project_dir + '/tbc_sequences.faa')"
   ]
  },
  {
   "cell_type": "code",
   "execution_count": 97,
   "id": "53c0fe66-0118-427f-b2e4-d74f419e8f1f",
   "metadata": {},
   "outputs": [],
   "source": [
    "blastfn.run_fimo(motif_loc, project_dir + '/tbc_sequences.faa' , project_dir + '/tbc_FIMO_Hits')"
   ]
  },
  {
   "cell_type": "code",
   "execution_count": 98,
   "id": "82900c08-1aee-455e-8386-e4af5ea42fab",
   "metadata": {},
   "outputs": [],
   "source": [
    "tbc_fimo_hits_df = pd.read_csv(project_dir + '/tbc_FIMO_Hits/fimo.tsv', sep='\\t')"
   ]
  },
  {
   "cell_type": "code",
   "execution_count": 147,
   "id": "78168be6-1adf-4417-a07d-77d6f8d17491",
   "metadata": {},
   "outputs": [
    {
     "name": "stderr",
     "output_type": "stream",
     "text": [
      "100%|██████████| 1049/1049 [00:00<00:00, 59253.71it/s]"
     ]
    },
    {
     "name": "stdout",
     "output_type": "stream",
     "text": [
      "1049\n"
     ]
    },
    {
     "name": "stderr",
     "output_type": "stream",
     "text": [
      "\n"
     ]
    }
   ],
   "source": [
    "temp = []\n",
    "for i, r in tbc_fimo_hits_df.iterrows():\n",
    "    if '#' in r['motif_id'] or not(r['motif_alt_id'] == 'MEME-1') or r['q-value'] > 1e-3:\n",
    "        continue\n",
    "    start = int(r['start'])-100\n",
    "    stop = int(r['stop'])+100\n",
    "    if r['strand'] == 1:\n",
    "        strand = '+'\n",
    "    else:\n",
    "        strand = '-'\n",
    "    temp.append([r['sequence_name']+'@'+str(start)+'_'+str(stop)+'_'+strand, tbc_seq_dict[r['sequence_name']][start:stop]])\n",
    "\n",
    "util.produce_fasta_file(temp, project_dir + '/mtbc_fimo_hits.faa')\n",
    "print(len(temp))"
   ]
  },
  {
   "cell_type": "code",
   "execution_count": 148,
   "id": "56a73d27-60ae-4b1e-824c-cf78f1c32b2a",
   "metadata": {},
   "outputs": [],
   "source": []
  },
  {
   "cell_type": "code",
   "execution_count": 148,
   "id": "4b412ca3-3d7e-4d3b-9dcd-d2c894c97017",
   "metadata": {},
   "outputs": [],
   "source": [
    "if 1==1:\n",
    "    blastfn.build_blast_db(project_dir, 'tbc_sequences.faa', 'MTBC', project_dir + '/BLAST/MTBC', 'nucl')\n",
    "    shutil.copy(project_dir + '/mtbc_fimo_hits.faa', project_dir + '/BLAST/MTBC/mtbc_fimo_hits.faa')\n",
    "    blastfn.run_blastn(project_dir + '/BLAST/MTBC', 'mtbc_fimo_hits.faa', 'MTBC', 'motif_mtbc_blast_hits.csv', e_value = 1e-1)"
   ]
  },
  {
   "cell_type": "code",
   "execution_count": 209,
   "id": "0c20803d-3cfa-4d69-8555-412b04321994",
   "metadata": {},
   "outputs": [],
   "source": [
    "blast_results_df = pd.read_csv(project_dir + '/BLAST/MTBC/motif_mtbc_blast_hits.csv', header = None)\n",
    "blast_results_df.columns = ['query_ref', 'target_ref', 'query_length', 'subject_length', 'percent_identical_matches','alignment_length', 'number_mismatches', 'number_of_gap_openings', \n",
    "                         'query_start_alignment', 'query_end_alignment', 'target_start_alignment', 'target_end_alignment', 'e_value', 'bit_score']\n",
    "blast_results_df = blast_results_df.loc[blast_results_df.groupby(['query_ref','target_ref'])['bit_score'].idxmax()]\n",
    "for i, r in blast_results_df.iterrows():\n",
    "    target_ref = r['target_ref'].split('@')[0]\n",
    "    informal_target_ref = informal_names_dict[target_ref]\n",
    "    query_ref = r['query_ref'].split('@')[0]\n",
    "    blast_results_df.at[i,'query_organism'] = tbc_name_dict[query_ref]\n",
    "    blast_results_df.at[i,'target_organism'] = tbc_name_dict[target_ref]\n",
    "    temp = r['query_ref'].split('@')[1].split('_')\n",
    "    query_start = int(temp[0])\n",
    "    query_end = int(temp[1])\n",
    "    target_start_alignment = int(r['target_start_alignment'])\n",
    "    target_end_alignment = int(r['target_end_alignment'])\n",
    "    query_start_alignment = int(r['query_start_alignment'])\n",
    "    query_end_alignment = int(r['query_end_alignment'])\n",
    "    full_target_alignment_start = target_start_alignment - query_start_alignment \n",
    "    full_target_alignment_end = target_end_alignment + 221- query_end_alignment\n",
    "    blast_results_df.at[i, 'full_target_alignment_start'] =  full_target_alignment_start\n",
    "    blast_results_df.at[i, 'full_target_alignment_end'] =  full_target_alignment_end\n",
    "    blast_results_df.at[i, 'full_query_sequence'] =  tbc_seq_dict[query_ref][query_start:query_end]\n",
    "    blast_results_df.at[i, 'full_target_sequence'] =  tbc_seq_dict[target_ref][full_target_alignment_start: full_target_alignment_end]\n",
    "    blast_results_df.at[i, 'full_target_sequence_ref'] = target_ref + '_'+ str(full_target_alignment_start) + '_' + str(full_target_alignment_end)\n",
    "    blast_results_df.at[i, 'informal_target_sequence_ref'] = informal_target_ref + '_'+ str(full_target_alignment_start) + '_' + str(full_target_alignment_end)"
   ]
  },
  {
   "cell_type": "code",
   "execution_count": 210,
   "id": "1f16b806-4dd0-459e-be65-dbc20ff9577e",
   "metadata": {},
   "outputs": [],
   "source": [
    "blast_results_df.to_csv(project_dir + '/processed_blast_results.csv')"
   ]
  },
  {
   "cell_type": "code",
   "execution_count": 211,
   "id": "a169991e-3b6f-4cba-9659-b60cbb41e51a",
   "metadata": {},
   "outputs": [],
   "source": [
    "temp_df = blast_results_df.query('query_end_alignment < 217')\n",
    "distinct_clusters = []\n",
    "regions_considered = []\n",
    "for i, r in temp_df.iterrows():\n",
    "    temp_df_2 = temp_df[temp_df['query_ref'] == r['query_ref']]\n",
    "    matched = 0\n",
    "    for j, s in temp_df_2.iterrows():\n",
    "        for (species, start, stop) in regions_considered:\n",
    "            if s['target_ref'] == species and s['full_target_alignment_start'] < stop and s['full_target_alignment_end'] > start:\n",
    "                matched = 1\n",
    "    if matched == 0:\n",
    "        distinct_clusters.append(r['query_ref'])\n",
    "        for j, s in temp_df_2.iterrows():\n",
    "            regions_considered.append((s['target_ref'], s['full_target_alignment_start'], s['full_target_alignment_end'])) "
   ]
  },
  {
   "cell_type": "code",
   "execution_count": 212,
   "id": "a569910e-b5d1-4522-9b9e-c06b96d558c7",
   "metadata": {},
   "outputs": [
    {
     "name": "stderr",
     "output_type": "stream",
     "text": [
      "100%|██████████| 7/7 [00:00<?, ?it/s]\n",
      "100%|██████████| 7/7 [00:00<?, ?it/s]\n",
      "100%|██████████| 7/7 [00:00<?, ?it/s]\n",
      "100%|██████████| 7/7 [00:00<?, ?it/s]\n",
      "100%|██████████| 7/7 [00:00<?, ?it/s]\n",
      "100%|██████████| 7/7 [00:00<?, ?it/s]\n",
      "100%|██████████| 7/7 [00:00<?, ?it/s]\n",
      "100%|██████████| 7/7 [00:00<?, ?it/s]\n",
      "100%|██████████| 7/7 [00:00<?, ?it/s]\n",
      "100%|██████████| 7/7 [00:00<?, ?it/s]\n",
      "100%|██████████| 5/5 [00:00<?, ?it/s]\n",
      "100%|██████████| 7/7 [00:00<?, ?it/s]\n",
      "100%|██████████| 7/7 [00:00<?, ?it/s]\n",
      "100%|██████████| 7/7 [00:00<?, ?it/s]\n",
      "100%|██████████| 7/7 [00:00<?, ?it/s]\n",
      "100%|██████████| 7/7 [00:00<?, ?it/s]\n",
      "100%|██████████| 7/7 [00:00<?, ?it/s]\n",
      "100%|██████████| 7/7 [00:00<?, ?it/s]\n",
      "100%|██████████| 7/7 [00:00<?, ?it/s]\n",
      "100%|██████████| 7/7 [00:00<00:00, 7201.40it/s]\n",
      "100%|██████████| 7/7 [00:00<?, ?it/s]\n"
     ]
    }
   ],
   "source": [
    "for ref in distinct_clusters:\n",
    "    region_of_interest = blast_results_df.query('query_ref == @ref')\n",
    "    temp = []\n",
    "    for i, r in region_of_interest.iterrows():\n",
    "        temp.append([r['informal_target_sequence_ref'],r['full_target_sequence']])\n",
    "    util.produce_fasta_file(temp, project_dir + '/Regions_of_Interest/' + ref + '.faa')\n",
    "    cline = MuscleCommandline(muscle_exe, input= project_dir + '/Regions_of_Interest/' + ref + '.faa', out = project_dir + '/Regions_of_Interest/' + ref + '_aligned.fasta')\n",
    "    stdout, stderr = cline()"
   ]
  },
  {
   "cell_type": "code",
   "execution_count": null,
   "id": "fd078fe5-3717-4414-a55d-095a37e7d6f4",
   "metadata": {},
   "outputs": [],
   "source": []
  },
  {
   "cell_type": "code",
   "execution_count": null,
   "id": "8324dfd3-4be1-4f96-a325-90e1c63e5d5f",
   "metadata": {},
   "outputs": [],
   "source": []
  },
  {
   "cell_type": "code",
   "execution_count": null,
   "id": "e3982967-edb0-4a45-817d-716abe792a63",
   "metadata": {},
   "outputs": [],
   "source": []
  },
  {
   "cell_type": "code",
   "execution_count": 160,
   "id": "ddd17d9f-c73c-4ba4-8239-c34f8170c787",
   "metadata": {},
   "outputs": [
    {
     "name": "stderr",
     "output_type": "stream",
     "text": [
      "100%|██████████| 2/2 [00:00<?, ?it/s]\n"
     ]
    }
   ],
   "source": [
    "util.produce_fasta_file([['H37RV_2522064_2522460',tb_sequence[2522064:2522460]],['AF221297_2505723_2505831',bovis_sequence[2505623:2505931]]], project_dir + '/bovis_tb_difference.faa')"
   ]
  },
  {
   "cell_type": "code",
   "execution_count": 83,
   "id": "d70eb899-47d5-4096-a805-615f07038940",
   "metadata": {},
   "outputs": [],
   "source": [
    "cline = MuscleCommandline(muscle_exe, input= project_dir + '/bovis_tb_difference.faa', out = project_dir + '/bovis_tb_alignment.fasta')\n",
    "stdout, stderr = cline()"
   ]
  },
  {
   "cell_type": "code",
   "execution_count": 76,
   "id": "145a253f-e955-4182-9488-705d3210958f",
   "metadata": {},
   "outputs": [
    {
     "data": {
      "text/plain": [
       "'CGACGAGAAGATCGACCCGGCGCATACTCGCAGCAAGCTCACCGAGGCGCTGGCGCAGGCTCCGGCACGGCGCGGCCGCCACAAGAACATCCCGCTGTAGTTCTGACCGCGAGCCGCTCCTCGCATGCTCGAACGGTGCCTACCGACGCGCTAACAATTCTCGAGAAGGCCGGCGGGTTCGCCACCACCGCGCAATTGCTCACGGTCATGACCCGCCAACAGCTCGACGTCCAAGTGAAAAACGGCGGCCTCGTTCGCGTTTGGTACGGGGTCTACGCGGCACAAGAGCCGGACCTGTTGGGCCGCTT'"
      ]
     },
     "execution_count": 76,
     "metadata": {},
     "output_type": "execute_result"
    }
   ],
   "source": [
    "bovis_sequence[2505623:2505931]"
   ]
  },
  {
   "cell_type": "code",
   "execution_count": 165,
   "id": "d88b4d6b-e434-466c-b1d3-de81c7d3635e",
   "metadata": {},
   "outputs": [],
   "source": [
    "counts_df = blast_results_df.groupby(['query_ref']).size().reset_index()\n",
    "counts_df=counts_df.rename(columns={0 : 'Count'}) "
   ]
  },
  {
   "cell_type": "markdown",
   "id": "d03738b5-bdbc-4b01-b20f-cb28392a6fab",
   "metadata": {},
   "source": [
    "#####  Analyse CRyPTIC "
   ]
  },
  {
   "cell_type": "code",
   "execution_count": 7,
   "id": "3d9c4e85-e471-45df-a5bf-abf26e2ad536",
   "metadata": {},
   "outputs": [
    {
     "name": "stderr",
     "output_type": "stream",
     "text": [
      "C:\\Users\\nicho\\AppData\\Local\\Temp/ipykernel_16552/3028569424.py:2: DtypeWarning: Columns (28) have mixed types. Specify dtype option on import or set low_memory=False.\n",
      "  variant_df = pd.read_csv('F:/Datasets/CRYPTIC_DATA/VARIANTS.csv')\n"
     ]
    }
   ],
   "source": [
    "if 1==0:\n",
    "    variant_df = pd.read_csv('F:/Datasets/CRYPTIC_DATA/VARIANTS.csv') \n",
    "    with open(project_dir + '/variant_df.pkl', 'wb') as f:\n",
    "        pickle.dump(variant_df[['UNIQUEID', 'VARIANT', 'MUTATION_TYPE', 'IS_NULL', 'IS_HET', 'IS_FILTER_PASS', 'IS_INDEL', 'REF', 'ALT', 'GENOME_INDEX']], f)   \n",
    "    \n",
    "    lineage_dict = {}\n",
    "    genome_df = pd.read_csv('F:/Datasets/CRYPTIC_DATA/GENOMES.csv') \n",
    "    for i, r in genome_df.iterrows():\n",
    "        lineage_dict[r['UNIQUEID']] = (r['MYKROBE_LINEAGE_NAME_1'], r['MYKROBE_LINEAGE_NAME_2'])\n",
    "    with open(project_dir + '/lineage_dict.pkl', 'wb') as f:\n",
    "        pickle.dump(lineage_dict, f) "
   ]
  },
  {
   "cell_type": "code",
   "execution_count": 259,
   "id": "6b2a3869-ce74-40f1-9659-58d9c962be39",
   "metadata": {},
   "outputs": [
    {
     "name": "stderr",
     "output_type": "stream",
     "text": [
      "C:\\Users\\nicho\\AppData\\Local\\Temp/ipykernel_16552/3016038815.py:1: DtypeWarning: Columns (1,3,13,14,15,27,36) have mixed types. Specify dtype option on import or set low_memory=False.\n",
      "  genome_df = pd.read_csv('F:/Datasets/CRYPTIC_DATA/GENOMES.csv')\n"
     ]
    },
    {
     "name": "stdout",
     "output_type": "stream",
     "text": [
      "15228\n",
      "18159377\n"
     ]
    }
   ],
   "source": [
    "with open(project_dir + '/variant_df.pkl', 'rb') as f:\n",
    "        variant_df = pickle.load(f) \n",
    "genome_df = pd.read_csv('F:/Datasets/CRYPTIC_DATA/GENOMES.csv') \n",
    "gpi_genome_df = genome_df[genome_df['BELONGS_GPI']==True][['UNIQUEID']] \n",
    "print(len(gpi_genome_df))\n",
    "gpi_variant_df = pd.merge(variant_df, gpi_genome_df, how='inner', on = 'UNIQUEID')\n",
    "print(len(gpi_variant_df))\n",
    "with open(project_dir + '/gpi_variant_df.pkl', 'wb') as f:\n",
    "    pickle.dump(gpi_variant_df, f)    "
   ]
  },
  {
   "cell_type": "code",
   "execution_count": 4,
   "id": "d429e295-c517-47a5-8cd0-b4483d6909f6",
   "metadata": {},
   "outputs": [],
   "source": [
    "if 1 == 1:\n",
    "    position_dict = {}\n",
    "    variant_dict = {}\n",
    "    #with open(project_dir + '/gpi_variant_df.pkl', 'rb') as f:\n",
    "    with open(project_dir + '/variant_df.pkl', 'rb') as f:\n",
    "        variant_df = pickle.load(f) \n",
    "        for i, r in variant_df.iterrows():\n",
    "            if r['IS_NULL'] == False and r['IS_FILTER_PASS'] == True and r['IS_HET'] == False and r['IS_INDEL'] == True :\n",
    "                \n",
    "                if r['UNIQUEID'] in variant_dict:\n",
    "                    variant_dict[r['UNIQUEID']].append((r['GENOME_INDEX'], r['REF'], r['ALT']))\n",
    "                else:\n",
    "                    variant_dict[r['UNIQUEID']] = [(r['GENOME_INDEX'], r['REF'], r['ALT'])]\n",
    "\n",
    "                if r['GENOME_INDEX'] in position_dict:\n",
    "                    position_dict[r['GENOME_INDEX']].append((r['UNIQUEID'], r['ALT']))\n",
    "                else:\n",
    "                    position_dict[r['GENOME_INDEX']] = [r['REF'], (r['UNIQUEID'], r['ALT'])]    # If first entry also include reference value for info\n",
    "    with open(project_dir + '/variant_dict.pkl', 'wb') as f:\n",
    "        pickle.dump(variant_dict, f) \n",
    "    with open(project_dir + '/position_dict.pkl', 'wb') as f:\n",
    "        pickle.dump(position_dict, f) \n",
    "        "
   ]
  },
  {
   "cell_type": "code",
   "execution_count": 9,
   "id": "1e8f4aec-3580-46c4-9120-f20dbe53df34",
   "metadata": {},
   "outputs": [],
   "source": [
    "all_mite_ids = []\n",
    "for k, v in position_dict.items():\n",
    "    if len(v[0]) <= 5:\n",
    "        for u in v[1:]:\n",
    "            if len(u[1]) > 10 and 'cgagcagacg' in u[1]:\n",
    "                all_mite_ids.append((k,u[0]))"
   ]
  },
  {
   "cell_type": "code",
   "execution_count": 13,
   "id": "30892b0b-2b72-4cd9-a090-3945b50b9454",
   "metadata": {},
   "outputs": [],
   "source": [
    "if 1 == 1:\n",
    "    phenotypes_df = pd.read_csv('F:/Datasets/CRYPTIC_DATA/UKMYC_PHENOTYPES.csv') \n",
    "    for i, r in phenotypes_df.iterrows():\n",
    "        uniqueid = r['UNIQUEID']\n",
    "        if uniqueid in [x[1] for x in all_mite_ids]:   #mite_ids or all_mite_ids for all\n",
    "            phenotypes_df.at[i, 'MITE'] = 'Y'\n",
    "            phenotypes_df.at[i,'INSERT_POS'] = ' '.join([str(x[0]) for x in all_mite_ids if x[1] == uniqueid])\n",
    "        else:\n",
    "            phenotypes_df.at[i, 'MITE'] = 'N'\n",
    "            phenotypes_df.at[i,'INSERT_POS'] = ''"
   ]
  },
  {
   "cell_type": "code",
   "execution_count": 15,
   "id": "668b0cec-8caa-4622-a228-fc2df96506dd",
   "metadata": {},
   "outputs": [],
   "source": [
    "with open(project_dir + '/lineage_dict.pkl', 'rb') as f:\n",
    "        lineage_dict = pickle.load(f) "
   ]
  },
  {
   "cell_type": "code",
   "execution_count": 16,
   "id": "4b30f248-9c6a-4f94-96aa-7e488fb6d1c5",
   "metadata": {},
   "outputs": [],
   "source": [
    "for i, r in phenotypes_df.iterrows():\n",
    "    if r['UNIQUEID'] in lineage_dict:\n",
    "        phenotypes_df.at[i, 'Lineage_1'] = lineage_dict[r['UNIQUEID']][0]\n",
    "        phenotypes_df.at[i, 'Lineage_2'] = lineage_dict[r['UNIQUEID']][1]\n",
    "phenotypes_df.to_csv(project_dir + '/phenotypes_mite_xref.csv')"
   ]
  },
  {
   "cell_type": "code",
   "execution_count": 22,
   "id": "3c692dc4-e7a5-4b2f-a3d7-841857889ca5",
   "metadata": {},
   "outputs": [],
   "source": [
    "temp = []\n",
    "for (pos, uid) in all_mite_ids:\n",
    "    if uid in lineage_dict:\n",
    "        temp.append([pos, lineage_dict[uid][1]])\n",
    "    else:\n",
    "        temp.append([pos, ''])\n",
    "                     "
   ]
  },
  {
   "cell_type": "code",
   "execution_count": 23,
   "id": "372f2a58-216f-4843-81da-7dc74a2d6278",
   "metadata": {},
   "outputs": [],
   "source": [
    "pd.DataFrame(temp, columns = ['pos','lineage']).to_csv(project_dir+'/mite_lineages.csv')"
   ]
  },
  {
   "cell_type": "code",
   "execution_count": 17,
   "id": "ccc36d18-1fb2-4d32-95c0-0627608bcdfa",
   "metadata": {},
   "outputs": [
    {
     "name": "stdout",
     "output_type": "stream",
     "text": [
      "(3507998, 'tcggcgagcagacgtcaaagcccccgaatttcagtgaaatcgggggcttt', 50, 'site.02.subj.1149.lab.2014185089.iso.2', 2)\n",
      "(456185, 'cgcgctagcacgggccggcgagcagacgcaaaatcgcacggtttgcggtt', 50, 'site.07.subj.11C4C391-4951-4B7A-953F-4CF9711E4DAD.lab.11C4C391-4951-4B7A-953F-4CF9711E4DAD.iso.1', 143)\n",
      "(2751594, 'tgcgcgagcagacgcaaaagctcccaaatccgaccggatttgggagcttt', 50, 'site.24.subj.PT-17.lab.1999-372.iso.1', 2)\n",
      "(234447, 'ccgagcagacgcagaatcgcccatttggtatcccaaatgggcgattctgc', 50, 'site.06.subj.06TB_0319.lab.06MIL0910.iso.1', 119)\n",
      "(663387, 'ggcgcgagcagacgcagaatcgcacaaaatcagcgattttgatgcgattc', 50, 'site.03.subj.6760-13_LIB3069.lab.6760-13_LIB3069.iso.1', 80)\n",
      "(1568035, 'agcgtcgagggcgcgagcagacgcagaatcgcacgcggaaaggcttccgc', 50, 'site.06.subj.06TB_0933.lab.06MIL1928.iso.1', 137)\n",
      "(234432, 'gcccgccgccatccgccgagcagacgcagaatcgcccatttggtatccca', 50, 'site.ENA.subj.SAMN03648910.lab.1.iso.1', 4)\n",
      "(558812, 'agtctgccgagcagacgcaaaagcacccttttgcggcgcaaaagtggcgc', 50, 'site.06.subj.06TB_0318.lab.06MIL0909.iso.1', 45)\n",
      "(1133247, 'cctggtcacctaaggccgccgagcagacgcaaaatcccctcgacacgccg', 50, 'site.00.subj.BE-106.lab.13MY0702.iso.1', 3)\n",
      "(1488078, 'ccggctggcgagcagacgcagaatcgcctaaacccgcacgggtttaggcg', 50, 'site.03.subj.6455-11_LIB13053.lab.6455-11_LIB13053.iso.1', 45)\n",
      "(663376, 'gcggctcccatggcgcgagcagacgcagaatcgcacaaaatcagcgattt', 50, 'site.07.subj.FD_127_1679.lab.16_0601023.iso.1', 6)\n",
      "(4246527, 'cgagcagacgcaaaagcaccccaaatcgggcgattttgggggcttttgcg', 50, 'site.04.subj.05714.lab.GWT1411.iso.1', 2)\n",
      "(2839459, 'acgcgctcaaccagctcgcgagcagacgcagagtcgcatgaaaatccgga', 50, 'site.03.subj.11050-11_LIB12322.lab.11050-11_LIB12322.iso.1', 39)\n",
      "(1568046, 'cgcgagcagacgcagaatcgcacgcggaaaggcttccgcgtgcgattctg', 50, 'site.06.subj.06TB_0306.lab.06MIL0897.iso.1', 4)\n",
      "(1133261, 'gccgccgagcagacgcaaaatcccctcgacacgccggttgcgaggggatt', 50, 'site.ENA.subj.SAMEA3715423.lab.1.iso.1', 2)\n",
      "(459380, 'cttccacgccgagcagacgaggaatcgcactgcgcggacctcacgcgtgc', 50, 'site.00.subj.NETHERLANDS_NLA000301128.lab.NLA000301128.iso.1', 6)\n",
      "(2751596, 'cgcgagcagacgcaaaagctcccaaatccgaccggatttgggagcttttg', 50, 'site.03.subj.435_17.lab.AZE-384_LIB21952.iso.1', 4)\n",
      "(1014769, 'acgagcagacgcaaggcaattattctgacgccatccacaa', 40, 'site.03.subj.230_17.lab.AZE-533_LIB22104.iso.1', 8)\n",
      "(558810, 'ctagtctgccgagcagacgcaaaagcacccttttgcggcgcaaaagtggc', 50, 'site.ENA.subj.SAMEA2783136.lab.1.iso.1', 3)\n",
      "(815632, 'ttcgggcgagcagacgcaaaatgcccccgaaatgcccattttcgggggct', 50, 'site.ENA.subj.SAMEA3671536.lab.1.iso.1', 3)\n",
      "(1205226, 'tgggttaactaccgcgagcagacgcgaaagcaccccaaaaccgccggttt', 50, 'site.ENA.subj.SAMN03647775.lab.1.iso.1', 5)\n",
      "(2751575, 'gtttgacgctactccggggtgcgcgagcagacgcaaaagctcccaaatcc', 50, 'site.28.subj.989.lab.R12022.iso.1', 3)\n",
      "(1568031, 'atctagcgtcgagggcgcgagcagacgcagaatcgcacgcggaaaggctt', 50, 'site.ENA.subj.SAMN08913018.lab.1.iso.1', 2)\n",
      "(1316645, 'acgagcagacggtggtctcatcggccgcgacgatcgccgcgcctgggatc', 50, 'site.00.subj.OXTBPAT_460.lab.F41766_OXRET_216.iso.1', 5)\n",
      "(234430, 'gtgcccgccgccatccgccgagcagacgcagaatcgcccatttggtatcc', 50, 'site.07.subj.97CA0086-9198-4B7D-A3A4-4EF5A89327A4.lab.97CA0086-9198-4B7D-A3A4-4EF5A89327A4.iso.1', 8)\n",
      "(2751597, 'gcgagcagacgcaaaagctcccaaatccgaccggatttgggagcttttgc', 50, 'site.ENA.subj.SAMEA2533525.lab.1.iso.1', 4)\n",
      "(663367, 'gttctgacggcggctcccatggcgcgagcagacgcagaatcgcacaaaat', 50, 'site.00.subj.ES_G701.lab.G701.iso.1', 6)\n",
      "(456183, 'accgcgctagcacgggccggcgagcagacgcaaaatcgcacggtttgcgg', 50, 'site.ENA.subj.SAMD00029474.lab.1.iso.1', 2)\n",
      "(1363435, 'tttgccgagcagacgcaaaatcgccctggaacgcacggttcagggcgatt', 50, 'site.ENA.subj.SAMN08892534.lab.1.iso.1', 2)\n",
      "(3215594, 'ggcgcgagcagacgcaaaagccaccgcacg', 30, 'site.ENA.subj.SAMN08215438.lab.1.iso.1', 5)\n",
      "(2751595, 'gcgcgagcagacgcaaaagctcccaaatccgaccggatttgggagctttt', 50, 'site.13.subj.80200622.lab.80200622.iso.1', 4)\n",
      "(234443, 'tccgccgagcagacgcagaatcgcccatttggtatcccaaatgggcgatt', 50, 'site.ENA.subj.SAMEA2533352.lab.1.iso.1', 2)\n",
      "(663368, 'ttctgacggcggctcccatggcgcgagcagacgcagaatcgcacaaaatc', 50, 'site.07.subj.74BAF8EC-D9D1-43BD-8F99-E62D1909B96C.lab.74BAF8EC-D9D1-43BD-8F99-E62D1909B96C.iso.1', 4)\n",
      "(2751593, 'gtgcgcgagcagacgcaaaagctcccaaatccgaccggatttgggagctt', 50, 'site.ENA.subj.SAMEA1556619.lab.1.iso.1', 2)\n",
      "(767326, 'cgagcagacgcagaatcgcacgcgaaatgcctgcgcgatgcgattctgcg', 50, 'site.ENA.subj.SAMN08892542.lab.1.iso.1', 2)\n",
      "(1488071, 'actgaggccggctggcgagcagacgcagaatcgcctaaacccgcacgggt', 50, 'site.ENA.subj.SAMEA104153472.lab.1.iso.1', 2)\n",
      "(1538709, 'tcgatgccgacctcctgctgggcgagcagacgagacttgctcgcgagatc', 50, 'site.07.subj.F148F814-668F-4B9D-83E9-F9A8FBCB7949.lab.F148F814-668F-4B9D-83E9-F9A8FBCB7949.iso.1', 3)\n",
      "(2751598, 'cgagcagacgcaaaagctcccaaatccgaccggatttgggagcttttgcg', 50, 'site.07.subj.B2731B85-21C3-461A-BD26-630810E3D804.lab.B2731B85-21C3-461A-BD26-630810E3D804.iso.1', 3)\n",
      "(1488085, 'gcgagcagacgcagaatcgcctaaacccgcacgggtttaggcgattctgc', 50, 'site.07.subj.982B7E84-E5D4-4118-AFCC-C4B45BEA2EAD.lab.982B7E84-E5D4-4118-AFCC-C4B45BEA2EAD.iso.1', 2)\n",
      "(456178, 'gcgcaaccgcgctagcacgggccggcgagcagacgcaaaatcgcacggtt', 50, 'site.00.subj.NETHERLANDS_NLA009702403.lab.NLA009702403.iso.1', 2)\n",
      "(4088260, 'cgagcagacgtaaagcccccaaaacggaaccgttttgggggctttttgcg', 50, 'site.03.subj.12040-95_LIB8587.lab.12040-95_LIB8587.iso.1', 2)\n",
      "(663373, 'acggcggctcccatggcgcgagcagacgcagaatcgcacaaaatcagcga', 50, 'site.03.subj.11833-03_LIB9245.lab.11833-03_LIB9245.iso.1', 2)\n"
     ]
    }
   ],
   "source": [
    "temp = []\n",
    "for k, v in position_dict.items():\n",
    "    if len(v[0]) >= 20  and 'cgagcagacg' in v[0]:\n",
    "        ct = 0\n",
    "        for u in v[1:]:\n",
    "            if len(u[1]) < 3:\n",
    "                ct+=1\n",
    "        if ct > 0:\n",
    "            print((k, v[0], len(v[0]), u[0], len(v)))"
   ]
  },
  {
   "cell_type": "code",
   "execution_count": 6,
   "id": "3da840ed-b2e2-4442-8ceb-25457cdc3166",
   "metadata": {},
   "outputs": [
    {
     "name": "stdout",
     "output_type": "stream",
     "text": [
      "3423249 ('site.02.subj.1005.lab.2013182022.iso.2', 'cgcgagcagacgcagaatcgcccaaaatccaagattttgaggcgattctg') 50 44736\n",
      "2352065 ('site.05.subj.LI2088309.lab.14892_2_22.iso.1', 'cctcgcctgggctggcgagcagacgcaaaatcccccgcacgcccggcgtg') 50 23793\n",
      "2352071 ('site.24.subj.PT-87.lab.2019-273.iso.1', 'ctgggctggcgagcagacgcaaaatcccccgcacgcccggcgtgtcgggg') 50 123\n",
      "4088249 ('site.ENA.subj.SAMN03648329.lab.1.iso.1', 'g') 1 1\n",
      "2352062 ('site.ENA.subj.SAMN08708491.lab.1.iso.1', 'cgtctg') 6 1\n",
      "234431 ('site.ENA.subj.SAMEA2040565.lab.1.iso.1', 't') 1 1\n",
      "3423250 ('site.ENA.subj.SAMEA104153440.lab.1.iso.1', 'g') 1 1\n",
      "2352067 ('site.ENA.subj.SAMEA104390504.lab.1.iso.1', 'tcgcctgggctggcgagcagacgcaaaatcccccgcacgcccggcgtgtc') 50 1\n",
      "2352070 ('site.ENA.subj.SAMN06473197.lab.1.iso.1', 'cctgggctggcgagcagacgcaaaatcccccgcacgcccggcgtgtcggg') 50 1\n",
      "2352063 ('site.ENA.subj.SAMN03648436.lab.1.iso.1', 'ctcctcgcctgggctggcgagcagacgcaaaatcccccgcacgcccggcg') 50 2\n",
      "2352069 ('site.ENA.subj.SAMN06209904.lab.1.iso.1', 'gcctgggctggcgagcagacgcaaaatcccccgcacgcccggcgtgtcgg') 50 2\n",
      "2352066 ('site.ENA.subj.SAMN04633288.lab.1.iso.1', 'ctcgcctgggctggcgagcagacgcaaaatcccccgcacgcccggcgtgt') 50 1\n"
     ]
    }
   ],
   "source": [
    "for k, v in position_dict.items():\n",
    "    if len(v[0]) <= 5:\n",
    "        ct = 0\n",
    "        for u in v[1:]:\n",
    "            if len(u[1]) > 20 and 'cgagcagacg' in (u[1]):\n",
    "                ct +=1\n",
    "        if ct > 0:\n",
    "            print(k, v[1], len(v[1][1]), ct)"
   ]
  },
  {
   "cell_type": "code",
   "execution_count": 263,
   "id": "b3204314-c2db-4448-9d97-15caefd13f2d",
   "metadata": {},
   "outputs": [
    {
     "data": {
      "text/plain": [
       "<AxesSubplot:ylabel='Count'>"
      ]
     },
     "execution_count": 263,
     "metadata": {},
     "output_type": "execute_result"
    },
    {
     "data": {
      "image/png": "[encoded data removed]",
      "text/plain": [
       "<Figure size 432x288 with 1 Axes>"
      ]
     },
     "metadata": {
      "needs_background": "light"
     },
     "output_type": "display_data"
    }
   ],
   "source": [
    "temp = []\n",
    "for k, v in position_dict.items():\n",
    "    temp.append(len(v[1][1]))\n",
    "sns.histplot(temp, bins = 100)"
   ]
  },
  {
   "cell_type": "code",
   "execution_count": 230,
   "id": "799ec36a-0167-41dc-8cc6-6b8baa756eb1",
   "metadata": {},
   "outputs": [],
   "source": [
    "mite_ids = []\n",
    "mite_subjids = []\n",
    "for i, r in phenotypes_df.iterrows():\n",
    "    if r['MITE'] == 'Y':\n",
    "        mite_ids.append(r['UNIQUEID'])\n",
    "        mite_subjids.append(r['UNIQUEID'].split('.')[3])\n",
    "mite_ids = list(set(mite_ids))\n",
    "mite_subjids = list(set(mite_subjids))"
   ]
  },
  {
   "cell_type": "code",
   "execution_count": 197,
   "id": "0294b254-e028-44ab-8919-51b5b1a007c2",
   "metadata": {},
   "outputs": [],
   "source": [
    "UKMYC_PLATES=pd.read_csv('F:/Datasets/CRYPTIC_DATA/UKMYC_PLATES.csv.gz')"
   ]
  },
  {
   "cell_type": "code",
   "execution_count": 206,
   "id": "774faed4-8cf3-4114-a689-8725841352d5",
   "metadata": {},
   "outputs": [],
   "source": [
    "mite_plates = UKMYC_PLATES[UKMYC_PLATES['UNIQUEID'].isin(mite_ids)]"
   ]
  },
  {
   "cell_type": "code",
   "execution_count": 218,
   "id": "ac4a1558-73c3-4b34-993d-21665929c517",
   "metadata": {},
   "outputs": [],
   "source": [
    "mite_plates.to_csv(project_dir + \"/mite_plates.csv\")\n"
   ]
  },
  {
   "cell_type": "code",
   "execution_count": 253,
   "id": "013494d5-c697-431b-a5c7-d88b3f023f19",
   "metadata": {},
   "outputs": [],
   "source": [
    "SAMPLES=pd.read_csv('F:/Datasets/CRYPTIC_DATA/SAMPLES.csv.gz')\n",
    "SUBJECTS=pd.read_csv('F:/Datasets/CRYPTIC_DATA/SUBJECTS.csv.gz')\n",
    "DST_SAMPLES=pd.read_csv('F:/Datasets/CRYPTIC_DATA/DST_SAMPLES.csv')"
   ]
  },
  {
   "cell_type": "code",
   "execution_count": 254,
   "id": "df4a6a60-3f20-43d4-b0e6-67f15c80baa0",
   "metadata": {},
   "outputs": [
    {
     "data": {
      "text/html": [
       "<div>\n",
       "<style scoped>\n",
       "    .dataframe tbody tr th:only-of-type {\n",
       "        vertical-align: middle;\n",
       "    }\n",
       "\n",
       "    .dataframe tbody tr th {\n",
       "        vertical-align: top;\n",
       "    }\n",
       "\n",
       "    .dataframe thead th {\n",
       "        text-align: right;\n",
       "    }\n",
       "</style>\n",
       "<table border=\"1\" class=\"dataframe\">\n",
       "  <thead>\n",
       "    <tr style=\"text-align: right;\">\n",
       "      <th></th>\n",
       "      <th>SITEID</th>\n",
       "      <th>SUBJID</th>\n",
       "      <th>GENDER</th>\n",
       "      <th>COUNTRY_OF_ORIGIN</th>\n",
       "    </tr>\n",
       "  </thead>\n",
       "  <tbody>\n",
       "    <tr>\n",
       "      <th>0</th>\n",
       "      <td>2</td>\n",
       "      <td>0958</td>\n",
       "      <td>male</td>\n",
       "      <td>NaN</td>\n",
       "    </tr>\n",
       "    <tr>\n",
       "      <th>1</th>\n",
       "      <td>2</td>\n",
       "      <td>0823</td>\n",
       "      <td>unknown</td>\n",
       "      <td>NaN</td>\n",
       "    </tr>\n",
       "    <tr>\n",
       "      <th>2</th>\n",
       "      <td>2</td>\n",
       "      <td>0359</td>\n",
       "      <td>unknown</td>\n",
       "      <td>CHN</td>\n",
       "    </tr>\n",
       "    <tr>\n",
       "      <th>3</th>\n",
       "      <td>2</td>\n",
       "      <td>0224</td>\n",
       "      <td>male</td>\n",
       "      <td>CHN</td>\n",
       "    </tr>\n",
       "    <tr>\n",
       "      <th>4</th>\n",
       "      <td>2</td>\n",
       "      <td>0870</td>\n",
       "      <td>male</td>\n",
       "      <td>NaN</td>\n",
       "    </tr>\n",
       "    <tr>\n",
       "      <th>...</th>\n",
       "      <td>...</td>\n",
       "      <td>...</td>\n",
       "      <td>...</td>\n",
       "      <td>...</td>\n",
       "    </tr>\n",
       "    <tr>\n",
       "      <th>15494</th>\n",
       "      <td>10</td>\n",
       "      <td>YA00023527</td>\n",
       "      <td>male</td>\n",
       "      <td>NaN</td>\n",
       "    </tr>\n",
       "    <tr>\n",
       "      <th>15495</th>\n",
       "      <td>10</td>\n",
       "      <td>YA00038868</td>\n",
       "      <td>male</td>\n",
       "      <td>NaN</td>\n",
       "    </tr>\n",
       "    <tr>\n",
       "      <th>15496</th>\n",
       "      <td>10</td>\n",
       "      <td>YA00038857</td>\n",
       "      <td>male</td>\n",
       "      <td>NaN</td>\n",
       "    </tr>\n",
       "    <tr>\n",
       "      <th>15497</th>\n",
       "      <td>10</td>\n",
       "      <td>YA00038867</td>\n",
       "      <td>male</td>\n",
       "      <td>NaN</td>\n",
       "    </tr>\n",
       "    <tr>\n",
       "      <th>15498</th>\n",
       "      <td>10</td>\n",
       "      <td>YA00023533</td>\n",
       "      <td>male</td>\n",
       "      <td>NaN</td>\n",
       "    </tr>\n",
       "  </tbody>\n",
       "</table>\n",
       "<p>15499 rows × 4 columns</p>\n",
       "</div>"
      ],
      "text/plain": [
       "       SITEID      SUBJID   GENDER COUNTRY_OF_ORIGIN\n",
       "0           2        0958     male               NaN\n",
       "1           2        0823  unknown               NaN\n",
       "2           2        0359  unknown               CHN\n",
       "3           2        0224     male               CHN\n",
       "4           2        0870     male               NaN\n",
       "...       ...         ...      ...               ...\n",
       "15494      10  YA00023527     male               NaN\n",
       "15495      10  YA00038868     male               NaN\n",
       "15496      10  YA00038857     male               NaN\n",
       "15497      10  YA00038867     male               NaN\n",
       "15498      10  YA00023533     male               NaN\n",
       "\n",
       "[15499 rows x 4 columns]"
      ]
     },
     "execution_count": 254,
     "metadata": {},
     "output_type": "execute_result"
    }
   ],
   "source": [
    "SUBJECTS"
   ]
  },
  {
   "cell_type": "code",
   "execution_count": 233,
   "id": "df6e8820-d9a3-436d-8811-463e8ed59775",
   "metadata": {},
   "outputs": [],
   "source": [
    "mite_samples = SAMPLES[SAMPLES['SUBJID'].isin(mite_subjids)]"
   ]
  },
  {
   "cell_type": "code",
   "execution_count": 234,
   "id": "de310781-0b61-4fc0-a8a0-e746c27c25db",
   "metadata": {},
   "outputs": [
    {
     "data": {
      "text/html": [
       "<div>\n",
       "<style scoped>\n",
       "    .dataframe tbody tr th:only-of-type {\n",
       "        vertical-align: middle;\n",
       "    }\n",
       "\n",
       "    .dataframe tbody tr th {\n",
       "        vertical-align: top;\n",
       "    }\n",
       "\n",
       "    .dataframe thead th {\n",
       "        text-align: right;\n",
       "    }\n",
       "</style>\n",
       "<table border=\"1\" class=\"dataframe\">\n",
       "  <thead>\n",
       "    <tr style=\"text-align: right;\">\n",
       "      <th></th>\n",
       "      <th>SITEID</th>\n",
       "      <th>SUBJID</th>\n",
       "      <th>LABID</th>\n",
       "      <th>COUNTRY_WHERE_SAMPLE_TAKEN</th>\n",
       "      <th>REGION</th>\n",
       "      <th>COLLECTION_DATE</th>\n",
       "      <th>ISOLATE_COLLECTED_PROSPECTIVELY</th>\n",
       "      <th>ANATOMICAL_ORIGIN</th>\n",
       "      <th>SMEAR_RESULT</th>\n",
       "      <th>WGS_SEQUENCING_PLATFORM</th>\n",
       "      <th>...</th>\n",
       "      <th>HAIN_FL</th>\n",
       "      <th>HAIN_AM</th>\n",
       "      <th>HAIN_ETH</th>\n",
       "      <th>SMOKER</th>\n",
       "      <th>INJECT_DRUG_USER</th>\n",
       "      <th>IS_HOMELESS</th>\n",
       "      <th>IS_IMPRISONED</th>\n",
       "      <th>HIV</th>\n",
       "      <th>DIABETES</th>\n",
       "      <th>WHO_OUTCOME</th>\n",
       "    </tr>\n",
       "  </thead>\n",
       "  <tbody>\n",
       "  </tbody>\n",
       "</table>\n",
       "<p>0 rows × 23 columns</p>\n",
       "</div>"
      ],
      "text/plain": [
       "Empty DataFrame\n",
       "Columns: [SITEID, SUBJID, LABID, COUNTRY_WHERE_SAMPLE_TAKEN, REGION, COLLECTION_DATE, ISOLATE_COLLECTED_PROSPECTIVELY, ANATOMICAL_ORIGIN, SMEAR_RESULT, WGS_SEQUENCING_PLATFORM, XPERT_MTB_RIF, HAIN_RIF, HAIN_INH, HAIN_FL, HAIN_AM, HAIN_ETH, SMOKER, INJECT_DRUG_USER, IS_HOMELESS, IS_IMPRISONED, HIV, DIABETES, WHO_OUTCOME]\n",
       "Index: []\n",
       "\n",
       "[0 rows x 23 columns]"
      ]
     },
     "execution_count": 234,
     "metadata": {},
     "output_type": "execute_result"
    }
   ],
   "source": [
    "mite_samples"
   ]
  },
  {
   "cell_type": "code",
   "execution_count": 251,
   "id": "3b6d3839-7968-44cb-a3d0-a1e3725724fa",
   "metadata": {},
   "outputs": [
    {
     "data": {
      "text/html": [
       "<div>\n",
       "<style scoped>\n",
       "    .dataframe tbody tr th:only-of-type {\n",
       "        vertical-align: middle;\n",
       "    }\n",
       "\n",
       "    .dataframe tbody tr th {\n",
       "        vertical-align: top;\n",
       "    }\n",
       "\n",
       "    .dataframe thead th {\n",
       "        text-align: right;\n",
       "    }\n",
       "</style>\n",
       "<table border=\"1\" class=\"dataframe\">\n",
       "  <thead>\n",
       "    <tr style=\"text-align: right;\">\n",
       "      <th></th>\n",
       "      <th>UNIQUEID</th>\n",
       "      <th>SOURCE</th>\n",
       "      <th>COUNTRY_CODE</th>\n",
       "      <th>NUMBER_DST</th>\n",
       "      <th>OTHER_METADATA_JSON</th>\n",
       "      <th>MYKROBE_LINEAGE_NAME_1</th>\n",
       "      <th>MYKROBE_LINEAGE_NAME_2</th>\n",
       "    </tr>\n",
       "  </thead>\n",
       "  <tbody>\n",
       "    <tr>\n",
       "      <th>23225</th>\n",
       "      <td>site.01.subj.DR0011.lab.DR0011.iso.1</td>\n",
       "      <td>CRyPTIC</td>\n",
       "      <td>USA</td>\n",
       "      <td>12</td>\n",
       "      <td>{\"MORE_DATA_IN_CRYPTIC_TABLES\": true, \"PLATEDE...</td>\n",
       "      <td>Lineage 2</td>\n",
       "      <td>lineage2.2</td>\n",
       "    </tr>\n",
       "    <tr>\n",
       "      <th>23227</th>\n",
       "      <td>site.01.subj.DR0018.lab.DR0018.iso.1</td>\n",
       "      <td>CRyPTIC</td>\n",
       "      <td>USA</td>\n",
       "      <td>12</td>\n",
       "      <td>{\"MORE_DATA_IN_CRYPTIC_TABLES\": true, \"PLATEDE...</td>\n",
       "      <td>Lineage 2</td>\n",
       "      <td>lineage2.2</td>\n",
       "    </tr>\n",
       "    <tr>\n",
       "      <th>23229</th>\n",
       "      <td>site.01.subj.DR0030.lab.DR0030.iso.1</td>\n",
       "      <td>CRyPTIC</td>\n",
       "      <td>USA</td>\n",
       "      <td>12</td>\n",
       "      <td>{\"MORE_DATA_IN_CRYPTIC_TABLES\": true, \"PLATEDE...</td>\n",
       "      <td>Lineage 2</td>\n",
       "      <td>lineage2.2.7</td>\n",
       "    </tr>\n",
       "    <tr>\n",
       "      <th>23230</th>\n",
       "      <td>site.01.subj.DR0031.lab.DR0031.iso.1</td>\n",
       "      <td>CRyPTIC</td>\n",
       "      <td>USA</td>\n",
       "      <td>9</td>\n",
       "      <td>{\"MORE_DATA_IN_CRYPTIC_TABLES\": true, \"PLATEDE...</td>\n",
       "      <td>Lineage 4</td>\n",
       "      <td>lineage4.3.3</td>\n",
       "    </tr>\n",
       "    <tr>\n",
       "      <th>23231</th>\n",
       "      <td>site.01.subj.DR0036.lab.DR0036.iso.1</td>\n",
       "      <td>CRyPTIC</td>\n",
       "      <td>USA</td>\n",
       "      <td>12</td>\n",
       "      <td>{\"MORE_DATA_IN_CRYPTIC_TABLES\": true, \"PLATEDE...</td>\n",
       "      <td>Lineage 2</td>\n",
       "      <td>lineage2.2</td>\n",
       "    </tr>\n",
       "    <tr>\n",
       "      <th>...</th>\n",
       "      <td>...</td>\n",
       "      <td>...</td>\n",
       "      <td>...</td>\n",
       "      <td>...</td>\n",
       "      <td>...</td>\n",
       "      <td>...</td>\n",
       "      <td>...</td>\n",
       "    </tr>\n",
       "    <tr>\n",
       "      <th>23357</th>\n",
       "      <td>site.01.subj.DR0724.lab.DR0724.iso.1</td>\n",
       "      <td>CRyPTIC</td>\n",
       "      <td>USA</td>\n",
       "      <td>13</td>\n",
       "      <td>{\"MORE_DATA_IN_CRYPTIC_TABLES\": true, \"PLATEDE...</td>\n",
       "      <td>Lineage 4</td>\n",
       "      <td>lineage4.3.3</td>\n",
       "    </tr>\n",
       "    <tr>\n",
       "      <th>23358</th>\n",
       "      <td>site.01.subj.DR0725.lab.DR0725.iso.1</td>\n",
       "      <td>CRyPTIC</td>\n",
       "      <td>USA</td>\n",
       "      <td>11</td>\n",
       "      <td>{\"MORE_DATA_IN_CRYPTIC_TABLES\": true, \"PLATEDE...</td>\n",
       "      <td>Lineage 2</td>\n",
       "      <td>lineage2.2</td>\n",
       "    </tr>\n",
       "    <tr>\n",
       "      <th>28750</th>\n",
       "      <td>site.06.subj.2194_14.lab.06MIL0459.iso.1</td>\n",
       "      <td>CRyPTIC</td>\n",
       "      <td>NaN</td>\n",
       "      <td>14</td>\n",
       "      <td>{\"MORE_DATA_IN_CRYPTIC_TABLES\": true, \"PLATEDE...</td>\n",
       "      <td>Lineage 3</td>\n",
       "      <td>lineage3</td>\n",
       "    </tr>\n",
       "    <tr>\n",
       "      <th>48640</th>\n",
       "      <td>site.06.subj.1967_14.lab.06MIL0352.iso.1</td>\n",
       "      <td>NEJM2018</td>\n",
       "      <td>PAK</td>\n",
       "      <td>19</td>\n",
       "      <td>{'SRA': 'ERR2510555', 'GUID': '35f4f1ff-5bf0-4...</td>\n",
       "      <td>Lineage 3</td>\n",
       "      <td>lineage3</td>\n",
       "    </tr>\n",
       "    <tr>\n",
       "      <th>48641</th>\n",
       "      <td>site.06.subj.2378_14.lab.06MIL0461.iso.1</td>\n",
       "      <td>NEJM2018</td>\n",
       "      <td>PAK</td>\n",
       "      <td>19</td>\n",
       "      <td>{'SRA': 'ERR2510652', 'GUID': 'e095183e-9fcf-4...</td>\n",
       "      <td>Lineage 3</td>\n",
       "      <td>lineage3</td>\n",
       "    </tr>\n",
       "  </tbody>\n",
       "</table>\n",
       "<p>116 rows × 7 columns</p>\n",
       "</div>"
      ],
      "text/plain": [
       "                                       UNIQUEID    SOURCE COUNTRY_CODE  \\\n",
       "23225      site.01.subj.DR0011.lab.DR0011.iso.1   CRyPTIC          USA   \n",
       "23227      site.01.subj.DR0018.lab.DR0018.iso.1   CRyPTIC          USA   \n",
       "23229      site.01.subj.DR0030.lab.DR0030.iso.1   CRyPTIC          USA   \n",
       "23230      site.01.subj.DR0031.lab.DR0031.iso.1   CRyPTIC          USA   \n",
       "23231      site.01.subj.DR0036.lab.DR0036.iso.1   CRyPTIC          USA   \n",
       "...                                         ...       ...          ...   \n",
       "23357      site.01.subj.DR0724.lab.DR0724.iso.1   CRyPTIC          USA   \n",
       "23358      site.01.subj.DR0725.lab.DR0725.iso.1   CRyPTIC          USA   \n",
       "28750  site.06.subj.2194_14.lab.06MIL0459.iso.1   CRyPTIC          NaN   \n",
       "48640  site.06.subj.1967_14.lab.06MIL0352.iso.1  NEJM2018          PAK   \n",
       "48641  site.06.subj.2378_14.lab.06MIL0461.iso.1  NEJM2018          PAK   \n",
       "\n",
       "       NUMBER_DST                                OTHER_METADATA_JSON  \\\n",
       "23225          12  {\"MORE_DATA_IN_CRYPTIC_TABLES\": true, \"PLATEDE...   \n",
       "23227          12  {\"MORE_DATA_IN_CRYPTIC_TABLES\": true, \"PLATEDE...   \n",
       "23229          12  {\"MORE_DATA_IN_CRYPTIC_TABLES\": true, \"PLATEDE...   \n",
       "23230           9  {\"MORE_DATA_IN_CRYPTIC_TABLES\": true, \"PLATEDE...   \n",
       "23231          12  {\"MORE_DATA_IN_CRYPTIC_TABLES\": true, \"PLATEDE...   \n",
       "...           ...                                                ...   \n",
       "23357          13  {\"MORE_DATA_IN_CRYPTIC_TABLES\": true, \"PLATEDE...   \n",
       "23358          11  {\"MORE_DATA_IN_CRYPTIC_TABLES\": true, \"PLATEDE...   \n",
       "28750          14  {\"MORE_DATA_IN_CRYPTIC_TABLES\": true, \"PLATEDE...   \n",
       "48640          19  {'SRA': 'ERR2510555', 'GUID': '35f4f1ff-5bf0-4...   \n",
       "48641          19  {'SRA': 'ERR2510652', 'GUID': 'e095183e-9fcf-4...   \n",
       "\n",
       "      MYKROBE_LINEAGE_NAME_1 MYKROBE_LINEAGE_NAME_2  \n",
       "23225              Lineage 2             lineage2.2  \n",
       "23227              Lineage 2             lineage2.2  \n",
       "23229              Lineage 2           lineage2.2.7  \n",
       "23230              Lineage 4           lineage4.3.3  \n",
       "23231              Lineage 2             lineage2.2  \n",
       "...                      ...                    ...  \n",
       "23357              Lineage 4           lineage4.3.3  \n",
       "23358              Lineage 2             lineage2.2  \n",
       "28750              Lineage 3               lineage3  \n",
       "48640              Lineage 3               lineage3  \n",
       "48641              Lineage 3               lineage3  \n",
       "\n",
       "[116 rows x 7 columns]"
      ]
     },
     "execution_count": 251,
     "metadata": {},
     "output_type": "execute_result"
    }
   ],
   "source": [
    "DST_SAMPLES[DST_SAMPLES['UNIQUEID'].isin(mite_ids)]"
   ]
  },
  {
   "cell_type": "code",
   "execution_count": 282,
   "id": "12e713ce-71ed-4f06-9a57-385a9bc578b3",
   "metadata": {},
   "outputs": [
    {
     "name": "stdout",
     "output_type": "stream",
     "text": [
      "cacaaggacgcacatgacagg\n",
      "acgccgccgcccatgcggtcgaaactag\n",
      "caccccgtccacgatgacattcgagatcgccagg\n",
      "acgacttctgcgagggtggctcgctggc\n",
      "aagcgcgcgaagcgtcggcgtg\n",
      "gcgacacgccgcctcaggctt\n",
      "tgtgggggcactcgggggcggcgcccccgagg\n",
      "gcccaacctggtagcggcggcgttggcgcgcgggctggc\n",
      "caggcgctgtacacggccgcct\n",
      "ctcggcgagtagccctcgtcgtagtt\n",
      "tcgcattaaccgacgggtcggcccaggctgtcggggcgggaag\n",
      "cgacgggtcggcccaggctgtcggggcgggaagcgcattaacc\n",
      "cgtcgtgagcccgctcgccttt\n",
      "ctcggcgcgcccccgcacgatctca\n"
     ]
    }
   ],
   "source": [
    "df_sheet_index = pd.read_excel('F:/Datasets/Data_From_Publications/WHO-UCN-GTB-PCI-2021.7-eng.xlsx', sheet_name='Genome_indices')\n",
    "for i, r in df_sheet_index.iterrows():\n",
    "    if len(r['alt_nt']) > 20 and len(r['ref_nt']) < 3:\n",
    "        print(r['alt_nt'])"
   ]
  },
  {
   "cell_type": "code",
   "execution_count": 11,
   "id": "c9b80e35-f1a5-49c8-bf28-ca53dc5cf0bd",
   "metadata": {},
   "outputs": [
    {
     "ename": "NameError",
     "evalue": "name 'accession_dir' is not defined",
     "output_type": "error",
     "traceback": [
      "\u001b[1;31m---------------------------------------------------------------------------\u001b[0m",
      "\u001b[1;31mNameError\u001b[0m                                 Traceback (most recent call last)",
      "\u001b[1;32m~\\AppData\\Local\\Temp/ipykernel_5696/2630647179.py\u001b[0m in \u001b[0;36m<module>\u001b[1;34m\u001b[0m\n\u001b[1;32m----> 1\u001b[1;33m \u001b[0maccession_dir\u001b[0m\u001b[1;33m\u001b[0m\u001b[1;33m\u001b[0m\u001b[0m\n\u001b[0m",
      "\u001b[1;31mNameError\u001b[0m: name 'accession_dir' is not defined"
     ]
    }
   ],
   "source": []
  },
  {
   "cell_type": "code",
   "execution_count": null,
   "id": "15df2ccf-0d3b-4282-bc13-12f5c0aef1f9",
   "metadata": {},
   "outputs": [],
   "source": []
  }
 ],
 "metadata": {
  "kernelspec": {
   "display_name": "Python 3 (ipykernel)",
   "language": "python",
   "name": "python3"
  },
  "language_info": {
   "codemirror_mode": {
    "name": "ipython",
    "version": 3
   },
   "file_extension": ".py",
   "mimetype": "text/x-python",
   "name": "python",
   "nbconvert_exporter": "python",
   "pygments_lexer": "ipython3",
   "version": "3.9.7"
  }
 },
 "nbformat": 4,
 "nbformat_minor": 5
}
