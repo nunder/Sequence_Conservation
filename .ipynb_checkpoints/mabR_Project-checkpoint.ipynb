{
 "cells": [
  {
   "cell_type": "markdown",
   "id": "b1e30ed4-8a0e-4a6f-96eb-dfe116dfb2de",
   "metadata": {},
   "source": [
    "#### Import packages, set directories and parameters"
   ]
  },
  {
   "cell_type": "code",
   "execution_count": 1,
   "id": "cf9c6377-5080-4c22-94db-feabe17cc47c",
   "metadata": {},
   "outputs": [],
   "source": [
    "import pandas as pd\n",
    "import pickle\n",
    "import seaborn as sns\n",
    "import matplotlib.pyplot as plt\n",
    "import numpy as np\n",
    "from Bio import Entrez, SeqIO, AlignIO, pairwise2, Align, Seq, motifs\n",
    "from Bio.Seq import Seq\n",
    "from Bio.SeqFeature import SeqFeature, FeatureLocation\n",
    "import math\n",
    "from tqdm import tqdm\n",
    "from Comparative_Analysis import Utilities as util\n",
    "from joblib import Parallel, delayed\n",
    "from Comparative_Analysis import Blast_Functions as blastfn\n",
    "import time\n",
    "import os\n",
    "import copy\n",
    "from scipy.stats import chi2\n",
    "from Comparative_Analysis import Alignment as alignfn\n",
    "from Bio.Align.Applications import MuscleCommandline\n",
    "import subprocess\n",
    "pd.options.mode.chained_assignment = None  # default='warn'"
   ]
  },
  {
   "cell_type": "code",
   "execution_count": 101,
   "id": "79c1ca3d-a68f-4a9d-a5c4-25df7385b3ad",
   "metadata": {},
   "outputs": [],
   "source": [
    "project_dir = 'F:/Project_Data/mabR_Project'\n",
    "mycobacteria_seq_dir = 'F:/Datasets/NCBI_Refseq_Mycobacteriaceae_Complete_Annot_20230511/data'\n",
    "actinomycetes_seq_dir = 'F:/Datasets/NCBI_Refseq_Actinomycetes_Complete_Annot_20230511/data'\n",
    "tb_species = 'NC_000962.3' \n",
    "tb_annotation_dirname = 'GCF_000195955.2'\n",
    "num_cores = 16\n",
    "core_numbers = list(range(1, num_cores+1))\n",
    "muscle_exe = 'C:/Users/nicho/Muscle/muscle3.8.31_i86win32.exe'\n",
    "full_build = False"
   ]
  },
  {
   "cell_type": "markdown",
   "id": "9ee7b780-b0b1-4ada-aa73-94dc320fb8c4",
   "metadata": {},
   "source": [
    "#### Only use sequences where annotation contains a single sequence and annotation file"
   ]
  },
  {
   "cell_type": "code",
   "execution_count": 9,
   "id": "5008b7aa-3611-427c-8bb4-3d3db44afcfa",
   "metadata": {},
   "outputs": [
    {
     "name": "stderr",
     "output_type": "stream",
     "text": [
      "100%|██████████| 222/222 [00:53<00:00,  4.17it/s]\n",
      "100%|██████████| 722/722 [07:11<00:00,  1.68it/s]\n"
     ]
    }
   ],
   "source": [
    "if full_build == True:\n",
    "    mycobacteria_dirs = []\n",
    "    actinomycetes_dirs = []\n",
    "    sequence_dirs = util.list_dirs(mycobacteria_seq_dir)\n",
    "    for dirname in tqdm(sequence_dirs):\n",
    "            if not(os.path.exists(mycobacteria_seq_dir + '/' + dirname + '/genomic.gbff')):\n",
    "                continue\n",
    "            else:\n",
    "                ct = 0\n",
    "                for genome_record in SeqIO.parse(mycobacteria_seq_dir + '/' + dirname + '/genomic.gbff', \"genbank\"):\n",
    "                    ct+=1\n",
    "                    if ct > 1:\n",
    "                        break\n",
    "                if ct == 1:\n",
    "                    mycobacteria_dirs.append(dirname)\n",
    "    sequence_dirs = util.list_dirs(actinomycetes_seq_dir)\n",
    "    for dirname in tqdm(sequence_dirs):\n",
    "            if not(os.path.exists(actinomycetes_seq_dir + '/' + dirname + '/genomic.gbff')):\n",
    "                continue\n",
    "            else:\n",
    "                ct = 0\n",
    "                for genome_record in SeqIO.parse(actinomycetes_seq_dir + '/' + dirname + '/genomic.gbff', \"genbank\"):\n",
    "                    ct+=1\n",
    "                    if ct > 1:\n",
    "                        break\n",
    "                if ct == 1:\n",
    "                    actinomycetes_dirs.append(dirname)\n",
    "    with open(project_dir + '/mycobacteria_dirs.pkl', 'wb') as f:\n",
    "            pickle.dump(mycobacteria_dirs, f) \n",
    "    with open(project_dir + '/actinomycetes_dirs.pkl', 'wb') as f:\n",
    "            pickle.dump(actinomycetes_dirs, f) "
   ]
  },
  {
   "cell_type": "markdown",
   "id": "198ce0ae-2b01-482b-83cb-93c720537916",
   "metadata": {},
   "source": [
    "#### Create files with all CDS for both mycobacteria and actinobacteria reference sets and create BLAST databases for TB CDS and both reference sets (to do reciprocal best hits)"
   ]
  },
  {
   "cell_type": "code",
   "execution_count": 32,
   "id": "6068fd3f-1e3d-4bd4-b1ac-ef4c7a190fd4",
   "metadata": {
    "tags": []
   },
   "outputs": [],
   "source": [
    "def generate_protein_dataset(num_subsets, subset_num, dir_list, seqdir): \n",
    "    sequence_dirs = util.chunk_list(dir_list, num_subsets, subset_num)\n",
    "    all_cds = []\n",
    "    all_tb_cds = []\n",
    "    names = []\n",
    "    sequences = []\n",
    "    locations = []\n",
    "    for dirname in (sequence_dirs):\n",
    "        for genome_record in SeqIO.parse(seqdir + '/' + dirname + '/genomic.gbff', \"genbank\"):\n",
    "            accession_ver = genome_record.annotations['accessions'][0] + '.' + str(genome_record.annotations['sequence_version'])\n",
    "            names.append([accession_ver, genome_record.annotations['organism']])\n",
    "            full_sequence = str(genome_record.seq)\n",
    "            sequences.append([accession_ver, full_sequence])\n",
    "            for feature in genome_record.features:\n",
    "                a = feature.qualifiers\n",
    "                if feature.type == 'CDS' and a.get(\"translation\") != None:\n",
    "                    locus_tag = a.get(\"locus_tag\")[0]\n",
    "                    accession_locus = accession_ver + '@' + locus_tag\n",
    "                    translation = a.get(\"translation\")[0]\n",
    "                    (start, stop, strand) = (int(feature.location.start), int(feature.location.end), int(feature.location.strand))\n",
    "                    locations.append([accession_locus, (start, stop, strand)])\n",
    "                    all_cds.append([accession_locus, translation])\n",
    "                    if dirname == tb_annotation_dirname:\n",
    "                        all_tb_cds.append([accession_locus, translation])\n",
    "    return (all_cds, all_tb_cds, names, locations, sequences)           "
   ]
  },
  {
   "cell_type": "code",
   "execution_count": 99,
   "id": "9e2fbea0-6e4e-46ad-a53c-6475d7e960ae",
   "metadata": {},
   "outputs": [],
   "source": [
    "def generate_upstream_sequence_dataset(num_subsets, subset_num, dir_list, seqdir): \n",
    "    sequence_dirs = util.chunk_list(dir_list, num_subsets, subset_num)\n",
    "    upstream_cds_regions = []\n",
    "    for dirname in (sequence_dirs):\n",
    "        all_features = []\n",
    "        for genome_record in SeqIO.parse(seqdir + '/' + dirname + '/genomic.gbff', \"genbank\"):\n",
    "            accession_ver = genome_record.annotations['accessions'][0] + '.' + str(genome_record.annotations['sequence_version'])\n",
    "            full_sequence = str(genome_record.seq)\n",
    "            len_full_sequence = len(full_sequence)\n",
    "            for feature in genome_record.features:\n",
    "                if feature.type in ['gene', 'source']:\n",
    "                    continue\n",
    "                a = feature.qualifiers\n",
    "                feature_type = feature.type\n",
    "                if a.get(\"locus_tag\") != None:\n",
    "                    locus_tag = a.get(\"locus_tag\")[0]\n",
    "                    accession_locus = accession_ver + '@' + locus_tag\n",
    "                else:\n",
    "                    accession_locus  = ''\n",
    "                (start, stop, strand) = (int(feature.location.start), int(feature.location.end), int(feature.location.strand))\n",
    "                all_features.append([accession_locus, feature_type, start, stop, strand])\n",
    "        # Positive strand upstream \n",
    "        all_features.sort(key = lambda x: x[2])\n",
    "        max_stop = 0\n",
    "        for (accession_locus, feature_type, start, stop, strand) in all_features:\n",
    "            if max_stop < start and feature_type == 'CDS' and strand == 1 and start - max_stop < 100000:    #Avoid joins where biopython interprets inconsistently \n",
    "                upstream_cds_regions.append([accession_locus, max_stop, start, strand, full_sequence[max_stop: start]])\n",
    "            max_stop = max(max_stop, stop)\n",
    "        # Negative strand upstream\n",
    "        all_features.sort(key = lambda x: x[3], reverse = True)\n",
    "        min_start = len(full_sequence)-1\n",
    "        for (accession_locus, feature_type, start, stop, strand) in all_features:\n",
    "            if stop < min_start and feature_type == 'CDS' and strand == -1 and min_start - stop < 100000:\n",
    "                upstream_cds_regions.append([accession_locus, stop, min_start, strand, util.reverse_complement(full_sequence[stop: min_start])])\n",
    "            min_start = min(min_start, start)\n",
    "    return (upstream_cds_regions)           "
   ]
  },
  {
   "cell_type": "code",
   "execution_count": 33,
   "id": "542f0742-7686-4b24-808f-787faa247c21",
   "metadata": {
    "tags": []
   },
   "outputs": [],
   "source": [
    "if full_build == True:\n",
    "    parallel_output = Parallel(n_jobs=-1)(delayed(generate_protein_dataset)(num_cores, core_number, mycobacteria_dirs, mycobacteria_seq_dir) for core_number in core_numbers)\n",
    "    names_dict_1 = {}\n",
    "    locations_dict_1 = {}\n",
    "    sequence_dict_1 = {}\n",
    "    all_cds_1 = []\n",
    "    all_tb_cds_1 = []\n",
    "    for x in parallel_output:\n",
    "        all_cds_1 += x[0]\n",
    "        all_tb_cds_1 += x[1]\n",
    "        for temp in x[2]:\n",
    "            names_dict_1[temp[0]] = temp[1]\n",
    "        for temp in x[3]:\n",
    "            locations_dict_1[temp[0]] = temp[1]\n",
    "        for temp in x[4]:\n",
    "            sequence_dict_1[temp[0]] = temp[1]\n",
    "    with open(project_dir + '/names_dict_1.pkl', 'wb') as f:\n",
    "            pickle.dump(names_dict_1, f) "
   ]
  },
  {
   "cell_type": "code",
   "execution_count": 34,
   "id": "f75de3d4-28cf-4873-892c-608a027d57cb",
   "metadata": {
    "tags": []
   },
   "outputs": [],
   "source": [
    "if full_build == True:\n",
    "    parallel_output = Parallel(n_jobs=-1)(delayed(generate_protein_dataset)(num_cores, core_number, actinomycetes_dirs, actinomycetes_seq_dir) for core_number in core_numbers)\n",
    "    names_dict_2 = {}\n",
    "    locations_dict_2 = {}\n",
    "    sequence_dict_2 = {}\n",
    "    all_cds_2 = []\n",
    "    all_tb_cds_2 = []\n",
    "    for x in parallel_output:\n",
    "        all_cds_2 += x[0]\n",
    "        all_tb_cds_2 += x[1]\n",
    "        for temp in x[2]:\n",
    "            names_dict_2[temp[0]] = temp[1]\n",
    "        for temp in x[3]:\n",
    "            locations_dict_2[temp[0]] = temp[1]\n",
    "        for temp in x[4]:\n",
    "            sequence_dict_2[temp[0]] = temp[1]\n",
    "    with open(project_dir + '/names_dict_2.pkl', 'wb') as f:\n",
    "            pickle.dump(names_dict_2, f) "
   ]
  },
  {
   "cell_type": "code",
   "execution_count": 100,
   "id": "81888d67-09e0-40e4-8508-c0f1ae994c7c",
   "metadata": {},
   "outputs": [],
   "source": [
    "if full_build == True:\n",
    "    mycobacteria_upstream_dict = {}\n",
    "    actinomycetes_upstream_dict = {}\n",
    "    parallel_output = Parallel(n_jobs=-1)(delayed(generate_upstream_sequence_dataset)(num_cores, core_number, mycobacteria_dirs, mycobacteria_seq_dir) for core_number in core_numbers)\n",
    "    for x in parallel_output:\n",
    "        for n in x:\n",
    "            mycobacteria_upstream_dict[n[0]] = [n[1], n[2], n[3], n[4]]\n",
    "    parallel_output = Parallel(n_jobs=-1)(delayed(generate_upstream_sequence_dataset)(num_cores, core_number, actinomycetes_dirs, actinomycetes_seq_dir) for core_number in core_numbers)\n",
    "    for x in parallel_output:\n",
    "        for n in x:\n",
    "            actinomycetes_upstream_dict[n[0]] = [n[1], n[2], n[3], n[4]]\n",
    "    with open(project_dir + '/mycobacteria_upstream_dict.pkl', 'wb') as f:\n",
    "        pickle.dump(mycobacteria_upstream_dict, f) \n",
    "    with open(project_dir + '/actinomycetes_upstream_dict.pkl', 'wb') as f:\n",
    "        pickle.dump(actinomycetes_upstream_dict, f) "
   ]
  },
  {
   "cell_type": "code",
   "execution_count": 37,
   "id": "e554633f-42d0-40c4-9600-a6f7c8ef17c4",
   "metadata": {
    "tags": []
   },
   "outputs": [
    {
     "name": "stderr",
     "output_type": "stream",
     "text": [
      "100%|██████████| 276716/276716 [00:23<00:00, 11732.16it/s]\n",
      "100%|██████████| 3906/3906 [00:00<00:00, 46801.61it/s]\n",
      "100%|██████████| 2365638/2365638 [03:24<00:00, 11554.74it/s]\n"
     ]
    }
   ],
   "source": [
    "if full_build == True:\n",
    "    util.produce_fasta_file(all_cds_1, project_dir + '/mycobacteria_cds.fasta')\n",
    "    util.produce_fasta_file(all_tb_cds_1, project_dir + '/tb_cds.fasta')\n",
    "    util.produce_fasta_file(all_cds_2, project_dir + '/actinomycetes_cds.fasta')\n",
    "    blastfn.build_blast_db(project_dir, 'mycobacteria_cds.fasta', 'Mycobacteria', project_dir + '/BLAST/Mycobacteria')\n",
    "    blastfn.build_blast_db(project_dir, 'tb_cds.fasta', 'all_tb_cds', project_dir + '/BLAST/Tb')\n",
    "    blastfn.build_blast_db(project_dir, 'actinomycetes_cds.fasta', 'Actinomycetes', project_dir + '/BLAST/Actinomycetes')"
   ]
  },
  {
   "cell_type": "code",
   "execution_count": 38,
   "id": "c64c685a-3fe4-44e0-a045-59504f7ce64c",
   "metadata": {
    "tags": []
   },
   "outputs": [],
   "source": [
    "if full_build == True:\n",
    "    blastfn.run_blastp(project_dir + '/BLAST/Mycobacteria', 'tb_cds.fasta', 'Mycobacteria', 'tb_mycobacteria_hits.csv', e_value = 1e-10)\n",
    "    blastfn.run_blastp(project_dir + '/BLAST/Tb', 'mycobacteria_cds.fasta', 'all_tb_cds', 'mycobacteria_tb_hits.csv', e_value = 1e-10)\n",
    "    a = blastfn.process_blast_output(project_dir + '/BLAST/Mycobacteria/tb_mycobacteria_hits.csv', names_dict_1, top_hit_only = False)\n",
    "    a = a.loc[a.groupby(['query_ref','target_species_name'])['bit_score'].idxmax()]     # Utility top hit method uses accession ver which can differ if multiple sets exist per species in fragmented annotations\n",
    "    b = blastfn.process_blast_output(project_dir + '/BLAST/Tb/mycobacteria_tb_hits.csv', names_dict_1, top_hit_only = False)\n",
    "    b = b.loc[b.groupby(['query_ref','target_species_name'])['bit_score'].idxmax()] \n",
    "    rbh =  blastfn.keep_reciprocal_best_hits(a, b)\n",
    "    rbh.to_csv(project_dir + '/tb_mycobacteria_reciprocal_best_hits.csv')"
   ]
  },
  {
   "cell_type": "code",
   "execution_count": 39,
   "id": "9aaf6f56-f9f1-4761-a909-bacf02ac47f4",
   "metadata": {
    "tags": []
   },
   "outputs": [],
   "source": [
    "if full_build == True:\n",
    "    blastfn.run_blastp(project_dir + '/BLAST/Actinomycetes', 'tb_cds.fasta', 'Actinomycetes', 'tb_actinomycetes_hits.csv', e_value = 1e-10)\n",
    "    blastfn.run_blastp(project_dir + '/BLAST/Tb', 'actinomycetes_cds.fasta', 'all_tb_cds', 'actinomycetes_tb_hits.csv', e_value = 1e-10)\n",
    "    a = blastfn.process_blast_output(project_dir + '/BLAST/Actinomycetes/tb_actinomycetes_hits.csv', names_dict_2, top_hit_only = False)\n",
    "    a = a.loc[a.groupby(['query_ref','target_species_name'])['bit_score'].idxmax()]     # Utility top hit method uses accession ver which can differ if multiple sets exist per species in fragmented annotations\n",
    "    b = blastfn.process_blast_output(project_dir + '/BLAST/Tb/actinomycetes_tb_hits.csv', names_dict_2, top_hit_only = False)\n",
    "    b = b.loc[b.groupby(['query_ref','target_species_name'])['bit_score'].idxmax()] \n",
    "    rbh_2 =  blastfn.keep_reciprocal_best_hits(a, b)\n",
    "    rbh_2.to_csv(project_dir + '/tb_actinomycetes_reciprocal_best_hits.csv')"
   ]
  },
  {
   "cell_type": "markdown",
   "id": "c62ab102-796e-4af7-a58b-3111e917ea21",
   "metadata": {},
   "source": [
    "#### Function to generate FASTA file containing intergenic regions in orthologous species and run Muscle / R-scape"
   ]
  },
  {
   "cell_type": "code",
   "execution_count": 102,
   "id": "7452ef50-1879-4ac8-8106-25c89e82a366",
   "metadata": {},
   "outputs": [],
   "source": [
    "if not(full_build == True):\n",
    "    with open(project_dir + '/names_dict_1.pkl', 'rb') as f:\n",
    "        names_dict_1 = pickle.load(f)\n",
    "    with open(project_dir + '/names_dict_2.pkl', 'rb') as f:\n",
    "        names_dict_2 = pickle.load(f)\n",
    "    with open(project_dir + '/mycobacteria_dirs.pkl', 'rb') as f:\n",
    "        mycobacteria_dirs = pickle.load(f) \n",
    "    with open(project_dir + '/actinomycetes_dirs.pkl', 'rb') as f:\n",
    "         actinomycetes_dirs = pickle.load(f)  \n",
    "    with open(project_dir + '/mycobacteria_upstream_dict.pkl', 'rb') as f:\n",
    "        mycobacteria_upstream_dict = pickle.load(f) \n",
    "    with open(project_dir + '/actinomycetes_upstream_dict.pkl', 'rb') as f:\n",
    "        actinomycetes_upstream_dict = pickle.load(f) \n",
    "    tb_mycobacteria_rbh = pd.read_csv(project_dir + '/tb_mycobacteria_reciprocal_best_hits.csv')\n",
    "    tb_actinomycetes_rbh = pd.read_csv(project_dir + '/tb_actinomycetes_reciprocal_best_hits.csv')"
   ]
  },
  {
   "cell_type": "code",
   "execution_count": 105,
   "id": "11c06384-3c27-4a95-ac4c-cfd218c8cbba",
   "metadata": {},
   "outputs": [
    {
     "name": "stdout",
     "output_type": "stream",
     "text": [
      "NZ_AP022613.1@G6N66_RS16115 [3489660, 3489800, 1, 'TGATTTAGCCAACAGATCGCGACGCGATATCAAACACGTAGCTTACGGGCCTGTTTTGTATACTCCATACAAAAACCTAAGACGAGGTTCATAATCTGTTACACCCGCCAAAACCGTTTCCACAGTGTTCTCTTAAACAC']\n",
      "NZ_AP022569.1@G6N27_RS06415 [1325893, 1326021, 1, 'CAGATCGCGGCTTGATCTCGAATACGTCGCATCGAGCGCGTTTTTGTGGGGTTTCCACAAAAACCTAAGACAAGGTTCATAATCTGTTACACCGCGCAAAACCGTCTTCACAGTGTTCCCTTAAGAAC']\n",
      "NZ_AP022605.1@G6N07_RS12225 [2492989, 2493117, 1, 'GAGGTCGCGGCTGGATCTCGCCGGAGTTGCATCACATGCAGTTTTGTGGACTTGCTACAAAAACATAAGATGAGGTTCATAATCTCTTACACGGCGCGAAGTCGTCTTCACAGTGTTCTCTTAGAGAC']\n",
      "NZ_AP022576.1@G6N55_RS00230 [44233, 44373, -1, 'TGATCCAGGCAACAGATCGCGGCGCGGTATCAAATACGTAGCTTGTCGAGCGGTTTTGTGGAGTACCTACAAAAACCTAAGACGAGGTTCATAATCTGTTACACCCGCCAAAACCGTTTCCACAGTGTTCTCTTAGACAC']\n",
      "NZ_CP011883.2@B586_RS12405 [2644652, 2644792, 1, 'TGATCCAGATCGCAGGTCGCGGGATGATATCAAACCCGTAGCTTACCGAACTGTTTTGTAGGTTACATACAAAAACCTAAGACGAGGTTCATAATCTGTTACACCCCGCAAAACCGTCTTCACAGTGTTCTCTTAGACAC']\n",
      "NZ_AP022615.1@G6N25_RS18885 [4035255, 4035395, -1, 'TGATCCAGGCAACAGATTGCGGCACGATATCAAAAACGTAGCTTACCGAGCCGTTTTGTAAGGTGTATACAAAAACCTAAGACGAGGTTCATAATCTGTTACACCCGCCAAAACCGTTTCCACAGTGTTCTCTTAGACAC']\n",
      "NZ_CP029543.1@DIJ64_RS09085 [1945983, 1946193, 1, 'AGTGCCGGCCACAAGACCAATGCCCTAGGCACAACTGCCAGTCACGCGAGGTGCCATGACACCGCCAGGACGATAGCGACCGCAGATCTCAAGATGCTATCAAACCCGTAGCTTACCGAACAGTTTTGTAGGTTATATACAAAAACCTAAGACGAGGTTCATAATCTGTTACACCCCGCAAAACCGTCTTCACAGTGTTTTCTTAGACAC']\n",
      "NZ_CP083405.1@MLPF_RS04245 [912821, 912955, 1, 'CAACCCCAGATCGCAATAAGATACCAAACCCGTAGCTTACCGAACAGTTTTGTAGGTTATATACAAAAACCTAAGACGAGGTTCATAATCTGTTACACCCCGCAAAACCGTCTTCACAGTGTTCTCTTAGACAC']\n",
      "NZ_CP080999.1@K3U93_RS14865 [3207929, 3208069, 1, 'TGACCCAGGCAACAGATCGCGGCACGGTATCAAAAACGTAGCTTACGAAGCGGTTTTGTAAGGTATATACAAAAACCTAAGACGAGGTTCATAATCTGTTACACCCGCCAAAACCCTTTCCACAGTGTTCTCTTAGACAC']\n",
      "NZ_AP022583.1@G6N15_RS22350 [4708827, 4708958, 1, 'TGAGAGATCGCGGCACGATATCAAACGCATCGCATCCAAGGGTGTTTTGTGGGAGCTCCACAAAAACCTAAGACAAGGTTCATAATCTGTTACACCCCGCAAAACCGTCTTCACAGTGTTCTCTTAGACAC']\n",
      "NZ_AP022562.1@G6N19_RS01150 [233218, 233391, 1, 'GACCGGCGCGGTCCGGCGGAGCCGAGGCGGCGCCGTCGACGGTAGTTGTCGCAGGACGGTATCGAACATGTCGCGTCAGATGACTGTTTTGTAGGACCTCCACAAAAACATAAGACAATGTTCATAATCTAGGACATCCTGCAAAACCCGCTTCACAATGTTCTCTTAAAGAC']\n",
      "NZ_AP022614.1@G6N48_RS04015 [896467, 896604, -1, 'CCCAAGCCACAAGTCGCGGGACGGTATCGAACACGTAGCTTACCGAGCGGTTTTGTAAGGTGTTCACAAAAGACTAAGACGAGGTTCATAATCTGATACACCCGCCAAAACCGTTTCCACAGTGTTCTCTTAGACAT']\n",
      "NZ_AP022575.1@G6N20_RS05070 [1165353, 1165512, -1, 'CGACCCTACGAGCGGATAGTGATCGAGATGACAGGTCGCGGACCGATCTCAAACACGTAGCTTAGGGGGATGTTTTGTGGGGTGTATACAAAAACCTAAGACGAGGTTCATAATCTGTTAGACCGCGCAAAACCGTTTCCACAGTGTTCTCTTAGACAC']\n",
      "NZ_AP022572.1@G6N41_RS21255 [4603502, 4603663, 1, 'AGACCCGACCTGAGCCAATAGTGACCTAGAGCATAAGTCGCGGGGCGATCTCAAACATGTAGCTTACCGAGCTGTTTTGTAGGGTCCCCACAAAAACCTAAGACGAGGTTCATAATCTGTTACACCGCGCAAAACCGTCTTCACAGTGTTCTCTTAGACAC']\n",
      "NZ_CP046600.1@F6B93_RS13935 [3444525, 3444682, 1, 'CGCCATCCGCAGGATAGTGATTTAGATGACAGGTCGCGGGACGGTCTCAAACACGTAGCTTACGGACGTGTTTTGTGGAGTGTGTACAAAAACCTAAGACGAGGTTCATAATCTGTTACACCCCGCAAAACCGGCTTCACAGTGTTCTCTTAGACAC']\n",
      "NC_000962.3@Rv2243 [2516548, 2516786, 1, 'AGCATCGACAGCAATGCCGTGTCATAGATTCCCTCGCCGGTCAGAGGGGGTCCAGCAGGGGCCCCGGAAAGATACCAGGGGCGCCGTCGGACGGAAAGTGATCCAGACAACAGGTCGCGGGACGATCTCAAAAACATAGCTTACAGGCCCGTTTTGTTGGTTATATACAAAAACCTAAGACGAGGTTCATAATCTGTTACACCGCGCAAAACCGTCTTCACAGTGTTCTCTTAGACAC']\n",
      "NZ_CP059165.1@H0P51_RS17350 [3865889, 3866029, 1, 'TGATTTAGATGACAGGTCGCGGCTGTATCTCAAACATGTAGCTTACGATGCTATTTTGTGGGATGTATACAAAAACCTAAGACGAGGTTCATAATCTGTTACACCCCGCAAAACCGTCTTCACAGTGTTCTCTTAGACAC']\n",
      "NZ_CP007220.1@BB28_RS09445 [1910018, 1910177, -1, 'ACGGGTTACTCGCTGGTCACCTGCGAGGTCCCACATTGCGAGACGGTATAGATCGGGTCGCAACGGATGCCTTTTTGTAGGCATCCCACAAATACTTAAGACAAGATTCATTTTCTCTTACACGGCGCAAACGGCCCTTCACAGTGTTCTCTTAAATAC']\n",
      "NZ_CP024633.1@DSM43276_RS08210 [1653732, 1653891, -1, 'AACGGTTACTGACCGGTCACCTGCGAGGTCCCACATTGCGAGACGGTATAGATCGGGTCGCAATGGATGCCTTTTTGTAGACTTCCCACAAATACTTAAGACAAGATTCATTTTCTCTTACACGGCGCAAACCACCCTTCACAGTGTTCTCTTAAACAC']\n",
      "NZ_CP010271.1@MYCSP_RS08270 [1650801, 1650960, -1, 'AAGGGCTACCGGCCGGTCACCTGCGAGGTCCCACATTGCGGGACGGTATAGATCGGGTCGCAACGGATGACTTTTTGTAGGCTTCCCACAAATACTTAAGACAAGATTCATTTTCTCTTACACGGCGCAAACGGCCTCTCACAGTGTTCTCTTAAACAC']\n",
      "NZ_AP022594.1@G6N11_RS02360 [533573, 533773, -1, 'CCGATGCCGGCCACCGCGGCTATGCGTCCGCACGGCGGCCCAAGACGGCATGCGCCGGCGACGAGCCCGATAAAAGTTGCGGACAGGTCTCGACGACATCGCATCACGTGCGGTTTTGTAGGTTCTCTACAAAACTATAAGATGAGGTTTATGTTCTGTTACACCGCGCAAACCCGACTTCACAGTGTTCTCTTAAACAC']\n",
      "NZ_CP080997.1@K3U94_RS09090 [1953808, 1953987, -1, 'CCCACCGAGGCGTGCTGCGGGCACGTACCGATGCGCACCAACGGCGGACAGTTGTCGCAGTTCGGTATCGAACACGTCGCATGGAACGGCAGGTTTGTAGGGTCTCCACAAAAACATAAGACAATGTTCATAATCTAGGACATCCTGCAAACCGCGCTTCACAATGTTCTCTTAAAGAC']\n",
      "NZ_AP022609.1@G6N14_RS05450 [1173943, 1174115, -1, 'TCCGGTCGCCCAGGGCACCGGCAGGGGCGCCATCGCGGGCACCGTTGTCGCATTTCGGTATCGATGACATCGCAGCAACCGGCAGTTTTGTAGGGTCTCCACAAAAACATAAGACAATGTTCATAATCTAGGACATCCTGCAAACAGCGCTTCACAATGTTCTCTTAAAGAT']\n",
      "NZ_LT906469.1@CKW33_RS07875 [1699072, 1699257, -1, 'GCCCGGGGCGGCCGGGACGCCGGGACGCCCCTGCCGGCCCCGGCGCCGCCCGGGCAGTTGTCGCAGGACGGTATCGAACATGTCGCATCGGATGACTGTTTTGTAGGACTTCCACAAAAACATAAGACAATGTTCATAATCTAGGACATCCTGCAAAACCCGCTTCACAATGTTCTCTTAAAGAC']\n",
      "NZ_CP092430.2@MJO54_RS09220 [1910088, 1910266, -1, 'CCCCGGCCCGGCCAGCTGGGCATCGACAGGCGTGCACCGCCGACGGAAAGTTGTCGCAGTTCGGTATCGAACACGTCGCATCGGACGACAGTTTTGTAGGGTCTCCACAAAAACATAAGACAATGTTCATAATCTAGGACATCCTGCAAACCGGGCTTCACAATGTTCTCTTAAAGAC']\n",
      "NZ_AP022561.1@G6N32_RS16980 [3491925, 3492076, 1, 'TAAGGGCGGTAGATCGCGGCGAGGTATCGGGGATGTCGCATCACATGCACTTTTGTGGGAACTCCACAAAAACCTAAGACGAGGTTCATATTCTCTTACACCGTGCAGATCCGGTTTCACAGTGTTCTCTTAAAGAGTGCCTCATGAACCC']\n",
      "NZ_AP022620.1@G6N35_RS09415 [1988971, 1989108, 1, 'TCCCGGGTGCAGATTGCGGGACGGTATCAACGATGTCGCATCACATGCACTTTTGTGGACAAGCTACAAAAACATAAGACAAGGTTCATAATCTCTTACACCGCGCAAAACCGGTTTCACAGTGTTCCCTTAAGAAC']\n",
      "NZ_CP104302.1@L2Z93_RS06640 [1363008, 1363153, -1, 'TTATTTGTAGCCCCCGCGGGGCTGAAAACGGCATCCCCACGTGCATTTTTGTAGGATCTCCACAAAAATATAAGACGACATTCATAATCTCGCACACCGCGTAAAACCGTTCCCACAGTGTTCTCTTAGAGACGTGCAACCGACT']\n",
      "NZ_AP022591.1@G6N18_RS01575 [355519, 355637, -1, 'CGTCGCATCACAGGCAGTTTTGTGGGGTCTCCACAAAAACATAAGACGAGGTTCATAATCTCTTACACCGCGCAAACCCGTCTTCACAGTGTTTTCTTAATTCGTGCCTCATAAAAGT']\n",
      "NZ_AP022612.1@G6N34_RS08430 [1836666, 1836811, -1, 'CAGGTTGCACTTGCGTATCGATGGCGTCGCATGACAGGCGCTTTTGTAGGCTCTCCACAAAAACCTAAGACGAGGTTCATAATCTCTTACACCCCTCAAAACCGCTCTCACAATGTTCTCTTAAAGAGTGCCTGAACCGACACCT']\n",
      "NZ_AP022603.1@G6N10_RS06735 [1412346, 1412482, 1, 'GATCTCTACAAAAAAATAAGACGACATTCATAATGTCCCACACCGCACAAAACCGCGATCACAGTGTTCTCTTAATAACGTGCCTCAACCGACTATCGCGCTGCTCGCTCCCGGTCAGGGTTCTCAGACCCCCGGG']\n",
      "NZ_AP022608.1@G6N36_RS01410 [302879, 303027, -1, 'GTCAAGATCACGGGTGCCAATAATGTCGCAGACCGGTATCGATGGCGTCGCATCACATGCGCTTTTGTGGAGTACCTACAAAAACCTAAGACGAGGTTCATAATCTCTTACACCGCGCAAATGAGGTTTCACAGTGTTCTCTTAGAGA']\n",
      "NZ_CP080998.1@K3U96_RS10660 [2220975, 2221111, -1, 'ACGAAGCTGCTGGTCGCGAAGCGATCTCGGTGAAGTCGCATCACATGCCTTTTTGTGGACTATCCACAAAAACATAAGACGAGGTTCATAATCTCTTACACCGCGCAAAACCGTCTTCACAGTGTTCTCTTAGAGA']\n",
      "NZ_AP022618.1@G6N16_RS16000 [3387233, 3387389, 1, 'GGAAGTAACCCGTCTTTCTGGAGAGATCCGAGACACAACCGGCCTACTTCCTAGCTCCCCCACCCGCCGTTTTGTGGGATACCTACAAAAATCCAAGACGACATTCATAATGTCGCACACCGCGCAAAACACCCTTCACAGTGTTCTCTTAATTAC']\n",
      "NZ_AP022586.1@G6N30_RS04540 [972872, 973063, -1, 'CATGTCGCGGGGCGGTCTCGGTGGAGTCGCATCACATGCCGTTTTGTGGAGTAGCTACAAAAACATAAGACGAGGTTCATAATCTCTTACACGGCGCGAAGTCGACTTCACAGTGTTCTCTTAGAGACGTGCCTCAATCGCATACCCAGATCGCGCTGCTCGCGCCCGGCCAGGGTTCTCAGACGCCCGGG']\n",
      "NZ_AP022567.1@G6N67_RS36365 [7510042, 7510262, 1, 'TCCGATGCTCGCACGCGGAGCCAGGCAGGCGCGGGAGGCGCGCGGAGGAGGCCAAGACGCGGTCACCGCGACAATCACAGATTGCGGCACGGTCTCGCGAATGTCGCATCACATGCACTTTTGTGGAGACCCTACAAAAACATAAGACAAGGTTCATAATCTCTTACACCGCGCAAAACCAACTTCACAGTGTTCTCTTAATGACGTGCCTCAACCACCC']\n",
      "NZ_AP022617.1@G6N49_RS06120 [1285422, 1285550, -1, 'GATGTTGCGGCCCGATCTCGCTGGAGTCGCATCACATGCCGTTTTGTGGACTTGCTACAAAAACATAAGACGAGGTTCATAATCTCTTACACGGCGCAAAGTCGTCTTCACAGTGTTCTCTTAGAGAC']\n",
      "NZ_AP022598.1@NTM_RS17360 [3621036, 3621184, -1, 'ACATCAGATGTTGCGCCCAGGTCTCGTTGACGTCGCATCACATGCGGATTTGTTGACTACCTACAAAAACCTAAGACGAGGTTCATAATCTCTTACACCCCTCAAATCCAAGTTCACAATGTTTCCTTAAGAAGTGCCTCAGACGACT']\n",
      "NZ_AP022616.1@G6N46_RS09240 [1902881, 1903088, 1, 'ACGGCCTGATCAGCATAGTTACAGCAAACCTACCCGCCGGTAGCTATCGACACCCCACTGTGATCCACATCGCAGCCAGGTCTCGCCAACGTTGCATAACGTGCGTTTTTGTAGACATTCCACAAAACTTTAAGACGAGGTTCATAATCTCTTACACGGCATAAAACCCGCTTCACAGTGTTTTCTTAATCCGTGCCTCAAACACCT']\n",
      "NZ_AP022574.1@G6N45_RS15065 [3095795, 3095938, -1, 'CACATTGCGATGCGGTCTCGGTGACGTCGCATCACATGCGGTTTTGTGGGCTCTCCACAAAAACCTAAGAAAGAGTTCATAGTCTCTTACACGGCGCAAAACCGTCTTCACAATGTTTTCTTAGAGACGTGCCTGACAAGACA']\n",
      "NZ_AP022599.1@G6N28_RS21335 [4408898, 4409049, -1, 'ACGAAGAGGTTGGTCGCGAACCGATCTCGATGAAGTCGCATCACATGCGTTTTTGTGGACCTTCCACAAAAACTTAAGACCATGTTCATAATCTCTTACACCGTGCAAAACGGTCTTCACAGTGTTTTCTTAATTCGTGCCTCAAAGACCC']\n",
      "NZ_LT629971.1@BLW81_RS17765 [3663137, 3663289, -1, 'CAGACGGCCCTATATAGCGGGCGGATATCGGTAATGTCGCATCACAGGGTGATTTGTAAGGTCTCTACAAAAACATAAGACGAGGTTCATAATCTCTTACACCGCGCAAAACCGTCTTCACAGTGTTTTCTTAATTCGTGCCCCAAAACGAT']\n",
      "NZ_AP022588.1@G6N64_RS23385 [4887900, 4888048, 1, 'GGATAAAACGTCGCATTCCGATCACGGCGCGGTCCCGTCACGTGCCGTTTTGTTGACTACCTACAAAAACATAAGACCAGGTTCATAATCTCTTACACCGCGTAAACCCAACTTCACAGTGTTCTCTTAATCCGTGCCACAAAACGCC']\n",
      "NC_008726.1@MVAN_RS18795 [3994771, 3994914, 1, 'CAGGTTGCCGCCAGGTCACGATGACGTCGCATTACATGCGGATTTGTGGACAACCTACAAAAACATAAGACGAGGTTCATAATCTCTTACACCGTTCAAATCCTTCTTCACAATGTTTTCTTAGAGACGTGCCTCAGACAACT']\n",
      "NZ_AP018165.1@MSTE_RS08870 [1777918, 1778077, -1, 'ACGGGTTACTCGCTGGTCACCTGCGAGGTCCCACATTGCGAGACGGTATAGATCGGGTCGCAACGGATGCCTTTTTGTAGGCATCCCACAAATACTTAAGACAAGATTCATTTTCTCTTACACGGCGCAAACGGCCCTTCACAGTGTTCTCTTAAATAC']\n"
     ]
    }
   ],
   "source": [
    "intergenic_regions = []\n",
    "locus = 'Rv2243'\n",
    "results_dir = project_dir + '/' + locus\n",
    "if not os.path.exists(results_dir):\n",
    "        os.makedirs(results_dir)\n",
    "target_locus = tb_species + '@' + locus\n",
    "hits = tb_mycobacteria_rbh[tb_mycobacteria_rbh['query_ref'] == target_locus]\n",
    "hits = hits[hits['percent_identical_matches'] > 70]\n",
    "for i, r in hits.iterrows():\n",
    "    target_ref = r['target_ref']\n",
    "    if target_ref in mycobacteria_upstream_dict:\n",
    "        upstream_region = mycobacteria_upstream_dict[target_ref][3]\n",
    "        if len(upstream_region) > 8:\n",
    "        intergenic_regions.append([target_ref, upstream_region])\n",
    "if len(intergenic_regions) > 10:    \n",
    "    util.produce_fasta_file(intergenic_regions, results_dir +'/intergenic_regions.fasta')\n",
    "    cline = MuscleCommandline(muscle_exe, input= results_dir +'/intergenic_regions.fasta', out = results_dir + '/upstream_region_'+locus + '_alignment.fasta')\n",
    "    exception = 0\n",
    "    try:\n",
    "        stdout, stderr = cline()\n",
    "    except Exception as e:\n",
    "        exception == 1"
   ]
  },
  {
   "cell_type": "code",
   "execution_count": 98,
   "id": "6dc9c882-11a9-4eb8-b842-814a64d7de78",
   "metadata": {},
   "outputs": [
    {
     "ename": "KeyError",
     "evalue": "'NC_000962.3@Rv2245'",
     "output_type": "error",
     "traceback": [
      "\u001b[1;31m---------------------------------------------------------------------------\u001b[0m",
      "\u001b[1;31mKeyError\u001b[0m                                  Traceback (most recent call last)",
      "\u001b[1;32m~\\AppData\\Local\\Temp/ipykernel_17072/1206690991.py\u001b[0m in \u001b[0;36m<module>\u001b[1;34m\u001b[0m\n\u001b[1;32m----> 1\u001b[1;33m \u001b[0mmycobacteria_upstream_dict\u001b[0m\u001b[1;33m[\u001b[0m\u001b[1;34m'NC_000962.3@Rv2245'\u001b[0m\u001b[1;33m]\u001b[0m\u001b[1;33m\u001b[0m\u001b[1;33m\u001b[0m\u001b[0m\n\u001b[0m",
      "\u001b[1;31mKeyError\u001b[0m: 'NC_000962.3@Rv2245'"
     ]
    }
   ],
   "source": [
    "mycobacteria_upstream_dict['NC_000962.3@Rv2245']"
   ]
  },
  {
   "cell_type": "code",
   "execution_count": null,
   "id": "0a366e5f-ffd6-4857-952f-5e1988a5b224",
   "metadata": {},
   "outputs": [],
   "source": [
    "def generate_alignment(locus, offset, comparison_set):\n",
    "    target_locus = tb_species+ '@' + locus\n",
    "    results_dir = project_dir + '/' + locus\n",
    "\n",
    "    if not os.path.exists(results_dir):\n",
    "        os.makedirs(results_dir)\n",
    "    \n",
    "    if comparison_set == 1:     #1 = Mycobacteria, 2 = Actinobacteria\n",
    "        rbh = pd.read_csv(project_dir + '/reciprocal_best_hits.csv')\n",
    "        locations_dict = locations_dict_1\n",
    "        sequence_dict = sequence_dict_1\n",
    "    else:\n",
    "        rbh = pd.read_csv(project_dir + '/reciprocal_best_hits_2.csv')\n",
    "        locations_dict = locations_dict_2\n",
    "        sequence_dict = sequence_dict_2\n",
    "    \n",
    "    location = locations_dict[target_locus] \n",
    "    rbh = rbh[rbh['query_ref'] == target_locus]\n",
    "    rbh['target_loc'] = rbh['target_ref'].map(locations_dict)\n",
    "    rbh['cds_count'] = rbh.groupby('target_species_name')['query_ref'].transform('size')\n",
    "    rbh['min_pct_id'] = rbh.groupby('target_species_name')['percent_identical_matches'].transform('min')\n",
    "    \n",
    "    rbh = rbh[rbh['cds_count'] == 1]\n",
    "    for i, r in rbh.iterrows():\n",
    "        (start, stop, strand) = r['target_loc']\n",
    "        rbh.at[i,'start'] = start\n",
    "        rbh.at[i,'stop'] =  stop\n",
    "        rbh.at[i,'strand'] = strand\n",
    "    rbh = rbh[rbh['min_pct_id'] >= 60]\n",
    "    if len(rbh) > 10:\n",
    "        intergenic_regions = []\n",
    "        query_regions = []\n",
    "\n",
    "        for i, r in rbh.iterrows():\n",
    "            target_species = r['target_species_name']\n",
    "            target_species_accession = r['target_species']\n",
    "            coords = r['target_loc']\n",
    "            if coords[2] == 1:\n",
    "                intergenic_region = (coords[0] - offset, coords[0] + 3)\n",
    "                intergenic_sequence = sequence_dict[target_species_accession][intergenic_region[0]: intergenic_region[1]]\n",
    "            else:\n",
    "                intergenic_region = (coords[1] - 3, coords[1] + offset)\n",
    "                intergenic_sequence = util.reverse_complement(sequence_dict[target_species_accession][intergenic_region[0]: intergenic_region[1]])\n",
    "\n",
    "            intergenic_regions.append([target_species.replace(\" \", \"_\"), intergenic_sequence])\n",
    "            if target_species_accession == tb_species:\n",
    "                query_regions.append([target_species.replace(\" \", \"_\"), intergenic_sequence])\n",
    "\n",
    "        util.produce_fasta_file(intergenic_regions, results_dir +'/intergenic_regions_'+str(comparison_set)+'.fasta')\n",
    "        util.produce_fasta_file(query_regions, results_dir +'/query_regions_'+str(comparison_set)+'.fasta')\n",
    "\n",
    "        cline = MuscleCommandline(muscle_exe, input= results_dir +'/intergenic_regions_'+str(comparison_set)+'.fasta', out = results_dir + '/upstream_region_'+locus + '_alignment_'+str(comparison_set)+'.fasta')\n",
    "        exception = 0\n",
    "        try:\n",
    "            stdout, stderr = cline()\n",
    "        except Exception as e:\n",
    "            exception == 1\n",
    "        if exception == 0:\n",
    "            temp =util.read_fasta_to_array(results_dir + '/upstream_region_'+locus + '_alignment_'+str(comparison_set)+'.fasta')\n",
    "            for n, name in enumerate(temp[0]):\n",
    "                if name == 'Mycobacterium_tuberculosis_H37Rv':\n",
    "                    tb_loc = n\n",
    "                    break\n",
    "            insertions = []\n",
    "            for n, nt in enumerate(temp[1][n]):\n",
    "                if nt == '-':\n",
    "                    insertions.append(n)\n",
    "\n",
    "            sequences = []\n",
    "            for n, sequence in enumerate(temp[1]):\n",
    "                temp_seq = []\n",
    "                for m, l in enumerate(sequence):\n",
    "                    if not(m in insertions):\n",
    "                        temp_seq.append(l)\n",
    "                sequences.append([temp[0][n] ,''.join(temp_seq)])\n",
    "            util.produce_fasta_file(sequences, results_dir + '/upstream_region_no_insertions'+locus + '_alignment_'+str(comparison_set)+'.fasta')  \n",
    "\n",
    "\n",
    "            blastfn.convert_fasta_to_stockholm(results_dir, 'upstream_region_'+locus + '_alignment_'+str(comparison_set)+'.fasta', 'upstream_region_'+locus + '_alignment_'+str(comparison_set)+'.sto')\n",
    "            blastfn.run_rscape(results_dir, 'upstream_region_'+locus + '_alignment_'+str(comparison_set)+'.sto', 'rscape_output_'+str(comparison_set))\n",
    "\n",
    "            blastfn.convert_fasta_to_stockholm(results_dir, 'upstream_region_no_insertions'+locus + '_alignment_'+str(comparison_set)+'.fasta', 'upstream_region_no_insertions'+locus + '_alignment_'+str(comparison_set)+'.sto')\n",
    "            blastfn.run_rscape(results_dir, 'upstream_region_no_insertions'+locus + '_alignment_'+str(comparison_set)+'.sto', 'rscape_output_no_insertions'+str(comparison_set))"
   ]
  },
  {
   "cell_type": "markdown",
   "id": "c46ca5ad-41e6-4030-9de9-02fc85dd7710",
   "metadata": {
    "tags": []
   },
   "source": [
    "#### Subset based on loci of interest, and filter orthologues based on percent identity, synteny"
   ]
  },
  {
   "cell_type": "code",
   "execution_count": null,
   "id": "fb0b4500-31f1-47b9-b788-b50b38dc187c",
   "metadata": {
    "tags": []
   },
   "outputs": [],
   "source": [
    "tb_loci = []\n",
    "for genome_record in SeqIO.parse(seq_dir_1 + '/' + tb_annotation_dirname + '/genomic.gbff', \"genbank\"):\n",
    "        for feature in genome_record.features:\n",
    "                a = feature.qualifiers\n",
    "                if feature.type == 'CDS':\n",
    "                    tb_loci.append(a.get(\"locus_tag\")[0])"
   ]
  },
  {
   "cell_type": "code",
   "execution_count": null,
   "id": "e4dfe2f6-2ddc-4242-9572-c09a37234cea",
   "metadata": {
    "tags": []
   },
   "outputs": [],
   "source": [
    "tb_loci[3646]"
   ]
  },
  {
   "cell_type": "code",
   "execution_count": null,
   "id": "690ec978-0ebd-43ed-a8ae-62d08415c2ac",
   "metadata": {
    "tags": []
   },
   "outputs": [],
   "source": [
    "tb_loci = tb_loci[3646:]"
   ]
  },
  {
   "cell_type": "code",
   "execution_count": null,
   "id": "931cec82-b53c-4f39-9ad1-0fdcec644cb2",
   "metadata": {
    "tags": []
   },
   "outputs": [],
   "source": [
    "for n, locus in tqdm(enumerate(tb_loci)):\n",
    "    target_locus = tb_species+ '@' + locus \n",
    "    location = locations_dict_1[target_locus] \n",
    "    if n == 0:\n",
    "        continue\n",
    "    if location[2] == 1:\n",
    "        upstream_cds_stop = locations_dict_1[tb_species + '@' + tb_loci[n-1]][1]\n",
    "        offset = location[0] - upstream_cds_stop\n",
    "    else:\n",
    "        upstream_cds_stop = locations_dict_1[tb_species + '@' + tb_loci[n+1]][0]\n",
    "        offset = upstream_cds_stop - location[1]\n",
    "\n",
    "    if offset < 30:\n",
    "        continue\n",
    "    else:\n",
    "        print(locus)\n",
    "        generate_alignment(locus, offset, 1)\n",
    "        generate_alignment(locus, offset, 2)"
   ]
  },
  {
   "cell_type": "markdown",
   "id": "2ed11372-e465-4519-883e-85b46b6e8cad",
   "metadata": {},
   "source": [
    "#### Extract covariation information to identify potentially significant regions"
   ]
  },
  {
   "cell_type": "code",
   "execution_count": null,
   "id": "d47c776f-9647-4d9d-97fc-df4e05cb569e",
   "metadata": {},
   "outputs": [],
   "source": [
    "seq_ids = util.list_dirs(project_dir)\n",
    "out_list = []\n",
    "for id in seq_ids:\n",
    "    if os.path.exists(project_dir + '/' + str(id) + '/rscape_output_2.cov'):\n",
    "        with open(project_dir + '/' + str(id) + '/rscape_output_2.cov', 'r') as f:  \n",
    "            num_pairs = 0\n",
    "            e_values = []\n",
    "            for l in f:\n",
    "                if (not ('#' in l)):\n",
    "                    a = l.split()\n",
    "                    if len(a) > 6 and abs(int(a[2])-int(a[1])) > 10:    # Exclude covarying pairs less than 3 bp apart)\n",
    "                        e_values.append(float(a[4]))\n",
    "                        num_pairs +=1\n",
    "        if len(e_values) > 0:\n",
    "            tot = sum([math.log(x) for x  in e_values])\n",
    "            num = len(e_values)\n",
    "            combined_e_value = 1-chi2.cdf(-2*tot, 2*num)\n",
    "        else:\n",
    "            combined_e_value = 999\n",
    "        if combined_e_value < 88 and num_pairs> 4:\n",
    "            out_list.append((id, num_pairs, combined_e_value))\n",
    "out_list.sort(key = lambda x: x[0])\n",
    "out_list"
   ]
  },
  {
   "cell_type": "code",
   "execution_count": null,
   "id": "79a6f80e-9741-4437-9ac5-6cdef045064b",
   "metadata": {},
   "outputs": [],
   "source": [
    "reference_species = 'GCF_000195955.2'\n",
    "refseq_dir  = 'F:/Datasets/NCBI_Refseq_Mycobacteriaceae_All_Levels/ncbi_dataset/data'\n",
    "for record in SeqIO.parse(refseq_dir + '/'+reference_species+'/genomic.gbff', \"genbank\"):\n",
    "    full_sequence = str(record.seq)\n",
    "tr = util.Translator()\n",
    "tr.translate_sequence(full_sequence[4400215:4400777],1,0)"
   ]
  },
  {
   "cell_type": "code",
   "execution_count": null,
   "id": "62c76121-8b18-4b8b-9ae4-07c6ba80692f",
   "metadata": {},
   "outputs": [],
   "source": []
  }
 ],
 "metadata": {
  "kernelspec": {
   "display_name": "Python 3 (ipykernel)",
   "language": "python",
   "name": "python3"
  },
  "language_info": {
   "codemirror_mode": {
    "name": "ipython",
    "version": 3
   },
   "file_extension": ".py",
   "mimetype": "text/x-python",
   "name": "python",
   "nbconvert_exporter": "python",
   "pygments_lexer": "ipython3",
   "version": "3.9.7"
  }
 },
 "nbformat": 4,
 "nbformat_minor": 5
}
