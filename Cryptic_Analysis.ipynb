{
 "cells": [
  {
   "cell_type": "markdown",
   "id": "b1e30ed4-8a0e-4a6f-96eb-dfe116dfb2de",
   "metadata": {},
   "source": [
    "#### Directories etc"
   ]
  },
  {
   "cell_type": "code",
   "execution_count": 1,
   "id": "cf9c6377-5080-4c22-94db-feabe17cc47c",
   "metadata": {},
   "outputs": [
    {
     "name": "stderr",
     "output_type": "stream",
     "text": [
      "C:\\Users\\nicho\\Anaconda3\\envs\\Bioinformatics\\lib\\site-packages\\ete3-3.1.2-py3.7.egg\\ete3\\evol\\parser\\codemlparser.py:221: SyntaxWarning: \"is\" with a literal. Did you mean \"==\"?\n",
      "C:\\Users\\nicho\\Anaconda3\\envs\\Bioinformatics\\lib\\site-packages\\ete3-3.1.2-py3.7.egg\\ete3\\evol\\parser\\codemlparser.py:221: SyntaxWarning: \"is\" with a literal. Did you mean \"==\"?\n"
     ]
    }
   ],
   "source": [
    "import pandas as pd\n",
    "import pickle\n",
    "import seaborn as sns\n",
    "import matplotlib.pyplot as plt\n",
    "import numpy as np\n",
    "from scipy.fft import fft, fftfreq\n",
    "from Bio import Entrez, SeqIO, AlignIO, pairwise2, Align, Seq, motifs\n",
    "from Bio.Seq import Seq\n",
    "from Bio.SeqFeature import SeqFeature, FeatureLocation\n",
    "from scipy.stats import binom\n",
    "import math\n",
    "import random\n",
    "from tqdm import tqdm\n",
    "from Comparative_Analysis import Utilities as util\n",
    "from collections import defaultdict\n",
    "import random\n",
    "from joblib import Parallel, delayed\n",
    "from Comparative_Analysis import Blast_Functions as blastfn\n",
    "import time\n",
    "import os\n",
    "import copy\n",
    "from Comparative_Analysis import ORF_Functions as orffn\n",
    "from random import sample\n",
    "pd.options.mode.chained_assignment = None  # default='warn'\n",
    "import ete3;"
   ]
  },
  {
   "cell_type": "code",
   "execution_count": 51,
   "id": "1988a242-f558-4643-b3a9-27272fa7bebc",
   "metadata": {},
   "outputs": [],
   "source": [
    "project_dir = 'F:/Project_Data/Project_9'\n",
    "seq_dir = 'F:/Datasets/Actinobacteria_Ref_Rep_Lev_Complete'\n",
    "dictionary_dir = 'F:/Datasets/CRYPTIC_DATA/Cryptic_Dictionaries'\n",
    "mutation_count_dir = 'F:/Datasets/CRYPTIC_DATA/Cryptic_Mutation_Counts'\n",
    "mutation_count_dir = 'F:/Datasets/CRYPTIC_DATA/Cryptic_Mutation_Counts'\n",
    "test_dir = 'F:/Datasets/Test'\n",
    "tb_species = 'NC_000962.3' \n",
    "tb_genome_filename = 'GCF_000195955.2_ASM19595v2_genomic.gbff'\n",
    "mycobrowser_dir = 'F:/Datasets/Data_From_Publications'\n",
    "num_cores = 16\n",
    "core_numbers = list(range(1, num_cores+1))"
   ]
  },
  {
   "cell_type": "code",
   "execution_count": 3,
   "id": "3235e1e1-a7fa-474b-8a88-72232e020b69",
   "metadata": {},
   "outputs": [],
   "source": [
    "for record in SeqIO.parse(seq_dir + '/' + tb_genome_filename, \"genbank\"):\n",
    "    full_sequence = str(record.seq)\n",
    "for record in SeqIO.parse(project_dir + '/annot.gbk', \"genbank\"):\n",
    "    reannotated_sequence = str(record.seq)"
   ]
  },
  {
   "cell_type": "code",
   "execution_count": 4,
   "id": "bba7e94a-f3f3-4b38-b620-c4a62e55efbb",
   "metadata": {},
   "outputs": [],
   "source": [
    "mycobrowser_features =[]\n",
    "mycobrowser_df = pd.read_csv(mycobrowser_dir+'/Mycobrowser_Release_4.csv')\n",
    "for i, r in mycobrowser_df.iterrows():\n",
    "    if r['Strand'] == '+':\n",
    "        strand = 1\n",
    "    else:\n",
    "        strand = -1\n",
    "    mycobrowser_features.append([r['Locus'],r['Start']-1, r['Stop'], strand])"
   ]
  },
  {
   "cell_type": "code",
   "execution_count": 5,
   "id": "5bed02d4-5edf-46c9-bc55-cc30edc8028c",
   "metadata": {},
   "outputs": [],
   "source": [
    "barcode_df = pd.read_csv(project_dir +'/Barcode.csv')"
   ]
  },
  {
   "cell_type": "code",
   "execution_count": 6,
   "id": "4b88b412-d21e-4178-aef9-84e81e3c0f87",
   "metadata": {},
   "outputs": [],
   "source": [
    "full_run = False"
   ]
  },
  {
   "cell_type": "markdown",
   "id": "e3ee7e9e-6a66-485f-badf-22c81560e77f",
   "metadata": {},
   "source": [
    "#### Functions"
   ]
  },
  {
   "cell_type": "code",
   "execution_count": null,
   "id": "30ebdfd2-85cc-4bc6-86c5-9e3c6c9cf3ec",
   "metadata": {},
   "outputs": [],
   "source": [
    "def produce_sequences(position_list, variant_dict, position_dict):\n",
    "    base_sequence = []\n",
    "    for i in position_list:\n",
    "        base_sequence.append(full_sequence[i-1])     # Cryptic are 1 based \n",
    "    output_sequence_dict ={}\n",
    "    for k, v in variant_dict.items():\n",
    "        output_sequence_dict[k] = copy.deepcopy(base_sequence)\n",
    "    for i, pos in enumerate(position_list):\n",
    "        if pos in position_dict:\n",
    "            variant_info = position_dict[pos][1:]  # Miss out initlal \"ref\" record\n",
    "            for (name, alt) in variant_info:\n",
    "                output_sequence_dict[name][i] = alt.upper()\n",
    "    output_sequences = []\n",
    "    for k, v in output_sequence_dict.items():\n",
    "        output_sequences.append(['seq_'+str(k), ''.join(v)])\n",
    "    return output_sequences"
   ]
  },
  {
   "cell_type": "code",
   "execution_count": null,
   "id": "fefd2694-16c3-4f59-b516-08d2b64a3082",
   "metadata": {},
   "outputs": [],
   "source": [
    "def produce_sequences_to_score(position_list, variant_dict, position_dict, distinct_sequence_names):\n",
    "    base_sequence = []\n",
    "    for i in position_list:\n",
    "        base_sequence.append({full_sequence[i-1]})     # Cryptic are 1 based \n",
    "    output_sequence_dict ={}\n",
    "    for k, v in variant_dict.items():\n",
    "        if k in distinct_sequence_names:\n",
    "            output_sequence_dict[k] = copy.deepcopy(base_sequence)\n",
    "    for i, pos in enumerate(position_list):\n",
    "        if pos in position_dict:\n",
    "            variant_info = position_dict[pos][1:]  # Miss out initlal \"ref\" record\n",
    "            for (name, alt) in variant_info:\n",
    "                if name in output_sequence_dict:\n",
    "                    output_sequence_dict[name][i] = {alt.upper()}\n",
    "    temp_dict = {}\n",
    "    for k, v in output_sequence_dict.items():\n",
    "        temp_dict['seq_'+str(k)] = v\n",
    "    return temp_dict"
   ]
  },
  {
   "cell_type": "code",
   "execution_count": null,
   "id": "9d9acb43-19f3-45e0-8214-f9481910cfae",
   "metadata": {},
   "outputs": [],
   "source": [
    "def fitch_1(list_1, list_2):\n",
    "    res =[]\n",
    "    for i, j in zip(list_1, list_2):\n",
    "        a = i.intersection(j)\n",
    "        if len(a) == 0:\n",
    "            a = i.union(j)\n",
    "        res.append(a)\n",
    "    return res\n",
    "\n",
    "def fitch_2(parent_list, child_list):\n",
    "    res = []\n",
    "    mutations = []\n",
    "    for i, j in zip(parent_list, child_list):\n",
    "        mutation = 0\n",
    "        a = i.intersection(j)\n",
    "        if len(a) == 0:\n",
    "            a = set(list(j)[0])\n",
    "            mutation = 1\n",
    "        res.append(a)\n",
    "        if mutation == 1:\n",
    "            mutations.append(1)\n",
    "        else:\n",
    "            mutations.append(0)\n",
    "    return (res, mutations)"
   ]
  },
  {
   "cell_type": "code",
   "execution_count": null,
   "id": "562c1fbb-768e-4ab5-a781-b9a8ae96b6c1",
   "metadata": {},
   "outputs": [],
   "source": [
    "def bin_formula(position_3_counts, tot_bin_counts):\n",
    "    return 1- binom.cdf(position_3_counts-1, tot_bin_counts,1/3)"
   ]
  },
  {
   "cell_type": "code",
   "execution_count": null,
   "id": "b9eaf090-a2a6-4b2d-b054-602281be9016",
   "metadata": {
    "tags": []
   },
   "outputs": [],
   "source": [
    "def mutation_bin_probability(mutation_counts):\n",
    "    bin_counts = [0,0,0]\n",
    "    for i, c in enumerate(mutation_counts):\n",
    "        bin_counts[i % 3] += c\n",
    "    if sum(bin_counts) == 0:\n",
    "        return (2)\n",
    "    else:\n",
    "        return (bin_counts, bin_formula(bin_counts[2], sum(bin_counts)))  "
   ]
  },
  {
   "cell_type": "code",
   "execution_count": null,
   "id": "461e5a4a-6849-4e60-b1d0-8b6c81e20610",
   "metadata": {},
   "outputs": [],
   "source": [
    "def calculation_mutation_significance(start, stop):  \n",
    "    positions = list(range(start,stop))\n",
    "    sequence_to_score_dict = produce_sequences_to_score(positions, variant_dict, position_dict, distinct_sequence_names)\n",
    "\n",
    "    for node in master_tree.traverse(\"postorder\"):\n",
    "        if node.is_leaf():\n",
    "            node.add_features(seq = sequence_to_score_dict[node.name])\n",
    "        else:\n",
    "            children = node.children\n",
    "            node.add_features(seq = fitch_1(children[0].seq, children[1].seq))\n",
    "    for k, v in sequence_to_score_dict.items():              \n",
    "        seq_length = len(v)\n",
    "        break\n",
    "\n",
    "    mutation_counts = [0 for i in range(seq_length)]\n",
    "    for node in master_tree.traverse(\"preorder\"):\n",
    "        if node.is_leaf():\n",
    "            continue\n",
    "        if node.is_root():\n",
    "            node.seq = [{list(x)[0]} for x in node.seq]\n",
    "        children = node.children\n",
    "        mutations = []\n",
    "        for child in children:\n",
    "            (temp_1, temp_2) = fitch_2(node.seq ,child.seq)\n",
    "            child.seq = temp_1\n",
    "            mutations.append(temp_2)\n",
    "        temp = []\n",
    "        for h, i, j in zip(mutation_counts, mutations[0], mutations[1]):\n",
    "            temp.append(h+max(i, j))\n",
    "        mutation_counts = temp        \n",
    "    return mutation_bin_probability(mutation_counts)"
   ]
  },
  {
   "cell_type": "code",
   "execution_count": null,
   "id": "95cb8d3e-ef11-4e1a-bf89-cacff5ff6f2b",
   "metadata": {},
   "outputs": [],
   "source": [
    "def generate_mutation_counts(filename, core_number):    \n",
    "    seq_length = 100\n",
    "    a = filename.split('_')\n",
    "    start = a[-3]\n",
    "    stop = a[-2]\n",
    "    with open(filename, 'rb') as f:\n",
    "        sequence_to_score_dict = pickle.load(f)\n",
    "    master_tree2= ete3.Tree(project_dir + '/' + 'my_tree.nwk')\n",
    "    for node in master_tree2.traverse(\"postorder\"):\n",
    "        if node.is_leaf():\n",
    "            node.add_features(seq = sequence_to_score_dict[node.name][core_number * seq_length: (core_number+1) * seq_length])\n",
    "        else:\n",
    "            children = node.children\n",
    "            node.add_features(seq = fitch_1(children[0].seq, children[1].seq))\n",
    "    #for k, v in sequence_to_score_dict.items():              \n",
    "        #seq_length = len(v)\n",
    "        #break\n",
    "    \n",
    "    mutation_counts = [0 for i in range(seq_length)]\n",
    "    for node in master_tree2.traverse(\"preorder\"):\n",
    "        if node.is_leaf():\n",
    "            continue\n",
    "        if node.is_root():\n",
    "            node.seq = [{list(x)[0]} for x in node.seq]\n",
    "        children = node.children\n",
    "        mutations = []\n",
    "        child_sequences = []\n",
    "        for child in children:\n",
    "            (temp_1, temp_2) = fitch_2(node.seq ,child.seq)\n",
    "            child_sequences.append(temp_1)\n",
    "            child.seq = temp_1\n",
    "            mutations.append(temp_2)\n",
    "        temp = []\n",
    "        for n, (h, i, j) in enumerate(zip(mutation_counts, mutations[0], mutations[1])):\n",
    "            if i + j == 0:\n",
    "                temp.append(h+0)\n",
    "            elif i + j == 1:\n",
    "                temp.append(h+1)\n",
    "            else:\n",
    "                if child_sequences[0][i] == child_sequences[1][i]:\n",
    "                    temp.append(h+1)\n",
    "                else:\n",
    "                    temp.append(h+2)\n",
    "            \n",
    "        mutation_counts = temp     \n",
    "    return (start, stop, mutation_counts)"
   ]
  },
  {
   "cell_type": "markdown",
   "id": "fcc25129-08e0-4ce1-9b17-a64f477c50d8",
   "metadata": {},
   "source": [
    "#### Create variant dictionaries "
   ]
  },
  {
   "cell_type": "code",
   "execution_count": null,
   "id": "a5fcbb04-2c85-4719-b420-2651cf1e2cdf",
   "metadata": {},
   "outputs": [],
   "source": [
    "if full_run == True:\n",
    "    variant_df = pd.read_csv(cryptic_input_path + \"VARIANTS.csv\") \n",
    "    with open(project_dir + '/variant_df.pkl', 'wb') as f:\n",
    "        pickle.dump(variant_df[['UNIQUEID', 'VARIANT', 'MUTATION_TYPE', 'IS_NULL', 'IS_HET', 'IS_FILTER_PASS', 'IS_SNP', 'REF', 'ALT', 'GENOME_INDEX']], f)    "
   ]
  },
  {
   "cell_type": "code",
   "execution_count": null,
   "id": "77fe61cc-adfe-4aa1-97d1-ba7ef7ac00ff",
   "metadata": {},
   "outputs": [],
   "source": [
    "if full_run == True:\n",
    "    position_dict = {}\n",
    "    variant_dict = {}\n",
    "    id_dict = {}\n",
    "    with open(project_dir + '/variant_df.pkl', 'rb') as f:\n",
    "        variant_df = pickle.load(f) \n",
    "        unique_ids = variant_df.UNIQUEID.unique()\n",
    "        for i, unique_id in enumerate(unique_ids):\n",
    "            id_dict[unique_id] = i\n",
    "\n",
    "        for i, r in variant_df.iterrows():\n",
    "            if r['IS_NULL'] == False and r['IS_FILTER_PASS'] == True and r['IS_HET'] == False and r['IS_SNP'] == True :\n",
    "                \n",
    "                if id_dict[r['UNIQUEID']] in variant_dict:\n",
    "                    variant_dict[id_dict[r['UNIQUEID']]].append((r['GENOME_INDEX'], r['ALT']))\n",
    "                else:\n",
    "                    variant_dict[id_dict[r['UNIQUEID']]] = [(r['GENOME_INDEX'], r['ALT'])]\n",
    "\n",
    "                if r['GENOME_INDEX'] in position_dict:\n",
    "                    position_dict[r['GENOME_INDEX']].append((id_dict[r['UNIQUEID']], r['ALT']))\n",
    "                else:\n",
    "                    position_dict[r['GENOME_INDEX']] = [r['REF'], (id_dict[r['UNIQUEID']], r['ALT'])]    # If first entry also include reference value for info\n",
    "\n",
    "    with open(project_dir + '/id_dict.pkl', 'wb') as f:\n",
    "        pickle.dump(id_dict, f)\n",
    "    with open(project_dir + '/variant_dict.pkl', 'wb') as f:\n",
    "        pickle.dump(variant_dict, f) \n",
    "    with open(project_dir + '/position_dict.pkl', 'wb') as f:\n",
    "        pickle.dump(position_dict, f) \n",
    "        "
   ]
  },
  {
   "cell_type": "code",
   "execution_count": null,
   "id": "ef9da2b4-26ab-4150-90e6-99fc3b388cf3",
   "metadata": {},
   "outputs": [],
   "source": [
    "if full_run == False:\n",
    "    with open(project_dir + '/id_dict.pkl', 'rb') as f:\n",
    "        id_dict = pickle.load(f)  \n",
    "    with open(project_dir + '/variant_dict.pkl', 'rb') as f:\n",
    "        variant_dict = pickle.load(f)  \n",
    "    with open(project_dir + '/position_dict.pkl', 'rb') as f:\n",
    "        position_dict = pickle.load(f)  "
   ]
  },
  {
   "cell_type": "code",
   "execution_count": 7,
   "id": "133106d3-1585-4665-b6e1-5f0fcf8b45b8",
   "metadata": {},
   "outputs": [],
   "source": [
    "tb_length = len(full_sequence)\n",
    "with open(project_dir + '/variant_dict.pkl', 'rb') as f:\n",
    "        variant_dict = pickle.load(f)  "
   ]
  },
  {
   "cell_type": "code",
   "execution_count": 9,
   "id": "95069c51-d30d-47a5-8a1c-5e2151cd6708",
   "metadata": {},
   "outputs": [],
   "source": [
    "snp_pos_dict = {}\n",
    "for k, v in variant_dict.items():\n",
    "    snp_pos_dict[k] = set([str(pos) + snp for (pos, snp) in v])"
   ]
  },
  {
   "cell_type": "code",
   "execution_count": 56,
   "id": "5af93de5-fc91-4cc9-92c0-17c2bfd9bf59",
   "metadata": {},
   "outputs": [],
   "source": [
    "def generate_distances(snp_pos_dict_1, snp_pos_dict_2):\n",
    "    distance_dict = {}\n",
    "    for k1, v1 in snp_pos_dict_1.items():\n",
    "        for k2, v2 in snp_pos_dict_2.items():\n",
    "            f = len(v1.symmetric_difference(v2))/tb_length\n",
    "            d = -3/4 * math.log(1 - 4*f /3)\n",
    "            distance_dict[(k1, k2)] = d\n",
    "            distance_dict[(k2, k1)] = d\n",
    "    return(distance_dict)"
   ]
  },
  {
   "cell_type": "code",
   "execution_count": 57,
   "id": "ec7336a7-28d6-433a-b195-2bf3ee21d9aa",
   "metadata": {},
   "outputs": [
    {
     "name": "stderr",
     "output_type": "stream",
     "text": [
      "100%|██████████| 16/16 [00:01<00:00, 15.03it/s]\n"
     ]
    }
   ],
   "source": [
    "temp_variant_dict = {}\n",
    "for n, (k, v) in enumerate(variant_dict.items()):\n",
    "    temp_variant_dict[k] = v\n",
    "    if n > 5000:\n",
    "        break\n",
    "\n",
    "snp_pos_dict = {}\n",
    "for core in tqdm(core_numbers):\n",
    "    temp_dict = {}\n",
    "    for (k, v) in temp_variant_dict.items():\n",
    "        if k%num_cores + 1 == core:\n",
    "            temp_dict[k] = set([str(pos) + snp for (pos, snp) in v])\n",
    "    snp_pos_dict[core] = temp_dict\n",
    "    "
   ]
  },
  {
   "cell_type": "code",
   "execution_count": 70,
   "id": "2c759ced-4bc9-4661-a481-9e8c86bc7219",
   "metadata": {},
   "outputs": [],
   "source": [
    "pairwise_blocks = []\n",
    "for core in core_numbers:\n",
    "    for core2 in core_numbers:\n",
    "        if core2 >= core:\n",
    "            pairwise_blocks.append((core, core2))\n",
    "len(pairwise_blocks)/len(core_numbers)\n",
    "pairwise_list = []\n",
    "for core in core_numbers:\n",
    "    if (core - 1) * num_cores > len(pairwise_blocks):\n",
    "        continue\n",
    "    else:\n",
    "        pairwise_list.append(pairwise_blocks[(core - 1) * num_cores : core * num_cores])"
   ]
  },
  {
   "cell_type": "code",
   "execution_count": 71,
   "id": "5e8cbc7d-7672-451d-880f-e415aee20de2",
   "metadata": {},
   "outputs": [
    {
     "name": "stderr",
     "output_type": "stream",
     "text": [
      "100%|██████████| 9/9 [02:17<00:00, 15.33s/it]\n"
     ]
    }
   ],
   "source": [
    "master_dict = {}\n",
    "for comparators in tqdm(pairwise_list):\n",
    "    parallel_output = Parallel(n_jobs=-1)(delayed(generate_distances)(snp_pos_dict[pos1], snp_pos_dict[pos2]) for (pos1, pos2) in comparators)\n",
    "    for output_dict in parallel_output:\n",
    "        for (k, v) in output_dict.items():\n",
    "            master_dict[k] = v\n",
    "with open(project_dir + '/master_distance_dict.pkl', 'wb') as f:\n",
    "        pickle.dump(master_dict, f) "
   ]
  },
  {
   "cell_type": "code",
   "execution_count": 46,
   "id": "5a76331e-942d-4ee7-8391-9f44fa51ceb2",
   "metadata": {},
   "outputs": [],
   "source": [
    "ids = []\n",
    "for k, v in master_dict.items():\n",
    "    ids.append(k[0])\n",
    "ids = list(set(ids))\n",
    "with open(project_dir+'/tb_seq_distances.phy', 'w') as f:\n",
    "    f.write('%d\\n' % len(ids))\n",
    "    for idref in ids:\n",
    "        f.write('seq_'+str(idref))\n",
    "        for opref in ids:\n",
    "            f.write('\\t%s' % str(abs(master_dict[idref, opref])))\n",
    "        f.write('\\n')"
   ]
  },
  {
   "cell_type": "markdown",
   "id": "a4f26106-6d45-411e-b4bd-e5f796e37793",
   "metadata": {},
   "source": [
    "#### Output full sequences and distinct sequences based on barcode positions for construction of tree"
   ]
  },
  {
   "cell_type": "code",
   "execution_count": null,
   "id": "c107d29a-0a57-458f-bbc8-1e041dcd0e0f",
   "metadata": {},
   "outputs": [],
   "source": [
    "temp = []\n",
    "for k, v in position_dict.items():\n",
    "    if len(v) > 0 and len(v) < 100:\n",
    "        temp.append(len(v))\n",
    "len(temp)\n",
    "sns.histplot(temp, bins =100)"
   ]
  },
  {
   "cell_type": "code",
   "execution_count": null,
   "id": "1a5a5d24-12d7-4e40-a0f8-0443893f9e96",
   "metadata": {},
   "outputs": [],
   "source": [
    "barcode_snps = []\n",
    "for i, r in barcode_df.iterrows():\n",
    "    start = r['start'] + 1            # Cryptic file is 1 indexed\n",
    "    lineage_name = r['lineage']\n",
    "    if start in position_dict and 'lineage' in lineage_name:   # Just TB lineages\n",
    "        barcode_snps.append(start)"
   ]
  },
  {
   "cell_type": "code",
   "execution_count": null,
   "id": "02308c27-c3ad-4ae6-92ec-951cec9a27c5",
   "metadata": {},
   "outputs": [],
   "source": [
    "barcode_snps = []\n",
    "for k, v in position_dict.items():\n",
    "    if len(v) >= 10:\n",
    "        barcode_snps.append(k)\n",
    "len(barcode_snps)"
   ]
  },
  {
   "cell_type": "code",
   "execution_count": null,
   "id": "935875cd-ea0e-4d02-934e-38727f7c0881",
   "metadata": {},
   "outputs": [],
   "source": [
    "sequences = produce_sequences(barcode_snps, variant_dict, position_dict)\n",
    "util.produce_fasta_file(sequences, project_dir + '/' + 'tb_variants.faa')"
   ]
  },
  {
   "cell_type": "code",
   "execution_count": null,
   "id": "9468f0da-f0af-48d1-b9ee-2fc476fc3169",
   "metadata": {},
   "outputs": [],
   "source": [
    "distinct_sequences = []\n",
    "distinct_sequence_names = []\n",
    "temp_dict = {}\n",
    "for (ref, seq) in sequences:\n",
    "    temp_dict[seq] = ref\n",
    "for k, v in temp_dict.items():    \n",
    "    distinct_sequences.append([v, k])\n",
    "    distinct_sequence_names.append(int(v.split('_')[1]))\n",
    "util.produce_fasta_file(distinct_sequences, project_dir + '/' + 'distinct_tb_variants.faa')"
   ]
  },
  {
   "cell_type": "code",
   "execution_count": null,
   "id": "b4d3d1ef-4adc-4cab-9e85-d3ac1ac49742",
   "metadata": {},
   "outputs": [],
   "source": [
    "#blastfn.convert_fasta_to_stockholm(project_dir,  'distinct_tb_variants.faa', 'distinct_tb_variants.sto')\n",
    "util.convert_sequence_file_format(project_dir + '/distinct_tb_variants.faa', project_dir + '/distinct_tb_variants2.sto', input_file_format = \"fasta\", output_file_format = \"stockholm\")"
   ]
  },
  {
   "cell_type": "code",
   "execution_count": null,
   "id": "f7f0b860-4c57-4de7-997c-c2e7cc074d64",
   "metadata": {},
   "outputs": [],
   "source": [
    "# Run in Windows PowerShell      .\\\\downloads\\fasttree.exe -nt -fastest -noml -nosupport d:\\Project_Data\\Project_9\\distinct_tb_variants.faa > d:\\Project_Data\\Project_9\\my_tree.nwk\n",
    "master_tree= ete3.Tree(project_dir + '/' + 'tb_tree.nwk')"
   ]
  },
  {
   "cell_type": "code",
   "execution_count": null,
   "id": "ea87943f-fab0-45c5-81eb-c365a0f1da91",
   "metadata": {},
   "outputs": [],
   "source": [
    "len(master_tree)"
   ]
  },
  {
   "cell_type": "markdown",
   "id": "38020a2d-eb43-4999-a94a-d887fcbba4a1",
   "metadata": {
    "tags": []
   },
   "source": [
    "#### Produce and save mutations per position (first produce files containing blocks of 10,000 nt values for all sequences in tree - will take about 36 hours)"
   ]
  },
  {
   "cell_type": "code",
   "execution_count": null,
   "id": "420ab585-aaff-4ef5-8f31-46e766323fa3",
   "metadata": {
    "tags": []
   },
   "outputs": [],
   "source": [
    "variant_positions = []\n",
    "for k, v in variant_dict.items():\n",
    "    if k in distinct_sequence_names:\n",
    "        for (pos, snp) in v:\n",
    "            variant_positions.append(pos-1)     #Cryptic is 1 indexed\n",
    "sorted_variant_position_list = list(set(variant_positions))\n",
    "sorted_variant_position_list.sort()\n",
    "pos_id_dict = dict(zip(sorted_variant_position_list, range(len(set(variant_positions)))))\n",
    "id_pos_dict = dict(zip(range(len(set(variant_positions))), sorted_variant_position_list))"
   ]
  },
  {
   "cell_type": "code",
   "execution_count": null,
   "id": "5ffa22c4-4035-4951-9272-4fe8b1219382",
   "metadata": {
    "tags": []
   },
   "outputs": [],
   "source": [
    "tb_variants_sequence_length = len(pos_id_dict)\n",
    "chunk_size = 1000\n",
    "num_chunks = math.ceil(tb_variants_sequence_length/chunk_size)\n",
    "chunk_variant_dict = defaultdict(lambda: defaultdict(list))\n",
    "for k, v in variant_dict.items():\n",
    "    if k in distinct_sequence_names:\n",
    "        for (pos, snp) in v:\n",
    "            chunk = int(pos_id_dict[pos-1]/chunk_size)\n",
    "            position_in_chunk = pos_id_dict[pos-1] % chunk_size\n",
    "            chunk_variant_dict[chunk][k].append((position_in_chunk,snp.upper()))\n",
    "print(\"Built dictionary\")"
   ]
  },
  {
   "cell_type": "code",
   "execution_count": null,
   "id": "ba4903bc-3222-4018-a92e-cf0f1effc52f",
   "metadata": {
    "tags": []
   },
   "outputs": [],
   "source": [
    "full_tb_variant_sequence = ''.join([full_sequence[pos] for pos in sorted_variant_position_list])\n",
    "if full_run == True:\n",
    "    for chunk in tqdm(range(num_chunks)):\n",
    "            start_pos = chunk * chunk_size\n",
    "            end_pos = min(tb_variants_sequence_length, start_pos + chunk_size)\n",
    "            variant_sequence_dict = {}\n",
    "            seq_chunk = [{x} for x in full_tb_variant_sequence[start_pos:end_pos]]\n",
    "            for seq_id in distinct_sequence_names:\n",
    "                temp = copy.copy(seq_chunk)\n",
    "                if seq_id in chunk_variant_dict[chunk]:\n",
    "                    for (pos, snp) in chunk_variant_dict[chunk][seq_id]:\n",
    "                        temp[pos] = {snp}\n",
    "                variant_sequence_dict['seq_'+str(seq_id)] = temp\n",
    "            with open(dictionary_dir + '/variant_dictionary_'+str(start_pos)+'_'+str(end_pos)+'_' + '.pkl', 'wb') as f:\n",
    "                   pickle.dump(variant_sequence_dict, f) "
   ]
  },
  {
   "cell_type": "code",
   "execution_count": null,
   "id": "1f7730ef-05b3-46e6-b3ab-a58bdd82c5e0",
   "metadata": {},
   "outputs": [],
   "source": [
    "filename_list = util.list_files(dictionary_dir)\n",
    "filename_list[0]"
   ]
  },
  {
   "cell_type": "code",
   "execution_count": null,
   "id": "1f7750a2-60f6-41fd-acb6-307438824c3b",
   "metadata": {},
   "outputs": [],
   "source": [
    "#if full_run==True:   #mutation_count_dir\n",
    "if 1==1:\n",
    "    res = []\n",
    "    filename_list = util.list_files(dictionary_dir)\n",
    "    for filename in tqdm([filename_list[0]]):\n",
    "        temp_2 = filename.split('_')\n",
    "        start_pos = int(temp_2[2])\n",
    "        end_pos = int(temp_2[3])\n",
    "        parallel_output = Parallel(n_jobs=-1)(delayed(generate_mutation_counts)(dictionary_dir+'/' + filename, core_number) for core_number in range(10))\n",
    "        temp = []\n",
    "        for x in parallel_output:\n",
    "            temp+=x[2]\n",
    "        res.append((int(parallel_output[0][0]), int(parallel_output[0][1]), temp))\n",
    "        with open(test_dir + '/mutation_counts_'+str(start_pos)+'_'+str(end_pos)+'_' + '.pkl', 'wb') as f:\n",
    "                   pickle.dump((int(parallel_output[0][0]), int(parallel_output[0][1]), temp), f) \n",
    "    with open(test_dir + '/all_mutation_counts.pkl', 'wb') as f:\n",
    "        pickle.dump(res, f) "
   ]
  },
  {
   "cell_type": "code",
   "execution_count": null,
   "id": "d789a34c-e491-4d71-851d-ac8230f2f004",
   "metadata": {},
   "outputs": [],
   "source": [
    "if full_run == True:\n",
    "    non_zero_mutation_counts = []\n",
    "    for x in res:\n",
    "        non_zero_mutation_counts += x[2]\n",
    "    zero_and_non_zero_mutation_counts = []\n",
    "    for i in range(len(full_sequence)):\n",
    "        if i in pos_id_dict:\n",
    "            zero_and_non_zero_mutation_counts.append(non_zero_mutation_counts[pos_id_dict[i]])\n",
    "        else:\n",
    "            zero_and_non_zero_mutation_counts.append(0)\n",
    "with open(mutation_count_dir + '/zero_and_non_zero_mutation_counts.pkl', 'wb') as f:\n",
    "        pickle.dump(zero_and_non_zero_mutation_counts, f)     "
   ]
  },
  {
   "cell_type": "code",
   "execution_count": null,
   "id": "958cf361-756d-4c83-a9d4-d7df50a81587",
   "metadata": {},
   "outputs": [],
   "source": [
    "if full_run == False:\n",
    "    with open(mutation_count_dir + '/zero_and_non_zero_mutation_counts.pkl', 'rb') as f:\n",
    "        zero_and_non_zero_mutation_counts = pickle.load(f)  \n",
    "    "
   ]
  },
  {
   "cell_type": "code",
   "execution_count": null,
   "id": "e5186cf5-e207-4c3f-bc83-a8bf5b4f28b5",
   "metadata": {},
   "outputs": [],
   "source": [
    "\n"
   ]
  },
  {
   "cell_type": "markdown",
   "id": "bc659e1b-5252-4234-a49b-1516918107c2",
   "metadata": {
    "tags": []
   },
   "source": [
    "#### Load old mutationcounts based on previuos methdology"
   ]
  },
  {
   "cell_type": "code",
   "execution_count": null,
   "id": "bb72c941-39d4-4c00-8fb3-63762e0c89db",
   "metadata": {
    "tags": []
   },
   "outputs": [],
   "source": [
    "if full_run == False:\n",
    "    with open(project_dir + '/mutation_counts.pkl', 'rb') as f:\n",
    "        old_mutation_counts = pickle.load(f)  \n",
    "old_mutation_counts.sort(key = lambda x: int(x[0]))\n",
    "old_mutation_count_list = []\n",
    "for (start, stop, counts) in old_mutation_counts:\n",
    "    for count in counts:\n",
    "        old_mutation_count_list.append(count)"
   ]
  },
  {
   "cell_type": "code",
   "execution_count": null,
   "id": "9d865f3d-2108-4d3e-8f34-01d29b614463",
   "metadata": {
    "tags": []
   },
   "outputs": [],
   "source": [
    "print(old_mutation_count_list[0:100])"
   ]
  },
  {
   "cell_type": "markdown",
   "id": "49a13157-c28c-4946-9a70-60b82ac12221",
   "metadata": {
    "tags": []
   },
   "source": [
    "#### Old version"
   ]
  },
  {
   "cell_type": "code",
   "execution_count": null,
   "id": "1044c711-c1fb-4a18-84c2-45969c0ac552",
   "metadata": {
    "tags": []
   },
   "outputs": [],
   "source": [
    "#if full_run == True:\n",
    "if 1==1:\n",
    "    small_variant_dict = {}\n",
    "    for k, v in variant_dict.items():\n",
    "        if k in distinct_sequence_names:\n",
    "            small_variant_dict[k] = v\n",
    "    tb_sequence_length = len(full_sequence)\n",
    "    chunk_size = 1000\n",
    "    num_chunks = math.ceil(tb_sequence_length/chunk_size)\n",
    "    for chunk in range(1):\n",
    "    #for chunk in tqdm(range(num_chunks)):\n",
    "        start_pos = chunk * chunk_size\n",
    "        end_pos = min(tb_sequence_length, start_pos + chunk_size)\n",
    "        variant_sequence_dict = {}\n",
    "        for k, v in small_variant_dict.items():\n",
    "            temp = list(full_sequence)\n",
    "            for (pos, snp) in v:\n",
    "                temp[pos-1] = snp.upper()\n",
    "            variant_sequence_dict['seq_'+str(k)] = [{x} for x in temp[start_pos:end_pos]]\n",
    "        with open(project_dir + '/Cryptic_Sequence_Dictionaries_2/variant_dict_'+str(start_pos)+'_'+str(end_pos)+'_' + '.pkl', 'wb') as f:\n",
    "                pickle.dump(variant_sequence_dict, f) "
   ]
  },
  {
   "cell_type": "code",
   "execution_count": null,
   "id": "47afa6de-deda-4cf6-88f1-f1b56500fcd8",
   "metadata": {
    "tags": []
   },
   "outputs": [],
   "source": [
    "if 1==1:                \n",
    "    filename_list = util.list_files(project_dir+'/Cryptic_Sequence_Dictionaries_2')\n",
    "    res = []\n",
    "    start_time = time.time()\n",
    "    for filename in tqdm(filename_list):\n",
    "        temp = generate_mutation_counts(project_dir+'/Cryptic_Sequence_Dictionaries_2/'+filename)\n",
    "        res.append(temp)\n",
    "    with open(project_dir + '/mutation_counts_2.pkl', 'wb') as f:\n",
    "                pickle.dump(res, f) "
   ]
  },
  {
   "cell_type": "code",
   "execution_count": null,
   "id": "1740e557-9786-42c4-8b3e-1ee1f9e5df0c",
   "metadata": {},
   "outputs": [],
   "source": [
    "if full_run == False:\n",
    "    with open(project_dir + '/mutation_counts.pkl', 'rb') as f:\n",
    "        mutation_counts = pickle.load(f)  \n",
    "mutation_counts.sort(key = lambda x: int(x[0]))\n",
    "mutation_count_list = []\n",
    "for (start, stop, counts) in mutation_counts:\n",
    "    for count in counts:\n",
    "        mutation_count_list.append(count)"
   ]
  },
  {
   "cell_type": "markdown",
   "id": "240d70ef-14d8-4bf2-a360-0e611506a410",
   "metadata": {},
   "source": [
    "#### Calculate probabilites for annotated (and reannotated PGAP) CDS regions"
   ]
  },
  {
   "cell_type": "code",
   "execution_count": null,
   "id": "3f6b3bf0-ecda-4573-8e66-7fcde8acd18c",
   "metadata": {},
   "outputs": [],
   "source": [
    "cds_boundaries = []\n",
    "for genome_record in SeqIO.parse(seq_dir + '/' + tb_genome_filename, \"genbank\"):\n",
    "    for feature in genome_record.features:\n",
    "        if feature.type == 'CDS':\n",
    "            a = feature.qualifiers  \n",
    "            if a.get(\"pseudo\") == None:\n",
    "                pseudo = False\n",
    "            else:\n",
    "                pseudo = True\n",
    "            cds_boundaries.append((a.get(\"locus_tag\")[0], pseudo, a.get(\"product\")[0], int(feature.location.start), int(feature.location.end), int(feature.location.strand)))   \n",
    "reannotated_cds_boundaries = []\n",
    "for genome_record in SeqIO.parse(project_dir + '/annot.gbk', \"genbank\"):\n",
    "    for feature in genome_record.features:\n",
    "        if feature.type == 'CDS':\n",
    "            a = feature.qualifiers  \n",
    "            if a.get(\"pseudo\") == None:\n",
    "                pseudo = False\n",
    "            else:\n",
    "                pseudo = True\n",
    "            reannotated_cds_boundaries.append((a.get(\"locus_tag\")[0], pseudo, a.get(\"product\")[0], int(feature.location.start), int(feature.location.end), int(feature.location.strand)))   \n",
    "cds_boundaries.sort(key = lambda x: x[3])\n",
    "reannotated_cds_boundaries.sort(key = lambda x: x[3])"
   ]
  },
  {
   "cell_type": "code",
   "execution_count": null,
   "id": "f77c9d1e-8d02-4ed8-9d7f-2f599b5f1a66",
   "metadata": {},
   "outputs": [],
   "source": [
    "temp =[]\n",
    "for (locus, pseudo, product, start, stop, strand) in cds_boundaries:\n",
    "    if pseudo == False:\n",
    "        if strand == 1:\n",
    "            #temp.append(mutation_bin_probability(old_mutation_count_list[start:stop]))\n",
    "            temp.append(mutation_bin_probability(zero_and_non_zero_mutation_counts[start:stop]))\n",
    "        else:\n",
    "            #temp.append(mutation_bin_probability(reversed(old_mutation_count_list[start:stop])))\n",
    "            temp.append(mutation_bin_probability(reversed(zero_and_non_zero_mutation_counts[start:stop])))\n",
    "scores = []\n",
    "for x in temp:\n",
    "    if x == 2:\n",
    "        scores.append(x)\n",
    "    else:\n",
    "        scores.append(x[1])"
   ]
  },
  {
   "cell_type": "code",
   "execution_count": null,
   "id": "e88b9d7e-f827-4b4d-921e-f63b44f50ac3",
   "metadata": {},
   "outputs": [],
   "source": [
    "sns.histplot(scores, bins =100)"
   ]
  },
  {
   "cell_type": "code",
   "execution_count": null,
   "id": "4ce69c85-5565-409f-91ab-d0bd1b3329bf",
   "metadata": {},
   "outputs": [],
   "source": [
    "temp =[]\n",
    "dict_1 = {}\n",
    "for (locus, pseudo, product, start, stop, strand) in cds_boundaries:\n",
    "    #if pseudo == False:\n",
    "    if 1==1:\n",
    "        if strand == 1:\n",
    "            k = mutation_bin_probability(old_mutation_count_list[start:stop])\n",
    "            l = mutation_bin_probability(zero_and_non_zero_mutation_counts[start:stop])\n",
    "            \n",
    "        else:\n",
    "            k = mutation_bin_probability(reversed(old_mutation_count_list[start:stop]))\n",
    "            l = mutation_bin_probability(reversed(zero_and_non_zero_mutation_counts[start:stop]))\n",
    "    dict_1[locus] = (k, l)\n",
    "\n",
    "scores2 = []\n",
    "for k, v in dict_1.items():\n",
    "    x = v[0]\n",
    "    if x== 2:\n",
    "        scores2.append(x)\n",
    "    else:\n",
    "        scores2.append(x[1])"
   ]
  },
  {
   "cell_type": "code",
   "execution_count": null,
   "id": "3e29cba4-d6f3-4b40-8c20-0839efa3e52d",
   "metadata": {},
   "outputs": [],
   "source": [
    "for (locus, pseudo, product, start, stop, strand) in cds_boundaries:\n",
    "    #if pseudo == False:\n",
    "    if locus == 'Rv0004':\n",
    "        print(start, stop)\n",
    "        k = old_mutation_count_list[start:stop]\n",
    "        l = zero_and_non_zero_mutation_counts[start:stop]\n",
    "        print(k)\n",
    "        print(l)\n",
    "        print(mutation_bin_probability(k))\n",
    "        print(mutation_bin_probability(l))"
   ]
  },
  {
   "cell_type": "code",
   "execution_count": null,
   "id": "410ab1d0-9523-43be-906e-1ddc33b91727",
   "metadata": {},
   "outputs": [],
   "source": [
    "print(zero_and_non_zero_mutation_counts[4770])"
   ]
  },
  {
   "cell_type": "code",
   "execution_count": null,
   "id": "99b1704d-a0bc-4ffa-95f9-1b02d0c33afa",
   "metadata": {},
   "outputs": [],
   "source": [
    "len(position_dict[4771])"
   ]
  },
  {
   "cell_type": "code",
   "execution_count": null,
   "id": "2f942e18-734c-4180-9b25-2cf638194300",
   "metadata": {},
   "outputs": [],
   "source": [
    "sns.histplot(scores2, bins =100)"
   ]
  },
  {
   "cell_type": "code",
   "execution_count": null,
   "id": "fdfe58f8-9eb1-427d-ad7f-cde443c056ff",
   "metadata": {},
   "outputs": [],
   "source": [
    "for k, v in dict_1.items():\n",
    "    x = v[0]\n",
    "    y = v[1]\n",
    "    if x ==2:\n",
    "        continue\n",
    "    else:\n",
    "        if abs(x[1] - y[1]) > 0.01:\n",
    "            print(k, v)"
   ]
  },
  {
   "cell_type": "code",
   "execution_count": null,
   "id": "cbf821ac-39a8-416f-ab1b-0aa2bea6a28e",
   "metadata": {},
   "outputs": [],
   "source": [
    "sns.histplot([x for x in old_mutation_count_list if x < 20], bins = 100)"
   ]
  },
  {
   "cell_type": "code",
   "execution_count": null,
   "id": "62a7fa87-aa03-4ef1-971f-22b814e71b8e",
   "metadata": {},
   "outputs": [],
   "source": [
    "sns.histplot([x for x in zero_and_non_zero_mutation_counts if x < 20], bins = 100)"
   ]
  },
  {
   "cell_type": "markdown",
   "id": "32f6321f-5a4e-481b-80dd-b73ec38fbd18",
   "metadata": {},
   "source": [
    "#### Identify potential ORFS (min length 200) in inter-CDS regions of standard annotation and output to Dataframe"
   ]
  },
  {
   "cell_type": "code",
   "execution_count": null,
   "id": "7fb3b790-e301-4599-a155-74a0e7ae05ec",
   "metadata": {},
   "outputs": [],
   "source": [
    "ORFFinder = orffn.ORF_Finder()\n",
    "trans = util.Translator()\n",
    "min_intergenic_length = 100\n",
    "details =  []\n",
    "results =[]\n",
    "for i, (locus, pseudo, product, start, stop, strand) in enumerate(cds_boundaries):\n",
    "    if i < len(cds_boundaries) - 1:\n",
    "        if cds_boundaries[i+1][3] > stop + min_intergenic_length:\n",
    "            a =ORFFinder.max_orf(stop-40, cds_boundaries[i+1][3]+40, 1e-20, output_all_orfs = False, min_orf_length = 200)\n",
    "            if not(a==(0,0,0)):\n",
    "                ov = 0\n",
    "                info = ('','','','','','','')\n",
    "                for i, (loc, pse, pro, sta, sto, stra) in enumerate(reannotated_cds_boundaries):\n",
    "                    if a[1] > sta and a[0] < sto:\n",
    "                        ov = (min(a[1], sto) - max(a[0], sta)) / (sto - sta)\n",
    "                        if ov > 0.3:\n",
    "                            info =  (loc, pse, pro, sta, sto, stra, ov)\n",
    "                        \n",
    "                ov = 0\n",
    "                myco_info = ('','','','','')\n",
    "                for i, (loc, sta, sto, stra) in enumerate(mycobrowser_features):\n",
    "                    if a[1] > sta and a[0] < sto:\n",
    "                        ov = (min(a[1], sto) - max(a[0], sta)) / (sto - sta)\n",
    "                        if ov > 0.3:\n",
    "                            myco_info =  (loc, sta, sto, stra, ov)\n",
    "                        \n",
    "                sequ = trans.translate_sequence(full_sequence[a[0]:a[1]], a[2], 0)\n",
    "                details.append([a, sequ])\n",
    "                results.append([a[0],a[1],a[2],a[3],info[0],info[1],info[2],info[3],info[4],info[5],info[6],myco_info[0],myco_info[1],myco_info[2],myco_info[3],myco_info[4]])\n",
    "results_df = pd.DataFrame(results, columns = ['start_pos','end_pos','strand','score','PGAP_ref','PGAP_pseudogene','PGAP_product', 'PGAP_start', 'PGAP_end','PGAP_strand', 'PGAP_overlap', 'Mycob_ref','Mycob_start', 'Mycob_end','Mycob_strand', 'Mycob_overlap'])\n",
    "results_df.to_csv(project_dir + '/cds_candidates.csv')"
   ]
  },
  {
   "cell_type": "markdown",
   "id": "c1542c9b-7d8d-4bcc-8104-edf07608f227",
   "metadata": {},
   "source": [
    "#### Calculate probabilities for regions in Smith et al 2021 and plot histogram"
   ]
  },
  {
   "cell_type": "code",
   "execution_count": null,
   "id": "7fe8a8a4-503a-43e1-86a7-48a9cdb0155e",
   "metadata": {},
   "outputs": [],
   "source": [
    "xls = pd.ExcelFile('F:/Datasets/Data_From_Publications/Smith_2021.xlsx')\n",
    "df1 = pd.read_excel(xls, 'Table S3', header=3)\n",
    "co_ords = []\n",
    "for i, r in df1.iterrows():\n",
    "    if r['Classification'] == 'Novel':\n",
    "        if r['Strand'] == '+':\n",
    "            co_ords.append([int(r['Start Coordinate']-1), int(r['Stop Coordinate']), 1])\n",
    "        else:\n",
    "            co_ords.append([int(r['Stop Coordinate'] - 1), int(r['Start Coordinate']),-1])"
   ]
  },
  {
   "cell_type": "code",
   "execution_count": null,
   "id": "58096b14-401d-45d2-bf2f-4a45c6b02730",
   "metadata": {
    "jp-MarkdownHeadingCollapsed": true,
    "tags": []
   },
   "outputs": [],
   "source": [
    "probs = []\n",
    "for x in co_ords:\n",
    "    if x[2] == 1:\n",
    "        a = (mutation_bin_probability(mutation_count_list[x[0]:x[1]]))\n",
    "    else:\n",
    "        a = (mutation_bin_probability(reversed(mutation_count_list[x[0]:x[1]])))\n",
    "    if a == 2:\n",
    "        probs.append(2)\n",
    "    else:\n",
    "        probs.append(a[1])\n",
    "    print(x, abs(x[1]-x[0]), a)"
   ]
  },
  {
   "cell_type": "code",
   "execution_count": null,
   "id": "d6c42903-2248-4181-aa6a-99cb62c354ab",
   "metadata": {},
   "outputs": [],
   "source": [
    "sns.histplot(probs, bins=100)"
   ]
  },
  {
   "cell_type": "markdown",
   "id": "198ce0ae-2b01-482b-83cb-93c720537916",
   "metadata": {},
   "source": [
    "#### Find all (maximal nested) ORFs and filter out ORFS on opposite strand which would have same non-synonymous positions with larger ORF on other strand"
   ]
  },
  {
   "cell_type": "code",
   "execution_count": null,
   "id": "ea12a609-41c4-402f-a220-c09b6cc10fb1",
   "metadata": {
    "tags": []
   },
   "outputs": [],
   "source": [
    "ORFFinder = orffn.ORF_Finder()\n",
    "a = ORFFinder.max_orf(0, 4411532, 5, output_orfs = 'Nested', min_orf_length = 50)\n",
    "a.sort(key = lambda x: x[3], reverse = True)\n",
    "orf_list = [a[0]]\n",
    "for x in tqdm(a[1:]):\n",
    "    matched = 0\n",
    "    for v in orf_list:\n",
    "        if v[0]<=x[0] and v[1]>=x[1]:\n",
    "            if x[2] == v[2]:\n",
    "                if (v[0] - x[0])%3 == 0:\n",
    "                    matched = 1\n",
    "                    break\n",
    "            else:\n",
    "                if (v[0] - x[0])%3 == 1:\n",
    "                    matched = 1\n",
    "                    break\n",
    "    if matched == 0:\n",
    "        orf_list.append(x)\n",
    "orf_list.sort(key = lambda x: x[0])"
   ]
  },
  {
   "cell_type": "code",
   "execution_count": null,
   "id": "5d22d62d-f297-4076-b929-ee932e041fba",
   "metadata": {},
   "outputs": [],
   "source": [
    "prob = []\n",
    "for x in orf_list:\n",
    "    prob.append(x[4])\n",
    "sns.histplot(prob, bins=100)"
   ]
  },
  {
   "cell_type": "code",
   "execution_count": null,
   "id": "dc2769ef-9358-406c-a22a-e88be6b93338",
   "metadata": {},
   "outputs": [],
   "source": [
    "annotated_features = []\n",
    "for genome_record in SeqIO.parse(project_dir + '/annot.gbk', \"genbank\"):\n",
    "    for feature in genome_record.features:\n",
    "        if feature.type != 'source':\n",
    "            annotated_features.append((int(feature.location.start), int(feature.location.end), int(feature.location.strand)))   \n",
    "for genome_record in SeqIO.parse(seq_dir + '/' + tb_genome_filename, \"genbank\"):\n",
    "    for feature in genome_record.features:\n",
    "        if feature.type != 'source':\n",
    "            annotated_features.append((int(feature.location.start), int(feature.location.end), int(feature.location.strand)))   \n",
    "annotated_features.sort(key = lambda x: x[1])"
   ]
  },
  {
   "cell_type": "code",
   "execution_count": null,
   "id": "4fd77402-5afe-4b13-9f1e-1a14e569d8ed",
   "metadata": {},
   "outputs": [],
   "source": [
    "non_overlapping_orfs = []\n",
    "for i, orf in enumerate(orf_list):\n",
    "    max_ov = 0\n",
    "    for (sta, sto, stra) in annotated_features:\n",
    "        if orf[0] < sto and orf[1] > sta:\n",
    "            ov = (min(orf[1], sto) - max(orf[0], sta)) / (orf[1] - orf[0])\n",
    "            max_ov = max(ov, max_ov)\n",
    "    if max_ov < 0.1:\n",
    "        non_overlapping_orfs.append(orf)"
   ]
  },
  {
   "cell_type": "markdown",
   "id": "e2683970-7a45-419b-875a-0ca44f8b7a66",
   "metadata": {},
   "source": [
    "#### Produce FASTA file with CDS candidates"
   ]
  },
  {
   "cell_type": "code",
   "execution_count": null,
   "id": "8564e695-944e-448f-b6e1-4936f0ae0f3b",
   "metadata": {},
   "outputs": [],
   "source": [
    "non_overlapping_orfs"
   ]
  },
  {
   "cell_type": "code",
   "execution_count": null,
   "id": "214885e2-505b-42a5-a423-dd784b69cbd5",
   "metadata": {},
   "outputs": [],
   "source": [
    "trans = util.Translator()\n",
    "temp = []\n",
    "for x in non_overlapping_orfs:\n",
    "    if x[4] < 1e-5 or x[4]==2:\n",
    "        if x[2] == 1:\n",
    "            prot = trans.translate_sequence(full_sequence[x[0]:x[1]], 1, 0)\n",
    "        else:\n",
    "            prot = trans.translate_sequence(util.reverse_complement(full_sequence[x[0]:x[1]]), 1, 0)\n",
    "        name = 'Start_'+str(x[0])+'_Stop_'+str(x[1])+'_Strand_'+str(x[2])\n",
    "        temp.append([name, prot[:-1]])\n",
    "util.produce_fasta_file(temp, project_dir + '/' + 'tb_orf_candidates.faa')"
   ]
  },
  {
   "cell_type": "code",
   "execution_count": null,
   "id": "02dbfb10-9277-4b21-9446-8fee25d4271a",
   "metadata": {},
   "outputs": [],
   "source": [
    "blastfn.run_tblastn('F:/Datasets/BLAST/actinobacteria_ref_genomes', 'tb_orf_candidates.faa', 'blastdb_sourceseq_actinobacteria', e_value = 1e-5)"
   ]
  },
  {
   "cell_type": "code",
   "execution_count": null,
   "id": "eb3b5056-e487-4742-8f14-b64008c781ff",
   "metadata": {},
   "outputs": [],
   "source": [
    "prob = []\n",
    "for x in orf_list:\n",
    "    prob.append(x[4])\n",
    "sns.histplot(prob, bins =100)"
   ]
  },
  {
   "cell_type": "code",
   "execution_count": null,
   "id": "93696eef-27de-4070-b4d8-3a47e7319a81",
   "metadata": {},
   "outputs": [],
   "source": [
    "candidates = [x for x in orf_list if x[4] <1e-3]\n",
    "len(candidates)"
   ]
  },
  {
   "cell_type": "markdown",
   "id": "0289a929-0d29-4246-a700-44840af34050",
   "metadata": {
    "tags": []
   },
   "source": [
    "#### Legacy code (might be useful - this is when tree was defined based on \"optimal splits\")"
   ]
  },
  {
   "cell_type": "code",
   "execution_count": null,
   "id": "e9ffb9d2-7d32-4666-8b4f-f74a2f4a441b",
   "metadata": {},
   "outputs": [],
   "source": [
    "def split_tree(species_to_split, position):\n",
    "    temp =  set([x[0] for x in reduced_position_dict[position][1:]]).intersection(species_to_split)\n",
    "    temp_2 = species_to_split - temp\n",
    "    if len(temp_2) > 1 and len(temp) > 1:\n",
    "        return ([(position, temp, len(temp)), (position, temp_2, len(temp_2))])\n",
    "    else:\n",
    "        return([(-1, species_to_split, len(species_to_split))])"
   ]
  },
  {
   "cell_type": "code",
   "execution_count": null,
   "id": "91cb7982-32e0-4eb1-afab-04b940de7ac0",
   "metadata": {},
   "outputs": [],
   "source": [
    "def optimal_split_position(species_to_split_list):\n",
    "    best_split_num = 1e20\n",
    "    best_position = 0\n",
    "    splits_achieved_dict = {}\n",
    "    for k, v in reduced_position_dict.items():\n",
    "        mutation_count = 0\n",
    "        worst_count = 0\n",
    "        for species_to_split in species_to_split_list:\n",
    "            num_species_to_split = len(species_to_split)\n",
    "            optimal_split = int(num_species_to_split/2)\n",
    "            mutation_count += abs(len(set([x[0] for x in v[1:]]).intersection(species_to_split)) - optimal_split)\n",
    "            worst_count += optimal_split \n",
    "        splits_achieved_dict[k] = mutation_count\n",
    "        if abs(mutation_count) < abs(best_split_num):\n",
    "            best_position = k\n",
    "            best_split_num = abs(mutation_count)\n",
    "    return((best_position, best_split_num), (worst_count, splits_achieved_dict))"
   ]
  },
  {
   "cell_type": "code",
   "execution_count": null,
   "id": "d79dd452-3ecc-4b58-9fa0-1f8950d400fa",
   "metadata": {},
   "outputs": [],
   "source": [
    "snps_to_use = []\n",
    "reduced_position_dict =  {}\n",
    "for k, v in position_dict.items():\n",
    "    if len(v) >=100:\n",
    "        reduced_position_dict[k] = v\n",
    "print(len(position_dict), len(reduced_position_dict))\n",
    "\n",
    "\n",
    "all_species = [[-1,set(x for x in range(len(id_dict))),99,True]]\n",
    "pos = optimal_split_position([x[1] for x in all_species])[0][0]\n",
    "snps_to_use.append(pos)\n",
    "split_results = [split_tree(all_species[0][1], pos)]\n",
    "print( [(x[0], x[2]) for x in split_results[0]] )\n",
    "for i in range(1,50):\n",
    "    if i ==10:\n",
    "        break\n",
    "    start = time.process_time()\n",
    "    split_results.append([])\n",
    "    optimal_split_output = optimal_split_position([x[1] for x in split_results[i-1]])  \n",
    "    splits_achieved_dict = optimal_split_output[1][1]\n",
    "    optimal_split_score = optimal_split_output[1][0]\n",
    "    posn = optimal_split_output[0]\n",
    "    score_list = []\n",
    "    for k, v in splits_achieved_dict.items():\n",
    "        score_list.append(v)\n",
    "    score_list.sort()\n",
    "    score_p50 = score_list[int(len(score_list)/2)]\n",
    "    for k, v in splits_achieved_dict.items():\n",
    "        if v >= score_p50:#optimal_split_score - 1000:\n",
    "            reduced_position_dict.pop(k)\n",
    "    print(len(reduced_position_dict))\n",
    "    pos= posn[0]\n",
    "    snps_to_use.append(pos)\n",
    "    split_score = posn[1]\n",
    "    successful_splits = 0\n",
    "    for x in split_results[i-1]:\n",
    "        temp = split_tree(x[1], pos) \n",
    "        if len(temp) == 1:\n",
    "            split_results[i].append(temp[0])\n",
    "        else:\n",
    "            successful_splits +=1\n",
    "            split_results[i].append(temp[0])\n",
    "            split_results[i].append(temp[1])\n",
    "    print(max([x[2] for x in split_results[i]]))\n",
    "    print (time.process_time() - start)\n",
    "    print([(x[0], x[2]) for x in split_results[i]])\n",
    "    if successful_splits == 0:\n",
    "        break"
   ]
  },
  {
   "cell_type": "code",
   "execution_count": null,
   "id": "4a422156-b290-454c-b856-aca6e7fb5bde",
   "metadata": {},
   "outputs": [],
   "source": [
    "print(optimal_split_score)\n",
    "splits_achieved_dict"
   ]
  },
  {
   "cell_type": "code",
   "execution_count": null,
   "id": "7aef85b7-feb1-4670-8967-021f0a358395",
   "metadata": {},
   "outputs": [],
   "source": [
    "len(test)"
   ]
  },
  {
   "cell_type": "code",
   "execution_count": null,
   "id": "a81c4d9a-7759-4989-a706-0b2a0c868c98",
   "metadata": {},
   "outputs": [],
   "source": [
    "[(x[0],x[2]) for x in split_results[2] if x[2] > 300]"
   ]
  },
  {
   "cell_type": "code",
   "execution_count": null,
   "id": "54b74d58-14a0-443a-96ab-8aa78a0fe0f6",
   "metadata": {},
   "outputs": [],
   "source": [
    "temp = []\n",
    "for res in split_results:\n",
    "    for info in res:\n",
    "        temp.append(info[0])\n",
    "snps = set(temp)\n",
    "snps.remove(-1)"
   ]
  },
  {
   "cell_type": "code",
   "execution_count": null,
   "id": "adf9a4de-bd5b-40b8-a247-9a907ed4c342",
   "metadata": {},
   "outputs": [],
   "source": [
    "len(mutation_counts)"
   ]
  },
  {
   "cell_type": "code",
   "execution_count": null,
   "id": "25046046-2644-4c23-aaa4-8176fb887d41",
   "metadata": {},
   "outputs": [],
   "source": [
    "len(mutation_count_list)"
   ]
  },
  {
   "cell_type": "code",
   "execution_count": null,
   "id": "9431024b-eb44-45a3-b7b5-4e5b2a38a672",
   "metadata": {},
   "outputs": [],
   "source": [
    "sns.histplot(mutation_count_list, bins = 100)"
   ]
  },
  {
   "cell_type": "code",
   "execution_count": null,
   "id": "890f331c-d6de-40d1-9cb5-8362c832e141",
   "metadata": {},
   "outputs": [],
   "source": [
    "a = [x[1] for x in split_results[1]]"
   ]
  },
  {
   "cell_type": "code",
   "execution_count": null,
   "id": "47cc3f00-fb7d-4304-a5e1-0d94b4559401",
   "metadata": {},
   "outputs": [],
   "source": [
    "len(a)"
   ]
  },
  {
   "cell_type": "code",
   "execution_count": null,
   "id": "f684a584-361d-42d3-9cf4-45cbed3e5b65",
   "metadata": {},
   "outputs": [],
   "source": [
    "distinct_ids = []\n",
    "variants = []\n",
    "for k, v in tqdm(variant_dict.items()):\n",
    "    if set(v) in variants:\n",
    "        continue\n",
    "    else:\n",
    "        variants.append(set(v))\n",
    "        distinct_ids.append(k)"
   ]
  },
  {
   "cell_type": "code",
   "execution_count": null,
   "id": "6ca14ce1-f2b9-4a70-91b0-8e3f0d2f637d",
   "metadata": {},
   "outputs": [],
   "source": [
    "len(variant_dict)"
   ]
  },
  {
   "cell_type": "code",
   "execution_count": null,
   "id": "88834d4c-38af-4314-b4ea-9f99491bb946",
   "metadata": {},
   "outputs": [],
   "source": [
    "len(distinct_ids)"
   ]
  },
  {
   "cell_type": "code",
   "execution_count": null,
   "id": "618ef69d-d9a6-4cfd-aa4b-d9248c9aafaf",
   "metadata": {},
   "outputs": [],
   "source": [
    "pow(2,10)"
   ]
  },
  {
   "cell_type": "code",
   "execution_count": null,
   "id": "9db1ff2b-c3e3-4011-b49b-fbdb29bd9436",
   "metadata": {},
   "outputs": [],
   "source": [
    "len(position_dict)"
   ]
  },
  {
   "cell_type": "code",
   "execution_count": null,
   "id": "f9f2c251-666a-428b-94bd-ba7bb5f5ab53",
   "metadata": {},
   "outputs": [],
   "source": [
    "\n",
    "seq_length = 100\n",
    "\n",
    "with open(project_dir +'/test.faa', 'rb') as f:\n",
    "    sequence_to_score_dict = {}\n",
    "    sequence_to_score_dict['seq1'] = [{x} for x in 'AAATTTT']\n",
    "    sequence_to_score_dict['seq2'] = [{x} for x in 'AAACTTT']\n",
    "    sequence_to_score_dict['seq3'] = [{x} for x in 'AAAGTTT']\n",
    "    sequence_to_score_dict['seq4'] = [{x} for x in 'AAAATTT']\n",
    "master_tree2= ete3.Tree(project_dir + '/' + 'testtree.nwk')\n",
    "for node in master_tree2.traverse(\"postorder\"):\n",
    "    if node.is_leaf():\n",
    "        node.add_features(seq = sequence_to_score_dict[node.name])\n",
    "    else:\n",
    "        children = node.children\n",
    "        node.add_features(seq = fitch_1(children[0].seq, children[1].seq))\n",
    "\n",
    "#for k, v in sequence_to_score_dict.items():              \n",
    "    #seq_length = len(v)\n",
    "    #break\n",
    "mutation_counts = [0 for i in range(seq_length)]\n",
    "for node in master_tree2.traverse(\"preorder\"):\n",
    "    if node.is_leaf():\n",
    "        continue\n",
    "    if node.is_root():\n",
    "        node.seq = [{list(x)[0]} for x in node.seq]\n",
    "    children = node.children\n",
    "    mutations = []\n",
    "    child_sequences = []\n",
    "    for child in children:\n",
    "        (temp_1, temp_2) = fitch_2(node.seq ,child.seq)\n",
    "        child_sequences.append(temp_1)\n",
    "        child.seq = temp_1\n",
    "        mutations.append(temp_2)\n",
    "   \n",
    "    temp = []\n",
    "    for n, (h, i, j) in enumerate(zip(mutation_counts, mutations[0], mutations[1])):\n",
    "        if i + j == 0:\n",
    "            temp.append(h)\n",
    "        elif i + j == 1:\n",
    "            temp.append(h+1)\n",
    "        else:\n",
    "            if child_sequences[0][i] == child_sequences[1][i]:\n",
    "                temp.append(h+1)\n",
    "            else:\n",
    "                temp.append(h+2)\n",
    "    mutation_counts = temp     \n",
    "print(mutation_counts)"
   ]
  },
  {
   "cell_type": "code",
   "execution_count": null,
   "id": "143a476b-f081-4a48-8ee6-b6a7303fa3a3",
   "metadata": {},
   "outputs": [],
   "source": [
    "mutation_counts"
   ]
  },
  {
   "cell_type": "code",
   "execution_count": null,
   "id": "7870105a-c5ba-45a9-8d63-3d735ac3b817",
   "metadata": {},
   "outputs": [],
   "source": []
  }
 ],
 "metadata": {
  "kernelspec": {
   "display_name": "Python 3 (ipykernel)",
   "language": "python",
   "name": "python3"
  },
  "language_info": {
   "codemirror_mode": {
    "name": "ipython",
    "version": 3
   },
   "file_extension": ".py",
   "mimetype": "text/x-python",
   "name": "python",
   "nbconvert_exporter": "python",
   "pygments_lexer": "ipython3",
   "version": "3.9.7"
  }
 },
 "nbformat": 4,
 "nbformat_minor": 5
}
