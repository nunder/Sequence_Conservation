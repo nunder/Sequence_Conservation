{
 "cells": [
  {
   "cell_type": "code",
   "execution_count": null,
   "id": "86772f7a-4290-484b-9e7c-83bf0b69b281",
   "metadata": {},
   "outputs": [],
   "source": [
    "import pandas as pd\n",
    "import pickle\n",
    "import seaborn as sns\n",
    "import matplotlib.pyplot as plt\n",
    "import numpy as np\n",
    "from scipy.fft import fft, fftfreq\n",
    "from Bio import Entrez, SeqIO, AlignIO, pairwise2, Align, Seq, motifs\n",
    "from Bio.Seq import Seq\n",
    "from Bio.SeqFeature import SeqFeature, FeatureLocation\n",
    "from scipy.stats import binom\n",
    "import math\n",
    "import random\n",
    "from tqdm import tqdm\n",
    "from Comparative_Analysis import Sequence_Analysis_Routines as sar\n",
    "from Comparative_Analysis import HMM as hmm\n",
    "from Comparative_Analysis import Utilities as util\n",
    "from Comparative_Analysis import Alignment_HMM as alignment_hmm\n",
    "from Comparative_Analysis import Alignment_Analysis as alignment_analysis\n",
    "from Comparative_Analysis import Alignment as align\n",
    "from Comparative_Analysis import Master_Alignment_HMM as master_alignment_hmm\n",
    "from Comparative_Analysis import Multi_Species_Master_Alignment_HMM as multi_species_master_alignment_hmm\n",
    "from Comparative_Analysis import Arneson_Ernst_HMM as ae_hmm\n",
    "import random\n",
    "from joblib import Parallel, delayed"
   ]
  },
  {
   "cell_type": "code",
   "execution_count": null,
   "id": "1988a242-f558-4643-b3a9-27272fa7bebc",
   "metadata": {},
   "outputs": [],
   "source": [
    "project_dir = 'D:/Project_Data/Project_6'\n",
    "genome_datasets_dir = project_dir + '/Datasets/NCBI_Datasets'\n",
    "literature_datasets_dir = project_dir + '/Datasets/Data_From_Publications'\n",
    "genome_record = next(SeqIO.parse(genome_datasets_dir + '/GCF_000195955.2/genomic.gbff', \"genbank\"))\n",
    "full_sequence = genome_record.seq\n",
    "output_dir = project_dir + '/Output'\n",
    "protein_fasta_output_loc = output_dir + '/Protein_Sequences'\n",
    "outgroup_protein_fasta_output_loc = output_dir + '/Protein_Sequences_With_Outgroup'\n",
    "sonic_paranoid_run_name = 'Run_Without_Outgroup'\n",
    "outgroup_sonic_paranoid_run_name = 'Run_With_Outgroup'\n",
    "sonic_paranoid_output_loc = output_dir + '/Sonic_Paranoid_Output'\n",
    "ortholog_dir = sonic_paranoid_output_loc + '/runs/' + sonic_paranoid_run_name + '/ortholog_groups'\n",
    "outgroup_ortholog_dir = sonic_paranoid_output_loc + '/runs/' + outgroup_sonic_paranoid_run_name + '/ortholog_groups'\n",
    "non_cds_output_dir = output_dir + '/Multiple_Alignment_Data/Downstream_Non_CDS'\n",
    "upstream_non_cds_output_dir = output_dir + '/Multiple_Alignment_Data/Upstream_Non_CDS'\n",
    "cds_output_dir = output_dir + '/Multiple_Alignment_Data/CDS'\n",
    "extended_cds_output_dir = output_dir + '/Multiple_Alignment_Data/Extended_CDS'\n",
    "extended_non_cds_regions_output_dir = output_dir + '/Multiple_Alignment_Data/Extended_Non_CDS'\n",
    "outgroup_cds_output_dir = output_dir + '/Multiple_Alignment_Data/CDS_With_Outgroup'\n",
    "outgroup_concatenated_cds_output_dir = output_dir + '/Multiple_Alignment_Data/CDS_With_Outgroup_Concatenated'\n",
    "hmm_parameters_output_dir = output_dir +'/HMM_Model_Parameters'\n",
    "conservation_analysis_output_dir = output_dir + '/Conservation_Analysis'\n",
    "num_cores = 16"
   ]
  },
  {
   "cell_type": "code",
   "execution_count": null,
   "id": "6846dfdd-bd58-49be-98d1-9c6fbc463fab",
   "metadata": {},
   "outputs": [],
   "source": [
    "cryptic_input_path = \"D:/Project_Data/CRYPTIC_DATA/\"\n",
    "cryptic_output_path = \"D:/Project_Data/CRYPTIC_DATA/Cryptic_Data_Analysis\""
   ]
  },
  {
   "cell_type": "code",
   "execution_count": null,
   "id": "98e6e7fa-19c2-47d2-b546-d39229be20e5",
   "metadata": {},
   "outputs": [],
   "source": [
    "lineage_info_df = pd.read_csv(cryptic_input_path + 'MYKROBE_LINEAGE.csv')\n",
    "lineage_info_dict = {}\n",
    "for i, r in lineage_info_df.iterrows():\n",
    "    lineage_info_dict[r['UNIQUEID']] = r['MYKROBE_LINEAGE_NAME_2']"
   ]
  },
  {
   "cell_type": "code",
   "execution_count": null,
   "id": "e211000b-1ba1-4569-9733-5a59af9d10ad",
   "metadata": {},
   "outputs": [],
   "source": [
    "if 1==0:\n",
    "    num_rows = 0\n",
    "    num_exceptions = 0\n",
    "    variant_count_dict = {}\n",
    "    chunksize = 0.5 * (10 ** 7) \n",
    "    chunknum = 1\n",
    "    with pd.read_csv(cryptic_input_path + \"VARIANTS.csv\", chunksize=chunksize) as reader:\n",
    "        for chunk in reader:\n",
    "            print(\"Chunk \" + str(chunknum)) \n",
    "            chunknum += 1\n",
    "            for i, r in chunk.iterrows():\n",
    "                num_rows += 1\n",
    "                if r['UNIQUEID'] in lineage_info_dict:\n",
    "                    lineage = lineage_info_dict[r['UNIQUEID']]\n",
    "                    if (lineage,r['GENOME_INDEX'], r['MUTATION_TYPE'], r['ALT']) in variant_count_dict:\n",
    "                        variant_count_dict[(lineage, r['GENOME_INDEX'], r['MUTATION_TYPE'], r['ALT'])] = variant_count_dict[(lineage, r['GENOME_INDEX'], r['MUTATION_TYPE'], r['ALT'])] + 1\n",
    "                    else:\n",
    "                        variant_count_dict[(lineage, r['GENOME_INDEX'], r['MUTATION_TYPE'],r['ALT'])] = 1\n",
    "                else:\n",
    "                    print(r['UNIQUEID'])\n",
    "                    break\n",
    "                    num_exceptions +=1\n",
    "            print(num_exceptions, num_rows)\n",
    "    with open(cryptic_output_path + '/' + 'variant_count_by_lineage_dictionary.pkl', 'wb') as f:\n",
    "    pickle.dump(variant_count_dict, f)"
   ]
  },
  {
   "cell_type": "code",
   "execution_count": null,
   "id": "a4c82edf-3e84-49bb-afba-55819aae6cb0",
   "metadata": {},
   "outputs": [],
   "source": []
  },
  {
   "cell_type": "code",
   "execution_count": null,
   "id": "d9ca0e87-b60d-4e7c-88fc-9c2872cfea04",
   "metadata": {},
   "outputs": [],
   "source": []
  }
 ],
 "metadata": {
  "kernelspec": {
   "display_name": "Python 3 (ipykernel)",
   "language": "python",
   "name": "python3"
  },
  "language_info": {
   "codemirror_mode": {
    "name": "ipython",
    "version": 3
   },
   "file_extension": ".py",
   "mimetype": "text/x-python",
   "name": "python",
   "nbconvert_exporter": "python",
   "pygments_lexer": "ipython3",
   "version": "3.9.7"
  }
 },
 "nbformat": 4,
 "nbformat_minor": 5
}
