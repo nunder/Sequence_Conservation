{
 "cells": [
  {
   "cell_type": "code",
   "execution_count": 2,
   "id": "08ed619a-5827-4def-8598-f03e29c9a990",
   "metadata": {},
   "outputs": [],
   "source": [
    "import math\n",
    "def sum_logs(p, q):\n",
    "        if abs(p)>1e-10 and abs(q)>1e-10:\n",
    "            ans = math.log(math.exp(p) + math.exp(q))\n",
    "        else:\n",
    "            if p > q:\n",
    "                ans =  p + math.log(1 + math.exp(q - p))\n",
    "            else:\n",
    "                ans =  q + math.log(1 + math.exp(p - q))\n",
    "        return ans"
   ]
  },
  {
   "cell_type": "code",
   "execution_count": 26,
   "id": "0074674f-66e7-467e-a40d-02fe4df60ca7",
   "metadata": {},
   "outputs": [],
   "source": [
    "a = 1e-70\n",
    "b = 1e-70"
   ]
  },
  {
   "cell_type": "code",
   "execution_count": 27,
   "id": "f71ecd98-066b-4070-9e6e-f0e3465daa45",
   "metadata": {},
   "outputs": [
    {
     "data": {
      "text/plain": [
       "-160.48780932902326"
      ]
     },
     "execution_count": 27,
     "metadata": {},
     "output_type": "execute_result"
    }
   ],
   "source": [
    "sum_logs(math.log(a), math.log(b))"
   ]
  },
  {
   "cell_type": "code",
   "execution_count": 28,
   "id": "1393e148-2575-45cf-bd10-30c323442dd0",
   "metadata": {},
   "outputs": [
    {
     "data": {
      "text/plain": [
       "-160.48780932902326"
      ]
     },
     "execution_count": 28,
     "metadata": {},
     "output_type": "execute_result"
    }
   ],
   "source": [
    "math.log(a + b)"
   ]
  },
  {
   "cell_type": "code",
   "execution_count": 29,
   "id": "35e4d413-5bda-44da-b36e-1d8f9264a6dc",
   "metadata": {},
   "outputs": [
    {
     "data": {
      "text/plain": [
       "10.000045398899218"
      ]
     },
     "execution_count": 29,
     "metadata": {},
     "output_type": "execute_result"
    }
   ],
   "source": [
    "sum_logs(0, 10)"
   ]
  },
  {
   "cell_type": "code",
   "execution_count": 31,
   "id": "91fadb64-ee28-46d1-baae-2d2ba2768989",
   "metadata": {},
   "outputs": [
    {
     "data": {
      "text/plain": [
       "4.605170185988092"
      ]
     },
     "execution_count": 31,
     "metadata": {},
     "output_type": "execute_result"
    }
   ],
   "source": [
    "math.log(100)"
   ]
  },
  {
   "cell_type": "code",
   "execution_count": 32,
   "id": "b11ee33b-7dc5-47d2-9dad-bcb711f4b922",
   "metadata": {},
   "outputs": [
    {
     "data": {
      "text/plain": [
       "3.048587351573742"
      ]
     },
     "execution_count": 32,
     "metadata": {},
     "output_type": "execute_result"
    }
   ],
   "source": [
    "sum_logs(3,0)"
   ]
  },
  {
   "cell_type": "code",
   "execution_count": 33,
   "id": "33ef5e1a-3674-434d-8df9-1689281f0a54",
   "metadata": {},
   "outputs": [
    {
     "name": "stdout",
     "output_type": "stream",
     "text": [
      "3\n",
      "2\n",
      "1\n",
      "0\n"
     ]
    }
   ],
   "source": [
    " \n",
    "for i in reversed(range(0, 5 - 1)):\n",
    "    print(i)"
   ]
  },
  {
   "cell_type": "code",
   "execution_count": null,
   "id": "cd3306a4-e58a-40f5-8be9-fcc0ff143648",
   "metadata": {},
   "outputs": [],
   "source": []
  }
 ],
 "metadata": {
  "kernelspec": {
   "display_name": "Python 3 (ipykernel)",
   "language": "python",
   "name": "python3"
  },
  "language_info": {
   "codemirror_mode": {
    "name": "ipython",
    "version": 3
   },
   "file_extension": ".py",
   "mimetype": "text/x-python",
   "name": "python",
   "nbconvert_exporter": "python",
   "pygments_lexer": "ipython3",
   "version": "3.9.7"
  }
 },
 "nbformat": 4,
 "nbformat_minor": 5
}
