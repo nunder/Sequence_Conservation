{
 "cells": [
  {
   "cell_type": "code",
   "execution_count": 232,
   "id": "b142627b-6777-4f8a-b778-ecbba7e56128",
   "metadata": {},
   "outputs": [],
   "source": [
    "from Comparative_Analysis import Sequence_Analysis_Routines as sar\n",
    "from Comparative_Analysis import HMM as hmm\n",
    "from Comparative_Analysis import Utilities as util\n",
    "from Comparative_Analysis import Alignment_HMM as alignment_hmm\n",
    "from Comparative_Analysis import Alignment_Analysis as alignment_analysis\n",
    "from Comparative_Analysis import Alignment as align\n",
    "from numpy.random import default_rng\n",
    "import numpy as np\n",
    "from scipy.stats import norm\n",
    "from scipy.stats import binom\n",
    "from scipy import optimize as opt\n",
    "import seaborn as sns\n",
    "import math\n",
    "from tqdm import tqdm"
   ]
  },
  {
   "cell_type": "code",
   "execution_count": 233,
   "id": "6bf4f4a3-58a6-4928-9faa-629a983e3c06",
   "metadata": {},
   "outputs": [],
   "source": [
    "rng = default_rng()"
   ]
  },
  {
   "cell_type": "code",
   "execution_count": 234,
   "id": "02fde259-81b1-4527-8072-16d84e7dfa9d",
   "metadata": {},
   "outputs": [],
   "source": [
    "def create_transition_matrix(params):\n",
    "    a = params[0]\n",
    "    b = (1-params[0])*(params[1])\n",
    "    c = 1-a-b\n",
    "    e = params[2]\n",
    "    d = (1-params[2])*(params[3])\n",
    "    f = 1-e-d\n",
    "    i = params[4]\n",
    "    g = (1-params[4])*(params[5])\n",
    "    h = 1 - i - g\n",
    "    transition_probabilities = np.array([[a,b,c],[d,e,f],[g,h,i]])\n",
    "    mutation_probabilities = params[6:]\n",
    "    return transition_probabilities, mutation_probabilities"
   ]
  },
  {
   "cell_type": "code",
   "execution_count": 235,
   "id": "661d007e-938a-4ac1-82dc-ed98eb7684dc",
   "metadata": {},
   "outputs": [],
   "source": [
    "def sim_multinomial(probs):\n",
    "    a = np.where(rng.multinomial(1, probs) == 1)[0][0]\n",
    "    return a"
   ]
  },
  {
   "cell_type": "code",
   "execution_count": 236,
   "id": "6558e46a-0ed2-49ec-ac7c-f80a5a9b7dea",
   "metadata": {},
   "outputs": [],
   "source": [
    "def sum_logs(p, q):\n",
    "        if p>9999 and q>99999:\n",
    "            ans = math.log(math.exp(p) + math.exp(q))\n",
    "        else:\n",
    "            if p > q:\n",
    "                ans =  p + math.log(1 + math.exp(q - p))\n",
    "            else:\n",
    "                ans =  q + math.log(1 + math.exp(p - q))\n",
    "        return ans"
   ]
  },
  {
   "cell_type": "code",
   "execution_count": 237,
   "id": "3a15da70-add8-4129-8cfa-efb77df15527",
   "metadata": {},
   "outputs": [],
   "source": [
    "def normal_draw(state, means):\n",
    "    return rng.standard_normal() + means[state]"
   ]
  },
  {
   "cell_type": "code",
   "execution_count": 238,
   "id": "38a55a62-b118-4ad2-a344-7c47eb5395e6",
   "metadata": {},
   "outputs": [],
   "source": [
    "def binomial_draw(state, probs, size):\n",
    "    return rng.binomial(size, probs[state])"
   ]
  },
  {
   "cell_type": "markdown",
   "id": "0284bd43-f1bb-4131-b8e9-ff2484814826",
   "metadata": {},
   "source": [
    "##### Simulate from HMM"
   ]
  },
  {
   "cell_type": "code",
   "execution_count": 239,
   "id": "9e5c9b22-4e2d-4cf6-91e8-07a3aec21125",
   "metadata": {},
   "outputs": [],
   "source": [
    "sample_size = 10000"
   ]
  },
  {
   "cell_type": "code",
   "execution_count": 240,
   "id": "eb136991-4b30-42d8-a405-95e6187785e7",
   "metadata": {},
   "outputs": [],
   "source": [
    "num_states = 3\n",
    "num_comparison_sequences = 10\n",
    "means = [2, 7, 10]\n",
    "mutation_probs = [0.9, 0.5, 0.1]\n",
    "initial_probs = [0.333, 0.333, 0.334]\n",
    "transition_matrix = np.array([[0.9, 0.075, 0.025], [0.7, 0.2, 0.1], [0.5, 0.3, 0.2]])"
   ]
  },
  {
   "cell_type": "code",
   "execution_count": 267,
   "id": "b17babb1-c534-42c2-aa08-6da77fec7bb4",
   "metadata": {},
   "outputs": [],
   "source": [
    "def calculate_observation_probabilities(observations, mutation_probs):\n",
    "    observation_probs = np.zeros((num_states, sample_size))\n",
    "    for i in range(sample_size):\n",
    "        for state in range(num_states):\n",
    "            observation_probs[state, i] = binom.pmf(observations[i],  num_comparison_sequences, mutation_probs[state])\n",
    "    return observation_probs "
   ]
  },
  {
   "cell_type": "code",
   "execution_count": 268,
   "id": "0c4de134-e7a9-4469-8488-8fe39e52ffcd",
   "metadata": {},
   "outputs": [],
   "source": [
    "states = np.zeros(sample_size)\n",
    "observation_probabilities = np.zeros((num_states, sample_size))\n",
    "for i in range(sample_size):\n",
    "    if i == 0:\n",
    "        current_state = sim_multinomial(initial_probs)\n",
    "    else:\n",
    "        current_state = sim_multinomial(transition_matrix[current_state,:])\n",
    "    states[i] = current_state\n",
    "    #observations[i] = normal_draw(current_state, means)\n",
    "    observations[i] = binomial_draw(current_state, mutation_probs, num_comparison_sequences)\n",
    "    \n",
    "observation_probabilities = calculate_observation_probabilities(observations, mutation_probs)"
   ]
  },
  {
   "cell_type": "code",
   "execution_count": 278,
   "id": "1978314d-fd68-4247-9552-6728dd7b62dc",
   "metadata": {},
   "outputs": [],
   "source": [
    "def calculate_likelihood(params):\n",
    "    trans_matrix, mutation_probabilities = create_transition_matrix(params)\n",
    "    observation_probabilities = calculate_observation_probabilities(observations, mutation_probabilities)\n",
    "    hmm_model = hmm.HMM(initial_probs, trans_matrix, observation_probabilities)\n",
    "    hmm_model.calculate_probabilities()\n",
    "    print(trans_matrix)\n",
    "    print(mutation_probabilities)\n",
    "    print (hmm_model.forward_ll * -1)\n",
    "\n",
    "    return hmm_model.forward_ll * -1"
   ]
  },
  {
   "cell_type": "code",
   "execution_count": 279,
   "id": "c4cddda6-1304-4e7f-a169-747596a488b6",
   "metadata": {},
   "outputs": [],
   "source": [
    "params = [0.95, 0.5, 0.95, 0.5, 0.95, 0.5, 0.8, 0.7, 0.6]\n",
    "bound_tuple = [(0.001,0.999),(0.001,0.999),(0.001,0.999),(0.001,0.999),(0.001,0.999),(0.001,0.999),(0.001,0.999),(0.001,0.999),(0.001,0.999)]"
   ]
  },
  {
   "cell_type": "code",
   "execution_count": null,
   "id": "3344c7b3-a7e1-4a90-b717-f1131f0c47d4",
   "metadata": {},
   "outputs": [],
   "source": [
    "res = opt.minimize(calculate_likelihood, params, method = 'Nelder-Mead', bounds = bound_tuple)"
   ]
  },
  {
   "cell_type": "code",
   "execution_count": 275,
   "id": "6021197d-c24c-4ca6-99d6-70c7b1b49a26",
   "metadata": {},
   "outputs": [
    {
     "name": "stderr",
     "output_type": "stream",
     "text": [
      "  0%|          | 1/1000 [00:02<39:39,  2.38s/it]"
     ]
    },
    {
     "name": "stdout",
     "output_type": "stream",
     "text": [
      "22232.19254363934\n",
      "[[0.97192581 0.00471853 0.02335566]\n",
      " [0.19262002 0.75072301 0.05665697]\n",
      " [0.25544959 0.0167872  0.72776321]] [0.87406331 0.69427762 0.42284982]\n"
     ]
    },
    {
     "name": "stderr",
     "output_type": "stream",
     "text": [
      "  1%|          | 11/1000 [00:25<39:18,  2.38s/it]"
     ]
    },
    {
     "name": "stdout",
     "output_type": "stream",
     "text": [
      "16961.843846126554\n",
      "[[0.91009311 0.03224297 0.05766392]\n",
      " [0.53320957 0.36691274 0.09987769]\n",
      " [0.59230943 0.10614246 0.30154811]] [0.90060053 0.62378989 0.25242024]\n"
     ]
    },
    {
     "name": "stderr",
     "output_type": "stream",
     "text": [
      "  2%|▏         | 21/1000 [00:49<39:10,  2.40s/it]"
     ]
    },
    {
     "name": "stdout",
     "output_type": "stream",
     "text": [
      "16780.43588142488\n",
      "[[0.89633606 0.0750235  0.02864044]\n",
      " [0.66348832 0.22637764 0.11013404]\n",
      " [0.51057288 0.27829126 0.21113586]] [0.90367557 0.54448347 0.12846531]\n"
     ]
    },
    {
     "name": "stderr",
     "output_type": "stream",
     "text": [
      "  3%|▎         | 31/1000 [01:13<37:42,  2.33s/it]"
     ]
    },
    {
     "name": "stdout",
     "output_type": "stream",
     "text": [
      "16769.75251913011\n",
      "[[0.90079981 0.07437643 0.02482375]\n",
      " [0.66834419 0.22653725 0.10511856]\n",
      " [0.50781562 0.30169048 0.1904939 ]] [0.90250563 0.51534633 0.10576632]\n"
     ]
    },
    {
     "name": "stderr",
     "output_type": "stream",
     "text": [
      "  4%|▍         | 41/1000 [01:36<37:34,  2.35s/it]"
     ]
    },
    {
     "name": "stdout",
     "output_type": "stream",
     "text": [
      "16769.478040851387\n",
      "[[0.90182612 0.0738225  0.02435138]\n",
      " [0.66878782 0.22680629 0.10440589]\n",
      " [0.5084575  0.30428473 0.18725777]] [0.9022224  0.51013739 0.10285184]\n"
     ]
    },
    {
     "name": "stderr",
     "output_type": "stream",
     "text": [
      "  4%|▍         | 43/1000 [01:43<38:26,  2.41s/it]"
     ]
    },
    {
     "name": "stdout",
     "output_type": "stream",
     "text": [
      "Final Fit....\n",
      "16769.474684126897\n",
      "[[0.90188417 0.07379109 0.02432474]\n",
      " [0.66881476 0.22681802 0.10436722]\n",
      " [0.50849212 0.30443953 0.18706835]] [0.90220615 0.50984078 0.10268869]\n"
     ]
    },
    {
     "name": "stderr",
     "output_type": "stream",
     "text": [
      "\n"
     ]
    }
   ],
   "source": [
    "for iter in tqdm(range(1000)):\n",
    "    if iter == 0:\n",
    "        transition_probabilities, mutation_probabilities = create_transition_matrix(params)\n",
    "    else:\n",
    "        transition_probabilities = transition_counts\n",
    "        mutation_probabilities = mutation_counts\n",
    "    observation_probabilities = calculate_observation_probabilities(observations, mutation_probabilities)\n",
    "    hm_model = hmm.HMM(initial_probs, transition_probabilities, observation_probabilities)\n",
    "    hm_model.calculate_probabilities()\n",
    "    if iter > 1 and abs(total_probability - (hm_model.forward_ll * -1)) < 0.001:\n",
    "        break\n",
    "    total_probability = hm_model.forward_ll * -1\n",
    "    prob_observation = hm_model.forward_ll\n",
    "    transition_counts = np.zeros((num_states, num_states))\n",
    "    mutation_counts = np.zeros(num_states)\n",
    "    for s in range(num_states):\n",
    "        for t in range(num_states):\n",
    "            temp = 0\n",
    "            for i in range(sample_size - 1):\n",
    "                if i == 0:\n",
    "                    temp = hm_model.forward_probabilities[s, i] + math.log(transition_probabilities[s, t]) + math.log(observation_probabilities[t, i+1]) + hm_model.backward_probabilities[t, i+1]\n",
    "                else:\n",
    "                    temp = sum_logs(temp, hm_model.forward_probabilities[s, i] + math.log(transition_probabilities[s, t]) + math.log(observation_probabilities[t, i+1]) + hm_model.backward_probabilities[t, i+1])\n",
    "            transition_counts[s, t] += math.exp(temp - prob_observation)\n",
    "\n",
    "    for s in range(num_states):\n",
    "        temp_1 = 0\n",
    "        for t in range(num_states):\n",
    "            temp_1 += transition_counts[s, t]\n",
    "        for t in range(num_states):\n",
    "            transition_counts[s, t] = transition_counts[s, t] / temp_1\n",
    "  \n",
    "    for s in range(num_states):\n",
    "        temp_1 = 0; temp_2 = 0\n",
    "        for i in range(sample_size - 1):\n",
    "            temp_1 += hm_model.state_probabilities[s][i] * observations[i] / num_comparison_sequences\n",
    "            temp_2 += hm_model.state_probabilities[s][i]\n",
    "        mutation_counts[s] = temp_1 / temp_2\n",
    "    if iter % 10 == 0:\n",
    "        print(total_probability)  \n",
    "        print(transition_counts, mutation_counts)\n",
    "\n",
    "print(\"Final Fit....\")\n",
    "print(total_probability)  \n",
    "print(transition_counts, mutation_counts)\n"
   ]
  },
  {
   "cell_type": "code",
   "execution_count": 251,
   "id": "6a40b543-e39c-4f1b-aef5-918f2cf5f68b",
   "metadata": {},
   "outputs": [
    {
     "data": {
      "text/plain": [
       "array([[0.31849633, 0.31849633, 0.00237329, ..., 0.31849633, 0.1593297 ,\n",
       "        0.29263245],\n",
       "       [0.31849633, 0.31849633, 0.00237329, ..., 0.31849633, 0.1593297 ,\n",
       "        0.29263245],\n",
       "       [0.31849598, 0.31849598, 0.00237331, ..., 0.31849598, 0.15933003,\n",
       "        0.29263259]])"
      ]
     },
     "execution_count": 251,
     "metadata": {},
     "output_type": "execute_result"
    }
   ],
   "source": [
    "observation_probabilities"
   ]
  },
  {
   "cell_type": "code",
   "execution_count": null,
   "id": "6e7b557b-74b5-4764-8a71-348f764a628d",
   "metadata": {},
   "outputs": [],
   "source": []
  },
  {
   "cell_type": "code",
   "execution_count": null,
   "id": "ddb57520-9c95-45ce-b878-a7e37098bb2a",
   "metadata": {},
   "outputs": [],
   "source": []
  },
  {
   "cell_type": "code",
   "execution_count": 224,
   "id": "c41d215d-cffc-4829-9aa9-fe4263afcfce",
   "metadata": {},
   "outputs": [
    {
     "data": {
      "text/plain": [
       "array([ 7.,  8., 10., 10.,  8.,  9.,  4.,  5.,  9.,  8., 10.,  8.,  9.,\n",
       "        6.,  7.,  9., 10.,  9., 10.,  8., 10.,  9.,  8.,  9.,  9., 10.,\n",
       "        8.,  8.,  1.,  3., 10.,  9.,  9.,  8.,  9.,  9., 10., 10.,  9.])"
      ]
     },
     "execution_count": 224,
     "metadata": {},
     "output_type": "execute_result"
    }
   ],
   "source": []
  },
  {
   "cell_type": "code",
   "execution_count": null,
   "id": "c22d5c3a-d3c2-4975-ac03-244a9de36322",
   "metadata": {},
   "outputs": [],
   "source": []
  }
 ],
 "metadata": {
  "kernelspec": {
   "display_name": "Python 3 (ipykernel)",
   "language": "python",
   "name": "python3"
  },
  "language_info": {
   "codemirror_mode": {
    "name": "ipython",
    "version": 3
   },
   "file_extension": ".py",
   "mimetype": "text/x-python",
   "name": "python",
   "nbconvert_exporter": "python",
   "pygments_lexer": "ipython3",
   "version": "3.9.7"
  }
 },
 "nbformat": 4,
 "nbformat_minor": 5
}
