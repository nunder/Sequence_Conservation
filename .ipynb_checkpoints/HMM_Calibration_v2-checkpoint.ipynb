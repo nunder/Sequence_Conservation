{
 "cells": [
  {
   "cell_type": "code",
   "execution_count": 1,
   "id": "621b7a47-f9ff-41f5-a23f-0fbb71482945",
   "metadata": {},
   "outputs": [
    {
     "name": "stderr",
     "output_type": "stream",
     "text": [
      "C:\\Users\\nicho\\Anaconda3\\envs\\IRP\\lib\\site-packages\\ete3-3.1.2-py3.7.egg\\ete3\\evol\\parser\\codemlparser.py:221: SyntaxWarning: \"is\" with a literal. Did you mean \"==\"?\n",
      "C:\\Users\\nicho\\Anaconda3\\envs\\IRP\\lib\\site-packages\\ete3-3.1.2-py3.7.egg\\ete3\\evol\\parser\\codemlparser.py:221: SyntaxWarning: \"is\" with a literal. Did you mean \"==\"?\n"
     ]
    }
   ],
   "source": [
    "import numpy as np\n",
    "import random\n",
    "import math\n",
    "import matplotlib.pyplot as plt\n",
    "from scipy import optimize as opt\n",
    "import Sequence_Analysis_Routines as sar\n",
    "import ete3"
   ]
  },
  {
   "cell_type": "code",
   "execution_count": 2,
   "id": "83350ad1-bc1a-4b34-9fc4-f094ca2bbe48",
   "metadata": {},
   "outputs": [],
   "source": [
    "project_dir = 'D:/Project_Data/Project_3'\n",
    "output_dir = project_dir + '/Output/Close_Species'\n",
    "non_cds_output_dir = output_dir + '/Multiple_Alignment_Data/Non_CDS'\n",
    "tb_species = 'GCF_000195955.2'"
   ]
  },
  {
   "cell_type": "code",
   "execution_count": 3,
   "id": "7279131b-60c9-44e5-9732-d65c0083a940",
   "metadata": {},
   "outputs": [],
   "source": [
    "num_states = 5"
   ]
  },
  {
   "cell_type": "code",
   "execution_count": 4,
   "id": "9b0ef1ec-db22-4df5-937e-96e0ba48d0fe",
   "metadata": {},
   "outputs": [],
   "source": [
    "file_ids = sar.list_files(non_cds_output_dir+'/')\n",
    "ids = [int(i.split('.')[0]) for i in file_ids]\n",
    "#ids.remove(1559)  #Contains S in alignment!\n",
    "outgroup_species = 'NC_008596.1'\n",
    "master_tree = ete3.Tree(output_dir + '/Trees/Concatenated_JC_Tree.treefile')\n",
    "outgroup = master_tree.search_nodes(name= outgroup_species)[0]\n",
    "outgroup.delete()"
   ]
  },
  {
   "cell_type": "code",
   "execution_count": 10,
   "id": "d921dbe4-af13-47a2-baf6-b7d462f508e6",
   "metadata": {},
   "outputs": [],
   "source": [
    "def fit_hmm(params):\n",
    "    num_states = 4    # Inserts are randomised\n",
    "    initial_state_probabilities = [1.0/num_states]*num_states\n",
    "    total_probability = 0\n",
    "    group_ids = ids[200:250]\n",
    "    \n",
    "    #group_ids = ids\n",
    "    for group_id in group_ids:\n",
    "        alignment = sar.Alignment(non_cds_output_dir+'/'+str(group_id)+'.fasta', tb_species, 'NT')\n",
    "        alignment.modify_sequence(1, False, True)\n",
    "        align_list =  alignment.modified_sequence_list\n",
    "        align_names = alignment.sequence_names\n",
    "        len_align_list = len(align_list[0])\n",
    "        non_cds = [x[50:len_align_list - 50] for x in align_list]\n",
    "        if len(non_cds[0]) < 20:\n",
    "            continue\n",
    "        transition_probabilities = np.array([[1-params[0],params[0]],[params[1],1-params[1]]])\n",
    "        observation_probabilities = sar.mutation_probs(params[2], params[3], non_cds, align_names, master_tree, num_states)\n",
    "        trial_hmm = sar.HMM(initial_state_probabilities, transition_probabilities, observation_probabilities)\n",
    "        trial_hmm.viterbi()\n",
    "        total_probability += trial_hmm.viterbi_log_probability * -1\n",
    "    print(params, total_probability)\n",
    "    return total_probability"
   ]
  },
  {
   "cell_type": "code",
   "execution_count": 11,
   "id": "fd64bf1e-c73f-44c3-9d6d-c6e8da672f1a",
   "metadata": {},
   "outputs": [
    {
     "name": "stdout",
     "output_type": "stream",
     "text": [
      "[0.03, 0.03, 2, 1] 2910.2170686238624\n"
     ]
    },
    {
     "data": {
      "text/plain": [
       "2910.2170686238624"
      ]
     },
     "execution_count": 11,
     "metadata": {},
     "output_type": "execute_result"
    }
   ],
   "source": [
    "fit_hmm([0.03, 0.03, 2, 1])"
   ]
  },
  {
   "cell_type": "code",
   "execution_count": null,
   "id": "da02783b-34c2-4484-bad2-ec61d88be10f",
   "metadata": {},
   "outputs": [],
   "source": [
    "res = opt.minimize(fit_hmm, (0.03, 0.03, 2, 1), method = 'Nelder-Mead', bounds = ((0.001,0.999),(0.001,0.999),(0.1,10),(0.1,10)))\n",
    "#res = opt.shgo (fit_hmm, bounds = ((0.001,0.999),(0.001,0.999),(0.1,10),(0.1,10)))\n",
    "print(res.x)"
   ]
  },
  {
   "cell_type": "code",
   "execution_count": null,
   "id": "bde164f5-4994-4911-91b5-b68f1b9072c1",
   "metadata": {},
   "outputs": [],
   "source": [
    "fitted_parameters = res.x\n",
    "transition_probabilities = np.array([[1-fitted_parameters[0],fitted_parameters[0]],[fitted_parameters[1],1-fitted_parameters[1]]])\n",
    "group_id =   1167 #1569 #1505    #  1167\n",
    "alignment = sar.Alignment(non_cds_output_dir+'/'+str(group_id)+'.fasta', tb_species, 'NT')\n",
    "alignment.modify_sequence(consensus=1)\n",
    "alignment_list =  alignment.modified_sequence_list\n",
    "alignment_names = alignment.sequence_names\n",
    "observation_probabilities = sar.mutation_probs(fitted_parameters[2], fitted_parameters[3], alignment_list, alignment_names, master_tree)\n",
    "fitted_hmm = sar.HMM(initial_state_probabilities, transition_probabilities, observation_probabilities)\n",
    "fitted_hmm.viterbi()\n",
    "print(fitted_hmm.viterbi_log_probability)\n",
    "plt.plot(fitted_hmm.viterbi_path);"
   ]
  },
  {
   "cell_type": "code",
   "execution_count": null,
   "id": "f23eb9cf-66d1-46ed-b97e-2c89c9859a02",
   "metadata": {},
   "outputs": [],
   "source": []
  },
  {
   "cell_type": "code",
   "execution_count": null,
   "id": "c3372b13-3ce6-4922-af38-7447ab2a2a64",
   "metadata": {},
   "outputs": [],
   "source": []
  }
 ],
 "metadata": {
  "kernelspec": {
   "display_name": "Python 3 (ipykernel)",
   "language": "python",
   "name": "python3"
  },
  "language_info": {
   "codemirror_mode": {
    "name": "ipython",
    "version": 3
   },
   "file_extension": ".py",
   "mimetype": "text/x-python",
   "name": "python",
   "nbconvert_exporter": "python",
   "pygments_lexer": "ipython3",
   "version": "3.8.12"
  }
 },
 "nbformat": 4,
 "nbformat_minor": 5
}
