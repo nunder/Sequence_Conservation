{
 "cells": [
  {
   "cell_type": "code",
   "execution_count": 470,
   "id": "86772f7a-4290-484b-9e7c-83bf0b69b281",
   "metadata": {},
   "outputs": [],
   "source": [
    "import pandas as pd\n",
    "import pickle\n",
    "import seaborn as sns\n",
    "import matplotlib.pyplot as plt\n",
    "import numpy as np\n",
    "from scipy.fft import fft, fftfreq\n",
    "from Bio import Entrez, SeqIO, AlignIO, pairwise2, Align, Seq, motifs\n",
    "from Bio.Seq import Seq\n",
    "from Bio.SeqFeature import SeqFeature, FeatureLocation\n",
    "from scipy.stats import binom\n",
    "import math\n",
    "import random\n",
    "from tqdm import tqdm\n",
    "from Comparative_Analysis import Sequence_Analysis_Routines as sar\n",
    "from Comparative_Analysis import HMM as hmm\n",
    "from Comparative_Analysis import Utilities as util\n",
    "from Comparative_Analysis import Alignment_HMM as alignment_hmm\n",
    "from Comparative_Analysis import Alignment_Analysis as alignment_analysis\n",
    "from Comparative_Analysis import Alignment as align\n",
    "from Comparative_Analysis import Master_Alignment_HMM as master_alignment_hmm\n",
    "from Comparative_Analysis import Multi_Species_Master_Alignment_HMM as multi_species_master_alignment_hmm\n",
    "from Comparative_Analysis import Arneson_Ernst_HMM as ae_hmm\n",
    "import random\n",
    "from joblib import Parallel, delayed"
   ]
  },
  {
   "cell_type": "code",
   "execution_count": 471,
   "id": "1988a242-f558-4643-b3a9-27272fa7bebc",
   "metadata": {},
   "outputs": [],
   "source": [
    "project_dir = 'D:/Project_Data/Project_6'\n",
    "genome_datasets_dir = project_dir + '/Datasets/NCBI_Datasets'\n",
    "literature_datasets_dir = project_dir + '/Datasets/Data_From_Publications'\n",
    "genome_record = next(SeqIO.parse(genome_datasets_dir + '/GCF_000195955.2/genomic.gbff', \"genbank\"))\n",
    "full_sequence = genome_record.seq\n",
    "output_dir = project_dir + '/Output'\n",
    "protein_fasta_output_loc = output_dir + '/Protein_Sequences'\n",
    "outgroup_protein_fasta_output_loc = output_dir + '/Protein_Sequences_With_Outgroup'\n",
    "sonic_paranoid_run_name = 'Run_Without_Outgroup'\n",
    "outgroup_sonic_paranoid_run_name = 'Run_With_Outgroup'\n",
    "sonic_paranoid_output_loc = output_dir + '/Sonic_Paranoid_Output'\n",
    "ortholog_dir = sonic_paranoid_output_loc + '/runs/' + sonic_paranoid_run_name + '/ortholog_groups'\n",
    "outgroup_ortholog_dir = sonic_paranoid_output_loc + '/runs/' + outgroup_sonic_paranoid_run_name + '/ortholog_groups'\n",
    "non_cds_output_dir = output_dir + '/Multiple_Alignment_Data/Downstream_Non_CDS'\n",
    "upstream_non_cds_output_dir = output_dir + '/Multiple_Alignment_Data/Upstream_Non_CDS'\n",
    "cds_output_dir = output_dir + '/Multiple_Alignment_Data/CDS'\n",
    "extended_cds_output_dir = output_dir + '/Multiple_Alignment_Data/Extended_CDS'\n",
    "extended_non_cds_regions_output_dir = output_dir + '/Multiple_Alignment_Data/Extended_Non_CDS'\n",
    "outgroup_cds_output_dir = output_dir + '/Multiple_Alignment_Data/CDS_With_Outgroup'\n",
    "outgroup_concatenated_cds_output_dir = output_dir + '/Multiple_Alignment_Data/CDS_With_Outgroup_Concatenated'\n",
    "hmm_parameters_output_dir = output_dir +'/HMM_Model_Parameters'\n",
    "conservation_analysis_output_dir = output_dir + '/Conservation_Analysis'\n",
    "num_cores = 16"
   ]
  },
  {
   "cell_type": "code",
   "execution_count": 472,
   "id": "6846dfdd-bd58-49be-98d1-9c6fbc463fab",
   "metadata": {},
   "outputs": [],
   "source": [
    "cryptic_input_path = \"D:/Project_Data/CRYPTIC_DATA/\"\n",
    "cryptic_output_path = \"D:/Project_Data/CRYPTIC_DATA/Cryptic_Data_Analysis\""
   ]
  },
  {
   "cell_type": "code",
   "execution_count": 509,
   "id": "83ec5a55-7489-443f-87e7-b38c6d5c6c5e",
   "metadata": {},
   "outputs": [
    {
     "name": "stdout",
     "output_type": "stream",
     "text": [
      "Chunk 1\n",
      "Chunk 2\n"
     ]
    },
    {
     "name": "stderr",
     "output_type": "stream",
     "text": [
      "C:\\Users\\nicho\\AppData\\Local\\Temp/ipykernel_2472/1934858011.py:6: DtypeWarning: Columns (28) have mixed types. Specify dtype option on import or set low_memory=False.\n",
      "  for chunk in reader:\n"
     ]
    },
    {
     "name": "stdout",
     "output_type": "stream",
     "text": [
      "Chunk 3\n"
     ]
    },
    {
     "name": "stderr",
     "output_type": "stream",
     "text": [
      "C:\\Users\\nicho\\AppData\\Local\\Temp/ipykernel_2472/1934858011.py:6: DtypeWarning: Columns (28) have mixed types. Specify dtype option on import or set low_memory=False.\n",
      "  for chunk in reader:\n"
     ]
    },
    {
     "name": "stdout",
     "output_type": "stream",
     "text": [
      "Chunk 4\n",
      "Chunk 5\n",
      "Chunk 6\n",
      "Chunk 7\n",
      "Chunk 8\n",
      "Chunk 9\n",
      "Chunk 10\n",
      "Chunk 11\n",
      "Chunk 12\n",
      "Chunk 13\n",
      "Chunk 14\n"
     ]
    },
    {
     "name": "stderr",
     "output_type": "stream",
     "text": [
      "C:\\Users\\nicho\\AppData\\Local\\Temp/ipykernel_2472/1934858011.py:6: DtypeWarning: Columns (28) have mixed types. Specify dtype option on import or set low_memory=False.\n",
      "  for chunk in reader:\n"
     ]
    },
    {
     "name": "stdout",
     "output_type": "stream",
     "text": [
      "Chunk 15\n",
      "Chunk 16\n",
      "Chunk 17\n",
      "Chunk 18\n",
      "Chunk 19\n",
      "Chunk 20\n"
     ]
    }
   ],
   "source": [
    "if 1==0:\n",
    "    variant_count_dict = {}\n",
    "    chunksize = 0.5 * (10 ** 7) \n",
    "    chunknum = 1\n",
    "    with pd.read_csv(cryptic_input_path + \"VARIANTS.csv\", chunksize=chunksize) as reader:\n",
    "        for chunk in reader:\n",
    "            print(\"Chunk \" + str(chunknum)) \n",
    "            chunknum += 1\n",
    "            for i, r in chunk.iterrows():\n",
    "                if (r['GENOME_INDEX'], r['MUTATION_TYPE'], r['ALT']) in variant_count_dict:\n",
    "                    variant_count_dict[(r['GENOME_INDEX'], r['MUTATION_TYPE'], r['ALT'])] = variant_count_dict[(r['GENOME_INDEX'], r['MUTATION_TYPE'], r['ALT'])] + 1\n",
    "                else:\n",
    "                    variant_count_dict[(r['GENOME_INDEX'], r['MUTATION_TYPE'],r['ALT'])] = 1\n",
    "    with open(cryptic_output_path + '/' + 'variant_count_dictionary.pkl', 'wb') as f:\n",
    "        pickle.dump(variant_count_dict, f)"
   ]
  },
  {
   "cell_type": "code",
   "execution_count": 510,
   "id": "37b6c9dd-7f1c-4ca3-bfd8-1d36ec4f5f86",
   "metadata": {},
   "outputs": [],
   "source": [
    "with open(cryptic_output_path + '/' + 'variant_count_dictionary.pkl', 'rb') as f:\n",
    "    variant_count_dict = pickle.load(f)    "
   ]
  },
  {
   "cell_type": "code",
   "execution_count": 511,
   "id": "b4ac0a80-5c8b-4901-a8e0-275ac5e9e5e5",
   "metadata": {},
   "outputs": [],
   "source": [
    "def bin_formula(max_bin_counts, tot_bin_counts, in_frame = False):\n",
    "    successes = 0\n",
    "    if in_frame == False:\n",
    "        for i in range(10000):\n",
    "            a = np.random.default_rng().multinomial(tot_bin_counts, np.array([1/3, 1/3, 1/3]), size=None)\n",
    "            if max(a) >= max_bin_counts:\n",
    "                successes +=1\n",
    "    else:\n",
    "        for i in range(10000):\n",
    "            a = np.random.default_rng().multinomial(tot_bin_counts, np.array([1/3, 1/3, 1/3]), size=None)\n",
    "            if a[0] >= max_bin_counts:\n",
    "                successes +=1\n",
    "    return successes / 10000"
   ]
  },
  {
   "cell_type": "code",
   "execution_count": 477,
   "id": "1c5039c6-3aa8-48cb-9790-5320e4da3887",
   "metadata": {},
   "outputs": [],
   "source": [
    "cds_boundaries = []\n",
    "for feature in genome_record.features:\n",
    "\n",
    "        if feature.type == 'CDS':\n",
    "            a = feature.qualifiers  \n",
    "            cds_boundaries.append((a.get(\"locus_tag\")[0], int(feature.location.start), int(feature.location.end)))   "
   ]
  },
  {
   "cell_type": "code",
   "execution_count": 478,
   "id": "aa605aae-67ab-4128-a6d4-af06c5d05155",
   "metadata": {},
   "outputs": [],
   "source": [
    "def mutation_bin_probability(start, end, strand, in_frame = False):\n",
    "    mutations = []\n",
    "    for i in range(start,end):\n",
    "        for letter in ['a','c','g','t']:\n",
    "            if (i+1, 'SNP', letter) in variant_count_dict:        #Variant count dictionary positions are one indexed\n",
    "                mutations.append(i)\n",
    "    bin_counts =[0,0,0]\n",
    "    for m in mutations:\n",
    "        if strand == 1:\n",
    "            bin_counts[(m-(start))%3] +=1\n",
    "        else:\n",
    "            bin_counts[((end-1)-m)%3] +=1\n",
    "    #return (((1-binom.cdf(max(bin_counts),sum(bin_counts),1/3))*3)\n",
    "    if in_frame == False:\n",
    "        return (bin_formula(max(bin_counts), sum(bin_counts), in_frame), sum(bin_counts), bin_counts)  \n",
    "    else:\n",
    "        return (bin_formula(bin_counts[2], sum(bin_counts), in_frame), sum(bin_counts), bin_counts)  "
   ]
  },
  {
   "cell_type": "code",
   "execution_count": 503,
   "id": "270613b5-f7fd-46fa-8de3-bcf64f1eef77",
   "metadata": {},
   "outputs": [],
   "source": [
    "def big_changes(start, end, strand):\n",
    "    important_mutations = 0\n",
    "    all_mutations = 0\n",
    "    if strand == 1:\n",
    "        for letter in ['a','c','g','t']:\n",
    "            if (start + 2, 'SNP', letter) in variant_count_dict:    #one indexed dictionary\n",
    "                important_mutations+=(variant_count_dict[(start + 2, 'SNP', letter)])\n",
    "            if (start + 3, 'SNP', letter) in variant_count_dict:\n",
    "                important_mutations+=(variant_count_dict[(start + 3, 'SNP', letter)]) \n",
    "    else:\n",
    "        for letter in ['a','c','g','t']:\n",
    "            if (end - 1, 'SNP', letter) in variant_count_dict:\n",
    "                important_mutations+=(variant_count_dict[(end-1, 'SNP', letter)])\n",
    "            if (end - 2, 'SNP', letter) in variant_count_dict:\n",
    "                important_mutations+=(variant_count_dict[(end-2, 'SNP', letter)]) \n",
    "    for i in range(start, end):\n",
    "        for letter in ['a','c','g','t']:\n",
    "            if (i+1, 'SNP', letter) in variant_count_dict:        #Variant count dictionary positions are one indexed\n",
    "                all_mutations+=variant_count_dict[(i+1, 'SNP', letter)]\n",
    "    return (important_mutations, all_mutations)\n"
   ]
  },
  {
   "cell_type": "code",
   "execution_count": 479,
   "id": "d15a90ec-4502-4910-9863-ba9de588a5e3",
   "metadata": {},
   "outputs": [],
   "source": [
    "def generate_cds_probs(num_subsets, subset_num, boundaries):\n",
    "    cds_boundaries = util.chunk_list(boundaries, num_subsets, subset_num)\n",
    "    probs = []\n",
    "    lens = []\n",
    "    no_mutations = []\n",
    "    for (loc_name,x,y) in cds_boundaries:\n",
    "        (temp, num_mutations) = mutation_bin_probability(x, y)\n",
    "        if num_mutations > 0:\n",
    "            probs.append(temp)\n",
    "            lens.append(y-x)\n",
    "        else:\n",
    "            no_mutations.append(loc_name)\n",
    "    return (probs, lens, no_mutations)"
   ]
  },
  {
   "cell_type": "code",
   "execution_count": 230,
   "id": "1a256bdb-a08b-4e68-87f3-f75cce24b30d",
   "metadata": {},
   "outputs": [],
   "source": [
    "parallel_output = Parallel(n_jobs=-1)(delayed(generate_cds_probs)(num_cores, core_number, cds_boundaries) for core_number in core_numbers)\n",
    "temp = [item for sublist in parallel_output for item in sublist]"
   ]
  },
  {
   "cell_type": "code",
   "execution_count": 258,
   "id": "f6403d4c-82cf-474c-bb56-cbc7d751d3ab",
   "metadata": {},
   "outputs": [
    {
     "data": {
      "text/plain": [
       "<AxesSubplot:>"
      ]
     },
     "execution_count": 258,
     "metadata": {},
     "output_type": "execute_result"
    },
    {
     "data": {
      "image/png": "[encoded data removed]",
      "text/plain": [
       "<Figure size 432x288 with 1 Axes>"
      ]
     },
     "metadata": {
      "needs_background": "light"
     },
     "output_type": "display_data"
    }
   ],
   "source": [
    "t1 =[x[0] for x in parallel_output]\n",
    "t2 =[x[1] for x in parallel_output]\n",
    "temp1 = [item for sublist in t1 for item in sublist]\n",
    "temp2 = [item for sublist in t2 for item in sublist]\n",
    "sns.scatterplot(y=temp1, x=temp2)\n",
    "\n",
    "#sns.ecdfplot(temp1, ax = ax)\n"
   ]
  },
  {
   "cell_type": "code",
   "execution_count": 231,
   "id": "1d3a7ba2-bb84-409f-94e3-4c3b4999545e",
   "metadata": {},
   "outputs": [
    {
     "name": "stdout",
     "output_type": "stream",
     "text": [
      "48\n"
     ]
    },
    {
     "data": {
      "text/plain": [
       "<AxesSubplot:ylabel='Count'>"
      ]
     },
     "execution_count": 231,
     "metadata": {},
     "output_type": "execute_result"
    },
    {
     "data": {
      "image/png": "[encoded data removed]",
      "text/plain": [
       "<Figure size 432x288 with 1 Axes>"
      ]
     },
     "metadata": {
      "needs_background": "light"
     },
     "output_type": "display_data"
    }
   ],
   "source": [
    "print(len(temp))\n",
    "sns.histplot(probs, bins = 100)"
   ]
  },
  {
   "cell_type": "code",
   "execution_count": 215,
   "id": "0596166f-0577-46a0-892a-0a34ff3196ac",
   "metadata": {},
   "outputs": [
    {
     "data": {
      "text/plain": [
       "<AxesSubplot:ylabel='Proportion'>"
      ]
     },
     "execution_count": 215,
     "metadata": {},
     "output_type": "execute_result"
    },
    {
     "data": {
      "image/png": "[encoded data removed]",
      "text/plain": [
       "<Figure size 432x288 with 1 Axes>"
      ]
     },
     "metadata": {
      "needs_background": "light"
     },
     "output_type": "display_data"
    }
   ],
   "source": [
    "sns.ecdfplot(probs)"
   ]
  },
  {
   "cell_type": "code",
   "execution_count": 216,
   "id": "26a5ee19-6c34-46e8-b742-9607ec1fd0eb",
   "metadata": {},
   "outputs": [
    {
     "name": "stdout",
     "output_type": "stream",
     "text": [
      "['Rv0094c', 'Rv0170', 'Rv0277c', 'Rv0278c', 'Rv0285', 'Rv0336', 'Rv0515', 'Rv0605', 'Rv0742', 'Rv0748', 'Rv0749', 'Rv0750', 'Rv0815c', 'Rv0978c', 'Rv1037c', 'Rv1038c', 'Rv1042c', 'Rv1047', 'Rv1148c', 'Rv1149', 'Rv1195', 'Rv1197', 'Rv1198', 'Rv1199c', 'Rv1313c', 'Rv1574', 'Rv1576c', 'Rv1577c', 'Rv1583c', 'Rv1588c', 'Rv1765c', 'Rv1793', 'Rv1945', 'Rv2177c', 'Rv2346c', 'Rv2347c', 'Rv2512c', 'Rv2557', 'Rv2558', 'Rv2650c', 'Rv2651c', 'Rv2656c', 'Rv2791c', 'Rv2792c', 'Rv2828c', 'Rv2885c', 'Rv2978c', 'Rv2979c', 'Rv3022A', 'Rv3023c', 'Rv3115', 'Rv3117', 'Rv3118', 'Rv3346c', 'Rv3348', 'Rv3424c', 'Rv3425', 'Rv3467', 'Rv3477', 'Rv3619c', 'Rv3620c', 'Rv3652', 'Rv3798', 'Rv3827c', 'Rv3828c', 'Rv3844']\n"
     ]
    }
   ],
   "source": [
    "print(no_mutations)"
   ]
  },
  {
   "cell_type": "code",
   "execution_count": 195,
   "id": "e88de272-a67f-443b-b347-7aaa2c67112f",
   "metadata": {},
   "outputs": [
    {
     "name": "stderr",
     "output_type": "stream",
     "text": [
      "100%|██████████| 3906/3906 [08:04<00:00,  8.07it/s]\n"
     ]
    }
   ],
   "source": [
    "low_prob_regions = []\n",
    "non_cds_probs = []\n",
    "non_cds_no_mutations = []\n",
    "for i, (loc_name, x,y) in enumerate(tqdm(cds_boundaries)):\n",
    "    if i < len(cds_boundaries) - 1:\n",
    "        temp = cds_boundaries[i+1][1]\n",
    "        if temp - y > 100:\n",
    "            (temp2, num_mutations) = mutation_bin_probability(y, temp)\n",
    "            if num_mutations > 0:\n",
    "                non_cds_probs.append(temp2)\n",
    "                if temp2 < 0.01:\n",
    "                    low_prob_regions.append(loc_name)\n",
    "            else:\n",
    "                non_cds_no_mutations.append(loc_name)"
   ]
  },
  {
   "cell_type": "code",
   "execution_count": 493,
   "id": "dcfeae66-c87a-4720-9666-5442cad415ee",
   "metadata": {},
   "outputs": [],
   "source": [
    "def max_orf(seq_start, seq_stop, in_frame, genbank_format = False):\n",
    "    max_len = 0\n",
    "    orf_length = 0\n",
    "    start_pos = -999\n",
    "    end_pos = -999\n",
    "    for frame in ['Forward', 'Reverse']:\n",
    "        if frame == 'Forward':\n",
    "            temp = (full_sequence[seq_start: seq_stop])\n",
    "        else:\n",
    "            temp = align.reverse_complement(full_sequence[seq_start: seq_stop])\n",
    "        seq_len = len(temp)\n",
    "        for i in range(seq_len - 2):\n",
    "            test_codon = temp[i: i+3] \n",
    "            if test_codon in ['ATG','GTG','TTG']:  #Missed out CTG as doesn't seem to be used very much at all\n",
    "                for j in range(i + 3, seq_len - 2, 3):\n",
    "                    test_codon_2 = temp[j: j+3] \n",
    "                    if test_codon_2 in ['TAG','TGA','TAA']:\n",
    "                        orf_length = j - i\n",
    "                        break\n",
    "                if orf_length > max_len:\n",
    "                    max_len = orf_length\n",
    "                    if frame == 'Forward':\n",
    "                        start_pos = i\n",
    "                        end_pos = j+3\n",
    "                        strand = 1\n",
    "                    else:\n",
    "                        start_pos = seq_len-(j+3)\n",
    "                        end_pos = seq_len-i\n",
    "                        strand = -1\n",
    "    #print(seq_start+start_pos, seq_start+end_pos, strand)\n",
    "    #if strand == 1:\n",
    "    #    print(full_sequence[seq_start+start_pos:seq_start+start_pos+3], full_sequence[seq_start+end_pos-3: seq_start+end_pos])\n",
    "    #else:\n",
    "    #    print(align.reverse_complement(full_sequence[seq_start+end_pos-3: seq_start+end_pos]), align.reverse_complement(full_sequence[seq_start+start_pos:seq_start+start_pos+3]))\n",
    "    \n",
    "    if start_pos == -999:\n",
    "        return(0,0,0,(0,0,[0,0,0]))\n",
    "    elif genbank_format == False:\n",
    "        return(seq_start+start_pos, seq_start+end_pos, strand, mutation_bin_probability(seq_start+start_pos, seq_start+end_pos, strand, in_frame=True), big_changes(seq_start+start_pos, seq_start+end_pos, strand))\n",
    "    else:\n",
    "        return(seq_start+start_pos+1, seq_start+end_pos, strand, mutation_bin_probability(seq_start+start_pos, seq_start+end_pos, strand, in_frame=True), big_changes(seq_start+start_pos, seq_start+end_pos, strand))"
   ]
  },
  {
   "cell_type": "code",
   "execution_count": 494,
   "id": "d770ad73-5dfb-4ce7-9e66-d19b525e51c8",
   "metadata": {},
   "outputs": [
    {
     "data": {
      "text/plain": [
       "(3103936, 3104911, -1, (0.0, 806, [182, 146, 478]), [])"
      ]
     },
     "execution_count": 494,
     "metadata": {},
     "output_type": "execute_result"
    }
   ],
   "source": [
    "max_orf(3103000,3105101, in_frame=True)    #(11500,13000)    (2272700,2275000) "
   ]
  },
  {
   "cell_type": "code",
   "execution_count": 495,
   "id": "4c30864d-5586-4ce3-8730-c724969b4418",
   "metadata": {},
   "outputs": [],
   "source": [
    "cds_boundaries = []\n",
    "for feature in genome_record.features:\n",
    "    if feature.type == 'CDS':\n",
    "            a = feature.qualifiers  \n",
    "            cds_boundaries.append((a.get(\"locus_tag\")[0], int(feature.location.start), int(feature.location.end)))   "
   ]
  },
  {
   "cell_type": "code",
   "execution_count": 512,
   "id": "8a2be064-6633-46a4-8b1c-2426464e5a9e",
   "metadata": {},
   "outputs": [
    {
     "name": "stdout",
     "output_type": "stream",
     "text": [
      "Rv0028 (31828, 31995, 1, (0.0001, 165, [43, 45, 77]), (0, 1795))\n",
      "Rv0030 (33943, 34218, 1, (0.0055, 173, [45, 54, 74]), (8, 76329))\n",
      "Rv0214 (257783, 258904, -1, (0.0, 930, [246, 202, 482]), (891, 14286))\n",
      "Rv0229c (274795, 274926, 1, (0.0151, 56, [12, 17, 27]), (0, 191))\n",
      "Rv0386 (466672, 467631, -1, (0.021, 380, [134, 100, 146]), (2, 149611))\n",
      "Rv0518 (610935, 611051, -1, (0.0373, 47, [16, 9, 22]), (1, 19267))\n",
      "Rv0617 (711536, 712231, 1, (0.0, 443, [123, 114, 206]), (1, 4002))\n",
      "Rv0631c (728346, 728513, 1, (0.0267, 71, [18, 21, 32]), (0, 216))\n",
      "Rv0780 (874732, 876390, 1, (0.0, 1280, [345, 296, 639]), (1, 42663))\n",
      "Rv0867c (965601, 965819, 1, (0.0468, 125, [38, 36, 51]), (0, 1040))\n",
      "Rv1015c (1134569, 1134694, 1, (0.0045, 43, [11, 9, 23]), (2, 454))\n",
      "Rv1103c (1231301, 1231990, 1, (0.0002, 411, [120, 120, 171]), (6, 7226))\n",
      "Rv1155 (1281890, 1282006, -1, (0.0393, 3, [0, 0, 3]), (0, 12))\n",
      "Rv1588c (1789966, 1790184, -1, (0.0109, 98, [30, 24, 44]), (0, 400))\n",
      "Rv1666c (1894224, 1895342, -1, (0.0, 952, [252, 239, 461]), (7, 65185))\n",
      "Rv1743 (1970753, 1970926, 1, (0.0167, 74, [24, 16, 34]), (3, 219))\n",
      "Rv1758 (1989571, 1989687, 1, (0.039, 37, [12, 7, 18]), (1, 59))\n",
      "Rv1806 (2048386, 2049597, 1, (0.0, 571, [152, 174, 245]), (2, 146444))\n",
      "Rv1875 (2124849, 2125094, 1, (0.0, 136, [28, 40, 68]), (0, 916))\n",
      "Rv1887 (2137519, 2138325, -1, (0.0045, 412, [126, 122, 164]), (0, 2184))\n",
      "Rv1906c (2152934, 2153170, -1, (0.0061, 93, [25, 25, 43]), (5, 618))\n",
      "Rv2033c (2281092, 2281241, -1, (0.0368, 73, [22, 19, 32]), (8, 582))\n",
      "Rv2097c (2356729, 2357901, -1, (0.0001, 591, [186, 166, 239]), (0, 3008))\n",
      "Rv2138 (2398436, 2398684, 1, (0.0, 201, [59, 45, 97]), (0, 3607))\n",
      "Rv2277c (2551548, 2552939, 1, (0.0, 968, [297, 219, 452]), (5, 49707))\n",
      "Rv2308a (2581843, 2582298, -1, (0.0007, 261, [77, 71, 113]), (0, 2484))\n",
      "Rv2320c (2594699, 2595331, -1, (0.0107, 305, [85, 99, 121]), (0, 1474))\n",
      "Rv2353c (2637688, 2639535, -1, (0.0248, 221, [66, 67, 88]), (0, 1775))\n",
      "Rv2438A (2736988, 2737116, 1, (0.0246, 53, [13, 15, 25]), (0, 1340))\n",
      "Rv2442c (2740395, 2740583, 1, (0.0044, 86, [21, 24, 41]), (11, 200))\n",
      "Rv2517c (2833939, 2834040, -1, (0.0199, 40, [9, 11, 20]), (3, 128))\n",
      "Rv2783c (3092642, 3092893, -1, (0.0274, 132, [35, 42, 55]), (83, 635))\n",
      "Rv2878c (3189851, 3190678, -1, (0.0, 729, [256, 160, 313]), (0, 17815))\n",
      "Rv2909c (3217659, 3217811, 1, (0.0441, 84, [20, 28, 36]), (5, 172))\n",
      "Rv2954c (3307434, 3307559, 1, (0.011, 52, [15, 11, 26]), (0, 344))\n",
      "Rv3034c (3395093, 3395308, -1, (0.0431, 100, [18, 40, 42]), (0, 281))\n",
      "Rv3127 (3493600, 3494193, -1, (0.0001, 350, [97, 103, 150]), (65, 4694))\n",
      "Rv3232c (3609781, 3610371, -1, (0.0, 473, [125, 92, 256]), (0, 7384))\n",
      "Rv3336c (3723802, 3724548, 1, (0.0, 506, [163, 117, 226]), (0, 5766))\n",
      "Rv3366 (3778213, 3778527, 1, (0.0199, 138, [38, 42, 58]), (9, 21574))\n",
      "Rv3418c (3837308, 3837478, 1, (0.0237, 73, [17, 23, 33]), (3, 579))\n",
      "Rv3430a (3849294, 3850139, -1, (0.0, 574, [150, 140, 284]), (0, 5320))\n",
      "Rv3473c (3892371, 3893786, -1, (0.0, 616, [169, 159, 288]), (15, 116476))\n",
      "Rv3725 (4171211, 4171381, -1, (0.0116, 85, [24, 22, 39]), (2, 260))\n",
      "Rv3768 (4214449, 4214610, 1, (0.0445, 79, [21, 24, 34]), (3, 1470))\n",
      "Rv3811 (4276441, 4276569, -1, (0.006, 67, [18, 16, 33]), (0, 229))\n",
      "Rv3857c (4329745, 4329921, -1, (0.0432, 173, [55, 49, 69]), (27, 38928))\n"
     ]
    }
   ],
   "source": [
    "out_list = []\n",
    "for i, (loc_name, x,y) in enumerate((cds_boundaries)):\n",
    "    if i < len(cds_boundaries) - 1:\n",
    "        temp = cds_boundaries[i+1][1]\n",
    "        if temp - y > 100:\n",
    "            res = max_orf(y, temp, in_frame=True, genbank_format = True)\n",
    "            if res[3][0] < 0.05 and res[3][1] > 0 and res[1] - res[0] > 100:\n",
    "                print(loc_name, res)\n",
    "                out_list.append([loc_name, res[0], res[1], res[2], res[3][0]])\n",
    "df=pd.DataFrame(out_list,columns=['locus','start','end','strand','p_value'])\n",
    "df.to_csv(cryptic_output_path + '/significant_degenerate_patterns_intergenic.csv')"
   ]
  },
  {
   "cell_type": "code",
   "execution_count": 465,
   "id": "f8de03a2-1d07-46b3-be8b-ad5892007103",
   "metadata": {},
   "outputs": [],
   "source": [
    "df=pd.DataFrame(out_list,columns=['locus','start','end','strand','p_value'])\n",
    "df.to_csv(cryptic_output_path + '/significant_degenerate_patterns_intergenic.csv')"
   ]
  },
  {
   "cell_type": "code",
   "execution_count": 519,
   "id": "be6941e7-bcd4-411e-b4d3-6755ba2299f4",
   "metadata": {},
   "outputs": [
    {
     "name": "stdout",
     "output_type": "stream",
     "text": [
      "GTGCGCCGTGGCGGGGCTGTCACCATGGACTACGTGGCCACCGCTATTGTGGTGACGCTGGTCATCCTCCTGGGCGTCGGCATCGTCGTCAACGAACTGCTCCGGCTGAAGCAGTGGTTGAAGAATTCGCGCCCCGACGCGGAACCGGCGGAACCTCCCGACGGCAGTTAG\n"
     ]
    }
   ],
   "source": [
    "print(align.reverse_complement(full_sequence[4171210:4171381]))"
   ]
  },
  {
   "cell_type": "code",
   "execution_count": 523,
   "id": "fdca572a-0a4b-4f77-9181-1d9308b560db",
   "metadata": {},
   "outputs": [
    {
     "name": "stdout",
     "output_type": "stream",
     "text": [
      "ATGAGCCAGGTCTTGGTGCTGTCGGGATCGGGTGCGATGTCGGTGGGCGGCTCGATCGGATTGGGGCCGAACAATTCTCGCGCTCGAGTGAGCAGAGCCCGCACCTCGTCGAGTTGCTGCTGCAGCGCAGAATCAGCCATAACCCCACGCTACCCAGGCCCCGTCTGA\n"
     ]
    }
   ],
   "source": [
    "print((full_sequence[31827:31995]))"
   ]
  },
  {
   "cell_type": "code",
   "execution_count": 167,
   "id": "933b832d-fd6c-4e70-9ecd-4dc4556e54e7",
   "metadata": {},
   "outputs": [
    {
     "name": "stderr",
     "output_type": "stream",
     "text": [
      "100%|██████████| 75075/75075 [00:03<00:00, 23820.92it/s]\n",
      "100%|██████████| 84312/84312 [00:03<00:00, 23613.78it/s]\n",
      "100%|██████████| 16/16 [00:00<00:00, 53.39it/s]\n",
      "100%|██████████| 16/16 [00:00<?, ?it/s]\n",
      "100%|██████████| 16/16 [00:00<?, ?it/s]\n"
     ]
    }
   ],
   "source": [
    "num_cores = 16\n",
    "core_numbers = list(range(1, num_cores+1))\n",
    "tb_species = 'GCF_000195955.2'\n",
    "outgroup_species = 'GCF_000696675.2'\n",
    "non_cds_offset = 50\n",
    "genome_ids_with_outgroup = util.list_dirs(genome_datasets_dir)\n",
    "genome_ids = util.list_dirs(genome_datasets_dir)\n",
    "genome_ids.remove(outgroup_species)\n",
    "non_target_genome_ids = util.list_dirs(genome_datasets_dir)\n",
    "non_target_genome_ids.remove(outgroup_species)\n",
    "non_target_genome_ids.remove(tb_species)\n",
    "num_ids = len(genome_ids)\n",
    "num_ids_with_outgroup = len(genome_ids_with_outgroup)\n",
    "orthologs = sar.Ortholog_Grouping(ortholog_dir)\n",
    "outgroup_orthologs = sar.Ortholog_Grouping(outgroup_ortholog_dir)\n",
    "seq_data = sar.Ortholog_Sequence_Dataset(orthologs, genome_datasets_dir, genome_ids, non_cds_offset, tb_species) \n",
    "outgroup_seq_data = sar.Ortholog_Sequence_Dataset(outgroup_orthologs, genome_datasets_dir, genome_ids_with_outgroup, non_cds_offset, tb_species) \n",
    "all_copy_seq_data = sar.Ortholog_Sequence_Dataset(orthologs, genome_datasets_dir, genome_ids, non_cds_offset, tb_species, single_copy = False) \n",
    "#print(outgroup_seq_data.species_info())"
   ]
  },
  {
   "cell_type": "code",
   "execution_count": 191,
   "id": "d62c1aa2-c41b-4f53-aa55-e435181b4c51",
   "metadata": {},
   "outputs": [
    {
     "name": "stdout",
     "output_type": "stream",
     "text": [
      "1236\n"
     ]
    },
    {
     "data": {
      "text/plain": [
       "<AxesSubplot:ylabel='Count'>"
      ]
     },
     "execution_count": 191,
     "metadata": {},
     "output_type": "execute_result"
    },
    {
     "data": {
      "image/png": "[encoded data removed]",
      "text/plain": [
       "<Figure size 432x288 with 1 Axes>"
      ]
     },
     "metadata": {
      "needs_background": "light"
     },
     "output_type": "display_data"
    }
   ],
   "source": [
    "print(len(non_cds_probs))\n",
    "sns.histplot(non_cds_probs, bins = 100)"
   ]
  },
  {
   "cell_type": "code",
   "execution_count": 192,
   "id": "400ae69f-70b9-40b4-9b08-93cda0b9840a",
   "metadata": {},
   "outputs": [
    {
     "data": {
      "text/plain": [
       "<AxesSubplot:ylabel='Proportion'>"
      ]
     },
     "execution_count": 192,
     "metadata": {},
     "output_type": "execute_result"
    },
    {
     "data": {
      "image/png": "[encoded data removed]",
      "text/plain": [
       "<Figure size 432x288 with 1 Axes>"
      ]
     },
     "metadata": {
      "needs_background": "light"
     },
     "output_type": "display_data"
    }
   ],
   "source": [
    "sns.ecdfplot(non_cds_probs)"
   ]
  },
  {
   "cell_type": "code",
   "execution_count": 188,
   "id": "24fb7475-02be-4190-94cc-b2a7c40dc31a",
   "metadata": {},
   "outputs": [
    {
     "name": "stdout",
     "output_type": "stream",
     "text": [
      "Rv0094c\n",
      "Rv0170\n",
      "Rv0277c\n",
      "Rv0278c\n",
      "Rv0285\n",
      "Rv0336\n",
      "Rv0515\n",
      "Rv0605\n",
      "No record of Rv0605\n",
      "Rv0742\n",
      "Rv0748\n",
      "Rv0749\n",
      "Rv0750\n",
      "No record of Rv0750\n",
      "Rv0815c\n",
      "Rv0978c\n",
      "Rv1037c\n",
      "No record of Rv1037c\n",
      "Rv1038c\n",
      "Rv1042c\n",
      "Rv1047\n",
      "Rv1148c\n",
      "Rv1149\n",
      "Rv1195\n",
      "Rv1197\n",
      "Rv1198\n",
      "No record of Rv1198\n",
      "Rv1199c\n",
      "Rv1313c\n",
      "Rv1574\n",
      "No record of Rv1574\n",
      "Rv1576c\n",
      "Rv1577c\n",
      "Rv1583c\n",
      "Rv1588c\n",
      "Rv1765c\n",
      "Rv1793\n",
      "Rv1945\n",
      "Rv2177c\n",
      "No record of Rv2177c\n",
      "Rv2346c\n",
      "Rv2347c\n",
      "Rv2512c\n",
      "Rv2557\n",
      "Rv2558\n",
      "Rv2650c\n",
      "Rv2651c\n",
      "Rv2656c\n",
      "Rv2791c\n",
      "No record of Rv2791c\n",
      "Rv2792c\n",
      "No record of Rv2792c\n",
      "Rv2828c\n",
      "Rv2885c\n",
      "Rv2978c\n",
      "No record of Rv2978c\n",
      "Rv2979c\n",
      "No record of Rv2979c\n",
      "Rv3022A\n",
      "Rv3023c\n",
      "Rv3115\n",
      "Rv3117\n",
      "Rv3118\n",
      "Rv3346c\n",
      "Rv3348\n",
      "No record of Rv3348\n",
      "Rv3424c\n",
      "No record of Rv3424c\n",
      "Rv3425\n",
      "No record of Rv3425\n",
      "Rv3467\n",
      "Rv3477\n",
      "Rv3619c\n",
      "No record of Rv3619c\n",
      "Rv3620c\n",
      "Rv3652\n",
      "No record of Rv3652\n",
      "Rv3798\n",
      "Rv3827c\n",
      "No record of Rv3827c\n",
      "Rv3828c\n",
      "No record of Rv3828c\n",
      "Rv3844\n",
      "No record of Rv3844\n"
     ]
    }
   ],
   "source": [
    "temp = all_copy_seq_data.sequence_data\n",
    "for locus_id in no_mutations:\n",
    "    print(locus_id)\n",
    "    if len(temp[temp['locus_tag'] == locus_id]) > 0:\n",
    "        group_id = temp[temp['locus_tag'] == locus_id].iloc[0]['group_id']\n",
    "        temp[temp['group_id'] == group_id]\n",
    "    else:\n",
    "        print (\"No record of \"+ locus_id)"
   ]
  },
  {
   "cell_type": "code",
   "execution_count": 196,
   "id": "ee346295-8cd8-4587-8a1e-5571960a30b1",
   "metadata": {},
   "outputs": [
    {
     "name": "stdout",
     "output_type": "stream",
     "text": [
      "['Rv0214', 'Rv0780', 'Rv1135c', 'Rv1156', 'Rv1632c', 'Rv1666c', 'Rv1806', 'Rv2184c', 'Rv2277c', 'Rv2767c', 'Rv3191c', 'Rv3232c', 'Rv3430a', 'Rv3452', 'Rv3473c', 'Rv3692']\n"
     ]
    }
   ],
   "source": [
    "print(low_prob_regions)"
   ]
  },
  {
   "cell_type": "code",
   "execution_count": 160,
   "id": "07997aa4-1fc4-4180-b578-8700eab12a53",
   "metadata": {},
   "outputs": [],
   "source": []
  },
  {
   "cell_type": "code",
   "execution_count": 160,
   "id": "85326626-6110-4589-a5fa-42f4101e51a7",
   "metadata": {},
   "outputs": [],
   "source": [
    "ryptic_variant_count_dict = {}\n",
    "for i in range(len(full_sequence)):\n",
    "    if i+1 in variant_count_dict:\n",
    "        cryptic_variant_count_dict[i] = variant_count_dict[i+1]\n",
    "    else:\n",
    "        cryptic_variant_count_dict[i] = 0\n",
    "with open(literature_datasets_dir + '/' + 'cryptic_variant_count_dictionary.pkl','wb') as f:\n",
    "    pickle.dump(cryptic_variant_count_dict, f)"
   ]
  },
  {
   "cell_type": "code",
   "execution_count": null,
   "id": "16e17cbd-b70f-400b-935e-9ee7b24096c1",
   "metadata": {},
   "outputs": [],
   "source": [
    "for i in range(4099696, 4099098, -1):\n",
    "    if i in nick_dict:\n",
    "        print(i, nick_dict[i])\n",
    "    else:\n",
    "        print(i, 0)"
   ]
  },
  {
   "cell_type": "code",
   "execution_count": 165,
   "id": "6d9802a2-8237-46cf-92a2-5c4e76c10f06",
   "metadata": {},
   "outputs": [
    {
     "name": "stdout",
     "output_type": "stream",
     "text": [
      "10\n"
     ]
    }
   ],
   "source": [
    "print(variant_count_dict[4099403])"
   ]
  },
  {
   "cell_type": "code",
   "execution_count": 10,
   "id": "632dd758-5e44-4e2b-a8fd-ddd1ef037440",
   "metadata": {},
   "outputs": [
    {
     "name": "stdout",
     "output_type": "stream",
     "text": [
      "4411529\n"
     ]
    }
   ],
   "source": [
    "max_key = 0\n",
    "for key, value in variant_count_dict.items():\n",
    "    if key > max_key:\n",
    "        max_key = key\n",
    "print(max_key)"
   ]
  },
  {
   "cell_type": "code",
   "execution_count": 14,
   "id": "149ecd87-1d9f-40f3-a1f6-b205bbc540a0",
   "metadata": {},
   "outputs": [],
   "source": [
    "nick_dict = []\n",
    "for i in range(max_key + 1):\n",
    "    if i in variant_count_dict:\n",
    "        nick_dict.append(variant_count_dict[i])\n",
    "    else:\n",
    "        nick_dict.append(0)\n"
   ]
  },
  {
   "cell_type": "code",
   "execution_count": 104,
   "id": "77ff1dc7-b0e0-46c9-8c8c-6464b7ccfa45",
   "metadata": {},
   "outputs": [
    {
     "data": {
      "image/png": "[encoded data removed]",
      "text/plain": [
       "<Figure size 432x288 with 1 Axes>"
      ]
     },
     "metadata": {
      "needs_background": "light"
     },
     "output_type": "display_data"
    },
    {
     "data": {
      "image/png": "[encoded data removed]",
      "text/plain": [
       "<Figure size 432x288 with 1 Axes>"
      ]
     },
     "metadata": {
      "needs_background": "light"
     },
     "output_type": "display_data"
    },
    {
     "data": {
      "image/png": "[encoded data removed]",
      "text/plain": [
       "<Figure size 432x288 with 1 Axes>"
      ]
     },
     "metadata": {
      "needs_background": "light"
     },
     "output_type": "display_data"
    }
   ],
   "source": [
    "start = 4099375\n",
    "end = 4099521\n",
    "x_ax = list(range(start,end))\n",
    "y_ax = nick_dict[start:end]\n",
    "y_alt_ax = nick_dict[start:end]\n",
    "for i, val in enumerate(y_ax):\n",
    "    if val > 0:\n",
    "        y_alt_ax[i] = val\n",
    "        y_ax[i] = 1\n",
    "        \n",
    "plt.plot(x_ax, y_alt_ax)\n",
    "plt.show()\n",
    "\n",
    "plt.plot(x_ax, y_ax)\n",
    "plt.show()\n",
    "\n",
    "# Number of samples in normalized_tone\n",
    "N = len(x_ax)\n",
    "\n",
    "yf = fft(y_ax)\n",
    "xf = fftfreq(N, 1)\n",
    "\n",
    "plt.plot(xf[1:], np.abs(yf)[1:])\n",
    "plt.show()\n"
   ]
  },
  {
   "cell_type": "code",
   "execution_count": 114,
   "id": "3b5606a9-60e9-45f1-ae5b-893fd327ba3d",
   "metadata": {},
   "outputs": [
    {
     "name": "stdout",
     "output_type": "stream",
     "text": [
      "1\n",
      "2\n"
     ]
    },
    {
     "name": "stderr",
     "output_type": "stream",
     "text": [
      "C:\\Users\\nicho\\AppData\\Local\\Temp/ipykernel_21256/1603426384.py:5: DtypeWarning: Columns (28) have mixed types. Specify dtype option on import or set low_memory=False.\n",
      "  for chunk in reader:\n"
     ]
    },
    {
     "name": "stdout",
     "output_type": "stream",
     "text": [
      "3\n"
     ]
    },
    {
     "name": "stderr",
     "output_type": "stream",
     "text": [
      "C:\\Users\\nicho\\AppData\\Local\\Temp/ipykernel_21256/1603426384.py:5: DtypeWarning: Columns (28) have mixed types. Specify dtype option on import or set low_memory=False.\n",
      "  for chunk in reader:\n"
     ]
    },
    {
     "name": "stdout",
     "output_type": "stream",
     "text": [
      "4\n",
      "5\n",
      "6\n",
      "7\n",
      "8\n",
      "9\n",
      "10\n",
      "11\n",
      "12\n",
      "13\n",
      "14\n"
     ]
    },
    {
     "name": "stderr",
     "output_type": "stream",
     "text": [
      "C:\\Users\\nicho\\AppData\\Local\\Temp/ipykernel_21256/1603426384.py:5: DtypeWarning: Columns (28) have mixed types. Specify dtype option on import or set low_memory=False.\n",
      "  for chunk in reader:\n"
     ]
    },
    {
     "name": "stdout",
     "output_type": "stream",
     "text": [
      "15\n",
      "16\n",
      "17\n",
      "18\n",
      "19\n",
      "20\n"
     ]
    }
   ],
   "source": [
    "temp = []\n",
    "chunksize = 0.5 * (10 ** 7) \n",
    "chunknum = 0\n",
    "with pd.read_csv(cryptic_input_path + \"VARIANTS.csv\", chunksize=chunksize) as reader:\n",
    "    for chunk in reader:\n",
    "        chunknum += 1\n",
    "        print(chunknum)\n",
    "        for i, r in chunk.iterrows():\n",
    "            if r['GENOME_INDEX'] in range(start,end):\n",
    "                temp.append([r['UNIQUEID'], r['GENOME_INDEX'], r['REF'],r['ALT'],r['MUTATION_TYPE']])\n",
    "df = pd.DataFrame(temp, columns = ['UNIQUEID', 'GENOME_INDEX','REF','ALT','MUTATION_TYPE'])\n",
    "df.to_csv(cryptic_output_path + '/' + 'upstream_3660.csv')"
   ]
  },
  {
   "cell_type": "code",
   "execution_count": 115,
   "id": "d6aa7aff-e987-4f32-a2e6-4a3122a96cd4",
   "metadata": {},
   "outputs": [
    {
     "name": "stdout",
     "output_type": "stream",
     "text": [
      "                                               UNIQUEID  GENOME_INDEX  REF  \\\n",
      "0                    site.02.subj.0958.lab.22A197.iso.1       4099401  cag   \n",
      "1                site.02.subj.0691.lab.2014241055.iso.1       4099481    g   \n",
      "2                site.02.subj.0330.lab.2015235158.iso.1       4099481    g   \n",
      "3                site.02.subj.0750.lab.2013235025.iso.1       4099382    c   \n",
      "4                site.02.subj.0151.lab.2013232055.iso.1       4099481    g   \n",
      "...                                                 ...           ...  ...   \n",
      "5919       site.10.subj.YA00067932.lab.YA00067932.iso.1       4099481    g   \n",
      "5920       site.10.subj.YA00133952.lab.YA00133952.iso.1       4099481    g   \n",
      "5921       site.10.subj.YA00029870.lab.YA00029870.iso.1       4099481    g   \n",
      "5922  site.10.subj.SACG01343657_S3.lab.CG01343657_S3...       4099481    g   \n",
      "5923       site.10.subj.PH00493578.lab.PH00493578.iso.1       4099481    g   \n",
      "\n",
      "       ALT MUTATION_TYPE  \n",
      "0     cagg         INDEL  \n",
      "1        a           SNP  \n",
      "2        a           SNP  \n",
      "3        t           SNP  \n",
      "4        a           SNP  \n",
      "...    ...           ...  \n",
      "5919     a           SNP  \n",
      "5920     a           SNP  \n",
      "5921     a           SNP  \n",
      "5922     a           SNP  \n",
      "5923     a           SNP  \n",
      "\n",
      "[5924 rows x 5 columns]\n"
     ]
    }
   ],
   "source": [
    "print(df)"
   ]
  },
  {
   "cell_type": "code",
   "execution_count": 118,
   "id": "61b9d3a2-7556-4def-a2e5-d5909e7036f6",
   "metadata": {},
   "outputs": [],
   "source": [
    "nick= df[['GENOME_INDEX', 'REF','ALT']]\n",
    "a = nick.drop_duplicates()"
   ]
  },
  {
   "cell_type": "code",
   "execution_count": 400,
   "id": "20ae5fba-f082-49b5-9dec-47c5a6bbbfe8",
   "metadata": {},
   "outputs": [
    {
     "data": {
      "text/plain": [
       "'C'"
      ]
     },
     "execution_count": 400,
     "metadata": {},
     "output_type": "execute_result"
    }
   ],
   "source": [
    "full_sequence[4099380]"
   ]
  },
  {
   "cell_type": "code",
   "execution_count": 120,
   "id": "ae706eb8-c029-4fa0-ba3b-5b2d8c78d6a9",
   "metadata": {},
   "outputs": [
    {
     "data": {
      "text/plain": [
       "GENOME_INDEX  REF  ALT\n",
       "4099377       g    a      83\n",
       "4099380       g    a       1\n",
       "4099381       c    t       3\n",
       "4099382       c    t       3\n",
       "4099383       a    g       1\n",
       "                          ..\n",
       "4099509       c    a       3\n",
       "                   t       1\n",
       "4099514       a    c       2\n",
       "                   g       1\n",
       "4099520       c    t       5\n",
       "Length: 136, dtype: int64"
      ]
     },
     "execution_count": 120,
     "metadata": {},
     "output_type": "execute_result"
    }
   ],
   "source": [
    "df.groupby(['GENOME_INDEX', 'REF', 'ALT']).size()"
   ]
  },
  {
   "cell_type": "code",
   "execution_count": 123,
   "id": "74c09aa4-7953-4ac1-bab7-4bdd011afed1",
   "metadata": {},
   "outputs": [],
   "source": [
    "df.to_csv(cryptic_output_path + '/' + 'nick.csv')"
   ]
  },
  {
   "cell_type": "code",
   "execution_count": 138,
   "id": "974b3fa7-d55d-489d-ad66-e3c545c3bc99",
   "metadata": {},
   "outputs": [
    {
     "data": {
      "text/plain": [
       "Seq('GCTGCCAAAAGGGACGACCCCCGC')"
      ]
     },
     "execution_count": 138,
     "metadata": {},
     "output_type": "execute_result"
    }
   ],
   "source": [
    "full_sequence[4099376:4099400]"
   ]
  },
  {
   "cell_type": "code",
   "execution_count": 144,
   "id": "95798500-311b-4be4-bd5e-d47e3a750150",
   "metadata": {},
   "outputs": [
    {
     "ename": "KeyError",
     "evalue": "4099406",
     "output_type": "error",
     "traceback": [
      "\u001b[1;31m---------------------------------------------------------------------------\u001b[0m",
      "\u001b[1;31mKeyError\u001b[0m                                  Traceback (most recent call last)",
      "\u001b[1;32m~\\AppData\\Local\\Temp/ipykernel_21256/2421001882.py\u001b[0m in \u001b[0;36m<module>\u001b[1;34m\u001b[0m\n\u001b[1;32m----> 1\u001b[1;33m \u001b[0mvariant_count_dict\u001b[0m\u001b[1;33m[\u001b[0m\u001b[1;36m4099406\u001b[0m\u001b[1;33m]\u001b[0m\u001b[1;33m\u001b[0m\u001b[1;33m\u001b[0m\u001b[0m\n\u001b[0m",
      "\u001b[1;31mKeyError\u001b[0m: 4099406"
     ]
    }
   ],
   "source": [
    "variant_count_dict[4099406]"
   ]
  },
  {
   "cell_type": "code",
   "execution_count": 528,
   "id": "1af34f82-9613-402f-a081-dae3a461e917",
   "metadata": {},
   "outputs": [
    {
     "ename": "SyntaxError",
     "evalue": "invalid syntax (Temp/ipykernel_2472/168041413.py, line 12)",
     "output_type": "error",
     "traceback": [
      "\u001b[1;36m  File \u001b[1;32m\"C:\\Users\\nicho\\AppData\\Local\\Temp/ipykernel_2472/168041413.py\"\u001b[1;36m, line \u001b[1;32m12\u001b[0m\n\u001b[1;33m    num_iterations += 1\u001b[0m\n\u001b[1;37m    ^\u001b[0m\n\u001b[1;31mSyntaxError\u001b[0m\u001b[1;31m:\u001b[0m invalid syntax\n"
     ]
    }
   ],
   "source": [
    "num_iterations = 0\n",
    "cds_boundaries = [[0, 0], [4411530, 4411530]]\n",
    "while num_iterations <= 10:\n",
    "    for i, (x,y) in enumerate((cds_boundaries)):\n",
    "        if i < len(cds_boundaries) - 1:\n",
    "            temp = cds_boundaries[i+1][1]\n",
    "            if temp - y > 100:\n",
    "                res = max_orf(y, temp, in_frame=True, genbank_format = False)\n",
    "                if res[3][0] < 0.005 and res[3][1] > 0 and res[1] - res[0] > 100:\n",
    "                    print(res)\n",
    "                    cds_boundaries.append([x, y])\n",
    "    num_iterations += 1\n",
    "\n"
   ]
  },
  {
   "cell_type": "code",
   "execution_count": null,
   "id": "9c788f20-c7ae-4229-bb9a-3638e7a738c8",
   "metadata": {},
   "outputs": [],
   "source": []
  }
 ],
 "metadata": {
  "kernelspec": {
   "display_name": "Python 3 (ipykernel)",
   "language": "python",
   "name": "python3"
  },
  "language_info": {
   "codemirror_mode": {
    "name": "ipython",
    "version": 3
   },
   "file_extension": ".py",
   "mimetype": "text/x-python",
   "name": "python",
   "nbconvert_exporter": "python",
   "pygments_lexer": "ipython3",
   "version": "3.9.7"
  }
 },
 "nbformat": 4,
 "nbformat_minor": 5
}
