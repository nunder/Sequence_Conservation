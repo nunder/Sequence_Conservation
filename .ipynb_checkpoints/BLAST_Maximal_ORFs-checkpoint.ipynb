{
 "cells": [
  {
   "cell_type": "markdown",
   "id": "eef24ce4-4729-44b6-8d43-fbdf47b9033a",
   "metadata": {
    "tags": []
   },
   "source": [
    "##### Set up packages and directories"
   ]
  },
  {
   "cell_type": "code",
   "execution_count": 1,
   "id": "9105f9b4-46be-44fd-b947-d3c47ce2fa01",
   "metadata": {
    "tags": []
   },
   "outputs": [],
   "source": [
    "import pandas as pd\n",
    "import pickle\n",
    "import seaborn as sns\n",
    "import matplotlib.pyplot as plt\n",
    "import numpy as np\n",
    "from scipy.fft import fft, fftfreq\n",
    "from Bio import Entrez, SeqIO, AlignIO, pairwise2, Align, Seq, motifs\n",
    "from Bio.Seq import Seq\n",
    "from Bio.SeqFeature import SeqFeature, FeatureLocation\n",
    "from scipy.stats import binom\n",
    "import math\n",
    "from tqdm.auto import tqdm\n",
    "from Comparative_Analysis import Sequence_Analysis_Routines as sar\n",
    "from Comparative_Analysis import HMM as hmm\n",
    "from Comparative_Analysis import Utilities as util\n",
    "from Comparative_Analysis import Alignment_HMM as alignment_hmm\n",
    "from Comparative_Analysis import Alignment_Analysis as alignment_analysis\n",
    "from Comparative_Analysis import Alignment as align\n",
    "from Comparative_Analysis import Master_Alignment_HMM as master_alignment_hmm\n",
    "from Comparative_Analysis import Multi_Species_Master_Alignment_HMM as multi_species_master_alignment_hmm\n",
    "from Comparative_Analysis import Arneson_Ernst_HMM as ae_hmm\n",
    "import random\n",
    "import copy\n",
    "from joblib import Parallel, delayed\n",
    "import os\n",
    "import subprocess\n",
    "from Bio.Blast import NCBIWWW, NCBIXML"
   ]
  },
  {
   "cell_type": "code",
   "execution_count": 2,
   "id": "1988a242-f558-4643-b3a9-27272fa7bebc",
   "metadata": {},
   "outputs": [],
   "source": [
    "project_dir = 'D:/Project_Data/Project_6'\n",
    "literature_datasets_dir = project_dir + '/Datasets/Data_From_Publications'\n",
    "genome_datasets_dir = project_dir + '/Datasets/NCBI_Datasets'\n",
    "output_dir = project_dir + '/Output'\n",
    "refseq_dir = 'D:/Tests/NCBI_Dataset_Mycobacteria'\n",
    "num_cores = 16\n",
    "core_numbers = list(range(1, num_cores+1))"
   ]
  },
  {
   "cell_type": "code",
   "execution_count": 3,
   "id": "abef54a8-1fd0-4a05-94de-bc9e2f647844",
   "metadata": {},
   "outputs": [
    {
     "name": "stdout",
     "output_type": "stream",
     "text": [
      "3\n"
     ]
    }
   ],
   "source": [
    "species_list = util.list_dirs(refseq_dir)\n",
    "reference_species = 'GCF_000195955.2'\n",
    "print(len(species_list))"
   ]
  },
  {
   "cell_type": "markdown",
   "id": "017f28e8-a111-4d47-a7d6-9fbe2e08e2d4",
   "metadata": {},
   "source": [
    "##### Translation function"
   ]
  },
  {
   "cell_type": "code",
   "execution_count": 4,
   "id": "94a2ed1e-1303-4248-9b29-728cce1b9485",
   "metadata": {},
   "outputs": [],
   "source": [
    "codon_dict = {}\n",
    "with open('D:/Project_Data/Project_3/Datasets/Reference_Tables/Standard_Code.txt') as f:\n",
    "    for l in f:\n",
    "        codon_dict[str(l[1:4])] = l[5]\n",
    "def translate_sequence(input_seq, strand, rf):\n",
    "    output_seq = ''\n",
    "    if strand == 1:\n",
    "        seq = input_seq[rf:]\n",
    "    else:\n",
    "        seq = align.reverse_complement(input_seq)[rf:]\n",
    "    for i in range(0,len(seq)-2,3):\n",
    "        if seq[i:(i+3)] in codon_dict:\n",
    "            output_seq += codon_dict[seq[i:(i+3)]]\n",
    "        else:\n",
    "            output_seq += 'X'\n",
    "    return output_seq"
   ]
  },
  {
   "cell_type": "code",
   "execution_count": 5,
   "id": "6f975dff-4e95-44f1-978b-5c46eee3e950",
   "metadata": {},
   "outputs": [],
   "source": [
    "def translate_orf(sequence, start, end, strand):\n",
    "    return translate_sequence(sequence[start:end], strand, 0)              "
   ]
  },
  {
   "cell_type": "markdown",
   "id": "bc300757-df8c-42d8-a7a0-352213a45d3f",
   "metadata": {},
   "source": [
    "##### Output nt sequences in FASTA format"
   ]
  },
  {
   "cell_type": "code",
   "execution_count": 6,
   "id": "ab243605-4807-411c-8195-401b1a404c94",
   "metadata": {},
   "outputs": [],
   "source": [
    "def produce_blast_file(record_list, output_filename):\n",
    "    with open(output_filename, 'w',  newline='') as outfile:\n",
    "        line_length = 60\n",
    "        for record in tqdm(record_list):\n",
    "            sequence = record[1]\n",
    "            lines = []\n",
    "            sequence_length = len(sequence)\n",
    "            number_of_lines = math.ceil(sequence_length / line_length)\n",
    "            lines.append(\">\" +record[0]+ \"\\n\")\n",
    "            for i in range(number_of_lines):\n",
    "                subsequence = sequence[i*line_length:(i+1)*line_length]\n",
    "                lines.append(subsequence + \"\\n\")\n",
    "            outfile.write(''.join(lines))"
   ]
  },
  {
   "cell_type": "markdown",
   "id": "7cc97354-4eec-4741-b8b0-58b7be52aa9b",
   "metadata": {},
   "source": [
    "##### Function to find maximal open reading frame between two co-ordinates with mutation probability less than defined p-value"
   ]
  },
  {
   "cell_type": "code",
   "execution_count": 7,
   "id": "23757841-ce5e-4eaa-9f83-c94f63b145a8",
   "metadata": {},
   "outputs": [],
   "source": [
    "def find_all_maximal_orfs(sequence, seq_start, seq_stop, output_all_orfs = False, min_orf_length = 0):\n",
    "    max_len = 0\n",
    "    orfs_found = []\n",
    "    start_pos = -999\n",
    "    end_pos = -999\n",
    "    for frame in ['Forward', 'Reverse']:\n",
    "        if frame == 'Forward':\n",
    "            temp = (sequence[seq_start: seq_stop])\n",
    "        else:\n",
    "            temp = align.reverse_complement(sequence[seq_start: seq_stop])\n",
    "        seq_len = len(temp)\n",
    "        for rf in range(3):\n",
    "            i = rf\n",
    "            while i < seq_len - 2:\n",
    "                orf_length = 0\n",
    "                test_codon = temp[i: i+3] \n",
    "                if test_codon in ['ATG','GTG','TTG']:  \n",
    "                    for j in range(i + 3, seq_len - 2, 3):\n",
    "                        test_codon_2 = temp[j: j+3] \n",
    "                        if test_codon_2 in ['TAG','TGA','TAA']:\n",
    "                            orf_length = j - i\n",
    "                            break\n",
    "                            \n",
    "                if orf_length > 0:\n",
    "                    if frame == 'Forward':\n",
    "                        orf_start =  seq_start + i\n",
    "                        orf_end = seq_start + j+3\n",
    "                        orf_strand = 1\n",
    "                    else:\n",
    "                        orf_start =  seq_start + seq_len-(j+3)\n",
    "                        orf_end = seq_start + seq_len-i\n",
    "                        orf_strand = -1\n",
    "                    \n",
    "                    if orf_length >= min_orf_length:\n",
    "                        orfs_found.append((orf_start, orf_end, orf_strand, orf_length))\n",
    "\n",
    "                if orf_length > max_len and orf_length >= min_orf_length:                                           \n",
    "                    max_len = orf_length\n",
    "                    start_pos = orf_start\n",
    "                    end_pos = orf_end\n",
    "                    strand = orf_strand \n",
    "\n",
    "                if orf_length > 0:\n",
    "                    i = j\n",
    "                else:\n",
    "                    i +=3\n",
    "    if output_all_orfs == True:\n",
    "        sorted_orfs = sorted(orfs_found, key=lambda x: x[3], reverse=True)\n",
    "        return sorted_orfs                \n",
    "    elif start_pos == -999:\n",
    "        return(0,0,0,0)\n",
    "    else:\n",
    "        return(start_pos, end_pos, strand, max_len)   "
   ]
  },
  {
   "cell_type": "markdown",
   "id": "075ef9e8-e455-4ec3-b342-29749e142d86",
   "metadata": {
    "tags": []
   },
   "source": [
    "##### Extract full sequences from each organism"
   ]
  },
  {
   "cell_type": "code",
   "execution_count": 8,
   "id": "75949818-7e31-4bdf-a730-bfcb11740ce6",
   "metadata": {
    "tags": []
   },
   "outputs": [
    {
     "data": {
      "application/vnd.jupyter.widget-view+json": {
       "model_id": "26d61c201fa94cc6a54161a94d78a9c4",
       "version_major": 2,
       "version_minor": 0
      },
      "text/plain": [
       "0it [00:00, ?it/s]"
      ]
     },
     "metadata": {},
     "output_type": "display_data"
    }
   ],
   "source": [
    "full_sequences = []\n",
    "cds_boundary_dict = {}\n",
    "mycobrowser_df = pd.read_excel(literature_datasets_dir+'/Mycobrowser_Release_4.xlsx')\n",
    "for i, species in tqdm(enumerate(species_list)):\n",
    "    temp = []\n",
    "    genome_record = next(SeqIO.parse(genome_datasets_dir + '/'+species+'/genomic.gbff', \"genbank\"))\n",
    "    full_sequences.append(str(genome_record.seq))\n",
    "    if species == reference_species:\n",
    "        reference_species_index = i\n",
    "        temp_cds = mycobrowser_df[mycobrowser_df['Feature'] == 'CDS'][['Locus','Start','Stop','Strand','Function']]      #Just CDS\n",
    "        for i, r in temp_cds.iterrows():\n",
    "            if r['Strand'] == '+':\n",
    "                strand = 1\n",
    "            else:\n",
    "                strand = -1\n",
    "            temp.append((r['Locus'],r['Start']-1, r['Stop'], strand))\n",
    "    else:\n",
    "        for feature in genome_record.features:\n",
    "                a = feature.qualifiers\n",
    "                if a.get(\"locus_tag\")!= None and feature.type == 'CDS':\n",
    "                    locus_tag = a.get(\"locus_tag\")[0]\n",
    "                    temp.append([locus_tag, int(feature.location.start), int(feature.location.end), int(feature.location.strand)])\n",
    "    cds_boundary_dict[species] = temp"
   ]
  },
  {
   "cell_type": "markdown",
   "id": "dcb72973-d049-42fd-95f8-cae705f02e88",
   "metadata": {},
   "source": [
    "##### Find maximal ORFs in all frames"
   ]
  },
  {
   "cell_type": "code",
   "execution_count": 9,
   "id": "e59fd283-8190-40e4-9577-a1daff6f1174",
   "metadata": {},
   "outputs": [
    {
     "data": {
      "application/vnd.jupyter.widget-view+json": {
       "model_id": "63f89ae997114387a748d642ce581434",
       "version_major": 2,
       "version_minor": 0
      },
      "text/plain": [
       "  0%|          | 0/3 [00:00<?, ?it/s]"
      ]
     },
     "metadata": {},
     "output_type": "display_data"
    }
   ],
   "source": [
    "maximal_orfs = []\n",
    "for sequence in tqdm(full_sequences):\n",
    "    maximal_orfs.append(find_all_maximal_orfs(sequence, 0, len(sequence), True, 200))"
   ]
  },
  {
   "cell_type": "code",
   "execution_count": 10,
   "id": "e9a65288-5ee2-44c4-9167-5b95f3c1cf64",
   "metadata": {},
   "outputs": [
    {
     "data": {
      "application/vnd.jupyter.widget-view+json": {
       "model_id": "2d880f2499ee4f0cb39a32799d80fd2c",
       "version_major": 2,
       "version_minor": 0
      },
      "text/plain": [
       "  0%|          | 0/85262 [00:00<?, ?it/s]"
      ]
     },
     "metadata": {},
     "output_type": "display_data"
    },
    {
     "data": {
      "application/vnd.jupyter.widget-view+json": {
       "model_id": "480aa0975b7c41d19dba28532c0a4a9c",
       "version_major": 2,
       "version_minor": 0
      },
      "text/plain": [
       "  0%|          | 0/24551 [00:00<?, ?it/s]"
      ]
     },
     "metadata": {},
     "output_type": "display_data"
    }
   ],
   "source": [
    "maximal_orf_dicts = []\n",
    "maximal_proteins = []\n",
    "reference_proteins = []\n",
    "for j, orf_list in enumerate(maximal_orfs):\n",
    "    temp_dict = {}\n",
    "    for i, orf in enumerate(orf_list):\n",
    "        temp = translate_orf(full_sequences[j], orf[0], orf[1], orf[2])\n",
    "        maximal_proteins.append([species_list[j]+'_'+str(i), temp[:-1]])\n",
    "        temp_dict[species_list[j]+'_'+str(i)] = orf\n",
    "        if j == reference_species_index:\n",
    "            reference_proteins.append([species_list[j]+'_'+str(i), temp[:-1]])\n",
    "    maximal_orf_dicts.append(temp_dict)\n",
    "produce_blast_file(maximal_proteins, refseq_dir + '/maximal_proteins.faa')\n",
    "produce_blast_file(reference_proteins, refseq_dir + '/reference_proteins.faa')"
   ]
  },
  {
   "cell_type": "code",
   "execution_count": 11,
   "id": "02fdaf8c-d77b-45aa-a658-a5da1a8f166c",
   "metadata": {},
   "outputs": [],
   "source": [
    "morf_details_dict = {}\n",
    "for i, species in enumerate(species_list):\n",
    "    for k, orf in maximal_orf_dicts[i].items():\n",
    "        morf_details_dict[k] = [orf]\n",
    "        for cds in cds_boundary_dict[species]:\n",
    "            if orf[0] <= cds[1] and orf[1] >= cds[2] and orf[2] == cds[3] and (orf[0]-cds[1])%3 == 0:\n",
    "                morf_details_dict[k].append(cds)"
   ]
  },
  {
   "cell_type": "markdown",
   "id": "2c5fe6a4-dcf0-4b12-9257-c73f35691298",
   "metadata": {},
   "source": [
    "##### Create blast database"
   ]
  },
  {
   "cell_type": "code",
   "execution_count": 12,
   "id": "8b87b4ec-e4d2-4ffe-b758-eaff64002f16",
   "metadata": {},
   "outputs": [],
   "source": [
    "if 1==1:\n",
    "    w_d = os.getcwd()\n",
    "    os.chdir(\"D:/\")\n",
    "    subprocess.run('cd d:\\\\Tests\\\\NCBI_Dataset_Mycobacteria & makeblastdb -in maximal_proteins.faa -dbtype prot -out max_prot', shell=True, capture_output = True)\n",
    "    os.chdir(w_d)"
   ]
  },
  {
   "cell_type": "code",
   "execution_count": 13,
   "id": "244d3567-db99-4a95-b433-9efbe359cdde",
   "metadata": {},
   "outputs": [],
   "source": [
    "if 1==1:\n",
    "    w_d = os.getcwd()\n",
    "    os.chdir(\"D:/\")\n",
    "    subprocess.run('cd d:\\\\BLAST\\\\maxprot & blastp -query d:\\\\Tests\\\\NCBI_Dataset_Mycobacteria\\\\reference_proteins.faa -db max_prot -out blastp_results.csv -evalue 0.000000001 -seg no -outfmt \"10 qaccver saccver qlen slen pident length mismatch gapopen qstart qend sstart send sstrand evalue bitscore\" -num_threads 16', shell=True, capture_output = True)\n",
    "    os.chdir(w_d)"
   ]
  },
  {
   "cell_type": "code",
   "execution_count": 28,
   "id": "b4e84804-bbbe-4838-b85e-5743d0a0f501",
   "metadata": {},
   "outputs": [],
   "source": [
    "blast_results = pd.read_csv(\"D:\\\\BLAST\\\\maxprot\\\\blastp_results.csv\", header = None)\n",
    "blast_results.columns = ['query_accession_ver', 'subject_accession_ver', 'query_length', 'subject_length', 'percent_identical_matches','alignment_length', 'number_mismatches', 'number_of_gap_openings', 'query_start_alignment', 'query_end_alignment', 'subject_start_alignment', 'subject_end_alignment', 'subject_strand', 'e_value', 'bit_score']"
   ]
  },
  {
   "cell_type": "code",
   "execution_count": 29,
   "id": "2c38f7b8-7ec4-417b-992b-1d6aaf67dcd2",
   "metadata": {},
   "outputs": [],
   "source": [
    "blast_results = blast_results.query('subject_length == subject_end_alignment and query_length == query_end_alignment')\n",
    "blast_results = blast_results.query('not (subject_accession_ver.str.contains(@reference_species))')\n",
    "blast_results['query_info']=  blast_results['query_accession_ver'].map(morf_details_dict)\n",
    "blast_results['subject_info']=  blast_results['subject_accession_ver'].map(morf_details_dict)"
   ]
  },
  {
   "cell_type": "code",
   "execution_count": 30,
   "id": "cc5d66dd-c753-4dad-94c9-7372b1642c75",
   "metadata": {},
   "outputs": [],
   "source": [
    "for i, r in blast_results.iterrows():\n",
    "    blast_results.at[i, 'query_species'] = '_'.join(r.query_accession_ver.split('_')[:-1])\n",
    "    blast_results.at[i, 'subject_species'] = '_'.join(r.subject_accession_ver.split('_')[:-1])\n",
    "    if len(r.query_info) > 1:\n",
    "        blast_results.at[i, 'annotated_cds_in_query'] = 'Y'\n",
    "    else:\n",
    "        blast_results.at[i, 'annotated_cds_in_query'] = 'N'\n",
    "    if len(r.subject_info) > 1:\n",
    "        blast_results.at[i, 'annotated_cds_in_subject'] = 'Y'\n",
    "    else:\n",
    "        blast_results.at[i, 'annotated_cds_in_subject'] = 'N'\n",
    "    if r.query_info[0][2] == 1:\n",
    "        blast_results.at[i, 'query_start_pos'] = r.query_info[0][0] + (r.query_start_alignment - 1) * 3\n",
    "        blast_results.at[i, 'query_end_pos'] = r.query_info[0][0] + (r.query_end_alignment - 1) * 3 + 6 # doesn't include stop codon in blast\n",
    "    else:\n",
    "        blast_results.at[i, 'query_start_pos'] = r.query_info[0][0] + (r.query_end_alignment - r.query_length) * 3\n",
    "        blast_results.at[i, 'query_end_pos'] = r.query_info[0][1] - (r.query_start_alignment - 1) * 3\n",
    "       \n",
    "    if r.subject_info[0][2] == 1:\n",
    "        blast_results.at[i, 'subject_start_pos'] = r.subject_info[0][0] + (r.subject_start_alignment - 1) * 3\n",
    "        blast_results.at[i, 'subject_end_pos'] = r.subject_info[0][0] + (r.subject_end_alignment - 1) * 3 + 6 # doesn't include stop codon in blast\n",
    "    else:\n",
    "        blast_results.at[i, 'subject_start_pos'] = r.subject_info[0][0] + (r.subject_end_alignment - r.subject_length) * 3\n",
    "        blast_results.at[i, 'subject_end_pos'] = r.subject_info[0][1] - (r.subject_start_alignment - 1) * 3"
   ]
  },
  {
   "cell_type": "code",
   "execution_count": 31,
   "id": "4f4514c9-173e-43cf-9e44-e8f20e2897ca",
   "metadata": {},
   "outputs": [],
   "source": [
    "blast_results = blast_results.loc[blast_results.groupby(['query_accession_ver','subject_species'])['bit_score'].idxmax()]"
   ]
  },
  {
   "cell_type": "code",
   "execution_count": 32,
   "id": "f8dae06a-9fe7-46d0-bce8-b45a6cb153f6",
   "metadata": {},
   "outputs": [],
   "source": [
    "blast_results.to_csv(project_dir + '/temp.csv')"
   ]
  },
  {
   "cell_type": "code",
   "execution_count": 41,
   "id": "001f2bd8-57d1-4b8d-96e3-5f001ab887e8",
   "metadata": {},
   "outputs": [
    {
     "data": {
      "text/plain": [
       "<seaborn.axisgrid.FacetGrid at 0x1f1ad36be20>"
      ]
     },
     "execution_count": 41,
     "metadata": {},
     "output_type": "execute_result"
    },
    {
     "data": {
      "text/plain": [
       "<Figure size 1152x1152 with 0 Axes>"
      ]
     },
     "metadata": {},
     "output_type": "display_data"
    },
    {
     "data": {
      "image/png": "[encoded data removed]",
      "text/plain": [
       "<Figure size 432x432 with 4 Axes>"
      ]
     },
     "metadata": {
      "needs_background": "light"
     },
     "output_type": "display_data"
    }
   ],
   "source": [
    "plt.figure(figsize=(16, 16))\n",
    "g = sns.FacetGrid(blast_results, col='subject_species', row = 'annotated_cds_in_query')\n",
    "g.map(sns.scatterplot, 'subject_start_pos', 'query_start_pos', s=1)\n",
    "#sns.scatterplot(data = blast_results, y = 'subject_start_pos', x = 'query_start_pos', s=1, hue = 'annotated_cds_in_query')"
   ]
  },
  {
   "cell_type": "code",
   "execution_count": 35,
   "id": "e6b6e787-e489-4713-a13c-aba74f92f9ee",
   "metadata": {},
   "outputs": [
    {
     "data": {
      "text/html": [
       "<div>\n",
       "<style scoped>\n",
       "    .dataframe tbody tr th:only-of-type {\n",
       "        vertical-align: middle;\n",
       "    }\n",
       "\n",
       "    .dataframe tbody tr th {\n",
       "        vertical-align: top;\n",
       "    }\n",
       "\n",
       "    .dataframe thead th {\n",
       "        text-align: right;\n",
       "    }\n",
       "</style>\n",
       "<table border=\"1\" class=\"dataframe\">\n",
       "  <thead>\n",
       "    <tr style=\"text-align: right;\">\n",
       "      <th></th>\n",
       "      <th></th>\n",
       "      <th>query_accession_ver</th>\n",
       "      <th>subject_accession_ver</th>\n",
       "      <th>query_length</th>\n",
       "      <th>subject_length</th>\n",
       "      <th>percent_identical_matches</th>\n",
       "      <th>alignment_length</th>\n",
       "      <th>number_mismatches</th>\n",
       "      <th>number_of_gap_openings</th>\n",
       "      <th>query_start_alignment</th>\n",
       "      <th>query_end_alignment</th>\n",
       "      <th>...</th>\n",
       "      <th>e_value</th>\n",
       "      <th>bit_score</th>\n",
       "      <th>query_info</th>\n",
       "      <th>subject_info</th>\n",
       "      <th>query_species</th>\n",
       "      <th>annotated_cds_in_subject</th>\n",
       "      <th>query_start_pos</th>\n",
       "      <th>query_end_pos</th>\n",
       "      <th>subject_start_pos</th>\n",
       "      <th>subject_end_pos</th>\n",
       "    </tr>\n",
       "    <tr>\n",
       "      <th>subject_species</th>\n",
       "      <th>annotated_cds_in_query</th>\n",
       "      <th></th>\n",
       "      <th></th>\n",
       "      <th></th>\n",
       "      <th></th>\n",
       "      <th></th>\n",
       "      <th></th>\n",
       "      <th></th>\n",
       "      <th></th>\n",
       "      <th></th>\n",
       "      <th></th>\n",
       "      <th></th>\n",
       "      <th></th>\n",
       "      <th></th>\n",
       "      <th></th>\n",
       "      <th></th>\n",
       "      <th></th>\n",
       "      <th></th>\n",
       "      <th></th>\n",
       "      <th></th>\n",
       "      <th></th>\n",
       "      <th></th>\n",
       "    </tr>\n",
       "  </thead>\n",
       "  <tbody>\n",
       "    <tr>\n",
       "      <th rowspan=\"2\" valign=\"top\">GCF_000157895.3</th>\n",
       "      <th>N</th>\n",
       "      <td>1867</td>\n",
       "      <td>1867</td>\n",
       "      <td>1867</td>\n",
       "      <td>1867</td>\n",
       "      <td>1867</td>\n",
       "      <td>1867</td>\n",
       "      <td>1867</td>\n",
       "      <td>1867</td>\n",
       "      <td>1867</td>\n",
       "      <td>1867</td>\n",
       "      <td>...</td>\n",
       "      <td>1867</td>\n",
       "      <td>1867</td>\n",
       "      <td>1867</td>\n",
       "      <td>1867</td>\n",
       "      <td>1867</td>\n",
       "      <td>1867</td>\n",
       "      <td>1867</td>\n",
       "      <td>1867</td>\n",
       "      <td>1867</td>\n",
       "      <td>1867</td>\n",
       "    </tr>\n",
       "    <tr>\n",
       "      <th>Y</th>\n",
       "      <td>1675</td>\n",
       "      <td>1675</td>\n",
       "      <td>1675</td>\n",
       "      <td>1675</td>\n",
       "      <td>1675</td>\n",
       "      <td>1675</td>\n",
       "      <td>1675</td>\n",
       "      <td>1675</td>\n",
       "      <td>1675</td>\n",
       "      <td>1675</td>\n",
       "      <td>...</td>\n",
       "      <td>1675</td>\n",
       "      <td>1675</td>\n",
       "      <td>1675</td>\n",
       "      <td>1675</td>\n",
       "      <td>1675</td>\n",
       "      <td>1675</td>\n",
       "      <td>1675</td>\n",
       "      <td>1675</td>\n",
       "      <td>1675</td>\n",
       "      <td>1675</td>\n",
       "    </tr>\n",
       "    <tr>\n",
       "      <th rowspan=\"2\" valign=\"top\">GCF_010730055.1</th>\n",
       "      <th>N</th>\n",
       "      <td>2615</td>\n",
       "      <td>2615</td>\n",
       "      <td>2615</td>\n",
       "      <td>2615</td>\n",
       "      <td>2615</td>\n",
       "      <td>2615</td>\n",
       "      <td>2615</td>\n",
       "      <td>2615</td>\n",
       "      <td>2615</td>\n",
       "      <td>2615</td>\n",
       "      <td>...</td>\n",
       "      <td>2615</td>\n",
       "      <td>2615</td>\n",
       "      <td>2615</td>\n",
       "      <td>2615</td>\n",
       "      <td>2615</td>\n",
       "      <td>2615</td>\n",
       "      <td>2615</td>\n",
       "      <td>2615</td>\n",
       "      <td>2615</td>\n",
       "      <td>2615</td>\n",
       "    </tr>\n",
       "    <tr>\n",
       "      <th>Y</th>\n",
       "      <td>1743</td>\n",
       "      <td>1743</td>\n",
       "      <td>1743</td>\n",
       "      <td>1743</td>\n",
       "      <td>1743</td>\n",
       "      <td>1743</td>\n",
       "      <td>1743</td>\n",
       "      <td>1743</td>\n",
       "      <td>1743</td>\n",
       "      <td>1743</td>\n",
       "      <td>...</td>\n",
       "      <td>1743</td>\n",
       "      <td>1743</td>\n",
       "      <td>1743</td>\n",
       "      <td>1743</td>\n",
       "      <td>1743</td>\n",
       "      <td>1743</td>\n",
       "      <td>1743</td>\n",
       "      <td>1743</td>\n",
       "      <td>1743</td>\n",
       "      <td>1743</td>\n",
       "    </tr>\n",
       "  </tbody>\n",
       "</table>\n",
       "<p>4 rows × 23 columns</p>\n",
       "</div>"
      ],
      "text/plain": [
       "                                        query_accession_ver  \\\n",
       "subject_species annotated_cds_in_query                        \n",
       "GCF_000157895.3 N                                      1867   \n",
       "                Y                                      1675   \n",
       "GCF_010730055.1 N                                      2615   \n",
       "                Y                                      1743   \n",
       "\n",
       "                                        subject_accession_ver  query_length  \\\n",
       "subject_species annotated_cds_in_query                                        \n",
       "GCF_000157895.3 N                                        1867          1867   \n",
       "                Y                                        1675          1675   \n",
       "GCF_010730055.1 N                                        2615          2615   \n",
       "                Y                                        1743          1743   \n",
       "\n",
       "                                        subject_length  \\\n",
       "subject_species annotated_cds_in_query                   \n",
       "GCF_000157895.3 N                                 1867   \n",
       "                Y                                 1675   \n",
       "GCF_010730055.1 N                                 2615   \n",
       "                Y                                 1743   \n",
       "\n",
       "                                        percent_identical_matches  \\\n",
       "subject_species annotated_cds_in_query                              \n",
       "GCF_000157895.3 N                                            1867   \n",
       "                Y                                            1675   \n",
       "GCF_010730055.1 N                                            2615   \n",
       "                Y                                            1743   \n",
       "\n",
       "                                        alignment_length  number_mismatches  \\\n",
       "subject_species annotated_cds_in_query                                        \n",
       "GCF_000157895.3 N                                   1867               1867   \n",
       "                Y                                   1675               1675   \n",
       "GCF_010730055.1 N                                   2615               2615   \n",
       "                Y                                   1743               1743   \n",
       "\n",
       "                                        number_of_gap_openings  \\\n",
       "subject_species annotated_cds_in_query                           \n",
       "GCF_000157895.3 N                                         1867   \n",
       "                Y                                         1675   \n",
       "GCF_010730055.1 N                                         2615   \n",
       "                Y                                         1743   \n",
       "\n",
       "                                        query_start_alignment  \\\n",
       "subject_species annotated_cds_in_query                          \n",
       "GCF_000157895.3 N                                        1867   \n",
       "                Y                                        1675   \n",
       "GCF_010730055.1 N                                        2615   \n",
       "                Y                                        1743   \n",
       "\n",
       "                                        query_end_alignment  ...  e_value  \\\n",
       "subject_species annotated_cds_in_query                       ...            \n",
       "GCF_000157895.3 N                                      1867  ...     1867   \n",
       "                Y                                      1675  ...     1675   \n",
       "GCF_010730055.1 N                                      2615  ...     2615   \n",
       "                Y                                      1743  ...     1743   \n",
       "\n",
       "                                        bit_score  query_info  subject_info  \\\n",
       "subject_species annotated_cds_in_query                                        \n",
       "GCF_000157895.3 N                            1867        1867          1867   \n",
       "                Y                            1675        1675          1675   \n",
       "GCF_010730055.1 N                            2615        2615          2615   \n",
       "                Y                            1743        1743          1743   \n",
       "\n",
       "                                        query_species  \\\n",
       "subject_species annotated_cds_in_query                  \n",
       "GCF_000157895.3 N                                1867   \n",
       "                Y                                1675   \n",
       "GCF_010730055.1 N                                2615   \n",
       "                Y                                1743   \n",
       "\n",
       "                                        annotated_cds_in_subject  \\\n",
       "subject_species annotated_cds_in_query                             \n",
       "GCF_000157895.3 N                                           1867   \n",
       "                Y                                           1675   \n",
       "GCF_010730055.1 N                                           2615   \n",
       "                Y                                           1743   \n",
       "\n",
       "                                        query_start_pos  query_end_pos  \\\n",
       "subject_species annotated_cds_in_query                                   \n",
       "GCF_000157895.3 N                                  1867           1867   \n",
       "                Y                                  1675           1675   \n",
       "GCF_010730055.1 N                                  2615           2615   \n",
       "                Y                                  1743           1743   \n",
       "\n",
       "                                        subject_start_pos  subject_end_pos  \n",
       "subject_species annotated_cds_in_query                                      \n",
       "GCF_000157895.3 N                                    1867             1867  \n",
       "                Y                                    1675             1675  \n",
       "GCF_010730055.1 N                                    2615             2615  \n",
       "                Y                                    1743             1743  \n",
       "\n",
       "[4 rows x 23 columns]"
      ]
     },
     "execution_count": 35,
     "metadata": {},
     "output_type": "execute_result"
    }
   ],
   "source": [
    "blast_results.groupby(['subject_species','annotated_cds_in_query']).count()"
   ]
  },
  {
   "cell_type": "code",
   "execution_count": 22,
   "id": "c239ce95-a0ca-4eaa-a081-ed0fb47dcf1c",
   "metadata": {},
   "outputs": [],
   "source": [
    "'_'.join('GCF_000195955.2_0'.split('_')[:-1])"
   ]
  },
  {
   "cell_type": "code",
   "execution_count": 22,
   "id": "e1025fad-b9b7-4cb2-a1d8-adefeecbf551",
   "metadata": {},
   "outputs": [
    {
     "data": {
      "text/plain": [
       "'GCF_000195955.2'"
      ]
     },
     "execution_count": 22,
     "metadata": {},
     "output_type": "execute_result"
    }
   ],
   "source": []
  },
  {
   "cell_type": "code",
   "execution_count": null,
   "id": "83b89c2a-4ea7-46bb-bcb1-dedc7347b653",
   "metadata": {},
   "outputs": [],
   "source": []
  }
 ],
 "metadata": {
  "kernelspec": {
   "display_name": "Python 3 (ipykernel)",
   "language": "python",
   "name": "python3"
  },
  "language_info": {
   "codemirror_mode": {
    "name": "ipython",
    "version": 3
   },
   "file_extension": ".py",
   "mimetype": "text/x-python",
   "name": "python",
   "nbconvert_exporter": "python",
   "pygments_lexer": "ipython3",
   "version": "3.9.7"
  }
 },
 "nbformat": 4,
 "nbformat_minor": 5
}
