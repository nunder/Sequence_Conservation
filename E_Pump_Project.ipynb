{
 "cells": [
  {
   "cell_type": "markdown",
   "id": "b1e30ed4-8a0e-4a6f-96eb-dfe116dfb2de",
   "metadata": {},
   "source": [
    "#### Directories etc"
   ]
  },
  {
   "cell_type": "code",
   "execution_count": 1,
   "id": "cf9c6377-5080-4c22-94db-feabe17cc47c",
   "metadata": {},
   "outputs": [],
   "source": [
    "import pandas as pd\n",
    "import pickle\n",
    "import seaborn as sns\n",
    "import matplotlib.pyplot as plt\n",
    "import numpy as np\n",
    "from Bio import Entrez, SeqIO, AlignIO, pairwise2, Align, Seq, motifs\n",
    "from Bio.Seq import Seq\n",
    "from Bio.SeqFeature import SeqFeature, FeatureLocation\n",
    "from scipy.stats import binom\n",
    "import math\n",
    "import random\n",
    "from tqdm import tqdm\n",
    "from Comparative_Analysis import Utilities as util\n",
    "import random\n",
    "from joblib import Parallel, delayed\n",
    "from Comparative_Analysis import Blast_Functions as blastfn\n",
    "import time\n",
    "import os\n",
    "import copy\n",
    "from Comparative_Analysis import ORF_Functions as orffn\n",
    "from Comparative_Analysis import Alignment as alignfn\n",
    "from random import sample\n",
    "from Bio.Align.Applications import MuscleCommandline\n",
    "pd.options.mode.chained_assignment = None  # default='warn'"
   ]
  },
  {
   "cell_type": "code",
   "execution_count": 2,
   "id": "1988a242-f558-4643-b3a9-27272fa7bebc",
   "metadata": {},
   "outputs": [],
   "source": [
    "project_dir = 'F:/Project_Data/E_Pump_Project'\n",
    "seq_dir = 'F:/Datasets/NCBI_Refseq_Mycobacteriaceae_All_Levels/ncbi_dataset/data'\n",
    "tb_species = 'NC_000962.3' \n",
    "tb_annotation_dirname = 'GCF_000195955.2'\n",
    "num_cores = 16\n",
    "core_numbers = list(range(1, num_cores+1))\n",
    "muscle_exe = 'C:/Users/nicho/Muscle/muscle3.8.31_i86win32.exe'\n",
    "full_build = False"
   ]
  },
  {
   "cell_type": "markdown",
   "id": "198ce0ae-2b01-482b-83cb-93c720537916",
   "metadata": {},
   "source": [
    "#### Create file with all CDS for species and create BLAST database"
   ]
  },
  {
   "cell_type": "code",
   "execution_count": 47,
   "id": "b81a083b-c044-4c9b-ab7e-11d76104027f",
   "metadata": {
    "tags": []
   },
   "outputs": [
    {
     "data": {
      "text/plain": [
       "1116061"
      ]
     },
     "execution_count": 47,
     "metadata": {},
     "output_type": "execute_result"
    }
   ],
   "source": [
    "sequence_dirs = util.list_dirs(seq_dir)\n",
    "len(sequence_dirs)\n",
    "len(all_cds)"
   ]
  },
  {
   "cell_type": "code",
   "execution_count": 4,
   "id": "da0e6803-a65b-4049-b732-7637ddbaa7f0",
   "metadata": {
    "tags": []
   },
   "outputs": [],
   "source": [
    "loci = ['Rv0451c', 'Rv0450c', 'Rv0452']"
   ]
  },
  {
   "cell_type": "code",
   "execution_count": 7,
   "id": "6068fd3f-1e3d-4bd4-b1ac-ef4c7a190fd4",
   "metadata": {
    "tags": []
   },
   "outputs": [],
   "source": [
    "def generate_protein_dataset(num_subsets, subset_num, dir_list): \n",
    "    sequence_dirs = util.chunk_list(dir_list, num_subsets, subset_num)\n",
    "    tb_cds = []\n",
    "    all_cds = []\n",
    "    names = []\n",
    "    sequences = []\n",
    "    locations = []\n",
    "    for dirname in (sequence_dirs):\n",
    "        for genome_record in SeqIO.parse(seq_dir + '/' + dirname + '/genomic.gbff', \"genbank\"):\n",
    "            accession_ver = genome_record.annotations['accessions'][0] + '.' + str(genome_record.annotations['sequence_version'])\n",
    "            names.append([accession_ver, genome_record.annotations['organism']])\n",
    "            full_sequence = str(genome_record.seq)\n",
    "            sequences.append([accession_ver, full_sequence])\n",
    "            for feature in genome_record.features:\n",
    "                a = feature.qualifiers\n",
    "                if feature.type == 'CDS' and a.get(\"translation\") != None:\n",
    "                    locus_tag = a.get(\"locus_tag\")[0]\n",
    "                    accession_locus = accession_ver + '@' + locus_tag\n",
    "                    translation = a.get(\"translation\")[0]\n",
    "                    (start, stop, strand) = (int(feature.location.start), int(feature.location.end), int(feature.location.strand))\n",
    "                    locations.append([accession_locus, (start, stop, strand)])\n",
    "                    all_cds.append([accession_locus, translation])\n",
    "                    if dirname == tb_annotation_dirname and locus_tag in loci:\n",
    "                        tb_cds.append([accession_locus, translation])\n",
    "    return (all_cds, tb_cds, names, locations, sequences)           "
   ]
  },
  {
   "cell_type": "code",
   "execution_count": 9,
   "id": "542f0742-7686-4b24-808f-787faa247c21",
   "metadata": {
    "tags": []
   },
   "outputs": [],
   "source": [
    "if full_build == True:\n",
    "#if 1==1:\n",
    "    parallel_output = Parallel(n_jobs=-1)(delayed(generate_protein_dataset)(num_cores, core_number, sequence_dirs) for core_number in core_numbers)\n",
    "    names_dict = {}\n",
    "    locations_dict = {}\n",
    "    sequence_dict = {}\n",
    "    all_cds = []\n",
    "    tb_cds = []\n",
    "    for x in parallel_output:\n",
    "        all_cds += x[0]\n",
    "        tb_cds += x[1]\n",
    "        for temp in x[2]:\n",
    "            names_dict[temp[0]] = temp[1]\n",
    "        for temp in x[3]:\n",
    "            locations_dict[temp[0]] = temp[1]\n",
    "        for temp in x[4]:\n",
    "            sequence_dict[temp[0]] = temp[1]"
   ]
  },
  {
   "cell_type": "code",
   "execution_count": 10,
   "id": "25523780-1ca0-4e60-a974-51d758faf601",
   "metadata": {
    "tags": []
   },
   "outputs": [],
   "source": [
    "if full_build == True:\n",
    "    util.produce_fasta_file(all_cds, project_dir + '/all_cds.fasta')\n",
    "    util.produce_fasta_file(tb_cds, project_dir + '/tb_cds.fasta')\n",
    "    blastfn.build_blast_db(project_dir, 'all_cds.fasta', 'Mycobacteriaceae_Refseq', 'F:/Datasets/BLAST/Mycobacteriaceae_Refseq')\n",
    "    blastfn.build_blast_db(project_dir, 'tb_cds.fasta', 'E_Pump_CDS', 'F:/Datasets/BLAST/E_Pump_CDS')"
   ]
  },
  {
   "cell_type": "code",
   "execution_count": 11,
   "id": "34b9d7b2-6447-4fa7-b141-344b9138ca8b",
   "metadata": {
    "tags": []
   },
   "outputs": [],
   "source": [
    "if full_build == True:\n",
    "    blastfn.run_blastp('F:/Datasets/BLAST/Mycobacteriaceae_Refseq', 'tb_cds.fasta', 'Mycobacteriaceae_Refseq', 'tb_cds_hits.csv', e_value = 1e-10)\n",
    "    blastfn.run_blastp('F:/Datasets/BLAST/E_Pump_CDS', 'all_cds.fasta', 'E_Pump_CDS', 'reverse_hits.csv', e_value = 1e-10)"
   ]
  },
  {
   "cell_type": "code",
   "execution_count": 56,
   "id": "9aaf6f56-f9f1-4761-a909-bacf02ac47f4",
   "metadata": {
    "tags": []
   },
   "outputs": [],
   "source": [
    "a = blastfn.process_blast_output('F:/Datasets/BLAST/Mycobacteriaceae_Refseq/tb_cds_hits.csv', names_dict, top_hit_only = False)\n",
    "a = a.loc[a.groupby(['query_ref','target_species_name'])['bit_score'].idxmax()]     # Utility top hit method uses accession ver which can differ if multiple sets exist per species in fragmented annotations\n",
    "b = blastfn.process_blast_output('F:/Datasets/BLAST/E_Pump_CDS/reverse_hits.csv', names_dict, top_hit_only = False)\n",
    "b = b.loc[b.groupby(['query_ref','target_species_name'])['bit_score'].idxmax()] \n",
    "rbh =  blastfn.keep_reciprocal_best_hits(a, b)"
   ]
  },
  {
   "cell_type": "code",
   "execution_count": 58,
   "id": "d9936af3-00f2-4f61-94c5-4e7c29d0a4fe",
   "metadata": {
    "tags": []
   },
   "outputs": [
    {
     "data": {
      "text/plain": [
       "19"
      ]
     },
     "execution_count": 58,
     "metadata": {},
     "output_type": "execute_result"
    }
   ],
   "source": [
    "len(list(rbh['target_species_name'].unique()))"
   ]
  },
  {
   "cell_type": "code",
   "execution_count": 57,
   "id": "434dca00-edb3-42a5-b42d-fb9df6a8cb70",
   "metadata": {
    "tags": []
   },
   "outputs": [],
   "source": [
    "rbh['target_loc'] = rbh['target_ref'].map(locations_dict)\n",
    "rbh['cds_count'] = rbh.groupby('target_species_name')['query_ref'].transform('size')\n",
    "rbh['min_pct_id'] = rbh.groupby('target_species_name')['percent_identical_matches'].transform('min')\n",
    "rbh = rbh[rbh['cds_count'] == 3]\n",
    "for i, r in rbh.iterrows():\n",
    "    (start, stop, strand) = r['target_loc']\n",
    "    rbh.at[i,'start'] = start\n",
    "    rbh.at[i,'stop'] =  stop\n",
    "    rbh.at[i,'strand'] = strand\n",
    "rbh['min_start'] = rbh.groupby('target_species_name')['start'].transform('min')\n",
    "rbh['max_stop'] = rbh.groupby('target_species_name')['stop'].transform('max')\n",
    "rbh['region_size'] = rbh['max_stop'] - rbh['min_start']\n",
    "rbh = rbh[rbh['region_size'] < 5000]\n",
    "rbh = rbh[rbh['min_pct_id'] >= 80]\n",
    "rbh.to_csv(project_dir + '/reciprocal_best_hits.csv')"
   ]
  },
  {
   "cell_type": "code",
   "execution_count": 26,
   "id": "5dacbcbd-56f5-4857-8c1d-ef781c701e3c",
   "metadata": {
    "tags": []
   },
   "outputs": [
    {
     "name": "stdout",
     "output_type": "stream",
     "text": [
      "Mycobacterium attenuatum (48680, 49020, -1)\n",
      "Mycobacterium basiliense (748594, 748891, -1)\n",
      "Mycobacterium canettii CIPT 140010059 (552190, 552424, -1)\n",
      "Mycobacterium decipiens (235054, 235252, 1)\n",
      "Mycobacterium gastri (4687, 5006, 1)\n",
      "Mycobacterium innocens (13755, 14137, -1)\n",
      "Mycobacterium intermedium (13287, 13640, -1)\n",
      "Mycobacterium kansasii ATCC 12478 (3978808, 3979155, -1)\n",
      "Mycobacterium lacus (3937505, 3937835, 1)\n",
      "Mycobacterium marinum (2347680, 2348049, -1)\n",
      "Mycobacterium ostraviense (4846888, 4847225, 1)\n",
      "Mycobacterium persicum (3848616, 3848956, -1)\n",
      "Mycobacterium pseudokansasii (691242, 691597, -1)\n",
      "Mycobacterium pseudoshottsii JCM 15466 (983982, 984351, -1)\n",
      "Mycobacterium riyadhense (5455021, 5455277, 1)\n",
      "Mycobacterium shinjukuense (3257603, 3257841, 1)\n",
      "Mycobacterium shottsii (2404843, 2405212, -1)\n",
      "Mycobacterium simulans (441647, 441928, 1)\n",
      "Mycobacterium tuberculosis H37Rv (541907, 542141, -1)\n"
     ]
    }
   ],
   "source": [
    "intergenic_regions = []\n",
    "for target_species in list(rbh['target_species_name'].unique()):\n",
    "    temp = rbh[rbh['target_species_name'] == target_species]\n",
    "    for i, r in temp.iterrows():\n",
    "        target_species_accession = r['target_species']\n",
    "        if r['query_ref'].split('@')[1] == 'Rv0451c':\n",
    "            Rv_0451c_coords = r['target_loc']\n",
    "        if r['query_ref'].split('@')[1] == 'Rv0452':\n",
    "            Rv_0452_coords = r['target_loc']\n",
    "    if Rv_0451c_coords[2] == 1:\n",
    "        intergenic_region = (Rv_0452_coords[1], Rv_0451c_coords[0]+3, 1)\n",
    "    else:\n",
    "        intergenic_region = (Rv_0451c_coords[1] - 3, Rv_0452_coords[0], -1)\n",
    "    if intergenic_region[2] == 1:\n",
    "        intergenic_sequence = sequence_dict[target_species_accession][intergenic_region[0]: intergenic_region[1]]\n",
    "    else:\n",
    "        intergenic_sequence = util.reverse_complement(sequence_dict[target_species_accession][intergenic_region[0]: intergenic_region[1]])\n",
    "    print(target_species, intergenic_region)\n",
    "    intergenic_regions.append([target_species.replace(\" \", \"_\"), intergenic_sequence])"
   ]
  },
  {
   "cell_type": "code",
   "execution_count": 27,
   "id": "e55afa33-3d6b-4198-8d9e-397d75703c1c",
   "metadata": {
    "tags": []
   },
   "outputs": [
    {
     "name": "stderr",
     "output_type": "stream",
     "text": [
      "100%|██████████| 19/19 [00:00<?, ?it/s]\n"
     ]
    }
   ],
   "source": [
    "util.produce_fasta_file(intergenic_regions, project_dir +'/intergenic_regions.fasta')\n",
    "cline = MuscleCommandline(muscle_exe, input= project_dir +'/intergenic_regions.fasta', out=project_dir + '/intergenic_region_alignment.fasta')\n",
    "result = cline();"
   ]
  },
  {
   "cell_type": "code",
   "execution_count": 17,
   "id": "c5614aa6-519d-479a-ad9c-8e2b4c783cbb",
   "metadata": {
    "tags": []
   },
   "outputs": [],
   "source": [
    "blastfn.convert_fasta_to_stockholm(project_dir, 'intergenic_region_alignment.fasta', 'intergenic_region_alignment.sto')"
   ]
  },
  {
   "cell_type": "code",
   "execution_count": 18,
   "id": "912d963f-3888-4afe-8024-8f8a6c1a6fa7",
   "metadata": {
    "tags": []
   },
   "outputs": [],
   "source": [
    "blastfn.run_rscape(project_dir, 'intergenic_region_alignment.sto', 'rscape_output')"
   ]
  },
  {
   "cell_type": "code",
   "execution_count": 40,
   "id": "2f6faf1b-3f17-4b7d-8a98-a6c43dfe0751",
   "metadata": {
    "tags": []
   },
   "outputs": [],
   "source": [
    "a = (sequence_dict[tb_species][542141:542852])"
   ]
  },
  {
   "cell_type": "code",
   "execution_count": 46,
   "id": "888e9832-e0eb-486b-af07-5cc5627c7106",
   "metadata": {},
   "outputs": [
    {
     "name": "stdout",
     "output_type": "stream",
     "text": [
      "TTTTGTGATC\n",
      "TTTGTGATCT\n",
      "TTTGCTGCCG\n"
     ]
    }
   ],
   "source": [
    "for i in range(len(a) - 3):\n",
    "    if a[i:i+3] == 'TTT':\n",
    "        print(a[i:i+10])\n"
   ]
  },
  {
   "cell_type": "code",
   "execution_count": 45,
   "id": "fd3ef7a1-3f3a-4893-a017-1a0aa55fdc8b",
   "metadata": {},
   "outputs": [
    {
     "data": {
      "text/plain": [
       "'TGC'"
      ]
     },
     "execution_count": 45,
     "metadata": {},
     "output_type": "execute_result"
    }
   ],
   "source": [
    "a[1:4]"
   ]
  },
  {
   "cell_type": "markdown",
   "id": "a68bc4bc-dbbe-48fe-a8e8-9da2ead8e069",
   "metadata": {},
   "source": [
    "#### Set up dataframe with annotated (based on PGP run) M.tb feature boundaries and Mycobrowser M.tb feature boundaries"
   ]
  },
  {
   "cell_type": "markdown",
   "id": "e2683970-7a45-419b-875a-0ca44f8b7a66",
   "metadata": {},
   "source": [
    "#### Produce FASTA file with CDS candidates"
   ]
  },
  {
   "cell_type": "code",
   "execution_count": null,
   "id": "c6cc8d95-2c86-40da-b2e3-6e8a582a7c12",
   "metadata": {},
   "outputs": [],
   "source": [
    "util.produce_fasta_file(all_cds, project_dir + '/all_cds.fasta')\n",
    "util.produce_fasta_file(tb_cds, project_dir + '/tb_cds.fasta')"
   ]
  },
  {
   "cell_type": "code",
   "execution_count": null,
   "id": "ddf0dfcc-4365-49d6-8659-bd36ce52cafa",
   "metadata": {},
   "outputs": [],
   "source": [
    "blastfn.build_blast_db(project_dir, 'all_cds.fasta', 'all_cds', 'F:/Datasets/BLAST/all_cds')\n",
    "blastfn.build_blast_db(project_dir, 'tb_cds.fasta', 'tb_cds', 'F:/Datasets/BLAST/tb_cds')"
   ]
  },
  {
   "cell_type": "code",
   "execution_count": null,
   "id": "0c14d7e7-144e-45d0-9044-f10e9b41f74c",
   "metadata": {},
   "outputs": [],
   "source": [
    "blastfn.run_blastp('F:/Datasets/BLAST/all_cds', 'tb_cds.fasta', 'all_cds', 'tb_cds_hits.csv', e_value = 1e-10)"
   ]
  },
  {
   "cell_type": "markdown",
   "id": "863fd81e-4857-45be-9760-ddd0daaf0f7f",
   "metadata": {},
   "source": [
    "#### Analyse CDS orthologs in target species"
   ]
  },
  {
   "cell_type": "code",
   "execution_count": null,
   "id": "e1371e94-c64b-4122-9f53-896949bbe6e2",
   "metadata": {},
   "outputs": [],
   "source": [
    "blast_output = blastfn.process_blast_output('F:/Datasets/BLAST/all_cds/tb_cds_hits.csv', names_dict, top_hit_only = False)"
   ]
  },
  {
   "cell_type": "code",
   "execution_count": null,
   "id": "42a2d369-f470-4c68-ad27-6c5f367d814a",
   "metadata": {},
   "outputs": [],
   "source": [
    "test = blast_output #blast_output[blast_output['target_species_name'] == 'Mycobacterium marinum'];\n",
    "test['num_identical_matches'] = test['alignment_length'] * test['percent_identical_matches']/100;\n",
    "test['max_identical_query_matches'] = test.groupby(['query_ref', 'target_species'])['num_identical_matches'].transform('max');\n",
    "test['max_identical_target_matches'] = test.groupby('target_ref')['num_identical_matches'].transform('max');\n",
    "test = test[test['num_identical_matches']>0.9999*test['max_identical_query_matches']]\n",
    "test = test[test['num_identical_matches']>0.9999*test['max_identical_target_matches']]\n",
    "test['count_matches'] = test.groupby('query_ref')['target_ref'].transform('count');\n",
    "test['upstream_sequence'] = test['target_ref'].map(upstream_seq_dict)\n",
    "test['annotated_translation'] = test['target_ref'].map(annotated_orf_translation_dict)\n",
    "test['maximal_translation'] = test['target_ref'].map(maximal_orf_translation_dict)\n",
    "test.to_csv(project_dir + '/test.csv')"
   ]
  },
  {
   "cell_type": "code",
   "execution_count": null,
   "id": "dba2eeeb-52fa-4070-ad3f-4da219538e96",
   "metadata": {},
   "outputs": [],
   "source": [
    "query_refs = [tb_species + '@' + locus for locus in loci]"
   ]
  },
  {
   "cell_type": "code",
   "execution_count": null,
   "id": "4eb88547-211c-40ad-bd6d-20da134ccc8b",
   "metadata": {},
   "outputs": [],
   "source": [
    "for ref in query_refs:\n",
    "    print(ref)\n",
    "    sequences = []\n",
    "    temp = test[test['query_ref'] == ref]\n",
    "    for i, r in temp.iterrows():\n",
    "        sequences.append([r['target_ref'], r['upstream_sequence']])\n",
    "    util.produce_fasta_file(sequences, project_dir + '/sequences_to_align.faa')\n",
    "    cline = MuscleCommandline(muscle_exe, input= project_dir+'/'+ '/sequences_to_align.faa', out=project_dir + '/align_output_'+ref )\n",
    "    result = cline();"
   ]
  },
  {
   "cell_type": "code",
   "execution_count": null,
   "id": "af275d98-6ced-4e3a-9326-ff32d80779c5",
   "metadata": {},
   "outputs": [],
   "source": [
    "query_ref = 'NC_000962.3@Rv1410c'\n",
    "align = alignfn.Alignment(project_dir + '/align_output_'+query_ref, query_ref, 'NT', insert_symbol = '-', species_order = [])"
   ]
  },
  {
   "cell_type": "code",
   "execution_count": null,
   "id": "071136ee-b362-44d3-9978-50ca07347218",
   "metadata": {},
   "outputs": [],
   "source": [
    "align.calculate_entropies(modified=False)"
   ]
  },
  {
   "cell_type": "code",
   "execution_count": null,
   "id": "9d35f407-190a-4600-b7a9-65bd180bc1b8",
   "metadata": {},
   "outputs": [],
   "source": [
    "align.sequence_list"
   ]
  },
  {
   "cell_type": "code",
   "execution_count": null,
   "id": "f0dd45db-b728-4664-827f-c51acfdf0438",
   "metadata": {},
   "outputs": [],
   "source": [
    "sns.scatterplot(data = temp_df, x = 'query_1_start', y = 'target_1_start', s=1)"
   ]
  },
  {
   "cell_type": "code",
   "execution_count": null,
   "id": "bd10a4cf-dde4-49df-a3b7-af30cba714ab",
   "metadata": {},
   "outputs": [],
   "source": [
    "test.to_csv(project_dir + '/test.csv')"
   ]
  },
  {
   "cell_type": "code",
   "execution_count": null,
   "id": "c4361575-18ad-4465-b10f-312520df24c9",
   "metadata": {},
   "outputs": [],
   "source": [
    "sns.scatterplot(data = test, x  = 'tb_start', y = 'target_start', s=1 )"
   ]
  },
  {
   "cell_type": "code",
   "execution_count": null,
   "id": "b14edf3b-c9b9-4966-a29a-db6fd199f483",
   "metadata": {},
   "outputs": [],
   "source": [
    "sns.histplot(data = test, x = 'percent_identical_matches')"
   ]
  },
  {
   "cell_type": "markdown",
   "id": "61ab8568-1a2c-43c6-b96b-c670c5153c19",
   "metadata": {},
   "source": [
    "#### Analyse interfeature orthologs in target species"
   ]
  },
  {
   "cell_type": "code",
   "execution_count": null,
   "id": "6e062a8f-2b1c-442d-8bf7-5f67bd79a966",
   "metadata": {},
   "outputs": [],
   "source": [
    "prob_dict = {}\n",
    "for (start, stop, strand, length, prob) in mycobrowser_inter_feature_orf_probabilities:\n",
    "    prob_dict[(start, stop, strand)] = prob"
   ]
  },
  {
   "cell_type": "code",
   "execution_count": null,
   "id": "95054873-7b43-4c68-81f6-c1f3a7602f85",
   "metadata": {},
   "outputs": [],
   "source": [
    "if_blast_output = blastfn.process_blast_output('F:/Datasets/BLAST/comparator_orfs/if_hits.csv', organism_name_dict, top_hit_only = False)\n",
    "if_test = if_blast_output[if_blast_output['target_species_name'] == 'Mycobacterium marinum'];\n",
    "if_test['Overlap'] = 0\n",
    "if_test['Genbank_Coordinates'] = ''\n",
    "\n",
    "for i, r in tqdm(if_test.iterrows()):\n",
    "    start = int(r['query_ref'].split('@')[1].split('_')[0])\n",
    "    stop = int(r['query_ref'].split('@')[1].split('_')[1])\n",
    "    strand = int(r['query_ref'].split('@')[1].split('_')[2])\n",
    "    if_test.at[i,'probability'] = prob_dict[(start, stop, strand)]\n",
    "    highest_overlap = 0\n",
    "    hit = 0\n",
    "    for feature in genbank_cds_boundaries:\n",
    "            if start <= feature[1] and stop >= feature[0]:\n",
    "                overlap = (min(stop, feature[1]) - max(start, feature[0]))/(stop - start)\n",
    "                if overlap > highest_overlap:\n",
    "                    hit = 1\n",
    "                    highest_overlap = overlap\n",
    "                    highest_entry = feature\n",
    "    if hit == 1:\n",
    "        if_test.at[i,'Overlap'] = highest_overlap\n",
    "        if_test.at[i,'Genbank_Coordinates'] = highest_entry\n",
    "if_test = if_test[abs(if_test['query_length'] - if_test['query_end_alignment']) < 3]\n",
    "if_test = if_test[abs(if_test['subject_length'] - if_test['target_end_alignment']) < 3]\n",
    "if_test.to_csv(project_dir + '/if_test_2.csv')"
   ]
  },
  {
   "cell_type": "code",
   "execution_count": null,
   "id": "a9b83959-05b3-4bdc-9668-4ed95c633c6d",
   "metadata": {},
   "outputs": [],
   "source": [
    "of = orffn.H37Rv_ORF_Finder()\n",
    "print(of.mutation_count_list[4056047:4056344])\n",
    "print(of.mutation_bin_probability(of.mutation_count_list[4056047:4056344]))"
   ]
  },
  {
   "cell_type": "code",
   "execution_count": null,
   "id": "ceb30600-5579-421f-b8bd-fdf578153f9e",
   "metadata": {},
   "outputs": [],
   "source": [
    "average = []\n",
    "totlen = len(of.mutation_count_list)\n",
    "for x in range(0, int(totlen/500)-1):\n",
    "    average.append(sum(of.mutation_count_list[x*500: x*500 +500]))\n",
    "sns.histplot(average, bins=300)"
   ]
  },
  {
   "cell_type": "code",
   "execution_count": null,
   "id": "db5a9840-1fa6-482e-93ba-dd79f38150db",
   "metadata": {},
   "outputs": [],
   "source": [
    "def bin_formula(max_bin_counts, tot_bin_counts):\n",
    "    return 1- binom.cdf(max_bin_counts-1, tot_bin_counts,1/3)\n",
    "\n",
    "def mutation_bin_probability(mutation_counts):\n",
    "    bin_counts = [0,0,0]\n",
    "    for i, c in enumerate(mutation_counts):\n",
    "        bin_counts[i % 3] += c\n",
    "    if sum(bin_counts) == 0:\n",
    "        return 2\n",
    "    else:\n",
    "        return (bin_counts, bin_formula(bin_counts[2], sum(bin_counts)))  "
   ]
  },
  {
   "cell_type": "code",
   "execution_count": null,
   "id": "b0c010a0-f484-4eaf-9351-7e7d0f5c8e77",
   "metadata": {},
   "outputs": [],
   "source": [
    "mutation_bin_probability(of.mutation_count_list[4056047:4056344])"
   ]
  },
  {
   "cell_type": "code",
   "execution_count": null,
   "id": "ed1a1b09-4830-4128-8030-8b9c2ee8d839",
   "metadata": {},
   "outputs": [],
   "source": [
    "organism_name_dict"
   ]
  },
  {
   "cell_type": "code",
   "execution_count": null,
   "id": "d33a4b17-a75a-4e5b-9024-8a910df184fd",
   "metadata": {},
   "outputs": [],
   "source": [
    "orf_dict['NC_000962.3'][0][2760753:2760856]"
   ]
  },
  {
   "cell_type": "code",
   "execution_count": null,
   "id": "2932949c-2cf4-4caf-9a6e-44ddfa9132e5",
   "metadata": {},
   "outputs": [],
   "source": [
    "orf_dict['NZ_CP058277.1'][0][5934538:5934641]"
   ]
  },
  {
   "cell_type": "code",
   "execution_count": null,
   "id": "c9b1fee7-1588-4576-90d2-096b0f020053",
   "metadata": {},
   "outputs": [],
   "source": [
    "orf_dict['NZ_AP022581.1'][0][692416:692519]"
   ]
  },
  {
   "cell_type": "code",
   "execution_count": null,
   "id": "56c82463-561f-44d3-9349-0518e3a327a7",
   "metadata": {},
   "outputs": [],
   "source": [
    "trans = util.Translator()\n",
    "v = orf_dict[tb_species]'NC_000962.3@2760763_2762380_1']\n",
    "   "
   ]
  },
  {
   "cell_type": "code",
   "execution_count": null,
   "id": "ccd8f08f-2930-46e9-a8b0-ab0be99447b0",
   "metadata": {},
   "outputs": [],
   "source": [
    " for k, v in orf_dict.items():\n",
    "        full_sequence = v[0]\n",
    "        orf_list = v[1]\n",
    "        for x in orf_list:\n",
    "            if x[2] == 1:\n",
    "                prot = trans.translate_sequence(full_sequence[x[0]:x[1]], 1, 0)"
   ]
  },
  {
   "cell_type": "code",
   "execution_count": null,
   "id": "b1dfbde7-a611-4afb-a757-217635e7dae4",
   "metadata": {},
   "outputs": [],
   "source": [
    "trans = util.Translator()\n",
    "temp = []\n",
    "for k, v in orf_dict.items():\n",
    "    full_sequence = v[0]\n",
    "    orf_list = v[1]\n",
    "    for x in orf_list:\n",
    "        if x[2] == 1:\n",
    "            prot = trans.translate_sequence(full_sequence[x[0]:x[1]], 1, 0)\n",
    "        else:\n",
    "            prot = trans.translate_sequence(util.reverse_complement(full_sequence[x[0]:x[1]]), 1, 0)\n",
    "        name = k + '@' +str(x[0])+'_'+str(x[1])+'_'+str(x[2])\n",
    "        if name in ['NC_000962.3@2760763_2762380_1']:\n",
    "            print(prot[:-1])\n",
    "        if name in ['NZ_CP058277.1@5934638_5936567_1']:\n",
    "            print(prot[89:622])"
   ]
  },
  {
   "cell_type": "code",
   "execution_count": null,
   "id": "961a4326-37e4-466d-bd83-3bc32d624283",
   "metadata": {},
   "outputs": [],
   "source": [
    "cds_info_dict['NZ_CP080999.1']['K3U93_RS21900']"
   ]
  },
  {
   "cell_type": "code",
   "execution_count": null,
   "id": "c0e9b790-22d0-4c69-adf1-0700f7ba5885",
   "metadata": {},
   "outputs": [],
   "source": []
  }
 ],
 "metadata": {
  "kernelspec": {
   "display_name": "Python 3 (ipykernel)",
   "language": "python",
   "name": "python3"
  },
  "language_info": {
   "codemirror_mode": {
    "name": "ipython",
    "version": 3
   },
   "file_extension": ".py",
   "mimetype": "text/x-python",
   "name": "python",
   "nbconvert_exporter": "python",
   "pygments_lexer": "ipython3",
   "version": "3.9.7"
  }
 },
 "nbformat": 4,
 "nbformat_minor": 5
}
