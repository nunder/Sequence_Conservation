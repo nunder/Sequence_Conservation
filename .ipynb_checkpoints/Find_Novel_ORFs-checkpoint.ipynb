{
 "cells": [
  {
   "cell_type": "markdown",
   "id": "eef24ce4-4729-44b6-8d43-fbdf47b9033a",
   "metadata": {
    "tags": []
   },
   "source": [
    "##### Set up packages and directories"
   ]
  },
  {
   "cell_type": "code",
   "execution_count": 36,
   "id": "9105f9b4-46be-44fd-b947-d3c47ce2fa01",
   "metadata": {
    "tags": []
   },
   "outputs": [],
   "source": [
    "import pandas as pd\n",
    "import pickle\n",
    "import seaborn as sns\n",
    "import matplotlib.pyplot as plt\n",
    "import numpy as np\n",
    "from scipy.fft import fft, fftfreq\n",
    "from Bio import Entrez, SeqIO, AlignIO, pairwise2, Align, Seq, motifs\n",
    "from Bio.Seq import Seq\n",
    "from Bio.SeqFeature import SeqFeature, FeatureLocation\n",
    "from scipy.stats import binom\n",
    "import math\n",
    "import random\n",
    "from tqdm.auto import tqdm\n",
    "from Comparative_Analysis import Sequence_Analysis_Routines as sar\n",
    "from Comparative_Analysis import HMM as hmm\n",
    "from Comparative_Analysis import Utilities as util\n",
    "from Comparative_Analysis import Alignment_HMM as alignment_hmm\n",
    "from Comparative_Analysis import Alignment_Analysis as alignment_analysis\n",
    "from Comparative_Analysis import Alignment as align\n",
    "from Comparative_Analysis import Master_Alignment_HMM as master_alignment_hmm\n",
    "from Comparative_Analysis import Multi_Species_Master_Alignment_HMM as multi_species_master_alignment_hmm\n",
    "from Comparative_Analysis import Arneson_Ernst_HMM as ae_hmm\n",
    "import random\n",
    "import copy\n",
    "from joblib import Parallel, delayed\n",
    "import os\n",
    "import subprocess\n",
    "from Bio.Blast import NCBIWWW, NCBIXML\n",
    "import matplotlib as mpl"
   ]
  },
  {
   "cell_type": "code",
   "execution_count": 2,
   "id": "1988a242-f558-4643-b3a9-27272fa7bebc",
   "metadata": {},
   "outputs": [],
   "source": [
    "project_dir = 'D:/Project_Data/Project_6'\n",
    "genome_datasets_dir = project_dir + '/Datasets/NCBI_Datasets'\n",
    "literature_datasets_dir = project_dir + '/Datasets/Data_From_Publications'\n",
    "cryptic_output_path = \"D:/Project_Data/CRYPTIC_DATA/Cryptic_Data_Analysis\"\n",
    "cryptic_input_path = \"D:/Project_Data/CRYPTIC_DATA/\"\n",
    "output_dir = project_dir + '/Output'\n",
    "refseq_dir = 'D:/NCBI_Dataset_Mycobacteria'\n",
    "protein_fasta_output_loc = output_dir + '/Protein_Sequences'\n",
    "outgroup_protein_fasta_output_loc = output_dir + '/Protein_Sequences_With_Outgroup'\n",
    "sonic_paranoid_run_name = 'Run_Without_Outgroup'\n",
    "outgroup_sonic_paranoid_run_name = 'Run_With_Outgroup'\n",
    "sonic_paranoid_output_loc = output_dir + '/Sonic_Paranoid_Output'\n",
    "ortholog_dir = sonic_paranoid_output_loc + '/runs/' + sonic_paranoid_run_name + '/ortholog_groups'\n",
    "outgroup_ortholog_dir = sonic_paranoid_output_loc + '/runs/' + outgroup_sonic_paranoid_run_name + '/ortholog_groups'\n",
    "non_cds_output_dir = output_dir + '/Multiple_Alignment_Data/Downstream_Non_CDS'\n",
    "upstream_non_cds_output_dir = output_dir + '/Multiple_Alignment_Data/Upstream_Non_CDS'\n",
    "cds_output_dir = output_dir + '/Multiple_Alignment_Data/CDS'\n",
    "extended_cds_output_dir = output_dir + '/Multiple_Alignment_Data/Extended_CDS'\n",
    "extended_non_cds_regions_output_dir = output_dir + '/Multiple_Alignment_Data/Extended_Non_CDS'\n",
    "outgroup_cds_output_dir = output_dir + '/Multiple_Alignment_Data/CDS_With_Outgroup'\n",
    "outgroup_concatenated_cds_output_dir = output_dir + '/Multiple_Alignment_Data/CDS_With_Outgroup_Concatenated'\n",
    "hmm_parameters_output_dir = output_dir +'/HMM_Model_Parameters'\n",
    "conservation_analysis_output_dir = output_dir + '/Conservation_Analysis'\n",
    "num_cores = 16\n",
    "core_numbers = list(range(1, num_cores+1))"
   ]
  },
  {
   "cell_type": "code",
   "execution_count": 3,
   "id": "abef54a8-1fd0-4a05-94de-bc9e2f647844",
   "metadata": {},
   "outputs": [
    {
     "name": "stdout",
     "output_type": "stream",
     "text": [
      "205\n"
     ]
    }
   ],
   "source": [
    "species_list = util.list_dirs(refseq_dir)\n",
    "print(len(species_list))"
   ]
  },
  {
   "cell_type": "markdown",
   "id": "017f28e8-a111-4d47-a7d6-9fbe2e08e2d4",
   "metadata": {},
   "source": [
    "##### Translation function"
   ]
  },
  {
   "cell_type": "code",
   "execution_count": 4,
   "id": "3cdf9a31-18a2-457e-9fc5-fc6c56d5d757",
   "metadata": {},
   "outputs": [],
   "source": [
    "codon_dict = {}\n",
    "with open('D:/Project_Data/Project_3/Datasets/Reference_Tables/Standard_Code.txt') as f:\n",
    "    for l in f:\n",
    "        codon_dict[str(l[1:4])] = l[5]"
   ]
  },
  {
   "cell_type": "code",
   "execution_count": 5,
   "id": "94a2ed1e-1303-4248-9b29-728cce1b9485",
   "metadata": {},
   "outputs": [],
   "source": [
    "def translate_sequence(input_seq, strand, rf):\n",
    "    output_seq = ''\n",
    "    if strand == 1:\n",
    "        seq = input_seq[rf:]\n",
    "    else:\n",
    "        seq = align.reverse_complement(input_seq)[rf:]\n",
    "    for i in range(0,len(seq)-2,3):\n",
    "        if seq[i:(i+3)] in codon_dict:\n",
    "            output_seq += codon_dict[seq[i:(i+3)]]\n",
    "        else:\n",
    "            output_seq += 'X'\n",
    "    return output_seq"
   ]
  },
  {
   "cell_type": "code",
   "execution_count": 6,
   "id": "6f975dff-4e95-44f1-978b-5c46eee3e950",
   "metadata": {},
   "outputs": [],
   "source": [
    "def translate_orf(start, end, strand):\n",
    "    return translate_sequence(full_sequence[start:end], strand, 0)              "
   ]
  },
  {
   "cell_type": "code",
   "execution_count": 7,
   "id": "32a04e0b-16f9-4f02-a425-63a64f4b3408",
   "metadata": {},
   "outputs": [],
   "source": [
    "def parse_genome(num_subsets, subset_num, id_list):\n",
    "    ids = util.chunk_list(id_list, num_subsets, subset_num)\n",
    "    temp = []\n",
    "    for id in ids:\n",
    "        temp_1 = []\n",
    "        genome_record = next(SeqIO.parse(refseq_dir + '/' + id + '/genomic.gbff', \"genbank\"))\n",
    "        organism_name = genome_record.annotations['organism']\n",
    "        full_sequence = str(genome_record.seq)\n",
    "\n",
    "        for feature in genome_record.features:\n",
    "            a = feature.qualifiers\n",
    "            if a.get(\"protein_id\") != None and a.get(\"locus_tag\")!= None and a.get(\"translation\")!= None:\n",
    "                if a.get(\"note\")!= None:\n",
    "                    note = a.get(\"note\")[0]\n",
    "                else:\n",
    "                    note = ''\n",
    "                if a.get(\"product\")!= None:\n",
    "                    product = a.get(\"product\")[0]\n",
    "                else:\n",
    "                    product = ''\n",
    "                locus_tag = a.get(\"locus_tag\")[0]\n",
    "                protein_id = a.get(\"protein_id\")[0]\n",
    "                temp_1.append([feature.type, int(feature.location.start)+1, int(feature.location.end), int(feature.location.strand), note, product, locus_tag, protein_id])\n",
    "        temp.append([id, temp_1])\n",
    "    return temp"
   ]
  },
  {
   "cell_type": "code",
   "execution_count": 8,
   "id": "2a23c5b8-1f54-4804-9862-41b3f38f6f4a",
   "metadata": {},
   "outputs": [],
   "source": [
    "parallel_output = Parallel(n_jobs=-1)(delayed(parse_genome)(num_cores, core_number, species_list) for core_number in core_numbers)\n",
    "temp = [item for sublist in parallel_output for item in sublist]\n",
    "all_genome_feature_dict = {}\n",
    "for entry in temp:\n",
    "    all_genome_feature_dict[entry[0]] = entry[1]"
   ]
  },
  {
   "cell_type": "code",
   "execution_count": 9,
   "id": "831256d0-bdca-47d9-b965-aa562b7321d5",
   "metadata": {},
   "outputs": [],
   "source": [
    "def find_annotation(species, start, end):\n",
    "    info = all_genome_feature_dict[species]\n",
    "    a = ''\n",
    "    overlap = 0\n",
    "    in_frame = False\n",
    "    for items in info:\n",
    "        if min(items[2], end) - max(items[1], start)  > 0.4 * (items[2] - items[1]):\n",
    "            a = items\n",
    "            overlap = (min(items[2], end) - max(items[1], start))/(items[2] - items[1])\n",
    "            if (min(start, end) - items[1])%3 == 0:\n",
    "                in_frame = True\n",
    "            else:\n",
    "                in_frame = False\n",
    "            break\n",
    "    return a, overlap, in_frame\n",
    "            "
   ]
  },
  {
   "cell_type": "code",
   "execution_count": 10,
   "id": "46022996-1b55-46e0-83d1-107b53cba396",
   "metadata": {},
   "outputs": [
    {
     "data": {
      "text/plain": [
       "['CDS', 4434, 4997, 1, '', 'hypothetical protein', 'Rv0004', 'NP_214518.1']"
      ]
     },
     "execution_count": 10,
     "metadata": {},
     "output_type": "execute_result"
    }
   ],
   "source": [
    "all_genome_feature_dict['GCF_000195955.2'][3]"
   ]
  },
  {
   "cell_type": "code",
   "execution_count": 11,
   "id": "e8556a12-0d6f-435d-b8ea-194983495d50",
   "metadata": {},
   "outputs": [
    {
     "data": {
      "text/plain": [
       "(['CDS', 7302, 9818, 1, '', 'DNA gyrase subunit A', 'Rv0006', 'NP_214520.1'],\n",
       " 0.6740858505564388,\n",
       " False)"
      ]
     },
     "execution_count": 11,
     "metadata": {},
     "output_type": "execute_result"
    }
   ],
   "source": [
    "find_annotation('GCF_000195955.2', 7304,  9000)"
   ]
  },
  {
   "cell_type": "markdown",
   "id": "bc300757-df8c-42d8-a7a0-352213a45d3f",
   "metadata": {},
   "source": [
    "##### Output nt sequences in FASTA format"
   ]
  },
  {
   "cell_type": "code",
   "execution_count": 12,
   "id": "ab243605-4807-411c-8195-401b1a404c94",
   "metadata": {},
   "outputs": [],
   "source": [
    "def produce_nt_blast_file(record_list, output_filename):\n",
    "    with open(output_filename, 'w',  newline='') as outfile:\n",
    "        line_length = 60\n",
    "        for record in tqdm(record_list):\n",
    "            sequence = record[1]\n",
    "            lines = []\n",
    "            sequence_length = len(sequence)\n",
    "            number_of_lines = math.ceil(sequence_length / line_length)\n",
    "            lines.append(\">\" +record[0]+ \"\\n\")\n",
    "            for i in range(number_of_lines):\n",
    "                subsequence = sequence[i*line_length:(i+1)*line_length]\n",
    "                lines.append(subsequence + \"\\n\")\n",
    "            outfile.write(''.join(lines))"
   ]
  },
  {
   "cell_type": "markdown",
   "id": "ab3eb090-60d0-4a2d-8f83-14b2b6889726",
   "metadata": {
    "tags": []
   },
   "source": [
    "##### Mycobrowser is used for CDS demarcation, sequence is taken from GCF_000195955.2"
   ]
  },
  {
   "cell_type": "code",
   "execution_count": 13,
   "id": "75949818-7e31-4bdf-a730-bfcb11740ce6",
   "metadata": {
    "tags": []
   },
   "outputs": [],
   "source": [
    "genome_record = next(SeqIO.parse(genome_datasets_dir + '/GCF_000195955.2/genomic.gbff', \"genbank\"))\n",
    "full_sequence = genome_record.seq"
   ]
  },
  {
   "cell_type": "code",
   "execution_count": 14,
   "id": "91ea0227-7cbc-49a1-8517-1b753754da71",
   "metadata": {
    "tags": []
   },
   "outputs": [],
   "source": [
    "locus_info_dict = {}\n",
    "tb_cds_dict = {}\n",
    "tb_all_feature_dict = {}\n",
    "actual_cds_boundaries = []\n",
    "mycobrowser_df = pd.read_excel(literature_datasets_dir+'/Mycobrowser_Release_4.xlsx')\n",
    "temp_cds = mycobrowser_df[mycobrowser_df['Feature'] == 'CDS'][['Locus','Start','Stop','Strand','Function']]      #Just CDS\n",
    "temp_all_features = mycobrowser_df[['Locus','Start','Stop','Strand','Function']]     #All features\n",
    "actual_cds_boundaries = []\n",
    "actual_all_feature_boundaries = []\n",
    "for i, r in temp_cds.iterrows():\n",
    "    if r['Strand'] == '+':\n",
    "        strand = 1\n",
    "    else:\n",
    "        strand = -1\n",
    "    actual_cds_boundaries.append((r['Locus'],r['Start']-1, r['Stop'], strand))\n",
    "    tb_cds_dict[r['Locus']] = (r['Start']-1, r['Stop'], strand)\n",
    "    locus_info_dict[r['Locus']] = r['Function']\n",
    "for i, r in temp_all_features.iterrows():\n",
    "    if r['Strand'] == '+':\n",
    "        strand = 1\n",
    "    else:\n",
    "        strand = -1\n",
    "    actual_all_feature_boundaries.append((r['Locus'],r['Start']-1, r['Stop'], strand))\n",
    "    tb_all_feature_dict[r['Locus']] = (r['Start']-1, r['Stop'], strand)"
   ]
  },
  {
   "cell_type": "markdown",
   "id": "beacebf7-ca45-4acd-ad98-b9377ec368da",
   "metadata": {
    "tags": []
   },
   "source": [
    "##### Load variant dataset and create variant dictionary (0 indexed for genome position - whereas CRyPtiC data uses 1 start)"
   ]
  },
  {
   "cell_type": "code",
   "execution_count": 15,
   "id": "c8830643-ee4a-42ff-a2f1-39d0154817a6",
   "metadata": {},
   "outputs": [],
   "source": [
    "variant_count_df = pd.read_csv(cryptic_output_path + '/filtered_variant_summary_df.csv')\n",
    "variant_count_df = variant_count_df[variant_count_df['MUTATION_PCT'] < 0.1]"
   ]
  },
  {
   "cell_type": "code",
   "execution_count": 16,
   "id": "8a5ac217-24ab-4e70-ac95-b7c24903ae5f",
   "metadata": {},
   "outputs": [],
   "source": [
    "temp = variant_count_df.groupby(['GENOME_INDEX'])[['MYKROBE_LINEAGE_NAME_2']].count().reset_index()\n",
    "temp_dict = dict(zip(temp.GENOME_INDEX, temp.MYKROBE_LINEAGE_NAME_2))"
   ]
  },
  {
   "cell_type": "code",
   "execution_count": 17,
   "id": "c8c05206-85d2-4eee-9040-db84f07b4773",
   "metadata": {},
   "outputs": [
    {
     "data": {
      "application/vnd.jupyter.widget-view+json": {
       "model_id": "5671506d0c6b4ce39f2c960812bc9b55",
       "version_major": 2,
       "version_minor": 0
      },
      "text/plain": [
       "  0%|          | 0/4411532 [00:00<?, ?it/s]"
      ]
     },
     "metadata": {},
     "output_type": "display_data"
    }
   ],
   "source": [
    "mutation_counts_dict = {}\n",
    "for i in tqdm(range(len(full_sequence))):\n",
    "    if (i+1) in temp_dict:\n",
    "        mutation_counts_dict[i] = temp_dict[(i+1)]\n",
    "    else:\n",
    "        mutation_counts_dict[i] = 0"
   ]
  },
  {
   "cell_type": "markdown",
   "id": "ec65c3b9-c53e-4f86-8e21-0a4836d413c2",
   "metadata": {},
   "source": [
    "##### Define binomial probabilities for testing mutation counts"
   ]
  },
  {
   "cell_type": "code",
   "execution_count": 18,
   "id": "5f9245c0-e613-4a48-b1d8-f85b601f1a82",
   "metadata": {},
   "outputs": [],
   "source": [
    "def bin_formula(max_bin_counts, tot_bin_counts, in_frame = False):\n",
    "    return 1- binom.cdf(max_bin_counts-1, tot_bin_counts,1/3)"
   ]
  },
  {
   "cell_type": "code",
   "execution_count": 19,
   "id": "48c726de-af9f-4d31-904c-606698271a1c",
   "metadata": {},
   "outputs": [],
   "source": [
    "def mutation_bin_probability(start, end, strand):\n",
    "    mutations = []\n",
    "    for i in range(start,end):\n",
    "        for j in range(mutation_counts_dict[i]):\n",
    "            mutations.append(i)\n",
    "    bin_counts = [0,0,0]\n",
    "    for m in mutations:\n",
    "        if strand == 1:\n",
    "            bin_counts[(m-(start))%3] +=1\n",
    "        else:\n",
    "            bin_counts[((end-1)-m)%3] +=1\n",
    "    if sum(bin_counts) == 0:\n",
    "        return (2)\n",
    "    else:\n",
    "        return (bin_formula(bin_counts[2], sum(bin_counts)))  "
   ]
  },
  {
   "cell_type": "markdown",
   "id": "7cc97354-4eec-4741-b8b0-58b7be52aa9b",
   "metadata": {},
   "source": [
    "##### Function to find maximal open reading frame between two co-ordinates with mutation probability less than defined p-value"
   ]
  },
  {
   "cell_type": "code",
   "execution_count": 20,
   "id": "de0966b0-0b35-46f6-9a47-c4dc0272f30d",
   "metadata": {},
   "outputs": [],
   "source": [
    "def max_orf(seq_start, seq_stop, p_value, output_all_orfs = False, min_orf_length = 0):\n",
    "    max_len = 0\n",
    "    orfs_found = []\n",
    "    start_pos = -999\n",
    "    end_pos = -999\n",
    "    for frame in ['Forward', 'Reverse']:\n",
    "        if frame == 'Forward':\n",
    "            temp = (full_sequence[seq_start: seq_stop])\n",
    "        else:\n",
    "            temp = align.reverse_complement(full_sequence[seq_start: seq_stop])\n",
    "        seq_len = len(temp)\n",
    "        for i in range(seq_len - 2):\n",
    "            orf_length = 0\n",
    "            test_codon = temp[i: i+3] \n",
    "            if test_codon in ['ATG','GTG','TTG']:  #Missed out CTG as doesn't seem to be used very much at all\n",
    "                for j in range(i + 3, seq_len - 2, 3):\n",
    "                    test_codon_2 = temp[j: j+3] \n",
    "                    if test_codon_2 in ['TAG','TGA','TAA']:\n",
    "                        orf_length = j - i\n",
    "                        break\n",
    "                if orf_length > 0:\n",
    "                    if frame == 'Forward':\n",
    "                        orf_start =  seq_start + i\n",
    "                        orf_end = seq_start + j+3\n",
    "                        orf_strand = 1\n",
    "                    else:\n",
    "                        orf_start =  seq_start + seq_len-(j+3)\n",
    "                        orf_end = seq_start + seq_len-i\n",
    "                        orf_strand = -1\n",
    "                    prob = mutation_bin_probability(orf_start, orf_end, orf_strand)\n",
    "                    if prob < p_value and orf_length >= min_orf_length:\n",
    "                        orfs_found.append((orf_start, orf_end, orf_strand, orf_length, prob))\n",
    "                    \n",
    "                if orf_length > max_len and prob< p_value and orf_length >= min_orf_length:                                           \n",
    "                    max_len = orf_length\n",
    "                    start_pos = orf_start\n",
    "                    end_pos = orf_end\n",
    "                    strand = orf_strand \n",
    "    \n",
    "    if output_all_orfs == True:\n",
    "        sorted_orfs = sorted(orfs_found, key=lambda x: x[3], reverse=True)\n",
    "        return sorted_orfs                \n",
    "    elif start_pos == -999:\n",
    "        return(0,0,0)\n",
    "    else:\n",
    "        return(start_pos, end_pos, strand, max_len, mutation_bin_probability(start_pos, end_pos, strand))   "
   ]
  },
  {
   "cell_type": "code",
   "execution_count": 21,
   "id": "68732332-e99e-4df8-91d7-a2934a07acaf",
   "metadata": {},
   "outputs": [],
   "source": [
    "def filter_orf_list(orfs):\n",
    "    filtered_list = []\n",
    "    #Find largest and add\n",
    "    to_remove = [1,2]\n",
    "    iter = 0\n",
    "    while len(orfs) > 0:\n",
    "        to_remove = []\n",
    "        max_len = 0\n",
    "        max_pos = 0\n",
    "        for i, orf in enumerate(orfs):\n",
    "            if orf[3] > max_len:\n",
    "                max_pos = i\n",
    "                max_len = orf[3]\n",
    "        filtered_list.append(orfs[max_pos])\n",
    "        for i, orf in enumerate(orfs):\n",
    "            if orf[2] == orfs[max_pos][2] and orf[0]%3 == orfs[max_pos][0]%3 and not(orf[1] <orfs[max_pos][0] or orf[0] >= orfs[max_pos][1]):\n",
    "                to_remove.append(orf)\n",
    "        if len(to_remove) > 0:\n",
    "            for orf in to_remove:\n",
    "                orfs.remove(orf)\n",
    "    return filtered_list"
   ]
  },
  {
   "cell_type": "code",
   "execution_count": 22,
   "id": "23757841-ce5e-4eaa-9f83-c94f63b145a8",
   "metadata": {},
   "outputs": [],
   "source": [
    "def find_all_maximal_orfs(seq_start, seq_stop, p_value, output_all_orfs = False, min_orf_length = 0):\n",
    "    max_len = 0\n",
    "    orfs_found = []\n",
    "    start_pos = -999\n",
    "    end_pos = -999\n",
    "    for frame in ['Forward', 'Reverse']:\n",
    "        if frame == 'Forward':\n",
    "            temp = (full_sequence[seq_start: seq_stop])\n",
    "        else:\n",
    "            temp = align.reverse_complement(full_sequence[seq_start: seq_stop])\n",
    "        seq_len = len(temp)\n",
    "        for rf in range(3):\n",
    "            i = rf\n",
    "            while i < seq_len - 2:\n",
    "                orf_length = 0\n",
    "                test_codon = temp[i: i+3] \n",
    "                if test_codon in ['ATG','GTG','TTG']:  #Missed out CTG as doesn't seem to be used very much at all\n",
    "                    for j in range(i + 3, seq_len - 2, 3):\n",
    "                        test_codon_2 = temp[j: j+3] \n",
    "                        if test_codon_2 in ['TAG','TGA','TAA']:\n",
    "                            orf_length = j - i\n",
    "                            break\n",
    "                            \n",
    "                if orf_length > 0:\n",
    "                    if frame == 'Forward':\n",
    "                        orf_start =  seq_start + i\n",
    "                        orf_end = seq_start + j+3\n",
    "                        orf_strand = 1\n",
    "                    else:\n",
    "                        orf_start =  seq_start + seq_len-(j+3)\n",
    "                        orf_end = seq_start + seq_len-i\n",
    "                        orf_strand = -1\n",
    "                    prob = mutation_bin_probability(orf_start, orf_end, orf_strand)\n",
    "                    if prob < p_value and orf_length >= min_orf_length:\n",
    "                        orfs_found.append((orf_start, orf_end, orf_strand, orf_length, prob))\n",
    "\n",
    "                if orf_length > max_len and prob< p_value and orf_length >= min_orf_length:                                           \n",
    "                    max_len = orf_length\n",
    "                    start_pos = orf_start\n",
    "                    end_pos = orf_end\n",
    "                    strand = orf_strand \n",
    "\n",
    "                if orf_length > 0:\n",
    "                    i = j\n",
    "                else:\n",
    "                    i +=3\n",
    "    if output_all_orfs == True:\n",
    "        sorted_orfs = sorted(orfs_found, key=lambda x: x[3], reverse=True)\n",
    "        return sorted_orfs                \n",
    "    elif start_pos == -999:\n",
    "        return(0,0,0)\n",
    "    else:\n",
    "        return(start_pos, end_pos, strand, max_len, mutation_bin_probability(start_pos, end_pos, strand))   "
   ]
  },
  {
   "cell_type": "markdown",
   "id": "c0373163-fe39-44e7-99f5-9c0e8fb34301",
   "metadata": {},
   "source": [
    "##### Take \"inter-feature\" regions and find maximal ORFs in all frames"
   ]
  },
  {
   "cell_type": "code",
   "execution_count": 23,
   "id": "21025ccf-bb9c-4bf1-8b95-6c5cb2f4c00b",
   "metadata": {},
   "outputs": [
    {
     "data": {
      "application/vnd.jupyter.widget-view+json": {
       "model_id": "c01d07457b1645bf99132e760009fe00",
       "version_major": 2,
       "version_minor": 0
      },
      "text/plain": [
       "  0%|          | 0/1986 [00:00<?, ?it/s]"
      ]
     },
     "metadata": {},
     "output_type": "display_data"
    }
   ],
   "source": [
    "putative_protein_dict = {}\n",
    "putative_proteins = []\n",
    "non_included_boundaries = []\n",
    "for i, (locus,start,stop,strand) in enumerate(actual_all_feature_boundaries):\n",
    "    if i==0 or stop >= actual_all_feature_boundaries[i-1][2]:\n",
    "        non_included_boundaries.append(actual_all_feature_boundaries[i])\n",
    "for i, (locus,start,stop,strand) in enumerate(non_included_boundaries):\n",
    "        if i < len(non_included_boundaries) - 1:\n",
    "            orf_details_list = max_orf(stop, non_included_boundaries[i+1][1], 3, output_all_orfs = True, min_orf_length = 150)\n",
    "            #filtered_orf_details_list = filter_orf_list(orf_details_list)\n",
    "            filtered_orf_details_list = orf_details_list\n",
    "            if len(filtered_orf_details_list) > 0:\n",
    "                last_locus = 'A'\n",
    "                locus_suffix = 0\n",
    "                for orf_details in filtered_orf_details_list:\n",
    "                    a = translate_orf(orf_details[0], orf_details[1], orf_details[2])\n",
    "                    \n",
    "                    if locus == last_locus:\n",
    "                        locus_suffix +=1\n",
    "                    else:\n",
    "                        locus_suffix = 0\n",
    "                    last_locus = locus\n",
    "                    putative_proteins.append([locus+'_'+str(locus_suffix), a[:-1]])\n",
    "                    putative_protein_dict[locus+'_'+str(locus_suffix)] = orf_details\n",
    "produce_nt_blast_file(putative_proteins, refseq_dir + '/putative_protein.faa')"
   ]
  },
  {
   "cell_type": "code",
   "execution_count": 24,
   "id": "0298d165-e798-48b5-8c4f-d777faa2297f",
   "metadata": {},
   "outputs": [],
   "source": [
    "if 0==1:\n",
    "    w_d = os.getcwd()\n",
    "    os.chdir(\"D:/\")\n",
    "    subprocess.run('cd d:\\\\BLAST\\\\myco_refseq_nt & tblastn -query d:\\\\NCBI_Dataset_Mycobacteria\\\\putative_protein.faa -db myco_refseq_nt -out tblastn_results.xml -evalue 0.001 -seg=no  -outfmt 10 -num_threads 16', shell=True, capture_output = True)      #-seg=no \n",
    "    os.chdir(w_d)"
   ]
  },
  {
   "cell_type": "code",
   "execution_count": null,
   "id": "b4e84804-bbbe-4838-b85e-5743d0a0f501",
   "metadata": {},
   "outputs": [],
   "source": [
    "blast_results = pd.read_csv(\"D:\\\\BLAST\\\\myco_refseq_nt\\\\tblastn_results.xml\", header = None)\n",
    "blast_results.columns = ['query_accession_ver', 'subject_accession_ver', 'percent_identical_matches','alignment_length', 'number_mismatches', 'number_of_gap_openings', 'query_start_alignment', 'query_end_alignment', 'subject_start_alignment', 'subject_end_alignment', 'e_value', 'bit_score']\n",
    "blast_results = blast_results[~blast_results['subject_accession_ver'].isin(['GCF_000195955.2', 'GCF_000253375.1'])]\n",
    "blast_results = blast_results.groupby('query_accession_ver').filter(lambda x: x['query_accession_ver'].count() >= 10)\n",
    "blast_results['info']=  blast_results['query_accession_ver'].map(putative_protein_dict)\n",
    "blast_results[['start_coord', 'end_coord', 'strand', 'q_length', 'prob']] = pd.DataFrame(blast_results['info'].tolist(), index=blast_results.index)\n",
    "blast_results['alignment_ratio'] = blast_results['alignment_length'] / blast_results['q_length'] * 3\n"
   ]
  },
  {
   "cell_type": "code",
   "execution_count": null,
   "id": "dbf0bc6a-ff4d-432c-a297-e722840735f5",
   "metadata": {},
   "outputs": [],
   "source": [
    "for i, r in tqdm(blast_results.iterrows(), total=blast_results.shape[0]):\n",
    "    a, overlap, in_frame =  find_annotation(r['subject_accession_ver'], min(r['subject_start_alignment'],r['subject_end_alignment']), max(r['subject_start_alignment'],r['subject_end_alignment']))\n",
    "    blast_results.at[i, 'annotation_info'] = a\n",
    "    blast_results.at[i, 'overlap'] = overlap\n",
    "    blast_results.at[i, 'in_frame'] = in_frame"
   ]
  },
  {
   "cell_type": "code",
   "execution_count": null,
   "id": "51a1e0f9-a1ce-4208-aa6f-f891b5ab3a7b",
   "metadata": {},
   "outputs": [],
   "source": [
    "blast_results.to_csv(project_dir + '/temp.csv')"
   ]
  },
  {
   "cell_type": "markdown",
   "id": "ecdd6d07-3797-408e-bc72-dee72066eb40",
   "metadata": {},
   "source": [
    "##### Graph p-values for annotated genes"
   ]
  },
  {
   "cell_type": "code",
   "execution_count": 25,
   "id": "ef5ea97f-6b6e-4cf0-a335-c4693ecb71c8",
   "metadata": {},
   "outputs": [
    {
     "data": {
      "application/vnd.jupyter.widget-view+json": {
       "model_id": "9f4c071f874a48d49f5e80404df6b508",
       "version_major": 2,
       "version_minor": 0
      },
      "text/plain": [
       "  0%|          | 0/4031 [00:00<?, ?it/s]"
      ]
     },
     "metadata": {},
     "output_type": "display_data"
    }
   ],
   "source": [
    "annotated_cds_probabilities = []\n",
    "for (locus, start, stop, strand) in tqdm(actual_cds_boundaries):\n",
    "    annotated_cds_probabilities.append((locus, mutation_bin_probability(start, stop, strand)))"
   ]
  },
  {
   "cell_type": "code",
   "execution_count": 59,
   "id": "46f1ca09-6902-4617-8141-562079115dcf",
   "metadata": {
    "tags": []
   },
   "outputs": [],
   "source": [
    "maximal_orfs = find_all_maximal_orfs(0, 4411530, 3, output_all_orfs = True, min_orf_length = 80)     #Min length set to capture all orfs in annotation\n",
    "maximal_orf_dict = {}\n",
    "for orf in maximal_orfs:\n",
    "    if orf[2] == 1:\n",
    "        maximal_orf_dict[(orf[1],1)] = orf      #Need to have strand and stop refs as same location can act as stop on different strands and need separate dictionary entries\n",
    "    else:\n",
    "        maximal_orf_dict[(orf[0],-1)] = orf"
   ]
  },
  {
   "cell_type": "code",
   "execution_count": 65,
   "id": "e137cb13-58a2-4079-b11c-60757ce8ca1e",
   "metadata": {
    "tags": []
   },
   "outputs": [
    {
     "data": {
      "application/vnd.jupyter.widget-view+json": {
       "model_id": "a1c87a1b5ab4491bbfb8bf6c07158017",
       "version_major": 2,
       "version_minor": 0
      },
      "text/plain": [
       "0it [00:00, ?it/s]"
      ]
     },
     "metadata": {},
     "output_type": "display_data"
    }
   ],
   "source": [
    "new_maximal_orfs = copy.deepcopy(maximal_orfs)\n",
    "for i, (locus, start, stop, strand) in tqdm(enumerate(actual_cds_boundaries)):\n",
    "    if strand == 1:\n",
    "        if (stop,1) in maximal_orf_dict:\n",
    "            maximal_orf = maximal_orf_dict[(stop,1)]\n",
    "            new_maximal_orfs.remove(maximal_orf) \n",
    "    else:\n",
    "        if (start,-1) in maximal_orf_dict:\n",
    "            maximal_orf = maximal_orf_dict[(start,-1)]\n",
    "            new_maximal_orfs.remove(maximal_orf) "
   ]
  },
  {
   "cell_type": "code",
   "execution_count": 66,
   "id": "bb9f464f-1863-48e6-90f5-2e1eac0f2683",
   "metadata": {
    "tags": []
   },
   "outputs": [
    {
     "name": "stdout",
     "output_type": "stream",
     "text": [
      "51627 47600 4031\n"
     ]
    }
   ],
   "source": [
    "print(len(maximal_orfs), len(new_maximal_orfs), len(actual_cds_boundaries))"
   ]
  },
  {
   "cell_type": "code",
   "execution_count": 67,
   "id": "b306d61c-2863-494e-97b8-71767f19bf96",
   "metadata": {
    "tags": []
   },
   "outputs": [],
   "source": [
    "new_maximal_orfs = [x for x in new_maximal_orfs if x[1]-x[0] > 500]"
   ]
  },
  {
   "cell_type": "code",
   "execution_count": 73,
   "id": "34d503b0-7bcb-4b7a-88b7-0d993d1e4f3f",
   "metadata": {
    "tags": []
   },
   "outputs": [
    {
     "data": {
      "text/plain": [
       "<AxesSubplot:>"
      ]
     },
     "execution_count": 73,
     "metadata": {},
     "output_type": "execute_result"
    },
    {
     "data": {
      "text/plain": [
       "<Figure size 2400x1600 with 0 Axes>"
      ]
     },
     "metadata": {},
     "output_type": "display_data"
    },
    {
     "data": {
      "image/png": "[encoded data removed]",
      "text/plain": [
       "<Figure size 720x720 with 6 Axes>"
      ]
     },
     "metadata": {
      "needs_background": "light"
     },
     "output_type": "display_data"
    }
   ],
   "source": [
    "mpl.rcParams['figure.figsize'] = (10,10)\n",
    "fig=plt.figure(figsize=(24,16), dpi= 100, facecolor='w', edgecolor='k')\n",
    "fig, axs = plt.subplots(ncols=2, nrows=3)\n",
    "plt.subplots_adjust(wspace=0.4, hspace=0.4)\n",
    "annotation_probs = [x[1] for x in annotated_cds_probabilities]\n",
    "sns.histplot(annotation_probs, bins = 100, ax=axs[0][0])\n",
    "#plt.xlabel(\"p-value\")\n",
    "#plt.ylabel(\"number of genes - Mycobrowser R3 annotation\") \n",
    "all_max_orf_probs = [x[4] for x in new_maximal_orfs]\n",
    "all_max_orf_lengths = [x[1]-x[0] for x in new_maximal_orfs]\n",
    "sns.histplot(all_max_orf_probs, bins = 100, ax = axs[0][1])\n",
    "actual_cds_lengths = [x[2]-x[1] for x in actual_cds_boundaries]\n",
    "sns.histplot(actual_cds_lengths, bins = 100, ax = axs[1][0])\n",
    "sns.histplot(all_max_orf_lengths, bins = 100, ax = axs[1][1])\n",
    "sns.scatterplot(y=[x[2]-x[1] for x in actual_cds_boundaries],x=[x[1] for x in annotated_cds_probabilities], s=1, ax=axs[2][0])\n",
    "sns.scatterplot(y=[x[1]-x[0] for x in new_maximal_orfs],x=[x[4] for x in new_maximal_orfs], s=1, ax=axs[2][1])"
   ]
  },
  {
   "cell_type": "code",
   "execution_count": 75,
   "id": "61fafb9c-277e-42a5-b432-01547b6aa752",
   "metadata": {},
   "outputs": [],
   "source": [
    "candidate_proteins = [x for x in new_maximal_orfs if x[4] < 0.0001]"
   ]
  },
  {
   "cell_type": "code",
   "execution_count": 77,
   "id": "4a0e4c1f-69a8-4222-a722-18b48de89b80",
   "metadata": {},
   "outputs": [
    {
     "data": {
      "text/plain": [
       "<AxesSubplot:ylabel='Count'>"
      ]
     },
     "execution_count": 77,
     "metadata": {},
     "output_type": "execute_result"
    },
    {
     "data": {
      "image/png": "[encoded data removed]",
      "text/plain": [
       "<Figure size 720x720 with 1 Axes>"
      ]
     },
     "metadata": {
      "needs_background": "light"
     },
     "output_type": "display_data"
    }
   ],
   "source": [
    "sns.histplot(x = [y[1]-y[0] for y in candidate_proteins])"
   ]
  },
  {
   "cell_type": "code",
   "execution_count": 80,
   "id": "ed44d1f0-a01a-44d9-aa61-84b074ca2c9b",
   "metadata": {},
   "outputs": [
    {
     "data": {
      "application/vnd.jupyter.widget-view+json": {
       "model_id": "739119790c714ec79a0724cfd952defe",
       "version_major": 2,
       "version_minor": 0
      },
      "text/plain": [
       "  0%|          | 0/203 [00:00<?, ?it/s]"
      ]
     },
     "metadata": {},
     "output_type": "display_data"
    }
   ],
   "source": [
    "temp = []\n",
    "for i, orf_details in enumerate(candidate_proteins):\n",
    "    a = translate_orf(orf_details[0], orf_details[1], orf_details[2])\n",
    "    temp.append(['ref_'+str(i), a[:-1]])\n",
    "produce_nt_blast_file(temp, refseq_dir + '/putative_protein2.faa')"
   ]
  },
  {
   "cell_type": "markdown",
   "id": "6304163d-7bc4-491c-9d75-5d4082d35ac3",
   "metadata": {
    "tags": []
   },
   "source": [
    "##### Identify function percentage in Unknown between high and low p-value regions"
   ]
  },
  {
   "cell_type": "code",
   "execution_count": null,
   "id": "b398cf17-b8fc-489d-8aca-f29fd6b16346",
   "metadata": {
    "tags": []
   },
   "outputs": [],
   "source": [
    "locus_exceptions = [x[0] for x in annotated_cds_probabilities if (x[1] > 0.5 and x[1] < 1.1)]\n",
    "num_unknown_exceptions = 0\n",
    "for ex in locus_exceptions:\n",
    "    if 'nknown' in locus_info_dict[ex]:\n",
    "        num_unknown_exceptions += 1\n",
    "tot_locus = [x[0] for x in annotated_cds_probabilities]\n",
    "num_unknown_tot = 0\n",
    "for ex in tot_locus:\n",
    "    if ex in locus_info_dict:\n",
    "        if len(str(locus_info_dict[ex])) > 4:\n",
    "            if 'nknown' in locus_info_dict[ex]:\n",
    "                num_unknown_tot += 1\n",
    "print(num_unknown_exceptions, len(locus_exceptions))\n",
    "print(num_unknown_tot, len(tot_locus))\n",
    "print(num_unknown_exceptions/len(locus_exceptions), (num_unknown_tot-num_unknown_exceptions)/(len(tot_locus)-len(locus_exceptions)))"
   ]
  },
  {
   "cell_type": "code",
   "execution_count": 36,
   "id": "de241081-efc7-4282-ad54-3a6d0684ab57",
   "metadata": {},
   "outputs": [
    {
     "name": "stdout",
     "output_type": "stream",
     "text": [
      "0\n",
      "3\n",
      "17\n",
      "20\n",
      "23\n",
      "26\n",
      "29\n"
     ]
    }
   ],
   "source": [
    "for i in range(0,20,3):\n",
    "    if i>3:\n",
    "        i+= 11\n",
    "    print(i)"
   ]
  },
  {
   "cell_type": "code",
   "execution_count": null,
   "id": "ce079f3d-f89f-46b5-8f38-9096e924836d",
   "metadata": {},
   "outputs": [],
   "source": []
  }
 ],
 "metadata": {
  "kernelspec": {
   "display_name": "Python 3 (ipykernel)",
   "language": "python",
   "name": "python3"
  },
  "language_info": {
   "codemirror_mode": {
    "name": "ipython",
    "version": 3
   },
   "file_extension": ".py",
   "mimetype": "text/x-python",
   "name": "python",
   "nbconvert_exporter": "python",
   "pygments_lexer": "ipython3",
   "version": "3.9.7"
  }
 },
 "nbformat": 4,
 "nbformat_minor": 5
}
