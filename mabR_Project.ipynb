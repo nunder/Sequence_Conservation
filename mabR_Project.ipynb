{
 "cells": [
  {
   "cell_type": "markdown",
   "id": "b1e30ed4-8a0e-4a6f-96eb-dfe116dfb2de",
   "metadata": {},
   "source": [
    "#### Import packages, set directories and parameters"
   ]
  },
  {
   "cell_type": "code",
   "execution_count": null,
   "id": "cf9c6377-5080-4c22-94db-feabe17cc47c",
   "metadata": {},
   "outputs": [],
   "source": [
    "import pandas as pd\n",
    "import pickle\n",
    "import seaborn as sns\n",
    "import matplotlib.pyplot as plt\n",
    "import numpy as np\n",
    "from Bio import Entrez, SeqIO, AlignIO, pairwise2, Align, Seq, motifs\n",
    "from Bio.Seq import Seq\n",
    "from Bio.SeqFeature import SeqFeature, FeatureLocation\n",
    "import math\n",
    "from tqdm import tqdm\n",
    "from Comparative_Analysis import Utilities as util\n",
    "from joblib import Parallel, delayed\n",
    "from Comparative_Analysis import Blast_Functions as blastfn\n",
    "import time\n",
    "import os\n",
    "import copy\n",
    "from scipy.stats import chi2\n",
    "from Comparative_Analysis import Alignment as alignfn\n",
    "from Bio.Align.Applications import MuscleCommandline\n",
    "import subprocess\n",
    "pd.options.mode.chained_assignment = None  # default='warn'"
   ]
  },
  {
   "cell_type": "code",
   "execution_count": null,
   "id": "79c1ca3d-a68f-4a9d-a5c4-25df7385b3ad",
   "metadata": {},
   "outputs": [],
   "source": [
    "project_dir = 'F:/Project_Data/mabR_Project'\n",
    "mycobacteria_seq_dir = 'F:/Datasets/NCBI_Refseq_Mycobacteriaceae_Complete_Annot_20230511/data'\n",
    "actinomycetes_seq_dir = 'F:/Datasets/NCBI_Refseq_Actinomycetes_Complete_Annot_20230511/data'\n",
    "tb_species = 'AL123456.3' \n",
    "tb_annotation_dirname = 'GCA_000195955.2'\n",
    "num_cores = 16\n",
    "core_numbers = list(range(1, num_cores+1))\n",
    "muscle_exe = 'C:/Users/nicho/Muscle/muscle3.8.31_i86win32.exe'\n",
    "full_build = False\n",
    "min_upstream_region_length = 7 \n",
    "min_blast_pct_id = 40\n",
    "min_seq_in_alignment = 15"
   ]
  },
  {
   "cell_type": "code",
   "execution_count": null,
   "id": "503e82c4-1431-4d17-945f-788c5cc7bb71",
   "metadata": {},
   "outputs": [],
   "source": [
    "def reverse_complement(seq_string):\n",
    "    complement_dict = {'A':'T','C':'G','G':'C','T':'A','N':'N','S':'A','R':'A','Y':'A'}    # Note S\n",
    "    temp = []\n",
    "    for char in reversed(seq_string):\n",
    "        temp.append(complement_dict[char])\n",
    "    return ''.join(temp)"
   ]
  },
  {
   "cell_type": "markdown",
   "id": "9ee7b780-b0b1-4ada-aa73-94dc320fb8c4",
   "metadata": {},
   "source": [
    "#### Check files where no genomic file downloaded from NCBI"
   ]
  },
  {
   "cell_type": "code",
   "execution_count": null,
   "id": "a952cd25-6f52-41a8-9bc1-22233f79e27d",
   "metadata": {},
   "outputs": [],
   "source": [
    "def non_empty_directories(num_subsets, subset_num, dir_list, seqdir):\n",
    "    temp = util.chunk_list(dir_list, num_subsets, subset_num)\n",
    "    non_empty_dirs = []\n",
    "    for dirname in temp:\n",
    "            if not(os.path.exists(seqdir + '/' + dirname + '/genomic.gbff')):\n",
    "                continue\n",
    "            else:\n",
    "                non_empty_dirs.append(dirname)\n",
    "    return non_empty_dirs "
   ]
  },
  {
   "cell_type": "code",
   "execution_count": null,
   "id": "40439141-c290-401a-9644-c3653be333ca",
   "metadata": {},
   "outputs": [],
   "source": [
    "mycobacteria_dirs = []\n",
    "actinomycetes_dirs = []\n",
    "sequence_dirs = util.list_dirs(mycobacteria_seq_dir)\n",
    "parallel_output = Parallel(n_jobs=-1)(delayed(non_empty_directories)(num_cores, core_number, sequence_dirs, mycobacteria_seq_dir) for core_number in core_numbers)\n",
    "for temp in parallel_output:\n",
    "    for x in temp:\n",
    "        mycobacteria_dirs.append(x) \n",
    "sequence_dirs = util.list_dirs(actinomycetes_seq_dir)\n",
    "parallel_output = Parallel(n_jobs=-1)(delayed(non_empty_directories)(num_cores, core_number, sequence_dirs, actinomycetes_seq_dir) for core_number in core_numbers)\n",
    "for temp in parallel_output:\n",
    "    for x in temp:\n",
    "        actinomycetes_dirs.append(x)"
   ]
  },
  {
   "cell_type": "code",
   "execution_count": null,
   "id": "7f27503d-e5a5-41af-9415-4dbcd14444b4",
   "metadata": {},
   "outputs": [],
   "source": [
    "with open(project_dir + '/mycobacteria_dirs.pkl', 'wb') as f:\n",
    "    pickle.dump(mycobacteria_dirs, f) \n",
    "with open(project_dir + '/actinomycetes_dirs.pkl', 'wb') as f:\n",
    "    pickle.dump(actinomycetes_dirs, f) "
   ]
  },
  {
   "cell_type": "code",
   "execution_count": null,
   "id": "1f9007b6-7093-49cf-ac0d-16e9f86f8b97",
   "metadata": {},
   "outputs": [],
   "source": [
    "print(len(mycobacteria_dirs),len(actinomycetes_dirs))"
   ]
  },
  {
   "cell_type": "markdown",
   "id": "198ce0ae-2b01-482b-83cb-93c720537916",
   "metadata": {},
   "source": [
    "#### Create files with all CDS for both mycobacteria and actinobacteria reference sets and create BLAST databases for TB CDS and both reference sets (to do reciprocal best hits)"
   ]
  },
  {
   "cell_type": "code",
   "execution_count": null,
   "id": "6068fd3f-1e3d-4bd4-b1ac-ef4c7a190fd4",
   "metadata": {
    "tags": []
   },
   "outputs": [],
   "source": [
    "def generate_protein_dataset(num_subsets, subset_num, dir_list, seqdir): \n",
    "    sequence_dirs = util.chunk_list(dir_list, num_subsets, subset_num)\n",
    "    all_cds = []\n",
    "    all_tb_cds = []\n",
    "    names = []\n",
    "    sequences = []\n",
    "    locations = []\n",
    "    for dirname in (sequence_dirs):\n",
    "        for genome_record in SeqIO.parse(seqdir + '/' + dirname + '/genomic.gbff', \"genbank\"):\n",
    "            accession_ver = genome_record.annotations['accessions'][0] + '.' + str(genome_record.annotations['sequence_version'])\n",
    "            names.append([accession_ver, genome_record.annotations['organism']])\n",
    "            full_sequence = str(genome_record.seq)\n",
    "            sequences.append([accession_ver, full_sequence])\n",
    "            for feature in genome_record.features:\n",
    "                a = feature.qualifiers\n",
    "                if feature.type == 'CDS' and a.get(\"translation\") != None and a.get(\"locus_tag\") != None:\n",
    "                    locus_tag = a.get(\"locus_tag\")[0]\n",
    "                    accession_locus = accession_ver + '@' + locus_tag\n",
    "                    translation = a.get(\"translation\")[0]\n",
    "                    (start, stop, strand) = (int(feature.location.start), int(feature.location.end), int(feature.location.strand))\n",
    "                    locations.append([accession_locus, (start, stop, strand)])\n",
    "                    all_cds.append([accession_locus, translation])\n",
    "                    if dirname == tb_annotation_dirname:\n",
    "                        all_tb_cds.append([accession_locus, translation])\n",
    "    return (all_cds, all_tb_cds, names, locations, sequences)           "
   ]
  },
  {
   "cell_type": "code",
   "execution_count": null,
   "id": "9e2fbea0-6e4e-46ad-a53c-6475d7e960ae",
   "metadata": {},
   "outputs": [],
   "source": [
    "def generate_upstream_sequence_dataset(num_subsets, subset_num, dir_list, seqdir): \n",
    "    sequence_dirs = util.chunk_list(dir_list, num_subsets, subset_num)\n",
    "    upstream_cds_regions = []\n",
    "    for dirname in (sequence_dirs):\n",
    "        all_features = []\n",
    "        for genome_record in SeqIO.parse(seqdir + '/' + dirname + '/genomic.gbff', \"genbank\"):\n",
    "            accession_ver = genome_record.annotations['accessions'][0] + '.' + str(genome_record.annotations['sequence_version'])\n",
    "            full_sequence = str(genome_record.seq)\n",
    "            len_full_sequence = len(full_sequence)\n",
    "            for feature in genome_record.features:\n",
    "                if feature.type in ['gene', 'source']:\n",
    "                    continue\n",
    "                a = feature.qualifiers\n",
    "                feature_type = feature.type\n",
    "                if a.get(\"locus_tag\") != None:\n",
    "                    locus_tag = a.get(\"locus_tag\")[0]\n",
    "                    accession_locus = accession_ver + '@' + locus_tag\n",
    "                else:\n",
    "                    accession_locus  = ''\n",
    "                (start, stop, strand) = (int(feature.location.start), int(feature.location.end), int(feature.location.strand))\n",
    "                all_features.append([accession_locus, feature_type, start, stop, strand])\n",
    "            # Positive strand upstream \n",
    "            all_features.sort(key = lambda x: x[2])\n",
    "            max_stop = 0\n",
    "            for (accession_locus, feature_type, start, stop, strand) in all_features:\n",
    "                if max_stop < start and feature_type == 'CDS' and strand == 1 and start - max_stop < 100000:    #Avoid joins where biopython interprets inconsistently \n",
    "                    upstream_cds_regions.append([accession_locus, max_stop, start, strand, full_sequence[max_stop: start+3]])\n",
    "                max_stop = max(max_stop, stop)\n",
    "            # Negative strand upstream\n",
    "            all_features.sort(key = lambda x: x[3], reverse = True)\n",
    "            min_start = len(full_sequence)-1\n",
    "            for (accession_locus, feature_type, start, stop, strand) in all_features:\n",
    "                if stop < min_start and feature_type == 'CDS' and strand == -1 and min_start - stop < 100000:\n",
    "                    upstream_cds_regions.append([accession_locus, stop, min_start, strand, reverse_complement(full_sequence[stop-3: min_start])])\n",
    "                min_start = min(min_start, start)\n",
    "    return (upstream_cds_regions)           "
   ]
  },
  {
   "cell_type": "code",
   "execution_count": null,
   "id": "542f0742-7686-4b24-808f-787faa247c21",
   "metadata": {
    "tags": []
   },
   "outputs": [],
   "source": [
    "if full_build == True:\n",
    "    parallel_output = Parallel(n_jobs=-1)(delayed(generate_protein_dataset)(num_cores, core_number, mycobacteria_dirs, mycobacteria_seq_dir) for core_number in core_numbers)\n",
    "    names_dict_1 = {}\n",
    "    locations_dict_1 = {}\n",
    "    sequence_dict_1 = {}\n",
    "    all_cds_1 = []\n",
    "    all_tb_cds_1 = []\n",
    "    for x in parallel_output:\n",
    "        all_cds_1 += x[0]\n",
    "        all_tb_cds_1 += x[1]\n",
    "        for temp in x[2]:\n",
    "            names_dict_1[temp[0]] = temp[1]\n",
    "        for temp in x[3]:\n",
    "            locations_dict_1[temp[0]] = temp[1]\n",
    "        for temp in x[4]:\n",
    "            sequence_dict_1[temp[0]] = temp[1]\n",
    "    with open(project_dir + '/names_dict_1.pkl', 'wb') as f:\n",
    "            pickle.dump(names_dict_1, f) "
   ]
  },
  {
   "cell_type": "code",
   "execution_count": null,
   "id": "f75de3d4-28cf-4873-892c-608a027d57cb",
   "metadata": {
    "tags": []
   },
   "outputs": [],
   "source": [
    "if full_build == True:\n",
    "    parallel_output = Parallel(n_jobs=-1)(delayed(generate_protein_dataset)(num_cores, core_number, actinomycetes_dirs, actinomycetes_seq_dir) for core_number in core_numbers)\n",
    "    names_dict_2 = {}\n",
    "    locations_dict_2 = {}\n",
    "    sequence_dict_2 = {}\n",
    "    all_cds_2 = []\n",
    "    all_tb_cds_2 = []\n",
    "    for x in parallel_output:\n",
    "        all_cds_2 += x[0]\n",
    "        all_tb_cds_2 += x[1]\n",
    "        for temp in x[2]:\n",
    "            names_dict_2[temp[0]] = temp[1]\n",
    "        for temp in x[3]:\n",
    "            locations_dict_2[temp[0]] = temp[1]\n",
    "        for temp in x[4]:\n",
    "            sequence_dict_2[temp[0]] = temp[1]\n",
    "    with open(project_dir + '/names_dict_2.pkl', 'wb') as f:\n",
    "            pickle.dump(names_dict_2, f) "
   ]
  },
  {
   "cell_type": "code",
   "execution_count": null,
   "id": "81888d67-09e0-40e4-8508-c0f1ae994c7c",
   "metadata": {},
   "outputs": [],
   "source": [
    "if full_build == True:\n",
    "    mycobacteria_upstream_dict = {}\n",
    "    actinomycetes_upstream_dict = {}\n",
    "    parallel_output = Parallel(n_jobs=-1)(delayed(generate_upstream_sequence_dataset)(num_cores, core_number, mycobacteria_dirs, mycobacteria_seq_dir) for core_number in core_numbers)\n",
    "    for x in parallel_output:\n",
    "        for n in x:\n",
    "            mycobacteria_upstream_dict[n[0]] = [n[1], n[2], n[3], n[4]]\n",
    "    parallel_output = Parallel(n_jobs=-1)(delayed(generate_upstream_sequence_dataset)(num_cores, core_number, actinomycetes_dirs, actinomycetes_seq_dir) for core_number in core_numbers)\n",
    "    for x in parallel_output:\n",
    "        for n in x:\n",
    "            actinomycetes_upstream_dict[n[0]] = [n[1], n[2], n[3], n[4]]\n",
    "    with open(project_dir + '/mycobacteria_upstream_dict.pkl', 'wb') as f:\n",
    "        pickle.dump(mycobacteria_upstream_dict, f) \n",
    "    with open(project_dir + '/actinomycetes_upstream_dict.pkl', 'wb') as f:\n",
    "        pickle.dump(actinomycetes_upstream_dict, f) "
   ]
  },
  {
   "cell_type": "code",
   "execution_count": null,
   "id": "e554633f-42d0-40c4-9600-a6f7c8ef17c4",
   "metadata": {
    "tags": []
   },
   "outputs": [],
   "source": [
    "if full_build == True:\n",
    "    util.produce_fasta_file(all_cds_1, project_dir + '/mycobacteria_cds.fasta')\n",
    "    util.produce_fasta_file(all_tb_cds_1, project_dir + '/tb_cds.fasta')\n",
    "    util.produce_fasta_file(all_cds_2, project_dir + '/actinomycetes_cds.fasta')\n",
    "    blastfn.build_blast_db(project_dir, 'mycobacteria_cds.fasta', 'Mycobacteria', project_dir + '/BLAST/Mycobacteria')\n",
    "    blastfn.build_blast_db(project_dir, 'tb_cds.fasta', 'all_tb_cds', project_dir + '/BLAST/Tb')\n",
    "    blastfn.build_blast_db(project_dir, 'actinomycetes_cds.fasta', 'Actinomycetes', project_dir + '/BLAST/Actinomycetes')"
   ]
  },
  {
   "cell_type": "code",
   "execution_count": null,
   "id": "c64c685a-3fe4-44e0-a045-59504f7ce64c",
   "metadata": {
    "tags": []
   },
   "outputs": [],
   "source": [
    "if full_build == True:\n",
    "    blastfn.run_blastp(project_dir + '/BLAST/Mycobacteria', 'tb_cds.fasta', 'Mycobacteria', 'tb_mycobacteria_hits.csv', e_value = 1e-10)\n",
    "    blastfn.run_blastp(project_dir + '/BLAST/Tb', 'mycobacteria_cds.fasta', 'all_tb_cds', 'mycobacteria_tb_hits.csv', e_value = 1e-10)\n",
    "    a = blastfn.process_blast_output(project_dir + '/BLAST/Mycobacteria/tb_mycobacteria_hits.csv', names_dict_1, top_hit_only = False)\n",
    "    a = a.loc[a.groupby(['query_ref','target_species_name'])['bit_score'].idxmax()]     # Utility top hit method uses accession ver which can differ if multiple sets exist per species in fragmented annotations\n",
    "    b = blastfn.process_blast_output(project_dir + '/BLAST/Tb/mycobacteria_tb_hits.csv', names_dict_1, top_hit_only = False)\n",
    "    b = b.loc[b.groupby(['query_ref','target_species_name'])['bit_score'].idxmax()] \n",
    "    rbh =  blastfn.keep_reciprocal_best_hits(a, b)\n",
    "    rbh.to_csv(project_dir + '/tb_mycobacteria_reciprocal_best_hits.csv')"
   ]
  },
  {
   "cell_type": "code",
   "execution_count": null,
   "id": "9aaf6f56-f9f1-4761-a909-bacf02ac47f4",
   "metadata": {
    "tags": []
   },
   "outputs": [],
   "source": [
    "if full_build == True:\n",
    "    blastfn.run_blastp(project_dir + '/BLAST/Actinomycetes', 'tb_cds.fasta', 'Actinomycetes', 'tb_actinomycetes_hits.csv', e_value = 1e-10)\n",
    "    blastfn.run_blastp(project_dir + '/BLAST/Tb', 'actinomycetes_cds.fasta', 'all_tb_cds', 'actinomycetes_tb_hits.csv', e_value = 1e-10)\n",
    "    a = blastfn.process_blast_output(project_dir + '/BLAST/Actinomycetes/tb_actinomycetes_hits.csv', names_dict_2, top_hit_only = False)\n",
    "    a = a.loc[a.groupby(['query_ref','target_species_name'])['bit_score'].idxmax()]     # Utility top hit method uses accession ver which can differ if multiple sets exist per species in fragmented annotations\n",
    "    b = blastfn.process_blast_output(project_dir + '/BLAST/Tb/actinomycetes_tb_hits.csv', names_dict_2, top_hit_only = False)\n",
    "    b = b.loc[b.groupby(['query_ref','target_species_name'])['bit_score'].idxmax()] \n",
    "    rbh_2 =  blastfn.keep_reciprocal_best_hits(a, b)\n",
    "    rbh_2.to_csv(project_dir + '/tb_actinomycetes_reciprocal_best_hits.csv')"
   ]
  },
  {
   "cell_type": "markdown",
   "id": "c62ab102-796e-4af7-a58b-3111e917ea21",
   "metadata": {},
   "source": [
    "#### Function to generate FASTA file containing intergenic regions in orthologous species and run Muscle / R-scape"
   ]
  },
  {
   "cell_type": "code",
   "execution_count": null,
   "id": "7452ef50-1879-4ac8-8106-25c89e82a366",
   "metadata": {},
   "outputs": [],
   "source": [
    "if not(full_build == True):\n",
    "    with open(project_dir + '/names_dict_1.pkl', 'rb') as f:\n",
    "        names_dict_1 = pickle.load(f)\n",
    "    with open(project_dir + '/names_dict_2.pkl', 'rb') as f:\n",
    "        names_dict_2 = pickle.load(f)\n",
    "    with open(project_dir + '/mycobacteria_dirs.pkl', 'rb') as f:\n",
    "        mycobacteria_dirs = pickle.load(f) \n",
    "    with open(project_dir + '/actinomycetes_dirs.pkl', 'rb') as f:\n",
    "         actinomycetes_dirs = pickle.load(f)  \n",
    "    with open(project_dir + '/mycobacteria_upstream_dict.pkl', 'rb') as f:\n",
    "        mycobacteria_upstream_dict = pickle.load(f) \n",
    "    with open(project_dir + '/actinomycetes_upstream_dict.pkl', 'rb') as f:\n",
    "        actinomycetes_upstream_dict = pickle.load(f) \n",
    "    tb_mycobacteria_hits = blastfn.process_blast_output(project_dir + '/BLAST/Mycobacteria/tb_mycobacteria_hits.csv', names_dict_1, top_hit_only = False)\n",
    "    tb_mycobacteria_rbh = pd.read_csv(project_dir + '/tb_mycobacteria_reciprocal_best_hits.csv')\n",
    "    tb_actinomycetes_rbh = pd.read_csv(project_dir + '/tb_actinomycetes_reciprocal_best_hits.csv')"
   ]
  },
  {
   "cell_type": "code",
   "execution_count": null,
   "id": "11c06384-3c27-4a95-ac4c-cfd218c8cbba",
   "metadata": {},
   "outputs": [],
   "source": [
    "def align_upstream_regions(locus, comparison_type): # 1 = mycobacteria, #2 = actinomycetes\n",
    "    if comparison_type == 1:\n",
    "        comparison_df = tb_mycobacteria_rbh\n",
    "        comparison_dict = mycobacteria_upstream_dict\n",
    "        name_dict = names_dict_1\n",
    "        prefix = 'mycobacteria'\n",
    "    else:\n",
    "        comparison_df = tb_actinomycetes_rbh\n",
    "        comparison_dict = actinomycetes_upstream_dict\n",
    "        prefix = 'actinomycetes'\n",
    "        name_dict = names_dict_2\n",
    "    intergenic_regions = []\n",
    "    target_locus = tb_species + '@' + locus\n",
    "    hits = comparison_df[comparison_df['query_ref'] == target_locus]\n",
    "    hits = hits[hits['percent_identical_matches'] > min_blast_pct_id]\n",
    "    tb_hit = 0\n",
    "    for i, r in hits.iterrows():\n",
    "        target_ref = r['target_ref']\n",
    "        if target_ref in comparison_dict:\n",
    "            upstream_region = comparison_dict[target_ref][3]\n",
    "            if len(upstream_region) >= min_upstream_region_length + 3:   #Include start codon\n",
    "                if tb_species in target_ref:\n",
    "                    tb_hit = 1\n",
    "                intergenic_regions.append([name_dict[target_ref.split('@')[0]].replace(' ', '_'), upstream_region])\n",
    "    if len(intergenic_regions) >= min_seq_in_alignment and tb_hit == 1:    \n",
    "        results_dir = project_dir + '/Intergenic_Regions/' + locus\n",
    "        if not os.path.exists(results_dir):\n",
    "            os.makedirs(results_dir)\n",
    "        util.produce_fasta_file(intergenic_regions, results_dir +'/'+prefix+'_intergenic_regions.fasta')\n",
    "        cline = MuscleCommandline(muscle_exe, input= results_dir +'/'+prefix + '_intergenic_regions.fasta', out = results_dir + '/' + prefix + '_upstream_region_'+locus + '_alignment.fasta')\n",
    "        exception = 0\n",
    "        try:\n",
    "            stdout, stderr = cline()\n",
    "        except Exception as e:\n",
    "            exception == 1\n",
    "        if exception == 0 and comparison_type == 2:\n",
    "            blastfn.convert_fasta_to_stockholm(results_dir, prefix + '_upstream_region_'+locus + '_alignment.fasta', prefix + '_upstream_region_'+locus + '_alignment.sto')\n",
    "            blastfn.run_rscape(results_dir, prefix + '_upstream_region_'+locus + '_alignment.sto', 'rscape_')\n"
   ]
  },
  {
   "cell_type": "code",
   "execution_count": null,
   "id": "a0bf0ad6-cbdb-4572-8eed-63a026550504",
   "metadata": {},
   "outputs": [],
   "source": [
    "regulation_type_dict = {}\n",
    "downreg_genes = pd.read_excel(project_dir + '/2022-10-02_data_NU_NAs_renamed.xlsx', sheet_name = 'significant genes downregulated')\n",
    "upreg_genes = pd.read_excel(project_dir + '/2022-10-02_data.xlsx', sheet_name = 'significant genes upregulated')\n",
    "gene_list = []\n",
    "for i, r in downreg_genes.iterrows():\n",
    "    gene_list.append(r['Locus'])\n",
    "    regulation_type_dict[r['Locus']] = 'Downregulated'\n",
    "for i, r in upreg_genes.iterrows():\n",
    "    gene_list.append(r['Locus'])\n",
    "    regulation_type_dict[r['Locus']] = 'Upregulated'"
   ]
  },
  {
   "cell_type": "code",
   "execution_count": null,
   "id": "b5e5ab58-ec27-4cc6-ba2b-9deb6922673c",
   "metadata": {},
   "outputs": [],
   "source": [
    "for locus in gene_list:\n",
    "    align_upstream_regions(str(locus), 1)\n",
    "    align_upstream_regions(str(locus), 2)"
   ]
  },
  {
   "cell_type": "code",
   "execution_count": null,
   "id": "3556711a-e9b6-4fea-8d6a-6a739ed2b186",
   "metadata": {},
   "outputs": [],
   "source": [
    "mave_len = 10\n",
    "id_re = []\n",
    "seq_ids = util.list_dirs(project_dir + '/Intergenic_Regions')\n",
    "out_list = []\n",
    "consensus_dict = {}\n",
    "for id in tqdm(seq_ids):\n",
    "    if os.path.exists(project_dir + '/Intergenic_Regions/'+str(id)+ '/mycobacteria_upstream_region_'+str(id) + '_alignment.fasta'):\n",
    "        alignment = util.read_fasta_to_array(project_dir + '/Intergenic_Regions/' + str(id)+ '/mycobacteria_upstream_region_'+str(id) + '_alignment.fasta')\n",
    "        sequences_in_alignment = len(alignment[0])\n",
    "        alignment_length = len(alignment[1][0])\n",
    "        for j, name in enumerate(alignment[0]):\n",
    "            if 'H37Rv' in name:\n",
    "                tb_index = j\n",
    "                break\n",
    "        if sequences_in_alignment < min_seq_in_alignment:\n",
    "            continue\n",
    "        upstream_sequences = util.read_fasta_to_array(project_dir + '/Intergenic_Regions/' + str(id)+ '/mycobacteria_intergenic_regions.fasta')\n",
    "        for j, name in enumerate(upstream_sequences[0]):\n",
    "            if 'H37Rv' in name:\n",
    "                upstream_tb_index = j\n",
    "                break\n",
    "        pct_identity = []\n",
    "        consensus = []\n",
    "        for i in range(alignment_length):\n",
    "            temp = []\n",
    "            for j in range(sequences_in_alignment):\n",
    "                temp.append(alignment[1][j][i])\n",
    "            match_found = 0\n",
    "            mac_pct_id = 0\n",
    "            for letter in ['A','C','G','T']:\n",
    "                if temp.count(letter) / sequences_in_alignment >= 0.8:\n",
    "                    match_found = 1\n",
    "                    consensus.append(letter)\n",
    "                    break\n",
    "            if match_found == 0:\n",
    "                consensus.append('*')\n",
    "        consensus_dict[id] = consensus    \n",
    "        #print(consensus[410:])\n",
    "        re = (alignfn.relative_entropy(alignment[1]))\n",
    "        mave_re = []\n",
    "        for i in range(len(re[0])-mave_len):\n",
    "            temp = re[0][i:i+mave_len]\n",
    "            mave_re.append(sum(temp)/len(temp))\n",
    "        max_re = -999\n",
    "        max_re_pos = 0\n",
    "        if len(mave_re) == 0:\n",
    "            continue\n",
    "        for i in range(len(re[0])-mave_len):\n",
    "            if mave_re[i] > max_re:\n",
    "                max_re = mave_re[i]\n",
    "                max_re_pos = i\n",
    "        id_re.append([id, max_re, ''.join(consensus_dict[id][max_re_pos: max_re_pos + mave_len]), ''.join(consensus_dict[id]), len(consensus_dict[id]), len([x for x in re[0] if x > 1.9]), \n",
    "                      sequences_in_alignment, upstream_sequences[1][upstream_tb_index]])"
   ]
  },
  {
   "cell_type": "code",
   "execution_count": null,
   "id": "7aed19aa-916b-42c5-9bf8-233f84fe8838",
   "metadata": {},
   "outputs": [],
   "source": [
    "rel_entropy_df = pd.DataFrame(id_re, columns = ['Downstream CDS', 'Maximum_Moving_Ave_RE', 'Max_Region_Consensus_Sequence','Full_Consensus','Intergenic_Region_TB_Length','Num_positions_gt_90_ID', 'Num_Seq_in_alignement','TB_Upstream_Sequence'])\n"
   ]
  },
  {
   "cell_type": "code",
   "execution_count": null,
   "id": "23b06608-912f-4c18-a3ed-ee9698cda756",
   "metadata": {},
   "outputs": [],
   "source": [
    "covarying_pair_dict =  {}\n",
    "seq_ids = util.list_dirs(project_dir +'/Intergenic_Regions')\n",
    "out_list = []\n",
    "for id in seq_ids:\n",
    "    if os.path.exists(project_dir + '/Intergenic_Regions/' + str(id) + '/rscape_.cov'):\n",
    "        with open(project_dir + '/Intergenic_Regions/' + str(id) + '/rscape_.cov', 'r') as f:  \n",
    "            num_pairs = 0\n",
    "            e_values = []\n",
    "            for l in f:\n",
    "                if (not ('#' in l)):\n",
    "                    a = l.split()\n",
    "                    num_pairs +=1\n",
    "            covarying_pair_dict[id] = num_pairs"
   ]
  },
  {
   "cell_type": "code",
   "execution_count": null,
   "id": "c046fa66-f923-4b9d-954f-2af5c01c78cd",
   "metadata": {},
   "outputs": [],
   "source": [
    "hit_info = []\n",
    "for gene_name in gene_list:\n",
    "    intergenic_regions = []\n",
    "    locus = tb_species + '@'+ str(gene_name)\n",
    "    hits = tb_mycobacteria_rbh.query('query_ref == @locus and percent_identical_matches > @min_blast_pct_id')\n",
    "    num_hits_gt_threshold = len(hits)\n",
    "    if gene_name in covarying_pair_dict:\n",
    "        covarying_pairs = covarying_pair_dict[gene_name]\n",
    "    else:\n",
    "        covarying_pairs = 0\n",
    "    tb_hit = 0\n",
    "    for i, r in hits.iterrows():\n",
    "        target_ref = r['target_ref']\n",
    "        if target_ref in mycobacteria_upstream_dict:\n",
    "            upstream_region = mycobacteria_upstream_dict[target_ref][3][:-3]\n",
    "            if len(upstream_region) >= min_upstream_region_length:\n",
    "                if tb_species in target_ref:\n",
    "                    tb_hit = 1\n",
    "                intergenic_regions.append([names_dict_1[target_ref.split('@')[0]].replace(' ', '_'), upstream_region])\n",
    "    if locus in mycobacteria_upstream_dict:\n",
    "        hit_info.append([gene_name, regulation_type_dict[gene_name], num_hits_gt_threshold, len(mycobacteria_upstream_dict[locus][3][:-3]), tb_hit, len(intergenic_regions), covarying_pairs])\n",
    "    else: \n",
    "        hit_info.append([gene_name, regulation_type_dict[gene_name], num_hits_gt_threshold, 0, tb_hit, len(intergenic_regions), covarying_pairs])\n",
    "hit_info_df = pd.DataFrame(hit_info, columns = ['Downstream CDS', 'Regulation type','num_hits', 'tb_upstream_region_length', 'tb_hit', 'num_upstream_regions', 'num_covarying_pairs'])"
   ]
  },
  {
   "cell_type": "code",
   "execution_count": null,
   "id": "81681d72-5bf4-4a5e-8b4c-2b2ba806dc4e",
   "metadata": {},
   "outputs": [],
   "source": [
    "gene_info_df = hit_info_df.merge(rel_entropy_df, on='Downstream CDS', how='left').fillna('')\n",
    "gene_info_df.to_csv(project_dir +'/significant_gene_info.csv')"
   ]
  },
  {
   "cell_type": "code",
   "execution_count": null,
   "id": "184eb6bd-79dc-4eb7-bc80-5e2aaf6adbb9",
   "metadata": {},
   "outputs": [],
   "source": [
    "mycobacteria_upstream_dict[tb_species + '@'+ 'Rv0752c']"
   ]
  },
  {
   "cell_type": "markdown",
   "id": "961e4bbc-73cd-40c7-8760-543814205591",
   "metadata": {},
   "source": [
    "##### Motif analysis"
   ]
  },
  {
   "cell_type": "code",
   "execution_count": null,
   "id": "7235fa7a-4b65-4459-ac1f-4143d6c5d3ef",
   "metadata": {},
   "outputs": [],
   "source": [
    "for genome_record in SeqIO.parse(mycobacteria_seq_dir + '/' + tb_annotation_dirname + '/genomic.gbff', \"genbank\"):\n",
    "    full_sequence = str(genome_record.seq)\n",
    "util.produce_fasta_file([['H37Rv', full_sequence]], project_dir + '/MEME_Output/mtb_seq')"
   ]
  },
  {
   "cell_type": "code",
   "execution_count": null,
   "id": "185585ec-880b-48fb-b120-11d213de3843",
   "metadata": {},
   "outputs": [],
   "source": [
    "significant_upstream_tb_regions = []\n",
    "for gene in gene_list:\n",
    "    locus = tb_species + '@' + str(gene)\n",
    "    if locus in mycobacteria_upstream_dict:\n",
    "        upstream_region = mycobacteria_upstream_dict[locus][3][:-3]  # Remove start codon of downstream gene\n",
    "        if len(upstream_region) >= min_upstream_region_length:\n",
    "            significant_upstream_tb_regions.append([locus, upstream_region])\n",
    "util.produce_fasta_file(significant_upstream_tb_regions, project_dir + '/significant_upstream_tb_regions.faa')"
   ]
  },
  {
   "cell_type": "code",
   "execution_count": null,
   "id": "41d4fb2a-71f3-4a6e-b0b9-b69f40973578",
   "metadata": {},
   "outputs": [],
   "source": [
    "min_width = 3\n",
    "min_sites = 5\n",
    "subprocess.run('wsl export PATH=$HOME/meme/bin:$HOME/meme/libexec/meme-5.4.1:usr/bin:$PATH ; meme \\\"/mnt/f/Project_Data/mabR_Project/significant_upstream_tb_regions.faa\" -oc \\\"/mnt/f/Project_Data/mabR_Project/MEME_Output\" -dna -evt 0.01 -revcomp -mod anr -brief 4000 -minw ' + str(min_width) +' -maxw 200 -minsites ' + str(min_sites)\n",
    "               , shell=True)\n",
    "      "
   ]
  },
  {
   "cell_type": "markdown",
   "id": "823ef28d-3c0f-4cb2-9baf-b39946d3de59",
   "metadata": {},
   "source": [
    "##### FIMO run "
   ]
  },
  {
   "cell_type": "code",
   "execution_count": null,
   "id": "f4f0c824-74a1-4645-8621-9570c3866ac6",
   "metadata": {},
   "outputs": [],
   "source": [
    "subprocess.run('wsl export PATH=$HOME/meme/bin:$HOME/meme/libexec/meme-5.4.1:usr/bin:$PATH ; fimo -oc /mnt/f/Project_Data/mabR_Project/FIMO_Output /mnt/f/Project_Data/mabR_Project/MEME_Output/meme.txt /mnt/f/Project_Data/mabR_Project/MEME_Output/mtb_seq'\n",
    "               , shell=True)"
   ]
  },
  {
   "cell_type": "code",
   "execution_count": null,
   "id": "8e69039c-1b24-46ce-b54f-319bc84cce47",
   "metadata": {},
   "outputs": [],
   "source": [
    "fimo_hits = pd.read_csv(project_dir + '/FIMO_Output/fimo.tsv', sep='\\t')"
   ]
  },
  {
   "cell_type": "code",
   "execution_count": null,
   "id": "384749e4-4f03-4768-b78d-82effc307d2a",
   "metadata": {},
   "outputs": [],
   "source": [
    "for record in SeqIO.parse(mycobacteria_seq_dir + '/'+tb_annotation_dirname+'/genomic.gbff', \"genbank\"):\n",
    "    annotated_regions = []\n",
    "    intergenic_regions = []\n",
    "    for feature in record.features:\n",
    "        a = feature.qualifiers\n",
    "        if feature.type not in ['source','gene'] and (int(feature.location.start) < int(feature.location.end)) and (int(feature.location.end) - int(feature.location.start)) < 1000000:\n",
    "            if not(a.get(\"product\") == None):\n",
    "                   product = a.get(\"product\")[0]\n",
    "            else:\n",
    "                   product = feature.type\n",
    "            if not(a.get(\"locus_tag\")==None):\n",
    "                locus_tag = a.get(\"locus_tag\")[0]\n",
    "                \n",
    "            else:\n",
    "                locus_tag = feature.type\n",
    "\n",
    "            annotated_regions.append((locus_tag, product, feature.type, int(feature.location.start), int(feature.location.end)))\n",
    "    annotated_regions.sort(key = lambda x: x[4])\n",
    "    prev_locus = ''\n",
    "    prev_product = ''\n",
    "    max_stop = 0\n",
    "    for n, (locus, product, feature_type, start, stop) in enumerate(annotated_regions):\n",
    "        if start > max_stop:\n",
    "            intergenic_regions.append([prev_locus+':'+locus, prev_product + ':' + product, 'Inter-feature',max_stop, start])\n",
    "        if stop > max_stop:\n",
    "            prev_locus = locus\n",
    "            prev_product = product\n",
    "        max_stop = max(max_stop, stop)    \n",
    "    for x in intergenic_regions:\n",
    "        annotated_regions.append(x)\n",
    "    annotated_regions.sort(key = lambda x : x[4])"
   ]
  },
  {
   "cell_type": "code",
   "execution_count": 68,
   "id": "df9355c2-d74d-46b2-8e9d-e0fe199b612f",
   "metadata": {},
   "outputs": [],
   "source": [
    "def count_total_inter_feature(temp):\n",
    "    tot = 0\n",
    "    for x in temp:\n",
    "        if x[2] == 'Inter-feature':\n",
    "            tot += float(x[3].rstrip('%'))\n",
    "    return tot"
   ]
  },
  {
   "cell_type": "code",
   "execution_count": 90,
   "id": "3364a989-58bd-4148-8c7b-1d9d737fc8b0",
   "metadata": {},
   "outputs": [
    {
     "name": "stdout",
     "output_type": "stream",
     "text": [
      "('MEME-1', 1.08e-20, ['Rv0711'], 806173, 806232, [['Rv0710:Rv0711', '30S ribosomal protein S17 RpsQ:Possible arylsulfatase AtsA (aryl-sulfate sulphohydrolase) (arylsulphatase)', 'Inter-feature', '100%']], 'GGCGAGCAGTCGCAAAAGCCCCCGCACGCCGCGCGTGTCGGGGGCTTTTGCGACTGCTCG')\n",
      "('MEME-1', 2.6e-18, ['Rv2846c', 'Rv2845c'], 3152971, 3153030, [['Rv2845c:Rv2846c', 'Probable prolyl-tRNA synthetase ProS (proline--tRNA ligase) (PRORS) (global RNA synthesis factor) (proline translase):Possible integral membrane efflux protein EfpA', 'Inter-feature', '100%']], 'GCCGAGCAGTCATAAAAGCTCCCCTTTTCGGGCAGACCTGGGCGCTTTTGCGTCTGCTCG')\n",
      "('MEME-1', 2.77e-18, ['Rv0467', 'Rv0468'], 558817, 558876, [['Rv0467:Rv0468', 'Isocitrate lyase Icl (isocitrase) (isocitratase):3-hydroxybutyryl-CoA dehydrogenase FadB2 (beta-hydroxybutyryl-CoA dehydrogenase) (BHBD)', 'Inter-feature', '100%']], 'GCCGAGCAGACGCAAAAGCACCCTTTTGCGGCGCAAAAGTGGCGCTTTTGCGTCTGCTCG')\n",
      "('MEME-1', 3.29e-18, ['Rv3795'], 4246525, 4246584, [['Rv3795', 'Integral membrane indolylacetylinositol arabinosyltransferase EmbB (arabinosylindolylacetylinositol synthase)', 'CDS', '100%']], 'CGCGAGCAGACGCAAAAGCACCCCAAATCGGGCGATTTTGGGGGCTTTTGCGTCTGCTCG')\n",
      "('MEME-1', 3.8e-16, ['Rv0154c'], 183233, 183292, [['Rv0154c:Rv0155', 'Probable acyl-CoA dehydrogenase FadE2:Probable NAD(P) transhydrogenase (subunit alpha) PntAa [first part; catalytic part] (pyridine nucleotide transhydrogenase subunit alpha) (nicotinamide nucleotide transhydrogenase subunit alpha)', 'Inter-feature', '100%']], 'GGCGAGCAGACGCAAAACCCCCTTCTCGTCGGCGTGTCGAGGGACTTATGCGTCTGCTAG')\n",
      "('MEME-1', 4.25e-16, ['Rv3863', 'Rv3862c'], 4338526, 4338585, [['Rv3862c:Rv3863', 'Possible transcriptional regulatory protein WhiB-like WhiB6:Unknown alanine rich protein', 'Inter-feature', '100%']], 'GCCGAACCGGAGCCGCAGCACCGCTAGGCAGGCAGAGGAGGAAACTGTTGCATCGCTATG')\n",
      "('MEME-1', 4.25e-16, [], 2546435, 2546494, [['Rv2273:Rv2274c', 'Probable conserved transmembrane protein:Possible toxin MazF8', 'Inter-feature', '88%'], ['Rv2274c', 'Possible toxin MazF8', 'CDS', '11%']], 'GGCGAACAGACGCAAAAGCCCCCGCACGCACGGAGTGTCGGGGGCTTTTGCGTCTACTCG')\n",
      "('MEME-1', 1.09e-15, [], 736232, 736291, [['Rv0641:Rv0642c', '50S ribosomal protein L1 RplA:Methoxy mycolic acid synthase 4 MmaA4 (methyl mycolic acid synthase 4) (MMA4) (hydroxy mycolic acid synthase)', 'Inter-feature', '100%']], 'GGCGAGCAGACGCATAAGCCCCCGCACGCACGGCGTGTCGGGGGCTTATGCGTCTGCTCG')\n",
      "('MEME-1', 5.89e-15, ['Rv3383c'], 3799178, 3799237, [['Rv3383c:Rv3384c', 'Possible polyprenyl synthetase IdsB (polyprenyl transferase) (polyprenyl diphosphate synthase):Possible toxin VapC46. Contains PIN domain.', 'Inter-feature', '100%']], 'GCGGAGGCGGCGGCAACCAGCCTGTTCAAGGGCAGTTTCGGGGACTTTCGCGTCTGCTCG')\n",
      "('MEME-1', 7.31e-15, [], 815638, 815697, [['Rv0723:Rv0724', '50S ribosomal protein L15 RplO:Possible protease IV SppA (endopeptidase IV) (signal peptide peptidase)', 'Inter-feature', '40%'], ['Rv0724', 'Possible protease IV SppA (endopeptidase IV) (signal peptide peptidase)', 'CDS', '59%']], 'CGCGAGCAGACGCAAAAGCCCCCGAAAATGGGCATTTCGGGGGCATTTTGCGTCTGCTCG')\n",
      "('MEME-1', 7.92e-15, [], 1497161, 1497220, [['Rv1328:Rv1329c', 'Probable glycogen phosphorylase GlgP:Probable ATP-dependent helicase DinG', 'Inter-feature', '55%'], ['Rv1329c', 'Probable ATP-dependent helicase DinG', 'CDS', '44%']], 'CGCGAGCAGACGCAAAAGCCCACTAAATCGGCCAGATTTAGGAGCTTTTGCGTCTTCTCG')\n",
      "('MEME-1', 1.42e-14, ['Rv1180'], 1313334, 1313393, [['Rv1179c:Rv1180', 'Unknown protein:Probable polyketide beta-ketoacyl synthase Pks3', 'Inter-feature', '100%']], 'CGCGAGCAGACGCAAAAGGCCCCGAAATCCGTTGGATTCGGGGCCTTTTGCGTCTTTCGC')\n",
      "('MEME-1', 1.46e-14, ['Rv3140'], 3508000, 3508059, [['Rv3140:Rv3141', 'Probable acyl-CoA dehydrogenase FadE23:Probable NADPH quinone oxidoreductase FadB4 (NADPH:quinone reductase) (zeta-crystallin)', 'Inter-feature', '100%']], 'GGCGAGCAGACGTCAAAGCCCCCGAATTTCAGTGAAATCGGGGGCTTTTGCGTCTGCTGG')\n",
      "('MEME-1', 2.49e-14, ['Rv0896'], 1000771, 1000830, [['Rv0896:Rv0897c', 'Probable citrate synthase I GltA2:Probable oxidoreductase', 'Inter-feature', '61%'], ['Rv0897c', 'Probable oxidoreductase', 'CDS', '38%']], 'GGCGAGCAGACGCAAAAGCCCCCTAAACCGGCAGGTATTAGGGGCTTTTGCGTCTGCTCG')\n",
      "('MEME-1', 2.49e-14, [], 1064052, 1064111, [['Rv0952:Rv0953c', 'Probable succinyl-CoA synthetase (alpha chain) SucD (SCS-alpha):Possible oxidoreductase', 'Inter-feature', '100%']], 'GGCGAGCAGACGCATAAGCCCCCGCACGCTCGGCGTGTCGGGGGCTTATGCGTCTGCTCG')\n",
      "('MEME-1', 2.76e-14, [], 1345182, 1345241, [['Rv1201c:Rv1202', 'Tetrahydrodipicolinate N-succinyltransferase DapD:Probable succinyl-diaminopimelate desuccinylase DapE', 'Inter-feature', '100%']], 'GCCGAACAGACACAAAACCACCCTATTTCGACCAGAATCGGGTGCTTTTGCGTCTGCTCG')\n",
      "('MEME-1', 4.63e-14, ['Rv0896'], 1000773, 1000832, [['Rv0896:Rv0897c', 'Probable citrate synthase I GltA2:Probable oxidoreductase', 'Inter-feature', '57%'], ['Rv0897c', 'Probable oxidoreductase', 'CDS', '42%']], 'GGCGAGCAGACGCAAAAGCCCCTAATACCTGCCGGTTTAGGGGGCTTTTGCGTCTGCTCG')\n",
      "('MEME-1', 7.71e-14, [], 2554867, 2554926, [['Rv2281:Rv2282c', 'Putative phosphate-transport permease PitB:Probable transcription regulator (LysR family)', 'Inter-feature', '100%']], 'GGCGAGCAGTCGCATAAGCCCCCGCACGCACGGCGTGTCGGGGGCTTTAGCGACTGCTCG')\n",
      "('MEME-1', 8.98e-14, [], 755265, 755324, [['Rv0660c:Rv0661c', 'Possible antitoxin MazE2:Possible toxin VapC7', 'Inter-feature', '100%']], 'GGCGAGCAGACGCATAAGCCCCCGCACGCTCGGCGTGTCGGGGGCTTATGCGACTGCTCG')\n",
      "('MEME-1', 1.28e-13, ['Rv0860'], 958457, 958516, [['Rv0860:Rv0861c', 'Probable fatty oxidation protein FadB:DNA helicase Ercc3', 'Inter-feature', '100%']], 'CGCGAGCAGACGTAAAAGCCCCCGCACGCTCGGCGTGTCGGGGGCTTTTACGTCTGCTCG')\n",
      "('MEME-1', 3.63e-13, [], 2700468, 2700527, [['Rv2402:Rv2403c', 'Conserved protein:Probable conserved lipoprotein LppR', 'Inter-feature', '100%']], 'GCCGAGCAGACGCAAAATCGCCCAAATTCGGGCCGAAATGGGCGATTTTGCGTCTGCTCG')\n",
      "('MEME-1', 1.14e-12, ['Rv3795'], 4246527, 4246586, [['Rv3795', 'Integral membrane indolylacetylinositol arabinosyltransferase EmbB (arabinosylindolylacetylinositol synthase)', 'CDS', '100%']], 'CGCGAGCAGACGCAAAAGCCCCCAAAATCGCCCGATTTGGGGTGCTTTTGCGTCTGCTCG')\n",
      "('MEME-1', 1.14e-12, [], 3104980, 3105039, [['Rv2795c:Rv2796c', 'Conserved hypothetical protein:Probable conserved lipoprotein LppV', 'Inter-feature', '100%']], 'GCCGAGCAGACGCAAAAGCCCCCATTTCGGGCCCGAAATGGGGGCTTTTGCGTCTGCTCA')\n",
      "('MEME-1', 1.27e-12, ['Rv1058'], 1182320, 1182379, [['Rv1058:Rv1059', 'Probable medium chain fatty-acid-CoA ligase FadD14 (fatty-acid-CoA synthetase) (fatty-acid-CoA synthase):Conserved protein', 'Inter-feature', '100%']], 'CGCGAGCAGACGCAAAATCGCCCATTTTCGTGTCGAAATGGGGGCTTTTGCGTCTGCTCG')\n",
      "('MEME-1', 1.57e-12, [], 2751598, 2751657, [['Rv2449c:Rv2450c', 'Conserved protein:Probable resuscitation-promoting factor RpfE', 'Inter-feature', '100%']], 'CGCGAAAAGACGCAAAAGCTCCCAAATCCGGTCGGATTTGGGAGCTTTTGCGTCTGCTCG')\n",
      "('MEME-1', 1.63e-12, [], 815636, 815695, [['Rv0723:Rv0724', '50S ribosomal protein L15 RplO:Possible protease IV SppA (endopeptidase IV) (signal peptide peptidase)', 'Inter-feature', '44%'], ['Rv0724', 'Possible protease IV SppA (endopeptidase IV) (signal peptide peptidase)', 'CDS', '55%']], 'GGCGAGCAGACGCAAAATGCCCCCGAAATGCCCATTTTCGGGGGCTTTTGCGTCTGCTCG')\n",
      "('MEME-1', 1.98e-12, [], 2751596, 2751655, [['Rv2449c:Rv2450c', 'Conserved protein:Probable resuscitation-promoting factor RpfE', 'Inter-feature', '100%']], 'CGCGAGCAGACGCAAAAGCTCCCAAATCCGACCGGATTTGGGAGCTTTTGCGTCTTTTCG')\n",
      "('MEME-1', 1.98e-12, [], 3059790, 3059849, [['Rv2747:Rv2748c', 'Probable L-glutamate alpha-N-acetyltranferase ArgA (alpha-N-acetylglutamate synthase):Possible cell division transmembrane protein FtsK', 'Inter-feature', '100%']], 'GGCGAGCAGACGCAAAATCGCCTCATTTCGGCACGAAATGGGCGATTTTGCGTCTGCTCG')\n",
      "('MEME-1', 2.2e-12, ['Rv3416'], 3835205, 3835264, [['Rv3416:Rv3417c', 'Transcriptional regulatory protein WhiB-like WhiB3. Contains [4FE-4S] cluster.:60 kDa chaperonin 1 GroEL1 (protein CPN60-1) (GroEL protein 1)', 'Inter-feature', '100%']], 'CGCGAGCAGACGCTAAAGCCCCCGCACGCTCGGCGTGTCGGGGGCTTTTGCGTCTGCTGA')\n",
      "('MEME-1', 4.17e-12, [], 842302, 842361, [['Rv0750:Rv0751c', 'Conserved hypothetical protein:Probable 3-hydroxyisobutyrate dehydrogenase MmsB (hibadh)', 'Inter-feature', '74%'], ['Rv0751c', 'Probable 3-hydroxyisobutyrate dehydrogenase MmsB (hibadh)', 'CDS', '25%']], 'GGCGAGCAGACGCATAAGCGCCCAATTTCGTGTCGAAATGGGCGCTTATGCGTCTGCTCG')\n",
      "('MEME-1', 4.42e-12, [], 3104978, 3105037, [['Rv2795c:Rv2796c', 'Conserved hypothetical protein:Probable conserved lipoprotein LppV', 'Inter-feature', '100%']], 'CGTGAGCAGACGCAAAAGCCCCCATTTCGGGCCCGAAATGGGGGCTTTTGCGTCTGCTCG')\n",
      "('MEME-1', 4.42e-12, ['Rv3792'], 4237936, 4237995, [['Rv3792', 'Arabinofuranosyltransferase AftA', 'CDS', '100%']], 'CGCGAGCAGACGTAAAAGCCCCCATTTCGTGCCCGAATTGGGGGCTTTTGCGTCTGCTCG')\n",
      "('MEME-1', 8.6e-12, ['Rv3319'], 3707571, 3707630, [['Rv3319:Rv3320c', 'Probable succinate dehydrogenase (iron-sulphur protein subunit) SdhB (succinic dehydrogenase) (fumarate reductase) (fumarate dehydrogenase) (fumaric hydrogenase):Possible toxin VapC44. Contains PIN domain.', 'Inter-feature', '100%']], 'CGCGAGCAGACGCAAAATCGCCCGAAAACCAGTGGTTTTGGGCGATTTTGCGTCTGCTCG')\n",
      "('MEME-1', 8.6e-12, [], 279534, 279593, [['Rv0233:Rv0234c', 'Ribonucleoside-diphosphate reductase (beta chain) NrdB (ribonucleotide reductase small chain):Succinate-semialdehyde dehydrogenase [NADP+] dependent (SSDH) GabD1', 'Inter-feature', '100%']], 'GGCGAGCAGACGCAAAATCGCCCAATTTCGTGCCGAATTGGGCGATTTTGCGTCTGCTCG')\n",
      "('MEME-1', 1e-11, ['Rv0467', 'Rv0468'], 558819, 558878, [['Rv0467:Rv0468', 'Isocitrate lyase Icl (isocitrase) (isocitratase):3-hydroxybutyryl-CoA dehydrogenase FadB2 (beta-hydroxybutyryl-CoA dehydrogenase) (BHBD)', 'Inter-feature', '100%']], 'CGCGAGCAGACGCAAAAGCGCCACTTTTGCGCCGCAAAAGGGTGCTTTTGCGTCTGCTCG')\n",
      "('MEME-1', 1.15e-11, [], 2931638, 2931697, [['Rv2603c:Rv2604c', 'Highly conserved protein:Probable glutamine amidotransferase SnoP', 'Inter-feature', '91%'], ['Rv2604c', 'Probable glutamine amidotransferase SnoP', 'CDS', '8%']], 'CGTGAGCAGTCGCAAAAGCACCCGTTTCAGGCCGAAATTTGGAGCTTTTGTGTCTGCTCG')\n",
      "('MEME-1', 1.17e-11, [nan, nan, nan], 4008656, 4008715, [['Rv3566A:Rv3567c', 'Hypothetical protein:Possible oxidoreductase. Possible 3-hydroxy-9,10-seconandrost-1,3,5(10)-triene-9,17-dione hydroxylase.', 'Inter-feature', '100%']], 'CGCGAGCAGACGCAAAATCGCCCATTTTGCGGGCGTGTTGGGCGATTTTGCGTCTGCTCG')\n",
      "('MEME-1', 1.32e-11, [], 3215596, 3215655, [['Rv2905:Rv2906c', 'Probable conserved alanine rich lipoprotein LppW:Probable tRNA (guanine-N1)-methyltransferase TrmD (M1G-methyltransferase) (tRNA [GM37] methyltransferase)', 'Inter-feature', '100%']], 'CGCGAGCAGACGCAAAAGCCACCGCACGTTCGGCGTGTCGGGGGATTTCGCGTCTGCTCG')\n",
      "('MEME-1', 1.5e-11, [], 3724555, 3724614, [['Rv3338:Rv3339c', 'Conserved hypothetical protein:Probable isocitrate dehydrogenase [NADP] Icd1 (oxalosuccinate decarboxylase) (IDH) (NADP+-specific ICDH) (IDP)', 'Inter-feature', '100%']], 'GGCGAGCAGACGCAAAATCGCCCAATTTCGTGCCGAAATGGGCGATTTTGCGTCTGCTCG')\n",
      "('MEME-1', 2.38e-11, ['Rv0211'], 253603, 253662, [['Rv0211:Rv0212c', 'Probable iron-regulated phosphoenolpyruvate carboxykinase [GTP] PckA (phosphoenolpyruvate carboxylase) (PEPCK)(pep carboxykinase):Possible transcriptional regulatory protein NadR (probably AsnC-family)', 'Inter-feature', '100%']], 'GGCGAGCAGACGCATAAGCCCCCGCACGCACGGCGTGTCGAGGGCTTTAGTGTCTGCTCG')\n",
      "('MEME-1', 2.43e-11, [], 3803853, 3803912, [['Rv3388:Rv3389c', 'PE-PGRS family protein PE_PGRS52:Probable 3-hydroxyacyl-thioester dehydratase HtdY', 'Inter-feature', '100%']], 'CGCGAGCAGACGCAAAATCGCCCAATTTCGTGCCGAATTGGGCGATTTTGCGTCTGCTCG')\n",
      "('MEME-1', 3.28e-11, [], 1497159, 1497218, [['Rv1328:Rv1329c', 'Probable glycogen phosphorylase GlgP:Probable ATP-dependent helicase DinG', 'Inter-feature', '59%'], ['Rv1329c', 'Probable ATP-dependent helicase DinG', 'CDS', '40%']], 'GCCGAGAAGACGCAAAAGCTCCTAAATCTGGCCGATTTAGTGGGCTTTTGCGTCTGCTCG')\n",
      "('MEME-1', 3.62e-11, [], 1345184, 1345243, [['Rv1201c:Rv1202', 'Tetrahydrodipicolinate N-succinyltransferase DapD:Probable succinyl-diaminopimelate desuccinylase DapE', 'Inter-feature', '100%']], 'GCCGAGCAGACGCAAAAGCACCCGATTCTGGTCGAAATAGGGTGGTTTTGTGTCTGTTCG')\n",
      "('MEME-1', 5.16e-11, [], 3348482, 3348541, [['Rv2991:tRNA', 'Conserved protein:tRNA-Glu', 'Inter-feature', '100%']], 'GCCGAGCAGACGCAAAATCGCCCAATTTCGTCTCGAAATGGGCGATTTTGCGTCTGCTCG')\n",
      "('MEME-1', 5.84e-11, ['Rv3140'], 3508002, 3508061, [['Rv3140:Rv3141', 'Probable acyl-CoA dehydrogenase FadE23:Probable NADPH quinone oxidoreductase FadB4 (NADPH:quinone reductase) (zeta-crystallin)', 'Inter-feature', '100%']], 'CGCCAGCAGACGCAAAAGCCCCCGATTTCACTGAAATTCGGGGGCTTTGACGTCTGCTCG')\n",
      "('MEME-1', 5.85e-11, ['Rv3792'], 4237934, 4237993, [['Rv3792', 'Arabinofuranosyltransferase AftA', 'CDS', '100%']], 'GCCGAGCAGACGCAAAAGCCCCCAATTCGGGCACGAAATGGGGGCTTTTACGTCTGCTCG')\n",
      "('MEME-1', 6.18e-11, [], 3560115, 3560174, [['Rv3192:Rv3193c', 'Conserved hypothetical alanine and proline-rich protein:Probable conserved transmembrane protein', 'Inter-feature', '100%']], 'CGTGAGCAGACGCAGAAGTCCCCGATTTCCGGTGAAATCGGCGACTTCTGCGTCTGCTCG')\n",
      "('MEME-1', 1.72e-10, ['Rv0711'], 806171, 806230, [['Rv0710:Rv0711', '30S ribosomal protein S17 RpsQ:Possible arylsulfatase AtsA (aryl-sulfate sulphohydrolase) (arylsulphatase)', 'Inter-feature', '100%']], 'GACGAGCAGTCGCAAAAGCCCCCGACACGCGCGGCGTGCGGGGGCTTTTGCGACTGCTCG')\n",
      "('MEME-1', 3.18e-10, [], 1363440, 1363499, [['Rv1219c:Rv1220c', 'Probable transcriptional regulatory protein:Probable methyltransferase', 'Inter-feature', '100%']], 'GGCGAGCAGACGCAAAATCGCCCTGAACCGTGCGTTCCAGGGCGATTTTGCGTCTGCTCG')\n",
      "('MEME-1', 3.56e-10, [], 3628088, 3628147, [['Rv3247c:Rv3248c', 'Thymidylate kinase Tmk (dTMP kinase) (thymidylic acid kinase) (TMPK):Probable adenosylhomocysteinase SahH (S-adenosyl-L-homocysteine hydrolase) (adohcyase)', 'Inter-feature', '100%']], 'CGCGAGCAGACGCAAAATCGCCCATTTTCATGACGAAAAGGGCGATTTTGCGTCTGCTCG')\n",
      "('MEME-1', 3.7e-10, [], 2546437, 2546496, [['Rv2273:Rv2274c', 'Probable conserved transmembrane protein:Possible toxin MazF8', 'Inter-feature', '84%'], ['Rv2274c', 'Possible toxin MazF8', 'CDS', '15%']], 'GGCGAGTAGACGCAAAAGCCCCCGACACTCCGTGCGTGCGGGGGCTTTTGCGTCTGTTCG')\n",
      "('MEME-1', 5.5e-10, [], 1371708, 1371767, [['Rv1228:Rv1229c', 'Probable lipoprotein LpqX:Probable Mrp-related protein Mrp', 'Inter-feature', '100%']], 'CGTGAGCAGACGCAAAAGAACCCGATTCTGGTCGAAATTGGGTGCCGTTGCGTCTGCTCG')\n",
      "('MEME-1', 5.5e-10, [], 829706, 829765, [['Rv0737:Rv0738', 'Possible transcriptional regulatory protein:Conserved protein', 'Inter-feature', '100%']], 'GGCGGGCAGACGCGTAAGCGCCCAATGTCGTGCCGAAATGGGCGCTTATGCGTCTGCTCG')\n",
      "('MEME-1', 6.13e-10, [], 1371706, 1371765, [['Rv1228:Rv1229c', 'Probable lipoprotein LpqX:Probable Mrp-related protein Mrp', 'Inter-feature', '100%']], 'GCCGAGCAGACGCAACGGCACCCAATTTCGACCAGAATCGGGTTCTTTTGCGTCTGCTCA')\n",
      "('MEME-1', 6.13e-10, [], 1133264, 1133323, [['Rv1013:Rv1014c', 'Putative polyketide synthase Pks16:Probable peptidyl-tRNA hydrolase Pth', 'Inter-feature', '100%']], 'GCCGAGCAGACGCAAAATCCCCTCGACACGCCGGTTGCGAGGGGATTTTGCGTCTGCTCA')\n",
      "('MEME-1', 8.29e-10, [], 2451180, 2451239, [['Rv2188c:Rv2189c', 'Mannosyltransferase PimB:Conserved hypothetical protein', 'Inter-feature', '100%']], 'CGCGAGCAGACGCAAAATCACCCGGAAACCGGCGATTTTGGGCGACTTTGCGTCTGCTCA')\n",
      "('MEME-1', 8.56e-10, [], 3560117, 3560176, [['Rv3192:Rv3193c', 'Conserved hypothetical alanine and proline-rich protein:Probable conserved transmembrane protein', 'Inter-feature', '100%']], 'GGCGAGCAGACGCAGAAGTCGCCGATTTCACCGGAAATCGGGGACTTCTGCGTCTGCTCA')\n",
      "('MEME-1', 1.26e-09, [], 3590633, 3590692, [['Rv3212:Rv3213c', 'Conserved alanine valine rich protein:Possible SOJ/para-related protein', 'Inter-feature', '98%'], ['Rv3213c', 'Possible SOJ/para-related protein', 'CDS', '1%']], 'GCGCGACAGACGCAAAATCGCCCGAAAGCCATCGGTTTCGGGCGATTTTGCGTCTGCTCG')\n",
      "('MEME-1', 1.37e-09, [], 3909760, 3909819, [['Rv3490:Rv3491', 'Alpha, alpha-trehalose-phosphate synthase [UDP-forming] OtsA (trehalose-6-phosphate synthase) (UDP-glucose-glucosephosphate glucosyltransferase) (trehalosephosphate-UDP glucosyltransferase) (trehalose-6-phosphate synthetase) (trehalose-phosphate synthase) (trehalose-phosphate synthetase) (transglucosylase) (trehalosephosphate-UDP glucosyl transferase):Unknown protein', 'Inter-feature', '100%']], 'CGCGAGCAGACGCAGAATCGCCCAATTTCGTGCCGAAATGGGCGATTCTGCGTCTGCTCG')\n",
      "('MEME-1', 1.42e-09, [], 1133266, 1133325, [['Rv1013:Rv1014c', 'Putative polyketide synthase Pks16:Probable peptidyl-tRNA hydrolase Pth', 'Inter-feature', '100%']], 'CGTGAGCAGACGCAAAATCCCCTCGCAACCGGCGTGTCGAGGGGATTTTGCGTCTGCTCG')\n",
      "('MEME-1', 1.43e-09, [], 2700470, 2700529, [['Rv2402:Rv2403c', 'Conserved protein:Probable conserved lipoprotein LppR', 'Inter-feature', '100%']], 'GCCGAGCAGACGCAAAATCGCCCATTTCGGCCCGAATTTGGGCGATTTTGCGTCTGCTCG')\n",
      "('MEME-1', 1.68e-09, [], 1363438, 1363497, [['Rv1219c:Rv1220c', 'Probable transcriptional regulatory protein:Probable methyltransferase', 'Inter-feature', '100%']], 'GCCGAGCAGACGCAAAATCGCCCTGGAACGCACGGTTCAGGGCGATTTTGCGTCTGCTCG')\n",
      "('MEME-1', 2.14e-09, [], 3348480, 3348539, [['Rv2991:tRNA', 'Conserved protein:tRNA-Glu', 'Inter-feature', '100%']], 'GGCGAGCAGACGCAAAATCGCCCATTTCGAGACGAAATTGGGCGATTTTGCGTCTGCTCG')\n",
      "('MEME-1', 2.49e-09, ['Rv3319'], 3707573, 3707632, [['Rv3319:Rv3320c', 'Probable succinate dehydrogenase (iron-sulphur protein subunit) SdhB (succinic dehydrogenase) (fumarate reductase) (fumarate dehydrogenase) (fumaric hydrogenase):Possible toxin VapC44. Contains PIN domain.', 'Inter-feature', '100%']], 'CGCGAGCAGACGCAAAATCGCCCAAAACCACTGGTTTTCGGGCGATTTTGCGTCTGCTCG')\n",
      "('MEME-1', 2.55e-09, [], 3059792, 3059851, [['Rv2747:Rv2748c', 'Probable L-glutamate alpha-N-acetyltranferase ArgA (alpha-N-acetylglutamate synthase):Possible cell division transmembrane protein FtsK', 'Inter-feature', '100%']], 'GCCGAGCAGACGCAAAATCGCCCATTTCGTGCCGAAATGAGGCGATTTTGCGTCTGCTCG')\n",
      "('MEME-1', 3.4e-09, [], 736234, 736293, [['Rv0641:Rv0642c', '50S ribosomal protein L1 RplA:Methoxy mycolic acid synthase 4 MmaA4 (methyl mycolic acid synthase 4) (MMA4) (hydroxy mycolic acid synthase)', 'Inter-feature', '100%']], 'GGCGAGCAGACGCATAAGCCCCCGACACGCCGTGCGTGCGGGGGCTTATGCGTCTGCTCG')\n",
      "('MEME-1', 4.64e-09, ['Rv1180'], 1313332, 1313391, [['Rv1179c:Rv1180', 'Unknown protein:Probable polyketide beta-ketoacyl synthase Pks3', 'Inter-feature', '100%']], 'GCGCGAAAGACGCAAAAGGCCCCGAATCCAACGGATTTCGGGGCCTTTTGCGTCTGCTCG')\n",
      "('MEME-1', 6.34e-09, ['Rv1058'], 1182322, 1182381, [['Rv1058:Rv1059', 'Probable medium chain fatty-acid-CoA ligase FadD14 (fatty-acid-CoA synthetase) (fatty-acid-CoA synthase):Conserved protein', 'Inter-feature', '100%']], 'CGCGAGCAGACGCAAAAGCCCCCATTTCGACACGAAAATGGGCGATTTTGCGTCTGCTCG')\n",
      "('MEME-1', 6.34e-09, [], 1828801, 1828860, [['Rv1626:Rv1627c', 'Probable two-component system transcriptional regulator:Probable nonspecific lipid-transfer protein', 'Inter-feature', '100%']], 'CGCGAGCAGACGCAAAATCGCCCATTTCGGGTACGAAATGGGCGATTTTGCGTCTGCTCG')\n",
      "('MEME-1', 7.18e-09, [], 1357066, 1357125, [['Rv1213:Rv1214c', 'Glucose-1-phosphate adenylyltransferase GlgC (ADP-glucose synthase) (ADP-glucose pyrophosphorylase):PE family protein PE14', 'Inter-feature', '100%']], 'GCCGAGCAGACGCAGAATCGCCCAATTTCGTGCCGAAATGGGCGATTCTGTGTCTGCTCG')\n",
      "('MEME-1', 9e-09, ['Rv3028c'], 3387005, 3387064, [['Rv3027c:Rv3028c', 'GCN5-related N-acetyltransferase:Probable electron transfer flavoprotein (alpha-subunit) FixB (alpha-ETF) (electron transfer flavoprotein large subunit) (ETFLS)', 'Inter-feature', '100%']], 'GGTGAGCAGGCGCCAAGGCCCCCCACGCCTCGGCGTGTCGGGGTCTTTTGCGACTGCTCG')\n",
      "('MEME-1', 9.26e-09, [], 1872571, 1872630, [['Rv1658:Rv1659', 'Probable argininosuccinate synthase ArgG:Probable argininosuccinate lyase ArgH', 'Inter-feature', '100%']], 'GGCGAGCAGACGCAGAATCGCACGCCGACGGGCGTGGCGGTGCGATTCTGCGTCTGCTCG')\n",
      "('MEME-1', 1.11e-08, [], 4088258, 4088317, [['Rv3647c:Rv3648c', 'Conserved hypothetical protein:Probable cold shock protein A CspA', 'Inter-feature', '100%']], 'GGCGAGCAGACGTAAAGCCCCCAAAACGGAACCGTTTTGGGGGCTTTTTGCGTCTGCTCG')\n",
      "('MEME-1', 1.23e-08, [], 842304, 842363, [['Rv0750:Rv0751c', 'Conserved hypothetical protein:Probable 3-hydroxyisobutyrate dehydrogenase MmsB (hibadh)', 'Inter-feature', '71%'], ['Rv0751c', 'Probable 3-hydroxyisobutyrate dehydrogenase MmsB (hibadh)', 'CDS', '28%']], 'CGCGAGCAGACGCATAAGCGCCCATTTCGACACGAAATTGGGCGCTTATGCGTCTGCTCG')\n",
      "('MEME-1', 1.33e-08, [], 3590631, 3590690, [['Rv3212:Rv3213c', 'Conserved alanine valine rich protein:Possible SOJ/para-related protein', 'Inter-feature', '100%']], 'CGCGAGCAGACGCAAAATCGCCCGAAACCGATGGCTTTCGGGCGATTTTGCGTCTGTCGC')\n",
      "('MEME-1', 1.39e-08, [], 2931636, 2931695, [['Rv2603c:Rv2604c', 'Highly conserved protein:Probable glutamine amidotransferase SnoP', 'Inter-feature', '94%'], ['Rv2604c', 'Probable glutamine amidotransferase SnoP', 'CDS', '5%']], 'CACGAGCAGACACAAAAGCTCCAAATTTCGGCCTGAAACGGGTGCTTTTGCGACTGCTCA')\n",
      "('MEME-1', 1.89e-08, [], 1064054, 1064113, [['Rv0952:Rv0953c', 'Probable succinyl-CoA synthetase (alpha chain) SucD (SCS-alpha):Possible oxidoreductase', 'Inter-feature', '100%']], 'GGCGAGCAGACGCATAAGCCCCCGACACGCCGAGCGTGCGGGGGCTTATGCGTCTGCTCG')\n",
      "('MEME-1', 2.08e-08, [], 1828799, 1828858, [['Rv1626:Rv1627c', 'Probable two-component system transcriptional regulator:Probable nonspecific lipid-transfer protein', 'Inter-feature', '100%']], 'GGCGAGCAGACGCAAAATCGCCCATTTCGTACCCGAAATGGGCGATTTTGCGTCTGCTCG')\n",
      "('MEME-1', 2.09e-08, [], 1488086, 1488145, [['Rv1324:Rv1325c', 'Possible thioredoxin:PE-PGRS family protein PE_PGRS24', 'Inter-feature', '100%']], 'CGCGAGCAGACGCAGAATCGCCTAAACCCGTGCGGGTTTAGGCGATTCTGCGTCTGCTCG')\n",
      "('MEME-1', 2.23e-08, [], 755267, 755326, [['Rv0660c:Rv0661c', 'Possible antitoxin MazE2:Possible toxin VapC7', 'Inter-feature', '100%']], 'GGCGAGCAGTCGCATAAGCCCCCGACACGCCGAGCGTGCGGGGGCTTATGCGTCTGCTCG')\n",
      "('MEME-1', 2.25e-08, [], 2554865, 2554924, [['Rv2281:Rv2282c', 'Putative phosphate-transport permease PitB:Probable transcription regulator (LysR family)', 'Inter-feature', '100%']], 'CGCGAGCAGTCGCTAAAGCCCCCGACACGCCGTGCGTGCGGGGGCTTATGCGACTGCTCG')\n",
      "('MEME-1', 2.3e-08, [], 4088260, 4088319, [['Rv3647c:Rv3648c', 'Conserved hypothetical protein:Probable cold shock protein A CspA', 'Inter-feature', '100%']], 'CGCGAGCAGACGCAAAAAGCCCCCAAAACGGTTCCGTTTTGGGGGCTTTACGTCTGCTCG')\n",
      "('MEME-1', 4.22e-08, [], 3803855, 3803914, [['Rv3388:Rv3389c', 'PE-PGRS family protein PE_PGRS52:Probable 3-hydroxyacyl-thioester dehydratase HtdY', 'Inter-feature', '100%']], 'GCCGAGCAGACGCAAAATCGCCCAATTCGGCACGAAATTGGGCGATTTTGCGTCTGCTCG')\n",
      "('MEME-1', 5.35e-08, [], 279536, 279595, [['Rv0233:Rv0234c', 'Ribonucleoside-diphosphate reductase (beta chain) NrdB (ribonucleotide reductase small chain):Succinate-semialdehyde dehydrogenase [NADP+] dependent (SSDH) GabD1', 'Inter-feature', '100%']], 'GGCGAGCAGACGCAAAATCGCCCAATTCGGCACGAAATTGGGCGATTTTGCGTCTGCTCG')\n",
      "('MEME-1', 5.74e-08, ['Rv0860'], 958459, 958518, [['Rv0860:Rv0861c', 'Probable fatty oxidation protein FadB:DNA helicase Ercc3', 'Inter-feature', '100%']], 'CGCGAGCAGACGTAAAAGCCCCCGACACGCCGAGCGTGCGGGGGCTTTTACGTCTGCTCG')\n",
      "('MEME-1', 6.17e-08, [], 3724553, 3724612, [['Rv3338:Rv3339c', 'Conserved hypothetical protein:Probable isocitrate dehydrogenase [NADP] Icd1 (oxalosuccinate decarboxylase) (IDH) (NADP+-specific ICDH) (IDP)', 'Inter-feature', '100%']], 'CGCGAGCAGACGCAAAATCGCCCATTTCGGCACGAAATTGGGCGATTTTGCGTCTGCTCG')\n",
      "('MEME-1', 6.48e-08, [], 2907751, 2907810, [['Rv2582:Rv2583c', \"Probable peptidyl-prolyl cis-trans isomerase B PpiB (cyclophilin) (PPIase) (rotamase) (peptidylprolyl isomerase):Probable GTP pyrophosphokinase RelA (ATP:GTP 3'-pyrophosphotransferase) (PPGPP synthetase I) ((P)PPGPP synthetase) (GTP diphosphokinase)\", 'Inter-feature', '100%']], 'GCCGAGCAGACACAGAATCGCACGAAATCAGCCCGCCCAATGCGATTCTGCGTCTGCTCG')\n",
      "('MEME-1', 7.4e-08, [], 663391, 663450, [['Rv0570:Rv0571c', 'Probable ribonucleoside-diphosphate reductase (large subunit) NrdZ (ribonucleotide reductase):Conserved protein', 'Inter-feature', '100%']], 'CGCGAGCAGACGCAGAATCGCATCAAAATCGCTGATTTTGTGCGATTCTGCGTCTGCTCG')\n",
      "('MEME-1', 8.65e-08, [], 2522172, 2522231, [['repeat_region', 'repeat_region', 'repeat_region', '98%'], ['repeat_region:Rv2248', 'repeat_region:Conserved hypothetical protein', 'Inter-feature', '1%']], 'CGCGAGCAGACGCAGAATCGCACGCGCGAGGTCCGCGCCGTGCGATTCTGCGTCTGCTCG')\n",
      "('MEME-1', 9.31e-08, [], 456203, 456262, [['Rv0379:Rv0380c', 'Possible protein transport protein SecE2:Possible RNA methyltransferase (RNA methylase)', 'Inter-feature', '100%']], 'GGCGAGCAGACACAAAATCGCACGAATCAACCGCAAACCGTGCGATTTTGCGTCTGCTCG')\n",
      "('MEME-1', 9.9e-08, [], 1488084, 1488143, [['Rv1324:Rv1325c', 'Possible thioredoxin:PE-PGRS family protein PE_PGRS24', 'Inter-feature', '100%']], 'GGCGAGCAGACGCAGAATCGCCTAAACCCGCACGGGTTTAGGCGATTCTGCGTCTGCTCG')\n",
      "('MEME-1', 1.16e-07, [], 2720639, 2720698, [['Rv2423', 'Hypothetical protein', 'CDS', '6%'], ['repeat_region', 'repeat_region', 'repeat_region', '22%'], ['repeat_region:Rv2424c', 'repeat_region:Probable transposase', 'Inter-feature', '71%']], 'GGTGAGCAGTCGCAAAAGCCCCCGAAACCGGTCGGATTTGGGGGCTGGTACGTGAATTAG')\n",
      "('MEME-1', 1.57e-07, [], 663389, 663448, [['Rv0570:Rv0571c', 'Probable ribonucleoside-diphosphate reductase (large subunit) NrdZ (ribonucleotide reductase):Conserved protein', 'Inter-feature', '100%']], 'CGCGAGCAGACGCAGAATCGCACAAAATCAGCGATTTTGATGCGATTCTGCGTCTGCTCG')\n",
      "('MEME-1', 1.64e-07, ['Rv2846c', 'Rv2845c'], 3152969, 3153028, [['Rv2845c:Rv2846c', 'Probable prolyl-tRNA synthetase ProS (proline--tRNA ligase) (PRORS) (global RNA synthesis factor) (proline translase):Possible integral membrane efflux protein EfpA', 'Inter-feature', '100%']], 'GCCGAGCAGACGCAAAAGCGCCCAGGTCTGCCCGAAAAGGGGAGCTTTTATGACTGCTCG')\n",
      "('MEME-1', 1.74e-07, [], 456201, 456260, [['Rv0379:Rv0380c', 'Possible protein transport protein SecE2:Possible RNA methyltransferase (RNA methylase)', 'Inter-feature', '100%']], 'GGCGAGCAGACGCAAAATCGCACGGTTTGCGGTTGATTCGTGCGATTTTGTGTCTGCTCG')\n",
      "('MEME-1', 2.09e-07, [nan, nan, nan], 4008654, 4008713, [['Rv3566A:Rv3567c', 'Hypothetical protein:Possible oxidoreductase. Possible 3-hydroxy-9,10-seconandrost-1,3,5(10)-triene-9,17-dione hydroxylase.', 'Inter-feature', '100%']], 'GGCGAGCAGACGCAAAATCGCCCAACACGCCCGCAAAATGGGCGATTTTGCGTCTGCTCG')\n",
      "('MEME-1', 2.6e-07, ['Rv0154c'], 183231, 183290, [['Rv0154c:Rv0155', 'Probable acyl-CoA dehydrogenase FadE2:Probable NAD(P) transhydrogenase (subunit alpha) PntAa [first part; catalytic part] (pyridine nucleotide transhydrogenase subunit alpha) (nicotinamide nucleotide transhydrogenase subunit alpha)', 'Inter-feature', '100%']], 'CGCTAGCAGACGCATAAGTCCCTCGACACGCCGACGAGAAGGGGGTTTTGCGTCTGCTCG')\n",
      "('MEME-1', 2.6e-07, [], 2451178, 2451237, [['Rv2188c:Rv2189c', 'Mannosyltransferase PimB:Conserved hypothetical protein', 'Inter-feature', '100%']], 'CGTGAGCAGACGCAAAGTCGCCCAAAATCGCCGGTTTCCGGGTGATTTTGCGTCTGCTCG')\n",
      "('MEME-1', 2.73e-07, [], 3628086, 3628145, [['Rv3247c:Rv3248c', 'Thymidylate kinase Tmk (dTMP kinase) (thymidylic acid kinase) (TMPK):Probable adenosylhomocysteinase SahH (S-adenosyl-L-homocysteine hydrolase) (adohcyase)', 'Inter-feature', '100%']], 'CGCGAGCAGACGCAAAATCGCCCTTTTCGTCATGAAAATGGGCGATTTTGCGTCTGCTCG')\n",
      "('MEME-1', 2.74e-07, ['Rv0211'], 253605, 253664, [['Rv0211:Rv0212c', 'Probable iron-regulated phosphoenolpyruvate carboxykinase [GTP] PckA (phosphoenolpyruvate carboxylase) (PEPCK)(pep carboxykinase):Possible transcriptional regulatory protein NadR (probably AsnC-family)', 'Inter-feature', '100%']], 'CGCGAGCAGACACTAAAGCCCTCGACACGCCGTGCGTGCGGGGGCTTATGCGTCTGCTCG')\n",
      "('MEME-1', 3.64e-07, [], 4021393, 4021452, [['Rv3578:Rv3579c', 'Possible arsenical pump integral membrane protein ArsB2:Possible tRNA/rRNA methyltransferase', 'Inter-feature', '52%'], ['Rv3579c', 'Possible tRNA/rRNA methyltransferase', 'CDS', '47%']], 'CGCGAGCAGACGCAGAATCGCATGATTTGAGCTCAAATCATGCGATTCTGCGTCTGCTCG')\n",
      "('MEME-1', 3.64e-07, [], 4021395, 4021454, [['Rv3578:Rv3579c', 'Possible arsenical pump integral membrane protein ArsB2:Possible tRNA/rRNA methyltransferase', 'Inter-feature', '49%'], ['Rv3579c', 'Possible tRNA/rRNA methyltransferase', 'CDS', '50%']], 'CGCGAGCAGACGCAGAATCGCATGATTTGAGCTCAAATCATGCGATTCTGCGTCTGCTCG')\n",
      "('MEME-1', 3.64e-07, [], 829708, 829767, [['Rv0737:Rv0738', 'Possible transcriptional regulatory protein:Conserved protein', 'Inter-feature', '100%']], 'CGCGAGCAGACGCATAAGCGCCCATTTCGGCACGACATTGGGCGCTTACGCGTCTGCCCG')\n",
      "('MEME-1', 8.03e-07, [], 3215598, 3215657, [['Rv2905:Rv2906c', 'Probable conserved alanine rich lipoprotein LppW:Probable tRNA (guanine-N1)-methyltransferase TrmD (M1G-methyltransferase) (tRNA [GM37] methyltransferase)', 'Inter-feature', '100%']], 'GGCGAGCAGACGCGAAATCCCCCGACACGCCGAACGTGCGGTGGCTTTTGCGTCTGCTCG')\n",
      "('MEME-1', 9.85e-07, [], 3909758, 3909817, [['Rv3490:Rv3491', 'Alpha, alpha-trehalose-phosphate synthase [UDP-forming] OtsA (trehalose-6-phosphate synthase) (UDP-glucose-glucosephosphate glucosyltransferase) (trehalosephosphate-UDP glucosyltransferase) (trehalose-6-phosphate synthetase) (trehalose-phosphate synthase) (trehalose-phosphate synthetase) (transglucosylase) (trehalosephosphate-UDP glucosyl transferase):Unknown protein', 'Inter-feature', '100%']], 'CGCGAGCAGACGCAGAATCGCCCATTTCGGCACGAAATTGGGCGATTCTGCGTCTGCTCG')\n",
      "('MEME-1', 1.37e-06, ['Rv3416'], 3835207, 3835266, [['Rv3416:Rv3417c', 'Transcriptional regulatory protein WhiB-like WhiB3. Contains [4FE-4S] cluster.:60 kDa chaperonin 1 GroEL1 (protein CPN60-1) (GroEL protein 1)', 'Inter-feature', '100%']], 'GGTCAGCAGACGCAAAAGCCCCCGACACGCCGAGCGTGCGGGGGCTTTAGCGTCTGCTCG')\n",
      "('MEME-1', 2.42e-06, [], 1357064, 1357123, [['Rv1213:Rv1214c', 'Glucose-1-phosphate adenylyltransferase GlgC (ADP-glucose synthase) (ADP-glucose pyrophosphorylase):PE family protein PE14', 'Inter-feature', '100%']], 'CGCGAGCAGACACAGAATCGCCCATTTCGGCACGAAATTGGGCGATTCTGCGTCTGCTCG')\n",
      "('MEME-1', 2.51e-06, [], 3075378, 3075437, [['Rv2765:Rv2766c', 'Probable alanine rich hydrolase:Probable short-chain type dehydrogenase/reductase', 'Inter-feature', '100%']], 'GCCAAGCAGACGCAGAATCGCATTAATCGCGCCCGGTTTGTGCGATTCTGCGTCTGCTTG')\n",
      "('MEME-1', 3.28e-06, [], 1568046, 1568105, [['Rv1392:Rv1393c', 'Probable S-adenosylmethionine synthetase MetK (mat) (AdoMet synthetase) (methionine adenosyltransferase):Probable monoxygenase', 'Inter-feature', '100%']], 'CGCGAGCAGACGCAGAATCGCACGCGGAAAGGCTTCCGCGTGCGATTCTGCGTCTGCTCG')\n",
      "('MEME-1', 4.32e-06, [], 2439147, 2439206, [['Rv2176:Rv2177c', 'Probable transmembrane serine/threonine-protein kinase L PknL (protein kinase L) (STPK L):Possible transposase', 'Inter-feature', '100%'], ['mobile_element', 'mobile_element', 'mobile_element', '100%']], 'CCTTAATTCACGTACCAGCCCCCATTTTCGTGCCGAAATGGGGGCTTTTGCGACTGCTCG')\n",
      "('MEME-1', 4.5e-06, [], 1469595, 1469654, [['mobile_element', 'mobile_element', 'mobile_element', '94%'], ['repeat_region', 'repeat_region', 'repeat_region', '32%'], ['mobile_element:Rv1314c', 'mobile_element:Conserved protein', 'Inter-feature', '5%']], 'CCACGGAAGTGTCAGAAGAGCCCAAAAACCGTGGGTATTGGGGGCTTTCGCGTCTGCTCG')\n",
      "('MEME-1', 6.16e-06, [], 2839475, 2839534, [['Rv2522c', 'Conserved hypothetical protein', 'CDS', '100%']], 'CGCGAGCAGACGCAGAGTCGCATGAAAATCCGGATTTCGATGCGATTCTGCGTCTGCTCG')\n",
      "('MEME-1', 9.9e-06, [], 1872569, 1872628, [['Rv1658:Rv1659', 'Probable argininosuccinate synthase ArgG:Probable argininosuccinate lyase ArgH', 'Inter-feature', '100%']], 'CGCGAGCAGACGCAGAATCGCACCGCCACGCCCGTCGGCGTGCGATTCTGCGTCTGCTCG')\n"
     ]
    },
    {
     "name": "stderr",
     "output_type": "stream",
     "text": [
      "100%|██████████| 113/113 [00:00<?, ?it/s]\n"
     ]
    }
   ],
   "source": [
    "seq_hits = []\n",
    "filtered_hits = []\n",
    "fimo_hit_positions = []\n",
    "matched_sequences = []\n",
    "for i, r in fimo_hits.iterrows():\n",
    "    if '#' in r['motif_id']:\n",
    "        continue\n",
    "    fimo_hit_positions.append((int(r['start']), int(r['stop']), r['q-value'], r['motif_alt_id'],r['matched_sequence']))\n",
    "    fimo_hit_positions.sort(key = lambda x : x[2])\n",
    "for (start1, end1, q, alt_id, matched_sequence) in fimo_hit_positions:    \n",
    "    feature_matches = []\n",
    "    for (locus, product, feature, start, stop) in annotated_regions:\n",
    "            if start< end1 and stop > start1:\n",
    "                overlap = str(int(100*(min(end1, stop) - max(start1, start))/ (end1-start1)))+'%'\n",
    "                #Don't want to output ortholog info as it clutters!\n",
    "                #feature_matches.append([locus, ortholog_locus, product, feature, overlap])\n",
    "                feature_matches.append([locus, product, feature, overlap])\n",
    "    if q < 1e-5:\n",
    "        match_list = []\n",
    "        for x in feature_matches:\n",
    "            for y in x:\n",
    "                for gene in gene_list:\n",
    "                    if str(gene) in str(y):\n",
    "                         match_list.append(gene)\n",
    "        if len(match_list) >= 0 and alt_id == 'MEME-1':\n",
    "            output_info = (alt_id, q, match_list, start1, end1, feature_matches, matched_sequence)\n",
    "            print(output_info)\n",
    "            matched_sequences.append([str(start1)+'_'+str(end1), matched_sequence ])\n",
    "            filtered_hits.append(output_info)\n",
    "pd.DataFrame(filtered_hits, columns = ['alt_id','q-value', 'up/down_regulated_matches', 'start', 'end', 'feature_positions', 'matched_sequence']).to_csv(project_dir + '/filtered_fimo_hits.csv')\n",
    "util.produce_fasta_file(matched_sequences, project_dir + '/fimo_sequences.faa')"
   ]
  },
  {
   "cell_type": "code",
   "execution_count": 89,
   "id": "9b62f20e-8349-4b2e-b06e-71d20d9c0d57",
   "metadata": {},
   "outputs": [
    {
     "data": {
      "text/plain": [
       "CompletedProcess(args='wsl export PATH=$HOME/meme/bin:$HOME/meme/libexec/meme-5.4.1:usr/bin:$PATH ; meme \"/mnt/f/Project_Data/mabR_Project/fimo_sequences.faa\" -oc \"/mnt/f/Project_Data/mabR_Project/Second_MEME_Output\" -dna -evt 0.01 -revcomp -mod anr -brief 4000 -minw 3 -maxw 200 -minsites 5', returncode=0)"
      ]
     },
     "execution_count": 89,
     "metadata": {},
     "output_type": "execute_result"
    }
   ],
   "source": [
    "min_width = 3\n",
    "min_sites = 5\n",
    "subprocess.run('wsl export PATH=$HOME/meme/bin:$HOME/meme/libexec/meme-5.4.1:usr/bin:$PATH ; meme \\\"/mnt/f/Project_Data/mabR_Project/fimo_sequences.faa\" -oc \\\"/mnt/f/Project_Data/mabR_Project/Second_MEME_Output\" -dna -evt 0.01 -revcomp -mod anr -brief 4000 -minw ' + str(min_width) +' -maxw 200 -minsites ' + str(min_sites)\n",
    "               , shell=True)"
   ]
  },
  {
   "cell_type": "code",
   "execution_count": null,
   "id": "841f4cae-0ba3-4694-a8c7-0428f6b9d5bf",
   "metadata": {},
   "outputs": [],
   "source": []
  }
 ],
 "metadata": {
  "kernelspec": {
   "display_name": "Python 3 (ipykernel)",
   "language": "python",
   "name": "python3"
  },
  "language_info": {
   "codemirror_mode": {
    "name": "ipython",
    "version": 3
   },
   "file_extension": ".py",
   "mimetype": "text/x-python",
   "name": "python",
   "nbconvert_exporter": "python",
   "pygments_lexer": "ipython3",
   "version": "3.9.7"
  }
 },
 "nbformat": 4,
 "nbformat_minor": 5
}
