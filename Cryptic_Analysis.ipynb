{
 "cells": [
  {
   "cell_type": "markdown",
   "id": "b1e30ed4-8a0e-4a6f-96eb-dfe116dfb2de",
   "metadata": {},
   "source": [
    "#### Directories etc"
   ]
  },
  {
   "cell_type": "code",
   "execution_count": 1,
   "id": "cf9c6377-5080-4c22-94db-feabe17cc47c",
   "metadata": {},
   "outputs": [
    {
     "name": "stderr",
     "output_type": "stream",
     "text": [
      "C:\\Users\\nicho\\Anaconda3\\envs\\Bioinformatics\\lib\\site-packages\\ete3-3.1.2-py3.7.egg\\ete3\\evol\\parser\\codemlparser.py:221: SyntaxWarning: \"is\" with a literal. Did you mean \"==\"?\n",
      "C:\\Users\\nicho\\Anaconda3\\envs\\Bioinformatics\\lib\\site-packages\\ete3-3.1.2-py3.7.egg\\ete3\\evol\\parser\\codemlparser.py:221: SyntaxWarning: \"is\" with a literal. Did you mean \"==\"?\n"
     ]
    }
   ],
   "source": [
    "import pandas as pd\n",
    "import pickle\n",
    "import seaborn as sns\n",
    "import matplotlib.pyplot as plt\n",
    "import numpy as np\n",
    "from scipy.fft import fft, fftfreq\n",
    "from Bio import Entrez, SeqIO, AlignIO, pairwise2, Align, Seq, motifs\n",
    "from Bio.Seq import Seq\n",
    "from Bio.SeqFeature import SeqFeature, FeatureLocation\n",
    "from scipy.stats import binom\n",
    "import math\n",
    "import random\n",
    "from tqdm import tqdm\n",
    "from Comparative_Analysis import Utilities as util\n",
    "import random\n",
    "from joblib import Parallel, delayed\n",
    "from Comparative_Analysis import Blast_Functions as blastfn\n",
    "import time\n",
    "import os\n",
    "import copy\n",
    "from Comparative_Analysis import ORF_Functions as orffn\n",
    "from random import sample\n",
    "import ete3;"
   ]
  },
  {
   "cell_type": "code",
   "execution_count": 49,
   "id": "1988a242-f558-4643-b3a9-27272fa7bebc",
   "metadata": {},
   "outputs": [],
   "source": [
    "project_dir = 'D:/Project_Data/Project_9'\n",
    "cryptic_input_path = \"F:/Datasets/CRYPTIC_DATA/\"\n",
    "seq_dir = 'D:/Project_Data/Project_8/Datasets/Actinobacteria_Ref_Rep_Lev_Complete'\n",
    "tb_species = 'NC_000962.3' \n",
    "tb_genome_filename = 'GCF_000195955.2_ASM19595v2_genomic.gbff'\n",
    "num_cores = 16\n",
    "core_numbers = list(range(1, num_cores+1))\n",
    "mycobrowser_dir = 'D:/Project_Data/Project_8/Datasets'"
   ]
  },
  {
   "cell_type": "code",
   "execution_count": 3,
   "id": "0e4a41b9-51a1-44ba-bee1-86fb6dd6855b",
   "metadata": {},
   "outputs": [],
   "source": [
    "for record in SeqIO.parse(seq_dir + '/' + tb_genome_filename, \"genbank\"):\n",
    "    full_sequence = str(record.seq)\n",
    "for record in SeqIO.parse(project_dir + '/annot.gbk', \"genbank\"):\n",
    "    reannotated_sequence = str(record.seq)"
   ]
  },
  {
   "cell_type": "code",
   "execution_count": 55,
   "id": "bba7e94a-f3f3-4b38-b620-c4a62e55efbb",
   "metadata": {},
   "outputs": [],
   "source": [
    "mycobrowser_features =[]\n",
    "mycobrowser_df = pd.read_csv(mycobrowser_dir+'/Mycobrowser_Release_4.csv')\n",
    "for i, r in mycobrowser_df.iterrows():\n",
    "    if r['Strand'] == '+':\n",
    "        strand = 1\n",
    "    else:\n",
    "        strand = -1\n",
    "    mycobrowser_features.append([r['Locus'],r['Start']-1, r['Stop'], strand])"
   ]
  },
  {
   "cell_type": "code",
   "execution_count": 4,
   "id": "5bed02d4-5edf-46c9-bc55-cc30edc8028c",
   "metadata": {},
   "outputs": [],
   "source": [
    "barcode_df = pd.read_csv(project_dir +'/Barcode.csv')"
   ]
  },
  {
   "cell_type": "code",
   "execution_count": 5,
   "id": "4b88b412-d21e-4178-aef9-84e81e3c0f87",
   "metadata": {},
   "outputs": [],
   "source": [
    "full_run = False"
   ]
  },
  {
   "cell_type": "markdown",
   "id": "e3ee7e9e-6a66-485f-badf-22c81560e77f",
   "metadata": {},
   "source": [
    "#### Functions"
   ]
  },
  {
   "cell_type": "code",
   "execution_count": 6,
   "id": "30ebdfd2-85cc-4bc6-86c5-9e3c6c9cf3ec",
   "metadata": {},
   "outputs": [],
   "source": [
    "def produce_sequences(position_list, variant_dict, position_dict):\n",
    "    base_sequence = []\n",
    "    for i in position_list:\n",
    "        base_sequence.append(full_sequence[i-1])     # Cryptic are 1 based \n",
    "    output_sequence_dict ={}\n",
    "    for k, v in variant_dict.items():\n",
    "        output_sequence_dict[k] = copy.deepcopy(base_sequence)\n",
    "    for i, pos in enumerate(position_list):\n",
    "        if pos in position_dict:\n",
    "            variant_info = position_dict[pos][1:]  # Miss out initlal \"ref\" record\n",
    "            for (name, alt) in variant_info:\n",
    "                output_sequence_dict[name][i] = alt.upper()\n",
    "    output_sequences = []\n",
    "    for k, v in output_sequence_dict.items():\n",
    "        output_sequences.append(['seq_'+str(k), ''.join(v)])\n",
    "    return output_sequences"
   ]
  },
  {
   "cell_type": "code",
   "execution_count": 7,
   "id": "fefd2694-16c3-4f59-b516-08d2b64a3082",
   "metadata": {},
   "outputs": [],
   "source": [
    "def produce_sequences_to_score(position_list, variant_dict, position_dict, distinct_sequence_names):\n",
    "    base_sequence = []\n",
    "    for i in position_list:\n",
    "        base_sequence.append({full_sequence[i-1]})     # Cryptic are 1 based \n",
    "    output_sequence_dict ={}\n",
    "    for k, v in variant_dict.items():\n",
    "        if k in distinct_sequence_names:\n",
    "            output_sequence_dict[k] = copy.deepcopy(base_sequence)\n",
    "    for i, pos in enumerate(position_list):\n",
    "        if pos in position_dict:\n",
    "            variant_info = position_dict[pos][1:]  # Miss out initlal \"ref\" record\n",
    "            for (name, alt) in variant_info:\n",
    "                if name in output_sequence_dict:\n",
    "                    output_sequence_dict[name][i] = {alt.upper()}\n",
    "    temp_dict = {}\n",
    "    for k, v in output_sequence_dict.items():\n",
    "        temp_dict['seq_'+str(k)] = v\n",
    "    return temp_dict"
   ]
  },
  {
   "cell_type": "code",
   "execution_count": 8,
   "id": "9d9acb43-19f3-45e0-8214-f9481910cfae",
   "metadata": {},
   "outputs": [],
   "source": [
    "def fitch_1(list_1, list_2):\n",
    "    res =[]\n",
    "    for i, j in zip(list_1, list_2):\n",
    "        a = i.intersection(j)\n",
    "        if len(a) == 0:\n",
    "            a = i.union(j)\n",
    "        res.append(a)\n",
    "    return res\n",
    "\n",
    "def fitch_2(parent_list, child_list):\n",
    "    res = []\n",
    "    mutations = []\n",
    "    for i, j in zip(parent_list, child_list):\n",
    "        mutation = 0\n",
    "        a = i.intersection(j)\n",
    "        if len(a) == 0:\n",
    "            a = set(list(j)[0])\n",
    "            mutation = 1\n",
    "        res.append(a)\n",
    "        if mutation == 1:\n",
    "            mutations.append(1)\n",
    "        else:\n",
    "            mutations.append(0)\n",
    "    return (res, mutations)"
   ]
  },
  {
   "cell_type": "code",
   "execution_count": 9,
   "id": "b9db00dd-1420-47db-abea-32369fb5dcba",
   "metadata": {},
   "outputs": [],
   "source": [
    "def bin_formula(position_3_counts, tot_bin_counts):\n",
    "    return 1- binom.cdf(position_3_counts-1, tot_bin_counts,1/3)"
   ]
  },
  {
   "cell_type": "code",
   "execution_count": 10,
   "id": "b9eaf090-a2a6-4b2d-b054-602281be9016",
   "metadata": {
    "tags": []
   },
   "outputs": [],
   "source": [
    "def mutation_bin_probability(mutation_counts):\n",
    "    bin_counts = [0,0,0]\n",
    "    for i, c in enumerate(mutation_counts):\n",
    "        bin_counts[i % 3] += c\n",
    "    if sum(bin_counts) == 0:\n",
    "        return (2)\n",
    "    else:\n",
    "        return (bin_counts, bin_formula(bin_counts[2], sum(bin_counts)))  "
   ]
  },
  {
   "cell_type": "code",
   "execution_count": 11,
   "id": "461e5a4a-6849-4e60-b1d0-8b6c81e20610",
   "metadata": {},
   "outputs": [],
   "source": [
    "def calculation_mutation_significance(start, stop):  \n",
    "    positions = list(range(start,stop))\n",
    "    sequence_to_score_dict = produce_sequences_to_score(positions, variant_dict, position_dict, distinct_sequence_names)\n",
    "\n",
    "    for node in master_tree.traverse(\"postorder\"):\n",
    "        if node.is_leaf():\n",
    "            node.add_features(seq = sequence_to_score_dict[node.name])\n",
    "        else:\n",
    "            children = node.children\n",
    "            node.add_features(seq = fitch_1(children[0].seq, children[1].seq))\n",
    "    for k, v in sequence_to_score_dict.items():              \n",
    "        seq_length = len(v)\n",
    "        break\n",
    "\n",
    "    mutation_counts = [0 for i in range(seq_length)]\n",
    "    for node in master_tree.traverse(\"preorder\"):\n",
    "        if node.is_leaf():\n",
    "            continue\n",
    "        if node.is_root():\n",
    "            node.seq = [{list(x)[0]} for x in node.seq]\n",
    "        children = node.children\n",
    "        mutations = []\n",
    "        for child in children:\n",
    "            (temp_1, temp_2) = fitch_2(node.seq ,child.seq)\n",
    "            child.seq = temp_1\n",
    "            mutations.append(temp_2)\n",
    "        temp = []\n",
    "        for h, i, j in zip(mutation_counts, mutations[0], mutations[1]):\n",
    "            temp.append(h+max(i, j))\n",
    "        mutation_counts = temp        \n",
    "    return mutation_bin_probability(mutation_counts)"
   ]
  },
  {
   "cell_type": "code",
   "execution_count": 12,
   "id": "95cb8d3e-ef11-4e1a-bf89-cacff5ff6f2b",
   "metadata": {},
   "outputs": [],
   "source": [
    "def generate_mutation_counts(filename):    \n",
    "    a = filename.split('_')\n",
    "    start = a[-3]\n",
    "    stop = a[-2]\n",
    "    with open(filename, 'rb') as f:\n",
    "        sequence_to_score_dict = pickle.load(f)\n",
    "    for node in master_tree.traverse(\"postorder\"):\n",
    "        if node.is_leaf():\n",
    "            node.add_features(seq = sequence_to_score_dict[node.name])\n",
    "        else:\n",
    "            children = node.children\n",
    "            node.add_features(seq = fitch_1(children[0].seq, children[1].seq))\n",
    "    for k, v in sequence_to_score_dict.items():              \n",
    "        seq_length = len(v)\n",
    "        break\n",
    "\n",
    "    mutation_counts = [0 for i in range(seq_length)]\n",
    "    for node in master_tree.traverse(\"preorder\"):\n",
    "        if node.is_leaf():\n",
    "            continue\n",
    "        if node.is_root():\n",
    "            node.seq = [{list(x)[0]} for x in node.seq]\n",
    "        children = node.children\n",
    "        mutations = []\n",
    "        for child in children:\n",
    "            (temp_1, temp_2) = fitch_2(node.seq ,child.seq)\n",
    "            child.seq = temp_1\n",
    "            mutations.append(temp_2)\n",
    "        temp = []\n",
    "        for h, i, j in zip(mutation_counts, mutations[0], mutations[1]):\n",
    "            temp.append(h+max(i, j))\n",
    "        mutation_counts = temp        \n",
    "    return (start, stop, mutation_counts)"
   ]
  },
  {
   "cell_type": "markdown",
   "id": "fcc25129-08e0-4ce1-9b17-a64f477c50d8",
   "metadata": {},
   "source": [
    "#### Create variant dictionaries "
   ]
  },
  {
   "cell_type": "code",
   "execution_count": null,
   "id": "a5fcbb04-2c85-4719-b420-2651cf1e2cdf",
   "metadata": {},
   "outputs": [],
   "source": [
    "if full_run == True:\n",
    "    variant_df = pd.read_csv(cryptic_input_path + \"VARIANTS.csv\") \n",
    "    with open(project_dir + '/variant_df.pkl', 'wb') as f:\n",
    "        pickle.dump(variant_df[['UNIQUEID', 'VARIANT', 'MUTATION_TYPE', 'IS_NULL', 'IS_HET', 'IS_FILTER_PASS', 'IS_SNP', 'REF', 'ALT', 'GENOME_INDEX']], f)    "
   ]
  },
  {
   "cell_type": "code",
   "execution_count": null,
   "id": "77fe61cc-adfe-4aa1-97d1-ba7ef7ac00ff",
   "metadata": {},
   "outputs": [],
   "source": [
    "if full_run == True:\n",
    "    position_dict = {}\n",
    "    variant_dict = {}\n",
    "    id_dict = {}\n",
    "    with open(project_dir + '/variant_df.pkl', 'rb') as f:\n",
    "        variant_df = pickle.load(f) \n",
    "        unique_ids = variant_df.UNIQUEID.unique()\n",
    "        for i, unique_id in enumerate(unique_ids):\n",
    "            id_dict[unique_id] = i\n",
    "\n",
    "        for i, r in variant_df.iterrows():\n",
    "            if r['IS_NULL'] == False and r['IS_FILTER_PASS'] == True and r['IS_HET'] == False and r['IS_SNP'] == True :\n",
    "                \n",
    "                if id_dict[r['UNIQUEID']] in variant_dict:\n",
    "                    variant_dict[id_dict[r['UNIQUEID']]].append((r['GENOME_INDEX'], r['ALT']))\n",
    "                else:\n",
    "                    variant_dict[id_dict[r['UNIQUEID']]] = [(r['GENOME_INDEX'], r['ALT'])]\n",
    "\n",
    "                if r['GENOME_INDEX'] in position_dict:\n",
    "                    position_dict[r['GENOME_INDEX']].append((id_dict[r['UNIQUEID']], r['ALT']))\n",
    "                else:\n",
    "                    position_dict[r['GENOME_INDEX']] = [r['REF'], (id_dict[r['UNIQUEID']], r['ALT'])]    # If first entry also include reference value for info\n",
    "\n",
    "    with open(project_dir + '/id_dict.pkl', 'wb') as f:\n",
    "        pickle.dump(id_dict, f)\n",
    "    with open(project_dir + '/variant_dict.pkl', 'wb') as f:\n",
    "        pickle.dump(variant_dict, f) \n",
    "    with open(project_dir + '/position_dict.pkl', 'wb') as f:\n",
    "        pickle.dump(position_dict, f) \n",
    "        "
   ]
  },
  {
   "cell_type": "code",
   "execution_count": 59,
   "id": "ef9da2b4-26ab-4150-90e6-99fc3b388cf3",
   "metadata": {},
   "outputs": [],
   "source": [
    "if full_run == False:\n",
    "    with open(project_dir + '/id_dict.pkl', 'rb') as f:\n",
    "        id_dict = pickle.load(f)  \n",
    "    with open(project_dir + '/variant_dict.pkl', 'rb') as f:\n",
    "        variant_dict = pickle.load(f)  \n",
    "    with open(project_dir + '/position_dict.pkl', 'rb') as f:\n",
    "        position_dict = pickle.load(f)  "
   ]
  },
  {
   "cell_type": "markdown",
   "id": "a4f26106-6d45-411e-b4bd-e5f796e37793",
   "metadata": {},
   "source": [
    "#### Output full sequences and distinct sequences based on barcode positions for construction of tree"
   ]
  },
  {
   "cell_type": "code",
   "execution_count": 60,
   "id": "b9a14de1-b8a7-495a-97f4-42b60a5e379c",
   "metadata": {},
   "outputs": [],
   "source": [
    "barcode_snps = []\n",
    "for i, r in barcode_df.iterrows():\n",
    "    start = r['start'] + 1            # Cryptic file is 1 indexed\n",
    "    lineage_name = r['lineage']\n",
    "    if start in position_dict and 'lineage' in lineage_name:   # Just TB lineages\n",
    "        barcode_snps.append(start)"
   ]
  },
  {
   "cell_type": "code",
   "execution_count": 63,
   "id": "7c0306d9-c288-43c4-825f-4d5044db6a86",
   "metadata": {},
   "outputs": [
    {
     "data": {
      "text/plain": [
       "985"
      ]
     },
     "execution_count": 63,
     "metadata": {},
     "output_type": "execute_result"
    }
   ],
   "source": [
    "len(barcode_snps)"
   ]
  },
  {
   "cell_type": "code",
   "execution_count": 61,
   "id": "660f3b4b-8717-48be-9261-a60243a3eebb",
   "metadata": {},
   "outputs": [
    {
     "name": "stderr",
     "output_type": "stream",
     "text": [
      "100%|██████████| 77580/77580 [00:01<00:00, 72653.39it/s]\n"
     ]
    }
   ],
   "source": [
    "sequences = produce_sequences(barcode_snps, variant_dict, position_dict)\n",
    "util.produce_fasta_file(sequences, project_dir + '/' + 'tb_variants.faa')"
   ]
  },
  {
   "cell_type": "code",
   "execution_count": 62,
   "id": "9468f0da-f0af-48d1-b9ee-2fc476fc3169",
   "metadata": {},
   "outputs": [
    {
     "name": "stderr",
     "output_type": "stream",
     "text": [
      "100%|██████████| 3045/3045 [00:00<00:00, 48240.62it/s]\n"
     ]
    }
   ],
   "source": [
    "distinct_sequences = []\n",
    "distinct_sequence_names = []\n",
    "temp_dict = {}\n",
    "for (ref, seq) in sequences:\n",
    "    temp_dict[seq] = ref\n",
    "for k, v in temp_dict.items():    \n",
    "    distinct_sequences.append([v, k])\n",
    "    distinct_sequence_names.append(int(v.split('_')[1]))\n",
    "util.produce_fasta_file(distinct_sequences, project_dir + '/' + 'distinct_tb_variants.faa')"
   ]
  },
  {
   "cell_type": "code",
   "execution_count": null,
   "id": "75a87d12-a23d-4a2c-9c78-d1bea113586d",
   "metadata": {},
   "outputs": [],
   "source": [
    "master_tree = ete3.Tree(project_dir + '/' + 'distinct_tb_variants.nwk')"
   ]
  },
  {
   "cell_type": "markdown",
   "id": "38020a2d-eb43-4999-a94a-d887fcbba4a1",
   "metadata": {
    "tags": []
   },
   "source": [
    "#### Produce and save mutations per position (first produce files containing blocks of 10,000 nt values for all sequences in tree - will take about 36 hours)"
   ]
  },
  {
   "cell_type": "code",
   "execution_count": null,
   "id": "c5e1bc63-f5ae-4208-9a5f-329ac6bb3a0c",
   "metadata": {
    "tags": []
   },
   "outputs": [],
   "source": [
    "if full_run == True:\n",
    "    small_variant_dict = {}\n",
    "    for k, v in variant_dict.items():\n",
    "        if k in distinct_sequence_names:\n",
    "            small_variant_dict[k] = vtb_sequence_length = len(full_sequence)\n",
    "    chunk_size = 10000\n",
    "    num_chunks = math.ceil(tb_sequence_length/chunk_size)\n",
    "    for chunk in tqdm(range(num_chunks)):\n",
    "        start_pos = chunk * chunk_size\n",
    "        end_pos = min(tb_sequence_length, start_pos + chunk_size)\n",
    "        variant_sequence_dict = {}\n",
    "        for k, v in small_variant_dict.items():\n",
    "            temp = list(full_sequence)\n",
    "            for (pos, snp) in v:\n",
    "                temp[pos-1] = snp.upper()\n",
    "            variant_sequence_dict['seq_'+str(k)] = [{x} for x in temp[start_pos:end_pos]]\n",
    "        with open(project_dir + '/Cryptic_Sequence_Dictionaries/variant_dict_'+str(start_pos)+'_'+str(end_pos)+'_' + '.pkl', 'wb') as f:\n",
    "                pickle.dump(variant_sequence_dict, f) \n",
    "                \n",
    "    filename_list = util.list_files(project_dir+'/Cryptic_Sequence_Dictionaries')\n",
    "    res = []\n",
    "    start_time = time.time()\n",
    "    for filename in tqdm(filename_list):\n",
    "        temp = generate_mutation_counts(project_dir+'/Cryptic_Sequence_Dictionaries/'+filename)\n",
    "        res.append(temp)\n",
    "    with open(project_dir + '/mutation_counts.pkl', 'wb') as f:\n",
    "                pickle.dump(res, f) "
   ]
  },
  {
   "cell_type": "code",
   "execution_count": 13,
   "id": "1740e557-9786-42c4-8b3e-1ee1f9e5df0c",
   "metadata": {},
   "outputs": [],
   "source": [
    "if full_run == False:\n",
    "    with open(project_dir + '/mutation_counts.pkl', 'rb') as f:\n",
    "        mutation_counts = pickle.load(f)  \n",
    "mutation_counts.sort(key = lambda x: int(x[0]))\n",
    "mutation_count_list = []\n",
    "for (start, stop, counts) in mutation_counts:\n",
    "    for count in counts:\n",
    "        mutation_count_list.append(count)"
   ]
  },
  {
   "cell_type": "markdown",
   "id": "240d70ef-14d8-4bf2-a360-0e611506a410",
   "metadata": {},
   "source": [
    "##### Calculate probabilites for Rv0001"
   ]
  },
  {
   "cell_type": "code",
   "execution_count": 14,
   "id": "3f6b3bf0-ecda-4573-8e66-7fcde8acd18c",
   "metadata": {},
   "outputs": [],
   "source": [
    "cds_boundaries = []\n",
    "for genome_record in SeqIO.parse(seq_dir + '/' + tb_genome_filename, \"genbank\"):\n",
    "    for feature in genome_record.features:\n",
    "        if feature.type == 'CDS':\n",
    "            a = feature.qualifiers  \n",
    "            if a.get(\"pseudo\") == None:\n",
    "                pseudo = False\n",
    "            else:\n",
    "                pseudo = True\n",
    "            cds_boundaries.append((a.get(\"locus_tag\")[0], pseudo, a.get(\"product\")[0], int(feature.location.start), int(feature.location.end), int(feature.location.strand)))   \n",
    "reannotated_cds_boundaries = []\n",
    "for genome_record in SeqIO.parse(project_dir + '/annot.gbk', \"genbank\"):\n",
    "    for feature in genome_record.features:\n",
    "        if feature.type == 'CDS':\n",
    "            a = feature.qualifiers  \n",
    "            if a.get(\"pseudo\") == None:\n",
    "                pseudo = False\n",
    "            else:\n",
    "                pseudo = True\n",
    "            reannotated_cds_boundaries.append((a.get(\"locus_tag\")[0], pseudo, a.get(\"product\")[0], int(feature.location.start), int(feature.location.end), int(feature.location.strand)))   \n",
    "cds_boundaries.sort(key = lambda x: x[3])\n",
    "reannotated_cds_boundaries.sort(key = lambda x: x[3])"
   ]
  },
  {
   "cell_type": "code",
   "execution_count": 65,
   "id": "f77c9d1e-8d02-4ed8-9d7f-2f599b5f1a66",
   "metadata": {},
   "outputs": [],
   "source": [
    "temp =[]\n",
    "for (locus, pseudo, product, start, stop, strand) in cds_boundaries:\n",
    "    if pseudo == False:\n",
    "        if strand == 1:\n",
    "            temp.append(mutation_bin_probability(mutation_count_list[start:stop]))\n",
    "        else:\n",
    "            temp.append(mutation_bin_probability(reversed(mutation_count_list[start:stop])))\n",
    "scores = []\n",
    "for x in temp:\n",
    "    if x == 2:\n",
    "        scores.append(x)\n",
    "    else:\n",
    "        scores.append(x[1])"
   ]
  },
  {
   "cell_type": "code",
   "execution_count": 66,
   "id": "81a3d538-ddcd-4554-888a-214c4290215c",
   "metadata": {},
   "outputs": [
    {
     "data": {
      "text/plain": [
       "3009"
      ]
     },
     "execution_count": 66,
     "metadata": {},
     "output_type": "execute_result"
    }
   ],
   "source": [
    "len([x for x in scores if x < 1e-2])"
   ]
  },
  {
   "cell_type": "code",
   "execution_count": 67,
   "id": "c5b95884-03f2-4e7d-bfbf-17e12f093e1c",
   "metadata": {},
   "outputs": [
    {
     "data": {
      "text/plain": [
       "3906"
      ]
     },
     "execution_count": 67,
     "metadata": {},
     "output_type": "execute_result"
    }
   ],
   "source": [
    "len(scores)"
   ]
  },
  {
   "cell_type": "code",
   "execution_count": 17,
   "id": "e88b9d7e-f827-4b4d-921e-f63b44f50ac3",
   "metadata": {},
   "outputs": [
    {
     "data": {
      "text/plain": [
       "<AxesSubplot:ylabel='Count'>"
      ]
     },
     "execution_count": 17,
     "metadata": {},
     "output_type": "execute_result"
    },
    {
     "data": {
      "image/png": "[encoded data removed]",
      "text/plain": [
       "<Figure size 432x288 with 1 Axes>"
      ]
     },
     "metadata": {
      "needs_background": "light"
     },
     "output_type": "display_data"
    }
   ],
   "source": [
    "sns.histplot(scores, bins =100)"
   ]
  },
  {
   "cell_type": "code",
   "execution_count": null,
   "id": "c9a915a7-a92b-4573-854f-e22ca21cb574",
   "metadata": {
    "jp-MarkdownHeadingCollapsed": true,
    "tags": []
   },
   "outputs": [],
   "source": [
    "for (locus, pseudo, product, start, stop, strand) in cds_boundaries:\n",
    "    if strand == 1:\n",
    "        prob = (mutation_bin_probability(mutation_count_list[start:stop]))\n",
    "    else:\n",
    "        prob = (mutation_bin_probability(reversed(mutation_count_list[start:stop])))\n",
    "    overlap = 0\n",
    "    for (loc, pse, pro, sta, sto, stra) in reannotated_cds_boundaries:\n",
    "        if stop > sta and start < sto:\n",
    "            a = (min(stop, sto) - max(sta, start)) / (stop - start)\n",
    "            if a > 0.7:\n",
    "                overlap = 1\n",
    "                #print(locus, a, prob)\n",
    "               \n",
    "    if overlap == 0:\n",
    "        print(locus, pseudo, start, stop, product, ' has no overlap', prob)"
   ]
  },
  {
   "cell_type": "code",
   "execution_count": null,
   "id": "2544e334-2b5c-4b52-b79c-221fecb5d060",
   "metadata": {},
   "outputs": [],
   "source": [
    "for (locus, pseudo, product, start, stop, strand) in cds_boundaries:\n",
    "    if strand == 1:\n",
    "        prob = (mutation_bin_probability(mutation_count_list[start:stop]))\n",
    "    else:\n",
    "        prob = (mutation_bin_probability(reversed(mutation_count_list[start:stop])))\n",
    "    print(locus, start, stop, strand, prob)"
   ]
  },
  {
   "cell_type": "code",
   "execution_count": 68,
   "id": "dc8097f8-f9c8-4a7f-9bc0-b7525a5503e5",
   "metadata": {},
   "outputs": [],
   "source": [
    "ORFFinder = orffn.ORF_Finder()"
   ]
  },
  {
   "cell_type": "code",
   "execution_count": 26,
   "id": "b6a5124b-ea8b-42f2-8002-3a0e074e1fac",
   "metadata": {},
   "outputs": [],
   "source": [
    "class Translator:\n",
    "    def __init__(self):\n",
    "        self.codon_dict = {}\n",
    "        with open(os.path.join(sys.path[0], 'Standard_Code.txt'), 'r') as f:\n",
    "        #with open('D:/Project_Data/Project_3/Datasets/Reference_Tables/Standard_Code.txt') as f:\n",
    "            for l in f:\n",
    "                self.codon_dict[str(l[1:4])] = l[5]\n",
    "    \n",
    "    def reverse_complement(self, seq_string):\n",
    "        complement_dict = {'A':'T','C':'G','G':'C','T':'A','N':'N'}\n",
    "        temp = []\n",
    "        for char in reversed(seq_string):\n",
    "            temp.append(complement_dict[char])\n",
    "        return ''.join(temp)\n",
    "    \n",
    "    def translate_sequence(self, input_seq, strand, rf, separate_start_symbol = False, separate_stop_symbol = False):\n",
    "        output_seq = ''\n",
    "        if strand == 1:\n",
    "            seq = input_seq[rf:]\n",
    "        else:\n",
    "            seq = self.reverse_complement(input_seq)[rf:]\n",
    "        for i in range(0,len(seq)-2,3):\n",
    "            if separate_start_symbol == True and seq[i:(i+3)] in ['ATG','GTG','TTG']:\n",
    "                output_seq += 'Z'\n",
    "            elif separate_stop_symbol == True and seq[i:(i+3)] in ['TAG','TGA','TAA']:\n",
    "                output_seq += 'J'"
   ]
  },
  {
   "cell_type": "code",
   "execution_count": 80,
   "id": "a5cff805-f691-4c93-9118-45e19d85518e",
   "metadata": {},
   "outputs": [],
   "source": [
    "min_intergenic_length = 300\n",
    "details =  []\n",
    "for i, (locus, pseudo, product, start, stop, strand) in enumerate(cds_boundaries):\n",
    "    if i < len(cds_boundaries) - 1:\n",
    "        if cds_boundaries[i+1][3] > stop + min_intergenic_length:\n",
    "            a =ORFFinder.max_orf(stop-40, cds_boundaries[i+1][3]+40, 5, output_all_orfs = False, min_orf_length = 300)\n",
    "            if a == (0,0,0):\n",
    "                pass\n",
    "            else:\n",
    "                details.append(a[3])"
   ]
  },
  {
   "cell_type": "code",
   "execution_count": 82,
   "id": "e555295f-8124-4af9-b6b7-e61c6a9bdeea",
   "metadata": {},
   "outputs": [
    {
     "data": {
      "text/plain": [
       "149"
      ]
     },
     "execution_count": 82,
     "metadata": {},
     "output_type": "execute_result"
    }
   ],
   "source": [
    "len(details)"
   ]
  },
  {
   "cell_type": "code",
   "execution_count": 81,
   "id": "532cf837-f0df-497d-ae1f-df5fe2c90385",
   "metadata": {},
   "outputs": [
    {
     "data": {
      "text/plain": [
       "<AxesSubplot:ylabel='Count'>"
      ]
     },
     "execution_count": 81,
     "metadata": {},
     "output_type": "execute_result"
    },
    {
     "data": {
      "image/png": "[encoded data removed]",
      "text/plain": [
       "<Figure size 432x288 with 1 Axes>"
      ]
     },
     "metadata": {
      "needs_background": "light"
     },
     "output_type": "display_data"
    }
   ],
   "source": [
    "sns.histplot(details, bins=100)"
   ]
  },
  {
   "cell_type": "code",
   "execution_count": 98,
   "id": "72391e7d-1d36-48bd-915a-6fd42cdfe584",
   "metadata": {},
   "outputs": [
    {
     "name": "stdout",
     "output_type": "stream",
     "text": [
      "(257782, 258904, -1, 0.0)\n",
      "MLAGYRTGGQYGGRQKVRNELNDDEAMLVATVRAFIDRDVKPTVREVEHANSYPEAWIEQMKHIGIYGLAIDEQYGGSPVSMPCYVQVTQELARGWMSLAGAMGGHTVVAKLLTLFGTEEQRRTYLPPMASGELRATMALTEPGGGSDLQNMSTTALADGPEGSAGLLINGCKTWISNARRSGLFAVLCKTDPNATPRHQGMSIVLVEPGPGLTVSRDLPKLGYKGVESCELSFDNLRVPVSAILGGAMGQGFSQMMKGLETGRIQVAARALGVATAALEDSLAYAQQRESFGRPIWQHQAVGNYLADMATKLTAARQLTRYAAERYDSGQRCDMEAGMAKLFASEVAMEIALNAVRIHGGYGYSTEYDVERR*\n",
      "\n",
      "(467458, 468001, -1, 0.0)\n",
      "MDFGALPPEINSARIYSGPGSRPLMQAAAAWQRLANELTATAASYSSVISGLTGDDWLGPSALSMAAAAVPYVAWMRATAASAEQAAAQAVAAANAYESAYAATVPPTVIAANRRTMLSLVQTNVFGQNTPAIATSETHYGEMWAHDILAMDGYAGASGAASQLRRSPATGDHQRGRVAE*\n",
      "\n",
      "(711535, 712231, 1, 0.0)\n",
      "MSATPPPGGLDASVFIANERGRQLDEALPVGFCVVTAPTRWTLADGRDLLFFSLPGHVPAPVSDRRPLPERDPAPSRLRFDRATGQWVIVAAQRQDRTYKPPAARCPLCPGPTGLSSEVPAPDYDVVVFENRFPSLAGAGIAPIGAPDGDGFVSAPGHGRCEVICFSADHTGSFAGLDPAHARLVVHAWRHRTAELTALPGVAQVFCFENRGEEIGVTLPTRTARFTPIRI*\n",
      "\n",
      "(874731, 876390, 1, 0.0)\n",
      "VTNDIPCGSRIYAPENSTRTRSPGSERESPGQLTTTVYYTTVDAAWRPDTVWRYRLGSGESSERVYHEADDRFWLAVGRTRSNAYLLIAAGSSITSEVRYAHAADPTAQFSVVLPRRDGVEYSVEHAVIAGQDRFLILHNDGAVNFTLVEAPVEDPARQRTLIAHRDDVRLDAVDALAGHLVVSYRREALPRVQLWPIGPDGNYGEPEEISFDSELMSAGLGPNPNWDSPKLRVGAGSFVTPVRIYDIDLVTGERTLLKEQPVLGGYRREDYVERRDWAYGDDGTRIPVSIVHRADIEFPAPALIYGYGAYEICEDPRFSIARLSLLDRGMVFVVAHVRGGGEMGRLWYENGKLLDKKNTFTDFIAVARHLVDTGLTSQQQLVALGGSAGGLLMGAVANMAPDLFAGILAQVPFVDPLTTILDPSLPLTVTEWDEWGNPLNDSDVYAYVKSYSPYENVTAQKYPAILAMTSLNDTRVYYVEPAKWVAALRHAKTDGNSVLLKTQMHAGHGGISGRYERWKETAFQYGWLLATADSDRYGGGQGNDLDGAAPA*\n",
      "\n",
      "(888973, 889297, 1, 0.0)\n",
      "VSADRPNLNTPSSEGGEPPRHVRRLQFLERMGSCQVVHRGGTRRSCVSGRCGWSQRSAVSTIRSGQRSVRSPVYLVLAARRRCVSGCARRRSMPAHGPGPRPKNPLS*\n",
      "\n",
      "(986169, 986535, 1, 0.0)\n",
      "LLLCVDKRTFRSRHECSSVTAQVETFCTQPMPTMSAPPAQAPVCGALAARPTAPGNASCTRPAKRDCRYGSRCETCLPFALAKDCRQASSRLQAATEPDETTTTSVISMRSPGSLQYQPAT*\n",
      "\n",
      "(1168703, 1169423, -1, 6.999141266561537e-10)\n",
      "LRHFLRLTFAGRFEGSRDDRPLLGYDTPTGLTCPYTTPLDVTADIIEARRHVPAKHQVSPSAPDSLKVQARVGWNRRQLSAVGGRGQQLFANAPGHIPSTSHRRGTGDINRKIDESLAGAARPQANANYGATSDPPLTHQPKPGSPTQVGPRSPSPPGLRGLVKQLPEVHQSSLHLDTVASLPSSRPSPHHTPLALRSRSGHFSPDEIRNRRSRKRSQSHMPPRTPPRGRCLRAPEALA*\n",
      "\n",
      "(1174994, 1175483, -1, 6.44638636049244e-05)\n",
      "VEALTPSTAGRAGLAQRALPRRAGRPLGPHRPRHLPTRRRVDRRLGSDRGRHAPPRRYDLPGLRTHAPRPDRRDPRRAGHRHPPLVEDTGQHRRDCVAPLRPGHILDRTRRDHDPGIGSDNRNLTHPSARSPIHSGSATKSVTNWRVTRCESGCAEAANPPG*\n",
      "\n",
      "(1176919, 1177270, -1, 0.0)\n",
      "LSRWPCRSSVIAAAACPRSRCTTLTLAPALIASEAVVCPRPCGTSLRSRPGRRRCRMPSGIHREAGIRPYGRGTPRRSGRWATRHGACAKQAQALVRDDPASSWSSTQRCPCRSPP*\n",
      "\n",
      "(1215598, 1216054, 1, 4.06442022593545e-07)\n",
      "VGTNLPTEVGQILSAPTSIDYNYPTTGVWDASYDICLDSTPKTTGVNQQEIMIWFNHQGSIQPVGSPVGNTTIEGKNFVVWDGSNGMNNAMAYVATEPIEVWSFDVMSFVDHTATMEPITDSWYLTSIRAGLEPWSDGVGLGVDSFSAKVN*\n",
      "\n",
      "(1231844, 1232462, 1, 0.0009177540186817712)\n",
      "LAAIPRRSRCSVNPRGNRHDPARHPGGRGSVRGGDRPELTGDIGLRPGEGSARRGLRPRQAGNRPVRCAQVHEVPTAAILSASSEVFNEVPVRNPGTLAFVPIVDGDLLPDYPVKLAQEGRSHPVPLIIGTNKHESALFRLMRSPLMPITPRDHVDVHPDCRRTARSASANRGADRLRVLAMAAQSTLIEYGYRRRLPDAVGVAR*\n",
      "\n",
      "(1264605, 1264947, 1, 0.0)\n",
      "MVITINRPEARNAVNGAVSIVVGDALEEAHDNPDVRAVVITGAGDKSLCAGADLKAIARRENPYHPHHGEWGIAGYRHHFIDKPTSAAVSGTALDDGAEPALASDLVVADEHT*\n",
      "\n",
      "(1475306, 1475681, -1, 2.9334022542681915e-05)\n",
      "VFLVNSRSSLVSATGSRSHRKGVHDIPVPLLPKLRGHFAEFLNHSYLVRLGMLYLTTCVGLGYGPCVCSLEAFLGSRGSPNSPQPAMRHLSGLVSDGFAYRSPYRLAPVLPLTGTATFLRHPFA*\n",
      "\n",
      "(1541779, 1542127, -1, 0.0)\n",
      "MSSWPPRAGSTGSTIAASTSTAATSRRSNSRLPTTLNARDQPPAEVSDQRVSGLTGAVQAGELTPCWVDGLGEFSKDFFEGGLRPRTSTGPARPSTSDGAGPGRFAPVIPPGSGW*\n",
      "\n",
      "(1694544, 1695162, -1, 1.986868918613105e-06)\n",
      "LRSWRRVSDHKVPFNRPYMTGRELAYIAEAHSCGHLAGDGPFTRRSHAWLEQQTGCRKALLTPSCTAALEMMALLLDIEEGDEVILPSYTFVSTANAFVLRGGVPVFVDIRPDTLNIDETRIVDAITPRTKAIVPVHYAGVACEMDAIMKIATHHNLAVVEDAAQGAMASYRGRALGSIGDLGALSFHETKNVISGEGGALLVNS*\n",
      "\n",
      "(1894223, 1895342, -1, 0.0)\n",
      "MAHLLGAEAVHLAYPTQVVFEAVTLGVNDGARIGIVGRNGDGKSSLLGLLTGQLRPDSGRVTRRSGLRVNALSQTDTLDPNRTVGWTLIGDQPEHQWAGNPRIRDVVAGLVSDIAWDTPVSTLSGGQRRRVQLASLLVGEWDVIALDEPTNHLDIQGITWLADHLRRRWARNTGGLLVVTHDRWFLDEVATTTWEVHDGIVEPFEGGYAAYVLQRVERDRLTAAAEAKRQNLLRKELAWLRRGAPARTCKPKFRIEAANQLIADVPPPRNTVELAKLAAARLGKDVVDLLGVSVSYQPSGGRPVLRDIEWRIGPGERIGIVGANGAGKSTLLGLIAGTVQPGVGRVKPSGWQCSISTGTIWHRLPTTGSPMC*\n",
      "\n",
      "(1986853, 1987675, -1, 0.000141668236141812)\n",
      "VYRNKTLGPISSVLTYGSLVTSFKQSADPRSDLVRFGVAPSYPASFAADVLANRLPRVSWVIPNVLESEHPAVPAAAGAFAIVNILRILLANPAVWEKTALIVSYDENGGFFDHVVPATAPAGTPGEYVTVPDIDQVPGSGGIRGPIGLGFRVPCFVISPYSRGPQMVHDTFDHTSQLRLLETRFGVPVPNLTAWRRSVTGDMTSTFNFAVPPNSSWPNLDYPGLHALSTVPQCVPNAALGTINRGIPYRVPDPQIMPTQETTPTRGIPSGPC*\n",
      "\n",
      "(2048385, 2049597, 1, 0.00035369471133528396)\n",
      "MTAALDFATLPPEINSARMYSGAGSAPMLAAASAWHGLSAELRASALSYSSVLSTLTGEEWHGPASASMTAAAAPYVAWMSVTAVRAEQAGAQAEAAAAAYEAAFAATVPPPVIEANRAQLMALIATNVLGQNAPAIAATEAQYAEMWSQDAMAMYGYAGASAAATQLTPFTEPVQTTNASGLAAQSAAIAHATGASAGAQQTTLSQLIAAIPSVLQGLSSSTAATFASGPSGLLGIVGSGSSWLDKLWALLDPNSNFWNTIASSGLFLPSNTIAPFLGLLGGVAAADAAGDVLGEATSGGLGGALVAPLGSAGGLGGTVAAGLGNAATVGTLSVPPSWTAAAPLASPLGSALGGTPMVAPPPAVAAGMPGMPFGTMGGQGFGRAVPQYGFRPNFVARPPAAG*\n",
      "\n",
      "(2137518, 2138325, -1, 0.0001872854434119553)\n",
      "LPRTWIATAGNLYRPLSVNCWPTMDYQCRRHRPESCLQPKAITARRSGVRSARRWLRPCAADERQWAWLVDRADAHVKEPSIMQPDAYPVRVRGDLDPALSRWQWLVKWFLAIPHYIVLFFLHVAAVVVTVIAFFAILFTGRYPRTLFDFNVGVMRWRWRVAFYALSALGTDRYPPFSLQTKAEYPADLEVDYPERLSRGLVLIKWWLLAIPHYLILAVFLSSGWRVFLIDPHDRVGIMWPSLLVILLLVAVVALLFTGRYPIGLYNL*\n",
      "\n",
      "(2142227, 2142533, 1, 9.256705267413068e-06)\n",
      "VSDNHDQATTLFHHAIDHPTVTVQQTYSLINPQSAPGRWTLIRWGPAGSLVLRITLCRVSELPARRSPRSNARDRCQAGTRTSWVSIRSATKKVSKPACVR*\n",
      "\n",
      "(2199074, 2199977, -1, 0.0006925810402974575)\n",
      "LRQASGLAREGAGTIGAAQRRVIYAVQDAHNAGFNVEEDLSVTDTRTSRTFAEQAARQAQAQALAGDIRQRATQLIGVEHEVAAKIATATAPLNTVGFHEPPIAPSLPTPVPHNEKPQIHAVDRSWKQDPPSPMPGDPKDMTAVQARAAWDAVNADIARYNARCGRTFVLPNEQAAYDACIADKGSLFERQAAIRARLGELGVPVEGEPPPAPDPAGPQPNEGLPPPGVSPPAESNLTVGPPSRPIQQARGGESLWDENGGEWRYFPGDNYRYPHWDYNPHDSPTARWQNIPIGDLPTHK*\n",
      "\n",
      "(2261097, 2261688, 1, 9.337304263112856e-10)\n",
      "VLHDRLTGAPRGATGDEGAANAHITRAMVAALTSVATQIKTLDAQIAEQLSLHADAHIFTSLPRSGTVRAARLLAEIGDCRARFPTPESLACLAGVAPSTRQSGKVKHVGFRWAADKQLRDAVCDFAGDSRRANLWAADRYNRAIARGHDHPHAVRILARAWLYAIWHCWQDGAAYHPANHRALQALLNQDQDRAA*\n",
      "\n",
      "(2268267, 2268726, -1, 0.00010493917094034355)\n",
      "VFEFFTQNTSVGQNANYYNCTVYKVPLIGSILYQFHWRRPIHSHMMHAQDRRPVTQLPTYDDHAQTKPLNEMPVDFAKEIVRLWRVFVKDLNNHTNLQFRPIGATAQTALASEINAAKRVRTNDVTQRQIAVGKETSRLEPNFSIPQIEWPA*\n",
      "\n",
      "(2534041, 2534485, -1, 2.4511048624109577e-06)\n",
      "VVLAVNSLHIAPLISYEMTFSDLTRHAARLGAALLVYQSSTSTFQGSWAQPQLAAQPAVRAVEAGIPAVHASLSGDSSAFDTRGRRLAWCSAEFNGAIVVNVPLASNVTLYLRLGDWVPVTAFVVMGAGFAVFLRRSLARVSDCADK*\n",
      "\n",
      "(2551547, 2552939, 1, 0.0)\n",
      "VRPPMSEMTARFSEIVGNANLLTGDAIPEDYAHDEELTGPPQKPAYAAKPATPEEVAQLLKAASENGVPVTARGSGCGLSGAARPVEGGLLISFDRMNKVLEVDTANQVAVVQPGVALTDLDAATADTGLRYTVYPGELSSSVGGNVGTNAGGMRAVKYGVARHNVLGLQAVLPTGEIIRTGGRMAKVSTGYDLTQLIIGSEGTLALVTEVIVKLHPRLDHNASVLAPFADFDQVMAAVPKILASGLAPDILEYIDNTSMAALISTQNLELGIPDQIRDSCEAYLLVALENRIADRLFEDIQTVGEMLMELGAVDAYVLEGGSARKLIEAREKAFWAAKALGADDIIDTVVPRASMPKFLSTARGLAAAADGAAVGCGHAGDGNVHMAIACKDPEKKKKLMTDIFALAMELGGAISGEHGVGRAKTGYFLELEDPVKISLMRRIKQSFDPAGILNPGVVFGDT*\n",
      "\n",
      "(2581842, 2582298, -1, 0.0)\n",
      "VTGAGIVETTTNRVRHVPVPEPVSERLRDELPTEPNALVFPSYRGGHLPIEEYRRAFDKGCKAVGIADLVPHGLRHTTASLAISAGANVKVVQRLLGHATAAMTLDRHGHLLSDDLAGVAGLLVQAIKSAAASLRYSDPDSVAVENISAAS*\n",
      "\n",
      "(2594698, 2595388, -1, 2.1911399861185288e-07)\n",
      "VLHAGDTPMTNLADATQATMALVERHAAHNYSPLPVVAASAEGAWIADIDGLRYLDWLAAYSAVNLGHRNPASTATAHAQVDTVTLLNRALHADRLGPLGAALAQLCGKDVVLPMNSDAEAVESGLRVARKWGADVNGLPAGRHDIILANNNFHGHTSSVVSFSSDPAAGSGVEPSTPGLRSVPFGDAAAPAQTIDDNTVADLLEPIPGQAGIIVPADDYLPAASSTTC*\n",
      "\n",
      "(2610393, 2610810, 1, 1.0039929998484354e-09)\n",
      "MARRGLLDLRQYPAADNAFFGAAHRRASSAASPRTGFRPRRIHLGPEVELLGLRQPKPGRYKRGLRIRPLCDAVCPTQAWKTSPSTSEITDSNWLLTAPAKRCRDANHYVDSNLWKALAVKSVTNLCLAIPCAKHAVA*\n",
      "\n",
      "(2614179, 2614656, 1, 2.530623712804214e-07)\n",
      "VSRWALINRRKPGFASIAESHRVAWRLLTLENKMYSLRQNKRRGNFARSSIPPRLTHILAAFPQPSPGITDQTLGLPTSGHGAKVDSQNMAVRDMGIHGTEPLRRPVRFNLHMSGAAAVVRYVEHRWRSGAGRLVFSCDASAPPRQPPRAKQVLMPQC*\n",
      "\n",
      "(2619079, 2619445, 1, 5.551115123125783e-16)\n",
      "VACTHQPRPARHQLGVGAQSCSGPYVDVAEPAPTLVGHVLLFGVAERSDLVAPNVYCRAGGRVCREKKEKPCRDWCDTPCAATRSENRTLAHQNPTQEAGQAEFKPNALLPREDSNLQPFG*\n",
      "\n",
      "(2637164, 2637527, -1, 0.00028510882396826087)\n",
      "LVRIGAHRASGTSHGRNGHMCHCTGRHPMCPALSDSCLTGGFVPELVVAVRDWRRALTCRNRVVALRWAQRPSPTARASVADVTKERYGQREQHSGQLSHLARHRGSAAPRLAVRASRYS*\n",
      "\n",
      "(2850574, 2850910, 1, 6.750155989720952e-14)\n",
      "MPQGTTKTTTVTLVSVVTDASHWQNTCMRPYRHRCGLGQAASPCDHYYGVIAYAPNGAMGKIVAPPHSRPGGYRRIRTLRRLSCKVLSNFTNYHGGVRRSRPLAEPGRATS*\n",
      "\n",
      "(3168171, 3168513, 1, 9.727475527743223e-06)\n",
      "VRPTEFDVGKRQGDGLLGHRGQGQAADVPGDVPLEGCSAARQDRLGALSGRRRGRVYRACPRGQRSRDDPADQHAHRSRHGVLVMSRRKRLVSSAFTVRPPQPKWTTLIVFRA*\n",
      "\n",
      "(3189850, 3190678, -1, 0.0)\n",
      "MVPELMFDEPRPGRPPRHLADLDAAGRASAVAELGLPAFRAKQLAHQYYGRLIADPRQMTDLPAAVRDRIAGAMFPNLLTASADITCDAGQTRKTLWRAVDGTMFESVLMRYPRRNTVCISSQAGCGMACPFCATGQGGLTRNLSTAEILEQVRAGAAALRDDFGDRLSNVVFMGMGGAAGQLRQGVGRSSAHYRAAAVRFRDFGPRGDGVDGGSGPCYPQPCRRAARRDPGAVAARPRRRVARYTSSGQQPVEDQRSARCGPVLRQCDRATGVY*\n",
      "\n",
      "(3302614, 3302932, 1, 7.661628220745342e-09)\n",
      "MGLTESSAAASALAAAPFAKHTVGLASLSLMSTVFDVDLLIVPERIRQRRAIRSIRSRRVAPAERCQTPQVTVQRPQPTDPAGTPCPHQHESRQARCGEAEPSNR*\n",
      "\n",
      "(3493599, 3494193, -1, 0.0)\n",
      "VLQRVWSASGGQCGKYLAASMVLQLDGLERHGVLEFGRDRYGPEVREELLAMSAASIDRYLKTAKAKDQISGVSTTKPSPLLRNSIKVRRAGDEVEAEPGFFEGDTVAHCGPTLKGEFAHTLNLTDVHIGWVFTRTVRNNARTHILAGLKASVTEIPHGITGLDFDNGTVFLNKPVISWAGDNGIYFTRFRPYKKNH*\n",
      "\n",
      "(3609780, 3610383, -1, 0.0)\n",
      "VVLTVIAGALGNWLMSRGEAVAPTATVRAMAPLSVYADDQLDSTGPGQAISQVTPFLVDLPVGEGNAVVRLSQIAHATESNPTAASLVDARTIVTLSGLAPATLHAMGVRVATSFSARLFNLLITNAPGTQSQMYIAGTKLLETYSVPPLLHNQALAISVTSYNGMLYFGINADRDAMSDVDLLPGLLSQALDELLEASR*\n",
      "\n",
      "(3723801, 3724548, 1, 0.0)\n",
      "VGEGRPAAGRHRPLRGICPHDGRPQRRTGLGHPVLSSAVLADHVERQLDELGWETSHIVGNSLGGWVAFELERRGRARSVTGIAPAGGWTRWSPVKFEVIAKFIAGAPILAVAHILGQRALRLPFSRLLATLPISATPDGVSERELSGIIDDAAHCPAYFQLLVKALVLPGLQELEHTAVPSHVVLCEQDRVVPPSRFSRHFTDSLPAGHRLTVLDGVGHVPMFEAPGRITELITSFIEECCPHVRAS*\n",
      "\n",
      "(3849293, 3850139, -1, 0.0)\n",
      "VFAELIRAGLQALIEAEATEAIGAGRYERSDGRIVHRNGHRPKTVSTTAGDIEVQIPKLRAGSFFPSLLERRRRIDKALHAVIMEAYVHGVSTRSVDDLVAAMGVQAGVSKSEVSRICAGLDTEIEAFRTRSLTHTEFPYVFCDATFCKVRVGAHVVSQALVVATGVSIDGTREVLGTAVGDSESYEFWREFLASLKARGLTGVHLVISDAHAGLKAAVAQQFSGASWQRCRVHFMRNLYTAVAAKHAPAVTVAVKTIFAHTDPEEVGAQWDRVADPLCQP*\n",
      "\n",
      "(3874758, 3876090, 1, 0.0)\n",
      "VVTNVIFATFTFIFFALEGSIMAQGLKLGLHIPLWAGYACSTLIIFPLVVYGMKVLSQLQLWTTPLWLILMAAPFGYLVVSHPDSIGQFFSYAGKDGHGGLSFGSVLLAAGVCLSLIAQIAEQIDYLRFMPPRTPENANRWWTWTLLAGPGWVAFGATKQIIGLFLAVYLMANIPGSSTIANQPVHQFMQIYRTFVPGWLALTLAVILVVLSQIKINVTNAYSGSLAWTNSFTRLTKHYPGRVVFLGVNLAIALILMEANMFDFLNTILGCYANCGMAWVVAVASDIGFNKYLLGLSPKTPEFRRGMLYAINPVGFGSLLLAAGLSIVTFFGGLGAALQPYSPLVAIVTALVMPPILAAATKGKYYLRRTHDGIDLPMYDEHGNPSAAVLTCHVCHQDFERPDMLACQTHGAHVCSLCLSTDKQAEHVLPGLARAHIPGDQVP*\n",
      "\n",
      "(3892370, 3893786, -1, 0.0)\n",
      "VLTSVTMVTVRRRDNANRMEDTMTVSIAPPSRPSQAETRRAIWNTIRGSSGNLVEWYDVYVYTVFATYFEDQFFDRADRNSTVYVYAIFAVTFVTRPVGSWFLGRFADRRGRRAALTFSVSLMAACSLIVALVPSRSSIGVAAPILLILCRLVQGFATGGEYGTSATYMSEAATRERRGYFSSFQYVTLVGGHVLAQFTLLVILAVFTREQVHEFGWRIGFAVGGGAAIVVFWLRRTMDESLSQERLTAIKAGRDHDSGSLRELATHYWKPLLLCFLVTLGGTVAFYTYSVNAPAIVKSVYGSQAMTATWINLVGLILLMMLQPIGGMISDKIGRKPLLLWFGVGGLIYTYVLVTYLPETRSPTMSFLLVAVGYVILTGYCSINALVKSELFPAHVRALGVGVGYALANSVFGGTAPLIYQALKERDQVPMFIAYVTACIAVSLIVYVFFIKNKADTYLDREQGFAFYGHA*\n",
      "\n",
      "(4100483, 4100786, -1, 5.151481130560853e-08)\n",
      "VAMTPRGCREPCWAPGSGDRTFSSGSSLGLTGLPWFLCTTRPLTQQGPILRKLRSGFGLRGLDVCCPPARARSGGLLRGPVPPRATVWPASSLGLKREAA*\n",
      "\n",
      "(4169794, 4170214, -1, 0.0)\n",
      "LDHRPALAGVAAQFWLQAAGGEIRALAYHAVHRVQAMRDRAVAVATNRVAIGTQLKRFRLVQGTDGYRRRAVLAQELSRRCAEQSDRGDVVCYLRGHRCRYRLHGYSRRYHSRGDITGHGRTLGVSTEHLPGLGTAHRH*\n",
      "\n",
      "(4198755, 4199058, -1, 5.358036236913222e-11)\n",
      "VTATASRSASKRSAYVSRVTFADLCPRIRCSAKTLTPADTAKLAAVCRKSCGVICWTFARFTAPQIRPRVGFGRGRRAPVSSSDQLVRSAGLDVTVLGGV*\n",
      "\n",
      "(4319784, 4320114, 1, 1.3877787807814457e-14)\n",
      "LTPDERQREPATRNGLRQAHRELSIGFSFSASFQSRATQSDARRDPSRLHTHPASRPSRLRPTTANEQLRPTRPRSNNTTARQQLITAQNTHPHQMQNPLTTNRESLHE*\n",
      "\n"
     ]
    }
   ],
   "source": [
    "trans = util.Translator()\n",
    "min_intergenic_length = 400\n",
    "details =  []\n",
    "results =[]\n",
    "for i, (locus, pseudo, product, start, stop, strand) in enumerate(cds_boundaries):\n",
    "    if i < len(cds_boundaries) - 1:\n",
    "        if cds_boundaries[i+1][3] > stop + min_intergenic_length:\n",
    "            a =ORFFinder.max_orf(stop-40, cds_boundaries[i+1][3]+40, 1e-3, output_all_orfs = False, min_orf_length = 300)\n",
    "            if not(a==(0,0,0)):\n",
    "                ov = 0\n",
    "                info = ('','','','','','','')\n",
    "                for i, (loc, pse, pro, sta, sto, stra) in enumerate(reannotated_cds_boundaries):\n",
    "                    if a[1] > sta and a[0] < sto:\n",
    "                        ov = (min(a[1], sto) - max(a[0], sta)) / (sto - sta)\n",
    "                        if ov > 0.3:\n",
    "                            info =  (loc, pse, pro, sta, sto, stra, ov)\n",
    "                        \n",
    "                ov = 0\n",
    "                myco_info = ('','','','','')\n",
    "                for i, (loc, sta, sto, stra) in enumerate(mycobrowser_features):\n",
    "                    if a[1] > sta and a[0] < sto:\n",
    "                        ov = (min(a[1], sto) - max(a[0], sta)) / (sto - sta)\n",
    "                        if ov > 0.3:\n",
    "                            myco_info =  (loc, sta, sto, stra, ov)\n",
    "                        \n",
    "                sequ = trans.translate_sequence(full_sequence[a[0]:a[1]], a[2], 0)\n",
    "                details.append([a, sequ])\n",
    "                print(a)\n",
    "                print(sequ)\n",
    "                #print(info)\n",
    "                #print(myco_info)\n",
    "                print(\"\")\n",
    "                results.append([a[0],a[1],a[2],a[3],info[0],info[1],info[2],info[3],info[4],info[5],info[6],myco_info[0],myco_info[1],myco_info[2],myco_info[3],myco_info[4]])\n",
    "results_df = pd.DataFrame(results, columns = ['start_pos','end_pos','strand','score','PGAP_ref','PGAP_pseudogene','PGAP_product', 'PGAP_start', 'PGAP_end','PGAP_strand', 'PGAP_overlap', 'Mycob_ref','Mycob_start', 'Mycob_end','Mycob_strand', 'Mycob_overlap'])\n",
    "results_df.to_csv(project_dir + '/cds_candidates.csv')"
   ]
  },
  {
   "cell_type": "code",
   "execution_count": 54,
   "id": "461965a6-e0d1-4bcb-bf99-b72ce6f44b0a",
   "metadata": {},
   "outputs": [
    {
     "data": {
      "text/plain": [
       "[['Rv3924c', 4410785, 4410929, -1]]"
      ]
     },
     "execution_count": 54,
     "metadata": {},
     "output_type": "execute_result"
    }
   ],
   "source": [
    "mycobrowser_features"
   ]
  },
  {
   "cell_type": "code",
   "execution_count": null,
   "id": "5d41ab5d-f662-42a3-8453-c9a3d1ea543d",
   "metadata": {},
   "outputs": [],
   "source": [
    "mutation_bin_probability(reversed(mutation_count_list[13132:13558]))"
   ]
  },
  {
   "cell_type": "code",
   "execution_count": 97,
   "id": "d5fafb52-c3ed-4ddd-adba-db9850e1d282",
   "metadata": {},
   "outputs": [
    {
     "name": "stdout",
     "output_type": "stream",
     "text": [
      "('tmp_002459', False, 'aminotransferase class III-fold pyridoxal phosphate-dependent enzyme', 2594698, 2595364, -1)\n"
     ]
    }
   ],
   "source": [
    "for i in reannotated_cds_boundaries:\n",
    "    if i[0] == \"tmp_002459\":\n",
    "        print(i)"
   ]
  },
  {
   "cell_type": "markdown",
   "id": "aa530f9c-e4a7-40c5-a2b1-9d1406a0ed16",
   "metadata": {
    "jp-MarkdownHeadingCollapsed": true,
    "tags": []
   },
   "source": [
    "#### Legacy code (might be useful - this is when tree was defined based on \"optimal splits\")"
   ]
  },
  {
   "cell_type": "code",
   "execution_count": null,
   "id": "2088ff74-0764-4245-b769-3ce991462a55",
   "metadata": {},
   "outputs": [],
   "source": [
    "def split_tree(species_to_split, position):\n",
    "    temp = fast_position_dict[position].intersection(species_to_split)\n",
    "    temp_2 = species_to_split - temp\n",
    "    if len(temp_2) > 1 and len(temp) > 1:\n",
    "        return ([(position, temp, len(temp)), (position, temp_2, len(temp_2))])\n",
    "    else:\n",
    "        return([(-1, species_to_split, len(species_to_split))])"
   ]
  },
  {
   "cell_type": "code",
   "execution_count": null,
   "id": "83bcd536-db90-4e91-b296-15599eab0414",
   "metadata": {},
   "outputs": [],
   "source": [
    "def optimal_split_position(species_to_split_list):\n",
    "    best_split_num = 1e20\n",
    "    best_position = 0\n",
    "    #for k in barcode_snps:\n",
    "    for k, v in fast_position_dict.items():\n",
    "        #v = fast_position_dict[k]\n",
    "        mutation_count = 0\n",
    "        for species_to_split in species_to_split_list:\n",
    "            num_species_to_split = len(species_to_split)\n",
    "            optimal_split = int(num_species_to_split/2)\n",
    "            mutation_count += abs(len(v.intersection(species_to_split)) - optimal_split)\n",
    "       \n",
    "        if abs(mutation_count) < abs(best_split_num):\n",
    "            best_position = k\n",
    "            best_split_num = abs(mutation_count)\n",
    "          \n",
    "    return(best_position, best_split_num)"
   ]
  },
  {
   "cell_type": "code",
   "execution_count": null,
   "id": "ff5f5aeb-1f8f-4449-a79d-61a7833a6d72",
   "metadata": {},
   "outputs": [],
   "source": [
    "all_species = [[-1,set(x for x in range(len(id_dict))),99,True]]\n",
    "pos = optimal_split_position([x[1] for x in all_species])[0]\n",
    "split_results = [split_tree(all_species[0][1], pos)]\n",
    "print( [(x[0], x[2]) for x in split_results[0]] )\n",
    "for i in range(1,10):\n",
    "    start = time.process_time()\n",
    "    split_results.append([])\n",
    "    posn = optimal_split_position([x[1] for x in split_results[i-1]])\n",
    "    pos= posn[0]\n",
    "    split_score = posn[1]\n",
    "    successful_splits = 0\n",
    "    for x in split_results[i-1]:\n",
    "        temp = split_tree(x[1], pos) \n",
    "        if len(temp) == 1:\n",
    "            split_results[i].append(temp[0])\n",
    "        else:\n",
    "            successful_splits +=1\n",
    "            split_results[i].append(temp[0])\n",
    "            split_results[i].append(temp[1])\n",
    "    print(max([x[2] for x in split_results[i]]), [(x[0], x[2]) for x in split_results[i]] )\n",
    "    if successful_splits == 0:\n",
    "        break"
   ]
  },
  {
   "cell_type": "code",
   "execution_count": null,
   "id": "7b4cd57d-ec97-4cd8-a443-b48a16127802",
   "metadata": {},
   "outputs": [],
   "source": [
    "temp = []\n",
    "for res in split_results:\n",
    "    for info in res:\n",
    "        temp.append(info[0])\n",
    "snps = set(temp)\n",
    "snps.remove(-1)"
   ]
  },
  {
   "cell_type": "code",
   "execution_count": null,
   "id": "fda34318-083f-4e03-ba66-34d57db11940",
   "metadata": {},
   "outputs": [],
   "source": [
    "def consensus(seq_list):\n",
    "    consensus = []\n",
    "    seq_len = len(seq_list[0])\n",
    "    for i in range(seq_len):\n",
    "        temp = [x[i] for x in seq_list]\n",
    "        max_count = 0\n",
    "        consensus_letter = 'X'\n",
    "        for letter in ['A', 'C' ,'G', 'T']:\n",
    "            tempct = temp.count(letter)\n",
    "            if tempct > max_count:\n",
    "                max_count = tempct\n",
    "                consensus_letter = letter\n",
    "        consensus.append(consensus_letter)\n",
    "    return ''.join(consensus)"
   ]
  },
  {
   "cell_type": "code",
   "execution_count": null,
   "id": "adf9a4de-bd5b-40b8-a247-9a907ed4c342",
   "metadata": {},
   "outputs": [],
   "source": []
  }
 ],
 "metadata": {
  "kernelspec": {
   "display_name": "Python 3 (ipykernel)",
   "language": "python",
   "name": "python3"
  },
  "language_info": {
   "codemirror_mode": {
    "name": "ipython",
    "version": 3
   },
   "file_extension": ".py",
   "mimetype": "text/x-python",
   "name": "python",
   "nbconvert_exporter": "python",
   "pygments_lexer": "ipython3",
   "version": "3.9.7"
  }
 },
 "nbformat": 4,
 "nbformat_minor": 5
}
