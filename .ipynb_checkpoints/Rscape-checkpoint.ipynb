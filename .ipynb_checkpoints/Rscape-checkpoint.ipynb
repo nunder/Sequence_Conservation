{
 "cells": [
  {
   "cell_type": "code",
   "execution_count": 1,
   "id": "5d24f991-5e62-4643-a8c3-d08ddaacc4e5",
   "metadata": {},
   "outputs": [],
   "source": [
    "import pandas as pd\n",
    "import os\n",
    "import subprocess\n",
    "from Comparative_Analysis import Utilities as util\n",
    "from Bio import AlignIO\n",
    "from tqdm.auto import tqdm"
   ]
  },
  {
   "cell_type": "code",
   "execution_count": 2,
   "id": "a9cf265f-c49c-41b8-a124-512f9b71ae81",
   "metadata": {
    "tags": []
   },
   "outputs": [],
   "source": [
    "project_dir = 'D:/Project_Data/Project_7'\n",
    "dataset_loc = project_dir + '/NCBI_Dataset_Corynebacteriales'\n",
    "r_scape_output_loc = project_dir + '/R_Scape_Results'\n",
    "merged_file_loc = dataset_loc + '/merged_file.txt'\n",
    "intergenic_alignment_loc = project_dir + '/UTR_Alignments/Full_Ortholog'\n",
    "wsl_merged_file_loc = util.wslname(merged_file_loc)\n",
    "with open(merged_file_loc, 'w') as outfile:\n",
    "    for dir in util.list_dirs(dataset_loc):\n",
    "        directory = dataset_loc + '/' + dir\n",
    "        for file in util.list_files(directory):\n",
    "            if file.endswith(\"genomic.fna\"):\n",
    "                with open(directory + '/' + file, encoding=\"utf-8\", errors='ignore') as infile:\n",
    "                    outfile.write(infile.read())"
   ]
  },
  {
   "cell_type": "code",
   "execution_count": 3,
   "id": "6ca2d9a0-c84a-4ae9-bcd2-b32911ac7f58",
   "metadata": {},
   "outputs": [],
   "source": [
    "alignment_ids = ['.'.join(x.split('.')[:-1]) for x in util.list_files(intergenic_alignment_loc)]"
   ]
  },
  {
   "cell_type": "code",
   "execution_count": null,
   "id": "157655cd-5117-488b-8f93-8375318a0546",
   "metadata": {},
   "outputs": [],
   "source": [
    "for alignment_id in tqdm(alignment_ids):\n",
    "    intergenic_file = alignment_id + '.fasta'\n",
    "    analysis_directory = r_scape_output_loc + '/' + alignment_id[6:]\n",
    "    wsl_analysis_directory = util.wslname(analysis_directory)\n",
    "    if not os.path.exists(analysis_directory):\n",
    "        os.makedirs(analysis_directory)\n",
    "    intergenic_region_alignment = intergenic_alignment_loc + '/' + intergenic_file\n",
    "    alignment = AlignIO.read(intergenic_region_alignment, \"fasta\")\n",
    "    AlignIO.write(alignment, analysis_directory + '/initial_align.sto', \"stockholm\");\n",
    "\n",
    "    # Initial run with HMM\n",
    "\n",
    "    subprocess.run('wsl cd ' + wsl_analysis_directory + ' ; cmbuild --noss -F initial_cm.cm initial_align.sto'  , shell=True)\n",
    "    subprocess.run('wsl cd ' + wsl_analysis_directory + ' ; cmsearch -A initial_search.sto initial_cm.cm ' + wsl_merged_file_loc  , shell=True) \n",
    "\n",
    "    # Second run with CM\n",
    "\n",
    "    subprocess.run('wsl cd ' + wsl_analysis_directory + ' ; cmbuild -F interim_cm.cm initial_search.sto'  , shell=True)\n",
    "    subprocess.run('wsl cd ' + wsl_analysis_directory + ' ; cmcalibrate interim_cm.cm', shell= True)\n",
    "    subprocess.run('wsl cd ' + wsl_analysis_directory + ' ; cmsearch -A interim_search.sto interim_cm.cm ' + wsl_merged_file_loc  , shell=True)  \n",
    "    subprocess.run('wsl cd ' + wsl_analysis_directory + ' ; ~/rscape_v2.0.0.g/bin/R-scape --cacofold --outname rscape_interim interim_search.sto'  , shell=True)\n",
    "\n",
    "    # Final run with CaCofold CM\n",
    "\n",
    "    subprocess.run('wsl cd ' + wsl_analysis_directory + ' ; cmbuild -F final_cm.cm rscape_interim.cacofold.sto'  , shell=True)\n",
    "    subprocess.run('wsl cd ' + wsl_analysis_directory + ' ; cmcalibrate final_cm.cm', shell= True)\n",
    "    subprocess.run('wsl cd ' + wsl_analysis_directory + ' ; cmsearch -A final_search.sto final_cm.cm ' + wsl_merged_file_loc  , shell=True)  \n",
    "    subprocess.run('wsl cd ' + wsl_analysis_directory + ' ; ~/rscape_v2.0.0.g/bin/R-scape --cacofold --outname rscape_final final_search.sto'  , shell=True)"
   ]
  },
  {
   "cell_type": "code",
   "execution_count": null,
   "id": "6139061b-3b7d-4eef-8e55-5f1431f52015",
   "metadata": {},
   "outputs": [],
   "source": []
  },
  {
   "cell_type": "code",
   "execution_count": null,
   "id": "20e9c1bc-5d0b-4b7e-ad02-2ac82f6b4f19",
   "metadata": {},
   "outputs": [],
   "source": []
  }
 ],
 "metadata": {
  "kernelspec": {
   "display_name": "Python 3 (ipykernel)",
   "language": "python",
   "name": "python3"
  },
  "language_info": {
   "codemirror_mode": {
    "name": "ipython",
    "version": 3
   },
   "file_extension": ".py",
   "mimetype": "text/x-python",
   "name": "python",
   "nbconvert_exporter": "python",
   "pygments_lexer": "ipython3",
   "version": "3.9.7"
  }
 },
 "nbformat": 4,
 "nbformat_minor": 5
}
