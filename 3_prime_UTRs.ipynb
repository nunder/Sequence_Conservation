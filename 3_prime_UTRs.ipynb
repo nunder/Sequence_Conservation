{
 "cells": [
  {
   "cell_type": "code",
   "execution_count": 1,
   "id": "9c5181b7-3b50-4aca-84d8-e6ad809c14fa",
   "metadata": {},
   "outputs": [],
   "source": [
    "full_run = False"
   ]
  },
  {
   "cell_type": "code",
   "execution_count": 2,
   "id": "898a25bb-a79e-4516-9f4d-7315c4699f40",
   "metadata": {},
   "outputs": [],
   "source": [
    "import pandas as pd\n",
    "pd.options.mode.chained_assignment = None  # default='warn'\n",
    "import pickle\n",
    "import seaborn as sns\n",
    "import matplotlib.pyplot as plt\n",
    "import numpy as np\n",
    "from Bio import Entrez, SeqIO, AlignIO, pairwise2, Align, Seq, motifs\n",
    "from Bio.Seq import Seq\n",
    "from Bio.SeqFeature import SeqFeature, FeatureLocation\n",
    "from scipy.stats import binom\n",
    "import math\n",
    "from tqdm.auto import tqdm\n",
    "from Comparative_Analysis import Sequence_Analysis_Routines as sar\n",
    "from Comparative_Analysis import Utilities as util\n",
    "from Comparative_Analysis import Alignment as align\n",
    "import random\n",
    "import copy\n",
    "from joblib import Parallel, delayed\n",
    "import os\n",
    "import shutil\n",
    "import subprocess\n",
    "from Bio.Blast import NCBIWWW, NCBIXML\n",
    "from Bio.Align.Applications import MuscleCommandline\n",
    "muscle_exe = 'C:/Users/nicho/Muscle/muscle3.8.31_i86win32.exe'"
   ]
  },
  {
   "cell_type": "code",
   "execution_count": 3,
   "id": "6a0b5574-5195-4364-a0c6-0f649d3f8d2c",
   "metadata": {},
   "outputs": [],
   "source": [
    "project_dir = 'D:/Project_Data/Project_7'\n",
    "literature_datasets_dir = project_dir + '/Data_From_Publications'\n",
    "output_dir = project_dir + '/Output'\n",
    "refseq_dir = project_dir + '/NCBI_Dataset_Mycobacteria'\n",
    "num_cores = 8\n",
    "core_numbers = list(range(1, num_cores+1))"
   ]
  },
  {
   "cell_type": "code",
   "execution_count": 4,
   "id": "0450d244-1510-48ff-b251-40510173eee5",
   "metadata": {},
   "outputs": [],
   "source": [
    "species_list = util.list_dirs(refseq_dir)\n",
    "reference_species = 'GCF_000195955.2'\n",
    "outgroup_species = 'GCF_000696675.2'\n",
    "#species_list = species_list[4:6]    #For testing\n",
    "species_list_excl_ref = [x for x in species_list if x!= reference_species]\n",
    "num_species = len(species_list)"
   ]
  },
  {
   "cell_type": "code",
   "execution_count": 5,
   "id": "21eaf76c-ebec-4227-9ee2-0ee10c857a39",
   "metadata": {},
   "outputs": [],
   "source": [
    "ref_genome_record = next(SeqIO.parse(refseq_dir + '/'+reference_species+'/genomic.gbff', \"genbank\"))\n",
    "reference_sequence_length = len(str(ref_genome_record.seq))\n",
    "translator = util.Translator()"
   ]
  },
  {
   "cell_type": "code",
   "execution_count": 6,
   "id": "a8665e30-5cdc-4d28-9bb4-569344f3e950",
   "metadata": {},
   "outputs": [],
   "source": [
    "def process_blast_output(infile_loc, outfile_loc):\n",
    "    blast_results = pd.read_csv(infile_loc, header = None)\n",
    "    blast_results.columns = ['query_ref', 'target_ref', 'query_length', 'subject_length', 'percent_identical_matches','alignment_length', 'number_mismatches', 'number_of_gap_openings', 'query_start_alignment', 'query_end_alignment', 'target_start_alignment', 'target_end_alignment', 'e_value', 'bit_score']\n",
    "    for i, r in blast_results.iterrows():\n",
    "        blast_results.at[i, 'query_species'] = '_'.join(r.query_ref.split('_')[0:2])\n",
    "        blast_results.at[i, 'target_species'] = '_'.join(r.target_ref.split('_')[0:2])\n",
    "    blast_results['query_species_name'] = blast_results['query_species'].map(names_dict)\n",
    "    blast_results['target_species_name'] = blast_results['target_species'].map(names_dict)\n",
    "    blast_results = blast_results.loc[blast_results.groupby(['query_ref','target_species'])['bit_score'].idxmax()]\n",
    "    blast_results['species_count'] = blast_results.groupby('query_ref')['query_ref'].transform('size')\n",
    "    with open(outfile_loc, 'wb') as f:\n",
    "        pickle.dump(blast_results, f)\n",
    "    return blast_results"
   ]
  },
  {
   "cell_type": "code",
   "execution_count": 7,
   "id": "8a8c8ad6-b9be-4076-a34e-083317a6391e",
   "metadata": {},
   "outputs": [],
   "source": [
    "def keep_reciprocal_best_hits(query_df, reverse_query_df, outfile_loc):\n",
    "    temp_1_dict = {}\n",
    "    temp_2_dict = {}\n",
    "    for i, r in query_df.iterrows():\n",
    "        temp_1_dict[r['query_ref']] = r['target_ref']\n",
    "    for i, r in reverse_query_df.iterrows():\n",
    "        temp_2_dict[r['query_ref']] = r['target_ref']\n",
    "    for i, r in query_df.iterrows():\n",
    "        if temp_1_dict[r['query_ref']] in temp_2_dict and temp_2_dict[temp_1_dict[r['query_ref']]] == r['query_ref']:\n",
    "            query_df.at[i, 'reciprocal_best_hit'] = 'Y'\n",
    "        else:\n",
    "            query_df.at[i, 'reciprocal_best_hit'] = 'N'\n",
    "    output = query_df[query_df.reciprocal_best_hit == 'Y'] \n",
    "    with open(outfile_loc, 'wb') as f:\n",
    "        pickle.dump(output, f)\n",
    "    return output"
   ]
  },
  {
   "cell_type": "code",
   "execution_count": 22,
   "id": "2616d0d9-b446-472c-a198-5ced3637aa18",
   "metadata": {},
   "outputs": [],
   "source": [
    "def generate_myco_info(num_subsets, subset_num, species_master_list):\n",
    "    output = []\n",
    "    species_list = util.chunk_list(species_master_list, num_subsets, subset_num)\n",
    "    for species in species_list:\n",
    "        features = []\n",
    "        genome_record = next(SeqIO.parse(refseq_dir + '/'+species+'/genomic.gbff', \"genbank\"))\n",
    "        full_sequence = str(genome_record.seq)\n",
    "        if full_sequence.count('A') + full_sequence.count('C') + full_sequence.count('G') + full_sequence.count('T') < len(full_sequence):\n",
    "            continue\n",
    "        organism = genome_record.annotations['organism']\n",
    "        \n",
    "        #  Read feature information\n",
    "        if species == reference_species:\n",
    "            mycobrowser_df = pd.read_excel(literature_datasets_dir+'/Mycobrowser_Release_4.xlsx')\n",
    "            for i, r in mycobrowser_df.iterrows():\n",
    "                if r['Feature'] == 'CDS':\n",
    "                    if r['Strand'] == '+':\n",
    "                        strand = 1\n",
    "                    else:\n",
    "                        strand = -1\n",
    "                    features.append([r['Locus'],r['Start']-1, r['Stop'], strand])\n",
    "            \n",
    "        else:\n",
    "            \n",
    "            for feature in genome_record.features:\n",
    "                    a = feature.qualifiers\n",
    "                    if feature.type == 'CDS' and a.get(\"locus_tag\")!= None and int(feature.location.end) - int(feature.location.start) < 100000:  #  Exclude strange Biopython parsing where starts with complement join and looks like a CDS is full length of genome!   \n",
    "                        locus_tag = a.get(\"locus_tag\")[0]\n",
    "                        features.append([locus_tag, int(feature.location.start), int(feature.location.end), int(feature.location.strand)])\n",
    "        \n",
    "        features.sort(key=lambda x: x[1])\n",
    "        \n",
    "        feature_info = []\n",
    "        for i, feature in enumerate(features):\n",
    "            if feature[1] < feature[2]:         \n",
    "                cds_aa_sequence = translator.translate_sequence(full_sequence[feature[1]:feature[2]],feature[3], 0)                                                                                           \n",
    "                if (i + 1)< len(features) and feature[3] == 1 and feature[2] < features[i+1][1]:\n",
    "                    feature_info.append([species, feature[0], cds_aa_sequence, full_sequence[feature[2]: features[i+1][1]], feature])\n",
    "                elif (i > 0) and feature[3] == -1 and features[i-1][2] < feature[1]:\n",
    "                    feature_info.append([species, feature[0], cds_aa_sequence, util.reverse_complement(full_sequence[features[i-1][2]: feature[1]]), feature])\n",
    "                else:\n",
    "                    feature_info.append([species, feature[0], cds_aa_sequence, '', feature])\n",
    "\n",
    "        output.append((species, organism, feature_info))\n",
    "    return output"
   ]
  },
  {
   "cell_type": "code",
   "execution_count": 23,
   "id": "40d5262c-20f8-496f-a241-2d60c488e767",
   "metadata": {},
   "outputs": [],
   "source": [
    "if full_run == True:\n",
    "    myco_info_dict = {}\n",
    "    protein_info_dict = {}\n",
    "    names_dict = {}\n",
    "    parallel_output = Parallel(n_jobs=-1)(delayed(generate_myco_info)(num_cores, core_number, species_list) for core_number in core_numbers)\n",
    "    for core_output in parallel_output:\n",
    "        for results in core_output:\n",
    "            myco_info_dict[results[0]] = (results[1], results[2])\n",
    "            for feature in results[2]:\n",
    "                protein_info_dict[feature[0] + '_' + feature[1]] = feature\n",
    "            names_dict[results[0]] = results[1]"
   ]
  },
  {
   "cell_type": "code",
   "execution_count": 24,
   "id": "601b1f9b-8303-4beb-adb2-0b4a0941fd2f",
   "metadata": {},
   "outputs": [
    {
     "name": "stderr",
     "output_type": "stream",
     "text": [
      "100%|██████████| 412288/412288 [00:01<00:00, 258878.80it/s]\n",
      "100%|██████████| 4031/4031 [00:00<00:00, 237111.55it/s]\n"
     ]
    }
   ],
   "source": [
    "if full_run == True:\n",
    "    comparison_protein_list = []\n",
    "    reference_protein_list = []\n",
    "    for species in species_list:\n",
    "        for feature_info in myco_info_dict[species][1]:\n",
    "            comparison_protein_list.append([feature_info[0]+'_'+feature_info[1],feature_info[2][:-1]])\n",
    "    \n",
    "    for feature_info in myco_info_dict[reference_species][1]:\n",
    "            reference_protein_list.append([feature_info[0]+'_'+feature_info[1],feature_info[2][:-1]])\n",
    "    util.produce_fasta_file(comparison_protein_list, 'D:/BLAST/comp_prot/comparison_proteins.faa')\n",
    "    util.produce_fasta_file(reference_protein_list, 'D:/BLAST/ref_prot/reference_proteins.faa')"
   ]
  },
  {
   "cell_type": "code",
   "execution_count": 117,
   "id": "3b888e74-a7c0-4a4b-90a8-e27d6215257a",
   "metadata": {},
   "outputs": [],
   "source": [
    "if full_run == True:\n",
    "    w_d = os.getcwd()\n",
    "    os.chdir(\"D:/\")\n",
    "    subprocess.run('cd D:/BLAST/comp_prot &  makeblastdb -in comparison_proteins.faa -dbtype prot -out d://BLAST//comp_prot//comp_prot', shell=True, capture_output = True)\n",
    "    subprocess.run('cd D:/BLAST/ref_prot &  makeblastdb -in reference_proteins.faa -dbtype prot -out d://BLAST//ref_prot//ref_prot', shell=True, capture_output = True)\n",
    "    os.chdir(w_d)"
   ]
  },
  {
   "cell_type": "code",
   "execution_count": 118,
   "id": "6d726ba4-9d93-4ba4-964b-97f5265233ef",
   "metadata": {},
   "outputs": [],
   "source": [
    "if full_run == True:\n",
    "    w_d = os.getcwd()\n",
    "    os.chdir(\"D:/\")\n",
    "    subprocess.run('cd d:\\\\BLAST\\\\comp_prot & blastp -query D:/BLAST/ref_prot/reference_proteins.faa -db comp_prot -out ref_comp_hits.csv -evalue 1e-10 -seg no -outfmt  \"10 qaccver saccver qlen slen pident length mismatch gapopen qstart qend sstart send evalue bitscore\" -num_threads 16', shell=True, capture_output = True)\n",
    "    subprocess.run('cd d:\\\\BLAST\\\\ref_prot & blastp -query D:/BLAST/comp_prot/comparison_proteins.faa -db ref_prot -out comp_ref_hits.csv -evalue 1e-10 -seg no -outfmt  \"10 qaccver saccver qlen slen pident length mismatch gapopen qstart qend sstart send evalue bitscore\" -num_threads 16', shell=True, capture_output = True)\n",
    "    os.chdir(w_d)"
   ]
  },
  {
   "cell_type": "code",
   "execution_count": 25,
   "id": "cd5596d4-e4a7-40ae-bf6d-6b42af637110",
   "metadata": {},
   "outputs": [],
   "source": [
    "if full_run == True:\n",
    "    blast_results_rc = process_blast_output('D:\\\\BLAST\\\\comp_prot\\\\ref_comp_hits.csv', project_dir + '/blast_results_rc.pkl')\n",
    "    blast_results_cr = process_blast_output('D:\\\\BLAST\\\\ref_prot\\\\comp_ref_hits.csv', project_dir + '/blast_results_cr.pkl')\n",
    "    rbh_results = keep_reciprocal_best_hits(blast_results_rc, blast_results_cr, project_dir + '/rbh_results.pkl')\n",
    "    rbh_results['query_info'] = rbh_results['query_ref'].map(protein_info_dict)\n",
    "    rbh_results['target_info'] = rbh_results['target_ref'].map(protein_info_dict)\n",
    "    organism_names = rbh_results[['target_species','target_species_name']].drop_duplicates().reset_index(drop=True)\n",
    "    organism_dict = {}\n",
    "    for i, r in organism_names.iterrows():\n",
    "        if 'BCG' in r['target_species_name']:\n",
    "            organism_names.at[i,'sname'] = 'M.bovis_BCG'\n",
    "        elif 'AF2122' in r['target_species_name']:\n",
    "            organism_names.at[i,'sname'] = 'M.bovis_AF2122/97'\n",
    "        else:\n",
    "            organism_names.at[i,'sname'] = r['target_species_name'][0] + '.' + r['target_species_name'].split(' ')[1]\n",
    "    for i, r in organism_names.iterrows():\n",
    "        organism_dict[r['target_species']] = r['sname']\n",
    "    rbh_results['target_species_sname'] = rbh_results['target_species'].map(organism_dict)\n",
    "    for i, r in rbh_results.iterrows():\n",
    "        rbh_results.at[i,'query_start'] = r['query_info'][4][1]\n",
    "        rbh_results.at[i,'target_start'] = r['target_info'][4][1]\n",
    "        rbh_results.at[i,'target_utr'] = r['target_info'][3]\n",
    "        rbh_results.at[i,'target_cds'] = r['target_info'][2][:-1]\n",
    "    blast_results_rc.to_csv(project_dir + '/blast_results_rc.csv')\n",
    "    blast_results_cr.to_csv(project_dir + '/blast_results_cr.csv')   "
   ]
  },
  {
   "cell_type": "code",
   "execution_count": 26,
   "id": "19687597-1c31-432f-b36d-7b4e7f9abd6f",
   "metadata": {},
   "outputs": [],
   "source": [
    "query_refs = rbh_results[['query_ref']].drop_duplicates().reset_index(drop=True)['query_ref'].to_list()"
   ]
  },
  {
   "cell_type": "code",
   "execution_count": 27,
   "id": "a75397b3-0d0c-4d2e-a747-dff3c070d9b3",
   "metadata": {},
   "outputs": [],
   "source": [
    "def run_alignments(num_subsets, subset_num, field_name, directory, ref_master_list):\n",
    "    ref_list = util.chunk_list(ref_master_list, num_subsets, subset_num)\n",
    "    for ref in ref_list:\n",
    "        temp_df = rbh_results[rbh_results.query_ref == ref]\n",
    "        seq_list = []\n",
    "        for i, r in temp_df.iterrows():\n",
    "            if len(r[field_name]) > 0:\n",
    "                seq_list.append([r['target_species_sname'], r[field_name]])\n",
    "        util.produce_fasta_file(seq_list, project_dir+'/testseq_'+str(subset_num)+'.fasta')\n",
    "        cline = MuscleCommandline(muscle_exe, input=project_dir+'/testseq_'+str(subset_num)+'.fasta', out=directory + '/All/align_'+ ref +'.fasta')\n",
    "        try:\n",
    "            stdout, stderr = cline()\n",
    "        except Exception as e:\n",
    "            continue\n",
    "        temp = util.read_fasta_to_array(directory + '/All/align_'+ ref +'.fasta', species_order = [])\n",
    "        num_sequences = len(temp[0])\n",
    "        if num_sequences == num_species:\n",
    "            shutil.copyfile(directory + '/All/align_'+ ref +'.fasta', directory +'/Full_Ortholog/align_'+ ref +'.fasta')"
   ]
  },
  {
   "cell_type": "code",
   "execution_count": 28,
   "id": "0118534b-4a82-4cda-9064-90115486049b",
   "metadata": {},
   "outputs": [],
   "source": [
    "if full_run == True:\n",
    "    Parallel(n_jobs=-1)(delayed(run_alignments)(num_cores, core_number, 'target_cds', project_dir + '/CDS_Alignments', query_refs) for core_number in core_numbers)\n",
    "    Parallel(n_jobs=-1)(delayed(run_alignments)(num_cores, core_number, 'target_utr', project_dir + '/UTR_Alignments', query_refs) for core_number in core_numbers)"
   ]
  },
  {
   "cell_type": "markdown",
   "id": "b7d20d3b-7240-47e7-9e67-b702f0326e83",
   "metadata": {},
   "source": [
    "##### Build tree from full orthologs"
   ]
  },
  {
   "cell_type": "code",
   "execution_count": 21,
   "id": "119b9166-5ff9-4e13-8a47-c22edf3c528b",
   "metadata": {},
   "outputs": [
    {
     "data": {
      "text/plain": [
       "CompletedProcess(args='cd \\\\users\\\\nicho\\\\IQTree & bin\\\\iqtree2 -q D:/Project_Data/Project_7/CDS_Alignments/Full_Ortholog/ --prefix D:/Project_Data/Project_7/CDS_Alignments/Full_Ortholog_Tree/CDS_Full_Ortholog_Tree -m LG -B 1000 -T AUTO -o R.erythropolis', returncode=0)"
      ]
     },
     "execution_count": 21,
     "metadata": {},
     "output_type": "execute_result"
    }
   ],
   "source": [
    "subprocess.run('cd \\\\users\\\\nicho\\\\IQTree & bin\\\\iqtree2 -q ' + project_dir + '/CDS_Alignments/Full_Ortholog/' + ' --prefix '+ project_dir + '/CDS_Alignments/Full_Ortholog_Tree/CDS_Full_Ortholog_Tree -m LG -B 1000 -T AUTO -o ' + organism_dict['GCF_000696675.2'], shell=True)"
   ]
  },
  {
   "cell_type": "markdown",
   "id": "09b7744e-9799-4915-b477-8b25bff5625c",
   "metadata": {},
   "source": [
    "###### Insert blank sequences for display and delete gaps"
   ]
  },
  {
   "cell_type": "code",
   "execution_count": 32,
   "id": "4a87f394-00bb-4c34-b007-b4bd7286333e",
   "metadata": {},
   "outputs": [
    {
     "name": "stderr",
     "output_type": "stream",
     "text": [
      "100%|██████████| 78/78 [00:00<?, ?it/s]\n"
     ]
    }
   ],
   "source": [
    "temp = util.read_fasta_to_array(project_dir+'/UTR_Alignments/All/align_GCF_000195955.2_Rv0044c.fasta', species_order = [])\n",
    "sequence_length = len(temp[1][0])\n",
    "blank_seq = '-' * sequence_length\n",
    "sequence_names = temp[0]\n",
    "sequences = temp[1]\n",
    "for k, v in organism_dict.items():\n",
    "    if not(v in sequence_names):\n",
    "        sequence_names.append(v)\n",
    "        sequences.append(blank_seq)\n",
    "for i, name in enumerate(sequence_names):\n",
    "    if name == organism_dict[reference_species]:\n",
    "        ref_species_index = i\n",
    "ref_insert_positions = []\n",
    "for i, letter in enumerate(sequences[ref_species_index]):\n",
    "    if letter == '-':\n",
    "        ref_insert_positions.append(i)\n",
    "insert_deleted_sequences = []\n",
    "for sequence in sequences:\n",
    "    temp_letter_list = []\n",
    "    for i,letter in enumerate(sequence):\n",
    "        if i in ref_insert_positions:\n",
    "            continue\n",
    "        else:\n",
    "            temp_letter_list.append(sequence[i])\n",
    "    insert_deleted_sequences.append(''.join(temp_letter_list))\n",
    "sequence_info = []\n",
    "for (sequence_name, sequence) in zip(sequence_names, insert_deleted_sequences):\n",
    "    sequence_info.append([sequence_name, sequence])\n",
    "util.produce_fasta_file(sequence_info,project_dir+ '/UTR_Alignments/All_Deleted_Gaps/align_GCF_000195955.2_Rv0044c.fasta')            "
   ]
  },
  {
   "cell_type": "code",
   "execution_count": 36,
   "id": "a1d755a3-2e89-493a-a61b-7a7774fd32e2",
   "metadata": {},
   "outputs": [
    {
     "data": {
      "text/plain": [
       "0"
      ]
     },
     "execution_count": 36,
     "metadata": {},
     "output_type": "execute_result"
    }
   ],
   "source": [
    "subprocess.call ('C:/\"Program Files\"/R/R-4.1.2/bin/x64/Rscript --vanilla D:/Project_Data/Project_7/R_Scripts/Motif_Plots.R', shell=True)"
   ]
  },
  {
   "cell_type": "code",
   "execution_count": null,
   "id": "e068072d-891d-43ce-95cd-bc7b16bd291a",
   "metadata": {},
   "outputs": [],
   "source": [
    "plt.figure(figsize=(12, 12))\n",
    "g = sns.FacetGrid(rbh_results, col='target_species_name', height=5, col_wrap=3)\n",
    "g.map(sns.scatterplot, 'target_start', 'query_start', s=2)\n",
    "g.set_titles(row_template = '{row_name}', col_template = '{col_name}')"
   ]
  },
  {
   "cell_type": "code",
   "execution_count": 152,
   "id": "0c5e15f5-a9e5-400a-9301-cde2a44691be",
   "metadata": {},
   "outputs": [
    {
     "data": {
      "text/plain": [
       "'R.erythropolis'"
      ]
     },
     "execution_count": 152,
     "metadata": {},
     "output_type": "execute_result"
    }
   ],
   "source": [
    "organism_dict['GCF_000696675.2']"
   ]
  },
  {
   "cell_type": "code",
   "execution_count": null,
   "id": "d16a8e68-a3d8-4fe3-a768-a7bca0e2216a",
   "metadata": {},
   "outputs": [],
   "source": []
  }
 ],
 "metadata": {
  "kernelspec": {
   "display_name": "Python 3 (ipykernel)",
   "language": "python",
   "name": "python3"
  },
  "language_info": {
   "codemirror_mode": {
    "name": "ipython",
    "version": 3
   },
   "file_extension": ".py",
   "mimetype": "text/x-python",
   "name": "python",
   "nbconvert_exporter": "python",
   "pygments_lexer": "ipython3",
   "version": "3.9.7"
  }
 },
 "nbformat": 4,
 "nbformat_minor": 5
}
